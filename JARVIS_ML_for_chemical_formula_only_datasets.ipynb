{
  "nbformat": 4,
  "nbformat_minor": 0,
  "metadata": {
    "colab": {
      "name": "JARVIS-ML for chemical formula only datasets.ipynb",
      "provenance": [],
      "authorship_tag": "ABX9TyO1mUR/XjcLCDOKi285NqQf",
      "include_colab_link": true
    },
    "kernelspec": {
      "name": "python3",
      "display_name": "Python 3"
    },
    "language_info": {
      "name": "python"
    }
  },
  "cells": [
    {
      "cell_type": "markdown",
      "metadata": {
        "id": "view-in-github",
        "colab_type": "text"
      },
      "source": [
        "<a href=\"https://colab.research.google.com/github/knc6/jarvis-tools-notebooks/blob/master/JARVIS_ML_for_chemical_formula_only_datasets.ipynb\" target=\"_parent\"><img src=\"https://colab.research.google.com/assets/colab-badge.svg\" alt=\"Open In Colab\"/></a>"
      ]
    },
    {
      "cell_type": "code",
      "metadata": {
        "colab": {
          "base_uri": "https://localhost:8080/"
        },
        "id": "b3aEQ2BAf-T1",
        "outputId": "9780a3bd-bf68-4f78-c873-2c175b9e0f2d"
      },
      "source": [
        "!pip install jarvis-tools lightgbm"
      ],
      "execution_count": 1,
      "outputs": [
        {
          "output_type": "stream",
          "text": [
            "Requirement already satisfied: jarvis-tools in /usr/local/lib/python3.7/dist-packages (2021.5.31)\n",
            "Requirement already satisfied: lightgbm in /usr/local/lib/python3.7/dist-packages (2.2.3)\n",
            "Requirement already satisfied: numpy>=1.19.5 in /usr/local/lib/python3.7/dist-packages (from jarvis-tools) (1.19.5)\n",
            "Requirement already satisfied: spglib>=1.14.1 in /usr/local/lib/python3.7/dist-packages (from jarvis-tools) (1.16.1)\n",
            "Requirement already satisfied: matplotlib>=3.0.0 in /usr/local/lib/python3.7/dist-packages (from jarvis-tools) (3.2.2)\n",
            "Requirement already satisfied: toolz>=0.9.0 in /usr/local/lib/python3.7/dist-packages (from jarvis-tools) (0.11.1)\n",
            "Requirement already satisfied: requests>=2.23.0 in /usr/local/lib/python3.7/dist-packages (from jarvis-tools) (2.23.0)\n",
            "Requirement already satisfied: xmltodict>=0.11.0 in /usr/local/lib/python3.7/dist-packages (from jarvis-tools) (0.12.0)\n",
            "Requirement already satisfied: tqdm>=4.41.1 in /usr/local/lib/python3.7/dist-packages (from jarvis-tools) (4.41.1)\n",
            "Requirement already satisfied: scipy>=1.4.1 in /usr/local/lib/python3.7/dist-packages (from jarvis-tools) (1.4.1)\n",
            "Requirement already satisfied: joblib>=0.14.1 in /usr/local/lib/python3.7/dist-packages (from jarvis-tools) (1.0.1)\n",
            "Requirement already satisfied: scikit-learn in /usr/local/lib/python3.7/dist-packages (from lightgbm) (0.22.2.post1)\n",
            "Requirement already satisfied: pyparsing!=2.0.4,!=2.1.2,!=2.1.6,>=2.0.1 in /usr/local/lib/python3.7/dist-packages (from matplotlib>=3.0.0->jarvis-tools) (2.4.7)\n",
            "Requirement already satisfied: python-dateutil>=2.1 in /usr/local/lib/python3.7/dist-packages (from matplotlib>=3.0.0->jarvis-tools) (2.8.1)\n",
            "Requirement already satisfied: cycler>=0.10 in /usr/local/lib/python3.7/dist-packages (from matplotlib>=3.0.0->jarvis-tools) (0.10.0)\n",
            "Requirement already satisfied: kiwisolver>=1.0.1 in /usr/local/lib/python3.7/dist-packages (from matplotlib>=3.0.0->jarvis-tools) (1.3.1)\n",
            "Requirement already satisfied: certifi>=2017.4.17 in /usr/local/lib/python3.7/dist-packages (from requests>=2.23.0->jarvis-tools) (2020.12.5)\n",
            "Requirement already satisfied: chardet<4,>=3.0.2 in /usr/local/lib/python3.7/dist-packages (from requests>=2.23.0->jarvis-tools) (3.0.4)\n",
            "Requirement already satisfied: idna<3,>=2.5 in /usr/local/lib/python3.7/dist-packages (from requests>=2.23.0->jarvis-tools) (2.10)\n",
            "Requirement already satisfied: urllib3!=1.25.0,!=1.25.1,<1.26,>=1.21.1 in /usr/local/lib/python3.7/dist-packages (from requests>=2.23.0->jarvis-tools) (1.24.3)\n",
            "Requirement already satisfied: six>=1.5 in /usr/local/lib/python3.7/dist-packages (from python-dateutil>=2.1->matplotlib>=3.0.0->jarvis-tools) (1.15.0)\n"
          ],
          "name": "stdout"
        }
      ]
    },
    {
      "cell_type": "code",
      "metadata": {
        "id": "VqHe1fY_gGPO"
      },
      "source": [
        "import numpy as np\n",
        "from jarvis.core.composition import Composition\n",
        "from jarvis.core.specie import Specie\n",
        "from jarvis.ai.pkgs.lgbm.regression import regression\n",
        "\n",
        "# Load a dataset, you can use pandas read_csv also to generte my_data\n",
        "# Here is a sample dataset\n",
        "my_data = [\n",
        "    [\"CoAl\", 1],\n",
        "    [\"CoNi\", 2],\n",
        "    [\"CoNb2Ni5\", 3],\n",
        "    [\"Co1.2Al2.3NiRe2\", 4],\n",
        "    [\"Co\", 5],\n",
        "    [\"CoAlTi\", 1],\n",
        "    [\"CoNiTi\", 2],\n",
        "    [\"CoNb2Ni5Ti\", 3],\n",
        "    [\"Co1.2Al2.3NiRe2Ti\", 4],\n",
        "    [\"CoTi\", 5],\n",
        "    [\"CoAlFe\", 1],\n",
        "    [\"CoNiFe\", 2],\n",
        "    [\"CoNb2Ni5Fe\", 3],\n",
        "    [\"Co1.2Al2.3NiRe2Fe\", 4],\n",
        "    [\"CoFe\", 5],\n",
        "]\n"
      ],
      "execution_count": 2,
      "outputs": []
    },
    {
      "cell_type": "code",
      "metadata": {
        "colab": {
          "base_uri": "https://localhost:8080/"
        },
        "id": "T4zdx7PvgOn2",
        "outputId": "d76b14bc-dca1-4bb0-907a-4da2aac2bd55"
      },
      "source": [
        "# Function to get 438 descriptors for a chemical formula\n",
        "def get_chem_only_descriptor(formula=\"Al2O3\"):\n",
        "    s = Composition.from_string(formula)\n",
        "    # print (formula,s)\n",
        "    el_dict = s.to_dict()\n",
        "    arr = []\n",
        "    sum = 0\n",
        "    for k, v in el_dict.items():\n",
        "        sum += v\n",
        "        des = v * Specie(k).get_descrp_arr\n",
        "        arr.append(des)\n",
        "    mean_chem = np.mean(np.array(arr), axis=0) / v\n",
        "    return mean_chem\n",
        "\n",
        "\n",
        "# Convert my_data to numpy array\n",
        "X = []\n",
        "Y = []\n",
        "IDs = []\n",
        "for ii, i in enumerate(my_data):\n",
        "    X.append(get_chem_only_descriptor(i[0]))\n",
        "    Y.append(i[1])\n",
        "    IDs.append(ii)\n",
        "X = np.array(X)\n",
        "Y = np.array(Y).reshape(-1, 1)\n",
        "IDs = np.array(IDs)\n",
        "\n",
        "# Train a LightGBM regression model\n",
        "config = {\"n_estimators\": 5, \"learning_rate\": 0.01, \"num_leaves\": 2}\n",
        "# The regression module does feature pre-processing as well\n",
        "# Change config settings to improve model such as by hyper-parameter tuning\n",
        "info = regression(X=X, Y=Y, jid=IDs, feature_importance=False, config=config)\n",
        "\n",
        "# Print performance metrices\n",
        "print(\n",
        "    'r2=',info[\"reg_scores\"][\"r2\"],\n",
        "    'MAE=',info[\"reg_scores\"][\"mae\"],\n",
        "    'RMSE=',info[\"reg_scores\"][\"rmse\"],\n",
        ")\n"
      ],
      "execution_count": 4,
      "outputs": [
        {
          "output_type": "stream",
          "text": [
            "my_model 0.577 0.763 -1.331\n",
            "r2= -1.331360946745563 MAE= 0.5769230769230771 RMSE= 0.7634397400492005\n"
          ],
          "name": "stdout"
        },
        {
          "output_type": "stream",
          "text": [
            "/usr/local/lib/python3.7/dist-packages/sklearn/utils/validation.py:760: DataConversionWarning: A column-vector y was passed when a 1d array was expected. Please change the shape of y to (n_samples, ), for example using ravel().\n",
            "  y = column_or_1d(y, warn=True)\n"
          ],
          "name": "stderr"
        }
      ]
    },
    {
      "cell_type": "code",
      "metadata": {
        "id": "nPxGZA1RgPjB"
      },
      "source": [
        ""
      ],
      "execution_count": 3,
      "outputs": []
    }
  ]
}