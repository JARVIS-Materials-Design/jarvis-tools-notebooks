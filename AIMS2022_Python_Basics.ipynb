{
  "nbformat": 4,
  "nbformat_minor": 0,
  "metadata": {
    "colab": {
      "name": "AIMS2022_Python_Basics.ipynb",
      "provenance": [],
      "authorship_tag": "ABX9TyNFoZKY2g6kL+Sm+Tqp4ki5",
      "include_colab_link": true
    },
    "kernelspec": {
      "name": "python3",
      "display_name": "Python 3"
    },
    "language_info": {
      "name": "python"
    }
  },
  "cells": [
    {
      "cell_type": "markdown",
      "metadata": {
        "id": "view-in-github",
        "colab_type": "text"
      },
      "source": [
        "<a href=\"https://colab.research.google.com/github/RamyaGuru/jarvis-tools-notebooks/blob/master/AIMS2022_Python_Basics.ipynb\" target=\"_parent\"><img src=\"https://colab.research.google.com/assets/colab-badge.svg\" alt=\"Open In Colab\"/></a>"
      ]
    },
    {
      "cell_type": "markdown",
      "source": [
        "#Python Basics for Machine Learning"
      ],
      "metadata": {
        "id": "CQtxFkfIE6fD"
      }
    },
    {
      "cell_type": "markdown",
      "source": [
        "# Table of Contents\n",
        "1. Installing packages (matminer to load JARVIS 3D dataset)\n",
        "2. Data manipulation with ``pandas`` package \n",
        "3. K-means clustering using ``sci-kit learn``\n",
        "4. PCA dimensionality reduction using ``sci-kit learn``\n",
        "5. Plotting results using ``matplotlib``"
      ],
      "metadata": {
        "id": "zCWOrnon5JI_"
      }
    },
    {
      "cell_type": "markdown",
      "source": [
        "#Python Basics\n",
        "Python is a highly modular language, which makes the use of external libraries to perform certian operations. We'll first go over the very basics of the pandas and plotly libraries, which will, respectively, be used for data-handling and plotting in the following example.\n",
        "\n",
        "##Data-handling with Pandas\n",
        "Pandas is a Python package that defines the DataFrame object. DataFrames are ideal for reading, writing, storing, and manipulating information in a tabular format (i.e. information labelled by a row index and a column heading).\n",
        "\n",
        "\n",
        "First, we'll fetch the JARVIS-DFT 3D Database, which contains the relaxed structures and DFT properties for about 55,000 compounds using the ``matminer`` Python package. First, we need to install the matminer package using the command below. NOTE: the leading exclamation point (!) indicates that the command should be run as a shell command rather than a Python command."
      ],
      "metadata": {
        "id": "V_ztSZ1xg4vr"
      }
    },
    {
      "cell_type": "code",
      "source": [
        "!pip install matminer\n",
        "\n",
        "from matminer.datasets.convenience_loaders import load_jarvis_dft_3d\n",
        "\n",
        "dft3d_df = load_jarvis_dft_3d()"
      ],
      "metadata": {
        "id": "1U2AG6Xag_bQ",
        "collapsed": true,
        "outputId": "b3ecf5fd-b960-4bd6-dc6b-8775026d8119",
        "colab": {
          "base_uri": "https://localhost:8080/"
        }
      },
      "execution_count": null,
      "outputs": [
        {
          "output_type": "stream",
          "name": "stdout",
          "text": [
            "Looking in indexes: https://pypi.org/simple, https://us-python.pkg.dev/colab-wheels/public/simple/\n",
            "Requirement already satisfied: matminer in /usr/local/lib/python3.7/dist-packages (0.7.4)\n",
            "Requirement already satisfied: numpy>=1.21.1 in /usr/local/lib/python3.7/dist-packages (from matminer) (1.21.6)\n",
            "Requirement already satisfied: pymongo>=3.12.0 in /usr/local/lib/python3.7/dist-packages (from matminer) (4.1.1)\n",
            "Requirement already satisfied: monty>=2021.7.8 in /usr/local/lib/python3.7/dist-packages (from matminer) (2022.4.26)\n",
            "Requirement already satisfied: tqdm>=4.62.0 in /usr/local/lib/python3.7/dist-packages (from matminer) (4.64.0)\n",
            "Requirement already satisfied: requests>=2.26.0 in /usr/local/lib/python3.7/dist-packages (from matminer) (2.28.1)\n",
            "Requirement already satisfied: jsonschema>=3.2.0 in /usr/local/lib/python3.7/dist-packages (from matminer) (4.3.3)\n",
            "Requirement already satisfied: scikit-learn>=0.24.2 in /usr/local/lib/python3.7/dist-packages (from matminer) (1.0.2)\n",
            "Requirement already satisfied: six>=1.16.0 in /usr/local/lib/python3.7/dist-packages (from matminer) (1.16.0)\n",
            "Requirement already satisfied: pint>=0.17 in /usr/local/lib/python3.7/dist-packages (from matminer) (0.18)\n",
            "Requirement already satisfied: future>=0.18.2 in /usr/local/lib/python3.7/dist-packages (from matminer) (0.18.2)\n",
            "Requirement already satisfied: pandas>=1.3.1 in /usr/local/lib/python3.7/dist-packages (from matminer) (1.3.5)\n",
            "Requirement already satisfied: sympy>=1.8 in /usr/local/lib/python3.7/dist-packages (from matminer) (1.10.1)\n",
            "Requirement already satisfied: pymatgen>=2022.0.11 in /usr/local/lib/python3.7/dist-packages (from matminer) (2022.0.17)\n",
            "Requirement already satisfied: pyrsistent!=0.17.0,!=0.17.1,!=0.17.2,>=0.14.0 in /usr/local/lib/python3.7/dist-packages (from jsonschema>=3.2.0->matminer) (0.18.1)\n",
            "Requirement already satisfied: typing-extensions in /usr/local/lib/python3.7/dist-packages (from jsonschema>=3.2.0->matminer) (4.1.1)\n",
            "Requirement already satisfied: importlib-metadata in /usr/local/lib/python3.7/dist-packages (from jsonschema>=3.2.0->matminer) (4.11.4)\n",
            "Requirement already satisfied: importlib-resources>=1.4.0 in /usr/local/lib/python3.7/dist-packages (from jsonschema>=3.2.0->matminer) (5.7.1)\n",
            "Requirement already satisfied: attrs>=17.4.0 in /usr/local/lib/python3.7/dist-packages (from jsonschema>=3.2.0->matminer) (21.4.0)\n",
            "Requirement already satisfied: zipp>=3.1.0 in /usr/local/lib/python3.7/dist-packages (from importlib-resources>=1.4.0->jsonschema>=3.2.0->matminer) (3.8.0)\n",
            "Requirement already satisfied: pytz>=2017.3 in /usr/local/lib/python3.7/dist-packages (from pandas>=1.3.1->matminer) (2022.1)\n",
            "Requirement already satisfied: python-dateutil>=2.7.3 in /usr/local/lib/python3.7/dist-packages (from pandas>=1.3.1->matminer) (2.8.2)\n",
            "Requirement already satisfied: packaging in /usr/local/lib/python3.7/dist-packages (from pint>=0.17->matminer) (21.3)\n",
            "Requirement already satisfied: ruamel.yaml>=0.15.6 in /usr/local/lib/python3.7/dist-packages (from pymatgen>=2022.0.11->matminer) (0.17.21)\n",
            "Requirement already satisfied: plotly>=4.5.0 in /usr/local/lib/python3.7/dist-packages (from pymatgen>=2022.0.11->matminer) (5.5.0)\n",
            "Requirement already satisfied: networkx>=2.2 in /usr/local/lib/python3.7/dist-packages (from pymatgen>=2022.0.11->matminer) (2.6.3)\n",
            "Requirement already satisfied: scipy>=1.5.0 in /usr/local/lib/python3.7/dist-packages (from pymatgen>=2022.0.11->matminer) (1.7.3)\n",
            "Requirement already satisfied: uncertainties>=3.1.4 in /usr/local/lib/python3.7/dist-packages (from pymatgen>=2022.0.11->matminer) (3.1.7)\n",
            "Requirement already satisfied: spglib>=1.9.9.44 in /usr/local/lib/python3.7/dist-packages (from pymatgen>=2022.0.11->matminer) (1.16.5)\n",
            "Requirement already satisfied: palettable>=3.1.1 in /usr/local/lib/python3.7/dist-packages (from pymatgen>=2022.0.11->matminer) (3.3.0)\n",
            "Requirement already satisfied: tabulate in /usr/local/lib/python3.7/dist-packages (from pymatgen>=2022.0.11->matminer) (0.8.9)\n",
            "Requirement already satisfied: matplotlib>=1.5 in /usr/local/lib/python3.7/dist-packages (from pymatgen>=2022.0.11->matminer) (3.2.2)\n",
            "Requirement already satisfied: pyparsing!=2.0.4,!=2.1.2,!=2.1.6,>=2.0.1 in /usr/local/lib/python3.7/dist-packages (from matplotlib>=1.5->pymatgen>=2022.0.11->matminer) (3.0.9)\n",
            "Requirement already satisfied: cycler>=0.10 in /usr/local/lib/python3.7/dist-packages (from matplotlib>=1.5->pymatgen>=2022.0.11->matminer) (0.11.0)\n",
            "Requirement already satisfied: kiwisolver>=1.0.1 in /usr/local/lib/python3.7/dist-packages (from matplotlib>=1.5->pymatgen>=2022.0.11->matminer) (1.4.3)\n",
            "Requirement already satisfied: tenacity>=6.2.0 in /usr/local/lib/python3.7/dist-packages (from plotly>=4.5.0->pymatgen>=2022.0.11->matminer) (8.0.1)\n",
            "Requirement already satisfied: idna<4,>=2.5 in /usr/local/lib/python3.7/dist-packages (from requests>=2.26.0->matminer) (2.10)\n",
            "Requirement already satisfied: charset-normalizer<3,>=2 in /usr/local/lib/python3.7/dist-packages (from requests>=2.26.0->matminer) (2.1.0)\n",
            "Requirement already satisfied: certifi>=2017.4.17 in /usr/local/lib/python3.7/dist-packages (from requests>=2.26.0->matminer) (2022.6.15)\n",
            "Requirement already satisfied: urllib3<1.27,>=1.21.1 in /usr/local/lib/python3.7/dist-packages (from requests>=2.26.0->matminer) (1.24.3)\n",
            "Requirement already satisfied: ruamel.yaml.clib>=0.2.6 in /usr/local/lib/python3.7/dist-packages (from ruamel.yaml>=0.15.6->pymatgen>=2022.0.11->matminer) (0.2.6)\n",
            "Requirement already satisfied: joblib>=0.11 in /usr/local/lib/python3.7/dist-packages (from scikit-learn>=0.24.2->matminer) (1.1.0)\n",
            "Requirement already satisfied: threadpoolctl>=2.0.0 in /usr/local/lib/python3.7/dist-packages (from scikit-learn>=0.24.2->matminer) (3.1.0)\n",
            "Requirement already satisfied: mpmath>=0.19 in /usr/local/lib/python3.7/dist-packages (from sympy>=1.8->matminer) (1.2.1)\n"
          ]
        }
      ]
    },
    {
      "cell_type": "markdown",
      "source": [
        "Properties associated with each entry in the JARVIS-DFT 3D materials database."
      ],
      "metadata": {
        "id": "TS2aJVrfCYyN"
      }
    },
    {
      "cell_type": "code",
      "source": [
        "print(dft3d_df.columns)"
      ],
      "metadata": {
        "id": "sl7eZ4ltmtBB",
        "outputId": "b9b32377-a880-436f-80df-3cacc085e29e",
        "colab": {
          "base_uri": "https://localhost:8080/"
        }
      },
      "execution_count": null,
      "outputs": [
        {
          "output_type": "stream",
          "name": "stdout",
          "text": [
            "Index(['epsilon_x opt', 'epsilon_y opt', 'epsilon_z opt', 'structure',\n",
            "       'e_form', 'shear modulus', 'structure initial', 'jid', 'bulk modulus',\n",
            "       'gap tbmbj', 'epsilon_x tbmbj', 'epsilon_y tbmbj', 'epsilon_z tbmbj',\n",
            "       'mpid', 'gap opt', 'composition'],\n",
            "      dtype='object')\n"
          ]
        }
      ]
    },
    {
      "cell_type": "code",
      "source": [
        "'''\n",
        "dropna(): Drop rows that contain any NaN (not a number) values.\n",
        "'''\n",
        "dft3d_df = dft3d_df.dropna()\n",
        "\n",
        "#Fetch the first 50 rows\n",
        "dft3d_50 = dft3d_df.head(50)\n",
        "\n",
        "dft3d_50[:10]"
      ],
      "metadata": {
        "id": "VwcZc_PLmvjw",
        "outputId": "369b2054-5c57-433f-fb2f-9a4d0c4f0f01",
        "colab": {
          "base_uri": "https://localhost:8080/",
          "height": 965
        }
      },
      "execution_count": null,
      "outputs": [
        {
          "output_type": "execute_result",
          "data": {
            "text/plain": [
              "     epsilon_x opt  epsilon_y opt  epsilon_z opt  \\\n",
              "75         21.0673        29.1228        17.6066   \n",
              "80         13.8023        38.1854        35.5515   \n",
              "83          6.3933         6.9466         6.3796   \n",
              "92          6.0838         6.0838         6.5652   \n",
              "95          7.0316         6.3127         5.2274   \n",
              "96          4.6738         4.7460         4.7722   \n",
              "99          5.0636         5.0798         4.9797   \n",
              "103         2.8447         2.9459         2.7976   \n",
              "108         4.9033         5.1118         5.1243   \n",
              "115        16.9750        14.0779        15.5189   \n",
              "\n",
              "                                             structure  e_form  shear modulus  \\\n",
              "75   [[3.1506963  4.30596127 3.56982179] As, [0.384...   0.025         19.993   \n",
              "80   [[0.37213617 3.67987527 0.87369073] H, [1.4889...  -1.184         25.667   \n",
              "83   [[ 0.92796672  1.82915421 10.16747299] O, [2.7...  -2.086         52.420   \n",
              "92   [[0. 0. 0.] Ag, [2.22040369 2.22040369 0.     ...  -0.204          5.947   \n",
              "95   [[0.         2.06587432 0.88869064] Zr, [1.814...  -1.768         37.120   \n",
              "96   [[1.41349448 4.71501305 5.06256213] In, [0.289...  -0.830          9.047   \n",
              "99   [[1.50785766 1.02477434 2.93571664] Y, [ 7.555...  -1.473          7.687   \n",
              "103  [[1.17206677 8.41802227 0.93781225] Al, [0.259...  -2.430         73.973   \n",
              "108  [[ 2.54192839 -1.33085318 -0.81347227] Bi, [4....  -1.969         38.960   \n",
              "115  [[-1.3982931  -1.34418681 -3.44903549] Cu, [ 0...  -0.716         43.800   \n",
              "\n",
              "                                     structure initial          jid  \\\n",
              "75   [[3.17888147 4.36479751 3.69558323] As, [0.381...  JVASP-11997   \n",
              "80   [[0.34436223 3.69323659 0.87470146] H, [1.4990...  JVASP-12002   \n",
              "83   [[ 0.938753    1.84002706 10.93783201] O, [2.8...  JVASP-12010   \n",
              "92   [[0. 0. 0.] Ag, [2.2945515 2.2945515 0.       ...  JVASP-12023   \n",
              "95   [[0.         2.085838   0.88566666] Zr, [1.819...  JVASP-12027   \n",
              "96   [[8.49448596 4.73948454 6.27818672] In, [0.290...  JVASP-12028   \n",
              "99   [[1.646224   1.11881123 3.20510836] Y, [ 8.247...  JVASP-12033   \n",
              "103  [[0.2515101  8.52548747 0.940367  ] Al, [0.057...  JVASP-12038   \n",
              "108  [[ 2.58162693 -1.32106185 -0.80748743] Bi, [4....  JVASP-12051   \n",
              "115  [[-1.3943665  -1.40808459 -3.46870699] Cu, [ 0...  JVASP-12059   \n",
              "\n",
              "     bulk modulus  gap tbmbj  epsilon_x tbmbj  epsilon_y tbmbj  \\\n",
              "75         34.556     0.6495          15.0619          14.9875   \n",
              "80         78.478     0.0083          16.5818          61.5222   \n",
              "83         75.067     2.4642           5.2402           5.8492   \n",
              "92         17.478     2.7025           4.5320           4.5323   \n",
              "95         54.633     2.2441           6.0366           5.5260   \n",
              "96         16.378     3.7113           3.6685           3.7637   \n",
              "99         12.578     2.8863           5.5443           5.5399   \n",
              "103       110.656     6.9515           2.4188           2.4769   \n",
              "108        96.300     4.4734           3.6415           3.7771   \n",
              "115        80.133     0.0117          17.6582          21.6400   \n",
              "\n",
              "     epsilon_z tbmbj       mpid  gap opt    composition  \n",
              "75           12.4788     mp-158   0.0221           (As)  \n",
              "80           53.1874   mp-24242   0.0038  (H, O, F, Cu)  \n",
              "83            5.3897  mp-510584   1.9202        (O, Mo)  \n",
              "92            4.9101  mp-567809   1.2599        (Ag, I)  \n",
              "95            4.6886  mp-570157   1.8723    (Zr, Br, N)  \n",
              "96            3.7977  mp-570219   2.3104       (In, Br)  \n",
              "99            5.5646  mp-571442   2.6760         (Y, I)  \n",
              "103           2.3750  mp-625055   5.1686     (Al, H, O)  \n",
              "108           3.7842  mp-759883   2.9829     (Bi, O, F)  \n",
              "115          18.3388  mp-996956   0.0087     (Cu, H, O)  "
            ],
            "text/html": [
              "\n",
              "  <div id=\"df-3bb52e33-d40f-4319-8796-1c2316d145ff\">\n",
              "    <div class=\"colab-df-container\">\n",
              "      <div>\n",
              "<style scoped>\n",
              "    .dataframe tbody tr th:only-of-type {\n",
              "        vertical-align: middle;\n",
              "    }\n",
              "\n",
              "    .dataframe tbody tr th {\n",
              "        vertical-align: top;\n",
              "    }\n",
              "\n",
              "    .dataframe thead th {\n",
              "        text-align: right;\n",
              "    }\n",
              "</style>\n",
              "<table border=\"1\" class=\"dataframe\">\n",
              "  <thead>\n",
              "    <tr style=\"text-align: right;\">\n",
              "      <th></th>\n",
              "      <th>epsilon_x opt</th>\n",
              "      <th>epsilon_y opt</th>\n",
              "      <th>epsilon_z opt</th>\n",
              "      <th>structure</th>\n",
              "      <th>e_form</th>\n",
              "      <th>shear modulus</th>\n",
              "      <th>structure initial</th>\n",
              "      <th>jid</th>\n",
              "      <th>bulk modulus</th>\n",
              "      <th>gap tbmbj</th>\n",
              "      <th>epsilon_x tbmbj</th>\n",
              "      <th>epsilon_y tbmbj</th>\n",
              "      <th>epsilon_z tbmbj</th>\n",
              "      <th>mpid</th>\n",
              "      <th>gap opt</th>\n",
              "      <th>composition</th>\n",
              "    </tr>\n",
              "  </thead>\n",
              "  <tbody>\n",
              "    <tr>\n",
              "      <th>75</th>\n",
              "      <td>21.0673</td>\n",
              "      <td>29.1228</td>\n",
              "      <td>17.6066</td>\n",
              "      <td>[[3.1506963  4.30596127 3.56982179] As, [0.384...</td>\n",
              "      <td>0.025</td>\n",
              "      <td>19.993</td>\n",
              "      <td>[[3.17888147 4.36479751 3.69558323] As, [0.381...</td>\n",
              "      <td>JVASP-11997</td>\n",
              "      <td>34.556</td>\n",
              "      <td>0.6495</td>\n",
              "      <td>15.0619</td>\n",
              "      <td>14.9875</td>\n",
              "      <td>12.4788</td>\n",
              "      <td>mp-158</td>\n",
              "      <td>0.0221</td>\n",
              "      <td>(As)</td>\n",
              "    </tr>\n",
              "    <tr>\n",
              "      <th>80</th>\n",
              "      <td>13.8023</td>\n",
              "      <td>38.1854</td>\n",
              "      <td>35.5515</td>\n",
              "      <td>[[0.37213617 3.67987527 0.87369073] H, [1.4889...</td>\n",
              "      <td>-1.184</td>\n",
              "      <td>25.667</td>\n",
              "      <td>[[0.34436223 3.69323659 0.87470146] H, [1.4990...</td>\n",
              "      <td>JVASP-12002</td>\n",
              "      <td>78.478</td>\n",
              "      <td>0.0083</td>\n",
              "      <td>16.5818</td>\n",
              "      <td>61.5222</td>\n",
              "      <td>53.1874</td>\n",
              "      <td>mp-24242</td>\n",
              "      <td>0.0038</td>\n",
              "      <td>(H, O, F, Cu)</td>\n",
              "    </tr>\n",
              "    <tr>\n",
              "      <th>83</th>\n",
              "      <td>6.3933</td>\n",
              "      <td>6.9466</td>\n",
              "      <td>6.3796</td>\n",
              "      <td>[[ 0.92796672  1.82915421 10.16747299] O, [2.7...</td>\n",
              "      <td>-2.086</td>\n",
              "      <td>52.420</td>\n",
              "      <td>[[ 0.938753    1.84002706 10.93783201] O, [2.8...</td>\n",
              "      <td>JVASP-12010</td>\n",
              "      <td>75.067</td>\n",
              "      <td>2.4642</td>\n",
              "      <td>5.2402</td>\n",
              "      <td>5.8492</td>\n",
              "      <td>5.3897</td>\n",
              "      <td>mp-510584</td>\n",
              "      <td>1.9202</td>\n",
              "      <td>(O, Mo)</td>\n",
              "    </tr>\n",
              "    <tr>\n",
              "      <th>92</th>\n",
              "      <td>6.0838</td>\n",
              "      <td>6.0838</td>\n",
              "      <td>6.5652</td>\n",
              "      <td>[[0. 0. 0.] Ag, [2.22040369 2.22040369 0.     ...</td>\n",
              "      <td>-0.204</td>\n",
              "      <td>5.947</td>\n",
              "      <td>[[0. 0. 0.] Ag, [2.2945515 2.2945515 0.       ...</td>\n",
              "      <td>JVASP-12023</td>\n",
              "      <td>17.478</td>\n",
              "      <td>2.7025</td>\n",
              "      <td>4.5320</td>\n",
              "      <td>4.5323</td>\n",
              "      <td>4.9101</td>\n",
              "      <td>mp-567809</td>\n",
              "      <td>1.2599</td>\n",
              "      <td>(Ag, I)</td>\n",
              "    </tr>\n",
              "    <tr>\n",
              "      <th>95</th>\n",
              "      <td>7.0316</td>\n",
              "      <td>6.3127</td>\n",
              "      <td>5.2274</td>\n",
              "      <td>[[0.         2.06587432 0.88869064] Zr, [1.814...</td>\n",
              "      <td>-1.768</td>\n",
              "      <td>37.120</td>\n",
              "      <td>[[0.         2.085838   0.88566666] Zr, [1.819...</td>\n",
              "      <td>JVASP-12027</td>\n",
              "      <td>54.633</td>\n",
              "      <td>2.2441</td>\n",
              "      <td>6.0366</td>\n",
              "      <td>5.5260</td>\n",
              "      <td>4.6886</td>\n",
              "      <td>mp-570157</td>\n",
              "      <td>1.8723</td>\n",
              "      <td>(Zr, Br, N)</td>\n",
              "    </tr>\n",
              "    <tr>\n",
              "      <th>96</th>\n",
              "      <td>4.6738</td>\n",
              "      <td>4.7460</td>\n",
              "      <td>4.7722</td>\n",
              "      <td>[[1.41349448 4.71501305 5.06256213] In, [0.289...</td>\n",
              "      <td>-0.830</td>\n",
              "      <td>9.047</td>\n",
              "      <td>[[8.49448596 4.73948454 6.27818672] In, [0.290...</td>\n",
              "      <td>JVASP-12028</td>\n",
              "      <td>16.378</td>\n",
              "      <td>3.7113</td>\n",
              "      <td>3.6685</td>\n",
              "      <td>3.7637</td>\n",
              "      <td>3.7977</td>\n",
              "      <td>mp-570219</td>\n",
              "      <td>2.3104</td>\n",
              "      <td>(In, Br)</td>\n",
              "    </tr>\n",
              "    <tr>\n",
              "      <th>99</th>\n",
              "      <td>5.0636</td>\n",
              "      <td>5.0798</td>\n",
              "      <td>4.9797</td>\n",
              "      <td>[[1.50785766 1.02477434 2.93571664] Y, [ 7.555...</td>\n",
              "      <td>-1.473</td>\n",
              "      <td>7.687</td>\n",
              "      <td>[[1.646224   1.11881123 3.20510836] Y, [ 8.247...</td>\n",
              "      <td>JVASP-12033</td>\n",
              "      <td>12.578</td>\n",
              "      <td>2.8863</td>\n",
              "      <td>5.5443</td>\n",
              "      <td>5.5399</td>\n",
              "      <td>5.5646</td>\n",
              "      <td>mp-571442</td>\n",
              "      <td>2.6760</td>\n",
              "      <td>(Y, I)</td>\n",
              "    </tr>\n",
              "    <tr>\n",
              "      <th>103</th>\n",
              "      <td>2.8447</td>\n",
              "      <td>2.9459</td>\n",
              "      <td>2.7976</td>\n",
              "      <td>[[1.17206677 8.41802227 0.93781225] Al, [0.259...</td>\n",
              "      <td>-2.430</td>\n",
              "      <td>73.973</td>\n",
              "      <td>[[0.2515101  8.52548747 0.940367  ] Al, [0.057...</td>\n",
              "      <td>JVASP-12038</td>\n",
              "      <td>110.656</td>\n",
              "      <td>6.9515</td>\n",
              "      <td>2.4188</td>\n",
              "      <td>2.4769</td>\n",
              "      <td>2.3750</td>\n",
              "      <td>mp-625055</td>\n",
              "      <td>5.1686</td>\n",
              "      <td>(Al, H, O)</td>\n",
              "    </tr>\n",
              "    <tr>\n",
              "      <th>108</th>\n",
              "      <td>4.9033</td>\n",
              "      <td>5.1118</td>\n",
              "      <td>5.1243</td>\n",
              "      <td>[[ 2.54192839 -1.33085318 -0.81347227] Bi, [4....</td>\n",
              "      <td>-1.969</td>\n",
              "      <td>38.960</td>\n",
              "      <td>[[ 2.58162693 -1.32106185 -0.80748743] Bi, [4....</td>\n",
              "      <td>JVASP-12051</td>\n",
              "      <td>96.300</td>\n",
              "      <td>4.4734</td>\n",
              "      <td>3.6415</td>\n",
              "      <td>3.7771</td>\n",
              "      <td>3.7842</td>\n",
              "      <td>mp-759883</td>\n",
              "      <td>2.9829</td>\n",
              "      <td>(Bi, O, F)</td>\n",
              "    </tr>\n",
              "    <tr>\n",
              "      <th>115</th>\n",
              "      <td>16.9750</td>\n",
              "      <td>14.0779</td>\n",
              "      <td>15.5189</td>\n",
              "      <td>[[-1.3982931  -1.34418681 -3.44903549] Cu, [ 0...</td>\n",
              "      <td>-0.716</td>\n",
              "      <td>43.800</td>\n",
              "      <td>[[-1.3943665  -1.40808459 -3.46870699] Cu, [ 0...</td>\n",
              "      <td>JVASP-12059</td>\n",
              "      <td>80.133</td>\n",
              "      <td>0.0117</td>\n",
              "      <td>17.6582</td>\n",
              "      <td>21.6400</td>\n",
              "      <td>18.3388</td>\n",
              "      <td>mp-996956</td>\n",
              "      <td>0.0087</td>\n",
              "      <td>(Cu, H, O)</td>\n",
              "    </tr>\n",
              "  </tbody>\n",
              "</table>\n",
              "</div>\n",
              "      <button class=\"colab-df-convert\" onclick=\"convertToInteractive('df-3bb52e33-d40f-4319-8796-1c2316d145ff')\"\n",
              "              title=\"Convert this dataframe to an interactive table.\"\n",
              "              style=\"display:none;\">\n",
              "        \n",
              "  <svg xmlns=\"http://www.w3.org/2000/svg\" height=\"24px\"viewBox=\"0 0 24 24\"\n",
              "       width=\"24px\">\n",
              "    <path d=\"M0 0h24v24H0V0z\" fill=\"none\"/>\n",
              "    <path d=\"M18.56 5.44l.94 2.06.94-2.06 2.06-.94-2.06-.94-.94-2.06-.94 2.06-2.06.94zm-11 1L8.5 8.5l.94-2.06 2.06-.94-2.06-.94L8.5 2.5l-.94 2.06-2.06.94zm10 10l.94 2.06.94-2.06 2.06-.94-2.06-.94-.94-2.06-.94 2.06-2.06.94z\"/><path d=\"M17.41 7.96l-1.37-1.37c-.4-.4-.92-.59-1.43-.59-.52 0-1.04.2-1.43.59L10.3 9.45l-7.72 7.72c-.78.78-.78 2.05 0 2.83L4 21.41c.39.39.9.59 1.41.59.51 0 1.02-.2 1.41-.59l7.78-7.78 2.81-2.81c.8-.78.8-2.07 0-2.86zM5.41 20L4 18.59l7.72-7.72 1.47 1.35L5.41 20z\"/>\n",
              "  </svg>\n",
              "      </button>\n",
              "      \n",
              "  <style>\n",
              "    .colab-df-container {\n",
              "      display:flex;\n",
              "      flex-wrap:wrap;\n",
              "      gap: 12px;\n",
              "    }\n",
              "\n",
              "    .colab-df-convert {\n",
              "      background-color: #E8F0FE;\n",
              "      border: none;\n",
              "      border-radius: 50%;\n",
              "      cursor: pointer;\n",
              "      display: none;\n",
              "      fill: #1967D2;\n",
              "      height: 32px;\n",
              "      padding: 0 0 0 0;\n",
              "      width: 32px;\n",
              "    }\n",
              "\n",
              "    .colab-df-convert:hover {\n",
              "      background-color: #E2EBFA;\n",
              "      box-shadow: 0px 1px 2px rgba(60, 64, 67, 0.3), 0px 1px 3px 1px rgba(60, 64, 67, 0.15);\n",
              "      fill: #174EA6;\n",
              "    }\n",
              "\n",
              "    [theme=dark] .colab-df-convert {\n",
              "      background-color: #3B4455;\n",
              "      fill: #D2E3FC;\n",
              "    }\n",
              "\n",
              "    [theme=dark] .colab-df-convert:hover {\n",
              "      background-color: #434B5C;\n",
              "      box-shadow: 0px 1px 3px 1px rgba(0, 0, 0, 0.15);\n",
              "      filter: drop-shadow(0px 1px 2px rgba(0, 0, 0, 0.3));\n",
              "      fill: #FFFFFF;\n",
              "    }\n",
              "  </style>\n",
              "\n",
              "      <script>\n",
              "        const buttonEl =\n",
              "          document.querySelector('#df-3bb52e33-d40f-4319-8796-1c2316d145ff button.colab-df-convert');\n",
              "        buttonEl.style.display =\n",
              "          google.colab.kernel.accessAllowed ? 'block' : 'none';\n",
              "\n",
              "        async function convertToInteractive(key) {\n",
              "          const element = document.querySelector('#df-3bb52e33-d40f-4319-8796-1c2316d145ff');\n",
              "          const dataTable =\n",
              "            await google.colab.kernel.invokeFunction('convertToInteractive',\n",
              "                                                     [key], {});\n",
              "          if (!dataTable) return;\n",
              "\n",
              "          const docLinkHtml = 'Like what you see? Visit the ' +\n",
              "            '<a target=\"_blank\" href=https://colab.research.google.com/notebooks/data_table.ipynb>data table notebook</a>'\n",
              "            + ' to learn more about interactive tables.';\n",
              "          element.innerHTML = '';\n",
              "          dataTable['output_type'] = 'display_data';\n",
              "          await google.colab.output.renderOutput(dataTable, element);\n",
              "          const docLink = document.createElement('div');\n",
              "          docLink.innerHTML = docLinkHtml;\n",
              "          element.appendChild(docLink);\n",
              "        }\n",
              "      </script>\n",
              "    </div>\n",
              "  </div>\n",
              "  "
            ]
          },
          "metadata": {},
          "execution_count": 3
        }
      ]
    },
    {
      "cell_type": "markdown",
      "source": [
        "Here, we print out all the compositions in our select dataset of 50 materials."
      ],
      "metadata": {
        "id": "c-_0VEWkCnwh"
      }
    },
    {
      "cell_type": "code",
      "source": [
        "!pip install -U jarvis-tools"
      ],
      "metadata": {
        "id": "gqFLu2zidKEU",
        "collapsed": true,
        "outputId": "da764e75-41a1-41fe-9d7f-e2ef7d9228e1",
        "colab": {
          "base_uri": "https://localhost:8080/"
        }
      },
      "execution_count": null,
      "outputs": [
        {
          "output_type": "stream",
          "name": "stdout",
          "text": [
            "Looking in indexes: https://pypi.org/simple, https://us-python.pkg.dev/colab-wheels/public/simple/\n",
            "Collecting jarvis-tools\n",
            "  Downloading jarvis_tools-2022.5.20-py2.py3-none-any.whl (962 kB)\n",
            "\u001b[?25l\r\u001b[K     |▍                               | 10 kB 16.4 MB/s eta 0:00:01\r\u001b[K     |▊                               | 20 kB 20.2 MB/s eta 0:00:01\r\u001b[K     |█                               | 30 kB 22.7 MB/s eta 0:00:01\r\u001b[K     |█▍                              | 40 kB 14.3 MB/s eta 0:00:01\r\u001b[K     |█▊                              | 51 kB 11.7 MB/s eta 0:00:01\r\u001b[K     |██                              | 61 kB 13.4 MB/s eta 0:00:01\r\u001b[K     |██▍                             | 71 kB 13.3 MB/s eta 0:00:01\r\u001b[K     |██▊                             | 81 kB 11.8 MB/s eta 0:00:01\r\u001b[K     |███                             | 92 kB 12.9 MB/s eta 0:00:01\r\u001b[K     |███▍                            | 102 kB 12.6 MB/s eta 0:00:01\r\u001b[K     |███▊                            | 112 kB 12.6 MB/s eta 0:00:01\r\u001b[K     |████                            | 122 kB 12.6 MB/s eta 0:00:01\r\u001b[K     |████▍                           | 133 kB 12.6 MB/s eta 0:00:01\r\u001b[K     |████▊                           | 143 kB 12.6 MB/s eta 0:00:01\r\u001b[K     |█████                           | 153 kB 12.6 MB/s eta 0:00:01\r\u001b[K     |█████▌                          | 163 kB 12.6 MB/s eta 0:00:01\r\u001b[K     |█████▉                          | 174 kB 12.6 MB/s eta 0:00:01\r\u001b[K     |██████▏                         | 184 kB 12.6 MB/s eta 0:00:01\r\u001b[K     |██████▌                         | 194 kB 12.6 MB/s eta 0:00:01\r\u001b[K     |██████▉                         | 204 kB 12.6 MB/s eta 0:00:01\r\u001b[K     |███████▏                        | 215 kB 12.6 MB/s eta 0:00:01\r\u001b[K     |███████▌                        | 225 kB 12.6 MB/s eta 0:00:01\r\u001b[K     |███████▉                        | 235 kB 12.6 MB/s eta 0:00:01\r\u001b[K     |████████▏                       | 245 kB 12.6 MB/s eta 0:00:01\r\u001b[K     |████████▌                       | 256 kB 12.6 MB/s eta 0:00:01\r\u001b[K     |████████▉                       | 266 kB 12.6 MB/s eta 0:00:01\r\u001b[K     |█████████▏                      | 276 kB 12.6 MB/s eta 0:00:01\r\u001b[K     |█████████▌                      | 286 kB 12.6 MB/s eta 0:00:01\r\u001b[K     |█████████▉                      | 296 kB 12.6 MB/s eta 0:00:01\r\u001b[K     |██████████▏                     | 307 kB 12.6 MB/s eta 0:00:01\r\u001b[K     |██████████▋                     | 317 kB 12.6 MB/s eta 0:00:01\r\u001b[K     |███████████                     | 327 kB 12.6 MB/s eta 0:00:01\r\u001b[K     |███████████▎                    | 337 kB 12.6 MB/s eta 0:00:01\r\u001b[K     |███████████▋                    | 348 kB 12.6 MB/s eta 0:00:01\r\u001b[K     |████████████                    | 358 kB 12.6 MB/s eta 0:00:01\r\u001b[K     |████████████▎                   | 368 kB 12.6 MB/s eta 0:00:01\r\u001b[K     |████████████▋                   | 378 kB 12.6 MB/s eta 0:00:01\r\u001b[K     |█████████████                   | 389 kB 12.6 MB/s eta 0:00:01\r\u001b[K     |█████████████▎                  | 399 kB 12.6 MB/s eta 0:00:01\r\u001b[K     |█████████████▋                  | 409 kB 12.6 MB/s eta 0:00:01\r\u001b[K     |██████████████                  | 419 kB 12.6 MB/s eta 0:00:01\r\u001b[K     |██████████████▎                 | 430 kB 12.6 MB/s eta 0:00:01\r\u001b[K     |██████████████▋                 | 440 kB 12.6 MB/s eta 0:00:01\r\u001b[K     |███████████████                 | 450 kB 12.6 MB/s eta 0:00:01\r\u001b[K     |███████████████▎                | 460 kB 12.6 MB/s eta 0:00:01\r\u001b[K     |███████████████▋                | 471 kB 12.6 MB/s eta 0:00:01\r\u001b[K     |████████████████                | 481 kB 12.6 MB/s eta 0:00:01\r\u001b[K     |████████████████▍               | 491 kB 12.6 MB/s eta 0:00:01\r\u001b[K     |████████████████▊               | 501 kB 12.6 MB/s eta 0:00:01\r\u001b[K     |█████████████████               | 512 kB 12.6 MB/s eta 0:00:01\r\u001b[K     |█████████████████▍              | 522 kB 12.6 MB/s eta 0:00:01\r\u001b[K     |█████████████████▊              | 532 kB 12.6 MB/s eta 0:00:01\r\u001b[K     |██████████████████              | 542 kB 12.6 MB/s eta 0:00:01\r\u001b[K     |██████████████████▍             | 552 kB 12.6 MB/s eta 0:00:01\r\u001b[K     |██████████████████▊             | 563 kB 12.6 MB/s eta 0:00:01\r\u001b[K     |███████████████████             | 573 kB 12.6 MB/s eta 0:00:01\r\u001b[K     |███████████████████▍            | 583 kB 12.6 MB/s eta 0:00:01\r\u001b[K     |███████████████████▊            | 593 kB 12.6 MB/s eta 0:00:01\r\u001b[K     |████████████████████            | 604 kB 12.6 MB/s eta 0:00:01\r\u001b[K     |████████████████████▍           | 614 kB 12.6 MB/s eta 0:00:01\r\u001b[K     |████████████████████▊           | 624 kB 12.6 MB/s eta 0:00:01\r\u001b[K     |█████████████████████▏          | 634 kB 12.6 MB/s eta 0:00:01\r\u001b[K     |█████████████████████▌          | 645 kB 12.6 MB/s eta 0:00:01\r\u001b[K     |█████████████████████▉          | 655 kB 12.6 MB/s eta 0:00:01\r\u001b[K     |██████████████████████▏         | 665 kB 12.6 MB/s eta 0:00:01\r\u001b[K     |██████████████████████▌         | 675 kB 12.6 MB/s eta 0:00:01\r\u001b[K     |██████████████████████▉         | 686 kB 12.6 MB/s eta 0:00:01\r\u001b[K     |███████████████████████▏        | 696 kB 12.6 MB/s eta 0:00:01\r\u001b[K     |███████████████████████▌        | 706 kB 12.6 MB/s eta 0:00:01\r\u001b[K     |███████████████████████▉        | 716 kB 12.6 MB/s eta 0:00:01\r\u001b[K     |████████████████████████▏       | 727 kB 12.6 MB/s eta 0:00:01\r\u001b[K     |████████████████████████▌       | 737 kB 12.6 MB/s eta 0:00:01\r\u001b[K     |████████████████████████▉       | 747 kB 12.6 MB/s eta 0:00:01\r\u001b[K     |█████████████████████████▏      | 757 kB 12.6 MB/s eta 0:00:01\r\u001b[K     |█████████████████████████▌      | 768 kB 12.6 MB/s eta 0:00:01\r\u001b[K     |█████████████████████████▉      | 778 kB 12.6 MB/s eta 0:00:01\r\u001b[K     |██████████████████████████▏     | 788 kB 12.6 MB/s eta 0:00:01\r\u001b[K     |██████████████████████████▋     | 798 kB 12.6 MB/s eta 0:00:01\r\u001b[K     |███████████████████████████     | 808 kB 12.6 MB/s eta 0:00:01\r\u001b[K     |███████████████████████████▎    | 819 kB 12.6 MB/s eta 0:00:01\r\u001b[K     |███████████████████████████▋    | 829 kB 12.6 MB/s eta 0:00:01\r\u001b[K     |████████████████████████████    | 839 kB 12.6 MB/s eta 0:00:01\r\u001b[K     |████████████████████████████▎   | 849 kB 12.6 MB/s eta 0:00:01\r\u001b[K     |████████████████████████████▋   | 860 kB 12.6 MB/s eta 0:00:01\r\u001b[K     |█████████████████████████████   | 870 kB 12.6 MB/s eta 0:00:01\r\u001b[K     |█████████████████████████████▎  | 880 kB 12.6 MB/s eta 0:00:01\r\u001b[K     |█████████████████████████████▋  | 890 kB 12.6 MB/s eta 0:00:01\r\u001b[K     |██████████████████████████████  | 901 kB 12.6 MB/s eta 0:00:01\r\u001b[K     |██████████████████████████████▎ | 911 kB 12.6 MB/s eta 0:00:01\r\u001b[K     |██████████████████████████████▋ | 921 kB 12.6 MB/s eta 0:00:01\r\u001b[K     |███████████████████████████████ | 931 kB 12.6 MB/s eta 0:00:01\r\u001b[K     |███████████████████████████████▎| 942 kB 12.6 MB/s eta 0:00:01\r\u001b[K     |███████████████████████████████▊| 952 kB 12.6 MB/s eta 0:00:01\r\u001b[K     |████████████████████████████████| 962 kB 12.6 MB/s \n",
            "\u001b[?25hRequirement already satisfied: scipy>=1.4.1 in /usr/local/lib/python3.7/dist-packages (from jarvis-tools) (1.7.3)\n",
            "Requirement already satisfied: spglib>=1.14.1 in /usr/local/lib/python3.7/dist-packages (from jarvis-tools) (1.16.5)\n",
            "Requirement already satisfied: tqdm>=4.41.1 in /usr/local/lib/python3.7/dist-packages (from jarvis-tools) (4.64.0)\n",
            "Requirement already satisfied: toolz>=0.9.0 in /usr/local/lib/python3.7/dist-packages (from jarvis-tools) (0.11.2)\n",
            "Collecting xmltodict>=0.11.0\n",
            "  Downloading xmltodict-0.13.0-py2.py3-none-any.whl (10.0 kB)\n",
            "Requirement already satisfied: requests>=2.23.0 in /usr/local/lib/python3.7/dist-packages (from jarvis-tools) (2.28.1)\n",
            "Requirement already satisfied: numpy>=1.19.5 in /usr/local/lib/python3.7/dist-packages (from jarvis-tools) (1.21.6)\n",
            "Requirement already satisfied: matplotlib>=3.0.0 in /usr/local/lib/python3.7/dist-packages (from jarvis-tools) (3.2.2)\n",
            "Requirement already satisfied: joblib>=0.14.1 in /usr/local/lib/python3.7/dist-packages (from jarvis-tools) (1.1.0)\n",
            "Requirement already satisfied: cycler>=0.10 in /usr/local/lib/python3.7/dist-packages (from matplotlib>=3.0.0->jarvis-tools) (0.11.0)\n",
            "Requirement already satisfied: pyparsing!=2.0.4,!=2.1.2,!=2.1.6,>=2.0.1 in /usr/local/lib/python3.7/dist-packages (from matplotlib>=3.0.0->jarvis-tools) (3.0.9)\n",
            "Requirement already satisfied: kiwisolver>=1.0.1 in /usr/local/lib/python3.7/dist-packages (from matplotlib>=3.0.0->jarvis-tools) (1.4.3)\n",
            "Requirement already satisfied: python-dateutil>=2.1 in /usr/local/lib/python3.7/dist-packages (from matplotlib>=3.0.0->jarvis-tools) (2.8.2)\n",
            "Requirement already satisfied: typing-extensions in /usr/local/lib/python3.7/dist-packages (from kiwisolver>=1.0.1->matplotlib>=3.0.0->jarvis-tools) (4.1.1)\n",
            "Requirement already satisfied: six>=1.5 in /usr/local/lib/python3.7/dist-packages (from python-dateutil>=2.1->matplotlib>=3.0.0->jarvis-tools) (1.16.0)\n",
            "Requirement already satisfied: certifi>=2017.4.17 in /usr/local/lib/python3.7/dist-packages (from requests>=2.23.0->jarvis-tools) (2022.6.15)\n",
            "Requirement already satisfied: charset-normalizer<3,>=2 in /usr/local/lib/python3.7/dist-packages (from requests>=2.23.0->jarvis-tools) (2.1.0)\n",
            "Requirement already satisfied: idna<4,>=2.5 in /usr/local/lib/python3.7/dist-packages (from requests>=2.23.0->jarvis-tools) (2.10)\n",
            "Requirement already satisfied: urllib3<1.27,>=1.21.1 in /usr/local/lib/python3.7/dist-packages (from requests>=2.23.0->jarvis-tools) (1.24.3)\n",
            "Installing collected packages: xmltodict, jarvis-tools\n",
            "Successfully installed jarvis-tools-2022.5.20 xmltodict-0.13.0\n"
          ]
        }
      ]
    },
    {
      "cell_type": "code",
      "source": [
        "from jarvis.db.figshare import data\n",
        "from jarvis.core.atoms import Atoms\n",
        "\n",
        "dft_3d = data(\"dft_3d\")\n",
        "\n",
        "comp_list = []\n",
        "for indx, d in dft3d_50.iterrows():\n",
        "  entry = next(j for j in dft_3d if j[\"jid\"] == d[\"jid\"])\n",
        "  comp = Atoms.from_dict(entry['atoms']).composition.reduced_formula\n",
        "  comp_list.append(comp)\n",
        "\n",
        "print(comp_list)"
      ],
      "metadata": {
        "colab": {
          "base_uri": "https://localhost:8080/"
        },
        "id": "js-QUJt4f2gn",
        "outputId": "01a7c3a2-ee6a-4a91-ce52-ebad6d5899b7"
      },
      "execution_count": null,
      "outputs": [
        {
          "output_type": "stream",
          "name": "stdout",
          "text": [
            "Obtaining 3D dataset 55k ...\n",
            "Reference:https://www.nature.com/articles/s41524-020-00440-1\n"
          ]
        },
        {
          "output_type": "stream",
          "name": "stderr",
          "text": [
            "100%|██████████| 31.9M/31.9M [00:01<00:00, 17.6MiB/s]\n"
          ]
        },
        {
          "output_type": "stream",
          "name": "stdout",
          "text": [
            "Loading the zipfile...\n",
            "Loading completed.\n",
            "['As', 'CuHOF', 'MoO3', 'AgI', 'ZrBrN', 'InBr3', 'YI3', 'AlHO2', 'BiOF', 'CuHO2', 'TiClO', 'VCuO4', 'ScBrO', 'ZnCu3H6Cl2O6', 'VOF3', 'ZnCl2', 'ScHO2', 'ZrMo2O8', 'BaCaI4', 'CaPbI4', 'YBr3', 'NdIO', 'Li2WS4', 'SnO2', 'SnO2', 'CoF2', 'GaS', 'RbPS3', 'BeF2', 'BeO', 'CO2', 'CaCl2', 'SrClF', 'SrBrF', 'SrCl2', 'CaCl2', 'CaClF', 'NaHF2', 'Bi2SO2', 'BrF5', 'IF7', 'AsF3', 'KSc2F7', 'CClF3', 'K2MgF4', 'LiMgP', 'H4BrN', 'NaHS', 'SrAl2Te4', 'AgAsF6']\n"
          ]
        }
      ]
    },
    {
      "cell_type": "markdown",
      "source": [
        "Here, we filter out the feature vector to only include single scalar-values properties."
      ],
      "metadata": {
        "id": "EACr0qhNDQ51"
      }
    },
    {
      "cell_type": "code",
      "source": [
        "#Form feature vector from the scalar properties in the dataframe\n",
        "scalar_cols = [col for col in dft3d_50.columns if col not in ['structure', 'structure initial', 'jid', 'mpid', 'composition']]\n",
        "\n",
        "feature_vect = dft3d_50[scalar_cols].to_numpy()\n",
        "\n",
        "feature_vect[:10]"
      ],
      "metadata": {
        "colab": {
          "base_uri": "https://localhost:8080/"
        },
        "id": "FsH2HKwWCEe0",
        "outputId": "d23135e0-8c6c-467f-e5e3-a0d005efb555"
      },
      "execution_count": null,
      "outputs": [
        {
          "output_type": "execute_result",
          "data": {
            "text/plain": [
              "array([[ 2.10673e+01,  2.91228e+01,  1.76066e+01,  2.50000e-02,\n",
              "         1.99930e+01,  3.45560e+01,  6.49500e-01,  1.50619e+01,\n",
              "         1.49875e+01,  1.24788e+01,  2.21000e-02],\n",
              "       [ 1.38023e+01,  3.81854e+01,  3.55515e+01, -1.18400e+00,\n",
              "         2.56670e+01,  7.84780e+01,  8.30000e-03,  1.65818e+01,\n",
              "         6.15222e+01,  5.31874e+01,  3.80000e-03],\n",
              "       [ 6.39330e+00,  6.94660e+00,  6.37960e+00, -2.08600e+00,\n",
              "         5.24200e+01,  7.50670e+01,  2.46420e+00,  5.24020e+00,\n",
              "         5.84920e+00,  5.38970e+00,  1.92020e+00],\n",
              "       [ 6.08380e+00,  6.08380e+00,  6.56520e+00, -2.04000e-01,\n",
              "         5.94700e+00,  1.74780e+01,  2.70250e+00,  4.53200e+00,\n",
              "         4.53230e+00,  4.91010e+00,  1.25990e+00],\n",
              "       [ 7.03160e+00,  6.31270e+00,  5.22740e+00, -1.76800e+00,\n",
              "         3.71200e+01,  5.46330e+01,  2.24410e+00,  6.03660e+00,\n",
              "         5.52600e+00,  4.68860e+00,  1.87230e+00],\n",
              "       [ 4.67380e+00,  4.74600e+00,  4.77220e+00, -8.30000e-01,\n",
              "         9.04700e+00,  1.63780e+01,  3.71130e+00,  3.66850e+00,\n",
              "         3.76370e+00,  3.79770e+00,  2.31040e+00],\n",
              "       [ 5.06360e+00,  5.07980e+00,  4.97970e+00, -1.47300e+00,\n",
              "         7.68700e+00,  1.25780e+01,  2.88630e+00,  5.54430e+00,\n",
              "         5.53990e+00,  5.56460e+00,  2.67600e+00],\n",
              "       [ 2.84470e+00,  2.94590e+00,  2.79760e+00, -2.43000e+00,\n",
              "         7.39730e+01,  1.10656e+02,  6.95150e+00,  2.41880e+00,\n",
              "         2.47690e+00,  2.37500e+00,  5.16860e+00],\n",
              "       [ 4.90330e+00,  5.11180e+00,  5.12430e+00, -1.96900e+00,\n",
              "         3.89600e+01,  9.63000e+01,  4.47340e+00,  3.64150e+00,\n",
              "         3.77710e+00,  3.78420e+00,  2.98290e+00],\n",
              "       [ 1.69750e+01,  1.40779e+01,  1.55189e+01, -7.16000e-01,\n",
              "         4.38000e+01,  8.01330e+01,  1.17000e-02,  1.76582e+01,\n",
              "         2.16400e+01,  1.83388e+01,  8.70000e-03]])"
            ]
          },
          "metadata": {},
          "execution_count": 13
        }
      ]
    },
    {
      "cell_type": "markdown",
      "source": [
        "## Machine Learning Models Implemented in Sci-kit Learn\n",
        "\n",
        "``sci-kit learn`` is a Python package that faciliates the implementation of several machine learning models for dimensionality reduction, clustering, classification, regression, and more."
      ],
      "metadata": {
        "id": "svC874oHDb5w"
      }
    },
    {
      "cell_type": "code",
      "source": [
        "!pip install -U scikit-learn"
      ],
      "metadata": {
        "id": "ZaGVRxi0o6Ko",
        "outputId": "5ee4bfbe-c74c-4e1f-aa77-e2322ace2a91",
        "colab": {
          "base_uri": "https://localhost:8080/"
        }
      },
      "execution_count": null,
      "outputs": [
        {
          "output_type": "stream",
          "name": "stdout",
          "text": [
            "Looking in indexes: https://pypi.org/simple, https://us-python.pkg.dev/colab-wheels/public/simple/\n",
            "Requirement already satisfied: scikit-learn in /usr/local/lib/python3.7/dist-packages (1.0.2)\n",
            "Requirement already satisfied: scipy>=1.1.0 in /usr/local/lib/python3.7/dist-packages (from scikit-learn) (1.7.3)\n",
            "Requirement already satisfied: numpy>=1.14.6 in /usr/local/lib/python3.7/dist-packages (from scikit-learn) (1.21.6)\n",
            "Requirement already satisfied: joblib>=0.11 in /usr/local/lib/python3.7/dist-packages (from scikit-learn) (1.1.0)\n",
            "Requirement already satisfied: threadpoolctl>=2.0.0 in /usr/local/lib/python3.7/dist-packages (from scikit-learn) (3.1.0)\n"
          ]
        }
      ]
    },
    {
      "cell_type": "markdown",
      "source": [
        "Before performing K-means clustering, the data is pre-processed such that each feature has a mean centered at zero and a standard deviation of 1.\n",
        "\n",
        "**Try modifying**\n",
        "\n",
        "Run the K--means clustering on the un-scaled feature vector ``feature_vect`` instead to see what happens"
      ],
      "metadata": {
        "id": "svLOsMPEW00E"
      }
    },
    {
      "cell_type": "code",
      "source": [
        "from sklearn.cluster import KMeans\n",
        "from sklearn import preprocessing as pp\n",
        "\n",
        "'''\n",
        "Scale feature vector: pre-processing step such that features have zero mean and \n",
        "unit variance\n",
        "''' \n",
        "scaler = pp.StandardScaler().fit(feature_vect)\n",
        "\n",
        "feat_vec_scale = scaler.transform(feature_vect)\n",
        "\n",
        "print('mean: ', feat_vec_scale.mean(axis=0))\n",
        "print('std. deviation: ', feat_vec_scale.std(axis=0))"
      ],
      "metadata": {
        "colab": {
          "base_uri": "https://localhost:8080/"
        },
        "id": "U256lcmBX4lN",
        "outputId": "b420f1e8-8a1d-4bd4-85e5-dc011db7d504"
      },
      "execution_count": null,
      "outputs": [
        {
          "output_type": "stream",
          "name": "stdout",
          "text": [
            "mean:  [-1.33226763e-17  5.44009282e-17  1.47659662e-16  7.75768338e-17\n",
            "  2.04281037e-16  3.33066907e-18  1.84297022e-16 -2.77555756e-17\n",
            " -5.10702591e-17 -3.88578059e-17  1.53210777e-16]\n",
            "std. deviation:  [1. 1. 1. 1. 1. 1. 1. 1. 1. 1. 1.]\n"
          ]
        }
      ]
    },
    {
      "cell_type": "markdown",
      "source": [
        "Run the K-means clustering and output the cluster labels for each sample in the dataset.\n",
        "\n",
        "**Try modifiying**\n",
        "\n",
        "Change the number of cluster! ``K``"
      ],
      "metadata": {
        "id": "zbl03YqbYirE"
      }
    },
    {
      "cell_type": "code",
      "source": [
        "#Fit K-means model\n",
        "\n",
        "K = 5; #CHANGE the number of clusters generated\n",
        "kmeans = KMeans(n_clusters=K).fit(feat_vec_scale) #CHANGE to the unscaled/un-whitened feature_vect to see what happens!\n",
        "lbl = kmeans.labels_\n",
        "centers = kmeans.cluster_centers_\n",
        "y_kmeans = kmeans.predict(feat_vec_scale)\n",
        "print(y_kmeans)"
      ],
      "metadata": {
        "id": "XtbGanGNpSAY",
        "colab": {
          "base_uri": "https://localhost:8080/"
        },
        "outputId": "c6f40e63-2eec-474d-8702-2aabaefa8906"
      },
      "execution_count": null,
      "outputs": [
        {
          "output_type": "stream",
          "name": "stdout",
          "text": [
            "[4 4 3 3 3 3 3 1 3 4 4 4 1 4 3 3 1 3 3 3 3 1 3 3 3 2 3 3 1 0 1 1 1 1 1 1 1\n",
            " 1 3 3 3 1 1 1 1 3 3 3 3 3]\n"
          ]
        }
      ]
    },
    {
      "cell_type": "code",
      "source": [
        "#Print contents of each cluster\n",
        "import numpy as np\n",
        "\n",
        "for k in range(K): #For each generated cluster\n",
        "    pos= [n for (n,m) in enumerate(lbl) if m==k] #Get the indices in the labels vector which point ot that cluster\n",
        "    compGrp = np.array(comp_list)[pos]\n",
        "    print('Generated Compound Cluster #{}'.format(k+1))\n",
        "    print(compGrp)\n",
        "    print('mean feature values of the cluster:')\n",
        "    print([{f:m} for f,m in zip(scalar_cols, centers[k])])\n",
        "    print('\\n')"
      ],
      "metadata": {
        "colab": {
          "base_uri": "https://localhost:8080/"
        },
        "id": "7QFv4XsNS7kb",
        "outputId": "26715837-b738-485e-d51f-1d5fb8a45af2"
      },
      "execution_count": null,
      "outputs": [
        {
          "output_type": "stream",
          "name": "stdout",
          "text": [
            "Generated Compound Cluster #1\n",
            "['BeO']\n",
            "mean feature values of the cluster:\n",
            "[{'epsilon_x opt': -0.4985765556070252}, {'epsilon_y opt': -0.44352794159575876}, {'epsilon_z opt': -0.39722621949893017}, {'e_form': -1.2505278304491392}, {'shear modulus': 5.250759493766172}, {'bulk modulus': 3.970117173766432}, {'gap tbmbj': 1.506400920957915}, {'epsilon_x tbmbj': -0.4353848207716034}, {'epsilon_y tbmbj': -0.35218821306543263}, {'epsilon_z tbmbj': -0.2954181626154681}, {'gap opt': 1.7572691120259651}]\n",
            "\n",
            "\n",
            "Generated Compound Cluster #2\n",
            "['AlHO2' 'ScBrO' 'ScHO2' 'NdIO' 'BeF2' 'CO2' 'CaCl2' 'SrClF' 'SrBrF'\n",
            " 'SrCl2' 'CaCl2' 'CaClF' 'NaHF2' 'AsF3' 'KSc2F7' 'CClF3' 'K2MgF4']\n",
            "mean feature values of the cluster:\n",
            "[{'epsilon_x opt': -0.49856046466816817}, {'epsilon_y opt': -0.44987579963068974}, {'epsilon_z opt': -0.40449841660578467}, {'e_form': -0.9600209024705456}, {'shear modulus': -0.0472778785120525}, {'bulk modulus': -0.06203775122462261}, {'gap tbmbj': 1.028887385213975}, {'epsilon_x tbmbj': -0.4384430194885642}, {'epsilon_y tbmbj': -0.35688308637197885}, {'epsilon_z tbmbj': -0.29937843629234284}, {'gap opt': 1.0672560059995477}]\n",
            "\n",
            "\n",
            "Generated Compound Cluster #3\n",
            "['CoF2']\n",
            "mean feature values of the cluster:\n",
            "[{'epsilon_x opt': 5.118080483232208}, {'epsilon_y opt': 5.176294061860992}, {'epsilon_z opt': 5.821624635010576}, {'e_form': 0.24850991676223486}, {'shear modulus': 0.6453762819050016}, {'bulk modulus': 2.169974828558438}, {'gap tbmbj': -1.4111669293016793}, {'epsilon_x tbmbj': 4.325172905340975}, {'epsilon_y tbmbj': 5.546947827501139}, {'epsilon_z tbmbj': 6.202183200667313}, {'gap opt': -1.3897437533069272}]\n",
            "\n",
            "\n",
            "Generated Compound Cluster #4\n",
            "['MoO3' 'AgI' 'ZrBrN' 'InBr3' 'YI3' 'BiOF' 'VOF3' 'ZnCl2' 'ZrMo2O8'\n",
            " 'BaCaI4' 'CaPbI4' 'YBr3' 'Li2WS4' 'SnO2' 'SnO2' 'GaS' 'RbPS3' 'Bi2SO2'\n",
            " 'BrF5' 'IF7' 'LiMgP' 'H4BrN' 'NaHS' 'SrAl2Te4' 'AgAsF6']\n",
            "mean feature values of the cluster:\n",
            "[{'epsilon_x opt': -0.21682222679516291}, {'epsilon_y opt': -0.23587457661443534}, {'epsilon_z opt': -0.16805750265177455}, {'e_form': 0.5233023387250574}, {'shear modulus': -0.2717191062119349}, {'bulk modulus': -0.30732137643418195}, {'gap tbmbj': -0.3734596970308861}, {'epsilon_x tbmbj': -0.2512046137285392}, {'epsilon_y tbmbj': -0.2548553906640444}, {'epsilon_z tbmbj': -0.19708268826991868}, {'gap opt': -0.4074735795047337}]\n",
            "\n",
            "\n",
            "Generated Compound Cluster #5\n",
            "['As' 'CuHOF' 'CuHO2' 'TiClO' 'VCuO4' 'ZnCu3H6Cl2O6']\n",
            "mean feature values of the cluster:\n",
            "[{'epsilon_x opt': 1.5460966069354574}, {'epsilon_y opt': 1.4686644814695633}, {'epsilon_z opt': 0.9422520388468436}, {'e_form': 0.7066357979266257}, {'shear modulus': 0.28342763572201696}, {'bulk modulus': 0.43293069655804395}, {'gap tbmbj': -1.3749711857536084}, {'epsilon_x tbmbj': 1.6406430983249498}, {'epsilon_y tbmbj': 1.2072729367481736}, {'epsilon_z tbmbj': 0.6849559309443248}, {'gap opt': -1.387339662182166}]\n",
            "\n",
            "\n"
          ]
        }
      ]
    },
    {
      "cell_type": "markdown",
      "source": [
        "Here, we will use principal component analysis (PCA) primarily as a way to visualize our \"high-dimensional\" data (11 total features) in two dimensions. \n",
        "\n",
        "**Try modifying**\n",
        "\n",
        "Perform the PCA on the feeature vector first and then apply the K-means clustering algorithm to the principal component vectors."
      ],
      "metadata": {
        "id": "XW_F_bvfY4mL"
      }
    },
    {
      "cell_type": "code",
      "source": [
        "# Plot samples against first two principal components, colored by their cluster\n",
        "import matplotlib.pyplot as plt\n",
        "%matplotlib inline\n",
        "from sklearn.decomposition import PCA\n",
        "pca = PCA(n_components = 2)\n",
        "pca.fit(feat_vec_scale)\n",
        "print(pca)\n",
        "comp_dim = pca.transform(feat_vec_scale)\n",
        "plt.figure()\n",
        "plt.scatter(comp_dim[:,0], comp_dim[:,1], c=y_kmeans) \n",
        "plt.xlabel('Principal Component 1')\n",
        "plt.ylabel('Principal Component 2')\n",
        "plt.show()"
      ],
      "metadata": {
        "colab": {
          "base_uri": "https://localhost:8080/",
          "height": 297
        },
        "id": "HSYvic0kvyXA",
        "outputId": "7480cd03-d894-47a2-de1e-842898f6270d"
      },
      "execution_count": null,
      "outputs": [
        {
          "output_type": "stream",
          "name": "stdout",
          "text": [
            "PCA(n_components=2)\n"
          ]
        },
        {
          "output_type": "display_data",
          "data": {
            "text/plain": [
              "<Figure size 432x288 with 1 Axes>"
            ],
            "image/png": "[encoded data removed]"
          },
          "metadata": {
            "needs_background": "light"
          }
        }
      ]
    },
    {
      "cell_type": "markdown",
      "source": [
        "The principal components are linear combinations of the original features. Here, we plot out how each principal component weights the original features. "
      ],
      "metadata": {
        "id": "_IvfS47uZjOm"
      }
    },
    {
      "cell_type": "code",
      "source": [
        "# Show the weights of different features in the first two principal components\n",
        "\n",
        "pca_weights = pca.components_\n",
        "fig, (ax1,ax2) = plt.subplots(2,1)\n",
        "fig.tight_layout()\n",
        "ax1.bar(scalar_cols,pca_weights[0])\n",
        "ax1.set_xticks([])\n",
        "ax2.bar(scalar_cols,pca_weights[1])\n",
        "plt.xticks(rotation=30, ha='right')"
      ],
      "metadata": {
        "colab": {
          "base_uri": "https://localhost:8080/",
          "height": 370
        },
        "id": "gWBrKL0L1eO2",
        "outputId": "f5503671-146d-4c6e-dadf-1c234a1e86ae"
      },
      "execution_count": null,
      "outputs": [
        {
          "output_type": "execute_result",
          "data": {
            "text/plain": [
              "([0, 1, 2, 3, 4, 5, 6, 7, 8, 9, 10],\n",
              " <a list of 11 Text major ticklabel objects>)"
            ]
          },
          "metadata": {},
          "execution_count": 12
        },
        {
          "output_type": "display_data",
          "data": {
            "text/plain": [
              "<Figure size 432x288 with 2 Axes>"
            ],
            "image/png": "[encoded data removed]"
          },
          "metadata": {
            "needs_background": "light"
          }
        }
      ]
    }
  ]
}