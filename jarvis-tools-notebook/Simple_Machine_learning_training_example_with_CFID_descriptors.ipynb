{
  "nbformat": 4,
  "nbformat_minor": 0,
  "metadata": {
    "kernelspec": {
      "display_name": "Python 3",
      "language": "python",
      "name": "python3"
    },
    "language_info": {
      "codemirror_mode": {
        "name": "ipython",
        "version": 3
      },
      "file_extension": ".py",
      "mimetype": "text/x-python",
      "name": "python",
      "nbconvert_exporter": "python",
      "pygments_lexer": "ipython3",
      "version": "3.6.7"
    },
    "colab": {
      "name": "Simple Machine-learning training example with CFID-descriptors.ipynb",
      "provenance": [],
      "include_colab_link": true
    }
  },
  "cells": [
    {
      "cell_type": "markdown",
      "metadata": {
        "id": "view-in-github",
        "colab_type": "text"
      },
      "source": [
        "<a href=\"https://colab.research.google.com/github/knc6/jarvis-tools-notebooks/blob/master/jarvis-tools-notebook/Simple_Machine_learning_training_example_with_CFID_descriptors.ipynb\" target=\"_parent\"><img src=\"https://colab.research.google.com/assets/colab-badge.svg\" alt=\"Open In Colab\"/></a>"
      ]
    },
    {
      "cell_type": "markdown",
      "metadata": {
        "id": "15yKEfjv3lD0",
        "colab_type": "text"
      },
      "source": [
        "# Table of contents\n",
        "\n",
        "1. Loading CFID-3D dataset from figshare \n",
        "2. Making pandas dataframe\n",
        "3. Properties available, keys\n",
        "4. Preparing training and target data\n",
        "5. Simple regression traiing on 500 samples for formation energies\n",
        "6. Visualizing training results"
      ]
    },
    {
      "cell_type": "code",
      "metadata": {
        "id": "hQs6OeUm4gLa",
        "colab_type": "code",
        "outputId": "a317b157-d768-4c9c-cb24-9e2823bc8bfb",
        "colab": {
          "base_uri": "https://localhost:8080/",
          "height": 425
        }
      },
      "source": [
        "!pip install jarvis-tools"
      ],
      "execution_count": 1,
      "outputs": [
        {
          "output_type": "stream",
          "text": [
            "Requirement already satisfied: jarvis-tools in /usr/local/lib/python3.6/dist-packages (2020.6.9)\n",
            "Requirement already satisfied: scipy in /usr/local/lib/python3.6/dist-packages (from jarvis-tools) (1.4.1)\n",
            "Requirement already satisfied: matplotlib in /usr/local/lib/python3.6/dist-packages (from jarvis-tools) (3.2.1)\n",
            "Requirement already satisfied: pytest in /usr/local/lib/python3.6/dist-packages (from jarvis-tools) (3.6.4)\n",
            "Requirement already satisfied: toolz in /usr/local/lib/python3.6/dist-packages (from jarvis-tools) (0.10.0)\n",
            "Requirement already satisfied: requests in /usr/local/lib/python3.6/dist-packages (from jarvis-tools) (2.23.0)\n",
            "Requirement already satisfied: spglib in /usr/local/lib/python3.6/dist-packages (from jarvis-tools) (1.15.1)\n",
            "Requirement already satisfied: numpy in /usr/local/lib/python3.6/dist-packages (from jarvis-tools) (1.18.5)\n",
            "Requirement already satisfied: xmltodict in /usr/local/lib/python3.6/dist-packages (from jarvis-tools) (0.12.0)\n",
            "Requirement already satisfied: pyparsing!=2.0.4,!=2.1.2,!=2.1.6,>=2.0.1 in /usr/local/lib/python3.6/dist-packages (from matplotlib->jarvis-tools) (2.4.7)\n",
            "Requirement already satisfied: python-dateutil>=2.1 in /usr/local/lib/python3.6/dist-packages (from matplotlib->jarvis-tools) (2.8.1)\n",
            "Requirement already satisfied: kiwisolver>=1.0.1 in /usr/local/lib/python3.6/dist-packages (from matplotlib->jarvis-tools) (1.2.0)\n",
            "Requirement already satisfied: cycler>=0.10 in /usr/local/lib/python3.6/dist-packages (from matplotlib->jarvis-tools) (0.10.0)\n",
            "Requirement already satisfied: py>=1.5.0 in /usr/local/lib/python3.6/dist-packages (from pytest->jarvis-tools) (1.8.1)\n",
            "Requirement already satisfied: more-itertools>=4.0.0 in /usr/local/lib/python3.6/dist-packages (from pytest->jarvis-tools) (8.3.0)\n",
            "Requirement already satisfied: six>=1.10.0 in /usr/local/lib/python3.6/dist-packages (from pytest->jarvis-tools) (1.12.0)\n",
            "Requirement already satisfied: attrs>=17.4.0 in /usr/local/lib/python3.6/dist-packages (from pytest->jarvis-tools) (19.3.0)\n",
            "Requirement already satisfied: atomicwrites>=1.0 in /usr/local/lib/python3.6/dist-packages (from pytest->jarvis-tools) (1.4.0)\n",
            "Requirement already satisfied: setuptools in /usr/local/lib/python3.6/dist-packages (from pytest->jarvis-tools) (47.1.1)\n",
            "Requirement already satisfied: pluggy<0.8,>=0.5 in /usr/local/lib/python3.6/dist-packages (from pytest->jarvis-tools) (0.7.1)\n",
            "Requirement already satisfied: idna<3,>=2.5 in /usr/local/lib/python3.6/dist-packages (from requests->jarvis-tools) (2.9)\n",
            "Requirement already satisfied: urllib3!=1.25.0,!=1.25.1,<1.26,>=1.21.1 in /usr/local/lib/python3.6/dist-packages (from requests->jarvis-tools) (1.24.3)\n",
            "Requirement already satisfied: certifi>=2017.4.17 in /usr/local/lib/python3.6/dist-packages (from requests->jarvis-tools) (2020.4.5.1)\n",
            "Requirement already satisfied: chardet<4,>=3.0.2 in /usr/local/lib/python3.6/dist-packages (from requests->jarvis-tools) (3.0.4)\n"
          ],
          "name": "stdout"
        }
      ]
    },
    {
      "cell_type": "code",
      "metadata": {
        "id": "558w5WHK3lD2",
        "colab_type": "code",
        "outputId": "fa8bdc04-16cc-41e7-abd4-e5f7e7c1d2c0",
        "colab": {
          "base_uri": "https://localhost:8080/",
          "height": 34
        }
      },
      "source": [
        "# !pip install jarvis-tools, and restart runtime in the notebook if you haven't installed it yet\n",
        "from jarvis.db.figshare import data\n",
        "import pandas as pd\n",
        "import numpy as np\n",
        "from sklearn.ensemble import GradientBoostingRegressor\n",
        "from sklearn.model_selection import train_test_split\n",
        "from sklearn.metrics import mean_absolute_error, r2_score, mean_squared_error\n",
        "\n",
        "cfid_3d = data('cfid_3d')"
      ],
      "execution_count": 2,
      "outputs": [
        {
          "output_type": "stream",
          "text": [
            "Downloading 3D CFID dataset ...\n"
          ],
          "name": "stdout"
        }
      ]
    },
    {
      "cell_type": "code",
      "metadata": {
        "id": "ZMHa9dhn3lEC",
        "colab_type": "code",
        "outputId": "866822e4-1c88-43d2-82dd-577240d0bd5c",
        "colab": {
          "base_uri": "https://localhost:8080/",
          "height": 34
        }
      },
      "source": [
        "len(cfid_3d)"
      ],
      "execution_count": 3,
      "outputs": [
        {
          "output_type": "execute_result",
          "data": {
            "text/plain": [
              "35984"
            ]
          },
          "metadata": {
            "tags": []
          },
          "execution_count": 3
        }
      ]
    },
    {
      "cell_type": "code",
      "metadata": {
        "id": "bzMX3WB63lEM",
        "colab_type": "code",
        "colab": {}
      },
      "source": [
        "typical_data_ranges = {'formation_energy_peratom': [-5, 5], 'optb88vdw_bandgap': [0, 10], 'mbj_bandgap': [0, 10], 'bulk_modulus_kv': [0, 250], 'shear_modulus_gv': [0, 250], 'epsx': [0, 60], 'epsy': [0, 60], 'epsz': [0, 60], 'mepsx': [0, 60], 'mepsy': [0, 60], 'mepsz': [0, 60], 'n-Seebeck': [-600, 10], 'n-powerfact': [0, 5000], 'p-Seebeck': [-10, 600], 'p-powerfact': [0, 5000], 'slme': [0, 40], 'spillage': [0, 4], 'encut': [0, 2000], 'kpoint_length_unit': [0, 200], 'dfpt_piezo_max_dielectric': [0, 100], 'dfpt_piezo_max_dij': [0, 3000], 'dfpt_piezo_max_eij': [0, 10], 'ehull': [0, 1], 'electron_avg_effective_masses_300K': [0, 3], 'hole_avg_effective_masses_300K': [0, 3], 'exfoliation_energy': [0, 1000], 'magmom_oszicar': [0, 10], 'max_ir_mode': [0, 4000], 'total_energy_per_atom': [-10, 3]}"
      ],
      "execution_count": 0,
      "outputs": []
    },
    {
      "cell_type": "code",
      "metadata": {
        "id": "BZAPF8L23lEX",
        "colab_type": "code",
        "outputId": "f62c3909-0a30-4c8c-9ffa-84739afd311b",
        "colab": {
          "base_uri": "https://localhost:8080/",
          "height": 510
        }
      },
      "source": [
        "typical_data_ranges"
      ],
      "execution_count": 5,
      "outputs": [
        {
          "output_type": "execute_result",
          "data": {
            "text/plain": [
              "{'bulk_modulus_kv': [0, 250],\n",
              " 'dfpt_piezo_max_dielectric': [0, 100],\n",
              " 'dfpt_piezo_max_dij': [0, 3000],\n",
              " 'dfpt_piezo_max_eij': [0, 10],\n",
              " 'ehull': [0, 1],\n",
              " 'electron_avg_effective_masses_300K': [0, 3],\n",
              " 'encut': [0, 2000],\n",
              " 'epsx': [0, 60],\n",
              " 'epsy': [0, 60],\n",
              " 'epsz': [0, 60],\n",
              " 'exfoliation_energy': [0, 1000],\n",
              " 'formation_energy_peratom': [-5, 5],\n",
              " 'hole_avg_effective_masses_300K': [0, 3],\n",
              " 'kpoint_length_unit': [0, 200],\n",
              " 'magmom_oszicar': [0, 10],\n",
              " 'max_ir_mode': [0, 4000],\n",
              " 'mbj_bandgap': [0, 10],\n",
              " 'mepsx': [0, 60],\n",
              " 'mepsy': [0, 60],\n",
              " 'mepsz': [0, 60],\n",
              " 'n-Seebeck': [-600, 10],\n",
              " 'n-powerfact': [0, 5000],\n",
              " 'optb88vdw_bandgap': [0, 10],\n",
              " 'p-Seebeck': [-10, 600],\n",
              " 'p-powerfact': [0, 5000],\n",
              " 'shear_modulus_gv': [0, 250],\n",
              " 'slme': [0, 40],\n",
              " 'spillage': [0, 4],\n",
              " 'total_energy_per_atom': [-10, 3]}"
            ]
          },
          "metadata": {
            "tags": []
          },
          "execution_count": 5
        }
      ]
    },
    {
      "cell_type": "code",
      "metadata": {
        "id": "FeAbxONh3lEf",
        "colab_type": "code",
        "colab": {}
      },
      "source": [
        "df=pd.DataFrame(cfid_3d)"
      ],
      "execution_count": 0,
      "outputs": []
    },
    {
      "cell_type": "code",
      "metadata": {
        "id": "opjgI4dT3lEn",
        "colab_type": "code",
        "outputId": "3eeb0fa3-0ee5-4ee6-80ab-756a38a5c4d3",
        "colab": {
          "base_uri": "https://localhost:8080/",
          "height": 170
        }
      },
      "source": [
        "df.columns"
      ],
      "execution_count": 7,
      "outputs": [
        {
          "output_type": "execute_result",
          "data": {
            "text/plain": [
              "Index(['jid', 'desc', 'formation_energy_peratom', 'optb88vdw_bandgap',\n",
              "       'kpoint_length_unit', 'encut', 'mbj_bandgap', 'epsx', 'mepsx', 'epsy',\n",
              "       'mepsy', 'epsz', 'mepsz', 'bulk_modulus_kv', 'shear_modulus_gv',\n",
              "       'magmom_oszicar', 'spillage', 'slme', 'dfpt_piezo_max_eij',\n",
              "       'dfpt_piezo_max_dij', 'dfpt_piezo_max_dielectric', 'max_ir_mode',\n",
              "       'n-Seebeck', 'p-Seebeck', 'n-powerfact', 'p-powerfact',\n",
              "       'exfoliation_energy', 'ehull', 'total_energy_per_atom',\n",
              "       'electron_avg_effective_masses_300K', 'hole_avg_effective_masses_300K'],\n",
              "      dtype='object')"
            ]
          },
          "metadata": {
            "tags": []
          },
          "execution_count": 7
        }
      ]
    },
    {
      "cell_type": "code",
      "metadata": {
        "id": "ewR1piMw3lEy",
        "colab_type": "code",
        "colab": {}
      },
      "source": [
        "def get_ml_data(dataframe='', ml_property='formation_energy_peratom'):   \n",
        "    x = []\n",
        "    y = []\n",
        "    jid = []\n",
        "    df2 = dataframe[['desc','jid',ml_property]].replace('na',np.nan).dropna()\n",
        "    for ii,i in df2.iterrows():\n",
        "        if len(i['desc']) ==1557 and float(i[ml_property])!=float('inf') and i[ml_property]!='na' \\\n",
        "            and float(i[ml_property])<typical_data_ranges[ml_property][1] \\\n",
        "            and float(i[ml_property])>typical_data_ranges[ml_property][0] :\n",
        "            x.append(i['desc'])\n",
        "            y.append(i[ml_property])\n",
        "            jid.append(i['jid'])\n",
        "    return np.array(x,dtype='float'),np.array(y,dtype='float'),jid"
      ],
      "execution_count": 0,
      "outputs": []
    },
    {
      "cell_type": "code",
      "metadata": {
        "id": "k16yeprS3lE6",
        "colab_type": "code",
        "colab": {}
      },
      "source": [
        "ml_property= 'formation_energy_peratom' #'bulk_modulus_kv'\n",
        "x, y, jids = get_ml_data(dataframe=df, ml_property='formation_energy_peratom')"
      ],
      "execution_count": 0,
      "outputs": []
    },
    {
      "cell_type": "code",
      "metadata": {
        "id": "6uTATSKE3lFB",
        "colab_type": "code",
        "outputId": "315ba85d-fbb7-4a49-b6a8-6c6d45e31cba",
        "colab": {
          "base_uri": "https://localhost:8080/",
          "height": 34
        }
      },
      "source": [
        "# 90 %-10 % train-test split\n",
        "X_train, X_test, y_train, y_test,jid_train,jid_test = train_test_split(x, y,jids, random_state=1, test_size=0.1)\n",
        "print (len(X_train), len(X_test))"
      ],
      "execution_count": 10,
      "outputs": [
        {
          "output_type": "stream",
          "text": [
            "32296 3589\n"
          ],
          "name": "stdout"
        }
      ]
    },
    {
      "cell_type": "code",
      "metadata": {
        "id": "vxL4Oqbf3lFL",
        "colab_type": "code",
        "outputId": "88dfc3f2-a186-4ef6-9d9e-e44b1cdf1557",
        "colab": {
          "base_uri": "https://localhost:8080/",
          "height": 34
        }
      },
      "source": [
        "#Let's take 500 samples only for a quick training\n",
        "# For more accurate models, higher number of points and hyper-parameter optimization etc. is needed\n",
        "X1=X_train[0:500]\n",
        "Y1=y_train[0:500]\n",
        "X2=X_test[0:500]\n",
        "Y2=y_test[0:500]\n",
        "print (X1.shape)"
      ],
      "execution_count": 11,
      "outputs": [
        {
          "output_type": "stream",
          "text": [
            "(500, 1557)\n"
          ],
          "name": "stdout"
        }
      ]
    },
    {
      "cell_type": "code",
      "metadata": {
        "id": "xpqRyJkf5N1j",
        "colab_type": "code",
        "colab": {}
      },
      "source": [
        "#Typical hyperparameter optimized parameters in LightGBM:\n",
        "#\"n_estimators\": 1170,\n",
        "#\"learning_rate\": 0.15375236057119931,\n",
        "#\"num_leaves\": 273,"
      ],
      "execution_count": 0,
      "outputs": []
    },
    {
      "cell_type": "code",
      "metadata": {
        "id": "89orrMhl3lFT",
        "colab_type": "code",
        "outputId": "2b8ec18d-cf01-4642-d24d-17c311813f89",
        "colab": {
          "base_uri": "https://localhost:8080/",
          "height": 170
        }
      },
      "source": [
        "# GB regressor with default parameters\n",
        "model = GradientBoostingRegressor()\n",
        "model.fit(X1,Y1)"
      ],
      "execution_count": 13,
      "outputs": [
        {
          "output_type": "execute_result",
          "data": {
            "text/plain": [
              "GradientBoostingRegressor(alpha=0.9, ccp_alpha=0.0, criterion='friedman_mse',\n",
              "                          init=None, learning_rate=0.1, loss='ls', max_depth=3,\n",
              "                          max_features=None, max_leaf_nodes=None,\n",
              "                          min_impurity_decrease=0.0, min_impurity_split=None,\n",
              "                          min_samples_leaf=1, min_samples_split=2,\n",
              "                          min_weight_fraction_leaf=0.0, n_estimators=100,\n",
              "                          n_iter_no_change=None, presort='deprecated',\n",
              "                          random_state=None, subsample=1.0, tol=0.0001,\n",
              "                          validation_fraction=0.1, verbose=0, warm_start=False)"
            ]
          },
          "metadata": {
            "tags": []
          },
          "execution_count": 13
        }
      ]
    },
    {
      "cell_type": "code",
      "metadata": {
        "id": "zWBVD2y_3lFe",
        "colab_type": "code",
        "colab": {}
      },
      "source": [
        "# predict on 10% held set which was not used during training\n",
        "pred=model.predict(X2)"
      ],
      "execution_count": 0,
      "outputs": []
    },
    {
      "cell_type": "code",
      "metadata": {
        "id": "UMOhzjHK3lFp",
        "colab_type": "code",
        "colab": {}
      },
      "source": [
        "def regr_scores(pred, test):\n",
        "\n",
        "    \"\"\"\n",
        "   Generic regresion scores\n",
        "   Args:\n",
        "       pred: predicted values\n",
        "       test: held data for testing\n",
        "   Returns:\n",
        "        info: with metrics\n",
        "   \"\"\"\n",
        "\n",
        "    rmse = np.sqrt(mean_squared_error(test, pred))\n",
        "    r2 = r2_score(test, pred)\n",
        "    mae = mean_absolute_error(test, pred)\n",
        "    info = {}\n",
        "    info[\"mae\"] = mae\n",
        "    info[\"rmse\"] = rmse\n",
        "    info[\"r2\"] = r2\n",
        "    info[\"test\"] = test\n",
        "    info[\"pred\"] = pred\n",
        "    return info"
      ],
      "execution_count": 0,
      "outputs": []
    },
    {
      "cell_type": "code",
      "metadata": {
        "id": "2MsSPIJF3lFz",
        "colab_type": "code",
        "outputId": "2890da0b-80a3-4430-bf9c-ae98107ff225",
        "colab": {
          "base_uri": "https://localhost:8080/",
          "height": 296
        }
      },
      "source": [
        "import matplotlib\n",
        "%matplotlib inline\n",
        "import matplotlib.pyplot as plt\n",
        "reg_sc=regr_scores(Y2,pred)\n",
        "plt.plot(reg_sc['test'],reg_sc['pred'],'.')\n",
        "plt.plot(reg_sc['test'],reg_sc['test'])\n",
        "plt.xlabel('DFT-Formation energy (eV/atom)')\n",
        "plt.ylabel('ML-Formation energy (eV/atom)')"
      ],
      "execution_count": 16,
      "outputs": [
        {
          "output_type": "execute_result",
          "data": {
            "text/plain": [
              "Text(0, 0.5, 'ML-Formation energy (eV/atom)')"
            ]
          },
          "metadata": {
            "tags": []
          },
          "execution_count": 16
        },
        {
          "output_type": "display_data",
          "data": {
            "image/png": "[encoded data removed]",
            "text/plain": [
              "<Figure size 432x288 with 1 Axes>"
            ]
          },
          "metadata": {
            "tags": [],
            "needs_background": "light"
          }
        }
      ]
    },
    {
      "cell_type": "code",
      "metadata": {
        "id": "M29e26733lF8",
        "colab_type": "code",
        "outputId": "5535a08f-b5ec-4aa5-df78-0f18b28aaf83",
        "colab": {
          "base_uri": "https://localhost:8080/",
          "height": 1000
        }
      },
      "source": [
        "reg_sc"
      ],
      "execution_count": 17,
      "outputs": [
        {
          "output_type": "execute_result",
          "data": {
            "text/plain": [
              "{'mae': 0.33948920709652736,\n",
              " 'pred': array([-5.45600e-01, -8.65070e-01, -3.57351e+00, -4.04090e-01,\n",
              "        -2.04330e-01, -3.01580e-01, -9.33380e-01,  2.46300e-02,\n",
              "        -2.62110e-01, -3.41750e-01, -1.19774e+00, -6.00190e-01,\n",
              "         2.19495e+00, -7.81920e-01, -1.37543e+00, -8.81780e-01,\n",
              "        -1.63630e+00,  4.94320e-01,  5.40840e-01, -1.04231e+00,\n",
              "        -2.90683e+00, -1.92280e+00, -4.57090e-01, -5.06550e-01,\n",
              "         1.32653e+00, -1.99352e+00,  0.00000e+00, -7.41100e-02,\n",
              "        -1.10508e+00, -7.04600e-02, -6.12180e-01, -6.99200e-02,\n",
              "        -2.68686e+00, -7.44630e-01, -2.68000e-02, -8.05270e-01,\n",
              "        -1.77026e+00, -1.59050e-01, -2.15373e+00, -2.29268e+00,\n",
              "        -2.70930e-01, -3.88660e-01, -1.60602e+00, -3.37628e+00,\n",
              "         1.48540e-01, -2.49145e+00, -3.84650e-01,  4.40800e-02,\n",
              "        -3.81490e-01, -3.78710e-01, -2.19218e+00, -1.68608e+00,\n",
              "        -4.64050e-01, -9.12260e-01, -1.71386e+00, -2.66290e-01,\n",
              "        -1.11490e+00,  5.85330e-01, -1.52261e+00,  2.01440e-01,\n",
              "        -1.12893e+00, -2.34610e-01, -1.35801e+00, -2.56720e-01,\n",
              "         2.72420e-01, -5.60680e-01,  4.82480e-01,  0.00000e+00,\n",
              "        -2.05933e+00,  1.68060e-01, -1.21579e+00, -2.46453e+00,\n",
              "        -8.21120e-01, -1.52938e+00, -2.81120e-01,  1.41300e-01,\n",
              "         2.41540e-01, -1.08051e+00, -1.65040e-01, -2.24489e+00,\n",
              "        -1.17710e-01, -2.27090e+00, -1.17610e-01, -2.22460e+00,\n",
              "         9.77900e-02, -8.61930e-01, -3.87730e-01,  3.05990e-01,\n",
              "        -2.30822e+00, -5.95330e-01, -2.36632e+00, -6.01110e-01,\n",
              "         2.80390e-01, -3.21210e-01,  2.46667e+00, -2.62019e+00,\n",
              "        -4.75710e-01, -2.03270e-01, -1.03131e+00, -6.33100e-01,\n",
              "        -8.88770e-01,  1.05384e+00,  1.38800e-02,  1.24400e-01,\n",
              "         1.24690e-01, -3.55330e-01,  1.35006e+00,  9.05320e-01,\n",
              "        -1.66850e-01, -7.27560e-01, -3.42765e+00, -4.40730e-01,\n",
              "        -7.44710e-01, -2.03492e+00, -6.69080e-01, -1.71080e-01,\n",
              "        -2.35380e-01,  2.59710e-01, -2.67200e-02,  3.84270e-01,\n",
              "        -3.56920e-01,  3.88770e-01, -2.02149e+00, -1.34880e+00,\n",
              "        -2.02500e-02, -7.51920e-01, -3.25583e+00, -9.20050e-01,\n",
              "        -7.08530e-01, -2.62837e+00, -4.28500e-01, -1.50141e+00,\n",
              "        -1.33414e+00, -1.35090e-01, -2.09740e-01, -5.16650e-01,\n",
              "        -1.80074e+00, -3.81850e-01, -2.80047e+00, -2.54205e+00,\n",
              "        -5.76080e-01, -4.25820e-01, -2.23263e+00, -3.93710e-01,\n",
              "        -1.37560e+00, -7.98760e-01, -8.45990e-01, -4.17330e-01,\n",
              "        -6.81920e-01, -1.18543e+00, -2.69523e+00,  9.25000e-02,\n",
              "        -9.32000e-02, -1.14280e+00, -7.70710e-01, -3.73910e-01,\n",
              "        -5.91520e-01, -1.56019e+00, -6.82390e-01, -2.46160e-01,\n",
              "        -8.76880e-01, -4.79980e-01, -2.66200e-02, -5.63500e-02,\n",
              "        -2.43000e-03,  9.17240e-01, -6.86200e-01, -1.26008e+00,\n",
              "         4.86030e-01, -6.87830e-01, -7.47840e-01, -9.70860e-01,\n",
              "        -5.40470e-01, -1.08265e+00,  1.75090e-01, -3.17440e-01,\n",
              "         1.76800e-02,  6.98000e-02,  1.00929e+00, -1.52540e-01,\n",
              "         3.83460e-01, -1.04719e+00, -1.48312e+00, -8.18550e-01,\n",
              "        -3.26750e-01,  1.27460e-01, -2.73648e+00,  5.78110e-01,\n",
              "        -1.32202e+00, -2.57530e-01, -1.33535e+00, -1.54132e+00,\n",
              "        -3.59880e-01,  9.18800e-01, -2.22318e+00, -1.19703e+00,\n",
              "        -1.59123e+00, -4.97510e-01,  1.22670e-01, -1.06000e+00,\n",
              "        -4.67450e-01, -3.62650e-01, -1.28905e+00, -9.09900e-01,\n",
              "        -5.30740e-01, -6.44870e-01, -6.06470e-01, -1.92340e-01,\n",
              "        -9.18970e-01, -1.27340e-01, -4.00380e-01, -7.79950e-01,\n",
              "         5.60580e-01, -3.34738e+00,  6.37420e-01, -2.55500e+00,\n",
              "         3.61500e-02, -2.18794e+00, -3.13062e+00, -2.56079e+00,\n",
              "        -5.19580e-01, -2.79626e+00, -4.19599e+00, -1.39818e+00,\n",
              "         6.96310e-01, -1.91200e-01, -3.49965e+00, -2.68359e+00,\n",
              "        -2.44160e-01, -6.96770e-01,  3.74770e-01, -9.47110e-01,\n",
              "        -1.05716e+00, -1.80566e+00,  1.15100e+00, -7.65940e-01,\n",
              "         6.21660e-01, -3.72580e-01, -3.00990e-01, -2.98154e+00,\n",
              "        -1.24048e+00, -5.65190e-01, -5.76740e-01, -1.41624e+00,\n",
              "         1.11243e+00, -7.81520e-01, -1.74350e+00, -1.72140e-01,\n",
              "         2.38810e-01,  7.31600e-02, -3.71720e-01,  3.15790e-01,\n",
              "        -3.03830e-01,  6.03290e-01, -5.82400e-01, -2.83040e-01,\n",
              "        -9.24030e-01, -1.43173e+00, -1.64948e+00, -4.02630e-01,\n",
              "         6.85000e-03, -1.60539e+00, -3.92610e-01, -2.73503e+00,\n",
              "        -2.35519e+00, -1.82792e+00, -4.38553e+00, -1.41218e+00,\n",
              "        -2.30514e+00,  3.74000e-03, -4.04510e-01, -2.42361e+00,\n",
              "         6.16000e-02,  4.60160e-01, -6.92150e-01, -4.56600e-01,\n",
              "        -2.24286e+00, -4.35790e-01, -1.54762e+00, -1.17800e+00,\n",
              "         4.46390e-01,  5.28770e-01,  3.25530e-01, -2.00512e+00,\n",
              "        -2.31000e-02, -2.31070e-01, -3.19330e-01,  8.05700e-01,\n",
              "         7.10000e-04, -4.54080e-01, -9.77100e-02, -5.25540e-01,\n",
              "        -3.78480e-01, -1.83386e+00, -1.21303e+00,  2.43100e-01,\n",
              "        -2.07159e+00, -1.40920e+00,  5.95360e-01, -6.44900e-02,\n",
              "        -1.65859e+00,  2.74100e-02, -2.08199e+00, -2.91250e-01,\n",
              "        -1.25580e+00, -7.56850e-01, -6.88510e-01, -3.43752e+00,\n",
              "        -2.77887e+00,  9.37910e-01, -2.99148e+00, -3.28769e+00,\n",
              "        -4.35700e-01, -2.60059e+00, -3.33888e+00, -1.26810e-01,\n",
              "        -6.81020e-01, -2.28441e+00, -8.33250e-01, -6.58210e-01,\n",
              "        -6.60330e-01,  1.50920e-01, -6.13770e-01, -2.20139e+00,\n",
              "        -4.09660e-01, -5.43480e-01,  6.96520e-01, -2.97670e-01,\n",
              "        -2.62080e-01, -2.73286e+00, -5.25720e-01, -2.75430e-01,\n",
              "        -2.24198e+00, -2.16602e+00, -3.08069e+00, -8.51240e-01,\n",
              "        -1.25270e-01, -4.72820e-01, -1.55026e+00, -5.29870e-01,\n",
              "        -2.38500e+00,  9.35320e-01,  1.18817e+00, -3.59630e-01,\n",
              "        -6.85480e-01, -3.08260e-01,  1.90230e-01, -3.07000e-01,\n",
              "        -4.84620e-01, -2.89418e+00,  1.04658e+00, -1.47990e-01,\n",
              "        -3.79200e-01,  1.78640e-01, -1.99139e+00, -2.40720e-01,\n",
              "        -6.12110e-01, -1.56356e+00,  3.59300e-02, -2.16375e+00,\n",
              "        -2.92224e+00, -8.07900e-01,  3.40240e-01, -1.80875e+00,\n",
              "         2.75680e-01, -2.46880e+00, -3.95680e-01, -2.04953e+00,\n",
              "         1.05092e+00, -1.00882e+00, -4.41540e-01, -6.70080e-01,\n",
              "        -4.86380e-01, -2.25866e+00, -3.30750e-01, -1.45759e+00,\n",
              "        -2.45614e+00, -7.89600e-02, -4.01010e-01, -9.09360e-01,\n",
              "        -1.11100e-02,  9.88500e-02,  1.02650e-01, -1.87674e+00,\n",
              "        -3.18390e-01, -3.32470e-01,  2.86380e-01, -2.82750e+00,\n",
              "         2.50271e+00, -2.33400e-02, -3.59440e+00, -3.66390e-01,\n",
              "        -2.60945e+00, -2.43014e+00, -1.60300e-01,  6.96300e-01,\n",
              "        -2.53980e-01, -8.82400e-01, -5.51490e-01, -4.22010e-01,\n",
              "        -9.63570e-01, -2.57980e-01,  1.63000e-03, -2.37100e+00,\n",
              "        -4.09070e-01, -2.54401e+00,  1.38210e-01, -8.11180e-01,\n",
              "        -3.20229e+00, -2.11320e-01,  6.03850e-01,  1.56812e+00,\n",
              "         2.06120e-01, -1.67479e+00, -9.20000e-04, -2.08675e+00,\n",
              "        -2.27740e-01, -8.83460e-01, -3.58540e-01,  2.53380e-01,\n",
              "        -4.21720e-01, -2.37030e-01, -6.35600e-02, -1.84781e+00,\n",
              "         5.27500e-02,  7.23610e-01, -4.03400e-02, -2.84593e+00,\n",
              "         5.20400e-01, -2.47615e+00, -2.18620e-01, -1.87617e+00,\n",
              "        -1.82739e+00, -2.11507e+00, -3.90870e-01, -9.69850e-01,\n",
              "         9.47400e-02,  1.89630e-01, -1.73439e+00, -5.37630e-01,\n",
              "        -2.23621e+00,  6.60000e-03, -3.60550e-01, -8.39680e-01,\n",
              "        -3.04830e+00, -2.91620e+00, -3.41959e+00, -2.69704e+00,\n",
              "        -5.36000e-01, -2.48686e+00, -1.93160e-01, -3.84530e-01,\n",
              "        -6.23550e-01,  4.26800e-02, -2.30172e+00, -3.94500e-01,\n",
              "         1.02796e+00, -2.12343e+00, -1.06078e+00, -2.29640e-01,\n",
              "        -9.34360e-01, -3.31400e-01, -5.26670e-01, -2.18335e+00,\n",
              "        -7.08190e-01, -2.27648e+00, -4.56220e-01, -2.15106e+00,\n",
              "        -1.95138e+00, -2.72826e+00, -1.52817e+00, -3.91430e-01,\n",
              "        -3.11100e-01, -2.17759e+00, -1.85033e+00, -2.05545e+00,\n",
              "        -3.33550e-01,  3.52150e-01, -3.96080e-01, -2.16953e+00,\n",
              "        -1.10871e+00, -9.70540e-01, -1.67667e+00, -4.56930e-01,\n",
              "        -6.02400e-02, -1.27771e+00, -1.25740e-01, -7.15100e-02,\n",
              "        -3.34551e+00, -3.86270e-01, -2.29521e+00, -3.64330e-01,\n",
              "         1.02381e+00, -5.64090e-01, -2.75943e+00, -3.60880e-01,\n",
              "        -2.31676e+00, -2.63433e+00,  6.84880e-01, -1.68248e+00]),\n",
              " 'r2': 0.761400826262074,\n",
              " 'rmse': 0.4667767494983757,\n",
              " 'test': array([-6.21140205e-01, -1.16951424e+00, -3.10015388e+00, -4.44967897e-01,\n",
              "        -4.71510457e-01, -5.38391851e-01, -5.70782329e-01,  3.82176398e-02,\n",
              "        -9.78633862e-02, -5.31983188e-01, -5.42295204e-01, -5.17288549e-01,\n",
              "         1.19132902e+00, -6.80499334e-01, -1.87233158e+00, -8.62304797e-01,\n",
              "        -1.68962501e+00,  3.33029684e-01,  9.21192507e-01, -1.54287360e+00,\n",
              "        -2.72705379e+00, -2.26704779e+00, -5.04835158e-01, -4.87813501e-01,\n",
              "        -4.05960138e-01, -2.24109143e+00, -6.15376766e-01, -3.36241058e-02,\n",
              "        -4.80220251e-01,  8.68600956e-02, -2.68113503e-01, -1.54255699e-01,\n",
              "        -2.28539813e+00, -1.27330719e+00, -3.36778369e-02, -2.13589194e-01,\n",
              "        -2.13449546e+00,  3.40315109e-02, -2.57132793e+00, -2.41019144e+00,\n",
              "        -6.82841322e-01, -4.56391228e-01, -2.11074503e+00, -2.59213767e+00,\n",
              "        -7.05424669e-02, -1.97207043e+00, -1.46426183e-01, -1.87704407e-01,\n",
              "        -7.17360200e-01, -2.61782850e-01, -1.55265839e+00, -2.04918520e+00,\n",
              "        -1.73813216e-01, -7.91853276e-01, -1.84857047e+00,  1.25457018e-02,\n",
              "        -6.49102858e-01, -2.08394229e-01, -8.77751777e-01, -6.22228510e-02,\n",
              "        -1.44839033e+00, -2.69498824e-01, -8.41402995e-01, -3.60101887e-01,\n",
              "        -5.11022737e-01, -6.58987284e-01,  1.76922169e-01, -6.45954784e-02,\n",
              "        -1.09792278e+00, -3.38849200e-01, -7.79969298e-01, -2.53466995e+00,\n",
              "        -6.54853638e-01, -1.35089009e+00, -3.22333671e-01,  7.71167232e-02,\n",
              "        -3.79324967e-01, -7.81693724e-01, -1.45862473e-01, -2.16723357e+00,\n",
              "        -5.33204452e-01, -1.90064957e+00, -1.47576342e-01, -2.23457851e+00,\n",
              "         1.97788531e-01, -1.57904465e+00,  3.41861225e-02,  2.88692444e-03,\n",
              "        -1.98516687e+00, -7.00565289e-01, -1.76771487e+00, -4.54935031e-01,\n",
              "         1.73731807e-01, -4.46850862e-01,  2.94499699e-01, -2.53409284e+00,\n",
              "        -3.70374575e-01, -3.70964417e-01, -1.25139416e+00, -3.82706050e-01,\n",
              "        -8.55337636e-01,  6.71527461e-01, -1.41182953e-01, -3.58530346e-01,\n",
              "        -5.13400103e-01, -4.92005598e-01,  3.77474831e-01, -3.76372543e-01,\n",
              "        -3.02779301e-01,  3.25615124e-02, -2.79144374e+00, -5.33753498e-01,\n",
              "        -1.55196686e-01, -8.99428281e-01, -1.26941507e+00, -4.63131630e-01,\n",
              "         1.18861743e-02,  1.82945306e-02,  2.26704827e-02,  3.28620411e-01,\n",
              "        -1.30172196e+00, -2.81875808e-01, -1.85426424e+00, -4.39200206e-01,\n",
              "        -1.63389963e-01, -3.30688551e-01, -2.90944683e+00, -5.55728325e-01,\n",
              "        -2.56933059e-01, -2.66741984e+00, -3.35960131e-01, -1.74248409e+00,\n",
              "        -1.61571022e+00, -3.65823904e-01, -1.28006388e+00, -6.51177354e-01,\n",
              "        -1.08250249e+00, -1.61003589e+00, -2.30283408e+00, -2.40394567e+00,\n",
              "        -6.13892169e-01, -5.25264109e-01, -2.34187862e+00, -4.42889576e-01,\n",
              "        -7.12798387e-01, -1.18493899e+00, -3.15771201e-01, -4.83028888e-01,\n",
              "        -2.19322974e-01, -5.86698855e-01, -2.20699860e+00, -2.01304757e-01,\n",
              "        -6.07440792e-01, -7.61206607e-01, -8.55905346e-01, -4.50332088e-02,\n",
              "        -3.59426860e-01, -1.47825693e+00, -6.24817211e-01, -1.33712890e-02,\n",
              "        -9.81118962e-01, -5.14230410e-01,  3.38785618e-02, -1.85838657e-01,\n",
              "         2.48295834e-01,  3.35356825e-01, -4.59972062e-01, -6.31399859e-01,\n",
              "         1.74038117e-01, -4.71898908e-01, -2.64071943e-01, -4.32944775e-01,\n",
              "        -5.99688099e-01, -9.81216212e-01,  2.17444006e-01, -3.15858298e-01,\n",
              "        -1.91067652e-01, -5.95689173e-01,  6.74654680e-01, -2.10822758e-01,\n",
              "        -2.73925433e-01, -1.51435077e+00, -2.52616182e+00, -1.81168720e+00,\n",
              "        -3.15865409e-01, -3.78270124e-01, -1.91398699e+00,  8.79100048e-01,\n",
              "        -1.67481566e+00, -4.94248724e-01, -6.54941784e-01, -9.36081789e-01,\n",
              "        -4.68825947e-01, -3.19259400e-03, -1.15657319e+00, -1.37095478e+00,\n",
              "        -2.45116558e+00, -2.62922748e-02, -6.50060006e-02, -1.01948184e+00,\n",
              "        -2.51507613e-01, -5.34978718e-01, -1.41614196e+00, -2.04819457e-01,\n",
              "         2.67869672e-01, -7.13414206e-01, -1.33159538e+00,  6.63023780e-02,\n",
              "        -3.85308858e-01, -1.02389884e+00, -5.41054231e-01, -7.29315988e-01,\n",
              "         4.82500637e-01, -3.06306175e+00, -2.10524340e-01, -2.22503939e+00,\n",
              "        -3.67530883e-01, -2.73637564e+00, -2.68556557e+00, -2.51295992e+00,\n",
              "        -1.85904693e-01, -3.01485198e+00, -2.83982311e+00, -1.74096402e+00,\n",
              "         1.71207165e-01,  1.89522047e-01, -3.17868496e+00, -2.53871229e+00,\n",
              "        -1.56900567e-01, -1.34664691e-02,  2.49837698e-01, -5.25624743e-01,\n",
              "        -3.18138262e-01, -8.05106060e-01,  1.26652342e+00, -6.79653792e-01,\n",
              "         3.64975755e-01, -3.72262398e-01, -6.82580592e-01, -2.28587082e+00,\n",
              "        -9.05266031e-01, -7.30305551e-02, -7.54188137e-01, -1.45809139e+00,\n",
              "        -3.30963579e-01, -2.31134014e+00, -1.53642234e+00, -1.40481884e-01,\n",
              "         2.12597203e-01, -2.60945285e-04, -3.92898981e-01,  2.15647247e-01,\n",
              "        -1.70298304e-01, -3.34827509e-01, -3.35507145e-01,  2.43624857e-02,\n",
              "        -4.33320291e-01, -1.80525345e+00, -6.84955768e-01,  2.03217442e-02,\n",
              "         6.28351167e-02, -1.63670735e+00, -4.74299803e-01, -2.92765304e+00,\n",
              "        -1.88402053e+00, -2.25406777e+00, -3.37433555e+00, -1.25124403e+00,\n",
              "        -2.53002912e+00, -1.58661360e-01, -3.91173578e-01, -2.52441181e+00,\n",
              "        -3.41887216e-01,  6.44798601e-01, -4.50055436e-01, -5.20213985e-01,\n",
              "        -2.06000479e+00, -5.58688176e-02, -1.44915041e+00, -1.55254116e+00,\n",
              "         2.93049421e-01,  2.09395878e-01,  3.91522101e-01, -1.26389358e+00,\n",
              "         2.93141175e-02, -2.32956769e-01, -3.01347869e-01,  1.19136288e-01,\n",
              "        -2.80872997e-01, -1.52705231e-01, -4.82185180e-01, -5.52205606e-01,\n",
              "        -4.64537354e-01, -2.22342987e+00, -1.29513674e+00,  1.95595759e-02,\n",
              "        -2.18041179e+00, -1.50575911e+00,  2.72265368e-01,  1.49464258e-01,\n",
              "        -2.24917244e+00, -3.46650158e-01, -2.24340768e+00, -5.01739081e-01,\n",
              "        -1.83515520e+00, -4.48635900e-01, -5.42111594e-01, -2.48315493e+00,\n",
              "        -2.58754922e+00,  6.03186533e-01, -2.92565224e+00, -2.55957241e+00,\n",
              "        -5.31296211e-01, -2.55564099e+00, -3.15829049e+00, -3.67253695e-01,\n",
              "        -5.10013720e-01, -2.32016261e+00, -6.85551264e-01, -3.58330758e-01,\n",
              "        -1.87115987e-01,  2.60843980e-01, -1.25732510e+00, -1.99788559e+00,\n",
              "        -2.54481055e-01, -6.55085141e-01,  2.24857843e-02, -6.76601809e-02,\n",
              "        -2.49455299e-01, -2.68704144e+00, -6.80579084e-01, -3.64351009e-01,\n",
              "        -1.89847997e+00, -6.14999156e-01, -5.56619161e-01, -3.90506971e-01,\n",
              "        -4.25901129e-01, -5.78144747e-01, -1.98539826e+00, -5.51463697e-01,\n",
              "        -1.70652146e+00,  1.12185665e+00,  8.49924179e-01,  3.87708472e-03,\n",
              "        -5.12319899e-01, -3.37773338e-02, -1.58599849e-02, -5.81626753e-01,\n",
              "        -6.55580339e-01, -2.41256166e+00,  8.44997465e-01, -4.43891426e-01,\n",
              "        -3.57703723e-01,  6.13630468e-02, -1.71777251e+00, -2.48893561e-01,\n",
              "        -5.82610497e-01, -1.82629841e+00, -1.48630040e-01, -2.14899387e+00,\n",
              "        -2.52881922e+00, -1.34961813e+00,  2.74692368e-01, -2.21058190e+00,\n",
              "         1.80662863e-01, -2.00543179e+00,  7.55916925e-02, -1.75371196e+00,\n",
              "        -1.60992179e-01, -9.76811633e-01, -2.65942913e-01, -4.43247676e-01,\n",
              "        -3.92909311e-01, -2.01659345e+00, -3.50246032e-01, -1.27001993e+00,\n",
              "        -2.62787397e+00,  5.38951128e-03, -6.88526211e-01, -5.42719295e-01,\n",
              "         2.42210251e-01, -1.86160688e-02,  2.18355940e-01, -1.04160546e+00,\n",
              "        -5.73114818e-01, -6.52427394e-01, -7.61423541e-02, -2.55907795e+00,\n",
              "         1.29951203e+00,  1.41236163e-01, -3.12419734e+00, -6.49428634e-01,\n",
              "        -2.18656037e+00, -2.01095085e+00,  3.64994853e-01,  3.06981560e-01,\n",
              "        -5.10405418e-01, -5.79524382e-01, -2.85025271e-01, -3.88188210e-01,\n",
              "        -9.73599530e-01, -2.55039170e-01,  3.37258866e-01, -1.69383270e+00,\n",
              "        -1.85262780e-01, -2.36250862e+00, -2.58867484e-01, -4.15677650e-01,\n",
              "        -2.77141291e+00,  4.90741482e-02,  1.01546238e+00,  9.20303757e-01,\n",
              "         2.17871042e-01, -2.81808987e+00, -4.61370899e-01, -2.17541557e+00,\n",
              "        -5.26443742e-01, -3.83487111e-01, -5.79309497e-01,  8.59180528e-02,\n",
              "        -6.12538542e-01, -5.18762354e-01, -3.55043349e-01, -2.23464232e+00,\n",
              "         1.17063040e-01, -1.65375984e-01, -3.07328894e-01, -2.45130614e+00,\n",
              "         4.93690011e-01, -2.45283481e+00, -2.42705591e-01, -1.43071468e+00,\n",
              "        -1.51596762e+00, -2.12635123e+00, -1.23378638e-01, -4.38138148e-01,\n",
              "         2.99998224e-01, -2.09649849e-01, -1.00176010e+00, -1.02157690e-01,\n",
              "        -2.31723298e+00,  1.81318620e-01, -3.93124954e-01, -3.56508769e-01,\n",
              "        -2.84056534e+00, -1.91970555e+00, -2.73393314e+00, -2.60768834e+00,\n",
              "        -8.23529698e-01, -2.49292851e+00,  6.50255422e-02, -3.35396705e-01,\n",
              "        -8.50053704e-01,  1.74798382e-01, -2.15417867e+00, -6.71602189e-01,\n",
              "         9.91245438e-02, -1.35022763e+00, -1.95769773e+00, -3.74408133e-01,\n",
              "        -6.67675229e-01, -1.18494128e+00, -4.53108131e-01, -1.18312971e+00,\n",
              "        -7.56048918e-01, -2.08268441e+00, -2.24009043e-01, -1.52226443e+00,\n",
              "        -1.74008193e+00, -2.48628277e+00, -1.95450604e-01, -2.92909960e-01,\n",
              "        -5.97106884e-01, -2.28081168e+00, -1.42775154e+00, -2.02031501e+00,\n",
              "        -2.97412749e-01, -2.74239807e-01, -4.49932765e-01, -1.90730389e+00,\n",
              "        -1.21292236e+00, -8.88042765e-01, -1.55307290e+00, -4.57578252e-01,\n",
              "         1.32427840e-02, -8.14517017e-01,  3.42929745e-02, -2.10112519e-01,\n",
              "        -2.87059032e+00, -6.73489361e-02, -2.35491197e+00, -3.02243964e-01,\n",
              "         4.54148332e-01, -1.49642138e+00, -2.67162521e+00, -4.18083420e-01,\n",
              "        -1.75695133e+00, -2.23431979e+00,  2.54076558e-01, -1.55439751e+00])}"
            ]
          },
          "metadata": {
            "tags": []
          },
          "execution_count": 17
        }
      ]
    },
    {
      "cell_type": "code",
      "metadata": {
        "id": "8NMBjk1w3lGE",
        "colab_type": "code",
        "colab": {}
      },
      "source": [
        ""
      ],
      "execution_count": 0,
      "outputs": []
    }
  ]
}