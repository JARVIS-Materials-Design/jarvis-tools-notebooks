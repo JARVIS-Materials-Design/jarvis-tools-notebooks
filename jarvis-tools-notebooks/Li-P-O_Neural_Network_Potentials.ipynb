{
  "nbformat": 4,
  "nbformat_minor": 0,
  "metadata": {
    "colab": {
      "private_outputs": true,
      "provenance": [],
      "collapsed_sections": [
        "MIB9-hZk1UAd"
      ],
      "include_colab_link": true
    },
    "kernelspec": {
      "name": "python3",
      "display_name": "Python 3"
    },
    "gpuClass": "standard",
    "accelerator": "GPU"
  },
  "cells": [
    {
      "cell_type": "markdown",
      "metadata": {
        "id": "view-in-github",
        "colab_type": "text"
      },
      "source": [
        "<a href=\"https://colab.research.google.com/github/knc6/jarvis-tools-notebooks/blob/master/jarvis-tools-notebooks/Li-P-O_Neural_Network_Potentials.ipynb\" target=\"_parent\"><img src=\"https://colab.research.google.com/assets/colab-badge.svg\" alt=\"Open In Colab\"/></a>"
      ]
    },
    {
      "cell_type": "markdown",
      "source": [
        "# ALIGNN on Li-P-O dataset\n",
        "\n",
        "Ref:https://github.com/jax-md/jax-md/blob/main/notebooks/tutorial/Chapter_3_Neural_Network_Potentials.ipynb\n",
        "\n"
      ],
      "metadata": {
        "id": "BiArk_dVeWoD"
      }
    },
    {
      "cell_type": "code",
      "source": [
        "!pip install --pre dgl -f https://data.dgl.ai/wheels/cu117/repo.html\n",
        "!pip install --pre dglgo -f https://data.dgl.ai/wheels-test/repo.html\n",
        "!pip install alignn"
      ],
      "metadata": {
        "id": "fY0b9Lrx7YDi"
      },
      "execution_count": null,
      "outputs": []
    },
    {
      "cell_type": "code",
      "source": [
        "!wget https://github.com/amilmerchant/jax-md/raw/nequip_scratch/notebooks/data/lipo_small.zip"
      ],
      "metadata": {
        "id": "WHHqFVLi42mN"
      },
      "execution_count": null,
      "outputs": []
    },
    {
      "cell_type": "code",
      "source": [
        "import jax.numpy as jnp\n",
        "import numpy as np\n",
        "from jax import ShapedArray\n",
        "from jax import device_put\n",
        "from jax import tree_map\n",
        "from jax.config import config\n",
        "from flax import serialization\n",
        "f32 = jnp.float32\n",
        "f64 = jnp.float64\n",
        "     \n",
        "# @title Data Utilities\n",
        "def read_lipo(filename):\n",
        "  read_target = {\n",
        "    'box': ShapedArray((3, 3), f32),\n",
        "    'atoms': ShapedArray((94,), f32),\n",
        "    'position': ShapedArray((1, 3), f32),\n",
        "    'force': ShapedArray((1, 3), f32),\n",
        "    'energy': ShapedArray((1,), f32),\n",
        "  }\n",
        "\n",
        "  with open(filename, 'rb') as f:\n",
        "    return tree_map(lambda x: x.astype(f64), \n",
        "                    serialization.from_bytes(read_target, f.read()))\n",
        "\n",
        "!unzip -o lipo_small.zip"
      ],
      "metadata": {
        "id": "SHzqNl9049YL"
      },
      "execution_count": null,
      "outputs": []
    },
    {
      "cell_type": "code",
      "source": [
        "train = read_lipo('lipo_small/train.msgpack')\n",
        "test = read_lipo('lipo_small/test.msgpack')\n"
      ],
      "metadata": {
        "id": "HGYSS0qD5YQt"
      },
      "execution_count": null,
      "outputs": []
    },
    {
      "cell_type": "code",
      "source": [
        "from jarvis.core.specie import atomic_numbers_to_symbols\n",
        "from jarvis.core.atoms import Atoms\n",
        "Z = np.where(train['atoms']==1)[1]+1\n",
        "symbols = atomic_numbers_to_symbols(Z)\n",
        "atoms = Atoms(lattice_mat=train['box'],elements=symbols, coords=train['position'][0],cartesian=False)\n",
        "mean_energy = train['energy'].mean()"
      ],
      "metadata": {
        "id": "DK8i817s6NBr"
      },
      "execution_count": null,
      "outputs": []
    },
    {
      "cell_type": "code",
      "source": [
        "mem = []\n",
        "count=0\n",
        "#train\n",
        "for p, e, f in zip(train['position'], train['energy']-mean_energy, train['force']):\n",
        "  atoms = Atoms(lattice_mat=train['box'],elements=symbols, coords=p,cartesian=False)\n",
        "  info = {}\n",
        "  count+=1\n",
        "  info['jid'] = str(count)\n",
        "  info[\"atoms\"] = atoms.to_dict()\n",
        "  info[\"total_energy\"] = e / atoms.num_atoms\n",
        "  info[\"forces\"] = f.tolist()\n",
        "  info['stresses'] = np.zeros((3,3)).tolist()\n",
        "  mem.append(info)\n",
        "\n",
        "#validation\n",
        "for p, e, f in zip(test['position'], test['energy']-mean_energy, test['force']):\n",
        "  atoms = Atoms(lattice_mat=test['box'],elements=symbols, coords=p,cartesian=False)\n",
        "  info = {}\n",
        "  count+=1\n",
        "  info['jid'] = str(count)\n",
        "  info[\"atoms\"] = atoms.to_dict()\n",
        "  info[\"total_energy\"] = e / atoms.num_atoms\n",
        "  info[\"forces\"] = f.tolist()\n",
        "  info['stresses'] = np.zeros((3,3)).tolist()\n",
        "  mem.append(info)\n",
        "#test\n",
        "for p, e, f in zip(test['position'], test['energy']-mean_energy, test['force']):\n",
        "  atoms = Atoms(lattice_mat=test['box'],elements=symbols, coords=p,cartesian=False)\n",
        "  info = {}\n",
        "  count+=1\n",
        "  info['jid'] = str(count)\n",
        "  info[\"atoms\"] = atoms.to_dict()\n",
        "  info[\"total_energy\"] = e / atoms.num_atoms\n",
        "  info[\"forces\"] = f.tolist()\n",
        "  info['stresses'] = np.zeros((3,3)).tolist()\n",
        "  mem.append(info)"
      ],
      "metadata": {
        "id": "Xyc7oEZd6R_U"
      },
      "execution_count": null,
      "outputs": []
    },
    {
      "cell_type": "code",
      "source": [
        "from jarvis.db.jsonutils import dumpjson\n",
        "dumpjson(data=mem, filename=\"id_prop.json\")"
      ],
      "metadata": {
        "id": "spq_sCBr6Opw"
      },
      "execution_count": null,
      "outputs": []
    },
    {
      "cell_type": "code",
      "source": [
        "null=None\n",
        "false=False\n",
        "true=True\n",
        "conf= dict({\n",
        "    \"version\": \"112bbedebdaecf59fb18e11c929080fb2f358246\",\n",
        "    \"dataset\": \"user_data\",\n",
        "    \"target\": \"target\",\n",
        "    \"atom_features\": \"cgcnn\",\n",
        "    \"neighbor_strategy\": \"k-nearest\",\n",
        "    \"id_tag\": \"jid\",\n",
        "    \"random_seed\": 123,\n",
        "    \"classification_threshold\": null,\n",
        "    \"n_val\": 100,\n",
        "    \"n_test\": 100,\n",
        "    \"n_train\": 100,\n",
        "    \"train_ratio\": 0.9,\n",
        "    \"val_ratio\": 0.05,\n",
        "    \"test_ratio\": 0.05,\n",
        "    \"target_multiplication_factor\": null,\n",
        "    \"epochs\": 5,\n",
        "    \"batch_size\": 2,\n",
        "    \"weight_decay\": 1e-05,\n",
        "    \"learning_rate\": 0.001,\n",
        "    \"filename\": \"sample\",\n",
        "    \"warmup_steps\": 2000,\n",
        "    \"criterion\": \"l1\",\n",
        "    \"optimizer\": \"adamw\",\n",
        "    \"scheduler\": \"onecycle\",\n",
        "    \"pin_memory\": false,\n",
        "    \"save_dataloader\": false,\n",
        "    \"write_checkpoint\": true,\n",
        "    \"write_predictions\": true,\n",
        "    \"store_outputs\": false,\n",
        "    \"progress\": true,\n",
        "    \"log_tensorboard\": false,\n",
        "    \"standard_scalar_and_pca\": false,\n",
        "    \"use_canonize\": false,\n",
        "    \"num_workers\": 0,\n",
        "    \"cutoff\": 4.0,\n",
        "    \"max_neighbors\": 12,\n",
        "    \"keep_data_order\": true,\n",
        "    \"normalize_graph_level_loss\": false,\n",
        "    \"distributed\": false,\n",
        "    \"n_early_stopping\": null,\n",
        "    \"output_dir\": \"./\",\n",
        "    \"model\": {\n",
        "        \"name\": \"alignn_atomwise\",\n",
        "        \"alignn_layers\": 2,\n",
        "        \"gcn_layers\": 2,\n",
        "        \"atom_input_features\": 92,\n",
        "        \"edge_input_features\": 80,\n",
        "        \"triplet_input_features\": 40,\n",
        "        \"embedding_features\": 64,\n",
        "        \"hidden_features\": 256,\n",
        "        \"output_features\": 1,\n",
        "        \"grad_multiplier\": -1,\n",
        "        \"calculate_gradient\": true,\n",
        "        \"atomwise_output_features\": 3,\n",
        "        \"graphwise_weight\": 1.0,\n",
        "        \"gradwise_weight\": 10.0,\n",
        "        \"stresswise_weight\": 0.0,\n",
        "        \"atomwise_weight\": 0.0,\n",
        "        \"link\": \"identity\",\n",
        "        \"zero_inflated\": false,\n",
        "        \"classification\": false\n",
        "    }\n",
        "})\n",
        "dumpjson(data=conf,filename='config.json')"
      ],
      "metadata": {
        "id": "2dYlv6z-6eg8"
      },
      "execution_count": null,
      "outputs": []
    },
    {
      "cell_type": "code",
      "source": [
        "!train_folder_ff.py --root_dir \".\" --config \"config.json\" --output_dir=temp"
      ],
      "metadata": {
        "id": "WtOTUZDu6eeb"
      },
      "execution_count": null,
      "outputs": []
    },
    {
      "cell_type": "code",
      "source": [],
      "metadata": {
        "id": "jt2Xz7aE6eb_"
      },
      "execution_count": null,
      "outputs": []
    },
    {
      "cell_type": "code",
      "source": [],
      "metadata": {
        "id": "OfLGSvUi6eZs"
      },
      "execution_count": null,
      "outputs": []
    },
    {
      "cell_type": "code",
      "source": [],
      "metadata": {
        "id": "HmaSzt4g5YCg"
      },
      "execution_count": null,
      "outputs": []
    }
  ]
}