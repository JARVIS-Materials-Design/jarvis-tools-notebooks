{
  "nbformat": 4,
  "nbformat_minor": 0,
  "metadata": {
    "colab": {
      "provenance": [],
      "authorship_tag": "ABX9TyMnrp9JiM1srIvsekIr6Brx",
      "include_colab_link": true
    },
    "kernelspec": {
      "name": "python3",
      "display_name": "Python 3"
    },
    "language_info": {
      "name": "python"
    }
  },
  "cells": [
    {
      "cell_type": "markdown",
      "metadata": {
        "id": "view-in-github",
        "colab_type": "text"
      },
      "source": [
        "<a href=\"https://colab.research.google.com/github/knc6/jarvis-tools-notebooks/blob/master/jarvis-tools-notebooks/ocp_load_pretrained_models.ipynb\" target=\"_parent\"><img src=\"https://colab.research.google.com/assets/colab-badge.svg\" alt=\"Open In Colab\"/></a>"
      ]
    },
    {
      "cell_type": "code",
      "source": [
        "import os\n",
        "import torch\n",
        "os.environ['TORCH'] = torch.__version__\n",
        "print(torch.__version__)\n",
        "\n",
        "!pip install -q torch-scatter -f https://data.pyg.org/whl/torch-${TORCH}.html\n",
        "!pip install -q torch-sparse -f https://data.pyg.org/whl/torch-${TORCH}.html\n",
        "!pip install -q torch-cluster -f https://data.pyg.org/whl/torch-${TORCH}.html\n",
        "!pip install -q git+https://github.com/pyg-team/pytorch_geometric.git"
      ],
      "metadata": {
        "id": "979M637dgdx6",
        "outputId": "ddc01b5f-d794-4ba5-b2f7-27266765601f",
        "colab": {
          "base_uri": "https://localhost:8080/"
        }
      },
      "execution_count": 2,
      "outputs": [
        {
          "output_type": "stream",
          "name": "stdout",
          "text": [
            "2.0.1+cu118\n",
            "  Installing build dependencies ... \u001b[?25l\u001b[?25hdone\n",
            "  Getting requirements to build wheel ... \u001b[?25l\u001b[?25hdone\n",
            "  Preparing metadata (pyproject.toml) ... \u001b[?25l\u001b[?25hdone\n"
          ]
        }
      ]
    },
    {
      "cell_type": "code",
      "source": [
        "import os\n",
        "if not os.path.exists('ocp'):\n",
        "     !git clone https://github.com/Open-Catalyst-Project/ocp.git\n",
        "os.chdir('ocp')\n",
        "!pip install -e ."
      ],
      "metadata": {
        "id": "vP2MuiUGhVCJ",
        "outputId": "acfa2c78-69af-4990-e993-7b41c7520fb3",
        "colab": {
          "base_uri": "https://localhost:8080/"
        }
      },
      "execution_count": 3,
      "outputs": [
        {
          "output_type": "stream",
          "name": "stdout",
          "text": [
            "Cloning into 'ocp'...\n",
            "remote: Enumerating objects: 8687, done.\u001b[K\n",
            "remote: Counting objects: 100% (912/912), done.\u001b[K\n",
            "remote: Compressing objects: 100% (437/437), done.\u001b[K\n",
            "remote: Total 8687 (delta 585), reused 730 (delta 459), pack-reused 7775\u001b[K\n",
            "Receiving objects: 100% (8687/8687), 101.43 MiB | 19.17 MiB/s, done.\n",
            "Resolving deltas: 100% (5850/5850), done.\n",
            "Looking in indexes: https://pypi.org/simple, https://us-python.pkg.dev/colab-wheels/public/simple/\n",
            "Obtaining file:///content/ocp\n",
            "  Installing build dependencies ... \u001b[?25l\u001b[?25hdone\n",
            "  Checking if build backend supports build_editable ... \u001b[?25l\u001b[?25hdone\n",
            "  Getting requirements to build editable ... \u001b[?25l\u001b[?25hdone\n",
            "  Preparing editable metadata (pyproject.toml) ... \u001b[?25l\u001b[?25hdone\n",
            "Building wheels for collected packages: ocp-models\n",
            "  Building editable for ocp-models (pyproject.toml) ... \u001b[?25l\u001b[?25hdone\n",
            "  Created wheel for ocp-models: filename=ocp_models-0.0.3-0.editable-py3-none-any.whl size=3294 sha256=2425a7a6c9ea6de6693522a4ab405ebb82ca961f5f1e1d9eb51172c1cb1521a5\n",
            "  Stored in directory: /tmp/pip-ephem-wheel-cache-jzupzdw8/wheels/29/db/87/61b8ac706262b22238c01b070b675db289c051f2d890c74f3b\n",
            "Successfully built ocp-models\n",
            "Installing collected packages: ocp-models\n",
            "Successfully installed ocp-models-0.0.3\n"
          ]
        }
      ]
    },
    {
      "cell_type": "code",
      "source": [
        "pip install  lmdb pymatgen==2023.5.10 ase==3.22.1"
      ],
      "metadata": {
        "colab": {
          "base_uri": "https://localhost:8080/"
        },
        "id": "tiP6kq_id7fh",
        "outputId": "ca6a6a4b-14df-4689-ffc4-486417be7f8b"
      },
      "execution_count": 5,
      "outputs": [
        {
          "output_type": "stream",
          "name": "stdout",
          "text": [
            "Looking in indexes: https://pypi.org/simple, https://us-python.pkg.dev/colab-wheels/public/simple/\n",
            "Requirement already satisfied: lmdb in /usr/local/lib/python3.10/dist-packages (1.4.1)\n",
            "Requirement already satisfied: pymatgen==2023.5.10 in /usr/local/lib/python3.10/dist-packages (2023.5.10)\n",
            "Requirement already satisfied: ase==3.22.1 in /usr/local/lib/python3.10/dist-packages (3.22.1)\n",
            "Requirement already satisfied: matplotlib>=1.5 in /usr/local/lib/python3.10/dist-packages (from pymatgen==2023.5.10) (3.7.1)\n",
            "Requirement already satisfied: monty>=3.0.2 in /usr/local/lib/python3.10/dist-packages (from pymatgen==2023.5.10) (2023.5.8)\n",
            "Requirement already satisfied: mp-api>=0.27.3 in /usr/local/lib/python3.10/dist-packages (from pymatgen==2023.5.10) (0.33.3)\n",
            "Requirement already satisfied: networkx>=2.2 in /usr/local/lib/python3.10/dist-packages (from pymatgen==2023.5.10) (3.1)\n",
            "Requirement already satisfied: numpy>=1.20.1 in /usr/local/lib/python3.10/dist-packages (from pymatgen==2023.5.10) (1.22.4)\n",
            "Requirement already satisfied: palettable>=3.1.1 in /usr/local/lib/python3.10/dist-packages (from pymatgen==2023.5.10) (3.3.3)\n",
            "Requirement already satisfied: pandas in /usr/local/lib/python3.10/dist-packages (from pymatgen==2023.5.10) (1.5.3)\n",
            "Requirement already satisfied: plotly>=4.5.0 in /usr/local/lib/python3.10/dist-packages (from pymatgen==2023.5.10) (5.13.1)\n",
            "Requirement already satisfied: pybtex in /usr/local/lib/python3.10/dist-packages (from pymatgen==2023.5.10) (0.24.0)\n",
            "Requirement already satisfied: requests in /usr/local/lib/python3.10/dist-packages (from pymatgen==2023.5.10) (2.27.1)\n",
            "Requirement already satisfied: ruamel.yaml>=0.17.0 in /usr/local/lib/python3.10/dist-packages (from pymatgen==2023.5.10) (0.17.31)\n",
            "Requirement already satisfied: scipy>=1.5.0 in /usr/local/lib/python3.10/dist-packages (from pymatgen==2023.5.10) (1.10.1)\n",
            "Requirement already satisfied: spglib>=2.0.2 in /usr/local/lib/python3.10/dist-packages (from pymatgen==2023.5.10) (2.0.2)\n",
            "Requirement already satisfied: sympy in /usr/local/lib/python3.10/dist-packages (from pymatgen==2023.5.10) (1.11.1)\n",
            "Requirement already satisfied: tabulate in /usr/local/lib/python3.10/dist-packages (from pymatgen==2023.5.10) (0.8.10)\n",
            "Requirement already satisfied: tqdm in /usr/local/lib/python3.10/dist-packages (from pymatgen==2023.5.10) (4.65.0)\n",
            "Requirement already satisfied: uncertainties>=3.1.4 in /usr/local/lib/python3.10/dist-packages (from pymatgen==2023.5.10) (3.1.7)\n",
            "Requirement already satisfied: contourpy>=1.0.1 in /usr/local/lib/python3.10/dist-packages (from matplotlib>=1.5->pymatgen==2023.5.10) (1.0.7)\n",
            "Requirement already satisfied: cycler>=0.10 in /usr/local/lib/python3.10/dist-packages (from matplotlib>=1.5->pymatgen==2023.5.10) (0.11.0)\n",
            "Requirement already satisfied: fonttools>=4.22.0 in /usr/local/lib/python3.10/dist-packages (from matplotlib>=1.5->pymatgen==2023.5.10) (4.39.3)\n",
            "Requirement already satisfied: kiwisolver>=1.0.1 in /usr/local/lib/python3.10/dist-packages (from matplotlib>=1.5->pymatgen==2023.5.10) (1.4.4)\n",
            "Requirement already satisfied: packaging>=20.0 in /usr/local/lib/python3.10/dist-packages (from matplotlib>=1.5->pymatgen==2023.5.10) (23.1)\n",
            "Requirement already satisfied: pillow>=6.2.0 in /usr/local/lib/python3.10/dist-packages (from matplotlib>=1.5->pymatgen==2023.5.10) (8.4.0)\n",
            "Requirement already satisfied: pyparsing>=2.3.1 in /usr/local/lib/python3.10/dist-packages (from matplotlib>=1.5->pymatgen==2023.5.10) (3.0.9)\n",
            "Requirement already satisfied: python-dateutil>=2.7 in /usr/local/lib/python3.10/dist-packages (from matplotlib>=1.5->pymatgen==2023.5.10) (2.8.2)\n",
            "Requirement already satisfied: setuptools in /usr/local/lib/python3.10/dist-packages (from mp-api>=0.27.3->pymatgen==2023.5.10) (67.7.2)\n",
            "Requirement already satisfied: msgpack in /usr/local/lib/python3.10/dist-packages (from mp-api>=0.27.3->pymatgen==2023.5.10) (1.0.5)\n",
            "Requirement already satisfied: typing-extensions>=3.7.4.1 in /usr/local/lib/python3.10/dist-packages (from mp-api>=0.27.3->pymatgen==2023.5.10) (4.5.0)\n",
            "Requirement already satisfied: emmet-core>=0.54.0 in /usr/local/lib/python3.10/dist-packages (from mp-api>=0.27.3->pymatgen==2023.5.10) (0.55.3)\n",
            "Requirement already satisfied: tenacity>=6.2.0 in /usr/local/lib/python3.10/dist-packages (from plotly>=4.5.0->pymatgen==2023.5.10) (8.2.2)\n",
            "Requirement already satisfied: urllib3<1.27,>=1.21.1 in /usr/local/lib/python3.10/dist-packages (from requests->pymatgen==2023.5.10) (1.26.15)\n",
            "Requirement already satisfied: certifi>=2017.4.17 in /usr/local/lib/python3.10/dist-packages (from requests->pymatgen==2023.5.10) (2022.12.7)\n",
            "Requirement already satisfied: charset-normalizer~=2.0.0 in /usr/local/lib/python3.10/dist-packages (from requests->pymatgen==2023.5.10) (2.0.12)\n",
            "Requirement already satisfied: idna<4,>=2.5 in /usr/local/lib/python3.10/dist-packages (from requests->pymatgen==2023.5.10) (3.4)\n",
            "Requirement already satisfied: ruamel.yaml.clib>=0.2.7 in /usr/local/lib/python3.10/dist-packages (from ruamel.yaml>=0.17.0->pymatgen==2023.5.10) (0.2.7)\n",
            "Requirement already satisfied: future in /usr/local/lib/python3.10/dist-packages (from uncertainties>=3.1.4->pymatgen==2023.5.10) (0.18.3)\n",
            "Requirement already satisfied: pytz>=2020.1 in /usr/local/lib/python3.10/dist-packages (from pandas->pymatgen==2023.5.10) (2022.7.1)\n",
            "Requirement already satisfied: PyYAML>=3.01 in /usr/local/lib/python3.10/dist-packages (from pybtex->pymatgen==2023.5.10) (6.0)\n",
            "Requirement already satisfied: latexcodec>=1.0.4 in /usr/local/lib/python3.10/dist-packages (from pybtex->pymatgen==2023.5.10) (2.0.1)\n",
            "Requirement already satisfied: six in /usr/local/lib/python3.10/dist-packages (from pybtex->pymatgen==2023.5.10) (1.16.0)\n",
            "Requirement already satisfied: mpmath>=0.19 in /usr/local/lib/python3.10/dist-packages (from sympy->pymatgen==2023.5.10) (1.3.0)\n",
            "Requirement already satisfied: pydantic>=1.10.2 in /usr/local/lib/python3.10/dist-packages (from emmet-core>=0.54.0->mp-api>=0.27.3->pymatgen==2023.5.10) (1.10.7)\n"
          ]
        }
      ]
    },
    {
      "cell_type": "code",
      "source": [
        "import os, torch\n",
        "from ase.io import read\n",
        "from ocpmodels.preprocessing import AtomsToGraphs\n",
        "from ocpmodels.models import SchNet"
      ],
      "metadata": {
        "colab": {
          "base_uri": "https://localhost:8080/"
        },
        "id": "WFhrw-pWeGWp",
        "outputId": "4a44a4a2-968b-4ab7-917c-bae048007855"
      },
      "execution_count": 6,
      "outputs": [
        {
          "output_type": "stream",
          "name": "stderr",
          "text": [
            "ERROR:root:Invalid setup for SCN. Either the e3nn library or Jd.pt is missing.\n"
          ]
        }
      ]
    },
    {
      "cell_type": "code",
      "source": [],
      "metadata": {
        "id": "gfF9o4cKia7e"
      },
      "execution_count": null,
      "outputs": []
    },
    {
      "cell_type": "code",
      "source": [
        "!wget https://dl.fbaipublicfiles.com/opencatalystproject/models/2021_02/is2re/schnet_all.pt"
      ],
      "metadata": {
        "id": "9tVsLN7CiOu9",
        "outputId": "882fd0f9-f02c-41a2-f798-0aad2e512cc3",
        "colab": {
          "base_uri": "https://localhost:8080/"
        }
      },
      "execution_count": 7,
      "outputs": [
        {
          "output_type": "stream",
          "name": "stdout",
          "text": [
            "--2023-06-02 01:39:23--  https://dl.fbaipublicfiles.com/opencatalystproject/models/2021_02/is2re/schnet_all.pt\n",
            "Resolving dl.fbaipublicfiles.com (dl.fbaipublicfiles.com)... 13.35.7.38, 13.35.7.128, 13.35.7.82, ...\n",
            "Connecting to dl.fbaipublicfiles.com (dl.fbaipublicfiles.com)|13.35.7.38|:443... connected.\n",
            "HTTP request sent, awaiting response... 200 OK\n",
            "Length: 14643781 (14M) [binary/octet-stream]\n",
            "Saving to: ‘schnet_all.pt’\n",
            "\n",
            "schnet_all.pt       100%[===================>]  13.96M  14.1MB/s    in 1.0s    \n",
            "\n",
            "2023-06-02 01:39:24 (14.1 MB/s) - ‘schnet_all.pt’ saved [14643781/14643781]\n",
            "\n"
          ]
        }
      ]
    },
    {
      "cell_type": "code",
      "source": [
        "device = \"cpu\"\n",
        "if torch.cuda.is_available():\n",
        "    device = torch.device(\"cuda\")\n",
        "attrs = torch.load(\"schnet_all.pt\", map_location=device)[\"config\"][\n",
        "    \"model_attributes\"\n",
        "]"
      ],
      "metadata": {
        "id": "iduEf7KgicAn"
      },
      "execution_count": 8,
      "outputs": []
    },
    {
      "cell_type": "code",
      "source": [
        "model = SchNet(\n",
        "    None,\n",
        "    None,\n",
        "    1,\n",
        "    cutoff=6.0,\n",
        "    hidden_channels=attrs[\"hidden_channels\"],\n",
        "    num_interactions=attrs[\"num_interactions\"],\n",
        "    num_gaussians=attrs[\"num_gaussians\"],\n",
        "    regress_forces=False,\n",
        "    use_pbc=True,\n",
        ")\n",
        "\n",
        "state_dict = torch.load(\"schnet_all.pt\", map_location=device)[\"state_dict\"]\n",
        "state_dict = {k[2 * len(\"module.\") :]: v for k, v in state_dict.items()}\n",
        "model.load_state_dict(state_dict, strict=True)\n",
        "model.to(device)"
      ],
      "metadata": {
        "id": "9R6EKXtOw1Gb",
        "outputId": "40f03b48-1cb9-43f0-e2b1-2c2170fa750f",
        "colab": {
          "base_uri": "https://localhost:8080/"
        }
      },
      "execution_count": 9,
      "outputs": [
        {
          "output_type": "execute_result",
          "data": {
            "text/plain": [
              "SchNetWrap(hidden_channels=384, num_filters=128, num_interactions=4, num_gaussians=100, cutoff=6.0)"
            ]
          },
          "metadata": {},
          "execution_count": 9
        }
      ]
    },
    {
      "cell_type": "code",
      "source": [
        "model = SchNet(\n",
        "    None,\n",
        "    None,\n",
        "    1,\n",
        "    cutoff=6.0,\n",
        "    hidden_channels=attrs[\"hidden_channels\"],\n",
        "    num_interactions=attrs[\"num_interactions\"],\n",
        "    num_gaussians=attrs[\"num_gaussians\"],\n",
        "    regress_forces=False,\n",
        "    use_pbc=True,\n",
        ")\n",
        "\n",
        "model.load_state_dict(\n",
        "    torch.load(\"schnet_all.pt\", map_location=device)[\"state_dict\"]\n",
        ")\n",
        "model.to(device)"
      ],
      "metadata": {
        "colab": {
          "base_uri": "https://localhost:8080/",
          "height": 765
        },
        "id": "ISHJv0tGf8mY",
        "outputId": "1b0df582-3c36-4715-d519-8181863118e2"
      },
      "execution_count": null,
      "outputs": [
        {
          "output_type": "error",
          "ename": "RuntimeError",
          "evalue": "ignored",
          "traceback": [
            "\u001b[0;31m---------------------------------------------------------------------------\u001b[0m",
            "\u001b[0;31mRuntimeError\u001b[0m                              Traceback (most recent call last)",
            "\u001b[0;32m<ipython-input-7-60b1444b5554>\u001b[0m in \u001b[0;36m<cell line: 13>\u001b[0;34m()\u001b[0m\n\u001b[1;32m     11\u001b[0m )\n\u001b[1;32m     12\u001b[0m \u001b[0;34m\u001b[0m\u001b[0m\n\u001b[0;32m---> 13\u001b[0;31m model.load_state_dict(\n\u001b[0m\u001b[1;32m     14\u001b[0m     \u001b[0mtorch\u001b[0m\u001b[0;34m.\u001b[0m\u001b[0mload\u001b[0m\u001b[0;34m(\u001b[0m\u001b[0;34m\"schnet_all.pt\"\u001b[0m\u001b[0;34m,\u001b[0m \u001b[0mmap_location\u001b[0m\u001b[0;34m=\u001b[0m\u001b[0mdevice\u001b[0m\u001b[0;34m)\u001b[0m\u001b[0;34m[\u001b[0m\u001b[0;34m\"state_dict\"\u001b[0m\u001b[0;34m]\u001b[0m\u001b[0;34m\u001b[0m\u001b[0;34m\u001b[0m\u001b[0m\n\u001b[1;32m     15\u001b[0m )\n",
            "\u001b[0;32m/usr/local/lib/python3.10/dist-packages/torch/nn/modules/module.py\u001b[0m in \u001b[0;36mload_state_dict\u001b[0;34m(self, state_dict, strict)\u001b[0m\n\u001b[1;32m   2039\u001b[0m \u001b[0;34m\u001b[0m\u001b[0m\n\u001b[1;32m   2040\u001b[0m         \u001b[0;32mif\u001b[0m \u001b[0mlen\u001b[0m\u001b[0;34m(\u001b[0m\u001b[0merror_msgs\u001b[0m\u001b[0;34m)\u001b[0m \u001b[0;34m>\u001b[0m \u001b[0;36m0\u001b[0m\u001b[0;34m:\u001b[0m\u001b[0;34m\u001b[0m\u001b[0;34m\u001b[0m\u001b[0m\n\u001b[0;32m-> 2041\u001b[0;31m             raise RuntimeError('Error(s) in loading state_dict for {}:\\n\\t{}'.format(\n\u001b[0m\u001b[1;32m   2042\u001b[0m                                self.__class__.__name__, \"\\n\\t\".join(error_msgs)))\n\u001b[1;32m   2043\u001b[0m         \u001b[0;32mreturn\u001b[0m \u001b[0m_IncompatibleKeys\u001b[0m\u001b[0;34m(\u001b[0m\u001b[0mmissing_keys\u001b[0m\u001b[0;34m,\u001b[0m \u001b[0munexpected_keys\u001b[0m\u001b[0;34m)\u001b[0m\u001b[0;34m\u001b[0m\u001b[0;34m\u001b[0m\u001b[0m\n",
            "\u001b[0;31mRuntimeError\u001b[0m: Error(s) in loading state_dict for SchNetWrap:\n\tMissing key(s) in state_dict: \"embedding.weight\", \"distance_expansion.offset\", \"interactions.0.mlp.0.weight\", \"interactions.0.mlp.0.bias\", \"interactions.0.mlp.2.weight\", \"interactions.0.mlp.2.bias\", \"interactions.0.conv.lin1.weight\", \"interactions.0.conv.lin2.weight\", \"interactions.0.conv.lin2.bias\", \"interactions.0.conv.nn.0.weight\", \"interactions.0.conv.nn.0.bias\", \"interactions.0.conv.nn.2.weight\", \"interactions.0.conv.nn.2.bias\", \"interactions.0.lin.weight\", \"interactions.0.lin.bias\", \"interactions.1.mlp.0.weight\", \"interactions.1.mlp.0.bias\", \"interactions.1.mlp.2.weight\", \"interactions.1.mlp.2.bias\", \"interactions.1.conv.lin1.weight\", \"interactions.1.conv.lin2.weight\", \"interactions.1.conv.lin2.bias\", \"interactions.1.conv.nn.0.weight\", \"interactions.1.conv.nn.0.bias\", \"interactions.1.conv.nn.2.weight\", \"interactions.1.conv.nn.2.bias\", \"interactions.1.lin.weight\", \"interactions.1.lin.bias\", \"interactions.2.mlp.0.weight\", \"interactions.2.mlp.0.bias\", \"interactions.2.mlp.2.weight\", \"interactions.2.mlp.2.bias\", \"interactions.2.conv.lin1.weight\", \"interactions.2.conv.lin2.weight\", \"interactions.2.conv.lin2.bias\", \"interactions.2.conv.nn.0.weight\", \"interactions.2.conv.nn.0.bias\", \"interactions.2.conv.nn.2.weight\", \"interactions.2.conv.nn.2.bias\", \"interactions.2.lin.weight\", \"interactions.2.lin.bias\", \"interactions.3.mlp.0.weight\", \"interactions.3.mlp.0.bias\", \"interactions.3.mlp.2.weight\", \"interactions.3.mlp.2.bias\", \"interactions.3.conv.lin1.weight\", \"interactions.3.c...\n\tUnexpected key(s) in state_dict: \"module.module.embedding.weight\", \"module.module.distance_expansion.offset\", \"module.module.interactions.0.mlp.0.weight\", \"module.module.interactions.0.mlp.0.bias\", \"module.module.interactions.0.mlp.2.weight\", \"module.module.interactions.0.mlp.2.bias\", \"module.module.interactions.0.conv.lin1.weight\", \"module.module.interactions.0.conv.lin2.weight\", \"module.module.interactions.0.conv.lin2.bias\", \"module.module.interactions.0.conv.nn.0.weight\", \"module.module.interactions.0.conv.nn.0.bias\", \"module.module.interactions.0.conv.nn.2.weight\", \"module.module.interactions.0.conv.nn.2.bias\", \"module.module.interactions.0.lin.weight\", \"module.module.interactions.0.lin.bias\", \"module.module.interactions.1.mlp.0.weight\", \"module.module.interactions.1.mlp.0.bias\", \"module.module.interactions.1.mlp.2.weight\", \"module.module.interactions.1.mlp.2.bias\", \"module.module.interactions.1.conv.lin1.weight\", \"module.module.interactions.1.conv.lin2.weight\", \"module.module.interactions.1.conv.lin2.bias\", \"module.module.interactions.1.conv.nn.0.weight\", \"module.module.interactions.1.conv.nn.0.bias\", \"module.module.interactions.1.conv.nn.2.weight\", \"module.module.interactions.1.conv.nn.2.bias\", \"module.module.interactions.1.lin.weight\", \"module.module.interactions.1.lin.bias\", \"module.module.interactions.2.mlp.0.weight\", \"module.module.interactions.2.mlp.0.bias\", \"module.module.interactions.2.mlp.2.weight\", \"module.module.interactions.2.mlp.2.bias\", \"module.module.i..."
          ]
        }
      ]
    },
    {
      "cell_type": "code",
      "source": [],
      "metadata": {
        "id": "-eTDmQ49h7oK"
      },
      "execution_count": null,
      "outputs": []
    }
  ]
}