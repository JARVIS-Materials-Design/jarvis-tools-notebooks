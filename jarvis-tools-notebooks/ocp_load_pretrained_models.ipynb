{
  "nbformat": 4,
  "nbformat_minor": 0,
  "metadata": {
    "colab": {
      "provenance": [],
      "authorship_tag": "ABX9TyMMacpzBO3Ip8F/UlZreGNr",
      "include_colab_link": true
    },
    "kernelspec": {
      "name": "python3",
      "display_name": "Python 3"
    },
    "language_info": {
      "name": "python"
    }
  },
  "cells": [
    {
      "cell_type": "markdown",
      "metadata": {
        "id": "view-in-github",
        "colab_type": "text"
      },
      "source": [
        "<a href=\"https://colab.research.google.com/github/knc6/jarvis-tools-notebooks/blob/master/jarvis-tools-notebooks/ocp_load_pretrained_models.ipynb\" target=\"_parent\"><img src=\"https://colab.research.google.com/assets/colab-badge.svg\" alt=\"Open In Colab\"/></a>"
      ]
    },
    {
      "cell_type": "code",
      "source": [
        "import os\n",
        "import torch\n",
        "os.environ['TORCH'] = torch.__version__\n",
        "print(torch.__version__)\n",
        "\n",
        "!pip install -q torch-scatter -f https://data.pyg.org/whl/torch-${TORCH}.html\n",
        "!pip install -q torch-sparse -f https://data.pyg.org/whl/torch-${TORCH}.html\n",
        "!pip install -q torch-cluster -f https://data.pyg.org/whl/torch-${TORCH}.html\n",
        "!pip install -q git+https://github.com/pyg-team/pytorch_geometric.git"
      ],
      "metadata": {
        "id": "979M637dgdx6",
        "outputId": "ddc01b5f-d794-4ba5-b2f7-27266765601f",
        "colab": {
          "base_uri": "https://localhost:8080/"
        }
      },
      "execution_count": 2,
      "outputs": [
        {
          "output_type": "stream",
          "name": "stdout",
          "text": [
            "2.0.1+cu118\n",
            "  Installing build dependencies ... \u001b[?25l\u001b[?25hdone\n",
            "  Getting requirements to build wheel ... \u001b[?25l\u001b[?25hdone\n",
            "  Preparing metadata (pyproject.toml) ... \u001b[?25l\u001b[?25hdone\n"
          ]
        }
      ]
    },
    {
      "cell_type": "code",
      "source": [
        "import os\n",
        "if not os.path.exists('ocp'):\n",
        "     !git clone https://github.com/Open-Catalyst-Project/ocp.git\n",
        "os.chdir('ocp')\n",
        "!pip install -e ."
      ],
      "metadata": {
        "id": "vP2MuiUGhVCJ",
        "outputId": "acfa2c78-69af-4990-e993-7b41c7520fb3",
        "colab": {
          "base_uri": "https://localhost:8080/"
        }
      },
      "execution_count": 3,
      "outputs": [
        {
          "output_type": "stream",
          "name": "stdout",
          "text": [
            "Cloning into 'ocp'...\n",
            "remote: Enumerating objects: 8687, done.\u001b[K\n",
            "remote: Counting objects: 100% (912/912), done.\u001b[K\n",
            "remote: Compressing objects: 100% (437/437), done.\u001b[K\n",
            "remote: Total 8687 (delta 585), reused 730 (delta 459), pack-reused 7775\u001b[K\n",
            "Receiving objects: 100% (8687/8687), 101.43 MiB | 19.17 MiB/s, done.\n",
            "Resolving deltas: 100% (5850/5850), done.\n",
            "Looking in indexes: https://pypi.org/simple, https://us-python.pkg.dev/colab-wheels/public/simple/\n",
            "Obtaining file:///content/ocp\n",
            "  Installing build dependencies ... \u001b[?25l\u001b[?25hdone\n",
            "  Checking if build backend supports build_editable ... \u001b[?25l\u001b[?25hdone\n",
            "  Getting requirements to build editable ... \u001b[?25l\u001b[?25hdone\n",
            "  Preparing editable metadata (pyproject.toml) ... \u001b[?25l\u001b[?25hdone\n",
            "Building wheels for collected packages: ocp-models\n",
            "  Building editable for ocp-models (pyproject.toml) ... \u001b[?25l\u001b[?25hdone\n",
            "  Created wheel for ocp-models: filename=ocp_models-0.0.3-0.editable-py3-none-any.whl size=3294 sha256=2425a7a6c9ea6de6693522a4ab405ebb82ca961f5f1e1d9eb51172c1cb1521a5\n",
            "  Stored in directory: /tmp/pip-ephem-wheel-cache-jzupzdw8/wheels/29/db/87/61b8ac706262b22238c01b070b675db289c051f2d890c74f3b\n",
            "Successfully built ocp-models\n",
            "Installing collected packages: ocp-models\n",
            "Successfully installed ocp-models-0.0.3\n"
          ]
        }
      ]
    },
    {
      "cell_type": "code",
      "source": [
        "pip install  lmdb pymatgen==2023.5.10 ase==3.22.1"
      ],
      "metadata": {
        "colab": {
          "base_uri": "https://localhost:8080/"
        },
        "id": "tiP6kq_id7fh",
        "outputId": "ca6a6a4b-14df-4689-ffc4-486417be7f8b"
      },
      "execution_count": 5,
      "outputs": [
        {
          "output_type": "stream",
          "name": "stdout",
          "text": [
            "Looking in indexes: https://pypi.org/simple, https://us-python.pkg.dev/colab-wheels/public/simple/\n",
            "Requirement already satisfied: lmdb in /usr/local/lib/python3.10/dist-packages (1.4.1)\n",
            "Requirement already satisfied: pymatgen==2023.5.10 in /usr/local/lib/python3.10/dist-packages (2023.5.10)\n",
            "Requirement already satisfied: ase==3.22.1 in /usr/local/lib/python3.10/dist-packages (3.22.1)\n",
            "Requirement already satisfied: matplotlib>=1.5 in /usr/local/lib/python3.10/dist-packages (from pymatgen==2023.5.10) (3.7.1)\n",
            "Requirement already satisfied: monty>=3.0.2 in /usr/local/lib/python3.10/dist-packages (from pymatgen==2023.5.10) (2023.5.8)\n",
            "Requirement already satisfied: mp-api>=0.27.3 in /usr/local/lib/python3.10/dist-packages (from pymatgen==2023.5.10) (0.33.3)\n",
            "Requirement already satisfied: networkx>=2.2 in /usr/local/lib/python3.10/dist-packages (from pymatgen==2023.5.10) (3.1)\n",
            "Requirement already satisfied: numpy>=1.20.1 in /usr/local/lib/python3.10/dist-packages (from pymatgen==2023.5.10) (1.22.4)\n",
            "Requirement already satisfied: palettable>=3.1.1 in /usr/local/lib/python3.10/dist-packages (from pymatgen==2023.5.10) (3.3.3)\n",
            "Requirement already satisfied: pandas in /usr/local/lib/python3.10/dist-packages (from pymatgen==2023.5.10) (1.5.3)\n",
            "Requirement already satisfied: plotly>=4.5.0 in /usr/local/lib/python3.10/dist-packages (from pymatgen==2023.5.10) (5.13.1)\n",
            "Requirement already satisfied: pybtex in /usr/local/lib/python3.10/dist-packages (from pymatgen==2023.5.10) (0.24.0)\n",
            "Requirement already satisfied: requests in /usr/local/lib/python3.10/dist-packages (from pymatgen==2023.5.10) (2.27.1)\n",
            "Requirement already satisfied: ruamel.yaml>=0.17.0 in /usr/local/lib/python3.10/dist-packages (from pymatgen==2023.5.10) (0.17.31)\n",
            "Requirement already satisfied: scipy>=1.5.0 in /usr/local/lib/python3.10/dist-packages (from pymatgen==2023.5.10) (1.10.1)\n",
            "Requirement already satisfied: spglib>=2.0.2 in /usr/local/lib/python3.10/dist-packages (from pymatgen==2023.5.10) (2.0.2)\n",
            "Requirement already satisfied: sympy in /usr/local/lib/python3.10/dist-packages (from pymatgen==2023.5.10) (1.11.1)\n",
            "Requirement already satisfied: tabulate in /usr/local/lib/python3.10/dist-packages (from pymatgen==2023.5.10) (0.8.10)\n",
            "Requirement already satisfied: tqdm in /usr/local/lib/python3.10/dist-packages (from pymatgen==2023.5.10) (4.65.0)\n",
            "Requirement already satisfied: uncertainties>=3.1.4 in /usr/local/lib/python3.10/dist-packages (from pymatgen==2023.5.10) (3.1.7)\n",
            "Requirement already satisfied: contourpy>=1.0.1 in /usr/local/lib/python3.10/dist-packages (from matplotlib>=1.5->pymatgen==2023.5.10) (1.0.7)\n",
            "Requirement already satisfied: cycler>=0.10 in /usr/local/lib/python3.10/dist-packages (from matplotlib>=1.5->pymatgen==2023.5.10) (0.11.0)\n",
            "Requirement already satisfied: fonttools>=4.22.0 in /usr/local/lib/python3.10/dist-packages (from matplotlib>=1.5->pymatgen==2023.5.10) (4.39.3)\n",
            "Requirement already satisfied: kiwisolver>=1.0.1 in /usr/local/lib/python3.10/dist-packages (from matplotlib>=1.5->pymatgen==2023.5.10) (1.4.4)\n",
            "Requirement already satisfied: packaging>=20.0 in /usr/local/lib/python3.10/dist-packages (from matplotlib>=1.5->pymatgen==2023.5.10) (23.1)\n",
            "Requirement already satisfied: pillow>=6.2.0 in /usr/local/lib/python3.10/dist-packages (from matplotlib>=1.5->pymatgen==2023.5.10) (8.4.0)\n",
            "Requirement already satisfied: pyparsing>=2.3.1 in /usr/local/lib/python3.10/dist-packages (from matplotlib>=1.5->pymatgen==2023.5.10) (3.0.9)\n",
            "Requirement already satisfied: python-dateutil>=2.7 in /usr/local/lib/python3.10/dist-packages (from matplotlib>=1.5->pymatgen==2023.5.10) (2.8.2)\n",
            "Requirement already satisfied: setuptools in /usr/local/lib/python3.10/dist-packages (from mp-api>=0.27.3->pymatgen==2023.5.10) (67.7.2)\n",
            "Requirement already satisfied: msgpack in /usr/local/lib/python3.10/dist-packages (from mp-api>=0.27.3->pymatgen==2023.5.10) (1.0.5)\n",
            "Requirement already satisfied: typing-extensions>=3.7.4.1 in /usr/local/lib/python3.10/dist-packages (from mp-api>=0.27.3->pymatgen==2023.5.10) (4.5.0)\n",
            "Requirement already satisfied: emmet-core>=0.54.0 in /usr/local/lib/python3.10/dist-packages (from mp-api>=0.27.3->pymatgen==2023.5.10) (0.55.3)\n",
            "Requirement already satisfied: tenacity>=6.2.0 in /usr/local/lib/python3.10/dist-packages (from plotly>=4.5.0->pymatgen==2023.5.10) (8.2.2)\n",
            "Requirement already satisfied: urllib3<1.27,>=1.21.1 in /usr/local/lib/python3.10/dist-packages (from requests->pymatgen==2023.5.10) (1.26.15)\n",
            "Requirement already satisfied: certifi>=2017.4.17 in /usr/local/lib/python3.10/dist-packages (from requests->pymatgen==2023.5.10) (2022.12.7)\n",
            "Requirement already satisfied: charset-normalizer~=2.0.0 in /usr/local/lib/python3.10/dist-packages (from requests->pymatgen==2023.5.10) (2.0.12)\n",
            "Requirement already satisfied: idna<4,>=2.5 in /usr/local/lib/python3.10/dist-packages (from requests->pymatgen==2023.5.10) (3.4)\n",
            "Requirement already satisfied: ruamel.yaml.clib>=0.2.7 in /usr/local/lib/python3.10/dist-packages (from ruamel.yaml>=0.17.0->pymatgen==2023.5.10) (0.2.7)\n",
            "Requirement already satisfied: future in /usr/local/lib/python3.10/dist-packages (from uncertainties>=3.1.4->pymatgen==2023.5.10) (0.18.3)\n",
            "Requirement already satisfied: pytz>=2020.1 in /usr/local/lib/python3.10/dist-packages (from pandas->pymatgen==2023.5.10) (2022.7.1)\n",
            "Requirement already satisfied: PyYAML>=3.01 in /usr/local/lib/python3.10/dist-packages (from pybtex->pymatgen==2023.5.10) (6.0)\n",
            "Requirement already satisfied: latexcodec>=1.0.4 in /usr/local/lib/python3.10/dist-packages (from pybtex->pymatgen==2023.5.10) (2.0.1)\n",
            "Requirement already satisfied: six in /usr/local/lib/python3.10/dist-packages (from pybtex->pymatgen==2023.5.10) (1.16.0)\n",
            "Requirement already satisfied: mpmath>=0.19 in /usr/local/lib/python3.10/dist-packages (from sympy->pymatgen==2023.5.10) (1.3.0)\n",
            "Requirement already satisfied: pydantic>=1.10.2 in /usr/local/lib/python3.10/dist-packages (from emmet-core>=0.54.0->mp-api>=0.27.3->pymatgen==2023.5.10) (1.10.7)\n"
          ]
        }
      ]
    },
    {
      "cell_type": "code",
      "source": [
        "import os, torch\n",
        "from ase.io import read\n",
        "from ocpmodels.preprocessing import AtomsToGraphs\n",
        "from ocpmodels.models import SchNet"
      ],
      "metadata": {
        "colab": {
          "base_uri": "https://localhost:8080/"
        },
        "id": "WFhrw-pWeGWp",
        "outputId": "4a44a4a2-968b-4ab7-917c-bae048007855"
      },
      "execution_count": 6,
      "outputs": [
        {
          "output_type": "stream",
          "name": "stderr",
          "text": [
            "ERROR:root:Invalid setup for SCN. Either the e3nn library or Jd.pt is missing.\n"
          ]
        }
      ]
    },
    {
      "cell_type": "code",
      "source": [],
      "metadata": {
        "id": "gfF9o4cKia7e"
      },
      "execution_count": null,
      "outputs": []
    },
    {
      "cell_type": "code",
      "source": [
        "!wget https://dl.fbaipublicfiles.com/opencatalystproject/models/2021_02/is2re/schnet_all.pt"
      ],
      "metadata": {
        "id": "9tVsLN7CiOu9",
        "outputId": "882fd0f9-f02c-41a2-f798-0aad2e512cc3",
        "colab": {
          "base_uri": "https://localhost:8080/"
        }
      },
      "execution_count": 7,
      "outputs": [
        {
          "output_type": "stream",
          "name": "stdout",
          "text": [
            "--2023-06-02 01:39:23--  https://dl.fbaipublicfiles.com/opencatalystproject/models/2021_02/is2re/schnet_all.pt\n",
            "Resolving dl.fbaipublicfiles.com (dl.fbaipublicfiles.com)... 13.35.7.38, 13.35.7.128, 13.35.7.82, ...\n",
            "Connecting to dl.fbaipublicfiles.com (dl.fbaipublicfiles.com)|13.35.7.38|:443... connected.\n",
            "HTTP request sent, awaiting response... 200 OK\n",
            "Length: 14643781 (14M) [binary/octet-stream]\n",
            "Saving to: ‘schnet_all.pt’\n",
            "\n",
            "schnet_all.pt       100%[===================>]  13.96M  14.1MB/s    in 1.0s    \n",
            "\n",
            "2023-06-02 01:39:24 (14.1 MB/s) - ‘schnet_all.pt’ saved [14643781/14643781]\n",
            "\n"
          ]
        }
      ]
    },
    {
      "cell_type": "code",
      "source": [
        "device = \"cpu\"\n",
        "if torch.cuda.is_available():\n",
        "    device = torch.device(\"cuda\")\n",
        "attrs = torch.load(\"schnet_all.pt\", map_location=device)[\"config\"][\n",
        "    \"model_attributes\"\n",
        "]"
      ],
      "metadata": {
        "id": "iduEf7KgicAn"
      },
      "execution_count": 8,
      "outputs": []
    },
    {
      "cell_type": "code",
      "source": [
        "model = SchNet(\n",
        "    None,\n",
        "    None,\n",
        "    1,\n",
        "    cutoff=6.0,\n",
        "    hidden_channels=attrs[\"hidden_channels\"],\n",
        "    num_interactions=attrs[\"num_interactions\"],\n",
        "    num_gaussians=attrs[\"num_gaussians\"],\n",
        "    regress_forces=False,\n",
        "    use_pbc=True,\n",
        ")\n",
        "\n",
        "state_dict = torch.load(\"schnet_all.pt\", map_location=device)[\"state_dict\"]\n",
        "state_dict = {k[2 * len(\"module.\") :]: v for k, v in state_dict.items()}\n",
        "model.load_state_dict(state_dict, strict=True)\n",
        "model.to(device)"
      ],
      "metadata": {
        "colab": {
          "base_uri": "https://localhost:8080/"
        },
        "id": "9R6EKXtOw1Gb",
        "outputId": "40f03b48-1cb9-43f0-e2b1-2c2170fa750f"
      },
      "execution_count": 9,
      "outputs": [
        {
          "output_type": "execute_result",
          "data": {
            "text/plain": [
              "SchNetWrap(hidden_channels=384, num_filters=128, num_interactions=4, num_gaussians=100, cutoff=6.0)"
            ]
          },
          "metadata": {},
          "execution_count": 9
        }
      ]
    },
    {
      "cell_type": "code",
      "source": [
        "import os\n",
        "if not os.path.exists('jarvis_leaderboard'):\n",
        "  !git clone https://github.com/usnistgov/jarvis_leaderboard.git\n",
        "os.chdir('jarvis_leaderboard')\n",
        "!pip install -e ."
      ],
      "metadata": {
        "id": "yV7x3Ko_0Pti",
        "outputId": "ec46318b-3496-4b44-80f7-1c0b04265637",
        "colab": {
          "base_uri": "https://localhost:8080/"
        }
      },
      "execution_count": 10,
      "outputs": [
        {
          "output_type": "stream",
          "name": "stdout",
          "text": [
            "Cloning into 'jarvis_leaderboard'...\n",
            "remote: Enumerating objects: 35441, done.\u001b[K\n",
            "remote: Counting objects: 100% (4241/4241), done.\u001b[K\n",
            "remote: Compressing objects: 100% (586/586), done.\u001b[K\n",
            "remote: Total 35441 (delta 2148), reused 3979 (delta 2014), pack-reused 31200\u001b[K\n",
            "Receiving objects: 100% (35441/35441), 280.03 MiB | 25.47 MiB/s, done.\n",
            "Resolving deltas: 100% (18316/18316), done.\n",
            "Updating files: 100% (2324/2324), done.\n",
            "Looking in indexes: https://pypi.org/simple, https://us-python.pkg.dev/colab-wheels/public/simple/\n",
            "Obtaining file:///content/ocp/jarvis_leaderboard\n",
            "  Preparing metadata (setup.py) ... \u001b[?25l\u001b[?25hdone\n",
            "Requirement already satisfied: numpy>=1.19.5 in /usr/local/lib/python3.10/dist-packages (from jarvis-leaderboard==2023.5.13) (1.22.4)\n",
            "Requirement already satisfied: scipy>=1.6.3 in /usr/local/lib/python3.10/dist-packages (from jarvis-leaderboard==2023.5.13) (1.10.1)\n",
            "Collecting jarvis-tools>=2021.07.19 (from jarvis-leaderboard==2023.5.13)\n",
            "  Downloading jarvis_tools-2023.5.26-py2.py3-none-any.whl (974 kB)\n",
            "\u001b[2K     \u001b[90m━━━━━━━━━━━━━━━━━━━━━━━━━━━━━━━━━━━━━━\u001b[0m \u001b[32m974.6/974.6 kB\u001b[0m \u001b[31m14.0 MB/s\u001b[0m eta \u001b[36m0:00:00\u001b[0m\n",
            "\u001b[?25hRequirement already satisfied: scikit-learn>=0.24.1 in /usr/local/lib/python3.10/dist-packages (from jarvis-leaderboard==2023.5.13) (1.2.2)\n",
            "Requirement already satisfied: pandas>=1.2.4 in /usr/local/lib/python3.10/dist-packages (from jarvis-leaderboard==2023.5.13) (1.5.3)\n",
            "Collecting mkdocs-material>=9.0.5 (from jarvis-leaderboard==2023.5.13)\n",
            "  Downloading mkdocs_material-9.1.15-py3-none-any.whl (7.8 MB)\n",
            "\u001b[2K     \u001b[90m━━━━━━━━━━━━━━━━━━━━━━━━━━━━━━━━━━━━━━━━\u001b[0m \u001b[32m7.8/7.8 MB\u001b[0m \u001b[31m67.3 MB/s\u001b[0m eta \u001b[36m0:00:00\u001b[0m\n",
            "\u001b[?25hRequirement already satisfied: pydantic>=1.8.1 in /usr/local/lib/python3.10/dist-packages (from jarvis-leaderboard==2023.5.13) (1.10.7)\n",
            "Collecting markdown==3.2.1 (from jarvis-leaderboard==2023.5.13)\n",
            "  Downloading Markdown-3.2.1-py2.py3-none-any.whl (88 kB)\n",
            "\u001b[2K     \u001b[90m━━━━━━━━━━━━━━━━━━━━━━━━━━━━━━━━━━━━━━━━\u001b[0m \u001b[32m88.8/88.8 kB\u001b[0m \u001b[31m10.1 MB/s\u001b[0m eta \u001b[36m0:00:00\u001b[0m\n",
            "\u001b[?25hRequirement already satisfied: absl-py==1.4.0 in /usr/local/lib/python3.10/dist-packages (from jarvis-leaderboard==2023.5.13) (1.4.0)\n",
            "Collecting evaluate==0.4.0 (from jarvis-leaderboard==2023.5.13)\n",
            "  Downloading evaluate-0.4.0-py3-none-any.whl (81 kB)\n",
            "\u001b[2K     \u001b[90m━━━━━━━━━━━━━━━━━━━━━━━━━━━━━━━━━━━━━━━━\u001b[0m \u001b[32m81.4/81.4 kB\u001b[0m \u001b[31m9.5 MB/s\u001b[0m eta \u001b[36m0:00:00\u001b[0m\n",
            "\u001b[?25hRequirement already satisfied: nltk==3.8.1 in /usr/local/lib/python3.10/dist-packages (from jarvis-leaderboard==2023.5.13) (3.8.1)\n",
            "Collecting rouge-score==0.1.2 (from jarvis-leaderboard==2023.5.13)\n",
            "  Downloading rouge_score-0.1.2.tar.gz (17 kB)\n",
            "  Preparing metadata (setup.py) ... \u001b[?25l\u001b[?25hdone\n",
            "Collecting datasets>=2.0.0 (from evaluate==0.4.0->jarvis-leaderboard==2023.5.13)\n",
            "  Downloading datasets-2.12.0-py3-none-any.whl (474 kB)\n",
            "\u001b[2K     \u001b[90m━━━━━━━━━━━━━━━━━━━━━━━━━━━━━━━━━━━━━━━\u001b[0m \u001b[32m474.6/474.6 kB\u001b[0m \u001b[31m9.8 MB/s\u001b[0m eta \u001b[36m0:00:00\u001b[0m\n",
            "\u001b[?25hCollecting dill (from evaluate==0.4.0->jarvis-leaderboard==2023.5.13)\n",
            "  Downloading dill-0.3.6-py3-none-any.whl (110 kB)\n",
            "\u001b[2K     \u001b[90m━━━━━━━━━━━━━━━━━━━━━━━━━━━━━━━━━━━━━━━\u001b[0m \u001b[32m110.5/110.5 kB\u001b[0m \u001b[31m9.7 MB/s\u001b[0m eta \u001b[36m0:00:00\u001b[0m\n",
            "\u001b[?25hRequirement already satisfied: requests>=2.19.0 in /usr/local/lib/python3.10/dist-packages (from evaluate==0.4.0->jarvis-leaderboard==2023.5.13) (2.27.1)\n",
            "Requirement already satisfied: tqdm>=4.62.1 in /usr/local/lib/python3.10/dist-packages (from evaluate==0.4.0->jarvis-leaderboard==2023.5.13) (4.65.0)\n",
            "Collecting xxhash (from evaluate==0.4.0->jarvis-leaderboard==2023.5.13)\n",
            "  Downloading xxhash-3.2.0-cp310-cp310-manylinux_2_17_x86_64.manylinux2014_x86_64.whl (212 kB)\n",
            "\u001b[2K     \u001b[90m━━━━━━━━━━━━━━━━━━━━━━━━━━━━━━━━━━━━━━\u001b[0m \u001b[32m212.5/212.5 kB\u001b[0m \u001b[31m10.5 MB/s\u001b[0m eta \u001b[36m0:00:00\u001b[0m\n",
            "\u001b[?25hCollecting multiprocess (from evaluate==0.4.0->jarvis-leaderboard==2023.5.13)\n",
            "  Downloading multiprocess-0.70.14-py310-none-any.whl (134 kB)\n",
            "\u001b[2K     \u001b[90m━━━━━━━━━━━━━━━━━━━━━━━━━━━━━━━━━━━━━━━\u001b[0m \u001b[32m134.3/134.3 kB\u001b[0m \u001b[31m7.1 MB/s\u001b[0m eta \u001b[36m0:00:00\u001b[0m\n",
            "\u001b[?25hRequirement already satisfied: fsspec[http]>=2021.05.0 in /usr/local/lib/python3.10/dist-packages (from evaluate==0.4.0->jarvis-leaderboard==2023.5.13) (2023.4.0)\n",
            "Collecting huggingface-hub>=0.7.0 (from evaluate==0.4.0->jarvis-leaderboard==2023.5.13)\n",
            "  Downloading huggingface_hub-0.15.1-py3-none-any.whl (236 kB)\n",
            "\u001b[2K     \u001b[90m━━━━━━━━━━━━━━━━━━━━━━━━━━━━━━━━━━━━━━\u001b[0m \u001b[32m236.8/236.8 kB\u001b[0m \u001b[31m10.4 MB/s\u001b[0m eta \u001b[36m0:00:00\u001b[0m\n",
            "\u001b[?25hRequirement already satisfied: packaging in /usr/local/lib/python3.10/dist-packages (from evaluate==0.4.0->jarvis-leaderboard==2023.5.13) (23.1)\n",
            "Collecting responses<0.19 (from evaluate==0.4.0->jarvis-leaderboard==2023.5.13)\n",
            "  Downloading responses-0.18.0-py3-none-any.whl (38 kB)\n",
            "Requirement already satisfied: setuptools>=36 in /usr/local/lib/python3.10/dist-packages (from markdown==3.2.1->jarvis-leaderboard==2023.5.13) (67.7.2)\n",
            "Requirement already satisfied: click in /usr/local/lib/python3.10/dist-packages (from nltk==3.8.1->jarvis-leaderboard==2023.5.13) (8.1.3)\n",
            "Requirement already satisfied: joblib in /usr/local/lib/python3.10/dist-packages (from nltk==3.8.1->jarvis-leaderboard==2023.5.13) (1.2.0)\n",
            "Requirement already satisfied: regex>=2021.8.3 in /usr/local/lib/python3.10/dist-packages (from nltk==3.8.1->jarvis-leaderboard==2023.5.13) (2022.10.31)\n",
            "Requirement already satisfied: six>=1.14.0 in /usr/local/lib/python3.10/dist-packages (from rouge-score==0.1.2->jarvis-leaderboard==2023.5.13) (1.16.0)\n",
            "Requirement already satisfied: matplotlib>=3.0.0 in /usr/local/lib/python3.10/dist-packages (from jarvis-tools>=2021.07.19->jarvis-leaderboard==2023.5.13) (3.7.1)\n",
            "Requirement already satisfied: spglib>=1.14.1 in /usr/local/lib/python3.10/dist-packages (from jarvis-tools>=2021.07.19->jarvis-leaderboard==2023.5.13) (2.0.2)\n",
            "Requirement already satisfied: toolz>=0.9.0 in /usr/local/lib/python3.10/dist-packages (from jarvis-tools>=2021.07.19->jarvis-leaderboard==2023.5.13) (0.12.0)\n",
            "Collecting xmltodict>=0.11.0 (from jarvis-tools>=2021.07.19->jarvis-leaderboard==2023.5.13)\n",
            "  Downloading xmltodict-0.13.0-py2.py3-none-any.whl (10.0 kB)\n",
            "Collecting colorama>=0.4 (from mkdocs-material>=9.0.5->jarvis-leaderboard==2023.5.13)\n",
            "  Downloading colorama-0.4.6-py2.py3-none-any.whl (25 kB)\n",
            "Requirement already satisfied: jinja2>=3.0 in /usr/local/lib/python3.10/dist-packages (from mkdocs-material>=9.0.5->jarvis-leaderboard==2023.5.13) (3.1.2)\n",
            "Collecting mkdocs-material-extensions>=1.1 (from mkdocs-material>=9.0.5->jarvis-leaderboard==2023.5.13)\n",
            "  Downloading mkdocs_material_extensions-1.1.1-py3-none-any.whl (7.9 kB)\n",
            "Collecting mkdocs>=1.4.2 (from mkdocs-material>=9.0.5->jarvis-leaderboard==2023.5.13)\n",
            "  Downloading mkdocs-1.4.3-py3-none-any.whl (3.7 MB)\n",
            "\u001b[2K     \u001b[90m━━━━━━━━━━━━━━━━━━━━━━━━━━━━━━━━━━━━━━━━\u001b[0m \u001b[32m3.7/3.7 MB\u001b[0m \u001b[31m29.3 MB/s\u001b[0m eta \u001b[36m0:00:00\u001b[0m\n",
            "\u001b[?25hRequirement already satisfied: pygments>=2.14 in /usr/local/lib/python3.10/dist-packages (from mkdocs-material>=9.0.5->jarvis-leaderboard==2023.5.13) (2.14.0)\n",
            "Collecting pymdown-extensions>=9.9.1 (from mkdocs-material>=9.0.5->jarvis-leaderboard==2023.5.13)\n",
            "  Downloading pymdown_extensions-10.0.1-py3-none-any.whl (240 kB)\n",
            "\u001b[2K     \u001b[90m━━━━━━━━━━━━━━━━━━━━━━━━━━━━━━━━━━━━━━\u001b[0m \u001b[32m240.1/240.1 kB\u001b[0m \u001b[31m13.3 MB/s\u001b[0m eta \u001b[36m0:00:00\u001b[0m\n",
            "\u001b[?25hRequirement already satisfied: python-dateutil>=2.8.1 in /usr/local/lib/python3.10/dist-packages (from pandas>=1.2.4->jarvis-leaderboard==2023.5.13) (2.8.2)\n",
            "Requirement already satisfied: pytz>=2020.1 in /usr/local/lib/python3.10/dist-packages (from pandas>=1.2.4->jarvis-leaderboard==2023.5.13) (2022.7.1)\n",
            "Requirement already satisfied: typing-extensions>=4.2.0 in /usr/local/lib/python3.10/dist-packages (from pydantic>=1.8.1->jarvis-leaderboard==2023.5.13) (4.5.0)\n",
            "Requirement already satisfied: threadpoolctl>=2.0.0 in /usr/local/lib/python3.10/dist-packages (from scikit-learn>=0.24.1->jarvis-leaderboard==2023.5.13) (3.1.0)\n",
            "Requirement already satisfied: pyarrow>=8.0.0 in /usr/local/lib/python3.10/dist-packages (from datasets>=2.0.0->evaluate==0.4.0->jarvis-leaderboard==2023.5.13) (9.0.0)\n",
            "Collecting aiohttp (from datasets>=2.0.0->evaluate==0.4.0->jarvis-leaderboard==2023.5.13)\n",
            "  Downloading aiohttp-3.8.4-cp310-cp310-manylinux_2_17_x86_64.manylinux2014_x86_64.whl (1.0 MB)\n",
            "\u001b[2K     \u001b[90m━━━━━━━━━━━━━━━━━━━━━━━━━━━━━━━━━━━━━━━━\u001b[0m \u001b[32m1.0/1.0 MB\u001b[0m \u001b[31m34.0 MB/s\u001b[0m eta \u001b[36m0:00:00\u001b[0m\n",
            "\u001b[?25hRequirement already satisfied: pyyaml>=5.1 in /usr/local/lib/python3.10/dist-packages (from datasets>=2.0.0->evaluate==0.4.0->jarvis-leaderboard==2023.5.13) (6.0)\n",
            "Requirement already satisfied: filelock in /usr/local/lib/python3.10/dist-packages (from huggingface-hub>=0.7.0->evaluate==0.4.0->jarvis-leaderboard==2023.5.13) (3.12.0)\n",
            "Requirement already satisfied: MarkupSafe>=2.0 in /usr/local/lib/python3.10/dist-packages (from jinja2>=3.0->mkdocs-material>=9.0.5->jarvis-leaderboard==2023.5.13) (2.1.2)\n",
            "Requirement already satisfied: contourpy>=1.0.1 in /usr/local/lib/python3.10/dist-packages (from matplotlib>=3.0.0->jarvis-tools>=2021.07.19->jarvis-leaderboard==2023.5.13) (1.0.7)\n",
            "Requirement already satisfied: cycler>=0.10 in /usr/local/lib/python3.10/dist-packages (from matplotlib>=3.0.0->jarvis-tools>=2021.07.19->jarvis-leaderboard==2023.5.13) (0.11.0)\n",
            "Requirement already satisfied: fonttools>=4.22.0 in /usr/local/lib/python3.10/dist-packages (from matplotlib>=3.0.0->jarvis-tools>=2021.07.19->jarvis-leaderboard==2023.5.13) (4.39.3)\n",
            "Requirement already satisfied: kiwisolver>=1.0.1 in /usr/local/lib/python3.10/dist-packages (from matplotlib>=3.0.0->jarvis-tools>=2021.07.19->jarvis-leaderboard==2023.5.13) (1.4.4)\n",
            "Requirement already satisfied: pillow>=6.2.0 in /usr/local/lib/python3.10/dist-packages (from matplotlib>=3.0.0->jarvis-tools>=2021.07.19->jarvis-leaderboard==2023.5.13) (8.4.0)\n",
            "Requirement already satisfied: pyparsing>=2.3.1 in /usr/local/lib/python3.10/dist-packages (from matplotlib>=3.0.0->jarvis-tools>=2021.07.19->jarvis-leaderboard==2023.5.13) (3.0.9)\n",
            "Collecting ghp-import>=1.0 (from mkdocs>=1.4.2->mkdocs-material>=9.0.5->jarvis-leaderboard==2023.5.13)\n",
            "  Downloading ghp_import-2.1.0-py3-none-any.whl (11 kB)\n",
            "Collecting mergedeep>=1.3.4 (from mkdocs>=1.4.2->mkdocs-material>=9.0.5->jarvis-leaderboard==2023.5.13)\n",
            "  Downloading mergedeep-1.3.4-py3-none-any.whl (6.4 kB)\n",
            "Collecting pyyaml-env-tag>=0.1 (from mkdocs>=1.4.2->mkdocs-material>=9.0.5->jarvis-leaderboard==2023.5.13)\n",
            "  Downloading pyyaml_env_tag-0.1-py3-none-any.whl (3.9 kB)\n",
            "Collecting watchdog>=2.0 (from mkdocs>=1.4.2->mkdocs-material>=9.0.5->jarvis-leaderboard==2023.5.13)\n",
            "  Downloading watchdog-3.0.0-py3-none-manylinux2014_x86_64.whl (82 kB)\n",
            "\u001b[2K     \u001b[90m━━━━━━━━━━━━━━━━━━━━━━━━━━━━━━━━━━━━━━━━\u001b[0m \u001b[32m82.1/82.1 kB\u001b[0m \u001b[31m9.1 MB/s\u001b[0m eta \u001b[36m0:00:00\u001b[0m\n",
            "\u001b[?25hRequirement already satisfied: urllib3<1.27,>=1.21.1 in /usr/local/lib/python3.10/dist-packages (from requests>=2.19.0->evaluate==0.4.0->jarvis-leaderboard==2023.5.13) (1.26.15)\n",
            "Requirement already satisfied: certifi>=2017.4.17 in /usr/local/lib/python3.10/dist-packages (from requests>=2.19.0->evaluate==0.4.0->jarvis-leaderboard==2023.5.13) (2022.12.7)\n",
            "Requirement already satisfied: charset-normalizer~=2.0.0 in /usr/local/lib/python3.10/dist-packages (from requests>=2.19.0->evaluate==0.4.0->jarvis-leaderboard==2023.5.13) (2.0.12)\n",
            "Requirement already satisfied: idna<4,>=2.5 in /usr/local/lib/python3.10/dist-packages (from requests>=2.19.0->evaluate==0.4.0->jarvis-leaderboard==2023.5.13) (3.4)\n",
            "Requirement already satisfied: attrs>=17.3.0 in /usr/local/lib/python3.10/dist-packages (from aiohttp->datasets>=2.0.0->evaluate==0.4.0->jarvis-leaderboard==2023.5.13) (23.1.0)\n",
            "Collecting multidict<7.0,>=4.5 (from aiohttp->datasets>=2.0.0->evaluate==0.4.0->jarvis-leaderboard==2023.5.13)\n",
            "  Downloading multidict-6.0.4-cp310-cp310-manylinux_2_17_x86_64.manylinux2014_x86_64.whl (114 kB)\n",
            "\u001b[2K     \u001b[90m━━━━━━━━━━━━━━━━━━━━━━━━━━━━━━━━━━━━━━\u001b[0m \u001b[32m114.5/114.5 kB\u001b[0m \u001b[31m12.9 MB/s\u001b[0m eta \u001b[36m0:00:00\u001b[0m\n",
            "\u001b[?25hCollecting async-timeout<5.0,>=4.0.0a3 (from aiohttp->datasets>=2.0.0->evaluate==0.4.0->jarvis-leaderboard==2023.5.13)\n",
            "  Downloading async_timeout-4.0.2-py3-none-any.whl (5.8 kB)\n",
            "Collecting yarl<2.0,>=1.0 (from aiohttp->datasets>=2.0.0->evaluate==0.4.0->jarvis-leaderboard==2023.5.13)\n",
            "  Downloading yarl-1.9.2-cp310-cp310-manylinux_2_17_x86_64.manylinux2014_x86_64.whl (268 kB)\n",
            "\u001b[2K     \u001b[90m━━━━━━━━━━━━━━━━━━━━━━━━━━━━━━━━━━━━━━\u001b[0m \u001b[32m268.8/268.8 kB\u001b[0m \u001b[31m17.7 MB/s\u001b[0m eta \u001b[36m0:00:00\u001b[0m\n",
            "\u001b[?25hCollecting frozenlist>=1.1.1 (from aiohttp->datasets>=2.0.0->evaluate==0.4.0->jarvis-leaderboard==2023.5.13)\n",
            "  Downloading frozenlist-1.3.3-cp310-cp310-manylinux_2_5_x86_64.manylinux1_x86_64.manylinux_2_17_x86_64.manylinux2014_x86_64.whl (149 kB)\n",
            "\u001b[2K     \u001b[90m━━━━━━━━━━━━━━━━━━━━━━━━━━━━━━━━━━━━━━\u001b[0m \u001b[32m149.6/149.6 kB\u001b[0m \u001b[31m15.8 MB/s\u001b[0m eta \u001b[36m0:00:00\u001b[0m\n",
            "\u001b[?25hCollecting aiosignal>=1.1.2 (from aiohttp->datasets>=2.0.0->evaluate==0.4.0->jarvis-leaderboard==2023.5.13)\n",
            "  Downloading aiosignal-1.3.1-py3-none-any.whl (7.6 kB)\n",
            "Building wheels for collected packages: rouge-score\n",
            "  Building wheel for rouge-score (setup.py) ... \u001b[?25l\u001b[?25hdone\n",
            "  Created wheel for rouge-score: filename=rouge_score-0.1.2-py3-none-any.whl size=24934 sha256=5e1ef5e61e2e35fe91240f9e68657b7d33001b89db14bdcd8eafbf439bf7ae67\n",
            "  Stored in directory: /root/.cache/pip/wheels/5f/dd/89/461065a73be61a532ff8599a28e9beef17985c9e9c31e541b4\n",
            "Successfully built rouge-score\n",
            "Installing collected packages: xxhash, xmltodict, watchdog, pyyaml-env-tag, multidict, mkdocs-material-extensions, mergedeep, markdown, frozenlist, dill, colorama, async-timeout, yarl, rouge-score, responses, pymdown-extensions, multiprocess, huggingface-hub, ghp-import, aiosignal, mkdocs, jarvis-tools, aiohttp, mkdocs-material, datasets, evaluate, jarvis-leaderboard\n",
            "  Attempting uninstall: markdown\n",
            "    Found existing installation: Markdown 3.4.3\n",
            "    Uninstalling Markdown-3.4.3:\n",
            "      Successfully uninstalled Markdown-3.4.3\n",
            "  Running setup.py develop for jarvis-leaderboard\n",
            "Successfully installed aiohttp-3.8.4 aiosignal-1.3.1 async-timeout-4.0.2 colorama-0.4.6 datasets-2.12.0 dill-0.3.6 evaluate-0.4.0 frozenlist-1.3.3 ghp-import-2.1.0 huggingface-hub-0.15.1 jarvis-leaderboard-2023.5.13 jarvis-tools-2023.5.26 markdown-3.2.1 mergedeep-1.3.4 mkdocs-1.4.3 mkdocs-material-9.1.15 mkdocs-material-extensions-1.1.1 multidict-6.0.4 multiprocess-0.70.14 pymdown-extensions-10.0.1 pyyaml-env-tag-0.1 responses-0.18.0 rouge-score-0.1.2 watchdog-3.0.0 xmltodict-0.13.0 xxhash-3.2.0 yarl-1.9.2\n"
          ]
        }
      ]
    },
    {
      "cell_type": "code",
      "source": [
        "from jarvis.core.atoms import Atoms\n",
        "from jarvis.core.specie import atomic_numbers_to_symbols\n",
        "import os, torch\n",
        "from ase.io import read\n",
        "from torch.nn.parallel import DistributedDataParallel as DDP\n",
        "import torch.distributed as dist\n",
        "from jarvis.core.atoms import Atoms\n",
        "from tqdm import tqdm\n",
        "from jarvis.db.figshare import  get_request_data\n",
        "import json,zipfile\n",
        "import numpy as np\n",
        "import pandas as pd\n",
        "from jarvis.db.jsonutils import loadjson,dumpjson\n",
        "import os\n",
        "from jarvis.core.atoms import Atoms\n",
        "from jarvis.core.atoms import Atoms\n",
        "from jarvis.core.specie import atomic_numbers_to_symbols\n",
        "from ocpmodels.datasets import SinglePointLmdbDataset\n",
        "import os, torch\n",
        "from ase.io import read\n",
        "from ocpmodels.preprocessing import AtomsToGraphs\n",
        "from ocpmodels.models import CGCNN,SchNet\n",
        "from torch.nn.parallel import DistributedDataParallel as DDP\n",
        "import torch.distributed as dist\n",
        "from jarvis.core.atoms import Atoms\n",
        "from ocpmodels.datasets import data_list_collater"
      ],
      "metadata": {
        "id": "s-v50sDH0Pq8"
      },
      "execution_count": 11,
      "outputs": []
    },
    {
      "cell_type": "code",
      "source": [
        "dat = get_request_data(js_tag=\"ocp_all.json\",url=\"https://figshare.com/ndownloader/files/40974599\")\n",
        "df = pd.DataFrame(dat)\n",
        "# from https://github.com/usnistgov/jarvis_leaderboard/tree/main/jarvis_leaderboard/benchmarks/AI/SinglePropertyPrediction/ocp10k_relaxed_energy.json.zip\n",
        "path = \"../../../../benchmarks/AI/SinglePropertyPrediction/ocp_all_relaxed_energy.json.zip\"\n",
        "js_tag = \"ocp_all_relaxed_energy.json\"\n",
        "id_data = json.loads(zipfile.ZipFile(path).read(js_tag))\n",
        "train_ids = np.array(list(id_data['train'].keys()))\n",
        "val_ids = np.array(list(id_data['val'].keys()))\n",
        "test_ids = np.array(list(id_data['test'].keys()))\n",
        "train_df = df[df['id'].isin(train_ids)]\n",
        "val_df = (df[df['id'].isin(val_ids)])#[:take_val]\n",
        "test_df = (df[df['id'].isin(test_ids)])"
      ],
      "metadata": {
        "id": "y8XbkWG90PoB",
        "outputId": "c32c3006-da49-4146-f8fc-4b044bd8f982",
        "colab": {
          "base_uri": "https://localhost:8080/"
        }
      },
      "execution_count": null,
      "outputs": [
        {
          "output_type": "stream",
          "name": "stderr",
          "text": [
            "100%|██████████| 657M/657M [01:30<00:00, 7.26MiB/s]\n"
          ]
        },
        {
          "output_type": "stream",
          "name": "stdout",
          "text": [
            "Loading the zipfile...\n"
          ]
        }
      ]
    },
    {
      "cell_type": "code",
      "source": [
        "model.eval()"
      ],
      "metadata": {
        "id": "9OlvxzHT0Plf"
      },
      "execution_count": null,
      "outputs": []
    },
    {
      "cell_type": "code",
      "source": [
        "f=open('AI-SinglePropertyPrediction-relaxed_energy-all-test-mae.csv','w')\n",
        "f.write('id,target,prediction\\n')\n",
        "\n",
        "for ii,i in tqdm(test_df.iterrows()):\n",
        "    fname=i['id']\n",
        "    atoms=(Atoms.from_dict(i['atoms'])).ase_converter()\n",
        "    actual=i['relaxed_energy']\n",
        "    relaxed_energy = (actual-target_mean)/target_std\n",
        "    scaled=relaxed_energy\n",
        "    data = a2g.convert(atoms).to(device)\n",
        "    batch = data_list_collater([data], otf_graph=False)\n",
        "    out = model(batch)\n",
        "    pred=(out[0].detach().cpu().numpy().flatten().tolist()[0])*target_std+target_mean\n",
        "    line=str(fname)+','+str(actual)+','+str(pred) #+'\\n'\n",
        "    #line=str(i.sid)+','+str(actual)+','+str(scaled)+','+str(pred) #+'\\n'\n",
        "    f.write(line+'\\n')\n",
        "f.close()"
      ],
      "metadata": {
        "id": "XVVGR_b-1MbX"
      },
      "execution_count": null,
      "outputs": []
    },
    {
      "cell_type": "code",
      "source": [],
      "metadata": {
        "id": "XpNO_pK-1MY5"
      },
      "execution_count": null,
      "outputs": []
    },
    {
      "cell_type": "code",
      "source": [],
      "metadata": {
        "id": "c-NN090Q1MWU"
      },
      "execution_count": null,
      "outputs": []
    },
    {
      "cell_type": "code",
      "source": [],
      "metadata": {
        "id": "CxuIhVTm1MTz"
      },
      "execution_count": null,
      "outputs": []
    },
    {
      "cell_type": "code",
      "source": [],
      "metadata": {
        "id": "HfXandpi1MRR"
      },
      "execution_count": null,
      "outputs": []
    },
    {
      "cell_type": "code",
      "source": [],
      "metadata": {
        "id": "8QC9u9To1MOi"
      },
      "execution_count": null,
      "outputs": []
    },
    {
      "cell_type": "code",
      "source": [],
      "metadata": {
        "id": "tYtk3f7G1MMA"
      },
      "execution_count": null,
      "outputs": []
    },
    {
      "cell_type": "code",
      "source": [
        "model = SchNet(\n",
        "    None,\n",
        "    None,\n",
        "    1,\n",
        "    cutoff=6.0,\n",
        "    hidden_channels=attrs[\"hidden_channels\"],\n",
        "    num_interactions=attrs[\"num_interactions\"],\n",
        "    num_gaussians=attrs[\"num_gaussians\"],\n",
        "    regress_forces=False,\n",
        "    use_pbc=True,\n",
        ")\n",
        "\n",
        "model.load_state_dict(\n",
        "    torch.load(\"schnet_all.pt\", map_location=device)[\"state_dict\"]\n",
        ")\n",
        "model.to(device)"
      ],
      "metadata": {
        "colab": {
          "base_uri": "https://localhost:8080/",
          "height": 765
        },
        "id": "ISHJv0tGf8mY",
        "outputId": "1b0df582-3c36-4715-d519-8181863118e2"
      },
      "execution_count": null,
      "outputs": [
        {
          "output_type": "error",
          "ename": "RuntimeError",
          "evalue": "ignored",
          "traceback": [
            "\u001b[0;31m---------------------------------------------------------------------------\u001b[0m",
            "\u001b[0;31mRuntimeError\u001b[0m                              Traceback (most recent call last)",
            "\u001b[0;32m<ipython-input-7-60b1444b5554>\u001b[0m in \u001b[0;36m<cell line: 13>\u001b[0;34m()\u001b[0m\n\u001b[1;32m     11\u001b[0m )\n\u001b[1;32m     12\u001b[0m \u001b[0;34m\u001b[0m\u001b[0m\n\u001b[0;32m---> 13\u001b[0;31m model.load_state_dict(\n\u001b[0m\u001b[1;32m     14\u001b[0m     \u001b[0mtorch\u001b[0m\u001b[0;34m.\u001b[0m\u001b[0mload\u001b[0m\u001b[0;34m(\u001b[0m\u001b[0;34m\"schnet_all.pt\"\u001b[0m\u001b[0;34m,\u001b[0m \u001b[0mmap_location\u001b[0m\u001b[0;34m=\u001b[0m\u001b[0mdevice\u001b[0m\u001b[0;34m)\u001b[0m\u001b[0;34m[\u001b[0m\u001b[0;34m\"state_dict\"\u001b[0m\u001b[0;34m]\u001b[0m\u001b[0;34m\u001b[0m\u001b[0;34m\u001b[0m\u001b[0m\n\u001b[1;32m     15\u001b[0m )\n",
            "\u001b[0;32m/usr/local/lib/python3.10/dist-packages/torch/nn/modules/module.py\u001b[0m in \u001b[0;36mload_state_dict\u001b[0;34m(self, state_dict, strict)\u001b[0m\n\u001b[1;32m   2039\u001b[0m \u001b[0;34m\u001b[0m\u001b[0m\n\u001b[1;32m   2040\u001b[0m         \u001b[0;32mif\u001b[0m \u001b[0mlen\u001b[0m\u001b[0;34m(\u001b[0m\u001b[0merror_msgs\u001b[0m\u001b[0;34m)\u001b[0m \u001b[0;34m>\u001b[0m \u001b[0;36m0\u001b[0m\u001b[0;34m:\u001b[0m\u001b[0;34m\u001b[0m\u001b[0;34m\u001b[0m\u001b[0m\n\u001b[0;32m-> 2041\u001b[0;31m             raise RuntimeError('Error(s) in loading state_dict for {}:\\n\\t{}'.format(\n\u001b[0m\u001b[1;32m   2042\u001b[0m                                self.__class__.__name__, \"\\n\\t\".join(error_msgs)))\n\u001b[1;32m   2043\u001b[0m         \u001b[0;32mreturn\u001b[0m \u001b[0m_IncompatibleKeys\u001b[0m\u001b[0;34m(\u001b[0m\u001b[0mmissing_keys\u001b[0m\u001b[0;34m,\u001b[0m \u001b[0munexpected_keys\u001b[0m\u001b[0;34m)\u001b[0m\u001b[0;34m\u001b[0m\u001b[0;34m\u001b[0m\u001b[0m\n",
            "\u001b[0;31mRuntimeError\u001b[0m: Error(s) in loading state_dict for SchNetWrap:\n\tMissing key(s) in state_dict: \"embedding.weight\", \"distance_expansion.offset\", \"interactions.0.mlp.0.weight\", \"interactions.0.mlp.0.bias\", \"interactions.0.mlp.2.weight\", \"interactions.0.mlp.2.bias\", \"interactions.0.conv.lin1.weight\", \"interactions.0.conv.lin2.weight\", \"interactions.0.conv.lin2.bias\", \"interactions.0.conv.nn.0.weight\", \"interactions.0.conv.nn.0.bias\", \"interactions.0.conv.nn.2.weight\", \"interactions.0.conv.nn.2.bias\", \"interactions.0.lin.weight\", \"interactions.0.lin.bias\", \"interactions.1.mlp.0.weight\", \"interactions.1.mlp.0.bias\", \"interactions.1.mlp.2.weight\", \"interactions.1.mlp.2.bias\", \"interactions.1.conv.lin1.weight\", \"interactions.1.conv.lin2.weight\", \"interactions.1.conv.lin2.bias\", \"interactions.1.conv.nn.0.weight\", \"interactions.1.conv.nn.0.bias\", \"interactions.1.conv.nn.2.weight\", \"interactions.1.conv.nn.2.bias\", \"interactions.1.lin.weight\", \"interactions.1.lin.bias\", \"interactions.2.mlp.0.weight\", \"interactions.2.mlp.0.bias\", \"interactions.2.mlp.2.weight\", \"interactions.2.mlp.2.bias\", \"interactions.2.conv.lin1.weight\", \"interactions.2.conv.lin2.weight\", \"interactions.2.conv.lin2.bias\", \"interactions.2.conv.nn.0.weight\", \"interactions.2.conv.nn.0.bias\", \"interactions.2.conv.nn.2.weight\", \"interactions.2.conv.nn.2.bias\", \"interactions.2.lin.weight\", \"interactions.2.lin.bias\", \"interactions.3.mlp.0.weight\", \"interactions.3.mlp.0.bias\", \"interactions.3.mlp.2.weight\", \"interactions.3.mlp.2.bias\", \"interactions.3.conv.lin1.weight\", \"interactions.3.c...\n\tUnexpected key(s) in state_dict: \"module.module.embedding.weight\", \"module.module.distance_expansion.offset\", \"module.module.interactions.0.mlp.0.weight\", \"module.module.interactions.0.mlp.0.bias\", \"module.module.interactions.0.mlp.2.weight\", \"module.module.interactions.0.mlp.2.bias\", \"module.module.interactions.0.conv.lin1.weight\", \"module.module.interactions.0.conv.lin2.weight\", \"module.module.interactions.0.conv.lin2.bias\", \"module.module.interactions.0.conv.nn.0.weight\", \"module.module.interactions.0.conv.nn.0.bias\", \"module.module.interactions.0.conv.nn.2.weight\", \"module.module.interactions.0.conv.nn.2.bias\", \"module.module.interactions.0.lin.weight\", \"module.module.interactions.0.lin.bias\", \"module.module.interactions.1.mlp.0.weight\", \"module.module.interactions.1.mlp.0.bias\", \"module.module.interactions.1.mlp.2.weight\", \"module.module.interactions.1.mlp.2.bias\", \"module.module.interactions.1.conv.lin1.weight\", \"module.module.interactions.1.conv.lin2.weight\", \"module.module.interactions.1.conv.lin2.bias\", \"module.module.interactions.1.conv.nn.0.weight\", \"module.module.interactions.1.conv.nn.0.bias\", \"module.module.interactions.1.conv.nn.2.weight\", \"module.module.interactions.1.conv.nn.2.bias\", \"module.module.interactions.1.lin.weight\", \"module.module.interactions.1.lin.bias\", \"module.module.interactions.2.mlp.0.weight\", \"module.module.interactions.2.mlp.0.bias\", \"module.module.interactions.2.mlp.2.weight\", \"module.module.interactions.2.mlp.2.bias\", \"module.module.i..."
          ]
        }
      ]
    },
    {
      "cell_type": "code",
      "source": [],
      "metadata": {
        "id": "-eTDmQ49h7oK"
      },
      "execution_count": null,
      "outputs": []
    }
  ]
}