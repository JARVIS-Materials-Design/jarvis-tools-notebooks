{
  "nbformat": 4,
  "nbformat_minor": 0,
  "metadata": {
    "colab": {
      "provenance": [],
      "authorship_tag": "ABX9TyN67rgh8uYnoQrJ6bJnts4A",
      "include_colab_link": true
    },
    "kernelspec": {
      "name": "python3",
      "display_name": "Python 3"
    },
    "language_info": {
      "name": "python"
    }
  },
  "cells": [
    {
      "cell_type": "markdown",
      "metadata": {
        "id": "view-in-github",
        "colab_type": "text"
      },
      "source": [
        "<a href=\"https://colab.research.google.com/github/knc6/jarvis-tools-notebooks/blob/master/jarvis-tools-notebooks/ALIGNN_FF_DB_Search.ipynb\" target=\"_parent\"><img src=\"https://colab.research.google.com/assets/colab-badge.svg\" alt=\"Open In Colab\"/></a>"
      ]
    },
    {
      "cell_type": "markdown",
      "source": [
        "# Search if an example system such as AgAu was included in the ALIGNN-FF database during training"
      ],
      "metadata": {
        "id": "clDsze0TSEvn"
      }
    },
    {
      "cell_type": "code",
      "execution_count": 1,
      "metadata": {
        "colab": {
          "base_uri": "https://localhost:8080/"
        },
        "id": "880jM8r4vpv-",
        "outputId": "0e782ad3-95b5-425c-e344-8b52927ce55f"
      },
      "outputs": [
        {
          "output_type": "stream",
          "name": "stdout",
          "text": [
            "Cloning into 'jarvis_leaderboard'...\n",
            "remote: Enumerating objects: 35441, done.\u001b[K\n",
            "remote: Counting objects: 100% (4241/4241), done.\u001b[K\n",
            "remote: Compressing objects: 100% (586/586), done.\u001b[K\n",
            "remote: Total 35441 (delta 2148), reused 3979 (delta 2014), pack-reused 31200\u001b[K\n",
            "Receiving objects: 100% (35441/35441), 280.03 MiB | 29.17 MiB/s, done.\n",
            "Resolving deltas: 100% (18316/18316), done.\n",
            "Looking in indexes: https://pypi.org/simple, https://us-python.pkg.dev/colab-wheels/public/simple/\n",
            "Obtaining file:///content/jarvis_leaderboard\n",
            "  Preparing metadata (setup.py) ... \u001b[?25l\u001b[?25hdone\n",
            "Requirement already satisfied: numpy>=1.19.5 in /usr/local/lib/python3.10/dist-packages (from jarvis-leaderboard==2023.5.13) (1.22.4)\n",
            "Requirement already satisfied: scipy>=1.6.3 in /usr/local/lib/python3.10/dist-packages (from jarvis-leaderboard==2023.5.13) (1.10.1)\n",
            "Collecting jarvis-tools>=2021.07.19 (from jarvis-leaderboard==2023.5.13)\n",
            "  Downloading jarvis_tools-2023.5.26-py2.py3-none-any.whl (974 kB)\n",
            "\u001b[2K     \u001b[90m━━━━━━━━━━━━━━━━━━━━━━━━━━━━━━━━━━━━━━\u001b[0m \u001b[32m974.6/974.6 kB\u001b[0m \u001b[31m39.3 MB/s\u001b[0m eta \u001b[36m0:00:00\u001b[0m\n",
            "\u001b[?25hRequirement already satisfied: scikit-learn>=0.24.1 in /usr/local/lib/python3.10/dist-packages (from jarvis-leaderboard==2023.5.13) (1.2.2)\n",
            "Requirement already satisfied: pandas>=1.2.4 in /usr/local/lib/python3.10/dist-packages (from jarvis-leaderboard==2023.5.13) (1.5.3)\n",
            "Collecting mkdocs-material>=9.0.5 (from jarvis-leaderboard==2023.5.13)\n",
            "  Downloading mkdocs_material-9.1.15-py3-none-any.whl (7.8 MB)\n",
            "\u001b[2K     \u001b[90m━━━━━━━━━━━━━━━━━━━━━━━━━━━━━━━━━━━━━━━━\u001b[0m \u001b[32m7.8/7.8 MB\u001b[0m \u001b[31m103.6 MB/s\u001b[0m eta \u001b[36m0:00:00\u001b[0m\n",
            "\u001b[?25hRequirement already satisfied: pydantic>=1.8.1 in /usr/local/lib/python3.10/dist-packages (from jarvis-leaderboard==2023.5.13) (1.10.7)\n",
            "Collecting markdown==3.2.1 (from jarvis-leaderboard==2023.5.13)\n",
            "  Downloading Markdown-3.2.1-py2.py3-none-any.whl (88 kB)\n",
            "\u001b[2K     \u001b[90m━━━━━━━━━━━━━━━━━━━━━━━━━━━━━━━━━━━━━━━━\u001b[0m \u001b[32m88.8/88.8 kB\u001b[0m \u001b[31m9.8 MB/s\u001b[0m eta \u001b[36m0:00:00\u001b[0m\n",
            "\u001b[?25hRequirement already satisfied: absl-py==1.4.0 in /usr/local/lib/python3.10/dist-packages (from jarvis-leaderboard==2023.5.13) (1.4.0)\n",
            "Collecting evaluate==0.4.0 (from jarvis-leaderboard==2023.5.13)\n",
            "  Downloading evaluate-0.4.0-py3-none-any.whl (81 kB)\n",
            "\u001b[2K     \u001b[90m━━━━━━━━━━━━━━━━━━━━━━━━━━━━━━━━━━━━━━━━\u001b[0m \u001b[32m81.4/81.4 kB\u001b[0m \u001b[31m9.9 MB/s\u001b[0m eta \u001b[36m0:00:00\u001b[0m\n",
            "\u001b[?25hRequirement already satisfied: nltk==3.8.1 in /usr/local/lib/python3.10/dist-packages (from jarvis-leaderboard==2023.5.13) (3.8.1)\n",
            "Collecting rouge-score==0.1.2 (from jarvis-leaderboard==2023.5.13)\n",
            "  Downloading rouge_score-0.1.2.tar.gz (17 kB)\n",
            "  Preparing metadata (setup.py) ... \u001b[?25l\u001b[?25hdone\n",
            "Collecting datasets>=2.0.0 (from evaluate==0.4.0->jarvis-leaderboard==2023.5.13)\n",
            "  Downloading datasets-2.12.0-py3-none-any.whl (474 kB)\n",
            "\u001b[2K     \u001b[90m━━━━━━━━━━━━━━━━━━━━━━━━━━━━━━━━━━━━━━\u001b[0m \u001b[32m474.6/474.6 kB\u001b[0m \u001b[31m43.8 MB/s\u001b[0m eta \u001b[36m0:00:00\u001b[0m\n",
            "\u001b[?25hCollecting dill (from evaluate==0.4.0->jarvis-leaderboard==2023.5.13)\n",
            "  Downloading dill-0.3.6-py3-none-any.whl (110 kB)\n",
            "\u001b[2K     \u001b[90m━━━━━━━━━━━━━━━━━━━━━━━━━━━━━━━━━━━━━━\u001b[0m \u001b[32m110.5/110.5 kB\u001b[0m \u001b[31m12.6 MB/s\u001b[0m eta \u001b[36m0:00:00\u001b[0m\n",
            "\u001b[?25hRequirement already satisfied: requests>=2.19.0 in /usr/local/lib/python3.10/dist-packages (from evaluate==0.4.0->jarvis-leaderboard==2023.5.13) (2.27.1)\n",
            "Requirement already satisfied: tqdm>=4.62.1 in /usr/local/lib/python3.10/dist-packages (from evaluate==0.4.0->jarvis-leaderboard==2023.5.13) (4.65.0)\n",
            "Collecting xxhash (from evaluate==0.4.0->jarvis-leaderboard==2023.5.13)\n",
            "  Downloading xxhash-3.2.0-cp310-cp310-manylinux_2_17_x86_64.manylinux2014_x86_64.whl (212 kB)\n",
            "\u001b[2K     \u001b[90m━━━━━━━━━━━━━━━━━━━━━━━━━━━━━━━━━━━━━━\u001b[0m \u001b[32m212.5/212.5 kB\u001b[0m \u001b[31m22.0 MB/s\u001b[0m eta \u001b[36m0:00:00\u001b[0m\n",
            "\u001b[?25hCollecting multiprocess (from evaluate==0.4.0->jarvis-leaderboard==2023.5.13)\n",
            "  Downloading multiprocess-0.70.14-py310-none-any.whl (134 kB)\n",
            "\u001b[2K     \u001b[90m━━━━━━━━━━━━━━━━━━━━━━━━━━━━━━━━━━━━━━━\u001b[0m \u001b[32m134.3/134.3 kB\u001b[0m \u001b[31m9.9 MB/s\u001b[0m eta \u001b[36m0:00:00\u001b[0m\n",
            "\u001b[?25hRequirement already satisfied: fsspec[http]>=2021.05.0 in /usr/local/lib/python3.10/dist-packages (from evaluate==0.4.0->jarvis-leaderboard==2023.5.13) (2023.4.0)\n",
            "Collecting huggingface-hub>=0.7.0 (from evaluate==0.4.0->jarvis-leaderboard==2023.5.13)\n",
            "  Downloading huggingface_hub-0.15.1-py3-none-any.whl (236 kB)\n",
            "\u001b[2K     \u001b[90m━━━━━━━━━━━━━━━━━━━━━━━━━━━━━━━━━━━━━━\u001b[0m \u001b[32m236.8/236.8 kB\u001b[0m \u001b[31m24.9 MB/s\u001b[0m eta \u001b[36m0:00:00\u001b[0m\n",
            "\u001b[?25hRequirement already satisfied: packaging in /usr/local/lib/python3.10/dist-packages (from evaluate==0.4.0->jarvis-leaderboard==2023.5.13) (23.1)\n",
            "Collecting responses<0.19 (from evaluate==0.4.0->jarvis-leaderboard==2023.5.13)\n",
            "  Downloading responses-0.18.0-py3-none-any.whl (38 kB)\n",
            "Requirement already satisfied: setuptools>=36 in /usr/local/lib/python3.10/dist-packages (from markdown==3.2.1->jarvis-leaderboard==2023.5.13) (67.7.2)\n",
            "Requirement already satisfied: click in /usr/local/lib/python3.10/dist-packages (from nltk==3.8.1->jarvis-leaderboard==2023.5.13) (8.1.3)\n",
            "Requirement already satisfied: joblib in /usr/local/lib/python3.10/dist-packages (from nltk==3.8.1->jarvis-leaderboard==2023.5.13) (1.2.0)\n",
            "Requirement already satisfied: regex>=2021.8.3 in /usr/local/lib/python3.10/dist-packages (from nltk==3.8.1->jarvis-leaderboard==2023.5.13) (2022.10.31)\n",
            "Requirement already satisfied: six>=1.14.0 in /usr/local/lib/python3.10/dist-packages (from rouge-score==0.1.2->jarvis-leaderboard==2023.5.13) (1.16.0)\n",
            "Requirement already satisfied: matplotlib>=3.0.0 in /usr/local/lib/python3.10/dist-packages (from jarvis-tools>=2021.07.19->jarvis-leaderboard==2023.5.13) (3.7.1)\n",
            "Collecting spglib>=1.14.1 (from jarvis-tools>=2021.07.19->jarvis-leaderboard==2023.5.13)\n",
            "  Downloading spglib-2.0.2-cp310-cp310-manylinux_2_17_x86_64.manylinux2014_x86_64.whl (515 kB)\n",
            "\u001b[2K     \u001b[90m━━━━━━━━━━━━━━━━━━━━━━━━━━━━━━━━━━━━━━\u001b[0m \u001b[32m515.3/515.3 kB\u001b[0m \u001b[31m40.8 MB/s\u001b[0m eta \u001b[36m0:00:00\u001b[0m\n",
            "\u001b[?25hRequirement already satisfied: toolz>=0.9.0 in /usr/local/lib/python3.10/dist-packages (from jarvis-tools>=2021.07.19->jarvis-leaderboard==2023.5.13) (0.12.0)\n",
            "Collecting xmltodict>=0.11.0 (from jarvis-tools>=2021.07.19->jarvis-leaderboard==2023.5.13)\n",
            "  Downloading xmltodict-0.13.0-py2.py3-none-any.whl (10.0 kB)\n",
            "Collecting colorama>=0.4 (from mkdocs-material>=9.0.5->jarvis-leaderboard==2023.5.13)\n",
            "  Downloading colorama-0.4.6-py2.py3-none-any.whl (25 kB)\n",
            "Requirement already satisfied: jinja2>=3.0 in /usr/local/lib/python3.10/dist-packages (from mkdocs-material>=9.0.5->jarvis-leaderboard==2023.5.13) (3.1.2)\n",
            "Collecting mkdocs-material-extensions>=1.1 (from mkdocs-material>=9.0.5->jarvis-leaderboard==2023.5.13)\n",
            "  Downloading mkdocs_material_extensions-1.1.1-py3-none-any.whl (7.9 kB)\n",
            "Collecting mkdocs>=1.4.2 (from mkdocs-material>=9.0.5->jarvis-leaderboard==2023.5.13)\n",
            "  Downloading mkdocs-1.4.3-py3-none-any.whl (3.7 MB)\n",
            "\u001b[2K     \u001b[90m━━━━━━━━━━━━━━━━━━━━━━━━━━━━━━━━━━━━━━━━\u001b[0m \u001b[32m3.7/3.7 MB\u001b[0m \u001b[31m61.7 MB/s\u001b[0m eta \u001b[36m0:00:00\u001b[0m\n",
            "\u001b[?25hRequirement already satisfied: pygments>=2.14 in /usr/local/lib/python3.10/dist-packages (from mkdocs-material>=9.0.5->jarvis-leaderboard==2023.5.13) (2.14.0)\n",
            "Collecting pymdown-extensions>=9.9.1 (from mkdocs-material>=9.0.5->jarvis-leaderboard==2023.5.13)\n",
            "  Downloading pymdown_extensions-10.0.1-py3-none-any.whl (240 kB)\n",
            "\u001b[2K     \u001b[90m━━━━━━━━━━━━━━━━━━━━━━━━━━━━━━━━━━━━━━\u001b[0m \u001b[32m240.1/240.1 kB\u001b[0m \u001b[31m23.6 MB/s\u001b[0m eta \u001b[36m0:00:00\u001b[0m\n",
            "\u001b[?25hRequirement already satisfied: python-dateutil>=2.8.1 in /usr/local/lib/python3.10/dist-packages (from pandas>=1.2.4->jarvis-leaderboard==2023.5.13) (2.8.2)\n",
            "Requirement already satisfied: pytz>=2020.1 in /usr/local/lib/python3.10/dist-packages (from pandas>=1.2.4->jarvis-leaderboard==2023.5.13) (2022.7.1)\n",
            "Requirement already satisfied: typing-extensions>=4.2.0 in /usr/local/lib/python3.10/dist-packages (from pydantic>=1.8.1->jarvis-leaderboard==2023.5.13) (4.5.0)\n",
            "Requirement already satisfied: threadpoolctl>=2.0.0 in /usr/local/lib/python3.10/dist-packages (from scikit-learn>=0.24.1->jarvis-leaderboard==2023.5.13) (3.1.0)\n",
            "Requirement already satisfied: pyarrow>=8.0.0 in /usr/local/lib/python3.10/dist-packages (from datasets>=2.0.0->evaluate==0.4.0->jarvis-leaderboard==2023.5.13) (9.0.0)\n",
            "Collecting aiohttp (from datasets>=2.0.0->evaluate==0.4.0->jarvis-leaderboard==2023.5.13)\n",
            "  Downloading aiohttp-3.8.4-cp310-cp310-manylinux_2_17_x86_64.manylinux2014_x86_64.whl (1.0 MB)\n",
            "\u001b[2K     \u001b[90m━━━━━━━━━━━━━━━━━━━━━━━━━━━━━━━━━━━━━━━━\u001b[0m \u001b[32m1.0/1.0 MB\u001b[0m \u001b[31m62.2 MB/s\u001b[0m eta \u001b[36m0:00:00\u001b[0m\n",
            "\u001b[?25hRequirement already satisfied: pyyaml>=5.1 in /usr/local/lib/python3.10/dist-packages (from datasets>=2.0.0->evaluate==0.4.0->jarvis-leaderboard==2023.5.13) (6.0)\n",
            "Requirement already satisfied: filelock in /usr/local/lib/python3.10/dist-packages (from huggingface-hub>=0.7.0->evaluate==0.4.0->jarvis-leaderboard==2023.5.13) (3.12.0)\n",
            "Requirement already satisfied: MarkupSafe>=2.0 in /usr/local/lib/python3.10/dist-packages (from jinja2>=3.0->mkdocs-material>=9.0.5->jarvis-leaderboard==2023.5.13) (2.1.2)\n",
            "Requirement already satisfied: contourpy>=1.0.1 in /usr/local/lib/python3.10/dist-packages (from matplotlib>=3.0.0->jarvis-tools>=2021.07.19->jarvis-leaderboard==2023.5.13) (1.0.7)\n",
            "Requirement already satisfied: cycler>=0.10 in /usr/local/lib/python3.10/dist-packages (from matplotlib>=3.0.0->jarvis-tools>=2021.07.19->jarvis-leaderboard==2023.5.13) (0.11.0)\n",
            "Requirement already satisfied: fonttools>=4.22.0 in /usr/local/lib/python3.10/dist-packages (from matplotlib>=3.0.0->jarvis-tools>=2021.07.19->jarvis-leaderboard==2023.5.13) (4.39.3)\n",
            "Requirement already satisfied: kiwisolver>=1.0.1 in /usr/local/lib/python3.10/dist-packages (from matplotlib>=3.0.0->jarvis-tools>=2021.07.19->jarvis-leaderboard==2023.5.13) (1.4.4)\n",
            "Requirement already satisfied: pillow>=6.2.0 in /usr/local/lib/python3.10/dist-packages (from matplotlib>=3.0.0->jarvis-tools>=2021.07.19->jarvis-leaderboard==2023.5.13) (8.4.0)\n",
            "Requirement already satisfied: pyparsing>=2.3.1 in /usr/local/lib/python3.10/dist-packages (from matplotlib>=3.0.0->jarvis-tools>=2021.07.19->jarvis-leaderboard==2023.5.13) (3.0.9)\n",
            "Collecting ghp-import>=1.0 (from mkdocs>=1.4.2->mkdocs-material>=9.0.5->jarvis-leaderboard==2023.5.13)\n",
            "  Downloading ghp_import-2.1.0-py3-none-any.whl (11 kB)\n",
            "Collecting mergedeep>=1.3.4 (from mkdocs>=1.4.2->mkdocs-material>=9.0.5->jarvis-leaderboard==2023.5.13)\n",
            "  Downloading mergedeep-1.3.4-py3-none-any.whl (6.4 kB)\n",
            "Collecting pyyaml-env-tag>=0.1 (from mkdocs>=1.4.2->mkdocs-material>=9.0.5->jarvis-leaderboard==2023.5.13)\n",
            "  Downloading pyyaml_env_tag-0.1-py3-none-any.whl (3.9 kB)\n",
            "Collecting watchdog>=2.0 (from mkdocs>=1.4.2->mkdocs-material>=9.0.5->jarvis-leaderboard==2023.5.13)\n",
            "  Downloading watchdog-3.0.0-py3-none-manylinux2014_x86_64.whl (82 kB)\n",
            "\u001b[2K     \u001b[90m━━━━━━━━━━━━━━━━━━━━━━━━━━━━━━━━━━━━━━━━\u001b[0m \u001b[32m82.1/82.1 kB\u001b[0m \u001b[31m7.3 MB/s\u001b[0m eta \u001b[36m0:00:00\u001b[0m\n",
            "\u001b[?25hRequirement already satisfied: urllib3<1.27,>=1.21.1 in /usr/local/lib/python3.10/dist-packages (from requests>=2.19.0->evaluate==0.4.0->jarvis-leaderboard==2023.5.13) (1.26.15)\n",
            "Requirement already satisfied: certifi>=2017.4.17 in /usr/local/lib/python3.10/dist-packages (from requests>=2.19.0->evaluate==0.4.0->jarvis-leaderboard==2023.5.13) (2022.12.7)\n",
            "Requirement already satisfied: charset-normalizer~=2.0.0 in /usr/local/lib/python3.10/dist-packages (from requests>=2.19.0->evaluate==0.4.0->jarvis-leaderboard==2023.5.13) (2.0.12)\n",
            "Requirement already satisfied: idna<4,>=2.5 in /usr/local/lib/python3.10/dist-packages (from requests>=2.19.0->evaluate==0.4.0->jarvis-leaderboard==2023.5.13) (3.4)\n",
            "Requirement already satisfied: attrs>=17.3.0 in /usr/local/lib/python3.10/dist-packages (from aiohttp->datasets>=2.0.0->evaluate==0.4.0->jarvis-leaderboard==2023.5.13) (23.1.0)\n",
            "Collecting multidict<7.0,>=4.5 (from aiohttp->datasets>=2.0.0->evaluate==0.4.0->jarvis-leaderboard==2023.5.13)\n",
            "  Downloading multidict-6.0.4-cp310-cp310-manylinux_2_17_x86_64.manylinux2014_x86_64.whl (114 kB)\n",
            "\u001b[2K     \u001b[90m━━━━━━━━━━━━━━━━━━━━━━━━━━━━━━━━━━━━━━\u001b[0m \u001b[32m114.5/114.5 kB\u001b[0m \u001b[31m12.1 MB/s\u001b[0m eta \u001b[36m0:00:00\u001b[0m\n",
            "\u001b[?25hCollecting async-timeout<5.0,>=4.0.0a3 (from aiohttp->datasets>=2.0.0->evaluate==0.4.0->jarvis-leaderboard==2023.5.13)\n",
            "  Downloading async_timeout-4.0.2-py3-none-any.whl (5.8 kB)\n",
            "Collecting yarl<2.0,>=1.0 (from aiohttp->datasets>=2.0.0->evaluate==0.4.0->jarvis-leaderboard==2023.5.13)\n",
            "  Downloading yarl-1.9.2-cp310-cp310-manylinux_2_17_x86_64.manylinux2014_x86_64.whl (268 kB)\n",
            "\u001b[2K     \u001b[90m━━━━━━━━━━━━━━━━━━━━━━━━━━━━━━━━━━━━━━\u001b[0m \u001b[32m268.8/268.8 kB\u001b[0m \u001b[31m20.0 MB/s\u001b[0m eta \u001b[36m0:00:00\u001b[0m\n",
            "\u001b[?25hCollecting frozenlist>=1.1.1 (from aiohttp->datasets>=2.0.0->evaluate==0.4.0->jarvis-leaderboard==2023.5.13)\n",
            "  Downloading frozenlist-1.3.3-cp310-cp310-manylinux_2_5_x86_64.manylinux1_x86_64.manylinux_2_17_x86_64.manylinux2014_x86_64.whl (149 kB)\n",
            "\u001b[2K     \u001b[90m━━━━━━━━━━━━━━━━━━━━━━━━━━━━━━━━━━━━━━\u001b[0m \u001b[32m149.6/149.6 kB\u001b[0m \u001b[31m14.6 MB/s\u001b[0m eta \u001b[36m0:00:00\u001b[0m\n",
            "\u001b[?25hCollecting aiosignal>=1.1.2 (from aiohttp->datasets>=2.0.0->evaluate==0.4.0->jarvis-leaderboard==2023.5.13)\n",
            "  Downloading aiosignal-1.3.1-py3-none-any.whl (7.6 kB)\n",
            "Building wheels for collected packages: rouge-score\n",
            "  Building wheel for rouge-score (setup.py) ... \u001b[?25l\u001b[?25hdone\n",
            "  Created wheel for rouge-score: filename=rouge_score-0.1.2-py3-none-any.whl size=24934 sha256=67947cb9716aa56cdd40f36b38c600537a015bde42f68b13750c861db773429c\n",
            "  Stored in directory: /root/.cache/pip/wheels/5f/dd/89/461065a73be61a532ff8599a28e9beef17985c9e9c31e541b4\n",
            "Successfully built rouge-score\n",
            "Installing collected packages: xxhash, xmltodict, watchdog, spglib, pyyaml-env-tag, multidict, mkdocs-material-extensions, mergedeep, markdown, frozenlist, dill, colorama, async-timeout, yarl, rouge-score, responses, pymdown-extensions, multiprocess, huggingface-hub, ghp-import, aiosignal, mkdocs, jarvis-tools, aiohttp, mkdocs-material, datasets, evaluate, jarvis-leaderboard\n",
            "  Attempting uninstall: markdown\n",
            "    Found existing installation: Markdown 3.4.3\n",
            "    Uninstalling Markdown-3.4.3:\n",
            "      Successfully uninstalled Markdown-3.4.3\n",
            "  Running setup.py develop for jarvis-leaderboard\n",
            "Successfully installed aiohttp-3.8.4 aiosignal-1.3.1 async-timeout-4.0.2 colorama-0.4.6 datasets-2.12.0 dill-0.3.6 evaluate-0.4.0 frozenlist-1.3.3 ghp-import-2.1.0 huggingface-hub-0.15.1 jarvis-leaderboard-2023.5.13 jarvis-tools-2023.5.26 markdown-3.2.1 mergedeep-1.3.4 mkdocs-1.4.3 mkdocs-material-9.1.15 mkdocs-material-extensions-1.1.1 multidict-6.0.4 multiprocess-0.70.14 pymdown-extensions-10.0.1 pyyaml-env-tag-0.1 responses-0.18.0 rouge-score-0.1.2 spglib-2.0.2 watchdog-3.0.0 xmltodict-0.13.0 xxhash-3.2.0 yarl-1.9.2\n"
          ]
        }
      ],
      "source": [
        "import os\n",
        "if not os.path.exists('jarvis_leaderboard'):\n",
        "  !git clone https://github.com/usnistgov/jarvis_leaderboard.git\n",
        "os.chdir('jarvis_leaderboard')\n",
        "!pip install -e ."
      ]
    },
    {
      "cell_type": "code",
      "source": [
        "from jarvis_leaderboard.rebuild import get_metric_value,get_results"
      ],
      "metadata": {
        "id": "ZgxELeKVwLKg"
      },
      "execution_count": 2,
      "outputs": []
    },
    {
      "cell_type": "code",
      "source": [
        "!ls jarvis_leaderboard/contributions/alignnff_wt10/AI-MLFF-energy-alignn_ff_db-test-mae.csv.zip"
      ],
      "metadata": {
        "colab": {
          "base_uri": "https://localhost:8080/"
        },
        "id": "G7XN0c5OOPOb",
        "outputId": "c92738d9-b6aa-488d-a2e1-a1172745bdf0"
      },
      "execution_count": 3,
      "outputs": [
        {
          "output_type": "stream",
          "name": "stdout",
          "text": [
            "jarvis_leaderboard/contributions/alignnff_wt10/AI-MLFF-energy-alignn_ff_db-test-mae.csv.zip\n"
          ]
        }
      ]
    },
    {
      "cell_type": "code",
      "source": [
        "res = get_metric_value(csv_path='jarvis_leaderboard/contributions/alignnff_wt10/AI-MLFF-energy-alignn_ff_db-test-mae.csv.zip')"
      ],
      "metadata": {
        "id": "gCrMUdTvOD-W"
      },
      "execution_count": 4,
      "outputs": []
    },
    {
      "cell_type": "code",
      "source": [
        "res"
      ],
      "metadata": {
        "colab": {
          "base_uri": "https://localhost:8080/"
        },
        "id": "Dr7mysBzOZUt",
        "outputId": "c6fccfe7-1e61-49e8-847c-6e780487c9b1"
      },
      "execution_count": 5,
      "outputs": [
        {
          "output_type": "execute_result",
          "data": {
            "text/plain": [
              "{'category': 'AI',\n",
              " 'subcat': 'MLFF',\n",
              " 'dataset': 'alignn_ff_db',\n",
              " 'prop': 'energy',\n",
              " 'data_split': 'test',\n",
              " 'csv_path': 'jarvis_leaderboard/contributions/alignnff_wt10/AI-MLFF-energy-alignn_ff_db-test-mae.csv.zip',\n",
              " 'metric': 'mae',\n",
              " 'model_name': 'ALIGNN',\n",
              " 'team_name': 'JARVIS',\n",
              " 'date_submitted': '01-14-2023',\n",
              " 'project_url': 'https://pubs.rsc.org/en/content/articlehtml/2023/dd/d2dd00096b',\n",
              " 'num_entries': 15355,\n",
              " 'github_url': 'https://github.com/usnistgov/jarvis_leaderboard/tree/main/jarvis_leaderboard/contributions/alignnff_wt10',\n",
              " 'dataset_size': 307111,\n",
              " 'res': 0.097,\n",
              " 'df':                          id    target  prediction    actual\n",
              " 0      JVASP-140261_main-15 -2.689496   -2.718657 -2.689496\n",
              " 1       JVASP-25777_main-40 -6.915743   -6.846940 -6.915743\n",
              " 2      JVASP-140580_main-58 -3.717568   -3.731820 -3.717568\n",
              " 3       JVASP-116078_main-0 -1.254895   -0.931186 -1.254895\n",
              " 4       JVASP-115570_main-0 -2.414957   -2.456279 -2.414957\n",
              " ...                     ...       ...         ...       ...\n",
              " 15350  JVASP-134785_elast-0 -1.494438   -1.326966 -1.494438\n",
              " 15351    JVASP-37120_main-8 -3.065365   -3.026972 -3.065365\n",
              " 15352   JVASP-128734_main-0 -4.555938   -4.764777 -4.555938\n",
              " 15353   JVASP-86073_main-32 -2.441737   -2.450704 -2.441737\n",
              " 15354    JVASP-97832_main-0 -5.481254   -5.568823 -5.481254\n",
              " \n",
              " [15355 rows x 4 columns],\n",
              " 'random_guessing_performance': 1.7999818762288833}"
            ]
          },
          "metadata": {},
          "execution_count": 5
        }
      ]
    },
    {
      "cell_type": "code",
      "source": [
        "from jarvis.db.figshare import data\n",
        "\n",
        "alignn_ff_db = data('alignn_ff_db')"
      ],
      "metadata": {
        "colab": {
          "base_uri": "https://localhost:8080/"
        },
        "id": "uGtvOOMAObe8",
        "outputId": "91394837-7b38-418a-db47-e016e2b47de6"
      },
      "execution_count": 6,
      "outputs": [
        {
          "output_type": "stream",
          "name": "stdout",
          "text": [
            "Obtaining ALIGNN-FF training DB 300k ...\n",
            "Reference:https://arxiv.org/abs/2209.05554\n"
          ]
        },
        {
          "output_type": "stream",
          "name": "stderr",
          "text": [
            "100%|██████████| 72.5M/72.5M [00:03<00:00, 23.2MiB/s]\n"
          ]
        },
        {
          "output_type": "stream",
          "name": "stdout",
          "text": [
            "Loading the zipfile...\n",
            "Loading completed.\n"
          ]
        }
      ]
    },
    {
      "cell_type": "code",
      "source": [
        "import pandas as pd\n",
        "df = pd.DataFrame(alignn_ff_db)"
      ],
      "metadata": {
        "id": "OZh7OpMSOu1K"
      },
      "execution_count": 7,
      "outputs": []
    },
    {
      "cell_type": "code",
      "source": [
        "len(res['df']['id'])"
      ],
      "metadata": {
        "colab": {
          "base_uri": "https://localhost:8080/"
        },
        "id": "xDlvrpCuPIMC",
        "outputId": "34eb5740-5d94-484f-8f7f-286440064f0b"
      },
      "execution_count": 8,
      "outputs": [
        {
          "output_type": "execute_result",
          "data": {
            "text/plain": [
              "15355"
            ]
          },
          "metadata": {},
          "execution_count": 8
        }
      ]
    },
    {
      "cell_type": "code",
      "source": [
        "import zipfile\n",
        "import json\n",
        "json_zip = 'jarvis_leaderboard/benchmarks/AI/MLFF/alignn_ff_db_energy.json.zip'\n",
        "zp = zipfile.ZipFile(json_zip)\n",
        "temp = 'alignn_ff_db_energy.json'\n",
        "train_val_test = json.loads(zp.read(temp))\n"
      ],
      "metadata": {
        "id": "CpU6vfwyPbdf"
      },
      "execution_count": 9,
      "outputs": []
    },
    {
      "cell_type": "code",
      "source": [
        "train_ids = list(train_val_test['train'].keys())"
      ],
      "metadata": {
        "id": "LfgxpMaTP_T_"
      },
      "execution_count": 10,
      "outputs": []
    },
    {
      "cell_type": "code",
      "source": [
        "len(train_ids)"
      ],
      "metadata": {
        "colab": {
          "base_uri": "https://localhost:8080/"
        },
        "id": "rPjzXKbtQPQs",
        "outputId": "11bf9ffe-aecf-4a35-b704-05ac6fcbc8b2"
      },
      "execution_count": 11,
      "outputs": [
        {
          "output_type": "execute_result",
          "data": {
            "text/plain": [
              "276401"
            ]
          },
          "metadata": {},
          "execution_count": 11
        }
      ]
    },
    {
      "cell_type": "markdown",
      "source": [
        "Check all the test split ids exist in the ALIGNN-FF-DB"
      ],
      "metadata": {
        "id": "I4HPtPqVPMOT"
      }
    },
    {
      "cell_type": "code",
      "source": [
        "train_df = df[df['jid'].isin(train_ids)]"
      ],
      "metadata": {
        "id": "iQ-GCrUgO5hz"
      },
      "execution_count": 12,
      "outputs": []
    },
    {
      "cell_type": "code",
      "source": [
        "from tqdm import tqdm\n",
        "tqdm.pandas()\n",
        "from jarvis.core.atoms import Atoms\n",
        "train_df['search_string'] = train_df['atoms'].progress_apply(lambda x:(Atoms.from_dict(x)).composition.search_string)"
      ],
      "metadata": {
        "colab": {
          "base_uri": "https://localhost:8080/"
        },
        "id": "SZb6wZn9Q9Ad",
        "outputId": "e9673419-1c9a-41c2-a55a-3ec3ae6439c9"
      },
      "execution_count": 13,
      "outputs": [
        {
          "output_type": "stream",
          "name": "stderr",
          "text": [
            "100%|██████████| 276401/276401 [00:09<00:00, 28905.76it/s]\n",
            "<ipython-input-13-af85d142d279>:4: SettingWithCopyWarning: \n",
            "A value is trying to be set on a copy of a slice from a DataFrame.\n",
            "Try using .loc[row_indexer,col_indexer] = value instead\n",
            "\n",
            "See the caveats in the documentation: https://pandas.pydata.org/pandas-docs/stable/user_guide/indexing.html#returning-a-view-versus-a-copy\n",
            "  train_df['search_string'] = train_df['atoms'].progress_apply(lambda x:(Atoms.from_dict(x)).composition.search_string)\n"
          ]
        }
      ]
    },
    {
      "cell_type": "code",
      "source": [
        "from jarvis.core.composition import Composition\n",
        "my_search_string = Composition.from_string('AgAu').search_string\n",
        "filtered_df = train_df[train_df['search_string']==my_search_string]"
      ],
      "metadata": {
        "id": "_rcbRkOrRX_Z"
      },
      "execution_count": 14,
      "outputs": []
    },
    {
      "cell_type": "code",
      "source": [
        "len(filtered_df)"
      ],
      "metadata": {
        "colab": {
          "base_uri": "https://localhost:8080/"
        },
        "id": "VhdgYns1QZf6",
        "outputId": "242a85b5-a044-4b1f-cb14-091ae1c40125"
      },
      "execution_count": 15,
      "outputs": [
        {
          "output_type": "execute_result",
          "data": {
            "text/plain": [
              "56"
            ]
          },
          "metadata": {},
          "execution_count": 15
        }
      ]
    },
    {
      "cell_type": "code",
      "source": [
        "print (filtered_df)"
      ],
      "metadata": {
        "colab": {
          "base_uri": "https://localhost:8080/"
        },
        "id": "rGpmn6bRR3Ou",
        "outputId": "b87bb430-1753-4e9f-afe9-4795fccbf25a"
      },
      "execution_count": 16,
      "outputs": [
        {
          "output_type": "stream",
          "name": "stdout",
          "text": [
            "        total_energy                                             forces  \\\n",
            "38214      -0.378737  [[-0.00143917, 0.00044284, 0.00022077], [0.001...   \n",
            "38215      -0.376824  [[-0.00089992, 0.00026214, 0.00011855], [0.000...   \n",
            "38217      -0.379179  [[0.00025588, -4.576e-05, -5.01e-05], [-0.0001...   \n",
            "129159     -0.384045  [[-0.0, -0.0, 0.0], [-0.0, -0.0, 0.0], [-0.0, ...   \n",
            "129160     -0.380679  [[-0.0, -0.0, 0.0], [-0.0, -0.0, 0.0], [-0.0, ...   \n",
            "129162     -0.385480  [[-0.0, 0.0, 0.0], [-0.0, -0.0, 0.0], [-0.0, 0...   \n",
            "156983      0.084970  [[-0.0, 0.00171141, 0.0], [-0.00148212, -0.000...   \n",
            "156984      0.084960  [[-0.0, 0.00093048, 0.0], [-0.00080582, -0.000...   \n",
            "156985      0.084967  [[-0.0, 0.00147545, 0.0], [-0.00127778, -0.000...   \n",
            "160713      0.082212  [[0.0, 0.0, 0.0], [0.0, 0.0, 0.0], [-0.0, -0.0...   \n",
            "160714      0.079580  [[0.0, 0.0, 0.0], [0.0, 0.0, 0.0], [-0.0, -0.0...   \n",
            "160715      0.079635  [[0.0, 0.0, 0.0], [0.0, 0.0, 0.0], [-0.0, -0.0...   \n",
            "162008     -0.384044  [[0.0, 0.0, 0.0], [0.0, 0.0, 0.0], [0.0, 0.0, ...   \n",
            "162009     -0.380678  [[0.0, 0.0, 0.0], [-0.0, -0.0, 0.0], [-0.0, -0...   \n",
            "162010     -0.385588  [[0.0, 0.0, 0.0], [-0.0, -0.0, 0.0], [-0.0, -0...   \n",
            "162011     -0.385478  [[0.0, 0.0, 0.0], [-0.0, -0.0, 0.0], [-0.0, -0...   \n",
            "175756      0.073127  [[0.0, 0.0, -0.0], [-0.0, -0.0, 0.0], [0.0, 0....   \n",
            "175757      0.070468  [[-0.0, -0.0, 0.0], [0.0, 0.0, -0.0], [-0.0, 0...   \n",
            "179797     -0.161585                [[-0.0, 0.0, 0.0], [0.0, 0.0, 0.0]]   \n",
            "179798     -0.162853              [[0.0, -0.0, 0.0], [-0.0, 0.0, -0.0]]   \n",
            "179799     -0.162934              [[-0.0, -0.0, -0.0], [0.0, 0.0, 0.0]]   \n",
            "179800     -0.130498  [[0.0, 0.0, 0.05040642], [-0.0, -0.0, -0.0], [...   \n",
            "179801     -0.127407  [[0.0, 0.0, 0.0659388], [-0.0, -0.0, 0.0], [-0...   \n",
            "179803     -0.130516  [[-0.0, 0.0, -0.03459835], [-0.0, 0.0, 0.03937...   \n",
            "221745      0.142739  [[0.0, 0.0, 0.0], [-0.0, -0.0, -0.0], [-0.0, -...   \n",
            "221746      0.146811  [[-0.0, -0.0, -0.0], [0.0, 0.0, 0.0], [0.0, 0....   \n",
            "221747      0.142603  [[0.0, 0.00011108, 5.542e-05], [0.0, -0.000111...   \n",
            "221749      2.992886  [[-8.90041814, 0.0, -11.57129543], [8.99637494...   \n",
            "221750      0.511827  [[0.01575269, 0.0, -0.11113687], [-0.07430477,...   \n",
            "221751      0.150076  [[-0.00026223, 0.0, 0.00033307], [-0.00031832,...   \n",
            "221752      1.524303  [[-0.40391507, 0.0, -0.40205008], [-0.40391507...   \n",
            "221753      5.431158  [[3.22691336, 0.0, -22.94748268], [3.22691336,...   \n",
            "221754      0.424819  [[-0.03258771, -0.0, 0.20058196], [-0.03258771...   \n",
            "221755      0.415413  [[5.809e-05, 0.0, -0.00015933], [5.809e-05, -0...   \n",
            "221756      0.419019  [[0.0, 0.0, 0.00362506], [0.0, 0.0, -0.0036250...   \n",
            "221757      0.422978  [[0.0, 0.0, -0.01179321], [0.0, -0.0, 0.011793...   \n",
            "221758      0.418823  [[0.0, -0.0, 0.00390213], [0.0, 0.0, -0.003902...   \n",
            "221759      0.418991  [[0.01115773, 0.0, 0.00365186], [-0.00608748, ...   \n",
            "221760     -0.205137  [[-0.0, 0.0, 0.0], [0.0, 0.0, -0.0], [-0.0, -0...   \n",
            "221761     -0.201937  [[0.0, 0.0, 0.0], [-0.0, -0.02056908, 0.0], [-...   \n",
            "221762     -0.205225  [[0.0, 0.0, 0.0], [-0.0, 0.00010901, 3.384e-05...   \n",
            "221763     -0.205222  [[-0.0, -0.0, 0.0], [0.0, -2.347e-05, 0.0], [-...   \n",
            "221764      1.475773  [[0.25603574, 0.0, 0.04343211], [-0.34637577, ...   \n",
            "221765      5.798069  [[14.36803042, 0.0, 0.7757027], [-18.99379661,...   \n",
            "221766      0.360352  [[-1.08775049, 0.0, 1.0271595], [-0.40876396, ...   \n",
            "221767     -0.216097  [[-0.00095309, 0.0, 0.00183581], [0.00040294, ...   \n",
            "221768      1.294606  [[0.81416114, -0.0, 0.0], [-0.40708057, -0.0, ...   \n",
            "221769      0.071194  [[0.20207831, 0.0, 0.0], [-0.10103915, -0.0, -...   \n",
            "221770      0.040400  [[-0.00040013, 0.0, 0.0], [0.00020007, 0.0, 0....   \n",
            "221771      0.040223  [[0.0, 0.0, 0.0], [-0.0, -0.0, 0.01103321], [0...   \n",
            "221772      0.043938  [[0.0, 0.0, 0.0], [0.0, -0.0, 0.00176823], [-0...   \n",
            "221773      0.040083  [[0.0, 0.0, 0.0], [0.0, 0.0, 0.01091164], [-0....   \n",
            "221774      0.040199  [[0.0097228, 0.0, 0.0], [-0.0048614, 0.0, 0.01...   \n",
            "243391      0.070809  [[0.0, 0.0, 0.0], [0.0, 0.0, 0.0], [0.0, 0.0, ...   \n",
            "243392      0.070523  [[0.0, -0.0, 0.0], [-0.0, 0.0, 0.0], [0.0, 0.0...   \n",
            "249407     -0.400596  [[0.0, 0.0, 0.0], [0.0, 0.0, 0.0], [0.0, 0.0, ...   \n",
            "\n",
            "                                                 stresses  \\\n",
            "38214   [[-19.03751327, 0.41079918, -0.03421011], [0.4...   \n",
            "38215   [[17.39664443, 0.38044287, -0.00341492], [0.38...   \n",
            "38217   [[0.15289112, 0.12181318, -0.02832109], [0.121...   \n",
            "129159  [[-24.48266676, -0.0, 1.175e-05], [-0.0, -24.4...   \n",
            "129160  [[30.14751913, 0.0, -1.406e-05], [0.0, 30.1475...   \n",
            "129162  [[-0.360947, -0.0, 1.8e-07], [-0.0, -0.360947,...   \n",
            "156983  [[0.13593765, -1e-08, 0.0], [-1e-08, 0.1359376...   \n",
            "156984  [[-0.12788678, 1e-08, 0.0], [1e-08, -0.1278867...   \n",
            "156985  [[-0.03101951, 0.0, -0.0], [0.0, -0.03101951, ...   \n",
            "160713  [[19.66569777, 0.0, -0.0], [-0.0, 19.66569777,...   \n",
            "160714  [[-6.86314111, -0.0, -0.0], [0.0, -6.86314111,...   \n",
            "160715  [[-0.24572755, 0.0, 0.0], [-0.0, -0.24572755, ...   \n",
            "162008  [[-24.48755533, 0.0, -0.0], [0.0, -24.48755533...   \n",
            "162009  [[30.14046409, -0.0, 0.0], [-0.0, 30.14046409,...   \n",
            "162010  [[-8.18869397, 0.0, -0.0], [0.0, -8.18869397, ...   \n",
            "162011  [[-0.36696123, 0.0, -0.0], [-0.0, -0.36696123,...   \n",
            "175756  [[-21.89065768, 0.30404999, -0.55026994], [0.3...   \n",
            "175757  [[-0.33613291, 0.31106558, -0.56296677], [0.31...   \n",
            "179797  [[-16.67258039, 0.21993786, 1.1853778], [0.219...   \n",
            "179798  [[-0.72798946, 0.18654581, 1.00542767], [0.186...   \n",
            "179799  [[0.17544836, -0.0275275, -0.14836515], [-0.02...   \n",
            "179800  [[4.48223588, 0.0, 0.0], [0.0, 4.48222541, -0....   \n",
            "179801  [[20.67053759, 0.0, 0.0], [0.0, 20.67048933, -...   \n",
            "179803  [[4.21952453, 0.0, 0.0], [0.0, 4.21951468, 0.0...   \n",
            "221745  [[4.77039665, 0.0, 0.0], [0.0, 4.77042153, -0....   \n",
            "221746  [[1.48578892, 0.0, -0.0], [0.0, 1.48579667, -0...   \n",
            "221747  [[4.70041755, 0.0, 0.0], [0.0, 4.51452677, 1.3...   \n",
            "221749  [[99.40685818, 0.0, -1.13578916], [0.0, -10.62...   \n",
            "221750  [[1.64574157, 0.0, -0.89745068], [0.0, -4.6957...   \n",
            "221751  [[0.93963325, 0.0, -0.32268392], [0.0, 1.18839...   \n",
            "221752  [[-23.17238487, 0.0, 0.0], [0.0, -6.19444572, ...   \n",
            "221753  [[1604.09505788, 0.0, 0.0], [0.0, -24.94724875...   \n",
            "221754  [[16.52273651, 0.0, 0.0], [0.0, -30.43527359, ...   \n",
            "221755  [[-0.19917878, 0.0, 0.0], [0.0, 0.05222593, 0....   \n",
            "221756  [[1.62230471, 0.0, 0.0], [0.0, -2.61675733, 0....   \n",
            "221757  [[35.32444115, 0.0, 0.0], [0.0, 0.33722154, 0....   \n",
            "221758  [[1.42691068, 1.55357193, 0.0], [1.5535717, -2...   \n",
            "221759  [[1.63202183, 0.0, -0.027046], [0.0, -2.621413...   \n",
            "221760  [[2.10659789, 0.0, 0.0], [0.0, 2.10659196, 0.0...   \n",
            "221761  [[19.66425196, 0.0, 0.0], [0.0, 35.38628956, 0...   \n",
            "221762  [[2.03505811, 0.0, 0.0], [0.0, 1.92960982, 1.0...   \n",
            "221763  [[2.14079484, 0.0, 0.97114421], [0.0, 2.119866...   \n",
            "221764  [[-13.19037348, 0.0, -0.69724069], [0.0, -5.76...   \n",
            "221765  [[712.7341038, 0.0, -19.32567287], [0.0, -25.6...   \n",
            "221766  [[225.24900879, 0.0, -92.45707532], [0.0, 35.4...   \n",
            "221767  [[-0.15189619, 0.0, 0.25405098], [0.0, 1.14317...   \n",
            "221768  [[-15.8097646, 0.0, 0.0], [0.0, -6.60767564, 0...   \n",
            "221769  [[-48.91730835, 0.0, 0.0], [0.0, -19.98936272,...   \n",
            "221770  [[-0.02117515, 0.0, 0.0], [0.0, -0.09335736, 0...   \n",
            "221771  [[-0.93098942, -0.0, 0.0], [0.0, 0.10944307, 0...   \n",
            "221772  [[35.57036761, 0.0, 0.0], [0.0, 3.04443896, 0....   \n",
            "221773  [[-1.18709895, -1.25205737, 0.0], [-1.25205791...   \n",
            "221774  [[-0.92312296, 0.0, 0.0], [0.0, 0.0888259, 0.0...   \n",
            "243391  [[7.70295855, 0.0, 0.0], [0.0, 7.70295855, 0.0...   \n",
            "243392  [[0.014046, 0.0, 0.0], [-0.0, 0.014046, 0.0], ...   \n",
            "249407  [[-4.34292554, 0.0, 0.0], [0.0, -4.34292554, 0...   \n",
            "\n",
            "                          jid  \\\n",
            "38214      JVASP-37953_main-0   \n",
            "38215      JVASP-37953_main-1   \n",
            "38217      JVASP-37953_main-9   \n",
            "129159     JVASP-79332_main-0   \n",
            "129160     JVASP-79332_main-1   \n",
            "129162     JVASP-79332_main-3   \n",
            "156983    JVASP-100147_main-0   \n",
            "156984    JVASP-100147_main-1   \n",
            "156985    JVASP-100147_main-4   \n",
            "160713    JVASP-103223_main-1   \n",
            "160714    JVASP-103223_main-2   \n",
            "160715    JVASP-103223_main-3   \n",
            "162008    JVASP-106394_main-0   \n",
            "162009    JVASP-106394_main-1   \n",
            "162010    JVASP-106394_main-2   \n",
            "162011    JVASP-106394_main-3   \n",
            "175756    JVASP-106488_main-0   \n",
            "175757    JVASP-106488_main-6   \n",
            "179797    JVASP-108165_main-0   \n",
            "179798    JVASP-108165_main-5   \n",
            "179799    JVASP-108165_main-7   \n",
            "179800   JVASP-108165_elast-0   \n",
            "179801   JVASP-108165_elast-6   \n",
            "179803  JVASP-108165_elast-15   \n",
            "221745   JVASP-135950_elast-0   \n",
            "221746   JVASP-135950_elast-5   \n",
            "221747   JVASP-135950_elast-9   \n",
            "221749    JVASP-135950_main-0   \n",
            "221750   JVASP-135950_main-80   \n",
            "221751  JVASP-135950_main-151   \n",
            "221752    JVASP-135951_main-0   \n",
            "221753    JVASP-135951_main-3   \n",
            "221754   JVASP-135951_main-55   \n",
            "221755   JVASP-135951_main-82   \n",
            "221756   JVASP-135951_elast-0   \n",
            "221757   JVASP-135951_elast-2   \n",
            "221758   JVASP-135951_elast-7   \n",
            "221759  JVASP-135951_elast-13   \n",
            "221760   JVASP-135952_elast-0   \n",
            "221761   JVASP-135952_elast-4   \n",
            "221762   JVASP-135952_elast-9   \n",
            "221763  JVASP-135952_elast-11   \n",
            "221764    JVASP-135952_main-0   \n",
            "221765    JVASP-135952_main-3   \n",
            "221766   JVASP-135952_main-56   \n",
            "221767   JVASP-135952_main-99   \n",
            "221768    JVASP-135953_main-0   \n",
            "221769   JVASP-135953_main-28   \n",
            "221770   JVASP-135953_main-51   \n",
            "221771   JVASP-135953_elast-0   \n",
            "221772   JVASP-135953_elast-2   \n",
            "221773   JVASP-135953_elast-8   \n",
            "221774  JVASP-135953_elast-13   \n",
            "243391    JVASP-123312_main-0   \n",
            "243392    JVASP-123312_main-2   \n",
            "249407    JVASP-126869_main-0   \n",
            "\n",
            "                                                    atoms search_string  \n",
            "38214   {'lattice_mat': [[5.862677, -0.00506, 0.000371...         Ag-Au  \n",
            "38215   {'lattice_mat': [[5.8020088, -0.00369984, 0.00...         Ag-Au  \n",
            "38217   {'lattice_mat': [[5.81608708, -0.00139788, 0.0...         Ag-Au  \n",
            "129159  {'lattice_mat': [[4.170108, 0.0, -1e-06], [0.0...         Ag-Au  \n",
            "129160  {'lattice_mat': [[4.11437127, -0.0, -9.6e-07],...         Ag-Au  \n",
            "129162  {'lattice_mat': [[4.14374988, -0.0, -9.8e-07],...         Ag-Au  \n",
            "156983  {'lattice_mat': [[5.822975, 0.0, 0.0], [-2.911...         Ag-Au  \n",
            "156984  {'lattice_mat': [[5.82339561, -0.0, 0.0], [-2....         Ag-Au  \n",
            "156985  {'lattice_mat': [[5.823102, -0.0, 0.0], [-2.91...         Ag-Au  \n",
            "160713  {'lattice_mat': [[4.10492281, -0.0, -0.0], [0....         Ag-Au  \n",
            "160714  {'lattice_mat': [[4.13672176, -0.0, -0.0], [0....         Ag-Au  \n",
            "160715  {'lattice_mat': [[4.12835325, -0.0, -0.0], [0....         Ag-Au  \n",
            "162008  {'lattice_mat': [[4.170213, 0.0, 0.0], [0.0, 4...         Ag-Au  \n",
            "162009  {'lattice_mat': [[4.11446375, 0.0, -0.0], [0.0...         Ag-Au  \n",
            "162010  {'lattice_mat': [[4.15205301, 0.0, -0.0], [0.0...         Ag-Au  \n",
            "162011  {'lattice_mat': [[4.14384875, 0.0, -0.0], [0.0...         Ag-Au  \n",
            "175756  {'lattice_mat': [[3.80678654, 0.0, -3.37340473...         Ag-Au  \n",
            "175757  {'lattice_mat': [[3.78007742, 0.00112664, -3.3...         Ag-Au  \n",
            "179797  {'lattice_mat': [[2.81968131, 0.0, 4.2285951],...         Ag-Au  \n",
            "179798  {'lattice_mat': [[2.80739184, 0.0010801, 4.213...         Ag-Au  \n",
            "179799  {'lattice_mat': [[2.80979597, 0.0054908, 4.229...         Ag-Au  \n",
            "179800  {'lattice_mat': [[1.46355, -2.53494, 0.0], [1....         Ag-Au  \n",
            "179801  {'lattice_mat': [[1.46355, -2.53494, 0.0], [1....         Ag-Au  \n",
            "179803  {'lattice_mat': [[1.46355, -2.53494, 0.0], [1....         Ag-Au  \n",
            "221745  {'lattice_mat': [[2.44808, -4.24021, 0.0], [2....         Ag-Au  \n",
            "221746  {'lattice_mat': [[2.44808, -4.24021, 0.0], [2....         Ag-Au  \n",
            "221747  {'lattice_mat': [[2.44808, -4.24021, -0.063603...         Ag-Au  \n",
            "221749  {'lattice_mat': [[8.46683598, 0.0, 0.0], [0.0,...         Ag-Au  \n",
            "221750  {'lattice_mat': [[5.2968827, 0.0, 0.15376593],...         Ag-Au  \n",
            "221751  {'lattice_mat': [[4.75495065, 0.0, -1.16490509...         Ag-Au  \n",
            "221752  {'lattice_mat': [[5.81550248, 0.0, 0.0], [0.0,...         Ag-Au  \n",
            "221753  {'lattice_mat': [[3.13505983, 0.0, 0.0], [0.0,...         Ag-Au  \n",
            "221754  {'lattice_mat': [[4.63280705, 0.0, 0.0], [0.0,...         Ag-Au  \n",
            "221755  {'lattice_mat': [[4.75661312, 0.0, 0.0], [0.0,...         Ag-Au  \n",
            "221756  {'lattice_mat': [[2.72024, 0.0, 0.0], [0.0, 4....         Ag-Au  \n",
            "221757  {'lattice_mat': [[2.6794364, 0.0, 0.0], [0.0, ...         Ag-Au  \n",
            "221758  {'lattice_mat': [[2.72024, 0.0408036, 0.0], [0...         Ag-Au  \n",
            "221759  {'lattice_mat': [[2.72024, 0.0, 0.0], [0.0, 4....         Ag-Au  \n",
            "221760  {'lattice_mat': [[2.44936, -4.24241, 0.0], [2....         Ag-Au  \n",
            "221761  {'lattice_mat': [[2.44936, -4.17877385, 0.0], ...         Ag-Au  \n",
            "221762  {'lattice_mat': [[2.44936, -4.24241, -0.063636...         Ag-Au  \n",
            "221763  {'lattice_mat': [[2.44936, -4.24241, 0.0], [2....         Ag-Au  \n",
            "221764  {'lattice_mat': [[6.50192943, 0.0, 0.0], [0.0,...         Ag-Au  \n",
            "221765  {'lattice_mat': [[4.62780498, 0.0, -0.09906587...         Ag-Au  \n",
            "221766  {'lattice_mat': [[4.81851489, 0.0, -0.49662809...         Ag-Au  \n",
            "221767  {'lattice_mat': [[4.74037397, 0.0, -1.24106327...         Ag-Au  \n",
            "221768  {'lattice_mat': [[5.81550248, 0.0, 0.0], [0.0,...         Ag-Au  \n",
            "221769  {'lattice_mat': [[5.08951501, 0.0, 0.0], [0.0,...         Ag-Au  \n",
            "221770  {'lattice_mat': [[4.75003372, 0.0, 0.0], [0.0,...         Ag-Au  \n",
            "221771  {'lattice_mat': [[2.73496, 0.0, 0.0], [0.0, 4....         Ag-Au  \n",
            "221772  {'lattice_mat': [[2.6939356, 0.0, 0.0], [0.0, ...         Ag-Au  \n",
            "221773  {'lattice_mat': [[2.73496, -0.0410244, 0.0], [...         Ag-Au  \n",
            "221774  {'lattice_mat': [[2.73496, 0.0, 0.0], [0.0, 4....         Ag-Au  \n",
            "243391  {'lattice_mat': [[4.12401, 0.0, 0.0], [0.0, 4....         Ag-Au  \n",
            "243392  {'lattice_mat': [[4.13359938, 0.0, 0.0], [0.0,...         Ag-Au  \n",
            "249407  {'lattice_mat': [[4.15289, 0.0, 0.0], [0.0, 4....         Ag-Au  \n"
          ]
        }
      ]
    },
    {
      "cell_type": "code",
      "source": [],
      "metadata": {
        "id": "hZvqXi60R5At"
      },
      "execution_count": 16,
      "outputs": []
    }
  ]
}