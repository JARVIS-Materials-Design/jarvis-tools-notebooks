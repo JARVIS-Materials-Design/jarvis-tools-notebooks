{
  "nbformat": 4,
  "nbformat_minor": 0,
  "metadata": {
    "kernelspec": {
      "display_name": "Python 3",
      "language": "python",
      "name": "python3"
    },
    "language_info": {
      "codemirror_mode": {
        "name": "ipython",
        "version": 3
      },
      "file_extension": ".py",
      "mimetype": "text/x-python",
      "name": "python",
      "nbconvert_exporter": "python",
      "pygments_lexer": "ipython3",
      "version": "3.6.7"
    },
    "colab": {
      "name": "Analyzing data in the JARVIS-DFT dataset.ipynb",
      "provenance": [],
      "include_colab_link": true
    }
  },
  "cells": [
    {
      "cell_type": "markdown",
      "metadata": {
        "id": "view-in-github",
        "colab_type": "text"
      },
      "source": [
        "<a href=\"https://colab.research.google.com/github/knc6/jarvis-tools-notebooks/blob/master/jarvis-tools-notebooks/Analyzing_data_in_the_JARVIS_DFT_dataset.ipynb\" target=\"_parent\"><img src=\"https://colab.research.google.com/assets/colab-badge.svg\" alt=\"Open In Colab\"/></a>"
      ]
    },
    {
      "cell_type": "markdown",
      "metadata": {
        "id": "KFgY9rt5wAUS",
        "colab_type": "text"
      },
      "source": [
        "# Table of contents\n",
        "\n",
        "1. Loading JARVIS-DFT 3D and 2D json from figshare \n",
        "2. Making pandas dataframe,\n",
        "3. Properties available, keys\n",
        "4. Histogram of properties\n",
        "5. Compare bandgaps from different DFT methods, OptB88vdW, TBmBJ\n",
        "6. Multi-property filter for 3D material-screenig example\n",
        "7. Example: find all cubic materials\n",
        "8. Exfoliation energy distribution for 2D materials\n",
        "9. Multi-property filter for 2D dataset"
      ]
    },
    {
      "cell_type": "code",
      "metadata": {
        "id": "M5yTngAGwIy0",
        "colab_type": "code",
        "outputId": "76b374ee-d604-4e11-911e-835fa6867a3e",
        "colab": {
          "base_uri": "https://localhost:8080/",
          "height": 425
        }
      },
      "source": [
        "!pip install jarvis-tools"
      ],
      "execution_count": 1,
      "outputs": [
        {
          "output_type": "stream",
          "text": [
            "Requirement already satisfied: jarvis-tools in /usr/local/lib/python3.6/dist-packages (2020.6.9)\n",
            "Requirement already satisfied: xmltodict in /usr/local/lib/python3.6/dist-packages (from jarvis-tools) (0.12.0)\n",
            "Requirement already satisfied: numpy in /usr/local/lib/python3.6/dist-packages (from jarvis-tools) (1.18.5)\n",
            "Requirement already satisfied: spglib in /usr/local/lib/python3.6/dist-packages (from jarvis-tools) (1.15.1)\n",
            "Requirement already satisfied: pytest in /usr/local/lib/python3.6/dist-packages (from jarvis-tools) (3.6.4)\n",
            "Requirement already satisfied: toolz in /usr/local/lib/python3.6/dist-packages (from jarvis-tools) (0.10.0)\n",
            "Requirement already satisfied: matplotlib in /usr/local/lib/python3.6/dist-packages (from jarvis-tools) (3.2.1)\n",
            "Requirement already satisfied: requests in /usr/local/lib/python3.6/dist-packages (from jarvis-tools) (2.23.0)\n",
            "Requirement already satisfied: scipy in /usr/local/lib/python3.6/dist-packages (from jarvis-tools) (1.4.1)\n",
            "Requirement already satisfied: setuptools in /usr/local/lib/python3.6/dist-packages (from pytest->jarvis-tools) (47.1.1)\n",
            "Requirement already satisfied: six>=1.10.0 in /usr/local/lib/python3.6/dist-packages (from pytest->jarvis-tools) (1.12.0)\n",
            "Requirement already satisfied: atomicwrites>=1.0 in /usr/local/lib/python3.6/dist-packages (from pytest->jarvis-tools) (1.4.0)\n",
            "Requirement already satisfied: pluggy<0.8,>=0.5 in /usr/local/lib/python3.6/dist-packages (from pytest->jarvis-tools) (0.7.1)\n",
            "Requirement already satisfied: py>=1.5.0 in /usr/local/lib/python3.6/dist-packages (from pytest->jarvis-tools) (1.8.1)\n",
            "Requirement already satisfied: attrs>=17.4.0 in /usr/local/lib/python3.6/dist-packages (from pytest->jarvis-tools) (19.3.0)\n",
            "Requirement already satisfied: more-itertools>=4.0.0 in /usr/local/lib/python3.6/dist-packages (from pytest->jarvis-tools) (8.3.0)\n",
            "Requirement already satisfied: python-dateutil>=2.1 in /usr/local/lib/python3.6/dist-packages (from matplotlib->jarvis-tools) (2.8.1)\n",
            "Requirement already satisfied: kiwisolver>=1.0.1 in /usr/local/lib/python3.6/dist-packages (from matplotlib->jarvis-tools) (1.2.0)\n",
            "Requirement already satisfied: cycler>=0.10 in /usr/local/lib/python3.6/dist-packages (from matplotlib->jarvis-tools) (0.10.0)\n",
            "Requirement already satisfied: pyparsing!=2.0.4,!=2.1.2,!=2.1.6,>=2.0.1 in /usr/local/lib/python3.6/dist-packages (from matplotlib->jarvis-tools) (2.4.7)\n",
            "Requirement already satisfied: certifi>=2017.4.17 in /usr/local/lib/python3.6/dist-packages (from requests->jarvis-tools) (2020.4.5.1)\n",
            "Requirement already satisfied: chardet<4,>=3.0.2 in /usr/local/lib/python3.6/dist-packages (from requests->jarvis-tools) (3.0.4)\n",
            "Requirement already satisfied: urllib3!=1.25.0,!=1.25.1,<1.26,>=1.21.1 in /usr/local/lib/python3.6/dist-packages (from requests->jarvis-tools) (1.24.3)\n",
            "Requirement already satisfied: idna<3,>=2.5 in /usr/local/lib/python3.6/dist-packages (from requests->jarvis-tools) (2.9)\n"
          ],
          "name": "stdout"
        }
      ]
    },
    {
      "cell_type": "markdown",
      "metadata": {
        "id": "q12LaGKNwAUf",
        "colab_type": "text"
      },
      "source": [
        "### We have prepared a basic json file with meta-data associated with JARVIS-DFT. So, first let's import jarvis-dft metadata from the figshre repository. This has been built as a module in the jarvis-tools\n"
      ]
    },
    {
      "cell_type": "code",
      "metadata": {
        "id": "CzdszIiKwAUk",
        "colab_type": "code",
        "outputId": "86b83371-25ec-4825-c8e8-da827b602ed9",
        "colab": {
          "base_uri": "https://localhost:8080/",
          "height": 51
        }
      },
      "source": [
        "# !pip install jarvis-tools, and restart runtime in the notebook if you haven't installed it yet\n",
        "from jarvis.db.figshare import data\n",
        "\n",
        "dft_3d = data('dft_3d')\n",
        "dft_2d = data('dft_2d')"
      ],
      "execution_count": 2,
      "outputs": [
        {
          "output_type": "stream",
          "text": [
            "Downloading 3D dataset ...\n",
            "Downloading 2D dataset ...\n"
          ],
          "name": "stdout"
        }
      ]
    },
    {
      "cell_type": "code",
      "metadata": {
        "id": "VU7_uav2wAVN",
        "colab_type": "code",
        "outputId": "013c5bd2-b11e-43ea-f86a-b43eefb5ef6a",
        "colab": {
          "base_uri": "https://localhost:8080/",
          "height": 34
        }
      },
      "source": [
        "# data-size\n",
        "print (len(dft_3d),len(dft_2d))"
      ],
      "execution_count": 3,
      "outputs": [
        {
          "output_type": "stream",
          "text": [
            "36099 1070\n"
          ],
          "name": "stdout"
        }
      ]
    },
    {
      "cell_type": "code",
      "metadata": {
        "id": "PohqUYrVwAVm",
        "colab_type": "code",
        "colab": {}
      },
      "source": [
        "# let's make a pandas dataframe from the figshare json file\n",
        "# pip install pandas, if you haven't installed yet\n",
        "import pandas as pd\n",
        "import numpy as np\n",
        "\n",
        "df=pd.DataFrame(dft_3d)"
      ],
      "execution_count": 0,
      "outputs": []
    },
    {
      "cell_type": "code",
      "metadata": {
        "id": "-m9BFco-wAWB",
        "colab_type": "code",
        "outputId": "d1018417-547b-4f72-cee5-7909b06f537c",
        "colab": {
          "base_uri": "https://localhost:8080/",
          "height": 221
        }
      },
      "source": [
        "# Keys in the json file\n",
        "print (df.columns, len(df.columns))"
      ],
      "execution_count": 5,
      "outputs": [
        {
          "output_type": "stream",
          "text": [
            "Index(['formation_energy_peratom', 'optb88vdw_bandgap', 'elastic_tensor',\n",
            "       'effective_masses_300K', 'kpoint_length_unit', 'encut',\n",
            "       'optb88vdw_total_energy', 'mbj_bandgap', 'epsx', 'mepsx', 'epsy',\n",
            "       'mepsy', 'epsz', 'mepsz', 'atoms', 'kpoints_array', 'jid',\n",
            "       'bulk_modulus_kv', 'shear_modulus_gv', 'modes', 'magmom_outcar',\n",
            "       'magmom_oszicar', 'icsd', 'spillage', 'slme', 'dfpt_piezo_max_eij',\n",
            "       'dfpt_piezo_max_dij', 'dfpt_piezo_max_dielectric',\n",
            "       'dfpt_piezo_max_dielectric_electronic',\n",
            "       'dfpt_piezo_max_dielectric_ionic', 'max_ir_mode', 'min_ir_mode',\n",
            "       'n-Seebeck', 'p-Seebeck', 'exfoliation_energy', 'n-powerfact',\n",
            "       'p-powerfact', 'ehull', 'dfpt_piezo_max_dielectric_ioonic'],\n",
            "      dtype='object') 39\n"
          ],
          "name": "stdout"
        }
      ]
    },
    {
      "cell_type": "code",
      "metadata": {
        "id": "bgdFncQqwAWf",
        "colab_type": "code",
        "outputId": "1f9aa223-9418-4ebb-a673-37d5b2663add",
        "colab": {
          "base_uri": "https://localhost:8080/",
          "height": 994
        }
      },
      "source": [
        "# Now let's make a histogram for some of the material-properties in the dataset\n",
        "import matplotlib\n",
        "%matplotlib inline\n",
        "import matplotlib.pyplot as plt\n",
        "from matplotlib.gridspec import GridSpec\n",
        "\n",
        "the_grid = GridSpec(4, 3)\n",
        "plt.rcParams.update({'font.size': 18})\n",
        "plt.figure(figsize=(16,14))\n",
        "\n",
        "plt.subplot(the_grid[0, 0])\n",
        "val=np.array(df['formation_energy_peratom'].replace('na',np.nan).dropna().values,dtype='float')\n",
        "plt.hist(val,bins=np.arange(-4,3,.1))\n",
        "plt.xlabel('Formation enrgies (eV/atom)')\n",
        "plt.ylabel('Materials distribution')\n",
        "\n",
        "plt.subplot(the_grid[0, 1])\n",
        "val=np.array(df['optb88vdw_bandgap'].replace('na',np.nan).dropna().values,dtype='float')\n",
        "plt.hist(val,bins=np.arange(0,8,.1))\n",
        "plt.xlabel('OptB88vdW bandgaps (eV)')\n",
        "#plt.ylabel('Materials distribution')\n",
        "\n",
        "plt.subplot(the_grid[0, 2])\n",
        "val=np.array(df['mbj_bandgap'].replace('na',np.nan).dropna().values,dtype='float')\n",
        "plt.hist(val,bins=np.arange(0,8,.1))\n",
        "plt.xlabel('TBmBJ bandgaps (eV)')\n",
        "#plt.ylabel('Materials distribution')\n",
        "\n",
        "plt.subplot(the_grid[1, 0])\n",
        "val=np.array(df['bulk_modulus_kv'].replace('na',np.nan).dropna().values,dtype='float')\n",
        "plt.hist(val,bins=np.arange(0,250,10))\n",
        "plt.xlabel('Voigt-bulk modulus (GPa)')\n",
        "#plt.ylabel('Materials distribution')\n",
        "\n",
        "\n",
        "plt.subplot(the_grid[1, 1])\n",
        "val=np.array(df['spillage'].replace('na',np.nan).dropna().values,dtype='float')\n",
        "plt.hist(val,bins=np.arange(0,4,.1))\n",
        "plt.xlabel('Spin-orbit spillage')\n",
        "#plt.ylabel('Materials distribution')\n",
        "\n",
        "plt.subplot(the_grid[1, 2])\n",
        "val=np.array(df['slme'].replace('na',np.nan).dropna().values,dtype='float')\n",
        "plt.hist(val,bins=np.arange(0,35,1))\n",
        "plt.xlabel('Solar-SLME (%)')\n",
        "#plt.ylabel('Materials distribution')\n",
        "\n",
        "\n",
        "plt.subplot(the_grid[2, 0])\n",
        "val=np.array(df['dfpt_piezo_max_dielectric'].replace('na',np.nan).dropna().values,dtype='float')\n",
        "plt.hist(val,bins=np.arange(0,50,2))\n",
        "#plt.ylabel('Materials distribution')\n",
        "plt.xlabel('Max.Piezo.coeff(C/m2)')\n",
        "\n",
        "\n",
        "plt.subplot(the_grid[2, 1])\n",
        "val=np.array(df['n-powerfact'].replace('na',np.nan).dropna().values,dtype='float')\n",
        "plt.hist(val,bins=np.arange(0,4000,50))\n",
        "#plt.ylabel('Materials distribution')\n",
        "plt.xlabel('n-Power factor (muW/(mK)2)')\n",
        "\n",
        "plt.subplot(the_grid[2, 2])\n",
        "val=np.array(df['n-Seebeck'].replace('na',np.nan).dropna().values,dtype='float')\n",
        "plt.hist(val,bins=np.arange(-600,0,50))\n",
        "#plt.ylabel('Materials distribution')\n",
        "plt.xlabel('n-Seebeck coeff (muV/K)')\n",
        "\n",
        "\n",
        "plt.subplot(the_grid[3, 0])\n",
        "val=np.array(df['magmom_oszicar'].replace('na',np.nan).dropna().values,dtype='float')\n",
        "plt.hist(val,bins=np.arange(0,20,1))\n",
        "#plt.ylabel('Materials distribution')\n",
        "plt.xlabel('Mag.mom (muB)')\n",
        "\n",
        "\n",
        "plt.subplot(the_grid[3, 1])\n",
        "val=np.array(df['encut'].replace('na',np.nan).dropna().values,dtype='float')\n",
        "plt.hist(val,bins=np.arange(400,1500,50))\n",
        "#plt.ylabel('Materials distribution')\n",
        "plt.xlabel('ENCUT (eV)')\n",
        "\n",
        "\n",
        "\n",
        "plt.subplot(the_grid[3, 2])\n",
        "val=np.sqrt(np.array(df['epsx'].replace('na',np.nan).dropna().values,dtype='float'))\n",
        "plt.hist(val,bins=np.arange(0,25,1))\n",
        "#plt.ylabel('Materials distribution')\n",
        "plt.xlabel('OptB88vdW Refractive index-x')\n",
        "\n",
        "plt.tight_layout()"
      ],
      "execution_count": 6,
      "outputs": [
        {
          "output_type": "display_data",
          "data": {
            "image/png": "[encoded data removed]",
            "text/plain": [
              "<Figure size 1152x1008 with 12 Axes>"
            ]
          },
          "metadata": {
            "tags": [],
            "needs_background": "light"
          }
        }
      ]
    },
    {
      "cell_type": "code",
      "metadata": {
        "id": "n-bLNBgUwAW1",
        "colab_type": "code",
        "outputId": "b86074bb-4e10-4c47-b0e0-7e377e0f7ba7",
        "colab": {
          "base_uri": "https://localhost:8080/",
          "height": 314
        }
      },
      "source": [
        "# Let's compare OptB88vdW and TBmBJ bandgaps\n",
        "df2=df[['optb88vdw_bandgap','mbj_bandgap']].replace('na',np.nan).dropna()\n",
        "plt.plot(df2['mbj_bandgap'], df2['optb88vdw_bandgap'],'.')\n",
        "plt.plot(df2['mbj_bandgap'], df2['mbj_bandgap'])\n",
        "plt.xlim([0,10])\n",
        "plt.ylim([0,10])\n",
        "plt.xlabel('TBmBJ gap (eV)')\n",
        "plt.ylabel('OptB88vdW gap (eV)')\n",
        "plt.tight_layout()\n",
        "print ('Mats. with both OptB88vdW bandgaps', len(df['optb88vdw_bandgap']))\n",
        "print ('Mats. with both TBmBJ abd OptB88vdW bandgaps', len(df2['mbj_bandgap']))"
      ],
      "execution_count": 7,
      "outputs": [
        {
          "output_type": "stream",
          "text": [
            "Mats. with both OptB88vdW bandgaps 36099\n",
            "Mats. with both TBmBJ abd OptB88vdW bandgaps 9947\n"
          ],
          "name": "stdout"
        },
        {
          "output_type": "display_data",
          "data": {
            "image/png": "[encoded data removed]",
            "text/plain": [
              "<Figure size 432x288 with 1 Axes>"
            ]
          },
          "metadata": {
            "tags": [],
            "needs_background": "light"
          }
        }
      ]
    },
    {
      "cell_type": "markdown",
      "metadata": {
        "id": "Xo-NqusjwAXV",
        "colab_type": "text"
      },
      "source": [
        "### Material-screening example: Let's find materials which has Bi element, has spin-orbit spillage >= 0.5, have OptB88vdW bandgaps > 0.1, energy above convex hull < 0.1 eV/atom , have SLME >5 %"
      ]
    },
    {
      "cell_type": "code",
      "metadata": {
        "id": "mJmu-lLHwAXZ",
        "colab_type": "code",
        "colab": {}
      },
      "source": [
        "df3 = df[['optb88vdw_bandgap','spillage', 'ehull', 'slme', 'atoms', 'jid']].replace('na',np.nan).dropna()"
      ],
      "execution_count": 0,
      "outputs": []
    },
    {
      "cell_type": "code",
      "metadata": {
        "id": "wo59jtmYwAXx",
        "colab_type": "code",
        "colab": {}
      },
      "source": [
        "from jarvis.core.atoms import Atoms\n",
        "def has_element(atoms_dict = {}, my_element = 'Bi'):\n",
        "    atoms = Atoms.from_dict(atoms_dict)\n",
        "    elements = atoms.elements\n",
        "    if my_element in elements:\n",
        "        return True\n",
        "    else:\n",
        "        return np.nan\n",
        "    \n",
        "df3['el'] = df3['atoms'].apply(lambda x: has_element(atoms_dict = x, my_element = 'Bi'))\n",
        "df3['formula'] = df3['atoms'].apply(lambda x: Atoms.from_dict(x).composition.reduced_formula)"
      ],
      "execution_count": 0,
      "outputs": []
    },
    {
      "cell_type": "code",
      "metadata": {
        "id": "FllvXD8WwAYC",
        "colab_type": "code",
        "colab": {}
      },
      "source": [
        "df4 = df3.dropna()"
      ],
      "execution_count": 0,
      "outputs": []
    },
    {
      "cell_type": "code",
      "metadata": {
        "id": "avYSs21zwAYd",
        "colab_type": "code",
        "outputId": "b1b70182-7fb0-46e7-dad7-e0d7e5f73994",
        "colab": {
          "base_uri": "https://localhost:8080/",
          "height": 607
        }
      },
      "source": [
        "df4[(df4['optb88vdw_bandgap'] >= .1) & (df4['spillage'] >=.5 ) & (df4['ehull'] <=.1 ) & (df4['slme'] >=5 )  ]"
      ],
      "execution_count": 11,
      "outputs": [
        {
          "output_type": "execute_result",
          "data": {
            "text/html": [
              "<div>\n",
              "<style scoped>\n",
              "    .dataframe tbody tr th:only-of-type {\n",
              "        vertical-align: middle;\n",
              "    }\n",
              "\n",
              "    .dataframe tbody tr th {\n",
              "        vertical-align: top;\n",
              "    }\n",
              "\n",
              "    .dataframe thead th {\n",
              "        text-align: right;\n",
              "    }\n",
              "</style>\n",
              "<table border=\"1\" class=\"dataframe\">\n",
              "  <thead>\n",
              "    <tr style=\"text-align: right;\">\n",
              "      <th></th>\n",
              "      <th>optb88vdw_bandgap</th>\n",
              "      <th>spillage</th>\n",
              "      <th>ehull</th>\n",
              "      <th>slme</th>\n",
              "      <th>atoms</th>\n",
              "      <th>jid</th>\n",
              "      <th>el</th>\n",
              "      <th>formula</th>\n",
              "    </tr>\n",
              "  </thead>\n",
              "  <tbody>\n",
              "    <tr>\n",
              "      <th>180</th>\n",
              "      <td>0.9855</td>\n",
              "      <td>0.755</td>\n",
              "      <td>0.025189</td>\n",
              "      <td>32.282755</td>\n",
              "      <td>{'lattice_mat': [[4.1670203186750125, 0.0, 0.0...</td>\n",
              "      <td>JVASP-5215</td>\n",
              "      <td>True</td>\n",
              "      <td>Bi2Se3</td>\n",
              "    </tr>\n",
              "    <tr>\n",
              "      <th>257</th>\n",
              "      <td>0.5569</td>\n",
              "      <td>1.275</td>\n",
              "      <td>0.012965</td>\n",
              "      <td>31.805149</td>\n",
              "      <td>{'lattice_mat': [[4.425877989755294, 0.0, 0.0]...</td>\n",
              "      <td>JVASP-5374</td>\n",
              "      <td>True</td>\n",
              "      <td>IBi</td>\n",
              "    </tr>\n",
              "    <tr>\n",
              "      <th>752</th>\n",
              "      <td>0.3072</td>\n",
              "      <td>4.032</td>\n",
              "      <td>0.000000</td>\n",
              "      <td>29.685680</td>\n",
              "      <td>{'lattice_mat': [[5.222331821181116, -0.0, 0.0...</td>\n",
              "      <td>JVASP-22653</td>\n",
              "      <td>True</td>\n",
              "      <td>Sr3BiN</td>\n",
              "    </tr>\n",
              "    <tr>\n",
              "      <th>758</th>\n",
              "      <td>0.5344</td>\n",
              "      <td>2.677</td>\n",
              "      <td>0.000000</td>\n",
              "      <td>33.434736</td>\n",
              "      <td>{'lattice_mat': [[4.172273561810926, -1.864909...</td>\n",
              "      <td>JVASP-22657</td>\n",
              "      <td>True</td>\n",
              "      <td>LiMgBi</td>\n",
              "    </tr>\n",
              "    <tr>\n",
              "      <th>862</th>\n",
              "      <td>0.5039</td>\n",
              "      <td>1.639</td>\n",
              "      <td>0.000000</td>\n",
              "      <td>20.337451</td>\n",
              "      <td>{'lattice_mat': [[0.0, 3.485394766378691, 3.48...</td>\n",
              "      <td>JVASP-22724</td>\n",
              "      <td>True</td>\n",
              "      <td>NaLi2Bi</td>\n",
              "    </tr>\n",
              "    <tr>\n",
              "      <th>2020</th>\n",
              "      <td>0.8202</td>\n",
              "      <td>0.682</td>\n",
              "      <td>0.011756</td>\n",
              "      <td>29.993716</td>\n",
              "      <td>{'lattice_mat': [[4.420421720230594, 0.0, 0.0]...</td>\n",
              "      <td>JVASP-32749</td>\n",
              "      <td>True</td>\n",
              "      <td>BiI</td>\n",
              "    </tr>\n",
              "    <tr>\n",
              "      <th>2026</th>\n",
              "      <td>0.7193</td>\n",
              "      <td>1.179</td>\n",
              "      <td>0.012828</td>\n",
              "      <td>29.839427</td>\n",
              "      <td>{'lattice_mat': [[4.260514703242369, 1.1598804...</td>\n",
              "      <td>JVASP-32759</td>\n",
              "      <td>True</td>\n",
              "      <td>BiBr</td>\n",
              "    </tr>\n",
              "    <tr>\n",
              "      <th>2100</th>\n",
              "      <td>0.4932</td>\n",
              "      <td>0.839</td>\n",
              "      <td>0.000000</td>\n",
              "      <td>31.705820</td>\n",
              "      <td>{'lattice_mat': [[4.26929704078232, -2e-16, 0....</td>\n",
              "      <td>JVASP-29647</td>\n",
              "      <td>True</td>\n",
              "      <td>Bi2Pb2Se5</td>\n",
              "    </tr>\n",
              "    <tr>\n",
              "      <th>3367</th>\n",
              "      <td>0.2744</td>\n",
              "      <td>1.271</td>\n",
              "      <td>0.000000</td>\n",
              "      <td>27.298235</td>\n",
              "      <td>{'lattice_mat': [[5.395927183581751, 0.0, -0.0...</td>\n",
              "      <td>JVASP-36474</td>\n",
              "      <td>True</td>\n",
              "      <td>Ca3BiP</td>\n",
              "    </tr>\n",
              "    <tr>\n",
              "      <th>3846</th>\n",
              "      <td>0.5555</td>\n",
              "      <td>2.094</td>\n",
              "      <td>0.000000</td>\n",
              "      <td>33.774224</td>\n",
              "      <td>{'lattice_mat': [[4.899594431025933, 0.0, 0.0]...</td>\n",
              "      <td>JVASP-35067</td>\n",
              "      <td>True</td>\n",
              "      <td>KMgBi</td>\n",
              "    </tr>\n",
              "    <tr>\n",
              "      <th>4834</th>\n",
              "      <td>0.2226</td>\n",
              "      <td>2.051</td>\n",
              "      <td>0.000000</td>\n",
              "      <td>19.189534</td>\n",
              "      <td>{'lattice_mat': [[-0.0, 3.8360880678246505, 3....</td>\n",
              "      <td>JVASP-41154</td>\n",
              "      <td>True</td>\n",
              "      <td>Na2TlBi</td>\n",
              "    </tr>\n",
              "    <tr>\n",
              "      <th>5254</th>\n",
              "      <td>0.3830</td>\n",
              "      <td>1.519</td>\n",
              "      <td>0.000000</td>\n",
              "      <td>14.115342</td>\n",
              "      <td>{'lattice_mat': [[0.0, 3.578503339310613, 3.57...</td>\n",
              "      <td>JVASP-39685</td>\n",
              "      <td>True</td>\n",
              "      <td>Li2TlBi</td>\n",
              "    </tr>\n",
              "    <tr>\n",
              "      <th>16040</th>\n",
              "      <td>0.9961</td>\n",
              "      <td>0.577</td>\n",
              "      <td>0.000000</td>\n",
              "      <td>22.536736</td>\n",
              "      <td>{'lattice_mat': [[12.471278404537411, -0.0, 0....</td>\n",
              "      <td>JVASP-25649</td>\n",
              "      <td>True</td>\n",
              "      <td>NaBi2AuO5</td>\n",
              "    </tr>\n",
              "    <tr>\n",
              "      <th>21552</th>\n",
              "      <td>0.6343</td>\n",
              "      <td>2.072</td>\n",
              "      <td>0.000000</td>\n",
              "      <td>33.828256</td>\n",
              "      <td>{'lattice_mat': [[2.3842715689309357, -4.12967...</td>\n",
              "      <td>JVASP-4050</td>\n",
              "      <td>True</td>\n",
              "      <td>CaMg2Bi2</td>\n",
              "    </tr>\n",
              "    <tr>\n",
              "      <th>21553</th>\n",
              "      <td>0.5959</td>\n",
              "      <td>2.081</td>\n",
              "      <td>0.000000</td>\n",
              "      <td>32.273981</td>\n",
              "      <td>{'lattice_mat': [[2.4528938053008145, -4.24853...</td>\n",
              "      <td>JVASP-4053</td>\n",
              "      <td>True</td>\n",
              "      <td>BaMg2Bi2</td>\n",
              "    </tr>\n",
              "    <tr>\n",
              "      <th>24043</th>\n",
              "      <td>0.4312</td>\n",
              "      <td>4.024</td>\n",
              "      <td>0.000000</td>\n",
              "      <td>31.484252</td>\n",
              "      <td>{'lattice_mat': [[4.8847160371747576, 0.0, -0....</td>\n",
              "      <td>JVASP-8367</td>\n",
              "      <td>True</td>\n",
              "      <td>Ca3BiN</td>\n",
              "    </tr>\n",
              "    <tr>\n",
              "      <th>24716</th>\n",
              "      <td>0.5501</td>\n",
              "      <td>0.730</td>\n",
              "      <td>0.000000</td>\n",
              "      <td>25.717553</td>\n",
              "      <td>{'lattice_mat': [[3.9484236177866707, -1e-16, ...</td>\n",
              "      <td>JVASP-12471</td>\n",
              "      <td>True</td>\n",
              "      <td>CuBiS2</td>\n",
              "    </tr>\n",
              "    <tr>\n",
              "      <th>24719</th>\n",
              "      <td>0.4234</td>\n",
              "      <td>3.062</td>\n",
              "      <td>0.000000</td>\n",
              "      <td>26.600862</td>\n",
              "      <td>{'lattice_mat': [[2.2388235157059344, -3.87775...</td>\n",
              "      <td>JVASP-12475</td>\n",
              "      <td>True</td>\n",
              "      <td>Bi4Te7Pb</td>\n",
              "    </tr>\n",
              "  </tbody>\n",
              "</table>\n",
              "</div>"
            ],
            "text/plain": [
              "       optb88vdw_bandgap  spillage     ehull  ...          jid    el    formula\n",
              "180               0.9855     0.755  0.025189  ...   JVASP-5215  True     Bi2Se3\n",
              "257               0.5569     1.275  0.012965  ...   JVASP-5374  True        IBi\n",
              "752               0.3072     4.032  0.000000  ...  JVASP-22653  True     Sr3BiN\n",
              "758               0.5344     2.677  0.000000  ...  JVASP-22657  True     LiMgBi\n",
              "862               0.5039     1.639  0.000000  ...  JVASP-22724  True    NaLi2Bi\n",
              "2020              0.8202     0.682  0.011756  ...  JVASP-32749  True        BiI\n",
              "2026              0.7193     1.179  0.012828  ...  JVASP-32759  True       BiBr\n",
              "2100              0.4932     0.839  0.000000  ...  JVASP-29647  True  Bi2Pb2Se5\n",
              "3367              0.2744     1.271  0.000000  ...  JVASP-36474  True     Ca3BiP\n",
              "3846              0.5555     2.094  0.000000  ...  JVASP-35067  True      KMgBi\n",
              "4834              0.2226     2.051  0.000000  ...  JVASP-41154  True    Na2TlBi\n",
              "5254              0.3830     1.519  0.000000  ...  JVASP-39685  True    Li2TlBi\n",
              "16040             0.9961     0.577  0.000000  ...  JVASP-25649  True  NaBi2AuO5\n",
              "21552             0.6343     2.072  0.000000  ...   JVASP-4050  True   CaMg2Bi2\n",
              "21553             0.5959     2.081  0.000000  ...   JVASP-4053  True   BaMg2Bi2\n",
              "24043             0.4312     4.024  0.000000  ...   JVASP-8367  True     Ca3BiN\n",
              "24716             0.5501     0.730  0.000000  ...  JVASP-12471  True     CuBiS2\n",
              "24719             0.4234     3.062  0.000000  ...  JVASP-12475  True   Bi4Te7Pb\n",
              "\n",
              "[18 rows x 8 columns]"
            ]
          },
          "metadata": {
            "tags": []
          },
          "execution_count": 11
        }
      ]
    },
    {
      "cell_type": "markdown",
      "metadata": {
        "id": "5-eZiXMVwAYv",
        "colab_type": "text"
      },
      "source": [
        "### Find all cubic materials"
      ]
    },
    {
      "cell_type": "code",
      "metadata": {
        "id": "JrkvTd3xwAY1",
        "colab_type": "code",
        "colab": {}
      },
      "source": [
        "from jarvis.analysis.structure.spacegroup import Spacegroup3D\n",
        "# Takes some time because we are running spacegroup analysis on all the materials\n",
        "def crystal_system(atoms_dict={}):\n",
        "    atoms = Atoms.from_dict(atoms_dict)\n",
        "    system = Spacegroup3D(Atoms.from_dict(atoms_dict)).crystal_system\n",
        "    return system\n",
        "df['crystal_system'] = df['atoms'].apply(lambda x: crystal_system(atoms_dict = x))"
      ],
      "execution_count": 0,
      "outputs": []
    },
    {
      "cell_type": "code",
      "metadata": {
        "id": "su-De2jfwAZN",
        "colab_type": "code",
        "outputId": "fdb2bed6-3fce-4dec-ac4e-ef40a909b257",
        "colab": {
          "base_uri": "https://localhost:8080/",
          "height": 34
        }
      },
      "source": [
        "len(df[df['crystal_system']=='cubic'])"
      ],
      "execution_count": 13,
      "outputs": [
        {
          "output_type": "execute_result",
          "data": {
            "text/plain": [
              "10725"
            ]
          },
          "metadata": {
            "tags": []
          },
          "execution_count": 13
        }
      ]
    },
    {
      "cell_type": "code",
      "metadata": {
        "id": "5M96-qCPwAZf",
        "colab_type": "code",
        "colab": {}
      },
      "source": [
        "# We can store the screened materials in a new json file\n",
        "# Note that the primitive cell can have non-equal lattice-constants but not the conventional cell\n",
        "from jarvis.db.jsonutils import dumpjson\n",
        "dumpjson(data = df[df['crystal_system']=='cubic']['atoms'].values.tolist(), filename='all_cubic.json')"
      ],
      "execution_count": 0,
      "outputs": []
    },
    {
      "cell_type": "markdown",
      "metadata": {
        "id": "lLQ2Vs57wAZz",
        "colab_type": "text"
      },
      "source": [
        "### Working with 2D dataset"
      ]
    },
    {
      "cell_type": "code",
      "metadata": {
        "id": "BKNXs6ZewAZ4",
        "colab_type": "code",
        "colab": {}
      },
      "source": [
        "df_2d=pd.DataFrame(dft_2d)"
      ],
      "execution_count": 0,
      "outputs": []
    },
    {
      "cell_type": "code",
      "metadata": {
        "id": "j2YnHJULwAaK",
        "colab_type": "code",
        "outputId": "c8e288ab-5aa9-4733-a3f2-36f3871d1eec",
        "colab": {
          "base_uri": "https://localhost:8080/",
          "height": 136
        }
      },
      "source": [
        "df_2d.columns"
      ],
      "execution_count": 16,
      "outputs": [
        {
          "output_type": "execute_result",
          "data": {
            "text/plain": [
              "Index(['formation_energy_peratom', 'optb88vdw_bandgap', 'elastic_tensor',\n",
              "       'effective_masses_300K', 'kpoint_length_unit', 'encut',\n",
              "       'optb88vdw_total_energy', 'mbj_bandgap', 'epsx', 'mepsx', 'epsy',\n",
              "       'mepsy', 'epsz', 'mepsz', 'atoms', 'kpoints_array', 'jid',\n",
              "       'bulk_modulus_kv', 'shear_modulus_gv', 'exfoliation_energy', 'modes',\n",
              "       'magmom_outcar', 'magmom_oszicar', 'icsd'],\n",
              "      dtype='object')"
            ]
          },
          "metadata": {
            "tags": []
          },
          "execution_count": 16
        }
      ]
    },
    {
      "cell_type": "code",
      "metadata": {
        "id": "LEOmVT7AwAab",
        "colab_type": "code",
        "outputId": "bb86cc91-9469-4105-cb01-d0c2ef3d0ce8",
        "colab": {
          "base_uri": "https://localhost:8080/",
          "height": 312
        }
      },
      "source": [
        "val=np.array(df_2d['exfoliation_energy'].replace('na',np.nan).dropna().values,dtype='float')\n",
        "plt.hist(val,bins=np.arange(0,1000,10))\n",
        "#plt.ylabel('Materials distribution')\n",
        "plt.xlabel('Exfoliation energy (eV)')"
      ],
      "execution_count": 17,
      "outputs": [
        {
          "output_type": "execute_result",
          "data": {
            "text/plain": [
              "Text(0.5, 0, 'Exfoliation energy (eV)')"
            ]
          },
          "metadata": {
            "tags": []
          },
          "execution_count": 17
        },
        {
          "output_type": "display_data",
          "data": {
            "image/png": "[encoded data removed]",
            "text/plain": [
              "<Figure size 432x288 with 1 Axes>"
            ]
          },
          "metadata": {
            "tags": [],
            "needs_background": "light"
          }
        }
      ]
    },
    {
      "cell_type": "code",
      "metadata": {
        "id": "2SsGY1i1wAay",
        "colab_type": "code",
        "colab": {}
      },
      "source": [
        "#Let's find exfoliable 2D materials with magnetic moment>0.5 muB , optb88vdw_bandgap > 0.05 and exfoliation_energy < 200"
      ],
      "execution_count": 0,
      "outputs": []
    },
    {
      "cell_type": "code",
      "metadata": {
        "id": "iqwiMT1awAbI",
        "colab_type": "code",
        "colab": {}
      },
      "source": [
        "df_2d_a = df_2d[['atoms', 'optb88vdw_bandgap','exfoliation_energy', 'magmom_oszicar','jid']].replace('na',np.nan).dropna()"
      ],
      "execution_count": 0,
      "outputs": []
    },
    {
      "cell_type": "code",
      "metadata": {
        "id": "FFNvJD63wAbX",
        "colab_type": "code",
        "colab": {}
      },
      "source": [
        "df_2d_a['formula'] = df_2d_a['atoms'].apply(lambda x: Atoms.from_dict(x).composition.reduced_formula)"
      ],
      "execution_count": 0,
      "outputs": []
    },
    {
      "cell_type": "code",
      "metadata": {
        "id": "s4-zTSUgwAbv",
        "colab_type": "code",
        "outputId": "3151d40f-a6bf-4a45-ce03-61d2c2f7e112",
        "colab": {
          "base_uri": "https://localhost:8080/",
          "height": 419
        }
      },
      "source": [
        "df_2d_a[(df_2d_a['optb88vdw_bandgap'] >= .05) & (df_2d_a['exfoliation_energy'] <200 ) & (df_2d_a['magmom_oszicar'] >=.5  )  ]"
      ],
      "execution_count": 21,
      "outputs": [
        {
          "output_type": "execute_result",
          "data": {
            "text/html": [
              "<div>\n",
              "<style scoped>\n",
              "    .dataframe tbody tr th:only-of-type {\n",
              "        vertical-align: middle;\n",
              "    }\n",
              "\n",
              "    .dataframe tbody tr th {\n",
              "        vertical-align: top;\n",
              "    }\n",
              "\n",
              "    .dataframe thead th {\n",
              "        text-align: right;\n",
              "    }\n",
              "</style>\n",
              "<table border=\"1\" class=\"dataframe\">\n",
              "  <thead>\n",
              "    <tr style=\"text-align: right;\">\n",
              "      <th></th>\n",
              "      <th>atoms</th>\n",
              "      <th>optb88vdw_bandgap</th>\n",
              "      <th>exfoliation_energy</th>\n",
              "      <th>magmom_oszicar</th>\n",
              "      <th>jid</th>\n",
              "      <th>formula</th>\n",
              "    </tr>\n",
              "  </thead>\n",
              "  <tbody>\n",
              "    <tr>\n",
              "      <th>85</th>\n",
              "      <td>{'lattice_mat': [[3.626624525225858, 0.0, 0.0]...</td>\n",
              "      <td>0.7098</td>\n",
              "      <td>71.726433</td>\n",
              "      <td>3.0010</td>\n",
              "      <td>JVASP-8879</td>\n",
              "      <td>VCl2</td>\n",
              "    </tr>\n",
              "    <tr>\n",
              "      <th>114</th>\n",
              "      <td>{'lattice_mat': [[5.791947881162556, 4.7246239...</td>\n",
              "      <td>1.0017</td>\n",
              "      <td>72.344250</td>\n",
              "      <td>2.0016</td>\n",
              "      <td>JVASP-6742</td>\n",
              "      <td>FeCl3</td>\n",
              "    </tr>\n",
              "    <tr>\n",
              "      <th>118</th>\n",
              "      <td>{'lattice_mat': [[3.49758854204341, -1e-16, 0....</td>\n",
              "      <td>0.0673</td>\n",
              "      <td>67.410900</td>\n",
              "      <td>4.0006</td>\n",
              "      <td>JVASP-6055</td>\n",
              "      <td>FeCl2</td>\n",
              "    </tr>\n",
              "    <tr>\n",
              "      <th>120</th>\n",
              "      <td>{'lattice_mat': [[3.470086624548717, 0.0, 0.0]...</td>\n",
              "      <td>0.3612</td>\n",
              "      <td>67.445633</td>\n",
              "      <td>2.9996</td>\n",
              "      <td>JVASP-8915</td>\n",
              "      <td>CoCl2</td>\n",
              "    </tr>\n",
              "    <tr>\n",
              "      <th>127</th>\n",
              "      <td>{'lattice_mat': [[6.072311052981682, 0.0, 0.0]...</td>\n",
              "      <td>0.2715</td>\n",
              "      <td>95.031000</td>\n",
              "      <td>3.9994</td>\n",
              "      <td>JVASP-6109</td>\n",
              "      <td>MoBr3</td>\n",
              "    </tr>\n",
              "    <tr>\n",
              "      <th>...</th>\n",
              "      <td>...</td>\n",
              "      <td>...</td>\n",
              "      <td>...</td>\n",
              "      <td>...</td>\n",
              "      <td>...</td>\n",
              "      <td>...</td>\n",
              "    </tr>\n",
              "    <tr>\n",
              "      <th>1031</th>\n",
              "      <td>{'lattice_mat': [[5.80171623284078, -0.0037258...</td>\n",
              "      <td>1.1207</td>\n",
              "      <td>43.259556</td>\n",
              "      <td>1.9989</td>\n",
              "      <td>JVASP-75284</td>\n",
              "      <td>FeP2S6</td>\n",
              "    </tr>\n",
              "    <tr>\n",
              "      <th>1040</th>\n",
              "      <td>{'lattice_mat': [[3.1825586772463623, 0.0, 0.0...</td>\n",
              "      <td>0.0857</td>\n",
              "      <td>98.102800</td>\n",
              "      <td>5.9994</td>\n",
              "      <td>JVASP-75319</td>\n",
              "      <td>LiVF3</td>\n",
              "    </tr>\n",
              "    <tr>\n",
              "      <th>1041</th>\n",
              "      <td>{'lattice_mat': [[5.825064631761128, 1.9232331...</td>\n",
              "      <td>0.9141</td>\n",
              "      <td>57.939583</td>\n",
              "      <td>0.9380</td>\n",
              "      <td>JVASP-75320</td>\n",
              "      <td>Co3TeO8</td>\n",
              "    </tr>\n",
              "    <tr>\n",
              "      <th>1043</th>\n",
              "      <td>{'lattice_mat': [[3.2651579585109913, -8.59494...</td>\n",
              "      <td>0.0729</td>\n",
              "      <td>54.869667</td>\n",
              "      <td>3.9999</td>\n",
              "      <td>JVASP-75331</td>\n",
              "      <td>VOF</td>\n",
              "    </tr>\n",
              "    <tr>\n",
              "      <th>1045</th>\n",
              "      <td>{'lattice_mat': [[4.585681019269083, 1.5713669...</td>\n",
              "      <td>0.2594</td>\n",
              "      <td>124.624000</td>\n",
              "      <td>4.9998</td>\n",
              "      <td>JVASP-75350</td>\n",
              "      <td>LiFeF4</td>\n",
              "    </tr>\n",
              "  </tbody>\n",
              "</table>\n",
              "<p>62 rows × 6 columns</p>\n",
              "</div>"
            ],
            "text/plain": [
              "                                                  atoms  ...  formula\n",
              "85    {'lattice_mat': [[3.626624525225858, 0.0, 0.0]...  ...     VCl2\n",
              "114   {'lattice_mat': [[5.791947881162556, 4.7246239...  ...    FeCl3\n",
              "118   {'lattice_mat': [[3.49758854204341, -1e-16, 0....  ...    FeCl2\n",
              "120   {'lattice_mat': [[3.470086624548717, 0.0, 0.0]...  ...    CoCl2\n",
              "127   {'lattice_mat': [[6.072311052981682, 0.0, 0.0]...  ...    MoBr3\n",
              "...                                                 ...  ...      ...\n",
              "1031  {'lattice_mat': [[5.80171623284078, -0.0037258...  ...   FeP2S6\n",
              "1040  {'lattice_mat': [[3.1825586772463623, 0.0, 0.0...  ...    LiVF3\n",
              "1041  {'lattice_mat': [[5.825064631761128, 1.9232331...  ...  Co3TeO8\n",
              "1043  {'lattice_mat': [[3.2651579585109913, -8.59494...  ...      VOF\n",
              "1045  {'lattice_mat': [[4.585681019269083, 1.5713669...  ...   LiFeF4\n",
              "\n",
              "[62 rows x 6 columns]"
            ]
          },
          "metadata": {
            "tags": []
          },
          "execution_count": 21
        }
      ]
    },
    {
      "cell_type": "code",
      "metadata": {
        "id": "zY6KPEJWwAcA",
        "colab_type": "code",
        "colab": {}
      },
      "source": [
        ""
      ],
      "execution_count": 0,
      "outputs": []
    }
  ]
}