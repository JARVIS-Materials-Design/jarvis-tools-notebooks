{
  "nbformat": 4,
  "nbformat_minor": 0,
  "metadata": {
    "kernelspec": {
      "display_name": "Python 3",
      "language": "python",
      "name": "python3"
    },
    "language_info": {
      "codemirror_mode": {
        "name": "ipython",
        "version": 3
      },
      "file_extension": ".py",
      "mimetype": "text/x-python",
      "name": "python",
      "nbconvert_exporter": "python",
      "pygments_lexer": "ipython3",
      "version": "3.6.7"
    },
    "colab": {
      "name": "Analyzing data in the JARVIS-DFT dataset.ipynb",
      "provenance": [],
      "include_colab_link": true
    }
  },
  "cells": [
    {
      "cell_type": "markdown",
      "metadata": {
        "id": "view-in-github",
        "colab_type": "text"
      },
      "source": [
        "<a href=\"https://colab.research.google.com/github/knc6/jarvis-tools-notebooks/blob/master/jarvis-tools-notebooks/Analyzing_data_in_the_JARVIS_DFT_dataset.ipynb\" target=\"_parent\"><img src=\"https://colab.research.google.com/assets/colab-badge.svg\" alt=\"Open In Colab\"/></a>"
      ]
    },
    {
      "cell_type": "markdown",
      "metadata": {
        "id": "KFgY9rt5wAUS"
      },
      "source": [
        "# Table of contents\n",
        "\n",
        "1. Loading JARVIS-DFT 3D and 2D json from figshare \n",
        "2. Making pandas dataframe,\n",
        "3. Properties available, keys\n",
        "4. Histogram of properties\n",
        "5. Compare bandgaps from different DFT methods, OptB88vdW, TBmBJ\n",
        "6. Multi-property filter for 3D material-screenig example\n",
        "7. Example: find all cubic materials\n",
        "8. Exfoliation energy distribution for 2D materials\n",
        "9. Multi-property filter for 2D dataset"
      ]
    },
    {
      "cell_type": "code",
      "metadata": {
        "id": "M5yTngAGwIy0",
        "outputId": "2f0c2070-4b25-460a-b403-982138c8c9c1",
        "colab": {
          "base_uri": "https://localhost:8080/"
        }
      },
      "source": [
        "!pip install jarvis-tools"
      ],
      "execution_count": 1,
      "outputs": [
        {
          "output_type": "stream",
          "name": "stdout",
          "text": [
            "Looking in indexes: https://pypi.org/simple, https://us-python.pkg.dev/colab-wheels/public/simple/\n",
            "Collecting jarvis-tools\n",
            "  Downloading jarvis_tools-2022.9.16-py2.py3-none-any.whl (967 kB)\n",
            "\u001b[K     |████████████████████████████████| 967 kB 15.1 MB/s \n",
            "\u001b[?25hRequirement already satisfied: numpy>=1.19.5 in /usr/local/lib/python3.8/dist-packages (from jarvis-tools) (1.21.6)\n",
            "Requirement already satisfied: joblib>=0.14.1 in /usr/local/lib/python3.8/dist-packages (from jarvis-tools) (1.2.0)\n",
            "Requirement already satisfied: scipy>=1.4.1 in /usr/local/lib/python3.8/dist-packages (from jarvis-tools) (1.7.3)\n",
            "Requirement already satisfied: tqdm>=4.41.1 in /usr/local/lib/python3.8/dist-packages (from jarvis-tools) (4.64.1)\n",
            "Requirement already satisfied: requests>=2.23.0 in /usr/local/lib/python3.8/dist-packages (from jarvis-tools) (2.23.0)\n",
            "Requirement already satisfied: toolz>=0.9.0 in /usr/local/lib/python3.8/dist-packages (from jarvis-tools) (0.12.0)\n",
            "Collecting spglib>=1.14.1\n",
            "  Downloading spglib-2.0.2-cp38-cp38-manylinux_2_17_x86_64.manylinux2014_x86_64.whl (515 kB)\n",
            "\u001b[K     |████████████████████████████████| 515 kB 77.9 MB/s \n",
            "\u001b[?25hRequirement already satisfied: matplotlib>=3.0.0 in /usr/local/lib/python3.8/dist-packages (from jarvis-tools) (3.2.2)\n",
            "Collecting xmltodict>=0.11.0\n",
            "  Downloading xmltodict-0.13.0-py2.py3-none-any.whl (10.0 kB)\n",
            "Requirement already satisfied: cycler>=0.10 in /usr/local/lib/python3.8/dist-packages (from matplotlib>=3.0.0->jarvis-tools) (0.11.0)\n",
            "Requirement already satisfied: kiwisolver>=1.0.1 in /usr/local/lib/python3.8/dist-packages (from matplotlib>=3.0.0->jarvis-tools) (1.4.4)\n",
            "Requirement already satisfied: pyparsing!=2.0.4,!=2.1.2,!=2.1.6,>=2.0.1 in /usr/local/lib/python3.8/dist-packages (from matplotlib>=3.0.0->jarvis-tools) (3.0.9)\n",
            "Requirement already satisfied: python-dateutil>=2.1 in /usr/local/lib/python3.8/dist-packages (from matplotlib>=3.0.0->jarvis-tools) (2.8.2)\n",
            "Requirement already satisfied: six>=1.5 in /usr/local/lib/python3.8/dist-packages (from python-dateutil>=2.1->matplotlib>=3.0.0->jarvis-tools) (1.15.0)\n",
            "Requirement already satisfied: urllib3!=1.25.0,!=1.25.1,<1.26,>=1.21.1 in /usr/local/lib/python3.8/dist-packages (from requests>=2.23.0->jarvis-tools) (1.24.3)\n",
            "Requirement already satisfied: idna<3,>=2.5 in /usr/local/lib/python3.8/dist-packages (from requests>=2.23.0->jarvis-tools) (2.10)\n",
            "Requirement already satisfied: chardet<4,>=3.0.2 in /usr/local/lib/python3.8/dist-packages (from requests>=2.23.0->jarvis-tools) (3.0.4)\n",
            "Requirement already satisfied: certifi>=2017.4.17 in /usr/local/lib/python3.8/dist-packages (from requests>=2.23.0->jarvis-tools) (2022.9.24)\n",
            "Installing collected packages: xmltodict, spglib, jarvis-tools\n",
            "Successfully installed jarvis-tools-2022.9.16 spglib-2.0.2 xmltodict-0.13.0\n"
          ]
        }
      ]
    },
    {
      "cell_type": "markdown",
      "metadata": {
        "id": "q12LaGKNwAUf"
      },
      "source": [
        "### We have prepared a basic json file with meta-data associated with JARVIS-DFT. So, first let's import jarvis-dft metadata from the figshre repository. This has been built as a module in the jarvis-tools\n"
      ]
    },
    {
      "cell_type": "code",
      "metadata": {
        "id": "CzdszIiKwAUk",
        "outputId": "46028428-3067-46b8-fe12-bbe2170b1033",
        "colab": {
          "base_uri": "https://localhost:8080/"
        }
      },
      "source": [
        "# !pip install jarvis-tools, and restart runtime in the notebook if you haven't installed it yet\n",
        "from jarvis.db.figshare import data\n",
        "\n",
        "dft_3d = data('dft_3d')\n",
        "dft_2d = data('dft_2d')"
      ],
      "execution_count": 2,
      "outputs": [
        {
          "output_type": "stream",
          "name": "stdout",
          "text": [
            "Obtaining 3D dataset 55k ...\n",
            "Reference:https://www.nature.com/articles/s41524-020-00440-1\n"
          ]
        },
        {
          "output_type": "stream",
          "name": "stderr",
          "text": [
            "100%|██████████| 31.9M/31.9M [00:00<00:00, 53.3MiB/s]\n"
          ]
        },
        {
          "output_type": "stream",
          "name": "stdout",
          "text": [
            "Loading the zipfile...\n",
            "Loading completed.\n",
            "Obtaining 2D dataset 1.1k ...\n",
            "Reference:https://www.nature.com/articles/s41524-020-00440-1\n"
          ]
        },
        {
          "output_type": "stream",
          "name": "stderr",
          "text": [
            "100%|██████████| 8.20M/8.20M [00:00<00:00, 36.2MiB/s]\n"
          ]
        },
        {
          "output_type": "stream",
          "name": "stdout",
          "text": [
            "Loading the zipfile...\n",
            "Loading completed.\n"
          ]
        }
      ]
    },
    {
      "cell_type": "code",
      "metadata": {
        "id": "VU7_uav2wAVN",
        "outputId": "37a02f78-002f-45ab-8b31-9c08b2b85a98",
        "colab": {
          "base_uri": "https://localhost:8080/"
        }
      },
      "source": [
        "# data-size\n",
        "print (len(dft_3d),len(dft_2d))"
      ],
      "execution_count": 3,
      "outputs": [
        {
          "output_type": "stream",
          "name": "stdout",
          "text": [
            "55723 1079\n"
          ]
        }
      ]
    },
    {
      "cell_type": "code",
      "metadata": {
        "id": "PohqUYrVwAVm"
      },
      "source": [
        "# let's make a pandas dataframe from the figshare json file\n",
        "# pip install pandas, if you haven't installed yet\n",
        "import pandas as pd\n",
        "import numpy as np\n",
        "\n",
        "df=pd.DataFrame(dft_3d)"
      ],
      "execution_count": 4,
      "outputs": []
    },
    {
      "cell_type": "code",
      "metadata": {
        "id": "-m9BFco-wAWB",
        "outputId": "7a29b372-33ae-4fde-e983-3e22ce240091",
        "colab": {
          "base_uri": "https://localhost:8080/"
        }
      },
      "source": [
        "# Keys in the json file\n",
        "print (df.columns, len(df.columns))"
      ],
      "execution_count": 5,
      "outputs": [
        {
          "output_type": "stream",
          "name": "stdout",
          "text": [
            "Index(['jid', 'spg_number', 'spg_symbol', 'formula',\n",
            "       'formation_energy_peratom', 'func', 'optb88vdw_bandgap', 'atoms',\n",
            "       'slme', 'magmom_oszicar', 'spillage', 'elastic_tensor',\n",
            "       'effective_masses_300K', 'kpoint_length_unit', 'maxdiff_mesh',\n",
            "       'maxdiff_bz', 'encut', 'optb88vdw_total_energy', 'epsx', 'epsy', 'epsz',\n",
            "       'mepsx', 'mepsy', 'mepsz', 'modes', 'magmom_outcar', 'max_efg',\n",
            "       'avg_elec_mass', 'avg_hole_mass', 'icsd', 'dfpt_piezo_max_eij',\n",
            "       'dfpt_piezo_max_dij', 'dfpt_piezo_max_dielectric',\n",
            "       'dfpt_piezo_max_dielectric_electronic',\n",
            "       'dfpt_piezo_max_dielectric_ionic', 'max_ir_mode', 'min_ir_mode',\n",
            "       'n-Seebeck', 'p-Seebeck', 'n-powerfact', 'p-powerfact', 'ncond',\n",
            "       'pcond', 'nkappa', 'pkappa', 'ehull', 'dimensionality', 'efg',\n",
            "       'xml_data_link', 'typ', 'exfoliation_energy', 'spg', 'crys', 'density',\n",
            "       'poisson', 'raw_files', 'nat', 'bulk_modulus_kv', 'shear_modulus_gv',\n",
            "       'mbj_bandgap', 'hse_gap', 'reference', 'search'],\n",
            "      dtype='object') 63\n"
          ]
        }
      ]
    },
    {
      "cell_type": "code",
      "metadata": {
        "id": "bgdFncQqwAWf",
        "outputId": "1e6a4707-a151-43ec-e17d-b2eabdc7682d",
        "colab": {
          "base_uri": "https://localhost:8080/",
          "height": 996
        }
      },
      "source": [
        "# Now let's make a histogram for some of the material-properties in the dataset\n",
        "import matplotlib\n",
        "%matplotlib inline\n",
        "import matplotlib.pyplot as plt\n",
        "from matplotlib.gridspec import GridSpec\n",
        "\n",
        "the_grid = GridSpec(4, 3)\n",
        "plt.rcParams.update({'font.size': 18})\n",
        "plt.figure(figsize=(16,14))\n",
        "\n",
        "plt.subplot(the_grid[0, 0])\n",
        "val=np.array(df['formation_energy_peratom'].replace('na',np.nan).dropna().values,dtype='float')\n",
        "plt.hist(val,bins=np.arange(-4,3,.1))\n",
        "plt.xlabel('Formation enrgies (eV/atom)')\n",
        "plt.ylabel('Materials distribution')\n",
        "\n",
        "plt.subplot(the_grid[0, 1])\n",
        "val=np.array(df['optb88vdw_bandgap'].replace('na',np.nan).dropna().values,dtype='float')\n",
        "plt.hist(val,bins=np.arange(0,8,.1))\n",
        "plt.xlabel('OptB88vdW bandgaps (eV)')\n",
        "#plt.ylabel('Materials distribution')\n",
        "\n",
        "plt.subplot(the_grid[0, 2])\n",
        "val=np.array(df['mbj_bandgap'].replace('na',np.nan).dropna().values,dtype='float')\n",
        "plt.hist(val,bins=np.arange(0,8,.1))\n",
        "plt.xlabel('TBmBJ bandgaps (eV)')\n",
        "#plt.ylabel('Materials distribution')\n",
        "\n",
        "plt.subplot(the_grid[1, 0])\n",
        "val=np.array(df['bulk_modulus_kv'].replace('na',np.nan).dropna().values,dtype='float')\n",
        "plt.hist(val,bins=np.arange(0,250,10))\n",
        "plt.xlabel('Voigt-bulk modulus (GPa)')\n",
        "#plt.ylabel('Materials distribution')\n",
        "\n",
        "\n",
        "plt.subplot(the_grid[1, 1])\n",
        "val=np.array(df['spillage'].replace('na',np.nan).dropna().values,dtype='float')\n",
        "plt.hist(val,bins=np.arange(0,4,.1))\n",
        "plt.xlabel('Spin-orbit spillage')\n",
        "#plt.ylabel('Materials distribution')\n",
        "\n",
        "plt.subplot(the_grid[1, 2])\n",
        "val=np.array(df['slme'].replace('na',np.nan).dropna().values,dtype='float')\n",
        "plt.hist(val,bins=np.arange(0,35,1))\n",
        "plt.xlabel('Solar-SLME (%)')\n",
        "#plt.ylabel('Materials distribution')\n",
        "\n",
        "\n",
        "plt.subplot(the_grid[2, 0])\n",
        "val=np.array(df['dfpt_piezo_max_dielectric'].replace('na',np.nan).dropna().values,dtype='float')\n",
        "plt.hist(val,bins=np.arange(0,50,2))\n",
        "#plt.ylabel('Materials distribution')\n",
        "plt.xlabel('Max.Piezo.coeff(C/m2)')\n",
        "\n",
        "\n",
        "plt.subplot(the_grid[2, 1])\n",
        "val=np.array(df['n-powerfact'].replace('na',np.nan).dropna().values,dtype='float')\n",
        "plt.hist(val,bins=np.arange(0,4000,50))\n",
        "#plt.ylabel('Materials distribution')\n",
        "plt.xlabel('n-Power factor (muW/(mK)2)')\n",
        "\n",
        "plt.subplot(the_grid[2, 2])\n",
        "val=np.array(df['n-Seebeck'].replace('na',np.nan).dropna().values,dtype='float')\n",
        "plt.hist(val,bins=np.arange(-600,0,50))\n",
        "#plt.ylabel('Materials distribution')\n",
        "plt.xlabel('n-Seebeck coeff (muV/K)')\n",
        "\n",
        "\n",
        "plt.subplot(the_grid[3, 0])\n",
        "val=np.array(df['magmom_oszicar'].replace('na',np.nan).dropna().values,dtype='float')\n",
        "plt.hist(val,bins=np.arange(0,20,1))\n",
        "#plt.ylabel('Materials distribution')\n",
        "plt.xlabel('Mag.mom (muB)')\n",
        "\n",
        "\n",
        "plt.subplot(the_grid[3, 1])\n",
        "val=np.array(df['encut'].replace('na',np.nan).dropna().values,dtype='float')\n",
        "plt.hist(val,bins=np.arange(400,1500,50))\n",
        "#plt.ylabel('Materials distribution')\n",
        "plt.xlabel('ENCUT (eV)')\n",
        "\n",
        "\n",
        "\n",
        "plt.subplot(the_grid[3, 2])\n",
        "val=np.sqrt(np.array(df['epsx'].replace('na',np.nan).dropna().values,dtype='float'))\n",
        "plt.hist(val,bins=np.arange(0,25,1))\n",
        "#plt.ylabel('Materials distribution')\n",
        "plt.xlabel('OptB88vdW Refractive index-x')\n",
        "\n",
        "plt.tight_layout()"
      ],
      "execution_count": 6,
      "outputs": [
        {
          "output_type": "display_data",
          "data": {
            "text/plain": [
              "<Figure size 1152x1008 with 12 Axes>"
            ],
            "image/png": "[encoded data removed]"
          },
          "metadata": {
            "needs_background": "light"
          }
        }
      ]
    },
    {
      "cell_type": "code",
      "source": [
        "# Few more properties\n",
        "import matplotlib\n",
        "%matplotlib inline\n",
        "import matplotlib.pyplot as plt\n",
        "from matplotlib.gridspec import GridSpec\n",
        "\n",
        "the_grid = GridSpec(4, 3,hspace=0.8,wspace=0.3)\n",
        "plt.rcParams.update({'font.size': 18})\n",
        "plt.figure(figsize=(16,14))\n",
        "\n",
        "plt.subplot(the_grid[0, 0])\n",
        "val=np.array(df['spg'].replace('na',np.nan).dropna().values,dtype='int')\n",
        "plt.hist(val,bins=np.arange(1,231,1))\n",
        "plt.xlabel('Spg. number')\n",
        "plt.ylabel('Materials distribution')\n",
        "\n",
        "plt.subplot(the_grid[0, 1])\n",
        "val=np.array(df['density'].replace('na',np.nan).dropna().values,dtype='float')\n",
        "plt.hist(val,bins=np.arange(0,20,.1))\n",
        "plt.xlabel('Density(g/cm3)')\n",
        "#plt.ylabel('Materials distribution')\n",
        "\n",
        "plt.subplot(the_grid[0, 2])\n",
        "#val=np.array(df['Tc_supercon'].replace('na',np.nan).dropna().values,dtype='float')\n",
        "val=np.array(df['slme'].replace('na',np.nan).dropna().values,dtype='float')\n",
        "plt.hist(val,bins=np.arange(0,35,.1))\n",
        "plt.xlabel('SLME')\n",
        "#plt.xlabel('Tc_supercon (K)')\n",
        "#plt.ylabel('Materials distribution')\n",
        "\n",
        "plt.subplot(the_grid[1, 0])\n",
        "val=np.array(df['max_efg'].replace('na',np.nan).dropna().values,dtype='float')\n",
        "plt.hist(val,bins=np.arange(0,200,5))\n",
        "plt.xlabel('Electric field gradient(V/m2)')\n",
        "plt.ylabel('Materials distribution')\n",
        "\n",
        "\n",
        "plt.subplot(the_grid[1, 1])\n",
        "val=np.array(df['ehull'].replace('na',np.nan).dropna().values,dtype='float')\n",
        "plt.hist(val,bins=np.arange(0,2,.1))\n",
        "plt.xlabel('Energy above convex hull (eV)')\n",
        "#plt.ylabel('Materials distribution')\n",
        "\n",
        "plt.subplot(the_grid[1, 2])\n",
        "crys = pd.Categorical(df.crys)\n",
        "print ('Crystal systems',crys.categories)\n",
        "val=np.array(crys.codes,dtype='int')\n",
        "plt.hist(val,bins=np.arange(0,8,1),width=.5)\n",
        "plt.xticks([0,1,2,3,4,5,6],crys.categories.values,rotation=45)\n",
        "plt.xlabel('Crystal systems')\n",
        "#plt.ylabel('Materials distribution')\n",
        "\n",
        "\n",
        "plt.subplot(the_grid[2, 0])\n",
        "val=np.array(df['max_ir_mode'].replace('na',np.nan).dropna().values,dtype='float')\n",
        "plt.hist(val,bins=np.arange(10,2000,50))\n",
        "plt.ylabel('Materials distribution')\n",
        "plt.xlabel('Max.IR mode(cm-1)')\n",
        "\n",
        "\n",
        "plt.subplot(the_grid[2, 1])\n",
        "val=np.array(df['min_ir_mode'].replace('na',np.nan).dropna().values,dtype='float')\n",
        "plt.hist(val,bins=np.arange(5,100,2))\n",
        "#plt.ylabel('Materials distribution')\n",
        "plt.xlabel('Min.IR mode(cm-1)')\n",
        "\n",
        "plt.subplot(the_grid[2, 2])\n",
        "val=np.array(df['dfpt_piezo_max_eij'].replace('na',np.nan).dropna().values,dtype='float')\n",
        "plt.hist(val,bins=np.arange(0,1,.05))\n",
        "#plt.ylabel('Materials distribution')\n",
        "plt.xlabel('eij')\n",
        "\n",
        "\n",
        "plt.subplot(the_grid[3, 0])\n",
        "val=np.array(df['dfpt_piezo_max_dij'].replace('na',np.nan).dropna().values,dtype='float')\n",
        "plt.hist(val,bins=np.arange(0,20,1))\n",
        "plt.ylabel('Materials distribution')\n",
        "plt.xlabel('Max dij')\n",
        "\n",
        "\n",
        "plt.subplot(the_grid[3, 1])\n",
        "val=df['ncond'].replace('na',np.nan).dropna().values\n",
        "plt.hist(val,bins=np.arange(10,1e7,1e5))\n",
        "#plt.ylabel('Materials distribution')\n",
        "plt.xlabel('Ncond')\n",
        "\n",
        "\n",
        "\n",
        "plt.subplot(the_grid[3, 2])\n",
        "val=df['nkappa'].replace('na',np.nan).dropna().values\n",
        "plt.hist(val,bins=np.arange(10,1e16,1e14))\n",
        "#plt.ylabel('Materials distribution')\n",
        "plt.xlabel('nkappa')\n",
        "plt.tight_layout()"
      ],
      "metadata": {
        "id": "sbeTzx8KZkn3",
        "outputId": "258e1b61-6b81-4ab8-a5c6-b6f8252f7a71",
        "colab": {
          "base_uri": "https://localhost:8080/",
          "height": 965
        }
      },
      "execution_count": 7,
      "outputs": [
        {
          "output_type": "stream",
          "name": "stdout",
          "text": [
            "Crystal systems Index(['cubic', 'hexagonal', 'monoclinic', 'orthorhombic', 'tetragonal',\n",
            "       'triclinic', 'trigonal'],\n",
            "      dtype='object')\n"
          ]
        },
        {
          "output_type": "stream",
          "name": "stderr",
          "text": [
            "<ipython-input-7-dcf445dc50c2>:94: UserWarning: This figure includes Axes that are not compatible with tight_layout, so results might be incorrect.\n",
            "  plt.tight_layout()\n"
          ]
        },
        {
          "output_type": "display_data",
          "data": {
            "text/plain": [
              "<Figure size 1152x1008 with 12 Axes>"
            ],
            "image/png": "[encoded data removed]"
          },
          "metadata": {
            "needs_background": "light"
          }
        }
      ]
    },
    {
      "cell_type": "code",
      "metadata": {
        "id": "n-bLNBgUwAW1",
        "outputId": "d3695ca6-974d-4646-e78e-98cb86205aad",
        "colab": {
          "base_uri": "https://localhost:8080/",
          "height": 316
        }
      },
      "source": [
        "# Let's compare OptB88vdW and TBmBJ bandgaps\n",
        "df2=df[['optb88vdw_bandgap','mbj_bandgap']].replace('na',np.nan).dropna()\n",
        "plt.plot(df2['mbj_bandgap'], df2['optb88vdw_bandgap'],'.')\n",
        "plt.plot(df2['mbj_bandgap'], df2['mbj_bandgap'])\n",
        "plt.xlim([0,10])\n",
        "plt.ylim([0,10])\n",
        "plt.xlabel('TBmBJ gap (eV)')\n",
        "plt.ylabel('OptB88vdW gap (eV)')\n",
        "plt.tight_layout()\n",
        "print ('Mats. with both OptB88vdW bandgaps', len(df['optb88vdw_bandgap']))\n",
        "print ('Mats. with both TBmBJ abd OptB88vdW bandgaps', len(df2['mbj_bandgap']))"
      ],
      "execution_count": 8,
      "outputs": [
        {
          "output_type": "stream",
          "name": "stdout",
          "text": [
            "Mats. with both OptB88vdW bandgaps 55723\n",
            "Mats. with both TBmBJ abd OptB88vdW bandgaps 18172\n"
          ]
        },
        {
          "output_type": "display_data",
          "data": {
            "text/plain": [
              "<Figure size 432x288 with 1 Axes>"
            ],
            "image/png": "[encoded data removed]"
          },
          "metadata": {
            "needs_background": "light"
          }
        }
      ]
    },
    {
      "cell_type": "markdown",
      "metadata": {
        "id": "Xo-NqusjwAXV"
      },
      "source": [
        "### Material-screening example: Let's find materials which has Bi element, has spin-orbit spillage >= 0.5, have OptB88vdW bandgaps > 0.1, energy above convex hull < 0.1 eV/atom , have SLME >5 %"
      ]
    },
    {
      "cell_type": "code",
      "metadata": {
        "id": "mJmu-lLHwAXZ"
      },
      "source": [
        "df3 = df[['optb88vdw_bandgap','spillage', 'ehull', 'slme', 'atoms', 'jid']].replace('na',np.nan).dropna()"
      ],
      "execution_count": null,
      "outputs": []
    },
    {
      "cell_type": "code",
      "metadata": {
        "id": "wo59jtmYwAXx"
      },
      "source": [
        "from jarvis.core.atoms import Atoms\n",
        "def has_element(atoms_dict = {}, my_element = 'Bi'):\n",
        "    atoms = Atoms.from_dict(atoms_dict)\n",
        "    elements = atoms.elements\n",
        "    if my_element in elements:\n",
        "        return True\n",
        "    else:\n",
        "        return np.nan\n",
        "    \n",
        "df3['el'] = df3['atoms'].apply(lambda x: has_element(atoms_dict = x, my_element = 'Bi'))\n",
        "df3['formula'] = df3['atoms'].apply(lambda x: Atoms.from_dict(x).composition.reduced_formula)"
      ],
      "execution_count": null,
      "outputs": []
    },
    {
      "cell_type": "code",
      "metadata": {
        "id": "FllvXD8WwAYC"
      },
      "source": [
        "df4 = df3.dropna()"
      ],
      "execution_count": null,
      "outputs": []
    },
    {
      "cell_type": "code",
      "metadata": {
        "id": "avYSs21zwAYd",
        "outputId": "b1afc29c-1ab6-4094-baa0-95768f9aaf69",
        "colab": {
          "base_uri": "https://localhost:8080/",
          "height": 300
        }
      },
      "source": [
        "df4[(df4['optb88vdw_bandgap'] >= .1) & (df4['spillage'] >=.5 ) & (df4['ehull'] <=.1 ) & (df4['slme'] >=5 )  ]"
      ],
      "execution_count": null,
      "outputs": [
        {
          "output_type": "execute_result",
          "data": {
            "text/plain": [
              "       optb88vdw_bandgap  spillage     ehull   slme  \\\n",
              "22949              0.634     2.072  0.000000  33.83   \n",
              "30538              0.419     2.040  0.000500  33.44   \n",
              "30854              0.719     1.091  0.045741  29.84   \n",
              "31873              0.104     0.710  0.000000  31.28   \n",
              "32562              0.223     2.051  0.000000  20.76   \n",
              "33126              0.555     2.094  0.000000  33.93   \n",
              "39278              0.245     2.044  0.000000  28.53   \n",
              "46861              0.159     2.118  0.000000  32.22   \n",
              "\n",
              "                                                   atoms          jid    el  \\\n",
              "22949  {'lattice_mat': [[2.3842715689309357, -4.12967...   JVASP-4050  True   \n",
              "30538  {'lattice_mat': [[5.2477952475750245, -3.63754...  JVASP-56110  True   \n",
              "30854  {'lattice_mat': [[4.260514703242369, 1.1598804...  JVASP-32759  True   \n",
              "31873  {'lattice_mat': [[-0.0, 3.9385699116371127, 3....  JVASP-40945  True   \n",
              "32562  {'lattice_mat': [[-0.0, 3.8360880678246505, 3....  JVASP-41154  True   \n",
              "33126  {'lattice_mat': [[4.899594431025933, 0.0, 0.0]...  JVASP-35067  True   \n",
              "39278  {'lattice_mat': [[5.479726453785257, -1.209409...  JVASP-18362  True   \n",
              "46861  {'lattice_mat': [[3.072973280516805, -5.322546...  JVASP-56367  True   \n",
              "\n",
              "        formula  \n",
              "22949  CaMg2Bi2  \n",
              "30538      K3Bi  \n",
              "30854      BiBr  \n",
              "31873    KNa2Bi  \n",
              "32562   Na2TlBi  \n",
              "33126     KMgBi  \n",
              "39278     Rb3Bi  \n",
              "46861      K3Bi  "
            ],
            "text/html": [
              "\n",
              "  <div id=\"df-93b420fb-3ee3-454d-8ebc-95108e64bf92\">\n",
              "    <div class=\"colab-df-container\">\n",
              "      <div>\n",
              "<style scoped>\n",
              "    .dataframe tbody tr th:only-of-type {\n",
              "        vertical-align: middle;\n",
              "    }\n",
              "\n",
              "    .dataframe tbody tr th {\n",
              "        vertical-align: top;\n",
              "    }\n",
              "\n",
              "    .dataframe thead th {\n",
              "        text-align: right;\n",
              "    }\n",
              "</style>\n",
              "<table border=\"1\" class=\"dataframe\">\n",
              "  <thead>\n",
              "    <tr style=\"text-align: right;\">\n",
              "      <th></th>\n",
              "      <th>optb88vdw_bandgap</th>\n",
              "      <th>spillage</th>\n",
              "      <th>ehull</th>\n",
              "      <th>slme</th>\n",
              "      <th>atoms</th>\n",
              "      <th>jid</th>\n",
              "      <th>el</th>\n",
              "      <th>formula</th>\n",
              "    </tr>\n",
              "  </thead>\n",
              "  <tbody>\n",
              "    <tr>\n",
              "      <th>22949</th>\n",
              "      <td>0.634</td>\n",
              "      <td>2.072</td>\n",
              "      <td>0.000000</td>\n",
              "      <td>33.83</td>\n",
              "      <td>{'lattice_mat': [[2.3842715689309357, -4.12967...</td>\n",
              "      <td>JVASP-4050</td>\n",
              "      <td>True</td>\n",
              "      <td>CaMg2Bi2</td>\n",
              "    </tr>\n",
              "    <tr>\n",
              "      <th>30538</th>\n",
              "      <td>0.419</td>\n",
              "      <td>2.040</td>\n",
              "      <td>0.000500</td>\n",
              "      <td>33.44</td>\n",
              "      <td>{'lattice_mat': [[5.2477952475750245, -3.63754...</td>\n",
              "      <td>JVASP-56110</td>\n",
              "      <td>True</td>\n",
              "      <td>K3Bi</td>\n",
              "    </tr>\n",
              "    <tr>\n",
              "      <th>30854</th>\n",
              "      <td>0.719</td>\n",
              "      <td>1.091</td>\n",
              "      <td>0.045741</td>\n",
              "      <td>29.84</td>\n",
              "      <td>{'lattice_mat': [[4.260514703242369, 1.1598804...</td>\n",
              "      <td>JVASP-32759</td>\n",
              "      <td>True</td>\n",
              "      <td>BiBr</td>\n",
              "    </tr>\n",
              "    <tr>\n",
              "      <th>31873</th>\n",
              "      <td>0.104</td>\n",
              "      <td>0.710</td>\n",
              "      <td>0.000000</td>\n",
              "      <td>31.28</td>\n",
              "      <td>{'lattice_mat': [[-0.0, 3.9385699116371127, 3....</td>\n",
              "      <td>JVASP-40945</td>\n",
              "      <td>True</td>\n",
              "      <td>KNa2Bi</td>\n",
              "    </tr>\n",
              "    <tr>\n",
              "      <th>32562</th>\n",
              "      <td>0.223</td>\n",
              "      <td>2.051</td>\n",
              "      <td>0.000000</td>\n",
              "      <td>20.76</td>\n",
              "      <td>{'lattice_mat': [[-0.0, 3.8360880678246505, 3....</td>\n",
              "      <td>JVASP-41154</td>\n",
              "      <td>True</td>\n",
              "      <td>Na2TlBi</td>\n",
              "    </tr>\n",
              "    <tr>\n",
              "      <th>33126</th>\n",
              "      <td>0.555</td>\n",
              "      <td>2.094</td>\n",
              "      <td>0.000000</td>\n",
              "      <td>33.93</td>\n",
              "      <td>{'lattice_mat': [[4.899594431025933, 0.0, 0.0]...</td>\n",
              "      <td>JVASP-35067</td>\n",
              "      <td>True</td>\n",
              "      <td>KMgBi</td>\n",
              "    </tr>\n",
              "    <tr>\n",
              "      <th>39278</th>\n",
              "      <td>0.245</td>\n",
              "      <td>2.044</td>\n",
              "      <td>0.000000</td>\n",
              "      <td>28.53</td>\n",
              "      <td>{'lattice_mat': [[5.479726453785257, -1.209409...</td>\n",
              "      <td>JVASP-18362</td>\n",
              "      <td>True</td>\n",
              "      <td>Rb3Bi</td>\n",
              "    </tr>\n",
              "    <tr>\n",
              "      <th>46861</th>\n",
              "      <td>0.159</td>\n",
              "      <td>2.118</td>\n",
              "      <td>0.000000</td>\n",
              "      <td>32.22</td>\n",
              "      <td>{'lattice_mat': [[3.072973280516805, -5.322546...</td>\n",
              "      <td>JVASP-56367</td>\n",
              "      <td>True</td>\n",
              "      <td>K3Bi</td>\n",
              "    </tr>\n",
              "  </tbody>\n",
              "</table>\n",
              "</div>\n",
              "      <button class=\"colab-df-convert\" onclick=\"convertToInteractive('df-93b420fb-3ee3-454d-8ebc-95108e64bf92')\"\n",
              "              title=\"Convert this dataframe to an interactive table.\"\n",
              "              style=\"display:none;\">\n",
              "        \n",
              "  <svg xmlns=\"http://www.w3.org/2000/svg\" height=\"24px\"viewBox=\"0 0 24 24\"\n",
              "       width=\"24px\">\n",
              "    <path d=\"M0 0h24v24H0V0z\" fill=\"none\"/>\n",
              "    <path d=\"M18.56 5.44l.94 2.06.94-2.06 2.06-.94-2.06-.94-.94-2.06-.94 2.06-2.06.94zm-11 1L8.5 8.5l.94-2.06 2.06-.94-2.06-.94L8.5 2.5l-.94 2.06-2.06.94zm10 10l.94 2.06.94-2.06 2.06-.94-2.06-.94-.94-2.06-.94 2.06-2.06.94z\"/><path d=\"M17.41 7.96l-1.37-1.37c-.4-.4-.92-.59-1.43-.59-.52 0-1.04.2-1.43.59L10.3 9.45l-7.72 7.72c-.78.78-.78 2.05 0 2.83L4 21.41c.39.39.9.59 1.41.59.51 0 1.02-.2 1.41-.59l7.78-7.78 2.81-2.81c.8-.78.8-2.07 0-2.86zM5.41 20L4 18.59l7.72-7.72 1.47 1.35L5.41 20z\"/>\n",
              "  </svg>\n",
              "      </button>\n",
              "      \n",
              "  <style>\n",
              "    .colab-df-container {\n",
              "      display:flex;\n",
              "      flex-wrap:wrap;\n",
              "      gap: 12px;\n",
              "    }\n",
              "\n",
              "    .colab-df-convert {\n",
              "      background-color: #E8F0FE;\n",
              "      border: none;\n",
              "      border-radius: 50%;\n",
              "      cursor: pointer;\n",
              "      display: none;\n",
              "      fill: #1967D2;\n",
              "      height: 32px;\n",
              "      padding: 0 0 0 0;\n",
              "      width: 32px;\n",
              "    }\n",
              "\n",
              "    .colab-df-convert:hover {\n",
              "      background-color: #E2EBFA;\n",
              "      box-shadow: 0px 1px 2px rgba(60, 64, 67, 0.3), 0px 1px 3px 1px rgba(60, 64, 67, 0.15);\n",
              "      fill: #174EA6;\n",
              "    }\n",
              "\n",
              "    [theme=dark] .colab-df-convert {\n",
              "      background-color: #3B4455;\n",
              "      fill: #D2E3FC;\n",
              "    }\n",
              "\n",
              "    [theme=dark] .colab-df-convert:hover {\n",
              "      background-color: #434B5C;\n",
              "      box-shadow: 0px 1px 3px 1px rgba(0, 0, 0, 0.15);\n",
              "      filter: drop-shadow(0px 1px 2px rgba(0, 0, 0, 0.3));\n",
              "      fill: #FFFFFF;\n",
              "    }\n",
              "  </style>\n",
              "\n",
              "      <script>\n",
              "        const buttonEl =\n",
              "          document.querySelector('#df-93b420fb-3ee3-454d-8ebc-95108e64bf92 button.colab-df-convert');\n",
              "        buttonEl.style.display =\n",
              "          google.colab.kernel.accessAllowed ? 'block' : 'none';\n",
              "\n",
              "        async function convertToInteractive(key) {\n",
              "          const element = document.querySelector('#df-93b420fb-3ee3-454d-8ebc-95108e64bf92');\n",
              "          const dataTable =\n",
              "            await google.colab.kernel.invokeFunction('convertToInteractive',\n",
              "                                                     [key], {});\n",
              "          if (!dataTable) return;\n",
              "\n",
              "          const docLinkHtml = 'Like what you see? Visit the ' +\n",
              "            '<a target=\"_blank\" href=https://colab.research.google.com/notebooks/data_table.ipynb>data table notebook</a>'\n",
              "            + ' to learn more about interactive tables.';\n",
              "          element.innerHTML = '';\n",
              "          dataTable['output_type'] = 'display_data';\n",
              "          await google.colab.output.renderOutput(dataTable, element);\n",
              "          const docLink = document.createElement('div');\n",
              "          docLink.innerHTML = docLinkHtml;\n",
              "          element.appendChild(docLink);\n",
              "        }\n",
              "      </script>\n",
              "    </div>\n",
              "  </div>\n",
              "  "
            ]
          },
          "metadata": {},
          "execution_count": 11
        }
      ]
    },
    {
      "cell_type": "markdown",
      "metadata": {
        "id": "5-eZiXMVwAYv"
      },
      "source": [
        "### Find all cubic materials"
      ]
    },
    {
      "cell_type": "code",
      "source": [
        "df.columns"
      ],
      "metadata": {
        "id": "ibgdEO6uKhwL",
        "outputId": "d8e8d664-23b5-44b3-d138-38dca01b5d23",
        "colab": {
          "base_uri": "https://localhost:8080/"
        }
      },
      "execution_count": null,
      "outputs": [
        {
          "output_type": "execute_result",
          "data": {
            "text/plain": [
              "Index(['jid', 'spg_number', 'spg_symbol', 'formula',\n",
              "       'formation_energy_peratom', 'func', 'optb88vdw_bandgap', 'atoms',\n",
              "       'slme', 'magmom_oszicar', 'spillage', 'elastic_tensor',\n",
              "       'effective_masses_300K', 'kpoint_length_unit', 'maxdiff_mesh',\n",
              "       'maxdiff_bz', 'encut', 'optb88vdw_total_energy', 'epsx', 'epsy', 'epsz',\n",
              "       'mepsx', 'mepsy', 'mepsz', 'modes', 'magmom_outcar', 'max_efg',\n",
              "       'avg_elec_mass', 'avg_hole_mass', 'icsd', 'dfpt_piezo_max_eij',\n",
              "       'dfpt_piezo_max_dij', 'dfpt_piezo_max_dielectric',\n",
              "       'dfpt_piezo_max_dielectric_electronic',\n",
              "       'dfpt_piezo_max_dielectric_ionic', 'max_ir_mode', 'min_ir_mode',\n",
              "       'n-Seebeck', 'p-Seebeck', 'n-powerfact', 'p-powerfact', 'ncond',\n",
              "       'pcond', 'nkappa', 'pkappa', 'ehull', 'dimensionality', 'efg',\n",
              "       'xml_data_link', 'typ', 'exfoliation_energy', 'spg', 'crys', 'density',\n",
              "       'poisson', 'raw_files', 'nat', 'bulk_modulus_kv', 'shear_modulus_gv',\n",
              "       'mbj_bandgap', 'hse_gap', 'reference', 'search'],\n",
              "      dtype='object')"
            ]
          },
          "metadata": {},
          "execution_count": 12
        }
      ]
    },
    {
      "cell_type": "code",
      "metadata": {
        "id": "JrkvTd3xwAY1"
      },
      "source": [
        "# from jarvis.analysis.structure.spacegroup import Spacegroup3D\n",
        "# # Takes some time because we are running spacegroup analysis on all the materials\n",
        "# def crystal_system(atoms_dict={}):\n",
        "#     atoms = Atoms.from_dict(atoms_dict)\n",
        "#     system = Spacegroup3D(Atoms.from_dict(atoms_dict)).crystal_system\n",
        "#     return system\n",
        "# df['crystal_system'] = df['atoms'].apply(lambda x: crystal_system(atoms_dict = x))"
      ],
      "execution_count": null,
      "outputs": []
    },
    {
      "cell_type": "code",
      "metadata": {
        "id": "su-De2jfwAZN",
        "outputId": "1a930b62-144f-40f3-985d-c9675f417ae9",
        "colab": {
          "base_uri": "https://localhost:8080/"
        }
      },
      "source": [
        "len(df[df['crys']=='cubic'])"
      ],
      "execution_count": null,
      "outputs": [
        {
          "output_type": "execute_result",
          "data": {
            "text/plain": [
              "14822"
            ]
          },
          "metadata": {},
          "execution_count": 14
        }
      ]
    },
    {
      "cell_type": "code",
      "metadata": {
        "id": "5M96-qCPwAZf"
      },
      "source": [
        "# We can store the screened materials in a new json file\n",
        "# Note that the primitive cell can have non-equal lattice-constants but not the conventional cell\n",
        "from jarvis.db.jsonutils import dumpjson\n",
        "dumpjson(data = df[df['crys']=='cubic']['atoms'].values.tolist(), filename='all_cubic.json')"
      ],
      "execution_count": null,
      "outputs": []
    },
    {
      "cell_type": "markdown",
      "metadata": {
        "id": "lLQ2Vs57wAZz"
      },
      "source": [
        "### Working with 2D dataset"
      ]
    },
    {
      "cell_type": "code",
      "metadata": {
        "id": "BKNXs6ZewAZ4"
      },
      "source": [
        "df_2d=pd.DataFrame(dft_2d)"
      ],
      "execution_count": null,
      "outputs": []
    },
    {
      "cell_type": "code",
      "metadata": {
        "id": "j2YnHJULwAaK",
        "outputId": "ceeba44d-3f25-4947-b08b-1c87a2daea56",
        "colab": {
          "base_uri": "https://localhost:8080/"
        }
      },
      "source": [
        "df_2d.columns"
      ],
      "execution_count": null,
      "outputs": [
        {
          "output_type": "execute_result",
          "data": {
            "text/plain": [
              "Index(['jid', 'spg_number', 'spg_symbol', 'formula',\n",
              "       'formation_energy_peratom', 'func', 'optb88vdw_bandgap', 'atoms',\n",
              "       'slme', 'magmom_oszicar', 'spillage', 'elastic_tensor',\n",
              "       'effective_masses_300K', 'kpoint_length_unit', 'kpoints_array',\n",
              "       'maxdiff_mesh', 'maxdiff_bz', 'encut', 'optb88vdw_total_energy', 'epsx',\n",
              "       'epsy', 'epsz', 'mepsx', 'mepsy', 'mepsz', 'modes', 'magmom_outcar',\n",
              "       'icsd', 'dfpt_piezo_max_eij', 'dfpt_piezo_max_dij',\n",
              "       'dfpt_piezo_max_dielectric', 'dfpt_piezo_max_dielectric_electronic',\n",
              "       'dfpt_piezo_max_dielectric_ionic', 'max_ir_mode', 'min_ir_mode',\n",
              "       'n-Seebeck', 'p-Seebeck', 'n-powerfact', 'p-powerfact', 'ncond',\n",
              "       'pcond', 'nkappa', 'pkappa', 'ehull', 'dimensionality', 'efg',\n",
              "       'xml_data_link', 'typ', 'exfoliation_energy', 'spg', 'crys', 'density',\n",
              "       'poisson', 'raw_files', 'nat', 'bulk_modulus_kv', 'shear_modulus_gv',\n",
              "       'mbj_bandgap', 'hse_gap', 'reference', 'search', 'desc'],\n",
              "      dtype='object')"
            ]
          },
          "metadata": {},
          "execution_count": 17
        }
      ]
    },
    {
      "cell_type": "code",
      "metadata": {
        "id": "LEOmVT7AwAab",
        "outputId": "b5936e45-f737-4867-8b36-0f7026e3f3a3",
        "colab": {
          "base_uri": "https://localhost:8080/",
          "height": 313
        }
      },
      "source": [
        "val=np.array(df_2d['exfoliation_energy'].replace('na',np.nan).dropna().values,dtype='float')\n",
        "plt.hist(val,bins=np.arange(0,1000,10))\n",
        "#plt.ylabel('Materials distribution')\n",
        "plt.xlabel('Exfoliation energy (eV)')"
      ],
      "execution_count": null,
      "outputs": [
        {
          "output_type": "execute_result",
          "data": {
            "text/plain": [
              "Text(0.5, 0, 'Exfoliation energy (eV)')"
            ]
          },
          "metadata": {},
          "execution_count": 18
        },
        {
          "output_type": "display_data",
          "data": {
            "text/plain": [
              "<Figure size 432x288 with 1 Axes>"
            ],
            "image/png": "[encoded data removed]"
          },
          "metadata": {
            "needs_background": "light"
          }
        }
      ]
    },
    {
      "cell_type": "code",
      "metadata": {
        "id": "2SsGY1i1wAay"
      },
      "source": [
        "#Let's find exfoliable 2D materials with magnetic moment>0.5 muB , optb88vdw_bandgap > 0.05 and exfoliation_energy < 200"
      ],
      "execution_count": null,
      "outputs": []
    },
    {
      "cell_type": "code",
      "metadata": {
        "id": "iqwiMT1awAbI"
      },
      "source": [
        "df_2d_a = df_2d[['atoms', 'optb88vdw_bandgap','exfoliation_energy', 'magmom_oszicar','jid']].replace('na',np.nan).dropna()"
      ],
      "execution_count": null,
      "outputs": []
    },
    {
      "cell_type": "code",
      "metadata": {
        "id": "FFNvJD63wAbX"
      },
      "source": [
        "df_2d_a['formula'] = df_2d_a['atoms'].apply(lambda x: Atoms.from_dict(x).composition.reduced_formula)"
      ],
      "execution_count": null,
      "outputs": []
    },
    {
      "cell_type": "code",
      "metadata": {
        "id": "s4-zTSUgwAbv",
        "outputId": "37040ae6-cd6a-4daf-91ff-aa7dc691ee21",
        "colab": {
          "base_uri": "https://localhost:8080/",
          "height": 1000
        }
      },
      "source": [
        "df_2d_a[(df_2d_a['optb88vdw_bandgap'] >= .05) & (df_2d_a['exfoliation_energy'] <200 ) & (df_2d_a['magmom_oszicar'] >=.5  )  ]"
      ],
      "execution_count": null,
      "outputs": [
        {
          "output_type": "execute_result",
          "data": {
            "text/plain": [
              "                                                  atoms  optb88vdw_bandgap  \\\n",
              "54    {'lattice_mat': [[3.1107329622197213, 0.0, 0.0...              0.352   \n",
              "74    {'lattice_mat': [[6.342736616079045, 4.0756293...              1.470   \n",
              "75    {'lattice_mat': [[3.1979506617490285, 0.0, 0.0...              0.584   \n",
              "153   {'lattice_mat': [[6.058153846304347, 0.0, 0.0]...              0.248   \n",
              "155   {'lattice_mat': [[3.6393088883325624, 8.317665...              0.460   \n",
              "158   {'lattice_mat': [[4.585681019269083, 1.5713669...              1.729   \n",
              "165   {'lattice_mat': [[3.2651579585109913, -8.59494...              0.679   \n",
              "172   {'lattice_mat': [[5.825064631761128, 1.9232331...              0.106   \n",
              "174   {'lattice_mat': [[3.1825586772463623, 0.0, 0.0...              0.536   \n",
              "178   {'lattice_mat': [[3.307945107873234, 0.0, 0.0]...              0.238   \n",
              "198   {'lattice_mat': [[4.726991761386484, -0.007099...              1.301   \n",
              "213   {'lattice_mat': [[4.155774824936445, 0.0, 0.0]...              0.073   \n",
              "215   {'lattice_mat': [[5.421156987251578, 0.0, 0.0]...              0.297   \n",
              "270   {'lattice_mat': [[3.687470787206414, 0.0, 0.0]...              0.334   \n",
              "306   {'lattice_mat': [[6.164775515828787, -6.053545...              0.649   \n",
              "321   {'lattice_mat': [[2.8751641300955004, 1.030103...              0.906   \n",
              "453   {'lattice_mat': [[3.9236378902405673, 3.887692...              0.167   \n",
              "459   {'lattice_mat': [[7.4767712296553395, 0.0, 0.0...              0.144   \n",
              "473   {'lattice_mat': [[3.8039953527060177, 0.0, 0.0...              1.245   \n",
              "507   {'lattice_mat': [[3.626624525225858, 0.0, 0.0]...              1.336   \n",
              "530   {'lattice_mat': [[3.125072310051575, 0.0, 0.0]...              0.850   \n",
              "626   {'lattice_mat': [[4.771842448611107, -3.569678...              0.458   \n",
              "649   {'lattice_mat': [[5.950404426226264, 0.0, 0.0]...              0.977   \n",
              "682   {'lattice_mat': [[3.2972286999330724, 0.0, 0.0...              0.426   \n",
              "684   {'lattice_mat': [[7.047747582432169, -2.345885...              0.764   \n",
              "730   {'lattice_mat': [[6.827189141746868, 9.9808416...              0.558   \n",
              "733   {'lattice_mat': [[6.072311052981682, 0.0, 0.0]...              0.562   \n",
              "766   {'lattice_mat': [[4.117015872889953, -1e-16, 0...              1.044   \n",
              "841   {'lattice_mat': [[6.621200559103531, 7.3177935...              0.737   \n",
              "885   {'lattice_mat': [[3.67410494805411, 0.0, 0.0],...              1.659   \n",
              "892   {'lattice_mat': [[3.8440898595529083, -7.93142...              1.464   \n",
              "983   {'lattice_mat': [[4.1191584975120925, 0.0, 0.0...              0.302   \n",
              "992   {'lattice_mat': [[4.420317428643787, 5.4964924...              0.190   \n",
              "995   {'lattice_mat': [[1.7306705099908022, -2.99761...              0.939   \n",
              "997   {'lattice_mat': [[-3.6538782082231167, -4.0732...              0.610   \n",
              "1039  {'lattice_mat': [[3.4493232148119026, -5.97440...              0.405   \n",
              "1042  {'lattice_mat': [[-5.449213470871349, -3.62926...              0.774   \n",
              "\n",
              "      exfoliation_energy  magmom_oszicar          jid    formula  \n",
              "54             68.949500           2.000  JVASP-60589     NiTeO4  \n",
              "74             79.077625           6.000   JVASP-6088      CrBr3  \n",
              "75             38.934500           6.000  JVASP-27906      CrClO  \n",
              "153            66.609000           9.892  JVASP-75361      MnPS3  \n",
              "155            54.793286           1.969  JVASP-75357   NiC2S2N2  \n",
              "158           124.624000           5.000  JVASP-75350     LiFeF4  \n",
              "165            54.869667           4.000  JVASP-75331        VOF  \n",
              "172            57.939583           0.938  JVASP-75320    Co3TeO8  \n",
              "174            98.102800           5.999  JVASP-75319      LiVF3  \n",
              "178            66.857800           4.998  JVASP-27913     MnH2O2  \n",
              "198            91.035750           6.000  JVASP-75269      CrPO4  \n",
              "213            98.214250           6.000  JVASP-19524        UI3  \n",
              "215            69.908333           2.993  JVASP-13535     CoTeO4  \n",
              "270           161.296533           1.000  JVASP-14459       BiO2  \n",
              "306           163.736125           1.984  JVASP-75065      YbCl3  \n",
              "321            54.228667           2.999   JVASP-6922       MnO2  \n",
              "453            81.667950           1.931  JVASP-27920       NiI2  \n",
              "459            82.831733           7.998   JVASP-6397       CrI2  \n",
              "473            76.943667           3.000  JVASP-13546       VBr2  \n",
              "507            71.726433           3.001   JVASP-8879       VCl2  \n",
              "530            65.111600           2.000  JVASP-27754     NiH2O2  \n",
              "626            26.426545           3.000  JVASP-27971    CoCl2O8  \n",
              "649            65.552800           6.000  JVASP-27766   CrAgP2S6  \n",
              "682            41.459667           6.000   JVASP-6829      CrBrO  \n",
              "684            88.292464           3.997  JVASP-20035  Rb3Mo2Cl9  \n",
              "730            87.051500           5.998   JVASP-6319    CrSiTe3  \n",
              "733            95.031000           3.999   JVASP-6109      MoBr3  \n",
              "766            82.286733           4.997   JVASP-6031       MnI2  \n",
              "841            86.921111           2.998   JVASP-6211   ReAg2Cl6  \n",
              "885            67.520833           5.000   JVASP-6064      MnCl2  \n",
              "892            74.126233           5.000   JVASP-6067      MnBr2  \n",
              "983            93.654286           1.904  JVASP-60259     Pr2Br5  \n",
              "992            70.269600           3.999  JVASP-60280       UBr4  \n",
              "995            66.032433           1.999  JVASP-60287      NiCl2  \n",
              "997            73.588800           1.998  JVASP-60290      NiBr2  \n",
              "1039           89.476000           5.988  JVASP-60389    CrGeTe3  \n",
              "1042           72.203083           5.999  JVASP-60392      CrPS4  "
            ],
            "text/html": [
              "\n",
              "  <div id=\"df-20c6834c-0964-4fe5-aeec-6b0d468040bc\">\n",
              "    <div class=\"colab-df-container\">\n",
              "      <div>\n",
              "<style scoped>\n",
              "    .dataframe tbody tr th:only-of-type {\n",
              "        vertical-align: middle;\n",
              "    }\n",
              "\n",
              "    .dataframe tbody tr th {\n",
              "        vertical-align: top;\n",
              "    }\n",
              "\n",
              "    .dataframe thead th {\n",
              "        text-align: right;\n",
              "    }\n",
              "</style>\n",
              "<table border=\"1\" class=\"dataframe\">\n",
              "  <thead>\n",
              "    <tr style=\"text-align: right;\">\n",
              "      <th></th>\n",
              "      <th>atoms</th>\n",
              "      <th>optb88vdw_bandgap</th>\n",
              "      <th>exfoliation_energy</th>\n",
              "      <th>magmom_oszicar</th>\n",
              "      <th>jid</th>\n",
              "      <th>formula</th>\n",
              "    </tr>\n",
              "  </thead>\n",
              "  <tbody>\n",
              "    <tr>\n",
              "      <th>54</th>\n",
              "      <td>{'lattice_mat': [[3.1107329622197213, 0.0, 0.0...</td>\n",
              "      <td>0.352</td>\n",
              "      <td>68.949500</td>\n",
              "      <td>2.000</td>\n",
              "      <td>JVASP-60589</td>\n",
              "      <td>NiTeO4</td>\n",
              "    </tr>\n",
              "    <tr>\n",
              "      <th>74</th>\n",
              "      <td>{'lattice_mat': [[6.342736616079045, 4.0756293...</td>\n",
              "      <td>1.470</td>\n",
              "      <td>79.077625</td>\n",
              "      <td>6.000</td>\n",
              "      <td>JVASP-6088</td>\n",
              "      <td>CrBr3</td>\n",
              "    </tr>\n",
              "    <tr>\n",
              "      <th>75</th>\n",
              "      <td>{'lattice_mat': [[3.1979506617490285, 0.0, 0.0...</td>\n",
              "      <td>0.584</td>\n",
              "      <td>38.934500</td>\n",
              "      <td>6.000</td>\n",
              "      <td>JVASP-27906</td>\n",
              "      <td>CrClO</td>\n",
              "    </tr>\n",
              "    <tr>\n",
              "      <th>153</th>\n",
              "      <td>{'lattice_mat': [[6.058153846304347, 0.0, 0.0]...</td>\n",
              "      <td>0.248</td>\n",
              "      <td>66.609000</td>\n",
              "      <td>9.892</td>\n",
              "      <td>JVASP-75361</td>\n",
              "      <td>MnPS3</td>\n",
              "    </tr>\n",
              "    <tr>\n",
              "      <th>155</th>\n",
              "      <td>{'lattice_mat': [[3.6393088883325624, 8.317665...</td>\n",
              "      <td>0.460</td>\n",
              "      <td>54.793286</td>\n",
              "      <td>1.969</td>\n",
              "      <td>JVASP-75357</td>\n",
              "      <td>NiC2S2N2</td>\n",
              "    </tr>\n",
              "    <tr>\n",
              "      <th>158</th>\n",
              "      <td>{'lattice_mat': [[4.585681019269083, 1.5713669...</td>\n",
              "      <td>1.729</td>\n",
              "      <td>124.624000</td>\n",
              "      <td>5.000</td>\n",
              "      <td>JVASP-75350</td>\n",
              "      <td>LiFeF4</td>\n",
              "    </tr>\n",
              "    <tr>\n",
              "      <th>165</th>\n",
              "      <td>{'lattice_mat': [[3.2651579585109913, -8.59494...</td>\n",
              "      <td>0.679</td>\n",
              "      <td>54.869667</td>\n",
              "      <td>4.000</td>\n",
              "      <td>JVASP-75331</td>\n",
              "      <td>VOF</td>\n",
              "    </tr>\n",
              "    <tr>\n",
              "      <th>172</th>\n",
              "      <td>{'lattice_mat': [[5.825064631761128, 1.9232331...</td>\n",
              "      <td>0.106</td>\n",
              "      <td>57.939583</td>\n",
              "      <td>0.938</td>\n",
              "      <td>JVASP-75320</td>\n",
              "      <td>Co3TeO8</td>\n",
              "    </tr>\n",
              "    <tr>\n",
              "      <th>174</th>\n",
              "      <td>{'lattice_mat': [[3.1825586772463623, 0.0, 0.0...</td>\n",
              "      <td>0.536</td>\n",
              "      <td>98.102800</td>\n",
              "      <td>5.999</td>\n",
              "      <td>JVASP-75319</td>\n",
              "      <td>LiVF3</td>\n",
              "    </tr>\n",
              "    <tr>\n",
              "      <th>178</th>\n",
              "      <td>{'lattice_mat': [[3.307945107873234, 0.0, 0.0]...</td>\n",
              "      <td>0.238</td>\n",
              "      <td>66.857800</td>\n",
              "      <td>4.998</td>\n",
              "      <td>JVASP-27913</td>\n",
              "      <td>MnH2O2</td>\n",
              "    </tr>\n",
              "    <tr>\n",
              "      <th>198</th>\n",
              "      <td>{'lattice_mat': [[4.726991761386484, -0.007099...</td>\n",
              "      <td>1.301</td>\n",
              "      <td>91.035750</td>\n",
              "      <td>6.000</td>\n",
              "      <td>JVASP-75269</td>\n",
              "      <td>CrPO4</td>\n",
              "    </tr>\n",
              "    <tr>\n",
              "      <th>213</th>\n",
              "      <td>{'lattice_mat': [[4.155774824936445, 0.0, 0.0]...</td>\n",
              "      <td>0.073</td>\n",
              "      <td>98.214250</td>\n",
              "      <td>6.000</td>\n",
              "      <td>JVASP-19524</td>\n",
              "      <td>UI3</td>\n",
              "    </tr>\n",
              "    <tr>\n",
              "      <th>215</th>\n",
              "      <td>{'lattice_mat': [[5.421156987251578, 0.0, 0.0]...</td>\n",
              "      <td>0.297</td>\n",
              "      <td>69.908333</td>\n",
              "      <td>2.993</td>\n",
              "      <td>JVASP-13535</td>\n",
              "      <td>CoTeO4</td>\n",
              "    </tr>\n",
              "    <tr>\n",
              "      <th>270</th>\n",
              "      <td>{'lattice_mat': [[3.687470787206414, 0.0, 0.0]...</td>\n",
              "      <td>0.334</td>\n",
              "      <td>161.296533</td>\n",
              "      <td>1.000</td>\n",
              "      <td>JVASP-14459</td>\n",
              "      <td>BiO2</td>\n",
              "    </tr>\n",
              "    <tr>\n",
              "      <th>306</th>\n",
              "      <td>{'lattice_mat': [[6.164775515828787, -6.053545...</td>\n",
              "      <td>0.649</td>\n",
              "      <td>163.736125</td>\n",
              "      <td>1.984</td>\n",
              "      <td>JVASP-75065</td>\n",
              "      <td>YbCl3</td>\n",
              "    </tr>\n",
              "    <tr>\n",
              "      <th>321</th>\n",
              "      <td>{'lattice_mat': [[2.8751641300955004, 1.030103...</td>\n",
              "      <td>0.906</td>\n",
              "      <td>54.228667</td>\n",
              "      <td>2.999</td>\n",
              "      <td>JVASP-6922</td>\n",
              "      <td>MnO2</td>\n",
              "    </tr>\n",
              "    <tr>\n",
              "      <th>453</th>\n",
              "      <td>{'lattice_mat': [[3.9236378902405673, 3.887692...</td>\n",
              "      <td>0.167</td>\n",
              "      <td>81.667950</td>\n",
              "      <td>1.931</td>\n",
              "      <td>JVASP-27920</td>\n",
              "      <td>NiI2</td>\n",
              "    </tr>\n",
              "    <tr>\n",
              "      <th>459</th>\n",
              "      <td>{'lattice_mat': [[7.4767712296553395, 0.0, 0.0...</td>\n",
              "      <td>0.144</td>\n",
              "      <td>82.831733</td>\n",
              "      <td>7.998</td>\n",
              "      <td>JVASP-6397</td>\n",
              "      <td>CrI2</td>\n",
              "    </tr>\n",
              "    <tr>\n",
              "      <th>473</th>\n",
              "      <td>{'lattice_mat': [[3.8039953527060177, 0.0, 0.0...</td>\n",
              "      <td>1.245</td>\n",
              "      <td>76.943667</td>\n",
              "      <td>3.000</td>\n",
              "      <td>JVASP-13546</td>\n",
              "      <td>VBr2</td>\n",
              "    </tr>\n",
              "    <tr>\n",
              "      <th>507</th>\n",
              "      <td>{'lattice_mat': [[3.626624525225858, 0.0, 0.0]...</td>\n",
              "      <td>1.336</td>\n",
              "      <td>71.726433</td>\n",
              "      <td>3.001</td>\n",
              "      <td>JVASP-8879</td>\n",
              "      <td>VCl2</td>\n",
              "    </tr>\n",
              "    <tr>\n",
              "      <th>530</th>\n",
              "      <td>{'lattice_mat': [[3.125072310051575, 0.0, 0.0]...</td>\n",
              "      <td>0.850</td>\n",
              "      <td>65.111600</td>\n",
              "      <td>2.000</td>\n",
              "      <td>JVASP-27754</td>\n",
              "      <td>NiH2O2</td>\n",
              "    </tr>\n",
              "    <tr>\n",
              "      <th>626</th>\n",
              "      <td>{'lattice_mat': [[4.771842448611107, -3.569678...</td>\n",
              "      <td>0.458</td>\n",
              "      <td>26.426545</td>\n",
              "      <td>3.000</td>\n",
              "      <td>JVASP-27971</td>\n",
              "      <td>CoCl2O8</td>\n",
              "    </tr>\n",
              "    <tr>\n",
              "      <th>649</th>\n",
              "      <td>{'lattice_mat': [[5.950404426226264, 0.0, 0.0]...</td>\n",
              "      <td>0.977</td>\n",
              "      <td>65.552800</td>\n",
              "      <td>6.000</td>\n",
              "      <td>JVASP-27766</td>\n",
              "      <td>CrAgP2S6</td>\n",
              "    </tr>\n",
              "    <tr>\n",
              "      <th>682</th>\n",
              "      <td>{'lattice_mat': [[3.2972286999330724, 0.0, 0.0...</td>\n",
              "      <td>0.426</td>\n",
              "      <td>41.459667</td>\n",
              "      <td>6.000</td>\n",
              "      <td>JVASP-6829</td>\n",
              "      <td>CrBrO</td>\n",
              "    </tr>\n",
              "    <tr>\n",
              "      <th>684</th>\n",
              "      <td>{'lattice_mat': [[7.047747582432169, -2.345885...</td>\n",
              "      <td>0.764</td>\n",
              "      <td>88.292464</td>\n",
              "      <td>3.997</td>\n",
              "      <td>JVASP-20035</td>\n",
              "      <td>Rb3Mo2Cl9</td>\n",
              "    </tr>\n",
              "    <tr>\n",
              "      <th>730</th>\n",
              "      <td>{'lattice_mat': [[6.827189141746868, 9.9808416...</td>\n",
              "      <td>0.558</td>\n",
              "      <td>87.051500</td>\n",
              "      <td>5.998</td>\n",
              "      <td>JVASP-6319</td>\n",
              "      <td>CrSiTe3</td>\n",
              "    </tr>\n",
              "    <tr>\n",
              "      <th>733</th>\n",
              "      <td>{'lattice_mat': [[6.072311052981682, 0.0, 0.0]...</td>\n",
              "      <td>0.562</td>\n",
              "      <td>95.031000</td>\n",
              "      <td>3.999</td>\n",
              "      <td>JVASP-6109</td>\n",
              "      <td>MoBr3</td>\n",
              "    </tr>\n",
              "    <tr>\n",
              "      <th>766</th>\n",
              "      <td>{'lattice_mat': [[4.117015872889953, -1e-16, 0...</td>\n",
              "      <td>1.044</td>\n",
              "      <td>82.286733</td>\n",
              "      <td>4.997</td>\n",
              "      <td>JVASP-6031</td>\n",
              "      <td>MnI2</td>\n",
              "    </tr>\n",
              "    <tr>\n",
              "      <th>841</th>\n",
              "      <td>{'lattice_mat': [[6.621200559103531, 7.3177935...</td>\n",
              "      <td>0.737</td>\n",
              "      <td>86.921111</td>\n",
              "      <td>2.998</td>\n",
              "      <td>JVASP-6211</td>\n",
              "      <td>ReAg2Cl6</td>\n",
              "    </tr>\n",
              "    <tr>\n",
              "      <th>885</th>\n",
              "      <td>{'lattice_mat': [[3.67410494805411, 0.0, 0.0],...</td>\n",
              "      <td>1.659</td>\n",
              "      <td>67.520833</td>\n",
              "      <td>5.000</td>\n",
              "      <td>JVASP-6064</td>\n",
              "      <td>MnCl2</td>\n",
              "    </tr>\n",
              "    <tr>\n",
              "      <th>892</th>\n",
              "      <td>{'lattice_mat': [[3.8440898595529083, -7.93142...</td>\n",
              "      <td>1.464</td>\n",
              "      <td>74.126233</td>\n",
              "      <td>5.000</td>\n",
              "      <td>JVASP-6067</td>\n",
              "      <td>MnBr2</td>\n",
              "    </tr>\n",
              "    <tr>\n",
              "      <th>983</th>\n",
              "      <td>{'lattice_mat': [[4.1191584975120925, 0.0, 0.0...</td>\n",
              "      <td>0.302</td>\n",
              "      <td>93.654286</td>\n",
              "      <td>1.904</td>\n",
              "      <td>JVASP-60259</td>\n",
              "      <td>Pr2Br5</td>\n",
              "    </tr>\n",
              "    <tr>\n",
              "      <th>992</th>\n",
              "      <td>{'lattice_mat': [[4.420317428643787, 5.4964924...</td>\n",
              "      <td>0.190</td>\n",
              "      <td>70.269600</td>\n",
              "      <td>3.999</td>\n",
              "      <td>JVASP-60280</td>\n",
              "      <td>UBr4</td>\n",
              "    </tr>\n",
              "    <tr>\n",
              "      <th>995</th>\n",
              "      <td>{'lattice_mat': [[1.7306705099908022, -2.99761...</td>\n",
              "      <td>0.939</td>\n",
              "      <td>66.032433</td>\n",
              "      <td>1.999</td>\n",
              "      <td>JVASP-60287</td>\n",
              "      <td>NiCl2</td>\n",
              "    </tr>\n",
              "    <tr>\n",
              "      <th>997</th>\n",
              "      <td>{'lattice_mat': [[-3.6538782082231167, -4.0732...</td>\n",
              "      <td>0.610</td>\n",
              "      <td>73.588800</td>\n",
              "      <td>1.998</td>\n",
              "      <td>JVASP-60290</td>\n",
              "      <td>NiBr2</td>\n",
              "    </tr>\n",
              "    <tr>\n",
              "      <th>1039</th>\n",
              "      <td>{'lattice_mat': [[3.4493232148119026, -5.97440...</td>\n",
              "      <td>0.405</td>\n",
              "      <td>89.476000</td>\n",
              "      <td>5.988</td>\n",
              "      <td>JVASP-60389</td>\n",
              "      <td>CrGeTe3</td>\n",
              "    </tr>\n",
              "    <tr>\n",
              "      <th>1042</th>\n",
              "      <td>{'lattice_mat': [[-5.449213470871349, -3.62926...</td>\n",
              "      <td>0.774</td>\n",
              "      <td>72.203083</td>\n",
              "      <td>5.999</td>\n",
              "      <td>JVASP-60392</td>\n",
              "      <td>CrPS4</td>\n",
              "    </tr>\n",
              "  </tbody>\n",
              "</table>\n",
              "</div>\n",
              "      <button class=\"colab-df-convert\" onclick=\"convertToInteractive('df-20c6834c-0964-4fe5-aeec-6b0d468040bc')\"\n",
              "              title=\"Convert this dataframe to an interactive table.\"\n",
              "              style=\"display:none;\">\n",
              "        \n",
              "  <svg xmlns=\"http://www.w3.org/2000/svg\" height=\"24px\"viewBox=\"0 0 24 24\"\n",
              "       width=\"24px\">\n",
              "    <path d=\"M0 0h24v24H0V0z\" fill=\"none\"/>\n",
              "    <path d=\"M18.56 5.44l.94 2.06.94-2.06 2.06-.94-2.06-.94-.94-2.06-.94 2.06-2.06.94zm-11 1L8.5 8.5l.94-2.06 2.06-.94-2.06-.94L8.5 2.5l-.94 2.06-2.06.94zm10 10l.94 2.06.94-2.06 2.06-.94-2.06-.94-.94-2.06-.94 2.06-2.06.94z\"/><path d=\"M17.41 7.96l-1.37-1.37c-.4-.4-.92-.59-1.43-.59-.52 0-1.04.2-1.43.59L10.3 9.45l-7.72 7.72c-.78.78-.78 2.05 0 2.83L4 21.41c.39.39.9.59 1.41.59.51 0 1.02-.2 1.41-.59l7.78-7.78 2.81-2.81c.8-.78.8-2.07 0-2.86zM5.41 20L4 18.59l7.72-7.72 1.47 1.35L5.41 20z\"/>\n",
              "  </svg>\n",
              "      </button>\n",
              "      \n",
              "  <style>\n",
              "    .colab-df-container {\n",
              "      display:flex;\n",
              "      flex-wrap:wrap;\n",
              "      gap: 12px;\n",
              "    }\n",
              "\n",
              "    .colab-df-convert {\n",
              "      background-color: #E8F0FE;\n",
              "      border: none;\n",
              "      border-radius: 50%;\n",
              "      cursor: pointer;\n",
              "      display: none;\n",
              "      fill: #1967D2;\n",
              "      height: 32px;\n",
              "      padding: 0 0 0 0;\n",
              "      width: 32px;\n",
              "    }\n",
              "\n",
              "    .colab-df-convert:hover {\n",
              "      background-color: #E2EBFA;\n",
              "      box-shadow: 0px 1px 2px rgba(60, 64, 67, 0.3), 0px 1px 3px 1px rgba(60, 64, 67, 0.15);\n",
              "      fill: #174EA6;\n",
              "    }\n",
              "\n",
              "    [theme=dark] .colab-df-convert {\n",
              "      background-color: #3B4455;\n",
              "      fill: #D2E3FC;\n",
              "    }\n",
              "\n",
              "    [theme=dark] .colab-df-convert:hover {\n",
              "      background-color: #434B5C;\n",
              "      box-shadow: 0px 1px 3px 1px rgba(0, 0, 0, 0.15);\n",
              "      filter: drop-shadow(0px 1px 2px rgba(0, 0, 0, 0.3));\n",
              "      fill: #FFFFFF;\n",
              "    }\n",
              "  </style>\n",
              "\n",
              "      <script>\n",
              "        const buttonEl =\n",
              "          document.querySelector('#df-20c6834c-0964-4fe5-aeec-6b0d468040bc button.colab-df-convert');\n",
              "        buttonEl.style.display =\n",
              "          google.colab.kernel.accessAllowed ? 'block' : 'none';\n",
              "\n",
              "        async function convertToInteractive(key) {\n",
              "          const element = document.querySelector('#df-20c6834c-0964-4fe5-aeec-6b0d468040bc');\n",
              "          const dataTable =\n",
              "            await google.colab.kernel.invokeFunction('convertToInteractive',\n",
              "                                                     [key], {});\n",
              "          if (!dataTable) return;\n",
              "\n",
              "          const docLinkHtml = 'Like what you see? Visit the ' +\n",
              "            '<a target=\"_blank\" href=https://colab.research.google.com/notebooks/data_table.ipynb>data table notebook</a>'\n",
              "            + ' to learn more about interactive tables.';\n",
              "          element.innerHTML = '';\n",
              "          dataTable['output_type'] = 'display_data';\n",
              "          await google.colab.output.renderOutput(dataTable, element);\n",
              "          const docLink = document.createElement('div');\n",
              "          docLink.innerHTML = docLinkHtml;\n",
              "          element.appendChild(docLink);\n",
              "        }\n",
              "      </script>\n",
              "    </div>\n",
              "  </div>\n",
              "  "
            ]
          },
          "metadata": {},
          "execution_count": 22
        }
      ]
    },
    {
      "cell_type": "code",
      "metadata": {
        "id": "zY6KPEJWwAcA"
      },
      "source": [],
      "execution_count": null,
      "outputs": []
    }
  ]
}