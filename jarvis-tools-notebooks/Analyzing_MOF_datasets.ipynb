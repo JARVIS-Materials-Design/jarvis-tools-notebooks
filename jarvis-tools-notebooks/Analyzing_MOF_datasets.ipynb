{
  "nbformat": 4,
  "nbformat_minor": 0,
  "metadata": {
    "kernelspec": {
      "display_name": "Python 3",
      "language": "python",
      "name": "python3"
    },
    "language_info": {
      "codemirror_mode": {
        "name": "ipython",
        "version": 3
      },
      "file_extension": ".py",
      "mimetype": "text/x-python",
      "name": "python",
      "nbconvert_exporter": "python",
      "pygments_lexer": "ipython3",
      "version": "3.6.7"
    },
    "colab": {
      "name": "Analyzing data in the MOF datasets.ipynb",
      "provenance": [],
      "include_colab_link": true
    }
  },
  "cells": [
    {
      "cell_type": "markdown",
      "metadata": {
        "id": "view-in-github",
        "colab_type": "text"
      },
      "source": [
        "<a href=\"https://colab.research.google.com/github/knc6/jarvis-tools-notebooks/blob/master/jarvis-tools-notebooks/Analyzing_MOF_datasets.ipynb\" target=\"_parent\"><img src=\"https://colab.research.google.com/assets/colab-badge.svg\" alt=\"Open In Colab\"/></a>"
      ]
    },
    {
      "cell_type": "code",
      "metadata": {
        "id": "M5yTngAGwIy0",
        "colab": {
          "base_uri": "https://localhost:8080/"
        },
        "outputId": "00480c9d-5215-44d9-e9ad-ae8f5a834a5b"
      },
      "source": [
        "!pip install jarvis-tools"
      ],
      "execution_count": 1,
      "outputs": [
        {
          "output_type": "stream",
          "text": [
            "Collecting jarvis-tools\n",
            "  Downloading jarvis_tools-2021.8.5-py2.py3-none-any.whl (945 kB)\n",
            "\u001b[K     |████████████████████████████████| 945 kB 5.0 MB/s \n",
            "\u001b[?25hRequirement already satisfied: toolz>=0.9.0 in /usr/local/lib/python3.7/dist-packages (from jarvis-tools) (0.11.1)\n",
            "Requirement already satisfied: tqdm>=4.41.1 in /usr/local/lib/python3.7/dist-packages (from jarvis-tools) (4.41.1)\n",
            "Collecting spglib>=1.14.1\n",
            "  Downloading spglib-1.16.1-cp37-cp37m-manylinux2010_x86_64.whl (296 kB)\n",
            "\u001b[K     |████████████████████████████████| 296 kB 17.6 MB/s \n",
            "\u001b[?25hRequirement already satisfied: joblib>=0.14.1 in /usr/local/lib/python3.7/dist-packages (from jarvis-tools) (1.0.1)\n",
            "Requirement already satisfied: numpy>=1.19.5 in /usr/local/lib/python3.7/dist-packages (from jarvis-tools) (1.19.5)\n",
            "Requirement already satisfied: scipy>=1.4.1 in /usr/local/lib/python3.7/dist-packages (from jarvis-tools) (1.4.1)\n",
            "Requirement already satisfied: matplotlib>=3.0.0 in /usr/local/lib/python3.7/dist-packages (from jarvis-tools) (3.2.2)\n",
            "Requirement already satisfied: requests>=2.23.0 in /usr/local/lib/python3.7/dist-packages (from jarvis-tools) (2.23.0)\n",
            "Collecting xmltodict>=0.11.0\n",
            "  Downloading xmltodict-0.12.0-py2.py3-none-any.whl (9.2 kB)\n",
            "Requirement already satisfied: pyparsing!=2.0.4,!=2.1.2,!=2.1.6,>=2.0.1 in /usr/local/lib/python3.7/dist-packages (from matplotlib>=3.0.0->jarvis-tools) (2.4.7)\n",
            "Requirement already satisfied: cycler>=0.10 in /usr/local/lib/python3.7/dist-packages (from matplotlib>=3.0.0->jarvis-tools) (0.10.0)\n",
            "Requirement already satisfied: python-dateutil>=2.1 in /usr/local/lib/python3.7/dist-packages (from matplotlib>=3.0.0->jarvis-tools) (2.8.1)\n",
            "Requirement already satisfied: kiwisolver>=1.0.1 in /usr/local/lib/python3.7/dist-packages (from matplotlib>=3.0.0->jarvis-tools) (1.3.1)\n",
            "Requirement already satisfied: six in /usr/local/lib/python3.7/dist-packages (from cycler>=0.10->matplotlib>=3.0.0->jarvis-tools) (1.15.0)\n",
            "Requirement already satisfied: certifi>=2017.4.17 in /usr/local/lib/python3.7/dist-packages (from requests>=2.23.0->jarvis-tools) (2021.5.30)\n",
            "Requirement already satisfied: chardet<4,>=3.0.2 in /usr/local/lib/python3.7/dist-packages (from requests>=2.23.0->jarvis-tools) (3.0.4)\n",
            "Requirement already satisfied: idna<3,>=2.5 in /usr/local/lib/python3.7/dist-packages (from requests>=2.23.0->jarvis-tools) (2.10)\n",
            "Requirement already satisfied: urllib3!=1.25.0,!=1.25.1,<1.26,>=1.21.1 in /usr/local/lib/python3.7/dist-packages (from requests>=2.23.0->jarvis-tools) (1.24.3)\n",
            "Installing collected packages: xmltodict, spglib, jarvis-tools\n",
            "Successfully installed jarvis-tools-2021.8.5 spglib-1.16.1 xmltodict-0.12.0\n"
          ],
          "name": "stdout"
        }
      ]
    },
    {
      "cell_type": "markdown",
      "metadata": {
        "id": "q12LaGKNwAUf"
      },
      "source": [
        "### We have prepared a basic json file with meta-data associated with JARVIS-DFT. So, first let's import jarvis-dft metadata from the figshre repository. This has been built as a module in the jarvis-tools\n"
      ]
    },
    {
      "cell_type": "code",
      "metadata": {
        "id": "CzdszIiKwAUk",
        "colab": {
          "base_uri": "https://localhost:8080/"
        },
        "outputId": "6de8f97d-0623-400c-8261-191dd8599fb8"
      },
      "source": [
        "# !pip install jarvis-tools, and restart runtime in the notebook if you haven't installed it yet\n",
        "from jarvis.db.figshare import data\n",
        "\n",
        "qmof = data('qmof')\n"
      ],
      "execution_count": 2,
      "outputs": [
        {
          "output_type": "stream",
          "text": [
            "Obtaining QMOF dataset 18k...\n",
            "Reference:https://www.cell.com/matter/fulltext/S2590-2385(21)00070-9\n"
          ],
          "name": "stdout"
        },
        {
          "output_type": "stream",
          "text": [
            "100%|██████████| 55.0M/55.0M [00:03<00:00, 17.4MiB/s]\n"
          ],
          "name": "stderr"
        },
        {
          "output_type": "stream",
          "text": [
            "Loading the zipfile...\n",
            "Loading completed.\n"
          ],
          "name": "stdout"
        }
      ]
    },
    {
      "cell_type": "code",
      "metadata": {
        "id": "VU7_uav2wAVN",
        "colab": {
          "base_uri": "https://localhost:8080/"
        },
        "outputId": "3be5b48a-3197-46a1-c5fd-5a6e2352d9d0"
      },
      "source": [
        "# data-size\n",
        "print (len(qmof))"
      ],
      "execution_count": 3,
      "outputs": [
        {
          "output_type": "stream",
          "text": [
            "18321\n"
          ],
          "name": "stdout"
        }
      ]
    },
    {
      "cell_type": "code",
      "metadata": {
        "id": "PohqUYrVwAVm"
      },
      "source": [
        "# let's make a pandas dataframe from the figshare json file\n",
        "# pip install pandas, if you haven't installed yet\n",
        "import pandas as pd\n",
        "import numpy as np\n",
        "\n",
        "df=pd.DataFrame(qmof)"
      ],
      "execution_count": 4,
      "outputs": []
    },
    {
      "cell_type": "code",
      "metadata": {
        "id": "-m9BFco-wAWB",
        "colab": {
          "base_uri": "https://localhost:8080/"
        },
        "outputId": "663094ed-695b-4c67-9d7e-9f9c89ec3647"
      },
      "source": [
        "# Keys in the json file\n",
        "print (df.columns, len(df.columns))"
      ],
      "execution_count": 5,
      "outputs": [
        {
          "output_type": "stream",
          "text": [
            "Index(['id', 'formula', 'atoms', 'energy_total', 'bandgap', 'net_magmom'], dtype='object') 6\n"
          ],
          "name": "stdout"
        }
      ]
    },
    {
      "cell_type": "code",
      "metadata": {
        "id": "1bPBk0s6TKJk",
        "outputId": "f3050d9f-9911-4927-9f0a-8e00a2199d3e",
        "colab": {
          "base_uri": "https://localhost:8080/",
          "height": 419
        }
      },
      "source": [
        "df"
      ],
      "execution_count": 14,
      "outputs": [
        {
          "output_type": "execute_result",
          "data": {
            "text/html": [
              "<div>\n",
              "<style scoped>\n",
              "    .dataframe tbody tr th:only-of-type {\n",
              "        vertical-align: middle;\n",
              "    }\n",
              "\n",
              "    .dataframe tbody tr th {\n",
              "        vertical-align: top;\n",
              "    }\n",
              "\n",
              "    .dataframe thead th {\n",
              "        text-align: right;\n",
              "    }\n",
              "</style>\n",
              "<table border=\"1\" class=\"dataframe\">\n",
              "  <thead>\n",
              "    <tr style=\"text-align: right;\">\n",
              "      <th></th>\n",
              "      <th>id</th>\n",
              "      <th>formula</th>\n",
              "      <th>atoms</th>\n",
              "      <th>energy_total</th>\n",
              "      <th>bandgap</th>\n",
              "      <th>net_magmom</th>\n",
              "      <th>natoms</th>\n",
              "    </tr>\n",
              "  </thead>\n",
              "  <tbody>\n",
              "    <tr>\n",
              "      <th>0</th>\n",
              "      <td>ABACUF01_FSR</td>\n",
              "      <td>Ba2CuC6H14O16</td>\n",
              "      <td>{'lattice_mat': [[-6.573085952, -0.028973028, ...</td>\n",
              "      <td>-238.661235</td>\n",
              "      <td>0.635073</td>\n",
              "      <td>1.0</td>\n",
              "      <td>39</td>\n",
              "    </tr>\n",
              "    <tr>\n",
              "      <th>1</th>\n",
              "      <td>ABAFUH_FSR</td>\n",
              "      <td>Cu8C36H32O16</td>\n",
              "      <td>{'lattice_mat': [[5.143733494, -2.2707e-05, 1....</td>\n",
              "      <td>-582.016017</td>\n",
              "      <td>2.193039</td>\n",
              "      <td>0.0</td>\n",
              "      <td>92</td>\n",
              "    </tr>\n",
              "    <tr>\n",
              "      <th>2</th>\n",
              "      <td>ABALOF_FSR</td>\n",
              "      <td>Cu12C36H56I16N4S4</td>\n",
              "      <td>{'lattice_mat': [[11.015890151, 0.0, 0.0], [-3...</td>\n",
              "      <td>-672.046744</td>\n",
              "      <td>1.134232</td>\n",
              "      <td>0.0</td>\n",
              "      <td>128</td>\n",
              "    </tr>\n",
              "    <tr>\n",
              "      <th>3</th>\n",
              "      <td>ABAVIJ_FSR</td>\n",
              "      <td>Co4C48H32N8O16</td>\n",
              "      <td>{'lattice_mat': [[-9.249964728, 0.10854619, -3...</td>\n",
              "      <td>-759.996078</td>\n",
              "      <td>0.345448</td>\n",
              "      <td>12.0</td>\n",
              "      <td>108</td>\n",
              "    </tr>\n",
              "    <tr>\n",
              "      <th>4</th>\n",
              "      <td>ABAVOP_FSR</td>\n",
              "      <td>Co4C48H32N8O16</td>\n",
              "      <td>{'lattice_mat': [[9.806075328, 0.108025938, 8....</td>\n",
              "      <td>-760.103362</td>\n",
              "      <td>0.342645</td>\n",
              "      <td>12.0</td>\n",
              "      <td>108</td>\n",
              "    </tr>\n",
              "    <tr>\n",
              "      <th>...</th>\n",
              "      <td>...</td>\n",
              "      <td>...</td>\n",
              "      <td>...</td>\n",
              "      <td>...</td>\n",
              "      <td>...</td>\n",
              "      <td>...</td>\n",
              "      <td>...</td>\n",
              "    </tr>\n",
              "    <tr>\n",
              "      <th>18316</th>\n",
              "      <td>tobacco_SR_tty_v1-8c_Zr_1_Ch_v2-3c_B_Ch_1TrU_C...</td>\n",
              "      <td>Zr6C60H36O32</td>\n",
              "      <td>{'lattice_mat': [[17.424748865, 0.103625238, -...</td>\n",
              "      <td>-978.669918</td>\n",
              "      <td>2.887535</td>\n",
              "      <td>0.0</td>\n",
              "      <td>134</td>\n",
              "    </tr>\n",
              "    <tr>\n",
              "      <th>18317</th>\n",
              "      <td>tobacco_SR_tty_v1-8c_Zr_1_Ch_v2-3c_B_Ch_1TrU_C...</td>\n",
              "      <td>Zr6C52H28O32</td>\n",
              "      <td>{'lattice_mat': [[16.68685381, -0.016831733, 0...</td>\n",
              "      <td>-871.932805</td>\n",
              "      <td>2.842611</td>\n",
              "      <td>0.0</td>\n",
              "      <td>118</td>\n",
              "    </tr>\n",
              "    <tr>\n",
              "      <th>18318</th>\n",
              "      <td>tobacco_SR_tty_v1-8c_Zr_1_Ch_v2-3c_triazine_Ch...</td>\n",
              "      <td>Zr6C48H24N12O32</td>\n",
              "      <td>{'lattice_mat': [[17.26969674, 0.059300552, 0....</td>\n",
              "      <td>-919.925822</td>\n",
              "      <td>2.678185</td>\n",
              "      <td>0.0</td>\n",
              "      <td>122</td>\n",
              "    </tr>\n",
              "    <tr>\n",
              "      <th>18319</th>\n",
              "      <td>tobacco_SR_tty_v1-8c_Zr_1_Ch_v2-3c_triazine_Ch...</td>\n",
              "      <td>Zr6C40H16N12O32</td>\n",
              "      <td>{'lattice_mat': [[16.488412655, -0.025688541, ...</td>\n",
              "      <td>-813.961030</td>\n",
              "      <td>2.636262</td>\n",
              "      <td>0.0</td>\n",
              "      <td>106</td>\n",
              "    </tr>\n",
              "    <tr>\n",
              "      <th>18320</th>\n",
              "      <td>tobacco_SR_xat_v1-4c_1anC_Ch_v2-6c_Zr_1_Ch_1B_...</td>\n",
              "      <td>Zr12C100H100O64</td>\n",
              "      <td>{'lattice_mat': [[15.439431354, -0.01703585, 0...</td>\n",
              "      <td>-1910.351201</td>\n",
              "      <td>3.263431</td>\n",
              "      <td>0.0</td>\n",
              "      <td>276</td>\n",
              "    </tr>\n",
              "  </tbody>\n",
              "</table>\n",
              "<p>18321 rows × 7 columns</p>\n",
              "</div>"
            ],
            "text/plain": [
              "                                                      id  ... natoms\n",
              "0                                           ABACUF01_FSR  ...     39\n",
              "1                                             ABAFUH_FSR  ...     92\n",
              "2                                             ABALOF_FSR  ...    128\n",
              "3                                             ABAVIJ_FSR  ...    108\n",
              "4                                             ABAVOP_FSR  ...    108\n",
              "...                                                  ...  ...    ...\n",
              "18316  tobacco_SR_tty_v1-8c_Zr_1_Ch_v2-3c_B_Ch_1TrU_C...  ...    134\n",
              "18317  tobacco_SR_tty_v1-8c_Zr_1_Ch_v2-3c_B_Ch_1TrU_C...  ...    118\n",
              "18318  tobacco_SR_tty_v1-8c_Zr_1_Ch_v2-3c_triazine_Ch...  ...    122\n",
              "18319  tobacco_SR_tty_v1-8c_Zr_1_Ch_v2-3c_triazine_Ch...  ...    106\n",
              "18320  tobacco_SR_xat_v1-4c_1anC_Ch_v2-6c_Zr_1_Ch_1B_...  ...    276\n",
              "\n",
              "[18321 rows x 7 columns]"
            ]
          },
          "metadata": {
            "tags": []
          },
          "execution_count": 14
        }
      ]
    },
    {
      "cell_type": "code",
      "metadata": {
        "id": "bgdFncQqwAWf",
        "colab": {
          "base_uri": "https://localhost:8080/",
          "height": 1000
        },
        "outputId": "8dd9b68d-3d1d-4a58-b8a3-ee36b4bbd2f0"
      },
      "source": [
        "# Now let's make a histogram for some of the material-properties in the dataset\n",
        "import matplotlib\n",
        "%matplotlib inline\n",
        "import matplotlib.pyplot as plt\n",
        "from matplotlib.gridspec import GridSpec\n",
        "from jarvis.core.atoms import Atoms\n",
        "\n",
        "the_grid = GridSpec(2, 2)\n",
        "plt.rcParams.update({'font.size': 18})\n",
        "plt.figure(figsize=(16,14))\n",
        "\n",
        "plt.subplot(the_grid[0,0])\n",
        "val=np.array(df['bandgap'].replace('na',np.nan).dropna().values,dtype='float')\n",
        "plt.hist(val,bins=np.arange(0,4,.1))\n",
        "plt.xlabel('bandgap (eV)')\n",
        "plt.ylabel('Materials distribution')\n",
        "\n",
        "plt.subplot(the_grid[0,1])\n",
        "val=np.array(df['energy_total'].replace('na',np.nan).dropna().values,dtype='float')\n",
        "plt.hist(val)#,bins=np.arange(0,8,.1))\n",
        "plt.xlabel('energy_total (eV)')\n",
        "#plt.ylabel('Materials distribution')\n",
        "\n",
        "plt.subplot(the_grid[1,0])\n",
        "val=np.array(df['net_magmom'].replace('na',np.nan).dropna().values,dtype='float')\n",
        "plt.hist(val,bins=np.arange(0,8,.1))\n",
        "plt.xlabel('net_magmom')\n",
        "#plt.ylabel('Materials distribution')\n",
        "\n",
        "df['natoms'] = df['atoms'].apply(lambda x: Atoms.from_dict(x).num_atoms)\n",
        "plt.subplot(the_grid[1,1])\n",
        "val=np.array(df['natoms'].replace('na',np.nan).dropna().values,dtype='float')\n",
        "plt.hist(val)#,bins=np.arange(0,8,.1))\n",
        "plt.xlabel('# atoms')\n",
        "\n",
        "plt.tight_layout()"
      ],
      "execution_count": 6,
      "outputs": [
        {
          "output_type": "display_data",
          "data": {
            "image/png": "[encoded data removed]",
            "text/plain": [
              "<Figure size 1152x1008 with 4 Axes>"
            ]
          },
          "metadata": {
            "tags": [],
            "needs_background": "light"
          }
        }
      ]
    },
    {
      "cell_type": "code",
      "metadata": {
        "id": "n-bLNBgUwAW1",
        "colab": {
          "base_uri": "https://localhost:8080/"
        },
        "outputId": "fd7860fc-f679-45da-a447-c7aef322a7dc"
      },
      "source": [
        "hmof = data('hmof')"
      ],
      "execution_count": 8,
      "outputs": [
        {
          "output_type": "stream",
          "text": [
            "Obtaining QMOF dataset 137k...\n",
            "Reference:https://doi.org/10.1021/acs.jpcc.6b08729\n"
          ],
          "name": "stdout"
        },
        {
          "output_type": "stream",
          "text": [
            "100%|██████████| 383M/383M [00:17<00:00, 22.3MiB/s]\n"
          ],
          "name": "stderr"
        },
        {
          "output_type": "stream",
          "text": [
            "Loading the zipfile...\n",
            "Loading completed.\n"
          ],
          "name": "stdout"
        }
      ]
    },
    {
      "cell_type": "code",
      "metadata": {
        "id": "qhTkMa5BS6iC",
        "outputId": "8921473f-cd8d-4a36-d67a-728e3eb591d6",
        "colab": {
          "base_uri": "https://localhost:8080/"
        }
      },
      "source": [
        "# data-size\n",
        "print (len(hmof))"
      ],
      "execution_count": 9,
      "outputs": [
        {
          "output_type": "stream",
          "text": [
            "137652\n"
          ],
          "name": "stdout"
        }
      ]
    },
    {
      "cell_type": "code",
      "metadata": {
        "id": "_DHkmeMoS7kx"
      },
      "source": [
        "df2=pd.DataFrame(hmof)"
      ],
      "execution_count": 10,
      "outputs": []
    },
    {
      "cell_type": "code",
      "metadata": {
        "id": "vHHBeu_ES7nq",
        "outputId": "91f29d07-854a-44bc-8ecb-00f3449ac288",
        "colab": {
          "base_uri": "https://localhost:8080/"
        }
      },
      "source": [
        "df2.columns"
      ],
      "execution_count": 12,
      "outputs": [
        {
          "output_type": "execute_result",
          "data": {
            "text/plain": [
              "Index(['id', 'atoms', 'max_co2_adsp', 'lcd', 'pld', 'void_fraction',\n",
              "       'surface_area_m2g', 'surface_area_m2cm3'],\n",
              "      dtype='object')"
            ]
          },
          "metadata": {
            "tags": []
          },
          "execution_count": 12
        }
      ]
    },
    {
      "cell_type": "markdown",
      "metadata": {
        "id": "zgUpFnnPWphU"
      },
      "source": [
        "pld: pore limiting diameter\n",
        "\n",
        "lcd: largest cavity diameter"
      ]
    },
    {
      "cell_type": "code",
      "metadata": {
        "id": "zjy-p3EIS7qt",
        "outputId": "edf5f958-a4d9-48de-f5a3-e7e7cc11da22",
        "colab": {
          "base_uri": "https://localhost:8080/",
          "height": 419
        }
      },
      "source": [
        "df2"
      ],
      "execution_count": 13,
      "outputs": [
        {
          "output_type": "execute_result",
          "data": {
            "text/html": [
              "<div>\n",
              "<style scoped>\n",
              "    .dataframe tbody tr th:only-of-type {\n",
              "        vertical-align: middle;\n",
              "    }\n",
              "\n",
              "    .dataframe tbody tr th {\n",
              "        vertical-align: top;\n",
              "    }\n",
              "\n",
              "    .dataframe thead th {\n",
              "        text-align: right;\n",
              "    }\n",
              "</style>\n",
              "<table border=\"1\" class=\"dataframe\">\n",
              "  <thead>\n",
              "    <tr style=\"text-align: right;\">\n",
              "      <th></th>\n",
              "      <th>id</th>\n",
              "      <th>atoms</th>\n",
              "      <th>max_co2_adsp</th>\n",
              "      <th>lcd</th>\n",
              "      <th>pld</th>\n",
              "      <th>void_fraction</th>\n",
              "      <th>surface_area_m2g</th>\n",
              "      <th>surface_area_m2cm3</th>\n",
              "    </tr>\n",
              "  </thead>\n",
              "  <tbody>\n",
              "    <tr>\n",
              "      <th>0</th>\n",
              "      <td>18812</td>\n",
              "      <td>{'lattice_mat': [[19.077068000000008, 0.0, 0.0...</td>\n",
              "      <td>2.87034</td>\n",
              "      <td>20.75</td>\n",
              "      <td>19.25</td>\n",
              "      <td>0.891661</td>\n",
              "      <td>5173.4</td>\n",
              "      <td>1444.8</td>\n",
              "    </tr>\n",
              "    <tr>\n",
              "      <th>1</th>\n",
              "      <td>31716</td>\n",
              "      <td>{'lattice_mat': [[15.296720000000002, 0.0, 0.0...</td>\n",
              "      <td>4.18618</td>\n",
              "      <td>11.25</td>\n",
              "      <td>10.25</td>\n",
              "      <td>0.805618</td>\n",
              "      <td>3670.2</td>\n",
              "      <td>2064.6</td>\n",
              "    </tr>\n",
              "    <tr>\n",
              "      <th>2</th>\n",
              "      <td>46755</td>\n",
              "      <td>{'lattice_mat': [[7.088929000000002, 0.0, 0.0]...</td>\n",
              "      <td>3.87465</td>\n",
              "      <td>4.75</td>\n",
              "      <td>4.25</td>\n",
              "      <td>0.397519</td>\n",
              "      <td>670.7</td>\n",
              "      <td>892.1</td>\n",
              "    </tr>\n",
              "    <tr>\n",
              "      <th>3</th>\n",
              "      <td>84828</td>\n",
              "      <td>{'lattice_mat': [[14.206616526257514, 0.0, 0.0...</td>\n",
              "      <td>11.21440</td>\n",
              "      <td>9.25</td>\n",
              "      <td>5.25</td>\n",
              "      <td>0.706061</td>\n",
              "      <td>3087.3</td>\n",
              "      <td>2377.3</td>\n",
              "    </tr>\n",
              "    <tr>\n",
              "      <th>4</th>\n",
              "      <td>50576</td>\n",
              "      <td>{'lattice_mat': [[12.030359959451998, 0.0, 0.0...</td>\n",
              "      <td>7.99082</td>\n",
              "      <td>5.25</td>\n",
              "      <td>4.25</td>\n",
              "      <td>0.637972</td>\n",
              "      <td>2049.2</td>\n",
              "      <td>1996.1</td>\n",
              "    </tr>\n",
              "    <tr>\n",
              "      <th>...</th>\n",
              "      <td>...</td>\n",
              "      <td>...</td>\n",
              "      <td>...</td>\n",
              "      <td>...</td>\n",
              "      <td>...</td>\n",
              "      <td>...</td>\n",
              "      <td>...</td>\n",
              "      <td>...</td>\n",
              "    </tr>\n",
              "    <tr>\n",
              "      <th>137647</th>\n",
              "      <td>90033</td>\n",
              "      <td>{'lattice_mat': [[25.63923300000001, 0.0, 0.0]...</td>\n",
              "      <td>3.65133</td>\n",
              "      <td>23.25</td>\n",
              "      <td>21.75</td>\n",
              "      <td>0.914021</td>\n",
              "      <td>5419.3</td>\n",
              "      <td>1214.8</td>\n",
              "    </tr>\n",
              "    <tr>\n",
              "      <th>137648</th>\n",
              "      <td>102380</td>\n",
              "      <td>{'lattice_mat': [[9.798715000000005, 0.0, 0.0]...</td>\n",
              "      <td>2.91239</td>\n",
              "      <td>5.25</td>\n",
              "      <td>3.25</td>\n",
              "      <td>0.280042</td>\n",
              "      <td>263.0</td>\n",
              "      <td>328.2</td>\n",
              "    </tr>\n",
              "    <tr>\n",
              "      <th>137649</th>\n",
              "      <td>68985</td>\n",
              "      <td>{'lattice_mat': [[13.472589423506017, 0.0, 0.0...</td>\n",
              "      <td>6.19079</td>\n",
              "      <td>6.75</td>\n",
              "      <td>4.75</td>\n",
              "      <td>0.676428</td>\n",
              "      <td>3578.2</td>\n",
              "      <td>2611.0</td>\n",
              "    </tr>\n",
              "    <tr>\n",
              "      <th>137650</th>\n",
              "      <td>110732</td>\n",
              "      <td>{'lattice_mat': [[14.85435208467515, 0.0, 0.0]...</td>\n",
              "      <td>6.21306</td>\n",
              "      <td>6.75</td>\n",
              "      <td>4.75</td>\n",
              "      <td>0.682455</td>\n",
              "      <td>3852.3</td>\n",
              "      <td>2646.7</td>\n",
              "    </tr>\n",
              "    <tr>\n",
              "      <th>137651</th>\n",
              "      <td>126596</td>\n",
              "      <td>{'lattice_mat': [[8.584490898056213, 0.0, 0.0]...</td>\n",
              "      <td>2.37745</td>\n",
              "      <td>3.75</td>\n",
              "      <td>3.25</td>\n",
              "      <td>0.268293</td>\n",
              "      <td>286.9</td>\n",
              "      <td>301.4</td>\n",
              "    </tr>\n",
              "  </tbody>\n",
              "</table>\n",
              "<p>137652 rows × 8 columns</p>\n",
              "</div>"
            ],
            "text/plain": [
              "            id  ... surface_area_m2cm3\n",
              "0        18812  ...             1444.8\n",
              "1        31716  ...             2064.6\n",
              "2        46755  ...              892.1\n",
              "3        84828  ...             2377.3\n",
              "4        50576  ...             1996.1\n",
              "...        ...  ...                ...\n",
              "137647   90033  ...             1214.8\n",
              "137648  102380  ...              328.2\n",
              "137649   68985  ...             2611.0\n",
              "137650  110732  ...             2646.7\n",
              "137651  126596  ...              301.4\n",
              "\n",
              "[137652 rows x 8 columns]"
            ]
          },
          "metadata": {
            "tags": []
          },
          "execution_count": 13
        }
      ]
    },
    {
      "cell_type": "code",
      "metadata": {
        "id": "FaMSyyl5S7tW",
        "outputId": "6cee73b5-57bf-46f0-a8b0-dd0478da9665",
        "colab": {
          "base_uri": "https://localhost:8080/",
          "height": 568
        }
      },
      "source": [
        "# Now let's make a histogram for some of the material-properties in the dataset\n",
        "import matplotlib\n",
        "%matplotlib inline\n",
        "import matplotlib.pyplot as plt\n",
        "from matplotlib.gridspec import GridSpec\n",
        "from jarvis.core.atoms import Atoms\n",
        "\n",
        "the_grid = GridSpec(2, 4)\n",
        "plt.rcParams.update({'font.size': 18})\n",
        "plt.figure(figsize=(16,8))\n",
        "\n",
        "plt.subplot(the_grid[0,0])\n",
        "val=np.array(df2['max_co2_adsp'].replace('na',np.nan).dropna().values,dtype='float')\n",
        "plt.hist(val,bins=np.arange(0,20,1))\n",
        "plt.xlabel('max_co2_adsp')\n",
        "plt.ylabel('Materials distribution')\n",
        "\n",
        "plt.subplot(the_grid[0,1])\n",
        "val=np.array(df2['surface_area_m2g'].replace('na',np.nan).dropna().values,dtype='float')\n",
        "plt.hist(val)#,bins=np.arange(0,8,.1))\n",
        "plt.xlabel('surface_area_m2g')\n",
        "#plt.ylabel('Materials distribution')\n",
        "\n",
        "plt.subplot(the_grid[0,2])\n",
        "val=np.array(df2['surface_area_m2cm3'].replace('na',np.nan).dropna().values,dtype='float')\n",
        "plt.hist(val)#,bins=np.arange(0,8,.1))\n",
        "plt.xlabel('surface_area_m2cm3')\n",
        "\n",
        "#plt.ylabel('Materials distribution')\n",
        "\n",
        "df['natoms'] = df2['atoms'].apply(lambda x: Atoms.from_dict(x).num_atoms)\n",
        "plt.subplot(the_grid[0,3])\n",
        "val=np.array(df['natoms'].replace('na',np.nan).dropna().values,dtype='float')\n",
        "plt.hist(val,bins=np.arange(0,600,5))\n",
        "plt.xlabel('# atoms')\n",
        "\n",
        "\n",
        "plt.subplot(the_grid[1,0])\n",
        "val=np.array(df2['lcd'].replace('na',np.nan).dropna().values,dtype='float')\n",
        "plt.hist(val)#,bins=np.arange(0,8,.1))\n",
        "plt.xlabel('lcd')\n",
        "\n",
        "\n",
        "plt.subplot(the_grid[1,1])\n",
        "val=np.array(df2['lcd'].replace('na',np.nan).dropna().values,dtype='float')\n",
        "plt.hist(val)#,bins=np.arange(0,8,.1))\n",
        "plt.xlabel('pld')\n",
        "\n",
        "\n",
        "plt.subplot(the_grid[1,2])\n",
        "val=np.array(df2['void_fraction'].replace('na',np.nan).dropna().values,dtype='float')\n",
        "plt.hist(val)#,bins=np.arange(0,8,.1))\n",
        "plt.xlabel('void_fraction')\n",
        "\n",
        "\n",
        "df2['density'] = df2['atoms'].apply(lambda x: Atoms.from_dict(x).density)\n",
        "plt.subplot(the_grid[1,3])\n",
        "val=np.array(df2['density'].replace('na',np.nan).dropna().values,dtype='float')\n",
        "plt.hist(val,bins=np.arange(0,5,.1))\n",
        "plt.xlabel('Density')\n",
        "\n",
        "plt.tight_layout()"
      ],
      "execution_count": 21,
      "outputs": [
        {
          "output_type": "display_data",
          "data": {
            "image/png": "[encoded data removed]",
            "text/plain": [
              "<Figure size 1152x576 with 8 Axes>"
            ]
          },
          "metadata": {
            "tags": [],
            "needs_background": "light"
          }
        }
      ]
    },
    {
      "cell_type": "code",
      "metadata": {
        "id": "u4vy_D8QS6ov"
      },
      "source": [
        ""
      ],
      "execution_count": null,
      "outputs": []
    },
    {
      "cell_type": "code",
      "metadata": {
        "id": "tyl1Fe_CTSfk"
      },
      "source": [
        ""
      ],
      "execution_count": null,
      "outputs": []
    },
    {
      "cell_type": "code",
      "metadata": {
        "id": "nM21p-YzTSiM"
      },
      "source": [
        ""
      ],
      "execution_count": null,
      "outputs": []
    },
    {
      "cell_type": "code",
      "metadata": {
        "id": "RJUcyEZdTSna"
      },
      "source": [
        ""
      ],
      "execution_count": null,
      "outputs": []
    },
    {
      "cell_type": "code",
      "metadata": {
        "id": "dHm1KDVJTSqQ"
      },
      "source": [
        ""
      ],
      "execution_count": null,
      "outputs": []
    },
    {
      "cell_type": "code",
      "metadata": {
        "id": "5I6U2K-oTSr1"
      },
      "source": [
        ""
      ],
      "execution_count": null,
      "outputs": []
    },
    {
      "cell_type": "code",
      "metadata": {
        "id": "KzyVOd6KTSul"
      },
      "source": [
        ""
      ],
      "execution_count": null,
      "outputs": []
    },
    {
      "cell_type": "code",
      "metadata": {
        "id": "5t703CW3TSw6"
      },
      "source": [
        ""
      ],
      "execution_count": null,
      "outputs": []
    },
    {
      "cell_type": "code",
      "metadata": {
        "id": "zY6KPEJWwAcA"
      },
      "source": [
        ""
      ],
      "execution_count": null,
      "outputs": []
    }
  ]
}
