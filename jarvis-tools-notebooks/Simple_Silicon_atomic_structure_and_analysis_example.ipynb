{
  "nbformat": 4,
  "nbformat_minor": 0,
  "metadata": {
    "kernelspec": {
      "display_name": "Python 3",
      "language": "python",
      "name": "python3"
    },
    "language_info": {
      "codemirror_mode": {
        "name": "ipython",
        "version": 3
      },
      "file_extension": ".py",
      "mimetype": "text/x-python",
      "name": "python",
      "nbconvert_exporter": "python",
      "pygments_lexer": "ipython3",
      "version": "3.6.7"
    },
    "colab": {
      "name": "Simple Silicon atomic structure and analysis example.ipynb",
      "provenance": [],
      "include_colab_link": true
    }
  },
  "cells": [
    {
      "cell_type": "markdown",
      "metadata": {
        "id": "view-in-github",
        "colab_type": "text"
      },
      "source": [
        "<a href=\"https://colab.research.google.com/github/knc6/jarvis-tools-notebooks/blob/master/jarvis-tools-notebooks/Simple_Silicon_atomic_structure_and_analysis_example.ipynb\" target=\"_parent\"><img src=\"https://colab.research.google.com/assets/colab-badge.svg\" alt=\"Open In Colab\"/></a>"
      ]
    },
    {
      "cell_type": "markdown",
      "metadata": {
        "id": "1UwGjo8yx1i-",
        "colab_type": "text"
      },
      "source": [
        "# Description of Atoms module and analysis"
      ]
    },
    {
      "cell_type": "markdown",
      "metadata": {
        "id": "85IhBrwnx1jC",
        "colab_type": "text"
      },
      "source": [
        "# Table of contents\n",
        "1. Creating Silicon Atoms class\n",
        "2. Basic Atoms properties\n",
        "3. Atoms class to_dict and from_dict methods\n",
        "4. Making supercells\n",
        "5. Spacegroup information and conventional structure\n",
        "6. Making point-defect vacancy\n",
        "7. Making surface structure\n",
        "8. Making interfaces\n",
        "9. Neighborhood analsis\n",
        "10. Obtaining machine-learning descriptors"
      ]
    },
    {
      "cell_type": "code",
      "metadata": {
        "id": "8Y2u3olRx3p8",
        "colab_type": "code",
        "colab": {
          "base_uri": "https://localhost:8080/",
          "height": 425
        },
        "outputId": "0ade06c4-5076-44b4-d2dd-02acd6dd8325"
      },
      "source": [
        "!pip install jarvis-tools"
      ],
      "execution_count": null,
      "outputs": [
        {
          "output_type": "stream",
          "text": [
            "Requirement already satisfied: jarvis-tools in /usr/local/lib/python3.6/dist-packages (2020.6.9)\n",
            "Requirement already satisfied: toolz in /usr/local/lib/python3.6/dist-packages (from jarvis-tools) (0.10.0)\n",
            "Requirement already satisfied: xmltodict in /usr/local/lib/python3.6/dist-packages (from jarvis-tools) (0.12.0)\n",
            "Requirement already satisfied: scipy in /usr/local/lib/python3.6/dist-packages (from jarvis-tools) (1.4.1)\n",
            "Requirement already satisfied: requests in /usr/local/lib/python3.6/dist-packages (from jarvis-tools) (2.23.0)\n",
            "Requirement already satisfied: spglib in /usr/local/lib/python3.6/dist-packages (from jarvis-tools) (1.15.1)\n",
            "Requirement already satisfied: numpy in /usr/local/lib/python3.6/dist-packages (from jarvis-tools) (1.18.5)\n",
            "Requirement already satisfied: matplotlib in /usr/local/lib/python3.6/dist-packages (from jarvis-tools) (3.2.1)\n",
            "Requirement already satisfied: pytest in /usr/local/lib/python3.6/dist-packages (from jarvis-tools) (3.6.4)\n",
            "Requirement already satisfied: urllib3!=1.25.0,!=1.25.1,<1.26,>=1.21.1 in /usr/local/lib/python3.6/dist-packages (from requests->jarvis-tools) (1.24.3)\n",
            "Requirement already satisfied: idna<3,>=2.5 in /usr/local/lib/python3.6/dist-packages (from requests->jarvis-tools) (2.9)\n",
            "Requirement already satisfied: certifi>=2017.4.17 in /usr/local/lib/python3.6/dist-packages (from requests->jarvis-tools) (2020.4.5.1)\n",
            "Requirement already satisfied: chardet<4,>=3.0.2 in /usr/local/lib/python3.6/dist-packages (from requests->jarvis-tools) (3.0.4)\n",
            "Requirement already satisfied: cycler>=0.10 in /usr/local/lib/python3.6/dist-packages (from matplotlib->jarvis-tools) (0.10.0)\n",
            "Requirement already satisfied: python-dateutil>=2.1 in /usr/local/lib/python3.6/dist-packages (from matplotlib->jarvis-tools) (2.8.1)\n",
            "Requirement already satisfied: pyparsing!=2.0.4,!=2.1.2,!=2.1.6,>=2.0.1 in /usr/local/lib/python3.6/dist-packages (from matplotlib->jarvis-tools) (2.4.7)\n",
            "Requirement already satisfied: kiwisolver>=1.0.1 in /usr/local/lib/python3.6/dist-packages (from matplotlib->jarvis-tools) (1.2.0)\n",
            "Requirement already satisfied: setuptools in /usr/local/lib/python3.6/dist-packages (from pytest->jarvis-tools) (47.1.1)\n",
            "Requirement already satisfied: py>=1.5.0 in /usr/local/lib/python3.6/dist-packages (from pytest->jarvis-tools) (1.8.1)\n",
            "Requirement already satisfied: more-itertools>=4.0.0 in /usr/local/lib/python3.6/dist-packages (from pytest->jarvis-tools) (8.3.0)\n",
            "Requirement already satisfied: attrs>=17.4.0 in /usr/local/lib/python3.6/dist-packages (from pytest->jarvis-tools) (19.3.0)\n",
            "Requirement already satisfied: six>=1.10.0 in /usr/local/lib/python3.6/dist-packages (from pytest->jarvis-tools) (1.12.0)\n",
            "Requirement already satisfied: pluggy<0.8,>=0.5 in /usr/local/lib/python3.6/dist-packages (from pytest->jarvis-tools) (0.7.1)\n",
            "Requirement already satisfied: atomicwrites>=1.0 in /usr/local/lib/python3.6/dist-packages (from pytest->jarvis-tools) (1.4.0)\n"
          ],
          "name": "stdout"
        }
      ]
    },
    {
      "cell_type": "markdown",
      "metadata": {
        "id": "FlV04uh3x1jD",
        "colab_type": "text"
      },
      "source": [
        "### A crystal structure is defined by lattice-matrix, atomic coordinates and element types. As an example, let's create Siliocn crystal structure. We need to to import Atoms class from jarvis-tools to do that."
      ]
    },
    {
      "cell_type": "code",
      "metadata": {
        "id": "a7H09Z0Jx1jF",
        "colab_type": "code",
        "colab": {}
      },
      "source": [
        "# If you don't have jarvis-tools package installed, try \n",
        "# !pip install jarvis-tools\n",
        "# and restart runtime for your notebook\n",
        "from jarvis.core.atoms import Atoms"
      ],
      "execution_count": null,
      "outputs": []
    },
    {
      "cell_type": "code",
      "metadata": {
        "id": "X4fH6qU0x1jO",
        "colab_type": "code",
        "colab": {}
      },
      "source": [
        "#Silicon crystal structure example. These crystal-structure data are generally obtained from XRD-type experiments.\n",
        "box = [[2.715, 2.715, 0], [0, 2.715, 2.715], [2.715, 0, 2.715]]\n",
        "coords = [[0, 0, 0], [0.25, 0.25, 0.25]]\n",
        "elements = [\"Si\", \"Si\"]\n",
        "Si = Atoms(lattice_mat=box, coords=coords, elements=elements)"
      ],
      "execution_count": null,
      "outputs": []
    },
    {
      "cell_type": "markdown",
      "metadata": {
        "id": "87EzahSOx1jV",
        "colab_type": "text"
      },
      "source": [
        "### Once the Atoms class is created, several properties can be calculated. Examples are given below:"
      ]
    },
    {
      "cell_type": "code",
      "metadata": {
        "id": "KAuG5dqTx1jW",
        "colab_type": "code",
        "colab": {
          "base_uri": "https://localhost:8080/",
          "height": 187
        },
        "outputId": "af33bb41-9f82-41aa-ffe8-ffa80452a01e"
      },
      "source": [
        "print ('volume',Si.volume)\n",
        "print ('density in g/cm3', Si.density)\n",
        "print ('composition as dictionary', Si.composition)\n",
        "print ('Chemical formula', Si.composition.reduced_formula)\n",
        "print ('Spacegroup info', Si.spacegroup())\n",
        "print ('lattice-parameters', Si.lattice.abc, Si.lattice.angles)\n",
        "print ('packing fraction',Si.packing_fraction)\n",
        "print ('number of atoms',Si.num_atoms)\n",
        "print ('Center of mass', Si.get_center_of_mass())\n",
        "print ('Atomic number list', Si.atomic_numbers)"
      ],
      "execution_count": null,
      "outputs": [
        {
          "output_type": "stream",
          "text": [
            "volume 40.02575174999999\n",
            "density in g/cm3 2.3303545408113413\n",
            "composition as dictionary OrderedDict([('Si', 2)])\n",
            "Chemical formula Si\n",
            "Spacegroup info Fd-3m (227)\n",
            "lattice-parameters [3.83959, 3.83959, 3.83959] [60.0, 60.0, 60.0]\n",
            "packing fraction 0.27858\n",
            "number of atoms 2\n",
            "Center of mass [0.67875 0.67875 0.67875]\n",
            "Atomic number list [14, 14]\n"
          ],
          "name": "stdout"
        }
      ]
    },
    {
      "cell_type": "code",
      "metadata": {
        "id": "NBDZYn0Ex1jf",
        "colab_type": "code",
        "colab": {
          "base_uri": "https://localhost:8080/",
          "height": 204
        },
        "outputId": "845459b4-08d8-4d90-88fa-56b50dda8f6f"
      },
      "source": [
        "# Print Atoms class in POSCAR format\n",
        "print (Si)"
      ],
      "execution_count": null,
      "outputs": [
        {
          "output_type": "stream",
          "text": [
            "Si\n",
            "1.0\n",
            "2.715 2.715 0.0\n",
            "0.0 2.715 2.715\n",
            "2.715 0.0 2.715\n",
            "Si\n",
            "2\n",
            "direct\n",
            "0.0 0.0 0.0\n",
            "0.25 0.25 0.25\n",
            "\n"
          ],
          "name": "stdout"
        }
      ]
    },
    {
      "cell_type": "markdown",
      "metadata": {
        "id": "6bU7u12bx1jp",
        "colab_type": "text"
      },
      "source": [
        "### For databases purposes, it maybe important to store the Atoms class as a dictionary and then reloading the dictionary as Atoms object. An example is given below:"
      ]
    },
    {
      "cell_type": "code",
      "metadata": {
        "id": "TwABuZjex1jr",
        "colab_type": "code",
        "colab": {
          "base_uri": "https://localhost:8080/",
          "height": 153
        },
        "outputId": "8304a8ee-17f2-4a95-d98d-3a420b4ba947"
      },
      "source": [
        "Si.to_dict()"
      ],
      "execution_count": null,
      "outputs": [
        {
          "output_type": "execute_result",
          "data": {
            "text/plain": [
              "OrderedDict([('lattice_mat',\n",
              "              [[2.715, 2.715, 0.0], [0.0, 2.715, 2.715], [2.715, 0.0, 2.715]]),\n",
              "             ('coords', [[0.0, 0.0, 0.0], [0.25, 0.25, 0.25]]),\n",
              "             ('elements', ['Si', 'Si']),\n",
              "             ('abc', [3.83959, 3.83959, 3.83959]),\n",
              "             ('angles', [60.0, 60.0, 60.0]),\n",
              "             ('cartesian', False),\n",
              "             ('props', ['', ''])])"
            ]
          },
          "metadata": {
            "tags": []
          },
          "execution_count": 6
        }
      ]
    },
    {
      "cell_type": "code",
      "metadata": {
        "id": "aOezw_oTx1jy",
        "colab_type": "code",
        "colab": {}
      },
      "source": [
        "d = Si.to_dict()\n",
        "new_atoms = Atoms.from_dict(d)"
      ],
      "execution_count": null,
      "outputs": []
    },
    {
      "cell_type": "markdown",
      "metadata": {
        "id": "y0UyPplxx1j6",
        "colab_type": "text"
      },
      "source": [
        "Making a supercells: there are two methods"
      ]
    },
    {
      "cell_type": "code",
      "metadata": {
        "id": "PV5s1vP5x1j7",
        "colab_type": "code",
        "colab": {
          "base_uri": "https://localhost:8080/",
          "height": 34
        },
        "outputId": "3289accc-8d1d-49b8-a0c1-741818a3f7bb"
      },
      "source": [
        "supercell_1 = Si.make_supercell([2,2,2])\n",
        "supercell_2 = Si.make_supercell_matrix([[2,0,0],[0,2,0],[0,0,2]])\n",
        "supercell_1.density == supercell_2.density"
      ],
      "execution_count": null,
      "outputs": [
        {
          "output_type": "execute_result",
          "data": {
            "text/plain": [
              "True"
            ]
          },
          "metadata": {
            "tags": []
          },
          "execution_count": 8
        }
      ]
    },
    {
      "cell_type": "markdown",
      "metadata": {
        "id": "gEqsP20Ux1kC",
        "colab_type": "text"
      },
      "source": [
        "### Many tensor-like material properties such as elastic constants require conventional cell representations, which can be obtained as follows:"
      ]
    },
    {
      "cell_type": "code",
      "metadata": {
        "id": "J_Ccr-1Rx1kD",
        "colab_type": "code",
        "colab": {
          "base_uri": "https://localhost:8080/",
          "height": 51
        },
        "outputId": "2554e9d7-b15b-480d-a077-b80a0adc9dae"
      },
      "source": [
        "from jarvis.analysis.structure.spacegroup import Spacegroup3D\n",
        "\n",
        "spg = Spacegroup3D(Si)\n",
        "Si_cvn = spg.conventional_standard_structure\n",
        "print ('Number of atoms in the conventional cell', Si_cvn.num_atoms) \n",
        "print ('Wycoff multoplicity in the primitive-cell', spg._dataset[\"wyckoffs\"]) "
      ],
      "execution_count": null,
      "outputs": [
        {
          "output_type": "stream",
          "text": [
            "Number of atoms in the conventional cell 8\n",
            "Wycoff multoplicity in the primitive-cell ['b', 'b']\n"
          ],
          "name": "stdout"
        }
      ]
    },
    {
      "cell_type": "code",
      "metadata": {
        "id": "XWIdi33jx1kJ",
        "colab_type": "code",
        "colab": {
          "base_uri": "https://localhost:8080/",
          "height": 204
        },
        "outputId": "5e10a797-a5dd-4859-fc2f-cb31ea6d1910"
      },
      "source": [
        "# Example to create Atoms object from POSCAR format file\n",
        "from jarvis.io.vasp.inputs import Poscar\n",
        "import urllib\n",
        "url = 'https://raw.githubusercontent.com/usnistgov/jarvis/v2020.6.9/jarvis/examples/vasp/SiOptb88/POSCAR'\n",
        "webf = urllib.request.urlopen(url)\n",
        "txt = webf.read()\n",
        "f = open('POSCAR', 'wb')\n",
        "f.write(txt)\n",
        "f.close()\n",
        "\n",
        "pos = Poscar.from_file('POSCAR').atoms\n",
        "print (pos)"
      ],
      "execution_count": null,
      "outputs": [
        {
          "output_type": "stream",
          "text": [
            "Si\n",
            "1.0\n",
            "3.348898 0.0 1.933487\n",
            "1.116299 3.157372 1.933487\n",
            "0.0 0.0 3.866975\n",
            "Si\n",
            "2\n",
            "direct\n",
            "0.875 0.875 0.875\n",
            "0.125 0.125 0.125\n",
            "\n"
          ],
          "name": "stdout"
        }
      ]
    },
    {
      "cell_type": "markdown",
      "metadata": {
        "id": "K-mSV4GBx1kS",
        "colab_type": "text"
      },
      "source": [
        "### Realistic materials contain several types of point, line, surface and volume defects. Examples to create point-defects and surfaces are shown below:"
      ]
    },
    {
      "cell_type": "code",
      "metadata": {
        "id": "wzmvpAR7x1kT",
        "colab_type": "code",
        "colab": {
          "base_uri": "https://localhost:8080/",
          "height": 34
        },
        "outputId": "25675e70-da2f-4923-f052-61d0ae3401bc"
      },
      "source": [
        "from jarvis.analysis.defects.vacancy import Vacancy\n",
        "\n",
        "vacs = Vacancy(atoms=Si).generate_defects(enforce_c_size=10.0) #enforces cell-size to be close to 10 Angstroms\n",
        "len(vacs), vacs[0].to_dict()[\"defect_structure\"].num_atoms\n",
        "# We find that there are only one unique point vacanc available based on Wycoff-position information"
      ],
      "execution_count": null,
      "outputs": [
        {
          "output_type": "execute_result",
          "data": {
            "text/plain": [
              "(1, 53)"
            ]
          },
          "metadata": {
            "tags": []
          },
          "execution_count": 11
        }
      ]
    },
    {
      "cell_type": "code",
      "metadata": {
        "id": "kwiymVzex1kc",
        "colab_type": "code",
        "colab": {}
      },
      "source": [
        "from jarvis.analysis.defects.surface import wulff_normals, Surface\n",
        "\n",
        "# Let's create (1,1,1) surface with three layers, and vacuum=18.0 Angstrom\n",
        "# We center it around origin so that it looks good during visualization\n",
        "surface_111 = Surface(atoms=Si, indices=[1, 1, 1], layers = 3, vacuum = 18 ).make_surface().center_around_origin() "
      ],
      "execution_count": null,
      "outputs": []
    },
    {
      "cell_type": "code",
      "metadata": {
        "id": "i_jIjs5wx1ki",
        "colab_type": "code",
        "colab": {
          "base_uri": "https://localhost:8080/",
          "height": 578
        },
        "outputId": "c41a3beb-3d49-4bc0-834f-558f079dd078"
      },
      "source": [
        "print (surface_111)"
      ],
      "execution_count": null,
      "outputs": [
        {
          "output_type": "stream",
          "text": [
            "Si\n",
            "1.0\n",
            "7.679179643685906 0.0 0.0\n",
            "3.8395898218429525 6.650364651656329 0.0\n",
            "0.0 0.0 27.405035885099004\n",
            "Si\n",
            "24\n",
            "direct\n",
            "0.33333337987747863 0.2499999417117229 0.399903978739414\n",
            "1.3992069064494572e-07 -0.0833336247747194 0.5142994316086551\n",
            "-0.3333331000360974 -0.4166671912611619 0.6286948844778962\n",
            "0.16666641016942124 0.08333385792782866 0.37130511552210377\n",
            "-0.16666682978736658 -0.24999970855861375 0.4857005683913448\n",
            "0.4999999302558456 0.41666672495494383 0.6000960212605859\n",
            "0.3333331934126425 -0.2499997085586136 0.39990397873941397\n",
            "-4.654414553773023e-08 0.41666672495494383 0.5142994316086551\n",
            "-0.3333332865009334 0.08333315846850153 0.6286948844778962\n",
            "0.1666665966342577 -0.4166664918018348 0.3713051155221037\n",
            "-0.1666666433225305 0.2499999417117229 0.48570056839134484\n",
            "-0.4999998832793181 -0.08333362477471967 0.6000960212605859\n",
            "-0.16666659692251207 0.24999994171172302 0.399903978739414\n",
            "-0.4999998368793001 -0.0833336247747194 0.5142994316086551\n",
            "0.1666669231639118 -0.4166671912611618 0.6286948844778963\n",
            "-0.33333356663056946 0.08333385792782866 0.37130511552210377\n",
            "0.3333331934126425 -0.24999970855861375 0.4857005683913449\n",
            "-4.6544145315685626e-08 0.41666672495494383 0.600096021260586\n",
            "-0.16666678338734842 -0.2499997085586136 0.399903978739414\n",
            "0.49999997665586365 0.41666672495494383 0.5142994316086551\n",
            "0.16666673669907556 0.08333315846850153 0.6286948844778963\n",
            "-0.3333333801657332 -0.4166664918018347 0.37130511552210377\n",
            "0.33333337987747863 0.2499999417117229 0.4857005683913449\n",
            "1.3992069064494572e-07 -0.0833336247747195 0.6000960212605859\n",
            "\n"
          ],
          "name": "stdout"
        }
      ]
    },
    {
      "cell_type": "markdown",
      "metadata": {
        "id": "QaHThAhmx1ko",
        "colab_type": "text"
      },
      "source": [
        "### For practical applications, materials are generally used as heterostructures. We can use the following as an example to make Si(111)-Si(111) interface"
      ]
    },
    {
      "cell_type": "code",
      "metadata": {
        "id": "k3CYqCLlx1kp",
        "colab_type": "code",
        "colab": {}
      },
      "source": [
        "from jarvis.analysis.interface.zur import ZSLGenerator, mismatch_strts, get_hetero,make_interface\n",
        "\n",
        "film = Surface(atoms=Si, indices=[1, 1, 1], layers = 3, vacuum = 18 ).make_surface().center_around_origin() \n",
        "substrate = Surface(atoms=Si, indices=[1, 1, 1], layers = 3, vacuum = 18 ).make_surface().center_around_origin()  \n",
        "info = make_interface(film=film, subs=substrate)['interface'].center(vacuum=18)"
      ],
      "execution_count": null,
      "outputs": []
    },
    {
      "cell_type": "code",
      "metadata": {
        "id": "EOTDooSPx1kw",
        "colab_type": "code",
        "colab": {
          "base_uri": "https://localhost:8080/",
          "height": 969
        },
        "outputId": "c5524ec3-8364-4750-f374-c43e3697563f"
      },
      "source": [
        "info"
      ],
      "execution_count": null,
      "outputs": [
        {
          "output_type": "execute_result",
          "data": {
            "text/plain": [
              "Si\n",
              "1.0\n",
              "7.679179643685906 0.0 0.0\n",
              "3.8395898218429525 6.650364651656329 0.0\n",
              "0.0 0.0 53.10755427810232\n",
              "Si\n",
              "48\n",
              "direct\n",
              "0.3333333798774787 0.24999994171172285 0.49187052256317165\n",
              "1.399206906872241e-07 -0.08333362477471946 0.5509019025025526\n",
              "-0.3333331000360973 -0.4166671912611619 0.6099332824419335\n",
              "0.16666641016942133 0.08333385792782858 0.4771126775783264\n",
              "-0.16666682978736652 -0.2499997085586138 0.5361440575177072\n",
              "0.4999999302558456 0.4166667249549438 0.5951754374570881\n",
              "0.3333331934126425 -0.24999970855861364 0.49187052256317165\n",
              "-4.6544145475713774e-08 0.4166667249549438 0.5509019025025526\n",
              "-0.3333332865009333 0.08333315846850146 0.6099332824419335\n",
              "0.1666665966342577 -0.4166664918018348 0.4771126775783264\n",
              "-0.16666664332253042 0.24999994171172285 0.5361440575177073\n",
              "-0.49999988327931805 -0.08333362477471973 0.5951754374570881\n",
              "-0.16666659692251198 0.24999994171172293 0.49187052256317165\n",
              "-0.4999998368792999 -0.08333362477471946 0.5509019025025526\n",
              "0.1666669231639118 -0.4166671912611618 0.6099332824419336\n",
              "-0.33333356663056934 0.08333385792782858 0.4771126775783264\n",
              "0.3333331934126425 -0.2499997085586138 0.5361440575177073\n",
              "-4.6544145281424744e-08 0.4166667249549438 0.5951754374570882\n",
              "-0.1666667833873484 -0.24999970855861364 0.49187052256317165\n",
              "0.49999997665586365 0.4166667249549438 0.5509019025025526\n",
              "0.1666667366990756 0.08333315846850146 0.6099332824419336\n",
              "-0.33333338016573316 -0.41666649180183474 0.4771126775783264\n",
              "0.3333333798774787 0.24999994171172285 0.5361440575177073\n",
              "1.399206906817955e-07 -0.08333362477471956 0.5951754374570881\n",
              "0.3333333798774787 0.24999994171172285 0.6811802791661042\n",
              "1.399206906872241e-07 -0.08333362477471946 0.7402116591054851\n",
              "-0.3333331000360973 -0.4166671912611619 0.7992430390448659\n",
              "0.16666641016942133 0.08333385792782858 0.6664224341812589\n",
              "-0.16666682978736652 -0.2499997085586138 0.7254538141206397\n",
              "0.4999999302558456 0.4166667249549438 0.7844851940600207\n",
              "0.3333331934126425 -0.24999970855861364 0.6811802791661041\n",
              "-4.6544145475713774e-08 0.4166667249549438 0.7402116591054851\n",
              "-0.3333332865009333 0.08333315846850146 0.7992430390448659\n",
              "0.1666665966342577 -0.4166664918018348 0.6664224341812589\n",
              "-0.16666664332253042 0.24999994171172285 0.72545381412064\n",
              "-0.49999988327931805 -0.08333362477471973 0.7844851940600207\n",
              "-0.16666659692251198 0.24999994171172293 0.6811802791661042\n",
              "-0.4999998368792999 -0.08333362477471946 0.7402116591054851\n",
              "0.1666669231639118 -0.4166671912611618 0.799243039044866\n",
              "-0.33333356663056934 0.08333385792782858 0.6664224341812589\n",
              "0.3333331934126425 -0.2499997085586138 0.72545381412064\n",
              "-4.6544145281424744e-08 0.4166667249549438 0.7844851940600207\n",
              "-0.1666667833873484 -0.24999970855861364 0.6811802791661042\n",
              "0.49999997665586365 0.4166667249549438 0.7402116591054851\n",
              "0.1666667366990756 0.08333315846850146 0.799243039044866\n",
              "-0.33333338016573316 -0.41666649180183474 0.6664224341812589\n",
              "0.3333333798774787 0.24999994171172285 0.72545381412064\n",
              "1.399206906817955e-07 -0.08333362477471956 0.7844851940600207"
            ]
          },
          "metadata": {
            "tags": []
          },
          "execution_count": 15
        }
      ]
    },
    {
      "cell_type": "markdown",
      "metadata": {
        "id": "uW-X6_PNx1k3",
        "colab_type": "text"
      },
      "source": [
        "### Atomic-neighborhood analysis"
      ]
    },
    {
      "cell_type": "code",
      "metadata": {
        "id": "191YA5tMx1k4",
        "colab_type": "code",
        "colab": {}
      },
      "source": [
        "from jarvis.analysis.structure.neighbors import NeighborsAnalysis\n",
        "\n",
        "nb = NeighborsAnalysis(Si)"
      ],
      "execution_count": null,
      "outputs": []
    },
    {
      "cell_type": "code",
      "metadata": {
        "id": "83uvmomAx1k9",
        "colab_type": "code",
        "colab": {}
      },
      "source": [
        "bins_rdf, rdf, nbs = nb.get_rdf() #Global Radial distribution function\n",
        "adfa, bins_a = nb.ang_dist_first() #Angular distribution function upto first neighbor\n",
        "adfb, bins_b = nb.ang_dist_second() #Angular distribution function upto second neighbor\n",
        "ddf, bins_d = nb.get_ddf() #Dihedral distribution function upto first neighbor"
      ],
      "execution_count": null,
      "outputs": []
    },
    {
      "cell_type": "code",
      "metadata": {
        "id": "P2SKw__2x1lH",
        "colab_type": "code",
        "colab": {
          "base_uri": "https://localhost:8080/",
          "height": 987
        },
        "outputId": "80d9ba8b-0ace-4dd7-8b68-2958636689a9"
      },
      "source": [
        "import matplotlib\n",
        "%matplotlib inline\n",
        "import matplotlib.pyplot as plt\n",
        "from matplotlib.gridspec import GridSpec\n",
        "\n",
        "the_grid = GridSpec(2, 2)\n",
        "plt.rcParams.update({'font.size': 24})\n",
        "plt.figure(figsize=(16,14))\n",
        "\n",
        "plt.subplot(the_grid[0, 0])\n",
        "plt.title('(a) RDF')\n",
        "plt.plot(bins_rdf, rdf)\n",
        "plt.xlabel(r'Distance bins ($\\AA$)')\n",
        "\n",
        "plt.subplot(the_grid[0, 1])\n",
        "plt.title('(b) ADF-a')\n",
        "plt.plot(bins_a[:-1], adfa)\n",
        "plt.xlabel(r'Angle bins ($^\\circ$)')\n",
        "\n",
        "plt.subplot(the_grid[1, 0])\n",
        "plt.title('(c) ADF-b')\n",
        "plt.plot(bins_b[:-1], adfb)\n",
        "plt.xlabel(r'Angle bins ($^\\circ$)')\n",
        "\n",
        "plt.subplot(the_grid[1, 1])\n",
        "plt.title('(d) DDF')\n",
        "plt.plot(bins_d[:-1], ddf)\n",
        "plt.xlabel(r'Angle bins ($^\\circ$)')\n",
        "plt.tight_layout()"
      ],
      "execution_count": null,
      "outputs": [
        {
          "output_type": "display_data",
          "data": {
            "image/png": "[encoded data removed]",
            "text/plain": [
              "<Figure size 1152x1008 with 4 Axes>"
            ]
          },
          "metadata": {
            "tags": [],
            "needs_background": "light"
          }
        }
      ]
    },
    {
      "cell_type": "markdown",
      "metadata": {
        "id": "CY1sFwVkx1lO",
        "colab_type": "text"
      },
      "source": [
        "### Getting CFID descriptors: We can convert the chemo-physical information in the Atoms class to CFID features that can be used in Machine-learning"
      ]
    },
    {
      "cell_type": "code",
      "metadata": {
        "id": "H1xRVBOnx1lQ",
        "colab_type": "code",
        "colab": {}
      },
      "source": [
        "from jarvis.ai.descriptors.cfid import CFID\n",
        "\n",
        "cfid = CFID(Si)\n",
        "feature_names = cfid.get_comp_descp(print_names=True)\n",
        "feature_values = cfid.get_comp_descp().tolist()"
      ],
      "execution_count": null,
      "outputs": []
    },
    {
      "cell_type": "code",
      "metadata": {
        "id": "60brE0YHx1lV",
        "colab_type": "code",
        "colab": {
          "base_uri": "https://localhost:8080/",
          "height": 34
        },
        "outputId": "82f88206-7b99-40cf-c31d-937c90f28a84"
      },
      "source": [
        "print (feature_names[0], feature_values[0], len(feature_names), len(feature_values) )"
      ],
      "execution_count": null,
      "outputs": [
        {
          "output_type": "stream",
          "text": [
            "bp_mult_atom_rad 3490.3 1557 1557\n"
          ],
          "name": "stdout"
        }
      ]
    },
    {
      "cell_type": "code",
      "metadata": {
        "id": "6l1XgT0fx1la",
        "colab_type": "code",
        "colab": {}
      },
      "source": [
        ""
      ],
      "execution_count": null,
      "outputs": []
    }
  ]
}