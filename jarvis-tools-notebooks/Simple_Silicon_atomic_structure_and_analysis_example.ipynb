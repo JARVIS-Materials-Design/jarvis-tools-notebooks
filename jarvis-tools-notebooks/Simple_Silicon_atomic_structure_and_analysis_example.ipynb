{
  "nbformat": 4,
  "nbformat_minor": 0,
  "metadata": {
    "kernelspec": {
      "display_name": "Python 3",
      "language": "python",
      "name": "python3"
    },
    "language_info": {
      "codemirror_mode": {
        "name": "ipython",
        "version": 3
      },
      "file_extension": ".py",
      "mimetype": "text/x-python",
      "name": "python",
      "nbconvert_exporter": "python",
      "pygments_lexer": "ipython3",
      "version": "3.6.7"
    },
    "colab": {
      "name": "Simple Silicon atomic structure and analysis example.ipynb",
      "provenance": [],
      "include_colab_link": true
    }
  },
  "cells": [
    {
      "cell_type": "markdown",
      "metadata": {
        "id": "view-in-github",
        "colab_type": "text"
      },
      "source": [
        "<a href=\"https://colab.research.google.com/github/knc6/jarvis-tools-notebooks/blob/master/jarvis-tools-notebooks/Simple_Silicon_atomic_structure_and_analysis_example.ipynb\" target=\"_parent\"><img src=\"https://colab.research.google.com/assets/colab-badge.svg\" alt=\"Open In Colab\"/></a>"
      ]
    },
    {
      "cell_type": "markdown",
      "metadata": {
        "id": "1UwGjo8yx1i-"
      },
      "source": [
        "# Description of Atoms module and analysis"
      ]
    },
    {
      "cell_type": "markdown",
      "metadata": {
        "id": "85IhBrwnx1jC"
      },
      "source": [
        "# Table of contents\n",
        "1. Creating Silicon Atoms class\n",
        "2. Basic Atoms properties\n",
        "3. Atoms class to_dict and from_dict methods\n",
        "4. Making supercells\n",
        "5. Spacegroup information and conventional structure\n",
        "6. Making point-defect vacancy\n",
        "7. Making surface structure\n",
        "8. Making interfaces\n",
        "9. Neighborhood analysis\n",
        "10. X-ray diffractio (XRD) patterns\n",
        "11. Obtaining machine-learning descriptors\n",
        "12. Get an atomistic graph"
      ]
    },
    {
      "cell_type": "code",
      "metadata": {
        "id": "8Y2u3olRx3p8",
        "colab": {
          "base_uri": "https://localhost:8080/"
        },
        "outputId": "c295e16d-f454-463a-d395-2d8286b101ef"
      },
      "source": [
        "!pip install jarvis-tools"
      ],
      "execution_count": 1,
      "outputs": [
        {
          "output_type": "stream",
          "name": "stdout",
          "text": [
            "Looking in indexes: https://pypi.org/simple, https://us-python.pkg.dev/colab-wheels/public/simple/\n",
            "Collecting jarvis-tools\n",
            "  Downloading jarvis_tools-2023.1.8-py2.py3-none-any.whl (973 kB)\n",
            "\u001b[2K     \u001b[90m━━━━━━━━━━━━━━━━━━━━━━━━━━━━━━━━━━━━━━\u001b[0m \u001b[32m973.3/973.3 KB\u001b[0m \u001b[31m44.1 MB/s\u001b[0m eta \u001b[36m0:00:00\u001b[0m\n",
            "\u001b[?25hRequirement already satisfied: requests>=2.23.0 in /usr/local/lib/python3.8/dist-packages (from jarvis-tools) (2.25.1)\n",
            "Requirement already satisfied: scipy>=1.4.1 in /usr/local/lib/python3.8/dist-packages (from jarvis-tools) (1.7.3)\n",
            "Requirement already satisfied: tqdm>=4.41.1 in /usr/local/lib/python3.8/dist-packages (from jarvis-tools) (4.64.1)\n",
            "Collecting spglib>=1.14.1\n",
            "  Downloading spglib-2.0.2-cp38-cp38-manylinux_2_17_x86_64.manylinux2014_x86_64.whl (515 kB)\n",
            "\u001b[2K     \u001b[90m━━━━━━━━━━━━━━━━━━━━━━━━━━━━━━━━━━━━━━\u001b[0m \u001b[32m515.1/515.1 KB\u001b[0m \u001b[31m45.6 MB/s\u001b[0m eta \u001b[36m0:00:00\u001b[0m\n",
            "\u001b[?25hRequirement already satisfied: matplotlib>=3.0.0 in /usr/local/lib/python3.8/dist-packages (from jarvis-tools) (3.5.3)\n",
            "Collecting xmltodict>=0.11.0\n",
            "  Downloading xmltodict-0.13.0-py2.py3-none-any.whl (10.0 kB)\n",
            "Requirement already satisfied: joblib>=0.14.1 in /usr/local/lib/python3.8/dist-packages (from jarvis-tools) (1.2.0)\n",
            "Requirement already satisfied: numpy>=1.19.5 in /usr/local/lib/python3.8/dist-packages (from jarvis-tools) (1.22.4)\n",
            "Requirement already satisfied: toolz>=0.9.0 in /usr/local/lib/python3.8/dist-packages (from jarvis-tools) (0.12.0)\n",
            "Requirement already satisfied: python-dateutil>=2.7 in /usr/local/lib/python3.8/dist-packages (from matplotlib>=3.0.0->jarvis-tools) (2.8.2)\n",
            "Requirement already satisfied: pillow>=6.2.0 in /usr/local/lib/python3.8/dist-packages (from matplotlib>=3.0.0->jarvis-tools) (7.1.2)\n",
            "Requirement already satisfied: pyparsing>=2.2.1 in /usr/local/lib/python3.8/dist-packages (from matplotlib>=3.0.0->jarvis-tools) (3.0.9)\n",
            "Requirement already satisfied: packaging>=20.0 in /usr/local/lib/python3.8/dist-packages (from matplotlib>=3.0.0->jarvis-tools) (23.0)\n",
            "Requirement already satisfied: kiwisolver>=1.0.1 in /usr/local/lib/python3.8/dist-packages (from matplotlib>=3.0.0->jarvis-tools) (1.4.4)\n",
            "Requirement already satisfied: fonttools>=4.22.0 in /usr/local/lib/python3.8/dist-packages (from matplotlib>=3.0.0->jarvis-tools) (4.38.0)\n",
            "Requirement already satisfied: cycler>=0.10 in /usr/local/lib/python3.8/dist-packages (from matplotlib>=3.0.0->jarvis-tools) (0.11.0)\n",
            "Requirement already satisfied: idna<3,>=2.5 in /usr/local/lib/python3.8/dist-packages (from requests>=2.23.0->jarvis-tools) (2.10)\n",
            "Requirement already satisfied: urllib3<1.27,>=1.21.1 in /usr/local/lib/python3.8/dist-packages (from requests>=2.23.0->jarvis-tools) (1.24.3)\n",
            "Requirement already satisfied: certifi>=2017.4.17 in /usr/local/lib/python3.8/dist-packages (from requests>=2.23.0->jarvis-tools) (2022.12.7)\n",
            "Requirement already satisfied: chardet<5,>=3.0.2 in /usr/local/lib/python3.8/dist-packages (from requests>=2.23.0->jarvis-tools) (4.0.0)\n",
            "Requirement already satisfied: six>=1.5 in /usr/local/lib/python3.8/dist-packages (from python-dateutil>=2.7->matplotlib>=3.0.0->jarvis-tools) (1.15.0)\n",
            "Installing collected packages: xmltodict, spglib, jarvis-tools\n",
            "Successfully installed jarvis-tools-2023.1.8 spglib-2.0.2 xmltodict-0.13.0\n"
          ]
        }
      ]
    },
    {
      "cell_type": "markdown",
      "metadata": {
        "id": "FlV04uh3x1jD"
      },
      "source": [
        "### A crystal structure is defined by lattice-matrix, atomic coordinates and element types. As an example, let's create Siliocn crystal structure. We need to to import Atoms class from jarvis-tools to do that."
      ]
    },
    {
      "cell_type": "code",
      "metadata": {
        "id": "a7H09Z0Jx1jF"
      },
      "source": [
        "# If you don't have jarvis-tools package installed, try \n",
        "# !pip install jarvis-tools\n",
        "# and restart runtime for your notebook\n",
        "from jarvis.core.atoms import Atoms"
      ],
      "execution_count": 2,
      "outputs": []
    },
    {
      "cell_type": "code",
      "metadata": {
        "id": "X4fH6qU0x1jO"
      },
      "source": [
        "#Silicon crystal structure example. These crystal-structure data are generally obtained from XRD-type experiments.\n",
        "box = [[2.715, 2.715, 0], [0, 2.715, 2.715], [2.715, 0, 2.715]]\n",
        "coords = [[0, 0, 0], [0.25, 0.25, 0.25]]\n",
        "elements = [\"Si\", \"Si\"]\n",
        "Si = Atoms(lattice_mat=box, coords=coords, elements=elements)"
      ],
      "execution_count": 3,
      "outputs": []
    },
    {
      "cell_type": "markdown",
      "metadata": {
        "id": "87EzahSOx1jV"
      },
      "source": [
        "### Once the Atoms class is created, several properties can be calculated. Examples are given below:"
      ]
    },
    {
      "cell_type": "code",
      "metadata": {
        "id": "KAuG5dqTx1jW",
        "colab": {
          "base_uri": "https://localhost:8080/"
        },
        "outputId": "9d570b66-fc6a-47d5-ed23-4175697d0ee6"
      },
      "source": [
        "print ('volume',Si.volume)\n",
        "print ('density in g/cm3', Si.density)\n",
        "print ('composition as dictionary', Si.composition)\n",
        "print ('Chemical formula', Si.composition.reduced_formula)\n",
        "print ('Spacegroup info', Si.spacegroup())\n",
        "print ('lattice-parameters', Si.lattice.abc, Si.lattice.angles)\n",
        "print ('packing fraction',Si.packing_fraction)\n",
        "print ('number of atoms',Si.num_atoms)\n",
        "print ('Center of mass', Si.get_center_of_mass())\n",
        "print ('Atomic number list', Si.atomic_numbers)"
      ],
      "execution_count": 4,
      "outputs": [
        {
          "output_type": "stream",
          "name": "stdout",
          "text": [
            "volume 40.02575174999999\n",
            "density in g/cm3 2.3303545408113413\n",
            "composition as dictionary OrderedDict([('Si', 2)])\n",
            "Chemical formula Si\n",
            "Spacegroup info Fd-3m (227)\n",
            "lattice-parameters [3.83959, 3.83959, 3.83959] [60.0, 60.0, 60.0]\n",
            "packing fraction 0.27858\n",
            "number of atoms 2\n",
            "Center of mass [0.67875 0.67875 0.67875]\n",
            "Atomic number list [14, 14]\n"
          ]
        }
      ]
    },
    {
      "cell_type": "code",
      "metadata": {
        "id": "NBDZYn0Ex1jf",
        "colab": {
          "base_uri": "https://localhost:8080/"
        },
        "outputId": "e9d87be7-6dbf-48e5-f484-426f39dcdf76"
      },
      "source": [
        "# Print Atoms class in POSCAR format\n",
        "print (Si)"
      ],
      "execution_count": 5,
      "outputs": [
        {
          "output_type": "stream",
          "name": "stdout",
          "text": [
            "Si2\n",
            "1.0\n",
            "2.715 2.715 0.0\n",
            "0.0 2.715 2.715\n",
            "2.715 0.0 2.715\n",
            "Si\n",
            "2\n",
            "Cartesian\n",
            "0.0 0.0 0.0\n",
            "1.3575 1.3575 1.3575\n",
            "\n"
          ]
        }
      ]
    },
    {
      "cell_type": "markdown",
      "metadata": {
        "id": "6bU7u12bx1jp"
      },
      "source": [
        "### For databases purposes, it maybe important to store the Atoms class as a dictionary and then reloading the dictionary as Atoms object. An example is given below:"
      ]
    },
    {
      "cell_type": "code",
      "metadata": {
        "id": "TwABuZjex1jr",
        "colab": {
          "base_uri": "https://localhost:8080/"
        },
        "outputId": "a31bc1da-8234-4b7f-cad2-edb0184b5302"
      },
      "source": [
        "Si.to_dict()"
      ],
      "execution_count": 6,
      "outputs": [
        {
          "output_type": "execute_result",
          "data": {
            "text/plain": [
              "OrderedDict([('lattice_mat',\n",
              "              [[2.715, 2.715, 0.0], [0.0, 2.715, 2.715], [2.715, 0.0, 2.715]]),\n",
              "             ('coords', [[0.0, 0.0, 0.0], [0.25, 0.25, 0.25]]),\n",
              "             ('elements', ['Si', 'Si']),\n",
              "             ('abc', [3.83959, 3.83959, 3.83959]),\n",
              "             ('angles', [60.0, 60.0, 60.0]),\n",
              "             ('cartesian', False),\n",
              "             ('props', ['', ''])])"
            ]
          },
          "metadata": {},
          "execution_count": 6
        }
      ]
    },
    {
      "cell_type": "code",
      "metadata": {
        "id": "aOezw_oTx1jy"
      },
      "source": [
        "d = Si.to_dict()\n",
        "new_atoms = Atoms.from_dict(d)"
      ],
      "execution_count": 7,
      "outputs": []
    },
    {
      "cell_type": "markdown",
      "metadata": {
        "id": "y0UyPplxx1j6"
      },
      "source": [
        "Making a supercells: there are two methods"
      ]
    },
    {
      "cell_type": "code",
      "metadata": {
        "id": "PV5s1vP5x1j7",
        "colab": {
          "base_uri": "https://localhost:8080/"
        },
        "outputId": "10ca8358-4028-4ebb-bb7e-6edf3d5bff74"
      },
      "source": [
        "supercell_1 = Si.make_supercell([2,2,2])\n",
        "supercell_2 = Si.make_supercell_matrix([[2,0,0],[0,2,0],[0,0,2]])\n",
        "supercell_1.density == supercell_2.density"
      ],
      "execution_count": 8,
      "outputs": [
        {
          "output_type": "execute_result",
          "data": {
            "text/plain": [
              "True"
            ]
          },
          "metadata": {},
          "execution_count": 8
        }
      ]
    },
    {
      "cell_type": "markdown",
      "metadata": {
        "id": "gEqsP20Ux1kC"
      },
      "source": [
        "### Many tensor-like material properties such as elastic constants require conventional cell representations, which can be obtained as follows:"
      ]
    },
    {
      "cell_type": "code",
      "metadata": {
        "id": "J_Ccr-1Rx1kD",
        "colab": {
          "base_uri": "https://localhost:8080/"
        },
        "outputId": "f528f177-5954-4ba9-cbcb-48e89b7e0152"
      },
      "source": [
        "from jarvis.analysis.structure.spacegroup import Spacegroup3D\n",
        "\n",
        "spg = Spacegroup3D(Si)\n",
        "Si_cvn = spg.conventional_standard_structure\n",
        "print ('Number of atoms in the conventional cell', Si_cvn.num_atoms) \n",
        "print ('Wycoff multoplicity in the primitive-cell', spg._dataset[\"wyckoffs\"]) "
      ],
      "execution_count": 9,
      "outputs": [
        {
          "output_type": "stream",
          "name": "stdout",
          "text": [
            "Number of atoms in the conventional cell 8\n",
            "Wycoff multoplicity in the primitive-cell ['b', 'b']\n"
          ]
        }
      ]
    },
    {
      "cell_type": "code",
      "metadata": {
        "id": "XWIdi33jx1kJ",
        "colab": {
          "base_uri": "https://localhost:8080/"
        },
        "outputId": "995fe0ea-1b03-47a3-b938-77c45587338e"
      },
      "source": [
        "# Example to create Atoms object from POSCAR format file\n",
        "from jarvis.io.vasp.inputs import Poscar\n",
        "import urllib\n",
        "url = 'https://raw.githubusercontent.com/usnistgov/jarvis/v2020.6.9/jarvis/examples/vasp/SiOptb88/POSCAR'\n",
        "webf = urllib.request.urlopen(url)\n",
        "txt = webf.read()\n",
        "f = open('POSCAR', 'wb')\n",
        "f.write(txt)\n",
        "f.close()\n",
        "\n",
        "pos = Poscar.from_file('POSCAR').atoms\n",
        "print (pos)"
      ],
      "execution_count": 10,
      "outputs": [
        {
          "output_type": "stream",
          "name": "stdout",
          "text": [
            "Si2\n",
            "1.0\n",
            "3.348898 0.0 1.933487\n",
            "1.116299 3.157372 1.933487\n",
            "0.0 0.0 3.866975\n",
            "Si\n",
            "2\n",
            "Cartesian\n",
            "3.90705 2.7626987499999998 6.767215\n",
            "0.55815 0.39467125 0.966745\n",
            "\n"
          ]
        }
      ]
    },
    {
      "cell_type": "markdown",
      "metadata": {
        "id": "K-mSV4GBx1kS"
      },
      "source": [
        "### Realistic materials contain several types of point, line, surface and volume defects. Examples to create point-defects and surfaces are shown below:"
      ]
    },
    {
      "cell_type": "code",
      "metadata": {
        "id": "wzmvpAR7x1kT",
        "colab": {
          "base_uri": "https://localhost:8080/"
        },
        "outputId": "cfe2f492-7574-4ef3-ba98-438d4ac84928"
      },
      "source": [
        "from jarvis.analysis.defects.vacancy import Vacancy\n",
        "\n",
        "vacs = Vacancy(atoms=Si).generate_defects(enforce_c_size=10.0) #enforces cell-size to be close to 10 Angstroms\n",
        "print (len(vacs), Atoms.from_dict(vacs[0].to_dict()[\"defect_structure\"]).num_atoms)\n",
        "# We find that there are only one unique point vacanc available based on Wycoff-position information"
      ],
      "execution_count": 13,
      "outputs": [
        {
          "output_type": "stream",
          "name": "stdout",
          "text": [
            "1 53\n"
          ]
        }
      ]
    },
    {
      "cell_type": "code",
      "metadata": {
        "id": "kwiymVzex1kc"
      },
      "source": [
        "from jarvis.analysis.defects.surface import wulff_normals, Surface\n",
        "\n",
        "# Let's create (1,1,1) surface with three layers, and vacuum=18.0 Angstrom\n",
        "# We center it around origin so that it looks good during visualization\n",
        "surface_111 = Surface(atoms=Si, indices=[1, 1, 1], layers = 3, vacuum = 18 ).make_surface().center_around_origin() "
      ],
      "execution_count": 14,
      "outputs": []
    },
    {
      "cell_type": "code",
      "metadata": {
        "id": "i_jIjs5wx1ki",
        "colab": {
          "base_uri": "https://localhost:8080/"
        },
        "outputId": "5dbad125-211d-497e-fb48-c3bac0a8527f"
      },
      "source": [
        "print (surface_111)"
      ],
      "execution_count": 15,
      "outputs": [
        {
          "output_type": "stream",
          "name": "stdout",
          "text": [
            "Si40\n",
            "1.0\n",
            "7.679179643685906 0.0 0.0\n",
            "3.8395898218429525 6.650364651656329 0.0\n",
            "0.0 0.0 33.67505980849834\n",
            "Si\n",
            "40\n",
            "Cartesian\n",
            "2.8796928117748335 -1.6625888370859176 10.959382571813123\n",
            "2.8796926336177857 0.554194728476531 17.229406495212462\n",
            "-0.9598975445392609 -1.6625934887422462 20.36441845691213\n",
            "-0.9598977226963086 2.7709782940389776 23.499430418611794\n",
            "-2.879692099146646 -2.770978294038978 10.175629581388206\n",
            "4.799487722696308 1.6625934887422456 13.310641543087874\n",
            "0.9598975445392608 -0.5541947284765302 16.445653504787543\n",
            "-2.879692633617782 -2.770982945695306 19.58066546648721\n",
            "-0.9598971882251685 2.7709829456953052 14.09439453351279\n",
            "-2.8796928117748273 1.662588837085917 22.715677428186883\n",
            "-2.8796922773036915 -0.5541947284765302 14.09439453351279\n",
            "0.9598975445392618 -2.7709829456953052 17.229406495212462\n",
            "0.9598973663822165 1.662588837085917 20.36441845691213\n",
            "-2.8796928117748375 -0.5541993801328584 23.499430418611794\n",
            "-0.9598970100681216 0.554199380132858 10.175629581388206\n",
            "2.8796928117748335 -1.6625888370859176 13.310641543087874\n",
            "2.8796926336177817 2.7709829456953052 16.445653504787543\n",
            "0.9598979008533545 1.6625934887422456 10.959382571813123\n",
            "-0.9598970100681228 -1.6625888370859176 10.959382571813123\n",
            "-0.95989790085336 -1.6625934887422433 22.715677428186883\n",
            "2.879692277303693 0.5541947284765287 19.58066546648721\n",
            "2.8796926336177857 2.7709829456953075 14.09439453351279\n",
            "-0.9598975445392612 0.5541947284765295 17.229406495212462\n",
            "-4.7994877226963055 -1.6625934887422462 20.36441845691213\n",
            "2.8796920991466406 2.77097829403898 23.499430418611794\n",
            "0.9598977226963068 -2.770978294038978 10.175629581388206\n",
            "0.9598975445392612 1.6625934887422456 13.310641543087874\n",
            "-2.879692633617784 -0.5541947284765298 16.445653504787543\n",
            "0.959897188225171 -2.7709829456953083 19.58066546648721\n",
            "0.9598970100681169 1.6625888370859192 22.715677428186883\n",
            "4.799487722696308 1.6625934887422456 10.959382571813125\n",
            "0.9598975445392626 -0.5541947284765302 14.09439453351279\n",
            "-2.8796926336177857 -2.770982945695306 17.229406495212462\n",
            "-2.8796928117748304 1.6625888370859176 20.36441845691213\n",
            "0.9598970100681222 -0.5541993801328554 23.4994304186118\n",
            "2.879692811774832 0.554199380132858 10.175629581388206\n",
            "-0.9598973663822142 -1.6625888370859176 13.310641543087874\n",
            "-0.959897544539261 2.770982945695306 16.445653504787543\n",
            "-0.9598975445392612 0.5541947284765295 19.58066546648721\n",
            "-4.799487722696305 -1.6625934887422447 22.715677428186883\n",
            "\n"
          ]
        }
      ]
    },
    {
      "cell_type": "markdown",
      "metadata": {
        "id": "QaHThAhmx1ko"
      },
      "source": [
        "### For practical applications, materials are generally used as heterostructures. We can use the following as an example to make Si(111)-Si(111) interface"
      ]
    },
    {
      "cell_type": "code",
      "metadata": {
        "id": "k3CYqCLlx1kp",
        "colab": {
          "base_uri": "https://localhost:8080/"
        },
        "outputId": "bcc5fb79-1baa-4907-edbb-dcfb9ea6d11a"
      },
      "source": [
        "from jarvis.analysis.interface.zur import ZSLGenerator, mismatch_strts, get_hetero,make_interface\n",
        "\n",
        "film = Surface(atoms=Si, indices=[1, 1, 1], layers = 3, vacuum = 18 ).make_surface().center_around_origin() \n",
        "substrate = Surface(atoms=Si, indices=[1, 1, 1], layers = 3, vacuum = 18 ).make_surface().center_around_origin()  \n",
        "info = make_interface(film=film, subs=substrate)['interface'].center(vacuum=18)"
      ],
      "execution_count": 16,
      "outputs": [
        {
          "output_type": "stream",
          "name": "stdout",
          "text": [
            "mismatch_u,mismatch_v 0.0 0.0\n"
          ]
        }
      ]
    },
    {
      "cell_type": "code",
      "metadata": {
        "id": "EOTDooSPx1kw",
        "colab": {
          "base_uri": "https://localhost:8080/"
        },
        "outputId": "147bbdb6-115d-451e-d253-7cdbd0fb30ec"
      },
      "source": [
        "info"
      ],
      "execution_count": 17,
      "outputs": [
        {
          "output_type": "execute_result",
          "data": {
            "text/plain": [
              "Si80\n",
              "1.0\n",
              "7.67918 -0.0 -0.0\n",
              "3.83959 -6.65036 -0.0\n",
              "-0.0 -0.0 -65.6476016744472\n",
              "Si\n",
              "80\n",
              "Cartesian\n",
              "-2.879692811774834 1.6625888370859174 -39.48894538838912\n",
              "-0.9598971882251709 2.7709829456953083 -48.110228283063215\n",
              "-2.8796926336177857 -2.7709829456953075 -42.62395735008879\n",
              "0.9598975445392615 -0.5541947284765293 -45.75896931178847\n",
              "4.799487722696304 1.6625934887422462 -48.89398127348814\n",
              "-2.8796920991466393 -2.7709782940389798 -52.0289932351878\n",
              "-0.9598977226963069 2.7709782940389776 -38.705192397964204\n",
              "-0.9598975445392604 -1.6625934887422456 -41.84020435966388\n",
              "-2.879692277303693 -0.5541947284765285 -48.110228283063215\n",
              "2.8796926336177835 0.5541947284765301 -44.97521632136355\n",
              "0.9598975445392616 -2.770982945695306 -44.97521632136355\n",
              "-4.799487722696308 -1.6625934887422456 -39.48894538838912\n",
              "-0.9598975445392623 0.5541947284765302 -42.62395735008879\n",
              "2.8796926336177857 2.770982945695306 -45.75896931178847\n",
              "2.87969281177483 -1.6625888370859174 -48.89398127348814\n",
              "-0.959897010068122 0.5541993801328556 -52.02899323518781\n",
              "-2.879692811774831 -0.5541993801328577 -38.705192397964204\n",
              "-0.9598970100681162 -1.6625888370859192 -51.24524024476289\n",
              "0.9598973663822141 1.6625888370859174 -41.84020435966388\n",
              "0.9598979008533601 1.6625934887422433 -51.24524024476289\n",
              "-2.87969263361778 -2.7709829456953052 -44.97521632136355\n",
              "0.9598971882251693 -2.7709829456953052 -42.62395735008879\n",
              "-2.8796926336177857 -0.5541947284765307 -45.75896931178847\n",
              "0.9598975445392599 1.6625934887422462 -48.89398127348814\n",
              "0.9598977226963095 -2.7709782940389776 -52.0289932351878\n",
              "2.8796920991466446 2.7709782940389776 -38.705192397964204\n",
              "-4.799487722696308 -1.6625934887422456 -41.84020435966388\n",
              "-0.9598975445392604 0.5541947284765302 -44.97521632136355\n",
              "0.9598970100681226 1.6625888370859174 -39.48894538838912\n",
              "2.8796926336177804 2.770982945695306 -48.110228283063215\n",
              "-0.9598979008533537 -1.6625934887422456 -39.48894538838912\n",
              "2.8796922773036906 0.5541947284765302 -42.62395735008879\n",
              "-0.959897544539262 2.7709829456953052 -45.75896931178847\n",
              "-0.9598973663822155 -1.662588837085917 -48.89398127348814\n",
              "2.879692811774837 0.5541993801328584 -52.0289932351878\n",
              "0.9598970100681217 -0.5541993801328577 -38.705192397964204\n",
              "-2.879692811774834 1.6625888370859174 -41.84020435966388\n",
              "2.8796928117748273 -1.662588837085917 -51.24524024476289\n",
              "0.9598975445392615 -0.5541947284765293 -48.110228283063215\n",
              "4.799487722696303 1.6625934887422447 -51.24524024476289\n",
              "-2.8796928117748335 1.6625888370859172 -23.16514455116553\n",
              "0.9598975445392613 -0.5541947284765291 -29.435168474564865\n",
              "4.799487722696302 1.6625934887422458 -32.57018043626454\n",
              "-2.8796920991466375 -2.7709782940389793 -35.705192397964204\n",
              "-0.9598977226963072 2.770978294038977 -22.381391560740614\n",
              "-0.9598975445392597 -1.662593488742245 -25.516403522440278\n",
              "2.879692633617783 0.55419472847653 -28.651415484139946\n",
              "-0.9598971882251713 2.770982945695308 -31.786427445839614\n",
              "-0.9598970100681155 -1.6625888370859185 -34.92143940753928\n",
              "-4.799487722696306 -1.662593488742245 -23.16514455116553\n",
              "-0.9598975445392625 0.5541947284765302 -26.300156512865197\n",
              "2.879692633617784 2.7709829456953057 -29.435168474564865\n",
              "2.87969281177483 -1.6625888370859172 -32.57018043626454\n",
              "-0.959897010068122 0.5541993801328555 -35.705192397964204\n",
              "-2.8796928117748295 -0.5541993801328576 -22.381391560740614\n",
              "0.9598973663822136 1.6625888370859172 -25.516403522440278\n",
              "0.9598975445392622 -2.7709829456953057 -28.651415484139946\n",
              "-2.8796922773036915 -0.5541947284765284 -31.786427445839614\n",
              "-2.879692633617784 -2.770982945695307 -26.300156512865197\n",
              "0.9598979008533595 1.6625934887422429 -34.92143940753928\n",
              "0.95989718822517 -2.770982945695305 -26.300156512865197\n",
              "2.879692811774827 -1.6625888370859163 -34.92143940753928\n",
              "-2.879692633617785 -0.5541947284765306 -29.435168474564865\n",
              "0.9598975445392592 1.6625934887422458 -32.57018043626454\n",
              "0.9598977226963097 -2.770978294038977 -35.705192397964204\n",
              "2.8796920991466433 2.770978294038977 -22.381391560740614\n",
              "-4.799487722696306 -1.662593488742245 -25.516403522440278\n",
              "-0.9598975445392602 0.5541947284765302 -28.651415484139953\n",
              "2.8796926336177786 2.7709829456953057 -31.786427445839614\n",
              "-0.959897900853353 -1.662593488742245 -23.16514455116553\n",
              "0.9598970100681224 1.6625888370859172 -23.16514455116553\n",
              "2.8796922773036906 0.5541947284765302 -26.300156512865197\n",
              "-0.9598975445392628 2.770982945695305 -29.435168474564865\n",
              "-0.9598973663822149 -1.6625888370859163 -32.57018043626454\n",
              "2.8796928117748357 0.5541993801328584 -35.705192397964204\n",
              "0.9598970100681216 -0.5541993801328576 -22.381391560740614\n",
              "-2.8796928117748335 1.6625888370859172 -25.516403522440278\n",
              "-2.879692633617778 -2.770982945695305 -28.651415484139946\n",
              "0.9598975445392613 -0.5541947284765291 -31.786427445839614\n",
              "4.799487722696301 1.6625934887422444 -34.92143940753928"
            ]
          },
          "metadata": {},
          "execution_count": 17
        }
      ]
    },
    {
      "cell_type": "markdown",
      "metadata": {
        "id": "uW-X6_PNx1k3"
      },
      "source": [
        "### Atomic-neighborhood analysis"
      ]
    },
    {
      "cell_type": "code",
      "metadata": {
        "id": "191YA5tMx1k4"
      },
      "source": [
        "from jarvis.analysis.structure.neighbors import NeighborsAnalysis\n",
        "\n",
        "nb = NeighborsAnalysis(Si)"
      ],
      "execution_count": 18,
      "outputs": []
    },
    {
      "cell_type": "code",
      "metadata": {
        "id": "83uvmomAx1k9"
      },
      "source": [
        "bins_rdf, rdf, nbs = nb.get_rdf() #Global Radial distribution function\n",
        "adfa, bins_a = nb.ang_dist_first() #Angular distribution function upto first neighbor\n",
        "adfb, bins_b = nb.ang_dist_second() #Angular distribution function upto second neighbor\n",
        "ddf, bins_d = nb.get_ddf() #Dihedral distribution function upto first neighbor"
      ],
      "execution_count": 19,
      "outputs": []
    },
    {
      "cell_type": "code",
      "metadata": {
        "id": "P2SKw__2x1lH",
        "colab": {
          "base_uri": "https://localhost:8080/",
          "height": 987
        },
        "outputId": "b97c18ef-5437-4dcb-f3ad-f100c44453f2"
      },
      "source": [
        "import matplotlib\n",
        "%matplotlib inline\n",
        "import matplotlib.pyplot as plt\n",
        "from matplotlib.gridspec import GridSpec\n",
        "\n",
        "the_grid = GridSpec(2, 2)\n",
        "plt.rcParams.update({'font.size': 24})\n",
        "plt.figure(figsize=(16,14))\n",
        "\n",
        "plt.subplot(the_grid[0, 0])\n",
        "plt.title('(a) RDF')\n",
        "plt.plot(bins_rdf, rdf)\n",
        "plt.xlabel(r'Distance bins ($\\AA$)')\n",
        "\n",
        "plt.subplot(the_grid[0, 1])\n",
        "plt.title('(b) ADF-a')\n",
        "plt.plot(bins_a[:-1], adfa)\n",
        "plt.xlabel(r'Angle bins ($^\\circ$)')\n",
        "\n",
        "plt.subplot(the_grid[1, 0])\n",
        "plt.title('(c) ADF-b')\n",
        "plt.plot(bins_b[:-1], adfb)\n",
        "plt.xlabel(r'Angle bins ($^\\circ$)')\n",
        "\n",
        "plt.subplot(the_grid[1, 1])\n",
        "plt.title('(d) DDF')\n",
        "plt.plot(bins_d[:-1], ddf)\n",
        "plt.xlabel(r'Angle bins ($^\\circ$)')\n",
        "plt.tight_layout()"
      ],
      "execution_count": 20,
      "outputs": [
        {
          "output_type": "display_data",
          "data": {
            "text/plain": [
              "<Figure size 1152x1008 with 4 Axes>"
            ],
            "image/png": "[encoded data removed]"
          },
          "metadata": {
            "needs_background": "light"
          }
        }
      ]
    },
    {
      "cell_type": "markdown",
      "source": [
        "### X-ray diffraction"
      ],
      "metadata": {
        "id": "9AkZkkLI9Qkt"
      }
    },
    {
      "cell_type": "code",
      "source": [
        "from jarvis.analysis.diffraction.xrd import XRD\n",
        "theta,d_hkls,intens = XRD().simulate(atoms=Si)"
      ],
      "metadata": {
        "id": "y3yTi4VG9Xf1"
      },
      "execution_count": 25,
      "outputs": []
    },
    {
      "cell_type": "code",
      "source": [
        "plt.bar(theta,intens)"
      ],
      "metadata": {
        "id": "SfvqvRQx-gyx",
        "outputId": "aecbd1b9-b7f8-4a88-a6ee-277129439890",
        "colab": {
          "base_uri": "https://localhost:8080/",
          "height": 304
        }
      },
      "execution_count": 26,
      "outputs": [
        {
          "output_type": "execute_result",
          "data": {
            "text/plain": [
              "<BarContainer object of 12 artists>"
            ]
          },
          "metadata": {},
          "execution_count": 26
        },
        {
          "output_type": "display_data",
          "data": {
            "text/plain": [
              "<Figure size 432x288 with 1 Axes>"
            ],
            "image/png": "[encoded data removed]"
          },
          "metadata": {
            "needs_background": "light"
          }
        }
      ]
    },
    {
      "cell_type": "code",
      "source": [
        "from jarvis.core.spectrum import Spectrum\n",
        "import numpy as np\n",
        "def gaussian(theta2, alpha, fwhm):\n",
        "\n",
        "    \"\"\"\n",
        "    Gaussian function for profiling peaks\n",
        "    \"\"\"\n",
        "\n",
        "    tmp = ((alpha - theta2)/fwhm)**2\n",
        "    return np.exp(-4*np.log(2)*tmp)\n",
        "\n",
        "def get_profile(fwhm=0.1,min2theta=0,max2theta=180,res=0.02,two_thetas=[],intensities=[]):\n",
        "    N = int((max2theta-min2theta)/res)\n",
        "    px = np.linspace(min2theta, max2theta, N) \n",
        "    py = np.zeros((N))\n",
        "    for two_theta, intensity in zip(two_thetas, intensities):\n",
        "        tmp = gaussian(two_theta, px, fwhm)\n",
        "        py += intensity * tmp\n",
        "    py /= np.max(py)\n",
        "    return px,py\n",
        "\n",
        "px,py=get_profile(two_thetas=theta,intensities=intens)"
      ],
      "metadata": {
        "id": "bMXm8u_P-s7F"
      },
      "execution_count": 27,
      "outputs": []
    },
    {
      "cell_type": "code",
      "source": [
        "plt.plot(px,py)"
      ],
      "metadata": {
        "id": "0PbhpetX-7_F",
        "outputId": "48002a41-098b-40b5-eb1a-8fe6040b0358",
        "colab": {
          "base_uri": "https://localhost:8080/",
          "height": 297
        }
      },
      "execution_count": 28,
      "outputs": [
        {
          "output_type": "execute_result",
          "data": {
            "text/plain": [
              "[<matplotlib.lines.Line2D at 0x7f3723a57130>]"
            ]
          },
          "metadata": {},
          "execution_count": 28
        },
        {
          "output_type": "display_data",
          "data": {
            "text/plain": [
              "<Figure size 432x288 with 1 Axes>"
            ],
            "image/png": "[encoded data removed]"
          },
          "metadata": {
            "needs_background": "light"
          }
        }
      ]
    },
    {
      "cell_type": "markdown",
      "metadata": {
        "id": "CY1sFwVkx1lO"
      },
      "source": [
        "### Getting CFID descriptors: We can convert the chemo-physical information in the Atoms class to CFID features that can be used in Machine-learning"
      ]
    },
    {
      "cell_type": "code",
      "metadata": {
        "id": "H1xRVBOnx1lQ"
      },
      "source": [
        "from jarvis.ai.descriptors.cfid import CFID\n",
        "\n",
        "cfid = CFID(Si)\n",
        "feature_names = cfid.get_comp_descp(print_names=True)\n",
        "feature_values = cfid.get_comp_descp().tolist()"
      ],
      "execution_count": 29,
      "outputs": []
    },
    {
      "cell_type": "code",
      "metadata": {
        "id": "60brE0YHx1lV",
        "colab": {
          "base_uri": "https://localhost:8080/"
        },
        "outputId": "afb66a1b-4fbf-4e0b-b6ef-cdc63c0b9e1f"
      },
      "source": [
        "print (feature_names[0], feature_values[0], len(feature_names), len(feature_values) )"
      ],
      "execution_count": 30,
      "outputs": [
        {
          "output_type": "stream",
          "name": "stdout",
          "text": [
            "bp_mult_atom_rad 3490.3 1557 1557\n"
          ]
        }
      ]
    },
    {
      "cell_type": "markdown",
      "source": [
        "Get an atomistic graph"
      ],
      "metadata": {
        "id": "i4mwNSrw_VfX"
      }
    },
    {
      "cell_type": "code",
      "source": [
        "!pip install dgl"
      ],
      "metadata": {
        "id": "6ZSk2YEC_gJ-",
        "outputId": "f04c7d8e-6cac-4889-89ef-80e43dee41be",
        "colab": {
          "base_uri": "https://localhost:8080/",
          "height": 503
        }
      },
      "execution_count": 32,
      "outputs": [
        {
          "output_type": "stream",
          "name": "stdout",
          "text": [
            "Looking in indexes: https://pypi.org/simple, https://us-python.pkg.dev/colab-wheels/public/simple/\n",
            "Collecting dgl\n",
            "  Downloading dgl-1.0.1-cp38-cp38-manylinux1_x86_64.whl (5.4 MB)\n",
            "\u001b[2K     \u001b[90m━━━━━━━━━━━━━━━━━━━━━━━━━━━━━━━━━━━━━━━━\u001b[0m \u001b[32m5.4/5.4 MB\u001b[0m \u001b[31m30.3 MB/s\u001b[0m eta \u001b[36m0:00:00\u001b[0m\n",
            "\u001b[?25hRequirement already satisfied: requests>=2.19.0 in /usr/local/lib/python3.8/dist-packages (from dgl) (2.25.1)\n",
            "Requirement already satisfied: scipy>=1.1.0 in /usr/local/lib/python3.8/dist-packages (from dgl) (1.7.3)\n",
            "Requirement already satisfied: numpy>=1.14.0 in /usr/local/lib/python3.8/dist-packages (from dgl) (1.22.4)\n",
            "Requirement already satisfied: tqdm in /usr/local/lib/python3.8/dist-packages (from dgl) (4.64.1)\n",
            "Collecting psutil>=5.8.0\n",
            "  Downloading psutil-5.9.4-cp36-abi3-manylinux_2_12_x86_64.manylinux2010_x86_64.manylinux_2_17_x86_64.manylinux2014_x86_64.whl (280 kB)\n",
            "\u001b[2K     \u001b[90m━━━━━━━━━━━━━━━━━━━━━━━━━━━━━━━━━━━━━━\u001b[0m \u001b[32m280.2/280.2 KB\u001b[0m \u001b[31m23.8 MB/s\u001b[0m eta \u001b[36m0:00:00\u001b[0m\n",
            "\u001b[?25hRequirement already satisfied: networkx>=2.1 in /usr/local/lib/python3.8/dist-packages (from dgl) (3.0)\n",
            "Requirement already satisfied: idna<3,>=2.5 in /usr/local/lib/python3.8/dist-packages (from requests>=2.19.0->dgl) (2.10)\n",
            "Requirement already satisfied: certifi>=2017.4.17 in /usr/local/lib/python3.8/dist-packages (from requests>=2.19.0->dgl) (2022.12.7)\n",
            "Requirement already satisfied: urllib3<1.27,>=1.21.1 in /usr/local/lib/python3.8/dist-packages (from requests>=2.19.0->dgl) (1.24.3)\n",
            "Requirement already satisfied: chardet<5,>=3.0.2 in /usr/local/lib/python3.8/dist-packages (from requests>=2.19.0->dgl) (4.0.0)\n",
            "Installing collected packages: psutil, dgl\n",
            "  Attempting uninstall: psutil\n",
            "    Found existing installation: psutil 5.4.8\n",
            "    Uninstalling psutil-5.4.8:\n",
            "      Successfully uninstalled psutil-5.4.8\n",
            "Successfully installed dgl-1.0.1 psutil-5.9.4\n"
          ]
        },
        {
          "output_type": "display_data",
          "data": {
            "application/vnd.colab-display-data+json": {
              "pip_warning": {
                "packages": [
                  "psutil"
                ]
              }
            }
          },
          "metadata": {}
        }
      ]
    },
    {
      "cell_type": "code",
      "metadata": {
        "id": "6l1XgT0fx1la"
      },
      "source": [
        "from jarvis.core.graphs import Graph\n",
        "g,lg = Graph.atom_dgl_multigraph(atoms=Si)"
      ],
      "execution_count": 34,
      "outputs": []
    },
    {
      "cell_type": "code",
      "source": [
        "g #graph"
      ],
      "metadata": {
        "id": "nZCKTYJq_fEV",
        "outputId": "a08f6eda-261b-48df-aa3e-15479778a870",
        "colab": {
          "base_uri": "https://localhost:8080/"
        }
      },
      "execution_count": 35,
      "outputs": [
        {
          "output_type": "execute_result",
          "data": {
            "text/plain": [
              "Graph(num_nodes=2, num_edges=64,\n",
              "      ndata_schemes={'atom_features': Scheme(shape=(92,), dtype=torch.float32)}\n",
              "      edata_schemes={'r': Scheme(shape=(3,), dtype=torch.float32)})"
            ]
          },
          "metadata": {},
          "execution_count": 35
        }
      ]
    },
    {
      "cell_type": "code",
      "source": [
        "lg #line graph"
      ],
      "metadata": {
        "id": "goveM-AP_neW",
        "outputId": "34f523af-e135-41ad-ad23-a439db2f3d0a",
        "colab": {
          "base_uri": "https://localhost:8080/"
        }
      },
      "execution_count": 36,
      "outputs": [
        {
          "output_type": "execute_result",
          "data": {
            "text/plain": [
              "Graph(num_nodes=64, num_edges=2000,\n",
              "      ndata_schemes={'r': Scheme(shape=(3,), dtype=torch.float32)}\n",
              "      edata_schemes={'h': Scheme(shape=(), dtype=torch.float32)})"
            ]
          },
          "metadata": {},
          "execution_count": 36
        }
      ]
    },
    {
      "cell_type": "code",
      "source": [],
      "metadata": {
        "id": "dS8_MX-L_qfV"
      },
      "execution_count": null,
      "outputs": []
    }
  ]
}