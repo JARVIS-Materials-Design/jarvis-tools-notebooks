{
  "nbformat": 4,
  "nbformat_minor": 0,
  "metadata": {
    "colab": {
      "provenance": [],
      "gpuType": "T4",
      "authorship_tag": "ABX9TyNSvYk6IMROhUwwkc7yL/XC",
      "include_colab_link": true
    },
    "kernelspec": {
      "name": "python3",
      "display_name": "Python 3"
    },
    "language_info": {
      "name": "python"
    },
    "accelerator": "GPU"
  },
  "cells": [
    {
      "cell_type": "markdown",
      "metadata": {
        "id": "view-in-github",
        "colab_type": "text"
      },
      "source": [
        "<a href=\"https://colab.research.google.com/github/knc6/jarvis-tools-notebooks/blob/master/jarvis-tools-notebooks/tinnet_O_ALIGNN_FF.ipynb\" target=\"_parent\"><img src=\"https://colab.research.google.com/assets/colab-badge.svg\" alt=\"Open In Colab\"/></a>"
      ]
    },
    {
      "cell_type": "code",
      "source": [
        "import os\n",
        "if not os.path.exists('jarvis_leaderboard'):\n",
        "  !git clone https://github.com/usnistgov/jarvis_leaderboard.git\n",
        "os.chdir('jarvis_leaderboard')\n",
        "!pip install -e ."
      ],
      "metadata": {
        "id": "D13OHzEcZL5S",
        "outputId": "f0b7673f-5ffa-4237-8244-3718546e3e38",
        "colab": {
          "base_uri": "https://localhost:8080/"
        }
      },
      "execution_count": 1,
      "outputs": [
        {
          "output_type": "stream",
          "name": "stdout",
          "text": [
            "Cloning into 'jarvis_leaderboard'...\n",
            "remote: Enumerating objects: 46497, done.\u001b[K\n",
            "remote: Counting objects: 100% (15297/15297), done.\u001b[K\n",
            "remote: Compressing objects: 100% (1773/1773), done.\u001b[K\n",
            "remote: Total 46497 (delta 8114), reused 14953 (delta 7950), pack-reused 31200\u001b[K\n",
            "Receiving objects: 100% (46497/46497), 374.18 MiB | 18.06 MiB/s, done.\n",
            "Resolving deltas: 100% (24282/24282), done.\n",
            "Updating files: 100% (2708/2708), done.\n",
            "Obtaining file:///content/jarvis_leaderboard\n",
            "  Preparing metadata (setup.py) ... \u001b[?25l\u001b[?25hdone\n",
            "Requirement already satisfied: numpy>=1.19.5 in /usr/local/lib/python3.10/dist-packages (from jarvis-leaderboard==2023.8.1) (1.23.5)\n",
            "Requirement already satisfied: scipy>=1.6.3 in /usr/local/lib/python3.10/dist-packages (from jarvis-leaderboard==2023.8.1) (1.10.1)\n",
            "Collecting jarvis-tools>=2021.07.19 (from jarvis-leaderboard==2023.8.1)\n",
            "  Downloading jarvis_tools-2023.5.26-py2.py3-none-any.whl (974 kB)\n",
            "\u001b[2K     \u001b[90m━━━━━━━━━━━━━━━━━━━━━━━━━━━━━━━━━━━━━━━\u001b[0m \u001b[32m974.6/974.6 kB\u001b[0m \u001b[31m7.0 MB/s\u001b[0m eta \u001b[36m0:00:00\u001b[0m\n",
            "\u001b[?25hRequirement already satisfied: scikit-learn>=0.24.1 in /usr/local/lib/python3.10/dist-packages (from jarvis-leaderboard==2023.8.1) (1.2.2)\n",
            "Requirement already satisfied: pandas>=1.2.4 in /usr/local/lib/python3.10/dist-packages (from jarvis-leaderboard==2023.8.1) (1.5.3)\n",
            "Collecting mkdocs-material>=9.0.5 (from jarvis-leaderboard==2023.8.1)\n",
            "  Downloading mkdocs_material-9.1.21-py3-none-any.whl (7.9 MB)\n",
            "\u001b[2K     \u001b[90m━━━━━━━━━━━━━━━━━━━━━━━━━━━━━━━━━━━━━━━━\u001b[0m \u001b[32m7.9/7.9 MB\u001b[0m \u001b[31m23.4 MB/s\u001b[0m eta \u001b[36m0:00:00\u001b[0m\n",
            "\u001b[?25hRequirement already satisfied: pydantic>=1.8.1 in /usr/local/lib/python3.10/dist-packages (from jarvis-leaderboard==2023.8.1) (1.10.12)\n",
            "Collecting markdown==3.2.1 (from jarvis-leaderboard==2023.8.1)\n",
            "  Downloading Markdown-3.2.1-py2.py3-none-any.whl (88 kB)\n",
            "\u001b[2K     \u001b[90m━━━━━━━━━━━━━━━━━━━━━━━━━━━━━━━━━━━━━━━━\u001b[0m \u001b[32m88.8/88.8 kB\u001b[0m \u001b[31m4.5 MB/s\u001b[0m eta \u001b[36m0:00:00\u001b[0m\n",
            "\u001b[?25hRequirement already satisfied: absl-py==1.4.0 in /usr/local/lib/python3.10/dist-packages (from jarvis-leaderboard==2023.8.1) (1.4.0)\n",
            "Collecting evaluate==0.4.0 (from jarvis-leaderboard==2023.8.1)\n",
            "  Downloading evaluate-0.4.0-py3-none-any.whl (81 kB)\n",
            "\u001b[2K     \u001b[90m━━━━━━━━━━━━━━━━━━━━━━━━━━━━━━━━━━━━━━━━\u001b[0m \u001b[32m81.4/81.4 kB\u001b[0m \u001b[31m10.4 MB/s\u001b[0m eta \u001b[36m0:00:00\u001b[0m\n",
            "\u001b[?25hRequirement already satisfied: nltk==3.8.1 in /usr/local/lib/python3.10/dist-packages (from jarvis-leaderboard==2023.8.1) (3.8.1)\n",
            "Collecting rouge-score==0.1.2 (from jarvis-leaderboard==2023.8.1)\n",
            "  Downloading rouge_score-0.1.2.tar.gz (17 kB)\n",
            "  Preparing metadata (setup.py) ... \u001b[?25l\u001b[?25hdone\n",
            "Collecting datasets>=2.0.0 (from evaluate==0.4.0->jarvis-leaderboard==2023.8.1)\n",
            "  Downloading datasets-2.14.4-py3-none-any.whl (519 kB)\n",
            "\u001b[2K     \u001b[90m━━━━━━━━━━━━━━━━━━━━━━━━━━━━━━━━━━━━━━\u001b[0m \u001b[32m519.3/519.3 kB\u001b[0m \u001b[31m29.4 MB/s\u001b[0m eta \u001b[36m0:00:00\u001b[0m\n",
            "\u001b[?25hCollecting dill (from evaluate==0.4.0->jarvis-leaderboard==2023.8.1)\n",
            "  Downloading dill-0.3.7-py3-none-any.whl (115 kB)\n",
            "\u001b[2K     \u001b[90m━━━━━━━━━━━━━━━━━━━━━━━━━━━━━━━━━━━━━━\u001b[0m \u001b[32m115.3/115.3 kB\u001b[0m \u001b[31m13.6 MB/s\u001b[0m eta \u001b[36m0:00:00\u001b[0m\n",
            "\u001b[?25hRequirement already satisfied: requests>=2.19.0 in /usr/local/lib/python3.10/dist-packages (from evaluate==0.4.0->jarvis-leaderboard==2023.8.1) (2.31.0)\n",
            "Requirement already satisfied: tqdm>=4.62.1 in /usr/local/lib/python3.10/dist-packages (from evaluate==0.4.0->jarvis-leaderboard==2023.8.1) (4.65.0)\n",
            "Collecting xxhash (from evaluate==0.4.0->jarvis-leaderboard==2023.8.1)\n",
            "  Downloading xxhash-3.3.0-cp310-cp310-manylinux_2_17_x86_64.manylinux2014_x86_64.whl (194 kB)\n",
            "\u001b[2K     \u001b[90m━━━━━━━━━━━━━━━━━━━━━━━━━━━━━━━━━━━━━━\u001b[0m \u001b[32m194.1/194.1 kB\u001b[0m \u001b[31m23.2 MB/s\u001b[0m eta \u001b[36m0:00:00\u001b[0m\n",
            "\u001b[?25hCollecting multiprocess (from evaluate==0.4.0->jarvis-leaderboard==2023.8.1)\n",
            "  Downloading multiprocess-0.70.15-py310-none-any.whl (134 kB)\n",
            "\u001b[2K     \u001b[90m━━━━━━━━━━━━━━━━━━━━━━━━━━━━━━━━━━━━━━\u001b[0m \u001b[32m134.8/134.8 kB\u001b[0m \u001b[31m18.4 MB/s\u001b[0m eta \u001b[36m0:00:00\u001b[0m\n",
            "\u001b[?25hRequirement already satisfied: fsspec[http]>=2021.05.0 in /usr/local/lib/python3.10/dist-packages (from evaluate==0.4.0->jarvis-leaderboard==2023.8.1) (2023.6.0)\n",
            "Collecting huggingface-hub>=0.7.0 (from evaluate==0.4.0->jarvis-leaderboard==2023.8.1)\n",
            "  Downloading huggingface_hub-0.16.4-py3-none-any.whl (268 kB)\n",
            "\u001b[2K     \u001b[90m━━━━━━━━━━━━━━━━━━━━━━━━━━━━━━━━━━━━━━\u001b[0m \u001b[32m268.8/268.8 kB\u001b[0m \u001b[31m20.4 MB/s\u001b[0m eta \u001b[36m0:00:00\u001b[0m\n",
            "\u001b[?25hRequirement already satisfied: packaging in /usr/local/lib/python3.10/dist-packages (from evaluate==0.4.0->jarvis-leaderboard==2023.8.1) (23.1)\n",
            "Collecting responses<0.19 (from evaluate==0.4.0->jarvis-leaderboard==2023.8.1)\n",
            "  Downloading responses-0.18.0-py3-none-any.whl (38 kB)\n",
            "Requirement already satisfied: setuptools>=36 in /usr/local/lib/python3.10/dist-packages (from markdown==3.2.1->jarvis-leaderboard==2023.8.1) (67.7.2)\n",
            "Requirement already satisfied: click in /usr/local/lib/python3.10/dist-packages (from nltk==3.8.1->jarvis-leaderboard==2023.8.1) (8.1.6)\n",
            "Requirement already satisfied: joblib in /usr/local/lib/python3.10/dist-packages (from nltk==3.8.1->jarvis-leaderboard==2023.8.1) (1.3.1)\n",
            "Requirement already satisfied: regex>=2021.8.3 in /usr/local/lib/python3.10/dist-packages (from nltk==3.8.1->jarvis-leaderboard==2023.8.1) (2022.10.31)\n",
            "Requirement already satisfied: six>=1.14.0 in /usr/local/lib/python3.10/dist-packages (from rouge-score==0.1.2->jarvis-leaderboard==2023.8.1) (1.16.0)\n",
            "Requirement already satisfied: matplotlib>=3.0.0 in /usr/local/lib/python3.10/dist-packages (from jarvis-tools>=2021.07.19->jarvis-leaderboard==2023.8.1) (3.7.1)\n",
            "Collecting spglib>=1.14.1 (from jarvis-tools>=2021.07.19->jarvis-leaderboard==2023.8.1)\n",
            "  Downloading spglib-2.0.2-cp310-cp310-manylinux_2_17_x86_64.manylinux2014_x86_64.whl (515 kB)\n",
            "\u001b[2K     \u001b[90m━━━━━━━━━━━━━━━━━━━━━━━━━━━━━━━━━━━━━━\u001b[0m \u001b[32m515.3/515.3 kB\u001b[0m \u001b[31m37.9 MB/s\u001b[0m eta \u001b[36m0:00:00\u001b[0m\n",
            "\u001b[?25hRequirement already satisfied: toolz>=0.9.0 in /usr/local/lib/python3.10/dist-packages (from jarvis-tools>=2021.07.19->jarvis-leaderboard==2023.8.1) (0.12.0)\n",
            "Collecting xmltodict>=0.11.0 (from jarvis-tools>=2021.07.19->jarvis-leaderboard==2023.8.1)\n",
            "  Downloading xmltodict-0.13.0-py2.py3-none-any.whl (10.0 kB)\n",
            "Collecting colorama>=0.4 (from mkdocs-material>=9.0.5->jarvis-leaderboard==2023.8.1)\n",
            "  Downloading colorama-0.4.6-py2.py3-none-any.whl (25 kB)\n",
            "Requirement already satisfied: jinja2>=3.0 in /usr/local/lib/python3.10/dist-packages (from mkdocs-material>=9.0.5->jarvis-leaderboard==2023.8.1) (3.1.2)\n",
            "Collecting mkdocs-material-extensions>=1.1 (from mkdocs-material>=9.0.5->jarvis-leaderboard==2023.8.1)\n",
            "  Downloading mkdocs_material_extensions-1.1.1-py3-none-any.whl (7.9 kB)\n",
            "Collecting mkdocs>=1.5.0 (from mkdocs-material>=9.0.5->jarvis-leaderboard==2023.8.1)\n",
            "  Downloading mkdocs-1.5.2-py3-none-any.whl (3.7 MB)\n",
            "\u001b[2K     \u001b[90m━━━━━━━━━━━━━━━━━━━━━━━━━━━━━━━━━━━━━━━━\u001b[0m \u001b[32m3.7/3.7 MB\u001b[0m \u001b[31m43.1 MB/s\u001b[0m eta \u001b[36m0:00:00\u001b[0m\n",
            "\u001b[?25hRequirement already satisfied: pygments>=2.14 in /usr/local/lib/python3.10/dist-packages (from mkdocs-material>=9.0.5->jarvis-leaderboard==2023.8.1) (2.14.0)\n",
            "Collecting pymdown-extensions>=9.9.1 (from mkdocs-material>=9.0.5->jarvis-leaderboard==2023.8.1)\n",
            "  Downloading pymdown_extensions-10.1-py3-none-any.whl (240 kB)\n",
            "\u001b[2K     \u001b[90m━━━━━━━━━━━━━━━━━━━━━━━━━━━━━━━━━━━━━━\u001b[0m \u001b[32m240.8/240.8 kB\u001b[0m \u001b[31m27.1 MB/s\u001b[0m eta \u001b[36m0:00:00\u001b[0m\n",
            "\u001b[?25hRequirement already satisfied: python-dateutil>=2.8.1 in /usr/local/lib/python3.10/dist-packages (from pandas>=1.2.4->jarvis-leaderboard==2023.8.1) (2.8.2)\n",
            "Requirement already satisfied: pytz>=2020.1 in /usr/local/lib/python3.10/dist-packages (from pandas>=1.2.4->jarvis-leaderboard==2023.8.1) (2022.7.1)\n",
            "Requirement already satisfied: typing-extensions>=4.2.0 in /usr/local/lib/python3.10/dist-packages (from pydantic>=1.8.1->jarvis-leaderboard==2023.8.1) (4.7.1)\n",
            "Requirement already satisfied: threadpoolctl>=2.0.0 in /usr/local/lib/python3.10/dist-packages (from scikit-learn>=0.24.1->jarvis-leaderboard==2023.8.1) (3.2.0)\n",
            "Requirement already satisfied: pyarrow>=8.0.0 in /usr/local/lib/python3.10/dist-packages (from datasets>=2.0.0->evaluate==0.4.0->jarvis-leaderboard==2023.8.1) (9.0.0)\n",
            "Requirement already satisfied: aiohttp in /usr/local/lib/python3.10/dist-packages (from datasets>=2.0.0->evaluate==0.4.0->jarvis-leaderboard==2023.8.1) (3.8.5)\n",
            "Requirement already satisfied: pyyaml>=5.1 in /usr/local/lib/python3.10/dist-packages (from datasets>=2.0.0->evaluate==0.4.0->jarvis-leaderboard==2023.8.1) (6.0.1)\n",
            "Requirement already satisfied: filelock in /usr/local/lib/python3.10/dist-packages (from huggingface-hub>=0.7.0->evaluate==0.4.0->jarvis-leaderboard==2023.8.1) (3.12.2)\n",
            "Requirement already satisfied: MarkupSafe>=2.0 in /usr/local/lib/python3.10/dist-packages (from jinja2>=3.0->mkdocs-material>=9.0.5->jarvis-leaderboard==2023.8.1) (2.1.3)\n",
            "Requirement already satisfied: contourpy>=1.0.1 in /usr/local/lib/python3.10/dist-packages (from matplotlib>=3.0.0->jarvis-tools>=2021.07.19->jarvis-leaderboard==2023.8.1) (1.1.0)\n",
            "Requirement already satisfied: cycler>=0.10 in /usr/local/lib/python3.10/dist-packages (from matplotlib>=3.0.0->jarvis-tools>=2021.07.19->jarvis-leaderboard==2023.8.1) (0.11.0)\n",
            "Requirement already satisfied: fonttools>=4.22.0 in /usr/local/lib/python3.10/dist-packages (from matplotlib>=3.0.0->jarvis-tools>=2021.07.19->jarvis-leaderboard==2023.8.1) (4.42.0)\n",
            "Requirement already satisfied: kiwisolver>=1.0.1 in /usr/local/lib/python3.10/dist-packages (from matplotlib>=3.0.0->jarvis-tools>=2021.07.19->jarvis-leaderboard==2023.8.1) (1.4.4)\n",
            "Requirement already satisfied: pillow>=6.2.0 in /usr/local/lib/python3.10/dist-packages (from matplotlib>=3.0.0->jarvis-tools>=2021.07.19->jarvis-leaderboard==2023.8.1) (9.4.0)\n",
            "Requirement already satisfied: pyparsing>=2.3.1 in /usr/local/lib/python3.10/dist-packages (from matplotlib>=3.0.0->jarvis-tools>=2021.07.19->jarvis-leaderboard==2023.8.1) (3.1.1)\n",
            "Collecting ghp-import>=1.0 (from mkdocs>=1.5.0->mkdocs-material>=9.0.5->jarvis-leaderboard==2023.8.1)\n",
            "  Downloading ghp_import-2.1.0-py3-none-any.whl (11 kB)\n",
            "Collecting mergedeep>=1.3.4 (from mkdocs>=1.5.0->mkdocs-material>=9.0.5->jarvis-leaderboard==2023.8.1)\n",
            "  Downloading mergedeep-1.3.4-py3-none-any.whl (6.4 kB)\n",
            "Collecting pathspec>=0.11.1 (from mkdocs>=1.5.0->mkdocs-material>=9.0.5->jarvis-leaderboard==2023.8.1)\n",
            "  Downloading pathspec-0.11.2-py3-none-any.whl (29 kB)\n",
            "Requirement already satisfied: platformdirs>=2.2.0 in /usr/local/lib/python3.10/dist-packages (from mkdocs>=1.5.0->mkdocs-material>=9.0.5->jarvis-leaderboard==2023.8.1) (3.10.0)\n",
            "Collecting pyyaml-env-tag>=0.1 (from mkdocs>=1.5.0->mkdocs-material>=9.0.5->jarvis-leaderboard==2023.8.1)\n",
            "  Downloading pyyaml_env_tag-0.1-py3-none-any.whl (3.9 kB)\n",
            "Collecting watchdog>=2.0 (from mkdocs>=1.5.0->mkdocs-material>=9.0.5->jarvis-leaderboard==2023.8.1)\n",
            "  Downloading watchdog-3.0.0-py3-none-manylinux2014_x86_64.whl (82 kB)\n",
            "\u001b[2K     \u001b[90m━━━━━━━━━━━━━━━━━━━━━━━━━━━━━━━━━━━━━━━━\u001b[0m \u001b[32m82.1/82.1 kB\u001b[0m \u001b[31m10.6 MB/s\u001b[0m eta \u001b[36m0:00:00\u001b[0m\n",
            "\u001b[?25hRequirement already satisfied: charset-normalizer<4,>=2 in /usr/local/lib/python3.10/dist-packages (from requests>=2.19.0->evaluate==0.4.0->jarvis-leaderboard==2023.8.1) (3.2.0)\n",
            "Requirement already satisfied: idna<4,>=2.5 in /usr/local/lib/python3.10/dist-packages (from requests>=2.19.0->evaluate==0.4.0->jarvis-leaderboard==2023.8.1) (3.4)\n",
            "Requirement already satisfied: urllib3<3,>=1.21.1 in /usr/local/lib/python3.10/dist-packages (from requests>=2.19.0->evaluate==0.4.0->jarvis-leaderboard==2023.8.1) (1.26.16)\n",
            "Requirement already satisfied: certifi>=2017.4.17 in /usr/local/lib/python3.10/dist-packages (from requests>=2.19.0->evaluate==0.4.0->jarvis-leaderboard==2023.8.1) (2023.7.22)\n",
            "Requirement already satisfied: attrs>=17.3.0 in /usr/local/lib/python3.10/dist-packages (from aiohttp->datasets>=2.0.0->evaluate==0.4.0->jarvis-leaderboard==2023.8.1) (23.1.0)\n",
            "Requirement already satisfied: multidict<7.0,>=4.5 in /usr/local/lib/python3.10/dist-packages (from aiohttp->datasets>=2.0.0->evaluate==0.4.0->jarvis-leaderboard==2023.8.1) (6.0.4)\n",
            "Requirement already satisfied: async-timeout<5.0,>=4.0.0a3 in /usr/local/lib/python3.10/dist-packages (from aiohttp->datasets>=2.0.0->evaluate==0.4.0->jarvis-leaderboard==2023.8.1) (4.0.2)\n",
            "Requirement already satisfied: yarl<2.0,>=1.0 in /usr/local/lib/python3.10/dist-packages (from aiohttp->datasets>=2.0.0->evaluate==0.4.0->jarvis-leaderboard==2023.8.1) (1.9.2)\n",
            "Requirement already satisfied: frozenlist>=1.1.1 in /usr/local/lib/python3.10/dist-packages (from aiohttp->datasets>=2.0.0->evaluate==0.4.0->jarvis-leaderboard==2023.8.1) (1.4.0)\n",
            "Requirement already satisfied: aiosignal>=1.1.2 in /usr/local/lib/python3.10/dist-packages (from aiohttp->datasets>=2.0.0->evaluate==0.4.0->jarvis-leaderboard==2023.8.1) (1.3.1)\n",
            "Building wheels for collected packages: rouge-score\n",
            "  Building wheel for rouge-score (setup.py) ... \u001b[?25l\u001b[?25hdone\n",
            "  Created wheel for rouge-score: filename=rouge_score-0.1.2-py3-none-any.whl size=24933 sha256=2d5ebc0b7a891154deefa25811a0783e1b057c24ee2e503e0825d6b03f6e1acc\n",
            "  Stored in directory: /root/.cache/pip/wheels/5f/dd/89/461065a73be61a532ff8599a28e9beef17985c9e9c31e541b4\n",
            "Successfully built rouge-score\n",
            "Installing collected packages: xxhash, xmltodict, watchdog, spglib, pyyaml-env-tag, pathspec, mkdocs-material-extensions, mergedeep, markdown, dill, colorama, rouge-score, responses, pymdown-extensions, multiprocess, huggingface-hub, ghp-import, mkdocs, jarvis-tools, mkdocs-material, datasets, evaluate, jarvis-leaderboard\n",
            "  Attempting uninstall: markdown\n",
            "    Found existing installation: Markdown 3.4.4\n",
            "    Uninstalling Markdown-3.4.4:\n",
            "      Successfully uninstalled Markdown-3.4.4\n",
            "  Running setup.py develop for jarvis-leaderboard\n",
            "Successfully installed colorama-0.4.6 datasets-2.14.4 dill-0.3.7 evaluate-0.4.0 ghp-import-2.1.0 huggingface-hub-0.16.4 jarvis-leaderboard-2023.8.1 jarvis-tools-2023.5.26 markdown-3.2.1 mergedeep-1.3.4 mkdocs-1.5.2 mkdocs-material-9.1.21 mkdocs-material-extensions-1.1.1 multiprocess-0.70.15 pathspec-0.11.2 pymdown-extensions-10.1 pyyaml-env-tag-0.1 responses-0.18.0 rouge-score-0.1.2 spglib-2.0.2 watchdog-3.0.0 xmltodict-0.13.0 xxhash-3.3.0\n"
          ]
        }
      ]
    },
    {
      "cell_type": "code",
      "execution_count": 2,
      "metadata": {
        "colab": {
          "base_uri": "https://localhost:8080/"
        },
        "id": "awOTJoI0Rusf",
        "outputId": "a3912852-6ec1-4d5d-bccb-78e84dda21e1"
      },
      "outputs": [
        {
          "output_type": "stream",
          "name": "stdout",
          "text": [
            "\u001b[2K     \u001b[90m━━━━━━━━━━━━━━━━━━━━━━━━━━━━━━━━━━━━━━━\u001b[0m \u001b[32m266.3/266.3 MB\u001b[0m \u001b[31m2.1 MB/s\u001b[0m eta \u001b[36m0:00:00\u001b[0m\n",
            "\u001b[2K     \u001b[90m━━━━━━━━━━━━━━━━━━━━━━━━━━━━━━━━━━━━━━━\u001b[0m \u001b[32m129.6/129.6 kB\u001b[0m \u001b[31m2.8 MB/s\u001b[0m eta \u001b[36m0:00:00\u001b[0m\n",
            "\u001b[2K     \u001b[90m━━━━━━━━━━━━━━━━━━━━━━━━━━━━━━━━━━━━━━\u001b[0m \u001b[32m267.3/267.3 kB\u001b[0m \u001b[31m12.9 MB/s\u001b[0m eta \u001b[36m0:00:00\u001b[0m\n",
            "\u001b[2K     \u001b[90m━━━━━━━━━━━━━━━━━━━━━━━━━━━━━━━━━━━━━━━\u001b[0m \u001b[32m125.3/125.3 kB\u001b[0m \u001b[31m9.1 MB/s\u001b[0m eta \u001b[36m0:00:00\u001b[0m\n",
            "\u001b[2K     \u001b[90m━━━━━━━━━━━━━━━━━━━━━━━━━━━━━━━━━━━━━━━━\u001b[0m \u001b[32m58.3/58.3 kB\u001b[0m \u001b[31m7.0 MB/s\u001b[0m eta \u001b[36m0:00:00\u001b[0m\n",
            "\u001b[2K     \u001b[90m━━━━━━━━━━━━━━━━━━━━━━━━━━━━━━━━━━━━━━━━\u001b[0m \u001b[32m67.8/67.8 kB\u001b[0m \u001b[31m8.4 MB/s\u001b[0m eta \u001b[36m0:00:00\u001b[0m\n",
            "\u001b[2K     \u001b[90m━━━━━━━━━━━━━━━━━━━━━━━━━━━━━━━━━━━━━━━━\u001b[0m \u001b[32m2.2/2.2 MB\u001b[0m \u001b[31m54.7 MB/s\u001b[0m eta \u001b[36m0:00:00\u001b[0m\n",
            "\u001b[2K     \u001b[90m━━━━━━━━━━━━━━━━━━━━━━━━━━━━━━━━━━━━━━\u001b[0m \u001b[32m244.2/244.2 kB\u001b[0m \u001b[31m24.8 MB/s\u001b[0m eta \u001b[36m0:00:00\u001b[0m\n",
            "\u001b[2K     \u001b[90m━━━━━━━━━━━━━━━━━━━━━━━━━━━━━━━━━━━━━━━━\u001b[0m \u001b[32m62.6/62.6 kB\u001b[0m \u001b[31m8.1 MB/s\u001b[0m eta \u001b[36m0:00:00\u001b[0m\n",
            "\u001b[?25h\u001b[31mERROR: pip's dependency resolver does not currently take into account all the packages that are installed. This behaviour is the source of the following dependency conflicts.\n",
            "confection 0.1.1 requires pydantic!=1.8,!=1.8.1,<3.0.0,>=1.7.4, but you have pydantic 1.8.1 which is incompatible.\n",
            "inflect 6.0.5 requires pydantic<2,>=1.9.1, but you have pydantic 1.8.1 which is incompatible.\n",
            "spacy 3.5.4 requires pydantic!=1.8,!=1.8.1,<1.11.0,>=1.7.4, but you have pydantic 1.8.1 which is incompatible.\n",
            "thinc 8.1.10 requires pydantic!=1.8,!=1.8.1,<1.11.0,>=1.7.4, but you have pydantic 1.8.1 which is incompatible.\u001b[0m\u001b[31m\n",
            "\u001b[0m"
          ]
        }
      ],
      "source": [
        "!pip install -q dgl==1.0.1+cu117 -f https://data.dgl.ai/wheels/cu117/repo.html\n",
        "!pip install -q alignn\n"
      ]
    },
    {
      "cell_type": "code",
      "source": [
        "import os\n",
        "os.chdir('/content')"
      ],
      "metadata": {
        "id": "IzMwNrxfaQns"
      },
      "execution_count": 3,
      "outputs": []
    },
    {
      "cell_type": "code",
      "source": [
        "!jarvis_populate_data.py --benchmark_file  AI-SinglePropertyPrediction-ead-tinnet_N-test-mae.csv.zip --id_tag id --output_path=Out"
      ],
      "metadata": {
        "id": "SU7M4wiAaA3D",
        "outputId": "6f45c709-59f0-49f0-f748-9a4c8ad768cf",
        "colab": {
          "base_uri": "https://localhost:8080/"
        }
      },
      "execution_count": 4,
      "outputs": [
        {
          "output_type": "stream",
          "name": "stdout",
          "text": [
            "benchmark_file AI-SinglePropertyPrediction-ead-tinnet_N-test-mae.csv.zip\n",
            "dataset tinnet_N\n",
            "output_path Out\n",
            "property ead\n",
            "method AI\n",
            "task SinglePropertyPrediction\n",
            "id_tag id\n",
            "dataset file to be used /content/jarvis_leaderboard/jarvis_leaderboard/benchmarks/AI/SinglePropertyPrediction/tinnet_N_ead.json.zip\n",
            "Currently for atomistic datasets only.\n",
            "https://jarvis-tools.readthedocs.io/en/master/databases.html\n",
            "Obtaining TinNet Nitrogen dataset 329...\n",
            "Reference:https://github.com/hlxin/tinnet\n",
            "100% 25.5k/25.5k [00:00<00:00, 270kiB/s]\n",
            "Loading the zipfile...\n",
            "Loading completed.\n",
            "number of training samples 263\n",
            "number of validation samples 32\n",
            "number of test samples 32\n"
          ]
        }
      ]
    },
    {
      "cell_type": "code",
      "source": [
        "ls Out/dataset_info.json"
      ],
      "metadata": {
        "id": "iDDz_fbian-m",
        "outputId": "0047cacf-9943-4c6a-9f32-9c137d0d3f63",
        "colab": {
          "base_uri": "https://localhost:8080/"
        }
      },
      "execution_count": 5,
      "outputs": [
        {
          "output_type": "stream",
          "name": "stdout",
          "text": [
            "Out/dataset_info.json\n"
          ]
        }
      ]
    },
    {
      "cell_type": "code",
      "source": [
        "from jarvis.db.jsonutils import loadjson\n",
        "dataset_info = loadjson('Out/dataset_info.json')"
      ],
      "metadata": {
        "id": "W4TtEgI5esm_"
      },
      "execution_count": 6,
      "outputs": []
    },
    {
      "cell_type": "code",
      "source": [
        "dataset_info"
      ],
      "metadata": {
        "id": "IlT-rjzoeskZ",
        "outputId": "80450cb8-3660-4c1d-bc64-6e305163b981",
        "colab": {
          "base_uri": "https://localhost:8080/"
        }
      },
      "execution_count": 7,
      "outputs": [
        {
          "output_type": "execute_result",
          "data": {
            "text/plain": [
              "{'benchmark_file': 'AI-SinglePropertyPrediction-ead-tinnet_N-test-mae.csv.zip',\n",
              " 'dataset': 'tinnet_N',\n",
              " 'output_path': 'Out',\n",
              " 'prop': 'ead',\n",
              " 'methods': 'AI',\n",
              " 'id_tag': 'id',\n",
              " 'n_train': 263,\n",
              " 'n_val': 32,\n",
              " 'n_test': 32}"
            ]
          },
          "metadata": {},
          "execution_count": 7
        }
      ]
    },
    {
      "cell_type": "code",
      "source": [
        "n_train = dataset_info['n_train']\n",
        "n_val = dataset_info['n_val']\n",
        "n_test = dataset_info['n_test']"
      ],
      "metadata": {
        "id": "4YcDiX2kesiS"
      },
      "execution_count": 8,
      "outputs": []
    },
    {
      "cell_type": "code",
      "source": [
        "!wget https://raw.githubusercontent.com/usnistgov/alignn/main/alignn/examples/sample_data/config_example.json"
      ],
      "metadata": {
        "id": "E992wEbfesf3",
        "outputId": "dde6eafc-d0c6-43b3-a482-b4ce89efb518",
        "colab": {
          "base_uri": "https://localhost:8080/"
        }
      },
      "execution_count": 9,
      "outputs": [
        {
          "output_type": "stream",
          "name": "stdout",
          "text": [
            "--2023-08-08 18:54:39--  https://raw.githubusercontent.com/usnistgov/alignn/main/alignn/examples/sample_data/config_example.json\n",
            "Resolving raw.githubusercontent.com (raw.githubusercontent.com)... 185.199.108.133, 185.199.109.133, 185.199.110.133, ...\n",
            "Connecting to raw.githubusercontent.com (raw.githubusercontent.com)|185.199.108.133|:443... connected.\n",
            "HTTP request sent, awaiting response... 200 OK\n",
            "Length: 1411 (1.4K) [text/plain]\n",
            "Saving to: ‘config_example.json’\n",
            "\n",
            "config_example.json 100%[===================>]   1.38K  --.-KB/s    in 0s      \n",
            "\n",
            "2023-08-08 18:54:39 (19.0 MB/s) - ‘config_example.json’ saved [1411/1411]\n",
            "\n"
          ]
        }
      ]
    },
    {
      "cell_type": "code",
      "source": [
        "from jarvis.db.jsonutils import loadjson\n",
        "config = loadjson('config_example.json')"
      ],
      "metadata": {
        "id": "7QYCarKAe3Da"
      },
      "execution_count": 10,
      "outputs": []
    },
    {
      "cell_type": "code",
      "source": [
        "config"
      ],
      "metadata": {
        "id": "QN981du4e3BE",
        "outputId": "0533c09a-ac21-4b33-8ba6-328c44a65566",
        "colab": {
          "base_uri": "https://localhost:8080/"
        }
      },
      "execution_count": 11,
      "outputs": [
        {
          "output_type": "execute_result",
          "data": {
            "text/plain": [
              "{'version': '112bbedebdaecf59fb18e11c929080fb2f358246',\n",
              " 'dataset': 'user_data',\n",
              " 'target': 'target',\n",
              " 'atom_features': 'cgcnn',\n",
              " 'neighbor_strategy': 'k-nearest',\n",
              " 'id_tag': 'jid',\n",
              " 'random_seed': 123,\n",
              " 'classification_threshold': None,\n",
              " 'n_val': None,\n",
              " 'n_test': None,\n",
              " 'n_train': None,\n",
              " 'train_ratio': 0.8,\n",
              " 'val_ratio': 0.1,\n",
              " 'test_ratio': 0.1,\n",
              " 'target_multiplication_factor': None,\n",
              " 'epochs': 3,\n",
              " 'batch_size': 2,\n",
              " 'weight_decay': 1e-05,\n",
              " 'learning_rate': 0.001,\n",
              " 'filename': 'sample',\n",
              " 'warmup_steps': 2000,\n",
              " 'criterion': 'mse',\n",
              " 'optimizer': 'adamw',\n",
              " 'scheduler': 'onecycle',\n",
              " 'pin_memory': False,\n",
              " 'save_dataloader': False,\n",
              " 'write_checkpoint': True,\n",
              " 'write_predictions': True,\n",
              " 'store_outputs': True,\n",
              " 'progress': True,\n",
              " 'log_tensorboard': False,\n",
              " 'standard_scalar_and_pca': False,\n",
              " 'use_canonize': True,\n",
              " 'num_workers': 0,\n",
              " 'cutoff': 8.0,\n",
              " 'max_neighbors': 12,\n",
              " 'keep_data_order': True,\n",
              " 'model': {'name': 'alignn',\n",
              "  'alignn_layers': 4,\n",
              "  'gcn_layers': 4,\n",
              "  'atom_input_features': 92,\n",
              "  'edge_input_features': 80,\n",
              "  'triplet_input_features': 40,\n",
              "  'embedding_features': 64,\n",
              "  'hidden_features': 256,\n",
              "  'output_features': 1,\n",
              "  'link': 'identity',\n",
              "  'zero_inflated': False,\n",
              "  'classification': False}}"
            ]
          },
          "metadata": {},
          "execution_count": 11
        }
      ]
    },
    {
      "cell_type": "code",
      "source": [
        "config['n_train'] = n_train\n",
        "config['n_val'] = n_val\n",
        "config['n_test'] = n_test\n",
        "config['epochs'] = 50\n",
        "config['batch_size'] = 10"
      ],
      "metadata": {
        "id": "z2Cy-1fTe2-x"
      },
      "execution_count": 15,
      "outputs": []
    },
    {
      "cell_type": "code",
      "source": [
        "from jarvis.db.jsonutils import dumpjson\n",
        "dumpjson(data=config,filename='tmp_config.json')"
      ],
      "metadata": {
        "id": "YqLWvzbje28g"
      },
      "execution_count": 16,
      "outputs": []
    },
    {
      "cell_type": "code",
      "source": [
        "!train_folder.py --root_dir \"Out\" --config \"tmp_config.json\" --output_dir=\"temp\""
      ],
      "metadata": {
        "id": "OIvFfp7ie26S",
        "outputId": "7d75962e-8e45-4fdf-c517-5e26ee426ba8",
        "colab": {
          "base_uri": "https://localhost:8080/"
        }
      },
      "execution_count": 17,
      "outputs": [
        {
          "output_type": "stream",
          "name": "stdout",
          "text": [
            "fatal: not a git repository (or any of the parent directories): .git\n",
            "MAX val: -2.731211000000002\n",
            "MIN val: -6.496946000000008\n",
            "MAD: 0.5487202407578852\n",
            "Baseline MAE: 0.4337022364543708\n",
            "data range -2.731211000000002 -6.496946000000008\n",
            "100% 263/263 [00:10<00:00, 25.03it/s]\n",
            "df                                                  atoms  ...    target\n",
            "0    {'lattice_mat': [[5.454710375165371, 0.0, 0.0]...  ... -4.278454\n",
            "1    {'lattice_mat': [[5.386968068386145, 0.0, 0.0]...  ... -4.496361\n",
            "2    {'lattice_mat': [[5.5453303376062, 0.0, 0.0], ...  ... -5.535388\n",
            "3    {'lattice_mat': [[5.52052969535117, 0.0, 0.0],...  ... -5.381512\n",
            "4    {'lattice_mat': [[5.5442688297036025, 0.0, 0.0...  ... -5.600562\n",
            "..                                                 ...  ...       ...\n",
            "258  {'lattice_mat': [[5.593214639185591, 0.0, 0.0]...  ... -5.213715\n",
            "259  {'lattice_mat': [[5.526746601754056, 0.0, 0.0]...  ... -5.144494\n",
            "260  {'lattice_mat': [[5.526746601754056, 0.0, 0.0]...  ... -4.704044\n",
            "261  {'lattice_mat': [[5.58331514424898, 0.0, 0.0],...  ... -5.131104\n",
            "262  {'lattice_mat': [[5.58331514424898, 0.0, 0.0],...  ... -5.488503\n",
            "\n",
            "[263 rows x 3 columns]\n",
            "warning: could not load CGCNN features for 103\n",
            "Setting it to max atomic number available here, 103\n",
            "warning: could not load CGCNN features for 101\n",
            "Setting it to max atomic number available here, 103\n",
            "warning: could not load CGCNN features for 102\n",
            "Setting it to max atomic number available here, 103\n",
            "building line graphs\n",
            "100% 263/263 [00:00<00:00, 1364.86it/s]\n",
            "data range -3.4457260000000076 -5.839168999999998\n",
            "100% 32/32 [00:00<00:00, 37.90it/s]\n",
            "df                                                 atoms  ...    target\n",
            "0   {'lattice_mat': [[5.380636395070443, 0.0, 0.0]...  ... -5.092376\n",
            "1   {'lattice_mat': [[5.568507271403254, 0.0, 0.0]...  ... -4.659373\n",
            "2   {'lattice_mat': [[5.553514499871983, 0.0, 0.0]...  ... -4.286790\n",
            "3   {'lattice_mat': [[5.546667309685438, 0.0, 0.0]...  ... -5.087195\n",
            "4   {'lattice_mat': [[5.386968068386145, 0.0, 0.0]...  ... -5.127846\n",
            "5   {'lattice_mat': [[5.380636395070443, 0.0, 0.0]...  ... -4.521200\n",
            "6   {'lattice_mat': [[5.386968068386145, 0.0, 0.0]...  ... -4.284876\n",
            "7   {'lattice_mat': [[5.454710375165371, 0.0, 0.0]...  ... -4.320286\n",
            "8   {'lattice_mat': [[5.553514499871983, 0.0, 0.0]...  ... -4.352737\n",
            "9   {'lattice_mat': [[5.387905821287741, 0.0, 0.0]...  ... -5.185054\n",
            "10  {'lattice_mat': [[5.452583671686471, 0.0, 0.0]...  ... -3.627228\n",
            "11  {'lattice_mat': [[5.568082445178404, 0.0, 0.0]...  ... -5.133539\n",
            "12  {'lattice_mat': [[5.52052969535117, 0.0, 0.0],...  ... -5.169733\n",
            "13  {'lattice_mat': [[5.386968068386145, 0.0, 0.0]...  ... -4.502241\n",
            "14  {'lattice_mat': [[5.546667309685438, 0.0, 0.0]...  ... -4.761287\n",
            "15  {'lattice_mat': [[5.568507271403254, 0.0, 0.0]...  ... -4.505095\n",
            "16  {'lattice_mat': [[5.624838939491895, 0.0, 0.0]...  ... -4.150637\n",
            "17  {'lattice_mat': [[5.545131378064906, 0.0, 0.0]...  ... -3.704875\n",
            "18  {'lattice_mat': [[5.526746601754056, 0.0, 0.0]...  ... -4.354537\n",
            "19  {'lattice_mat': [[5.604528347684576, 0.0, 0.0]...  ... -4.895286\n",
            "20  {'lattice_mat': [[5.631398405369665, 0.0, 0.0]...  ... -3.936685\n",
            "21  {'lattice_mat': [[5.545131378064906, 0.0, 0.0]...  ... -3.445726\n",
            "22  {'lattice_mat': [[5.594628852747964, 0.0, 0.0]...  ... -4.764228\n",
            "23  {'lattice_mat': [[5.604528347684576, 0.0, 0.0]...  ... -5.839169\n",
            "24  {'lattice_mat': [[5.594628852747964, 0.0, 0.0]...  ... -4.737629\n",
            "25  {'lattice_mat': [[5.566344581500503, 0.0, 0.0]...  ... -5.776738\n",
            "26  {'lattice_mat': [[5.593214639185591, 0.0, 0.0]...  ... -4.299455\n",
            "27  {'lattice_mat': [[5.515432893255071, 0.0, 0.0]...  ... -4.193387\n",
            "28  {'lattice_mat': [[5.526746601754056, 0.0, 0.0]...  ... -5.219479\n",
            "29  {'lattice_mat': [[5.525332388191683, 0.0, 0.0]...  ... -5.237475\n",
            "30  {'lattice_mat': [[5.515432893255071, 0.0, 0.0]...  ... -4.599426\n",
            "31  {'lattice_mat': [[5.515432893255071, 0.0, 0.0]...  ... -4.488895\n",
            "\n",
            "[32 rows x 3 columns]\n",
            "building line graphs\n",
            "100% 32/32 [00:00<00:00, 751.67it/s]\n",
            "data range -3.4596810000000033 -5.9338439999999935\n",
            "100% 32/32 [00:01<00:00, 22.96it/s]\n",
            "df                                                 atoms  ...    target\n",
            "0   {'lattice_mat': [[5.546667309685438, 0.0, 0.0]...  ... -4.862274\n",
            "1   {'lattice_mat': [[5.454710375165371, 0.0, 0.0]...  ... -5.221619\n",
            "2   {'lattice_mat': [[5.601676612860711, 0.0, 0.0]...  ... -5.101378\n",
            "3   {'lattice_mat': [[5.618992735324471, 0.0, 0.0]...  ... -5.933844\n",
            "4   {'lattice_mat': [[5.454710375165371, 0.0, 0.0]...  ... -5.186798\n",
            "5   {'lattice_mat': [[5.454710375165371, 0.0, 0.0]...  ... -4.699869\n",
            "6   {'lattice_mat': [[5.52052969535117, 0.0, 0.0],...  ... -5.195168\n",
            "7   {'lattice_mat': [[5.454710375165371, 0.0, 0.0]...  ... -4.753609\n",
            "8   {'lattice_mat': [[5.380636395070443, 0.0, 0.0]...  ... -4.628446\n",
            "9   {'lattice_mat': [[5.546667309685438, 0.0, 0.0]...  ... -4.636690\n",
            "10  {'lattice_mat': [[5.5442688297036025, 0.0, 0.0...  ... -5.600412\n",
            "11  {'lattice_mat': [[5.5442688297036025, 0.0, 0.0...  ... -5.700001\n",
            "12  {'lattice_mat': [[5.386968068386145, 0.0, 0.0]...  ... -4.265194\n",
            "13  {'lattice_mat': [[5.546667309685438, 0.0, 0.0]...  ... -4.428619\n",
            "14  {'lattice_mat': [[5.624838939491895, 0.0, 0.0]...  ... -4.717876\n",
            "15  {'lattice_mat': [[5.624838939491895, 0.0, 0.0]...  ... -3.968396\n",
            "16  {'lattice_mat': [[5.568507271403254, 0.0, 0.0]...  ... -4.684509\n",
            "17  {'lattice_mat': [[5.553514499871983, 0.0, 0.0]...  ... -3.788768\n",
            "18  {'lattice_mat': [[5.5453303376062, 0.0, 0.0], ...  ... -5.058583\n",
            "19  {'lattice_mat': [[5.568507271403254, 0.0, 0.0]...  ... -4.866270\n",
            "20  {'lattice_mat': [[5.5442688297036025, 0.0, 0.0...  ... -4.886828\n",
            "21  {'lattice_mat': [[5.546667309685438, 0.0, 0.0]...  ... -4.719084\n",
            "22  {'lattice_mat': [[5.7021090834883195, 0.0, 0.0...  ... -4.704052\n",
            "23  {'lattice_mat': [[5.5918004256232186, 0.0, 0.0...  ... -4.213108\n",
            "24  {'lattice_mat': [[5.545131378064906, 0.0, 0.0]...  ... -3.459681\n",
            "25  {'lattice_mat': [[5.566344581500503, 0.0, 0.0]...  ... -4.816888\n",
            "26  {'lattice_mat': [[5.594628852747964, 0.0, 0.0]...  ... -4.653419\n",
            "27  {'lattice_mat': [[5.593214639185591, 0.0, 0.0]...  ... -5.493312\n",
            "28  {'lattice_mat': [[5.58331514424898, 0.0, 0.0],...  ... -5.390287\n",
            "29  {'lattice_mat': [[5.631398405369665, 0.0, 0.0]...  ... -3.960855\n",
            "30  {'lattice_mat': [[5.731807568298154, 0.0, 0.0]...  ... -5.802523\n",
            "31  {'lattice_mat': [[5.594628852747964, 0.0, 0.0]...  ... -4.537288\n",
            "\n",
            "[32 rows x 3 columns]\n",
            "building line graphs\n",
            "100% 32/32 [00:00<00:00, 1235.70it/s]\n",
            "n_train: 263\n",
            "n_val: 32\n",
            "n_test: 32\n",
            "version='112bbedebdaecf59fb18e11c929080fb2f358246' dataset='user_data' target='target' atom_features='cgcnn' neighbor_strategy='k-nearest' id_tag='jid' random_seed=123 classification_threshold=None n_val=32 n_test=32 n_train=263 train_ratio=0.8 val_ratio=0.1 test_ratio=0.1 target_multiplication_factor=None epochs=50 batch_size=10 weight_decay=1e-05 learning_rate=0.001 filename='sample' warmup_steps=2000 criterion='mse' optimizer='adamw' scheduler='onecycle' pin_memory=False save_dataloader=False write_checkpoint=True write_predictions=True store_outputs=True progress=True log_tensorboard=False standard_scalar_and_pca=False use_canonize=True num_workers=0 cutoff=8.0 max_neighbors=12 keep_data_order=True normalize_graph_level_loss=False distributed=False data_parallel=False n_early_stopping=None output_dir='temp' model=ALIGNNConfig(name='alignn', alignn_layers=4, gcn_layers=4, atom_input_features=92, edge_input_features=80, triplet_input_features=40, embedding_features=64, hidden_features=256, output_features=1, link='identity', zero_inflated=False, classification=False, num_classes=2)\n",
            "config:\n",
            "{'atom_features': 'cgcnn',\n",
            " 'batch_size': 10,\n",
            " 'classification_threshold': None,\n",
            " 'criterion': 'mse',\n",
            " 'cutoff': 8.0,\n",
            " 'data_parallel': False,\n",
            " 'dataset': 'user_data',\n",
            " 'distributed': False,\n",
            " 'epochs': 50,\n",
            " 'filename': 'sample',\n",
            " 'id_tag': 'jid',\n",
            " 'keep_data_order': True,\n",
            " 'learning_rate': 0.001,\n",
            " 'log_tensorboard': False,\n",
            " 'max_neighbors': 12,\n",
            " 'model': {'alignn_layers': 4,\n",
            "           'atom_input_features': 92,\n",
            "           'classification': False,\n",
            "           'edge_input_features': 80,\n",
            "           'embedding_features': 64,\n",
            "           'gcn_layers': 4,\n",
            "           'hidden_features': 256,\n",
            "           'link': 'identity',\n",
            "           'name': 'alignn',\n",
            "           'num_classes': 2,\n",
            "           'output_features': 1,\n",
            "           'triplet_input_features': 40,\n",
            "           'zero_inflated': False},\n",
            " 'n_early_stopping': None,\n",
            " 'n_test': 32,\n",
            " 'n_train': 263,\n",
            " 'n_val': 32,\n",
            " 'neighbor_strategy': 'k-nearest',\n",
            " 'normalize_graph_level_loss': False,\n",
            " 'num_workers': 0,\n",
            " 'optimizer': 'adamw',\n",
            " 'output_dir': 'temp',\n",
            " 'pin_memory': False,\n",
            " 'progress': True,\n",
            " 'random_seed': 123,\n",
            " 'save_dataloader': False,\n",
            " 'scheduler': 'onecycle',\n",
            " 'standard_scalar_and_pca': False,\n",
            " 'store_outputs': True,\n",
            " 'target': 'target',\n",
            " 'target_multiplication_factor': None,\n",
            " 'test_ratio': 0.1,\n",
            " 'train_ratio': 0.8,\n",
            " 'use_canonize': True,\n",
            " 'val_ratio': 0.1,\n",
            " 'version': '112bbedebdaecf59fb18e11c929080fb2f358246',\n",
            " 'warmup_steps': 2000,\n",
            " 'weight_decay': 1e-05,\n",
            " 'write_checkpoint': True,\n",
            " 'write_predictions': True}\n",
            "/usr/local/lib/python3.10/dist-packages/dgl/backend/pytorch/tensor.py:445: UserWarning: TypedStorage is deprecated. It will be removed in the future and UntypedStorage will be the only storage class. This should only matter to you if you are using storages directly.  To access UntypedStorage directly, use tensor.untyped_storage() instead of tensor.storage()\n",
            "  assert input.numel() == input.storage().size(), (\n",
            "/usr/local/lib/python3.10/dist-packages/torch/nn/modules/linear.py:114: UserWarning: Deterministic behavior was enabled with either `torch.use_deterministic_algorithms(True)` or `at::Context::setDeterministicAlgorithms(true)`, but this operation is not deterministic because it uses CuBLAS and you have CUDA >= 10.2. To enable deterministic behavior in this case, you must set an environment variable before running your PyTorch application: CUBLAS_WORKSPACE_CONFIG=:4096:8 or CUBLAS_WORKSPACE_CONFIG=:16:8. For more information, go to https://docs.nvidia.com/cuda/cublas/index.html#cublasApi_reproducibility (Triggered internally at ../aten/src/ATen/Context.cpp:156.)\n",
            "  return F.linear(input, self.weight, self.bias)\n",
            "/usr/local/lib/python3.10/dist-packages/torch/autograd/__init__.py:200: UserWarning: Deterministic behavior was enabled with either `torch.use_deterministic_algorithms(True)` or `at::Context::setDeterministicAlgorithms(true)`, but this operation is not deterministic because it uses CuBLAS and you have CUDA >= 10.2. To enable deterministic behavior in this case, you must set an environment variable before running your PyTorch application: CUBLAS_WORKSPACE_CONFIG=:4096:8 or CUBLAS_WORKSPACE_CONFIG=:16:8. For more information, go to https://docs.nvidia.com/cuda/cublas/index.html#cublasApi_reproducibility (Triggered internally at ../aten/src/ATen/Context.cpp:156.)\n",
            "  Variable._execution_engine.run_backward(  # Calls into the C++ engine to run the backward pass\n",
            "Val_MAE: 3.6914\n",
            "Train_MAE: 3.8736\n",
            "Val_MAE: 3.0199\n",
            "Train_MAE: 3.1192\n",
            "Val_MAE: 1.2278\n",
            "Train_MAE: 1.2818\n",
            "Val_MAE: 0.4999\n",
            "Train_MAE: 0.4862\n",
            "Val_MAE: 0.3414\n",
            "Train_MAE: 0.3246\n",
            "Val_MAE: 0.5138\n",
            "Train_MAE: 0.5071\n",
            "Val_MAE: 0.3106\n",
            "Train_MAE: 0.3000\n",
            "Val_MAE: 0.4174\n",
            "Train_MAE: 0.4429\n",
            "Val_MAE: 0.2718\n",
            "Train_MAE: 0.2697\n",
            "Val_MAE: 0.2936\n",
            "Train_MAE: 0.2440\n",
            "Val_MAE: 0.2631\n",
            "Train_MAE: 0.2074\n",
            "Val_MAE: 0.3067\n",
            "Train_MAE: 0.2600\n",
            "Val_MAE: 0.3521\n",
            "Train_MAE: 0.2707\n",
            "Val_MAE: 0.2309\n",
            "Train_MAE: 0.2243\n",
            "Val_MAE: 0.1807\n",
            "Train_MAE: 0.1885\n",
            "Val_MAE: 0.2352\n",
            "Train_MAE: 0.2835\n",
            "Val_MAE: 0.1864\n",
            "Train_MAE: 0.1390\n",
            "Val_MAE: 0.2291\n",
            "Train_MAE: 0.1254\n",
            "Val_MAE: 0.2004\n",
            "Train_MAE: 0.1570\n",
            "Val_MAE: 0.1794\n",
            "Train_MAE: 0.1115\n",
            "Val_MAE: 0.1920\n",
            "Train_MAE: 0.1044\n",
            "Val_MAE: 0.1896\n",
            "Train_MAE: 0.1716\n",
            "Val_MAE: 0.2170\n",
            "Train_MAE: 0.1990\n",
            "Val_MAE: 0.2001\n",
            "Train_MAE: 0.1995\n",
            "Val_MAE: 0.1582\n",
            "Train_MAE: 0.1160\n",
            "Val_MAE: 0.1504\n",
            "Train_MAE: 0.1108\n",
            "Val_MAE: 0.1681\n",
            "Train_MAE: 0.0959\n",
            "Val_MAE: 0.1312\n",
            "Train_MAE: 0.0985\n",
            "Val_MAE: 0.1443\n",
            "Train_MAE: 0.1140\n",
            "Val_MAE: 0.1241\n",
            "Train_MAE: 0.0714\n",
            "Val_MAE: 0.1391\n",
            "Train_MAE: 0.1151\n",
            "Val_MAE: 0.1155\n",
            "Train_MAE: 0.0632\n",
            "Val_MAE: 0.1206\n",
            "Train_MAE: 0.0909\n",
            "Val_MAE: 0.1405\n",
            "Train_MAE: 0.1127\n",
            "Val_MAE: 0.1228\n",
            "Train_MAE: 0.0562\n",
            "Val_MAE: 0.1222\n",
            "Train_MAE: 0.0879\n",
            "Val_MAE: 0.1125\n",
            "Train_MAE: 0.0615\n",
            "Val_MAE: 0.1213\n",
            "Train_MAE: 0.0777\n",
            "Val_MAE: 0.1114\n",
            "Train_MAE: 0.0473\n",
            "Val_MAE: 0.1157\n",
            "Train_MAE: 0.0567\n",
            "Val_MAE: 0.1172\n",
            "Train_MAE: 0.0640\n",
            "Val_MAE: 0.1117\n",
            "Train_MAE: 0.0635\n",
            "Val_MAE: 0.1117\n",
            "Train_MAE: 0.0666\n",
            "Val_MAE: 0.1051\n",
            "Train_MAE: 0.0504\n",
            "Val_MAE: 0.1145\n",
            "Train_MAE: 0.0771\n",
            "Val_MAE: 0.1067\n",
            "Train_MAE: 0.0476\n",
            "Val_MAE: 0.1092\n",
            "Train_MAE: 0.0536\n",
            "Val_MAE: 0.1047\n",
            "Train_MAE: 0.0456\n",
            "Val_MAE: 0.1081\n",
            "Train_MAE: 0.0482\n",
            "Val_MAE: 0.1089\n",
            "Train_MAE: 0.0503\n",
            "Test MAE: 0.09386619180440903\n",
            "Time taken (s): 181.52289867401123\n"
          ]
        }
      ]
    },
    {
      "cell_type": "code",
      "source": [
        "dir_name='/content/jarvis_leaderboard/jarvis_leaderboard/contributions/tinnet_alignn'\n",
        "import os\n",
        "if not os.path.exists(dir_name):\n",
        "  os.makedirs(dir_name)"
      ],
      "metadata": {
        "id": "KePe6iZResc_"
      },
      "execution_count": 19,
      "outputs": []
    },
    {
      "cell_type": "code",
      "source": [
        "!ls temp"
      ],
      "metadata": {
        "id": "Qb63uhWEhYu7",
        "outputId": "fdc76565-e3ad-45cd-d3ab-b90000443879",
        "colab": {
          "base_uri": "https://localhost:8080/"
        }
      },
      "execution_count": 20,
      "outputs": [
        {
          "output_type": "stream",
          "name": "stdout",
          "text": [
            "checkpoint_49.pt\t mad\n",
            "checkpoint_50.pt\t prediction_results_test_set.csv\n",
            "config.json\t\t prediction_results_train_set.csv\n",
            "history_train.json\t test_data_data_range\n",
            "history_val.json\t train_data_data_range\n",
            "ids_train_val_test.json  val_data_data_range\n"
          ]
        }
      ]
    },
    {
      "cell_type": "code",
      "source": [
        "!wget https://raw.githubusercontent.com/usnistgov/jarvis_leaderboard/main/jarvis_leaderboard/contributions/alignn_model/metadata.json"
      ],
      "metadata": {
        "id": "Uo2C18OLiJNY",
        "outputId": "70f065e3-a559-4de4-ba88-9650758d1b91",
        "colab": {
          "base_uri": "https://localhost:8080/"
        }
      },
      "execution_count": 24,
      "outputs": [
        {
          "output_type": "stream",
          "name": "stdout",
          "text": [
            "--2023-08-08 19:04:18--  https://raw.githubusercontent.com/usnistgov/jarvis_leaderboard/main/jarvis_leaderboard/contributions/alignn_model/metadata.json\n",
            "Resolving raw.githubusercontent.com (raw.githubusercontent.com)... 185.199.108.133, 185.199.109.133, 185.199.110.133, ...\n",
            "Connecting to raw.githubusercontent.com (raw.githubusercontent.com)|185.199.108.133|:443... connected.\n",
            "HTTP request sent, awaiting response... 200 OK\n",
            "Length: 6007 (5.9K) [text/plain]\n",
            "Saving to: ‘metadata.json’\n",
            "\n",
            "\rmetadata.json         0%[                    ]       0  --.-KB/s               \rmetadata.json       100%[===================>]   5.87K  --.-KB/s    in 0s      \n",
            "\n",
            "2023-08-08 19:04:18 (61.0 MB/s) - ‘metadata.json’ saved [6007/6007]\n",
            "\n"
          ]
        }
      ]
    },
    {
      "cell_type": "code",
      "source": [
        "cmd='cp temp/prediction_results_test_set.csv AI-SinglePropertyPrediction-ead-tinnet_N-test-mae.csv'\n",
        "os.system(cmd)\n",
        "cmd = 'zip AI-SinglePropertyPrediction-ead-tinnet_N-test-mae.csv.zip AI-SinglePropertyPrediction-ead-tinnet_N-test-mae.csv'\n",
        "os.system(cmd)\n",
        "cmd = 'cp AI-SinglePropertyPrediction-ead-tinnet_N-test-mae.csv.zip /content/jarvis_leaderboard/jarvis_leaderboard/contributions/tinnet_alignn'\n",
        "os.system(cmd)\n",
        "\n",
        "cmd = 'cp metadata.json /content/jarvis_leaderboard/jarvis_leaderboard/contributions/tinnet_alignn'\n",
        "os.system(cmd)"
      ],
      "metadata": {
        "id": "LC7gGBAXhpiL",
        "outputId": "085b2dc5-3f77-4e38-9049-b14a8e131f2f",
        "colab": {
          "base_uri": "https://localhost:8080/"
        }
      },
      "execution_count": 25,
      "outputs": [
        {
          "output_type": "execute_result",
          "data": {
            "text/plain": [
              "0"
            ]
          },
          "metadata": {},
          "execution_count": 25
        }
      ]
    },
    {
      "cell_type": "code",
      "source": [
        "!ls /content/jarvis_leaderboard/jarvis_leaderboard/contributions/tinnet_alignn"
      ],
      "metadata": {
        "id": "5idy5S95iH1i",
        "outputId": "bcee7ea9-b810-455f-b501-852b4c25a2a5",
        "colab": {
          "base_uri": "https://localhost:8080/"
        }
      },
      "execution_count": 26,
      "outputs": [
        {
          "output_type": "stream",
          "name": "stdout",
          "text": [
            "AI-SinglePropertyPrediction-ead-tinnet_N-test-mae.csv.zip  metadata.json\n"
          ]
        }
      ]
    },
    {
      "cell_type": "markdown",
      "source": [
        "Restart runtime"
      ],
      "metadata": {
        "id": "XD1qEQiaigZH"
      }
    },
    {
      "cell_type": "code",
      "source": [
        "\n",
        "from jarvis_leaderboard.rebuild import get_metric_value,get_results\n",
        "%matplotlib inline\n",
        "import numpy as np\n",
        "import matplotlib.pyplot as plt\n",
        "names,vals=get_results(bench_name='AI-SinglePropertyPrediction-ead-tinnet_N-test-mae.csv.zip')\n",
        "plt.bar(np.arange(len(vals)),vals,color=(0.2, 0.4, 0.6, 0.6),edgecolor='blue')\n",
        "plt.xticks(np.arange(len(vals)),names,rotation=90)\n",
        "plt.ylabel('MAE (eV)')"
      ],
      "metadata": {
        "id": "8dTlk4briaFp",
        "outputId": "e4be2108-2dcc-49f5-e8f5-8cc7fd729758",
        "colab": {
          "base_uri": "https://localhost:8080/",
          "height": 526
        }
      },
      "execution_count": 1,
      "outputs": [
        {
          "output_type": "execute_result",
          "data": {
            "text/plain": [
              "Text(0, 0.5, 'MAE (eV)')"
            ]
          },
          "metadata": {},
          "execution_count": 1
        },
        {
          "output_type": "display_data",
          "data": {
            "text/plain": [
              "<Figure size 640x480 with 1 Axes>"
            ],
            "image/png": "[encoded data removed]"
          },
          "metadata": {}
        }
      ]
    },
    {
      "cell_type": "code",
      "source": [],
      "metadata": {
        "id": "F1KOptHXiaDD"
      },
      "execution_count": null,
      "outputs": []
    },
    {
      "cell_type": "code",
      "source": [],
      "metadata": {
        "id": "CaxE3xeQiaAw"
      },
      "execution_count": null,
      "outputs": []
    },
    {
      "cell_type": "code",
      "source": [],
      "metadata": {
        "id": "CswQ_bMxiZ97"
      },
      "execution_count": null,
      "outputs": []
    },
    {
      "cell_type": "code",
      "source": [
        "from jarvis.db.figshare import data\n",
        "import pandas as pd\n",
        "%matplotlib inline\n",
        "import matplotlib.pyplot as plt\n",
        "dfO=pd.DataFrame(data('tinnet_O'))\n",
        "\n",
        "plt.hist(dfO['ead'],bins=100)\n",
        "plt.show()"
      ],
      "metadata": {
        "colab": {
          "base_uri": "https://localhost:8080/",
          "height": 517
        },
        "id": "Vab5xZWXR2a3",
        "outputId": "93721b3e-eef0-4e34-c76a-d6e506675ee8"
      },
      "execution_count": 2,
      "outputs": [
        {
          "output_type": "stream",
          "name": "stdout",
          "text": [
            "Obtaining TinNet Oxygen dataset 747...\n",
            "Reference:https://github.com/hlxin/tinnet\n"
          ]
        },
        {
          "output_type": "stream",
          "name": "stderr",
          "text": [
            "100%|██████████| 112k/112k [00:00<00:00, 566kiB/s] \n"
          ]
        },
        {
          "output_type": "stream",
          "name": "stdout",
          "text": [
            "Loading the zipfile...\n",
            "Loading completed.\n"
          ]
        },
        {
          "output_type": "display_data",
          "data": {
            "text/plain": [
              "<Figure size 640x480 with 1 Axes>"
            ],
            "image/png": "[encoded data removed]"
          },
          "metadata": {}
        }
      ]
    },
    {
      "cell_type": "code",
      "source": [
        "from jarvis.core.atoms import Atoms\n",
        "def remove_atom(atoms=[],exclude_elements=['O']):\n",
        "    coords=[]\n",
        "    elements=[]\n",
        "    for i,j in zip(atoms.elements,atoms.cart_coords):\n",
        "        if i not in exclude_elements:\n",
        "            elements.append(i)\n",
        "            coords.append(j)\n",
        "\n",
        "    atoms=Atoms(lattice_mat=atoms.lattice_mat,elements=elements,coords=coords,cartesian=True)\n",
        "    return atoms"
      ],
      "metadata": {
        "id": "rj34glkfSAW8"
      },
      "execution_count": 3,
      "outputs": []
    },
    {
      "cell_type": "code",
      "source": [
        "from alignn.ff.ff import AlignnAtomwiseCalculator, default_path,wt1_path,wt01_path\n",
        "\n",
        "# torch.cuda.is_available = lambda : False\n",
        "model_path = wt01_path() #wt1_path()\n",
        "calculator = AlignnAtomwiseCalculator(path=model_path, stress_wt=0.3)\n",
        "def atom_to_energy(atoms):\n",
        "    num_atoms = atoms.num_atoms\n",
        "    atoms = atoms.ase_converter()\n",
        "    atoms.calc = calculator\n",
        "    forces = atoms.get_forces()\n",
        "    energy = atoms.get_potential_energy()\n",
        "    stress = atoms.get_stress()\n",
        "    return energy   # ,forces,stress"
      ],
      "metadata": {
        "colab": {
          "base_uri": "https://localhost:8080/"
        },
        "id": "856Q4FgTSKIJ",
        "outputId": "b680ad60-b6f4-4e16-a94c-4fbd20c16801"
      },
      "execution_count": 4,
      "outputs": [
        {
          "output_type": "stream",
          "name": "stdout",
          "text": [
            "dir_path /usr/local/lib/python3.10/dist-packages/alignn/ff/alignnff_wt01\n"
          ]
        },
        {
          "output_type": "stream",
          "name": "stderr",
          "text": [
            "100%|██████████| 15.0M/15.0M [00:01<00:00, 11.9MiB/s]\n"
          ]
        },
        {
          "output_type": "stream",
          "name": "stdout",
          "text": [
            "model_path /usr/local/lib/python3.10/dist-packages/alignn/ff/alignnff_wt01\n"
          ]
        }
      ]
    },
    {
      "cell_type": "code",
      "source": [
        "import alignn\n",
        "alignn.__version__"
      ],
      "metadata": {
        "colab": {
          "base_uri": "https://localhost:8080/",
          "height": 35
        },
        "id": "IsRVqh90fldE",
        "outputId": "07dde161-8561-4815-e9af-b0a68e2a5a6f"
      },
      "execution_count": 5,
      "outputs": [
        {
          "output_type": "execute_result",
          "data": {
            "text/plain": [
              "'2023.07.10'"
            ],
            "application/vnd.google.colaboratory.intrinsic+json": {
              "type": "string"
            }
          },
          "metadata": {},
          "execution_count": 5
        }
      ]
    },
    {
      "cell_type": "code",
      "source": [
        "!ls /usr/local/lib/python3.10/dist-packages/alignn/ff"
      ],
      "metadata": {
        "colab": {
          "base_uri": "https://localhost:8080/"
        },
        "id": "4Hdom0Kkf0cs",
        "outputId": "f81d2267-0ae3-4c8c-8031-fa17fbe328a7"
      },
      "execution_count": 6,
      "outputs": [
        {
          "output_type": "stream",
          "name": "stdout",
          "text": [
            "alignnff_wt01  ff.py  __init__.py  __pycache__\n"
          ]
        }
      ]
    },
    {
      "cell_type": "code",
      "source": [
        "x=[]\n",
        "y=[]\n",
        "for i,ii in dfO.iterrows():\n",
        "  all_atoms=Atoms.from_dict(ii['atoms'])\n",
        "  surface=remove_atom(atoms=all_atoms)\n",
        "  e_all_atoms=atom_to_energy(all_atoms)\n",
        "  e_surface=atom_to_energy(surface)\n",
        "  e_ad=e_all_atoms-e_surface\n",
        "  x.append(e_ad)\n",
        "  y.append(ii['ead'])\n",
        "\n",
        "  print(ii['ead'],e_ad)"
      ],
      "metadata": {
        "colab": {
          "base_uri": "https://localhost:8080/"
        },
        "id": "QBlQVBJdSdNP",
        "outputId": "9d5a21c9-12e7-4f57-bb68-c074624effe8"
      },
      "execution_count": 7,
      "outputs": [
        {
          "output_type": "stream",
          "name": "stderr",
          "text": [
            "/usr/local/lib/python3.10/dist-packages/dgl/backend/pytorch/tensor.py:445: UserWarning: TypedStorage is deprecated. It will be removed in the future and UntypedStorage will be the only storage class. This should only matter to you if you are using storages directly.  To access UntypedStorage directly, use tensor.untyped_storage() instead of tensor.storage()\n",
            "  assert input.numel() == input.storage().size(), (\n"
          ]
        },
        {
          "output_type": "stream",
          "name": "stdout",
          "text": [
            "-1.8254639999979076 0.032117247581481934\n",
            "-1.9182199999997351 1.3949098587036133\n",
            "-1.7821859999968979 -0.13783597946166992\n",
            "-1.8943390000023896 0.32979464530944824\n",
            "-2.184627999999236 -0.33755064010620117\n",
            "-1.821454999994046 0.9112112522125244\n",
            "-1.9355589999997278 0.35167717933654785\n",
            "-2.493593999999746 0.23776769638061523\n",
            "-4.285004000001379 -1.1153168678283691\n",
            "-6.507043999998302 1.9663753509521484\n",
            "-6.53968900000126 0.5968308448791504\n",
            "-3.035554000002037 -1.4807460308074951\n",
            "-3.5559219999997254 -0.491178035736084\n",
            "-3.348727000000679 -1.0013706684112549\n",
            "-4.714535000002968 -0.9603568911552429\n",
            "-4.972342000001106 0.5749435424804688\n",
            "-4.978187000004425 -0.40507006645202637\n",
            "-5.004773000000739 -0.8367338180541992\n",
            "-4.41008299999902 -2.4760847091674805\n",
            "-4.527690999999493 -1.7004238367080688\n",
            "-4.2285429999976145 0.2628129720687866\n",
            "-4.310185999998964 -0.6939146518707275\n",
            "-4.223728999999537 0.39208006858825684\n",
            "-3.778336999999908 1.083867073059082\n",
            "-3.9015800000017293 0.28995323181152344\n",
            "-3.919226000000151 0.7500686645507812\n",
            "-3.693672999998114 0.06436920166015625\n",
            "-5.710183999999742 -1.4631685018539429\n",
            "-6.31058800000045 -0.12189507484436035\n",
            "-6.127330999999856 1.8733468055725098\n",
            "-7.854698999999698 1.185506820678711\n",
            "-7.907679000000087 0.8689122200012207\n",
            "-7.31951399999906 -0.1593637466430664\n",
            "-6.061749999997289 -0.6642227172851562\n",
            "-5.898890000000563 0.38553762435913086\n",
            "-5.92537800000008 -3.337820053100586\n",
            "-5.993502999998043 -1.7482662200927734\n",
            "-6.54671099999922 -0.7142143249511719\n",
            "-6.187959999999464 -0.7604808807373047\n",
            "-6.611941999999715 -0.527191162109375\n",
            "-3.813904999999238 -1.1268200874328613\n",
            "-4.108416000001114 -0.9870395660400391\n",
            "-4.173141999999814 -1.9716254472732544\n",
            "-4.220374000000618 -1.4213471412658691\n",
            "-4.236610000000098 -0.8195662498474121\n",
            "-4.077585000002898 -1.2788465023040771\n",
            "-4.151355000000137 -1.5475120544433594\n",
            "-4.190128000002176 -1.1052517890930176\n",
            "-6.775782000000788 -2.5649914741516113\n",
            "-5.19247699999886 -0.4824700355529785\n",
            "-5.895944000000043 -2.569683790206909\n",
            "-5.5675099999991176 -1.1180963516235352\n",
            "-4.651499999998293 -0.3550853729248047\n",
            "-5.393031000003418 -1.1351962089538574\n",
            "-5.410699000000193 -0.8109378814697266\n",
            "-4.541342999997312 -1.2074871063232422\n",
            "-2.8070250000020565 -1.3524901866912842\n",
            "-2.9915030000012734 -1.244433581829071\n",
            "-2.4659140000005095 0.20374000072479248\n",
            "-2.9635890000010363 0.9811000823974609\n",
            "-3.0068580000008183 -0.6059823036193848\n",
            "-3.2059830000000034 0.0042514801025390625\n",
            "-2.9086230000067985 -0.3384556770324707\n",
            "-2.946852999999635 0.04749774932861328\n",
            "-3.2337780000017915 -0.043959617614746094\n",
            "-2.7976540000019554 -1.5091097354888916\n",
            "-3.054576999999142 -1.47645902633667\n",
            "-2.5271639999993454 0.09241163730621338\n",
            "-2.793685000000721 0.2887134552001953\n",
            "-2.9892440000004967 -0.6527462005615234\n",
            "-3.1432139999998867 0.6521153450012207\n",
            "-2.728236999999524 -0.11857271194458008\n",
            "-2.791401000000576 0.2679767608642578\n",
            "-3.3122430000004783 0.11485147476196289\n",
            "-6.302507000000503 -1.260617733001709\n",
            "-6.230480000000341 -2.115605354309082\n",
            "-6.1076790000008145 -1.3488869667053223\n",
            "-6.379795000000911 -1.4851408004760742\n",
            "-4.178507000000707 -2.55808162689209\n",
            "-4.307285999999465 -2.348745584487915\n",
            "-3.8868739999999775 -1.4300948977470398\n",
            "-3.859222999999645 -0.24529266357421875\n",
            "-4.06673199999949 -1.7090339660644531\n",
            "-4.073814999999911 -0.6997954845428467\n",
            "-3.7592459999979724 -0.14080142974853516\n",
            "-3.929180999999687 -0.6884059906005859\n",
            "-3.654491999998015 -0.43834495544433594\n",
            "-4.956826999998327 -3.1534669995307922\n",
            "-4.975631999998029 -2.7223732471466064\n",
            "-4.2504889999983675 -0.07677841186523438\n",
            "-4.5519630000000575 -2.196923017501831\n",
            "-4.309893000001637 -1.3729195594787598\n",
            "-3.878720000000783 -0.32616758346557617\n",
            "-4.263085999995553 -0.9774911403656006\n",
            "-3.7325039999997784 -1.1899542808532715\n",
            "-6.5307589999976585 -4.40549111366272\n",
            "-6.465586999998948 -3.8235366344451904\n",
            "-6.19013300000023 -2.3997716903686523\n",
            "-6.807547000000511 -0.7097921371459961\n",
            "-7.014389000000108 0.9317450523376465\n",
            "-6.752898000002631 -0.3928227424621582\n",
            "-6.863934999997753 -3.4858436584472656\n",
            "-6.952665000000877 -0.9286026954650879\n",
            "-6.803953999999237 -1.6965970993041992\n",
            "-6.9496899999978154 -1.8805394172668457\n",
            "-7.0433360000026255 -4.068778038024902\n",
            "-6.796110999999826 -2.9151957035064697\n",
            "-6.9273070000019175 1.1108970642089844\n",
            "-6.155338000000654 0.5037655830383301\n",
            "-6.2896239999974455 -1.4086523056030273\n",
            "-7.347398000001874 0.9070224761962891\n",
            "-6.85873399999781 0.4489750862121582\n",
            "-6.580513000000963 1.4215803146362305\n",
            "-5.44041500000111 -3.9765477180480957\n",
            "-3.195144000001335 -1.1260262727737427\n",
            "-2.4846589999980893 -0.8885164260864258\n",
            "-2.914417000000128 -0.034951090812683105\n",
            "-4.049368000000129 -1.346679925918579\n",
            "-2.743320999998275 -0.4648761749267578\n",
            "-1.817138999999031 1.5020599365234375\n",
            "-4.555225000000235 -1.8614431619644165\n",
            "-4.226043999999263 -1.3751373291015625\n",
            "-6.623794999999689 -4.171485722064972\n",
            "-6.779088000003128 -4.32902729511261\n",
            "-3.863577000000248 -1.5830436944961548\n",
            "-5.8253540000006865 -2.8187052607536316\n",
            "-2.628187999998943 -0.18583130836486816\n",
            "-2.8772279999977286 -0.473360538482666\n",
            "-4.468494000000817 -2.558439314365387\n",
            "-6.558788999998967 -4.343854069709778\n",
            "-6.956005999996876 -4.183573007583618\n",
            "-4.419558000001587 0.2854633331298828\n",
            "-4.187708000001464 1.022911548614502\n",
            "-4.227919000001009 0.35621023178100586\n",
            "-3.7556529999966983 -1.059082269668579\n",
            "-4.306861000001106 -1.4224400520324707\n",
            "-3.95062500000148 -0.7928786277770996\n",
            "-4.389101999997536 -1.8405057191848755\n",
            "-3.1057519999996543 -0.5207229852676392\n",
            "-5.582221999997444 -0.32461977005004883\n",
            "-6.087123000001327 1.9073500633239746\n",
            "-5.405093000001386 -1.6049270629882812\n",
            "-3.545560999999168 0.6975669860839844\n",
            "-3.083592999999553 0.07752084732055664\n",
            "-4.351320000001749 -1.5764989852905273\n",
            "-3.431244999999933 -1.2434906959533691\n",
            "-3.1281760000021563 -1.3738312721252441\n",
            "-3.438712999999723 0.9302942752838135\n",
            "-3.458246999998835 0.42308473587036133\n",
            "-2.723396000001401 -0.9653143882751465\n",
            "-3.193405000000155 1.3899598121643066\n",
            "-3.336648999999113 -0.808056116104126\n",
            "-3.260280999999111 -0.08592534065246582\n",
            "-3.1880579999998986 0.42413806915283203\n",
            "-3.329108000001895 0.5686101913452148\n",
            "-1.645211999999617 2.2934608459472656\n",
            "-1.7343279999988113 1.5366082191467285\n",
            "-4.137673999999777 -0.42954540252685547\n",
            "-5.5829729999970255 0.2684001922607422\n",
            "-4.049353000002327 0.02886652946472168\n",
            "-5.606749999999181 -2.810481071472168\n",
            "-4.269555999999454 -0.6700618267059326\n",
            "-6.224755999999786 -3.059493064880371\n",
            "-6.287285999999028 -3.0596704483032227\n",
            "-3.6862110000003554 0.044174909591674805\n",
            "-5.5231640000003495 -2.270704984664917\n",
            "-2.680213000001629 0.38383960723876953\n",
            "-6.4343310000005545 -3.132256507873535\n",
            "-3.914999000000705 -0.6598911285400391\n",
            "-4.197293999999772 -1.8008685111999512\n",
            "-6.396174000001508 -3.569072723388672\n",
            "-5.866593999999338 -2.177415370941162\n",
            "-6.333295000000533 -1.7825658321380615\n",
            "-6.6327920000005065 -3.484869956970215\n",
            "-3.542469999996854 0.37894248962402344\n",
            "-5.436711999998977 -2.1808595657348633\n",
            "-4.447543000000394 -1.163548469543457\n",
            "-4.485784999999112 0.4325685501098633\n",
            "-4.461725000001195 -1.9234380722045898\n",
            "-2.3768280000005575 -0.32340502738952637\n",
            "-2.3289539999970543 0.0586283802986145\n",
            "-1.9031030000007263 0.06647545099258423\n",
            "-2.2885509999998135 -0.2631133198738098\n",
            "-1.951943000000199 -0.6649491786956787\n",
            "-2.5617260000000783 -0.6877228021621704\n",
            "-1.9079999999996176 0.10001862049102783\n",
            "-2.0475570000018593 -0.674971342086792\n",
            "-2.17638900000037 0.17978572845458984\n",
            "-2.353626000000247 -0.14009547233581543\n",
            "-1.8088910000007559 0.3654160499572754\n",
            "-2.8250159999990387 -0.22117400169372559\n",
            "-2.58979200000266 0.05483579635620117\n",
            "-2.190163999999811 -0.6455622911453247\n",
            "-2.867368999999769 -0.6962933540344238\n",
            "-2.0744979999983 -0.15275418758392334\n",
            "-3.1634249999989947 -0.3895571231842041\n",
            "-2.2343899999979726 -0.3716315031051636\n",
            "-2.422539999999742 -0.8626644611358643\n",
            "-2.169280000002061 -0.10470902919769287\n",
            "-2.6896159999998304 0.27820587158203125\n",
            "-2.242187999996702 0.18284118175506592\n",
            "-2.8837180000011244 0.7270565032958984\n",
            "-1.919685000000925 -0.2096567153930664\n",
            "-2.112924000001101 -0.37934446334838867\n",
            "-2.166624000001491 -0.13834095001220703\n",
            "-3.1361709999984555 -0.8367882966995239\n",
            "-3.111809999998684 0.5962429642677307\n",
            "-4.236127000000295 0.14982295036315918\n",
            "-3.064612000000295 0.20508956909179688\n",
            "-4.3357049999996775 0.1815176010131836\n",
            "-3.9256690000003687 -0.17113304138183594\n",
            "-3.807104000001516 0.3224315643310547\n",
            "-3.56869899999964 2.292872905731201\n",
            "-4.00299300000205 -0.6808023452758789\n",
            "-3.8014089999998646 0.7269697189331055\n",
            "-3.345500999999956 -1.0835886001586914\n",
            "-3.3377249999977607 0.9633269309997559\n",
            "-3.8014270000023203 -2.15938663482666\n",
            "-3.459453999999994 0.8708744049072266\n",
            "-3.3066079999991302 1.2390785217285156\n",
            "-3.8049139999986323 -0.28832292556762695\n",
            "-3.793598999998892 1.094804286956787\n",
            "-4.127157999999497 1.27531099319458\n",
            "-4.132350000000031 1.2363462448120117\n",
            "-3.634949999999833 1.1268410682678223\n",
            "-3.806005000000539 1.3032350540161133\n",
            "-4.1441489999999135 -0.590071439743042\n",
            "-3.254794999997273 1.1560907363891602\n",
            "-3.2954929999979754 0.13839054107666016\n",
            "-3.329583999999329 1.4139161109924316\n",
            "-3.3996090000002255 0.8410868644714355\n",
            "-3.6373580000001198 -0.666898250579834\n",
            "-3.3782929999999283 0.526054859161377\n",
            "-3.516647000000546 -2.0998778343200684\n",
            "-3.7395629999993503 -0.6180170774459839\n",
            "-3.8380840000028797 -1.2636547088623047\n",
            "-3.681461000000297 -1.6799514889717102\n",
            "-3.5767379999999207 -0.6699519157409668\n",
            "-3.603610999998807 -0.6927359104156494\n",
            "-3.833187999997051 0.0010292530059814453\n",
            "-3.924458999998194 -0.012939691543579102\n",
            "-3.6400729999988357 -1.5520052909851074\n",
            "-3.4154679999994073 -1.784358263015747\n",
            "-3.680215000000487 -1.5148577690124512\n",
            "-3.4702230000004306 -1.8003488779067993\n",
            "-5.559694999998271 -1.7353191375732422\n",
            "-4.696860000000186 -0.5112123489379883\n",
            "-5.471244999997168 -2.158193588256836\n",
            "-5.6304989999991335 0.38452863693237305\n",
            "-5.597584000001177 -0.5787816047668457\n",
            "-4.975181000001783 -1.359097957611084\n",
            "-4.9267729999994 -0.632479190826416\n",
            "-5.438873999999657 0.4411606788635254\n",
            "-4.760049000000606 -0.31200218200683594\n",
            "-5.72518399999916 -0.8657317161560059\n",
            "-5.560332000001097 -0.48399877548217773\n",
            "-5.359577999999772 1.1248021125793457\n",
            "-5.093071999999836 -0.14024066925048828\n",
            "-4.941415999998014 -0.4690241813659668\n",
            "-6.171206999999583 -1.8510513305664062\n",
            "-5.744175999998504 -0.41597509384155273\n",
            "-2.6264649999977223 -0.7589414119720459\n",
            "-2.773874999999123 -0.7542741298675537\n",
            "-2.7864569999985065 -0.9890739917755127\n",
            "-2.6575629999971966 -1.2157189846038818\n",
            "-3.1254800000007776 -0.7010974884033203\n",
            "-2.8092140000009636 -1.2392511367797852\n",
            "-2.8241149999996082 -1.6073508262634277\n",
            "-3.2632019999984436 -0.7549595832824707\n",
            "-3.029491999998015 -1.1755485534667969\n",
            "-3.2261330000002886 -0.8385097980499268\n",
            "-3.028730999998686 -1.2215914726257324\n",
            "-3.109983999998974 -1.042841911315918\n",
            "-2.849652000000958 -0.5697247982025146\n",
            "-2.750183000000277 -1.3549652099609375\n",
            "-2.9256739999984234 -0.7166285514831543\n",
            "-3.0903880000007007 -1.3824872970581055\n",
            "-2.086393999998279 -0.7752656936645508\n",
            "-2.401872999999057 -0.5976753234863281\n",
            "-2.6946749999989947 -0.18873143196105957\n",
            "-2.8424310000011133 -0.35338854789733887\n",
            "-2.805200000002685 -0.9047298431396484\n",
            "-3.440746000000388 1.0200691223144531\n",
            "-3.111665000000528 0.0394132137298584\n",
            "-2.943002000000149 0.5772476196289062\n",
            "-2.804603000000668 -1.2554502487182617\n",
            "-3.3301279999997746 -0.037204742431640625\n",
            "-2.9769399999988195 -0.1614999771118164\n",
            "-3.3436549999989325 0.4212017059326172\n",
            "-3.018632999999852 -0.15006756782531738\n",
            "-3.120245999998758 0.19144892692565918\n",
            "-2.3592490000011708 -0.05354595184326172\n",
            "-2.7760779999991314 0.43285465240478516\n",
            "-2.65900100000016 -0.37751102447509766\n",
            "-2.8652609999991796 1.0450212955474854\n",
            "-3.0064920000006055 0.03800773620605469\n",
            "-2.009898000000419 0.5868425369262695\n",
            "-2.2639510000009864 -0.24651479721069336\n",
            "-6.208589000001837 -2.082118511199951\n",
            "-5.8637870000004 -0.990997314453125\n",
            "-6.019198000000131 -1.5080218315124512\n",
            "-4.112693999999635 -0.8646607398986816\n",
            "-3.020457000002523 -0.8310756683349609\n",
            "-4.126320999999905 -0.5697684288024902\n",
            "-3.7190609999999538 -0.2230914831161499\n",
            "-3.69385500000152 -0.2882082462310791\n",
            "-3.5306810000003566 -0.49594783782958984\n",
            "-3.913701000001481 -1.1084589958190918\n",
            "-3.6593350000004534 -0.31057143211364746\n",
            "-3.230466999997759 -1.6668086051940918\n",
            "-3.609103999999377 -0.6324706077575684\n",
            "-3.8914489999989996 -0.44598865509033203\n",
            "-3.444035999997311 -0.5229372978210449\n",
            "-3.1718809999985638 -0.6342530250549316\n",
            "-3.785777000001133 -1.0235629081726074\n",
            "-3.8622950000028027 -0.30433177947998047\n",
            "-4.022862000001794 -0.15306472778320312\n",
            "-4.030518000003383 0.08472967147827148\n",
            "-3.634709999994982 -0.09834861755371094\n",
            "-3.845368999998925 -0.7461824417114258\n",
            "-3.1412260000035417 -0.39072465896606445\n",
            "-3.0718669999952795 -0.7472257614135742\n",
            "-3.3149469999954704 -0.3882904052734375\n",
            "-3.397232999999858 -0.33513450622558594\n",
            "-3.515085000002898 -1.2274971008300781\n",
            "-5.06337800000091 -1.3855738639831543\n",
            "-3.992547000000002 -1.0582938194274902\n",
            "-5.00138799999894 -1.1471161842346191\n",
            "-4.923315000000173 -0.7628111839294434\n",
            "-4.421834999999362 -0.4262809753417969\n",
            "-3.7509859999992727 -0.04488086700439453\n",
            "-4.877744999999948 -2.1082162857055664\n",
            "-4.427592000000175 -1.1390695571899414\n",
            "-4.246307000001423 -2.1436867713928223\n",
            "-4.355929999999887 -0.23653507232666016\n",
            "-3.8468779999986396 -0.4982118606567383\n",
            "-4.343441000001064 -0.36688804626464844\n",
            "-4.5040690000006975 -2.1153688430786133\n",
            "-4.258457000000078 -0.488034725189209\n",
            "-4.727497000000028 -0.6515960693359375\n",
            "-4.613795000001289 -0.511805534362793\n",
            "-4.450861000001339 -0.6948084831237793\n",
            "-4.437793999997837 -1.0184822082519531\n",
            "-4.303157999998973 -0.043149471282958984\n",
            "-3.852557999998851 -0.2422471046447754\n",
            "-4.763710000001254 -1.6724390983581543\n",
            "-4.494456000000525 -0.1374049186706543\n",
            "-6.515042999999594 -2.9384732246398926\n",
            "-6.644845999999404 -2.120711326599121\n",
            "-6.645651000002715 -2.39016056060791\n",
            "-6.685402999999667 -3.168680191040039\n",
            "-6.274758000003374 -3.112913131713867\n",
            "-6.980984999998498 -0.8379678726196289\n",
            "-6.467363999996621 -3.839066982269287\n",
            "-6.512225000002388 -2.7504916191101074\n",
            "-6.977956000006259 -3.203979969024658\n",
            "-7.044044999998903 -4.041176795959473\n",
            "-7.120218000000193 0.25034618377685547\n",
            "-6.608647000001099 -0.6666011810302734\n",
            "-6.339159000003008 -3.5527849197387695\n",
            "-6.211053999999592 -1.7026615142822266\n",
            "-6.502946000000691 -2.5755934715270996\n",
            "-6.569274999998186 -2.036858558654785\n",
            "-6.2662590000001614 -3.1905407905578613\n",
            "-6.195094999999299 -2.785551071166992\n",
            "-6.5466629999975225 -2.2557835578918457\n",
            "-7.080593999995642 -3.9689602851867676\n",
            "-6.746242999997946 -1.2910871505737305\n",
            "-7.229277999999056 -4.3178863525390625\n",
            "-7.30304399999676 -1.022573471069336\n",
            "-6.733660999994925 -3.7556376457214355\n",
            "-6.469198999999378 -2.257059097290039\n",
            "-4.6903359999998315 -1.5294194221496582\n",
            "-3.230201000002296 -1.5456511974334717\n",
            "-4.12304100000091 -1.0101356506347656\n",
            "-4.104928000000825 -0.35642337799072266\n",
            "-4.094101999999282 -1.5637102127075195\n",
            "-3.9979930000010313 -0.18350505828857422\n",
            "-3.8184100000000285 -0.944542407989502\n",
            "-4.143573999999887 -2.3493566513061523\n",
            "-3.758731999998588 0.2707352638244629\n",
            "-3.701038999999753 -0.501136302947998\n",
            "-3.90483200000034 -0.923126220703125\n",
            "-3.737845999998342 0.46388673782348633\n",
            "-4.009522000000459 -0.21193218231201172\n",
            "-3.966061999999681 -0.4578857421875\n",
            "-3.7304160000005027 0.2861490249633789\n",
            "-3.8099430000003736 -0.1326899528503418\n",
            "-3.785022000000197 0.0633544921875\n",
            "-3.7966820000003167 -1.5302834510803223\n",
            "-3.69333099999875 0.2974576950073242\n",
            "-3.6932949999992957 -1.0042262077331543\n",
            "-3.9641080000002944 -1.6309247016906738\n",
            "-3.729909000001669 -0.004222393035888672\n",
            "-3.9584400000005076 -1.1166410446166992\n",
            "-3.837890999999388 0.19041728973388672\n",
            "-3.81294700000052 -1.2668023109436035\n",
            "-3.9080150000010576 -2.072683095932007\n",
            "-3.9327759999980003 -1.913307249546051\n",
            "-3.76478700000024 -1.7647520303726196\n",
            "-3.7653809999976033 -1.5651707649230957\n",
            "-3.8735140000027855 -0.929190993309021\n",
            "-3.7383450000017433 -1.716813564300537\n",
            "-3.9408660000009945 -2.4053505659103394\n",
            "-3.9319969999998534 -1.5392422676086426\n",
            "-3.912012000000857 -1.3924273252487183\n",
            "-3.79312900000167 -2.895165801048279\n",
            "-3.8971640000019647 -1.6381323337554932\n",
            "-3.750892000000192 -2.2238597869873047\n",
            "-3.910543000001951 -2.192568838596344\n",
            "-3.804669999997884 -2.5820491313934326\n",
            "-3.742350000000613 -1.3613783717155457\n",
            "-2.9410349999999994 -0.955816388130188\n",
            "-2.9866640000001894 -0.7829329967498779\n",
            "-2.886593999999775 -1.344360113143921\n",
            "-2.839537000000007 -0.21610212326049805\n",
            "-2.7718569999998977 0.07115030288696289\n",
            "-2.8259120000004145 -0.765286922454834\n",
            "-2.8020580000012956 -0.7877702713012695\n",
            "-2.8365469999991433 -1.1516379117965698\n",
            "-2.969698999997661 -0.06953668594360352\n",
            "-2.8447279999965644 -1.5237503051757812\n",
            "-2.875167999998837 -0.6894545555114746\n",
            "-2.7942010000007826 -0.6505613327026367\n",
            "-2.8663280000002374 -0.5240601301193237\n",
            "-2.9230930000014155 -0.3114023208618164\n",
            "-2.969077999998433 -1.4262418746948242\n",
            "-2.896683000001019 -0.1629619598388672\n",
            "-2.995031999999071 -0.5519740581512451\n",
            "-2.9540009999984136 -0.6268725395202637\n",
            "-2.7350130000015156 -1.0811429023742676\n",
            "-2.9095990000025154 -1.0848736763000488\n",
            "-2.754418000000612 -0.9090557098388672\n",
            "-2.8935409999978106 -1.4255445003509521\n",
            "-2.7617529999990325 -0.1791212558746338\n",
            "-2.875702000001354 -0.4382157325744629\n",
            "-2.768159000003095 -1.0806045532226562\n",
            "-2.900894999999025 -1.7401113510131836\n",
            "-2.999607000001731 -1.4693729877471924\n",
            "-3.0099049999991507 -1.9665231704711914\n",
            "-2.793987999999615 -0.7928614616394043\n",
            "-2.7671950000005268 -0.8077905178070068\n",
            "-2.750487999998029 -0.950620174407959\n",
            "-2.8861920000019268 -1.2250845432281494\n",
            "-2.943876000001353 -1.3125348091125488\n",
            "-2.9665649999989796 -0.5677955150604248\n",
            "-3.074163000001306 -1.9935250282287598\n",
            "-2.7623609999974974 -0.6945757865905762\n",
            "-2.9596370000001 -0.8760280609130859\n",
            "-2.902768000000094 -1.1590919494628906\n",
            "-2.9583989999993605 -0.7350931167602539\n",
            "-2.9627340000008076 -1.0446662902832031\n",
            "-2.9296020000003296 -0.8805913925170898\n",
            "-2.9527860000018222 -0.8718101978302002\n",
            "-2.957931000000997 -0.6566140651702881\n",
            "-3.021433999998578 -0.84663987159729\n",
            "-2.8619949999994674 -1.1614103317260742\n",
            "-2.8379459999998176 -1.3032751083374023\n",
            "-3.0358039999993593 -1.8858211040496826\n",
            "-2.833204999999168 -0.8314876556396484\n",
            "-2.9151710000007256 -1.0125718116760254\n",
            "-2.751440000000173 -1.0933384895324707\n",
            "-6.1629670000003784 -2.667910575866699\n",
            "-6.1145559999987995 -2.5741052627563477\n",
            "-6.154537999999036 -1.7685928344726562\n",
            "-6.290932000000055 -2.2846169471740723\n",
            "-5.818199999999877 -2.195554733276367\n",
            "-6.326366000001315 -1.6839213371276855\n",
            "-6.109951999999055 -1.0099906921386719\n",
            "-6.18763400000006 -1.8572320938110352\n",
            "-6.2659819999991555 -2.237297534942627\n",
            "-5.706725000000176 -0.8996009826660156\n",
            "-6.074772999998629 -2.312474250793457\n",
            "-5.970638000000861 -2.8590359687805176\n",
            "-5.905063999998845 -1.3797078132629395\n",
            "-5.779346999999859 -1.7317943572998047\n",
            "-6.814591000000462 -2.5631089210510254\n",
            "-6.163679000001309 -1.3321704864501953\n",
            "-6.378677999999297 -1.353780746459961\n",
            "-6.1937800000015955 -1.7445659637451172\n",
            "-6.105816999999831 -1.6019649505615234\n",
            "-6.50798599999888 -2.633265495300293\n",
            "-3.9857599999997433 -1.522590160369873\n",
            "-3.9931319999997754 -1.67445707321167\n",
            "-3.780472000002362 -0.943662166595459\n",
            "-3.676090000004649 -0.5439622402191162\n",
            "-3.8674629999988497 -1.172764539718628\n",
            "-3.6995579999967845 -1.24757719039917\n",
            "-3.8145270000060805 -1.5757699012756348\n",
            "-3.8780999999982555 -1.218381404876709\n",
            "-2.556017999999483 -0.5591554641723633\n",
            "-3.7755480000016064 -0.7329168319702148\n",
            "-3.7139069999940943 -1.0986666679382324\n",
            "-3.8093889999983617 -1.5584886074066162\n",
            "-3.9469149999969773 -1.095883846282959\n",
            "-3.940057999996668 -0.4796273708343506\n",
            "-3.8106919999956403 -0.7509770393371582\n",
            "-3.8361380000025633 -0.957648515701294\n",
            "-3.7361319999947114 -1.4254183769226074\n",
            "-3.7168620000049373 -1.301009178161621\n",
            "-3.6419449999995663 -1.4468340873718262\n",
            "-3.8868289999992953 -2.189445734024048\n",
            "-3.771520999998927 -0.4333977699279785\n",
            "-3.963646000000324 -2.317990303039551\n",
            "-3.788063000003774 -1.684689998626709\n",
            "-3.736779000002741 -1.5077810287475586\n",
            "-2.3608760000026336 -0.1971120834350586\n",
            "-1.5542580000002886 0.9812864065170288\n",
            "-2.27352400000035 -0.4472883939743042\n",
            "-2.104309999998975 0.11410742998123169\n",
            "-3.638327000000743 -0.8156247138977051\n",
            "-3.764064000002861 -1.1992077827453613\n",
            "-2.961319999998693 1.5632715225219727\n",
            "-3.7278310000003216 -1.4442706108093262\n",
            "-3.521227000001261 -1.461031436920166\n",
            "-3.38501500000001 -0.17164087295532227\n",
            "-3.2519319999993854 0.29779815673828125\n",
            "-2.113497000002269 -0.22664308547973633\n",
            "-4.200131000001591 0.22614049911499023\n",
            "-2.950209999999231 -0.8523266315460205\n",
            "-3.798096000000612 0.6522955894470215\n",
            "-3.0155929999966133 -0.841109037399292\n",
            "-3.0021459999990725 -0.26455140113830566\n",
            "-1.944562000000758 0.36987990140914917\n",
            "-3.7660859999998024 -1.4596298933029175\n",
            "-5.279758999999274 -0.08609151840209961\n",
            "-5.972176000001298 -0.67926025390625\n",
            "-3.850058999993223 -0.6874322891235352\n",
            "-4.355837000001145 -0.4344158172607422\n",
            "-6.8378919999997265 -1.3047370910644531\n",
            "-6.9957060000053275 0.2799816131591797\n",
            "-6.487440000000959 0.03587198257446289\n",
            "-4.9570600000008085 -3.171364426612854\n",
            "-5.575213000000247 -4.344111204147339\n",
            "-3.211438999998961 -2.1460859775543213\n",
            "-4.927147999999022 -3.5692105889320374\n",
            "-5.0004240000018285 -3.601510524749756\n",
            "-7.0110800000003906 -6.043206334114075\n",
            "-7.780768000000705 -6.293341636657715\n",
            "-4.354465000000516 -2.6643197536468506\n",
            "-2.9656050000014034 -1.5321477055549622\n",
            "-3.493546000001686 -2.9013410806655884\n",
            "-4.333243000001119 -3.6657485961914062\n",
            "-5.0516969999991375 -4.349678039550781\n",
            "-6.126491999999587 -4.435409605503082\n",
            "-6.908802999998613 -5.678263247013092\n",
            "-2.067203999999208 -0.4207753539085388\n",
            "-1.8278940000020043 0.989241361618042\n",
            "-1.934848999997655 0.4085906744003296\n",
            "-1.9649429999992094 0.36353856325149536\n",
            "-1.8829150000021286 0.6015515327453613\n",
            "-1.910198999998272 0.26936936378479004\n",
            "-2.062953000000732 -0.0630875825881958\n",
            "-2.020412999998541 -0.17899417877197266\n",
            "-1.6696430000012583 0.8352882862091064\n",
            "-5.301024000000496 -2.984194040298462\n",
            "-4.510757000000183 -3.955061435699463\n",
            "-4.390217000000291 -3.3344627618789673\n",
            "-6.719169000000136 -5.8505799770355225\n",
            "-7.5727840000001265 -6.115534067153931\n",
            "-6.20852400000166 -4.837340831756592\n",
            "-2.6271400000006793 -0.9653170108795166\n",
            "-3.2413620000008336 -2.3037482500076294\n",
            "-7.303750999999636 -6.001840829849243\n",
            "-7.0628700000017375 -4.887528657913208\n",
            "-2.6898209999964706 -0.8108587265014648\n",
            "-7.091631000003133 -5.504926443099976\n",
            "-3.7227480000003084 -1.7493171691894531\n",
            "-1.9449869999991165 0.7394047975540161\n",
            "-2.1225080000005505 0.3366522789001465\n",
            "-4.694306999998105 -2.3269234895706177\n",
            "-5.7373019999978965 -3.534991145133972\n",
            "-4.506168000000059 -2.653964936733246\n",
            "-4.56864399999921 -3.0031022429466248\n",
            "-7.02301400000232 -4.679086208343506\n",
            "-7.394561000001147 -5.192973375320435\n",
            "-4.008318000000315 -2.3656210899353027\n",
            "-6.324778999998841 -4.042842984199524\n",
            "-2.778765999999621 -0.8109332919120789\n",
            "-3.265090000000953 -1.7559418082237244\n",
            "-7.35405499999996 -5.185841798782349\n",
            "-3.9334069999969756 -2.8840771317481995\n",
            "-4.6918870000010315 -3.818263530731201\n",
            "-5.264687999999467 -4.701554954051971\n",
            "-6.913245000003542 -5.5508793592453\n",
            "-6.713216000000273 -5.006206154823303\n",
            "-7.645307999999375 -5.362504005432129\n",
            "-4.806894999998065 -3.995358169078827\n",
            "-2.9571859999998082 -1.9610941410064697\n",
            "-4.382089999999323 -1.560577154159546\n",
            "-4.140732000000014 -1.0071239471435547\n",
            "-4.11538500000114 -2.230915069580078\n",
            "-4.2209240000012755 -0.964545726776123\n",
            "-4.099105999998017 -1.6121711730957031\n",
            "-4.100624999999297 -1.4326610565185547\n",
            "-3.6862319999983697 0.7417607307434082\n",
            "-4.009194999998897 -0.8242788314819336\n",
            "-3.6013239999994653 0.5883598327636719\n",
            "-3.958600999998623 -0.5485401153564453\n",
            "-3.9220400000014592 -0.009117603302001953\n",
            "-4.369570999999439 -0.3956012725830078\n",
            "-4.150095000001045 -0.2329707145690918\n",
            "-1.5571390000006318 3.0570080280303955\n",
            "-1.847289999999873 1.8959243297576904\n",
            "-2.297730999998919 2.357696056365967\n",
            "-6.204509000003043 -3.468564987182617\n",
            "-6.014224999999158 -2.822953701019287\n",
            "-5.347579999999823 -1.897660732269287\n",
            "-2.589057000001219 1.5554347038269043\n",
            "-2.92888899999906 1.5095295906066895\n",
            "-6.602943000000039 -2.9129080772399902\n",
            "-3.403905999999722 0.6959853172302246\n",
            "-3.8325170000009052 -0.9043130874633789\n",
            "-6.125898000002223 -3.545726776123047\n",
            "-5.392248000000279 -0.7838249206542969\n",
            "-6.702517000001706 -3.854513645172119\n",
            "-3.062939999999969 1.51025390625\n",
            "-4.840936000000681 -0.5140447616577148\n",
            "-3.9423389999976166 -2.032502770423889\n",
            "-3.7881619999972713 -1.84023118019104\n",
            "-3.527349000000129 -0.008342266082763672\n",
            "-3.6422860000022297 -0.9413005113601685\n",
            "-3.772476999998787 -0.2882380485534668\n",
            "-1.8989789999979507 1.220037579536438\n",
            "-2.1288639999986003 0.12405246496200562\n",
            "-4.331592999999145 -1.7525910139083862\n",
            "-2.848824000000775 -0.8012625575065613\n",
            "-4.424173999999937 -1.9163708686828613\n",
            "-4.8837719999975775 -2.6526122093200684\n",
            "-6.724741000001984 -4.853255033493042\n",
            "-6.867349000000274 -4.672905683517456\n",
            "-5.95553099999978 -3.9080147743225098\n",
            "-3.180736999998942 -0.9726148843765259\n",
            "-7.058606999999199 -4.905616760253906\n",
            "-3.941960000000279 -1.381276249885559\n",
            "-4.365251999999771 -3.09476900100708\n",
            "-3.947274999998797 -3.7061080932617188\n",
            "-7.063840000002699 -5.166621923446655\n",
            "-5.706862999999601 -4.169975280761719\n",
            "-6.6745660000016755 -4.159560680389404\n",
            "-7.345229999999162 -5.956887722015381\n",
            "-5.271517000001211 -3.8718395233154297\n",
            "-2.909983000001546 -1.2420215606689453\n",
            "-2.8034039999985794 -0.8784985542297363\n",
            "-2.831958999999358 -0.6993775367736816\n",
            "-2.7641260000020225 0.694155216217041\n",
            "-2.916364000000783 -0.14571356773376465\n",
            "-2.6782019999993167 -0.22092390060424805\n",
            "-2.9481320000015216 -0.23701715469360352\n",
            "-1.7107079999988741 1.1964991092681885\n",
            "-2.052968000000135 0.5095233917236328\n",
            "-4.399744999998973 -0.9670531749725342\n",
            "-5.695028999998783 -1.8921117782592773\n",
            "-2.7431189999990124 0.2685734033584595\n",
            "-4.56217900000064 -2.5671966075897217\n",
            "-6.916159000000505 -5.790917634963989\n",
            "-7.514674999998704 -5.715455055236816\n",
            "-3.8888539999972522 -0.8127753734588623\n",
            "-6.038953999999819 -4.314189910888672\n",
            "-7.1162910000004445 -5.389927625656128\n",
            "-4.169816999998318 -1.8027560710906982\n",
            "-4.569771000000571 -3.5605053901672363\n",
            "-4.384909000000505 -2.3081607818603516\n",
            "-6.299995999998089 -4.665661334991455\n",
            "-7.766810000001158 -5.675144195556641\n",
            "-2.5473120000025915 -0.025757908821105957\n",
            "-5.8892989999987435 -4.5555291175842285\n",
            "-3.09777000000048 -1.0663132667541504\n",
            "-2.9919289999999705 -0.667747974395752\n",
            "-3.088575000001754 -0.8136253356933594\n",
            "-3.1432040000001393 0.2037801742553711\n",
            "-3.0283469999996555 -1.2732329368591309\n",
            "-2.9571010000001365 0.007813215255737305\n",
            "-3.214670999998077 0.2010030746459961\n",
            "-3.0764459999992937 -0.7889623641967773\n",
            "-2.9293620000009355 0.2805356979370117\n",
            "-3.1262959999987174 -0.6785602569580078\n",
            "-2.767535999999552 -0.24129629135131836\n",
            "-3.0710320000000024 -0.6983585357666016\n",
            "-2.977726000001155 -0.5675156116485596\n",
            "-3.110106999996958 -1.4073176383972168\n",
            "-3.1263460000010923 -1.048783779144287\n",
            "-1.4031790000009892 1.8316807746887207\n",
            "-1.7437480000009487 1.873729944229126\n",
            "-3.96665099999899 -0.9161407947540283\n",
            "-5.496519000000433 -2.403702735900879\n",
            "-2.2630470000005403 1.313854694366455\n",
            "-4.128356000001247 -1.6489019393920898\n",
            "-4.139521000001139 -1.343104362487793\n",
            "-6.733440000000144 -5.575473785400391\n",
            "-7.065156000000741 -4.729001998901367\n",
            "-3.376634000000365 -0.5493664741516113\n",
            "-5.617157000000759 -3.8697900772094727\n",
            "-2.583661999997446 0.2394866943359375\n",
            "-6.876134999998783 -4.930127143859863\n",
            "-3.743011999999169 -1.4764103889465332\n",
            "-4.125342999999873 -3.0183377265930176\n",
            "-7.303568999999868 -6.0015549659729\n",
            "-5.787871000000621 -3.709221839904785\n",
            "-6.494810999997014 -3.593324661254883\n",
            "-7.520872000001134 -5.901891231536865\n",
            "-2.268854000001909 1.7116150856018066\n",
            "-6.282338999997762 -0.47602272033691406\n",
            "-5.909042999999826 -3.32645320892334\n",
            "-5.689300000000173 -1.0177116394042969\n",
            "-5.8925849999997695 -2.9701743125915527\n",
            "-5.8299119999994105 -3.2981510162353516\n",
            "-6.100796999999318 -1.544020175933838\n",
            "-6.51979300000329 -0.5915756225585938\n",
            "-1.8318270000001462 2.2710742950439453\n",
            "-3.912980999999661 0.6852560043334961\n",
            "-6.09541100000223 -0.07677698135375977\n",
            "-2.533108999998319 1.226511001586914\n",
            "-3.9480779999996116 1.6642699241638184\n",
            "-5.704195000002244 0.7444486618041992\n",
            "-6.024582000001999 -0.33223438262939453\n",
            "-2.5413810000010812 2.8444337844848633\n",
            "-2.852849999999478 2.1928725242614746\n",
            "-3.496631000001969 1.388425350189209\n",
            "-6.408390000000679 -1.4174871444702148\n",
            "-6.245699999999658 -0.41086816787719727\n",
            "-6.436714999999992 -2.1595420837402344\n",
            "-5.616766999999697 -0.30159759521484375\n",
            "-3.8791729999977065 -1.022047758102417\n",
            "-3.93010499999599 -0.24373149871826172\n",
            "-3.9166680000018346 -0.03218269348144531\n",
            "-3.8694189999989135 -1.5086185932159424\n",
            "-1.9031429999997158 2.317920684814453\n",
            "-4.300075000003005 -0.05417585372924805\n",
            "-5.943601000002843 -2.334766387939453\n",
            "-2.8264959999980306 -0.2365574836730957\n",
            "-4.281785000003026 -1.1657962799072266\n",
            "-4.848457000003862 -0.22869396209716797\n",
            "-6.412740999996629 -4.349827766418457\n",
            "-6.369088999996336 -4.111932754516602\n",
            "-3.741194999998868 -0.26703572273254395\n",
            "-2.944908000001476 0.31232643127441406\n",
            "-3.296482000001731 0.1868438720703125\n",
            "-6.826927999998759 -3.3268280029296875\n",
            "-4.297657999999672 -2.450282096862793\n",
            "-3.948551000005125 -0.9067032337188721\n",
            "-6.432312000000991 -4.572595119476318\n",
            "-5.771964999996442 -1.8835153579711914\n",
            "-6.456292999999448 -3.443693161010742\n",
            "-6.874414000001877 -4.618731498718262\n",
            "-3.2721409999978164 -0.7756810188293457\n",
            "-5.234802000002844 -2.0942769050598145\n"
          ]
        }
      ]
    },
    {
      "cell_type": "code",
      "source": [
        "%matplotlib inline\n",
        "import numpy as np\n",
        "plt.plot(np.array(x)-2.9,y,'.')\n",
        "plt.show()"
      ],
      "metadata": {
        "colab": {
          "base_uri": "https://localhost:8080/",
          "height": 430
        },
        "id": "3qw-J-lQxNTQ",
        "outputId": "6584bd0c-04d2-4987-f27a-24e5a5869ea3"
      },
      "execution_count": 8,
      "outputs": [
        {
          "output_type": "display_data",
          "data": {
            "text/plain": [
              "<Figure size 640x480 with 1 Axes>"
            ],
            "image/png": "[encoded data removed]"
          },
          "metadata": {}
        }
      ]
    },
    {
      "cell_type": "code",
      "source": [
        "len(x)"
      ],
      "metadata": {
        "colab": {
          "base_uri": "https://localhost:8080/"
        },
        "id": "to69OZXHT2oY",
        "outputId": "9fd03d06-f91a-4776-ebf5-895069f694ce"
      },
      "execution_count": null,
      "outputs": [
        {
          "output_type": "execute_result",
          "data": {
            "text/plain": [
              "747"
            ]
          },
          "metadata": {},
          "execution_count": 10
        }
      ]
    },
    {
      "cell_type": "code",
      "source": [
        "from sklearn.metrics import mean_absolute_error\n",
        "import numpy as np\n",
        "mean_absolute_error(y,np.array(x)-2.9)"
      ],
      "metadata": {
        "colab": {
          "base_uri": "https://localhost:8080/"
        },
        "id": "DqEeCli8vUg1",
        "outputId": "c747ef8c-2802-4845-8e3e-10f095f46ca4"
      },
      "execution_count": null,
      "outputs": [
        {
          "output_type": "execute_result",
          "data": {
            "text/plain": [
              "1.040842900478321"
            ]
          },
          "metadata": {},
          "execution_count": 17
        }
      ]
    },
    {
      "cell_type": "code",
      "source": [],
      "metadata": {
        "id": "3y3niZI2_CRN"
      },
      "execution_count": null,
      "outputs": []
    }
  ]
}