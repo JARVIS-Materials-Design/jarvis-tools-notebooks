{
  "nbformat": 4,
  "nbformat_minor": 0,
  "metadata": {
    "colab": {
      "provenance": [],
      "authorship_tag": "ABX9TyOa34RR/8hIZYY8HBZhO/gn",
      "include_colab_link": true
    },
    "kernelspec": {
      "name": "python3",
      "display_name": "Python 3"
    },
    "language_info": {
      "name": "python"
    }
  },
  "cells": [
    {
      "cell_type": "markdown",
      "metadata": {
        "id": "view-in-github",
        "colab_type": "text"
      },
      "source": [
        "<a href=\"https://colab.research.google.com/github/knc6/jarvis-tools-notebooks/blob/master/jarvis-tools-notebooks/alignn_ff_related_plot.ipynb\" target=\"_parent\"><img src=\"https://colab.research.google.com/assets/colab-badge.svg\" alt=\"Open In Colab\"/></a>"
      ]
    },
    {
      "cell_type": "code",
      "source": [
        "import os\n",
        "!git clone https://github.com/usnistgov/alignn.git"
      ],
      "metadata": {
        "colab": {
          "base_uri": "https://localhost:8080/"
        },
        "id": "DnrZBqsVBzJ9",
        "outputId": "59633d5c-cb6a-46c8-c022-734207f6380f"
      },
      "execution_count": 1,
      "outputs": [
        {
          "output_type": "stream",
          "name": "stdout",
          "text": [
            "Cloning into 'alignn'...\n",
            "remote: Enumerating objects: 3469, done.\u001b[K\n",
            "remote: Counting objects: 100% (1063/1063), done.\u001b[K\n",
            "remote: Compressing objects: 100% (352/352), done.\u001b[K\n",
            "remote: Total 3469 (delta 793), reused 834 (delta 678), pack-reused 2406\u001b[K\n",
            "Receiving objects: 100% (3469/3469), 32.75 MiB | 14.54 MiB/s, done.\n",
            "Resolving deltas: 100% (1969/1969), done.\n"
          ]
        }
      ]
    },
    {
      "cell_type": "code",
      "execution_count": 2,
      "metadata": {
        "colab": {
          "base_uri": "https://localhost:8080/"
        },
        "id": "3a6PJNQe_33D",
        "outputId": "8aca8e8f-5708-4415-9f80-295c6610639c"
      },
      "outputs": [
        {
          "output_type": "stream",
          "name": "stdout",
          "text": [
            "Branch 'develop' set up to track remote branch 'develop' from 'origin'.\n",
            "Switched to a new branch 'develop'\n",
            "/usr/local/lib/python3.10/dist-packages/setuptools/dist.py:519: InformationOnly: Normalizing '2023.04.27' to '2023.4.27'\n",
            "  self.metadata.version = self._normalize_version(\n",
            "running develop\n",
            "/usr/local/lib/python3.10/dist-packages/setuptools/command/develop.py:40: EasyInstallDeprecationWarning: easy_install command is deprecated.\n",
            "!!\n",
            "\n",
            "        ********************************************************************************\n",
            "        Please avoid running ``setup.py`` and ``easy_install``.\n",
            "        Instead, use pypa/build, pypa/installer, pypa/build or\n",
            "        other standards-based tools.\n",
            "\n",
            "        See https://github.com/pypa/setuptools/issues/917 for details.\n",
            "        ********************************************************************************\n",
            "\n",
            "!!\n",
            "  easy_install.initialize_options(self)\n",
            "/usr/lib/python3.10/distutils/cmd.py:62: SetuptoolsDeprecationWarning: setup.py install is deprecated.\n",
            "!!\n",
            "\n",
            "        ********************************************************************************\n",
            "        Please avoid running ``setup.py`` directly.\n",
            "        Instead, use pypa/build, pypa/installer, pypa/build or\n",
            "        other standards-based tools.\n",
            "\n",
            "        See https://blog.ganssle.io/articles/2021/10/setup-py-deprecated.html for details.\n",
            "        ********************************************************************************\n",
            "\n",
            "!!\n",
            "  self.initialize_options()\n",
            "running egg_info\n",
            "creating alignn.egg-info\n",
            "writing alignn.egg-info/PKG-INFO\n",
            "writing dependency_links to alignn.egg-info/dependency_links.txt\n",
            "writing requirements to alignn.egg-info/requires.txt\n",
            "writing top-level names to alignn.egg-info/top_level.txt\n",
            "writing manifest file 'alignn.egg-info/SOURCES.txt'\n",
            "reading manifest file 'alignn.egg-info/SOURCES.txt'\n",
            "adding license file 'LICENSE.rst'\n",
            "writing manifest file 'alignn.egg-info/SOURCES.txt'\n",
            "running build_ext\n",
            "Creating /usr/local/lib/python3.10/dist-packages/alignn.egg-link (link to .)\n",
            "Adding alignn 2023.4.27 to easy-install.pth file\n",
            "Installing pretrained.py script to /usr/local/bin\n",
            "Installing train_folder.py script to /usr/local/bin\n",
            "Installing train_folder_ff.py script to /usr/local/bin\n",
            "Installing run_alignn_ff.py script to /usr/local/bin\n",
            "\n",
            "Installed /content/alignn\n",
            "Processing dependencies for alignn==2023.4.27\n",
            "Searching for ase\n",
            "Reading https://pypi.org/simple/ase/\n",
            "Downloading https://files.pythonhosted.org/packages/38/b0/3c0a7afaf66274588216c251376ac2bea0269eb7a5e1da77521811060553/ase-3.22.1-py3-none-any.whl#sha256=66cc481e3d82bea8931d5fe677119932ea0bd1bc08b901fd84f36b37fa681c9e\n",
            "Best match: ase 3.22.1\n",
            "Processing ase-3.22.1-py3-none-any.whl\n",
            "Installing ase-3.22.1-py3-none-any.whl to /usr/local/lib/python3.10/dist-packages\n",
            "Adding ase 3.22.1 to easy-install.pth file\n",
            "Installing ase script to /usr/local/bin\n",
            "Installing ase-build script to /usr/local/bin\n",
            "Installing ase-db script to /usr/local/bin\n",
            "Installing ase-gui script to /usr/local/bin\n",
            "Installing ase-info script to /usr/local/bin\n",
            "Installing ase-run script to /usr/local/bin\n",
            "\n",
            "Installed /usr/local/lib/python3.10/dist-packages/ase-3.22.1-py3.10.egg\n",
            "Searching for pyparsing<3,>=2.2.1\n",
            "Reading https://pypi.org/simple/pyparsing/\n",
            "Downloading https://files.pythonhosted.org/packages/8a/bb/488841f56197b13700afd5658fc279a2025a39e22449b7cf29864669b15d/pyparsing-2.4.7-py2.py3-none-any.whl#sha256=ef9d7589ef3c200abe66653d3f1ab1033c3c419ae9b9bdb1240a85b024efc88b\n",
            "Best match: pyparsing 2.4.7\n",
            "Processing pyparsing-2.4.7-py2.py3-none-any.whl\n",
            "Installing pyparsing-2.4.7-py2.py3-none-any.whl to /usr/local/lib/python3.10/dist-packages\n",
            "Adding pyparsing 2.4.7 to easy-install.pth file\n",
            "\n",
            "Installed /usr/local/lib/python3.10/dist-packages/pyparsing-2.4.7-py3.10.egg\n",
            "Searching for pydocstyle>=6.0.0\n",
            "Reading https://pypi.org/simple/pydocstyle/\n",
            "Downloading https://files.pythonhosted.org/packages/36/ea/99ddefac41971acad68f14114f38261c1f27dac0b3ec529824ebc739bdaa/pydocstyle-6.3.0-py3-none-any.whl#sha256=118762d452a49d6b05e194ef344a55822987a462831ade91ec5c06fd2169d019\n",
            "Best match: pydocstyle 6.3.0\n",
            "Processing pydocstyle-6.3.0-py3-none-any.whl\n",
            "Installing pydocstyle-6.3.0-py3-none-any.whl to /usr/local/lib/python3.10/dist-packages\n",
            "Adding pydocstyle 6.3.0 to easy-install.pth file\n",
            "Installing pydocstyle script to /usr/local/bin\n",
            "\n",
            "Installed /usr/local/lib/python3.10/dist-packages/pydocstyle-6.3.0-py3.10.egg\n",
            "Searching for pycodestyle>=2.7.0\n",
            "Reading https://pypi.org/simple/pycodestyle/\n",
            "Downloading https://files.pythonhosted.org/packages/a2/54/001fdc0d69e8d0bb86c3423a6fa6dfada8cc26317c2635ab543e9ac411bd/pycodestyle-2.10.0-py2.py3-none-any.whl#sha256=8a4eaf0d0495c7395bdab3589ac2db602797d76207242c17d470186815706610\n",
            "Best match: pycodestyle 2.10.0\n",
            "Processing pycodestyle-2.10.0-py2.py3-none-any.whl\n",
            "Installing pycodestyle-2.10.0-py2.py3-none-any.whl to /usr/local/lib/python3.10/dist-packages\n",
            "Adding pycodestyle 2.10.0 to easy-install.pth file\n",
            "Installing pycodestyle script to /usr/local/bin\n",
            "\n",
            "Installed /usr/local/lib/python3.10/dist-packages/pycodestyle-2.10.0-py3.10.egg\n",
            "Searching for flake8>=3.9.1\n",
            "Reading https://pypi.org/simple/flake8/\n",
            "Downloading https://files.pythonhosted.org/packages/d9/6a/bb0122ebe280476c924470779d2595f1403878cafe3c8a343ac56a5a9c0e/flake8-6.0.0-py2.py3-none-any.whl#sha256=3833794e27ff64ea4e9cf5d410082a8b97ff1a06c16aa3d2027339cd0f1195c7\n",
            "Best match: flake8 6.0.0\n",
            "Processing flake8-6.0.0-py2.py3-none-any.whl\n",
            "Installing flake8-6.0.0-py2.py3-none-any.whl to /usr/local/lib/python3.10/dist-packages\n",
            "Adding flake8 6.0.0 to easy-install.pth file\n",
            "Installing flake8 script to /usr/local/bin\n",
            "\n",
            "Installed /usr/local/lib/python3.10/dist-packages/flake8-6.0.0-py3.10.egg\n",
            "Searching for pydantic==1.8.1\n",
            "Reading https://pypi.org/simple/pydantic/\n",
            "Downloading https://files.pythonhosted.org/packages/8f/c4/a83f0b745d824a85ee5e4c8d26329d1c687b3a9303eca762dcc373721734/pydantic-1.8.1-py3-none-any.whl#sha256=e3f8790c47ac42549dc8b045a67b0ca371c7f66e73040d0197ce6172b385e520\n",
            "Best match: pydantic 1.8.1\n",
            "Processing pydantic-1.8.1-py3-none-any.whl\n",
            "Installing pydantic-1.8.1-py3-none-any.whl to /usr/local/lib/python3.10/dist-packages\n",
            "Adding pydantic 1.8.1 to easy-install.pth file\n",
            "\n",
            "Installed /usr/local/lib/python3.10/dist-packages/pydantic-1.8.1-py3.10.egg\n",
            "Searching for pytorch-ignite>=0.5.0.dev20221024\n",
            "Reading https://pypi.org/simple/pytorch-ignite/\n",
            "Downloading https://files.pythonhosted.org/packages/c6/93/86c1c7b8f891c2a83cca9629e2907d6b4b5d231776ca6c72d4af1a9ef132/pytorch_ignite-0.5.0.dev20230430-py3-none-any.whl#sha256=c26ca8e2372f39ce0ae7d1fae4ab0900682df2bdba372c55381dcac6c9caac8c\n",
            "Best match: pytorch-ignite 0.5.0.dev20230430\n",
            "Processing pytorch_ignite-0.5.0.dev20230430-py3-none-any.whl\n",
            "Installing pytorch_ignite-0.5.0.dev20230430-py3-none-any.whl to /usr/local/lib/python3.10/dist-packages\n",
            "Adding pytorch-ignite 0.5.0.dev20230430 to easy-install.pth file\n",
            "\n",
            "Installed /usr/local/lib/python3.10/dist-packages/pytorch_ignite-0.5.0.dev20230430-py3.10.egg\n",
            "Searching for dgl>=0.6.0\n",
            "Reading https://pypi.org/simple/dgl/\n",
            "Downloading https://files.pythonhosted.org/packages/81/0f/907bf099787c62e464b5609f806465dbef95ed3dfb07c5eec83ddf0068c7/dgl-1.0.1-cp310-cp310-manylinux1_x86_64.whl#sha256=37290ba65e6467034f956742160eea36c7c8bbfd87ba8b2133b73432c724ecf3\n",
            "Best match: dgl 1.0.1\n",
            "Processing dgl-1.0.1-cp310-cp310-manylinux1_x86_64.whl\n",
            "Installing dgl-1.0.1-cp310-cp310-manylinux1_x86_64.whl to /usr/local/lib/python3.10/dist-packages\n",
            "Adding dgl 1.0.1 to easy-install.pth file\n",
            "\n",
            "Installed /usr/local/lib/python3.10/dist-packages/dgl-1.0.1-py3.10-linux-x86_64.egg\n",
            "Searching for jarvis-tools>=2021.07.19\n",
            "Reading https://pypi.org/simple/jarvis-tools/\n",
            "Downloading https://files.pythonhosted.org/packages/61/eb/bd2cce1bd83f6c37813c11b9e4684015977f2c30e1a17fb1de1318d906a2/jarvis_tools-2023.4.6-py2.py3-none-any.whl#sha256=0f23bbc1f92073fe30f5f662d7bd235bb9352ad1fc9034f015319f90651a8f00\n",
            "Best match: jarvis-tools 2023.4.6\n",
            "Processing jarvis_tools-2023.4.6-py2.py3-none-any.whl\n",
            "Installing jarvis_tools-2023.4.6-py2.py3-none-any.whl to /usr/local/lib/python3.10/dist-packages\n",
            "Adding jarvis-tools 2023.4.6 to easy-install.pth file\n",
            "\n",
            "Installed /usr/local/lib/python3.10/dist-packages/jarvis_tools-2023.4.6-py3.10.egg\n",
            "Searching for pyflakes<3.1.0,>=3.0.0\n",
            "Reading https://pypi.org/simple/pyflakes/\n",
            "Downloading https://files.pythonhosted.org/packages/af/4c/b1c7008aa7788b3e26c06c60aa18da7d3aa1f00e344aa3f18ac92768854b/pyflakes-3.0.1-py2.py3-none-any.whl#sha256=ec55bf7fe21fff7f1ad2f7da62363d749e2a470500eab1b555334b67aa1ef8cf\n",
            "Best match: pyflakes 3.0.1\n",
            "Processing pyflakes-3.0.1-py2.py3-none-any.whl\n",
            "Installing pyflakes-3.0.1-py2.py3-none-any.whl to /usr/local/lib/python3.10/dist-packages\n",
            "Adding pyflakes 3.0.1 to easy-install.pth file\n",
            "Installing pyflakes script to /usr/local/bin\n",
            "\n",
            "Installed /usr/local/lib/python3.10/dist-packages/pyflakes-3.0.1-py3.10.egg\n",
            "Searching for mccabe<0.8.0,>=0.7.0\n",
            "Reading https://pypi.org/simple/mccabe/\n",
            "Downloading https://files.pythonhosted.org/packages/27/1a/1f68f9ba0c207934b35b86a8ca3aad8395a3d6dd7921c0686e23853ff5a9/mccabe-0.7.0-py2.py3-none-any.whl#sha256=6c2d30ab6be0e4a46919781807b4f0d834ebdd6c6e3dca0bda5a15f863427b6e\n",
            "Best match: mccabe 0.7.0\n",
            "Processing mccabe-0.7.0-py2.py3-none-any.whl\n",
            "Installing mccabe-0.7.0-py2.py3-none-any.whl to /usr/local/lib/python3.10/dist-packages\n",
            "Adding mccabe 0.7.0 to easy-install.pth file\n",
            "\n",
            "Installed /usr/local/lib/python3.10/dist-packages/mccabe-0.7.0-py3.10.egg\n",
            "Searching for xmltodict>=0.11.0\n",
            "Reading https://pypi.org/simple/xmltodict/\n",
            "Downloading https://files.pythonhosted.org/packages/94/db/fd0326e331726f07ff7f40675cd86aa804bfd2e5016c727fa761c934990e/xmltodict-0.13.0-py2.py3-none-any.whl#sha256=aa89e8fd76320154a40d19a0df04a4695fb9dc5ba977cbb68ab3e4eb225e7852\n",
            "Best match: xmltodict 0.13.0\n",
            "Processing xmltodict-0.13.0-py2.py3-none-any.whl\n",
            "Installing xmltodict-0.13.0-py2.py3-none-any.whl to /usr/local/lib/python3.10/dist-packages\n",
            "Adding xmltodict 0.13.0 to easy-install.pth file\n",
            "\n",
            "Installed /usr/local/lib/python3.10/dist-packages/xmltodict-0.13.0-py3.10.egg\n",
            "Searching for spglib>=1.14.1\n",
            "Reading https://pypi.org/simple/spglib/\n",
            "Downloading https://files.pythonhosted.org/packages/eb/c3/4d6f8df2eb2038052d35b379293a458d3fe4bed25bfa07567925c254fbb7/spglib-2.0.2-cp310-cp310-manylinux_2_17_x86_64.manylinux2014_x86_64.whl#sha256=2f76c1a5e9699479c847a577e3d7974c676a030048ca4f9ae1b89008ef8b3db7\n",
            "Best match: spglib 2.0.2\n",
            "Processing spglib-2.0.2-cp310-cp310-manylinux_2_17_x86_64.manylinux2014_x86_64.whl\n",
            "Installing spglib-2.0.2-cp310-cp310-manylinux_2_17_x86_64.manylinux2014_x86_64.whl to /usr/local/lib/python3.10/dist-packages\n",
            "Adding spglib 2.0.2 to easy-install.pth file\n",
            "\n",
            "Installed /usr/local/lib/python3.10/dist-packages/spglib-2.0.2-py3.10-linux-x86_64.egg\n",
            "Searching for pandas==1.5.3\n",
            "Best match: pandas 1.5.3\n",
            "Adding pandas 1.5.3 to easy-install.pth file\n",
            "\n",
            "Using /usr/local/lib/python3.10/dist-packages\n",
            "Searching for tqdm==4.65.0\n",
            "Best match: tqdm 4.65.0\n",
            "Adding tqdm 4.65.0 to easy-install.pth file\n",
            "Installing tqdm script to /usr/local/bin\n",
            "\n",
            "Using /usr/local/lib/python3.10/dist-packages\n",
            "Searching for matplotlib==3.7.1\n",
            "Best match: matplotlib 3.7.1\n",
            "Adding matplotlib 3.7.1 to easy-install.pth file\n",
            "\n",
            "Using /usr/local/lib/python3.10/dist-packages\n",
            "Searching for scikit-learn==1.2.2\n",
            "Best match: scikit-learn 1.2.2\n",
            "Adding scikit-learn 1.2.2 to easy-install.pth file\n",
            "\n",
            "Using /usr/local/lib/python3.10/dist-packages\n",
            "Searching for torch==2.0.0+cu118\n",
            "Best match: torch 2.0.0+cu118\n",
            "Adding torch 2.0.0+cu118 to easy-install.pth file\n",
            "Installing convert-caffe2-to-onnx script to /usr/local/bin\n",
            "Installing convert-onnx-to-caffe2 script to /usr/local/bin\n",
            "Installing torchrun script to /usr/local/bin\n",
            "\n",
            "Using /usr/local/lib/python3.10/dist-packages\n",
            "Searching for scipy==1.10.1\n",
            "Best match: scipy 1.10.1\n",
            "Adding scipy 1.10.1 to easy-install.pth file\n",
            "\n",
            "Using /usr/local/lib/python3.10/dist-packages\n",
            "Searching for numpy==1.22.4\n",
            "Best match: numpy 1.22.4\n",
            "Adding numpy 1.22.4 to easy-install.pth file\n",
            "Installing f2py script to /usr/local/bin\n",
            "Installing f2py3 script to /usr/local/bin\n",
            "Installing f2py3.10 script to /usr/local/bin\n",
            "\n",
            "Using /usr/local/lib/python3.10/dist-packages\n",
            "Searching for snowballstemmer==2.2.0\n",
            "Best match: snowballstemmer 2.2.0\n",
            "Adding snowballstemmer 2.2.0 to easy-install.pth file\n",
            "\n",
            "Using /usr/local/lib/python3.10/dist-packages\n",
            "Searching for typing-extensions==4.5.0\n",
            "Best match: typing-extensions 4.5.0\n",
            "Adding typing-extensions 4.5.0 to easy-install.pth file\n",
            "\n",
            "Using /usr/local/lib/python3.10/dist-packages\n",
            "Searching for packaging==23.1\n",
            "Best match: packaging 23.1\n",
            "Adding packaging 23.1 to easy-install.pth file\n",
            "\n",
            "Using /usr/local/lib/python3.10/dist-packages\n",
            "Searching for pytz==2022.7.1\n",
            "Best match: pytz 2022.7.1\n",
            "Adding pytz 2022.7.1 to easy-install.pth file\n",
            "\n",
            "Using /usr/local/lib/python3.10/dist-packages\n",
            "Searching for python-dateutil==2.8.2\n",
            "Best match: python-dateutil 2.8.2\n",
            "Adding python-dateutil 2.8.2 to easy-install.pth file\n",
            "\n",
            "Using /usr/local/lib/python3.10/dist-packages\n",
            "Searching for Pillow==8.4.0\n",
            "Best match: Pillow 8.4.0\n",
            "Adding Pillow 8.4.0 to easy-install.pth file\n",
            "\n",
            "Using /usr/local/lib/python3.10/dist-packages\n",
            "Searching for kiwisolver==1.4.4\n",
            "Best match: kiwisolver 1.4.4\n",
            "Adding kiwisolver 1.4.4 to easy-install.pth file\n",
            "\n",
            "Using /usr/local/lib/python3.10/dist-packages\n",
            "Searching for fonttools==4.39.3\n",
            "Best match: fonttools 4.39.3\n",
            "Adding fonttools 4.39.3 to easy-install.pth file\n",
            "Installing fonttools script to /usr/local/bin\n",
            "Installing pyftmerge script to /usr/local/bin\n",
            "Installing pyftsubset script to /usr/local/bin\n",
            "Installing ttx script to /usr/local/bin\n",
            "\n",
            "Using /usr/local/lib/python3.10/dist-packages\n",
            "Searching for cycler==0.11.0\n",
            "Best match: cycler 0.11.0\n",
            "Adding cycler 0.11.0 to easy-install.pth file\n",
            "\n",
            "Using /usr/local/lib/python3.10/dist-packages\n",
            "Searching for contourpy==1.0.7\n",
            "Best match: contourpy 1.0.7\n",
            "Adding contourpy 1.0.7 to easy-install.pth file\n",
            "\n",
            "Using /usr/local/lib/python3.10/dist-packages\n",
            "Searching for threadpoolctl==3.1.0\n",
            "Best match: threadpoolctl 3.1.0\n",
            "Adding threadpoolctl 3.1.0 to easy-install.pth file\n",
            "\n",
            "Using /usr/local/lib/python3.10/dist-packages\n",
            "Searching for joblib==1.2.0\n",
            "Best match: joblib 1.2.0\n",
            "Adding joblib 1.2.0 to easy-install.pth file\n",
            "\n",
            "Using /usr/local/lib/python3.10/dist-packages\n",
            "Searching for psutil==5.9.5\n",
            "Best match: psutil 5.9.5\n",
            "Adding psutil 5.9.5 to easy-install.pth file\n",
            "\n",
            "Using /usr/local/lib/python3.10/dist-packages\n",
            "Searching for requests==2.27.1\n",
            "Best match: requests 2.27.1\n",
            "Adding requests 2.27.1 to easy-install.pth file\n",
            "\n",
            "Using /usr/local/lib/python3.10/dist-packages\n",
            "Searching for networkx==3.1\n",
            "Best match: networkx 3.1\n",
            "Adding networkx 3.1 to easy-install.pth file\n",
            "\n",
            "Using /usr/local/lib/python3.10/dist-packages\n",
            "Searching for triton==2.0.0\n",
            "Best match: triton 2.0.0\n",
            "Adding triton 2.0.0 to easy-install.pth file\n",
            "\n",
            "Using /usr/local/lib/python3.10/dist-packages\n",
            "Searching for Jinja2==3.1.2\n",
            "Best match: Jinja2 3.1.2\n",
            "Adding Jinja2 3.1.2 to easy-install.pth file\n",
            "\n",
            "Using /usr/local/lib/python3.10/dist-packages\n",
            "Searching for sympy==1.11.1\n",
            "Best match: sympy 1.11.1\n",
            "Adding sympy 1.11.1 to easy-install.pth file\n",
            "Installing isympy script to /usr/local/bin\n",
            "\n",
            "Using /usr/local/lib/python3.10/dist-packages\n",
            "Searching for filelock==3.12.0\n",
            "Best match: filelock 3.12.0\n",
            "Adding filelock 3.12.0 to easy-install.pth file\n",
            "\n",
            "Using /usr/local/lib/python3.10/dist-packages\n",
            "Searching for toolz==0.12.0\n",
            "Best match: toolz 0.12.0\n",
            "Adding toolz 0.12.0 to easy-install.pth file\n",
            "\n",
            "Using /usr/local/lib/python3.10/dist-packages\n",
            "Searching for six==1.16.0\n",
            "Best match: six 1.16.0\n",
            "Adding six 1.16.0 to easy-install.pth file\n",
            "\n",
            "Using /usr/local/lib/python3.10/dist-packages\n",
            "Searching for idna==3.4\n",
            "Best match: idna 3.4\n",
            "Adding idna 3.4 to easy-install.pth file\n",
            "\n",
            "Using /usr/local/lib/python3.10/dist-packages\n",
            "Searching for charset-normalizer==2.0.12\n",
            "Best match: charset-normalizer 2.0.12\n",
            "Adding charset-normalizer 2.0.12 to easy-install.pth file\n",
            "Installing normalizer script to /usr/local/bin\n",
            "\n",
            "Using /usr/local/lib/python3.10/dist-packages\n",
            "Searching for certifi==2022.12.7\n",
            "Best match: certifi 2022.12.7\n",
            "Adding certifi 2022.12.7 to easy-install.pth file\n",
            "\n",
            "Using /usr/local/lib/python3.10/dist-packages\n",
            "Searching for urllib3==1.26.15\n",
            "Best match: urllib3 1.26.15\n",
            "Adding urllib3 1.26.15 to easy-install.pth file\n",
            "\n",
            "Using /usr/local/lib/python3.10/dist-packages\n",
            "Searching for lit==16.0.2\n",
            "Best match: lit 16.0.2\n",
            "Adding lit 16.0.2 to easy-install.pth file\n",
            "Installing lit script to /usr/local/bin\n",
            "\n",
            "Using /usr/local/lib/python3.10/dist-packages\n",
            "Searching for cmake==3.25.2\n",
            "Best match: cmake 3.25.2\n",
            "Adding cmake 3.25.2 to easy-install.pth file\n",
            "Installing cmake script to /usr/local/bin\n",
            "Installing cpack script to /usr/local/bin\n",
            "Installing ctest script to /usr/local/bin\n",
            "\n",
            "Using /usr/local/lib/python3.10/dist-packages\n",
            "Searching for MarkupSafe==2.1.2\n",
            "Best match: MarkupSafe 2.1.2\n",
            "Adding MarkupSafe 2.1.2 to easy-install.pth file\n",
            "\n",
            "Using /usr/local/lib/python3.10/dist-packages\n",
            "Searching for mpmath==1.3.0\n",
            "Best match: mpmath 1.3.0\n",
            "Adding mpmath 1.3.0 to easy-install.pth file\n",
            "\n",
            "Using /usr/local/lib/python3.10/dist-packages\n",
            "Finished processing dependencies for alignn==2023.4.27\n"
          ]
        }
      ],
      "source": [
        "cwd=os.getcwd()\n",
        "os.chdir('alignn')\n",
        "!git checkout develop\n",
        "!python setup.py develop\n",
        "os.chdir(cwd)"
      ]
    },
    {
      "cell_type": "code",
      "source": [],
      "metadata": {
        "id": "g0z0JsWCEKKT"
      },
      "execution_count": null,
      "outputs": []
    },
    {
      "cell_type": "code",
      "source": [
        "from jarvis.db.figshare import data\n",
        "ff_db=data('alignn_ff_db')"
      ],
      "metadata": {
        "colab": {
          "base_uri": "https://localhost:8080/"
        },
        "id": "5oAeJsb4AIiI",
        "outputId": "3ff7b8de-e729-49a4-be27-6bc698a8f13b"
      },
      "execution_count": 1,
      "outputs": [
        {
          "output_type": "stream",
          "name": "stdout",
          "text": [
            "Obtaining ALIGNN-FF training DB 300k ...\n",
            "Reference:https://arxiv.org/abs/2209.05554\n"
          ]
        },
        {
          "output_type": "stream",
          "name": "stderr",
          "text": [
            "100%|██████████| 72.5M/72.5M [00:03<00:00, 21.4MiB/s]\n"
          ]
        },
        {
          "output_type": "stream",
          "name": "stdout",
          "text": [
            "Loading the zipfile...\n",
            "Loading completed.\n"
          ]
        }
      ]
    },
    {
      "cell_type": "code",
      "source": [
        "from alignn.ff.ff import default_path,ForceField\n",
        "from alignn.graphs import Graph\n",
        "import torch\n",
        "import os\n",
        "from jarvis.db.jsonutils import loadjson\n",
        "from alignn.models.alignn_atomwise import ALIGNNAtomWise,ALIGNNAtomWiseConfig\n",
        "torch.cuda.is_available = lambda : False\n",
        "from jarvis.core.atoms import Atoms\n",
        "from tqdm import tqdm\n",
        "import numpy as np\n",
        "from alignn.ff.ff import default_path,ForceField\n",
        "from jarvis.core.atoms import Atoms\n",
        "from alignn.ff.ff import AlignnAtomwiseCalculator,default_path\n",
        "from ase.stress import full_3x3_to_voigt_6_stress\n",
        "import torch\n",
        "\n",
        "\n",
        "model_path = default_path()\n",
        "calc = AlignnAtomwiseCalculator(path=model_path,force_mult_natoms=True)\n",
        "\n",
        "\n",
        "def get_alignn_forces(atoms=[]):\n",
        "    ase_atoms=atoms.ase_converter()\n",
        "    ase_atoms.calc = calc\n",
        "    e = ase_atoms.get_potential_energy()\n",
        "    f = ase_atoms.get_forces()\n",
        "    s = ase_atoms.get_stress()\n",
        "    return e,f,s\n",
        "\n",
        "torch.cuda.is_available = lambda : False\n",
        "mg=[]\n",
        "\n",
        "al_e=[]\n",
        "al_f=[]\n",
        "al_s=[]\n",
        "\n",
        "t_e=[]\n",
        "t_f=[]\n",
        "t_s=[]\n",
        "for ii,i in tqdm(enumerate(ff_db[:25])):\n",
        "    #if ii<10:\n",
        "        atoms = Atoms.from_dict(i['atoms'])\n",
        "        #mg_f = get_m3gnet_forces(atoms)\n",
        "        #mg.append(np.array(mg_f).flatten())\n",
        "        e,f,s = get_alignn_forces(atoms)\n",
        "        al_e.append(e)\n",
        "        t_e.append(i['total_energy']*atoms.num_atoms)\n",
        "        \n",
        "        al_f.append(np.array(f).flatten())\n",
        "        t_f.append(np.array(i['forces']).flatten())\n",
        "        ts=full_3x3_to_voigt_6_stress(i['stresses'])\n",
        "        al_s.append(np.array(s).flatten())\n",
        "        t_s.append(np.array(ts).flatten())\n",
        "        \n"
      ],
      "metadata": {
        "colab": {
          "base_uri": "https://localhost:8080/"
        },
        "id": "S5EQJL1PATBw",
        "outputId": "27d98aa8-6619-449b-ec91-54e1a3cd5f22"
      },
      "execution_count": 16,
      "outputs": [
        {
          "output_type": "stream",
          "name": "stdout",
          "text": [
            "model_path /content/alignn/alignn/ff\n"
          ]
        },
        {
          "output_type": "stream",
          "name": "stderr",
          "text": [
            "\r0it [00:00, ?it/s]/usr/local/lib/python3.10/dist-packages/dgl-1.0.1-py3.10-linux-x86_64.egg/dgl/backend/pytorch/tensor.py:445: UserWarning: TypedStorage is deprecated. It will be removed in the future and UntypedStorage will be the only storage class. This should only matter to you if you are using storages directly.  To access UntypedStorage directly, use tensor.untyped_storage() instead of tensor.storage()\n",
            "  assert input.numel() == input.storage().size(), (\n",
            "25it [00:37,  1.51s/it]\n"
          ]
        }
      ]
    },
    {
      "cell_type": "code",
      "source": [
        "%matplotlib inline\n",
        "import matplotlib.pyplot as plt\n",
        "plt.plot(np.concatenate(t_f).flatten(),np.concatenate(al_f).flatten(),'.')\n",
        "plt.xlabel('DFT Forces(eV/A)')\n",
        "plt.ylabel('FF Forces(eV/A)')"
      ],
      "metadata": {
        "colab": {
          "base_uri": "https://localhost:8080/",
          "height": 467
        },
        "id": "TBEc3qDzAls9",
        "outputId": "8857faea-ac9c-49fc-b6fe-0455c2ab910e"
      },
      "execution_count": 17,
      "outputs": [
        {
          "output_type": "execute_result",
          "data": {
            "text/plain": [
              "Text(0, 0.5, 'FF Forces(eV/A)')"
            ]
          },
          "metadata": {},
          "execution_count": 17
        },
        {
          "output_type": "display_data",
          "data": {
            "text/plain": [
              "<Figure size 640x480 with 1 Axes>"
            ],
            "image/png": "[encoded data removed]"
          },
          "metadata": {}
        }
      ]
    },
    {
      "cell_type": "code",
      "source": [
        "plt.plot(t_e,al_e,'.')\n",
        "plt.xlabel('DFT Energy(eV)')\n",
        "plt.ylabel('FF Energy(eV)')"
      ],
      "metadata": {
        "colab": {
          "base_uri": "https://localhost:8080/",
          "height": 467
        },
        "id": "KDSSJVjRAwPM",
        "outputId": "22811120-89a4-4093-aec6-2206c559bcc9"
      },
      "execution_count": 18,
      "outputs": [
        {
          "output_type": "execute_result",
          "data": {
            "text/plain": [
              "Text(0, 0.5, 'FF Energy(eV)')"
            ]
          },
          "metadata": {},
          "execution_count": 18
        },
        {
          "output_type": "display_data",
          "data": {
            "text/plain": [
              "<Figure size 640x480 with 1 Axes>"
            ],
            "image/png": "[encoded data removed]"
          },
          "metadata": {}
        }
      ]
    },
    {
      "cell_type": "code",
      "source": [
        "plt.plot(np.concatenate(t_s),-1600*np.concatenate(al_s),'.')\n",
        "plt.xlabel('DFT Stress(eV/A2)')\n",
        "plt.ylabel('FF Stress(eV/A2)')"
      ],
      "metadata": {
        "colab": {
          "base_uri": "https://localhost:8080/",
          "height": 467
        },
        "id": "JGYezBcTAz2q",
        "outputId": "ab89e906-64cd-49c3-90e3-eaaf4518f11e"
      },
      "execution_count": 19,
      "outputs": [
        {
          "output_type": "execute_result",
          "data": {
            "text/plain": [
              "Text(0, 0.5, 'FF Stress(eV/A2)')"
            ]
          },
          "metadata": {},
          "execution_count": 19
        },
        {
          "output_type": "display_data",
          "data": {
            "text/plain": [
              "<Figure size 640x480 with 1 Axes>"
            ],
            "image/png": "[encoded data removed]"
          },
          "metadata": {}
        }
      ]
    },
    {
      "cell_type": "code",
      "source": [
        "pip install m3gnet"
      ],
      "metadata": {
        "colab": {
          "base_uri": "https://localhost:8080/"
        },
        "id": "v2Vs6ijcA6Vw",
        "outputId": "0b9268d3-6a9b-45db-d43f-a61e9bd42343"
      },
      "execution_count": 10,
      "outputs": [
        {
          "output_type": "stream",
          "name": "stdout",
          "text": [
            "Looking in indexes: https://pypi.org/simple, https://us-python.pkg.dev/colab-wheels/public/simple/\n",
            "Collecting m3gnet\n",
            "  Downloading m3gnet-0.2.4-py3-none-any.whl (285 kB)\n",
            "\u001b[2K     \u001b[90m━━━━━━━━━━━━━━━━━━━━━━━━━━━━━━━━━━━━━━\u001b[0m \u001b[32m285.1/285.1 kB\u001b[0m \u001b[31m13.5 MB/s\u001b[0m eta \u001b[36m0:00:00\u001b[0m\n",
            "\u001b[?25hCollecting monty\n",
            "  Downloading monty-2023.4.10-py3-none-any.whl (67 kB)\n",
            "\u001b[2K     \u001b[90m━━━━━━━━━━━━━━━━━━━━━━━━━━━━━━━━━━━━━━━━\u001b[0m \u001b[32m67.0/67.0 kB\u001b[0m \u001b[31m5.7 MB/s\u001b[0m eta \u001b[36m0:00:00\u001b[0m\n",
            "\u001b[?25hCollecting pymatgen\n",
            "  Downloading pymatgen-2023.3.23-cp310-cp310-manylinux_2_17_x86_64.manylinux2014_x86_64.whl (12.4 MB)\n",
            "\u001b[2K     \u001b[90m━━━━━━━━━━━━━━━━━━━━━━━━━━━━━━━━━━━━━━━━\u001b[0m \u001b[32m12.4/12.4 MB\u001b[0m \u001b[31m45.2 MB/s\u001b[0m eta \u001b[36m0:00:00\u001b[0m\n",
            "\u001b[?25hRequirement already satisfied: sympy in /usr/local/lib/python3.10/dist-packages (from m3gnet) (1.11.1)\n",
            "Requirement already satisfied: numpy in /usr/local/lib/python3.10/dist-packages (from m3gnet) (1.22.4)\n",
            "Requirement already satisfied: ase in /usr/local/lib/python3.10/dist-packages/ase-3.22.1-py3.10.egg (from m3gnet) (3.22.1)\n",
            "Requirement already satisfied: tensorflow in /usr/local/lib/python3.10/dist-packages (from m3gnet) (2.12.0)\n",
            "Requirement already satisfied: matplotlib>=3.1.0 in /usr/local/lib/python3.10/dist-packages (from ase->m3gnet) (3.7.1)\n",
            "Requirement already satisfied: scipy>=1.1.0 in /usr/local/lib/python3.10/dist-packages (from ase->m3gnet) (1.10.1)\n",
            "Requirement already satisfied: tqdm in /usr/local/lib/python3.10/dist-packages (from pymatgen->m3gnet) (4.65.0)\n",
            "Collecting pybtex\n",
            "  Downloading pybtex-0.24.0-py2.py3-none-any.whl (561 kB)\n",
            "\u001b[2K     \u001b[90m━━━━━━━━━━━━━━━━━━━━━━━━━━━━━━━━━━━━━━\u001b[0m \u001b[32m561.4/561.4 kB\u001b[0m \u001b[31m47.8 MB/s\u001b[0m eta \u001b[36m0:00:00\u001b[0m\n",
            "\u001b[?25hCollecting ruamel.yaml>=0.17.0\n",
            "  Downloading ruamel.yaml-0.17.21-py3-none-any.whl (109 kB)\n",
            "\u001b[2K     \u001b[90m━━━━━━━━━━━━━━━━━━━━━━━━━━━━━━━━━━━━━━\u001b[0m \u001b[32m109.5/109.5 kB\u001b[0m \u001b[31m14.7 MB/s\u001b[0m eta \u001b[36m0:00:00\u001b[0m\n",
            "\u001b[?25hRequirement already satisfied: palettable>=3.1.1 in /usr/local/lib/python3.10/dist-packages (from pymatgen->m3gnet) (3.3.3)\n",
            "Requirement already satisfied: requests in /usr/local/lib/python3.10/dist-packages (from pymatgen->m3gnet) (2.27.1)\n",
            "Requirement already satisfied: plotly>=4.5.0 in /usr/local/lib/python3.10/dist-packages (from pymatgen->m3gnet) (5.13.1)\n",
            "Requirement already satisfied: networkx>=2.2 in /usr/local/lib/python3.10/dist-packages (from pymatgen->m3gnet) (3.1)\n",
            "Requirement already satisfied: spglib>=2.0.2 in /usr/local/lib/python3.10/dist-packages/spglib-2.0.2-py3.10-linux-x86_64.egg (from pymatgen->m3gnet) (2.0.2)\n",
            "Requirement already satisfied: tabulate in /usr/local/lib/python3.10/dist-packages (from pymatgen->m3gnet) (0.8.10)\n",
            "Collecting uncertainties>=3.1.4\n",
            "  Downloading uncertainties-3.1.7-py2.py3-none-any.whl (98 kB)\n",
            "\u001b[2K     \u001b[90m━━━━━━━━━━━━━━━━━━━━━━━━━━━━━━━━━━━━━━━━\u001b[0m \u001b[32m98.4/98.4 kB\u001b[0m \u001b[31m14.2 MB/s\u001b[0m eta \u001b[36m0:00:00\u001b[0m\n",
            "\u001b[?25hRequirement already satisfied: pandas in /usr/local/lib/python3.10/dist-packages (from pymatgen->m3gnet) (1.5.3)\n",
            "Collecting mp-api>=0.27.3\n",
            "  Downloading mp_api-0.32.1-py3-none-any.whl (74 kB)\n",
            "\u001b[2K     \u001b[90m━━━━━━━━━━━━━━━━━━━━━━━━━━━━━━━━━━━━━━━━\u001b[0m \u001b[32m74.6/74.6 kB\u001b[0m \u001b[31m8.7 MB/s\u001b[0m eta \u001b[36m0:00:00\u001b[0m\n",
            "\u001b[?25hRequirement already satisfied: mpmath>=0.19 in /usr/local/lib/python3.10/dist-packages (from sympy->m3gnet) (1.3.0)\n",
            "Requirement already satisfied: setuptools in /usr/local/lib/python3.10/dist-packages (from tensorflow->m3gnet) (67.7.2)\n",
            "Requirement already satisfied: absl-py>=1.0.0 in /usr/local/lib/python3.10/dist-packages (from tensorflow->m3gnet) (1.4.0)\n",
            "Requirement already satisfied: tensorflow-io-gcs-filesystem>=0.23.1 in /usr/local/lib/python3.10/dist-packages (from tensorflow->m3gnet) (0.32.0)\n",
            "Requirement already satisfied: h5py>=2.9.0 in /usr/local/lib/python3.10/dist-packages (from tensorflow->m3gnet) (3.8.0)\n",
            "Requirement already satisfied: protobuf!=4.21.0,!=4.21.1,!=4.21.2,!=4.21.3,!=4.21.4,!=4.21.5,<5.0.0dev,>=3.20.3 in /usr/local/lib/python3.10/dist-packages (from tensorflow->m3gnet) (3.20.3)\n",
            "Requirement already satisfied: grpcio<2.0,>=1.24.3 in /usr/local/lib/python3.10/dist-packages (from tensorflow->m3gnet) (1.54.0)\n",
            "Requirement already satisfied: wrapt<1.15,>=1.11.0 in /usr/local/lib/python3.10/dist-packages (from tensorflow->m3gnet) (1.14.1)\n",
            "Requirement already satisfied: tensorflow-estimator<2.13,>=2.12.0 in /usr/local/lib/python3.10/dist-packages (from tensorflow->m3gnet) (2.12.0)\n",
            "Requirement already satisfied: termcolor>=1.1.0 in /usr/local/lib/python3.10/dist-packages (from tensorflow->m3gnet) (2.3.0)\n",
            "Requirement already satisfied: typing-extensions>=3.6.6 in /usr/local/lib/python3.10/dist-packages (from tensorflow->m3gnet) (4.5.0)\n",
            "Requirement already satisfied: six>=1.12.0 in /usr/local/lib/python3.10/dist-packages (from tensorflow->m3gnet) (1.16.0)\n",
            "Requirement already satisfied: tensorboard<2.13,>=2.12 in /usr/local/lib/python3.10/dist-packages (from tensorflow->m3gnet) (2.12.2)\n",
            "Requirement already satisfied: astunparse>=1.6.0 in /usr/local/lib/python3.10/dist-packages (from tensorflow->m3gnet) (1.6.3)\n",
            "Requirement already satisfied: jax>=0.3.15 in /usr/local/lib/python3.10/dist-packages (from tensorflow->m3gnet) (0.4.8)\n",
            "Requirement already satisfied: libclang>=13.0.0 in /usr/local/lib/python3.10/dist-packages (from tensorflow->m3gnet) (16.0.0)\n",
            "Requirement already satisfied: flatbuffers>=2.0 in /usr/local/lib/python3.10/dist-packages (from tensorflow->m3gnet) (23.3.3)\n",
            "Requirement already satisfied: packaging in /usr/local/lib/python3.10/dist-packages (from tensorflow->m3gnet) (23.1)\n",
            "Requirement already satisfied: gast<=0.4.0,>=0.2.1 in /usr/local/lib/python3.10/dist-packages (from tensorflow->m3gnet) (0.4.0)\n",
            "Requirement already satisfied: google-pasta>=0.1.1 in /usr/local/lib/python3.10/dist-packages (from tensorflow->m3gnet) (0.2.0)\n",
            "Requirement already satisfied: opt-einsum>=2.3.2 in /usr/local/lib/python3.10/dist-packages (from tensorflow->m3gnet) (3.3.0)\n",
            "Requirement already satisfied: keras<2.13,>=2.12.0 in /usr/local/lib/python3.10/dist-packages (from tensorflow->m3gnet) (2.12.0)\n",
            "Requirement already satisfied: wheel<1.0,>=0.23.0 in /usr/local/lib/python3.10/dist-packages (from astunparse>=1.6.0->tensorflow->m3gnet) (0.40.0)\n",
            "Requirement already satisfied: ml-dtypes>=0.0.3 in /usr/local/lib/python3.10/dist-packages (from jax>=0.3.15->tensorflow->m3gnet) (0.1.0)\n",
            "Requirement already satisfied: pillow>=6.2.0 in /usr/local/lib/python3.10/dist-packages (from matplotlib>=3.1.0->ase->m3gnet) (8.4.0)\n",
            "Requirement already satisfied: contourpy>=1.0.1 in /usr/local/lib/python3.10/dist-packages (from matplotlib>=3.1.0->ase->m3gnet) (1.0.7)\n",
            "Requirement already satisfied: pyparsing>=2.3.1 in /usr/local/lib/python3.10/dist-packages (from matplotlib>=3.1.0->ase->m3gnet) (3.0.9)\n",
            "Requirement already satisfied: python-dateutil>=2.7 in /usr/local/lib/python3.10/dist-packages (from matplotlib>=3.1.0->ase->m3gnet) (2.8.2)\n",
            "Requirement already satisfied: cycler>=0.10 in /usr/local/lib/python3.10/dist-packages (from matplotlib>=3.1.0->ase->m3gnet) (0.11.0)\n",
            "Requirement already satisfied: fonttools>=4.22.0 in /usr/local/lib/python3.10/dist-packages (from matplotlib>=3.1.0->ase->m3gnet) (4.39.3)\n",
            "Requirement already satisfied: kiwisolver>=1.0.1 in /usr/local/lib/python3.10/dist-packages (from matplotlib>=3.1.0->ase->m3gnet) (1.4.4)\n",
            "Collecting emmet-core<=0.50.0\n",
            "  Downloading emmet_core-0.50.0-py3-none-any.whl (137 kB)\n",
            "\u001b[2K     \u001b[90m━━━━━━━━━━━━━━━━━━━━━━━━━━━━━━━━━━━━━━\u001b[0m \u001b[32m137.5/137.5 kB\u001b[0m \u001b[31m17.7 MB/s\u001b[0m eta \u001b[36m0:00:00\u001b[0m\n",
            "\u001b[?25hRequirement already satisfied: msgpack in /usr/local/lib/python3.10/dist-packages (from mp-api>=0.27.3->pymatgen->m3gnet) (1.0.5)\n",
            "Requirement already satisfied: tenacity>=6.2.0 in /usr/local/lib/python3.10/dist-packages (from plotly>=4.5.0->pymatgen->m3gnet) (8.2.2)\n",
            "Requirement already satisfied: certifi>=2017.4.17 in /usr/local/lib/python3.10/dist-packages (from requests->pymatgen->m3gnet) (2022.12.7)\n",
            "Requirement already satisfied: urllib3<1.27,>=1.21.1 in /usr/local/lib/python3.10/dist-packages (from requests->pymatgen->m3gnet) (1.26.15)\n",
            "Requirement already satisfied: charset-normalizer~=2.0.0 in /usr/local/lib/python3.10/dist-packages (from requests->pymatgen->m3gnet) (2.0.12)\n",
            "Requirement already satisfied: idna<4,>=2.5 in /usr/local/lib/python3.10/dist-packages (from requests->pymatgen->m3gnet) (3.4)\n",
            "Collecting ruamel.yaml.clib>=0.2.6\n",
            "  Downloading ruamel.yaml.clib-0.2.7-cp310-cp310-manylinux_2_17_x86_64.manylinux2014_x86_64.manylinux_2_24_x86_64.whl (485 kB)\n",
            "\u001b[2K     \u001b[90m━━━━━━━━━━━━━━━━━━━━━━━━━━━━━━━━━━━━━━\u001b[0m \u001b[32m485.6/485.6 kB\u001b[0m \u001b[31m36.7 MB/s\u001b[0m eta \u001b[36m0:00:00\u001b[0m\n",
            "\u001b[?25hRequirement already satisfied: werkzeug>=1.0.1 in /usr/local/lib/python3.10/dist-packages (from tensorboard<2.13,>=2.12->tensorflow->m3gnet) (2.3.0)\n",
            "Requirement already satisfied: google-auth<3,>=1.6.3 in /usr/local/lib/python3.10/dist-packages (from tensorboard<2.13,>=2.12->tensorflow->m3gnet) (2.17.3)\n",
            "Requirement already satisfied: tensorboard-plugin-wit>=1.6.0 in /usr/local/lib/python3.10/dist-packages (from tensorboard<2.13,>=2.12->tensorflow->m3gnet) (1.8.1)\n",
            "Requirement already satisfied: tensorboard-data-server<0.8.0,>=0.7.0 in /usr/local/lib/python3.10/dist-packages (from tensorboard<2.13,>=2.12->tensorflow->m3gnet) (0.7.0)\n",
            "Requirement already satisfied: google-auth-oauthlib<1.1,>=0.5 in /usr/local/lib/python3.10/dist-packages (from tensorboard<2.13,>=2.12->tensorflow->m3gnet) (1.0.0)\n",
            "Requirement already satisfied: markdown>=2.6.8 in /usr/local/lib/python3.10/dist-packages (from tensorboard<2.13,>=2.12->tensorflow->m3gnet) (3.4.3)\n",
            "Requirement already satisfied: future in /usr/local/lib/python3.10/dist-packages (from uncertainties>=3.1.4->pymatgen->m3gnet) (0.18.3)\n",
            "Requirement already satisfied: pytz>=2020.1 in /usr/local/lib/python3.10/dist-packages (from pandas->pymatgen->m3gnet) (2022.7.1)\n",
            "Collecting latexcodec>=1.0.4\n",
            "  Downloading latexcodec-2.0.1-py2.py3-none-any.whl (18 kB)\n",
            "Requirement already satisfied: PyYAML>=3.01 in /usr/local/lib/python3.10/dist-packages (from pybtex->pymatgen->m3gnet) (6.0)\n",
            "Requirement already satisfied: pydantic>=1.10.2 in /usr/local/lib/python3.10/dist-packages (from emmet-core<=0.50.0->mp-api>=0.27.3->pymatgen->m3gnet) (1.10.7)\n",
            "Requirement already satisfied: rsa<5,>=3.1.4 in /usr/local/lib/python3.10/dist-packages (from google-auth<3,>=1.6.3->tensorboard<2.13,>=2.12->tensorflow->m3gnet) (4.9)\n",
            "Requirement already satisfied: pyasn1-modules>=0.2.1 in /usr/local/lib/python3.10/dist-packages (from google-auth<3,>=1.6.3->tensorboard<2.13,>=2.12->tensorflow->m3gnet) (0.3.0)\n",
            "Requirement already satisfied: cachetools<6.0,>=2.0.0 in /usr/local/lib/python3.10/dist-packages (from google-auth<3,>=1.6.3->tensorboard<2.13,>=2.12->tensorflow->m3gnet) (5.3.0)\n",
            "Requirement already satisfied: requests-oauthlib>=0.7.0 in /usr/local/lib/python3.10/dist-packages (from google-auth-oauthlib<1.1,>=0.5->tensorboard<2.13,>=2.12->tensorflow->m3gnet) (1.3.1)\n",
            "Requirement already satisfied: MarkupSafe>=2.1.1 in /usr/local/lib/python3.10/dist-packages (from werkzeug>=1.0.1->tensorboard<2.13,>=2.12->tensorflow->m3gnet) (2.1.2)\n",
            "Requirement already satisfied: pyasn1<0.6.0,>=0.4.6 in /usr/local/lib/python3.10/dist-packages (from pyasn1-modules>=0.2.1->google-auth<3,>=1.6.3->tensorboard<2.13,>=2.12->tensorflow->m3gnet) (0.5.0)\n",
            "Requirement already satisfied: oauthlib>=3.0.0 in /usr/local/lib/python3.10/dist-packages (from requests-oauthlib>=0.7.0->google-auth-oauthlib<1.1,>=0.5->tensorboard<2.13,>=2.12->tensorflow->m3gnet) (3.2.2)\n",
            "Installing collected packages: uncertainties, ruamel.yaml.clib, monty, latexcodec, ruamel.yaml, pybtex, emmet-core, mp-api, pymatgen, m3gnet\n",
            "Successfully installed emmet-core-0.50.0 latexcodec-2.0.1 m3gnet-0.2.4 monty-2023.4.10 mp-api-0.32.1 pybtex-0.24.0 pymatgen-2023.3.23 ruamel.yaml-0.17.21 ruamel.yaml.clib-0.2.7 uncertainties-3.1.7\n"
          ]
        }
      ]
    },
    {
      "cell_type": "code",
      "source": [
        "from m3gnet.models import M3GNet, M3GNetCalculator, Potential\n",
        "potential = Potential(M3GNet.load())\n",
        "calculator = M3GNetCalculator(potential=potential, stress_weight=0.01)"
      ],
      "metadata": {
        "id": "qjuM7fo8EPcw"
      },
      "execution_count": 11,
      "outputs": []
    },
    {
      "cell_type": "code",
      "source": [
        "from alignn.ff.ff import default_path,ForceField\n",
        "from alignn.graphs import Graph\n",
        "import torch\n",
        "import os\n",
        "from jarvis.db.jsonutils import loadjson\n",
        "from alignn.models.alignn_atomwise import ALIGNNAtomWise,ALIGNNAtomWiseConfig\n",
        "torch.cuda.is_available = lambda : False\n",
        "from jarvis.core.atoms import Atoms\n",
        "from tqdm import tqdm\n",
        "import numpy as np\n",
        "from alignn.ff.ff import default_path,ForceField\n",
        "from jarvis.core.atoms import Atoms\n",
        "from alignn.ff.ff import AlignnAtomwiseCalculator,default_path\n",
        "from ase.stress import full_3x3_to_voigt_6_stress\n",
        "import torch\n",
        "\n",
        "\n",
        "model_path = default_path()\n",
        "calc = AlignnAtomwiseCalculator(path=model_path)\n",
        "\n",
        "\n",
        "def get_alignn_forces(atoms=[]):\n",
        "    ase_atoms=atoms.ase_converter()\n",
        "    ase_atoms.calc = calculator #calc\n",
        "    e = ase_atoms.get_potential_energy()\n",
        "    f = ase_atoms.get_forces()\n",
        "    s = ase_atoms.get_stress()\n",
        "    return e,f,s\n",
        "\n",
        "torch.cuda.is_available = lambda : False\n",
        "mg=[]\n",
        "\n",
        "al_e=[]\n",
        "al_f=[]\n",
        "al_s=[]\n",
        "\n",
        "t_e=[]\n",
        "t_f=[]\n",
        "t_s=[]\n",
        "for ii,i in tqdm(enumerate(ff_db[:25])):\n",
        "    #if ii<10:\n",
        "        atoms = Atoms.from_dict(i['atoms'])\n",
        "        #mg_f = get_m3gnet_forces(atoms)\n",
        "        #mg.append(np.array(mg_f).flatten())\n",
        "        e,f,s = get_alignn_forces(atoms)\n",
        "        al_e.append(e)\n",
        "        t_e.append(i['total_energy']*atoms.num_atoms)\n",
        "        \n",
        "        al_f.append(np.array(f).flatten())\n",
        "        t_f.append(np.array(i['forces']).flatten())\n",
        "        ts=full_3x3_to_voigt_6_stress(i['stresses'])\n",
        "        al_s.append(np.array(s).flatten())\n",
        "        t_s.append(np.array(ts).flatten())\n",
        "        \n"
      ],
      "metadata": {
        "colab": {
          "base_uri": "https://localhost:8080/"
        },
        "id": "U9DqCIuDEfBT",
        "outputId": "a60f3f7f-4198-4ad8-d75f-8c8218f98c66"
      },
      "execution_count": 12,
      "outputs": [
        {
          "output_type": "stream",
          "name": "stdout",
          "text": [
            "model_path /content/alignn/alignn/ff\n"
          ]
        },
        {
          "output_type": "stream",
          "name": "stderr",
          "text": [
            "\r0it [00:00, ?it/s]WARNING:tensorflow:You are casting an input of type complex64 to an incompatible dtype float32.  This will discard the imaginary part and may not be what you intended.\n",
            "WARNING:tensorflow:You are casting an input of type complex64 to an incompatible dtype float32.  This will discard the imaginary part and may not be what you intended.\n",
            "WARNING:tensorflow:You are casting an input of type complex64 to an incompatible dtype float32.  This will discard the imaginary part and may not be what you intended.\n",
            "1it [00:16, 16.82s/it]WARNING:tensorflow:You are casting an input of type complex64 to an incompatible dtype float32.  This will discard the imaginary part and may not be what you intended.\n",
            "WARNING:tensorflow:You are casting an input of type complex64 to an incompatible dtype float32.  This will discard the imaginary part and may not be what you intended.\n",
            "5it [00:23,  3.84s/it]WARNING:tensorflow:You are casting an input of type complex64 to an incompatible dtype float32.  This will discard the imaginary part and may not be what you intended.\n",
            "WARNING:tensorflow:You are casting an input of type complex64 to an incompatible dtype float32.  This will discard the imaginary part and may not be what you intended.\n",
            "10it [00:33,  2.49s/it]WARNING:tensorflow:You are casting an input of type complex64 to an incompatible dtype float32.  This will discard the imaginary part and may not be what you intended.\n",
            "WARNING:tensorflow:You are casting an input of type complex64 to an incompatible dtype float32.  This will discard the imaginary part and may not be what you intended.\n",
            "25it [00:40,  1.63s/it]\n"
          ]
        }
      ]
    },
    {
      "cell_type": "code",
      "source": [
        "%matplotlib inline\n",
        "import matplotlib.pyplot as plt\n",
        "plt.plot(np.concatenate(t_f).flatten(),np.concatenate(al_f).flatten(),'.')\n",
        "plt.xlabel('DFT Forces(eV/A)')\n",
        "plt.ylabel('FF Forces(eV/A)')"
      ],
      "metadata": {
        "colab": {
          "base_uri": "https://localhost:8080/",
          "height": 467
        },
        "id": "tJwblLOaElnK",
        "outputId": "8ff1adad-36f4-4b70-f804-22d2ee43acb0"
      },
      "execution_count": 13,
      "outputs": [
        {
          "output_type": "execute_result",
          "data": {
            "text/plain": [
              "Text(0, 0.5, 'FF Forces(eV/A)')"
            ]
          },
          "metadata": {},
          "execution_count": 13
        },
        {
          "output_type": "display_data",
          "data": {
            "text/plain": [
              "<Figure size 640x480 with 1 Axes>"
            ],
            "image/png": "[encoded data removed]"
          },
          "metadata": {}
        }
      ]
    },
    {
      "cell_type": "code",
      "source": [
        "plt.plot(t_e,al_e,'.')\n",
        "plt.xlabel('DFT Energy(eV)')\n",
        "plt.ylabel('FF Energy(eV)')"
      ],
      "metadata": {
        "colab": {
          "base_uri": "https://localhost:8080/",
          "height": 467
        },
        "id": "Tyd5yB0DEwv-",
        "outputId": "28a36c6c-8fee-417e-aae8-3db82f568d41"
      },
      "execution_count": 14,
      "outputs": [
        {
          "output_type": "execute_result",
          "data": {
            "text/plain": [
              "Text(0, 0.5, 'FF Energy(eV)')"
            ]
          },
          "metadata": {},
          "execution_count": 14
        },
        {
          "output_type": "display_data",
          "data": {
            "text/plain": [
              "<Figure size 640x480 with 1 Axes>"
            ],
            "image/png": "[encoded data removed]"
          },
          "metadata": {}
        }
      ]
    },
    {
      "cell_type": "code",
      "source": [
        "plt.plot(np.concatenate(t_s),-1600*np.concatenate(al_s),'.')\n",
        "plt.xlabel('DFT Stress(eV/A2)')\n",
        "plt.ylabel('FF Stress(eV/A2)')"
      ],
      "metadata": {
        "colab": {
          "base_uri": "https://localhost:8080/",
          "height": 467
        },
        "id": "KYffAYg5E1_u",
        "outputId": "482d50dd-78db-4dc2-cac6-0457b4723651"
      },
      "execution_count": 15,
      "outputs": [
        {
          "output_type": "execute_result",
          "data": {
            "text/plain": [
              "Text(0, 0.5, 'FF Stress(eV/A2)')"
            ]
          },
          "metadata": {},
          "execution_count": 15
        },
        {
          "output_type": "display_data",
          "data": {
            "text/plain": [
              "<Figure size 640x480 with 1 Axes>"
            ],
            "image/png": "[encoded data removed]"
          },
          "metadata": {}
        }
      ]
    },
    {
      "cell_type": "code",
      "source": [],
      "metadata": {
        "id": "GcwhzXgmE-eP"
      },
      "execution_count": null,
      "outputs": []
    }
  ]
}