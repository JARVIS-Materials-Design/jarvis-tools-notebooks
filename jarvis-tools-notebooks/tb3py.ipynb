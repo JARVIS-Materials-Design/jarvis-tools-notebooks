{
  "nbformat": 4,
  "nbformat_minor": 0,
  "metadata": {
    "colab": {
      "provenance": [],
      "include_colab_link": true
    },
    "kernelspec": {
      "display_name": "Julia",
      "language": "julia",
      "name": "julia"
    },
    "language_info": {
      "file_extension": ".jl",
      "mimetype": "application/julia",
      "name": "julia"
    },
    "gpuClass": "standard"
  },
  "cells": [
    {
      "cell_type": "markdown",
      "metadata": {
        "id": "view-in-github",
        "colab_type": "text"
      },
      "source": [
        "<a href=\"https://colab.research.google.com/github/knc6/jarvis-tools-notebooks/blob/master/jarvis-tools-notebooks/tb3py.ipynb\" target=\"_parent\"><img src=\"https://colab.research.google.com/assets/colab-badge.svg\" alt=\"Open In Colab\"/></a>"
      ]
    },
    {
      "cell_type": "markdown",
      "source": [
        "Example of using TB3Py https://github.com/usnistgov/tb3py/ and get wannier90_hr.dat file."
      ],
      "metadata": {
        "id": "XNx0xoLoeZyG"
      }
    },
    {
      "cell_type": "code",
      "source": [
        "!pip install -q condacolab\n",
        "import condacolab\n",
        "condacolab.install()"
      ],
      "metadata": {
        "id": "Sm83y9I9jdpE",
        "outputId": "7bcd4b0d-82b7-4fc7-d5a1-955425ec4c17",
        "colab": {
          "base_uri": "https://localhost:8080/"
        }
      },
      "execution_count": 1,
      "outputs": [
        {
          "output_type": "stream",
          "name": "stdout",
          "text": [
            "⏬ Downloading https://github.com/conda-forge/miniforge/releases/download/23.11.0-0/Mambaforge-23.11.0-0-Linux-x86_64.sh...\n",
            "📦 Installing...\n",
            "📌 Adjusting configuration...\n",
            "🩹 Patching environment...\n",
            "⏲ Done in 0:00:16\n",
            "🔁 Restarting kernel...\n"
          ]
        }
      ]
    },
    {
      "cell_type": "code",
      "source": [
        "%%time\n",
        "!conda install conda-forge::julia -y --quiet"
      ],
      "metadata": {
        "id": "OQ9I2SREj6mw",
        "outputId": "f9d98ccb-6b08-4076-c234-7bcb7ca64126",
        "colab": {
          "base_uri": "https://localhost:8080/"
        }
      },
      "execution_count": 1,
      "outputs": [
        {
          "output_type": "stream",
          "name": "stdout",
          "text": [
            "Channels:\n",
            " - conda-forge\n",
            "Platform: linux-64\n",
            "Collecting package metadata (repodata.json): ...working... done\n",
            "Solving environment: ...working... done\n",
            "\n",
            "## Package Plan ##\n",
            "\n",
            "  environment location: /usr/local\n",
            "\n",
            "  added / updated specs:\n",
            "    - conda-forge::julia\n",
            "\n",
            "\n",
            "The following packages will be downloaded:\n",
            "\n",
            "    package                    |            build\n",
            "    ---------------------------|-----------------\n",
            "    arpack-3.9.1               |nompi_h77f6705_101         127 KB  conda-forge\n",
            "    ca-certificates-2024.8.30  |       hbcca054_0         155 KB  conda-forge\n",
            "    certifi-2024.8.30          |     pyhd8ed1ab_0         160 KB  conda-forge\n",
            "    curl-8.5.0                 |       hca28451_0          93 KB  conda-forge\n",
            "    gettext-0.22.5             |       he02047a_3         468 KB  conda-forge\n",
            "    gettext-tools-0.22.5       |       he02047a_3         2.6 MB  conda-forge\n",
            "    git-2.45.0                 | pl5321hd39f443_0         9.8 MB  conda-forge\n",
            "    gmp-6.3.0                  |       hac33072_2         449 KB  conda-forge\n",
            "    julia-1.10.3               |       h78b6aeb_1       101.6 MB  conda-forge\n",
            "    libasprintf-0.22.5         |       he8f35ee_3          42 KB  conda-forge\n",
            "    libasprintf-devel-0.22.5   |       he8f35ee_3          33 KB  conda-forge\n",
            "    libblas-3.9.0              |24_linux64_openblas          15 KB  conda-forge\n",
            "    libcblas-3.9.0             |24_linux64_openblas          15 KB  conda-forge\n",
            "    libexpat-2.6.3             |       h5888daf_0          72 KB  conda-forge\n",
            "    libgcc-14.1.0              |       h77fa898_1         827 KB  conda-forge\n",
            "    libgcc-ng-14.1.0           |       h69a702a_1          51 KB  conda-forge\n",
            "    libgettextpo-0.22.5        |       he02047a_3         167 KB  conda-forge\n",
            "    libgettextpo-devel-0.22.5  |       he02047a_3          36 KB  conda-forge\n",
            "    libgfortran-14.1.0         |       h69a702a_1          51 KB  conda-forge\n",
            "    libgfortran-ng-14.1.0      |       h69a702a_1          51 KB  conda-forge\n",
            "    libgfortran5-14.1.0        |       hc5f4f2c_1         1.4 MB  conda-forge\n",
            "    libgit2-1.8.1              |       ha5f426f_0         859 KB  conda-forge\n",
            "    libgomp-14.1.0             |       h77fa898_1         449 KB  conda-forge\n",
            "    libhwloc-2.11.1            |default_hecaa2ac_1000         2.3 MB  conda-forge\n",
            "    liblapack-3.9.0            |24_linux64_openblas          15 KB  conda-forge\n",
            "    libopenblas-0.3.27         |pthreads_hac2b453_1         5.3 MB  conda-forge\n",
            "    libopenblas-ilp64-0.3.28   |pthreads_h3e26593_0         5.2 MB  conda-forge\n",
            "    libopenlibm4-0.8.1         |       hd590300_1         102 KB  conda-forge\n",
            "    libstdcxx-14.1.0           |       hc0a3c3a_1         3.7 MB  conda-forge\n",
            "    libunwind-1.6.2            |       h9c3ff4c_0          74 KB  conda-forge\n",
            "    libutf8proc-2.8.0          |       h166bdaf_0          99 KB  conda-forge\n",
            "    libxcrypt-4.4.36           |       hd590300_1          98 KB  conda-forge\n",
            "    libxml2-2.12.7             |       hc051c1a_1         688 KB  conda-forge\n",
            "    mbedtls-3.5.1              |       h59595ed_0         845 KB  conda-forge\n",
            "    metis-5.1.0                |    h59595ed_1007         3.7 MB  conda-forge\n",
            "    mpfr-4.2.1                 |       h90cbb55_3         620 KB  conda-forge\n",
            "    openblas-ilp64-0.3.28      |pthreads_h3d04fff_0         5.4 MB  conda-forge\n",
            "    openlibm-0.8.1             |       hd590300_1          29 KB  conda-forge\n",
            "    openssl-3.3.2              |       hb9d3cd8_0         2.8 MB  conda-forge\n",
            "    p7zip-16.02                |    h9c3ff4c_1001         2.2 MB  conda-forge\n",
            "    pcre2-10.43                |       hcad00b1_0         929 KB  conda-forge\n",
            "    perl-5.32.1                | 7_hd590300_perl5        12.7 MB  conda-forge\n",
            "    suitesparse-7.8.2          |       hb42a789_0         1.8 MB  conda-forge\n",
            "    tbb-2021.13.0              |       h84d6215_0         172 KB  conda-forge\n",
            "    zlib-1.2.13                |       hd590300_5          91 KB  conda-forge\n",
            "    ------------------------------------------------------------\n",
            "                                           Total:       168.1 MB\n",
            "\n",
            "The following NEW packages will be INSTALLED:\n",
            "\n",
            "  arpack             conda-forge/linux-64::arpack-3.9.1-nompi_h77f6705_101 \n",
            "  curl               conda-forge/linux-64::curl-8.5.0-hca28451_0 \n",
            "  gettext            conda-forge/linux-64::gettext-0.22.5-he02047a_3 \n",
            "  gettext-tools      conda-forge/linux-64::gettext-tools-0.22.5-he02047a_3 \n",
            "  git                conda-forge/linux-64::git-2.45.0-pl5321hd39f443_0 \n",
            "  gmp                conda-forge/linux-64::gmp-6.3.0-hac33072_2 \n",
            "  julia              conda-forge/linux-64::julia-1.10.3-h78b6aeb_1 \n",
            "  libasprintf        conda-forge/linux-64::libasprintf-0.22.5-he8f35ee_3 \n",
            "  libasprintf-devel  conda-forge/linux-64::libasprintf-devel-0.22.5-he8f35ee_3 \n",
            "  libblas            conda-forge/linux-64::libblas-3.9.0-24_linux64_openblas \n",
            "  libcblas           conda-forge/linux-64::libcblas-3.9.0-24_linux64_openblas \n",
            "  libexpat           conda-forge/linux-64::libexpat-2.6.3-h5888daf_0 \n",
            "  libgcc             conda-forge/linux-64::libgcc-14.1.0-h77fa898_1 \n",
            "  libgettextpo       conda-forge/linux-64::libgettextpo-0.22.5-he02047a_3 \n",
            "  libgettextpo-devel conda-forge/linux-64::libgettextpo-devel-0.22.5-he02047a_3 \n",
            "  libgfortran        conda-forge/linux-64::libgfortran-14.1.0-h69a702a_1 \n",
            "  libgfortran-ng     conda-forge/linux-64::libgfortran-ng-14.1.0-h69a702a_1 \n",
            "  libgfortran5       conda-forge/linux-64::libgfortran5-14.1.0-hc5f4f2c_1 \n",
            "  libgit2            conda-forge/linux-64::libgit2-1.8.1-ha5f426f_0 \n",
            "  libhwloc           conda-forge/linux-64::libhwloc-2.11.1-default_hecaa2ac_1000 \n",
            "  liblapack          conda-forge/linux-64::liblapack-3.9.0-24_linux64_openblas \n",
            "  libopenblas        conda-forge/linux-64::libopenblas-0.3.27-pthreads_hac2b453_1 \n",
            "  libopenblas-ilp64  conda-forge/linux-64::libopenblas-ilp64-0.3.28-pthreads_h3e26593_0 \n",
            "  libopenlibm4       conda-forge/linux-64::libopenlibm4-0.8.1-hd590300_1 \n",
            "  libstdcxx          conda-forge/linux-64::libstdcxx-14.1.0-hc0a3c3a_1 \n",
            "  libunwind          conda-forge/linux-64::libunwind-1.6.2-h9c3ff4c_0 \n",
            "  libutf8proc        conda-forge/linux-64::libutf8proc-2.8.0-h166bdaf_0 \n",
            "  libxcrypt          conda-forge/linux-64::libxcrypt-4.4.36-hd590300_1 \n",
            "  mbedtls            conda-forge/linux-64::mbedtls-3.5.1-h59595ed_0 \n",
            "  metis              conda-forge/linux-64::metis-5.1.0-h59595ed_1007 \n",
            "  mpfr               conda-forge/linux-64::mpfr-4.2.1-h90cbb55_3 \n",
            "  openblas-ilp64     conda-forge/linux-64::openblas-ilp64-0.3.28-pthreads_h3d04fff_0 \n",
            "  openlibm           conda-forge/linux-64::openlibm-0.8.1-hd590300_1 \n",
            "  p7zip              conda-forge/linux-64::p7zip-16.02-h9c3ff4c_1001 \n",
            "  pcre2              conda-forge/linux-64::pcre2-10.43-hcad00b1_0 \n",
            "  perl               conda-forge/linux-64::perl-5.32.1-7_hd590300_perl5 \n",
            "  suitesparse        conda-forge/linux-64::suitesparse-7.8.2-hb42a789_0 \n",
            "  tbb                conda-forge/linux-64::tbb-2021.13.0-h84d6215_0 \n",
            "  zlib               conda-forge/linux-64::zlib-1.2.13-hd590300_5 \n",
            "\n",
            "The following packages will be UPDATED:\n",
            "\n",
            "  ca-certificates                     2023.11.17-hbcca054_0 --> 2024.8.30-hbcca054_0 \n",
            "  certifi                           2023.11.17-pyhd8ed1ab_0 --> 2024.8.30-pyhd8ed1ab_0 \n",
            "  libgcc-ng                               13.2.0-h807b86a_3 --> 14.1.0-h69a702a_1 \n",
            "  libgomp                                 13.2.0-h807b86a_3 --> 14.1.0-h77fa898_1 \n",
            "  libxml2                                 2.12.3-h232c23b_0 --> 2.12.7-hc051c1a_1 \n",
            "  openssl                                  3.2.0-hd590300_1 --> 3.3.2-hb9d3cd8_0 \n",
            "\n",
            "\n",
            "Preparing transaction: ...working... done\n",
            "Verifying transaction: ...working... done\n",
            "Executing transaction: ...working... done\n",
            "CPU times: user 707 ms, sys: 77.8 ms, total: 785 ms\n",
            "Wall time: 1min 31s\n"
          ]
        }
      ]
    },
    {
      "cell_type": "code",
      "source": [
        "import numpy"
      ],
      "metadata": {
        "id": "SPFIMctkkkBT"
      },
      "execution_count": 2,
      "outputs": []
    },
    {
      "cell_type": "code",
      "source": [
        "!julia --version"
      ],
      "metadata": {
        "id": "8xeBrFJAk0ad",
        "outputId": "c3120e78-5913-4546-9662-d3a319ed43c0",
        "colab": {
          "base_uri": "https://localhost:8080/"
        }
      },
      "execution_count": 3,
      "outputs": [
        {
          "output_type": "stream",
          "name": "stdout",
          "text": [
            "julia version 1.10.3\n"
          ]
        }
      ]
    },
    {
      "cell_type": "code",
      "source": [
        "!julia -e 'using Pkg; pkg\"add '$PKG'; precompile;\"' &> /dev/null"
      ],
      "metadata": {
        "id": "hhufo6y7lF5k"
      },
      "execution_count": 4,
      "outputs": []
    },
    {
      "cell_type": "code",
      "source": [
        "%%time\n",
        "\n",
        "!julia -e 'using Pkg; Pkg.add(url = \"https://github.com/usnistgov/ThreeBodyTB.jl\")' &> /dev/null"
      ],
      "metadata": {
        "id": "s6_LoaPnlF2h",
        "outputId": "67e82171-af59-40d3-9c6e-1d762b69dc13",
        "colab": {
          "base_uri": "https://localhost:8080/"
        }
      },
      "execution_count": 5,
      "outputs": [
        {
          "output_type": "stream",
          "name": "stdout",
          "text": [
            "CPU times: user 4.29 s, sys: 525 ms, total: 4.82 s\n",
            "Wall time: 9min 35s\n"
          ]
        }
      ]
    },
    {
      "cell_type": "code",
      "source": [
        "%%time\n",
        "!julia -e 'using Pkg; Pkg.add(\"Plot\")' &> /dev/null"
      ],
      "metadata": {
        "id": "cQ_lX459lmud",
        "outputId": "23844477-2fc9-407f-c45f-0336cf2382f6",
        "colab": {
          "base_uri": "https://localhost:8080/"
        }
      },
      "execution_count": 6,
      "outputs": [
        {
          "output_type": "stream",
          "name": "stdout",
          "text": [
            "CPU times: user 88 ms, sys: 9.02 ms, total: 97 ms\n",
            "Wall time: 9.86 s\n"
          ]
        }
      ]
    },
    {
      "cell_type": "code",
      "source": [
        "!pip install -q jarvis-tools spglib"
      ],
      "metadata": {
        "id": "5Z3yH_k4s_zQ",
        "outputId": "8cf7870a-bd84-477f-c762-f54ee08495b8",
        "colab": {
          "base_uri": "https://localhost:8080/"
        }
      },
      "execution_count": 7,
      "outputs": [
        {
          "output_type": "stream",
          "name": "stdout",
          "text": [
            "\u001b[2K     \u001b[90m━━━━━━━━━━━━━━━━━━━━━━━━━━━━━━━━━━━━━━━━\u001b[0m \u001b[32m60.9/60.9 kB\u001b[0m \u001b[31m1.8 MB/s\u001b[0m eta \u001b[36m0:00:00\u001b[0m\n",
            "\u001b[2K     \u001b[90m━━━━━━━━━━━━━━━━━━━━━━━━━━━━━━━━━━━━━━━━\u001b[0m \u001b[32m60.8/60.8 kB\u001b[0m \u001b[31m3.5 MB/s\u001b[0m eta \u001b[36m0:00:00\u001b[0m\n",
            "\u001b[2K     \u001b[90m━━━━━━━━━━━━━━━━━━━━━━━━━━━━━━━━━━━━━━━━\u001b[0m \u001b[32m163.7/163.7 kB\u001b[0m \u001b[31m7.2 MB/s\u001b[0m eta \u001b[36m0:00:00\u001b[0m\n",
            "\u001b[2K   \u001b[90m━━━━━━━━━━━━━━━━━━━━━━━━━━━━━━━━━━━━━━━━\u001b[0m \u001b[32m4.2/4.2 MB\u001b[0m \u001b[31m50.0 MB/s\u001b[0m eta \u001b[36m0:00:00\u001b[0m\n",
            "\u001b[2K   \u001b[90m━━━━━━━━━━━━━━━━━━━━━━━━━━━━━━━━━━━━━━━━\u001b[0m \u001b[32m8.3/8.3 MB\u001b[0m \u001b[31m83.8 MB/s\u001b[0m eta \u001b[36m0:00:00\u001b[0m\n",
            "\u001b[2K   \u001b[90m━━━━━━━━━━━━━━━━━━━━━━━━━━━━━━━━━━━━━━━━\u001b[0m \u001b[32m16.3/16.3 MB\u001b[0m \u001b[31m74.5 MB/s\u001b[0m eta \u001b[36m0:00:00\u001b[0m\n",
            "\u001b[2K   \u001b[90m━━━━━━━━━━━━━━━━━━━━━━━━━━━━━━━━━━━━━━━━\u001b[0m \u001b[32m41.2/41.2 MB\u001b[0m \u001b[31m14.3 MB/s\u001b[0m eta \u001b[36m0:00:00\u001b[0m\n",
            "\u001b[2K   \u001b[90m━━━━━━━━━━━━━━━━━━━━━━━━━━━━━━━━━━━━━━━━\u001b[0m \u001b[32m4.6/4.6 MB\u001b[0m \u001b[31m62.0 MB/s\u001b[0m eta \u001b[36m0:00:00\u001b[0m\n",
            "\u001b[2K   \u001b[90m━━━━━━━━━━━━━━━━━━━━━━━━━━━━━━━━━━━━━━━━\u001b[0m \u001b[32m229.9/229.9 kB\u001b[0m \u001b[31m12.8 MB/s\u001b[0m eta \u001b[36m0:00:00\u001b[0m\n",
            "\u001b[?25h"
          ]
        }
      ]
    },
    {
      "cell_type": "code",
      "source": [
        "import os\n",
        "\n",
        "pos=\"\"\"Si2\n",
        "1.0\n",
        "3.3641499856336465 -2.5027128e-09 1.94229273881412\n",
        "1.121382991333525 3.1717517190189715 1.9422927388141193\n",
        "-2.5909987e-09 -1.8321133e-09 3.884586486670313\n",
        "Si\n",
        "2\n",
        "Cartesian\n",
        "3.92483875 2.77528125 6.7980237500000005\n",
        "0.56069125 0.39646875 0.9711462500000001\n",
        "\"\"\"\n",
        "pos=\"\"\"C2\n",
        "1.0\n",
        "1.2320971008984494 -2.1340542301747005 0.0\n",
        "1.2320971008984494 2.1340542301747005 0.0\n",
        "0.0 0.0 30.803073\n",
        "C\n",
        "2\n",
        "Cartesian\n",
        "0.0 0.0 1.9507584231000183\n",
        "1.2321 0.7113514226999862 1.9507584231000183\n",
        "\"\"\"\n",
        "with open(\"POSCAR\",\"w\") as f:\n",
        "    f.write(pos)\n",
        "\n",
        "lines=\"\"\"using ThreeBodyTB\n",
        "c = makecrys(\"POSCAR\")\n",
        "energy, tbc, flag = scf_energy(c);\n",
        "println(\"directgap, indirectgap, gaptype, bandwidth\",string(ThreeBodyTB.BandStruct.band_summary(tbc)),tbc.efermi)\n",
        "write_hr_dat(tbc,filename=\"my_hr.dat\")\n",
        "\"\"\"\n",
        "with open(\"input.jl\",\"w\") as f:\n",
        "     f.write(lines)\n",
        "#cmd = \"!julia input.jl\"\n",
        "#os.system(cmd)"
      ],
      "metadata": {
        "id": "OI2aDCTemCSQ"
      },
      "execution_count": 8,
      "outputs": []
    },
    {
      "cell_type": "code",
      "source": [
        "!julia input.jl"
      ],
      "metadata": {
        "id": "I7AzuW3nmCIT",
        "outputId": "f11e508c-6fd4-4749-a086-81e882132197",
        "colab": {
          "base_uri": "https://localhost:8080/"
        }
      },
      "execution_count": 9,
      "outputs": [
        {
          "output_type": "stream",
          "name": "stdout",
          "text": [
            "\u001b[33m\u001b[1m┌ \u001b[22m\u001b[39m\u001b[33m\u001b[1mWarning: \u001b[22m\u001b[39mCHOLMOD version incompatibility\n",
            "\u001b[33m\u001b[1m│ \u001b[22m\u001b[39m\n",
            "\u001b[33m\u001b[1m│ \u001b[22m\u001b[39mJulia was compiled with CHOLMOD version 4.0.4. It is\n",
            "\u001b[33m\u001b[1m│ \u001b[22m\u001b[39mcurrently linked with version 5.3.0.\n",
            "\u001b[33m\u001b[1m│ \u001b[22m\u001b[39mThis might cause Julia to terminate when working with\n",
            "\u001b[33m\u001b[1m│ \u001b[22m\u001b[39msparse matrix factorizations, e.g. solving systems of\n",
            "\u001b[33m\u001b[1m│ \u001b[22m\u001b[39mequations with \\.\n",
            "\u001b[33m\u001b[1m│ \u001b[22m\u001b[39m\n",
            "\u001b[33m\u001b[1m│ \u001b[22m\u001b[39mIt is recommended that you use Julia with the same major\n",
            "\u001b[33m\u001b[1m│ \u001b[22m\u001b[39mversion of CHOLMOD as the one used during the build, or\n",
            "\u001b[33m\u001b[1m│ \u001b[22m\u001b[39mdownload the generic binaries from www.julialang.org,\n",
            "\u001b[33m\u001b[1m│ \u001b[22m\u001b[39mwhich ship with the correct versions of all dependencies.\n",
            "\u001b[33m\u001b[1m└ \u001b[22m\u001b[39m\u001b[90m@ SparseArrays.CHOLMOD /usr/local/share/julia/stdlib/v1.10/SparseArrays/src/solvers/cholmod.jl:206\u001b[39m\n",
            "\n",
            "found /root/.julia/packages/ThreeBodyTB/HW8CZ/src/../dats/pbesol/v1.3/els/coef.el.2bdy.C.xml.gz\n",
            "Tuple{Symbol, Symbol}\n",
            "found /root/.julia/packages/ThreeBodyTB/HW8CZ/src/../dats/pbesol/v1.3/els/coef.el.3bdy.C.xml.gz\n",
            "\n",
            "\n",
            "START SCF ----------------\n",
            "SCF CALC 0001 energy  -18.94188245    \n",
            "SCF CALC 0002 energy  -18.94188245  en_diff:   0.000000E+00  dq_diff:   1.243450E-14   mix: 5.000000E-02 \n",
            "\n",
            "YES convergence in 2 iters, energy -18.941882449600506 eV  \n",
            "END SCF ------------------\n",
            "\n",
            "ΔQ = [0.0, 0.0]\n",
            "\n",
            "scf_energy success, done\n",
            "\n",
            "Formation energy: -0.029 eV/atom\n",
            "\n",
            "using kgrid [14, 14, 2]\n",
            "directgap, indirectgap, gaptype, bandwidth(1.4015695994427786, 1.4015695994427777, :direct, 19.15938547509438, [-3.0105339343503896, -1.6089643349076117])-0.16976079591050647\n",
            "grid: [14, 14, 2]\n",
            "  0.002581 seconds (6.69 k allocations: 1.970 MiB)\n",
            "  5.238569 seconds (27.16 M allocations: 1.918 GiB, 7.56% gc time, 28.17% compilation time)\n",
            "start write ./my_hr.dat\n",
            "wrote  ./my_hr.dat\n",
            " 42.679207 seconds (54.63 M allocations: 3.544 GiB, 6.25% gc time, 90.49% compilation time)\n"
          ]
        }
      ]
    },
    {
      "cell_type": "markdown",
      "source": [
        "You can download my_hr.dat file by clicking on older icon on lef and download."
      ],
      "metadata": {
        "id": "YjnjltTQgVFD"
      }
    },
    {
      "cell_type": "code",
      "source": [
        "from jarvis.io.wannier.outputs import WannierHam\n",
        "w = WannierHam(filename='my_hr.dat')"
      ],
      "metadata": {
        "id": "mwe1k4pZmCC9",
        "outputId": "d95b8564-ee62-4e94-b78c-e77f082b5293",
        "colab": {
          "base_uri": "https://localhost:8080/"
        }
      },
      "execution_count": 10,
      "outputs": [
        {
          "output_type": "stream",
          "name": "stdout",
          "text": [
            "H size 19 21 3 8 8\n"
          ]
        }
      ]
    },
    {
      "cell_type": "code",
      "source": [
        "%matplotlib inline\n",
        "import matplotlib.pyplot as plt\n",
        "from jarvis.core.kpoints import generate_kgrid\n",
        "kpoints = generate_kgrid([20, 20, 20])\n",
        "energies, dos, pdos = w.dos(kpoints)\n",
        "plt.plot(energies, dos)\n",
        "plt.xlabel('E')\n",
        "plt.ylabel('DOS')"
      ],
      "metadata": {
        "id": "phswjWi3mCB0",
        "outputId": "54c47a7e-70a0-4747-8264-b4030d3800f4",
        "colab": {
          "base_uri": "https://localhost:8080/",
          "height": 501
        }
      },
      "execution_count": null,
      "outputs": [
        {
          "output_type": "stream",
          "name": "stdout",
          "text": [
            "DOS BAND GAP  0.08522355620102896      -0.029350392461461993   0.05587316373956697\n",
            "np.sum(dos)  7.600461843923312\n"
          ]
        },
        {
          "output_type": "execute_result",
          "data": {
            "text/plain": [
              "Text(0, 0.5, 'DOS')"
            ]
          },
          "metadata": {},
          "execution_count": 12
        },
        {
          "output_type": "display_data",
          "data": {
            "text/plain": [
              "<Figure size 640x480 with 1 Axes>"
            ],
            "image/png": "[encoded data removed]"
          },
          "metadata": {}
        }
      ]
    },
    {
      "cell_type": "code",
      "source": [
        "from jarvis.io.vasp.inputs import Poscar\n",
        "atoms=Poscar.from_string(pos).atoms\n",
        "filename='bands.png'\n",
        "w.get_bandstructure_plot(atoms=atoms, filename=filename,yrange=[-8, 4])"
      ],
      "metadata": {
        "id": "n3E1gBGpgfTM",
        "outputId": "7b4d5e7d-3581-4ebc-9e5b-2e631ad3d2de",
        "colab": {
          "base_uri": "https://localhost:8080/"
        }
      },
      "execution_count": null,
      "outputs": [
        {
          "output_type": "stream",
          "name": "stderr",
          "text": [
            "/usr/local/lib/python3.10/site-packages/spglib/spglib.py:115: DeprecationWarning: dict interface (SpglibDataset['number']) is deprecated.Use attribute interface ({self.__class__.__name__}.{key}) instead\n",
            "  warnings.warn(\n",
            "/usr/local/lib/python3.10/site-packages/spglib/spglib.py:115: DeprecationWarning: dict interface (SpglibDataset['international']) is deprecated.Use attribute interface ({self.__class__.__name__}.{key}) instead\n",
            "  warnings.warn(\n"
          ]
        }
      ]
    },
    {
      "cell_type": "code",
      "source": [
        "from IPython.display import Image\n",
        "Image('bands.png')"
      ],
      "metadata": {
        "id": "o2MnFpVhgfQ9",
        "outputId": "41273b48-d241-4d08-f8f9-e94e09d2f8ff",
        "colab": {
          "base_uri": "https://localhost:8080/",
          "height": 497
        }
      },
      "execution_count": null,
      "outputs": [
        {
          "output_type": "execute_result",
          "data": {
            "image/png": "[encoded data removed]",
            "text/plain": [
              "<IPython.core.display.Image object>"
            ]
          },
          "metadata": {},
          "execution_count": 14
        }
      ]
    },
    {
      "cell_type": "markdown",
      "source": [
        "See also https://colab.research.google.com/github/knc6/jarvis-tools-notebooks/blob/master/jarvis-tools-notebooks/ThreeBodyTB_julia.ipynb"
      ],
      "metadata": {
        "id": "Or7ud0yqC5Cj"
      }
    },
    {
      "cell_type": "code",
      "source": [],
      "metadata": {
        "id": "529IJzQMgfMF"
      },
      "execution_count": null,
      "outputs": []
    },
    {
      "cell_type": "code",
      "source": [],
      "metadata": {
        "id": "rIpA3EcsgfJ6"
      },
      "execution_count": null,
      "outputs": []
    }
  ]
}