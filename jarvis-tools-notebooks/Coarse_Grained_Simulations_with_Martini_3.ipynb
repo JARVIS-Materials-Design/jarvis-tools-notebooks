{
  "nbformat": 4,
  "nbformat_minor": 0,
  "metadata": {
    "colab": {
      "provenance": [],
      "authorship_tag": "ABX9TyN4qWbQmqd6R2XDiCcWubDY",
      "include_colab_link": true
    },
    "kernelspec": {
      "name": "python3",
      "display_name": "Python 3"
    },
    "language_info": {
      "name": "python"
    }
  },
  "cells": [
    {
      "cell_type": "markdown",
      "metadata": {
        "id": "view-in-github",
        "colab_type": "text"
      },
      "source": [
        "<a href=\"https://colab.research.google.com/github/knc6/jarvis-tools-notebooks/blob/master/jarvis-tools-notebooks/Coarse_Grained_Simulations_with_Martini_3.ipynb\" target=\"_parent\"><img src=\"https://colab.research.google.com/assets/colab-badge.svg\" alt=\"Open In Colab\"/></a>"
      ]
    },
    {
      "cell_type": "markdown",
      "source": [
        "https://www.compchems.com/gromacs-tutorial-coarse-grained-simulations-with-martini-3-force-field/#cg-simulations-workflow"
      ],
      "metadata": {
        "id": "ebiuNJcFHujy"
      }
    },
    {
      "cell_type": "code",
      "execution_count": 2,
      "metadata": {
        "colab": {
          "base_uri": "https://localhost:8080/"
        },
        "id": "7KnI50RJHlF3",
        "outputId": "8ea04db8-3340-4bc6-c261-adcd12a88f37"
      },
      "outputs": [
        {
          "output_type": "stream",
          "name": "stdout",
          "text": [
            "--2024-06-05 06:38:13--  http://www.pdb.org/pdb/files/1AKI.pdb\n",
            "Resolving www.pdb.org (www.pdb.org)... 128.6.159.96\n",
            "Connecting to www.pdb.org (www.pdb.org)|128.6.159.96|:80... connected.\n",
            "HTTP request sent, awaiting response... 301 Moved Permanently\n",
            "Location: https://www.rcsb.org/pdb/files/1AKI.pdb [following]\n",
            "--2024-06-05 06:38:14--  https://www.rcsb.org/pdb/files/1AKI.pdb\n",
            "Resolving www.rcsb.org (www.rcsb.org)... 128.6.159.248\n",
            "Connecting to www.rcsb.org (www.rcsb.org)|128.6.159.248|:443... connected.\n",
            "HTTP request sent, awaiting response... 301 Moved Permanently\n",
            "Location: https://files.rcsb.org/download/1AKI.pdb [following]\n",
            "--2024-06-05 06:38:14--  https://files.rcsb.org/download/1AKI.pdb\n",
            "Resolving files.rcsb.org (files.rcsb.org)... 128.6.159.100\n",
            "Connecting to files.rcsb.org (files.rcsb.org)|128.6.159.100|:443... connected.\n",
            "HTTP request sent, awaiting response... 200 OK\n",
            "Length: unspecified [application/octet-stream]\n",
            "Saving to: ‘1AKI.pdb’\n",
            "\n",
            "1AKI.pdb                [ <=>                ] 113.59K  --.-KB/s    in 0.08s   \n",
            "\n",
            "2024-06-05 06:38:14 (1.47 MB/s) - ‘1AKI.pdb’ saved [116316]\n",
            "\n"
          ]
        }
      ],
      "source": [
        "!wget http://www.pdb.org/pdb/files/1AKI.pdb\n"
      ]
    },
    {
      "cell_type": "code",
      "source": [
        "!grep -v HETATM 1AKI.pdb > 1aki_clean.pdb\n"
      ],
      "metadata": {
        "id": "fZXkVGwxHnac"
      },
      "execution_count": 3,
      "outputs": []
    },
    {
      "cell_type": "code",
      "source": [
        "!ls"
      ],
      "metadata": {
        "colab": {
          "base_uri": "https://localhost:8080/"
        },
        "id": "gfzD9t_zHq5v",
        "outputId": "0d09a759-4200-49de-b3d0-9805961cebf5"
      },
      "execution_count": 4,
      "outputs": [
        {
          "output_type": "stream",
          "name": "stdout",
          "text": [
            "1aki_clean.pdb\t1AKI.pdb  sample_data\n"
          ]
        }
      ]
    },
    {
      "cell_type": "code",
      "source": [
        "pip install vermouth\n"
      ],
      "metadata": {
        "colab": {
          "base_uri": "https://localhost:8080/"
        },
        "id": "t4Bk3dBmHrzs",
        "outputId": "275ac29d-e085-4033-e45e-4bc513fdc8f3"
      },
      "execution_count": 5,
      "outputs": [
        {
          "output_type": "stream",
          "name": "stdout",
          "text": [
            "Collecting vermouth\n",
            "  Downloading vermouth-0.10.0-py2.py3-none-any.whl (3.0 MB)\n",
            "\u001b[2K     \u001b[90m━━━━━━━━━━━━━━━━━━━━━━━━━━━━━━━━━━━━━━━━\u001b[0m \u001b[32m3.0/3.0 MB\u001b[0m \u001b[31m26.5 MB/s\u001b[0m eta \u001b[36m0:00:00\u001b[0m\n",
            "\u001b[?25hCollecting pbr (from vermouth)\n",
            "  Downloading pbr-6.0.0-py2.py3-none-any.whl (107 kB)\n",
            "\u001b[2K     \u001b[90m━━━━━━━━━━━━━━━━━━━━━━━━━━━━━━━━━━━━━━━━\u001b[0m \u001b[32m107.5/107.5 kB\u001b[0m \u001b[31m12.5 MB/s\u001b[0m eta \u001b[36m0:00:00\u001b[0m\n",
            "\u001b[?25hRequirement already satisfied: numpy in /usr/local/lib/python3.10/dist-packages (from vermouth) (1.25.2)\n",
            "Requirement already satisfied: networkx>=2.0 in /usr/local/lib/python3.10/dist-packages (from vermouth) (3.3)\n",
            "Requirement already satisfied: scipy in /usr/local/lib/python3.10/dist-packages (from vermouth) (1.11.4)\n",
            "Installing collected packages: pbr, vermouth\n",
            "Successfully installed pbr-6.0.0 vermouth-0.10.0\n"
          ]
        }
      ]
    },
    {
      "cell_type": "code",
      "source": [
        "pip install git+https://github.com/marrink-lab/vermouth-martinize.git#vermouth\n"
      ],
      "metadata": {
        "colab": {
          "base_uri": "https://localhost:8080/"
        },
        "id": "qmodDettHzqu",
        "outputId": "b9b4d9ec-5a2f-49d0-8108-28d37ebb439f"
      },
      "execution_count": 6,
      "outputs": [
        {
          "output_type": "stream",
          "name": "stdout",
          "text": [
            "Collecting git+https://github.com/marrink-lab/vermouth-martinize.git#vermouth\n",
            "  Cloning https://github.com/marrink-lab/vermouth-martinize.git to /tmp/pip-req-build-9io1156s\n",
            "  Running command git clone --filter=blob:none --quiet https://github.com/marrink-lab/vermouth-martinize.git /tmp/pip-req-build-9io1156s\n",
            "  Resolved https://github.com/marrink-lab/vermouth-martinize.git to commit 7e59d59fdc86126554910b6a03831101ddd99283\n",
            "  Installing build dependencies ... \u001b[?25l\u001b[?25hdone\n",
            "  Getting requirements to build wheel ... \u001b[?25l\u001b[?25hdone\n",
            "  Preparing metadata (pyproject.toml) ... \u001b[?25l\u001b[?25hdone\n",
            "Requirement already satisfied: pbr in /usr/local/lib/python3.10/dist-packages (from vermouth==0.10.1.dev93) (6.0.0)\n",
            "Requirement already satisfied: numpy in /usr/local/lib/python3.10/dist-packages (from vermouth==0.10.1.dev93) (1.25.2)\n",
            "Requirement already satisfied: networkx>=2.0 in /usr/local/lib/python3.10/dist-packages (from vermouth==0.10.1.dev93) (3.3)\n",
            "Requirement already satisfied: scipy in /usr/local/lib/python3.10/dist-packages (from vermouth==0.10.1.dev93) (1.11.4)\n",
            "Building wheels for collected packages: vermouth\n",
            "  Building wheel for vermouth (pyproject.toml) ... \u001b[?25l\u001b[?25hdone\n",
            "  Created wheel for vermouth: filename=vermouth-0.10.1.dev93-py2.py3-none-any.whl size=3040946 sha256=53285b1a8ac7b3b34ce07e6f3de670a1a7786cfe71fe5283c2ff6d29699699a2\n",
            "  Stored in directory: /tmp/pip-ephem-wheel-cache-6kkhmczo/wheels/78/6c/f5/664e5053b13e6a39404c25aef1eff7eefc298a416e6dacda97\n",
            "Successfully built vermouth\n",
            "Installing collected packages: vermouth\n",
            "  Attempting uninstall: vermouth\n",
            "    Found existing installation: vermouth 0.10.0\n",
            "    Uninstalling vermouth-0.10.0:\n",
            "      Successfully uninstalled vermouth-0.10.0\n",
            "Successfully installed vermouth-0.10.1.dev93\n"
          ]
        }
      ]
    },
    {
      "cell_type": "code",
      "source": [
        "!martinize2 -h\n"
      ],
      "metadata": {
        "colab": {
          "base_uri": "https://localhost:8080/"
        },
        "id": "kZ3C6Bc8H2bn",
        "outputId": "5b5dee34-3c6f-4232-a415-e6e2137c74e6"
      },
      "execution_count": 7,
      "outputs": [
        {
          "output_type": "stream",
          "name": "stdout",
          "text": [
            "usage: martinize2 [-h] [-V] [-f INPATH] [-x OUTPATH] [-o TOP_PATH] [-sep] [-merge MERGE_CHAINS]\n",
            "                  [-resid RESID_HANDLING] [-ignore IGNORE_RES [IGNORE_RES ...]] [-ignh]\n",
            "                  [-model MODELIDX] [-bonds-from {name,distance,none,both}]\n",
            "                  [-bonds-fudge BONDS_FUDGE] [-ff TO_FF] [-from FROM_FF] [-ff-dir EXTRA_FF_DIR]\n",
            "                  [-map-dir EXTRA_MAP_DIR] [-list-ff] [-list-blocks] [-p {none,all,backbone}]\n",
            "                  [-pf POSRES_FC] [-dssp [DSSP] | -ss SEQUENCE | -collagen] [-ed] [-elastic]\n",
            "                  [-ef RB_FORCE_CONSTANT] [-el RB_LOWER_BOUND] [-eu RB_UPPER_BOUND]\n",
            "                  [-ermd RES_MIN_DIST] [-ea RB_DECAY_FACTOR] [-ep RB_DECAY_POWER]\n",
            "                  [-em RB_MINIMUM_FORCE] [-eb RB_SELECTION] [-eunit RB_UNIT] [-go GO]\n",
            "                  [-go-eps GO_EPS] [-go-moltype GOVS_MOLTYPE] [-go-low GO_LOW] [-go-up GO_UP]\n",
            "                  [-go-res-dist GO_RES_DIST] [-water-bias]\n",
            "                  [-water-bias-eps WATER_BIAS_EPS [WATER_BIAS_EPS ...]]\n",
            "                  [-id-regions WATER_IDRS [WATER_IDRS ...]] [-idr-tune] [-scfix]\n",
            "                  [-cys CYSTEIN_BRIDGE] [-mutate MUTATIONS] [-modify MODIFICATIONS]\n",
            "                  [-nter MODIFICATIONS] [-cter MODIFICATIONS] [-nt] [-write-graph WRITE_GRAPH]\n",
            "                  [-write-repair WRITE_REPAIR] [-write-canon WRITE_CANON] [-v]\n",
            "                  [-maxwarn MAXWARN [MAXWARN ...]]\n",
            "\n",
            "options:\n",
            "  -h, --help            show this help message and exit\n",
            "  -V, --version         show program's version number and exit\n",
            "\n",
            "Input and output files:\n",
            "  -f INPATH             Input file (PDB|GRO) (default: None)\n",
            "  -x OUTPATH            Output coarse grained structure (PDB) (default: None)\n",
            "  -o TOP_PATH           Output topology (TOP) (default: None)\n",
            "  -sep                  Write separate topologies for identical chains (default: False)\n",
            "  -merge MERGE_CHAINS   Merge chains: either a comma separated list of chains to merge e.g. -merge\n",
            "                        A,B,C (+), or -merge all if instead all chains in the input file should be\n",
            "                        merged. Can be given multiple times for different groups of chains to\n",
            "                        merge. (default: None)\n",
            "  -resid RESID_HANDLING\n",
            "                        How to handle resid. Choice of mol or input. mol: resids are numbered from\n",
            "                        1 to n for each molecule input: resids are the same as in the input pdb\n",
            "                        (default: mol)\n",
            "  -ignore IGNORE_RES [IGNORE_RES ...]\n",
            "                        Ignore residues with that name: e.g. -ignore HOH,LIG (+) (default: [])\n",
            "  -ignh                 Ignore all Hydrogen atoms in the input file (default: False)\n",
            "  -model MODELIDX       Which MODEL to select. Only meaningful for PDB files. (default: None)\n",
            "  -bonds-from {name,distance,none,both}\n",
            "                        How to determine connectivity in the input. If 'none', only bonds from the\n",
            "                        input file (CONECT) will be used. (default: both)\n",
            "  -bonds-fudge BONDS_FUDGE\n",
            "                        Factor with which Van der Waals radii should be scaled when determining\n",
            "                        bonds based on distances. (default: 1.2)\n",
            "\n",
            "Force field selection:\n",
            "  -ff TO_FF             Which forcefield to use (default: martini3001)\n",
            "  -from FROM_FF         Force field of the original structure. (default: charmm)\n",
            "  -ff-dir EXTRA_FF_DIR  Additional repository for custom force fields. (default: [])\n",
            "  -map-dir EXTRA_MAP_DIR\n",
            "                        Additional repository for mapping files. (default: [])\n",
            "  -list-ff              List all known force fields, and exit. (default: False)\n",
            "  -list-blocks          List all Blocks and Modifications known to the force field, and exit.\n",
            "                        (default: False)\n",
            "\n",
            "Position restraints:\n",
            "  -p {none,all,backbone}\n",
            "                        Output position restraints (none/all/backbone) (default: none)\n",
            "  -pf POSRES_FC         Position restraints force constant in kJ/mol/nm^2 (default: 1000)\n",
            "\n",
            "Secondary structure handling:\n",
            "  -dssp [DSSP]          DSSP executable for determining structure. If this flag is givenbut no\n",
            "                        executable is specified, the mdtraj library will be usedto compute the\n",
            "                        secondary structure, if it can be imported. (default: None)\n",
            "  -ss SEQUENCE          Manually set the secondary structure of the proteins. Either give a dssp\n",
            "                        sequence for each residue in your input file or a single letter to be\n",
            "                        repeated for the entire sequence, e.g. -ss C (default: None)\n",
            "  -collagen             Use collagen parameters (default: False)\n",
            "  -ed                   Use dihedrals for extended regions rather than elastic bonds (default:\n",
            "                        False)\n",
            "\n",
            "Protein elastic network:\n",
            "  -elastic              Write elastic bonds (default: False)\n",
            "  -ef RB_FORCE_CONSTANT\n",
            "                        Elastic bond force constant Fc in kJ/mol/nm^2 (default: 500)\n",
            "  -el RB_LOWER_BOUND    Elastic bond lower cutoff: F = Fc if rij < lo (default: 0)\n",
            "  -eu RB_UPPER_BOUND    Elastic bond upper cutoff: F = 0 if rij > up (default: 0.9)\n",
            "  -ermd RES_MIN_DIST    The minimum separation between two residues to have an RB the default\n",
            "                        value is set by the force-field. (default: None)\n",
            "  -ea RB_DECAY_FACTOR   Elastic bond decay factor a (default: 0)\n",
            "  -ep RB_DECAY_POWER    Elastic bond decay power p (default: 1)\n",
            "  -em RB_MINIMUM_FORCE  Remove elastic bonds with force constant lower than this (default: 0)\n",
            "  -eb RB_SELECTION      Comma separated list of bead names for elastic bonds (default: None)\n",
            "  -eunit RB_UNIT        Establish what is the structural unit for the elastic network. Bonds are\n",
            "                        only created within a unit. Options are molecule, chain, all, or\n",
            "                        aspecified region defined by resids, with followingformat:\n",
            "                        <start_resid_1>:<end_resid_1>, <start_resid_2>:<end_resid_2>... (default:\n",
            "                        molecule)\n",
            "\n",
            "Virtual site based GoMartini:\n",
            "  -go GO                Contact map to be used for the Martini Go model.Currently, only one format\n",
            "                        is supported. See docs. (default: None)\n",
            "  -go-eps GO_EPS        The strength of the Go model structural bias in kJ/mol. (default: 9.414)\n",
            "  -go-moltype GOVS_MOLTYPE\n",
            "                        Set the name of the molecule when using Virtual Sites GoMartini. (default:\n",
            "                        molecule_0)\n",
            "  -go-low GO_LOW        Minimum distance (nm) below which contacts are removed. (default: 0.3)\n",
            "  -go-up GO_UP          Maximum distance (nm) above which contacts are removed. (default: 1.1)\n",
            "  -go-res-dist GO_RES_DIST\n",
            "                        Minimum graph distance (similar sequence distance) below whichcontacts are\n",
            "                        removed. (default: 3)\n",
            "\n",
            "Apply water bias.:\n",
            "  -water-bias           Automatically apply water bias to different secondary structure elements.\n",
            "                        (default: False)\n",
            "  -water-bias-eps WATER_BIAS_EPS [WATER_BIAS_EPS ...]\n",
            "                        Define the strength of the water bias by secondary structure type. For\n",
            "                        example, use `H:3.6 C:2.1` to bias helixes and coils. Using the idr option\n",
            "                        (e.g. idr:2.1) intrinsically disordered regions are biased seperately.\n",
            "                        (default: [])\n",
            "  -id-regions WATER_IDRS [WATER_IDRS ...]\n",
            "                        Intrinsically disordered regions specified by resid.These parts are biased\n",
            "                        differently when applying a water bias.format:\n",
            "                        <start_resid_1>:<end_resid_1> <start_resid_2>:<end_resid_2>... (default:\n",
            "                        [])\n",
            "  -idr-tune             Tune the idr regions with specific bonded potentials. (default: False)\n",
            "\n",
            "Protein description:\n",
            "  -scfix                Apply side chain corrections. (default: False)\n",
            "  -cys CYSTEIN_BRIDGE   Cystein bonds (default: none)\n",
            "  -mutate MUTATIONS     Mutate a residue. Desired mutation is specified as, e.g. A-PHE45:ALA. The\n",
            "                        format is <chain>-<resname><resid>:<new resname>. Elements of the\n",
            "                        specification can be omitted as required.e.g. PHE45:ALA will mutate all\n",
            "                        PHE with resid 45 to ALA, A-PHE:ALA will mutate all PHE on chain A to ALA\n",
            "                        (default: [])\n",
            "  -modify MODIFICATIONS\n",
            "                        Add a modification to a residue. Desired modification is specified as,\n",
            "                        e.g. A-ASP45:ASP0. The format is <chain>-<resname><resid>:<modification>.\n",
            "                        Elements of the specification can be omitted as required. e.g. ASP45:ASP0\n",
            "                        will modify all ASP with resid 45 to ASP0, A-ASP:ASP0 will modify all ASP\n",
            "                        on chain A to ASP0 (default: [])\n",
            "  -nter MODIFICATIONS   Shorthand for patching N-termini. An N-terminus is defined as a residue\n",
            "                        which is connected to 1 other residue, and has the highest resid.\n",
            "                        (default: [])\n",
            "  -cter MODIFICATIONS   Shorthand for patching C-termini. A C-terminus is defined as a residue\n",
            "                        which is connected to 1 other residue, and has the lowest resid. (default:\n",
            "                        [])\n",
            "  -nt                   Set neutral termini (charged is default). Alias for \"-nter NH2-ter -cter\n",
            "                        COOH-ter\" (default: False)\n",
            "\n",
            "Debugging options:\n",
            "  -write-graph WRITE_GRAPH\n",
            "                        Write the graph as PDB after the MakeBonds step. (default: None)\n",
            "  -write-repair WRITE_REPAIR\n",
            "                        Write the graph as PDB after the RepairGraph step. The resulting file may\n",
            "                        contain \"nan\" coordinates making it unreadable by most softwares.\n",
            "                        (default: None)\n",
            "  -write-canon WRITE_CANON\n",
            "                        Write the graph as PDB after the CanonicalizeModifications step. The\n",
            "                        resulting file may contain \"nan\" coordinates making it unreadable by most\n",
            "                        software. (default: None)\n",
            "  -v                    Enable debug logging output. Can be given multiple times. (default: 0)\n",
            "  -maxwarn MAXWARN [MAXWARN ...]\n",
            "                        The maximum number of allowed warnings. If more warnings are encountered\n",
            "                        no output files are written. (default: [])\n"
          ]
        }
      ]
    },
    {
      "cell_type": "code",
      "source": [
        "!martinize2 -f 1aki_clean.pdb -x 1aki_cg.pdb -o topol.top -ff martini3001 -scfix -cys auto -p backbone -elastic -ef 700.0 -el 0.5 -eu 0.9\n"
      ],
      "metadata": {
        "colab": {
          "base_uri": "https://localhost:8080/"
        },
        "id": "x1Ro0Pe4H8Sh",
        "outputId": "2315d50b-779c-4d95-82fe-786ddd1d10d2"
      },
      "execution_count": 11,
      "outputs": [
        {
          "output_type": "stream",
          "name": "stdout",
          "text": [
            "    INFO - general - Read 1 molecules from PDB file 1aki_clean.pdb\n",
            "    INFO - step - Guessing the bonds.\n",
            "    INFO - general - 1 molecules after guessing bonds\n",
            "    INFO - step - Repairing the graph.\n",
            "    INFO - general - Applying modification N-ter to residue A-LYS1\n",
            "    INFO - general - Applying modification C-ter to residue A-LEU129\n",
            "    INFO - step - Dealing with modifications.\n",
            "    INFO - general - Identified the modifications ['N-ter'] on residues ['LYS1', 'LYS1', 'LYS1', 'LYS1']\n",
            "    INFO - general - Identified the modifications ['C-ter'] on residues ['LEU129', 'LEU129', 'LEU129']\n",
            "    INFO - step - Read input.\n",
            "    INFO - step - Creating the graph at the target resolution.\n",
            "    INFO - general - Applying modification mapping ('C-ter',)\n",
            "    INFO - general - Applying modification mapping ('N-ter',)\n",
            "    INFO - step - Averaging the coordinates.\n",
            "    INFO - step - Applying the links.\n",
            "    INFO - step - Placing the charge dummies.\n",
            "    INFO - step - Applying position restraints.\n",
            "    INFO - step - Setting the rubber bands.\n",
            "    INFO - step - Sorting atomids\n",
            "    INFO - step - Writing output.\n",
            "    INFO - general - Please cite: Souza, P C T; Alessandri, R; Barnoud, J; Thallmair, S; Faustino, I; Grünewald, F; Patmanidis, I; Abdizadeh, H; Bruininks, B M H; Wassenaar, T A; Kroon, P C; Melcr, J; Nieto, V; Corradi, V; Khan, H M; Domański, J; Javanainen, M; Martinez-Seara, H; Reuter, N; Best, R B; Vattulainen, I; Monticelli, L; Periole, X; Tieleman, D P; de Vries, A H; Marrink, S J;  Nature Methods 2021; 10.1038/s41592-021-01098-3\n",
            "    INFO - general - A man must defend his home, his wife, his children, and his martini. -- Jackie Gleason\n"
          ]
        }
      ]
    },
    {
      "cell_type": "code",
      "source": [
        "!ls"
      ],
      "metadata": {
        "colab": {
          "base_uri": "https://localhost:8080/"
        },
        "id": "q-DnTd-bIMiK",
        "outputId": "513a422b-5388-4cb3-947a-daa7ccf34f08"
      },
      "execution_count": 12,
      "outputs": [
        {
          "output_type": "stream",
          "name": "stdout",
          "text": [
            "1aki_cg.pdb  1aki_clean.pdb  1AKI.pdb  molecule_0.itp  sample_data  topol.top\n"
          ]
        }
      ]
    },
    {
      "cell_type": "code",
      "source": [],
      "metadata": {
        "id": "KMjH3Kg7IFgO"
      },
      "execution_count": null,
      "outputs": []
    }
  ]
}