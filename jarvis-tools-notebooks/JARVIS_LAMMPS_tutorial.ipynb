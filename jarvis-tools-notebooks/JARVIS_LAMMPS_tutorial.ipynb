{
  "nbformat": 4,
  "nbformat_minor": 0,
  "metadata": {
    "colab": {
      "provenance": [],
      "authorship_tag": "ABX9TyP7GYoI650IGvb+5OTEdveJ",
      "include_colab_link": true
    },
    "kernelspec": {
      "name": "python3",
      "display_name": "Python 3"
    },
    "language_info": {
      "name": "python"
    }
  },
  "cells": [
    {
      "cell_type": "markdown",
      "metadata": {
        "id": "view-in-github",
        "colab_type": "text"
      },
      "source": [
        "<a href=\"https://colab.research.google.com/github/knc6/jarvis-tools-notebooks/blob/master/jarvis-tools-notebooks/JARVIS_LAMMPS_tutorial.ipynb\" target=\"_parent\"><img src=\"https://colab.research.google.com/assets/colab-badge.svg\" alt=\"Open In Colab\"/></a>"
      ]
    },
    {
      "cell_type": "code",
      "execution_count": null,
      "metadata": {
        "colab": {
          "base_uri": "https://localhost:8080/"
        },
        "id": "hCpCAZmc-y-x",
        "outputId": "888ec16c-5f4d-4654-8101-26688d21dd65"
      },
      "outputs": [
        {
          "output_type": "stream",
          "name": "stdout",
          "text": [
            "⏬ Downloading https://github.com/conda-forge/miniforge/releases/download/23.11.0-0/Mambaforge-23.11.0-0-Linux-x86_64.sh...\n",
            "📦 Installing...\n"
          ]
        }
      ],
      "source": [
        "!pip install -q condacolab\n",
        "import condacolab\n",
        "condacolab.install()"
      ]
    },
    {
      "cell_type": "code",
      "source": [
        "!conda --version"
      ],
      "metadata": {
        "id": "s3giGlav_Epb"
      },
      "execution_count": null,
      "outputs": []
    },
    {
      "cell_type": "code",
      "source": [
        "import condacolab\n",
        "condacolab.check()"
      ],
      "metadata": {
        "id": "wFHRCtbV_Pjz"
      },
      "execution_count": null,
      "outputs": []
    },
    {
      "cell_type": "markdown",
      "source": [
        "Install LAMMPS using conda. For details about installation, see: https://docs.lammps.org/Install.html"
      ],
      "metadata": {
        "id": "HNBknkWzA5QH"
      }
    },
    {
      "cell_type": "code",
      "source": [
        "%%time\n",
        "!conda install lammps jarvis-tools -y --quiet"
      ],
      "metadata": {
        "id": "PDzowNfo_RML"
      },
      "execution_count": null,
      "outputs": []
    },
    {
      "cell_type": "markdown",
      "source": [
        "Check LAMMPS is installed"
      ],
      "metadata": {
        "id": "oYelc0Q8A9C_"
      }
    },
    {
      "cell_type": "code",
      "source": [
        "# !lmp -help"
      ],
      "metadata": {
        "id": "KhhY5zbRA8Gg"
      },
      "execution_count": null,
      "outputs": []
    },
    {
      "cell_type": "markdown",
      "source": [
        "# Simulating a Lennard-Jones Fluid\n",
        "This tutorial will guide you through setting up, running, and post-processing a simulation of a Lennard-Jones (LJ) fluid using LAMMPS. We'll cover:\n",
        "\n",
        "1. Creating the input script for LAMMPS\n",
        "2. Running the simulation\n",
        "3. Post-processing the results with Python"
      ],
      "metadata": {
        "id": "mMp6mh9j_oIW"
      }
    },
    {
      "cell_type": "markdown",
      "source": [
        "To run a simulation using LAMMPS, one needs to write a series of commands in an input script."
      ],
      "metadata": {
        "id": "oUQS1Ma6B68a"
      }
    },
    {
      "cell_type": "markdown",
      "source": [
        "Let's run a benchmark problem from LAMMPS (https://github.com/lammps/lammps/blob/develop/bench/in.lj)"
      ],
      "metadata": {
        "id": "wQ52uKCPTXWw"
      }
    },
    {
      "cell_type": "code",
      "source": [
        "lammps_in = \"\"\"# 3d Lennard-Jones melt\n",
        "\n",
        "units           lj\n",
        "atom_style      atomic\n",
        "\n",
        "lattice         fcc 0.8442\n",
        "region          box block 0 20 0 20 0 20\n",
        "create_box      1 box\n",
        "create_atoms    1 box\n",
        "mass            1 1.0\n",
        "\n",
        "velocity        all create 1.44 87287 loop geom\n",
        "\n",
        "pair_style      lj/cut 2.5\n",
        "pair_coeff      1 1 1.0 1.0 2.5\n",
        "\n",
        "timestep        0.001\n",
        "thermo          100\n",
        "\n",
        "neighbor        0.3 bin\n",
        "neigh_modify    delay 0 every 20 check no\n",
        "\n",
        "fix             1 all nve\n",
        "\n",
        "run             1000\n",
        "\n",
        "\n",
        "write_dump all xyz system.xyz\n",
        "\"\"\"\n",
        "with open('lj_fluid.in', 'w') as f:\n",
        "  f.write(lammps_in)"
      ],
      "metadata": {
        "id": "84F00xVYTQI9"
      },
      "execution_count": null,
      "outputs": []
    },
    {
      "cell_type": "code",
      "source": [
        "%%time\n",
        "!lmp -in lj_fluid.in"
      ],
      "metadata": {
        "id": "ZHcyTt_bTQGS"
      },
      "execution_count": null,
      "outputs": []
    },
    {
      "cell_type": "markdown",
      "source": [
        "Exercise: Parse log.lammps and make plots"
      ],
      "metadata": {
        "id": "OlBsMYwSVYOf"
      }
    },
    {
      "cell_type": "markdown",
      "source": [
        "Now lets run this example using PyLammps"
      ],
      "metadata": {
        "id": "sx4OL_G0aimh"
      }
    },
    {
      "cell_type": "code",
      "source": [
        "from lammps import IPyLammps\n",
        "L = IPyLammps()\n",
        "# 3d Lennard-Jones melt\n",
        "\n",
        "L.units(\"lj\")\n",
        "L.atom_style(\"atomic\")\n",
        "\n",
        "L.lattice(\"fcc\", 0.8442)\n",
        "L.region(\"box\", \"block\", 0, 20, 0, 20, 0, 20)\n",
        "L.create_box(1, \"box\")\n",
        "L.create_atoms(1, \"box\")\n",
        "L.mass(1, 1.0)\n",
        "\n",
        "\n",
        "L.velocity(\"all\", \"create\", 1.44, 87287, \"loop geom\")\n",
        "\n",
        "L.pair_style(\"lj/cut\", 2.5)\n",
        "L.pair_coeff(1, 1, 1.0, 1.0, 2.5)\n",
        "\n",
        "\n",
        "\n",
        "\n",
        "L.timestep(0.001)\n",
        "L.thermo(100)\n",
        "L.neighbor(0.3, \"bin\")\n",
        "L.neigh_modify(\"delay\", 0, \"every\", 20, \"check no\")\n",
        "\n",
        "L.fix(\"1\", \"all\", \"nve\")\n",
        "\n"
      ],
      "metadata": {
        "id": "af6XBRKRTQDa"
      },
      "execution_count": null,
      "outputs": []
    },
    {
      "cell_type": "code",
      "source": [
        "L.image(zoom=1.0)"
      ],
      "metadata": {
        "id": "DzrnSf_5arqo"
      },
      "execution_count": null,
      "outputs": []
    },
    {
      "cell_type": "code",
      "source": [
        "L.run(1000)"
      ],
      "metadata": {
        "id": "CKhzSylharn4"
      },
      "execution_count": null,
      "outputs": []
    },
    {
      "cell_type": "code",
      "source": [
        "%matplotlib inline\n",
        "import matplotlib.pyplot as plt\n",
        "\n",
        "plt.xlabel('time step')\n",
        "plt.ylabel('Total Energy')\n",
        "plt.plot(L.runs[0].thermo.Step, L.runs[0].thermo.TotEng,'-o')"
      ],
      "metadata": {
        "id": "F8BCEFzdarlQ"
      },
      "execution_count": null,
      "outputs": []
    },
    {
      "cell_type": "markdown",
      "source": [
        "# Tensile test of Aluminum"
      ],
      "metadata": {
        "id": "9jyGdeWygc_e"
      }
    },
    {
      "cell_type": "code",
      "source": [
        "lammps_in = \"\"\"# Created by Nuwan Dewapriya on 2020-12-16\n",
        "\n",
        "# ------------------------ INITIALIZATION ----------------------------\n",
        "\n",
        "units \t\tmetal\n",
        "dimension\t3\n",
        "boundary\tp\tp\tp\n",
        "atom_style\tatomic\n",
        "variable \tlatparam equal 4.0320\n",
        "\n",
        "\n",
        "# ----------------------- ATOM DEFINITION----------------------------\n",
        "\n",
        "lattice\t\tfcc ${latparam}\n",
        "region\t\twhole block 0 10 0 10 0 10\n",
        "create_box\t1 whole\n",
        "lattice \tfcc ${latparam} orient x 1 0 0 orient y 0 1 0 orient z 0 0 1\n",
        "create_atoms\t1 region whole\n",
        "\n",
        "\n",
        "# ------------------------ FORCE FIELDS------------------------------\n",
        "\n",
        "pair_style \team/alloy\n",
        "pair_coeff \t* * Al_zhou.eam.alloy Al\n",
        "\n",
        "\n",
        "# ------------------------EQUILIBRATION---------------------------------\n",
        "\n",
        "variable \t\ttstp equal 0.001\n",
        "timestep \t\t${tstp}\n",
        "variable \t\ttdamp equal \"v_tstp * 100\"\n",
        "variable \t\tpdamp equal \"v_tstp * 1000\"\n",
        "\n",
        "fix\t\t1 all nve\n",
        "fix\t\t2 all langevin 300.0 300.0 ${tdamp} 904297\n",
        "\n",
        "thermo \t500\n",
        "run \t10000\n",
        "\n",
        "unfix \t1\n",
        "unfix \t2\n",
        "\n",
        "fix \t1 all npt temp 300 300 1 iso 0 0 1 drag 1\n",
        "\n",
        "thermo \t\t200\n",
        "thermo_style \tcustom step lx ly lz press pxx pyy pzz pe temp\n",
        "\n",
        "run \t10000\n",
        "unfix \t1\n",
        "\n",
        "variable \ttmp equal \"lx\"\n",
        "variable \tL0 equal ${tmp}\n",
        "\n",
        "\n",
        "# ------------------------DEFORMATION---------------------------------\n",
        "\n",
        "reset_timestep\t0\n",
        "fix\t\t1 all npt temp 300 300 ${tdamp} y 1 1 ${pdamp} z 1 1 ${pdamp} drag 1\n",
        "variable \tsrate equal 1.0e10\n",
        "variable \tsrate1 equal \"v_srate / 1.0e12\"\n",
        "fix\t\t2 all deform 1 x erate ${srate1} units box remap x\n",
        "\n",
        "\n",
        "# ------------------------OUTPUTS---------------------------------\n",
        "\n",
        "# for units metal, pressure is in [bars] = 100 [kPa] = 1/10000 [GPa]\n",
        "# for units real, pressure is in [atm] = 101.325 [kPa] = 1.01325/10000 [GPa]\n",
        "\n",
        "variable \tstrain equal \"(lx - v_L0)/v_L0\"\n",
        "variable \tp1 equal \"-pxx/10000\"\n",
        "variable \tp2 equal \"-pyy/10000\"\n",
        "variable \tp3 equal \"-pzz/10000\"\n",
        "\n",
        "fix \tprint all print 10 \"${strain} ${p1} ${p2} ${p3}\" file stress-strain.txt screen no\n",
        "\n",
        "dump            2 all atom 200 tensile_test_movie.lammpstrj\n",
        "\n",
        "thermo \t100\n",
        "thermo_style\tcustom step temp v_strain v_p1 v_p2 v_p3 ke pe press\n",
        "\n",
        "run\t\t20000\n",
        "\"\"\"\n",
        "with open('eam_al_tesile.in', 'w') as f:\n",
        "  f.write(lammps_in)"
      ],
      "metadata": {
        "id": "ptL0yRoka4WC"
      },
      "execution_count": null,
      "outputs": []
    },
    {
      "cell_type": "markdown",
      "source": [
        "Note: Importance of DFT data to parametrize EAM"
      ],
      "metadata": {
        "id": "1HFb3aJOlOOl"
      }
    },
    {
      "cell_type": "code",
      "source": [
        "!wget https://www.ctcms.nist.gov/~knc6/DOWNLOADS/Al_zhou.eam.alloy"
      ],
      "metadata": {
        "id": "3lxLIlUOjioE"
      },
      "execution_count": null,
      "outputs": []
    },
    {
      "cell_type": "code",
      "source": [
        "!wget https://figshare.com/ndownloader/files/42438840 -O Mishin-Ni-Al-2009.eam.alloy\n",
        ""
      ],
      "metadata": {
        "id": "7JkN9DuAkPa3"
      },
      "execution_count": null,
      "outputs": []
    },
    {
      "cell_type": "code",
      "source": [
        "!ls -altr"
      ],
      "metadata": {
        "id": "3DZej2kkkC3H"
      },
      "execution_count": null,
      "outputs": []
    },
    {
      "cell_type": "code",
      "source": [
        "# !wget https://raw.githubusercontent.com/nuwan-d/LAMMPS_tutorials_for_short_courses/main/aluminum_tensile_tests/Al_EA.eam.alloy"
      ],
      "metadata": {
        "id": "tn_nuOeog9t1"
      },
      "execution_count": null,
      "outputs": []
    },
    {
      "cell_type": "code",
      "source": [
        "%%time\n",
        "!lmp -in eam_al_tesile.in"
      ],
      "metadata": {
        "id": "s1pB47Tma4Tg"
      },
      "execution_count": null,
      "outputs": []
    },
    {
      "cell_type": "code",
      "source": [
        "import numpy as np\n",
        "import matplotlib.pyplot as plt\n",
        "\n",
        "# Reading the data\n",
        "with open('stress-strain.txt', 'r') as file:\n",
        "    # Skip the header\n",
        "    headings = file.readline().split()\n",
        "\n",
        "    # Read the rest of the data\n",
        "    data = np.loadtxt(file)\n",
        "\n",
        "# Extract columns\n",
        "strain = data[:, 0]\n",
        "stress_xx = data[:, 1]\n",
        "stress_yy = data[:, 2]\n",
        "stress_zz = data[:, 3]\n",
        "\n",
        "# Plotting\n",
        "plt.figure()\n",
        "plt.plot(strain, stress_xx, '-or', markersize=2, label='$\\sigma_{xx}$')\n",
        "plt.plot(strain, stress_yy, '-ob', markersize=2, label='$\\sigma_{yy}$')\n",
        "plt.plot(strain, stress_zz, '-og', markersize=2, label='$\\sigma_{zz}$')\n",
        "\n",
        "plt.xlabel('Strain', fontsize=12)\n",
        "plt.ylabel('Stress (GPa)', fontsize=12)\n",
        "plt.grid(True)\n",
        "# plt.gca().set_aspect('equal', adjustable='box')\n",
        "plt.legend(fontsize=14, frameon=False)\n",
        "\n",
        "plt.show()\n"
      ],
      "metadata": {
        "id": "rgFwFIoGa4RY"
      },
      "execution_count": null,
      "outputs": []
    },
    {
      "cell_type": "code",
      "source": [
        "!ls -altr tensile_test_movie.lammpstrj"
      ],
      "metadata": {
        "id": "p1RYvfZJa4Or"
      },
      "execution_count": null,
      "outputs": []
    },
    {
      "cell_type": "code",
      "source": [
        "ch_meam=\"\"\"# LAMMPS CH.meam file containing the MEAM CH parameters for saturated\n",
        "# hydrocarbons developed by Sasan Nouranian.\n",
        "# Reference: Physical Chemistry Chemical Physics, 16(13) (2014):6233-6249.\n",
        "# This file is used together with the library.meam file.\n",
        "\n",
        "rc = 3.000000\n",
        "delta(1,2) = 2.120000\n",
        "re(1,2) = 1.020000\n",
        "delr = 0.1\n",
        "alpha(1,2) = 3.200000\n",
        "lattce(1,2) = dim\n",
        "rho0(1) = 1.000000\n",
        "rho0(2) = 1.800000\n",
        "ialloy = 1\n",
        "emb_lin_neg = 1\n",
        "bkgd_dyn = 1\n",
        "erose_form = 0\n",
        "zbl(1,1) = -100\n",
        "zbl(1,2) = -100\n",
        "zbl(2,2) = -100\n",
        "augt1 = 0\n",
        "attrac(1,1) = 0.000000\n",
        "repuls(1,1) = 0.000000\n",
        "attrac(1,2) = 0.050000\n",
        "repuls(1,2) = 0.050000\n",
        "attrac(2,2) = 0.000000\n",
        "repuls(2,2) = 0.050000\n",
        "Cmin(1,1,1) = 2.000000\n",
        "Cmax(1,1,1) = 2.800000\n",
        "Cmin(1,1,2) = 2.000000\n",
        "Cmax(1,1,2) = 2.800000\n",
        "Cmin(1,2,1) = 0.445000\n",
        "Cmax(1,2,1) = 2.800000\n",
        "Cmin(1,2,2) = 1.500000\n",
        "Cmax(1,2,2) = 2.000000\n",
        "Cmin(2,2,1) = 0.520000\n",
        "Cmax(2,2,1) = 2.200000\n",
        "Cmin(2,2,2) = 0.750000\n",
        "Cmax(2,2,2) = 2.800000\n",
        "\"\"\"\n",
        "\n",
        "\n",
        "lib_meam=\"\"\"# LAMMPS library.meam file containing MEAM C and H parameters for saturated\n",
        "# hydrocarbons developed by Sasan Nouranian.\n",
        "# Reference: Physical Chemistry Chemical Physics, 16(13) (2014):6233-6249.\n",
        "# This file is used together with the CH.meam file.\n",
        "\n",
        "# elt        lat     z       ielement     atwt\n",
        "# alpha      b0      b1      b2           b3    alat    esub    asub\n",
        "# t0         t1              t2           t3            rozero  ibar\n",
        "\n",
        "'C' 'dia' 4 6 12.011100\n",
        "3.600000 4.200000 4.500000 4.300000 4.180000 3.325000 7.370000 0.640000\n",
        "1.000000 0.500000 0.450000 -3.800000 1.000000 -5\n",
        "'H' 'dim' 1 1 1.007900\n",
        "2.038800 2.720000 2.045000 2.250000 3.000000 0.740000 2.363000 2.500000\n",
        "1.000000 0.200000 -0.400000 0.000001 1.500000 -5\n",
        "\"\"\"\n",
        "data_in=\"\"\"# nc1cl10\n",
        "\n",
        "62 atoms\n",
        "-2.377300 5.360300 xlo xhi\n",
        "0.590000 21.363700 ylo yhi\n",
        "-2.163700 3.024900 zlo zhi\n",
        "\n",
        "2 atom types\n",
        "\n",
        "Masses\n",
        "\n",
        "1 12.0111\n",
        "2 1.0079\n",
        "\n",
        "Atoms\n",
        "\n",
        "    1    1     1.000000     1.540000     0.000000\n",
        "    2    1     2.456100     2.041400     0.000000\n",
        "    3    1     1.538500     4.082700    -1.130600\n",
        "    4    1     2.456100     3.581400     0.000000\n",
        "    5    1     1.538500     5.622700    -1.130600\n",
        "    6    1     0.370100     6.124100    -0.261600\n",
        "    7    1     0.370100     7.664100    -0.261600\n",
        "    8    1    -0.875500     8.165500     0.492500\n",
        "    9    1    -0.875500     9.705500     0.492500\n",
        "   10    1    -1.359100    10.206800    -0.881000\n",
        "   11    1    -1.359100    11.746800    -0.881000\n",
        "   12    1     0.095700    12.248200    -0.944400\n",
        "   13    1     0.095700    13.788200    -0.944400\n",
        "   14    1     1.468100    14.289600    -0.458000\n",
        "   15    1     2.898200    16.331000    -0.183900\n",
        "   16    1     1.468100    15.829600    -0.458000\n",
        "   17    1     2.898200    17.871000    -0.183900\n",
        "   18    1     3.201500    18.372300     1.240300\n",
        "   19    1     4.452800    20.413700     1.985000\n",
        "   20    1     3.201500    19.912300     1.240300\n",
        "   21    2     1.000000     0.590000     0.000000\n",
        "   22    2     0.480000     1.898100     0.900700\n",
        "   23    2     0.480000     1.898100    -0.900700\n",
        "   24    2     2.964000     1.666300    -0.900700\n",
        "   25    2     2.964000     1.666300     0.900700\n",
        "   26    2     1.910100     3.724600    -2.102000\n",
        "   27    2     0.511400     3.724600    -0.966700\n",
        "   28    2     2.076800     3.956500     0.962000\n",
        "   29    2     3.475500     3.956500    -0.173300\n",
        "   30    2     1.418200     5.980900    -2.163700\n",
        "   31    2     2.493300     5.980900    -0.718200\n",
        "   32    2     0.500100     5.749000     0.764300\n",
        "   33    2    -0.575000     5.749000    -0.681200\n",
        "   34    2     0.348500     8.022200    -1.301400\n",
        "   35    2     1.281400     8.022200     0.239700\n",
        "   36    2    -0.843600     7.790400     1.526100\n",
        "   37    2    -1.776500     7.790400    -0.015000\n",
        "   38    2     0.146800    10.063600     0.683900\n",
        "   39    2    -1.552500    10.063600     1.282100\n",
        "   40    2    -2.377300     9.831700    -1.061000\n",
        "   41    2    -0.678100     9.831700    -1.659200\n",
        "   42    2    -1.839400    12.105000     0.041600\n",
        "   43    2    -1.917800    12.105000    -1.758200\n",
        "   44    2     0.563900    11.873100    -1.866400\n",
        "   45    2     0.642300    11.873100    -0.066600\n",
        "   46    2    -0.695400    14.146300    -0.269100\n",
        "   47    2    -0.093600    14.146300    -1.967100\n",
        "   48    2     2.247700    13.914500    -1.137300\n",
        "   49    2     1.646000    13.914500     0.560700\n",
        "   50    2     3.239400    15.972800     0.798600\n",
        "   51    2     3.578500    15.972800    -0.970600\n",
        "   52    2     1.138800    16.204700    -1.438200\n",
        "   53    2     0.799700    16.204700     0.331100\n",
        "   54    2     1.908900    18.229100    -0.504900\n",
        "   55    2     3.670800    18.229100    -0.880100\n",
        "   56    2     4.188300    17.997200     1.549400\n",
        "   57    2     2.426400    17.997200     1.924700\n",
        "   58    2     4.452800    21.363700     1.985000\n",
        "   59    2     4.439000    20.055600     3.024900\n",
        "   60    2     5.360300    20.055600     1.476900\n",
        "   61    2     3.225700    20.287400     0.206500\n",
        "   62    2     2.304400    20.287400     1.754500\n",
        "\"\"\"\n",
        "lammps_in=\"\"\"#Initialization\n",
        "\n",
        "units metal\n",
        "boundary s s s\n",
        "atom_style atomic\n",
        "read_data polymer.data\n",
        "\n",
        "# Meam Potential for Saturated Hydrocarbons Information\n",
        "\n",
        "pair_style meam\n",
        "pair_coeff * * library.meam C H CH.meam C H\n",
        "\n",
        "##################################################################################\n",
        "#Minimization\n",
        "\n",
        "minimize 0.0 1.0e-8 100000 100000\n",
        "\n",
        "# Equilibration\n",
        "\n",
        "reset_timestep 0\n",
        "velocity \t\tall create 0.0 1231 dist gaussian\n",
        "fix \t\t\t1 all nve\n",
        "fix \t\t\t2 all langevin 0 0 0.001 904297\n",
        "thermo_style \tcustom step etotal press vol temp density pxx pyy pzz\n",
        "thermo\t  \t100\n",
        "timestep \t\t0.0003\n",
        "run \t\t\t20000\n",
        "unfix 1\n",
        "unfix 2\n",
        "\n",
        "######################################################################\n",
        "# Deformation\n",
        "\n",
        "run 0\n",
        "reset_timestep 0\n",
        "\n",
        "#Define Variables\n",
        "\n",
        "variable \tyl equal \"ylo+1\"\n",
        "variable \tyh equal \"yhi-1\"\n",
        "variable \tyh2 equal \"yhi*3\"\n",
        "variable \ty_step equal \"yhi/2\"\n",
        "\n",
        "variable \tp3 equal \"ly\"\n",
        "variable \tL0 equal ${p3}\n",
        "variable \tstrain equal \"(ly - v_L0)/v_L0\"\n",
        "variable \tp1 equal v_strain\n",
        "variable \tp2 equal \"-pyy/10\"\n",
        "\n",
        "# define groups\n",
        "\n",
        "region   \t1 block INF INF INF ${yl} INF INF\n",
        "group\t\twall region 1\n",
        "region\t2 block INF INF ${yh} INF INF INF\n",
        "group\t\tpull region 2\n",
        "group\t\tboundary union wall pull\n",
        "group\t\tmobile subtract all wall pull\n",
        "\n",
        "# computes\n",
        "\n",
        "compute peratom all stress/atom NULL pair\n",
        "\n",
        "# initial velocities\n",
        "\n",
        "velocity\tmobile create 0.01 887723\n",
        "velocity\tpull set 0.0 .5 0.0\n",
        "velocity\tmobile ramp vy 0 ${y_step} y 0 ${yh2} sum yes\n",
        "\n",
        "# fixes\n",
        "\n",
        "fix\tf1 all nve\n",
        "fix \tftemp all langevin 25 25 0.05 904297\n",
        "fix\tf2 boundary setforce NULL 0.0 0.0\n",
        "\n",
        "# Dump\n",
        "dump 100 all custom 1000 stress_per_atom.txt id type x y z c_peratom[1] c_peratom[2] c_peratom[3] c_peratom[4] c_peratom[5] c_peratom[6]\n",
        "fix def1 all print 100 \"${p1} ${p2}\" file Stress_strain.def1.txt screen no\n",
        "\n",
        "thermo_style custom step temp pyy lx ly lz v_strain\n",
        "thermo 1000\n",
        "timestep 0.0005\n",
        "run   50000\n",
        "\n",
        "print \"All Done\"\n",
        "\n",
        "\n",
        "\n",
        "\n",
        "\"\"\"\n",
        "with open('polymer.in', 'w') as f:\n",
        "  f.write(lammps_in)\n",
        "with open('polymer.data', 'w') as f:\n",
        "  f.write(data_in)\n",
        "\n",
        "with open('library.meam', 'w') as f:\n",
        "  f.write(lib_meam)\n",
        "\n",
        "with open('CH.meam', 'w') as f:\n",
        "  f.write(ch_meam)"
      ],
      "metadata": {
        "id": "jJlmCRQdlqm6"
      },
      "execution_count": null,
      "outputs": []
    },
    {
      "cell_type": "code",
      "source": [
        "%%time\n",
        "!lmp -in polymer.in"
      ],
      "metadata": {
        "id": "fA9eWOzelqki"
      },
      "execution_count": null,
      "outputs": []
    },
    {
      "cell_type": "code",
      "source": [
        "!ls -altr"
      ],
      "metadata": {
        "id": "BfLxO0YSlqiQ"
      },
      "execution_count": null,
      "outputs": []
    },
    {
      "cell_type": "code",
      "source": [
        "import matplotlib.pyplot as plt\n",
        "\n",
        "# Initialize lists to store the data\n",
        "x_values = []\n",
        "y_values = []\n",
        "\n",
        "# Read the data from the file\n",
        "with open('Stress_strain.def1.txt', 'r') as file:\n",
        "    lines = file.readlines()\n",
        "    for line in lines:\n",
        "        if line.startswith('#'):\n",
        "            continue\n",
        "        parts = line.split()\n",
        "        x_values.append(float(parts[0]))\n",
        "        y_values.append(float(parts[1]))\n",
        "\n",
        "# Plot the data\n",
        "plt.figure(figsize=(10, 6))\n",
        "plt.plot(x_values, y_values, 'o-', label='Data Points')\n",
        "plt.ylabel('Stress')\n",
        "plt.xlabel('Strain')\n",
        "\n",
        "plt.legend()\n",
        "plt.grid(True)\n",
        "plt.show()\n"
      ],
      "metadata": {
        "id": "ahibYgL8lqf4"
      },
      "execution_count": null,
      "outputs": []
    },
    {
      "cell_type": "code",
      "source": [],
      "metadata": {
        "id": "s-Y388AplqdS"
      },
      "execution_count": null,
      "outputs": []
    },
    {
      "cell_type": "code",
      "source": [],
      "metadata": {
        "id": "URyuPyDOlqat"
      },
      "execution_count": null,
      "outputs": []
    },
    {
      "cell_type": "code",
      "source": [],
      "metadata": {
        "id": "rXj9NfKN_9Wj"
      },
      "execution_count": null,
      "outputs": []
    }
  ]
}