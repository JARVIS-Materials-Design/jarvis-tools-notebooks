{
  "nbformat": 4,
  "nbformat_minor": 0,
  "metadata": {
    "colab": {
      "name": "JARVIS-QuantumEspressoColab-Designing High-Tc Superconductors with BCS-inspired Screening, Density Functional Theory and Deep-learning.ipynb",
      "provenance": [],
      "authorship_tag": "ABX9TyMJnZ7+3QnZu30+snz0z35f",
      "include_colab_link": true
    },
    "kernelspec": {
      "name": "python3",
      "display_name": "Python 3"
    },
    "language_info": {
      "name": "python"
    }
  },
  "cells": [
    {
      "cell_type": "markdown",
      "metadata": {
        "id": "view-in-github",
        "colab_type": "text"
      },
      "source": [
        "<a href=\"https://colab.research.google.com/github/knc6/jarvis-tools-notebooks/blob/master/jarvis-tools-notebooks/JARVIS_QuantumEspressoColab_Basic_Example.ipynb\" target=\"_parent\"><img src=\"https://colab.research.google.com/assets/colab-badge.svg\" alt=\"Open In Colab\"/></a>"
      ]
    },
    {
      "cell_type": "markdown",
      "source": [
        "# Run Quantum espresso calculations with JARVIS-Tools"
      ],
      "metadata": {
        "id": "JIugyjg85Eep"
      }
    },
    {
      "cell_type": "code",
      "execution_count": 1,
      "metadata": {
        "colab": {
          "base_uri": "https://localhost:8080/"
        },
        "id": "9CNO-RGBxCqi",
        "outputId": "a0bd0660-f40a-4b48-cc4d-3d291cc8d6f8"
      },
      "outputs": [
        {
          "output_type": "stream",
          "name": "stdout",
          "text": [
            "Looking in indexes: https://pypi.org/simple, https://us-python.pkg.dev/colab-wheels/public/simple/\n",
            "Collecting jarvis-tools\n",
            "  Downloading jarvis_tools-2023.5.26-py2.py3-none-any.whl (974 kB)\n",
            "\u001b[2K     \u001b[90m━━━━━━━━━━━━━━━━━━━━━━━━━━━━━━━━━━━━━━\u001b[0m \u001b[32m974.6/974.6 kB\u001b[0m \u001b[31m18.6 MB/s\u001b[0m eta \u001b[36m0:00:00\u001b[0m\n",
            "\u001b[?25hRequirement already satisfied: numpy>=1.19.5 in /usr/local/lib/python3.10/dist-packages (from jarvis-tools) (1.22.4)\n",
            "Requirement already satisfied: scipy>=1.4.1 in /usr/local/lib/python3.10/dist-packages (from jarvis-tools) (1.10.1)\n",
            "Requirement already satisfied: matplotlib>=3.0.0 in /usr/local/lib/python3.10/dist-packages (from jarvis-tools) (3.7.1)\n",
            "Collecting spglib>=1.14.1 (from jarvis-tools)\n",
            "  Downloading spglib-2.0.2-cp310-cp310-manylinux_2_17_x86_64.manylinux2014_x86_64.whl (515 kB)\n",
            "\u001b[2K     \u001b[90m━━━━━━━━━━━━━━━━━━━━━━━━━━━━━━━━━━━━━━\u001b[0m \u001b[32m515.3/515.3 kB\u001b[0m \u001b[31m29.9 MB/s\u001b[0m eta \u001b[36m0:00:00\u001b[0m\n",
            "\u001b[?25hRequirement already satisfied: joblib>=0.14.1 in /usr/local/lib/python3.10/dist-packages (from jarvis-tools) (1.2.0)\n",
            "Requirement already satisfied: requests>=2.23.0 in /usr/local/lib/python3.10/dist-packages (from jarvis-tools) (2.27.1)\n",
            "Requirement already satisfied: toolz>=0.9.0 in /usr/local/lib/python3.10/dist-packages (from jarvis-tools) (0.12.0)\n",
            "Collecting xmltodict>=0.11.0 (from jarvis-tools)\n",
            "  Downloading xmltodict-0.13.0-py2.py3-none-any.whl (10.0 kB)\n",
            "Requirement already satisfied: tqdm>=4.41.1 in /usr/local/lib/python3.10/dist-packages (from jarvis-tools) (4.65.0)\n",
            "Requirement already satisfied: contourpy>=1.0.1 in /usr/local/lib/python3.10/dist-packages (from matplotlib>=3.0.0->jarvis-tools) (1.0.7)\n",
            "Requirement already satisfied: cycler>=0.10 in /usr/local/lib/python3.10/dist-packages (from matplotlib>=3.0.0->jarvis-tools) (0.11.0)\n",
            "Requirement already satisfied: fonttools>=4.22.0 in /usr/local/lib/python3.10/dist-packages (from matplotlib>=3.0.0->jarvis-tools) (4.39.3)\n",
            "Requirement already satisfied: kiwisolver>=1.0.1 in /usr/local/lib/python3.10/dist-packages (from matplotlib>=3.0.0->jarvis-tools) (1.4.4)\n",
            "Requirement already satisfied: packaging>=20.0 in /usr/local/lib/python3.10/dist-packages (from matplotlib>=3.0.0->jarvis-tools) (23.1)\n",
            "Requirement already satisfied: pillow>=6.2.0 in /usr/local/lib/python3.10/dist-packages (from matplotlib>=3.0.0->jarvis-tools) (8.4.0)\n",
            "Requirement already satisfied: pyparsing>=2.3.1 in /usr/local/lib/python3.10/dist-packages (from matplotlib>=3.0.0->jarvis-tools) (3.0.9)\n",
            "Requirement already satisfied: python-dateutil>=2.7 in /usr/local/lib/python3.10/dist-packages (from matplotlib>=3.0.0->jarvis-tools) (2.8.2)\n",
            "Requirement already satisfied: urllib3<1.27,>=1.21.1 in /usr/local/lib/python3.10/dist-packages (from requests>=2.23.0->jarvis-tools) (1.26.15)\n",
            "Requirement already satisfied: certifi>=2017.4.17 in /usr/local/lib/python3.10/dist-packages (from requests>=2.23.0->jarvis-tools) (2022.12.7)\n",
            "Requirement already satisfied: charset-normalizer~=2.0.0 in /usr/local/lib/python3.10/dist-packages (from requests>=2.23.0->jarvis-tools) (2.0.12)\n",
            "Requirement already satisfied: idna<4,>=2.5 in /usr/local/lib/python3.10/dist-packages (from requests>=2.23.0->jarvis-tools) (3.4)\n",
            "Requirement already satisfied: six>=1.5 in /usr/local/lib/python3.10/dist-packages (from python-dateutil>=2.7->matplotlib>=3.0.0->jarvis-tools) (1.16.0)\n",
            "Installing collected packages: xmltodict, spglib, jarvis-tools\n",
            "Successfully installed jarvis-tools-2023.5.26 spglib-2.0.2 xmltodict-0.13.0\n"
          ]
        }
      ],
      "source": [
        "!pip install jarvis-tools"
      ]
    },
    {
      "cell_type": "code",
      "source": [
        "%%time\n",
        "import os\n",
        "# Clone the QE git\n",
        "if not os.path.exists('q-e'):\n",
        "   os.system('git clone https://github.com/QEF/q-e.git')\n",
        "# Install the dependencies\n",
        "!apt-get install -y libfftw3-3 libfftw3-dev libfftw3-doc\n",
        "%cd q-e\n",
        "# run the configure file\n",
        "!DFLAGS='-D__OPENMP -D__FFTW3 -D__MPI -D__SCALAPACK' FFT_LIBS='-lfftw3'  ./configure --enable-openmp\n",
        "! make pw"
      ],
      "metadata": {
        "colab": {
          "base_uri": "https://localhost:8080/"
        },
        "id": "wnTJPQJyxE0r",
        "outputId": "f1201679-4447-40c9-fc98-936f775fc650"
      },
      "execution_count": null,
      "outputs": [
        {
          "output_type": "stream",
          "name": "stdout",
          "text": [
            "Reading package lists... Done\n",
            "Building dependency tree       \n",
            "Reading state information... Done\n",
            "The following additional packages will be installed:\n",
            "  libfftw3-bin libfftw3-long3 libfftw3-quad3 libfftw3-single3\n",
            "The following NEW packages will be installed:\n",
            "  libfftw3-3 libfftw3-bin libfftw3-dev libfftw3-doc libfftw3-long3\n",
            "  libfftw3-quad3 libfftw3-single3\n",
            "0 upgraded, 7 newly installed, 0 to remove and 38 not upgraded.\n",
            "Need to get 4,251 kB of archives.\n",
            "After this operation, 23.9 MB of additional disk space will be used.\n",
            "Get:1 http://archive.ubuntu.com/ubuntu focal/main amd64 libfftw3-long3 amd64 3.3.8-2ubuntu1 [313 kB]\n",
            "Get:2 http://archive.ubuntu.com/ubuntu focal/main amd64 libfftw3-single3 amd64 3.3.8-2ubuntu1 [756 kB]\n",
            "Get:3 http://archive.ubuntu.com/ubuntu focal/universe amd64 libfftw3-3 amd64 3.3.8-2ubuntu1 [1,760 B]\n",
            "Get:4 http://archive.ubuntu.com/ubuntu focal/main amd64 libfftw3-quad3 amd64 3.3.8-2ubuntu1 [673 kB]\n",
            "Get:5 http://archive.ubuntu.com/ubuntu focal/main amd64 libfftw3-bin amd64 3.3.8-2ubuntu1 [32.2 kB]\n",
            "Get:6 http://archive.ubuntu.com/ubuntu focal/main amd64 libfftw3-dev amd64 3.3.8-2ubuntu1 [2,211 kB]\n",
            "Get:7 http://archive.ubuntu.com/ubuntu focal/main amd64 libfftw3-doc all 3.3.8-2ubuntu1 [263 kB]\n",
            "Fetched 4,251 kB in 2s (2,379 kB/s)\n",
            "Selecting previously unselected package libfftw3-long3:amd64.\n",
            "(Reading database ... 122541 files and directories currently installed.)\n",
            "Preparing to unpack .../0-libfftw3-long3_3.3.8-2ubuntu1_amd64.deb ...\n",
            "Unpacking libfftw3-long3:amd64 (3.3.8-2ubuntu1) ...\n",
            "Selecting previously unselected package libfftw3-single3:amd64.\n",
            "Preparing to unpack .../1-libfftw3-single3_3.3.8-2ubuntu1_amd64.deb ...\n",
            "Unpacking libfftw3-single3:amd64 (3.3.8-2ubuntu1) ...\n",
            "Selecting previously unselected package libfftw3-3:amd64.\n",
            "Preparing to unpack .../2-libfftw3-3_3.3.8-2ubuntu1_amd64.deb ...\n",
            "Unpacking libfftw3-3:amd64 (3.3.8-2ubuntu1) ...\n",
            "Selecting previously unselected package libfftw3-quad3:amd64.\n",
            "Preparing to unpack .../3-libfftw3-quad3_3.3.8-2ubuntu1_amd64.deb ...\n",
            "Unpacking libfftw3-quad3:amd64 (3.3.8-2ubuntu1) ...\n",
            "Selecting previously unselected package libfftw3-bin.\n",
            "Preparing to unpack .../4-libfftw3-bin_3.3.8-2ubuntu1_amd64.deb ...\n",
            "Unpacking libfftw3-bin (3.3.8-2ubuntu1) ...\n",
            "Selecting previously unselected package libfftw3-dev:amd64.\n",
            "Preparing to unpack .../5-libfftw3-dev_3.3.8-2ubuntu1_amd64.deb ...\n",
            "Unpacking libfftw3-dev:amd64 (3.3.8-2ubuntu1) ...\n",
            "Selecting previously unselected package libfftw3-doc.\n",
            "Preparing to unpack .../6-libfftw3-doc_3.3.8-2ubuntu1_all.deb ...\n",
            "Unpacking libfftw3-doc (3.3.8-2ubuntu1) ...\n",
            "Setting up libfftw3-single3:amd64 (3.3.8-2ubuntu1) ...\n",
            "Setting up libfftw3-long3:amd64 (3.3.8-2ubuntu1) ...\n",
            "Setting up libfftw3-quad3:amd64 (3.3.8-2ubuntu1) ...\n",
            "Setting up libfftw3-3:amd64 (3.3.8-2ubuntu1) ...\n",
            "Setting up libfftw3-doc (3.3.8-2ubuntu1) ...\n",
            "Setting up libfftw3-bin (3.3.8-2ubuntu1) ...\n",
            "Setting up libfftw3-dev:amd64 (3.3.8-2ubuntu1) ...\n",
            "Processing triggers for man-db (2.9.1-1) ...\n",
            "Processing triggers for libc-bin (2.31-0ubuntu9.9) ...\n",
            "/content/q-e\n",
            "directory QEHeat/src : ok\n",
            "directory ACFDT/src : not present in /content/q-e/install\n",
            "directory KCW/PP : ok\n",
            "all dependencies updated successfully\n",
            "checking build system type... x86_64-pc-linux-gnu\n",
            "checking ARCH... x86_64\n",
            "checking setting AR... ... ar\n",
            "checking setting ARFLAGS... ... ruv\n",
            "checking for gfortran... gfortran\n",
            "checking whether the Fortran compiler works... yes\n",
            "checking for Fortran compiler default output file name... a.out\n",
            "checking for suffix of executables... \n",
            "checking whether we are cross compiling... no\n",
            "checking for suffix of object files... o\n",
            "checking whether we are using the GNU Fortran compiler... yes\n",
            "checking whether gfortran accepts -g... yes\n",
            "checking for Fortran flag to compile .f90 files... none\n",
            "checking for mpiifort... no\n",
            "checking for mpif90... mpif90\n",
            "checking whether we are using the GNU Fortran compiler... yes\n",
            "checking whether mpif90 accepts -g... yes\n",
            "checking version of mpif90... gfortran 9.4\n",
            "setting F90... gfortran\n",
            "setting MPIF90... mpif90\n",
            "checking for cc... cc\n",
            "checking whether we are using the GNU C compiler... yes\n",
            "checking whether cc accepts -g... yes\n",
            "checking for cc option to accept ISO C89... none needed\n",
            "setting CC... cc\n",
            "setting CFLAGS... -O3\n",
            "using F90... gfortran\n",
            "setting FFLAGS... -O3 -g -fopenmp\n",
            "setting F90FLAGS... $(FFLAGS) -cpp -fopenmp\n",
            "setting FFLAGS_NOOPT... -O0 -g\n",
            "setting CPP... cpp\n",
            "setting CPPFLAGS... -P -traditional -Uvector\n",
            "setting LD... mpif90\n",
            "setting LDFLAGS... -g -pthread -fopenmp\n",
            "checking whether make sets $(MAKE)... yes\n",
            "checking whether Fortran files must be preprocessed... no\n",
            "checking for library containing dgemm... -lmkl_gf_lp64\n",
            "setting BLAS_LIBS... -lmkl_gf_lp64 -lmkl_gnu_thread -lmkl_core\n",
            "checking FFT... using FFT_LIBS with no testing ... \n",
            "BEWARE: FFT not explicitly selected, verify your DFLAGS= line\n",
            "-lfftw3\n",
            "checking MASS... \n",
            "checking for library containing mpi_init... none required\n",
            "checking for library containing pdgemr2d... no\n",
            "checking for library containing pdgemr2d... -lmkl_scalapack_lp64\n",
            "checking ELPA... \n",
            "checking for Environ... not used\n",
            "checking if legacy plugins are enabled ...  no\n",
            "checking for ranlib... ranlib\n",
            "checking for wget... wget -O\n",
            "setting WGET... wget -O\n",
            "checking for git... git\n",
            "Source files are cloned from a git repository.\n",
            "On git branch develop\n",
            "On git commit hash 6c803470bc754885ff315c5fb5ba669cf3760c2e\n",
            "Submodule 'external/d3q' (https://github.com/anharmonic/d3q.git) registered for path 'external/d3q'\n",
            "Submodule 'external/devxlib' (https://gitlab.com/max-centre/components/devicexlib.git) registered for path 'external/devxlib'\n",
            "Submodule 'external/fox' (https://github.com/pietrodelugas/fox.git) registered for path 'external/fox'\n",
            "Submodule 'external/lapack' (https://github.com/Reference-LAPACK/lapack.git) registered for path 'external/lapack'\n",
            "Submodule 'external/mbd' (https://github.com/libmbd/libmbd.git) registered for path 'external/mbd'\n",
            "Submodule 'external/pw2qmcpack' (https://github.com/QMCPACK/pw2qmcpack.git) registered for path 'external/pw2qmcpack'\n",
            "Submodule 'external/qe-gipaw' (https://github.com/dceresoli/qe-gipaw) registered for path 'external/qe-gipaw'\n",
            "Submodule 'external/wannier90' (https://github.com/wannier-developers/wannier90.git) registered for path 'external/wannier90'\n",
            "setting DFLAGS... -D__MPI -D__SCALAPACK\n",
            "setting IFLAGS... -I. -I$(TOPDIR)/include\n",
            "configure: creating ./config.status\n",
            "config.status: creating install/make_lapack.inc\n",
            "config.status: creating include/configure.h\n",
            "config.status: creating make.inc\n",
            "config.status: creating configure.msg\n",
            "config.status: creating install/make_wannier90.inc\n",
            "config.status: creating include/qe_cdefs.h\n",
            "--------------------------------------------------------------------\n",
            "ESPRESSO can take advantage of several optimized numerical libraries\n",
            "(essl, fftw, mkl...).  This configure script attempts to find them,\n",
            "but may fail if they have been installed in non-standard locations.\n",
            "If a required library is not found, the local copy will be compiled.\n",
            "\n",
            "The following libraries have been found:\n",
            "  BLAS_LIBS=  -lmkl_gf_lp64  -lmkl_gnu_thread -lmkl_core\n",
            "  LAPACK_LIBS=\n",
            "  SCALAPACK_LIBS=-lmkl_scalapack_lp64 -lmkl_blacs_openmpi_lp64\n",
            "  FFT_LIBS=-lfftw3\n",
            "  \n",
            "  \n",
            "\n",
            "Please check if this is what you expect.\n",
            "\n",
            "If any libraries are missing, you may specify a list of directories\n",
            "to search and retry, as follows:\n",
            "  ./configure LIBDIRS=\"list of directories, separated by spaces\"\n",
            "\n",
            "Parallel environment detected successfully.\\\n",
            "Configured for compilation of parallel executables.\n",
            "\n",
            "For more info, read the ESPRESSO User's Guide (Doc/users-guide.tex).\n",
            "--------------------------------------------------------------------\n",
            "configure: success\n",
            "test -d bin || mkdir bin\n",
            "( cd UtilXlib ; make TLDEPS= all || exit 1 )\n",
            "make[1]: Entering directory '/content/q-e/UtilXlib'\n",
            "mpif90 -O3 -g -fopenmp -cpp -fopenmp -D__OPENMP -D__FFTW3 -D__MPI -D__SCALAPACK  -I/content/q-e//external/devxlib/src -I. -I/content/q-e//include -I. -c parallel_include.f90\n",
            "\u001b[01m\u001b[Kf951:\u001b[m\u001b[K \u001b[01;35m\u001b[KWarning:\u001b[m\u001b[K Nonexistent include directory ‘\u001b[01m\u001b[K/content/q-e//external/devxlib/src\u001b[m\u001b[K’ [\u001b[01;35m\u001b[K-Wmissing-include-dirs\u001b[m\u001b[K]\n",
            "mpif90 -O3 -g -fopenmp -cpp -fopenmp -D__OPENMP -D__FFTW3 -D__MPI -D__SCALAPACK  -I/content/q-e//external/devxlib/src -I. -I/content/q-e//include -I. -c util_param.f90\n",
            "\u001b[01m\u001b[Kf951:\u001b[m\u001b[K \u001b[01;35m\u001b[KWarning:\u001b[m\u001b[K Nonexistent include directory ‘\u001b[01m\u001b[K/content/q-e//external/devxlib/src\u001b[m\u001b[K’ [\u001b[01;35m\u001b[K-Wmissing-include-dirs\u001b[m\u001b[K]\n",
            "mpif90 -O3 -g -fopenmp -cpp -fopenmp -D__OPENMP -D__FFTW3 -D__MPI -D__SCALAPACK  -I/content/q-e//external/devxlib/src -I. -I/content/q-e//include -I. -c clib_wrappers.f90\n",
            "\u001b[01m\u001b[Kf951:\u001b[m\u001b[K \u001b[01;35m\u001b[KWarning:\u001b[m\u001b[K Nonexistent include directory ‘\u001b[01m\u001b[K/content/q-e//external/devxlib/src\u001b[m\u001b[K’ [\u001b[01;35m\u001b[K-Wmissing-include-dirs\u001b[m\u001b[K]\n",
            "mpif90 -O3 -g -fopenmp -cpp -fopenmp -D__OPENMP -D__FFTW3 -D__MPI -D__SCALAPACK  -I/content/q-e//external/devxlib/src -I. -I/content/q-e//include -I. -c nvtx_wrapper.f90\n",
            "\u001b[01m\u001b[Kf951:\u001b[m\u001b[K \u001b[01;35m\u001b[KWarning:\u001b[m\u001b[K Nonexistent include directory ‘\u001b[01m\u001b[K/content/q-e//external/devxlib/src\u001b[m\u001b[K’ [\u001b[01;35m\u001b[K-Wmissing-include-dirs\u001b[m\u001b[K]\n",
            "mpif90 -O3 -g -fopenmp -cpp -fopenmp -D__OPENMP -D__FFTW3 -D__MPI -D__SCALAPACK  -I/content/q-e//external/devxlib/src -I. -I/content/q-e//include -I. -c clocks_handler.f90\n",
            "\u001b[01m\u001b[Kf951:\u001b[m\u001b[K \u001b[01;35m\u001b[KWarning:\u001b[m\u001b[K Nonexistent include directory ‘\u001b[01m\u001b[K/content/q-e//external/devxlib/src\u001b[m\u001b[K’ [\u001b[01;35m\u001b[K-Wmissing-include-dirs\u001b[m\u001b[K]\n",
            "cc -O3 -D__OPENMP -D__FFTW3 -D__MPI -D__SCALAPACK -I. -I/content/q-e//include   -c cptimer.c\n",
            "cc -O3 -D__OPENMP -D__FFTW3 -D__MPI -D__SCALAPACK -I. -I/content/q-e//include   -c copy.c\n",
            "cc -O3 -D__OPENMP -D__FFTW3 -D__MPI -D__SCALAPACK -I. -I/content/q-e//include   -c c_mkdir.c\n",
            "mpif90 -O3 -g -fopenmp -cpp -fopenmp -D__OPENMP -D__FFTW3 -D__MPI -D__SCALAPACK  -I/content/q-e//external/devxlib/src -I. -I/content/q-e//include -I. -c device_helper.f90\n",
            "\u001b[01m\u001b[Kf951:\u001b[m\u001b[K \u001b[01;35m\u001b[KWarning:\u001b[m\u001b[K Nonexistent include directory ‘\u001b[01m\u001b[K/content/q-e//external/devxlib/src\u001b[m\u001b[K’ [\u001b[01;35m\u001b[K-Wmissing-include-dirs\u001b[m\u001b[K]\n",
            "mpif90 -O3 -g -fopenmp -cpp -fopenmp -D__OPENMP -D__FFTW3 -D__MPI -D__SCALAPACK  -I/content/q-e//external/devxlib/src -I. -I/content/q-e//include -I. -c mp.f90\n",
            "\u001b[01m\u001b[Kf951:\u001b[m\u001b[K \u001b[01;35m\u001b[KWarning:\u001b[m\u001b[K Nonexistent include directory ‘\u001b[01m\u001b[K/content/q-e//external/devxlib/src\u001b[m\u001b[K’ [\u001b[01;35m\u001b[K-Wmissing-include-dirs\u001b[m\u001b[K]\n",
            "mpif90 -O3 -g -fopenmp -cpp -fopenmp -D__OPENMP -D__FFTW3 -D__MPI -D__SCALAPACK  -I/content/q-e//external/devxlib/src -I. -I/content/q-e//include -I. -c divide.f90\n",
            "\u001b[01m\u001b[Kf951:\u001b[m\u001b[K \u001b[01;35m\u001b[KWarning:\u001b[m\u001b[K Nonexistent include directory ‘\u001b[01m\u001b[K/content/q-e//external/devxlib/src\u001b[m\u001b[K’ [\u001b[01;35m\u001b[K-Wmissing-include-dirs\u001b[m\u001b[K]\n",
            "mpif90 -O3 -g -fopenmp -cpp -fopenmp -D__OPENMP -D__FFTW3 -D__MPI -D__SCALAPACK  -I/content/q-e//external/devxlib/src -I. -I/content/q-e//include -I. -c data_buffer.f90\n",
            "\u001b[01m\u001b[Kf951:\u001b[m\u001b[K \u001b[01;35m\u001b[KWarning:\u001b[m\u001b[K Nonexistent include directory ‘\u001b[01m\u001b[K/content/q-e//external/devxlib/src\u001b[m\u001b[K’ [\u001b[01;35m\u001b[K-Wmissing-include-dirs\u001b[m\u001b[K]\n",
            "cc -O3 -D__OPENMP -D__FFTW3 -D__MPI -D__SCALAPACK -I. -I/content/q-e//include   -c eval_infix.c\n",
            "mpif90 -O3 -g -fopenmp -cpp -fopenmp -D__OPENMP -D__FFTW3 -D__MPI -D__SCALAPACK  -I/content/q-e//external/devxlib/src -I. -I/content/q-e//include -I. -c error_handler.f90\n",
            "\u001b[01m\u001b[Kf951:\u001b[m\u001b[K \u001b[01;35m\u001b[KWarning:\u001b[m\u001b[K Nonexistent include directory ‘\u001b[01m\u001b[K/content/q-e//external/devxlib/src\u001b[m\u001b[K’ [\u001b[01;35m\u001b[K-Wmissing-include-dirs\u001b[m\u001b[K]\n",
            "mpif90 -O3 -g -fopenmp -cpp -fopenmp -D__OPENMP -D__FFTW3 -D__MPI -D__SCALAPACK  -I/content/q-e//external/devxlib/src -I. -I/content/q-e//include -I. -c mp_bands_util.f90\n",
            "\u001b[01m\u001b[Kf951:\u001b[m\u001b[K \u001b[01;35m\u001b[KWarning:\u001b[m\u001b[K Nonexistent include directory ‘\u001b[01m\u001b[K/content/q-e//external/devxlib/src\u001b[m\u001b[K’ [\u001b[01;35m\u001b[K-Wmissing-include-dirs\u001b[m\u001b[K]\n",
            "mpif90 -O3 -g -fopenmp -cpp -fopenmp -D__OPENMP -D__FFTW3 -D__MPI -D__SCALAPACK  -I/content/q-e//external/devxlib/src -I. -I/content/q-e//include -I. -c export_gstart_2_solvers.f90\n",
            "\u001b[01m\u001b[Kf951:\u001b[m\u001b[K \u001b[01;35m\u001b[KWarning:\u001b[m\u001b[K Nonexistent include directory ‘\u001b[01m\u001b[K/content/q-e//external/devxlib/src\u001b[m\u001b[K’ [\u001b[01;35m\u001b[K-Wmissing-include-dirs\u001b[m\u001b[K]\n",
            "mpif90 -O3 -g -fopenmp -cpp -fopenmp -D__OPENMP -D__FFTW3 -D__MPI -D__SCALAPACK  -I/content/q-e//external/devxlib/src -I. -I/content/q-e//include -I. -c find_free_unit.f90\n",
            "\u001b[01m\u001b[Kf951:\u001b[m\u001b[K \u001b[01;35m\u001b[KWarning:\u001b[m\u001b[K Nonexistent include directory ‘\u001b[01m\u001b[K/content/q-e//external/devxlib/src\u001b[m\u001b[K’ [\u001b[01;35m\u001b[K-Wmissing-include-dirs\u001b[m\u001b[K]\n",
            "mpif90 -O3 -g -fopenmp -cpp -fopenmp -D__OPENMP -D__FFTW3 -D__MPI -D__SCALAPACK  -I/content/q-e//external/devxlib/src -I. -I/content/q-e//include -I. -c fletcher32_mod.f90\n",
            "\u001b[01m\u001b[Kf951:\u001b[m\u001b[K \u001b[01;35m\u001b[KWarning:\u001b[m\u001b[K Nonexistent include directory ‘\u001b[01m\u001b[K/content/q-e//external/devxlib/src\u001b[m\u001b[K’ [\u001b[01;35m\u001b[K-Wmissing-include-dirs\u001b[m\u001b[K]\n",
            "cc -O3 -D__OPENMP -D__FFTW3 -D__MPI -D__SCALAPACK -I. -I/content/q-e//include   -c fletcher32.c\n",
            "cc -O3 -D__OPENMP -D__FFTW3 -D__MPI -D__SCALAPACK -I. -I/content/q-e//include   -c md5.c\n",
            "cc -O3 -D__OPENMP -D__FFTW3 -D__MPI -D__SCALAPACK -I. -I/content/q-e//include   -c md5_from_file.c\n",
            "cc -O3 -D__OPENMP -D__FFTW3 -D__MPI -D__SCALAPACK -I. -I/content/q-e//include   -c memstat.c\n",
            "cc -O3 -D__OPENMP -D__FFTW3 -D__MPI -D__SCALAPACK -I. -I/content/q-e//include   -c memusage.c\n",
            "mpif90 -O3 -g -fopenmp -cpp -fopenmp -D__OPENMP -D__FFTW3 -D__MPI -D__SCALAPACK  -I/content/q-e//external/devxlib/src -I. -I/content/q-e//include -I. -c mem_counter.f90\n",
            "\u001b[01m\u001b[Kf951:\u001b[m\u001b[K \u001b[01;35m\u001b[KWarning:\u001b[m\u001b[K Nonexistent include directory ‘\u001b[01m\u001b[K/content/q-e//external/devxlib/src\u001b[m\u001b[K’ [\u001b[01;35m\u001b[K-Wmissing-include-dirs\u001b[m\u001b[K]\n",
            "mpif90 -O3 -g -fopenmp -cpp -fopenmp -D__OPENMP -D__FFTW3 -D__MPI -D__SCALAPACK  -I/content/q-e//external/devxlib/src -I. -I/content/q-e//include -I. -c mp_base.f90\n",
            "\u001b[01m\u001b[Kf951:\u001b[m\u001b[K \u001b[01;35m\u001b[KWarning:\u001b[m\u001b[K Nonexistent include directory ‘\u001b[01m\u001b[K/content/q-e//external/devxlib/src\u001b[m\u001b[K’ [\u001b[01;35m\u001b[K-Wmissing-include-dirs\u001b[m\u001b[K]\n",
            "mpif90 -O3 -g -fopenmp -cpp -fopenmp -D__OPENMP -D__FFTW3 -D__MPI -D__SCALAPACK  -I/content/q-e//external/devxlib/src -I. -I/content/q-e//include -I. -c mp_base_gpu.f90\n",
            "\u001b[01m\u001b[Kf951:\u001b[m\u001b[K \u001b[01;35m\u001b[KWarning:\u001b[m\u001b[K Nonexistent include directory ‘\u001b[01m\u001b[K/content/q-e//external/devxlib/src\u001b[m\u001b[K’ [\u001b[01;35m\u001b[K-Wmissing-include-dirs\u001b[m\u001b[K]\n",
            "mpif90 -O3 -g -fopenmp -cpp -fopenmp -D__OPENMP -D__FFTW3 -D__MPI -D__SCALAPACK  -I/content/q-e//external/devxlib/src -I. -I/content/q-e//include -I. -c print_mem.f90\n",
            "\u001b[01m\u001b[Kf951:\u001b[m\u001b[K \u001b[01;35m\u001b[KWarning:\u001b[m\u001b[K Nonexistent include directory ‘\u001b[01m\u001b[K/content/q-e//external/devxlib/src\u001b[m\u001b[K’ [\u001b[01;35m\u001b[K-Wmissing-include-dirs\u001b[m\u001b[K]\n",
            "cc -O3 -D__OPENMP -D__FFTW3 -D__MPI -D__SCALAPACK -I. -I/content/q-e//include   -c ptrace.c\n",
            "mpif90 -O3 -g -fopenmp -cpp -fopenmp -D__OPENMP -D__FFTW3 -D__MPI -D__SCALAPACK  -I/content/q-e//external/devxlib/src -I. -I/content/q-e//include -I. -c set_mpi_comm_4_solvers.f90\n",
            "\u001b[01m\u001b[Kf951:\u001b[m\u001b[K \u001b[01;35m\u001b[KWarning:\u001b[m\u001b[K Nonexistent include directory ‘\u001b[01m\u001b[K/content/q-e//external/devxlib/src\u001b[m\u001b[K’ [\u001b[01;35m\u001b[K-Wmissing-include-dirs\u001b[m\u001b[K]\n",
            "mpif90 -O3 -g -fopenmp -cpp -fopenmp -D__OPENMP -D__FFTW3 -D__MPI -D__SCALAPACK  -I/content/q-e//external/devxlib/src -I. -I/content/q-e//include -I. -c thread_util.f90\n",
            "\u001b[01m\u001b[Kf951:\u001b[m\u001b[K \u001b[01;35m\u001b[KWarning:\u001b[m\u001b[K Nonexistent include directory ‘\u001b[01m\u001b[K/content/q-e//external/devxlib/src\u001b[m\u001b[K’ [\u001b[01;35m\u001b[K-Wmissing-include-dirs\u001b[m\u001b[K]\n",
            "ar ruv libutil.a clib_wrappers.o clocks_handler.o cptimer.o copy.o c_mkdir.o device_helper.o divide.o data_buffer.o eval_infix.o error_handler.o export_gstart_2_solvers.o find_free_unit.o fletcher32_mod.o fletcher32.o md5.o md5_from_file.o memstat.o memusage.o mem_counter.o mp.o mp_base.o mp_base_gpu.o mp_bands_util.o parallel_include.o print_mem.o ptrace.o set_mpi_comm_4_solvers.o util_param.o thread_util.o nvtx_wrapper.o       \n",
            "ar: `u' modifier ignored since `D' is the default (see `U')\n",
            "ar: creating libutil.a\n",
            "a - clib_wrappers.o\n",
            "a - clocks_handler.o\n",
            "a - cptimer.o\n",
            "a - copy.o\n",
            "a - c_mkdir.o\n",
            "a - device_helper.o\n",
            "a - divide.o\n",
            "a - data_buffer.o\n",
            "a - eval_infix.o\n",
            "a - error_handler.o\n",
            "a - export_gstart_2_solvers.o\n",
            "a - find_free_unit.o\n",
            "a - fletcher32_mod.o\n",
            "a - fletcher32.o\n",
            "a - md5.o\n",
            "a - md5_from_file.o\n",
            "a - memstat.o\n",
            "a - memusage.o\n",
            "a - mem_counter.o\n",
            "a - mp.o\n",
            "a - mp_base.o\n",
            "a - mp_base_gpu.o\n",
            "a - mp_bands_util.o\n",
            "a - parallel_include.o\n",
            "a - print_mem.o\n",
            "a - ptrace.o\n",
            "a - set_mpi_comm_4_solvers.o\n",
            "a - util_param.o\n",
            "a - thread_util.o\n",
            "a - nvtx_wrapper.o\n",
            "ranlib libutil.a    \n",
            "make[1]: Leaving directory '/content/q-e/UtilXlib'\n",
            "cd install ; make -f extlibs_makefile libcuda\n",
            "make[1]: Entering directory '/content/q-e/install'\n",
            "initializing external/devxlib submodule ...\n",
            "Cloning into '/content/q-e/external/devxlib'...\n",
            "remote: Total 0 (delta 0), reused 0 (delta 0), pack-reused 0\u001b[K\n",
            "remote: Enumerating objects: 9, done.\u001b[K\n",
            "remote: Counting objects: 100% (9/9), done.\u001b[K\n",
            "remote: Compressing objects: 100% (5/5), done.\u001b[K\n",
            "remote: Total 5 (delta 3), reused 2 (delta 0), pack-reused 0\u001b[K\n",
            "Unpacking objects: 100% (5/5), 11.05 KiB | 3.68 MiB/s, done.\n",
            "From https://gitlab.com/max-centre/components/devicexlib\n",
            " * branch            a6b89ef77b1ceda48e967921f1f5488d2df9226d -> FETCH_HEAD\n",
            "Submodule path 'external/devxlib': checked out 'a6b89ef77b1ceda48e967921f1f5488d2df9226d'\n",
            "/content/q-e/install\n",
            "cd /content/q-e//external/devxlib/src; \\\n",
            "ln -fs /content/q-e//make.inc ../; \\\n",
            "make all; \\\n",
            "touch /content/q-e//install/libcuda_devxlib # do not download and configure again\n",
            "make[2]: Entering directory '/content/q-e/external/devxlib/src'\n",
            "mpif90 -O3 -g -fopenmp -cpp -fopenmp -D__OPENMP -D__FFTW3 -D__MPI -D__SCALAPACK  -I/content/q-e/external/devxlib//external/devxlib/src -I. -I/content/q-e/external/devxlib//include  -c device_auxfunc_mod.f90\n",
            "\u001b[01m\u001b[Kf951:\u001b[m\u001b[K \u001b[01;35m\u001b[KWarning:\u001b[m\u001b[K Nonexistent include directory ‘\u001b[01m\u001b[K/content/q-e/external/devxlib//external/devxlib/src\u001b[m\u001b[K’ [\u001b[01;35m\u001b[K-Wmissing-include-dirs\u001b[m\u001b[K]\n",
            "mpif90 -O3 -g -fopenmp -cpp -fopenmp -D__OPENMP -D__FFTW3 -D__MPI -D__SCALAPACK  -I/content/q-e/external/devxlib//external/devxlib/src -I. -I/content/q-e/external/devxlib//include  -c device_fbuff.f90\n",
            "\u001b[01m\u001b[Kf951:\u001b[m\u001b[K \u001b[01;35m\u001b[KWarning:\u001b[m\u001b[K Nonexistent include directory ‘\u001b[01m\u001b[K/content/q-e/external/devxlib//external/devxlib/src\u001b[m\u001b[K’ [\u001b[01;35m\u001b[K-Wmissing-include-dirs\u001b[m\u001b[K]\n",
            "mpif90 -O3 -g -fopenmp -cpp -fopenmp -D__OPENMP -D__FFTW3 -D__MPI -D__SCALAPACK  -I/content/q-e/external/devxlib//external/devxlib/src -I. -I/content/q-e/external/devxlib//include  -c device_fbuff_mod.f90\n",
            "\u001b[01m\u001b[Kf951:\u001b[m\u001b[K \u001b[01;35m\u001b[KWarning:\u001b[m\u001b[K Nonexistent include directory ‘\u001b[01m\u001b[K/content/q-e/external/devxlib//external/devxlib/src\u001b[m\u001b[K’ [\u001b[01;35m\u001b[K-Wmissing-include-dirs\u001b[m\u001b[K]\n",
            "mpif90 -O3 -g -fopenmp -cpp -fopenmp -D__OPENMP -D__FFTW3 -D__MPI -D__SCALAPACK  -I/content/q-e/external/devxlib//external/devxlib/src -I. -I/content/q-e/external/devxlib//include  -c device_memcpy_mod.f90\n",
            "\u001b[01m\u001b[Kf951:\u001b[m\u001b[K \u001b[01;35m\u001b[KWarning:\u001b[m\u001b[K Nonexistent include directory ‘\u001b[01m\u001b[K/content/q-e/external/devxlib//external/devxlib/src\u001b[m\u001b[K’ [\u001b[01;35m\u001b[K-Wmissing-include-dirs\u001b[m\u001b[K]\n",
            "mpif90 -O3 -g -fopenmp -cpp -fopenmp -D__OPENMP -D__FFTW3 -D__MPI -D__SCALAPACK  -I/content/q-e/external/devxlib//external/devxlib/src -I. -I/content/q-e/external/devxlib//include  -c deviceXlib_mod.f90\n",
            "\u001b[01m\u001b[Kf951:\u001b[m\u001b[K \u001b[01;35m\u001b[KWarning:\u001b[m\u001b[K Nonexistent include directory ‘\u001b[01m\u001b[K/content/q-e/external/devxlib//external/devxlib/src\u001b[m\u001b[K’ [\u001b[01;35m\u001b[K-Wmissing-include-dirs\u001b[m\u001b[K]\n",
            "mpif90 -O3 -g -fopenmp -cpp -fopenmp -D__OPENMP -D__FFTW3 -D__MPI -D__SCALAPACK  -I/content/q-e/external/devxlib//external/devxlib/src -I. -I/content/q-e/external/devxlib//include  -c device_memcpy.f90\n",
            "\u001b[01m\u001b[Kf951:\u001b[m\u001b[K \u001b[01;35m\u001b[KWarning:\u001b[m\u001b[K Nonexistent include directory ‘\u001b[01m\u001b[K/content/q-e/external/devxlib//external/devxlib/src\u001b[m\u001b[K’ [\u001b[01;35m\u001b[K-Wmissing-include-dirs\u001b[m\u001b[K]\n",
            "mpif90 -O3 -g -fopenmp -cpp -fopenmp -D__OPENMP -D__FFTW3 -D__MPI -D__SCALAPACK  -I/content/q-e/external/devxlib//external/devxlib/src -I. -I/content/q-e/external/devxlib//include  -c device_auxfunc.f90\n",
            "\u001b[01m\u001b[Kf951:\u001b[m\u001b[K \u001b[01;35m\u001b[KWarning:\u001b[m\u001b[K Nonexistent include directory ‘\u001b[01m\u001b[K/content/q-e/external/devxlib//external/devxlib/src\u001b[m\u001b[K’ [\u001b[01;35m\u001b[K-Wmissing-include-dirs\u001b[m\u001b[K]\n",
            "cc -O3 -D__OPENMP -D__FFTW3 -D__MPI -D__SCALAPACK -I. -I/content/q-e/external/devxlib//include   -c timer.c\n",
            "mpif90 -O3 -g -fopenmp -cpp -fopenmp -D__OPENMP -D__FFTW3 -D__MPI -D__SCALAPACK  -I/content/q-e/external/devxlib//external/devxlib/src -I. -I/content/q-e/external/devxlib//include  -c timer_mod.f90\n",
            "\u001b[01m\u001b[Kf951:\u001b[m\u001b[K \u001b[01;35m\u001b[KWarning:\u001b[m\u001b[K Nonexistent include directory ‘\u001b[01m\u001b[K/content/q-e/external/devxlib//external/devxlib/src\u001b[m\u001b[K’ [\u001b[01;35m\u001b[K-Wmissing-include-dirs\u001b[m\u001b[K]\n",
            "ar ruv libdevXlib.a deviceXlib_mod.o device_memcpy.o device_memcpy_mod.o device_auxfunc.o device_auxfunc_mod.o device_fbuff.o device_fbuff_mod.o timer.o timer_mod.o\n",
            "ar: `u' modifier ignored since `D' is the default (see `U')\n",
            "ar: creating libdevXlib.a\n",
            "a - deviceXlib_mod.o\n",
            "a - device_memcpy.o\n",
            "a - device_memcpy_mod.o\n",
            "a - device_auxfunc.o\n",
            "a - device_auxfunc_mod.o\n",
            "a - device_fbuff.o\n",
            "a - device_fbuff_mod.o\n",
            "a - timer.o\n",
            "a - timer_mod.o\n",
            "ranlib libdevXlib.a\n",
            "make[2]: Leaving directory '/content/q-e/external/devxlib/src'\n",
            "make[1]: Leaving directory '/content/q-e/install'\n",
            "( cd LAXlib ; make TLDEPS= all || exit 1 )\n",
            "make[1]: Entering directory '/content/q-e/LAXlib'\n",
            "cpp -P -traditional -Uvector -D__OPENMP -D__FFTW3 -D__MPI -D__SCALAPACK -I. -I/content/q-e//include laxlib.h -o laxlib.fh\n",
            "cpp -P -traditional -Uvector -D__OPENMP -D__FFTW3 -D__MPI -D__SCALAPACK -I. -I/content/q-e//include laxlib_hi.h -o laxlib_hi.fh\n",
            "cpp -P -traditional -Uvector -D__OPENMP -D__FFTW3 -D__MPI -D__SCALAPACK -I. -I/content/q-e//include laxlib_kinds.h -o laxlib_kinds.fh\n",
            "cpp -P -traditional -Uvector -D__OPENMP -D__FFTW3 -D__MPI -D__SCALAPACK -I. -I/content/q-e//include laxlib_low.h -o laxlib_low.fh\n",
            "cpp -P -traditional -Uvector -D__OPENMP -D__FFTW3 -D__MPI -D__SCALAPACK -I. -I/content/q-e//include laxlib_mid.h -o laxlib_mid.fh\n",
            "cpp -P -traditional -Uvector -D__OPENMP -D__FFTW3 -D__MPI -D__SCALAPACK -I. -I/content/q-e//include laxlib_param.h -o laxlib_param.fh\n",
            "mpif90 -O3 -g -fopenmp -cpp -fopenmp -D__OPENMP -D__FFTW3 -D__MPI -D__SCALAPACK  -I/content/q-e//external/devxlib/src -I. -I/content/q-e//include  -c la_types.f90\n",
            "mpif90 -O3 -g -fopenmp -cpp -fopenmp -D__OPENMP -D__FFTW3 -D__MPI -D__SCALAPACK  -I/content/q-e//external/devxlib/src -I. -I/content/q-e//include  -c la_param.f90\n",
            "mpif90 -O3 -g -fopenmp -cpp -fopenmp -D__OPENMP -D__FFTW3 -D__MPI -D__SCALAPACK  -I/content/q-e//external/devxlib/src -I. -I/content/q-e//include  -c la_error.f90\n",
            "mpif90 -O3 -g -fopenmp -cpp -fopenmp -D__OPENMP -D__FFTW3 -D__MPI -D__SCALAPACK  -I/content/q-e//external/devxlib/src -I. -I/content/q-e//include  -c la_module.f90\n",
            "mpif90 -O3 -g -fopenmp -cpp -fopenmp -D__OPENMP -D__FFTW3 -D__MPI -D__SCALAPACK  -I/content/q-e//external/devxlib/src -I. -I/content/q-e//include  -c dspev_drv.f90\n",
            "mpif90 -O3 -g -fopenmp -cpp -fopenmp -D__OPENMP -D__FFTW3 -D__MPI -D__SCALAPACK  -I/content/q-e//external/devxlib/src -I. -I/content/q-e//include  -c mp_diag.f90\n",
            "mpif90 -O3 -g -fopenmp -cpp -fopenmp -D__OPENMP -D__FFTW3 -D__MPI -D__SCALAPACK  -I/content/q-e//external/devxlib/src -I. -I/content/q-e//include  -c la_helper.f90\n",
            "mpif90 -O3 -g -fopenmp -cpp -fopenmp -D__OPENMP -D__FFTW3 -D__MPI -D__SCALAPACK  -I/content/q-e//external/devxlib/src -I. -I/content/q-e//include  -c zhpev_drv.f90\n",
            "mpif90 -O3 -g -fopenmp -cpp -fopenmp -D__OPENMP -D__FFTW3 -D__MPI -D__SCALAPACK  -I/content/q-e//external/devxlib/src -I. -I/content/q-e//include  -c cdiaghg.f90\n",
            "mpif90 -O3 -g -fopenmp -cpp -fopenmp -D__OPENMP -D__FFTW3 -D__MPI -D__SCALAPACK  -I/content/q-e//external/devxlib/src -I. -I/content/q-e//include  -c rdiaghg.f90\n",
            "mpif90 -O3 -g -fopenmp -cpp -fopenmp -D__OPENMP -D__FFTW3 -D__MPI -D__SCALAPACK  -I/content/q-e//external/devxlib/src -I. -I/content/q-e//include  -c ptoolkit.f90\n",
            "mpif90 -O3 -g -fopenmp -cpp -fopenmp -D__OPENMP -D__FFTW3 -D__MPI -D__SCALAPACK  -I/content/q-e//external/devxlib/src -I. -I/content/q-e//include  -c transto.f90\n",
            "mpif90 -O3 -g -fopenmp -cpp -fopenmp -D__OPENMP -D__FFTW3 -D__MPI -D__SCALAPACK  -I/content/q-e//external/devxlib/src -I. -I/content/q-e//include  -c distools.f90\n",
            "ar ruv libqela.a la_types.o la_error.o la_module.o la_helper.o cdiaghg.o rdiaghg.o dspev_drv.o ptoolkit.o transto.o distools.o zhpev_drv.o mp_diag.o la_param.o       \n",
            "ar: `u' modifier ignored since `D' is the default (see `U')\n",
            "ar: creating libqela.a\n",
            "a - la_types.o\n",
            "a - la_error.o\n",
            "a - la_module.o\n",
            "a - la_helper.o\n",
            "a - cdiaghg.o\n",
            "a - rdiaghg.o\n",
            "a - dspev_drv.o\n",
            "a - ptoolkit.o\n",
            "a - transto.o\n",
            "a - distools.o\n",
            "a - zhpev_drv.o\n",
            "a - mp_diag.o\n",
            "a - la_param.o\n",
            "ranlib libqela.a    \n",
            "make[1]: Leaving directory '/content/q-e/LAXlib'\n",
            "( cd FFTXlib ; make TLDEPS= all || exit 1 )\n",
            "make[1]: Entering directory '/content/q-e/FFTXlib'\n",
            "( cd src ; make all || exit 1 )\n",
            "make[2]: Entering directory '/content/q-e/FFTXlib/src'\n",
            "mpif90 -O3 -g -fopenmp -cpp -fopenmp -D__OPENMP -D__FFTW3 -D__MPI -D__SCALAPACK  -I/content/q-e//external/devxlib/src -I. -I/content/q-e//include  -c fft_param.f90\n",
            "mpif90 -O3 -g -fopenmp -cpp -fopenmp -D__OPENMP -D__FFTW3 -D__MPI -D__SCALAPACK  -I/content/q-e//external/devxlib/src -I. -I/content/q-e//include  -c fft_support.f90\n",
            "mpif90 -O3 -g -fopenmp -cpp -fopenmp -D__OPENMP -D__FFTW3 -D__MPI -D__SCALAPACK  -I/content/q-e//external/devxlib/src -I. -I/content/q-e//include  -c stick_base.f90\n",
            "mpif90 -O3 -g -fopenmp -cpp -fopenmp -D__OPENMP -D__FFTW3 -D__MPI -D__SCALAPACK  -I/content/q-e//external/devxlib/src -I. -I/content/q-e//include  -c fft_types.f90\n",
            "mpif90 -O3 -g -fopenmp -cpp -fopenmp -D__OPENMP -D__FFTW3 -D__MPI -D__SCALAPACK  -I/content/q-e//external/devxlib/src -I. -I/content/q-e//include  -c scatter_mod.f90\n",
            "mpif90 -O3 -g -fopenmp -cpp -fopenmp -D__OPENMP -D__FFTW3 -D__MPI -D__SCALAPACK  -I/content/q-e//external/devxlib/src -I. -I/content/q-e//include  -c fft_scatter_2d.f90\n",
            "mpif90 -O3 -g -fopenmp -cpp -fopenmp -D__OPENMP -D__FFTW3 -D__MPI -D__SCALAPACK  -I/content/q-e//external/devxlib/src -I. -I/content/q-e//include  -c fft_buffers.f90\n",
            "mpif90 -O3 -g -fopenmp -cpp -fopenmp -D__OPENMP -D__FFTW3 -D__MPI -D__SCALAPACK  -I/content/q-e//external/devxlib/src -I. -I/content/q-e//include  -c fft_scatter_gpu.f90\n",
            "mpif90 -O3 -g -fopenmp -cpp -fopenmp -D__OPENMP -D__FFTW3 -D__MPI -D__SCALAPACK  -I/content/q-e//external/devxlib/src -I. -I/content/q-e//include  -c fft_scatter_2d_gpu.f90\n",
            "mpif90 -O3 -g -fopenmp -cpp -fopenmp -D__OPENMP -D__FFTW3 -D__MPI -D__SCALAPACK  -I/content/q-e//external/devxlib/src -I. -I/content/q-e//include  -c fft_ggen.f90\n",
            "mpif90 -O3 -g -fopenmp -cpp -fopenmp -D__OPENMP -D__FFTW3 -D__MPI -D__SCALAPACK  -I/content/q-e//external/devxlib/src -I. -I/content/q-e//include  -c fft_scalar.DFTI.f90\n",
            "mpif90 -O3 -g -fopenmp -cpp -fopenmp -D__OPENMP -D__FFTW3 -D__MPI -D__SCALAPACK  -I/content/q-e//external/devxlib/src -I. -I/content/q-e//include  -c fft_scalar.ESSL.f90\n",
            "mpif90 -O3 -g -fopenmp -cpp -fopenmp -D__OPENMP -D__FFTW3 -D__MPI -D__SCALAPACK  -I/content/q-e//external/devxlib/src -I. -I/content/q-e//include  -c fftw_interfaces.f90\n",
            "mpif90 -O3 -g -fopenmp -cpp -fopenmp -D__OPENMP -D__FFTW3 -D__MPI -D__SCALAPACK  -I/content/q-e//external/devxlib/src -I. -I/content/q-e//include  -c fft_scalar.FFTW.f90\n",
            "mpif90 -O3 -g -fopenmp -cpp -fopenmp -D__OPENMP -D__FFTW3 -D__MPI -D__SCALAPACK  -I/content/q-e//external/devxlib/src -I. -I/content/q-e//include  -c fft_scalar.FFTW3.f90\n",
            "mpif90 -O3 -g -fopenmp -cpp -fopenmp -D__OPENMP -D__FFTW3 -D__MPI -D__SCALAPACK  -I/content/q-e//external/devxlib/src -I. -I/content/q-e//include  -c fft_scalar.SX6.f90\n",
            "mpif90 -O3 -g -fopenmp -cpp -fopenmp -D__OPENMP -D__FFTW3 -D__MPI -D__SCALAPACK  -I/content/q-e//external/devxlib/src -I. -I/content/q-e//include  -c fft_scalar.cuFFT.f90\n",
            "mpif90 -O3 -g -fopenmp -cpp -fopenmp -D__OPENMP -D__FFTW3 -D__MPI -D__SCALAPACK  -I/content/q-e//external/devxlib/src -I. -I/content/q-e//include  -c fft_scalar.f90\n",
            "mpif90 -O3 -g -fopenmp -cpp -fopenmp -D__OPENMP -D__FFTW3 -D__MPI -D__SCALAPACK  -I/content/q-e//external/devxlib/src -I. -I/content/q-e//include  -c fft_scatter.f90\n",
            "mpif90 -O3 -g -fopenmp -cpp -fopenmp -D__OPENMP -D__FFTW3 -D__MPI -D__SCALAPACK  -I/content/q-e//external/devxlib/src -I. -I/content/q-e//include  -c fft_parallel.f90\n",
            "mpif90 -O3 -g -fopenmp -cpp -fopenmp -D__OPENMP -D__FFTW3 -D__MPI -D__SCALAPACK  -I/content/q-e//external/devxlib/src -I. -I/content/q-e//include  -c fft_parallel_2d.f90\n",
            "mpif90 -O3 -g -fopenmp -cpp -fopenmp -D__OPENMP -D__FFTW3 -D__MPI -D__SCALAPACK  -I/content/q-e//external/devxlib/src -I. -I/content/q-e//include  -c fft_smallbox.f90\n",
            "mpif90 -O3 -g -fopenmp -cpp -fopenmp -D__OPENMP -D__FFTW3 -D__MPI -D__SCALAPACK  -I/content/q-e//external/devxlib/src -I. -I/content/q-e//include  -c fft_smallbox_type.f90\n",
            "mpif90 -O3 -g -fopenmp -cpp -fopenmp -D__OPENMP -D__FFTW3 -D__MPI -D__SCALAPACK  -I/content/q-e//external/devxlib/src -I. -I/content/q-e//include  -c fft_fwinv.f90\n",
            "mpif90 -O3 -g -fopenmp -cpp -fopenmp -D__OPENMP -D__FFTW3 -D__MPI -D__SCALAPACK  -I/content/q-e//external/devxlib/src -I. -I/content/q-e//include  -c fft_interfaces.f90\n",
            "mpif90 -O3 -g -fopenmp -cpp -fopenmp -D__OPENMP -D__FFTW3 -D__MPI -D__SCALAPACK  -I/content/q-e//external/devxlib/src -I. -I/content/q-e//include  -c fft_interpolate.f90\n",
            "cc -O3 -D__OPENMP -D__FFTW3 -D__MPI -D__SCALAPACK -I. -I/content/q-e//include   -c fftw.c\n",
            "cc -O3 -D__OPENMP -D__FFTW3 -D__MPI -D__SCALAPACK -I. -I/content/q-e//include   -c fftw_sp.c\n",
            "cc -O3 -D__OPENMP -D__FFTW3 -D__MPI -D__SCALAPACK -I. -I/content/q-e//include   -c fftw_dp.c\n"
          ]
        }
      ]
    },
    {
      "cell_type": "code",
      "source": [],
      "metadata": {
        "id": "Sy7dNqaczV3u"
      },
      "execution_count": null,
      "outputs": []
    },
    {
      "cell_type": "code",
      "source": [
        "#!make ph"
      ],
      "metadata": {
        "id": "4QgdG6AMxReT"
      },
      "execution_count": null,
      "outputs": []
    },
    {
      "cell_type": "code",
      "source": [
        "!lscpu "
      ],
      "metadata": {
        "id": "CtFkbRdT2Frw"
      },
      "execution_count": null,
      "outputs": []
    },
    {
      "cell_type": "code",
      "source": [
        "from jarvis.core.atoms import Atoms\n",
        "from jarvis.db.figshare import data\n",
        "import numpy as np\n",
        "import pandas as pd\n",
        "\n",
        "dft_3d = data('dft_3d')\n",
        "df=pd.DataFrame(dft_3d)\n",
        "#Filter based on elements\n",
        "def has_elements(atoms_dict = {}, my_element = ['Al','O']):\n",
        "    atoms = Atoms.from_dict(atoms_dict)\n",
        "    elements = atoms.elements\n",
        "    if set(my_element)==set(elements):\n",
        "        return True\n",
        "    else:\n",
        "        return np.nan\n",
        "    \n",
        "df['el'] = df['atoms'].apply(lambda x: has_elements(atoms_dict = x, my_element = ['Si']))\n",
        "df1 = df.dropna()\n",
        "print(df_eform_filter = df1[df1['formation_energy_peratom']==0])\n",
        "\n"
      ],
      "metadata": {
        "id": "FuLEmYXq9CKn"
      },
      "execution_count": null,
      "outputs": []
    },
    {
      "cell_type": "code",
      "source": [
        "#Lets select JVASP-1002\n",
        "from jarvis.db.figshare import get_jid_data\n",
        "from jarvis.tasks.qe.super import SuperCond\n",
        "from jarvis.core.utils import get_factors\n",
        "from jarvis.core.atoms import Atoms\n",
        "from jarvis.db.figshare import data, get_jid_data\n",
        "from jarvis.core.kpoints import Kpoints3D\n",
        "from jarvis.tasks.queue_jobs import Queue\n",
        "from jarvis.db.jsonutils import dumpjson\n",
        "import os\n",
        "from jarvis.analysis.structure.spacegroup import Spacegroup3D\n",
        "import glob\n",
        "from jarvis.db.jsonutils import loadjson\n",
        "\n",
        "jid = 'JVASP-1002' #Silicon\n",
        "dat = get_jid_data(jid=jid, dataset=\"dft_3d\")"
      ],
      "metadata": {
        "id": "K6jwRdkX2BmX"
      },
      "execution_count": null,
      "outputs": []
    },
    {
      "cell_type": "code",
      "source": [
        "def non_prime_kpoints(kpts=[]):\n",
        "    \"\"\"Get non prime kpoints (used for supercon calculations).\"\"\"\n",
        "    mem = []\n",
        "    for i in kpts:\n",
        "        facts = get_factors(i)\n",
        "        if len(facts) == 1:\n",
        "            val = i + 1\n",
        "        else:\n",
        "            val = i\n",
        "        mem.append(val)\n",
        "    return mem\n",
        "\n",
        "qe_cmd = \"/content/q-e/bin/pw.x\"\n",
        "a_atoms = Atoms.from_dict(dat[\"atoms\"])\n",
        "atoms = Spacegroup3D(a_atoms).refined_atoms.get_primitive_atoms\n",
        "kp = Kpoints3D().automatic_length_mesh(lattice_mat=atoms.lattice_mat, length=dat[\"kpoint_length_unit\"])\n",
        "kpts = kp._kpoints[0]\n",
        "kpts=non_prime_kpoints(kpts)\n",
        "kp=Kpoints3D(kpoints=[kpts])\n",
        "print ('kpts',kpts)\n"
      ],
      "metadata": {
        "id": "yUIPERGM2oPC"
      },
      "execution_count": null,
      "outputs": []
    },
    {
      "cell_type": "code",
      "source": [
        "from jarvis.tasks.qe.qe import QEjob\n",
        "relax = {\n",
        "            \"control\": {\n",
        "                # \"calculation\": \"'scf'\",\n",
        "                \"calculation\":  \"'vc-relax'\",\n",
        "                \"restart_mode\": \"'from_scratch'\",\n",
        "                \"prefix\": \"'RELAX'\",\n",
        "                \"outdir\": \"'./'\",\n",
        "                \"tstress\": \".true.\",\n",
        "                \"tprnfor\": \".true.\",\n",
        "                \"disk_io\": \"'nowf'\",\n",
        "                \"wf_collect\": \".true.\",\n",
        "                \"pseudo_dir\": None,\n",
        "                \"verbosity\": \"'high'\",\n",
        "                \"nstep\": 100,\n",
        "            },\n",
        "            \"system\": {\n",
        "                \"ibrav\": 0,\n",
        "                \"nat\": None,\n",
        "                \"ntyp\": None,\n",
        "                \"ecutwfc\": 45,\n",
        "                \"ecutrho\": 250,\n",
        "                \"q2sigma\": 1,\n",
        "                \"ecfixed\": 44.5,\n",
        "                \"qcutz\": 800,\n",
        "                \"occupations\": \"'smearing'\",\n",
        "                \"degauss\": 0.01,\n",
        "                \"lda_plus_u\": \".false.\",\n",
        "            },\n",
        "            \"electrons\": {\n",
        "                \"diagonalization\": \"'david'\",\n",
        "                \"mixing_mode\": \"'local-TF'\",\n",
        "                \"mixing_beta\": 0.3,\n",
        "                \"conv_thr\": \"1d-9\",\n",
        "            },\n",
        "            \"ions\": {\"ion_dynamics\": \"'bfgs'\"},\n",
        "            \"cell\": {\"cell_dynamics\": \"'bfgs'\", \"cell_dofree\": \"'all'\"},\n",
        "        }\n",
        "qejob_relax = QEjob(\n",
        "    atoms=a_atoms,\n",
        "    input_params=relax,\n",
        "    output_file=\"relax.out\",\n",
        "    qe_cmd=qe_cmd,\n",
        "    jobname=\"relax\",\n",
        "    kpoints=kp,\n",
        "    input_file=\"arelax.in\",\n",
        "    url=None,\n",
        "    psp_dir=None,\n",
        "    psp_temp_name=None,\n",
        ")"
      ],
      "metadata": {
        "id": "49lHcBLQ3VcZ"
      },
      "execution_count": null,
      "outputs": []
    },
    {
      "cell_type": "code",
      "source": [
        "%%time\n",
        "info = qejob_relax.runjob()"
      ],
      "metadata": {
        "id": "r_0vpTN63m2U"
      },
      "execution_count": null,
      "outputs": []
    },
    {
      "cell_type": "code",
      "source": [
        "!ls"
      ],
      "metadata": {
        "id": "e-Ov6sm04YXh"
      },
      "execution_count": null,
      "outputs": []
    },
    {
      "cell_type": "code",
      "source": [
        "info"
      ],
      "metadata": {
        "id": "gaq5JTAh5C76"
      },
      "execution_count": null,
      "outputs": []
    },
    {
      "cell_type": "code",
      "source": [
        "from jarvis.io.qe.outputs import DataFileSchema\n",
        "ds = DataFileSchema('/content/q-e/RELAX.save/data-file-schema.xml')"
      ],
      "metadata": {
        "id": "YgVRGKea5Ocw"
      },
      "execution_count": null,
      "outputs": []
    },
    {
      "cell_type": "code",
      "source": [
        "print(ds.final_energy) #Hartree, QE usually reports data in Ha"
      ],
      "metadata": {
        "id": "SNepWfCZ6Fdu"
      },
      "execution_count": null,
      "outputs": []
    },
    {
      "cell_type": "code",
      "source": [
        "print(ds.final_energy_breakdown) #eV"
      ],
      "metadata": {
        "id": "fn5gpXzN6TVx"
      },
      "execution_count": null,
      "outputs": []
    },
    {
      "cell_type": "code",
      "source": [
        "print(ds.final_structure)"
      ],
      "metadata": {
        "id": "U5kYpEQb5W99"
      },
      "execution_count": null,
      "outputs": []
    },
    {
      "cell_type": "code",
      "source": [
        "print(ds.indir_gap)"
      ],
      "metadata": {
        "id": "RGIYl3w95rR1"
      },
      "execution_count": null,
      "outputs": []
    },
    {
      "cell_type": "code",
      "source": [
        "print(ds.nelec)"
      ],
      "metadata": {
        "id": "EJRywn_y5rPZ"
      },
      "execution_count": null,
      "outputs": []
    },
    {
      "cell_type": "code",
      "source": [
        "print(ds.efermi)"
      ],
      "metadata": {
        "id": "JhFJSFYK5rNU"
      },
      "execution_count": null,
      "outputs": []
    },
    {
      "cell_type": "code",
      "source": [
        "#Other data available in xml file\n",
        "import pprint\n",
        "pprint.pprint(ds.data)"
      ],
      "metadata": {
        "id": "Q6Drasbh5rK-"
      },
      "execution_count": null,
      "outputs": []
    },
    {
      "cell_type": "code",
      "source": [],
      "metadata": {
        "id": "S7wb-Pvh8aZg"
      },
      "execution_count": null,
      "outputs": []
    }
  ]
}