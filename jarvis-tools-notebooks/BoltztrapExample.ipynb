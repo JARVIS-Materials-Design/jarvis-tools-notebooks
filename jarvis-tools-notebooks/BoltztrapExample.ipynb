{
  "nbformat": 4,
  "nbformat_minor": 0,
  "metadata": {
    "colab": {
      "name": "BoltztrapExample.ipynb",
      "provenance": [],
      "authorship_tag": "ABX9TyOJOtm0Qu9W7alCcgm978oD",
      "include_colab_link": true
    },
    "kernelspec": {
      "name": "python3",
      "display_name": "Python 3"
    }
  },
  "cells": [
    {
      "cell_type": "markdown",
      "metadata": {
        "id": "view-in-github",
        "colab_type": "text"
      },
      "source": [
        "<a href=\"https://colab.research.google.com/github/knc6/jarvis-tools-notebooks/blob/master/jarvis-tools-notebooks/BoltztrapExample.ipynb\" target=\"_parent\"><img src=\"https://colab.research.google.com/assets/colab-badge.svg\" alt=\"Open In Colab\"/></a>"
      ]
    },
    {
      "cell_type": "code",
      "metadata": {
        "id": "wPESO67jpLzr",
        "colab_type": "code",
        "colab": {
          "base_uri": "https://localhost:8080/",
          "height": 564
        },
        "outputId": "ea9eee55-8e4a-4baf-c8b3-b4101855adc3"
      },
      "source": [
        "!pip install jarvis-tools"
      ],
      "execution_count": 1,
      "outputs": [
        {
          "output_type": "stream",
          "text": [
            "Collecting jarvis-tools\n",
            "\u001b[?25l  Downloading https://files.pythonhosted.org/packages/2e/42/4ea8aa37a4e3e26dc14be3ecebba0a256a926b8489da712a8d773c2cd33c/jarvis_tools-2020.6.9-py2.py3-none-any.whl (794kB)\n",
            "\u001b[K     |████████████████████████████████| 798kB 2.8MB/s \n",
            "\u001b[?25hRequirement already satisfied: scipy in /usr/local/lib/python3.6/dist-packages (from jarvis-tools) (1.4.1)\n",
            "Collecting xmltodict\n",
            "  Downloading https://files.pythonhosted.org/packages/28/fd/30d5c1d3ac29ce229f6bdc40bbc20b28f716e8b363140c26eff19122d8a5/xmltodict-0.12.0-py2.py3-none-any.whl\n",
            "Requirement already satisfied: matplotlib in /usr/local/lib/python3.6/dist-packages (from jarvis-tools) (3.2.2)\n",
            "Requirement already satisfied: pytest in /usr/local/lib/python3.6/dist-packages (from jarvis-tools) (3.6.4)\n",
            "Requirement already satisfied: toolz in /usr/local/lib/python3.6/dist-packages (from jarvis-tools) (0.10.0)\n",
            "Requirement already satisfied: numpy in /usr/local/lib/python3.6/dist-packages (from jarvis-tools) (1.18.5)\n",
            "Collecting spglib\n",
            "\u001b[?25l  Downloading https://files.pythonhosted.org/packages/5c/23/4c3ac9800663cac42903b5d696cf34170ec144635c1c77152f7ab97731e1/spglib-1.15.1-cp36-cp36m-manylinux2010_x86_64.whl (294kB)\n",
            "\u001b[K     |████████████████████████████████| 296kB 14.3MB/s \n",
            "\u001b[?25hRequirement already satisfied: requests in /usr/local/lib/python3.6/dist-packages (from jarvis-tools) (2.23.0)\n",
            "Requirement already satisfied: cycler>=0.10 in /usr/local/lib/python3.6/dist-packages (from matplotlib->jarvis-tools) (0.10.0)\n",
            "Requirement already satisfied: python-dateutil>=2.1 in /usr/local/lib/python3.6/dist-packages (from matplotlib->jarvis-tools) (2.8.1)\n",
            "Requirement already satisfied: kiwisolver>=1.0.1 in /usr/local/lib/python3.6/dist-packages (from matplotlib->jarvis-tools) (1.2.0)\n",
            "Requirement already satisfied: pyparsing!=2.0.4,!=2.1.2,!=2.1.6,>=2.0.1 in /usr/local/lib/python3.6/dist-packages (from matplotlib->jarvis-tools) (2.4.7)\n",
            "Requirement already satisfied: attrs>=17.4.0 in /usr/local/lib/python3.6/dist-packages (from pytest->jarvis-tools) (19.3.0)\n",
            "Requirement already satisfied: more-itertools>=4.0.0 in /usr/local/lib/python3.6/dist-packages (from pytest->jarvis-tools) (8.4.0)\n",
            "Requirement already satisfied: pluggy<0.8,>=0.5 in /usr/local/lib/python3.6/dist-packages (from pytest->jarvis-tools) (0.7.1)\n",
            "Requirement already satisfied: six>=1.10.0 in /usr/local/lib/python3.6/dist-packages (from pytest->jarvis-tools) (1.12.0)\n",
            "Requirement already satisfied: py>=1.5.0 in /usr/local/lib/python3.6/dist-packages (from pytest->jarvis-tools) (1.8.2)\n",
            "Requirement already satisfied: setuptools in /usr/local/lib/python3.6/dist-packages (from pytest->jarvis-tools) (47.3.1)\n",
            "Requirement already satisfied: atomicwrites>=1.0 in /usr/local/lib/python3.6/dist-packages (from pytest->jarvis-tools) (1.4.0)\n",
            "Requirement already satisfied: idna<3,>=2.5 in /usr/local/lib/python3.6/dist-packages (from requests->jarvis-tools) (2.9)\n",
            "Requirement already satisfied: certifi>=2017.4.17 in /usr/local/lib/python3.6/dist-packages (from requests->jarvis-tools) (2020.6.20)\n",
            "Requirement already satisfied: chardet<4,>=3.0.2 in /usr/local/lib/python3.6/dist-packages (from requests->jarvis-tools) (3.0.4)\n",
            "Requirement already satisfied: urllib3!=1.25.0,!=1.25.1,<1.26,>=1.21.1 in /usr/local/lib/python3.6/dist-packages (from requests->jarvis-tools) (1.24.3)\n",
            "Installing collected packages: xmltodict, spglib, jarvis-tools\n",
            "Successfully installed jarvis-tools-2020.6.9 spglib-1.15.1 xmltodict-0.12.0\n"
          ],
          "name": "stdout"
        }
      ]
    },
    {
      "cell_type": "code",
      "metadata": {
        "id": "MhDro7mZpOa9",
        "colab_type": "code",
        "colab": {
          "base_uri": "https://localhost:8080/",
          "height": 153
        },
        "outputId": "49bee92a-85eb-43f5-8004-f2ea850d9fc2"
      },
      "source": [
        "!git clone https://github.com/usnistgov/jarvis.git"
      ],
      "execution_count": 47,
      "outputs": [
        {
          "output_type": "stream",
          "text": [
            "Cloning into 'jarvis'...\n",
            "remote: Enumerating objects: 384, done.\u001b[K\n",
            "remote: Counting objects: 100% (384/384), done.\u001b[K\n",
            "remote: Compressing objects: 100% (314/314), done.\u001b[K\n",
            "remote: Total 5492 (delta 223), reused 155 (delta 64), pack-reused 5108\u001b[K\n",
            "Receiving objects: 100% (5492/5492), 159.92 MiB | 23.35 MiB/s, done.\n",
            "Resolving deltas: 100% (3243/3243), done.\n",
            "Checking out files: 100% (1260/1260), done.\n"
          ],
          "name": "stdout"
        }
      ]
    },
    {
      "cell_type": "code",
      "metadata": {
        "id": "KhQ3cYLLv-rc",
        "colab_type": "code",
        "colab": {
          "base_uri": "https://localhost:8080/",
          "height": 314
        },
        "outputId": "ef4c3187-97a1-4004-c0bb-0896b4a40cb6"
      },
      "source": [
        "import numpy as np\n",
        "%matplotlib inline\n",
        "import matplotlib.pyplot as plt \n",
        "plt.rcParams.update({'font.size': 20})\n",
        "from jarvis.io.boltztrap.outputs import BoltzTrapOutput\n",
        "dir = 'jarvis/jarvis/examples/vasp/SiOptb88/MAIN-RELAX-bulk@mp_149/boltztrap'\n",
        "b = BoltzTrapOutput(dir).read_condtens_fixdoping()\n",
        "\n",
        "doping=['n','p']\n",
        "temperature=300\n",
        "mu=[]\n",
        "seebeck=[]\n",
        "conductivity=[]\n",
        "kappa=[]\n",
        "for d in doping:\n",
        "\n",
        "  for i,j in b[d][temperature].items():\n",
        "    mu.append(j['Ef'])\n",
        "    s_tens=np.array(j['seeb']).reshape(3,3).trace()\n",
        "    c_tens=np.array(j['cond']).reshape(3,3).trace()\n",
        "    k_tens=np.array(j['kappa']).reshape(3,3).trace()\n",
        "    seebeck.append(s_tens)\n",
        "    conductivity.append(c_tens)\n",
        "    kappa.append(k_tens)\n",
        "mu=np.array(mu)\n",
        "seebeck=np.array(seebeck)\n",
        "conductivity=np.array(conductivity)\n",
        "kappa=np.array(kappa)\n",
        "order=np.argsort(mu)\n",
        "mu=mu[order]\n",
        "seebeck=seebeck[order]\n",
        "conductivity=conductivity[order]\n",
        "kappa=mu[order]\n",
        "\n",
        "plt.plot(mu,1e6*seebeck)\n",
        "plt.xlabel('E-Ef (ev)')\n",
        "plt.ylabel('Seebeck coeff. ($\\mu$V/K)')\n",
        "#plt.xlim([-.5,1])\n"
      ],
      "execution_count": 109,
      "outputs": [
        {
          "output_type": "execute_result",
          "data": {
            "text/plain": [
              "Text(0, 0.5, 'Seebeck coeff. ($\\\\mu$V/K)')"
            ]
          },
          "metadata": {
            "tags": []
          },
          "execution_count": 109
        },
        {
          "output_type": "display_data",
          "data": {
            "image/png": "[encoded data removed]",
            "text/plain": [
              "<Figure size 432x288 with 1 Axes>"
            ]
          },
          "metadata": {
            "tags": [],
            "needs_background": "light"
          }
        }
      ]
    },
    {
      "cell_type": "code",
      "metadata": {
        "id": "UWbYUc4DzJqY",
        "colab_type": "code",
        "colab": {}
      },
      "source": [
        ""
      ],
      "execution_count": null,
      "outputs": []
    }
  ]
}