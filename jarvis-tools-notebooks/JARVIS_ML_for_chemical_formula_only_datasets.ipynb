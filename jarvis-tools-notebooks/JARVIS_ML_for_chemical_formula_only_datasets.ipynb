{
  "nbformat": 4,
  "nbformat_minor": 0,
  "metadata": {
    "colab": {
      "name": "JARVIS-ML for chemical formula only datasets.ipynb",
      "provenance": [],
      "authorship_tag": "ABX9TyNw5/iNBX/bFlpWy2x6Ik0X",
      "include_colab_link": true
    },
    "kernelspec": {
      "name": "python3",
      "display_name": "Python 3"
    },
    "language_info": {
      "name": "python"
    }
  },
  "cells": [
    {
      "cell_type": "markdown",
      "metadata": {
        "id": "view-in-github",
        "colab_type": "text"
      },
      "source": [
        "<a href=\"https://colab.research.google.com/github/knc6/jarvis-tools-notebooks/blob/master/jarvis-tools-notebooks/JARVIS_ML_for_chemical_formula_only_datasets.ipynb\" target=\"_parent\"><img src=\"https://colab.research.google.com/assets/colab-badge.svg\" alt=\"Open In Colab\"/></a>"
      ]
    },
    {
      "cell_type": "code",
      "metadata": {
        "colab": {
          "base_uri": "https://localhost:8080/"
        },
        "id": "b3aEQ2BAf-T1",
        "outputId": "01b77072-5170-49c9-b767-2bdfea13a69c"
      },
      "source": [
        "!pip install jarvis-tools lightgbm"
      ],
      "execution_count": null,
      "outputs": [
        {
          "output_type": "stream",
          "text": [
            "Requirement already satisfied: jarvis-tools in /usr/local/lib/python3.7/dist-packages (2021.7.19)\n",
            "Requirement already satisfied: lightgbm in /usr/local/lib/python3.7/dist-packages (2.2.3)\n",
            "Requirement already satisfied: scipy>=1.4.1 in /usr/local/lib/python3.7/dist-packages (from jarvis-tools) (1.4.1)\n",
            "Requirement already satisfied: matplotlib>=3.0.0 in /usr/local/lib/python3.7/dist-packages (from jarvis-tools) (3.2.2)\n",
            "Requirement already satisfied: spglib>=1.14.1 in /usr/local/lib/python3.7/dist-packages (from jarvis-tools) (1.16.1)\n",
            "Requirement already satisfied: xmltodict>=0.11.0 in /usr/local/lib/python3.7/dist-packages (from jarvis-tools) (0.12.0)\n",
            "Requirement already satisfied: numpy>=1.19.5 in /usr/local/lib/python3.7/dist-packages (from jarvis-tools) (1.19.5)\n",
            "Requirement already satisfied: tqdm>=4.41.1 in /usr/local/lib/python3.7/dist-packages (from jarvis-tools) (4.41.1)\n",
            "Requirement already satisfied: joblib>=0.14.1 in /usr/local/lib/python3.7/dist-packages (from jarvis-tools) (1.0.1)\n",
            "Requirement already satisfied: toolz>=0.9.0 in /usr/local/lib/python3.7/dist-packages (from jarvis-tools) (0.11.1)\n",
            "Requirement already satisfied: requests>=2.23.0 in /usr/local/lib/python3.7/dist-packages (from jarvis-tools) (2.23.0)\n",
            "Requirement already satisfied: cycler>=0.10 in /usr/local/lib/python3.7/dist-packages (from matplotlib>=3.0.0->jarvis-tools) (0.10.0)\n",
            "Requirement already satisfied: pyparsing!=2.0.4,!=2.1.2,!=2.1.6,>=2.0.1 in /usr/local/lib/python3.7/dist-packages (from matplotlib>=3.0.0->jarvis-tools) (2.4.7)\n",
            "Requirement already satisfied: kiwisolver>=1.0.1 in /usr/local/lib/python3.7/dist-packages (from matplotlib>=3.0.0->jarvis-tools) (1.3.1)\n",
            "Requirement already satisfied: python-dateutil>=2.1 in /usr/local/lib/python3.7/dist-packages (from matplotlib>=3.0.0->jarvis-tools) (2.8.1)\n",
            "Requirement already satisfied: six in /usr/local/lib/python3.7/dist-packages (from cycler>=0.10->matplotlib>=3.0.0->jarvis-tools) (1.15.0)\n",
            "Requirement already satisfied: urllib3!=1.25.0,!=1.25.1,<1.26,>=1.21.1 in /usr/local/lib/python3.7/dist-packages (from requests>=2.23.0->jarvis-tools) (1.24.3)\n",
            "Requirement already satisfied: chardet<4,>=3.0.2 in /usr/local/lib/python3.7/dist-packages (from requests>=2.23.0->jarvis-tools) (3.0.4)\n",
            "Requirement already satisfied: certifi>=2017.4.17 in /usr/local/lib/python3.7/dist-packages (from requests>=2.23.0->jarvis-tools) (2021.5.30)\n",
            "Requirement already satisfied: idna<3,>=2.5 in /usr/local/lib/python3.7/dist-packages (from requests>=2.23.0->jarvis-tools) (2.10)\n",
            "Requirement already satisfied: scikit-learn in /usr/local/lib/python3.7/dist-packages (from lightgbm) (0.22.2.post1)\n"
          ],
          "name": "stdout"
        }
      ]
    },
    {
      "cell_type": "code",
      "metadata": {
        "id": "VqHe1fY_gGPO"
      },
      "source": [
        "import numpy as np\n",
        "import matplotlib.pyplot as plt\n",
        "from sklearn.model_selection import train_test_split\n",
        "from jarvis.ai.descriptors.elemental import get_element_fraction_desc\n",
        "from sklearn.metrics import r2_score, mean_squared_error, mean_absolute_error\n",
        "from sklearn.ensemble import RandomForestRegressor\n",
        "from sklearn.model_selection import GridSearchCV\n",
        "from jarvis.ai.pkgs.utils import mean_absolute_deviation\n",
        "from jarvis.ai.descriptors.cfid import get_chem_only_descriptors\n",
        "%matplotlib inline\n",
        "plt.rcParams.update({'font.size': 18})\n",
        "# Load a dataset, you can use pandas read_csv also to generte my_data\n",
        "# Here is a sample dataset\n",
        "my_data = [\n",
        "    [\"CoAl\", 1],\n",
        "    [\"CoNi\", 2],\n",
        "    [\"CoNb2Ni5\", 3],\n",
        "    [\"Co1.2Al2.3NiRe2\", 4],\n",
        "    [\"Co\", 5],\n",
        "    [\"CoAlTi\", 1],\n",
        "    [\"CoNiTi\", 2],\n",
        "    [\"CoNb2Ni5Ti\", 3],\n",
        "    [\"Co1.2Al2.3NiRe2Ti\", 4],\n",
        "    [\"CoTi\", 5],\n",
        "    [\"CoAlFe\", 1],\n",
        "    [\"CoNiFe\", 2],\n",
        "    [\"CoNb2Ni5Fe\", 3],\n",
        "    [\"Co1.2Al2.3NiRe2Fe\", 4],\n",
        "    [\"CoFe\", 5],\n",
        "]\n"
      ],
      "execution_count": null,
      "outputs": []
    },
    {
      "cell_type": "code",
      "metadata": {
        "colab": {
          "base_uri": "https://localhost:8080/"
        },
        "id": "T4zdx7PvgOn2",
        "outputId": "c535fd10-5bc1-4373-802f-a5241f200321"
      },
      "source": [
        "# Convert my_data to numpy array using CFID-Chem, Magpie and elemental fraction descriptors\n",
        "\n",
        "X_cfid = []\n",
        "X_Mag = []\n",
        "X_elff = []\n",
        "\n",
        "Y = []\n",
        "IDs = []\n",
        "\n",
        "for ii, i in enumerate(my_data):\n",
        "    comp = i[0]\n",
        "    elff = get_element_fraction_desc(comp)\n",
        "    desc_magpie,magpie_names = get_chem_only_descriptors(formula=comp, source=\"magpie\")\n",
        "    desc_cfid,cfid_names = get_chem_only_descriptors(formula=comp, source=\"cfid\")\n",
        "    val = i[1]\n",
        "    X_Mag.append(desc_magpie)\n",
        "    X_elff.append(elff)\n",
        "    X_cfid.append(desc_cfid)\n",
        "    Y.append(val)\n",
        "    IDs.append(ii)\n",
        "\n",
        "X_cfid = np.array(X_cfid)                 \n",
        "X_Mag = np.array(X_Mag)\n",
        "X_elff = np.array(X_elff)\n",
        "\n",
        "Y = np.array(Y).reshape(-1, 1)\n",
        "\n",
        "IDs = np.array(IDs)\n",
        "mad = mean_absolute_deviation(Y)\n",
        "print(\"MAD:\", mad)\n",
        "\n",
        "\n",
        "\n"
      ],
      "execution_count": null,
      "outputs": [
        {
          "output_type": "stream",
          "text": [
            "MAD: 1.2\n"
          ],
          "name": "stdout"
        }
      ]
    },
    {
      "cell_type": "code",
      "metadata": {
        "id": "bDrLJHizJaii",
        "outputId": "86a915b1-5fa4-47c5-994a-6a5bd20804f8",
        "colab": {
          "base_uri": "https://localhost:8080/"
        }
      },
      "source": [
        "#CFID-Chem\n",
        "# sc = StandardScaler()\n",
        "# X=sc.fit_transform(X)\n",
        "\n",
        "# selector = VarianceThreshold(0.00001)\n",
        "# X=selector.fit_transform(X)\n",
        "\n",
        "X=X_cfid\n",
        "X_train, X_test, y_train, y_test = train_test_split(\n",
        "    X, Y, random_state=1, test_size=0.1\n",
        ")\n",
        "\n",
        "random_regressor = RandomForestRegressor(\n",
        "    n_estimators=5, max_depth=5, n_jobs=-1, random_state=1\n",
        ")\n",
        "random_regressor.fit(X_train, y_train)\n",
        "pred = random_regressor.predict(X_test)\n",
        "rmse = np.sqrt(mean_squared_error(list(y_test), pred))\n",
        "mae = mean_absolute_error(list(y_test), pred)\n",
        "print(\"RMSE is %.3f\" % rmse)\n",
        "print(\"MAE is %.3f\" % mae)\n",
        "print(\"R2 score is: %.3f\" % r2_score(list(y_test), pred))\n",
        "print(\"MAD/MAE\", mad / mae)\n"
      ],
      "execution_count": null,
      "outputs": [
        {
          "output_type": "stream",
          "text": [
            "/usr/local/lib/python3.7/dist-packages/ipykernel_launcher.py:16: DataConversionWarning: A column-vector y was passed when a 1d array was expected. Please change the shape of y to (n_samples,), for example using ravel().\n",
            "  app.launch_new_instance()\n"
          ],
          "name": "stderr"
        },
        {
          "output_type": "stream",
          "text": [
            "RMSE is 0.424\n",
            "MAE is 0.300\n",
            "R2 score is: 0.280\n",
            "MAD/MAE 3.999999999999999\n"
          ],
          "name": "stdout"
        }
      ]
    },
    {
      "cell_type": "code",
      "metadata": {
        "id": "R_2IoUCwJueP",
        "outputId": "4b59bf28-2647-4df1-db60-e8f76a5e4b54",
        "colab": {
          "base_uri": "https://localhost:8080/"
        }
      },
      "source": [
        "# Magpie\n",
        "# sc = StandardScaler()\n",
        "# X=sc.fit_transform(X)\n",
        "\n",
        "# selector = VarianceThreshold(0.00001)\n",
        "# X=selector.fit_transform(X)\n",
        "\n",
        "X=X_Mag\n",
        "X_train, X_test, y_train, y_test = train_test_split(\n",
        "    X, Y, random_state=1, test_size=0.1\n",
        ")\n",
        "\n",
        "random_regressor = RandomForestRegressor(\n",
        "    n_estimators=5, max_depth=5, n_jobs=-1, random_state=1\n",
        ")\n",
        "random_regressor.fit(X_train, y_train)\n",
        "pred = random_regressor.predict(X_test)\n",
        "rmse = np.sqrt(mean_squared_error(list(y_test), pred))\n",
        "mae = mean_absolute_error(list(y_test), pred)\n",
        "print(\"RMSE is %.3f\" % rmse)\n",
        "print(\"MAE is %.3f\" % mae)\n",
        "print(\"R2 score is: %.3f\" % r2_score(list(y_test), pred))\n",
        "print(\"MAD/MAE\", mad / mae)\n"
      ],
      "execution_count": null,
      "outputs": [
        {
          "output_type": "stream",
          "text": [
            "/usr/local/lib/python3.7/dist-packages/ipykernel_launcher.py:16: DataConversionWarning: A column-vector y was passed when a 1d array was expected. Please change the shape of y to (n_samples,), for example using ravel().\n",
            "  app.launch_new_instance()\n"
          ],
          "name": "stderr"
        },
        {
          "output_type": "stream",
          "text": [
            "RMSE is 0.283\n",
            "MAE is 0.200\n",
            "R2 score is: 0.680\n",
            "MAD/MAE 6.000000000000001\n"
          ],
          "name": "stdout"
        }
      ]
    },
    {
      "cell_type": "code",
      "metadata": {
        "id": "qQ_XufkUJzDd",
        "outputId": "c079bed1-9301-4e8f-caaa-810049159615",
        "colab": {
          "base_uri": "https://localhost:8080/"
        }
      },
      "source": [
        "#Element fraction\n",
        "# sc = StandardScaler()\n",
        "# X=sc.fit_transform(X)\n",
        "\n",
        "# selector = VarianceThreshold(0.00001)\n",
        "# X=selector.fit_transform(X)\n",
        "\n",
        "X=X_elff\n",
        "X_train, X_test, y_train, y_test = train_test_split(\n",
        "    X, Y, random_state=1, test_size=0.1\n",
        ")\n",
        "\n",
        "random_regressor = RandomForestRegressor(\n",
        "    n_estimators=5, max_depth=5, n_jobs=-1, random_state=1\n",
        ")\n",
        "random_regressor.fit(X_train, y_train)\n",
        "pred = random_regressor.predict(X_test)\n",
        "rmse = np.sqrt(mean_squared_error(list(y_test), pred))\n",
        "mae = mean_absolute_error(list(y_test), pred)\n",
        "print(\"RMSE is %.3f\" % rmse)\n",
        "print(\"MAE is %.3f\" % mae)\n",
        "print(\"R2 score is: %.3f\" % r2_score(list(y_test), pred))\n",
        "print(\"MAD/MAE\", mad / mae)\n"
      ],
      "execution_count": null,
      "outputs": [
        {
          "output_type": "stream",
          "text": [
            "/usr/local/lib/python3.7/dist-packages/ipykernel_launcher.py:16: DataConversionWarning: A column-vector y was passed when a 1d array was expected. Please change the shape of y to (n_samples,), for example using ravel().\n",
            "  app.launch_new_instance()\n"
          ],
          "name": "stderr"
        },
        {
          "output_type": "stream",
          "text": [
            "RMSE is 1.273\n",
            "MAE is 0.900\n",
            "R2 score is: -5.480\n",
            "MAD/MAE 1.3333333333333335\n"
          ],
          "name": "stdout"
        }
      ]
    },
    {
      "cell_type": "code",
      "metadata": {
        "id": "nPxGZA1RgPjB",
        "outputId": "76c113e8-af11-4879-ab5c-090a1fbbe29f",
        "colab": {
          "base_uri": "https://localhost:8080/"
        }
      },
      "source": [
        "# Grid search for Magpie\n",
        "X=X_Mag\n",
        "X_train, X_test, y_train, y_test = train_test_split(\n",
        "    X, Y, random_state=1, test_size=0.1\n",
        ")\n",
        "model = RandomForestRegressor(random_state=1)\n",
        "# Create a parameter grid. We will go over\n",
        "# each possible combination of allowed parameters in the grid.\n",
        "param_grid = {\n",
        "    \"n_estimators\": [2, 3, 4, 5],\n",
        "    # \"max_features\"      : [ 0.4, 0.6,0.8,1], #,\n",
        "    \"max_depth\": [2, 3, 4, 5, 10, 50],\n",
        "    # 'min_samples_split':range(2, 6, 2)\n",
        "    # \"bootstrap\": [True, False]\n",
        "}\n",
        "\n",
        "# Create a grid search cross validation model.\n",
        "# It performs 5 fold cross validation by default.\n",
        "cross_val_obj = GridSearchCV(\n",
        "    model, param_grid=param_grid, n_jobs=-1, cv=5, return_train_score=True\n",
        ")\n",
        "# Perform the cross validation using our train data.\n",
        "cross_val_obj.fit(X_train, y_train)\n",
        "# Select the trained tree that did the best in the cross\n",
        "# validation.\n",
        "best_regressor = cross_val_obj.best_estimator_\n",
        "print(\n",
        "    \"The model with the best score from CV is %.3f\" % cross_val_obj.best_score_\n",
        ")\n",
        "print(\n",
        "    \"The best param(s) for the CV search is/are %s\"\n",
        "    % cross_val_obj.best_params_\n",
        ")\n",
        "print(\n",
        "    \"The model with the best R2 from CV is %.3f\"\n",
        "    % r2_score(list(y_test), best_regressor.predict(X_test))\n",
        ")\n",
        "\n",
        "\n",
        "# Now test this model on our validation dataset\n",
        "# which haven't yet exposed to our model.\n",
        "predictions_list = best_regressor.predict(X_test)\n",
        "rmse = np.sqrt(mean_squared_error(list(y_test), predictions_list))\n",
        "mae = mean_absolute_error(list(y_test), predictions_list)\n",
        "r2 = r2_score(list(y_test), predictions_list)\n",
        "print(\n",
        "    \" The root mean squared error for the regressor found by CV is: %.3f\"\n",
        "    % rmse\n",
        ")\n",
        "print(\" The mean absolute error for the regressor found by CV is: %.3f\" % mae)\n",
        "print(\" The R2 for the regressor found by CV is: %.3f\" % r2)\n"
      ],
      "execution_count": null,
      "outputs": [
        {
          "output_type": "stream",
          "text": [
            "The model with the best score from CV is -0.179\n",
            "The best param(s) for the CV search is/are {'max_depth': 3, 'n_estimators': 4}\n",
            "The model with the best R2 from CV is 0.875\n",
            " The root mean squared error for the regressor found by CV is: 0.177\n",
            " The mean absolute error for the regressor found by CV is: 0.125\n",
            " The R2 for the regressor found by CV is: 0.875\n"
          ],
          "name": "stdout"
        },
        {
          "output_type": "stream",
          "text": [
            "/usr/local/lib/python3.7/dist-packages/sklearn/model_selection/_search.py:739: DataConversionWarning: A column-vector y was passed when a 1d array was expected. Please change the shape of y to (n_samples,), for example using ravel().\n",
            "  self.best_estimator_.fit(X, y, **fit_params)\n"
          ],
          "name": "stderr"
        }
      ]
    },
    {
      "cell_type": "code",
      "metadata": {
        "id": "iU_OPa42Jozd",
        "outputId": "3621b4ee-99e7-4e06-b0d3-51e07213b53d",
        "colab": {
          "base_uri": "https://localhost:8080/",
          "height": 398
        }
      },
      "source": [
        "# Feature importance\n",
        "f_names = np.array(magpie_names)\n",
        "importances = best_regressor.feature_importances_\n",
        "order = np.argsort(importances)[::-1]\n",
        "numb_feats=10\n",
        "plt.bar(np.arange(0,numb_feats),importances[order][0:numb_feats])\n",
        "plt.xticks(np.arange(0,numb_feats),f_names[order][0:numb_feats],rotation=90)\n",
        "f_names[order][0:numb_feats]\n",
        "plt.rcParams.update({'font.size': 24})"
      ],
      "execution_count": null,
      "outputs": [
        {
          "output_type": "display_data",
          "data": {
            "image/png": "[encoded data removed]",
            "text/plain": [
              "<Figure size 432x288 with 1 Axes>"
            ]
          },
          "metadata": {
            "tags": [],
            "needs_background": "light"
          }
        }
      ]
    },
    {
      "cell_type": "code",
      "metadata": {
        "id": "dwFO7efVKa0c",
        "outputId": "0737bb69-4662-4c2f-d9e4-39a21c71fbff",
        "colab": {
          "base_uri": "https://localhost:8080/"
        }
      },
      "source": [
        "# Grid search for CFID\n",
        "X=X_cfid\n",
        "X_train, X_test, y_train, y_test = train_test_split(\n",
        "    X, Y, random_state=1, test_size=0.1\n",
        ")\n",
        "model = RandomForestRegressor(random_state=1)\n",
        "# Create a parameter grid. We will go over\n",
        "# each possible combination of allowed parameters in the grid.\n",
        "param_grid = {\n",
        "    \"n_estimators\": [2, 3, 4, 5],\n",
        "    # \"max_features\"      : [ 0.4, 0.6,0.8,1], #,\n",
        "    \"max_depth\": [2, 3, 4, 5, 10, 50],\n",
        "    # 'min_samples_split':range(2, 6, 2)\n",
        "    # \"bootstrap\": [True, False]\n",
        "}\n",
        "\n",
        "# Create a grid search cross validation model.\n",
        "# It performs 5 fold cross validation by default.\n",
        "cross_val_obj = GridSearchCV(\n",
        "    model, param_grid=param_grid, n_jobs=-1, cv=5, return_train_score=True\n",
        ")\n",
        "# Perform the cross validation using our train data.\n",
        "cross_val_obj.fit(X_train, y_train)\n",
        "# Select the trained tree that did the best in the cross\n",
        "# validation.\n",
        "best_regressor = cross_val_obj.best_estimator_\n",
        "print(\n",
        "    \"The model with the best score from CV is %.3f\" % cross_val_obj.best_score_\n",
        ")\n",
        "print(\n",
        "    \"The best param(s) for the CV search is/are %s\"\n",
        "    % cross_val_obj.best_params_\n",
        ")\n",
        "print(\n",
        "    \"The model with the best R2 from CV is %.3f\"\n",
        "    % r2_score(list(y_test), best_regressor.predict(X_test))\n",
        ")\n",
        "\n",
        "\n",
        "# Now test this model on our validation dataset\n",
        "# which haven't yet exposed to our model.\n",
        "predictions_list = best_regressor.predict(X_test)\n",
        "rmse = np.sqrt(mean_squared_error(list(y_test), predictions_list))\n",
        "mae = mean_absolute_error(list(y_test), predictions_list)\n",
        "r2 = r2_score(list(y_test), predictions_list)\n",
        "print(\n",
        "    \" The root mean squared error for the regressor found by CV is: %.3f\"\n",
        "    % rmse\n",
        ")\n",
        "print(\" The mean absolute error for the regressor found by CV is: %.3f\" % mae)\n",
        "print(\" The R2 for the regressor found by CV is: %.3f\" % r2)\n"
      ],
      "execution_count": null,
      "outputs": [
        {
          "output_type": "stream",
          "text": [
            "The model with the best score from CV is -0.311\n",
            "The best param(s) for the CV search is/are {'max_depth': 3, 'n_estimators': 5}\n",
            "The model with the best R2 from CV is 0.280\n",
            " The root mean squared error for the regressor found by CV is: 0.424\n",
            " The mean absolute error for the regressor found by CV is: 0.300\n",
            " The R2 for the regressor found by CV is: 0.280\n"
          ],
          "name": "stdout"
        },
        {
          "output_type": "stream",
          "text": [
            "/usr/local/lib/python3.7/dist-packages/sklearn/model_selection/_search.py:739: DataConversionWarning: A column-vector y was passed when a 1d array was expected. Please change the shape of y to (n_samples,), for example using ravel().\n",
            "  self.best_estimator_.fit(X, y, **fit_params)\n"
          ],
          "name": "stderr"
        }
      ]
    },
    {
      "cell_type": "code",
      "metadata": {
        "id": "YZsDYNrfKiO9",
        "outputId": "64369851-6720-4822-badf-9616d30a371d",
        "colab": {
          "base_uri": "https://localhost:8080/",
          "height": 722
        }
      },
      "source": [
        "#Feature importance\n",
        "f_names = np.array(cfid_names)\n",
        "importances = best_regressor.feature_importances_\n",
        "order = np.argsort(importances)[::-1]\n",
        "numb_feats=10\n",
        "plt.bar(np.arange(0,numb_feats),importances[order][0:numb_feats])\n",
        "plt.xticks(np.arange(0,numb_feats),f_names[order][0:numb_feats],rotation=90)\n",
        "f_names[order][0:numb_feats]\n"
      ],
      "execution_count": null,
      "outputs": [
        {
          "output_type": "display_data",
          "data": {
            "image/png": "[encoded data removed]",
            "text/plain": [
              "<Figure size 432x288 with 1 Axes>"
            ]
          },
          "metadata": {
            "tags": [],
            "needs_background": "light"
          }
        }
      ]
    },
    {
      "cell_type": "code",
      "metadata": {
        "id": "aqd_9GG7KneU"
      },
      "source": [
        ""
      ],
      "execution_count": null,
      "outputs": []
    }
  ]
}