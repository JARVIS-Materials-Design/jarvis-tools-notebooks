{
  "nbformat": 4,
  "nbformat_minor": 0,
  "metadata": {
    "kernelspec": {
      "display_name": "Python 3",
      "language": "python",
      "name": "python3"
    },
    "language_info": {
      "codemirror_mode": {
        "name": "ipython",
        "version": 3
      },
      "file_extension": ".py",
      "mimetype": "text/x-python",
      "name": "python",
      "nbconvert_exporter": "python",
      "pygments_lexer": "ipython3",
      "version": "3.6.7"
    },
    "colab": {
      "name": "Analyzing data in the JARVIS-DFT dataset.ipynb",
      "provenance": [],
      "include_colab_link": true
    }
  },
  "cells": [
    {
      "cell_type": "markdown",
      "metadata": {
        "id": "view-in-github",
        "colab_type": "text"
      },
      "source": [
        "<a href=\"https://colab.research.google.com/github/knc6/jarvis-tools-notebooks/blob/master/jarvis-tools-notebooks/Comapre_MP_JV.ipynb\" target=\"_parent\"><img src=\"https://colab.research.google.com/assets/colab-badge.svg\" alt=\"Open In Colab\"/></a>"
      ]
    },
    {
      "cell_type": "code",
      "metadata": {
        "id": "M5yTngAGwIy0",
        "colab": {
          "base_uri": "https://localhost:8080/"
        },
        "outputId": "9535f8dd-bcb3-4940-c77e-a51e40112e7f"
      },
      "source": [
        "!pip install jarvis-tools"
      ],
      "execution_count": 1,
      "outputs": [
        {
          "output_type": "stream",
          "text": [
            "Collecting jarvis-tools\n",
            "  Downloading jarvis_tools-2021.8.18-py2.py3-none-any.whl (946 kB)\n",
            "\u001b[?25l\r\u001b[K     |▍                               | 10 kB 22.7 MB/s eta 0:00:01\r\u001b[K     |▊                               | 20 kB 22.3 MB/s eta 0:00:01\r\u001b[K     |█                               | 30 kB 17.7 MB/s eta 0:00:01\r\u001b[K     |█▍                              | 40 kB 12.4 MB/s eta 0:00:01\r\u001b[K     |█▊                              | 51 kB 10.3 MB/s eta 0:00:01\r\u001b[K     |██                              | 61 kB 10.1 MB/s eta 0:00:01\r\u001b[K     |██▍                             | 71 kB 9.2 MB/s eta 0:00:01\r\u001b[K     |██▊                             | 81 kB 8.5 MB/s eta 0:00:01\r\u001b[K     |███▏                            | 92 kB 8.7 MB/s eta 0:00:01\r\u001b[K     |███▌                            | 102 kB 9.5 MB/s eta 0:00:01\r\u001b[K     |███▉                            | 112 kB 9.5 MB/s eta 0:00:01\r\u001b[K     |████▏                           | 122 kB 9.5 MB/s eta 0:00:01\r\u001b[K     |████▌                           | 133 kB 9.5 MB/s eta 0:00:01\r\u001b[K     |████▉                           | 143 kB 9.5 MB/s eta 0:00:01\r\u001b[K     |█████▏                          | 153 kB 9.5 MB/s eta 0:00:01\r\u001b[K     |█████▌                          | 163 kB 9.5 MB/s eta 0:00:01\r\u001b[K     |█████▉                          | 174 kB 9.5 MB/s eta 0:00:01\r\u001b[K     |██████▎                         | 184 kB 9.5 MB/s eta 0:00:01\r\u001b[K     |██████▋                         | 194 kB 9.5 MB/s eta 0:00:01\r\u001b[K     |███████                         | 204 kB 9.5 MB/s eta 0:00:01\r\u001b[K     |███████▎                        | 215 kB 9.5 MB/s eta 0:00:01\r\u001b[K     |███████▋                        | 225 kB 9.5 MB/s eta 0:00:01\r\u001b[K     |████████                        | 235 kB 9.5 MB/s eta 0:00:01\r\u001b[K     |████████▎                       | 245 kB 9.5 MB/s eta 0:00:01\r\u001b[K     |████████▋                       | 256 kB 9.5 MB/s eta 0:00:01\r\u001b[K     |█████████                       | 266 kB 9.5 MB/s eta 0:00:01\r\u001b[K     |█████████▍                      | 276 kB 9.5 MB/s eta 0:00:01\r\u001b[K     |█████████▊                      | 286 kB 9.5 MB/s eta 0:00:01\r\u001b[K     |██████████                      | 296 kB 9.5 MB/s eta 0:00:01\r\u001b[K     |██████████▍                     | 307 kB 9.5 MB/s eta 0:00:01\r\u001b[K     |██████████▊                     | 317 kB 9.5 MB/s eta 0:00:01\r\u001b[K     |███████████                     | 327 kB 9.5 MB/s eta 0:00:01\r\u001b[K     |███████████▍                    | 337 kB 9.5 MB/s eta 0:00:01\r\u001b[K     |███████████▊                    | 348 kB 9.5 MB/s eta 0:00:01\r\u001b[K     |████████████▏                   | 358 kB 9.5 MB/s eta 0:00:01\r\u001b[K     |████████████▌                   | 368 kB 9.5 MB/s eta 0:00:01\r\u001b[K     |████████████▉                   | 378 kB 9.5 MB/s eta 0:00:01\r\u001b[K     |█████████████▏                  | 389 kB 9.5 MB/s eta 0:00:01\r\u001b[K     |█████████████▌                  | 399 kB 9.5 MB/s eta 0:00:01\r\u001b[K     |█████████████▉                  | 409 kB 9.5 MB/s eta 0:00:01\r\u001b[K     |██████████████▏                 | 419 kB 9.5 MB/s eta 0:00:01\r\u001b[K     |██████████████▌                 | 430 kB 9.5 MB/s eta 0:00:01\r\u001b[K     |██████████████▉                 | 440 kB 9.5 MB/s eta 0:00:01\r\u001b[K     |███████████████▎                | 450 kB 9.5 MB/s eta 0:00:01\r\u001b[K     |███████████████▋                | 460 kB 9.5 MB/s eta 0:00:01\r\u001b[K     |████████████████                | 471 kB 9.5 MB/s eta 0:00:01\r\u001b[K     |████████████████▎               | 481 kB 9.5 MB/s eta 0:00:01\r\u001b[K     |████████████████▋               | 491 kB 9.5 MB/s eta 0:00:01\r\u001b[K     |█████████████████               | 501 kB 9.5 MB/s eta 0:00:01\r\u001b[K     |█████████████████▎              | 512 kB 9.5 MB/s eta 0:00:01\r\u001b[K     |█████████████████▋              | 522 kB 9.5 MB/s eta 0:00:01\r\u001b[K     |██████████████████              | 532 kB 9.5 MB/s eta 0:00:01\r\u001b[K     |██████████████████▍             | 542 kB 9.5 MB/s eta 0:00:01\r\u001b[K     |██████████████████▊             | 552 kB 9.5 MB/s eta 0:00:01\r\u001b[K     |███████████████████             | 563 kB 9.5 MB/s eta 0:00:01\r\u001b[K     |███████████████████▍            | 573 kB 9.5 MB/s eta 0:00:01\r\u001b[K     |███████████████████▊            | 583 kB 9.5 MB/s eta 0:00:01\r\u001b[K     |████████████████████            | 593 kB 9.5 MB/s eta 0:00:01\r\u001b[K     |████████████████████▍           | 604 kB 9.5 MB/s eta 0:00:01\r\u001b[K     |████████████████████▊           | 614 kB 9.5 MB/s eta 0:00:01\r\u001b[K     |█████████████████████▏          | 624 kB 9.5 MB/s eta 0:00:01\r\u001b[K     |█████████████████████▌          | 634 kB 9.5 MB/s eta 0:00:01\r\u001b[K     |█████████████████████▉          | 645 kB 9.5 MB/s eta 0:00:01\r\u001b[K     |██████████████████████▏         | 655 kB 9.5 MB/s eta 0:00:01\r\u001b[K     |██████████████████████▌         | 665 kB 9.5 MB/s eta 0:00:01\r\u001b[K     |██████████████████████▉         | 675 kB 9.5 MB/s eta 0:00:01\r\u001b[K     |███████████████████████▏        | 686 kB 9.5 MB/s eta 0:00:01\r\u001b[K     |███████████████████████▌        | 696 kB 9.5 MB/s eta 0:00:01\r\u001b[K     |███████████████████████▉        | 706 kB 9.5 MB/s eta 0:00:01\r\u001b[K     |████████████████████████▎       | 716 kB 9.5 MB/s eta 0:00:01\r\u001b[K     |████████████████████████▋       | 727 kB 9.5 MB/s eta 0:00:01\r\u001b[K     |█████████████████████████       | 737 kB 9.5 MB/s eta 0:00:01\r\u001b[K     |█████████████████████████▎      | 747 kB 9.5 MB/s eta 0:00:01\r\u001b[K     |█████████████████████████▋      | 757 kB 9.5 MB/s eta 0:00:01\r\u001b[K     |██████████████████████████      | 768 kB 9.5 MB/s eta 0:00:01\r\u001b[K     |██████████████████████████▎     | 778 kB 9.5 MB/s eta 0:00:01\r\u001b[K     |██████████████████████████▋     | 788 kB 9.5 MB/s eta 0:00:01\r\u001b[K     |███████████████████████████     | 798 kB 9.5 MB/s eta 0:00:01\r\u001b[K     |███████████████████████████▍    | 808 kB 9.5 MB/s eta 0:00:01\r\u001b[K     |███████████████████████████▊    | 819 kB 9.5 MB/s eta 0:00:01\r\u001b[K     |████████████████████████████    | 829 kB 9.5 MB/s eta 0:00:01\r\u001b[K     |████████████████████████████▍   | 839 kB 9.5 MB/s eta 0:00:01\r\u001b[K     |████████████████████████████▊   | 849 kB 9.5 MB/s eta 0:00:01\r\u001b[K     |█████████████████████████████   | 860 kB 9.5 MB/s eta 0:00:01\r\u001b[K     |█████████████████████████████▍  | 870 kB 9.5 MB/s eta 0:00:01\r\u001b[K     |█████████████████████████████▊  | 880 kB 9.5 MB/s eta 0:00:01\r\u001b[K     |██████████████████████████████▏ | 890 kB 9.5 MB/s eta 0:00:01\r\u001b[K     |██████████████████████████████▌ | 901 kB 9.5 MB/s eta 0:00:01\r\u001b[K     |██████████████████████████████▉ | 911 kB 9.5 MB/s eta 0:00:01\r\u001b[K     |███████████████████████████████▏| 921 kB 9.5 MB/s eta 0:00:01\r\u001b[K     |███████████████████████████████▌| 931 kB 9.5 MB/s eta 0:00:01\r\u001b[K     |███████████████████████████████▉| 942 kB 9.5 MB/s eta 0:00:01\r\u001b[K     |████████████████████████████████| 946 kB 9.5 MB/s \n",
            "\u001b[?25hRequirement already satisfied: matplotlib>=3.0.0 in /usr/local/lib/python3.7/dist-packages (from jarvis-tools) (3.2.2)\n",
            "Requirement already satisfied: scipy>=1.4.1 in /usr/local/lib/python3.7/dist-packages (from jarvis-tools) (1.4.1)\n",
            "Collecting xmltodict>=0.11.0\n",
            "  Downloading xmltodict-0.12.0-py2.py3-none-any.whl (9.2 kB)\n",
            "Requirement already satisfied: joblib>=0.14.1 in /usr/local/lib/python3.7/dist-packages (from jarvis-tools) (1.0.1)\n",
            "Requirement already satisfied: toolz>=0.9.0 in /usr/local/lib/python3.7/dist-packages (from jarvis-tools) (0.11.1)\n",
            "Requirement already satisfied: tqdm>=4.41.1 in /usr/local/lib/python3.7/dist-packages (from jarvis-tools) (4.62.0)\n",
            "Collecting spglib>=1.14.1\n",
            "  Downloading spglib-1.16.2-cp37-cp37m-manylinux_2_17_x86_64.manylinux2014_x86_64.whl (292 kB)\n",
            "\u001b[K     |████████████████████████████████| 292 kB 43.5 MB/s \n",
            "\u001b[?25hRequirement already satisfied: requests>=2.23.0 in /usr/local/lib/python3.7/dist-packages (from jarvis-tools) (2.23.0)\n",
            "Requirement already satisfied: numpy>=1.19.5 in /usr/local/lib/python3.7/dist-packages (from jarvis-tools) (1.19.5)\n",
            "Requirement already satisfied: cycler>=0.10 in /usr/local/lib/python3.7/dist-packages (from matplotlib>=3.0.0->jarvis-tools) (0.10.0)\n",
            "Requirement already satisfied: pyparsing!=2.0.4,!=2.1.2,!=2.1.6,>=2.0.1 in /usr/local/lib/python3.7/dist-packages (from matplotlib>=3.0.0->jarvis-tools) (2.4.7)\n",
            "Requirement already satisfied: kiwisolver>=1.0.1 in /usr/local/lib/python3.7/dist-packages (from matplotlib>=3.0.0->jarvis-tools) (1.3.1)\n",
            "Requirement already satisfied: python-dateutil>=2.1 in /usr/local/lib/python3.7/dist-packages (from matplotlib>=3.0.0->jarvis-tools) (2.8.2)\n",
            "Requirement already satisfied: six in /usr/local/lib/python3.7/dist-packages (from cycler>=0.10->matplotlib>=3.0.0->jarvis-tools) (1.15.0)\n",
            "Requirement already satisfied: urllib3!=1.25.0,!=1.25.1,<1.26,>=1.21.1 in /usr/local/lib/python3.7/dist-packages (from requests>=2.23.0->jarvis-tools) (1.24.3)\n",
            "Requirement already satisfied: certifi>=2017.4.17 in /usr/local/lib/python3.7/dist-packages (from requests>=2.23.0->jarvis-tools) (2021.5.30)\n",
            "Requirement already satisfied: idna<3,>=2.5 in /usr/local/lib/python3.7/dist-packages (from requests>=2.23.0->jarvis-tools) (2.10)\n",
            "Requirement already satisfied: chardet<4,>=3.0.2 in /usr/local/lib/python3.7/dist-packages (from requests>=2.23.0->jarvis-tools) (3.0.4)\n",
            "Installing collected packages: xmltodict, spglib, jarvis-tools\n",
            "Successfully installed jarvis-tools-2021.8.18 spglib-1.16.2 xmltodict-0.12.0\n"
          ],
          "name": "stdout"
        }
      ]
    },
    {
      "cell_type": "code",
      "metadata": {
        "id": "CzdszIiKwAUk",
        "colab": {
          "base_uri": "https://localhost:8080/"
        },
        "outputId": "10c78f0d-196b-429c-ecca-5a1ffa22175c"
      },
      "source": [
        "from jarvis.db.figshare import data\n",
        "\n",
        "dft_3d = data('dft_3d')\n",
        "mp_megnet=data('megnet')"
      ],
      "execution_count": 2,
      "outputs": [
        {
          "output_type": "stream",
          "text": [
            "Obtaining 3D dataset 55k ...\n",
            "Reference:https://www.nature.com/articles/s41524-020-00440-1\n"
          ],
          "name": "stdout"
        },
        {
          "output_type": "stream",
          "text": [
            "100%|██████████| 31.9M/31.9M [00:03<00:00, 9.63MiB/s]\n"
          ],
          "name": "stderr"
        },
        {
          "output_type": "stream",
          "text": [
            "Loading the zipfile...\n",
            "Loading completed.\n",
            "Obtaining MEGNET-3D CFID dataset 69k...\n",
            "Reference:https://pubs.acs.org/doi/10.1021/acs.chemmater.9b01294\n"
          ],
          "name": "stdout"
        },
        {
          "output_type": "stream",
          "text": [
            "100%|██████████| 562M/562M [00:30<00:00, 18.3MiB/s]\n"
          ],
          "name": "stderr"
        },
        {
          "output_type": "stream",
          "text": [
            "Loading the zipfile...\n",
            "Loading completed.\n"
          ],
          "name": "stdout"
        }
      ]
    },
    {
      "cell_type": "code",
      "metadata": {
        "id": "VU7_uav2wAVN",
        "colab": {
          "base_uri": "https://localhost:8080/"
        },
        "outputId": "175c53cb-50f6-403d-a1f9-70665d576fe0"
      },
      "source": [
        "# data-size\n",
        "print (len(dft_3d),len(mp_megnet))"
      ],
      "execution_count": 4,
      "outputs": [
        {
          "output_type": "stream",
          "text": [
            "55723 69239\n"
          ],
          "name": "stdout"
        }
      ]
    },
    {
      "cell_type": "code",
      "metadata": {
        "id": "PohqUYrVwAVm"
      },
      "source": [
        "# let's make a pandas dataframe from the figshare json file\n",
        "# pip install pandas, if you haven't installed yet\n",
        "import pandas as pd\n",
        "import numpy as np\n",
        "\n",
        "df=pd.DataFrame(dft_3d)\n",
        "dg_mp=pd.DataFrame(mp_megnet)"
      ],
      "execution_count": 5,
      "outputs": []
    },
    {
      "cell_type": "code",
      "metadata": {
        "id": "rk3xQ0UqDEVQ"
      },
      "source": [
        "df['id']=df['reference']"
      ],
      "execution_count": 7,
      "outputs": []
    },
    {
      "cell_type": "code",
      "metadata": {
        "id": "0MbyA3yZRwri",
        "outputId": "5c7c07f1-ebc4-4cb7-dfee-dc90ed565dba",
        "colab": {
          "base_uri": "https://localhost:8080/",
          "height": 683
        }
      },
      "source": [
        "dg_mp"
      ],
      "execution_count": 12,
      "outputs": [
        {
          "output_type": "execute_result",
          "data": {
            "text/html": [
              "<div>\n",
              "<style scoped>\n",
              "    .dataframe tbody tr th:only-of-type {\n",
              "        vertical-align: middle;\n",
              "    }\n",
              "\n",
              "    .dataframe tbody tr th {\n",
              "        vertical-align: top;\n",
              "    }\n",
              "\n",
              "    .dataframe thead th {\n",
              "        text-align: right;\n",
              "    }\n",
              "</style>\n",
              "<table border=\"1\" class=\"dataframe\">\n",
              "  <thead>\n",
              "    <tr style=\"text-align: right;\">\n",
              "      <th></th>\n",
              "      <th>id</th>\n",
              "      <th>desc</th>\n",
              "      <th>formula</th>\n",
              "      <th>e_hull</th>\n",
              "      <th>gap pbe</th>\n",
              "      <th>mu_b</th>\n",
              "      <th>elastic anisotropy</th>\n",
              "      <th>bulk modulus</th>\n",
              "      <th>shear modulus</th>\n",
              "      <th>atoms</th>\n",
              "      <th>e_form</th>\n",
              "    </tr>\n",
              "  </thead>\n",
              "  <tbody>\n",
              "    <tr>\n",
              "      <th>0</th>\n",
              "      <td>mp-10</td>\n",
              "      <td>[1020.05, 887.2444, 3.9000000000000004, -61.97...</td>\n",
              "      <td>As</td>\n",
              "      <td>0.107405</td>\n",
              "      <td>0.0000</td>\n",
              "      <td>-2.7e-06</td>\n",
              "      <td>NaN</td>\n",
              "      <td>NaN</td>\n",
              "      <td>NaN</td>\n",
              "      <td>{'lattice_mat': [[3.35275227, 0.0, 1.93571242]...</td>\n",
              "      <td>0.107405</td>\n",
              "    </tr>\n",
              "    <tr>\n",
              "      <th>1</th>\n",
              "      <td>mp-100</td>\n",
              "      <td>[7557.8, 4876.272, 0.0, -165.05, 0.0, 171.6649...</td>\n",
              "      <td>Hf</td>\n",
              "      <td>0.181111</td>\n",
              "      <td>0.0000</td>\n",
              "      <td>-1.35e-05</td>\n",
              "      <td>NaN</td>\n",
              "      <td>NaN</td>\n",
              "      <td>NaN</td>\n",
              "      <td>{'lattice_mat': [[2.89172723, 0.0, -1.02237997...</td>\n",
              "      <td>0.181111</td>\n",
              "    </tr>\n",
              "    <tr>\n",
              "      <th>2</th>\n",
              "      <td>mp-1000</td>\n",
              "      <td>[3186.4249999999997, 1702.1225, 5.4525, -103.1...</td>\n",
              "      <td>BaTe</td>\n",
              "      <td>0</td>\n",
              "      <td>1.5930</td>\n",
              "      <td>7.9e-06</td>\n",
              "      <td>-5.15413</td>\n",
              "      <td>-1.50564</td>\n",
              "      <td>-52.7222</td>\n",
              "      <td>{'lattice_mat': [[4.34157255, 0.0, 2.50660808]...</td>\n",
              "      <td>-1.790168</td>\n",
              "    </tr>\n",
              "    <tr>\n",
              "      <th>3</th>\n",
              "      <td>mp-10000</td>\n",
              "      <td>[4137.835, 2797.079605, 4.0, -90.7925, 0.0, 96...</td>\n",
              "      <td>Hf2S</td>\n",
              "      <td>0</td>\n",
              "      <td>0.0000</td>\n",
              "      <td>6.11e-05</td>\n",
              "      <td>0.353099</td>\n",
              "      <td>131.402</td>\n",
              "      <td>73.9132</td>\n",
              "      <td>{'lattice_mat': [[3.38667876, 0.0, 0.0], [-1.6...</td>\n",
              "      <td>-1.253224</td>\n",
              "    </tr>\n",
              "    <tr>\n",
              "      <th>4</th>\n",
              "      <td>mp-10003</td>\n",
              "      <td>[5028.316666666667, 3796.988033333333, 7.64466...</td>\n",
              "      <td>Nb4CoSi</td>\n",
              "      <td>0.0192721</td>\n",
              "      <td>0.0064</td>\n",
              "      <td>0</td>\n",
              "      <td>0.03</td>\n",
              "      <td>191</td>\n",
              "      <td>97</td>\n",
              "      <td>{'lattice_mat': [[5.02169644, 0.0, 0.0], [0.0,...</td>\n",
              "      <td>-0.343178</td>\n",
              "    </tr>\n",
              "    <tr>\n",
              "      <th>...</th>\n",
              "      <td>...</td>\n",
              "      <td>...</td>\n",
              "      <td>...</td>\n",
              "      <td>...</td>\n",
              "      <td>...</td>\n",
              "      <td>...</td>\n",
              "      <td>...</td>\n",
              "      <td>...</td>\n",
              "      <td>...</td>\n",
              "      <td>...</td>\n",
              "      <td>...</td>\n",
              "    </tr>\n",
              "    <tr>\n",
              "      <th>69234</th>\n",
              "      <td>mp-715469</td>\n",
              "      <td>[3960.96, 2959.36265, 6.045, -86.5047, 0.0, 89...</td>\n",
              "      <td>WO3</td>\n",
              "      <td>na</td>\n",
              "      <td>1.1162</td>\n",
              "      <td>na</td>\n",
              "      <td>na</td>\n",
              "      <td>na</td>\n",
              "      <td>na</td>\n",
              "      <td>{'lattice_mat': [[3.86270157, 0.0, 2.365222556...</td>\n",
              "      <td>-2.182536</td>\n",
              "    </tr>\n",
              "    <tr>\n",
              "      <th>69235</th>\n",
              "      <td>mp-25593</td>\n",
              "      <td>[2177.61, 1638.1885, 8.835, -25.37139999999999...</td>\n",
              "      <td>NiO2</td>\n",
              "      <td>na</td>\n",
              "      <td>1.5195</td>\n",
              "      <td>na</td>\n",
              "      <td>na</td>\n",
              "      <td>na</td>\n",
              "      <td>na</td>\n",
              "      <td>{'lattice_mat': [[2.6928644737314733, 0.0, 4.3...</td>\n",
              "      <td>-0.549193</td>\n",
              "    </tr>\n",
              "    <tr>\n",
              "      <th>69236</th>\n",
              "      <td>mp-604573</td>\n",
              "      <td>[550.0, 550.1854, 3.5999999999999996, -13.9537...</td>\n",
              "      <td>P</td>\n",
              "      <td>na</td>\n",
              "      <td>0.0000</td>\n",
              "      <td>na</td>\n",
              "      <td>na</td>\n",
              "      <td>na</td>\n",
              "      <td>na</td>\n",
              "      <td>{'lattice_mat': [[2.43836828, 0.0, 1.493069954...</td>\n",
              "      <td>0.141298</td>\n",
              "    </tr>\n",
              "    <tr>\n",
              "      <th>69237</th>\n",
              "      <td>mp-19283</td>\n",
              "      <td>[3960.96, 2959.36265, 6.045, -86.5047, 0.0, 89...</td>\n",
              "      <td>WO3</td>\n",
              "      <td>na</td>\n",
              "      <td>1.3694</td>\n",
              "      <td>na</td>\n",
              "      <td>na</td>\n",
              "      <td>na</td>\n",
              "      <td>na</td>\n",
              "      <td>{'lattice_mat': [[7.6791002095113825, 0.0, 0.0...</td>\n",
              "      <td>-2.184021</td>\n",
              "    </tr>\n",
              "    <tr>\n",
              "      <th>69238</th>\n",
              "      <td>mp-850121</td>\n",
              "      <td>[2518.935, 1959.011605, 11.104000000000001, -3...</td>\n",
              "      <td>CuS</td>\n",
              "      <td>na</td>\n",
              "      <td>0.0000</td>\n",
              "      <td>na</td>\n",
              "      <td>na</td>\n",
              "      <td>na</td>\n",
              "      <td>na</td>\n",
              "      <td>{'lattice_mat': [[2.8985997621366493, 0.0, -1....</td>\n",
              "      <td>-0.243736</td>\n",
              "    </tr>\n",
              "  </tbody>\n",
              "</table>\n",
              "<p>69239 rows × 11 columns</p>\n",
              "</div>"
            ],
            "text/plain": [
              "              id  ...    e_form\n",
              "0          mp-10  ...  0.107405\n",
              "1         mp-100  ...  0.181111\n",
              "2        mp-1000  ... -1.790168\n",
              "3       mp-10000  ... -1.253224\n",
              "4       mp-10003  ... -0.343178\n",
              "...          ...  ...       ...\n",
              "69234  mp-715469  ... -2.182536\n",
              "69235   mp-25593  ... -0.549193\n",
              "69236  mp-604573  ...  0.141298\n",
              "69237   mp-19283  ... -2.184021\n",
              "69238  mp-850121  ... -0.243736\n",
              "\n",
              "[69239 rows x 11 columns]"
            ]
          },
          "metadata": {},
          "execution_count": 12
        }
      ]
    },
    {
      "cell_type": "code",
      "metadata": {
        "id": "tySkwOAeDLcQ"
      },
      "source": [
        "df2=pd.merge(df,dg_mp,on='id')"
      ],
      "execution_count": 8,
      "outputs": []
    },
    {
      "cell_type": "code",
      "metadata": {
        "id": "qQVqjgSBDldX",
        "outputId": "66b00afb-1e0e-44cc-b52b-b7db3cea6b38",
        "colab": {
          "base_uri": "https://localhost:8080/"
        }
      },
      "source": [
        "len(df2)"
      ],
      "execution_count": 9,
      "outputs": [
        {
          "output_type": "execute_result",
          "data": {
            "text/plain": [
              "30595"
            ]
          },
          "metadata": {},
          "execution_count": 9
        }
      ]
    },
    {
      "cell_type": "code",
      "metadata": {
        "id": "uOb_h-k6DoYE",
        "outputId": "655bb287-dc7c-4341-a23e-262ee10dd68f",
        "colab": {
          "base_uri": "https://localhost:8080/"
        }
      },
      "source": [
        "df2.columns"
      ],
      "execution_count": 10,
      "outputs": [
        {
          "output_type": "execute_result",
          "data": {
            "text/plain": [
              "Index(['jid', 'spg_number', 'spg_symbol', 'formula_x',\n",
              "       'formation_energy_peratom', 'func', 'optb88vdw_bandgap', 'atoms_x',\n",
              "       'slme', 'magmom_oszicar', 'spillage', 'elastic_tensor',\n",
              "       'effective_masses_300K', 'kpoint_length_unit', 'maxdiff_mesh',\n",
              "       'maxdiff_bz', 'encut', 'optb88vdw_total_energy', 'epsx', 'epsy', 'epsz',\n",
              "       'mepsx', 'mepsy', 'mepsz', 'modes', 'magmom_outcar', 'max_efg',\n",
              "       'avg_elec_mass', 'avg_hole_mass', 'icsd', 'dfpt_piezo_max_eij',\n",
              "       'dfpt_piezo_max_dij', 'dfpt_piezo_max_dielectric',\n",
              "       'dfpt_piezo_max_dielectric_electronic',\n",
              "       'dfpt_piezo_max_dielectric_ionic', 'max_ir_mode', 'min_ir_mode',\n",
              "       'n-Seebeck', 'p-Seebeck', 'n-powerfact', 'p-powerfact', 'ncond',\n",
              "       'pcond', 'nkappa', 'pkappa', 'ehull', 'dimensionality', 'efg',\n",
              "       'xml_data_link', 'typ', 'exfoliation_energy', 'spg', 'crys', 'density',\n",
              "       'poisson', 'raw_files', 'nat', 'bulk_modulus_kv', 'shear_modulus_gv',\n",
              "       'mbj_bandgap', 'hse_gap', 'reference', 'search', 'id', 'desc',\n",
              "       'formula_y', 'e_hull', 'gap pbe', 'mu_b', 'elastic anisotropy',\n",
              "       'bulk modulus', 'shear modulus', 'atoms_y', 'e_form'],\n",
              "      dtype='object')"
            ]
          },
          "metadata": {},
          "execution_count": 10
        }
      ]
    },
    {
      "cell_type": "code",
      "metadata": {
        "id": "O750bP4tDsgx",
        "outputId": "d8cb00f0-e0a4-457f-ce4a-6c2a4999f0a8",
        "colab": {
          "base_uri": "https://localhost:8080/",
          "height": 285
        }
      },
      "source": [
        "import matplotlib\n",
        "%matplotlib inline\n",
        "import matplotlib.pyplot as plt\n",
        "plt.plot(df2['gap pbe'],df2['optb88vdw_bandgap'],'.')"
      ],
      "execution_count": 11,
      "outputs": [
        {
          "output_type": "execute_result",
          "data": {
            "text/plain": [
              "[<matplotlib.lines.Line2D at 0x7fa20dbe0f90>]"
            ]
          },
          "metadata": {},
          "execution_count": 11
        },
        {
          "output_type": "display_data",
          "data": {
            "image/png": "[encoded data removed]",
            "text/plain": [
              "<Figure size 432x288 with 1 Axes>"
            ]
          },
          "metadata": {
            "needs_background": "light"
          }
        }
      ]
    },
    {
      "cell_type": "code",
      "metadata": {
        "id": "Na7Dp3noD8YH",
        "outputId": "c771e1a7-52e4-4438-9a6c-b4838b86c42e",
        "colab": {
          "base_uri": "https://localhost:8080/",
          "height": 283
        }
      },
      "source": [
        "import matplotlib\n",
        "%matplotlib inline\n",
        "import matplotlib.pyplot as plt\n",
        "plt.plot(df2['e_form'],df2['formation_energy_peratom'],'.')"
      ],
      "execution_count": 12,
      "outputs": [
        {
          "output_type": "execute_result",
          "data": {
            "text/plain": [
              "[<matplotlib.lines.Line2D at 0x7fa20d3cc710>]"
            ]
          },
          "metadata": {},
          "execution_count": 12
        },
        {
          "output_type": "display_data",
          "data": {
            "image/png": "[encoded data removed]",
            "text/plain": [
              "<Figure size 432x288 with 1 Axes>"
            ]
          },
          "metadata": {
            "needs_background": "light"
          }
        }
      ]
    },
    {
      "cell_type": "code",
      "metadata": {
        "id": "zY6KPEJWwAcA"
      },
      "source": [
        ""
      ],
      "execution_count": null,
      "outputs": []
    }
  ]
}