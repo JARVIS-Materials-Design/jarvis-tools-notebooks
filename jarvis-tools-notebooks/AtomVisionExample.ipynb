{
  "nbformat": 4,
  "nbformat_minor": 0,
  "metadata": {
    "colab": {
      "name": "AtomVisionExample.ipynb",
      "provenance": [],
      "include_colab_link": true
    },
    "kernelspec": {
      "name": "python3",
      "display_name": "Python 3"
    },
    "language_info": {
      "name": "python"
    },
    "gpuClass": "standard"
  },
  "cells": [
    {
      "cell_type": "markdown",
      "metadata": {
        "id": "view-in-github",
        "colab_type": "text"
      },
      "source": [
        "<a href=\"https://colab.research.google.com/github/RamyaGuru/jarvis-tools-notebooks/blob/master/jarvis-tools-notebooks/AtomVisionExample.ipynb\" target=\"_parent\"><img src=\"https://colab.research.google.com/assets/colab-badge.svg\" alt=\"Open In Colab\"/></a>"
      ]
    },
    {
      "cell_type": "markdown",
      "metadata": {
        "id": "d1eMvMH-y_6X"
      },
      "source": [
        "# Example to run [AtomVision](https://github.com/usnistgov/atomvision)"
      ]
    },
    {
      "cell_type": "markdown",
      "metadata": {
        "id": "kufQThGM7y69"
      },
      "source": [
        "# Get the repository and install"
      ]
    },
    {
      "cell_type": "code",
      "metadata": {
        "colab": {
          "base_uri": "https://localhost:8080/"
        },
        "id": "kfIqa_VPypOU",
        "outputId": "b4014a3a-2fbf-43c1-b104-d886b6892078"
      },
      "source": [
        "!rm -rf atomvision\n",
        "import os\n",
        "!git clone https://github.com/usnistgov/atomvision.git\n",
        "os.chdir('atomvision')\n",
        "!python setup.py develop"
      ],
      "execution_count": 1,
      "outputs": [
        {
          "output_type": "stream",
          "name": "stdout",
          "text": [
            "Cloning into 'atomvision'...\n",
            "remote: Enumerating objects: 1480, done.\u001b[K\n",
            "remote: Counting objects: 100% (27/27), done.\u001b[K\n",
            "remote: Compressing objects: 100% (20/20), done.\u001b[K\n",
            "remote: Total 1480 (delta 9), reused 21 (delta 7), pack-reused 1453\u001b[K\n",
            "Receiving objects: 100% (1480/1480), 191.09 MiB | 13.53 MiB/s, done.\n",
            "Resolving deltas: 100% (215/215), done.\n",
            "running develop\n",
            "running egg_info\n",
            "creating atomvision.egg-info\n",
            "writing atomvision.egg-info/PKG-INFO\n",
            "writing dependency_links to atomvision.egg-info/dependency_links.txt\n",
            "writing requirements to atomvision.egg-info/requires.txt\n",
            "writing top-level names to atomvision.egg-info/top_level.txt\n",
            "writing manifest file 'atomvision.egg-info/SOURCES.txt'\n",
            "adding license file 'LICENSE.md'\n",
            "writing manifest file 'atomvision.egg-info/SOURCES.txt'\n",
            "running build_ext\n",
            "Creating /usr/local/lib/python3.7/dist-packages/atomvision.egg-link (link to .)\n",
            "Adding atomvision 2021.10.11 to easy-install.pth file\n",
            "\n",
            "Installed /content/atomvision\n",
            "Processing dependencies for atomvision==2021.10.11\n",
            "Searching for pydocstyle>=6.0.0\n",
            "Reading https://pypi.org/simple/pydocstyle/\n",
            "Downloading https://files.pythonhosted.org/packages/87/67/4df10786068766000518c6ad9c4a614e77585a12ab8f0654c776757ac9dc/pydocstyle-6.1.1-py3-none-any.whl#sha256=6987826d6775056839940041beef5c08cc7e3d71d63149b48e36727f70144dc4\n",
            "Best match: pydocstyle 6.1.1\n",
            "Processing pydocstyle-6.1.1-py3-none-any.whl\n",
            "Installing pydocstyle-6.1.1-py3-none-any.whl to /usr/local/lib/python3.7/dist-packages\n",
            "Adding pydocstyle 6.1.1 to easy-install.pth file\n",
            "Installing pydocstyle script to /usr/local/bin\n",
            "\n",
            "Installed /usr/local/lib/python3.7/dist-packages/pydocstyle-6.1.1-py3.7.egg\n",
            "Searching for pycodestyle>=2.7.0\n",
            "Reading https://pypi.org/simple/pycodestyle/\n",
            "Downloading https://files.pythonhosted.org/packages/15/94/bc43a2efb7b8615e38acde2b6624cae8c9ec86faf718ff5676c5179a7714/pycodestyle-2.8.0-py2.py3-none-any.whl#sha256=720f8b39dde8b293825e7ff02c475f3077124006db4f440dcbc9a20b76548a20\n",
            "Best match: pycodestyle 2.8.0\n",
            "Processing pycodestyle-2.8.0-py2.py3-none-any.whl\n",
            "Installing pycodestyle-2.8.0-py2.py3-none-any.whl to /usr/local/lib/python3.7/dist-packages\n",
            "Adding pycodestyle 2.8.0 to easy-install.pth file\n",
            "Installing pycodestyle script to /usr/local/bin\n",
            "\n",
            "Installed /usr/local/lib/python3.7/dist-packages/pycodestyle-2.8.0-py3.7.egg\n",
            "Searching for flake8>=3.9.1\n",
            "Reading https://pypi.org/simple/flake8/\n",
            "Downloading https://files.pythonhosted.org/packages/34/39/cde2c8a227abb4f9ce62fe55586b920f438f1d2903a1a22514d0b982c333/flake8-4.0.1-py2.py3-none-any.whl#sha256=479b1304f72536a55948cb40a32dce8bb0ffe3501e26eaf292c7e60eb5e0428d\n",
            "Best match: flake8 4.0.1\n",
            "Processing flake8-4.0.1-py2.py3-none-any.whl\n",
            "Installing flake8-4.0.1-py2.py3-none-any.whl to /usr/local/lib/python3.7/dist-packages\n",
            "Adding flake8 4.0.1 to easy-install.pth file\n",
            "Installing flake8 script to /usr/local/bin\n",
            "\n",
            "Installed /usr/local/lib/python3.7/dist-packages/flake8-4.0.1-py3.7.egg\n",
            "Searching for pytorch-ignite==0.5.0.dev20210429\n",
            "Reading https://pypi.org/simple/pytorch-ignite/\n",
            "Downloading https://files.pythonhosted.org/packages/84/8a/4ba4bb68cb95a16258c455f1b745c0ef80e07c2e31ccb578832685b1a32f/pytorch_ignite-0.5.0.dev20210429-py3-none-any.whl#sha256=f4df31012b0f89f6edde95cdf566a339c4ed6e5383cea48ac71aa87795c26918\n",
            "Best match: pytorch-ignite 0.5.0.dev20210429\n",
            "Processing pytorch_ignite-0.5.0.dev20210429-py3-none-any.whl\n",
            "Installing pytorch_ignite-0.5.0.dev20210429-py3-none-any.whl to /usr/local/lib/python3.7/dist-packages\n",
            "Adding pytorch-ignite 0.5.0.dev20210429 to easy-install.pth file\n",
            "\n",
            "Installed /usr/local/lib/python3.7/dist-packages/pytorch_ignite-0.5.0.dev20210429-py3.7.egg\n",
            "Searching for pandas==1.2.4\n",
            "Reading https://pypi.org/simple/pandas/\n",
            "Downloading https://files.pythonhosted.org/packages/51/51/48f3fc47c4e2144da2806dfb6629c4dd1fa3d5a143f9652b141e979a8ca9/pandas-1.2.4-cp37-cp37m-manylinux1_x86_64.whl#sha256=b730add5267f873b3383c18cac4df2527ac4f0f0eed1c6cf37fcb437e25cf558\n",
            "Best match: pandas 1.2.4\n",
            "Processing pandas-1.2.4-cp37-cp37m-manylinux1_x86_64.whl\n",
            "Installing pandas-1.2.4-cp37-cp37m-manylinux1_x86_64.whl to /usr/local/lib/python3.7/dist-packages\n",
            "Adding pandas 1.2.4 to easy-install.pth file\n",
            "\n",
            "Installed /usr/local/lib/python3.7/dist-packages/pandas-1.2.4-py3.7-linux-x86_64.egg\n",
            "Searching for matplotlib>=3.4.1\n",
            "Reading https://pypi.org/simple/matplotlib/\n",
            "Downloading https://files.pythonhosted.org/packages/df/e7/0ad4aad00d6d0314aaf97526a54a34d385f898ebb7915d112431fff452ff/matplotlib-3.5.2-cp37-cp37m-manylinux_2_5_x86_64.manylinux1_x86_64.whl#sha256=6c623b355d605a81c661546af7f24414165a8a2022cddbe7380a31a4170fa2e9\n",
            "Best match: matplotlib 3.5.2\n",
            "Processing matplotlib-3.5.2-cp37-cp37m-manylinux_2_5_x86_64.manylinux1_x86_64.whl\n",
            "Installing matplotlib-3.5.2-cp37-cp37m-manylinux_2_5_x86_64.manylinux1_x86_64.whl to /usr/local/lib/python3.7/dist-packages\n",
            "Adding matplotlib 3.5.2 to easy-install.pth file\n",
            "\n",
            "Installed /usr/local/lib/python3.7/dist-packages/matplotlib-3.5.2-py3.7-linux-x86_64.egg\n",
            "Searching for jarvis-tools>=2021.07.19\n",
            "Reading https://pypi.org/simple/jarvis-tools/\n",
            "Downloading https://files.pythonhosted.org/packages/7b/c0/e4513f6c4a31aefcbd4185da079e9c60296d36dbf713b09663e26c7a85ab/jarvis_tools-2022.5.20-py2.py3-none-any.whl#sha256=c0f7786536cc56c651ef45bc642d67118bb33ac1ceb1b71fe79643f9c6f35dac\n",
            "Best match: jarvis-tools 2022.5.20\n",
            "Processing jarvis_tools-2022.5.20-py2.py3-none-any.whl\n",
            "Installing jarvis_tools-2022.5.20-py2.py3-none-any.whl to /usr/local/lib/python3.7/dist-packages\n",
            "Adding jarvis-tools 2022.5.20 to easy-install.pth file\n",
            "\n",
            "Installed /usr/local/lib/python3.7/dist-packages/jarvis_tools-2022.5.20-py3.7.egg\n",
            "Searching for scipy>=1.6.3\n",
            "Reading https://pypi.org/simple/scipy/\n",
            "Downloading https://files.pythonhosted.org/packages/5a/87/27f9ee75c32138d6eaabff2b91744c97a3fdbbbdd78948372dac93e0079f/scipy-1.9.0rc2.tar.gz#sha256=83101d8bcac69c4201ff1aed52f9f41897fb0ba66e54422d2808df507126e626\n",
            "Best match: scipy 1.9.0rc2\n",
            "Processing scipy-1.9.0rc2.tar.gz\n",
            "Writing /tmp/easy_install-igzr9d_t/scipy-1.9.0rc2/setup.cfg\n",
            "Running scipy-1.9.0rc2/setup.py -q bdist_egg --dist-dir /tmp/easy_install-igzr9d_t/scipy-1.9.0rc2/egg-dist-tmp-4uuj8sdb\n",
            "Traceback (most recent call last):\n",
            "  File \"/usr/local/lib/python3.7/dist-packages/setuptools/sandbox.py\", line 152, in save_modules\n",
            "    yield saved\n",
            "  File \"/usr/local/lib/python3.7/dist-packages/setuptools/sandbox.py\", line 193, in setup_context\n",
            "    yield\n",
            "  File \"/usr/local/lib/python3.7/dist-packages/setuptools/sandbox.py\", line 254, in run_setup\n",
            "    _execfile(setup_script, ns)\n",
            "  File \"/usr/local/lib/python3.7/dist-packages/setuptools/sandbox.py\", line 43, in _execfile\n",
            "    exec(code, globals, locals)\n",
            "  File \"/tmp/easy_install-igzr9d_t/scipy-1.9.0rc2/setup.py\", line 33, in <module>\n",
            "    classifiers=[\n",
            "RuntimeError: Python version >= 3.8 required.\n",
            "\n",
            "During handling of the above exception, another exception occurred:\n",
            "\n",
            "Traceback (most recent call last):\n",
            "  File \"setup.py\", line 38, in <module>\n",
            "    python_requires=\">=3.7\",\n",
            "  File \"/usr/local/lib/python3.7/dist-packages/setuptools/__init__.py\", line 153, in setup\n",
            "    return distutils.core.setup(**attrs)\n",
            "  File \"/usr/lib/python3.7/distutils/core.py\", line 148, in setup\n",
            "    dist.run_commands()\n",
            "  File \"/usr/lib/python3.7/distutils/dist.py\", line 966, in run_commands\n",
            "    self.run_command(cmd)\n",
            "  File \"/usr/lib/python3.7/distutils/dist.py\", line 985, in run_command\n",
            "    cmd_obj.run()\n",
            "  File \"/usr/local/lib/python3.7/dist-packages/setuptools/command/develop.py\", line 34, in run\n",
            "    self.install_for_development()\n",
            "  File \"/usr/local/lib/python3.7/dist-packages/setuptools/command/develop.py\", line 151, in install_for_development\n",
            "    self.process_distribution(None, self.dist, not self.no_deps)\n",
            "  File \"/usr/local/lib/python3.7/dist-packages/setuptools/command/easy_install.py\", line 745, in process_distribution\n",
            "    [requirement], self.local_index, self.easy_install\n",
            "  File \"/usr/local/lib/python3.7/dist-packages/pkg_resources/__init__.py\", line 768, in resolve\n",
            "    replace_conflicting=replace_conflicting\n",
            "  File \"/usr/local/lib/python3.7/dist-packages/pkg_resources/__init__.py\", line 1051, in best_match\n",
            "    return self.obtain(req, installer)\n",
            "  File \"/usr/local/lib/python3.7/dist-packages/pkg_resources/__init__.py\", line 1063, in obtain\n",
            "    return installer(requirement)\n",
            "  File \"/usr/local/lib/python3.7/dist-packages/setuptools/command/easy_install.py\", line 669, in easy_install\n",
            "    return self.install_item(spec, dist.location, tmpdir, deps)\n",
            "  File \"/usr/local/lib/python3.7/dist-packages/setuptools/command/easy_install.py\", line 695, in install_item\n",
            "    dists = self.install_eggs(spec, download, tmpdir)\n",
            "  File \"/usr/local/lib/python3.7/dist-packages/setuptools/command/easy_install.py\", line 890, in install_eggs\n",
            "    return self.build_and_install(setup_script, setup_base)\n",
            "  File \"/usr/local/lib/python3.7/dist-packages/setuptools/command/easy_install.py\", line 1162, in build_and_install\n",
            "    self.run_setup(setup_script, setup_base, args)\n",
            "  File \"/usr/local/lib/python3.7/dist-packages/setuptools/command/easy_install.py\", line 1146, in run_setup\n",
            "    run_setup(setup_script, args)\n",
            "  File \"/usr/local/lib/python3.7/dist-packages/setuptools/sandbox.py\", line 257, in run_setup\n",
            "    raise\n",
            "  File \"/usr/lib/python3.7/contextlib.py\", line 130, in __exit__\n",
            "    self.gen.throw(type, value, traceback)\n",
            "  File \"/usr/local/lib/python3.7/dist-packages/setuptools/sandbox.py\", line 193, in setup_context\n",
            "    yield\n",
            "  File \"/usr/lib/python3.7/contextlib.py\", line 130, in __exit__\n",
            "    self.gen.throw(type, value, traceback)\n",
            "  File \"/usr/local/lib/python3.7/dist-packages/setuptools/sandbox.py\", line 164, in save_modules\n",
            "    saved_exc.resume()\n",
            "  File \"/usr/local/lib/python3.7/dist-packages/setuptools/sandbox.py\", line 139, in resume\n",
            "    raise exc.with_traceback(self._tb)\n",
            "  File \"/usr/local/lib/python3.7/dist-packages/setuptools/sandbox.py\", line 152, in save_modules\n",
            "    yield saved\n",
            "  File \"/usr/local/lib/python3.7/dist-packages/setuptools/sandbox.py\", line 193, in setup_context\n",
            "    yield\n",
            "  File \"/usr/local/lib/python3.7/dist-packages/setuptools/sandbox.py\", line 254, in run_setup\n",
            "    _execfile(setup_script, ns)\n",
            "  File \"/usr/local/lib/python3.7/dist-packages/setuptools/sandbox.py\", line 43, in _execfile\n",
            "    exec(code, globals, locals)\n",
            "  File \"/tmp/easy_install-igzr9d_t/scipy-1.9.0rc2/setup.py\", line 33, in <module>\n",
            "    classifiers=[\n",
            "RuntimeError: Python version >= 3.8 required.\n"
          ]
        }
      ]
    },
    {
      "cell_type": "markdown",
      "metadata": {
        "id": "SkW1QumI7mPh"
      },
      "source": [
        "# Train DenseNet pretrained model on JARVIS-DFT 2D materials' STEM images generated with convolution approximation\n",
        "\n",
        "Datasets can be generated with STM/STEM sections of the data folder with generate_data.py script or pre-populated image datasets can be downloaded with 'download.py`. We create two folders train_folder, ``test_folder`` with sub-folders ``0,1,2,3,4,...`` for individual classes and they contain images for these classes in way train-test splits have proportionate amount of images. An example for using pre-trained densenet on STEM JARVIS-DFT 2D dataset is given below. Change ``train_folder`` and ``test_folder`` paths in order to use a different dataset."
      ]
    },
    {
      "cell_type": "code",
      "metadata": {
        "colab": {
          "base_uri": "https://localhost:8080/"
        },
        "id": "SxrZZkR0yajB",
        "outputId": "2a6be1f3-2958-4066-8271-de2c244c1815"
      },
      "source": [
        "!python atomvision/scripts/train_classifiers.py --model_name densenet --train_folder atomvision/data/classification/stem_jv2d/train_folder --test_folder atomvision/data/classification/stem_jv2d/test_folder\n",
        "\n"
      ],
      "execution_count": null,
      "outputs": [
        {
          "output_type": "stream",
          "name": "stdout",
          "text": [
            "Downloading: \"https://download.pytorch.org/models/densenet161-8d451a50.pth\" to /root/.cache/torch/hub/checkpoints/densenet161-8d451a50.pth\n",
            "100% 110M/110M [00:01<00:00, 94.6MB/s]\n"
          ]
        }
      ]
    },
    {
      "cell_type": "markdown",
      "source": [
        "# Example Plots in Each Heuristic Image Class\n",
        "\n",
        "The convolutional neural network classifies the structures into 5 categories. Here, we print out example images from each category to look at their shared characteristics. Each image is labelled here with its composition and space group."
      ],
      "metadata": {
        "id": "ruJVjWvdl-PV"
      }
    },
    {
      "cell_type": "code",
      "source": [
        "import matplotlib.pyplot as plt\n",
        "import os\n",
        "from IPython.display import display, HTML\n",
        "\n",
        "#List the class sub-folders generated by the neural network\n",
        "test_folder = \"atomvision/data/classification/stem_jv2d/test_folder/\"\n",
        "\n",
        "os.listdir(test_folder)"
      ],
      "metadata": {
        "id": "maSOnxEkmQ1b"
      },
      "execution_count": null,
      "outputs": []
    },
    {
      "cell_type": "code",
      "source": [
        "!pip install -U jarvis-tools"
      ],
      "metadata": {
        "id": "l1eXXetqMM4r"
      },
      "execution_count": null,
      "outputs": []
    },
    {
      "cell_type": "code",
      "source": [
        "from jarvis.core.atoms import atoms\n",
        "from jarvis.db.figshare import data\n",
        "dft_3d = data(\"dft_3d\")"
      ],
      "metadata": {
        "id": "GO7T41uTPSpE"
      },
      "execution_count": null,
      "outputs": []
    },
    {
      "cell_type": "code",
      "source": [
        "for cls in os.listdir(test_folder):\n",
        "  fig, ax = plt.subplots(1,3, figsize = (9,2))\n",
        "  fig.tight_layout(w_pad = 2)\n",
        "  fig.subplots_adjust(top=0.75)\n",
        "  fig.suptitle('Class {}'.format(cls), fontsize=16)\n",
        "  i = 1\n",
        "  for img in os.listdir(test_folder + cls)[:3]:\n",
        "    plt.subplot(1,3,i)\n",
        "    plt.imshow(plt.imread(test_folder + cls + \"/\" + img))\n",
        "    start = img.find('JVASP')\n",
        "    end = img.find('.jpg')\n",
        "    jid = img[start:end]\n",
        "    entry = next(j for j in dft_3d if j[\"jid\"] == jid)\n",
        "    comp = Atoms.from_dict(entry[\"atoms\"]).composition.reduced_formula\n",
        "    spg = Atoms.spacegroup()\n",
        "    plt.title(\"{}; {}\".format(comp, spg)) #Label by composition and space group.\n",
        "    i = i+1"
      ],
      "metadata": {
        "id": "JravgvVipC3g"
      },
      "execution_count": null,
      "outputs": []
    }
  ]
}