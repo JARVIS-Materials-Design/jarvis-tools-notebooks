{
  "nbformat": 4,
  "nbformat_minor": 0,
  "metadata": {
    "colab": {
      "name": "AtomVisionExample.ipynb",
      "provenance": [],
      "include_colab_link": true
    },
    "kernelspec": {
      "name": "python3",
      "display_name": "Python 3"
    },
    "language_info": {
      "name": "python"
    },
    "gpuClass": "standard"
  },
  "cells": [
    {
      "cell_type": "markdown",
      "metadata": {
        "id": "view-in-github",
        "colab_type": "text"
      },
      "source": [
        "<a href=\"https://colab.research.google.com/github/RamyaGuru/jarvis-tools-notebooks/blob/master/jarvis-tools-notebooks/AtomVisionExample.ipynb\" target=\"_parent\"><img src=\"https://colab.research.google.com/assets/colab-badge.svg\" alt=\"Open In Colab\"/></a>"
      ]
    },
    {
      "cell_type": "markdown",
      "metadata": {
        "id": "d1eMvMH-y_6X"
      },
      "source": [
        "# Example to run [AtomVision](https://github.com/usnistgov/atomvision)"
      ]
    },
    {
      "cell_type": "markdown",
      "metadata": {
        "id": "kufQThGM7y69"
      },
      "source": [
        "# Get the repository and install"
      ]
    },
    {
      "cell_type": "code",
      "metadata": {
        "colab": {
          "base_uri": "https://localhost:8080/"
        },
        "id": "kfIqa_VPypOU",
        "outputId": "bcdec549-dbf7-4300-8269-a3f7e6443799"
      },
      "source": [
        "!rm -rf atomvision\n",
        "import os\n",
        "!git clone https://github.com/usnistgov/atomvision.git\n",
        "os.chdir('atomvision')\n",
        "!python setup.py develop"
      ],
      "execution_count": 1,
      "outputs": [
        {
          "output_type": "stream",
          "name": "stdout",
          "text": [
            "Cloning into 'atomvision'...\n",
            "remote: Enumerating objects: 1480, done.\u001b[K\n",
            "remote: Counting objects: 100% (27/27), done.\u001b[K\n",
            "remote: Compressing objects: 100% (20/20), done.\u001b[K\n",
            "remote: Total 1480 (delta 9), reused 21 (delta 7), pack-reused 1453\u001b[K\n",
            "Receiving objects: 100% (1480/1480), 191.09 MiB | 13.77 MiB/s, done.\n",
            "Resolving deltas: 100% (215/215), done.\n",
            "running develop\n",
            "running egg_info\n",
            "creating atomvision.egg-info\n",
            "writing atomvision.egg-info/PKG-INFO\n",
            "writing dependency_links to atomvision.egg-info/dependency_links.txt\n",
            "writing requirements to atomvision.egg-info/requires.txt\n",
            "writing top-level names to atomvision.egg-info/top_level.txt\n",
            "writing manifest file 'atomvision.egg-info/SOURCES.txt'\n",
            "adding license file 'LICENSE.md'\n",
            "writing manifest file 'atomvision.egg-info/SOURCES.txt'\n",
            "running build_ext\n",
            "Creating /usr/local/lib/python3.7/dist-packages/atomvision.egg-link (link to .)\n",
            "Adding atomvision 2021.10.11 to easy-install.pth file\n",
            "\n",
            "Installed /content/atomvision\n",
            "Processing dependencies for atomvision==2021.10.11\n",
            "Searching for scipy>=1.6.3\n",
            "Reading https://pypi.org/simple/scipy/\n",
            "Downloading https://files.pythonhosted.org/packages/5a/87/27f9ee75c32138d6eaabff2b91744c97a3fdbbbdd78948372dac93e0079f/scipy-1.9.0rc2.tar.gz#sha256=83101d8bcac69c4201ff1aed52f9f41897fb0ba66e54422d2808df507126e626\n",
            "Best match: scipy 1.9.0rc2\n",
            "Processing scipy-1.9.0rc2.tar.gz\n",
            "Writing /tmp/easy_install-nekts49o/scipy-1.9.0rc2/setup.cfg\n",
            "Running scipy-1.9.0rc2/setup.py -q bdist_egg --dist-dir /tmp/easy_install-nekts49o/scipy-1.9.0rc2/egg-dist-tmp-hpwkcln8\n",
            "Traceback (most recent call last):\n",
            "  File \"/usr/local/lib/python3.7/dist-packages/setuptools/sandbox.py\", line 152, in save_modules\n",
            "    yield saved\n",
            "  File \"/usr/local/lib/python3.7/dist-packages/setuptools/sandbox.py\", line 193, in setup_context\n",
            "    yield\n",
            "  File \"/usr/local/lib/python3.7/dist-packages/setuptools/sandbox.py\", line 254, in run_setup\n",
            "    _execfile(setup_script, ns)\n",
            "  File \"/usr/local/lib/python3.7/dist-packages/setuptools/sandbox.py\", line 43, in _execfile\n",
            "    exec(code, globals, locals)\n",
            "  File \"/tmp/easy_install-nekts49o/scipy-1.9.0rc2/setup.py\", line 33, in <module>\n",
            "    classifiers=[\n",
            "RuntimeError: Python version >= 3.8 required.\n",
            "\n",
            "During handling of the above exception, another exception occurred:\n",
            "\n",
            "Traceback (most recent call last):\n",
            "  File \"setup.py\", line 38, in <module>\n",
            "    python_requires=\">=3.7\",\n",
            "  File \"/usr/local/lib/python3.7/dist-packages/setuptools/__init__.py\", line 153, in setup\n",
            "    return distutils.core.setup(**attrs)\n",
            "  File \"/usr/lib/python3.7/distutils/core.py\", line 148, in setup\n",
            "    dist.run_commands()\n",
            "  File \"/usr/lib/python3.7/distutils/dist.py\", line 966, in run_commands\n",
            "    self.run_command(cmd)\n",
            "  File \"/usr/lib/python3.7/distutils/dist.py\", line 985, in run_command\n",
            "    cmd_obj.run()\n",
            "  File \"/usr/local/lib/python3.7/dist-packages/setuptools/command/develop.py\", line 34, in run\n",
            "    self.install_for_development()\n",
            "  File \"/usr/local/lib/python3.7/dist-packages/setuptools/command/develop.py\", line 151, in install_for_development\n",
            "    self.process_distribution(None, self.dist, not self.no_deps)\n",
            "  File \"/usr/local/lib/python3.7/dist-packages/setuptools/command/easy_install.py\", line 745, in process_distribution\n",
            "    [requirement], self.local_index, self.easy_install\n",
            "  File \"/usr/local/lib/python3.7/dist-packages/pkg_resources/__init__.py\", line 768, in resolve\n",
            "    replace_conflicting=replace_conflicting\n",
            "  File \"/usr/local/lib/python3.7/dist-packages/pkg_resources/__init__.py\", line 1051, in best_match\n",
            "    return self.obtain(req, installer)\n",
            "  File \"/usr/local/lib/python3.7/dist-packages/pkg_resources/__init__.py\", line 1063, in obtain\n",
            "    return installer(requirement)\n",
            "  File \"/usr/local/lib/python3.7/dist-packages/setuptools/command/easy_install.py\", line 669, in easy_install\n",
            "    return self.install_item(spec, dist.location, tmpdir, deps)\n",
            "  File \"/usr/local/lib/python3.7/dist-packages/setuptools/command/easy_install.py\", line 695, in install_item\n",
            "    dists = self.install_eggs(spec, download, tmpdir)\n",
            "  File \"/usr/local/lib/python3.7/dist-packages/setuptools/command/easy_install.py\", line 890, in install_eggs\n",
            "    return self.build_and_install(setup_script, setup_base)\n",
            "  File \"/usr/local/lib/python3.7/dist-packages/setuptools/command/easy_install.py\", line 1162, in build_and_install\n",
            "    self.run_setup(setup_script, setup_base, args)\n",
            "  File \"/usr/local/lib/python3.7/dist-packages/setuptools/command/easy_install.py\", line 1146, in run_setup\n",
            "    run_setup(setup_script, args)\n",
            "  File \"/usr/local/lib/python3.7/dist-packages/setuptools/sandbox.py\", line 257, in run_setup\n",
            "    raise\n",
            "  File \"/usr/lib/python3.7/contextlib.py\", line 130, in __exit__\n",
            "    self.gen.throw(type, value, traceback)\n",
            "  File \"/usr/local/lib/python3.7/dist-packages/setuptools/sandbox.py\", line 193, in setup_context\n",
            "    yield\n",
            "  File \"/usr/lib/python3.7/contextlib.py\", line 130, in __exit__\n",
            "    self.gen.throw(type, value, traceback)\n",
            "  File \"/usr/local/lib/python3.7/dist-packages/setuptools/sandbox.py\", line 164, in save_modules\n",
            "    saved_exc.resume()\n",
            "  File \"/usr/local/lib/python3.7/dist-packages/setuptools/sandbox.py\", line 139, in resume\n",
            "    raise exc.with_traceback(self._tb)\n",
            "  File \"/usr/local/lib/python3.7/dist-packages/setuptools/sandbox.py\", line 152, in save_modules\n",
            "    yield saved\n",
            "  File \"/usr/local/lib/python3.7/dist-packages/setuptools/sandbox.py\", line 193, in setup_context\n",
            "    yield\n",
            "  File \"/usr/local/lib/python3.7/dist-packages/setuptools/sandbox.py\", line 254, in run_setup\n",
            "    _execfile(setup_script, ns)\n",
            "  File \"/usr/local/lib/python3.7/dist-packages/setuptools/sandbox.py\", line 43, in _execfile\n",
            "    exec(code, globals, locals)\n",
            "  File \"/tmp/easy_install-nekts49o/scipy-1.9.0rc2/setup.py\", line 33, in <module>\n",
            "    classifiers=[\n",
            "RuntimeError: Python version >= 3.8 required.\n"
          ]
        }
      ]
    },
    {
      "cell_type": "markdown",
      "metadata": {
        "id": "SkW1QumI7mPh"
      },
      "source": [
        "# Train DenseNet pretrained model on JARVIS-DFT 2D materials' STEM images generated with convolution approximation\n",
        "\n",
        "Datasets can be generated with STM/STEM sections of the data folder with generate_data.py script or pre-populated image datasets can be downloaded with 'download.py`. We create two folders train_folder, ``test_folder`` with sub-folders ``0,1,2,3,4,...`` for individual classes and they contain images for these classes in way train-test splits have proportionate amount of images. An example for using pre-trained densenet on STEM JARVIS-DFT 2D dataset is given below. Change ``train_folder`` and ``test_folder`` paths in order to use a different dataset."
      ]
    },
    {
      "cell_type": "code",
      "metadata": {
        "colab": {
          "base_uri": "https://localhost:8080/"
        },
        "id": "SxrZZkR0yajB",
        "outputId": "01a5b5cb-4885-4554-a0bb-945b3e0c589a"
      },
      "source": [
        "!python atomvision/scripts/train_classifiers.py --model_name densenet --train_folder atomvision/data/classification/stem_jv2d/train_folder --test_folder atomvision/data/classification/stem_jv2d/test_folder\n",
        "#!python download.py"
      ],
      "execution_count": null,
      "outputs": [
        {
          "metadata": {
            "tags": null
          },
          "name": "stdout",
          "output_type": "stream",
          "text": [
            "Training Results - Epoch: 1  Avg accuracy: 57.63 Avg loss: 1.17\n",
            "Validation Results - Epoch: 1  Avg accuracy: 57.60 Avg loss: 1.08\n",
            "Training Results - Epoch: 2  Avg accuracy: 61.47 Avg loss: 1.11\n",
            "Validation Results - Epoch: 2  Avg accuracy: 60.37 Avg loss: 1.11\n"
          ]
        }
      ]
    },
    {
      "cell_type": "markdown",
      "source": [
        "# Example Plots in Each Heuristic Image Class\n",
        "\n",
        "The convolutional neural network classifies the structures into 5 categories. Here, we print out example images from each category to look at their shared characteristics. Each image is labelled here with its composition and space group."
      ],
      "metadata": {
        "id": "ruJVjWvdl-PV"
      }
    },
    {
      "cell_type": "code",
      "source": [
        "import matplotlib.pyplot as plt\n",
        "import os\n",
        "from IPython.display import display, HTML\n",
        "\n",
        "#List the class sub-folders generated by the neural network\n",
        "test_folder = \"atomvision/data/classification/stem_jv2d/test_folder/\"\n",
        "\n",
        "os.listdir(test_folder)"
      ],
      "metadata": {
        "id": "maSOnxEkmQ1b",
        "outputId": "8911185b-ac0c-4c7d-af6d-32f559aed559",
        "colab": {
          "base_uri": "https://localhost:8080/"
        }
      },
      "execution_count": 3,
      "outputs": [
        {
          "output_type": "execute_result",
          "data": {
            "text/plain": [
              "['3', '4', '0', '1', '2']"
            ]
          },
          "metadata": {},
          "execution_count": 3
        }
      ]
    },
    {
      "cell_type": "code",
      "source": [
        "from jarvis.core.atoms import Atoms\n",
        "from jarvis.db.figshare import data\n",
        "dft_3d = data(\"dft_3d\")"
      ],
      "metadata": {
        "id": "l1eXXetqMM4r",
        "outputId": "9f588a61-d410-4433-f617-929f47add038",
        "colab": {
          "base_uri": "https://localhost:8080/"
        }
      },
      "execution_count": 4,
      "outputs": [
        {
          "output_type": "stream",
          "name": "stdout",
          "text": [
            "Obtaining 3D dataset 55k ...\n",
            "Reference:https://www.nature.com/articles/s41524-020-00440-1\n"
          ]
        },
        {
          "output_type": "stream",
          "name": "stderr",
          "text": [
            "100%|██████████| 31.9M/31.9M [00:04<00:00, 6.97MiB/s]\n"
          ]
        },
        {
          "output_type": "stream",
          "name": "stdout",
          "text": [
            "Loading the zipfile...\n",
            "Loading completed.\n"
          ]
        }
      ]
    },
    {
      "cell_type": "code",
      "source": [
        "for cls in os.listdir(test_folder):\n",
        "  fig, ax = plt.subplots(1,3, figsize = (9,2))\n",
        "  fig.tight_layout(w_pad = 2)\n",
        "  fig.subplots_adjust(top=0.75)\n",
        "  fig.suptitle('Class {}'.format(cls), fontsize=16)\n",
        "  i = 1\n",
        "  for img in os.listdir(test_folder + cls)[:3]:\n",
        "    plt.subplot(1,3,i)\n",
        "    plt.imshow(plt.imread(test_folder + cls + \"/\" + img))\n",
        "    start = img.find('JVASP')\n",
        "    end = img.find('.jpg')\n",
        "    jid = img[start:end]\n",
        "    entry = next(j for j in dft_3d if j[\"jid\"] == jid)\n",
        "    comp = Atoms.from_dict(entry[\"atoms\"]).composition.reduced_formula\n",
        "    spg = Atoms.spacegroup()\n",
        "    plt.title(\"{}; {}\".format(comp, spg)) #Label by composition and space group.\n",
        "    i = i+1"
      ],
      "metadata": {
        "id": "JravgvVipC3g",
        "outputId": "28f561f4-c83b-474b-d6e0-1cc17215f6b6",
        "colab": {
          "base_uri": "https://localhost:8080/",
          "height": 240
        }
      },
      "execution_count": 7,
      "outputs": [
        {
          "output_type": "error",
          "ename": "StopIteration",
          "evalue": "ignored",
          "traceback": [
            "\u001b[0;31m---------------------------------------------------------------------------\u001b[0m",
            "\u001b[0;31mStopIteration\u001b[0m                             Traceback (most recent call last)",
            "\u001b[0;32m<ipython-input-7-414a402ef09d>\u001b[0m in \u001b[0;36m<module>\u001b[0;34m()\u001b[0m\n\u001b[1;32m     11\u001b[0m     \u001b[0mend\u001b[0m \u001b[0;34m=\u001b[0m \u001b[0mimg\u001b[0m\u001b[0;34m.\u001b[0m\u001b[0mfind\u001b[0m\u001b[0;34m(\u001b[0m\u001b[0;34m'.jpg'\u001b[0m\u001b[0;34m)\u001b[0m\u001b[0;34m\u001b[0m\u001b[0;34m\u001b[0m\u001b[0m\n\u001b[1;32m     12\u001b[0m     \u001b[0mjid\u001b[0m \u001b[0;34m=\u001b[0m \u001b[0mimg\u001b[0m\u001b[0;34m[\u001b[0m\u001b[0mstart\u001b[0m\u001b[0;34m:\u001b[0m\u001b[0mend\u001b[0m\u001b[0;34m]\u001b[0m\u001b[0;34m\u001b[0m\u001b[0;34m\u001b[0m\u001b[0m\n\u001b[0;32m---> 13\u001b[0;31m     \u001b[0mentry\u001b[0m \u001b[0;34m=\u001b[0m \u001b[0mnext\u001b[0m\u001b[0;34m(\u001b[0m\u001b[0mj\u001b[0m \u001b[0;32mfor\u001b[0m \u001b[0mj\u001b[0m \u001b[0;32min\u001b[0m \u001b[0mdft_3d\u001b[0m \u001b[0;32mif\u001b[0m \u001b[0mj\u001b[0m\u001b[0;34m[\u001b[0m\u001b[0;34m\"jid\"\u001b[0m\u001b[0;34m]\u001b[0m \u001b[0;34m==\u001b[0m \u001b[0mjid\u001b[0m\u001b[0;34m)\u001b[0m\u001b[0;34m\u001b[0m\u001b[0;34m\u001b[0m\u001b[0m\n\u001b[0m\u001b[1;32m     14\u001b[0m     \u001b[0mcomp\u001b[0m \u001b[0;34m=\u001b[0m \u001b[0mAtoms\u001b[0m\u001b[0;34m.\u001b[0m\u001b[0mfrom_dict\u001b[0m\u001b[0;34m(\u001b[0m\u001b[0mentry\u001b[0m\u001b[0;34m[\u001b[0m\u001b[0;34m\"atoms\"\u001b[0m\u001b[0;34m]\u001b[0m\u001b[0;34m)\u001b[0m\u001b[0;34m.\u001b[0m\u001b[0mcomposition\u001b[0m\u001b[0;34m.\u001b[0m\u001b[0mreduced_formula\u001b[0m\u001b[0;34m\u001b[0m\u001b[0;34m\u001b[0m\u001b[0m\n\u001b[1;32m     15\u001b[0m     \u001b[0mspg\u001b[0m \u001b[0;34m=\u001b[0m \u001b[0mAtoms\u001b[0m\u001b[0;34m.\u001b[0m\u001b[0mspacegroup\u001b[0m\u001b[0;34m(\u001b[0m\u001b[0;34m)\u001b[0m\u001b[0;34m\u001b[0m\u001b[0;34m\u001b[0m\u001b[0m\n",
            "\u001b[0;31mStopIteration\u001b[0m: "
          ]
        }
      ]
    }
  ]
}