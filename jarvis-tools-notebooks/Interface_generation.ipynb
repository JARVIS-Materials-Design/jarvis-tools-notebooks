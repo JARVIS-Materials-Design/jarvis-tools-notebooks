{
  "nbformat": 4,
  "nbformat_minor": 0,
  "metadata": {
    "colab": {
      "provenance": [],
      "authorship_tag": "ABX9TyPzpUgo65rNQC+Mu/auAX6+",
      "include_colab_link": true
    },
    "kernelspec": {
      "name": "python3",
      "display_name": "Python 3"
    },
    "language_info": {
      "name": "python"
    }
  },
  "cells": [
    {
      "cell_type": "markdown",
      "metadata": {
        "id": "view-in-github",
        "colab_type": "text"
      },
      "source": [
        "<a href=\"https://colab.research.google.com/github/knc6/jarvis-tools-notebooks/blob/master/jarvis-tools-notebooks/Interface_generation.ipynb\" target=\"_parent\"><img src=\"https://colab.research.google.com/assets/colab-badge.svg\" alt=\"Open In Colab\"/></a>"
      ]
    },
    {
      "cell_type": "code",
      "execution_count": 8,
      "metadata": {
        "colab": {
          "base_uri": "https://localhost:8080/"
        },
        "id": "3F-c78iUwqaJ",
        "outputId": "1cc163f3-6937-4647-e39e-bfa4738c0ae3"
      },
      "outputs": [
        {
          "output_type": "stream",
          "name": "stdout",
          "text": [
            "\u001b[?25l   \u001b[90m━━━━━━━━━━━━━━━━━━━━━━━━━━━━━━━━━━━━━━━━\u001b[0m \u001b[32m0.0/2.9 MB\u001b[0m \u001b[31m?\u001b[0m eta \u001b[36m-:--:--\u001b[0m\r\u001b[2K   \u001b[91m━━━\u001b[0m\u001b[90m╺\u001b[0m\u001b[90m━━━━━━━━━━━━━━━━━━━━━━━━━━━━━━━━━━━━\u001b[0m \u001b[32m0.2/2.9 MB\u001b[0m \u001b[31m7.3 MB/s\u001b[0m eta \u001b[36m0:00:01\u001b[0m\r\u001b[2K   \u001b[91m━━━━━━━━━━━━━━━━━━━━━━━━━━━━\u001b[0m\u001b[91m╸\u001b[0m\u001b[90m━━━━━━━━━━━\u001b[0m \u001b[32m2.1/2.9 MB\u001b[0m \u001b[31m31.2 MB/s\u001b[0m eta \u001b[36m0:00:01\u001b[0m\r\u001b[2K   \u001b[90m━━━━━━━━━━━━━━━━━━━━━━━━━━━━━━━━━━━━━━━━\u001b[0m \u001b[32m2.9/2.9 MB\u001b[0m \u001b[31m28.6 MB/s\u001b[0m eta \u001b[36m0:00:00\u001b[0m\n",
            "\u001b[?25h"
          ]
        }
      ],
      "source": [
        "!pip install -q intermat ase"
      ]
    },
    {
      "cell_type": "markdown",
      "source": [
        "### Quick interface generator given two atomic structures in POSCAR format"
      ],
      "metadata": {
        "id": "mTGv6pHIzSnx"
      }
    },
    {
      "cell_type": "code",
      "source": [
        "# Conventional cells\n",
        "poscar_1= \"\"\"JVASP1002\n",
        "1.0\n",
        "5.49363 0.0 0.0\n",
        "-0.0 5.49363 0.0\n",
        "0.0 0.0 5.49363\n",
        "Si\n",
        "8\n",
        "direct\n",
        "0.25 0.75 0.25 Si\n",
        "0.0 0.0 0.5 Si\n",
        "0.25 0.25 0.75 Si\n",
        "0.0 0.5 0.0 Si\n",
        "0.75 0.75 0.75 Si\n",
        "0.5 0.0 0.0 Si\n",
        "0.75 0.25 0.25 Si\n",
        "0.5 0.5 0.5 Si\n",
        "\"\"\"\n",
        "\n",
        "poscar_2 = \"\"\"JVASP-1174\n",
        "1.0\n",
        "5.73163 0.0 0.0\n",
        "-0.0 5.73163 0.0\n",
        "0.0 0.0 5.73163\n",
        "Ga As\n",
        "4 4\n",
        "direct\n",
        "0.0 0.0 0.0 Ga\n",
        "0.0 0.5 0.5 Ga\n",
        "0.5 0.0 0.5 Ga\n",
        "0.5 0.5 0.0 Ga\n",
        "0.25 0.75 0.75 As\n",
        "0.25 0.25 0.25 As\n",
        "0.75 0.75 0.25 As\n",
        "0.75 0.25 0.75 As\n",
        "\"\"\"\n"
      ],
      "metadata": {
        "id": "zcbUTM2kwyDM"
      },
      "execution_count": 2,
      "outputs": []
    },
    {
      "cell_type": "code",
      "source": [
        "from jarvis.db.jsonutils import loadjson\n",
        "from jarvis.core.atoms import Atoms\n",
        "from jarvis.io.vasp.inputs import Poscar\n",
        "from intermat.generate import InterfaceCombi\n",
        "import matplotlib.pyplot as plt\n",
        "\n",
        "atoms1 = Poscar.from_string(poscar_1).atoms\n",
        "atoms2 = Poscar.from_string(poscar_2).atoms\n",
        "\n",
        "x = InterfaceCombi(\n",
        "    film_indices=[[1, 1, 0]],\n",
        "    subs_indices=[[1, 1, 0]],\n",
        "    vacuum_interface=2,\n",
        "    film_mats=[atoms1],\n",
        "    subs_mats=[atoms2],\n",
        "    disp_intvl=0.0,\n",
        "    from_conventional_structure_film=False,\n",
        "    from_conventional_structure_subs=False,\n",
        "    max_area=300,\n",
        "    dataset=[None],\n",
        "    ltol=0.08,\n",
        "\n",
        ")\n",
        "\n",
        "structs = x.generate()\n",
        "heterostructure_atoms=Atoms.from_dict(structs[0]['generated_interface'])\n",
        "film_atoms=Atoms.from_dict(structs[0]['film_surf'])\n",
        "surf_atoms=Atoms.from_dict(structs[0]['subs_surf'])\n"
      ],
      "metadata": {
        "colab": {
          "base_uri": "https://localhost:8080/"
        },
        "id": "nJ3koLBizaGj",
        "outputId": "f182b64c-d841-4d35-d882-5705be843950"
      },
      "execution_count": 5,
      "outputs": [
        {
          "output_type": "stream",
          "name": "stderr",
          "text": [
            "/usr/local/lib/python3.10/dist-packages/intermat/generate.py:52: RuntimeWarning: invalid value encountered in scalar divide\n",
            "  strain_x = (\n",
            "/usr/local/lib/python3.10/dist-packages/intermat/generate.py:55: RuntimeWarning: invalid value encountered in scalar divide\n",
            "  strain_y = (\n"
          ]
        }
      ]
    },
    {
      "cell_type": "code",
      "source": [
        "print(heterostructure_atoms)"
      ],
      "metadata": {
        "colab": {
          "base_uri": "https://localhost:8080/"
        },
        "id": "Cw2HDH4Kzcey",
        "outputId": "f545288c-dfd8-4c71-a05d-638e4a104c51"
      },
      "execution_count": 6,
      "outputs": [
        {
          "output_type": "stream",
          "name": "stdout",
          "text": [
            "System\n",
            "1.0\n",
            "-0.0 5.73163 -0.0\n",
            "8.10575 -0.0 -0.0\n",
            "-0.0 -0.0 -26.343643666455268\n",
            "As Ga Si \n",
            "12 12 24 \n",
            "direct\n",
            "0.125 -0.7499998964165412 0.8511499074085057 bottom\n",
            "0.125 -0.24999996547218029 0.6973034974115482 bottom\n",
            "0.125 0.24999996547218034 0.5434570874145908 bottom\n",
            "-0.375 -0.4999999309443608 0.9280731124069845 bottom\n",
            "-0.375 2.5442610980993176e-17 0.774226702410027 bottom\n",
            "-0.375 0.4999999309443608 0.6203802924130694 bottom\n",
            "-0.375 -0.9999998618887216 0.9280731124069845 bottom\n",
            "-0.375 -0.4999999309443608 0.774226702410027 bottom\n",
            "-0.375 2.5442610980993176e-17 0.6203802924130694 bottom\n",
            "0.125 -0.2499999654721805 0.8511499074085057 bottom\n",
            "0.125 0.24999996547218034 0.6973034974115482 bottom\n",
            "0.125 0.7499998964165413 0.5434570874145905 bottom\n",
            "0.375 0.9999998618887216 0.5434570874145905 bottom\n",
            "0.375 2.5442610980993176e-17 0.6973034974115482 bottom\n",
            "0.375 0.4999999309443608 0.5434570874145908 bottom\n",
            "-0.125 -0.24999996547218029 0.9280731124069845 bottom\n",
            "-0.125 0.24999996547218034 0.774226702410027 bottom\n",
            "-0.125 0.7499998964165413 0.6203802924130694 bottom\n",
            "-0.125 -0.7499998964165414 0.9280731124069845 bottom\n",
            "-0.125 -0.2499999654721805 0.774226702410027 bottom\n",
            "-0.125 0.24999996547218034 0.6203802924130694 bottom\n",
            "0.375 2.5442610980993176e-17 0.8511499074085057 bottom\n",
            "0.375 0.4999999309443608 0.6973034974115482 bottom\n",
            "0.375 -0.4999999309443608 0.8511499074085057 bottom\n",
            "0.125 -2.104797817518526e-16 0.3010994243760031 top\n",
            "0.125 -0.4999997459612616 0.44855752152316475 top\n",
            "0.375 0.7499996189418926 0.1536413272288415 top\n",
            "0.375 0.2499998729806307 0.3010994243760031 top\n",
            "-0.125 0.4999997459612615 0.07991227865526063 top\n",
            "-0.375 0.2499998729806307 0.07991227865526063 top\n",
            "-0.375 -0.24999987298063076 0.2273703758024223 top\n",
            "-0.375 -0.7499996189418927 0.37482847294958405 top\n",
            "0.125 0.4999997459612615 0.1536413272288415 top\n",
            "0.375 -0.24999987298063076 0.44855752152316475 top\n",
            "0.375 -0.7499996189418927 0.44855752152316475 top\n",
            "0.125 1.1564823173178722e-17 0.1536413272288415 top\n",
            "0.375 0.2499998729806307 0.1536413272288415 top\n",
            "0.125 -0.9999994919225226 0.44855752152316475 top\n",
            "0.125 -0.4999997459612613 0.301099424376003 top\n",
            "-0.125 1.1564823173178722e-17 0.3748284729495839 top\n",
            "-0.125 0.4999997459612615 0.2273703758024223 top\n",
            "-0.125 0.999999491922523 0.07991227865526063 top\n",
            "-0.375 -0.24999987298063053 0.3748284729495839 top\n",
            "-0.375 0.2499998729806307 0.2273703758024223 top\n",
            "-0.375 0.7499996189418926 0.07991227865526063 top\n",
            "-0.125 1.1564823173178722e-17 0.2273703758024223 top\n",
            "0.375 -0.24999987298063076 0.3010994243760031 top\n",
            "-0.125 -0.4999997459612616 0.3748284729495839 top\n",
            "\n"
          ]
        }
      ]
    },
    {
      "cell_type": "code",
      "source": [
        "from ase.visualize.plot import plot_atoms\n",
        "import matplotlib.pyplot as plt\n",
        "%matplotlib inline\n",
        "plot_atoms(heterostructure_atoms.ase_converter(),  radii=0.3, rotation=('90x,90y,0z'))\n",
        "plt.axis('off')\n"
      ],
      "metadata": {
        "colab": {
          "base_uri": "https://localhost:8080/",
          "height": 423
        },
        "id": "OYbt5kgRz2n0",
        "outputId": "1765557e-104b-4c63-9229-4b618b85658c"
      },
      "execution_count": 9,
      "outputs": [
        {
          "output_type": "execute_result",
          "data": {
            "text/plain": [
              "(0.0, 8.649890812500004, 0.0, 27.660825849778032)"
            ]
          },
          "metadata": {},
          "execution_count": 9
        },
        {
          "output_type": "display_data",
          "data": {
            "text/plain": [
              "<Figure size 640x480 with 1 Axes>"
            ],
            "image/png": "[encoded data removed]"
          },
          "metadata": {}
        }
      ]
    },
    {
      "cell_type": "code",
      "source": [
        "from jarvis.db.jsonutils import loadjson\n",
        "from jarvis.core.atoms import Atoms\n",
        "from jarvis.io.vasp.inputs import Poscar\n",
        "from intermat.generate import InterfaceCombi\n",
        "import matplotlib.pyplot as plt\n",
        "\n",
        "atoms1 = Poscar.from_string(poscar_1).atoms\n",
        "atoms2 = Poscar.from_string(poscar_2).atoms\n",
        "\n",
        "# disp_intvl = 0.1 for xy-plane scan\n",
        "x = InterfaceCombi(\n",
        "    film_indices=[[1, 1, 0]],\n",
        "    subs_indices=[[1, 1, 0]],\n",
        "    vacuum_interface=2,\n",
        "    film_mats=[atoms1],\n",
        "    subs_mats=[atoms2],\n",
        "    disp_intvl=0.1,\n",
        "    from_conventional_structure_film=False,\n",
        "    from_conventional_structure_subs=False,\n",
        "    max_area=300,\n",
        "    ltol=0.08,\n",
        "    dataset=[None],\n",
        "\n",
        ")\n",
        "\n",
        "structs = x.generate()\n",
        "wads = x.calculate_wad(method='ewald')\n",
        "\n"
      ],
      "metadata": {
        "colab": {
          "base_uri": "https://localhost:8080/"
        },
        "id": "jV6s6ex4z5s1",
        "outputId": "a93c23dc-7219-4169-92cf-4651ae5952e1"
      },
      "execution_count": 11,
      "outputs": [
        {
          "output_type": "stream",
          "name": "stderr",
          "text": [
            "/usr/local/lib/python3.10/dist-packages/intermat/generate.py:52: RuntimeWarning: invalid value encountered in scalar divide\n",
            "  strain_x = (\n",
            "/usr/local/lib/python3.10/dist-packages/intermat/generate.py:55: RuntimeWarning: invalid value encountered in scalar divide\n",
            "  strain_y = (\n"
          ]
        },
        {
          "output_type": "stream",
          "name": "stdout",
          "text": [
            "len generated 100\n"
          ]
        },
        {
          "output_type": "stream",
          "name": "stderr",
          "text": [
            "100%|██████████| 100/100 [00:23<00:00,  4.19it/s]\n"
          ]
        }
      ]
    },
    {
      "cell_type": "code",
      "source": [
        "%matplotlib inline\n",
        "import matplotlib.pyplot as plt\n",
        "import numpy as np\n",
        "X = x.X\n",
        "Y = x.Y\n",
        "wads = np.array(wads).reshape(len(X), len(Y))\n",
        "wads = np.array(x.wads[\"wads\"])\n",
        "index = np.argmin(wads)\n",
        "combined_atoms = Atoms.from_dict(\n",
        "    x.generated_interfaces[index][\"generated_interface\"]\n",
        ")\n",
        "wads = np.array(wads).reshape(len(X), len(Y))\n",
        "plt.contourf(wads,cmap='plasma')\n"
      ],
      "metadata": {
        "colab": {
          "base_uri": "https://localhost:8080/",
          "height": 452
        },
        "id": "HswNNU4G0Ctm",
        "outputId": "fc377405-0b9f-4cf7-8f38-4cf9d3790db4"
      },
      "execution_count": 12,
      "outputs": [
        {
          "output_type": "execute_result",
          "data": {
            "text/plain": [
              "<matplotlib.contour.QuadContourSet at 0x7d9a00af2890>"
            ]
          },
          "metadata": {},
          "execution_count": 12
        },
        {
          "output_type": "display_data",
          "data": {
            "text/plain": [
              "<Figure size 640x480 with 1 Axes>"
            ],
            "image/png": "[encoded data removed]"
          },
          "metadata": {}
        }
      ]
    },
    {
      "cell_type": "code",
      "source": [
        "print(combined_atoms)"
      ],
      "metadata": {
        "colab": {
          "base_uri": "https://localhost:8080/"
        },
        "id": "YcW6Q1RW0NQr",
        "outputId": "38b6886e-1cbf-47c8-eeb8-4419b16f1c09"
      },
      "execution_count": 13,
      "outputs": [
        {
          "output_type": "stream",
          "name": "stdout",
          "text": [
            "System\n",
            "1.0\n",
            "-0.0 5.73163 -0.0\n",
            "8.10575 -0.0 -0.0\n",
            "-0.0 -0.0 -26.343643666455268\n",
            "As Ga Si \n",
            "12 12 24 \n",
            "direct\n",
            "0.625 -0.4499998964165412 0.8511499074085057 bottom\n",
            "0.625 0.0500000345278197 0.6973034974115482 bottom\n",
            "0.625 0.5499999654721803 0.5434570874145908 bottom\n",
            "0.125 -0.1999999309443608 0.9280731124069845 bottom\n",
            "0.125 0.3 0.774226702410027 bottom\n",
            "0.125 0.7999999309443608 0.6203802924130694 bottom\n",
            "0.125 -0.6999998618887215 0.9280731124069845 bottom\n",
            "0.125 -0.1999999309443608 0.774226702410027 bottom\n",
            "0.125 0.3 0.6203802924130694 bottom\n",
            "0.625 0.05000003452781948 0.8511499074085057 bottom\n",
            "0.625 0.5499999654721803 0.6973034974115482 bottom\n",
            "0.625 1.0499998964165413 0.5434570874145905 bottom\n",
            "0.875 1.2999998618887216 0.5434570874145905 bottom\n",
            "0.875 0.3 0.6973034974115482 bottom\n",
            "0.875 0.7999999309443608 0.5434570874145908 bottom\n",
            "0.375 0.0500000345278197 0.9280731124069845 bottom\n",
            "0.375 0.5499999654721803 0.774226702410027 bottom\n",
            "0.375 1.0499998964165413 0.6203802924130694 bottom\n",
            "0.375 -0.4499998964165414 0.9280731124069845 bottom\n",
            "0.375 0.05000003452781948 0.774226702410027 bottom\n",
            "0.375 0.5499999654721803 0.6203802924130694 bottom\n",
            "0.875 0.3 0.8511499074085057 bottom\n",
            "0.875 0.7999999309443608 0.6973034974115482 bottom\n",
            "0.875 -0.1999999309443608 0.8511499074085057 bottom\n",
            "0.125 -2.104797817518526e-16 0.3010994243760031 top\n",
            "0.125 -0.4999997459612616 0.44855752152316475 top\n",
            "0.375 0.7499996189418926 0.1536413272288415 top\n",
            "0.375 0.2499998729806307 0.3010994243760031 top\n",
            "-0.125 0.4999997459612615 0.07991227865526063 top\n",
            "-0.375 0.2499998729806307 0.07991227865526063 top\n",
            "-0.375 -0.24999987298063076 0.2273703758024223 top\n",
            "-0.375 -0.7499996189418927 0.37482847294958405 top\n",
            "0.125 0.4999997459612615 0.1536413272288415 top\n",
            "0.375 -0.24999987298063076 0.44855752152316475 top\n",
            "0.375 -0.7499996189418927 0.44855752152316475 top\n",
            "0.125 1.1564823173178722e-17 0.1536413272288415 top\n",
            "0.375 0.2499998729806307 0.1536413272288415 top\n",
            "0.125 -0.9999994919225226 0.44855752152316475 top\n",
            "0.125 -0.4999997459612613 0.301099424376003 top\n",
            "-0.125 1.1564823173178722e-17 0.3748284729495839 top\n",
            "-0.125 0.4999997459612615 0.2273703758024223 top\n",
            "-0.125 0.999999491922523 0.07991227865526063 top\n",
            "-0.375 -0.24999987298063053 0.3748284729495839 top\n",
            "-0.375 0.2499998729806307 0.2273703758024223 top\n",
            "-0.375 0.7499996189418926 0.07991227865526063 top\n",
            "-0.125 1.1564823173178722e-17 0.2273703758024223 top\n",
            "0.375 -0.24999987298063076 0.3010994243760031 top\n",
            "-0.125 -0.4999997459612616 0.3748284729495839 top\n",
            "\n"
          ]
        }
      ]
    },
    {
      "cell_type": "code",
      "source": [
        "# After xy plane scan we can see the diamond structure pattern continues,\n",
        "# which is desirable for getting low energy structure\n",
        "from ase.visualize.plot import plot_atoms\n",
        "import matplotlib.pyplot as plt\n",
        "%matplotlib inline\n",
        "plot_atoms(combined_atoms.ase_converter(),  radii=0.3, rotation=('90x,90y,0z'))\n",
        "plt.axis('off')\n"
      ],
      "metadata": {
        "colab": {
          "base_uri": "https://localhost:8080/",
          "height": 423
        },
        "id": "oFIuonyy2zcn",
        "outputId": "49f567ca-d407-4595-c3fc-434515f20422"
      },
      "execution_count": 14,
      "outputs": [
        {
          "output_type": "execute_result",
          "data": {
            "text/plain": [
              "(0.0, 8.624690812500004, 0.0, 27.660825849778032)"
            ]
          },
          "metadata": {},
          "execution_count": 14
        },
        {
          "output_type": "display_data",
          "data": {
            "text/plain": [
              "<Figure size 640x480 with 1 Axes>"
            ],
            "image/png": "[encoded data removed]"
          },
          "metadata": {}
        }
      ]
    },
    {
      "cell_type": "code",
      "source": [],
      "metadata": {
        "id": "usztWWUj25cP"
      },
      "execution_count": null,
      "outputs": []
    }
  ]
}