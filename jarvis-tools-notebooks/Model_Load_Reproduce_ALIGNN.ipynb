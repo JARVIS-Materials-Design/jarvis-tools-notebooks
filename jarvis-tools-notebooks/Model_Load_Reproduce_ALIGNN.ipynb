{
  "nbformat": 4,
  "nbformat_minor": 0,
  "metadata": {
    "colab": {
      "provenance": [],
      "authorship_tag": "ABX9TyMR8GKqABD2xrndFmPfGWy5",
      "include_colab_link": true
    },
    "kernelspec": {
      "name": "python3",
      "display_name": "Python 3"
    },
    "language_info": {
      "name": "python"
    }
  },
  "cells": [
    {
      "cell_type": "markdown",
      "metadata": {
        "id": "view-in-github",
        "colab_type": "text"
      },
      "source": [
        "<a href=\"https://colab.research.google.com/github/knc6/jarvis-tools-notebooks/blob/master/jarvis-tools-notebooks/Model_Load_Reproduce_ALIGNN.ipynb\" target=\"_parent\"><img src=\"https://colab.research.google.com/assets/colab-badge.svg\" alt=\"Open In Colab\"/></a>"
      ]
    },
    {
      "cell_type": "code",
      "source": [
        "%%time\n",
        "!pip install -q dgl==1.0.1+cu117 -f https://data.dgl.ai/wheels/cu117/repo.html\n",
        "!pip install -q alignn"
      ],
      "metadata": {
        "colab": {
          "base_uri": "https://localhost:8080/"
        },
        "id": "SdoI5BonPceW",
        "outputId": "0cb1aeca-e19e-4ebd-c136-93782bb0adbc"
      },
      "execution_count": 1,
      "outputs": [
        {
          "output_type": "stream",
          "name": "stdout",
          "text": [
            "\u001b[2K     \u001b[90m━━━━━━━━━━━━━━━━━━━━━━━━━━━━━━━━━━━━━━━\u001b[0m \u001b[32m266.3/266.3 MB\u001b[0m \u001b[31m3.9 MB/s\u001b[0m eta \u001b[36m0:00:00\u001b[0m\n",
            "\u001b[2K     \u001b[90m━━━━━━━━━━━━━━━━━━━━━━━━━━━━━━━━━━━━━━━\u001b[0m \u001b[32m128.0/128.0 kB\u001b[0m \u001b[31m3.6 MB/s\u001b[0m eta \u001b[36m0:00:00\u001b[0m\n",
            "\u001b[2K     \u001b[90m━━━━━━━━━━━━━━━━━━━━━━━━━━━━━━━━━━━━━━\u001b[0m \u001b[32m974.4/974.4 kB\u001b[0m \u001b[31m17.2 MB/s\u001b[0m eta \u001b[36m0:00:00\u001b[0m\n",
            "\u001b[2K     \u001b[90m━━━━━━━━━━━━━━━━━━━━━━━━━━━━━━━━━━━━━━\u001b[0m \u001b[32m268.3/268.3 kB\u001b[0m \u001b[31m14.6 MB/s\u001b[0m eta \u001b[36m0:00:00\u001b[0m\n",
            "\u001b[2K     \u001b[90m━━━━━━━━━━━━━━━━━━━━━━━━━━━━━━━━━━━━━━\u001b[0m \u001b[32m125.3/125.3 kB\u001b[0m \u001b[31m14.6 MB/s\u001b[0m eta \u001b[36m0:00:00\u001b[0m\n",
            "\u001b[2K     \u001b[90m━━━━━━━━━━━━━━━━━━━━━━━━━━━━━━━━━━━━━━━━\u001b[0m \u001b[32m58.3/58.3 kB\u001b[0m \u001b[31m2.6 MB/s\u001b[0m eta \u001b[36m0:00:00\u001b[0m\n",
            "\u001b[2K     \u001b[90m━━━━━━━━━━━━━━━━━━━━━━━━━━━━━━━━━━━━━━━━\u001b[0m \u001b[32m67.8/67.8 kB\u001b[0m \u001b[31m7.5 MB/s\u001b[0m eta \u001b[36m0:00:00\u001b[0m\n",
            "\u001b[2K     \u001b[90m━━━━━━━━━━━━━━━━━━━━━━━━━━━━━━━━━━━━━━━━\u001b[0m \u001b[32m2.2/2.2 MB\u001b[0m \u001b[31m29.0 MB/s\u001b[0m eta \u001b[36m0:00:00\u001b[0m\n",
            "\u001b[2K     \u001b[90m━━━━━━━━━━━━━━━━━━━━━━━━━━━━━━━━━━━━━━\u001b[0m \u001b[32m244.2/244.2 kB\u001b[0m \u001b[31m22.1 MB/s\u001b[0m eta \u001b[36m0:00:00\u001b[0m\n",
            "\u001b[2K     \u001b[90m━━━━━━━━━━━━━━━━━━━━━━━━━━━━━━━━━━━━━━━━\u001b[0m \u001b[32m62.6/62.6 kB\u001b[0m \u001b[31m6.0 MB/s\u001b[0m eta \u001b[36m0:00:00\u001b[0m\n",
            "\u001b[2K     \u001b[90m━━━━━━━━━━━━━━━━━━━━━━━━━━━━━━━━━━━━━━\u001b[0m \u001b[32m515.3/515.3 kB\u001b[0m \u001b[31m25.6 MB/s\u001b[0m eta \u001b[36m0:00:00\u001b[0m\n",
            "\u001b[2K     \u001b[90m━━━━━━━━━━━━━━━━━━━━━━━━━━━━━━━━━━━━━━━━\u001b[0m \u001b[32m7.9/7.9 MB\u001b[0m \u001b[31m52.2 MB/s\u001b[0m eta \u001b[36m0:00:00\u001b[0m\n",
            "\u001b[2K     \u001b[90m━━━━━━━━━━━━━━━━━━━━━━━━━━━━━━━━━━━━━━━━\u001b[0m \u001b[32m3.7/3.7 MB\u001b[0m \u001b[31m41.3 MB/s\u001b[0m eta \u001b[36m0:00:00\u001b[0m\n",
            "\u001b[2K     \u001b[90m━━━━━━━━━━━━━━━━━━━━━━━━━━━━━━━━━━━━━━\u001b[0m \u001b[32m240.8/240.8 kB\u001b[0m \u001b[31m25.0 MB/s\u001b[0m eta \u001b[36m0:00:00\u001b[0m\n",
            "\u001b[2K     \u001b[90m━━━━━━━━━━━━━━━━━━━━━━━━━━━━━━━━━━━━━━━━\u001b[0m \u001b[32m82.1/82.1 kB\u001b[0m \u001b[31m10.0 MB/s\u001b[0m eta \u001b[36m0:00:00\u001b[0m\n",
            "\u001b[?25h\u001b[31mERROR: pip's dependency resolver does not currently take into account all the packages that are installed. This behaviour is the source of the following dependency conflicts.\n",
            "confection 0.1.1 requires pydantic!=1.8,!=1.8.1,<3.0.0,>=1.7.4, but you have pydantic 1.8.1 which is incompatible.\n",
            "inflect 7.0.0 requires pydantic>=1.9.1, but you have pydantic 1.8.1 which is incompatible.\n",
            "spacy 3.6.1 requires pydantic!=1.8,!=1.8.1,<3.0.0,>=1.7.4, but you have pydantic 1.8.1 which is incompatible.\n",
            "thinc 8.1.11 requires pydantic!=1.8,!=1.8.1,<3.0.0,>=1.7.4, but you have pydantic 1.8.1 which is incompatible.\u001b[0m\u001b[31m\n",
            "\u001b[0mCPU times: user 407 ms, sys: 51.5 ms, total: 459 ms\n",
            "Wall time: 43.9 s\n"
          ]
        }
      ]
    },
    {
      "cell_type": "code",
      "execution_count": 2,
      "metadata": {
        "colab": {
          "base_uri": "https://localhost:8080/"
        },
        "id": "vCkYjr2wModL",
        "outputId": "808657e5-0c16-4ee3-ce5e-11bf8a35c3f5"
      },
      "outputs": [
        {
          "output_type": "stream",
          "name": "stdout",
          "text": [
            "/content\n",
            "Cloning into 'alignn'...\n",
            "remote: Enumerating objects: 4116, done.\u001b[K\n",
            "remote: Counting objects: 100% (1710/1710), done.\u001b[K\n",
            "remote: Compressing objects: 100% (586/586), done.\u001b[K\n",
            "remote: Total 4116 (delta 1245), reused 1399 (delta 1076), pack-reused 2406\u001b[K\n",
            "Receiving objects: 100% (4116/4116), 154.31 MiB | 18.86 MiB/s, done.\n",
            "Resolving deltas: 100% (2421/2421), done.\n"
          ]
        }
      ],
      "source": [
        "import os\n",
        "!pwd\n",
        "os.chdir('/content')\n",
        "# Clone ALIGNN repo to get example folder\n",
        "if not os.path.exists('alignn'):\n",
        "  !git clone https://github.com/usnistgov/alignn.git\n",
        "\n",
        "os.chdir('alignn')\n",
        "# Install using setup.py in case pip didn't work\n",
        "#!python setup.py develop\n",
        "\n",
        "#!pip install dgl-cu111 # Colab has cuda 11.1"
      ]
    },
    {
      "cell_type": "code",
      "source": [
        "import time\n",
        "t1=time.time()\n",
        "!train_folder.py --root_dir \"alignn/examples/sample_data\" --epochs 3 --batch_size 2 --config \"alignn/examples/sample_data/config_example.json\" --output_dir=temp\n",
        "t2=time.time()\n",
        "print ('Time in s',t2-t1)"
      ],
      "metadata": {
        "colab": {
          "base_uri": "https://localhost:8080/"
        },
        "id": "kAjpQlLlMuw4",
        "outputId": "e57fe59a-daa0-40f5-ae0e-52763266c143"
      },
      "execution_count": 3,
      "outputs": [
        {
          "output_type": "stream",
          "name": "stdout",
          "text": [
            "DGL backend not selected or invalid.  Assuming PyTorch for now.\n",
            "Setting the default backend to \"pytorch\". You can change it in the ~/.dgl/config.json file or export the DGLBACKEND environment variable.  Valid options are: pytorch, mxnet, tensorflow (all lowercase)\n",
            "MAX val: 6.149\n",
            "MIN val: 0.0\n",
            "MAD: 1.0520696\n",
            "Baseline MAE: 2.3805500000000004\n",
            "data range 4.907 0.0\n",
            "100% 40/40 [00:01<00:00, 37.05it/s]\n",
            "df                                                 atoms  ... target\n",
            "0   {'lattice_mat': [[3.566933224304235, 0.0, -0.0...  ...  0.000\n",
            "1   {'lattice_mat': [[4.089078911208881, 0.0, 0.0]...  ...  0.000\n",
            "2   {'lattice_mat': [[-1.833590720595598, 1.833590...  ...  0.000\n",
            "3   {'lattice_mat': [[7.2963518353359165, 0.0, 0.0...  ...  0.472\n",
            "4   {'lattice_mat': [[1.6777483798834445, -2.90594...  ...  0.000\n",
            "5   {'lattice_mat': [[4.157436115454804, -0.0, 0.0...  ...  0.000\n",
            "6   {'lattice_mat': [[0.0, 5.1858714074842, 5.1858...  ...  0.000\n",
            "7   {'lattice_mat': [[3.790914410660539, -0.0, 0.0...  ...  0.000\n",
            "8   {'lattice_mat': [[4.284492173131309, 1.636192e...  ...  0.000\n",
            "9   {'lattice_mat': [[3.2250494729190726, 2.216578...  ...  0.689\n",
            "10  {'lattice_mat': [[5.587070827330502, -0.006443...  ...  1.517\n",
            "11  {'lattice_mat': [[4.927781968323723, -0.0, 0.0...  ...  0.000\n",
            "12  {'lattice_mat': [[10.725911963093319, 1.159968...  ...  0.000\n",
            "13  {'lattice_mat': [[5.140164879556414, 0.3718366...  ...  0.000\n",
            "14  {'lattice_mat': [[5.194393535053021, 0.0345773...  ...  0.000\n",
            "15  {'lattice_mat': [[4.927229198330356, -0.0, -0....  ...  2.122\n",
            "16  {'lattice_mat': [[4.839493559425439, 9.7116505...  ...  0.000\n",
            "17  {'lattice_mat': [[-2.2512310528422197, 1.49649...  ...  0.000\n",
            "18  {'lattice_mat': [[7.709535704177289, 2.46207e-...  ...  0.000\n",
            "19  {'lattice_mat': [[3.292134155794691, 0.0, 0.0]...  ...  0.502\n",
            "20  {'lattice_mat': [[9.067075684180468, -0.0, 0.0...  ...  1.197\n",
            "21  {'lattice_mat': [[6.850665464204784, -0.0, 0.0...  ...  0.560\n",
            "22  {'lattice_mat': [[3.3542337275744103, 0.0, 0.0...  ...  0.051\n",
            "23  {'lattice_mat': [[4.509029640475962, 0.0564034...  ...  4.907\n",
            "24  {'lattice_mat': [[3.5058938597621094, -3.08124...  ...  1.681\n",
            "25  {'lattice_mat': [[4.191262576674699, 0.0, -0.0...  ...  0.016\n",
            "26  {'lattice_mat': [[0.0, -3.9587610833154616, 0....  ...  0.658\n",
            "27  {'lattice_mat': [[4.084155317570781, -1.066825...  ...  0.000\n",
            "28  {'lattice_mat': [[9.407270982425844, 0.0171637...  ...  2.472\n",
            "29  {'lattice_mat': [[3.93712543178282, 0.0, 2.273...  ...  3.851\n",
            "30  {'lattice_mat': [[-0.0127275386492899, 4.47534...  ...  0.482\n",
            "31  {'lattice_mat': [[3.5666343258756448, 0.0, 0.0...  ...  0.000\n",
            "32  {'lattice_mat': [[7.843871888963013, 0.0, 0.0]...  ...  0.924\n",
            "33  {'lattice_mat': [[5.157077730332642, 0.0020004...  ...  4.030\n",
            "34  {'lattice_mat': [[3.8114364321417686, 0.0, 0.0...  ...  0.000\n",
            "35  {'lattice_mat': [[5.464512229851642, 0.0, -2.0...  ...  0.239\n",
            "36  {'lattice_mat': [[0.0, 4.936437902689708, 4.93...  ...  0.000\n",
            "37  {'lattice_mat': [[0.0, 4.893247728183244, 4.89...  ...  0.000\n",
            "38  {'lattice_mat': [[0.0, 4.901572410735, 4.90157...  ...  0.000\n",
            "39  {'lattice_mat': [[0.0, 5.104615296684174, 5.10...  ...  0.000\n",
            "\n",
            "[40 rows x 3 columns]\n",
            "warning: could not load CGCNN features for 103\n",
            "Setting it to max atomic number available here, 103\n",
            "warning: could not load CGCNN features for 101\n",
            "Setting it to max atomic number available here, 103\n",
            "warning: could not load CGCNN features for 102\n",
            "Setting it to max atomic number available here, 103\n",
            "building line graphs\n",
            "100% 40/40 [00:00<00:00, 592.67it/s]\n",
            "data range 1.569 0.0\n",
            "100% 5/5 [00:00<00:00, 19.91it/s]\n",
            "df                                                atoms  ... target\n",
            "0  {'lattice_mat': [[-0.0, 5.040771484524319, 5.0...  ...  0.000\n",
            "1  {'lattice_mat': [[4.376835486482439, 0.0086562...  ...  0.000\n",
            "2  {'lattice_mat': [[-0.0, 5.037541505850243, 5.0...  ...  0.000\n",
            "3  {'lattice_mat': [[10.37325585559557, -2.271858...  ...  1.569\n",
            "4  {'lattice_mat': [[0.0, 5.129874508851702, 5.12...  ...  0.000\n",
            "\n",
            "[5 rows x 3 columns]\n",
            "building line graphs\n",
            "100% 5/5 [00:00<00:00, 856.43it/s]\n",
            "data range 6.149 0.0\n",
            "100% 5/5 [00:00<00:00, 32.29it/s]\n",
            "df                                                atoms  ... target\n",
            "0  {'lattice_mat': [[1.6712283e-08, -2.5080296697...  ...  6.149\n",
            "1  {'lattice_mat': [[6.603532697435508, 0.0, -0.0...  ...  4.072\n",
            "2  {'lattice_mat': [[-0.0, 4.517300851474054, 4.5...  ...  0.000\n",
            "3  {'lattice_mat': [[-0.0, 4.326757913323647, 4.3...  ...  0.000\n",
            "4  {'lattice_mat': [[6.9098665629767275, 0.128626...  ...  2.341\n",
            "\n",
            "[5 rows x 3 columns]\n",
            "building line graphs\n",
            "100% 5/5 [00:00<00:00, 1078.12it/s]\n",
            "n_train: 40\n",
            "n_val  : 5\n",
            "n_test : 5\n",
            "version='112bbedebdaecf59fb18e11c929080fb2f358246' dataset='user_data' target='target' atom_features='cgcnn' neighbor_strategy='k-nearest' id_tag='jid' random_seed=123 classification_threshold=None n_val=None n_test=None n_train=None train_ratio=0.8 val_ratio=0.1 test_ratio=0.1 target_multiplication_factor=None epochs=3 batch_size=2 weight_decay=1e-05 learning_rate=0.001 filename='sample' warmup_steps=2000 criterion='mse' optimizer='adamw' scheduler='onecycle' pin_memory=False save_dataloader=False write_checkpoint=True write_predictions=True store_outputs=True progress=True log_tensorboard=False standard_scalar_and_pca=False use_canonize=True num_workers=0 cutoff=8.0 max_neighbors=12 keep_data_order=True normalize_graph_level_loss=False distributed=False data_parallel=False n_early_stopping=None output_dir='temp' model=ALIGNNConfig(name='alignn', alignn_layers=4, gcn_layers=4, atom_input_features=92, edge_input_features=80, triplet_input_features=40, embedding_features=64, hidden_features=256, output_features=1, link='identity', zero_inflated=False, classification=False, num_classes=2)\n",
            "config:\n",
            "{'atom_features': 'cgcnn',\n",
            " 'batch_size': 2,\n",
            " 'classification_threshold': None,\n",
            " 'criterion': 'mse',\n",
            " 'cutoff': 8.0,\n",
            " 'data_parallel': False,\n",
            " 'dataset': 'user_data',\n",
            " 'distributed': False,\n",
            " 'epochs': 3,\n",
            " 'filename': 'sample',\n",
            " 'id_tag': 'jid',\n",
            " 'keep_data_order': True,\n",
            " 'learning_rate': 0.001,\n",
            " 'log_tensorboard': False,\n",
            " 'max_neighbors': 12,\n",
            " 'model': {'alignn_layers': 4,\n",
            "           'atom_input_features': 92,\n",
            "           'classification': False,\n",
            "           'edge_input_features': 80,\n",
            "           'embedding_features': 64,\n",
            "           'gcn_layers': 4,\n",
            "           'hidden_features': 256,\n",
            "           'link': 'identity',\n",
            "           'name': 'alignn',\n",
            "           'num_classes': 2,\n",
            "           'output_features': 1,\n",
            "           'triplet_input_features': 40,\n",
            "           'zero_inflated': False},\n",
            " 'n_early_stopping': None,\n",
            " 'n_test': None,\n",
            " 'n_train': None,\n",
            " 'n_val': None,\n",
            " 'neighbor_strategy': 'k-nearest',\n",
            " 'normalize_graph_level_loss': False,\n",
            " 'num_workers': 0,\n",
            " 'optimizer': 'adamw',\n",
            " 'output_dir': 'temp',\n",
            " 'pin_memory': False,\n",
            " 'progress': True,\n",
            " 'random_seed': 123,\n",
            " 'save_dataloader': False,\n",
            " 'scheduler': 'onecycle',\n",
            " 'standard_scalar_and_pca': False,\n",
            " 'store_outputs': True,\n",
            " 'target': 'target',\n",
            " 'target_multiplication_factor': None,\n",
            " 'test_ratio': 0.1,\n",
            " 'train_ratio': 0.8,\n",
            " 'use_canonize': True,\n",
            " 'val_ratio': 0.1,\n",
            " 'version': '112bbedebdaecf59fb18e11c929080fb2f358246',\n",
            " 'warmup_steps': 2000,\n",
            " 'weight_decay': 1e-05,\n",
            " 'write_checkpoint': True,\n",
            " 'write_predictions': True}\n",
            "/usr/local/lib/python3.10/dist-packages/dgl/backend/pytorch/tensor.py:445: UserWarning: TypedStorage is deprecated. It will be removed in the future and UntypedStorage will be the only storage class. This should only matter to you if you are using storages directly.  To access UntypedStorage directly, use tensor.untyped_storage() instead of tensor.storage()\n",
            "  assert input.numel() == input.storage().size(), (\n",
            "Val_MAE: 1.0307\n",
            "Train_MAE: 0.8359\n",
            "Val_MAE: 0.4761\n",
            "Train_MAE: 1.8329\n",
            "Val_MAE: 0.9321\n",
            "Train_MAE: 1.6467\n",
            "Test MAE: 2.506022584438324\n",
            "Time taken (s): 45.454875469207764\n",
            "Time in s 58.91178011894226\n"
          ]
        }
      ]
    },
    {
      "cell_type": "code",
      "source": [
        "!ls -altr temp"
      ],
      "metadata": {
        "colab": {
          "base_uri": "https://localhost:8080/"
        },
        "id": "-IB1-J8-NsLn",
        "outputId": "1d04be19-c8f3-4c37-edba-4ce5a713d31a"
      },
      "execution_count": 4,
      "outputs": [
        {
          "output_type": "stream",
          "name": "stdout",
          "text": [
            "total 142584\n",
            "-rw-r--r-- 1 root root     1385 Aug 12 15:18 ids_train_val_test.json\n",
            "drwxr-xr-x 6 root root     4096 Aug 12 15:18 ..\n",
            "-rw-r--r-- 1 root root       44 Aug 12 15:18 mad\n",
            "-rw-r--r-- 1 root root       18 Aug 12 15:18 train_data_data_range\n",
            "-rw-r--r-- 1 root root       18 Aug 12 15:18 val_data_data_range\n",
            "-rw-r--r-- 1 root root       18 Aug 12 15:18 test_data_data_range\n",
            "-rw-r--r-- 1 root root     1587 Aug 12 15:18 config.json\n",
            "-rw-r--r-- 1 root root 48648693 Aug 12 15:19 checkpoint_2.pt\n",
            "-rw-r--r-- 1 root root 48648693 Aug 12 15:19 best_model.pt\n",
            "-rw-r--r-- 1 root root 48648693 Aug 12 15:19 checkpoint_3.pt\n",
            "-rw-r--r-- 1 root root      139 Aug 12 15:19 history_val.json\n",
            "-rw-r--r-- 1 root root      137 Aug 12 15:19 history_train.json\n",
            "-rw-r--r-- 1 root root      243 Aug 12 15:19 prediction_results_test_set.csv\n",
            "-rw-r--r-- 1 root root     1248 Aug 12 15:19 prediction_results_train_set.csv\n",
            "drwxr-xr-x 2 root root     4096 Aug 12 15:19 .\n"
          ]
        }
      ]
    },
    {
      "cell_type": "code",
      "source": [
        "# from jarvis.core.atoms import Atoms\n",
        "# from alignn.graphs import Graph\n",
        "# cutoff = 8.0\n",
        "# model=model.to(device)\n",
        "# max_neighbors = 12\n",
        "# atoms = Atoms.from_poscar('alignn/examples/sample_data/POSCAR-JVASP-10.vasp')\n",
        "# g, lg = Graph.atom_dgl_multigraph(\n",
        "#     atoms, cutoff=float(cutoff), max_neighbors=max_neighbors,\n",
        "# )\n",
        "# out_data = (\n",
        "#     model([g.to(device), lg.to(device)])\n",
        "#     .detach()\n",
        "#     .cpu()\n",
        "#     .numpy()\n",
        "#     .flatten()\n",
        "#     .tolist()\n",
        "# )\n",
        "# print ('output', out_data[0])"
      ],
      "metadata": {
        "id": "ivKTl5PSSIUn"
      },
      "execution_count": 6,
      "outputs": []
    },
    {
      "cell_type": "markdown",
      "source": [
        "# Check after model reload we can reproduce predictions"
      ],
      "metadata": {
        "id": "MaNeQbpLWGu1"
      }
    },
    {
      "cell_type": "code",
      "source": [
        "from alignn.models.alignn import ALIGNN, ALIGNNConfig\n",
        "from jarvis.db.jsonutils import loadjson\n",
        "from alignn.graphs import Graph\n",
        "from jarvis.core.atoms import Atoms\n",
        "import pandas as pd\n",
        "from jarvis.db.figshare import data\n",
        "import torch\n",
        "from sklearn.metrics import mean_absolute_error\n",
        "from tqdm import tqdm\n",
        "device = \"cpu\"\n",
        "if torch.cuda.is_available():\n",
        "    device = torch.device(\"cuda\")\n",
        "outdir = 'temp'\n",
        "rootdir = \"alignn/examples/sample_data\"\n",
        "chkpt=os.path.join(outdir,\"checkpoint_3.pt\")\n",
        "csv_path=os.path.join(outdir,\"prediction_results_test_set.csv\")\n",
        "config_path=os.path.join(outdir,\"config.json\")\n",
        "res_df = pd.read_csv(csv_path)\n",
        "config=loadjson(config_path)\n",
        "model = ALIGNN(ALIGNNConfig(**config[\"model\"]))\n",
        "model.load_state_dict(torch.load(chkpt, map_location=device)[\"model\"])\n",
        "model = model.to(device)\n",
        "# from alignn.models.alignn import ALIGNN, ALIGNNConfig\n",
        "# import torch\n",
        "# output_features =  1\n",
        "# filename = 'temp/checkpoint_3.pt'\n",
        "# device = \"cpu\"\n",
        "# if torch.cuda.is_available():\n",
        "#     device = torch.device(\"cuda\")\n",
        "# model = ALIGNN(ALIGNNConfig(name=\"alignn\", output_features=output_features))\n",
        "# model.load_state_dict(torch.load(filename, map_location=device)[\"model\"])\n",
        "model.eval()\n",
        "\n",
        "x=[]\n",
        "y=[]\n",
        "z=[]\n",
        "aa=[]\n",
        "for i,ii in (res_df.iterrows()):\n",
        "  id=ii['id']\n",
        "  pos_path=os.path.join(rootdir,id)\n",
        "  atoms=Atoms.from_poscar(pos_path)\n",
        "  aa.append(aa)\n",
        "  g,lg=Graph.atom_dgl_multigraph(atoms,use_canonize=True,cutoff=8.0,neighbor_strategy=\"k-nearest\",max_neighbors=12)\n",
        "  g=g.to(device)\n",
        "  lg=lg.to(device)\n",
        "  model=model.to(device)\n",
        "  pred=model([g,lg]).detach().cpu().numpy().tolist()\n",
        "\n",
        "  print(id,pred,ii['prediction'],ii['target'])\n",
        "  x.append(ii['target'])\n",
        "  y.append(ii['prediction'])\n",
        "  z.append(pred)\n",
        "mae_old = mean_absolute_error(x,y)\n",
        "mae_new = mean_absolute_error(x,z)\n",
        "info={}\n",
        "\n",
        "info['len']=len(x)\n",
        "info['mae_old']=mae_old\n",
        "info['mae_new']=mae_new\n",
        "print(info)"
      ],
      "metadata": {
        "colab": {
          "base_uri": "https://localhost:8080/"
        },
        "id": "5BYQr9kQNI83",
        "outputId": "172f49c6-5afa-4ef6-9b59-f6d0b2676660"
      },
      "execution_count": 7,
      "outputs": [
        {
          "output_type": "stream",
          "name": "stderr",
          "text": [
            "/usr/local/lib/python3.10/dist-packages/dgl/backend/pytorch/tensor.py:445: UserWarning: TypedStorage is deprecated. It will be removed in the future and UntypedStorage will be the only storage class. This should only matter to you if you are using storages directly.  To access UntypedStorage directly, use tensor.untyped_storage() instead of tensor.storage()\n",
            "  assert input.numel() == input.storage().size(), (\n"
          ]
        },
        {
          "output_type": "stream",
          "name": "stdout",
          "text": [
            "POSCAR-JVASP-21210.vasp -0.386238157749176 -0.386238 6.149\n",
            "POSCAR-JVASP-97677.vasp 1.3737187385559082 1.373719 4.072\n",
            "POSCAR-JVASP-65101.vasp 1.574691653251648 1.574692 0.0\n",
            "POSCAR-JVASP-65062.vasp -1.3612366914749146 -1.361237 0.0\n",
            "POSCAR-JVASP-97570.vasp 1.9803351163864136 1.980335 2.341\n",
            "{'len': 5, 'mae_old': 2.5060226, 'mae_new': 2.5060225295066836}\n"
          ]
        }
      ]
    },
    {
      "cell_type": "code",
      "source": [],
      "metadata": {
        "id": "uWCGC2Y0NbAu"
      },
      "execution_count": null,
      "outputs": []
    },
    {
      "cell_type": "code",
      "source": [],
      "metadata": {
        "id": "5tgi1i6dNbEF"
      },
      "execution_count": null,
      "outputs": []
    },
    {
      "cell_type": "code",
      "source": [
        "!train_folder_ff.py --root_dir \"alignn/examples/sample_data_ff\" --config \"alignn/examples/sample_data_ff/config_example_atomwise.json\" --output_dir=tempff"
      ],
      "metadata": {
        "colab": {
          "base_uri": "https://localhost:8080/"
        },
        "id": "IF12-aWJNbHU",
        "outputId": "2ce78fb2-49af-4118-9647-ef6a7d4dc2e0"
      },
      "execution_count": 8,
      "outputs": [
        {
          "output_type": "stream",
          "name": "stdout",
          "text": [
            "len dataset 50\n",
            "MAX val: -24.52653862\n",
            "MIN val: -42.04135008\n",
            "MAD: 7.884625411000001\n",
            "Baseline MAE: 11.991239256250003\n",
            "data range -24.52653862 -42.04135008\n",
            "100% 40/40 [00:00<00:00, 47.03it/s]\n",
            "df        target  ...    jid\n",
            "0  -29.313096  ...  15607\n",
            "1  -29.312862  ...  15607\n",
            "2  -29.312159  ...  15607\n",
            "3  -29.312429  ...  15607\n",
            "4  -29.312428  ...  15607\n",
            "5  -29.312791  ...  15607\n",
            "6  -29.311952  ...  15607\n",
            "7  -29.311899  ...  15607\n",
            "8  -29.312800  ...  15607\n",
            "9  -42.041350  ...  15608\n",
            "10 -42.002227  ...  15608\n",
            "11 -42.016896  ...  15608\n",
            "12 -42.002229  ...  15608\n",
            "13 -42.016896  ...  15608\n",
            "14 -42.019225  ...  15608\n",
            "15 -42.032726  ...  15608\n",
            "16 -42.029257  ...  15608\n",
            "17 -42.029256  ...  15608\n",
            "18 -42.030165  ...  15608\n",
            "19 -42.030166  ...  15608\n",
            "20 -42.030172  ...  15608\n",
            "21 -42.030172  ...  15608\n",
            "22 -42.040889  ...  15608\n",
            "23 -42.040889  ...  15608\n",
            "24 -42.040710  ...  15608\n",
            "25 -42.040710  ...  15608\n",
            "26 -42.039555  ...  15608\n",
            "27 -42.039553  ...  15608\n",
            "28 -42.040184  ...  15608\n",
            "29 -42.040186  ...  15608\n",
            "30 -42.039996  ...  15608\n",
            "31 -42.039996  ...  15608\n",
            "32 -42.038933  ...  15608\n",
            "33 -42.041135  ...  15608\n",
            "34 -24.558797  ...  15609\n",
            "35 -24.544741  ...  15609\n",
            "36 -24.527151  ...  15609\n",
            "37 -24.544738  ...  15609\n",
            "38 -24.527154  ...  15609\n",
            "39 -24.526539  ...  15609\n",
            "\n",
            "[40 rows x 5 columns]\n",
            "warning: could not load CGCNN features for 103\n",
            "Setting it to max atomic number available here, 103\n",
            "warning: could not load CGCNN features for 101\n",
            "Setting it to max atomic number available here, 103\n",
            "warning: could not load CGCNN features for 102\n",
            "Setting it to max atomic number available here, 103\n",
            "building line graphs\n",
            "100% 40/40 [00:00<00:00, 957.49it/s]\n",
            "data range -24.54448655 -24.55207943\n",
            "100% 5/5 [00:00<00:00, 65.00it/s]\n",
            "df       target  ...    jid\n",
            "0 -24.544487  ...  15609\n",
            "1 -24.552075  ...  15609\n",
            "2 -24.552079  ...  15609\n",
            "3 -24.549425  ...  15609\n",
            "4 -24.549425  ...  15609\n",
            "\n",
            "[5 rows x 5 columns]\n",
            "building line graphs\n",
            "100% 5/5 [00:00<00:00, 553.43it/s]\n",
            "data range -24.54929028 -24.5582018\n",
            "100% 5/5 [00:00<00:00, 56.39it/s]\n",
            "df       target  ...    jid\n",
            "0 -24.549292  ...  15609\n",
            "1 -24.549290  ...  15609\n",
            "2 -24.558198  ...  15609\n",
            "3 -24.558198  ...  15609\n",
            "4 -24.558202  ...  15609\n",
            "\n",
            "[5 rows x 5 columns]\n",
            "building line graphs\n",
            "100% 5/5 [00:00<00:00, 315.42it/s]\n",
            "n_train: 40\n",
            "n_val  : 5\n",
            "n_test : 5\n",
            "version='112bbedebdaecf59fb18e11c929080fb2f358246' dataset='user_data' target='target' atom_features='cgcnn' neighbor_strategy='k-nearest' id_tag='jid' random_seed=123 classification_threshold=None n_val=None n_test=None n_train=None train_ratio=0.8 val_ratio=0.1 test_ratio=0.1 target_multiplication_factor=None epochs=3 batch_size=2 weight_decay=1e-05 learning_rate=0.001 filename='sample' warmup_steps=2000 criterion='l1' optimizer='adamw' scheduler='onecycle' pin_memory=False save_dataloader=False write_checkpoint=True write_predictions=True store_outputs=False progress=True log_tensorboard=False standard_scalar_and_pca=False use_canonize=False num_workers=0 cutoff=8.0 max_neighbors=12 keep_data_order=True normalize_graph_level_loss=False distributed=False data_parallel=False n_early_stopping=None output_dir='tempff' model=ALIGNNAtomWiseConfig(name='alignn_atomwise', alignn_layers=4, gcn_layers=4, atom_input_features=92, edge_input_features=80, triplet_input_features=40, embedding_features=64, hidden_features=256, output_features=1, grad_multiplier=-1, calculate_gradient=True, atomwise_output_features=0, graphwise_weight=0.85, gradwise_weight=0.05, stresswise_weight=0.05, atomwise_weight=0.0, link='identity', zero_inflated=False, classification=False, force_mult_natoms=False, energy_mult_natoms=False, include_pos_deriv=False, use_cutoff_function=False, inner_cutoff=6.0, stress_multiplier=1.0, add_reverse_forces=False, lg_on_fly=False, batch_stress=True)\n",
            "config:\n",
            "{'atom_features': 'cgcnn',\n",
            " 'batch_size': 2,\n",
            " 'classification_threshold': None,\n",
            " 'criterion': 'l1',\n",
            " 'cutoff': 8.0,\n",
            " 'data_parallel': False,\n",
            " 'dataset': 'user_data',\n",
            " 'distributed': False,\n",
            " 'epochs': 3,\n",
            " 'filename': 'sample',\n",
            " 'id_tag': 'jid',\n",
            " 'keep_data_order': True,\n",
            " 'learning_rate': 0.001,\n",
            " 'log_tensorboard': False,\n",
            " 'max_neighbors': 12,\n",
            " 'model': {'add_reverse_forces': False,\n",
            "           'alignn_layers': 4,\n",
            "           'atom_input_features': 92,\n",
            "           'atomwise_output_features': 0,\n",
            "           'atomwise_weight': 0.0,\n",
            "           'batch_stress': True,\n",
            "           'calculate_gradient': True,\n",
            "           'classification': False,\n",
            "           'edge_input_features': 80,\n",
            "           'embedding_features': 64,\n",
            "           'energy_mult_natoms': False,\n",
            "           'force_mult_natoms': False,\n",
            "           'gcn_layers': 4,\n",
            "           'grad_multiplier': -1,\n",
            "           'gradwise_weight': 0.05,\n",
            "           'graphwise_weight': 0.85,\n",
            "           'hidden_features': 256,\n",
            "           'include_pos_deriv': False,\n",
            "           'inner_cutoff': 6.0,\n",
            "           'lg_on_fly': False,\n",
            "           'link': 'identity',\n",
            "           'name': 'alignn_atomwise',\n",
            "           'output_features': 1,\n",
            "           'stress_multiplier': 1.0,\n",
            "           'stresswise_weight': 0.05,\n",
            "           'triplet_input_features': 40,\n",
            "           'use_cutoff_function': False,\n",
            "           'zero_inflated': False},\n",
            " 'n_early_stopping': None,\n",
            " 'n_test': None,\n",
            " 'n_train': None,\n",
            " 'n_val': None,\n",
            " 'neighbor_strategy': 'k-nearest',\n",
            " 'normalize_graph_level_loss': False,\n",
            " 'num_workers': 0,\n",
            " 'optimizer': 'adamw',\n",
            " 'output_dir': 'tempff',\n",
            " 'pin_memory': False,\n",
            " 'progress': True,\n",
            " 'random_seed': 123,\n",
            " 'save_dataloader': False,\n",
            " 'scheduler': 'onecycle',\n",
            " 'standard_scalar_and_pca': False,\n",
            " 'store_outputs': False,\n",
            " 'target': 'target',\n",
            " 'target_multiplication_factor': None,\n",
            " 'test_ratio': 0.1,\n",
            " 'train_ratio': 0.8,\n",
            " 'use_canonize': False,\n",
            " 'val_ratio': 0.1,\n",
            " 'version': '112bbedebdaecf59fb18e11c929080fb2f358246',\n",
            " 'warmup_steps': 2000,\n",
            " 'weight_decay': 1e-05,\n",
            " 'write_checkpoint': True,\n",
            " 'write_predictions': True}\n",
            "/usr/local/lib/python3.10/dist-packages/dgl/backend/pytorch/tensor.py:445: UserWarning: TypedStorage is deprecated. It will be removed in the future and UntypedStorage will be the only storage class. This should only matter to you if you are using storages directly.  To access UntypedStorage directly, use tensor.untyped_storage() instead of tensor.storage()\n",
            "  assert input.numel() == input.storage().size(), (\n",
            "/usr/local/lib/python3.10/dist-packages/torch/optim/lr_scheduler.py:139: UserWarning: Detected call of `lr_scheduler.step()` before `optimizer.step()`. In PyTorch 1.1.0 and later, you should call them in the opposite order: `optimizer.step()` before `lr_scheduler.step()`.  Failure to do this will result in PyTorch skipping the first value of the learning rate schedule. See more details at https://pytorch.org/docs/stable/optim.html#how-to-adjust-learning-rate\n",
            "  warnings.warn(\"Detected call of `lr_scheduler.step()` before `optimizer.step()`. \"\n",
            "TrainLoss Epoch 0 total 140.17502903938293 out 8.08529191762209 atom nan grad 0.016666957668265116 stress 2.7083943504639416\n",
            "Saving data for epoch: 0\n",
            "ValLoss Epoch 0 total 17.595266342163086 out 10.158854961395264 atom nan grad 0.010701990405561902 stress 3.2414251137329244\n",
            "TrainLoss Epoch 1 total 50.182391345500946 out 2.7944252490997314 atom nan grad 0.016950830905921824 stress 2.660209726472274\n",
            "Saving data for epoch: 1\n",
            "ValLoss Epoch 1 total 9.419894218444824 out 5.348280429840088 atom nan grad 0.011327139889018175 stress 3.26684631054436\n",
            "TrainLoss Epoch 2 total 16.75172796845436 out 0.8285553932189942 atom nan grad 0.017083873127878686 stress 2.6492019161717546\n",
            "Saving data for epoch: 2\n",
            "ValLoss Epoch 2 total 1.1648688912391663 out 0.4922175407409668 atom nan grad 0.010745702975696266 stress 3.270245184848725\n",
            "/usr/local/lib/python3.10/dist-packages/torch/nn/modules/loss.py:101: UserWarning: Using a target size (torch.Size([1])) that is different to the input size (torch.Size([])). This will likely lead to incorrect results due to broadcasting. Please ensure they have the same size.\n",
            "  return F.l1_loss(input, target, reduction=self.reduction)\n",
            "TestLoss 2 2.6249168813228607\n",
            "Time taken (s) 151.31171488761902\n"
          ]
        }
      ]
    },
    {
      "cell_type": "code",
      "source": [
        "!ls -altr tempff"
      ],
      "metadata": {
        "colab": {
          "base_uri": "https://localhost:8080/"
        },
        "id": "grZTs33gTuWf",
        "outputId": "533310fa-02b8-482c-fdb2-b04155e77fbc"
      },
      "execution_count": 9,
      "outputs": [
        {
          "output_type": "stream",
          "name": "stdout",
          "text": [
            "total 31852\n",
            "-rw-r--r-- 1 root root      489 Aug 12 15:20 ids_train_val_test.json\n",
            "drwxr-xr-x 7 root root     4096 Aug 12 15:20 ..\n",
            "-rw-r--r-- 1 root root       68 Aug 12 15:20 mad\n",
            "-rw-r--r-- 1 root root       34 Aug 12 15:20 train_data_data_range\n",
            "-rw-r--r-- 1 root root       34 Aug 12 15:20 val_data_data_range\n",
            "-rw-r--r-- 1 root root       33 Aug 12 15:20 test_data_data_range\n",
            "-rw-r--r-- 1 root root     2118 Aug 12 15:20 config.json\n",
            "-rw-r--r-- 1 root root      204 Aug 12 15:23 history_train.json\n",
            "-rw-r--r-- 1 root root 16174599 Aug 12 15:23 best_model.pt\n",
            "-rw-r--r-- 1 root root   179594 Aug 12 15:23 Train_results.json\n",
            "-rw-r--r-- 1 root root    17832 Aug 12 15:23 Val_results.json\n",
            "-rw-r--r-- 1 root root      203 Aug 12 15:23 history_val.json\n",
            "-rw-r--r-- 1 root root    22590 Aug 12 15:23 Test_results.json\n",
            "drwxr-xr-x 2 root root     4096 Aug 12 15:23 .\n",
            "-rw-r--r-- 1 root root 16174599 Aug 12 15:23 last_model.pt\n"
          ]
        }
      ]
    },
    {
      "cell_type": "code",
      "source": [
        "from alignn.graphs import Graph\n",
        "from alignn.models.alignn_atomwise import ALIGNNAtomWise, ALIGNNAtomWiseConfig\n",
        "config = loadjson(\"tempff/config.json\")\n",
        "path=\"tempff\"\n",
        "model_filename='best_model.pt'\n",
        "model = ALIGNNAtomWise(ALIGNNAtomWiseConfig(**config[\"model\"]))\n",
        "model.state_dict()\n",
        "model.load_state_dict(\n",
        "    torch.load(\n",
        "        os.path.join(path, model_filename), map_location=device\n",
        "    )\n",
        ")\n",
        "model.to(device)\n",
        "model.eval()\n",
        "\n",
        "dat = loadjson(\"alignn/examples/sample_data_ff/id_prop.json\")\n",
        "ids_train_val_test = loadjson(\"tempff/ids_train_val_test.json\")"
      ],
      "metadata": {
        "id": "aaeBC7ZnWTes"
      },
      "execution_count": 19,
      "outputs": []
    },
    {
      "cell_type": "code",
      "source": [
        "ids_train_val_test['id_test']"
      ],
      "metadata": {
        "colab": {
          "base_uri": "https://localhost:8080/"
        },
        "id": "xaj_7IR3YARm",
        "outputId": "68f4c94d-acb7-4af0-ca43-2f8f5037e760"
      },
      "execution_count": 21,
      "outputs": [
        {
          "output_type": "execute_result",
          "data": {
            "text/plain": [
              "['15609', '15609', '15609', '15609', '15609']"
            ]
          },
          "metadata": {},
          "execution_count": 21
        }
      ]
    },
    {
      "cell_type": "code",
      "source": [
        "test_res= loadjson('tempff/Val_results.json')\n",
        "#id_prop = loadjson()"
      ],
      "metadata": {
        "id": "RT9oEni_Wtel"
      },
      "execution_count": 24,
      "outputs": []
    },
    {
      "cell_type": "code",
      "source": [
        "test_res[0].keys()"
      ],
      "metadata": {
        "colab": {
          "base_uri": "https://localhost:8080/"
        },
        "id": "SKtSjCJgXDda",
        "outputId": "8dfa4ecc-a84d-42bb-8e11-ec13a2883820"
      },
      "execution_count": 25,
      "outputs": [
        {
          "output_type": "execute_result",
          "data": {
            "text/plain": [
              "dict_keys(['target_out', 'pred_out', 'target_atomwise_pred', 'pred_atomwise_pred', 'target_grad', 'pred_grad', 'target_stress', 'pred_stress'])"
            ]
          },
          "metadata": {},
          "execution_count": 25
        }
      ]
    },
    {
      "cell_type": "code",
      "source": [
        "for ii,i in enumerate(dat[-2:]):\n",
        "  atoms=Atoms.from_dict(i['atoms'])\n",
        "  g,lg=Graph.atom_dgl_multigraph(atoms,use_canonize=True,cutoff=8.0,neighbor_strategy=\"k-nearest\",max_neighbors=12)\n",
        "  res=model([g,lg])\n",
        "  print(i['total_energy'],test_res[ii]['pred_out'],res['out'])"
      ],
      "metadata": {
        "colab": {
          "base_uri": "https://localhost:8080/"
        },
        "id": "Zkh1g2JMXrc6",
        "outputId": "5128af59-b57f-42ca-b5e8-46cdd70e4326"
      },
      "execution_count": 36,
      "outputs": [
        {
          "output_type": "stream",
          "name": "stdout",
          "text": [
            "-24.55819782 [-24.05967140197754, -24.056509017944336] tensor(-24.0574, grad_fn=<SqueezeBackward0>)\n",
            "-24.5582018 [-24.056509017944336, -24.056509017944336] tensor(-24.0574, grad_fn=<SqueezeBackward0>)\n"
          ]
        }
      ]
    },
    {
      "cell_type": "code",
      "source": [
        "config"
      ],
      "metadata": {
        "colab": {
          "base_uri": "https://localhost:8080/"
        },
        "id": "6KLFSzJRY3L-",
        "outputId": "ee52e528-aaa7-483e-8050-438f3956f9ac"
      },
      "execution_count": 32,
      "outputs": [
        {
          "output_type": "execute_result",
          "data": {
            "text/plain": [
              "{'version': '112bbedebdaecf59fb18e11c929080fb2f358246',\n",
              " 'dataset': 'user_data',\n",
              " 'target': 'target',\n",
              " 'atom_features': 'cgcnn',\n",
              " 'neighbor_strategy': 'k-nearest',\n",
              " 'id_tag': 'jid',\n",
              " 'random_seed': 123,\n",
              " 'classification_threshold': None,\n",
              " 'n_val': None,\n",
              " 'n_test': None,\n",
              " 'n_train': None,\n",
              " 'train_ratio': 0.8,\n",
              " 'val_ratio': 0.1,\n",
              " 'test_ratio': 0.1,\n",
              " 'target_multiplication_factor': None,\n",
              " 'epochs': 3,\n",
              " 'batch_size': 2,\n",
              " 'weight_decay': 1e-05,\n",
              " 'learning_rate': 0.001,\n",
              " 'filename': 'sample',\n",
              " 'warmup_steps': 2000,\n",
              " 'criterion': 'l1',\n",
              " 'optimizer': 'adamw',\n",
              " 'scheduler': 'onecycle',\n",
              " 'pin_memory': False,\n",
              " 'save_dataloader': False,\n",
              " 'write_checkpoint': True,\n",
              " 'write_predictions': True,\n",
              " 'store_outputs': False,\n",
              " 'progress': True,\n",
              " 'log_tensorboard': False,\n",
              " 'standard_scalar_and_pca': False,\n",
              " 'use_canonize': False,\n",
              " 'num_workers': 0,\n",
              " 'cutoff': 8.0,\n",
              " 'max_neighbors': 12,\n",
              " 'keep_data_order': True,\n",
              " 'normalize_graph_level_loss': False,\n",
              " 'distributed': False,\n",
              " 'data_parallel': False,\n",
              " 'n_early_stopping': None,\n",
              " 'output_dir': 'tempff',\n",
              " 'model': {'name': 'alignn_atomwise',\n",
              "  'alignn_layers': 4,\n",
              "  'gcn_layers': 4,\n",
              "  'atom_input_features': 92,\n",
              "  'edge_input_features': 80,\n",
              "  'triplet_input_features': 40,\n",
              "  'embedding_features': 64,\n",
              "  'hidden_features': 256,\n",
              "  'output_features': 1,\n",
              "  'grad_multiplier': -1,\n",
              "  'calculate_gradient': True,\n",
              "  'atomwise_output_features': 0,\n",
              "  'graphwise_weight': 0.85,\n",
              "  'gradwise_weight': 0.05,\n",
              "  'stresswise_weight': 0.05,\n",
              "  'atomwise_weight': 0.0,\n",
              "  'link': 'identity',\n",
              "  'zero_inflated': False,\n",
              "  'classification': False,\n",
              "  'force_mult_natoms': False,\n",
              "  'energy_mult_natoms': False,\n",
              "  'include_pos_deriv': False,\n",
              "  'use_cutoff_function': False,\n",
              "  'inner_cutoff': 6.0,\n",
              "  'stress_multiplier': 1.0,\n",
              "  'add_reverse_forces': False,\n",
              "  'lg_on_fly': False,\n",
              "  'batch_stress': True}}"
            ]
          },
          "metadata": {},
          "execution_count": 32
        }
      ]
    },
    {
      "cell_type": "code",
      "source": [
        "test_res[0]"
      ],
      "metadata": {
        "colab": {
          "base_uri": "https://localhost:8080/"
        },
        "id": "RQi61ZErXEaN",
        "outputId": "dc18a676-46a9-4a26-f6c3-ce6ea247b124"
      },
      "execution_count": 15,
      "outputs": [
        {
          "output_type": "execute_result",
          "data": {
            "text/plain": [
              "{'target_out': [-24.549291610717773],\n",
              " 'pred_out': -24.05914878845215,\n",
              " 'target_grad': [[-0.0, -0.0, 0.0],\n",
              "  [-0.0, -0.0, 0.0],\n",
              "  [0.03928278014063835, -0.0, -0.024358009919524193],\n",
              "  [-0.03928278014063835, -0.0, 0.024358009919524193],\n",
              "  [0.03928278014063835, -0.0, -0.024358009919524193],\n",
              "  [-0.03928278014063835, -0.0, 0.024358009919524193],\n",
              "  [0.04254627972841263, -0.0, -0.0026069199666380882],\n",
              "  [-0.04254627972841263, 0.0, 0.0026069199666380882],\n",
              "  [0.04254627972841263, -0.0, -0.0026069199666380882],\n",
              "  [-0.04254627972841263, 0.0, 0.0026069199666380882]],\n",
              " 'pred_grad': [[-1.002263161353767e-09,\n",
              "   0.00019219833484385163,\n",
              "   1.382431946694851e-09],\n",
              "  [7.275957614183426e-12, -0.0001921964721987024, -1.4233592082746327e-09],\n",
              "  [0.0015125914942473173, 7.055583409965038e-06, -0.0025860315654426813],\n",
              "  [-0.0015125909121707082, 7.054535672068596e-06, 0.0025860306341201067],\n",
              "  [0.0015125931240618229, -7.053953595459461e-06, -0.002586033660918474],\n",
              "  [-0.00151259230915457, -7.055699825286865e-06, 0.002586024347692728],\n",
              "  [-0.00044606137089431286, -0.000294725876301527, -0.0002530278579797596],\n",
              "  [0.00044606142910197377, 0.00029472741880454123, 0.0002530256169848144],\n",
              "  [-0.00044606137089431286, 0.0002947273897007108, -0.00025302718859165907],\n",
              "  [0.00044606172014027834, -0.0002947267494164407, 0.00025302357971668243]],\n",
              " 'target_stress': [[-2.851203441619873, 0.0, -9.931075096130371],\n",
              "  [0.0, -3.1378121376037598, 0.0],\n",
              "  [-9.931075096130371, 0.0, -4.234562397003174],\n",
              "  [-2.851203441619873, 0.0, -9.931075096130371],\n",
              "  [0.0, -3.1378121376037598, 0.0],\n",
              "  [-9.931075096130371, 0.0, -4.234562397003174],\n",
              "  [-2.851203441619873, 0.0, -9.931075096130371],\n",
              "  [0.0, -3.1378121376037598, 0.0],\n",
              "  [-9.931075096130371, 0.0, -4.234562397003174],\n",
              "  [-2.851203441619873, 0.0, -9.931075096130371],\n",
              "  [0.0, -3.1378121376037598, 0.0],\n",
              "  [-9.931075096130371, 0.0, -4.234562397003174],\n",
              "  [-2.851203441619873, 0.0, -9.931075096130371],\n",
              "  [0.0, -3.1378121376037598, 0.0],\n",
              "  [-9.931075096130371, 0.0, -4.234562397003174],\n",
              "  [-2.851203441619873, 0.0, -9.931075096130371],\n",
              "  [0.0, -3.1378121376037598, 0.0],\n",
              "  [-9.931075096130371, 0.0, -4.234562397003174],\n",
              "  [-2.851203441619873, 0.0, -9.931075096130371],\n",
              "  [0.0, -3.1378121376037598, 0.0],\n",
              "  [-9.931075096130371, 0.0, -4.234562397003174],\n",
              "  [-2.851203441619873, 0.0, -9.931075096130371],\n",
              "  [0.0, -3.1378121376037598, 0.0],\n",
              "  [-9.931075096130371, 0.0, -4.234562397003174],\n",
              "  [-2.851203441619873, 0.0, -9.931075096130371],\n",
              "  [0.0, -3.1378121376037598, 0.0],\n",
              "  [-9.931075096130371, 0.0, -4.234562397003174],\n",
              "  [-2.851203441619873, 0.0, -9.931075096130371],\n",
              "  [0.0, -3.1378121376037598, 0.0],\n",
              "  [-9.931075096130371, 0.0, -4.234562397003174]],\n",
              " 'pred_stress': [[0.028117181733250618,\n",
              "   -2.849024127726807e-09,\n",
              "   -0.014812046661973],\n",
              "  [-4.149431465094722e-09, 0.027073992416262627, -4.6182868640443075e-10],\n",
              "  [-0.014812046661973, 4.2473097261463977e-10, 0.13054271042346954],\n",
              "  [0.028117181733250618, -2.849024127726807e-09, -0.014812046661973],\n",
              "  [-4.149431465094722e-09, 0.027073992416262627, -4.6182868640443075e-10],\n",
              "  [-0.014812046661973, 4.2473097261463977e-10, 0.13054271042346954],\n",
              "  [0.028117181733250618, -2.849024127726807e-09, -0.014812046661973],\n",
              "  [-4.149431465094722e-09, 0.027073992416262627, -4.6182868640443075e-10],\n",
              "  [-0.014812046661973, 4.2473097261463977e-10, 0.13054271042346954],\n",
              "  [0.028117181733250618, -2.849024127726807e-09, -0.014812046661973],\n",
              "  [-4.149431465094722e-09, 0.027073992416262627, -4.6182868640443075e-10],\n",
              "  [-0.014812046661973, 4.2473097261463977e-10, 0.13054271042346954],\n",
              "  [0.028117181733250618, -2.849024127726807e-09, -0.014812046661973],\n",
              "  [-4.149431465094722e-09, 0.027073992416262627, -4.6182868640443075e-10],\n",
              "  [-0.014812046661973, 4.2473097261463977e-10, 0.13054271042346954],\n",
              "  [0.028117181733250618, -2.849024127726807e-09, -0.014812046661973],\n",
              "  [-4.149431465094722e-09, 0.027073992416262627, -4.6182868640443075e-10],\n",
              "  [-0.014812046661973, 4.2473097261463977e-10, 0.13054271042346954],\n",
              "  [0.028117181733250618, -2.849024127726807e-09, -0.014812046661973],\n",
              "  [-4.149431465094722e-09, 0.027073992416262627, -4.6182868640443075e-10],\n",
              "  [-0.014812046661973, 4.2473097261463977e-10, 0.13054271042346954],\n",
              "  [0.028117181733250618, -2.849024127726807e-09, -0.014812046661973],\n",
              "  [-4.149431465094722e-09, 0.027073992416262627, -4.6182868640443075e-10],\n",
              "  [-0.014812046661973, 4.2473097261463977e-10, 0.13054271042346954],\n",
              "  [0.028117181733250618, -2.849024127726807e-09, -0.014812046661973],\n",
              "  [-4.149431465094722e-09, 0.027073992416262627, -4.6182868640443075e-10],\n",
              "  [-0.014812046661973, 4.2473097261463977e-10, 0.13054271042346954],\n",
              "  [0.028117181733250618, -2.849024127726807e-09, -0.014812046661973],\n",
              "  [-4.149431465094722e-09, 0.027073992416262627, -4.6182868640443075e-10],\n",
              "  [-0.014812046661973, 4.2473097261463977e-10, 0.13054271042346954]]}"
            ]
          },
          "metadata": {},
          "execution_count": 15
        }
      ]
    },
    {
      "cell_type": "code",
      "source": [],
      "metadata": {
        "id": "mI5t_RnsXPsD"
      },
      "execution_count": null,
      "outputs": []
    }
  ]
}