{
  "cells": [
    {
      "cell_type": "markdown",
      "metadata": {
        "id": "view-in-github",
        "colab_type": "text"
      },
      "source": [
        "<a href=\"https://colab.research.google.com/github/knc6/jarvis-tools-notebooks/blob/master/jarvis-tools-notebooks/Tantalum_MLFF_FitSnap.ipynb\" target=\"_parent\"><img src=\"https://colab.research.google.com/assets/colab-badge.svg\" alt=\"Open In Colab\"/></a>"
      ]
    },
    {
      "cell_type": "markdown",
      "metadata": {
        "id": "mupJnYzIc8eK"
      },
      "source": [
        "# Step 1: Install LAMMPS and FitSNAP"
      ]
    },
    {
      "cell_type": "code",
      "source": [
        "!python --version"
      ],
      "metadata": {
        "id": "GMG-uCp5e-lS",
        "outputId": "d0f556aa-4e09-4074-cee3-7404cf6cfc7c",
        "colab": {
          "base_uri": "https://localhost:8080/"
        }
      },
      "execution_count": 1,
      "outputs": [
        {
          "output_type": "stream",
          "name": "stdout",
          "text": [
            "Python 3.10.12\n"
          ]
        }
      ]
    },
    {
      "cell_type": "code",
      "source": [
        "pip install jarvis-tools"
      ],
      "metadata": {
        "colab": {
          "base_uri": "https://localhost:8080/"
        },
        "id": "RAv7Qz5N4Q2X",
        "outputId": "bec29e99-89df-488c-ab73-49a6f171a480"
      },
      "execution_count": 42,
      "outputs": [
        {
          "output_type": "stream",
          "name": "stdout",
          "text": [
            "Looking in indexes: https://pypi.org/simple, https://us-python.pkg.dev/colab-wheels/public/simple/\n",
            "Collecting jarvis-tools\n",
            "  Downloading jarvis_tools-2023.5.26-py2.py3-none-any.whl (974 kB)\n",
            "\u001b[2K     \u001b[90m━━━━━━━━━━━━━━━━━━━━━━━━━━━━━━━━━━━━━━\u001b[0m \u001b[32m974.6/974.6 kB\u001b[0m \u001b[31m15.4 MB/s\u001b[0m eta \u001b[36m0:00:00\u001b[0m\n",
            "\u001b[?25hRequirement already satisfied: numpy>=1.19.5 in /usr/local/lib/python3.10/dist-packages (from jarvis-tools) (1.22.4)\n",
            "Requirement already satisfied: scipy>=1.4.1 in /usr/local/lib/python3.10/dist-packages (from jarvis-tools) (1.10.1)\n",
            "Requirement already satisfied: matplotlib>=3.0.0 in /usr/local/lib/python3.10/dist-packages (from jarvis-tools) (3.7.1)\n",
            "Collecting spglib>=1.14.1 (from jarvis-tools)\n",
            "  Downloading spglib-2.0.2-cp310-cp310-manylinux_2_17_x86_64.manylinux2014_x86_64.whl (515 kB)\n",
            "\u001b[2K     \u001b[90m━━━━━━━━━━━━━━━━━━━━━━━━━━━━━━━━━━━━━━\u001b[0m \u001b[32m515.3/515.3 kB\u001b[0m \u001b[31m41.3 MB/s\u001b[0m eta \u001b[36m0:00:00\u001b[0m\n",
            "\u001b[?25hRequirement already satisfied: joblib>=0.14.1 in /usr/local/lib/python3.10/dist-packages (from jarvis-tools) (1.2.0)\n",
            "Requirement already satisfied: requests>=2.23.0 in /usr/local/lib/python3.10/dist-packages (from jarvis-tools) (2.27.1)\n",
            "Requirement already satisfied: toolz>=0.9.0 in /usr/local/lib/python3.10/dist-packages (from jarvis-tools) (0.12.0)\n",
            "Collecting xmltodict>=0.11.0 (from jarvis-tools)\n",
            "  Downloading xmltodict-0.13.0-py2.py3-none-any.whl (10.0 kB)\n",
            "Requirement already satisfied: tqdm>=4.41.1 in /usr/local/lib/python3.10/dist-packages (from jarvis-tools) (4.65.0)\n",
            "Requirement already satisfied: contourpy>=1.0.1 in /usr/local/lib/python3.10/dist-packages (from matplotlib>=3.0.0->jarvis-tools) (1.0.7)\n",
            "Requirement already satisfied: cycler>=0.10 in /usr/local/lib/python3.10/dist-packages (from matplotlib>=3.0.0->jarvis-tools) (0.11.0)\n",
            "Requirement already satisfied: fonttools>=4.22.0 in /usr/local/lib/python3.10/dist-packages (from matplotlib>=3.0.0->jarvis-tools) (4.39.3)\n",
            "Requirement already satisfied: kiwisolver>=1.0.1 in /usr/local/lib/python3.10/dist-packages (from matplotlib>=3.0.0->jarvis-tools) (1.4.4)\n",
            "Requirement already satisfied: packaging>=20.0 in /usr/local/lib/python3.10/dist-packages (from matplotlib>=3.0.0->jarvis-tools) (23.1)\n",
            "Requirement already satisfied: pillow>=6.2.0 in /usr/local/lib/python3.10/dist-packages (from matplotlib>=3.0.0->jarvis-tools) (8.4.0)\n",
            "Requirement already satisfied: pyparsing>=2.3.1 in /usr/local/lib/python3.10/dist-packages (from matplotlib>=3.0.0->jarvis-tools) (3.0.9)\n",
            "Requirement already satisfied: python-dateutil>=2.7 in /usr/local/lib/python3.10/dist-packages (from matplotlib>=3.0.0->jarvis-tools) (2.8.2)\n",
            "Requirement already satisfied: urllib3<1.27,>=1.21.1 in /usr/local/lib/python3.10/dist-packages (from requests>=2.23.0->jarvis-tools) (1.26.15)\n",
            "Requirement already satisfied: certifi>=2017.4.17 in /usr/local/lib/python3.10/dist-packages (from requests>=2.23.0->jarvis-tools) (2022.12.7)\n",
            "Requirement already satisfied: charset-normalizer~=2.0.0 in /usr/local/lib/python3.10/dist-packages (from requests>=2.23.0->jarvis-tools) (2.0.12)\n",
            "Requirement already satisfied: idna<4,>=2.5 in /usr/local/lib/python3.10/dist-packages (from requests>=2.23.0->jarvis-tools) (3.4)\n",
            "Requirement already satisfied: six>=1.5 in /usr/local/lib/python3.10/dist-packages (from python-dateutil>=2.7->matplotlib>=3.0.0->jarvis-tools) (1.16.0)\n",
            "Installing collected packages: xmltodict, spglib, jarvis-tools\n",
            "Successfully installed jarvis-tools-2023.5.26 spglib-2.0.2 xmltodict-0.13.0\n"
          ]
        }
      ]
    },
    {
      "cell_type": "markdown",
      "metadata": {
        "id": "BhlRDdK9e7Hi"
      },
      "source": [
        "If you are running locally and have already installed LAMMPS and FitSNAP, skip this step."
      ]
    },
    {
      "cell_type": "code",
      "execution_count": 2,
      "metadata": {
        "colab": {
          "base_uri": "https://localhost:8080/"
        },
        "id": "ciMh8mEhYfS-",
        "outputId": "62130ac5-831d-4598-aa99-0b2489178bfe"
      },
      "outputs": [
        {
          "output_type": "stream",
          "name": "stdout",
          "text": [
            "Get:1 http://security.ubuntu.com/ubuntu focal-security InRelease [114 kB]\n",
            "Get:2 https://cloud.r-project.org/bin/linux/ubuntu focal-cran40/ InRelease [3,622 B]\n",
            "Hit:3 https://developer.download.nvidia.com/compute/cuda/repos/ubuntu2004/x86_64  InRelease\n",
            "Hit:4 http://archive.ubuntu.com/ubuntu focal InRelease\n",
            "Hit:5 http://ppa.launchpad.net/c2d4u.team/c2d4u4.0+/ubuntu focal InRelease\n",
            "Get:6 http://archive.ubuntu.com/ubuntu focal-updates InRelease [114 kB]\n",
            "Hit:7 http://ppa.launchpad.net/cran/libgit2/ubuntu focal InRelease\n",
            "Get:8 http://security.ubuntu.com/ubuntu focal-security/restricted amd64 Packages [2,400 kB]\n",
            "Hit:9 http://ppa.launchpad.net/deadsnakes/ppa/ubuntu focal InRelease\n",
            "Get:10 http://archive.ubuntu.com/ubuntu focal-backports InRelease [108 kB]\n",
            "Get:11 http://security.ubuntu.com/ubuntu focal-security/main amd64 Packages [2,803 kB]\n",
            "Get:12 http://security.ubuntu.com/ubuntu focal-security/universe amd64 Packages [1,063 kB]\n",
            "Get:13 http://ppa.launchpad.net/graphics-drivers/ppa/ubuntu focal InRelease [24.3 kB]\n",
            "Hit:14 http://ppa.launchpad.net/ubuntugis/ppa/ubuntu focal InRelease\n",
            "Get:15 http://archive.ubuntu.com/ubuntu focal-updates/main amd64 Packages [3,282 kB]\n",
            "Get:16 http://ppa.launchpad.net/graphics-drivers/ppa/ubuntu focal/main amd64 Packages [41.1 kB]\n",
            "Get:17 http://archive.ubuntu.com/ubuntu focal-updates/universe amd64 Packages [1,359 kB]\n",
            "Get:18 http://archive.ubuntu.com/ubuntu focal-updates/restricted amd64 Packages [2,538 kB]\n",
            "Fetched 13.9 MB in 3s (4,872 kB/s)\n",
            "Reading package lists... Done\n",
            "Reading package lists... Done\n",
            "Building dependency tree       \n",
            "Reading state information... Done\n",
            "libopenmpi-dev is already the newest version (4.0.3-0ubuntu1).\n",
            "openmpi-bin is already the newest version (4.0.3-0ubuntu1).\n",
            "openmpi-bin set to manually installed.\n",
            "build-essential is already the newest version (12.8ubuntu1.1).\n",
            "cmake is already the newest version (3.16.3-1ubuntu1.20.04.1).\n",
            "git is already the newest version (1:2.25.1-1ubuntu3.11).\n",
            "Suggested packages:\n",
            "  distcc | icecc\n",
            "The following NEW packages will be installed:\n",
            "  ccache python3.10-venv\n",
            "0 upgraded, 2 newly installed, 0 to remove and 21 not upgraded.\n",
            "Need to get 3,051 kB of archives.\n",
            "After this operation, 3,686 kB of additional disk space will be used.\n",
            "Get:1 http://archive.ubuntu.com/ubuntu focal/main amd64 ccache amd64 3.7.7-1 [121 kB]\n",
            "Get:2 http://ppa.launchpad.net/deadsnakes/ppa/ubuntu focal/main amd64 python3.10-venv amd64 3.10.12-1+focal1 [2,931 kB]\n",
            "Fetched 3,051 kB in 1s (2,961 kB/s)\n",
            "Selecting previously unselected package ccache.\n",
            "(Reading database ... 123069 files and directories currently installed.)\n",
            "Preparing to unpack .../ccache_3.7.7-1_amd64.deb ...\n",
            "Unpacking ccache (3.7.7-1) ...\n",
            "Selecting previously unselected package python3.10-venv.\n",
            "Preparing to unpack .../python3.10-venv_3.10.12-1+focal1_amd64.deb ...\n",
            "Unpacking python3.10-venv (3.10.12-1+focal1) ...\n",
            "Setting up python3.10-venv (3.10.12-1+focal1) ...\n",
            "Setting up ccache (3.7.7-1) ...\n",
            "Updating symlinks in /usr/lib/ccache ...\n",
            "Processing triggers for man-db (2.9.1-1) ...\n",
            "Looking in indexes: https://pypi.org/simple, https://us-python.pkg.dev/colab-wheels/public/simple/\n",
            "Requirement already satisfied: pip in /usr/local/lib/python3.10/dist-packages (23.1.2)\n",
            "Looking in indexes: https://pypi.org/simple, https://us-python.pkg.dev/colab-wheels/public/simple/\n",
            "Requirement already satisfied: numpy in /usr/local/lib/python3.10/dist-packages (1.22.4)\n",
            "Requirement already satisfied: torch in /usr/local/lib/python3.10/dist-packages (2.0.1+cu118)\n",
            "Requirement already satisfied: scipy in /usr/local/lib/python3.10/dist-packages (1.10.1)\n",
            "Collecting virtualenv\n",
            "  Downloading virtualenv-20.23.1-py3-none-any.whl (3.3 MB)\n",
            "\u001b[2K     \u001b[90m━━━━━━━━━━━━━━━━━━━━━━━━━━━━━━━━━━━━━━━━\u001b[0m \u001b[32m3.3/3.3 MB\u001b[0m \u001b[31m33.9 MB/s\u001b[0m eta \u001b[36m0:00:00\u001b[0m\n",
            "\u001b[?25hRequirement already satisfied: psutil in /usr/local/lib/python3.10/dist-packages (5.9.5)\n",
            "Requirement already satisfied: pandas in /usr/local/lib/python3.10/dist-packages (1.5.3)\n",
            "Requirement already satisfied: tabulate in /usr/local/lib/python3.10/dist-packages (0.8.10)\n",
            "Collecting mpi4py\n",
            "  Downloading mpi4py-3.1.4.tar.gz (2.5 MB)\n",
            "\u001b[2K     \u001b[90m━━━━━━━━━━━━━━━━━━━━━━━━━━━━━━━━━━━━━━━━\u001b[0m \u001b[32m2.5/2.5 MB\u001b[0m \u001b[31m80.5 MB/s\u001b[0m eta \u001b[36m0:00:00\u001b[0m\n",
            "\u001b[?25h  Installing build dependencies ... \u001b[?25l\u001b[?25hdone\n",
            "  Getting requirements to build wheel ... \u001b[?25l\u001b[?25hdone\n",
            "  Preparing metadata (pyproject.toml) ... \u001b[?25l\u001b[?25hdone\n",
            "Requirement already satisfied: Cython in /usr/local/lib/python3.10/dist-packages (0.29.34)\n",
            "Collecting sklearn\n",
            "  Downloading sklearn-0.0.post5.tar.gz (3.7 kB)\n",
            "  Preparing metadata (setup.py) ... \u001b[?25l\u001b[?25hdone\n",
            "Requirement already satisfied: filelock in /usr/local/lib/python3.10/dist-packages (from torch) (3.12.0)\n",
            "Requirement already satisfied: typing-extensions in /usr/local/lib/python3.10/dist-packages (from torch) (4.5.0)\n",
            "Requirement already satisfied: sympy in /usr/local/lib/python3.10/dist-packages (from torch) (1.11.1)\n",
            "Requirement already satisfied: networkx in /usr/local/lib/python3.10/dist-packages (from torch) (3.1)\n",
            "Requirement already satisfied: jinja2 in /usr/local/lib/python3.10/dist-packages (from torch) (3.1.2)\n",
            "Requirement already satisfied: triton==2.0.0 in /usr/local/lib/python3.10/dist-packages (from torch) (2.0.0)\n",
            "Requirement already satisfied: cmake in /usr/local/lib/python3.10/dist-packages (from triton==2.0.0->torch) (3.25.2)\n",
            "Requirement already satisfied: lit in /usr/local/lib/python3.10/dist-packages (from triton==2.0.0->torch) (16.0.5)\n",
            "Collecting distlib<1,>=0.3.6 (from virtualenv)\n",
            "  Downloading distlib-0.3.6-py2.py3-none-any.whl (468 kB)\n",
            "\u001b[2K     \u001b[90m━━━━━━━━━━━━━━━━━━━━━━━━━━━━━━━━━━━━━━\u001b[0m \u001b[32m468.5/468.5 kB\u001b[0m \u001b[31m40.4 MB/s\u001b[0m eta \u001b[36m0:00:00\u001b[0m\n",
            "\u001b[?25hCollecting platformdirs<4,>=3.5.1 (from virtualenv)\n",
            "  Downloading platformdirs-3.6.0-py3-none-any.whl (16 kB)\n",
            "Requirement already satisfied: python-dateutil>=2.8.1 in /usr/local/lib/python3.10/dist-packages (from pandas) (2.8.2)\n",
            "Requirement already satisfied: pytz>=2020.1 in /usr/local/lib/python3.10/dist-packages (from pandas) (2022.7.1)\n",
            "Requirement already satisfied: six>=1.5 in /usr/local/lib/python3.10/dist-packages (from python-dateutil>=2.8.1->pandas) (1.16.0)\n",
            "Requirement already satisfied: MarkupSafe>=2.0 in /usr/local/lib/python3.10/dist-packages (from jinja2->torch) (2.1.2)\n",
            "Requirement already satisfied: mpmath>=0.19 in /usr/local/lib/python3.10/dist-packages (from sympy->torch) (1.3.0)\n",
            "Building wheels for collected packages: mpi4py, sklearn\n",
            "  Building wheel for mpi4py (pyproject.toml) ... \u001b[?25l\u001b[?25hdone\n",
            "  Created wheel for mpi4py: filename=mpi4py-3.1.4-cp310-cp310-linux_x86_64.whl size=3365690 sha256=005f728f076fea6f7e62b01ca91f456f5b88bf27fadff5d965d89db42aeb6506\n",
            "  Stored in directory: /root/.cache/pip/wheels/e8/1b/b5/97ec4cfccdde26e0f3590ad6e09a5242d508dff09704ef86c1\n",
            "  Building wheel for sklearn (setup.py) ... \u001b[?25l\u001b[?25hdone\n",
            "  Created wheel for sklearn: filename=sklearn-0.0.post5-py3-none-any.whl size=2950 sha256=ca78c82e2dbff8f267d4e807620dacda6e45688944fa7910d8101771715da496\n",
            "  Stored in directory: /root/.cache/pip/wheels/38/1f/8d/4f812c590e074c1e928f5cec67bf5053b71f38e2648739403a\n",
            "Successfully built mpi4py sklearn\n",
            "Installing collected packages: sklearn, distlib, platformdirs, mpi4py, virtualenv\n",
            "  Attempting uninstall: platformdirs\n",
            "    Found existing installation: platformdirs 3.3.0\n",
            "    Uninstalling platformdirs-3.3.0:\n",
            "      Successfully uninstalled platformdirs-3.3.0\n",
            "Successfully installed distlib-0.3.6 mpi4py-3.1.4 platformdirs-3.6.0 sklearn-0.0.post5 virtualenv-20.23.1\n",
            "Looking in indexes: https://pypi.org/simple, https://us-python.pkg.dev/colab-wheels/public/simple/\n",
            "Collecting ase\n",
            "  Downloading ase-3.22.1-py3-none-any.whl (2.2 MB)\n",
            "\u001b[2K     \u001b[90m━━━━━━━━━━━━━━━━━━━━━━━━━━━━━━━━━━━━━━━━\u001b[0m \u001b[32m2.2/2.2 MB\u001b[0m \u001b[31m25.8 MB/s\u001b[0m eta \u001b[36m0:00:00\u001b[0m\n",
            "\u001b[?25hRequirement already satisfied: matplotlib>=3.1.0 in /usr/local/lib/python3.10/dist-packages (from ase) (3.7.1)\n",
            "Requirement already satisfied: numpy>=1.15.0 in /usr/local/lib/python3.10/dist-packages (from ase) (1.22.4)\n",
            "Requirement already satisfied: scipy>=1.1.0 in /usr/local/lib/python3.10/dist-packages (from ase) (1.10.1)\n",
            "Requirement already satisfied: contourpy>=1.0.1 in /usr/local/lib/python3.10/dist-packages (from matplotlib>=3.1.0->ase) (1.0.7)\n",
            "Requirement already satisfied: cycler>=0.10 in /usr/local/lib/python3.10/dist-packages (from matplotlib>=3.1.0->ase) (0.11.0)\n",
            "Requirement already satisfied: fonttools>=4.22.0 in /usr/local/lib/python3.10/dist-packages (from matplotlib>=3.1.0->ase) (4.39.3)\n",
            "Requirement already satisfied: kiwisolver>=1.0.1 in /usr/local/lib/python3.10/dist-packages (from matplotlib>=3.1.0->ase) (1.4.4)\n",
            "Requirement already satisfied: packaging>=20.0 in /usr/local/lib/python3.10/dist-packages (from matplotlib>=3.1.0->ase) (23.1)\n",
            "Requirement already satisfied: pillow>=6.2.0 in /usr/local/lib/python3.10/dist-packages (from matplotlib>=3.1.0->ase) (8.4.0)\n",
            "Requirement already satisfied: pyparsing>=2.3.1 in /usr/local/lib/python3.10/dist-packages (from matplotlib>=3.1.0->ase) (3.0.9)\n",
            "Requirement already satisfied: python-dateutil>=2.7 in /usr/local/lib/python3.10/dist-packages (from matplotlib>=3.1.0->ase) (2.8.2)\n",
            "Requirement already satisfied: six>=1.5 in /usr/local/lib/python3.10/dist-packages (from python-dateutil>=2.7->matplotlib>=3.1.0->ase) (1.16.0)\n",
            "Installing collected packages: ase\n",
            "Successfully installed ase-3.22.1\n",
            "Looking in indexes: https://pypi.org/simple, https://us-python.pkg.dev/colab-wheels/public/simple/\n",
            "Collecting fitsnap3\n",
            "  Downloading fitsnap3-3.1.0.4-py3-none-any.whl (221 kB)\n",
            "\u001b[2K     \u001b[90m━━━━━━━━━━━━━━━━━━━━━━━━━━━━━━━━━━━━━━━\u001b[0m \u001b[32m221.5/221.5 kB\u001b[0m \u001b[31m5.8 MB/s\u001b[0m eta \u001b[36m0:00:00\u001b[0m\n",
            "\u001b[?25hRequirement already satisfied: numpy in /usr/local/lib/python3.10/dist-packages (from fitsnap3) (1.22.4)\n",
            "Requirement already satisfied: scipy in /usr/local/lib/python3.10/dist-packages (from fitsnap3) (1.10.1)\n",
            "Requirement already satisfied: scikit-learn in /usr/local/lib/python3.10/dist-packages (from fitsnap3) (1.2.2)\n",
            "Requirement already satisfied: virtualenv in /usr/local/lib/python3.10/dist-packages (from fitsnap3) (20.23.1)\n",
            "Requirement already satisfied: psutil in /usr/local/lib/python3.10/dist-packages (from fitsnap3) (5.9.5)\n",
            "Requirement already satisfied: pandas in /usr/local/lib/python3.10/dist-packages (from fitsnap3) (1.5.3)\n",
            "Requirement already satisfied: tabulate in /usr/local/lib/python3.10/dist-packages (from fitsnap3) (0.8.10)\n",
            "Requirement already satisfied: mpi4py in /usr/local/lib/python3.10/dist-packages (from fitsnap3) (3.1.4)\n",
            "Requirement already satisfied: Cython in /usr/local/lib/python3.10/dist-packages (from fitsnap3) (0.29.34)\n",
            "Requirement already satisfied: torch in /usr/local/lib/python3.10/dist-packages (from fitsnap3) (2.0.1+cu118)\n",
            "Requirement already satisfied: sympy in /usr/local/lib/python3.10/dist-packages (from fitsnap3) (1.11.1)\n",
            "Requirement already satisfied: pyyaml in /usr/local/lib/python3.10/dist-packages (from fitsnap3) (6.0)\n",
            "Requirement already satisfied: python-dateutil>=2.8.1 in /usr/local/lib/python3.10/dist-packages (from pandas->fitsnap3) (2.8.2)\n",
            "Requirement already satisfied: pytz>=2020.1 in /usr/local/lib/python3.10/dist-packages (from pandas->fitsnap3) (2022.7.1)\n",
            "Requirement already satisfied: joblib>=1.1.1 in /usr/local/lib/python3.10/dist-packages (from scikit-learn->fitsnap3) (1.2.0)\n",
            "Requirement already satisfied: threadpoolctl>=2.0.0 in /usr/local/lib/python3.10/dist-packages (from scikit-learn->fitsnap3) (3.1.0)\n",
            "Requirement already satisfied: mpmath>=0.19 in /usr/local/lib/python3.10/dist-packages (from sympy->fitsnap3) (1.3.0)\n",
            "Requirement already satisfied: filelock in /usr/local/lib/python3.10/dist-packages (from torch->fitsnap3) (3.12.0)\n",
            "Requirement already satisfied: typing-extensions in /usr/local/lib/python3.10/dist-packages (from torch->fitsnap3) (4.5.0)\n",
            "Requirement already satisfied: networkx in /usr/local/lib/python3.10/dist-packages (from torch->fitsnap3) (3.1)\n",
            "Requirement already satisfied: jinja2 in /usr/local/lib/python3.10/dist-packages (from torch->fitsnap3) (3.1.2)\n",
            "Requirement already satisfied: triton==2.0.0 in /usr/local/lib/python3.10/dist-packages (from torch->fitsnap3) (2.0.0)\n",
            "Requirement already satisfied: cmake in /usr/local/lib/python3.10/dist-packages (from triton==2.0.0->torch->fitsnap3) (3.25.2)\n",
            "Requirement already satisfied: lit in /usr/local/lib/python3.10/dist-packages (from triton==2.0.0->torch->fitsnap3) (16.0.5)\n",
            "Requirement already satisfied: distlib<1,>=0.3.6 in /usr/local/lib/python3.10/dist-packages (from virtualenv->fitsnap3) (0.3.6)\n",
            "Requirement already satisfied: platformdirs<4,>=3.5.1 in /usr/local/lib/python3.10/dist-packages (from virtualenv->fitsnap3) (3.6.0)\n",
            "Requirement already satisfied: six>=1.5 in /usr/local/lib/python3.10/dist-packages (from python-dateutil>=2.8.1->pandas->fitsnap3) (1.16.0)\n",
            "Requirement already satisfied: MarkupSafe>=2.0 in /usr/local/lib/python3.10/dist-packages (from jinja2->torch->fitsnap3) (2.1.2)\n",
            "Installing collected packages: fitsnap3\n",
            "Successfully installed fitsnap3-3.1.0.4\n",
            "/content\n",
            "Cloning into 'lammps'...\n",
            "remote: Enumerating objects: 363973, done.\u001b[K\n",
            "remote: Counting objects: 100% (905/905), done.\u001b[K\n",
            "remote: Compressing objects: 100% (357/357), done.\u001b[K\n",
            "remote: Total 363973 (delta 549), reused 865 (delta 546), pack-reused 363068\u001b[K\n",
            "Receiving objects: 100% (363973/363973), 682.90 MiB | 21.84 MiB/s, done.\n",
            "Resolving deltas: 100% (305696/305696), done.\n",
            "Updating files: 100% (12722/12722), done.\n",
            "/content/lammps\n",
            "/content/lammps/build\n",
            "-- The CXX compiler identification is GNU 9.4.0\n",
            "-- Detecting CXX compiler ABI info\n",
            "-- Detecting CXX compiler ABI info - done\n",
            "-- Check for working CXX compiler: /usr/bin/c++ - skipped\n",
            "-- Detecting CXX compile features\n",
            "-- Detecting CXX compile features - done\n",
            "-- Found Git: /usr/bin/git (found version \"2.25.1\") \n",
            "-- Appending /usr/local/cuda/lib64/stubs to CMAKE_LIBRARY_PATH: /usr/local/cuda/lib64/stubs\n",
            "-- Running check for auto-generated files from make-based build system\n",
            "-- Found MPI_CXX: /usr/lib/x86_64-linux-gnu/openmpi/lib/libmpi_cxx.so (found version \"3.1\") \n",
            "-- Found MPI: TRUE (found version \"3.1\")  \n",
            "-- Looking for C++ include omp.h\n",
            "-- Looking for C++ include omp.h - found\n",
            "-- Found OpenMP_CXX: -fopenmp (found version \"4.5\") \n",
            "-- Found OpenMP: TRUE (found version \"4.5\") found components: CXX \n",
            "-- Found JPEG: /usr/lib/x86_64-linux-gnu/libjpeg.so (found version \"80\") \n",
            "-- Found PNG: /usr/lib/x86_64-linux-gnu/libpng.so (found version \"1.6.37\") \n",
            "-- Found ZLIB: /usr/lib/x86_64-linux-gnu/libz.so (found version \"1.2.11\") \n",
            "-- Found GZIP: /usr/bin/gzip  \n",
            "-- Found FFMPEG: /usr/bin/ffmpeg  \n",
            "-- Found Python: /usr/local/bin/python (found version \"3.10.12\") found components: Interpreter \n",
            "-- Found Python: /usr/local/bin/python (found version \"3.10.12\") found components: Interpreter Development Development.Module Development.Embed \n",
            "-- Found Cythonize: /usr/local/bin/cythonize  \n",
            "-- Found Python: /usr/include/python3.10 (found version \"3.10.12\") found components: NumPy Interpreter Development.Module \n",
            "-- Downloading https://github.com/ICAMS/lammps-user-pace/archive/refs/tags/v.2023.01.3.fix.tar.gz\n",
            "-- Looking for C++ include cmath\n",
            "-- Looking for C++ include cmath - found\n",
            "-- Generating style headers...\n",
            "-- Generating package headers...\n",
            "-- Generating lmpinstalledpkgs.h...\n",
            "-- Found Python: /usr/local/bin/python (found version \"3.10.12\") found components: Interpreter \n",
            "-- Could NOT find ClangFormat (missing: ClangFormat_EXECUTABLE) (Required is at least version \"8.0\")\n",
            "-- The following tools and libraries have been found and configured:\n",
            " * Git\n",
            " * MPI\n",
            " * OpenMP\n",
            " * JPEG\n",
            " * PNG\n",
            " * ZLIB\n",
            " * Cythonize\n",
            " * Python\n",
            "\n",
            "-- <<< Build configuration >>>\n",
            "   LAMMPS Version:   20230615\n",
            "   Operating System: Linux Ubuntu\" 20.04\n",
            "   CMake Version:    3.25.2\n",
            "   Build type:       RelWithDebInfo\n",
            "   Install path:     /root/.local\n",
            "   Generator:        Unix Makefiles using /usr/bin/make\n",
            "-- Enabled packages: ML-IAP;ML-PACE;ML-SNAP;PYTHON;SPIN\n",
            "-- <<< Compilers and Flags: >>>\n",
            "-- C++ Compiler:     /usr/bin/c++\n",
            "      Type:          GNU\n",
            "      Version:       9.4.0\n",
            "      C++ Flags:     -O2 -g -DNDEBUG\n",
            "      Defines:       LAMMPS_SMALLBIG;LAMMPS_MEMALIGN=64;LAMMPS_EXCEPTIONS;LAMMPS_OMP_COMPAT=4;LAMMPS_JPEG;LAMMPS_PNG;LAMMPS_GZIP;LAMMPS_FFMPEG;LMP_PYTHON;MLIAP_PYTHON\n",
            "-- <<< Linker flags: >>>\n",
            "-- Executable name:  lmp\n",
            "-- Shared library flags:    \n",
            "-- <<< MPI flags >>>\n",
            "-- MPI_defines:      MPICH_SKIP_MPICXX;OMPI_SKIP_MPICXX;_MPICC_H\n",
            "-- MPI includes:     /usr/lib/x86_64-linux-gnu/openmpi/include/openmpi;/usr/lib/x86_64-linux-gnu/openmpi/include\n",
            "-- MPI libraries:    /usr/lib/x86_64-linux-gnu/openmpi/lib/libmpi_cxx.so;/usr/lib/x86_64-linux-gnu/openmpi/lib/libmpi.so;\n",
            "-- Configuring done\n",
            "-- Generating done\n",
            "-- Build files have been written to: /content/lammps/build\n",
            "[  0%] \u001b[34m\u001b[1mGenerating includes/lammps/comm.h\u001b[0m\n",
            "[  0%] \u001b[32mBuilding CXX object build-pace/CMakeFiles/cnpy-static.dir/cnpy/cnpy.cpp.o\u001b[0m\n",
            "[  0%] Built target comm.h\n",
            "[  0%] \u001b[32mBuilding CXX object build-pace/build-yaml-cpp/CMakeFiles/yaml-cpp-pace.dir/src/binary.cpp.o\u001b[0m\n",
            "[  0%] \u001b[32mBuilding CXX object build-pace/build-yaml-cpp/CMakeFiles/yaml-cpp-pace.dir/src/convert.cpp.o\u001b[0m\n",
            "In file included from \u001b[01m\u001b[K/content/lammps/build/lammps-user-pace-v.2023.01.3.fix/yaml-cpp/include/yaml-cpp/node/impl.h:12\u001b[m\u001b[K,\n",
            "                 from \u001b[01m\u001b[K/content/lammps/build/lammps-user-pace-v.2023.01.3.fix/yaml-cpp/include/yaml-cpp/node/convert.h:20\u001b[m\u001b[K,\n",
            "                 from \u001b[01m\u001b[K/content/lammps/build/lammps-user-pace-v.2023.01.3.fix/yaml-cpp/src/convert.cpp:3\u001b[m\u001b[K:\n",
            "\u001b[01m\u001b[K/content/lammps/build/lammps-user-pace-v.2023.01.3.fix/yaml-cpp/include/yaml-cpp/node/detail/node.h:\u001b[m\u001b[K In constructor ‘\u001b[01m\u001b[KYAML_PACE::detail::node::node()\u001b[m\u001b[K’:\n",
            "\u001b[01m\u001b[K/content/lammps/build/lammps-user-pace-v.2023.01.3.fix/yaml-cpp/include/yaml-cpp/node/detail/node.h:27:13:\u001b[m\u001b[K \u001b[01;35m\u001b[Kwarning: \u001b[m\u001b[K‘\u001b[01m\u001b[KYAML_PACE::detail::node::m_index\u001b[m\u001b[K’ should be initialized in the member initialization list [\u001b[01;35m\u001b[K-Weffc++\u001b[m\u001b[K]\n",
            "   27 |             \u001b[01;35m\u001b[Knode\u001b[m\u001b[K() : m_pRef(new node_ref), m_dependencies{} {}\n",
            "      |             \u001b[01;35m\u001b[K^~~~\u001b[m\u001b[K\n",
            "In file included from \u001b[01m\u001b[K/content/lammps/build/lammps-user-pace-v.2023.01.3.fix/yaml-cpp/include/yaml-cpp/node/convert.h:20\u001b[m\u001b[K,\n",
            "                 from \u001b[01m\u001b[K/content/lammps/build/lammps-user-pace-v.2023.01.3.fix/yaml-cpp/src/convert.cpp:3\u001b[m\u001b[K:\n",
            "\u001b[01m\u001b[K/content/lammps/build/lammps-user-pace-v.2023.01.3.fix/yaml-cpp/include/yaml-cpp/node/impl.h:\u001b[m\u001b[K In member function ‘\u001b[01m\u001b[KYAML_PACE::Node& YAML_PACE::Node::operator=(const T&)\u001b[m\u001b[K’:\n",
            "\u001b[01m\u001b[K/content/lammps/build/lammps-user-pace-v.2023.01.3.fix/yaml-cpp/include/yaml-cpp/node/impl.h:206:17:\u001b[m\u001b[K \u001b[01;35m\u001b[Kwarning: \u001b[m\u001b[K‘\u001b[01m\u001b[Koperator=\u001b[m\u001b[K’ should return a reference to ‘\u001b[01m\u001b[K*this\u001b[m\u001b[K’ [\u001b[01;35m\u001b[K-Weffc++\u001b[m\u001b[K]\n",
            "  206 |         return *\u001b[01;35m\u001b[Kthis\u001b[m\u001b[K;\n",
            "      |                 \u001b[01;35m\u001b[K^~~~\u001b[m\u001b[K\n",
            "[  1%] \u001b[32mBuilding CXX object build-pace/build-yaml-cpp/CMakeFiles/yaml-cpp-pace.dir/src/depthguard.cpp.o\u001b[0m\n",
            "[  1%] \u001b[32mBuilding CXX object build-pace/build-yaml-cpp/CMakeFiles/yaml-cpp-pace.dir/src/directives.cpp.o\u001b[0m\n",
            "[  1%] \u001b[32mBuilding CXX object build-pace/build-yaml-cpp/CMakeFiles/yaml-cpp-pace.dir/src/emit.cpp.o\u001b[0m\n",
            "[  1%] \u001b[32mBuilding CXX object build-pace/build-yaml-cpp/CMakeFiles/yaml-cpp-pace.dir/src/emitfromevents.cpp.o\u001b[0m\n",
            "[  1%] \u001b[32mBuilding CXX object build-pace/build-yaml-cpp/CMakeFiles/yaml-cpp-pace.dir/src/emitter.cpp.o\u001b[0m\n",
            "[  2%] \u001b[32mBuilding CXX object build-pace/build-yaml-cpp/CMakeFiles/yaml-cpp-pace.dir/src/emitterstate.cpp.o\u001b[0m\n",
            "[  2%] \u001b[32mBuilding CXX object build-pace/build-yaml-cpp/CMakeFiles/yaml-cpp-pace.dir/src/emitterutils.cpp.o\u001b[0m\n",
            "[  2%] \u001b[32m\u001b[1mLinking CXX static library libcnpy-static.a\u001b[0m\n",
            "[  2%] Built target cnpy-static\n",
            "[  2%] \u001b[34m\u001b[1mGenerating includes/lammps/modify.h\u001b[0m\n",
            "[  2%] Built target modify.h\n",
            "[  2%] \u001b[34m\u001b[1mGenerating includes/lammps/neighbor.h\u001b[0m\n",
            "[  2%] Built target neighbor.h\n",
            "[  2%] \u001b[32mBuilding CXX object build-pace/build-yaml-cpp/CMakeFiles/yaml-cpp-pace.dir/src/exceptions.cpp.o\u001b[0m\n",
            "[  2%] \u001b[32mBuilding CXX object build-pace/build-yaml-cpp/CMakeFiles/yaml-cpp-pace.dir/src/exp.cpp.o\u001b[0m\n",
            "[  2%] \u001b[34m\u001b[1mGenerating includes/lammps/neigh_list.h\u001b[0m\n",
            "[  2%] Built target neigh_list.h\n",
            "[  2%] \u001b[32mBuilding CXX object build-pace/build-yaml-cpp/CMakeFiles/yaml-cpp-pace.dir/src/memory.cpp.o\u001b[0m\n",
            "In file included from \u001b[01m\u001b[K/content/lammps/build/lammps-user-pace-v.2023.01.3.fix/yaml-cpp/src/memory.cpp:2\u001b[m\u001b[K:\n",
            "\u001b[01m\u001b[K/content/lammps/build/lammps-user-pace-v.2023.01.3.fix/yaml-cpp/include/yaml-cpp/node/detail/node.h:\u001b[m\u001b[K In constructor ‘\u001b[01m\u001b[KYAML_PACE::detail::node::node()\u001b[m\u001b[K’:\n",
            "\u001b[01m\u001b[K/content/lammps/build/lammps-user-pace-v.2023.01.3.fix/yaml-cpp/include/yaml-cpp/node/detail/node.h:27:13:\u001b[m\u001b[K \u001b[01;35m\u001b[Kwarning: \u001b[m\u001b[K‘\u001b[01m\u001b[KYAML_PACE::detail::node::m_index\u001b[m\u001b[K’ should be initialized in the member initialization list [\u001b[01;35m\u001b[K-Weffc++\u001b[m\u001b[K]\n",
            "   27 |             \u001b[01;35m\u001b[Knode\u001b[m\u001b[K() : m_pRef(new node_ref), m_dependencies{} {}\n",
            "      |             \u001b[01;35m\u001b[K^~~~\u001b[m\u001b[K\n",
            "[  2%] \u001b[32mBuilding CXX object build-pace/build-yaml-cpp/CMakeFiles/yaml-cpp-pace.dir/src/node.cpp.o\u001b[0m\n",
            "[  3%] \u001b[32mBuilding CXX object build-pace/build-yaml-cpp/CMakeFiles/yaml-cpp-pace.dir/src/node_data.cpp.o\u001b[0m\n",
            "[  3%] \u001b[32mBuilding CXX object build-pace/build-yaml-cpp/CMakeFiles/yaml-cpp-pace.dir/src/nodebuilder.cpp.o\u001b[0m\n",
            "In file included from \u001b[01m\u001b[K/content/lammps/build/lammps-user-pace-v.2023.01.3.fix/yaml-cpp/src/node_data.cpp:7\u001b[m\u001b[K:\n",
            "\u001b[01m\u001b[K/content/lammps/build/lammps-user-pace-v.2023.01.3.fix/yaml-cpp/include/yaml-cpp/node/detail/node.h:\u001b[m\u001b[K In constructor ‘\u001b[01m\u001b[KYAML_PACE::detail::node::node()\u001b[m\u001b[K’:\n",
            "\u001b[01m\u001b[K/content/lammps/build/lammps-user-pace-v.2023.01.3.fix/yaml-cpp/include/yaml-cpp/node/detail/node.h:27:13:\u001b[m\u001b[K \u001b[01;35m\u001b[Kwarning: \u001b[m\u001b[K‘\u001b[01m\u001b[KYAML_PACE::detail::node::m_index\u001b[m\u001b[K’ should be initialized in the member initialization list [\u001b[01;35m\u001b[K-Weffc++\u001b[m\u001b[K]\n",
            "   27 |             \u001b[01;35m\u001b[Knode\u001b[m\u001b[K() : m_pRef(new node_ref), m_dependencies{} {}\n",
            "      |             \u001b[01;35m\u001b[K^~~~\u001b[m\u001b[K\n",
            "In file included from \u001b[01m\u001b[K/content/lammps/build/lammps-user-pace-v.2023.01.3.fix/yaml-cpp/src/nodebuilder.cpp:4\u001b[m\u001b[K:\n",
            "\u001b[01m\u001b[K/content/lammps/build/lammps-user-pace-v.2023.01.3.fix/yaml-cpp/include/yaml-cpp/node/detail/node.h:\u001b[m\u001b[K In constructor ‘\u001b[01m\u001b[KYAML_PACE::detail::node::node()\u001b[m\u001b[K’:\n",
            "\u001b[01m\u001b[K/content/lammps/build/lammps-user-pace-v.2023.01.3.fix/yaml-cpp/include/yaml-cpp/node/detail/node.h:27:13:\u001b[m\u001b[K \u001b[01;35m\u001b[Kwarning: \u001b[m\u001b[K‘\u001b[01m\u001b[KYAML_PACE::detail::node::m_index\u001b[m\u001b[K’ should be initialized in the member initialization list [\u001b[01;35m\u001b[K-Weffc++\u001b[m\u001b[K]\n",
            "   27 |             \u001b[01;35m\u001b[Knode\u001b[m\u001b[K() : m_pRef(new node_ref), m_dependencies{} {}\n",
            "      |             \u001b[01;35m\u001b[K^~~~\u001b[m\u001b[K\n",
            "In file included from \u001b[01m\u001b[K/content/lammps/build/lammps-user-pace-v.2023.01.3.fix/yaml-cpp/src/nodebuilder.cpp:5\u001b[m\u001b[K:\n",
            "\u001b[01m\u001b[K/content/lammps/build/lammps-user-pace-v.2023.01.3.fix/yaml-cpp/include/yaml-cpp/node/impl.h:\u001b[m\u001b[K In member function ‘\u001b[01m\u001b[KYAML_PACE::Node& YAML_PACE::Node::operator=(const T&)\u001b[m\u001b[K’:\n",
            "\u001b[01m\u001b[K/content/lammps/build/lammps-user-pace-v.2023.01.3.fix/yaml-cpp/include/yaml-cpp/node/impl.h:206:17:\u001b[m\u001b[K \u001b[01;35m\u001b[Kwarning: \u001b[m\u001b[K‘\u001b[01m\u001b[Koperator=\u001b[m\u001b[K’ should return a reference to ‘\u001b[01m\u001b[K*this\u001b[m\u001b[K’ [\u001b[01;35m\u001b[K-Weffc++\u001b[m\u001b[K]\n",
            "  206 |         return *\u001b[01;35m\u001b[Kthis\u001b[m\u001b[K;\n",
            "      |                 \u001b[01;35m\u001b[K^~~~\u001b[m\u001b[K\n",
            "[  3%] \u001b[32mBuilding CXX object build-pace/build-yaml-cpp/CMakeFiles/yaml-cpp-pace.dir/src/nodeevents.cpp.o\u001b[0m\n",
            "[  3%] \u001b[32mBuilding CXX object build-pace/build-yaml-cpp/CMakeFiles/yaml-cpp-pace.dir/src/null.cpp.o\u001b[0m\n",
            "[  3%] \u001b[32mBuilding CXX object build-pace/build-yaml-cpp/CMakeFiles/yaml-cpp-pace.dir/src/ostream_wrapper.cpp.o\u001b[0m\n",
            "In file included from \u001b[01m\u001b[K/content/lammps/build/lammps-user-pace-v.2023.01.3.fix/yaml-cpp/src/nodeevents.cpp:4\u001b[m\u001b[K:\n",
            "\u001b[01m\u001b[K/content/lammps/build/lammps-user-pace-v.2023.01.3.fix/yaml-cpp/include/yaml-cpp/node/detail/node.h:\u001b[m\u001b[K In constructor ‘\u001b[01m\u001b[KYAML_PACE::detail::node::node()\u001b[m\u001b[K’:\n",
            "\u001b[01m\u001b[K/content/lammps/build/lammps-user-pace-v.2023.01.3.fix/yaml-cpp/include/yaml-cpp/node/detail/node.h:27:13:\u001b[m\u001b[K \u001b[01;35m\u001b[Kwarning: \u001b[m\u001b[K‘\u001b[01m\u001b[KYAML_PACE::detail::node::m_index\u001b[m\u001b[K’ should be initialized in the member initialization list [\u001b[01;35m\u001b[K-Weffc++\u001b[m\u001b[K]\n",
            "   27 |             \u001b[01;35m\u001b[Knode\u001b[m\u001b[K() : m_pRef(new node_ref), m_dependencies{} {}\n",
            "      |             \u001b[01;35m\u001b[K^~~~\u001b[m\u001b[K\n",
            "[  4%] \u001b[32mBuilding CXX object build-pace/build-yaml-cpp/CMakeFiles/yaml-cpp-pace.dir/src/parse.cpp.o\u001b[0m\n",
            "[  4%] \u001b[32mBuilding CXX object build-pace/build-yaml-cpp/CMakeFiles/yaml-cpp-pace.dir/src/parser.cpp.o\u001b[0m\n",
            "In file included from \u001b[01m\u001b[K/content/lammps/build/lammps-user-pace-v.2023.01.3.fix/yaml-cpp/include/yaml-cpp/node/impl.h:12\u001b[m\u001b[K,\n",
            "                 from \u001b[01m\u001b[K/content/lammps/build/lammps-user-pace-v.2023.01.3.fix/yaml-cpp/src/parse.cpp:7\u001b[m\u001b[K:\n",
            "\u001b[01m\u001b[K/content/lammps/build/lammps-user-pace-v.2023.01.3.fix/yaml-cpp/include/yaml-cpp/node/detail/node.h:\u001b[m\u001b[K In constructor ‘\u001b[01m\u001b[KYAML_PACE::detail::node::node()\u001b[m\u001b[K’:\n",
            "\u001b[01m\u001b[K/content/lammps/build/lammps-user-pace-v.2023.01.3.fix/yaml-cpp/include/yaml-cpp/node/detail/node.h:27:13:\u001b[m\u001b[K \u001b[01;35m\u001b[Kwarning: \u001b[m\u001b[K‘\u001b[01m\u001b[KYAML_PACE::detail::node::m_index\u001b[m\u001b[K’ should be initialized in the member initialization list [\u001b[01;35m\u001b[K-Weffc++\u001b[m\u001b[K]\n",
            "   27 |             \u001b[01;35m\u001b[Knode\u001b[m\u001b[K() : m_pRef(new node_ref), m_dependencies{} {}\n",
            "      |             \u001b[01;35m\u001b[K^~~~\u001b[m\u001b[K\n",
            "In file included from \u001b[01m\u001b[K/content/lammps/build/lammps-user-pace-v.2023.01.3.fix/yaml-cpp/src/parse.cpp:7\u001b[m\u001b[K:\n",
            "\u001b[01m\u001b[K/content/lammps/build/lammps-user-pace-v.2023.01.3.fix/yaml-cpp/include/yaml-cpp/node/impl.h:\u001b[m\u001b[K In member function ‘\u001b[01m\u001b[KYAML_PACE::Node& YAML_PACE::Node::operator=(const T&)\u001b[m\u001b[K’:\n",
            "\u001b[01m\u001b[K/content/lammps/build/lammps-user-pace-v.2023.01.3.fix/yaml-cpp/include/yaml-cpp/node/impl.h:206:17:\u001b[m\u001b[K \u001b[01;35m\u001b[Kwarning: \u001b[m\u001b[K‘\u001b[01m\u001b[Koperator=\u001b[m\u001b[K’ should return a reference to ‘\u001b[01m\u001b[K*this\u001b[m\u001b[K’ [\u001b[01;35m\u001b[K-Weffc++\u001b[m\u001b[K]\n",
            "  206 |         return *\u001b[01;35m\u001b[Kthis\u001b[m\u001b[K;\n",
            "      |                 \u001b[01;35m\u001b[K^~~~\u001b[m\u001b[K\n",
            "[  4%] \u001b[32mBuilding CXX object build-pace/build-yaml-cpp/CMakeFiles/yaml-cpp-pace.dir/src/regex_yaml.cpp.o\u001b[0m\n",
            "[  4%] \u001b[32mBuilding CXX object build-pace/build-yaml-cpp/CMakeFiles/yaml-cpp-pace.dir/src/scanner.cpp.o\u001b[0m\n",
            "[  4%] \u001b[32mBuilding CXX object build-pace/build-yaml-cpp/CMakeFiles/yaml-cpp-pace.dir/src/scanscalar.cpp.o\u001b[0m\n",
            "[  4%] \u001b[32mBuilding CXX object build-pace/build-yaml-cpp/CMakeFiles/yaml-cpp-pace.dir/src/scantag.cpp.o\u001b[0m\n",
            "[  5%] \u001b[32mBuilding CXX object build-pace/build-yaml-cpp/CMakeFiles/yaml-cpp-pace.dir/src/scantoken.cpp.o\u001b[0m\n",
            "[  5%] \u001b[32mBuilding CXX object build-pace/build-yaml-cpp/CMakeFiles/yaml-cpp-pace.dir/src/simplekey.cpp.o\u001b[0m\n",
            "[  5%] \u001b[32mBuilding CXX object build-pace/build-yaml-cpp/CMakeFiles/yaml-cpp-pace.dir/src/singledocparser.cpp.o\u001b[0m\n",
            "[  5%] \u001b[32mBuilding CXX object build-pace/build-yaml-cpp/CMakeFiles/yaml-cpp-pace.dir/src/stream.cpp.o\u001b[0m\n",
            "[  5%] \u001b[32mBuilding CXX object build-pace/build-yaml-cpp/CMakeFiles/yaml-cpp-pace.dir/src/tag.cpp.o\u001b[0m\n",
            "[  6%] \u001b[34m\u001b[1mGenerating includes/lammps/output.h\u001b[0m\n",
            "[  6%] Built target output.h\n",
            "[  6%] \u001b[34m\u001b[1mGenerating includes/lammps/error.h\u001b[0m\n",
            "[  6%] Built target error.h\n",
            "[  6%] \u001b[34m\u001b[1mGenerating includes/lammps/exceptions.h\u001b[0m\n",
            "[  6%] Built target exceptions.h\n",
            "[  6%] \u001b[34m\u001b[1mGenerating includes/lammps/fix.h\u001b[0m\n",
            "[  6%] Built target fix.h\n",
            "[  6%] \u001b[34m\u001b[1mGenerating includes/lammps/timer.h\u001b[0m\n",
            "[  6%] Built target timer.h\n",
            "[  7%] \u001b[34m\u001b[1mGenerating includes/lammps/universe.h\u001b[0m\n",
            "[  7%] Built target universe.h\n",
            "[  7%] \u001b[34m\u001b[1mGenerating includes/lammps/update.h\u001b[0m\n",
            "[  7%] Built target update.h\n",
            "[  7%] \u001b[34m\u001b[1mGenerating includes/lammps/utils.h\u001b[0m\n",
            "[  7%] Built target utils.h\n",
            "-- Git Directory: /content/lammps/.git\n",
            "[  8%] \u001b[32m\u001b[1mLinking CXX static library libyaml-cpp-pace.a\u001b[0m\n",
            "[  8%] Built target yaml-cpp-pace\n",
            "[  8%] \u001b[34m\u001b[1mGenerating includes/lammps/angle.h\u001b[0m\n",
            "[  8%] Built target angle.h\n",
            "[  9%] \u001b[34m\u001b[1mGenerating includes/lammps/pair.h\u001b[0m\n",
            "[  9%] Built target pair.h\n",
            "[  9%] \u001b[34m\u001b[1mGenerating includes/lammps/platform.h\u001b[0m\n",
            "[  9%] Built target platform.h\n",
            "[  9%] \u001b[34m\u001b[1mGenerating includes/lammps/pointers.h\u001b[0m\n",
            "[  9%] Built target pointers.h\n",
            "[  9%] \u001b[34m\u001b[1mGenerating includes/lammps/region.h\u001b[0m\n",
            "[  9%] Built target region.h\n",
            "[ 10%] \u001b[34m\u001b[1mGenerating includes/lammps/force.h\u001b[0m\n",
            "[ 10%] Built target force.h\n",
            "[ 10%] \u001b[34m\u001b[1mGenerating includes/lammps/group.h\u001b[0m\n",
            "[ 10%] Built target group.h\n",
            "[ 10%] \u001b[34m\u001b[1mGenerating includes/lammps/improper.h\u001b[0m\n",
            "[ 10%] Built target improper.h\n",
            "-- Generating lmpgitversion.h...\n",
            "[ 10%] \u001b[34m\u001b[1mGenerating includes/lammps/input.h\u001b[0m\n",
            "[ 10%] Built target gitversion\n",
            "[ 10%] Built target input.h\n",
            "[ 10%] \u001b[34m\u001b[1mGenerating includes/lammps/info.h\u001b[0m\n",
            "[ 10%] \u001b[34m\u001b[1mGenerating includes/lammps/kspace.h\u001b[0m\n",
            "[ 10%] Built target info.h\n",
            "[ 10%] Built target kspace.h\n",
            "[ 11%] \u001b[34m\u001b[1mGenerating includes/lammps/lammps.h\u001b[0m\n",
            "[ 11%] \u001b[34m\u001b[1mGenerating includes/lammps/lattice.h\u001b[0m\n",
            "[ 11%] Built target lammps.h\n",
            "[ 11%] Built target lattice.h\n",
            "[ 11%] \u001b[34m\u001b[1mGenerating includes/lammps/library.h\u001b[0m\n",
            "[ 12%] \u001b[34m\u001b[1mGenerating includes/lammps/lmppython.h\u001b[0m\n",
            "[ 12%] Built target library.h\n",
            "[ 12%] Built target lmppython.h\n",
            "[ 12%] \u001b[34m\u001b[1mGenerating includes/lammps/lmptype.h\u001b[0m\n",
            "[ 12%] \u001b[34m\u001b[1mGenerating includes/lammps/memory.h\u001b[0m\n",
            "[ 12%] Built target lmptype.h\n",
            "[ 12%] Built target memory.h\n",
            "[ 12%] \u001b[34m\u001b[1mGenerating includes/lammps/variable.h\u001b[0m\n",
            "[ 12%] \u001b[34m\u001b[1mGenerating includes/lammps/fmt/core.h\u001b[0m\n",
            "[ 12%] Built target variable.h\n",
            "[ 12%] Built target fmt_core.h\n",
            "[ 12%] \u001b[34m\u001b[1mGenerating includes/lammps/fmt/format.h\u001b[0m\n",
            "[ 12%] \u001b[34m\u001b[1mGenerating includes/lammps/command.h\u001b[0m\n",
            "[ 12%] Built target fmt_format.h\n",
            "[ 12%] Built target command.h\n",
            "[ 13%] \u001b[34m\u001b[1mGenerating includes/lammps/compute.h\u001b[0m\n",
            "[ 13%] \u001b[34m\u001b[1mGenerating includes/lammps/dihedral.h\u001b[0m\n",
            "[ 13%] Built target compute.h\n",
            "[ 13%] Built target dihedral.h\n",
            "[ 13%] \u001b[34m\u001b[1mGenerating includes/lammps/domain.h\u001b[0m\n",
            "[ 13%] \u001b[34m\u001b[1mGenerating includes/lammps/atom.h\u001b[0m\n",
            "[ 13%] Built target domain.h\n",
            "[ 13%] Built target atom.h\n",
            "[ 13%] \u001b[34m\u001b[1mGenerating includes/lammps/bond.h\u001b[0m\n",
            "[ 13%] \u001b[34m\u001b[1mGenerating includes/lammps/citeme.h\u001b[0m\n",
            "[ 13%] Built target bond.h\n",
            "[ 13%] Built target citeme.h\n",
            "[ 13%] \u001b[32mBuilding CXX object build-pace/CMakeFiles/pace.dir/ML-PACE/ace-evaluator/ace_abstract_basis.cpp.o\u001b[0m\n",
            "[ 13%] \u001b[32mBuilding CXX object build-pace/CMakeFiles/pace.dir/ML-PACE/ace-evaluator/ace_c_basis.cpp.o\u001b[0m\n",
            "[ 13%] \u001b[32mBuilding CXX object build-pace/CMakeFiles/pace.dir/ML-PACE/ace-evaluator/ace_evaluator.cpp.o\u001b[0m\n",
            "[ 13%] \u001b[32mBuilding CXX object build-pace/CMakeFiles/pace.dir/ML-PACE/ace-evaluator/ace_flatten_basis.cpp.o\u001b[0m\n",
            "[ 14%] \u001b[32mBuilding CXX object build-pace/CMakeFiles/pace.dir/ML-PACE/ace-evaluator/ace_radial.cpp.o\u001b[0m\n",
            "[ 14%] \u001b[32mBuilding CXX object build-pace/CMakeFiles/pace.dir/ML-PACE/ace-evaluator/ace_recursive.cpp.o\u001b[0m\n",
            "[ 14%] \u001b[32mBuilding CXX object build-pace/CMakeFiles/pace.dir/ML-PACE/ace-evaluator/ace_spherical_cart.cpp.o\u001b[0m\n",
            "[ 14%] \u001b[32mBuilding CXX object build-pace/CMakeFiles/pace.dir/ML-PACE/ace-evaluator/ships_radial.cpp.o\u001b[0m\n",
            "[ 14%] \u001b[32mBuilding CXX object build-pace/CMakeFiles/pace.dir/ML-PACE/ace/ace_b_basis.cpp.o\u001b[0m\n",
            "[ 14%] \u001b[32mBuilding CXX object build-pace/CMakeFiles/pace.dir/ML-PACE/ace/ace_b_basisfunction.cpp.o\u001b[0m\n",
            "[ 15%] \u001b[32mBuilding CXX object build-pace/CMakeFiles/pace.dir/ML-PACE/ace/ace_b_evaluator.cpp.o\u001b[0m\n",
            "[ 15%] \u001b[32mBuilding CXX object build-pace/CMakeFiles/pace.dir/ML-PACE/ace/ace_clebsch_gordan.cpp.o\u001b[0m\n",
            "[ 15%] \u001b[32mBuilding CXX object build-pace/CMakeFiles/pace.dir/ML-PACE/ace/ace_couplings.cpp.o\u001b[0m\n",
            "[ 15%] \u001b[32mBuilding CXX object build-pace/CMakeFiles/pace.dir/ML-PACE/ace/ace_spherical_polar.cpp.o\u001b[0m\n",
            "[ 15%] \u001b[32mBuilding CXX object build-pace/CMakeFiles/pace.dir/ML-PACE/ace/ace_yaml_input.cpp.o\u001b[0m\n",
            "[ 15%] \u001b[32m\u001b[1mLinking CXX static library liblammps_pace.a\u001b[0m\n",
            "[ 15%] Built target pace\n",
            "[ 15%] \u001b[34m\u001b[1mGenerating C++ sources with cythonize...\u001b[0m\n",
            "[ 15%] \u001b[34m\u001b[1mGenerating C++ sources with cythonize...\u001b[0m\n",
            "Compiling /content/lammps/build/cython/mliap_model_python_couple.pyx because it changed.\n",
            "[1/1] Cythonizing /content/lammps/build/cython/mliap_model_python_couple.pyx\n",
            "Compiling /content/lammps/build/cython/mliap_unified_couple.pyx because it changed.\n",
            "[1/1] Cythonizing /content/lammps/build/cython/mliap_unified_couple.pyx\n",
            "[ 15%] \u001b[32mBuilding CXX object CMakeFiles/lammps.dir/content/lammps/src/angle.cpp.o\u001b[0m\n",
            "[ 15%] \u001b[32mBuilding CXX object CMakeFiles/lammps.dir/content/lammps/src/angle_deprecated.cpp.o\u001b[0m\n",
            "[ 16%] \u001b[32mBuilding CXX object CMakeFiles/lammps.dir/content/lammps/src/angle_hybrid.cpp.o\u001b[0m\n",
            "[ 16%] \u001b[32mBuilding CXX object CMakeFiles/lammps.dir/content/lammps/src/angle_write.cpp.o\u001b[0m\n",
            "\u001b[01m\u001b[K/content/lammps/src/angle_write.cpp:\u001b[m\u001b[K In member function ‘\u001b[01m\u001b[Kvirtual void LAMMPS_NS::AngleWrite::command(int, char**)\u001b[m\u001b[K’:\n",
            "\u001b[01m\u001b[K/content/lammps/src/angle_write.cpp:155:12:\u001b[m\u001b[K \u001b[01;35m\u001b[Kwarning: \u001b[m\u001b[Kignoring return value of ‘\u001b[01m\u001b[Kchar* fgets(char*, int, FILE*)\u001b[m\u001b[K’, declared with attribute warn_unused_result [\u001b[01;35m\u001b[K-Wunused-result\u001b[m\u001b[K]\n",
            "  155 |       \u001b[01;35m\u001b[Kfgets(line, MAXLINE, coeffs)\u001b[m\u001b[K;\n",
            "      |       \u001b[01;35m\u001b[K~~~~~^~~~~~~~~~~~~~~~~~~~~~~\u001b[m\u001b[K\n",
            "[ 16%] \u001b[32mBuilding CXX object CMakeFiles/lammps.dir/content/lammps/src/angle_zero.cpp.o\u001b[0m\n",
            "[ 16%] \u001b[32mBuilding CXX object CMakeFiles/lammps.dir/content/lammps/src/arg_info.cpp.o\u001b[0m\n",
            "[ 16%] \u001b[32mBuilding CXX object CMakeFiles/lammps.dir/content/lammps/src/atom.cpp.o\u001b[0m\n",
            "[ 17%] \u001b[32mBuilding CXX object CMakeFiles/lammps.dir/content/lammps/src/atom_map.cpp.o\u001b[0m\n",
            "[ 17%] \u001b[32mBuilding CXX object CMakeFiles/lammps.dir/content/lammps/src/atom_vec.cpp.o\u001b[0m\n",
            "[ 17%] \u001b[32mBuilding CXX object CMakeFiles/lammps.dir/content/lammps/src/atom_vec_atomic.cpp.o\u001b[0m\n",
            "[ 17%] \u001b[32mBuilding CXX object CMakeFiles/lammps.dir/content/lammps/src/atom_vec_body.cpp.o\u001b[0m\n",
            "[ 17%] \u001b[32mBuilding CXX object CMakeFiles/lammps.dir/content/lammps/src/atom_vec_charge.cpp.o\u001b[0m\n",
            "[ 17%] \u001b[32mBuilding CXX object CMakeFiles/lammps.dir/content/lammps/src/atom_vec_ellipsoid.cpp.o\u001b[0m\n",
            "[ 18%] \u001b[32mBuilding CXX object CMakeFiles/lammps.dir/content/lammps/src/atom_vec_hybrid.cpp.o\u001b[0m\n",
            "[ 18%] \u001b[32mBuilding CXX object CMakeFiles/lammps.dir/content/lammps/src/atom_vec_line.cpp.o\u001b[0m\n",
            "[ 18%] \u001b[32mBuilding CXX object CMakeFiles/lammps.dir/content/lammps/src/atom_vec_sphere.cpp.o\u001b[0m\n",
            "[ 18%] \u001b[32mBuilding CXX object CMakeFiles/lammps.dir/content/lammps/src/atom_vec_tri.cpp.o\u001b[0m\n",
            "[ 18%] \u001b[32mBuilding CXX object CMakeFiles/lammps.dir/content/lammps/src/balance.cpp.o\u001b[0m\n",
            "[ 18%] \u001b[32mBuilding CXX object CMakeFiles/lammps.dir/content/lammps/src/body.cpp.o\u001b[0m\n",
            "[ 19%] \u001b[32mBuilding CXX object CMakeFiles/lammps.dir/content/lammps/src/bond.cpp.o\u001b[0m\n",
            "[ 19%] \u001b[32mBuilding CXX object CMakeFiles/lammps.dir/content/lammps/src/bond_deprecated.cpp.o\u001b[0m\n",
            "[ 19%] \u001b[32mBuilding CXX object CMakeFiles/lammps.dir/content/lammps/src/bond_hybrid.cpp.o\u001b[0m\n",
            "[ 19%] \u001b[32mBuilding CXX object CMakeFiles/lammps.dir/content/lammps/src/bond_zero.cpp.o\u001b[0m\n",
            "[ 19%] \u001b[32mBuilding CXX object CMakeFiles/lammps.dir/content/lammps/src/change_box.cpp.o\u001b[0m\n",
            "[ 20%] \u001b[32mBuilding CXX object CMakeFiles/lammps.dir/content/lammps/src/citeme.cpp.o\u001b[0m\n",
            "[ 20%] \u001b[32mBuilding CXX object CMakeFiles/lammps.dir/content/lammps/src/comm.cpp.o\u001b[0m\n",
            "[ 20%] \u001b[32mBuilding CXX object CMakeFiles/lammps.dir/content/lammps/src/comm_brick.cpp.o\u001b[0m\n",
            "[ 20%] \u001b[32mBuilding CXX object CMakeFiles/lammps.dir/content/lammps/src/comm_tiled.cpp.o\u001b[0m\n",
            "[ 20%] \u001b[32mBuilding CXX object CMakeFiles/lammps.dir/content/lammps/src/compute.cpp.o\u001b[0m\n",
            "[ 20%] \u001b[32mBuilding CXX object CMakeFiles/lammps.dir/content/lammps/src/compute_aggregate_atom.cpp.o\u001b[0m\n",
            "[ 21%] \u001b[32mBuilding CXX object CMakeFiles/lammps.dir/content/lammps/src/compute_angle.cpp.o\u001b[0m\n",
            "[ 21%] \u001b[32mBuilding CXX object CMakeFiles/lammps.dir/content/lammps/src/compute_angle_local.cpp.o\u001b[0m\n",
            "[ 21%] \u001b[32mBuilding CXX object CMakeFiles/lammps.dir/content/lammps/src/compute_angmom_chunk.cpp.o\u001b[0m\n",
            "[ 21%] \u001b[32mBuilding CXX object CMakeFiles/lammps.dir/content/lammps/src/compute_bond.cpp.o\u001b[0m\n",
            "[ 21%] \u001b[32mBuilding CXX object CMakeFiles/lammps.dir/content/lammps/src/compute_bond_local.cpp.o\u001b[0m\n",
            "[ 22%] \u001b[32mBuilding CXX object CMakeFiles/lammps.dir/content/lammps/src/compute_centro_atom.cpp.o\u001b[0m\n",
            "[ 22%] \u001b[32mBuilding CXX object CMakeFiles/lammps.dir/content/lammps/src/compute_centroid_stress_atom.cpp.o\u001b[0m\n",
            "[ 22%] \u001b[32mBuilding CXX object CMakeFiles/lammps.dir/content/lammps/src/compute_chunk.cpp.o\u001b[0m\n",
            "[ 22%] \u001b[32mBuilding CXX object CMakeFiles/lammps.dir/content/lammps/src/compute_chunk_atom.cpp.o\u001b[0m\n",
            "[ 22%] \u001b[32mBuilding CXX object CMakeFiles/lammps.dir/content/lammps/src/compute_chunk_spread_atom.cpp.o\u001b[0m\n",
            "[ 22%] \u001b[32mBuilding CXX object CMakeFiles/lammps.dir/content/lammps/src/compute_cluster_atom.cpp.o\u001b[0m\n",
            "[ 23%] \u001b[32mBuilding CXX object CMakeFiles/lammps.dir/content/lammps/src/compute_cna_atom.cpp.o\u001b[0m\n",
            "[ 23%] \u001b[32mBuilding CXX object CMakeFiles/lammps.dir/content/lammps/src/compute_com.cpp.o\u001b[0m\n",
            "[ 23%] \u001b[32mBuilding CXX object CMakeFiles/lammps.dir/content/lammps/src/compute_com_chunk.cpp.o\u001b[0m\n",
            "[ 23%] \u001b[32mBuilding CXX object CMakeFiles/lammps.dir/content/lammps/src/compute_coord_atom.cpp.o\u001b[0m\n",
            "[ 23%] \u001b[32mBuilding CXX object CMakeFiles/lammps.dir/content/lammps/src/compute_count_type.cpp.o\u001b[0m\n",
            "[ 24%] \u001b[32mBuilding CXX object CMakeFiles/lammps.dir/content/lammps/src/compute_deprecated.cpp.o\u001b[0m\n",
            "[ 24%] \u001b[32mBuilding CXX object CMakeFiles/lammps.dir/content/lammps/src/compute_dihedral.cpp.o\u001b[0m\n",
            "[ 24%] \u001b[32mBuilding CXX object CMakeFiles/lammps.dir/content/lammps/src/compute_dihedral_local.cpp.o\u001b[0m\n",
            "[ 24%] \u001b[32mBuilding CXX object CMakeFiles/lammps.dir/content/lammps/src/compute_dipole.cpp.o\u001b[0m\n",
            "[ 24%] \u001b[32mBuilding CXX object CMakeFiles/lammps.dir/content/lammps/src/compute_dipole_chunk.cpp.o\u001b[0m\n",
            "[ 24%] \u001b[32mBuilding CXX object CMakeFiles/lammps.dir/content/lammps/src/compute_displace_atom.cpp.o\u001b[0m\n",
            "[ 25%] \u001b[32mBuilding CXX object CMakeFiles/lammps.dir/content/lammps/src/compute_erotate_sphere.cpp.o\u001b[0m\n",
            "[ 25%] \u001b[32mBuilding CXX object CMakeFiles/lammps.dir/content/lammps/src/compute_erotate_sphere_atom.cpp.o\u001b[0m\n",
            "[ 25%] \u001b[32mBuilding CXX object CMakeFiles/lammps.dir/content/lammps/src/compute_fragment_atom.cpp.o\u001b[0m\n",
            "[ 25%] \u001b[32mBuilding CXX object CMakeFiles/lammps.dir/content/lammps/src/compute_global_atom.cpp.o\u001b[0m\n",
            "[ 25%] \u001b[32mBuilding CXX object CMakeFiles/lammps.dir/content/lammps/src/compute_group_group.cpp.o\u001b[0m\n",
            "[ 26%] \u001b[32mBuilding CXX object CMakeFiles/lammps.dir/content/lammps/src/compute_gyration.cpp.o\u001b[0m\n",
            "[ 26%] \u001b[32mBuilding CXX object CMakeFiles/lammps.dir/content/lammps/src/compute_gyration_chunk.cpp.o\u001b[0m\n",
            "[ 26%] \u001b[32mBuilding CXX object CMakeFiles/lammps.dir/content/lammps/src/compute_heat_flux.cpp.o\u001b[0m\n",
            "[ 26%] \u001b[32mBuilding CXX object CMakeFiles/lammps.dir/content/lammps/src/compute_improper.cpp.o\u001b[0m\n",
            "[ 26%] \u001b[32mBuilding CXX object CMakeFiles/lammps.dir/content/lammps/src/compute_improper_local.cpp.o\u001b[0m\n",
            "[ 26%] \u001b[32mBuilding CXX object CMakeFiles/lammps.dir/content/lammps/src/compute_inertia_chunk.cpp.o\u001b[0m\n",
            "[ 27%] \u001b[32mBuilding CXX object CMakeFiles/lammps.dir/content/lammps/src/compute_ke.cpp.o\u001b[0m\n",
            "[ 27%] \u001b[32mBuilding CXX object CMakeFiles/lammps.dir/content/lammps/src/compute_ke_atom.cpp.o\u001b[0m\n",
            "[ 27%] \u001b[32mBuilding CXX object CMakeFiles/lammps.dir/content/lammps/src/compute_msd.cpp.o\u001b[0m\n",
            "[ 27%] \u001b[32mBuilding CXX object CMakeFiles/lammps.dir/content/lammps/src/compute_msd_chunk.cpp.o\u001b[0m\n",
            "[ 27%] \u001b[32mBuilding CXX object CMakeFiles/lammps.dir/content/lammps/src/compute_omega_chunk.cpp.o\u001b[0m\n",
            "[ 27%] \u001b[32mBuilding CXX object CMakeFiles/lammps.dir/content/lammps/src/compute_orientorder_atom.cpp.o\u001b[0m\n",
            "[ 28%] \u001b[32mBuilding CXX object CMakeFiles/lammps.dir/content/lammps/src/compute_pair.cpp.o\u001b[0m\n",
            "[ 28%] \u001b[32mBuilding CXX object CMakeFiles/lammps.dir/content/lammps/src/compute_pair_local.cpp.o\u001b[0m\n",
            "[ 28%] \u001b[32mBuilding CXX object CMakeFiles/lammps.dir/content/lammps/src/compute_pe.cpp.o\u001b[0m\n",
            "[ 28%] \u001b[32mBuilding CXX object CMakeFiles/lammps.dir/content/lammps/src/compute_pe_atom.cpp.o\u001b[0m\n",
            "[ 28%] \u001b[32mBuilding CXX object CMakeFiles/lammps.dir/content/lammps/src/compute_pressure.cpp.o\u001b[0m\n",
            "[ 29%] \u001b[32mBuilding CXX object CMakeFiles/lammps.dir/content/lammps/src/compute_property_atom.cpp.o\u001b[0m\n",
            "[ 29%] \u001b[32mBuilding CXX object CMakeFiles/lammps.dir/content/lammps/src/compute_property_chunk.cpp.o\u001b[0m\n",
            "[ 29%] \u001b[32mBuilding CXX object CMakeFiles/lammps.dir/content/lammps/src/compute_property_grid.cpp.o\u001b[0m\n",
            "[ 29%] \u001b[32mBuilding CXX object CMakeFiles/lammps.dir/content/lammps/src/compute_property_local.cpp.o\u001b[0m\n",
            "[ 29%] \u001b[32mBuilding CXX object CMakeFiles/lammps.dir/content/lammps/src/compute_rdf.cpp.o\u001b[0m\n",
            "[ 29%] \u001b[32mBuilding CXX object CMakeFiles/lammps.dir/content/lammps/src/compute_reduce.cpp.o\u001b[0m\n",
            "[ 30%] \u001b[32mBuilding CXX object CMakeFiles/lammps.dir/content/lammps/src/compute_reduce_chunk.cpp.o\u001b[0m\n",
            "[ 30%] \u001b[32mBuilding CXX object CMakeFiles/lammps.dir/content/lammps/src/compute_reduce_region.cpp.o\u001b[0m\n",
            "[ 30%] \u001b[32mBuilding CXX object CMakeFiles/lammps.dir/content/lammps/src/compute_slice.cpp.o\u001b[0m\n",
            "[ 30%] \u001b[32mBuilding CXX object CMakeFiles/lammps.dir/content/lammps/src/compute_stress_atom.cpp.o\u001b[0m\n",
            "[ 30%] \u001b[32mBuilding CXX object CMakeFiles/lammps.dir/content/lammps/src/compute_temp.cpp.o\u001b[0m\n",
            "[ 31%] \u001b[32mBuilding CXX object CMakeFiles/lammps.dir/content/lammps/src/compute_temp_chunk.cpp.o\u001b[0m\n",
            "[ 31%] \u001b[32mBuilding CXX object CMakeFiles/lammps.dir/content/lammps/src/compute_temp_com.cpp.o\u001b[0m\n",
            "[ 31%] \u001b[32mBuilding CXX object CMakeFiles/lammps.dir/content/lammps/src/compute_temp_deform.cpp.o\u001b[0m\n",
            "[ 31%] \u001b[32mBuilding CXX object CMakeFiles/lammps.dir/content/lammps/src/compute_temp_partial.cpp.o\u001b[0m\n",
            "[ 31%] \u001b[32mBuilding CXX object CMakeFiles/lammps.dir/content/lammps/src/compute_temp_profile.cpp.o\u001b[0m\n",
            "[ 31%] \u001b[32mBuilding CXX object CMakeFiles/lammps.dir/content/lammps/src/compute_temp_ramp.cpp.o\u001b[0m\n",
            "[ 32%] \u001b[32mBuilding CXX object CMakeFiles/lammps.dir/content/lammps/src/compute_temp_region.cpp.o\u001b[0m\n",
            "[ 32%] \u001b[32mBuilding CXX object CMakeFiles/lammps.dir/content/lammps/src/compute_temp_sphere.cpp.o\u001b[0m\n",
            "[ 32%] \u001b[32mBuilding CXX object CMakeFiles/lammps.dir/content/lammps/src/compute_torque_chunk.cpp.o\u001b[0m\n",
            "[ 32%] \u001b[32mBuilding CXX object CMakeFiles/lammps.dir/content/lammps/src/compute_vacf.cpp.o\u001b[0m\n",
            "[ 32%] \u001b[32mBuilding CXX object CMakeFiles/lammps.dir/content/lammps/src/compute_vcm_chunk.cpp.o\u001b[0m\n",
            "[ 34%] \u001b[32mBuilding CXX object CMakeFiles/lammps.dir/content/lammps/src/create_atoms.cpp.o\u001b[0m\n",
            "[ 34%] \u001b[32mBuilding CXX object CMakeFiles/lammps.dir/content/lammps/src/create_bonds.cpp.o\u001b[0m\n",
            "[ 34%] \u001b[32mBuilding CXX object CMakeFiles/lammps.dir/content/lammps/src/create_box.cpp.o\u001b[0m\n",
            "[ 34%] \u001b[32mBuilding CXX object CMakeFiles/lammps.dir/content/lammps/src/delete_atoms.cpp.o\u001b[0m\n",
            "[ 34%] \u001b[32mBuilding CXX object CMakeFiles/lammps.dir/content/lammps/src/delete_bonds.cpp.o\u001b[0m\n",
            "[ 34%] \u001b[32mBuilding CXX object CMakeFiles/lammps.dir/content/lammps/src/deprecated.cpp.o\u001b[0m\n",
            "[ 35%] \u001b[32mBuilding CXX object CMakeFiles/lammps.dir/content/lammps/src/dihedral.cpp.o\u001b[0m\n",
            "[ 35%] \u001b[32mBuilding CXX object CMakeFiles/lammps.dir/content/lammps/src/dihedral_deprecated.cpp.o\u001b[0m\n",
            "[ 35%] \u001b[32mBuilding CXX object CMakeFiles/lammps.dir/content/lammps/src/dihedral_hybrid.cpp.o\u001b[0m\n",
            "[ 35%] \u001b[32mBuilding CXX object CMakeFiles/lammps.dir/content/lammps/src/dihedral_write.cpp.o\u001b[0m\n",
            "\u001b[01m\u001b[K/content/lammps/src/dihedral_write.cpp:\u001b[m\u001b[K In member function ‘\u001b[01m\u001b[Kvirtual void LAMMPS_NS::DihedralWrite::command(int, char**)\u001b[m\u001b[K’:\n",
            "\u001b[01m\u001b[K/content/lammps/src/dihedral_write.cpp:158:12:\u001b[m\u001b[K \u001b[01;35m\u001b[Kwarning: \u001b[m\u001b[Kignoring return value of ‘\u001b[01m\u001b[Kchar* fgets(char*, int, FILE*)\u001b[m\u001b[K’, declared with attribute warn_unused_result [\u001b[01;35m\u001b[K-Wunused-result\u001b[m\u001b[K]\n",
            "  158 |       \u001b[01;35m\u001b[Kfgets(line, MAXLINE, coeffs)\u001b[m\u001b[K;\n",
            "      |       \u001b[01;35m\u001b[K~~~~~^~~~~~~~~~~~~~~~~~~~~~~\u001b[m\u001b[K\n",
            "[ 35%] \u001b[32mBuilding CXX object CMakeFiles/lammps.dir/content/lammps/src/dihedral_zero.cpp.o\u001b[0m\n",
            "[ 36%] \u001b[32mBuilding CXX object CMakeFiles/lammps.dir/content/lammps/src/displace_atoms.cpp.o\u001b[0m\n",
            "[ 36%] \u001b[32mBuilding CXX object CMakeFiles/lammps.dir/content/lammps/src/domain.cpp.o\u001b[0m\n",
            "[ 36%] \u001b[32mBuilding CXX object CMakeFiles/lammps.dir/content/lammps/src/dump.cpp.o\u001b[0m\n",
            "[ 36%] \u001b[32mBuilding CXX object CMakeFiles/lammps.dir/content/lammps/src/dump_atom.cpp.o\u001b[0m\n",
            "[ 36%] \u001b[32mBuilding CXX object CMakeFiles/lammps.dir/content/lammps/src/dump_cfg.cpp.o\u001b[0m\n",
            "[ 36%] \u001b[32mBuilding CXX object CMakeFiles/lammps.dir/content/lammps/src/dump_custom.cpp.o\u001b[0m\n",
            "[ 37%] \u001b[32mBuilding CXX object CMakeFiles/lammps.dir/content/lammps/src/dump_deprecated.cpp.o\u001b[0m\n",
            "[ 37%] \u001b[32mBuilding CXX object CMakeFiles/lammps.dir/content/lammps/src/dump_grid.cpp.o\u001b[0m\n",
            "[ 37%] \u001b[32mBuilding CXX object CMakeFiles/lammps.dir/content/lammps/src/dump_grid_vtk.cpp.o\u001b[0m\n",
            "[ 37%] \u001b[32mBuilding CXX object CMakeFiles/lammps.dir/content/lammps/src/dump_image.cpp.o\u001b[0m\n",
            "[ 37%] \u001b[32mBuilding CXX object CMakeFiles/lammps.dir/content/lammps/src/dump_local.cpp.o\u001b[0m\n",
            "[ 37%] \u001b[32mBuilding CXX object CMakeFiles/lammps.dir/content/lammps/src/dump_movie.cpp.o\u001b[0m\n",
            "[ 38%] \u001b[32mBuilding CXX object CMakeFiles/lammps.dir/content/lammps/src/dump_xyz.cpp.o\u001b[0m\n",
            "[ 38%] \u001b[32mBuilding CXX object CMakeFiles/lammps.dir/content/lammps/src/error.cpp.o\u001b[0m\n",
            "[ 38%] \u001b[32mBuilding CXX object CMakeFiles/lammps.dir/content/lammps/src/finish.cpp.o\u001b[0m\n",
            "[ 38%] \u001b[32mBuilding CXX object CMakeFiles/lammps.dir/content/lammps/src/fix.cpp.o\u001b[0m\n",
            "[ 38%] \u001b[32mBuilding CXX object CMakeFiles/lammps.dir/content/lammps/src/fix_adapt.cpp.o\u001b[0m\n",
            "[ 39%] \u001b[32mBuilding CXX object CMakeFiles/lammps.dir/content/lammps/src/fix_addforce.cpp.o\u001b[0m\n",
            "[ 39%] \u001b[32mBuilding CXX object CMakeFiles/lammps.dir/content/lammps/src/fix_ave_atom.cpp.o\u001b[0m\n",
            "[ 39%] \u001b[32mBuilding CXX object CMakeFiles/lammps.dir/content/lammps/src/fix_ave_chunk.cpp.o\u001b[0m\n",
            "[ 39%] \u001b[32mBuilding CXX object CMakeFiles/lammps.dir/content/lammps/src/fix_ave_grid.cpp.o\u001b[0m\n",
            "[ 39%] \u001b[32mBuilding CXX object CMakeFiles/lammps.dir/content/lammps/src/fix_ave_histo.cpp.o\u001b[0m\n",
            "[ 40%] \u001b[32mBuilding CXX object CMakeFiles/lammps.dir/content/lammps/src/fix_ave_histo_weight.cpp.o\u001b[0m\n",
            "[ 40%] \u001b[32mBuilding CXX object CMakeFiles/lammps.dir/content/lammps/src/fix_ave_time.cpp.o\u001b[0m\n",
            "[ 40%] \u001b[32mBuilding CXX object CMakeFiles/lammps.dir/content/lammps/src/fix_aveforce.cpp.o\u001b[0m\n",
            "[ 40%] \u001b[32mBuilding CXX object CMakeFiles/lammps.dir/content/lammps/src/fix_balance.cpp.o\u001b[0m\n",
            "[ 40%] \u001b[32mBuilding CXX object CMakeFiles/lammps.dir/content/lammps/src/fix_bond_history.cpp.o\u001b[0m\n",
            "[ 41%] \u001b[32mBuilding CXX object CMakeFiles/lammps.dir/content/lammps/src/fix_box_relax.cpp.o\u001b[0m\n",
            "[ 41%] \u001b[32mBuilding CXX object CMakeFiles/lammps.dir/content/lammps/src/fix_deform.cpp.o\u001b[0m\n",
            "[ 41%] \u001b[32mBuilding CXX object CMakeFiles/lammps.dir/content/lammps/src/fix_deposit.cpp.o\u001b[0m\n",
            "[ 41%] \u001b[32mBuilding CXX object CMakeFiles/lammps.dir/content/lammps/src/fix_deprecated.cpp.o\u001b[0m\n",
            "[ 41%] \u001b[32mBuilding CXX object CMakeFiles/lammps.dir/content/lammps/src/fix_dt_reset.cpp.o\u001b[0m\n",
            "[ 41%] \u001b[32mBuilding CXX object CMakeFiles/lammps.dir/content/lammps/src/fix_dummy.cpp.o\u001b[0m\n",
            "[ 42%] \u001b[32mBuilding CXX object CMakeFiles/lammps.dir/content/lammps/src/fix_efield.cpp.o\u001b[0m\n",
            "[ 42%] \u001b[32mBuilding CXX object CMakeFiles/lammps.dir/content/lammps/src/fix_enforce2d.cpp.o\u001b[0m\n",
            "[ 42%] \u001b[32mBuilding CXX object CMakeFiles/lammps.dir/content/lammps/src/fix_evaporate.cpp.o\u001b[0m\n",
            "[ 42%] \u001b[32mBuilding CXX object CMakeFiles/lammps.dir/content/lammps/src/fix_external.cpp.o\u001b[0m\n",
            "[ 42%] \u001b[32mBuilding CXX object CMakeFiles/lammps.dir/content/lammps/src/fix_gravity.cpp.o\u001b[0m\n",
            "[ 43%] \u001b[32mBuilding CXX object CMakeFiles/lammps.dir/content/lammps/src/fix_group.cpp.o\u001b[0m\n",
            "[ 43%] \u001b[32mBuilding CXX object CMakeFiles/lammps.dir/content/lammps/src/fix_halt.cpp.o\u001b[0m\n",
            "[ 43%] \u001b[32mBuilding CXX object CMakeFiles/lammps.dir/content/lammps/src/fix_heat.cpp.o\u001b[0m\n",
            "[ 43%] \u001b[32mBuilding CXX object CMakeFiles/lammps.dir/content/lammps/src/fix_indent.cpp.o\u001b[0m\n",
            "[ 43%] \u001b[32mBuilding CXX object CMakeFiles/lammps.dir/content/lammps/src/fix_langevin.cpp.o\u001b[0m\n",
            "[ 43%] \u001b[32mBuilding CXX object CMakeFiles/lammps.dir/content/lammps/src/fix_lineforce.cpp.o\u001b[0m\n",
            "[ 44%] \u001b[32mBuilding CXX object CMakeFiles/lammps.dir/content/lammps/src/fix_minimize.cpp.o\u001b[0m\n",
            "[ 44%] \u001b[32mBuilding CXX object CMakeFiles/lammps.dir/content/lammps/src/fix_momentum.cpp.o\u001b[0m\n",
            "[ 44%] \u001b[32mBuilding CXX object CMakeFiles/lammps.dir/content/lammps/src/fix_move.cpp.o\u001b[0m\n",
            "[ 44%] \u001b[32mBuilding CXX object CMakeFiles/lammps.dir/content/lammps/src/fix_neigh_history.cpp.o\u001b[0m\n",
            "[ 44%] \u001b[32mBuilding CXX object CMakeFiles/lammps.dir/content/lammps/src/fix_nh.cpp.o\u001b[0m\n",
            "[ 44%] \u001b[32mBuilding CXX object CMakeFiles/lammps.dir/content/lammps/src/fix_nh_sphere.cpp.o\u001b[0m\n",
            "[ 45%] \u001b[32mBuilding CXX object CMakeFiles/lammps.dir/content/lammps/src/fix_nph.cpp.o\u001b[0m\n",
            "[ 45%] \u001b[32mBuilding CXX object CMakeFiles/lammps.dir/content/lammps/src/fix_nph_sphere.cpp.o\u001b[0m\n",
            "[ 45%] \u001b[32mBuilding CXX object CMakeFiles/lammps.dir/content/lammps/src/fix_npt.cpp.o\u001b[0m\n",
            "[ 45%] \u001b[32mBuilding CXX object CMakeFiles/lammps.dir/content/lammps/src/fix_npt_sphere.cpp.o\u001b[0m\n",
            "[ 45%] \u001b[32mBuilding CXX object CMakeFiles/lammps.dir/content/lammps/src/fix_nve.cpp.o\u001b[0m\n",
            "[ 46%] \u001b[32mBuilding CXX object CMakeFiles/lammps.dir/content/lammps/src/fix_nve_limit.cpp.o\u001b[0m\n",
            "[ 46%] \u001b[32mBuilding CXX object CMakeFiles/lammps.dir/content/lammps/src/fix_nve_noforce.cpp.o\u001b[0m\n",
            "[ 46%] \u001b[32mBuilding CXX object CMakeFiles/lammps.dir/content/lammps/src/fix_nve_sphere.cpp.o\u001b[0m\n",
            "[ 46%] \u001b[32mBuilding CXX object CMakeFiles/lammps.dir/content/lammps/src/fix_nvt.cpp.o\u001b[0m\n",
            "[ 46%] \u001b[32mBuilding CXX object CMakeFiles/lammps.dir/content/lammps/src/fix_nvt_sllod.cpp.o\u001b[0m\n",
            "[ 46%] \u001b[32mBuilding CXX object CMakeFiles/lammps.dir/content/lammps/src/fix_nvt_sphere.cpp.o\u001b[0m\n",
            "[ 47%] \u001b[32mBuilding CXX object CMakeFiles/lammps.dir/content/lammps/src/fix_pair.cpp.o\u001b[0m\n",
            "[ 47%] \u001b[32mBuilding CXX object CMakeFiles/lammps.dir/content/lammps/src/fix_planeforce.cpp.o\u001b[0m\n",
            "[ 47%] \u001b[32mBuilding CXX object CMakeFiles/lammps.dir/content/lammps/src/fix_press_berendsen.cpp.o\u001b[0m\n",
            "[ 47%] \u001b[32mBuilding CXX object CMakeFiles/lammps.dir/content/lammps/src/fix_print.cpp.o\u001b[0m\n",
            "[ 47%] \u001b[32mBuilding CXX object CMakeFiles/lammps.dir/content/lammps/src/fix_property_atom.cpp.o\u001b[0m\n",
            "[ 48%] \u001b[32mBuilding CXX object CMakeFiles/lammps.dir/content/lammps/src/fix_read_restart.cpp.o\u001b[0m\n",
            "[ 48%] \u001b[32mBuilding CXX object CMakeFiles/lammps.dir/content/lammps/src/fix_recenter.cpp.o\u001b[0m\n",
            "[ 48%] \u001b[32mBuilding CXX object CMakeFiles/lammps.dir/content/lammps/src/fix_respa.cpp.o\u001b[0m\n",
            "[ 48%] \u001b[32mBuilding CXX object CMakeFiles/lammps.dir/content/lammps/src/fix_restrain.cpp.o\u001b[0m\n",
            "[ 48%] \u001b[32mBuilding CXX object CMakeFiles/lammps.dir/content/lammps/src/fix_setforce.cpp.o\u001b[0m\n",
            "[ 48%] \u001b[32mBuilding CXX object CMakeFiles/lammps.dir/content/lammps/src/fix_spring.cpp.o\u001b[0m\n",
            "[ 49%] \u001b[32mBuilding CXX object CMakeFiles/lammps.dir/content/lammps/src/fix_spring_chunk.cpp.o\u001b[0m\n",
            "[ 49%] \u001b[32mBuilding CXX object CMakeFiles/lammps.dir/content/lammps/src/fix_spring_self.cpp.o\u001b[0m\n",
            "[ 49%] \u001b[32mBuilding CXX object CMakeFiles/lammps.dir/content/lammps/src/fix_store_atom.cpp.o\u001b[0m\n",
            "[ 49%] \u001b[32mBuilding CXX object CMakeFiles/lammps.dir/content/lammps/src/fix_store_force.cpp.o\u001b[0m\n",
            "[ 49%] \u001b[32mBuilding CXX object CMakeFiles/lammps.dir/content/lammps/src/fix_store_global.cpp.o\u001b[0m\n",
            "[ 50%] \u001b[32mBuilding CXX object CMakeFiles/lammps.dir/content/lammps/src/fix_store_local.cpp.o\u001b[0m\n",
            "[ 50%] \u001b[32mBuilding CXX object CMakeFiles/lammps.dir/content/lammps/src/fix_store_state.cpp.o\u001b[0m\n",
            "[ 50%] \u001b[32mBuilding CXX object CMakeFiles/lammps.dir/content/lammps/src/fix_temp_berendsen.cpp.o\u001b[0m\n",
            "[ 50%] \u001b[32mBuilding CXX object CMakeFiles/lammps.dir/content/lammps/src/fix_temp_rescale.cpp.o\u001b[0m\n",
            "[ 50%] \u001b[32mBuilding CXX object CMakeFiles/lammps.dir/content/lammps/src/fix_thermal_conductivity.cpp.o\u001b[0m\n",
            "[ 50%] \u001b[32mBuilding CXX object CMakeFiles/lammps.dir/content/lammps/src/fix_update_special_bonds.cpp.o\u001b[0m\n",
            "[ 51%] \u001b[32mBuilding CXX object CMakeFiles/lammps.dir/content/lammps/src/fix_vector.cpp.o\u001b[0m\n",
            "[ 51%] \u001b[32mBuilding CXX object CMakeFiles/lammps.dir/content/lammps/src/fix_viscous.cpp.o\u001b[0m\n",
            "[ 51%] \u001b[32mBuilding CXX object CMakeFiles/lammps.dir/content/lammps/src/fix_wall.cpp.o\u001b[0m\n",
            "[ 51%] \u001b[32mBuilding CXX object CMakeFiles/lammps.dir/content/lammps/src/fix_wall_harmonic.cpp.o\u001b[0m\n",
            "[ 51%] \u001b[32mBuilding CXX object CMakeFiles/lammps.dir/content/lammps/src/fix_wall_lj1043.cpp.o\u001b[0m\n",
            "[ 52%] \u001b[32mBuilding CXX object CMakeFiles/lammps.dir/content/lammps/src/fix_wall_lj126.cpp.o\u001b[0m\n",
            "[ 52%] \u001b[32mBuilding CXX object CMakeFiles/lammps.dir/content/lammps/src/fix_wall_lj93.cpp.o\u001b[0m\n",
            "[ 52%] \u001b[32mBuilding CXX object CMakeFiles/lammps.dir/content/lammps/src/fix_wall_morse.cpp.o\u001b[0m\n",
            "[ 52%] \u001b[32mBuilding CXX object CMakeFiles/lammps.dir/content/lammps/src/fix_wall_reflect.cpp.o\u001b[0m\n",
            "[ 52%] \u001b[32mBuilding CXX object CMakeFiles/lammps.dir/content/lammps/src/fix_wall_region.cpp.o\u001b[0m\n",
            "[ 52%] \u001b[32mBuilding CXX object CMakeFiles/lammps.dir/content/lammps/src/fix_wall_table.cpp.o\u001b[0m\n",
            "[ 53%] \u001b[32mBuilding CXX object CMakeFiles/lammps.dir/content/lammps/src/fmtlib_format.cpp.o\u001b[0m\n",
            "[ 53%] \u001b[32mBuilding CXX object CMakeFiles/lammps.dir/content/lammps/src/fmtlib_os.cpp.o\u001b[0m\n",
            "[ 53%] \u001b[32mBuilding CXX object CMakeFiles/lammps.dir/content/lammps/src/force.cpp.o\u001b[0m\n",
            "[ 53%] \u001b[32mBuilding CXX object CMakeFiles/lammps.dir/content/lammps/src/grid2d.cpp.o\u001b[0m\n",
            "[ 53%] \u001b[32mBuilding CXX object CMakeFiles/lammps.dir/content/lammps/src/grid3d.cpp.o\u001b[0m\n",
            "[ 53%] \u001b[32mBuilding CXX object CMakeFiles/lammps.dir/content/lammps/src/group.cpp.o\u001b[0m\n",
            "[ 54%] \u001b[32mBuilding CXX object CMakeFiles/lammps.dir/content/lammps/src/hashlittle.cpp.o\u001b[0m\n",
            "[ 54%] \u001b[32mBuilding CXX object CMakeFiles/lammps.dir/content/lammps/src/image.cpp.o\u001b[0m\n",
            "[ 54%] \u001b[32mBuilding CXX object CMakeFiles/lammps.dir/content/lammps/src/imbalance.cpp.o\u001b[0m\n",
            "[ 54%] \u001b[32mBuilding CXX object CMakeFiles/lammps.dir/content/lammps/src/imbalance_group.cpp.o\u001b[0m\n",
            "[ 54%] \u001b[32mBuilding CXX object CMakeFiles/lammps.dir/content/lammps/src/imbalance_neigh.cpp.o\u001b[0m\n",
            "[ 55%] \u001b[32mBuilding CXX object CMakeFiles/lammps.dir/content/lammps/src/imbalance_store.cpp.o\u001b[0m\n",
            "[ 55%] \u001b[32mBuilding CXX object CMakeFiles/lammps.dir/content/lammps/src/imbalance_time.cpp.o\u001b[0m\n",
            "[ 55%] \u001b[32mBuilding CXX object CMakeFiles/lammps.dir/content/lammps/src/imbalance_var.cpp.o\u001b[0m\n",
            "[ 55%] \u001b[32mBuilding CXX object CMakeFiles/lammps.dir/content/lammps/src/improper.cpp.o\u001b[0m\n",
            "[ 55%] \u001b[32mBuilding CXX object CMakeFiles/lammps.dir/content/lammps/src/improper_deprecated.cpp.o\u001b[0m\n",
            "[ 55%] \u001b[32mBuilding CXX object CMakeFiles/lammps.dir/content/lammps/src/improper_hybrid.cpp.o\u001b[0m\n",
            "[ 56%] \u001b[32mBuilding CXX object CMakeFiles/lammps.dir/content/lammps/src/improper_zero.cpp.o\u001b[0m\n",
            "[ 56%] \u001b[32mBuilding CXX object CMakeFiles/lammps.dir/content/lammps/src/info.cpp.o\u001b[0m\n",
            "[ 56%] \u001b[32mBuilding CXX object CMakeFiles/lammps.dir/content/lammps/src/input.cpp.o\u001b[0m\n",
            "[ 56%] \u001b[32mBuilding CXX object CMakeFiles/lammps.dir/content/lammps/src/integrate.cpp.o\u001b[0m\n",
            "[ 56%] \u001b[32mBuilding CXX object CMakeFiles/lammps.dir/content/lammps/src/irregular.cpp.o\u001b[0m\n",
            "[ 57%] \u001b[32mBuilding CXX object CMakeFiles/lammps.dir/content/lammps/src/kspace.cpp.o\u001b[0m\n",
            "[ 57%] \u001b[32mBuilding CXX object CMakeFiles/lammps.dir/content/lammps/src/kspace_deprecated.cpp.o\u001b[0m\n",
            "[ 57%] \u001b[32mBuilding CXX object CMakeFiles/lammps.dir/content/lammps/src/label_map.cpp.o\u001b[0m\n",
            "[ 57%] \u001b[32mBuilding CXX object CMakeFiles/lammps.dir/content/lammps/src/lammps.cpp.o\u001b[0m\n",
            "[ 57%] \u001b[32mBuilding CXX object CMakeFiles/lammps.dir/content/lammps/src/lattice.cpp.o\u001b[0m\n",
            "[ 57%] \u001b[32mBuilding CXX object CMakeFiles/lammps.dir/content/lammps/src/library.cpp.o\u001b[0m\n",
            "[ 58%] \u001b[32mBuilding CXX object CMakeFiles/lammps.dir/content/lammps/src/lmppython.cpp.o\u001b[0m\n",
            "[ 58%] \u001b[32mBuilding CXX object CMakeFiles/lammps.dir/content/lammps/src/math_eigen.cpp.o\u001b[0m\n",
            "[ 58%] \u001b[32mBuilding CXX object CMakeFiles/lammps.dir/content/lammps/src/math_extra.cpp.o\u001b[0m\n",
            "[ 58%] \u001b[32mBuilding CXX object CMakeFiles/lammps.dir/content/lammps/src/math_special.cpp.o\u001b[0m\n",
            "[ 58%] \u001b[32mBuilding CXX object CMakeFiles/lammps.dir/content/lammps/src/memory.cpp.o\u001b[0m\n",
            "[ 59%] \u001b[32mBuilding CXX object CMakeFiles/lammps.dir/content/lammps/src/min.cpp.o\u001b[0m\n",
            "[ 59%] \u001b[32mBuilding CXX object CMakeFiles/lammps.dir/content/lammps/src/min_cg.cpp.o\u001b[0m\n",
            "[ 59%] \u001b[32mBuilding CXX object CMakeFiles/lammps.dir/content/lammps/src/min_deprecated.cpp.o\u001b[0m\n",
            "[ 59%] \u001b[32mBuilding CXX object CMakeFiles/lammps.dir/content/lammps/src/min_fire.cpp.o\u001b[0m\n",
            "[ 59%] \u001b[32mBuilding CXX object CMakeFiles/lammps.dir/content/lammps/src/min_hftn.cpp.o\u001b[0m\n",
            "[ 59%] \u001b[32mBuilding CXX object CMakeFiles/lammps.dir/content/lammps/src/min_linesearch.cpp.o\u001b[0m\n",
            "[ 60%] \u001b[32mBuilding CXX object CMakeFiles/lammps.dir/content/lammps/src/min_quickmin.cpp.o\u001b[0m\n",
            "[ 60%] \u001b[32mBuilding CXX object CMakeFiles/lammps.dir/content/lammps/src/min_sd.cpp.o\u001b[0m\n",
            "[ 60%] \u001b[32mBuilding CXX object CMakeFiles/lammps.dir/content/lammps/src/minimize.cpp.o\u001b[0m\n",
            "[ 60%] \u001b[32mBuilding CXX object CMakeFiles/lammps.dir/content/lammps/src/modify.cpp.o\u001b[0m\n",
            "[ 60%] \u001b[32mBuilding CXX object CMakeFiles/lammps.dir/content/lammps/src/molecule.cpp.o\u001b[0m\n",
            "[ 61%] \u001b[32mBuilding CXX object CMakeFiles/lammps.dir/content/lammps/src/my_page.cpp.o\u001b[0m\n",
            "[ 61%] \u001b[32mBuilding CXX object CMakeFiles/lammps.dir/content/lammps/src/my_pool_chunk.cpp.o\u001b[0m\n",
            "[ 61%] \u001b[32mBuilding CXX object CMakeFiles/lammps.dir/content/lammps/src/nbin.cpp.o\u001b[0m\n",
            "[ 61%] \u001b[32mBuilding CXX object CMakeFiles/lammps.dir/content/lammps/src/nbin_multi.cpp.o\u001b[0m\n",
            "[ 61%] \u001b[32mBuilding CXX object CMakeFiles/lammps.dir/content/lammps/src/nbin_standard.cpp.o\u001b[0m\n",
            "[ 61%] \u001b[32mBuilding CXX object CMakeFiles/lammps.dir/content/lammps/src/neigh_list.cpp.o\u001b[0m\n",
            "[ 62%] \u001b[32mBuilding CXX object CMakeFiles/lammps.dir/content/lammps/src/neigh_request.cpp.o\u001b[0m\n",
            "[ 62%] \u001b[32mBuilding CXX object CMakeFiles/lammps.dir/content/lammps/src/neighbor.cpp.o\u001b[0m\n",
            "[ 62%] \u001b[32mBuilding CXX object CMakeFiles/lammps.dir/content/lammps/src/npair.cpp.o\u001b[0m\n",
            "[ 62%] \u001b[32mBuilding CXX object CMakeFiles/lammps.dir/content/lammps/src/npair_copy.cpp.o\u001b[0m\n",
            "[ 62%] \u001b[32mBuilding CXX object CMakeFiles/lammps.dir/content/lammps/src/npair_full_bin.cpp.o\u001b[0m\n",
            "[ 62%] \u001b[32mBuilding CXX object CMakeFiles/lammps.dir/content/lammps/src/npair_full_bin_atomonly.cpp.o\u001b[0m\n",
            "[ 63%] \u001b[32mBuilding CXX object CMakeFiles/lammps.dir/content/lammps/src/npair_full_bin_ghost.cpp.o\u001b[0m\n",
            "[ 63%] \u001b[32mBuilding CXX object CMakeFiles/lammps.dir/content/lammps/src/npair_full_multi.cpp.o\u001b[0m\n",
            "[ 63%] \u001b[32mBuilding CXX object CMakeFiles/lammps.dir/content/lammps/src/npair_full_multi_old.cpp.o\u001b[0m\n",
            "[ 63%] \u001b[32mBuilding CXX object CMakeFiles/lammps.dir/content/lammps/src/npair_full_nsq.cpp.o\u001b[0m\n",
            "[ 63%] \u001b[32mBuilding CXX object CMakeFiles/lammps.dir/content/lammps/src/npair_full_nsq_ghost.cpp.o\u001b[0m\n",
            "[ 64%] \u001b[32mBuilding CXX object CMakeFiles/lammps.dir/content/lammps/src/npair_half_bin_atomonly_newton.cpp.o\u001b[0m\n",
            "[ 64%] \u001b[32mBuilding CXX object CMakeFiles/lammps.dir/content/lammps/src/npair_half_bin_newtoff.cpp.o\u001b[0m\n",
            "[ 64%] \u001b[32mBuilding CXX object CMakeFiles/lammps.dir/content/lammps/src/npair_half_bin_newtoff_ghost.cpp.o\u001b[0m\n",
            "[ 64%] \u001b[32mBuilding CXX object CMakeFiles/lammps.dir/content/lammps/src/npair_half_bin_newton.cpp.o\u001b[0m\n",
            "[ 64%] \u001b[32mBuilding CXX object CMakeFiles/lammps.dir/content/lammps/src/npair_half_bin_newton_tri.cpp.o\u001b[0m\n",
            "[ 64%] \u001b[32mBuilding CXX object CMakeFiles/lammps.dir/content/lammps/src/npair_half_multi_newtoff.cpp.o\u001b[0m\n",
            "[ 65%] \u001b[32mBuilding CXX object CMakeFiles/lammps.dir/content/lammps/src/npair_half_multi_newton.cpp.o\u001b[0m\n",
            "[ 65%] \u001b[32mBuilding CXX object CMakeFiles/lammps.dir/content/lammps/src/npair_half_multi_newton_tri.cpp.o\u001b[0m\n",
            "[ 65%] \u001b[32mBuilding CXX object CMakeFiles/lammps.dir/content/lammps/src/npair_half_multi_old_newtoff.cpp.o\u001b[0m\n",
            "[ 65%] \u001b[32mBuilding CXX object CMakeFiles/lammps.dir/content/lammps/src/npair_half_multi_old_newton.cpp.o\u001b[0m\n",
            "[ 65%] \u001b[32mBuilding CXX object CMakeFiles/lammps.dir/content/lammps/src/npair_half_multi_old_newton_tri.cpp.o\u001b[0m\n",
            "[ 67%] \u001b[32mBuilding CXX object CMakeFiles/lammps.dir/content/lammps/src/npair_half_nsq_newtoff.cpp.o\u001b[0m\n",
            "[ 67%] \u001b[32mBuilding CXX object CMakeFiles/lammps.dir/content/lammps/src/npair_half_nsq_newtoff_ghost.cpp.o\u001b[0m\n",
            "[ 67%] \u001b[32mBuilding CXX object CMakeFiles/lammps.dir/content/lammps/src/npair_half_nsq_newton.cpp.o\u001b[0m\n",
            "[ 67%] \u001b[32mBuilding CXX object CMakeFiles/lammps.dir/content/lammps/src/npair_half_respa_bin_newtoff.cpp.o\u001b[0m\n",
            "[ 67%] \u001b[32mBuilding CXX object CMakeFiles/lammps.dir/content/lammps/src/npair_half_respa_bin_newton.cpp.o\u001b[0m\n",
            "[ 67%] \u001b[32mBuilding CXX object CMakeFiles/lammps.dir/content/lammps/src/npair_half_respa_bin_newton_tri.cpp.o\u001b[0m\n",
            "[ 68%] \u001b[32mBuilding CXX object CMakeFiles/lammps.dir/content/lammps/src/npair_half_respa_nsq_newtoff.cpp.o\u001b[0m\n",
            "[ 68%] \u001b[32mBuilding CXX object CMakeFiles/lammps.dir/content/lammps/src/npair_half_respa_nsq_newton.cpp.o\u001b[0m\n",
            "[ 68%] \u001b[32mBuilding CXX object CMakeFiles/lammps.dir/content/lammps/src/npair_half_size_bin_newtoff.cpp.o\u001b[0m\n",
            "[ 68%] \u001b[32mBuilding CXX object CMakeFiles/lammps.dir/content/lammps/src/npair_half_size_bin_newton.cpp.o\u001b[0m\n",
            "[ 68%] \u001b[32mBuilding CXX object CMakeFiles/lammps.dir/content/lammps/src/npair_half_size_bin_newton_tri.cpp.o\u001b[0m\n",
            "[ 69%] \u001b[32mBuilding CXX object CMakeFiles/lammps.dir/content/lammps/src/npair_half_size_multi_newtoff.cpp.o\u001b[0m\n",
            "[ 69%] \u001b[32mBuilding CXX object CMakeFiles/lammps.dir/content/lammps/src/npair_half_size_multi_newton.cpp.o\u001b[0m\n",
            "[ 69%] \u001b[32mBuilding CXX object CMakeFiles/lammps.dir/content/lammps/src/npair_half_size_multi_newton_tri.cpp.o\u001b[0m\n",
            "[ 69%] \u001b[32mBuilding CXX object CMakeFiles/lammps.dir/content/lammps/src/npair_half_size_multi_old_newtoff.cpp.o\u001b[0m\n",
            "[ 69%] \u001b[32mBuilding CXX object CMakeFiles/lammps.dir/content/lammps/src/npair_half_size_multi_old_newton.cpp.o\u001b[0m\n",
            "[ 69%] \u001b[32mBuilding CXX object CMakeFiles/lammps.dir/content/lammps/src/npair_half_size_multi_old_newton_tri.cpp.o\u001b[0m\n",
            "[ 70%] \u001b[32mBuilding CXX object CMakeFiles/lammps.dir/content/lammps/src/npair_half_size_nsq_newtoff.cpp.o\u001b[0m\n",
            "[ 70%] \u001b[32mBuilding CXX object CMakeFiles/lammps.dir/content/lammps/src/npair_half_size_nsq_newton.cpp.o\u001b[0m\n",
            "[ 70%] \u001b[32mBuilding CXX object CMakeFiles/lammps.dir/content/lammps/src/npair_halffull_newtoff.cpp.o\u001b[0m\n",
            "[ 70%] \u001b[32mBuilding CXX object CMakeFiles/lammps.dir/content/lammps/src/npair_halffull_newtoff_trim.cpp.o\u001b[0m\n",
            "[ 70%] \u001b[32mBuilding CXX object CMakeFiles/lammps.dir/content/lammps/src/npair_halffull_newton.cpp.o\u001b[0m\n",
            "[ 70%] \u001b[32mBuilding CXX object CMakeFiles/lammps.dir/content/lammps/src/npair_halffull_newton_trim.cpp.o\u001b[0m\n",
            "[ 71%] \u001b[32mBuilding CXX object CMakeFiles/lammps.dir/content/lammps/src/npair_skip.cpp.o\u001b[0m\n",
            "[ 71%] \u001b[32mBuilding CXX object CMakeFiles/lammps.dir/content/lammps/src/npair_skip_respa.cpp.o\u001b[0m\n",
            "[ 71%] \u001b[32mBuilding CXX object CMakeFiles/lammps.dir/content/lammps/src/npair_skip_size.cpp.o\u001b[0m\n",
            "[ 71%] \u001b[32mBuilding CXX object CMakeFiles/lammps.dir/content/lammps/src/npair_skip_size_off2on.cpp.o\u001b[0m\n",
            "[ 71%] \u001b[32mBuilding CXX object CMakeFiles/lammps.dir/content/lammps/src/npair_skip_size_off2on_oneside.cpp.o\u001b[0m\n",
            "[ 72%] \u001b[32mBuilding CXX object CMakeFiles/lammps.dir/content/lammps/src/npair_trim.cpp.o\u001b[0m\n",
            "[ 72%] \u001b[32mBuilding CXX object CMakeFiles/lammps.dir/content/lammps/src/nstencil.cpp.o\u001b[0m\n",
            "[ 72%] \u001b[32mBuilding CXX object CMakeFiles/lammps.dir/content/lammps/src/nstencil_full_bin_2d.cpp.o\u001b[0m\n",
            "[ 72%] \u001b[32mBuilding CXX object CMakeFiles/lammps.dir/content/lammps/src/nstencil_full_bin_3d.cpp.o\u001b[0m\n",
            "[ 72%] \u001b[32mBuilding CXX object CMakeFiles/lammps.dir/content/lammps/src/nstencil_full_ghost_bin_2d.cpp.o\u001b[0m\n",
            "[ 72%] \u001b[32mBuilding CXX object CMakeFiles/lammps.dir/content/lammps/src/nstencil_full_ghost_bin_3d.cpp.o\u001b[0m\n",
            "[ 73%] \u001b[32mBuilding CXX object CMakeFiles/lammps.dir/content/lammps/src/nstencil_full_multi_2d.cpp.o\u001b[0m\n",
            "[ 73%] \u001b[32mBuilding CXX object CMakeFiles/lammps.dir/content/lammps/src/nstencil_full_multi_3d.cpp.o\u001b[0m\n",
            "[ 73%] \u001b[32mBuilding CXX object CMakeFiles/lammps.dir/content/lammps/src/nstencil_full_multi_old_2d.cpp.o\u001b[0m\n",
            "[ 73%] \u001b[32mBuilding CXX object CMakeFiles/lammps.dir/content/lammps/src/nstencil_full_multi_old_3d.cpp.o\u001b[0m\n",
            "[ 73%] \u001b[32mBuilding CXX object CMakeFiles/lammps.dir/content/lammps/src/nstencil_half_bin_2d.cpp.o\u001b[0m\n",
            "[ 74%] \u001b[32mBuilding CXX object CMakeFiles/lammps.dir/content/lammps/src/nstencil_half_bin_2d_tri.cpp.o\u001b[0m\n",
            "[ 74%] \u001b[32mBuilding CXX object CMakeFiles/lammps.dir/content/lammps/src/nstencil_half_bin_3d.cpp.o\u001b[0m\n",
            "[ 74%] \u001b[32mBuilding CXX object CMakeFiles/lammps.dir/content/lammps/src/nstencil_half_bin_3d_tri.cpp.o\u001b[0m\n",
            "[ 74%] \u001b[32mBuilding CXX object CMakeFiles/lammps.dir/content/lammps/src/nstencil_half_multi_2d.cpp.o\u001b[0m\n",
            "[ 74%] \u001b[32mBuilding CXX object CMakeFiles/lammps.dir/content/lammps/src/nstencil_half_multi_2d_tri.cpp.o\u001b[0m\n",
            "[ 74%] \u001b[32mBuilding CXX object CMakeFiles/lammps.dir/content/lammps/src/nstencil_half_multi_3d.cpp.o\u001b[0m\n",
            "[ 75%] \u001b[32mBuilding CXX object CMakeFiles/lammps.dir/content/lammps/src/nstencil_half_multi_3d_tri.cpp.o\u001b[0m\n",
            "[ 75%] \u001b[32mBuilding CXX object CMakeFiles/lammps.dir/content/lammps/src/nstencil_half_multi_old_2d.cpp.o\u001b[0m\n",
            "[ 75%] \u001b[32mBuilding CXX object CMakeFiles/lammps.dir/content/lammps/src/nstencil_half_multi_old_2d_tri.cpp.o\u001b[0m\n",
            "[ 75%] \u001b[32mBuilding CXX object CMakeFiles/lammps.dir/content/lammps/src/nstencil_half_multi_old_3d.cpp.o\u001b[0m\n",
            "[ 75%] \u001b[32mBuilding CXX object CMakeFiles/lammps.dir/content/lammps/src/nstencil_half_multi_old_3d_tri.cpp.o\u001b[0m\n",
            "[ 76%] \u001b[32mBuilding CXX object CMakeFiles/lammps.dir/content/lammps/src/ntopo.cpp.o\u001b[0m\n",
            "[ 76%] \u001b[32mBuilding CXX object CMakeFiles/lammps.dir/content/lammps/src/ntopo_angle_all.cpp.o\u001b[0m\n",
            "[ 76%] \u001b[32mBuilding CXX object CMakeFiles/lammps.dir/content/lammps/src/ntopo_angle_partial.cpp.o\u001b[0m\n",
            "[ 76%] \u001b[32mBuilding CXX object CMakeFiles/lammps.dir/content/lammps/src/ntopo_angle_template.cpp.o\u001b[0m\n",
            "[ 76%] \u001b[32mBuilding CXX object CMakeFiles/lammps.dir/content/lammps/src/ntopo_bond_all.cpp.o\u001b[0m\n",
            "[ 76%] \u001b[32mBuilding CXX object CMakeFiles/lammps.dir/content/lammps/src/ntopo_bond_partial.cpp.o\u001b[0m\n",
            "[ 77%] \u001b[32mBuilding CXX object CMakeFiles/lammps.dir/content/lammps/src/ntopo_bond_template.cpp.o\u001b[0m\n",
            "[ 77%] \u001b[32mBuilding CXX object CMakeFiles/lammps.dir/content/lammps/src/ntopo_dihedral_all.cpp.o\u001b[0m\n",
            "[ 77%] \u001b[32mBuilding CXX object CMakeFiles/lammps.dir/content/lammps/src/ntopo_dihedral_partial.cpp.o\u001b[0m\n",
            "[ 77%] \u001b[32mBuilding CXX object CMakeFiles/lammps.dir/content/lammps/src/ntopo_dihedral_template.cpp.o\u001b[0m\n",
            "[ 77%] \u001b[32mBuilding CXX object CMakeFiles/lammps.dir/content/lammps/src/ntopo_improper_all.cpp.o\u001b[0m\n",
            "[ 78%] \u001b[32mBuilding CXX object CMakeFiles/lammps.dir/content/lammps/src/ntopo_improper_partial.cpp.o\u001b[0m\n",
            "[ 78%] \u001b[32mBuilding CXX object CMakeFiles/lammps.dir/content/lammps/src/ntopo_improper_template.cpp.o\u001b[0m\n",
            "[ 78%] \u001b[32mBuilding CXX object CMakeFiles/lammps.dir/content/lammps/src/output.cpp.o\u001b[0m\n",
            "[ 78%] \u001b[32mBuilding CXX object CMakeFiles/lammps.dir/content/lammps/src/pair.cpp.o\u001b[0m\n",
            "[ 78%] \u001b[32mBuilding CXX object CMakeFiles/lammps.dir/content/lammps/src/pair_born.cpp.o\u001b[0m\n",
            "[ 78%] \u001b[32mBuilding CXX object CMakeFiles/lammps.dir/content/lammps/src/pair_buck.cpp.o\u001b[0m\n",
            "[ 79%] \u001b[32mBuilding CXX object CMakeFiles/lammps.dir/content/lammps/src/pair_buck_coul_cut.cpp.o\u001b[0m\n",
            "[ 79%] \u001b[32mBuilding CXX object CMakeFiles/lammps.dir/content/lammps/src/pair_coul_cut.cpp.o\u001b[0m\n",
            "[ 79%] \u001b[32mBuilding CXX object CMakeFiles/lammps.dir/content/lammps/src/pair_coul_debye.cpp.o\u001b[0m\n",
            "[ 79%] \u001b[32mBuilding CXX object CMakeFiles/lammps.dir/content/lammps/src/pair_coul_dsf.cpp.o\u001b[0m\n",
            "[ 79%] \u001b[32mBuilding CXX object CMakeFiles/lammps.dir/content/lammps/src/pair_coul_wolf.cpp.o\u001b[0m\n",
            "[ 79%] \u001b[32mBuilding CXX object CMakeFiles/lammps.dir/content/lammps/src/pair_deprecated.cpp.o\u001b[0m\n",
            "[ 80%] \u001b[32mBuilding CXX object CMakeFiles/lammps.dir/content/lammps/src/pair_hybrid.cpp.o\u001b[0m\n",
            "[ 80%] \u001b[32mBuilding CXX object CMakeFiles/lammps.dir/content/lammps/src/pair_hybrid_overlay.cpp.o\u001b[0m\n",
            "[ 80%] \u001b[32mBuilding CXX object CMakeFiles/lammps.dir/content/lammps/src/pair_hybrid_scaled.cpp.o\u001b[0m\n",
            "[ 80%] \u001b[32mBuilding CXX object CMakeFiles/lammps.dir/content/lammps/src/pair_lj_cut.cpp.o\u001b[0m\n",
            "[ 80%] \u001b[32mBuilding CXX object CMakeFiles/lammps.dir/content/lammps/src/pair_lj_cut_coul_cut.cpp.o\u001b[0m\n",
            "[ 81%] \u001b[32mBuilding CXX object CMakeFiles/lammps.dir/content/lammps/src/pair_lj_expand.cpp.o\u001b[0m\n",
            "[ 81%] \u001b[32mBuilding CXX object CMakeFiles/lammps.dir/content/lammps/src/pair_morse.cpp.o\u001b[0m\n",
            "[ 81%] \u001b[32mBuilding CXX object CMakeFiles/lammps.dir/content/lammps/src/pair_soft.cpp.o\u001b[0m\n",
            "[ 81%] \u001b[32mBuilding CXX object CMakeFiles/lammps.dir/content/lammps/src/pair_table.cpp.o\u001b[0m\n",
            "[ 81%] \u001b[32mBuilding CXX object CMakeFiles/lammps.dir/content/lammps/src/pair_yukawa.cpp.o\u001b[0m\n",
            "[ 81%] \u001b[32mBuilding CXX object CMakeFiles/lammps.dir/content/lammps/src/pair_zbl.cpp.o\u001b[0m\n",
            "[ 82%] \u001b[32mBuilding CXX object CMakeFiles/lammps.dir/content/lammps/src/pair_zero.cpp.o\u001b[0m\n",
            "[ 82%] \u001b[32mBuilding CXX object CMakeFiles/lammps.dir/content/lammps/src/platform.cpp.o\u001b[0m\n",
            "[ 82%] \u001b[32mBuilding CXX object CMakeFiles/lammps.dir/content/lammps/src/potential_file_reader.cpp.o\u001b[0m\n",
            "[ 82%] \u001b[32mBuilding CXX object CMakeFiles/lammps.dir/content/lammps/src/procmap.cpp.o\u001b[0m\n",
            "[ 82%] \u001b[32mBuilding CXX object CMakeFiles/lammps.dir/content/lammps/src/random_mars.cpp.o\u001b[0m\n",
            "[ 83%] \u001b[32mBuilding CXX object CMakeFiles/lammps.dir/content/lammps/src/random_park.cpp.o\u001b[0m\n",
            "[ 83%] \u001b[32mBuilding CXX object CMakeFiles/lammps.dir/content/lammps/src/rcb.cpp.o\u001b[0m\n",
            "[ 83%] \u001b[32mBuilding CXX object CMakeFiles/lammps.dir/content/lammps/src/read_data.cpp.o\u001b[0m\n",
            "[ 83%] \u001b[32mBuilding CXX object CMakeFiles/lammps.dir/content/lammps/src/read_dump.cpp.o\u001b[0m\n",
            "[ 83%] \u001b[32mBuilding CXX object CMakeFiles/lammps.dir/content/lammps/src/read_restart.cpp.o\u001b[0m\n",
            "[ 83%] \u001b[32mBuilding CXX object CMakeFiles/lammps.dir/content/lammps/src/reader.cpp.o\u001b[0m\n",
            "[ 84%] \u001b[32mBuilding CXX object CMakeFiles/lammps.dir/content/lammps/src/reader_native.cpp.o\u001b[0m\n",
            "[ 84%] \u001b[32mBuilding CXX object CMakeFiles/lammps.dir/content/lammps/src/reader_xyz.cpp.o\u001b[0m\n",
            "[ 84%] \u001b[32mBuilding CXX object CMakeFiles/lammps.dir/content/lammps/src/region.cpp.o\u001b[0m\n",
            "[ 84%] \u001b[32mBuilding CXX object CMakeFiles/lammps.dir/content/lammps/src/region_block.cpp.o\u001b[0m\n",
            "[ 84%] \u001b[32mBuilding CXX object CMakeFiles/lammps.dir/content/lammps/src/region_cone.cpp.o\u001b[0m\n",
            "[ 85%] \u001b[32mBuilding CXX object CMakeFiles/lammps.dir/content/lammps/src/region_cylinder.cpp.o\u001b[0m\n",
            "[ 85%] \u001b[32mBuilding CXX object CMakeFiles/lammps.dir/content/lammps/src/region_deprecated.cpp.o\u001b[0m\n",
            "[ 85%] \u001b[32mBuilding CXX object CMakeFiles/lammps.dir/content/lammps/src/region_ellipsoid.cpp.o\u001b[0m\n",
            "[ 85%] \u001b[32mBuilding CXX object CMakeFiles/lammps.dir/content/lammps/src/region_intersect.cpp.o\u001b[0m\n",
            "[ 85%] \u001b[32mBuilding CXX object CMakeFiles/lammps.dir/content/lammps/src/region_plane.cpp.o\u001b[0m\n",
            "[ 85%] \u001b[32mBuilding CXX object CMakeFiles/lammps.dir/content/lammps/src/region_prism.cpp.o\u001b[0m\n",
            "[ 86%] \u001b[32mBuilding CXX object CMakeFiles/lammps.dir/content/lammps/src/region_sphere.cpp.o\u001b[0m\n",
            "[ 86%] \u001b[32mBuilding CXX object CMakeFiles/lammps.dir/content/lammps/src/region_union.cpp.o\u001b[0m\n",
            "[ 86%] \u001b[32mBuilding CXX object CMakeFiles/lammps.dir/content/lammps/src/replicate.cpp.o\u001b[0m\n",
            "[ 86%] \u001b[32mBuilding CXX object CMakeFiles/lammps.dir/content/lammps/src/rerun.cpp.o\u001b[0m\n",
            "[ 86%] \u001b[32mBuilding CXX object CMakeFiles/lammps.dir/content/lammps/src/reset_atoms_id.cpp.o\u001b[0m\n",
            "[ 87%] \u001b[32mBuilding CXX object CMakeFiles/lammps.dir/content/lammps/src/reset_atoms_image.cpp.o\u001b[0m\n",
            "[ 87%] \u001b[32mBuilding CXX object CMakeFiles/lammps.dir/content/lammps/src/reset_atoms_mol.cpp.o\u001b[0m\n",
            "[ 87%] \u001b[32mBuilding CXX object CMakeFiles/lammps.dir/content/lammps/src/respa.cpp.o\u001b[0m\n",
            "[ 87%] \u001b[32mBuilding CXX object CMakeFiles/lammps.dir/content/lammps/src/run.cpp.o\u001b[0m\n",
            "[ 87%] \u001b[32mBuilding CXX object CMakeFiles/lammps.dir/content/lammps/src/set.cpp.o\u001b[0m\n",
            "[ 87%] \u001b[32mBuilding CXX object CMakeFiles/lammps.dir/content/lammps/src/special.cpp.o\u001b[0m\n",
            "[ 88%] \u001b[32mBuilding CXX object CMakeFiles/lammps.dir/content/lammps/src/table_file_reader.cpp.o\u001b[0m\n",
            "[ 88%] \u001b[32mBuilding CXX object CMakeFiles/lammps.dir/content/lammps/src/tabular_function.cpp.o\u001b[0m\n",
            "[ 88%] \u001b[32mBuilding CXX object CMakeFiles/lammps.dir/content/lammps/src/text_file_reader.cpp.o\u001b[0m\n",
            "[ 88%] \u001b[32mBuilding CXX object CMakeFiles/lammps.dir/content/lammps/src/thermo.cpp.o\u001b[0m\n",
            "[ 88%] \u001b[32mBuilding CXX object CMakeFiles/lammps.dir/content/lammps/src/timer.cpp.o\u001b[0m\n",
            "[ 88%] \u001b[32mBuilding CXX object CMakeFiles/lammps.dir/content/lammps/src/tokenizer.cpp.o\u001b[0m\n",
            "[ 89%] \u001b[32mBuilding CXX object CMakeFiles/lammps.dir/content/lammps/src/universe.cpp.o\u001b[0m\n",
            "[ 89%] \u001b[32mBuilding CXX object CMakeFiles/lammps.dir/content/lammps/src/update.cpp.o\u001b[0m\n",
            "[ 89%] \u001b[32mBuilding CXX object CMakeFiles/lammps.dir/content/lammps/src/utils.cpp.o\u001b[0m\n",
            "[ 89%] \u001b[32mBuilding CXX object CMakeFiles/lammps.dir/content/lammps/src/variable.cpp.o\u001b[0m\n",
            "\u001b[01m\u001b[K/content/lammps/src/variable.cpp:\u001b[m\u001b[K In member function ‘\u001b[01m\u001b[Kint LAMMPS_NS::Variable::next(int, char**)\u001b[m\u001b[K’:\n",
            "\u001b[01m\u001b[K/content/lammps/src/variable.cpp:786:14:\u001b[m\u001b[K \u001b[01;35m\u001b[Kwarning: \u001b[m\u001b[Kignoring return value of ‘\u001b[01m\u001b[Ksize_t fread(void*, size_t, size_t, FILE*)\u001b[m\u001b[K’, declared with attribute warn_unused_result [\u001b[01;35m\u001b[K-Wunused-result\u001b[m\u001b[K]\n",
            "  786 |         \u001b[01;35m\u001b[Kfread(buf,1,64,fp)\u001b[m\u001b[K;\n",
            "      |         \u001b[01;35m\u001b[K~~~~~^~~~~~~~~~~~~\u001b[m\u001b[K\n",
            "[ 89%] \u001b[32mBuilding CXX object CMakeFiles/lammps.dir/content/lammps/src/velocity.cpp.o\u001b[0m\n",
            "[ 90%] \u001b[32mBuilding CXX object CMakeFiles/lammps.dir/content/lammps/src/verlet.cpp.o\u001b[0m\n",
            "[ 90%] \u001b[32mBuilding CXX object CMakeFiles/lammps.dir/content/lammps/src/write_coeff.cpp.o\u001b[0m\n",
            "[ 90%] \u001b[32mBuilding CXX object CMakeFiles/lammps.dir/content/lammps/src/write_data.cpp.o\u001b[0m\n",
            "[ 90%] \u001b[32mBuilding CXX object CMakeFiles/lammps.dir/content/lammps/src/write_dump.cpp.o\u001b[0m\n",
            "[ 90%] \u001b[32mBuilding CXX object CMakeFiles/lammps.dir/content/lammps/src/write_restart.cpp.o\u001b[0m\n",
            "[ 90%] \u001b[32mBuilding CXX object CMakeFiles/lammps.dir/cython/mliap_model_python_couple.cpp.o\u001b[0m\n",
            "[ 91%] \u001b[32mBuilding CXX object CMakeFiles/lammps.dir/cython/mliap_unified_couple.cpp.o\u001b[0m\n",
            "[ 91%] \u001b[32mBuilding CXX object CMakeFiles/lammps.dir/content/lammps/src/ML-IAP/compute_mliap.cpp.o\u001b[0m\n",
            "[ 91%] \u001b[32mBuilding CXX object CMakeFiles/lammps.dir/content/lammps/src/ML-IAP/mliap_data.cpp.o\u001b[0m\n",
            "[ 91%] \u001b[32mBuilding CXX object CMakeFiles/lammps.dir/content/lammps/src/ML-IAP/mliap_descriptor.cpp.o\u001b[0m\n",
            "[ 91%] \u001b[32mBuilding CXX object CMakeFiles/lammps.dir/content/lammps/src/ML-IAP/mliap_descriptor_snap.cpp.o\u001b[0m\n",
            "[ 92%] \u001b[32mBuilding CXX object CMakeFiles/lammps.dir/content/lammps/src/ML-IAP/mliap_descriptor_so3.cpp.o\u001b[0m\n",
            "[ 92%] \u001b[32mBuilding CXX object CMakeFiles/lammps.dir/content/lammps/src/ML-IAP/mliap_model.cpp.o\u001b[0m\n",
            "[ 92%] \u001b[32mBuilding CXX object CMakeFiles/lammps.dir/content/lammps/src/ML-IAP/mliap_model_linear.cpp.o\u001b[0m\n",
            "[ 92%] \u001b[32mBuilding CXX object CMakeFiles/lammps.dir/content/lammps/src/ML-IAP/mliap_model_nn.cpp.o\u001b[0m\n",
            "[ 92%] \u001b[32mBuilding CXX object CMakeFiles/lammps.dir/content/lammps/src/ML-IAP/mliap_model_python.cpp.o\u001b[0m\n",
            "[ 92%] \u001b[32mBuilding CXX object CMakeFiles/lammps.dir/content/lammps/src/ML-IAP/mliap_model_quadratic.cpp.o\u001b[0m\n",
            "[ 93%] \u001b[32mBuilding CXX object CMakeFiles/lammps.dir/content/lammps/src/ML-IAP/mliap_so3.cpp.o\u001b[0m\n",
            "[ 93%] \u001b[32mBuilding CXX object CMakeFiles/lammps.dir/content/lammps/src/ML-IAP/mliap_unified.cpp.o\u001b[0m\n",
            "[ 93%] \u001b[32mBuilding CXX object CMakeFiles/lammps.dir/content/lammps/src/ML-IAP/pair_mliap.cpp.o\u001b[0m\n",
            "[ 93%] \u001b[32mBuilding CXX object CMakeFiles/lammps.dir/content/lammps/src/ML-PACE/pair_pace.cpp.o\u001b[0m\n",
            "[ 93%] \u001b[32mBuilding CXX object CMakeFiles/lammps.dir/content/lammps/src/ML-PACE/pair_pace_extrapolation.cpp.o\u001b[0m\n",
            "[ 94%] \u001b[32mBuilding CXX object CMakeFiles/lammps.dir/content/lammps/src/ML-SNAP/compute_grid.cpp.o\u001b[0m\n",
            "[ 94%] \u001b[32mBuilding CXX object CMakeFiles/lammps.dir/content/lammps/src/ML-SNAP/compute_grid_local.cpp.o\u001b[0m\n",
            "[ 94%] \u001b[32mBuilding CXX object CMakeFiles/lammps.dir/content/lammps/src/ML-SNAP/compute_sna_atom.cpp.o\u001b[0m\n",
            "[ 94%] \u001b[32mBuilding CXX object CMakeFiles/lammps.dir/content/lammps/src/ML-SNAP/compute_sna_grid.cpp.o\u001b[0m\n",
            "[ 94%] \u001b[32mBuilding CXX object CMakeFiles/lammps.dir/content/lammps/src/ML-SNAP/compute_sna_grid_local.cpp.o\u001b[0m\n",
            "[ 94%] \u001b[32mBuilding CXX object CMakeFiles/lammps.dir/content/lammps/src/ML-SNAP/compute_snad_atom.cpp.o\u001b[0m\n",
            "[ 95%] \u001b[32mBuilding CXX object CMakeFiles/lammps.dir/content/lammps/src/ML-SNAP/compute_snap.cpp.o\u001b[0m\n",
            "[ 95%] \u001b[32mBuilding CXX object CMakeFiles/lammps.dir/content/lammps/src/ML-SNAP/compute_snav_atom.cpp.o\u001b[0m\n",
            "[ 95%] \u001b[32mBuilding CXX object CMakeFiles/lammps.dir/content/lammps/src/ML-SNAP/pair_snap.cpp.o\u001b[0m\n",
            "[ 95%] \u001b[32mBuilding CXX object CMakeFiles/lammps.dir/content/lammps/src/ML-SNAP/sna.cpp.o\u001b[0m\n",
            "[ 95%] \u001b[32mBuilding CXX object CMakeFiles/lammps.dir/content/lammps/src/PYTHON/fix_python_invoke.cpp.o\u001b[0m\n",
            "[ 95%] \u001b[32mBuilding CXX object CMakeFiles/lammps.dir/content/lammps/src/PYTHON/fix_python_move.cpp.o\u001b[0m\n",
            "[ 96%] \u001b[32mBuilding CXX object CMakeFiles/lammps.dir/content/lammps/src/PYTHON/pair_python.cpp.o\u001b[0m\n",
            "[ 96%] \u001b[32mBuilding CXX object CMakeFiles/lammps.dir/content/lammps/src/PYTHON/python_impl.cpp.o\u001b[0m\n",
            "[ 96%] \u001b[32mBuilding CXX object CMakeFiles/lammps.dir/content/lammps/src/SPIN/atom_vec_spin.cpp.o\u001b[0m\n",
            "[ 96%] \u001b[32mBuilding CXX object CMakeFiles/lammps.dir/content/lammps/src/SPIN/compute_spin.cpp.o\u001b[0m\n",
            "[ 96%] \u001b[32mBuilding CXX object CMakeFiles/lammps.dir/content/lammps/src/SPIN/fix_langevin_spin.cpp.o\u001b[0m\n",
            "[ 97%] \u001b[32mBuilding CXX object CMakeFiles/lammps.dir/content/lammps/src/SPIN/fix_neb_spin.cpp.o\u001b[0m\n",
            "[ 97%] \u001b[32mBuilding CXX object CMakeFiles/lammps.dir/content/lammps/src/SPIN/fix_nve_spin.cpp.o\u001b[0m\n",
            "[ 97%] \u001b[32mBuilding CXX object CMakeFiles/lammps.dir/content/lammps/src/SPIN/fix_precession_spin.cpp.o\u001b[0m\n",
            "[ 97%] \u001b[32mBuilding CXX object CMakeFiles/lammps.dir/content/lammps/src/SPIN/fix_setforce_spin.cpp.o\u001b[0m\n",
            "[ 97%] \u001b[32mBuilding CXX object CMakeFiles/lammps.dir/content/lammps/src/SPIN/min_spin.cpp.o\u001b[0m\n",
            "[ 97%] \u001b[32mBuilding CXX object CMakeFiles/lammps.dir/content/lammps/src/SPIN/min_spin_cg.cpp.o\u001b[0m\n",
            "[ 98%] \u001b[32mBuilding CXX object CMakeFiles/lammps.dir/content/lammps/src/SPIN/min_spin_lbfgs.cpp.o\u001b[0m\n",
            "[ 98%] \u001b[32mBuilding CXX object CMakeFiles/lammps.dir/content/lammps/src/SPIN/neb_spin.cpp.o\u001b[0m\n",
            "[ 98%] \u001b[32mBuilding CXX object CMakeFiles/lammps.dir/content/lammps/src/SPIN/pair_spin.cpp.o\u001b[0m\n",
            "[ 98%] \u001b[32mBuilding CXX object CMakeFiles/lammps.dir/content/lammps/src/SPIN/pair_spin_dipole_cut.cpp.o\u001b[0m\n",
            "[ 98%] \u001b[32mBuilding CXX object CMakeFiles/lammps.dir/content/lammps/src/SPIN/pair_spin_dipole_long.cpp.o\u001b[0m\n",
            "[100%] \u001b[32mBuilding CXX object CMakeFiles/lammps.dir/content/lammps/src/SPIN/pair_spin_dmi.cpp.o\u001b[0m\n",
            "[100%] \u001b[32mBuilding CXX object CMakeFiles/lammps.dir/content/lammps/src/SPIN/pair_spin_exchange.cpp.o\u001b[0m\n",
            "[100%] \u001b[32mBuilding CXX object CMakeFiles/lammps.dir/content/lammps/src/SPIN/pair_spin_exchange_biquadratic.cpp.o\u001b[0m\n",
            "[100%] \u001b[32mBuilding CXX object CMakeFiles/lammps.dir/content/lammps/src/SPIN/pair_spin_magelec.cpp.o\u001b[0m\n",
            "[100%] \u001b[32mBuilding CXX object CMakeFiles/lammps.dir/content/lammps/src/SPIN/pair_spin_neel.cpp.o\u001b[0m\n",
            "[100%] \u001b[32m\u001b[1mLinking CXX shared library liblammps.so\u001b[0m\n",
            "[100%] Built target lammps\n",
            "[100%] \u001b[32mBuilding CXX object CMakeFiles/lmp.dir/content/lammps/src/main.cpp.o\u001b[0m\n",
            "[100%] \u001b[32m\u001b[1mLinking CXX executable lmp\u001b[0m\n",
            "[100%] Built target lmp\n",
            "[100%] \u001b[34m\u001b[1mInstalling LAMMPS Python module\u001b[0m\n",
            "Purging existing wheels...\n",
            "\n",
            "Looking in indexes: https://pypi.org/simple, https://us-python.pkg.dev/colab-wheels/public/simple/\n",
            "Requirement already satisfied: pip in ./buildwheel/lib/python3.10/site-packages (23.0.1)\n",
            "Collecting pip\n",
            "  Downloading pip-23.1.2-py3-none-any.whl (2.1 MB)\n",
            "\u001b[2K     \u001b[90m━━━━━━━━━━━━━━━━━━━━━━━━━━━━━━━━━━━━━━━━\u001b[0m \u001b[32m2.1/2.1 MB\u001b[0m \u001b[31m25.6 MB/s\u001b[0m eta \u001b[36m0:00:00\u001b[0m\n",
            "\u001b[?25hInstalling collected packages: pip\n",
            "  Attempting uninstall: pip\n",
            "    Found existing installation: pip 23.0.1\n",
            "    Uninstalling pip-23.0.1:\n",
            "      Successfully uninstalled pip-23.0.1\n",
            "Successfully installed pip-23.1.2\n",
            "Looking in indexes: https://pypi.org/simple, https://us-python.pkg.dev/colab-wheels/public/simple/\n",
            "Requirement already satisfied: pip in ./buildwheel/lib/python3.10/site-packages (from -r wheel_requirements.txt (line 1)) (23.1.2)\n",
            "Collecting build (from -r wheel_requirements.txt (line 2))\n",
            "  Downloading build-0.10.0-py3-none-any.whl (17 kB)\n",
            "Collecting wheel (from -r wheel_requirements.txt (line 3))\n",
            "  Using cached wheel-0.40.0-py3-none-any.whl (64 kB)\n",
            "Requirement already satisfied: setuptools in ./buildwheel/lib/python3.10/site-packages (from -r wheel_requirements.txt (line 4)) (65.5.0)\n",
            "Collecting setuptools (from -r wheel_requirements.txt (line 4))\n",
            "  Using cached setuptools-67.8.0-py3-none-any.whl (1.1 MB)\n",
            "Collecting packaging>=19.0 (from build->-r wheel_requirements.txt (line 2))\n",
            "  Downloading packaging-23.1-py3-none-any.whl (48 kB)\n",
            "\u001b[2K     \u001b[90m━━━━━━━━━━━━━━━━━━━━━━━━━━━━━━━━━━━━━━━━\u001b[0m \u001b[32m48.9/48.9 kB\u001b[0m \u001b[31m3.2 MB/s\u001b[0m eta \u001b[36m0:00:00\u001b[0m\n",
            "\u001b[?25hCollecting pyproject_hooks (from build->-r wheel_requirements.txt (line 2))\n",
            "  Downloading pyproject_hooks-1.0.0-py3-none-any.whl (9.3 kB)\n",
            "Collecting tomli>=1.1.0 (from build->-r wheel_requirements.txt (line 2))\n",
            "  Downloading tomli-2.0.1-py3-none-any.whl (12 kB)\n",
            "Installing collected packages: wheel, tomli, setuptools, packaging, pyproject_hooks, build\n",
            "  Attempting uninstall: setuptools\n",
            "    Found existing installation: setuptools 65.5.0\n",
            "    Uninstalling setuptools-65.5.0:\n",
            "      Successfully uninstalled setuptools-65.5.0\n",
            "Successfully installed build-0.10.0 packaging-23.1 pyproject_hooks-1.0.0 setuptools-67.8.0 tomli-2.0.1 wheel-0.40.0\n",
            "Building new binary wheel\n",
            "\u001b[1m* Getting build dependencies for wheel...\u001b[0m\n",
            "running egg_info\n",
            "creating lammps.egg-info\n",
            "writing lammps.egg-info/PKG-INFO\n",
            "writing dependency_links to lammps.egg-info/dependency_links.txt\n",
            "writing top-level names to lammps.egg-info/top_level.txt\n",
            "writing manifest file 'lammps.egg-info/SOURCES.txt'\n",
            "reading manifest file 'lammps.egg-info/SOURCES.txt'\n",
            "writing manifest file 'lammps.egg-info/SOURCES.txt'\n",
            "\u001b[1m* Building wheel...\u001b[0m\n",
            "running bdist_wheel\n",
            "running build\n",
            "running build_py\n",
            "creating build\n",
            "creating build/lib.linux-x86_64-cpython-310\n",
            "creating build/lib.linux-x86_64-cpython-310/lammps\n",
            "copying lammps/core.py -> build/lib.linux-x86_64-cpython-310/lammps\n",
            "copying lammps/pylammps.py -> build/lib.linux-x86_64-cpython-310/lammps\n",
            "copying lammps/constants.py -> build/lib.linux-x86_64-cpython-310/lammps\n",
            "copying lammps/numpy_wrapper.py -> build/lib.linux-x86_64-cpython-310/lammps\n",
            "copying lammps/formats.py -> build/lib.linux-x86_64-cpython-310/lammps\n",
            "copying lammps/data.py -> build/lib.linux-x86_64-cpython-310/lammps\n",
            "copying lammps/__init__.py -> build/lib.linux-x86_64-cpython-310/lammps\n",
            "creating build/lib.linux-x86_64-cpython-310/lammps/mliap\n",
            "copying lammps/mliap/loader.py -> build/lib.linux-x86_64-cpython-310/lammps/mliap\n",
            "copying lammps/mliap/mliap_unified_abc.py -> build/lib.linux-x86_64-cpython-310/lammps/mliap\n",
            "copying lammps/mliap/mliap_unified_lj.py -> build/lib.linux-x86_64-cpython-310/lammps/mliap\n",
            "copying lammps/mliap/pytorch.py -> build/lib.linux-x86_64-cpython-310/lammps/mliap\n",
            "copying lammps/mliap/__init__.py -> build/lib.linux-x86_64-cpython-310/lammps/mliap\n",
            "copying lammps/liblammps.so -> build/lib.linux-x86_64-cpython-310/lammps\n",
            "running build_ext\n",
            "installing to build/bdist.linux-x86_64/wheel\n",
            "running install\n",
            "running install_lib\n",
            "creating build/bdist.linux-x86_64\n",
            "creating build/bdist.linux-x86_64/wheel\n",
            "creating build/bdist.linux-x86_64/wheel/lammps\n",
            "copying build/lib.linux-x86_64-cpython-310/lammps/core.py -> build/bdist.linux-x86_64/wheel/lammps\n",
            "copying build/lib.linux-x86_64-cpython-310/lammps/pylammps.py -> build/bdist.linux-x86_64/wheel/lammps\n",
            "copying build/lib.linux-x86_64-cpython-310/lammps/liblammps.so -> build/bdist.linux-x86_64/wheel/lammps\n",
            "copying build/lib.linux-x86_64-cpython-310/lammps/constants.py -> build/bdist.linux-x86_64/wheel/lammps\n",
            "copying build/lib.linux-x86_64-cpython-310/lammps/numpy_wrapper.py -> build/bdist.linux-x86_64/wheel/lammps\n",
            "copying build/lib.linux-x86_64-cpython-310/lammps/formats.py -> build/bdist.linux-x86_64/wheel/lammps\n",
            "creating build/bdist.linux-x86_64/wheel/lammps/mliap\n",
            "copying build/lib.linux-x86_64-cpython-310/lammps/mliap/loader.py -> build/bdist.linux-x86_64/wheel/lammps/mliap\n",
            "copying build/lib.linux-x86_64-cpython-310/lammps/mliap/mliap_unified_abc.py -> build/bdist.linux-x86_64/wheel/lammps/mliap\n",
            "copying build/lib.linux-x86_64-cpython-310/lammps/mliap/mliap_unified_lj.py -> build/bdist.linux-x86_64/wheel/lammps/mliap\n",
            "copying build/lib.linux-x86_64-cpython-310/lammps/mliap/pytorch.py -> build/bdist.linux-x86_64/wheel/lammps/mliap\n",
            "copying build/lib.linux-x86_64-cpython-310/lammps/mliap/__init__.py -> build/bdist.linux-x86_64/wheel/lammps/mliap\n",
            "copying build/lib.linux-x86_64-cpython-310/lammps/data.py -> build/bdist.linux-x86_64/wheel/lammps\n",
            "copying build/lib.linux-x86_64-cpython-310/lammps/__init__.py -> build/bdist.linux-x86_64/wheel/lammps\n",
            "running install_egg_info\n",
            "running egg_info\n",
            "writing lammps.egg-info/PKG-INFO\n",
            "writing dependency_links to lammps.egg-info/dependency_links.txt\n",
            "writing top-level names to lammps.egg-info/top_level.txt\n",
            "reading manifest file 'lammps.egg-info/SOURCES.txt'\n",
            "writing manifest file 'lammps.egg-info/SOURCES.txt'\n",
            "Copying lammps.egg-info to build/bdist.linux-x86_64/wheel/lammps-2023.6.15-py3.10.egg-info\n",
            "running install_scripts\n",
            "creating build/bdist.linux-x86_64/wheel/lammps-2023.6.15.dist-info/WHEEL\n",
            "creating '/content/lammps/build/build-python/.tmp-mjhsz1hj/lammps-2023.6.15-cp310-cp310-linux_x86_64.whl' and adding 'build/bdist.linux-x86_64/wheel' to it\n",
            "adding 'lammps/__init__.py'\n",
            "adding 'lammps/constants.py'\n",
            "adding 'lammps/core.py'\n",
            "adding 'lammps/data.py'\n",
            "adding 'lammps/formats.py'\n",
            "adding 'lammps/liblammps.so'\n",
            "adding 'lammps/numpy_wrapper.py'\n",
            "adding 'lammps/pylammps.py'\n",
            "adding 'lammps/mliap/__init__.py'\n",
            "adding 'lammps/mliap/loader.py'\n",
            "adding 'lammps/mliap/mliap_unified_abc.py'\n",
            "adding 'lammps/mliap/mliap_unified_lj.py'\n",
            "adding 'lammps/mliap/pytorch.py'\n",
            "adding 'lammps-2023.6.15.dist-info/METADATA'\n",
            "adding 'lammps-2023.6.15.dist-info/WHEEL'\n",
            "adding 'lammps-2023.6.15.dist-info/top_level.txt'\n",
            "adding 'lammps-2023.6.15.dist-info/RECORD'\n",
            "removing build/bdist.linux-x86_64/wheel\n",
            "\u001b[1m\u001b[92mSuccessfully built \u001b[4mlammps-2023.6.15-cp310-cp310-linux_x86_64.whl\u001b[0m\u001b[1m\u001b[92m\u001b[0m\n",
            "wheel =  lammps-2023.6.15-cp310-cp310-linux_x86_64.whl\n",
            "Installing wheel into system site-packages folder\n",
            "Looking in indexes: https://pypi.org/simple, https://us-python.pkg.dev/colab-wheels/public/simple/\n",
            "Processing ./lammps-2023.6.15-cp310-cp310-linux_x86_64.whl\n",
            "Installing collected packages: lammps\n",
            "Successfully installed lammps-2023.6.15\n",
            "\n",
            "[100%] Built target install-python\n",
            "/content\n",
            "Cloning into 'FitSNAP'...\n",
            "remote: Enumerating objects: 40160, done.\u001b[K\n",
            "remote: Counting objects: 100% (2727/2727), done.\u001b[K\n",
            "remote: Compressing objects: 100% (925/925), done.\u001b[K\n",
            "remote: Total 40160 (delta 1894), reused 2401 (delta 1774), pack-reused 37433\u001b[K\n",
            "Receiving objects: 100% (40160/40160), 237.34 MiB | 18.26 MiB/s, done.\n",
            "Resolving deltas: 100% (18451/18451), done.\n",
            "Updating files: 100% (31118/31118), done.\n",
            "/bin/bash: /env/python: No such file or directory\n",
            "env: PYTHONPATH=/env/python:/bin/bash:\n",
            "env: LD_LIBRARY_PATH=/usr/local/nvidia/lib:/usr/local/nvidia/lib64:/content/lammps/build\n",
            "/content/FitSNAP\n"
          ]
        }
      ],
      "source": [
        "# Install LAMMPS with Python interface.\n",
        "\n",
        "!apt-get update\n",
        "!apt install -y cmake build-essential git ccache openmpi-bin libopenmpi-dev python3.10-venv\n",
        "!pip install --upgrade pip\n",
        "!pip install numpy torch scipy virtualenv psutil pandas tabulate mpi4py Cython sklearn\n",
        "!pip install ase\n",
        "!pip install fitsnap3\n",
        "%cd /content\n",
        "!rm -rf lammps\n",
        "!git clone https://github.com/lammps/lammps.git lammps\n",
        "%cd /content/lammps\n",
        "!rm -rf build\n",
        "!mkdir build\n",
        "%cd build\n",
        "!cmake ../cmake -DLAMMPS_EXCEPTIONS=yes \\\n",
        "               -DBUILD_SHARED_LIBS=yes \\\n",
        "               -DMLIAP_ENABLE_PYTHON=yes \\\n",
        "               -DPKG_PYTHON=yes \\\n",
        "               -DPKG_ML-SNAP=yes \\\n",
        "               -DPKG_ML-IAP=yes \\\n",
        "               -DPKG_ML-PACE=yes \\\n",
        "               -DPKG_SPIN=yes \\\n",
        "               -DPYTHON_EXECUTABLE:FILEPATH=`which python`\n",
        "!make -j 2\n",
        "!make install-python\n",
        "\n",
        "# Install FitSNAP.\n",
        "\n",
        "%cd /content\n",
        "!rm -rf FitSNAP\n",
        "!git clone https://github.com/FitSNAP/FitSNAP\n",
        "#!git clone -b collected-changes https://github.com/rohskopf/FitSNAP\n",
        "\n",
        "# Set environment variables.\n",
        "\n",
        "!$PYTHONPATH\n",
        "%env PYTHONPATH=/env/python:/bin/bash:\n",
        "%env LD_LIBRARY_PATH=/usr/local/nvidia/lib:/usr/local/nvidia/lib64:/content/lammps/build\n",
        "\n",
        "# Move into FitSNAP directory\n",
        "%cd FitSNAP"
      ]
    },
    {
      "cell_type": "markdown",
      "metadata": {
        "id": "ruLaphHFc2Il"
      },
      "source": [
        "# Check if Python LAMMPS is working"
      ]
    },
    {
      "cell_type": "code",
      "execution_count": 3,
      "metadata": {
        "colab": {
          "base_uri": "https://localhost:8080/"
        },
        "id": "gwDqPWUfcyPl",
        "outputId": "a90afee9-ccb1-4182-ebb4-c9c87df940ce"
      },
      "outputs": [
        {
          "output_type": "stream",
          "name": "stdout",
          "text": [
            "<lammps.core.lammps object at 0x7fd941263c70>\n"
          ]
        }
      ],
      "source": [
        "import lammps\n",
        "lmp = lammps.lammps()\n",
        "print(lmp)"
      ]
    },
    {
      "cell_type": "markdown",
      "metadata": {
        "id": "qUtya2a7e7Hm"
      },
      "source": [
        "# Basic use"
      ]
    },
    {
      "cell_type": "markdown",
      "metadata": {
        "id": "AapOHPRQe7Hn"
      },
      "source": [
        "Necessary imports:"
      ]
    },
    {
      "cell_type": "code",
      "execution_count": 36,
      "metadata": {
        "id": "P6HEThYJe7Hn"
      },
      "outputs": [],
      "source": [
        "from mpi4py import MPI\n",
        "import numpy as np\n",
        "from fitsnap3lib.fitsnap import FitSnap"
      ]
    },
    {
      "cell_type": "markdown",
      "metadata": {
        "id": "DAbP_xR7e7Ho"
      },
      "source": [
        "Then set up a communicator. In this simple example we will use the world communicator, which will actually get chosen by default if you optionally choose to not specify a communicator. Important points on parallelism:\n",
        "\n",
        "- To take advantage of MPI processes, you must put these lines in a script and run like `mpirun -np P script.py`.\n",
        "- Examples of this are shown in the `examples/library` directory."
      ]
    },
    {
      "cell_type": "code",
      "execution_count": 37,
      "metadata": {
        "id": "YY6BHHu7e7Hp"
      },
      "outputs": [],
      "source": [
        "# Set up your communicator.\n",
        "comm = MPI.COMM_WORLD"
      ]
    },
    {
      "cell_type": "markdown",
      "metadata": {
        "id": "H4e2CqPhe7Hq"
      },
      "source": [
        "The first mandatory step is to create input containing desired settings. These settings include everything from which descriptors to calculate, descriptor settings, which solver to use in performing a fit, how to separate the data into groups, and other options.\n",
        "\n",
        "Import points on input settings:\n",
        "- `settings` can be a dictionary defined like below, or a path to a traditional FitSNAP input script like `/path/to/Ta-example.in`.\n",
        "- Some sections are not required. E.g.\n",
        "    - `SCRAPER` is only required if you want to use native file scrapers.\n",
        "    - `SOLVER` is only required if you want to use native model solvers and error analysis.\n",
        "    - `GROUPS` is only required if you want to define groups of configurations with names and loss function weights."
      ]
    },
    {
      "cell_type": "code",
      "execution_count": 55,
      "metadata": {
        "id": "mDspMLG6e7Hq"
      },
      "outputs": [],
      "source": [
        "# Create an input dictionary containing settings.\n",
        "\n",
        "settings = \\\n",
        "{\n",
        "\"BISPECTRUM\":\n",
        "    {\n",
        "    \"numTypes\": 1,\n",
        "    \"twojmax\": 6,\n",
        "    \"rcutfac\": 4.67637,\n",
        "    \"rfac0\": 0.99363,\n",
        "    \"rmin0\": 0.0,\n",
        "    \"wj\": 1.0,\n",
        "    \"radelem\": 0.5,\n",
        "    \"type\": \"Ta\",\n",
        "    \"wselfallflag\": 0,\n",
        "    \"chemflag\": 0,\n",
        "    \"bzeroflag\": 0,\n",
        "    \"quadraticflag\": 0,\n",
        "    },\n",
        "\"CALCULATOR\":\n",
        "    {\n",
        "    \"calculator\": \"LAMMPSSNAP\",\n",
        "    \"energy\": 1,\n",
        "    \"force\": 1,\n",
        "    \"stress\": 1\n",
        "    },\n",
        "\"ESHIFT\":\n",
        "    {\n",
        "    \"Ta\": 0.0\n",
        "    },\n",
        "\"SOLVER\":\n",
        "    {\n",
        "    \"solver\": \"SVD\",\n",
        "    \"compute_testerrs\": 1,\n",
        "    \"detailed_errors\": 1\n",
        "    },\n",
        "\"SCRAPER\":\n",
        "    {\n",
        "    \"scraper\": \"JSON\"\n",
        "    },\n",
        "\"PATH\":\n",
        "    {\n",
        "    \"dataPath\": \"examples/Ta_Linear_JCP2014/JSON\"\n",
        "    },\n",
        "\"OUTFILE\":\n",
        "    {\n",
        "    \"metrics\": \"Ta_metrics.md\",\n",
        "    \"potential\": \"Ta_pot\"\n",
        "    },\n",
        "\"REFERENCE\":\n",
        "    {\n",
        "    \"units\": \"metal\",\n",
        "    \"atom_style\": \"atomic\",\n",
        "    \"pair_style\": \"hybrid/overlay zero 10.0 zbl 4.0 4.8\",\n",
        "    \"pair_coeff1\": \"* * zero\",\n",
        "    \"pair_coeff2\": \"* * zbl 73 73\"\n",
        "    },\n",
        "\"EXTRAS\":\n",
        "    {\n",
        "    \"dump_dataframe\": 1\n",
        "    },\n",
        "\"GROUPS\":\n",
        "    {\n",
        "    \"group_sections\": \"name training_size testing_size eweight fweight vweight\",\n",
        "    \"group_types\": \"str float float float float float\",\n",
        "    \"smartweights\": 0,\n",
        "    \"random_sampling\": 0,\n",
        "    \"Displaced_A15\" :  \"0.8    0.2       100             1               1.00E-08\",\n",
        "    \"Displaced_BCC\" :  \"0.8    0.2       100             1               1.00E-08\",\n",
        "    \"Displaced_FCC\" :  \"0.8    0.2       100             1               1.00E-08\",\n",
        "    \"Elastic_BCC\"   :  \"0.8    0.2     1.00E-08        1.00E-08        0.0001\",\n",
        "    \"Elastic_FCC\"   :  \"0.8    0.2     1.00E-09        1.00E-09        1.00E-09\",\n",
        "    \"GSF_110\"       :  \"0.8    0.2      100             1               1.00E-08\",\n",
        "    \"GSF_112\"       :  \"0.8   0.2      100             1               1.00E-08\",\n",
        "    \"Liquid\"        :  \"0.8    0.2       4.67E+02        1               1.00E-08\",\n",
        "    \"Surface\"       :  \"0.8    0.2       100             1               1.00E-08\",\n",
        "    \"Volume_A15\"    :  \"0.8    0.2      1.00E+00        1.00E-09        1.00E-09\",\n",
        "    \"Volume_BCC\"    :  \"0.8   0.2      1.00E+00        1.00E-09        1.00E-09\",\n",
        "    \"Volume_FCC\"    :  \"0.8    0.2      1.00E+00        1.00E-09        1.00E-09\"\n",
        "    }\n",
        "}"
      ]
    },
    {
      "cell_type": "markdown",
      "metadata": {
        "id": "PrCdTW41e7Hr"
      },
      "source": [
        "Create an instance of `fitsnap` by feeding this input dictionary, along with the optional communicator, into the `FitSnap` class."
      ]
    },
    {
      "cell_type": "code",
      "execution_count": 56,
      "metadata": {
        "id": "KJ7giGXPe7Hr"
      },
      "outputs": [],
      "source": [
        "fs = FitSnap(settings, comm=comm, arglist=[\"--overwrite\"])"
      ]
    },
    {
      "cell_type": "code",
      "source": [
        "fs.config"
      ],
      "metadata": {
        "colab": {
          "base_uri": "https://localhost:8080/"
        },
        "id": "eOUAgnAR3SnH",
        "outputId": "8e6e76e8-6df2-4665-c4c0-d710b6e41fc1"
      },
      "execution_count": 57,
      "outputs": [
        {
          "output_type": "execute_result",
          "data": {
            "text/plain": [
              "<fitsnap3lib.io.input.Config at 0x7fd80a889e70>"
            ]
          },
          "metadata": {},
          "execution_count": 57
        }
      ]
    },
    {
      "cell_type": "markdown",
      "metadata": {
        "id": "wysY0x73e7Hs"
      },
      "source": [
        "This creates a `fitsnap` instance which contains its own data, such as shared and distributed memory arrays in `fitsnap.pt`, and input settings in `fitsnap.config`. The shared and distributed memory arrays are associated with all processes in the supplied communicator `comm`."
      ]
    },
    {
      "cell_type": "markdown",
      "metadata": {
        "id": "h7NxHgsQe7Hs"
      },
      "source": [
        "Now we can use high-level library functions to perform a fit, with the following steps:\n",
        "1. Scrape data to fit to. This is parallelized over all processes in `comm` with data stored in the `fitsnap.data` dictionary. Each MPI process has a different list of `data` dictionaries.\n",
        "2. Calculate descriptors. This is parallelized over all processes in `comm` by operating on each configuration in `fitsnap.data`.\n",
        "3. Fit potential. This is not parallelized over processes in most basic examples, e.g. the SVD solver will use all the data in a shared array on rank 0, and perform a simple least squares fit."
      ]
    },
    {
      "cell_type": "markdown",
      "metadata": {
        "id": "oyjNWC9fe7Hs"
      },
      "source": [
        "### 1. Scrape data"
      ]
    },
    {
      "cell_type": "markdown",
      "metadata": {
        "id": "LAGR44Zte7Hs"
      },
      "source": [
        "This step collects data (configurations of atoms) and injects it into a list of `FitSnap` data dictionaries. Users are\n",
        "free to do this manually using their own formats. We will explore this option later in the tutorial. Here we provide a native\n",
        "high-level function `scrape_functions()` for this purpose. As an instance owned function, `scrape_configs()` will scrape\n",
        "according to the previously input `settings`. Most high-level functions in `FitSnap` act the same way; the `settings`\n",
        "determine the state of a `FitSnap` instance which then determines the behavior of the high-level functions."
      ]
    },
    {
      "cell_type": "code",
      "execution_count": 58,
      "metadata": {
        "id": "s58TwEB6e7Hs",
        "outputId": "0f0027bc-89c4-48aa-f025-91634680553a",
        "colab": {
          "base_uri": "https://localhost:8080/"
        }
      },
      "outputs": [
        {
          "output_type": "stream",
          "name": "stdout",
          "text": [
            "'scrape_configs' took 452.83 ms on rank 0\n"
          ]
        }
      ],
      "source": [
        "fs.scrape_configs()"
      ]
    },
    {
      "cell_type": "markdown",
      "metadata": {
        "id": "CjVSITNJe7Hu"
      },
      "source": [
        "This generates a list of `FitSnap` data dictionaries:"
      ]
    },
    {
      "cell_type": "code",
      "execution_count": 59,
      "metadata": {
        "id": "VA7QI5AJe7Hu",
        "outputId": "9c650874-5088-4ae8-c983-a73a300f3d11",
        "colab": {
          "base_uri": "https://localhost:8080/"
        }
      },
      "outputs": [
        {
          "output_type": "stream",
          "name": "stdout",
          "text": [
            "363\n"
          ]
        }
      ],
      "source": [
        "print(len(fs.data))"
      ]
    },
    {
      "cell_type": "markdown",
      "metadata": {
        "id": "dpEzoIBYe7Hu"
      },
      "source": [
        "Each dictionary is formated like:"
      ]
    },
    {
      "cell_type": "code",
      "source": [
        "from jarvis.core.atoms import Atoms as JAtoms\n",
        "def fs_to_jatoms(fs_entry=[]):\n",
        "  elements=fs_entry['AtomTypes']\n",
        "  cart_coords=fs_entry['Positions']\n",
        "  lattice_mat=fs_entry['Lattice']\n",
        "  atoms=JAtoms(elements=elements,coords=cart_coords,lattice_mat=lattice_mat,cartesian=True)\n",
        "  return atoms\n"
      ],
      "metadata": {
        "id": "NbpJPwHr4rZk"
      },
      "execution_count": 60,
      "outputs": []
    },
    {
      "cell_type": "code",
      "source": [
        "atms = fs_to_jatoms(fs.data[0])"
      ],
      "metadata": {
        "id": "jQz5K75W5W-_"
      },
      "execution_count": 61,
      "outputs": []
    },
    {
      "cell_type": "code",
      "source": [
        "atms\n"
      ],
      "metadata": {
        "colab": {
          "base_uri": "https://localhost:8080/"
        },
        "id": "sGrqQVrg5bCX",
        "outputId": "de56587d-cd16-4f7e-9edf-e63e96699232"
      },
      "execution_count": 62,
      "outputs": [
        {
          "output_type": "execute_result",
          "data": {
            "text/plain": [
              "Ta64\n",
              "1.0\n",
              "10.6000003815 0.0 0.0\n",
              "0.0 10.6000003815 0.0\n",
              "0.0 0.0 10.6000003815\n",
              "Ta\n",
              "64\n",
              "Cartesian\n",
              "0.00046 10.54735 10.589320000000003\n",
              "6.564150000000001 8.01596 10.54595\n",
              "9.3142 8.00708 0.07335000000000001\n",
              "5.28371 6.62455 2.60926\n",
              "5.365 9.35513 2.65232\n",
              "7.994210000000001 5.272850000000001 1.26512\n",
              "7.936770000000001 5.32858 3.9651400000000003\n",
              "5.298310000000001 0.06384 5.34991\n",
              "7.981010000000001 2.63404 7.9256\n",
              "6.686870000000001 2.58375 5.27465\n",
              "9.31724 2.5934500000000003 5.36746\n",
              "5.30469 1.39236 7.900550000000001\n",
              "5.36637 3.9647400000000004 7.94588\n",
              "7.968520000000001 10.544160000000002 6.595420000000001\n",
              "8.0183 7.9703100000000004 2.5795900000000005\n",
              "8.015530000000002 0.03504000000000001 9.33832\n",
              "2.6718500000000005 7.9987900000000005 7.94992\n",
              "1.3242500000000001 7.976250000000001 5.27971\n",
              "3.9968500000000002 7.991850000000001 5.33585\n",
              "0.00789 6.579790000000001 7.982410000000001\n",
              "10.562580000000002 9.24146 7.928210000000001\n",
              "2.62183 5.25654 6.57113\n",
              "2.62673 5.246950000000001 9.20881\n",
              "5.2818000000000005 5.284620000000001 5.325660000000001\n",
              "7.951270000000001 7.970980000000001 7.895660000000001\n",
              "6.6988900000000005 8.005060000000002 5.301130000000001\n",
              "9.22006 8.022170000000001 5.331190000000001\n",
              "5.3507 6.6490800000000005 7.934340000000001\n",
              "5.22906 9.26778 7.998240000000001\n",
              "10.53751 5.2766 5.330190000000001\n",
              "5.343000000000001 5.33735 10.58109\n",
              "2.5998200000000002 0.05852000000000001 9.25312\n",
              "2.6074300000000004 10.5971 6.59487\n",
              "2.73129 2.71027 2.64805\n",
              "1.30416 2.70676 0.05081000000000001\n",
              "3.9224 2.56802 0.05914\n",
              "10.527540000000002 1.32714 2.64946\n",
              "10.589170000000001 3.98207 2.6254800000000005\n",
              "2.6479200000000005 0.024520000000000004 1.3808100000000003\n",
              "2.59488 0.05512000000000001 3.95199\n",
              "5.22138 10.52799 0.03746\n",
              "7.886340000000001 2.63138 2.6199600000000003\n",
              "6.694520000000001 2.7219000000000007 0.06773\n",
              "9.21373 2.7101400000000004 0.058620000000000005\n",
              "5.3281 1.39418 2.60417\n",
              "5.2637 3.95414 2.69271\n",
              "7.9079500000000005 0.06254 1.3938300000000001\n",
              "7.945110000000001 10.51799 3.98105\n",
              "10.57577 5.37732 10.54307\n",
              "2.70528 7.9200800000000005 2.71672\n",
              "1.40108 7.96156 10.562620000000003\n",
              "3.9425900000000005 7.88815 10.51865\n",
              "0.05295 6.617990000000001 2.66959\n",
              "0.0041 9.32626 2.6083100000000004\n",
              "2.6681900000000005 5.248 1.3413100000000002\n",
              "2.5713400000000006 5.28818 3.8930200000000004\n",
              "0.08271 0.0036 5.298440000000001\n",
              "2.56753 2.7078100000000003 8.0214\n",
              "1.30891 2.64281 5.34837\n",
              "3.9618700000000002 2.7311900000000002 5.279730000000001\n",
              "1.0000000000000003e-05 1.3185400000000003 7.919300000000001\n",
              "10.580620000000001 3.9454600000000006 7.96883\n",
              "7.962630000000001 5.26515 6.663220000000001\n",
              "8.00683 5.33642 9.24793"
            ]
          },
          "metadata": {},
          "execution_count": 62
        }
      ]
    },
    {
      "cell_type": "markdown",
      "source": [
        "Convert dataset in JARVIS-Atoms format"
      ],
      "metadata": {
        "id": "S1iYCp0w829v"
      }
    },
    {
      "cell_type": "code",
      "source": [
        "from jarvis.db.jsonutils import dumpjson\n",
        "mem=[]\n",
        "for ii,i in enumerate(fs.data):\n",
        "  ta_id='Ta_fit_'+str(ii)\n",
        "  atms = fs_to_jatoms(i)\n",
        "  info={}\n",
        "  info['atoms']=atms.to_dict()\n",
        "  info['id']=ta_id\n",
        "  info['energy']=i['Energy']\n",
        "  info['energy_per_atom']=i['Energy']/atms.num_atoms\n",
        "  info['forces']=i['Forces'].tolist()\n",
        "  info['stress']=i['Stress'].tolist()\n",
        "  mem.append(info)\n"
      ],
      "metadata": {
        "id": "_wAw7ofR58mU"
      },
      "execution_count": 63,
      "outputs": []
    },
    {
      "cell_type": "code",
      "source": [
        "dumpjson(data=mem,filename='ta_fitsnap.json')"
      ],
      "metadata": {
        "id": "0weX0Cv96_iR"
      },
      "execution_count": 64,
      "outputs": []
    },
    {
      "cell_type": "code",
      "execution_count": 65,
      "metadata": {
        "id": "e4wdI_Gye7Hu",
        "outputId": "7ed77c54-b1e9-4cc8-b5df-c02ab7707cc2",
        "colab": {
          "base_uri": "https://localhost:8080/"
        }
      },
      "outputs": [
        {
          "output_type": "stream",
          "name": "stdout",
          "text": [
            "{'PositionsStyle': 'angstrom', 'AtomTypeStyle': 'chemicalsymbol', 'StressStyle': 'bar', 'LatticeStyle': 'angstrom', 'EnergyStyle': 'electronvolt', 'ForcesStyle': 'electronvoltperangstrom', 'File': 'A15_3.json', 'Group': 'Displaced_A15', 'Stress': array([[23907.05,   444.79,  -765.15],\n",
            "       [  444.79, 24515.94,   375.59],\n",
            "       [ -765.15,   375.59, 27487.83]]), 'Positions': array([[4.600000e-04, 1.054735e+01, 1.058932e+01],\n",
            "       [2.731290e+00, 2.710270e+00, 2.648050e+00],\n",
            "       [1.304160e+00, 2.706760e+00, 5.081000e-02],\n",
            "       [3.922400e+00, 2.568020e+00, 5.914000e-02],\n",
            "       [1.052754e+01, 1.327140e+00, 2.649460e+00],\n",
            "       [1.058917e+01, 3.982070e+00, 2.625480e+00],\n",
            "       [2.647920e+00, 2.452000e-02, 1.380810e+00],\n",
            "       [2.594880e+00, 5.512000e-02, 3.951990e+00],\n",
            "       [5.221380e+00, 1.052799e+01, 3.746000e-02],\n",
            "       [7.886340e+00, 2.631380e+00, 2.619960e+00],\n",
            "       [6.694520e+00, 2.721900e+00, 6.773000e-02],\n",
            "       [9.213730e+00, 2.710140e+00, 5.862000e-02],\n",
            "       [5.328100e+00, 1.394180e+00, 2.604170e+00],\n",
            "       [5.263700e+00, 3.954140e+00, 2.692710e+00],\n",
            "       [7.907950e+00, 6.254000e-02, 1.393830e+00],\n",
            "       [7.945110e+00, 1.051799e+01, 3.981050e+00],\n",
            "       [1.057577e+01, 5.377320e+00, 1.054307e+01],\n",
            "       [2.705280e+00, 7.920080e+00, 2.716720e+00],\n",
            "       [1.401080e+00, 7.961560e+00, 1.056262e+01],\n",
            "       [3.942590e+00, 7.888150e+00, 1.051865e+01],\n",
            "       [5.295000e-02, 6.617990e+00, 2.669590e+00],\n",
            "       [4.100000e-03, 9.326260e+00, 2.608310e+00],\n",
            "       [2.668190e+00, 5.248000e+00, 1.341310e+00],\n",
            "       [2.571340e+00, 5.288180e+00, 3.893020e+00],\n",
            "       [8.271000e-02, 3.600000e-03, 5.298440e+00],\n",
            "       [2.567530e+00, 2.707810e+00, 8.021400e+00],\n",
            "       [1.308910e+00, 2.642810e+00, 5.348370e+00],\n",
            "       [3.961870e+00, 2.731190e+00, 5.279730e+00],\n",
            "       [1.000000e-05, 1.318540e+00, 7.919300e+00],\n",
            "       [1.058062e+01, 3.945460e+00, 7.968830e+00],\n",
            "       [2.607430e+00, 1.059710e+01, 6.594870e+00],\n",
            "       [2.599820e+00, 5.852000e-02, 9.253120e+00],\n",
            "       [5.343000e+00, 5.337350e+00, 1.058109e+01],\n",
            "       [8.018300e+00, 7.970310e+00, 2.579590e+00],\n",
            "       [6.564150e+00, 8.015960e+00, 1.054595e+01],\n",
            "       [9.314200e+00, 8.007080e+00, 7.335000e-02],\n",
            "       [5.283710e+00, 6.624550e+00, 2.609260e+00],\n",
            "       [5.365000e+00, 9.355130e+00, 2.652320e+00],\n",
            "       [7.994210e+00, 5.272850e+00, 1.265120e+00],\n",
            "       [7.936770e+00, 5.328580e+00, 3.965140e+00],\n",
            "       [5.298310e+00, 6.384000e-02, 5.349910e+00],\n",
            "       [7.981010e+00, 2.634040e+00, 7.925600e+00],\n",
            "       [6.686870e+00, 2.583750e+00, 5.274650e+00],\n",
            "       [9.317240e+00, 2.593450e+00, 5.367460e+00],\n",
            "       [5.304690e+00, 1.392360e+00, 7.900550e+00],\n",
            "       [5.366370e+00, 3.964740e+00, 7.945880e+00],\n",
            "       [7.968520e+00, 1.054416e+01, 6.595420e+00],\n",
            "       [8.015530e+00, 3.504000e-02, 9.338320e+00],\n",
            "       [1.053751e+01, 5.276600e+00, 5.330190e+00],\n",
            "       [2.671850e+00, 7.998790e+00, 7.949920e+00],\n",
            "       [1.324250e+00, 7.976250e+00, 5.279710e+00],\n",
            "       [3.996850e+00, 7.991850e+00, 5.335850e+00],\n",
            "       [7.890000e-03, 6.579790e+00, 7.982410e+00],\n",
            "       [1.056258e+01, 9.241460e+00, 7.928210e+00],\n",
            "       [2.621830e+00, 5.256540e+00, 6.571130e+00],\n",
            "       [2.626730e+00, 5.246950e+00, 9.208810e+00],\n",
            "       [5.281800e+00, 5.284620e+00, 5.325660e+00],\n",
            "       [7.951270e+00, 7.970980e+00, 7.895660e+00],\n",
            "       [6.698890e+00, 8.005060e+00, 5.301130e+00],\n",
            "       [9.220060e+00, 8.022170e+00, 5.331190e+00],\n",
            "       [5.350700e+00, 6.649080e+00, 7.934340e+00],\n",
            "       [5.229060e+00, 9.267780e+00, 7.998240e+00],\n",
            "       [7.962630e+00, 5.265150e+00, 6.663220e+00],\n",
            "       [8.006830e+00, 5.336420e+00, 9.247930e+00]]), 'Energy': -754.279613, 'AtomTypes': ['Ta', 'Ta', 'Ta', 'Ta', 'Ta', 'Ta', 'Ta', 'Ta', 'Ta', 'Ta', 'Ta', 'Ta', 'Ta', 'Ta', 'Ta', 'Ta', 'Ta', 'Ta', 'Ta', 'Ta', 'Ta', 'Ta', 'Ta', 'Ta', 'Ta', 'Ta', 'Ta', 'Ta', 'Ta', 'Ta', 'Ta', 'Ta', 'Ta', 'Ta', 'Ta', 'Ta', 'Ta', 'Ta', 'Ta', 'Ta', 'Ta', 'Ta', 'Ta', 'Ta', 'Ta', 'Ta', 'Ta', 'Ta', 'Ta', 'Ta', 'Ta', 'Ta', 'Ta', 'Ta', 'Ta', 'Ta', 'Ta', 'Ta', 'Ta', 'Ta', 'Ta', 'Ta', 'Ta', 'Ta'], 'NumAtoms': 64, 'Forces': array([[ 0.114704,  0.911029,  0.002417],\n",
            "       [-1.312269, -0.768934,  0.192601],\n",
            "       [-0.549542, -0.385376, -0.090451],\n",
            "       [ 1.338111,  0.432571, -0.522326],\n",
            "       [ 0.526452,  0.497736,  0.118023],\n",
            "       [ 0.027974, -0.098405,  0.015828],\n",
            "       [-0.204416, -0.141407, -1.100083],\n",
            "       [ 0.552837, -0.178236,  0.473214],\n",
            "       [ 0.576453,  0.970244, -0.579639],\n",
            "       [ 0.902337,  0.559648,  1.080475],\n",
            "       [-2.02583 , -0.335157, -0.878841],\n",
            "       [ 1.514389, -0.315085, -0.524943],\n",
            "       [-0.26237 , -1.230172,  0.420769],\n",
            "       [ 0.464892,  1.262082, -0.270578],\n",
            "       [ 0.167236, -0.202524, -1.058609],\n",
            "       [ 0.185425,  0.426977,  0.087026],\n",
            "       [ 0.605017, -0.422613,  0.786988],\n",
            "       [-0.16284 ,  0.53844 , -0.654288],\n",
            "       [-1.21314 , -0.180661,  0.475699],\n",
            "       [ 0.693466,  0.102031,  0.668128],\n",
            "       [-0.152823,  0.384734, -0.111952],\n",
            "       [ 0.291126, -0.868362,  0.393931],\n",
            "       [-0.179205,  0.374746, -1.338983],\n",
            "       [ 0.254849,  0.332843,  1.641299],\n",
            "       [-1.048937, -0.101097, -0.319135],\n",
            "       [ 1.017266, -0.740171, -0.566662],\n",
            "       [ 0.403908,  0.226225, -0.301649],\n",
            "       [ 0.36121 , -0.332647,  0.382172],\n",
            "       [-0.134684, -0.420557,  0.336931],\n",
            "       [ 0.091943,  0.393742, -0.089206],\n",
            "       [ 0.481207,  0.365851,  0.394927],\n",
            "       [ 0.155387, -0.327875,  0.594672],\n",
            "       [-0.354201, -0.481611,  0.070778],\n",
            "       [-0.638975, -0.537484,  0.627877],\n",
            "       [ 1.046228, -0.215805,  0.200416],\n",
            "       [-0.389686, -0.132571, -0.908238],\n",
            "       [ 0.349202,  0.295946,  0.196375],\n",
            "       [-0.276908, -1.072093,  0.33487 ],\n",
            "       [-0.338816,  0.417402,  0.989409],\n",
            "       [-0.064889, -0.126317,  0.026895],\n",
            "       [-0.237157, -0.294846, -0.502816],\n",
            "       [-0.201557, -0.256297,  0.618786],\n",
            "       [-0.880538,  0.491034,  0.225753],\n",
            "       [-0.514197,  0.139552, -0.594594],\n",
            "       [-0.241299, -1.127636,  0.542064],\n",
            "       [-0.457508,  0.623304, -0.045721],\n",
            "       [ 0.045419,  0.456297,  0.883036],\n",
            "       [-0.703646, -0.11872 , -0.79377 ],\n",
            "       [ 0.186467,  0.354842, -0.464356],\n",
            "       [-0.462825, -0.70472 , -0.660751],\n",
            "       [-0.162279, -0.301471,  0.211964],\n",
            "       [ 0.128267, -0.133747, -0.138891],\n",
            "       [ 0.224508,  0.703879, -0.465686],\n",
            "       [ 0.298346,  0.405066,  0.164699],\n",
            "       [ 0.142704,  0.580891,  0.073062],\n",
            "       [ 0.295489,  0.626384,  1.099379],\n",
            "       [ 0.254473,  0.449594, -0.359163],\n",
            "       [-0.109482, -0.099213,  1.128432],\n",
            "       [-1.722141, -0.416627, -0.484246],\n",
            "       [ 1.590079, -0.664694, -0.530738],\n",
            "       [-0.272774, -0.59058 , -0.047159],\n",
            "       [ 0.577132,  0.931079, -0.408552],\n",
            "       [-0.184291,  0.081851, -0.89845 ],\n",
            "       [-0.405275, -0.01231 ,  0.25158 ]]), 'QMLattice': array([[10.60000038,  0.        ,  0.        ],\n",
            "       [ 0.        , 10.60000038,  0.        ],\n",
            "       [ 0.        ,  0.        , 10.60000038]]), 'test_bool': 0, 'Lattice': array([[10.60000038,  0.        ,  0.        ],\n",
            "       [ 0.        , 10.60000038,  0.        ],\n",
            "       [ 0.        ,  0.        , 10.60000038]]), 'Rotation': array([[1., 0., 0.],\n",
            "       [0., 1., 0.],\n",
            "       [0., 0., 1.]]), 'Translation': array([[0., 0., 0.],\n",
            "       [0., 0., 0.],\n",
            "       [0., 0., 0.],\n",
            "       [0., 0., 0.],\n",
            "       [0., 0., 0.],\n",
            "       [0., 0., 0.],\n",
            "       [0., 0., 0.],\n",
            "       [0., 0., 0.],\n",
            "       [0., 0., 0.],\n",
            "       [0., 0., 0.],\n",
            "       [0., 0., 0.],\n",
            "       [0., 0., 0.],\n",
            "       [0., 0., 0.],\n",
            "       [0., 0., 0.],\n",
            "       [0., 0., 0.],\n",
            "       [0., 0., 0.],\n",
            "       [0., 0., 0.],\n",
            "       [0., 0., 0.],\n",
            "       [0., 0., 0.],\n",
            "       [0., 0., 0.],\n",
            "       [0., 0., 0.],\n",
            "       [0., 0., 0.],\n",
            "       [0., 0., 0.],\n",
            "       [0., 0., 0.],\n",
            "       [0., 0., 0.],\n",
            "       [0., 0., 0.],\n",
            "       [0., 0., 0.],\n",
            "       [0., 0., 0.],\n",
            "       [0., 0., 0.],\n",
            "       [0., 0., 0.],\n",
            "       [0., 0., 0.],\n",
            "       [0., 0., 0.],\n",
            "       [0., 0., 0.],\n",
            "       [0., 0., 0.],\n",
            "       [0., 0., 0.],\n",
            "       [0., 0., 0.],\n",
            "       [0., 0., 0.],\n",
            "       [0., 0., 0.],\n",
            "       [0., 0., 0.],\n",
            "       [0., 0., 0.],\n",
            "       [0., 0., 0.],\n",
            "       [0., 0., 0.],\n",
            "       [0., 0., 0.],\n",
            "       [0., 0., 0.],\n",
            "       [0., 0., 0.],\n",
            "       [0., 0., 0.],\n",
            "       [0., 0., 0.],\n",
            "       [0., 0., 0.],\n",
            "       [0., 0., 0.],\n",
            "       [0., 0., 0.],\n",
            "       [0., 0., 0.],\n",
            "       [0., 0., 0.],\n",
            "       [0., 0., 0.],\n",
            "       [0., 0., 0.],\n",
            "       [0., 0., 0.],\n",
            "       [0., 0., 0.],\n",
            "       [0., 0., 0.],\n",
            "       [0., 0., 0.],\n",
            "       [0., 0., 0.],\n",
            "       [0., 0., 0.],\n",
            "       [0., 0., 0.],\n",
            "       [0., 0., 0.],\n",
            "       [0., 0., 0.],\n",
            "       [0., 0., 0.]]), 'eweight': 100.0, 'fweight': 1.0, 'vweight': 1e-08}\n"
          ]
        }
      ],
      "source": [
        "print(fs.data[0])"
      ]
    },
    {
      "cell_type": "markdown",
      "metadata": {
        "id": "hM5r86h2e7Hu"
      },
      "source": [
        "This is the format used by `FitSnap` to feed data into LAMMPS for descriptor calculations in the next step."
      ]
    },
    {
      "cell_type": "markdown",
      "metadata": {
        "id": "cUYzO4kge7Hv"
      },
      "source": [
        "### 2. Calculate descriptors"
      ]
    },
    {
      "cell_type": "markdown",
      "metadata": {
        "id": "RNPlZDwse7Hv"
      },
      "source": [
        "Here we use the native high-level `process_configs()` function, which does the following:\n",
        "- Allocates shared memory arrays (if using MPI) to store descriptor and fitting information.\n",
        "- Loop through all the configurations in the `fitsnap.data` list of dictionaries containing configuration info.\n",
        "- Calculate descriptors for these configurations and store the information in the shared arrays `fitsnap.pt.shared_arrays`."
      ]
    },
    {
      "cell_type": "code",
      "execution_count": 66,
      "metadata": {
        "id": "ISn-iTcSe7Hv",
        "outputId": "946a1b54-4555-46dc-d0a6-ad03129a9ea3",
        "colab": {
          "base_uri": "https://localhost:8080/"
        }
      },
      "outputs": [
        {
          "output_type": "stream",
          "name": "stdout",
          "text": [
            "'process_configs' took 3106.77 ms on rank 0\n"
          ]
        }
      ],
      "source": [
        "fs.process_configs()"
      ]
    },
    {
      "cell_type": "markdown",
      "metadata": {
        "id": "12UnmAJae7Hw"
      },
      "source": [
        "### 3. Perform fit"
      ]
    },
    {
      "cell_type": "markdown",
      "metadata": {
        "id": "3OIoM9jKe7Hw"
      },
      "source": [
        "Fit a model with the native high-level `perform_fit()` function, which does the following:\n",
        "\n",
        "- Solves the ML problem to get model coefficients, such as with linear regression or NNs, depending on the choice of\n",
        "  solver in the `settings` dictionary.\n",
        "- Analyze errors associated with the fits, which are stored in the `fitsnap.solver.errors` dataframe."
      ]
    },
    {
      "cell_type": "code",
      "execution_count": 67,
      "metadata": {
        "id": "DPe08MWbe7Hw",
        "outputId": "377b7e28-7840-48db-b10f-db38fbe45ea5",
        "colab": {
          "base_uri": "https://localhost:8080/"
        }
      },
      "outputs": [
        {
          "output_type": "stream",
          "name": "stdout",
          "text": [
            "'fit' took 30.04 ms on rank 0\n",
            "'error_analysis' took 451.81 ms on rank 0\n"
          ]
        },
        {
          "output_type": "stream",
          "name": "stderr",
          "text": [
            "/content/FitSNAP/fitsnap3lib/solvers/solver.py:95: RuntimeWarning: divide by zero encountered in double_scalars\n",
            "  rsq = 1 - ssr / np.sum(np.square(g['truths'] - (g['truths'] / nconfig).sum()))\n",
            "/content/FitSNAP/fitsnap3lib/solvers/solver.py:102: RuntimeWarning: divide by zero encountered in double_scalars\n",
            "  w_rsq = 1 - w_ssr / np.sum(np.square((g['weights'] * g['truths']) - (g['weights'] * g['truths'] / w_nconfig).sum()))\n",
            "/content/FitSNAP/fitsnap3lib/solvers/solver.py:95: RuntimeWarning: divide by zero encountered in double_scalars\n",
            "  rsq = 1 - ssr / np.sum(np.square(g['truths'] - (g['truths'] / nconfig).sum()))\n",
            "/content/FitSNAP/fitsnap3lib/solvers/solver.py:102: RuntimeWarning: divide by zero encountered in double_scalars\n",
            "  w_rsq = 1 - w_ssr / np.sum(np.square((g['weights'] * g['truths']) - (g['weights'] * g['truths'] / w_nconfig).sum()))\n"
          ]
        }
      ],
      "source": [
        "fs.perform_fit()"
      ]
    },
    {
      "cell_type": "markdown",
      "metadata": {
        "id": "AGOcyFAOe7Hy"
      },
      "source": [
        "Useful objects generated by this fit:"
      ]
    },
    {
      "cell_type": "code",
      "execution_count": 54,
      "metadata": {
        "id": "fc8czHt6e7Hy",
        "outputId": "4a79029d-ffec-4e38-abbd-52fa9d7cc6c7",
        "colab": {
          "base_uri": "https://localhost:8080/"
        }
      },
      "outputs": [
        {
          "output_type": "stream",
          "name": "stdout",
          "text": [
            "                                          ncount           mae          rmse  \\\n",
            "Group      Weighting  Testing  Subsystem                                       \n",
            "*ALL       Unweighted Training Energy        363  1.127867e-01  3.797693e-01   \n",
            "                               Force       12672  7.575758e-02  1.609730e-01   \n",
            "                               Stress       2178  6.833857e+04  3.817442e+05   \n",
            "           weighted   Training Energy        363  2.608423e-01  6.132321e-01   \n",
            "                               Force       12672  7.574500e-02  1.609730e-01   \n",
            "...                                          ...           ...           ...   \n",
            "Volume_FCC Unweighted Training Force         372  3.256274e-15  7.553926e-15   \n",
            "                               Stress        186  3.042005e+05  1.079178e+06   \n",
            "           weighted   Training Energy         31  8.120769e-01  1.181203e+00   \n",
            "                               Force         372  3.256274e-24  7.553926e-24   \n",
            "                               Stress        186  3.042005e-04  1.079178e-03   \n",
            "\n",
            "                                               rsq  \n",
            "Group      Weighting  Testing  Subsystem            \n",
            "*ALL       Unweighted Training Energy     0.994191  \n",
            "                               Force      0.985504  \n",
            "                               Stress     0.939617  \n",
            "           weighted   Training Energy     1.000000  \n",
            "                               Force      0.985504  \n",
            "...                                            ...  \n",
            "Volume_FCC Unweighted Training Force      0.347019  \n",
            "                               Stress     0.792372  \n",
            "           weighted   Training Energy     0.984437  \n",
            "                               Force      0.347019  \n",
            "                               Stress     0.792372  \n",
            "\n",
            "[78 rows x 4 columns]\n"
          ]
        }
      ],
      "source": [
        "# Dataframe of detailed errors per group.\n",
        "print(fs.solver.errors)"
      ]
    },
    {
      "cell_type": "code",
      "execution_count": 14,
      "metadata": {
        "id": "e3Yx9bbQe7Hy",
        "outputId": "6cb75519-eef8-42a2-8ade-b7936983b5aa",
        "colab": {
          "base_uri": "https://localhost:8080/"
        }
      },
      "outputs": [
        {
          "output_type": "stream",
          "name": "stdout",
          "text": [
            "[-2.97994849e+00 -1.14374540e-02 -7.65461855e-03 -5.02616837e-02\n",
            " -1.49917503e-01  9.46827936e-02  5.82627755e-02  6.06076097e-02\n",
            " -1.15443486e-01 -1.70155723e-01 -1.05692177e-01  3.97826631e-02\n",
            " -1.13740488e-01  4.04876497e-02 -7.26629413e-02 -6.48706053e-02\n",
            " -9.53306396e-02 -1.02394326e-01 -1.57112283e-01  4.85467075e-02\n",
            "  2.49466074e-03  1.21982221e-03 -4.97372495e-02 -5.14062785e-02\n",
            " -3.41562112e-02 -1.59489125e-02 -1.50097346e-02 -6.22553797e-03\n",
            " -6.50157917e-02  3.96654127e-02  1.07549953e-02]\n"
          ]
        }
      ],
      "source": [
        "# List of fitting coefficients (for linear models).\n",
        "print(fs.solver.fit)"
      ]
    },
    {
      "cell_type": "code",
      "source": [
        "print(fs.solver.df)"
      ],
      "metadata": {
        "id": "SsPvbjRX71sf",
        "outputId": "c778b230-8a9c-4dbb-95d0-e70f1ab02893",
        "colab": {
          "base_uri": "https://localhost:8080/"
        }
      },
      "execution_count": 51,
      "outputs": [
        {
          "output_type": "stream",
          "name": "stdout",
          "text": [
            "None\n"
          ]
        }
      ]
    },
    {
      "cell_type": "code",
      "execution_count": 15,
      "metadata": {
        "id": "dj1Nrq8Le7Hy",
        "outputId": "2f4242d1-0c4a-4550-da11-ade0f84a8212",
        "colab": {
          "base_uri": "https://localhost:8080/"
        }
      },
      "outputs": [
        {
          "output_type": "stream",
          "name": "stdout",
          "text": [
            "         0             1             2             3             4  \\\n",
            "0      1.0  1.009033e+02      2.780691  6.357142e-01  8.179305e+00   \n",
            "1      0.0  4.627919e+00      0.813000 -2.328668e-01  1.287718e+00   \n",
            "2      0.0 -7.121813e-01      0.619934 -8.374431e-01  2.850890e+00   \n",
            "3      0.0 -1.093067e+00     -0.748435  1.442453e-01  1.758252e+00   \n",
            "4      0.0 -2.880540e+00     -0.476735  8.152660e-01 -5.128569e+00   \n",
            "...    ...           ...           ...           ...           ...   \n",
            "15208  0.0  1.724161e+06 -59282.146145 -6.858124e+04  1.261169e+06   \n",
            "15209  0.0  1.724161e+06 -59282.146145 -6.858124e+04  1.261169e+06   \n",
            "15210  0.0  3.823340e-11      0.000000  0.000000e+00 -2.867505e-11   \n",
            "15211  0.0  3.823340e-11      0.000000  0.000000e+00 -1.911670e-11   \n",
            "15212  0.0  0.000000e+00      0.000000  5.973969e-13 -1.433753e-11   \n",
            "\n",
            "                  5             6             7             8             9  \\\n",
            "0     -2.940313e+00  1.045951e+00  1.264225e+00  6.488682e+01 -2.653318e+00   \n",
            "1     -1.394671e-01  3.521050e-02  6.649557e-02 -3.313145e+00  2.725776e-01   \n",
            "2      9.631216e-01 -4.438891e-01  8.972694e-01 -1.814308e+01  2.669129e+00   \n",
            "3      3.325291e-02  4.528722e-01  2.874145e-01 -6.299933e+00 -1.015037e+00   \n",
            "4     -9.354061e-01 -1.413016e-01 -1.044284e+00  2.733340e+01 -2.519177e+00   \n",
            "...             ...           ...           ...           ...           ...   \n",
            "15208 -3.367458e+05  3.333357e+05 -6.510538e+05  7.839617e+05 -2.854269e+05   \n",
            "15209 -3.367458e+05  3.333357e+05 -6.510538e+05  7.839617e+05 -2.854269e+05   \n",
            "15210  0.000000e+00 -4.779175e-12  1.911670e-11  0.000000e+00  4.779175e-12   \n",
            "15211  0.000000e+00 -9.558351e-12  9.558351e-12  0.000000e+00  4.779175e-12   \n",
            "15212  1.194794e-12 -5.973969e-12  2.150629e-11  9.558351e-12  2.389588e-12   \n",
            "\n",
            "       ...            30        truths         preds       weights  \\\n",
            "0      ...  1.875360e+01 -1.659536e+01 -1.659676e+01  1.000000e+02   \n",
            "1      ... -3.676965e+00 -3.008695e-01 -4.361515e-01  1.000000e+00   \n",
            "2      ... -4.574918e+00 -8.027285e-01 -6.584778e-01  1.000000e+00   \n",
            "3      ...  1.244826e+00  4.672383e-02  1.908140e-01  1.000000e+00   \n",
            "4      ...  6.774157e+00  9.090713e-01  9.077672e-01  1.000000e+00   \n",
            "...    ...           ...           ...           ...           ...   \n",
            "15208  ... -3.840712e+05 -3.960462e+05 -1.832458e+05  1.000000e-09   \n",
            "15209  ... -3.840712e+05 -3.960462e+05 -1.832458e+05  1.000000e-09   \n",
            "15210  ... -9.558351e-12  1.194794e-12  2.989535e-12  1.000000e-09   \n",
            "15211  ...  0.000000e+00  0.000000e+00 -4.930296e-13  1.000000e-09   \n",
            "15212  ... -4.779175e-12  1.194794e-12  5.129791e-13  1.000000e-09   \n",
            "\n",
            "              Groups       Configs  Row_Type  Atom_I  Testing  Atom_Type  \n",
            "0      Displaced_A15    A15_3.json    Energy       0    False          0  \n",
            "1      Displaced_A15    A15_3.json     Force       0    False          1  \n",
            "2      Displaced_A15    A15_3.json     Force       0    False          1  \n",
            "3      Displaced_A15    A15_3.json     Force       0    False          1  \n",
            "4      Displaced_A15    A15_3.json     Force       1    False          1  \n",
            "...              ...           ...       ...     ...      ...        ...  \n",
            "15208     Volume_FCC  FCC_5.3.json    Stress       0    False          0  \n",
            "15209     Volume_FCC  FCC_5.3.json    Stress       0    False          0  \n",
            "15210     Volume_FCC  FCC_5.3.json    Stress       0    False          0  \n",
            "15211     Volume_FCC  FCC_5.3.json    Stress       0    False          0  \n",
            "15212     Volume_FCC  FCC_5.3.json    Stress       0    False          0  \n",
            "\n",
            "[15213 rows x 40 columns]\n"
          ]
        }
      ],
      "source": [
        "# Dataframe containing all fitting info and metrics.\n",
        "print(fs.solver.df)"
      ]
    },
    {
      "cell_type": "markdown",
      "metadata": {
        "id": "uJV1CzoTe7Hy"
      },
      "source": [
        "### 4. Writing output files"
      ]
    },
    {
      "cell_type": "code",
      "execution_count": 16,
      "metadata": {
        "id": "VPqXEYyxe7Hz",
        "outputId": "d63ed128-fc40-4bd8-9154-46048f8c4606",
        "colab": {
          "base_uri": "https://localhost:8080/"
        }
      },
      "outputs": [
        {
          "output_type": "stream",
          "name": "stdout",
          "text": [
            "docs\t     FitSNAP.df      README.md\t    Ta_pot.snapcoeff  tutorial.ipynb\n",
            "examples     LICENSE\t     setup.cfg\t    Ta_pot.snapparam\n",
            "fitsnap3     log.lammps      Ta_metrics.md  tests\n",
            "fitsnap3lib  pyproject.toml  Ta_pot.mod     tools\n"
          ]
        }
      ],
      "source": [
        "# Write LAMMPS potential files.\n",
        "fs.output.write_lammps(fs.solver.fit)\n",
        "# Write error analysis.\n",
        "fs.output.write_errors(fs.solver.errors)\n",
        "# Look at files:\n",
        "!ls"
      ]
    },
    {
      "cell_type": "markdown",
      "metadata": {
        "id": "qT0sUMqee7Hz"
      },
      "source": [
        "# Perform fits on multiple instances with different settings"
      ]
    },
    {
      "cell_type": "markdown",
      "metadata": {
        "id": "acR9zjx9e7Hz"
      },
      "source": [
        "Let's say we want to perform multiple fits with different settings, like different `twojmax` values."
      ]
    },
    {
      "cell_type": "code",
      "execution_count": 17,
      "metadata": {
        "id": "81jsAEoNe7Hz",
        "outputId": "737d4fb0-9dd1-43f0-bd53-83355e1e717e",
        "colab": {
          "base_uri": "https://localhost:8080/"
        }
      },
      "outputs": [
        {
          "output_type": "stream",
          "name": "stdout",
          "text": [
            "5\n"
          ]
        }
      ],
      "source": [
        "# Make list of twojmax values to scan:\n",
        "twojmax_list = [2,4,6,8,10]\n",
        "# Make list of settings for each twojmax:\n",
        "from copy import deepcopy\n",
        "settings_list = [deepcopy(settings) for i in twojmax_list]\n",
        "for i, twojmax in enumerate(twojmax_list):\n",
        "    settings_list[i][\"BISPECTRUM\"][\"twojmax\"] = twojmax\n",
        "\n",
        "print(len(settings_list))"
      ]
    },
    {
      "cell_type": "markdown",
      "metadata": {
        "id": "hiKA31x6e7H0"
      },
      "source": [
        "Make a list of `FitSnap` instances, each with different settings:"
      ]
    },
    {
      "cell_type": "code",
      "execution_count": 18,
      "metadata": {
        "id": "tSwq7PwUe7H0",
        "outputId": "62e770fc-6470-4dde-e7ed-73de3ee05cf3",
        "colab": {
          "base_uri": "https://localhost:8080/"
        }
      },
      "outputs": [
        {
          "output_type": "stream",
          "name": "stdout",
          "text": [
            "[<fitsnap3lib.fitsnap.FitSnap object at 0x7fd80f78ee60>, <fitsnap3lib.fitsnap.FitSnap object at 0x7fd80f78e1d0>, <fitsnap3lib.fitsnap.FitSnap object at 0x7fd80f78f670>, <fitsnap3lib.fitsnap.FitSnap object at 0x7fd80f78db40>, <fitsnap3lib.fitsnap.FitSnap object at 0x7fd80f7bf6d0>]\n"
          ]
        }
      ],
      "source": [
        "instances = [FitSnap(setting, comm=comm, arglist=[\"--overwrite\"]) for setting in settings_list]\n",
        "print(instances)"
      ]
    },
    {
      "cell_type": "markdown",
      "metadata": {
        "id": "-eR3cBkke7H1"
      },
      "source": [
        "Loop over all instances and fit:"
      ]
    },
    {
      "cell_type": "code",
      "execution_count": 19,
      "metadata": {
        "id": "eXrACNHve7H1",
        "outputId": "3f3c1649-da06-4906-db24-31b0f498f9c9",
        "colab": {
          "base_uri": "https://localhost:8080/"
        }
      },
      "outputs": [
        {
          "output_type": "stream",
          "name": "stdout",
          "text": [
            "--- Instance 0 with twojmax = ['2']\n",
            "'process_configs' took 1789.51 ms on rank 0\n",
            "'fit' took 10.09 ms on rank 0\n",
            "'error_analysis' took 292.51 ms on rank 0\n",
            "--- Instance 1 with twojmax = ['4']\n",
            "'process_configs' took 2108.96 ms on rank 0\n",
            "'fit' took 19.98 ms on rank 0\n",
            "'error_analysis' took 340.94 ms on rank 0\n",
            "--- Instance 2 with twojmax = ['6']\n",
            "'process_configs' took 3493.98 ms on rank 0\n",
            "'fit' took 39.57 ms on rank 0\n",
            "'error_analysis' took 435.78 ms on rank 0\n",
            "--- Instance 3 with twojmax = ['8']\n",
            "'process_configs' took 7938.77 ms on rank 0\n",
            "'fit' took 49.40 ms on rank 0\n",
            "'error_analysis' took 347.72 ms on rank 0\n",
            "--- Instance 4 with twojmax = ['10']\n",
            "'process_configs' took 14606.70 ms on rank 0\n",
            "'fit' took 90.91 ms on rank 0\n",
            "'error_analysis' took 351.23 ms on rank 0\n"
          ]
        }
      ],
      "source": [
        "for i, instance in enumerate(instances):\n",
        "    print(f\"--- Instance {i} with twojmax = {instance.config.sections['BISPECTRUM'].twojmax}\")\n",
        "    # No need to scrape configurations again, just use the previously scraped configs by injecting\n",
        "    # the previous instance data into this instance data.\n",
        "    instance.process_configs(data=fs.data)\n",
        "    # Perform fit using the internal fitting data of this instance.\n",
        "    instance.perform_fit()\n",
        "    # Grab errors.\n",
        "    f_mae = instance.solver.errors['mae'][('*ALL', 'Unweighted', 'Training', 'Force')]\n",
        "    e_mae = instance.solver.errors['mae'][('*ALL', 'Unweighted', 'Training', 'Energy')]"
      ]
    },
    {
      "cell_type": "markdown",
      "metadata": {
        "id": "G1CPrUAVe7H1"
      },
      "source": [
        "Look at the errors:"
      ]
    },
    {
      "cell_type": "code",
      "execution_count": 20,
      "metadata": {
        "id": "ybLV6gGhe7H2",
        "outputId": "e51ec7dc-fe8b-41cf-d98b-087b2b540b40",
        "colab": {
          "base_uri": "https://localhost:8080/"
        }
      },
      "outputs": [
        {
          "output_type": "stream",
          "name": "stdout",
          "text": [
            "2           0.39726     0.97260\n",
            "4           0.15141     0.16422\n",
            "6           0.07576     0.11279\n",
            "8           0.06785     0.07044\n",
            "10           0.05353     0.05356\n"
          ]
        }
      ],
      "source": [
        "# Now each instance contains fitting information (configurations and their descriptors) and errors.\n",
        "for instance in instances:\n",
        "    # Extract specific errors from the errors dataframe.\n",
        "    # NOTE: No `Testing` key will exist if no testing groups were defined in `settings`.\n",
        "    ftest_mae = instance.solver.errors['mae'][('*ALL', 'Unweighted', 'Training', 'Force')]\n",
        "    etest_mae = instance.solver.errors['mae'][('*ALL', 'Unweighted', 'Training', 'Energy')]\n",
        "    print(f\"{instance.config.sections['BISPECTRUM'].twojmax[0]} \\\n",
        "          {ftest_mae:0.5f}     {etest_mae:0.5f}\")"
      ]
    },
    {
      "cell_type": "markdown",
      "metadata": {
        "id": "Ycups00ge7H2"
      },
      "source": [
        "#### Note on shared memory (if using MPI).\n",
        "If using MPI, each instance allocates shared memory for storing the parallel arrays. Users must therefore take care to not allocate too many `FitSnap` instances, and to properly free memory associated with unused instances. We free shared array memory by overriding the `del` statement in `FitSnap`:"
      ]
    },
    {
      "cell_type": "code",
      "execution_count": 21,
      "metadata": {
        "id": "XOPH5qTXe7H2"
      },
      "outputs": [],
      "source": [
        "# Free shared memory of all instances (only necessary if using MPI):\n",
        "for instance in instances:\n",
        "    del instance"
      ]
    },
    {
      "cell_type": "markdown",
      "metadata": {
        "id": "qHstqNOfe7H3"
      },
      "source": [
        "This example looped over fits sequentially, where each fit shared the same communicator. One could however use split communicators to achieve fits in parallel."
      ]
    },
    {
      "cell_type": "markdown",
      "metadata": {
        "id": "05PZlvy7e7H3"
      },
      "source": [
        "# How to just get the descriptors for a data set?"
      ]
    },
    {
      "cell_type": "markdown",
      "metadata": {
        "id": "_aMw5kFpe7H3"
      },
      "source": [
        "Sometimes we want to simply extract descriptors for data analysis without going through the pain of\n",
        "performing a fit.\n",
        "\n",
        "TODO: Show example of extracting descriptors from configs then doing data analysis (t-SNE)"
      ]
    },
    {
      "cell_type": "markdown",
      "metadata": {
        "id": "8e_ndZCne7H4"
      },
      "source": [
        "### Extracting SNAP descriptors."
      ]
    },
    {
      "cell_type": "markdown",
      "metadata": {
        "id": "izyZTeUee7H4"
      },
      "source": [
        "If we're only calculating descriptors, we just need a simple `settings` dictionary."
      ]
    },
    {
      "cell_type": "code",
      "execution_count": 22,
      "metadata": {
        "id": "WWJ19bWqe7H4"
      },
      "outputs": [],
      "source": [
        "settings = \\\n",
        "{\n",
        "\"BISPECTRUM\":\n",
        "    {\n",
        "    \"numTypes\": 1,\n",
        "    \"twojmax\": 6,\n",
        "    \"rcutfac\": 4.67637,\n",
        "    \"rfac0\": 0.99363,\n",
        "    \"rmin0\": 0.0,\n",
        "    \"wj\": 1.0,\n",
        "    \"radelem\": 0.5,\n",
        "    \"type\": \"Ta\",\n",
        "    \"wselfallflag\": 0,\n",
        "    \"bzeroflag\": 1,\n",
        "    \"bikflag\": 1\n",
        "    },\n",
        "\"CALCULATOR\":\n",
        "    {\n",
        "    \"calculator\": \"LAMMPSSNAP\",\n",
        "    \"energy\": 1,\n",
        "    \"force\": 0,\n",
        "    \"stress\": 0,\n",
        "    \"per_atom_energy\": 1\n",
        "    },\n",
        "\"REFERENCE\":\n",
        "    {\n",
        "    \"units\": \"metal\",\n",
        "    \"atom_style\": \"atomic\",\n",
        "    \"pair_style\": \"zero 6.0\",\n",
        "    \"pair_coeff\": \"* *\"\n",
        "    }\n",
        "}"
      ]
    },
    {
      "cell_type": "markdown",
      "metadata": {
        "id": "zzED4h-te7H5"
      },
      "source": [
        "Make an instance like usual:"
      ]
    },
    {
      "cell_type": "code",
      "execution_count": 23,
      "metadata": {
        "id": "2iJrsA0Ue7H5"
      },
      "outputs": [],
      "source": [
        "fs = FitSnap(settings, arglist=[\"--overwrite\"])"
      ]
    },
    {
      "cell_type": "markdown",
      "metadata": {
        "id": "hTWcVqCoe7H5"
      },
      "source": [
        "Get data from ASE `Atoms` objects:"
      ]
    },
    {
      "cell_type": "code",
      "execution_count": 24,
      "metadata": {
        "id": "ZcUXx-VFe7H6",
        "outputId": "3e114444-06a5-48cb-bb18-1a085bf06189",
        "colab": {
          "base_uri": "https://localhost:8080/"
        }
      },
      "outputs": [
        {
          "output_type": "stream",
          "name": "stdout",
          "text": [
            "Looking in indexes: https://pypi.org/simple, https://us-python.pkg.dev/colab-wheels/public/simple/\n",
            "Requirement already satisfied: ase in /usr/local/lib/python3.10/dist-packages (3.22.1)\n",
            "Requirement already satisfied: matplotlib>=3.1.0 in /usr/local/lib/python3.10/dist-packages (from ase) (3.7.1)\n",
            "Requirement already satisfied: numpy>=1.15.0 in /usr/local/lib/python3.10/dist-packages (from ase) (1.22.4)\n",
            "Requirement already satisfied: scipy>=1.1.0 in /usr/local/lib/python3.10/dist-packages (from ase) (1.10.1)\n",
            "Requirement already satisfied: contourpy>=1.0.1 in /usr/local/lib/python3.10/dist-packages (from matplotlib>=3.1.0->ase) (1.0.7)\n",
            "Requirement already satisfied: cycler>=0.10 in /usr/local/lib/python3.10/dist-packages (from matplotlib>=3.1.0->ase) (0.11.0)\n",
            "Requirement already satisfied: fonttools>=4.22.0 in /usr/local/lib/python3.10/dist-packages (from matplotlib>=3.1.0->ase) (4.39.3)\n",
            "Requirement already satisfied: kiwisolver>=1.0.1 in /usr/local/lib/python3.10/dist-packages (from matplotlib>=3.1.0->ase) (1.4.4)\n",
            "Requirement already satisfied: packaging>=20.0 in /usr/local/lib/python3.10/dist-packages (from matplotlib>=3.1.0->ase) (23.1)\n",
            "Requirement already satisfied: pillow>=6.2.0 in /usr/local/lib/python3.10/dist-packages (from matplotlib>=3.1.0->ase) (8.4.0)\n",
            "Requirement already satisfied: pyparsing>=2.3.1 in /usr/local/lib/python3.10/dist-packages (from matplotlib>=3.1.0->ase) (3.0.9)\n",
            "Requirement already satisfied: python-dateutil>=2.7 in /usr/local/lib/python3.10/dist-packages (from matplotlib>=3.1.0->ase) (2.8.2)\n",
            "Requirement already satisfied: six>=1.5 in /usr/local/lib/python3.10/dist-packages (from python-dateutil>=2.7->matplotlib>=3.1.0->ase) (1.16.0)\n",
            "<class 'list'>\n"
          ]
        }
      ],
      "source": [
        "!pip install ase\n",
        "from ase.io import read\n",
        "frames = read(\"examples/Ta_XYZ/XYZ/Displaced_FCC.xyz\", \":\")\n",
        "print(type(frames))"
      ]
    },
    {
      "cell_type": "markdown",
      "metadata": {
        "id": "xVzIw1zme7H6"
      },
      "source": [
        "Use our ASE scraper to inject a list of `Atoms` objects into a particular instance:"
      ]
    },
    {
      "cell_type": "code",
      "execution_count": 25,
      "metadata": {
        "id": "NTsQxtDye7H6"
      },
      "outputs": [],
      "source": [
        "from fitsnap3lib.scrapers.ase_funcs import ase_scraper\n",
        "data = ase_scraper(frames)"
      ]
    },
    {
      "cell_type": "markdown",
      "metadata": {
        "id": "xmbb3s3Pe7H6"
      },
      "source": [
        "Loop over configurations and calculate descriptors for each separately."
      ]
    },
    {
      "cell_type": "code",
      "execution_count": 26,
      "metadata": {
        "id": "Ut5iZNuIe7H7",
        "outputId": "0e674e81-b221-4a5b-b0a4-d2ff57b6f9ce",
        "colab": {
          "base_uri": "https://localhost:8080/"
        }
      },
      "outputs": [
        {
          "output_type": "stream",
          "name": "stdout",
          "text": [
            "0\n",
            "(48, 30)\n",
            "1\n",
            "(48, 30)\n",
            "2\n",
            "(48, 30)\n",
            "3\n",
            "(48, 30)\n",
            "4\n",
            "(48, 30)\n",
            "5\n",
            "(48, 30)\n",
            "6\n",
            "(48, 30)\n",
            "7\n",
            "(48, 30)\n",
            "8\n",
            "(48, 30)\n"
          ]
        }
      ],
      "source": [
        "for i, configuration in enumerate(data):\n",
        "    print(i)\n",
        "    a,b,w = fs.calculator.process_single(configuration)\n",
        "    print(np.shape(a))"
      ]
    },
    {
      "cell_type": "markdown",
      "metadata": {
        "id": "xnTtKDI7e7H7"
      },
      "source": [
        "### Extracting ACE descriptors."
      ]
    },
    {
      "cell_type": "markdown",
      "source": [
        "### WARNING: ACE descriptors are not supported in colab yet."
      ],
      "metadata": {
        "id": "x0gGgVIG0Jpw"
      }
    },
    {
      "cell_type": "markdown",
      "metadata": {
        "id": "19gElwfGe7H7"
      },
      "source": [
        "Declare settings dictionary:"
      ]
    },
    {
      "cell_type": "code",
      "execution_count": 27,
      "metadata": {
        "id": "bLAH-gS1e7H8"
      },
      "outputs": [],
      "source": [
        "settings = \\\n",
        "{\n",
        "\"ACE\":\n",
        "    {\n",
        "    \"numTypes\": 1,\n",
        "    \"ranks\": \"1 2 3\",\n",
        "    \"lmax\":  \"1 2 2\",\n",
        "    \"nmax\": \"22 2 2\",\n",
        "    \"nmaxbase\": 22,\n",
        "    \"rcutfac\": 4.604694451,\n",
        "    \"lambda\": 3.5,\n",
        "    \"type\": \"Ta\",\n",
        "    \"lmin\": 0,\n",
        "    \"bzeroflag\": 1,\n",
        "    \"bikflag\": 1,\n",
        "    \"RPI_heuristic\": \"root_SO3_span\"\n",
        "    },\n",
        "\"CALCULATOR\":\n",
        "    {\n",
        "    \"calculator\": \"LAMMPSPACE\",\n",
        "    \"energy\": 1,\n",
        "    \"force\": 0,\n",
        "    \"stress\": 0,\n",
        "    \"per_atom_energy\": 1\n",
        "    },\n",
        "\"REFERENCE\":\n",
        "    {\n",
        "    \"units\": \"metal\",\n",
        "    \"atom_style\": \"atomic\",\n",
        "    \"pair_style\": \"zero 6.0\",\n",
        "    \"pair_coeff\": \"* *\"\n",
        "    }\n",
        "}"
      ]
    },
    {
      "cell_type": "markdown",
      "metadata": {
        "id": "UL00cmwqe7H8"
      },
      "source": [
        "Make `FitSnap` instance:"
      ]
    },
    {
      "cell_type": "code",
      "execution_count": 28,
      "metadata": {
        "id": "L28hv8vPe7H9",
        "colab": {
          "base_uri": "https://localhost:8080/"
        },
        "outputId": "c900e1cd-adfa-4d64-c6a8-2d05aa61a070"
      },
      "outputs": [
        {
          "output_type": "stream",
          "name": "stdout",
          "text": [
            "Generating your first pickled library of Wigner 3j coefficients. This will take a few moments...\n"
          ]
        }
      ],
      "source": [
        "fs = FitSnap(settings, arglist=[\"--overwrite\"])"
      ]
    },
    {
      "cell_type": "markdown",
      "metadata": {
        "id": "erHLpXJ7e7H9"
      },
      "source": [
        "Get configurations from somewhere (e.g. ASE):"
      ]
    },
    {
      "cell_type": "code",
      "execution_count": 29,
      "metadata": {
        "id": "_SuZq3hve7H9"
      },
      "outputs": [],
      "source": [
        "from ase.io import read\n",
        "from fitsnap3lib.scrapers.ase_funcs import ase_scraper\n",
        "frames = read(\"examples/Ta_XYZ/XYZ/Displaced_FCC.xyz\", \":\")\n",
        "data = ase_scraper(frames)"
      ]
    },
    {
      "cell_type": "markdown",
      "metadata": {
        "id": "kK7lTwfue7H9"
      },
      "source": [
        "Now this `FitSnap` instance has a list of dictionaries containing structural info:"
      ]
    },
    {
      "cell_type": "code",
      "execution_count": 32,
      "metadata": {
        "id": "aqGBsNuTe7H-",
        "outputId": "a89110c3-ecee-4522-908a-cfff2cf161fb",
        "colab": {
          "base_uri": "https://localhost:8080/"
        }
      },
      "outputs": [
        {
          "output_type": "stream",
          "name": "stdout",
          "text": [
            "9\n"
          ]
        }
      ],
      "source": [
        "print(len(data))"
      ]
    },
    {
      "cell_type": "markdown",
      "metadata": {
        "id": "3XfFatkSe7H-"
      },
      "source": [
        "Loop over these configurations and calculate ACE descriptors:"
      ]
    },
    {
      "cell_type": "code",
      "execution_count": 31,
      "metadata": {
        "id": "rZC3ML58e7H-",
        "outputId": "6fd8d6eb-8cee-4019-d854-0664cf261f53",
        "colab": {
          "base_uri": "https://localhost:8080/",
          "height": 380
        }
      },
      "outputs": [
        {
          "output_type": "stream",
          "name": "stdout",
          "text": [
            "0\n"
          ]
        },
        {
          "output_type": "error",
          "ename": "Exception",
          "evalue": "ignored",
          "traceback": [
            "\u001b[0;31m---------------------------------------------------------------------------\u001b[0m",
            "\u001b[0;31mException\u001b[0m                                 Traceback (most recent call last)",
            "\u001b[0;32m<ipython-input-31-e12a7f0424a3>\u001b[0m in \u001b[0;36m<cell line: 1>\u001b[0;34m()\u001b[0m\n\u001b[1;32m      1\u001b[0m \u001b[0;32mfor\u001b[0m \u001b[0mi\u001b[0m\u001b[0;34m,\u001b[0m \u001b[0mconfiguration\u001b[0m \u001b[0;32min\u001b[0m \u001b[0menumerate\u001b[0m\u001b[0;34m(\u001b[0m\u001b[0mdata\u001b[0m\u001b[0;34m)\u001b[0m\u001b[0;34m:\u001b[0m\u001b[0;34m\u001b[0m\u001b[0;34m\u001b[0m\u001b[0m\n\u001b[1;32m      2\u001b[0m     \u001b[0mprint\u001b[0m\u001b[0;34m(\u001b[0m\u001b[0mi\u001b[0m\u001b[0;34m)\u001b[0m\u001b[0;34m\u001b[0m\u001b[0;34m\u001b[0m\u001b[0m\n\u001b[0;32m----> 3\u001b[0;31m     \u001b[0ma\u001b[0m\u001b[0;34m,\u001b[0m\u001b[0mb\u001b[0m\u001b[0;34m,\u001b[0m\u001b[0mw\u001b[0m \u001b[0;34m=\u001b[0m \u001b[0mfs\u001b[0m\u001b[0;34m.\u001b[0m\u001b[0mcalculator\u001b[0m\u001b[0;34m.\u001b[0m\u001b[0mprocess_single\u001b[0m\u001b[0;34m(\u001b[0m\u001b[0mconfiguration\u001b[0m\u001b[0;34m)\u001b[0m\u001b[0;34m\u001b[0m\u001b[0;34m\u001b[0m\u001b[0m\n\u001b[0m\u001b[1;32m      4\u001b[0m     \u001b[0mprint\u001b[0m\u001b[0;34m(\u001b[0m\u001b[0mnp\u001b[0m\u001b[0;34m.\u001b[0m\u001b[0mshape\u001b[0m\u001b[0;34m(\u001b[0m\u001b[0ma\u001b[0m\u001b[0;34m)\u001b[0m\u001b[0;34m)\u001b[0m\u001b[0;34m\u001b[0m\u001b[0;34m\u001b[0m\u001b[0m\n",
            "\u001b[0;32m/content/FitSNAP/fitsnap3lib/calculators/lammps_base.py\u001b[0m in \u001b[0;36mprocess_single\u001b[0;34m(self, data, i)\u001b[0m\n\u001b[1;32m    119\u001b[0m         \u001b[0mself\u001b[0m\u001b[0;34m.\u001b[0m\u001b[0m_i\u001b[0m \u001b[0;34m=\u001b[0m \u001b[0mi\u001b[0m\u001b[0;34m\u001b[0m\u001b[0;34m\u001b[0m\u001b[0m\n\u001b[1;32m    120\u001b[0m         \u001b[0mself\u001b[0m\u001b[0;34m.\u001b[0m\u001b[0m_initialize_lammps\u001b[0m\u001b[0;34m(\u001b[0m\u001b[0;34m)\u001b[0m\u001b[0;34m\u001b[0m\u001b[0;34m\u001b[0m\u001b[0m\n\u001b[0;32m--> 121\u001b[0;31m         \u001b[0mself\u001b[0m\u001b[0;34m.\u001b[0m\u001b[0m_prepare_lammps\u001b[0m\u001b[0;34m(\u001b[0m\u001b[0;34m)\u001b[0m\u001b[0;34m\u001b[0m\u001b[0;34m\u001b[0m\u001b[0m\n\u001b[0m\u001b[1;32m    122\u001b[0m         \u001b[0mself\u001b[0m\u001b[0;34m.\u001b[0m\u001b[0m_run_lammps\u001b[0m\u001b[0;34m(\u001b[0m\u001b[0;34m)\u001b[0m\u001b[0;34m\u001b[0m\u001b[0;34m\u001b[0m\u001b[0m\n\u001b[1;32m    123\u001b[0m         \u001b[0ma\u001b[0m\u001b[0;34m,\u001b[0m\u001b[0mb\u001b[0m\u001b[0;34m,\u001b[0m\u001b[0mw\u001b[0m \u001b[0;34m=\u001b[0m \u001b[0mself\u001b[0m\u001b[0;34m.\u001b[0m\u001b[0m_collect_lammps_single\u001b[0m\u001b[0;34m(\u001b[0m\u001b[0;34m)\u001b[0m\u001b[0;34m\u001b[0m\u001b[0;34m\u001b[0m\u001b[0m\n",
            "\u001b[0;32m/content/FitSNAP/fitsnap3lib/calculators/lammps_pace.py\u001b[0m in \u001b[0;36m_prepare_lammps\u001b[0;34m(self)\u001b[0m\n\u001b[1;32m     33\u001b[0m             \u001b[0mself\u001b[0m\u001b[0;34m.\u001b[0m\u001b[0m_lmp\u001b[0m\u001b[0;34m.\u001b[0m\u001b[0mcommand\u001b[0m\u001b[0;34m(\u001b[0m\u001b[0mline\u001b[0m\u001b[0;34m.\u001b[0m\u001b[0mlower\u001b[0m\u001b[0;34m(\u001b[0m\u001b[0;34m)\u001b[0m\u001b[0;34m)\u001b[0m\u001b[0;34m\u001b[0m\u001b[0;34m\u001b[0m\u001b[0m\n\u001b[1;32m     34\u001b[0m \u001b[0;34m\u001b[0m\u001b[0m\n\u001b[0;32m---> 35\u001b[0;31m         \u001b[0mself\u001b[0m\u001b[0;34m.\u001b[0m\u001b[0m_set_computes\u001b[0m\u001b[0;34m(\u001b[0m\u001b[0;34m)\u001b[0m\u001b[0;34m\u001b[0m\u001b[0;34m\u001b[0m\u001b[0m\n\u001b[0m\u001b[1;32m     36\u001b[0m \u001b[0;34m\u001b[0m\u001b[0m\n\u001b[1;32m     37\u001b[0m         \u001b[0mself\u001b[0m\u001b[0;34m.\u001b[0m\u001b[0m_set_neighbor_list\u001b[0m\u001b[0;34m(\u001b[0m\u001b[0;34m)\u001b[0m\u001b[0;34m\u001b[0m\u001b[0;34m\u001b[0m\u001b[0m\n",
            "\u001b[0;32m/content/FitSNAP/fitsnap3lib/calculators/lammps_pace.py\u001b[0m in \u001b[0;36m_set_computes\u001b[0;34m(self)\u001b[0m\n\u001b[1;32m     74\u001b[0m         \u001b[0;32melif\u001b[0m \u001b[0;34m(\u001b[0m\u001b[0mself\u001b[0m\u001b[0;34m.\u001b[0m\u001b[0mconfig\u001b[0m\u001b[0;34m.\u001b[0m\u001b[0msections\u001b[0m\u001b[0;34m[\u001b[0m\u001b[0;34m'ACE'\u001b[0m\u001b[0;34m]\u001b[0m\u001b[0;34m.\u001b[0m\u001b[0mbikflag\u001b[0m \u001b[0;32mand\u001b[0m \u001b[0mself\u001b[0m\u001b[0;34m.\u001b[0m\u001b[0mconfig\u001b[0m\u001b[0;34m.\u001b[0m\u001b[0msections\u001b[0m\u001b[0;34m[\u001b[0m\u001b[0;34m'ACE'\u001b[0m\u001b[0;34m]\u001b[0m\u001b[0;34m.\u001b[0m\u001b[0mdgradflag\u001b[0m\u001b[0;34m)\u001b[0m\u001b[0;34m:\u001b[0m\u001b[0;34m\u001b[0m\u001b[0;34m\u001b[0m\u001b[0m\n\u001b[1;32m     75\u001b[0m             \u001b[0mbase_pace\u001b[0m \u001b[0;34m=\u001b[0m \u001b[0;34m\"compute pace all pace coupling_coefficients.yace 1 1\"\u001b[0m\u001b[0;34m\u001b[0m\u001b[0;34m\u001b[0m\u001b[0m\n\u001b[0;32m---> 76\u001b[0;31m         \u001b[0mself\u001b[0m\u001b[0;34m.\u001b[0m\u001b[0m_lmp\u001b[0m\u001b[0;34m.\u001b[0m\u001b[0mcommand\u001b[0m\u001b[0;34m(\u001b[0m\u001b[0mbase_pace\u001b[0m\u001b[0;34m)\u001b[0m\u001b[0;34m\u001b[0m\u001b[0;34m\u001b[0m\u001b[0m\n\u001b[0m\u001b[1;32m     77\u001b[0m \u001b[0;34m\u001b[0m\u001b[0m\n\u001b[1;32m     78\u001b[0m     \u001b[0;32mdef\u001b[0m \u001b[0m_collect_lammps_nonlinear\u001b[0m\u001b[0;34m(\u001b[0m\u001b[0mself\u001b[0m\u001b[0;34m)\u001b[0m\u001b[0;34m:\u001b[0m\u001b[0;34m\u001b[0m\u001b[0;34m\u001b[0m\u001b[0m\n",
            "\u001b[0;32m/usr/local/lib/python3.10/dist-packages/lammps/core.py\u001b[0m in \u001b[0;36mcommand\u001b[0;34m(self, cmd)\u001b[0m\n\u001b[1;32m    615\u001b[0m     \u001b[0;32melse\u001b[0m\u001b[0;34m:\u001b[0m \u001b[0;32mreturn\u001b[0m\u001b[0;34m\u001b[0m\u001b[0;34m\u001b[0m\u001b[0m\n\u001b[1;32m    616\u001b[0m \u001b[0;34m\u001b[0m\u001b[0m\n\u001b[0;32m--> 617\u001b[0;31m     \u001b[0;32mwith\u001b[0m \u001b[0mExceptionCheck\u001b[0m\u001b[0;34m(\u001b[0m\u001b[0mself\u001b[0m\u001b[0;34m)\u001b[0m\u001b[0;34m:\u001b[0m\u001b[0;34m\u001b[0m\u001b[0;34m\u001b[0m\u001b[0m\n\u001b[0m\u001b[1;32m    618\u001b[0m       \u001b[0mself\u001b[0m\u001b[0;34m.\u001b[0m\u001b[0mlib\u001b[0m\u001b[0;34m.\u001b[0m\u001b[0mlammps_command\u001b[0m\u001b[0;34m(\u001b[0m\u001b[0mself\u001b[0m\u001b[0;34m.\u001b[0m\u001b[0mlmp\u001b[0m\u001b[0;34m,\u001b[0m\u001b[0mcmd\u001b[0m\u001b[0;34m)\u001b[0m\u001b[0;34m\u001b[0m\u001b[0;34m\u001b[0m\u001b[0m\n\u001b[1;32m    619\u001b[0m \u001b[0;34m\u001b[0m\u001b[0m\n",
            "\u001b[0;32m/usr/local/lib/python3.10/dist-packages/lammps/core.py\u001b[0m in \u001b[0;36m__exit__\u001b[0;34m(self, exc_type, exc_value, traceback)\u001b[0m\n\u001b[1;32m     47\u001b[0m   \u001b[0;32mdef\u001b[0m \u001b[0m__exit__\u001b[0m\u001b[0;34m(\u001b[0m\u001b[0mself\u001b[0m\u001b[0;34m,\u001b[0m \u001b[0mexc_type\u001b[0m\u001b[0;34m,\u001b[0m \u001b[0mexc_value\u001b[0m\u001b[0;34m,\u001b[0m \u001b[0mtraceback\u001b[0m\u001b[0;34m)\u001b[0m\u001b[0;34m:\u001b[0m\u001b[0;34m\u001b[0m\u001b[0;34m\u001b[0m\u001b[0m\n\u001b[1;32m     48\u001b[0m     \u001b[0;32mif\u001b[0m \u001b[0mself\u001b[0m\u001b[0;34m.\u001b[0m\u001b[0mlmp\u001b[0m\u001b[0;34m.\u001b[0m\u001b[0mhas_exceptions\u001b[0m \u001b[0;32mand\u001b[0m \u001b[0mself\u001b[0m\u001b[0;34m.\u001b[0m\u001b[0mlmp\u001b[0m\u001b[0;34m.\u001b[0m\u001b[0mlib\u001b[0m\u001b[0;34m.\u001b[0m\u001b[0mlammps_has_error\u001b[0m\u001b[0;34m(\u001b[0m\u001b[0mself\u001b[0m\u001b[0;34m.\u001b[0m\u001b[0mlmp\u001b[0m\u001b[0;34m.\u001b[0m\u001b[0mlmp\u001b[0m\u001b[0;34m)\u001b[0m\u001b[0;34m:\u001b[0m\u001b[0;34m\u001b[0m\u001b[0;34m\u001b[0m\u001b[0m\n\u001b[0;32m---> 49\u001b[0;31m       \u001b[0;32mraise\u001b[0m \u001b[0mself\u001b[0m\u001b[0;34m.\u001b[0m\u001b[0mlmp\u001b[0m\u001b[0;34m.\u001b[0m\u001b[0m_lammps_exception\u001b[0m\u001b[0;34m\u001b[0m\u001b[0;34m\u001b[0m\u001b[0m\n\u001b[0m\u001b[1;32m     50\u001b[0m \u001b[0;34m\u001b[0m\u001b[0m\n\u001b[1;32m     51\u001b[0m \u001b[0;31m# -------------------------------------------------------------------------\u001b[0m\u001b[0;34m\u001b[0m\u001b[0;34m\u001b[0m\u001b[0m\n",
            "\u001b[0;31mException\u001b[0m: ERROR: Unrecognized compute style 'pace' (src/modify.cpp:1286)"
          ]
        }
      ],
      "source": [
        "for i, configuration in enumerate(data):\n",
        "    print(i)\n",
        "    a,b,w = fs.calculator.process_single(configuration)\n",
        "    print(np.shape(a))"
      ]
    },
    {
      "cell_type": "markdown",
      "metadata": {
        "id": "UPTmgmNge7H_"
      },
      "source": [
        "# How to process configs once then do multiple fits?"
      ]
    },
    {
      "cell_type": "markdown",
      "metadata": {
        "id": "bbw7tTPve7H_"
      },
      "source": [
        "This is useful if doing many fits with the same calculator (descriptor) settings but different solver settings. We can do this by:\n",
        "\n",
        "1. Using one `FitSnap` instance to process configs and store data in its shared arrays.\n",
        "2. Using this data as input to the solver functions of another instance.\n",
        "\n",
        "First let's make an instance for calculating descriptors.\n"
      ]
    },
    {
      "cell_type": "code",
      "execution_count": null,
      "metadata": {
        "id": "0GubKP0Ee7H_"
      },
      "outputs": [],
      "source": [
        "settings = \\\n",
        "{\n",
        "\"BISPECTRUM\":\n",
        "    {\n",
        "    \"numTypes\": 1,\n",
        "    \"twojmax\": 6,\n",
        "    \"rcutfac\": 4.67637,\n",
        "    \"rfac0\": 0.99363,\n",
        "    \"rmin0\": 0.0,\n",
        "    \"wj\": 1.0,\n",
        "    \"radelem\": 0.5,\n",
        "    \"type\": \"Ta\",\n",
        "    \"wselfallflag\": 0,\n",
        "    \"chemflag\": 0,\n",
        "    \"bzeroflag\": 1,\n",
        "    \"bikflag\": 1,\n",
        "    \"dgradflag\": 1\n",
        "    },\n",
        "\"CALCULATOR\":\n",
        "    {\n",
        "    \"calculator\": \"LAMMPSSNAP\",\n",
        "    \"energy\": 1,\n",
        "    \"force\": 1,\n",
        "    \"per_atom_energy\": 1,\n",
        "    \"nonlinear\": 1\n",
        "    },\n",
        "\"PYTORCH\":\n",
        "    {\n",
        "    \"layer_sizes\": \"num_desc 64 64 1\",\n",
        "    \"learning_rate\": 1e-4,\n",
        "    \"num_epochs\": 10,\n",
        "    \"batch_size\": 4, # 363 configs in entire set\n",
        "    \"save_state_output\": \"Ta_Pytorch.pt\"\n",
        "    },\n",
        "\"SOLVER\":\n",
        "    {\n",
        "    \"solver\": \"PYTORCH\"\n",
        "    },\n",
        "\"SCRAPER\":\n",
        "    {\n",
        "    \"scraper\": \"JSON\"\n",
        "    },\n",
        "\"PATH\":\n",
        "    {\n",
        "    \"dataPath\": \"examples/Ta_Linear_JCP2014/JSON\"\n",
        "    },\n",
        "\"REFERENCE\":\n",
        "    {\n",
        "    \"units\": \"metal\",\n",
        "    \"atom_style\": \"atomic\",\n",
        "    \"pair_style\": \"hybrid/overlay zero 6.0 zbl 4.0 4.8\",\n",
        "    \"pair_coeff1\": \"* * zero\",\n",
        "    \"pair_coeff2\": \"* * zbl 73 73\"\n",
        "    },\n",
        "\"GROUPS\":\n",
        "    {\n",
        "    \"group_sections\": \"name training_size testing_size eweight fweight\",\n",
        "    \"group_types\": \"str float float float float\",\n",
        "    \"smartweights\": 0,\n",
        "    \"random_sampling\": 0,\n",
        "    \"Displaced_A15\" :  \"0.7 0.3 1e-2 1\",\n",
        "    \"Displaced_BCC\" :  \"0.7 0.3 1e-2 1\",\n",
        "    \"Displaced_FCC\" :  \"0.7 0.3 1e-2 1\",\n",
        "    \"Elastic_BCC\"   :  \"0.7 0.3 1e-2 1\",\n",
        "    \"Elastic_FCC\"   :  \"0.7 0.3 1e-2 1\",\n",
        "    \"GSF_110\"       :  \"0.7 0.3 1e-2 1\",\n",
        "    \"GSF_112\"       :  \"0.7 0.3 1e-2 1\",\n",
        "    \"Liquid\"        :  \"0.7 0.3 1e-2 1\",\n",
        "    \"Surface\"       :  \"0.7 0.3 1e-2 1\",\n",
        "    \"Volume_A15\"    :  \"0.7 0.3 1e-2 1\",\n",
        "    \"Volume_BCC\"    :  \"0.7 0.3 1e-2 1\",\n",
        "    \"Volume_FCC\"    :  \"0.7 0.3 1e-2 1\"\n",
        "    }\n",
        "}"
      ]
    },
    {
      "cell_type": "code",
      "execution_count": null,
      "metadata": {
        "id": "4iJ3YpN1e7H_"
      },
      "outputs": [],
      "source": [
        "fs1 = FitSnap(settings, arglist=[\"--overwrite\"])\n",
        "fs1.scrape_configs()\n",
        "fs1.process_configs()"
      ]
    },
    {
      "cell_type": "markdown",
      "metadata": {
        "id": "hklmkRWUe7IA"
      },
      "source": [
        "Now use the descriptor data from this instance (which is stored in `fs1.pt`), to perform many fits\n",
        "with other instances possessing different settings."
      ]
    },
    {
      "cell_type": "code",
      "execution_count": null,
      "metadata": {
        "id": "EMFqFUVBe7IA"
      },
      "outputs": [],
      "source": [
        "# Fit with one learning rate:\n",
        "settings2 = deepcopy(settings)\n",
        "settings2[\"PYTORCH\"][\"learning_rate\"] = 1e-3\n",
        "fs2 = FitSnap(settings2, arglist=[\"--overwrite\"])\n",
        "# Fit with the shared array data from instance `fs1`.\n",
        "fs2.solver.perform_fit(pt=fs1.pt)"
      ]
    },
    {
      "cell_type": "code",
      "execution_count": null,
      "metadata": {
        "id": "mQM_FtsOe7IB"
      },
      "outputs": [],
      "source": [
        "# Fit with a larger learning rate:\n",
        "settings3 = deepcopy(settings)\n",
        "settings3[\"PYTORCH\"][\"learning_rate\"] = 1e-6\n",
        "fs3 = FitSnap(settings3, arglist=[\"--overwrite\"])\n",
        "# Fit with the shared array data from instance `fs1`.\n",
        "fs3.solver.perform_fit(pt=fs1.pt)"
      ]
    },
    {
      "cell_type": "markdown",
      "metadata": {
        "id": "TlE1PpeMe7IB"
      },
      "source": [
        "Get errors of the two instances."
      ]
    },
    {
      "cell_type": "code",
      "execution_count": null,
      "metadata": {
        "id": "nMyCMOHGe7IB"
      },
      "outputs": [],
      "source": [
        "# For NNs, `solver.errors` is currently a tuple of dictionaries.\n",
        "# Errors for larger learning rate:\n",
        "fs2.solver.error_analysis()\n",
        "(mae_f, mae_e, rmse_f, rmse_e, count_train, count_test) = fs2.solver.errors\n",
        "# Look at force MAE of specific group:\n",
        "print(mae_f[\"Displaced_A15\"])"
      ]
    },
    {
      "cell_type": "code",
      "execution_count": null,
      "metadata": {
        "id": "K9JbIPFne7IB"
      },
      "outputs": [],
      "source": [
        "# Errors for smaller learning rate:\n",
        "fs3.solver.error_analysis()\n",
        "(mae_f, mae_e, rmse_f, rmse_e, count_train, count_test) = fs3.solver.errors\n",
        "# Look at force MAE of specific group:\n",
        "print(mae_f[\"Displaced_A15\"])"
      ]
    },
    {
      "cell_type": "markdown",
      "metadata": {
        "id": "9zvAMl-pe7IC"
      },
      "source": [
        "# Hiearchical parallelism with custom communicators"
      ]
    },
    {
      "cell_type": "markdown",
      "metadata": {
        "id": "Dx_j1h2Ge7IC"
      },
      "source": [
        "These simple examples all used a single world communicator. Our design, however, allows one to create many instances each with a different communicator, to get creative with how fits are done in parallel. For example one could split the communicator among a group of processes, and then perform multiple fits *in parallel*, where each fit is performed in parallel using the processes in its communicator. This is beyond the scope of a iPython notebook since it requires making custom Python scripts with MPI."
      ]
    },
    {
      "cell_type": "markdown",
      "metadata": {
        "id": "3bNbup_pe7IC"
      },
      "source": [
        "# How do the shared arrays work?"
      ]
    },
    {
      "cell_type": "markdown",
      "metadata": {
        "id": "xCIWb-DPe7ID"
      },
      "source": [
        "Each `FitSnap` instance contains shared arrays inside the `snap.pt.shared_arrays` dictionary. The descriptor array is stored in `snap.pt.shared_arrays['a'].array`. The contents of this array are shared in memory between all processes in the instance communicator `snap.pt._comm` (this is the same communicator we passed when creating the instance). This means that when an element of the shared array is changed on one process in `comm`, it will change the shared array with all other processes in the same communicator. This is important because although each `snap.pt` instance is different for all processes in a communicator, the contents `snap.pt.shared_arrays['a'].array` are shared."
      ]
    }
  ],
  "metadata": {
    "colab": {
      "provenance": [],
      "include_colab_link": true
    },
    "kernelspec": {
      "display_name": "Python 3",
      "name": "python3"
    },
    "language_info": {
      "codemirror_mode": {
        "name": "ipython",
        "version": 3
      },
      "file_extension": ".py",
      "mimetype": "text/x-python",
      "name": "python",
      "nbconvert_exporter": "python",
      "pygments_lexer": "ipython3",
      "version": "3.10.9"
    }
  },
  "nbformat": 4,
  "nbformat_minor": 0
}