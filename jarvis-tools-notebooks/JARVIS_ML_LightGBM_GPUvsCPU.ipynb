{
  "nbformat": 4,
  "nbformat_minor": 0,
  "metadata": {
    "colab": {
      "name": "JARVIS-ML_LightGBM_GPUvsCPU.ipynb",
      "provenance": [],
      "authorship_tag": "ABX9TyNCdm7EU7vlYhYdT6fOje5H",
      "include_colab_link": true
    },
    "kernelspec": {
      "name": "python3",
      "display_name": "Python 3"
    },
    "accelerator": "GPU"
  },
  "cells": [
    {
      "cell_type": "markdown",
      "metadata": {
        "id": "view-in-github",
        "colab_type": "text"
      },
      "source": [
        "<a href=\"https://colab.research.google.com/github/knc6/jarvis-tools-notebooks/blob/master/jarvis-tools-notebooks/JARVIS_ML_LightGBM_GPUvsCPU.ipynb\" target=\"_parent\"><img src=\"https://colab.research.google.com/assets/colab-badge.svg\" alt=\"Open In Colab\"/></a>"
      ]
    },
    {
      "cell_type": "markdown",
      "metadata": {
        "id": "6jKw__kwWaU0",
        "colab_type": "text"
      },
      "source": [
        "## This notebook shows how GPU can accelerate model training with respect to CPU using JARVIS-ML CFID dataset ."
      ]
    },
    {
      "cell_type": "markdown",
      "metadata": {
        "id": "S0lxZk0MSPf7",
        "colab_type": "text"
      },
      "source": [
        "##Download LightGBM"
      ]
    },
    {
      "cell_type": "code",
      "metadata": {
        "id": "8JtXvi0XfnPU",
        "colab_type": "code",
        "colab": {
          "base_uri": "https://localhost:8080/",
          "height": 255
        },
        "outputId": "2407b5b2-5e80-47e8-aae3-942fda8a922f"
      },
      "source": [
        "! git clone --recursive https://github.com/Microsoft/LightGBM\n"
      ],
      "execution_count": 1,
      "outputs": [
        {
          "output_type": "stream",
          "text": [
            "Cloning into 'LightGBM'...\n",
            "remote: Enumerating objects: 17, done.\u001b[K\n",
            "remote: Counting objects: 100% (17/17), done.\u001b[K\n",
            "remote: Compressing objects: 100% (16/16), done.\u001b[K\n",
            "remote: Total 18246 (delta 3), reused 2 (delta 1), pack-reused 18229\u001b[K\n",
            "Receiving objects: 100% (18246/18246), 12.25 MiB | 12.13 MiB/s, done.\n",
            "Resolving deltas: 100% (13319/13319), done.\n",
            "Submodule 'include/boost/compute' (https://github.com/boostorg/compute) registered for path 'compute'\n",
            "Cloning into '/content/LightGBM/compute'...\n",
            "remote: Enumerating objects: 21728, done.        \n",
            "remote: Total 21728 (delta 0), reused 0 (delta 0), pack-reused 21728        \n",
            "Receiving objects: 100% (21728/21728), 8.51 MiB | 3.02 MiB/s, done.\n",
            "Resolving deltas: 100% (17565/17565), done.\n",
            "Submodule path 'compute': checked out '36c89134d4013b2e5e45bc55656a18bd6141995a'\n"
          ],
          "name": "stdout"
        }
      ]
    },
    {
      "cell_type": "markdown",
      "metadata": {
        "id": "CLddeP17SJNu",
        "colab_type": "text"
      },
      "source": [
        "## Install LightGBM with GPU\n",
        "## Make sure you have enabled GPU using: \" Edit>Notebook Settings>GPU \" from the dropdown menu up"
      ]
    },
    {
      "cell_type": "code",
      "metadata": {
        "id": "-Pncd82VhuN9",
        "colab_type": "code",
        "colab": {
          "base_uri": "https://localhost:8080/",
          "height": 1000
        },
        "outputId": "b2eaeac2-d96c-48d2-c7b3-4efaaead70d1"
      },
      "source": [
        "\n",
        "! cd LightGBM && rm -rf build && mkdir build && cd build && cmake -DUSE_GPU=1 ../../LightGBM && make -j4 && cd ../python-package && python3 setup.py install --precompile --gpu;"
      ],
      "execution_count": 2,
      "outputs": [
        {
          "output_type": "stream",
          "text": [
            "-- The C compiler identification is GNU 7.5.0\n",
            "-- The CXX compiler identification is GNU 7.5.0\n",
            "-- Check for working C compiler: /usr/bin/cc\n",
            "-- Check for working C compiler: /usr/bin/cc -- works\n",
            "-- Detecting C compiler ABI info\n",
            "-- Detecting C compiler ABI info - done\n",
            "-- Detecting C compile features\n",
            "-- Detecting C compile features - done\n",
            "-- Check for working CXX compiler: /usr/bin/c++\n",
            "-- Check for working CXX compiler: /usr/bin/c++ -- works\n",
            "-- Detecting CXX compiler ABI info\n",
            "-- Detecting CXX compiler ABI info - done\n",
            "-- Detecting CXX compile features\n",
            "-- Detecting CXX compile features - done\n",
            "-- Found OpenMP_C: -fopenmp (found version \"4.5\") \n",
            "-- Found OpenMP_CXX: -fopenmp (found version \"4.5\") \n",
            "-- Found OpenMP: TRUE (found version \"4.5\")  \n",
            "-- Looking for CL_VERSION_2_2\n",
            "-- Looking for CL_VERSION_2_2 - found\n",
            "-- Found OpenCL: /usr/lib/x86_64-linux-gnu/libOpenCL.so (found version \"2.2\") \n",
            "-- OpenCL include directory: /usr/include\n",
            "-- Boost version: 1.65.1\n",
            "-- Found the following Boost libraries:\n",
            "--   filesystem\n",
            "--   system\n",
            "-- Performing Test MM_PREFETCH\n",
            "-- Performing Test MM_PREFETCH - Success\n",
            "-- Using _mm_prefetch\n",
            "-- Performing Test MM_MALLOC\n",
            "-- Performing Test MM_MALLOC - Success\n",
            "-- Using _mm_malloc\n",
            "-- Configuring done\n",
            "-- Generating done\n",
            "-- Build files have been written to: /content/LightGBM/build\n",
            "\u001b[35m\u001b[1mScanning dependencies of target _lightgbm\u001b[0m\n",
            "\u001b[35m\u001b[1mScanning dependencies of target lightgbm\u001b[0m\n",
            "[  1%] \u001b[32mBuilding CXX object CMakeFiles/_lightgbm.dir/src/application/application.cpp.o\u001b[0m\n",
            "[  3%] \u001b[32mBuilding CXX object CMakeFiles/lightgbm.dir/src/boosting/boosting.cpp.o\u001b[0m\n",
            "[  4%] \u001b[32mBuilding CXX object CMakeFiles/lightgbm.dir/src/main.cpp.o\u001b[0m\n",
            "[  6%] \u001b[32mBuilding CXX object CMakeFiles/lightgbm.dir/src/application/application.cpp.o\u001b[0m\n",
            "[  8%] \u001b[32mBuilding CXX object CMakeFiles/_lightgbm.dir/src/boosting/boosting.cpp.o\u001b[0m\n",
            "[  9%] \u001b[32mBuilding CXX object CMakeFiles/_lightgbm.dir/src/boosting/gbdt.cpp.o\u001b[0m\n",
            "[ 11%] \u001b[32mBuilding CXX object CMakeFiles/lightgbm.dir/src/boosting/gbdt.cpp.o\u001b[0m\n",
            "[ 12%] \u001b[32mBuilding CXX object CMakeFiles/lightgbm.dir/src/boosting/gbdt_model_text.cpp.o\u001b[0m\n",
            "[ 14%] \u001b[32mBuilding CXX object CMakeFiles/_lightgbm.dir/src/boosting/gbdt_model_text.cpp.o\u001b[0m\n",
            "[ 16%] \u001b[32mBuilding CXX object CMakeFiles/_lightgbm.dir/src/boosting/gbdt_prediction.cpp.o\u001b[0m\n",
            "[ 17%] \u001b[32mBuilding CXX object CMakeFiles/lightgbm.dir/src/boosting/gbdt_prediction.cpp.o\u001b[0m\n",
            "[ 19%] \u001b[32mBuilding CXX object CMakeFiles/_lightgbm.dir/src/boosting/prediction_early_stop.cpp.o\u001b[0m\n",
            "[ 20%] \u001b[32mBuilding CXX object CMakeFiles/lightgbm.dir/src/boosting/prediction_early_stop.cpp.o\u001b[0m\n",
            "[ 22%] \u001b[32mBuilding CXX object CMakeFiles/_lightgbm.dir/src/io/bin.cpp.o\u001b[0m\n",
            "[ 24%] \u001b[32mBuilding CXX object CMakeFiles/lightgbm.dir/src/io/bin.cpp.o\u001b[0m\n",
            "[ 25%] \u001b[32mBuilding CXX object CMakeFiles/_lightgbm.dir/src/io/config.cpp.o\u001b[0m\n",
            "[ 27%] \u001b[32mBuilding CXX object CMakeFiles/_lightgbm.dir/src/io/config_auto.cpp.o\u001b[0m\n",
            "[ 29%] \u001b[32mBuilding CXX object CMakeFiles/_lightgbm.dir/src/io/dataset.cpp.o\u001b[0m\n",
            "[ 30%] \u001b[32mBuilding CXX object CMakeFiles/_lightgbm.dir/src/io/dataset_loader.cpp.o\u001b[0m\n",
            "[ 32%] \u001b[32mBuilding CXX object CMakeFiles/_lightgbm.dir/src/io/file_io.cpp.o\u001b[0m\n",
            "[ 33%] \u001b[32mBuilding CXX object CMakeFiles/_lightgbm.dir/src/io/json11.cpp.o\u001b[0m\n",
            "[ 35%] \u001b[32mBuilding CXX object CMakeFiles/_lightgbm.dir/src/io/metadata.cpp.o\u001b[0m\n",
            "[ 37%] \u001b[32mBuilding CXX object CMakeFiles/_lightgbm.dir/src/io/parser.cpp.o\u001b[0m\n",
            "[ 38%] \u001b[32mBuilding CXX object CMakeFiles/_lightgbm.dir/src/io/tree.cpp.o\u001b[0m\n",
            "[ 40%] \u001b[32mBuilding CXX object CMakeFiles/_lightgbm.dir/src/metric/dcg_calculator.cpp.o\u001b[0m\n",
            "[ 41%] \u001b[32mBuilding CXX object CMakeFiles/_lightgbm.dir/src/metric/metric.cpp.o\u001b[0m\n",
            "[ 43%] \u001b[32mBuilding CXX object CMakeFiles/lightgbm.dir/src/io/config.cpp.o\u001b[0m\n",
            "[ 45%] \u001b[32mBuilding CXX object CMakeFiles/lightgbm.dir/src/io/config_auto.cpp.o\u001b[0m\n",
            "[ 46%] \u001b[32mBuilding CXX object CMakeFiles/_lightgbm.dir/src/network/linker_topo.cpp.o\u001b[0m\n",
            "[ 48%] \u001b[32mBuilding CXX object CMakeFiles/_lightgbm.dir/src/network/linkers_mpi.cpp.o\u001b[0m\n",
            "[ 50%] \u001b[32mBuilding CXX object CMakeFiles/_lightgbm.dir/src/network/linkers_socket.cpp.o\u001b[0m\n",
            "[ 51%] \u001b[32mBuilding CXX object CMakeFiles/lightgbm.dir/src/io/dataset.cpp.o\u001b[0m\n",
            "[ 53%] \u001b[32mBuilding CXX object CMakeFiles/lightgbm.dir/src/io/dataset_loader.cpp.o\u001b[0m\n",
            "[ 54%] \u001b[32mBuilding CXX object CMakeFiles/_lightgbm.dir/src/network/network.cpp.o\u001b[0m\n",
            "[ 56%] \u001b[32mBuilding CXX object CMakeFiles/_lightgbm.dir/src/objective/objective_function.cpp.o\u001b[0m\n",
            "[ 58%] \u001b[32mBuilding CXX object CMakeFiles/_lightgbm.dir/src/treelearner/data_parallel_tree_learner.cpp.o\u001b[0m\n",
            "[ 59%] \u001b[32mBuilding CXX object CMakeFiles/lightgbm.dir/src/io/file_io.cpp.o\u001b[0m\n",
            "[ 61%] \u001b[32mBuilding CXX object CMakeFiles/lightgbm.dir/src/io/json11.cpp.o\u001b[0m\n",
            "[ 62%] \u001b[32mBuilding CXX object CMakeFiles/lightgbm.dir/src/io/metadata.cpp.o\u001b[0m\n",
            "[ 64%] \u001b[32mBuilding CXX object CMakeFiles/lightgbm.dir/src/io/parser.cpp.o\u001b[0m\n",
            "[ 66%] \u001b[32mBuilding CXX object CMakeFiles/_lightgbm.dir/src/treelearner/feature_parallel_tree_learner.cpp.o\u001b[0m\n",
            "[ 67%] \u001b[32mBuilding CXX object CMakeFiles/lightgbm.dir/src/io/tree.cpp.o\u001b[0m\n",
            "[ 69%] \u001b[32mBuilding CXX object CMakeFiles/lightgbm.dir/src/metric/dcg_calculator.cpp.o\u001b[0m\n",
            "[ 70%] \u001b[32mBuilding CXX object CMakeFiles/_lightgbm.dir/src/treelearner/gpu_tree_learner.cpp.o\u001b[0m\n",
            "[ 72%] \u001b[32mBuilding CXX object CMakeFiles/lightgbm.dir/src/metric/metric.cpp.o\u001b[0m\n",
            "[ 74%] \u001b[32mBuilding CXX object CMakeFiles/lightgbm.dir/src/network/linker_topo.cpp.o\u001b[0m\n",
            "[ 75%] \u001b[32mBuilding CXX object CMakeFiles/lightgbm.dir/src/network/linkers_mpi.cpp.o\u001b[0m\n",
            "[ 77%] \u001b[32mBuilding CXX object CMakeFiles/lightgbm.dir/src/network/linkers_socket.cpp.o\u001b[0m\n",
            "[ 79%] \u001b[32mBuilding CXX object CMakeFiles/_lightgbm.dir/src/treelearner/serial_tree_learner.cpp.o\u001b[0m\n",
            "[ 80%] \u001b[32mBuilding CXX object CMakeFiles/_lightgbm.dir/src/treelearner/tree_learner.cpp.o\u001b[0m\n",
            "[ 82%] \u001b[32mBuilding CXX object CMakeFiles/lightgbm.dir/src/network/network.cpp.o\u001b[0m\n",
            "[ 83%] \u001b[32mBuilding CXX object CMakeFiles/lightgbm.dir/src/objective/objective_function.cpp.o\u001b[0m\n",
            "[ 85%] \u001b[32mBuilding CXX object CMakeFiles/_lightgbm.dir/src/treelearner/voting_parallel_tree_learner.cpp.o\u001b[0m\n",
            "[ 87%] \u001b[32mBuilding CXX object CMakeFiles/_lightgbm.dir/src/c_api.cpp.o\u001b[0m\n",
            "[ 88%] \u001b[32mBuilding CXX object CMakeFiles/lightgbm.dir/src/treelearner/data_parallel_tree_learner.cpp.o\u001b[0m\n",
            "[ 90%] \u001b[32mBuilding CXX object CMakeFiles/lightgbm.dir/src/treelearner/feature_parallel_tree_learner.cpp.o\u001b[0m\n",
            "[ 91%] \u001b[32mBuilding CXX object CMakeFiles/lightgbm.dir/src/treelearner/gpu_tree_learner.cpp.o\u001b[0m\n",
            "[ 93%] \u001b[32mBuilding CXX object CMakeFiles/lightgbm.dir/src/treelearner/serial_tree_learner.cpp.o\u001b[0m\n",
            "[ 95%] \u001b[32mBuilding CXX object CMakeFiles/lightgbm.dir/src/treelearner/tree_learner.cpp.o\u001b[0m\n",
            "[ 96%] \u001b[32mBuilding CXX object CMakeFiles/lightgbm.dir/src/treelearner/voting_parallel_tree_learner.cpp.o\u001b[0m\n",
            "[ 98%] \u001b[32m\u001b[1mLinking CXX shared library ../lib_lightgbm.so\u001b[0m\n",
            "[ 98%] Built target _lightgbm\n",
            "[100%] \u001b[32m\u001b[1mLinking CXX executable ../lightgbm\u001b[0m\n",
            "[100%] Built target lightgbm\n",
            "running install\n",
            "running build\n",
            "running build_py\n",
            "INFO:root:Generating grammar tables from /usr/lib/python3.6/lib2to3/Grammar.txt\n",
            "INFO:root:Generating grammar tables from /usr/lib/python3.6/lib2to3/PatternGrammar.txt\n",
            "creating build\n",
            "creating build/lib\n",
            "creating build/lib/lightgbm\n",
            "copying lightgbm/basic.py -> build/lib/lightgbm\n",
            "copying lightgbm/libpath.py -> build/lib/lightgbm\n",
            "copying lightgbm/__init__.py -> build/lib/lightgbm\n",
            "copying lightgbm/compat.py -> build/lib/lightgbm\n",
            "copying lightgbm/engine.py -> build/lib/lightgbm\n",
            "copying lightgbm/plotting.py -> build/lib/lightgbm\n",
            "copying lightgbm/callback.py -> build/lib/lightgbm\n",
            "copying lightgbm/sklearn.py -> build/lib/lightgbm\n",
            "running egg_info\n",
            "creating lightgbm.egg-info\n",
            "writing lightgbm.egg-info/PKG-INFO\n",
            "writing dependency_links to lightgbm.egg-info/dependency_links.txt\n",
            "writing requirements to lightgbm.egg-info/requires.txt\n",
            "writing top-level names to lightgbm.egg-info/top_level.txt\n",
            "writing manifest file 'lightgbm.egg-info/SOURCES.txt'\n",
            "reading manifest template 'MANIFEST.in'\n",
            "no previously-included directories found matching 'build'\n",
            "warning: no files found matching 'LICENSE'\n",
            "warning: no files found matching '*.txt'\n",
            "warning: no files found matching '*.so' under directory 'lightgbm'\n",
            "warning: no files found matching '*.txt' under directory 'compile'\n",
            "warning: no files found matching '*.so' under directory 'compile'\n",
            "warning: no files found matching '*.dll' under directory 'compile/Release'\n",
            "warning: no files found matching '*' under directory 'compile/compute'\n",
            "warning: no files found matching '*' under directory 'compile/include'\n",
            "warning: no files found matching '*' under directory 'compile/src'\n",
            "warning: no files found matching 'LightGBM.sln' under directory 'compile/windows'\n",
            "warning: no files found matching 'LightGBM.vcxproj' under directory 'compile/windows'\n",
            "warning: no files found matching '*.dll' under directory 'compile/windows/x64/DLL'\n",
            "warning: no previously-included files matching '*.py[co]' found anywhere in distribution\n",
            "writing manifest file 'lightgbm.egg-info/SOURCES.txt'\n",
            "copying lightgbm/VERSION.txt -> build/lib/lightgbm\n",
            "running install_lib\n",
            "copying build/lib/lightgbm/VERSION.txt -> /usr/local/lib/python3.6/dist-packages/lightgbm\n",
            "copying build/lib/lightgbm/basic.py -> /usr/local/lib/python3.6/dist-packages/lightgbm\n",
            "copying build/lib/lightgbm/libpath.py -> /usr/local/lib/python3.6/dist-packages/lightgbm\n",
            "copying build/lib/lightgbm/__init__.py -> /usr/local/lib/python3.6/dist-packages/lightgbm\n",
            "copying build/lib/lightgbm/compat.py -> /usr/local/lib/python3.6/dist-packages/lightgbm\n",
            "copying build/lib/lightgbm/engine.py -> /usr/local/lib/python3.6/dist-packages/lightgbm\n",
            "copying build/lib/lightgbm/plotting.py -> /usr/local/lib/python3.6/dist-packages/lightgbm\n",
            "copying build/lib/lightgbm/callback.py -> /usr/local/lib/python3.6/dist-packages/lightgbm\n",
            "copying build/lib/lightgbm/sklearn.py -> /usr/local/lib/python3.6/dist-packages/lightgbm\n",
            "INFO:LightGBM:Installing lib_lightgbm from: ['../lib_lightgbm.so']\n",
            "copying ../lib_lightgbm.so -> /usr/local/lib/python3.6/dist-packages/lightgbm\n",
            "byte-compiling /usr/local/lib/python3.6/dist-packages/lightgbm/basic.py to basic.cpython-36.pyc\n",
            "byte-compiling /usr/local/lib/python3.6/dist-packages/lightgbm/libpath.py to libpath.cpython-36.pyc\n",
            "byte-compiling /usr/local/lib/python3.6/dist-packages/lightgbm/__init__.py to __init__.cpython-36.pyc\n",
            "byte-compiling /usr/local/lib/python3.6/dist-packages/lightgbm/compat.py to compat.cpython-36.pyc\n",
            "byte-compiling /usr/local/lib/python3.6/dist-packages/lightgbm/engine.py to engine.cpython-36.pyc\n",
            "byte-compiling /usr/local/lib/python3.6/dist-packages/lightgbm/plotting.py to plotting.cpython-36.pyc\n",
            "byte-compiling /usr/local/lib/python3.6/dist-packages/lightgbm/callback.py to callback.cpython-36.pyc\n",
            "byte-compiling /usr/local/lib/python3.6/dist-packages/lightgbm/sklearn.py to sklearn.cpython-36.pyc\n",
            "running install_egg_info\n",
            "Copying lightgbm.egg-info to /usr/local/lib/python3.6/dist-packages/lightgbm-2.3.2-py3.6.egg-info\n",
            "running install_scripts\n"
          ],
          "name": "stdout"
        }
      ]
    },
    {
      "cell_type": "markdown",
      "metadata": {
        "id": "L39c95tKSnCo",
        "colab_type": "text"
      },
      "source": [
        "##GPU information"
      ]
    },
    {
      "cell_type": "code",
      "metadata": {
        "id": "aQPUvECXnQEd",
        "colab_type": "code",
        "colab": {
          "base_uri": "https://localhost:8080/",
          "height": 357
        },
        "outputId": "25c6dcd9-d4d1-40e6-ee13-b3f59c96dd5e"
      },
      "source": [
        "!nvidia-smi"
      ],
      "execution_count": 7,
      "outputs": [
        {
          "output_type": "stream",
          "text": [
            "Sat Jun 27 16:29:46 2020       \n",
            "+-----------------------------------------------------------------------------+\n",
            "| NVIDIA-SMI 450.36.06    Driver Version: 418.67       CUDA Version: 10.1     |\n",
            "|-------------------------------+----------------------+----------------------+\n",
            "| GPU  Name        Persistence-M| Bus-Id        Disp.A | Volatile Uncorr. ECC |\n",
            "| Fan  Temp  Perf  Pwr:Usage/Cap|         Memory-Usage | GPU-Util  Compute M. |\n",
            "|                               |                      |               MIG M. |\n",
            "|===============================+======================+======================|\n",
            "|   0  Tesla T4            Off  | 00000000:00:04.0 Off |                    0 |\n",
            "| N/A   40C    P8     9W /  70W |      0MiB / 15079MiB |      0%      Default |\n",
            "|                               |                      |                 ERR! |\n",
            "+-------------------------------+----------------------+----------------------+\n",
            "                                                                               \n",
            "+-----------------------------------------------------------------------------+\n",
            "| Processes:                                                                  |\n",
            "|  GPU   GI   CI        PID   Type   Process name                  GPU Memory |\n",
            "|        ID   ID                                                   Usage      |\n",
            "|=============================================================================|\n",
            "|  No running processes found                                                 |\n",
            "+-----------------------------------------------------------------------------+\n"
          ],
          "name": "stdout"
        }
      ]
    },
    {
      "cell_type": "markdown",
      "metadata": {
        "id": "2mjRyTsmSrud",
        "colab_type": "text"
      },
      "source": [
        "##Install jarvis-tools"
      ]
    },
    {
      "cell_type": "code",
      "metadata": {
        "id": "RqYsZS8GoPvj",
        "colab_type": "code",
        "colab": {
          "base_uri": "https://localhost:8080/",
          "height": 564
        },
        "outputId": "08bfaf0c-a5b9-4830-dc3d-07b7cfef97f1"
      },
      "source": [
        "!pip install jarvis-tools"
      ],
      "execution_count": 17,
      "outputs": [
        {
          "output_type": "stream",
          "text": [
            "Collecting jarvis-tools\n",
            "\u001b[?25l  Downloading https://files.pythonhosted.org/packages/2e/42/4ea8aa37a4e3e26dc14be3ecebba0a256a926b8489da712a8d773c2cd33c/jarvis_tools-2020.6.9-py2.py3-none-any.whl (794kB)\n",
            "\r\u001b[K     |▍                               | 10kB 23.5MB/s eta 0:00:01\r\u001b[K     |▉                               | 20kB 6.1MB/s eta 0:00:01\r\u001b[K     |█▎                              | 30kB 6.1MB/s eta 0:00:01\r\u001b[K     |█▋                              | 40kB 6.6MB/s eta 0:00:01\r\u001b[K     |██                              | 51kB 6.7MB/s eta 0:00:01\r\u001b[K     |██▌                             | 61kB 7.1MB/s eta 0:00:01\r\u001b[K     |██▉                             | 71kB 8.0MB/s eta 0:00:01\r\u001b[K     |███▎                            | 81kB 8.5MB/s eta 0:00:01\r\u001b[K     |███▊                            | 92kB 8.0MB/s eta 0:00:01\r\u001b[K     |████▏                           | 102kB 8.7MB/s eta 0:00:01\r\u001b[K     |████▌                           | 112kB 8.7MB/s eta 0:00:01\r\u001b[K     |█████                           | 122kB 8.7MB/s eta 0:00:01\r\u001b[K     |█████▍                          | 133kB 8.7MB/s eta 0:00:01\r\u001b[K     |█████▊                          | 143kB 8.7MB/s eta 0:00:01\r\u001b[K     |██████▏                         | 153kB 8.7MB/s eta 0:00:01\r\u001b[K     |██████▋                         | 163kB 8.7MB/s eta 0:00:01\r\u001b[K     |███████                         | 174kB 8.7MB/s eta 0:00:01\r\u001b[K     |███████▍                        | 184kB 8.7MB/s eta 0:00:01\r\u001b[K     |███████▉                        | 194kB 8.7MB/s eta 0:00:01\r\u001b[K     |████████▎                       | 204kB 8.7MB/s eta 0:00:01\r\u001b[K     |████████▋                       | 215kB 8.7MB/s eta 0:00:01\r\u001b[K     |█████████                       | 225kB 8.7MB/s eta 0:00:01\r\u001b[K     |█████████▌                      | 235kB 8.7MB/s eta 0:00:01\r\u001b[K     |██████████                      | 245kB 8.7MB/s eta 0:00:01\r\u001b[K     |██████████▎                     | 256kB 8.7MB/s eta 0:00:01\r\u001b[K     |██████████▊                     | 266kB 8.7MB/s eta 0:00:01\r\u001b[K     |███████████▏                    | 276kB 8.7MB/s eta 0:00:01\r\u001b[K     |███████████▌                    | 286kB 8.7MB/s eta 0:00:01\r\u001b[K     |████████████                    | 296kB 8.7MB/s eta 0:00:01\r\u001b[K     |████████████▍                   | 307kB 8.7MB/s eta 0:00:01\r\u001b[K     |████████████▉                   | 317kB 8.7MB/s eta 0:00:01\r\u001b[K     |█████████████▏                  | 327kB 8.7MB/s eta 0:00:01\r\u001b[K     |█████████████▋                  | 337kB 8.7MB/s eta 0:00:01\r\u001b[K     |██████████████                  | 348kB 8.7MB/s eta 0:00:01\r\u001b[K     |██████████████▍                 | 358kB 8.7MB/s eta 0:00:01\r\u001b[K     |██████████████▉                 | 368kB 8.7MB/s eta 0:00:01\r\u001b[K     |███████████████▎                | 378kB 8.7MB/s eta 0:00:01\r\u001b[K     |███████████████▊                | 389kB 8.7MB/s eta 0:00:01\r\u001b[K     |████████████████                | 399kB 8.7MB/s eta 0:00:01\r\u001b[K     |████████████████▌               | 409kB 8.7MB/s eta 0:00:01\r\u001b[K     |█████████████████               | 419kB 8.7MB/s eta 0:00:01\r\u001b[K     |█████████████████▎              | 430kB 8.7MB/s eta 0:00:01\r\u001b[K     |█████████████████▊              | 440kB 8.7MB/s eta 0:00:01\r\u001b[K     |██████████████████▏             | 450kB 8.7MB/s eta 0:00:01\r\u001b[K     |██████████████████▋             | 460kB 8.7MB/s eta 0:00:01\r\u001b[K     |███████████████████             | 471kB 8.7MB/s eta 0:00:01\r\u001b[K     |███████████████████▍            | 481kB 8.7MB/s eta 0:00:01\r\u001b[K     |███████████████████▉            | 491kB 8.7MB/s eta 0:00:01\r\u001b[K     |████████████████████▏           | 501kB 8.7MB/s eta 0:00:01\r\u001b[K     |████████████████████▋           | 512kB 8.7MB/s eta 0:00:01\r\u001b[K     |█████████████████████           | 522kB 8.7MB/s eta 0:00:01\r\u001b[K     |█████████████████████▌          | 532kB 8.7MB/s eta 0:00:01\r\u001b[K     |█████████████████████▉          | 542kB 8.7MB/s eta 0:00:01\r\u001b[K     |██████████████████████▎         | 552kB 8.7MB/s eta 0:00:01\r\u001b[K     |██████████████████████▊         | 563kB 8.7MB/s eta 0:00:01\r\u001b[K     |███████████████████████         | 573kB 8.7MB/s eta 0:00:01\r\u001b[K     |███████████████████████▌        | 583kB 8.7MB/s eta 0:00:01\r\u001b[K     |████████████████████████        | 593kB 8.7MB/s eta 0:00:01\r\u001b[K     |████████████████████████▍       | 604kB 8.7MB/s eta 0:00:01\r\u001b[K     |████████████████████████▊       | 614kB 8.7MB/s eta 0:00:01\r\u001b[K     |█████████████████████████▏      | 624kB 8.7MB/s eta 0:00:01\r\u001b[K     |█████████████████████████▋      | 634kB 8.7MB/s eta 0:00:01\r\u001b[K     |██████████████████████████      | 645kB 8.7MB/s eta 0:00:01\r\u001b[K     |██████████████████████████▍     | 655kB 8.7MB/s eta 0:00:01\r\u001b[K     |██████████████████████████▉     | 665kB 8.7MB/s eta 0:00:01\r\u001b[K     |███████████████████████████▎    | 675kB 8.7MB/s eta 0:00:01\r\u001b[K     |███████████████████████████▋    | 686kB 8.7MB/s eta 0:00:01\r\u001b[K     |████████████████████████████    | 696kB 8.7MB/s eta 0:00:01\r\u001b[K     |████████████████████████████▌   | 706kB 8.7MB/s eta 0:00:01\r\u001b[K     |████████████████████████████▉   | 716kB 8.7MB/s eta 0:00:01\r\u001b[K     |█████████████████████████████▎  | 727kB 8.7MB/s eta 0:00:01\r\u001b[K     |█████████████████████████████▊  | 737kB 8.7MB/s eta 0:00:01\r\u001b[K     |██████████████████████████████▏ | 747kB 8.7MB/s eta 0:00:01\r\u001b[K     |██████████████████████████████▌ | 757kB 8.7MB/s eta 0:00:01\r\u001b[K     |███████████████████████████████ | 768kB 8.7MB/s eta 0:00:01\r\u001b[K     |███████████████████████████████▍| 778kB 8.7MB/s eta 0:00:01\r\u001b[K     |███████████████████████████████▊| 788kB 8.7MB/s eta 0:00:01\r\u001b[K     |████████████████████████████████| 798kB 8.7MB/s \n",
            "\u001b[?25hRequirement already satisfied: matplotlib in /usr/local/lib/python3.6/dist-packages (from jarvis-tools) (3.2.2)\n",
            "Requirement already satisfied: toolz in /usr/local/lib/python3.6/dist-packages (from jarvis-tools) (0.10.0)\n",
            "Collecting spglib\n",
            "\u001b[?25l  Downloading https://files.pythonhosted.org/packages/5c/23/4c3ac9800663cac42903b5d696cf34170ec144635c1c77152f7ab97731e1/spglib-1.15.1-cp36-cp36m-manylinux2010_x86_64.whl (294kB)\n",
            "\u001b[K     |████████████████████████████████| 296kB 30.0MB/s \n",
            "\u001b[?25hRequirement already satisfied: numpy in /usr/local/lib/python3.6/dist-packages (from jarvis-tools) (1.18.5)\n",
            "Requirement already satisfied: pytest in /usr/local/lib/python3.6/dist-packages (from jarvis-tools) (3.6.4)\n",
            "Collecting xmltodict\n",
            "  Downloading https://files.pythonhosted.org/packages/28/fd/30d5c1d3ac29ce229f6bdc40bbc20b28f716e8b363140c26eff19122d8a5/xmltodict-0.12.0-py2.py3-none-any.whl\n",
            "Requirement already satisfied: requests in /usr/local/lib/python3.6/dist-packages (from jarvis-tools) (2.23.0)\n",
            "Requirement already satisfied: scipy in /usr/local/lib/python3.6/dist-packages (from jarvis-tools) (1.4.1)\n",
            "Requirement already satisfied: python-dateutil>=2.1 in /usr/local/lib/python3.6/dist-packages (from matplotlib->jarvis-tools) (2.8.1)\n",
            "Requirement already satisfied: kiwisolver>=1.0.1 in /usr/local/lib/python3.6/dist-packages (from matplotlib->jarvis-tools) (1.2.0)\n",
            "Requirement already satisfied: cycler>=0.10 in /usr/local/lib/python3.6/dist-packages (from matplotlib->jarvis-tools) (0.10.0)\n",
            "Requirement already satisfied: pyparsing!=2.0.4,!=2.1.2,!=2.1.6,>=2.0.1 in /usr/local/lib/python3.6/dist-packages (from matplotlib->jarvis-tools) (2.4.7)\n",
            "Requirement already satisfied: setuptools in /usr/local/lib/python3.6/dist-packages (from pytest->jarvis-tools) (47.3.1)\n",
            "Requirement already satisfied: attrs>=17.4.0 in /usr/local/lib/python3.6/dist-packages (from pytest->jarvis-tools) (19.3.0)\n",
            "Requirement already satisfied: more-itertools>=4.0.0 in /usr/local/lib/python3.6/dist-packages (from pytest->jarvis-tools) (8.4.0)\n",
            "Requirement already satisfied: atomicwrites>=1.0 in /usr/local/lib/python3.6/dist-packages (from pytest->jarvis-tools) (1.4.0)\n",
            "Requirement already satisfied: pluggy<0.8,>=0.5 in /usr/local/lib/python3.6/dist-packages (from pytest->jarvis-tools) (0.7.1)\n",
            "Requirement already satisfied: six>=1.10.0 in /usr/local/lib/python3.6/dist-packages (from pytest->jarvis-tools) (1.12.0)\n",
            "Requirement already satisfied: py>=1.5.0 in /usr/local/lib/python3.6/dist-packages (from pytest->jarvis-tools) (1.8.2)\n",
            "Requirement already satisfied: certifi>=2017.4.17 in /usr/local/lib/python3.6/dist-packages (from requests->jarvis-tools) (2020.6.20)\n",
            "Requirement already satisfied: idna<3,>=2.5 in /usr/local/lib/python3.6/dist-packages (from requests->jarvis-tools) (2.9)\n",
            "Requirement already satisfied: chardet<4,>=3.0.2 in /usr/local/lib/python3.6/dist-packages (from requests->jarvis-tools) (3.0.4)\n",
            "Requirement already satisfied: urllib3!=1.25.0,!=1.25.1,<1.26,>=1.21.1 in /usr/local/lib/python3.6/dist-packages (from requests->jarvis-tools) (1.24.3)\n",
            "Installing collected packages: spglib, xmltodict, jarvis-tools\n",
            "Successfully installed jarvis-tools-2020.6.9 spglib-1.15.1 xmltodict-0.12.0\n"
          ],
          "name": "stdout"
        }
      ]
    },
    {
      "cell_type": "markdown",
      "metadata": {
        "id": "3nHSET9aSy6C",
        "colab_type": "text"
      },
      "source": [
        "##Get example data from JARVIS"
      ]
    },
    {
      "cell_type": "code",
      "metadata": {
        "id": "BFqvpKvAoYET",
        "colab_type": "code",
        "colab": {
          "base_uri": "https://localhost:8080/",
          "height": 34
        },
        "outputId": "9d56d3ca-350d-4ab1-9a47-c3cf651e9e03"
      },
      "source": [
        "from jarvis.ai.pkgs.utils import get_ml_data\n",
        "from jarvis.ai.pkgs.utils import regr_scores\n",
        "X,y,jid=get_ml_data()\n",
        "#Formation energy for 3D materials, you can choose other properties/dataset as well"
      ],
      "execution_count": 18,
      "outputs": [
        {
          "output_type": "stream",
          "text": [
            "Downloading 3D CFID dataset ...\n"
          ],
          "name": "stdout"
        }
      ]
    },
    {
      "cell_type": "markdown",
      "metadata": {
        "id": "knZdgtNPS3FW",
        "colab_type": "text"
      },
      "source": [
        "##Formation energy model training with GPU\n",
        "### Other hyperparameters for materials properties are available at https://github.com/usnistgov/jarvis/tree/master/jarvis/ai/pkgs/lgbm"
      ]
    },
    {
      "cell_type": "code",
      "metadata": {
        "id": "OkFLuTKzhq7o",
        "colab_type": "code",
        "colab": {
          "base_uri": "https://localhost:8080/",
          "height": 68
        },
        "outputId": "2b68190e-5fcd-42ad-8ea8-811d00a80539"
      },
      "source": [
        "%%time\n",
        "import lightgbm as lgb\n",
        "from sklearn.model_selection import train_test_split\n",
        "lgbm = lgb.LGBMRegressor(device= 'gpu',n_estimators= 1170,learning_rate= 0.15375236057119931,num_leaves= 273)\n",
        "           \n",
        "X_train, X_test, y_train, y_test, jid_train, jid_test = train_test_split(X, y, jid, random_state=1, test_size=.1)\n",
        "lgbm.fit(X_train,y_train)\n",
        "pred = lgbm.predict(X_test)\n",
        "reg_sc = regr_scores(y_test, pred)\n",
        "print (reg_sc['mae'])"
      ],
      "execution_count": 27,
      "outputs": [
        {
          "output_type": "stream",
          "text": [
            "0.12625287443194153\n",
            "CPU times: user 34min 31s, sys: 5.08 s, total: 34min 36s\n",
            "Wall time: 17min 38s\n"
          ],
          "name": "stdout"
        }
      ]
    },
    {
      "cell_type": "markdown",
      "metadata": {
        "id": "KGpIjUYoVC4I",
        "colab_type": "text"
      },
      "source": [
        "##Accuracy of the model can be further improved by increasing number of trees, decreasing learning rate, and increasing number of leaves. However, it requires more training time and the model may overfit. You can skip this step, if you just want to see the speed up"
      ]
    },
    {
      "cell_type": "code",
      "metadata": {
        "id": "d3F-ejJi8LvR",
        "colab_type": "code",
        "colab": {
          "base_uri": "https://localhost:8080/",
          "height": 68
        },
        "outputId": "5d626822-d836-4dbb-fc2e-0e10cc4c9fd2"
      },
      "source": [
        "%%time\n",
        "import lightgbm as lgb\n",
        "from sklearn.model_selection import train_test_split\n",
        "lgbm = lgb.LGBMRegressor(device= 'gpu',n_estimators= 2170,learning_rate= 0.05375236057119931,num_leaves= 573)\n",
        "           \n",
        "X_train, X_test, y_train, y_test, jid_train, jid_test = train_test_split(X, y, jid, random_state=1, test_size=.1)\n",
        "lgbm.fit(X_train,y_train)\n",
        "pred = lgbm.predict(X_test)\n",
        "reg_sc = regr_scores(y_test, pred)\n",
        "print (reg_sc['mae'])"
      ],
      "execution_count": 28,
      "outputs": [
        {
          "output_type": "stream",
          "text": [
            "0.11970056899179356\n",
            "CPU times: user 2h 11min 2s, sys: 19.8 s, total: 2h 11min 22s\n",
            "Wall time: 1h 6min 52s\n"
          ],
          "name": "stdout"
        }
      ]
    },
    {
      "cell_type": "markdown",
      "metadata": {
        "id": "soceX7nBVWOr",
        "colab_type": "text"
      },
      "source": [
        "## Formation energy model training with CPU"
      ]
    },
    {
      "cell_type": "code",
      "metadata": {
        "id": "sCMXAbAcmQSP",
        "colab_type": "code",
        "colab": {
          "base_uri": "https://localhost:8080/",
          "height": 68
        },
        "outputId": "267699a0-bbe7-4130-fd7e-3f2b23396c23"
      },
      "source": [
        "%%time\n",
        "import lightgbm as lgb\n",
        "from jarvis.ai.pkgs.utils import regr_scores\n",
        "from sklearn.model_selection import train_test_split\n",
        "lgbm = lgb.LGBMRegressor(n_estimators= 1170,learning_rate= 0.15375236057119931,num_leaves= 273, device= 'cpu')\n",
        "X_train, X_test, y_train, y_test, jid_train, jid_test = train_test_split(X, y, y, random_state=1, test_size=.1)\n",
        "lgbm.fit(X_train,y_train)\n",
        "pred = lgbm.predict(X_test)\n",
        "reg_sc = regr_scores(y_test, pred)\n",
        "print (reg_sc['mae'])"
      ],
      "execution_count": 29,
      "outputs": [
        {
          "output_type": "stream",
          "text": [
            "0.1263575987673102\n",
            "CPU times: user 46min 10s, sys: 4.53 s, total: 46min 15s\n",
            "Wall time: 23min 40s\n"
          ],
          "name": "stdout"
        }
      ]
    },
    {
      "cell_type": "markdown",
      "metadata": {
        "id": "UFf3VegsVbi8",
        "colab_type": "text"
      },
      "source": [
        "## Comparing wall time for GPU (17 mins 18 s = 1038 s ) and wall time for CPU (23 mins 40 s = 1420 s), we accelerated by ~27 %"
      ]
    },
    {
      "cell_type": "code",
      "metadata": {
        "id": "Sq036WOCmRe8",
        "colab_type": "code",
        "colab": {
          "base_uri": "https://localhost:8080/",
          "height": 34
        },
        "outputId": "148c1e1b-ecda-4098-e7a6-099ef763697c"
      },
      "source": [
        "#GPU (17 mins 18 s = 1038 s )\n",
        "#CPU (23 mins 40 s = 1420 s)\n",
        "perc_diff = 100*(1420-1038)/1420\n",
        "print (perc_diff)\n"
      ],
      "execution_count": 31,
      "outputs": [
        {
          "output_type": "stream",
          "text": [
            "26.901408450704224\n"
          ],
          "name": "stdout"
        }
      ]
    },
    {
      "cell_type": "code",
      "metadata": {
        "id": "SvieCj5wYFon",
        "colab_type": "code",
        "colab": {}
      },
      "source": [
        ""
      ],
      "execution_count": null,
      "outputs": []
    }
  ]
}