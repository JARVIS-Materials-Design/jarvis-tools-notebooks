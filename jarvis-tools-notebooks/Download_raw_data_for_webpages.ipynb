{
  "nbformat": 4,
  "nbformat_minor": 0,
  "metadata": {
    "kernelspec": {
      "display_name": "Python 3",
      "language": "python",
      "name": "python3"
    },
    "language_info": {
      "codemirror_mode": {
        "name": "ipython",
        "version": 3
      },
      "file_extension": ".py",
      "mimetype": "text/x-python",
      "name": "python",
      "nbconvert_exporter": "python",
      "pygments_lexer": "ipython3",
      "version": "3.6.7"
    },
    "colab": {
      "name": "Analyzing data in the JARVIS-DFT dataset.ipynb",
      "provenance": [],
      "include_colab_link": true
    }
  },
  "cells": [
    {
      "cell_type": "markdown",
      "metadata": {
        "id": "view-in-github",
        "colab_type": "text"
      },
      "source": [
        "<a href=\"https://colab.research.google.com/github/knc6/jarvis-tools-notebooks/blob/master/jarvis-tools-notebooks/Download_raw_data_for_webpages.ipynb\" target=\"_parent\"><img src=\"https://colab.research.google.com/assets/colab-badge.svg\" alt=\"Open In Colab\"/></a>"
      ]
    },
    {
      "cell_type": "markdown",
      "metadata": {
        "id": "KFgY9rt5wAUS"
      },
      "source": [
        "# Downloading raw analysis data and input/output files\n",
        "For each JARVIS-ID, there is a respective XML document which can bw downloaded and all the raw data can be parsed from that XML. Also, the raw input/output\n",
        "files for each calculation is distributed through Figshare repository\n",
        ", links for each are given at the bottom of the webpage.\n",
        "\n"
      ]
    },
    {
      "cell_type": "code",
      "metadata": {
        "id": "M5yTngAGwIy0",
        "colab": {
          "base_uri": "https://localhost:8080/"
        },
        "outputId": "eabf838f-7d51-4ee7-a66a-1f763d34b9a3"
      },
      "source": [
        "!pip install jarvis-tools"
      ],
      "execution_count": 2,
      "outputs": [
        {
          "output_type": "stream",
          "text": [
            "Requirement already satisfied: jarvis-tools in /usr/local/lib/python3.6/dist-packages (2020.12.31)\n",
            "Requirement already satisfied: xmltodict>=0.11.0 in /usr/local/lib/python3.6/dist-packages (from jarvis-tools) (0.12.0)\n",
            "Requirement already satisfied: numpy==1.18.5 in /usr/local/lib/python3.6/dist-packages (from jarvis-tools) (1.18.5)\n",
            "Requirement already satisfied: matplotlib>=3.0.0 in /usr/local/lib/python3.6/dist-packages (from jarvis-tools) (3.2.2)\n",
            "Requirement already satisfied: spglib>=1.14.1 in /usr/local/lib/python3.6/dist-packages (from jarvis-tools) (1.16.0)\n",
            "Requirement already satisfied: joblib>=0.14.1 in /usr/local/lib/python3.6/dist-packages (from jarvis-tools) (1.0.0)\n",
            "Requirement already satisfied: requests>=2.23.0 in /usr/local/lib/python3.6/dist-packages (from jarvis-tools) (2.23.0)\n",
            "Requirement already satisfied: toolz>=0.9.0 in /usr/local/lib/python3.6/dist-packages (from jarvis-tools) (0.11.1)\n",
            "Requirement already satisfied: scipy==1.4.1 in /usr/local/lib/python3.6/dist-packages (from jarvis-tools) (1.4.1)\n",
            "Requirement already satisfied: python-dateutil>=2.1 in /usr/local/lib/python3.6/dist-packages (from matplotlib>=3.0.0->jarvis-tools) (2.8.1)\n",
            "Requirement already satisfied: cycler>=0.10 in /usr/local/lib/python3.6/dist-packages (from matplotlib>=3.0.0->jarvis-tools) (0.10.0)\n",
            "Requirement already satisfied: kiwisolver>=1.0.1 in /usr/local/lib/python3.6/dist-packages (from matplotlib>=3.0.0->jarvis-tools) (1.3.1)\n",
            "Requirement already satisfied: pyparsing!=2.0.4,!=2.1.2,!=2.1.6,>=2.0.1 in /usr/local/lib/python3.6/dist-packages (from matplotlib>=3.0.0->jarvis-tools) (2.4.7)\n",
            "Requirement already satisfied: urllib3!=1.25.0,!=1.25.1,<1.26,>=1.21.1 in /usr/local/lib/python3.6/dist-packages (from requests>=2.23.0->jarvis-tools) (1.24.3)\n",
            "Requirement already satisfied: chardet<4,>=3.0.2 in /usr/local/lib/python3.6/dist-packages (from requests>=2.23.0->jarvis-tools) (3.0.4)\n",
            "Requirement already satisfied: certifi>=2017.4.17 in /usr/local/lib/python3.6/dist-packages (from requests>=2.23.0->jarvis-tools) (2020.12.5)\n",
            "Requirement already satisfied: idna<3,>=2.5 in /usr/local/lib/python3.6/dist-packages (from requests>=2.23.0->jarvis-tools) (2.10)\n",
            "Requirement already satisfied: six>=1.5 in /usr/local/lib/python3.6/dist-packages (from python-dateutil>=2.1->matplotlib>=3.0.0->jarvis-tools) (1.15.0)\n"
          ],
          "name": "stdout"
        }
      ]
    },
    {
      "cell_type": "code",
      "metadata": {
        "id": "7AE22qmRasUJ",
        "outputId": "2bca5469-c4ae-4c9a-c7d8-e91db87a4a61",
        "colab": {
          "base_uri": "https://localhost:8080/",
          "height": 296
        }
      },
      "source": [
        "import numpy as np\r\n",
        "import os\r\n",
        "from jarvis.core.utils import xml_to_dict\r\n",
        "cmd=\"!wget https://www.ctcms.nist.gov/~knc6/static/JARVIS-DFT/JVASP-1002.xml\"\r\n",
        "os.system(cmd)\r\n",
        "d=xml_to_dict('JVASP-1002.xml')\r\n",
        "energies=np.array(d['basic_info']['main_optics_mbj']['main_optics_mbj_info']['energies'].strip(\"'\").split(','),dtype='float')\r\n",
        "real_part_x=np.array(d['basic_info']['main_optics_mbj']['main_optics_mbj_info']['real_1'].strip(\"'\").split(','),dtype='float')\r\n",
        "%matplotlib inline\r\n",
        "import matplotlib.pyplot as plt\r\n",
        "plt.plot(energies,real_part_x)\r\n",
        "plt.xlabel('Energy (eV')\r\n",
        "plt.ylabel('Eps-x')\r\n",
        "\r\n",
        "# Raw input/output files are also available at the bottom of each webpage\r\n",
        "# For example:\r\n",
        "#\"TBMBJ\": https://ndownloader.figshare.com/files/23571836\r\n",
        "#\"OPT-OPTICS\": https://ndownloader.figshare.com/files/24035894"
      ],
      "execution_count": 3,
      "outputs": [
        {
          "output_type": "execute_result",
          "data": {
            "text/plain": [
              "Text(0, 0.5, 'Eps-x')"
            ]
          },
          "metadata": {
            "tags": []
          },
          "execution_count": 3
        },
        {
          "output_type": "display_data",
          "data": {
            "image/png": "[encoded data removed]",
            "text/plain": [
              "<Figure size 432x288 with 1 Axes>"
            ]
          },
          "metadata": {
            "tags": [],
            "needs_background": "light"
          }
        }
      ]
    },
    {
      "cell_type": "code",
      "metadata": {
        "id": "zY6KPEJWwAcA",
        "colab": {
          "base_uri": "https://localhost:8080/"
        },
        "outputId": "ff73d079-4ab2-41da-d404-e3b520a73dc1"
      },
      "source": [
        "# For other key-value pairs, see :\r\n",
        "d['basic_info'].keys()"
      ],
      "execution_count": 4,
      "outputs": [
        {
          "output_type": "execute_result",
          "data": {
            "text/plain": [
              "odict_keys(['convergence_info', 'wannier_band_comparison', 'vacancy_formation_energy', 'raman_dat', 'main_relax_info', 'main_band', 'main_hse06_band', 'effective_mass', 'main_pbe0_band', 'main_optics_semilocal', 'main_optics_mbj', 'main_elastic', 'main_boltz', 'main_lepsilon_info', 'main_spillage_info', 'efg_raw_tensor', 'max_efg', 'max_efg_eta', 'main_stm_neg', 'main_stm_pos'])"
            ]
          },
          "metadata": {
            "tags": []
          },
          "execution_count": 4
        }
      ]
    },
    {
      "cell_type": "code",
      "metadata": {
        "id": "vpgGW3F0dgYR"
      },
      "source": [
        ""
      ],
      "execution_count": null,
      "outputs": []
    }
  ]
}