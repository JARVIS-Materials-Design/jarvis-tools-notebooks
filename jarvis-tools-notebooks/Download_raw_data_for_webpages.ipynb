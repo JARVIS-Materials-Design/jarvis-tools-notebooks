{
  "nbformat": 4,
  "nbformat_minor": 0,
  "metadata": {
    "kernelspec": {
      "display_name": "Python 3",
      "language": "python",
      "name": "python3"
    },
    "language_info": {
      "codemirror_mode": {
        "name": "ipython",
        "version": 3
      },
      "file_extension": ".py",
      "mimetype": "text/x-python",
      "name": "python",
      "nbconvert_exporter": "python",
      "pygments_lexer": "ipython3",
      "version": "3.6.7"
    },
    "colab": {
      "name": "Download_raw_data_for_webpages.ipynb",
      "provenance": [],
      "include_colab_link": true
    }
  },
  "cells": [
    {
      "cell_type": "markdown",
      "metadata": {
        "id": "view-in-github",
        "colab_type": "text"
      },
      "source": [
        "<a href=\"https://colab.research.google.com/github/knc6/jarvis-tools-notebooks/blob/master/jarvis-tools-notebooks/Download_raw_data_for_webpages.ipynb\" target=\"_parent\"><img src=\"https://colab.research.google.com/assets/colab-badge.svg\" alt=\"Open In Colab\"/></a>"
      ]
    },
    {
      "cell_type": "markdown",
      "metadata": {
        "id": "KFgY9rt5wAUS"
      },
      "source": [
        "# Downloading raw analysis data and input/output files\n",
        "For each JARVIS-ID, there is a respective XML document which can be downloaded and all the raw data can be parsed from that XML. Also, the raw input/output\n",
        "files for each calculation is distributed through Figshare repository\n",
        ", links for each are given at the bottom of the webpage.\n",
        "\n"
      ]
    },
    {
      "cell_type": "code",
      "metadata": {
        "id": "M5yTngAGwIy0",
        "colab": {
          "base_uri": "https://localhost:8080/"
        },
        "outputId": "98ae0e6d-c101-42e1-d5fc-7e4ae04fb091"
      },
      "source": [
        "!pip install -U jarvis-tools"
      ],
      "execution_count": 19,
      "outputs": [
        {
          "output_type": "stream",
          "name": "stdout",
          "text": [
            "Looking in indexes: https://pypi.org/simple, https://us-python.pkg.dev/colab-wheels/public/simple/\n",
            "Requirement already satisfied: jarvis-tools in /usr/local/lib/python3.7/dist-packages (2022.7.17)\n",
            "Requirement already satisfied: matplotlib>=3.0.0 in /usr/local/lib/python3.7/dist-packages (from jarvis-tools) (3.2.2)\n",
            "Requirement already satisfied: toolz>=0.9.0 in /usr/local/lib/python3.7/dist-packages (from jarvis-tools) (0.12.0)\n",
            "Requirement already satisfied: requests>=2.23.0 in /usr/local/lib/python3.7/dist-packages (from jarvis-tools) (2.23.0)\n",
            "Requirement already satisfied: xmltodict>=0.11.0 in /usr/local/lib/python3.7/dist-packages (from jarvis-tools) (0.13.0)\n",
            "Requirement already satisfied: tqdm>=4.41.1 in /usr/local/lib/python3.7/dist-packages (from jarvis-tools) (4.64.0)\n",
            "Requirement already satisfied: joblib>=0.14.1 in /usr/local/lib/python3.7/dist-packages (from jarvis-tools) (1.1.0)\n",
            "Requirement already satisfied: numpy>=1.19.5 in /usr/local/lib/python3.7/dist-packages (from jarvis-tools) (1.21.6)\n",
            "Requirement already satisfied: spglib>=1.14.1 in /usr/local/lib/python3.7/dist-packages (from jarvis-tools) (1.16.5)\n",
            "Requirement already satisfied: scipy>=1.4.1 in /usr/local/lib/python3.7/dist-packages (from jarvis-tools) (1.7.3)\n",
            "Requirement already satisfied: pyparsing!=2.0.4,!=2.1.2,!=2.1.6,>=2.0.1 in /usr/local/lib/python3.7/dist-packages (from matplotlib>=3.0.0->jarvis-tools) (3.0.9)\n",
            "Requirement already satisfied: kiwisolver>=1.0.1 in /usr/local/lib/python3.7/dist-packages (from matplotlib>=3.0.0->jarvis-tools) (1.4.4)\n",
            "Requirement already satisfied: cycler>=0.10 in /usr/local/lib/python3.7/dist-packages (from matplotlib>=3.0.0->jarvis-tools) (0.11.0)\n",
            "Requirement already satisfied: python-dateutil>=2.1 in /usr/local/lib/python3.7/dist-packages (from matplotlib>=3.0.0->jarvis-tools) (2.8.2)\n",
            "Requirement already satisfied: typing-extensions in /usr/local/lib/python3.7/dist-packages (from kiwisolver>=1.0.1->matplotlib>=3.0.0->jarvis-tools) (4.1.1)\n",
            "Requirement already satisfied: six>=1.5 in /usr/local/lib/python3.7/dist-packages (from python-dateutil>=2.1->matplotlib>=3.0.0->jarvis-tools) (1.15.0)\n",
            "Requirement already satisfied: certifi>=2017.4.17 in /usr/local/lib/python3.7/dist-packages (from requests>=2.23.0->jarvis-tools) (2022.6.15)\n",
            "Requirement already satisfied: idna<3,>=2.5 in /usr/local/lib/python3.7/dist-packages (from requests>=2.23.0->jarvis-tools) (2.10)\n",
            "Requirement already satisfied: urllib3!=1.25.0,!=1.25.1,<1.26,>=1.21.1 in /usr/local/lib/python3.7/dist-packages (from requests>=2.23.0->jarvis-tools) (1.24.3)\n",
            "Requirement already satisfied: chardet<4,>=3.0.2 in /usr/local/lib/python3.7/dist-packages (from requests>=2.23.0->jarvis-tools) (3.0.4)\n"
          ]
        }
      ]
    },
    {
      "cell_type": "code",
      "metadata": {
        "id": "XRtPyhlZ3iUB",
        "outputId": "2eee410a-e256-45a2-a014-45a90e7b5a79",
        "colab": {
          "base_uri": "https://localhost:8080/",
          "height": 35
        }
      },
      "source": [
        "import jarvis\n",
        "jarvis.__version__"
      ],
      "execution_count": null,
      "outputs": [
        {
          "output_type": "execute_result",
          "data": {
            "application/vnd.google.colaboratory.intrinsic+json": {
              "type": "string"
            },
            "text/plain": [
              "'2021.2.1'"
            ]
          },
          "metadata": {
            "tags": []
          },
          "execution_count": 2
        }
      ]
    },
    {
      "cell_type": "code",
      "metadata": {
        "id": "URKLPuX-3tsq",
        "outputId": "dd5eeae5-d33a-4e53-bc80-026fdc80b7c2",
        "colab": {
          "base_uri": "https://localhost:8080/"
        }
      },
      "source": [
        "from jarvis.db.webpages import Webpage\n",
        "import numpy as np\n",
        "%matplotlib inline\n",
        "import matplotlib.pyplot as plt\n",
        "w = Webpage(jid='JVASP-1002')\n",
        "keys = w.list_keys()"
      ],
      "execution_count": null,
      "outputs": [
        {
          "output_type": "stream",
          "text": [
            "keys= odict_keys(['convergence_info', 'wannier_band_comparison', 'vacancy_formation_energy', 'raman_dat', 'main_relax_info', 'main_band', 'main_hse06_band', 'effective_mass', 'main_pbe0_band', 'main_optics_semilocal', 'main_optics_mbj', 'main_elastic', 'main_boltz', 'main_lepsilon_info', 'main_spillage_info', 'efg_raw_tensor', 'max_efg', 'max_efg_eta', 'main_stm_pos', 'main_stm_neg'])\n"
          ],
          "name": "stdout"
        }
      ]
    },
    {
      "cell_type": "code",
      "metadata": {
        "id": "0CuASeEG312F",
        "outputId": "a02f79b1-0645-4f16-e9aa-d1c771f1ab66",
        "colab": {
          "base_uri": "https://localhost:8080/",
          "height": 296
        }
      },
      "source": [
        "# Get and plot electronic DOS from OptB88vdW after  SCF\n",
        "edos_data = w.get_dft_electron_dos()\n",
        "ens = np.array(edos_data['edos_energies'].strip(\"'\").split(','),dtype='float')\n",
        "tot_dos_up = np.array(edos_data['total_edos_up'].strip(\"'\").split(','),dtype='float') \n",
        "plt.plot(ens,tot_dos_up)\n",
        "plt.xlabel('Energy (eV')\n",
        "plt.ylabel('DOS (arb.unit.)')"
      ],
      "execution_count": null,
      "outputs": [
        {
          "output_type": "execute_result",
          "data": {
            "text/plain": [
              "Text(0, 0.5, 'DOS (arb.unit.)')"
            ]
          },
          "metadata": {
            "tags": []
          },
          "execution_count": 18
        },
        {
          "output_type": "display_data",
          "data": {
            "image/png": "[encoded data removed]",
            "text/plain": [
              "<Figure size 432x288 with 1 Axes>"
            ]
          },
          "metadata": {
            "tags": [],
            "needs_background": "light"
          }
        }
      ]
    },
    {
      "cell_type": "code",
      "metadata": {
        "id": "sqwhyhIv4MJQ"
      },
      "source": [
        "mbj_dl= w.get_dft_mbj_dielectric_function()"
      ],
      "execution_count": null,
      "outputs": []
    },
    {
      "cell_type": "code",
      "metadata": {
        "id": "fcgAzxbl38Ot",
        "outputId": "04ea5412-1d1d-4a59-e934-15b28ec84fbc",
        "colab": {
          "base_uri": "https://localhost:8080/",
          "height": 296
        }
      },
      "source": [
        "\n",
        "plt.plot(mbj_dl['energies'],mbj_dl['real_xx'])\n",
        "plt.xlabel('Energy (eV')\n",
        "plt.ylabel('Real part Eps-x')"
      ],
      "execution_count": null,
      "outputs": [
        {
          "output_type": "execute_result",
          "data": {
            "text/plain": [
              "Text(0, 0.5, 'Real part Eps-x')"
            ]
          },
          "metadata": {
            "tags": []
          },
          "execution_count": 24
        },
        {
          "output_type": "display_data",
          "data": {
            "image/png": "[encoded data removed]",
            "text/plain": [
              "<Figure size 432x288 with 1 Axes>"
            ]
          },
          "metadata": {
            "tags": [],
            "needs_background": "light"
          }
        }
      ]
    },
    {
      "cell_type": "code",
      "metadata": {
        "id": "7AE22qmRasUJ",
        "outputId": "0f263bef-21c6-4078-a1d2-6e87dd6c3c1d",
        "colab": {
          "base_uri": "https://localhost:8080/"
        }
      },
      "source": [
        "from jarvis.db.figshare import data,get_jid_data\n",
        "import os,tempfile,io,zipfile\n",
        "x = get_jid_data(jid='JVASP-1002',dataset='dft_3d')['raw_files']\n",
        "print(x)"
      ],
      "execution_count": 20,
      "outputs": [
        {
          "output_type": "stream",
          "name": "stdout",
          "text": [
            "Obtaining 3D dataset 55k ...\n",
            "Reference:https://www.nature.com/articles/s41524-020-00440-1\n",
            "Loading the zipfile...\n",
            "Loading completed.\n",
            "['FD-ELAST,JVASP-1002.zip,https://ndownloader.figshare.com/files/22975514', 'DFPT,JVASP-1002.zip,https://ndownloader.figshare.com/files/22941809', 'OPT-LOPTICS,JVASP-1002.zip,https://ndownloader.figshare.com/files/24035894', 'OPT-Bandst,JVASP-1002.zip,https://ndownloader.figshare.com/files/23713301', 'TBMBJ,JVASP-1002.zip,https://ndownloader.figshare.com/files/23571836', 'DFT-SCF,JVASP-1002.zip,https://ndownloader.figshare.com/files/23127296', 'WANN,JVASP-1002.zip,https://ndownloader.figshare.com/files/23102750']\n"
          ]
        }
      ]
    },
    {
      "cell_type": "code",
      "metadata": {
        "id": "zY6KPEJWwAcA",
        "outputId": "645f2dd5-a2b6-4f7d-d9be-bdec454dc434",
        "colab": {
          "base_uri": "https://localhost:8080/"
        }
      },
      "source": [
        "import requests\n",
        "for i in x:\n",
        "  if 'DFT-SCF' in i:\n",
        "    print (i)\n",
        "    r = requests.get(i.split(',')[2]).content\n",
        "    \n",
        "    "
      ],
      "execution_count": 30,
      "outputs": [
        {
          "output_type": "stream",
          "name": "stdout",
          "text": [
            "DFT-SCF,JVASP-1002.zip,https://ndownloader.figshare.com/files/23127296\n"
          ]
        }
      ]
    },
    {
      "cell_type": "code",
      "metadata": {
        "id": "vpgGW3F0dgYR"
      },
      "source": [
        "z = zipfile.ZipFile(io.BytesIO(r))"
      ],
      "execution_count": 31,
      "outputs": []
    },
    {
      "cell_type": "code",
      "source": [
        "z.namelist()"
      ],
      "metadata": {
        "id": "ejgNIGtZabg2",
        "outputId": "1d7a33f9-72f7-47bc-8b63-f15b54d008ad",
        "colab": {
          "base_uri": "https://localhost:8080/"
        }
      },
      "execution_count": 32,
      "outputs": [
        {
          "output_type": "execute_result",
          "data": {
            "text/plain": [
              "['INCAR', 'POSCAR', 'CONTCAR', 'OSZICAR', 'OUTCAR', 'vasprun.xml', 'KPOINTS']"
            ]
          },
          "metadata": {},
          "execution_count": 32
        }
      ]
    },
    {
      "cell_type": "code",
      "source": [
        "from jarvis.io.vasp.inputs import Poscar\n",
        "from jarvis.io.vasp.outputs import Vasprun\n",
        "import tempfile\n",
        "\n",
        "initial = Poscar.from_string(z.read('POSCAR').decode('utf-8'))\n",
        "final = Poscar.from_string(z.read('POSCAR').decode('utf-8'))\n",
        "fd, path = tempfile.mkstemp()\n",
        "with os.fdopen(fd, \"w\") as tmp:\n",
        "    tmp.write(z.read('vasprun.xml').decode('utf-8'))\n",
        "vrun = Vasprun(path)"
      ],
      "metadata": {
        "id": "pjnKfxr0agT6"
      },
      "execution_count": 38,
      "outputs": []
    },
    {
      "cell_type": "code",
      "source": [
        "vrun.all_energies"
      ],
      "metadata": {
        "id": "ITBuV7UWbJdl",
        "outputId": "908d3be7-fb3e-4bfb-f071-f1bebaf948e8",
        "colab": {
          "base_uri": "https://localhost:8080/"
        }
      },
      "execution_count": 39,
      "outputs": [
        {
          "output_type": "execute_result",
          "data": {
            "text/plain": [
              "array([-8.34009542, -8.33461345, -8.33806744, -8.33811601])"
            ]
          },
          "metadata": {},
          "execution_count": 39
        }
      ]
    },
    {
      "cell_type": "code",
      "source": [
        "vrun.all_forces"
      ],
      "metadata": {
        "id": "gJCj6_SMbkAX",
        "outputId": "ba58ed0b-98f8-4104-d093-9702001ed737",
        "colab": {
          "base_uri": "https://localhost:8080/"
        }
      },
      "execution_count": 40,
      "outputs": [
        {
          "output_type": "execute_result",
          "data": {
            "text/plain": [
              "array([[[ 0., -0., -0.],\n",
              "        [-0.,  0.,  0.]],\n",
              "\n",
              "       [[ 0.,  0., -0.],\n",
              "        [-0., -0.,  0.]],\n",
              "\n",
              "       [[ 0., -0.,  0.],\n",
              "        [-0.,  0., -0.]],\n",
              "\n",
              "       [[ 0.,  0., -0.],\n",
              "        [-0., -0.,  0.]]])"
            ]
          },
          "metadata": {},
          "execution_count": 40
        }
      ]
    },
    {
      "cell_type": "code",
      "source": [
        "vrun.get_indir_gap"
      ],
      "metadata": {
        "id": "sLQ9TWRRblzQ",
        "outputId": "d17f5504-d7b7-40eb-a42d-a5d287ec92fe",
        "colab": {
          "base_uri": "https://localhost:8080/"
        }
      },
      "execution_count": 41,
      "outputs": [
        {
          "output_type": "execute_result",
          "data": {
            "text/plain": [
              "(0.7313000000000001, 5.4591, 6.1904)"
            ]
          },
          "metadata": {},
          "execution_count": 41
        }
      ]
    },
    {
      "cell_type": "code",
      "source": [
        ""
      ],
      "metadata": {
        "id": "soiHoZB8bnwR"
      },
      "execution_count": null,
      "outputs": []
    }
  ]
}