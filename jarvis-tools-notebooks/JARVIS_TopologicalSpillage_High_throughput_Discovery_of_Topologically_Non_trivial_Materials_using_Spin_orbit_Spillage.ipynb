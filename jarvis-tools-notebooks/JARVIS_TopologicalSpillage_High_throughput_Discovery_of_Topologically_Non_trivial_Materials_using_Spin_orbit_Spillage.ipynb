{
  "nbformat": 4,
  "nbformat_minor": 0,
  "metadata": {
    "colab": {
      "name": "JARVIS-TopologicalSpillage-High-throughput Discovery of Topologically Non-trivial Materials using Spin-orbit Spillage.ipynb",
      "provenance": [],
      "authorship_tag": "ABX9TyOirLkImPc57TaFWy8HUKHE",
      "include_colab_link": true
    },
    "kernelspec": {
      "name": "python3",
      "display_name": "Python 3"
    },
    "language_info": {
      "name": "python"
    }
  },
  "cells": [
    {
      "cell_type": "markdown",
      "metadata": {
        "id": "view-in-github",
        "colab_type": "text"
      },
      "source": [
        "<a href=\"https://colab.research.google.com/github/knc6/jarvis-tools-notebooks/blob/master/jarvis-tools-notebooks/JARVIS_TopologicalSpillage_High_throughput_Discovery_of_Topologically_Non_trivial_Materials_using_Spin_orbit_Spillage.ipynb\" target=\"_parent\"><img src=\"https://colab.research.google.com/assets/colab-badge.svg\" alt=\"Open In Colab\"/></a>"
      ]
    },
    {
      "cell_type": "markdown",
      "source": [
        "[High-throughput Discovery of Topologically Non-trivial Materials using Spin-orbit Spillage](https://www.nature.com/articles/s41598-019-45028-y)"
      ],
      "metadata": {
        "id": "-1BlrIw7fxGg"
      }
    },
    {
      "cell_type": "code",
      "execution_count": 1,
      "metadata": {
        "colab": {
          "base_uri": "https://localhost:8080/"
        },
        "id": "2St2Du5VeJ2h",
        "outputId": "5e9315ee-efb9-408b-b596-397a2a8156dd"
      },
      "outputs": [
        {
          "output_type": "stream",
          "name": "stdout",
          "text": [
            "Looking in indexes: https://pypi.org/simple, https://us-python.pkg.dev/colab-wheels/public/simple/\n",
            "Collecting jarvis-tools\n",
            "  Downloading jarvis_tools-2022.5.20-py2.py3-none-any.whl (962 kB)\n",
            "\u001b[K     |████████████████████████████████| 962 kB 5.4 MB/s \n",
            "\u001b[?25hRequirement already satisfied: matplotlib>=3.0.0 in /usr/local/lib/python3.7/dist-packages (from jarvis-tools) (3.2.2)\n",
            "Collecting spglib>=1.14.1\n",
            "  Downloading spglib-1.16.5-cp37-cp37m-manylinux_2_17_x86_64.manylinux2014_x86_64.whl (325 kB)\n",
            "\u001b[K     |████████████████████████████████| 325 kB 36.8 MB/s \n",
            "\u001b[?25hRequirement already satisfied: toolz>=0.9.0 in /usr/local/lib/python3.7/dist-packages (from jarvis-tools) (0.11.2)\n",
            "Collecting xmltodict>=0.11.0\n",
            "  Downloading xmltodict-0.13.0-py2.py3-none-any.whl (10.0 kB)\n",
            "Requirement already satisfied: scipy>=1.4.1 in /usr/local/lib/python3.7/dist-packages (from jarvis-tools) (1.4.1)\n",
            "Requirement already satisfied: numpy>=1.19.5 in /usr/local/lib/python3.7/dist-packages (from jarvis-tools) (1.21.6)\n",
            "Requirement already satisfied: requests>=2.23.0 in /usr/local/lib/python3.7/dist-packages (from jarvis-tools) (2.23.0)\n",
            "Requirement already satisfied: joblib>=0.14.1 in /usr/local/lib/python3.7/dist-packages (from jarvis-tools) (1.1.0)\n",
            "Requirement already satisfied: tqdm>=4.41.1 in /usr/local/lib/python3.7/dist-packages (from jarvis-tools) (4.64.0)\n",
            "Requirement already satisfied: kiwisolver>=1.0.1 in /usr/local/lib/python3.7/dist-packages (from matplotlib>=3.0.0->jarvis-tools) (1.4.3)\n",
            "Requirement already satisfied: cycler>=0.10 in /usr/local/lib/python3.7/dist-packages (from matplotlib>=3.0.0->jarvis-tools) (0.11.0)\n",
            "Requirement already satisfied: pyparsing!=2.0.4,!=2.1.2,!=2.1.6,>=2.0.1 in /usr/local/lib/python3.7/dist-packages (from matplotlib>=3.0.0->jarvis-tools) (3.0.9)\n",
            "Requirement already satisfied: python-dateutil>=2.1 in /usr/local/lib/python3.7/dist-packages (from matplotlib>=3.0.0->jarvis-tools) (2.8.2)\n",
            "Requirement already satisfied: typing-extensions in /usr/local/lib/python3.7/dist-packages (from kiwisolver>=1.0.1->matplotlib>=3.0.0->jarvis-tools) (4.1.1)\n",
            "Requirement already satisfied: six>=1.5 in /usr/local/lib/python3.7/dist-packages (from python-dateutil>=2.1->matplotlib>=3.0.0->jarvis-tools) (1.15.0)\n",
            "Requirement already satisfied: idna<3,>=2.5 in /usr/local/lib/python3.7/dist-packages (from requests>=2.23.0->jarvis-tools) (2.10)\n",
            "Requirement already satisfied: chardet<4,>=3.0.2 in /usr/local/lib/python3.7/dist-packages (from requests>=2.23.0->jarvis-tools) (3.0.4)\n",
            "Requirement already satisfied: urllib3!=1.25.0,!=1.25.1,<1.26,>=1.21.1 in /usr/local/lib/python3.7/dist-packages (from requests>=2.23.0->jarvis-tools) (1.24.3)\n",
            "Requirement already satisfied: certifi>=2017.4.17 in /usr/local/lib/python3.7/dist-packages (from requests>=2.23.0->jarvis-tools) (2022.6.15)\n",
            "Installing collected packages: xmltodict, spglib, jarvis-tools\n",
            "Successfully installed jarvis-tools-2022.5.20 spglib-1.16.5 xmltodict-0.13.0\n"
          ]
        }
      ],
      "source": [
        "!pip install jarvis-tools"
      ]
    },
    {
      "cell_type": "code",
      "source": [
        "!wget https://github.com/usnistgov/jarvis/blob/master/jarvis/tests/testfiles/analysis/topological/WAVECAR.nosoc?raw=true -O WAVECAR.nosoc"
      ],
      "metadata": {
        "colab": {
          "base_uri": "https://localhost:8080/"
        },
        "id": "R26ESVD9e7wT",
        "outputId": "e972f428-6459-4cba-d4ea-0a6f61566eb7"
      },
      "execution_count": 3,
      "outputs": [
        {
          "output_type": "stream",
          "name": "stdout",
          "text": [
            "--2022-06-26 00:50:12--  https://github.com/usnistgov/jarvis/blob/master/jarvis/tests/testfiles/analysis/topological/WAVECAR.nosoc?raw=true\n",
            "Resolving github.com (github.com)... 140.82.114.3\n",
            "Connecting to github.com (github.com)|140.82.114.3|:443... connected.\n",
            "HTTP request sent, awaiting response... 302 Found\n",
            "Location: https://github.com/usnistgov/jarvis/raw/master/jarvis/tests/testfiles/analysis/topological/WAVECAR.nosoc [following]\n",
            "--2022-06-26 00:50:12--  https://github.com/usnistgov/jarvis/raw/master/jarvis/tests/testfiles/analysis/topological/WAVECAR.nosoc\n",
            "Reusing existing connection to github.com:443.\n",
            "HTTP request sent, awaiting response... 302 Found\n",
            "Location: https://raw.githubusercontent.com/usnistgov/jarvis/master/jarvis/tests/testfiles/analysis/topological/WAVECAR.nosoc [following]\n",
            "--2022-06-26 00:50:12--  https://raw.githubusercontent.com/usnistgov/jarvis/master/jarvis/tests/testfiles/analysis/topological/WAVECAR.nosoc\n",
            "Resolving raw.githubusercontent.com (raw.githubusercontent.com)... 185.199.108.133, 185.199.109.133, 185.199.110.133, ...\n",
            "Connecting to raw.githubusercontent.com (raw.githubusercontent.com)|185.199.108.133|:443... connected.\n",
            "HTTP request sent, awaiting response... 200 OK\n",
            "Length: 15602496 (15M) [application/octet-stream]\n",
            "Saving to: ‘WAVECAR.nosoc’\n",
            "\n",
            "WAVECAR.nosoc       100%[===================>]  14.88M  --.-KB/s    in 0.1s    \n",
            "\n",
            "2022-06-26 00:50:12 (133 MB/s) - ‘WAVECAR.nosoc’ saved [15602496/15602496]\n",
            "\n"
          ]
        }
      ]
    },
    {
      "cell_type": "code",
      "source": [
        "!wget https://github.com/usnistgov/jarvis/blob/master/jarvis/tests/testfiles/analysis/topological/WAVECAR.soc?raw=true -O WAVECAR.soc"
      ],
      "metadata": {
        "colab": {
          "base_uri": "https://localhost:8080/"
        },
        "id": "ykYvkSfvfHsV",
        "outputId": "fdc4fe75-780f-477c-ccc0-5d7125f1d573"
      },
      "execution_count": 4,
      "outputs": [
        {
          "output_type": "stream",
          "name": "stdout",
          "text": [
            "--2022-06-26 00:50:39--  https://github.com/usnistgov/jarvis/blob/master/jarvis/tests/testfiles/analysis/topological/WAVECAR.soc?raw=true\n",
            "Resolving github.com (github.com)... 140.82.113.3\n",
            "Connecting to github.com (github.com)|140.82.113.3|:443... connected.\n",
            "HTTP request sent, awaiting response... 302 Found\n",
            "Location: https://github.com/usnistgov/jarvis/raw/master/jarvis/tests/testfiles/analysis/topological/WAVECAR.soc [following]\n",
            "--2022-06-26 00:50:39--  https://github.com/usnistgov/jarvis/raw/master/jarvis/tests/testfiles/analysis/topological/WAVECAR.soc\n",
            "Reusing existing connection to github.com:443.\n",
            "HTTP request sent, awaiting response... 302 Found\n",
            "Location: https://raw.githubusercontent.com/usnistgov/jarvis/master/jarvis/tests/testfiles/analysis/topological/WAVECAR.soc [following]\n",
            "--2022-06-26 00:50:39--  https://raw.githubusercontent.com/usnistgov/jarvis/master/jarvis/tests/testfiles/analysis/topological/WAVECAR.soc\n",
            "Resolving raw.githubusercontent.com (raw.githubusercontent.com)... 185.199.110.133, 185.199.108.133, 185.199.111.133, ...\n",
            "Connecting to raw.githubusercontent.com (raw.githubusercontent.com)|185.199.110.133|:443... connected.\n",
            "HTTP request sent, awaiting response... 200 OK\n",
            "Length: 29420128 (28M) [application/octet-stream]\n",
            "Saving to: ‘WAVECAR.soc’\n",
            "\n",
            "WAVECAR.soc         100%[===================>]  28.06M   177MB/s    in 0.2s    \n",
            "\n",
            "2022-06-26 00:50:40 (177 MB/s) - ‘WAVECAR.soc’ saved [29420128/29420128]\n",
            "\n"
          ]
        }
      ]
    },
    {
      "cell_type": "code",
      "source": [
        "from jarvis.analysis.topological.spillage import Spillage\n",
        "import os\n",
        "\n",
        "wf_noso = \"WAVECAR.nosoc\"\n",
        "wf_so = \"WAVECAR.soc\"\n",
        "spl = Spillage(wf_noso=wf_noso, wf_so=wf_so)\n",
        "info = spl.overlap_so_spinpol()\n",
        "spillage = round(info[\"spillage\"], 2)\n",
        "print (spillage)"
      ],
      "metadata": {
        "colab": {
          "base_uri": "https://localhost:8080/"
        },
        "id": "_-hAfZfEfTuV",
        "outputId": "c41abe03-37aa-4269-8bc9-53100c41a78f"
      },
      "execution_count": 5,
      "outputs": [
        {
          "output_type": "stream",
          "name": "stdout",
          "text": [
            "------------------------------------\n",
            "\n",
            "                   INDIRECT DIRECT      HOMO/LUMO (eV)\n",
            "no spin-orbit gaps -6.189 -0.000     [12.570632190600326, 6.381782093579036]\n",
            "spin-orbit gaps    -5.649 +0.000     [12.340773399339255, 6.692078190678097]\n",
            "\n",
            "gamma max 0.47728166420938756  at k =   [ 0.2857 -0.2857  0.5   ]\n",
            "0.48\n"
          ]
        }
      ]
    },
    {
      "cell_type": "code",
      "source": [
        ""
      ],
      "metadata": {
        "id": "3uJuTYJ1fliM"
      },
      "execution_count": null,
      "outputs": []
    }
  ]
}