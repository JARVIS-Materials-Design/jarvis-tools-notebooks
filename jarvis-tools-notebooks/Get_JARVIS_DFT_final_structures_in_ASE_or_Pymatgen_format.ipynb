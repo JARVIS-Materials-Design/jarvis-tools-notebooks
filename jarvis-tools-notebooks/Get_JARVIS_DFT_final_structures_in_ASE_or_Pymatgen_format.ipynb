{
  "nbformat": 4,
  "nbformat_minor": 0,
  "metadata": {
    "colab": {
      "name": "Get_JARVIS-DFT_final_structures_in_ASE_or_Pymatgen_format.ipynb",
      "provenance": [],
      "authorship_tag": "ABX9TyMqV4o01ey0nLgzIdJkYKJk",
      "include_colab_link": true
    },
    "kernelspec": {
      "name": "python3",
      "display_name": "Python 3"
    },
    "language_info": {
      "name": "python"
    }
  },
  "cells": [
    {
      "cell_type": "markdown",
      "metadata": {
        "id": "view-in-github",
        "colab_type": "text"
      },
      "source": [
        "<a href=\"https://colab.research.google.com/github/knc6/jarvis-tools-notebooks/blob/master/jarvis-tools-notebooks/Get_JARVIS_DFT_final_structures_in_ASE_or_Pymatgen_format.ipynb\" target=\"_parent\"><img src=\"https://colab.research.google.com/assets/colab-badge.svg\" alt=\"Open In Colab\"/></a>"
      ]
    },
    {
      "cell_type": "code",
      "metadata": {
        "colab": {
          "base_uri": "https://localhost:8080/"
        },
        "id": "Zd3sohKx1xcW",
        "outputId": "f9b3dfce-83dd-47a0-abee-8d588790b54b"
      },
      "source": [
        "!pip install jarvis-tools ase pymatgen"
      ],
      "execution_count": 2,
      "outputs": [
        {
          "output_type": "stream",
          "text": [
            "Requirement already satisfied: jarvis-tools in /usr/local/lib/python3.7/dist-packages (2021.7.5)\n",
            "Requirement already satisfied: ase in /usr/local/lib/python3.7/dist-packages (3.22.0)\n",
            "Collecting pymatgen\n",
            "\u001b[?25l  Downloading https://files.pythonhosted.org/packages/bd/ba/b16443db8711bd0beb9cdc0fecb00039ec5f05d4ccf1cab28df68b571a51/pymatgen-2022.0.10.tar.gz (3.3MB)\n",
            "\u001b[K     |████████████████████████████████| 3.3MB 7.9MB/s \n",
            "\u001b[?25h  Installing build dependencies ... \u001b[?25l\u001b[?25hdone\n",
            "  Getting requirements to build wheel ... \u001b[?25l\u001b[?25hdone\n",
            "  Installing backend dependencies ... \u001b[?25l\u001b[?25hdone\n",
            "    Preparing wheel metadata ... \u001b[?25l\u001b[?25hdone\n",
            "Requirement already satisfied: requests>=2.23.0 in /usr/local/lib/python3.7/dist-packages (from jarvis-tools) (2.23.0)\n",
            "Requirement already satisfied: tqdm>=4.41.1 in /usr/local/lib/python3.7/dist-packages (from jarvis-tools) (4.41.1)\n",
            "Requirement already satisfied: numpy>=1.19.5 in /usr/local/lib/python3.7/dist-packages (from jarvis-tools) (1.19.5)\n",
            "Requirement already satisfied: spglib>=1.14.1 in /usr/local/lib/python3.7/dist-packages (from jarvis-tools) (1.16.1)\n",
            "Requirement already satisfied: xmltodict>=0.11.0 in /usr/local/lib/python3.7/dist-packages (from jarvis-tools) (0.12.0)\n",
            "Requirement already satisfied: matplotlib>=3.0.0 in /usr/local/lib/python3.7/dist-packages (from jarvis-tools) (3.2.2)\n",
            "Requirement already satisfied: scipy>=1.4.1 in /usr/local/lib/python3.7/dist-packages (from jarvis-tools) (1.4.1)\n",
            "Requirement already satisfied: toolz>=0.9.0 in /usr/local/lib/python3.7/dist-packages (from jarvis-tools) (0.11.1)\n",
            "Requirement already satisfied: joblib>=0.14.1 in /usr/local/lib/python3.7/dist-packages (from jarvis-tools) (1.0.1)\n",
            "Collecting ruamel.yaml>=0.15.6\n",
            "\u001b[?25l  Downloading https://files.pythonhosted.org/packages/0e/57/19361b93542a1bb071fe8b7dd5ae792de6e8ab86c707aa2c44db08c60b99/ruamel.yaml-0.17.10-py3-none-any.whl (108kB)\n",
            "\u001b[K     |████████████████████████████████| 112kB 36.7MB/s \n",
            "\u001b[?25hRequirement already satisfied: palettable>=3.1.1 in /usr/local/lib/python3.7/dist-packages (from pymatgen) (3.3.0)\n",
            "Collecting plotly>=4.5.0\n",
            "\u001b[?25l  Downloading https://files.pythonhosted.org/packages/95/8d/ac1560f7ccc2ace85cd1e9619bbec1975b5d2d92e6c6fdbbdaa994c6ab4d/plotly-5.1.0-py2.py3-none-any.whl (20.6MB)\n",
            "\u001b[K     |████████████████████████████████| 20.6MB 1.5MB/s \n",
            "\u001b[?25hRequirement already satisfied: sympy in /usr/local/lib/python3.7/dist-packages (from pymatgen) (1.7.1)\n",
            "Collecting monty>=3.0.2\n",
            "\u001b[?25l  Downloading https://files.pythonhosted.org/packages/31/26/e14afc57b4dd6c9b8c6d4b3f70dd0b4f1550ba263711e345845354bc84d9/monty-2021.6.10-py3-none-any.whl (65kB)\n",
            "\u001b[K     |████████████████████████████████| 71kB 6.6MB/s \n",
            "\u001b[?25hRequirement already satisfied: networkx>=2.2 in /usr/local/lib/python3.7/dist-packages (from pymatgen) (2.5.1)\n",
            "Requirement already satisfied: tabulate in /usr/local/lib/python3.7/dist-packages (from pymatgen) (0.8.9)\n",
            "Requirement already satisfied: pandas in /usr/local/lib/python3.7/dist-packages (from pymatgen) (1.1.5)\n",
            "Collecting uncertainties>=3.1.4\n",
            "\u001b[?25l  Downloading https://files.pythonhosted.org/packages/45/41/fc7e7b73b603e7c2c9e040b7aa8caf4a88d74b6faa567601ed82b6f0d8e1/uncertainties-3.1.5-py2.py3-none-any.whl (246kB)\n",
            "\u001b[K     |████████████████████████████████| 256kB 48.5MB/s \n",
            "\u001b[?25hRequirement already satisfied: typing-extensions>=3.7.4.3; python_version < \"3.8\" in /usr/local/lib/python3.7/dist-packages (from pymatgen) (3.7.4.3)\n",
            "Requirement already satisfied: urllib3!=1.25.0,!=1.25.1,<1.26,>=1.21.1 in /usr/local/lib/python3.7/dist-packages (from requests>=2.23.0->jarvis-tools) (1.24.3)\n",
            "Requirement already satisfied: chardet<4,>=3.0.2 in /usr/local/lib/python3.7/dist-packages (from requests>=2.23.0->jarvis-tools) (3.0.4)\n",
            "Requirement already satisfied: certifi>=2017.4.17 in /usr/local/lib/python3.7/dist-packages (from requests>=2.23.0->jarvis-tools) (2021.5.30)\n",
            "Requirement already satisfied: idna<3,>=2.5 in /usr/local/lib/python3.7/dist-packages (from requests>=2.23.0->jarvis-tools) (2.10)\n",
            "Requirement already satisfied: cycler>=0.10 in /usr/local/lib/python3.7/dist-packages (from matplotlib>=3.0.0->jarvis-tools) (0.10.0)\n",
            "Requirement already satisfied: python-dateutil>=2.1 in /usr/local/lib/python3.7/dist-packages (from matplotlib>=3.0.0->jarvis-tools) (2.8.1)\n",
            "Requirement already satisfied: kiwisolver>=1.0.1 in /usr/local/lib/python3.7/dist-packages (from matplotlib>=3.0.0->jarvis-tools) (1.3.1)\n",
            "Requirement already satisfied: pyparsing!=2.0.4,!=2.1.2,!=2.1.6,>=2.0.1 in /usr/local/lib/python3.7/dist-packages (from matplotlib>=3.0.0->jarvis-tools) (2.4.7)\n",
            "Collecting ruamel.yaml.clib>=0.1.2; platform_python_implementation == \"CPython\" and python_version < \"3.10\"\n",
            "\u001b[?25l  Downloading https://files.pythonhosted.org/packages/98/8a/ba37489b423916162b086b01c7c18001cf297350694180468e1698085c58/ruamel.yaml.clib-0.2.6-cp37-cp37m-manylinux1_x86_64.whl (546kB)\n",
            "\u001b[K     |████████████████████████████████| 552kB 40.8MB/s \n",
            "\u001b[?25hRequirement already satisfied: six in /usr/local/lib/python3.7/dist-packages (from plotly>=4.5.0->pymatgen) (1.15.0)\n",
            "Collecting tenacity>=6.2.0\n",
            "  Downloading https://files.pythonhosted.org/packages/d8/f7/dcafcff418087f0f3de47431ef7504efd11a585086419ce1872af9bdf2a7/tenacity-8.0.0-py3-none-any.whl\n",
            "Requirement already satisfied: mpmath>=0.19 in /usr/local/lib/python3.7/dist-packages (from sympy->pymatgen) (1.2.1)\n",
            "Requirement already satisfied: decorator<5,>=4.3 in /usr/local/lib/python3.7/dist-packages (from networkx>=2.2->pymatgen) (4.4.2)\n",
            "Requirement already satisfied: pytz>=2017.2 in /usr/local/lib/python3.7/dist-packages (from pandas->pymatgen) (2018.9)\n",
            "Requirement already satisfied: future in /usr/local/lib/python3.7/dist-packages (from uncertainties>=3.1.4->pymatgen) (0.16.0)\n",
            "Building wheels for collected packages: pymatgen\n",
            "  Building wheel for pymatgen (PEP 517) ... \u001b[?25l\u001b[?25hdone\n",
            "  Created wheel for pymatgen: filename=pymatgen-2022.0.10-cp37-cp37m-linux_x86_64.whl size=3697458 sha256=3e7e4b1d8f3cca0e339ee3ab245857069101b33a662f1816346e0ddef1da1536\n",
            "  Stored in directory: /root/.cache/pip/wheels/92/96/a2/97a01452ffb30bcfffae1c378f169100ecd21878ea12fe4a00\n",
            "Successfully built pymatgen\n",
            "\u001b[31mERROR: pymatgen 2022.0.10 has requirement numpy>=1.20.1, but you'll have numpy 1.19.5 which is incompatible.\u001b[0m\n",
            "\u001b[31mERROR: pymatgen 2022.0.10 has requirement scipy>=1.5.0, but you'll have scipy 1.4.1 which is incompatible.\u001b[0m\n",
            "Installing collected packages: ruamel.yaml.clib, ruamel.yaml, tenacity, plotly, monty, uncertainties, pymatgen\n",
            "  Found existing installation: plotly 4.4.1\n",
            "    Uninstalling plotly-4.4.1:\n",
            "      Successfully uninstalled plotly-4.4.1\n",
            "Successfully installed monty-2021.6.10 plotly-5.1.0 pymatgen-2022.0.10 ruamel.yaml-0.17.10 ruamel.yaml.clib-0.2.6 tenacity-8.0.0 uncertainties-3.1.5\n"
          ],
          "name": "stdout"
        }
      ]
    },
    {
      "cell_type": "code",
      "metadata": {
        "colab": {
          "base_uri": "https://localhost:8080/"
        },
        "id": "o0QKxq7I131l",
        "outputId": "8d1b972d-9824-4c55-8139-36946d60dd09"
      },
      "source": [
        "from jarvis.db.figshare import data\n",
        "dft_3d=data('dft_3d')\n",
        "dft_2d=data('dft_2d')\n"
      ],
      "execution_count": 3,
      "outputs": [
        {
          "output_type": "stream",
          "text": [
            "Obtaining 3D dataset 48k ...\n",
            "Reference:https://www.nature.com/articles/s41524-020-00440-1\n"
          ],
          "name": "stdout"
        },
        {
          "output_type": "stream",
          "text": [
            "100%|██████████| 390M/390M [00:19<00:00, 20.0MiB/s]\n"
          ],
          "name": "stderr"
        },
        {
          "output_type": "stream",
          "text": [
            "Loading the zipfile...\n",
            "Loading completed.\n",
            "Obtaining 2D dataset 1.1k ...\n",
            "Reference:https://www.nature.com/articles/s41524-020-00440-1\n"
          ],
          "name": "stdout"
        },
        {
          "output_type": "stream",
          "text": [
            "100%|██████████| 8.20M/8.20M [00:01<00:00, 5.74MiB/s]\n"
          ],
          "name": "stderr"
        },
        {
          "output_type": "stream",
          "text": [
            "Loading the zipfile...\n",
            "Loading completed.\n"
          ],
          "name": "stdout"
        }
      ]
    },
    {
      "cell_type": "code",
      "metadata": {
        "id": "4vhmdwQ02PtN"
      },
      "source": [
        "from jarvis.core.atoms import Atoms\n",
        "for i in dft_3d:\n",
        "  atoms=Atoms.from_dict(i['atoms'])\n",
        "  pmg_struct=atoms.pymatgen_converter()\n",
        "  ase_atoms=atoms.ase_converter()\n",
        "  break"
      ],
      "execution_count": 4,
      "outputs": []
    },
    {
      "cell_type": "code",
      "metadata": {
        "colab": {
          "base_uri": "https://localhost:8080/"
        },
        "id": "vsjZYTIw3RPa",
        "outputId": "7210d013-7061-4135-f6ec-2b1193555a2f"
      },
      "source": [
        "print (atoms)"
      ],
      "execution_count": 5,
      "outputs": [
        {
          "output_type": "stream",
          "text": [
            "Ti2Cu2Si2As2\n",
            "1.0\n",
            "3.566933224304235 0.0 -0.0\n",
            "0.0 3.566933224304235 -0.0\n",
            "-0.0 -0.0 9.397075454186664\n",
            "Ti Cu Si As\n",
            "2 2 2 2\n",
            "Cartesian\n",
            "2.6751975000000003 2.6751975000000003 7.376101754328542\n",
            "0.8917325 0.8917325 2.0209782456714573\n",
            "0.8917325 2.6751975000000003 4.69854\n",
            "2.6751975000000003 0.8917325 4.69854\n",
            "0.8917325 2.6751975000000003 0.0\n",
            "2.6751975000000003 0.8917325 0.0\n",
            "2.6751975000000003 2.6751975000000003 2.8894795605846353\n",
            "0.8917325 0.8917325 6.507600439415366\n",
            "\n"
          ],
          "name": "stdout"
        }
      ]
    },
    {
      "cell_type": "code",
      "metadata": {
        "colab": {
          "base_uri": "https://localhost:8080/"
        },
        "id": "lmypX92W3SdM",
        "outputId": "83f7a789-6f8e-4337-a91b-7fbf9f199525"
      },
      "source": [
        "print(pmg_struct)"
      ],
      "execution_count": 6,
      "outputs": [
        {
          "output_type": "stream",
          "text": [
            "Full Formula (Ti2 Cu2 Si2 As2)\n",
            "Reduced Formula: TiCuSiAs\n",
            "abc   :   3.566933   3.566933   9.397075\n",
            "angles:  90.000000  90.000000  90.000000\n",
            "Sites (8)\n",
            "  #  SP       a     b         c\n",
            "---  ----  ----  ----  --------\n",
            "  0  Ti    0.75  0.75  0.784936\n",
            "  1  Ti    0.25  0.25  0.215064\n",
            "  2  Cu    0.25  0.75  0.5\n",
            "  3  Cu    0.75  0.25  0.5\n",
            "  4  Si    0.25  0.75  0\n",
            "  5  Si    0.75  0.25  0\n",
            "  6  As    0.75  0.75  0.307487\n",
            "  7  As    0.25  0.25  0.692513\n"
          ],
          "name": "stdout"
        }
      ]
    },
    {
      "cell_type": "code",
      "metadata": {
        "colab": {
          "base_uri": "https://localhost:8080/"
        },
        "id": "GmvRW4q53UR_",
        "outputId": "7acbab52-8739-469b-d5f4-59942ddb56c8"
      },
      "source": [
        "print(ase_atoms)"
      ],
      "execution_count": 7,
      "outputs": [
        {
          "output_type": "stream",
          "text": [
            "Atoms(symbols='Ti2Cu2Si2As2', pbc=True, cell=[3.566933224304235, 3.566933224304235, 9.397075454186664])\n"
          ],
          "name": "stdout"
        }
      ]
    },
    {
      "cell_type": "code",
      "metadata": {
        "id": "8YjZtimy3Vz3"
      },
      "source": [
        ""
      ],
      "execution_count": null,
      "outputs": []
    }
  ]
}