{
  "nbformat": 4,
  "nbformat_minor": 0,
  "metadata": {
    "colab": {
      "name": "Qiskit based electronic bandstructure_latest_qiskit.ipynb",
      "provenance": [],
      "authorship_tag": "ABX9TyNvPQXMb5sWVz/Td/7mgNPC",
      "include_colab_link": true
    },
    "kernelspec": {
      "name": "python3",
      "display_name": "Python 3"
    },
    "language_info": {
      "name": "python"
    }
  },
  "cells": [
    {
      "cell_type": "markdown",
      "metadata": {
        "id": "view-in-github",
        "colab_type": "text"
      },
      "source": [
        "<a href=\"https://colab.research.google.com/github/knc6/jarvis-tools-notebooks/blob/master/jarvis-tools-notebooks/Qiskit_based_electronic_bandstructure_latest_qiskit.ipynb\" target=\"_parent\"><img src=\"https://colab.research.google.com/assets/colab-badge.svg\" alt=\"Open In Colab\"/></a>"
      ]
    },
    {
      "cell_type": "markdown",
      "source": [
        "#This notebook shows a few examples to use [JARVIS-Tools](https://github.com/usnistgov/jarvis), [AtomQC](https://github.com/usnistgov/atomqc) and [Qiskit](https://qiskit.org/) packages to generate electronic bandstructure for [Aluminum](https://www.ctcms.nist.gov/~knc6/static/JARVIS-DFT/JVASP-816.xml). \n",
        "#For details see: https://iopscience.iop.org/article/10.1088/1361-648X/ac1154/meta"
      ],
      "metadata": {
        "id": "k-LpbV6kOtS2"
      }
    },
    {
      "cell_type": "markdown",
      "source": [
        "Note: We are pinning versions of some of the packages as qiskit might have renamed/modified its modules"
      ],
      "metadata": {
        "id": "zKv5oVrUPXRG"
      }
    },
    {
      "cell_type": "code",
      "metadata": {
        "colab": {
          "base_uri": "https://localhost:8080/"
        },
        "id": "6tqFWYPHewZW",
        "outputId": "2225ec88-787e-4574-f294-33af243ef78e"
      },
      "source": [
        "!pip  install jarvis-tools qiskit\n"
      ],
      "execution_count": 1,
      "outputs": [
        {
          "output_type": "stream",
          "name": "stdout",
          "text": [
            "Looking in indexes: https://pypi.org/simple, https://us-python.pkg.dev/colab-wheels/public/simple/\n",
            "Collecting jarvis-tools\n",
            "  Downloading jarvis_tools-2023.1.8-py2.py3-none-any.whl (973 kB)\n",
            "\u001b[2K     \u001b[90m━━━━━━━━━━━━━━━━━━━━━━━━━━━━━━━━━━━━━━\u001b[0m \u001b[32m973.3/973.3 KB\u001b[0m \u001b[31m10.3 MB/s\u001b[0m eta \u001b[36m0:00:00\u001b[0m\n",
            "\u001b[?25hCollecting qiskit\n",
            "  Downloading qiskit-0.41.0.tar.gz (14 kB)\n",
            "  Preparing metadata (setup.py) ... \u001b[?25l\u001b[?25hdone\n",
            "Requirement already satisfied: requests>=2.23.0 in /usr/local/lib/python3.8/dist-packages (from jarvis-tools) (2.25.1)\n",
            "Collecting xmltodict>=0.11.0\n",
            "  Downloading xmltodict-0.13.0-py2.py3-none-any.whl (10.0 kB)\n",
            "Requirement already satisfied: toolz>=0.9.0 in /usr/local/lib/python3.8/dist-packages (from jarvis-tools) (0.12.0)\n",
            "Requirement already satisfied: tqdm>=4.41.1 in /usr/local/lib/python3.8/dist-packages (from jarvis-tools) (4.64.1)\n",
            "Requirement already satisfied: scipy>=1.4.1 in /usr/local/lib/python3.8/dist-packages (from jarvis-tools) (1.7.3)\n",
            "Requirement already satisfied: joblib>=0.14.1 in /usr/local/lib/python3.8/dist-packages (from jarvis-tools) (1.2.0)\n",
            "Requirement already satisfied: matplotlib>=3.0.0 in /usr/local/lib/python3.8/dist-packages (from jarvis-tools) (3.2.2)\n",
            "Requirement already satisfied: numpy>=1.19.5 in /usr/local/lib/python3.8/dist-packages (from jarvis-tools) (1.21.6)\n",
            "Collecting spglib>=1.14.1\n",
            "  Downloading spglib-2.0.2-cp38-cp38-manylinux_2_17_x86_64.manylinux2014_x86_64.whl (515 kB)\n",
            "\u001b[2K     \u001b[90m━━━━━━━━━━━━━━━━━━━━━━━━━━━━━━━━━━━━━━\u001b[0m \u001b[32m515.1/515.1 KB\u001b[0m \u001b[31m10.8 MB/s\u001b[0m eta \u001b[36m0:00:00\u001b[0m\n",
            "\u001b[?25hCollecting qiskit-terra==0.23.1\n",
            "  Downloading qiskit_terra-0.23.1-cp38-cp38-manylinux_2_17_x86_64.manylinux2014_x86_64.whl (5.1 MB)\n",
            "\u001b[2K     \u001b[90m━━━━━━━━━━━━━━━━━━━━━━━━━━━━━━━━━━━━━━━━\u001b[0m \u001b[32m5.1/5.1 MB\u001b[0m \u001b[31m20.1 MB/s\u001b[0m eta \u001b[36m0:00:00\u001b[0m\n",
            "\u001b[?25hCollecting qiskit-aer==0.11.2\n",
            "  Downloading qiskit_aer-0.11.2-cp38-cp38-manylinux_2_17_x86_64.manylinux2014_x86_64.whl (12.8 MB)\n",
            "\u001b[2K     \u001b[90m━━━━━━━━━━━━━━━━━━━━━━━━━━━━━━━━━━━━━━━━\u001b[0m \u001b[32m12.8/12.8 MB\u001b[0m \u001b[31m47.3 MB/s\u001b[0m eta \u001b[36m0:00:00\u001b[0m\n",
            "\u001b[?25hCollecting qiskit-ibmq-provider==0.20.0\n",
            "  Downloading qiskit_ibmq_provider-0.20.0-py3-none-any.whl (241 kB)\n",
            "\u001b[2K     \u001b[90m━━━━━━━━━━━━━━━━━━━━━━━━━━━━━━━━━━━━━━\u001b[0m \u001b[32m241.3/241.3 KB\u001b[0m \u001b[31m13.1 MB/s\u001b[0m eta \u001b[36m0:00:00\u001b[0m\n",
            "\u001b[?25hCollecting websockets>=10.0\n",
            "  Downloading websockets-10.4-cp38-cp38-manylinux_2_5_x86_64.manylinux1_x86_64.manylinux_2_17_x86_64.manylinux2014_x86_64.whl (106 kB)\n",
            "\u001b[2K     \u001b[90m━━━━━━━━━━━━━━━━━━━━━━━━━━━━━━━━━━━━━━━\u001b[0m \u001b[32m107.0/107.0 KB\u001b[0m \u001b[31m1.4 MB/s\u001b[0m eta \u001b[36m0:00:00\u001b[0m\n",
            "\u001b[?25hRequirement already satisfied: python-dateutil>=2.8.0 in /usr/local/lib/python3.8/dist-packages (from qiskit-ibmq-provider==0.20.0->qiskit) (2.8.2)\n",
            "Requirement already satisfied: urllib3>=1.21.1 in /usr/local/lib/python3.8/dist-packages (from qiskit-ibmq-provider==0.20.0->qiskit) (1.24.3)\n",
            "Collecting requests-ntlm>=1.1.0\n",
            "  Downloading requests_ntlm-1.1.0-py2.py3-none-any.whl (5.7 kB)\n",
            "Collecting websocket-client<=1.3.3\n",
            "  Downloading websocket_client-1.3.3-py3-none-any.whl (54 kB)\n",
            "\u001b[2K     \u001b[90m━━━━━━━━━━━━━━━━━━━━━━━━━━━━━━━━━━━━━━━━\u001b[0m \u001b[32m54.3/54.3 KB\u001b[0m \u001b[31m3.3 MB/s\u001b[0m eta \u001b[36m0:00:00\u001b[0m\n",
            "\u001b[?25hRequirement already satisfied: psutil>=5 in /usr/local/lib/python3.8/dist-packages (from qiskit-terra==0.23.1->qiskit) (5.4.8)\n",
            "Requirement already satisfied: sympy>=1.3 in /usr/local/lib/python3.8/dist-packages (from qiskit-terra==0.23.1->qiskit) (1.7.1)\n",
            "Requirement already satisfied: dill>=0.3 in /usr/local/lib/python3.8/dist-packages (from qiskit-terra==0.23.1->qiskit) (0.3.6)\n",
            "Collecting rustworkx>=0.12.0\n",
            "  Downloading rustworkx-0.12.1-cp38-cp38-manylinux_2_17_x86_64.manylinux2014_x86_64.whl (1.9 MB)\n",
            "\u001b[2K     \u001b[90m━━━━━━━━━━━━━━━━━━━━━━━━━━━━━━━━━━━━━━━━\u001b[0m \u001b[32m1.9/1.9 MB\u001b[0m \u001b[31m35.5 MB/s\u001b[0m eta \u001b[36m0:00:00\u001b[0m\n",
            "\u001b[?25hCollecting stevedore>=3.0.0\n",
            "  Downloading stevedore-5.0.0-py3-none-any.whl (49 kB)\n",
            "\u001b[2K     \u001b[90m━━━━━━━━━━━━━━━━━━━━━━━━━━━━━━━━━━━━━━━━\u001b[0m \u001b[32m49.6/49.6 KB\u001b[0m \u001b[31m2.5 MB/s\u001b[0m eta \u001b[36m0:00:00\u001b[0m\n",
            "\u001b[?25hCollecting ply>=3.10\n",
            "  Downloading ply-3.11-py2.py3-none-any.whl (49 kB)\n",
            "\u001b[2K     \u001b[90m━━━━━━━━━━━━━━━━━━━━━━━━━━━━━━━━━━━━━━━━\u001b[0m \u001b[32m49.6/49.6 KB\u001b[0m \u001b[31m2.7 MB/s\u001b[0m eta \u001b[36m0:00:00\u001b[0m\n",
            "\u001b[?25hCollecting symengine>=0.9\n",
            "  Downloading symengine-0.9.2-cp38-cp38-manylinux2010_x86_64.whl (37.5 MB)\n",
            "\u001b[2K     \u001b[90m━━━━━━━━━━━━━━━━━━━━━━━━━━━━━━━━━━━━━━━━\u001b[0m \u001b[32m37.5/37.5 MB\u001b[0m \u001b[31m16.4 MB/s\u001b[0m eta \u001b[36m0:00:00\u001b[0m\n",
            "\u001b[?25hRequirement already satisfied: pyparsing!=2.0.4,!=2.1.2,!=2.1.6,>=2.0.1 in /usr/local/lib/python3.8/dist-packages (from matplotlib>=3.0.0->jarvis-tools) (3.0.9)\n",
            "Requirement already satisfied: cycler>=0.10 in /usr/local/lib/python3.8/dist-packages (from matplotlib>=3.0.0->jarvis-tools) (0.11.0)\n",
            "Requirement already satisfied: kiwisolver>=1.0.1 in /usr/local/lib/python3.8/dist-packages (from matplotlib>=3.0.0->jarvis-tools) (1.4.4)\n",
            "Requirement already satisfied: idna<3,>=2.5 in /usr/local/lib/python3.8/dist-packages (from requests>=2.23.0->jarvis-tools) (2.10)\n",
            "Requirement already satisfied: certifi>=2017.4.17 in /usr/local/lib/python3.8/dist-packages (from requests>=2.23.0->jarvis-tools) (2022.12.7)\n",
            "Requirement already satisfied: chardet<5,>=3.0.2 in /usr/local/lib/python3.8/dist-packages (from requests>=2.23.0->jarvis-tools) (4.0.0)\n",
            "Requirement already satisfied: six>=1.5 in /usr/local/lib/python3.8/dist-packages (from python-dateutil>=2.8.0->qiskit-ibmq-provider==0.20.0->qiskit) (1.15.0)\n",
            "Collecting ntlm-auth>=1.0.2\n",
            "  Downloading ntlm_auth-1.5.0-py2.py3-none-any.whl (29 kB)\n",
            "Collecting cryptography>=1.3\n",
            "  Downloading cryptography-39.0.1-cp36-abi3-manylinux_2_28_x86_64.whl (4.2 MB)\n",
            "\u001b[2K     \u001b[90m━━━━━━━━━━━━━━━━━━━━━━━━━━━━━━━━━━━━━━━━\u001b[0m \u001b[32m4.2/4.2 MB\u001b[0m \u001b[31m27.7 MB/s\u001b[0m eta \u001b[36m0:00:00\u001b[0m\n",
            "\u001b[?25hCollecting pbr!=2.1.0,>=2.0.0\n",
            "  Downloading pbr-5.11.1-py2.py3-none-any.whl (112 kB)\n",
            "\u001b[2K     \u001b[90m━━━━━━━━━━━━━━━━━━━━━━━━━━━━━━━━━━━━━━━\u001b[0m \u001b[32m112.7/112.7 KB\u001b[0m \u001b[31m5.6 MB/s\u001b[0m eta \u001b[36m0:00:00\u001b[0m\n",
            "\u001b[?25hRequirement already satisfied: mpmath>=0.19 in /usr/local/lib/python3.8/dist-packages (from sympy>=1.3->qiskit-terra==0.23.1->qiskit) (1.2.1)\n",
            "Requirement already satisfied: cffi>=1.12 in /usr/local/lib/python3.8/dist-packages (from cryptography>=1.3->requests-ntlm>=1.1.0->qiskit-ibmq-provider==0.20.0->qiskit) (1.15.1)\n",
            "Requirement already satisfied: pycparser in /usr/local/lib/python3.8/dist-packages (from cffi>=1.12->cryptography>=1.3->requests-ntlm>=1.1.0->qiskit-ibmq-provider==0.20.0->qiskit) (2.21)\n",
            "Building wheels for collected packages: qiskit\n",
            "  Building wheel for qiskit (setup.py) ... \u001b[?25l\u001b[?25hdone\n",
            "  Created wheel for qiskit: filename=qiskit-0.41.0-py3-none-any.whl size=12845 sha256=7963f716614beca553f2dec267619ad26e1fa14d117ec76e63d445e758d40524\n",
            "  Stored in directory: /root/.cache/pip/wheels/02/23/9b/72a4fd1b76354304e2e58883995a5d6ae15c1cbe2e2eb69441\n",
            "Successfully built qiskit\n",
            "Installing collected packages: ply, xmltodict, websockets, websocket-client, symengine, spglib, rustworkx, pbr, ntlm-auth, stevedore, cryptography, requests-ntlm, qiskit-terra, jarvis-tools, qiskit-ibmq-provider, qiskit-aer, qiskit\n",
            "Successfully installed cryptography-39.0.1 jarvis-tools-2023.1.8 ntlm-auth-1.5.0 pbr-5.11.1 ply-3.11 qiskit-0.41.0 qiskit-aer-0.11.2 qiskit-ibmq-provider-0.20.0 qiskit-terra-0.23.1 requests-ntlm-1.1.0 rustworkx-0.12.1 spglib-2.0.2 stevedore-5.0.0 symengine-0.9.2 websocket-client-1.3.3 websockets-10.4 xmltodict-0.13.0\n"
          ]
        }
      ]
    },
    {
      "cell_type": "code",
      "source": [
        "from qiskit import Aer\n",
        "from qiskit.utils import QuantumInstance, algorithm_globals\n",
        "from qiskit.algorithms import VQE\n",
        "from qiskit.algorithms.optimizers import SLSQP\n",
        "import numpy as np\n",
        "import itertools, functools\n",
        "from qiskit.opflow import I, X, Y, Z\n",
        "from jarvis.db.figshare import get_wann_electron, get_wann_phonon, get_hk_tb\n",
        "from jarvis.core.circuits import QuantumCircuitLibrary\n",
        "\n",
        "\n",
        "def decompose_Hamiltonian(H):\n",
        "    #Inspired from\n",
        "    # https://github.com/PennyLaneAI/pennylane/blob/master/pennylane/utils.py#L45\n",
        "    # https://qiskit.org/documentation/tutorials/algorithms/04_vqe_advanced.html\n",
        "    x, y = H.shape\n",
        "    N = int(np.log2(len(H)))\n",
        "    if len(H) - 2 ** N != 0 or x != y:\n",
        "        raise ValueError(\n",
        "            \"Hamiltonian should be in the form (2^n x 2^n), for any n>=1\")\n",
        "    pauilis = [I, X, Y, Z]\n",
        "    decomposedH = 0\n",
        "    for term in itertools.product(pauilis, repeat=N):\n",
        "        matrices = [i.to_matrix() for i in term]\n",
        "        # coefficient of the pauli string = (1/2^N) * (Tr[pauliOp x H])\n",
        "        coeff = np.trace(functools.reduce(np.kron, matrices) @ H) / (2**N)\n",
        "        coeff = np.real_if_close(coeff).item()\n",
        "        if coeff == 0:\n",
        "            continue\n",
        "        obs = 1\n",
        "        for i in term:\n",
        "            obs = obs ^ i\n",
        "        decomposedH += coeff * obs\n",
        "    return decomposedH\n",
        "\n",
        "\n",
        "\n",
        "wtbh, Ef, atoms = get_wann_electron(\"JVASP-816\")\n",
        "kpt = [0.5, 0., 0.5] # X-point\n",
        "hk = get_hk_tb(w=wtbh, k=kpt)\n",
        "wtbh_op=decompose_Hamiltonian(hk)\n",
        "\n",
        "seed = 50\n",
        "algorithm_globals.random_seed = seed\n",
        "qi = QuantumInstance(Aer.get_backend('statevector_simulator'), seed_transpiler=seed, seed_simulator=seed)\n",
        "n_qubits = int(np.log2(len(hk)))\n",
        "#ansatz = TwoLocal(rotation_blocks='ry', entanglement_blocks='cz')\n",
        "ansatz = QuantumCircuitLibrary(n_qubits=n_qubits, reps=1).circuit6()\n",
        "slsqp = SLSQP(maxiter=1000)\n",
        "vqe = VQE(ansatz, optimizer=slsqp, quantum_instance=qi)\n",
        "result = vqe.compute_minimum_eigenvalue(operator=wtbh_op)\n",
        "np_eig = min(np.linalg.eig(hk)[0])\n",
        "print ('numpy min. eig', np_eig )\n",
        "\n",
        "eigenvalue = result.eigenvalue\n",
        "#print(result)\n",
        "print('VQE eig.', eigenvalue)"
      ],
      "metadata": {
        "id": "HgCLxw4ZKtNw",
        "outputId": "c7eaca0b-635e-4f97-a64f-65b1f1999d36",
        "colab": {
          "base_uri": "https://localhost:8080/"
        }
      },
      "execution_count": 2,
      "outputs": [
        {
          "output_type": "stream",
          "name": "stdout",
          "text": [
            "Obtaining raw io files 145k...\n",
            "Reference:https://www.nature.com/articles/s41524-020-00440-1\n"
          ]
        },
        {
          "output_type": "stream",
          "name": "stderr",
          "text": [
            "100%|██████████| 6.00M/6.00M [00:02<00:00, 2.85MiB/s]\n"
          ]
        },
        {
          "output_type": "stream",
          "name": "stdout",
          "text": [
            "Loading the zipfile...\n",
            "Loading completed.\n",
            "H size 15 13 15 8 8\n",
            "numpy min. eig (4.885195094715013+4.342664158701647e-16j)\n",
            "VQE eig. (4.885211308472339+0j)\n"
          ]
        }
      ]
    },
    {
      "cell_type": "code",
      "source": [
        "from jarvis.db.figshare import get_wann_electron, get_wann_phonon, get_hk_tb\n",
        "from jarvis.io.qiskit.inputs import HermitianSolver\n",
        "from jarvis.core.circuits import QuantumCircuitLibrary\n",
        "from qiskit import Aer\n",
        "\n",
        "backend = Aer.get_backend(\"statevector_simulator\")\n",
        "# Aluminum JARVIS-ID: JVASP-816\n",
        "wtbh, Ef, atoms = get_wann_electron(\"JVASP-816\")\n",
        "kpt = [0.5, 0., 0.5] # X-point\n",
        "hk = get_hk_tb(w=wtbh, k=kpt)\n",
        "HS = HermitianSolver(hk)\n",
        "n_qubits = HS.n_qubits()\n",
        "circ = QuantumCircuitLibrary(n_qubits=n_qubits, reps=1).circuit6()\n",
        "en, vqe_result, vqe = HS.run_vqe(var_form=circ, backend=backend)\n",
        "vals,vecs = HS.run_numpy()\n",
        "# Ef: Fermi-level\n",
        "print('Classical, VQE (eV):', vals[0]-Ef, en-Ef)\n",
        "print('Show model\\n', circ)"
      ],
      "metadata": {
        "colab": {
          "base_uri": "https://localhost:8080/"
        },
        "id": "SKUiv7WWjAk6",
        "outputId": "831d294e-d367-4782-c344-84452136c84a"
      },
      "execution_count": 3,
      "outputs": [
        {
          "output_type": "stream",
          "name": "stdout",
          "text": [
            "Obtaining raw io files 145k...\n",
            "Reference:https://www.nature.com/articles/s41524-020-00440-1\n",
            "Loading the zipfile...\n",
            "Loading completed.\n",
            "H size 15 13 15 8 8\n",
            "Classical, VQE (eV): -3.0437167852849907 (-3.043700571527661+0j)\n",
            "Show model\n",
            "      »\n",
            "q_0: »\n",
            "     »\n",
            "q_1: »\n",
            "     »\n",
            "q_2: »\n",
            "     »\n",
            "«     ┌──────────────────────────────────────────────────────────────────────────────┐\n",
            "«q_0: ┤0                                                                             ├\n",
            "«     │                                                                              │\n",
            "«q_1: ┤1 EfficientSU2(θ[0],θ[1],θ[2],θ[3],θ[4],θ[5],θ[6],θ[7],θ[8],θ[9],θ[10],θ[11]) ├\n",
            "«     │                                                                              │\n",
            "«q_2: ┤2                                                                             ├\n",
            "«     └──────────────────────────────────────────────────────────────────────────────┘\n"
          ]
        }
      ]
    },
    {
      "cell_type": "code",
      "source": [
        "import matplotlib.pyplot as plt\n",
        "%matplotlib inline\n",
        "from jarvis.io.qiskit.inputs import get_bandstruct\n",
        "out=get_bandstruct(w=wtbh,atoms=atoms, line_density=1, savefig=False)\n",
        "# Scroll down to see th plot"
      ],
      "metadata": {
        "colab": {
          "base_uri": "https://localhost:8080/",
          "height": 560
        },
        "id": "cABTcdL9jUbL",
        "outputId": "c1436b07-92ca-4fb3-ee7b-44340e15a3b4"
      },
      "execution_count": 6,
      "outputs": [
        {
          "output_type": "stream",
          "name": "stderr",
          "text": [
            "/usr/local/lib/python3.8/dist-packages/matplotlib/cbook/__init__.py:1317: ComplexWarning: Casting complex values to real discards the imaginary part\n",
            "  return np.asarray(x, float)\n",
            "/usr/local/lib/python3.8/dist-packages/matplotlib/cbook/__init__.py:1317: ComplexWarning: Casting complex values to real discards the imaginary part\n",
            "  return np.asarray(x, float)\n",
            "/usr/local/lib/python3.8/dist-packages/matplotlib/cbook/__init__.py:1317: ComplexWarning: Casting complex values to real discards the imaginary part\n",
            "  return np.asarray(x, float)\n",
            "/usr/local/lib/python3.8/dist-packages/matplotlib/cbook/__init__.py:1317: ComplexWarning: Casting complex values to real discards the imaginary part\n",
            "  return np.asarray(x, float)\n",
            "/usr/local/lib/python3.8/dist-packages/matplotlib/cbook/__init__.py:1317: ComplexWarning: Casting complex values to real discards the imaginary part\n",
            "  return np.asarray(x, float)\n",
            "/usr/local/lib/python3.8/dist-packages/matplotlib/cbook/__init__.py:1317: ComplexWarning: Casting complex values to real discards the imaginary part\n",
            "  return np.asarray(x, float)\n",
            "/usr/local/lib/python3.8/dist-packages/matplotlib/cbook/__init__.py:1317: ComplexWarning: Casting complex values to real discards the imaginary part\n",
            "  return np.asarray(x, float)\n",
            "/usr/local/lib/python3.8/dist-packages/matplotlib/cbook/__init__.py:1317: ComplexWarning: Casting complex values to real discards the imaginary part\n",
            "  return np.asarray(x, float)\n"
          ]
        },
        {
          "output_type": "display_data",
          "data": {
            "text/plain": [
              "<Figure size 432x288 with 1 Axes>"
            ],
            "image/png": "[encoded data removed]"
          },
          "metadata": {
            "needs_background": "light"
          }
        }
      ]
    },
    {
      "cell_type": "code",
      "source": [
        "len(out)"
      ],
      "metadata": {
        "colab": {
          "base_uri": "https://localhost:8080/"
        },
        "id": "nsScEN5isOUY",
        "outputId": "41cd4f4c-e57b-4f4d-cfb2-ef7461b1537f"
      },
      "execution_count": 8,
      "outputs": [
        {
          "output_type": "execute_result",
          "data": {
            "text/plain": [
              "6"
            ]
          },
          "metadata": {},
          "execution_count": 8
        }
      ]
    },
    {
      "cell_type": "code",
      "source": [
        "out.keys()"
      ],
      "metadata": {
        "colab": {
          "base_uri": "https://localhost:8080/"
        },
        "id": "i39QMiGesq8e",
        "outputId": "c21aa72e-2574-411a-bc86-52ae3a7c8adf"
      },
      "execution_count": 10,
      "outputs": [
        {
          "output_type": "execute_result",
          "data": {
            "text/plain": [
              "dict_keys(['eigvals_q', 'eigvals_np', 'kpts', 'new_kp', 'new_labels', 'ef'])"
            ]
          },
          "metadata": {},
          "execution_count": 10
        }
      ]
    },
    {
      "cell_type": "code",
      "source": [
        "import numpy as np\n",
        "\n",
        "eigvals_q = (np.array(out['eigvals_q']).real).flatten()\n",
        "eigvals_np = (np.array(out['eigvals_np']).real).flatten()"
      ],
      "metadata": {
        "id": "mEQ1T6GwswL_"
      },
      "execution_count": 17,
      "outputs": []
    },
    {
      "cell_type": "code",
      "source": [
        "from sklearn.metrics import mean_absolute_error\n",
        "print(mean_absolute_error(eigvals_np,eigvals_q))"
      ],
      "metadata": {
        "colab": {
          "base_uri": "https://localhost:8080/"
        },
        "id": "CUR6oV1Atvcp",
        "outputId": "1056a650-5919-4322-f877-c8b2f2ef8489"
      },
      "execution_count": 20,
      "outputs": [
        {
          "output_type": "stream",
          "name": "stdout",
          "text": [
            "0.0029637342224714384\n"
          ]
        }
      ]
    },
    {
      "cell_type": "code",
      "source": [
        "out['new_kp']"
      ],
      "metadata": {
        "colab": {
          "base_uri": "https://localhost:8080/"
        },
        "id": "lBgWjCAfwMoK",
        "outputId": "0588be63-0c09-453e-a40b-fad974840bab"
      },
      "execution_count": 25,
      "outputs": [
        {
          "output_type": "execute_result",
          "data": {
            "text/plain": [
              "[0, 3, 5, 7, 10, 13, 15, 17, 20, 21, 22, 23]"
            ]
          },
          "metadata": {},
          "execution_count": 25
        }
      ]
    },
    {
      "cell_type": "code",
      "source": [
        "out['new_labels']"
      ],
      "metadata": {
        "colab": {
          "base_uri": "https://localhost:8080/"
        },
        "id": "660T4gJEwO-A",
        "outputId": "7431f4d0-d0f2-4192-fdf4-257aae9cdc58"
      },
      "execution_count": 26,
      "outputs": [
        {
          "output_type": "execute_result",
          "data": {
            "text/plain": [
              "['$\\\\Gamma$',\n",
              " '$X$',\n",
              " '$W$',\n",
              " '$K$',\n",
              " '$\\\\Gamma$',\n",
              " '$L$',\n",
              " '$U$',\n",
              " '$W$',\n",
              " '$L$',\n",
              " '$K$',\n",
              " '$U$',\n",
              " '$X$']"
            ]
          },
          "metadata": {},
          "execution_count": 26
        }
      ]
    },
    {
      "cell_type": "code",
      "source": [
        "out['ef']"
      ],
      "metadata": {
        "colab": {
          "base_uri": "https://localhost:8080/"
        },
        "id": "f4snNdGFwR1r",
        "outputId": "d9973a84-9c35-47ec-fc03-1accb4183bf8"
      },
      "execution_count": 27,
      "outputs": [
        {
          "output_type": "execute_result",
          "data": {
            "text/plain": [
              "0"
            ]
          },
          "metadata": {},
          "execution_count": 27
        }
      ]
    },
    {
      "cell_type": "code",
      "source": [
        "out['kpts']"
      ],
      "metadata": {
        "colab": {
          "base_uri": "https://localhost:8080/"
        },
        "id": "koGNa7mewIdx",
        "outputId": "b86923e0-af47-45aa-8e84-0307cdc9bc2b"
      },
      "execution_count": 24,
      "outputs": [
        {
          "output_type": "execute_result",
          "data": {
            "text/plain": [
              "[[0.0, 0.0, 0.0],\n",
              " [0.25, 1.7967564939297314e-17, 0.25],\n",
              " [0.5, 3.593512987859463e-17, 0.5],\n",
              " [0.5, 3.593512987859463e-17, 0.5],\n",
              " [0.5, 0.24999999999999997, 0.75],\n",
              " [0.5, 0.24999999999999997, 0.75],\n",
              " [0.375, 0.37499999999999994, 0.75],\n",
              " [0.375, 0.37499999999999994, 0.75],\n",
              " [0.1875, 0.18749999999999997, 0.375],\n",
              " [0.0, 0.0, 0.0],\n",
              " [0.0, 0.0, 0.0],\n",
              " [0.25, 0.25, 0.25],\n",
              " [0.5, 0.5, 0.5],\n",
              " [0.5, 0.5, 0.5],\n",
              " [0.6250000000000001, 0.25, 0.6250000000000001],\n",
              " [0.6250000000000001, 0.25, 0.6250000000000001],\n",
              " [0.5, 0.24999999999999997, 0.75],\n",
              " [0.5, 0.24999999999999997, 0.75],\n",
              " [0.5, 0.375, 0.625],\n",
              " [0.5, 0.5, 0.5],\n",
              " [0.5, 0.5, 0.5],\n",
              " [0.375, 0.37499999999999994, 0.75],\n",
              " [0.6250000000000001, 0.25, 0.6250000000000001],\n",
              " [0.5, 3.593512987859463e-17, 0.5]]"
            ]
          },
          "metadata": {},
          "execution_count": 24
        }
      ]
    },
    {
      "cell_type": "code",
      "source": [
        "eigvals_q\n"
      ],
      "metadata": {
        "colab": {
          "base_uri": "https://localhost:8080/"
        },
        "id": "H6oZFhLpuN95",
        "outputId": "72721f0e-9cdc-4f7d-9f66-f2cf95ad6723"
      },
      "execution_count": 21,
      "outputs": [
        {
          "output_type": "execute_result",
          "data": {
            "text/plain": [
              "array([-3.24066269, -3.16443735, 21.63721949, 21.64572101, 21.6848682 ,\n",
              "       21.69508497, 21.73149934, 21.75362106, -0.99044918, -0.91496008,\n",
              "       16.11340511, 16.1285841 , 16.16823014, 16.18714046, 16.87307868,\n",
              "       16.95509118,  4.88520351,  4.95714776,  6.16094672,  6.24118643,\n",
              "       13.2610694 , 13.27919225, 13.32299075, 13.35497151,  4.88520351,\n",
              "        4.95714776,  6.16094672,  6.24118643, 13.2610694 , 13.27919225,\n",
              "       13.32299075, 13.35497151,  6.81048262,  6.8546334 ,  6.88072178,\n",
              "        6.92519056,  7.80902871,  7.89950469,  8.72012799,  8.78517464,\n",
              "        6.81048262,  6.8546334 ,  6.88072178,  6.92519056,  7.80902871,\n",
              "        7.89950469,  8.72012799,  8.78517464,  5.86633622,  5.9368361 ,\n",
              "        6.33828584,  6.41701939,  7.27135868,  7.34574883, 14.4217756 ,\n",
              "       14.4953806 ,  5.86633622,  5.9368361 ,  6.33828584,  6.41701939,\n",
              "        7.27135868,  7.34574883, 14.4217756 , 14.4953806 , -0.75363526,\n",
              "       -0.67758079, 12.94532159, 13.00174039, 13.65328535, 13.68938748,\n",
              "       20.48928952, 20.59241185, -3.24066269, -3.16443735, 21.63721949,\n",
              "       21.64572101, 21.6848682 , 21.69508497, 21.73149934, 21.75362106,\n",
              "       -3.24066269, -3.16443735, 21.63721949, 21.64572101, 21.6848682 ,\n",
              "       21.69508497, 21.73149934, 21.75362106, -1.55972588, -1.4850968 ,\n",
              "       11.90849972, 11.94752306, 20.3766806 , 20.39884398, 20.42692844,\n",
              "       20.4504591 ,  3.24240907,  3.32376732,  3.4097934 ,  3.47871582,\n",
              "       19.00110321, 19.02431542, 19.03577229, 19.09198502,  3.24240907,\n",
              "        3.32376732,  3.4097934 ,  3.47871582, 19.00110321, 19.02431542,\n",
              "       19.03577229, 19.09198502,  5.85751852,  5.92911441,  6.33128806,\n",
              "        6.41044307,  7.28026336,  7.35529003, 14.38180951, 14.48892543,\n",
              "        5.85751852,  5.92911441,  6.33128806,  6.41044307,  7.28026336,\n",
              "        7.35529003, 14.38180951, 14.48892543,  6.81048262,  6.8546334 ,\n",
              "        6.88072178,  6.92519056,  7.80902871,  7.89950469,  8.72012799,\n",
              "        8.78517464,  6.81048262,  6.8546334 ,  6.88072178,  6.92519056,\n",
              "        7.80902871,  7.89950469,  8.72012799,  8.78517464,  4.32167006,\n",
              "        4.40127806,  4.48888216,  4.55776634, 13.81913803, 13.88491929,\n",
              "       14.82157729, 14.8686294 ,  3.24240907,  3.32376732,  3.4097934 ,\n",
              "        3.47871582, 19.00110321, 19.02431542, 19.03577229, 19.09198502,\n",
              "        3.24240907,  3.32376732,  3.4097934 ,  3.47871582, 19.00110321,\n",
              "       19.02431542, 19.03577229, 19.09198502,  5.86633622,  5.9368361 ,\n",
              "        6.33828584,  6.41701939,  7.27135868,  7.34574883, 14.4217756 ,\n",
              "       14.4953806 ,  5.85751852,  5.92911441,  6.33128806,  6.41044307,\n",
              "        7.28026336,  7.35529003, 14.38180951, 14.48892543,  4.88520351,\n",
              "        4.95714776,  6.16094672,  6.24118643, 13.2610694 , 13.27919225,\n",
              "       13.32299075, 13.35497151])"
            ]
          },
          "metadata": {},
          "execution_count": 21
        }
      ]
    },
    {
      "cell_type": "code",
      "source": [
        "eigvals_np\n"
      ],
      "metadata": {
        "colab": {
          "base_uri": "https://localhost:8080/"
        },
        "id": "I4TSo6kruWYN",
        "outputId": "869f203e-9b71-4274-e555-a9c9eb98c55d"
      },
      "execution_count": 23,
      "outputs": [
        {
          "output_type": "execute_result",
          "data": {
            "text/plain": [
              "array([-3.24066445, -3.16463202, 21.64459304, 21.66631242, 21.68275108,\n",
              "       21.7124318 , 21.73906807, 21.75494905, -0.99045319, -0.91496282,\n",
              "       16.11225158, 16.12899456, 16.16829145, 16.18771485, 16.87352861,\n",
              "       16.95579697,  4.88519509,  4.95713807,  6.16090983,  6.24112862,\n",
              "       13.26135091, 13.27946273, 13.33681169, 13.35498806,  4.88519509,\n",
              "        4.95713807,  6.16090983,  6.24112862, 13.26135091, 13.27946273,\n",
              "       13.33681169, 13.35498806,  6.81020172,  6.85347494,  6.88180512,\n",
              "        6.92537732,  7.8089345 ,  7.89957294,  8.72041664,  8.78519182,\n",
              "        6.81020172,  6.85347494,  6.88180512,  6.92537732,  7.8089345 ,\n",
              "        7.89957294,  8.72041664,  8.78519182,  5.86627843,  5.93674378,\n",
              "        6.33836942,  6.41702087,  7.27134612,  7.3456925 , 14.42184882,\n",
              "       14.49540139,  5.86627843,  5.93674378,  6.33836942,  6.41702087,\n",
              "        7.27134612,  7.3456925 , 14.42184882, 14.49540139, -0.75363696,\n",
              "       -0.67767805, 12.9452385 , 13.00179078, 13.65324355, 13.68917844,\n",
              "       20.49915937, 20.59246703, -3.24066445, -3.16463202, 21.64459304,\n",
              "       21.66631242, 21.68275108, 21.7124318 , 21.73906807, 21.75494905,\n",
              "       -3.24066445, -3.16463202, 21.64459304, 21.66631242, 21.68275108,\n",
              "       21.7124318 , 21.73906807, 21.75494905, -1.55972718, -1.48509936,\n",
              "       11.90846504, 11.94750396, 20.37702792, 20.40063936, 20.43069851,\n",
              "       20.46161875,  3.24240609,  3.32374547,  3.40973379,  3.47854733,\n",
              "       19.00412432, 19.03323902, 19.06320692, 19.09200606,  3.24240609,\n",
              "        3.32374547,  3.40973379,  3.47854733, 19.00412432, 19.03323902,\n",
              "       19.06320692, 19.09200606,  5.85748385,  5.92902556,  6.33121025,\n",
              "        6.40996324,  7.28007202,  7.35449633, 14.41528224, 14.48895877,\n",
              "        5.85748385,  5.92902556,  6.33121025,  6.40996324,  7.28007202,\n",
              "        7.35449633, 14.41528224, 14.48895877,  6.81020172,  6.85347494,\n",
              "        6.88180512,  6.92537732,  7.8089345 ,  7.89957294,  8.72041664,\n",
              "        8.78519182,  6.81020172,  6.85347494,  6.88180512,  6.92537732,\n",
              "        7.8089345 ,  7.89957294,  8.72041664,  8.78519182,  4.3216092 ,\n",
              "        4.40101761,  4.48910226,  4.55773887, 13.8192182 , 13.8849327 ,\n",
              "       14.83142021, 14.90515203,  3.24240609,  3.32374547,  3.40973379,\n",
              "        3.47854733, 19.00412432, 19.03323902, 19.06320692, 19.09200606,\n",
              "        3.24240609,  3.32374547,  3.40973379,  3.47854733, 19.00412432,\n",
              "       19.03323902, 19.06320692, 19.09200606,  5.86627843,  5.93674378,\n",
              "        6.33836942,  6.41702087,  7.27134612,  7.3456925 , 14.42184882,\n",
              "       14.49540139,  5.85748385,  5.92902556,  6.33121025,  6.40996324,\n",
              "        7.28007202,  7.35449633, 14.41528224, 14.48895877,  4.88519509,\n",
              "        4.95713807,  6.16090983,  6.24112862, 13.26135091, 13.27946273,\n",
              "       13.33681169, 13.35498806])"
            ]
          },
          "metadata": {},
          "execution_count": 23
        }
      ]
    },
    {
      "cell_type": "code",
      "source": [
        "!pip freeze"
      ],
      "metadata": {
        "id": "rU4hGlI6KtIa",
        "outputId": "31128849-8305-42cd-d8e9-1c9a2f99aa93",
        "colab": {
          "base_uri": "https://localhost:8080/"
        }
      },
      "execution_count": 28,
      "outputs": [
        {
          "output_type": "stream",
          "name": "stdout",
          "text": [
            "absl-py==1.4.0\n",
            "aeppl==0.0.33\n",
            "aesara==2.7.9\n",
            "aiohttp==3.8.3\n",
            "aiosignal==1.3.1\n",
            "alabaster==0.7.13\n",
            "albumentations==1.2.1\n",
            "altair==4.2.2\n",
            "appdirs==1.4.4\n",
            "arviz==0.12.1\n",
            "astor==0.8.1\n",
            "astropy==4.3.1\n",
            "astunparse==1.6.3\n",
            "async-timeout==4.0.2\n",
            "atari-py==0.2.9\n",
            "atomicwrites==1.4.1\n",
            "attrs==22.2.0\n",
            "audioread==3.0.0\n",
            "autograd==1.5\n",
            "Babel==2.11.0\n",
            "backcall==0.2.0\n",
            "beautifulsoup4==4.6.3\n",
            "bleach==6.0.0\n",
            "blis==0.7.9\n",
            "bokeh==2.3.3\n",
            "branca==0.6.0\n",
            "bs4==0.0.1\n",
            "CacheControl==0.12.11\n",
            "cachetools==5.3.0\n",
            "catalogue==2.0.8\n",
            "certifi==2022.12.7\n",
            "cffi==1.15.1\n",
            "cftime==1.6.2\n",
            "chardet==4.0.0\n",
            "charset-normalizer==2.1.1\n",
            "click==7.1.2\n",
            "clikit==0.6.2\n",
            "cloudpickle==2.2.1\n",
            "cmake==3.22.6\n",
            "cmdstanpy==1.1.0\n",
            "colorcet==3.0.1\n",
            "colorlover==0.3.0\n",
            "community==1.0.0b1\n",
            "confection==0.0.4\n",
            "cons==0.4.5\n",
            "contextlib2==0.5.5\n",
            "convertdate==2.4.0\n",
            "crashtest==0.3.1\n",
            "crcmod==1.7\n",
            "cryptography==39.0.1\n",
            "cufflinks==0.17.3\n",
            "cvxopt==1.3.0\n",
            "cvxpy==1.2.3\n",
            "cycler==0.11.0\n",
            "cymem==2.0.7\n",
            "Cython==0.29.33\n",
            "daft==0.0.4\n",
            "dask==2022.2.1\n",
            "datascience==0.17.5\n",
            "db-dtypes==1.0.5\n",
            "dbus-python==1.2.16\n",
            "debugpy==1.0.0\n",
            "decorator==4.4.2\n",
            "defusedxml==0.7.1\n",
            "descartes==1.1.0\n",
            "dill==0.3.6\n",
            "distributed==2022.2.1\n",
            "dlib==19.24.0\n",
            "dm-tree==0.1.8\n",
            "dnspython==2.3.0\n",
            "docutils==0.16\n",
            "dopamine-rl==1.0.5\n",
            "earthengine-api==0.1.340\n",
            "easydict==1.10\n",
            "ecos==2.0.12\n",
            "editdistance==0.5.3\n",
            "en-core-web-sm @ https://github.com/explosion/spacy-models/releases/download/en_core_web_sm-3.4.1/en_core_web_sm-3.4.1-py3-none-any.whl\n",
            "entrypoints==0.4\n",
            "ephem==4.1.4\n",
            "et-xmlfile==1.1.0\n",
            "etils==1.0.0\n",
            "etuples==0.3.8\n",
            "fa2==0.3.5\n",
            "fastai==2.7.10\n",
            "fastcore==1.5.28\n",
            "fastdownload==0.0.7\n",
            "fastdtw==0.3.4\n",
            "fastjsonschema==2.16.2\n",
            "fastprogress==1.0.3\n",
            "fastrlock==0.8.1\n",
            "feather-format==0.4.1\n",
            "filelock==3.9.0\n",
            "firebase-admin==5.3.0\n",
            "fix-yahoo-finance==0.0.22\n",
            "Flask==1.1.4\n",
            "flatbuffers==23.1.21\n",
            "folium==0.12.1.post1\n",
            "frozenlist==1.3.3\n",
            "fsspec==2023.1.0\n",
            "future==0.16.0\n",
            "gast==0.4.0\n",
            "GDAL==3.0.4\n",
            "gdown==4.4.0\n",
            "gensim==3.6.0\n",
            "geographiclib==1.52\n",
            "geopy==1.17.0\n",
            "gin-config==0.5.0\n",
            "glob2==0.7\n",
            "google==2.0.3\n",
            "google-api-core==2.11.0\n",
            "google-api-python-client==2.70.0\n",
            "google-auth==2.16.0\n",
            "google-auth-httplib2==0.1.0\n",
            "google-auth-oauthlib==0.4.6\n",
            "google-cloud-bigquery==3.4.2\n",
            "google-cloud-bigquery-storage==2.18.1\n",
            "google-cloud-core==2.3.2\n",
            "google-cloud-datastore==2.11.1\n",
            "google-cloud-firestore==2.7.3\n",
            "google-cloud-language==2.6.1\n",
            "google-cloud-storage==2.7.0\n",
            "google-cloud-translate==3.8.4\n",
            "google-colab @ file:///colabtools/dist/google-colab-1.0.0.tar.gz\n",
            "google-crc32c==1.5.0\n",
            "google-pasta==0.2.0\n",
            "google-resumable-media==2.4.1\n",
            "googleapis-common-protos==1.58.0\n",
            "googledrivedownloader==0.4\n",
            "graphviz==0.10.1\n",
            "greenlet==2.0.2\n",
            "grpcio==1.51.1\n",
            "grpcio-status==1.48.2\n",
            "gspread==3.4.2\n",
            "gspread-dataframe==3.0.8\n",
            "gym==0.25.2\n",
            "gym-notices==0.0.8\n",
            "h5py==3.1.0\n",
            "HeapDict==1.0.1\n",
            "hijri-converter==2.2.4\n",
            "holidays==0.19\n",
            "holoviews==1.14.9\n",
            "html5lib==1.0.1\n",
            "httpimport==0.5.18\n",
            "httplib2==0.17.4\n",
            "httpstan==4.6.1\n",
            "humanize==0.5.1\n",
            "hyperopt==0.1.2\n",
            "idna==2.10\n",
            "imageio==2.9.0\n",
            "imagesize==1.4.1\n",
            "imbalanced-learn==0.8.1\n",
            "imblearn==0.0\n",
            "imgaug==0.4.0\n",
            "importlib-metadata==6.0.0\n",
            "importlib-resources==5.10.2\n",
            "imutils==0.5.4\n",
            "inflect==2.1.0\n",
            "intel-openmp==2023.0.0\n",
            "intervaltree==2.1.0\n",
            "ipykernel==5.3.4\n",
            "ipython==7.9.0\n",
            "ipython-genutils==0.2.0\n",
            "ipython-sql==0.3.9\n",
            "ipywidgets==7.7.1\n",
            "itsdangerous==1.1.0\n",
            "jarvis-tools==2023.1.8\n",
            "jax==0.3.25\n",
            "jaxlib @ https://storage.googleapis.com/jax-releases/cuda11/jaxlib-0.3.25+cuda11.cudnn805-cp38-cp38-manylinux2014_x86_64.whl\n",
            "jieba==0.42.1\n",
            "Jinja2==2.11.3\n",
            "joblib==1.2.0\n",
            "jpeg4py==0.1.4\n",
            "jsonschema==4.3.3\n",
            "jupyter-client==6.1.12\n",
            "jupyter-console==6.1.0\n",
            "jupyter_core==5.2.0\n",
            "jupyterlab-widgets==3.0.5\n",
            "kaggle==1.5.12\n",
            "kapre==0.3.7\n",
            "keras==2.11.0\n",
            "keras-vis==0.4.1\n",
            "kiwisolver==1.4.4\n",
            "korean-lunar-calendar==0.3.1\n",
            "langcodes==3.3.0\n",
            "libclang==15.0.6.1\n",
            "librosa==0.8.1\n",
            "lightgbm==2.2.3\n",
            "llvmlite==0.39.1\n",
            "lmdb==0.99\n",
            "locket==1.0.0\n",
            "logical-unification==0.4.5\n",
            "LunarCalendar==0.0.9\n",
            "lxml==4.9.2\n",
            "Markdown==3.4.1\n",
            "MarkupSafe==2.0.1\n",
            "marshmallow==3.19.0\n",
            "matplotlib==3.2.2\n",
            "matplotlib-venn==0.11.7\n",
            "miniKanren==1.0.3\n",
            "missingno==0.5.1\n",
            "mistune==0.8.4\n",
            "mizani==0.7.3\n",
            "mkl==2019.0\n",
            "mlxtend==0.14.0\n",
            "more-itertools==9.0.0\n",
            "moviepy==0.2.3.5\n",
            "mpmath==1.2.1\n",
            "msgpack==1.0.4\n",
            "multidict==6.0.4\n",
            "multipledispatch==0.6.0\n",
            "multitasking==0.0.11\n",
            "murmurhash==1.0.9\n",
            "music21==5.5.0\n",
            "natsort==5.5.0\n",
            "nbconvert==5.6.1\n",
            "nbformat==5.7.3\n",
            "netCDF4==1.6.2\n",
            "networkx==3.0\n",
            "nibabel==3.0.2\n",
            "nltk==3.7\n",
            "notebook==5.7.16\n",
            "ntlm-auth==1.5.0\n",
            "numba==0.56.4\n",
            "numexpr==2.8.4\n",
            "numpy==1.21.6\n",
            "oauth2client==4.1.3\n",
            "oauthlib==3.2.2\n",
            "okgrade==0.4.3\n",
            "opencv-contrib-python==4.6.0.66\n",
            "opencv-python==4.6.0.66\n",
            "opencv-python-headless==4.7.0.68\n",
            "openpyxl==3.0.10\n",
            "opt-einsum==3.3.0\n",
            "osqp==0.6.2.post0\n",
            "packaging==23.0\n",
            "palettable==3.3.0\n",
            "pandas==1.3.5\n",
            "pandas-datareader==0.9.0\n",
            "pandas-gbq==0.17.9\n",
            "pandas-profiling==1.4.1\n",
            "pandocfilters==1.5.0\n",
            "panel==0.12.1\n",
            "param==1.12.3\n",
            "parso==0.8.3\n",
            "partd==1.3.0\n",
            "pastel==0.2.1\n",
            "pathlib==1.0.1\n",
            "pathy==0.10.1\n",
            "patsy==0.5.3\n",
            "pbr==5.11.1\n",
            "pep517==0.13.0\n",
            "pexpect==4.8.0\n",
            "pickleshare==0.7.5\n",
            "Pillow==7.1.2\n",
            "pip-tools==6.6.2\n",
            "platformdirs==3.0.0\n",
            "plotly==5.5.0\n",
            "plotnine==0.8.0\n",
            "pluggy==0.7.1\n",
            "ply==3.11\n",
            "pooch==1.6.0\n",
            "portpicker==1.3.9\n",
            "prefetch-generator==1.0.3\n",
            "preshed==3.0.8\n",
            "prettytable==3.6.0\n",
            "progressbar2==3.38.0\n",
            "prometheus-client==0.16.0\n",
            "promise==2.3\n",
            "prompt-toolkit==2.0.10\n",
            "prophet==1.1.2\n",
            "proto-plus==1.22.2\n",
            "protobuf==3.19.6\n",
            "psutil==5.4.8\n",
            "psycopg2==2.9.5\n",
            "ptyprocess==0.7.0\n",
            "py==1.11.0\n",
            "pyarrow==9.0.0\n",
            "pyasn1==0.4.8\n",
            "pyasn1-modules==0.2.8\n",
            "pycocotools==2.0.6\n",
            "pycparser==2.21\n",
            "pyct==0.5.0\n",
            "pydantic==1.10.4\n",
            "pydata-google-auth==1.7.0\n",
            "pydot==1.3.0\n",
            "pydot-ng==2.0.0\n",
            "pydotplus==2.0.2\n",
            "PyDrive==1.3.1\n",
            "pyemd==0.5.1\n",
            "pyerfa==2.0.0.1\n",
            "Pygments==2.6.1\n",
            "PyGObject==3.36.0\n",
            "pylev==1.4.0\n",
            "pymc==4.1.4\n",
            "PyMeeus==0.5.12\n",
            "pymongo==4.3.3\n",
            "pymystem3==0.2.0\n",
            "PyOpenGL==3.1.6\n",
            "pyparsing==3.0.9\n",
            "pyrsistent==0.19.3\n",
            "pysimdjson==3.2.0\n",
            "PySocks==1.7.1\n",
            "pystan==3.3.0\n",
            "pytest==3.6.4\n",
            "python-apt==2.0.1\n",
            "python-dateutil==2.8.2\n",
            "python-louvain==0.16\n",
            "python-slugify==8.0.0\n",
            "python-utils==3.5.0\n",
            "pytz==2022.7.1\n",
            "pyviz-comms==2.2.1\n",
            "PyWavelets==1.4.1\n",
            "PyYAML==6.0\n",
            "pyzmq==23.2.1\n",
            "qdldl==0.1.5.post3\n",
            "qiskit==0.41.0\n",
            "qiskit-aer==0.11.2\n",
            "qiskit-ibmq-provider==0.20.0\n",
            "qiskit-terra==0.23.1\n",
            "qudida==0.0.4\n",
            "regex==2022.6.2\n",
            "requests==2.25.1\n",
            "requests-ntlm==1.1.0\n",
            "requests-oauthlib==1.3.1\n",
            "requests-unixsocket==0.2.0\n",
            "resampy==0.4.2\n",
            "rpy2==3.5.5\n",
            "rsa==4.9\n",
            "rustworkx==0.12.1\n",
            "scikit-image==0.18.3\n",
            "scikit-learn==1.0.2\n",
            "scipy==1.7.3\n",
            "screen-resolution-extra==0.0.0\n",
            "scs==3.2.2\n",
            "seaborn==0.11.2\n",
            "Send2Trash==1.8.0\n",
            "shapely==2.0.1\n",
            "six==1.15.0\n",
            "sklearn-pandas==1.8.0\n",
            "smart-open==6.3.0\n",
            "snowballstemmer==2.2.0\n",
            "sortedcontainers==2.4.0\n",
            "soundfile==0.11.0\n",
            "spacy==3.4.4\n",
            "spacy-legacy==3.0.12\n",
            "spacy-loggers==1.0.4\n",
            "spglib==2.0.2\n",
            "Sphinx==3.5.4\n",
            "sphinxcontrib-applehelp==1.0.4\n",
            "sphinxcontrib-devhelp==1.0.2\n",
            "sphinxcontrib-htmlhelp==2.0.1\n",
            "sphinxcontrib-jsmath==1.0.1\n",
            "sphinxcontrib-qthelp==1.0.3\n",
            "sphinxcontrib-serializinghtml==1.1.5\n",
            "SQLAlchemy==1.4.46\n",
            "sqlparse==0.4.3\n",
            "srsly==2.4.5\n",
            "statsmodels==0.12.2\n",
            "stevedore==5.0.0\n",
            "symengine==0.9.2\n",
            "sympy==1.7.1\n",
            "tables==3.7.0\n",
            "tabulate==0.8.10\n",
            "tblib==1.7.0\n",
            "tenacity==8.2.0\n",
            "tensorboard==2.11.2\n",
            "tensorboard-data-server==0.6.1\n",
            "tensorboard-plugin-wit==1.8.1\n",
            "tensorflow==2.11.0\n",
            "tensorflow-datasets==4.8.2\n",
            "tensorflow-estimator==2.11.0\n",
            "tensorflow-gcs-config==2.11.0\n",
            "tensorflow-hub==0.12.0\n",
            "tensorflow-io-gcs-filesystem==0.30.0\n",
            "tensorflow-metadata==1.12.0\n",
            "tensorflow-probability==0.19.0\n",
            "termcolor==2.2.0\n",
            "terminado==0.13.3\n",
            "testpath==0.6.0\n",
            "text-unidecode==1.3\n",
            "textblob==0.15.3\n",
            "thinc==8.1.7\n",
            "threadpoolctl==3.1.0\n",
            "tifffile==2023.2.3\n",
            "toml==0.10.2\n",
            "tomli==2.0.1\n",
            "toolz==0.12.0\n",
            "torch @ https://download.pytorch.org/whl/cu116/torch-1.13.1%2Bcu116-cp38-cp38-linux_x86_64.whl\n",
            "torchaudio @ https://download.pytorch.org/whl/cu116/torchaudio-0.13.1%2Bcu116-cp38-cp38-linux_x86_64.whl\n",
            "torchsummary==1.5.1\n",
            "torchtext==0.14.1\n",
            "torchvision @ https://download.pytorch.org/whl/cu116/torchvision-0.14.1%2Bcu116-cp38-cp38-linux_x86_64.whl\n",
            "tornado==6.0.4\n",
            "tqdm==4.64.1\n",
            "traitlets==5.7.1\n",
            "tweepy==3.10.0\n",
            "typeguard==2.7.1\n",
            "typer==0.7.0\n",
            "typing_extensions==4.4.0\n",
            "tzlocal==1.5.1\n",
            "uritemplate==4.1.1\n",
            "urllib3==1.24.3\n",
            "vega-datasets==0.9.0\n",
            "wasabi==0.10.1\n",
            "wcwidth==0.2.6\n",
            "webargs==8.2.0\n",
            "webencodings==0.5.1\n",
            "websocket-client==1.3.3\n",
            "websockets==10.4\n",
            "Werkzeug==1.0.1\n",
            "widgetsnbextension==3.6.1\n",
            "wordcloud==1.8.2.2\n",
            "wrapt==1.14.1\n",
            "xarray==2022.12.0\n",
            "xarray-einstats==0.5.1\n",
            "xgboost==0.90\n",
            "xkit==0.0.0\n",
            "xlrd==1.2.0\n",
            "xlwt==1.3.0\n",
            "xmltodict==0.13.0\n",
            "yarl==1.8.2\n",
            "yellowbrick==1.5\n",
            "zict==2.2.0\n",
            "zipp==3.12.1\n"
          ]
        }
      ]
    },
    {
      "cell_type": "code",
      "source": [],
      "metadata": {
        "id": "byxF7MvBwbaP"
      },
      "execution_count": null,
      "outputs": []
    }
  ]
}