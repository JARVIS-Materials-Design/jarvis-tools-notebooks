{
  "nbformat": 4,
  "nbformat_minor": 0,
  "metadata": {
    "colab": {
      "provenance": [],
      "authorship_tag": "ABX9TyOXCuFRBOCNy+jiPN8vlo0a",
      "include_colab_link": true
    },
    "kernelspec": {
      "name": "python3",
      "display_name": "Python 3"
    },
    "language_info": {
      "name": "python"
    }
  },
  "cells": [
    {
      "cell_type": "markdown",
      "metadata": {
        "id": "view-in-github",
        "colab_type": "text"
      },
      "source": [
        "<a href=\"https://colab.research.google.com/github/knc6/jarvis-tools-notebooks/blob/master/jarvis-tools-notebooks/Timing_uMLFF.ipynb\" target=\"_parent\"><img src=\"https://colab.research.google.com/assets/colab-badge.svg\" alt=\"Open In Colab\"/></a>"
      ]
    },
    {
      "cell_type": "code",
      "execution_count": 1,
      "metadata": {
        "colab": {
          "base_uri": "https://localhost:8080/"
        },
        "id": "cRmamNoz30Kd",
        "outputId": "5aed1710-c614-4f15-f422-2412a8b77170"
      },
      "outputs": [
        {
          "output_type": "stream",
          "name": "stdout",
          "text": [
            "⏬ Downloading https://github.com/conda-forge/miniforge/releases/download/23.11.0-0/Mambaforge-23.11.0-0-Linux-x86_64.sh...\n",
            "📦 Installing...\n",
            "📌 Adjusting configuration...\n",
            "🩹 Patching environment...\n",
            "⏲ Done in 0:00:13\n",
            "🔁 Restarting kernel...\n"
          ]
        }
      ],
      "source": [
        "!pip install -q condacolab\n",
        "import condacolab\n",
        "condacolab.install()"
      ]
    },
    {
      "cell_type": "code",
      "source": [
        "%%time\n",
        "!conda install dgl=2.1.0 chgnet matgl pytorch torchvision torchaudio pytorch-cuda -c pytorch -c nvidia -y --quiet"
      ],
      "metadata": {
        "colab": {
          "base_uri": "https://localhost:8080/"
        },
        "id": "c6TVYU4h34ML",
        "outputId": "adf1ffc7-7f2e-4211-bf19-10da1e129be2"
      },
      "execution_count": 1,
      "outputs": [
        {
          "output_type": "stream",
          "name": "stdout",
          "text": [
            "Channels:\n",
            " - pytorch\n",
            " - nvidia\n",
            " - conda-forge\n",
            "Platform: linux-64\n",
            "Collecting package metadata (repodata.json): ...working... done\n",
            "Solving environment: ...working... done\n",
            "\n",
            "## Package Plan ##\n",
            "\n",
            "  environment location: /usr/local\n",
            "\n",
            "  added / updated specs:\n",
            "    - chgnet\n",
            "    - dgl=2.1.0\n",
            "    - matgl\n",
            "    - pytorch\n",
            "    - pytorch-cuda\n",
            "    - torchaudio\n",
            "    - torchvision\n",
            "\n",
            "\n",
            "The following packages will be downloaded:\n",
            "\n",
            "    package                    |            build\n",
            "    ---------------------------|-----------------\n",
            "    _openmp_mutex-4.5          |       2_kmp_llvm           6 KB  conda-forge\n",
            "    absl-py-2.1.0              |     pyhd8ed1ab_0         105 KB  conda-forge\n",
            "    annotated-types-0.7.0      |     pyhd8ed1ab_0          18 KB  conda-forge\n",
            "    ase-3.23.0                 |     pyhd8ed1ab_0         1.8 MB  conda-forge\n",
            "    astunparse-1.6.3           |     pyhd8ed1ab_2          18 KB  conda-forge\n",
            "    blinker-1.9.0              |     pyhff2d567_0          14 KB  conda-forge\n",
            "    brotli-1.1.0               |       hd590300_1          19 KB  conda-forge\n",
            "    brotli-bin-1.1.0           |       hd590300_1          19 KB  conda-forge\n",
            "    c-ares-1.34.3              |       hb9d3cd8_1         200 KB  conda-forge\n",
            "    ca-certificates-2024.8.30  |       hbcca054_0         155 KB  conda-forge\n",
            "    cached-property-1.5.2      |       hd8ed1ab_1           4 KB  conda-forge\n",
            "    cached_property-1.5.2      |     pyha770c72_1          11 KB  conda-forge\n",
            "    certifi-2024.8.30          |     pyhd8ed1ab_0         160 KB  conda-forge\n",
            "    chgnet-0.3.8               |  py310hc51659f_0         8.5 MB  conda-forge\n",
            "    click-8.1.7                |unix_pyh707e725_0          82 KB  conda-forge\n",
            "    contourpy-1.3.1            |  py310h3788b33_0         255 KB  conda-forge\n",
            "    cuda-cudart-12.4.127       |                0         198 KB  nvidia\n",
            "    cuda-cupti-12.4.127        |                0        16.4 MB  nvidia\n",
            "    cuda-libraries-12.4.1      |                0           2 KB  nvidia\n",
            "    cuda-nvrtc-12.4.127        |                0        21.0 MB  nvidia\n",
            "    cuda-nvtx-12.4.127         |                0          58 KB  nvidia\n",
            "    cuda-opencl-12.6.77        |                0          25 KB  nvidia\n",
            "    cuda-runtime-12.4.1        |                0           2 KB  nvidia\n",
            "    cuda-version-12.6          |                3          16 KB  nvidia\n",
            "    cycler-0.12.1              |     pyhd8ed1ab_0          13 KB  conda-forge\n",
            "    cython-3.0.11              |  py310h5b1441d_3         3.1 MB  conda-forge\n",
            "    dgl-2.1.0                  |  py310h039f8d5_2         4.0 MB  conda-forge\n",
            "    ffmpeg-4.3                 |       hf484d3e_0         9.9 MB  pytorch\n",
            "    filelock-3.16.1            |     pyhd8ed1ab_0          17 KB  conda-forge\n",
            "    flask-3.1.0                |     pyhff2d567_0          80 KB  conda-forge\n",
            "    flatbuffers-24.3.25        |       h59595ed_0         1.4 MB  conda-forge\n",
            "    fonttools-4.55.0           |  py310h89163eb_0         2.2 MB  conda-forge\n",
            "    freetype-2.12.1            |       h267a509_2         620 KB  conda-forge\n",
            "    fsspec-2024.10.0           |     pyhff2d567_0         132 KB  conda-forge\n",
            "    future-1.0.0               |     pyhd8ed1ab_0         356 KB  conda-forge\n",
            "    gast-0.5.5                 |     pyhd8ed1ab_0          23 KB  conda-forge\n",
            "    giflib-5.2.2               |       hd590300_0          75 KB  conda-forge\n",
            "    gmp-6.3.0                  |       hac33072_2         449 KB  conda-forge\n",
            "    gmpy2-2.1.5                |  py310he8512ff_2         199 KB  conda-forge\n",
            "    gnutls-3.6.13              |       h85f3911_1         2.0 MB  conda-forge\n",
            "    google-pasta-0.2.0         |     pyhd8ed1ab_1          48 KB  conda-forge\n",
            "    grpcio-1.62.2              |  py310h1b8f574_0         980 KB  conda-forge\n",
            "    h5py-3.12.1                |nompi_py310h60e0fe6_102         1.2 MB  conda-forge\n",
            "    hdf5-1.14.3                |nompi_hdf9ad27_105         3.7 MB  conda-forge\n",
            "    importlib-metadata-8.5.0   |     pyha770c72_0          28 KB  conda-forge\n",
            "    importlib-resources-6.4.5  |     pyhd8ed1ab_0           9 KB  conda-forge\n",
            "    importlib_resources-6.4.5  |     pyhd8ed1ab_0          32 KB  conda-forge\n",
            "    itsdangerous-2.2.0         |     pyhd8ed1ab_0          19 KB  conda-forge\n",
            "    jinja2-3.1.4               |     pyhd8ed1ab_0         109 KB  conda-forge\n",
            "    joblib-1.4.2               |     pyhd8ed1ab_0         215 KB  conda-forge\n",
            "    keras-3.7.0                |     pyhd8ed1ab_0         932 KB  conda-forge\n",
            "    kiwisolver-1.4.7           |  py310h3788b33_0          70 KB  conda-forge\n",
            "    lame-3.100                 |    h166bdaf_1003         496 KB  conda-forge\n",
            "    latexcodec-2.0.1           |     pyh9f0ad1d_0          18 KB  conda-forge\n",
            "    lcms2-2.16                 |       hb7c19ff_0         239 KB  conda-forge\n",
            "    lerc-4.0.0                 |       h27087fc_0         275 KB  conda-forge\n",
            "    libabseil-20240116.2       | cxx17_he02047a_1         1.2 MB  conda-forge\n",
            "    libaec-1.1.3               |       h59595ed_0          35 KB  conda-forge\n",
            "    libblas-3.9.0              |25_linux64_openblas          15 KB  conda-forge\n",
            "    libbrotlicommon-1.1.0      |       hd590300_1          68 KB  conda-forge\n",
            "    libbrotlidec-1.1.0         |       hd590300_1          32 KB  conda-forge\n",
            "    libbrotlienc-1.1.0         |       hd590300_1         276 KB  conda-forge\n",
            "    libcblas-3.9.0             |25_linux64_openblas          15 KB  conda-forge\n",
            "    libcublas-12.4.5.8         |                0       309.2 MB  nvidia\n",
            "    libcufft-11.2.1.3          |                0       190.5 MB  nvidia\n",
            "    libcufile-1.11.1.6         |                0         899 KB  nvidia\n",
            "    libcurand-10.3.7.77        |                0        39.7 MB  nvidia\n",
            "    libcurl-8.8.0              |       hca28451_0         396 KB  conda-forge\n",
            "    libcusolver-11.6.1.9       |                0       114.0 MB  nvidia\n",
            "    libcusparse-12.3.1.170     |                0       179.6 MB  nvidia\n",
            "    libdeflate-1.20            |       hd590300_0          70 KB  conda-forge\n",
            "    libgcc-14.2.0              |       h77fa898_1         829 KB  conda-forge\n",
            "    libgcc-ng-14.2.0           |       h69a702a_1          53 KB  conda-forge\n",
            "    libgfortran-14.2.0         |       h69a702a_1          53 KB  conda-forge\n",
            "    libgfortran-ng-14.2.0      |       h69a702a_1          53 KB  conda-forge\n",
            "    libgfortran5-14.2.0        |       hd5240d6_1         1.4 MB  conda-forge\n",
            "    libgomp-14.2.0             |       h77fa898_1         450 KB  conda-forge\n",
            "    libgrpc-1.62.2             |       h15f2491_0         7.0 MB  conda-forge\n",
            "    libhwloc-2.9.3             |default_h554bfaf_1009         2.5 MB  conda-forge\n",
            "    libjpeg-turbo-3.0.0        |       hd590300_1         604 KB  conda-forge\n",
            "    liblapack-3.9.0            |25_linux64_openblas          15 KB  conda-forge\n",
            "    liblapacke-3.9.0           |25_linux64_openblas          15 KB  conda-forge\n",
            "    libnpp-12.2.5.30           |                0       142.8 MB  nvidia\n",
            "    libnvfatbin-12.6.77        |                0         783 KB  nvidia\n",
            "    libnvjitlink-12.4.127      |                0        18.2 MB  nvidia\n",
            "    libnvjpeg-12.3.1.117       |                0         3.0 MB  nvidia\n",
            "    libopenblas-0.3.28         |pthreads_h94d23a6_1         5.3 MB  conda-forge\n",
            "    libpng-1.6.43              |       h2797004_0         281 KB  conda-forge\n",
            "    libprotobuf-4.25.3         |       h08a7969_0         2.7 MB  conda-forge\n",
            "    libre2-11-2023.09.01       |       h5a48ba9_2         227 KB  conda-forge\n",
            "    libsqlite-3.46.0           |       hde9e2c9_0         845 KB  conda-forge\n",
            "    libstdcxx-14.2.0           |       hc0a3c3a_1         3.7 MB  conda-forge\n",
            "    libtiff-4.6.0              |       h1dd3fc0_3         276 KB  conda-forge\n",
            "    libtorch-2.3.1             |cpu_mkl_h0bb0d08_100        47.5 MB  conda-forge\n",
            "    liburing-2.6               |       h297d8ca_0         105 KB  conda-forge\n",
            "    libuv-1.49.2               |       hb9d3cd8_0         864 KB  conda-forge\n",
            "    libwebp-base-1.4.0         |       hd590300_0         429 KB  conda-forge\n",
            "    libxcb-1.15                |       h0b41bf4_0         375 KB  conda-forge\n",
            "    lightning-2.4.0            |     pyhd8ed1ab_0         435 KB  conda-forge\n",
            "    lightning-utilities-0.11.9 |     pyhff2d567_0          28 KB  conda-forge\n",
            "    llvm-openmp-19.1.4         |       h024ca30_0         3.0 MB  conda-forge\n",
            "    markdown-3.6               |     pyhd8ed1ab_0          76 KB  conda-forge\n",
            "    markdown-it-py-3.0.0       |     pyhd8ed1ab_0          63 KB  conda-forge\n",
            "    markupsafe-3.0.2           |  py310h89163eb_0          22 KB  conda-forge\n",
            "    matgl-1.1.3                |     pyhd8ed1ab_0         195 KB  conda-forge\n",
            "    matplotlib-base-3.9.2      |  py310h68603db_2         6.7 MB  conda-forge\n",
            "    mdurl-0.1.2                |     pyhd8ed1ab_0          14 KB  conda-forge\n",
            "    metis-5.1.1                |       h59595ed_2         3.7 MB  conda-forge\n",
            "    mkl-2023.2.0               |   h84fe81f_50496       156.8 MB  conda-forge\n",
            "    ml_dtypes-0.3.2            |  py310hcc13569_0         160 KB  conda-forge\n",
            "    monty-2024.10.21           |     pyhd8ed1ab_0          44 KB  conda-forge\n",
            "    mpc-1.3.1                  |       h24ddda3_1         114 KB  conda-forge\n",
            "    mpfr-4.2.1                 |       h90cbb55_3         620 KB  conda-forge\n",
            "    mpmath-1.3.0               |     pyhd8ed1ab_0         428 KB  conda-forge\n",
            "    munkres-1.1.4              |     pyh9f0ad1d_0          12 KB  conda-forge\n",
            "    namex-0.0.8                |     pyhd8ed1ab_0          11 KB  conda-forge\n",
            "    nettle-3.6                 |       he412f7d_0         6.5 MB  conda-forge\n",
            "    networkx-3.4.2             |     pyh267e887_2         1.2 MB  conda-forge\n",
            "    numpy-1.26.4               |  py310hb13e2d6_0         6.7 MB  conda-forge\n",
            "    nvidia-ml-7.352.0          |             py_0          19 KB  conda-forge\n",
            "    openh264-2.1.1             |       h780b84a_0         1.5 MB  conda-forge\n",
            "    openjpeg-2.5.2             |       h488ebb8_0         334 KB  conda-forge\n",
            "    openssl-3.4.0              |       hb9d3cd8_0         2.8 MB  conda-forge\n",
            "    opt_einsum-3.4.0           |     pyhd8ed1ab_0          61 KB  conda-forge\n",
            "    optree-0.13.1              |  py310h3788b33_1         328 KB  conda-forge\n",
            "    palettable-3.3.3           |     pyhd8ed1ab_0          79 KB  conda-forge\n",
            "    pandas-2.2.3               |  py310h5eaa309_1        12.4 MB  conda-forge\n",
            "    pillow-10.3.0              |  py310hf73ecf8_0        39.8 MB  conda-forge\n",
            "    plotly-5.24.1              |     pyhd8ed1ab_0         6.7 MB  conda-forge\n",
            "    protobuf-4.25.3            |  py310h0e2eeba_1         324 KB  conda-forge\n",
            "    psutil-6.1.0               |  py310ha75aee5_0         360 KB  conda-forge\n",
            "    pthread-stubs-0.4          |    hb9d3cd8_1002           8 KB  conda-forge\n",
            "    pybtex-0.24.0              |     pyhd8ed1ab_2          71 KB  conda-forge\n",
            "    pydantic-2.10.2            |     pyh3cfb1c2_0         309 KB  conda-forge\n",
            "    pydantic-core-2.27.1       |  py310h505e2c1_0         1.6 MB  conda-forge\n",
            "    pygments-2.18.0            |     pyhd8ed1ab_0         859 KB  conda-forge\n",
            "    pymatgen-2024.5.31         |  py310h8a78493_0         3.9 MB  conda-forge\n",
            "    pyparsing-3.2.0            |     pyhd8ed1ab_1          90 KB  conda-forge\n",
            "    python-dateutil-2.9.0.post0|     pyhff2d567_0         217 KB  conda-forge\n",
            "    python-flatbuffers-24.3.25 |     pyh59ac667_0          34 KB  conda-forge\n",
            "    python-tzdata-2024.2       |     pyhd8ed1ab_0         139 KB  conda-forge\n",
            "    pytorch-2.3.1              |cpu_mkl_py310h75865b9_100        28.9 MB  conda-forge\n",
            "    pytorch-cuda-12.4          |       hc786d27_7           7 KB  pytorch\n",
            "    pytorch-lightning-2.4.0    |     pyhd8ed1ab_0         434 KB  conda-forge\n",
            "    pytorch-mutex-1.0          |              cpu           3 KB  pytorch\n",
            "    pytz-2024.1                |     pyhd8ed1ab_0         184 KB  conda-forge\n",
            "    pyyaml-6.0.2               |  py310ha75aee5_1         178 KB  conda-forge\n",
            "    qhull-2020.2               |       h434a139_5         540 KB  conda-forge\n",
            "    re2-2023.09.01             |       h7f4b329_2          26 KB  conda-forge\n",
            "    rich-13.9.4                |     pyhd8ed1ab_0         181 KB  conda-forge\n",
            "    scipy-1.14.1               |  py310hfcf56fc_1        16.1 MB  conda-forge\n",
            "    six-1.16.0                 |     pyh6c4a22f_0          14 KB  conda-forge\n",
            "    sleef-3.7                  |       h1b44611_2         1.8 MB  conda-forge\n",
            "    snappy-1.2.1               |       ha2e4443_0          41 KB  conda-forge\n",
            "    spglib-2.5.0               |  py310h39fee3d_2         637 KB  conda-forge\n",
            "    sympy-1.13.3               | pypyh2585a3b_103         4.4 MB  conda-forge\n",
            "    tabulate-0.9.0             |     pyhd8ed1ab_1          35 KB  conda-forge\n",
            "    tbb-2021.11.0              |       h00ab1b0_1         191 KB  conda-forge\n",
            "    tenacity-9.0.0             |     pyhd8ed1ab_0          24 KB  conda-forge\n",
            "    tensorboard-2.16.2         |     pyhd8ed1ab_0         4.9 MB  conda-forge\n",
            "    tensorboard-data-server-0.7.0|  py310h6c63255_2         3.4 MB  conda-forge\n",
            "    tensorflow-2.16.1          |cpu_py310h49b650b_0          41 KB  conda-forge\n",
            "    tensorflow-base-2.16.1     |cpu_py310h224022f_0       147.3 MB  conda-forge\n",
            "    tensorflow-estimator-2.16.1|cpu_py310hc6dcfef_0         540 KB  conda-forge\n",
            "    termcolor-2.5.0            |     pyhd8ed1ab_0          12 KB  conda-forge\n",
            "    torchaudio-2.3.1           |        py310_cpu         5.0 MB  pytorch\n",
            "    torchdata-0.7.1            |            py310         2.4 MB  pytorch\n",
            "    torchmetrics-1.5.2         |     pyhe5570ce_0         352 KB  conda-forge\n",
            "    torchvision-0.18.1         |        py310_cpu         6.8 MB  pytorch\n",
            "    typing-extensions-4.12.2   |       hd8ed1ab_0          10 KB  conda-forge\n",
            "    typing_extensions-4.12.2   |     pyha770c72_0          39 KB  conda-forge\n",
            "    uncertainties-3.2.2        |     pyhd8ed1ab_1          54 KB  conda-forge\n",
            "    unicodedata2-15.1.0        |  py310ha75aee5_1         359 KB  conda-forge\n",
            "    werkzeug-3.1.3             |     pyhff2d567_0         237 KB  conda-forge\n",
            "    wrapt-1.17.0               |  py310ha75aee5_0          55 KB  conda-forge\n",
            "    xorg-libxau-1.0.11         |       hb9d3cd8_1          14 KB  conda-forge\n",
            "    xorg-libxdmcp-1.1.5        |       hb9d3cd8_0          19 KB  conda-forge\n",
            "    yaml-0.2.5                 |       h7f98852_2          87 KB  conda-forge\n",
            "    zipp-3.21.0                |     pyhd8ed1ab_1          21 KB  conda-forge\n",
            "    zlib-1.2.13                |       hd590300_5          91 KB  conda-forge\n",
            "    zstandard-0.23.0           |  py310ha39cb0e_1         399 KB  conda-forge\n",
            "    zstd-1.5.6                 |       ha6fb4c9_0         542 KB  conda-forge\n",
            "    ------------------------------------------------------------\n",
            "                                           Total:        1.60 GB\n",
            "\n",
            "The following NEW packages will be INSTALLED:\n",
            "\n",
            "  absl-py            conda-forge/noarch::absl-py-2.1.0-pyhd8ed1ab_0 \n",
            "  annotated-types    conda-forge/noarch::annotated-types-0.7.0-pyhd8ed1ab_0 \n",
            "  ase                conda-forge/noarch::ase-3.23.0-pyhd8ed1ab_0 \n",
            "  astunparse         conda-forge/noarch::astunparse-1.6.3-pyhd8ed1ab_2 \n",
            "  blinker            conda-forge/noarch::blinker-1.9.0-pyhff2d567_0 \n",
            "  brotli             conda-forge/linux-64::brotli-1.1.0-hd590300_1 \n",
            "  brotli-bin         conda-forge/linux-64::brotli-bin-1.1.0-hd590300_1 \n",
            "  cached-property    conda-forge/noarch::cached-property-1.5.2-hd8ed1ab_1 \n",
            "  cached_property    conda-forge/noarch::cached_property-1.5.2-pyha770c72_1 \n",
            "  chgnet             conda-forge/linux-64::chgnet-0.3.8-py310hc51659f_0 \n",
            "  click              conda-forge/noarch::click-8.1.7-unix_pyh707e725_0 \n",
            "  contourpy          conda-forge/linux-64::contourpy-1.3.1-py310h3788b33_0 \n",
            "  cuda-cudart        nvidia/linux-64::cuda-cudart-12.4.127-0 \n",
            "  cuda-cupti         nvidia/linux-64::cuda-cupti-12.4.127-0 \n",
            "  cuda-libraries     nvidia/linux-64::cuda-libraries-12.4.1-0 \n",
            "  cuda-nvrtc         nvidia/linux-64::cuda-nvrtc-12.4.127-0 \n",
            "  cuda-nvtx          nvidia/linux-64::cuda-nvtx-12.4.127-0 \n",
            "  cuda-opencl        nvidia/linux-64::cuda-opencl-12.6.77-0 \n",
            "  cuda-runtime       nvidia/linux-64::cuda-runtime-12.4.1-0 \n",
            "  cuda-version       nvidia/noarch::cuda-version-12.6-3 \n",
            "  cycler             conda-forge/noarch::cycler-0.12.1-pyhd8ed1ab_0 \n",
            "  cython             conda-forge/linux-64::cython-3.0.11-py310h5b1441d_3 \n",
            "  dgl                conda-forge/linux-64::dgl-2.1.0-py310h039f8d5_2 \n",
            "  ffmpeg             pytorch/linux-64::ffmpeg-4.3-hf484d3e_0 \n",
            "  filelock           conda-forge/noarch::filelock-3.16.1-pyhd8ed1ab_0 \n",
            "  flask              conda-forge/noarch::flask-3.1.0-pyhff2d567_0 \n",
            "  flatbuffers        conda-forge/linux-64::flatbuffers-24.3.25-h59595ed_0 \n",
            "  fonttools          conda-forge/linux-64::fonttools-4.55.0-py310h89163eb_0 \n",
            "  freetype           conda-forge/linux-64::freetype-2.12.1-h267a509_2 \n",
            "  fsspec             conda-forge/noarch::fsspec-2024.10.0-pyhff2d567_0 \n",
            "  future             conda-forge/noarch::future-1.0.0-pyhd8ed1ab_0 \n",
            "  gast               conda-forge/noarch::gast-0.5.5-pyhd8ed1ab_0 \n",
            "  giflib             conda-forge/linux-64::giflib-5.2.2-hd590300_0 \n",
            "  gmp                conda-forge/linux-64::gmp-6.3.0-hac33072_2 \n",
            "  gmpy2              conda-forge/linux-64::gmpy2-2.1.5-py310he8512ff_2 \n",
            "  gnutls             conda-forge/linux-64::gnutls-3.6.13-h85f3911_1 \n",
            "  google-pasta       conda-forge/noarch::google-pasta-0.2.0-pyhd8ed1ab_1 \n",
            "  grpcio             conda-forge/linux-64::grpcio-1.62.2-py310h1b8f574_0 \n",
            "  h5py               conda-forge/linux-64::h5py-3.12.1-nompi_py310h60e0fe6_102 \n",
            "  hdf5               conda-forge/linux-64::hdf5-1.14.3-nompi_hdf9ad27_105 \n",
            "  importlib-metadata conda-forge/noarch::importlib-metadata-8.5.0-pyha770c72_0 \n",
            "  importlib-resourc~ conda-forge/noarch::importlib-resources-6.4.5-pyhd8ed1ab_0 \n",
            "  importlib_resourc~ conda-forge/noarch::importlib_resources-6.4.5-pyhd8ed1ab_0 \n",
            "  itsdangerous       conda-forge/noarch::itsdangerous-2.2.0-pyhd8ed1ab_0 \n",
            "  jinja2             conda-forge/noarch::jinja2-3.1.4-pyhd8ed1ab_0 \n",
            "  joblib             conda-forge/noarch::joblib-1.4.2-pyhd8ed1ab_0 \n",
            "  keras              conda-forge/noarch::keras-3.7.0-pyhd8ed1ab_0 \n",
            "  kiwisolver         conda-forge/linux-64::kiwisolver-1.4.7-py310h3788b33_0 \n",
            "  lame               conda-forge/linux-64::lame-3.100-h166bdaf_1003 \n",
            "  latexcodec         conda-forge/noarch::latexcodec-2.0.1-pyh9f0ad1d_0 \n",
            "  lcms2              conda-forge/linux-64::lcms2-2.16-hb7c19ff_0 \n",
            "  lerc               conda-forge/linux-64::lerc-4.0.0-h27087fc_0 \n",
            "  libabseil          conda-forge/linux-64::libabseil-20240116.2-cxx17_he02047a_1 \n",
            "  libaec             conda-forge/linux-64::libaec-1.1.3-h59595ed_0 \n",
            "  libblas            conda-forge/linux-64::libblas-3.9.0-25_linux64_openblas \n",
            "  libbrotlicommon    conda-forge/linux-64::libbrotlicommon-1.1.0-hd590300_1 \n",
            "  libbrotlidec       conda-forge/linux-64::libbrotlidec-1.1.0-hd590300_1 \n",
            "  libbrotlienc       conda-forge/linux-64::libbrotlienc-1.1.0-hd590300_1 \n",
            "  libcblas           conda-forge/linux-64::libcblas-3.9.0-25_linux64_openblas \n",
            "  libcublas          nvidia/linux-64::libcublas-12.4.5.8-0 \n",
            "  libcufft           nvidia/linux-64::libcufft-11.2.1.3-0 \n",
            "  libcufile          nvidia/linux-64::libcufile-1.11.1.6-0 \n",
            "  libcurand          nvidia/linux-64::libcurand-10.3.7.77-0 \n",
            "  libcusolver        nvidia/linux-64::libcusolver-11.6.1.9-0 \n",
            "  libcusparse        nvidia/linux-64::libcusparse-12.3.1.170-0 \n",
            "  libdeflate         conda-forge/linux-64::libdeflate-1.20-hd590300_0 \n",
            "  libgcc             conda-forge/linux-64::libgcc-14.2.0-h77fa898_1 \n",
            "  libgfortran        conda-forge/linux-64::libgfortran-14.2.0-h69a702a_1 \n",
            "  libgfortran-ng     conda-forge/linux-64::libgfortran-ng-14.2.0-h69a702a_1 \n",
            "  libgfortran5       conda-forge/linux-64::libgfortran5-14.2.0-hd5240d6_1 \n",
            "  libgrpc            conda-forge/linux-64::libgrpc-1.62.2-h15f2491_0 \n",
            "  libhwloc           conda-forge/linux-64::libhwloc-2.9.3-default_h554bfaf_1009 \n",
            "  libjpeg-turbo      conda-forge/linux-64::libjpeg-turbo-3.0.0-hd590300_1 \n",
            "  liblapack          conda-forge/linux-64::liblapack-3.9.0-25_linux64_openblas \n",
            "  liblapacke         conda-forge/linux-64::liblapacke-3.9.0-25_linux64_openblas \n",
            "  libnpp             nvidia/linux-64::libnpp-12.2.5.30-0 \n",
            "  libnvfatbin        nvidia/linux-64::libnvfatbin-12.6.77-0 \n",
            "  libnvjitlink       nvidia/linux-64::libnvjitlink-12.4.127-0 \n",
            "  libnvjpeg          nvidia/linux-64::libnvjpeg-12.3.1.117-0 \n",
            "  libopenblas        conda-forge/linux-64::libopenblas-0.3.28-pthreads_h94d23a6_1 \n",
            "  libpng             conda-forge/linux-64::libpng-1.6.43-h2797004_0 \n",
            "  libprotobuf        conda-forge/linux-64::libprotobuf-4.25.3-h08a7969_0 \n",
            "  libre2-11          conda-forge/linux-64::libre2-11-2023.09.01-h5a48ba9_2 \n",
            "  libstdcxx          conda-forge/linux-64::libstdcxx-14.2.0-hc0a3c3a_1 \n",
            "  libtiff            conda-forge/linux-64::libtiff-4.6.0-h1dd3fc0_3 \n",
            "  libtorch           conda-forge/linux-64::libtorch-2.3.1-cpu_mkl_h0bb0d08_100 \n",
            "  liburing           conda-forge/linux-64::liburing-2.6-h297d8ca_0 \n",
            "  libuv              conda-forge/linux-64::libuv-1.49.2-hb9d3cd8_0 \n",
            "  libwebp-base       conda-forge/linux-64::libwebp-base-1.4.0-hd590300_0 \n",
            "  libxcb             conda-forge/linux-64::libxcb-1.15-h0b41bf4_0 \n",
            "  lightning          conda-forge/noarch::lightning-2.4.0-pyhd8ed1ab_0 \n",
            "  lightning-utiliti~ conda-forge/noarch::lightning-utilities-0.11.9-pyhff2d567_0 \n",
            "  llvm-openmp        conda-forge/linux-64::llvm-openmp-19.1.4-h024ca30_0 \n",
            "  markdown           conda-forge/noarch::markdown-3.6-pyhd8ed1ab_0 \n",
            "  markdown-it-py     conda-forge/noarch::markdown-it-py-3.0.0-pyhd8ed1ab_0 \n",
            "  markupsafe         conda-forge/linux-64::markupsafe-3.0.2-py310h89163eb_0 \n",
            "  matgl              conda-forge/noarch::matgl-1.1.3-pyhd8ed1ab_0 \n",
            "  matplotlib-base    conda-forge/linux-64::matplotlib-base-3.9.2-py310h68603db_2 \n",
            "  mdurl              conda-forge/noarch::mdurl-0.1.2-pyhd8ed1ab_0 \n",
            "  metis              conda-forge/linux-64::metis-5.1.1-h59595ed_2 \n",
            "  mkl                conda-forge/linux-64::mkl-2023.2.0-h84fe81f_50496 \n",
            "  ml_dtypes          conda-forge/linux-64::ml_dtypes-0.3.2-py310hcc13569_0 \n",
            "  monty              conda-forge/noarch::monty-2024.10.21-pyhd8ed1ab_0 \n",
            "  mpc                conda-forge/linux-64::mpc-1.3.1-h24ddda3_1 \n",
            "  mpfr               conda-forge/linux-64::mpfr-4.2.1-h90cbb55_3 \n",
            "  mpmath             conda-forge/noarch::mpmath-1.3.0-pyhd8ed1ab_0 \n",
            "  munkres            conda-forge/noarch::munkres-1.1.4-pyh9f0ad1d_0 \n",
            "  namex              conda-forge/noarch::namex-0.0.8-pyhd8ed1ab_0 \n",
            "  nettle             conda-forge/linux-64::nettle-3.6-he412f7d_0 \n",
            "  networkx           conda-forge/noarch::networkx-3.4.2-pyh267e887_2 \n",
            "  numpy              conda-forge/linux-64::numpy-1.26.4-py310hb13e2d6_0 \n",
            "  nvidia-ml          conda-forge/noarch::nvidia-ml-7.352.0-py_0 \n",
            "  openh264           conda-forge/linux-64::openh264-2.1.1-h780b84a_0 \n",
            "  openjpeg           conda-forge/linux-64::openjpeg-2.5.2-h488ebb8_0 \n",
            "  opt_einsum         conda-forge/noarch::opt_einsum-3.4.0-pyhd8ed1ab_0 \n",
            "  optree             conda-forge/linux-64::optree-0.13.1-py310h3788b33_1 \n",
            "  palettable         conda-forge/noarch::palettable-3.3.3-pyhd8ed1ab_0 \n",
            "  pandas             conda-forge/linux-64::pandas-2.2.3-py310h5eaa309_1 \n",
            "  pillow             conda-forge/linux-64::pillow-10.3.0-py310hf73ecf8_0 \n",
            "  plotly             conda-forge/noarch::plotly-5.24.1-pyhd8ed1ab_0 \n",
            "  protobuf           conda-forge/linux-64::protobuf-4.25.3-py310h0e2eeba_1 \n",
            "  psutil             conda-forge/linux-64::psutil-6.1.0-py310ha75aee5_0 \n",
            "  pthread-stubs      conda-forge/linux-64::pthread-stubs-0.4-hb9d3cd8_1002 \n",
            "  pybtex             conda-forge/noarch::pybtex-0.24.0-pyhd8ed1ab_2 \n",
            "  pydantic           conda-forge/noarch::pydantic-2.10.2-pyh3cfb1c2_0 \n",
            "  pydantic-core      conda-forge/linux-64::pydantic-core-2.27.1-py310h505e2c1_0 \n",
            "  pygments           conda-forge/noarch::pygments-2.18.0-pyhd8ed1ab_0 \n",
            "  pymatgen           conda-forge/linux-64::pymatgen-2024.5.31-py310h8a78493_0 \n",
            "  pyparsing          conda-forge/noarch::pyparsing-3.2.0-pyhd8ed1ab_1 \n",
            "  python-dateutil    conda-forge/noarch::python-dateutil-2.9.0.post0-pyhff2d567_0 \n",
            "  python-flatbuffers conda-forge/noarch::python-flatbuffers-24.3.25-pyh59ac667_0 \n",
            "  python-tzdata      conda-forge/noarch::python-tzdata-2024.2-pyhd8ed1ab_0 \n",
            "  pytorch            conda-forge/linux-64::pytorch-2.3.1-cpu_mkl_py310h75865b9_100 \n",
            "  pytorch-cuda       pytorch/linux-64::pytorch-cuda-12.4-hc786d27_7 \n",
            "  pytorch-lightning  conda-forge/noarch::pytorch-lightning-2.4.0-pyhd8ed1ab_0 \n",
            "  pytorch-mutex      pytorch/noarch::pytorch-mutex-1.0-cpu \n",
            "  pytz               conda-forge/noarch::pytz-2024.1-pyhd8ed1ab_0 \n",
            "  pyyaml             conda-forge/linux-64::pyyaml-6.0.2-py310ha75aee5_1 \n",
            "  qhull              conda-forge/linux-64::qhull-2020.2-h434a139_5 \n",
            "  re2                conda-forge/linux-64::re2-2023.09.01-h7f4b329_2 \n",
            "  rich               conda-forge/noarch::rich-13.9.4-pyhd8ed1ab_0 \n",
            "  scipy              conda-forge/linux-64::scipy-1.14.1-py310hfcf56fc_1 \n",
            "  six                conda-forge/noarch::six-1.16.0-pyh6c4a22f_0 \n",
            "  sleef              conda-forge/linux-64::sleef-3.7-h1b44611_2 \n",
            "  snappy             conda-forge/linux-64::snappy-1.2.1-ha2e4443_0 \n",
            "  spglib             conda-forge/linux-64::spglib-2.5.0-py310h39fee3d_2 \n",
            "  sympy              conda-forge/noarch::sympy-1.13.3-pypyh2585a3b_103 \n",
            "  tabulate           conda-forge/noarch::tabulate-0.9.0-pyhd8ed1ab_1 \n",
            "  tbb                conda-forge/linux-64::tbb-2021.11.0-h00ab1b0_1 \n",
            "  tenacity           conda-forge/noarch::tenacity-9.0.0-pyhd8ed1ab_0 \n",
            "  tensorboard        conda-forge/noarch::tensorboard-2.16.2-pyhd8ed1ab_0 \n",
            "  tensorboard-data-~ conda-forge/linux-64::tensorboard-data-server-0.7.0-py310h6c63255_2 \n",
            "  tensorflow         conda-forge/linux-64::tensorflow-2.16.1-cpu_py310h49b650b_0 \n",
            "  tensorflow-base    conda-forge/linux-64::tensorflow-base-2.16.1-cpu_py310h224022f_0 \n",
            "  tensorflow-estima~ conda-forge/linux-64::tensorflow-estimator-2.16.1-cpu_py310hc6dcfef_0 \n",
            "  termcolor          conda-forge/noarch::termcolor-2.5.0-pyhd8ed1ab_0 \n",
            "  torchaudio         pytorch/linux-64::torchaudio-2.3.1-py310_cpu \n",
            "  torchdata          pytorch/linux-64::torchdata-0.7.1-py310 \n",
            "  torchmetrics       conda-forge/noarch::torchmetrics-1.5.2-pyhe5570ce_0 \n",
            "  torchvision        pytorch/linux-64::torchvision-0.18.1-py310_cpu \n",
            "  typing-extensions  conda-forge/noarch::typing-extensions-4.12.2-hd8ed1ab_0 \n",
            "  typing_extensions  conda-forge/noarch::typing_extensions-4.12.2-pyha770c72_0 \n",
            "  uncertainties      conda-forge/noarch::uncertainties-3.2.2-pyhd8ed1ab_1 \n",
            "  unicodedata2       conda-forge/linux-64::unicodedata2-15.1.0-py310ha75aee5_1 \n",
            "  werkzeug           conda-forge/noarch::werkzeug-3.1.3-pyhff2d567_0 \n",
            "  wrapt              conda-forge/linux-64::wrapt-1.17.0-py310ha75aee5_0 \n",
            "  xorg-libxau        conda-forge/linux-64::xorg-libxau-1.0.11-hb9d3cd8_1 \n",
            "  xorg-libxdmcp      conda-forge/linux-64::xorg-libxdmcp-1.1.5-hb9d3cd8_0 \n",
            "  yaml               conda-forge/linux-64::yaml-0.2.5-h7f98852_2 \n",
            "  zipp               conda-forge/noarch::zipp-3.21.0-pyhd8ed1ab_1 \n",
            "  zlib               conda-forge/linux-64::zlib-1.2.13-hd590300_5 \n",
            "\n",
            "The following packages will be UPDATED:\n",
            "\n",
            "  c-ares                                  1.24.0-hd590300_0 --> 1.34.3-hb9d3cd8_1 \n",
            "  ca-certificates                     2023.11.17-hbcca054_0 --> 2024.8.30-hbcca054_0 \n",
            "  certifi                           2023.11.17-pyhd8ed1ab_0 --> 2024.8.30-pyhd8ed1ab_0 \n",
            "  libcurl                                  8.5.0-hca28451_0 --> 8.8.0-hca28451_0 \n",
            "  libgcc-ng                               13.2.0-h807b86a_3 --> 14.2.0-h69a702a_1 \n",
            "  libgomp                                 13.2.0-h807b86a_3 --> 14.2.0-h77fa898_1 \n",
            "  libsqlite                               3.44.2-h2797004_0 --> 3.46.0-hde9e2c9_0 \n",
            "  openssl                                  3.2.0-hd590300_1 --> 3.4.0-hb9d3cd8_0 \n",
            "  zstandard                          0.22.0-py310h1275a96_0 --> 0.23.0-py310ha39cb0e_1 \n",
            "  zstd                                     1.5.5-hfc55251_0 --> 1.5.6-ha6fb4c9_0 \n",
            "\n",
            "The following packages will be DOWNGRADED:\n",
            "\n",
            "  _openmp_mutex                                   4.5-2_gnu --> 4.5-2_kmp_llvm \n",
            "\n",
            "\n",
            "Preparing transaction: ...working... done\n",
            "Verifying transaction: ...working... done\n",
            "Executing transaction: ...working... done\n",
            "CPU times: user 3.06 s, sys: 413 ms, total: 3.47 s\n",
            "Wall time: 7min 8s\n"
          ]
        }
      ]
    },
    {
      "cell_type": "code",
      "source": [
        "%%time\n",
        "import os\n",
        "import torch\n",
        "os.environ['TORCH'] = torch.__version__\n",
        "print(torch.__version__)\n",
        "\n",
        "!pip install -q torch-scatter -f https://data.pyg.org/whl/torch-${TORCH}.html\n",
        "!pip install -q torch-sparse -f https://data.pyg.org/whl/torch-${TORCH}.html\n",
        "!pip install -q git+https://github.com/pyg-team/pytorch_geometric.git"
      ],
      "metadata": {
        "colab": {
          "base_uri": "https://localhost:8080/"
        },
        "id": "TQ-R8T9I4pgg",
        "outputId": "256d6804-e263-49ac-bdef-0a3ff0bfb22f"
      },
      "execution_count": 2,
      "outputs": [
        {
          "output_type": "stream",
          "name": "stdout",
          "text": [
            "2.3.1.post100\n",
            "\u001b[2K     \u001b[90m━━━━━━━━━━━━━━━━━━━━━━━━━━━━━━━━━━━━━━━━\u001b[0m \u001b[32m108.0/108.0 kB\u001b[0m \u001b[31m2.7 MB/s\u001b[0m eta \u001b[36m0:00:00\u001b[0m\n",
            "\u001b[?25h  Preparing metadata (setup.py) ... \u001b[?25l\u001b[?25hdone\n",
            "  Building wheel for torch-scatter (setup.py) ... \u001b[?25l\u001b[?25hdone\n",
            "\u001b[2K     \u001b[90m━━━━━━━━━━━━━━━━━━━━━━━━━━━━━━━━━━━━━━━━\u001b[0m \u001b[32m210.0/210.0 kB\u001b[0m \u001b[31m3.8 MB/s\u001b[0m eta \u001b[36m0:00:00\u001b[0m\n",
            "\u001b[?25h  Preparing metadata (setup.py) ... \u001b[?25l\u001b[?25hdone\n",
            "  Building wheel for torch-sparse (setup.py) ... \u001b[?25l\u001b[?25hdone\n",
            "  Installing build dependencies ... \u001b[?25l\u001b[?25hdone\n",
            "  Getting requirements to build wheel ... \u001b[?25l\u001b[?25hdone\n",
            "  Preparing metadata (pyproject.toml) ... \u001b[?25l\u001b[?25hdone\n",
            "\u001b[2K     \u001b[90m━━━━━━━━━━━━━━━━━━━━━━━━━━━━━━━━━━━━━━━━\u001b[0m \u001b[32m69.2/69.2 kB\u001b[0m \u001b[31m3.3 MB/s\u001b[0m eta \u001b[36m0:00:00\u001b[0m\n",
            "\u001b[2K   \u001b[90m━━━━━━━━━━━━━━━━━━━━━━━━━━━━━━━━━━━━━━━━\u001b[0m \u001b[32m1.6/1.6 MB\u001b[0m \u001b[31m24.6 MB/s\u001b[0m eta \u001b[36m0:00:00\u001b[0m\n",
            "\u001b[2K   \u001b[90m━━━━━━━━━━━━━━━━━━━━━━━━━━━━━━━━━━━━━━━━\u001b[0m \u001b[32m63.0/63.0 kB\u001b[0m \u001b[31m4.4 MB/s\u001b[0m eta \u001b[36m0:00:00\u001b[0m\n",
            "\u001b[2K   \u001b[90m━━━━━━━━━━━━━━━━━━━━━━━━━━━━━━━━━━━━━━━━\u001b[0m \u001b[32m241.9/241.9 kB\u001b[0m \u001b[31m14.4 MB/s\u001b[0m eta \u001b[36m0:00:00\u001b[0m\n",
            "\u001b[2K   \u001b[90m━━━━━━━━━━━━━━━━━━━━━━━━━━━━━━━━━━━━━━━━\u001b[0m \u001b[32m124.6/124.6 kB\u001b[0m \u001b[31m8.0 MB/s\u001b[0m eta \u001b[36m0:00:00\u001b[0m\n",
            "\u001b[2K   \u001b[90m━━━━━━━━━━━━━━━━━━━━━━━━━━━━━━━━━━━━━━━━\u001b[0m \u001b[32m205.1/205.1 kB\u001b[0m \u001b[31m13.3 MB/s\u001b[0m eta \u001b[36m0:00:00\u001b[0m\n",
            "\u001b[2K   \u001b[90m━━━━━━━━━━━━━━━━━━━━━━━━━━━━━━━━━━━━━━━━\u001b[0m \u001b[32m319.7/319.7 kB\u001b[0m \u001b[31m20.2 MB/s\u001b[0m eta \u001b[36m0:00:00\u001b[0m\n",
            "\u001b[?25h  Building wheel for torch-geometric (pyproject.toml) ... \u001b[?25l\u001b[?25hdone\n",
            "CPU times: user 10.5 s, sys: 1.36 s, total: 11.8 s\n",
            "Wall time: 18min 51s\n"
          ]
        }
      ]
    },
    {
      "cell_type": "code",
      "source": [
        "%%time\n",
        "!git clone https://github.com/ACEsuit/mace.git\n",
        "!pip install -q ./mace"
      ],
      "metadata": {
        "colab": {
          "base_uri": "https://localhost:8080/"
        },
        "id": "-SoPafCw5jQw",
        "outputId": "26de6876-3af1-4a29-bc80-3fa67c52ad7d"
      },
      "execution_count": 3,
      "outputs": [
        {
          "output_type": "stream",
          "name": "stdout",
          "text": [
            "Cloning into 'mace'...\n",
            "remote: Enumerating objects: 9114, done.\u001b[K\n",
            "remote: Counting objects: 100% (4739/4739), done.\u001b[K\n",
            "remote: Compressing objects: 100% (1145/1145), done.\u001b[K\n",
            "remote: Total 9114 (delta 3933), reused 4172 (delta 3577), pack-reused 4375 (from 1)\u001b[K\n",
            "Receiving objects: 100% (9114/9114), 103.80 MiB | 15.37 MiB/s, done.\n",
            "Resolving deltas: 100% (6689/6689), done.\n",
            "Updating files: 100% (95/95), done.\n",
            "  Installing build dependencies ... \u001b[?25l\u001b[?25hdone\n",
            "  Getting requirements to build wheel ... \u001b[?25l\u001b[?25hdone\n",
            "  Preparing metadata (pyproject.toml) ... \u001b[?25l\u001b[?25hdone\n",
            "  Preparing metadata (setup.py) ... \u001b[?25l\u001b[?25hdone\n",
            "\u001b[2K   \u001b[90m━━━━━━━━━━━━━━━━━━━━━━━━━━━━━━━━━━━━━━━━\u001b[0m \u001b[32m387.7/387.7 kB\u001b[0m \u001b[31m10.2 MB/s\u001b[0m eta \u001b[36m0:00:00\u001b[0m\n",
            "\u001b[2K   \u001b[90m━━━━━━━━━━━━━━━━━━━━━━━━━━━━━━━━━━━━━━━━\u001b[0m \u001b[32m207.3/207.3 kB\u001b[0m \u001b[31m13.6 MB/s\u001b[0m eta \u001b[36m0:00:00\u001b[0m\n",
            "\u001b[2K   \u001b[90m━━━━━━━━━━━━━━━━━━━━━━━━━━━━━━━━━━━━━━━━\u001b[0m \u001b[32m448.8/448.8 kB\u001b[0m \u001b[31m24.0 MB/s\u001b[0m eta \u001b[36m0:00:00\u001b[0m\n",
            "\u001b[2K   \u001b[90m━━━━━━━━━━━━━━━━━━━━━━━━━━━━━━━━━━━━━━━━\u001b[0m \u001b[32m62.7/62.7 kB\u001b[0m \u001b[31m3.5 MB/s\u001b[0m eta \u001b[36m0:00:00\u001b[0m\n",
            "\u001b[2K   \u001b[90m━━━━━━━━━━━━━━━━━━━━━━━━━━━━━━━━━━━━━━━━\u001b[0m \u001b[32m102.5/102.5 kB\u001b[0m \u001b[31m6.5 MB/s\u001b[0m eta \u001b[36m0:00:00\u001b[0m\n",
            "\u001b[?25h  Building wheel for mace-torch (pyproject.toml) ... \u001b[?25l\u001b[?25hdone\n",
            "  Building wheel for python-hostlist (setup.py) ... \u001b[?25l\u001b[?25hdone\n",
            "CPU times: user 251 ms, sys: 27.5 ms, total: 278 ms\n",
            "Wall time: 24.9 s\n"
          ]
        }
      ]
    },
    {
      "cell_type": "code",
      "source": [
        "%%time\n",
        "!git clone https://github.com/MDIL-SNU/SevenNet.git\n",
        "!pip install -q ./SevenNet/"
      ],
      "metadata": {
        "colab": {
          "base_uri": "https://localhost:8080/"
        },
        "id": "dFt-un7Q5rbP",
        "outputId": "170577ca-cf68-4a9c-b45d-664ff0a79484"
      },
      "execution_count": 4,
      "outputs": [
        {
          "output_type": "stream",
          "name": "stdout",
          "text": [
            "Cloning into 'SevenNet'...\n",
            "remote: Enumerating objects: 4453, done.\u001b[K\n",
            "remote: Counting objects: 100% (1474/1474), done.\u001b[K\n",
            "remote: Compressing objects: 100% (365/365), done.\u001b[K\n",
            "remote: Total 4453 (delta 1239), reused 1121 (delta 1109), pack-reused 2979 (from 1)\u001b[K\n",
            "Receiving objects: 100% (4453/4453), 98.16 MiB | 11.39 MiB/s, done.\n",
            "Resolving deltas: 100% (3215/3215), done.\n",
            "  Installing build dependencies ... \u001b[?25l\u001b[?25hdone\n",
            "  Getting requirements to build wheel ... \u001b[?25l\u001b[?25hdone\n",
            "  Preparing metadata (pyproject.toml) ... \u001b[?25l\u001b[?25hdone\n",
            "\u001b[2K   \u001b[90m━━━━━━━━━━━━━━━━━━━━━━━━━━━━━━━━━━━━━━━━\u001b[0m \u001b[32m13.3/13.3 MB\u001b[0m \u001b[31m81.8 MB/s\u001b[0m eta \u001b[36m0:00:00\u001b[0m\n",
            "\u001b[?25h  Building wheel for sevenn (pyproject.toml) ... \u001b[?25l\u001b[?25hdone\n",
            "CPU times: user 299 ms, sys: 34.8 ms, total: 334 ms\n",
            "Wall time: 31 s\n"
          ]
        }
      ]
    },
    {
      "cell_type": "code",
      "source": [
        "!pip install -q git+https://github.com/usnistgov/alignn.git@develop"
      ],
      "metadata": {
        "id": "U9GR2wR352VD",
        "outputId": "0a055d67-f505-4f06-bef0-95c54601d19d",
        "colab": {
          "base_uri": "https://localhost:8080/"
        }
      },
      "execution_count": 5,
      "outputs": [
        {
          "output_type": "stream",
          "name": "stdout",
          "text": [
            "  Installing build dependencies ... \u001b[?25l\u001b[?25hdone\n",
            "  Getting requirements to build wheel ... \u001b[?25l\u001b[?25hdone\n",
            "  Preparing metadata (pyproject.toml) ... \u001b[?25l\u001b[?25hdone\n",
            "\u001b[2K   \u001b[90m━━━━━━━━━━━━━━━━━━━━━━━━━━━━━━━━━━━━━━━━\u001b[0m \u001b[32m57.7/57.7 kB\u001b[0m \u001b[31m2.5 MB/s\u001b[0m eta \u001b[36m0:00:00\u001b[0m\n",
            "\u001b[2K   \u001b[90m━━━━━━━━━━━━━━━━━━━━━━━━━━━━━━━━━━━━━━━━\u001b[0m \u001b[32m4.2/4.2 MB\u001b[0m \u001b[31m44.6 MB/s\u001b[0m eta \u001b[36m0:00:00\u001b[0m\n",
            "\u001b[2K   \u001b[90m━━━━━━━━━━━━━━━━━━━━━━━━━━━━━━━━━━━━━━━━\u001b[0m \u001b[32m67.8/67.8 kB\u001b[0m \u001b[31m4.6 MB/s\u001b[0m eta \u001b[36m0:00:00\u001b[0m\n",
            "\u001b[2K   \u001b[90m━━━━━━━━━━━━━━━━━━━━━━━━━━━━━━━━━━━━━━━━\u001b[0m \u001b[32m294.9/294.9 kB\u001b[0m \u001b[31m18.7 MB/s\u001b[0m eta \u001b[36m0:00:00\u001b[0m\n",
            "\u001b[2K   \u001b[90m━━━━━━━━━━━━━━━━━━━━━━━━━━━━━━━━━━━━━━━━\u001b[0m \u001b[32m62.7/62.7 kB\u001b[0m \u001b[31m4.3 MB/s\u001b[0m eta \u001b[36m0:00:00\u001b[0m\n",
            "\u001b[2K   \u001b[90m━━━━━━━━━━━━━━━━━━━━━━━━━━━━━━━━━━━━━━━━\u001b[0m \u001b[32m93.0/93.0 kB\u001b[0m \u001b[31m5.1 MB/s\u001b[0m eta \u001b[36m0:00:00\u001b[0m\n",
            "\u001b[2K   \u001b[90m━━━━━━━━━━━━━━━━━━━━━━━━━━━━━━━━━━━━━━━━\u001b[0m \u001b[32m56.4/56.4 kB\u001b[0m \u001b[31m2.4 MB/s\u001b[0m eta \u001b[36m0:00:00\u001b[0m\n",
            "\u001b[?25h  Building wheel for alignn (pyproject.toml) ... \u001b[?25l\u001b[?25hdone\n"
          ]
        }
      ]
    },
    {
      "cell_type": "code",
      "source": [
        "import alignn\n",
        "import matgl\n",
        "import chgnet\n",
        "import mace\n",
        "import sevenn"
      ],
      "metadata": {
        "id": "FrdvN4Hh_qCY"
      },
      "execution_count": 6,
      "outputs": []
    },
    {
      "cell_type": "code",
      "source": [
        "from alignn.ff.ff import AlignnAtomwiseCalculator, default_path, wt01_path, get_figshare_model_ff\n",
        "from matgl.ext.ase import M3GNetCalculator\n",
        "from sevenn.sevennet_calculator import SevenNetCalculator\n",
        "from chgnet.model.dynamics import CHGNetCalculator\n",
        "from mace.calculators import mace_mp\n",
        "alignn_calculator = AlignnAtomwiseCalculator()\n",
        "\n",
        "pot = matgl.load_model(\"M3GNet-MP-2021.2.8-PES\")\n",
        "matgl_calculator = M3GNetCalculator(pot)\n",
        "\n",
        "\n",
        "\n",
        "sevenet_calculator = SevenNetCalculator(\"7net-0\", device='cpu')\n",
        "\n",
        "mace_calculator = mace_mp()\n",
        "\n",
        "chgnet_calculator = CHGNetCalculator()"
      ],
      "metadata": {
        "colab": {
          "base_uri": "https://localhost:8080/"
        },
        "id": "bAnM8Gff_vqm",
        "outputId": "361db68f-4a58-4d0c-c92d-14c9c23f2422"
      },
      "execution_count": 7,
      "outputs": [
        {
          "output_type": "stream",
          "name": "stderr",
          "text": [
            "DGL backend not selected or invalid.  Assuming PyTorch for now.\n"
          ]
        },
        {
          "output_type": "stream",
          "name": "stdout",
          "text": [
            "Setting the default backend to \"pytorch\". You can change it in the ~/.dgl/config.json file or export the DGLBACKEND environment variable.  Valid options are: pytorch, mxnet, tensorflow (all lowercase)\n",
            "dir_path /usr/local/lib/python3.10/site-packages/alignn/ff/v12.2.2024_dft_3d_307k\n"
          ]
        },
        {
          "output_type": "stream",
          "name": "stderr",
          "text": [
            "100%|██████████| 549k/549k [00:00<00:00, 1.18MiB/s]\n"
          ]
        },
        {
          "output_type": "stream",
          "name": "stdout",
          "text": [
            "model_path /usr/local/lib/python3.10/site-packages/alignn/ff/v12.2.2024_dft_3d_307k\n"
          ]
        },
        {
          "output_type": "stream",
          "name": "stderr",
          "text": [
            "/usr/local/lib/python3.10/site-packages/matgl/apps/pes.py:69: UserWarning: To copy construct from a tensor, it is recommended to use sourceTensor.clone().detach() or sourceTensor.clone().detach().requires_grad_(True), rather than torch.tensor(sourceTensor).\n",
            "  self.element_refs = AtomRef(property_offset=torch.tensor(element_refs, dtype=matgl.float_th))\n",
            "/usr/local/lib/python3.10/site-packages/matgl/apps/pes.py:75: UserWarning: To copy construct from a tensor, it is recommended to use sourceTensor.clone().detach() or sourceTensor.clone().detach().requires_grad_(True), rather than torch.tensor(sourceTensor).\n",
            "  self.register_buffer(\"data_mean\", torch.tensor(data_mean, dtype=matgl.float_th))\n",
            "/usr/local/lib/python3.10/site-packages/matgl/apps/pes.py:76: UserWarning: To copy construct from a tensor, it is recommended to use sourceTensor.clone().detach() or sourceTensor.clone().detach().requires_grad_(True), rather than torch.tensor(sourceTensor).\n",
            "  self.register_buffer(\"data_std\", torch.tensor(data_std, dtype=matgl.float_th))\n"
          ]
        },
        {
          "output_type": "stream",
          "name": "stdout",
          "text": [
            "Downloading MACE model from 'https://github.com/ACEsuit/mace-mp/releases/download/mace_mp_0/2023-12-03-mace-128-L1_epoch-199.model'\n",
            "Cached MACE model to /root/.cache/mace/20231203mace128L1_epoch199model\n",
            "Using Materials Project MACE for MACECalculator with /root/.cache/mace/20231203mace128L1_epoch199model\n",
            "Using float32 for MACECalculator, which is faster but less accurate. Recommended for MD. Use float64 for geometry optimization.\n",
            "Default dtype float32 does not match model dtype float64, converting models to float32.\n",
            "CHGNet v0.3.0 initialized with 412,525 parameters\n",
            "CHGNet will run on cpu\n"
          ]
        }
      ]
    },
    {
      "cell_type": "code",
      "source": [
        "# Dimer test\n",
        "# import numpy as np\n",
        "# a=np.arange(0.5,5,0.1)\n",
        "# energies=[]\n",
        "# for i in a:\n",
        "#   atoms=Atoms(lattice_mat=[[20,0,0],[0,20,0],[0,0,20]],elements=['Al','Al'],coords=[[0,0,0],[0,0,i]],cartesian=True).ase_converter()\n",
        "#   atoms.calc=alignn_calculator\n",
        "#   print(atoms.get_potential_energy())\n",
        "#   energies.append(atoms.get_potential_energy())\n",
        "# import matplotlib.pyplot as plt\n",
        "# %matplotlib inline\n",
        "# plt.plot(a,energies)"
      ],
      "metadata": {
        "id": "CGg2TFM0JQPM"
      },
      "execution_count": 8,
      "outputs": []
    },
    {
      "cell_type": "code",
      "source": [],
      "metadata": {
        "id": "maSD3LenJ43A"
      },
      "execution_count": 8,
      "outputs": []
    },
    {
      "cell_type": "code",
      "source": [
        "from ase.build.supercells import make_supercell\n",
        "import numpy as np\n",
        "import time\n",
        "import matplotlib.pyplot as plt\n",
        "from ase import Atoms,Atom\n",
        "from ase.calculators.emt import EMT\n",
        "from jarvis.io.vasp.inputs import Poscar\n",
        "pos = \"\"\"System\n",
        "1.0\n",
        "3.6 0.0 0.0\n",
        "0.0 3.6 0.0\n",
        "0.0 0.0 3.6\n",
        "Cu\n",
        "4\n",
        "direct\n",
        "0.0 0.0 0.0 Cu\n",
        "0.0 0.5 0.5 Cu\n",
        "0.5 0.0 0.5 Cu\n",
        "0.5 0.5 0.0 Cu\n",
        "\"\"\"\n",
        "%matplotlib inline\n",
        "emt_calc = EMT()\n",
        "# a = 3.6\n",
        "# atoms = Atoms([Atom('Cu', (0, 0, 0))],\n",
        "#               cell=0.5 * a * np.array([[1.0, 1.0, 0.0],\n",
        "#                                        [0.0, 1.0, 1.0],\n",
        "#                                        [1.0, 0.0, 1.0]]),\n",
        "#              pbc=True)\n",
        "atoms=Poscar.from_string(pos).atoms.ase_converter()\n",
        "numbers = np.arange(1,5,1)\n",
        "times_emt = []\n",
        "times_matgl = []\n",
        "times_mace = []\n",
        "times_chgnet = []\n",
        "times_alignn = []\n",
        "times_sevennet = []\n",
        "\n",
        "\n",
        "\n",
        "natoms=[]\n",
        "for i in numbers:\n",
        "  print(i)\n",
        "  sc=make_supercell(atoms, [[i,0,0],[0,i,0],[0,0,i]])\n",
        "\n",
        "  t1=time.time()\n",
        "  sc.calc = matgl_calculator\n",
        "  en = sc.get_potential_energy()/len(sc)\n",
        "  t2=time.time()\n",
        "  times_matgl.append(t2-t1)\n",
        "\n",
        "  t1=time.time()\n",
        "  sc.calc = alignn_calculator\n",
        "  en = sc.get_potential_energy()/len(sc)\n",
        "  t2=time.time()\n",
        "  times_alignn.append(t2-t1)\n",
        "\n",
        "  t1=time.time()\n",
        "  sc.calc = emt_calc\n",
        "  en = sc.get_potential_energy()/len(sc)\n",
        "  t2=time.time()\n",
        "  times_emt.append(t2-t1)\n",
        "\n",
        "  t1=time.time()\n",
        "  sc.calc = mace_calculator\n",
        "  en = sc.get_potential_energy()/len(sc)\n",
        "  t2=time.time()\n",
        "  times_mace.append(t2-t1)\n",
        "\n",
        "\n",
        "  t1=time.time()\n",
        "  sc.calc = chgnet_calculator\n",
        "  en = sc.get_potential_energy()/len(sc)\n",
        "  t2=time.time()\n",
        "  times_chgnet.append(t2-t1)\n",
        "\n",
        "  t1=time.time()\n",
        "  sc.calc = sevenet_calculator\n",
        "  en = sc.get_potential_energy()/len(sc)\n",
        "  t2=time.time()\n",
        "  times_sevennet.append(t2-t1)\n",
        "\n",
        "  natoms.append(len(sc))\n",
        "\n",
        "plt.plot(natoms,times_emt,'-o',label='EMT')\n",
        "plt.plot(natoms,times_matgl,'-o',label='M3GNet')\n",
        "plt.plot(natoms,times_alignn,'-o',label='ALIGNN')\n",
        "plt.plot(natoms,times_mace,'-o',label='MACE')\n",
        "plt.plot(natoms,times_chgnet,'-o',label='CHGNet')\n",
        "plt.plot(natoms,times_sevennet,'-o',label='7Net')\n",
        "plt.xlabel('Number of atoms')\n",
        "plt.ylabel('Time (s)')\n",
        "plt.grid(True)\n",
        "plt.legend()\n",
        "plt.show()"
      ],
      "metadata": {
        "colab": {
          "base_uri": "https://localhost:8080/",
          "height": 573
        },
        "id": "A0XgL4-OAPxy",
        "outputId": "0af729db-5224-4521-ed5d-3b22de4ec459"
      },
      "execution_count": 9,
      "outputs": [
        {
          "output_type": "stream",
          "name": "stdout",
          "text": [
            "1\n"
          ]
        },
        {
          "output_type": "stream",
          "name": "stderr",
          "text": [
            "/usr/local/lib/python3.10/site-packages/alignn/ff/ff.py:295: UserWarning: Creating a tensor from a list of numpy.ndarrays is extremely slow. Please consider converting the list to a single numpy.ndarray with numpy.array() before converting to a tensor. (Triggered internally at /home/conda/feedstock_root/build_artifacts/libtorch_1718580401398/work/torch/csrc/utils/tensor_new.cpp:274.)\n",
            "  torch.tensor(atoms.cell)\n"
          ]
        },
        {
          "output_type": "stream",
          "name": "stdout",
          "text": [
            "2\n",
            "3\n",
            "4\n"
          ]
        },
        {
          "output_type": "display_data",
          "data": {
            "text/plain": [
              "<Figure size 640x480 with 1 Axes>"
            ],
            "image/png": "[encoded data removed]"
          },
          "metadata": {}
        }
      ]
    },
    {
      "cell_type": "code",
      "source": [
        "from ase.build.supercells import make_supercell\n",
        "import numpy as np\n",
        "import time\n",
        "import matplotlib.pyplot as plt\n",
        "from ase import Atoms,Atom\n",
        "from ase.calculators.emt import EMT\n",
        "from jarvis.io.vasp.inputs import Poscar\n",
        "pos = \"\"\"System\n",
        "1.0\n",
        "3.6 0.0 0.0\n",
        "0.0 3.6 0.0\n",
        "0.0 0.0 3.6\n",
        "Cu\n",
        "4\n",
        "direct\n",
        "0.0 0.0 0.0 Cu\n",
        "0.0 0.5 0.5 Cu\n",
        "0.5 0.0 0.5 Cu\n",
        "0.5 0.5 0.0 Cu\n",
        "\"\"\"\n",
        "%matplotlib inline\n",
        "emt_calc = EMT()\n",
        "# a = 3.6\n",
        "# atoms = Atoms([Atom('Cu', (0, 0, 0))],\n",
        "#               cell=0.5 * a * np.array([[1.0, 1.0, 0.0],\n",
        "#                                        [0.0, 1.0, 1.0],\n",
        "#                                        [1.0, 0.0, 1.0]]),\n",
        "#              pbc=True)\n",
        "atoms=Poscar.from_string(pos).atoms.ase_converter()\n",
        "numbers = np.arange(1,8,1)\n",
        "\n",
        "times_alignn = []\n",
        "\n",
        "\n",
        "\n",
        "\n",
        "natoms=[]\n",
        "for i in numbers:\n",
        "  print(i)\n",
        "  sc=make_supercell(atoms, [[i,0,0],[0,i,0],[0,0,i]])\n",
        "\n",
        "\n",
        "\n",
        "  t1=time.time()\n",
        "  sc.calc = alignn_calculator\n",
        "  en = sc.get_potential_energy()/len(sc)\n",
        "  t2=time.time()\n",
        "  times_alignn.append(t2-t1)\n",
        "\n",
        "\n",
        "  natoms.append(len(sc))\n",
        "\n",
        "\n",
        "plt.plot(natoms,times_alignn,'-o',label='ALIGNN')\n",
        "\n",
        "plt.xlabel('Number of atoms')\n",
        "plt.ylabel('Time (s)')\n",
        "plt.grid(True)\n",
        "plt.legend()\n",
        "plt.show()"
      ],
      "metadata": {
        "id": "74dy2leUW2Bk",
        "outputId": "4d1e30a8-db9c-480e-cbf4-33b52e3352cb",
        "colab": {
          "base_uri": "https://localhost:8080/",
          "height": 571
        }
      },
      "execution_count": 12,
      "outputs": [
        {
          "output_type": "stream",
          "name": "stdout",
          "text": [
            "1\n",
            "2\n",
            "3\n",
            "4\n",
            "5\n",
            "6\n",
            "7\n"
          ]
        },
        {
          "output_type": "display_data",
          "data": {
            "text/plain": [
              "<Figure size 640x480 with 1 Axes>"
            ],
            "image/png": "[encoded data removed]"
          },
          "metadata": {}
        }
      ]
    },
    {
      "cell_type": "code",
      "source": [],
      "metadata": {
        "id": "lVRG0CpiW19-"
      },
      "execution_count": null,
      "outputs": []
    },
    {
      "cell_type": "code",
      "source": [
        "# from jarvis.db.figshare import data\n",
        "# x=data('interfacedb')\n",
        "# print(len(x))\n",
        "# from jarvis.core.atoms import Atoms\n",
        "# a=Atoms.from_dict(x[0]['atoms'])\n",
        "# for i in  x:\n",
        "#   # if 'JVASP-1002' in i['jid'] and 'JVASP-1174' in i['jid']:\n",
        "#   if i['jid']=='Interface-JVASP-1002_JVASP-1174_film_miller_1_1_0_sub_miller_1_1_0_film_thickness_16_subs_thickness_16_seperation_2.5_disp_0.5_0.2_vasp':\n",
        "#     a=Atoms.from_dict(i['atoms'])"
      ],
      "metadata": {
        "id": "CeNFK3Gv8Rj_"
      },
      "execution_count": 10,
      "outputs": []
    },
    {
      "cell_type": "code",
      "source": [],
      "metadata": {
        "id": "fxu6Ailc-Sz3"
      },
      "execution_count": 10,
      "outputs": []
    },
    {
      "cell_type": "code",
      "source": [],
      "metadata": {
        "id": "bCDIf3ST-dW1"
      },
      "execution_count": null,
      "outputs": []
    },
    {
      "cell_type": "code",
      "source": [],
      "metadata": {
        "id": "l-Dn6zqL-i5q"
      },
      "execution_count": null,
      "outputs": []
    },
    {
      "cell_type": "code",
      "source": [],
      "metadata": {
        "id": "7reRAEyA64Vx"
      },
      "execution_count": null,
      "outputs": []
    }
  ]
}