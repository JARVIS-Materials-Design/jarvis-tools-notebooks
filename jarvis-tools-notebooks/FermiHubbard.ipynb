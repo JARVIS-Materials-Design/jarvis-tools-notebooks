{
  "nbformat": 4,
  "nbformat_minor": 0,
  "metadata": {
    "colab": {
      "name": "Untitled1.ipynb",
      "provenance": [],
      "collapsed_sections": [],
      "include_colab_link": true
    },
    "kernelspec": {
      "name": "python3",
      "display_name": "Python 3"
    },
    "gpuClass": "standard"
  },
  "cells": [
    {
      "cell_type": "markdown",
      "metadata": {
        "id": "view-in-github",
        "colab_type": "text"
      },
      "source": [
        "<a href=\"https://colab.research.google.com/github/knc6/jarvis-tools-notebooks/blob/master/jarvis-tools-notebooks/FermiHubbard.ipynb\" target=\"_parent\"><img src=\"https://colab.research.google.com/assets/colab-badge.svg\" alt=\"Open In Colab\"/></a>"
      ]
    },
    {
      "cell_type": "markdown",
      "metadata": {
        "id": "rT71p20r2Vvh"
      },
      "source": [
        "https://qiskit.org/documentation/nature/tutorials/10_lattice_models.html\n"
      ]
    },
    {
      "cell_type": "code",
      "metadata": {
        "id": "PV_ZVG19aiz_",
        "colab": {
          "base_uri": "https://localhost:8080/"
        },
        "outputId": "75a89b0c-cf4e-4bef-8dd1-61f8cf800aa8"
      },
      "source": [
        "!pip install qiskit-nature"
      ],
      "execution_count": 1,
      "outputs": [
        {
          "output_type": "stream",
          "name": "stdout",
          "text": [
            "Looking in indexes: https://pypi.org/simple, https://us-python.pkg.dev/colab-wheels/public/simple/\n",
            "Collecting qiskit-nature\n",
            "  Downloading qiskit_nature-0.4.4-py3-none-any.whl (2.0 MB)\n",
            "\u001b[K     |████████████████████████████████| 2.0 MB 7.6 MB/s \n",
            "\u001b[?25hRequirement already satisfied: psutil>=5 in /usr/local/lib/python3.7/dist-packages (from qiskit-nature) (5.4.8)\n",
            "Requirement already satisfied: scikit-learn>=0.20.0 in /usr/local/lib/python3.7/dist-packages (from qiskit-nature) (1.0.2)\n",
            "Requirement already satisfied: setuptools>=40.1.0 in /usr/local/lib/python3.7/dist-packages (from qiskit-nature) (57.4.0)\n",
            "Collecting retworkx>=0.10.1\n",
            "  Downloading retworkx-0.11.0-cp37-cp37m-manylinux_2_5_x86_64.manylinux1_x86_64.manylinux_2_12_x86_64.manylinux2010_x86_64.whl (1.6 MB)\n",
            "\u001b[K     |████████████████████████████████| 1.6 MB 50.6 MB/s \n",
            "\u001b[?25hRequirement already satisfied: scipy>=1.4 in /usr/local/lib/python3.7/dist-packages (from qiskit-nature) (1.7.3)\n",
            "Requirement already satisfied: numpy>=1.17 in /usr/local/lib/python3.7/dist-packages (from qiskit-nature) (1.21.6)\n",
            "Collecting qiskit-terra>=0.21.0\n",
            "  Downloading qiskit_terra-0.21.2-cp37-cp37m-manylinux_2_17_x86_64.manylinux2014_x86_64.whl (6.7 MB)\n",
            "\u001b[K     |████████████████████████████████| 6.7 MB 44.7 MB/s \n",
            "\u001b[?25hRequirement already satisfied: h5py in /usr/local/lib/python3.7/dist-packages (from qiskit-nature) (3.1.0)\n",
            "Requirement already satisfied: typing-extensions in /usr/local/lib/python3.7/dist-packages (from qiskit-nature) (4.1.1)\n",
            "Collecting ply>=3.10\n",
            "  Downloading ply-3.11-py2.py3-none-any.whl (49 kB)\n",
            "\u001b[K     |████████████████████████████████| 49 kB 6.1 MB/s \n",
            "\u001b[?25hCollecting shared-memory38\n",
            "  Downloading shared_memory38-0.1.2-cp37-cp37m-manylinux_2_5_x86_64.manylinux1_x86_64.whl (25 kB)\n",
            "Requirement already satisfied: python-dateutil>=2.8.0 in /usr/local/lib/python3.7/dist-packages (from qiskit-terra>=0.21.0->qiskit-nature) (2.8.2)\n",
            "Collecting symengine>=0.9\n",
            "  Downloading symengine-0.9.2-cp37-cp37m-manylinux2010_x86_64.whl (37.5 MB)\n",
            "\u001b[K     |████████████████████████████████| 37.5 MB 1.3 MB/s \n",
            "\u001b[?25hRequirement already satisfied: sympy>=1.3 in /usr/local/lib/python3.7/dist-packages (from qiskit-terra>=0.21.0->qiskit-nature) (1.7.1)\n",
            "Requirement already satisfied: dill>=0.3 in /usr/local/lib/python3.7/dist-packages (from qiskit-terra>=0.21.0->qiskit-nature) (0.3.5.1)\n",
            "Collecting stevedore>=3.0.0\n",
            "  Downloading stevedore-3.5.0-py3-none-any.whl (49 kB)\n",
            "\u001b[K     |████████████████████████████████| 49 kB 6.4 MB/s \n",
            "\u001b[?25hCollecting tweedledum<2.0,>=1.1\n",
            "  Downloading tweedledum-1.1.1-cp37-cp37m-manylinux_2_12_x86_64.manylinux2010_x86_64.whl (943 kB)\n",
            "\u001b[K     |████████████████████████████████| 943 kB 37.2 MB/s \n",
            "\u001b[?25hRequirement already satisfied: six>=1.5 in /usr/local/lib/python3.7/dist-packages (from python-dateutil>=2.8.0->qiskit-terra>=0.21.0->qiskit-nature) (1.15.0)\n",
            "Requirement already satisfied: threadpoolctl>=2.0.0 in /usr/local/lib/python3.7/dist-packages (from scikit-learn>=0.20.0->qiskit-nature) (3.1.0)\n",
            "Requirement already satisfied: joblib>=0.11 in /usr/local/lib/python3.7/dist-packages (from scikit-learn>=0.20.0->qiskit-nature) (1.1.0)\n",
            "Collecting pbr!=2.1.0,>=2.0.0\n",
            "  Downloading pbr-5.10.0-py2.py3-none-any.whl (112 kB)\n",
            "\u001b[K     |████████████████████████████████| 112 kB 52.4 MB/s \n",
            "\u001b[?25hRequirement already satisfied: importlib-metadata>=1.7.0 in /usr/local/lib/python3.7/dist-packages (from stevedore>=3.0.0->qiskit-terra>=0.21.0->qiskit-nature) (4.12.0)\n",
            "Requirement already satisfied: zipp>=0.5 in /usr/local/lib/python3.7/dist-packages (from importlib-metadata>=1.7.0->stevedore>=3.0.0->qiskit-terra>=0.21.0->qiskit-nature) (3.8.1)\n",
            "Requirement already satisfied: mpmath>=0.19 in /usr/local/lib/python3.7/dist-packages (from sympy>=1.3->qiskit-terra>=0.21.0->qiskit-nature) (1.2.1)\n",
            "Requirement already satisfied: cached-property in /usr/local/lib/python3.7/dist-packages (from h5py->qiskit-nature) (1.5.2)\n",
            "Installing collected packages: pbr, tweedledum, symengine, stevedore, shared-memory38, retworkx, ply, qiskit-terra, qiskit-nature\n",
            "Successfully installed pbr-5.10.0 ply-3.11 qiskit-nature-0.4.4 qiskit-terra-0.21.2 retworkx-0.11.0 shared-memory38-0.1.2 stevedore-3.5.0 symengine-0.9.2 tweedledum-1.1.1\n"
          ]
        }
      ]
    },
    {
      "cell_type": "markdown",
      "metadata": {
        "id": "a9Y_f2fi2jSC"
      },
      "source": [
        "Checking Qiskit Version and then Implortiong all necessary modules"
      ]
    },
    {
      "cell_type": "code",
      "metadata": {
        "id": "GHf-0XQbbORX",
        "colab": {
          "base_uri": "https://localhost:8080/"
        },
        "outputId": "fcb920c8-75e9-45ca-9143-e23e96996ea1"
      },
      "source": [
        "import qiskit\n",
        "\n",
        "qiskit.__qiskit_version__\n"
      ],
      "execution_count": 2,
      "outputs": [
        {
          "output_type": "execute_result",
          "data": {
            "text/plain": [
              "{'qiskit-terra': '0.21.2', 'qiskit-aer': None, 'qiskit-ignis': None, 'qiskit-ibmq-provider': None, 'qiskit': None, 'qiskit-nature': '0.4.4', 'qiskit-finance': None, 'qiskit-optimization': None, 'qiskit-machine-learning': None}"
            ]
          },
          "metadata": {},
          "execution_count": 2
        }
      ]
    },
    {
      "cell_type": "code",
      "metadata": {
        "id": "jwBxGRjp43F8"
      },
      "source": [
        "from math import pi\n",
        "\n",
        "import numpy as np\n",
        "import retworkx as rx\n",
        "from qiskit_nature.problems.second_quantization.lattice import (\n",
        "    BoundaryCondition,\n",
        "    FermiHubbardModel,\n",
        "    HyperCubicLattice,\n",
        "    Lattice,\n",
        "    LatticeDrawStyle,\n",
        "    LineLattice,\n",
        "    SquareLattice,\n",
        "    TriangularLattice,\n",
        ")"
      ],
      "execution_count": 3,
      "outputs": []
    },
    {
      "cell_type": "code",
      "source": [
        "square_lattice = SquareLattice(rows=5, cols=4, boundary_condition=BoundaryCondition.PERIODIC)\n",
        "\n",
        "t = -1.0  # the interaction parameter\n",
        "v = 0.0  # the onsite potential\n",
        "u = 5.0  # the interaction parameter U\n",
        "\n",
        "fhm = FermiHubbardModel.uniform_parameters(\n",
        "    lattice=square_lattice,\n",
        "    uniform_interaction=t,\n",
        "    uniform_onsite_potential=v,\n",
        "    onsite_interaction=u,\n",
        ")"
      ],
      "metadata": {
        "id": "57ME-do55KOI"
      },
      "execution_count": 4,
      "outputs": []
    },
    {
      "cell_type": "code",
      "source": [
        "ham = fhm.second_q_ops().simplify()\n",
        "print(ham)"
      ],
      "metadata": {
        "id": "SYA0mQL95QEF",
        "outputId": "53427993-9c3b-47f1-ed8b-b138f95b9562",
        "colab": {
          "base_uri": "https://localhost:8080/"
        }
      },
      "execution_count": 5,
      "outputs": [
        {
          "output_type": "stream",
          "name": "stdout",
          "text": [
            "Fermionic Operator\n",
            "register length=40, number terms=180\n",
            "  (-1+0j) * ( +_0 -_2 )\n",
            "+ (1+0j) * ( -_0 +_2 )\n",
            "+ (-1+0j) * ( +_0 -_10 )\n",
            "+ (1+0j) * ( -_0 +_10 )\n",
            "+ (-1+0j) * ( +_10 -_12 )\n",
            "+ (1+0j) * ( -_10 +_12 )\n",
            "+ (-1+0j) * ( +_10 -_20 )\n",
            "+ (1+0j) * ( -_10 +_20  ...\n"
          ]
        }
      ]
    },
    {
      "cell_type": "code",
      "source": [
        "graph = rx.PyGraph(multigraph=False)  # multiigraph shoud be False\n",
        "graph.add_nodes_from(range(6))\n",
        "weighted_edge_list = [\n",
        "    (0, 1, 1.0 + 1.0j),\n",
        "    (0, 2, -1.0),\n",
        "    (2, 3, 2.0),\n",
        "    (4, 2, -1.0 + 2.0j),\n",
        "    (4, 4, 3.0),\n",
        "    (2, 5, -1.0),\n",
        "]\n",
        "graph.add_edges_from(weighted_edge_list)\n",
        "\n",
        "general_lattice = Lattice(graph)  # the lattice whose weights are seen as the interaction matrix.\n",
        "u = 5.0  # the interaction parameter U\n",
        "\n",
        "fhm = FermiHubbardModel(lattice=general_lattice, onsite_interaction=u)\n",
        "\n",
        "ham = fhm.second_q_ops().simplify()\n",
        "ham.set_truncation(0)\n",
        "print(ham)"
      ],
      "metadata": {
        "id": "Lw56exPE5SWU",
        "outputId": "99a88e84-3d3d-414f-c9ae-bd9ab1f6a696",
        "colab": {
          "base_uri": "https://localhost:8080/"
        }
      },
      "execution_count": 6,
      "outputs": [
        {
          "output_type": "stream",
          "name": "stdout",
          "text": [
            "Fermionic Operator\n",
            "register length=12, number terms=28\n",
            "  (1+1j) * ( +_0 -_2 )\n",
            "+ (-1+1j) * ( -_0 +_2 )\n",
            "+ (-1+0j) * ( +_0 -_4 )\n",
            "+ (1+0j) * ( -_0 +_4 )\n",
            "+ (2+0j) * ( +_4 -_6 )\n",
            "+ (-2+0j) * ( -_4 +_6 )\n",
            "+ (-1-2j) * ( +_4 -_8 )\n",
            "+ (1-2j) * ( -_4 +_8 )\n",
            "+ (3+0j) * ( +_8 -_8 )\n",
            "+ (-1+0j) * ( +_4 -_10 )\n",
            "+ (1+0j) * ( -_4 +_10 )\n",
            "+ (1+1j) * ( +_1 -_3 )\n",
            "+ (-1+1j) * ( -_1 +_3 )\n",
            "+ (-1+0j) * ( +_1 -_5 )\n",
            "+ (1+0j) * ( -_1 +_5 )\n",
            "+ (2+0j) * ( +_5 -_7 )\n",
            "+ (-2+0j) * ( -_5 +_7 )\n",
            "+ (-1-2j) * ( +_5 -_9 )\n",
            "+ (1-2j) * ( -_5 +_9 )\n",
            "+ (3+0j) * ( +_9 -_9 )\n",
            "+ (-1+0j) * ( +_5 -_11 )\n",
            "+ (1+0j) * ( -_5 +_11 )\n",
            "+ (5+0j) * ( +_0 -_0 +_1 -_1 )\n",
            "+ (5+0j) * ( +_2 -_2 +_3 -_3 )\n",
            "+ (5+0j) * ( +_4 -_4 +_5 -_5 )\n",
            "+ (5+0j) * ( +_6 -_6 +_7 -_7 )\n",
            "+ (5+0j) * ( +_8 -_8 +_9 -_9 )\n",
            "+ (5+0j) * ( +_10 -_10 +_11 -_11 )\n"
          ]
        }
      ]
    },
    {
      "cell_type": "code",
      "source": [
        "from qiskit_nature.problems.second_quantization import LatticeModelProblem\n",
        "from qiskit_nature.converters.second_quantization import QubitConverter\n",
        "\n",
        "num_nodes = 4\n",
        "boundary_condition = BoundaryCondition.OPEN\n",
        "line_lattice = LineLattice(num_nodes=num_nodes, boundary_condition=boundary_condition)\n",
        "\n",
        "fhm = FermiHubbardModel.uniform_parameters(\n",
        "    lattice=line_lattice,\n",
        "    uniform_interaction=t,\n",
        "    uniform_onsite_potential=v,\n",
        "    onsite_interaction=u,\n",
        ")\n",
        "\n",
        "lmp = LatticeModelProblem(lattice_model=fhm)"
      ],
      "metadata": {
        "id": "0sLqZB2C5Vn4"
      },
      "execution_count": 7,
      "outputs": []
    },
    {
      "cell_type": "code",
      "source": [
        "from qiskit.algorithms import NumPyMinimumEigensolver\n",
        "from qiskit_nature.algorithms import GroundStateEigensolver\n",
        "from qiskit_nature.mappers.second_quantization import JordanWignerMapper\n",
        "\n",
        "numpy_solver = NumPyMinimumEigensolver()\n",
        "\n",
        "qubit_converter = QubitConverter(JordanWignerMapper())\n",
        "\n",
        "calc = GroundStateEigensolver(qubit_converter, numpy_solver)\n",
        "res = calc.solve(lmp)\n",
        "\n",
        "print(res)"
      ],
      "metadata": {
        "id": "4NMZBRz35Yt_",
        "outputId": "d1c426c8-9e3e-4a2d-80d1-700dc80719d8",
        "colab": {
          "base_uri": "https://localhost:8080/"
        }
      },
      "execution_count": 8,
      "outputs": [
        {
          "output_type": "stream",
          "name": "stdout",
          "text": [
            "=== GROUND STATE ===\n",
            " \n",
            "* Lattice ground state energy : -2.566350190841\n"
          ]
        },
        {
          "output_type": "stream",
          "name": "stderr",
          "text": [
            "/usr/local/lib/python3.7/dist-packages/qiskit_nature/algorithms/ground_state_solvers/ground_state_eigensolver.py:104: ListAuxOpsDeprecationWarning: List-based `aux_operators` are deprecated as of version 0.3.0 and support for them will be removed no sooner than 3 months after the release. Instead, use dict-based `aux_operators`. You can switch to the dict-based interface immediately, by setting `qiskit_nature.settings.dict_aux_operators` to `True`.\n",
            "  second_q_ops = problem.second_q_ops()\n"
          ]
        }
      ]
    },
    {
      "cell_type": "code",
      "source": [
        "square_lattice.draw(self_loop=True, style=LatticeDrawStyle(with_labels=True))"
      ],
      "metadata": {
        "id": "aywVgNua5bFz",
        "outputId": "e71ee1b8-bf5f-4894-cd85-7ce304039644",
        "colab": {
          "base_uri": "https://localhost:8080/",
          "height": 319
        }
      },
      "execution_count": 11,
      "outputs": [
        {
          "output_type": "display_data",
          "data": {
            "text/plain": [
              "<Figure size 432x288 with 1 Axes>"
            ],
            "image/png": "[encoded data removed]"
          },
          "metadata": {}
        }
      ]
    },
    {
      "cell_type": "code",
      "source": [],
      "metadata": {
        "id": "BeZ8bSEz5kNy"
      },
      "execution_count": null,
      "outputs": []
    }
  ]
}