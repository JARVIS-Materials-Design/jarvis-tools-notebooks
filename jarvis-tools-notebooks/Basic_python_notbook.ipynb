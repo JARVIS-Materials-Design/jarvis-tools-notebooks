{
  "nbformat": 4,
  "nbformat_minor": 0,
  "metadata": {
    "colab": {
      "provenance": [],
      "gpuType": "T4",
      "authorship_tag": "ABX9TyN8ZYgADySSRzuEHrM3kd+U",
      "include_colab_link": true
    },
    "kernelspec": {
      "name": "python3",
      "display_name": "Python 3"
    },
    "language_info": {
      "name": "python"
    },
    "accelerator": "GPU"
  },
  "cells": [
    {
      "cell_type": "markdown",
      "metadata": {
        "id": "view-in-github",
        "colab_type": "text"
      },
      "source": [
        "<a href=\"https://colab.research.google.com/github/knc6/jarvis-tools-notebooks/blob/master/jarvis-tools-notebooks/Basic_python_notbook.ipynb\" target=\"_parent\"><img src=\"https://colab.research.google.com/assets/colab-badge.svg\" alt=\"Open In Colab\"/></a>"
      ]
    },
    {
      "cell_type": "markdown",
      "source": [
        "# Basic Python Examples\n",
        "## - Kamal Choudhary"
      ],
      "metadata": {
        "id": "kbST0OiuIwZP"
      }
    },
    {
      "cell_type": "markdown",
      "source": [
        "## Variables"
      ],
      "metadata": {
        "id": "RkKqycfEK1tF"
      }
    },
    {
      "cell_type": "code",
      "source": [
        "# Variable to store the temperature of an engine (in degrees Celsius) <- # for comments\n",
        "engine_temperature = 150\n",
        "\n",
        "# Variable to store the speed of a rotating shaft (in RPM)\n",
        "shaft_speed = 1200\n",
        "\n",
        "print(\"Engine Temperature:\", engine_temperature, \"Celsius\")\n",
        "print(\"Shaft Speed:\", shaft_speed, \"RPM\")\n"
      ],
      "metadata": {
        "id": "iiUbRbGjGx-n"
      },
      "execution_count": null,
      "outputs": []
    },
    {
      "cell_type": "markdown",
      "source": [
        "## Array"
      ],
      "metadata": {
        "id": "t60AEqPvK4z1"
      }
    },
    {
      "cell_type": "code",
      "execution_count": null,
      "metadata": {
        "id": "mUSMPZKfGkqQ"
      },
      "outputs": [],
      "source": [
        "import numpy as np\n",
        "\n",
        "# Using an array for numerical computation:\n",
        "force_magnitudes = np.array([10, 20, 30, 40, 50])  # uniform data type (integers)\n",
        "resultant_force = np.sum(force_magnitudes)  # easy to compute directly\n",
        "print(\"Resultant Force:\", resultant_force)\n",
        "\n",
        "# Using a list for general data collection:\n",
        "material_properties = ['steel', 7850, 210e9, {'ductility': 'high'}]  # mixed data types\n",
        "print(\"Material Properties:\", material_properties)\n"
      ]
    },
    {
      "cell_type": "markdown",
      "source": [
        "## List"
      ],
      "metadata": {
        "id": "PfOSipSbK6f9"
      }
    },
    {
      "cell_type": "code",
      "source": [
        "import numpy as np\n",
        "\n",
        "# Using an array for numerical computation:\n",
        "force_magnitudes = np.array([10, 20, 30, 40, 50])  # uniform data type (integers)\n",
        "resultant_force = np.sum(force_magnitudes)  # easy to compute directly\n",
        "print(\"Resultant Force:\", resultant_force)\n",
        "\n",
        "# Using a list for general data collection:\n",
        "material_properties = ['steel', 7850, 210e9, {'ductility': 'high'}]  # mixed data types\n",
        "print(\"Material Properties:\", material_properties)\n"
      ],
      "metadata": {
        "id": "wHI_CXV7GrXq"
      },
      "execution_count": null,
      "outputs": []
    },
    {
      "cell_type": "markdown",
      "source": [
        "## Set"
      ],
      "metadata": {
        "id": "FTUW9p5RK8bi"
      }
    },
    {
      "cell_type": "code",
      "source": [
        "# Set of unique component IDs in an assembly\n",
        "component_ids = {'A1', 'A2', 'B1', 'A1'}  # 'A1' is duplicated\n",
        "\n",
        "# Viewing the unique components\n",
        "print(\"Unique component IDs:\", component_ids)\n"
      ],
      "metadata": {
        "id": "qIKw3qTcHCqW"
      },
      "execution_count": null,
      "outputs": []
    },
    {
      "cell_type": "markdown",
      "source": [
        "## Dictionary"
      ],
      "metadata": {
        "id": "44cDG_QsK-Gx"
      }
    },
    {
      "cell_type": "code",
      "source": [
        "# Dictionary to store properties of different materials\n",
        "material_properties = {\n",
        "    'steel': {'density': 7850, 'young_modulus': 210e9},\n",
        "    'aluminum': {'density': 2700, 'young_modulus': 69e9}\n",
        "}\n",
        "\n",
        "# Accessing properties of steel\n",
        "print(\"Steel Properties:\", material_properties['steel'])\n"
      ],
      "metadata": {
        "id": "2xF2cyVTHFRR"
      },
      "execution_count": null,
      "outputs": []
    },
    {
      "cell_type": "markdown",
      "source": [
        "## Create an example CSV file"
      ],
      "metadata": {
        "id": "ncG-m0q_Ky72"
      }
    },
    {
      "cell_type": "code",
      "source": [
        "sensor_data = \"\"\"timestamp,sensor1,sensor2,sensor3\n",
        "2024-05-01 00:00:00, 0.1, 0.3, 0.2\n",
        "2024-05-01 00:00:01, 0.2, 0.4, 0.1\n",
        "2024-05-01 00:00:02, 0.15, 0.35, 0.25\n",
        "2024-05-01 00:00:03, 0.18, 0.38, 0.22\n",
        "2024-05-01 00:00:04, 0.12, 0.32, 0.18\n",
        "\"\"\"\n",
        "with open('validation.csv', 'w') as f:\n",
        "    f.write(sensor_data)"
      ],
      "metadata": {
        "id": "cMiTPiS_Ku2O"
      },
      "execution_count": null,
      "outputs": []
    },
    {
      "cell_type": "markdown",
      "source": [
        "## Get average/mean of sensor1 column"
      ],
      "metadata": {
        "id": "P3j6OO-OLDaD"
      }
    },
    {
      "cell_type": "code",
      "source": [
        "# pip install pandas matplotlib\n",
        "import pandas as pd\n",
        "import matplotlib.pyplot as plt\n",
        "# Read data from a CSV file\n",
        "data = pd.read_csv('validation.csv')\n",
        "print(data)\n",
        "sensor1_mean = data['sensor1'].mean()\n",
        "# Display the result\n",
        "print(f'The mean of sensor1 is: {round(sensor1_mean,2)}')"
      ],
      "metadata": {
        "id": "b9kHdXNKHLSP"
      },
      "execution_count": null,
      "outputs": []
    },
    {
      "cell_type": "markdown",
      "source": [
        "## Plot Data"
      ],
      "metadata": {
        "id": "CmLzJ2cqLXwf"
      }
    },
    {
      "cell_type": "code",
      "source": [
        "%matplotlib inline\n",
        "# Parse 'timestamp' if it's in string format and you want to use it as X-axis\n",
        "data['timestamp'] = pd.to_datetime(data['timestamp'])\n",
        "# Plotting\n",
        "plt.figure(figsize=(10, 6))  # Set the figure size for better readability\n",
        "# Plot each sensor's data with a different line\n",
        "plt.plot(data['timestamp'], data['sensor1'], label='Sensor 1', marker='o')\n",
        "plt.plot(data['timestamp'], data['sensor2'], label='Sensor 2', marker='x')\n",
        "plt.plot(data['timestamp'], data['sensor3'], label='Sensor 3', marker='s')\n",
        "# Adding titles and labels\n",
        "plt.title('Sensor Readings Over Time')\n",
        "plt.xlabel('Timestamp')\n",
        "plt.ylabel('Sensor Values')\n",
        "plt.legend()  # Show legends\n",
        "# Display the plot\n",
        "plt.grid(True)  # Add grid for easier readability\n",
        "plt.show()\n"
      ],
      "metadata": {
        "id": "T0d0uDjTHOO5"
      },
      "execution_count": null,
      "outputs": []
    },
    {
      "cell_type": "markdown",
      "source": [
        " ## Classes and Objects"
      ],
      "metadata": {
        "id": "QgPqVeF8KmSk"
      }
    },
    {
      "cell_type": "code",
      "source": [
        "class Gear:\n",
        "    def __init__(self, teeth, material):\n",
        "        self.teeth = teeth\n",
        "        self.material = material\n",
        "\n",
        "    def rotate(self, revolutions):\n",
        "        print(f\"Rotating {revolutions} revolutions with {self.teeth} teeth made of {self.material}\")\n",
        "\n",
        "# Creating an object of Gear\n",
        "gear1 = Gear(40, 'Steel')\n",
        "gear1.rotate(5)\n"
      ],
      "metadata": {
        "id": "J8X77vxiII4w"
      },
      "execution_count": null,
      "outputs": []
    },
    {
      "cell_type": "markdown",
      "source": [
        "## Inheritance"
      ],
      "metadata": {
        "id": "I0cxnBJyLfjW"
      }
    },
    {
      "cell_type": "code",
      "source": [
        "class MachineComponent:\n",
        "    def __init__(self, material):\n",
        "        self.material = material\n",
        "\n",
        "    def display_material(self):\n",
        "        print(f\"Component material: {self.material}\")\n",
        "\n",
        "class Bearing(MachineComponent):  # Inherits from MachineComponent\n",
        "    def __init__(self, material, bearing_type):\n",
        "        super().__init__(material)\n",
        "        self.bearing_type = bearing_type\n",
        "\n",
        "    def display_info(self):\n",
        "        print(f\"Bearing type: {self.bearing_type}, Material: {self.material}\")\n",
        "\n",
        "# Creating an object of Bearing\n",
        "bearing1 = Bearing('Ceramic', 'Ball')\n",
        "bearing1.display_info()\n"
      ],
      "metadata": {
        "id": "EG1kgwxzKhLH"
      },
      "execution_count": null,
      "outputs": []
    },
    {
      "cell_type": "markdown",
      "source": [
        "## Serial Python Script for Factorial Computation"
      ],
      "metadata": {
        "id": "ssZxUYRZO2fN"
      }
    },
    {
      "cell_type": "code",
      "source": [
        "import math\n",
        "import time\n",
        "\n",
        "def compute_factorial(number):\n",
        "    result = math.factorial(number)\n",
        "    print(f\"The factorial of {number} is {result}\")\n",
        "    return result\n",
        "\n",
        "def serial_factorial(numbers):\n",
        "    results = []\n",
        "    for number in numbers:\n",
        "        results.append(compute_factorial(number))\n",
        "    return results\n",
        "\n",
        "if __name__ == '__main__':\n",
        "    numbers = [5, 7, 9, 10, 12, 15, 18, 20]  # List of numbers to calculate factorial\n",
        "    start_time = time.time()\n",
        "    results = serial_factorial(numbers)\n",
        "    end_time = time.time()\n",
        "    #print(\"Factorial results:\", results)\n",
        "    print(f\"Time taken for serial computation: {end_time - start_time} seconds\")\n"
      ],
      "metadata": {
        "id": "38Z3c7ehO4BN"
      },
      "execution_count": null,
      "outputs": []
    },
    {
      "cell_type": "markdown",
      "source": [
        "## Parallel Python Script for Factorial Computation"
      ],
      "metadata": {
        "id": "r3tGNQ_hO5zz"
      }
    },
    {
      "cell_type": "code",
      "source": [
        "from multiprocessing import Pool\n",
        "import math\n",
        "import time\n",
        "\n",
        "def compute_factorial(number):\n",
        "    return f\"The factorial of {number} is {math.factorial(number)}\"\n",
        "\n",
        "def parallel_factorial(numbers):\n",
        "    pool = Pool(processes=2)  # Creates a pool of 2 worker processes\n",
        "    results = pool.map(compute_factorial, numbers)\n",
        "    pool.close()  # No more tasks\n",
        "    pool.join()   # Wait for completion\n",
        "    return results\n",
        "\n",
        "if __name__ == '__main__':\n",
        "    numbers = [5, 7, 9, 10, 12, 15, 18, 20]\n",
        "    start_time = time.time()\n",
        "    results = parallel_factorial(numbers)\n",
        "    end_time = time.time()\n",
        "    for result in results:\n",
        "        print(result)\n",
        "    print(f\"Time taken for parallel computation: {end_time - start_time} seconds\")\n",
        "    print(\"Number of CPUs:\", multiprocessing.cpu_count())\n"
      ],
      "metadata": {
        "id": "zqHeHycePASB"
      },
      "execution_count": null,
      "outputs": []
    },
    {
      "cell_type": "markdown",
      "source": [
        "## CPU vs GPU Computing"
      ],
      "metadata": {
        "id": "dlhtlVdERQmD"
      }
    },
    {
      "cell_type": "code",
      "source": [
        "!pip install -q pycuda\n"
      ],
      "metadata": {
        "id": "UEvTgTGSRWZD"
      },
      "execution_count": null,
      "outputs": []
    },
    {
      "cell_type": "markdown",
      "source": [
        "Computation of the square of a large array using both the CPU and GPU"
      ],
      "metadata": {
        "id": "Vg8UHa-jRss0"
      }
    },
    {
      "cell_type": "code",
      "source": [
        "import numpy as np\n",
        "import pycuda.autoinit\n",
        "import pycuda.driver as drv\n",
        "from pycuda.compiler import SourceModule\n",
        "import time\n",
        "\n",
        "def cpu_compute_squares(data):\n",
        "    \"\"\" Compute squares using the CPU \"\"\"\n",
        "    return data**2\n",
        "\n",
        "# For enabling GPU on google colab,  Edit > Notebook settings > T4GPU\n",
        "def gpu_compute_squares(data):\n",
        "    \"\"\" Compute squares using the GPU \"\"\"\n",
        "    mod = SourceModule(\"\"\"\n",
        "    __global__ void compute_squares(float *dest, float *a)\n",
        "    {\n",
        "        const int i = threadIdx.x + blockDim.x * blockIdx.x;\n",
        "        dest[i] = a[i] * a[i];\n",
        "    }\n",
        "    \"\"\")\n",
        "    compute_squares = mod.get_function(\"compute_squares\")\n",
        "\n",
        "    dest = np.empty_like(data)\n",
        "    compute_squares(\n",
        "        drv.Out(dest), drv.In(data),\n",
        "        block=(1024, 1, 1), grid=(len(data) // 1024, 1)\n",
        "    )\n",
        "    return dest\n",
        "\n",
        "if __name__ == \"__main__\":\n",
        "    # Generate large array of random floats\n",
        "    data = np.random.randn(10000000).astype(np.float32)\n",
        "\n",
        "    # Compute squares on CPU\n",
        "    start_time = time.time()\n",
        "    cpu_result = cpu_compute_squares(data)\n",
        "    cpu_time = time.time() - start_time\n",
        "    print(\"CPU computation time:\", cpu_time)\n",
        "\n",
        "    # Compute squares on GPU\n",
        "    start_time = time.time()\n",
        "    gpu_result = gpu_compute_squares(data)\n",
        "    gpu_time = time.time() - start_time\n",
        "    print(\"GPU computation time:\", gpu_time)\n",
        "\n",
        "    # # Check if the results are the same (within a tolerance)\n",
        "    # if np.allclose(cpu_result, gpu_result):\n",
        "    #     print(\"The results are the same!\")\n",
        "    # else:\n",
        "    #     print(\"The results differ!\")\n",
        "\n"
      ],
      "metadata": {
        "id": "mc688OPlPiDz"
      },
      "execution_count": null,
      "outputs": []
    },
    {
      "cell_type": "code",
      "source": [
        "print(cpu_result[0:10])"
      ],
      "metadata": {
        "id": "SLZL-jWyShaH"
      },
      "execution_count": null,
      "outputs": []
    },
    {
      "cell_type": "code",
      "source": [
        "print(gpu_result[0:10])"
      ],
      "metadata": {
        "id": "hVaK-Ai_Six7"
      },
      "execution_count": null,
      "outputs": []
    },
    {
      "cell_type": "code",
      "source": [],
      "metadata": {
        "id": "4vyD-baLbrQp"
      },
      "execution_count": null,
      "outputs": []
    },
    {
      "cell_type": "markdown",
      "source": [
        "## Solve a simple ordinary differential equation (ODE) representing a damped harmonic oscillator"
      ],
      "metadata": {
        "id": "W-oqbUs5bsJS"
      }
    },
    {
      "cell_type": "code",
      "source": [
        "import numpy as np\n",
        "from scipy.integrate import odeint\n",
        "import matplotlib.pyplot as plt\n",
        "# Function that returns the derivatives of the state vector [x, v]\n",
        "def damped_harmonic_oscillator(state, t, gamma, omega):\n",
        "    x, v = state\n",
        "    dxdt = v\n",
        "    dvdt = -2 * gamma * omega * v - omega**2 * x\n",
        "    return [dxdt, dvdt]\n",
        "# Parameters\n",
        "gamma = 0.1  # Damping coefficient\n",
        "omega = 2.0  # Natural frequency\n",
        "# Initial conditions\n",
        "x0 = 1.0     # Initial displacement\n",
        "v0 = 0.0     # Initial velocity\n",
        "state0 = [x0, v0]\n",
        "# Time points to solve the ODE\n",
        "t = np.linspace(0, 10, 1000)\n",
        "# Solve the ODE\n",
        "state = odeint(damped_harmonic_oscillator, state0, t, args=(gamma, omega))\n",
        "# Extract displacement and velocity from the state\n",
        "x = state[:, 0]\n",
        "v = state[:, 1]\n",
        "# Plot the results\n",
        "plt.figure(figsize=(10, 6))\n",
        "plt.plot(t, x, label='Displacement (x)')\n",
        "plt.plot(t, v, label='Velocity (v)')\n",
        "plt.xlabel('Time')\n",
        "plt.ylabel('Amplitude')\n",
        "plt.title('Damped Harmonic Oscillator')\n",
        "plt.legend()\n",
        "plt.grid(True)\n",
        "plt.show()\n"
      ],
      "metadata": {
        "id": "mBLOG8K-bbTE"
      },
      "execution_count": null,
      "outputs": []
    },
    {
      "cell_type": "markdown",
      "source": [
        " ## Solve the one-dimensional heat equation with ODEINT"
      ],
      "metadata": {
        "id": "zVmi93qdc2Zk"
      }
    },
    {
      "cell_type": "code",
      "source": [
        "import numpy as np\n",
        "from scipy.integrate import odeint\n",
        "import matplotlib.pyplot as plt\n",
        "# Parameters\n",
        "L = 10.0          # length of the rod\n",
        "nx = 21           # number of spatial points\n",
        "alpha = 0.01      # thermal diffusivity of the rod\n",
        "dx = L / (nx - 1) # spatial step size\n",
        "# Initial conditions (e.g., linear temp gradient from left to right, ends at 0)\n",
        "x = np.linspace(0, L, nx)\n",
        "u0 = np.sin(np.pi * x / L) * 100  # Initial condition, sine wave scaled\n",
        "# Boundary conditions\n",
        "def apply_boundary_conditions(u):\n",
        "    u[0], u[-1] = 0, 0  # Fixed temperature at both ends\n",
        "    return u\n",
        "# Function to return dudt for odeint\n",
        "def heat_eq(u, t):\n",
        "    dudt = np.zeros_like(u)\n",
        "    # Finite difference method, internal nodes\n",
        "    for i in range(1, nx - 1):\n",
        "        dudt[i] = alpha * (u[i + 1] - 2 * u[i] + u[i - 1]) / dx**2\n",
        "    # Apply boundary conditions\n",
        "    dudt = apply_boundary_conditions(dudt)\n",
        "    return dudt\n",
        "\n",
        "# Time points to solve the ODE\n",
        "t = np.linspace(0, 10, 100)  # From 0 to 10 seconds\n",
        "\n",
        "# Solve ODE\n",
        "sol = odeint(heat_eq, u0, t)\n",
        "\n",
        "# Plot results\n",
        "for i in range(0, len(t), 10):  # Plot every 10th time step\n",
        "    plt.plot(x, sol[i, :], label=f't={t[i]:.1f}s')\n",
        "\n",
        "plt.title('Temperature distribution in the rod over time')\n",
        "plt.xlabel('Position along the rod (m)')\n",
        "plt.ylabel('Temperature (C)')\n",
        "plt.legend()\n",
        "plt.show()\n"
      ],
      "metadata": {
        "id": "O-mwX20_Y8um"
      },
      "execution_count": null,
      "outputs": []
    },
    {
      "cell_type": "markdown",
      "source": [
        "# Solve the two-dimensional heat equation with ODEINT"
      ],
      "metadata": {
        "id": "CIRJl0xOetPO"
      }
    },
    {
      "cell_type": "code",
      "source": [
        "import numpy as np\n",
        "from scipy.integrate import odeint\n",
        "import matplotlib.pyplot as plt\n",
        "# Parameters\n",
        "Lx, Ly = 10.0, 10.0  # dimensions of the grid\n",
        "nx, ny = 21, 21       # number of spatial points in each dimension\n",
        "alpha = 0.01          # thermal diffusivity of the material\n",
        "dx = Lx / (nx - 1)    # spatial step size in x\n",
        "dy = Ly / (ny - 1)    # spatial step size in y\n",
        "# Initial conditions (e.g., peak in the center)\n",
        "x = np.linspace(0, Lx, nx)\n",
        "y = np.linspace(0, Ly, ny)\n",
        "X, Y = np.meshgrid(x, y)\n",
        "u0 = np.sin(np.pi * X / Lx) * np.sin(np.pi * Y / Ly) * 100\n",
        "# Flatten the initial conditions for odeint\n",
        "u0 = u0.flatten()\n",
        "# Function to apply boundary conditions\n",
        "def apply_boundary_conditions(u):\n",
        "    u = u.reshape((ny, nx))\n",
        "    u[0, :] = u[-1, :] = u[:, 0] = u[:, -1] = 0  # Zero temperature at boundaries\n",
        "    return u.flatten()\n",
        "# Function to return dudt for odeint\n",
        "def heat_eq(u, t):\n",
        "    u = u.reshape((ny, nx))\n",
        "    dudt = np.zeros_like(u)\n",
        "    # Finite difference method, internal nodes\n",
        "    for i in range(1, nx-1):\n",
        "        for j in range(1, ny-1):\n",
        "            dudt[j, i] = alpha * ((u[j, i+1] - 2*u[j, i] + u[j, i-1]) / dx**2 +\n",
        "                                  (u[j+1, i] - 2*u[j, i] + u[j-1, i]) / dy**2)\n",
        "    # Apply boundary conditions\n",
        "    dudt = apply_boundary_conditions(dudt)\n",
        "    return dudt\n",
        "# Time points to solve the ODE\n",
        "t = np.linspace(0, 1, 100)  # Time range\n",
        "# Solve ODE\n",
        "sol = odeint(heat_eq, u0, t)\n",
        "# Plot results at the final time step\n",
        "final_temp_distribution = sol[-1, :].reshape((ny, nx))\n",
        "plt.figure(figsize=(8, 6))\n",
        "plt.contourf(X, Y, final_temp_distribution, levels=50, cmap='hot')\n",
        "plt.colorbar()\n",
        "plt.title('Temperature distribution in the 2D domain')\n",
        "plt.xlabel('X position')\n",
        "plt.ylabel('Y position')\n",
        "plt.show()\n"
      ],
      "metadata": {
        "id": "Eem7ERUqdAFp"
      },
      "execution_count": null,
      "outputs": []
    },
    {
      "cell_type": "markdown",
      "source": [
        "## Euler-Bernoulli beam equation"
      ],
      "metadata": {
        "id": "T4Y80VY_gh0c"
      }
    },
    {
      "cell_type": "code",
      "source": [
        "import numpy as np\n",
        "import matplotlib.pyplot as plt\n",
        "\n",
        "# Parameters\n",
        "L = 10            # Length of the beam\n",
        "E = 210e9         # Young's modulus (Pa) for steel\n",
        "I = 1e-4          # Moment of inertia (m^4)\n",
        "q = 1000          # Uniform load (N/m)\n",
        "nx = 100          # Number of discretization points\n",
        "dx = L / (nx - 1) # Spatial step size\n",
        "\n",
        "# Create grid\n",
        "x = np.linspace(0, L, nx)\n",
        "\n",
        "# Setup the coefficient matrix\n",
        "A = np.zeros((nx, nx))\n",
        "b = np.full((nx,), -q / (E * I) * dx**2)\n",
        "\n",
        "# Boundary conditions\n",
        "# w(0) = w(L) = 0 and w''(0) = w''(L) = 0 implies second row and second last row handle derivatives\n",
        "A[0, 0] = A[-1, -1] = 1\n",
        "b[0] = b[-1] = 0  # Fixed ends\n",
        "for i in range(1, nx-1):\n",
        "    A[i, i-1] = A[i, i+1] = 1\n",
        "    A[i, i] = -4\n",
        "A[1, 0] = A[1, 2] = A[-2, -3] = A[-2, -1] = 2\n",
        "A[1, 1] = A[-2, -2] = -5\n",
        "\n",
        "# Solve the system of equations\n",
        "w = np.linalg.solve(A, b)\n",
        "\n",
        "# Plot the deflection curve\n",
        "plt.figure(figsize=(10, 6))\n",
        "plt.plot(x, w, label='Beam Deflection')\n",
        "plt.title('Deflection of a uniformly loaded beam')\n",
        "plt.xlabel('Position along the beam (m)')\n",
        "plt.ylabel('Deflection (m)')\n",
        "plt.grid(True)\n",
        "plt.legend()\n",
        "plt.show()\n"
      ],
      "metadata": {
        "id": "CEMvYYn0ejCk"
      },
      "execution_count": null,
      "outputs": []
    },
    {
      "cell_type": "markdown",
      "source": [
        "Solving the two-dimensional Laplace equation for steady-state heat distribution in a rectangular plate with specified boundary conditions. This example is common in heat transfer studies where you need to find the temperature distribution within a body, assuming no internal heat generation and steady-state conditions."
      ],
      "metadata": {
        "id": "aJvJ8Cumg9rK"
      }
    },
    {
      "cell_type": "code",
      "source": [
        "import numpy as np\n",
        "import matplotlib.pyplot as plt\n",
        "# Parameters\n",
        "a = 1.0             # Length of the square domain (m)\n",
        "nx, ny = 50, 50     # Number of points in the x and y directions\n",
        "dx = dy = a / (nx - 1)  # Distance between adjacent nodes\n",
        "\n",
        "# Initialize the temperature array\n",
        "T = np.zeros((ny, nx))\n",
        "\n",
        "# Boundary conditions\n",
        "T0 = 0.0  # Temperature at the bottom\n",
        "Ta = 100.0  # Temperature at the top\n",
        "T[:, 0] = np.linspace(T0, Ta, ny)  # Left side varies linearly\n",
        "T[:, -1] = np.linspace(T0, Ta, ny)  # Right side varies linearly\n",
        "T[0, :] = T0  # Bottom is constant\n",
        "T[-1, :] = np.linspace(T0, Ta, nx)  # Top varies linearly\n",
        "\n",
        "# Iterative solver parameters\n",
        "max_iter = 1000\n",
        "tolerance = 1e-4\n",
        "\n",
        "# Iterative solution using the Gauss-Seidel method\n",
        "for iteration in range(max_iter):\n",
        "    T_old = T.copy()\n",
        "\n",
        "    # Update the temperature at each internal node\n",
        "    for i in range(1, nx-1):\n",
        "        for j in range(1, ny-1):\n",
        "            T[j, i] = 0.25 * (T[j+1, i] + T[j-1, i] + T[j, i+1] + T[j, i-1])\n",
        "\n",
        "    # Convergence check\n",
        "    if np.linalg.norm(T - T_old, ord=np.inf) < tolerance:\n",
        "        print(f\"Convergence reached after {iteration + 1} iterations.\")\n",
        "        break\n",
        "\n",
        "# Plotting\n",
        "plt.figure(figsize=(8, 6))\n",
        "plt.contourf(T, levels=50, cmap='hot')\n",
        "plt.colorbar(label='Temperature (°C)')\n",
        "plt.title('Steady-State Temperature Distribution in a Plate')\n",
        "plt.xlabel('X Dimension')\n",
        "plt.ylabel('Y Dimension')\n",
        "plt.show()\n"
      ],
      "metadata": {
        "id": "dx8QnzE3gdPz"
      },
      "execution_count": null,
      "outputs": []
    },
    {
      "cell_type": "code",
      "source": [
        "import numpy as np\n",
        "import matplotlib.pyplot as plt\n",
        "\n",
        "# Define a matrix representing the system, e.g., a stiffness matrix of a mass-spring system\n",
        "# Consider a simple symmetric matrix for demonstration\n",
        "A = np.array([[2, -1, 0],\n",
        "              [-1, 2, -1],\n",
        "              [0, -1, 2]])\n",
        "\n",
        "# Calculate eigenvalues and eigenvectors\n",
        "eigenvalues, eigenvectors = np.linalg.eig(A)\n",
        "\n",
        "# Print eigenvalues and eigenvectors\n",
        "print(\"Eigenvalues of the matrix:\")\n",
        "print(eigenvalues)\n",
        "print(\"\\nEigenvectors of the matrix:\")\n",
        "print(eigenvectors)\n",
        "\n",
        "# Plotting the eigenvectors\n",
        "fig, axes = plt.subplots(1, len(eigenvectors), figsize=(12, 4))\n",
        "x = np.array([1, 2, 3])  # Node positions for plotting\n",
        "\n",
        "for i in range(len(eigenvectors)):\n",
        "    axes[i].stem(x, eigenvectors[:, i], basefmt=\" \", use_line_collection=True)\n",
        "    axes[i].set_title(f'Mode {i+1} (Eigenvalue: {eigenvalues[i]:.2f})')\n",
        "    axes[i].set_ylim([-1, 1])\n",
        "    axes[i].set_xlabel('Element Index')\n",
        "    axes[i].set_ylabel('Amplitude')\n",
        "\n",
        "axes[0].set_ylabel('Amplitude of Eigenvectors')\n",
        "plt.suptitle('Eigenvectors of the Matrix (Vibration Modes)')\n",
        "plt.tight_layout()\n",
        "plt.show()\n"
      ],
      "metadata": {
        "id": "XJrCImDTg14v"
      },
      "execution_count": null,
      "outputs": []
    },
    {
      "cell_type": "code",
      "source": [],
      "metadata": {
        "id": "T5O26dhli1ga"
      },
      "execution_count": null,
      "outputs": []
    }
  ]
}