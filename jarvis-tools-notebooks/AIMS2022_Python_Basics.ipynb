{
  "cells": [
    {
      "cell_type": "markdown",
      "metadata": {
        "id": "view-in-github",
        "colab_type": "text"
      },
      "source": [
        "<a href=\"https://colab.research.google.com/github/knc6/jarvis-tools-notebooks/blob/master/jarvis-tools-notebooks/AIMS2022_Python_Basics.ipynb\" target=\"_parent\"><img src=\"https://colab.research.google.com/assets/colab-badge.svg\" alt=\"Open In Colab\"/></a>"
      ]
    },
    {
      "cell_type": "markdown",
      "metadata": {
        "id": "CQtxFkfIE6fD"
      },
      "source": [
        "# Python Basics for Machine Learning"
      ]
    },
    {
      "cell_type": "markdown",
      "metadata": {
        "id": "zCWOrnon5JI_"
      },
      "source": [
        "# Table of Contents\n",
        "1. Installing packages (matminer to load JARVIS 3D dataset)\n",
        "2. Data manipulation with ``pandas`` package\n",
        "3. K-means clustering using ``sci-kit learn``\n",
        "4. PCA dimensionality reduction using ``sci-kit learn``\n",
        "5. Plotting results using ``matplotlib``"
      ]
    },
    {
      "cell_type": "markdown",
      "metadata": {
        "id": "V_ztSZ1xg4vr"
      },
      "source": [
        "# Python Basics\n",
        "Python is a highly modular language, which makes the use of external libraries to perform certian operations. We'll first go over the very basics of the pandas and plotly libraries, which will, respectively, be used for data-handling and plotting in the following example.\n",
        "\n",
        "## Data-handling with Pandas\n",
        "Pandas is a Python package that defines the DataFrame object. DataFrames are ideal for reading, writing, storing, and manipulating information in a tabular format (i.e. information labelled by a row index and a column heading).\n",
        "\n",
        "\n",
        "First, we'll fetch the JARVIS-DFT 3D Database, which contains the relaxed structures and DFT properties for about 55,000 compounds using the ``matminer`` Python package. First, we need to install the matminer package using the command below. NOTE: the leading exclamation point (!) indicates that the command should be run as a shell command rather than a Python command."
      ]
    },
    {
      "cell_type": "markdown",
      "metadata": {
        "id": "FpjOyTkAdPrG"
      },
      "source": [
        "Uncomment the necessary lines below if your environment is missing any of [matminer](https://hackingmaterials.lbl.gov/matminer/), jarvis-tools or  Scikit-learn."
      ]
    },
    {
      "cell_type": "code",
      "execution_count": 4,
      "metadata": {
        "id": "XM_PpvugdPrH",
        "outputId": "9cae43c1-72aa-444b-f1a1-43feccbe5267",
        "colab": {
          "base_uri": "https://localhost:8080/"
        }
      },
      "outputs": [
        {
          "output_type": "stream",
          "name": "stdout",
          "text": [
            "Requirement already satisfied: matminer in /usr/local/lib/python3.10/dist-packages (0.9.3)\n",
            "Requirement already satisfied: numpy>=1.23 in /usr/local/lib/python3.10/dist-packages (from matminer) (1.26.4)\n",
            "Requirement already satisfied: requests~=2.31 in /usr/local/lib/python3.10/dist-packages (from matminer) (2.32.3)\n",
            "Requirement already satisfied: pandas<3,>=1.5 in /usr/local/lib/python3.10/dist-packages (from matminer) (2.2.2)\n",
            "Requirement already satisfied: tqdm~=4.66 in /usr/local/lib/python3.10/dist-packages (from matminer) (4.67.1)\n",
            "Requirement already satisfied: pymongo~=4.5 in /usr/local/lib/python3.10/dist-packages (from matminer) (4.10.1)\n",
            "Requirement already satisfied: scikit-learn~=1.3 in /usr/local/lib/python3.10/dist-packages (from matminer) (1.6.1)\n",
            "Requirement already satisfied: sympy~=1.11 in /usr/local/lib/python3.10/dist-packages (from matminer) (1.13.1)\n",
            "Requirement already satisfied: monty>=2023 in /usr/local/lib/python3.10/dist-packages (from matminer) (2025.1.9)\n",
            "Requirement already satisfied: pymatgen>=2023 in /usr/local/lib/python3.10/dist-packages (from matminer) (2025.1.9)\n",
            "Requirement already satisfied: ruamel.yaml in /usr/local/lib/python3.10/dist-packages (from monty>=2023->matminer) (0.18.10)\n",
            "Requirement already satisfied: python-dateutil>=2.8.2 in /usr/local/lib/python3.10/dist-packages (from pandas<3,>=1.5->matminer) (2.8.2)\n",
            "Requirement already satisfied: pytz>=2020.1 in /usr/local/lib/python3.10/dist-packages (from pandas<3,>=1.5->matminer) (2024.2)\n",
            "Requirement already satisfied: tzdata>=2022.7 in /usr/local/lib/python3.10/dist-packages (from pandas<3,>=1.5->matminer) (2024.2)\n",
            "Requirement already satisfied: joblib>=1 in /usr/local/lib/python3.10/dist-packages (from pymatgen>=2023->matminer) (1.4.2)\n",
            "Requirement already satisfied: matplotlib>=3.8 in /usr/local/lib/python3.10/dist-packages (from pymatgen>=2023->matminer) (3.10.0)\n",
            "Requirement already satisfied: networkx>=2.7 in /usr/local/lib/python3.10/dist-packages (from pymatgen>=2023->matminer) (3.4.2)\n",
            "Requirement already satisfied: palettable>=3.3.3 in /usr/local/lib/python3.10/dist-packages (from pymatgen>=2023->matminer) (3.3.3)\n",
            "Requirement already satisfied: plotly>=4.5.0 in /usr/local/lib/python3.10/dist-packages (from pymatgen>=2023->matminer) (5.24.1)\n",
            "Requirement already satisfied: pybtex>=0.24.0 in /usr/local/lib/python3.10/dist-packages (from pymatgen>=2023->matminer) (0.24.0)\n",
            "Requirement already satisfied: scipy>=1.13.0 in /usr/local/lib/python3.10/dist-packages (from pymatgen>=2023->matminer) (1.13.1)\n",
            "Requirement already satisfied: spglib>=2.5.0 in /usr/local/lib/python3.10/dist-packages (from pymatgen>=2023->matminer) (2.5.0)\n",
            "Requirement already satisfied: tabulate>=0.9 in /usr/local/lib/python3.10/dist-packages (from pymatgen>=2023->matminer) (0.9.0)\n",
            "Requirement already satisfied: uncertainties>=3.1.4 in /usr/local/lib/python3.10/dist-packages (from pymatgen>=2023->matminer) (3.2.2)\n",
            "Requirement already satisfied: dnspython<3.0.0,>=1.16.0 in /usr/local/lib/python3.10/dist-packages (from pymongo~=4.5->matminer) (2.7.0)\n",
            "Requirement already satisfied: charset-normalizer<4,>=2 in /usr/local/lib/python3.10/dist-packages (from requests~=2.31->matminer) (3.4.1)\n",
            "Requirement already satisfied: idna<4,>=2.5 in /usr/local/lib/python3.10/dist-packages (from requests~=2.31->matminer) (3.10)\n",
            "Requirement already satisfied: urllib3<3,>=1.21.1 in /usr/local/lib/python3.10/dist-packages (from requests~=2.31->matminer) (2.3.0)\n",
            "Requirement already satisfied: certifi>=2017.4.17 in /usr/local/lib/python3.10/dist-packages (from requests~=2.31->matminer) (2024.12.14)\n",
            "Requirement already satisfied: threadpoolctl>=3.1.0 in /usr/local/lib/python3.10/dist-packages (from scikit-learn~=1.3->matminer) (3.5.0)\n",
            "Requirement already satisfied: mpmath<1.4,>=1.1.0 in /usr/local/lib/python3.10/dist-packages (from sympy~=1.11->matminer) (1.3.0)\n",
            "Requirement already satisfied: contourpy>=1.0.1 in /usr/local/lib/python3.10/dist-packages (from matplotlib>=3.8->pymatgen>=2023->matminer) (1.3.1)\n",
            "Requirement already satisfied: cycler>=0.10 in /usr/local/lib/python3.10/dist-packages (from matplotlib>=3.8->pymatgen>=2023->matminer) (0.12.1)\n",
            "Requirement already satisfied: fonttools>=4.22.0 in /usr/local/lib/python3.10/dist-packages (from matplotlib>=3.8->pymatgen>=2023->matminer) (4.55.3)\n",
            "Requirement already satisfied: kiwisolver>=1.3.1 in /usr/local/lib/python3.10/dist-packages (from matplotlib>=3.8->pymatgen>=2023->matminer) (1.4.8)\n",
            "Requirement already satisfied: packaging>=20.0 in /usr/local/lib/python3.10/dist-packages (from matplotlib>=3.8->pymatgen>=2023->matminer) (24.2)\n",
            "Requirement already satisfied: pillow>=8 in /usr/local/lib/python3.10/dist-packages (from matplotlib>=3.8->pymatgen>=2023->matminer) (11.1.0)\n",
            "Requirement already satisfied: pyparsing>=2.3.1 in /usr/local/lib/python3.10/dist-packages (from matplotlib>=3.8->pymatgen>=2023->matminer) (3.2.1)\n",
            "Requirement already satisfied: tenacity>=6.2.0 in /usr/local/lib/python3.10/dist-packages (from plotly>=4.5.0->pymatgen>=2023->matminer) (9.0.0)\n",
            "Requirement already satisfied: PyYAML>=3.01 in /usr/local/lib/python3.10/dist-packages (from pybtex>=0.24.0->pymatgen>=2023->matminer) (6.0.2)\n",
            "Requirement already satisfied: latexcodec>=1.0.4 in /usr/local/lib/python3.10/dist-packages (from pybtex>=0.24.0->pymatgen>=2023->matminer) (3.0.0)\n",
            "Requirement already satisfied: six in /usr/local/lib/python3.10/dist-packages (from pybtex>=0.24.0->pymatgen>=2023->matminer) (1.17.0)\n",
            "Requirement already satisfied: ruamel.yaml.clib>=0.2.7 in /usr/local/lib/python3.10/dist-packages (from ruamel.yaml->monty>=2023->matminer) (0.2.12)\n",
            "Requirement already satisfied: jarvis-tools in /usr/local/lib/python3.10/dist-packages (2024.10.30)\n",
            "Requirement already satisfied: numpy>=1.20.1 in /usr/local/lib/python3.10/dist-packages (from jarvis-tools) (1.26.4)\n",
            "Requirement already satisfied: scipy>=1.5.0 in /usr/local/lib/python3.10/dist-packages (from jarvis-tools) (1.13.1)\n",
            "Requirement already satisfied: matplotlib>=3.0.0 in /usr/local/lib/python3.10/dist-packages (from jarvis-tools) (3.10.0)\n",
            "Requirement already satisfied: joblib>=0.14.1 in /usr/local/lib/python3.10/dist-packages (from jarvis-tools) (1.4.2)\n",
            "Requirement already satisfied: requests>=2.23.0 in /usr/local/lib/python3.10/dist-packages (from jarvis-tools) (2.32.3)\n",
            "Requirement already satisfied: toolz>=0.9.0 in /usr/local/lib/python3.10/dist-packages (from jarvis-tools) (0.12.1)\n",
            "Requirement already satisfied: xmltodict>=0.11.0 in /usr/local/lib/python3.10/dist-packages (from jarvis-tools) (0.14.2)\n",
            "Requirement already satisfied: tqdm>=4.41.1 in /usr/local/lib/python3.10/dist-packages (from jarvis-tools) (4.67.1)\n",
            "Requirement already satisfied: scikit-learn in /usr/local/lib/python3.10/dist-packages (from jarvis-tools) (1.6.1)\n",
            "Requirement already satisfied: contourpy>=1.0.1 in /usr/local/lib/python3.10/dist-packages (from matplotlib>=3.0.0->jarvis-tools) (1.3.1)\n",
            "Requirement already satisfied: cycler>=0.10 in /usr/local/lib/python3.10/dist-packages (from matplotlib>=3.0.0->jarvis-tools) (0.12.1)\n",
            "Requirement already satisfied: fonttools>=4.22.0 in /usr/local/lib/python3.10/dist-packages (from matplotlib>=3.0.0->jarvis-tools) (4.55.3)\n",
            "Requirement already satisfied: kiwisolver>=1.3.1 in /usr/local/lib/python3.10/dist-packages (from matplotlib>=3.0.0->jarvis-tools) (1.4.8)\n",
            "Requirement already satisfied: packaging>=20.0 in /usr/local/lib/python3.10/dist-packages (from matplotlib>=3.0.0->jarvis-tools) (24.2)\n",
            "Requirement already satisfied: pillow>=8 in /usr/local/lib/python3.10/dist-packages (from matplotlib>=3.0.0->jarvis-tools) (11.1.0)\n",
            "Requirement already satisfied: pyparsing>=2.3.1 in /usr/local/lib/python3.10/dist-packages (from matplotlib>=3.0.0->jarvis-tools) (3.2.1)\n",
            "Requirement already satisfied: python-dateutil>=2.7 in /usr/local/lib/python3.10/dist-packages (from matplotlib>=3.0.0->jarvis-tools) (2.8.2)\n",
            "Requirement already satisfied: charset-normalizer<4,>=2 in /usr/local/lib/python3.10/dist-packages (from requests>=2.23.0->jarvis-tools) (3.4.1)\n",
            "Requirement already satisfied: idna<4,>=2.5 in /usr/local/lib/python3.10/dist-packages (from requests>=2.23.0->jarvis-tools) (3.10)\n",
            "Requirement already satisfied: urllib3<3,>=1.21.1 in /usr/local/lib/python3.10/dist-packages (from requests>=2.23.0->jarvis-tools) (2.3.0)\n",
            "Requirement already satisfied: certifi>=2017.4.17 in /usr/local/lib/python3.10/dist-packages (from requests>=2.23.0->jarvis-tools) (2024.12.14)\n",
            "Requirement already satisfied: threadpoolctl>=3.1.0 in /usr/local/lib/python3.10/dist-packages (from scikit-learn->jarvis-tools) (3.5.0)\n",
            "Requirement already satisfied: six>=1.5 in /usr/local/lib/python3.10/dist-packages (from python-dateutil>=2.7->matplotlib>=3.0.0->jarvis-tools) (1.17.0)\n",
            "Requirement already satisfied: scikit-learn in /usr/local/lib/python3.10/dist-packages (1.6.1)\n",
            "Requirement already satisfied: numpy>=1.19.5 in /usr/local/lib/python3.10/dist-packages (from scikit-learn) (1.26.4)\n",
            "Requirement already satisfied: scipy>=1.6.0 in /usr/local/lib/python3.10/dist-packages (from scikit-learn) (1.13.1)\n",
            "Requirement already satisfied: joblib>=1.2.0 in /usr/local/lib/python3.10/dist-packages (from scikit-learn) (1.4.2)\n",
            "Requirement already satisfied: threadpoolctl>=3.1.0 in /usr/local/lib/python3.10/dist-packages (from scikit-learn) (3.5.0)\n"
          ]
        }
      ],
      "source": [
        "!pip install matminer\n",
        "!pip install -U jarvis-tools\n",
        "!pip install -U scikit-learn"
      ]
    },
    {
      "cell_type": "code",
      "execution_count": 5,
      "metadata": {
        "id": "ez29xlykdPrI"
      },
      "outputs": [],
      "source": [
        "import json\n",
        "import zipfile\n",
        "\n",
        "import requests\n",
        "from matminer.datasets.convenience_loaders import load_jarvis_dft_3d\n",
        "\n",
        "# from jarvis.db.figshare import data\n",
        "from jarvis.core.atoms import Atoms\n",
        "from sklearn.cluster import KMeans\n",
        "from sklearn import preprocessing as pp\n",
        "from sklearn.decomposition import PCA\n",
        "import matplotlib.pyplot as plt\n",
        "import numpy as np\n",
        "\n",
        "%matplotlib inline"
      ]
    },
    {
      "cell_type": "code",
      "execution_count": 6,
      "metadata": {
        "colab": {
          "base_uri": "https://localhost:8080/"
        },
        "id": "1U2AG6Xag_bQ",
        "outputId": "57da85a2-bb09-4a17-d40e-1b2556eabcd5"
      },
      "outputs": [
        {
          "output_type": "stream",
          "name": "stdout",
          "text": [
            "Fetching jarvis_dft_3d.json.gz from https://ndownloader.figshare.com/files/13376507 to ./jarvis_dft_3d.json.gz\n"
          ]
        },
        {
          "output_type": "stream",
          "name": "stderr",
          "text": [
            "Fetching https://ndownloader.figshare.com/files/13376507 in MB: 30.670848MB [00:00, 241.80MB/s]                               \n"
          ]
        }
      ],
      "source": [
        "# NBVAL_IGNORE_OUTPUT\n",
        "\n",
        "dft3d_df = load_jarvis_dft_3d(data_home=\".\")"
      ]
    },
    {
      "cell_type": "markdown",
      "metadata": {
        "id": "TS2aJVrfCYyN"
      },
      "source": [
        "Properties associated with each entry in the JARVIS-DFT 3D materials database."
      ]
    },
    {
      "cell_type": "code",
      "execution_count": 7,
      "metadata": {
        "colab": {
          "base_uri": "https://localhost:8080/"
        },
        "id": "sl7eZ4ltmtBB",
        "outputId": "ca12ca0d-3d2d-4b0a-a60d-a18c1722f4b6"
      },
      "outputs": [
        {
          "output_type": "stream",
          "name": "stdout",
          "text": [
            "Index(['epsilon_x opt', 'epsilon_y opt', 'epsilon_z opt', 'structure',\n",
            "       'e_form', 'shear modulus', 'structure initial', 'jid', 'bulk modulus',\n",
            "       'gap tbmbj', 'epsilon_x tbmbj', 'epsilon_y tbmbj', 'epsilon_z tbmbj',\n",
            "       'mpid', 'gap opt', 'composition'],\n",
            "      dtype='object')\n"
          ]
        }
      ],
      "source": [
        "print(dft3d_df.columns)"
      ]
    },
    {
      "cell_type": "markdown",
      "metadata": {
        "id": "2iA90qjHdPrJ"
      },
      "source": [
        "The `dropna` method drops the rows that contain any NaN (not a number) values."
      ]
    },
    {
      "cell_type": "code",
      "execution_count": 8,
      "metadata": {
        "colab": {
          "base_uri": "https://localhost:8080/",
          "height": 921
        },
        "id": "VwcZc_PLmvjw",
        "outputId": "08f313e3-c312-4ade-ec55-20fa7e3b5ede"
      },
      "outputs": [
        {
          "output_type": "execute_result",
          "data": {
            "text/plain": [
              "     epsilon_x opt  epsilon_y opt  epsilon_z opt  \\\n",
              "75         21.0673        29.1228        17.6066   \n",
              "80         13.8023        38.1854        35.5515   \n",
              "83          6.3933         6.9466         6.3796   \n",
              "92          6.0838         6.0838         6.5652   \n",
              "95          7.0316         6.3127         5.2274   \n",
              "96          4.6738         4.7460         4.7722   \n",
              "99          5.0636         5.0798         4.9797   \n",
              "103         2.8447         2.9459         2.7976   \n",
              "108         4.9033         5.1118         5.1243   \n",
              "115        16.9750        14.0779        15.5189   \n",
              "\n",
              "                                             structure  e_form  shear modulus  \\\n",
              "75   [[3.1506963  4.30596127 3.56982179] As, [0.384...   0.025         19.993   \n",
              "80   [[0.37213617 3.67987527 0.87369073] H, [1.4889...  -1.184         25.667   \n",
              "83   [[ 0.92796672  1.82915421 10.16747299] O, [2.7...  -2.086         52.420   \n",
              "92   [[0. 0. 0.] Ag, [2.22040369 2.22040369 0.     ...  -0.204          5.947   \n",
              "95   [[0.         2.06587432 0.88869064] Zr, [1.814...  -1.768         37.120   \n",
              "96   [[1.41349448 4.71501305 5.06256213] In, [0.289...  -0.830          9.047   \n",
              "99   [[1.50785766 1.02477434 2.93571664] Y, [ 7.555...  -1.473          7.687   \n",
              "103  [[1.17206677 8.41802227 0.93781225] Al, [0.259...  -2.430         73.973   \n",
              "108  [[ 2.54192839 -1.33085318 -0.81347227] Bi, [4....  -1.969         38.960   \n",
              "115  [[-1.3982931  -1.34418681 -3.44903549] Cu, [ 0...  -0.716         43.800   \n",
              "\n",
              "                                     structure initial          jid  \\\n",
              "75   [[3.17888147 4.36479751 3.69558323] As, [0.381...  JVASP-11997   \n",
              "80   [[0.34436223 3.69323659 0.87470146] H, [1.4990...  JVASP-12002   \n",
              "83   [[ 0.938753    1.84002706 10.93783201] O, [2.8...  JVASP-12010   \n",
              "92   [[0. 0. 0.] Ag, [2.2945515 2.2945515 0.       ...  JVASP-12023   \n",
              "95   [[0.         2.085838   0.88566666] Zr, [1.819...  JVASP-12027   \n",
              "96   [[8.49448596 4.73948454 6.27818672] In, [0.290...  JVASP-12028   \n",
              "99   [[1.646224   1.11881123 3.20510836] Y, [ 8.247...  JVASP-12033   \n",
              "103  [[0.2515101  8.52548747 0.940367  ] Al, [0.057...  JVASP-12038   \n",
              "108  [[ 2.58162693 -1.32106185 -0.80748743] Bi, [4....  JVASP-12051   \n",
              "115  [[-1.3943665  -1.40808459 -3.46870699] Cu, [ 0...  JVASP-12059   \n",
              "\n",
              "     bulk modulus  gap tbmbj  epsilon_x tbmbj  epsilon_y tbmbj  \\\n",
              "75         34.556     0.6495          15.0619          14.9875   \n",
              "80         78.478     0.0083          16.5818          61.5222   \n",
              "83         75.067     2.4642           5.2402           5.8492   \n",
              "92         17.478     2.7025           4.5320           4.5323   \n",
              "95         54.633     2.2441           6.0366           5.5260   \n",
              "96         16.378     3.7113           3.6685           3.7637   \n",
              "99         12.578     2.8863           5.5443           5.5399   \n",
              "103       110.656     6.9515           2.4188           2.4769   \n",
              "108        96.300     4.4734           3.6415           3.7771   \n",
              "115        80.133     0.0117          17.6582          21.6400   \n",
              "\n",
              "     epsilon_z tbmbj       mpid  gap opt    composition  \n",
              "75           12.4788     mp-158   0.0221           (As)  \n",
              "80           53.1874   mp-24242   0.0038  (H, O, F, Cu)  \n",
              "83            5.3897  mp-510584   1.9202        (O, Mo)  \n",
              "92            4.9101  mp-567809   1.2599        (Ag, I)  \n",
              "95            4.6886  mp-570157   1.8723    (Zr, Br, N)  \n",
              "96            3.7977  mp-570219   2.3104       (In, Br)  \n",
              "99            5.5646  mp-571442   2.6760         (Y, I)  \n",
              "103           2.3750  mp-625055   5.1686     (Al, H, O)  \n",
              "108           3.7842  mp-759883   2.9829     (Bi, O, F)  \n",
              "115          18.3388  mp-996956   0.0087     (Cu, H, O)  "
            ],
            "text/html": [
              "\n",
              "  <div id=\"df-bfcc8d6c-039c-4259-9442-a8c565114c0d\" class=\"colab-df-container\">\n",
              "    <div>\n",
              "<style scoped>\n",
              "    .dataframe tbody tr th:only-of-type {\n",
              "        vertical-align: middle;\n",
              "    }\n",
              "\n",
              "    .dataframe tbody tr th {\n",
              "        vertical-align: top;\n",
              "    }\n",
              "\n",
              "    .dataframe thead th {\n",
              "        text-align: right;\n",
              "    }\n",
              "</style>\n",
              "<table border=\"1\" class=\"dataframe\">\n",
              "  <thead>\n",
              "    <tr style=\"text-align: right;\">\n",
              "      <th></th>\n",
              "      <th>epsilon_x opt</th>\n",
              "      <th>epsilon_y opt</th>\n",
              "      <th>epsilon_z opt</th>\n",
              "      <th>structure</th>\n",
              "      <th>e_form</th>\n",
              "      <th>shear modulus</th>\n",
              "      <th>structure initial</th>\n",
              "      <th>jid</th>\n",
              "      <th>bulk modulus</th>\n",
              "      <th>gap tbmbj</th>\n",
              "      <th>epsilon_x tbmbj</th>\n",
              "      <th>epsilon_y tbmbj</th>\n",
              "      <th>epsilon_z tbmbj</th>\n",
              "      <th>mpid</th>\n",
              "      <th>gap opt</th>\n",
              "      <th>composition</th>\n",
              "    </tr>\n",
              "  </thead>\n",
              "  <tbody>\n",
              "    <tr>\n",
              "      <th>75</th>\n",
              "      <td>21.0673</td>\n",
              "      <td>29.1228</td>\n",
              "      <td>17.6066</td>\n",
              "      <td>[[3.1506963  4.30596127 3.56982179] As, [0.384...</td>\n",
              "      <td>0.025</td>\n",
              "      <td>19.993</td>\n",
              "      <td>[[3.17888147 4.36479751 3.69558323] As, [0.381...</td>\n",
              "      <td>JVASP-11997</td>\n",
              "      <td>34.556</td>\n",
              "      <td>0.6495</td>\n",
              "      <td>15.0619</td>\n",
              "      <td>14.9875</td>\n",
              "      <td>12.4788</td>\n",
              "      <td>mp-158</td>\n",
              "      <td>0.0221</td>\n",
              "      <td>(As)</td>\n",
              "    </tr>\n",
              "    <tr>\n",
              "      <th>80</th>\n",
              "      <td>13.8023</td>\n",
              "      <td>38.1854</td>\n",
              "      <td>35.5515</td>\n",
              "      <td>[[0.37213617 3.67987527 0.87369073] H, [1.4889...</td>\n",
              "      <td>-1.184</td>\n",
              "      <td>25.667</td>\n",
              "      <td>[[0.34436223 3.69323659 0.87470146] H, [1.4990...</td>\n",
              "      <td>JVASP-12002</td>\n",
              "      <td>78.478</td>\n",
              "      <td>0.0083</td>\n",
              "      <td>16.5818</td>\n",
              "      <td>61.5222</td>\n",
              "      <td>53.1874</td>\n",
              "      <td>mp-24242</td>\n",
              "      <td>0.0038</td>\n",
              "      <td>(H, O, F, Cu)</td>\n",
              "    </tr>\n",
              "    <tr>\n",
              "      <th>83</th>\n",
              "      <td>6.3933</td>\n",
              "      <td>6.9466</td>\n",
              "      <td>6.3796</td>\n",
              "      <td>[[ 0.92796672  1.82915421 10.16747299] O, [2.7...</td>\n",
              "      <td>-2.086</td>\n",
              "      <td>52.420</td>\n",
              "      <td>[[ 0.938753    1.84002706 10.93783201] O, [2.8...</td>\n",
              "      <td>JVASP-12010</td>\n",
              "      <td>75.067</td>\n",
              "      <td>2.4642</td>\n",
              "      <td>5.2402</td>\n",
              "      <td>5.8492</td>\n",
              "      <td>5.3897</td>\n",
              "      <td>mp-510584</td>\n",
              "      <td>1.9202</td>\n",
              "      <td>(O, Mo)</td>\n",
              "    </tr>\n",
              "    <tr>\n",
              "      <th>92</th>\n",
              "      <td>6.0838</td>\n",
              "      <td>6.0838</td>\n",
              "      <td>6.5652</td>\n",
              "      <td>[[0. 0. 0.] Ag, [2.22040369 2.22040369 0.     ...</td>\n",
              "      <td>-0.204</td>\n",
              "      <td>5.947</td>\n",
              "      <td>[[0. 0. 0.] Ag, [2.2945515 2.2945515 0.       ...</td>\n",
              "      <td>JVASP-12023</td>\n",
              "      <td>17.478</td>\n",
              "      <td>2.7025</td>\n",
              "      <td>4.5320</td>\n",
              "      <td>4.5323</td>\n",
              "      <td>4.9101</td>\n",
              "      <td>mp-567809</td>\n",
              "      <td>1.2599</td>\n",
              "      <td>(Ag, I)</td>\n",
              "    </tr>\n",
              "    <tr>\n",
              "      <th>95</th>\n",
              "      <td>7.0316</td>\n",
              "      <td>6.3127</td>\n",
              "      <td>5.2274</td>\n",
              "      <td>[[0.         2.06587432 0.88869064] Zr, [1.814...</td>\n",
              "      <td>-1.768</td>\n",
              "      <td>37.120</td>\n",
              "      <td>[[0.         2.085838   0.88566666] Zr, [1.819...</td>\n",
              "      <td>JVASP-12027</td>\n",
              "      <td>54.633</td>\n",
              "      <td>2.2441</td>\n",
              "      <td>6.0366</td>\n",
              "      <td>5.5260</td>\n",
              "      <td>4.6886</td>\n",
              "      <td>mp-570157</td>\n",
              "      <td>1.8723</td>\n",
              "      <td>(Zr, Br, N)</td>\n",
              "    </tr>\n",
              "    <tr>\n",
              "      <th>96</th>\n",
              "      <td>4.6738</td>\n",
              "      <td>4.7460</td>\n",
              "      <td>4.7722</td>\n",
              "      <td>[[1.41349448 4.71501305 5.06256213] In, [0.289...</td>\n",
              "      <td>-0.830</td>\n",
              "      <td>9.047</td>\n",
              "      <td>[[8.49448596 4.73948454 6.27818672] In, [0.290...</td>\n",
              "      <td>JVASP-12028</td>\n",
              "      <td>16.378</td>\n",
              "      <td>3.7113</td>\n",
              "      <td>3.6685</td>\n",
              "      <td>3.7637</td>\n",
              "      <td>3.7977</td>\n",
              "      <td>mp-570219</td>\n",
              "      <td>2.3104</td>\n",
              "      <td>(In, Br)</td>\n",
              "    </tr>\n",
              "    <tr>\n",
              "      <th>99</th>\n",
              "      <td>5.0636</td>\n",
              "      <td>5.0798</td>\n",
              "      <td>4.9797</td>\n",
              "      <td>[[1.50785766 1.02477434 2.93571664] Y, [ 7.555...</td>\n",
              "      <td>-1.473</td>\n",
              "      <td>7.687</td>\n",
              "      <td>[[1.646224   1.11881123 3.20510836] Y, [ 8.247...</td>\n",
              "      <td>JVASP-12033</td>\n",
              "      <td>12.578</td>\n",
              "      <td>2.8863</td>\n",
              "      <td>5.5443</td>\n",
              "      <td>5.5399</td>\n",
              "      <td>5.5646</td>\n",
              "      <td>mp-571442</td>\n",
              "      <td>2.6760</td>\n",
              "      <td>(Y, I)</td>\n",
              "    </tr>\n",
              "    <tr>\n",
              "      <th>103</th>\n",
              "      <td>2.8447</td>\n",
              "      <td>2.9459</td>\n",
              "      <td>2.7976</td>\n",
              "      <td>[[1.17206677 8.41802227 0.93781225] Al, [0.259...</td>\n",
              "      <td>-2.430</td>\n",
              "      <td>73.973</td>\n",
              "      <td>[[0.2515101  8.52548747 0.940367  ] Al, [0.057...</td>\n",
              "      <td>JVASP-12038</td>\n",
              "      <td>110.656</td>\n",
              "      <td>6.9515</td>\n",
              "      <td>2.4188</td>\n",
              "      <td>2.4769</td>\n",
              "      <td>2.3750</td>\n",
              "      <td>mp-625055</td>\n",
              "      <td>5.1686</td>\n",
              "      <td>(Al, H, O)</td>\n",
              "    </tr>\n",
              "    <tr>\n",
              "      <th>108</th>\n",
              "      <td>4.9033</td>\n",
              "      <td>5.1118</td>\n",
              "      <td>5.1243</td>\n",
              "      <td>[[ 2.54192839 -1.33085318 -0.81347227] Bi, [4....</td>\n",
              "      <td>-1.969</td>\n",
              "      <td>38.960</td>\n",
              "      <td>[[ 2.58162693 -1.32106185 -0.80748743] Bi, [4....</td>\n",
              "      <td>JVASP-12051</td>\n",
              "      <td>96.300</td>\n",
              "      <td>4.4734</td>\n",
              "      <td>3.6415</td>\n",
              "      <td>3.7771</td>\n",
              "      <td>3.7842</td>\n",
              "      <td>mp-759883</td>\n",
              "      <td>2.9829</td>\n",
              "      <td>(Bi, O, F)</td>\n",
              "    </tr>\n",
              "    <tr>\n",
              "      <th>115</th>\n",
              "      <td>16.9750</td>\n",
              "      <td>14.0779</td>\n",
              "      <td>15.5189</td>\n",
              "      <td>[[-1.3982931  -1.34418681 -3.44903549] Cu, [ 0...</td>\n",
              "      <td>-0.716</td>\n",
              "      <td>43.800</td>\n",
              "      <td>[[-1.3943665  -1.40808459 -3.46870699] Cu, [ 0...</td>\n",
              "      <td>JVASP-12059</td>\n",
              "      <td>80.133</td>\n",
              "      <td>0.0117</td>\n",
              "      <td>17.6582</td>\n",
              "      <td>21.6400</td>\n",
              "      <td>18.3388</td>\n",
              "      <td>mp-996956</td>\n",
              "      <td>0.0087</td>\n",
              "      <td>(Cu, H, O)</td>\n",
              "    </tr>\n",
              "  </tbody>\n",
              "</table>\n",
              "</div>\n",
              "    <div class=\"colab-df-buttons\">\n",
              "\n",
              "  <div class=\"colab-df-container\">\n",
              "    <button class=\"colab-df-convert\" onclick=\"convertToInteractive('df-bfcc8d6c-039c-4259-9442-a8c565114c0d')\"\n",
              "            title=\"Convert this dataframe to an interactive table.\"\n",
              "            style=\"display:none;\">\n",
              "\n",
              "  <svg xmlns=\"http://www.w3.org/2000/svg\" height=\"24px\" viewBox=\"0 -960 960 960\">\n",
              "    <path d=\"M120-120v-720h720v720H120Zm60-500h600v-160H180v160Zm220 220h160v-160H400v160Zm0 220h160v-160H400v160ZM180-400h160v-160H180v160Zm440 0h160v-160H620v160ZM180-180h160v-160H180v160Zm440 0h160v-160H620v160Z\"/>\n",
              "  </svg>\n",
              "    </button>\n",
              "\n",
              "  <style>\n",
              "    .colab-df-container {\n",
              "      display:flex;\n",
              "      gap: 12px;\n",
              "    }\n",
              "\n",
              "    .colab-df-convert {\n",
              "      background-color: #E8F0FE;\n",
              "      border: none;\n",
              "      border-radius: 50%;\n",
              "      cursor: pointer;\n",
              "      display: none;\n",
              "      fill: #1967D2;\n",
              "      height: 32px;\n",
              "      padding: 0 0 0 0;\n",
              "      width: 32px;\n",
              "    }\n",
              "\n",
              "    .colab-df-convert:hover {\n",
              "      background-color: #E2EBFA;\n",
              "      box-shadow: 0px 1px 2px rgba(60, 64, 67, 0.3), 0px 1px 3px 1px rgba(60, 64, 67, 0.15);\n",
              "      fill: #174EA6;\n",
              "    }\n",
              "\n",
              "    .colab-df-buttons div {\n",
              "      margin-bottom: 4px;\n",
              "    }\n",
              "\n",
              "    [theme=dark] .colab-df-convert {\n",
              "      background-color: #3B4455;\n",
              "      fill: #D2E3FC;\n",
              "    }\n",
              "\n",
              "    [theme=dark] .colab-df-convert:hover {\n",
              "      background-color: #434B5C;\n",
              "      box-shadow: 0px 1px 3px 1px rgba(0, 0, 0, 0.15);\n",
              "      filter: drop-shadow(0px 1px 2px rgba(0, 0, 0, 0.3));\n",
              "      fill: #FFFFFF;\n",
              "    }\n",
              "  </style>\n",
              "\n",
              "    <script>\n",
              "      const buttonEl =\n",
              "        document.querySelector('#df-bfcc8d6c-039c-4259-9442-a8c565114c0d button.colab-df-convert');\n",
              "      buttonEl.style.display =\n",
              "        google.colab.kernel.accessAllowed ? 'block' : 'none';\n",
              "\n",
              "      async function convertToInteractive(key) {\n",
              "        const element = document.querySelector('#df-bfcc8d6c-039c-4259-9442-a8c565114c0d');\n",
              "        const dataTable =\n",
              "          await google.colab.kernel.invokeFunction('convertToInteractive',\n",
              "                                                    [key], {});\n",
              "        if (!dataTable) return;\n",
              "\n",
              "        const docLinkHtml = 'Like what you see? Visit the ' +\n",
              "          '<a target=\"_blank\" href=https://colab.research.google.com/notebooks/data_table.ipynb>data table notebook</a>'\n",
              "          + ' to learn more about interactive tables.';\n",
              "        element.innerHTML = '';\n",
              "        dataTable['output_type'] = 'display_data';\n",
              "        await google.colab.output.renderOutput(dataTable, element);\n",
              "        const docLink = document.createElement('div');\n",
              "        docLink.innerHTML = docLinkHtml;\n",
              "        element.appendChild(docLink);\n",
              "      }\n",
              "    </script>\n",
              "  </div>\n",
              "\n",
              "\n",
              "<div id=\"df-5e3125bb-c0a5-4f0b-8248-e33154b3f15a\">\n",
              "  <button class=\"colab-df-quickchart\" onclick=\"quickchart('df-5e3125bb-c0a5-4f0b-8248-e33154b3f15a')\"\n",
              "            title=\"Suggest charts\"\n",
              "            style=\"display:none;\">\n",
              "\n",
              "<svg xmlns=\"http://www.w3.org/2000/svg\" height=\"24px\"viewBox=\"0 0 24 24\"\n",
              "     width=\"24px\">\n",
              "    <g>\n",
              "        <path d=\"M19 3H5c-1.1 0-2 .9-2 2v14c0 1.1.9 2 2 2h14c1.1 0 2-.9 2-2V5c0-1.1-.9-2-2-2zM9 17H7v-7h2v7zm4 0h-2V7h2v10zm4 0h-2v-4h2v4z\"/>\n",
              "    </g>\n",
              "</svg>\n",
              "  </button>\n",
              "\n",
              "<style>\n",
              "  .colab-df-quickchart {\n",
              "      --bg-color: #E8F0FE;\n",
              "      --fill-color: #1967D2;\n",
              "      --hover-bg-color: #E2EBFA;\n",
              "      --hover-fill-color: #174EA6;\n",
              "      --disabled-fill-color: #AAA;\n",
              "      --disabled-bg-color: #DDD;\n",
              "  }\n",
              "\n",
              "  [theme=dark] .colab-df-quickchart {\n",
              "      --bg-color: #3B4455;\n",
              "      --fill-color: #D2E3FC;\n",
              "      --hover-bg-color: #434B5C;\n",
              "      --hover-fill-color: #FFFFFF;\n",
              "      --disabled-bg-color: #3B4455;\n",
              "      --disabled-fill-color: #666;\n",
              "  }\n",
              "\n",
              "  .colab-df-quickchart {\n",
              "    background-color: var(--bg-color);\n",
              "    border: none;\n",
              "    border-radius: 50%;\n",
              "    cursor: pointer;\n",
              "    display: none;\n",
              "    fill: var(--fill-color);\n",
              "    height: 32px;\n",
              "    padding: 0;\n",
              "    width: 32px;\n",
              "  }\n",
              "\n",
              "  .colab-df-quickchart:hover {\n",
              "    background-color: var(--hover-bg-color);\n",
              "    box-shadow: 0 1px 2px rgba(60, 64, 67, 0.3), 0 1px 3px 1px rgba(60, 64, 67, 0.15);\n",
              "    fill: var(--button-hover-fill-color);\n",
              "  }\n",
              "\n",
              "  .colab-df-quickchart-complete:disabled,\n",
              "  .colab-df-quickchart-complete:disabled:hover {\n",
              "    background-color: var(--disabled-bg-color);\n",
              "    fill: var(--disabled-fill-color);\n",
              "    box-shadow: none;\n",
              "  }\n",
              "\n",
              "  .colab-df-spinner {\n",
              "    border: 2px solid var(--fill-color);\n",
              "    border-color: transparent;\n",
              "    border-bottom-color: var(--fill-color);\n",
              "    animation:\n",
              "      spin 1s steps(1) infinite;\n",
              "  }\n",
              "\n",
              "  @keyframes spin {\n",
              "    0% {\n",
              "      border-color: transparent;\n",
              "      border-bottom-color: var(--fill-color);\n",
              "      border-left-color: var(--fill-color);\n",
              "    }\n",
              "    20% {\n",
              "      border-color: transparent;\n",
              "      border-left-color: var(--fill-color);\n",
              "      border-top-color: var(--fill-color);\n",
              "    }\n",
              "    30% {\n",
              "      border-color: transparent;\n",
              "      border-left-color: var(--fill-color);\n",
              "      border-top-color: var(--fill-color);\n",
              "      border-right-color: var(--fill-color);\n",
              "    }\n",
              "    40% {\n",
              "      border-color: transparent;\n",
              "      border-right-color: var(--fill-color);\n",
              "      border-top-color: var(--fill-color);\n",
              "    }\n",
              "    60% {\n",
              "      border-color: transparent;\n",
              "      border-right-color: var(--fill-color);\n",
              "    }\n",
              "    80% {\n",
              "      border-color: transparent;\n",
              "      border-right-color: var(--fill-color);\n",
              "      border-bottom-color: var(--fill-color);\n",
              "    }\n",
              "    90% {\n",
              "      border-color: transparent;\n",
              "      border-bottom-color: var(--fill-color);\n",
              "    }\n",
              "  }\n",
              "</style>\n",
              "\n",
              "  <script>\n",
              "    async function quickchart(key) {\n",
              "      const quickchartButtonEl =\n",
              "        document.querySelector('#' + key + ' button');\n",
              "      quickchartButtonEl.disabled = true;  // To prevent multiple clicks.\n",
              "      quickchartButtonEl.classList.add('colab-df-spinner');\n",
              "      try {\n",
              "        const charts = await google.colab.kernel.invokeFunction(\n",
              "            'suggestCharts', [key], {});\n",
              "      } catch (error) {\n",
              "        console.error('Error during call to suggestCharts:', error);\n",
              "      }\n",
              "      quickchartButtonEl.classList.remove('colab-df-spinner');\n",
              "      quickchartButtonEl.classList.add('colab-df-quickchart-complete');\n",
              "    }\n",
              "    (() => {\n",
              "      let quickchartButtonEl =\n",
              "        document.querySelector('#df-5e3125bb-c0a5-4f0b-8248-e33154b3f15a button');\n",
              "      quickchartButtonEl.style.display =\n",
              "        google.colab.kernel.accessAllowed ? 'block' : 'none';\n",
              "    })();\n",
              "  </script>\n",
              "</div>\n",
              "\n",
              "    </div>\n",
              "  </div>\n"
            ],
            "application/vnd.google.colaboratory.intrinsic+json": {
              "type": "dataframe",
              "summary": "{\n  \"name\": \"dft3d_50[:10]\",\n  \"rows\": 10,\n  \"fields\": [\n    {\n      \"column\": \"epsilon_x opt\",\n      \"properties\": {\n        \"dtype\": \"number\",\n        \"std\": 6.148199411941679,\n        \"min\": 2.8447,\n        \"max\": 21.0673,\n        \"num_unique_values\": 10,\n        \"samples\": [\n          4.9033,\n          13.8023,\n          4.6738\n        ],\n        \"semantic_type\": \"\",\n        \"description\": \"\"\n      }\n    },\n    {\n      \"column\": \"epsilon_y opt\",\n      \"properties\": {\n        \"dtype\": \"number\",\n        \"std\": 12.045321944228437,\n        \"min\": 2.9459,\n        \"max\": 38.1854,\n        \"num_unique_values\": 10,\n        \"samples\": [\n          5.1118,\n          38.1854,\n          4.746\n        ],\n        \"semantic_type\": \"\",\n        \"description\": \"\"\n      }\n    },\n    {\n      \"column\": \"epsilon_z opt\",\n      \"properties\": {\n        \"dtype\": \"number\",\n        \"std\": 10.083072719827689,\n        \"min\": 2.7976,\n        \"max\": 35.5515,\n        \"num_unique_values\": 10,\n        \"samples\": [\n          5.1243,\n          35.5515,\n          4.7722\n        ],\n        \"semantic_type\": \"\",\n        \"description\": \"\"\n      }\n    },\n    {\n      \"column\": \"structure\",\n      \"properties\": {\n        \"dtype\": \"object\",\n        \"semantic_type\": \"\",\n        \"description\": \"\"\n      }\n    },\n    {\n      \"column\": \"e_form\",\n      \"properties\": {\n        \"dtype\": \"number\",\n        \"std\": 0.8239566129354142,\n        \"min\": -2.43,\n        \"max\": 0.025,\n        \"num_unique_values\": 10,\n        \"samples\": [\n          -1.969,\n          -1.184,\n          -0.83\n        ],\n        \"semantic_type\": \"\",\n        \"description\": \"\"\n      }\n    },\n    {\n      \"column\": \"shear modulus\",\n      \"properties\": {\n        \"dtype\": \"number\",\n        \"std\": 22.03709033626919,\n        \"min\": 5.947,\n        \"max\": 73.973,\n        \"num_unique_values\": 10,\n        \"samples\": [\n          38.96,\n          25.667,\n          9.047\n        ],\n        \"semantic_type\": \"\",\n        \"description\": \"\"\n      }\n    },\n    {\n      \"column\": \"structure initial\",\n      \"properties\": {\n        \"dtype\": \"object\",\n        \"semantic_type\": \"\",\n        \"description\": \"\"\n      }\n    },\n    {\n      \"column\": \"jid\",\n      \"properties\": {\n        \"dtype\": \"string\",\n        \"num_unique_values\": 10,\n        \"samples\": [\n          \"JVASP-12051\",\n          \"JVASP-12002\",\n          \"JVASP-12028\"\n        ],\n        \"semantic_type\": \"\",\n        \"description\": \"\"\n      }\n    },\n    {\n      \"column\": \"bulk modulus\",\n      \"properties\": {\n        \"dtype\": \"number\",\n        \"std\": 35.64825579354791,\n        \"min\": 12.578,\n        \"max\": 110.656,\n        \"num_unique_values\": 10,\n        \"samples\": [\n          96.3,\n          78.478,\n          16.378\n        ],\n        \"semantic_type\": \"\",\n        \"description\": \"\"\n      }\n    },\n    {\n      \"column\": \"gap tbmbj\",\n      \"properties\": {\n        \"dtype\": \"number\",\n        \"std\": 2.137946759964907,\n        \"min\": 0.0083,\n        \"max\": 6.9515,\n        \"num_unique_values\": 10,\n        \"samples\": [\n          4.4734,\n          0.0083,\n          3.7113\n        ],\n        \"semantic_type\": \"\",\n        \"description\": \"\"\n      }\n    },\n    {\n      \"column\": \"epsilon_x tbmbj\",\n      \"properties\": {\n        \"dtype\": \"number\",\n        \"std\": 5.91815427191808,\n        \"min\": 2.4188,\n        \"max\": 17.6582,\n        \"num_unique_values\": 10,\n        \"samples\": [\n          3.6415,\n          16.5818,\n          3.6685\n        ],\n        \"semantic_type\": \"\",\n        \"description\": \"\"\n      }\n    },\n    {\n      \"column\": \"epsilon_y tbmbj\",\n      \"properties\": {\n        \"dtype\": \"number\",\n        \"std\": 18.099862549619292,\n        \"min\": 2.4769,\n        \"max\": 61.5222,\n        \"num_unique_values\": 10,\n        \"samples\": [\n          3.7771,\n          61.5222,\n          3.7637\n        ],\n        \"semantic_type\": \"\",\n        \"description\": \"\"\n      }\n    },\n    {\n      \"column\": \"epsilon_z tbmbj\",\n      \"properties\": {\n        \"dtype\": \"number\",\n        \"std\": 15.456226119050609,\n        \"min\": 2.375,\n        \"max\": 53.1874,\n        \"num_unique_values\": 10,\n        \"samples\": [\n          3.7842,\n          53.1874,\n          3.7977\n        ],\n        \"semantic_type\": \"\",\n        \"description\": \"\"\n      }\n    },\n    {\n      \"column\": \"mpid\",\n      \"properties\": {\n        \"dtype\": \"string\",\n        \"num_unique_values\": 10,\n        \"samples\": [\n          \"mp-759883\",\n          \"mp-24242\",\n          \"mp-570219\"\n        ],\n        \"semantic_type\": \"\",\n        \"description\": \"\"\n      }\n    },\n    {\n      \"column\": \"gap opt\",\n      \"properties\": {\n        \"dtype\": \"number\",\n        \"std\": 1.6219654198601836,\n        \"min\": 0.0038,\n        \"max\": 5.1686,\n        \"num_unique_values\": 10,\n        \"samples\": [\n          2.9829,\n          0.0038,\n          2.3104\n        ],\n        \"semantic_type\": \"\",\n        \"description\": \"\"\n      }\n    },\n    {\n      \"column\": \"composition\",\n      \"properties\": {\n        \"dtype\": \"string\",\n        \"num_unique_values\": 10,\n        \"samples\": [\n          \"Bi2 O2 F2\",\n          \"H4 O4 F4 Cu4\",\n          \"In2 Br6\"\n        ],\n        \"semantic_type\": \"\",\n        \"description\": \"\"\n      }\n    }\n  ]\n}"
            }
          },
          "metadata": {},
          "execution_count": 8
        }
      ],
      "source": [
        "dft3d_df = dft3d_df.dropna()\n",
        "\n",
        "# Fetch the first 50 rows\n",
        "dft3d_50 = dft3d_df.head(50)\n",
        "\n",
        "dft3d_50[:10]"
      ]
    },
    {
      "cell_type": "markdown",
      "metadata": {
        "id": "c-_0VEWkCnwh"
      },
      "source": [
        "Here, we print out all the compositions in our select dataset of 50 materials."
      ]
    },
    {
      "cell_type": "markdown",
      "metadata": {
        "id": "5Tcy9UNodPrJ"
      },
      "source": [
        "Following function is required due to some issues in Jarvis with downloading data."
      ]
    },
    {
      "cell_type": "code",
      "execution_count": 9,
      "metadata": {
        "id": "U78GjSvXdPrK"
      },
      "outputs": [],
      "source": [
        "def read_data():\n",
        "    \"\"\"Temporary download data function due to\n",
        "    https://github.com/usnistgov/jarvis/issues/251\n",
        "    \"\"\"\n",
        "\n",
        "    json_tag = \"jdft_3d-8-18-2021.json\"\n",
        "    url = \"https://ndownloader.figshare.com/files/29204826\"\n",
        "    tmpfile = \"tmp.zip\"\n",
        "\n",
        "    response = requests.get(url)\n",
        "    with open(tmpfile, \"wb\") as f:\n",
        "        for block in response.iter_content(1024):\n",
        "            f.write(block)\n",
        "    return json.loads(zipfile.ZipFile(tmpfile).read(json_tag))"
      ]
    },
    {
      "cell_type": "code",
      "execution_count": 10,
      "metadata": {
        "colab": {
          "base_uri": "https://localhost:8080/"
        },
        "id": "js-QUJt4f2gn",
        "outputId": "e066e08d-e756-47ed-e8f5-00c2986529f7"
      },
      "outputs": [
        {
          "output_type": "stream",
          "name": "stdout",
          "text": [
            "['As', 'CuHOF', 'MoO3', 'AgI', 'ZrBrN', 'InBr3', 'YI3', 'AlHO2', 'BiOF', 'CuHO2', 'TiClO', 'VCuO4', 'ScBrO', 'ZnCu3H6Cl2O6', 'VOF3', 'ZnCl2', 'ScHO2', 'ZrMo2O8', 'BaCaI4', 'CaPbI4', 'YBr3', 'NdIO', 'Li2WS4', 'SnO2', 'SnO2', 'CoF2', 'GaS', 'RbPS3', 'BeF2', 'BeO', 'CO2', 'CaCl2', 'SrClF', 'SrBrF', 'SrCl2', 'CaCl2', 'CaClF', 'NaHF2', 'Bi2SO2', 'BrF5', 'IF7', 'AsF3', 'KSc2F7', 'CClF3', 'K2MgF4', 'LiMgP', 'H4BrN', 'NaHS', 'SrAl2Te4', 'AgAsF6']\n"
          ]
        }
      ],
      "source": [
        "dft_3d = read_data()\n",
        "\n",
        "comp_list = []\n",
        "for indx, d in dft3d_50.iterrows():\n",
        "    entry = next(j for j in dft_3d if j[\"jid\"] == d[\"jid\"])\n",
        "    comp = Atoms.from_dict(entry[\"atoms\"]).composition.reduced_formula\n",
        "    comp_list.append(comp)\n",
        "\n",
        "print(comp_list)"
      ]
    },
    {
      "cell_type": "markdown",
      "metadata": {
        "id": "EACr0qhNDQ51"
      },
      "source": [
        "Here, we filter out the feature vector to only include single scalar-values properties."
      ]
    },
    {
      "cell_type": "code",
      "execution_count": 11,
      "metadata": {
        "colab": {
          "base_uri": "https://localhost:8080/"
        },
        "id": "FsH2HKwWCEe0",
        "outputId": "7085104f-6f08-4b84-aca2-881bb35a74ba"
      },
      "outputs": [
        {
          "output_type": "execute_result",
          "data": {
            "text/plain": [
              "array([[ 2.10673e+01,  2.91228e+01,  1.76066e+01,  2.50000e-02,\n",
              "         1.99930e+01,  3.45560e+01,  6.49500e-01,  1.50619e+01,\n",
              "         1.49875e+01,  1.24788e+01,  2.21000e-02],\n",
              "       [ 1.38023e+01,  3.81854e+01,  3.55515e+01, -1.18400e+00,\n",
              "         2.56670e+01,  7.84780e+01,  8.30000e-03,  1.65818e+01,\n",
              "         6.15222e+01,  5.31874e+01,  3.80000e-03],\n",
              "       [ 6.39330e+00,  6.94660e+00,  6.37960e+00, -2.08600e+00,\n",
              "         5.24200e+01,  7.50670e+01,  2.46420e+00,  5.24020e+00,\n",
              "         5.84920e+00,  5.38970e+00,  1.92020e+00],\n",
              "       [ 6.08380e+00,  6.08380e+00,  6.56520e+00, -2.04000e-01,\n",
              "         5.94700e+00,  1.74780e+01,  2.70250e+00,  4.53200e+00,\n",
              "         4.53230e+00,  4.91010e+00,  1.25990e+00],\n",
              "       [ 7.03160e+00,  6.31270e+00,  5.22740e+00, -1.76800e+00,\n",
              "         3.71200e+01,  5.46330e+01,  2.24410e+00,  6.03660e+00,\n",
              "         5.52600e+00,  4.68860e+00,  1.87230e+00],\n",
              "       [ 4.67380e+00,  4.74600e+00,  4.77220e+00, -8.30000e-01,\n",
              "         9.04700e+00,  1.63780e+01,  3.71130e+00,  3.66850e+00,\n",
              "         3.76370e+00,  3.79770e+00,  2.31040e+00],\n",
              "       [ 5.06360e+00,  5.07980e+00,  4.97970e+00, -1.47300e+00,\n",
              "         7.68700e+00,  1.25780e+01,  2.88630e+00,  5.54430e+00,\n",
              "         5.53990e+00,  5.56460e+00,  2.67600e+00],\n",
              "       [ 2.84470e+00,  2.94590e+00,  2.79760e+00, -2.43000e+00,\n",
              "         7.39730e+01,  1.10656e+02,  6.95150e+00,  2.41880e+00,\n",
              "         2.47690e+00,  2.37500e+00,  5.16860e+00],\n",
              "       [ 4.90330e+00,  5.11180e+00,  5.12430e+00, -1.96900e+00,\n",
              "         3.89600e+01,  9.63000e+01,  4.47340e+00,  3.64150e+00,\n",
              "         3.77710e+00,  3.78420e+00,  2.98290e+00],\n",
              "       [ 1.69750e+01,  1.40779e+01,  1.55189e+01, -7.16000e-01,\n",
              "         4.38000e+01,  8.01330e+01,  1.17000e-02,  1.76582e+01,\n",
              "         2.16400e+01,  1.83388e+01,  8.70000e-03]])"
            ]
          },
          "metadata": {},
          "execution_count": 11
        }
      ],
      "source": [
        "# Form feature vector from the scalar properties in the dataframe\n",
        "scalar_cols = [\n",
        "    col\n",
        "    for col in dft3d_50.columns\n",
        "    if col not in [\"structure\", \"structure initial\", \"jid\", \"mpid\", \"composition\"]\n",
        "]\n",
        "\n",
        "feature_vect = dft3d_50[scalar_cols].to_numpy()\n",
        "\n",
        "feature_vect[:10]"
      ]
    },
    {
      "cell_type": "markdown",
      "metadata": {
        "id": "svC874oHDb5w"
      },
      "source": [
        "## Machine Learning Models Implemented in Sci-kit Learn\n",
        "\n",
        "``sci-kit learn`` is a Python package that faciliates the implementation of several machine learning models for dimensionality reduction, clustering, classification, regression, and more."
      ]
    },
    {
      "cell_type": "markdown",
      "metadata": {
        "id": "svLOsMPEW00E"
      },
      "source": [
        "Before performing K-means clustering, the data is pre-processed such that each feature has a mean centered at zero and a standard deviation of 1.\n",
        "\n",
        "**Try modifying**\n",
        "\n",
        "Run the K--means clustering on the un-scaled feature vector ``feature_vect`` instead to see what happens\n",
        "\n",
        "The following scales the feature vector as a pre-processing step such that features have zero mean and\n",
        "unit variance."
      ]
    },
    {
      "cell_type": "code",
      "execution_count": 12,
      "metadata": {
        "colab": {
          "base_uri": "https://localhost:8080/"
        },
        "id": "U256lcmBX4lN",
        "outputId": "66168153-3eaf-40a2-ebe9-aaae5818151f"
      },
      "outputs": [
        {
          "output_type": "stream",
          "name": "stdout",
          "text": [
            "mean:  [-1.33226763e-17  5.44009282e-17  1.47659662e-16  7.75768338e-17\n",
            "  2.04281037e-16  3.33066907e-18  1.84297022e-16 -2.77555756e-17\n",
            " -5.10702591e-17 -3.88578059e-17  1.53210777e-16]\n",
            "std. deviation:  [1. 1. 1. 1. 1. 1. 1. 1. 1. 1. 1.]\n"
          ]
        }
      ],
      "source": [
        "scaler = pp.StandardScaler().fit(feature_vect)\n",
        "\n",
        "feat_vec_scale = scaler.transform(feature_vect)\n",
        "\n",
        "print(\"mean: \", feat_vec_scale.mean(axis=0))\n",
        "print(\"std. deviation: \", feat_vec_scale.std(axis=0))"
      ]
    },
    {
      "cell_type": "markdown",
      "metadata": {
        "id": "zbl03YqbYirE"
      },
      "source": [
        "Run the K-means clustering and output the cluster labels for each sample in the dataset.\n",
        "\n",
        "**Try modifiying**\n",
        "\n",
        "Change the number of cluster! ``K``"
      ]
    },
    {
      "cell_type": "code",
      "execution_count": 13,
      "metadata": {
        "colab": {
          "base_uri": "https://localhost:8080/"
        },
        "id": "XtbGanGNpSAY",
        "outputId": "136a8b0f-a645-4d56-f143-586f5e31f326"
      },
      "outputs": [
        {
          "output_type": "stream",
          "name": "stdout",
          "text": [
            "[4 4 2 0 2 0 0 3 2 4 4 4 3 4 0 0 3 2 0 0 0 3 0 2 2 1 2 0 3 3 0 3 3 3 3 3 3\n",
            " 3 2 0 0 0 3 0 3 2 0 0 2 0]\n"
          ]
        }
      ],
      "source": [
        "# NBVAL_IGNORE_OUTPUT\n",
        "# Stochastic output\n",
        "\n",
        "# Fit K-means model\n",
        "\n",
        "K = 5\n",
        "# CHANGE the number of clusters generated\n",
        "kmeans = KMeans(n_clusters=K).fit(\n",
        "    feat_vec_scale\n",
        ")  # CHANGE to the unscaled/un-whitened feature_vect to see what happens!\n",
        "lbl = kmeans.labels_\n",
        "centers = kmeans.cluster_centers_\n",
        "y_kmeans = kmeans.predict(feat_vec_scale)\n",
        "print(y_kmeans)"
      ]
    },
    {
      "cell_type": "code",
      "execution_count": 14,
      "metadata": {
        "colab": {
          "base_uri": "https://localhost:8080/"
        },
        "id": "7QFv4XsNS7kb",
        "outputId": "52d8b5a2-d2f0-4a31-8fdb-0fead49396b9"
      },
      "outputs": [
        {
          "output_type": "stream",
          "name": "stdout",
          "text": [
            "Generated Compound Cluster #1\n",
            "['AgI' 'InBr3' 'YI3' 'VOF3' 'ZnCl2' 'BaCaI4' 'CaPbI4' 'YBr3' 'Li2WS4'\n",
            " 'RbPS3' 'CO2' 'BrF5' 'IF7' 'AsF3' 'CClF3' 'H4BrN' 'NaHS' 'AgAsF6']\n",
            "mean feature values of the cluster:\n",
            "[{'epsilon_x opt': -0.39169123460496225}, {'epsilon_y opt': -0.36658059011013583}, {'epsilon_z opt': -0.3095982151464579}, {'e_form': 0.5494255560153382}, {'shear modulus': -0.7370743459237283}, {'bulk modulus': -0.8424125429674554}, {'gap tbmbj': 0.0274156606923229}, {'epsilon_x tbmbj': -0.36289889725507113}, {'epsilon_y tbmbj': -0.31449818237442484}, {'epsilon_z tbmbj': -0.2549574490130266}, {'gap opt': 0.010665719084198588}]\n",
            "\n",
            "\n",
            "Generated Compound Cluster #2\n",
            "['CoF2']\n",
            "mean feature values of the cluster:\n",
            "[{'epsilon_x opt': 5.118080483232208}, {'epsilon_y opt': 5.176294061860992}, {'epsilon_z opt': 5.821624635010576}, {'e_form': 0.24850991676223486}, {'shear modulus': 0.6453762819050016}, {'bulk modulus': 2.169974828558438}, {'gap tbmbj': -1.4111669293016793}, {'epsilon_x tbmbj': 4.325172905340975}, {'epsilon_y tbmbj': 5.546947827501139}, {'epsilon_z tbmbj': 6.202183200667313}, {'gap opt': -1.3897437533069272}]\n",
            "\n",
            "\n",
            "Generated Compound Cluster #3\n",
            "['MoO3' 'ZrBrN' 'BiOF' 'ZrMo2O8' 'SnO2' 'SnO2' 'GaS' 'Bi2SO2' 'LiMgP'\n",
            " 'SrAl2Te4']\n",
            "mean feature values of the cluster:\n",
            "[{'epsilon_x opt': -0.007567773338231153}, {'epsilon_y opt': -0.07919062611229424}, {'epsilon_z opt': 0.001496421221994581}, {'e_form': 0.37857195830822526}, {'shear modulus': 0.40615304101783856}, {'bulk modulus': 0.46097094460348204}, {'gap tbmbj': -0.6052607617721371}, {'epsilon_x tbmbj': -0.12569822394316793}, {'epsilon_y tbmbj': -0.18771081745230736}, {'epsilon_z tbmbj': -0.1336482054638023}, {'gap opt': -0.6435109890301149}]\n",
            "\n",
            "\n",
            "Generated Compound Cluster #4\n",
            "['AlHO2' 'ScBrO' 'ScHO2' 'NdIO' 'BeF2' 'BeO' 'CaCl2' 'SrClF' 'SrBrF'\n",
            " 'SrCl2' 'CaCl2' 'CaClF' 'NaHF2' 'KSc2F7' 'K2MgF4']\n",
            "mean feature values of the cluster:\n",
            "[{'epsilon_x opt': -0.4845693445715548}, {'epsilon_y opt': -0.43986160450486533}, {'epsilon_z opt': -0.39448888051168907}, {'e_form': -1.2109136197120216}, {'shear modulus': 0.4573243813474421}, {'bulk modulus': 0.3857438212981783}, {'gap tbmbj': 1.0146746512721931}, {'epsilon_x tbmbj': -0.4253246070178477}, {'epsilon_y tbmbj': -0.350167332715164}, {'epsilon_z tbmbj': -0.29241350996405086}, {'gap opt': 1.0637939115457007}]\n",
            "\n",
            "\n",
            "Generated Compound Cluster #5\n",
            "['As' 'CuHOF' 'CuHO2' 'TiClO' 'VCuO4' 'ZnCu3H6Cl2O6']\n",
            "mean feature values of the cluster:\n",
            "[{'epsilon_x opt': 1.5460966069354574}, {'epsilon_y opt': 1.4686644814695633}, {'epsilon_z opt': 0.9422520388468436}, {'e_form': 0.7066357979266257}, {'shear modulus': 0.28342763572201696}, {'bulk modulus': 0.43293069655804395}, {'gap tbmbj': -1.3749711857536084}, {'epsilon_x tbmbj': 1.6406430983249498}, {'epsilon_y tbmbj': 1.2072729367481736}, {'epsilon_z tbmbj': 0.6849559309443248}, {'gap opt': -1.387339662182166}]\n",
            "\n",
            "\n"
          ]
        }
      ],
      "source": [
        "# NBVAL_IGNORE_OUTPUT\n",
        "# Stochastic ouput\n",
        "\n",
        "# Print contents of each cluster\n",
        "\n",
        "for k in range(K):  # For each generated cluster\n",
        "    pos = [\n",
        "        n for (n, m) in enumerate(lbl) if m == k\n",
        "    ]  # Get the indices in the labels vector which point ot that cluster\n",
        "    compGrp = np.array(comp_list)[pos]\n",
        "    print(f\"Generated Compound Cluster #{k + 1}\")\n",
        "    print(compGrp)\n",
        "    print(\"mean feature values of the cluster:\")\n",
        "    print([{f: m} for f, m in zip(scalar_cols, centers[k])])\n",
        "    print(\"\\n\")"
      ]
    },
    {
      "cell_type": "markdown",
      "metadata": {
        "id": "XW_F_bvfY4mL"
      },
      "source": [
        "Here, we will use principal component analysis (PCA) primarily as a way to visualize our \"high-dimensional\" data (11 total features) in two dimensions.\n",
        "\n",
        "**Try modifying**\n",
        "\n",
        "Perform the PCA on the feeature vector first and then apply the K-means clustering algorithm to the principal component vectors."
      ]
    },
    {
      "cell_type": "code",
      "execution_count": 15,
      "metadata": {
        "colab": {
          "base_uri": "https://localhost:8080/",
          "height": 466
        },
        "id": "HSYvic0kvyXA",
        "outputId": "c292750a-ebbd-4746-a9a7-28a375100e1e"
      },
      "outputs": [
        {
          "output_type": "stream",
          "name": "stdout",
          "text": [
            "PCA(n_components=2)\n"
          ]
        },
        {
          "output_type": "display_data",
          "data": {
            "text/plain": [
              "<Figure size 640x480 with 1 Axes>"
            ],
            "image/png": "[encoded data removed]"
          },
          "metadata": {}
        }
      ],
      "source": [
        "# Plot samples against first two principal components, colored by their cluster\n",
        "\n",
        "pca = PCA(n_components=2)\n",
        "pca.fit(feat_vec_scale)\n",
        "print(pca)\n",
        "comp_dim = pca.transform(feat_vec_scale)\n",
        "plt.figure()\n",
        "plt.scatter(comp_dim[:, 0], comp_dim[:, 1], c=y_kmeans)\n",
        "plt.xlabel(\"Principal Component 1\")\n",
        "plt.ylabel(\"Principal Component 2\")\n",
        "plt.show()"
      ]
    },
    {
      "cell_type": "markdown",
      "metadata": {
        "id": "_IvfS47uZjOm"
      },
      "source": [
        "The principal components are linear combinations of the original features. Here, we plot out how each principal component weights the original features."
      ]
    },
    {
      "cell_type": "code",
      "execution_count": 16,
      "metadata": {
        "colab": {
          "base_uri": "https://localhost:8080/",
          "height": 744
        },
        "id": "gWBrKL0L1eO2",
        "outputId": "f601b068-1c97-453a-bb50-72367d212d89"
      },
      "outputs": [
        {
          "output_type": "execute_result",
          "data": {
            "text/plain": [
              "([0, 1, 2, 3, 4, 5, 6, 7, 8, 9, 10],\n",
              " [Text(0, 0, 'epsilon_x opt'),\n",
              "  Text(1, 0, 'epsilon_y opt'),\n",
              "  Text(2, 0, 'epsilon_z opt'),\n",
              "  Text(3, 0, 'e_form'),\n",
              "  Text(4, 0, 'shear modulus'),\n",
              "  Text(5, 0, 'bulk modulus'),\n",
              "  Text(6, 0, 'gap tbmbj'),\n",
              "  Text(7, 0, 'epsilon_x tbmbj'),\n",
              "  Text(8, 0, 'epsilon_y tbmbj'),\n",
              "  Text(9, 0, 'epsilon_z tbmbj'),\n",
              "  Text(10, 0, 'gap opt')])"
            ]
          },
          "metadata": {},
          "execution_count": 16
        },
        {
          "output_type": "display_data",
          "data": {
            "text/plain": [
              "<Figure size 640x480 with 2 Axes>"
            ],
            "image/png": "[encoded data removed]"
          },
          "metadata": {}
        }
      ],
      "source": [
        "# Show the weights of different features in the first two principal components\n",
        "\n",
        "pca_weights = pca.components_\n",
        "fig, (ax1, ax2) = plt.subplots(2, 1)\n",
        "fig.tight_layout()\n",
        "ax1.bar(scalar_cols, pca_weights[0])\n",
        "ax1.set_xticks([])\n",
        "ax2.bar(scalar_cols, pca_weights[1])\n",
        "plt.xticks(rotation=30, ha=\"right\")"
      ]
    },
    {
      "cell_type": "code",
      "execution_count": 16,
      "metadata": {
        "id": "iDxJKEdSdPrL"
      },
      "outputs": [],
      "source": []
    }
  ],
  "metadata": {
    "colab": {
      "name": "AIMS2022_Python_Basics.ipynb",
      "provenance": [],
      "include_colab_link": true
    },
    "kernelspec": {
      "display_name": "Python 3 (ipykernel)",
      "language": "python",
      "name": "python3"
    },
    "language_info": {
      "codemirror_mode": {
        "name": "ipython",
        "version": 3
      },
      "file_extension": ".py",
      "mimetype": "text/x-python",
      "name": "python",
      "nbconvert_exporter": "python",
      "pygments_lexer": "ipython3",
      "version": "3.9.12"
    }
  },
  "nbformat": 4,
  "nbformat_minor": 0
}