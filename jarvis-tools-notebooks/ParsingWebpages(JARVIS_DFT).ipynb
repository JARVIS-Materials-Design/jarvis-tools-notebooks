{
  "nbformat": 4,
  "nbformat_minor": 0,
  "metadata": {
    "colab": {
      "name": "ParsingWebpages(JARVIS-DFT).ipynb",
      "provenance": [],
      "authorship_tag": "ABX9TyN/77kUPwGBBUzkFVhNu5uD",
      "include_colab_link": true
    },
    "kernelspec": {
      "name": "python3",
      "display_name": "Python 3"
    },
    "language_info": {
      "name": "python"
    }
  },
  "cells": [
    {
      "cell_type": "markdown",
      "metadata": {
        "id": "view-in-github",
        "colab_type": "text"
      },
      "source": [
        "<a href=\"https://colab.research.google.com/github/knc6/jarvis-tools-notebooks/blob/master/jarvis-tools-notebooks/ParsingWebpages(JARVIS_DFT).ipynb\" target=\"_parent\"><img src=\"https://colab.research.google.com/assets/colab-badge.svg\" alt=\"Open In Colab\"/></a>"
      ]
    },
    {
      "cell_type": "markdown",
      "source": [],
      "metadata": {
        "id": "QJoQNJcLiEgn"
      }
    },
    {
      "cell_type": "code",
      "execution_count": 1,
      "metadata": {
        "colab": {
          "base_uri": "https://localhost:8080/"
        },
        "id": "VnVuRWZe-K7y",
        "outputId": "99313967-4d61-4808-80fa-39b86ad119d4"
      },
      "outputs": [
        {
          "output_type": "stream",
          "name": "stdout",
          "text": [
            "Collecting jarvis-tools\n",
            "  Downloading jarvis_tools-2023.5.26-py2.py3-none-any.whl (974 kB)\n",
            "\u001b[?25l     \u001b[90m━━━━━━━━━━━━━━━━━━━━━━━━━━━━━━━━━━━━━━━━\u001b[0m \u001b[32m0.0/974.6 kB\u001b[0m \u001b[31m?\u001b[0m eta \u001b[36m-:--:--\u001b[0m\r\u001b[2K     \u001b[91m━━━━━━━━━━━\u001b[0m\u001b[90m╺\u001b[0m\u001b[90m━━━━━━━━━━━━━━━━━━━━━━━━━━━\u001b[0m \u001b[32m276.5/974.6 kB\u001b[0m \u001b[31m8.8 MB/s\u001b[0m eta \u001b[36m0:00:01\u001b[0m\r\u001b[2K     \u001b[90m━━━━━━━━━━━━━━━━━━━━━━━━━━━━━━━━━━━━━━\u001b[0m \u001b[32m974.6/974.6 kB\u001b[0m \u001b[31m14.1 MB/s\u001b[0m eta \u001b[36m0:00:00\u001b[0m\n",
            "\u001b[?25hRequirement already satisfied: numpy>=1.19.5 in /usr/local/lib/python3.10/dist-packages (from jarvis-tools) (1.22.4)\n",
            "Requirement already satisfied: scipy>=1.4.1 in /usr/local/lib/python3.10/dist-packages (from jarvis-tools) (1.10.1)\n",
            "Requirement already satisfied: matplotlib>=3.0.0 in /usr/local/lib/python3.10/dist-packages (from jarvis-tools) (3.7.1)\n",
            "Collecting spglib>=1.14.1 (from jarvis-tools)\n",
            "  Downloading spglib-2.0.2-cp310-cp310-manylinux_2_17_x86_64.manylinux2014_x86_64.whl (515 kB)\n",
            "\u001b[2K     \u001b[90m━━━━━━━━━━━━━━━━━━━━━━━━━━━━━━━━━━━━━━\u001b[0m \u001b[32m515.3/515.3 kB\u001b[0m \u001b[31m40.6 MB/s\u001b[0m eta \u001b[36m0:00:00\u001b[0m\n",
            "\u001b[?25hRequirement already satisfied: joblib>=0.14.1 in /usr/local/lib/python3.10/dist-packages (from jarvis-tools) (1.3.1)\n",
            "Requirement already satisfied: requests>=2.23.0 in /usr/local/lib/python3.10/dist-packages (from jarvis-tools) (2.27.1)\n",
            "Requirement already satisfied: toolz>=0.9.0 in /usr/local/lib/python3.10/dist-packages (from jarvis-tools) (0.12.0)\n",
            "Collecting xmltodict>=0.11.0 (from jarvis-tools)\n",
            "  Downloading xmltodict-0.13.0-py2.py3-none-any.whl (10.0 kB)\n",
            "Requirement already satisfied: tqdm>=4.41.1 in /usr/local/lib/python3.10/dist-packages (from jarvis-tools) (4.65.0)\n",
            "Requirement already satisfied: contourpy>=1.0.1 in /usr/local/lib/python3.10/dist-packages (from matplotlib>=3.0.0->jarvis-tools) (1.1.0)\n",
            "Requirement already satisfied: cycler>=0.10 in /usr/local/lib/python3.10/dist-packages (from matplotlib>=3.0.0->jarvis-tools) (0.11.0)\n",
            "Requirement already satisfied: fonttools>=4.22.0 in /usr/local/lib/python3.10/dist-packages (from matplotlib>=3.0.0->jarvis-tools) (4.40.0)\n",
            "Requirement already satisfied: kiwisolver>=1.0.1 in /usr/local/lib/python3.10/dist-packages (from matplotlib>=3.0.0->jarvis-tools) (1.4.4)\n",
            "Requirement already satisfied: packaging>=20.0 in /usr/local/lib/python3.10/dist-packages (from matplotlib>=3.0.0->jarvis-tools) (23.1)\n",
            "Requirement already satisfied: pillow>=6.2.0 in /usr/local/lib/python3.10/dist-packages (from matplotlib>=3.0.0->jarvis-tools) (8.4.0)\n",
            "Requirement already satisfied: pyparsing>=2.3.1 in /usr/local/lib/python3.10/dist-packages (from matplotlib>=3.0.0->jarvis-tools) (3.1.0)\n",
            "Requirement already satisfied: python-dateutil>=2.7 in /usr/local/lib/python3.10/dist-packages (from matplotlib>=3.0.0->jarvis-tools) (2.8.2)\n",
            "Requirement already satisfied: urllib3<1.27,>=1.21.1 in /usr/local/lib/python3.10/dist-packages (from requests>=2.23.0->jarvis-tools) (1.26.16)\n",
            "Requirement already satisfied: certifi>=2017.4.17 in /usr/local/lib/python3.10/dist-packages (from requests>=2.23.0->jarvis-tools) (2023.5.7)\n",
            "Requirement already satisfied: charset-normalizer~=2.0.0 in /usr/local/lib/python3.10/dist-packages (from requests>=2.23.0->jarvis-tools) (2.0.12)\n",
            "Requirement already satisfied: idna<4,>=2.5 in /usr/local/lib/python3.10/dist-packages (from requests>=2.23.0->jarvis-tools) (3.4)\n",
            "Requirement already satisfied: six>=1.5 in /usr/local/lib/python3.10/dist-packages (from python-dateutil>=2.7->matplotlib>=3.0.0->jarvis-tools) (1.16.0)\n",
            "Installing collected packages: xmltodict, spglib, jarvis-tools\n",
            "Successfully installed jarvis-tools-2023.5.26 spglib-2.0.2 xmltodict-0.13.0\n"
          ]
        }
      ],
      "source": [
        "!pip install jarvis-tools"
      ]
    },
    {
      "cell_type": "code",
      "source": [
        "jid_example=\"JVASP-1044\"\n"
      ],
      "metadata": {
        "id": "Q-T8WWmP-NYe"
      },
      "execution_count": 2,
      "outputs": []
    },
    {
      "cell_type": "code",
      "source": [
        "from jarvis.db.webpages import Webpage\n",
        "w = Webpage(jid=jid_example)"
      ],
      "metadata": {
        "id": "fy5YQIWZ-Z4g"
      },
      "execution_count": 3,
      "outputs": []
    },
    {
      "cell_type": "code",
      "source": [
        "data = w.data\n",
        "print (data['basic_info'].keys())"
      ],
      "metadata": {
        "colab": {
          "base_uri": "https://localhost:8080/"
        },
        "id": "0RGgek_Q_UAa",
        "outputId": "ae72e46b-561e-425b-9cf2-eeb3894ad0fc"
      },
      "execution_count": 4,
      "outputs": [
        {
          "output_type": "stream",
          "name": "stdout",
          "text": [
            "dict_keys(['convergence_info', 'wannier_band_comparison', 'vacancy_formation_energy', 'raman_dat', 'main_relax_info', 'main_band', 'main_hse06_band', 'effective_mass', 'main_pbe0_band', 'main_optics_semilocal', 'main_optics_mbj', 'main_elastic', 'main_boltz', 'main_lepsilon_info', 'main_spillage_info', 'efg_raw_tensor', 'max_efg', 'max_efg_eta', 'main_stm_pos', 'main_stm_neg'])\n"
          ]
        }
      ]
    },
    {
      "cell_type": "markdown",
      "source": [
        "Here *data* contains the webpage information as nested key-value pairs. Note that these arrays could be in string format, so we convert them into floats before plotting etc.\n",
        "\n",
        "Only few examples are shown below:"
      ],
      "metadata": {
        "id": "gv7VMjFyF-V4"
      }
    },
    {
      "cell_type": "markdown",
      "source": [
        "Basic information table"
      ],
      "metadata": {
        "id": "IHMubGrrAgxv"
      }
    },
    {
      "cell_type": "code",
      "source": [
        "data['basic_info']['main_relax_info'].keys()"
      ],
      "metadata": {
        "colab": {
          "base_uri": "https://localhost:8080/"
        },
        "id": "Wdr7OU0N_2BV",
        "outputId": "a4ec0e26-fcc7-499d-b199-544967a4534b"
      },
      "execution_count": 5,
      "outputs": [
        {
          "output_type": "execute_result",
          "data": {
            "text/plain": [
              "dict_keys(['source_folder', 'see_also', 'tmp_source_folder', 'id_file', 'tmp_id_file', 'ehull', 'data_source', 'tmp_data_source', 'material_type', 'tmp_material_type', 'exfoliation_energy', 'magmom', 'XRD', 'id', 'download_files', 'tmp_id', 'formula', 'tmp_formula', 'elements', 'tmp_elements', 'number_uniq_species', 'method', 'tmp_method', 'formation_energy', 'relaxed_energy', 'spacegroup_number', 'point_group_symbol', 'spg_space_group_symbol', 'crys_system', 'a_conv', 'b_conv', 'c_conv', 'alpha_conv', 'beta_conv', 'gamma_conv', 'a_prim', 'b_prim', 'c_prim', 'alpha_prim', 'beta_prim', 'gamma_prim', 'prim_natoms', 'conv_natoms', 'density', 'magnetization', 'total_charge', 'volume', 'packing_fr', 'xyz', 'poscar_conv', 'contcar', 'cif', 'cfid_descs', 'rdf_bins', 'rdf_hist', 'ang1_bins', 'ang1_hist', 'ang2_bins', 'ang2_hist', 'dihedral_bins', 'dihedral_hist', 'scf_indir_gap', 'scf_dir_gap', 'scf_indir_gap_cbm', 'scf_indir_gap_vbm', 'scf_indir_gap_tol', 'scf_indir_gap_tol_cbm', 'scf_indir_gap_tol_vbm', 'main_relax_dos'])"
            ]
          },
          "metadata": {},
          "execution_count": 5
        }
      ]
    },
    {
      "cell_type": "code",
      "source": [
        "print ('Formula:',data['basic_info']['main_relax_info']['formula'],', Spacegroup:',data['basic_info']['main_relax_info']['spg_space_group_symbol'])"
      ],
      "metadata": {
        "colab": {
          "base_uri": "https://localhost:8080/"
        },
        "id": "iZudc8YJAmxt",
        "outputId": "a8731046-0a0a-47c9-f844-547805781bba"
      },
      "execution_count": 6,
      "outputs": [
        {
          "output_type": "stream",
          "name": "stdout",
          "text": [
            "Formula: W , Spacegroup: Im-3m\n"
          ]
        }
      ]
    },
    {
      "cell_type": "code",
      "source": [
        "from jarvis.io.vasp.inputs import Poscar\n",
        "pos=Poscar.from_string(data['basic_info']['main_relax_info']['contcar'].replace('\\\\n','\\n').strip('\"').strip(\"'\"))\n",
        "atoms=pos.atoms\n",
        "print (atoms)"
      ],
      "metadata": {
        "colab": {
          "base_uri": "https://localhost:8080/"
        },
        "id": "cqOTYusmA9F7",
        "outputId": "509c46c1-9d9c-4b9b-a8cf-45c33aa76497"
      },
      "execution_count": 7,
      "outputs": [
        {
          "output_type": "stream",
          "name": "stdout",
          "text": [
            "W\n",
            "1.0\n",
            "2.600569481053341 -5.76983845e-08 -0.9194402393314425\n",
            "-1.3002847874910006 2.2521588581359304 -0.9194402327940574\n",
            "-3.7970834e-08 -5.67938908e-08 2.7583206110535285\n",
            "W\n",
            "1\n",
            "Cartesian\n",
            "-1.0245827440000026e-12 1.8844273152e-11 1.0255525703999999e-11\n",
            "\n"
          ]
        }
      ]
    },
    {
      "cell_type": "markdown",
      "source": [
        "Bandstructure"
      ],
      "metadata": {
        "id": "AHer51a3hi3o"
      }
    },
    {
      "cell_type": "code",
      "source": [
        "print (data['basic_info']['main_band']['main_bands_info'].keys())"
      ],
      "metadata": {
        "id": "GL0TBFUoiJQW",
        "outputId": "2bef411d-1288-4d4c-a2eb-ae17e519cd07",
        "colab": {
          "base_uri": "https://localhost:8080/"
        }
      },
      "execution_count": 10,
      "outputs": [
        {
          "output_type": "stream",
          "name": "stdout",
          "text": [
            "dict_keys(['band_indir_gap', 'band_dir_gap', 'fermi_velocities', 'kp_labels_points', 'kp_labels', 'spin_up_bands_x', 'spin_up_bands_y', 'spin_down_bands_x', 'spin_down_bands_y'])\n"
          ]
        }
      ]
    },
    {
      "cell_type": "code",
      "source": [
        "import numpy as np\n",
        "import matplotlib.pyplot as plt\n",
        "%matplotlib inline\n",
        "p = data['basic_info']['main_band']['main_bands_info']['spin_up_bands_y'].strip(\"'\").strip('\"').split(';')\n",
        "y=[]\n",
        "for i in p:\n",
        "    x =np.array(i.split(','),dtype='float')\n",
        "    y.append(x)\n",
        "y=np.array(y).T"
      ],
      "metadata": {
        "id": "RmiVZ4Ukhie2"
      },
      "execution_count": 8,
      "outputs": []
    },
    {
      "cell_type": "code",
      "source": [
        "plt.plot(y,'.',c='b')\n",
        "plt.show()"
      ],
      "metadata": {
        "id": "DD7tK3LLhib5",
        "outputId": "3effaadb-c2e2-40e4-ff86-995e8d012455",
        "colab": {
          "base_uri": "https://localhost:8080/",
          "height": 430
        }
      },
      "execution_count": 9,
      "outputs": [
        {
          "output_type": "display_data",
          "data": {
            "text/plain": [
              "<Figure size 640x480 with 1 Axes>"
            ],
            "image/png": "[encoded data removed]"
          },
          "metadata": {}
        }
      ]
    },
    {
      "cell_type": "code",
      "source": [],
      "metadata": {
        "id": "_C88ZYC0hiZT"
      },
      "execution_count": null,
      "outputs": []
    },
    {
      "cell_type": "markdown",
      "source": [
        "XRD information"
      ],
      "metadata": {
        "id": "TtyGg_MSDbP3"
      }
    },
    {
      "cell_type": "code",
      "source": [
        "data[\"basic_info\"][\"main_relax_info\"][\"XRD\"].keys()"
      ],
      "metadata": {
        "colab": {
          "base_uri": "https://localhost:8080/"
        },
        "id": "jGiRkba8Bqpz",
        "outputId": "45556348-7c59-4482-bfe1-4c405eaf30ac"
      },
      "execution_count": null,
      "outputs": [
        {
          "output_type": "execute_result",
          "data": {
            "text/plain": [
              "dict_keys(['two_thetas', 'd_hkls', 'intensities'])"
            ]
          },
          "metadata": {},
          "execution_count": 8
        }
      ]
    },
    {
      "cell_type": "code",
      "source": [
        "import matplotlib.pyplot as plt\n",
        "%matplotlib inline\n",
        "import numpy as np\n",
        "two_theta = np.array(data[\"basic_info\"][\"main_relax_info\"][\"XRD\"]['two_thetas'].strip('\"').strip(\"'\").split(\",\"),dtype='float')\n",
        "ints = np.array(data[\"basic_info\"][\"main_relax_info\"][\"XRD\"]['intensities'].strip('\"').strip(\"'\").split(\",\"),dtype='float')\n",
        "plt.bar(two_theta,ints)\n",
        "plt.xlabel('2$\\\\theta$')\n",
        "plt.ylabel('Intensity')"
      ],
      "metadata": {
        "colab": {
          "base_uri": "https://localhost:8080/",
          "height": 299
        },
        "id": "PY0oXI_yCRcP",
        "outputId": "babae020-34c2-4800-88a4-0ed8fb5dccc5"
      },
      "execution_count": null,
      "outputs": [
        {
          "output_type": "execute_result",
          "data": {
            "text/plain": [
              "Text(0, 0.5, 'Intensity')"
            ]
          },
          "metadata": {},
          "execution_count": 9
        },
        {
          "output_type": "display_data",
          "data": {
            "text/plain": [
              "<Figure size 432x288 with 1 Axes>"
            ],
            "image/png": "[encoded data removed]"
          },
          "metadata": {
            "needs_background": "light"
          }
        }
      ]
    },
    {
      "cell_type": "markdown",
      "source": [
        "Electronic density of states"
      ],
      "metadata": {
        "id": "i10EVi4oEVB1"
      }
    },
    {
      "cell_type": "code",
      "source": [
        "data[\"basic_info\"][\"main_relax_info\"][\"main_relax_dos\"].keys()"
      ],
      "metadata": {
        "colab": {
          "base_uri": "https://localhost:8080/"
        },
        "id": "fB760D-oDBIp",
        "outputId": "554f7d31-0895-444d-da50-1a05830b290e"
      },
      "execution_count": null,
      "outputs": [
        {
          "output_type": "execute_result",
          "data": {
            "text/plain": [
              "dict_keys(['edos_energies', 'total_edos_up', 'total_edos_down', 'spdf_dos', 'elemental_dos', 'fermi_velocities'])"
            ]
          },
          "metadata": {},
          "execution_count": 10
        }
      ]
    },
    {
      "cell_type": "code",
      "source": [
        "energies = np.array(data[\"basic_info\"][\"main_relax_info\"][\"main_relax_dos\"]['edos_energies'].strip('\"').strip(\"'\").split(','),dtype='float')\n",
        "total_edos_up = np.array(data[\"basic_info\"][\"main_relax_info\"][\"main_relax_dos\"]['total_edos_up'].strip('\"').strip(\"'\").split(','),dtype='float')\n",
        "total_edos_dn = np.array(data[\"basic_info\"][\"main_relax_info\"][\"main_relax_dos\"]['total_edos_down'].strip('\"').strip(\"'\").split(','),dtype='float')"
      ],
      "metadata": {
        "id": "er8nmz1GDDle"
      },
      "execution_count": null,
      "outputs": []
    },
    {
      "cell_type": "code",
      "source": [
        "plt.plot(energies,total_edos_up)\n",
        "plt.plot(energies,total_edos_dn)\n",
        "plt.ylabel('E-Ef (eV)')"
      ],
      "metadata": {
        "colab": {
          "base_uri": "https://localhost:8080/",
          "height": 283
        },
        "id": "ck1lDtJLEbm3",
        "outputId": "40cd4311-4408-4eb4-c57a-ed2fe4b60c7d"
      },
      "execution_count": null,
      "outputs": [
        {
          "output_type": "execute_result",
          "data": {
            "text/plain": [
              "Text(0, 0.5, 'E-Ef (eV)')"
            ]
          },
          "metadata": {},
          "execution_count": 12
        },
        {
          "output_type": "display_data",
          "data": {
            "text/plain": [
              "<Figure size 432x288 with 1 Axes>"
            ],
            "image/png": "[encoded data removed]"
          },
          "metadata": {
            "needs_background": "light"
          }
        }
      ]
    },
    {
      "cell_type": "markdown",
      "source": [
        "Frequency dependent dielectric fucntion"
      ],
      "metadata": {
        "id": "8968-WDlGeE7"
      }
    },
    {
      "cell_type": "code",
      "source": [
        "energies = np.array(data[\"basic_info\"][\"main_optics_mbj\"][\"main_optics_mbj_info\"][\"energies\"].strip('\"').strip(\"'\").split(\",\"),dtype=\"float\")\n",
        "real_part_xx = np.array(data[\"basic_info\"][\"main_optics_mbj\"][\"main_optics_mbj_info\"][\"real_1\"].strip('\"').strip(\"'\").split(\",\"),dtype=\"float\")\n",
        "plt.plot(energies,real_part_xx)\n",
        "plt.xlabel('Energy (eV)')\n",
        "plt.ylabel('Real $\\epsilon_{xx}$')\n",
        "plt.xlim([0,30])"
      ],
      "metadata": {
        "colab": {
          "base_uri": "https://localhost:8080/",
          "height": 297
        },
        "id": "QPvETnKJEyms",
        "outputId": "e1e6685d-55e6-4180-cfb9-4b9c37e88b67"
      },
      "execution_count": null,
      "outputs": [
        {
          "output_type": "execute_result",
          "data": {
            "text/plain": [
              "(0.0, 30.0)"
            ]
          },
          "metadata": {},
          "execution_count": 13
        },
        {
          "output_type": "display_data",
          "data": {
            "text/plain": [
              "<Figure size 432x288 with 1 Axes>"
            ],
            "image/png": "[encoded data removed]"
          },
          "metadata": {
            "needs_background": "light"
          }
        }
      ]
    },
    {
      "cell_type": "markdown",
      "source": [
        "Electronic bandstructure"
      ],
      "metadata": {
        "id": "UB9b1gQnHXje"
      }
    },
    {
      "cell_type": "code",
      "source": [
        "x = data[\"basic_info\"][\"main_band\"][\"main_bands_info\"][\"spin_up_bands_x\"].strip('\"').strip(\"'\").split(';')\n",
        "y = data[\"basic_info\"][\"main_band\"][\"main_bands_info\"][\"spin_up_bands_y\"].strip('\"').strip(\"'\").split(';')\n",
        "kp_labels = data[\"basic_info\"][\"main_band\"][\"main_bands_info\"]['kp_labels'].strip('\"').strip(\"'\").split(',')\n",
        "kp_labels_points = np.array(data[\"basic_info\"][\"main_band\"][\"main_bands_info\"]['kp_labels_points'].strip('\"').strip(\"'\").split(','),dtype='float')"
      ],
      "metadata": {
        "id": "1FlV0uKjHusi"
      },
      "execution_count": null,
      "outputs": []
    },
    {
      "cell_type": "code",
      "source": [
        "for i,j in zip(x,y):\n",
        "  plt.plot(np.array(i.split(','),dtype='float'),np.array(j.split(','),dtype='float'),'.',c='b')\n",
        "plt.ylabel('E-Ef (eV)')\n",
        "plt.ylim([-5,1])\n",
        "plt.xticks(kp_labels_points,kp_labels)\n",
        "plt.show()"
      ],
      "metadata": {
        "colab": {
          "base_uri": "https://localhost:8080/",
          "height": 269
        },
        "id": "S0vplYvmIBkm",
        "outputId": "18e7b910-cbc4-4249-c86b-e5b359dd346d"
      },
      "execution_count": null,
      "outputs": [
        {
          "output_type": "display_data",
          "data": {
            "text/plain": [
              "<Figure size 432x288 with 1 Axes>"
            ],
            "image/png": "[encoded data removed]"
          },
          "metadata": {
            "needs_background": "light"
          }
        }
      ]
    },
    {
      "cell_type": "markdown",
      "source": [
        "Elastic tensor and associated gamma-point phonons using finite difference method (ISIF = 3, IBRION =6)"
      ],
      "metadata": {
        "id": "rnctPWaEKJKs"
      }
    },
    {
      "cell_type": "code",
      "source": [
        "data[\"basic_info\"][\"main_elastic\"][\"main_elastic_info\"].keys()"
      ],
      "metadata": {
        "colab": {
          "base_uri": "https://localhost:8080/"
        },
        "id": "pvIAmg9vIVqo",
        "outputId": "546cd39a-d328-4709-f3aa-7eb734c2e98c"
      },
      "execution_count": null,
      "outputs": [
        {
          "output_type": "execute_result",
          "data": {
            "text/plain": [
              "dict_keys(['cij', 'voigt_bulk_modulus', 'voigt_shear_modulus', 'reuss_bulk_modulus', 'reuss_shear_modulus', 'poisson_ratio', 'youngs_modulus', 'universal_ansiotropy_ratio', 'unit_system', 'phonon_modes', 'min_fd_phonon_mode', 'phonon_dos_frequencies', 'phonon_dos_intensity', 'phonon_bandstructure_distances', 'phonon_bandstructure_frequencies', 'phonon_bandstructure_labels', 'phonon_bandstructure_label_points'])"
            ]
          },
          "metadata": {},
          "execution_count": 16
        }
      ]
    },
    {
      "cell_type": "code",
      "source": [
        "cij = np.array([i.split(',') for i in data[\"basic_info\"][\"main_elastic\"][\"main_elastic_info\"]['cij'].strip('\"').strip(\"'\").split(';')],dtype='float')"
      ],
      "metadata": {
        "id": "lDyMwG01KUXJ"
      },
      "execution_count": null,
      "outputs": []
    },
    {
      "cell_type": "code",
      "source": [
        "from jarvis.analysis.elastic.tensor import ElasticTensor\n",
        "et = ElasticTensor(et_tensor=cij)"
      ],
      "metadata": {
        "id": "gWP4ISW4KUUS"
      },
      "execution_count": null,
      "outputs": []
    },
    {
      "cell_type": "code",
      "source": [
        "et.to_dict()"
      ],
      "metadata": {
        "colab": {
          "base_uri": "https://localhost:8080/"
        },
        "id": "ScyoupEZKUR9",
        "outputId": "6945fd90-b563-4cd0-8194-bf2409466c33"
      },
      "execution_count": null,
      "outputs": [
        {
          "output_type": "execute_result",
          "data": {
            "text/plain": [
              "OrderedDict([('voigt_bulk_modulus', 305.20000000000005),\n",
              "             ('voigt_shear_modulus', 143.46),\n",
              "             ('reuss_bulk_modulus', 305.20000000000005),\n",
              "             ('reuss_shear_modulus', 142.86244823138028),\n",
              "             ('poisson_ratio', 0.29717633090228235),\n",
              "             ('youngs_modulus', 371410702851.74054),\n",
              "             ('universal_ansiotropy_ratio', 0.02091353522277295),\n",
              "             ('raw_et_tensor',\n",
              "              [[511.8, 201.9, 201.9, 0.0, 0.0, 0.0],\n",
              "               [201.9, 511.8, 201.9, 0.0, 0.0, 0.0],\n",
              "               [201.9, 201.9, 511.8, 0.0, 0.0, 0.0],\n",
              "               [0.0, 0.0, 0.0, 135.8, 0.0, 0.0],\n",
              "               [0.0, 0.0, 0.0, 0.0, 135.8, 0.0],\n",
              "               [0.0, 0.0, 0.0, 0.0, 0.0, 135.8]])])"
            ]
          },
          "metadata": {},
          "execution_count": 19
        }
      ]
    },
    {
      "cell_type": "code",
      "source": [
        "print ('Debye temp. K:', et.debye_temperature(atoms=atoms))"
      ],
      "metadata": {
        "colab": {
          "base_uri": "https://localhost:8080/"
        },
        "id": "_QXjC3irMjAk",
        "outputId": "61932baa-4840-40fa-fe22-48932245ab43"
      },
      "execution_count": null,
      "outputs": [
        {
          "output_type": "stream",
          "name": "stdout",
          "text": [
            "Debye temp. K: 361.95695568214165\n"
          ]
        }
      ]
    },
    {
      "cell_type": "markdown",
      "source": [
        "Raw input/output files"
      ],
      "metadata": {
        "id": "2u4hdCc2KLhX"
      }
    },
    {
      "cell_type": "code",
      "source": [
        "data['basic_info']['main_relax_info']['download_files'].strip('\"').strip(\"'\").split(',')"
      ],
      "metadata": {
        "colab": {
          "base_uri": "https://localhost:8080/"
        },
        "id": "r_8pujH2I_3P",
        "outputId": "30785c58-cd58-4ce0-9cb2-e3f54a31630c"
      },
      "execution_count": null,
      "outputs": [
        {
          "output_type": "execute_result",
          "data": {
            "text/plain": [
              "['FD-ELAST',\n",
              " 'JVASP-1044.zip',\n",
              " 'https://ndownloader.figshare.com/files/22975559;OPT-LOPTICS',\n",
              " 'JVASP-1044.zip',\n",
              " 'https://ndownloader.figshare.com/files/24035969;OPT-Bandst',\n",
              " 'JVASP-1044.zip',\n",
              " 'https://ndownloader.figshare.com/files/23713373;TBMBJ',\n",
              " 'JVASP-1044.zip',\n",
              " 'https://ndownloader.figshare.com/files/23572028;DFT-SCF',\n",
              " 'JVASP-1044.zip',\n",
              " 'https://ndownloader.figshare.com/files/23127353;WANN',\n",
              " 'JVASP-1044.zip',\n",
              " 'https://ndownloader.figshare.com/files/23102822;']"
            ]
          },
          "metadata": {},
          "execution_count": 21
        }
      ]
    },
    {
      "cell_type": "code",
      "source": [],
      "metadata": {
        "id": "95GYqG2hJHjV"
      },
      "execution_count": null,
      "outputs": []
    }
  ]
}