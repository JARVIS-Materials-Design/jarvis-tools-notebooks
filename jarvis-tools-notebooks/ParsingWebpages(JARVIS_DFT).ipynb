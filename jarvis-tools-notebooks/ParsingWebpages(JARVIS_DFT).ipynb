{
  "nbformat": 4,
  "nbformat_minor": 0,
  "metadata": {
    "colab": {
      "name": "ParsingWebpages(JARVIS-DFT).ipynb",
      "provenance": [],
      "authorship_tag": "ABX9TyPgmj/6cu9fYIzvSU6hRAKb",
      "include_colab_link": true
    },
    "kernelspec": {
      "name": "python3",
      "display_name": "Python 3"
    },
    "language_info": {
      "name": "python"
    }
  },
  "cells": [
    {
      "cell_type": "markdown",
      "metadata": {
        "id": "view-in-github",
        "colab_type": "text"
      },
      "source": [
        "<a href=\"https://colab.research.google.com/github/knc6/jarvis-tools-notebooks/blob/master/jarvis-tools-notebooks/ParsingWebpages(JARVIS_DFT).ipynb\" target=\"_parent\"><img src=\"https://colab.research.google.com/assets/colab-badge.svg\" alt=\"Open In Colab\"/></a>"
      ]
    },
    {
      "cell_type": "code",
      "execution_count": 1,
      "metadata": {
        "colab": {
          "base_uri": "https://localhost:8080/"
        },
        "id": "VnVuRWZe-K7y",
        "outputId": "06ec872a-e7af-467c-9359-2e2ac569f8b2"
      },
      "outputs": [
        {
          "output_type": "stream",
          "name": "stdout",
          "text": [
            "Looking in indexes: https://pypi.org/simple, https://us-python.pkg.dev/colab-wheels/public/simple/\n",
            "Requirement already satisfied: jarvis-tools in /usr/local/lib/python3.7/dist-packages (2022.5.20)\n",
            "Requirement already satisfied: tqdm>=4.41.1 in /usr/local/lib/python3.7/dist-packages (from jarvis-tools) (4.64.0)\n",
            "Requirement already satisfied: matplotlib>=3.0.0 in /usr/local/lib/python3.7/dist-packages (from jarvis-tools) (3.2.2)\n",
            "Requirement already satisfied: toolz>=0.9.0 in /usr/local/lib/python3.7/dist-packages (from jarvis-tools) (0.11.2)\n",
            "Requirement already satisfied: joblib>=0.14.1 in /usr/local/lib/python3.7/dist-packages (from jarvis-tools) (1.1.0)\n",
            "Requirement already satisfied: scipy>=1.4.1 in /usr/local/lib/python3.7/dist-packages (from jarvis-tools) (1.4.1)\n",
            "Requirement already satisfied: requests>=2.23.0 in /usr/local/lib/python3.7/dist-packages (from jarvis-tools) (2.23.0)\n",
            "Requirement already satisfied: spglib>=1.14.1 in /usr/local/lib/python3.7/dist-packages (from jarvis-tools) (1.16.5)\n",
            "Requirement already satisfied: xmltodict>=0.11.0 in /usr/local/lib/python3.7/dist-packages (from jarvis-tools) (0.13.0)\n",
            "Requirement already satisfied: numpy>=1.19.5 in /usr/local/lib/python3.7/dist-packages (from jarvis-tools) (1.21.6)\n",
            "Requirement already satisfied: kiwisolver>=1.0.1 in /usr/local/lib/python3.7/dist-packages (from matplotlib>=3.0.0->jarvis-tools) (1.4.3)\n",
            "Requirement already satisfied: cycler>=0.10 in /usr/local/lib/python3.7/dist-packages (from matplotlib>=3.0.0->jarvis-tools) (0.11.0)\n",
            "Requirement already satisfied: python-dateutil>=2.1 in /usr/local/lib/python3.7/dist-packages (from matplotlib>=3.0.0->jarvis-tools) (2.8.2)\n",
            "Requirement already satisfied: pyparsing!=2.0.4,!=2.1.2,!=2.1.6,>=2.0.1 in /usr/local/lib/python3.7/dist-packages (from matplotlib>=3.0.0->jarvis-tools) (3.0.9)\n",
            "Requirement already satisfied: typing-extensions in /usr/local/lib/python3.7/dist-packages (from kiwisolver>=1.0.1->matplotlib>=3.0.0->jarvis-tools) (4.1.1)\n",
            "Requirement already satisfied: six>=1.5 in /usr/local/lib/python3.7/dist-packages (from python-dateutil>=2.1->matplotlib>=3.0.0->jarvis-tools) (1.15.0)\n",
            "Requirement already satisfied: urllib3!=1.25.0,!=1.25.1,<1.26,>=1.21.1 in /usr/local/lib/python3.7/dist-packages (from requests>=2.23.0->jarvis-tools) (1.24.3)\n",
            "Requirement already satisfied: certifi>=2017.4.17 in /usr/local/lib/python3.7/dist-packages (from requests>=2.23.0->jarvis-tools) (2022.6.15)\n",
            "Requirement already satisfied: idna<3,>=2.5 in /usr/local/lib/python3.7/dist-packages (from requests>=2.23.0->jarvis-tools) (2.10)\n",
            "Requirement already satisfied: chardet<4,>=3.0.2 in /usr/local/lib/python3.7/dist-packages (from requests>=2.23.0->jarvis-tools) (3.0.4)\n"
          ]
        }
      ],
      "source": [
        "!pip install jarvis-tools"
      ]
    },
    {
      "cell_type": "code",
      "source": [
        "jid_example=\"JVASP-1044\"\n"
      ],
      "metadata": {
        "id": "Q-T8WWmP-NYe"
      },
      "execution_count": 2,
      "outputs": []
    },
    {
      "cell_type": "code",
      "source": [
        "from jarvis.db.webpages import Webpage\n",
        "w = Webpage(jid=jid_example)"
      ],
      "metadata": {
        "id": "fy5YQIWZ-Z4g"
      },
      "execution_count": 3,
      "outputs": []
    },
    {
      "cell_type": "code",
      "source": [
        "data = w.data\n",
        "print (data['basic_info'].keys())"
      ],
      "metadata": {
        "colab": {
          "base_uri": "https://localhost:8080/"
        },
        "id": "0RGgek_Q_UAa",
        "outputId": "d15188ac-8565-40f5-b1be-67f967cb879c"
      },
      "execution_count": 4,
      "outputs": [
        {
          "output_type": "stream",
          "name": "stdout",
          "text": [
            "dict_keys(['convergence_info', 'wannier_band_comparison', 'vacancy_formation_energy', 'raman_dat', 'main_relax_info', 'main_band', 'main_hse06_band', 'effective_mass', 'main_pbe0_band', 'main_optics_semilocal', 'main_optics_mbj', 'main_elastic', 'main_boltz', 'main_lepsilon_info', 'main_spillage_info', 'efg_raw_tensor', 'max_efg', 'max_efg_eta', 'main_stm_pos', 'main_stm_neg'])\n"
          ]
        }
      ]
    },
    {
      "cell_type": "markdown",
      "source": [
        "Here *data* contains the webpage information as nested key-value pairs. Note that these arrays could be in string format, so we convert them into floats before plotting etc.\n",
        "\n",
        "Only few examples are shown below:"
      ],
      "metadata": {
        "id": "gv7VMjFyF-V4"
      }
    },
    {
      "cell_type": "markdown",
      "source": [
        "Basic information table"
      ],
      "metadata": {
        "id": "IHMubGrrAgxv"
      }
    },
    {
      "cell_type": "code",
      "source": [
        "data['basic_info']['main_relax_info'].keys()"
      ],
      "metadata": {
        "colab": {
          "base_uri": "https://localhost:8080/"
        },
        "id": "Wdr7OU0N_2BV",
        "outputId": "a2cda7b1-e859-4c39-88d5-3e2fc48e2b1b"
      },
      "execution_count": 5,
      "outputs": [
        {
          "output_type": "execute_result",
          "data": {
            "text/plain": [
              "dict_keys(['source_folder', 'see_also', 'tmp_source_folder', 'id_file', 'tmp_id_file', 'ehull', 'data_source', 'tmp_data_source', 'material_type', 'tmp_material_type', 'exfoliation_energy', 'magmom', 'XRD', 'id', 'download_files', 'tmp_id', 'formula', 'tmp_formula', 'elements', 'tmp_elements', 'number_uniq_species', 'method', 'tmp_method', 'formation_energy', 'relaxed_energy', 'spacegroup_number', 'point_group_symbol', 'spg_space_group_symbol', 'crys_system', 'a_conv', 'b_conv', 'c_conv', 'alpha_conv', 'beta_conv', 'gamma_conv', 'a_prim', 'b_prim', 'c_prim', 'alpha_prim', 'beta_prim', 'gamma_prim', 'prim_natoms', 'conv_natoms', 'density', 'magnetization', 'total_charge', 'volume', 'packing_fr', 'xyz', 'poscar_conv', 'contcar', 'cif', 'cfid_descs', 'rdf_bins', 'rdf_hist', 'ang1_bins', 'ang1_hist', 'ang2_bins', 'ang2_hist', 'dihedral_bins', 'dihedral_hist', 'scf_indir_gap', 'scf_dir_gap', 'scf_indir_gap_cbm', 'scf_indir_gap_vbm', 'scf_indir_gap_tol', 'scf_indir_gap_tol_cbm', 'scf_indir_gap_tol_vbm', 'main_relax_dos'])"
            ]
          },
          "metadata": {},
          "execution_count": 5
        }
      ]
    },
    {
      "cell_type": "code",
      "source": [
        "print ('Formula:',data['basic_info']['main_relax_info']['formula'],', Spacegroup:',data['basic_info']['main_relax_info']['spg_space_group_symbol'])"
      ],
      "metadata": {
        "colab": {
          "base_uri": "https://localhost:8080/"
        },
        "id": "iZudc8YJAmxt",
        "outputId": "b8c581c4-fbe1-4170-856b-bf1c466e23ad"
      },
      "execution_count": 6,
      "outputs": [
        {
          "output_type": "stream",
          "name": "stdout",
          "text": [
            "Formula: W , Spacegroup: Im-3m\n"
          ]
        }
      ]
    },
    {
      "cell_type": "code",
      "source": [
        "from jarvis.io.vasp.inputs import Poscar\n",
        "pos=Poscar.from_string(data['basic_info']['main_relax_info']['contcar'].replace('\\\\n','\\n').strip('\"').strip(\"'\"))\n",
        "atoms=pos.atoms\n",
        "print (atoms)"
      ],
      "metadata": {
        "colab": {
          "base_uri": "https://localhost:8080/"
        },
        "id": "cqOTYusmA9F7",
        "outputId": "ab804de2-04ea-4ee2-8c70-acc1692b8cc6"
      },
      "execution_count": 7,
      "outputs": [
        {
          "output_type": "stream",
          "name": "stdout",
          "text": [
            "W\n",
            "1.0\n",
            "2.600569481053341 -5.76983845e-08 -0.9194402393314425\n",
            "-1.3002847874910006 2.2521588581359304 -0.9194402327940574\n",
            "-3.7970834e-08 -5.67938908e-08 2.7583206110535285\n",
            "W\n",
            "1\n",
            "Cartesian\n",
            "-1.0245827440000026e-12 1.8844273152e-11 1.0255525703999999e-11\n",
            "\n"
          ]
        }
      ]
    },
    {
      "cell_type": "markdown",
      "source": [
        "XRD information"
      ],
      "metadata": {
        "id": "TtyGg_MSDbP3"
      }
    },
    {
      "cell_type": "code",
      "source": [
        "data[\"basic_info\"][\"main_relax_info\"][\"XRD\"].keys()"
      ],
      "metadata": {
        "colab": {
          "base_uri": "https://localhost:8080/"
        },
        "id": "jGiRkba8Bqpz",
        "outputId": "45556348-7c59-4482-bfe1-4c405eaf30ac"
      },
      "execution_count": 8,
      "outputs": [
        {
          "output_type": "execute_result",
          "data": {
            "text/plain": [
              "dict_keys(['two_thetas', 'd_hkls', 'intensities'])"
            ]
          },
          "metadata": {},
          "execution_count": 8
        }
      ]
    },
    {
      "cell_type": "code",
      "source": [
        "import matplotlib.pyplot as plt\n",
        "%matplotlib inline\n",
        "import numpy as np\n",
        "two_theta = np.array(data[\"basic_info\"][\"main_relax_info\"][\"XRD\"]['two_thetas'].strip('\"').strip(\"'\").split(\",\"),dtype='float')\n",
        "ints = np.array(data[\"basic_info\"][\"main_relax_info\"][\"XRD\"]['intensities'].strip('\"').strip(\"'\").split(\",\"),dtype='float')\n",
        "plt.bar(two_theta,ints)\n",
        "plt.xlabel('2$\\\\theta$')\n",
        "plt.ylabel('Intensity')"
      ],
      "metadata": {
        "colab": {
          "base_uri": "https://localhost:8080/",
          "height": 299
        },
        "id": "PY0oXI_yCRcP",
        "outputId": "babae020-34c2-4800-88a4-0ed8fb5dccc5"
      },
      "execution_count": 9,
      "outputs": [
        {
          "output_type": "execute_result",
          "data": {
            "text/plain": [
              "Text(0, 0.5, 'Intensity')"
            ]
          },
          "metadata": {},
          "execution_count": 9
        },
        {
          "output_type": "display_data",
          "data": {
            "text/plain": [
              "<Figure size 432x288 with 1 Axes>"
            ],
            "image/png": "[encoded data removed]"
          },
          "metadata": {
            "needs_background": "light"
          }
        }
      ]
    },
    {
      "cell_type": "markdown",
      "source": [
        "Electronic density of states"
      ],
      "metadata": {
        "id": "i10EVi4oEVB1"
      }
    },
    {
      "cell_type": "code",
      "source": [
        "data[\"basic_info\"][\"main_relax_info\"][\"main_relax_dos\"].keys()"
      ],
      "metadata": {
        "colab": {
          "base_uri": "https://localhost:8080/"
        },
        "id": "fB760D-oDBIp",
        "outputId": "554f7d31-0895-444d-da50-1a05830b290e"
      },
      "execution_count": 10,
      "outputs": [
        {
          "output_type": "execute_result",
          "data": {
            "text/plain": [
              "dict_keys(['edos_energies', 'total_edos_up', 'total_edos_down', 'spdf_dos', 'elemental_dos', 'fermi_velocities'])"
            ]
          },
          "metadata": {},
          "execution_count": 10
        }
      ]
    },
    {
      "cell_type": "code",
      "source": [
        "energies = np.array(data[\"basic_info\"][\"main_relax_info\"][\"main_relax_dos\"]['edos_energies'].strip('\"').strip(\"'\").split(','),dtype='float')\n",
        "total_edos_up = np.array(data[\"basic_info\"][\"main_relax_info\"][\"main_relax_dos\"]['total_edos_up'].strip('\"').strip(\"'\").split(','),dtype='float')\n",
        "total_edos_dn = np.array(data[\"basic_info\"][\"main_relax_info\"][\"main_relax_dos\"]['total_edos_down'].strip('\"').strip(\"'\").split(','),dtype='float')"
      ],
      "metadata": {
        "id": "er8nmz1GDDle"
      },
      "execution_count": 11,
      "outputs": []
    },
    {
      "cell_type": "code",
      "source": [
        "plt.plot(energies,total_edos_up)\n",
        "plt.plot(energies,total_edos_dn)\n",
        "plt.ylabel('E-Ef (eV)')"
      ],
      "metadata": {
        "colab": {
          "base_uri": "https://localhost:8080/",
          "height": 283
        },
        "id": "ck1lDtJLEbm3",
        "outputId": "40cd4311-4408-4eb4-c57a-ed2fe4b60c7d"
      },
      "execution_count": 12,
      "outputs": [
        {
          "output_type": "execute_result",
          "data": {
            "text/plain": [
              "Text(0, 0.5, 'E-Ef (eV)')"
            ]
          },
          "metadata": {},
          "execution_count": 12
        },
        {
          "output_type": "display_data",
          "data": {
            "text/plain": [
              "<Figure size 432x288 with 1 Axes>"
            ],
            "image/png": "[encoded data removed]"
          },
          "metadata": {
            "needs_background": "light"
          }
        }
      ]
    },
    {
      "cell_type": "markdown",
      "source": [
        "Frequency dependent dielectric fucntion"
      ],
      "metadata": {
        "id": "8968-WDlGeE7"
      }
    },
    {
      "cell_type": "code",
      "source": [
        "energies = np.array(data[\"basic_info\"][\"main_optics_mbj\"][\"main_optics_mbj_info\"][\"energies\"].strip('\"').strip(\"'\").split(\",\"),dtype=\"float\")\n",
        "real_part_xx = np.array(data[\"basic_info\"][\"main_optics_mbj\"][\"main_optics_mbj_info\"][\"real_1\"].strip('\"').strip(\"'\").split(\",\"),dtype=\"float\")\n",
        "plt.plot(energies,real_part_xx)\n",
        "plt.xlabel('Energy (eV)')\n",
        "plt.ylabel('Real $\\epsilon_{xx}$')\n",
        "plt.xlim([0,30])"
      ],
      "metadata": {
        "colab": {
          "base_uri": "https://localhost:8080/",
          "height": 297
        },
        "id": "QPvETnKJEyms",
        "outputId": "e1e6685d-55e6-4180-cfb9-4b9c37e88b67"
      },
      "execution_count": 13,
      "outputs": [
        {
          "output_type": "execute_result",
          "data": {
            "text/plain": [
              "(0.0, 30.0)"
            ]
          },
          "metadata": {},
          "execution_count": 13
        },
        {
          "output_type": "display_data",
          "data": {
            "text/plain": [
              "<Figure size 432x288 with 1 Axes>"
            ],
            "image/png": "[encoded data removed]"
          },
          "metadata": {
            "needs_background": "light"
          }
        }
      ]
    },
    {
      "cell_type": "markdown",
      "source": [
        "Electronic bandstructure"
      ],
      "metadata": {
        "id": "UB9b1gQnHXje"
      }
    },
    {
      "cell_type": "code",
      "source": [
        "x = data[\"basic_info\"][\"main_band\"][\"main_bands_info\"][\"spin_up_bands_x\"].strip('\"').strip(\"'\").split(';')\n",
        "y = data[\"basic_info\"][\"main_band\"][\"main_bands_info\"][\"spin_up_bands_y\"].strip('\"').strip(\"'\").split(';')\n",
        "kp_labels = data[\"basic_info\"][\"main_band\"][\"main_bands_info\"]['kp_labels'].strip('\"').strip(\"'\").split(',')\n",
        "kp_labels_points = np.array(data[\"basic_info\"][\"main_band\"][\"main_bands_info\"]['kp_labels_points'].strip('\"').strip(\"'\").split(','),dtype='float')"
      ],
      "metadata": {
        "id": "1FlV0uKjHusi"
      },
      "execution_count": 14,
      "outputs": []
    },
    {
      "cell_type": "code",
      "source": [
        "for i,j in zip(x,y):\n",
        "  plt.plot(np.array(i.split(','),dtype='float'),np.array(j.split(','),dtype='float'),'.',c='b')\n",
        "plt.ylabel('E-Ef (eV)')\n",
        "plt.ylim([-5,1])\n",
        "plt.xticks(kp_labels_points,kp_labels)\n",
        "plt.show()"
      ],
      "metadata": {
        "colab": {
          "base_uri": "https://localhost:8080/",
          "height": 269
        },
        "id": "S0vplYvmIBkm",
        "outputId": "18e7b910-cbc4-4249-c86b-e5b359dd346d"
      },
      "execution_count": 15,
      "outputs": [
        {
          "output_type": "display_data",
          "data": {
            "text/plain": [
              "<Figure size 432x288 with 1 Axes>"
            ],
            "image/png": "[encoded data removed]"
          },
          "metadata": {
            "needs_background": "light"
          }
        }
      ]
    },
    {
      "cell_type": "markdown",
      "source": [
        "Elastic tensor and associated gamma-point phonons using finite difference method (ISIF = 3, IBRION =6)"
      ],
      "metadata": {
        "id": "rnctPWaEKJKs"
      }
    },
    {
      "cell_type": "code",
      "source": [
        "data[\"basic_info\"][\"main_elastic\"][\"main_elastic_info\"].keys()"
      ],
      "metadata": {
        "colab": {
          "base_uri": "https://localhost:8080/"
        },
        "id": "pvIAmg9vIVqo",
        "outputId": "546cd39a-d328-4709-f3aa-7eb734c2e98c"
      },
      "execution_count": 16,
      "outputs": [
        {
          "output_type": "execute_result",
          "data": {
            "text/plain": [
              "dict_keys(['cij', 'voigt_bulk_modulus', 'voigt_shear_modulus', 'reuss_bulk_modulus', 'reuss_shear_modulus', 'poisson_ratio', 'youngs_modulus', 'universal_ansiotropy_ratio', 'unit_system', 'phonon_modes', 'min_fd_phonon_mode', 'phonon_dos_frequencies', 'phonon_dos_intensity', 'phonon_bandstructure_distances', 'phonon_bandstructure_frequencies', 'phonon_bandstructure_labels', 'phonon_bandstructure_label_points'])"
            ]
          },
          "metadata": {},
          "execution_count": 16
        }
      ]
    },
    {
      "cell_type": "code",
      "source": [
        "cij = np.array([i.split(',') for i in data[\"basic_info\"][\"main_elastic\"][\"main_elastic_info\"]['cij'].strip('\"').strip(\"'\").split(';')],dtype='float')"
      ],
      "metadata": {
        "id": "lDyMwG01KUXJ"
      },
      "execution_count": 17,
      "outputs": []
    },
    {
      "cell_type": "code",
      "source": [
        "from jarvis.analysis.elastic.tensor import ElasticTensor\n",
        "et = ElasticTensor(et_tensor=cij)"
      ],
      "metadata": {
        "id": "gWP4ISW4KUUS"
      },
      "execution_count": 18,
      "outputs": []
    },
    {
      "cell_type": "code",
      "source": [
        "et.to_dict()"
      ],
      "metadata": {
        "colab": {
          "base_uri": "https://localhost:8080/"
        },
        "id": "ScyoupEZKUR9",
        "outputId": "6945fd90-b563-4cd0-8194-bf2409466c33"
      },
      "execution_count": 19,
      "outputs": [
        {
          "output_type": "execute_result",
          "data": {
            "text/plain": [
              "OrderedDict([('voigt_bulk_modulus', 305.20000000000005),\n",
              "             ('voigt_shear_modulus', 143.46),\n",
              "             ('reuss_bulk_modulus', 305.20000000000005),\n",
              "             ('reuss_shear_modulus', 142.86244823138028),\n",
              "             ('poisson_ratio', 0.29717633090228235),\n",
              "             ('youngs_modulus', 371410702851.74054),\n",
              "             ('universal_ansiotropy_ratio', 0.02091353522277295),\n",
              "             ('raw_et_tensor',\n",
              "              [[511.8, 201.9, 201.9, 0.0, 0.0, 0.0],\n",
              "               [201.9, 511.8, 201.9, 0.0, 0.0, 0.0],\n",
              "               [201.9, 201.9, 511.8, 0.0, 0.0, 0.0],\n",
              "               [0.0, 0.0, 0.0, 135.8, 0.0, 0.0],\n",
              "               [0.0, 0.0, 0.0, 0.0, 135.8, 0.0],\n",
              "               [0.0, 0.0, 0.0, 0.0, 0.0, 135.8]])])"
            ]
          },
          "metadata": {},
          "execution_count": 19
        }
      ]
    },
    {
      "cell_type": "code",
      "source": [
        "print ('Debye temp. K:', et.debye_temperature(atoms=atoms))"
      ],
      "metadata": {
        "colab": {
          "base_uri": "https://localhost:8080/"
        },
        "id": "_QXjC3irMjAk",
        "outputId": "61932baa-4840-40fa-fe22-48932245ab43"
      },
      "execution_count": 20,
      "outputs": [
        {
          "output_type": "stream",
          "name": "stdout",
          "text": [
            "Debye temp. K: 361.95695568214165\n"
          ]
        }
      ]
    },
    {
      "cell_type": "markdown",
      "source": [
        "Raw input/output files"
      ],
      "metadata": {
        "id": "2u4hdCc2KLhX"
      }
    },
    {
      "cell_type": "code",
      "source": [
        "data['basic_info']['main_relax_info']['download_files'].strip('\"').strip(\"'\").split(',')"
      ],
      "metadata": {
        "colab": {
          "base_uri": "https://localhost:8080/"
        },
        "id": "r_8pujH2I_3P",
        "outputId": "30785c58-cd58-4ce0-9cb2-e3f54a31630c"
      },
      "execution_count": 21,
      "outputs": [
        {
          "output_type": "execute_result",
          "data": {
            "text/plain": [
              "['FD-ELAST',\n",
              " 'JVASP-1044.zip',\n",
              " 'https://ndownloader.figshare.com/files/22975559;OPT-LOPTICS',\n",
              " 'JVASP-1044.zip',\n",
              " 'https://ndownloader.figshare.com/files/24035969;OPT-Bandst',\n",
              " 'JVASP-1044.zip',\n",
              " 'https://ndownloader.figshare.com/files/23713373;TBMBJ',\n",
              " 'JVASP-1044.zip',\n",
              " 'https://ndownloader.figshare.com/files/23572028;DFT-SCF',\n",
              " 'JVASP-1044.zip',\n",
              " 'https://ndownloader.figshare.com/files/23127353;WANN',\n",
              " 'JVASP-1044.zip',\n",
              " 'https://ndownloader.figshare.com/files/23102822;']"
            ]
          },
          "metadata": {},
          "execution_count": 21
        }
      ]
    },
    {
      "cell_type": "code",
      "source": [
        ""
      ],
      "metadata": {
        "id": "95GYqG2hJHjV"
      },
      "execution_count": 21,
      "outputs": []
    }
  ]
}