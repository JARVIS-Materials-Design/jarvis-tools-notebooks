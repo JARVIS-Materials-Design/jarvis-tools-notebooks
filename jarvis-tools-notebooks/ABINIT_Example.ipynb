{
  "nbformat": 4,
  "nbformat_minor": 0,
  "metadata": {
    "colab": {
      "provenance": [],
      "authorship_tag": "ABX9TyN7/BxcES5NSpfH/BJt7+B5",
      "include_colab_link": true
    },
    "kernelspec": {
      "name": "python3",
      "display_name": "Python 3"
    },
    "language_info": {
      "name": "python"
    }
  },
  "cells": [
    {
      "cell_type": "markdown",
      "metadata": {
        "id": "view-in-github",
        "colab_type": "text"
      },
      "source": [
        "<a href=\"https://colab.research.google.com/github/knc6/jarvis-tools-notebooks/blob/master/jarvis-tools-notebooks/ABINIT_Example.ipynb\" target=\"_parent\"><img src=\"https://colab.research.google.com/assets/colab-badge.svg\" alt=\"Open In Colab\"/></a>"
      ]
    },
    {
      "cell_type": "code",
      "source": [
        "!pip install -q condacolab\n",
        "import condacolab\n",
        "condacolab.install()"
      ],
      "metadata": {
        "id": "t4XItGF5g9cN",
        "outputId": "1c959a74-3825-4606-d4b0-bdb2079f5c42",
        "colab": {
          "base_uri": "https://localhost:8080/"
        }
      },
      "execution_count": 1,
      "outputs": [
        {
          "output_type": "stream",
          "name": "stdout",
          "text": [
            "⏬ Downloading https://github.com/conda-forge/miniforge/releases/download/23.11.0-0/Mambaforge-23.11.0-0-Linux-x86_64.sh...\n",
            "📦 Installing...\n",
            "📌 Adjusting configuration...\n",
            "🩹 Patching environment...\n",
            "⏲ Done in 0:00:15\n",
            "🔁 Restarting kernel...\n"
          ]
        }
      ]
    },
    {
      "cell_type": "code",
      "source": [
        "!conda --version"
      ],
      "metadata": {
        "id": "9PbcnhzzhI5x",
        "outputId": "f1c90f89-90e3-4304-b399-507bceccfdd0",
        "colab": {
          "base_uri": "https://localhost:8080/"
        }
      },
      "execution_count": 2,
      "outputs": [
        {
          "output_type": "stream",
          "name": "stdout",
          "text": [
            "conda 23.11.0\n"
          ]
        }
      ]
    },
    {
      "cell_type": "code",
      "source": [
        "import condacolab\n",
        "condacolab.check()"
      ],
      "metadata": {
        "id": "zQES7T_FhNp5",
        "outputId": "2503594f-8b90-490f-f798-30129c8aa677",
        "colab": {
          "base_uri": "https://localhost:8080/"
        }
      },
      "execution_count": 3,
      "outputs": [
        {
          "output_type": "stream",
          "name": "stdout",
          "text": [
            "✨🍰✨ Everything looks OK!\n"
          ]
        }
      ]
    },
    {
      "cell_type": "code",
      "source": [
        "!conda install pandas numpy matplotlib abinit abipy --quiet"
      ],
      "metadata": {
        "id": "yqm103RuhPiO",
        "outputId": "729db7c3-2dce-4f9b-b534-e6419a3acb6f",
        "colab": {
          "base_uri": "https://localhost:8080/"
        }
      },
      "execution_count": 6,
      "outputs": [
        {
          "output_type": "stream",
          "name": "stdout",
          "text": [
            "Channels:\n",
            " - conda-forge\n",
            "Platform: linux-64\n",
            "Collecting package metadata (repodata.json): ...working... done\n",
            "Solving environment: ...working... done\n",
            "\n",
            "## Package Plan ##\n",
            "\n",
            "  environment location: /usr/local\n",
            "\n",
            "  added / updated specs:\n",
            "    - abinit\n",
            "    - abipy\n",
            "    - matplotlib\n",
            "    - numpy\n",
            "    - pandas\n",
            "\n",
            "\n",
            "The following packages will be downloaded:\n",
            "\n",
            "    package                    |            build\n",
            "    ---------------------------|-----------------\n",
            "    abipy-0.9.7                |     pyhd8ed1ab_0        11.7 MB  conda-forge\n",
            "    apscheduler-3.10.4         |     pyhd8ed1ab_0          45 KB  conda-forge\n",
            "    asttokens-2.4.1            |     pyhd8ed1ab_0          28 KB  conda-forge\n",
            "    cftime-1.6.3               |  py310h1f7b6fc_0         241 KB  conda-forge\n",
            "    chart-studio-1.1.0         |     pyh9f0ad1d_0          51 KB  conda-forge\n",
            "    click-8.1.7                |unix_pyh707e725_0          82 KB  conda-forge\n",
            "    decorator-5.1.1            |     pyhd8ed1ab_0          12 KB  conda-forge\n",
            "    exceptiongroup-1.2.0       |     pyhd8ed1ab_2          20 KB  conda-forge\n",
            "    executing-2.0.1            |     pyhd8ed1ab_0          27 KB  conda-forge\n",
            "    future-1.0.0               |     pyhd8ed1ab_0         356 KB  conda-forge\n",
            "    gmp-6.3.0                  |       h59595ed_1         556 KB  conda-forge\n",
            "    gmpy2-2.1.2                |  py310h3ec546c_1         215 KB  conda-forge\n",
            "    importlib-metadata-7.1.0   |     pyha770c72_0          26 KB  conda-forge\n",
            "    ipython-8.22.2             |     pyh707e725_0         580 KB  conda-forge\n",
            "    jedi-0.19.1                |     pyhd8ed1ab_0         822 KB  conda-forge\n",
            "    joblib-1.3.2               |     pyhd8ed1ab_0         216 KB  conda-forge\n",
            "    latexcodec-2.0.1           |     pyh9f0ad1d_0          18 KB  conda-forge\n",
            "    matplotlib-inline-0.1.6    |     pyhd8ed1ab_0          12 KB  conda-forge\n",
            "    monty-2024.2.26            |     pyhd8ed1ab_0          40 KB  conda-forge\n",
            "    mpc-1.3.1                  |       hfe3b2da_0         114 KB  conda-forge\n",
            "    mpfr-4.2.1                 |       h9458935_0         626 KB  conda-forge\n",
            "    mpmath-1.3.0               |     pyhd8ed1ab_0         428 KB  conda-forge\n",
            "    netcdf4-1.6.5              |nompi_py310hba70d50_100         537 KB  conda-forge\n",
            "    networkx-3.2.1             |     pyhd8ed1ab_0         1.1 MB  conda-forge\n",
            "    palettable-3.3.3           |     pyhd8ed1ab_0          79 KB  conda-forge\n",
            "    parso-0.8.3                |     pyhd8ed1ab_0          69 KB  conda-forge\n",
            "    patsy-0.5.6                |     pyhd8ed1ab_0         183 KB  conda-forge\n",
            "    pexpect-4.9.0              |     pyhd8ed1ab_0          52 KB  conda-forge\n",
            "    pickleshare-0.7.5          |          py_1003           9 KB  conda-forge\n",
            "    plotly-5.19.0              |     pyhd8ed1ab_0         5.8 MB  conda-forge\n",
            "    prompt-toolkit-3.0.42      |     pyha770c72_0         264 KB  conda-forge\n",
            "    ptyprocess-0.7.0           |     pyhd3deb0d_0          16 KB  conda-forge\n",
            "    pure_eval-0.2.2            |     pyhd8ed1ab_0          14 KB  conda-forge\n",
            "    pybtex-0.24.0              |     pyhd8ed1ab_2          71 KB  conda-forge\n",
            "    pydispatcher-2.0.5         |             py_1          12 KB  conda-forge\n",
            "    pygments-2.17.2            |     pyhd8ed1ab_0         840 KB  conda-forge\n",
            "    pymatgen-2024.3.1          |  py310h1f7b6fc_0         7.3 MB  conda-forge\n",
            "    pyyaml-6.0.1               |  py310h2372a71_1         167 KB  conda-forge\n",
            "    retrying-1.3.3             |             py_2          11 KB  conda-forge\n",
            "    scipy-1.12.0               |  py310hb13e2d6_2        15.7 MB  conda-forge\n",
            "    seaborn-0.13.2             |       hd8ed1ab_0           7 KB  conda-forge\n",
            "    seaborn-base-0.13.2        |     pyhd8ed1ab_0         229 KB  conda-forge\n",
            "    spglib-2.3.1               |  py310h9950d53_0         617 KB  conda-forge\n",
            "    stack_data-0.6.2           |     pyhd8ed1ab_0          26 KB  conda-forge\n",
            "    statsmodels-0.14.1         |  py310h1f7b6fc_0        10.5 MB  conda-forge\n",
            "    sympy-1.12                 | pypyh9d50eac_103         4.1 MB  conda-forge\n",
            "    tabulate-0.9.0             |     pyhd8ed1ab_1          35 KB  conda-forge\n",
            "    tenacity-8.2.3             |     pyhd8ed1ab_0          22 KB  conda-forge\n",
            "    traitlets-5.14.2           |     pyhd8ed1ab_0         108 KB  conda-forge\n",
            "    typing_extensions-4.10.0   |     pyha770c72_0          36 KB  conda-forge\n",
            "    tzlocal-5.2                |  py310hff52083_0          35 KB  conda-forge\n",
            "    uncertainties-3.1.7        |     pyhd8ed1ab_0          76 KB  conda-forge\n",
            "    wcwidth-0.2.13             |     pyhd8ed1ab_0          32 KB  conda-forge\n",
            "    yaml-0.2.5                 |       h7f98852_2          87 KB  conda-forge\n",
            "    zipp-3.17.0                |     pyhd8ed1ab_0          19 KB  conda-forge\n",
            "    ------------------------------------------------------------\n",
            "                                           Total:        64.2 MB\n",
            "\n",
            "The following NEW packages will be INSTALLED:\n",
            "\n",
            "  abipy              conda-forge/noarch::abipy-0.9.7-pyhd8ed1ab_0 \n",
            "  apscheduler        conda-forge/noarch::apscheduler-3.10.4-pyhd8ed1ab_0 \n",
            "  asttokens          conda-forge/noarch::asttokens-2.4.1-pyhd8ed1ab_0 \n",
            "  cftime             conda-forge/linux-64::cftime-1.6.3-py310h1f7b6fc_0 \n",
            "  chart-studio       conda-forge/noarch::chart-studio-1.1.0-pyh9f0ad1d_0 \n",
            "  click              conda-forge/noarch::click-8.1.7-unix_pyh707e725_0 \n",
            "  decorator          conda-forge/noarch::decorator-5.1.1-pyhd8ed1ab_0 \n",
            "  exceptiongroup     conda-forge/noarch::exceptiongroup-1.2.0-pyhd8ed1ab_2 \n",
            "  executing          conda-forge/noarch::executing-2.0.1-pyhd8ed1ab_0 \n",
            "  future             conda-forge/noarch::future-1.0.0-pyhd8ed1ab_0 \n",
            "  gmp                conda-forge/linux-64::gmp-6.3.0-h59595ed_1 \n",
            "  gmpy2              conda-forge/linux-64::gmpy2-2.1.2-py310h3ec546c_1 \n",
            "  importlib-metadata conda-forge/noarch::importlib-metadata-7.1.0-pyha770c72_0 \n",
            "  ipython            conda-forge/noarch::ipython-8.22.2-pyh707e725_0 \n",
            "  jedi               conda-forge/noarch::jedi-0.19.1-pyhd8ed1ab_0 \n",
            "  joblib             conda-forge/noarch::joblib-1.3.2-pyhd8ed1ab_0 \n",
            "  latexcodec         conda-forge/noarch::latexcodec-2.0.1-pyh9f0ad1d_0 \n",
            "  matplotlib-inline  conda-forge/noarch::matplotlib-inline-0.1.6-pyhd8ed1ab_0 \n",
            "  monty              conda-forge/noarch::monty-2024.2.26-pyhd8ed1ab_0 \n",
            "  mpc                conda-forge/linux-64::mpc-1.3.1-hfe3b2da_0 \n",
            "  mpfr               conda-forge/linux-64::mpfr-4.2.1-h9458935_0 \n",
            "  mpmath             conda-forge/noarch::mpmath-1.3.0-pyhd8ed1ab_0 \n",
            "  netcdf4            conda-forge/linux-64::netcdf4-1.6.5-nompi_py310hba70d50_100 \n",
            "  networkx           conda-forge/noarch::networkx-3.2.1-pyhd8ed1ab_0 \n",
            "  palettable         conda-forge/noarch::palettable-3.3.3-pyhd8ed1ab_0 \n",
            "  parso              conda-forge/noarch::parso-0.8.3-pyhd8ed1ab_0 \n",
            "  patsy              conda-forge/noarch::patsy-0.5.6-pyhd8ed1ab_0 \n",
            "  pexpect            conda-forge/noarch::pexpect-4.9.0-pyhd8ed1ab_0 \n",
            "  pickleshare        conda-forge/noarch::pickleshare-0.7.5-py_1003 \n",
            "  plotly             conda-forge/noarch::plotly-5.19.0-pyhd8ed1ab_0 \n",
            "  prompt-toolkit     conda-forge/noarch::prompt-toolkit-3.0.42-pyha770c72_0 \n",
            "  ptyprocess         conda-forge/noarch::ptyprocess-0.7.0-pyhd3deb0d_0 \n",
            "  pure_eval          conda-forge/noarch::pure_eval-0.2.2-pyhd8ed1ab_0 \n",
            "  pybtex             conda-forge/noarch::pybtex-0.24.0-pyhd8ed1ab_2 \n",
            "  pydispatcher       conda-forge/noarch::pydispatcher-2.0.5-py_1 \n",
            "  pygments           conda-forge/noarch::pygments-2.17.2-pyhd8ed1ab_0 \n",
            "  pymatgen           conda-forge/linux-64::pymatgen-2024.3.1-py310h1f7b6fc_0 \n",
            "  pyyaml             conda-forge/linux-64::pyyaml-6.0.1-py310h2372a71_1 \n",
            "  retrying           conda-forge/noarch::retrying-1.3.3-py_2 \n",
            "  scipy              conda-forge/linux-64::scipy-1.12.0-py310hb13e2d6_2 \n",
            "  seaborn            conda-forge/noarch::seaborn-0.13.2-hd8ed1ab_0 \n",
            "  seaborn-base       conda-forge/noarch::seaborn-base-0.13.2-pyhd8ed1ab_0 \n",
            "  spglib             conda-forge/linux-64::spglib-2.3.1-py310h9950d53_0 \n",
            "  stack_data         conda-forge/noarch::stack_data-0.6.2-pyhd8ed1ab_0 \n",
            "  statsmodels        conda-forge/linux-64::statsmodels-0.14.1-py310h1f7b6fc_0 \n",
            "  sympy              conda-forge/noarch::sympy-1.12-pypyh9d50eac_103 \n",
            "  tabulate           conda-forge/noarch::tabulate-0.9.0-pyhd8ed1ab_1 \n",
            "  tenacity           conda-forge/noarch::tenacity-8.2.3-pyhd8ed1ab_0 \n",
            "  traitlets          conda-forge/noarch::traitlets-5.14.2-pyhd8ed1ab_0 \n",
            "  typing_extensions  conda-forge/noarch::typing_extensions-4.10.0-pyha770c72_0 \n",
            "  tzlocal            conda-forge/linux-64::tzlocal-5.2-py310hff52083_0 \n",
            "  uncertainties      conda-forge/noarch::uncertainties-3.1.7-pyhd8ed1ab_0 \n",
            "  wcwidth            conda-forge/noarch::wcwidth-0.2.13-pyhd8ed1ab_0 \n",
            "  yaml               conda-forge/linux-64::yaml-0.2.5-h7f98852_2 \n",
            "  zipp               conda-forge/noarch::zipp-3.17.0-pyhd8ed1ab_0 \n",
            "\n",
            "\n",
            "Preparing transaction: ...working... done\n",
            "Verifying transaction: ...working... done\n",
            "Executing transaction: ...working... done\n"
          ]
        }
      ]
    },
    {
      "cell_type": "code",
      "source": [
        "#https://abinit.github.io/abipy_book/base1/lesson_base1.html"
      ],
      "metadata": {
        "id": "GIXfvsDJkBxl"
      },
      "execution_count": 31,
      "outputs": []
    },
    {
      "cell_type": "code",
      "source": [
        "!abinit -h"
      ],
      "metadata": {
        "id": "YeIRUKQnh4Ma",
        "outputId": "814aaec0-a0c9-4a68-828f-4d63078837ff",
        "colab": {
          "base_uri": "https://localhost:8080/"
        }
      },
      "execution_count": 8,
      "outputs": [
        {
          "output_type": "stream",
          "name": "stdout",
          "text": [
            " -v, --version              Show version number and exit.\n",
            " -b, --build                Show build parameters and exit.\n",
            " -d, --dry-run              Validate input file and exit.\n",
            " -j, --omp-num-threads      Set the number of OpenMp threads.\n",
            " --use-xgemm3m[=yesno]      Use ZGEMM3M routines instead of ZGEMM. Default: no \n",
            " --use-mpi-in-place[=yesno] Enable/disable usage of MPI_IN_PLACE in e.g. xmpi_sum. Default: no\n",
            "                            Note that some MPI libs e.g. intel-mpi may not implement this feature\n",
            "                            correctly so it is adviced to test this option with e.g. structural\n",
            "                            relaxations before running production calculations.\n",
            " --ipi                      Activate socket-driven calculation using i-pi protocol.\n",
            "                            For UNIX socket, use: --ipi {unixsocket}:UNIX\n",
            "                            For INET socket, use  --ipi {host}:{port}. Usage example:\n",
            "                            `abinit run.abi --ipi {unixsocket}:UNIX > run.log`\n",
            "                            NB: Requires ionmov 28 and some tuning of input variables. See:\n",
            "                            https://wiki.fysik.dtu.dk/ase/dev/ase/calculators/socketio/socketio.html\n",
            " --log                      Enable log files and status files in parallel execution.\n",
            " --netcdf-classic           Use netcdf classic mode for new files if parallel-IO is not needed.\n",
            "                            Default is netcdf4/hdf5\n",
            " --enforce-fortran-io       Use Fortran-IO instead of MPI-IO when operating on Fortran files\n",
            "                            Useful to read files when the MPI-IO library is not efficient.\n",
            "                            DON'T USE this option when the code needs to write large files e.g. WFK\n",
            " -t, --timelimit            Set the timelimit for the run. Accepts time in Slurm notation:\n",
            "                                days-hours\n",
            "                                days-hours:minutes\n",
            "                                days-hours:minutes:seconds\n",
            "                                minutes\n",
            "                                minutes:seconds\n",
            "                                hours:minutes:seconds\n",
            "                            At present only GS, relaxations and MD runs support this option\n",
            " --verbose                  Enable verbose mode in argparse\n",
            " -h, --help                 Show this help and exit.\n",
            " \n",
            " \n",
            " ==============================\n",
            " === Options for developers ===\n",
            " ==============================\n",
            " --abimem-level NUM         Set memory profiling level. Requires HAVE_MEM_PROFILING\n",
            " --abimem-limit-mb NUM      Log malloc/free only if size > limit in Megabytes. Requires abimem-level 3\n",
            " --fft-ialltoall[=yesno]    Use non-blocking ialltoall in MPI-FFT (used only if ndat > 1 and MPI2+).\n",
            " --gnu-mtrace               Enable mtrace (requires GNU and clib).\n",
            " --ieee-halt                Halt the code if one of the *usual* IEEE exceptions is raised.\n",
            " --ieee-signal              Signal the occurrence of the *usual* IEEE exceptions.\n",
            " --F03                      Run F03 mode (for Multibinit only).\n"
          ]
        }
      ]
    },
    {
      "cell_type": "code",
      "execution_count": 7,
      "metadata": {
        "id": "NOJZ1F_rAoYz"
      },
      "outputs": [],
      "source": [
        "# pip install abipy"
      ]
    },
    {
      "cell_type": "code",
      "source": [
        "# pip install pymatgen"
      ],
      "metadata": {
        "id": "67EjpaGJBLoO"
      },
      "execution_count": 11,
      "outputs": []
    },
    {
      "cell_type": "code",
      "source": [
        "# pip install pydantic==1.8"
      ],
      "metadata": {
        "id": "e7RNMtniRQas"
      },
      "execution_count": 10,
      "outputs": []
    },
    {
      "cell_type": "code",
      "source": [
        "# Use this at the beginning of your script so that your code will be compatible with python3\n",
        "from __future__ import print_function, division, unicode_literals\n",
        "\n",
        "import numpy as np\n",
        "\n",
        "import warnings\n",
        "warnings.filterwarnings(\"ignore\")  # Ignore warnings\n",
        "\n",
        "from abipy import abilab\n",
        "abilab.enable_notebook() # This line tells AbiPy we are running inside a notebook\n",
        "\n",
        "# This line configures matplotlib to show figures embedded in the notebook.\n",
        "# Replace `inline` with `notebook` in classic notebook\n",
        "%matplotlib inline\n",
        "\n",
        "# Option available in jupyterlab. See https://github.com/matplotlib/jupyter-matplotlib\n",
        "#%matplotlib widget\n",
        "\n",
        "abilab.print_source(gs_input)\n",
        "def gs_input(x=0.7, ecut=10, acell=(10, 10, 10)):\n",
        "    \"\"\"\n",
        "    This function builds an AbinitInput object to compute the total energy\n",
        "    of the H2 molecule in a big box.\n",
        "\n",
        "    Args:\n",
        "        x: Position of the first Hydrogen along the x-axis in Cartesian coordinates.\n",
        "           The second Hydrogen is located at [-x, 0, 0]\n",
        "        ecut: Cutoff energy in Ha.\n",
        "        acell: Lengths of the primitive vectors (in Bohr)\n",
        "\n",
        "    Returns:\n",
        "        AbinitInput object.\n",
        "    \"\"\"\n",
        "    # Build structure from dictionary with input variables.\n",
        "    structure = abilab.Structure.from_abivars(\n",
        "        ntypat=1,                           # There is only one type of atom.\n",
        "        znucl=1,                            # Atomic numbers of the type(s) of atom.\n",
        "        natom=2,                            # There are two atoms.\n",
        "        typat=(1, 1),                       # They both are of type 1, that is, Hydrogen.\n",
        "        xcart=[-x, 0.0, 0.0,                # Cartesian coordinates of atom 1, in Bohr.\n",
        "               +x, 0.0, 0.0],               # second atom.\n",
        "        acell=acell,                        # Lengths of the primitive vectors (in Bohr).\n",
        "        rprim=[1, 0, 0, 0, 1, 0, 0, 0, 1]   # Orthogonal primitive vectors (default).\n",
        "    )\n",
        "\n",
        "    # Build AbinitInput from structure and pseudo(s) taken from AbiPy package.\n",
        "    inp = abilab.AbinitInput(structure=structure, pseudos=abidata.pseudos(\"01h.pspgth\"))\n",
        "\n",
        "    # Set value of other variables.\n",
        "    inp.set_vars(\n",
        "        ecut=ecut,\n",
        "        nband=1,\n",
        "        diemac=2.0,\n",
        "        toldfe=1e-6,\n",
        "        prtwf=-1,\n",
        "        iomode=3\n",
        "    )\n",
        "\n",
        "    # Define k-point sampling.\n",
        "    inp.set_kmesh(ngkpt=(1, 1, 1), shiftk=(0, 0, 0))\n",
        "\n",
        "    return inp"
      ],
      "metadata": {
        "id": "sK73jBmJixz7"
      },
      "execution_count": 21,
      "outputs": []
    },
    {
      "cell_type": "code",
      "source": [
        "gsinp = gs_input()\n",
        "print(\"The value of ecut is:\", gsinp[\"ecut\"])"
      ],
      "metadata": {
        "id": "XmAB4voQjKh1",
        "outputId": "c9e0111a-bfce-47d6-972b-2d9b0a48ed69",
        "colab": {
          "base_uri": "https://localhost:8080/"
        }
      },
      "execution_count": 22,
      "outputs": [
        {
          "output_type": "stream",
          "name": "stdout",
          "text": [
            "The value of ecut is: 10\n"
          ]
        }
      ]
    },
    {
      "cell_type": "code",
      "source": [
        "gsinp"
      ],
      "metadata": {
        "id": "yQNiSRnkjKcJ",
        "outputId": "8673cd5d-b22e-4945-a0ce-1bacf4575e1c",
        "colab": {
          "base_uri": "https://localhost:8080/",
          "height": 729
        }
      },
      "execution_count": 23,
      "outputs": [
        {
          "output_type": "execute_result",
          "data": {
            "text/plain": [
              "<AbinitInput at 132492667486016>"
            ],
            "text/html": [
              "<div class=\"abinit_input\">\n",
              "##############################################<br>####                SECTION: basic<br>##############################################<br> <a href=\"https://docs.abinit.org/variables/basic#ecut\" target=\"_blank\">ecut</a> 10<br> <a href=\"https://docs.abinit.org/variables/basic#nband\" target=\"_blank\">nband</a> 1<br> <a href=\"https://docs.abinit.org/variables/basic#toldfe\" target=\"_blank\">toldfe</a> 1e-06<br> <a href=\"https://docs.abinit.org/variables/basic#ngkpt\" target=\"_blank\">ngkpt</a> 1 1 1<br> <a href=\"https://docs.abinit.org/variables/basic#kptopt\" target=\"_blank\">kptopt</a> 1<br> <a href=\"https://docs.abinit.org/variables/basic#nshiftk\" target=\"_blank\">nshiftk</a> 1<br> <a href=\"https://docs.abinit.org/variables/basic#shiftk\" target=\"_blank\">shiftk</a> 0 0 0<br>##############################################<br>####                 SECTION: dev<br>##############################################<br> <a href=\"https://docs.abinit.org/variables/dev#iomode\" target=\"_blank\">iomode</a> 3<br>##############################################<br>####                SECTION: files<br>##############################################<br> <a href=\"https://docs.abinit.org/variables/files#prtwf\" target=\"_blank\">prtwf</a> -1<br> <a href=\"https://docs.abinit.org/variables/files#indata_prefix\" target=\"_blank\">indata_prefix</a> indata/in<br> <a href=\"https://docs.abinit.org/variables/files#tmpdata_prefix\" target=\"_blank\">tmpdata_prefix</a> tmpdata/tmp<br> <a href=\"https://docs.abinit.org/variables/files#outdata_prefix\" target=\"_blank\">outdata_prefix</a> outdata/out<br> <a href=\"https://docs.abinit.org/variables/files#pseudos\" target=\"_blank\">pseudos</a> /usr/local/lib/python3.10/site-packages/abipy/data/pseudos/01h.pspgth<br>##############################################<br>####               SECTION: gstate<br>##############################################<br> <a href=\"https://docs.abinit.org/variables/gstate#diemac\" target=\"_blank\">diemac</a> 2.0<br>##############################################<br>####                  STRUCTURE<br>##############################################<br> <a href=\"https://docs.abinit.org/variables/basic#natom\" target=\"_blank\">natom</a> 2<br> <a href=\"https://docs.abinit.org/variables/basic#ntypat\" target=\"_blank\">ntypat</a> 1<br> <a href=\"https://docs.abinit.org/variables/basic#typat\" target=\"_blank\">typat</a> 1 1<br> <a href=\"https://docs.abinit.org/variables/basic#znucl\" target=\"_blank\">znucl</a> 1<br> <a href=\"https://docs.abinit.org/variables/basic#xred\" target=\"_blank\">xred</a><br>   -0.0700000000    0.0000000000    0.0000000000<br>    0.0700000000    0.0000000000    0.0000000000<br> <a href=\"https://docs.abinit.org/variables/basic#acell\" target=\"_blank\">acell</a>    1.0    1.0    1.0<br> <a href=\"https://docs.abinit.org/variables/basic#rprim\" target=\"_blank\">rprim</a><br>   10.0000000000    0.0000000000    0.0000000000<br>    0.0000000000   10.0000000000    0.0000000000<br>    0.0000000000    0.0000000000   10.0000000000\n",
              "<div>"
            ]
          },
          "metadata": {},
          "execution_count": 23
        }
      ]
    },
    {
      "cell_type": "code",
      "source": [
        "print(gsinp.structure)\n",
        "print(\"The big box volume is:\", gsinp.structure.volume)"
      ],
      "metadata": {
        "id": "0V5PTrxejlW0",
        "outputId": "4017aacd-dad9-4446-d69f-bc647ad40db3",
        "colab": {
          "base_uri": "https://localhost:8080/"
        }
      },
      "execution_count": 24,
      "outputs": [
        {
          "output_type": "stream",
          "name": "stdout",
          "text": [
            "Full Formula (H2)\n",
            "Reduced Formula: H2\n",
            "abc   :   5.291772   5.291772   5.291772\n",
            "angles:  90.000000  90.000000  90.000000\n",
            "pbc   :       True       True       True\n",
            "Sites (2)\n",
            "  #  SP        a    b    c\n",
            "---  ----  -----  ---  ---\n",
            "  0  H     -0.07    0    0\n",
            "  1  H      0.07    0    0\n",
            "The big box volume is: 148.18471147216275\n"
          ]
        }
      ]
    },
    {
      "cell_type": "code",
      "source": [
        "print(gsinp.pseudos[0])"
      ],
      "metadata": {
        "id": "PcyP5IT2jlUL",
        "outputId": "05a42e10-8f8a-4087-abd1-d223c25b943a",
        "colab": {
          "base_uri": "https://localhost:8080/"
        }
      },
      "execution_count": 26,
      "outputs": [
        {
          "output_type": "stream",
          "name": "stdout",
          "text": [
            "<NcAbinitPseudo: 01h.pspgth>\n",
            "  summary: Goedecker-Teter-Hutter  Wed May  8 14:27:44 EDT 1996\n",
            "  number of valence electrons: 1.0\n",
            "  maximum angular momentum: s\n",
            "  angular momentum for local part: s\n",
            "  XC correlation: LDA_XC_TETER93\n",
            "  supports spin-orbit: False\n",
            "  radius for non-linear core correction: 0.0\n",
            "  hint for low accuracy: ecut: 0.0, pawecutdg: 0.0\n",
            "  hint for normal accuracy: ecut: 0.0, pawecutdg: 0.0\n",
            "  hint for high accuracy: ecut: 0.0, pawecutdg: 0.0\n"
          ]
        }
      ]
    },
    {
      "cell_type": "code",
      "source": [
        "!wget https://raw.githubusercontent.com/abinit/abitutorials/2943e0204207cfe31dadb85ea7f992a14417540d/managers/manager.yml"
      ],
      "metadata": {
        "id": "-oPDhoj1kxXH",
        "outputId": "86c7f4ed-25ae-4cdc-ee7e-d1eb536a1a42",
        "colab": {
          "base_uri": "https://localhost:8080/"
        }
      },
      "execution_count": 32,
      "outputs": [
        {
          "output_type": "stream",
          "name": "stdout",
          "text": [
            "--2024-03-22 05:13:39--  https://raw.githubusercontent.com/abinit/abitutorials/2943e0204207cfe31dadb85ea7f992a14417540d/managers/manager.yml\n",
            "Resolving raw.githubusercontent.com (raw.githubusercontent.com)... 185.199.109.133, 185.199.110.133, 185.199.108.133, ...\n",
            "Connecting to raw.githubusercontent.com (raw.githubusercontent.com)|185.199.109.133|:443... connected.\n",
            "HTTP request sent, awaiting response... 200 OK\n",
            "Length: 442 [text/plain]\n",
            "Saving to: ‘manager.yml’\n",
            "\n",
            "\rmanager.yml           0%[                    ]       0  --.-KB/s               \rmanager.yml         100%[===================>]     442  --.-KB/s    in 0s      \n",
            "\n",
            "2024-03-22 05:13:39 (27.1 MB/s) - ‘manager.yml’ saved [442/442]\n",
            "\n"
          ]
        }
      ]
    },
    {
      "cell_type": "code",
      "source": [
        "def build_flow(options):\n",
        "    \"\"\"\n",
        "    Generate a flow to compute the total energy and forces for the H2 molecule in a big box\n",
        "    as a function of the interatomic distance.\n",
        "\n",
        "    Args:\n",
        "        options: Command line options.\n",
        "\n",
        "    Return:\n",
        "        Flow object.\n",
        "    \"\"\"\n",
        "    inputs = [gs_input(x=x) for x in np.linspace(0.5, 1.025, 21)]\n",
        "\n",
        "    workdir = options.workdir if (options and options.workdir) else \"flow_h2\"\n",
        "\n",
        "    return flowtk.Flow.from_inputs(workdir, inputs)\n",
        "abilab.print_source(build_flow)\n",
        "flow = build_flow(options=None)\n",
        "flow.get_graphviz()"
      ],
      "metadata": {
        "id": "kfw7Q960jsM1",
        "outputId": "b983487e-f98c-4341-88c2-d82dc8fc1a98",
        "colab": {
          "base_uri": "https://localhost:8080/",
          "height": 515
        }
      },
      "execution_count": 34,
      "outputs": [
        {
          "output_type": "execute_result",
          "data": {
            "image/svg+xml": "<?xml version=\"1.0\" encoding=\"UTF-8\" standalone=\"no\"?>\n<!DOCTYPE svg PUBLIC \"-//W3C//DTD SVG 1.1//EN\"\n \"http://www.w3.org/Graphics/SVG/1.1/DTD/svg11.dtd\">\n<!-- Generated by graphviz version 2.43.0 (0)\n -->\n<!-- Title: flow Pages: 1 -->\n<svg width=\"349pt\" height=\"371pt\"\n viewBox=\"0.00 0.00 349.00 371.00\" xmlns=\"http://www.w3.org/2000/svg\" xmlns:xlink=\"http://www.w3.org/1999/xlink\">\n<g id=\"graph0\" class=\"graph\" transform=\"scale(1 1) rotate(0) translate(4 344)\">\n<title>flow</title>\n<polygon fill=\"white\" stroke=\"transparent\" points=\"-4,27 -4,-344 345,-344 345,27 -4,27\"/>\n<text text-anchor=\"start\" x=\"68.5\" y=\"15.2\" font-family=\"Times,serif\" font-size=\"14.00\">Flow, node_id=26, workdir=flow_h2</text>\n<g id=\"clust1\" class=\"cluster\">\n<title>clusterw0</title>\n<path fill=\"#e0eeee\" stroke=\"black\" d=\"M11.74,0.36C11.74,0.36 328.74,0.36 328.74,0.36 334.74,0.36 340.74,-5.64 340.74,-11.64 340.74,-11.64 340.74,-327.64 340.74,-327.64 340.74,-333.64 334.74,-339.64 328.74,-339.64 328.74,-339.64 11.74,-339.64 11.74,-339.64 5.74,-339.64 -0.26,-333.64 -0.26,-327.64 -0.26,-327.64 -0.26,-11.64 -0.26,-11.64 -0.26,-5.64 5.74,0.36 11.74,0.36\"/>\n<text text-anchor=\"middle\" x=\"170.24\" y=\"-324.44\" font-family=\"Times,serif\" font-size=\"14.00\">Work (w0)</text>\n</g>\n<!-- w0_t0 -->\n<g id=\"node1\" class=\"node\">\n<title>w0_t0</title>\n<ellipse fill=\"#ff0000\" stroke=\"#ff0000\" cx=\"121.98\" cy=\"-146.28\" rx=\"30.31\" ry=\"18.27\"/>\n<text text-anchor=\"middle\" x=\"121.98\" y=\"-148.88\" font-family=\"Times,serif\" font-size=\"8.00\">w0_t0</text>\n<text text-anchor=\"middle\" x=\"121.98\" y=\"-139.88\" font-family=\"Times,serif\" font-size=\"8.00\">ScfTask</text>\n</g>\n<!-- w0_t1 -->\n<g id=\"node2\" class=\"node\">\n<title>w0_t1</title>\n<ellipse fill=\"#ff0000\" stroke=\"#ff0000\" cx=\"181.98\" cy=\"-194.28\" rx=\"30.31\" ry=\"18.27\"/>\n<text text-anchor=\"middle\" x=\"181.98\" y=\"-196.88\" font-family=\"Times,serif\" font-size=\"8.00\">w0_t1</text>\n<text text-anchor=\"middle\" x=\"181.98\" y=\"-187.88\" font-family=\"Times,serif\" font-size=\"8.00\">ScfTask</text>\n</g>\n<!-- w0_t2 -->\n<g id=\"node3\" class=\"node\">\n<title>w0_t2</title>\n<ellipse fill=\"#ff0000\" stroke=\"#ff0000\" cx=\"193.98\" cy=\"-134.28\" rx=\"30.31\" ry=\"18.27\"/>\n<text text-anchor=\"middle\" x=\"193.98\" y=\"-136.88\" font-family=\"Times,serif\" font-size=\"8.00\">w0_t2</text>\n<text text-anchor=\"middle\" x=\"193.98\" y=\"-127.88\" font-family=\"Times,serif\" font-size=\"8.00\">ScfTask</text>\n</g>\n<!-- w0_t3 -->\n<g id=\"node4\" class=\"node\">\n<title>w0_t3</title>\n<ellipse fill=\"#ff0000\" stroke=\"#ff0000\" cx=\"109.98\" cy=\"-218.28\" rx=\"30.31\" ry=\"18.27\"/>\n<text text-anchor=\"middle\" x=\"109.98\" y=\"-220.88\" font-family=\"Times,serif\" font-size=\"8.00\">w0_t3</text>\n<text text-anchor=\"middle\" x=\"109.98\" y=\"-211.88\" font-family=\"Times,serif\" font-size=\"8.00\">ScfTask</text>\n</g>\n<!-- w0_t4 -->\n<g id=\"node5\" class=\"node\">\n<title>w0_t4</title>\n<ellipse fill=\"#ff0000\" stroke=\"#ff0000\" cx=\"229.98\" cy=\"-242.28\" rx=\"30.31\" ry=\"18.27\"/>\n<text text-anchor=\"middle\" x=\"229.98\" y=\"-244.88\" font-family=\"Times,serif\" font-size=\"8.00\">w0_t4</text>\n<text text-anchor=\"middle\" x=\"229.98\" y=\"-235.88\" font-family=\"Times,serif\" font-size=\"8.00\">ScfTask</text>\n</g>\n<!-- w0_t5 -->\n<g id=\"node6\" class=\"node\">\n<title>w0_t5</title>\n<ellipse fill=\"#ff0000\" stroke=\"#ff0000\" cx=\"85.98\" cy=\"-98.28\" rx=\"30.31\" ry=\"18.27\"/>\n<text text-anchor=\"middle\" x=\"85.98\" y=\"-100.88\" font-family=\"Times,serif\" font-size=\"8.00\">w0_t5</text>\n<text text-anchor=\"middle\" x=\"85.98\" y=\"-91.88\" font-family=\"Times,serif\" font-size=\"8.00\">ScfTask</text>\n</g>\n<!-- w0_t6 -->\n<g id=\"node7\" class=\"node\">\n<title>w0_t6</title>\n<ellipse fill=\"#ff0000\" stroke=\"#ff0000\" cx=\"157.98\" cy=\"-86.28\" rx=\"30.31\" ry=\"18.27\"/>\n<text text-anchor=\"middle\" x=\"157.98\" y=\"-88.88\" font-family=\"Times,serif\" font-size=\"8.00\">w0_t6</text>\n<text text-anchor=\"middle\" x=\"157.98\" y=\"-79.88\" font-family=\"Times,serif\" font-size=\"8.00\">ScfTask</text>\n</g>\n<!-- w0_t7 -->\n<g id=\"node8\" class=\"node\">\n<title>w0_t7</title>\n<ellipse fill=\"#ff0000\" stroke=\"#ff0000\" cx=\"229.98\" cy=\"-86.28\" rx=\"30.31\" ry=\"18.27\"/>\n<text text-anchor=\"middle\" x=\"229.98\" y=\"-88.88\" font-family=\"Times,serif\" font-size=\"8.00\">w0_t7</text>\n<text text-anchor=\"middle\" x=\"229.98\" y=\"-79.88\" font-family=\"Times,serif\" font-size=\"8.00\">ScfTask</text>\n</g>\n<!-- w0_t8 -->\n<g id=\"node9\" class=\"node\">\n<title>w0_t8</title>\n<ellipse fill=\"#ff0000\" stroke=\"#ff0000\" cx=\"253.98\" cy=\"-182.28\" rx=\"30.31\" ry=\"18.27\"/>\n<text text-anchor=\"middle\" x=\"253.98\" y=\"-184.88\" font-family=\"Times,serif\" font-size=\"8.00\">w0_t8</text>\n<text text-anchor=\"middle\" x=\"253.98\" y=\"-175.88\" font-family=\"Times,serif\" font-size=\"8.00\">ScfTask</text>\n</g>\n<!-- w0_t9 -->\n<g id=\"node10\" class=\"node\">\n<title>w0_t9</title>\n<ellipse fill=\"#ff0000\" stroke=\"#ff0000\" cx=\"157.98\" cy=\"-266.28\" rx=\"30.31\" ry=\"18.27\"/>\n<text text-anchor=\"middle\" x=\"157.98\" y=\"-268.88\" font-family=\"Times,serif\" font-size=\"8.00\">w0_t9</text>\n<text text-anchor=\"middle\" x=\"157.98\" y=\"-259.88\" font-family=\"Times,serif\" font-size=\"8.00\">ScfTask</text>\n</g>\n<!-- w0_t10 -->\n<g id=\"node11\" class=\"node\">\n<title>w0_t10</title>\n<ellipse fill=\"#ff0000\" stroke=\"#ff0000\" cx=\"85.98\" cy=\"-266.28\" rx=\"30.31\" ry=\"18.27\"/>\n<text text-anchor=\"middle\" x=\"85.98\" y=\"-268.88\" font-family=\"Times,serif\" font-size=\"8.00\">w0_t10</text>\n<text text-anchor=\"middle\" x=\"85.98\" y=\"-259.88\" font-family=\"Times,serif\" font-size=\"8.00\">ScfTask</text>\n</g>\n<!-- w0_t11 -->\n<g id=\"node12\" class=\"node\">\n<title>w0_t11</title>\n<ellipse fill=\"#ff0000\" stroke=\"#ff0000\" cx=\"265.98\" cy=\"-134.28\" rx=\"30.31\" ry=\"18.27\"/>\n<text text-anchor=\"middle\" x=\"265.98\" y=\"-136.88\" font-family=\"Times,serif\" font-size=\"8.00\">w0_t11</text>\n<text text-anchor=\"middle\" x=\"265.98\" y=\"-127.88\" font-family=\"Times,serif\" font-size=\"8.00\">ScfTask</text>\n</g>\n<!-- w0_t12 -->\n<g id=\"node13\" class=\"node\">\n<title>w0_t12</title>\n<ellipse fill=\"#ff0000\" stroke=\"#ff0000\" cx=\"49.98\" cy=\"-170.28\" rx=\"30.31\" ry=\"18.27\"/>\n<text text-anchor=\"middle\" x=\"49.98\" y=\"-172.88\" font-family=\"Times,serif\" font-size=\"8.00\">w0_t12</text>\n<text text-anchor=\"middle\" x=\"49.98\" y=\"-163.88\" font-family=\"Times,serif\" font-size=\"8.00\">ScfTask</text>\n</g>\n<!-- w0_t13 -->\n<g id=\"node14\" class=\"node\">\n<title>w0_t13</title>\n<ellipse fill=\"#ff0000\" stroke=\"#ff0000\" cx=\"277.98\" cy=\"-290.28\" rx=\"30.31\" ry=\"18.27\"/>\n<text text-anchor=\"middle\" x=\"277.98\" y=\"-292.88\" font-family=\"Times,serif\" font-size=\"8.00\">w0_t13</text>\n<text text-anchor=\"middle\" x=\"277.98\" y=\"-283.88\" font-family=\"Times,serif\" font-size=\"8.00\">ScfTask</text>\n</g>\n<!-- w0_t14 -->\n<g id=\"node15\" class=\"node\">\n<title>w0_t14</title>\n<ellipse fill=\"#ff0000\" stroke=\"#ff0000\" cx=\"37.98\" cy=\"-218.28\" rx=\"30.31\" ry=\"18.27\"/>\n<text text-anchor=\"middle\" x=\"37.98\" y=\"-220.88\" font-family=\"Times,serif\" font-size=\"8.00\">w0_t14</text>\n<text text-anchor=\"middle\" x=\"37.98\" y=\"-211.88\" font-family=\"Times,serif\" font-size=\"8.00\">ScfTask</text>\n</g>\n<!-- w0_t15 -->\n<g id=\"node16\" class=\"node\">\n<title>w0_t15</title>\n<ellipse fill=\"#ff0000\" stroke=\"#ff0000\" cx=\"37.98\" cy=\"-50.28\" rx=\"30.31\" ry=\"18.27\"/>\n<text text-anchor=\"middle\" x=\"37.98\" y=\"-52.88\" font-family=\"Times,serif\" font-size=\"8.00\">w0_t15</text>\n<text text-anchor=\"middle\" x=\"37.98\" y=\"-43.88\" font-family=\"Times,serif\" font-size=\"8.00\">ScfTask</text>\n</g>\n<!-- w0_t16 -->\n<g id=\"node17\" class=\"node\">\n<title>w0_t16</title>\n<ellipse fill=\"#ff0000\" stroke=\"#ff0000\" cx=\"157.98\" cy=\"-38.28\" rx=\"30.31\" ry=\"18.27\"/>\n<text text-anchor=\"middle\" x=\"157.98\" y=\"-40.88\" font-family=\"Times,serif\" font-size=\"8.00\">w0_t16</text>\n<text text-anchor=\"middle\" x=\"157.98\" y=\"-31.88\" font-family=\"Times,serif\" font-size=\"8.00\">ScfTask</text>\n</g>\n<!-- w0_t17 -->\n<g id=\"node18\" class=\"node\">\n<title>w0_t17</title>\n<ellipse fill=\"#ff0000\" stroke=\"#ff0000\" cx=\"229.98\" cy=\"-38.28\" rx=\"30.31\" ry=\"18.27\"/>\n<text text-anchor=\"middle\" x=\"229.98\" y=\"-40.88\" font-family=\"Times,serif\" font-size=\"8.00\">w0_t17</text>\n<text text-anchor=\"middle\" x=\"229.98\" y=\"-31.88\" font-family=\"Times,serif\" font-size=\"8.00\">ScfTask</text>\n</g>\n<!-- w0_t18 -->\n<g id=\"node19\" class=\"node\">\n<title>w0_t18</title>\n<ellipse fill=\"#ff0000\" stroke=\"#ff0000\" cx=\"301.98\" cy=\"-26.28\" rx=\"30.31\" ry=\"18.27\"/>\n<text text-anchor=\"middle\" x=\"301.98\" y=\"-28.88\" font-family=\"Times,serif\" font-size=\"8.00\">w0_t18</text>\n<text text-anchor=\"middle\" x=\"301.98\" y=\"-19.88\" font-family=\"Times,serif\" font-size=\"8.00\">ScfTask</text>\n</g>\n<!-- w0_t19 -->\n<g id=\"node20\" class=\"node\">\n<title>w0_t19</title>\n<ellipse fill=\"#ff0000\" stroke=\"#ff0000\" cx=\"301.98\" cy=\"-74.28\" rx=\"30.31\" ry=\"18.27\"/>\n<text text-anchor=\"middle\" x=\"301.98\" y=\"-76.88\" font-family=\"Times,serif\" font-size=\"8.00\">w0_t19</text>\n<text text-anchor=\"middle\" x=\"301.98\" y=\"-67.88\" font-family=\"Times,serif\" font-size=\"8.00\">ScfTask</text>\n</g>\n<!-- w0_t20 -->\n<g id=\"node21\" class=\"node\">\n<title>w0_t20</title>\n<ellipse fill=\"#ff0000\" stroke=\"#ff0000\" cx=\"301.98\" cy=\"-230.28\" rx=\"30.31\" ry=\"18.27\"/>\n<text text-anchor=\"middle\" x=\"301.98\" y=\"-232.88\" font-family=\"Times,serif\" font-size=\"8.00\">w0_t20</text>\n<text text-anchor=\"middle\" x=\"301.98\" y=\"-223.88\" font-family=\"Times,serif\" font-size=\"8.00\">ScfTask</text>\n</g>\n</g>\n</svg>\n",
            "text/plain": [
              "<graphviz.graphs.Digraph at 0x787f65a6faf0>"
            ]
          },
          "metadata": {},
          "execution_count": 34
        }
      ]
    },
    {
      "cell_type": "code",
      "source": [
        "inputs = [task.input for task in flow.iflat_tasks()]\n",
        "\n",
        "print(\"ecuts:\\n\", [inp[\"ecut\"] for inp in inputs])\n",
        "\n",
        "print(\"vols:\\n\", [\"%.1f\" % inp.structure.volume for inp in inputs])\n",
        "\n",
        "def hh_dist(structure):\n",
        "    return np.linalg.norm(structure.cart_coords[1] - structure.cart_coords[0])\n",
        "\n",
        "from pprint import pprint\n",
        "print(\"h-h [Ang]:\\n\", [\"%.3f\" % hh_dist(inp.structure) for inp in inputs])"
      ],
      "metadata": {
        "id": "zTiVGkEejsKY",
        "outputId": "2027f792-4349-423c-81e5-c95ea23efc79",
        "colab": {
          "base_uri": "https://localhost:8080/"
        }
      },
      "execution_count": 35,
      "outputs": [
        {
          "output_type": "stream",
          "name": "stdout",
          "text": [
            "ecuts:\n",
            " [10, 10, 10, 10, 10, 10, 10, 10, 10, 10, 10, 10, 10, 10, 10, 10, 10, 10, 10, 10, 10]\n",
            "vols:\n",
            " ['148.2', '148.2', '148.2', '148.2', '148.2', '148.2', '148.2', '148.2', '148.2', '148.2', '148.2', '148.2', '148.2', '148.2', '148.2', '148.2', '148.2', '148.2', '148.2', '148.2', '148.2']\n",
            "h-h [Ang]:\n",
            " ['0.529', '0.557', '0.585', '0.613', '0.640', '0.668', '0.696', '0.724', '0.751', '0.779', '0.807', '0.835', '0.863', '0.890', '0.918', '0.946', '0.974', '1.001', '1.029', '1.057', '1.085']\n"
          ]
        }
      ]
    },
    {
      "cell_type": "code",
      "source": [
        "!wget https://raw.githubusercontent.com/abinit/pseudo_dojo/4048962957711c04281ffe6c2bd2c96f0f7110aa/pseudo_dojo/integration_tests/scheduler.yml"
      ],
      "metadata": {
        "id": "UBBkV5IWlfFy",
        "outputId": "9ff19a4f-d778-432f-f385-97b36b21032a",
        "colab": {
          "base_uri": "https://localhost:8080/"
        }
      },
      "execution_count": 37,
      "outputs": [
        {
          "output_type": "stream",
          "name": "stdout",
          "text": [
            "--2024-03-22 05:15:35--  https://raw.githubusercontent.com/abinit/pseudo_dojo/4048962957711c04281ffe6c2bd2c96f0f7110aa/pseudo_dojo/integration_tests/scheduler.yml\n",
            "Resolving raw.githubusercontent.com (raw.githubusercontent.com)... 185.199.110.133, 185.199.109.133, 185.199.108.133, ...\n",
            "Connecting to raw.githubusercontent.com (raw.githubusercontent.com)|185.199.110.133|:443... connected.\n",
            "HTTP request sent, awaiting response... 200 OK\n",
            "Length: 800 [text/plain]\n",
            "Saving to: ‘scheduler.yml’\n",
            "\n",
            "\rscheduler.yml         0%[                    ]       0  --.-KB/s               \rscheduler.yml       100%[===================>]     800  --.-KB/s    in 0s      \n",
            "\n",
            "2024-03-22 05:15:35 (39.2 MB/s) - ‘scheduler.yml’ saved [800/800]\n",
            "\n"
          ]
        }
      ]
    },
    {
      "cell_type": "code",
      "source": [
        "flow.make_scheduler().start()"
      ],
      "metadata": {
        "id": "MhMOv71WjsH2",
        "outputId": "631a906b-afe9-4078-84e0-ab96d0b4c0cc",
        "colab": {
          "base_uri": "https://localhost:8080/"
        }
      },
      "execution_count": null,
      "outputs": [
        {
          "output_type": "stream",
          "name": "stderr",
          "text": [
            "Using scheduler v >= 3.0.0\n"
          ]
        },
        {
          "output_type": "stream",
          "name": "stdout",
          "text": [
            "\n",
            "Work #0: <Work, node_id=27, workdir=flow_h2/w0>, Finalized=False\n",
            "+--------+-------------+------------+--------------+------------+---------+-----------------+----------+-----------+\n",
            "| Task   | Status      | Queue      | MPI|Omp|Gb   | Warn|Com   | Class   | Sub|Rest|Corr   | Time     |   Node_ID |\n",
            "+========+=============+============+==============+============+=========+=================+==========+===========+\n",
            "| \u001b[31mw0_t0\u001b[0m  | \u001b[31mAbiCritical\u001b[0m | 5239@abitu | 1|  1|2.0    | 2|  0      | ScfTask | (0, 0, 0)       | 0:00:10Q |        28 |\n",
            "+--------+-------------+------------+--------------+------------+---------+-----------------+----------+-----------+\n",
            "| \u001b[31mw0_t1\u001b[0m  | \u001b[31mAbiCritical\u001b[0m | 5253@abitu | 1|  1|2.0    | 2|  0      | ScfTask | (0, 0, 0)       | 0:00:09Q |        29 |\n",
            "+--------+-------------+------------+--------------+------------+---------+-----------------+----------+-----------+\n",
            "| \u001b[31mw0_t2\u001b[0m  | \u001b[31mAbiCritical\u001b[0m | 5263@abitu | 1|  1|2.0    | 2|  0      | ScfTask | (0, 0, 0)       | 0:00:09Q |        30 |\n",
            "+--------+-------------+------------+--------------+------------+---------+-----------------+----------+-----------+\n",
            "| \u001b[31mw0_t3\u001b[0m  | \u001b[31mAbiCritical\u001b[0m | 5277@abitu | 1|  1|2.0    | 2|  0      | ScfTask | (0, 0, 0)       | 0:00:08Q |        31 |\n",
            "+--------+-------------+------------+--------------+------------+---------+-----------------+----------+-----------+\n",
            "| \u001b[31mw0_t4\u001b[0m  | \u001b[31mAbiCritical\u001b[0m | 5287@abitu | 1|  1|2.0    | 2|  0      | ScfTask | (0, 0, 0)       | 0:00:08Q |        32 |\n",
            "+--------+-------------+------------+--------------+------------+---------+-----------------+----------+-----------+\n",
            "| \u001b[31mw0_t5\u001b[0m  | \u001b[31mAbiCritical\u001b[0m | 5301@abitu | 1|  1|2.0    | 2|  0      | ScfTask | (0, 0, 0)       | 0:00:07Q |        33 |\n",
            "+--------+-------------+------------+--------------+------------+---------+-----------------+----------+-----------+\n",
            "| \u001b[31mw0_t6\u001b[0m  | \u001b[31mAbiCritical\u001b[0m | 5315@abitu | 1|  1|2.0    | 2|  0      | ScfTask | (0, 0, 0)       | 0:00:06Q |        34 |\n",
            "+--------+-------------+------------+--------------+------------+---------+-----------------+----------+-----------+\n",
            "| \u001b[31mw0_t7\u001b[0m  | \u001b[31mAbiCritical\u001b[0m | 5325@abitu | 1|  1|2.0    | 2|  0      | ScfTask | (0, 0, 0)       | 0:00:06Q |        35 |\n",
            "+--------+-------------+------------+--------------+------------+---------+-----------------+----------+-----------+\n",
            "| \u001b[31mw0_t8\u001b[0m  | \u001b[31mAbiCritical\u001b[0m | 5335@abitu | 1|  1|2.0    | 2|  0      | ScfTask | (0, 0, 0)       | 0:00:06Q |        36 |\n",
            "+--------+-------------+------------+--------------+------------+---------+-----------------+----------+-----------+\n",
            "| \u001b[31mw0_t9\u001b[0m  | \u001b[31mAbiCritical\u001b[0m | 5349@abitu | 1|  1|2.0    | 2|  0      | ScfTask | (0, 0, 0)       | 0:00:05Q |        37 |\n",
            "+--------+-------------+------------+--------------+------------+---------+-----------------+----------+-----------+\n",
            "| \u001b[31mw0_t10\u001b[0m | \u001b[31mAbiCritical\u001b[0m | 5359@abitu | 1|  1|2.0    | 2|  0      | ScfTask | (0, 0, 0)       | 0:00:05Q |        38 |\n",
            "+--------+-------------+------------+--------------+------------+---------+-----------------+----------+-----------+\n",
            "| \u001b[31mw0_t11\u001b[0m | \u001b[31mAbiCritical\u001b[0m | 5373@abitu | 1|  1|2.0    | 2|  0      | ScfTask | (0, 0, 0)       | 0:00:04Q |        39 |\n",
            "+--------+-------------+------------+--------------+------------+---------+-----------------+----------+-----------+\n",
            "| \u001b[31mw0_t12\u001b[0m | \u001b[31mAbiCritical\u001b[0m | 5383@abitu | 1|  1|2.0    | 2|  0      | ScfTask | (0, 0, 0)       | 0:00:04Q |        40 |\n",
            "+--------+-------------+------------+--------------+------------+---------+-----------------+----------+-----------+\n",
            "| \u001b[31mw0_t13\u001b[0m | \u001b[31mAbiCritical\u001b[0m | 5397@abitu | 1|  1|2.0    | 2|  0      | ScfTask | (0, 0, 0)       | 0:00:03Q |        41 |\n",
            "+--------+-------------+------------+--------------+------------+---------+-----------------+----------+-----------+\n",
            "| \u001b[31mw0_t14\u001b[0m | \u001b[31mAbiCritical\u001b[0m | 5407@abitu | 1|  1|2.0    | 2|  0      | ScfTask | (0, 0, 0)       | 0:00:03Q |        42 |\n",
            "+--------+-------------+------------+--------------+------------+---------+-----------------+----------+-----------+\n",
            "| \u001b[31mw0_t15\u001b[0m | \u001b[31mAbiCritical\u001b[0m | 5421@abitu | 1|  1|2.0    | 2|  0      | ScfTask | (0, 0, 0)       | 0:00:03Q |        43 |\n",
            "+--------+-------------+------------+--------------+------------+---------+-----------------+----------+-----------+\n",
            "| \u001b[31mw0_t16\u001b[0m | \u001b[31mAbiCritical\u001b[0m | 5431@abitu | 1|  1|2.0    | 2|  0      | ScfTask | (0, 0, 0)       | 0:00:02Q |        44 |\n",
            "+--------+-------------+------------+--------------+------------+---------+-----------------+----------+-----------+\n",
            "| \u001b[31mw0_t17\u001b[0m | \u001b[31mAbiCritical\u001b[0m | 5441@abitu | 1|  1|2.0    | 2|  0      | ScfTask | (0, 0, 0)       | 0:00:02Q |        45 |\n",
            "+--------+-------------+------------+--------------+------------+---------+-----------------+----------+-----------+\n",
            "| \u001b[31mw0_t18\u001b[0m | \u001b[31mAbiCritical\u001b[0m | 5455@abitu | 1|  1|2.0    | 2|  0      | ScfTask | (0, 0, 0)       | 0:00:02Q |        46 |\n",
            "+--------+-------------+------------+--------------+------------+---------+-----------------+----------+-----------+\n",
            "| \u001b[31mw0_t19\u001b[0m | \u001b[31mAbiCritical\u001b[0m | 5465@abitu | 1|  1|2.0    | 2|  0      | ScfTask | (0, 0, 0)       | 0:00:01Q |        47 |\n",
            "+--------+-------------+------------+--------------+------------+---------+-----------------+----------+-----------+\n",
            "| \u001b[31mw0_t20\u001b[0m | \u001b[31mAbiCritical\u001b[0m | 5479@abitu | 1|  1|2.0    | 2|  0      | ScfTask | (0, 0, 0)       | 0:00:01Q |        48 |\n",
            "+--------+-------------+------------+--------------+------------+---------+-----------------+----------+-----------+\n",
            "\u001b[31mTotal number of errors: 21\u001b[0m\n",
            "\n",
            "Cannot exceed max_ncores_used 2 , ncores_allocated: 21\n",
            "Cannot exceed max_ncores_used 2 , ncores_allocated: 21\n",
            "Cannot exceed max_ncores_used 2 , ncores_allocated: 21\n",
            "Cannot exceed max_ncores_used 2 , ncores_allocated: 21\n",
            "Cannot exceed max_ncores_used 2 , ncores_allocated: 21\n",
            "Cannot exceed max_ncores_used 2 , ncores_allocated: 21\n",
            "Cannot exceed max_ncores_used 2 , ncores_allocated: 21\n",
            "Cannot exceed max_ncores_used 2 , ncores_allocated: 21\n",
            "Cannot exceed max_ncores_used 2 , ncores_allocated: 21\n",
            "Cannot exceed max_ncores_used 2 , ncores_allocated: 21\n",
            "Cannot exceed max_ncores_used 2 , ncores_allocated: 21\n",
            "Cannot exceed max_ncores_used 2 , ncores_allocated: 21\n",
            "Cannot exceed max_ncores_used 2 , ncores_allocated: 21\n",
            "Cannot exceed max_ncores_used 2 , ncores_allocated: 21\n",
            "Cannot exceed max_ncores_used 2 , ncores_allocated: 21\n",
            "Cannot exceed max_ncores_used 2 , ncores_allocated: 21\n",
            "Cannot exceed max_ncores_used 2 , ncores_allocated: 21\n",
            "Cannot exceed max_ncores_used 2 , ncores_allocated: 21\n",
            "Cannot exceed max_ncores_used 2 , ncores_allocated: 21\n",
            "Cannot exceed max_ncores_used 2 , ncores_allocated: 21\n",
            "Cannot exceed max_ncores_used 2 , ncores_allocated: 21\n",
            "Cannot exceed max_ncores_used 2 , ncores_allocated: 21\n",
            "Cannot exceed max_ncores_used 2 , ncores_allocated: 21\n",
            "Cannot exceed max_ncores_used 2 , ncores_allocated: 21\n",
            "Cannot exceed max_ncores_used 2 , ncores_allocated: 21\n",
            "Cannot exceed max_ncores_used 2 , ncores_allocated: 21\n",
            "Cannot exceed max_ncores_used 2 , ncores_allocated: 21\n",
            "Cannot exceed max_ncores_used 2 , ncores_allocated: 21\n",
            "Cannot exceed max_ncores_used 2 , ncores_allocated: 21\n",
            "Cannot exceed max_ncores_used 2 , ncores_allocated: 21\n",
            "Cannot exceed max_ncores_used 2 , ncores_allocated: 21\n",
            "Cannot exceed max_ncores_used 2 , ncores_allocated: 21\n",
            "Cannot exceed max_ncores_used 2 , ncores_allocated: 21\n",
            "Cannot exceed max_ncores_used 2 , ncores_allocated: 21\n",
            "Cannot exceed max_ncores_used 2 , ncores_allocated: 21\n",
            "Cannot exceed max_ncores_used 2 , ncores_allocated: 21\n",
            "Cannot exceed max_ncores_used 2 , ncores_allocated: 21\n",
            "Cannot exceed max_ncores_used 2 , ncores_allocated: 21\n",
            "Cannot exceed max_ncores_used 2 , ncores_allocated: 21\n",
            "Cannot exceed max_ncores_used 2 , ncores_allocated: 21\n",
            "Cannot exceed max_ncores_used 2 , ncores_allocated: 21\n",
            "Cannot exceed max_ncores_used 2 , ncores_allocated: 21\n",
            "Cannot exceed max_ncores_used 2 , ncores_allocated: 21\n",
            "Cannot exceed max_ncores_used 2 , ncores_allocated: 21\n",
            "Cannot exceed max_ncores_used 2 , ncores_allocated: 21\n",
            "Cannot exceed max_ncores_used 2 , ncores_allocated: 21\n"
          ]
        }
      ]
    },
    {
      "cell_type": "code",
      "source": [],
      "metadata": {
        "id": "ZBUbeh3SjsFW"
      },
      "execution_count": null,
      "outputs": []
    },
    {
      "cell_type": "code",
      "source": [],
      "metadata": {
        "id": "oTWbore4jlRg"
      },
      "execution_count": null,
      "outputs": []
    },
    {
      "cell_type": "code",
      "source": [],
      "metadata": {
        "id": "GdmVyPhKjlOe"
      },
      "execution_count": null,
      "outputs": []
    },
    {
      "cell_type": "code",
      "source": [],
      "metadata": {
        "id": "W9DZh5_3jKZj"
      },
      "execution_count": null,
      "outputs": []
    }
  ]
}