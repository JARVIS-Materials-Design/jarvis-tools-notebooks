{
  "nbformat": 4,
  "nbformat_minor": 0,
  "metadata": {
    "colab": {
      "name": "GPAW-Colab.ipynb",
      "provenance": [],
      "authorship_tag": "ABX9TyMUK9D2e5IY3OljsIDrgRh4",
      "include_colab_link": true
    },
    "kernelspec": {
      "name": "python3",
      "display_name": "Python 3"
    },
    "language_info": {
      "name": "python"
    }
  },
  "cells": [
    {
      "cell_type": "markdown",
      "metadata": {
        "id": "view-in-github",
        "colab_type": "text"
      },
      "source": [
        "<a href=\"https://colab.research.google.com/github/knc6/jarvis-tools-notebooks/blob/master/jarvis-tools-notebooks/GPAW_Colab.ipynb\" target=\"_parent\"><img src=\"https://colab.research.google.com/assets/colab-badge.svg\" alt=\"Open In Colab\"/></a>"
      ]
    },
    {
      "cell_type": "markdown",
      "source": [
        "## Table of Contents\n",
        "\n",
        "1. Install GPAW and JARVIS-Tools\n",
        "2. Aluminum crystal structure\n",
        "3. Silicon bandstructure\n",
        "4. Interface energy calculation\n"
      ],
      "metadata": {
        "id": "FHkc191CvMJm"
      }
    },
    {
      "cell_type": "markdown",
      "source": [
        "Run GPAW on Google-colab and calculate interface energy with jarvis-tools"
      ],
      "metadata": {
        "id": "qiochdFxNbpL"
      }
    },
    {
      "cell_type": "code",
      "source": [
        "!apt install python3-mpi4py cython3 libxc-dev gpaw-data\n",
        "!pip -q install gpaw jarvis-tools"
      ],
      "metadata": {
        "colab": {
          "base_uri": "https://localhost:8080/"
        },
        "id": "Hk_GsDWcpMkO",
        "outputId": "3729e1f7-4292-4976-8d60-8543c214fc6d"
      },
      "execution_count": 2,
      "outputs": [
        {
          "output_type": "stream",
          "name": "stdout",
          "text": [
            "Reading package lists... Done\n",
            "Building dependency tree... Done\n",
            "Reading state information... Done\n",
            "The following additional packages will be installed:\n",
            "  libxc9\n",
            "Suggested packages:\n",
            "  cython-doc python3-numpy\n",
            "The following NEW packages will be installed:\n",
            "  cython3 gpaw-data libxc-dev libxc9 python3-mpi4py\n",
            "0 upgraded, 5 newly installed, 0 to remove and 18 not upgraded.\n",
            "Need to get 66.5 MB of archives.\n",
            "After this operation, 102 MB of additional disk space will be used.\n",
            "Get:1 http://archive.ubuntu.com/ubuntu jammy/universe amd64 cython3 amd64 0.29.28-1ubuntu3 [1,336 kB]\n",
            "Get:2 http://archive.ubuntu.com/ubuntu jammy/universe amd64 gpaw-data all 0.9.20000-2 [52.7 MB]\n",
            "Get:3 http://archive.ubuntu.com/ubuntu jammy/universe amd64 libxc9 amd64 5.1.7-1ubuntu1 [3,900 kB]\n",
            "Get:4 http://archive.ubuntu.com/ubuntu jammy/universe amd64 libxc-dev amd64 5.1.7-1ubuntu1 [8,038 kB]\n",
            "Get:5 http://archive.ubuntu.com/ubuntu jammy/universe amd64 python3-mpi4py amd64 3.1.3-1build2 [465 kB]\n",
            "Fetched 66.5 MB in 1s (53.5 MB/s)\n",
            "Selecting previously unselected package cython3.\n",
            "(Reading database ... 120875 files and directories currently installed.)\n",
            "Preparing to unpack .../cython3_0.29.28-1ubuntu3_amd64.deb ...\n",
            "Unpacking cython3 (0.29.28-1ubuntu3) ...\n",
            "Selecting previously unselected package gpaw-data.\n",
            "Preparing to unpack .../gpaw-data_0.9.20000-2_all.deb ...\n",
            "Unpacking gpaw-data (0.9.20000-2) ...\n",
            "Selecting previously unselected package libxc9:amd64.\n",
            "Preparing to unpack .../libxc9_5.1.7-1ubuntu1_amd64.deb ...\n",
            "Unpacking libxc9:amd64 (5.1.7-1ubuntu1) ...\n",
            "Selecting previously unselected package libxc-dev.\n",
            "Preparing to unpack .../libxc-dev_5.1.7-1ubuntu1_amd64.deb ...\n",
            "Unpacking libxc-dev (5.1.7-1ubuntu1) ...\n",
            "Selecting previously unselected package python3-mpi4py.\n",
            "Preparing to unpack .../python3-mpi4py_3.1.3-1build2_amd64.deb ...\n",
            "Unpacking python3-mpi4py (3.1.3-1build2) ...\n",
            "Setting up python3-mpi4py (3.1.3-1build2) ...\n",
            "Setting up gpaw-data (0.9.20000-2) ...\n",
            "Setting up cython3 (0.29.28-1ubuntu3) ...\n",
            "Setting up libxc9:amd64 (5.1.7-1ubuntu1) ...\n",
            "Setting up libxc-dev (5.1.7-1ubuntu1) ...\n",
            "Processing triggers for libc-bin (2.35-0ubuntu3.1) ...\n",
            "/sbin/ldconfig.real: /usr/local/lib/libtbbbind_2_0.so.3 is not a symbolic link\n",
            "\n",
            "/sbin/ldconfig.real: /usr/local/lib/libtbbmalloc.so.2 is not a symbolic link\n",
            "\n",
            "/sbin/ldconfig.real: /usr/local/lib/libtbbbind_2_5.so.3 is not a symbolic link\n",
            "\n",
            "/sbin/ldconfig.real: /usr/local/lib/libtbbmalloc_proxy.so.2 is not a symbolic link\n",
            "\n",
            "/sbin/ldconfig.real: /usr/local/lib/libtbb.so.12 is not a symbolic link\n",
            "\n",
            "/sbin/ldconfig.real: /usr/local/lib/libtbbbind.so.3 is not a symbolic link\n",
            "\n",
            "\u001b[2K     \u001b[90m━━━━━━━━━━━━━━━━━━━━━━━━━━━━━━━━━━━━━━━━\u001b[0m \u001b[32m1.9/1.9 MB\u001b[0m \u001b[31m17.3 MB/s\u001b[0m eta \u001b[36m0:00:00\u001b[0m\n",
            "\u001b[?25h  Preparing metadata (setup.py) ... \u001b[?25l\u001b[?25hdone\n",
            "\u001b[2K     \u001b[90m━━━━━━━━━━━━━━━━━━━━━━━━━━━━━━━━━━━━━━━━\u001b[0m \u001b[32m974.6/974.6 kB\u001b[0m \u001b[31m41.5 MB/s\u001b[0m eta \u001b[36m0:00:00\u001b[0m\n",
            "\u001b[2K     \u001b[90m━━━━━━━━━━━━━━━━━━━━━━━━━━━━━━━━━━━━━━━━\u001b[0m \u001b[32m2.2/2.2 MB\u001b[0m \u001b[31m49.2 MB/s\u001b[0m eta \u001b[36m0:00:00\u001b[0m\n",
            "\u001b[2K     \u001b[90m━━━━━━━━━━━━━━━━━━━━━━━━━━━━━━━━━━━━━━━━\u001b[0m \u001b[32m802.1/802.1 kB\u001b[0m \u001b[31m42.1 MB/s\u001b[0m eta \u001b[36m0:00:00\u001b[0m\n",
            "\u001b[2K     \u001b[90m━━━━━━━━━━━━━━━━━━━━━━━━━━━━━━━━━━━━━━━━\u001b[0m \u001b[32m8.4/8.4 MB\u001b[0m \u001b[31m64.2 MB/s\u001b[0m eta \u001b[36m0:00:00\u001b[0m\n",
            "\u001b[2K     \u001b[90m━━━━━━━━━━━━━━━━━━━━━━━━━━━━━━━━━━━━━━━━\u001b[0m \u001b[32m3.7/3.7 MB\u001b[0m \u001b[31m63.0 MB/s\u001b[0m eta \u001b[36m0:00:00\u001b[0m\n",
            "\u001b[?25h  Preparing metadata (setup.py) ... \u001b[?25l\u001b[?25hdone\n",
            "\u001b[2K     \u001b[90m━━━━━━━━━━━━━━━━━━━━━━━━━━━━━━━━━━━━━━━━\u001b[0m \u001b[32m241.0/241.0 kB\u001b[0m \u001b[31m25.5 MB/s\u001b[0m eta \u001b[36m0:00:00\u001b[0m\n",
            "\u001b[2K     \u001b[90m━━━━━━━━━━━━━━━━━━━━━━━━━━━━━━━━━━━━━━━━\u001b[0m \u001b[32m82.1/82.1 kB\u001b[0m \u001b[31m9.0 MB/s\u001b[0m eta \u001b[36m0:00:00\u001b[0m\n",
            "\u001b[?25h  Building wheel for gpaw (setup.py) ... \u001b[?25l\u001b[?25hdone\n",
            "  Building wheel for paginate (setup.py) ... \u001b[?25l\u001b[?25hdone\n"
          ]
        }
      ]
    },
    {
      "cell_type": "code",
      "source": [
        "!gpaw test"
      ],
      "metadata": {
        "colab": {
          "base_uri": "https://localhost:8080/"
        },
        "id": "oUJ_xBy6M0B0",
        "outputId": "bab50d7f-c5d7-4bef-ff85-cd782ad65e18"
      },
      "execution_count": 2,
      "outputs": [
        {
          "output_type": "stream",
          "name": "stdout",
          "text": [
            " -------------------------------------------------------------------------------------------------\n",
            "| python-3.10.12    /usr/bin/python3                                                              |\n",
            "| gpaw-23.9.1       /usr/local/lib/python3.10/dist-packages/gpaw/                                 |\n",
            "| ase-3.22.1        /usr/local/lib/python3.10/dist-packages/ase/                                  |\n",
            "| numpy-1.23.5      /usr/local/lib/python3.10/dist-packages/numpy/                                |\n",
            "| scipy-1.11.3      /usr/local/lib/python3.10/dist-packages/scipy/                                |\n",
            "| libxc-5.1.7       yes                                                                           |\n",
            "| _gpaw             /usr/local/lib/python3.10/dist-packages/_gpaw.cpython-310-x86_64-linux-gnu.so |\n",
            "| MPI enabled       yes                                                                           |\n",
            "| OpenMP enabled    no                                                                            |\n",
            "| GPU-aware MPI     no                                                                            |\n",
            "| scalapack         no                                                                            |\n",
            "| Elpa              no                                                                            |\n",
            "| FFTW              no                                                                            |\n",
            "| libvdwxc          no                                                                            |\n",
            "| PAW-datasets (1)  /usr/local/share/gpaw-setups                                                  |\n",
            "| PAW-datasets (2)  /usr/share/gpaw-setups                                                        |\n",
            " -------------------------------------------------------------------------------------------------\n",
            "Doing a test calculation (cores: 1): ... Done\n",
            "\n",
            "Test parallel calculation with \"gpaw -P 4 test\".\n"
          ]
        }
      ]
    },
    {
      "cell_type": "code",
      "source": [
        "!gpaw info"
      ],
      "metadata": {
        "colab": {
          "base_uri": "https://localhost:8080/"
        },
        "id": "USX6nHMXMcqJ",
        "outputId": "7d011181-31f8-4933-a66d-dd6579877c89"
      },
      "execution_count": 3,
      "outputs": [
        {
          "output_type": "stream",
          "name": "stdout",
          "text": [
            " -------------------------------------------------------------------------------------------------\n",
            "| python-3.10.12    /usr/bin/python3                                                              |\n",
            "| gpaw-23.9.1       /usr/local/lib/python3.10/dist-packages/gpaw/                                 |\n",
            "| ase-3.22.1        /usr/local/lib/python3.10/dist-packages/ase/                                  |\n",
            "| numpy-1.23.5      /usr/local/lib/python3.10/dist-packages/numpy/                                |\n",
            "| scipy-1.11.3      /usr/local/lib/python3.10/dist-packages/scipy/                                |\n",
            "| libxc-5.1.7       yes                                                                           |\n",
            "| _gpaw             /usr/local/lib/python3.10/dist-packages/_gpaw.cpython-310-x86_64-linux-gnu.so |\n",
            "| MPI enabled       yes                                                                           |\n",
            "| OpenMP enabled    no                                                                            |\n",
            "| GPU-aware MPI     no                                                                            |\n",
            "| scalapack         no                                                                            |\n",
            "| Elpa              no                                                                            |\n",
            "| FFTW              no                                                                            |\n",
            "| libvdwxc          no                                                                            |\n",
            "| PAW-datasets (1)  /usr/local/share/gpaw-setups                                                  |\n",
            "| PAW-datasets (2)  /usr/share/gpaw-setups                                                        |\n",
            " -------------------------------------------------------------------------------------------------\n"
          ]
        }
      ]
    },
    {
      "cell_type": "markdown",
      "source": [
        "FCC Aluminum"
      ],
      "metadata": {
        "id": "L0BdLsSDqg23"
      }
    },
    {
      "cell_type": "code",
      "source": [
        "%%time\n",
        "# Sample calculation from https://wiki.fysik.dtu.dk/gpaw/tutorialsexercises/structureoptimization/aluminium/aluminium.html\n",
        "from ase import Atoms\n",
        "from ase.visualize import view\n",
        "from gpaw import GPAW, PW\n",
        "\n",
        "name = 'Al-fcc'\n",
        "a = 4.05  # fcc lattice parameter\n",
        "b = a / 2\n",
        "\n",
        "bulk = Atoms('Al',\n",
        "             cell=[[0, b, b],\n",
        "                   [b, 0, b],\n",
        "                   [b, b, 0]],\n",
        "             pbc=True)\n",
        "\n",
        "view(bulk)\n",
        "\n",
        "k = 4\n",
        "calc = GPAW(mode=PW(300),       # cutoff\n",
        "            kpts=(k, k, k),     # k-points\n",
        "            txt=name + '.txt')  # output file\n",
        "\n",
        "bulk.calc = calc\n",
        "\n",
        "energy = bulk.get_potential_energy()\n",
        "calc.write(name + '.gpw')\n",
        "print('Energy:', energy, 'eV')"
      ],
      "metadata": {
        "colab": {
          "base_uri": "https://localhost:8080/"
        },
        "id": "T-Tq-uEXM74h",
        "outputId": "6addd538-94ca-4f93-9960-e47fc5ce45a4"
      },
      "execution_count": 4,
      "outputs": [
        {
          "output_type": "stream",
          "name": "stdout",
          "text": [
            "Energy: -4.122151616078255 eV\n",
            "CPU times: user 2.53 s, sys: 1.09 s, total: 3.63 s\n",
            "Wall time: 4.17 s\n"
          ]
        }
      ]
    },
    {
      "cell_type": "code",
      "source": [
        "from jarvis.db.figshare import get_jid_data\n",
        "from jarvis.core.atoms import Atoms\n",
        "from jarvis.core.kpoints import Kpoints3D\n",
        "jid = 'JVASP-816'\n",
        "dat = get_jid_data(jid=jid,dataset='dft_3d')\n",
        "atoms = Atoms.from_dict(dat['atoms'])\n",
        "atoms = atoms.get_conventional_atoms\n",
        "ase_atoms = (atoms.get_conventional_atoms).ase_converter()\n",
        "kp = Kpoints3D().automatic_length_mesh(\n",
        "    #lattice_mat=atoms.lattice_mat,\n",
        "    #length=10\n",
        "    lattice_mat=atoms.lattice_mat, length=dat[\"kpoint_length_unit\"]\n",
        ")\n",
        "kpts = kp._kpoints[0]\n",
        "\n"
      ],
      "metadata": {
        "colab": {
          "base_uri": "https://localhost:8080/"
        },
        "id": "lX59_dT9Uq1t",
        "outputId": "6065e8b8-f0ed-40b3-c6d1-28cf963b02de"
      },
      "execution_count": 5,
      "outputs": [
        {
          "output_type": "stream",
          "name": "stdout",
          "text": [
            "Obtaining 3D dataset 76k ...\n",
            "Reference:https://www.nature.com/articles/s41524-020-00440-1\n",
            "Other versions:https://doi.org/10.6084/m9.figshare.6815699\n"
          ]
        },
        {
          "output_type": "stream",
          "name": "stderr",
          "text": [
            "100%|██████████| 40.8M/40.8M [00:02<00:00, 19.7MiB/s]\n"
          ]
        },
        {
          "output_type": "stream",
          "name": "stdout",
          "text": [
            "Loading the zipfile...\n",
            "Loading completed.\n"
          ]
        }
      ]
    },
    {
      "cell_type": "code",
      "source": [
        "kpts"
      ],
      "metadata": {
        "colab": {
          "base_uri": "https://localhost:8080/"
        },
        "id": "vE6L6NNQVQX_",
        "outputId": "56fb3034-1a9c-4d85-9a07-4f51901d92f1"
      },
      "execution_count": 6,
      "outputs": [
        {
          "output_type": "execute_result",
          "data": {
            "text/plain": [
              "[17, 17, 17]"
            ]
          },
          "metadata": {},
          "execution_count": 6
        }
      ]
    },
    {
      "cell_type": "code",
      "source": [
        "ase_atoms"
      ],
      "metadata": {
        "colab": {
          "base_uri": "https://localhost:8080/"
        },
        "id": "3QSdd1iEWoEa",
        "outputId": "0212349b-698d-4b37-8d27-dd3efb12dc5a"
      },
      "execution_count": 7,
      "outputs": [
        {
          "output_type": "execute_result",
          "data": {
            "text/plain": [
              "Atoms(symbols='Al4', pbc=True, cell=[4.06741, 4.06741, 4.06741])"
            ]
          },
          "metadata": {},
          "execution_count": 7
        }
      ]
    },
    {
      "cell_type": "code",
      "source": [
        "%%time\n",
        "# Sample calculation from https://wiki.fysik.dtu.dk/gpaw/tutorialsexercises/structureoptimization/aluminium/aluminium.html\n",
        "from ase import Atoms\n",
        "from ase.visualize import view\n",
        "from gpaw import GPAW, PW\n",
        "\n",
        "\n",
        "\n",
        "calc = GPAW(mode=PW(500),       # cutoff\n",
        "            kpts=kpts,     # k-points\n",
        "            txt=name + '.txt')  # output file\n",
        "\n",
        "ase_atoms.calc = calc\n",
        "\n",
        "energy = ase_atoms.get_potential_energy()\n",
        "#calc.write(name + '.gpw')\n",
        "print('Energy:', energy, 'eV')"
      ],
      "metadata": {
        "colab": {
          "base_uri": "https://localhost:8080/"
        },
        "id": "d8VbDyKxVUN1",
        "outputId": "ad0dc9a4-30ac-4408-8dc7-3b1f8a83918b"
      },
      "execution_count": null,
      "outputs": [
        {
          "output_type": "stream",
          "name": "stdout",
          "text": [
            "Energy: -16.655990977511557 eV\n",
            "CPU times: user 2min 25s, sys: 1min 32s, total: 3min 58s\n",
            "Wall time: 2min 56s\n"
          ]
        }
      ]
    },
    {
      "cell_type": "code",
      "source": [
        "%%time\n",
        "import numpy as np\n",
        "from ase.eos import calculate_eos\n",
        "dx=np.arange(-0.05, 0.05, 0.01)\n",
        "eos = calculate_eos(ase_atoms)\n",
        "v, e, B = eos.fit()\n"
      ],
      "metadata": {
        "id": "mK3UCNpiVULV"
      },
      "execution_count": null,
      "outputs": []
    },
    {
      "cell_type": "code",
      "source": [
        "from ase.units import kJ\n",
        "kv = B / kJ * 1.0e24\n",
        "kv"
      ],
      "metadata": {
        "colab": {
          "base_uri": "https://localhost:8080/"
        },
        "id": "qYu0Lh7LVUI0",
        "outputId": "78014d51-871f-4484-8fdc-f55f6e6c8cb5"
      },
      "execution_count": null,
      "outputs": [
        {
          "output_type": "execute_result",
          "data": {
            "text/plain": [
              "83.74848683933646"
            ]
          },
          "metadata": {},
          "execution_count": 12
        }
      ]
    },
    {
      "cell_type": "markdown",
      "source": [
        "Calculation of electronic band structure for Silicon"
      ],
      "metadata": {
        "id": "Dt3KbFtGu1JM"
      }
    },
    {
      "cell_type": "code",
      "source": [
        "from ase.build import bulk\n",
        "from gpaw import GPAW, PW, FermiDirac\n",
        "\n",
        "# Perform standard ground state calculation (with plane wave basis)\n",
        "si = bulk('Si', 'diamond', 5.43)\n",
        "calc = GPAW(mode=PW(200),\n",
        "            xc='PBE',\n",
        "            kpts=(8, 8, 8),\n",
        "            random=True,  # random guess (needed if many empty bands required)\n",
        "            occupations=FermiDirac(0.01),\n",
        "            txt='Si_gs.txt')\n",
        "si.calc = calc\n",
        "si.get_potential_energy()\n",
        "ef = calc.get_fermi_level()\n",
        "calc.write('Si_gs.gpw')"
      ],
      "metadata": {
        "id": "EjGLEbbBuvKT"
      },
      "execution_count": null,
      "outputs": []
    },
    {
      "cell_type": "code",
      "source": [
        "# Restart from ground state and fix potential:\n",
        "calc = GPAW('Si_gs.gpw').fixed_density(\n",
        "    nbands=16,\n",
        "    symmetry='off',\n",
        "    kpts={'path': 'GXWKL', 'npoints': 60},\n",
        "    convergence={'bands': 8})"
      ],
      "metadata": {
        "colab": {
          "base_uri": "https://localhost:8080/"
        },
        "id": "sz3cn_Qfu5s2",
        "outputId": "c147ecfd-d44b-46fb-9029-99c2396ec2a4"
      },
      "execution_count": null,
      "outputs": [
        {
          "output_type": "stream",
          "name": "stdout",
          "text": [
            "\n",
            "  ___ ___ ___ _ _ _  \n",
            " |   |   |_  | | | | \n",
            " | | | | | . | | | | \n",
            " |__ |  _|___|_____|  23.6.1\n",
            " |___|_|             \n",
            "\n",
            "User:   ???@e91e90618716\n",
            "Date:   Wed Aug  2 19:31:15 2023\n",
            "Arch:   x86_64\n",
            "Pid:    176\n",
            "CWD:    /content\n",
            "Python: 3.10.12\n",
            "gpaw:   /usr/local/lib/python3.10/dist-packages/gpaw\n",
            "_gpaw:  /usr/local/lib/python3.10/dist-packages/\n",
            "        _gpaw.cpython-310-x86_64-linux-gnu.so\n",
            "ase:    /usr/local/lib/python3.10/dist-packages/ase (version 3.22.1)\n",
            "numpy:  /usr/local/lib/python3.10/dist-packages/numpy (version 1.22.4)\n",
            "scipy:  /usr/local/lib/python3.10/dist-packages/scipy (version 1.10.1)\n",
            "libxc:  5.1.7\n",
            "units:  Angstrom and eV\n",
            "cores: 1\n",
            "OpenMP: False\n",
            "OMP_NUM_THREADS: 1\n",
            "\n",
            "Input parameters:\n",
            "  convergence: {bands: 8}\n",
            "  gpts: [14 14 14]\n",
            "  kpts: {npoints: 60,\n",
            "         path: GXWKL}\n",
            "  mode: {ecut: 200.0,\n",
            "         name: pw}\n",
            "  nbands: 16\n",
            "  occupations: {name: fermi-dirac,\n",
            "                width: 0.01}\n",
            "  random: True\n",
            "  symmetry: off\n",
            "  xc: PBE\n",
            "\n",
            "Initialize ...\n",
            "\n",
            "species:\n",
            "  Si:\n",
            "    name: Silicon\n",
            "    id: ee77bee481871cc2cb65ac61239ccafa\n",
            "    Z: 14.0\n",
            "    valence: 4\n",
            "    core: 10\n",
            "    charge: 0.0\n",
            "    file: /usr/share/gpaw-setups/Si.PBE.gz\n",
            "    compensation charges: {type: gauss,\n",
            "                           rc: 0.33,\n",
            "                           lmax: 2}\n",
            "    cutoffs: {filter: 1.86,\n",
            "              core: 2.06}\n",
            "    valence states:\n",
            "      #              energy  rcut\n",
            "      - 3s(2.00)   -10.812   1.058\n",
            "      - 3p(2.00)    -4.081   1.058\n",
            "      -  s          16.399   1.058\n",
            "      -  p          23.130   1.058\n",
            "      -  d           0.000   1.058\n",
            "  \n",
            "    # Using partial waves for Si as LCAO basis\n",
            "\n",
            "Reference energy: -15772.688500  # eV\n",
            "\n",
            "Spin-paired calculation\n",
            "\n",
            "Convergence criteria:\n",
            " Maximum [total energy] change in last 3 cyles: 0.0005 eV / valence electron\n",
            " Maximum integral of absolute [dens]ity change: 0.0001 electrons / valence electron\n",
            " Maximum integral of absolute [eigenst]ate change: 4e-08 eV^2 / valence electron\n",
            " Maximum number of scf [iter]ations: 333\n",
            " (Square brackets indicate name in SCF output, whereas a 'c' in\n",
            " the SCF output indicates the quantity has converged.)\n",
            "\n",
            "Symmetries present (total): 1\n",
            "\n",
            "  ( 1  0  0)\n",
            "  ( 0  1  0)\n",
            "  ( 0  0  1)\n",
            "\n",
            "60 k-points\n",
            "60 k-points in the irreducible part of the Brillouin zone\n",
            "       k-points in crystal coordinates                weights\n",
            "   0:     0.00000000    0.00000000    0.00000000       0.01666667\n",
            "   1:     0.02173913    0.00000000    0.02173913       0.01666667\n",
            "   2:     0.04347826    0.00000000    0.04347826       0.01666667\n",
            "   3:     0.06521739    0.00000000    0.06521739       0.01666667\n",
            "   4:     0.08695652    0.00000000    0.08695652       0.01666667\n",
            "   5:     0.10869565    0.00000000    0.10869565       0.01666667\n",
            "   6:     0.13043478    0.00000000    0.13043478       0.01666667\n",
            "   7:     0.15217391    0.00000000    0.15217391       0.01666667\n",
            "   8:     0.17391304    0.00000000    0.17391304       0.01666667\n",
            "   9:     0.19565217    0.00000000    0.19565217       0.01666667\n",
            "          ...\n",
            "  59:     0.50000000    0.50000000    0.50000000       0.01666667\n",
            "\n",
            "Wave functions: Plane wave expansion\n",
            "  Cutoff energy: 200.000 eV\n",
            "  Number of coefficients (min, max): 246, 267\n",
            "  Pulay-stress correction: 0.000000 eV/Ang^3 (de/decut=0.000000)\n",
            "  Using Numpy's FFT\n",
            "  ScaLapack parameters: grid=1x1, blocksize=None\n",
            "  Wavefunction extrapolation:\n",
            "    Improved wavefunction reuse through dual PAW basis \n",
            "\n",
            "Occupation numbers: Fermi-Dirac:\n",
            "  width: 0.0100  # eV\n",
            " \n",
            "\n",
            "Eigensolver\n",
            "   Davidson(niter=2) \n",
            "\n",
            "Densities:\n",
            "  Coarse grid: 14*14*14 grid\n",
            "  Fine grid: 28*28*28 grid\n",
            "  Total Charge: 0.000000 \n",
            "\n",
            "Density mixing:\n",
            "  Method: separate\n",
            "  Backend: pulay\n",
            "  Linear mixing parameter: 0.05\n",
            "  old densities: 5\n",
            "  Damping of long wavelength oscillations: 50 \n",
            "\n",
            "Hamiltonian:\n",
            "  XC and Coulomb potentials evaluated on a 28*28*28 grid\n",
            "  Using the PBE Exchange-Correlation functional\n",
            "  External potential:\n",
            "    NoExternalPotential\n",
            " \n",
            "\n",
            "XC parameters: PBE with 2 nearest neighbor stencil\n",
            "\n",
            "Memory estimate:\n",
            "  Process memory now: 1461.98 MiB\n",
            "  Calculator: 7.80 MiB\n",
            "    Density: 1.03 MiB\n",
            "      Arrays: 0.54 MiB\n",
            "      Localized functions: 0.27 MiB\n",
            "      Mixer: 0.21 MiB\n",
            "    Hamiltonian: 0.36 MiB\n",
            "      Arrays: 0.36 MiB\n",
            "      XC: 0.00 MiB\n",
            "      Poisson: 0.00 MiB\n",
            "      vbar: 0.01 MiB\n",
            "    Wavefunctions: 6.41 MiB\n",
            "      Arrays psit_nG: 3.91 MiB\n",
            "      Eigensolver: 0.13 MiB\n",
            "      Projections: 0.38 MiB\n",
            "      Projectors: 1.65 MiB\n",
            "      PW-descriptor: 0.35 MiB\n",
            "\n",
            "Total number of cores used: 1\n",
            "\n",
            "Number of atoms: 2\n",
            "Number of atomic orbitals: 8\n",
            "Number of bands in calculation: 16\n",
            "Number of valence electrons: 8\n",
            "Bands to converge: 8\n",
            "\n",
            "... initialized\n",
            "\n",
            "Initializing position-dependent things.\n",
            "\n",
            "Creating initial wave functions:\n",
            "  8 bands from LCAO basis set\n",
            "  8 bands from random numbers\n",
            "\n",
            "                    \n",
            "                    \n",
            "                    \n",
            "                    \n",
            "           Si       \n",
            "                    \n",
            "       Si           \n",
            "                    \n",
            "                    \n",
            "                    \n",
            "                    \n",
            "\n",
            "Positions:\n",
            "   0 Si     0.000000    0.000000    0.000000    ( 0.0000,  0.0000,  0.0000)\n",
            "   1 Si     1.357500    1.357500    1.357500    ( 0.0000,  0.0000,  0.0000)\n",
            "\n",
            "Unit cell:\n",
            "           periodic     x           y           z      points  spacing\n",
            "  1. axis:    yes    0.000000    2.715000    2.715000    14     0.2239\n",
            "  2. axis:    yes    2.715000    0.000000    2.715000    14     0.2239\n",
            "  3. axis:    yes    2.715000    2.715000    0.000000    14     0.2239\n",
            "\n",
            "  Lengths:   3.839590   3.839590   3.839590\n",
            "  Angles:   60.000000  60.000000  60.000000\n",
            "\n",
            "Effective grid spacing dv^(1/3) = 0.2443\n",
            "\n",
            "     iter     time        total  log10-change:\n",
            "                         energy  eigst   dens\n",
            "iter:   1 19:31:23   -10.227003  +0.99       c\n",
            "iter:   2 19:31:26   -10.230734  -0.52       c\n",
            "iter:   3 19:31:28   -10.230775c -2.00       c\n",
            "iter:   4 19:31:36   -10.230776c -3.50       c\n",
            "iter:   5 19:31:41   -10.230776c -5.01       c\n",
            "iter:   6 19:31:43   -10.230776c -6.55       c\n",
            "iter:   7 19:31:45   -10.230776c -8.06c      c\n",
            "\n",
            "Converged after 7 iterations.\n",
            "\n",
            "Dipole moment: (-2.923917, -2.923917, -2.923917) |e|*Ang\n",
            "\n",
            "Energy contributions relative to reference atoms: (reference = -15772.688500)\n",
            "\n",
            "Kinetic:        +16.238434\n",
            "Potential:      -13.753323\n",
            "External:        +0.000000\n",
            "XC:             -12.665833\n",
            "Entropy (-ST):   -0.000000\n",
            "Local:           -0.050054\n",
            "--------------------------\n",
            "Free energy:    -10.230776\n",
            "Extrapolated:   -10.230776\n",
            "\n",
            "Showing only first 2 kpts\n",
            " Kpt  Band  Eigenvalues  Occupancy\n",
            "  0     2      5.31705    2.00000\n",
            "  0     3      5.31705    2.00000\n",
            "  0     4      7.87649    0.00000\n",
            "  0     5      7.87649    0.00000\n",
            "\n",
            "  1     2      5.28120    2.00000\n",
            "  1     3      5.28120    2.00000\n",
            "  1     4      7.85600    0.00000\n",
            "  1     5      7.92257    0.00000\n",
            "\n",
            "\n",
            "Fermi level: 5.84558\n",
            "\n",
            "Gap: 0.571 eV\n",
            "Transition (v -> c):\n",
            "  (s=0, k=0, n=3, [0.00, 0.00, 0.00]) -> (s=0, k=19, n=4, [0.41, 0.00, 0.41])\n"
          ]
        }
      ]
    },
    {
      "cell_type": "code",
      "source": [
        "%matplotlib inline\n",
        "bs = calc.band_structure()\n",
        "bs.plot(filename='bandstructure.png', show=False, emax=10.0)"
      ],
      "metadata": {
        "colab": {
          "base_uri": "https://localhost:8080/",
          "height": 452
        },
        "id": "ksml_H8Su9Wt",
        "outputId": "3f7b86a0-17e0-4819-ff26-8ddd21e49535"
      },
      "execution_count": null,
      "outputs": [
        {
          "output_type": "execute_result",
          "data": {
            "text/plain": [
              "<Axes: ylabel='energies [eV]'>"
            ]
          },
          "metadata": {},
          "execution_count": 17
        },
        {
          "output_type": "display_data",
          "data": {
            "text/plain": [
              "<Figure size 640x480 with 1 Axes>"
            ],
            "image/png": "[encoded data removed]"
          },
          "metadata": {}
        }
      ]
    },
    {
      "cell_type": "code",
      "source": [],
      "metadata": {
        "id": "3vs7n1bl_u7I"
      },
      "execution_count": null,
      "outputs": []
    },
    {
      "cell_type": "markdown",
      "source": [
        "# Adding silicon bandgap to the [JARVIS-Leaderboard](https://pages.nist.gov/jarvis_leaderboard/)"
      ],
      "metadata": {
        "id": "SsUIi1oZF8Nd"
      }
    },
    {
      "cell_type": "code",
      "source": [
        "%%time\n",
        "# Source: https://github.com/usnistgov/jarvis_leaderboard/blob/main/jarvis_leaderboard/contributions/gpaw_lda/run.py\n",
        "import pandas as pd\n",
        "from gpaw import GPAW, PW, FermiDirac\n",
        "from jarvis.db.figshare import get_jid_data\n",
        "from jarvis.core.atoms import Atoms\n",
        "from jarvis.core.kpoints import Kpoints3D\n",
        "import time\n",
        "from ase.build import bulk\n",
        "from gpaw import GPAW, PW, FermiDirac\n",
        "#source: https://wiki.fysik.dtu.dk/gpaw/tutorialsexercises/electronic/band_gap/band_gap.html\n",
        "\n",
        "\n",
        "def get_band_gap(atoms=None, cutoff=500,kpts=[7,7,7],xc='LDA'):\n",
        "    calc = GPAW(mode=PW(cutoff),\n",
        "                xc=xc,\n",
        "                kpts=kpts,  # Choose and converge carefully!\n",
        "                occupations=FermiDirac(0.01),\n",
        "                txt='gs.out')\n",
        "    atoms.calc = calc\n",
        "    atoms.get_potential_energy()\n",
        "    # Calculate the discontinuity potential and the discontinuity\n",
        "    homo, lumo = calc.get_homo_lumo()\n",
        "    efermi = calc.get_fermi_level()\n",
        "    bandgap=lumo-homo\n",
        "    # response = calc.hamiltonian.xc.response\n",
        "    #dxc_pot = response.calculate_discontinuity_potential(homo, lumo)\n",
        "    # KS_gap, dxc = response.calculate_discontinuity(dxc_pot)\n",
        "\n",
        "    # Fundamental band gap = Kohn-Sham band gap + derivative discontinuity\n",
        "    #QP_gap = KS_gap + dxc\n",
        "\n",
        "    print('Band gap', bandgap)\n",
        "    print('Fermi level', efermi)\n",
        "    #print(f'Discontinuity from GLLB-sc: {dxc:.2f} eV')\n",
        "    #print(f'Fundamental band gap:       {QP_gap:.2f} eV')\n",
        "    return bandgap\n",
        "\n",
        "dat = get_jid_data(jid='JVASP-1002',dataset='dft_3d')\n",
        "silicon = Atoms.from_dict(dat['atoms'])\n",
        "ase_atoms=silicon.ase_converter()\n",
        "kp = Kpoints3D().automatic_length_mesh(\n",
        "\n",
        "    lattice_mat=dat['atoms']['lattice_mat'],\n",
        "    length=dat[\"kpoint_length_unit\"],\n",
        ")\n",
        "kpts = kp._kpoints[0]\n",
        "t1=time.time()\n",
        "KS_gap = get_band_gap(atoms=ase_atoms,kpts=kpts)\n",
        "t2=time.time()\n",
        "print('Time', t2-t1)"
      ],
      "metadata": {
        "id": "t9doD4RN_u4K",
        "colab": {
          "base_uri": "https://localhost:8080/"
        },
        "outputId": "367b8c58-2f55-4b17-c7a7-8ca356e3b1cd"
      },
      "execution_count": 8,
      "outputs": [
        {
          "output_type": "stream",
          "name": "stdout",
          "text": [
            "Obtaining 3D dataset 76k ...\n",
            "Reference:https://www.nature.com/articles/s41524-020-00440-1\n",
            "Other versions:https://doi.org/10.6084/m9.figshare.6815699\n",
            "Loading the zipfile...\n",
            "Loading completed.\n",
            "Band gap 0.5543736290147914\n",
            "Fermi level 5.1754849232661915\n",
            "Time 320.52579855918884\n",
            "CPU times: user 5min 26s, sys: 4.59 s, total: 5min 30s\n",
            "Wall time: 5min 31s\n"
          ]
        }
      ]
    },
    {
      "cell_type": "code",
      "source": [
        "kpts"
      ],
      "metadata": {
        "id": "xOW2Ts3TGxnP",
        "outputId": "30efd512-44c4-4376-8053-0e36e1e37961",
        "colab": {
          "base_uri": "https://localhost:8080/"
        }
      },
      "execution_count": 13,
      "outputs": [
        {
          "output_type": "execute_result",
          "data": {
            "text/plain": [
              "[11, 11, 11]"
            ]
          },
          "metadata": {},
          "execution_count": 13
        }
      ]
    },
    {
      "cell_type": "code",
      "source": [
        "KS_gap"
      ],
      "metadata": {
        "id": "2-mdDdeDDIK4",
        "outputId": "e97cd0b1-4ba5-47b9-bef1-8f4f66547055",
        "colab": {
          "base_uri": "https://localhost:8080/"
        }
      },
      "execution_count": 9,
      "outputs": [
        {
          "output_type": "execute_result",
          "data": {
            "text/plain": [
              "0.5543736290147914"
            ]
          },
          "metadata": {},
          "execution_count": 9
        }
      ]
    },
    {
      "cell_type": "code",
      "source": [
        "f=open('ES-SinglePropertyPrediction-bandgap_JVASP_1002_Si-dft_3d-test-mae.csv','w')\n",
        "f.write('id,prediction\\n')\n",
        "line=jid+','+str(KS_gap)+'\\n'\n",
        "f.write(line)\n",
        "f.close()"
      ],
      "metadata": {
        "id": "Dox-OO3s_u1q"
      },
      "execution_count": 10,
      "outputs": []
    },
    {
      "cell_type": "code",
      "source": [
        "!zip ES-SinglePropertyPrediction-bandgap_JVASP_1002_Si-dft_3d-test-mae.csv.zip ES-SinglePropertyPrediction-bandgap_JVASP_1002_Si-dft_3d-test-mae.csv"
      ],
      "metadata": {
        "id": "oh7vZDzpF0H7",
        "outputId": "0735a168-bd13-4f51-925f-1333f8657906",
        "colab": {
          "base_uri": "https://localhost:8080/"
        }
      },
      "execution_count": 11,
      "outputs": [
        {
          "output_type": "stream",
          "name": "stdout",
          "text": [
            "  adding: ES-SinglePropertyPrediction-bandgap_JVASP_1002_Si-dft_3d-test-mae.csv (stored 0%)\n"
          ]
        }
      ]
    },
    {
      "cell_type": "markdown",
      "source": [
        "Now you can\n",
        "\n",
        "1) [fork](https://github.com/usnistgov/jarvis_leaderboard/fork) the jarvis-leaderboard repo from GitHub,\n",
        "\n",
        "2) add a folder with suitable name if the `jarvis_leaderboard/jarvis_leaderboard\n",
        "/contributions` folder e.g. `gpaw_lda_test`,\n",
        "\n",
        "3) add the `ES-SinglePropertyPrediction-bandgap_JVASP_1002_Si-dft_3d-test-mae.csv.zip` file, and then\n",
        "\n",
        "4) make pull request from your forked repository to the main repo"
      ],
      "metadata": {
        "id": "NefIuxTkGODf"
      }
    },
    {
      "cell_type": "code",
      "source": [
        "!ls"
      ],
      "metadata": {
        "id": "kvLPAZRrF5Pb",
        "outputId": "38d74928-a7c7-4063-caad-65719db39ef0",
        "colab": {
          "base_uri": "https://localhost:8080/"
        }
      },
      "execution_count": 12,
      "outputs": [
        {
          "output_type": "stream",
          "name": "stdout",
          "text": [
            "Al-fcc.gpw  ES-SinglePropertyPrediction-bandgap_JVASP_1002_Si-dft_3d-test-mae.csv      gs.out\n",
            "Al-fcc.txt  ES-SinglePropertyPrediction-bandgap_JVASP_1002_Si-dft_3d-test-mae.csv.zip  sample_data\n"
          ]
        }
      ]
    },
    {
      "cell_type": "markdown",
      "source": [
        "A quick calculation of Al(111)-Al2O3(001) interface energy"
      ],
      "metadata": {
        "id": "qAkQgidBfHc0"
      }
    },
    {
      "cell_type": "code",
      "source": [
        "import os\n",
        "import numpy as np\n",
        "from jarvis.analysis.interface.zur import make_interface\n",
        "from jarvis.analysis.defects.surface import Surface\n",
        "from gpaw import GPAW, PW\n",
        "\n",
        "def jarvis_atoms_to_energy(atoms=None,kp=[2,2,1],xc='PBE',ecut=300):\n",
        "       name='jarvis_db_gpaw'\n",
        "       calc = GPAW(mode=PW(ecut),       # cutoff\n",
        "            kpts=kp,     # k-points\n",
        "            txt=name + '.txt')\n",
        "       ase_atoms=atoms.ase_converter()\n",
        "       ase_atoms.calc=calc\n",
        "       atoms_en = ase_atoms.get_potential_energy()\n",
        "       return atoms_en\n",
        "\n",
        "def get_interface_energy(\n",
        "    film_atoms=None,\n",
        "    subs_atoms=None,\n",
        "    film_index=[1, 1, 1],\n",
        "    subs_index=[0, 0, 1],\n",
        "    film_thickness=25,\n",
        "    subs_thickness=25,\n",
        "    model_path=\"\",\n",
        "    seperation=3.0,\n",
        "    vacuum=8.0,\n",
        "    max_area_ratio_tol=1.00,\n",
        "    max_area=500,\n",
        "    ltol=0.05,\n",
        "    atol=1,\n",
        "    apply_strain=False,\n",
        "    from_conventional_structure=True,\n",
        "):\n",
        "    film_surf = Surface(\n",
        "        film_atoms,\n",
        "        indices=film_index,\n",
        "        from_conventional_structure=from_conventional_structure,\n",
        "        thickness=film_thickness,\n",
        "        vacuum=vacuum,\n",
        "    ).make_surface()\n",
        "    subs_surf = Surface(\n",
        "        subs_atoms,\n",
        "        indices=subs_index,\n",
        "        from_conventional_structure=from_conventional_structure,\n",
        "        thickness=subs_thickness,\n",
        "        vacuum=vacuum,\n",
        "    ).make_surface()\n",
        "    het = make_interface(\n",
        "        film=film_surf,\n",
        "        subs=subs_surf,\n",
        "        seperation=seperation,\n",
        "        vacuum=vacuum,\n",
        "        max_area_ratio_tol=max_area_ratio_tol,\n",
        "        max_area=max_area,\n",
        "        ltol=ltol,\n",
        "        atol=atol,\n",
        "        apply_strain=apply_strain,\n",
        "    )\n",
        "    film_en = jarvis_atoms_to_energy(het[\"film_sl\"])\n",
        "    print('film_en', film_en)\n",
        "    subs_en = jarvis_atoms_to_energy(het[\"subs_sl\"])\n",
        "    print ('subs_en', subs_en)\n",
        "    intf_en = jarvis_atoms_to_energy(het[\"interface\"])\n",
        "    print('intf_en', intf_en)\n",
        "\n",
        "    m = het[\"interface\"].lattice.matrix\n",
        "    area = np.linalg.norm(np.cross(m[0], m[1]))\n",
        "    intf_energy = 16 * (intf_en - subs_en - film_en) / (area)  # J/m2\n",
        "    het[\"interface_energy\"] = intf_energy\n",
        "    return het\n",
        "\n",
        "\n"
      ],
      "metadata": {
        "id": "JgKrU6CjNNMf"
      },
      "execution_count": null,
      "outputs": []
    },
    {
      "cell_type": "markdown",
      "source": [
        "It might take more than a hour"
      ],
      "metadata": {
        "id": "-WUGVTLAucwT"
      }
    },
    {
      "cell_type": "code",
      "source": [
        "from jarvis.db.figshare import get_jid_data\n",
        "from jarvis.core.atoms import Atoms\n",
        "atoms_al = Atoms.from_dict(\n",
        "    get_jid_data(dataset=\"dft_3d\", jid=\"JVASP-816\")[\"atoms\"]\n",
        ")\n",
        "atoms_al2o3 = Atoms.from_dict(\n",
        "    get_jid_data(dataset=\"dft_3d\", jid=\"JVASP-32\")[\"atoms\"]\n",
        ")\n",
        "intf = get_interface_energy(\n",
        "    film_atoms=atoms_al, subs_atoms=atoms_al2o3, film_thickness=10, subs_thickness=10\n",
        ")\n",
        "print(intf[\"interface_energy\"] )\n"
      ],
      "metadata": {
        "colab": {
          "base_uri": "https://localhost:8080/"
        },
        "id": "KuBfFS4vcnmC",
        "outputId": "9b3d8d6f-bc60-485f-f130-4d25a1173dcd"
      },
      "execution_count": null,
      "outputs": [
        {
          "output_type": "stream",
          "name": "stdout",
          "text": [
            "Obtaining 3D dataset 55k ...\n",
            "Reference:https://www.nature.com/articles/s41524-020-00440-1\n",
            "Loading the zipfile...\n",
            "Loading completed.\n",
            "Obtaining 3D dataset 55k ...\n",
            "Reference:https://www.nature.com/articles/s41524-020-00440-1\n",
            "Loading the zipfile...\n",
            "Loading completed.\n",
            "mismatch_u,mismatch_v 0.03706886202229698 0.03706805926123646\n"
          ]
        },
        {
          "output_type": "stream",
          "name": "stderr",
          "text": [
            "/usr/local/lib/python3.7/site-packages/jarvis/core/atoms.py:1596: RuntimeWarning: divide by zero encountered in double_scalars\n",
            "  ) / bottom.lattice_mat[1][1]\n"
          ]
        },
        {
          "output_type": "stream",
          "name": "stdout",
          "text": [
            "film_en -140.35238830139863\n",
            "subs_en -440.90161284833647\n",
            "intf_en -587.6015482599141\n",
            "-1.2706412219766434\n"
          ]
        }
      ]
    },
    {
      "cell_type": "code",
      "source": [],
      "metadata": {
        "id": "7ZsMh8aVfFdP"
      },
      "execution_count": null,
      "outputs": []
    }
  ]
}