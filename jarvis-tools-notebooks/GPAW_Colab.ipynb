{
  "nbformat": 4,
  "nbformat_minor": 0,
  "metadata": {
    "colab": {
      "name": "GPAW-Colab.ipynb",
      "provenance": [],
      "authorship_tag": "ABX9TyM0cSFprjJvLeRKzwCnDhiA",
      "include_colab_link": true
    },
    "kernelspec": {
      "name": "python3",
      "display_name": "Python 3"
    },
    "language_info": {
      "name": "python"
    }
  },
  "cells": [
    {
      "cell_type": "markdown",
      "metadata": {
        "id": "view-in-github",
        "colab_type": "text"
      },
      "source": [
        "<a href=\"https://colab.research.google.com/github/knc6/jarvis-tools-notebooks/blob/master/jarvis-tools-notebooks/GPAW_Colab.ipynb\" target=\"_parent\"><img src=\"https://colab.research.google.com/assets/colab-badge.svg\" alt=\"Open In Colab\"/></a>"
      ]
    },
    {
      "cell_type": "markdown",
      "source": [
        "Run GPAW on Google-colab"
      ],
      "metadata": {
        "id": "qiochdFxNbpL"
      }
    },
    {
      "cell_type": "code",
      "execution_count": 1,
      "metadata": {
        "colab": {
          "base_uri": "https://localhost:8080/"
        },
        "id": "4Bd1LUe3Dyaz",
        "outputId": "6bee23c3-4ad4-4fa8-cb8a-d569f56aad54"
      },
      "outputs": [
        {
          "output_type": "stream",
          "name": "stdout",
          "text": [
            "✨🍰✨ Everything looks OK!\n"
          ]
        }
      ],
      "source": [
        "!pip install -q condacolab\n",
        "import condacolab\n",
        "condacolab.install()"
      ]
    },
    {
      "cell_type": "markdown",
      "source": [
        "Install gpaw and other libraries from conda"
      ],
      "metadata": {
        "id": "fIPdjoOwN9G8"
      }
    },
    {
      "cell_type": "code",
      "source": [
        "!conda install -y -c conda-forge gpaw"
      ],
      "metadata": {
        "colab": {
          "base_uri": "https://localhost:8080/"
        },
        "id": "WBL1paFZDzHO",
        "outputId": "f6925f60-9e9b-4ed9-de39-c01c044f98eb"
      },
      "execution_count": 2,
      "outputs": [
        {
          "output_type": "stream",
          "name": "stdout",
          "text": [
            "Collecting package metadata (current_repodata.json): - \b\b\\ \b\b| \b\b/ \b\b- \b\b\\ \b\b| \b\b/ \b\b- \b\b\\ \b\b| \b\b/ \b\b- \b\b\\ \b\b| \b\b/ \b\b- \b\b\\ \b\b| \b\b/ \b\b- \b\b\\ \b\b| \b\b/ \b\b- \b\bdone\n",
            "Solving environment: | \b\b/ \b\b- \b\b\\ \b\b| \b\b/ \b\b- \b\b\\ \b\b| \b\b/ \b\b- \b\b\\ \b\b| \b\b/ \b\b- \b\b\\ \b\b| \b\b/ \b\b- \b\b\\ \b\b| \b\b/ \b\b- \b\b\\ \b\b| \b\b/ \b\b- \b\b\\ \b\b| \b\b/ \b\b- \b\b\\ \b\b| \b\b/ \b\b- \b\b\\ \b\b| \b\bdone\n",
            "\n",
            "# All requested packages already installed.\n",
            "\n"
          ]
        }
      ]
    },
    {
      "cell_type": "code",
      "source": [
        "!conda install -y -c conda-forge openmpi=4.1.2 gcc"
      ],
      "metadata": {
        "colab": {
          "base_uri": "https://localhost:8080/"
        },
        "id": "D5KqO9NsD3FQ",
        "outputId": "99b46273-55c6-4a53-a240-83c86563a9e0"
      },
      "execution_count": 3,
      "outputs": [
        {
          "output_type": "stream",
          "name": "stdout",
          "text": [
            "Collecting package metadata (current_repodata.json): - \b\b\\ \b\b| \b\b/ \b\b- \b\b\\ \b\b| \b\b/ \b\b- \b\b\\ \b\b| \b\b/ \b\b- \b\b\\ \b\b| \b\b/ \b\b- \b\b\\ \b\b| \b\b/ \b\b- \b\b\\ \b\b| \b\b/ \b\b- \b\b\\ \b\b| \b\b/ \b\b- \b\b\\ \b\b| \b\b/ \b\b- \b\b\\ \b\b| \b\b/ \b\b- \b\b\\ \b\bdone\n",
            "Solving environment: / \b\b- \b\b\\ \b\b| \b\b/ \b\b- \b\b\\ \b\b| \b\b/ \b\b- \b\b\\ \b\b| \b\b/ \b\b- \b\b\\ \b\b| \b\b/ \b\b- \b\b\\ \b\b| \b\b/ \b\b- \b\b\\ \b\b| \b\bdone\n",
            "\n",
            "# All requested packages already installed.\n",
            "\n"
          ]
        }
      ]
    },
    {
      "cell_type": "code",
      "source": [
        "!export GPAW_SETUP_PATH='/content'\n",
        "!gpaw install-data ."
      ],
      "metadata": {
        "colab": {
          "base_uri": "https://localhost:8080/"
        },
        "id": "AfQLOBFwL1cs",
        "outputId": "f2125cb2-0cd8-40c0-ecd4-bb222264be9f"
      },
      "execution_count": 4,
      "outputs": [
        {
          "output_type": "stream",
          "name": "stdout",
          "text": [
            "Available setups and pseudopotentials\n",
            "  [*] https://wiki.fysik.dtu.dk/gpaw-files/gpaw-setups-0.9.20000.tar.gz\n",
            "      https://wiki.fysik.dtu.dk/gpaw-files/gpaw-setups-0.9.11271.tar.gz\n",
            "      https://wiki.fysik.dtu.dk/gpaw-files/gpaw-setups-0.9.9672.tar.gz\n",
            "      https://wiki.fysik.dtu.dk/gpaw-files/gpaw-setups-0.8.7929.tar.gz\n",
            "      https://wiki.fysik.dtu.dk/gpaw-files/gpaw-setups-0.6.6300.tar.gz\n",
            "      https://wiki.fysik.dtu.dk/gpaw-files/gpaw-setups-0.5.3574.tar.gz\n",
            "\n",
            "Selected gpaw-setups-0.9.20000.tar.gz.  Downloading...\n",
            "Extracting tarball into .\n",
            "Setups installed into /content/gpaw-setups-0.9.20000.\n",
            "Register this setup path in /root/.gpaw/rc.py? [y/n] y\n",
            "It looks like the path is already registered in /root/.gpaw/rc.py.\n",
            "File will not be modified at this time.\n",
            "Installation complete.\n"
          ]
        }
      ]
    },
    {
      "cell_type": "code",
      "source": [
        "!gpaw test"
      ],
      "metadata": {
        "colab": {
          "base_uri": "https://localhost:8080/"
        },
        "id": "oUJ_xBy6M0B0",
        "outputId": "d6f817e2-7c15-4bd4-a551-652f02e52b9c"
      },
      "execution_count": 5,
      "outputs": [
        {
          "output_type": "stream",
          "name": "stdout",
          "text": [
            " ------------------------------------------------------------------------------------------------\n",
            "| python-3.7.10     /usr/local/bin/python                                                        |\n",
            "| gpaw-22.1.0       /usr/local/lib/python3.7/site-packages/gpaw/                                 |\n",
            "| ase-3.22.1        /usr/local/lib/python3.7/site-packages/ase/                                  |\n",
            "| numpy-1.21.6      /usr/local/lib/python3.7/site-packages/numpy/                                |\n",
            "| scipy-1.7.3       /usr/local/lib/python3.7/site-packages/scipy/                                |\n",
            "| libxc-5.2.3       yes                                                                          |\n",
            "| _gpaw             /usr/local/lib/python3.7/site-packages/_gpaw.cpython-37m-x86_64-linux-gnu.so |\n",
            "| MPI enabled       yes                                                                          |\n",
            "| OpenMP enabled    yes                                                                          |\n",
            "| scalapack         yes                                                                          |\n",
            "| Elpa              yes; version: 20211125                                                       |\n",
            "| FFTW              yes                                                                          |\n",
            "| libvdwxc          yes                                                                          |\n",
            "| PAW-datasets (1)  /content/gpaw-setups-0.9.20000                                               |\n",
            " ------------------------------------------------------------------------------------------------\n",
            "Doing a test calculation (cores: 1): ... Done\n",
            "\n",
            "Test parallel calculation with \"gpaw -P 4 test\".\n"
          ]
        }
      ]
    },
    {
      "cell_type": "code",
      "source": [
        "!gpaw info"
      ],
      "metadata": {
        "colab": {
          "base_uri": "https://localhost:8080/"
        },
        "id": "USX6nHMXMcqJ",
        "outputId": "f52051c8-0358-4f56-a99e-00a2664af1c0"
      },
      "execution_count": 6,
      "outputs": [
        {
          "output_type": "stream",
          "name": "stdout",
          "text": [
            " ------------------------------------------------------------------------------------------------\n",
            "| python-3.7.10     /usr/local/bin/python                                                        |\n",
            "| gpaw-22.1.0       /usr/local/lib/python3.7/site-packages/gpaw/                                 |\n",
            "| ase-3.22.1        /usr/local/lib/python3.7/site-packages/ase/                                  |\n",
            "| numpy-1.21.6      /usr/local/lib/python3.7/site-packages/numpy/                                |\n",
            "| scipy-1.7.3       /usr/local/lib/python3.7/site-packages/scipy/                                |\n",
            "| libxc-5.2.3       yes                                                                          |\n",
            "| _gpaw             /usr/local/lib/python3.7/site-packages/_gpaw.cpython-37m-x86_64-linux-gnu.so |\n",
            "| MPI enabled       yes                                                                          |\n",
            "| OpenMP enabled    yes                                                                          |\n",
            "| scalapack         yes                                                                          |\n",
            "| Elpa              yes; version: 20211125                                                       |\n",
            "| FFTW              yes                                                                          |\n",
            "| libvdwxc          yes                                                                          |\n",
            "| PAW-datasets (1)  /content/gpaw-setups-0.9.20000                                               |\n",
            " ------------------------------------------------------------------------------------------------\n"
          ]
        }
      ]
    },
    {
      "cell_type": "markdown",
      "source": [
        "Note: might have to restart runtime"
      ],
      "metadata": {
        "id": "RlvcVrvON5iC"
      }
    },
    {
      "cell_type": "code",
      "source": [
        "from ase import Atoms\n",
        "from ase.visualize import view\n",
        "from gpaw import GPAW, PW\n",
        "\n",
        "name = 'Al-fcc'\n",
        "a = 4.05  # fcc lattice parameter\n",
        "b = a / 2\n",
        "\n",
        "bulk = Atoms('Al',\n",
        "             cell=[[0, b, b],\n",
        "                   [b, 0, b],\n",
        "                   [b, b, 0]],\n",
        "             pbc=True)\n",
        "\n",
        "view(bulk)\n",
        "\n",
        "k = 4\n",
        "calc = GPAW(mode=PW(300),       # cutoff\n",
        "            kpts=(k, k, k),     # k-points\n",
        "            txt=name + '.txt')  # output file\n",
        "\n",
        "bulk.calc = calc\n",
        "\n",
        "energy = bulk.get_potential_energy()\n",
        "calc.write(name + '.gpw')\n",
        "print('Energy:', energy, 'eV')"
      ],
      "metadata": {
        "colab": {
          "base_uri": "https://localhost:8080/"
        },
        "id": "T-Tq-uEXM74h",
        "outputId": "3dd506e7-5b30-495d-9c4b-4f6ce43dc0e5"
      },
      "execution_count": 7,
      "outputs": [
        {
          "output_type": "stream",
          "name": "stdout",
          "text": [
            "Energy: -4.122151616077686 eV\n"
          ]
        }
      ]
    },
    {
      "cell_type": "code",
      "source": [
        ""
      ],
      "metadata": {
        "id": "JgKrU6CjNNMf"
      },
      "execution_count": 7,
      "outputs": []
    }
  ]
}