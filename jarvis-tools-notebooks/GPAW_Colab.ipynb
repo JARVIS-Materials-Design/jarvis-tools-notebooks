{
  "nbformat": 4,
  "nbformat_minor": 0,
  "metadata": {
    "colab": {
      "name": "GPAW-Colab.ipynb",
      "provenance": [],
      "authorship_tag": "ABX9TyNWLUwuMX6f/BH0ZhTr8Tvv",
      "include_colab_link": true
    },
    "kernelspec": {
      "name": "python3",
      "display_name": "Python 3"
    },
    "language_info": {
      "name": "python"
    }
  },
  "cells": [
    {
      "cell_type": "markdown",
      "metadata": {
        "id": "view-in-github",
        "colab_type": "text"
      },
      "source": [
        "<a href=\"https://colab.research.google.com/github/knc6/jarvis-tools-notebooks/blob/master/jarvis-tools-notebooks/GPAW_Colab.ipynb\" target=\"_parent\"><img src=\"https://colab.research.google.com/assets/colab-badge.svg\" alt=\"Open In Colab\"/></a>"
      ]
    },
    {
      "cell_type": "markdown",
      "source": [
        "## Table of Contents\n",
        "\n",
        "1. Install GPAW and JARVIS-Tools\n",
        "2. Aluminum crystal structure abd energy calculation\n",
        "3. Silicon bandstructure\n",
        "4. Example JARVIS-Leaderboard contribution\n",
        "5. Interface energy calculation\n"
      ],
      "metadata": {
        "id": "FHkc191CvMJm"
      }
    },
    {
      "cell_type": "markdown",
      "source": [
        "# 1. Installation"
      ],
      "metadata": {
        "id": "qiochdFxNbpL"
      }
    },
    {
      "cell_type": "code",
      "source": [
        "!apt install python3-mpi4py cython3 libxc-dev gpaw-data\n",
        "!pip -q install gpaw jarvis-tools"
      ],
      "metadata": {
        "colab": {
          "base_uri": "https://localhost:8080/"
        },
        "id": "Hk_GsDWcpMkO",
        "outputId": "948dc8a9-71fc-4570-d498-7826c827de24"
      },
      "execution_count": 1,
      "outputs": [
        {
          "output_type": "stream",
          "name": "stdout",
          "text": [
            "Reading package lists... Done\n",
            "Building dependency tree... Done\n",
            "Reading state information... Done\n",
            "The following additional packages will be installed:\n",
            "  libxc9\n",
            "Suggested packages:\n",
            "  cython-doc python3-numpy\n",
            "The following NEW packages will be installed:\n",
            "  cython3 gpaw-data libxc-dev libxc9 python3-mpi4py\n",
            "0 upgraded, 5 newly installed, 0 to remove and 45 not upgraded.\n",
            "Need to get 66.5 MB of archives.\n",
            "After this operation, 102 MB of additional disk space will be used.\n",
            "Get:1 http://archive.ubuntu.com/ubuntu jammy/universe amd64 cython3 amd64 0.29.28-1ubuntu3 [1,336 kB]\n",
            "Get:2 http://archive.ubuntu.com/ubuntu jammy/universe amd64 gpaw-data all 0.9.20000-2 [52.7 MB]\n",
            "Get:3 http://archive.ubuntu.com/ubuntu jammy/universe amd64 libxc9 amd64 5.1.7-1ubuntu1 [3,900 kB]\n",
            "Get:4 http://archive.ubuntu.com/ubuntu jammy/universe amd64 libxc-dev amd64 5.1.7-1ubuntu1 [8,038 kB]\n",
            "Get:5 http://archive.ubuntu.com/ubuntu jammy/universe amd64 python3-mpi4py amd64 3.1.3-1build2 [465 kB]\n",
            "Fetched 66.5 MB in 6s (11.0 MB/s)\n",
            "Selecting previously unselected package cython3.\n",
            "(Reading database ... 121918 files and directories currently installed.)\n",
            "Preparing to unpack .../cython3_0.29.28-1ubuntu3_amd64.deb ...\n",
            "Unpacking cython3 (0.29.28-1ubuntu3) ...\n",
            "Selecting previously unselected package gpaw-data.\n",
            "Preparing to unpack .../gpaw-data_0.9.20000-2_all.deb ...\n",
            "Unpacking gpaw-data (0.9.20000-2) ...\n",
            "Selecting previously unselected package libxc9:amd64.\n",
            "Preparing to unpack .../libxc9_5.1.7-1ubuntu1_amd64.deb ...\n",
            "Unpacking libxc9:amd64 (5.1.7-1ubuntu1) ...\n",
            "Selecting previously unselected package libxc-dev.\n",
            "Preparing to unpack .../libxc-dev_5.1.7-1ubuntu1_amd64.deb ...\n",
            "Unpacking libxc-dev (5.1.7-1ubuntu1) ...\n",
            "Selecting previously unselected package python3-mpi4py.\n",
            "Preparing to unpack .../python3-mpi4py_3.1.3-1build2_amd64.deb ...\n",
            "Unpacking python3-mpi4py (3.1.3-1build2) ...\n",
            "Setting up python3-mpi4py (3.1.3-1build2) ...\n",
            "Setting up gpaw-data (0.9.20000-2) ...\n",
            "Setting up cython3 (0.29.28-1ubuntu3) ...\n",
            "Setting up libxc9:amd64 (5.1.7-1ubuntu1) ...\n",
            "Setting up libxc-dev (5.1.7-1ubuntu1) ...\n",
            "Processing triggers for libc-bin (2.35-0ubuntu3.4) ...\n",
            "/sbin/ldconfig.real: /usr/local/lib/libtbb.so.12 is not a symbolic link\n",
            "\n",
            "/sbin/ldconfig.real: /usr/local/lib/libtbbmalloc.so.2 is not a symbolic link\n",
            "\n",
            "/sbin/ldconfig.real: /usr/local/lib/libtbbbind.so.3 is not a symbolic link\n",
            "\n",
            "/sbin/ldconfig.real: /usr/local/lib/libtbbmalloc_proxy.so.2 is not a symbolic link\n",
            "\n",
            "/sbin/ldconfig.real: /usr/local/lib/libtbbbind_2_5.so.3 is not a symbolic link\n",
            "\n",
            "/sbin/ldconfig.real: /usr/local/lib/libtbbbind_2_0.so.3 is not a symbolic link\n",
            "\n",
            "\u001b[2K     \u001b[90m━━━━━━━━━━━━━━━━━━━━━━━━━━━━━━━━━━━━━━━━\u001b[0m \u001b[32m2.0/2.0 MB\u001b[0m \u001b[31m9.4 MB/s\u001b[0m eta \u001b[36m0:00:00\u001b[0m\n",
            "\u001b[?25h  Preparing metadata (setup.py) ... \u001b[?25l\u001b[?25hdone\n",
            "\u001b[2K     \u001b[90m━━━━━━━━━━━━━━━━━━━━━━━━━━━━━━━━━━━━━━━━\u001b[0m \u001b[32m4.2/4.2 MB\u001b[0m \u001b[31m24.0 MB/s\u001b[0m eta \u001b[36m0:00:00\u001b[0m\n",
            "\u001b[2K     \u001b[90m━━━━━━━━━━━━━━━━━━━━━━━━━━━━━━━━━━━━━━━━\u001b[0m \u001b[32m2.2/2.2 MB\u001b[0m \u001b[31m31.9 MB/s\u001b[0m eta \u001b[36m0:00:00\u001b[0m\n",
            "\u001b[2K     \u001b[90m━━━━━━━━━━━━━━━━━━━━━━━━━━━━━━━━━━━━━━━━\u001b[0m \u001b[32m809.2/809.2 kB\u001b[0m \u001b[31m42.5 MB/s\u001b[0m eta \u001b[36m0:00:00\u001b[0m\n",
            "\u001b[?25h  Building wheel for gpaw (setup.py) ... \u001b[?25l\u001b[?25hdone\n"
          ]
        }
      ]
    },
    {
      "cell_type": "code",
      "source": [
        "!gpaw test"
      ],
      "metadata": {
        "colab": {
          "base_uri": "https://localhost:8080/"
        },
        "id": "oUJ_xBy6M0B0",
        "outputId": "afc9a9ba-9279-4ded-c2ab-730eecf688c9"
      },
      "execution_count": 2,
      "outputs": [
        {
          "output_type": "stream",
          "name": "stdout",
          "text": [
            " -------------------------------------------------------------------------------------------------\n",
            "| python-3.10.12    /usr/bin/python3                                                              |\n",
            "| gpaw-24.1.0       /usr/local/lib/python3.10/dist-packages/gpaw/                                 |\n",
            "| ase-3.22.1        /usr/local/lib/python3.10/dist-packages/ase/                                  |\n",
            "| numpy-1.25.2      /usr/local/lib/python3.10/dist-packages/numpy/                                |\n",
            "| scipy-1.11.4      /usr/local/lib/python3.10/dist-packages/scipy/                                |\n",
            "| libxc-5.1.7       yes                                                                           |\n",
            "| _gpaw             /usr/local/lib/python3.10/dist-packages/_gpaw.cpython-310-x86_64-linux-gnu.so |\n",
            "| MPI enabled       yes                                                                           |\n",
            "| OpenMP enabled    no                                                                            |\n",
            "| GPU enabled       no                                                                            |\n",
            "| GPU-aware MPI     no                                                                            |\n",
            "| CUPY              /usr/local/lib/python3.10/dist-packages/gpaw/gpu/cpupy/__init__.py            |\n",
            "| scalapack         no                                                                            |\n",
            "| Elpa              no                                                                            |\n",
            "| FFTW              no                                                                            |\n",
            "| libvdwxc          no                                                                            |\n",
            "| PAW-datasets (1)  /usr/local/share/gpaw-setups                                                  |\n",
            "| PAW-datasets (2)  /usr/share/gpaw-setups                                                        |\n",
            " -------------------------------------------------------------------------------------------------\n",
            "Doing a test calculation (cores: 1): ... Done\n",
            "\n",
            "Test parallel calculation with \"gpaw -P 4 test\".\n"
          ]
        }
      ]
    },
    {
      "cell_type": "code",
      "source": [
        "!gpaw info"
      ],
      "metadata": {
        "colab": {
          "base_uri": "https://localhost:8080/"
        },
        "id": "USX6nHMXMcqJ",
        "outputId": "651f18cf-f2a5-44a8-e4a6-839de0fec2a7"
      },
      "execution_count": 3,
      "outputs": [
        {
          "output_type": "stream",
          "name": "stdout",
          "text": [
            " -------------------------------------------------------------------------------------------------\n",
            "| python-3.10.12    /usr/bin/python3                                                              |\n",
            "| gpaw-24.1.0       /usr/local/lib/python3.10/dist-packages/gpaw/                                 |\n",
            "| ase-3.22.1        /usr/local/lib/python3.10/dist-packages/ase/                                  |\n",
            "| numpy-1.25.2      /usr/local/lib/python3.10/dist-packages/numpy/                                |\n",
            "| scipy-1.11.4      /usr/local/lib/python3.10/dist-packages/scipy/                                |\n",
            "| libxc-5.1.7       yes                                                                           |\n",
            "| _gpaw             /usr/local/lib/python3.10/dist-packages/_gpaw.cpython-310-x86_64-linux-gnu.so |\n",
            "| MPI enabled       yes                                                                           |\n",
            "| OpenMP enabled    no                                                                            |\n",
            "| GPU enabled       no                                                                            |\n",
            "| GPU-aware MPI     no                                                                            |\n",
            "| CUPY              /usr/local/lib/python3.10/dist-packages/gpaw/gpu/cpupy/__init__.py            |\n",
            "| scalapack         no                                                                            |\n",
            "| Elpa              no                                                                            |\n",
            "| FFTW              no                                                                            |\n",
            "| libvdwxc          no                                                                            |\n",
            "| PAW-datasets (1)  /usr/local/share/gpaw-setups                                                  |\n",
            "| PAW-datasets (2)  /usr/share/gpaw-setups                                                        |\n",
            " -------------------------------------------------------------------------------------------------\n"
          ]
        }
      ]
    },
    {
      "cell_type": "markdown",
      "source": [
        "# 2. FCC Aluminum"
      ],
      "metadata": {
        "id": "L0BdLsSDqg23"
      }
    },
    {
      "cell_type": "markdown",
      "source": [
        "Single point calculation"
      ],
      "metadata": {
        "id": "x2qagbTszyhU"
      }
    },
    {
      "cell_type": "code",
      "source": [
        "%%time\n",
        "# Sample calculation from https://wiki.fysik.dtu.dk/gpaw/tutorialsexercises/structureoptimization/aluminium/aluminium.html\n",
        "from ase import Atoms\n",
        "from ase.visualize import view\n",
        "from gpaw import GPAW, PW\n",
        "\n",
        "name = 'Al-fcc'\n",
        "a = 4.05  # fcc lattice parameter\n",
        "b = a / 2\n",
        "\n",
        "bulk = Atoms('Al',\n",
        "             cell=[[0, b, b],\n",
        "                   [b, 0, b],\n",
        "                   [b, b, 0]],\n",
        "             pbc=True)\n",
        "\n",
        "view(bulk)\n",
        "\n",
        "k = 4\n",
        "calc = GPAW(mode=PW(300),       # cutoff\n",
        "            kpts=(k, k, k),     # k-points\n",
        "            txt=name + '.txt')  # output file\n",
        "\n",
        "bulk.calc = calc\n",
        "\n",
        "energy = bulk.get_potential_energy()\n",
        "calc.write(name + '.gpw')\n",
        "print('Energy:', energy, 'eV')"
      ],
      "metadata": {
        "colab": {
          "base_uri": "https://localhost:8080/"
        },
        "id": "T-Tq-uEXM74h",
        "outputId": "ffcda5a2-f2e4-4d4f-f50b-ca2bc80f4137"
      },
      "execution_count": 4,
      "outputs": [
        {
          "output_type": "stream",
          "name": "stdout",
          "text": [
            "Energy: -4.122151616078063 eV\n",
            "CPU times: user 2.33 s, sys: 1.41 s, total: 3.75 s\n",
            "Wall time: 2.76 s\n"
          ]
        }
      ]
    },
    {
      "cell_type": "markdown",
      "source": [
        "Geometry optimization"
      ],
      "metadata": {
        "id": "qtOP9h6Gz1g-"
      }
    },
    {
      "cell_type": "code",
      "source": [
        "from ase import Atoms\n",
        "from ase.build import bulk\n",
        "from ase.io import write\n",
        "from ase.units import GPa\n",
        "from gpaw import GPAW, PW\n",
        "from ase.optimize import BFGS\n",
        "from ase.constraints import UnitCellFilter\n",
        "from ase.eos import EquationOfState\n",
        "from jarvis.core.atoms import ase_to_atoms\n",
        "# Set up bulk aluminum\n",
        "aluminum = bulk('Al', 'fcc', a=4.05)\n",
        "print('Init',ase_to_atoms(aluminum))\n",
        "# GPAW calculator setup\n",
        "calc = GPAW(mode=PW(500),  # Plane wave cutoff\n",
        "            xc='PBE',      # Exchange-correlation functional\n",
        "            kpts=(6, 6, 6), # k-points\n",
        "            convergence={'energy': 1e-6, 'density': 1e-4, 'eigenstates': 1e-8},\n",
        "            txt='aluminum_gpaw.txt')\n",
        "\n",
        "aluminum.set_calculator(calc)\n",
        "\n",
        "# Relax the structure\n",
        "uf = UnitCellFilter(aluminum)\n",
        "opt = BFGS(uf)\n",
        "opt.run(fmax=0.01)\n",
        "\n",
        "print('Final',ase_to_atoms(aluminum))\n"
      ],
      "metadata": {
        "colab": {
          "base_uri": "https://localhost:8080/"
        },
        "id": "L8RhU3rRxgMQ",
        "outputId": "a7c789f2-05f8-44d8-af10-c112f22ef719"
      },
      "execution_count": 9,
      "outputs": [
        {
          "output_type": "stream",
          "name": "stdout",
          "text": [
            "Init System\n",
            "1.0\n",
            "0.0 2.025 2.025\n",
            "2.025 0.0 2.025\n",
            "2.025 2.025 0.0\n",
            "Al \n",
            "1 \n",
            "direct\n",
            "0.0 0.0 0.0 Al\n",
            "\n",
            "      Step     Time          Energy         fmax\n",
            "BFGS:    0 16:10:30       -3.730177        0.0436\n",
            "BFGS:    1 16:10:36       -3.730252        0.0285\n",
            "BFGS:    2 16:10:41       -3.730316        0.0003\n",
            "Final System\n",
            "1.0\n",
            "-1.1382799519927317e-17 2.021351446312309 2.0213514463123086\n",
            "2.021351446312309 -1.9507955268131013e-18 2.021351446312309\n",
            "2.021351446312309 2.021351446312309 -1.8036985343423936e-17\n",
            "Al \n",
            "1 \n",
            "direct\n",
            "-6.81137054404624e-20 6.237049310841029e-20 -6.237049310841048e-20 Al\n",
            "\n"
          ]
        }
      ]
    },
    {
      "cell_type": "code",
      "source": [
        "initial_stress=aluminum.get_stress()\n",
        "initial_stress"
      ],
      "metadata": {
        "id": "H-Lxd47LRZ3i",
        "outputId": "0209f970-fd87-467e-a277-6c376eee754a",
        "colab": {
          "base_uri": "https://localhost:8080/"
        }
      },
      "execution_count": 11,
      "outputs": [
        {
          "output_type": "execute_result",
          "data": {
            "text/plain": [
              "array([-1.78617772e-05, -1.78617772e-05, -1.78617772e-05, -8.29557123e-19,\n",
              "        0.00000000e+00, -1.03694640e-18])"
            ]
          },
          "metadata": {},
          "execution_count": 11
        }
      ]
    },
    {
      "cell_type": "code",
      "source": [
        "from tqdm import tqdm\n",
        "import numpy as np\n",
        "j_atoms = ase_to_atoms(aluminum)\n",
        "strains = np.arange(0, 0.5, 0.01)\n",
        "stresses = []\n",
        "for i in tqdm(strains):\n",
        "  atoms=j_atoms.strain_atoms([i,0,0]).ase_converter()\n",
        "  atoms.calc=calc\n",
        "  final_stress = atoms.get_stress()\n",
        "  stress=160*(final_stress-initial_stress)/i\n",
        "  print(i,stress,final_stress[0])\n",
        "  stresses.append(final_stress[0])\n",
        "\n"
      ],
      "metadata": {
        "id": "x8bX3QZA10H6",
        "outputId": "3af17e79-7ccd-40c6-ab21-f28db823c0d9",
        "colab": {
          "base_uri": "https://localhost:8080/"
        }
      },
      "execution_count": 17,
      "outputs": [
        {
          "metadata": {
            "tags": null
          },
          "name": "stderr",
          "output_type": "stream",
          "text": [
            "  0%|          | 0/50 [00:00<?, ?it/s]<ipython-input-17-049bc26a0d60>:10: RuntimeWarning: invalid value encountered in divide\n",
            "  stress=160*(final_stress-initial_stress)/i\n",
            "  2%|▏         | 1/50 [00:08<06:57,  8.52s/it]"
          ]
        },
        {
          "metadata": {
            "tags": null
          },
          "name": "stdout",
          "output_type": "stream",
          "text": [
            "0.0 [nan nan nan nan nan nan] -1.786177718643607e-05\n"
          ]
        },
        {
          "metadata": {
            "tags": null
          },
          "name": "stderr",
          "output_type": "stream",
          "text": [
            "\r  4%|▍         | 2/50 [00:18<07:24,  9.26s/it]"
          ]
        },
        {
          "metadata": {
            "tags": null
          },
          "name": "stdout",
          "output_type": "stream",
          "text": [
            "0.01 [2.36794024e+01 1.02298700e+02 1.02298700e+02 3.81596277e-14\n",
            " 0.00000000e+00 1.65911425e-14] 0.0014621008702745042\n"
          ]
        },
        {
          "metadata": {
            "tags": null
          },
          "name": "stderr",
          "output_type": "stream",
          "text": [
            "\r  6%|▌         | 3/50 [00:28<07:31,  9.60s/it]"
          ]
        },
        {
          "metadata": {
            "tags": null
          },
          "name": "stdout",
          "output_type": "stream",
          "text": [
            "0.02 [5.92054886e+01 8.04742481e+01 8.04742481e+01 2.65458279e-14\n",
            " 1.99093710e-14 4.81143131e-14] 0.007382824294871958\n"
          ]
        },
        {
          "metadata": {
            "tags": null
          },
          "name": "stderr",
          "output_type": "stream",
          "text": [
            "\r  8%|▊         | 4/50 [00:39<07:50, 10.23s/it]"
          ]
        },
        {
          "metadata": {
            "tags": null
          },
          "name": "stdout",
          "output_type": "stream",
          "text": [
            "0.03 [ 8.30441310e+01  6.39723934e+01  6.39723934e+01  1.43789901e-14\n",
            " -1.32729140e-14  5.53038082e-15] 0.015552912793835702\n"
          ]
        },
        {
          "metadata": {
            "tags": null
          },
          "name": "stderr",
          "output_type": "stream",
          "text": [
            "\r 10%|█         | 5/50 [00:50<07:49, 10.42s/it]"
          ]
        },
        {
          "metadata": {
            "tags": null
          },
          "name": "stdout",
          "output_type": "stream",
          "text": [
            "0.04 [8.72631001e+01 5.68304162e+01 5.68304162e+01 2.19832638e-14\n",
            " 9.95468548e-15 4.14778561e-15] 0.021797913235594525\n"
          ]
        },
        {
          "metadata": {
            "tags": null
          },
          "name": "stderr",
          "output_type": "stream",
          "text": [
            "\r 12%|█▏        | 6/50 [01:00<07:38, 10.42s/it]"
          ]
        },
        {
          "metadata": {
            "tags": null
          },
          "name": "stdout",
          "output_type": "stream",
          "text": [
            "0.05 [8.83299800e+01 5.22345808e+01 5.22345808e+01 1.01205969e-14\n",
            " 0.00000000e+00 3.31822849e-15] 0.027585256962103108\n"
          ]
        },
        {
          "metadata": {
            "tags": null
          },
          "name": "stderr",
          "output_type": "stream",
          "text": [
            "\r 14%|█▍        | 7/50 [01:10<07:23, 10.31s/it]"
          ]
        },
        {
          "metadata": {
            "tags": null
          },
          "name": "stdout",
          "output_type": "stream",
          "text": [
            "0.06 [8.85328373e+01 4.88570274e+01 4.88570274e+01 1.00929450e-14\n",
            " 0.00000000e+00 2.76519041e-15] 0.03318195221227759\n"
          ]
        },
        {
          "metadata": {
            "tags": null
          },
          "name": "stderr",
          "output_type": "stream",
          "text": [
            "\r 16%|█▌        | 8/50 [01:22<07:28, 10.68s/it]"
          ]
        },
        {
          "metadata": {
            "tags": null
          },
          "name": "stdout",
          "output_type": "stream",
          "text": [
            "0.07 [ 8.19684959e+01  4.87064231e+01  4.87064231e+01  1.09620048e-14\n",
            "  0.00000000e+00 -3.31822849e-15] 0.035843355170156604\n"
          ]
        },
        {
          "metadata": {
            "tags": null
          },
          "name": "stderr",
          "output_type": "stream",
          "text": [
            "\r 18%|█▊        | 9/50 [01:34<07:37, 11.16s/it]"
          ]
        },
        {
          "metadata": {
            "tags": null
          },
          "name": "stdout",
          "output_type": "stream",
          "text": [
            "0.08 [7.35554943e+01 4.95022489e+01 4.95022489e+01 1.12249448e-14\n",
            " 0.00000000e+00 2.07389281e-15] 0.03675988536266062\n"
          ]
        },
        {
          "metadata": {
            "tags": null
          },
          "name": "stderr",
          "output_type": "stream",
          "text": [
            "\r 20%|██        | 10/50 [01:43<06:55, 10.38s/it]"
          ]
        },
        {
          "metadata": {
            "tags": null
          },
          "name": "stdout",
          "output_type": "stream",
          "text": [
            "0.09 [6.96840498e+01 4.84217442e+01 4.84217442e+01 1.57500637e-14\n",
            " 0.00000000e+00 1.06920696e-14] 0.039179416228825224\n"
          ]
        },
        {
          "metadata": {
            "tags": null
          },
          "name": "stderr",
          "output_type": "stream",
          "text": [
            "\r 22%|██▏       | 11/50 [01:53<06:44, 10.38s/it]"
          ]
        },
        {
          "metadata": {
            "tags": null
          },
          "name": "stdout",
          "output_type": "stream",
          "text": [
            "0.1 [ 6.85643309e+01  4.63268604e+01  4.63268604e+01  1.01154122e-14\n",
            " -3.98187419e-15  1.65911425e-15] 0.042834845029326406\n"
          ]
        },
        {
          "metadata": {
            "tags": null
          },
          "name": "stderr",
          "output_type": "stream",
          "text": [
            "\r 24%|██▍       | 12/50 [02:02<06:23, 10.09s/it]"
          ]
        },
        {
          "metadata": {
            "tags": null
          },
          "name": "stdout",
          "output_type": "stream",
          "text": [
            "0.11 [ 6.64695684e+01  4.47386816e+01  4.47386816e+01  9.57761406e-15\n",
            " -3.61988563e-15  1.50828568e-15] 0.045679966491372286\n"
          ]
        },
        {
          "metadata": {
            "tags": null
          },
          "name": "stderr",
          "output_type": "stream",
          "text": [
            "\r 26%|██▌       | 13/50 [02:10<05:49,  9.46s/it]"
          ]
        },
        {
          "metadata": {
            "tags": null
          },
          "name": "stdout",
          "output_type": "stream",
          "text": [
            "0.12 [ 6.31304994e+01  4.37971695e+01  4.37971695e+01  9.92012060e-15\n",
            " -3.31822849e-15  1.38259520e-15] 0.047330012770718057\n"
          ]
        },
        {
          "metadata": {
            "tags": null
          },
          "name": "stderr",
          "output_type": "stream",
          "text": [
            "\r 28%|██▊       | 14/50 [02:20<05:39,  9.44s/it]"
          ]
        },
        {
          "metadata": {
            "tags": null
          },
          "name": "stdout",
          "output_type": "stream",
          "text": [
            "0.13 [ 6.06543234e+01  4.26277042e+01  4.26277042e+01  7.91269871e-15\n",
            " -3.06298015e-15  1.27624173e-15] 0.04926377595180177\n"
          ]
        },
        {
          "metadata": {
            "tags": null
          },
          "name": "stderr",
          "output_type": "stream",
          "text": [
            "\r 30%|███       | 15/50 [02:29<05:32,  9.50s/it]"
          ]
        },
        {
          "metadata": {
            "tags": null
          },
          "name": "stdout",
          "output_type": "stream",
          "text": [
            "0.14 [ 6.03348424e+01  4.06302825e+01  4.06302825e+01  8.76960387e-15\n",
            " -2.84419585e-15 -1.65911425e-15] 0.05277512536555883\n"
          ]
        },
        {
          "metadata": {
            "tags": null
          },
          "name": "stderr",
          "output_type": "stream",
          "text": [
            "\r 32%|███▏      | 16/50 [02:37<05:06,  9.03s/it]"
          ]
        },
        {
          "metadata": {
            "tags": null
          },
          "name": "stdout",
          "output_type": "stream",
          "text": [
            "0.15 [ 6.13908471e+01  3.80711387e+01  3.80711387e+01  8.01905219e-15\n",
            " -2.65458279e-15  1.10607616e-15] 0.05753605738161671\n"
          ]
        },
        {
          "metadata": {
            "tags": null
          },
          "name": "stderr",
          "output_type": "stream",
          "text": [
            "\r 34%|███▍      | 17/50 [02:47<05:00,  9.10s/it]"
          ]
        },
        {
          "metadata": {
            "tags": null
          },
          "name": "stdout",
          "output_type": "stream",
          "text": [
            "0.16 [ 6.21488464e+01  3.56570482e+01  3.56570482e+01  6.58460966e-15\n",
            " -2.48867137e-15  1.03694640e-15] 0.06213098461216861\n"
          ]
        },
        {
          "metadata": {
            "tags": null
          },
          "name": "stderr",
          "output_type": "stream",
          "text": [
            "/usr/local/lib/python3.10/dist-packages/gpaw/utilities/gpts.py:44: UserWarning: Initial realspace grid (15,18,18) inconsistent with symmetries.\n",
            "  warnings.warn(\n",
            "/usr/local/lib/python3.10/dist-packages/gpaw/utilities/gpts.py:71: UserWarning: Using symmetrized grid: (18,18,18).\n",
            "\n",
            "  warnings.warn('Using symmetrized grid: ({},{},{}).\\n'.format(*N_c))\n",
            " 36%|███▌      | 18/50 [02:58<05:16,  9.88s/it]"
          ]
        },
        {
          "metadata": {
            "tags": null
          },
          "name": "stdout",
          "output_type": "stream",
          "text": [
            "0.17 [ 6.13503341e+01  3.39727565e+01  3.39727565e+01  9.27152079e-15\n",
            " -2.34227894e-15  9.75949556e-16] 0.06516686815187035\n"
          ]
        },
        {
          "metadata": {
            "tags": null
          },
          "name": "stderr",
          "output_type": "stream",
          "text": [
            "\r 38%|███▊      | 19/50 [03:11<05:28, 10.60s/it]"
          ]
        },
        {
          "metadata": {
            "tags": null
          },
          "name": "stdout",
          "output_type": "stream",
          "text": [
            "0.18 [ 5.94562312e+01  3.28388244e+01  3.28388244e+01  9.30947438e-15\n",
            " -2.21215233e-15  9.21730137e-16] 0.06687039827828886\n"
          ]
        },
        {
          "metadata": {
            "tags": null
          },
          "name": "stderr",
          "output_type": "stream",
          "text": [
            "\r 40%|████      | 20/50 [03:22<05:23, 10.80s/it]"
          ]
        },
        {
          "metadata": {
            "tags": null
          },
          "name": "stdout",
          "output_type": "stream",
          "text": [
            "0.19 [ 5.77640709e+01  3.16520321e+01  3.16520321e+01  8.29557123e-15\n",
            " -2.09572326e-15  8.73218024e-16] 0.0685769724353295\n"
          ]
        },
        {
          "metadata": {
            "tags": null
          },
          "name": "stderr",
          "output_type": "stream",
          "text": [
            "\r 42%|████▏     | 21/50 [03:33<05:14, 10.83s/it]"
          ]
        },
        {
          "metadata": {
            "tags": null
          },
          "name": "stdout",
          "output_type": "stream",
          "text": [
            "0.2 [5.60396886e+01 3.05046091e+01 3.05046091e+01 7.13419126e-15\n",
            " 3.98187419e-15 8.29557123e-16] 0.070031748962895\n"
          ]
        },
        {
          "metadata": {
            "tags": null
          },
          "name": "stderr",
          "output_type": "stream",
          "text": [
            "\r 44%|████▍     | 22/50 [03:44<05:09, 11.05s/it]"
          ]
        },
        {
          "metadata": {
            "tags": null
          },
          "name": "stdout",
          "output_type": "stream",
          "text": [
            "0.21 [5.33230787e+01 2.98752300e+01 2.98752300e+01 6.08341890e-15\n",
            " 3.79226113e-15 7.90054403e-16] 0.0699686789522326\n"
          ]
        },
        {
          "metadata": {
            "tags": null
          },
          "name": "stderr",
          "output_type": "stream",
          "text": [
            "\r 46%|████▌     | 23/50 [03:56<05:03, 11.25s/it]"
          ]
        },
        {
          "metadata": {
            "tags": null
          },
          "name": "stdout",
          "output_type": "stream",
          "text": [
            "0.22 [4.97637290e+01 2.97503494e+01 2.97503494e+01 7.61684267e-15\n",
            " 1.80994281e-15 7.54142839e-16] 0.06840726562997011\n"
          ]
        },
        {
          "metadata": {
            "tags": null
          },
          "name": "stderr",
          "output_type": "stream",
          "text": [
            "\r 48%|████▊     | 24/50 [04:08<04:56, 11.41s/it]"
          ]
        },
        {
          "metadata": {
            "tags": null
          },
          "name": "stdout",
          "output_type": "stream",
          "text": [
            "0.23 [4.64528020e+01 2.96408969e+01 2.96408969e+01 1.11809873e-14\n",
            " 0.00000000e+00 1.11088519e-14] 0.0667580410957712\n"
          ]
        },
        {
          "metadata": {
            "tags": null
          },
          "name": "stderr",
          "output_type": "stream",
          "text": [
            "\r 50%|█████     | 25/50 [04:19<04:46, 11.47s/it]"
          ]
        },
        {
          "metadata": {
            "tags": null
          },
          "name": "stdout",
          "output_type": "stream",
          "text": [
            "0.24 [4.41634308e+01 2.91607960e+01 2.91607960e+01 5.73777010e-15\n",
            " 3.31822849e-15 6.91297602e-16] 0.06622728435713289\n"
          ]
        },
        {
          "metadata": {
            "tags": null
          },
          "name": "stderr",
          "output_type": "stream",
          "text": [
            "\r 52%|█████▏    | 26/50 [04:31<04:38, 11.58s/it]"
          ]
        },
        {
          "metadata": {
            "tags": null
          },
          "name": "stdout",
          "output_type": "stream",
          "text": [
            "0.25 [4.28879241e+01 2.82784066e+01 2.82784066e+01 6.10554043e-15\n",
            " 1.59274968e-15 6.63645698e-16] 0.06699451964951326\n"
          ]
        },
        {
          "metadata": {
            "tags": null
          },
          "name": "stderr",
          "output_type": "stream",
          "text": [
            "\r 54%|█████▍    | 27/50 [04:42<04:19, 11.26s/it]"
          ]
        },
        {
          "metadata": {
            "tags": null
          },
          "name": "stdout",
          "output_type": "stream",
          "text": [
            "0.26 [ 4.22456950e+01  2.71480288e+01  2.71480288e+01  9.69943713e-15\n",
            " -3.06298015e-15  9.82706130e-15] 0.06863139255711366\n"
          ]
        },
        {
          "metadata": {
            "tags": null
          },
          "name": "stderr",
          "output_type": "stream",
          "text": [
            "\r 56%|█████▌    | 28/50 [04:53<04:09, 11.34s/it]"
          ]
        },
        {
          "metadata": {
            "tags": null
          },
          "name": "stdout",
          "output_type": "stream",
          "text": [
            "0.27 [4.18788613e+01 2.59262519e+01 2.59262519e+01 8.41846858e-15\n",
            " 2.94953644e-15 9.46309607e-15] 0.07065271663078097\n"
          ]
        },
        {
          "metadata": {
            "tags": null
          },
          "name": "stderr",
          "output_type": "stream",
          "text": [
            "\r 58%|█████▊    | 29/50 [05:05<04:00, 11.44s/it]"
          ]
        },
        {
          "metadata": {
            "tags": null
          },
          "name": "stdout",
          "output_type": "stream",
          "text": [
            "0.28 [4.15542773e+01 2.47175703e+01 2.47175703e+01 5.36249426e-15\n",
            " 0.00000000e+00 5.92540802e-16] 0.07270212343496762\n"
          ]
        },
        {
          "metadata": {
            "tags": null
          },
          "name": "stderr",
          "output_type": "stream",
          "text": [
            "\r 60%|██████    | 30/50 [05:17<03:49, 11.47s/it]"
          ]
        },
        {
          "metadata": {
            "tags": null
          },
          "name": "stdout",
          "output_type": "stream",
          "text": [
            "0.29 [4.11390835e+01 2.35836637e+01 2.35836637e+01 5.00594816e-15\n",
            " 0.00000000e+00 5.72108361e-16] 0.0745467269780254\n"
          ]
        },
        {
          "metadata": {
            "tags": null
          },
          "name": "stderr",
          "output_type": "stream",
          "text": [
            "\r 62%|██████▏   | 31/50 [05:28<03:40, 11.58s/it]"
          ]
        },
        {
          "metadata": {
            "tags": null
          },
          "name": "stdout",
          "output_type": "stream",
          "text": [
            "0.3 [4.05762841e+01 2.25539232e+01 2.25539232e+01 5.00499464e-15\n",
            " 0.00000000e+00 5.53038082e-16] 0.0760626708359181\n"
          ]
        },
        {
          "metadata": {
            "tags": null
          },
          "name": "stderr",
          "output_type": "stream",
          "text": [
            "\r 64%|██████▍   | 32/50 [05:40<03:29, 11.65s/it]"
          ]
        },
        {
          "metadata": {
            "tags": null
          },
          "name": "stdout",
          "output_type": "stream",
          "text": [
            "0.31 [3.98783722e+01 2.16275052e+01 2.16275052e+01 4.60270404e-15\n",
            " 0.00000000e+00 5.35198144e-16] 0.07724648428980617\n"
          ]
        },
        {
          "metadata": {
            "tags": null
          },
          "name": "stderr",
          "output_type": "stream",
          "text": [
            "\r 66%|██████▌   | 33/50 [05:51<03:14, 11.43s/it]"
          ]
        },
        {
          "metadata": {
            "tags": null
          },
          "name": "stdout",
          "output_type": "stream",
          "text": [
            "0.32 [ 3.90961002e+01  2.07858064e+01  2.07858064e+01  4.07001463e-15\n",
            " -1.24433568e-15  5.18473202e-16] 0.07817433859342399\n"
          ]
        },
        {
          "metadata": {
            "tags": null
          },
          "name": "stderr",
          "output_type": "stream",
          "text": [
            "\r 68%|██████▊   | 34/50 [06:03<03:03, 11.48s/it]"
          ]
        },
        {
          "metadata": {
            "tags": null
          },
          "name": "stdout",
          "output_type": "stream",
          "text": [
            "0.33 [ 3.82641260e+01  2.00103086e+01  2.00103086e+01  4.54999513e-15\n",
            " -1.20662854e-15  5.02761893e-16] 0.07890189813059464\n"
          ]
        },
        {
          "metadata": {
            "tags": null
          },
          "name": "stderr",
          "output_type": "stream",
          "text": [
            "\r 70%|███████   | 35/50 [06:15<02:54, 11.60s/it]"
          ]
        },
        {
          "metadata": {
            "tags": null
          },
          "name": "stdout",
          "output_type": "stream",
          "text": [
            "0.34 [ 3.73875418e+01  1.92992939e+01  1.92992939e+01  4.19658309e-15\n",
            " -1.17113947e-15  4.87974778e-16] 0.07943066448356853\n"
          ]
        },
        {
          "metadata": {
            "tags": null
          },
          "name": "stderr",
          "output_type": "stream",
          "text": [
            "\r 72%|███████▏  | 36/50 [06:27<02:43, 11.69s/it]"
          ]
        },
        {
          "metadata": {
            "tags": null
          },
          "name": "stdout",
          "output_type": "stream",
          "text": [
            "0.35000000000000003 [3.64357165e+01 1.86658977e+01 1.86658977e+01 4.07668072e-15\n",
            " 0.00000000e+00 4.74032642e-16] 0.07968526798564246\n"
          ]
        },
        {
          "metadata": {
            "tags": null
          },
          "name": "stderr",
          "output_type": "stream",
          "text": [
            "\r 74%|███████▍  | 37/50 [06:38<02:32, 11.76s/it]"
          ]
        },
        {
          "metadata": {
            "tags": null
          },
          "name": "stdout",
          "output_type": "stream",
          "text": [
            "0.36 [ 3.53928356e+01  1.81174706e+01  1.81174706e+01  3.89430983e-15\n",
            "  0.00000000e+00 -6.45211096e-16] 0.07961601833693524\n"
          ]
        },
        {
          "metadata": {
            "tags": null
          },
          "name": "stderr",
          "output_type": "stream",
          "text": [
            "\r 76%|███████▌  | 38/50 [06:50<02:21, 11.78s/it]"
          ]
        },
        {
          "metadata": {
            "tags": null
          },
          "name": "stdout",
          "output_type": "stream",
          "text": [
            "0.37 [ 3.42753500e+01  1.76435281e+01  1.76435281e+01  3.65453543e-15\n",
            " -5.38091107e-16  9.86500362e-16] 0.07924388519123954\n"
          ]
        },
        {
          "metadata": {
            "tags": null
          },
          "name": "stderr",
          "output_type": "stream",
          "text": [
            "\r 78%|███████▊  | 39/50 [07:02<02:09, 11.73s/it]"
          ]
        },
        {
          "metadata": {
            "tags": null
          },
          "name": "stdout",
          "output_type": "stream",
          "text": [
            "0.38 [ 3.31301777e+01  1.72211118e+01  1.72211118e+01  3.68934615e-15\n",
            " -5.23930815e-16  4.36609012e-16] 0.07866631036999922\n"
          ]
        },
        {
          "metadata": {
            "tags": null
          },
          "name": "stderr",
          "output_type": "stream",
          "text": [
            "\r 80%|████████  | 40/50 [07:13<01:54, 11.46s/it]"
          ]
        },
        {
          "metadata": {
            "tags": null
          },
          "name": "stdout",
          "output_type": "stream",
          "text": [
            "0.39 [ 3.20070523e+01  1.68227658e+01  1.68227658e+01  3.56284149e-15\n",
            " -1.02099338e-15  4.25413909e-16] 0.07799932814828901\n"
          ]
        },
        {
          "metadata": {
            "tags": null
          },
          "name": "stderr",
          "output_type": "stream",
          "text": [
            "\r 82%|████████▏ | 41/50 [07:24<01:43, 11.53s/it]"
          ]
        },
        {
          "metadata": {
            "tags": null
          },
          "name": "stdout",
          "output_type": "stream",
          "text": [
            "0.4 [ 3.09361464e+01  1.64296997e+01  1.64296997e+01  3.54376433e-15\n",
            " -4.97734274e-16  4.14778561e-16] 0.07732250421683755\n"
          ]
        },
        {
          "metadata": {
            "tags": null
          },
          "name": "stderr",
          "output_type": "stream",
          "text": [
            "/usr/local/lib/python3.10/dist-packages/gpaw/utilities/gpts.py:44: UserWarning: Initial realspace grid (15,20,20) inconsistent with symmetries.\n",
            "  warnings.warn(\n",
            "/usr/local/lib/python3.10/dist-packages/gpaw/utilities/gpts.py:71: UserWarning: Using symmetrized grid: (20,20,20).\n",
            "\n",
            "  warnings.warn('Using symmetrized grid: ({},{},{}).\\n'.format(*N_c))\n",
            " 84%|████████▍ | 42/50 [07:37<01:35, 11.88s/it]"
          ]
        },
        {
          "metadata": {
            "tags": null
          },
          "name": "stdout",
          "output_type": "stream",
          "text": [
            "0.41000000000000003 [2.99202672e+01 1.60376605e+01 1.60376605e+01 3.39283805e-15\n",
            " 9.71188827e-16 8.90256425e-16] 0.0766528228560053\n"
          ]
        },
        {
          "metadata": {
            "tags": null
          },
          "name": "stderr",
          "output_type": "stream",
          "text": [
            "\r 86%|████████▌ | 43/50 [07:50<01:24, 12.08s/it]"
          ]
        },
        {
          "metadata": {
            "tags": null
          },
          "name": "stdout",
          "output_type": "stream",
          "text": [
            "0.42 [2.89384362e+01 1.56549929e+01 1.56549929e+01 3.31668542e-15\n",
            " 9.48065283e-16 8.69059843e-16] 0.07594553326571693\n"
          ]
        },
        {
          "metadata": {
            "tags": null
          },
          "name": "stderr",
          "output_type": "stream",
          "text": [
            "\r 88%|████████▊ | 44/50 [08:02<01:13, 12.21s/it]"
          ]
        },
        {
          "metadata": {
            "tags": null
          },
          "name": "stdout",
          "output_type": "stream",
          "text": [
            "0.43 [2.79614132e+01 1.53008236e+01 1.53008236e+01 3.25311790e-15\n",
            " 9.26017254e-16 8.48849149e-16] 0.07512843624726083\n"
          ]
        },
        {
          "metadata": {
            "tags": null
          },
          "name": "stderr",
          "output_type": "stream",
          "text": [
            "\r 90%|█████████ | 45/50 [08:15<01:01, 12.26s/it]"
          ]
        },
        {
          "metadata": {
            "tags": null
          },
          "name": "stdout",
          "output_type": "stream",
          "text": [
            "0.44 [2.69679437e+01 1.49909852e+01 1.49909852e+01 3.17211332e-15\n",
            " 9.04971407e-16 8.29557123e-16] 0.07414398338293483\n"
          ]
        },
        {
          "metadata": {
            "tags": null
          },
          "name": "stderr",
          "output_type": "stream",
          "text": [
            "\r 92%|█████████▏| 46/50 [08:28<00:50, 12.54s/it]"
          ]
        },
        {
          "metadata": {
            "tags": null
          },
          "name": "stdout",
          "output_type": "stream",
          "text": [
            "0.45 [2.59684844e+01 1.47230675e+01 1.47230675e+01 3.10853489e-15\n",
            " 8.84860931e-16 1.25355299e-15] 0.0730185006278219\n"
          ]
        },
        {
          "output_type": "stream",
          "name": "stderr",
          "text": [
            "\r 94%|█████████▍| 47/50 [08:40<00:37, 12.55s/it]"
          ]
        },
        {
          "output_type": "stream",
          "name": "stdout",
          "text": [
            "0.46 [2.50037847e+01 1.44760125e+01 1.44760125e+01 3.03419535e-15\n",
            " 8.65624824e-16 1.22630183e-15] 0.07186801916092095\n"
          ]
        },
        {
          "output_type": "stream",
          "name": "stderr",
          "text": [
            "\r 96%|█████████▌| 48/50 [08:56<00:26, 13.41s/it]"
          ]
        },
        {
          "output_type": "stream",
          "name": "stdout",
          "text": [
            "0.47000000000000003 [2.41204679e+01 1.42223311e+01 1.42223311e+01 3.03582607e-15\n",
            " 8.47207275e-16 7.76606668e-16] 0.07083601264405459\n"
          ]
        },
        {
          "output_type": "stream",
          "name": "stderr",
          "text": [
            "\r 98%|█████████▊| 49/50 [09:08<00:13, 13.14s/it]"
          ]
        },
        {
          "output_type": "stream",
          "name": "stdout",
          "text": [
            "0.48 [2.33359101e+01 1.39483574e+01 1.39483574e+01 2.90777054e-15\n",
            " 4.14778561e-16 1.17520592e-15] 0.06998986860126205\n"
          ]
        },
        {
          "output_type": "stream",
          "name": "stderr",
          "text": [
            "100%|██████████| 50/50 [09:21<00:00, 11.22s/it]"
          ]
        },
        {
          "output_type": "stream",
          "name": "stdout",
          "text": [
            "0.49 [2.26318843e+01 1.36587748e+01 1.36587748e+01 2.84842828e-15\n",
            " 4.06313693e-16 1.15122213e-15] 0.06929228389857088\n"
          ]
        },
        {
          "output_type": "stream",
          "name": "stderr",
          "text": [
            "\n"
          ]
        }
      ]
    },
    {
      "cell_type": "code",
      "source": [
        "import matplotlib.pyplot as plt\n",
        "%matplotlib inline\n",
        "plt.plot(strains,stresses,'o')\n",
        "plt.xlabel('strain')\n",
        "plt.ylabel('stress')"
      ],
      "metadata": {
        "id": "SKD2K0JK22pa",
        "outputId": "f1cf0b31-ff33-458c-ffe0-15505d209fd9",
        "colab": {
          "base_uri": "https://localhost:8080/",
          "height": 467
        }
      },
      "execution_count": 18,
      "outputs": [
        {
          "output_type": "execute_result",
          "data": {
            "text/plain": [
              "Text(0, 0.5, 'stress')"
            ]
          },
          "metadata": {},
          "execution_count": 18
        },
        {
          "output_type": "display_data",
          "data": {
            "text/plain": [
              "<Figure size 640x480 with 1 Axes>"
            ],
            "image/png": "[encoded data removed]"
          },
          "metadata": {}
        }
      ]
    },
    {
      "cell_type": "code",
      "source": [
        "from jarvis.core.atoms import ase_to_atoms\n",
        "ase_to_atoms(aluminum).get_conventional_atoms"
      ],
      "metadata": {
        "colab": {
          "base_uri": "https://localhost:8080/"
        },
        "id": "oIhVgvhVyjXY",
        "outputId": "4932b3d1-f8ff-49cd-e7f7-c5b335e31fdd"
      },
      "execution_count": null,
      "outputs": [
        {
          "output_type": "execute_result",
          "data": {
            "text/plain": [
              "System\n",
              "1.0\n",
              "4.0427 0.0 0.0\n",
              "0.0 4.0427 0.0\n",
              "0.0 0.0 4.0427\n",
              "Al \n",
              "4 \n",
              "direct\n",
              "0.0 0.0 0.0 Al\n",
              "0.0 0.5 0.5 Al\n",
              "0.5 0.0 0.5 Al\n",
              "0.5 0.5 0.0 Al"
            ]
          },
          "metadata": {},
          "execution_count": 28
        }
      ]
    },
    {
      "cell_type": "code",
      "source": [
        "  from jarvis.core.atoms import Atoms\n",
        "  from jarvis.io.vasp.inputs import Poscar\n",
        "  pos=pos=\"\"\"FCC Al\n",
        "1.0\n",
        "4.05 0.0 0.0\n",
        "0.0 4.05 0.0\n",
        "0.0 0.0 4.05\n",
        "Al\n",
        "4\n",
        "direct\n",
        "0.0 0.0 0.0\n",
        "0.0 0.5 0.5\n",
        "0.5 0.0 0.5\n",
        "0.5 0.5 0.0\n",
        "\"\"\"\n",
        "\n",
        "j_atoms=Poscar.from_string(pos).atoms\n",
        "atoms=j_atoms.ase_converter()\n"
      ],
      "metadata": {
        "id": "zl4ySR3GprO9"
      },
      "execution_count": null,
      "outputs": []
    },
    {
      "cell_type": "code",
      "source": [
        "from ase.stress import full_3x3_to_voigt_6_stress, voigt_6_to_full_3x3_stress\n",
        "from ase import units\n",
        "atoms.calc=calc\n",
        "stress_initial = atoms.get_stress()"
      ],
      "metadata": {
        "id": "hJpCrH_9qAjL"
      },
      "execution_count": null,
      "outputs": []
    },
    {
      "cell_type": "code",
      "source": [
        "strain=0.001\n",
        "#strained_atoms=j_atoms.strain_atoms([[strain,0,0],[0,1,0],[0,1,0]]).ase_converter()\n",
        "strained_atoms=j_atoms.strain_atoms([strain,0,0]).ase_converter()\n",
        "strained_atoms.calc=calc\n",
        "stress_final = strained_atoms.get_stress() #strained_atoms.get_potential_energy(),"
      ],
      "metadata": {
        "id": "qUWxkBE3qlgE"
      },
      "execution_count": null,
      "outputs": []
    },
    {
      "cell_type": "code",
      "source": [
        "stress_final"
      ],
      "metadata": {
        "id": "t2GF9cQbq3cU",
        "outputId": "42888a91-0773-4303-a562-9ab5e9d7f1b6",
        "colab": {
          "base_uri": "https://localhost:8080/"
        }
      },
      "execution_count": null,
      "outputs": [
        {
          "output_type": "execute_result",
          "data": {
            "text/plain": [
              "array([0.00268626, 0.00331238, 0.00331238, 0.        , 0.        ,\n",
              "       0.        ])"
            ]
          },
          "metadata": {},
          "execution_count": 53
        }
      ]
    },
    {
      "cell_type": "code",
      "source": [
        "(stress_final-stress_initial)/strain/units.GPa"
      ],
      "metadata": {
        "id": "LeazMyQmq8sN",
        "outputId": "f19e43d7-fbf6-46ab-8901-89884e758080",
        "colab": {
          "base_uri": "https://localhost:8080/"
        }
      },
      "execution_count": null,
      "outputs": [
        {
          "output_type": "execute_result",
          "data": {
            "text/plain": [
              "array([1.00187713e+01, 1.10334958e+02, 1.10334958e+02, 0.00000000e+00,\n",
              "       0.00000000e+00, 9.96822771e-14])"
            ]
          },
          "metadata": {},
          "execution_count": 55
        }
      ]
    },
    {
      "cell_type": "code",
      "source": [
        "(voigt_6_to_full_3x3_stress(stress_final)-voigt_6_to_full_3x3_stress(stress_initial))/strain/units.GPa"
      ],
      "metadata": {
        "colab": {
          "base_uri": "https://localhost:8080/"
        },
        "id": "PwLc0hXE0Ac1",
        "outputId": "67d9a5e8-fbf4-43da-cfa4-e36c18bc9e55"
      },
      "execution_count": null,
      "outputs": [
        {
          "output_type": "execute_result",
          "data": {
            "text/plain": [
              "array([[1.00187713e+01, 9.96822771e-14, 0.00000000e+00],\n",
              "       [9.96822771e-14, 1.10334958e+02, 0.00000000e+00],\n",
              "       [0.00000000e+00, 0.00000000e+00, 1.10334958e+02]])"
            ]
          },
          "metadata": {},
          "execution_count": 56
        }
      ]
    },
    {
      "cell_type": "code",
      "source": [
        "from tqdm import tqdm\n",
        "import numpy as np\n",
        "strains=np.arange(0,.5,0.05)\n",
        "stresses=[]\n",
        "for i in tqdm(strains,total=len(strains)):\n",
        "  strained_atoms=j_atoms.strain_atoms([i,0,0]).ase_converter()\n",
        "  strained_atoms.calc=calc\n",
        "  stress_final = voigt_6_to_full_3x3_stress(strained_atoms.get_stress()) #strained_atoms.get_potential_energy(),\n",
        "  print(i,stress_final)\n",
        "  stresses.append(stress_final[0][0])"
      ],
      "metadata": {
        "id": "0DlF2dEurVCT",
        "outputId": "d3bc3dfd-0aa3-4b49-93ce-981d381c97a2",
        "colab": {
          "base_uri": "https://localhost:8080/"
        }
      },
      "execution_count": null,
      "outputs": [
        {
          "output_type": "stream",
          "name": "stderr",
          "text": [
            " 10%|█         | 1/10 [00:10<01:32, 10.31s/it]"
          ]
        },
        {
          "output_type": "stream",
          "name": "stdout",
          "text": [
            "0.0 [[6.64399054e-02 2.07389281e-19 0.00000000e+00]\n",
            " [2.07389281e-19 6.64399054e-02 0.00000000e+00]\n",
            " [0.00000000e+00 0.00000000e+00 6.64399054e-02]]\n"
          ]
        },
        {
          "output_type": "stream",
          "name": "stderr",
          "text": [
            "\r 20%|██        | 2/10 [00:17<01:07,  8.45s/it]"
          ]
        },
        {
          "output_type": "stream",
          "name": "stdout",
          "text": [
            "0.05 [[0.05916806 0.         0.        ]\n",
            " [0.         0.06677783 0.        ]\n",
            " [0.         0.         0.06677783]]\n"
          ]
        },
        {
          "output_type": "stream",
          "name": "stderr",
          "text": [
            "\r 30%|███       | 3/10 [00:24<00:54,  7.75s/it]"
          ]
        },
        {
          "output_type": "stream",
          "name": "stdout",
          "text": [
            "0.1 [[0.05386074 0.         0.        ]\n",
            " [0.         0.0665575  0.        ]\n",
            " [0.         0.         0.0665575 ]]\n"
          ]
        },
        {
          "output_type": "stream",
          "name": "stderr",
          "text": [
            "\r 40%|████      | 4/10 [00:32<00:47,  7.91s/it]"
          ]
        },
        {
          "output_type": "stream",
          "name": "stdout",
          "text": [
            "0.15000000000000002 [[0.05148467 0.         0.        ]\n",
            " [0.         0.06460132 0.        ]\n",
            " [0.         0.         0.06460132]]\n"
          ]
        },
        {
          "output_type": "stream",
          "name": "stderr",
          "text": [
            "\r 50%|█████     | 5/10 [00:39<00:37,  7.53s/it]"
          ]
        },
        {
          "output_type": "stream",
          "name": "stdout",
          "text": [
            "0.2 [[0.05085928 0.         0.        ]\n",
            " [0.         0.06119063 0.        ]\n",
            " [0.         0.         0.06119063]]\n"
          ]
        },
        {
          "output_type": "stream",
          "name": "stderr",
          "text": [
            "\r 60%|██████    | 6/10 [00:48<00:31,  7.97s/it]"
          ]
        },
        {
          "output_type": "stream",
          "name": "stdout",
          "text": [
            "0.25 [[0.05021029 0.         0.        ]\n",
            " [0.         0.05732173 0.        ]\n",
            " [0.         0.         0.05732173]]\n"
          ]
        },
        {
          "output_type": "stream",
          "name": "stderr",
          "text": [
            "\r 70%|███████   | 7/10 [00:56<00:24,  8.03s/it]"
          ]
        },
        {
          "output_type": "stream",
          "name": "stdout",
          "text": [
            "0.30000000000000004 [[0.04864177 0.         0.        ]\n",
            " [0.         0.0536694  0.        ]\n",
            " [0.         0.         0.0536694 ]]\n"
          ]
        },
        {
          "output_type": "stream",
          "name": "stderr",
          "text": [
            "\r 80%|████████  | 8/10 [01:05<00:16,  8.42s/it]"
          ]
        },
        {
          "output_type": "stream",
          "name": "stdout",
          "text": [
            "0.35000000000000003 [[0.04552276 0.         0.        ]\n",
            " [0.         0.05071422 0.        ]\n",
            " [0.         0.         0.05071422]]\n"
          ]
        },
        {
          "output_type": "stream",
          "name": "stderr",
          "text": [
            "\r 90%|█████████ | 9/10 [01:18<00:09,  9.85s/it]"
          ]
        },
        {
          "output_type": "stream",
          "name": "stdout",
          "text": [
            "0.4 [[0.04084067 0.         0.        ]\n",
            " [0.         0.04871094 0.        ]\n",
            " [0.         0.         0.04871094]]\n"
          ]
        },
        {
          "output_type": "stream",
          "name": "stderr",
          "text": [
            "100%|██████████| 10/10 [01:38<00:00,  9.86s/it]"
          ]
        },
        {
          "output_type": "stream",
          "name": "stdout",
          "text": [
            "0.45 [[0.03608635 0.         0.        ]\n",
            " [0.         0.04715854 0.        ]\n",
            " [0.         0.         0.04715854]]\n"
          ]
        },
        {
          "output_type": "stream",
          "name": "stderr",
          "text": [
            "\n"
          ]
        }
      ]
    },
    {
      "cell_type": "code",
      "source": [
        "%matplotlib inline\n",
        "import matplotlib.pyplot as plt\n",
        "plt.plot(strains,stresses,'o')\n",
        "plt.xlabel('strain')\n",
        "plt.ylabel('stress')"
      ],
      "metadata": {
        "id": "dcmEiVXFsDXk",
        "outputId": "576bfc67-737f-4efc-947a-ea4235ace25a",
        "colab": {
          "base_uri": "https://localhost:8080/",
          "height": 467
        }
      },
      "execution_count": null,
      "outputs": [
        {
          "output_type": "execute_result",
          "data": {
            "text/plain": [
              "Text(0, 0.5, 'stress ')"
            ]
          },
          "metadata": {},
          "execution_count": 25
        },
        {
          "output_type": "display_data",
          "data": {
            "text/plain": [
              "<Figure size 640x480 with 1 Axes>"
            ],
            "image/png": "[encoded data removed]"
          },
          "metadata": {}
        }
      ]
    },
    {
      "cell_type": "code",
      "source": [
        "from jarvis.db.figshare import get_jid_data\n",
        "from jarvis.core.atoms import Atoms\n",
        "from jarvis.core.kpoints import Kpoints3D\n",
        "jid = 'JVASP-816'\n",
        "dat = get_jid_data(jid=jid,dataset='dft_3d')\n",
        "atoms = Atoms.from_dict(dat['atoms'])\n",
        "atoms = atoms.get_conventional_atoms\n",
        "ase_atoms = (atoms.get_conventional_atoms).ase_converter()\n",
        "kp = Kpoints3D().automatic_length_mesh(\n",
        "    #lattice_mat=atoms.lattice_mat,\n",
        "    #length=10\n",
        "    lattice_mat=atoms.lattice_mat, length=dat[\"kpoint_length_unit\"]\n",
        ")\n",
        "kpts = kp._kpoints[0]\n",
        "\n"
      ],
      "metadata": {
        "colab": {
          "base_uri": "https://localhost:8080/"
        },
        "id": "lX59_dT9Uq1t",
        "outputId": "e49718ab-86c1-4cfe-e615-e2d0967e1f98"
      },
      "execution_count": null,
      "outputs": [
        {
          "output_type": "stream",
          "name": "stdout",
          "text": [
            "Obtaining 3D dataset 76k ...\n",
            "Reference:https://www.nature.com/articles/s41524-020-00440-1\n",
            "Other versions:https://doi.org/10.6084/m9.figshare.6815699\n"
          ]
        },
        {
          "output_type": "stream",
          "name": "stderr",
          "text": [
            "100%|██████████| 40.8M/40.8M [00:02<00:00, 18.0MiB/s]\n"
          ]
        },
        {
          "output_type": "stream",
          "name": "stdout",
          "text": [
            "Loading the zipfile...\n",
            "Loading completed.\n"
          ]
        }
      ]
    },
    {
      "cell_type": "code",
      "source": [
        "kpts"
      ],
      "metadata": {
        "colab": {
          "base_uri": "https://localhost:8080/"
        },
        "id": "vE6L6NNQVQX_",
        "outputId": "526c9b53-6652-486d-f900-6d1d9c0f9f62"
      },
      "execution_count": null,
      "outputs": [
        {
          "output_type": "execute_result",
          "data": {
            "text/plain": [
              "[17, 17, 17]"
            ]
          },
          "metadata": {},
          "execution_count": 6
        }
      ]
    },
    {
      "cell_type": "code",
      "source": [
        "ase_atoms"
      ],
      "metadata": {
        "colab": {
          "base_uri": "https://localhost:8080/"
        },
        "id": "3QSdd1iEWoEa",
        "outputId": "0f993440-7dd2-4191-c764-04e86e9e0b90"
      },
      "execution_count": null,
      "outputs": [
        {
          "output_type": "execute_result",
          "data": {
            "text/plain": [
              "Atoms(symbols='Al4', pbc=True, cell=[4.06741, 4.06741, 4.06741])"
            ]
          },
          "metadata": {},
          "execution_count": 9
        }
      ]
    },
    {
      "cell_type": "code",
      "source": [
        "%%time\n",
        "# Sample calculation from https://wiki.fysik.dtu.dk/gpaw/tutorialsexercises/structureoptimization/aluminium/aluminium.html\n",
        "from ase import Atoms\n",
        "from ase.visualize import view\n",
        "from gpaw import GPAW, PW\n",
        "\n",
        "\n",
        "\n",
        "calc = GPAW(mode=PW(500),       # cutoff\n",
        "            kpts=kpts,     # k-points\n",
        "            txt=name + '.txt')  # output file\n",
        "\n",
        "ase_atoms.calc = calc\n",
        "\n",
        "energy = ase_atoms.get_potential_energy()\n",
        "#calc.write(name + '.gpw')\n",
        "print('Energy:', energy, 'eV')"
      ],
      "metadata": {
        "colab": {
          "base_uri": "https://localhost:8080/"
        },
        "id": "d8VbDyKxVUN1",
        "outputId": "ad0dc9a4-30ac-4408-8dc7-3b1f8a83918b"
      },
      "execution_count": null,
      "outputs": [
        {
          "output_type": "stream",
          "name": "stdout",
          "text": [
            "Energy: -16.655990977511557 eV\n",
            "CPU times: user 2min 25s, sys: 1min 32s, total: 3min 58s\n",
            "Wall time: 2min 56s\n"
          ]
        }
      ]
    },
    {
      "cell_type": "code",
      "source": [
        "%%time\n",
        "import numpy as np\n",
        "from ase.eos import calculate_eos\n",
        "dx=np.arange(-0.05, 0.05, 0.01)\n",
        "eos = calculate_eos(ase_atoms)\n",
        "v, e, B = eos.fit()\n"
      ],
      "metadata": {
        "id": "mK3UCNpiVULV"
      },
      "execution_count": null,
      "outputs": []
    },
    {
      "cell_type": "code",
      "source": [
        "from ase.units import kJ\n",
        "kv = B / kJ * 1.0e24\n",
        "kv"
      ],
      "metadata": {
        "colab": {
          "base_uri": "https://localhost:8080/"
        },
        "id": "qYu0Lh7LVUI0",
        "outputId": "78014d51-871f-4484-8fdc-f55f6e6c8cb5"
      },
      "execution_count": null,
      "outputs": [
        {
          "output_type": "execute_result",
          "data": {
            "text/plain": [
              "83.74848683933646"
            ]
          },
          "metadata": {},
          "execution_count": 12
        }
      ]
    },
    {
      "cell_type": "markdown",
      "source": [
        "# 3. Calculation of electronic band structure for Silicon"
      ],
      "metadata": {
        "id": "Dt3KbFtGu1JM"
      }
    },
    {
      "cell_type": "code",
      "source": [
        "from ase.build import bulk\n",
        "from gpaw import GPAW, PW, FermiDirac\n",
        "\n",
        "# Perform standard ground state calculation (with plane wave basis)\n",
        "si = bulk('Si', 'diamond', 5.43)\n",
        "calc = GPAW(mode=PW(200),\n",
        "            xc='PBE',\n",
        "            kpts=(8, 8, 8),\n",
        "            random=True,  # random guess (needed if many empty bands required)\n",
        "            occupations=FermiDirac(0.01),\n",
        "            txt='Si_gs.txt')\n",
        "si.calc = calc\n",
        "si.get_potential_energy()\n",
        "ef = calc.get_fermi_level()\n",
        "calc.write('Si_gs.gpw')"
      ],
      "metadata": {
        "id": "EjGLEbbBuvKT"
      },
      "execution_count": null,
      "outputs": []
    },
    {
      "cell_type": "code",
      "source": [
        "# Restart from ground state and fix potential:\n",
        "calc = GPAW('Si_gs.gpw').fixed_density(\n",
        "    nbands=16,\n",
        "    symmetry='off',\n",
        "    kpts={'path': 'GXWKL', 'npoints': 60},\n",
        "    convergence={'bands': 8})"
      ],
      "metadata": {
        "colab": {
          "base_uri": "https://localhost:8080/"
        },
        "id": "sz3cn_Qfu5s2",
        "outputId": "c147ecfd-d44b-46fb-9029-99c2396ec2a4"
      },
      "execution_count": null,
      "outputs": [
        {
          "output_type": "stream",
          "name": "stdout",
          "text": [
            "\n",
            "  ___ ___ ___ _ _ _  \n",
            " |   |   |_  | | | | \n",
            " | | | | | . | | | | \n",
            " |__ |  _|___|_____|  23.6.1\n",
            " |___|_|             \n",
            "\n",
            "User:   ???@e91e90618716\n",
            "Date:   Wed Aug  2 19:31:15 2023\n",
            "Arch:   x86_64\n",
            "Pid:    176\n",
            "CWD:    /content\n",
            "Python: 3.10.12\n",
            "gpaw:   /usr/local/lib/python3.10/dist-packages/gpaw\n",
            "_gpaw:  /usr/local/lib/python3.10/dist-packages/\n",
            "        _gpaw.cpython-310-x86_64-linux-gnu.so\n",
            "ase:    /usr/local/lib/python3.10/dist-packages/ase (version 3.22.1)\n",
            "numpy:  /usr/local/lib/python3.10/dist-packages/numpy (version 1.22.4)\n",
            "scipy:  /usr/local/lib/python3.10/dist-packages/scipy (version 1.10.1)\n",
            "libxc:  5.1.7\n",
            "units:  Angstrom and eV\n",
            "cores: 1\n",
            "OpenMP: False\n",
            "OMP_NUM_THREADS: 1\n",
            "\n",
            "Input parameters:\n",
            "  convergence: {bands: 8}\n",
            "  gpts: [14 14 14]\n",
            "  kpts: {npoints: 60,\n",
            "         path: GXWKL}\n",
            "  mode: {ecut: 200.0,\n",
            "         name: pw}\n",
            "  nbands: 16\n",
            "  occupations: {name: fermi-dirac,\n",
            "                width: 0.01}\n",
            "  random: True\n",
            "  symmetry: off\n",
            "  xc: PBE\n",
            "\n",
            "Initialize ...\n",
            "\n",
            "species:\n",
            "  Si:\n",
            "    name: Silicon\n",
            "    id: ee77bee481871cc2cb65ac61239ccafa\n",
            "    Z: 14.0\n",
            "    valence: 4\n",
            "    core: 10\n",
            "    charge: 0.0\n",
            "    file: /usr/share/gpaw-setups/Si.PBE.gz\n",
            "    compensation charges: {type: gauss,\n",
            "                           rc: 0.33,\n",
            "                           lmax: 2}\n",
            "    cutoffs: {filter: 1.86,\n",
            "              core: 2.06}\n",
            "    valence states:\n",
            "      #              energy  rcut\n",
            "      - 3s(2.00)   -10.812   1.058\n",
            "      - 3p(2.00)    -4.081   1.058\n",
            "      -  s          16.399   1.058\n",
            "      -  p          23.130   1.058\n",
            "      -  d           0.000   1.058\n",
            "  \n",
            "    # Using partial waves for Si as LCAO basis\n",
            "\n",
            "Reference energy: -15772.688500  # eV\n",
            "\n",
            "Spin-paired calculation\n",
            "\n",
            "Convergence criteria:\n",
            " Maximum [total energy] change in last 3 cyles: 0.0005 eV / valence electron\n",
            " Maximum integral of absolute [dens]ity change: 0.0001 electrons / valence electron\n",
            " Maximum integral of absolute [eigenst]ate change: 4e-08 eV^2 / valence electron\n",
            " Maximum number of scf [iter]ations: 333\n",
            " (Square brackets indicate name in SCF output, whereas a 'c' in\n",
            " the SCF output indicates the quantity has converged.)\n",
            "\n",
            "Symmetries present (total): 1\n",
            "\n",
            "  ( 1  0  0)\n",
            "  ( 0  1  0)\n",
            "  ( 0  0  1)\n",
            "\n",
            "60 k-points\n",
            "60 k-points in the irreducible part of the Brillouin zone\n",
            "       k-points in crystal coordinates                weights\n",
            "   0:     0.00000000    0.00000000    0.00000000       0.01666667\n",
            "   1:     0.02173913    0.00000000    0.02173913       0.01666667\n",
            "   2:     0.04347826    0.00000000    0.04347826       0.01666667\n",
            "   3:     0.06521739    0.00000000    0.06521739       0.01666667\n",
            "   4:     0.08695652    0.00000000    0.08695652       0.01666667\n",
            "   5:     0.10869565    0.00000000    0.10869565       0.01666667\n",
            "   6:     0.13043478    0.00000000    0.13043478       0.01666667\n",
            "   7:     0.15217391    0.00000000    0.15217391       0.01666667\n",
            "   8:     0.17391304    0.00000000    0.17391304       0.01666667\n",
            "   9:     0.19565217    0.00000000    0.19565217       0.01666667\n",
            "          ...\n",
            "  59:     0.50000000    0.50000000    0.50000000       0.01666667\n",
            "\n",
            "Wave functions: Plane wave expansion\n",
            "  Cutoff energy: 200.000 eV\n",
            "  Number of coefficients (min, max): 246, 267\n",
            "  Pulay-stress correction: 0.000000 eV/Ang^3 (de/decut=0.000000)\n",
            "  Using Numpy's FFT\n",
            "  ScaLapack parameters: grid=1x1, blocksize=None\n",
            "  Wavefunction extrapolation:\n",
            "    Improved wavefunction reuse through dual PAW basis \n",
            "\n",
            "Occupation numbers: Fermi-Dirac:\n",
            "  width: 0.0100  # eV\n",
            " \n",
            "\n",
            "Eigensolver\n",
            "   Davidson(niter=2) \n",
            "\n",
            "Densities:\n",
            "  Coarse grid: 14*14*14 grid\n",
            "  Fine grid: 28*28*28 grid\n",
            "  Total Charge: 0.000000 \n",
            "\n",
            "Density mixing:\n",
            "  Method: separate\n",
            "  Backend: pulay\n",
            "  Linear mixing parameter: 0.05\n",
            "  old densities: 5\n",
            "  Damping of long wavelength oscillations: 50 \n",
            "\n",
            "Hamiltonian:\n",
            "  XC and Coulomb potentials evaluated on a 28*28*28 grid\n",
            "  Using the PBE Exchange-Correlation functional\n",
            "  External potential:\n",
            "    NoExternalPotential\n",
            " \n",
            "\n",
            "XC parameters: PBE with 2 nearest neighbor stencil\n",
            "\n",
            "Memory estimate:\n",
            "  Process memory now: 1461.98 MiB\n",
            "  Calculator: 7.80 MiB\n",
            "    Density: 1.03 MiB\n",
            "      Arrays: 0.54 MiB\n",
            "      Localized functions: 0.27 MiB\n",
            "      Mixer: 0.21 MiB\n",
            "    Hamiltonian: 0.36 MiB\n",
            "      Arrays: 0.36 MiB\n",
            "      XC: 0.00 MiB\n",
            "      Poisson: 0.00 MiB\n",
            "      vbar: 0.01 MiB\n",
            "    Wavefunctions: 6.41 MiB\n",
            "      Arrays psit_nG: 3.91 MiB\n",
            "      Eigensolver: 0.13 MiB\n",
            "      Projections: 0.38 MiB\n",
            "      Projectors: 1.65 MiB\n",
            "      PW-descriptor: 0.35 MiB\n",
            "\n",
            "Total number of cores used: 1\n",
            "\n",
            "Number of atoms: 2\n",
            "Number of atomic orbitals: 8\n",
            "Number of bands in calculation: 16\n",
            "Number of valence electrons: 8\n",
            "Bands to converge: 8\n",
            "\n",
            "... initialized\n",
            "\n",
            "Initializing position-dependent things.\n",
            "\n",
            "Creating initial wave functions:\n",
            "  8 bands from LCAO basis set\n",
            "  8 bands from random numbers\n",
            "\n",
            "                    \n",
            "                    \n",
            "                    \n",
            "                    \n",
            "           Si       \n",
            "                    \n",
            "       Si           \n",
            "                    \n",
            "                    \n",
            "                    \n",
            "                    \n",
            "\n",
            "Positions:\n",
            "   0 Si     0.000000    0.000000    0.000000    ( 0.0000,  0.0000,  0.0000)\n",
            "   1 Si     1.357500    1.357500    1.357500    ( 0.0000,  0.0000,  0.0000)\n",
            "\n",
            "Unit cell:\n",
            "           periodic     x           y           z      points  spacing\n",
            "  1. axis:    yes    0.000000    2.715000    2.715000    14     0.2239\n",
            "  2. axis:    yes    2.715000    0.000000    2.715000    14     0.2239\n",
            "  3. axis:    yes    2.715000    2.715000    0.000000    14     0.2239\n",
            "\n",
            "  Lengths:   3.839590   3.839590   3.839590\n",
            "  Angles:   60.000000  60.000000  60.000000\n",
            "\n",
            "Effective grid spacing dv^(1/3) = 0.2443\n",
            "\n",
            "     iter     time        total  log10-change:\n",
            "                         energy  eigst   dens\n",
            "iter:   1 19:31:23   -10.227003  +0.99       c\n",
            "iter:   2 19:31:26   -10.230734  -0.52       c\n",
            "iter:   3 19:31:28   -10.230775c -2.00       c\n",
            "iter:   4 19:31:36   -10.230776c -3.50       c\n",
            "iter:   5 19:31:41   -10.230776c -5.01       c\n",
            "iter:   6 19:31:43   -10.230776c -6.55       c\n",
            "iter:   7 19:31:45   -10.230776c -8.06c      c\n",
            "\n",
            "Converged after 7 iterations.\n",
            "\n",
            "Dipole moment: (-2.923917, -2.923917, -2.923917) |e|*Ang\n",
            "\n",
            "Energy contributions relative to reference atoms: (reference = -15772.688500)\n",
            "\n",
            "Kinetic:        +16.238434\n",
            "Potential:      -13.753323\n",
            "External:        +0.000000\n",
            "XC:             -12.665833\n",
            "Entropy (-ST):   -0.000000\n",
            "Local:           -0.050054\n",
            "--------------------------\n",
            "Free energy:    -10.230776\n",
            "Extrapolated:   -10.230776\n",
            "\n",
            "Showing only first 2 kpts\n",
            " Kpt  Band  Eigenvalues  Occupancy\n",
            "  0     2      5.31705    2.00000\n",
            "  0     3      5.31705    2.00000\n",
            "  0     4      7.87649    0.00000\n",
            "  0     5      7.87649    0.00000\n",
            "\n",
            "  1     2      5.28120    2.00000\n",
            "  1     3      5.28120    2.00000\n",
            "  1     4      7.85600    0.00000\n",
            "  1     5      7.92257    0.00000\n",
            "\n",
            "\n",
            "Fermi level: 5.84558\n",
            "\n",
            "Gap: 0.571 eV\n",
            "Transition (v -> c):\n",
            "  (s=0, k=0, n=3, [0.00, 0.00, 0.00]) -> (s=0, k=19, n=4, [0.41, 0.00, 0.41])\n"
          ]
        }
      ]
    },
    {
      "cell_type": "code",
      "source": [
        "%matplotlib inline\n",
        "bs = calc.band_structure()\n",
        "bs.plot(filename='bandstructure.png', show=False, emax=10.0)"
      ],
      "metadata": {
        "colab": {
          "base_uri": "https://localhost:8080/",
          "height": 452
        },
        "id": "ksml_H8Su9Wt",
        "outputId": "3f7b86a0-17e0-4819-ff26-8ddd21e49535"
      },
      "execution_count": null,
      "outputs": [
        {
          "output_type": "execute_result",
          "data": {
            "text/plain": [
              "<Axes: ylabel='energies [eV]'>"
            ]
          },
          "metadata": {},
          "execution_count": 17
        },
        {
          "output_type": "display_data",
          "data": {
            "text/plain": [
              "<Figure size 640x480 with 1 Axes>"
            ],
            "image/png": "[encoded data removed]"
          },
          "metadata": {}
        }
      ]
    },
    {
      "cell_type": "code",
      "source": [],
      "metadata": {
        "id": "3vs7n1bl_u7I"
      },
      "execution_count": null,
      "outputs": []
    },
    {
      "cell_type": "markdown",
      "source": [
        "#4. JARVIS-Leaderboard contribution"
      ],
      "metadata": {
        "id": "q_vFpEoVHsux"
      }
    },
    {
      "cell_type": "code",
      "source": [
        "%%time\n",
        "# Source: https://github.com/usnistgov/jarvis_leaderboard/blob/main/jarvis_leaderboard/contributions/gpaw_lda/run.py\n",
        "import pandas as pd\n",
        "from gpaw import GPAW, PW, FermiDirac\n",
        "from jarvis.db.figshare import get_jid_data\n",
        "from jarvis.core.atoms import Atoms\n",
        "from jarvis.core.kpoints import Kpoints3D\n",
        "import time\n",
        "from ase.build import bulk\n",
        "from gpaw import GPAW, PW, FermiDirac\n",
        "#source: https://wiki.fysik.dtu.dk/gpaw/tutorialsexercises/electronic/band_gap/band_gap.html\n",
        "\n",
        "\n",
        "def get_band_gap(atoms=None, cutoff=500,kpts=[7,7,7],xc='LDA'):\n",
        "    calc = GPAW(mode=PW(cutoff),\n",
        "                xc=xc,\n",
        "                kpts=kpts,  # Choose and converge carefully!\n",
        "                occupations=FermiDirac(0.01),\n",
        "                txt='gs.out')\n",
        "    atoms.calc = calc\n",
        "    atoms.get_potential_energy()\n",
        "    # Calculate the discontinuity potential and the discontinuity\n",
        "    homo, lumo = calc.get_homo_lumo()\n",
        "    efermi = calc.get_fermi_level()\n",
        "    bandgap=lumo-homo\n",
        "    # response = calc.hamiltonian.xc.response\n",
        "    #dxc_pot = response.calculate_discontinuity_potential(homo, lumo)\n",
        "    # KS_gap, dxc = response.calculate_discontinuity(dxc_pot)\n",
        "\n",
        "    # Fundamental band gap = Kohn-Sham band gap + derivative discontinuity\n",
        "    #QP_gap = KS_gap + dxc\n",
        "\n",
        "    print('Band gap', bandgap)\n",
        "    print('Fermi level', efermi)\n",
        "    #print(f'Discontinuity from GLLB-sc: {dxc:.2f} eV')\n",
        "    #print(f'Fundamental band gap:       {QP_gap:.2f} eV')\n",
        "    return bandgap\n",
        "\n",
        "dat = get_jid_data(jid='JVASP-1002',dataset='dft_3d')\n",
        "silicon = Atoms.from_dict(dat['atoms'])\n",
        "ase_atoms=silicon.ase_converter()\n",
        "kp = Kpoints3D().automatic_length_mesh(\n",
        "\n",
        "    lattice_mat=dat['atoms']['lattice_mat'],\n",
        "    length=dat[\"kpoint_length_unit\"],\n",
        ")\n",
        "kpts = kp._kpoints[0]\n",
        "t1=time.time()\n",
        "KS_gap = get_band_gap(atoms=ase_atoms,kpts=kpts)\n",
        "t2=time.time()\n",
        "print('Time', t2-t1)"
      ],
      "metadata": {
        "id": "t9doD4RN_u4K",
        "outputId": "4aea3923-99eb-4794-c451-47ed5d0e20be",
        "colab": {
          "base_uri": "https://localhost:8080/"
        }
      },
      "execution_count": null,
      "outputs": [
        {
          "output_type": "stream",
          "name": "stdout",
          "text": [
            "Obtaining 3D dataset 76k ...\n",
            "Reference:https://www.nature.com/articles/s41524-020-00440-1\n",
            "Other versions:https://doi.org/10.6084/m9.figshare.6815699\n"
          ]
        },
        {
          "output_type": "stream",
          "name": "stderr",
          "text": [
            "100%|██████████| 40.8M/40.8M [00:04<00:00, 9.30MiB/s]\n"
          ]
        },
        {
          "output_type": "stream",
          "name": "stdout",
          "text": [
            "Loading the zipfile...\n",
            "Loading completed.\n"
          ]
        }
      ]
    },
    {
      "cell_type": "code",
      "source": [
        "f=open('ES-SinglePropertyPrediction-bandgap_JVASP_1002_Si-dft_3d-test-mae.csv','w')\n",
        "f.write('id,prediction\\n')\n",
        "line=jid+','+str(KS_gap)+'\\n'\n",
        "f.write(line)\n",
        "f.close()"
      ],
      "metadata": {
        "id": "Dox-OO3s_u1q"
      },
      "execution_count": null,
      "outputs": []
    },
    {
      "cell_type": "code",
      "source": [
        "!zip ES-SinglePropertyPrediction-bandgap_JVASP_1002_Si-dft_3d-test-mae.csv.zip ES-SinglePropertyPrediction-bandgap_JVASP_1002_Si-dft_3d-test-mae.csv"
      ],
      "metadata": {
        "id": "OLYasTVNI90r"
      },
      "execution_count": null,
      "outputs": []
    },
    {
      "cell_type": "markdown",
      "source": [
        "You can download the zip file by clicking on the folder icon on the left side of this notebook"
      ],
      "metadata": {
        "id": "CE0BTWonJsAk"
      }
    },
    {
      "cell_type": "markdown",
      "source": [
        "# Now you can\n",
        "\n",
        "1) [Fork](https://github.com/usnistgov/jarvis_leaderboard/fork) the jarvis-leaderboard GitHub repository\n",
        "\n",
        "2) Add a new folder in the `jarvis_leaderboard/jarvis_leaderboard\n",
        "/contributions/` folder, e.g., `gpaw_lda_test`\n",
        "\n",
        "3) In the folder, add the `ES-SinglePropertyPrediction-bandgap_JVASP_1002_Si-dft_3d-test-mae.csv.zip` file, an example `metadata.json` file, e.g. [this](https://github.com/usnistgov/jarvis_leaderboard/blob/main/jarvis_leaderboard/contributions/gpaw_lda/metadata.json) one, add a `run.sh` file, e.g. this [one](https://github.com/usnistgov/jarvis_leaderboard/blob/main/jarvis_leaderboard/contributions/gpaw_lda/run.sh)\n",
        "\n",
        "4) Make a pull request from your forked repo to the main jarvis-leaderboard"
      ],
      "metadata": {
        "id": "FYaTiaV3IVQF"
      }
    },
    {
      "cell_type": "markdown",
      "source": [],
      "metadata": {
        "id": "paxDzIQCJ7I6"
      }
    },
    {
      "cell_type": "markdown",
      "source": [
        "# 5. A quick calculation of Al(111)-Al2O3(001) interface energy"
      ],
      "metadata": {
        "id": "qAkQgidBfHc0"
      }
    },
    {
      "cell_type": "code",
      "source": [
        "import os\n",
        "import numpy as np\n",
        "from jarvis.analysis.interface.zur import make_interface\n",
        "from jarvis.analysis.defects.surface import Surface\n",
        "from gpaw import GPAW, PW\n",
        "\n",
        "def jarvis_atoms_to_energy(atoms=None,kp=[2,2,1],xc='PBE',ecut=300):\n",
        "       name='jarvis_db_gpaw'\n",
        "       calc = GPAW(mode=PW(ecut),       # cutoff\n",
        "            kpts=kp,     # k-points\n",
        "            txt=name + '.txt')\n",
        "       ase_atoms=atoms.ase_converter()\n",
        "       ase_atoms.calc=calc\n",
        "       atoms_en = ase_atoms.get_potential_energy()\n",
        "       return atoms_en\n",
        "\n",
        "def get_interface_energy(\n",
        "    film_atoms=None,\n",
        "    subs_atoms=None,\n",
        "    film_index=[1, 1, 1],\n",
        "    subs_index=[0, 0, 1],\n",
        "    film_thickness=25,\n",
        "    subs_thickness=25,\n",
        "    model_path=\"\",\n",
        "    seperation=3.0,\n",
        "    vacuum=8.0,\n",
        "    max_area_ratio_tol=1.00,\n",
        "    max_area=500,\n",
        "    ltol=0.05,\n",
        "    atol=1,\n",
        "    apply_strain=False,\n",
        "    from_conventional_structure=True,\n",
        "):\n",
        "    film_surf = Surface(\n",
        "        film_atoms,\n",
        "        indices=film_index,\n",
        "        from_conventional_structure=from_conventional_structure,\n",
        "        thickness=film_thickness,\n",
        "        vacuum=vacuum,\n",
        "    ).make_surface()\n",
        "    subs_surf = Surface(\n",
        "        subs_atoms,\n",
        "        indices=subs_index,\n",
        "        from_conventional_structure=from_conventional_structure,\n",
        "        thickness=subs_thickness,\n",
        "        vacuum=vacuum,\n",
        "    ).make_surface()\n",
        "    het = make_interface(\n",
        "        film=film_surf,\n",
        "        subs=subs_surf,\n",
        "        seperation=seperation,\n",
        "        vacuum=vacuum,\n",
        "        max_area_ratio_tol=max_area_ratio_tol,\n",
        "        max_area=max_area,\n",
        "        ltol=ltol,\n",
        "        atol=atol,\n",
        "        apply_strain=apply_strain,\n",
        "    )\n",
        "    film_en = jarvis_atoms_to_energy(het[\"film_sl\"])\n",
        "    print('film_en', film_en)\n",
        "    subs_en = jarvis_atoms_to_energy(het[\"subs_sl\"])\n",
        "    print ('subs_en', subs_en)\n",
        "    intf_en = jarvis_atoms_to_energy(het[\"interface\"])\n",
        "    print('intf_en', intf_en)\n",
        "\n",
        "    m = het[\"interface\"].lattice.matrix\n",
        "    area = np.linalg.norm(np.cross(m[0], m[1]))\n",
        "    intf_energy = 16 * (intf_en - subs_en - film_en) / (area)  # J/m2\n",
        "    het[\"interface_energy\"] = intf_energy\n",
        "    return het\n",
        "\n",
        "\n"
      ],
      "metadata": {
        "id": "JgKrU6CjNNMf"
      },
      "execution_count": null,
      "outputs": []
    },
    {
      "cell_type": "markdown",
      "source": [
        "It might take more than a hour"
      ],
      "metadata": {
        "id": "-WUGVTLAucwT"
      }
    },
    {
      "cell_type": "code",
      "source": [
        "from jarvis.db.figshare import get_jid_data\n",
        "from jarvis.core.atoms import Atoms\n",
        "atoms_al = Atoms.from_dict(\n",
        "    get_jid_data(dataset=\"dft_3d\", jid=\"JVASP-816\")[\"atoms\"]\n",
        ")\n",
        "atoms_al2o3 = Atoms.from_dict(\n",
        "    get_jid_data(dataset=\"dft_3d\", jid=\"JVASP-32\")[\"atoms\"]\n",
        ")\n",
        "intf = get_interface_energy(\n",
        "    film_atoms=atoms_al, subs_atoms=atoms_al2o3, film_thickness=10, subs_thickness=10\n",
        ")\n",
        "print(intf[\"interface_energy\"] )\n"
      ],
      "metadata": {
        "colab": {
          "base_uri": "https://localhost:8080/"
        },
        "id": "KuBfFS4vcnmC",
        "outputId": "9b3d8d6f-bc60-485f-f130-4d25a1173dcd"
      },
      "execution_count": null,
      "outputs": [
        {
          "output_type": "stream",
          "name": "stdout",
          "text": [
            "Obtaining 3D dataset 55k ...\n",
            "Reference:https://www.nature.com/articles/s41524-020-00440-1\n",
            "Loading the zipfile...\n",
            "Loading completed.\n",
            "Obtaining 3D dataset 55k ...\n",
            "Reference:https://www.nature.com/articles/s41524-020-00440-1\n",
            "Loading the zipfile...\n",
            "Loading completed.\n",
            "mismatch_u,mismatch_v 0.03706886202229698 0.03706805926123646\n"
          ]
        },
        {
          "output_type": "stream",
          "name": "stderr",
          "text": [
            "/usr/local/lib/python3.7/site-packages/jarvis/core/atoms.py:1596: RuntimeWarning: divide by zero encountered in double_scalars\n",
            "  ) / bottom.lattice_mat[1][1]\n"
          ]
        },
        {
          "output_type": "stream",
          "name": "stdout",
          "text": [
            "film_en -140.35238830139863\n",
            "subs_en -440.90161284833647\n",
            "intf_en -587.6015482599141\n",
            "-1.2706412219766434\n"
          ]
        }
      ]
    },
    {
      "cell_type": "code",
      "source": [],
      "metadata": {
        "id": "7ZsMh8aVfFdP"
      },
      "execution_count": null,
      "outputs": []
    }
  ]
}