{
  "nbformat": 4,
  "nbformat_minor": 0,
  "metadata": {
    "colab": {
      "name": "GPAW-Colab.ipynb",
      "provenance": [],
      "authorship_tag": "ABX9TyMQHaIUy6AmdTT6Y9EDh7jB",
      "include_colab_link": true
    },
    "kernelspec": {
      "name": "python3",
      "display_name": "Python 3"
    },
    "language_info": {
      "name": "python"
    }
  },
  "cells": [
    {
      "cell_type": "markdown",
      "metadata": {
        "id": "view-in-github",
        "colab_type": "text"
      },
      "source": [
        "<a href=\"https://colab.research.google.com/github/knc6/jarvis-tools-notebooks/blob/master/jarvis-tools-notebooks/GPAW_Colab.ipynb\" target=\"_parent\"><img src=\"https://colab.research.google.com/assets/colab-badge.svg\" alt=\"Open In Colab\"/></a>"
      ]
    },
    {
      "cell_type": "markdown",
      "source": [
        "Run GPAW on Google-colab and calculate interface energy with jarvis-tools"
      ],
      "metadata": {
        "id": "qiochdFxNbpL"
      }
    },
    {
      "cell_type": "code",
      "source": [
        "!apt install python3-mpi4py cython3 libxc-dev gpaw-data\n",
        "!pip -q install gpaw jarvis-tools"
      ],
      "metadata": {
        "id": "Hk_GsDWcpMkO",
        "outputId": "1ff392b7-ef7e-4188-e067-b9e48df7e00f",
        "colab": {
          "base_uri": "https://localhost:8080/"
        }
      },
      "execution_count": 6,
      "outputs": [
        {
          "output_type": "stream",
          "name": "stdout",
          "text": [
            "Reading package lists... Done\n",
            "Building dependency tree... Done\n",
            "Reading state information... Done\n",
            "cython3 is already the newest version (0.29.28-1ubuntu3).\n",
            "gpaw-data is already the newest version (0.9.20000-2).\n",
            "libxc-dev is already the newest version (5.1.7-1ubuntu1).\n",
            "python3-mpi4py is already the newest version (3.1.3-1build2).\n",
            "0 upgraded, 0 newly installed, 0 to remove and 15 not upgraded.\n",
            "\u001b[2K     \u001b[90m━━━━━━━━━━━━━━━━━━━━━━━━━━━━━━━━━━━━━━━\u001b[0m \u001b[32m974.6/974.6 kB\u001b[0m \u001b[31m7.0 MB/s\u001b[0m eta \u001b[36m0:00:00\u001b[0m\n",
            "\u001b[2K     \u001b[90m━━━━━━━━━━━━━━━━━━━━━━━━━━━━━━━━━━━━━━\u001b[0m \u001b[32m515.3/515.3 kB\u001b[0m \u001b[31m10.2 MB/s\u001b[0m eta \u001b[36m0:00:00\u001b[0m\n",
            "\u001b[?25h"
          ]
        }
      ]
    },
    {
      "cell_type": "code",
      "source": [
        "!gpaw test"
      ],
      "metadata": {
        "colab": {
          "base_uri": "https://localhost:8080/"
        },
        "id": "oUJ_xBy6M0B0",
        "outputId": "57a5c5e4-e8da-4f88-ecec-757b6f98150e"
      },
      "execution_count": 2,
      "outputs": [
        {
          "output_type": "stream",
          "name": "stdout",
          "text": [
            " -------------------------------------------------------------------------------------------------\n",
            "| python-3.10.12    /usr/bin/python3                                                              |\n",
            "| gpaw-23.6.1       /usr/local/lib/python3.10/dist-packages/gpaw/                                 |\n",
            "| ase-3.22.1        /usr/local/lib/python3.10/dist-packages/ase/                                  |\n",
            "| numpy-1.22.4      /usr/local/lib/python3.10/dist-packages/numpy/                                |\n",
            "| scipy-1.10.1      /usr/local/lib/python3.10/dist-packages/scipy/                                |\n",
            "| libxc-5.1.7       yes                                                                           |\n",
            "| _gpaw             /usr/local/lib/python3.10/dist-packages/_gpaw.cpython-310-x86_64-linux-gnu.so |\n",
            "| MPI enabled       yes                                                                           |\n",
            "| OpenMP enabled    no                                                                            |\n",
            "| GPU-aware MPI     no                                                                            |\n",
            "| scalapack         no                                                                            |\n",
            "| Elpa              no                                                                            |\n",
            "| FFTW              no                                                                            |\n",
            "| libvdwxc          no                                                                            |\n",
            "| PAW-datasets (1)  /usr/local/share/gpaw-setups                                                  |\n",
            "| PAW-datasets (2)  /usr/share/gpaw-setups                                                        |\n",
            " -------------------------------------------------------------------------------------------------\n",
            "Doing a test calculation (cores: 1): ... Done\n",
            "\n",
            "Test parallel calculation with \"gpaw -P 4 test\".\n"
          ]
        }
      ]
    },
    {
      "cell_type": "code",
      "source": [
        "!gpaw info"
      ],
      "metadata": {
        "colab": {
          "base_uri": "https://localhost:8080/"
        },
        "id": "USX6nHMXMcqJ",
        "outputId": "beeb1072-38e4-4698-893c-43cd05e1ad24"
      },
      "execution_count": 3,
      "outputs": [
        {
          "output_type": "stream",
          "name": "stdout",
          "text": [
            " -------------------------------------------------------------------------------------------------\n",
            "| python-3.10.12    /usr/bin/python3                                                              |\n",
            "| gpaw-23.6.1       /usr/local/lib/python3.10/dist-packages/gpaw/                                 |\n",
            "| ase-3.22.1        /usr/local/lib/python3.10/dist-packages/ase/                                  |\n",
            "| numpy-1.22.4      /usr/local/lib/python3.10/dist-packages/numpy/                                |\n",
            "| scipy-1.10.1      /usr/local/lib/python3.10/dist-packages/scipy/                                |\n",
            "| libxc-5.1.7       yes                                                                           |\n",
            "| _gpaw             /usr/local/lib/python3.10/dist-packages/_gpaw.cpython-310-x86_64-linux-gnu.so |\n",
            "| MPI enabled       yes                                                                           |\n",
            "| OpenMP enabled    no                                                                            |\n",
            "| GPU-aware MPI     no                                                                            |\n",
            "| scalapack         no                                                                            |\n",
            "| Elpa              no                                                                            |\n",
            "| FFTW              no                                                                            |\n",
            "| libvdwxc          no                                                                            |\n",
            "| PAW-datasets (1)  /usr/local/share/gpaw-setups                                                  |\n",
            "| PAW-datasets (2)  /usr/share/gpaw-setups                                                        |\n",
            " -------------------------------------------------------------------------------------------------\n"
          ]
        }
      ]
    },
    {
      "cell_type": "markdown",
      "source": [
        "FCC Aluminum"
      ],
      "metadata": {
        "id": "L0BdLsSDqg23"
      }
    },
    {
      "cell_type": "code",
      "source": [
        "# Sample calculation from https://wiki.fysik.dtu.dk/gpaw/tutorialsexercises/structureoptimization/aluminium/aluminium.html\n",
        "from ase import Atoms\n",
        "from ase.visualize import view\n",
        "from gpaw import GPAW, PW\n",
        "\n",
        "name = 'Al-fcc'\n",
        "a = 4.05  # fcc lattice parameter\n",
        "b = a / 2\n",
        "\n",
        "bulk = Atoms('Al',\n",
        "             cell=[[0, b, b],\n",
        "                   [b, 0, b],\n",
        "                   [b, b, 0]],\n",
        "             pbc=True)\n",
        "\n",
        "view(bulk)\n",
        "\n",
        "k = 4\n",
        "calc = GPAW(mode=PW(300),       # cutoff\n",
        "            kpts=(k, k, k),     # k-points\n",
        "            txt=name + '.txt')  # output file\n",
        "\n",
        "bulk.calc = calc\n",
        "\n",
        "energy = bulk.get_potential_energy()\n",
        "calc.write(name + '.gpw')\n",
        "print('Energy:', energy, 'eV')"
      ],
      "metadata": {
        "colab": {
          "base_uri": "https://localhost:8080/"
        },
        "id": "T-Tq-uEXM74h",
        "outputId": "127fb581-9848-44f1-d496-d75078099dbc"
      },
      "execution_count": 4,
      "outputs": [
        {
          "output_type": "stream",
          "name": "stdout",
          "text": [
            "Energy: -4.122151616078365 eV\n"
          ]
        }
      ]
    },
    {
      "cell_type": "code",
      "source": [
        "from jarvis.db.figshare import get_jid_data\n",
        "from jarvis.core.atoms import Atoms\n",
        "from jarvis.core.kpoints import Kpoints3D\n",
        "jid = 'JVASP-816'\n",
        "dat = get_jid_data(jid=jid,dataset='dft_3d')\n",
        "atoms = Atoms.from_dict(dat['atoms'])\n",
        "atoms = atoms.get_conventional_atoms\n",
        "ase_atoms = (atoms.get_conventional_atoms).ase_converter()\n",
        "kp = Kpoints3D().automatic_length_mesh(\n",
        "    #lattice_mat=atoms.lattice_mat,\n",
        "    #length=10\n",
        "    lattice_mat=atoms.lattice_mat, length=dat[\"kpoint_length_unit\"]\n",
        ")\n",
        "kpts = kp._kpoints[0]\n",
        "\n"
      ],
      "metadata": {
        "colab": {
          "base_uri": "https://localhost:8080/"
        },
        "id": "lX59_dT9Uq1t",
        "outputId": "c920810c-d197-48d8-ced1-cec1a3ccd632"
      },
      "execution_count": 7,
      "outputs": [
        {
          "output_type": "stream",
          "name": "stdout",
          "text": [
            "Obtaining 3D dataset 76k ...\n",
            "Reference:https://www.nature.com/articles/s41524-020-00440-1\n",
            "Other versions:https://doi.org/10.6084/m9.figshare.6815699\n"
          ]
        },
        {
          "output_type": "stream",
          "name": "stderr",
          "text": [
            "100%|██████████| 40.8M/40.8M [00:02<00:00, 19.1MiB/s]\n"
          ]
        },
        {
          "output_type": "stream",
          "name": "stdout",
          "text": [
            "Loading the zipfile...\n",
            "Loading completed.\n"
          ]
        }
      ]
    },
    {
      "cell_type": "code",
      "source": [
        "kpts"
      ],
      "metadata": {
        "colab": {
          "base_uri": "https://localhost:8080/"
        },
        "id": "vE6L6NNQVQX_",
        "outputId": "f506b390-cda4-4df5-e4f7-7fc1d7061695"
      },
      "execution_count": 8,
      "outputs": [
        {
          "output_type": "execute_result",
          "data": {
            "text/plain": [
              "[17, 17, 17]"
            ]
          },
          "metadata": {},
          "execution_count": 8
        }
      ]
    },
    {
      "cell_type": "code",
      "source": [
        "ase_atoms"
      ],
      "metadata": {
        "colab": {
          "base_uri": "https://localhost:8080/"
        },
        "id": "3QSdd1iEWoEa",
        "outputId": "0f993440-7dd2-4191-c764-04e86e9e0b90"
      },
      "execution_count": 9,
      "outputs": [
        {
          "output_type": "execute_result",
          "data": {
            "text/plain": [
              "Atoms(symbols='Al4', pbc=True, cell=[4.06741, 4.06741, 4.06741])"
            ]
          },
          "metadata": {},
          "execution_count": 9
        }
      ]
    },
    {
      "cell_type": "code",
      "source": [
        "# Sample calculation from https://wiki.fysik.dtu.dk/gpaw/tutorialsexercises/structureoptimization/aluminium/aluminium.html\n",
        "from ase import Atoms\n",
        "from ase.visualize import view\n",
        "from gpaw import GPAW, PW\n",
        "\n",
        "\n",
        "\n",
        "calc = GPAW(mode=PW(500),       # cutoff\n",
        "            kpts=kpts,     # k-points\n",
        "            txt=name + '.txt')  # output file\n",
        "\n",
        "ase_atoms.calc = calc\n",
        "\n",
        "energy = ase_atoms.get_potential_energy()\n",
        "#calc.write(name + '.gpw')\n",
        "print('Energy:', energy, 'eV')"
      ],
      "metadata": {
        "colab": {
          "base_uri": "https://localhost:8080/"
        },
        "id": "d8VbDyKxVUN1",
        "outputId": "031a9ac9-c536-4e7c-ce08-9029e31ec1ba"
      },
      "execution_count": 10,
      "outputs": [
        {
          "output_type": "stream",
          "name": "stdout",
          "text": [
            "Energy: -16.655990977510008 eV\n"
          ]
        }
      ]
    },
    {
      "cell_type": "code",
      "source": [
        "import numpy as np\n",
        "from ase.eos import calculate_eos\n",
        "dx=np.arange(-0.05, 0.05, 0.01)\n",
        "eos = calculate_eos(ase_atoms)\n",
        "v, e, B = eos.fit()\n"
      ],
      "metadata": {
        "id": "mK3UCNpiVULV"
      },
      "execution_count": null,
      "outputs": []
    },
    {
      "cell_type": "code",
      "source": [
        "from ase.units import kJ\n",
        "kv = B / kJ * 1.0e24\n",
        "kv"
      ],
      "metadata": {
        "colab": {
          "base_uri": "https://localhost:8080/"
        },
        "id": "qYu0Lh7LVUI0",
        "outputId": "f34c8e9a-789a-4dfa-9cb1-75d10c8e9b7d"
      },
      "execution_count": null,
      "outputs": [
        {
          "output_type": "execute_result",
          "data": {
            "text/plain": [
              "83.74848683247903"
            ]
          },
          "metadata": {},
          "execution_count": 29
        }
      ]
    },
    {
      "cell_type": "markdown",
      "source": [
        "A quick calculation of Al(111)-Al2O3(001) interface energy"
      ],
      "metadata": {
        "id": "qAkQgidBfHc0"
      }
    },
    {
      "cell_type": "code",
      "source": [
        "import os\n",
        "import numpy as np\n",
        "from jarvis.analysis.interface.zur import make_interface\n",
        "from jarvis.analysis.defects.surface import Surface\n",
        "from gpaw import GPAW, PW\n",
        "\n",
        "def jarvis_atoms_to_energy(atoms=None,kp=[2,2,1],xc='PBE',ecut=300):\n",
        "       name='jarvis_db_gpaw'\n",
        "       calc = GPAW(mode=PW(ecut),       # cutoff\n",
        "            kpts=kp,     # k-points\n",
        "            txt=name + '.txt')\n",
        "       ase_atoms=atoms.ase_converter()\n",
        "       ase_atoms.calc=calc\n",
        "       atoms_en = ase_atoms.get_potential_energy()\n",
        "       return atoms_en\n",
        "\n",
        "def get_interface_energy(\n",
        "    film_atoms=None,\n",
        "    subs_atoms=None,\n",
        "    film_index=[1, 1, 1],\n",
        "    subs_index=[0, 0, 1],\n",
        "    film_thickness=25,\n",
        "    subs_thickness=25,\n",
        "    model_path=\"\",\n",
        "    seperation=3.0,\n",
        "    vacuum=8.0,\n",
        "    max_area_ratio_tol=1.00,\n",
        "    max_area=500,\n",
        "    ltol=0.05,\n",
        "    atol=1,\n",
        "    apply_strain=False,\n",
        "    from_conventional_structure=True,\n",
        "):\n",
        "    film_surf = Surface(\n",
        "        film_atoms,\n",
        "        indices=film_index,\n",
        "        from_conventional_structure=from_conventional_structure,\n",
        "        thickness=film_thickness,\n",
        "        vacuum=vacuum,\n",
        "    ).make_surface()\n",
        "    subs_surf = Surface(\n",
        "        subs_atoms,\n",
        "        indices=subs_index,\n",
        "        from_conventional_structure=from_conventional_structure,\n",
        "        thickness=subs_thickness,\n",
        "        vacuum=vacuum,\n",
        "    ).make_surface()\n",
        "    het = make_interface(\n",
        "        film=film_surf,\n",
        "        subs=subs_surf,\n",
        "        seperation=seperation,\n",
        "        vacuum=vacuum,\n",
        "        max_area_ratio_tol=max_area_ratio_tol,\n",
        "        max_area=max_area,\n",
        "        ltol=ltol,\n",
        "        atol=atol,\n",
        "        apply_strain=apply_strain,\n",
        "    )\n",
        "    film_en = jarvis_atoms_to_energy(het[\"film_sl\"])\n",
        "    print('film_en', film_en)\n",
        "    subs_en = jarvis_atoms_to_energy(het[\"subs_sl\"])\n",
        "    print ('subs_en', subs_en)\n",
        "    intf_en = jarvis_atoms_to_energy(het[\"interface\"])\n",
        "    print('intf_en', intf_en)\n",
        "\n",
        "    m = het[\"interface\"].lattice.matrix\n",
        "    area = np.linalg.norm(np.cross(m[0], m[1]))\n",
        "    intf_energy = 16 * (intf_en - subs_en - film_en) / (area)  # J/m2\n",
        "    het[\"interface_energy\"] = intf_energy\n",
        "    return het\n",
        "\n",
        "\n"
      ],
      "metadata": {
        "id": "JgKrU6CjNNMf"
      },
      "execution_count": null,
      "outputs": []
    },
    {
      "cell_type": "markdown",
      "source": [
        "It might take more than a hour"
      ],
      "metadata": {
        "id": "-WUGVTLAucwT"
      }
    },
    {
      "cell_type": "code",
      "source": [
        "from jarvis.db.figshare import get_jid_data\n",
        "from jarvis.core.atoms import Atoms\n",
        "atoms_al = Atoms.from_dict(\n",
        "    get_jid_data(dataset=\"dft_3d\", jid=\"JVASP-816\")[\"atoms\"]\n",
        ")\n",
        "atoms_al2o3 = Atoms.from_dict(\n",
        "    get_jid_data(dataset=\"dft_3d\", jid=\"JVASP-32\")[\"atoms\"]\n",
        ")\n",
        "intf = get_interface_energy(\n",
        "    film_atoms=atoms_al, subs_atoms=atoms_al2o3, film_thickness=10, subs_thickness=10\n",
        ")\n",
        "print(intf[\"interface_energy\"] )\n"
      ],
      "metadata": {
        "colab": {
          "base_uri": "https://localhost:8080/"
        },
        "id": "KuBfFS4vcnmC",
        "outputId": "9b3d8d6f-bc60-485f-f130-4d25a1173dcd"
      },
      "execution_count": null,
      "outputs": [
        {
          "output_type": "stream",
          "name": "stdout",
          "text": [
            "Obtaining 3D dataset 55k ...\n",
            "Reference:https://www.nature.com/articles/s41524-020-00440-1\n",
            "Loading the zipfile...\n",
            "Loading completed.\n",
            "Obtaining 3D dataset 55k ...\n",
            "Reference:https://www.nature.com/articles/s41524-020-00440-1\n",
            "Loading the zipfile...\n",
            "Loading completed.\n",
            "mismatch_u,mismatch_v 0.03706886202229698 0.03706805926123646\n"
          ]
        },
        {
          "output_type": "stream",
          "name": "stderr",
          "text": [
            "/usr/local/lib/python3.7/site-packages/jarvis/core/atoms.py:1596: RuntimeWarning: divide by zero encountered in double_scalars\n",
            "  ) / bottom.lattice_mat[1][1]\n"
          ]
        },
        {
          "output_type": "stream",
          "name": "stdout",
          "text": [
            "film_en -140.35238830139863\n",
            "subs_en -440.90161284833647\n",
            "intf_en -587.6015482599141\n",
            "-1.2706412219766434\n"
          ]
        }
      ]
    },
    {
      "cell_type": "code",
      "source": [],
      "metadata": {
        "id": "7ZsMh8aVfFdP"
      },
      "execution_count": null,
      "outputs": []
    }
  ]
}