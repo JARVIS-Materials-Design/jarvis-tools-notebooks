{
  "nbformat": 4,
  "nbformat_minor": 0,
  "metadata": {
    "colab": {
      "name": "GPAW-Colab.ipynb",
      "provenance": [],
      "authorship_tag": "ABX9TyPkhoR1UpFclFyHnTyv/b9B",
      "include_colab_link": true
    },
    "kernelspec": {
      "name": "python3",
      "display_name": "Python 3"
    },
    "language_info": {
      "name": "python"
    }
  },
  "cells": [
    {
      "cell_type": "markdown",
      "metadata": {
        "id": "view-in-github",
        "colab_type": "text"
      },
      "source": [
        "<a href=\"https://colab.research.google.com/github/knc6/jarvis-tools-notebooks/blob/master/jarvis-tools-notebooks/GPAW_Colab.ipynb\" target=\"_parent\"><img src=\"https://colab.research.google.com/assets/colab-badge.svg\" alt=\"Open In Colab\"/></a>"
      ]
    },
    {
      "cell_type": "markdown",
      "source": [
        "## Table of Contents\n",
        "\n",
        "1. Install GPAW and JARVIS-Tools\n",
        "2. Aluminum crystal structure, property calculations and visualizations\n",
        "3. Silicon bandstructure\n",
        "4. Example JARVIS-Leaderboard contribution\n",
        "5. Interface energy calculation\n",
        "Author: Kamal Choudhary (kamal.choudhary@nist.gov)\n"
      ],
      "metadata": {
        "id": "FHkc191CvMJm"
      }
    },
    {
      "cell_type": "markdown",
      "source": [
        "# 1. Installation"
      ],
      "metadata": {
        "id": "qiochdFxNbpL"
      }
    },
    {
      "cell_type": "code",
      "source": [
        "!apt install python3-mpi4py cython3 libxc-dev gpaw-data\n",
        "!pip -q install gpaw jarvis-tools"
      ],
      "metadata": {
        "colab": {
          "base_uri": "https://localhost:8080/"
        },
        "id": "Hk_GsDWcpMkO",
        "outputId": "6aaa2228-4865-4d4f-d2fe-ba266fa3db2c"
      },
      "execution_count": 1,
      "outputs": [
        {
          "output_type": "stream",
          "name": "stdout",
          "text": [
            "Reading package lists... Done\n",
            "Building dependency tree... Done\n",
            "Reading state information... Done\n",
            "The following additional packages will be installed:\n",
            "  libxc9\n",
            "Suggested packages:\n",
            "  cython-doc python3-numpy\n",
            "The following NEW packages will be installed:\n",
            "  cython3 gpaw-data libxc-dev libxc9 python3-mpi4py\n",
            "0 upgraded, 5 newly installed, 0 to remove and 45 not upgraded.\n",
            "Need to get 66.5 MB of archives.\n",
            "After this operation, 102 MB of additional disk space will be used.\n",
            "Get:1 http://archive.ubuntu.com/ubuntu jammy/universe amd64 cython3 amd64 0.29.28-1ubuntu3 [1,336 kB]\n",
            "Get:2 http://archive.ubuntu.com/ubuntu jammy/universe amd64 gpaw-data all 0.9.20000-2 [52.7 MB]\n",
            "Get:3 http://archive.ubuntu.com/ubuntu jammy/universe amd64 libxc9 amd64 5.1.7-1ubuntu1 [3,900 kB]\n",
            "Get:4 http://archive.ubuntu.com/ubuntu jammy/universe amd64 libxc-dev amd64 5.1.7-1ubuntu1 [8,038 kB]\n",
            "Get:5 http://archive.ubuntu.com/ubuntu jammy/universe amd64 python3-mpi4py amd64 3.1.3-1build2 [465 kB]\n",
            "Fetched 66.5 MB in 3s (22.0 MB/s)\n",
            "Selecting previously unselected package cython3.\n",
            "(Reading database ... 121918 files and directories currently installed.)\n",
            "Preparing to unpack .../cython3_0.29.28-1ubuntu3_amd64.deb ...\n",
            "Unpacking cython3 (0.29.28-1ubuntu3) ...\n",
            "Selecting previously unselected package gpaw-data.\n",
            "Preparing to unpack .../gpaw-data_0.9.20000-2_all.deb ...\n",
            "Unpacking gpaw-data (0.9.20000-2) ...\n",
            "Selecting previously unselected package libxc9:amd64.\n",
            "Preparing to unpack .../libxc9_5.1.7-1ubuntu1_amd64.deb ...\n",
            "Unpacking libxc9:amd64 (5.1.7-1ubuntu1) ...\n",
            "Selecting previously unselected package libxc-dev.\n",
            "Preparing to unpack .../libxc-dev_5.1.7-1ubuntu1_amd64.deb ...\n",
            "Unpacking libxc-dev (5.1.7-1ubuntu1) ...\n",
            "Selecting previously unselected package python3-mpi4py.\n",
            "Preparing to unpack .../python3-mpi4py_3.1.3-1build2_amd64.deb ...\n",
            "Unpacking python3-mpi4py (3.1.3-1build2) ...\n",
            "Setting up python3-mpi4py (3.1.3-1build2) ...\n",
            "Setting up gpaw-data (0.9.20000-2) ...\n",
            "Setting up cython3 (0.29.28-1ubuntu3) ...\n",
            "Setting up libxc9:amd64 (5.1.7-1ubuntu1) ...\n",
            "Setting up libxc-dev (5.1.7-1ubuntu1) ...\n",
            "Processing triggers for libc-bin (2.35-0ubuntu3.4) ...\n",
            "/sbin/ldconfig.real: /usr/local/lib/libtbbbind_2_5.so.3 is not a symbolic link\n",
            "\n",
            "/sbin/ldconfig.real: /usr/local/lib/libtbb.so.12 is not a symbolic link\n",
            "\n",
            "/sbin/ldconfig.real: /usr/local/lib/libtbbmalloc.so.2 is not a symbolic link\n",
            "\n",
            "/sbin/ldconfig.real: /usr/local/lib/libtbbbind.so.3 is not a symbolic link\n",
            "\n",
            "/sbin/ldconfig.real: /usr/local/lib/libtbbmalloc_proxy.so.2 is not a symbolic link\n",
            "\n",
            "/sbin/ldconfig.real: /usr/local/lib/libtbbbind_2_0.so.3 is not a symbolic link\n",
            "\n",
            "\u001b[2K     \u001b[90m━━━━━━━━━━━━━━━━━━━━━━━━━━━━━━━━━━━━━━━━\u001b[0m \u001b[32m2.0/2.0 MB\u001b[0m \u001b[31m13.7 MB/s\u001b[0m eta \u001b[36m0:00:00\u001b[0m\n",
            "\u001b[?25h  Preparing metadata (setup.py) ... \u001b[?25l\u001b[?25hdone\n",
            "\u001b[2K     \u001b[90m━━━━━━━━━━━━━━━━━━━━━━━━━━━━━━━━━━━━━━━━\u001b[0m \u001b[32m4.2/4.2 MB\u001b[0m \u001b[31m28.5 MB/s\u001b[0m eta \u001b[36m0:00:00\u001b[0m\n",
            "\u001b[2K     \u001b[90m━━━━━━━━━━━━━━━━━━━━━━━━━━━━━━━━━━━━━━━━\u001b[0m \u001b[32m2.2/2.2 MB\u001b[0m \u001b[31m40.4 MB/s\u001b[0m eta \u001b[36m0:00:00\u001b[0m\n",
            "\u001b[2K     \u001b[90m━━━━━━━━━━━━━━━━━━━━━━━━━━━━━━━━━━━━━━━━\u001b[0m \u001b[32m809.2/809.2 kB\u001b[0m \u001b[31m39.0 MB/s\u001b[0m eta \u001b[36m0:00:00\u001b[0m\n",
            "\u001b[?25h  Building wheel for gpaw (setup.py) ... \u001b[?25l\u001b[?25hdone\n"
          ]
        }
      ]
    },
    {
      "cell_type": "code",
      "source": [
        "!gpaw test"
      ],
      "metadata": {
        "colab": {
          "base_uri": "https://localhost:8080/"
        },
        "id": "oUJ_xBy6M0B0",
        "outputId": "8c9c7b3f-d220-4dce-c450-d5306dd96694"
      },
      "execution_count": 2,
      "outputs": [
        {
          "output_type": "stream",
          "name": "stdout",
          "text": [
            " -------------------------------------------------------------------------------------------------\n",
            "| python-3.10.12    /usr/bin/python3                                                              |\n",
            "| gpaw-24.1.0       /usr/local/lib/python3.10/dist-packages/gpaw/                                 |\n",
            "| ase-3.22.1        /usr/local/lib/python3.10/dist-packages/ase/                                  |\n",
            "| numpy-1.25.2      /usr/local/lib/python3.10/dist-packages/numpy/                                |\n",
            "| scipy-1.11.4      /usr/local/lib/python3.10/dist-packages/scipy/                                |\n",
            "| libxc-5.1.7       yes                                                                           |\n",
            "| _gpaw             /usr/local/lib/python3.10/dist-packages/_gpaw.cpython-310-x86_64-linux-gnu.so |\n",
            "| MPI enabled       yes                                                                           |\n",
            "| OpenMP enabled    no                                                                            |\n",
            "| GPU enabled       no                                                                            |\n",
            "| GPU-aware MPI     no                                                                            |\n",
            "| CUPY              /usr/local/lib/python3.10/dist-packages/gpaw/gpu/cpupy/__init__.py            |\n",
            "| scalapack         no                                                                            |\n",
            "| Elpa              no                                                                            |\n",
            "| FFTW              no                                                                            |\n",
            "| libvdwxc          no                                                                            |\n",
            "| PAW-datasets (1)  /usr/local/share/gpaw-setups                                                  |\n",
            "| PAW-datasets (2)  /usr/share/gpaw-setups                                                        |\n",
            " -------------------------------------------------------------------------------------------------\n",
            "Doing a test calculation (cores: 1): ... Done\n",
            "\n",
            "Test parallel calculation with \"gpaw -P 4 test\".\n"
          ]
        }
      ]
    },
    {
      "cell_type": "code",
      "source": [
        "!gpaw info"
      ],
      "metadata": {
        "colab": {
          "base_uri": "https://localhost:8080/"
        },
        "id": "USX6nHMXMcqJ",
        "outputId": "1cc039b0-7269-4543-dfa7-0acb35ce5b0c"
      },
      "execution_count": 3,
      "outputs": [
        {
          "output_type": "stream",
          "name": "stdout",
          "text": [
            " -------------------------------------------------------------------------------------------------\n",
            "| python-3.10.12    /usr/bin/python3                                                              |\n",
            "| gpaw-24.1.0       /usr/local/lib/python3.10/dist-packages/gpaw/                                 |\n",
            "| ase-3.22.1        /usr/local/lib/python3.10/dist-packages/ase/                                  |\n",
            "| numpy-1.25.2      /usr/local/lib/python3.10/dist-packages/numpy/                                |\n",
            "| scipy-1.11.4      /usr/local/lib/python3.10/dist-packages/scipy/                                |\n",
            "| libxc-5.1.7       yes                                                                           |\n",
            "| _gpaw             /usr/local/lib/python3.10/dist-packages/_gpaw.cpython-310-x86_64-linux-gnu.so |\n",
            "| MPI enabled       yes                                                                           |\n",
            "| OpenMP enabled    no                                                                            |\n",
            "| GPU enabled       no                                                                            |\n",
            "| GPU-aware MPI     no                                                                            |\n",
            "| CUPY              /usr/local/lib/python3.10/dist-packages/gpaw/gpu/cpupy/__init__.py            |\n",
            "| scalapack         no                                                                            |\n",
            "| Elpa              no                                                                            |\n",
            "| FFTW              no                                                                            |\n",
            "| libvdwxc          no                                                                            |\n",
            "| PAW-datasets (1)  /usr/local/share/gpaw-setups                                                  |\n",
            "| PAW-datasets (2)  /usr/share/gpaw-setups                                                        |\n",
            " -------------------------------------------------------------------------------------------------\n"
          ]
        }
      ]
    },
    {
      "cell_type": "markdown",
      "source": [
        "# 2. FCC Aluminum"
      ],
      "metadata": {
        "id": "L0BdLsSDqg23"
      }
    },
    {
      "cell_type": "markdown",
      "source": [
        "There are several ways to represent atomic structures such as CIF, XYZ, PDB, POSCAR formats etc. Usually, they have lattice matrix, chemical element and their crystallographic 3D coordinates information. Here we will use the POSCAR format."
      ],
      "metadata": {
        "id": "vYWzWBYPnxg7"
      }
    },
    {
      "cell_type": "code",
      "source": [
        "poscar = \"\"\"MySystem\n",
        "1.0\n",
        "0.0 2.025 2.025\n",
        "2.025 0.0 2.025\n",
        "2.025 2.025 0.0\n",
        "Al\n",
        "1\n",
        "direct\n",
        "0.0 0.0 0.0 Al\n",
        "\"\"\"\n",
        "# Note difference between unit cell and conventional cell"
      ],
      "metadata": {
        "id": "uUguaAgUn8f7"
      },
      "execution_count": 5,
      "outputs": []
    },
    {
      "cell_type": "code",
      "source": [
        "from jarvis.io.vasp.inputs import Poscar\n",
        "atoms = Poscar.from_string(poscar).atoms #Poscar.from_file('POSCAR')\n"
      ],
      "metadata": {
        "id": "dLGkDSLAoJTz"
      },
      "execution_count": 7,
      "outputs": []
    },
    {
      "cell_type": "markdown",
      "source": [
        "These atomic structures could be in primitive (least number of atoms), or conventionals (usually more number of atoms) forms, e.g. 1 vs 4 below. Lesser number of atoms reduces computational cost."
      ],
      "metadata": {
        "id": "swZ5bMF_A96J"
      }
    },
    {
      "cell_type": "code",
      "source": [
        "atoms.get_primitive_atoms"
      ],
      "metadata": {
        "id": "fVcW3eU1BRqx",
        "outputId": "2b6f3142-1dd0-4266-d2fe-0c56bc318fb8",
        "colab": {
          "base_uri": "https://localhost:8080/"
        }
      },
      "execution_count": 11,
      "outputs": [
        {
          "output_type": "execute_result",
          "data": {
            "text/plain": [
              "System\n",
              "1.0\n",
              "0.0 2.025 2.025\n",
              "2.025 0.0 2.025\n",
              "2.025 2.025 0.0\n",
              "Al \n",
              "1 \n",
              "direct\n",
              "0.0 0.0 0.0 Al"
            ]
          },
          "metadata": {},
          "execution_count": 11
        }
      ]
    },
    {
      "cell_type": "code",
      "source": [
        "atoms.get_conventional_atoms"
      ],
      "metadata": {
        "id": "KGd7L-pjA9aw",
        "outputId": "1feaac86-a192-41f0-b81c-6712917d8357",
        "colab": {
          "base_uri": "https://localhost:8080/"
        }
      },
      "execution_count": 10,
      "outputs": [
        {
          "output_type": "execute_result",
          "data": {
            "text/plain": [
              "System\n",
              "1.0\n",
              "4.05 0.0 0.0\n",
              "0.0 4.05 0.0\n",
              "0.0 0.0 4.05\n",
              "Al \n",
              "4 \n",
              "direct\n",
              "0.0 0.0 0.0 Al\n",
              "0.0 0.5 0.5 Al\n",
              "0.5 0.0 0.5 Al\n",
              "0.5 0.5 0.0 Al"
            ]
          },
          "metadata": {},
          "execution_count": 10
        }
      ]
    },
    {
      "cell_type": "code",
      "source": [
        "aluminum=atoms.ase_converter()"
      ],
      "metadata": {
        "id": "51flI6I1AzW_"
      },
      "execution_count": 12,
      "outputs": []
    },
    {
      "cell_type": "code",
      "source": [
        "from ase.visualize import view\n",
        "view(atoms.make_supercell_matrix([3,3,3]).ase_converter(),viewer='x3d')"
      ],
      "metadata": {
        "id": "vukVBbiS9uHG",
        "outputId": "0da79395-9683-493e-d666-4c63721726d0",
        "colab": {
          "base_uri": "https://localhost:8080/",
          "height": 616
        }
      },
      "execution_count": 15,
      "outputs": [
        {
          "output_type": "execute_result",
          "data": {
            "text/plain": [
              "<IPython.core.display.HTML object>"
            ],
            "text/html": [
              "<html>\n",
              "\n",
              " <head>\n",
              "\n",
              "  <title>ASE atomic visualization</title>\n",
              "\n",
              "  <link rel=\"stylesheet\" type=\"text/css\"\n",
              "\n",
              "   href=\"https://www.x3dom.org/x3dom/release/x3dom.css\">\n",
              "\n",
              "  </link>\n",
              "\n",
              "  <script type=\"text/javascript\"\n",
              "\n",
              "   src=\"https://www.x3dom.org/x3dom/release/x3dom.js\">\n",
              "\n",
              "  </script>\n",
              "\n",
              " </head>\n",
              "\n",
              " <body>\n",
              "\n",
              "  <X3D>\n",
              "\n",
              "   <Scene>\n",
              "\n",
              "    <Transform translation=\"0.00 0.00 0.00\">\n",
              "\n",
              "     <Shape>\n",
              "\n",
              "      <Appearance>\n",
              "\n",
              "       <Material diffuseColor=\"0.749 0.651 0.651\" specularColor=\"0.5 0.5 0.5\">\n",
              "\n",
              "       </Material>\n",
              "\n",
              "      </Appearance>\n",
              "\n",
              "      <Sphere radius=\"1.21\">\n",
              "\n",
              "      </Sphere>\n",
              "\n",
              "     </Shape>\n",
              "\n",
              "    </Transform>\n",
              "\n",
              "    <Transform translation=\"2.02 2.02 0.00\">\n",
              "\n",
              "     <Shape>\n",
              "\n",
              "      <Appearance>\n",
              "\n",
              "       <Material diffuseColor=\"0.749 0.651 0.651\" specularColor=\"0.5 0.5 0.5\">\n",
              "\n",
              "       </Material>\n",
              "\n",
              "      </Appearance>\n",
              "\n",
              "      <Sphere radius=\"1.21\">\n",
              "\n",
              "      </Sphere>\n",
              "\n",
              "     </Shape>\n",
              "\n",
              "    </Transform>\n",
              "\n",
              "    <Transform translation=\"4.05 4.05 0.00\">\n",
              "\n",
              "     <Shape>\n",
              "\n",
              "      <Appearance>\n",
              "\n",
              "       <Material diffuseColor=\"0.749 0.651 0.651\" specularColor=\"0.5 0.5 0.5\">\n",
              "\n",
              "       </Material>\n",
              "\n",
              "      </Appearance>\n",
              "\n",
              "      <Sphere radius=\"1.21\">\n",
              "\n",
              "      </Sphere>\n",
              "\n",
              "     </Shape>\n",
              "\n",
              "    </Transform>\n",
              "\n",
              "    <Transform translation=\"2.02 0.00 2.02\">\n",
              "\n",
              "     <Shape>\n",
              "\n",
              "      <Appearance>\n",
              "\n",
              "       <Material diffuseColor=\"0.749 0.651 0.651\" specularColor=\"0.5 0.5 0.5\">\n",
              "\n",
              "       </Material>\n",
              "\n",
              "      </Appearance>\n",
              "\n",
              "      <Sphere radius=\"1.21\">\n",
              "\n",
              "      </Sphere>\n",
              "\n",
              "     </Shape>\n",
              "\n",
              "    </Transform>\n",
              "\n",
              "    <Transform translation=\"4.05 2.02 2.02\">\n",
              "\n",
              "     <Shape>\n",
              "\n",
              "      <Appearance>\n",
              "\n",
              "       <Material diffuseColor=\"0.749 0.651 0.651\" specularColor=\"0.5 0.5 0.5\">\n",
              "\n",
              "       </Material>\n",
              "\n",
              "      </Appearance>\n",
              "\n",
              "      <Sphere radius=\"1.21\">\n",
              "\n",
              "      </Sphere>\n",
              "\n",
              "     </Shape>\n",
              "\n",
              "    </Transform>\n",
              "\n",
              "    <Transform translation=\"6.08 4.05 2.02\">\n",
              "\n",
              "     <Shape>\n",
              "\n",
              "      <Appearance>\n",
              "\n",
              "       <Material diffuseColor=\"0.749 0.651 0.651\" specularColor=\"0.5 0.5 0.5\">\n",
              "\n",
              "       </Material>\n",
              "\n",
              "      </Appearance>\n",
              "\n",
              "      <Sphere radius=\"1.21\">\n",
              "\n",
              "      </Sphere>\n",
              "\n",
              "     </Shape>\n",
              "\n",
              "    </Transform>\n",
              "\n",
              "    <Transform translation=\"4.05 0.00 4.05\">\n",
              "\n",
              "     <Shape>\n",
              "\n",
              "      <Appearance>\n",
              "\n",
              "       <Material diffuseColor=\"0.749 0.651 0.651\" specularColor=\"0.5 0.5 0.5\">\n",
              "\n",
              "       </Material>\n",
              "\n",
              "      </Appearance>\n",
              "\n",
              "      <Sphere radius=\"1.21\">\n",
              "\n",
              "      </Sphere>\n",
              "\n",
              "     </Shape>\n",
              "\n",
              "    </Transform>\n",
              "\n",
              "    <Transform translation=\"6.08 2.02 4.05\">\n",
              "\n",
              "     <Shape>\n",
              "\n",
              "      <Appearance>\n",
              "\n",
              "       <Material diffuseColor=\"0.749 0.651 0.651\" specularColor=\"0.5 0.5 0.5\">\n",
              "\n",
              "       </Material>\n",
              "\n",
              "      </Appearance>\n",
              "\n",
              "      <Sphere radius=\"1.21\">\n",
              "\n",
              "      </Sphere>\n",
              "\n",
              "     </Shape>\n",
              "\n",
              "    </Transform>\n",
              "\n",
              "    <Transform translation=\"8.10 4.05 4.05\">\n",
              "\n",
              "     <Shape>\n",
              "\n",
              "      <Appearance>\n",
              "\n",
              "       <Material diffuseColor=\"0.749 0.651 0.651\" specularColor=\"0.5 0.5 0.5\">\n",
              "\n",
              "       </Material>\n",
              "\n",
              "      </Appearance>\n",
              "\n",
              "      <Sphere radius=\"1.21\">\n",
              "\n",
              "      </Sphere>\n",
              "\n",
              "     </Shape>\n",
              "\n",
              "    </Transform>\n",
              "\n",
              "    <Transform translation=\"0.00 2.02 2.02\">\n",
              "\n",
              "     <Shape>\n",
              "\n",
              "      <Appearance>\n",
              "\n",
              "       <Material diffuseColor=\"0.749 0.651 0.651\" specularColor=\"0.5 0.5 0.5\">\n",
              "\n",
              "       </Material>\n",
              "\n",
              "      </Appearance>\n",
              "\n",
              "      <Sphere radius=\"1.21\">\n",
              "\n",
              "      </Sphere>\n",
              "\n",
              "     </Shape>\n",
              "\n",
              "    </Transform>\n",
              "\n",
              "    <Transform translation=\"2.02 4.05 2.02\">\n",
              "\n",
              "     <Shape>\n",
              "\n",
              "      <Appearance>\n",
              "\n",
              "       <Material diffuseColor=\"0.749 0.651 0.651\" specularColor=\"0.5 0.5 0.5\">\n",
              "\n",
              "       </Material>\n",
              "\n",
              "      </Appearance>\n",
              "\n",
              "      <Sphere radius=\"1.21\">\n",
              "\n",
              "      </Sphere>\n",
              "\n",
              "     </Shape>\n",
              "\n",
              "    </Transform>\n",
              "\n",
              "    <Transform translation=\"4.05 6.08 2.02\">\n",
              "\n",
              "     <Shape>\n",
              "\n",
              "      <Appearance>\n",
              "\n",
              "       <Material diffuseColor=\"0.749 0.651 0.651\" specularColor=\"0.5 0.5 0.5\">\n",
              "\n",
              "       </Material>\n",
              "\n",
              "      </Appearance>\n",
              "\n",
              "      <Sphere radius=\"1.21\">\n",
              "\n",
              "      </Sphere>\n",
              "\n",
              "     </Shape>\n",
              "\n",
              "    </Transform>\n",
              "\n",
              "    <Transform translation=\"2.02 2.02 4.05\">\n",
              "\n",
              "     <Shape>\n",
              "\n",
              "      <Appearance>\n",
              "\n",
              "       <Material diffuseColor=\"0.749 0.651 0.651\" specularColor=\"0.5 0.5 0.5\">\n",
              "\n",
              "       </Material>\n",
              "\n",
              "      </Appearance>\n",
              "\n",
              "      <Sphere radius=\"1.21\">\n",
              "\n",
              "      </Sphere>\n",
              "\n",
              "     </Shape>\n",
              "\n",
              "    </Transform>\n",
              "\n",
              "    <Transform translation=\"4.05 4.05 4.05\">\n",
              "\n",
              "     <Shape>\n",
              "\n",
              "      <Appearance>\n",
              "\n",
              "       <Material diffuseColor=\"0.749 0.651 0.651\" specularColor=\"0.5 0.5 0.5\">\n",
              "\n",
              "       </Material>\n",
              "\n",
              "      </Appearance>\n",
              "\n",
              "      <Sphere radius=\"1.21\">\n",
              "\n",
              "      </Sphere>\n",
              "\n",
              "     </Shape>\n",
              "\n",
              "    </Transform>\n",
              "\n",
              "    <Transform translation=\"6.08 6.08 4.05\">\n",
              "\n",
              "     <Shape>\n",
              "\n",
              "      <Appearance>\n",
              "\n",
              "       <Material diffuseColor=\"0.749 0.651 0.651\" specularColor=\"0.5 0.5 0.5\">\n",
              "\n",
              "       </Material>\n",
              "\n",
              "      </Appearance>\n",
              "\n",
              "      <Sphere radius=\"1.21\">\n",
              "\n",
              "      </Sphere>\n",
              "\n",
              "     </Shape>\n",
              "\n",
              "    </Transform>\n",
              "\n",
              "    <Transform translation=\"4.05 2.02 6.08\">\n",
              "\n",
              "     <Shape>\n",
              "\n",
              "      <Appearance>\n",
              "\n",
              "       <Material diffuseColor=\"0.749 0.651 0.651\" specularColor=\"0.5 0.5 0.5\">\n",
              "\n",
              "       </Material>\n",
              "\n",
              "      </Appearance>\n",
              "\n",
              "      <Sphere radius=\"1.21\">\n",
              "\n",
              "      </Sphere>\n",
              "\n",
              "     </Shape>\n",
              "\n",
              "    </Transform>\n",
              "\n",
              "    <Transform translation=\"6.08 4.05 6.08\">\n",
              "\n",
              "     <Shape>\n",
              "\n",
              "      <Appearance>\n",
              "\n",
              "       <Material diffuseColor=\"0.749 0.651 0.651\" specularColor=\"0.5 0.5 0.5\">\n",
              "\n",
              "       </Material>\n",
              "\n",
              "      </Appearance>\n",
              "\n",
              "      <Sphere radius=\"1.21\">\n",
              "\n",
              "      </Sphere>\n",
              "\n",
              "     </Shape>\n",
              "\n",
              "    </Transform>\n",
              "\n",
              "    <Transform translation=\"8.10 6.08 6.08\">\n",
              "\n",
              "     <Shape>\n",
              "\n",
              "      <Appearance>\n",
              "\n",
              "       <Material diffuseColor=\"0.749 0.651 0.651\" specularColor=\"0.5 0.5 0.5\">\n",
              "\n",
              "       </Material>\n",
              "\n",
              "      </Appearance>\n",
              "\n",
              "      <Sphere radius=\"1.21\">\n",
              "\n",
              "      </Sphere>\n",
              "\n",
              "     </Shape>\n",
              "\n",
              "    </Transform>\n",
              "\n",
              "    <Transform translation=\"0.00 4.05 4.05\">\n",
              "\n",
              "     <Shape>\n",
              "\n",
              "      <Appearance>\n",
              "\n",
              "       <Material diffuseColor=\"0.749 0.651 0.651\" specularColor=\"0.5 0.5 0.5\">\n",
              "\n",
              "       </Material>\n",
              "\n",
              "      </Appearance>\n",
              "\n",
              "      <Sphere radius=\"1.21\">\n",
              "\n",
              "      </Sphere>\n",
              "\n",
              "     </Shape>\n",
              "\n",
              "    </Transform>\n",
              "\n",
              "    <Transform translation=\"2.02 6.08 4.05\">\n",
              "\n",
              "     <Shape>\n",
              "\n",
              "      <Appearance>\n",
              "\n",
              "       <Material diffuseColor=\"0.749 0.651 0.651\" specularColor=\"0.5 0.5 0.5\">\n",
              "\n",
              "       </Material>\n",
              "\n",
              "      </Appearance>\n",
              "\n",
              "      <Sphere radius=\"1.21\">\n",
              "\n",
              "      </Sphere>\n",
              "\n",
              "     </Shape>\n",
              "\n",
              "    </Transform>\n",
              "\n",
              "    <Transform translation=\"4.05 8.10 4.05\">\n",
              "\n",
              "     <Shape>\n",
              "\n",
              "      <Appearance>\n",
              "\n",
              "       <Material diffuseColor=\"0.749 0.651 0.651\" specularColor=\"0.5 0.5 0.5\">\n",
              "\n",
              "       </Material>\n",
              "\n",
              "      </Appearance>\n",
              "\n",
              "      <Sphere radius=\"1.21\">\n",
              "\n",
              "      </Sphere>\n",
              "\n",
              "     </Shape>\n",
              "\n",
              "    </Transform>\n",
              "\n",
              "    <Transform translation=\"2.02 4.05 6.08\">\n",
              "\n",
              "     <Shape>\n",
              "\n",
              "      <Appearance>\n",
              "\n",
              "       <Material diffuseColor=\"0.749 0.651 0.651\" specularColor=\"0.5 0.5 0.5\">\n",
              "\n",
              "       </Material>\n",
              "\n",
              "      </Appearance>\n",
              "\n",
              "      <Sphere radius=\"1.21\">\n",
              "\n",
              "      </Sphere>\n",
              "\n",
              "     </Shape>\n",
              "\n",
              "    </Transform>\n",
              "\n",
              "    <Transform translation=\"4.05 6.08 6.08\">\n",
              "\n",
              "     <Shape>\n",
              "\n",
              "      <Appearance>\n",
              "\n",
              "       <Material diffuseColor=\"0.749 0.651 0.651\" specularColor=\"0.5 0.5 0.5\">\n",
              "\n",
              "       </Material>\n",
              "\n",
              "      </Appearance>\n",
              "\n",
              "      <Sphere radius=\"1.21\">\n",
              "\n",
              "      </Sphere>\n",
              "\n",
              "     </Shape>\n",
              "\n",
              "    </Transform>\n",
              "\n",
              "    <Transform translation=\"6.08 8.10 6.08\">\n",
              "\n",
              "     <Shape>\n",
              "\n",
              "      <Appearance>\n",
              "\n",
              "       <Material diffuseColor=\"0.749 0.651 0.651\" specularColor=\"0.5 0.5 0.5\">\n",
              "\n",
              "       </Material>\n",
              "\n",
              "      </Appearance>\n",
              "\n",
              "      <Sphere radius=\"1.21\">\n",
              "\n",
              "      </Sphere>\n",
              "\n",
              "     </Shape>\n",
              "\n",
              "    </Transform>\n",
              "\n",
              "    <Transform translation=\"4.05 4.05 8.10\">\n",
              "\n",
              "     <Shape>\n",
              "\n",
              "      <Appearance>\n",
              "\n",
              "       <Material diffuseColor=\"0.749 0.651 0.651\" specularColor=\"0.5 0.5 0.5\">\n",
              "\n",
              "       </Material>\n",
              "\n",
              "      </Appearance>\n",
              "\n",
              "      <Sphere radius=\"1.21\">\n",
              "\n",
              "      </Sphere>\n",
              "\n",
              "     </Shape>\n",
              "\n",
              "    </Transform>\n",
              "\n",
              "    <Transform translation=\"6.08 6.08 8.10\">\n",
              "\n",
              "     <Shape>\n",
              "\n",
              "      <Appearance>\n",
              "\n",
              "       <Material diffuseColor=\"0.749 0.651 0.651\" specularColor=\"0.5 0.5 0.5\">\n",
              "\n",
              "       </Material>\n",
              "\n",
              "      </Appearance>\n",
              "\n",
              "      <Sphere radius=\"1.21\">\n",
              "\n",
              "      </Sphere>\n",
              "\n",
              "     </Shape>\n",
              "\n",
              "    </Transform>\n",
              "\n",
              "    <Transform translation=\"8.10 8.10 8.10\">\n",
              "\n",
              "     <Shape>\n",
              "\n",
              "      <Appearance>\n",
              "\n",
              "       <Material diffuseColor=\"0.749 0.651 0.651\" specularColor=\"0.5 0.5 0.5\">\n",
              "\n",
              "       </Material>\n",
              "\n",
              "      </Appearance>\n",
              "\n",
              "      <Sphere radius=\"1.21\">\n",
              "\n",
              "      </Sphere>\n",
              "\n",
              "     </Shape>\n",
              "\n",
              "    </Transform>\n",
              "\n",
              "   </Scene>\n",
              "\n",
              "  </X3D>\n",
              "\n",
              " </body>\n",
              "\n",
              "</html>\n",
              "\n"
            ]
          },
          "metadata": {},
          "execution_count": 15
        }
      ]
    },
    {
      "cell_type": "markdown",
      "source": [
        "Lattice constants (for repeat units) are spcific to crystals. We can get reliable estimates of lattice constants using GPAW by relaxing the simulation cell."
      ],
      "metadata": {
        "id": "q_hBoC1FB1Dd"
      }
    },
    {
      "cell_type": "code",
      "source": [
        "%%time\n",
        "from gpaw import GPAW, PW\n",
        "from ase.optimize import BFGS\n",
        "from ase.constraints import UnitCellFilter\n",
        "from jarvis.core.atoms import ase_to_atoms\n",
        "# Set up bulk aluminum\n",
        "print('Init',ase_to_atoms(aluminum))\n",
        "# GPAW calculator setup\n",
        "calc = GPAW(mode=PW(500),  # Plane wave cutoff\n",
        "            xc='PBE',      # Exchange-correlation functional\n",
        "            kpts=(6, 6, 6), # k-points\n",
        "            convergence={'energy': 1e-6, 'density': 1e-4, 'eigenstates': 1e-8},\n",
        "            txt='aluminum_gpaw.txt')\n",
        "\n",
        "aluminum.set_calculator(calc)\n",
        "\n",
        "# Relax the structure\n",
        "uf = UnitCellFilter(aluminum)\n",
        "opt = BFGS(uf)\n",
        "opt.run(fmax=0.01)\n",
        "\n",
        "print('Final',ase_to_atoms(aluminum))\n"
      ],
      "metadata": {
        "id": "BJKozaTDompL",
        "outputId": "2f143557-7218-4804-8fb0-1cf2a303172d",
        "colab": {
          "base_uri": "https://localhost:8080/"
        }
      },
      "execution_count": 16,
      "outputs": [
        {
          "output_type": "stream",
          "name": "stdout",
          "text": [
            "Init System\n",
            "1.0\n",
            "0.0 2.025 2.025\n",
            "2.025 0.0 2.025\n",
            "2.025 2.025 0.0\n",
            "Al \n",
            "1 \n",
            "direct\n",
            "0.0 0.0 0.0 Al\n",
            "\n",
            "      Step     Time          Energy         fmax\n",
            "BFGS:    0 19:44:55       -3.730177        0.0436\n",
            "BFGS:    1 19:45:01       -3.730252        0.0285\n",
            "BFGS:    2 19:45:06       -3.730316        0.0003\n",
            "Final System\n",
            "1.0\n",
            "-1.1382799519927317e-17 2.021351446312309 2.0213514463123086\n",
            "2.021351446312309 -1.9507955268131013e-18 2.021351446312309\n",
            "2.021351446312309 2.021351446312309 -1.8036985343423936e-17\n",
            "Al \n",
            "1 \n",
            "direct\n",
            "-6.81137054404624e-20 6.237049310841029e-20 -6.237049310841048e-20 Al\n",
            "\n",
            "CPU times: user 16.9 s, sys: 6.91 s, total: 23.8 s\n",
            "Wall time: 19.2 s\n"
          ]
        }
      ]
    },
    {
      "cell_type": "code",
      "source": [
        "# The stress on the cell should be as low as possible\n",
        "initial_stress = aluminum.get_stress()\n",
        "print('Stress 1x6 vector eV/Å³', initial_stress)\n",
        "# Note stress can be 1x6 vector called Voigt notation or 3x3 matrix representation\n",
        "# Here we are using Voigt notation"
      ],
      "metadata": {
        "id": "KCg7mkhQpkfM",
        "outputId": "d4569ffb-3951-4022-e5a8-1d5e52abe4d3",
        "colab": {
          "base_uri": "https://localhost:8080/"
        }
      },
      "execution_count": 18,
      "outputs": [
        {
          "output_type": "stream",
          "name": "stdout",
          "text": [
            "Stress 1x6 vector eV/Å³ [-1.78617772e-05 -1.78617772e-05 -1.78617772e-05 -8.29557123e-19\n",
            "  0.00000000e+00 -1.03694640e-18]\n"
          ]
        }
      ]
    },
    {
      "cell_type": "markdown",
      "source": [
        "Electronic density of states"
      ],
      "metadata": {
        "id": "gVQ2JjWEDaf4"
      }
    },
    {
      "cell_type": "code",
      "source": [
        "import matplotlib.pyplot as plt\n",
        "%matplotlib inline\n",
        "energies, dos = calc.get_dos(spin=0, npts=2001, width=0.2)\n",
        "e_f = calc.get_fermi_level()\n",
        "plt.plot(energies - e_f, dos)\n",
        "plt.xlim([-15, 10])\n",
        "plt.ylim([0, 0.5])\n",
        "plt.xlabel('Energy (eV)')\n",
        "plt.ylabel('DOS (states/eV)')\n",
        "plt.fill_between(energies - e_f, 0, dos, where=(energies - e_f < 0), facecolor='blue', alpha=0.25)\n",
        "plt.axvline(x=0,linestyle='-.',color='green')\n",
        "# The left hand side represent electron filled states\n",
        "# The Fermi level (green line) is set to zero"
      ],
      "metadata": {
        "id": "90Z-hVyIDZ1t",
        "outputId": "40332ca1-4b5d-4f22-f7f2-16df0af140bf",
        "colab": {
          "base_uri": "https://localhost:8080/",
          "height": 473
        }
      },
      "execution_count": 25,
      "outputs": [
        {
          "output_type": "execute_result",
          "data": {
            "text/plain": [
              "<matplotlib.lines.Line2D at 0x7f8e1539a860>"
            ]
          },
          "metadata": {},
          "execution_count": 25
        },
        {
          "output_type": "display_data",
          "data": {
            "text/plain": [
              "<Figure size 640x480 with 1 Axes>"
            ],
            "image/png": "[encoded data removed]"
          },
          "metadata": {}
        }
      ]
    },
    {
      "cell_type": "markdown",
      "source": [
        "Electronic band structure"
      ],
      "metadata": {
        "id": "BquNgGHdESur"
      }
    },
    {
      "cell_type": "code",
      "source": [
        "# Restart from ground state and fix potential:\n",
        "calc2 = calc.fixed_density(\n",
        "    nbands=16,\n",
        "    symmetry='off',\n",
        "    kpts={'path': 'GXWKL', 'npoints': 60},\n",
        "    convergence={'bands': 8})"
      ],
      "metadata": {
        "id": "zC_jO0AvEUpu",
        "outputId": "3e1b0933-1fbf-4f16-bcf6-a5cb09ed5226",
        "colab": {
          "base_uri": "https://localhost:8080/"
        }
      },
      "execution_count": 26,
      "outputs": [
        {
          "output_type": "stream",
          "name": "stdout",
          "text": [
            "\n",
            "  ___ ___ ___ _ _ _  \n",
            " |   |   |_  | | | | \n",
            " | | | | | . | | | | \n",
            " |__ |  _|___|_____|  24.1.0\n",
            " |___|_|             \n",
            "\n",
            "User:   ???@45f15df5843c\n",
            "Date:   Thu May 30 19:54:36 2024\n",
            "Arch:   x86_64\n",
            "Pid:    1054\n",
            "CWD:    /content\n",
            "Python: 3.10.12\n",
            "gpaw:   /usr/local/lib/python3.10/dist-packages/gpaw\n",
            "_gpaw:  /usr/local/lib/python3.10/dist-packages/\n",
            "        _gpaw.cpython-310-x86_64-linux-gnu.so\n",
            "ase:    /usr/local/lib/python3.10/dist-packages/ase (version 3.22.1)\n",
            "numpy:  /usr/local/lib/python3.10/dist-packages/numpy (version 1.25.2)\n",
            "scipy:  /usr/local/lib/python3.10/dist-packages/scipy (version 1.11.4)\n",
            "libxc:  5.1.7\n",
            "units:  Angstrom and eV\n",
            "cores: 1\n",
            "OpenMP: False\n",
            "OMP_NUM_THREADS: 1\n",
            "\n",
            "Input parameters:\n",
            "  convergence: {bands: 8}\n",
            "  gpts: [15 15 15]\n",
            "  kpts: {npoints: 60,\n",
            "         path: GXWKL}\n",
            "  mode: {ecut: 500.0,\n",
            "         name: pw}\n",
            "  nbands: 16\n",
            "  symmetry: off\n",
            "  xc: PBE\n",
            "\n",
            "Initialize ...\n",
            "\n",
            "species:\n",
            "  Al:\n",
            "    name: Aluminium\n",
            "    id: 0292cae29f5d6237e50f6abdd43a7bdd\n",
            "    Z: 13.0\n",
            "    valence: 3\n",
            "    core: 10\n",
            "    charge: 0.0\n",
            "    file: /usr/share/gpaw-setups/Al.PBE.gz\n",
            "    compensation charges: {type: gauss,\n",
            "                           rc: 0.34,\n",
            "                           lmax: 2}\n",
            "    cutoffs: {filter: 1.91,\n",
            "              core: 2.36}\n",
            "    valence states:\n",
            "      #              energy  rcut\n",
            "      - 3s(2.00)    -7.753   1.085\n",
            "      - 3p(1.00)    -2.712   1.085\n",
            "      -  s          19.459   1.085\n",
            "      -  p          24.499   1.085\n",
            "      -  d           0.000   1.085\n",
            "  \n",
            "    # Using partial waves for Al as LCAO basis\n",
            "\n",
            "Reference energy: -6603.423265  # eV\n",
            "\n",
            "Spin-paired calculation\n",
            "\n",
            "Convergence criteria:\n",
            " Maximum [total energy] change in last 3 cyles: 0.0005 eV / valence electron\n",
            " Maximum integral of absolute [dens]ity change: 0.0001 electrons / valence electron\n",
            " Maximum integral of absolute [eigenst]ate change: 4e-08 eV^2 / valence electron\n",
            " Maximum number of scf [iter]ations: 333\n",
            " (Square brackets indicate name in SCF output, whereas a 'c' in\n",
            " the SCF output indicates the quantity has converged.)\n",
            "\n",
            "Symmetries present (total): 1\n",
            "\n",
            "  ( 1  0  0)\n",
            "  ( 0  1  0)\n",
            "  ( 0  0  1)\n",
            "\n",
            "60 k-points\n",
            "60 k-points in the irreducible part of the Brillouin zone\n",
            "       k-points in crystal coordinates                weights\n",
            "   0:     0.00000000    0.00000000    0.00000000       0.01666667\n",
            "   1:     0.02173913    0.00000000    0.02173913       0.01666667\n",
            "   2:     0.04347826    0.00000000    0.04347826       0.01666667\n",
            "   3:     0.06521739    0.00000000    0.06521739       0.01666667\n",
            "   4:     0.08695652    0.00000000    0.08695652       0.01666667\n",
            "   5:     0.10869565    0.00000000    0.10869565       0.01666667\n",
            "   6:     0.13043478    0.00000000    0.13043478       0.01666667\n",
            "   7:     0.15217391    0.00000000    0.15217391       0.01666667\n",
            "   8:     0.17391304    0.00000000    0.17391304       0.01666667\n",
            "   9:     0.19565217    0.00000000    0.19565217       0.01666667\n",
            "          ...\n",
            "  59:     0.50000000    0.50000000    0.50000000       0.01666667\n",
            "\n",
            "Wave functions: Plane wave expansion\n",
            "  Cutoff energy: 500.000 eV\n",
            "  Number of coefficients (min, max): 410, 444\n",
            "  Pulay-stress correction: 0.000000 eV/Ang^3 (de/decut=0.000000)\n",
            "  Using Numpy's FFT\n",
            "  ScaLapack parameters: grid=1x1, blocksize=None\n",
            "  Wavefunction extrapolation:\n",
            "    Improved wavefunction reuse through dual PAW basis \n",
            "\n",
            "Occupation numbers: Fermi-Dirac:\n",
            "  width: 0.1000  # eV\n",
            " \n",
            "\n",
            "Eigensolver\n",
            "   Davidson(niter=2) \n",
            "\n",
            "Densities:\n",
            "  Coarse grid: 15*15*15 grid\n",
            "  Fine grid: 30*30*30 grid\n",
            "  Total Charge: 0.000000 \n",
            "\n",
            "Density mixing:\n",
            "  Method: separate\n",
            "  Backend: pulay\n",
            "  Linear mixing parameter: 0.05\n",
            "  old densities: 5\n",
            "  Damping of long wavelength oscillations: 50 \n",
            "\n",
            "Hamiltonian:\n",
            "  XC and Coulomb potentials evaluated on a 30*30*30 grid\n",
            "  Using the PBE Exchange-Correlation functional\n",
            "  External potential:\n",
            "    NoExternalPotential\n",
            " \n",
            "\n",
            "XC parameters: PBE with 2 nearest neighbor stencil\n",
            "\n",
            "Memory estimate:\n",
            "  Process memory now: 338.36 MiB\n",
            "  Calculator: 11.92 MiB\n",
            "    Density: 1.37 MiB\n",
            "      Arrays: 0.67 MiB\n",
            "      Localized functions: 0.44 MiB\n",
            "      Mixer: 0.26 MiB\n",
            "    Hamiltonian: 0.45 MiB\n",
            "      Arrays: 0.44 MiB\n",
            "      XC: 0.00 MiB\n",
            "      Poisson: 0.00 MiB\n",
            "      vbar: 0.01 MiB\n",
            "    Wavefunctions: 10.11 MiB\n",
            "      Arrays psit_nG: 6.50 MiB\n",
            "      Eigensolver: 0.18 MiB\n",
            "      Projections: 0.19 MiB\n",
            "      Projectors: 2.70 MiB\n",
            "      PW-descriptor: 0.54 MiB\n",
            "\n",
            "Total number of cores used: 1\n",
            "\n",
            "Number of atoms: 1\n",
            "Number of atomic orbitals: 4\n",
            "Number of bands in calculation: 16\n",
            "Number of valence electrons: 3\n",
            "Bands to converge: 8\n",
            "\n",
            "... initialized\n",
            "\n",
            "Initializing position-dependent things.\n",
            "\n",
            "Creating initial wave functions:\n",
            "  4 bands from LCAO basis set\n",
            "  12 bands from random numbers\n",
            "\n",
            "                \n",
            "                \n",
            "                \n",
            "       Al       \n",
            "                \n",
            "                \n",
            "                \n",
            "                \n",
            "\n",
            "Positions:\n",
            "   0 Al    -0.000000   -0.000000   -0.000000    ( 0.0000,  0.0000,  0.0000)\n",
            "\n",
            "Unit cell:\n",
            "           periodic     x           y           z      points  spacing\n",
            "  1. axis:    yes   -0.000000    2.021351    2.021351    15     0.1556\n",
            "  2. axis:    yes    2.021351   -0.000000    2.021351    15     0.1556\n",
            "  3. axis:    yes    2.021351    2.021351   -0.000000    15     0.1556\n",
            "\n",
            "  Lengths:   2.858623   2.858623   2.858623\n",
            "  Angles:   60.000000  60.000000  60.000000\n",
            "\n",
            "Effective grid spacing dv^(1/3) = 0.1698\n",
            "\n",
            "     iter     time        total  log10-change:\n",
            "                         energy   eigst   dens\n",
            "iter:   1 19:54:43    -2.647957   +2.73       c\n",
            "iter:   2 19:54:50    -2.648339   +0.97       c\n",
            "iter:   3 19:54:53    -2.648341c  -0.36       c\n",
            "iter:   4 19:54:55    -2.648341c  -1.75       c\n",
            "iter:   5 19:54:58    -2.648341c  -3.38       c\n",
            "iter:   6 19:55:01    -2.648341c  -5.16       c\n",
            "iter:   7 19:55:05    -2.648341c  -6.85       c\n",
            "iter:   8 19:55:08    -2.648341c  -8.43c      c\n",
            "\n",
            "Converged after 8 iterations.\n",
            "\n",
            "Dipole moment: (0.000000, -0.000000, -0.000000) |e|*Ang\n",
            "\n",
            "Energy contributions relative to reference atoms: (reference = -6603.423265)\n",
            "\n",
            "Kinetic:         +4.727802\n",
            "Potential:       -1.726461\n",
            "External:        +0.000000\n",
            "XC:              -5.632227\n",
            "Entropy (-ST):   -0.022432\n",
            "Local:           -0.006239\n",
            "SIC:             +0.000000\n",
            "--------------------------\n",
            "Free energy:     -2.659558\n",
            "Extrapolated:    -2.648341\n",
            "\n",
            "Showing only first 2 kpts\n",
            " Kpt  Band  Eigenvalues  Occupancy\n",
            "  0     0     -3.98099    2.00000\n",
            "  0     1     19.77031    0.00000\n",
            "  0     2     19.77031    0.00000\n",
            "\n",
            "  1     0     -3.96386    2.00000\n",
            "  1     1     19.52801    0.00000\n",
            "  1     2     19.52801    0.00000\n",
            "\n",
            "\n",
            "Fermi level: 7.06451\n",
            "\n",
            "No gap\n"
          ]
        }
      ]
    },
    {
      "cell_type": "code",
      "source": [
        "%matplotlib inline\n",
        "bs = calc2.band_structure()\n",
        "bs.plot(filename='bandstructure.png', show=False, emax=25.0)"
      ],
      "metadata": {
        "id": "HZF_m_xxEYH3",
        "outputId": "f172aa61-0ffc-4ee6-ff65-1c1dd26db582",
        "colab": {
          "base_uri": "https://localhost:8080/",
          "height": 453
        }
      },
      "execution_count": 27,
      "outputs": [
        {
          "output_type": "execute_result",
          "data": {
            "text/plain": [
              "<Axes: ylabel='energies [eV]'>"
            ]
          },
          "metadata": {},
          "execution_count": 27
        },
        {
          "output_type": "display_data",
          "data": {
            "text/plain": [
              "<Figure size 640x480 with 1 Axes>"
            ],
            "image/png": "[encoded data removed]"
          },
          "metadata": {}
        }
      ]
    },
    {
      "cell_type": "markdown",
      "source": [
        "Electron density cloud"
      ],
      "metadata": {
        "id": "8gua0O07EoFM"
      }
    },
    {
      "cell_type": "code",
      "source": [
        "density = calc.get_pseudo_density()\n",
        "print(density.shape,density.max())"
      ],
      "metadata": {
        "id": "R6cYmrZ0EskE",
        "outputId": "b01295c8-e267-45cc-f21c-55a7d2660497",
        "colab": {
          "base_uri": "https://localhost:8080/"
        }
      },
      "execution_count": 28,
      "outputs": [
        {
          "output_type": "stream",
          "name": "stdout",
          "text": [
            "(15, 15, 15) 0.40836574403443754\n"
          ]
        }
      ]
    },
    {
      "cell_type": "code",
      "source": [
        "import plotly.graph_objects as go\n",
        "import numpy as np\n",
        "\n",
        "# Create a sample NxNxN data\n",
        "N = 15\n",
        "x, y, z = np.mgrid[:N, :N, :N]\n",
        "values = density  # Example 3D data\n",
        "\n",
        "# Create the volume plot\n",
        "fig = go.Figure(data=go.Volume(\n",
        "    x=x.flatten(),\n",
        "    y=y.flatten(),\n",
        "    z=z.flatten(),\n",
        "    value=values.flatten(),\n",
        "    # isomin=-1,  # Minimum value to visualize\n",
        "    # isomax=1,   # Maximum value to visualize\n",
        "    opacity=0.1,  # Opacity of the volume\n",
        "    surface_count=17,  # Number of isosurfaces\n",
        "    colorscale='RdBu'  # Colorscale\n",
        "))\n",
        "\n",
        "# Update layout for better visualization\n",
        "fig.update_layout(\n",
        "    scene=dict(\n",
        "        xaxis_title='X axis',\n",
        "        yaxis_title='Y axis',\n",
        "        zaxis_title='Z axis'\n",
        "    ),\n",
        "    title=\"3D Volume Plot\"\n",
        ")\n",
        "\n",
        "# Show the plot\n",
        "fig.show()\n"
      ],
      "metadata": {
        "id": "2DwfGcq_Enos",
        "outputId": "c18ee3e1-4ff2-4173-a147-a92646c5dc88",
        "colab": {
          "base_uri": "https://localhost:8080/",
          "height": 542
        }
      },
      "execution_count": 29,
      "outputs": [
        {
          "output_type": "display_data",
          "data": {
            "text/html": [
              "<html>\n",
              "<head><meta charset=\"utf-8\" /></head>\n",
              "<body>\n",
              "    <div>            <script src=\"https://cdnjs.cloudflare.com/ajax/libs/mathjax/2.7.5/MathJax.js?config=TeX-AMS-MML_SVG\"></script><script type=\"text/javascript\">if (window.MathJax && window.MathJax.Hub && window.MathJax.Hub.Config) {window.MathJax.Hub.Config({SVG: {font: \"STIX-Web\"}});}</script>                <script type=\"text/javascript\">window.PlotlyConfig = {MathJaxConfig: 'local'};</script>\n",
              "        <script charset=\"utf-8\" src=\"https://cdn.plot.ly/plotly-2.24.1.min.js\"></script>                <div id=\"4d213552-ee12-4fe4-a89b-224df9777c47\" class=\"plotly-graph-div\" style=\"height:525px; width:100%;\"></div>            <script type=\"text/javascript\">                                    window.PLOTLYENV=window.PLOTLYENV || {};                                    if (document.getElementById(\"4d213552-ee12-4fe4-a89b-224df9777c47\")) {                    Plotly.newPlot(                        \"4d213552-ee12-4fe4-a89b-224df9777c47\",                        [{\"colorscale\":[[0.0,\"rgb(103,0,31)\"],[0.1,\"rgb(178,24,43)\"],[0.2,\"rgb(214,96,77)\"],[0.3,\"rgb(244,165,130)\"],[0.4,\"rgb(253,219,199)\"],[0.5,\"rgb(247,247,247)\"],[0.6,\"rgb(209,229,240)\"],[0.7,\"rgb(146,197,222)\"],[0.8,\"rgb(67,147,195)\"],[0.9,\"rgb(33,102,172)\"],[1.0,\"rgb(5,48,97)\"]],\"opacity\":0.1,\"surface\":{\"count\":17},\"value\":[0.40836574403443754,0.395020843197436,0.35793740150124226,0.3106753808942459,0.2660132078740068,0.23225001650537036,0.21344488164280595,0.20393666874645114,0.20393666874644992,0.21344488164280526,0.2322500165053714,0.2660132078740068,0.31067538089424485,0.35793740150124226,0.395020843197436,0.3950208431974357,0.3695953138987054,0.32754543692758914,0.28267098671434043,0.24412000319070548,0.21929399780944903,0.20599274232563095,0.20080356609834127,0.2059927423256296,0.21929399780944778,0.24412000319070482,0.2826709867143382,0.3275454369275888,0.3695953138987066,0.3950208431974363,0.3579374015012392,0.3275454369275942,0.2888668104824261,0.25135686667867996,0.22344188465691123,0.20688078943178992,0.19761709887551168,0.19761709887551246,0.20688078943178795,0.22344188465691198,0.25135686667868073,0.2888668104824266,0.3275454369275888,0.35793740150124226,0.3695953138987048,0.31067538089424673,0.2826709867143398,0.2513568666786808,0.22499733247146758,0.20703043018932063,0.19514280851948185,0.1904049069080571,0.19514280851948207,0.20703043018931921,0.22499733247146986,0.2513568666786797,0.2826709867143382,0.31067538089424707,0.3275454369275906,0.32754543692759286,0.26601320787400945,0.2441200031907042,0.2234418846569128,0.20703043018932096,0.19411679692374037,0.18648174828399902,0.18648174828399972,0.19411679692373918,0.20703043018932069,0.22344188465691123,0.24412000319070562,0.26601320787400884,0.2826709867143398,0.28886681048242646,0.28267098671433816,0.23225001650536956,0.21929399780944922,0.20688078943178756,0.19514280851948088,0.1864817482839991,0.18355677524051334,0.18648174828399927,0.19514280851947852,0.20688078943178947,0.21929399780944708,0.23225001650537083,0.24412000319070332,0.25135686667868234,0.2513568666786811,0.24412000319070581,0.21344488164280548,0.20599274232563047,0.19761709887551226,0.19040490690805498,0.1864817482839989,0.1864817482839986,0.19040490690805723,0.19761709887551276,0.20599274232563072,0.21344488164280534,0.2192939978094465,0.2234418846569105,0.2249973324714706,0.2234418846569123,0.21929399780944778,0.20393666874645075,0.20080356609834082,0.1976170988755125,0.1951428085194798,0.1941167969237386,0.19514280851948176,0.19761709887551177,0.20080356609834035,0.2039366687464497,0.20599274232562978,0.2068807894317886,0.2070304301893204,0.20703043018932,0.20688078943178997,0.2059927423256301,0.20393666874645025,0.20599274232563075,0.2068807894317903,0.20703043018932057,0.20703043018932146,0.20688078943178942,0.2059927423256313,0.20393666874645142,0.20080356609833971,0.19761709887551146,0.19514280851948101,0.19411679692374112,0.19514280851948193,0.1976170988755127,0.20080356609834207,0.21344488164280526,0.21929399780944797,0.2234418846569124,0.22499733247146805,0.2234418846569105,0.21929399780944778,0.2134448816428047,0.20599274232562984,0.19761709887551157,0.1904049069080574,0.18648174828399972,0.18648174828399938,0.19040490690805512,0.19761709887551274,0.20599274232563158,0.23225001650537144,0.24412000319070534,0.2513568666786805,0.2513568666786801,0.24412000319070631,0.23225001650537083,0.2192939978094456,0.2068807894317885,0.19514280851948204,0.18648174828399922,0.1835567752405109,0.18648174828399935,0.1951428085194816,0.20688078943178836,0.21929399780944758,0.26601320787400956,0.28267098671434043,0.28886681048242524,0.2826709867143368,0.2660132078740088,0.24412000319070637,0.22344188465691253,0.20703043018931952,0.1941167969237415,0.18648174828399908,0.18648174828399902,0.19411679692374048,0.2070304301893189,0.22344188465691248,0.24412000319070404,0.310675380894247,0.3275454369275927,0.32754543692758914,0.3106753808942485,0.28267098671434054,0.2513568666786806,0.22499733247146814,0.20703043018932057,0.1951428085194809,0.1904049069080574,0.1951428085194801,0.20703043018932152,0.22499733247146875,0.25135686667867896,0.28267098671433866,0.35793740150124215,0.3695953138987054,0.3579374015012369,0.3275454369275888,0.2888668104824264,0.2513568666786797,0.2234418846569124,0.20688078943178978,0.19761709887551143,0.1976170988755115,0.20688078943178917,0.2234418846569116,0.2513568666786808,0.288866810482424,0.32754543692759147,0.3950208431974356,0.3950208431974356,0.36959531389870465,0.32754543692758953,0.2826709867143382,0.24412000319070468,0.2192939978094471,0.20599274232563167,0.20080356609834007,0.20599274232562978,0.2192939978094474,0.2441200031907044,0.2826709867143392,0.3275454369275914,0.3695953138987048,0.3950208431974357,0.3695953138987048,0.3275454369275942,0.28267098671433805,0.24412000319070476,0.2192939978094469,0.20599274232563056,0.20080356609834046,0.20599274232563075,0.21929399780944694,0.24412000319070412,0.2826709867143411,0.32754543692759164,0.3695953138987054,0.3950208431974342,0.3695953138987054,0.33748850678112313,0.29682685225603594,0.2575407189122742,0.22806070560836225,0.2109450160200576,0.20167145930571603,0.20167145930571823,0.21094501602005905,0.22806070560836114,0.2575407189122741,0.29682685225603395,0.33748850678112596,0.3695953138987076,0.38179932027360924,0.32754543692759414,0.29682685225603367,0.26257594221162495,0.23334426532304617,0.21399892981767862,0.20191659438460663,0.19705612721345867,0.20191659438460483,0.21399892981767843,0.23334426532304592,0.26257594221162356,0.29682685225603367,0.32754543692759297,0.34631514784271866,0.346315147842718,0.28267098671433916,0.2575407189122743,0.23334426532304564,0.21503380107429232,0.20172134816406834,0.1936580769665778,0.1936580769665775,0.20172134816406787,0.21503380107429437,0.23334426532304428,0.25754071891227626,0.28267098671433855,0.30152975154616113,0.3086033127320866,0.30152975154616024,0.2441200031907052,0.228060705608363,0.21399892981767787,0.20172134816406834,0.19243498043797055,0.1891235483338095,0.1924349804379716,0.2017213481640692,0.21399892981767843,0.22806070560836136,0.24412000319070487,0.25888751750960176,0.2676904601781188,0.2676904601781176,0.25888751750960215,0.21929399780944756,0.21094501602005863,0.2019165943846052,0.19365807696657708,0.189123548333809,0.1891235483338088,0.1936580769665768,0.20191659438460513,0.21094501602005794,0.21929399780944903,0.22690906210385323,0.232774200073603,0.23501184551476972,0.23277420007360275,0.2269090621038512,0.20599274232563108,0.20167145930571523,0.19705612721345836,0.19365807696657708,0.19243498043797055,0.19365807696657655,0.19705612721345805,0.20167145930571587,0.20599274232563014,0.20881081658049383,0.2102953055669791,0.21096799594225937,0.21096799594225984,0.21029530556697906,0.20881081658049505,0.20080356609834096,0.20167145930571553,0.20191659438460588,0.20172134816406714,0.20172134816406834,0.20191659438460646,0.20167145930571634,0.20080356609834005,0.19929302579376154,0.19736712098712653,0.1955043074692611,0.1946487004580125,0.195504307469263,0.1973671209871267,0.19929302579376207,0.2059927423256292,0.21094501602005775,0.21399892981767848,0.21503380107429312,0.21399892981767815,0.21094501602005708,0.2059927423256304,0.19929302579376165,0.1922028354179116,0.18643677309141035,0.18309834469853684,0.18309834469853575,0.18643677309141107,0.1922028354179126,0.19929302579376296,0.21929399780944694,0.2280607056083611,0.23334426532304667,0.23334426532304467,0.22806070560836225,0.21929399780944894,0.2088108165804941,0.1973671209871249,0.1864367730914085,0.17874983936217165,0.1761669994362916,0.1787498393621717,0.18643677309141,0.19736712098712614,0.2088108165804942,0.24412000319070506,0.2575407189122752,0.2625759422116246,0.25754071891227515,0.24412000319070618,0.22690906210385012,0.21029530556698067,0.19550430746926087,0.18309834469853556,0.17616699943629113,0.176166999436292,0.18309834469853517,0.19550430746926195,0.21029530556697884,0.22690906210385153,0.2826709867143384,0.296826852256036,0.29682685225603417,0.2826709867143382,0.2588875175096026,0.23277420007360294,0.21096799594226026,0.1946487004580109,0.18309834469853645,0.1787498393621713,0.18309834469853692,0.19464870045801028,0.21096799594226023,0.2327742000736032,0.2588875175096004,0.3275454369275939,0.33748850678112285,0.3275454369275931,0.30152975154616085,0.26769046017811826,0.23501184551477072,0.210967995942259,0.19550430746926145,0.186436773091408,0.18643677309140974,0.19550430746926198,0.21096799594225998,0.23501184551477197,0.267690460178118,0.30152975154615835,0.36959531389870404,0.3695953138987054,0.3463151478427179,0.3086033127320853,0.26769046017811826,0.23277420007360355,0.2102953055669788,0.19736712098712567,0.19220283541791017,0.1973671209871264,0.21029530556697876,0.232774200073603,0.2676904601781176,0.30860331273208635,0.3463151478427199,0.3950208431974357,0.38179932027360547,0.3463151478427175,0.301529751546159,0.25888751750960215,0.2269090621038531,0.20881081658049336,0.19929302579376285,0.19929302579376285,0.20881081658049463,0.22690906210385234,0.2588875175096028,0.3015297515461569,0.3463151478427179,0.38179932027360547,0.35793740150123626,0.32754543692759247,0.2888668104824273,0.25135686667867907,0.22344188465691253,0.20688078943178861,0.19761709887551096,0.19761709887551235,0.20688078943178873,0.223441884656913,0.25135686667867924,0.28886681048242385,0.32754543692758953,0.35793740150123726,0.369595313898704,0.3275454369275913,0.29682685225603456,0.26257594221162456,0.23334426532304633,0.21399892981767937,0.20191659438460505,0.1970561272134574,0.20191659438460702,0.21399892981767904,0.23334426532304653,0.2625759422116246,0.29682685225603167,0.32754543692758936,0.3463151478427181,0.3463151478427179,0.2888668104824242,0.26257594221162345,0.2370530329415297,0.21792226071093165,0.204455384234968,0.1962856474762287,0.1962856474762285,0.20445538423496662,0.2179222607109318,0.23705303294153104,0.26257594221162367,0.2888668104824251,0.3086033127320859,0.3160586465125476,0.308603312732085,0.25135686667867935,0.2333442653230466,0.21792226071093151,0.20523127493974927,0.19564666914295195,0.19208137319756563,0.19564666914295195,0.20523127493974916,0.2179222607109297,0.23334426532304672,0.251356866678679,0.2676904601781176,0.27735318386757024,0.2773531838675711,0.2676904601781186,0.223441884656913,0.213998929817679,0.20445538423496684,0.19564666914295256,0.19064807901069633,0.19064807901069655,0.19564666914295126,0.20445538423496645,0.21399892981767843,0.22344188465691014,0.23277420007360292,0.2400654215862349,0.24281218221653436,0.2400654215862344,0.23277420007360355,0.2068807894317894,0.20191659438460688,0.19628564747622745,0.19208137319756566,0.19064807901069583,0.1920813731975652,0.1962856474762277,0.2019165943846058,0.20688078943178928,0.2102953055669797,0.21265466264283614,0.2140585231495358,0.21405852314953297,0.21265466264283722,0.2102953055669797,0.19761709887551202,0.1970561272134584,0.19628564747622895,0.19564666914295042,0.1956466691429521,0.19628564747622745,0.1970561272134579,0.19761709887551143,0.19736712098712458,0.19606974857696727,0.19465105209515582,0.1940748711409683,0.19465105209515543,0.19606974857696846,0.1973671209871253,0.19761709887551107,0.20191659438460668,0.2044553842349666,0.20523127493975168,0.20445538423496648,0.2019165943846067,0.19761709887551274,0.1922028354179119,0.1867315396052729,0.18209434058448395,0.17926562616745476,0.1792656261674559,0.18209434058448432,0.18673153960527353,0.1922028354179101,0.2068807894317872,0.2139989298176797,0.21792226071093077,0.21792226071093182,0.2139989298176797,0.20688078943179028,0.19736712098712658,0.1867315396052734,0.17720102801325238,0.17064724031843814,0.16832464654503201,0.1706472403184386,0.17720102801325321,0.18673153960527342,0.1973671209871253,0.22344188465691098,0.23334426532304603,0.2370530329415298,0.23334426532304603,0.2234418846569116,0.21029530556697895,0.19606974857696785,0.18209434058448243,0.17064724031843767,0.16455226028857492,0.16455226028857456,0.17064724031843784,0.18209434058448465,0.1960697485769677,0.21029530556698092,0.2513568666786822,0.26257594221162367,0.26257594221162495,0.25135686667868024,0.23277420007360397,0.21265466264283736,0.19465105209515537,0.17926562616745503,0.16832464654503157,0.16455226028857556,0.16832464654503243,0.17926562616745587,0.19465105209515426,0.21265466264283783,0.23277420007360408,0.2888668104824273,0.29682685225603594,0.2888668104824242,0.26769046017811815,0.24006542158623412,0.21405852314953297,0.19407487114096938,0.17926562616745303,0.17064724031843836,0.1706472403184385,0.17926562616745406,0.1940748711409699,0.21405852314953427,0.24006542158623428,0.2676904601781188,0.32754543692758953,0.32754543692758936,0.3086033127320867,0.27735318386757174,0.24281218221653544,0.21405852314953552,0.19465105209515698,0.182094340584484,0.17720102801325247,0.1820943405844841,0.1946510520951549,0.21405852314953489,0.24281218221653433,0.2773531838675688,0.3086033127320867,0.3579374015012426,0.3463151478427181,0.3160586465125452,0.2773531838675715,0.2400654215862346,0.2126546626428361,0.1960697485769684,0.18673153960527444,0.18673153960527392,0.19606974857696813,0.2126546626428351,0.2400654215862344,0.27735318386756946,0.3160586465125455,0.3463151478427179,0.3695953138987069,0.34631514784271716,0.30860331273208985,0.267690460178118,0.23277420007360342,0.21029530556698003,0.1973671209871267,0.1922028354179107,0.1973671209871259,0.2102953055669803,0.23277420007360367,0.2676904601781186,0.30860331273208835,0.34631514784271666,0.36959531389870554,0.3106753808942486,0.2826709867143375,0.2513568666786807,0.22499733247146855,0.20703043018931927,0.19514280851948043,0.19040490690805606,0.195142808519482,0.20703043018932163,0.22499733247146794,0.2513568666786821,0.28267098671433843,0.310675380894247,0.32754543692759414,0.32754543692759,0.2826709867143413,0.25754071891227437,0.23334426532304753,0.21503380107429237,0.20172134816406767,0.1936580769665764,0.19365807696657647,0.2017213481640679,0.21503380107429287,0.23334426532304522,0.25754071891227365,0.2826709867143396,0.30152975154615697,0.3086033127320884,0.30152975154615874,0.25135686667868234,0.23334426532304722,0.2179222607109297,0.20523127493975019,0.1956466691429511,0.19208137319756752,0.19564666914295076,0.20523127493974985,0.2179222607109297,0.23334426532304522,0.25135686667867957,0.26769046017811704,0.27735318386757035,0.27735318386757035,0.267690460178118,0.2249973324714682,0.21503380107429376,0.2052312749397513,0.196249909856257,0.19107633209981437,0.19107633209981453,0.19624990985625457,0.20523127493974974,0.21503380107429407,0.2249973324714693,0.2350118455147723,0.24281218221653542,0.245722480639157,0.242812182216534,0.2350118455147723,0.20703043018932035,0.20172134816406836,0.195646669142952,0.19107633209981353,0.18951929119398797,0.19107633209981442,0.19564666914295198,0.20172134816406737,0.2070304301893199,0.21096799594225976,0.21405852314953422,0.21586004708001968,0.21586004708001869,0.21405852314953572,0.2109679959422614,0.19514280851948176,0.1936580769665769,0.19208137319756635,0.19107633209981392,0.19107633209981428,0.19208137319756777,0.19365807696657691,0.19514280851948176,0.19550430746926264,0.1946510520951566,0.1936586284679808,0.19325389239816657,0.19365862846798065,0.19465105209515499,0.19550430746926037,0.19040490690805667,0.1936580769665784,0.19564666914295026,0.19624990985625482,0.19564666914295098,0.19365807696657647,0.1904049069080568,0.18643677309140944,0.18209434058448326,0.17810578684163106,0.17573833495572377,0.17573833495572544,0.17810578684163111,0.18209434058448373,0.1864367730914102,0.19514280851948168,0.20172134816406806,0.20523127493974927,0.20523127493974985,0.20172134816406834,0.19514280851948076,0.1864367730914111,0.17720102801325355,0.16912642780384346,0.16346961949356517,0.161406291122195,0.16346961949356634,0.16912642780384285,0.1772010280132518,0.18643677309140913,0.20703043018932132,0.21503380107429532,0.217922260710931,0.21503380107429185,0.20703043018931996,0.19550430746926195,0.18209434058448334,0.1691264278038427,0.15908785933405076,0.15364884373216994,0.15364884373216783,0.1590878593340497,0.16912642780384315,0.18209434058448484,0.1955043074692625,0.22499733247146841,0.2333442653230461,0.23334426532304442,0.22499733247147113,0.21096799594226026,0.19465105209515587,0.17810578684162956,0.16346961949356578,0.1536488437321694,0.1503655558046645,0.15364884373216897,0.16346961949356792,0.1781057868416309,0.1946510520951557,0.21096799594225965,0.25135686667868207,0.2575407189122765,0.2513568666786803,0.2350118455147702,0.21405852314953394,0.1936586284679808,0.17573833495572527,0.1614062911221938,0.15364884373216905,0.1536488437321699,0.1614062911221949,0.17573833495572355,0.19365862846798074,0.21405852314953394,0.2350118455147704,0.28267098671433893,0.2826709867143394,0.267690460178118,0.24281218221653605,0.21586004708001677,0.19325389239816684,0.17573833495572408,0.16346961949356542,0.1590878593340491,0.1634696194935678,0.175738334955724,0.19325389239816587,0.21586004708001758,0.24281218221653536,0.267690460178118,0.3106753808942488,0.30152975154615996,0.2773531838675711,0.24572248063915744,0.21586004708001827,0.19365862846798113,0.1781057868416301,0.16912642780384238,0.16912642780384346,0.1781057868416316,0.1936586284679804,0.2158600470800163,0.24572248063915744,0.27735318386756863,0.30152975154615996,0.32754543692759247,0.30860331273208713,0.2773531838675711,0.24281218221653564,0.2140585231495359,0.1946510520951569,0.1820943405844846,0.1772010280132525,0.1820943405844845,0.19465105209515635,0.21405852314953522,0.242812182216536,0.27735318386757124,0.30860331273208846,0.3275454369275927,0.32754543692759164,0.30152975154615697,0.26769046017811915,0.23501184551477183,0.21096799594225873,0.19550430746926192,0.1864367730914102,0.18643677309140988,0.19550430746926192,0.21096799594225965,0.2350118455147723,0.26769046017811915,0.3015297515461567,0.32754543692759164,0.3374885067811229,0.26601320787400745,0.2441200031907067,0.2234418846569116,0.20703043018932096,0.19411679692374023,0.18648174828399888,0.18648174828399908,0.19411679692373976,0.2070304301893201,0.22344188465691267,0.2441200031907055,0.2660132078740093,0.28267098671434043,0.28886681048242646,0.28267098671433916,0.24412000319070404,0.2280607056083621,0.21399892981767984,0.20172134816406861,0.19243498043797266,0.18912354833380904,0.19243498043797175,0.20172134816406861,0.21399892981767843,0.22806070560836147,0.24412000319070698,0.2588875175096022,0.26769046017811915,0.26769046017811704,0.2588875175096028,0.22344188465691253,0.21399892981767787,0.20445538423496695,0.1956466691429515,0.1906480790106966,0.1906480790106972,0.1956466691429505,0.20445538423496848,0.2139989298176799,0.22344188465691306,0.23277420007360178,0.24006542158623412,0.24281218221653578,0.24006542158623514,0.23277420007360294,0.20703043018932077,0.20172134816406767,0.19564666914294943,0.191076332099813,0.18951929119398797,0.19107633209981528,0.19564666914295242,0.2017213481640681,0.20703043018931946,0.210967995942259,0.21405852314953627,0.21586004708001733,0.21586004708001963,0.21405852314953347,0.21096799594225982,0.19411679692373923,0.19243498043797194,0.19064807901069744,0.18951929119398653,0.1895192911939881,0.19064807901069755,0.19243498043797072,0.1941167969237402,0.19464870045801236,0.19407487114096975,0.19325389239816812,0.1928356466928229,0.19325389239816665,0.19407487114096983,0.19464870045801014,0.18648174828399977,0.1891235483338099,0.19064807901069755,0.19107633209981442,0.19064807901069655,0.18912354833380954,0.1864817482839986,0.1830983446985366,0.17926562616745312,0.17573833495572413,0.17358644529900835,0.17358644529900788,0.17573833495572388,0.17926562616745426,0.18309834469853556,0.18648174828399833,0.19243498043797078,0.19564666914295126,0.195646669142951,0.19243498043797125,0.18648174828399933,0.17874983936216987,0.17064724031843925,0.16346961949356512,0.15845672232339786,0.1566631730104381,0.15845672232339778,0.16346961949356542,0.17064724031843778,0.17874983936217184,0.1941167969237418,0.20172134816406878,0.20445538423496615,0.20172134816406703,0.19411679692373981,0.18309834469853833,0.1706472403184383,0.15908785933405056,0.15020548711928214,0.14524464043037352,0.14524464043037408,0.15020548711928222,0.15908785933405045,0.17064724031843875,0.18309834469853697,0.2070304301893203,0.2139989298176775,0.21399892981767843,0.20703043018931924,0.1946487004580118,0.17926562616745412,0.16346961949356578,0.15020548711928214,0.14144548209501365,0.13832586819704834,0.14144548209501412,0.15020548711928358,0.16346961949356592,0.17926562616745542,0.1946487004580113,0.22344188465691306,0.22806070560836403,0.22344188465691367,0.21096799594226065,0.19407487114096944,0.17573833495572358,0.1584567223233975,0.14524464043037263,0.13832586819704792,0.13832586819704795,0.1452446404303741,0.1584567223233984,0.17573833495572377,0.19407487114097072,0.21096799594225965,0.24412000319070282,0.24412000319070468,0.23277420007360408,0.21405852314953297,0.19325389239816684,0.17358644529900613,0.15666317301043883,0.14524464043037302,0.1414454820950141,0.14524464043037427,0.15666317301043886,0.17358644529900516,0.1932538923981641,0.2140585231495358,0.23277420007360192,0.2660132078740088,0.25888751750960226,0.24006542158623556,0.21586004708001744,0.19283564669282127,0.1735864452990068,0.15845672232339744,0.15020548711928156,0.15020548711928206,0.15845672232339772,0.17358644529900774,0.1928356466928202,0.21586004708001671,0.24006542158623653,0.2588875175096026,0.2826709867143398,0.26769046017811826,0.2428121822165348,0.21586004708001671,0.1932538923981673,0.17573833495572524,0.1634696194935667,0.15908785933405087,0.1634696194935674,0.17573833495572416,0.19325389239816412,0.21586004708001663,0.24281218221653555,0.26769046017811826,0.2826709867143382,0.2888668104824266,0.26769046017811915,0.24006542158623503,0.21405852314953394,0.1940748711409707,0.17926562616745528,0.170647240318438,0.1706472403184384,0.17926562616745334,0.19407487114097072,0.21405852314953366,0.24006542158623556,0.26769046017811726,0.2888668104824273,0.2968268522560333,0.28267098671433977,0.258887517509602,0.23277420007360158,0.21096799594225937,0.19464870045801236,0.18309834469853584,0.17874983936217076,0.18309834469853772,0.19464870045800936,0.21096799594225826,0.23277420007360308,0.25888751750960176,0.2826709867143384,0.29682685225603256,0.2968268522560332,0.2322500165053704,0.21929399780945008,0.2068807894317895,0.19514280851948182,0.18648174828399952,0.1835567752405138,0.18648174828399877,0.19514280851948132,0.20688078943178828,0.2192939978094467,0.23225001650537064,0.24412000319070318,0.25135686667867896,0.25135686667868046,0.2441200031907037,0.21929399780944814,0.2109450160200578,0.20191659438460666,0.19365807696657714,0.1891235483338088,0.18912354833381156,0.19365807696657739,0.2019165943846072,0.21094501602005897,0.2192939978094467,0.2269090621038506,0.23277420007360416,0.23501184551477228,0.23277420007360206,0.22690906210385028,0.20688078943178917,0.20191659438460607,0.19628564747622773,0.19208137319756638,0.19064807901069478,0.19208137319756702,0.1962856474762284,0.2019165943846054,0.20688078943178947,0.2102953055669795,0.21265466264283475,0.2140585231495343,0.21405852314953516,0.21265466264283775,0.21029530556697906,0.19514280851948135,0.19365807696657755,0.19208137319756596,0.1910763320998144,0.19107633209981473,0.1920813731975659,0.1936580769665774,0.19514280851947974,0.19550430746926195,0.19465105209515443,0.19365862846798107,0.1932538923981665,0.19365862846798043,0.194651052095155,0.19550430746926165,0.1864817482839988,0.1891235483338094,0.19064807901069797,0.1910763320998138,0.19064807901069777,0.18912354833381007,0.18648174828399902,0.18309834469853625,0.17926562616745526,0.1757383349557233,0.17358644529900494,0.1735864452990064,0.17573833495572386,0.17926562616745506,0.1830983446985366,0.1835567752405133,0.18912354833380932,0.19208137319756638,0.19208137319756627,0.18912354833380965,0.1835567752405123,0.17616699943629202,0.16832464654503104,0.16140629112219546,0.1566631730104388,0.1549874602998261,0.15666317301043872,0.16140629112219548,0.1683246465450318,0.17616699943629183,0.1864817482839984,0.1936580769665775,0.19628564747622831,0.1936580769665782,0.18648174828399877,0.17616699943629083,0.16455226028857642,0.15364884373216833,0.14524464043037322,0.14074062183383995,0.1407406218338412,0.14524464043037275,0.15364884373216822,0.1645522602885756,0.17616699943629058,0.19514280851948032,0.20191659438460505,0.201916594384606,0.19514280851947954,0.183098344698538,0.16832464654503215,0.15364884373216936,0.14144548209501315,0.13333940401153885,0.1304518498469382,0.13333940401153882,0.14144548209501265,0.15364884373216914,0.16832464654503207,0.18309834469853642,0.2068807894317891,0.21094501602005677,0.20688078943178892,0.1955043074692624,0.17926562616745637,0.16140629112219443,0.14524464043037505,0.13333940401153893,0.12689203297970247,0.12689203297970367,0.13333940401153954,0.14524464043037463,0.16140629112219582,0.1792656261674559,0.19550430746926245,0.21929399780944642,0.21929399780944778,0.21029530556698056,0.19465105209515374,0.17573833495572513,0.15666317301043864,0.14074062183384076,0.13045184984693772,0.12689203297970375,0.1304518498469382,0.14074062183384164,0.1566631730104379,0.17573833495572436,0.19465105209515524,0.21029530556698042,0.2322500165053726,0.22690906210385312,0.21265466264283653,0.19365862846798146,0.17358644529900694,0.15498746029982602,0.14074062183384006,0.13333940401153951,0.1333394040115399,0.14074062183384142,0.15498746029982588,0.1735864452990063,0.19365862846797985,0.2126546626428375,0.2269090621038531,0.24412000319070445,0.23277420007360347,0.21405852314953525,0.19325389239816793,0.17358644529900513,0.15666317301043844,0.14524464043037358,0.14144548209501412,0.14524464043037286,0.15666317301043833,0.17358644529900533,0.1932538923981666,0.21405852314953394,0.23277420007360425,0.24412000319070612,0.25135686667868046,0.23501184551477244,0.21405852314953483,0.19365862846798104,0.17573833495572497,0.16140629112219435,0.15364884373216947,0.15364884373216858,0.16140629112219435,0.1757383349557248,0.19365862846797952,0.21405852314953605,0.23501184551477025,0.2513568666786805,0.25754071891227376,0.25135686667868046,0.2327742000736017,0.21265466264283522,0.19465105209515374,0.1792656261674544,0.1683246465450317,0.1645522602885747,0.16832464654503176,0.17926562616745403,0.1946510520951556,0.21265466264283722,0.23277420007360375,0.251356866678681,0.2625759422116237,0.2625759422116248,0.24412000319070534,0.22690906210385148,0.2102953055669813,0.1955043074692621,0.18309834469853703,0.17616699943629202,0.17616699943629008,0.1830983446985359,0.19550430746926184,0.21029530556697887,0.2269090621038518,0.24412000319070373,0.2575407189122751,0.2625759422116229,0.2575407189122766,0.2134448816428053,0.20599274232563056,0.1976170988755119,0.19040490690805736,0.18648174828399933,0.18648174828399938,0.19040490690805617,0.19761709887551296,0.2059927423256299,0.2134448816428046,0.2192939978094467,0.223441884656913,0.2249973324714695,0.22344188465691275,0.21929399780944697,0.205992742325631,0.20167145930571562,0.19705612721345905,0.19365807696657816,0.1924349804379719,0.19365807696657647,0.1970561272134584,0.20167145930571764,0.20599274232563042,0.20881081658049505,0.2102953055669789,0.21096799594225873,0.210967995942261,0.210295305566978,0.20881081658049486,0.1976170988755102,0.19705612721345706,0.19628564747622804,0.19564666914295095,0.19564666914295056,0.19628564747622704,0.1970561272134591,0.1976170988755108,0.19736712098712642,0.19606974857696696,0.19465105209515401,0.19407487114097022,0.19465105209515546,0.19606974857696743,0.19736712098712667,0.1904049069080565,0.19365807696657716,0.19564666914294945,0.19624990985625493,0.19564666914295079,0.19365807696657686,0.1904049069080566,0.18643677309140944,0.18209434058448387,0.17810578684163136,0.17573833495572255,0.1757383349557237,0.17810578684163228,0.18209434058448318,0.18643677309140913,0.1864817482839982,0.19243498043797194,0.1956466691429513,0.19564666914295017,0.19243498043797225,0.18648174828399833,0.17874983936217165,0.17064724031843875,0.16346961949356553,0.15845672232339827,0.15666317301043775,0.15845672232339786,0.16346961949356592,0.1706472403184369,0.17874983936217004,0.18648174828399983,0.1936580769665782,0.19628564747622873,0.19365807696657816,0.18648174828399897,0.17616699943629083,0.16455226028857542,0.1536488437321696,0.14524464043037338,0.14074062183384067,0.14074062183384067,0.1452446404303747,0.1536488437321696,0.16455226028857517,0.1761669994362914,0.19040490690805664,0.19705612721345822,0.19705612721345758,0.1904049069080558,0.17874983936217015,0.16455226028857603,0.15036555580466365,0.1383258681970478,0.1304518498469386,0.12778475475226841,0.1304518498469379,0.13832586819704776,0.1503655558046631,0.16455226028857525,0.17874983936217087,0.19761709887551263,0.20167145930571714,0.19761709887551207,0.18643677309140907,0.17064724031843898,0.15364884373216994,0.13832586819704792,0.12689203297970314,0.12087686242790602,0.12087686242790512,0.1268920329797025,0.13832586819704792,0.15364884373216914,0.17064724031843848,0.18643677309140957,0.20599274232563158,0.20599274232562997,0.19736712098712492,0.1820943405844833,0.16346961949356686,0.14524464043037466,0.13045184984693706,0.12087686242790534,0.11750234782441858,0.12087686242790505,0.13045184984693822,0.1452446404303741,0.16346961949356592,0.18209434058448457,0.1973671209871241,0.21344488164280592,0.20881081658049527,0.19606974857696835,0.17810578684163159,0.15845672232339728,0.14074062183384076,0.12778475475226803,0.12087686242790689,0.12087686242790639,0.12778475475226828,0.14074062183384076,0.158456722323398,0.1781057868416304,0.19606974857696696,0.20881081658049505,0.21929399780944636,0.21029530556697898,0.19465105209515596,0.17573833495572544,0.15666317301043906,0.14074062183384153,0.13045184984693783,0.12689203297970356,0.13045184984693772,0.14074062183384142,0.1566631730104378,0.17573833495572364,0.19465105209515482,0.2102953055669788,0.21929399780944825,0.22344188465691156,0.21096799594226134,0.19407487114097022,0.17573833495572422,0.15845672232339816,0.1452446404303742,0.1383258681970471,0.13832586819704815,0.1452446404303729,0.15845672232339725,0.17573833495572547,0.1940748711409704,0.21096799594226057,0.22344188465691084,0.22806070560836095,0.22499733247147077,0.21096799594225998,0.19465105209515401,0.17810578684163111,0.16346961949356578,0.15364884373216875,0.15036555580466354,0.1536488437321697,0.1634696194935658,0.1781057868416315,0.19465105209515493,0.21096799594225835,0.22499733247146772,0.2333442653230463,0.23334426532304678,0.22344188465691014,0.21029530556697887,0.1960697485769683,0.1820943405844847,0.17064724031843703,0.16455226028857523,0.16455226028857523,0.1706472403184383,0.18209434058448415,0.19606974857696682,0.21029530556698123,0.223441884656913,0.2333442653230468,0.23705303294152905,0.2333442653230468,0.2192939978094473,0.20881081658049447,0.19736712098712453,0.18643677309141143,0.17874983936217084,0.17616699943629247,0.17874983936217015,0.1864367730914109,0.1973671209871251,0.20881081658049427,0.21929399780944772,0.22806070560836209,0.23334426532304706,0.23334426532304633,0.22806070560836253,0.2039366687464506,0.2008035660983399,0.19761709887551146,0.19514280851947963,0.19411679692374179,0.1951428085194807,0.19761709887551276,0.2008035660983402,0.2039366687464509,0.2059927423256324,0.20688078943178945,0.20703043018932013,0.20703043018932082,0.2068807894317884,0.20599274232562864,0.2008035660983409,0.20167145930571698,0.2019165943846061,0.20172134816406834,0.2017213481640673,0.20191659438460607,0.20167145930571595,0.20080356609834102,0.1992930257937618,0.19736712098712686,0.19550430746926162,0.1946487004580106,0.19550430746926328,0.19736712098712594,0.19929302579376063,0.19761709887551077,0.20191659438460646,0.2044553842349687,0.20523127493974874,0.20445538423496662,0.20191659438460616,0.19761709887551096,0.1922028354179122,0.1867315396052737,0.1820943405844839,0.1792656261674548,0.1792656261674553,0.1820943405844839,0.18673153960527428,0.19220283541791114,0.1951428085194815,0.2017213481640678,0.2052312749397488,0.2052312749397498,0.20172134816406742,0.19514280851948196,0.1864367730914098,0.17720102801325338,0.16912642780384418,0.16346961949356542,0.1614062911221949,0.16346961949356661,0.1691264278038443,0.17720102801325327,0.1864367730914108,0.19411679692374037,0.20172134816406817,0.2044553842349665,0.20172134816406712,0.19411679692373984,0.1830983446985372,0.17064724031843773,0.1590878593340504,0.15020548711928156,0.1452446404303735,0.14524464043037344,0.1502054871192828,0.15908785933405134,0.17064724031843792,0.1830983446985355,0.19514280851948135,0.20191659438460643,0.20191659438460532,0.19514280851948188,0.18309834469853703,0.16832464654503132,0.15364884373216872,0.14144548209501343,0.13333940401153885,0.1304518498469384,0.13333940401153913,0.1414454820950131,0.15364884373216975,0.16832464654503174,0.1830983446985365,0.19761709887551202,0.20167145930571542,0.19761709887551188,0.18643677309140988,0.17064724031843767,0.15364884373216953,0.13832586819704845,0.12689203297970275,0.12087686242790628,0.12087686242790659,0.12689203297970392,0.13832586819704795,0.1536488437321687,0.17064724031843806,0.18643677309140874,0.2008035660983409,0.2008035660983409,0.1922028354179115,0.17720102801325355,0.15908785933404965,0.14144548209501265,0.12689203297970467,0.1175023478244187,0.11431422106067929,0.11750234782441953,0.12689203297970358,0.1414454820950134,0.15908785933405042,0.17720102801325355,0.1922028354179116,0.20393666874644964,0.1992930257937627,0.1867315396052742,0.16912642780384324,0.15020548711928172,0.1333394040115394,0.12087686242790567,0.11431422106067922,0.11431422106068043,0.1208768624279049,0.13333940401153882,0.15020548711928294,0.16912642780384315,0.1867315396052739,0.1992930257937612,0.20599274232563167,0.19736712098712617,0.18209434058448432,0.16346961949356828,0.1452446404303735,0.13045184984693708,0.12087686242790563,0.11750234782441879,0.12087686242790496,0.1304518498469374,0.1452446404303729,0.1634696194935673,0.18209434058448484,0.19736712098712492,0.20599274232563053,0.20688078943178922,0.19550430746926228,0.17926562616745317,0.1614062911221945,0.14524464043037374,0.1333394040115389,0.12689203297970245,0.12689203297970253,0.13333940401153943,0.14524464043037333,0.16140629112219487,0.1792656261674556,0.19550430746926037,0.20688078943178861,0.21094501602005863,0.2070304301893193,0.19464870045801239,0.17926562616745417,0.16346961949356828,0.15020548711928233,0.14144548209501306,0.13832586819704792,0.14144548209501343,0.15020548711928233,0.16346961949356878,0.1792656261674553,0.1946487004580124,0.20703043018932105,0.21399892981767815,0.21399892981767993,0.20703043018932057,0.19550430746926328,0.1820943405844834,0.169126427803844,0.15908785933405023,0.1536488437321687,0.15364884373216822,0.1590878593340512,0.16912642780384343,0.18209434058448457,0.1955043074692623,0.20703043018932038,0.21503380107429204,0.21792226071093174,0.2150338010742943,0.20688078943178909,0.19736712098712694,0.186731539605273,0.17720102801325374,0.17064724031843925,0.16832464654503235,0.17064724031843748,0.17720102801325383,0.18673153960527383,0.19736712098712572,0.2068807894317898,0.21399892981767787,0.21792226071093004,0.21792226071093004,0.21399892981767937,0.2059927423256298,0.19929302579376162,0.19220283541791192,0.1864367730914092,0.18309834469853656,0.18309834469853692,0.18643677309141096,0.19220283541791147,0.19929302579376207,0.20599274232562986,0.21094501602005694,0.21399892981767793,0.21503380107429176,0.21399892981767848,0.2109450160200561,0.20393666874644945,0.205992742325631,0.2068807894317885,0.20703043018931938,0.20703043018932088,0.20688078943178867,0.2059927423256307,0.20393666874645022,0.2008035660983405,0.19761709887551093,0.1951428085194819,0.19411679692374037,0.195142808519482,0.19761709887551127,0.20080356609834044,0.20599274232562986,0.21094501602005686,0.21399892981767787,0.21503380107429348,0.213998929817679,0.21094501602005877,0.20599274232563128,0.19929302579376285,0.1922028354179111,0.18643677309141032,0.18309834469853678,0.18309834469853598,0.18643677309141077,0.19220283541791128,0.19929302579376126,0.20688078943178995,0.2139989298176774,0.21792226071093174,0.21792226071093168,0.213998929817679,0.2068807894317893,0.1973671209871249,0.18673153960527292,0.17720102801325274,0.170647240318438,0.1683246465450313,0.17064724031843836,0.17720102801325346,0.18673153960527342,0.19736712098712741,0.20703043018932027,0.21503380107429287,0.21792226071093118,0.21503380107429532,0.20703043018932124,0.1955043074692604,0.1820943405844829,0.16912642780384307,0.1590878593340504,0.1536488437321683,0.15364884373217022,0.15908785933405042,0.1691264278038423,0.1820943405844834,0.195504307469262,0.20703043018931921,0.21399892981767601,0.21399892981767868,0.20703043018931946,0.1946487004580122,0.17926562616745537,0.16346961949356778,0.15020548711928253,0.14144548209501243,0.1383258681970473,0.1414454820950136,0.15020548711928214,0.16346961949356684,0.17926562616745306,0.19464870045801055,0.2068807894317901,0.21094501602005708,0.20688078943178936,0.19550430746926228,0.17926562616745312,0.16140629112219376,0.14524464043037338,0.13333940401153868,0.12689203297970209,0.1268920329797033,0.13333940401153907,0.14524464043037408,0.1614062911221932,0.1792656261674553,0.1955043074692623,0.20599274232562864,0.20599274232563025,0.19736712098712642,0.18209434058448415,0.16346961949356675,0.1452446404303735,0.1304518498469372,0.12087686242790495,0.11750234782441821,0.12087686242790673,0.13045184984693747,0.14524464043037427,0.1634696194935677,0.1820943405844837,0.19736712098712714,0.20393666874645106,0.19929302579375988,0.18673153960527353,0.16912642780384327,0.150205487119283,0.13333940401153932,0.12087686242790621,0.11431422106067961,0.11431422106067936,0.12087686242790563,0.13333940401153885,0.1502054871192838,0.1691264278038427,0.18673153960527383,0.1992930257937609,0.20080356609834005,0.1922028354179115,0.17720102801325271,0.1590878593340496,0.14144548209501315,0.12689203297970214,0.11750234782441922,0.11431422106067868,0.11750234782441991,0.12689203297970428,0.1414454820950136,0.15908785933405142,0.17720102801325385,0.19220283541791233,0.20080356609834143,0.19761709887551254,0.18643677309140905,0.17064724031843753,0.1536488437321689,0.13832586819704795,0.12689203297970372,0.12087686242790593,0.12087686242790563,0.12689203297970345,0.138325868197048,0.1536488437321687,0.17064724031843753,0.18643677309140944,0.19761709887551204,0.20167145930571698,0.19514280851948182,0.18309834469853556,0.16832464654503138,0.15364884373216903,0.14144548209501306,0.1333394040115385,0.13045184984693822,0.13333940401153846,0.14144548209501412,0.15364884373216792,0.16832464654503307,0.1830983446985363,0.19514280851948124,0.20191659438460702,0.2019165943846056,0.19411679692374054,0.1830983446985364,0.17064724031843945,0.1590878593340507,0.15020548711928158,0.14524464043037374,0.14524464043037283,0.1502054871192815,0.15908785933405142,0.17064724031843773,0.18309834469853742,0.1941167969237403,0.20172134816406728,0.2044553842349665,0.20172134816406823,0.1951428085194793,0.18643677309140988,0.17720102801325271,0.1691264278038427,0.16346961949356775,0.1614062911221938,0.1634696194935662,0.16912642780384346,0.1772010280132546,0.18643677309141005,0.19514280851948212,0.20172134816406836,0.20523127493974985,0.20523127493974738,0.20172134816406956,0.19761709887551082,0.19220283541791153,0.1867315396052739,0.18209434058448473,0.1792656261674541,0.17926562616745445,0.18209434058448382,0.18673153960527428,0.19220283541791197,0.1976170988755112,0.20191659438460619,0.20445538423496706,0.20523127493974852,0.20445538423496698,0.20191659438460569,0.20080356609833888,0.19929302579376063,0.1973671209871267,0.19550430746926076,0.1946487004580122,0.19550430746926076,0.19736712098712772,0.19929302579376207,0.20080356609834094,0.2016714593057159,0.2019165943846066,0.20172134816406742,0.20172134816406653,0.20191659438460524,0.20167145930571617,0.21344488164280548,0.219293997809448,0.2234418846569128,0.22499733247147052,0.22344188465691173,0.21929399780944778,0.2134448816428046,0.20599274232562992,0.19761709887551113,0.19040490690805564,0.1864817482839986,0.186481748283999,0.19040490690805648,0.19761709887551232,0.2059927423256309,0.21929399780944614,0.22806070560836217,0.23334426532304658,0.23334426532304658,0.22806070560836122,0.2192939978094467,0.20881081658049555,0.1973671209871264,0.18643677309140946,0.1787498393621707,0.17616699943629208,0.17874983936217045,0.18643677309140982,0.19736712098712578,0.208810816580494,0.2234418846569124,0.23334426532304722,0.2370530329415294,0.233344265323047,0.22344188465691384,0.2102953055669795,0.19606974857696913,0.18209434058448462,0.1706472403184374,0.1645522602885742,0.16455226028857523,0.17064724031843764,0.18209434058448415,0.1960697485769667,0.21029530556697887,0.22499733247146841,0.2333442653230461,0.2333442653230463,0.22499733247146772,0.2109679959422584,0.1946510520951562,0.17810578684163117,0.1634696194935658,0.1536488437321687,0.15036555580466457,0.15364884373216778,0.1634696194935671,0.17810578684163078,0.19465105209515401,0.21096799594225984,0.22344188465691367,0.2280607056083616,0.22344188465691173,0.21096799594225873,0.19407487114097013,0.17573833495572486,0.15845672232339794,0.1452446404303729,0.13832586819704795,0.13832586819704792,0.14524464043037366,0.15845672232339836,0.1757383349557235,0.19407487114097036,0.21096799594226134,0.21929399780944778,0.2192939978094484,0.21029530556697895,0.19465105209515607,0.17573833495572266,0.15666317301043878,0.14074062183384142,0.1304518498469382,0.12689203297970356,0.13045184984693883,0.14074062183384214,0.15666317301043736,0.175738334955724,0.1946510520951564,0.21029530556698056,0.21344488164280545,0.20881081658049558,0.1960697485769665,0.17810578684163167,0.15845672232339833,0.14074062183384026,0.12778475475226814,0.12087686242790621,0.12087686242790621,0.12778475475226675,0.1407406218338416,0.15845672232339827,0.17810578684163048,0.19606974857696985,0.20881081658049544,0.20599274232563056,0.19736712098712514,0.18209434058448387,0.16346961949356573,0.145244640430373,0.13045184984693914,0.12087686242790714,0.11750234782441916,0.12087686242790625,0.13045184984693728,0.14524464043037358,0.1634696194935682,0.18209434058448482,0.19736712098712636,0.20599274232563136,0.19761709887551154,0.1864367730914109,0.17064724031843873,0.15364884373216897,0.13832586819704795,0.12689203297970217,0.12087686242790549,0.12087686242790624,0.12689203297970394,0.13832586819704795,0.153648843732169,0.17064724031843873,0.18643677309140957,0.19761709887551224,0.20167145930571642,0.19040490690805514,0.17874983936217134,0.16455226028857534,0.15036555580466238,0.13832586819704767,0.13045184984693867,0.12778475475226714,0.13045184984693883,0.13832586819704795,0.15036555580466401,0.16455226028857597,0.1787498393621716,0.19040490690805653,0.19705612721345758,0.1970561272134587,0.18648174828399836,0.17616699943629108,0.164552260288576,0.15364884373216817,0.1452446404303742,0.14074062183384098,0.14074062183384026,0.14524464043037377,0.15364884373216758,0.1645522602885754,0.1761669994362927,0.18648174828399927,0.19365807696657794,0.19628564747622815,0.19365807696657816,0.1864817482839992,0.1787498393621718,0.17064724031843828,0.1634696194935682,0.15845672232339794,0.15666317301043906,0.15845672232339772,0.1634696194935679,0.17064724031843728,0.17874983936217004,0.18648174828399963,0.1924349804379722,0.1956466691429509,0.1956466691429504,0.19243498043797247,0.1904049069080553,0.1864367730914111,0.18209434058448462,0.1781057868416317,0.17573833495572383,0.17573833495572413,0.17810578684163073,0.1820943405844849,0.18643677309141093,0.19040490690805606,0.19365807696657777,0.1956466691429503,0.1962499098562567,0.1956466691429503,0.19365807696657766,0.19761709887551235,0.1973671209871268,0.1960697485769665,0.19465105209515482,0.19407487114096958,0.19465105209515624,0.19606974857696957,0.19736712098712691,0.19761709887551188,0.19705612721345597,0.19628564747622798,0.1956466691429512,0.1956466691429512,0.1962856474762275,0.19705612721345725,0.205992742325631,0.20881081658049583,0.21029530556697978,0.21096799594225873,0.21096799594226057,0.2102953055669803,0.20881081658049516,0.20599274232562953,0.2016714593057162,0.19705612721345686,0.19365807696657578,0.19243498043797183,0.19365807696657794,0.19705612721345783,0.20167145930571562,0.23225001650537044,0.24412000319070404,0.25135686667868207,0.25135686667867896,0.24412000319070404,0.23225001650537092,0.21929399780944922,0.20688078943179006,0.19514280851948096,0.18648174828399955,0.18355677524051178,0.18648174828399977,0.19514280851948174,0.20688078943179006,0.21929399780944683,0.24412000319070717,0.2575407189122746,0.26257594221162406,0.25754071891227415,0.24412000319070562,0.2269090621038506,0.21029530556697906,0.19550430746926356,0.1830983446985356,0.17616699943629255,0.1761669994362909,0.18309834469853534,0.19550430746926264,0.21029530556698017,0.22690906210385162,0.2513568666786806,0.26257594221162345,0.2625759422116244,0.2513568666786826,0.23277420007360403,0.21265466264283722,0.19465105209515535,0.17926562616745534,0.16832464654503124,0.1645522602885759,0.16832464654503285,0.17926562616745498,0.1946510520951562,0.21265466264283409,0.23277420007360247,0.25135686667868123,0.2575407189122749,0.2513568666786803,0.2350118455147719,0.2140585231495353,0.1936586284679807,0.17573833495572433,0.16140629112219376,0.1536488437321689,0.15364884373216886,0.1614062911221944,0.17573833495572308,0.19365862846798118,0.21405852314953389,0.23501184551477156,0.24412000319070398,0.24412000319070365,0.23277420007360172,0.21405852314953297,0.19325389239816582,0.1735864452990079,0.15666317301043808,0.1452446404303729,0.14144548209501295,0.1452446404303741,0.1566631730104376,0.17358644529900594,0.1932538923981659,0.21405852314953314,0.23277420007360397,0.23225001650536975,0.22690906210385223,0.21265466264283509,0.19365862846798132,0.17358644529900513,0.1549874602998254,0.14074062183384126,0.13333940401153904,0.13333940401153885,0.1407406218338416,0.15498746029982505,0.17358644529900774,0.19365862846798082,0.21265466264283653,0.22690906210385256,0.2192939978094468,0.21029530556698106,0.1946510520951562,0.17573833495572314,0.15666317301043756,0.14074062183384117,0.13045184984693778,0.12689203297970342,0.13045184984693733,0.1407406218338392,0.15666317301043833,0.17573833495572438,0.19465105209515524,0.21029530556698056,0.21929399780944903,0.20688078943178967,0.19550430746926087,0.17926562616745476,0.16140629112219515,0.14524464043037355,0.13333940401153882,0.12689203297970247,0.12689203297970245,0.1333394040115393,0.1452446404303728,0.16140629112219457,0.17926562616745545,0.19550430746926178,0.20688078943179036,0.2109450160200587,0.19514280851947907,0.18309834469853556,0.1683246465450324,0.15364884373217014,0.14144548209501345,0.1333394040115388,0.13045184984693858,0.1333394040115393,0.14144548209501306,0.15364884373216986,0.16832464654503188,0.18309834469853586,0.19514280851948124,0.2019165943846061,0.20191659438460557,0.18648174828399913,0.1761669994362907,0.16455226028857492,0.15364884373216864,0.14524464043037272,0.14074062183384112,0.14074062183383948,0.14524464043037374,0.15364884373216844,0.16455226028857575,0.17616699943629205,0.1864817482839997,0.19365807696657897,0.1962856474762272,0.1936580769665775,0.18355677524051306,0.176166999436291,0.1683246465450319,0.16140629112219312,0.15666317301043908,0.15498746029982466,0.15666317301043928,0.16140629112219548,0.1683246465450318,0.17616699943629174,0.1835567752405133,0.18912354833380854,0.19208137319756596,0.19208137319756638,0.18912354833381068,0.18648174828400027,0.1830983446985364,0.1792656261674544,0.1757383349557247,0.17358644529900683,0.17358644529900455,0.17573833495572524,0.17926562616745514,0.1830983446985375,0.18648174828399933,0.18912354833380968,0.19064807901069533,0.1910763320998154,0.1906480790106957,0.18912354833381065,0.19514280851948182,0.19550430746926187,0.19465105209515463,0.1936586284679811,0.1932538923981659,0.19365862846798265,0.19465105209515599,0.1955043074692632,0.19514280851948176,0.19365807696657777,0.19208137319756588,0.19107633209981412,0.1910763320998152,0.19208137319756638,0.19365807696657622,0.2068807894317887,0.2102953055669789,0.21265466264283564,0.21405852314953394,0.21405852314953475,0.21265466264283578,0.21029530556697906,0.2068807894317883,0.20191659438460646,0.196285647476228,0.19208137319756524,0.19064807901069536,0.19208137319756524,0.19628564747622793,0.20191659438460535,0.21929399780944697,0.22690906210385078,0.23277420007360164,0.23501184551476997,0.23277420007360525,0.22690906210385187,0.21929399780944694,0.2109450160200589,0.20191659438460616,0.19365807696657725,0.1891235483338091,0.1891235483338105,0.19365807696657827,0.2019165943846059,0.2109450160200576,0.2660132078740081,0.2826709867143401,0.2888668104824277,0.2826709867143387,0.26601320787400906,0.24412000319070404,0.223441884656913,0.2070304301893204,0.19411679692373968,0.18648174828399883,0.1864817482839991,0.19411679692374112,0.20703043018931971,0.22344188465691253,0.24412000319070387,0.28267098671434093,0.2968268522560337,0.2968268522560342,0.2826709867143414,0.25888751750960315,0.2327742000736026,0.21096799594225882,0.1946487004580118,0.18309834469853684,0.17874983936217081,0.18309834469853584,0.19464870045801203,0.2109679959422593,0.23277420007360308,0.25888751750960093,0.2888668104824273,0.29682685225603345,0.2888668104824273,0.2676904601781195,0.24006542158623415,0.21405852314953436,0.1940748711409692,0.17926562616745303,0.17064724031843795,0.17064724031843873,0.17926562616745545,0.19407487114097027,0.21405852314953563,0.24006542158623592,0.26769046017811693,0.28267098671434054,0.28267098671434054,0.26769046017811793,0.24281218221653653,0.21586004708001943,0.19325389239816534,0.17573833495572394,0.16346961949356587,0.1590878593340493,0.16346961949356584,0.1757383349557246,0.1932538923981675,0.21586004708001671,0.24281218221653544,0.267690460178119,0.2660132078740078,0.25888751750960215,0.2400654215862357,0.2158600470800182,0.19283564669282036,0.17358644529900571,0.15845672232339786,0.1502054871192828,0.15020548711928353,0.1584567223233976,0.17358644529900513,0.19283564669282025,0.21586004708001832,0.24006542158623617,0.25888751750960215,0.2441200031907052,0.23277420007360172,0.21405852314953386,0.19325389239816643,0.17358644529900594,0.15666317301043936,0.14524464043037433,0.1414454820950133,0.14524464043037255,0.15666317301043883,0.17358644529900782,0.19325389239816532,0.2140585231495359,0.23277420007360308,0.24412000319070523,0.22344188465691098,0.2109679959422604,0.19407487114096827,0.17573833495572533,0.1584567223233984,0.14524464043037355,0.1383258681970472,0.13832586819704795,0.14524464043037355,0.15845672232339858,0.175738334955725,0.19407487114097036,0.21096799594226023,0.22344188465691367,0.2280607056083609,0.20703043018931996,0.19464870045801133,0.1792656261674533,0.163469619493566,0.1502054871192819,0.14144548209501412,0.13832586819704795,0.14144548209501273,0.1502054871192816,0.16346961949356542,0.17926562616745373,0.1946487004580115,0.2070304301893208,0.2139989298176789,0.21399892981767998,0.19411679692374076,0.18309834469853678,0.17064724031843845,0.15908785933405029,0.15020548711928172,0.1452446404303729,0.145244640430374,0.15020548711928153,0.15908785933404967,0.1706472403184383,0.18309834469853678,0.19411679692374112,0.20172134816406714,0.2044553842349669,0.20172134816406848,0.18648174828399836,0.17874983936217212,0.17064724031843787,0.1634696194935678,0.1584567223233977,0.1566631730104379,0.15845672232339797,0.1634696194935678,0.17064724031843773,0.17874983936217076,0.18648174828399985,0.1924349804379707,0.19564666914295045,0.1956466691429503,0.19243498043797058,0.18648174828399908,0.18309834469853697,0.17926562616745448,0.17573833495572483,0.17358644529900583,0.17358644529900602,0.17573833495572574,0.17926562616745395,0.18309834469853614,0.18648174828399908,0.18912354833380923,0.1906480790106947,0.19107633209981545,0.1906480790106962,0.1891235483338102,0.1941167969237402,0.19464870045801153,0.19407487114096875,0.1932538923981669,0.19283564669282202,0.19325389239816607,0.19407487114096886,0.1946487004580125,0.19411679692374015,0.19243498043797025,0.1906480790106961,0.18951929119398683,0.18951929119398767,0.1906480790106952,0.19243498043797158,0.20703043018932035,0.21096799594225996,0.2140585231495336,0.21586004708001671,0.21586004708001555,0.2140585231495358,0.21096799594226026,0.20703043018931946,0.20172134816406867,0.1956466691429512,0.19107633209981384,0.18951929119398794,0.1910763320998141,0.1956466691429522,0.2017213481640686,0.2234418846569122,0.23277420007360422,0.24006542158623534,0.24281218221653564,0.24006542158623412,0.2327742000736035,0.22344188465691062,0.21399892981767854,0.20445538423496865,0.19564666914295067,0.19064807901069536,0.1906480790106972,0.1956466691429521,0.20445538423496612,0.2139989298176798,0.24412000319070618,0.2588875175096023,0.2676904601781188,0.26769046017811826,0.25888751750960126,0.2441200031907059,0.2280607056083631,0.21399892981767984,0.2017213481640674,0.19243498043797136,0.18912354833380943,0.19243498043797191,0.20172134816406753,0.21399892981767787,0.22806070560836286,0.3106753808942452,0.32754543692759164,0.32754543692759247,0.310675380894248,0.2826709867143396,0.25135686667868057,0.224997332471468,0.20703043018932177,0.19514280851948096,0.19040490690805756,0.19514280851947996,0.2070304301893188,0.22499733247146916,0.2513568666786802,0.28267098671433827,0.32754543692759164,0.33748850678112335,0.32754543692758953,0.301529751546159,0.26769046017811854,0.23501184551477153,0.2109679959422599,0.19550430746926392,0.18643677309141105,0.18643677309141107,0.19550430746926226,0.21096799594225854,0.2350118455147725,0.2676904601781168,0.301529751546159,0.3275454369275939,0.3275454369275913,0.30860331273208985,0.27735318386757035,0.24281218221653436,0.21405852314953566,0.19465105209515543,0.1820943405844846,0.17720102801325294,0.18209434058448543,0.19465105209515504,0.21405852314953422,0.242812182216536,0.2773531838675711,0.30860331273208985,0.310675380894247,0.30152975154615874,0.27735318386757035,0.24572248063915744,0.21586004708001882,0.1936586284679807,0.1781057868416301,0.16912642780384332,0.16912642780384354,0.17810578684163103,0.1936586284679811,0.21586004708001882,0.24572248063915586,0.2773531838675711,0.3015297515461584,0.2826709867143416,0.26769046017811793,0.24281218221653586,0.21586004708001982,0.1932538923981676,0.17573833495572455,0.16346961949356567,0.15908785933404967,0.16346961949356875,0.17573833495572416,0.1932538923981653,0.215860047080018,0.24281218221653467,0.26769046017811793,0.28267098671433893,0.2513568666786804,0.23501184551477217,0.2140585231495349,0.19365862846798035,0.17573833495572355,0.16140629112219518,0.15364884373216944,0.1536488437321689,0.1614062911221946,0.17573833495572377,0.19365862846798101,0.2140585231495351,0.23501184551477258,0.25135686667868073,0.25754071891227504,0.22499733247146902,0.21096799594225976,0.19465105209515512,0.17810578684163111,0.16346961949356573,0.1536488437321687,0.15036555580466388,0.15364884373216947,0.16346961949356756,0.1781057868416296,0.19465105209515632,0.2109679959422589,0.22499733247146866,0.23334426532304528,0.23334426532304495,0.2070304301893189,0.1955043074692626,0.18209434058448315,0.1691264278038426,0.15908785933405112,0.15364884373216878,0.15364884373216942,0.15908785933405076,0.16912642780384238,0.18209434058448373,0.19550430746926187,0.20703043018932038,0.21503380107429312,0.21792226071093138,0.21503380107429287,0.19514280851947965,0.18643677309140866,0.1772010280132528,0.16912642780384307,0.16346961949356678,0.16140629112219385,0.16346961949356723,0.16912642780384257,0.1772010280132528,0.1864367730914101,0.19514280851947863,0.201721348164068,0.20523127493974933,0.20523127493974802,0.20172134816406653,0.19040490690805575,0.1864367730914101,0.18209434058448565,0.1781057868416301,0.17573833495572358,0.17573833495572402,0.17810578684163067,0.18209434058448354,0.18643677309141032,0.1904049069080559,0.19365807696657872,0.19564666914295195,0.1962499098562535,0.195646669142952,0.19365807696657786,0.19514280851948163,0.19550430746926253,0.19465105209515518,0.19365862846798124,0.1932538923981667,0.19365862846798082,0.19465105209515624,0.19550430746926187,0.19514280851948132,0.19365807696657755,0.19208137319756766,0.1910763320998128,0.19107633209981428,0.192081373197567,0.193658076966579,0.20703043018931996,0.21096799594225982,0.2140585231495343,0.21586004708001608,0.21586004708001832,0.21405852314953566,0.21096799594225854,0.2070304301893207,0.20172134816406762,0.195646669142953,0.19107633209981362,0.18951929119398678,0.19107633209981356,0.19564666914295192,0.20172134816406725,0.22499733247146847,0.23501184551477228,0.24281218221653558,0.24572248063915703,0.24281218221653544,0.23501184551477147,0.2249973324714667,0.2150338010742919,0.2052312749397493,0.1962499098562549,0.19107633209981448,0.19107633209981362,0.196249909856257,0.20523127493974921,0.21503380107429407,0.25135686667868085,0.26769046017811793,0.27735318386757035,0.27735318386757035,0.2676904601781188,0.2513568666786801,0.23334426532304692,0.2179222607109299,0.20523127493974833,0.19564666914295206,0.19208137319756705,0.19564666914295206,0.20523127493974747,0.2179222607109294,0.23334426532304686,0.28267098671434093,0.30152975154615913,0.3086033127320847,0.30152975154616124,0.2826709867143394,0.25754071891227426,0.23334426532304522,0.21503380107429362,0.20172134816406853,0.19365807696657786,0.19365807696657633,0.20172134816406823,0.2150338010742928,0.23334426532304803,0.257540718912275,0.3579374015012384,0.3695953138987048,0.3579374015012384,0.3275454369275879,0.2888668104824267,0.25135686667868035,0.22344188465691253,0.20688078943178878,0.19761709887551132,0.19761709887551246,0.20688078943178803,0.2234418846569116,0.2513568666786797,0.2888668104824257,0.3275454369275939,0.36959531389870404,0.36959531389870276,0.3463151478427179,0.308603312732086,0.26769046017811676,0.23277420007360272,0.21029530556697965,0.19736712098712722,0.1922028354179115,0.19736712098712622,0.21029530556697992,0.23277420007360342,0.26769046017811765,0.3086033127320879,0.3463151478427178,0.3579374015012426,0.34631514784271944,0.31605864651254734,0.2773531838675668,0.24006542158623517,0.21265466264283503,0.19606974857697015,0.18673153960527306,0.18673153960527336,0.1960697485769684,0.21265466264283567,0.24006542158623598,0.27735318386757146,0.3160586465125461,0.3463151478427155,0.32754543692758953,0.30860331273208674,0.27735318386757185,0.242812182216536,0.2140585231495349,0.1946510520951545,0.182094340584484,0.1772010280132528,0.18209434058448473,0.19465105209515426,0.21405852314953297,0.242812182216536,0.27735318386757085,0.30860331273208624,0.3275454369275928,0.2888668104824276,0.26769046017811704,0.2400654215862344,0.21405852314953314,0.1940748711409689,0.17926562616745473,0.1706472403184381,0.17064724031843792,0.17926562616745664,0.19407487114096986,0.2140585231495358,0.24006542158623537,0.26769046017811765,0.2888668104824273,0.2968268522560347,0.25135686667868234,0.23277420007360308,0.21265466264283647,0.19465105209515446,0.1792656261674551,0.16832464654503174,0.16455226028857634,0.16832464654503168,0.1792656261674562,0.19465105209515635,0.21265466264283742,0.23277420007360308,0.25135686667867996,0.2625759422116239,0.26257594221162417,0.22344188465691014,0.21029530556698187,0.19606974857696952,0.18209434058448395,0.17064724031843806,0.1645522602885755,0.1645522602885748,0.17064724031843814,0.1820943405844831,0.19606974857696868,0.21029530556698062,0.2234418846569116,0.23334426532304461,0.23705303294153096,0.2333442653230453,0.20688078943178886,0.19736712098712597,0.18673153960527372,0.17720102801325316,0.1706472403184386,0.16832464654503257,0.1706472403184384,0.17720102801325416,0.1867315396052737,0.19736712098712658,0.2068807894317884,0.21399892981767826,0.21792226071093038,0.21792226071093138,0.2139989298176782,0.19761709887551288,0.19220283541791103,0.18673153960527436,0.18209434058448468,0.17926562616745476,0.17926562616745484,0.18209434058448484,0.18673153960527356,0.1922028354179102,0.19761709887551113,0.20191659438460685,0.20445538423496562,0.20523127493974905,0.2044553842349665,0.20191659438460685,0.19761709887551263,0.19736712098712636,0.1960697485769693,0.1946510520951556,0.19407487114096997,0.19465105209515646,0.19606974857696924,0.1973671209871284,0.19761709887551254,0.19705612721345683,0.19628564747622895,0.19564666914295004,0.19564666914295095,0.19628564747622887,0.19705612721345753,0.20688078943178892,0.21029530556698056,0.21265466264283722,0.21405852314953427,0.2140585231495343,0.21265466264283478,0.2102953055669814,0.2068807894317893,0.20191659438460674,0.19628564747622965,0.19208137319756502,0.1906480790106972,0.19208137319756619,0.1962856474762282,0.2019165943846064,0.22344188465691173,0.2327742000736037,0.2400654215862355,0.24281218221653542,0.24006542158623503,0.23277420007360267,0.22344188465691253,0.21399892981767965,0.20445538423496684,0.1956466691429511,0.19064807901069566,0.19064807901069566,0.19564666914295256,0.2044553842349686,0.2139989298176797,0.2513568666786808,0.2676904601781177,0.2773531838675708,0.2773531838675708,0.267690460178118,0.25135686667867946,0.23334426532304592,0.21792226071093077,0.20523127493974933,0.1956466691429498,0.19208137319756743,0.1956466691429509,0.20523127493975096,0.2179222607109309,0.23334426532304708,0.28886681048242613,0.3086033127320867,0.31605864651254495,0.3086033127320863,0.2888668104824269,0.2625759422116253,0.23705303294153054,0.21792226071093038,0.20445538423496706,0.19628564747622818,0.19628564747622698,0.2044553842349664,0.21792226071093113,0.23705303294153077,0.2625759422116256,0.3275454369275913,0.34631514784271694,0.34631514784271694,0.32754543692758936,0.29682685225603606,0.26257594221162484,0.23334426532304592,0.2139989298176799,0.2019165943846061,0.19705612721345986,0.2019165943846068,0.21399892981767793,0.23334426532304584,0.2625759422116234,0.2968268522560342,0.3950208431974357,0.3950208431974357,0.3695953138987048,0.32754543692759275,0.2826709867143382,0.24412000319070534,0.21929399780944708,0.20599274232563083,0.2008035660983407,0.20599274232563167,0.21929399780944903,0.24412000319070556,0.2826709867143414,0.3275454369275913,0.3695953138987054,0.39502084319743597,0.38179932027360547,0.34631514784271716,0.3015297515461577,0.25888751750960304,0.22690906210385117,0.20881081658049505,0.19929302579376293,0.1992930257937622,0.20881081658049347,0.2269090621038513,0.2588875175096013,0.3015297515461577,0.3463151478427199,0.38179932027360547,0.36959531389870404,0.34631514784271716,0.3086033127320873,0.26769046017811704,0.2327742000736023,0.21029530556697992,0.19736712098712697,0.19220283541791125,0.19736712098712628,0.21029530556697937,0.23277420007360206,0.2676904601781175,0.3086033127320882,0.3463151478427198,0.3695953138987054,0.32754543692758936,0.301529751546159,0.2676904601781186,0.23501184551477153,0.21096799594225846,0.19550430746926303,0.1864367730914099,0.18643677309140974,0.19550430746926228,0.21096799594225935,0.23501184551477072,0.2676904601781176,0.3015297515461601,0.3275454369275906,0.33748850678112163,0.2826709867143411,0.25888751750960226,0.23277420007360275,0.21096799594225835,0.1946487004580125,0.18309834469853614,0.17874983936217106,0.18309834469853556,0.19464870045801072,0.21096799594225982,0.2327742000736035,0.25888751750960187,0.2826709867143382,0.29682685225603417,0.2968268522560342,0.24412000319070604,0.2269090621038512,0.21029530556697926,0.19550430746926262,0.18309834469853467,0.17616699943629166,0.1761669994362912,0.1830983446985363,0.19550430746926123,0.21029530556697973,0.2269090621038522,0.2441200031907051,0.25754071891227526,0.2625759422116245,0.2575407189122742,0.2192939978094473,0.208810816580496,0.19736712098712714,0.1864367730914099,0.17874983936217012,0.1761669994362911,0.17874983936217104,0.18643677309140957,0.19736712098712494,0.20881081658049508,0.2192939978094473,0.2280607056083619,0.23334426532304753,0.23334426532304603,0.22806070560836147,0.20599274232562909,0.19929302579376407,0.19220283541791194,0.1864367730914088,0.18309834469853467,0.18309834469853511,0.1864367730914111,0.1922028354179114,0.19929302579376285,0.20599274232563056,0.2109450160200574,0.21399892981767726,0.21503380107429318,0.21399892981767854,0.21094501602005877,0.20080356609834016,0.1992930257937626,0.19736712098712564,0.19550430746926267,0.19464870045801017,0.1955043074692613,0.19736712098712667,0.1992930257937624,0.20080356609834077,0.20167145930571814,0.2019165943846063,0.20172134816406737,0.20172134816406898,0.2019165943846057,0.201671459305718,0.20599274232563008,0.20881081658049466,0.21029530556698064,0.2109679959422601,0.21096799594225774,0.21029530556697984,0.20881081658049552,0.20599274232562978,0.20167145930571534,0.19705612721345805,0.19365807696657708,0.1924349804379707,0.19365807696657722,0.19705612721345717,0.20167145930571456,0.2192939978094473,0.2269090621038506,0.23277420007360416,0.23501184551477006,0.23277420007360272,0.22690906210385145,0.2192939978094468,0.21094501602005813,0.20191659438460638,0.1936580769665774,0.1891235483338087,0.18912354833380987,0.1936580769665777,0.20191659438460674,0.21094501602005938,0.24412000319070343,0.25888751750960254,0.26769046017811826,0.2676904601781169,0.25888751750960104,0.24412000319070462,0.22806070560836436,0.21399892981767984,0.2017213481640692,0.19243498043796978,0.18912354833381054,0.19243498043797225,0.20172134816406842,0.2139989298176781,0.22806070560836395,0.28267098671433966,0.30152975154616124,0.30860331273208674,0.30152975154615785,0.28267098671434016,0.25754071891227437,0.23334426532304742,0.21503380107429312,0.20172134816406806,0.19365807696657636,0.19365807696657755,0.20172134816406817,0.21503380107429285,0.23334426532304564,0.2575407189122732,0.327545436927591,0.3463151478427178,0.34631514784271844,0.32754543692758953,0.2968268522560331,0.2625759422116232,0.2333442653230463,0.21399892981767965,0.20191659438460535,0.1970561272134573,0.20191659438460774,0.21399892981767782,0.23334426532304672,0.26257594221162417,0.2968268522560349,0.369595313898708,0.38179932027360597,0.369595313898708,0.337488506781124,0.2968268522560383,0.25754071891227287,0.22806070560836314,0.2109450160200564,0.20167145930571634,0.20167145930571825,0.21094501602005686,0.22806070560835998,0.25754071891227603,0.29682685225603744,0.33748850678112635],\"x\":[0,0,0,0,0,0,0,0,0,0,0,0,0,0,0,0,0,0,0,0,0,0,0,0,0,0,0,0,0,0,0,0,0,0,0,0,0,0,0,0,0,0,0,0,0,0,0,0,0,0,0,0,0,0,0,0,0,0,0,0,0,0,0,0,0,0,0,0,0,0,0,0,0,0,0,0,0,0,0,0,0,0,0,0,0,0,0,0,0,0,0,0,0,0,0,0,0,0,0,0,0,0,0,0,0,0,0,0,0,0,0,0,0,0,0,0,0,0,0,0,0,0,0,0,0,0,0,0,0,0,0,0,0,0,0,0,0,0,0,0,0,0,0,0,0,0,0,0,0,0,0,0,0,0,0,0,0,0,0,0,0,0,0,0,0,0,0,0,0,0,0,0,0,0,0,0,0,0,0,0,0,0,0,0,0,0,0,0,0,0,0,0,0,0,0,0,0,0,0,0,0,0,0,0,0,0,0,0,0,0,0,0,0,0,0,0,0,0,0,0,0,0,0,0,0,1,1,1,1,1,1,1,1,1,1,1,1,1,1,1,1,1,1,1,1,1,1,1,1,1,1,1,1,1,1,1,1,1,1,1,1,1,1,1,1,1,1,1,1,1,1,1,1,1,1,1,1,1,1,1,1,1,1,1,1,1,1,1,1,1,1,1,1,1,1,1,1,1,1,1,1,1,1,1,1,1,1,1,1,1,1,1,1,1,1,1,1,1,1,1,1,1,1,1,1,1,1,1,1,1,1,1,1,1,1,1,1,1,1,1,1,1,1,1,1,1,1,1,1,1,1,1,1,1,1,1,1,1,1,1,1,1,1,1,1,1,1,1,1,1,1,1,1,1,1,1,1,1,1,1,1,1,1,1,1,1,1,1,1,1,1,1,1,1,1,1,1,1,1,1,1,1,1,1,1,1,1,1,1,1,1,1,1,1,1,1,1,1,1,1,1,1,1,1,1,1,1,1,1,1,1,1,1,1,1,1,1,1,1,1,1,1,1,1,1,1,1,1,1,1,2,2,2,2,2,2,2,2,2,2,2,2,2,2,2,2,2,2,2,2,2,2,2,2,2,2,2,2,2,2,2,2,2,2,2,2,2,2,2,2,2,2,2,2,2,2,2,2,2,2,2,2,2,2,2,2,2,2,2,2,2,2,2,2,2,2,2,2,2,2,2,2,2,2,2,2,2,2,2,2,2,2,2,2,2,2,2,2,2,2,2,2,2,2,2,2,2,2,2,2,2,2,2,2,2,2,2,2,2,2,2,2,2,2,2,2,2,2,2,2,2,2,2,2,2,2,2,2,2,2,2,2,2,2,2,2,2,2,2,2,2,2,2,2,2,2,2,2,2,2,2,2,2,2,2,2,2,2,2,2,2,2,2,2,2,2,2,2,2,2,2,2,2,2,2,2,2,2,2,2,2,2,2,2,2,2,2,2,2,2,2,2,2,2,2,2,2,2,2,2,2,2,2,2,2,2,2,2,2,2,2,2,2,2,2,2,2,2,2,2,2,2,2,2,2,3,3,3,3,3,3,3,3,3,3,3,3,3,3,3,3,3,3,3,3,3,3,3,3,3,3,3,3,3,3,3,3,3,3,3,3,3,3,3,3,3,3,3,3,3,3,3,3,3,3,3,3,3,3,3,3,3,3,3,3,3,3,3,3,3,3,3,3,3,3,3,3,3,3,3,3,3,3,3,3,3,3,3,3,3,3,3,3,3,3,3,3,3,3,3,3,3,3,3,3,3,3,3,3,3,3,3,3,3,3,3,3,3,3,3,3,3,3,3,3,3,3,3,3,3,3,3,3,3,3,3,3,3,3,3,3,3,3,3,3,3,3,3,3,3,3,3,3,3,3,3,3,3,3,3,3,3,3,3,3,3,3,3,3,3,3,3,3,3,3,3,3,3,3,3,3,3,3,3,3,3,3,3,3,3,3,3,3,3,3,3,3,3,3,3,3,3,3,3,3,3,3,3,3,3,3,3,3,3,3,3,3,3,3,3,3,3,3,3,3,3,3,3,3,3,4,4,4,4,4,4,4,4,4,4,4,4,4,4,4,4,4,4,4,4,4,4,4,4,4,4,4,4,4,4,4,4,4,4,4,4,4,4,4,4,4,4,4,4,4,4,4,4,4,4,4,4,4,4,4,4,4,4,4,4,4,4,4,4,4,4,4,4,4,4,4,4,4,4,4,4,4,4,4,4,4,4,4,4,4,4,4,4,4,4,4,4,4,4,4,4,4,4,4,4,4,4,4,4,4,4,4,4,4,4,4,4,4,4,4,4,4,4,4,4,4,4,4,4,4,4,4,4,4,4,4,4,4,4,4,4,4,4,4,4,4,4,4,4,4,4,4,4,4,4,4,4,4,4,4,4,4,4,4,4,4,4,4,4,4,4,4,4,4,4,4,4,4,4,4,4,4,4,4,4,4,4,4,4,4,4,4,4,4,4,4,4,4,4,4,4,4,4,4,4,4,4,4,4,4,4,4,4,4,4,4,4,4,4,4,4,4,4,4,4,4,4,4,4,4,5,5,5,5,5,5,5,5,5,5,5,5,5,5,5,5,5,5,5,5,5,5,5,5,5,5,5,5,5,5,5,5,5,5,5,5,5,5,5,5,5,5,5,5,5,5,5,5,5,5,5,5,5,5,5,5,5,5,5,5,5,5,5,5,5,5,5,5,5,5,5,5,5,5,5,5,5,5,5,5,5,5,5,5,5,5,5,5,5,5,5,5,5,5,5,5,5,5,5,5,5,5,5,5,5,5,5,5,5,5,5,5,5,5,5,5,5,5,5,5,5,5,5,5,5,5,5,5,5,5,5,5,5,5,5,5,5,5,5,5,5,5,5,5,5,5,5,5,5,5,5,5,5,5,5,5,5,5,5,5,5,5,5,5,5,5,5,5,5,5,5,5,5,5,5,5,5,5,5,5,5,5,5,5,5,5,5,5,5,5,5,5,5,5,5,5,5,5,5,5,5,5,5,5,5,5,5,5,5,5,5,5,5,5,5,5,5,5,5,5,5,5,5,5,5,6,6,6,6,6,6,6,6,6,6,6,6,6,6,6,6,6,6,6,6,6,6,6,6,6,6,6,6,6,6,6,6,6,6,6,6,6,6,6,6,6,6,6,6,6,6,6,6,6,6,6,6,6,6,6,6,6,6,6,6,6,6,6,6,6,6,6,6,6,6,6,6,6,6,6,6,6,6,6,6,6,6,6,6,6,6,6,6,6,6,6,6,6,6,6,6,6,6,6,6,6,6,6,6,6,6,6,6,6,6,6,6,6,6,6,6,6,6,6,6,6,6,6,6,6,6,6,6,6,6,6,6,6,6,6,6,6,6,6,6,6,6,6,6,6,6,6,6,6,6,6,6,6,6,6,6,6,6,6,6,6,6,6,6,6,6,6,6,6,6,6,6,6,6,6,6,6,6,6,6,6,6,6,6,6,6,6,6,6,6,6,6,6,6,6,6,6,6,6,6,6,6,6,6,6,6,6,6,6,6,6,6,6,6,6,6,6,6,6,6,6,6,6,6,6,7,7,7,7,7,7,7,7,7,7,7,7,7,7,7,7,7,7,7,7,7,7,7,7,7,7,7,7,7,7,7,7,7,7,7,7,7,7,7,7,7,7,7,7,7,7,7,7,7,7,7,7,7,7,7,7,7,7,7,7,7,7,7,7,7,7,7,7,7,7,7,7,7,7,7,7,7,7,7,7,7,7,7,7,7,7,7,7,7,7,7,7,7,7,7,7,7,7,7,7,7,7,7,7,7,7,7,7,7,7,7,7,7,7,7,7,7,7,7,7,7,7,7,7,7,7,7,7,7,7,7,7,7,7,7,7,7,7,7,7,7,7,7,7,7,7,7,7,7,7,7,7,7,7,7,7,7,7,7,7,7,7,7,7,7,7,7,7,7,7,7,7,7,7,7,7,7,7,7,7,7,7,7,7,7,7,7,7,7,7,7,7,7,7,7,7,7,7,7,7,7,7,7,7,7,7,7,7,7,7,7,7,7,7,7,7,7,7,7,7,7,7,7,7,7,8,8,8,8,8,8,8,8,8,8,8,8,8,8,8,8,8,8,8,8,8,8,8,8,8,8,8,8,8,8,8,8,8,8,8,8,8,8,8,8,8,8,8,8,8,8,8,8,8,8,8,8,8,8,8,8,8,8,8,8,8,8,8,8,8,8,8,8,8,8,8,8,8,8,8,8,8,8,8,8,8,8,8,8,8,8,8,8,8,8,8,8,8,8,8,8,8,8,8,8,8,8,8,8,8,8,8,8,8,8,8,8,8,8,8,8,8,8,8,8,8,8,8,8,8,8,8,8,8,8,8,8,8,8,8,8,8,8,8,8,8,8,8,8,8,8,8,8,8,8,8,8,8,8,8,8,8,8,8,8,8,8,8,8,8,8,8,8,8,8,8,8,8,8,8,8,8,8,8,8,8,8,8,8,8,8,8,8,8,8,8,8,8,8,8,8,8,8,8,8,8,8,8,8,8,8,8,8,8,8,8,8,8,8,8,8,8,8,8,8,8,8,8,8,8,9,9,9,9,9,9,9,9,9,9,9,9,9,9,9,9,9,9,9,9,9,9,9,9,9,9,9,9,9,9,9,9,9,9,9,9,9,9,9,9,9,9,9,9,9,9,9,9,9,9,9,9,9,9,9,9,9,9,9,9,9,9,9,9,9,9,9,9,9,9,9,9,9,9,9,9,9,9,9,9,9,9,9,9,9,9,9,9,9,9,9,9,9,9,9,9,9,9,9,9,9,9,9,9,9,9,9,9,9,9,9,9,9,9,9,9,9,9,9,9,9,9,9,9,9,9,9,9,9,9,9,9,9,9,9,9,9,9,9,9,9,9,9,9,9,9,9,9,9,9,9,9,9,9,9,9,9,9,9,9,9,9,9,9,9,9,9,9,9,9,9,9,9,9,9,9,9,9,9,9,9,9,9,9,9,9,9,9,9,9,9,9,9,9,9,9,9,9,9,9,9,9,9,9,9,9,9,9,9,9,9,9,9,9,9,9,9,9,9,9,9,9,9,9,9,10,10,10,10,10,10,10,10,10,10,10,10,10,10,10,10,10,10,10,10,10,10,10,10,10,10,10,10,10,10,10,10,10,10,10,10,10,10,10,10,10,10,10,10,10,10,10,10,10,10,10,10,10,10,10,10,10,10,10,10,10,10,10,10,10,10,10,10,10,10,10,10,10,10,10,10,10,10,10,10,10,10,10,10,10,10,10,10,10,10,10,10,10,10,10,10,10,10,10,10,10,10,10,10,10,10,10,10,10,10,10,10,10,10,10,10,10,10,10,10,10,10,10,10,10,10,10,10,10,10,10,10,10,10,10,10,10,10,10,10,10,10,10,10,10,10,10,10,10,10,10,10,10,10,10,10,10,10,10,10,10,10,10,10,10,10,10,10,10,10,10,10,10,10,10,10,10,10,10,10,10,10,10,10,10,10,10,10,10,10,10,10,10,10,10,10,10,10,10,10,10,10,10,10,10,10,10,10,10,10,10,10,10,10,10,10,10,10,10,10,10,10,10,10,10,11,11,11,11,11,11,11,11,11,11,11,11,11,11,11,11,11,11,11,11,11,11,11,11,11,11,11,11,11,11,11,11,11,11,11,11,11,11,11,11,11,11,11,11,11,11,11,11,11,11,11,11,11,11,11,11,11,11,11,11,11,11,11,11,11,11,11,11,11,11,11,11,11,11,11,11,11,11,11,11,11,11,11,11,11,11,11,11,11,11,11,11,11,11,11,11,11,11,11,11,11,11,11,11,11,11,11,11,11,11,11,11,11,11,11,11,11,11,11,11,11,11,11,11,11,11,11,11,11,11,11,11,11,11,11,11,11,11,11,11,11,11,11,11,11,11,11,11,11,11,11,11,11,11,11,11,11,11,11,11,11,11,11,11,11,11,11,11,11,11,11,11,11,11,11,11,11,11,11,11,11,11,11,11,11,11,11,11,11,11,11,11,11,11,11,11,11,11,11,11,11,11,11,11,11,11,11,11,11,11,11,11,11,11,11,11,11,11,11,11,11,11,11,11,11,12,12,12,12,12,12,12,12,12,12,12,12,12,12,12,12,12,12,12,12,12,12,12,12,12,12,12,12,12,12,12,12,12,12,12,12,12,12,12,12,12,12,12,12,12,12,12,12,12,12,12,12,12,12,12,12,12,12,12,12,12,12,12,12,12,12,12,12,12,12,12,12,12,12,12,12,12,12,12,12,12,12,12,12,12,12,12,12,12,12,12,12,12,12,12,12,12,12,12,12,12,12,12,12,12,12,12,12,12,12,12,12,12,12,12,12,12,12,12,12,12,12,12,12,12,12,12,12,12,12,12,12,12,12,12,12,12,12,12,12,12,12,12,12,12,12,12,12,12,12,12,12,12,12,12,12,12,12,12,12,12,12,12,12,12,12,12,12,12,12,12,12,12,12,12,12,12,12,12,12,12,12,12,12,12,12,12,12,12,12,12,12,12,12,12,12,12,12,12,12,12,12,12,12,12,12,12,12,12,12,12,12,12,12,12,12,12,12,12,12,12,12,12,12,12,13,13,13,13,13,13,13,13,13,13,13,13,13,13,13,13,13,13,13,13,13,13,13,13,13,13,13,13,13,13,13,13,13,13,13,13,13,13,13,13,13,13,13,13,13,13,13,13,13,13,13,13,13,13,13,13,13,13,13,13,13,13,13,13,13,13,13,13,13,13,13,13,13,13,13,13,13,13,13,13,13,13,13,13,13,13,13,13,13,13,13,13,13,13,13,13,13,13,13,13,13,13,13,13,13,13,13,13,13,13,13,13,13,13,13,13,13,13,13,13,13,13,13,13,13,13,13,13,13,13,13,13,13,13,13,13,13,13,13,13,13,13,13,13,13,13,13,13,13,13,13,13,13,13,13,13,13,13,13,13,13,13,13,13,13,13,13,13,13,13,13,13,13,13,13,13,13,13,13,13,13,13,13,13,13,13,13,13,13,13,13,13,13,13,13,13,13,13,13,13,13,13,13,13,13,13,13,13,13,13,13,13,13,13,13,13,13,13,13,13,13,13,13,13,13,14,14,14,14,14,14,14,14,14,14,14,14,14,14,14,14,14,14,14,14,14,14,14,14,14,14,14,14,14,14,14,14,14,14,14,14,14,14,14,14,14,14,14,14,14,14,14,14,14,14,14,14,14,14,14,14,14,14,14,14,14,14,14,14,14,14,14,14,14,14,14,14,14,14,14,14,14,14,14,14,14,14,14,14,14,14,14,14,14,14,14,14,14,14,14,14,14,14,14,14,14,14,14,14,14,14,14,14,14,14,14,14,14,14,14,14,14,14,14,14,14,14,14,14,14,14,14,14,14,14,14,14,14,14,14,14,14,14,14,14,14,14,14,14,14,14,14,14,14,14,14,14,14,14,14,14,14,14,14,14,14,14,14,14,14,14,14,14,14,14,14,14,14,14,14,14,14,14,14,14,14,14,14,14,14,14,14,14,14,14,14,14,14,14,14,14,14,14,14,14,14,14,14,14,14,14,14,14,14,14,14,14,14,14,14,14,14,14,14,14,14,14,14,14,14],\"y\":[0,0,0,0,0,0,0,0,0,0,0,0,0,0,0,1,1,1,1,1,1,1,1,1,1,1,1,1,1,1,2,2,2,2,2,2,2,2,2,2,2,2,2,2,2,3,3,3,3,3,3,3,3,3,3,3,3,3,3,3,4,4,4,4,4,4,4,4,4,4,4,4,4,4,4,5,5,5,5,5,5,5,5,5,5,5,5,5,5,5,6,6,6,6,6,6,6,6,6,6,6,6,6,6,6,7,7,7,7,7,7,7,7,7,7,7,7,7,7,7,8,8,8,8,8,8,8,8,8,8,8,8,8,8,8,9,9,9,9,9,9,9,9,9,9,9,9,9,9,9,10,10,10,10,10,10,10,10,10,10,10,10,10,10,10,11,11,11,11,11,11,11,11,11,11,11,11,11,11,11,12,12,12,12,12,12,12,12,12,12,12,12,12,12,12,13,13,13,13,13,13,13,13,13,13,13,13,13,13,13,14,14,14,14,14,14,14,14,14,14,14,14,14,14,14,0,0,0,0,0,0,0,0,0,0,0,0,0,0,0,1,1,1,1,1,1,1,1,1,1,1,1,1,1,1,2,2,2,2,2,2,2,2,2,2,2,2,2,2,2,3,3,3,3,3,3,3,3,3,3,3,3,3,3,3,4,4,4,4,4,4,4,4,4,4,4,4,4,4,4,5,5,5,5,5,5,5,5,5,5,5,5,5,5,5,6,6,6,6,6,6,6,6,6,6,6,6,6,6,6,7,7,7,7,7,7,7,7,7,7,7,7,7,7,7,8,8,8,8,8,8,8,8,8,8,8,8,8,8,8,9,9,9,9,9,9,9,9,9,9,9,9,9,9,9,10,10,10,10,10,10,10,10,10,10,10,10,10,10,10,11,11,11,11,11,11,11,11,11,11,11,11,11,11,11,12,12,12,12,12,12,12,12,12,12,12,12,12,12,12,13,13,13,13,13,13,13,13,13,13,13,13,13,13,13,14,14,14,14,14,14,14,14,14,14,14,14,14,14,14,0,0,0,0,0,0,0,0,0,0,0,0,0,0,0,1,1,1,1,1,1,1,1,1,1,1,1,1,1,1,2,2,2,2,2,2,2,2,2,2,2,2,2,2,2,3,3,3,3,3,3,3,3,3,3,3,3,3,3,3,4,4,4,4,4,4,4,4,4,4,4,4,4,4,4,5,5,5,5,5,5,5,5,5,5,5,5,5,5,5,6,6,6,6,6,6,6,6,6,6,6,6,6,6,6,7,7,7,7,7,7,7,7,7,7,7,7,7,7,7,8,8,8,8,8,8,8,8,8,8,8,8,8,8,8,9,9,9,9,9,9,9,9,9,9,9,9,9,9,9,10,10,10,10,10,10,10,10,10,10,10,10,10,10,10,11,11,11,11,11,11,11,11,11,11,11,11,11,11,11,12,12,12,12,12,12,12,12,12,12,12,12,12,12,12,13,13,13,13,13,13,13,13,13,13,13,13,13,13,13,14,14,14,14,14,14,14,14,14,14,14,14,14,14,14,0,0,0,0,0,0,0,0,0,0,0,0,0,0,0,1,1,1,1,1,1,1,1,1,1,1,1,1,1,1,2,2,2,2,2,2,2,2,2,2,2,2,2,2,2,3,3,3,3,3,3,3,3,3,3,3,3,3,3,3,4,4,4,4,4,4,4,4,4,4,4,4,4,4,4,5,5,5,5,5,5,5,5,5,5,5,5,5,5,5,6,6,6,6,6,6,6,6,6,6,6,6,6,6,6,7,7,7,7,7,7,7,7,7,7,7,7,7,7,7,8,8,8,8,8,8,8,8,8,8,8,8,8,8,8,9,9,9,9,9,9,9,9,9,9,9,9,9,9,9,10,10,10,10,10,10,10,10,10,10,10,10,10,10,10,11,11,11,11,11,11,11,11,11,11,11,11,11,11,11,12,12,12,12,12,12,12,12,12,12,12,12,12,12,12,13,13,13,13,13,13,13,13,13,13,13,13,13,13,13,14,14,14,14,14,14,14,14,14,14,14,14,14,14,14,0,0,0,0,0,0,0,0,0,0,0,0,0,0,0,1,1,1,1,1,1,1,1,1,1,1,1,1,1,1,2,2,2,2,2,2,2,2,2,2,2,2,2,2,2,3,3,3,3,3,3,3,3,3,3,3,3,3,3,3,4,4,4,4,4,4,4,4,4,4,4,4,4,4,4,5,5,5,5,5,5,5,5,5,5,5,5,5,5,5,6,6,6,6,6,6,6,6,6,6,6,6,6,6,6,7,7,7,7,7,7,7,7,7,7,7,7,7,7,7,8,8,8,8,8,8,8,8,8,8,8,8,8,8,8,9,9,9,9,9,9,9,9,9,9,9,9,9,9,9,10,10,10,10,10,10,10,10,10,10,10,10,10,10,10,11,11,11,11,11,11,11,11,11,11,11,11,11,11,11,12,12,12,12,12,12,12,12,12,12,12,12,12,12,12,13,13,13,13,13,13,13,13,13,13,13,13,13,13,13,14,14,14,14,14,14,14,14,14,14,14,14,14,14,14,0,0,0,0,0,0,0,0,0,0,0,0,0,0,0,1,1,1,1,1,1,1,1,1,1,1,1,1,1,1,2,2,2,2,2,2,2,2,2,2,2,2,2,2,2,3,3,3,3,3,3,3,3,3,3,3,3,3,3,3,4,4,4,4,4,4,4,4,4,4,4,4,4,4,4,5,5,5,5,5,5,5,5,5,5,5,5,5,5,5,6,6,6,6,6,6,6,6,6,6,6,6,6,6,6,7,7,7,7,7,7,7,7,7,7,7,7,7,7,7,8,8,8,8,8,8,8,8,8,8,8,8,8,8,8,9,9,9,9,9,9,9,9,9,9,9,9,9,9,9,10,10,10,10,10,10,10,10,10,10,10,10,10,10,10,11,11,11,11,11,11,11,11,11,11,11,11,11,11,11,12,12,12,12,12,12,12,12,12,12,12,12,12,12,12,13,13,13,13,13,13,13,13,13,13,13,13,13,13,13,14,14,14,14,14,14,14,14,14,14,14,14,14,14,14,0,0,0,0,0,0,0,0,0,0,0,0,0,0,0,1,1,1,1,1,1,1,1,1,1,1,1,1,1,1,2,2,2,2,2,2,2,2,2,2,2,2,2,2,2,3,3,3,3,3,3,3,3,3,3,3,3,3,3,3,4,4,4,4,4,4,4,4,4,4,4,4,4,4,4,5,5,5,5,5,5,5,5,5,5,5,5,5,5,5,6,6,6,6,6,6,6,6,6,6,6,6,6,6,6,7,7,7,7,7,7,7,7,7,7,7,7,7,7,7,8,8,8,8,8,8,8,8,8,8,8,8,8,8,8,9,9,9,9,9,9,9,9,9,9,9,9,9,9,9,10,10,10,10,10,10,10,10,10,10,10,10,10,10,10,11,11,11,11,11,11,11,11,11,11,11,11,11,11,11,12,12,12,12,12,12,12,12,12,12,12,12,12,12,12,13,13,13,13,13,13,13,13,13,13,13,13,13,13,13,14,14,14,14,14,14,14,14,14,14,14,14,14,14,14,0,0,0,0,0,0,0,0,0,0,0,0,0,0,0,1,1,1,1,1,1,1,1,1,1,1,1,1,1,1,2,2,2,2,2,2,2,2,2,2,2,2,2,2,2,3,3,3,3,3,3,3,3,3,3,3,3,3,3,3,4,4,4,4,4,4,4,4,4,4,4,4,4,4,4,5,5,5,5,5,5,5,5,5,5,5,5,5,5,5,6,6,6,6,6,6,6,6,6,6,6,6,6,6,6,7,7,7,7,7,7,7,7,7,7,7,7,7,7,7,8,8,8,8,8,8,8,8,8,8,8,8,8,8,8,9,9,9,9,9,9,9,9,9,9,9,9,9,9,9,10,10,10,10,10,10,10,10,10,10,10,10,10,10,10,11,11,11,11,11,11,11,11,11,11,11,11,11,11,11,12,12,12,12,12,12,12,12,12,12,12,12,12,12,12,13,13,13,13,13,13,13,13,13,13,13,13,13,13,13,14,14,14,14,14,14,14,14,14,14,14,14,14,14,14,0,0,0,0,0,0,0,0,0,0,0,0,0,0,0,1,1,1,1,1,1,1,1,1,1,1,1,1,1,1,2,2,2,2,2,2,2,2,2,2,2,2,2,2,2,3,3,3,3,3,3,3,3,3,3,3,3,3,3,3,4,4,4,4,4,4,4,4,4,4,4,4,4,4,4,5,5,5,5,5,5,5,5,5,5,5,5,5,5,5,6,6,6,6,6,6,6,6,6,6,6,6,6,6,6,7,7,7,7,7,7,7,7,7,7,7,7,7,7,7,8,8,8,8,8,8,8,8,8,8,8,8,8,8,8,9,9,9,9,9,9,9,9,9,9,9,9,9,9,9,10,10,10,10,10,10,10,10,10,10,10,10,10,10,10,11,11,11,11,11,11,11,11,11,11,11,11,11,11,11,12,12,12,12,12,12,12,12,12,12,12,12,12,12,12,13,13,13,13,13,13,13,13,13,13,13,13,13,13,13,14,14,14,14,14,14,14,14,14,14,14,14,14,14,14,0,0,0,0,0,0,0,0,0,0,0,0,0,0,0,1,1,1,1,1,1,1,1,1,1,1,1,1,1,1,2,2,2,2,2,2,2,2,2,2,2,2,2,2,2,3,3,3,3,3,3,3,3,3,3,3,3,3,3,3,4,4,4,4,4,4,4,4,4,4,4,4,4,4,4,5,5,5,5,5,5,5,5,5,5,5,5,5,5,5,6,6,6,6,6,6,6,6,6,6,6,6,6,6,6,7,7,7,7,7,7,7,7,7,7,7,7,7,7,7,8,8,8,8,8,8,8,8,8,8,8,8,8,8,8,9,9,9,9,9,9,9,9,9,9,9,9,9,9,9,10,10,10,10,10,10,10,10,10,10,10,10,10,10,10,11,11,11,11,11,11,11,11,11,11,11,11,11,11,11,12,12,12,12,12,12,12,12,12,12,12,12,12,12,12,13,13,13,13,13,13,13,13,13,13,13,13,13,13,13,14,14,14,14,14,14,14,14,14,14,14,14,14,14,14,0,0,0,0,0,0,0,0,0,0,0,0,0,0,0,1,1,1,1,1,1,1,1,1,1,1,1,1,1,1,2,2,2,2,2,2,2,2,2,2,2,2,2,2,2,3,3,3,3,3,3,3,3,3,3,3,3,3,3,3,4,4,4,4,4,4,4,4,4,4,4,4,4,4,4,5,5,5,5,5,5,5,5,5,5,5,5,5,5,5,6,6,6,6,6,6,6,6,6,6,6,6,6,6,6,7,7,7,7,7,7,7,7,7,7,7,7,7,7,7,8,8,8,8,8,8,8,8,8,8,8,8,8,8,8,9,9,9,9,9,9,9,9,9,9,9,9,9,9,9,10,10,10,10,10,10,10,10,10,10,10,10,10,10,10,11,11,11,11,11,11,11,11,11,11,11,11,11,11,11,12,12,12,12,12,12,12,12,12,12,12,12,12,12,12,13,13,13,13,13,13,13,13,13,13,13,13,13,13,13,14,14,14,14,14,14,14,14,14,14,14,14,14,14,14,0,0,0,0,0,0,0,0,0,0,0,0,0,0,0,1,1,1,1,1,1,1,1,1,1,1,1,1,1,1,2,2,2,2,2,2,2,2,2,2,2,2,2,2,2,3,3,3,3,3,3,3,3,3,3,3,3,3,3,3,4,4,4,4,4,4,4,4,4,4,4,4,4,4,4,5,5,5,5,5,5,5,5,5,5,5,5,5,5,5,6,6,6,6,6,6,6,6,6,6,6,6,6,6,6,7,7,7,7,7,7,7,7,7,7,7,7,7,7,7,8,8,8,8,8,8,8,8,8,8,8,8,8,8,8,9,9,9,9,9,9,9,9,9,9,9,9,9,9,9,10,10,10,10,10,10,10,10,10,10,10,10,10,10,10,11,11,11,11,11,11,11,11,11,11,11,11,11,11,11,12,12,12,12,12,12,12,12,12,12,12,12,12,12,12,13,13,13,13,13,13,13,13,13,13,13,13,13,13,13,14,14,14,14,14,14,14,14,14,14,14,14,14,14,14,0,0,0,0,0,0,0,0,0,0,0,0,0,0,0,1,1,1,1,1,1,1,1,1,1,1,1,1,1,1,2,2,2,2,2,2,2,2,2,2,2,2,2,2,2,3,3,3,3,3,3,3,3,3,3,3,3,3,3,3,4,4,4,4,4,4,4,4,4,4,4,4,4,4,4,5,5,5,5,5,5,5,5,5,5,5,5,5,5,5,6,6,6,6,6,6,6,6,6,6,6,6,6,6,6,7,7,7,7,7,7,7,7,7,7,7,7,7,7,7,8,8,8,8,8,8,8,8,8,8,8,8,8,8,8,9,9,9,9,9,9,9,9,9,9,9,9,9,9,9,10,10,10,10,10,10,10,10,10,10,10,10,10,10,10,11,11,11,11,11,11,11,11,11,11,11,11,11,11,11,12,12,12,12,12,12,12,12,12,12,12,12,12,12,12,13,13,13,13,13,13,13,13,13,13,13,13,13,13,13,14,14,14,14,14,14,14,14,14,14,14,14,14,14,14,0,0,0,0,0,0,0,0,0,0,0,0,0,0,0,1,1,1,1,1,1,1,1,1,1,1,1,1,1,1,2,2,2,2,2,2,2,2,2,2,2,2,2,2,2,3,3,3,3,3,3,3,3,3,3,3,3,3,3,3,4,4,4,4,4,4,4,4,4,4,4,4,4,4,4,5,5,5,5,5,5,5,5,5,5,5,5,5,5,5,6,6,6,6,6,6,6,6,6,6,6,6,6,6,6,7,7,7,7,7,7,7,7,7,7,7,7,7,7,7,8,8,8,8,8,8,8,8,8,8,8,8,8,8,8,9,9,9,9,9,9,9,9,9,9,9,9,9,9,9,10,10,10,10,10,10,10,10,10,10,10,10,10,10,10,11,11,11,11,11,11,11,11,11,11,11,11,11,11,11,12,12,12,12,12,12,12,12,12,12,12,12,12,12,12,13,13,13,13,13,13,13,13,13,13,13,13,13,13,13,14,14,14,14,14,14,14,14,14,14,14,14,14,14,14,0,0,0,0,0,0,0,0,0,0,0,0,0,0,0,1,1,1,1,1,1,1,1,1,1,1,1,1,1,1,2,2,2,2,2,2,2,2,2,2,2,2,2,2,2,3,3,3,3,3,3,3,3,3,3,3,3,3,3,3,4,4,4,4,4,4,4,4,4,4,4,4,4,4,4,5,5,5,5,5,5,5,5,5,5,5,5,5,5,5,6,6,6,6,6,6,6,6,6,6,6,6,6,6,6,7,7,7,7,7,7,7,7,7,7,7,7,7,7,7,8,8,8,8,8,8,8,8,8,8,8,8,8,8,8,9,9,9,9,9,9,9,9,9,9,9,9,9,9,9,10,10,10,10,10,10,10,10,10,10,10,10,10,10,10,11,11,11,11,11,11,11,11,11,11,11,11,11,11,11,12,12,12,12,12,12,12,12,12,12,12,12,12,12,12,13,13,13,13,13,13,13,13,13,13,13,13,13,13,13,14,14,14,14,14,14,14,14,14,14,14,14,14,14,14],\"z\":[0,1,2,3,4,5,6,7,8,9,10,11,12,13,14,0,1,2,3,4,5,6,7,8,9,10,11,12,13,14,0,1,2,3,4,5,6,7,8,9,10,11,12,13,14,0,1,2,3,4,5,6,7,8,9,10,11,12,13,14,0,1,2,3,4,5,6,7,8,9,10,11,12,13,14,0,1,2,3,4,5,6,7,8,9,10,11,12,13,14,0,1,2,3,4,5,6,7,8,9,10,11,12,13,14,0,1,2,3,4,5,6,7,8,9,10,11,12,13,14,0,1,2,3,4,5,6,7,8,9,10,11,12,13,14,0,1,2,3,4,5,6,7,8,9,10,11,12,13,14,0,1,2,3,4,5,6,7,8,9,10,11,12,13,14,0,1,2,3,4,5,6,7,8,9,10,11,12,13,14,0,1,2,3,4,5,6,7,8,9,10,11,12,13,14,0,1,2,3,4,5,6,7,8,9,10,11,12,13,14,0,1,2,3,4,5,6,7,8,9,10,11,12,13,14,0,1,2,3,4,5,6,7,8,9,10,11,12,13,14,0,1,2,3,4,5,6,7,8,9,10,11,12,13,14,0,1,2,3,4,5,6,7,8,9,10,11,12,13,14,0,1,2,3,4,5,6,7,8,9,10,11,12,13,14,0,1,2,3,4,5,6,7,8,9,10,11,12,13,14,0,1,2,3,4,5,6,7,8,9,10,11,12,13,14,0,1,2,3,4,5,6,7,8,9,10,11,12,13,14,0,1,2,3,4,5,6,7,8,9,10,11,12,13,14,0,1,2,3,4,5,6,7,8,9,10,11,12,13,14,0,1,2,3,4,5,6,7,8,9,10,11,12,13,14,0,1,2,3,4,5,6,7,8,9,10,11,12,13,14,0,1,2,3,4,5,6,7,8,9,10,11,12,13,14,0,1,2,3,4,5,6,7,8,9,10,11,12,13,14,0,1,2,3,4,5,6,7,8,9,10,11,12,13,14,0,1,2,3,4,5,6,7,8,9,10,11,12,13,14,0,1,2,3,4,5,6,7,8,9,10,11,12,13,14,0,1,2,3,4,5,6,7,8,9,10,11,12,13,14,0,1,2,3,4,5,6,7,8,9,10,11,12,13,14,0,1,2,3,4,5,6,7,8,9,10,11,12,13,14,0,1,2,3,4,5,6,7,8,9,10,11,12,13,14,0,1,2,3,4,5,6,7,8,9,10,11,12,13,14,0,1,2,3,4,5,6,7,8,9,10,11,12,13,14,0,1,2,3,4,5,6,7,8,9,10,11,12,13,14,0,1,2,3,4,5,6,7,8,9,10,11,12,13,14,0,1,2,3,4,5,6,7,8,9,10,11,12,13,14,0,1,2,3,4,5,6,7,8,9,10,11,12,13,14,0,1,2,3,4,5,6,7,8,9,10,11,12,13,14,0,1,2,3,4,5,6,7,8,9,10,11,12,13,14,0,1,2,3,4,5,6,7,8,9,10,11,12,13,14,0,1,2,3,4,5,6,7,8,9,10,11,12,13,14,0,1,2,3,4,5,6,7,8,9,10,11,12,13,14,0,1,2,3,4,5,6,7,8,9,10,11,12,13,14,0,1,2,3,4,5,6,7,8,9,10,11,12,13,14,0,1,2,3,4,5,6,7,8,9,10,11,12,13,14,0,1,2,3,4,5,6,7,8,9,10,11,12,13,14,0,1,2,3,4,5,6,7,8,9,10,11,12,13,14,0,1,2,3,4,5,6,7,8,9,10,11,12,13,14,0,1,2,3,4,5,6,7,8,9,10,11,12,13,14,0,1,2,3,4,5,6,7,8,9,10,11,12,13,14,0,1,2,3,4,5,6,7,8,9,10,11,12,13,14,0,1,2,3,4,5,6,7,8,9,10,11,12,13,14,0,1,2,3,4,5,6,7,8,9,10,11,12,13,14,0,1,2,3,4,5,6,7,8,9,10,11,12,13,14,0,1,2,3,4,5,6,7,8,9,10,11,12,13,14,0,1,2,3,4,5,6,7,8,9,10,11,12,13,14,0,1,2,3,4,5,6,7,8,9,10,11,12,13,14,0,1,2,3,4,5,6,7,8,9,10,11,12,13,14,0,1,2,3,4,5,6,7,8,9,10,11,12,13,14,0,1,2,3,4,5,6,7,8,9,10,11,12,13,14,0,1,2,3,4,5,6,7,8,9,10,11,12,13,14,0,1,2,3,4,5,6,7,8,9,10,11,12,13,14,0,1,2,3,4,5,6,7,8,9,10,11,12,13,14,0,1,2,3,4,5,6,7,8,9,10,11,12,13,14,0,1,2,3,4,5,6,7,8,9,10,11,12,13,14,0,1,2,3,4,5,6,7,8,9,10,11,12,13,14,0,1,2,3,4,5,6,7,8,9,10,11,12,13,14,0,1,2,3,4,5,6,7,8,9,10,11,12,13,14,0,1,2,3,4,5,6,7,8,9,10,11,12,13,14,0,1,2,3,4,5,6,7,8,9,10,11,12,13,14,0,1,2,3,4,5,6,7,8,9,10,11,12,13,14,0,1,2,3,4,5,6,7,8,9,10,11,12,13,14,0,1,2,3,4,5,6,7,8,9,10,11,12,13,14,0,1,2,3,4,5,6,7,8,9,10,11,12,13,14,0,1,2,3,4,5,6,7,8,9,10,11,12,13,14,0,1,2,3,4,5,6,7,8,9,10,11,12,13,14,0,1,2,3,4,5,6,7,8,9,10,11,12,13,14,0,1,2,3,4,5,6,7,8,9,10,11,12,13,14,0,1,2,3,4,5,6,7,8,9,10,11,12,13,14,0,1,2,3,4,5,6,7,8,9,10,11,12,13,14,0,1,2,3,4,5,6,7,8,9,10,11,12,13,14,0,1,2,3,4,5,6,7,8,9,10,11,12,13,14,0,1,2,3,4,5,6,7,8,9,10,11,12,13,14,0,1,2,3,4,5,6,7,8,9,10,11,12,13,14,0,1,2,3,4,5,6,7,8,9,10,11,12,13,14,0,1,2,3,4,5,6,7,8,9,10,11,12,13,14,0,1,2,3,4,5,6,7,8,9,10,11,12,13,14,0,1,2,3,4,5,6,7,8,9,10,11,12,13,14,0,1,2,3,4,5,6,7,8,9,10,11,12,13,14,0,1,2,3,4,5,6,7,8,9,10,11,12,13,14,0,1,2,3,4,5,6,7,8,9,10,11,12,13,14,0,1,2,3,4,5,6,7,8,9,10,11,12,13,14,0,1,2,3,4,5,6,7,8,9,10,11,12,13,14,0,1,2,3,4,5,6,7,8,9,10,11,12,13,14,0,1,2,3,4,5,6,7,8,9,10,11,12,13,14,0,1,2,3,4,5,6,7,8,9,10,11,12,13,14,0,1,2,3,4,5,6,7,8,9,10,11,12,13,14,0,1,2,3,4,5,6,7,8,9,10,11,12,13,14,0,1,2,3,4,5,6,7,8,9,10,11,12,13,14,0,1,2,3,4,5,6,7,8,9,10,11,12,13,14,0,1,2,3,4,5,6,7,8,9,10,11,12,13,14,0,1,2,3,4,5,6,7,8,9,10,11,12,13,14,0,1,2,3,4,5,6,7,8,9,10,11,12,13,14,0,1,2,3,4,5,6,7,8,9,10,11,12,13,14,0,1,2,3,4,5,6,7,8,9,10,11,12,13,14,0,1,2,3,4,5,6,7,8,9,10,11,12,13,14,0,1,2,3,4,5,6,7,8,9,10,11,12,13,14,0,1,2,3,4,5,6,7,8,9,10,11,12,13,14,0,1,2,3,4,5,6,7,8,9,10,11,12,13,14,0,1,2,3,4,5,6,7,8,9,10,11,12,13,14,0,1,2,3,4,5,6,7,8,9,10,11,12,13,14,0,1,2,3,4,5,6,7,8,9,10,11,12,13,14,0,1,2,3,4,5,6,7,8,9,10,11,12,13,14,0,1,2,3,4,5,6,7,8,9,10,11,12,13,14,0,1,2,3,4,5,6,7,8,9,10,11,12,13,14,0,1,2,3,4,5,6,7,8,9,10,11,12,13,14,0,1,2,3,4,5,6,7,8,9,10,11,12,13,14,0,1,2,3,4,5,6,7,8,9,10,11,12,13,14,0,1,2,3,4,5,6,7,8,9,10,11,12,13,14,0,1,2,3,4,5,6,7,8,9,10,11,12,13,14,0,1,2,3,4,5,6,7,8,9,10,11,12,13,14,0,1,2,3,4,5,6,7,8,9,10,11,12,13,14,0,1,2,3,4,5,6,7,8,9,10,11,12,13,14,0,1,2,3,4,5,6,7,8,9,10,11,12,13,14,0,1,2,3,4,5,6,7,8,9,10,11,12,13,14,0,1,2,3,4,5,6,7,8,9,10,11,12,13,14,0,1,2,3,4,5,6,7,8,9,10,11,12,13,14,0,1,2,3,4,5,6,7,8,9,10,11,12,13,14,0,1,2,3,4,5,6,7,8,9,10,11,12,13,14,0,1,2,3,4,5,6,7,8,9,10,11,12,13,14,0,1,2,3,4,5,6,7,8,9,10,11,12,13,14,0,1,2,3,4,5,6,7,8,9,10,11,12,13,14,0,1,2,3,4,5,6,7,8,9,10,11,12,13,14,0,1,2,3,4,5,6,7,8,9,10,11,12,13,14,0,1,2,3,4,5,6,7,8,9,10,11,12,13,14,0,1,2,3,4,5,6,7,8,9,10,11,12,13,14,0,1,2,3,4,5,6,7,8,9,10,11,12,13,14,0,1,2,3,4,5,6,7,8,9,10,11,12,13,14,0,1,2,3,4,5,6,7,8,9,10,11,12,13,14,0,1,2,3,4,5,6,7,8,9,10,11,12,13,14,0,1,2,3,4,5,6,7,8,9,10,11,12,13,14,0,1,2,3,4,5,6,7,8,9,10,11,12,13,14,0,1,2,3,4,5,6,7,8,9,10,11,12,13,14,0,1,2,3,4,5,6,7,8,9,10,11,12,13,14,0,1,2,3,4,5,6,7,8,9,10,11,12,13,14,0,1,2,3,4,5,6,7,8,9,10,11,12,13,14,0,1,2,3,4,5,6,7,8,9,10,11,12,13,14,0,1,2,3,4,5,6,7,8,9,10,11,12,13,14,0,1,2,3,4,5,6,7,8,9,10,11,12,13,14,0,1,2,3,4,5,6,7,8,9,10,11,12,13,14,0,1,2,3,4,5,6,7,8,9,10,11,12,13,14,0,1,2,3,4,5,6,7,8,9,10,11,12,13,14,0,1,2,3,4,5,6,7,8,9,10,11,12,13,14,0,1,2,3,4,5,6,7,8,9,10,11,12,13,14,0,1,2,3,4,5,6,7,8,9,10,11,12,13,14,0,1,2,3,4,5,6,7,8,9,10,11,12,13,14,0,1,2,3,4,5,6,7,8,9,10,11,12,13,14,0,1,2,3,4,5,6,7,8,9,10,11,12,13,14,0,1,2,3,4,5,6,7,8,9,10,11,12,13,14,0,1,2,3,4,5,6,7,8,9,10,11,12,13,14,0,1,2,3,4,5,6,7,8,9,10,11,12,13,14,0,1,2,3,4,5,6,7,8,9,10,11,12,13,14,0,1,2,3,4,5,6,7,8,9,10,11,12,13,14,0,1,2,3,4,5,6,7,8,9,10,11,12,13,14,0,1,2,3,4,5,6,7,8,9,10,11,12,13,14,0,1,2,3,4,5,6,7,8,9,10,11,12,13,14,0,1,2,3,4,5,6,7,8,9,10,11,12,13,14,0,1,2,3,4,5,6,7,8,9,10,11,12,13,14,0,1,2,3,4,5,6,7,8,9,10,11,12,13,14,0,1,2,3,4,5,6,7,8,9,10,11,12,13,14,0,1,2,3,4,5,6,7,8,9,10,11,12,13,14,0,1,2,3,4,5,6,7,8,9,10,11,12,13,14,0,1,2,3,4,5,6,7,8,9,10,11,12,13,14,0,1,2,3,4,5,6,7,8,9,10,11,12,13,14,0,1,2,3,4,5,6,7,8,9,10,11,12,13,14,0,1,2,3,4,5,6,7,8,9,10,11,12,13,14,0,1,2,3,4,5,6,7,8,9,10,11,12,13,14,0,1,2,3,4,5,6,7,8,9,10,11,12,13,14,0,1,2,3,4,5,6,7,8,9,10,11,12,13,14,0,1,2,3,4,5,6,7,8,9,10,11,12,13,14,0,1,2,3,4,5,6,7,8,9,10,11,12,13,14,0,1,2,3,4,5,6,7,8,9,10,11,12,13,14,0,1,2,3,4,5,6,7,8,9,10,11,12,13,14,0,1,2,3,4,5,6,7,8,9,10,11,12,13,14,0,1,2,3,4,5,6,7,8,9,10,11,12,13,14,0,1,2,3,4,5,6,7,8,9,10,11,12,13,14,0,1,2,3,4,5,6,7,8,9,10,11,12,13,14,0,1,2,3,4,5,6,7,8,9,10,11,12,13,14,0,1,2,3,4,5,6,7,8,9,10,11,12,13,14,0,1,2,3,4,5,6,7,8,9,10,11,12,13,14,0,1,2,3,4,5,6,7,8,9,10,11,12,13,14,0,1,2,3,4,5,6,7,8,9,10,11,12,13,14,0,1,2,3,4,5,6,7,8,9,10,11,12,13,14,0,1,2,3,4,5,6,7,8,9,10,11,12,13,14,0,1,2,3,4,5,6,7,8,9,10,11,12,13,14,0,1,2,3,4,5,6,7,8,9,10,11,12,13,14,0,1,2,3,4,5,6,7,8,9,10,11,12,13,14,0,1,2,3,4,5,6,7,8,9,10,11,12,13,14,0,1,2,3,4,5,6,7,8,9,10,11,12,13,14,0,1,2,3,4,5,6,7,8,9,10,11,12,13,14,0,1,2,3,4,5,6,7,8,9,10,11,12,13,14,0,1,2,3,4,5,6,7,8,9,10,11,12,13,14,0,1,2,3,4,5,6,7,8,9,10,11,12,13,14,0,1,2,3,4,5,6,7,8,9,10,11,12,13,14,0,1,2,3,4,5,6,7,8,9,10,11,12,13,14,0,1,2,3,4,5,6,7,8,9,10,11,12,13,14,0,1,2,3,4,5,6,7,8,9,10,11,12,13,14,0,1,2,3,4,5,6,7,8,9,10,11,12,13,14,0,1,2,3,4,5,6,7,8,9,10,11,12,13,14,0,1,2,3,4,5,6,7,8,9,10,11,12,13,14,0,1,2,3,4,5,6,7,8,9,10,11,12,13,14,0,1,2,3,4,5,6,7,8,9,10,11,12,13,14,0,1,2,3,4,5,6,7,8,9,10,11,12,13,14,0,1,2,3,4,5,6,7,8,9,10,11,12,13,14,0,1,2,3,4,5,6,7,8,9,10,11,12,13,14,0,1,2,3,4,5,6,7,8,9,10,11,12,13,14,0,1,2,3,4,5,6,7,8,9,10,11,12,13,14,0,1,2,3,4,5,6,7,8,9,10,11,12,13,14,0,1,2,3,4,5,6,7,8,9,10,11,12,13,14,0,1,2,3,4,5,6,7,8,9,10,11,12,13,14,0,1,2,3,4,5,6,7,8,9,10,11,12,13,14],\"type\":\"volume\"}],                        {\"template\":{\"data\":{\"histogram2dcontour\":[{\"type\":\"histogram2dcontour\",\"colorbar\":{\"outlinewidth\":0,\"ticks\":\"\"},\"colorscale\":[[0.0,\"#0d0887\"],[0.1111111111111111,\"#46039f\"],[0.2222222222222222,\"#7201a8\"],[0.3333333333333333,\"#9c179e\"],[0.4444444444444444,\"#bd3786\"],[0.5555555555555556,\"#d8576b\"],[0.6666666666666666,\"#ed7953\"],[0.7777777777777778,\"#fb9f3a\"],[0.8888888888888888,\"#fdca26\"],[1.0,\"#f0f921\"]]}],\"choropleth\":[{\"type\":\"choropleth\",\"colorbar\":{\"outlinewidth\":0,\"ticks\":\"\"}}],\"histogram2d\":[{\"type\":\"histogram2d\",\"colorbar\":{\"outlinewidth\":0,\"ticks\":\"\"},\"colorscale\":[[0.0,\"#0d0887\"],[0.1111111111111111,\"#46039f\"],[0.2222222222222222,\"#7201a8\"],[0.3333333333333333,\"#9c179e\"],[0.4444444444444444,\"#bd3786\"],[0.5555555555555556,\"#d8576b\"],[0.6666666666666666,\"#ed7953\"],[0.7777777777777778,\"#fb9f3a\"],[0.8888888888888888,\"#fdca26\"],[1.0,\"#f0f921\"]]}],\"heatmap\":[{\"type\":\"heatmap\",\"colorbar\":{\"outlinewidth\":0,\"ticks\":\"\"},\"colorscale\":[[0.0,\"#0d0887\"],[0.1111111111111111,\"#46039f\"],[0.2222222222222222,\"#7201a8\"],[0.3333333333333333,\"#9c179e\"],[0.4444444444444444,\"#bd3786\"],[0.5555555555555556,\"#d8576b\"],[0.6666666666666666,\"#ed7953\"],[0.7777777777777778,\"#fb9f3a\"],[0.8888888888888888,\"#fdca26\"],[1.0,\"#f0f921\"]]}],\"heatmapgl\":[{\"type\":\"heatmapgl\",\"colorbar\":{\"outlinewidth\":0,\"ticks\":\"\"},\"colorscale\":[[0.0,\"#0d0887\"],[0.1111111111111111,\"#46039f\"],[0.2222222222222222,\"#7201a8\"],[0.3333333333333333,\"#9c179e\"],[0.4444444444444444,\"#bd3786\"],[0.5555555555555556,\"#d8576b\"],[0.6666666666666666,\"#ed7953\"],[0.7777777777777778,\"#fb9f3a\"],[0.8888888888888888,\"#fdca26\"],[1.0,\"#f0f921\"]]}],\"contourcarpet\":[{\"type\":\"contourcarpet\",\"colorbar\":{\"outlinewidth\":0,\"ticks\":\"\"}}],\"contour\":[{\"type\":\"contour\",\"colorbar\":{\"outlinewidth\":0,\"ticks\":\"\"},\"colorscale\":[[0.0,\"#0d0887\"],[0.1111111111111111,\"#46039f\"],[0.2222222222222222,\"#7201a8\"],[0.3333333333333333,\"#9c179e\"],[0.4444444444444444,\"#bd3786\"],[0.5555555555555556,\"#d8576b\"],[0.6666666666666666,\"#ed7953\"],[0.7777777777777778,\"#fb9f3a\"],[0.8888888888888888,\"#fdca26\"],[1.0,\"#f0f921\"]]}],\"surface\":[{\"type\":\"surface\",\"colorbar\":{\"outlinewidth\":0,\"ticks\":\"\"},\"colorscale\":[[0.0,\"#0d0887\"],[0.1111111111111111,\"#46039f\"],[0.2222222222222222,\"#7201a8\"],[0.3333333333333333,\"#9c179e\"],[0.4444444444444444,\"#bd3786\"],[0.5555555555555556,\"#d8576b\"],[0.6666666666666666,\"#ed7953\"],[0.7777777777777778,\"#fb9f3a\"],[0.8888888888888888,\"#fdca26\"],[1.0,\"#f0f921\"]]}],\"mesh3d\":[{\"type\":\"mesh3d\",\"colorbar\":{\"outlinewidth\":0,\"ticks\":\"\"}}],\"scatter\":[{\"fillpattern\":{\"fillmode\":\"overlay\",\"size\":10,\"solidity\":0.2},\"type\":\"scatter\"}],\"parcoords\":[{\"type\":\"parcoords\",\"line\":{\"colorbar\":{\"outlinewidth\":0,\"ticks\":\"\"}}}],\"scatterpolargl\":[{\"type\":\"scatterpolargl\",\"marker\":{\"colorbar\":{\"outlinewidth\":0,\"ticks\":\"\"}}}],\"bar\":[{\"error_x\":{\"color\":\"#2a3f5f\"},\"error_y\":{\"color\":\"#2a3f5f\"},\"marker\":{\"line\":{\"color\":\"#E5ECF6\",\"width\":0.5},\"pattern\":{\"fillmode\":\"overlay\",\"size\":10,\"solidity\":0.2}},\"type\":\"bar\"}],\"scattergeo\":[{\"type\":\"scattergeo\",\"marker\":{\"colorbar\":{\"outlinewidth\":0,\"ticks\":\"\"}}}],\"scatterpolar\":[{\"type\":\"scatterpolar\",\"marker\":{\"colorbar\":{\"outlinewidth\":0,\"ticks\":\"\"}}}],\"histogram\":[{\"marker\":{\"pattern\":{\"fillmode\":\"overlay\",\"size\":10,\"solidity\":0.2}},\"type\":\"histogram\"}],\"scattergl\":[{\"type\":\"scattergl\",\"marker\":{\"colorbar\":{\"outlinewidth\":0,\"ticks\":\"\"}}}],\"scatter3d\":[{\"type\":\"scatter3d\",\"line\":{\"colorbar\":{\"outlinewidth\":0,\"ticks\":\"\"}},\"marker\":{\"colorbar\":{\"outlinewidth\":0,\"ticks\":\"\"}}}],\"scattermapbox\":[{\"type\":\"scattermapbox\",\"marker\":{\"colorbar\":{\"outlinewidth\":0,\"ticks\":\"\"}}}],\"scatterternary\":[{\"type\":\"scatterternary\",\"marker\":{\"colorbar\":{\"outlinewidth\":0,\"ticks\":\"\"}}}],\"scattercarpet\":[{\"type\":\"scattercarpet\",\"marker\":{\"colorbar\":{\"outlinewidth\":0,\"ticks\":\"\"}}}],\"carpet\":[{\"aaxis\":{\"endlinecolor\":\"#2a3f5f\",\"gridcolor\":\"white\",\"linecolor\":\"white\",\"minorgridcolor\":\"white\",\"startlinecolor\":\"#2a3f5f\"},\"baxis\":{\"endlinecolor\":\"#2a3f5f\",\"gridcolor\":\"white\",\"linecolor\":\"white\",\"minorgridcolor\":\"white\",\"startlinecolor\":\"#2a3f5f\"},\"type\":\"carpet\"}],\"table\":[{\"cells\":{\"fill\":{\"color\":\"#EBF0F8\"},\"line\":{\"color\":\"white\"}},\"header\":{\"fill\":{\"color\":\"#C8D4E3\"},\"line\":{\"color\":\"white\"}},\"type\":\"table\"}],\"barpolar\":[{\"marker\":{\"line\":{\"color\":\"#E5ECF6\",\"width\":0.5},\"pattern\":{\"fillmode\":\"overlay\",\"size\":10,\"solidity\":0.2}},\"type\":\"barpolar\"}],\"pie\":[{\"automargin\":true,\"type\":\"pie\"}]},\"layout\":{\"autotypenumbers\":\"strict\",\"colorway\":[\"#636efa\",\"#EF553B\",\"#00cc96\",\"#ab63fa\",\"#FFA15A\",\"#19d3f3\",\"#FF6692\",\"#B6E880\",\"#FF97FF\",\"#FECB52\"],\"font\":{\"color\":\"#2a3f5f\"},\"hovermode\":\"closest\",\"hoverlabel\":{\"align\":\"left\"},\"paper_bgcolor\":\"white\",\"plot_bgcolor\":\"#E5ECF6\",\"polar\":{\"bgcolor\":\"#E5ECF6\",\"angularaxis\":{\"gridcolor\":\"white\",\"linecolor\":\"white\",\"ticks\":\"\"},\"radialaxis\":{\"gridcolor\":\"white\",\"linecolor\":\"white\",\"ticks\":\"\"}},\"ternary\":{\"bgcolor\":\"#E5ECF6\",\"aaxis\":{\"gridcolor\":\"white\",\"linecolor\":\"white\",\"ticks\":\"\"},\"baxis\":{\"gridcolor\":\"white\",\"linecolor\":\"white\",\"ticks\":\"\"},\"caxis\":{\"gridcolor\":\"white\",\"linecolor\":\"white\",\"ticks\":\"\"}},\"coloraxis\":{\"colorbar\":{\"outlinewidth\":0,\"ticks\":\"\"}},\"colorscale\":{\"sequential\":[[0.0,\"#0d0887\"],[0.1111111111111111,\"#46039f\"],[0.2222222222222222,\"#7201a8\"],[0.3333333333333333,\"#9c179e\"],[0.4444444444444444,\"#bd3786\"],[0.5555555555555556,\"#d8576b\"],[0.6666666666666666,\"#ed7953\"],[0.7777777777777778,\"#fb9f3a\"],[0.8888888888888888,\"#fdca26\"],[1.0,\"#f0f921\"]],\"sequentialminus\":[[0.0,\"#0d0887\"],[0.1111111111111111,\"#46039f\"],[0.2222222222222222,\"#7201a8\"],[0.3333333333333333,\"#9c179e\"],[0.4444444444444444,\"#bd3786\"],[0.5555555555555556,\"#d8576b\"],[0.6666666666666666,\"#ed7953\"],[0.7777777777777778,\"#fb9f3a\"],[0.8888888888888888,\"#fdca26\"],[1.0,\"#f0f921\"]],\"diverging\":[[0,\"#8e0152\"],[0.1,\"#c51b7d\"],[0.2,\"#de77ae\"],[0.3,\"#f1b6da\"],[0.4,\"#fde0ef\"],[0.5,\"#f7f7f7\"],[0.6,\"#e6f5d0\"],[0.7,\"#b8e186\"],[0.8,\"#7fbc41\"],[0.9,\"#4d9221\"],[1,\"#276419\"]]},\"xaxis\":{\"gridcolor\":\"white\",\"linecolor\":\"white\",\"ticks\":\"\",\"title\":{\"standoff\":15},\"zerolinecolor\":\"white\",\"automargin\":true,\"zerolinewidth\":2},\"yaxis\":{\"gridcolor\":\"white\",\"linecolor\":\"white\",\"ticks\":\"\",\"title\":{\"standoff\":15},\"zerolinecolor\":\"white\",\"automargin\":true,\"zerolinewidth\":2},\"scene\":{\"xaxis\":{\"backgroundcolor\":\"#E5ECF6\",\"gridcolor\":\"white\",\"linecolor\":\"white\",\"showbackground\":true,\"ticks\":\"\",\"zerolinecolor\":\"white\",\"gridwidth\":2},\"yaxis\":{\"backgroundcolor\":\"#E5ECF6\",\"gridcolor\":\"white\",\"linecolor\":\"white\",\"showbackground\":true,\"ticks\":\"\",\"zerolinecolor\":\"white\",\"gridwidth\":2},\"zaxis\":{\"backgroundcolor\":\"#E5ECF6\",\"gridcolor\":\"white\",\"linecolor\":\"white\",\"showbackground\":true,\"ticks\":\"\",\"zerolinecolor\":\"white\",\"gridwidth\":2}},\"shapedefaults\":{\"line\":{\"color\":\"#2a3f5f\"}},\"annotationdefaults\":{\"arrowcolor\":\"#2a3f5f\",\"arrowhead\":0,\"arrowwidth\":1},\"geo\":{\"bgcolor\":\"white\",\"landcolor\":\"#E5ECF6\",\"subunitcolor\":\"white\",\"showland\":true,\"showlakes\":true,\"lakecolor\":\"white\"},\"title\":{\"x\":0.05},\"mapbox\":{\"style\":\"light\"}}},\"scene\":{\"xaxis\":{\"title\":{\"text\":\"X axis\"}},\"yaxis\":{\"title\":{\"text\":\"Y axis\"}},\"zaxis\":{\"title\":{\"text\":\"Z axis\"}}},\"title\":{\"text\":\"3D Volume Plot\"}},                        {\"responsive\": true}                    ).then(function(){\n",
              "                            \n",
              "var gd = document.getElementById('4d213552-ee12-4fe4-a89b-224df9777c47');\n",
              "var x = new MutationObserver(function (mutations, observer) {{\n",
              "        var display = window.getComputedStyle(gd).display;\n",
              "        if (!display || display === 'none') {{\n",
              "            console.log([gd, 'removed!']);\n",
              "            Plotly.purge(gd);\n",
              "            observer.disconnect();\n",
              "        }}\n",
              "}});\n",
              "\n",
              "// Listen for the removal of the full notebook cells\n",
              "var notebookContainer = gd.closest('#notebook-container');\n",
              "if (notebookContainer) {{\n",
              "    x.observe(notebookContainer, {childList: true});\n",
              "}}\n",
              "\n",
              "// Listen for the clearing of the current output cell\n",
              "var outputEl = gd.closest('.output');\n",
              "if (outputEl) {{\n",
              "    x.observe(outputEl, {childList: true});\n",
              "}}\n",
              "\n",
              "                        })                };                            </script>        </div>\n",
              "</body>\n",
              "</html>"
            ]
          },
          "metadata": {}
        }
      ]
    },
    {
      "cell_type": "markdown",
      "source": [
        "Generate stress-strain curve"
      ],
      "metadata": {
        "id": "Uty5cT6-DDRw"
      }
    },
    {
      "cell_type": "code",
      "source": [
        "%%time\n",
        "# Note we are using very loose k-point mesh for the tutorial, for production might need more\n",
        "# All results so far at 0 K temperature\n",
        "# Let's vary strain from 0 to 0.5 at interval of 0.05\n",
        "from tqdm import tqdm\n",
        "import numpy as np\n",
        "j_atoms = ase_to_atoms(aluminum)\n",
        "strains = np.arange(0, 0.5, 0.05)\n",
        "stresses = []\n",
        "for i in tqdm(strains):\n",
        "    stress=[[i,0,0],[0,0,0],[0,0,0]]\n",
        "    atoms=j_atoms.strain_atoms(stress).ase_converter()\n",
        "    atoms.calc=calc\n",
        "    final_stress = atoms.get_stress()\n",
        "    print(i,final_stress[0])\n",
        "    stresses.append(final_stress[0])\n",
        "\n"
      ],
      "metadata": {
        "id": "jhXK2zt2omml",
        "outputId": "2a1cc609-6a87-4af5-b50e-ef2e333b027a",
        "colab": {
          "base_uri": "https://localhost:8080/"
        }
      },
      "execution_count": 30,
      "outputs": [
        {
          "output_type": "stream",
          "name": "stderr",
          "text": [
            "\r  0%|          | 0/10 [00:00<?, ?it/s]/usr/local/lib/python3.10/dist-packages/gpaw/utilities/gpts.py:44: UserWarning:\n",
            "\n",
            "Initial realspace grid (15,16,16) inconsistent with symmetries.\n",
            "\n",
            "/usr/local/lib/python3.10/dist-packages/gpaw/utilities/gpts.py:71: UserWarning:\n",
            "\n",
            "Using symmetrized grid: (16,16,16).\n",
            "\n",
            "\n"
          ]
        },
        {
          "output_type": "stream",
          "name": "stdout",
          "text": [
            "0.0 -1.786177718643607e-05\n"
          ]
        },
        {
          "output_type": "stream",
          "name": "stderr",
          "text": [
            "\r 20%|██        | 2/10 [00:09<00:36,  4.55s/it]"
          ]
        },
        {
          "output_type": "stream",
          "name": "stdout",
          "text": [
            "0.05 0.027585256962103108\n"
          ]
        },
        {
          "output_type": "stream",
          "name": "stderr",
          "text": [
            "\r 30%|███       | 3/10 [00:22<00:56,  8.11s/it]"
          ]
        },
        {
          "output_type": "stream",
          "name": "stdout",
          "text": [
            "0.1 0.042834845029326406\n"
          ]
        },
        {
          "output_type": "stream",
          "name": "stderr",
          "text": [
            "\r 40%|████      | 4/10 [00:42<01:15, 12.52s/it]"
          ]
        },
        {
          "output_type": "stream",
          "name": "stdout",
          "text": [
            "0.15000000000000002 0.05753605738161671\n"
          ]
        },
        {
          "output_type": "stream",
          "name": "stderr",
          "text": [
            "/usr/local/lib/python3.10/dist-packages/gpaw/utilities/gpts.py:44: UserWarning:\n",
            "\n",
            "Initial realspace grid (15,18,18) inconsistent with symmetries.\n",
            "\n",
            "/usr/local/lib/python3.10/dist-packages/gpaw/utilities/gpts.py:71: UserWarning:\n",
            "\n",
            "Using symmetrized grid: (18,18,18).\n",
            "\n",
            "\n",
            " 50%|█████     | 5/10 [00:57<01:07, 13.56s/it]"
          ]
        },
        {
          "output_type": "stream",
          "name": "stdout",
          "text": [
            "0.2 0.070031748962895\n"
          ]
        },
        {
          "output_type": "stream",
          "name": "stderr",
          "text": [
            "\r 60%|██████    | 6/10 [01:16<01:00, 15.16s/it]"
          ]
        },
        {
          "output_type": "stream",
          "name": "stdout",
          "text": [
            "0.25 0.06699451964951326\n"
          ]
        },
        {
          "output_type": "stream",
          "name": "stderr",
          "text": [
            "\r 70%|███████   | 7/10 [01:26<00:41, 13.78s/it]"
          ]
        },
        {
          "output_type": "stream",
          "name": "stdout",
          "text": [
            "0.30000000000000004 0.0760626708359181\n"
          ]
        },
        {
          "output_type": "stream",
          "name": "stderr",
          "text": [
            "\r 80%|████████  | 8/10 [01:43<00:29, 14.58s/it]"
          ]
        },
        {
          "output_type": "stream",
          "name": "stdout",
          "text": [
            "0.35000000000000003 0.07968526798564246\n"
          ]
        },
        {
          "output_type": "stream",
          "name": "stderr",
          "text": [
            "\r 90%|█████████ | 9/10 [01:54<00:13, 13.46s/it]"
          ]
        },
        {
          "output_type": "stream",
          "name": "stdout",
          "text": [
            "0.4 0.07732250421683755\n"
          ]
        },
        {
          "output_type": "stream",
          "name": "stderr",
          "text": [
            "/usr/local/lib/python3.10/dist-packages/gpaw/utilities/gpts.py:44: UserWarning:\n",
            "\n",
            "Initial realspace grid (15,20,20) inconsistent with symmetries.\n",
            "\n",
            "/usr/local/lib/python3.10/dist-packages/gpaw/utilities/gpts.py:71: UserWarning:\n",
            "\n",
            "Using symmetrized grid: (20,20,20).\n",
            "\n",
            "\n",
            "100%|██████████| 10/10 [02:04<00:00, 12.50s/it]"
          ]
        },
        {
          "output_type": "stream",
          "name": "stdout",
          "text": [
            "0.45 0.0730185006278219\n",
            "CPU times: user 1min 42s, sys: 17.6 s, total: 2min\n",
            "Wall time: 2min 4s\n"
          ]
        },
        {
          "output_type": "stream",
          "name": "stderr",
          "text": [
            "\n"
          ]
        }
      ]
    },
    {
      "cell_type": "code",
      "source": [
        "import matplotlib.pyplot as plt\n",
        "%matplotlib inline\n",
        "plt.plot(strains,stresses,'-o')\n",
        "plt.xlabel('strain')\n",
        "plt.ylabel('stress')"
      ],
      "metadata": {
        "id": "bmPrF0CFomkK",
        "outputId": "2b69742f-ecd0-45d5-8d14-9c5e2b4718b9",
        "colab": {
          "base_uri": "https://localhost:8080/",
          "height": 467
        }
      },
      "execution_count": 29,
      "outputs": [
        {
          "output_type": "execute_result",
          "data": {
            "text/plain": [
              "Text(0, 0.5, 'stress')"
            ]
          },
          "metadata": {},
          "execution_count": 29
        },
        {
          "output_type": "display_data",
          "data": {
            "text/plain": [
              "<Figure size 640x480 with 1 Axes>"
            ],
            "image/png": "[encoded data removed]"
          },
          "metadata": {}
        }
      ]
    },
    {
      "cell_type": "markdown",
      "source": [
        "Get C11 elastic constant"
      ],
      "metadata": {
        "id": "9X7UPnltFQ1W"
      }
    },
    {
      "cell_type": "code",
      "source": [
        "C11 = 160*(stresses[1]-stresses[0])/(strains[1]-strains[0])\n",
        "print( 'C11', C11, 'GPa')"
      ],
      "metadata": {
        "id": "MC9T3OSEqrfC",
        "outputId": "ace78dc5-325b-4f6b-bff3-5213828a2505",
        "colab": {
          "base_uri": "https://localhost:8080/"
        }
      },
      "execution_count": 35,
      "outputs": [
        {
          "output_type": "stream",
          "name": "stdout",
          "text": [
            "C11 88.32997996572654 GPa\n"
          ]
        }
      ]
    },
    {
      "cell_type": "markdown",
      "source": [
        "Get bulk modulus using volumetrix expansion and contraction and fitting [Equation Of State](https://wiki.fysik.dtu.dk/ase/ase/eos.html) with BirchMurnaghan equation"
      ],
      "metadata": {
        "id": "nLm4MgXZFVTH"
      }
    },
    {
      "cell_type": "code",
      "source": [
        "%%time\n",
        "import numpy as np\n",
        "from ase.eos import calculate_eos\n",
        "from ase.units import kJ\n",
        "dx=np.arange(-0.05, 0.05, 0.01)\n",
        "eos = calculate_eos(aluminum)\n",
        "v, e, B = eos.fit()\n",
        "\n",
        "kv = B / kJ * 1.0e24\n",
        "print('Kv (GPa)',kv)\n"
      ],
      "metadata": {
        "id": "99iFWi248-As",
        "outputId": "d2f93346-19b7-42fb-f64b-afab28b6b125",
        "colab": {
          "base_uri": "https://localhost:8080/"
        }
      },
      "execution_count": 86,
      "outputs": [
        {
          "output_type": "stream",
          "name": "stdout",
          "text": [
            "Kv (GPa) 79.81092410300906\n",
            "CPU times: user 29.8 s, sys: 10.3 s, total: 40.2 s\n",
            "Wall time: 35.9 s\n"
          ]
        }
      ]
    },
    {
      "cell_type": "code",
      "source": [
        "eos.plot()"
      ],
      "metadata": {
        "id": "wWNHa4VV9cBF",
        "outputId": "662ec82c-cd87-47d0-8f94-cb0402af8459",
        "colab": {
          "base_uri": "https://localhost:8080/",
          "height": 501
        }
      },
      "execution_count": 88,
      "outputs": [
        {
          "output_type": "execute_result",
          "data": {
            "text/plain": [
              "<Axes: title={'center': 'sj: E: -3.730 eV, V: 16.511 Å$^3$, B: 79.811 GPa'}, xlabel='volume [Å$^3$]', ylabel='energy [eV]'>"
            ]
          },
          "metadata": {},
          "execution_count": 88
        },
        {
          "output_type": "display_data",
          "data": {
            "text/plain": [
              "<Figure size 640x480 with 1 Axes>"
            ],
            "image/png": "[encoded data removed]"
          },
          "metadata": {}
        }
      ]
    },
    {
      "cell_type": "code",
      "source": [],
      "metadata": {
        "id": "LodRPjsAqrMI"
      },
      "execution_count": null,
      "outputs": []
    },
    {
      "cell_type": "code",
      "source": [],
      "metadata": {
        "id": "hdrTcOiLqrKA"
      },
      "execution_count": null,
      "outputs": []
    },
    {
      "cell_type": "code",
      "source": [],
      "metadata": {
        "id": "-eBzyuj4nsMH"
      },
      "execution_count": null,
      "outputs": []
    },
    {
      "cell_type": "code",
      "source": [],
      "metadata": {
        "id": "DtDmzYVtnsJr"
      },
      "execution_count": null,
      "outputs": []
    },
    {
      "cell_type": "code",
      "source": [],
      "metadata": {
        "id": "ixSztsL8nsG_"
      },
      "execution_count": null,
      "outputs": []
    },
    {
      "cell_type": "code",
      "source": [],
      "metadata": {
        "id": "gF2YrDkBnsEF"
      },
      "execution_count": null,
      "outputs": []
    },
    {
      "cell_type": "markdown",
      "source": [
        "Single point calculation"
      ],
      "metadata": {
        "id": "x2qagbTszyhU"
      }
    },
    {
      "cell_type": "code",
      "source": [
        "%%time\n",
        "# Sample calculation from https://wiki.fysik.dtu.dk/gpaw/tutorialsexercises/structureoptimization/aluminium/aluminium.html\n",
        "from ase import Atoms\n",
        "from ase.visualize import view\n",
        "from gpaw import GPAW, PW\n",
        "\n",
        "name = 'Al-fcc'\n",
        "a = 4.05  # fcc lattice parameter\n",
        "b = a / 2\n",
        "\n",
        "bulk = Atoms('Al',\n",
        "             cell=[[0, b, b],\n",
        "                   [b, 0, b],\n",
        "                   [b, b, 0]],\n",
        "             pbc=True)\n",
        "\n",
        "view(bulk)\n",
        "\n",
        "k = 4\n",
        "calc = GPAW(mode=PW(300),       # cutoff\n",
        "            kpts=(k, k, k),     # k-points\n",
        "            txt=name + '.txt')  # output file\n",
        "\n",
        "bulk.calc = calc\n",
        "\n",
        "energy = bulk.get_potential_energy()\n",
        "calc.write(name + '.gpw')\n",
        "print('Energy:', energy, 'eV')"
      ],
      "metadata": {
        "colab": {
          "base_uri": "https://localhost:8080/"
        },
        "id": "T-Tq-uEXM74h",
        "outputId": "ffcda5a2-f2e4-4d4f-f50b-ca2bc80f4137"
      },
      "execution_count": 4,
      "outputs": [
        {
          "output_type": "stream",
          "name": "stdout",
          "text": [
            "Energy: -4.122151616078063 eV\n",
            "CPU times: user 2.33 s, sys: 1.41 s, total: 3.75 s\n",
            "Wall time: 2.76 s\n"
          ]
        }
      ]
    },
    {
      "cell_type": "markdown",
      "source": [
        "Geometry optimization"
      ],
      "metadata": {
        "id": "qtOP9h6Gz1g-"
      }
    },
    {
      "cell_type": "code",
      "source": [
        "from ase import Atoms\n",
        "from ase.build import bulk\n",
        "from ase.io import write\n",
        "from ase.units import GPa\n",
        "from gpaw import GPAW, PW\n",
        "from ase.optimize import BFGS\n",
        "from ase.constraints import UnitCellFilter\n",
        "from ase.eos import EquationOfState\n",
        "from jarvis.core.atoms import ase_to_atoms\n",
        "# Set up bulk aluminum\n",
        "aluminum = bulk('Al', 'fcc', a=4.05)\n",
        "print('Init',ase_to_atoms(aluminum))\n",
        "# GPAW calculator setup\n",
        "calc = GPAW(mode=PW(500),  # Plane wave cutoff\n",
        "            xc='PBE',      # Exchange-correlation functional\n",
        "            kpts=(6, 6, 6), # k-points\n",
        "            convergence={'energy': 1e-6, 'density': 1e-4, 'eigenstates': 1e-8},\n",
        "            txt='aluminum_gpaw.txt')\n",
        "\n",
        "aluminum.set_calculator(calc)\n",
        "\n",
        "# Relax the structure\n",
        "uf = UnitCellFilter(aluminum)\n",
        "opt = BFGS(uf)\n",
        "opt.run(fmax=0.01)\n",
        "\n",
        "print('Final',ase_to_atoms(aluminum))\n"
      ],
      "metadata": {
        "colab": {
          "base_uri": "https://localhost:8080/"
        },
        "id": "L8RhU3rRxgMQ",
        "outputId": "a7c789f2-05f8-44d8-af10-c112f22ef719"
      },
      "execution_count": 9,
      "outputs": [
        {
          "output_type": "stream",
          "name": "stdout",
          "text": [
            "Init System\n",
            "1.0\n",
            "0.0 2.025 2.025\n",
            "2.025 0.0 2.025\n",
            "2.025 2.025 0.0\n",
            "Al \n",
            "1 \n",
            "direct\n",
            "0.0 0.0 0.0 Al\n",
            "\n",
            "      Step     Time          Energy         fmax\n",
            "BFGS:    0 16:10:30       -3.730177        0.0436\n",
            "BFGS:    1 16:10:36       -3.730252        0.0285\n",
            "BFGS:    2 16:10:41       -3.730316        0.0003\n",
            "Final System\n",
            "1.0\n",
            "-1.1382799519927317e-17 2.021351446312309 2.0213514463123086\n",
            "2.021351446312309 -1.9507955268131013e-18 2.021351446312309\n",
            "2.021351446312309 2.021351446312309 -1.8036985343423936e-17\n",
            "Al \n",
            "1 \n",
            "direct\n",
            "-6.81137054404624e-20 6.237049310841029e-20 -6.237049310841048e-20 Al\n",
            "\n"
          ]
        }
      ]
    },
    {
      "cell_type": "code",
      "source": [
        "from jarvis.db.figshare import get_jid_data\n",
        "from jarvis.core.atoms import Atoms\n",
        "from jarvis.core.kpoints import Kpoints3D\n",
        "jid = 'JVASP-816'\n",
        "dat = get_jid_data(jid=jid,dataset='dft_3d')\n",
        "atoms = Atoms.from_dict(dat['atoms'])\n",
        "atoms = atoms.get_conventional_atoms\n",
        "ase_atoms = (atoms.get_conventional_atoms).ase_converter()\n",
        "kp = Kpoints3D().automatic_length_mesh(\n",
        "    #lattice_mat=atoms.lattice_mat,\n",
        "    #length=10\n",
        "    lattice_mat=atoms.lattice_mat, length=dat[\"kpoint_length_unit\"]\n",
        ")\n",
        "kpts = kp._kpoints[0]\n",
        "\n"
      ],
      "metadata": {
        "colab": {
          "base_uri": "https://localhost:8080/"
        },
        "id": "lX59_dT9Uq1t",
        "outputId": "e49718ab-86c1-4cfe-e615-e2d0967e1f98"
      },
      "execution_count": null,
      "outputs": [
        {
          "output_type": "stream",
          "name": "stdout",
          "text": [
            "Obtaining 3D dataset 76k ...\n",
            "Reference:https://www.nature.com/articles/s41524-020-00440-1\n",
            "Other versions:https://doi.org/10.6084/m9.figshare.6815699\n"
          ]
        },
        {
          "output_type": "stream",
          "name": "stderr",
          "text": [
            "100%|██████████| 40.8M/40.8M [00:02<00:00, 18.0MiB/s]\n"
          ]
        },
        {
          "output_type": "stream",
          "name": "stdout",
          "text": [
            "Loading the zipfile...\n",
            "Loading completed.\n"
          ]
        }
      ]
    },
    {
      "cell_type": "code",
      "source": [
        "kpts"
      ],
      "metadata": {
        "colab": {
          "base_uri": "https://localhost:8080/"
        },
        "id": "vE6L6NNQVQX_",
        "outputId": "526c9b53-6652-486d-f900-6d1d9c0f9f62"
      },
      "execution_count": null,
      "outputs": [
        {
          "output_type": "execute_result",
          "data": {
            "text/plain": [
              "[17, 17, 17]"
            ]
          },
          "metadata": {},
          "execution_count": 6
        }
      ]
    },
    {
      "cell_type": "code",
      "source": [
        "ase_atoms"
      ],
      "metadata": {
        "colab": {
          "base_uri": "https://localhost:8080/"
        },
        "id": "3QSdd1iEWoEa",
        "outputId": "0f993440-7dd2-4191-c764-04e86e9e0b90"
      },
      "execution_count": null,
      "outputs": [
        {
          "output_type": "execute_result",
          "data": {
            "text/plain": [
              "Atoms(symbols='Al4', pbc=True, cell=[4.06741, 4.06741, 4.06741])"
            ]
          },
          "metadata": {},
          "execution_count": 9
        }
      ]
    },
    {
      "cell_type": "code",
      "source": [
        "%%time\n",
        "# Sample calculation from https://wiki.fysik.dtu.dk/gpaw/tutorialsexercises/structureoptimization/aluminium/aluminium.html\n",
        "from ase import Atoms\n",
        "from ase.visualize import view\n",
        "from gpaw import GPAW, PW\n",
        "\n",
        "\n",
        "\n",
        "calc = GPAW(mode=PW(500),       # cutoff\n",
        "            kpts=kpts,     # k-points\n",
        "            txt=name + '.txt')  # output file\n",
        "\n",
        "ase_atoms.calc = calc\n",
        "\n",
        "energy = ase_atoms.get_potential_energy()\n",
        "#calc.write(name + '.gpw')\n",
        "print('Energy:', energy, 'eV')"
      ],
      "metadata": {
        "colab": {
          "base_uri": "https://localhost:8080/"
        },
        "id": "d8VbDyKxVUN1",
        "outputId": "ad0dc9a4-30ac-4408-8dc7-3b1f8a83918b"
      },
      "execution_count": null,
      "outputs": [
        {
          "output_type": "stream",
          "name": "stdout",
          "text": [
            "Energy: -16.655990977511557 eV\n",
            "CPU times: user 2min 25s, sys: 1min 32s, total: 3min 58s\n",
            "Wall time: 2min 56s\n"
          ]
        }
      ]
    },
    {
      "cell_type": "code",
      "source": [
        "%%time\n",
        "import numpy as np\n",
        "from ase.eos import calculate_eos\n",
        "dx=np.arange(-0.05, 0.05, 0.01)\n",
        "eos = calculate_eos(ase_atoms)\n",
        "v, e, B = eos.fit()\n"
      ],
      "metadata": {
        "id": "mK3UCNpiVULV"
      },
      "execution_count": null,
      "outputs": []
    },
    {
      "cell_type": "code",
      "source": [
        "from ase.units import kJ\n",
        "kv = B / kJ * 1.0e24\n",
        "kv"
      ],
      "metadata": {
        "colab": {
          "base_uri": "https://localhost:8080/"
        },
        "id": "qYu0Lh7LVUI0",
        "outputId": "78014d51-871f-4484-8fdc-f55f6e6c8cb5"
      },
      "execution_count": null,
      "outputs": [
        {
          "output_type": "execute_result",
          "data": {
            "text/plain": [
              "83.74848683933646"
            ]
          },
          "metadata": {},
          "execution_count": 12
        }
      ]
    },
    {
      "cell_type": "markdown",
      "source": [
        "# 3. Calculation of electronic band structure for Silicon"
      ],
      "metadata": {
        "id": "Dt3KbFtGu1JM"
      }
    },
    {
      "cell_type": "code",
      "source": [
        "from ase.build import bulk\n",
        "from gpaw import GPAW, PW, FermiDirac\n",
        "\n",
        "# Perform standard ground state calculation (with plane wave basis)\n",
        "si = bulk('Si', 'diamond', 5.43)\n",
        "calc = GPAW(mode=PW(200),\n",
        "            xc='PBE',\n",
        "            kpts=(8, 8, 8),\n",
        "            random=True,  # random guess (needed if many empty bands required)\n",
        "            occupations=FermiDirac(0.01),\n",
        "            txt='Si_gs.txt')\n",
        "si.calc = calc\n",
        "si.get_potential_energy()\n",
        "ef = calc.get_fermi_level()\n",
        "calc.write('Si_gs.gpw')"
      ],
      "metadata": {
        "id": "EjGLEbbBuvKT"
      },
      "execution_count": null,
      "outputs": []
    },
    {
      "cell_type": "code",
      "source": [
        "# Restart from ground state and fix potential:\n",
        "calc = GPAW('Si_gs.gpw').fixed_density(\n",
        "    nbands=16,\n",
        "    symmetry='off',\n",
        "    kpts={'path': 'GXWKL', 'npoints': 60},\n",
        "    convergence={'bands': 8})"
      ],
      "metadata": {
        "colab": {
          "base_uri": "https://localhost:8080/"
        },
        "id": "sz3cn_Qfu5s2",
        "outputId": "c147ecfd-d44b-46fb-9029-99c2396ec2a4"
      },
      "execution_count": null,
      "outputs": [
        {
          "output_type": "stream",
          "name": "stdout",
          "text": [
            "\n",
            "  ___ ___ ___ _ _ _  \n",
            " |   |   |_  | | | | \n",
            " | | | | | . | | | | \n",
            " |__ |  _|___|_____|  23.6.1\n",
            " |___|_|             \n",
            "\n",
            "User:   ???@e91e90618716\n",
            "Date:   Wed Aug  2 19:31:15 2023\n",
            "Arch:   x86_64\n",
            "Pid:    176\n",
            "CWD:    /content\n",
            "Python: 3.10.12\n",
            "gpaw:   /usr/local/lib/python3.10/dist-packages/gpaw\n",
            "_gpaw:  /usr/local/lib/python3.10/dist-packages/\n",
            "        _gpaw.cpython-310-x86_64-linux-gnu.so\n",
            "ase:    /usr/local/lib/python3.10/dist-packages/ase (version 3.22.1)\n",
            "numpy:  /usr/local/lib/python3.10/dist-packages/numpy (version 1.22.4)\n",
            "scipy:  /usr/local/lib/python3.10/dist-packages/scipy (version 1.10.1)\n",
            "libxc:  5.1.7\n",
            "units:  Angstrom and eV\n",
            "cores: 1\n",
            "OpenMP: False\n",
            "OMP_NUM_THREADS: 1\n",
            "\n",
            "Input parameters:\n",
            "  convergence: {bands: 8}\n",
            "  gpts: [14 14 14]\n",
            "  kpts: {npoints: 60,\n",
            "         path: GXWKL}\n",
            "  mode: {ecut: 200.0,\n",
            "         name: pw}\n",
            "  nbands: 16\n",
            "  occupations: {name: fermi-dirac,\n",
            "                width: 0.01}\n",
            "  random: True\n",
            "  symmetry: off\n",
            "  xc: PBE\n",
            "\n",
            "Initialize ...\n",
            "\n",
            "species:\n",
            "  Si:\n",
            "    name: Silicon\n",
            "    id: ee77bee481871cc2cb65ac61239ccafa\n",
            "    Z: 14.0\n",
            "    valence: 4\n",
            "    core: 10\n",
            "    charge: 0.0\n",
            "    file: /usr/share/gpaw-setups/Si.PBE.gz\n",
            "    compensation charges: {type: gauss,\n",
            "                           rc: 0.33,\n",
            "                           lmax: 2}\n",
            "    cutoffs: {filter: 1.86,\n",
            "              core: 2.06}\n",
            "    valence states:\n",
            "      #              energy  rcut\n",
            "      - 3s(2.00)   -10.812   1.058\n",
            "      - 3p(2.00)    -4.081   1.058\n",
            "      -  s          16.399   1.058\n",
            "      -  p          23.130   1.058\n",
            "      -  d           0.000   1.058\n",
            "  \n",
            "    # Using partial waves for Si as LCAO basis\n",
            "\n",
            "Reference energy: -15772.688500  # eV\n",
            "\n",
            "Spin-paired calculation\n",
            "\n",
            "Convergence criteria:\n",
            " Maximum [total energy] change in last 3 cyles: 0.0005 eV / valence electron\n",
            " Maximum integral of absolute [dens]ity change: 0.0001 electrons / valence electron\n",
            " Maximum integral of absolute [eigenst]ate change: 4e-08 eV^2 / valence electron\n",
            " Maximum number of scf [iter]ations: 333\n",
            " (Square brackets indicate name in SCF output, whereas a 'c' in\n",
            " the SCF output indicates the quantity has converged.)\n",
            "\n",
            "Symmetries present (total): 1\n",
            "\n",
            "  ( 1  0  0)\n",
            "  ( 0  1  0)\n",
            "  ( 0  0  1)\n",
            "\n",
            "60 k-points\n",
            "60 k-points in the irreducible part of the Brillouin zone\n",
            "       k-points in crystal coordinates                weights\n",
            "   0:     0.00000000    0.00000000    0.00000000       0.01666667\n",
            "   1:     0.02173913    0.00000000    0.02173913       0.01666667\n",
            "   2:     0.04347826    0.00000000    0.04347826       0.01666667\n",
            "   3:     0.06521739    0.00000000    0.06521739       0.01666667\n",
            "   4:     0.08695652    0.00000000    0.08695652       0.01666667\n",
            "   5:     0.10869565    0.00000000    0.10869565       0.01666667\n",
            "   6:     0.13043478    0.00000000    0.13043478       0.01666667\n",
            "   7:     0.15217391    0.00000000    0.15217391       0.01666667\n",
            "   8:     0.17391304    0.00000000    0.17391304       0.01666667\n",
            "   9:     0.19565217    0.00000000    0.19565217       0.01666667\n",
            "          ...\n",
            "  59:     0.50000000    0.50000000    0.50000000       0.01666667\n",
            "\n",
            "Wave functions: Plane wave expansion\n",
            "  Cutoff energy: 200.000 eV\n",
            "  Number of coefficients (min, max): 246, 267\n",
            "  Pulay-stress correction: 0.000000 eV/Ang^3 (de/decut=0.000000)\n",
            "  Using Numpy's FFT\n",
            "  ScaLapack parameters: grid=1x1, blocksize=None\n",
            "  Wavefunction extrapolation:\n",
            "    Improved wavefunction reuse through dual PAW basis \n",
            "\n",
            "Occupation numbers: Fermi-Dirac:\n",
            "  width: 0.0100  # eV\n",
            " \n",
            "\n",
            "Eigensolver\n",
            "   Davidson(niter=2) \n",
            "\n",
            "Densities:\n",
            "  Coarse grid: 14*14*14 grid\n",
            "  Fine grid: 28*28*28 grid\n",
            "  Total Charge: 0.000000 \n",
            "\n",
            "Density mixing:\n",
            "  Method: separate\n",
            "  Backend: pulay\n",
            "  Linear mixing parameter: 0.05\n",
            "  old densities: 5\n",
            "  Damping of long wavelength oscillations: 50 \n",
            "\n",
            "Hamiltonian:\n",
            "  XC and Coulomb potentials evaluated on a 28*28*28 grid\n",
            "  Using the PBE Exchange-Correlation functional\n",
            "  External potential:\n",
            "    NoExternalPotential\n",
            " \n",
            "\n",
            "XC parameters: PBE with 2 nearest neighbor stencil\n",
            "\n",
            "Memory estimate:\n",
            "  Process memory now: 1461.98 MiB\n",
            "  Calculator: 7.80 MiB\n",
            "    Density: 1.03 MiB\n",
            "      Arrays: 0.54 MiB\n",
            "      Localized functions: 0.27 MiB\n",
            "      Mixer: 0.21 MiB\n",
            "    Hamiltonian: 0.36 MiB\n",
            "      Arrays: 0.36 MiB\n",
            "      XC: 0.00 MiB\n",
            "      Poisson: 0.00 MiB\n",
            "      vbar: 0.01 MiB\n",
            "    Wavefunctions: 6.41 MiB\n",
            "      Arrays psit_nG: 3.91 MiB\n",
            "      Eigensolver: 0.13 MiB\n",
            "      Projections: 0.38 MiB\n",
            "      Projectors: 1.65 MiB\n",
            "      PW-descriptor: 0.35 MiB\n",
            "\n",
            "Total number of cores used: 1\n",
            "\n",
            "Number of atoms: 2\n",
            "Number of atomic orbitals: 8\n",
            "Number of bands in calculation: 16\n",
            "Number of valence electrons: 8\n",
            "Bands to converge: 8\n",
            "\n",
            "... initialized\n",
            "\n",
            "Initializing position-dependent things.\n",
            "\n",
            "Creating initial wave functions:\n",
            "  8 bands from LCAO basis set\n",
            "  8 bands from random numbers\n",
            "\n",
            "                    \n",
            "                    \n",
            "                    \n",
            "                    \n",
            "           Si       \n",
            "                    \n",
            "       Si           \n",
            "                    \n",
            "                    \n",
            "                    \n",
            "                    \n",
            "\n",
            "Positions:\n",
            "   0 Si     0.000000    0.000000    0.000000    ( 0.0000,  0.0000,  0.0000)\n",
            "   1 Si     1.357500    1.357500    1.357500    ( 0.0000,  0.0000,  0.0000)\n",
            "\n",
            "Unit cell:\n",
            "           periodic     x           y           z      points  spacing\n",
            "  1. axis:    yes    0.000000    2.715000    2.715000    14     0.2239\n",
            "  2. axis:    yes    2.715000    0.000000    2.715000    14     0.2239\n",
            "  3. axis:    yes    2.715000    2.715000    0.000000    14     0.2239\n",
            "\n",
            "  Lengths:   3.839590   3.839590   3.839590\n",
            "  Angles:   60.000000  60.000000  60.000000\n",
            "\n",
            "Effective grid spacing dv^(1/3) = 0.2443\n",
            "\n",
            "     iter     time        total  log10-change:\n",
            "                         energy  eigst   dens\n",
            "iter:   1 19:31:23   -10.227003  +0.99       c\n",
            "iter:   2 19:31:26   -10.230734  -0.52       c\n",
            "iter:   3 19:31:28   -10.230775c -2.00       c\n",
            "iter:   4 19:31:36   -10.230776c -3.50       c\n",
            "iter:   5 19:31:41   -10.230776c -5.01       c\n",
            "iter:   6 19:31:43   -10.230776c -6.55       c\n",
            "iter:   7 19:31:45   -10.230776c -8.06c      c\n",
            "\n",
            "Converged after 7 iterations.\n",
            "\n",
            "Dipole moment: (-2.923917, -2.923917, -2.923917) |e|*Ang\n",
            "\n",
            "Energy contributions relative to reference atoms: (reference = -15772.688500)\n",
            "\n",
            "Kinetic:        +16.238434\n",
            "Potential:      -13.753323\n",
            "External:        +0.000000\n",
            "XC:             -12.665833\n",
            "Entropy (-ST):   -0.000000\n",
            "Local:           -0.050054\n",
            "--------------------------\n",
            "Free energy:    -10.230776\n",
            "Extrapolated:   -10.230776\n",
            "\n",
            "Showing only first 2 kpts\n",
            " Kpt  Band  Eigenvalues  Occupancy\n",
            "  0     2      5.31705    2.00000\n",
            "  0     3      5.31705    2.00000\n",
            "  0     4      7.87649    0.00000\n",
            "  0     5      7.87649    0.00000\n",
            "\n",
            "  1     2      5.28120    2.00000\n",
            "  1     3      5.28120    2.00000\n",
            "  1     4      7.85600    0.00000\n",
            "  1     5      7.92257    0.00000\n",
            "\n",
            "\n",
            "Fermi level: 5.84558\n",
            "\n",
            "Gap: 0.571 eV\n",
            "Transition (v -> c):\n",
            "  (s=0, k=0, n=3, [0.00, 0.00, 0.00]) -> (s=0, k=19, n=4, [0.41, 0.00, 0.41])\n"
          ]
        }
      ]
    },
    {
      "cell_type": "code",
      "source": [
        "%matplotlib inline\n",
        "bs = calc.band_structure()\n",
        "bs.plot(filename='bandstructure.png', show=False, emax=10.0)"
      ],
      "metadata": {
        "colab": {
          "base_uri": "https://localhost:8080/",
          "height": 452
        },
        "id": "ksml_H8Su9Wt",
        "outputId": "3f7b86a0-17e0-4819-ff26-8ddd21e49535"
      },
      "execution_count": null,
      "outputs": [
        {
          "output_type": "execute_result",
          "data": {
            "text/plain": [
              "<Axes: ylabel='energies [eV]'>"
            ]
          },
          "metadata": {},
          "execution_count": 17
        },
        {
          "output_type": "display_data",
          "data": {
            "text/plain": [
              "<Figure size 640x480 with 1 Axes>"
            ],
            "image/png": "[encoded data removed]"
          },
          "metadata": {}
        }
      ]
    },
    {
      "cell_type": "code",
      "source": [],
      "metadata": {
        "id": "3vs7n1bl_u7I"
      },
      "execution_count": null,
      "outputs": []
    },
    {
      "cell_type": "markdown",
      "source": [
        "#4. JARVIS-Leaderboard contribution"
      ],
      "metadata": {
        "id": "q_vFpEoVHsux"
      }
    },
    {
      "cell_type": "code",
      "source": [
        "%%time\n",
        "# Source: https://github.com/usnistgov/jarvis_leaderboard/blob/main/jarvis_leaderboard/contributions/gpaw_lda/run.py\n",
        "import pandas as pd\n",
        "from gpaw import GPAW, PW, FermiDirac\n",
        "from jarvis.db.figshare import get_jid_data\n",
        "from jarvis.core.atoms import Atoms\n",
        "from jarvis.core.kpoints import Kpoints3D\n",
        "import time\n",
        "from ase.build import bulk\n",
        "from gpaw import GPAW, PW, FermiDirac\n",
        "#source: https://wiki.fysik.dtu.dk/gpaw/tutorialsexercises/electronic/band_gap/band_gap.html\n",
        "\n",
        "\n",
        "def get_band_gap(atoms=None, cutoff=500,kpts=[7,7,7],xc='LDA'):\n",
        "    calc = GPAW(mode=PW(cutoff),\n",
        "                xc=xc,\n",
        "                kpts=kpts,  # Choose and converge carefully!\n",
        "                occupations=FermiDirac(0.01),\n",
        "                txt='gs.out')\n",
        "    atoms.calc = calc\n",
        "    atoms.get_potential_energy()\n",
        "    # Calculate the discontinuity potential and the discontinuity\n",
        "    homo, lumo = calc.get_homo_lumo()\n",
        "    efermi = calc.get_fermi_level()\n",
        "    bandgap=lumo-homo\n",
        "    # response = calc.hamiltonian.xc.response\n",
        "    #dxc_pot = response.calculate_discontinuity_potential(homo, lumo)\n",
        "    # KS_gap, dxc = response.calculate_discontinuity(dxc_pot)\n",
        "\n",
        "    # Fundamental band gap = Kohn-Sham band gap + derivative discontinuity\n",
        "    #QP_gap = KS_gap + dxc\n",
        "\n",
        "    print('Band gap', bandgap)\n",
        "    print('Fermi level', efermi)\n",
        "    #print(f'Discontinuity from GLLB-sc: {dxc:.2f} eV')\n",
        "    #print(f'Fundamental band gap:       {QP_gap:.2f} eV')\n",
        "    return bandgap\n",
        "\n",
        "dat = get_jid_data(jid='JVASP-1002',dataset='dft_3d')\n",
        "silicon = Atoms.from_dict(dat['atoms'])\n",
        "ase_atoms=silicon.ase_converter()\n",
        "kp = Kpoints3D().automatic_length_mesh(\n",
        "\n",
        "    lattice_mat=dat['atoms']['lattice_mat'],\n",
        "    length=dat[\"kpoint_length_unit\"],\n",
        ")\n",
        "kpts = kp._kpoints[0]\n",
        "t1=time.time()\n",
        "KS_gap = get_band_gap(atoms=ase_atoms,kpts=kpts)\n",
        "t2=time.time()\n",
        "print('Time', t2-t1)"
      ],
      "metadata": {
        "id": "t9doD4RN_u4K",
        "outputId": "4aea3923-99eb-4794-c451-47ed5d0e20be",
        "colab": {
          "base_uri": "https://localhost:8080/"
        }
      },
      "execution_count": null,
      "outputs": [
        {
          "output_type": "stream",
          "name": "stdout",
          "text": [
            "Obtaining 3D dataset 76k ...\n",
            "Reference:https://www.nature.com/articles/s41524-020-00440-1\n",
            "Other versions:https://doi.org/10.6084/m9.figshare.6815699\n"
          ]
        },
        {
          "output_type": "stream",
          "name": "stderr",
          "text": [
            "100%|██████████| 40.8M/40.8M [00:04<00:00, 9.30MiB/s]\n"
          ]
        },
        {
          "output_type": "stream",
          "name": "stdout",
          "text": [
            "Loading the zipfile...\n",
            "Loading completed.\n"
          ]
        }
      ]
    },
    {
      "cell_type": "code",
      "source": [
        "f=open('ES-SinglePropertyPrediction-bandgap_JVASP_1002_Si-dft_3d-test-mae.csv','w')\n",
        "f.write('id,prediction\\n')\n",
        "line=jid+','+str(KS_gap)+'\\n'\n",
        "f.write(line)\n",
        "f.close()"
      ],
      "metadata": {
        "id": "Dox-OO3s_u1q"
      },
      "execution_count": null,
      "outputs": []
    },
    {
      "cell_type": "code",
      "source": [
        "!zip ES-SinglePropertyPrediction-bandgap_JVASP_1002_Si-dft_3d-test-mae.csv.zip ES-SinglePropertyPrediction-bandgap_JVASP_1002_Si-dft_3d-test-mae.csv"
      ],
      "metadata": {
        "id": "OLYasTVNI90r"
      },
      "execution_count": null,
      "outputs": []
    },
    {
      "cell_type": "markdown",
      "source": [
        "You can download the zip file by clicking on the folder icon on the left side of this notebook"
      ],
      "metadata": {
        "id": "CE0BTWonJsAk"
      }
    },
    {
      "cell_type": "markdown",
      "source": [
        "# Now you can\n",
        "\n",
        "1) [Fork](https://github.com/usnistgov/jarvis_leaderboard/fork) the jarvis-leaderboard GitHub repository\n",
        "\n",
        "2) Add a new folder in the `jarvis_leaderboard/jarvis_leaderboard\n",
        "/contributions/` folder, e.g., `gpaw_lda_test`\n",
        "\n",
        "3) In the folder, add the `ES-SinglePropertyPrediction-bandgap_JVASP_1002_Si-dft_3d-test-mae.csv.zip` file, an example `metadata.json` file, e.g. [this](https://github.com/usnistgov/jarvis_leaderboard/blob/main/jarvis_leaderboard/contributions/gpaw_lda/metadata.json) one, add a `run.sh` file, e.g. this [one](https://github.com/usnistgov/jarvis_leaderboard/blob/main/jarvis_leaderboard/contributions/gpaw_lda/run.sh)\n",
        "\n",
        "4) Make a pull request from your forked repo to the main jarvis-leaderboard"
      ],
      "metadata": {
        "id": "FYaTiaV3IVQF"
      }
    },
    {
      "cell_type": "markdown",
      "source": [],
      "metadata": {
        "id": "paxDzIQCJ7I6"
      }
    },
    {
      "cell_type": "markdown",
      "source": [
        "# 5. A quick calculation of Al(111)-Al2O3(001) interface energy"
      ],
      "metadata": {
        "id": "qAkQgidBfHc0"
      }
    },
    {
      "cell_type": "code",
      "source": [
        "import os\n",
        "import numpy as np\n",
        "from jarvis.analysis.interface.zur import make_interface\n",
        "from jarvis.analysis.defects.surface import Surface\n",
        "from gpaw import GPAW, PW\n",
        "\n",
        "def jarvis_atoms_to_energy(atoms=None,kp=[2,2,1],xc='PBE',ecut=300):\n",
        "       name='jarvis_db_gpaw'\n",
        "       calc = GPAW(mode=PW(ecut),       # cutoff\n",
        "            kpts=kp,     # k-points\n",
        "            txt=name + '.txt')\n",
        "       ase_atoms=atoms.ase_converter()\n",
        "       ase_atoms.calc=calc\n",
        "       atoms_en = ase_atoms.get_potential_energy()\n",
        "       return atoms_en\n",
        "\n",
        "def get_interface_energy(\n",
        "    film_atoms=None,\n",
        "    subs_atoms=None,\n",
        "    film_index=[1, 1, 1],\n",
        "    subs_index=[0, 0, 1],\n",
        "    film_thickness=25,\n",
        "    subs_thickness=25,\n",
        "    model_path=\"\",\n",
        "    seperation=3.0,\n",
        "    vacuum=8.0,\n",
        "    max_area_ratio_tol=1.00,\n",
        "    max_area=500,\n",
        "    ltol=0.05,\n",
        "    atol=1,\n",
        "    apply_strain=False,\n",
        "    from_conventional_structure=True,\n",
        "):\n",
        "    film_surf = Surface(\n",
        "        film_atoms,\n",
        "        indices=film_index,\n",
        "        from_conventional_structure=from_conventional_structure,\n",
        "        thickness=film_thickness,\n",
        "        vacuum=vacuum,\n",
        "    ).make_surface()\n",
        "    subs_surf = Surface(\n",
        "        subs_atoms,\n",
        "        indices=subs_index,\n",
        "        from_conventional_structure=from_conventional_structure,\n",
        "        thickness=subs_thickness,\n",
        "        vacuum=vacuum,\n",
        "    ).make_surface()\n",
        "    het = make_interface(\n",
        "        film=film_surf,\n",
        "        subs=subs_surf,\n",
        "        seperation=seperation,\n",
        "        vacuum=vacuum,\n",
        "        max_area_ratio_tol=max_area_ratio_tol,\n",
        "        max_area=max_area,\n",
        "        ltol=ltol,\n",
        "        atol=atol,\n",
        "        apply_strain=apply_strain,\n",
        "    )\n",
        "    film_en = jarvis_atoms_to_energy(het[\"film_sl\"])\n",
        "    print('film_en', film_en)\n",
        "    subs_en = jarvis_atoms_to_energy(het[\"subs_sl\"])\n",
        "    print ('subs_en', subs_en)\n",
        "    intf_en = jarvis_atoms_to_energy(het[\"interface\"])\n",
        "    print('intf_en', intf_en)\n",
        "\n",
        "    m = het[\"interface\"].lattice.matrix\n",
        "    area = np.linalg.norm(np.cross(m[0], m[1]))\n",
        "    intf_energy = 16 * (intf_en - subs_en - film_en) / (area)  # J/m2\n",
        "    het[\"interface_energy\"] = intf_energy\n",
        "    return het\n",
        "\n",
        "\n"
      ],
      "metadata": {
        "id": "JgKrU6CjNNMf"
      },
      "execution_count": null,
      "outputs": []
    },
    {
      "cell_type": "markdown",
      "source": [
        "It might take more than a hour"
      ],
      "metadata": {
        "id": "-WUGVTLAucwT"
      }
    },
    {
      "cell_type": "code",
      "source": [
        "from jarvis.db.figshare import get_jid_data\n",
        "from jarvis.core.atoms import Atoms\n",
        "atoms_al = Atoms.from_dict(\n",
        "    get_jid_data(dataset=\"dft_3d\", jid=\"JVASP-816\")[\"atoms\"]\n",
        ")\n",
        "atoms_al2o3 = Atoms.from_dict(\n",
        "    get_jid_data(dataset=\"dft_3d\", jid=\"JVASP-32\")[\"atoms\"]\n",
        ")\n",
        "intf = get_interface_energy(\n",
        "    film_atoms=atoms_al, subs_atoms=atoms_al2o3, film_thickness=10, subs_thickness=10\n",
        ")\n",
        "print(intf[\"interface_energy\"] )\n"
      ],
      "metadata": {
        "colab": {
          "base_uri": "https://localhost:8080/"
        },
        "id": "KuBfFS4vcnmC",
        "outputId": "9b3d8d6f-bc60-485f-f130-4d25a1173dcd"
      },
      "execution_count": null,
      "outputs": [
        {
          "output_type": "stream",
          "name": "stdout",
          "text": [
            "Obtaining 3D dataset 55k ...\n",
            "Reference:https://www.nature.com/articles/s41524-020-00440-1\n",
            "Loading the zipfile...\n",
            "Loading completed.\n",
            "Obtaining 3D dataset 55k ...\n",
            "Reference:https://www.nature.com/articles/s41524-020-00440-1\n",
            "Loading the zipfile...\n",
            "Loading completed.\n",
            "mismatch_u,mismatch_v 0.03706886202229698 0.03706805926123646\n"
          ]
        },
        {
          "output_type": "stream",
          "name": "stderr",
          "text": [
            "/usr/local/lib/python3.7/site-packages/jarvis/core/atoms.py:1596: RuntimeWarning: divide by zero encountered in double_scalars\n",
            "  ) / bottom.lattice_mat[1][1]\n"
          ]
        },
        {
          "output_type": "stream",
          "name": "stdout",
          "text": [
            "film_en -140.35238830139863\n",
            "subs_en -440.90161284833647\n",
            "intf_en -587.6015482599141\n",
            "-1.2706412219766434\n"
          ]
        }
      ]
    },
    {
      "cell_type": "code",
      "source": [],
      "metadata": {
        "id": "7ZsMh8aVfFdP"
      },
      "execution_count": null,
      "outputs": []
    }
  ]
}