{
  "nbformat": 4,
  "nbformat_minor": 0,
  "metadata": {
    "colab": {
      "name": "GPAW-Colab.ipynb",
      "provenance": [],
      "authorship_tag": "ABX9TyMonxBE37Mb8etGzEINIl8b",
      "include_colab_link": true
    },
    "kernelspec": {
      "name": "python3",
      "display_name": "Python 3"
    },
    "language_info": {
      "name": "python"
    }
  },
  "cells": [
    {
      "cell_type": "markdown",
      "metadata": {
        "id": "view-in-github",
        "colab_type": "text"
      },
      "source": [
        "<a href=\"https://colab.research.google.com/github/knc6/jarvis-tools-notebooks/blob/master/jarvis-tools-notebooks/GPAW_Colab.ipynb\" target=\"_parent\"><img src=\"https://colab.research.google.com/assets/colab-badge.svg\" alt=\"Open In Colab\"/></a>"
      ]
    },
    {
      "cell_type": "markdown",
      "source": [
        "## Table of Contents\n",
        "\n",
        "1. Install [GPAW](https://wiki.fysik.dtu.dk/gpaw/) and [JARVIS-Tools](https://github.com/usnistgov/jarvis)\n",
        "2. Aluminum crystal structure, property calculations and visualizations\n",
        "3. Silicon bandstructure\n",
        "4. Example JARVIS-Leaderboard contribution\n",
        "5. Interface energy calculation\n",
        "Author: Kamal Choudhary (kamal.choudhary@nist.gov)\n"
      ],
      "metadata": {
        "id": "FHkc191CvMJm"
      }
    },
    {
      "cell_type": "markdown",
      "source": [
        "There are many DFT sotware. In this tutorial we will use GPAW. GPAW is a density-functional theory (DFT) Python code based on the projector-augmented wave (PAW) method and the [atomic simulation environment (ASE)](https://wiki.fysik.dtu.dk/ase/)."
      ],
      "metadata": {
        "id": "dBXAS69DGfpN"
      }
    },
    {
      "cell_type": "markdown",
      "source": [
        "# 1. Installation"
      ],
      "metadata": {
        "id": "qiochdFxNbpL"
      }
    },
    {
      "cell_type": "code",
      "source": [
        "%%time\n",
        "!apt install python3-mpi4py cython3 libxc-dev gpaw-data\n",
        "!pip -q install gpaw jarvis-tools spglib"
      ],
      "metadata": {
        "colab": {
          "base_uri": "https://localhost:8080/"
        },
        "id": "Hk_GsDWcpMkO",
        "outputId": "e97906d1-e63e-4f80-ce9a-62beeddd8249"
      },
      "execution_count": 1,
      "outputs": [
        {
          "output_type": "stream",
          "name": "stdout",
          "text": [
            "Reading package lists... Done\n",
            "Building dependency tree... Done\n",
            "Reading state information... Done\n",
            "The following additional packages will be installed:\n",
            "  libxc9\n",
            "Suggested packages:\n",
            "  cython-doc python3-numpy\n",
            "The following NEW packages will be installed:\n",
            "  cython3 gpaw-data libxc-dev libxc9 python3-mpi4py\n",
            "0 upgraded, 5 newly installed, 0 to remove and 49 not upgraded.\n",
            "Need to get 66.5 MB of archives.\n",
            "After this operation, 102 MB of additional disk space will be used.\n",
            "Get:1 http://archive.ubuntu.com/ubuntu jammy/universe amd64 cython3 amd64 0.29.28-1ubuntu3 [1,336 kB]\n",
            "Get:2 http://archive.ubuntu.com/ubuntu jammy/universe amd64 gpaw-data all 0.9.20000-2 [52.7 MB]\n",
            "Get:3 http://archive.ubuntu.com/ubuntu jammy/universe amd64 libxc9 amd64 5.1.7-1ubuntu1 [3,900 kB]\n",
            "Get:4 http://archive.ubuntu.com/ubuntu jammy/universe amd64 libxc-dev amd64 5.1.7-1ubuntu1 [8,038 kB]\n",
            "Get:5 http://archive.ubuntu.com/ubuntu jammy/universe amd64 python3-mpi4py amd64 3.1.3-1build2 [465 kB]\n",
            "Fetched 66.5 MB in 3s (21.0 MB/s)\n",
            "Selecting previously unselected package cython3.\n",
            "(Reading database ... 124565 files and directories currently installed.)\n",
            "Preparing to unpack .../cython3_0.29.28-1ubuntu3_amd64.deb ...\n",
            "Unpacking cython3 (0.29.28-1ubuntu3) ...\n",
            "Selecting previously unselected package gpaw-data.\n",
            "Preparing to unpack .../gpaw-data_0.9.20000-2_all.deb ...\n",
            "Unpacking gpaw-data (0.9.20000-2) ...\n",
            "Selecting previously unselected package libxc9:amd64.\n",
            "Preparing to unpack .../libxc9_5.1.7-1ubuntu1_amd64.deb ...\n",
            "Unpacking libxc9:amd64 (5.1.7-1ubuntu1) ...\n",
            "Selecting previously unselected package libxc-dev.\n",
            "Preparing to unpack .../libxc-dev_5.1.7-1ubuntu1_amd64.deb ...\n",
            "Unpacking libxc-dev (5.1.7-1ubuntu1) ...\n",
            "Selecting previously unselected package python3-mpi4py.\n",
            "Preparing to unpack .../python3-mpi4py_3.1.3-1build2_amd64.deb ...\n",
            "Unpacking python3-mpi4py (3.1.3-1build2) ...\n",
            "Setting up python3-mpi4py (3.1.3-1build2) ...\n",
            "Setting up gpaw-data (0.9.20000-2) ...\n",
            "Setting up cython3 (0.29.28-1ubuntu3) ...\n",
            "Setting up libxc9:amd64 (5.1.7-1ubuntu1) ...\n",
            "Setting up libxc-dev (5.1.7-1ubuntu1) ...\n",
            "Processing triggers for libc-bin (2.35-0ubuntu3.4) ...\n",
            "/sbin/ldconfig.real: /usr/local/lib/libtcm.so.1 is not a symbolic link\n",
            "\n",
            "/sbin/ldconfig.real: /usr/local/lib/libur_adapter_opencl.so.0 is not a symbolic link\n",
            "\n",
            "/sbin/ldconfig.real: /usr/local/lib/libtbbmalloc_proxy.so.2 is not a symbolic link\n",
            "\n",
            "/sbin/ldconfig.real: /usr/local/lib/libtbbmalloc.so.2 is not a symbolic link\n",
            "\n",
            "/sbin/ldconfig.real: /usr/local/lib/libur_loader.so.0 is not a symbolic link\n",
            "\n",
            "/sbin/ldconfig.real: /usr/local/lib/libtbbbind.so.3 is not a symbolic link\n",
            "\n",
            "/sbin/ldconfig.real: /usr/local/lib/libur_adapter_level_zero.so.0 is not a symbolic link\n",
            "\n",
            "/sbin/ldconfig.real: /usr/local/lib/libtbb.so.12 is not a symbolic link\n",
            "\n",
            "/sbin/ldconfig.real: /usr/local/lib/libtbbbind_2_0.so.3 is not a symbolic link\n",
            "\n",
            "/sbin/ldconfig.real: /usr/local/lib/libtcm_debug.so.1 is not a symbolic link\n",
            "\n",
            "/sbin/ldconfig.real: /usr/local/lib/libumf.so.0 is not a symbolic link\n",
            "\n",
            "/sbin/ldconfig.real: /usr/local/lib/libhwloc.so.15 is not a symbolic link\n",
            "\n",
            "/sbin/ldconfig.real: /usr/local/lib/libtbbbind_2_5.so.3 is not a symbolic link\n",
            "\n",
            "\u001b[2K     \u001b[90m━━━━━━━━━━━━━━━━━━━━━━━━━━━━━━━━━━━━━━━━\u001b[0m \u001b[32m2.0/2.0 MB\u001b[0m \u001b[31m50.0 MB/s\u001b[0m eta \u001b[36m0:00:00\u001b[0m\n",
            "\u001b[?25h  Preparing metadata (setup.py) ... \u001b[?25l\u001b[?25hdone\n",
            "\u001b[2K   \u001b[90m━━━━━━━━━━━━━━━━━━━━━━━━━━━━━━━━━━━━━━━━\u001b[0m \u001b[32m4.2/4.2 MB\u001b[0m \u001b[31m78.4 MB/s\u001b[0m eta \u001b[36m0:00:00\u001b[0m\n",
            "\u001b[2K   \u001b[90m━━━━━━━━━━━━━━━━━━━━━━━━━━━━━━━━━━━━━━━━\u001b[0m \u001b[32m2.9/2.9 MB\u001b[0m \u001b[31m79.9 MB/s\u001b[0m eta \u001b[36m0:00:00\u001b[0m\n",
            "\u001b[?25h  Building wheel for gpaw (setup.py) ... \u001b[?25l\u001b[?25hdone\n",
            "CPU times: user 476 ms, sys: 70.6 ms, total: 547 ms\n",
            "Wall time: 1min 5s\n"
          ]
        }
      ]
    },
    {
      "cell_type": "code",
      "source": [
        "!gpaw test"
      ],
      "metadata": {
        "colab": {
          "base_uri": "https://localhost:8080/"
        },
        "id": "oUJ_xBy6M0B0",
        "outputId": "16665c12-b09c-4502-9a1d-b70c23a6c7e3"
      },
      "execution_count": 2,
      "outputs": [
        {
          "output_type": "stream",
          "name": "stdout",
          "text": [
            " -------------------------------------------------------------------------------------------------\n",
            "| python-3.11.11    /usr/bin/python3                                                              |\n",
            "| gpaw-25.1.0       /usr/local/lib/python3.11/dist-packages/gpaw/                                 |\n",
            "| ase-3.24.0        /usr/local/lib/python3.11/dist-packages/ase/                                  |\n",
            "| numpy-1.26.4      /usr/local/lib/python3.11/dist-packages/numpy/                                |\n",
            "| scipy-1.13.1      /usr/local/lib/python3.11/dist-packages/scipy/                                |\n",
            "| libxc-5.1.7       yes                                                                           |\n",
            "| _gpaw             /usr/local/lib/python3.11/dist-packages/_gpaw.cpython-311-x86_64-linux-gnu.so |\n",
            "| MPI enabled       yes                                                                           |\n",
            "| OpenMP enabled    no                                                                            |\n",
            "| GPU enabled       no                                                                            |\n",
            "| GPU-aware MPI     no                                                                            |\n",
            "| cupy-fake         /usr/local/lib/python3.11/dist-packages/gpaw/gpu/cpupy/__init__.py            |\n",
            "| scalapack         no                                                                            |\n",
            "| Elpa              no                                                                            |\n",
            "| FFTW              no                                                                            |\n",
            "| libvdwxc          no                                                                            |\n",
            "| PAW-datasets (1)  /usr/local/share/gpaw-setups                                                  |\n",
            "| PAW-datasets (2)  /usr/share/gpaw-setups                                                        |\n",
            " -------------------------------------------------------------------------------------------------\n",
            "Doing a test calculation (cores: 1): ... Done\n",
            "\n",
            "Test parallel calculation with \"gpaw -P 4 test\".\n"
          ]
        }
      ]
    },
    {
      "cell_type": "code",
      "source": [
        "!gpaw info"
      ],
      "metadata": {
        "colab": {
          "base_uri": "https://localhost:8080/"
        },
        "id": "USX6nHMXMcqJ",
        "outputId": "d7af9bc3-cc2f-421d-8293-2e9947c216a7"
      },
      "execution_count": 3,
      "outputs": [
        {
          "output_type": "stream",
          "name": "stdout",
          "text": [
            " -------------------------------------------------------------------------------------------------\n",
            "| python-3.11.11    /usr/bin/python3                                                              |\n",
            "| gpaw-25.1.0       /usr/local/lib/python3.11/dist-packages/gpaw/                                 |\n",
            "| ase-3.24.0        /usr/local/lib/python3.11/dist-packages/ase/                                  |\n",
            "| numpy-1.26.4      /usr/local/lib/python3.11/dist-packages/numpy/                                |\n",
            "| scipy-1.13.1      /usr/local/lib/python3.11/dist-packages/scipy/                                |\n",
            "| libxc-5.1.7       yes                                                                           |\n",
            "| _gpaw             /usr/local/lib/python3.11/dist-packages/_gpaw.cpython-311-x86_64-linux-gnu.so |\n",
            "| MPI enabled       yes                                                                           |\n",
            "| OpenMP enabled    no                                                                            |\n",
            "| GPU enabled       no                                                                            |\n",
            "| GPU-aware MPI     no                                                                            |\n",
            "| cupy-fake         /usr/local/lib/python3.11/dist-packages/gpaw/gpu/cpupy/__init__.py            |\n",
            "| scalapack         no                                                                            |\n",
            "| Elpa              no                                                                            |\n",
            "| FFTW              no                                                                            |\n",
            "| libvdwxc          no                                                                            |\n",
            "| PAW-datasets (1)  /usr/local/share/gpaw-setups                                                  |\n",
            "| PAW-datasets (2)  /usr/share/gpaw-setups                                                        |\n",
            " -------------------------------------------------------------------------------------------------\n"
          ]
        }
      ]
    },
    {
      "cell_type": "markdown",
      "source": [
        "# 2. FCC Aluminum"
      ],
      "metadata": {
        "id": "L0BdLsSDqg23"
      }
    },
    {
      "cell_type": "markdown",
      "source": [
        "There are several ways to represent atomic structures such as CIF, XYZ, PDB, POSCAR formats etc. Usually, they have lattice matrix, chemical element and their crystallographic 3D coordinates information. Here we will use the POSCAR format."
      ],
      "metadata": {
        "id": "vYWzWBYPnxg7"
      }
    },
    {
      "cell_type": "code",
      "source": [
        "poscar = \"\"\"MySystem\n",
        "1.0\n",
        "0.0 2.025 2.025\n",
        "2.025 0.0 2.025\n",
        "2.025 2.025 0.0\n",
        "Al\n",
        "1\n",
        "direct\n",
        "0.0 0.0 0.0 Al\n",
        "\"\"\"\n",
        "# Note difference between unit cell and conventional cell"
      ],
      "metadata": {
        "id": "uUguaAgUn8f7"
      },
      "execution_count": 3,
      "outputs": []
    },
    {
      "cell_type": "code",
      "source": [
        "from jarvis.io.vasp.inputs import Poscar\n",
        "atoms = Poscar.from_string(poscar).atoms #Poscar.from_file('POSCAR')\n"
      ],
      "metadata": {
        "id": "dLGkDSLAoJTz"
      },
      "execution_count": 4,
      "outputs": []
    },
    {
      "cell_type": "markdown",
      "source": [
        "These atomic structures could be in primitive (least number of atoms), or conventionals (usually more number of atoms) forms, e.g. 1 vs 4 below. Lesser number of atoms reduces computational cost."
      ],
      "metadata": {
        "id": "swZ5bMF_A96J"
      }
    },
    {
      "cell_type": "code",
      "source": [
        "# pip install -q spglib"
      ],
      "metadata": {
        "id": "AaILk_9mnUbe"
      },
      "execution_count": 5,
      "outputs": []
    },
    {
      "cell_type": "code",
      "source": [
        "atoms.get_primitive_atoms"
      ],
      "metadata": {
        "colab": {
          "base_uri": "https://localhost:8080/"
        },
        "id": "fVcW3eU1BRqx",
        "outputId": "e5727527-e37e-4ed8-a349-504086b15b6e"
      },
      "execution_count": 6,
      "outputs": [
        {
          "output_type": "execute_result",
          "data": {
            "text/plain": [
              "System\n",
              "1.0\n",
              "0.0 2.025 2.025\n",
              "2.025 0.0 2.025\n",
              "2.025 2.025 0.0\n",
              "Al \n",
              "1 \n",
              "direct\n",
              "0.0 0.0 0.0 Al"
            ]
          },
          "metadata": {},
          "execution_count": 6
        }
      ]
    },
    {
      "cell_type": "code",
      "source": [
        "atoms.get_conventional_atoms"
      ],
      "metadata": {
        "colab": {
          "base_uri": "https://localhost:8080/"
        },
        "id": "KGd7L-pjA9aw",
        "outputId": "11df1ae4-97b5-4b42-b65d-5f2be104fb2c"
      },
      "execution_count": 7,
      "outputs": [
        {
          "output_type": "stream",
          "name": "stderr",
          "text": [
            "/usr/local/lib/python3.11/dist-packages/spglib/spglib.py:115: DeprecationWarning: dict interface (SpglibDataset['number']) is deprecated.Use attribute interface ({self.__class__.__name__}.{key}) instead\n",
            "  warnings.warn(\n",
            "/usr/local/lib/python3.11/dist-packages/spglib/spglib.py:115: DeprecationWarning: dict interface (SpglibDataset['international']) is deprecated.Use attribute interface ({self.__class__.__name__}.{key}) instead\n",
            "  warnings.warn(\n"
          ]
        },
        {
          "output_type": "execute_result",
          "data": {
            "text/plain": [
              "System\n",
              "1.0\n",
              "4.05 0.0 0.0\n",
              "0.0 4.05 0.0\n",
              "0.0 0.0 4.05\n",
              "Al \n",
              "4 \n",
              "direct\n",
              "0.0 0.0 0.0 Al\n",
              "0.0 0.5 0.5 Al\n",
              "0.5 0.0 0.5 Al\n",
              "0.5 0.5 0.0 Al"
            ]
          },
          "metadata": {},
          "execution_count": 7
        }
      ]
    },
    {
      "cell_type": "code",
      "source": [
        "aluminum=atoms.ase_converter()"
      ],
      "metadata": {
        "id": "51flI6I1AzW_"
      },
      "execution_count": 8,
      "outputs": []
    },
    {
      "cell_type": "code",
      "source": [
        "from ase.visualize import view\n",
        "view(atoms.make_supercell_matrix([3,3,3]).ase_converter(),viewer='x3d')"
      ],
      "metadata": {
        "colab": {
          "base_uri": "https://localhost:8080/",
          "height": 317
        },
        "id": "vukVBbiS9uHG",
        "outputId": "da34c87a-f940-434b-8db2-6d6058c61a36"
      },
      "execution_count": 9,
      "outputs": [
        {
          "output_type": "execute_result",
          "data": {
            "text/plain": [
              "<IPython.core.display.HTML object>"
            ],
            "text/html": [
              "<html>\n",
              "    <head>\n",
              "        <title>ASE atomic visualization</title>\n",
              "        <link rel=\"stylesheet\" type=\"text/css\"             href=\"https://www.x3dom.org/release/x3dom.css\"></link>\n",
              "        <script type=\"text/javascript\"             src=\"https://www.x3dom.org/release/x3dom.js\"></script>\n",
              "    </head>\n",
              "    <body>\n",
              "        <X3D width=\"400px\"; height=\"300px\";>\n",
              "\n",
              "<!--Inserting Generated X3D Scene-->\n",
              "<scene>\n",
              "  <viewpoint position=\"0 0 16.2\">\n",
              "    <group/>\n",
              "  </viewpoint>\n",
              "  <transform translation=\"-0.0 -0.0 -0.0\">\n",
              "    <group>\n",
              "      <group>\n",
              "        <transform translation=\"0 0 0\">\n",
              "          <shape>\n",
              "            <appearance>\n",
              "              <material diffuseColor=\"0 0 0\"/>\n",
              "            </appearance>\n",
              "            <lineset vertexCount=\"5\">\n",
              "              <coordinate point=\"0 0 0 0.0 6.075 6.075 6.075 6.075 12.15 6.075 0.0 6.075 0 0 0\"/>\n",
              "            </lineset>\n",
              "          </shape>\n",
              "        </transform>\n",
              "        <transform translation=\"6.075 6.075 0.0\">\n",
              "          <shape>\n",
              "            <appearance>\n",
              "              <material diffuseColor=\"0 0 0\"/>\n",
              "            </appearance>\n",
              "            <lineset vertexCount=\"5\">\n",
              "              <coordinate point=\"0 0 0 0.0 6.075 6.075 6.075 6.075 12.15 6.075 0.0 6.075 0 0 0\"/>\n",
              "            </lineset>\n",
              "          </shape>\n",
              "        </transform>\n",
              "        <transform translation=\"0 0 0\">\n",
              "          <shape>\n",
              "            <appearance>\n",
              "              <material diffuseColor=\"0 0 0\"/>\n",
              "            </appearance>\n",
              "            <lineset vertexCount=\"5\">\n",
              "              <coordinate point=\"0 0 0 0.0 6.075 6.075 6.075 12.15 6.075 6.075 6.075 0.0 0 0 0\"/>\n",
              "            </lineset>\n",
              "          </shape>\n",
              "        </transform>\n",
              "        <transform translation=\"6.075 0.0 6.075\">\n",
              "          <shape>\n",
              "            <appearance>\n",
              "              <material diffuseColor=\"0 0 0\"/>\n",
              "            </appearance>\n",
              "            <lineset vertexCount=\"5\">\n",
              "              <coordinate point=\"0 0 0 0.0 6.075 6.075 6.075 12.15 6.075 6.075 6.075 0.0 0 0 0\"/>\n",
              "            </lineset>\n",
              "          </shape>\n",
              "        </transform>\n",
              "      </group>\n",
              "      <group>\n",
              "        <transform translation=\"0.0 0.0 0.0\">\n",
              "          <shape>\n",
              "            <appearance>\n",
              "              <material diffuseColor=\"0.749 0.651 0.651\"/>\n",
              "            </appearance>\n",
              "            <sphere radius=\"1.21\"/>\n",
              "          </shape>\n",
              "        </transform>\n",
              "        <transform translation=\"2.025 2.025 0.0\">\n",
              "          <shape>\n",
              "            <appearance>\n",
              "              <material diffuseColor=\"0.749 0.651 0.651\"/>\n",
              "            </appearance>\n",
              "            <sphere radius=\"1.21\"/>\n",
              "          </shape>\n",
              "        </transform>\n",
              "        <transform translation=\"4.05 4.05 0.0\">\n",
              "          <shape>\n",
              "            <appearance>\n",
              "              <material diffuseColor=\"0.749 0.651 0.651\"/>\n",
              "            </appearance>\n",
              "            <sphere radius=\"1.21\"/>\n",
              "          </shape>\n",
              "        </transform>\n",
              "        <transform translation=\"2.025 0.0 2.025\">\n",
              "          <shape>\n",
              "            <appearance>\n",
              "              <material diffuseColor=\"0.749 0.651 0.651\"/>\n",
              "            </appearance>\n",
              "            <sphere radius=\"1.21\"/>\n",
              "          </shape>\n",
              "        </transform>\n",
              "        <transform translation=\"4.05 2.025 2.025\">\n",
              "          <shape>\n",
              "            <appearance>\n",
              "              <material diffuseColor=\"0.749 0.651 0.651\"/>\n",
              "            </appearance>\n",
              "            <sphere radius=\"1.21\"/>\n",
              "          </shape>\n",
              "        </transform>\n",
              "        <transform translation=\"6.075 4.05 2.025\">\n",
              "          <shape>\n",
              "            <appearance>\n",
              "              <material diffuseColor=\"0.749 0.651 0.651\"/>\n",
              "            </appearance>\n",
              "            <sphere radius=\"1.21\"/>\n",
              "          </shape>\n",
              "        </transform>\n",
              "        <transform translation=\"4.05 0.0 4.05\">\n",
              "          <shape>\n",
              "            <appearance>\n",
              "              <material diffuseColor=\"0.749 0.651 0.651\"/>\n",
              "            </appearance>\n",
              "            <sphere radius=\"1.21\"/>\n",
              "          </shape>\n",
              "        </transform>\n",
              "        <transform translation=\"6.075 2.025 4.05\">\n",
              "          <shape>\n",
              "            <appearance>\n",
              "              <material diffuseColor=\"0.749 0.651 0.651\"/>\n",
              "            </appearance>\n",
              "            <sphere radius=\"1.21\"/>\n",
              "          </shape>\n",
              "        </transform>\n",
              "        <transform translation=\"8.1 4.05 4.05\">\n",
              "          <shape>\n",
              "            <appearance>\n",
              "              <material diffuseColor=\"0.749 0.651 0.651\"/>\n",
              "            </appearance>\n",
              "            <sphere radius=\"1.21\"/>\n",
              "          </shape>\n",
              "        </transform>\n",
              "        <transform translation=\"0.0 2.025 2.025\">\n",
              "          <shape>\n",
              "            <appearance>\n",
              "              <material diffuseColor=\"0.749 0.651 0.651\"/>\n",
              "            </appearance>\n",
              "            <sphere radius=\"1.21\"/>\n",
              "          </shape>\n",
              "        </transform>\n",
              "        <transform translation=\"2.025 4.05 2.025\">\n",
              "          <shape>\n",
              "            <appearance>\n",
              "              <material diffuseColor=\"0.749 0.651 0.651\"/>\n",
              "            </appearance>\n",
              "            <sphere radius=\"1.21\"/>\n",
              "          </shape>\n",
              "        </transform>\n",
              "        <transform translation=\"4.05 6.075 2.025\">\n",
              "          <shape>\n",
              "            <appearance>\n",
              "              <material diffuseColor=\"0.749 0.651 0.651\"/>\n",
              "            </appearance>\n",
              "            <sphere radius=\"1.21\"/>\n",
              "          </shape>\n",
              "        </transform>\n",
              "        <transform translation=\"2.025 2.025 4.05\">\n",
              "          <shape>\n",
              "            <appearance>\n",
              "              <material diffuseColor=\"0.749 0.651 0.651\"/>\n",
              "            </appearance>\n",
              "            <sphere radius=\"1.21\"/>\n",
              "          </shape>\n",
              "        </transform>\n",
              "        <transform translation=\"4.05 4.05 4.05\">\n",
              "          <shape>\n",
              "            <appearance>\n",
              "              <material diffuseColor=\"0.749 0.651 0.651\"/>\n",
              "            </appearance>\n",
              "            <sphere radius=\"1.21\"/>\n",
              "          </shape>\n",
              "        </transform>\n",
              "        <transform translation=\"6.075 6.075 4.05\">\n",
              "          <shape>\n",
              "            <appearance>\n",
              "              <material diffuseColor=\"0.749 0.651 0.651\"/>\n",
              "            </appearance>\n",
              "            <sphere radius=\"1.21\"/>\n",
              "          </shape>\n",
              "        </transform>\n",
              "        <transform translation=\"4.05 2.025 6.075\">\n",
              "          <shape>\n",
              "            <appearance>\n",
              "              <material diffuseColor=\"0.749 0.651 0.651\"/>\n",
              "            </appearance>\n",
              "            <sphere radius=\"1.21\"/>\n",
              "          </shape>\n",
              "        </transform>\n",
              "        <transform translation=\"6.075 4.05 6.075\">\n",
              "          <shape>\n",
              "            <appearance>\n",
              "              <material diffuseColor=\"0.749 0.651 0.651\"/>\n",
              "            </appearance>\n",
              "            <sphere radius=\"1.21\"/>\n",
              "          </shape>\n",
              "        </transform>\n",
              "        <transform translation=\"8.1 6.075 6.075\">\n",
              "          <shape>\n",
              "            <appearance>\n",
              "              <material diffuseColor=\"0.749 0.651 0.651\"/>\n",
              "            </appearance>\n",
              "            <sphere radius=\"1.21\"/>\n",
              "          </shape>\n",
              "        </transform>\n",
              "        <transform translation=\"0.0 4.05 4.05\">\n",
              "          <shape>\n",
              "            <appearance>\n",
              "              <material diffuseColor=\"0.749 0.651 0.651\"/>\n",
              "            </appearance>\n",
              "            <sphere radius=\"1.21\"/>\n",
              "          </shape>\n",
              "        </transform>\n",
              "        <transform translation=\"2.025 6.075 4.05\">\n",
              "          <shape>\n",
              "            <appearance>\n",
              "              <material diffuseColor=\"0.749 0.651 0.651\"/>\n",
              "            </appearance>\n",
              "            <sphere radius=\"1.21\"/>\n",
              "          </shape>\n",
              "        </transform>\n",
              "        <transform translation=\"4.05 8.1 4.05\">\n",
              "          <shape>\n",
              "            <appearance>\n",
              "              <material diffuseColor=\"0.749 0.651 0.651\"/>\n",
              "            </appearance>\n",
              "            <sphere radius=\"1.21\"/>\n",
              "          </shape>\n",
              "        </transform>\n",
              "        <transform translation=\"2.025 4.05 6.075\">\n",
              "          <shape>\n",
              "            <appearance>\n",
              "              <material diffuseColor=\"0.749 0.651 0.651\"/>\n",
              "            </appearance>\n",
              "            <sphere radius=\"1.21\"/>\n",
              "          </shape>\n",
              "        </transform>\n",
              "        <transform translation=\"4.05 6.075 6.075\">\n",
              "          <shape>\n",
              "            <appearance>\n",
              "              <material diffuseColor=\"0.749 0.651 0.651\"/>\n",
              "            </appearance>\n",
              "            <sphere radius=\"1.21\"/>\n",
              "          </shape>\n",
              "        </transform>\n",
              "        <transform translation=\"6.075 8.1 6.075\">\n",
              "          <shape>\n",
              "            <appearance>\n",
              "              <material diffuseColor=\"0.749 0.651 0.651\"/>\n",
              "            </appearance>\n",
              "            <sphere radius=\"1.21\"/>\n",
              "          </shape>\n",
              "        </transform>\n",
              "        <transform translation=\"4.05 4.05 8.1\">\n",
              "          <shape>\n",
              "            <appearance>\n",
              "              <material diffuseColor=\"0.749 0.651 0.651\"/>\n",
              "            </appearance>\n",
              "            <sphere radius=\"1.21\"/>\n",
              "          </shape>\n",
              "        </transform>\n",
              "        <transform translation=\"6.075 6.075 8.1\">\n",
              "          <shape>\n",
              "            <appearance>\n",
              "              <material diffuseColor=\"0.749 0.651 0.651\"/>\n",
              "            </appearance>\n",
              "            <sphere radius=\"1.21\"/>\n",
              "          </shape>\n",
              "        </transform>\n",
              "        <transform translation=\"8.1 8.1 8.1\">\n",
              "          <shape>\n",
              "            <appearance>\n",
              "              <material diffuseColor=\"0.749 0.651 0.651\"/>\n",
              "            </appearance>\n",
              "            <sphere radius=\"1.21\"/>\n",
              "          </shape>\n",
              "        </transform>\n",
              "      </group>\n",
              "    </group>\n",
              "  </transform>\n",
              "</scene>\n",
              "<!--End of Inserted Scene-->\n",
              "\n",
              "        </X3D>\n",
              "    </body>\n",
              "</html>\n",
              "\n"
            ]
          },
          "metadata": {},
          "execution_count": 9
        }
      ]
    },
    {
      "cell_type": "markdown",
      "source": [
        "Lattice constants (for repeat units) are spcific to crystals. We can get reliable estimates of lattice constants using GPAW by relaxing the simulation cell."
      ],
      "metadata": {
        "id": "q_hBoC1FB1Dd"
      }
    },
    {
      "cell_type": "code",
      "source": [
        "%%time\n",
        "from gpaw import GPAW, PW\n",
        "from ase.optimize import BFGS\n",
        "from ase.constraints import UnitCellFilter\n",
        "from jarvis.core.atoms import ase_to_atoms\n",
        "# Set up bulk aluminum\n",
        "print('Init',ase_to_atoms(aluminum))\n",
        "# GPAW calculator setup\n",
        "calc = GPAW(mode=PW(500),  # Plane wave cutoff\n",
        "            xc='PBE',      # Exchange-correlation functional\n",
        "            kpts=(6, 6, 6), # k-points\n",
        "            convergence={'energy': 1e-6, 'density': 1e-4, 'eigenstates': 1e-8},\n",
        "            txt='aluminum_gpaw.txt')\n",
        "\n",
        "aluminum.set_calculator(calc)\n",
        "\n",
        "# Relax the structure\n",
        "uf = UnitCellFilter(aluminum)\n",
        "opt = BFGS(uf)\n",
        "opt.run(fmax=0.01)\n",
        "\n",
        "print('Final',ase_to_atoms(aluminum))\n"
      ],
      "metadata": {
        "colab": {
          "base_uri": "https://localhost:8080/"
        },
        "id": "BJKozaTDompL",
        "outputId": "d5c3bbac-0af2-4f45-83b2-7edc3d42f8ac"
      },
      "execution_count": 10,
      "outputs": [
        {
          "output_type": "stream",
          "name": "stdout",
          "text": [
            "Init System\n",
            "1.0\n",
            "0.0 2.025 2.025\n",
            "2.025 0.0 2.025\n",
            "2.025 2.025 0.0\n",
            "Al \n",
            "1 \n",
            "direct\n",
            "0.0 0.0 0.0 Al\n",
            "\n"
          ]
        },
        {
          "output_type": "stream",
          "name": "stderr",
          "text": [
            "<timed exec>:14: FutureWarning: Please use atoms.calc = calc\n",
            "<timed exec>:17: FutureWarning: Import UnitCellFilter from ase.filters\n"
          ]
        },
        {
          "output_type": "stream",
          "name": "stdout",
          "text": [
            "      Step     Time          Energy          fmax\n",
            "BFGS:    0 17:31:29       -3.737307        0.043566\n",
            "BFGS:    1 17:31:33       -3.737372        0.028517\n",
            "BFGS:    2 17:31:38       -3.737420        0.000296\n",
            "Final System\n",
            "1.0\n",
            "-1.1382799519927317e-17 2.021351446312309 2.0213514463123086\n",
            "2.021351446312309 -1.9507955268131013e-18 2.021351446312309\n",
            "2.021351446312309 2.021351446312309 -1.8036985343423936e-17\n",
            "Al \n",
            "1 \n",
            "direct\n",
            "-6.81137054404624e-20 6.237049310841029e-20 -6.237049310841048e-20 Al\n",
            "\n",
            "CPU times: user 17.2 s, sys: 4.91 s, total: 22.1 s\n",
            "Wall time: 16.1 s\n"
          ]
        }
      ]
    },
    {
      "cell_type": "markdown",
      "source": [
        "Output: Energy, Forces, Stress (basic properties)"
      ],
      "metadata": {
        "id": "mF3gKAvvW81H"
      }
    },
    {
      "cell_type": "code",
      "source": [
        "aluminum.get_total_energy() #eV"
      ],
      "metadata": {
        "id": "NVR1RtOIXADg",
        "outputId": "3a543101-1573-4da4-eebf-0939a230d5f8",
        "colab": {
          "base_uri": "https://localhost:8080/"
        }
      },
      "execution_count": 11,
      "outputs": [
        {
          "output_type": "execute_result",
          "data": {
            "text/plain": [
              "-3.730316314230597"
            ]
          },
          "metadata": {},
          "execution_count": 11
        }
      ]
    },
    {
      "cell_type": "code",
      "source": [
        "aluminum.get_forces() #eV/Angstrom"
      ],
      "metadata": {
        "id": "ramuAs-wXD73",
        "outputId": "1f9ea246-d552-4d4e-b933-6821f077b5ef",
        "colab": {
          "base_uri": "https://localhost:8080/"
        }
      },
      "execution_count": 12,
      "outputs": [
        {
          "output_type": "execute_result",
          "data": {
            "text/plain": [
              "array([[6.60235325e-33, 4.29152962e-32, 5.28188260e-32]])"
            ]
          },
          "metadata": {},
          "execution_count": 12
        }
      ]
    },
    {
      "cell_type": "code",
      "source": [
        "# The stress on the cell should be as low as possible\n",
        "initial_stress = aluminum.get_stress()\n",
        "print('Stress 1x6 vector eV/Å³', initial_stress)\n",
        "# Note stress can be 1x6 vector called Voigt notation or 3x3 matrix representation\n",
        "# Here we are using Voigt notation"
      ],
      "metadata": {
        "colab": {
          "base_uri": "https://localhost:8080/"
        },
        "id": "KCg7mkhQpkfM",
        "outputId": "df17cc36-c5b5-4807-8e24-9f081ee3cef9"
      },
      "execution_count": 13,
      "outputs": [
        {
          "output_type": "stream",
          "name": "stdout",
          "text": [
            "Stress 1x6 vector eV/Å³ [-1.78617772e-05 -1.78617772e-05 -1.78617772e-05  1.24433568e-17\n",
            " -1.65911425e-18  7.77709803e-20]\n"
          ]
        }
      ]
    },
    {
      "cell_type": "markdown",
      "source": [
        "Note we can use energy,forces, stress information to develop/train force-fields which are used in molecular dynamics simulations."
      ],
      "metadata": {
        "id": "_lntv5edXPx5"
      }
    },
    {
      "cell_type": "code",
      "source": [],
      "metadata": {
        "id": "yCZSIwlBW2Cz"
      },
      "execution_count": null,
      "outputs": []
    },
    {
      "cell_type": "markdown",
      "source": [
        "Electronic density of states"
      ],
      "metadata": {
        "id": "gVQ2JjWEDaf4"
      }
    },
    {
      "cell_type": "code",
      "source": [
        "import matplotlib.pyplot as plt\n",
        "%matplotlib inline\n",
        "energies, dos = calc.get_dos(spin=0, npts=2001, width=0.2)\n",
        "e_f = calc.get_fermi_level()\n",
        "plt.plot(energies - e_f, dos)\n",
        "plt.xlim([-15, 10])\n",
        "plt.ylim([0, 0.5])\n",
        "plt.xlabel('Energy (eV)')\n",
        "plt.ylabel('DOS (states/eV)')\n",
        "plt.fill_between(energies - e_f, 0, dos, where=(energies - e_f < 0), facecolor='blue', alpha=0.25)\n",
        "plt.axvline(x=0,linestyle='-.',color='green')\n",
        "# The left hand side represent electron filled states\n",
        "# The Fermi level (green line) is set to zero"
      ],
      "metadata": {
        "colab": {
          "base_uri": "https://localhost:8080/",
          "height": 472
        },
        "id": "90Z-hVyIDZ1t",
        "outputId": "e3a28401-9db2-4b4f-a1de-29150269f4c7"
      },
      "execution_count": 14,
      "outputs": [
        {
          "output_type": "execute_result",
          "data": {
            "text/plain": [
              "<matplotlib.lines.Line2D at 0x7e8b46f8d2d0>"
            ]
          },
          "metadata": {},
          "execution_count": 14
        },
        {
          "output_type": "display_data",
          "data": {
            "text/plain": [
              "<Figure size 640x480 with 1 Axes>"
            ],
            "image/png": "[encoded data removed]"
          },
          "metadata": {}
        }
      ]
    },
    {
      "cell_type": "markdown",
      "source": [
        "Electronic band structure"
      ],
      "metadata": {
        "id": "BquNgGHdESur"
      }
    },
    {
      "cell_type": "code",
      "source": [
        "# Restart from ground state and fix potential:\n",
        "calc2 = calc.fixed_density(\n",
        "    nbands=16,\n",
        "    symmetry='off',\n",
        "    kpts={'path': 'GXWKL', 'npoints': 60},\n",
        "    convergence={'bands': 8})"
      ],
      "metadata": {
        "colab": {
          "base_uri": "https://localhost:8080/"
        },
        "id": "zC_jO0AvEUpu",
        "outputId": "3fa10499-3b98-4d8a-e4d7-34238a8960e6"
      },
      "execution_count": 15,
      "outputs": [
        {
          "output_type": "stream",
          "name": "stdout",
          "text": [
            "\n",
            "  ___ ___ ___ _ _ _  \n",
            " |   |   |_  | | | | \n",
            " | | | | | . | | | | \n",
            " |__ |  _|___|_____|  25.1.0\n",
            " |___|_|             \n",
            "\n",
            "User:   ???@728b4a770674\n",
            "Date:   Sun Jan 19 17:32:07 2025\n",
            "Arch:   x86_64\n",
            "Pid:    1468\n",
            "CWD:    /content\n",
            "Python: 3.11.11\n",
            "gpaw:   /usr/local/lib/python3.11/dist-packages/gpaw\n",
            "_gpaw:  /usr/local/lib/python3.11/dist-packages/\n",
            "        _gpaw.cpython-311-x86_64-linux-gnu.so\n",
            "ase:    /usr/local/lib/python3.11/dist-packages/ase (version 3.24.0)\n",
            "numpy:  /usr/local/lib/python3.11/dist-packages/numpy (version 1.26.4)\n",
            "scipy:  /usr/local/lib/python3.11/dist-packages/scipy (version 1.13.1)\n",
            "libxc:  5.1.7\n",
            "units:  Angstrom and eV\n",
            "cores: 1\n",
            "OpenMP: False\n",
            "OMP_NUM_THREADS: 1\n",
            "\n",
            "Input parameters:\n",
            "  convergence: {bands: 8}\n",
            "  gpts: [15 15 15]\n",
            "  kpts: {npoints: 60,\n",
            "         path: GXWKL}\n",
            "  mode: {ecut: 500.0,\n",
            "         name: pw}\n",
            "  nbands: 16\n",
            "  symmetry: off\n",
            "  xc: PBE\n",
            "\n",
            "Initialize ...\n",
            "\n",
            "species:\n",
            "  Al:\n",
            "    name: Aluminium\n",
            "    id: 0292cae29f5d6237e50f6abdd43a7bdd\n",
            "    Z: 13.0\n",
            "    valence: 3\n",
            "    core: 10\n",
            "    charge: 0.0\n",
            "    file: /usr/share/gpaw-setups/Al.PBE.gz\n",
            "    compensation charges: {type: gauss,\n",
            "                           rc: 0.34,\n",
            "                           lmax: 2}\n",
            "    cutoffs: {filter: 1.91,\n",
            "              core: 2.36}\n",
            "    projectors:\n",
            "      #              energy  rcut\n",
            "      - 3s(2.00)    -7.753   1.085\n",
            "      - 3p(1.00)    -2.712   1.085\n",
            "      -  s          19.459   1.085\n",
            "      -  p          24.499   1.085\n",
            "      -  d           0.000   1.085\n",
            "  \n",
            "    # Using partial waves for Al as LCAO basis\n",
            "\n",
            "Reference energy: -6603.423265  # eV\n",
            "\n",
            "Spin-paired calculation\n",
            "\n",
            "Convergence criteria:\n",
            " Maximum [total energy] change in last 3 cyles: 0.0005 eV / valence electron\n",
            " Maximum integral of absolute [dens]ity change: 0.0001 electrons / valence electron\n",
            " Maximum integral of absolute [eigenst]ate change: 4e-08 eV^2 / valence electron\n",
            " Maximum number of scf [iter]ations: 333\n",
            " (Square brackets indicate name in SCF output, whereas a 'c' in\n",
            " the SCF output indicates the quantity has converged.)\n",
            "\n",
            "Symmetries present (total): 1\n",
            "\n",
            "  ( 1  0  0)\n",
            "  ( 0  1  0)\n",
            "  ( 0  0  1)\n",
            "\n",
            "60 k-points\n",
            "60 k-points in the irreducible part of the Brillouin zone\n",
            "       k-points in crystal coordinates                weights\n",
            "   0:     0.00000000    0.00000000    0.00000000       0.01666667\n",
            "   1:     0.02173913    0.00000000    0.02173913       0.01666667\n",
            "   2:     0.04347826    0.00000000    0.04347826       0.01666667\n",
            "   3:     0.06521739    0.00000000    0.06521739       0.01666667\n",
            "   4:     0.08695652    0.00000000    0.08695652       0.01666667\n",
            "   5:     0.10869565    0.00000000    0.10869565       0.01666667\n",
            "   6:     0.13043478    0.00000000    0.13043478       0.01666667\n",
            "   7:     0.15217391    0.00000000    0.15217391       0.01666667\n",
            "   8:     0.17391304    0.00000000    0.17391304       0.01666667\n",
            "   9:     0.19565217    0.00000000    0.19565217       0.01666667\n",
            "          ...\n",
            "  59:     0.50000000    0.50000000    0.50000000       0.01666667\n",
            "\n",
            "Wave functions: Plane wave expansion\n",
            "  Cutoff energy: 500.000 eV\n",
            "  Number of coefficients (min, max): 410, 444\n",
            "  Pulay-stress correction: 0.000000 eV/Ang^3 (de/decut=0.000000)\n",
            "  Using Numpy's FFT\n",
            "  ScaLapack parameters: grid=1x1, blocksize=None\n",
            "  Wavefunction extrapolation:\n",
            "    Improved wavefunction reuse through dual PAW basis \n",
            "\n",
            "Occupation numbers: Fermi-Dirac:\n",
            "  width: 0.1000  # eV\n",
            " \n",
            "\n",
            "Eigensolver\n",
            "   Davidson(niter=2) \n",
            "\n",
            "Densities:\n",
            "  Coarse grid: 15*15*15 grid\n",
            "  Fine grid: 30*30*30 grid\n",
            "  Total Charge: 0.000000 \n",
            "\n",
            "Density mixing:\n",
            "  Method: separate\n",
            "  Backend: pulay\n",
            "  Linear mixing parameter: 0.05\n",
            "  old densities: 5\n",
            "  Damping of long wavelength oscillations: 50 \n",
            "\n",
            "Hamiltonian:\n",
            "  XC and Coulomb potentials evaluated on a 30*30*30 grid\n",
            "  Using the PBE Exchange-Correlation functional\n",
            "  External potential:\n",
            "    NoExternalPotential\n",
            " \n",
            "\n",
            "XC parameters: PBE with 2 nearest neighbor stencil\n",
            "\n",
            "Memory estimate:\n",
            "  Process memory now: 309.16 MiB\n",
            "  Calculator: 11.92 MiB\n",
            "    Density: 1.37 MiB\n",
            "      Arrays: 0.67 MiB\n",
            "      Localized functions: 0.44 MiB\n",
            "      Mixer: 0.26 MiB\n",
            "    Hamiltonian: 0.45 MiB\n",
            "      Arrays: 0.44 MiB\n",
            "      XC: 0.00 MiB\n",
            "      Poisson: 0.00 MiB\n",
            "      vbar: 0.01 MiB\n",
            "    Wavefunctions: 10.11 MiB\n",
            "      Arrays psit_nG: 6.50 MiB\n",
            "      Eigensolver: 0.18 MiB\n",
            "      Projections: 0.19 MiB\n",
            "      Projectors: 2.70 MiB\n",
            "      PW-descriptor: 0.54 MiB\n",
            "\n",
            "Total number of cores used: 1\n",
            "\n",
            "Number of atoms: 1\n",
            "Number of atomic orbitals: 4\n",
            "Number of bands in calculation: 16\n",
            "Number of valence electrons: 3\n",
            "Bands to converge: 8\n",
            "\n",
            "... initialized\n",
            "\n",
            "Initializing position-dependent things.\n",
            "\n",
            "Creating initial wave functions:\n",
            "  4 bands from LCAO basis set\n",
            "  12 bands from random numbers\n",
            "\n",
            "                \n",
            "                \n",
            "                \n",
            "       Al       \n",
            "                \n",
            "                \n",
            "                \n",
            "                \n",
            "\n",
            "Positions:\n",
            "   0 Al    -0.000000   -0.000000   -0.000000    ( 0.0000,  0.0000,  0.0000)\n",
            "\n",
            "Unit cell:\n",
            "           periodic     x           y           z      points  spacing\n",
            "  1. axis:    yes   -0.000000    2.021351    2.021351    15     0.1556\n",
            "  2. axis:    yes    2.021351   -0.000000    2.021351    15     0.1556\n",
            "  3. axis:    yes    2.021351    2.021351   -0.000000    15     0.1556\n",
            "\n",
            "  Lengths:   2.858623   2.858623   2.858623\n",
            "  Angles:   60.000000  60.000000  60.000000\n",
            "\n",
            "Effective grid spacing dv^(1/3) = 0.1698\n",
            "\n",
            "     iter     time        total  log10-change:\n",
            "                         energy   eigst   dens\n",
            "iter:   1 17:32:10     0.665483   +2.73       c\n",
            "iter:   2 17:32:12     0.666330   +0.97       c\n",
            "iter:   3 17:32:15     0.666334c  -0.36       c\n",
            "iter:   4 17:32:20     0.666334c  -1.75       c\n",
            "iter:   5 17:32:22     0.666334c  -3.38       c\n",
            "iter:   6 17:32:24     0.666334c  -5.16       c\n",
            "iter:   7 17:32:26     0.666334c  -6.85       c\n",
            "iter:   8 17:32:28     0.666334c  -8.43c      c\n",
            "\n",
            "Converged after 8 iterations.\n",
            "\n",
            "Dipole moment: (-0.000000, 0.000000, 0.000000) |e|*Ang\n",
            "\n",
            "Energy contributions relative to reference atoms: (reference = -6603.423265)\n",
            "\n",
            "Kinetic:         +8.041882\n",
            "Potential:       -1.726461\n",
            "External:        +0.000000\n",
            "XC:              -5.632227\n",
            "Entropy (-ST):   -0.021241\n",
            "Local:           -0.006239\n",
            "SIC:             +0.000000\n",
            "--------------------------\n",
            "Free energy:     +0.655713\n",
            "Extrapolated:    +0.666334\n",
            "\n",
            "Showing only first 2 kpts\n",
            " Kpt  Band  Eigenvalues  Occupancy\n",
            "  0     0     -3.98099    2.00000\n",
            "  0     1     19.77031    0.00000\n",
            "  0     2     19.77031    0.00000\n",
            "\n",
            "  1     0     -3.96386    2.00000\n",
            "  1     1     19.52801    0.00000\n",
            "  1     2     19.52801    0.00000\n",
            "\n",
            "\n",
            "Fermi level: 7.06451\n",
            "\n",
            "No gap\n",
            "No difference between direct/indirect transitions\n"
          ]
        }
      ]
    },
    {
      "cell_type": "code",
      "source": [
        "%matplotlib inline\n",
        "bs = calc2.band_structure()\n",
        "bs.plot(filename='bandstructure.png', show=False, emax=25.0)"
      ],
      "metadata": {
        "colab": {
          "base_uri": "https://localhost:8080/",
          "height": 452
        },
        "id": "HZF_m_xxEYH3",
        "outputId": "5182ee92-498f-4ec0-9eb9-1976ef614738"
      },
      "execution_count": 16,
      "outputs": [
        {
          "output_type": "execute_result",
          "data": {
            "text/plain": [
              "<Axes: ylabel='energies [eV]'>"
            ]
          },
          "metadata": {},
          "execution_count": 16
        },
        {
          "output_type": "display_data",
          "data": {
            "text/plain": [
              "<Figure size 640x480 with 1 Axes>"
            ],
            "image/png": "[encoded data removed]"
          },
          "metadata": {}
        }
      ]
    },
    {
      "cell_type": "markdown",
      "source": [
        "Electron density cloud"
      ],
      "metadata": {
        "id": "8gua0O07EoFM"
      }
    },
    {
      "cell_type": "code",
      "source": [
        "density = calc.get_pseudo_density()\n",
        "print(density.shape,density.max())"
      ],
      "metadata": {
        "colab": {
          "base_uri": "https://localhost:8080/"
        },
        "id": "R6cYmrZ0EskE",
        "outputId": "72e26115-0d52-43f7-d9d1-34500075f2b3"
      },
      "execution_count": 17,
      "outputs": [
        {
          "output_type": "stream",
          "name": "stdout",
          "text": [
            "(15, 15, 15) 0.4083657440344834\n"
          ]
        }
      ]
    },
    {
      "cell_type": "code",
      "source": [
        "import plotly.graph_objects as go\n",
        "import numpy as np\n",
        "\n",
        "# Create a sample NxNxN data\n",
        "N = 15\n",
        "x, y, z = np.mgrid[:N, :N, :N]\n",
        "values = density  # Example 3D data\n",
        "\n",
        "# Create the volume plot\n",
        "fig = go.Figure(data=go.Volume(\n",
        "    x=x.flatten(),\n",
        "    y=y.flatten(),\n",
        "    z=z.flatten(),\n",
        "    value=values.flatten(),\n",
        "    # isomin=-1,  # Minimum value to visualize\n",
        "    # isomax=1,   # Maximum value to visualize\n",
        "    opacity=0.1,  # Opacity of the volume\n",
        "    surface_count=17,  # Number of isosurfaces\n",
        "    colorscale='RdBu'  # Colorscale\n",
        "))\n",
        "\n",
        "# Update layout for better visualization\n",
        "fig.update_layout(\n",
        "    scene=dict(\n",
        "        xaxis_title='X axis',\n",
        "        yaxis_title='Y axis',\n",
        "        zaxis_title='Z axis'\n",
        "    ),\n",
        "    title=\"3D Volume Plot\"\n",
        ")\n",
        "\n",
        "# Show the plot\n",
        "fig.show()\n"
      ],
      "metadata": {
        "colab": {
          "base_uri": "https://localhost:8080/",
          "height": 542
        },
        "id": "2DwfGcq_Enos",
        "outputId": "5d73ccbd-ce2c-4397-a5b0-ece93059459a"
      },
      "execution_count": 18,
      "outputs": [
        {
          "output_type": "display_data",
          "data": {
            "text/html": [
              "<html>\n",
              "<head><meta charset=\"utf-8\" /></head>\n",
              "<body>\n",
              "    <div>            <script src=\"https://cdnjs.cloudflare.com/ajax/libs/mathjax/2.7.5/MathJax.js?config=TeX-AMS-MML_SVG\"></script><script type=\"text/javascript\">if (window.MathJax && window.MathJax.Hub && window.MathJax.Hub.Config) {window.MathJax.Hub.Config({SVG: {font: \"STIX-Web\"}});}</script>                <script type=\"text/javascript\">window.PlotlyConfig = {MathJaxConfig: 'local'};</script>\n",
              "        <script charset=\"utf-8\" src=\"https://cdn.plot.ly/plotly-2.35.2.min.js\"></script>                <div id=\"d169a4ee-b9de-4c22-9a2c-0c39dc56037f\" class=\"plotly-graph-div\" style=\"height:525px; width:100%;\"></div>            <script type=\"text/javascript\">                                    window.PLOTLYENV=window.PLOTLYENV || {};                                    if (document.getElementById(\"d169a4ee-b9de-4c22-9a2c-0c39dc56037f\")) {                    Plotly.newPlot(                        \"d169a4ee-b9de-4c22-9a2c-0c39dc56037f\",                        [{\"colorscale\":[[0.0,\"rgb(103,0,31)\"],[0.1,\"rgb(178,24,43)\"],[0.2,\"rgb(214,96,77)\"],[0.3,\"rgb(244,165,130)\"],[0.4,\"rgb(253,219,199)\"],[0.5,\"rgb(247,247,247)\"],[0.6,\"rgb(209,229,240)\"],[0.7,\"rgb(146,197,222)\"],[0.8,\"rgb(67,147,195)\"],[0.9,\"rgb(33,102,172)\"],[1.0,\"rgb(5,48,97)\"]],\"opacity\":0.1,\"surface\":{\"count\":17},\"value\":[0.4083657440344834,0.39502084319747527,0.35793740150127457,0.3106753808942697,0.26601320787401606,0.23225001650537339,0.21344488164280254,0.2039366687464471,0.20393666874644908,0.21344488164280595,0.2322500165053735,0.26601320787401606,0.31067538089426844,0.35793740150127457,0.39502084319747527,0.39502084319747294,0.36959531389874434,0.3275454369276182,0.28267098671435303,0.24412000319070876,0.2192939978094473,0.20599274232562798,0.20080356609833805,0.20599274232562872,0.21929399780944647,0.24412000319070828,0.282670986714352,0.3275454369276173,0.36959531389874434,0.39502084319747455,0.3579374015012761,0.32754543692761734,0.2888668104824422,0.25135686667868473,0.22344188465691286,0.2068807894317887,0.19761709887551082,0.19761709887551132,0.2068807894317887,0.22344188465691117,0.25135686667868423,0.2888668104824422,0.3275454369276173,0.3579374015012751,0.3695953138987438,0.31067538089426927,0.2826709867143525,0.25135686667868623,0.2249973324714686,0.20703043018932007,0.19514280851947932,0.19040490690805384,0.19514280851947932,0.20703043018932,0.22499733247146889,0.25135686667868573,0.282670986714352,0.3106753808942693,0.3275454369276162,0.3275454369276197,0.2660132078740162,0.24412000319070895,0.22344188465691006,0.2070304301893185,0.19411679692373773,0.18648174828399833,0.1864817482839983,0.19411679692373954,0.20703043018931913,0.22344188465691192,0.24412000319070815,0.26601320787401644,0.28267098671435303,0.2888668104824418,0.28267098671435165,0.23225001650537316,0.2192939978094471,0.20688078943178845,0.19514280851947882,0.1864817482839966,0.18355677524051103,0.18648174828399638,0.19514280851947946,0.20688078943178853,0.21929399780944703,0.2322500165053731,0.24412000319070828,0.25135686667868595,0.25135686667868595,0.2441200031907081,0.21344488164280384,0.20599274232562895,0.1976170988755094,0.19040490690805426,0.18648174828399855,0.18648174828399663,0.19040490690805528,0.19761709887551063,0.20599274232562836,0.21344488164280587,0.21929399780944683,0.22344188465691117,0.22499733247147077,0.2234418846569126,0.21929399780944636,0.20393666874644747,0.20080356609833755,0.19761709887550974,0.19514280851947916,0.19411679692373945,0.19514280851947854,0.19761709887551202,0.20080356609833808,0.20393666874644875,0.20599274232562897,0.20688078943178836,0.20703043018932013,0.20703043018932002,0.20688078943178917,0.20599274232562742,0.20393666874644942,0.2059927423256279,0.2068807894317881,0.20703043018931983,0.2070304301893169,0.20688078943179,0.20599274232562798,0.20393666874644675,0.20080356609834094,0.19761709887550963,0.19514280851947907,0.19411679692373981,0.19514280851947916,0.19761709887550985,0.20080356609833896,0.2134448816428041,0.21929399780944636,0.2234418846569108,0.22499733247146997,0.22344188465691103,0.2192939978094466,0.21344488164280306,0.20599274232562906,0.19761709887550896,0.19040490690805364,0.18648174828399827,0.18648174828399866,0.19040490690805484,0.19761709887550888,0.20599274232562723,0.23225001650537114,0.24412000319070895,0.2513568666786852,0.25135686667868556,0.24412000319070945,0.23225001650537297,0.2192939978094481,0.2068807894317893,0.19514280851947774,0.1864817482839983,0.1835567752405097,0.1864817482839982,0.1951428085194802,0.20688078943178867,0.2192939978094474,0.2660132078740167,0.2826709867143532,0.28886681048243856,0.28267098671435165,0.26601320787401594,0.24412000319070973,0.223441884656912,0.2070304301893203,0.19411679692373845,0.18648174828399788,0.18648174828399833,0.1941167969237385,0.20703043018932088,0.22344188465691253,0.24412000319070956,0.3106753808942698,0.32754543692761867,0.3275454369276151,0.31067538089426827,0.2826709867143522,0.25135686667868457,0.22499733247147052,0.20703043018932046,0.19514280851947907,0.19040490690805514,0.19514280851947757,0.20703043018931894,0.2249973324714686,0.25135686667868623,0.2826709867143521,0.3579374015012746,0.36959531389874434,0.357937401501277,0.327545436927616,0.28886681048243973,0.25135686667868473,0.22344188465691095,0.20688078943178853,0.19761709887550957,0.19761709887550916,0.20688078943178978,0.2234418846569132,0.25135686667868623,0.2888668104824422,0.32754543692761445,0.39502084319747544,0.39502084319747455,0.3695953138987438,0.32754543692761573,0.28267098671435326,0.24412000319070923,0.2192939978094483,0.20599274232562859,0.2008035660983387,0.20599274232562897,0.21929399780944867,0.24412000319070834,0.2826709867143523,0.32754543692761473,0.36959531389874317,0.39502084319747444,0.3695953138987438,0.32754543692761734,0.2826709867143527,0.2441200031907089,0.21929399780944778,0.2059927423256282,0.2008035660983367,0.20599274232562745,0.21929399780944683,0.2441200031907078,0.2826709867143524,0.3275454369276158,0.36959531389874434,0.3950208431974761,0.36959531389874273,0.3374885067811535,0.2968268522560485,0.2575407189122794,0.22806070560836395,0.21094501602005677,0.20167145930571534,0.2016714593057164,0.21094501602005722,0.22806070560836156,0.25754071891228053,0.2968268522560491,0.3374885067811552,0.3695953138987443,0.3817993202736464,0.3275454369276172,0.29682685225605054,0.2625759422116308,0.23334426532304714,0.21399892981767943,0.20191659438460496,0.19705612721345653,0.20191659438460574,0.21399892981767915,0.23334426532304967,0.262575942211631,0.2968268522560502,0.32754543692761845,0.34631514784275014,0.3463151478427509,0.28267098671434854,0.2575407189122824,0.2333442653230492,0.21503380107429293,0.20172134816406775,0.19365807696657683,0.1936580769665768,0.2017213481640678,0.21503380107429232,0.23334426532304767,0.25754071891228025,0.2826709867143532,0.3015297515461742,0.308603312732106,0.30152975154617545,0.2441200031907088,0.22806070560836475,0.2139989298176784,0.20172134816406756,0.19243498043797092,0.18912354833380823,0.19243498043796942,0.2017213481640671,0.21399892981767885,0.2280607056083634,0.24412000319070856,0.258887517509606,0.2676904601781269,0.2676904601781269,0.2588875175096081,0.21929399780944717,0.2109450160200574,0.20191659438460727,0.19365807696657575,0.18912354833380995,0.18912354833380954,0.19365807696657641,0.20191659438460713,0.2109450160200569,0.21929399780944783,0.22690906210385228,0.23277420007360336,0.23501184551477527,0.23277420007360217,0.22690906210385364,0.20599274232562695,0.20167145930571426,0.19705612721345764,0.19365807696657575,0.19243498043797014,0.1936580769665771,0.1970561272134585,0.20167145930571503,0.20599274232562859,0.2088108165804928,0.21029530556697879,0.21096799594225976,0.21096799594225846,0.21029530556698026,0.20881081658049508,0.20080356609834002,0.20167145930571642,0.201916594384604,0.2017213481640676,0.20172134816406848,0.2019165943846063,0.20167145930571473,0.20080356609833913,0.19929302579375902,0.1973671209871232,0.19550430746926084,0.19464870045801103,0.19550430746926084,0.19736712098712267,0.19929302579375954,0.20599274232562845,0.21094501602005722,0.21399892981767657,0.21503380107429163,0.21399892981767787,0.2109450160200563,0.20599274232562859,0.19929302579375963,0.19220283541790872,0.18643677309140697,0.1830983446985348,0.1830983446985349,0.18643677309140694,0.1922028354179083,0.19929302579376001,0.21929399780944683,0.22806070560836658,0.2333442653230485,0.23334426532304842,0.22806070560836475,0.21929399780944858,0.2088108165804952,0.1973671209871255,0.1864367730914085,0.17874983936216918,0.17616699943628875,0.1787498393621696,0.18643677309140624,0.19736712098712356,0.20881081658049508,0.24412000319070942,0.25754071891228,0.26257594221163216,0.25754071891227853,0.24412000319070973,0.22690906210385364,0.21029530556697923,0.19550430746926037,0.18309834469853423,0.17616699943628888,0.1761669994362885,0.1830983446985348,0.19550430746926079,0.21029530556697937,0.2269090621038528,0.2826709867143534,0.29682685225605016,0.29682685225605115,0.2826709867143532,0.258887517509608,0.232774200073606,0.21096799594225915,0.19464870045801044,0.1830983446985349,0.17874983936216807,0.18309834469853367,0.1946487004580091,0.21096799594226057,0.2327742000736052,0.2588875175096073,0.3275454369276154,0.3374885067811563,0.327545436927619,0.30152975154617684,0.2676904601781269,0.23501184551477317,0.21096799594225787,0.1955043074692597,0.18643677309140722,0.18643677309140885,0.19550430746926012,0.21096799594225948,0.23501184551477344,0.26769046017812637,0.3015297515461773,0.36959531389874434,0.36959531389874434,0.3463151478427501,0.30860331273210834,0.2676904601781271,0.23277420007360394,0.2102953055669803,0.19736712098712395,0.19220283541790895,0.19736712098712342,0.2102953055669787,0.23277420007360575,0.26769046017812814,0.30860331273210856,0.34631514784275064,0.3950208431974751,0.3817993202736474,0.34631514784275236,0.3015297515461755,0.258887517509608,0.2269090621038535,0.20881081658049466,0.1992930257937609,0.1992930257937591,0.2088108165804948,0.22690906210385622,0.25888751750960703,0.3015297515461763,0.34631514784275097,0.3817993202736474,0.3579374015012761,0.3275454369276158,0.28886681048244023,0.2513568666786878,0.22344188465691198,0.2068807894317899,0.1976170988755118,0.19761709887551115,0.20688078943178964,0.22344188465690995,0.2513568666786857,0.28886681048244217,0.3275454369276155,0.3579374015012761,0.3695953138987438,0.32754543692761734,0.29682685225605043,0.26257594221163355,0.2333442653230477,0.2139989298176796,0.20191659438460632,0.19705612721345847,0.20191659438460635,0.21399892981767782,0.23334426532304872,0.2625759422116331,0.2968268522560485,0.32754543692761656,0.3463151478427515,0.3463151478427509,0.28886681048244006,0.2625759422116331,0.23705303294153054,0.21792226071093104,0.2044553842349683,0.19628564747622884,0.1962856474762276,0.20445538423496668,0.21792226071093004,0.2370530329415306,0.26257594221163233,0.2888668104824418,0.30860331273210656,0.3160586465125716,0.3086033127321094,0.25135686667868534,0.2333442653230485,0.21792226071093104,0.2052312749397503,0.19564666914295106,0.19208137319756532,0.19564666914295095,0.20523127493975002,0.21792226071093151,0.23334426532304844,0.2513568666786854,0.2676904601781267,0.27735318386758473,0.27735318386758534,0.2676904601781269,0.22344188465691253,0.213998929817678,0.20445538423496698,0.19564666914295042,0.1906480790106969,0.19064807901069533,0.19564666914295,0.2044553842349674,0.2139989298176782,0.22344188465691212,0.23277420007360478,0.24006542158623992,0.24281218221654252,0.24006542158623817,0.2327742000736045,0.20688078943178975,0.20191659438460652,0.19628564747622854,0.19208137319756705,0.19064807901069625,0.1920813731975655,0.19628564747622837,0.2019165943846057,0.20688078943178967,0.21029530556697917,0.21265466264283817,0.21405852314953702,0.21405852314953477,0.21265466264283778,0.21029530556698,0.19761709887551132,0.19705612721345792,0.19628564747622845,0.19564666914294987,0.19564666914294987,0.1962856474762285,0.19705612721345822,0.1976170988755097,0.19736712098712497,0.19606974857696524,0.19465105209515463,0.19407487114096886,0.1946510520951539,0.19606974857696474,0.19736712098712356,0.19761709887550977,0.2019165943846054,0.2044553842349672,0.20523127493974913,0.20445538423496684,0.20191659438460616,0.19761709887551027,0.19220283541790983,0.18673153960527225,0.18209434058448193,0.17926562616745298,0.1792656261674528,0.18209434058448182,0.18673153960527208,0.1922028354179095,0.206880789431789,0.2139989298176799,0.2179222607109314,0.21792226071093201,0.21399892981767885,0.2068807894317895,0.19736712098712308,0.18673153960527109,0.1772010280132498,0.1706472403184357,0.16832464654503018,0.17064724031843648,0.17720102801324977,0.18673153960527183,0.19736712098712428,0.22344188465691117,0.23334426532304905,0.23705303294153138,0.23334426532304925,0.2234418846569108,0.2102953055669794,0.19606974857696657,0.18209434058448257,0.1706472403184345,0.16455226028857384,0.16455226028857364,0.17064724031843526,0.18209434058448265,0.19606974857696607,0.2102953055669797,0.25135686667868623,0.2625759422116327,0.26257594221163216,0.2513568666786865,0.23277420007360403,0.21265466264283625,0.19465105209515365,0.17926562616745326,0.1683246465450298,0.1645522602885741,0.16832464654503024,0.17926562616745198,0.19465105209515418,0.21265466264283625,0.23277420007360464,0.28886681048244023,0.29682685225605043,0.2888668104824403,0.2676904601781269,0.24006542158624142,0.21405852314953477,0.19407487114096877,0.17926562616745184,0.1706472403184362,0.17064724031843465,0.17926562616745362,0.19407487114096805,0.21405852314953538,0.24006542158623997,0.26769046017812703,0.32754543692761706,0.327545436927616,0.30860331273210856,0.2773531838675826,0.24281218221654047,0.21405852314953688,0.194651052095154,0.18209434058448265,0.17720102801325138,0.18209434058448284,0.19465105209515526,0.21405852314953455,0.24281218221654252,0.2773531838675856,0.30860331273210606,0.357937401501277,0.3463151478427515,0.3160586465125701,0.2773531838675844,0.2400654215862389,0.21265466264283714,0.19606974857696655,0.18673153960527183,0.18673153960527183,0.19606974857696607,0.21265466264283764,0.24006542158623828,0.27735318386758145,0.3160586465125702,0.3463151478427505,0.3695953138987438,0.3463151478427511,0.308603312732106,0.2676904601781278,0.23277420007360608,0.21029530556698015,0.19736712098712322,0.19220283541790922,0.19736712098712372,0.21029530556697945,0.2327742000736058,0.26769046017812786,0.3086033127321094,0.34631514784275064,0.36959531389874256,0.31067538089426955,0.28267098671435054,0.25135686667868634,0.22499733247146955,0.20703043018932005,0.19514280851947863,0.19040490690805487,0.19514280851947946,0.20703043018932019,0.22499733247146958,0.25135686667868623,0.2826709867143512,0.31067538089427077,0.3275454369276172,0.327545436927617,0.2826709867143527,0.25754071891228075,0.23334426532304808,0.21503380107429204,0.20172134816406762,0.19365807696657764,0.1936580769665768,0.20172134816406803,0.21503380107429437,0.23334426532304844,0.25754071891228114,0.2826709867143514,0.30152975154617645,0.30860331273210845,0.30152975154617667,0.25135686667868484,0.23334426532304733,0.21792226071093174,0.20523127493974958,0.19564666914295087,0.19208137319756594,0.19564666914295104,0.20523127493974758,0.21792226071093138,0.23334426532304878,0.2513568666786839,0.26769046017812664,0.2773531838675861,0.2773531838675851,0.26769046017812886,0.2249973324714703,0.21503380107429526,0.2052312749397488,0.19624990985625726,0.19107633209981487,0.19107633209981328,0.19624990985625612,0.2052312749397493,0.2150338010742927,0.2249973324714693,0.23501184551477447,0.24281218221654047,0.24572248063916402,0.24281218221654027,0.23501184551477283,0.2070304301893213,0.20172134816406703,0.1956466691429495,0.19107633209981453,0.18951929119398847,0.19107633209981473,0.19564666914294881,0.20172134816406753,0.20703043018932016,0.21096799594225896,0.21405852314953455,0.2158600470800216,0.21586004708002018,0.2140585231495366,0.21096799594225826,0.1951428085194795,0.19365807696657764,0.19208137319756613,0.1910763320998153,0.19107633209981453,0.19208137319756632,0.19365807696657628,0.19514280851947863,0.19550430746926095,0.1946510520951547,0.19365862846797996,0.1932538923981674,0.1936586284679803,0.19465105209515415,0.19550430746926117,0.19040490690805503,0.19365807696657708,0.19564666914295062,0.19624990985625684,0.1956466691429499,0.19365807696657747,0.19040490690805403,0.1864367730914067,0.18209434058448237,0.17810578684163048,0.17573833495572275,0.17573833495572225,0.17810578684163028,0.18209434058448204,0.18643677309140788,0.19514280851947885,0.20172134816406787,0.20523127493975157,0.20523127493974885,0.20172134816406728,0.19514280851947804,0.18643677309140727,0.17720102801325077,0.1691264278038397,0.1634696194935641,0.16140629112219151,0.16346961949356484,0.16912642780384016,0.1772010280132509,0.18643677309140794,0.20703043018931994,0.21503380107429368,0.21792226071093085,0.21503380107429243,0.2070304301893193,0.1955043074692593,0.18209434058448262,0.1691264278038409,0.15908785933404737,0.1536488437321667,0.1536488437321669,0.1590878593340475,0.16912642780384138,0.1820943405844816,0.1955043074692597,0.22499733247146986,0.23334426532304856,0.23334426532304925,0.2249973324714702,0.21096799594225915,0.1946510520951536,0.17810578684163045,0.16346961949356426,0.15364884373216753,0.1503655558046614,0.15364884373216703,0.16346961949356584,0.17810578684163078,0.1946510520951545,0.21096799594225907,0.2513568666786848,0.2575407189122826,0.2513568666786849,0.23501184551477441,0.21405852314953447,0.1936586284679801,0.17573833495572258,0.16140629112219224,0.15364884373216742,0.1536488437321672,0.1614062911221922,0.17573833495572275,0.1936586284679812,0.21405852314953489,0.2350118455147725,0.28267098671435353,0.2826709867143537,0.2676904601781271,0.24281218221654075,0.2158600470800191,0.19325389239816648,0.17573833495572289,0.16346961949356492,0.1590878593340481,0.16346961949356456,0.17573833495572283,0.19325389239816598,0.21586004708001924,0.24281218221654138,0.2676904601781271,0.3106753808942708,0.3015297515461752,0.2773531838675856,0.24572248063916252,0.21586004708001924,0.19365862846798054,0.17810578684162962,0.16912642780383963,0.1691264278038406,0.17810578684163036,0.19365862846797902,0.21586004708002018,0.24572248063916252,0.27735318386758284,0.30152975154617623,0.32754543692761723,0.30860331273211045,0.2773531838675861,0.24281218221654116,0.21405852314953544,0.19465105209515352,0.18209434058448212,0.1772010280132505,0.18209434058448207,0.1946510520951544,0.21405852314953805,0.24281218221654163,0.2773531838675825,0.30860331273210756,0.32754543692761795,0.32754543692761723,0.3015297515461765,0.2676904601781275,0.23501184551477441,0.21096799594225982,0.1955043074692586,0.18643677309140733,0.1864367730914072,0.19550430746925956,0.21096799594226098,0.23501184551477433,0.2676904601781269,0.3015297515461763,0.3275454369276158,0.33748850678115316,0.26601320787401644,0.24412000319070867,0.223441884656912,0.20703043018932094,0.19411679692373915,0.18648174828399802,0.18648174828399897,0.19411679692373915,0.20703043018931924,0.22344188465690953,0.24412000319070776,0.26601320787401594,0.2826709867143524,0.28886681048243873,0.28267098671435253,0.2441200031907078,0.22806070560836195,0.21399892981768048,0.20172134816406684,0.19243498043797103,0.1891235483338105,0.1924349804379728,0.20172134816406864,0.21399892981767896,0.2280607056083639,0.24412000319070834,0.25888751750960615,0.2676904601781265,0.2676904601781264,0.25888751750960753,0.22344188465690992,0.21399892981768018,0.20445538423496715,0.19564666914295056,0.190648079010695,0.1906480790106962,0.19564666914295,0.20445538423496715,0.21399892981767826,0.2234418846569126,0.23277420007360547,0.24006542158623936,0.24281218221654124,0.24006542158623861,0.23277420007360397,0.20703043018932046,0.20172134816406764,0.1956466691429494,0.19107633209981484,0.18951929119398808,0.19107633209981467,0.1956466691429503,0.2017213481640681,0.20703043018931963,0.21096799594226018,0.21405852314953797,0.21586004708002043,0.21586004708002005,0.21405852314953722,0.21096799594226032,0.19411679692374015,0.19243498043797125,0.19064807901069605,0.1895192911939872,0.18951929119398778,0.1906480790106964,0.192434980437971,0.1941167969237393,0.19464870045800942,0.19407487114097083,0.1932538923981663,0.1928356466928203,0.19325389239816643,0.19407487114096933,0.1946487004580106,0.18648174828399733,0.18912354833380865,0.19064807901069533,0.19107633209981467,0.19064807901069625,0.18912354833380998,0.18648174828399713,0.18309834469853312,0.17926562616745356,0.17573833495572302,0.17358644529900583,0.1735864452990064,0.17573833495572283,0.17926562616745223,0.18309834469853548,0.18648174828399847,0.19243498043797108,0.19564666914294945,0.19564666914295004,0.19243498043796958,0.18648174828399938,0.1787498393621694,0.1706472403184352,0.1634696194935641,0.1584567223233965,0.1566631730104379,0.15845672232339672,0.16346961949356453,0.1706472403184358,0.1787498393621686,0.19411679692373934,0.20172134816406667,0.20445538423496565,0.2017213481640669,0.19411679692373834,0.18309834469853395,0.17064724031843528,0.1590878593340484,0.15020548711928017,0.14524464043037205,0.14524464043037205,0.15020548711927947,0.1590878593340472,0.17064724031843603,0.18309834469853378,0.20703043018932124,0.21399892981767718,0.21399892981767826,0.20703043018931933,0.19464870045801033,0.17926562616745406,0.1634696194935641,0.1502054871192797,0.1414454820950116,0.1383258681970453,0.14144548209501187,0.15020548711928083,0.16346961949356453,0.17926562616745279,0.1946487004580104,0.22344188465691253,0.22806070560836525,0.22344188465691253,0.21096799594226037,0.19407487114096858,0.17573833495572333,0.15845672232339666,0.14524464043037258,0.13832586819704604,0.1383258681970453,0.14524464043037205,0.15845672232339592,0.17573833495572241,0.1940748711409693,0.21096799594225976,0.24412000319070884,0.24412000319070828,0.23277420007360397,0.21405852314953436,0.19325389239816546,0.17358644529900605,0.15666317301043758,0.14524464043037258,0.14144548209501195,0.14524464043037208,0.15666317301043622,0.17358644529900752,0.19325389239816684,0.21405852314953455,0.23277420007360544,0.2660132078740163,0.25888751750960665,0.24006542158623986,0.21586004708001907,0.1928356466928224,0.17358644529900646,0.15845672232339547,0.15020548711928045,0.15020548711928042,0.15845672232339622,0.1735864452990058,0.19283564669282294,0.21586004708001874,0.240065421586238,0.25888751750960753,0.2826709867143535,0.26769046017812637,0.24281218221653975,0.21586004708001924,0.19325389239816754,0.175738334955724,0.16346961949356473,0.15908785933404673,0.16346961949356495,0.17573833495572183,0.19325389239816573,0.2158600470800191,0.24281218221654186,0.2676904601781265,0.2826709867143534,0.2888668104824419,0.2676904601781278,0.24006542158623762,0.21405852314953477,0.19407487114096922,0.17926562616745248,0.1706472403184365,0.17064724031843603,0.17926562616745198,0.1940748711409696,0.21405852314953477,0.240065421586238,0.2676904601781257,0.28886681048243856,0.2968268522560503,0.28267098671435165,0.2588875175096073,0.2327742000736037,0.21096799594226084,0.1946487004580103,0.183098344698535,0.17874983936216934,0.18309834469853273,0.19464870045800936,0.2109679959422582,0.23277420007360594,0.2588875175096082,0.28267098671435326,0.29682685225605154,0.2968268522560483,0.23225001650537222,0.21929399780944814,0.20688078943178886,0.19514280851947863,0.18648174828399858,0.18355677524051098,0.18648174828399858,0.19514280851948065,0.20688078943178878,0.21929399780944622,0.23225001650537186,0.2441200031907076,0.2513568666786864,0.25135686667868534,0.24412000319070923,0.2192939978094483,0.2109450160200577,0.2019165943846056,0.1936580769665765,0.1891235483338083,0.1891235483338098,0.19365807696657772,0.20191659438460471,0.21094501602005597,0.21929399780944703,0.22690906210385384,0.23277420007360336,0.23501184551477441,0.23277420007360403,0.2269090621038529,0.20688078943178698,0.20191659438460496,0.19628564747622804,0.19208137319756535,0.19064807901069672,0.1920813731975665,0.19628564747622843,0.20191659438460513,0.20688078943178892,0.21029530556697917,0.21265466264283883,0.21405852314953505,0.21405852314953627,0.2126546626428375,0.21029530556697976,0.19514280851947988,0.19365807696657591,0.19208137319756682,0.19107633209981378,0.19107633209981373,0.19208137319756527,0.19365807696657755,0.19514280851947788,0.19550430746926145,0.19465105209515474,0.19365862846798126,0.19325389239816632,0.19365862846797957,0.19465105209515393,0.19550430746926048,0.18648174828399688,0.18912354833380848,0.1906480790106963,0.19107633209981423,0.19064807901069683,0.1891235483338098,0.18648174828399797,0.183098344698535,0.17926562616745276,0.17573833495572258,0.17358644529900616,0.17358644529900547,0.17573833495572289,0.17926562616745242,0.18309834469853548,0.18355677524051042,0.18912354833380834,0.19208137319756521,0.19208137319756624,0.18912354833380907,0.18355677524051012,0.1761669994362883,0.16832464654503004,0.16140629112219188,0.15666317301043728,0.15498746029982377,0.1566631730104376,0.16140629112219226,0.16832464654502974,0.17616699943628888,0.18648174828399766,0.1936580769665762,0.1962856474762282,0.1936580769665777,0.1864817482839993,0.1761669994362901,0.16455226028857362,0.1536488437321675,0.14524464043037238,0.14074062183383992,0.14074062183383937,0.14524464043037197,0.15364884373216706,0.164552260288572,0.17616699943628936,0.19514280851947807,0.2019165943846056,0.20191659438460569,0.1951428085194787,0.18309834469853334,0.16832464654502993,0.15364884373216756,0.14144548209501098,0.13333940401153876,0.13045184984693783,0.13333940401153865,0.14144548209501118,0.1536488437321667,0.1683246465450303,0.18309834469853495,0.2068807894317899,0.21094501602005705,0.2068807894317896,0.19550430746926042,0.17926562616745273,0.16140629112219132,0.1452446404303726,0.13333940401153802,0.12689203297970233,0.126892032979702,0.13333940401153807,0.1452446404303728,0.16140629112219224,0.17926562616745403,0.19550430746926087,0.2192939978094475,0.2192939978094468,0.2102953055669796,0.1946510520951551,0.17573833495572214,0.15666317301043675,0.14074062183384012,0.1304518498469374,0.12689203297970264,0.1304518498469371,0.14074062183383945,0.15666317301043714,0.17573833495572197,0.194651052095154,0.21029530556698003,0.232250016505371,0.2269090621038535,0.21265466264283686,0.19365862846798015,0.17358644529900535,0.15498746029982538,0.14074062183383926,0.133339404011538,0.133339404011538,0.14074062183384023,0.15498746029982513,0.17358644529900552,0.19365862846798054,0.21265466264283803,0.22690906210385386,0.24412000319070903,0.23277420007360383,0.2140585231495366,0.1932538923981651,0.17358644529900608,0.1566631730104372,0.14524464043037194,0.14144548209501195,0.14524464043037197,0.1566631730104366,0.17358644529900746,0.19325389239816648,0.21405852314953489,0.23277420007360566,0.24412000319071034,0.2513568666786843,0.23501184551477522,0.2140585231495362,0.19365862846797968,0.17573833495572241,0.16140629112219204,0.15364884373216672,0.15364884373216667,0.16140629112219207,0.17573833495572314,0.19365862846798035,0.2140585231495362,0.23501184551477344,0.25135686667868573,0.25754071891228325,0.251356866678684,0.23277420007360267,0.2126546626428369,0.19465105209515463,0.1792656261674523,0.16832464654503024,0.16455226028857434,0.16832464654503052,0.17926562616745287,0.19465105209515282,0.21265466264283778,0.23277420007360483,0.25135686667868623,0.2625759422116314,0.26257594221163255,0.24412000319070895,0.2269090621038521,0.21029530556698003,0.19550430746926076,0.183098344698534,0.17616699943628872,0.17616699943628886,0.18309834469853456,0.19550430746926012,0.2102953055669795,0.2269090621038521,0.2441200031907119,0.2575407189122794,0.26257594221163255,0.2575407189122814,0.21344488164280465,0.20599274232562845,0.19761709887551132,0.19040490690805426,0.18648174828399816,0.18648174828399802,0.19040490690805428,0.19761709887551088,0.2059927423256289,0.21344488164280384,0.21929399780944872,0.22344188465691253,0.22499733247147086,0.22344188465691095,0.2192939978094484,0.20599274232562925,0.20167145930571595,0.19705612721345686,0.19365807696657575,0.1924349804379698,0.19365807696657694,0.19705612721345805,0.20167145930571487,0.205992742325628,0.20881081658049347,0.2102953055669783,0.21096799594226065,0.21096799594226065,0.21029530556697973,0.20881081658049416,0.19761709887550913,0.19705612721345558,0.19628564747622948,0.19564666914295067,0.19564666914295076,0.19628564747622834,0.19705612721345514,0.1976170988755099,0.19736712098712184,0.19606974857696607,0.19465105209515535,0.19407487114096952,0.19465105209515438,0.19606974857696607,0.19736712098712322,0.19040490690805426,0.19365807696657758,0.195646669142951,0.1962499098562569,0.1956466691429508,0.19365807696657694,0.1904049069080544,0.18643677309140766,0.1820943405844819,0.17810578684162948,0.17573833495572355,0.17573833495572222,0.17810578684163092,0.1820943405844826,0.18643677309140808,0.18648174828399885,0.1924349804379698,0.195646669142951,0.19564666914295067,0.1924349804379707,0.18648174828399894,0.1787498393621691,0.170647240318436,0.16346961949356453,0.1584567223233963,0.15666317301043636,0.15845672232339658,0.16346961949356498,0.17064724031843442,0.17874983936216834,0.18648174828399636,0.19365807696657664,0.19628564747622826,0.19365807696657641,0.1864817482839969,0.17616699943629024,0.1645522602885733,0.15364884373216667,0.14524464043037222,0.1407406218338393,0.14074062183383934,0.1452446404303723,0.15364884373216767,0.16455226028857287,0.17616699943628886,0.19040490690805636,0.1970561272134573,0.19705612721345653,0.19040490690805426,0.17874983936216915,0.16455226028857392,0.15036555580466274,0.1383258681970458,0.13045184984693614,0.1277847547522664,0.13045184984693645,0.13832586819704576,0.15036555580466165,0.16455226028857414,0.17874983936216834,0.19761709887550882,0.20167145930571415,0.1976170988755095,0.186436773091408,0.17064724031843703,0.15364884373216764,0.138325868197046,0.1268920329797029,0.1208768624279069,0.12087686242790686,0.12689203297970275,0.13832586819704573,0.15364884373216733,0.1706472403184346,0.1864367730914076,0.20599274232562814,0.20599274232562959,0.1973671209871235,0.18209434058448168,0.16346961949356498,0.14524464043037202,0.13045184984693703,0.12087686242790706,0.11750234782441855,0.12087686242790609,0.13045184984693792,0.1452446404303727,0.163469619493565,0.18209434058448293,0.19736712098712558,0.21344488164280437,0.20881081658049497,0.1960697485769654,0.17810578684162792,0.15845672232339691,0.14074062183383937,0.12778475475226744,0.12087686242790574,0.12087686242790699,0.1277847547522663,0.1407406218338401,0.1584567223233967,0.17810578684163045,0.19606974857696471,0.20881081658049244,0.21929399780944797,0.21029530556697854,0.1946510520951542,0.17573833495572327,0.15666317301043622,0.14074062183383818,0.1304518498469368,0.12689203297970256,0.1304518498469372,0.14074062183383942,0.1566631730104362,0.17573833495572294,0.19465105209515382,0.2102953055669796,0.21929399780944756,0.22344188465691212,0.21096799594226037,0.19407487114096797,0.17573833495572383,0.15845672232339658,0.1452446404303717,0.13832586819704593,0.13832586819704598,0.14524464043037222,0.15845672232339567,0.175738334955723,0.194074871140968,0.2109679959422575,0.22344188465691173,0.22806070560836447,0.22499733247147077,0.21096799594225937,0.19465105209515593,0.17810578684162842,0.16346961949356498,0.1536488437321667,0.15036555580466116,0.15364884373216792,0.16346961949356406,0.17810578684162978,0.1946510520951547,0.21096799594226087,0.2249973324714686,0.23334426532304714,0.23334426532304817,0.22344188465691198,0.21029530556697834,0.1960697485769654,0.18209434058448135,0.1706472403184345,0.16455226028857362,0.1645522602885718,0.17064724031843678,0.182094340584483,0.1960697485769648,0.21029530556698026,0.22344188465691253,0.23334426532304842,0.23705303294153163,0.23334426532304817,0.2192939978094486,0.2088108165804934,0.1973671209871219,0.1864367730914072,0.1787498393621685,0.17616699943628927,0.1787498393621687,0.18643677309140713,0.1973671209871231,0.20881081658049486,0.21929399780944833,0.2280607056083646,0.23334426532304842,0.23334426532304844,0.22806070560836564,0.2039366687464486,0.2008035660983394,0.1976170988755089,0.19514280851947796,0.19411679692373937,0.1951428085194792,0.19761709887551104,0.20080356609833824,0.20393666874644814,0.20599274232562886,0.2068807894317887,0.20703043018931847,0.20703043018931816,0.2068807894317899,0.20599274232562872,0.2008035660983392,0.20167145930571578,0.20191659438460605,0.20172134816406773,0.2017213481640674,0.20191659438460466,0.20167145930571564,0.20080356609833822,0.19929302579376024,0.19736712098712275,0.19550430746926123,0.19464870045800958,0.195504307469261,0.19736712098712275,0.19929302579375893,0.19761709887551174,0.20191659438460538,0.20445538423496726,0.20523127493975046,0.20445538423496842,0.201916594384606,0.1976170988755118,0.19220283541790895,0.1867315396052709,0.18209434058448176,0.17926562616745187,0.17926562616745273,0.1820943405844824,0.186731539605271,0.19220283541791006,0.195142808519479,0.2017213481640664,0.20523127493974763,0.20523127493975027,0.20172134816406803,0.1951428085194795,0.18643677309140785,0.17720102801325058,0.16912642780383985,0.16346961949356453,0.1614062911221921,0.1634696194935645,0.1691264278038425,0.17720102801324983,0.18643677309140624,0.19411679692373876,0.20172134816406648,0.20445538423496717,0.20172134816406773,0.19411679692373882,0.18309834469853334,0.17064724031843545,0.1590878593340482,0.15020548711928092,0.1452446404303719,0.14524464043037208,0.15020548711928064,0.1590878593340478,0.17064724031843503,0.18309834469853384,0.19514280851947996,0.2019165943846063,0.20191659438460555,0.19514280851948002,0.18309834469853442,0.16832464654503063,0.15364884373216792,0.14144548209501082,0.1333394040115388,0.1304518498469372,0.1333394040115385,0.14144548209501165,0.15364884373216664,0.16832464654503063,0.1830983446985351,0.1976170988755084,0.20167145930571473,0.19761709887550985,0.18643677309140844,0.17064724031843703,0.15364884373216767,0.13832586819704626,0.12689203297970322,0.12087686242790574,0.12087686242790686,0.12689203297970233,0.1383258681970446,0.15364884373216736,0.17064724031843537,0.18643677309140672,0.20080356609833777,0.20080356609833738,0.19220283541790836,0.1772010280132511,0.159087859334048,0.14144548209501082,0.12689203297970236,0.11750234782441835,0.11431422106067902,0.11750234782441872,0.12689203297970247,0.14144548209501098,0.15908785933404687,0.17720102801325055,0.19220283541790933,0.20393666874644825,0.19929302579375974,0.18673153960527053,0.16912642780384107,0.15020548711928022,0.13333940401153746,0.12087686242790605,0.11431422106067954,0.11431422106067886,0.12087686242790581,0.13333940401153807,0.15020548711928022,0.16912642780384082,0.18673153960527128,0.19929302579375952,0.20599274232562825,0.1973671209871241,0.18209434058447962,0.16346961949356417,0.14524464043037194,0.1304518498469372,0.12087686242790564,0.11750234782441787,0.12087686242790577,0.13045184984693783,0.1452446404303721,0.16346961949356517,0.18209434058448157,0.19736712098712317,0.20599274232562914,0.20688078943178856,0.19550430746926123,0.17926562616745362,0.1614062911221921,0.1452446404303702,0.13333940401153677,0.12689203297970286,0.12689203297970342,0.1333394040115379,0.1452446404303721,0.1614062911221929,0.17926562616745284,0.19550430746926195,0.20688078943178811,0.21094501602005564,0.20703043018931921,0.19464870045801105,0.17926562616745184,0.16346961949356523,0.15020548711927983,0.14144548209501118,0.13832586819704606,0.14144548209501098,0.15020548711928045,0.16346961949356506,0.17926562616745273,0.19464870045800967,0.20703043018931813,0.21399892981767807,0.21399892981767868,0.20703043018932038,0.19550430746926067,0.18209434058448132,0.1691264278038399,0.1590878593340475,0.15364884373216642,0.15364884373216692,0.15908785933404831,0.16912642780383957,0.1820943405844817,0.19550430746926178,0.20703043018931905,0.21503380107429293,0.21792226071093165,0.21503380107429224,0.20688078943178856,0.19736712098712242,0.186731539605271,0.1772010280132498,0.170647240318436,0.16832464654502993,0.1706472403184361,0.17720102801325058,0.18673153960527056,0.1973671209871258,0.2068807894317891,0.21399892981767943,0.21792226071093126,0.21792226071093107,0.2139989298176798,0.20599274232562798,0.19929302579376001,0.19220283541790947,0.1864367730914063,0.18309834469853498,0.1830983446985356,0.18643677309140622,0.1922028354179086,0.19929302579375913,0.20599274232562897,0.21094501602005483,0.21399892981767923,0.21503380107429293,0.21399892981767943,0.21094501602005666,0.2039366687464477,0.20599274232562675,0.20688078943178811,0.20703043018932024,0.20703043018932052,0.2068807894317889,0.205992742325628,0.20393666874644725,0.2008035660983388,0.19761709887550993,0.1951428085194792,0.19411679692373948,0.19514280851947993,0.19761709887551038,0.20080356609833888,0.205992742325628,0.210945016020057,0.21399892981767835,0.21503380107429293,0.21399892981767918,0.21094501602005755,0.2059927423256286,0.19929302579376007,0.19220283541791044,0.18643677309140708,0.1830983446985333,0.18309834469853364,0.18643677309140727,0.1922028354179083,0.19929302579376126,0.20688078943178861,0.21399892981767632,0.21792226071093165,0.2179222607109318,0.21399892981768032,0.20688078943178767,0.19736712098712478,0.18673153960527106,0.1772010280132501,0.170647240318436,0.16832464654503057,0.17064724031843576,0.17720102801325077,0.18673153960527228,0.19736712098712164,0.20703043018932063,0.2150338010742919,0.2179222607109322,0.21503380107429312,0.20703043018931852,0.19550430746926173,0.18209434058448296,0.16912642780383988,0.15908785933404884,0.15364884373216692,0.15364884373216767,0.1590878593340485,0.16912642780383988,0.18209434058448173,0.19550430746926145,0.20703043018931983,0.21399892981767848,0.21399892981767774,0.20703043018932027,0.19464870045800978,0.17926562616745384,0.16346961949356528,0.15020548711928017,0.14144548209501134,0.13832586819704581,0.1414454820950114,0.15020548711928083,0.16346961949356556,0.1792656261674528,0.1946487004580097,0.20688078943178967,0.21094501602005788,0.20688078943178873,0.19550430746925962,0.1792656261674535,0.16140629112219232,0.14524464043037194,0.13333940401153835,0.12689203297970292,0.12689203297970233,0.13333940401153832,0.14524464043037058,0.16140629112219243,0.17926562616745254,0.1955043074692603,0.20599274232562925,0.20599274232562795,0.19736712098712159,0.18209434058448087,0.16346961949356478,0.14524464043037016,0.1304518498469368,0.12087686242790616,0.11750234782441803,0.12087686242790588,0.13045184984693756,0.14524464043037194,0.1634696194935656,0.18209434058448032,0.19736712098712292,0.2039366687464472,0.19929302579376001,0.18673153960527128,0.1691264278038402,0.15020548711928097,0.13333940401153851,0.1208768624279059,0.11431422106067954,0.11431422106067987,0.12087686242790607,0.1333394040115369,0.1502054871192812,0.16912642780384066,0.18673153960527195,0.19929302579376085,0.20080356609834027,0.19220283541790836,0.1772010280132498,0.15908785933404765,0.14144548209501076,0.12689203297970322,0.11750234782441926,0.11431422106068015,0.11750234782441872,0.12689203297970233,0.1414454820950114,0.1590878593340475,0.17720102801324994,0.1922028354179094,0.20080356609833908,0.19761709887551213,0.18643677309140808,0.17064724031843484,0.15364884373216672,0.1383258681970446,0.12689203297970197,0.12087686242790663,0.12087686242790542,0.12689203297970233,0.13832586819704668,0.15364884373216697,0.17064724031843484,0.1864367730914085,0.19761709887550882,0.20167145930571576,0.19514280851947993,0.18309834469853437,0.16832464654503015,0.1536488437321666,0.1414454820950114,0.13333940401153807,0.13045184984693783,0.13333940401153804,0.14144548209501157,0.15364884373216667,0.16832464654502988,0.18309834469853384,0.1951428085194796,0.20191659438460405,0.2019165943846054,0.19411679692373873,0.18309834469853453,0.17064724031843517,0.15908785933404773,0.1502054871192796,0.1452446404303718,0.14524464043037252,0.15020548711928022,0.1590878593340469,0.1706472403184353,0.18309834469853484,0.19411679692373782,0.20172134816406745,0.20445538423496834,0.2017213481640679,0.19514280851947818,0.18643677309140727,0.1772010280132498,0.16912642780384093,0.16346961949356528,0.16140629112219246,0.16346961949356437,0.1691264278038409,0.17720102801324983,0.18643677309140727,0.19514280851947846,0.20172134816406878,0.2052312749397491,0.20523127493974958,0.20172134816406798,0.1976170988755117,0.19220283541791022,0.18673153960527192,0.1820943405844807,0.1792656261674541,0.17926562616745215,0.18209434058448312,0.186731539605273,0.19220283541790895,0.19761709887551007,0.2019165943846057,0.2044553842349665,0.2052312749397497,0.20445538423496745,0.20191659438460532,0.20080356609833994,0.19929302579375893,0.1973671209871215,0.1955043074692615,0.19464870045800914,0.19550430746926165,0.19736712098712308,0.19929302579375988,0.2008035660983377,0.2016714593057149,0.20191659438460544,0.20172134816406728,0.20172134816406723,0.20191659438460588,0.20167145930571617,0.2134448816428058,0.21929399780944683,0.22344188465690948,0.22499733247146853,0.22344188465691253,0.2192939978094483,0.21344488164280487,0.20599274232562798,0.19761709887551132,0.19040490690805595,0.186481748283998,0.1864817482839982,0.19040490690805545,0.19761709887551113,0.2059927423256279,0.21929399780944805,0.2280607056083636,0.23334426532304844,0.23334426532304825,0.22806070560836236,0.21929399780944847,0.20881081658049416,0.19736712098712253,0.1864367730914073,0.17874983936216776,0.1761669994362892,0.1787498393621682,0.1864367730914072,0.19736712098712364,0.20881081658049577,0.22344188465691112,0.23334426532304947,0.2370530329415318,0.23334426532305005,0.22344188465691275,0.21029530556697915,0.1960697485769658,0.182094340584483,0.17064724031843576,0.1645522602885737,0.16455226028857362,0.17064724031843503,0.18209434058448243,0.19606974857696569,0.21029530556697865,0.22499733247146997,0.23334426532304883,0.23334426532304714,0.22499733247146841,0.21096799594226087,0.19465105209515493,0.17810578684163073,0.16346961949356406,0.15364884373216656,0.15036555580466035,0.15364884373216658,0.16346961949356528,0.17810578684162992,0.19465105209515476,0.21096799594225896,0.22344188465691095,0.22806070560836195,0.22344188465691145,0.21096799594225976,0.1940748711409678,0.1757383349557229,0.15845672232339547,0.14524464043037197,0.1383258681970446,0.13832586819704604,0.1452446404303721,0.1584567223233967,0.17573833495572297,0.19407487114096877,0.21096799594226037,0.2192939978094467,0.21929399780944786,0.21029530556697976,0.19465105209515407,0.1757383349557235,0.15666317301043772,0.1407406218338395,0.13045184984693756,0.12689203297970206,0.13045184984693795,0.140740621833839,0.15666317301043653,0.17573833495572203,0.1946510520951542,0.21029530556697906,0.21344488164280487,0.20881081658049236,0.19606974857696471,0.17810578684162934,0.15845672232339603,0.1407406218338399,0.12778475475226744,0.12087686242790587,0.12087686242790588,0.12778475475226733,0.140740621833839,0.1584567223233965,0.17810578684163045,0.196069748576965,0.20881081658049486,0.2059927423256287,0.197367120987124,0.1820943405844828,0.16346961949356417,0.14524464043037233,0.13045184984693792,0.12087686242790577,0.11750234782441905,0.12087686242790587,0.1304518498469372,0.1452446404303727,0.16346961949356495,0.18209434058448287,0.1973671209871233,0.20599274232562875,0.19761709887550977,0.1864367730914073,0.17064724031843567,0.15364884373216695,0.1383258681970447,0.1268920329797026,0.12087686242790611,0.12087686242790571,0.12689203297970267,0.1383258681970446,0.15364884373216708,0.17064724031843564,0.18643677309140735,0.19761709887550985,0.20167145930571503,0.19040490690805456,0.17874983936216837,0.1645522602885738,0.15036555580466174,0.1383258681970454,0.13045184984693703,0.12778475475226758,0.13045184984693792,0.1383258681970454,0.15036555580466152,0.16455226028857334,0.17874983936216848,0.19040490690805542,0.19705612721345694,0.19705612721345597,0.18648174828399935,0.1761669994362884,0.16455226028857362,0.15364884373216747,0.14524464043037225,0.14074062183383934,0.14074062183383992,0.14524464043037175,0.15364884373216692,0.1645522602885726,0.17616699943628836,0.18648174828399802,0.19365807696657714,0.1962856474762286,0.19365807696657694,0.1864817482839972,0.17874983936216896,0.1706472403184368,0.16346961949356492,0.15845672232339658,0.15666317301043653,0.15845672232339683,0.16346961949356512,0.1706472403184354,0.1787498393621684,0.1864817482839977,0.19243498043797064,0.1956466691429515,0.19564666914295029,0.19243498043796975,0.1904049069080544,0.18643677309140727,0.18209434058448243,0.1781057868416297,0.17573833495572364,0.17573833495572247,0.1781057868416306,0.1820943405844816,0.1864367730914073,0.1904049069080538,0.1936580769665777,0.19564666914295076,0.1962499098562561,0.19564666914295076,0.19365807696657714,0.19761709887551088,0.19736712098712267,0.1960697485769662,0.19465105209515532,0.19407487114096858,0.19465105209515426,0.19606974857696569,0.1973671209871236,0.19761709887551066,0.197056127213457,0.19628564747622804,0.19564666914295034,0.1956466691429503,0.19628564747622662,0.19705612721345803,0.2059927423256287,0.20881081658049455,0.2102953055669797,0.21096799594225965,0.21096799594225887,0.2102953055669795,0.20881081658049475,0.20599274232562773,0.20167145930571598,0.19705612721345897,0.1936580769665764,0.19243498043797036,0.193658076966576,0.1970561272134582,0.20167145930571576,0.2322500165053707,0.24412000319070876,0.25135686667868534,0.25135686667868684,0.24412000319070876,0.23225001650537522,0.21929399780944725,0.2068807894317894,0.1951428085194805,0.18648174828399725,0.183556775240511,0.18648174828399816,0.19514280851947857,0.20688078943178811,0.219293997809448,0.24412000319070848,0.25754071891228036,0.26257594221163283,0.2575407189122796,0.24412000319070745,0.22690906210385392,0.21029530556697948,0.19550430746926165,0.18309834469853456,0.17616699943628916,0.1761669994362901,0.183098344698535,0.19550430746926006,0.21029530556697845,0.22690906210385192,0.2513568666786864,0.2625759422116331,0.26257594221163305,0.25135686667868573,0.23277420007360367,0.21265466264283778,0.1946510520951548,0.17926562616745226,0.16832464654503088,0.16455226028857337,0.16832464654503032,0.17926562616745234,0.1946510520951535,0.21265466264283686,0.2327742000736035,0.25135686667868573,0.2575407189122818,0.2513568666786841,0.23501184551477453,0.2140585231495344,0.19365862846798074,0.17573833495572286,0.1614062911221912,0.1536488437321679,0.15364884373216675,0.1614062911221922,0.17573833495572436,0.19365862846798013,0.21405852314953566,0.23501184551477564,0.24412000319070895,0.24412000319070876,0.2327742000736041,0.2140585231495351,0.19325389239816673,0.17358644529900571,0.15666317301043658,0.14524464043037197,0.14144548209501143,0.14524464043037202,0.1566631730104367,0.17358644529900702,0.1932538923981674,0.2140585231495364,0.23277420007360367,0.2322500165053728,0.22690906210385392,0.212654662642837,0.19365862846798104,0.1735864452990059,0.1549874602998253,0.14074062183384006,0.1333394040115383,0.13333940401153765,0.140740621833839,0.1549874602998241,0.17358644529900785,0.19365862846798074,0.2126546626428366,0.2269090621038535,0.2192939978094483,0.21029530556697965,0.194651052095155,0.1757383349557246,0.15666317301043642,0.14074062183383929,0.1304518498469374,0.12689203297970272,0.1304518498469365,0.14074062183383945,0.1566631730104364,0.17573833495572305,0.1946510520951534,0.21029530556697945,0.21929399780944786,0.20688078943178886,0.19550430746926076,0.17926562616745295,0.16140629112219235,0.14524464043037194,0.13333940401153785,0.12689203297970247,0.1268920329797034,0.1333394040115384,0.14524464043037189,0.1614062911221911,0.17926562616745273,0.19550430746926162,0.2068807894317897,0.21094501602005541,0.19514280851947796,0.18309834469853478,0.1683246465450295,0.15364884373216728,0.14144548209501165,0.13333940401153888,0.1304518498469378,0.13333940401153824,0.14144548209501195,0.15364884373216756,0.16832464654503007,0.18309834469853384,0.19514280851947832,0.2019165943846056,0.2019165943846048,0.18648174828399877,0.17616699943628958,0.16455226028857325,0.1536488437321669,0.1452446404303721,0.14074062183383948,0.14074062183384012,0.14524464043037202,0.15364884373216717,0.16455226028857314,0.1761669994362887,0.1864817482839989,0.19365807696657697,0.19628564747622762,0.19365807696657694,0.18355677524051006,0.17616699943629005,0.16832464654503018,0.16140629112219218,0.15666317301043586,0.15498746029982444,0.15666317301043697,0.1614062911221931,0.16832464654503032,0.17616699943629036,0.18355677524051042,0.18912354833380918,0.19208137319756527,0.19208137319756521,0.18912354833380912,0.1864817482839982,0.1830983446985351,0.1792656261674514,0.1757383349557232,0.17358644529900627,0.17358644529900558,0.1757383349557234,0.1792656261674536,0.1830983446985334,0.18648174828399858,0.18912354833380923,0.1906480790106961,0.19107633209981348,0.19064807901069747,0.1891235483338091,0.19514280851947857,0.19550430746926048,0.1946510520951546,0.19365862846798218,0.19325389239816695,0.1936586284679796,0.19465105209515546,0.1955043074692599,0.19514280851947863,0.19365807696657725,0.19208137319756527,0.1910763320998138,0.19107633209981476,0.1920813731975668,0.1936580769665754,0.20688078943178975,0.21029530556698064,0.21265466264283672,0.21405852314953566,0.21405852314953586,0.21265466264283883,0.21029530556697948,0.2068807894317895,0.20191659438460635,0.1962856474762279,0.19208137319756624,0.19064807901069608,0.19208137319756624,0.196285647476228,0.20191659438460557,0.21929399780944764,0.226909062103852,0.2327742000736026,0.23501184551477466,0.23277420007360441,0.22690906210385223,0.2192939978094469,0.21094501602005597,0.20191659438460513,0.19365807696657752,0.1891235483338091,0.18912354833380968,0.19365807696657583,0.2019165943846048,0.21094501602005694,0.26601320787401594,0.2826709867143524,0.2888668104824398,0.28267098671435203,0.2660132078740166,0.24412000319070862,0.22344188465691067,0.2070304301893204,0.19411679692373937,0.18648174828399638,0.1864817482839985,0.19411679692373876,0.20703043018932027,0.2234418846569109,0.24412000319070956,0.2826709867143514,0.2968268522560485,0.29682685225605054,0.2826709867143535,0.258887517509607,0.2327742000736059,0.21096799594226004,0.19464870045801047,0.18309834469853378,0.17874983936216857,0.18309834469853398,0.19464870045800942,0.21096799594225982,0.2327742000736058,0.25888751750960837,0.2888668104824403,0.2968268522560503,0.28886681048244023,0.26769046017812725,0.24006542158624053,0.2140585231495351,0.19407487114097025,0.17926562616745456,0.17064724031843484,0.1706472403184358,0.1792656261674518,0.1940748711409693,0.21405852314953708,0.24006542158623856,0.26769046017812825,0.2826709867143532,0.2826709867143532,0.26769046017812526,0.24281218221654116,0.2158600470800214,0.19325389239816648,0.17573833495572241,0.16346961949356467,0.15908785933404673,0.16346961949356453,0.17573833495572397,0.19325389239816487,0.21586004708001924,0.2428121822165402,0.26769046017812725,0.26601320787401633,0.25888751750960753,0.24006542158623936,0.21586004708002163,0.19283564669282185,0.17358644529900627,0.15845672232339544,0.15020548711928128,0.15020548711928114,0.15845672232339722,0.1735864452990055,0.19283564669282172,0.21586004708002135,0.2400654215862389,0.25888751750960665,0.2441200031907103,0.23277420007360472,0.21405852314953722,0.19325389239816526,0.1735864452990067,0.1566631730104382,0.1452446404303721,0.14144548209501173,0.14524464043037247,0.156663173010437,0.1735864452990058,0.19325389239816745,0.21405852314953455,0.2327742000736045,0.24412000319070828,0.22344188465691164,0.2109679959422591,0.19407487114096844,0.17573833495572144,0.15845672232339592,0.14524464043037097,0.1383258681970456,0.13832586819704618,0.145244640430372,0.1584567223233953,0.17573833495572325,0.1940748711409693,0.21096799594225982,0.22344188465691187,0.22806070560836236,0.2070304301893199,0.19464870045801025,0.17926562616745123,0.16346961949356512,0.15020548711927995,0.14144548209501198,0.13832586819704618,0.14144548209501198,0.1502054871192805,0.163469619493564,0.17926562616745365,0.19464870045800986,0.20703043018932113,0.2139989298176784,0.21399892981767862,0.19411679692373957,0.1830983446985346,0.17064724031843634,0.1590878593340493,0.15020548711928025,0.14524464043037197,0.14524464043037122,0.1502054871192796,0.15908785933404862,0.17064724031843498,0.18309834469853228,0.19411679692373862,0.20172134816406706,0.2044553842349664,0.2017213481640664,0.18648174828399783,0.1787498393621689,0.17064724031843545,0.16346961949356467,0.15845672232339747,0.15666317301043642,0.15845672232339655,0.1634696194935649,0.17064724031843542,0.1787498393621691,0.18648174828399758,0.19243498043797078,0.195646669142949,0.19564666914294926,0.19243498043797067,0.18648174828399625,0.18309834469853237,0.17926562616745229,0.17573833495572222,0.1735864452990068,0.1735864452990074,0.17573833495572216,0.17926562616745406,0.18309834469853378,0.1864817482839979,0.18912354833380912,0.1906480790106955,0.19107633209981426,0.1906480790106961,0.18912354833380923,0.1941167969237395,0.19464870045800967,0.19407487114096844,0.1932538923981655,0.19283564669282177,0.19325389239816573,0.19407487114096905,0.19464870045800964,0.19411679692373915,0.19243498043797147,0.1906480790106975,0.18951929119398683,0.18951929119398953,0.19064807901069666,0.19243498043797136,0.20703043018931994,0.21096799594225774,0.21405852314953727,0.21586004708001924,0.21586004708001907,0.21405852314953455,0.210967995942259,0.20703043018932066,0.20172134816406792,0.19564666914295042,0.19107633209981356,0.18951929119398772,0.1910763320998149,0.19564666914295098,0.20172134816406773,0.22344188465691253,0.23277420007360558,0.2400654215862402,0.2428121822165393,0.24006542158623964,0.2327742000736054,0.22344188465691422,0.21399892981767685,0.20445538423496723,0.195646669142951,0.1906480790106964,0.19064807901069752,0.19564666914294987,0.2044553842349674,0.21399892981768054,0.2441200031907073,0.25888751750960787,0.26769046017812564,0.26769046017812603,0.2588875175096102,0.2441200031907088,0.22806070560836342,0.2139989298176775,0.20172134816406692,0.19243498043797072,0.18912354833380907,0.192434980437971,0.20172134816406653,0.21399892981767862,0.22806070560836436,0.31067538089427044,0.3275454369276158,0.3275454369276149,0.31067538089426805,0.28267098671435154,0.251356866678685,0.22499733247146958,0.20703043018931896,0.1951428085194792,0.19040490690805595,0.19514280851947832,0.2070304301893204,0.22499733247147047,0.25135686667868473,0.2826709867143503,0.3275454369276158,0.3374885067811549,0.3275454369276155,0.30152975154617545,0.2676904601781271,0.2350118455147729,0.21096799594225935,0.19550430746926162,0.18643677309140627,0.18643677309140785,0.19550430746925973,0.21096799594226037,0.23501184551477441,0.26769046017812825,0.30152975154617545,0.32754543692761473,0.32754543692761473,0.3086033127321063,0.2773531838675851,0.24281218221654,0.21405852314953805,0.19465105209515424,0.18209434058448204,0.1772010280132504,0.1820943405844831,0.19465105209515457,0.21405852314953489,0.2428121822165399,0.27735318386758334,0.3086033127321063,0.3106753808942699,0.3015297515461767,0.2773531838675851,0.24572248063916252,0.2158600470800218,0.1936586284679811,0.17810578684163067,0.16912642780383913,0.16912642780384063,0.17810578684162978,0.19365862846798015,0.21586004708002163,0.2457224806391624,0.2773531838675828,0.3015297515461767,0.28267098671435104,0.2676904601781269,0.24281218221654172,0.21586004708002163,0.19325389239816695,0.17573833495572305,0.16346961949356467,0.159087859334048,0.1634696194935648,0.17573833495572366,0.19325389239816426,0.2158600470800191,0.24281218221654305,0.2676904601781265,0.2826709867143537,0.25135686667868634,0.2350118455147729,0.21405852314953427,0.19365862846798038,0.1757383349557217,0.16140629112219154,0.15364884373216728,0.15364884373216786,0.16140629112219335,0.17573833495572289,0.19365862846798068,0.21405852314953716,0.23501184551477367,0.25135686667868473,0.2575407189122809,0.22499733247146866,0.21096799594226023,0.19465105209515413,0.17810578684162934,0.16346961949356453,0.15364884373216692,0.1503655558046618,0.1536488437321665,0.16346961949356534,0.17810578684163045,0.19465105209515488,0.21096799594226023,0.2249973324714686,0.23334426532304925,0.23334426532304844,0.20703043018931863,0.1955043074692611,0.18209434058448282,0.16912642780384163,0.15908785933404765,0.15364884373216736,0.15364884373216744,0.15908785933404737,0.1691264278038401,0.18209434058448298,0.19550430746926034,0.20703043018931883,0.21503380107429257,0.21792226071093057,0.21503380107429196,0.19514280851947935,0.18643677309140805,0.17720102801325135,0.16912642780383952,0.163469619493566,0.1614062911221916,0.1634696194935642,0.1691264278038397,0.17720102801325097,0.1864367730914072,0.19514280851947832,0.20172134816406653,0.20523127493974944,0.20523127493974974,0.2017213481640677,0.19040490690805575,0.18643677309140733,0.18209434058448246,0.17810578684162984,0.17573833495572155,0.17573833495572386,0.17810578684162992,0.1820943405844842,0.18643677309140663,0.19040490690805528,0.1936580769665768,0.19564666914295048,0.1962499098562564,0.19564666914295123,0.19365807696657747,0.19514280851947916,0.19550430746926103,0.1946510520951541,0.19365862846798132,0.19325389239816645,0.1936586284679795,0.19465105209515446,0.19550430746926045,0.19514280851947954,0.19365807696657553,0.1920813731975658,0.19107633209981487,0.19107633209981442,0.19208137319756624,0.1936580769665769,0.2070304301893205,0.21096799594226037,0.21405852314953489,0.21586004708002043,0.2158600470800197,0.2140585231495343,0.2109679959422605,0.20703043018931994,0.20172134816406753,0.1956466691429506,0.191076332099814,0.1895192911939899,0.19107633209981453,0.19564666914295037,0.20172134816406698,0.2249973324714694,0.23501184551477364,0.2428121822165402,0.24572248063916238,0.24281218221654075,0.23501184551477391,0.22499733247147033,0.21503380107429354,0.20523127493974958,0.1962499098562549,0.19107633209981514,0.19107633209981453,0.19624990985625576,0.20523127493974963,0.21503380107429332,0.25135686667868656,0.26769046017812614,0.2773531838675859,0.2773531838675859,0.2676904601781271,0.25135686667868484,0.23334426532304633,0.21792226071093043,0.2052312749397505,0.19564666914295056,0.19208137319756674,0.1956466691429504,0.2052312749397506,0.2179222607109308,0.23334426532304733,0.2826709867143518,0.30152975154617523,0.3086033127321078,0.30152975154617523,0.2826709867143525,0.25754071891228025,0.23334426532304967,0.21503380107429368,0.20172134816406842,0.19365807696657755,0.19365807696657752,0.20172134816406806,0.2150338010742925,0.2333442653230477,0.2575407189122809,0.35793740150127573,0.3695953138987438,0.3579374015012761,0.3275454369276155,0.2888668104824432,0.25135686667868656,0.2234418846569111,0.2068807894317893,0.1976170988755111,0.19761709887551032,0.20688078943178895,0.2234418846569132,0.2513568666786843,0.28886681048244206,0.32754543692761473,0.36959531389874434,0.3695953138987438,0.3463151478427511,0.3086033127321059,0.2676904601781254,0.23277420007360333,0.21029530556697906,0.19736712098712184,0.1922028354179104,0.19736712098712555,0.2102953055669801,0.23277420007360455,0.2676904601781274,0.30860331273210834,0.3463151478427505,0.35793740150127495,0.34631514784274875,0.31605864651257026,0.27735318386758234,0.24006542158624067,0.21265466264283792,0.19606974857696663,0.18673153960527192,0.18673153960527197,0.19606974857696713,0.21265466264283647,0.24006542158624108,0.27735318386758456,0.3160586465125704,0.34631514784275086,0.3275454369276155,0.30860331273210834,0.2773531838675817,0.24281218221653966,0.21405852314953455,0.1946510520951548,0.18209434058448284,0.1772010280132498,0.18209434058448265,0.19465105209515374,0.21405852314953436,0.2428121822165423,0.2773531838675849,0.30860331273210634,0.32754543692761734,0.28886681048243856,0.2676904601781271,0.24006542158624095,0.21405852314953586,0.19407487114096794,0.17926562616745245,0.1706472403184345,0.17064724031843664,0.17926562616745403,0.19407487114096736,0.21405852314953727,0.24006542158623884,0.26769046017812453,0.2888668104824403,0.296826852256048,0.25135686667868623,0.2327742000736045,0.21265466264283728,0.19465105209515543,0.17926562616745265,0.1683246465450303,0.16455226028857375,0.1683246465450298,0.17926562616745362,0.19465105209515474,0.21265466264283625,0.23277420007360505,0.2513568666786854,0.26257594221163355,0.2625759422116337,0.22344188465691198,0.21029530556697967,0.1960697485769662,0.18209434058448287,0.17064724031843628,0.16455226028857256,0.1645522602885726,0.17064724031843612,0.1820943405844825,0.19606974857696688,0.21029530556697984,0.2234418846569096,0.23334426532304953,0.2370530329415333,0.23334426532304714,0.20688078943178975,0.19736712098712247,0.18673153960527172,0.1772010280132498,0.17064724031843614,0.16832464654502977,0.17064724031843514,0.17720102801325135,0.18673153960527109,0.1973671209871232,0.2068807894317878,0.21399892981767862,0.21792226071093093,0.21792226071093093,0.2139989298176798,0.19761709887550846,0.1922028354179086,0.18673153960527233,0.18209434058448348,0.17926562616745317,0.1792656261674534,0.18209434058448273,0.18673153960527128,0.19220283541790772,0.19761709887550977,0.20191659438460582,0.20445538423496662,0.20523127493975066,0.20445538423496668,0.20191659438460585,0.19761709887550935,0.19736712098712272,0.19606974857696682,0.19465105209515418,0.1940748711409669,0.19465105209515463,0.19606974857696688,0.19736712098712253,0.19761709887551082,0.1970561272134564,0.1962856474762273,0.1956466691429492,0.19564666914294898,0.19628564747622848,0.1970561272134571,0.20688078943178725,0.21029530556698003,0.21265466264283778,0.2140585231495346,0.21405852314953505,0.21265466264283817,0.2102953055669789,0.20688078943178742,0.2019165943846054,0.19628564747622845,0.19208137319756538,0.19064807901069658,0.19208137319756546,0.19628564747622868,0.20191659438460458,0.22344188465691198,0.232774200073606,0.24006542158623817,0.24281218221653966,0.24006542158623848,0.23277420007360505,0.22344188465690967,0.21399892981767782,0.20445538423496706,0.1956466691429492,0.19064807901069608,0.19064807901069417,0.195646669142951,0.20445538423496595,0.21399892981767735,0.25135686667868606,0.26769046017812653,0.2773531838675844,0.2773531838675822,0.26769046017812725,0.25135686667868357,0.23334426532304797,0.21792226071093043,0.20523127493974958,0.19564666914295123,0.1920813731975667,0.19564666914295023,0.20523127493974883,0.2179222607109309,0.23334426532304878,0.2888668104824401,0.30860331273210795,0.3160586465125701,0.30860331273210656,0.2888668104824385,0.26257594221163244,0.23705303294153204,0.21792226071093038,0.20445538423496806,0.19628564747622787,0.19628564747622926,0.2044553842349689,0.21792226071093085,0.23705303294153315,0.26257594221163144,0.32754543692761473,0.3463151478427509,0.3463151478427509,0.32754543692761656,0.2968268522560504,0.26257594221163255,0.23334426532304797,0.21399892981767787,0.2019165943846057,0.19705612721345583,0.20191659438460377,0.2139989298176789,0.23334426532304944,0.26257594221162994,0.29682685225605066,0.3950208431974749,0.39502084319747505,0.36959531389874273,0.3275454369276149,0.28267098671435326,0.24412000319070748,0.21929399780944814,0.20599274232562625,0.2008035660983382,0.20599274232562792,0.21929399780944647,0.24412000319070867,0.28267098671435237,0.32754543692761473,0.3695953138987445,0.39502084319747593,0.3817993202736475,0.3463151478427509,0.3015297515461752,0.25888751750960665,0.22690906210385284,0.20881081658049322,0.1992930257937592,0.19929302579376001,0.2088108165804941,0.22690906210385373,0.2588875175096073,0.3015297515461752,0.34631514784275064,0.38179932027364744,0.36959531389874434,0.3463151478427511,0.30860331273210984,0.26769046017812725,0.23277420007360375,0.21029530556698012,0.19736712098712175,0.19220283541790986,0.1973671209871234,0.2102953055669794,0.2327742000736051,0.2676904601781275,0.30860331273210656,0.34631514784275064,0.36959531389874434,0.327545436927616,0.3015297515461742,0.2676904601781277,0.23501184551477344,0.21096799594225846,0.19550430746926156,0.18643677309140613,0.18643677309140663,0.195504307469261,0.21096799594226098,0.23501184551477317,0.26769046017812786,0.3015297515461742,0.32754543692761623,0.33748850678115305,0.2826709867143524,0.25888751750960837,0.2327742000736038,0.21096799594225948,0.19464870045800953,0.1830983446985344,0.17874983936216798,0.18309834469853326,0.19464870045801047,0.21096799594225887,0.23277420007360566,0.258887517509606,0.2826709867143522,0.29682685225605115,0.29682685225605115,0.24412000319070773,0.22690906210385223,0.21029530556697912,0.19550430746926156,0.18309834469853417,0.17616699943628988,0.17616699943629005,0.18309834469853475,0.1955043074692597,0.2102953055669791,0.2269090621038537,0.24412000319070973,0.257540718912281,0.2625759422116338,0.25754071891228075,0.21929399780944717,0.2088108165804931,0.19736712098712256,0.18643677309140644,0.1787498393621691,0.1761669994362902,0.17874983936216865,0.1864367730914075,0.1973671209871252,0.2088108165804964,0.21929399780944858,0.22806070560836258,0.23334426532304864,0.23334426532304864,0.22806070560836195,0.20599274232562803,0.19929302579376013,0.19220283541790956,0.18643677309140796,0.18309834469853345,0.18309834469853367,0.18643677309140716,0.19220283541790995,0.19929302579375927,0.20599274232562748,0.2109450160200568,0.21399892981767826,0.21503380107429526,0.21399892981767665,0.21094501602005591,0.20080356609833935,0.19929302579376,0.19736712098712295,0.19550430746926076,0.19464870045801036,0.19550430746926056,0.19736712098712253,0.19929302579376112,0.20080356609833866,0.20167145930571442,0.2019165943846063,0.20172134816406784,0.20172134816406856,0.20191659438460702,0.2016714593057166,0.20599274232562723,0.20881081658049375,0.2102953055669795,0.21096799594225846,0.21096799594225996,0.21029530556697826,0.20881081658049416,0.20599274232562853,0.20167145930571503,0.19705612721345694,0.19365807696657633,0.19243498043796997,0.19365807696657586,0.19705612721345736,0.20167145930571484,0.21929399780944567,0.22690906210385262,0.2327742000736041,0.23501184551477408,0.2327742000736051,0.2269090621038535,0.2192939978094483,0.21094501602005652,0.2019165943846062,0.19365807696657755,0.1891235483338093,0.18912354833380904,0.19365807696657755,0.2019165943846054,0.21094501602005583,0.24412000319070828,0.258887517509606,0.26769046017812786,0.2676904601781258,0.258887517509608,0.24412000319070842,0.22806070560836492,0.21399892981767826,0.2017213481640676,0.1924349804379703,0.1891235483338086,0.19243498043797255,0.20172134816406714,0.21399892981767774,0.22806070560836456,0.2826709867143528,0.301529751546176,0.3086033127321085,0.30152975154617556,0.2826709867143483,0.2575407189122798,0.2333442653230485,0.21503380107429257,0.20172134816406717,0.1936580769665771,0.19365807696657633,0.20172134816406787,0.2150338010742934,0.23334426532304886,0.2575407189122825,0.32754543692761473,0.34631514784275236,0.3463151478427534,0.3275454369276173,0.29682685225605127,0.262575942211631,0.23334426532304856,0.21399892981767896,0.20191659438460616,0.19705612721345603,0.201916594384605,0.21399892981767835,0.23334426532304756,0.26257594221163216,0.2968268522560486,0.36959531389874023,0.38179932027364577,0.36959531389874134,0.33748850678115333,0.29682685225605043,0.2575407189122814,0.2280607056083612,0.21094501602005714,0.20167145930571515,0.20167145930571584,0.21094501602005541,0.22806070560836536,0.25754071891228225,0.2968268522560486,0.3374885067811512],\"x\":[0,0,0,0,0,0,0,0,0,0,0,0,0,0,0,0,0,0,0,0,0,0,0,0,0,0,0,0,0,0,0,0,0,0,0,0,0,0,0,0,0,0,0,0,0,0,0,0,0,0,0,0,0,0,0,0,0,0,0,0,0,0,0,0,0,0,0,0,0,0,0,0,0,0,0,0,0,0,0,0,0,0,0,0,0,0,0,0,0,0,0,0,0,0,0,0,0,0,0,0,0,0,0,0,0,0,0,0,0,0,0,0,0,0,0,0,0,0,0,0,0,0,0,0,0,0,0,0,0,0,0,0,0,0,0,0,0,0,0,0,0,0,0,0,0,0,0,0,0,0,0,0,0,0,0,0,0,0,0,0,0,0,0,0,0,0,0,0,0,0,0,0,0,0,0,0,0,0,0,0,0,0,0,0,0,0,0,0,0,0,0,0,0,0,0,0,0,0,0,0,0,0,0,0,0,0,0,0,0,0,0,0,0,0,0,0,0,0,0,0,0,0,0,0,0,1,1,1,1,1,1,1,1,1,1,1,1,1,1,1,1,1,1,1,1,1,1,1,1,1,1,1,1,1,1,1,1,1,1,1,1,1,1,1,1,1,1,1,1,1,1,1,1,1,1,1,1,1,1,1,1,1,1,1,1,1,1,1,1,1,1,1,1,1,1,1,1,1,1,1,1,1,1,1,1,1,1,1,1,1,1,1,1,1,1,1,1,1,1,1,1,1,1,1,1,1,1,1,1,1,1,1,1,1,1,1,1,1,1,1,1,1,1,1,1,1,1,1,1,1,1,1,1,1,1,1,1,1,1,1,1,1,1,1,1,1,1,1,1,1,1,1,1,1,1,1,1,1,1,1,1,1,1,1,1,1,1,1,1,1,1,1,1,1,1,1,1,1,1,1,1,1,1,1,1,1,1,1,1,1,1,1,1,1,1,1,1,1,1,1,1,1,1,1,1,1,1,1,1,1,1,1,1,1,1,1,1,1,1,1,1,1,1,1,1,1,1,1,1,1,2,2,2,2,2,2,2,2,2,2,2,2,2,2,2,2,2,2,2,2,2,2,2,2,2,2,2,2,2,2,2,2,2,2,2,2,2,2,2,2,2,2,2,2,2,2,2,2,2,2,2,2,2,2,2,2,2,2,2,2,2,2,2,2,2,2,2,2,2,2,2,2,2,2,2,2,2,2,2,2,2,2,2,2,2,2,2,2,2,2,2,2,2,2,2,2,2,2,2,2,2,2,2,2,2,2,2,2,2,2,2,2,2,2,2,2,2,2,2,2,2,2,2,2,2,2,2,2,2,2,2,2,2,2,2,2,2,2,2,2,2,2,2,2,2,2,2,2,2,2,2,2,2,2,2,2,2,2,2,2,2,2,2,2,2,2,2,2,2,2,2,2,2,2,2,2,2,2,2,2,2,2,2,2,2,2,2,2,2,2,2,2,2,2,2,2,2,2,2,2,2,2,2,2,2,2,2,2,2,2,2,2,2,2,2,2,2,2,2,2,2,2,2,2,2,3,3,3,3,3,3,3,3,3,3,3,3,3,3,3,3,3,3,3,3,3,3,3,3,3,3,3,3,3,3,3,3,3,3,3,3,3,3,3,3,3,3,3,3,3,3,3,3,3,3,3,3,3,3,3,3,3,3,3,3,3,3,3,3,3,3,3,3,3,3,3,3,3,3,3,3,3,3,3,3,3,3,3,3,3,3,3,3,3,3,3,3,3,3,3,3,3,3,3,3,3,3,3,3,3,3,3,3,3,3,3,3,3,3,3,3,3,3,3,3,3,3,3,3,3,3,3,3,3,3,3,3,3,3,3,3,3,3,3,3,3,3,3,3,3,3,3,3,3,3,3,3,3,3,3,3,3,3,3,3,3,3,3,3,3,3,3,3,3,3,3,3,3,3,3,3,3,3,3,3,3,3,3,3,3,3,3,3,3,3,3,3,3,3,3,3,3,3,3,3,3,3,3,3,3,3,3,3,3,3,3,3,3,3,3,3,3,3,3,3,3,3,3,3,3,4,4,4,4,4,4,4,4,4,4,4,4,4,4,4,4,4,4,4,4,4,4,4,4,4,4,4,4,4,4,4,4,4,4,4,4,4,4,4,4,4,4,4,4,4,4,4,4,4,4,4,4,4,4,4,4,4,4,4,4,4,4,4,4,4,4,4,4,4,4,4,4,4,4,4,4,4,4,4,4,4,4,4,4,4,4,4,4,4,4,4,4,4,4,4,4,4,4,4,4,4,4,4,4,4,4,4,4,4,4,4,4,4,4,4,4,4,4,4,4,4,4,4,4,4,4,4,4,4,4,4,4,4,4,4,4,4,4,4,4,4,4,4,4,4,4,4,4,4,4,4,4,4,4,4,4,4,4,4,4,4,4,4,4,4,4,4,4,4,4,4,4,4,4,4,4,4,4,4,4,4,4,4,4,4,4,4,4,4,4,4,4,4,4,4,4,4,4,4,4,4,4,4,4,4,4,4,4,4,4,4,4,4,4,4,4,4,4,4,4,4,4,4,4,4,5,5,5,5,5,5,5,5,5,5,5,5,5,5,5,5,5,5,5,5,5,5,5,5,5,5,5,5,5,5,5,5,5,5,5,5,5,5,5,5,5,5,5,5,5,5,5,5,5,5,5,5,5,5,5,5,5,5,5,5,5,5,5,5,5,5,5,5,5,5,5,5,5,5,5,5,5,5,5,5,5,5,5,5,5,5,5,5,5,5,5,5,5,5,5,5,5,5,5,5,5,5,5,5,5,5,5,5,5,5,5,5,5,5,5,5,5,5,5,5,5,5,5,5,5,5,5,5,5,5,5,5,5,5,5,5,5,5,5,5,5,5,5,5,5,5,5,5,5,5,5,5,5,5,5,5,5,5,5,5,5,5,5,5,5,5,5,5,5,5,5,5,5,5,5,5,5,5,5,5,5,5,5,5,5,5,5,5,5,5,5,5,5,5,5,5,5,5,5,5,5,5,5,5,5,5,5,5,5,5,5,5,5,5,5,5,5,5,5,5,5,5,5,5,5,6,6,6,6,6,6,6,6,6,6,6,6,6,6,6,6,6,6,6,6,6,6,6,6,6,6,6,6,6,6,6,6,6,6,6,6,6,6,6,6,6,6,6,6,6,6,6,6,6,6,6,6,6,6,6,6,6,6,6,6,6,6,6,6,6,6,6,6,6,6,6,6,6,6,6,6,6,6,6,6,6,6,6,6,6,6,6,6,6,6,6,6,6,6,6,6,6,6,6,6,6,6,6,6,6,6,6,6,6,6,6,6,6,6,6,6,6,6,6,6,6,6,6,6,6,6,6,6,6,6,6,6,6,6,6,6,6,6,6,6,6,6,6,6,6,6,6,6,6,6,6,6,6,6,6,6,6,6,6,6,6,6,6,6,6,6,6,6,6,6,6,6,6,6,6,6,6,6,6,6,6,6,6,6,6,6,6,6,6,6,6,6,6,6,6,6,6,6,6,6,6,6,6,6,6,6,6,6,6,6,6,6,6,6,6,6,6,6,6,6,6,6,6,6,6,7,7,7,7,7,7,7,7,7,7,7,7,7,7,7,7,7,7,7,7,7,7,7,7,7,7,7,7,7,7,7,7,7,7,7,7,7,7,7,7,7,7,7,7,7,7,7,7,7,7,7,7,7,7,7,7,7,7,7,7,7,7,7,7,7,7,7,7,7,7,7,7,7,7,7,7,7,7,7,7,7,7,7,7,7,7,7,7,7,7,7,7,7,7,7,7,7,7,7,7,7,7,7,7,7,7,7,7,7,7,7,7,7,7,7,7,7,7,7,7,7,7,7,7,7,7,7,7,7,7,7,7,7,7,7,7,7,7,7,7,7,7,7,7,7,7,7,7,7,7,7,7,7,7,7,7,7,7,7,7,7,7,7,7,7,7,7,7,7,7,7,7,7,7,7,7,7,7,7,7,7,7,7,7,7,7,7,7,7,7,7,7,7,7,7,7,7,7,7,7,7,7,7,7,7,7,7,7,7,7,7,7,7,7,7,7,7,7,7,7,7,7,7,7,7,8,8,8,8,8,8,8,8,8,8,8,8,8,8,8,8,8,8,8,8,8,8,8,8,8,8,8,8,8,8,8,8,8,8,8,8,8,8,8,8,8,8,8,8,8,8,8,8,8,8,8,8,8,8,8,8,8,8,8,8,8,8,8,8,8,8,8,8,8,8,8,8,8,8,8,8,8,8,8,8,8,8,8,8,8,8,8,8,8,8,8,8,8,8,8,8,8,8,8,8,8,8,8,8,8,8,8,8,8,8,8,8,8,8,8,8,8,8,8,8,8,8,8,8,8,8,8,8,8,8,8,8,8,8,8,8,8,8,8,8,8,8,8,8,8,8,8,8,8,8,8,8,8,8,8,8,8,8,8,8,8,8,8,8,8,8,8,8,8,8,8,8,8,8,8,8,8,8,8,8,8,8,8,8,8,8,8,8,8,8,8,8,8,8,8,8,8,8,8,8,8,8,8,8,8,8,8,8,8,8,8,8,8,8,8,8,8,8,8,8,8,8,8,8,8,9,9,9,9,9,9,9,9,9,9,9,9,9,9,9,9,9,9,9,9,9,9,9,9,9,9,9,9,9,9,9,9,9,9,9,9,9,9,9,9,9,9,9,9,9,9,9,9,9,9,9,9,9,9,9,9,9,9,9,9,9,9,9,9,9,9,9,9,9,9,9,9,9,9,9,9,9,9,9,9,9,9,9,9,9,9,9,9,9,9,9,9,9,9,9,9,9,9,9,9,9,9,9,9,9,9,9,9,9,9,9,9,9,9,9,9,9,9,9,9,9,9,9,9,9,9,9,9,9,9,9,9,9,9,9,9,9,9,9,9,9,9,9,9,9,9,9,9,9,9,9,9,9,9,9,9,9,9,9,9,9,9,9,9,9,9,9,9,9,9,9,9,9,9,9,9,9,9,9,9,9,9,9,9,9,9,9,9,9,9,9,9,9,9,9,9,9,9,9,9,9,9,9,9,9,9,9,9,9,9,9,9,9,9,9,9,9,9,9,9,9,9,9,9,9,10,10,10,10,10,10,10,10,10,10,10,10,10,10,10,10,10,10,10,10,10,10,10,10,10,10,10,10,10,10,10,10,10,10,10,10,10,10,10,10,10,10,10,10,10,10,10,10,10,10,10,10,10,10,10,10,10,10,10,10,10,10,10,10,10,10,10,10,10,10,10,10,10,10,10,10,10,10,10,10,10,10,10,10,10,10,10,10,10,10,10,10,10,10,10,10,10,10,10,10,10,10,10,10,10,10,10,10,10,10,10,10,10,10,10,10,10,10,10,10,10,10,10,10,10,10,10,10,10,10,10,10,10,10,10,10,10,10,10,10,10,10,10,10,10,10,10,10,10,10,10,10,10,10,10,10,10,10,10,10,10,10,10,10,10,10,10,10,10,10,10,10,10,10,10,10,10,10,10,10,10,10,10,10,10,10,10,10,10,10,10,10,10,10,10,10,10,10,10,10,10,10,10,10,10,10,10,10,10,10,10,10,10,10,10,10,10,10,10,10,10,10,10,10,10,11,11,11,11,11,11,11,11,11,11,11,11,11,11,11,11,11,11,11,11,11,11,11,11,11,11,11,11,11,11,11,11,11,11,11,11,11,11,11,11,11,11,11,11,11,11,11,11,11,11,11,11,11,11,11,11,11,11,11,11,11,11,11,11,11,11,11,11,11,11,11,11,11,11,11,11,11,11,11,11,11,11,11,11,11,11,11,11,11,11,11,11,11,11,11,11,11,11,11,11,11,11,11,11,11,11,11,11,11,11,11,11,11,11,11,11,11,11,11,11,11,11,11,11,11,11,11,11,11,11,11,11,11,11,11,11,11,11,11,11,11,11,11,11,11,11,11,11,11,11,11,11,11,11,11,11,11,11,11,11,11,11,11,11,11,11,11,11,11,11,11,11,11,11,11,11,11,11,11,11,11,11,11,11,11,11,11,11,11,11,11,11,11,11,11,11,11,11,11,11,11,11,11,11,11,11,11,11,11,11,11,11,11,11,11,11,11,11,11,11,11,11,11,11,11,12,12,12,12,12,12,12,12,12,12,12,12,12,12,12,12,12,12,12,12,12,12,12,12,12,12,12,12,12,12,12,12,12,12,12,12,12,12,12,12,12,12,12,12,12,12,12,12,12,12,12,12,12,12,12,12,12,12,12,12,12,12,12,12,12,12,12,12,12,12,12,12,12,12,12,12,12,12,12,12,12,12,12,12,12,12,12,12,12,12,12,12,12,12,12,12,12,12,12,12,12,12,12,12,12,12,12,12,12,12,12,12,12,12,12,12,12,12,12,12,12,12,12,12,12,12,12,12,12,12,12,12,12,12,12,12,12,12,12,12,12,12,12,12,12,12,12,12,12,12,12,12,12,12,12,12,12,12,12,12,12,12,12,12,12,12,12,12,12,12,12,12,12,12,12,12,12,12,12,12,12,12,12,12,12,12,12,12,12,12,12,12,12,12,12,12,12,12,12,12,12,12,12,12,12,12,12,12,12,12,12,12,12,12,12,12,12,12,12,12,12,12,12,12,12,13,13,13,13,13,13,13,13,13,13,13,13,13,13,13,13,13,13,13,13,13,13,13,13,13,13,13,13,13,13,13,13,13,13,13,13,13,13,13,13,13,13,13,13,13,13,13,13,13,13,13,13,13,13,13,13,13,13,13,13,13,13,13,13,13,13,13,13,13,13,13,13,13,13,13,13,13,13,13,13,13,13,13,13,13,13,13,13,13,13,13,13,13,13,13,13,13,13,13,13,13,13,13,13,13,13,13,13,13,13,13,13,13,13,13,13,13,13,13,13,13,13,13,13,13,13,13,13,13,13,13,13,13,13,13,13,13,13,13,13,13,13,13,13,13,13,13,13,13,13,13,13,13,13,13,13,13,13,13,13,13,13,13,13,13,13,13,13,13,13,13,13,13,13,13,13,13,13,13,13,13,13,13,13,13,13,13,13,13,13,13,13,13,13,13,13,13,13,13,13,13,13,13,13,13,13,13,13,13,13,13,13,13,13,13,13,13,13,13,13,13,13,13,13,13,14,14,14,14,14,14,14,14,14,14,14,14,14,14,14,14,14,14,14,14,14,14,14,14,14,14,14,14,14,14,14,14,14,14,14,14,14,14,14,14,14,14,14,14,14,14,14,14,14,14,14,14,14,14,14,14,14,14,14,14,14,14,14,14,14,14,14,14,14,14,14,14,14,14,14,14,14,14,14,14,14,14,14,14,14,14,14,14,14,14,14,14,14,14,14,14,14,14,14,14,14,14,14,14,14,14,14,14,14,14,14,14,14,14,14,14,14,14,14,14,14,14,14,14,14,14,14,14,14,14,14,14,14,14,14,14,14,14,14,14,14,14,14,14,14,14,14,14,14,14,14,14,14,14,14,14,14,14,14,14,14,14,14,14,14,14,14,14,14,14,14,14,14,14,14,14,14,14,14,14,14,14,14,14,14,14,14,14,14,14,14,14,14,14,14,14,14,14,14,14,14,14,14,14,14,14,14,14,14,14,14,14,14,14,14,14,14,14,14,14,14,14,14,14,14],\"y\":[0,0,0,0,0,0,0,0,0,0,0,0,0,0,0,1,1,1,1,1,1,1,1,1,1,1,1,1,1,1,2,2,2,2,2,2,2,2,2,2,2,2,2,2,2,3,3,3,3,3,3,3,3,3,3,3,3,3,3,3,4,4,4,4,4,4,4,4,4,4,4,4,4,4,4,5,5,5,5,5,5,5,5,5,5,5,5,5,5,5,6,6,6,6,6,6,6,6,6,6,6,6,6,6,6,7,7,7,7,7,7,7,7,7,7,7,7,7,7,7,8,8,8,8,8,8,8,8,8,8,8,8,8,8,8,9,9,9,9,9,9,9,9,9,9,9,9,9,9,9,10,10,10,10,10,10,10,10,10,10,10,10,10,10,10,11,11,11,11,11,11,11,11,11,11,11,11,11,11,11,12,12,12,12,12,12,12,12,12,12,12,12,12,12,12,13,13,13,13,13,13,13,13,13,13,13,13,13,13,13,14,14,14,14,14,14,14,14,14,14,14,14,14,14,14,0,0,0,0,0,0,0,0,0,0,0,0,0,0,0,1,1,1,1,1,1,1,1,1,1,1,1,1,1,1,2,2,2,2,2,2,2,2,2,2,2,2,2,2,2,3,3,3,3,3,3,3,3,3,3,3,3,3,3,3,4,4,4,4,4,4,4,4,4,4,4,4,4,4,4,5,5,5,5,5,5,5,5,5,5,5,5,5,5,5,6,6,6,6,6,6,6,6,6,6,6,6,6,6,6,7,7,7,7,7,7,7,7,7,7,7,7,7,7,7,8,8,8,8,8,8,8,8,8,8,8,8,8,8,8,9,9,9,9,9,9,9,9,9,9,9,9,9,9,9,10,10,10,10,10,10,10,10,10,10,10,10,10,10,10,11,11,11,11,11,11,11,11,11,11,11,11,11,11,11,12,12,12,12,12,12,12,12,12,12,12,12,12,12,12,13,13,13,13,13,13,13,13,13,13,13,13,13,13,13,14,14,14,14,14,14,14,14,14,14,14,14,14,14,14,0,0,0,0,0,0,0,0,0,0,0,0,0,0,0,1,1,1,1,1,1,1,1,1,1,1,1,1,1,1,2,2,2,2,2,2,2,2,2,2,2,2,2,2,2,3,3,3,3,3,3,3,3,3,3,3,3,3,3,3,4,4,4,4,4,4,4,4,4,4,4,4,4,4,4,5,5,5,5,5,5,5,5,5,5,5,5,5,5,5,6,6,6,6,6,6,6,6,6,6,6,6,6,6,6,7,7,7,7,7,7,7,7,7,7,7,7,7,7,7,8,8,8,8,8,8,8,8,8,8,8,8,8,8,8,9,9,9,9,9,9,9,9,9,9,9,9,9,9,9,10,10,10,10,10,10,10,10,10,10,10,10,10,10,10,11,11,11,11,11,11,11,11,11,11,11,11,11,11,11,12,12,12,12,12,12,12,12,12,12,12,12,12,12,12,13,13,13,13,13,13,13,13,13,13,13,13,13,13,13,14,14,14,14,14,14,14,14,14,14,14,14,14,14,14,0,0,0,0,0,0,0,0,0,0,0,0,0,0,0,1,1,1,1,1,1,1,1,1,1,1,1,1,1,1,2,2,2,2,2,2,2,2,2,2,2,2,2,2,2,3,3,3,3,3,3,3,3,3,3,3,3,3,3,3,4,4,4,4,4,4,4,4,4,4,4,4,4,4,4,5,5,5,5,5,5,5,5,5,5,5,5,5,5,5,6,6,6,6,6,6,6,6,6,6,6,6,6,6,6,7,7,7,7,7,7,7,7,7,7,7,7,7,7,7,8,8,8,8,8,8,8,8,8,8,8,8,8,8,8,9,9,9,9,9,9,9,9,9,9,9,9,9,9,9,10,10,10,10,10,10,10,10,10,10,10,10,10,10,10,11,11,11,11,11,11,11,11,11,11,11,11,11,11,11,12,12,12,12,12,12,12,12,12,12,12,12,12,12,12,13,13,13,13,13,13,13,13,13,13,13,13,13,13,13,14,14,14,14,14,14,14,14,14,14,14,14,14,14,14,0,0,0,0,0,0,0,0,0,0,0,0,0,0,0,1,1,1,1,1,1,1,1,1,1,1,1,1,1,1,2,2,2,2,2,2,2,2,2,2,2,2,2,2,2,3,3,3,3,3,3,3,3,3,3,3,3,3,3,3,4,4,4,4,4,4,4,4,4,4,4,4,4,4,4,5,5,5,5,5,5,5,5,5,5,5,5,5,5,5,6,6,6,6,6,6,6,6,6,6,6,6,6,6,6,7,7,7,7,7,7,7,7,7,7,7,7,7,7,7,8,8,8,8,8,8,8,8,8,8,8,8,8,8,8,9,9,9,9,9,9,9,9,9,9,9,9,9,9,9,10,10,10,10,10,10,10,10,10,10,10,10,10,10,10,11,11,11,11,11,11,11,11,11,11,11,11,11,11,11,12,12,12,12,12,12,12,12,12,12,12,12,12,12,12,13,13,13,13,13,13,13,13,13,13,13,13,13,13,13,14,14,14,14,14,14,14,14,14,14,14,14,14,14,14,0,0,0,0,0,0,0,0,0,0,0,0,0,0,0,1,1,1,1,1,1,1,1,1,1,1,1,1,1,1,2,2,2,2,2,2,2,2,2,2,2,2,2,2,2,3,3,3,3,3,3,3,3,3,3,3,3,3,3,3,4,4,4,4,4,4,4,4,4,4,4,4,4,4,4,5,5,5,5,5,5,5,5,5,5,5,5,5,5,5,6,6,6,6,6,6,6,6,6,6,6,6,6,6,6,7,7,7,7,7,7,7,7,7,7,7,7,7,7,7,8,8,8,8,8,8,8,8,8,8,8,8,8,8,8,9,9,9,9,9,9,9,9,9,9,9,9,9,9,9,10,10,10,10,10,10,10,10,10,10,10,10,10,10,10,11,11,11,11,11,11,11,11,11,11,11,11,11,11,11,12,12,12,12,12,12,12,12,12,12,12,12,12,12,12,13,13,13,13,13,13,13,13,13,13,13,13,13,13,13,14,14,14,14,14,14,14,14,14,14,14,14,14,14,14,0,0,0,0,0,0,0,0,0,0,0,0,0,0,0,1,1,1,1,1,1,1,1,1,1,1,1,1,1,1,2,2,2,2,2,2,2,2,2,2,2,2,2,2,2,3,3,3,3,3,3,3,3,3,3,3,3,3,3,3,4,4,4,4,4,4,4,4,4,4,4,4,4,4,4,5,5,5,5,5,5,5,5,5,5,5,5,5,5,5,6,6,6,6,6,6,6,6,6,6,6,6,6,6,6,7,7,7,7,7,7,7,7,7,7,7,7,7,7,7,8,8,8,8,8,8,8,8,8,8,8,8,8,8,8,9,9,9,9,9,9,9,9,9,9,9,9,9,9,9,10,10,10,10,10,10,10,10,10,10,10,10,10,10,10,11,11,11,11,11,11,11,11,11,11,11,11,11,11,11,12,12,12,12,12,12,12,12,12,12,12,12,12,12,12,13,13,13,13,13,13,13,13,13,13,13,13,13,13,13,14,14,14,14,14,14,14,14,14,14,14,14,14,14,14,0,0,0,0,0,0,0,0,0,0,0,0,0,0,0,1,1,1,1,1,1,1,1,1,1,1,1,1,1,1,2,2,2,2,2,2,2,2,2,2,2,2,2,2,2,3,3,3,3,3,3,3,3,3,3,3,3,3,3,3,4,4,4,4,4,4,4,4,4,4,4,4,4,4,4,5,5,5,5,5,5,5,5,5,5,5,5,5,5,5,6,6,6,6,6,6,6,6,6,6,6,6,6,6,6,7,7,7,7,7,7,7,7,7,7,7,7,7,7,7,8,8,8,8,8,8,8,8,8,8,8,8,8,8,8,9,9,9,9,9,9,9,9,9,9,9,9,9,9,9,10,10,10,10,10,10,10,10,10,10,10,10,10,10,10,11,11,11,11,11,11,11,11,11,11,11,11,11,11,11,12,12,12,12,12,12,12,12,12,12,12,12,12,12,12,13,13,13,13,13,13,13,13,13,13,13,13,13,13,13,14,14,14,14,14,14,14,14,14,14,14,14,14,14,14,0,0,0,0,0,0,0,0,0,0,0,0,0,0,0,1,1,1,1,1,1,1,1,1,1,1,1,1,1,1,2,2,2,2,2,2,2,2,2,2,2,2,2,2,2,3,3,3,3,3,3,3,3,3,3,3,3,3,3,3,4,4,4,4,4,4,4,4,4,4,4,4,4,4,4,5,5,5,5,5,5,5,5,5,5,5,5,5,5,5,6,6,6,6,6,6,6,6,6,6,6,6,6,6,6,7,7,7,7,7,7,7,7,7,7,7,7,7,7,7,8,8,8,8,8,8,8,8,8,8,8,8,8,8,8,9,9,9,9,9,9,9,9,9,9,9,9,9,9,9,10,10,10,10,10,10,10,10,10,10,10,10,10,10,10,11,11,11,11,11,11,11,11,11,11,11,11,11,11,11,12,12,12,12,12,12,12,12,12,12,12,12,12,12,12,13,13,13,13,13,13,13,13,13,13,13,13,13,13,13,14,14,14,14,14,14,14,14,14,14,14,14,14,14,14,0,0,0,0,0,0,0,0,0,0,0,0,0,0,0,1,1,1,1,1,1,1,1,1,1,1,1,1,1,1,2,2,2,2,2,2,2,2,2,2,2,2,2,2,2,3,3,3,3,3,3,3,3,3,3,3,3,3,3,3,4,4,4,4,4,4,4,4,4,4,4,4,4,4,4,5,5,5,5,5,5,5,5,5,5,5,5,5,5,5,6,6,6,6,6,6,6,6,6,6,6,6,6,6,6,7,7,7,7,7,7,7,7,7,7,7,7,7,7,7,8,8,8,8,8,8,8,8,8,8,8,8,8,8,8,9,9,9,9,9,9,9,9,9,9,9,9,9,9,9,10,10,10,10,10,10,10,10,10,10,10,10,10,10,10,11,11,11,11,11,11,11,11,11,11,11,11,11,11,11,12,12,12,12,12,12,12,12,12,12,12,12,12,12,12,13,13,13,13,13,13,13,13,13,13,13,13,13,13,13,14,14,14,14,14,14,14,14,14,14,14,14,14,14,14,0,0,0,0,0,0,0,0,0,0,0,0,0,0,0,1,1,1,1,1,1,1,1,1,1,1,1,1,1,1,2,2,2,2,2,2,2,2,2,2,2,2,2,2,2,3,3,3,3,3,3,3,3,3,3,3,3,3,3,3,4,4,4,4,4,4,4,4,4,4,4,4,4,4,4,5,5,5,5,5,5,5,5,5,5,5,5,5,5,5,6,6,6,6,6,6,6,6,6,6,6,6,6,6,6,7,7,7,7,7,7,7,7,7,7,7,7,7,7,7,8,8,8,8,8,8,8,8,8,8,8,8,8,8,8,9,9,9,9,9,9,9,9,9,9,9,9,9,9,9,10,10,10,10,10,10,10,10,10,10,10,10,10,10,10,11,11,11,11,11,11,11,11,11,11,11,11,11,11,11,12,12,12,12,12,12,12,12,12,12,12,12,12,12,12,13,13,13,13,13,13,13,13,13,13,13,13,13,13,13,14,14,14,14,14,14,14,14,14,14,14,14,14,14,14,0,0,0,0,0,0,0,0,0,0,0,0,0,0,0,1,1,1,1,1,1,1,1,1,1,1,1,1,1,1,2,2,2,2,2,2,2,2,2,2,2,2,2,2,2,3,3,3,3,3,3,3,3,3,3,3,3,3,3,3,4,4,4,4,4,4,4,4,4,4,4,4,4,4,4,5,5,5,5,5,5,5,5,5,5,5,5,5,5,5,6,6,6,6,6,6,6,6,6,6,6,6,6,6,6,7,7,7,7,7,7,7,7,7,7,7,7,7,7,7,8,8,8,8,8,8,8,8,8,8,8,8,8,8,8,9,9,9,9,9,9,9,9,9,9,9,9,9,9,9,10,10,10,10,10,10,10,10,10,10,10,10,10,10,10,11,11,11,11,11,11,11,11,11,11,11,11,11,11,11,12,12,12,12,12,12,12,12,12,12,12,12,12,12,12,13,13,13,13,13,13,13,13,13,13,13,13,13,13,13,14,14,14,14,14,14,14,14,14,14,14,14,14,14,14,0,0,0,0,0,0,0,0,0,0,0,0,0,0,0,1,1,1,1,1,1,1,1,1,1,1,1,1,1,1,2,2,2,2,2,2,2,2,2,2,2,2,2,2,2,3,3,3,3,3,3,3,3,3,3,3,3,3,3,3,4,4,4,4,4,4,4,4,4,4,4,4,4,4,4,5,5,5,5,5,5,5,5,5,5,5,5,5,5,5,6,6,6,6,6,6,6,6,6,6,6,6,6,6,6,7,7,7,7,7,7,7,7,7,7,7,7,7,7,7,8,8,8,8,8,8,8,8,8,8,8,8,8,8,8,9,9,9,9,9,9,9,9,9,9,9,9,9,9,9,10,10,10,10,10,10,10,10,10,10,10,10,10,10,10,11,11,11,11,11,11,11,11,11,11,11,11,11,11,11,12,12,12,12,12,12,12,12,12,12,12,12,12,12,12,13,13,13,13,13,13,13,13,13,13,13,13,13,13,13,14,14,14,14,14,14,14,14,14,14,14,14,14,14,14,0,0,0,0,0,0,0,0,0,0,0,0,0,0,0,1,1,1,1,1,1,1,1,1,1,1,1,1,1,1,2,2,2,2,2,2,2,2,2,2,2,2,2,2,2,3,3,3,3,3,3,3,3,3,3,3,3,3,3,3,4,4,4,4,4,4,4,4,4,4,4,4,4,4,4,5,5,5,5,5,5,5,5,5,5,5,5,5,5,5,6,6,6,6,6,6,6,6,6,6,6,6,6,6,6,7,7,7,7,7,7,7,7,7,7,7,7,7,7,7,8,8,8,8,8,8,8,8,8,8,8,8,8,8,8,9,9,9,9,9,9,9,9,9,9,9,9,9,9,9,10,10,10,10,10,10,10,10,10,10,10,10,10,10,10,11,11,11,11,11,11,11,11,11,11,11,11,11,11,11,12,12,12,12,12,12,12,12,12,12,12,12,12,12,12,13,13,13,13,13,13,13,13,13,13,13,13,13,13,13,14,14,14,14,14,14,14,14,14,14,14,14,14,14,14,0,0,0,0,0,0,0,0,0,0,0,0,0,0,0,1,1,1,1,1,1,1,1,1,1,1,1,1,1,1,2,2,2,2,2,2,2,2,2,2,2,2,2,2,2,3,3,3,3,3,3,3,3,3,3,3,3,3,3,3,4,4,4,4,4,4,4,4,4,4,4,4,4,4,4,5,5,5,5,5,5,5,5,5,5,5,5,5,5,5,6,6,6,6,6,6,6,6,6,6,6,6,6,6,6,7,7,7,7,7,7,7,7,7,7,7,7,7,7,7,8,8,8,8,8,8,8,8,8,8,8,8,8,8,8,9,9,9,9,9,9,9,9,9,9,9,9,9,9,9,10,10,10,10,10,10,10,10,10,10,10,10,10,10,10,11,11,11,11,11,11,11,11,11,11,11,11,11,11,11,12,12,12,12,12,12,12,12,12,12,12,12,12,12,12,13,13,13,13,13,13,13,13,13,13,13,13,13,13,13,14,14,14,14,14,14,14,14,14,14,14,14,14,14,14],\"z\":[0,1,2,3,4,5,6,7,8,9,10,11,12,13,14,0,1,2,3,4,5,6,7,8,9,10,11,12,13,14,0,1,2,3,4,5,6,7,8,9,10,11,12,13,14,0,1,2,3,4,5,6,7,8,9,10,11,12,13,14,0,1,2,3,4,5,6,7,8,9,10,11,12,13,14,0,1,2,3,4,5,6,7,8,9,10,11,12,13,14,0,1,2,3,4,5,6,7,8,9,10,11,12,13,14,0,1,2,3,4,5,6,7,8,9,10,11,12,13,14,0,1,2,3,4,5,6,7,8,9,10,11,12,13,14,0,1,2,3,4,5,6,7,8,9,10,11,12,13,14,0,1,2,3,4,5,6,7,8,9,10,11,12,13,14,0,1,2,3,4,5,6,7,8,9,10,11,12,13,14,0,1,2,3,4,5,6,7,8,9,10,11,12,13,14,0,1,2,3,4,5,6,7,8,9,10,11,12,13,14,0,1,2,3,4,5,6,7,8,9,10,11,12,13,14,0,1,2,3,4,5,6,7,8,9,10,11,12,13,14,0,1,2,3,4,5,6,7,8,9,10,11,12,13,14,0,1,2,3,4,5,6,7,8,9,10,11,12,13,14,0,1,2,3,4,5,6,7,8,9,10,11,12,13,14,0,1,2,3,4,5,6,7,8,9,10,11,12,13,14,0,1,2,3,4,5,6,7,8,9,10,11,12,13,14,0,1,2,3,4,5,6,7,8,9,10,11,12,13,14,0,1,2,3,4,5,6,7,8,9,10,11,12,13,14,0,1,2,3,4,5,6,7,8,9,10,11,12,13,14,0,1,2,3,4,5,6,7,8,9,10,11,12,13,14,0,1,2,3,4,5,6,7,8,9,10,11,12,13,14,0,1,2,3,4,5,6,7,8,9,10,11,12,13,14,0,1,2,3,4,5,6,7,8,9,10,11,12,13,14,0,1,2,3,4,5,6,7,8,9,10,11,12,13,14,0,1,2,3,4,5,6,7,8,9,10,11,12,13,14,0,1,2,3,4,5,6,7,8,9,10,11,12,13,14,0,1,2,3,4,5,6,7,8,9,10,11,12,13,14,0,1,2,3,4,5,6,7,8,9,10,11,12,13,14,0,1,2,3,4,5,6,7,8,9,10,11,12,13,14,0,1,2,3,4,5,6,7,8,9,10,11,12,13,14,0,1,2,3,4,5,6,7,8,9,10,11,12,13,14,0,1,2,3,4,5,6,7,8,9,10,11,12,13,14,0,1,2,3,4,5,6,7,8,9,10,11,12,13,14,0,1,2,3,4,5,6,7,8,9,10,11,12,13,14,0,1,2,3,4,5,6,7,8,9,10,11,12,13,14,0,1,2,3,4,5,6,7,8,9,10,11,12,13,14,0,1,2,3,4,5,6,7,8,9,10,11,12,13,14,0,1,2,3,4,5,6,7,8,9,10,11,12,13,14,0,1,2,3,4,5,6,7,8,9,10,11,12,13,14,0,1,2,3,4,5,6,7,8,9,10,11,12,13,14,0,1,2,3,4,5,6,7,8,9,10,11,12,13,14,0,1,2,3,4,5,6,7,8,9,10,11,12,13,14,0,1,2,3,4,5,6,7,8,9,10,11,12,13,14,0,1,2,3,4,5,6,7,8,9,10,11,12,13,14,0,1,2,3,4,5,6,7,8,9,10,11,12,13,14,0,1,2,3,4,5,6,7,8,9,10,11,12,13,14,0,1,2,3,4,5,6,7,8,9,10,11,12,13,14,0,1,2,3,4,5,6,7,8,9,10,11,12,13,14,0,1,2,3,4,5,6,7,8,9,10,11,12,13,14,0,1,2,3,4,5,6,7,8,9,10,11,12,13,14,0,1,2,3,4,5,6,7,8,9,10,11,12,13,14,0,1,2,3,4,5,6,7,8,9,10,11,12,13,14,0,1,2,3,4,5,6,7,8,9,10,11,12,13,14,0,1,2,3,4,5,6,7,8,9,10,11,12,13,14,0,1,2,3,4,5,6,7,8,9,10,11,12,13,14,0,1,2,3,4,5,6,7,8,9,10,11,12,13,14,0,1,2,3,4,5,6,7,8,9,10,11,12,13,14,0,1,2,3,4,5,6,7,8,9,10,11,12,13,14,0,1,2,3,4,5,6,7,8,9,10,11,12,13,14,0,1,2,3,4,5,6,7,8,9,10,11,12,13,14,0,1,2,3,4,5,6,7,8,9,10,11,12,13,14,0,1,2,3,4,5,6,7,8,9,10,11,12,13,14,0,1,2,3,4,5,6,7,8,9,10,11,12,13,14,0,1,2,3,4,5,6,7,8,9,10,11,12,13,14,0,1,2,3,4,5,6,7,8,9,10,11,12,13,14,0,1,2,3,4,5,6,7,8,9,10,11,12,13,14,0,1,2,3,4,5,6,7,8,9,10,11,12,13,14,0,1,2,3,4,5,6,7,8,9,10,11,12,13,14,0,1,2,3,4,5,6,7,8,9,10,11,12,13,14,0,1,2,3,4,5,6,7,8,9,10,11,12,13,14,0,1,2,3,4,5,6,7,8,9,10,11,12,13,14,0,1,2,3,4,5,6,7,8,9,10,11,12,13,14,0,1,2,3,4,5,6,7,8,9,10,11,12,13,14,0,1,2,3,4,5,6,7,8,9,10,11,12,13,14,0,1,2,3,4,5,6,7,8,9,10,11,12,13,14,0,1,2,3,4,5,6,7,8,9,10,11,12,13,14,0,1,2,3,4,5,6,7,8,9,10,11,12,13,14,0,1,2,3,4,5,6,7,8,9,10,11,12,13,14,0,1,2,3,4,5,6,7,8,9,10,11,12,13,14,0,1,2,3,4,5,6,7,8,9,10,11,12,13,14,0,1,2,3,4,5,6,7,8,9,10,11,12,13,14,0,1,2,3,4,5,6,7,8,9,10,11,12,13,14,0,1,2,3,4,5,6,7,8,9,10,11,12,13,14,0,1,2,3,4,5,6,7,8,9,10,11,12,13,14,0,1,2,3,4,5,6,7,8,9,10,11,12,13,14,0,1,2,3,4,5,6,7,8,9,10,11,12,13,14,0,1,2,3,4,5,6,7,8,9,10,11,12,13,14,0,1,2,3,4,5,6,7,8,9,10,11,12,13,14,0,1,2,3,4,5,6,7,8,9,10,11,12,13,14,0,1,2,3,4,5,6,7,8,9,10,11,12,13,14,0,1,2,3,4,5,6,7,8,9,10,11,12,13,14,0,1,2,3,4,5,6,7,8,9,10,11,12,13,14,0,1,2,3,4,5,6,7,8,9,10,11,12,13,14,0,1,2,3,4,5,6,7,8,9,10,11,12,13,14,0,1,2,3,4,5,6,7,8,9,10,11,12,13,14,0,1,2,3,4,5,6,7,8,9,10,11,12,13,14,0,1,2,3,4,5,6,7,8,9,10,11,12,13,14,0,1,2,3,4,5,6,7,8,9,10,11,12,13,14,0,1,2,3,4,5,6,7,8,9,10,11,12,13,14,0,1,2,3,4,5,6,7,8,9,10,11,12,13,14,0,1,2,3,4,5,6,7,8,9,10,11,12,13,14,0,1,2,3,4,5,6,7,8,9,10,11,12,13,14,0,1,2,3,4,5,6,7,8,9,10,11,12,13,14,0,1,2,3,4,5,6,7,8,9,10,11,12,13,14,0,1,2,3,4,5,6,7,8,9,10,11,12,13,14,0,1,2,3,4,5,6,7,8,9,10,11,12,13,14,0,1,2,3,4,5,6,7,8,9,10,11,12,13,14,0,1,2,3,4,5,6,7,8,9,10,11,12,13,14,0,1,2,3,4,5,6,7,8,9,10,11,12,13,14,0,1,2,3,4,5,6,7,8,9,10,11,12,13,14,0,1,2,3,4,5,6,7,8,9,10,11,12,13,14,0,1,2,3,4,5,6,7,8,9,10,11,12,13,14,0,1,2,3,4,5,6,7,8,9,10,11,12,13,14,0,1,2,3,4,5,6,7,8,9,10,11,12,13,14,0,1,2,3,4,5,6,7,8,9,10,11,12,13,14,0,1,2,3,4,5,6,7,8,9,10,11,12,13,14,0,1,2,3,4,5,6,7,8,9,10,11,12,13,14,0,1,2,3,4,5,6,7,8,9,10,11,12,13,14,0,1,2,3,4,5,6,7,8,9,10,11,12,13,14,0,1,2,3,4,5,6,7,8,9,10,11,12,13,14,0,1,2,3,4,5,6,7,8,9,10,11,12,13,14,0,1,2,3,4,5,6,7,8,9,10,11,12,13,14,0,1,2,3,4,5,6,7,8,9,10,11,12,13,14,0,1,2,3,4,5,6,7,8,9,10,11,12,13,14,0,1,2,3,4,5,6,7,8,9,10,11,12,13,14,0,1,2,3,4,5,6,7,8,9,10,11,12,13,14,0,1,2,3,4,5,6,7,8,9,10,11,12,13,14,0,1,2,3,4,5,6,7,8,9,10,11,12,13,14,0,1,2,3,4,5,6,7,8,9,10,11,12,13,14,0,1,2,3,4,5,6,7,8,9,10,11,12,13,14,0,1,2,3,4,5,6,7,8,9,10,11,12,13,14,0,1,2,3,4,5,6,7,8,9,10,11,12,13,14,0,1,2,3,4,5,6,7,8,9,10,11,12,13,14,0,1,2,3,4,5,6,7,8,9,10,11,12,13,14,0,1,2,3,4,5,6,7,8,9,10,11,12,13,14,0,1,2,3,4,5,6,7,8,9,10,11,12,13,14,0,1,2,3,4,5,6,7,8,9,10,11,12,13,14,0,1,2,3,4,5,6,7,8,9,10,11,12,13,14,0,1,2,3,4,5,6,7,8,9,10,11,12,13,14,0,1,2,3,4,5,6,7,8,9,10,11,12,13,14,0,1,2,3,4,5,6,7,8,9,10,11,12,13,14,0,1,2,3,4,5,6,7,8,9,10,11,12,13,14,0,1,2,3,4,5,6,7,8,9,10,11,12,13,14,0,1,2,3,4,5,6,7,8,9,10,11,12,13,14,0,1,2,3,4,5,6,7,8,9,10,11,12,13,14,0,1,2,3,4,5,6,7,8,9,10,11,12,13,14,0,1,2,3,4,5,6,7,8,9,10,11,12,13,14,0,1,2,3,4,5,6,7,8,9,10,11,12,13,14,0,1,2,3,4,5,6,7,8,9,10,11,12,13,14,0,1,2,3,4,5,6,7,8,9,10,11,12,13,14,0,1,2,3,4,5,6,7,8,9,10,11,12,13,14,0,1,2,3,4,5,6,7,8,9,10,11,12,13,14,0,1,2,3,4,5,6,7,8,9,10,11,12,13,14,0,1,2,3,4,5,6,7,8,9,10,11,12,13,14,0,1,2,3,4,5,6,7,8,9,10,11,12,13,14,0,1,2,3,4,5,6,7,8,9,10,11,12,13,14,0,1,2,3,4,5,6,7,8,9,10,11,12,13,14,0,1,2,3,4,5,6,7,8,9,10,11,12,13,14,0,1,2,3,4,5,6,7,8,9,10,11,12,13,14,0,1,2,3,4,5,6,7,8,9,10,11,12,13,14,0,1,2,3,4,5,6,7,8,9,10,11,12,13,14,0,1,2,3,4,5,6,7,8,9,10,11,12,13,14,0,1,2,3,4,5,6,7,8,9,10,11,12,13,14,0,1,2,3,4,5,6,7,8,9,10,11,12,13,14,0,1,2,3,4,5,6,7,8,9,10,11,12,13,14,0,1,2,3,4,5,6,7,8,9,10,11,12,13,14,0,1,2,3,4,5,6,7,8,9,10,11,12,13,14,0,1,2,3,4,5,6,7,8,9,10,11,12,13,14,0,1,2,3,4,5,6,7,8,9,10,11,12,13,14,0,1,2,3,4,5,6,7,8,9,10,11,12,13,14,0,1,2,3,4,5,6,7,8,9,10,11,12,13,14,0,1,2,3,4,5,6,7,8,9,10,11,12,13,14,0,1,2,3,4,5,6,7,8,9,10,11,12,13,14,0,1,2,3,4,5,6,7,8,9,10,11,12,13,14,0,1,2,3,4,5,6,7,8,9,10,11,12,13,14,0,1,2,3,4,5,6,7,8,9,10,11,12,13,14,0,1,2,3,4,5,6,7,8,9,10,11,12,13,14,0,1,2,3,4,5,6,7,8,9,10,11,12,13,14,0,1,2,3,4,5,6,7,8,9,10,11,12,13,14,0,1,2,3,4,5,6,7,8,9,10,11,12,13,14,0,1,2,3,4,5,6,7,8,9,10,11,12,13,14,0,1,2,3,4,5,6,7,8,9,10,11,12,13,14,0,1,2,3,4,5,6,7,8,9,10,11,12,13,14,0,1,2,3,4,5,6,7,8,9,10,11,12,13,14,0,1,2,3,4,5,6,7,8,9,10,11,12,13,14,0,1,2,3,4,5,6,7,8,9,10,11,12,13,14,0,1,2,3,4,5,6,7,8,9,10,11,12,13,14,0,1,2,3,4,5,6,7,8,9,10,11,12,13,14,0,1,2,3,4,5,6,7,8,9,10,11,12,13,14,0,1,2,3,4,5,6,7,8,9,10,11,12,13,14,0,1,2,3,4,5,6,7,8,9,10,11,12,13,14,0,1,2,3,4,5,6,7,8,9,10,11,12,13,14,0,1,2,3,4,5,6,7,8,9,10,11,12,13,14,0,1,2,3,4,5,6,7,8,9,10,11,12,13,14,0,1,2,3,4,5,6,7,8,9,10,11,12,13,14,0,1,2,3,4,5,6,7,8,9,10,11,12,13,14,0,1,2,3,4,5,6,7,8,9,10,11,12,13,14,0,1,2,3,4,5,6,7,8,9,10,11,12,13,14,0,1,2,3,4,5,6,7,8,9,10,11,12,13,14,0,1,2,3,4,5,6,7,8,9,10,11,12,13,14,0,1,2,3,4,5,6,7,8,9,10,11,12,13,14,0,1,2,3,4,5,6,7,8,9,10,11,12,13,14,0,1,2,3,4,5,6,7,8,9,10,11,12,13,14,0,1,2,3,4,5,6,7,8,9,10,11,12,13,14,0,1,2,3,4,5,6,7,8,9,10,11,12,13,14,0,1,2,3,4,5,6,7,8,9,10,11,12,13,14,0,1,2,3,4,5,6,7,8,9,10,11,12,13,14,0,1,2,3,4,5,6,7,8,9,10,11,12,13,14,0,1,2,3,4,5,6,7,8,9,10,11,12,13,14,0,1,2,3,4,5,6,7,8,9,10,11,12,13,14,0,1,2,3,4,5,6,7,8,9,10,11,12,13,14,0,1,2,3,4,5,6,7,8,9,10,11,12,13,14,0,1,2,3,4,5,6,7,8,9,10,11,12,13,14,0,1,2,3,4,5,6,7,8,9,10,11,12,13,14,0,1,2,3,4,5,6,7,8,9,10,11,12,13,14,0,1,2,3,4,5,6,7,8,9,10,11,12,13,14,0,1,2,3,4,5,6,7,8,9,10,11,12,13,14,0,1,2,3,4,5,6,7,8,9,10,11,12,13,14,0,1,2,3,4,5,6,7,8,9,10,11,12,13,14,0,1,2,3,4,5,6,7,8,9,10,11,12,13,14],\"type\":\"volume\"}],                        {\"template\":{\"data\":{\"histogram2dcontour\":[{\"type\":\"histogram2dcontour\",\"colorbar\":{\"outlinewidth\":0,\"ticks\":\"\"},\"colorscale\":[[0.0,\"#0d0887\"],[0.1111111111111111,\"#46039f\"],[0.2222222222222222,\"#7201a8\"],[0.3333333333333333,\"#9c179e\"],[0.4444444444444444,\"#bd3786\"],[0.5555555555555556,\"#d8576b\"],[0.6666666666666666,\"#ed7953\"],[0.7777777777777778,\"#fb9f3a\"],[0.8888888888888888,\"#fdca26\"],[1.0,\"#f0f921\"]]}],\"choropleth\":[{\"type\":\"choropleth\",\"colorbar\":{\"outlinewidth\":0,\"ticks\":\"\"}}],\"histogram2d\":[{\"type\":\"histogram2d\",\"colorbar\":{\"outlinewidth\":0,\"ticks\":\"\"},\"colorscale\":[[0.0,\"#0d0887\"],[0.1111111111111111,\"#46039f\"],[0.2222222222222222,\"#7201a8\"],[0.3333333333333333,\"#9c179e\"],[0.4444444444444444,\"#bd3786\"],[0.5555555555555556,\"#d8576b\"],[0.6666666666666666,\"#ed7953\"],[0.7777777777777778,\"#fb9f3a\"],[0.8888888888888888,\"#fdca26\"],[1.0,\"#f0f921\"]]}],\"heatmap\":[{\"type\":\"heatmap\",\"colorbar\":{\"outlinewidth\":0,\"ticks\":\"\"},\"colorscale\":[[0.0,\"#0d0887\"],[0.1111111111111111,\"#46039f\"],[0.2222222222222222,\"#7201a8\"],[0.3333333333333333,\"#9c179e\"],[0.4444444444444444,\"#bd3786\"],[0.5555555555555556,\"#d8576b\"],[0.6666666666666666,\"#ed7953\"],[0.7777777777777778,\"#fb9f3a\"],[0.8888888888888888,\"#fdca26\"],[1.0,\"#f0f921\"]]}],\"heatmapgl\":[{\"type\":\"heatmapgl\",\"colorbar\":{\"outlinewidth\":0,\"ticks\":\"\"},\"colorscale\":[[0.0,\"#0d0887\"],[0.1111111111111111,\"#46039f\"],[0.2222222222222222,\"#7201a8\"],[0.3333333333333333,\"#9c179e\"],[0.4444444444444444,\"#bd3786\"],[0.5555555555555556,\"#d8576b\"],[0.6666666666666666,\"#ed7953\"],[0.7777777777777778,\"#fb9f3a\"],[0.8888888888888888,\"#fdca26\"],[1.0,\"#f0f921\"]]}],\"contourcarpet\":[{\"type\":\"contourcarpet\",\"colorbar\":{\"outlinewidth\":0,\"ticks\":\"\"}}],\"contour\":[{\"type\":\"contour\",\"colorbar\":{\"outlinewidth\":0,\"ticks\":\"\"},\"colorscale\":[[0.0,\"#0d0887\"],[0.1111111111111111,\"#46039f\"],[0.2222222222222222,\"#7201a8\"],[0.3333333333333333,\"#9c179e\"],[0.4444444444444444,\"#bd3786\"],[0.5555555555555556,\"#d8576b\"],[0.6666666666666666,\"#ed7953\"],[0.7777777777777778,\"#fb9f3a\"],[0.8888888888888888,\"#fdca26\"],[1.0,\"#f0f921\"]]}],\"surface\":[{\"type\":\"surface\",\"colorbar\":{\"outlinewidth\":0,\"ticks\":\"\"},\"colorscale\":[[0.0,\"#0d0887\"],[0.1111111111111111,\"#46039f\"],[0.2222222222222222,\"#7201a8\"],[0.3333333333333333,\"#9c179e\"],[0.4444444444444444,\"#bd3786\"],[0.5555555555555556,\"#d8576b\"],[0.6666666666666666,\"#ed7953\"],[0.7777777777777778,\"#fb9f3a\"],[0.8888888888888888,\"#fdca26\"],[1.0,\"#f0f921\"]]}],\"mesh3d\":[{\"type\":\"mesh3d\",\"colorbar\":{\"outlinewidth\":0,\"ticks\":\"\"}}],\"scatter\":[{\"fillpattern\":{\"fillmode\":\"overlay\",\"size\":10,\"solidity\":0.2},\"type\":\"scatter\"}],\"parcoords\":[{\"type\":\"parcoords\",\"line\":{\"colorbar\":{\"outlinewidth\":0,\"ticks\":\"\"}}}],\"scatterpolargl\":[{\"type\":\"scatterpolargl\",\"marker\":{\"colorbar\":{\"outlinewidth\":0,\"ticks\":\"\"}}}],\"bar\":[{\"error_x\":{\"color\":\"#2a3f5f\"},\"error_y\":{\"color\":\"#2a3f5f\"},\"marker\":{\"line\":{\"color\":\"#E5ECF6\",\"width\":0.5},\"pattern\":{\"fillmode\":\"overlay\",\"size\":10,\"solidity\":0.2}},\"type\":\"bar\"}],\"scattergeo\":[{\"type\":\"scattergeo\",\"marker\":{\"colorbar\":{\"outlinewidth\":0,\"ticks\":\"\"}}}],\"scatterpolar\":[{\"type\":\"scatterpolar\",\"marker\":{\"colorbar\":{\"outlinewidth\":0,\"ticks\":\"\"}}}],\"histogram\":[{\"marker\":{\"pattern\":{\"fillmode\":\"overlay\",\"size\":10,\"solidity\":0.2}},\"type\":\"histogram\"}],\"scattergl\":[{\"type\":\"scattergl\",\"marker\":{\"colorbar\":{\"outlinewidth\":0,\"ticks\":\"\"}}}],\"scatter3d\":[{\"type\":\"scatter3d\",\"line\":{\"colorbar\":{\"outlinewidth\":0,\"ticks\":\"\"}},\"marker\":{\"colorbar\":{\"outlinewidth\":0,\"ticks\":\"\"}}}],\"scattermapbox\":[{\"type\":\"scattermapbox\",\"marker\":{\"colorbar\":{\"outlinewidth\":0,\"ticks\":\"\"}}}],\"scatterternary\":[{\"type\":\"scatterternary\",\"marker\":{\"colorbar\":{\"outlinewidth\":0,\"ticks\":\"\"}}}],\"scattercarpet\":[{\"type\":\"scattercarpet\",\"marker\":{\"colorbar\":{\"outlinewidth\":0,\"ticks\":\"\"}}}],\"carpet\":[{\"aaxis\":{\"endlinecolor\":\"#2a3f5f\",\"gridcolor\":\"white\",\"linecolor\":\"white\",\"minorgridcolor\":\"white\",\"startlinecolor\":\"#2a3f5f\"},\"baxis\":{\"endlinecolor\":\"#2a3f5f\",\"gridcolor\":\"white\",\"linecolor\":\"white\",\"minorgridcolor\":\"white\",\"startlinecolor\":\"#2a3f5f\"},\"type\":\"carpet\"}],\"table\":[{\"cells\":{\"fill\":{\"color\":\"#EBF0F8\"},\"line\":{\"color\":\"white\"}},\"header\":{\"fill\":{\"color\":\"#C8D4E3\"},\"line\":{\"color\":\"white\"}},\"type\":\"table\"}],\"barpolar\":[{\"marker\":{\"line\":{\"color\":\"#E5ECF6\",\"width\":0.5},\"pattern\":{\"fillmode\":\"overlay\",\"size\":10,\"solidity\":0.2}},\"type\":\"barpolar\"}],\"pie\":[{\"automargin\":true,\"type\":\"pie\"}]},\"layout\":{\"autotypenumbers\":\"strict\",\"colorway\":[\"#636efa\",\"#EF553B\",\"#00cc96\",\"#ab63fa\",\"#FFA15A\",\"#19d3f3\",\"#FF6692\",\"#B6E880\",\"#FF97FF\",\"#FECB52\"],\"font\":{\"color\":\"#2a3f5f\"},\"hovermode\":\"closest\",\"hoverlabel\":{\"align\":\"left\"},\"paper_bgcolor\":\"white\",\"plot_bgcolor\":\"#E5ECF6\",\"polar\":{\"bgcolor\":\"#E5ECF6\",\"angularaxis\":{\"gridcolor\":\"white\",\"linecolor\":\"white\",\"ticks\":\"\"},\"radialaxis\":{\"gridcolor\":\"white\",\"linecolor\":\"white\",\"ticks\":\"\"}},\"ternary\":{\"bgcolor\":\"#E5ECF6\",\"aaxis\":{\"gridcolor\":\"white\",\"linecolor\":\"white\",\"ticks\":\"\"},\"baxis\":{\"gridcolor\":\"white\",\"linecolor\":\"white\",\"ticks\":\"\"},\"caxis\":{\"gridcolor\":\"white\",\"linecolor\":\"white\",\"ticks\":\"\"}},\"coloraxis\":{\"colorbar\":{\"outlinewidth\":0,\"ticks\":\"\"}},\"colorscale\":{\"sequential\":[[0.0,\"#0d0887\"],[0.1111111111111111,\"#46039f\"],[0.2222222222222222,\"#7201a8\"],[0.3333333333333333,\"#9c179e\"],[0.4444444444444444,\"#bd3786\"],[0.5555555555555556,\"#d8576b\"],[0.6666666666666666,\"#ed7953\"],[0.7777777777777778,\"#fb9f3a\"],[0.8888888888888888,\"#fdca26\"],[1.0,\"#f0f921\"]],\"sequentialminus\":[[0.0,\"#0d0887\"],[0.1111111111111111,\"#46039f\"],[0.2222222222222222,\"#7201a8\"],[0.3333333333333333,\"#9c179e\"],[0.4444444444444444,\"#bd3786\"],[0.5555555555555556,\"#d8576b\"],[0.6666666666666666,\"#ed7953\"],[0.7777777777777778,\"#fb9f3a\"],[0.8888888888888888,\"#fdca26\"],[1.0,\"#f0f921\"]],\"diverging\":[[0,\"#8e0152\"],[0.1,\"#c51b7d\"],[0.2,\"#de77ae\"],[0.3,\"#f1b6da\"],[0.4,\"#fde0ef\"],[0.5,\"#f7f7f7\"],[0.6,\"#e6f5d0\"],[0.7,\"#b8e186\"],[0.8,\"#7fbc41\"],[0.9,\"#4d9221\"],[1,\"#276419\"]]},\"xaxis\":{\"gridcolor\":\"white\",\"linecolor\":\"white\",\"ticks\":\"\",\"title\":{\"standoff\":15},\"zerolinecolor\":\"white\",\"automargin\":true,\"zerolinewidth\":2},\"yaxis\":{\"gridcolor\":\"white\",\"linecolor\":\"white\",\"ticks\":\"\",\"title\":{\"standoff\":15},\"zerolinecolor\":\"white\",\"automargin\":true,\"zerolinewidth\":2},\"scene\":{\"xaxis\":{\"backgroundcolor\":\"#E5ECF6\",\"gridcolor\":\"white\",\"linecolor\":\"white\",\"showbackground\":true,\"ticks\":\"\",\"zerolinecolor\":\"white\",\"gridwidth\":2},\"yaxis\":{\"backgroundcolor\":\"#E5ECF6\",\"gridcolor\":\"white\",\"linecolor\":\"white\",\"showbackground\":true,\"ticks\":\"\",\"zerolinecolor\":\"white\",\"gridwidth\":2},\"zaxis\":{\"backgroundcolor\":\"#E5ECF6\",\"gridcolor\":\"white\",\"linecolor\":\"white\",\"showbackground\":true,\"ticks\":\"\",\"zerolinecolor\":\"white\",\"gridwidth\":2}},\"shapedefaults\":{\"line\":{\"color\":\"#2a3f5f\"}},\"annotationdefaults\":{\"arrowcolor\":\"#2a3f5f\",\"arrowhead\":0,\"arrowwidth\":1},\"geo\":{\"bgcolor\":\"white\",\"landcolor\":\"#E5ECF6\",\"subunitcolor\":\"white\",\"showland\":true,\"showlakes\":true,\"lakecolor\":\"white\"},\"title\":{\"x\":0.05},\"mapbox\":{\"style\":\"light\"}}},\"scene\":{\"xaxis\":{\"title\":{\"text\":\"X axis\"}},\"yaxis\":{\"title\":{\"text\":\"Y axis\"}},\"zaxis\":{\"title\":{\"text\":\"Z axis\"}}},\"title\":{\"text\":\"3D Volume Plot\"}},                        {\"responsive\": true}                    ).then(function(){\n",
              "                            \n",
              "var gd = document.getElementById('d169a4ee-b9de-4c22-9a2c-0c39dc56037f');\n",
              "var x = new MutationObserver(function (mutations, observer) {{\n",
              "        var display = window.getComputedStyle(gd).display;\n",
              "        if (!display || display === 'none') {{\n",
              "            console.log([gd, 'removed!']);\n",
              "            Plotly.purge(gd);\n",
              "            observer.disconnect();\n",
              "        }}\n",
              "}});\n",
              "\n",
              "// Listen for the removal of the full notebook cells\n",
              "var notebookContainer = gd.closest('#notebook-container');\n",
              "if (notebookContainer) {{\n",
              "    x.observe(notebookContainer, {childList: true});\n",
              "}}\n",
              "\n",
              "// Listen for the clearing of the current output cell\n",
              "var outputEl = gd.closest('.output');\n",
              "if (outputEl) {{\n",
              "    x.observe(outputEl, {childList: true});\n",
              "}}\n",
              "\n",
              "                        })                };                            </script>        </div>\n",
              "</body>\n",
              "</html>"
            ]
          },
          "metadata": {}
        }
      ]
    },
    {
      "cell_type": "markdown",
      "source": [
        "Generate stress-strain curve"
      ],
      "metadata": {
        "id": "Uty5cT6-DDRw"
      }
    },
    {
      "cell_type": "code",
      "source": [
        "%%time\n",
        "# Note we are using very loose k-point mesh for the tutorial, for production might need more\n",
        "# All results so far at 0 K temperature\n",
        "# Let's vary strain from 0 to 0.5 at interval of 0.05\n",
        "from tqdm import tqdm\n",
        "import numpy as np\n",
        "from ase import units\n",
        "j_atoms = ase_to_atoms(aluminum)\n",
        "strains = np.arange(0, 0.5, 0.05)\n",
        "stresses = []\n",
        "for i in tqdm(strains):\n",
        "    stress=[[i,0,0],[0,0,0],[0,0,0]]\n",
        "    atoms=j_atoms.strain_atoms(stress).ase_converter()\n",
        "    atoms.calc=calc\n",
        "    final_stress = atoms.get_stress()\n",
        "    print(i,final_stress[0])\n",
        "    # eV/Ang^3 to Giga Pascal\n",
        "    stresses.append(final_stress[0]/units.GPa)\n",
        "\n",
        "\n"
      ],
      "metadata": {
        "colab": {
          "base_uri": "https://localhost:8080/"
        },
        "id": "jhXK2zt2omml",
        "outputId": "38163d0b-7f15-4b07-8ced-a19b9c230ad7"
      },
      "execution_count": 19,
      "outputs": [
        {
          "output_type": "stream",
          "name": "stderr",
          "text": [
            "\r  0%|          | 0/10 [00:00<?, ?it/s]/usr/local/lib/python3.11/dist-packages/gpaw/utilities/gpts.py:44: UserWarning:\n",
            "\n",
            "Initial realspace grid (15,16,16) inconsistent with symmetries.\n",
            "\n",
            "/usr/local/lib/python3.11/dist-packages/gpaw/utilities/gpts.py:71: UserWarning:\n",
            "\n",
            "Using symmetrized grid: (16,16,16).\n",
            "\n",
            "\n"
          ]
        },
        {
          "output_type": "stream",
          "name": "stdout",
          "text": [
            "0.0 -1.786177719197751e-05\n"
          ]
        },
        {
          "output_type": "stream",
          "name": "stderr",
          "text": [
            "\r 20%|██        | 2/10 [00:10<00:40,  5.12s/it]"
          ]
        },
        {
          "output_type": "stream",
          "name": "stdout",
          "text": [
            "0.05 0.027585256962103368\n"
          ]
        },
        {
          "output_type": "stream",
          "name": "stderr",
          "text": [
            "\r 30%|███       | 3/10 [00:18<00:44,  6.36s/it]"
          ]
        },
        {
          "output_type": "stream",
          "name": "stdout",
          "text": [
            "0.1 0.0428348450293225\n"
          ]
        },
        {
          "output_type": "stream",
          "name": "stderr",
          "text": [
            "\r 40%|████      | 4/10 [00:27<00:43,  7.27s/it]"
          ]
        },
        {
          "output_type": "stream",
          "name": "stdout",
          "text": [
            "0.15000000000000002 0.05753605738161544\n"
          ]
        },
        {
          "output_type": "stream",
          "name": "stderr",
          "text": [
            "/usr/local/lib/python3.11/dist-packages/gpaw/utilities/gpts.py:44: UserWarning:\n",
            "\n",
            "Initial realspace grid (15,18,18) inconsistent with symmetries.\n",
            "\n",
            "/usr/local/lib/python3.11/dist-packages/gpaw/utilities/gpts.py:71: UserWarning:\n",
            "\n",
            "Using symmetrized grid: (18,18,18).\n",
            "\n",
            "\n",
            " 50%|█████     | 5/10 [00:37<00:42,  8.47s/it]"
          ]
        },
        {
          "output_type": "stream",
          "name": "stdout",
          "text": [
            "0.2 0.07003174896289208\n"
          ]
        },
        {
          "output_type": "stream",
          "name": "stderr",
          "text": [
            "\r 60%|██████    | 6/10 [00:47<00:35,  8.86s/it]"
          ]
        },
        {
          "output_type": "stream",
          "name": "stdout",
          "text": [
            "0.25 0.06699451964951686\n"
          ]
        },
        {
          "output_type": "stream",
          "name": "stderr",
          "text": [
            "\r 70%|███████   | 7/10 [00:58<00:28,  9.48s/it]"
          ]
        },
        {
          "output_type": "stream",
          "name": "stdout",
          "text": [
            "0.30000000000000004 0.07606267083591908\n"
          ]
        },
        {
          "output_type": "stream",
          "name": "stderr",
          "text": [
            "\r 80%|████████  | 8/10 [01:12<00:22, 11.01s/it]"
          ]
        },
        {
          "output_type": "stream",
          "name": "stdout",
          "text": [
            "0.35000000000000003 0.07968526798563669\n"
          ]
        },
        {
          "output_type": "stream",
          "name": "stderr",
          "text": [
            "\r 90%|█████████ | 9/10 [01:27<00:12, 12.20s/it]"
          ]
        },
        {
          "output_type": "stream",
          "name": "stdout",
          "text": [
            "0.4 0.07732250421683057\n"
          ]
        },
        {
          "output_type": "stream",
          "name": "stderr",
          "text": [
            "/usr/local/lib/python3.11/dist-packages/gpaw/utilities/gpts.py:44: UserWarning:\n",
            "\n",
            "Initial realspace grid (15,20,20) inconsistent with symmetries.\n",
            "\n",
            "/usr/local/lib/python3.11/dist-packages/gpaw/utilities/gpts.py:71: UserWarning:\n",
            "\n",
            "Using symmetrized grid: (20,20,20).\n",
            "\n",
            "\n",
            "100%|██████████| 10/10 [01:39<00:00,  9.94s/it]"
          ]
        },
        {
          "output_type": "stream",
          "name": "stdout",
          "text": [
            "0.45 0.07301850062777003\n",
            "CPU times: user 1min 37s, sys: 14 s, total: 1min 51s\n",
            "Wall time: 1min 39s\n"
          ]
        },
        {
          "output_type": "stream",
          "name": "stderr",
          "text": [
            "\n"
          ]
        }
      ]
    },
    {
      "cell_type": "code",
      "source": [
        "import matplotlib.pyplot as plt\n",
        "%matplotlib inline\n",
        "plt.plot(strains,stresses,'-o')\n",
        "plt.xlabel('Strain (unitless)')\n",
        "plt.ylabel('Stress (GPa)')"
      ],
      "metadata": {
        "colab": {
          "base_uri": "https://localhost:8080/",
          "height": 466
        },
        "id": "bmPrF0CFomkK",
        "outputId": "67fe8ca6-0094-4fdb-fb2f-4ad95fe2670c"
      },
      "execution_count": null,
      "outputs": [
        {
          "output_type": "execute_result",
          "data": {
            "text/plain": [
              "Text(0, 0.5, 'Stress (GPa)')"
            ]
          },
          "metadata": {},
          "execution_count": 19
        },
        {
          "output_type": "display_data",
          "data": {
            "text/plain": [
              "<Figure size 640x480 with 1 Axes>"
            ],
            "image/png": "[encoded data removed]"
          },
          "metadata": {}
        }
      ]
    },
    {
      "cell_type": "markdown",
      "source": [
        "Get C11 elastic constant by getting slope of the curve in elastic regime"
      ],
      "metadata": {
        "id": "9X7UPnltFQ1W"
      }
    },
    {
      "cell_type": "code",
      "source": [
        "C11 = (stresses[1]-stresses[0])/(strains[1]-strains[0])\n",
        "print( 'C11', C11, 'GPa')"
      ],
      "metadata": {
        "colab": {
          "base_uri": "https://localhost:8080/"
        },
        "id": "MC9T3OSEqrfC",
        "outputId": "f814543c-4ff7-4782-bf3e-5c20d87f5472"
      },
      "execution_count": null,
      "outputs": [
        {
          "output_type": "stream",
          "name": "stdout",
          "text": [
            "C11 88.45014301051074 GPa\n"
          ]
        }
      ]
    },
    {
      "cell_type": "markdown",
      "source": [
        "Get bulk modulus using volumetrix expansion and contraction and fitting [Equation Of State](https://wiki.fysik.dtu.dk/ase/ase/eos.html) with BirchMurnaghan equation"
      ],
      "metadata": {
        "id": "nLm4MgXZFVTH"
      }
    },
    {
      "cell_type": "code",
      "source": [
        "%%time\n",
        "import numpy as np\n",
        "from ase.eos import calculate_eos\n",
        "from ase.units import kJ\n",
        "dx=np.arange(-0.05, 0.05, 0.01)\n",
        "eos = calculate_eos(aluminum)\n",
        "v, e, B = eos.fit()\n",
        "\n",
        "kv = B / kJ * 1.0e24\n",
        "print('Kv (GPa)',kv)\n"
      ],
      "metadata": {
        "colab": {
          "base_uri": "https://localhost:8080/"
        },
        "id": "99iFWi248-As",
        "outputId": "f7ef9a46-4f36-4c37-d9f8-d5ea8eb662b2"
      },
      "execution_count": null,
      "outputs": [
        {
          "output_type": "stream",
          "name": "stdout",
          "text": [
            "Kv (GPa) 79.81092410300906\n",
            "CPU times: user 28.3 s, sys: 10.9 s, total: 39.3 s\n",
            "Wall time: 31.6 s\n"
          ]
        }
      ]
    },
    {
      "cell_type": "markdown",
      "source": [
        "Plot equation of states"
      ],
      "metadata": {
        "id": "uOaIg1PQZvhn"
      }
    },
    {
      "cell_type": "code",
      "source": [
        "eos.plot()"
      ],
      "metadata": {
        "colab": {
          "base_uri": "https://localhost:8080/",
          "height": 500
        },
        "id": "wWNHa4VV9cBF",
        "outputId": "19ce02e5-864d-49fa-bd16-a7c5fa35cd63"
      },
      "execution_count": null,
      "outputs": [
        {
          "output_type": "execute_result",
          "data": {
            "text/plain": [
              "<Axes: title={'center': 'sj: E: -3.730 eV, V: 16.511 Å$^3$, B: 79.811 GPa'}, xlabel='volume [Å$^3$]', ylabel='energy [eV]'>"
            ]
          },
          "metadata": {},
          "execution_count": 23
        },
        {
          "output_type": "display_data",
          "data": {
            "text/plain": [
              "<Figure size 640x480 with 1 Axes>"
            ],
            "image/png": "[encoded data removed]"
          },
          "metadata": {}
        }
      ]
    },
    {
      "cell_type": "markdown",
      "source": [
        "Exercise: calculate electron density of states, band structure, C11, and bulk modulus for Silicon"
      ],
      "metadata": {
        "id": "tjSDolmCoPD7"
      }
    },
    {
      "cell_type": "code",
      "source": [],
      "metadata": {
        "id": "LodRPjsAqrMI"
      },
      "execution_count": null,
      "outputs": []
    },
    {
      "cell_type": "code",
      "source": [],
      "metadata": {
        "id": "hdrTcOiLqrKA"
      },
      "execution_count": null,
      "outputs": []
    },
    {
      "cell_type": "code",
      "source": [],
      "metadata": {
        "id": "-eBzyuj4nsMH"
      },
      "execution_count": null,
      "outputs": []
    },
    {
      "cell_type": "code",
      "source": [],
      "metadata": {
        "id": "DtDmzYVtnsJr"
      },
      "execution_count": null,
      "outputs": []
    },
    {
      "cell_type": "code",
      "source": [],
      "metadata": {
        "id": "ixSztsL8nsG_"
      },
      "execution_count": null,
      "outputs": []
    },
    {
      "cell_type": "code",
      "source": [],
      "metadata": {
        "id": "gF2YrDkBnsEF"
      },
      "execution_count": null,
      "outputs": []
    },
    {
      "cell_type": "markdown",
      "source": [
        "Single point calculation"
      ],
      "metadata": {
        "id": "x2qagbTszyhU"
      }
    },
    {
      "cell_type": "code",
      "source": [
        "%%time\n",
        "# Sample calculation from https://wiki.fysik.dtu.dk/gpaw/tutorialsexercises/structureoptimization/aluminium/aluminium.html\n",
        "from ase import Atoms\n",
        "from ase.visualize import view\n",
        "from gpaw import GPAW, PW\n",
        "\n",
        "name = 'Al-fcc'\n",
        "a = 4.05  # fcc lattice parameter\n",
        "b = a / 2\n",
        "\n",
        "bulk = Atoms('Al',\n",
        "             cell=[[0, b, b],\n",
        "                   [b, 0, b],\n",
        "                   [b, b, 0]],\n",
        "             pbc=True)\n",
        "\n",
        "view(bulk)\n",
        "\n",
        "k = 4\n",
        "calc = GPAW(mode=PW(300),       # cutoff\n",
        "            kpts=(k, k, k),     # k-points\n",
        "            txt=name + '.txt')  # output file\n",
        "\n",
        "bulk.calc = calc\n",
        "\n",
        "energy = bulk.get_potential_energy()\n",
        "calc.write(name + '.gpw')\n",
        "print('Energy:', energy, 'eV')"
      ],
      "metadata": {
        "colab": {
          "base_uri": "https://localhost:8080/"
        },
        "id": "T-Tq-uEXM74h",
        "outputId": "ffcda5a2-f2e4-4d4f-f50b-ca2bc80f4137"
      },
      "execution_count": null,
      "outputs": [
        {
          "output_type": "stream",
          "name": "stdout",
          "text": [
            "Energy: -4.122151616078063 eV\n",
            "CPU times: user 2.33 s, sys: 1.41 s, total: 3.75 s\n",
            "Wall time: 2.76 s\n"
          ]
        }
      ]
    },
    {
      "cell_type": "markdown",
      "source": [
        "Geometry optimization"
      ],
      "metadata": {
        "id": "qtOP9h6Gz1g-"
      }
    },
    {
      "cell_type": "code",
      "source": [
        "from ase import Atoms\n",
        "from ase.build import bulk\n",
        "from ase.io import write\n",
        "from ase.units import GPa\n",
        "from gpaw import GPAW, PW\n",
        "from ase.optimize import BFGS\n",
        "from ase.constraints import UnitCellFilter\n",
        "from ase.eos import EquationOfState\n",
        "from jarvis.core.atoms import ase_to_atoms\n",
        "# Set up bulk aluminum\n",
        "aluminum = bulk('Al', 'fcc', a=4.05)\n",
        "print('Init',ase_to_atoms(aluminum))\n",
        "# GPAW calculator setup\n",
        "calc = GPAW(mode=PW(500),  # Plane wave cutoff\n",
        "            xc='PBE',      # Exchange-correlation functional\n",
        "            kpts=(6, 6, 6), # k-points\n",
        "            convergence={'energy': 1e-6, 'density': 1e-4, 'eigenstates': 1e-8},\n",
        "            txt='aluminum_gpaw.txt')\n",
        "\n",
        "aluminum.set_calculator(calc)\n",
        "\n",
        "# Relax the structure\n",
        "uf = UnitCellFilter(aluminum)\n",
        "opt = BFGS(uf)\n",
        "opt.run(fmax=0.01)\n",
        "\n",
        "print('Final',ase_to_atoms(aluminum))\n"
      ],
      "metadata": {
        "colab": {
          "base_uri": "https://localhost:8080/"
        },
        "id": "L8RhU3rRxgMQ",
        "outputId": "a7c789f2-05f8-44d8-af10-c112f22ef719"
      },
      "execution_count": null,
      "outputs": [
        {
          "output_type": "stream",
          "name": "stdout",
          "text": [
            "Init System\n",
            "1.0\n",
            "0.0 2.025 2.025\n",
            "2.025 0.0 2.025\n",
            "2.025 2.025 0.0\n",
            "Al \n",
            "1 \n",
            "direct\n",
            "0.0 0.0 0.0 Al\n",
            "\n",
            "      Step     Time          Energy         fmax\n",
            "BFGS:    0 16:10:30       -3.730177        0.0436\n",
            "BFGS:    1 16:10:36       -3.730252        0.0285\n",
            "BFGS:    2 16:10:41       -3.730316        0.0003\n",
            "Final System\n",
            "1.0\n",
            "-1.1382799519927317e-17 2.021351446312309 2.0213514463123086\n",
            "2.021351446312309 -1.9507955268131013e-18 2.021351446312309\n",
            "2.021351446312309 2.021351446312309 -1.8036985343423936e-17\n",
            "Al \n",
            "1 \n",
            "direct\n",
            "-6.81137054404624e-20 6.237049310841029e-20 -6.237049310841048e-20 Al\n",
            "\n"
          ]
        }
      ]
    },
    {
      "cell_type": "code",
      "source": [
        "from jarvis.db.figshare import get_jid_data\n",
        "from jarvis.core.atoms import Atoms\n",
        "from jarvis.core.kpoints import Kpoints3D\n",
        "jid = 'JVASP-816'\n",
        "dat = get_jid_data(jid=jid,dataset='dft_3d')\n",
        "atoms = Atoms.from_dict(dat['atoms'])\n",
        "atoms = atoms.get_conventional_atoms\n",
        "ase_atoms = (atoms.get_conventional_atoms).ase_converter()\n",
        "kp = Kpoints3D().automatic_length_mesh(\n",
        "    #lattice_mat=atoms.lattice_mat,\n",
        "    #length=10\n",
        "    lattice_mat=atoms.lattice_mat, length=dat[\"kpoint_length_unit\"]\n",
        ")\n",
        "kpts = kp._kpoints[0]\n",
        "\n"
      ],
      "metadata": {
        "colab": {
          "base_uri": "https://localhost:8080/"
        },
        "id": "lX59_dT9Uq1t",
        "outputId": "e49718ab-86c1-4cfe-e615-e2d0967e1f98"
      },
      "execution_count": null,
      "outputs": [
        {
          "output_type": "stream",
          "name": "stdout",
          "text": [
            "Obtaining 3D dataset 76k ...\n",
            "Reference:https://www.nature.com/articles/s41524-020-00440-1\n",
            "Other versions:https://doi.org/10.6084/m9.figshare.6815699\n"
          ]
        },
        {
          "output_type": "stream",
          "name": "stderr",
          "text": [
            "100%|██████████| 40.8M/40.8M [00:02<00:00, 18.0MiB/s]\n"
          ]
        },
        {
          "output_type": "stream",
          "name": "stdout",
          "text": [
            "Loading the zipfile...\n",
            "Loading completed.\n"
          ]
        }
      ]
    },
    {
      "cell_type": "code",
      "source": [
        "kpts"
      ],
      "metadata": {
        "colab": {
          "base_uri": "https://localhost:8080/"
        },
        "id": "vE6L6NNQVQX_",
        "outputId": "526c9b53-6652-486d-f900-6d1d9c0f9f62"
      },
      "execution_count": null,
      "outputs": [
        {
          "output_type": "execute_result",
          "data": {
            "text/plain": [
              "[17, 17, 17]"
            ]
          },
          "metadata": {},
          "execution_count": 6
        }
      ]
    },
    {
      "cell_type": "code",
      "source": [
        "ase_atoms"
      ],
      "metadata": {
        "colab": {
          "base_uri": "https://localhost:8080/"
        },
        "id": "3QSdd1iEWoEa",
        "outputId": "0f993440-7dd2-4191-c764-04e86e9e0b90"
      },
      "execution_count": null,
      "outputs": [
        {
          "output_type": "execute_result",
          "data": {
            "text/plain": [
              "Atoms(symbols='Al4', pbc=True, cell=[4.06741, 4.06741, 4.06741])"
            ]
          },
          "metadata": {},
          "execution_count": 9
        }
      ]
    },
    {
      "cell_type": "code",
      "source": [
        "%%time\n",
        "# Sample calculation from https://wiki.fysik.dtu.dk/gpaw/tutorialsexercises/structureoptimization/aluminium/aluminium.html\n",
        "from ase import Atoms\n",
        "from ase.visualize import view\n",
        "from gpaw import GPAW, PW\n",
        "\n",
        "\n",
        "\n",
        "calc = GPAW(mode=PW(500),       # cutoff\n",
        "            kpts=kpts,     # k-points\n",
        "            txt=name + '.txt')  # output file\n",
        "\n",
        "ase_atoms.calc = calc\n",
        "\n",
        "energy = ase_atoms.get_potential_energy()\n",
        "#calc.write(name + '.gpw')\n",
        "print('Energy:', energy, 'eV')"
      ],
      "metadata": {
        "colab": {
          "base_uri": "https://localhost:8080/"
        },
        "id": "d8VbDyKxVUN1",
        "outputId": "ad0dc9a4-30ac-4408-8dc7-3b1f8a83918b"
      },
      "execution_count": null,
      "outputs": [
        {
          "output_type": "stream",
          "name": "stdout",
          "text": [
            "Energy: -16.655990977511557 eV\n",
            "CPU times: user 2min 25s, sys: 1min 32s, total: 3min 58s\n",
            "Wall time: 2min 56s\n"
          ]
        }
      ]
    },
    {
      "cell_type": "code",
      "source": [
        "%%time\n",
        "import numpy as np\n",
        "from ase.eos import calculate_eos\n",
        "dx=np.arange(-0.05, 0.05, 0.01)\n",
        "eos = calculate_eos(ase_atoms)\n",
        "v, e, B = eos.fit()\n"
      ],
      "metadata": {
        "id": "mK3UCNpiVULV"
      },
      "execution_count": null,
      "outputs": []
    },
    {
      "cell_type": "code",
      "source": [
        "from ase.units import kJ\n",
        "kv = B / kJ * 1.0e24\n",
        "kv"
      ],
      "metadata": {
        "colab": {
          "base_uri": "https://localhost:8080/"
        },
        "id": "qYu0Lh7LVUI0",
        "outputId": "78014d51-871f-4484-8fdc-f55f6e6c8cb5"
      },
      "execution_count": null,
      "outputs": [
        {
          "output_type": "execute_result",
          "data": {
            "text/plain": [
              "83.74848683933646"
            ]
          },
          "metadata": {},
          "execution_count": 12
        }
      ]
    },
    {
      "cell_type": "markdown",
      "source": [
        "# 3. Calculation of electronic band structure for Silicon"
      ],
      "metadata": {
        "id": "Dt3KbFtGu1JM"
      }
    },
    {
      "cell_type": "code",
      "source": [
        "from ase.build import bulk\n",
        "from gpaw import GPAW, PW, FermiDirac\n",
        "\n",
        "# Perform standard ground state calculation (with plane wave basis)\n",
        "si = bulk('Si', 'diamond', 5.43)\n",
        "calc = GPAW(mode=PW(200),\n",
        "            xc='PBE',\n",
        "            kpts=(8, 8, 8),\n",
        "            random=True,  # random guess (needed if many empty bands required)\n",
        "            occupations=FermiDirac(0.01),\n",
        "            txt='Si_gs.txt')\n",
        "si.calc = calc\n",
        "si.get_potential_energy()\n",
        "ef = calc.get_fermi_level()\n",
        "calc.write('Si_gs.gpw')"
      ],
      "metadata": {
        "id": "EjGLEbbBuvKT"
      },
      "execution_count": null,
      "outputs": []
    },
    {
      "cell_type": "code",
      "source": [
        "# Restart from ground state and fix potential:\n",
        "calc = GPAW('Si_gs.gpw').fixed_density(\n",
        "    nbands=16,\n",
        "    symmetry='off',\n",
        "    kpts={'path': 'GXWKL', 'npoints': 60},\n",
        "    convergence={'bands': 8})"
      ],
      "metadata": {
        "colab": {
          "base_uri": "https://localhost:8080/"
        },
        "id": "sz3cn_Qfu5s2",
        "outputId": "c147ecfd-d44b-46fb-9029-99c2396ec2a4"
      },
      "execution_count": null,
      "outputs": [
        {
          "output_type": "stream",
          "name": "stdout",
          "text": [
            "\n",
            "  ___ ___ ___ _ _ _  \n",
            " |   |   |_  | | | | \n",
            " | | | | | . | | | | \n",
            " |__ |  _|___|_____|  23.6.1\n",
            " |___|_|             \n",
            "\n",
            "User:   ???@e91e90618716\n",
            "Date:   Wed Aug  2 19:31:15 2023\n",
            "Arch:   x86_64\n",
            "Pid:    176\n",
            "CWD:    /content\n",
            "Python: 3.10.12\n",
            "gpaw:   /usr/local/lib/python3.10/dist-packages/gpaw\n",
            "_gpaw:  /usr/local/lib/python3.10/dist-packages/\n",
            "        _gpaw.cpython-310-x86_64-linux-gnu.so\n",
            "ase:    /usr/local/lib/python3.10/dist-packages/ase (version 3.22.1)\n",
            "numpy:  /usr/local/lib/python3.10/dist-packages/numpy (version 1.22.4)\n",
            "scipy:  /usr/local/lib/python3.10/dist-packages/scipy (version 1.10.1)\n",
            "libxc:  5.1.7\n",
            "units:  Angstrom and eV\n",
            "cores: 1\n",
            "OpenMP: False\n",
            "OMP_NUM_THREADS: 1\n",
            "\n",
            "Input parameters:\n",
            "  convergence: {bands: 8}\n",
            "  gpts: [14 14 14]\n",
            "  kpts: {npoints: 60,\n",
            "         path: GXWKL}\n",
            "  mode: {ecut: 200.0,\n",
            "         name: pw}\n",
            "  nbands: 16\n",
            "  occupations: {name: fermi-dirac,\n",
            "                width: 0.01}\n",
            "  random: True\n",
            "  symmetry: off\n",
            "  xc: PBE\n",
            "\n",
            "Initialize ...\n",
            "\n",
            "species:\n",
            "  Si:\n",
            "    name: Silicon\n",
            "    id: ee77bee481871cc2cb65ac61239ccafa\n",
            "    Z: 14.0\n",
            "    valence: 4\n",
            "    core: 10\n",
            "    charge: 0.0\n",
            "    file: /usr/share/gpaw-setups/Si.PBE.gz\n",
            "    compensation charges: {type: gauss,\n",
            "                           rc: 0.33,\n",
            "                           lmax: 2}\n",
            "    cutoffs: {filter: 1.86,\n",
            "              core: 2.06}\n",
            "    valence states:\n",
            "      #              energy  rcut\n",
            "      - 3s(2.00)   -10.812   1.058\n",
            "      - 3p(2.00)    -4.081   1.058\n",
            "      -  s          16.399   1.058\n",
            "      -  p          23.130   1.058\n",
            "      -  d           0.000   1.058\n",
            "  \n",
            "    # Using partial waves for Si as LCAO basis\n",
            "\n",
            "Reference energy: -15772.688500  # eV\n",
            "\n",
            "Spin-paired calculation\n",
            "\n",
            "Convergence criteria:\n",
            " Maximum [total energy] change in last 3 cyles: 0.0005 eV / valence electron\n",
            " Maximum integral of absolute [dens]ity change: 0.0001 electrons / valence electron\n",
            " Maximum integral of absolute [eigenst]ate change: 4e-08 eV^2 / valence electron\n",
            " Maximum number of scf [iter]ations: 333\n",
            " (Square brackets indicate name in SCF output, whereas a 'c' in\n",
            " the SCF output indicates the quantity has converged.)\n",
            "\n",
            "Symmetries present (total): 1\n",
            "\n",
            "  ( 1  0  0)\n",
            "  ( 0  1  0)\n",
            "  ( 0  0  1)\n",
            "\n",
            "60 k-points\n",
            "60 k-points in the irreducible part of the Brillouin zone\n",
            "       k-points in crystal coordinates                weights\n",
            "   0:     0.00000000    0.00000000    0.00000000       0.01666667\n",
            "   1:     0.02173913    0.00000000    0.02173913       0.01666667\n",
            "   2:     0.04347826    0.00000000    0.04347826       0.01666667\n",
            "   3:     0.06521739    0.00000000    0.06521739       0.01666667\n",
            "   4:     0.08695652    0.00000000    0.08695652       0.01666667\n",
            "   5:     0.10869565    0.00000000    0.10869565       0.01666667\n",
            "   6:     0.13043478    0.00000000    0.13043478       0.01666667\n",
            "   7:     0.15217391    0.00000000    0.15217391       0.01666667\n",
            "   8:     0.17391304    0.00000000    0.17391304       0.01666667\n",
            "   9:     0.19565217    0.00000000    0.19565217       0.01666667\n",
            "          ...\n",
            "  59:     0.50000000    0.50000000    0.50000000       0.01666667\n",
            "\n",
            "Wave functions: Plane wave expansion\n",
            "  Cutoff energy: 200.000 eV\n",
            "  Number of coefficients (min, max): 246, 267\n",
            "  Pulay-stress correction: 0.000000 eV/Ang^3 (de/decut=0.000000)\n",
            "  Using Numpy's FFT\n",
            "  ScaLapack parameters: grid=1x1, blocksize=None\n",
            "  Wavefunction extrapolation:\n",
            "    Improved wavefunction reuse through dual PAW basis \n",
            "\n",
            "Occupation numbers: Fermi-Dirac:\n",
            "  width: 0.0100  # eV\n",
            " \n",
            "\n",
            "Eigensolver\n",
            "   Davidson(niter=2) \n",
            "\n",
            "Densities:\n",
            "  Coarse grid: 14*14*14 grid\n",
            "  Fine grid: 28*28*28 grid\n",
            "  Total Charge: 0.000000 \n",
            "\n",
            "Density mixing:\n",
            "  Method: separate\n",
            "  Backend: pulay\n",
            "  Linear mixing parameter: 0.05\n",
            "  old densities: 5\n",
            "  Damping of long wavelength oscillations: 50 \n",
            "\n",
            "Hamiltonian:\n",
            "  XC and Coulomb potentials evaluated on a 28*28*28 grid\n",
            "  Using the PBE Exchange-Correlation functional\n",
            "  External potential:\n",
            "    NoExternalPotential\n",
            " \n",
            "\n",
            "XC parameters: PBE with 2 nearest neighbor stencil\n",
            "\n",
            "Memory estimate:\n",
            "  Process memory now: 1461.98 MiB\n",
            "  Calculator: 7.80 MiB\n",
            "    Density: 1.03 MiB\n",
            "      Arrays: 0.54 MiB\n",
            "      Localized functions: 0.27 MiB\n",
            "      Mixer: 0.21 MiB\n",
            "    Hamiltonian: 0.36 MiB\n",
            "      Arrays: 0.36 MiB\n",
            "      XC: 0.00 MiB\n",
            "      Poisson: 0.00 MiB\n",
            "      vbar: 0.01 MiB\n",
            "    Wavefunctions: 6.41 MiB\n",
            "      Arrays psit_nG: 3.91 MiB\n",
            "      Eigensolver: 0.13 MiB\n",
            "      Projections: 0.38 MiB\n",
            "      Projectors: 1.65 MiB\n",
            "      PW-descriptor: 0.35 MiB\n",
            "\n",
            "Total number of cores used: 1\n",
            "\n",
            "Number of atoms: 2\n",
            "Number of atomic orbitals: 8\n",
            "Number of bands in calculation: 16\n",
            "Number of valence electrons: 8\n",
            "Bands to converge: 8\n",
            "\n",
            "... initialized\n",
            "\n",
            "Initializing position-dependent things.\n",
            "\n",
            "Creating initial wave functions:\n",
            "  8 bands from LCAO basis set\n",
            "  8 bands from random numbers\n",
            "\n",
            "                    \n",
            "                    \n",
            "                    \n",
            "                    \n",
            "           Si       \n",
            "                    \n",
            "       Si           \n",
            "                    \n",
            "                    \n",
            "                    \n",
            "                    \n",
            "\n",
            "Positions:\n",
            "   0 Si     0.000000    0.000000    0.000000    ( 0.0000,  0.0000,  0.0000)\n",
            "   1 Si     1.357500    1.357500    1.357500    ( 0.0000,  0.0000,  0.0000)\n",
            "\n",
            "Unit cell:\n",
            "           periodic     x           y           z      points  spacing\n",
            "  1. axis:    yes    0.000000    2.715000    2.715000    14     0.2239\n",
            "  2. axis:    yes    2.715000    0.000000    2.715000    14     0.2239\n",
            "  3. axis:    yes    2.715000    2.715000    0.000000    14     0.2239\n",
            "\n",
            "  Lengths:   3.839590   3.839590   3.839590\n",
            "  Angles:   60.000000  60.000000  60.000000\n",
            "\n",
            "Effective grid spacing dv^(1/3) = 0.2443\n",
            "\n",
            "     iter     time        total  log10-change:\n",
            "                         energy  eigst   dens\n",
            "iter:   1 19:31:23   -10.227003  +0.99       c\n",
            "iter:   2 19:31:26   -10.230734  -0.52       c\n",
            "iter:   3 19:31:28   -10.230775c -2.00       c\n",
            "iter:   4 19:31:36   -10.230776c -3.50       c\n",
            "iter:   5 19:31:41   -10.230776c -5.01       c\n",
            "iter:   6 19:31:43   -10.230776c -6.55       c\n",
            "iter:   7 19:31:45   -10.230776c -8.06c      c\n",
            "\n",
            "Converged after 7 iterations.\n",
            "\n",
            "Dipole moment: (-2.923917, -2.923917, -2.923917) |e|*Ang\n",
            "\n",
            "Energy contributions relative to reference atoms: (reference = -15772.688500)\n",
            "\n",
            "Kinetic:        +16.238434\n",
            "Potential:      -13.753323\n",
            "External:        +0.000000\n",
            "XC:             -12.665833\n",
            "Entropy (-ST):   -0.000000\n",
            "Local:           -0.050054\n",
            "--------------------------\n",
            "Free energy:    -10.230776\n",
            "Extrapolated:   -10.230776\n",
            "\n",
            "Showing only first 2 kpts\n",
            " Kpt  Band  Eigenvalues  Occupancy\n",
            "  0     2      5.31705    2.00000\n",
            "  0     3      5.31705    2.00000\n",
            "  0     4      7.87649    0.00000\n",
            "  0     5      7.87649    0.00000\n",
            "\n",
            "  1     2      5.28120    2.00000\n",
            "  1     3      5.28120    2.00000\n",
            "  1     4      7.85600    0.00000\n",
            "  1     5      7.92257    0.00000\n",
            "\n",
            "\n",
            "Fermi level: 5.84558\n",
            "\n",
            "Gap: 0.571 eV\n",
            "Transition (v -> c):\n",
            "  (s=0, k=0, n=3, [0.00, 0.00, 0.00]) -> (s=0, k=19, n=4, [0.41, 0.00, 0.41])\n"
          ]
        }
      ]
    },
    {
      "cell_type": "code",
      "source": [
        "%matplotlib inline\n",
        "bs = calc.band_structure()\n",
        "bs.plot(filename='bandstructure.png', show=False, emax=10.0)"
      ],
      "metadata": {
        "colab": {
          "base_uri": "https://localhost:8080/",
          "height": 452
        },
        "id": "ksml_H8Su9Wt",
        "outputId": "3f7b86a0-17e0-4819-ff26-8ddd21e49535"
      },
      "execution_count": null,
      "outputs": [
        {
          "output_type": "execute_result",
          "data": {
            "text/plain": [
              "<Axes: ylabel='energies [eV]'>"
            ]
          },
          "metadata": {},
          "execution_count": 17
        },
        {
          "output_type": "display_data",
          "data": {
            "text/plain": [
              "<Figure size 640x480 with 1 Axes>"
            ],
            "image/png": "[encoded data removed]"
          },
          "metadata": {}
        }
      ]
    },
    {
      "cell_type": "code",
      "source": [],
      "metadata": {
        "id": "3vs7n1bl_u7I"
      },
      "execution_count": null,
      "outputs": []
    },
    {
      "cell_type": "markdown",
      "source": [
        "#4. JARVIS-Leaderboard contribution"
      ],
      "metadata": {
        "id": "q_vFpEoVHsux"
      }
    },
    {
      "cell_type": "code",
      "source": [
        "%%time\n",
        "# Source: https://github.com/usnistgov/jarvis_leaderboard/blob/main/jarvis_leaderboard/contributions/gpaw_lda/run.py\n",
        "import pandas as pd\n",
        "from gpaw import GPAW, PW, FermiDirac\n",
        "from jarvis.db.figshare import get_jid_data\n",
        "from jarvis.core.atoms import Atoms\n",
        "from jarvis.core.kpoints import Kpoints3D\n",
        "import time\n",
        "from ase.build import bulk\n",
        "from gpaw import GPAW, PW, FermiDirac\n",
        "#source: https://wiki.fysik.dtu.dk/gpaw/tutorialsexercises/electronic/band_gap/band_gap.html\n",
        "\n",
        "\n",
        "def get_band_gap(atoms=None, cutoff=500,kpts=[7,7,7],xc='LDA'):\n",
        "    calc = GPAW(mode=PW(cutoff),\n",
        "                xc=xc,\n",
        "                kpts=kpts,  # Choose and converge carefully!\n",
        "                occupations=FermiDirac(0.01),\n",
        "                txt='gs.out')\n",
        "    atoms.calc = calc\n",
        "    atoms.get_potential_energy()\n",
        "    # Calculate the discontinuity potential and the discontinuity\n",
        "    homo, lumo = calc.get_homo_lumo()\n",
        "    efermi = calc.get_fermi_level()\n",
        "    bandgap=lumo-homo\n",
        "    # response = calc.hamiltonian.xc.response\n",
        "    #dxc_pot = response.calculate_discontinuity_potential(homo, lumo)\n",
        "    # KS_gap, dxc = response.calculate_discontinuity(dxc_pot)\n",
        "\n",
        "    # Fundamental band gap = Kohn-Sham band gap + derivative discontinuity\n",
        "    #QP_gap = KS_gap + dxc\n",
        "\n",
        "    print('Band gap', bandgap)\n",
        "    print('Fermi level', efermi)\n",
        "    #print(f'Discontinuity from GLLB-sc: {dxc:.2f} eV')\n",
        "    #print(f'Fundamental band gap:       {QP_gap:.2f} eV')\n",
        "    return bandgap\n",
        "\n",
        "dat = get_jid_data(jid='JVASP-1002',dataset='dft_3d')\n",
        "silicon = Atoms.from_dict(dat['atoms'])\n",
        "ase_atoms=silicon.ase_converter()\n",
        "kp = Kpoints3D().automatic_length_mesh(\n",
        "\n",
        "    lattice_mat=dat['atoms']['lattice_mat'],\n",
        "    length=dat[\"kpoint_length_unit\"],\n",
        ")\n",
        "kpts = kp._kpoints[0]\n",
        "t1=time.time()\n",
        "KS_gap = get_band_gap(atoms=ase_atoms,kpts=kpts)\n",
        "t2=time.time()\n",
        "print('Time', t2-t1)"
      ],
      "metadata": {
        "id": "t9doD4RN_u4K",
        "outputId": "4aea3923-99eb-4794-c451-47ed5d0e20be",
        "colab": {
          "base_uri": "https://localhost:8080/"
        }
      },
      "execution_count": null,
      "outputs": [
        {
          "output_type": "stream",
          "name": "stdout",
          "text": [
            "Obtaining 3D dataset 76k ...\n",
            "Reference:https://www.nature.com/articles/s41524-020-00440-1\n",
            "Other versions:https://doi.org/10.6084/m9.figshare.6815699\n"
          ]
        },
        {
          "output_type": "stream",
          "name": "stderr",
          "text": [
            "100%|██████████| 40.8M/40.8M [00:04<00:00, 9.30MiB/s]\n"
          ]
        },
        {
          "output_type": "stream",
          "name": "stdout",
          "text": [
            "Loading the zipfile...\n",
            "Loading completed.\n"
          ]
        }
      ]
    },
    {
      "cell_type": "code",
      "source": [
        "f=open('ES-SinglePropertyPrediction-bandgap_JVASP_1002_Si-dft_3d-test-mae.csv','w')\n",
        "f.write('id,prediction\\n')\n",
        "line=jid+','+str(KS_gap)+'\\n'\n",
        "f.write(line)\n",
        "f.close()"
      ],
      "metadata": {
        "id": "Dox-OO3s_u1q"
      },
      "execution_count": null,
      "outputs": []
    },
    {
      "cell_type": "code",
      "source": [
        "!zip ES-SinglePropertyPrediction-bandgap_JVASP_1002_Si-dft_3d-test-mae.csv.zip ES-SinglePropertyPrediction-bandgap_JVASP_1002_Si-dft_3d-test-mae.csv"
      ],
      "metadata": {
        "id": "OLYasTVNI90r"
      },
      "execution_count": null,
      "outputs": []
    },
    {
      "cell_type": "markdown",
      "source": [
        "You can download the zip file by clicking on the folder icon on the left side of this notebook"
      ],
      "metadata": {
        "id": "CE0BTWonJsAk"
      }
    },
    {
      "cell_type": "markdown",
      "source": [
        "# Now you can\n",
        "\n",
        "1) [Fork](https://github.com/usnistgov/jarvis_leaderboard/fork) the jarvis-leaderboard GitHub repository\n",
        "\n",
        "2) Add a new folder in the `jarvis_leaderboard/jarvis_leaderboard\n",
        "/contributions/` folder, e.g., `gpaw_lda_test`\n",
        "\n",
        "3) In the folder, add the `ES-SinglePropertyPrediction-bandgap_JVASP_1002_Si-dft_3d-test-mae.csv.zip` file, an example `metadata.json` file, e.g. [this](https://github.com/usnistgov/jarvis_leaderboard/blob/main/jarvis_leaderboard/contributions/gpaw_lda/metadata.json) one, add a `run.sh` file, e.g. this [one](https://github.com/usnistgov/jarvis_leaderboard/blob/main/jarvis_leaderboard/contributions/gpaw_lda/run.sh)\n",
        "\n",
        "4) Make a pull request from your forked repo to the main jarvis-leaderboard"
      ],
      "metadata": {
        "id": "FYaTiaV3IVQF"
      }
    },
    {
      "cell_type": "markdown",
      "source": [],
      "metadata": {
        "id": "paxDzIQCJ7I6"
      }
    },
    {
      "cell_type": "markdown",
      "source": [
        "# 5. A quick calculation of Al(111)-Al2O3(001) interface energy"
      ],
      "metadata": {
        "id": "qAkQgidBfHc0"
      }
    },
    {
      "cell_type": "code",
      "source": [
        "import os\n",
        "import numpy as np\n",
        "from jarvis.analysis.interface.zur import make_interface\n",
        "from jarvis.analysis.defects.surface import Surface\n",
        "from gpaw import GPAW, PW\n",
        "\n",
        "def jarvis_atoms_to_energy(atoms=None,kp=[2,2,1],xc='PBE',ecut=300):\n",
        "       name='jarvis_db_gpaw'\n",
        "       calc = GPAW(mode=PW(ecut),       # cutoff\n",
        "            kpts=kp,     # k-points\n",
        "            txt=name + '.txt')\n",
        "       ase_atoms=atoms.ase_converter()\n",
        "       ase_atoms.calc=calc\n",
        "       atoms_en = ase_atoms.get_potential_energy()\n",
        "       return atoms_en\n",
        "\n",
        "def get_interface_energy(\n",
        "    film_atoms=None,\n",
        "    subs_atoms=None,\n",
        "    film_index=[1, 1, 1],\n",
        "    subs_index=[0, 0, 1],\n",
        "    film_thickness=25,\n",
        "    subs_thickness=25,\n",
        "    model_path=\"\",\n",
        "    seperation=3.0,\n",
        "    vacuum=8.0,\n",
        "    max_area_ratio_tol=1.00,\n",
        "    max_area=500,\n",
        "    ltol=0.05,\n",
        "    atol=1,\n",
        "    apply_strain=False,\n",
        "    from_conventional_structure=True,\n",
        "):\n",
        "    film_surf = Surface(\n",
        "        film_atoms,\n",
        "        indices=film_index,\n",
        "        from_conventional_structure=from_conventional_structure,\n",
        "        thickness=film_thickness,\n",
        "        vacuum=vacuum,\n",
        "    ).make_surface()\n",
        "    subs_surf = Surface(\n",
        "        subs_atoms,\n",
        "        indices=subs_index,\n",
        "        from_conventional_structure=from_conventional_structure,\n",
        "        thickness=subs_thickness,\n",
        "        vacuum=vacuum,\n",
        "    ).make_surface()\n",
        "    het = make_interface(\n",
        "        film=film_surf,\n",
        "        subs=subs_surf,\n",
        "        seperation=seperation,\n",
        "        vacuum=vacuum,\n",
        "        max_area_ratio_tol=max_area_ratio_tol,\n",
        "        max_area=max_area,\n",
        "        ltol=ltol,\n",
        "        atol=atol,\n",
        "        apply_strain=apply_strain,\n",
        "    )\n",
        "    film_en = jarvis_atoms_to_energy(het[\"film_sl\"])\n",
        "    print('film_en', film_en)\n",
        "    subs_en = jarvis_atoms_to_energy(het[\"subs_sl\"])\n",
        "    print ('subs_en', subs_en)\n",
        "    intf_en = jarvis_atoms_to_energy(het[\"interface\"])\n",
        "    print('intf_en', intf_en)\n",
        "\n",
        "    m = het[\"interface\"].lattice.matrix\n",
        "    area = np.linalg.norm(np.cross(m[0], m[1]))\n",
        "    intf_energy = 16 * (intf_en - subs_en - film_en) / (area)  # J/m2\n",
        "    het[\"interface_energy\"] = intf_energy\n",
        "    return het\n",
        "\n",
        "\n"
      ],
      "metadata": {
        "id": "JgKrU6CjNNMf"
      },
      "execution_count": null,
      "outputs": []
    },
    {
      "cell_type": "markdown",
      "source": [
        "It might take more than a hour"
      ],
      "metadata": {
        "id": "-WUGVTLAucwT"
      }
    },
    {
      "cell_type": "code",
      "source": [
        "from jarvis.db.figshare import get_jid_data\n",
        "from jarvis.core.atoms import Atoms\n",
        "atoms_al = Atoms.from_dict(\n",
        "    get_jid_data(dataset=\"dft_3d\", jid=\"JVASP-816\")[\"atoms\"]\n",
        ")\n",
        "atoms_al2o3 = Atoms.from_dict(\n",
        "    get_jid_data(dataset=\"dft_3d\", jid=\"JVASP-32\")[\"atoms\"]\n",
        ")\n",
        "intf = get_interface_energy(\n",
        "    film_atoms=atoms_al, subs_atoms=atoms_al2o3, film_thickness=10, subs_thickness=10\n",
        ")\n",
        "print(intf[\"interface_energy\"] )\n"
      ],
      "metadata": {
        "colab": {
          "base_uri": "https://localhost:8080/"
        },
        "id": "KuBfFS4vcnmC",
        "outputId": "9b3d8d6f-bc60-485f-f130-4d25a1173dcd"
      },
      "execution_count": null,
      "outputs": [
        {
          "output_type": "stream",
          "name": "stdout",
          "text": [
            "Obtaining 3D dataset 55k ...\n",
            "Reference:https://www.nature.com/articles/s41524-020-00440-1\n",
            "Loading the zipfile...\n",
            "Loading completed.\n",
            "Obtaining 3D dataset 55k ...\n",
            "Reference:https://www.nature.com/articles/s41524-020-00440-1\n",
            "Loading the zipfile...\n",
            "Loading completed.\n",
            "mismatch_u,mismatch_v 0.03706886202229698 0.03706805926123646\n"
          ]
        },
        {
          "output_type": "stream",
          "name": "stderr",
          "text": [
            "/usr/local/lib/python3.7/site-packages/jarvis/core/atoms.py:1596: RuntimeWarning: divide by zero encountered in double_scalars\n",
            "  ) / bottom.lattice_mat[1][1]\n"
          ]
        },
        {
          "output_type": "stream",
          "name": "stdout",
          "text": [
            "film_en -140.35238830139863\n",
            "subs_en -440.90161284833647\n",
            "intf_en -587.6015482599141\n",
            "-1.2706412219766434\n"
          ]
        }
      ]
    },
    {
      "cell_type": "code",
      "source": [],
      "metadata": {
        "id": "7ZsMh8aVfFdP"
      },
      "execution_count": null,
      "outputs": []
    }
  ]
}