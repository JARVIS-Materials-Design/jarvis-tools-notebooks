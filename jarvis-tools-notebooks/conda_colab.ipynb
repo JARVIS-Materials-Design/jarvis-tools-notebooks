{
  "nbformat": 4,
  "nbformat_minor": 0,
  "metadata": {
    "colab": {
      "provenance": [],
      "authorship_tag": "ABX9TyOTlaRK41d8KuV3FBAe9YzC",
      "include_colab_link": true
    },
    "kernelspec": {
      "name": "python3",
      "display_name": "Python 3"
    },
    "language_info": {
      "name": "python"
    }
  },
  "cells": [
    {
      "cell_type": "markdown",
      "metadata": {
        "id": "view-in-github",
        "colab_type": "text"
      },
      "source": [
        "<a href=\"https://colab.research.google.com/github/knc6/jarvis-tools-notebooks/blob/master/jarvis-tools-notebooks/conda_colab.ipynb\" target=\"_parent\"><img src=\"https://colab.research.google.com/assets/colab-badge.svg\" alt=\"Open In Colab\"/></a>"
      ]
    },
    {
      "cell_type": "markdown",
      "source": [
        "https://saturncloud.io/blog/how-to-install-conda-package-to-google-colab/"
      ],
      "metadata": {
        "id": "hyUJhJmeAZgG"
      }
    },
    {
      "cell_type": "code",
      "execution_count": 1,
      "metadata": {
        "colab": {
          "base_uri": "https://localhost:8080/"
        },
        "id": "BrfiVRik__iB",
        "outputId": "efb0ccbe-9aaf-49d7-bd90-3185af7a08a5"
      },
      "outputs": [
        {
          "output_type": "stream",
          "name": "stdout",
          "text": [
            "⏬ Downloading https://github.com/conda-forge/miniforge/releases/download/23.11.0-0/Mambaforge-23.11.0-0-Linux-x86_64.sh...\n",
            "📦 Installing...\n",
            "📌 Adjusting configuration...\n",
            "🩹 Patching environment...\n",
            "⏲ Done in 0:00:17\n",
            "🔁 Restarting kernel...\n"
          ]
        }
      ],
      "source": [
        "!pip install -q condacolab\n",
        "import condacolab\n",
        "condacolab.install()"
      ]
    },
    {
      "cell_type": "code",
      "source": [
        "!conda --version"
      ],
      "metadata": {
        "colab": {
          "base_uri": "https://localhost:8080/"
        },
        "id": "p9DMU_6PAAPi",
        "outputId": "70240799-f32e-4d0b-e56a-64700ad78b5c"
      },
      "execution_count": 1,
      "outputs": [
        {
          "output_type": "stream",
          "name": "stdout",
          "text": [
            "conda 23.11.0\n"
          ]
        }
      ]
    },
    {
      "cell_type": "code",
      "source": [
        "import condacolab\n",
        "condacolab.check()"
      ],
      "metadata": {
        "colab": {
          "base_uri": "https://localhost:8080/"
        },
        "id": "cFqnO1k_ALlv",
        "outputId": "27f4081f-4d6b-485f-9403-e6c2c921ad7c"
      },
      "execution_count": 2,
      "outputs": [
        {
          "output_type": "stream",
          "name": "stdout",
          "text": [
            "✨🍰✨ Everything looks OK!\n"
          ]
        }
      ]
    },
    {
      "cell_type": "code",
      "source": [
        "!conda install pandas numpy matplotlib --quiet"
      ],
      "metadata": {
        "colab": {
          "base_uri": "https://localhost:8080/"
        },
        "id": "YY_hh1sZANsl",
        "outputId": "d289f98e-be1b-4315-d0a3-4009536bbadb"
      },
      "execution_count": 5,
      "outputs": [
        {
          "output_type": "stream",
          "name": "stdout",
          "text": [
            "Channels:\n",
            " - conda-forge\n",
            "Platform: linux-64\n",
            "Collecting package metadata (repodata.json): ...working... done\n",
            "Solving environment: ...working... done\n",
            "\n",
            "# All requested packages already installed.\n",
            "\n"
          ]
        }
      ]
    },
    {
      "cell_type": "code",
      "source": [
        "!pip install -q jarvis-tools qiskit==0.41.1"
      ],
      "metadata": {
        "id": "Ynbtc4nDDnob",
        "outputId": "a199b6c6-a309-4c54-b9e7-dc31b1b66e6c",
        "colab": {
          "base_uri": "https://localhost:8080/"
        }
      },
      "execution_count": 4,
      "outputs": [
        {
          "output_type": "stream",
          "name": "stdout",
          "text": [
            "  Preparing metadata (setup.py) ... \u001b[?25l\u001b[?25hdone\n",
            "\u001b[2K     \u001b[90m━━━━━━━━━━━━━━━━━━━━━━━━━━━━━━━━━━━━━━━━\u001b[0m \u001b[32m60.4/60.4 kB\u001b[0m \u001b[31m2.2 MB/s\u001b[0m eta \u001b[36m0:00:00\u001b[0m\n",
            "\u001b[2K     \u001b[90m━━━━━━━━━━━━━━━━━━━━━━━━━━━━━━━━━━━━━━━━\u001b[0m \u001b[32m48.9/48.9 kB\u001b[0m \u001b[31m3.3 MB/s\u001b[0m eta \u001b[36m0:00:00\u001b[0m\n",
            "\u001b[?25h  Preparing metadata (setup.py) ... \u001b[?25l\u001b[?25hdone\n",
            "\u001b[2K     \u001b[90m━━━━━━━━━━━━━━━━━━━━━━━━━━━━━━━━━━━━━━━━\u001b[0m \u001b[32m40.9/40.9 kB\u001b[0m \u001b[31m2.6 MB/s\u001b[0m eta \u001b[36m0:00:00\u001b[0m\n",
            "\u001b[2K   \u001b[90m━━━━━━━━━━━━━━━━━━━━━━━━━━━━━━━━━━━━━━━━\u001b[0m \u001b[32m12.8/12.8 MB\u001b[0m \u001b[31m5.1 MB/s\u001b[0m eta \u001b[36m0:00:00\u001b[0m\n",
            "\u001b[2K   \u001b[90m━━━━━━━━━━━━━━━━━━━━━━━━━━━━━━━━━━━━━━━━\u001b[0m \u001b[32m241.3/241.3 kB\u001b[0m \u001b[31m16.6 MB/s\u001b[0m eta \u001b[36m0:00:00\u001b[0m\n",
            "\u001b[2K   \u001b[90m━━━━━━━━━━━━━━━━━━━━━━━━━━━━━━━━━━━━━━━━\u001b[0m \u001b[32m5.1/5.1 MB\u001b[0m \u001b[31m3.2 MB/s\u001b[0m eta \u001b[36m0:00:00\u001b[0m\n",
            "\u001b[2K   \u001b[90m━━━━━━━━━━━━━━━━━━━━━━━━━━━━━━━━━━━━━━━━\u001b[0m \u001b[32m975.7/975.7 kB\u001b[0m \u001b[31m45.4 MB/s\u001b[0m eta \u001b[36m0:00:00\u001b[0m\n",
            "\u001b[2K   \u001b[90m━━━━━━━━━━━━━━━━━━━━━━━━━━━━━━━━━━━━━━━━\u001b[0m \u001b[32m302.2/302.2 kB\u001b[0m \u001b[31m18.3 MB/s\u001b[0m eta \u001b[36m0:00:00\u001b[0m\n",
            "\u001b[2K   \u001b[90m━━━━━━━━━━━━━━━━━━━━━━━━━━━━━━━━━━━━━━━━\u001b[0m \u001b[32m105.4/105.4 kB\u001b[0m \u001b[31m7.4 MB/s\u001b[0m eta \u001b[36m0:00:00\u001b[0m\n",
            "\u001b[2K   \u001b[90m━━━━━━━━━━━━━━━━━━━━━━━━━━━━━━━━━━━━━━━━\u001b[0m \u001b[32m8.7/8.7 MB\u001b[0m \u001b[31m82.5 MB/s\u001b[0m eta \u001b[36m0:00:00\u001b[0m\n",
            "\u001b[2K   \u001b[90m━━━━━━━━━━━━━━━━━━━━━━━━━━━━━━━━━━━━━━━━\u001b[0m \u001b[32m17.1/17.1 MB\u001b[0m \u001b[31m65.8 MB/s\u001b[0m eta \u001b[36m0:00:00\u001b[0m\n",
            "\u001b[2K   \u001b[90m━━━━━━━━━━━━━━━━━━━━━━━━━━━━━━━━━━━━━━━━\u001b[0m \u001b[32m62.8/62.8 kB\u001b[0m \u001b[31m3.9 MB/s\u001b[0m eta \u001b[36m0:00:00\u001b[0m\n",
            "\u001b[2K   \u001b[90m━━━━━━━━━━━━━━━━━━━━━━━━━━━━━━━━━━━━━━━━\u001b[0m \u001b[32m38.4/38.4 MB\u001b[0m \u001b[31m19.1 MB/s\u001b[0m eta \u001b[36m0:00:00\u001b[0m\n",
            "\u001b[2K   \u001b[90m━━━━━━━━━━━━━━━━━━━━━━━━━━━━━━━━━━━━━━━━\u001b[0m \u001b[32m807.7/807.7 kB\u001b[0m \u001b[31m31.7 MB/s\u001b[0m eta \u001b[36m0:00:00\u001b[0m\n",
            "\u001b[2K   \u001b[90m━━━━━━━━━━━━━━━━━━━━━━━━━━━━━━━━━━━━━━━━\u001b[0m \u001b[32m56.1/56.1 kB\u001b[0m \u001b[31m3.5 MB/s\u001b[0m eta \u001b[36m0:00:00\u001b[0m\n",
            "\u001b[2K   \u001b[90m━━━━━━━━━━━━━━━━━━━━━━━━━━━━━━━━━━━━━━━━\u001b[0m \u001b[32m11.0/11.0 MB\u001b[0m \u001b[31m71.6 MB/s\u001b[0m eta \u001b[36m0:00:00\u001b[0m\n",
            "\u001b[2K   \u001b[90m━━━━━━━━━━━━━━━━━━━━━━━━━━━━━━━━━━━━━━━━\u001b[0m \u001b[32m116.3/116.3 kB\u001b[0m \u001b[31m7.7 MB/s\u001b[0m eta \u001b[36m0:00:00\u001b[0m\n",
            "\u001b[2K   \u001b[90m━━━━━━━━━━━━━━━━━━━━━━━━━━━━━━━━━━━━━━━━\u001b[0m \u001b[32m133.2/133.2 kB\u001b[0m \u001b[31m8.0 MB/s\u001b[0m eta \u001b[36m0:00:00\u001b[0m\n",
            "\u001b[2K   \u001b[90m━━━━━━━━━━━━━━━━━━━━━━━━━━━━━━━━━━━━━━━━\u001b[0m \u001b[32m3.7/3.7 MB\u001b[0m \u001b[31m63.3 MB/s\u001b[0m eta \u001b[36m0:00:00\u001b[0m\n",
            "\u001b[2K   \u001b[90m━━━━━━━━━━━━━━━━━━━━━━━━━━━━━━━━━━━━━━━━\u001b[0m \u001b[32m288.2/288.2 kB\u001b[0m \u001b[31m16.1 MB/s\u001b[0m eta \u001b[36m0:00:00\u001b[0m\n",
            "\u001b[2K   \u001b[90m━━━━━━━━━━━━━━━━━━━━━━━━━━━━━━━━━━━━━━━━\u001b[0m \u001b[32m1.2/1.2 MB\u001b[0m \u001b[31m40.3 MB/s\u001b[0m eta \u001b[36m0:00:00\u001b[0m\n",
            "\u001b[2K   \u001b[90m━━━━━━━━━━━━━━━━━━━━━━━━━━━━━━━━━━━━━━━━\u001b[0m \u001b[32m250.8/250.8 kB\u001b[0m \u001b[31m14.4 MB/s\u001b[0m eta \u001b[36m0:00:00\u001b[0m\n",
            "\u001b[2K   \u001b[90m━━━━━━━━━━━━━━━━━━━━━━━━━━━━━━━━━━━━━━━━\u001b[0m \u001b[32m247.7/247.7 kB\u001b[0m \u001b[31m13.3 MB/s\u001b[0m eta \u001b[36m0:00:00\u001b[0m\n",
            "\u001b[2K   \u001b[90m━━━━━━━━━━━━━━━━━━━━━━━━━━━━━━━━━━━━━━━━\u001b[0m \u001b[32m774.0/774.0 kB\u001b[0m \u001b[31m33.0 MB/s\u001b[0m eta \u001b[36m0:00:00\u001b[0m\n",
            "\u001b[2K   \u001b[90m━━━━━━━━━━━━━━━━━━━━━━━━━━━━━━━━━━━━━━━━\u001b[0m \u001b[32m2.1/2.1 MB\u001b[0m \u001b[31m55.9 MB/s\u001b[0m eta \u001b[36m0:00:00\u001b[0m\n",
            "\u001b[2K   \u001b[90m━━━━━━━━━━━━━━━━━━━━━━━━━━━━━━━━━━━━━━━━\u001b[0m \u001b[32m49.7/49.7 kB\u001b[0m \u001b[31m2.9 MB/s\u001b[0m eta \u001b[36m0:00:00\u001b[0m\n",
            "\u001b[2K   \u001b[90m━━━━━━━━━━━━━━━━━━━━━━━━━━━━━━━━━━━━━━━━\u001b[0m \u001b[32m39.4/39.4 MB\u001b[0m \u001b[31m20.0 MB/s\u001b[0m eta \u001b[36m0:00:00\u001b[0m\n",
            "\u001b[2K   \u001b[90m━━━━━━━━━━━━━━━━━━━━━━━━━━━━━━━━━━━━━━━━\u001b[0m \u001b[32m5.7/5.7 MB\u001b[0m \u001b[31m85.4 MB/s\u001b[0m eta \u001b[36m0:00:00\u001b[0m\n",
            "\u001b[2K   \u001b[90m━━━━━━━━━━━━━━━━━━━━━━━━━━━━━━━━━━━━━━━━\u001b[0m \u001b[32m143.8/143.8 kB\u001b[0m \u001b[31m10.4 MB/s\u001b[0m eta \u001b[36m0:00:00\u001b[0m\n",
            "\u001b[2K   \u001b[90m━━━━━━━━━━━━━━━━━━━━━━━━━━━━━━━━━━━━━━━━\u001b[0m \u001b[32m56.6/56.6 kB\u001b[0m \u001b[31m3.7 MB/s\u001b[0m eta \u001b[36m0:00:00\u001b[0m\n",
            "\u001b[2K   \u001b[90m━━━━━━━━━━━━━━━━━━━━━━━━━━━━━━━━━━━━━━━━\u001b[0m \u001b[32m106.8/106.8 kB\u001b[0m \u001b[31m7.7 MB/s\u001b[0m eta \u001b[36m0:00:00\u001b[0m\n",
            "\u001b[2K   \u001b[90m━━━━━━━━━━━━━━━━━━━━━━━━━━━━━━━━━━━━━━━━\u001b[0m \u001b[32m97.9/97.9 kB\u001b[0m \u001b[31m6.8 MB/s\u001b[0m eta \u001b[36m0:00:00\u001b[0m\n",
            "\u001b[2K   \u001b[90m━━━━━━━━━━━━━━━━━━━━━━━━━━━━━━━━━━━━━━━━\u001b[0m \u001b[32m4.6/4.6 MB\u001b[0m \u001b[31m88.0 MB/s\u001b[0m eta \u001b[36m0:00:00\u001b[0m\n",
            "\u001b[2K   \u001b[90m━━━━━━━━━━━━━━━━━━━━━━━━━━━━━━━━━━━━━━━━\u001b[0m \u001b[32m536.2/536.2 kB\u001b[0m \u001b[31m30.8 MB/s\u001b[0m eta \u001b[36m0:00:00\u001b[0m\n",
            "\u001b[2K   \u001b[90m━━━━━━━━━━━━━━━━━━━━━━━━━━━━━━━━━━━━━━━━\u001b[0m \u001b[32m107.5/107.5 kB\u001b[0m \u001b[31m7.6 MB/s\u001b[0m eta \u001b[36m0:00:00\u001b[0m\n",
            "\u001b[2K   \u001b[90m━━━━━━━━━━━━━━━━━━━━━━━━━━━━━━━━━━━━━━━━\u001b[0m \u001b[32m705.5/705.5 kB\u001b[0m \u001b[31m38.2 MB/s\u001b[0m eta \u001b[36m0:00:00\u001b[0m\n",
            "\u001b[2K   \u001b[90m━━━━━━━━━━━━━━━━━━━━━━━━━━━━━━━━━━━━━━━━\u001b[0m \u001b[32m83.0/83.0 kB\u001b[0m \u001b[31m5.6 MB/s\u001b[0m eta \u001b[36m0:00:00\u001b[0m\n",
            "\u001b[?25h  Building wheel for qiskit (setup.py) ... \u001b[?25l\u001b[?25hdone\n",
            "  Building wheel for paginate (setup.py) ... \u001b[?25l\u001b[?25hdone\n",
            "\u001b[33mWARNING: Running pip as the 'root' user can result in broken permissions and conflicting behaviour with the system package manager. It is recommended to use a virtual environment instead: https://pip.pypa.io/warnings/venv\u001b[0m\u001b[33m\n",
            "\u001b[0m"
          ]
        }
      ]
    },
    {
      "cell_type": "code",
      "source": [],
      "metadata": {
        "id": "of_KQD5TBUf_"
      },
      "execution_count": null,
      "outputs": []
    },
    {
      "cell_type": "markdown",
      "source": [
        "conda env export > environment.yml"
      ],
      "metadata": {
        "id": "Z0BIFsffCfZJ"
      }
    },
    {
      "cell_type": "code",
      "source": [
        "!conda env export"
      ],
      "metadata": {
        "colab": {
          "base_uri": "https://localhost:8080/"
        },
        "id": "yYziG_RiCFzk",
        "outputId": "e3b38f60-e436-4bf9-bf0b-ca21ca072590"
      },
      "execution_count": null,
      "outputs": [
        {
          "output_type": "stream",
          "name": "stdout",
          "text": [
            "name: base\n",
            "channels:\n",
            "  - conda-forge\n",
            "dependencies:\n",
            "  - _libgcc_mutex=0.1=conda_forge\n",
            "  - _openmp_mutex=4.5=2_gnu\n",
            "  - alsa-lib=1.2.11=hd590300_1\n",
            "  - archspec=0.2.2=pyhd8ed1ab_0\n",
            "  - attr=2.5.1=h166bdaf_1\n",
            "  - boltons=23.1.1=pyhd8ed1ab_0\n",
            "  - brotli=1.1.0=hd590300_1\n",
            "  - brotli-bin=1.1.0=hd590300_1\n",
            "  - brotli-python=1.1.0=py310hc6cd4ac_1\n",
            "  - bzip2=1.0.8=hd590300_5\n",
            "  - c-ares=1.24.0=hd590300_0\n",
            "  - ca-certificates=2024.2.2=hbcca054_0\n",
            "  - cairo=1.18.0=h3faef2a_0\n",
            "  - certifi=2024.2.2=pyhd8ed1ab_0\n",
            "  - cffi=1.16.0=py310h2fee648_0\n",
            "  - charset-normalizer=3.3.2=pyhd8ed1ab_0\n",
            "  - colorama=0.4.6=pyhd8ed1ab_0\n",
            "  - conda=23.11.0=py310hff52083_1\n",
            "  - conda-libmamba-solver=23.12.0=pyhd8ed1ab_0\n",
            "  - conda-package-handling=2.2.0=pyh38be061_0\n",
            "  - conda-package-streaming=0.9.0=pyhd8ed1ab_0\n",
            "  - contourpy=1.2.0=py310hd41b1e2_0\n",
            "  - cycler=0.12.1=pyhd8ed1ab_0\n",
            "  - dbus=1.13.6=h5008d03_3\n",
            "  - distro=1.8.0=pyhd8ed1ab_0\n",
            "  - expat=2.6.2=h59595ed_0\n",
            "  - fmt=10.1.1=h00ab1b0_1\n",
            "  - font-ttf-dejavu-sans-mono=2.37=hab24e00_0\n",
            "  - font-ttf-inconsolata=3.000=h77eed37_0\n",
            "  - font-ttf-source-code-pro=2.038=h77eed37_0\n",
            "  - font-ttf-ubuntu=0.83=h77eed37_1\n",
            "  - fontconfig=2.14.2=h14ed4e7_0\n",
            "  - fonts-conda-ecosystem=1=0\n",
            "  - fonts-conda-forge=1=0\n",
            "  - fonttools=4.50.0=py310h2372a71_0\n",
            "  - freetype=2.12.1=h267a509_2\n",
            "  - gettext=0.21.1=h27087fc_0\n",
            "  - glib=2.80.0=hf2295e7_0\n",
            "  - glib-tools=2.80.0=hde27a5a_0\n",
            "  - graphite2=1.3.13=h58526e2_1001\n",
            "  - gst-plugins-base=1.22.9=h8e1006c_0\n",
            "  - gstreamer=1.22.9=h98fc4e7_0\n",
            "  - harfbuzz=8.3.0=h3d44ed6_0\n",
            "  - icu=73.2=h59595ed_0\n",
            "  - idna=3.6=pyhd8ed1ab_0\n",
            "  - jsonpatch=1.33=pyhd8ed1ab_0\n",
            "  - jsonpointer=2.4=py310hff52083_3\n",
            "  - keyutils=1.6.1=h166bdaf_0\n",
            "  - kiwisolver=1.4.5=py310hd41b1e2_1\n",
            "  - krb5=1.21.2=h659d440_0\n",
            "  - lame=3.100=h166bdaf_1003\n",
            "  - lcms2=2.16=hb7c19ff_0\n",
            "  - ld_impl_linux-64=2.40=h41732ed_0\n",
            "  - lerc=4.0.0=h27087fc_0\n",
            "  - libarchive=3.7.2=h2aa1ff5_1\n",
            "  - libblas=3.9.0=21_linux64_openblas\n",
            "  - libbrotlicommon=1.1.0=hd590300_1\n",
            "  - libbrotlidec=1.1.0=hd590300_1\n",
            "  - libbrotlienc=1.1.0=hd590300_1\n",
            "  - libcap=2.69=h0f662aa_0\n",
            "  - libcblas=3.9.0=21_linux64_openblas\n",
            "  - libclang=15.0.7=default_hb11cfb5_4\n",
            "  - libclang13=15.0.7=default_ha2b6cf4_4\n",
            "  - libcups=2.3.3=h4637d8d_4\n",
            "  - libcurl=8.5.0=hca28451_0\n",
            "  - libdeflate=1.19=hd590300_0\n",
            "  - libedit=3.1.20191231=he28a2e2_2\n",
            "  - libev=4.33=hd590300_2\n",
            "  - libevent=2.1.12=hf998b51_1\n",
            "  - libexpat=2.6.2=h59595ed_0\n",
            "  - libffi=3.4.2=h7f98852_5\n",
            "  - libflac=1.4.3=h59595ed_0\n",
            "  - libgcc-ng=13.2.0=h807b86a_3\n",
            "  - libgcrypt=1.10.3=hd590300_0\n",
            "  - libgfortran-ng=13.2.0=h69a702a_5\n",
            "  - libgfortran5=13.2.0=ha4646dd_5\n",
            "  - libglib=2.80.0=hf2295e7_0\n",
            "  - libgomp=13.2.0=h807b86a_3\n",
            "  - libgpg-error=1.48=h71f35ed_0\n",
            "  - libiconv=1.17=hd590300_2\n",
            "  - libjpeg-turbo=3.0.0=hd590300_1\n",
            "  - liblapack=3.9.0=21_linux64_openblas\n",
            "  - libllvm15=15.0.7=hb3ce162_4\n",
            "  - libmamba=1.5.5=had39da4_0\n",
            "  - libmambapy=1.5.5=py310h39ff949_0\n",
            "  - libnghttp2=1.58.0=h47da74e_1\n",
            "  - libnsl=2.0.1=hd590300_0\n",
            "  - libogg=1.3.4=h7f98852_1\n",
            "  - libopenblas=0.3.26=pthreads_h413a1c8_0\n",
            "  - libopus=1.3.1=h7f98852_1\n",
            "  - libpng=1.6.43=h2797004_0\n",
            "  - libpq=16.2=h33b98f1_1\n",
            "  - libsndfile=1.2.2=hc60ed4a_1\n",
            "  - libsolv=0.7.27=hfc55251_0\n",
            "  - libsqlite=3.44.2=h2797004_0\n",
            "  - libssh2=1.11.0=h0841786_0\n",
            "  - libstdcxx-ng=13.2.0=h7e041cc_3\n",
            "  - libsystemd0=255=h3516f8a_1\n",
            "  - libtiff=4.6.0=ha9c0a0a_2\n",
            "  - libuuid=2.38.1=h0b41bf4_0\n",
            "  - libvorbis=1.3.7=h9c3ff4c_0\n",
            "  - libwebp-base=1.3.2=hd590300_0\n",
            "  - libxcb=1.15=h0b41bf4_0\n",
            "  - libxkbcommon=1.6.0=hd429924_1\n",
            "  - libxml2=2.12.3=h232c23b_0\n",
            "  - libzlib=1.2.13=hd590300_5\n",
            "  - lz4-c=1.9.4=hcb278e6_0\n",
            "  - lzo=2.10=h516909a_1000\n",
            "  - mamba=1.5.5=py310h51d5547_0\n",
            "  - matplotlib=3.8.3=py310hff52083_0\n",
            "  - matplotlib-base=3.8.3=py310h62c0568_0\n",
            "  - menuinst=2.0.1=py310hff52083_0\n",
            "  - mpg123=1.32.4=h59595ed_0\n",
            "  - munkres=1.1.4=pyh9f0ad1d_0\n",
            "  - mysql-common=8.0.33=hf1915f5_6\n",
            "  - mysql-libs=8.0.33=hca2cd23_6\n",
            "  - ncurses=6.4=h59595ed_2\n",
            "  - nspr=4.35=h27087fc_0\n",
            "  - nss=3.97=h1d7d5a4_0\n",
            "  - openjpeg=2.5.2=h488ebb8_0\n",
            "  - openssl=3.2.1=hd590300_1\n",
            "  - packaging=23.2=pyhd8ed1ab_0\n",
            "  - pandas=2.2.1=py310hcc13569_0\n",
            "  - pcre2=10.43=hcad00b1_0\n",
            "  - pillow=10.2.0=py310h01dd4db_0\n",
            "  - pip=23.3.2=pyhd8ed1ab_0\n",
            "  - pixman=0.43.2=h59595ed_0\n",
            "  - platformdirs=4.1.0=pyhd8ed1ab_0\n",
            "  - pluggy=1.3.0=pyhd8ed1ab_0\n",
            "  - ply=3.11=py_1\n",
            "  - pthread-stubs=0.4=h36c2ea0_1001\n",
            "  - pulseaudio-client=16.1=hb77b528_5\n",
            "  - pybind11-abi=4=hd8ed1ab_3\n",
            "  - pycosat=0.6.6=py310h2372a71_0\n",
            "  - pycparser=2.21=pyhd8ed1ab_0\n",
            "  - pyparsing=3.1.2=pyhd8ed1ab_0\n",
            "  - pyqt=5.15.9=py310h04931ad_5\n",
            "  - pyqt5-sip=12.12.2=py310hc6cd4ac_5\n",
            "  - pysocks=1.7.1=pyha2e5f31_6\n",
            "  - python=3.10.13=hd12c33a_0_cpython\n",
            "  - python-tzdata=2024.1=pyhd8ed1ab_0\n",
            "  - python_abi=3.10=4_cp310\n",
            "  - pytz=2024.1=pyhd8ed1ab_0\n",
            "  - qt-main=5.15.8=h450f30e_18\n",
            "  - readline=8.2=h8228510_1\n",
            "  - reproc=14.2.4.post0=hd590300_1\n",
            "  - reproc-cpp=14.2.4.post0=h59595ed_1\n",
            "  - ruamel.yaml=0.18.5=py310h2372a71_0\n",
            "  - ruamel.yaml.clib=0.2.7=py310h2372a71_2\n",
            "  - setuptools=68.2.2=pyhd8ed1ab_0\n",
            "  - sip=6.7.12=py310hc6cd4ac_0\n",
            "  - six=1.16.0=pyh6c4a22f_0\n",
            "  - tk=8.6.13=noxft_h4845f30_101\n",
            "  - toml=0.10.2=pyhd8ed1ab_0\n",
            "  - tomli=2.0.1=pyhd8ed1ab_0\n",
            "  - tornado=6.4=py310h2372a71_0\n",
            "  - tqdm=4.66.1=pyhd8ed1ab_0\n",
            "  - truststore=0.8.0=pyhd8ed1ab_0\n",
            "  - tzdata=2023c=h71feb2d_0\n",
            "  - unicodedata2=15.1.0=py310h2372a71_0\n",
            "  - wheel=0.42.0=pyhd8ed1ab_0\n",
            "  - xcb-util=0.4.0=hd590300_1\n",
            "  - xcb-util-image=0.4.0=h8ee46fc_1\n",
            "  - xcb-util-keysyms=0.4.0=h8ee46fc_1\n",
            "  - xcb-util-renderutil=0.3.9=hd590300_1\n",
            "  - xcb-util-wm=0.4.1=h8ee46fc_1\n",
            "  - xkeyboard-config=2.41=hd590300_0\n",
            "  - xorg-kbproto=1.0.7=h7f98852_1002\n",
            "  - xorg-libice=1.1.1=hd590300_0\n",
            "  - xorg-libsm=1.2.4=h7391055_0\n",
            "  - xorg-libx11=1.8.7=h8ee46fc_0\n",
            "  - xorg-libxau=1.0.11=hd590300_0\n",
            "  - xorg-libxdmcp=1.1.3=h7f98852_0\n",
            "  - xorg-libxext=1.3.4=h0b41bf4_2\n",
            "  - xorg-libxrender=0.9.11=hd590300_0\n",
            "  - xorg-renderproto=0.11.1=h7f98852_1002\n",
            "  - xorg-xextproto=7.3.0=h0b41bf4_1003\n",
            "  - xorg-xf86vidmodeproto=2.3.1=h7f98852_1002\n",
            "  - xorg-xproto=7.0.31=h7f98852_1007\n",
            "  - xz=5.2.6=h166bdaf_0\n",
            "  - yaml-cpp=0.8.0=h59595ed_0\n",
            "  - zlib=1.2.13=hd590300_5\n",
            "  - zstandard=0.22.0=py310h1275a96_0\n",
            "  - zstd=1.5.5=hfc55251_0\n",
            "  - pip:\n",
            "      - babel==2.14.0\n",
            "      - click==8.1.7\n",
            "      - cryptography==42.0.5\n",
            "      - dill==0.3.8\n",
            "      - ghp-import==2.1.0\n",
            "      - jarvis-tools==2023.12.12\n",
            "      - jinja2==3.1.3\n",
            "      - joblib==1.3.2\n",
            "      - markdown==3.6\n",
            "      - markupsafe==2.1.5\n",
            "      - mergedeep==1.3.4\n",
            "      - mkdocs==1.5.3\n",
            "      - mkdocs-material==9.5.14\n",
            "      - mkdocs-material-extensions==1.3.1\n",
            "      - mpmath==1.3.0\n",
            "      - ntlm-auth==1.5.0\n",
            "      - numpy==1.23.5\n",
            "      - paginate==0.5.6\n",
            "      - pathspec==0.12.1\n",
            "      - pbr==6.0.0\n",
            "      - psutil==5.9.8\n",
            "      - pygments==2.17.2\n",
            "      - pymdown-extensions==10.7.1\n",
            "      - python-dateutil==2.8.2\n",
            "      - pyyaml==6.0.1\n",
            "      - pyyaml-env-tag==0.1\n",
            "      - qiskit==0.41.1\n",
            "      - qiskit-aer==0.11.2\n",
            "      - qiskit-ibmq-provider==0.20.1\n",
            "      - qiskit-terra==0.23.2\n",
            "      - regex==2023.12.25\n",
            "      - requests==2.28.2\n",
            "      - requests-ntlm==1.1.0\n",
            "      - rustworkx==0.14.2\n",
            "      - scipy==1.12.0\n",
            "      - spglib==2.3.1\n",
            "      - stevedore==5.2.0\n",
            "      - symengine==0.11.0\n",
            "      - sympy==1.12\n",
            "      - toolz==0.12.1\n",
            "      - urllib3==1.26.18\n",
            "      - watchdog==4.0.0\n",
            "      - websocket-client==1.5.3\n",
            "      - websockets==10.4\n",
            "      - xmltodict==0.13.0\n",
            "prefix: /usr/local\n"
          ]
        }
      ]
    },
    {
      "cell_type": "markdown",
      "source": [
        "conda env create -f environment.yml\n"
      ],
      "metadata": {
        "id": "IaIqgZY-DvZF"
      }
    },
    {
      "cell_type": "code",
      "source": [],
      "metadata": {
        "id": "RwkYEIaKCGJ-"
      },
      "execution_count": null,
      "outputs": []
    }
  ]
}