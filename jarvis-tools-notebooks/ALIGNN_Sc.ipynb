{
  "cells": [
    {
      "cell_type": "markdown",
      "metadata": {
        "id": "view-in-github",
        "colab_type": "text"
      },
      "source": [
        "<a href=\"https://colab.research.google.com/github/knc6/jarvis-tools-notebooks/blob/master/jarvis-tools-notebooks/ALIGNN_Sc.ipynb\" target=\"_parent\"><img src=\"https://colab.research.google.com/assets/colab-badge.svg\" alt=\"Open In Colab\"/></a>"
      ]
    },
    {
      "cell_type": "markdown",
      "source": [
        "#Notebook that uses JARVIS-DFT data to train an ALIGNN model for prediction of Tc for BCS superconductors:\n",
        "\n",
        "Refs:\n",
        "\n",
        "https://www.nature.com/articles/s41524-022-00933-1\n",
        "\n",
        "https://pubs.acs.org/doi/full/10.1021/acs.nanolett.2c04420\n",
        "\n",
        "https://pubs.acs.org/doi/10.1021/acs.jpclett.3c01260\n"
      ],
      "metadata": {
        "id": "Hs-TKvpvQo8K"
      }
    },
    {
      "cell_type": "code",
      "execution_count": 1,
      "metadata": {
        "colab": {
          "base_uri": "https://localhost:8080/"
        },
        "id": "EVFgrCugww3z",
        "outputId": "8481e0e4-1c66-41f5-93b6-762ff01e33ef"
      },
      "outputs": [
        {
          "output_type": "stream",
          "name": "stdout",
          "text": [
            "\u001b[2K     \u001b[90m━━━━━━━━━━━━━━━━━━━━━━━━━━━━━━━━━━━━━━━━\u001b[0m \u001b[32m266.3/266.3 MB\u001b[0m \u001b[31m5.0 MB/s\u001b[0m eta \u001b[36m0:00:00\u001b[0m\n",
            "\u001b[2K     \u001b[90m━━━━━━━━━━━━━━━━━━━━━━━━━━━━━━━━━━━━━━━━\u001b[0m \u001b[32m128.0/128.0 kB\u001b[0m \u001b[31m3.0 MB/s\u001b[0m eta \u001b[36m0:00:00\u001b[0m\n",
            "\u001b[2K     \u001b[90m━━━━━━━━━━━━━━━━━━━━━━━━━━━━━━━━━━━━━━━━\u001b[0m \u001b[32m974.6/974.6 kB\u001b[0m \u001b[31m38.9 MB/s\u001b[0m eta \u001b[36m0:00:00\u001b[0m\n",
            "\u001b[2K     \u001b[90m━━━━━━━━━━━━━━━━━━━━━━━━━━━━━━━━━━━━━━━━\u001b[0m \u001b[32m269.8/269.8 kB\u001b[0m \u001b[31m28.2 MB/s\u001b[0m eta \u001b[36m0:00:00\u001b[0m\n",
            "\u001b[2K     \u001b[90m━━━━━━━━━━━━━━━━━━━━━━━━━━━━━━━━━━━━━━━━\u001b[0m \u001b[32m125.3/125.3 kB\u001b[0m \u001b[31m10.5 MB/s\u001b[0m eta \u001b[36m0:00:00\u001b[0m\n",
            "\u001b[2K     \u001b[90m━━━━━━━━━━━━━━━━━━━━━━━━━━━━━━━━━━━━━━━━\u001b[0m \u001b[32m58.3/58.3 kB\u001b[0m \u001b[31m8.0 MB/s\u001b[0m eta \u001b[36m0:00:00\u001b[0m\n",
            "\u001b[2K     \u001b[90m━━━━━━━━━━━━━━━━━━━━━━━━━━━━━━━━━━━━━━━━\u001b[0m \u001b[32m67.8/67.8 kB\u001b[0m \u001b[31m9.2 MB/s\u001b[0m eta \u001b[36m0:00:00\u001b[0m\n",
            "\u001b[2K     \u001b[90m━━━━━━━━━━━━━━━━━━━━━━━━━━━━━━━━━━━━━━━━\u001b[0m \u001b[32m2.2/2.2 MB\u001b[0m \u001b[31m88.8 MB/s\u001b[0m eta \u001b[36m0:00:00\u001b[0m\n",
            "\u001b[2K     \u001b[90m━━━━━━━━━━━━━━━━━━━━━━━━━━━━━━━━━━━━━━━━\u001b[0m \u001b[32m258.1/258.1 kB\u001b[0m \u001b[31m29.8 MB/s\u001b[0m eta \u001b[36m0:00:00\u001b[0m\n",
            "\u001b[2K     \u001b[90m━━━━━━━━━━━━━━━━━━━━━━━━━━━━━━━━━━━━━━━━\u001b[0m \u001b[32m302.0/302.0 kB\u001b[0m \u001b[31m30.1 MB/s\u001b[0m eta \u001b[36m0:00:00\u001b[0m\n",
            "\u001b[2K     \u001b[90m━━━━━━━━━━━━━━━━━━━━━━━━━━━━━━━━━━━━━━━━\u001b[0m \u001b[32m62.6/62.6 kB\u001b[0m \u001b[31m7.9 MB/s\u001b[0m eta \u001b[36m0:00:00\u001b[0m\n",
            "\u001b[2K     \u001b[90m━━━━━━━━━━━━━━━━━━━━━━━━━━━━━━━━━━━━━━━━\u001b[0m \u001b[32m802.1/802.1 kB\u001b[0m \u001b[31m54.2 MB/s\u001b[0m eta \u001b[36m0:00:00\u001b[0m\n",
            "\u001b[2K     \u001b[90m━━━━━━━━━━━━━━━━━━━━━━━━━━━━━━━━━━━━━━━━\u001b[0m \u001b[32m8.4/8.4 MB\u001b[0m \u001b[31m114.6 MB/s\u001b[0m eta \u001b[36m0:00:00\u001b[0m\n",
            "\u001b[2K     \u001b[90m━━━━━━━━━━━━━━━━━━━━━━━━━━━━━━━━━━━━━━━━\u001b[0m \u001b[32m3.7/3.7 MB\u001b[0m \u001b[31m102.6 MB/s\u001b[0m eta \u001b[36m0:00:00\u001b[0m\n",
            "\u001b[?25h  Preparing metadata (setup.py) ... \u001b[?25l\u001b[?25hdone\n",
            "\u001b[2K     \u001b[90m━━━━━━━━━━━━━━━━━━━━━━━━━━━━━━━━━━━━━━━━\u001b[0m \u001b[32m241.0/241.0 kB\u001b[0m \u001b[31m27.1 MB/s\u001b[0m eta \u001b[36m0:00:00\u001b[0m\n",
            "\u001b[2K     \u001b[90m━━━━━━━━━━━━━━━━━━━━━━━━━━━━━━━━━━━━━━━━\u001b[0m \u001b[32m82.1/82.1 kB\u001b[0m \u001b[31m11.1 MB/s\u001b[0m eta \u001b[36m0:00:00\u001b[0m\n",
            "\u001b[?25h  Building wheel for paginate (setup.py) ... \u001b[?25l\u001b[?25hdone\n",
            "\u001b[31mERROR: pip's dependency resolver does not currently take into account all the packages that are installed. This behaviour is the source of the following dependency conflicts.\n",
            "confection 0.1.3 requires pydantic!=1.8,!=1.8.1,<3.0.0,>=1.7.4, but you have pydantic 1.8.1 which is incompatible.\n",
            "inflect 7.0.0 requires pydantic>=1.9.1, but you have pydantic 1.8.1 which is incompatible.\n",
            "spacy 3.6.1 requires pydantic!=1.8,!=1.8.1,<3.0.0,>=1.7.4, but you have pydantic 1.8.1 which is incompatible.\n",
            "thinc 8.1.12 requires pydantic!=1.8,!=1.8.1,<3.0.0,>=1.7.4, but you have pydantic 1.8.1 which is incompatible.\u001b[0m\u001b[31m\n",
            "\u001b[0mCPU times: user 292 ms, sys: 36 ms, total: 328 ms\n",
            "Wall time: 37.6 s\n"
          ]
        }
      ],
      "source": [
        "%%time\n",
        "!pip install -q dgl==1.0.1+cu117 -f https://data.dgl.ai/wheels/cu117/repo.html\n",
        "!pip install -q alignn"
      ]
    },
    {
      "cell_type": "markdown",
      "source": [
        "# For this example, we only use 3 epochs and a batch size of 2. For production-level calculations this will be increased."
      ],
      "metadata": {
        "id": "AqMkyFCKReDQ"
      }
    },
    {
      "cell_type": "code",
      "source": [
        "import json\n",
        "\n",
        "data = {\n",
        "    \"version\": \"112bbedebdaecf59fb18e11c929080fb2f358246\",\n",
        "    \"dataset\": \"user_data\",\n",
        "    \"target\": \"target\",\n",
        "    \"atom_features\": \"cgcnn\",\n",
        "    \"neighbor_strategy\": \"k-nearest\",\n",
        "    \"id_tag\": \"jid\",\n",
        "    \"random_seed\": 123,\n",
        "    \"classification_threshold\": None,\n",
        "    \"n_val\": None,\n",
        "    \"n_test\": None,\n",
        "    \"n_train\": None,\n",
        "    \"train_ratio\": 0.8,\n",
        "    \"val_ratio\": 0.1,\n",
        "    \"test_ratio\": 0.1,\n",
        "    \"target_multiplication_factor\": None,\n",
        "    \"epochs\": 3,\n",
        "    \"batch_size\": 2,\n",
        "    \"weight_decay\": 1e-05,\n",
        "    \"learning_rate\": 0.001,\n",
        "    \"filename\": \"sample\",\n",
        "    \"warmup_steps\": 2000,\n",
        "    \"criterion\": \"mse\",\n",
        "    \"optimizer\": \"adamw\",\n",
        "    \"scheduler\": \"onecycle\",\n",
        "    \"pin_memory\": False,\n",
        "    \"save_dataloader\": False,\n",
        "    \"write_checkpoint\": True,\n",
        "    \"write_predictions\": True,\n",
        "    \"store_outputs\": True,\n",
        "    \"progress\": True,\n",
        "    \"log_tensorboard\": False,\n",
        "    \"standard_scalar_and_pca\": False,\n",
        "    \"use_canonize\": True,\n",
        "    \"num_workers\": 0,\n",
        "    \"cutoff\": 8.0,\n",
        "    \"max_neighbors\": 12,\n",
        "    \"keep_data_order\": False,\n",
        "    \"model\": {\n",
        "        \"name\": \"alignn\",\n",
        "        \"alignn_layers\": 4,\n",
        "        \"gcn_layers\": 4,\n",
        "        \"atom_input_features\": 92,\n",
        "        \"edge_input_features\": 80,\n",
        "        \"triplet_input_features\": 40,\n",
        "        \"embedding_features\": 64,\n",
        "        \"hidden_features\": 256,\n",
        "        \"output_features\": 1,\n",
        "        \"link\": \"identity\",\n",
        "        \"zero_inflated\": False,\n",
        "        \"classification\": False\n",
        "    }\n",
        "}\n",
        "\n",
        "file_path = \"config.json\"\n",
        "\n",
        "with open(file_path, \"w\") as json_file:\n",
        "    json.dump(data, json_file)"
      ],
      "metadata": {
        "id": "KTAiQOp5pDE_"
      },
      "execution_count": 2,
      "outputs": []
    },
    {
      "cell_type": "markdown",
      "source": [
        "# Generate the dataset from JARVIS-DFT database of 1k superconducting materials (electron-phonon coupling calculations): https://www.nature.com/articles/s41524-022-00933-1"
      ],
      "metadata": {
        "id": "gABt2jUGRrwM"
      }
    },
    {
      "cell_type": "code",
      "execution_count": 3,
      "metadata": {
        "colab": {
          "base_uri": "https://localhost:8080/"
        },
        "id": "Dxl8saS9w8Gz",
        "outputId": "d79ca562-5ccf-4f37-d70a-8946d62f25bd"
      },
      "outputs": [
        {
          "output_type": "stream",
          "name": "stdout",
          "text": [
            "Obtaining 3D dataset 76k ...\n",
            "Reference:https://www.nature.com/articles/s41524-020-00440-1\n",
            "Other versions:https://doi.org/10.6084/m9.figshare.6815699\n"
          ]
        },
        {
          "output_type": "stream",
          "name": "stderr",
          "text": [
            "100%|██████████| 40.8M/40.8M [00:03<00:00, 10.9MiB/s]\n"
          ]
        },
        {
          "output_type": "stream",
          "name": "stdout",
          "text": [
            "Loading the zipfile...\n",
            "Loading completed.\n"
          ]
        }
      ],
      "source": [
        "\"\"\"Module to generate example dataset.\"\"\"\n",
        "from jarvis.db.figshare import data as jdata\n",
        "from jarvis.core.atoms import Atoms\n",
        "outdir = \"./\"\n",
        "dft_3d = jdata(\"dft_3d\")\n",
        "prop = \"Tc_supercon\"  # \"optb88vdw_bandgap\"\n",
        "# max_samples = 50\n",
        "f = open(\"id_prop.csv\", \"w\")\n",
        "count = 0\n",
        "for i in dft_3d:\n",
        "    atoms = Atoms.from_dict(i[\"atoms\"])\n",
        "    jid = i[\"jid\"]\n",
        "    poscar_name = \"POSCAR-\" + jid + \".vasp\"\n",
        "    target = i[prop]\n",
        "    if target != \"na\":\n",
        "        atoms.write_poscar(poscar_name)\n",
        "        f.write(\"%s,%6f\\n\" % (poscar_name, target))\n",
        "        # count += 1\n",
        "        # if count == max_samples:\n",
        "        #    break\n",
        "f.close()"
      ]
    },
    {
      "cell_type": "markdown",
      "source": [
        "# Train ALIGNN model on DFT dataset"
      ],
      "metadata": {
        "id": "SOeGkRs7R9Mm"
      }
    },
    {
      "cell_type": "code",
      "execution_count": 4,
      "metadata": {
        "colab": {
          "base_uri": "https://localhost:8080/"
        },
        "id": "8F3sX-DCbEyb",
        "outputId": "e3bfa060-9658-4998-9729-80f9ff323341"
      },
      "outputs": [
        {
          "output_type": "stream",
          "name": "stdout",
          "text": [
            "DGL backend not selected or invalid.  Assuming PyTorch for now.\n",
            "Setting the default backend to \"pytorch\". You can change it in the ~/.dgl/config.json file or export the DGLBACKEND environment variable.  Valid options are: pytorch, mxnet, tensorflow (all lowercase)\n",
            "fatal: not a git repository (or any of the parent directories): .git\n",
            "MAX val: 33.470224\n",
            "MIN val: 0.0\n",
            "MAD: 3.468769594982508\n",
            "Baseline MAE: 3.422002367207025\n",
            "data range 33.470224 0.0\n",
            "100% 846/846 [00:19<00:00, 42.58it/s]\n",
            "df                                                  atoms                       jid    target\n",
            "0    {'lattice_mat': [[-0.0, 3.1492533201194153, 3....   POSCAR-JVASP-39970.vasp  0.033714\n",
            "1    {'lattice_mat': [[4.768060710893495, 0.0042661...  POSCAR-JVASP-100639.vasp  0.056265\n",
            "2    {'lattice_mat': [[2.867231202877823, 0.0, 0.0]...   POSCAR-JVASP-14652.vasp  4.015619\n",
            "3    {'lattice_mat': [[4.066140997541031, 0.0, 0.0]...   POSCAR-JVASP-17473.vasp  0.057916\n",
            "4    {'lattice_mat': [[1.601197304104502, -2.773354...     POSCAR-JVASP-572.vasp  1.452359\n",
            "..                                                 ...                       ...       ...\n",
            "841  {'lattice_mat': [[1.958484749733671, -3.392194...   POSCAR-JVASP-19832.vasp  0.948292\n",
            "842  {'lattice_mat': [[1.5703570165700824, -2.71993...   POSCAR-JVASP-36423.vasp  9.510578\n",
            "843  {'lattice_mat': [[0.0, 0.0, -2.718937913291161...   POSCAR-JVASP-78273.vasp  5.325812\n",
            "844  {'lattice_mat': [[3.220454750346725, 3.2204547...   POSCAR-JVASP-37107.vasp  0.851799\n",
            "845  {'lattice_mat': [[5.585666593096914, 4.3971e-1...  POSCAR-JVASP-113491.vasp  0.002553\n",
            "\n",
            "[846 rows x 3 columns]\n",
            "warning: could not load CGCNN features for 103\n",
            "Setting it to max atomic number available here, 103\n",
            "warning: could not load CGCNN features for 101\n",
            "Setting it to max atomic number available here, 103\n",
            "warning: could not load CGCNN features for 102\n",
            "Setting it to max atomic number available here, 103\n",
            "building line graphs\n",
            "100% 846/846 [00:00<00:00, 2273.56it/s]\n",
            "data range 15.576646 0.0\n",
            "100% 105/105 [00:02<00:00, 50.63it/s]\n",
            "df                                                  atoms                       jid     target\n",
            "0    {'lattice_mat': [[3.8043642651718614, 0.0, 0.0...   POSCAR-JVASP-71009.vasp   3.808991\n",
            "1    {'lattice_mat': [[0.0, 3.33588261672771, 3.335...   POSCAR-JVASP-39112.vasp   1.519345\n",
            "2    {'lattice_mat': [[3.0790469833795866, -0.0, -0...  POSCAR-JVASP-135026.vasp  11.462001\n",
            "3    {'lattice_mat': [[-0.0, 3.1614253818605906, 3....   POSCAR-JVASP-39974.vasp   0.806457\n",
            "4    {'lattice_mat': [[2.8257548431021102, 0.0, -0....   POSCAR-JVASP-69411.vasp   1.779018\n",
            "..                                                 ...                       ...        ...\n",
            "100  {'lattice_mat': [[3.831426370474096, 0.0, 2.21...   POSCAR-JVASP-15403.vasp   0.162384\n",
            "101  {'lattice_mat': [[3.01741304168479, -9.631173e...  POSCAR-JVASP-107548.vasp   2.972465\n",
            "102  {'lattice_mat': [[6.5270257558012545, -0.20701...  POSCAR-JVASP-135507.vasp   5.581561\n",
            "103  {'lattice_mat': [[5.123517484999859, 0.5683509...  POSCAR-JVASP-135677.vasp   2.917224\n",
            "104  {'lattice_mat': [[3.9703302180900777, 0.016131...    POSCAR-JVASP-8008.vasp   0.001569\n",
            "\n",
            "[105 rows x 3 columns]\n",
            "building line graphs\n",
            "100% 105/105 [00:00<00:00, 1832.80it/s]\n",
            "data range 26.901336 0.0\n",
            "100% 105/105 [00:02<00:00, 50.43it/s]\n",
            "df                                                  atoms                       jid     target\n",
            "0    {'lattice_mat': [[3.1185870896119265, 0.0, 0.0...   POSCAR-JVASP-20570.vasp   0.342586\n",
            "1    {'lattice_mat': [[3.3173331926236043, 0.0, 0.0...  POSCAR-JVASP-118266.vasp   2.533148\n",
            "2    {'lattice_mat': [[3.152557911805181, -0.0, -0....   POSCAR-JVASP-67853.vasp   3.218948\n",
            "3    {'lattice_mat': [[3.209929675532714, 0.0, 0.0]...   POSCAR-JVASP-37098.vasp  17.124933\n",
            "4    {'lattice_mat': [[3.2874689722854074, -0.0, 0....   POSCAR-JVASP-14713.vasp   0.000001\n",
            "..                                                 ...                       ...        ...\n",
            "100  {'lattice_mat': [[3.9496181586126524, -0.0, -0...   POSCAR-JVASP-16738.vasp   0.059626\n",
            "101  {'lattice_mat': [[2.6567653343611655, -2.75e-1...  POSCAR-JVASP-114021.vasp  10.952509\n",
            "102  {'lattice_mat': [[-1.9568865550551386, 1.95688...   POSCAR-JVASP-74781.vasp   1.642325\n",
            "103  {'lattice_mat': [[4.0019799583989615, 0.0, -0....   POSCAR-JVASP-40063.vasp   5.361146\n",
            "104  {'lattice_mat': [[3.0809159506701014, 0.0, -0....   POSCAR-JVASP-71553.vasp   3.033624\n",
            "\n",
            "[105 rows x 3 columns]\n",
            "building line graphs\n",
            "100% 105/105 [00:00<00:00, 1795.47it/s]\n",
            "n_train: 846\n",
            "n_val  : 105\n",
            "n_test : 105\n",
            "version='112bbedebdaecf59fb18e11c929080fb2f358246' dataset='user_data' target='target' atom_features='cgcnn' neighbor_strategy='k-nearest' id_tag='jid' random_seed=123 classification_threshold=None n_val=None n_test=None n_train=None train_ratio=0.8 val_ratio=0.1 test_ratio=0.1 target_multiplication_factor=None epochs=3 batch_size=2 weight_decay=1e-05 learning_rate=0.001 filename='sample' warmup_steps=2000 criterion='mse' optimizer='adamw' scheduler='onecycle' pin_memory=False save_dataloader=False write_checkpoint=True write_predictions=True store_outputs=True progress=True log_tensorboard=False standard_scalar_and_pca=False use_canonize=True num_workers=0 cutoff=8.0 max_neighbors=12 keep_data_order=False normalize_graph_level_loss=False distributed=False data_parallel=False n_early_stopping=None output_dir='temp' model=ALIGNNConfig(name='alignn', alignn_layers=4, gcn_layers=4, atom_input_features=92, edge_input_features=80, triplet_input_features=40, embedding_features=64, hidden_features=256, output_features=1, link='identity', zero_inflated=False, classification=False, num_classes=2)\n",
            "config:\n",
            "{'atom_features': 'cgcnn',\n",
            " 'batch_size': 2,\n",
            " 'classification_threshold': None,\n",
            " 'criterion': 'mse',\n",
            " 'cutoff': 8.0,\n",
            " 'data_parallel': False,\n",
            " 'dataset': 'user_data',\n",
            " 'distributed': False,\n",
            " 'epochs': 3,\n",
            " 'filename': 'sample',\n",
            " 'id_tag': 'jid',\n",
            " 'keep_data_order': False,\n",
            " 'learning_rate': 0.001,\n",
            " 'log_tensorboard': False,\n",
            " 'max_neighbors': 12,\n",
            " 'model': {'alignn_layers': 4,\n",
            "           'atom_input_features': 92,\n",
            "           'classification': False,\n",
            "           'edge_input_features': 80,\n",
            "           'embedding_features': 64,\n",
            "           'gcn_layers': 4,\n",
            "           'hidden_features': 256,\n",
            "           'link': 'identity',\n",
            "           'name': 'alignn',\n",
            "           'num_classes': 2,\n",
            "           'output_features': 1,\n",
            "           'triplet_input_features': 40,\n",
            "           'zero_inflated': False},\n",
            " 'n_early_stopping': None,\n",
            " 'n_test': None,\n",
            " 'n_train': None,\n",
            " 'n_val': None,\n",
            " 'neighbor_strategy': 'k-nearest',\n",
            " 'normalize_graph_level_loss': False,\n",
            " 'num_workers': 0,\n",
            " 'optimizer': 'adamw',\n",
            " 'output_dir': 'temp',\n",
            " 'pin_memory': False,\n",
            " 'progress': True,\n",
            " 'random_seed': 123,\n",
            " 'save_dataloader': False,\n",
            " 'scheduler': 'onecycle',\n",
            " 'standard_scalar_and_pca': False,\n",
            " 'store_outputs': True,\n",
            " 'target': 'target',\n",
            " 'target_multiplication_factor': None,\n",
            " 'test_ratio': 0.1,\n",
            " 'train_ratio': 0.8,\n",
            " 'use_canonize': True,\n",
            " 'val_ratio': 0.1,\n",
            " 'version': '112bbedebdaecf59fb18e11c929080fb2f358246',\n",
            " 'warmup_steps': 2000,\n",
            " 'weight_decay': 1e-05,\n",
            " 'write_checkpoint': True,\n",
            " 'write_predictions': True}\n",
            "/usr/local/lib/python3.10/dist-packages/dgl/backend/pytorch/tensor.py:445: UserWarning: TypedStorage is deprecated. It will be removed in the future and UntypedStorage will be the only storage class. This should only matter to you if you are using storages directly.  To access UntypedStorage directly, use tensor.untyped_storage() instead of tensor.storage()\n",
            "  assert input.numel() == input.storage().size(), (\n",
            "/usr/local/lib/python3.10/dist-packages/torch/nn/modules/linear.py:114: UserWarning: Deterministic behavior was enabled with either `torch.use_deterministic_algorithms(True)` or `at::Context::setDeterministicAlgorithms(true)`, but this operation is not deterministic because it uses CuBLAS and you have CUDA >= 10.2. To enable deterministic behavior in this case, you must set an environment variable before running your PyTorch application: CUBLAS_WORKSPACE_CONFIG=:4096:8 or CUBLAS_WORKSPACE_CONFIG=:16:8. For more information, go to https://docs.nvidia.com/cuda/cublas/index.html#cublasApi_reproducibility (Triggered internally at ../aten/src/ATen/Context.cpp:156.)\n",
            "  return F.linear(input, self.weight, self.bias)\n",
            "/usr/local/lib/python3.10/dist-packages/torch/autograd/__init__.py:200: UserWarning: Deterministic behavior was enabled with either `torch.use_deterministic_algorithms(True)` or `at::Context::setDeterministicAlgorithms(true)`, but this operation is not deterministic because it uses CuBLAS and you have CUDA >= 10.2. To enable deterministic behavior in this case, you must set an environment variable before running your PyTorch application: CUBLAS_WORKSPACE_CONFIG=:4096:8 or CUBLAS_WORKSPACE_CONFIG=:16:8. For more information, go to https://docs.nvidia.com/cuda/cublas/index.html#cublasApi_reproducibility (Triggered internally at ../aten/src/ATen/Context.cpp:156.)\n",
            "  Variable._execution_engine.run_backward(  # Calls into the C++ engine to run the backward pass\n",
            "Val_MAE: 5.2715\n",
            "Train_MAE: 5.6419\n",
            "Val_MAE: 3.6078\n",
            "Train_MAE: 3.7888\n",
            "Val_MAE: 5.2802\n",
            "Train_MAE: 5.3392\n",
            "Test MAE: 5.552504679316753\n",
            "Time taken (s): 128.83662056922913\n",
            "CPU times: user 1.71 s, sys: 225 ms, total: 1.94 s\n",
            "Wall time: 2min 43s\n"
          ]
        }
      ],
      "source": [
        "%%time\n",
        "!train_folder.py --root_dir \"./\" --config \"config.json\" --output_dir=temp"
      ]
    },
    {
      "cell_type": "markdown",
      "source": [
        "# The results are contained in the temp folder. The checkpoint_3.pt file is the trained model for the 3rd and final epoch."
      ],
      "metadata": {
        "id": "4VyKwriJSBAG"
      }
    },
    {
      "cell_type": "code",
      "source": [
        "!ls temp"
      ],
      "metadata": {
        "colab": {
          "base_uri": "https://localhost:8080/"
        },
        "id": "cqB3ArG2r7sk",
        "outputId": "2b3bddc4-e29e-462a-980e-4efcc23c42f7"
      },
      "execution_count": 5,
      "outputs": [
        {
          "output_type": "stream",
          "name": "stdout",
          "text": [
            "best_model.pt\t history_train.json\t  prediction_results_test_set.csv   val_data_data_range\n",
            "checkpoint_2.pt  history_val.json\t  prediction_results_train_set.csv\n",
            "checkpoint_3.pt  ids_train_val_test.json  test_data_data_range\n",
            "config.json\t mad\t\t\t  train_data_data_range\n"
          ]
        }
      ]
    },
    {
      "cell_type": "markdown",
      "source": [
        "# Plot the predicted results vs. target (DFT) results for the test set and training set."
      ],
      "metadata": {
        "id": "FINstSw2SQPe"
      }
    },
    {
      "cell_type": "code",
      "source": [
        "%matplotlib inline\n",
        "import matplotlib.pyplot as plt\n",
        "import pandas as pd\n",
        "import numpy as np\n",
        "data = pd.read_csv(\"temp/prediction_results_test_set.csv\", skiprows=1)\n",
        "\n",
        "x = data.iloc[:, 1]  # Second column\n",
        "y = data.iloc[:, 2]  # Third column\n",
        "line_values = np.linspace(min(x.min(), y.min()), max(x.max(), y.max()), 100)\n",
        "plt.plot(line_values, line_values, label=\"x=y Reference\", color=\"r\", linestyle=\"--\")\n",
        "plt.scatter(x, y)\n",
        "plt.xlabel(\"Target DFT Tc (K)\")\n",
        "plt.ylabel(\"Predicted ALIGNN (Tc)\")\n",
        "plt.title(\"Prediction Results for Test Set\")\n",
        "plt.show()"
      ],
      "metadata": {
        "colab": {
          "base_uri": "https://localhost:8080/",
          "height": 472
        },
        "id": "-W8OmUJis3u0",
        "outputId": "d4b9ea70-2872-4a9a-aae0-028524bc6a7a"
      },
      "execution_count": 6,
      "outputs": [
        {
          "output_type": "display_data",
          "data": {
            "text/plain": [
              "<Figure size 640x480 with 1 Axes>"
            ],
            "image/png": "[encoded data removed]"
          },
          "metadata": {}
        }
      ]
    },
    {
      "cell_type": "code",
      "source": [
        "%matplotlib inline\n",
        "import matplotlib.pyplot as plt\n",
        "import pandas as pd\n",
        "import numpy as np\n",
        "data = pd.read_csv(\"temp/prediction_results_train_set.csv\", skiprows=1)\n",
        "\n",
        "x = data.iloc[:, 0]  # Second column\n",
        "y = data.iloc[:, 1]  # Third column\n",
        "line_values = np.linspace(min(x.min(), y.min()), max(x.max(), y.max()), 100)\n",
        "plt.plot(line_values, line_values, label=\"x=y Reference\", color=\"r\", linestyle=\"--\")\n",
        "plt.scatter(x, y)\n",
        "plt.xlabel(\"Target DFT Tc (K)\")\n",
        "plt.ylabel(\"Predicted ALIGNN (Tc)\")\n",
        "plt.title(\"Prediction Results for Training Set\")\n",
        "plt.show()"
      ],
      "metadata": {
        "colab": {
          "base_uri": "https://localhost:8080/",
          "height": 472
        },
        "id": "_PC96bldwvmw",
        "outputId": "fceb6d1f-65bc-4c71-8873-0afffdd55aab"
      },
      "execution_count": 7,
      "outputs": [
        {
          "output_type": "display_data",
          "data": {
            "text/plain": [
              "<Figure size 640x480 with 1 Axes>"
            ],
            "image/png": "[encoded data removed]"
          },
          "metadata": {}
        }
      ]
    },
    {
      "cell_type": "markdown",
      "source": [
        "# Load our trained ALIGNN model for epoch 3  "
      ],
      "metadata": {
        "id": "lxPXgGeNSZgs"
      }
    },
    {
      "cell_type": "code",
      "source": [
        "from alignn.models.alignn import ALIGNN, ALIGNNConfig\n",
        "import torch\n",
        "output_features =  1\n",
        "filename = 'temp/checkpoint_3.pt'\n",
        "device = \"cpu\"\n",
        "if torch.cuda.is_available():\n",
        "    device = torch.device(\"cuda\")\n",
        "model = ALIGNN(ALIGNNConfig(name=\"alignn\", output_features=output_features))\n",
        "model.load_state_dict(torch.load(filename, map_location=device)[\"model\"])\n",
        "model.eval()"
      ],
      "metadata": {
        "colab": {
          "base_uri": "https://localhost:8080/"
        },
        "id": "6rxJNqzlxJSt",
        "outputId": "2cc94e46-d240-4796-d852-55fe95db0192"
      },
      "execution_count": 8,
      "outputs": [
        {
          "output_type": "execute_result",
          "data": {
            "text/plain": [
              "ALIGNN(\n",
              "  (atom_embedding): MLPLayer(\n",
              "    (layer): Sequential(\n",
              "      (0): Linear(in_features=92, out_features=256, bias=True)\n",
              "      (1): BatchNorm1d(256, eps=1e-05, momentum=0.1, affine=True, track_running_stats=True)\n",
              "      (2): SiLU()\n",
              "    )\n",
              "  )\n",
              "  (edge_embedding): Sequential(\n",
              "    (0): RBFExpansion()\n",
              "    (1): MLPLayer(\n",
              "      (layer): Sequential(\n",
              "        (0): Linear(in_features=80, out_features=64, bias=True)\n",
              "        (1): BatchNorm1d(64, eps=1e-05, momentum=0.1, affine=True, track_running_stats=True)\n",
              "        (2): SiLU()\n",
              "      )\n",
              "    )\n",
              "    (2): MLPLayer(\n",
              "      (layer): Sequential(\n",
              "        (0): Linear(in_features=64, out_features=256, bias=True)\n",
              "        (1): BatchNorm1d(256, eps=1e-05, momentum=0.1, affine=True, track_running_stats=True)\n",
              "        (2): SiLU()\n",
              "      )\n",
              "    )\n",
              "  )\n",
              "  (angle_embedding): Sequential(\n",
              "    (0): RBFExpansion()\n",
              "    (1): MLPLayer(\n",
              "      (layer): Sequential(\n",
              "        (0): Linear(in_features=40, out_features=64, bias=True)\n",
              "        (1): BatchNorm1d(64, eps=1e-05, momentum=0.1, affine=True, track_running_stats=True)\n",
              "        (2): SiLU()\n",
              "      )\n",
              "    )\n",
              "    (2): MLPLayer(\n",
              "      (layer): Sequential(\n",
              "        (0): Linear(in_features=64, out_features=256, bias=True)\n",
              "        (1): BatchNorm1d(256, eps=1e-05, momentum=0.1, affine=True, track_running_stats=True)\n",
              "        (2): SiLU()\n",
              "      )\n",
              "    )\n",
              "  )\n",
              "  (alignn_layers): ModuleList(\n",
              "    (0-3): 4 x ALIGNNConv(\n",
              "      (node_update): EdgeGatedGraphConv(\n",
              "        (src_gate): Linear(in_features=256, out_features=256, bias=True)\n",
              "        (dst_gate): Linear(in_features=256, out_features=256, bias=True)\n",
              "        (edge_gate): Linear(in_features=256, out_features=256, bias=True)\n",
              "        (bn_edges): BatchNorm1d(256, eps=1e-05, momentum=0.1, affine=True, track_running_stats=True)\n",
              "        (src_update): Linear(in_features=256, out_features=256, bias=True)\n",
              "        (dst_update): Linear(in_features=256, out_features=256, bias=True)\n",
              "        (bn_nodes): BatchNorm1d(256, eps=1e-05, momentum=0.1, affine=True, track_running_stats=True)\n",
              "      )\n",
              "      (edge_update): EdgeGatedGraphConv(\n",
              "        (src_gate): Linear(in_features=256, out_features=256, bias=True)\n",
              "        (dst_gate): Linear(in_features=256, out_features=256, bias=True)\n",
              "        (edge_gate): Linear(in_features=256, out_features=256, bias=True)\n",
              "        (bn_edges): BatchNorm1d(256, eps=1e-05, momentum=0.1, affine=True, track_running_stats=True)\n",
              "        (src_update): Linear(in_features=256, out_features=256, bias=True)\n",
              "        (dst_update): Linear(in_features=256, out_features=256, bias=True)\n",
              "        (bn_nodes): BatchNorm1d(256, eps=1e-05, momentum=0.1, affine=True, track_running_stats=True)\n",
              "      )\n",
              "    )\n",
              "  )\n",
              "  (gcn_layers): ModuleList(\n",
              "    (0-3): 4 x EdgeGatedGraphConv(\n",
              "      (src_gate): Linear(in_features=256, out_features=256, bias=True)\n",
              "      (dst_gate): Linear(in_features=256, out_features=256, bias=True)\n",
              "      (edge_gate): Linear(in_features=256, out_features=256, bias=True)\n",
              "      (bn_edges): BatchNorm1d(256, eps=1e-05, momentum=0.1, affine=True, track_running_stats=True)\n",
              "      (src_update): Linear(in_features=256, out_features=256, bias=True)\n",
              "      (dst_update): Linear(in_features=256, out_features=256, bias=True)\n",
              "      (bn_nodes): BatchNorm1d(256, eps=1e-05, momentum=0.1, affine=True, track_running_stats=True)\n",
              "    )\n",
              "  )\n",
              "  (readout): AvgPooling()\n",
              "  (fc): Linear(in_features=256, out_features=1, bias=True)\n",
              ")"
            ]
          },
          "metadata": {},
          "execution_count": 8
        }
      ]
    },
    {
      "cell_type": "markdown",
      "source": [
        "# In this section, we screen for new potential superconductors outside of the training set. Since hydrides have attracted recent attention, we can screen for potential superconductors that contain H."
      ],
      "metadata": {
        "id": "0Mmo2w0BSYcN"
      }
    },
    {
      "cell_type": "code",
      "source": [
        "from jarvis.db.figshare import data\n",
        "\n",
        "dft_3d = data('dft_3d')"
      ],
      "metadata": {
        "colab": {
          "base_uri": "https://localhost:8080/"
        },
        "id": "ZeWrSkvIybdP",
        "outputId": "d2effe7e-4a07-4434-a440-302c75893761"
      },
      "execution_count": null,
      "outputs": [
        {
          "output_type": "stream",
          "name": "stdout",
          "text": [
            "Obtaining 3D dataset 76k ...\n",
            "Reference:https://www.nature.com/articles/s41524-020-00440-1\n",
            "Other versions:https://doi.org/10.6084/m9.figshare.6815699\n",
            "Loading the zipfile...\n",
            "Loading completed.\n"
          ]
        }
      ]
    },
    {
      "cell_type": "code",
      "source": [
        "df=pd.DataFrame(dft_3d)"
      ],
      "metadata": {
        "id": "E-qHzRp_-fJU"
      },
      "execution_count": null,
      "outputs": []
    },
    {
      "cell_type": "code",
      "source": [
        "print (df.columns, len(df.columns))"
      ],
      "metadata": {
        "colab": {
          "base_uri": "https://localhost:8080/"
        },
        "id": "3kkhqq6c_Qc0",
        "outputId": "50bd5b92-0903-4365-d22d-f6e4b2e492c7"
      },
      "execution_count": null,
      "outputs": [
        {
          "output_type": "stream",
          "name": "stdout",
          "text": [
            "Index(['jid', 'spg_number', 'spg_symbol', 'formula',\n",
            "       'formation_energy_peratom', 'func', 'optb88vdw_bandgap', 'atoms',\n",
            "       'slme', 'magmom_oszicar', 'spillage', 'elastic_tensor',\n",
            "       'effective_masses_300K', 'kpoint_length_unit', 'maxdiff_mesh',\n",
            "       'maxdiff_bz', 'encut', 'optb88vdw_total_energy', 'epsx', 'epsy', 'epsz',\n",
            "       'mepsx', 'mepsy', 'mepsz', 'modes', 'magmom_outcar', 'max_efg',\n",
            "       'avg_elec_mass', 'avg_hole_mass', 'icsd', 'dfpt_piezo_max_eij',\n",
            "       'dfpt_piezo_max_dij', 'dfpt_piezo_max_dielectric',\n",
            "       'dfpt_piezo_max_dielectric_electronic',\n",
            "       'dfpt_piezo_max_dielectric_ionic', 'max_ir_mode', 'min_ir_mode',\n",
            "       'n-Seebeck', 'p-Seebeck', 'n-powerfact', 'p-powerfact', 'ncond',\n",
            "       'pcond', 'nkappa', 'pkappa', 'ehull', 'Tc_supercon', 'dimensionality',\n",
            "       'efg', 'xml_data_link', 'typ', 'exfoliation_energy', 'spg', 'crys',\n",
            "       'density', 'poisson', 'raw_files', 'nat', 'bulk_modulus_kv',\n",
            "       'shear_modulus_gv', 'mbj_bandgap', 'hse_gap', 'reference', 'search'],\n",
            "      dtype='object') 64\n"
          ]
        }
      ]
    },
    {
      "cell_type": "code",
      "source": [
        "df1 = df[['optb88vdw_bandgap','magmom_outcar', 'ehull', 'atoms', 'jid']].replace('na',np.nan).dropna()"
      ],
      "metadata": {
        "id": "yIzrdXo1BLtH"
      },
      "execution_count": null,
      "outputs": []
    },
    {
      "cell_type": "code",
      "source": [
        "from jarvis.core.atoms import Atoms\n",
        "def has_element(atoms_dict = {}, my_element = 'H'):\n",
        "    atoms = Atoms.from_dict(atoms_dict)\n",
        "    elements = atoms.elements\n",
        "    if my_element in elements:\n",
        "        return True\n",
        "    else:\n",
        "        return np.nan\n",
        "\n",
        "df1['el'] = df1['atoms'].apply(lambda x: has_element(atoms_dict = x, my_element = 'H'))\n",
        "df1['formula'] = df1['atoms'].apply(lambda x: Atoms.from_dict(x).composition.reduced_formula)"
      ],
      "metadata": {
        "id": "4m4n0R58-boV"
      },
      "execution_count": null,
      "outputs": []
    },
    {
      "cell_type": "code",
      "source": [
        "df2 = df1.dropna()"
      ],
      "metadata": {
        "id": "NKZdQtGD_ubq"
      },
      "execution_count": null,
      "outputs": []
    },
    {
      "cell_type": "markdown",
      "source": [
        "We establish our screening criteria below"
      ],
      "metadata": {
        "id": "PRqgIaAYSwdM"
      }
    },
    {
      "cell_type": "code",
      "source": [
        "df2[(df2['optb88vdw_bandgap'] <= .1) & (df2['ehull'] <= .2) & (df2['magmom_outcar'] <= 0.05)]"
      ],
      "metadata": {
        "colab": {
          "base_uri": "https://localhost:8080/",
          "height": 424
        },
        "id": "K5fxJcWk_MMk",
        "outputId": "5b3882ae-e81f-46bd-9c37-ea617486d48e"
      },
      "execution_count": null,
      "outputs": [
        {
          "output_type": "execute_result",
          "data": {
            "text/plain": [
              "       optb88vdw_bandgap  magmom_outcar   ehull  \\\n",
              "531                  0.0            0.0  0.1306   \n",
              "646                  0.0            0.0  0.1689   \n",
              "963                  0.0            0.0  0.1634   \n",
              "1090                 0.0            0.0  0.0246   \n",
              "1482                 0.0            0.0  0.1435   \n",
              "...                  ...            ...     ...   \n",
              "75617                0.0            0.0  0.0000   \n",
              "75618                0.0            0.0  0.0000   \n",
              "75673                0.0            0.0  0.0000   \n",
              "75709                0.0            0.0  0.0000   \n",
              "75952                0.0            0.0  0.0000   \n",
              "\n",
              "                                                   atoms           jid    el  \\\n",
              "531    {'lattice_mat': [[-1.7794851791134307, -3.0829...   JVASP-91703  True   \n",
              "646    {'lattice_mat': [[5.344648361353434, 3.2291114...   JVASP-88522  True   \n",
              "963    {'lattice_mat': [[2.833826211429782, 0.0, 0.0]...   JVASP-90047  True   \n",
              "1090   {'lattice_mat': [[3.6761599003449548, 4.8e-15,...   JVASP-18464  True   \n",
              "1482   {'lattice_mat': [[0.0, 0.0, -2.836889239583801...   JVASP-91661  True   \n",
              "...                                                  ...           ...   ...   \n",
              "75617  {'lattice_mat': [[0.0, 3.8037306146989485, 3.8...  JVASP-157630  True   \n",
              "75618  {'lattice_mat': [[-0.0, 3.6260655995798476, 3....  JVASP-157568  True   \n",
              "75673  {'lattice_mat': [[-0.0, 3.490551561899994, 3.4...  JVASP-157789  True   \n",
              "75709  {'lattice_mat': [[0.0, 3.942091802081512, 3.94...  JVASP-157683  True   \n",
              "75952  {'lattice_mat': [[2.0667210959314395, -3.57866...  JVASP-156110  True   \n",
              "\n",
              "            formula  \n",
              "531            ErH3  \n",
              "646    BaAl3P2H2O14  \n",
              "963        Ti4H3Pd2  \n",
              "1090        Li4H4Rh  \n",
              "1482         TiFeH2  \n",
              "...             ...  \n",
              "75617       Sr2H6Pd  \n",
              "75618       Ca2H6Pt  \n",
              "75673       Ca2CoH6  \n",
              "75709       Ba2NiH6  \n",
              "75952           AcH  \n",
              "\n",
              "[249 rows x 7 columns]"
            ],
            "text/html": [
              "\n",
              "  <div id=\"df-176697bc-ad9e-4bef-995f-8519a2625d9f\" class=\"colab-df-container\">\n",
              "    <div>\n",
              "<style scoped>\n",
              "    .dataframe tbody tr th:only-of-type {\n",
              "        vertical-align: middle;\n",
              "    }\n",
              "\n",
              "    .dataframe tbody tr th {\n",
              "        vertical-align: top;\n",
              "    }\n",
              "\n",
              "    .dataframe thead th {\n",
              "        text-align: right;\n",
              "    }\n",
              "</style>\n",
              "<table border=\"1\" class=\"dataframe\">\n",
              "  <thead>\n",
              "    <tr style=\"text-align: right;\">\n",
              "      <th></th>\n",
              "      <th>optb88vdw_bandgap</th>\n",
              "      <th>magmom_outcar</th>\n",
              "      <th>ehull</th>\n",
              "      <th>atoms</th>\n",
              "      <th>jid</th>\n",
              "      <th>el</th>\n",
              "      <th>formula</th>\n",
              "    </tr>\n",
              "  </thead>\n",
              "  <tbody>\n",
              "    <tr>\n",
              "      <th>531</th>\n",
              "      <td>0.0</td>\n",
              "      <td>0.0</td>\n",
              "      <td>0.1306</td>\n",
              "      <td>{'lattice_mat': [[-1.7794851791134307, -3.0829...</td>\n",
              "      <td>JVASP-91703</td>\n",
              "      <td>True</td>\n",
              "      <td>ErH3</td>\n",
              "    </tr>\n",
              "    <tr>\n",
              "      <th>646</th>\n",
              "      <td>0.0</td>\n",
              "      <td>0.0</td>\n",
              "      <td>0.1689</td>\n",
              "      <td>{'lattice_mat': [[5.344648361353434, 3.2291114...</td>\n",
              "      <td>JVASP-88522</td>\n",
              "      <td>True</td>\n",
              "      <td>BaAl3P2H2O14</td>\n",
              "    </tr>\n",
              "    <tr>\n",
              "      <th>963</th>\n",
              "      <td>0.0</td>\n",
              "      <td>0.0</td>\n",
              "      <td>0.1634</td>\n",
              "      <td>{'lattice_mat': [[2.833826211429782, 0.0, 0.0]...</td>\n",
              "      <td>JVASP-90047</td>\n",
              "      <td>True</td>\n",
              "      <td>Ti4H3Pd2</td>\n",
              "    </tr>\n",
              "    <tr>\n",
              "      <th>1090</th>\n",
              "      <td>0.0</td>\n",
              "      <td>0.0</td>\n",
              "      <td>0.0246</td>\n",
              "      <td>{'lattice_mat': [[3.6761599003449548, 4.8e-15,...</td>\n",
              "      <td>JVASP-18464</td>\n",
              "      <td>True</td>\n",
              "      <td>Li4H4Rh</td>\n",
              "    </tr>\n",
              "    <tr>\n",
              "      <th>1482</th>\n",
              "      <td>0.0</td>\n",
              "      <td>0.0</td>\n",
              "      <td>0.1435</td>\n",
              "      <td>{'lattice_mat': [[0.0, 0.0, -2.836889239583801...</td>\n",
              "      <td>JVASP-91661</td>\n",
              "      <td>True</td>\n",
              "      <td>TiFeH2</td>\n",
              "    </tr>\n",
              "    <tr>\n",
              "      <th>...</th>\n",
              "      <td>...</td>\n",
              "      <td>...</td>\n",
              "      <td>...</td>\n",
              "      <td>...</td>\n",
              "      <td>...</td>\n",
              "      <td>...</td>\n",
              "      <td>...</td>\n",
              "    </tr>\n",
              "    <tr>\n",
              "      <th>75617</th>\n",
              "      <td>0.0</td>\n",
              "      <td>0.0</td>\n",
              "      <td>0.0000</td>\n",
              "      <td>{'lattice_mat': [[0.0, 3.8037306146989485, 3.8...</td>\n",
              "      <td>JVASP-157630</td>\n",
              "      <td>True</td>\n",
              "      <td>Sr2H6Pd</td>\n",
              "    </tr>\n",
              "    <tr>\n",
              "      <th>75618</th>\n",
              "      <td>0.0</td>\n",
              "      <td>0.0</td>\n",
              "      <td>0.0000</td>\n",
              "      <td>{'lattice_mat': [[-0.0, 3.6260655995798476, 3....</td>\n",
              "      <td>JVASP-157568</td>\n",
              "      <td>True</td>\n",
              "      <td>Ca2H6Pt</td>\n",
              "    </tr>\n",
              "    <tr>\n",
              "      <th>75673</th>\n",
              "      <td>0.0</td>\n",
              "      <td>0.0</td>\n",
              "      <td>0.0000</td>\n",
              "      <td>{'lattice_mat': [[-0.0, 3.490551561899994, 3.4...</td>\n",
              "      <td>JVASP-157789</td>\n",
              "      <td>True</td>\n",
              "      <td>Ca2CoH6</td>\n",
              "    </tr>\n",
              "    <tr>\n",
              "      <th>75709</th>\n",
              "      <td>0.0</td>\n",
              "      <td>0.0</td>\n",
              "      <td>0.0000</td>\n",
              "      <td>{'lattice_mat': [[0.0, 3.942091802081512, 3.94...</td>\n",
              "      <td>JVASP-157683</td>\n",
              "      <td>True</td>\n",
              "      <td>Ba2NiH6</td>\n",
              "    </tr>\n",
              "    <tr>\n",
              "      <th>75952</th>\n",
              "      <td>0.0</td>\n",
              "      <td>0.0</td>\n",
              "      <td>0.0000</td>\n",
              "      <td>{'lattice_mat': [[2.0667210959314395, -3.57866...</td>\n",
              "      <td>JVASP-156110</td>\n",
              "      <td>True</td>\n",
              "      <td>AcH</td>\n",
              "    </tr>\n",
              "  </tbody>\n",
              "</table>\n",
              "<p>249 rows × 7 columns</p>\n",
              "</div>\n",
              "    <div class=\"colab-df-buttons\">\n",
              "\n",
              "  <div class=\"colab-df-container\">\n",
              "    <button class=\"colab-df-convert\" onclick=\"convertToInteractive('df-176697bc-ad9e-4bef-995f-8519a2625d9f')\"\n",
              "            title=\"Convert this dataframe to an interactive table.\"\n",
              "            style=\"display:none;\">\n",
              "\n",
              "  <svg xmlns=\"http://www.w3.org/2000/svg\" height=\"24px\" viewBox=\"0 -960 960 960\">\n",
              "    <path d=\"M120-120v-720h720v720H120Zm60-500h600v-160H180v160Zm220 220h160v-160H400v160Zm0 220h160v-160H400v160ZM180-400h160v-160H180v160Zm440 0h160v-160H620v160ZM180-180h160v-160H180v160Zm440 0h160v-160H620v160Z\"/>\n",
              "  </svg>\n",
              "    </button>\n",
              "\n",
              "  <style>\n",
              "    .colab-df-container {\n",
              "      display:flex;\n",
              "      gap: 12px;\n",
              "    }\n",
              "\n",
              "    .colab-df-convert {\n",
              "      background-color: #E8F0FE;\n",
              "      border: none;\n",
              "      border-radius: 50%;\n",
              "      cursor: pointer;\n",
              "      display: none;\n",
              "      fill: #1967D2;\n",
              "      height: 32px;\n",
              "      padding: 0 0 0 0;\n",
              "      width: 32px;\n",
              "    }\n",
              "\n",
              "    .colab-df-convert:hover {\n",
              "      background-color: #E2EBFA;\n",
              "      box-shadow: 0px 1px 2px rgba(60, 64, 67, 0.3), 0px 1px 3px 1px rgba(60, 64, 67, 0.15);\n",
              "      fill: #174EA6;\n",
              "    }\n",
              "\n",
              "    .colab-df-buttons div {\n",
              "      margin-bottom: 4px;\n",
              "    }\n",
              "\n",
              "    [theme=dark] .colab-df-convert {\n",
              "      background-color: #3B4455;\n",
              "      fill: #D2E3FC;\n",
              "    }\n",
              "\n",
              "    [theme=dark] .colab-df-convert:hover {\n",
              "      background-color: #434B5C;\n",
              "      box-shadow: 0px 1px 3px 1px rgba(0, 0, 0, 0.15);\n",
              "      filter: drop-shadow(0px 1px 2px rgba(0, 0, 0, 0.3));\n",
              "      fill: #FFFFFF;\n",
              "    }\n",
              "  </style>\n",
              "\n",
              "    <script>\n",
              "      const buttonEl =\n",
              "        document.querySelector('#df-176697bc-ad9e-4bef-995f-8519a2625d9f button.colab-df-convert');\n",
              "      buttonEl.style.display =\n",
              "        google.colab.kernel.accessAllowed ? 'block' : 'none';\n",
              "\n",
              "      async function convertToInteractive(key) {\n",
              "        const element = document.querySelector('#df-176697bc-ad9e-4bef-995f-8519a2625d9f');\n",
              "        const dataTable =\n",
              "          await google.colab.kernel.invokeFunction('convertToInteractive',\n",
              "                                                    [key], {});\n",
              "        if (!dataTable) return;\n",
              "\n",
              "        const docLinkHtml = 'Like what you see? Visit the ' +\n",
              "          '<a target=\"_blank\" href=https://colab.research.google.com/notebooks/data_table.ipynb>data table notebook</a>'\n",
              "          + ' to learn more about interactive tables.';\n",
              "        element.innerHTML = '';\n",
              "        dataTable['output_type'] = 'display_data';\n",
              "        await google.colab.output.renderOutput(dataTable, element);\n",
              "        const docLink = document.createElement('div');\n",
              "        docLink.innerHTML = docLinkHtml;\n",
              "        element.appendChild(docLink);\n",
              "      }\n",
              "    </script>\n",
              "  </div>\n",
              "\n",
              "\n",
              "<div id=\"df-59d0eb3d-dece-4df3-8a8d-35d025073e34\">\n",
              "  <button class=\"colab-df-quickchart\" onclick=\"quickchart('df-59d0eb3d-dece-4df3-8a8d-35d025073e34')\"\n",
              "            title=\"Suggest charts.\"\n",
              "            style=\"display:none;\">\n",
              "\n",
              "<svg xmlns=\"http://www.w3.org/2000/svg\" height=\"24px\"viewBox=\"0 0 24 24\"\n",
              "     width=\"24px\">\n",
              "    <g>\n",
              "        <path d=\"M19 3H5c-1.1 0-2 .9-2 2v14c0 1.1.9 2 2 2h14c1.1 0 2-.9 2-2V5c0-1.1-.9-2-2-2zM9 17H7v-7h2v7zm4 0h-2V7h2v10zm4 0h-2v-4h2v4z\"/>\n",
              "    </g>\n",
              "</svg>\n",
              "  </button>\n",
              "\n",
              "<style>\n",
              "  .colab-df-quickchart {\n",
              "      --bg-color: #E8F0FE;\n",
              "      --fill-color: #1967D2;\n",
              "      --hover-bg-color: #E2EBFA;\n",
              "      --hover-fill-color: #174EA6;\n",
              "      --disabled-fill-color: #AAA;\n",
              "      --disabled-bg-color: #DDD;\n",
              "  }\n",
              "\n",
              "  [theme=dark] .colab-df-quickchart {\n",
              "      --bg-color: #3B4455;\n",
              "      --fill-color: #D2E3FC;\n",
              "      --hover-bg-color: #434B5C;\n",
              "      --hover-fill-color: #FFFFFF;\n",
              "      --disabled-bg-color: #3B4455;\n",
              "      --disabled-fill-color: #666;\n",
              "  }\n",
              "\n",
              "  .colab-df-quickchart {\n",
              "    background-color: var(--bg-color);\n",
              "    border: none;\n",
              "    border-radius: 50%;\n",
              "    cursor: pointer;\n",
              "    display: none;\n",
              "    fill: var(--fill-color);\n",
              "    height: 32px;\n",
              "    padding: 0;\n",
              "    width: 32px;\n",
              "  }\n",
              "\n",
              "  .colab-df-quickchart:hover {\n",
              "    background-color: var(--hover-bg-color);\n",
              "    box-shadow: 0 1px 2px rgba(60, 64, 67, 0.3), 0 1px 3px 1px rgba(60, 64, 67, 0.15);\n",
              "    fill: var(--button-hover-fill-color);\n",
              "  }\n",
              "\n",
              "  .colab-df-quickchart-complete:disabled,\n",
              "  .colab-df-quickchart-complete:disabled:hover {\n",
              "    background-color: var(--disabled-bg-color);\n",
              "    fill: var(--disabled-fill-color);\n",
              "    box-shadow: none;\n",
              "  }\n",
              "\n",
              "  .colab-df-spinner {\n",
              "    border: 2px solid var(--fill-color);\n",
              "    border-color: transparent;\n",
              "    border-bottom-color: var(--fill-color);\n",
              "    animation:\n",
              "      spin 1s steps(1) infinite;\n",
              "  }\n",
              "\n",
              "  @keyframes spin {\n",
              "    0% {\n",
              "      border-color: transparent;\n",
              "      border-bottom-color: var(--fill-color);\n",
              "      border-left-color: var(--fill-color);\n",
              "    }\n",
              "    20% {\n",
              "      border-color: transparent;\n",
              "      border-left-color: var(--fill-color);\n",
              "      border-top-color: var(--fill-color);\n",
              "    }\n",
              "    30% {\n",
              "      border-color: transparent;\n",
              "      border-left-color: var(--fill-color);\n",
              "      border-top-color: var(--fill-color);\n",
              "      border-right-color: var(--fill-color);\n",
              "    }\n",
              "    40% {\n",
              "      border-color: transparent;\n",
              "      border-right-color: var(--fill-color);\n",
              "      border-top-color: var(--fill-color);\n",
              "    }\n",
              "    60% {\n",
              "      border-color: transparent;\n",
              "      border-right-color: var(--fill-color);\n",
              "    }\n",
              "    80% {\n",
              "      border-color: transparent;\n",
              "      border-right-color: var(--fill-color);\n",
              "      border-bottom-color: var(--fill-color);\n",
              "    }\n",
              "    90% {\n",
              "      border-color: transparent;\n",
              "      border-bottom-color: var(--fill-color);\n",
              "    }\n",
              "  }\n",
              "</style>\n",
              "\n",
              "  <script>\n",
              "    async function quickchart(key) {\n",
              "      const quickchartButtonEl =\n",
              "        document.querySelector('#' + key + ' button');\n",
              "      quickchartButtonEl.disabled = true;  // To prevent multiple clicks.\n",
              "      quickchartButtonEl.classList.add('colab-df-spinner');\n",
              "      try {\n",
              "        const charts = await google.colab.kernel.invokeFunction(\n",
              "            'suggestCharts', [key], {});\n",
              "      } catch (error) {\n",
              "        console.error('Error during call to suggestCharts:', error);\n",
              "      }\n",
              "      quickchartButtonEl.classList.remove('colab-df-spinner');\n",
              "      quickchartButtonEl.classList.add('colab-df-quickchart-complete');\n",
              "    }\n",
              "    (() => {\n",
              "      let quickchartButtonEl =\n",
              "        document.querySelector('#df-59d0eb3d-dece-4df3-8a8d-35d025073e34 button');\n",
              "      quickchartButtonEl.style.display =\n",
              "        google.colab.kernel.accessAllowed ? 'block' : 'none';\n",
              "    })();\n",
              "  </script>\n",
              "</div>\n",
              "    </div>\n",
              "  </div>\n"
            ]
          },
          "metadata": {},
          "execution_count": 47
        }
      ]
    },
    {
      "cell_type": "markdown",
      "source": [
        "JVASP-157789 is a potential superconductor, let's see what our trained model predicts and what the available ALIGNN pretrained model (300 epochs) predicts"
      ],
      "metadata": {
        "id": "twEgablGS2CO"
      }
    },
    {
      "cell_type": "code",
      "source": [
        "from jarvis.db.figshare import get_jid_data\n",
        "dat = get_jid_data(jid=\"JVASP-157789\", dataset=\"dft_3d\")"
      ],
      "metadata": {
        "colab": {
          "base_uri": "https://localhost:8080/"
        },
        "id": "rwq6t2ZIKGrU",
        "outputId": "b66b09ff-6872-4a89-8c36-d59b7799df4b"
      },
      "execution_count": null,
      "outputs": [
        {
          "output_type": "stream",
          "name": "stdout",
          "text": [
            "Obtaining 3D dataset 76k ...\n",
            "Reference:https://www.nature.com/articles/s41524-020-00440-1\n",
            "Other versions:https://doi.org/10.6084/m9.figshare.6815699\n",
            "Loading the zipfile...\n",
            "Loading completed.\n"
          ]
        }
      ]
    },
    {
      "cell_type": "code",
      "source": [
        "atoms = Atoms.from_dict(dat[\"atoms\"])"
      ],
      "metadata": {
        "id": "JEDn9nqOKUXe"
      },
      "execution_count": null,
      "outputs": []
    },
    {
      "cell_type": "code",
      "source": [
        "atoms.write_poscar('POSCAR-JVASP-157789')"
      ],
      "metadata": {
        "id": "8wYEasBOKriI"
      },
      "execution_count": null,
      "outputs": []
    },
    {
      "cell_type": "code",
      "source": [
        "import sys\n",
        "from alignn.models.alignn import ALIGNN, ALIGNNConfig\n",
        "import torch\n",
        "from jarvis.core.atoms import Atoms\n",
        "from alignn.graphs import Graph\n",
        "\n",
        "output_features = 1\n",
        "filename = 'temp/checkpoint_3.pt'\n",
        "device = \"cpu\"\n",
        "\n",
        "if torch.cuda.is_available():\n",
        "    device = torch.device(\"cuda\")\n",
        "\n",
        "model = ALIGNN(ALIGNNConfig(name=\"alignn\", output_features=output_features))\n",
        "model.load_state_dict(torch.load(filename, map_location=device)[\"model\"])\n",
        "model.eval()\n",
        "\n",
        "cutoff = 8.0\n",
        "model = model.to(device)\n",
        "max_neighbors = 12\n",
        "\n",
        "jids = [\"POSCAR-JVASP-157789\"]\n",
        "\n",
        "# Save the current standard output (e.g., the console) to a variable\n",
        "original_stdout = sys.stdout\n",
        "\n",
        "for i in jids:\n",
        "    atoms = Atoms.from_poscar(i)\n",
        "    g, lg = Graph.atom_dgl_multigraph(\n",
        "        atoms, cutoff=float(cutoff), max_neighbors=max_neighbors\n",
        "    )\n",
        "    out_data = (\n",
        "        model([g.to(device), lg.to(device)])\n",
        "        .detach()\n",
        "        .cpu()\n",
        "        .numpy()\n",
        "        .flatten()\n",
        "        .tolist()\n",
        "    )\n",
        "    print(i, out_data[0])\n",
        "\n"
      ],
      "metadata": {
        "colab": {
          "base_uri": "https://localhost:8080/"
        },
        "id": "shFED69qLmZ7",
        "outputId": "6f02bf9f-e647-43cf-acb4-d290567da124"
      },
      "execution_count": null,
      "outputs": [
        {
          "output_type": "stream",
          "name": "stdout",
          "text": [
            "POSCAR-JVASP-157789 5.109636306762695\n"
          ]
        }
      ]
    },
    {
      "cell_type": "code",
      "source": [
        "!pretrained.py --model_name jv_supercon_tc_alignn --file_format poscar --file_path POSCAR-JVASP-157789"
      ],
      "metadata": {
        "colab": {
          "base_uri": "https://localhost:8080/"
        },
        "id": "f0Ya3DLYOm-T",
        "outputId": "f294e77c-3f6a-406c-cb0d-be6c76e493d7"
      },
      "execution_count": null,
      "outputs": [
        {
          "output_type": "stream",
          "name": "stdout",
          "text": [
            "Using chk file jv_supercon_tc_alignn/checkpoint_200.pt from  ['jv_supercon_tc_alignn/checkpoint_200.pt']\n",
            "Path /usr/local/bin/jv_supercon_tc_alignn.zip\n",
            "Config /content/jv_supercon_tc_alignn/config.json\n",
            "Predicted value: jv_supercon_tc_alignn POSCAR-JVASP-157789 [3.498167037963867]\n"
          ]
        }
      ]
    },
    {
      "cell_type": "markdown",
      "source": [
        "As an excercise, try to find potential superconductors in the JARVIS database and screen them with the ALIGNN model for Tc"
      ],
      "metadata": {
        "id": "NAEUazP2TROc"
      }
    }
  ],
  "metadata": {
    "colab": {
      "provenance": [],
      "gpuType": "T4",
      "include_colab_link": true
    },
    "kernelspec": {
      "display_name": "Python 3",
      "name": "python3"
    },
    "language_info": {
      "name": "python"
    },
    "accelerator": "GPU"
  },
  "nbformat": 4,
  "nbformat_minor": 0
}