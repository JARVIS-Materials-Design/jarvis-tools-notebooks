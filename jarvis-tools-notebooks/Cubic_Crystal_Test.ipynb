{
  "nbformat": 4,
  "nbformat_minor": 0,
  "metadata": {
    "colab": {
      "provenance": [],
      "authorship_tag": "ABX9TyPUq7m7r+7PK8FrktNojaOu",
      "include_colab_link": true
    },
    "kernelspec": {
      "name": "python3",
      "display_name": "Python 3"
    },
    "language_info": {
      "name": "python"
    }
  },
  "cells": [
    {
      "cell_type": "markdown",
      "metadata": {
        "id": "view-in-github",
        "colab_type": "text"
      },
      "source": [
        "<a href=\"https://colab.research.google.com/github/knc6/jarvis-tools-notebooks/blob/master/jarvis-tools-notebooks/Cubic_Crystal_Test.ipynb\" target=\"_parent\"><img src=\"https://colab.research.google.com/assets/colab-badge.svg\" alt=\"Open In Colab\"/></a>"
      ]
    },
    {
      "cell_type": "markdown",
      "source": [
        "This notebook runs the jupyter-notebook given here on Colab."
      ],
      "metadata": {
        "id": "D_r9LqRSta_x"
      }
    },
    {
      "cell_type": "code",
      "execution_count": 1,
      "metadata": {
        "colab": {
          "base_uri": "https://localhost:8080/",
          "height": 1000
        },
        "id": "XEsKqR5ugbxt",
        "outputId": "414f51f6-c986-4aa7-9f6e-b180eb81582a"
      },
      "outputs": [
        {
          "output_type": "stream",
          "name": "stdout",
          "text": [
            "Looking in indexes: https://pypi.org/simple, https://us-python.pkg.dev/colab-wheels/public/simple/\n",
            "Collecting m3gnet\n",
            "  Downloading m3gnet-0.2.4-py3-none-any.whl (285 kB)\n",
            "\u001b[2K     \u001b[90m━━━━━━━━━━━━━━━━━━━━━━━━━━━━━━━━━━━━━━\u001b[0m \u001b[32m285.1/285.1 kB\u001b[0m \u001b[31m14.0 MB/s\u001b[0m eta \u001b[36m0:00:00\u001b[0m\n",
            "\u001b[?25hCollecting alignn\n",
            "  Downloading alignn-2023.4.1-py2.py3-none-any.whl (15.1 MB)\n",
            "\u001b[2K     \u001b[90m━━━━━━━━━━━━━━━━━━━━━━━━━━━━━━━━━━━━━━━━\u001b[0m \u001b[32m15.1/15.1 MB\u001b[0m \u001b[31m72.1 MB/s\u001b[0m eta \u001b[36m0:00:00\u001b[0m\n",
            "\u001b[?25hCollecting ase\n",
            "  Downloading ase-3.22.1-py3-none-any.whl (2.2 MB)\n",
            "\u001b[2K     \u001b[90m━━━━━━━━━━━━━━━━━━━━━━━━━━━━━━━━━━━━━━━━\u001b[0m \u001b[32m2.2/2.2 MB\u001b[0m \u001b[31m62.5 MB/s\u001b[0m eta \u001b[36m0:00:00\u001b[0m\n",
            "\u001b[?25hCollecting pymatgen\n",
            "  Downloading pymatgen-2023.3.23-cp39-cp39-manylinux_2_17_x86_64.manylinux2014_x86_64.whl (12.4 MB)\n",
            "\u001b[2K     \u001b[90m━━━━━━━━━━━━━━━━━━━━━━━━━━━━━━━━━━━━━━━━\u001b[0m \u001b[32m12.4/12.4 MB\u001b[0m \u001b[31m45.3 MB/s\u001b[0m eta \u001b[36m0:00:00\u001b[0m\n",
            "\u001b[?25hRequirement already satisfied: tensorflow in /usr/local/lib/python3.9/dist-packages (from m3gnet) (2.12.0)\n",
            "Requirement already satisfied: numpy in /usr/local/lib/python3.9/dist-packages (from m3gnet) (1.22.4)\n",
            "Requirement already satisfied: sympy in /usr/local/lib/python3.9/dist-packages (from m3gnet) (1.11.1)\n",
            "Collecting monty\n",
            "  Downloading monty-2023.4.10-py3-none-any.whl (67 kB)\n",
            "\u001b[2K     \u001b[90m━━━━━━━━━━━━━━━━━━━━━━━━━━━━━━━━━━━━━━━━\u001b[0m \u001b[32m67.0/67.0 kB\u001b[0m \u001b[31m5.1 MB/s\u001b[0m eta \u001b[36m0:00:00\u001b[0m\n",
            "\u001b[?25hRequirement already satisfied: pydantic>=1.8.1 in /usr/local/lib/python3.9/dist-packages (from alignn) (1.10.7)\n",
            "Collecting jarvis-tools>=2021.07.19\n",
            "  Downloading jarvis_tools-2023.4.6-py2.py3-none-any.whl (973 kB)\n",
            "\u001b[2K     \u001b[90m━━━━━━━━━━━━━━━━━━━━━━━━━━━━━━━━━━━━━━\u001b[0m \u001b[32m973.8/973.8 kB\u001b[0m \u001b[31m32.8 MB/s\u001b[0m eta \u001b[36m0:00:00\u001b[0m\n",
            "\u001b[?25hCollecting pydocstyle>=6.0.0\n",
            "  Downloading pydocstyle-6.3.0-py3-none-any.whl (38 kB)\n",
            "Requirement already satisfied: scikit-learn>=0.22.2 in /usr/local/lib/python3.9/dist-packages (from alignn) (1.2.2)\n",
            "Requirement already satisfied: torch>=1.8 in /usr/local/lib/python3.9/dist-packages (from alignn) (2.0.0+cu118)\n",
            "Requirement already satisfied: scipy>=1.6.1 in /usr/local/lib/python3.9/dist-packages (from alignn) (1.10.1)\n",
            "Collecting pycodestyle>=2.7.0\n",
            "  Downloading pycodestyle-2.10.0-py2.py3-none-any.whl (41 kB)\n",
            "\u001b[2K     \u001b[90m━━━━━━━━━━━━━━━━━━━━━━━━━━━━━━━━━━━━━━━━\u001b[0m \u001b[32m41.3/41.3 kB\u001b[0m \u001b[31m3.0 MB/s\u001b[0m eta \u001b[36m0:00:00\u001b[0m\n",
            "\u001b[?25hCollecting pyparsing<3,>=2.2.1\n",
            "  Downloading pyparsing-2.4.7-py2.py3-none-any.whl (67 kB)\n",
            "\u001b[2K     \u001b[90m━━━━━━━━━━━━━━━━━━━━━━━━━━━━━━━━━━━━━━━━\u001b[0m \u001b[32m67.8/67.8 kB\u001b[0m \u001b[31m3.6 MB/s\u001b[0m eta \u001b[36m0:00:00\u001b[0m\n",
            "\u001b[?25hCollecting pytorch-ignite>=0.5.0.dev20221024\n",
            "  Downloading pytorch_ignite-0.5.0.dev20230424-py3-none-any.whl (264 kB)\n",
            "\u001b[2K     \u001b[90m━━━━━━━━━━━━━━━━━━━━━━━━━━━━━━━━━━━━━━\u001b[0m \u001b[32m265.0/265.0 kB\u001b[0m \u001b[31m11.4 MB/s\u001b[0m eta \u001b[36m0:00:00\u001b[0m\n",
            "\u001b[?25hRequirement already satisfied: matplotlib>=3.4.1 in /usr/local/lib/python3.9/dist-packages (from alignn) (3.7.1)\n",
            "Requirement already satisfied: pandas>=1.2.3 in /usr/local/lib/python3.9/dist-packages (from alignn) (1.5.3)\n",
            "Collecting dgl>=0.6.0\n",
            "  Downloading dgl-1.0.1-cp39-cp39-manylinux1_x86_64.whl (5.4 MB)\n",
            "\u001b[2K     \u001b[90m━━━━━━━━━━━━━━━━━━━━━━━━━━━━━━━━━━━━━━━━\u001b[0m \u001b[32m5.4/5.4 MB\u001b[0m \u001b[31m31.3 MB/s\u001b[0m eta \u001b[36m0:00:00\u001b[0m\n",
            "\u001b[?25hCollecting flake8>=3.9.1\n",
            "  Downloading flake8-6.0.0-py2.py3-none-any.whl (57 kB)\n",
            "\u001b[2K     \u001b[90m━━━━━━━━━━━━━━━━━━━━━━━━━━━━━━━━━━━━━━━━\u001b[0m \u001b[32m57.8/57.8 kB\u001b[0m \u001b[31m4.3 MB/s\u001b[0m eta \u001b[36m0:00:00\u001b[0m\n",
            "\u001b[?25hRequirement already satisfied: tqdm>=4.60.0 in /usr/local/lib/python3.9/dist-packages (from alignn) (4.65.0)\n",
            "Requirement already satisfied: requests>=2.19.0 in /usr/local/lib/python3.9/dist-packages (from dgl>=0.6.0->alignn) (2.27.1)\n",
            "Requirement already satisfied: psutil>=5.8.0 in /usr/local/lib/python3.9/dist-packages (from dgl>=0.6.0->alignn) (5.9.5)\n",
            "Requirement already satisfied: networkx>=2.1 in /usr/local/lib/python3.9/dist-packages (from dgl>=0.6.0->alignn) (3.1)\n",
            "Collecting pyflakes<3.1.0,>=3.0.0\n",
            "  Downloading pyflakes-3.0.1-py2.py3-none-any.whl (62 kB)\n",
            "\u001b[2K     \u001b[90m━━━━━━━━━━━━━━━━━━━━━━━━━━━━━━━━━━━━━━━━\u001b[0m \u001b[32m62.8/62.8 kB\u001b[0m \u001b[31m5.2 MB/s\u001b[0m eta \u001b[36m0:00:00\u001b[0m\n",
            "\u001b[?25hCollecting mccabe<0.8.0,>=0.7.0\n",
            "  Downloading mccabe-0.7.0-py2.py3-none-any.whl (7.3 kB)\n",
            "Requirement already satisfied: joblib>=0.14.1 in /usr/local/lib/python3.9/dist-packages (from jarvis-tools>=2021.07.19->alignn) (1.2.0)\n",
            "Collecting spglib>=1.14.1\n",
            "  Downloading spglib-2.0.2-cp39-cp39-manylinux_2_17_x86_64.manylinux2014_x86_64.whl (515 kB)\n",
            "\u001b[2K     \u001b[90m━━━━━━━━━━━━━━━━━━━━━━━━━━━━━━━━━━━━━━\u001b[0m \u001b[32m515.0/515.0 kB\u001b[0m \u001b[31m26.4 MB/s\u001b[0m eta \u001b[36m0:00:00\u001b[0m\n",
            "\u001b[?25hRequirement already satisfied: toolz>=0.9.0 in /usr/local/lib/python3.9/dist-packages (from jarvis-tools>=2021.07.19->alignn) (0.12.0)\n",
            "Collecting xmltodict>=0.11.0\n",
            "  Downloading xmltodict-0.13.0-py2.py3-none-any.whl (10.0 kB)\n",
            "Requirement already satisfied: importlib-resources>=3.2.0 in /usr/local/lib/python3.9/dist-packages (from matplotlib>=3.4.1->alignn) (5.12.0)\n",
            "Requirement already satisfied: packaging>=20.0 in /usr/local/lib/python3.9/dist-packages (from matplotlib>=3.4.1->alignn) (23.1)\n",
            "Requirement already satisfied: python-dateutil>=2.7 in /usr/local/lib/python3.9/dist-packages (from matplotlib>=3.4.1->alignn) (2.8.2)\n",
            "Requirement already satisfied: cycler>=0.10 in /usr/local/lib/python3.9/dist-packages (from matplotlib>=3.4.1->alignn) (0.11.0)\n",
            "Requirement already satisfied: fonttools>=4.22.0 in /usr/local/lib/python3.9/dist-packages (from matplotlib>=3.4.1->alignn) (4.39.3)\n",
            "Requirement already satisfied: contourpy>=1.0.1 in /usr/local/lib/python3.9/dist-packages (from matplotlib>=3.4.1->alignn) (1.0.7)\n",
            "Requirement already satisfied: pillow>=6.2.0 in /usr/local/lib/python3.9/dist-packages (from matplotlib>=3.4.1->alignn) (8.4.0)\n",
            "Requirement already satisfied: kiwisolver>=1.0.1 in /usr/local/lib/python3.9/dist-packages (from matplotlib>=3.4.1->alignn) (1.4.4)\n",
            "Requirement already satisfied: pytz>=2020.1 in /usr/local/lib/python3.9/dist-packages (from pandas>=1.2.3->alignn) (2022.7.1)\n",
            "Requirement already satisfied: typing-extensions>=4.2.0 in /usr/local/lib/python3.9/dist-packages (from pydantic>=1.8.1->alignn) (4.5.0)\n",
            "Requirement already satisfied: snowballstemmer>=2.2.0 in /usr/local/lib/python3.9/dist-packages (from pydocstyle>=6.0.0->alignn) (2.2.0)\n",
            "Requirement already satisfied: threadpoolctl>=2.0.0 in /usr/local/lib/python3.9/dist-packages (from scikit-learn>=0.22.2->alignn) (3.1.0)\n",
            "Requirement already satisfied: jinja2 in /usr/local/lib/python3.9/dist-packages (from torch>=1.8->alignn) (3.1.2)\n",
            "Requirement already satisfied: filelock in /usr/local/lib/python3.9/dist-packages (from torch>=1.8->alignn) (3.11.0)\n",
            "Requirement already satisfied: triton==2.0.0 in /usr/local/lib/python3.9/dist-packages (from torch>=1.8->alignn) (2.0.0)\n",
            "Requirement already satisfied: lit in /usr/local/lib/python3.9/dist-packages (from triton==2.0.0->torch>=1.8->alignn) (16.0.1)\n",
            "Requirement already satisfied: cmake in /usr/local/lib/python3.9/dist-packages (from triton==2.0.0->torch>=1.8->alignn) (3.25.2)\n",
            "Collecting uncertainties>=3.1.4\n",
            "  Downloading uncertainties-3.1.7-py2.py3-none-any.whl (98 kB)\n",
            "\u001b[2K     \u001b[90m━━━━━━━━━━━━━━━━━━━━━━━━━━━━━━━━━━━━━━━━\u001b[0m \u001b[32m98.4/98.4 kB\u001b[0m \u001b[31m7.9 MB/s\u001b[0m eta \u001b[36m0:00:00\u001b[0m\n",
            "\u001b[?25hCollecting mp-api>=0.27.3\n",
            "  Downloading mp_api-0.32.0-py3-none-any.whl (74 kB)\n",
            "\u001b[2K     \u001b[90m━━━━━━━━━━━━━━━━━━━━━━━━━━━━━━━━━━━━━━━━\u001b[0m \u001b[32m74.2/74.2 kB\u001b[0m \u001b[31m5.5 MB/s\u001b[0m eta \u001b[36m0:00:00\u001b[0m\n",
            "\u001b[?25hCollecting pybtex\n",
            "  Downloading pybtex-0.24.0-py2.py3-none-any.whl (561 kB)\n",
            "\u001b[2K     \u001b[90m━━━━━━━━━━━━━━━━━━━━━━━━━━━━━━━━━━━━━━\u001b[0m \u001b[32m561.4/561.4 kB\u001b[0m \u001b[31m35.2 MB/s\u001b[0m eta \u001b[36m0:00:00\u001b[0m\n",
            "\u001b[?25hRequirement already satisfied: plotly>=4.5.0 in /usr/local/lib/python3.9/dist-packages (from pymatgen->m3gnet) (5.13.1)\n",
            "Requirement already satisfied: palettable>=3.1.1 in /usr/local/lib/python3.9/dist-packages (from pymatgen->m3gnet) (3.3.2)\n",
            "Collecting ruamel.yaml>=0.17.0\n",
            "  Downloading ruamel.yaml-0.17.21-py3-none-any.whl (109 kB)\n",
            "\u001b[2K     \u001b[90m━━━━━━━━━━━━━━━━━━━━━━━━━━━━━━━━━━━━━━━\u001b[0m \u001b[32m109.5/109.5 kB\u001b[0m \u001b[31m2.1 MB/s\u001b[0m eta \u001b[36m0:00:00\u001b[0m\n",
            "\u001b[?25hRequirement already satisfied: tabulate in /usr/local/lib/python3.9/dist-packages (from pymatgen->m3gnet) (0.8.10)\n",
            "Requirement already satisfied: mpmath>=0.19 in /usr/local/lib/python3.9/dist-packages (from sympy->m3gnet) (1.3.0)\n",
            "Requirement already satisfied: opt-einsum>=2.3.2 in /usr/local/lib/python3.9/dist-packages (from tensorflow->m3gnet) (3.3.0)\n",
            "Requirement already satisfied: google-pasta>=0.1.1 in /usr/local/lib/python3.9/dist-packages (from tensorflow->m3gnet) (0.2.0)\n",
            "Requirement already satisfied: wrapt<1.15,>=1.11.0 in /usr/local/lib/python3.9/dist-packages (from tensorflow->m3gnet) (1.14.1)\n",
            "Requirement already satisfied: protobuf!=4.21.0,!=4.21.1,!=4.21.2,!=4.21.3,!=4.21.4,!=4.21.5,<5.0.0dev,>=3.20.3 in /usr/local/lib/python3.9/dist-packages (from tensorflow->m3gnet) (3.20.3)\n",
            "Requirement already satisfied: absl-py>=1.0.0 in /usr/local/lib/python3.9/dist-packages (from tensorflow->m3gnet) (1.4.0)\n",
            "Requirement already satisfied: jax>=0.3.15 in /usr/local/lib/python3.9/dist-packages (from tensorflow->m3gnet) (0.4.8)\n",
            "Requirement already satisfied: h5py>=2.9.0 in /usr/local/lib/python3.9/dist-packages (from tensorflow->m3gnet) (3.8.0)\n",
            "Requirement already satisfied: astunparse>=1.6.0 in /usr/local/lib/python3.9/dist-packages (from tensorflow->m3gnet) (1.6.3)\n",
            "Requirement already satisfied: six>=1.12.0 in /usr/local/lib/python3.9/dist-packages (from tensorflow->m3gnet) (1.16.0)\n",
            "Requirement already satisfied: libclang>=13.0.0 in /usr/local/lib/python3.9/dist-packages (from tensorflow->m3gnet) (16.0.0)\n",
            "Requirement already satisfied: grpcio<2.0,>=1.24.3 in /usr/local/lib/python3.9/dist-packages (from tensorflow->m3gnet) (1.53.0)\n",
            "Requirement already satisfied: termcolor>=1.1.0 in /usr/local/lib/python3.9/dist-packages (from tensorflow->m3gnet) (2.2.0)\n",
            "Requirement already satisfied: tensorflow-estimator<2.13,>=2.12.0 in /usr/local/lib/python3.9/dist-packages (from tensorflow->m3gnet) (2.12.0)\n",
            "Requirement already satisfied: flatbuffers>=2.0 in /usr/local/lib/python3.9/dist-packages (from tensorflow->m3gnet) (23.3.3)\n",
            "Requirement already satisfied: tensorboard<2.13,>=2.12 in /usr/local/lib/python3.9/dist-packages (from tensorflow->m3gnet) (2.12.2)\n",
            "Requirement already satisfied: gast<=0.4.0,>=0.2.1 in /usr/local/lib/python3.9/dist-packages (from tensorflow->m3gnet) (0.4.0)\n",
            "Requirement already satisfied: tensorflow-io-gcs-filesystem>=0.23.1 in /usr/local/lib/python3.9/dist-packages (from tensorflow->m3gnet) (0.32.0)\n",
            "Requirement already satisfied: setuptools in /usr/local/lib/python3.9/dist-packages (from tensorflow->m3gnet) (67.6.1)\n",
            "Requirement already satisfied: keras<2.13,>=2.12.0 in /usr/local/lib/python3.9/dist-packages (from tensorflow->m3gnet) (2.12.0)\n",
            "Requirement already satisfied: wheel<1.0,>=0.23.0 in /usr/local/lib/python3.9/dist-packages (from astunparse>=1.6.0->tensorflow->m3gnet) (0.40.0)\n",
            "Requirement already satisfied: zipp>=3.1.0 in /usr/local/lib/python3.9/dist-packages (from importlib-resources>=3.2.0->matplotlib>=3.4.1->alignn) (3.15.0)\n",
            "Requirement already satisfied: ml-dtypes>=0.0.3 in /usr/local/lib/python3.9/dist-packages (from jax>=0.3.15->tensorflow->m3gnet) (0.1.0)\n",
            "Collecting emmet-core<=0.50.0\n",
            "  Downloading emmet_core-0.50.0-py3-none-any.whl (137 kB)\n",
            "\u001b[2K     \u001b[90m━━━━━━━━━━━━━━━━━━━━━━━━━━━━━━━━━━━━━━━\u001b[0m \u001b[32m137.5/137.5 kB\u001b[0m \u001b[31m9.9 MB/s\u001b[0m eta \u001b[36m0:00:00\u001b[0m\n",
            "\u001b[?25hRequirement already satisfied: msgpack in /usr/local/lib/python3.9/dist-packages (from mp-api>=0.27.3->pymatgen->m3gnet) (1.0.5)\n",
            "Requirement already satisfied: tenacity>=6.2.0 in /usr/local/lib/python3.9/dist-packages (from plotly>=4.5.0->pymatgen->m3gnet) (8.2.2)\n",
            "Requirement already satisfied: charset-normalizer~=2.0.0 in /usr/local/lib/python3.9/dist-packages (from requests>=2.19.0->dgl>=0.6.0->alignn) (2.0.12)\n",
            "Requirement already satisfied: idna<4,>=2.5 in /usr/local/lib/python3.9/dist-packages (from requests>=2.19.0->dgl>=0.6.0->alignn) (3.4)\n",
            "Requirement already satisfied: certifi>=2017.4.17 in /usr/local/lib/python3.9/dist-packages (from requests>=2.19.0->dgl>=0.6.0->alignn) (2022.12.7)\n",
            "Requirement already satisfied: urllib3<1.27,>=1.21.1 in /usr/local/lib/python3.9/dist-packages (from requests>=2.19.0->dgl>=0.6.0->alignn) (1.26.15)\n",
            "Collecting ruamel.yaml.clib>=0.2.6\n",
            "  Downloading ruamel.yaml.clib-0.2.7-cp39-cp39-manylinux_2_17_x86_64.manylinux2014_x86_64.manylinux_2_24_x86_64.whl (519 kB)\n",
            "\u001b[2K     \u001b[90m━━━━━━━━━━━━━━━━━━━━━━━━━━━━━━━━━━━━━━\u001b[0m \u001b[32m519.4/519.4 kB\u001b[0m \u001b[31m28.1 MB/s\u001b[0m eta \u001b[36m0:00:00\u001b[0m\n",
            "\u001b[?25hRequirement already satisfied: google-auth<3,>=1.6.3 in /usr/local/lib/python3.9/dist-packages (from tensorboard<2.13,>=2.12->tensorflow->m3gnet) (2.17.3)\n",
            "Requirement already satisfied: tensorboard-data-server<0.8.0,>=0.7.0 in /usr/local/lib/python3.9/dist-packages (from tensorboard<2.13,>=2.12->tensorflow->m3gnet) (0.7.0)\n",
            "Requirement already satisfied: werkzeug>=1.0.1 in /usr/local/lib/python3.9/dist-packages (from tensorboard<2.13,>=2.12->tensorflow->m3gnet) (2.2.3)\n",
            "Requirement already satisfied: tensorboard-plugin-wit>=1.6.0 in /usr/local/lib/python3.9/dist-packages (from tensorboard<2.13,>=2.12->tensorflow->m3gnet) (1.8.1)\n",
            "Requirement already satisfied: google-auth-oauthlib<1.1,>=0.5 in /usr/local/lib/python3.9/dist-packages (from tensorboard<2.13,>=2.12->tensorflow->m3gnet) (1.0.0)\n",
            "Requirement already satisfied: markdown>=2.6.8 in /usr/local/lib/python3.9/dist-packages (from tensorboard<2.13,>=2.12->tensorflow->m3gnet) (3.4.3)\n",
            "Requirement already satisfied: future in /usr/local/lib/python3.9/dist-packages (from uncertainties>=3.1.4->pymatgen->m3gnet) (0.18.3)\n",
            "Requirement already satisfied: MarkupSafe>=2.0 in /usr/local/lib/python3.9/dist-packages (from jinja2->torch>=1.8->alignn) (2.1.2)\n",
            "Requirement already satisfied: PyYAML>=3.01 in /usr/local/lib/python3.9/dist-packages (from pybtex->pymatgen->m3gnet) (6.0)\n",
            "Collecting latexcodec>=1.0.4\n",
            "  Downloading latexcodec-2.0.1-py2.py3-none-any.whl (18 kB)\n",
            "Requirement already satisfied: cachetools<6.0,>=2.0.0 in /usr/local/lib/python3.9/dist-packages (from google-auth<3,>=1.6.3->tensorboard<2.13,>=2.12->tensorflow->m3gnet) (5.3.0)\n",
            "Requirement already satisfied: rsa<5,>=3.1.4 in /usr/local/lib/python3.9/dist-packages (from google-auth<3,>=1.6.3->tensorboard<2.13,>=2.12->tensorflow->m3gnet) (4.9)\n",
            "Requirement already satisfied: pyasn1-modules>=0.2.1 in /usr/local/lib/python3.9/dist-packages (from google-auth<3,>=1.6.3->tensorboard<2.13,>=2.12->tensorflow->m3gnet) (0.2.8)\n",
            "Requirement already satisfied: requests-oauthlib>=0.7.0 in /usr/local/lib/python3.9/dist-packages (from google-auth-oauthlib<1.1,>=0.5->tensorboard<2.13,>=2.12->tensorflow->m3gnet) (1.3.1)\n",
            "Requirement already satisfied: importlib-metadata>=4.4 in /usr/local/lib/python3.9/dist-packages (from markdown>=2.6.8->tensorboard<2.13,>=2.12->tensorflow->m3gnet) (6.4.1)\n",
            "Requirement already satisfied: pyasn1<0.5.0,>=0.4.6 in /usr/local/lib/python3.9/dist-packages (from pyasn1-modules>=0.2.1->google-auth<3,>=1.6.3->tensorboard<2.13,>=2.12->tensorflow->m3gnet) (0.4.8)\n",
            "Requirement already satisfied: oauthlib>=3.0.0 in /usr/local/lib/python3.9/dist-packages (from requests-oauthlib>=0.7.0->google-auth-oauthlib<1.1,>=0.5->tensorboard<2.13,>=2.12->tensorflow->m3gnet) (3.2.2)\n",
            "Installing collected packages: xmltodict, uncertainties, spglib, ruamel.yaml.clib, pyparsing, pyflakes, pydocstyle, pycodestyle, monty, mccabe, latexcodec, ruamel.yaml, pybtex, flake8, dgl, jarvis-tools, ase, emmet-core, mp-api, pytorch-ignite, pymatgen, m3gnet, alignn\n",
            "  Attempting uninstall: pyparsing\n",
            "    Found existing installation: pyparsing 3.0.9\n",
            "    Uninstalling pyparsing-3.0.9:\n",
            "      Successfully uninstalled pyparsing-3.0.9\n",
            "Successfully installed alignn-2023.4.1 ase-3.22.1 dgl-1.0.1 emmet-core-0.50.0 flake8-6.0.0 jarvis-tools-2023.4.6 latexcodec-2.0.1 m3gnet-0.2.4 mccabe-0.7.0 monty-2023.4.10 mp-api-0.32.0 pybtex-0.24.0 pycodestyle-2.10.0 pydocstyle-6.3.0 pyflakes-3.0.1 pymatgen-2023.3.23 pyparsing-2.4.7 pytorch-ignite-0.5.0.dev20230424 ruamel.yaml-0.17.21 ruamel.yaml.clib-0.2.7 spglib-2.0.2 uncertainties-3.1.7 xmltodict-0.13.0\n"
          ]
        },
        {
          "output_type": "display_data",
          "data": {
            "application/vnd.colab-display-data+json": {
              "pip_warning": {
                "packages": [
                  "pyparsing"
                ]
              }
            }
          },
          "metadata": {}
        }
      ],
      "source": [
        "!pip install m3gnet alignn"
      ]
    },
    {
      "cell_type": "code",
      "source": [
        "import traceback\n",
        "import warnings\n",
        "\n",
        "import numpy as np\n",
        "import pandas as pd\n",
        "from pymatgen.core import Composition, Lattice, Structure\n",
        "#from pymatgen.ext.matproj import MPRester\n",
        "from pymatgen.ext.matproj import _MPResterLegacy as MPRester\n",
        "from pymatgen.symmetry.analyzer import SpacegroupAnalyzer\n",
        "from tqdm import tqdm\n",
        "\n",
        "from m3gnet.models import Relaxer\n",
        "\n",
        "for category in (UserWarning, DeprecationWarning):\n",
        "    warnings.filterwarnings(\"ignore\", category=category, module=\"tensorflow\")\n",
        "    warnings.filterwarnings(\"ignore\", category=category, module=\"pymatgen\")"
      ],
      "metadata": {
        "id": "NJVJCR96ghzJ"
      },
      "execution_count": 7,
      "outputs": []
    },
    {
      "cell_type": "code",
      "source": [
        "data = pd.read_html(\"http://en.wikipedia.org/wiki/Lattice_constant\")[0]"
      ],
      "metadata": {
        "id": "PG7r4yAmiGIo"
      },
      "execution_count": 75,
      "outputs": []
    },
    {
      "cell_type": "code",
      "source": [
        "data"
      ],
      "metadata": {
        "colab": {
          "base_uri": "https://localhost:8080/",
          "height": 423
        },
        "id": "VqfwwKDhiuqt",
        "outputId": "b947987d-201e-40d8-d0df-151a1c8efcc6"
      },
      "execution_count": 78,
      "outputs": [
        {
          "output_type": "execute_result",
          "data": {
            "text/plain": [
              "        Material          Lattice constant (Å)        Crystal structure  \\\n",
              "0    C (diamond)                         3.567            Diamond (FCC)   \n",
              "1   C (graphite)           a = 2.461 c = 6.708                Hexagonal   \n",
              "2             Si                   5.431020511            Diamond (FCC)   \n",
              "3             Ge                         5.658            Diamond (FCC)   \n",
              "4           AlAs                        5.6605        Zinc blende (FCC)   \n",
              "..           ...                           ...                      ...   \n",
              "86         CaVO3                         3.767         Cubic perovskite   \n",
              "87        BaMnO3            a = 5.673 c = 4.71                Hexagonal   \n",
              "88        CaMnO3  a = 5.27 b = 5.275 c = 7.464  Orthorhombic perovskite   \n",
              "89        SrRuO3    a = 5.53 b = 5.57 c = 7.85  Orthorhombic perovskite   \n",
              "90         YAlO3  a = 5.179 b = 5.329 c = 7.37  Orthorhombic perovskite   \n",
              "\n",
              "      Ref.  \n",
              "0      [7]  \n",
              "1      NaN  \n",
              "2   [8][9]  \n",
              "3      [8]  \n",
              "4      [8]  \n",
              "..     ...  \n",
              "86    [15]  \n",
              "87    [15]  \n",
              "88    [15]  \n",
              "89    [15]  \n",
              "90    [15]  \n",
              "\n",
              "[91 rows x 4 columns]"
            ],
            "text/html": [
              "\n",
              "  <div id=\"df-a9fbf376-241b-48d9-9ccb-26c1b93769e7\">\n",
              "    <div class=\"colab-df-container\">\n",
              "      <div>\n",
              "<style scoped>\n",
              "    .dataframe tbody tr th:only-of-type {\n",
              "        vertical-align: middle;\n",
              "    }\n",
              "\n",
              "    .dataframe tbody tr th {\n",
              "        vertical-align: top;\n",
              "    }\n",
              "\n",
              "    .dataframe thead th {\n",
              "        text-align: right;\n",
              "    }\n",
              "</style>\n",
              "<table border=\"1\" class=\"dataframe\">\n",
              "  <thead>\n",
              "    <tr style=\"text-align: right;\">\n",
              "      <th></th>\n",
              "      <th>Material</th>\n",
              "      <th>Lattice constant (Å)</th>\n",
              "      <th>Crystal structure</th>\n",
              "      <th>Ref.</th>\n",
              "    </tr>\n",
              "  </thead>\n",
              "  <tbody>\n",
              "    <tr>\n",
              "      <th>0</th>\n",
              "      <td>C (diamond)</td>\n",
              "      <td>3.567</td>\n",
              "      <td>Diamond (FCC)</td>\n",
              "      <td>[7]</td>\n",
              "    </tr>\n",
              "    <tr>\n",
              "      <th>1</th>\n",
              "      <td>C (graphite)</td>\n",
              "      <td>a = 2.461 c = 6.708</td>\n",
              "      <td>Hexagonal</td>\n",
              "      <td>NaN</td>\n",
              "    </tr>\n",
              "    <tr>\n",
              "      <th>2</th>\n",
              "      <td>Si</td>\n",
              "      <td>5.431020511</td>\n",
              "      <td>Diamond (FCC)</td>\n",
              "      <td>[8][9]</td>\n",
              "    </tr>\n",
              "    <tr>\n",
              "      <th>3</th>\n",
              "      <td>Ge</td>\n",
              "      <td>5.658</td>\n",
              "      <td>Diamond (FCC)</td>\n",
              "      <td>[8]</td>\n",
              "    </tr>\n",
              "    <tr>\n",
              "      <th>4</th>\n",
              "      <td>AlAs</td>\n",
              "      <td>5.6605</td>\n",
              "      <td>Zinc blende (FCC)</td>\n",
              "      <td>[8]</td>\n",
              "    </tr>\n",
              "    <tr>\n",
              "      <th>...</th>\n",
              "      <td>...</td>\n",
              "      <td>...</td>\n",
              "      <td>...</td>\n",
              "      <td>...</td>\n",
              "    </tr>\n",
              "    <tr>\n",
              "      <th>86</th>\n",
              "      <td>CaVO3</td>\n",
              "      <td>3.767</td>\n",
              "      <td>Cubic perovskite</td>\n",
              "      <td>[15]</td>\n",
              "    </tr>\n",
              "    <tr>\n",
              "      <th>87</th>\n",
              "      <td>BaMnO3</td>\n",
              "      <td>a = 5.673 c = 4.71</td>\n",
              "      <td>Hexagonal</td>\n",
              "      <td>[15]</td>\n",
              "    </tr>\n",
              "    <tr>\n",
              "      <th>88</th>\n",
              "      <td>CaMnO3</td>\n",
              "      <td>a = 5.27 b = 5.275 c = 7.464</td>\n",
              "      <td>Orthorhombic perovskite</td>\n",
              "      <td>[15]</td>\n",
              "    </tr>\n",
              "    <tr>\n",
              "      <th>89</th>\n",
              "      <td>SrRuO3</td>\n",
              "      <td>a = 5.53 b = 5.57 c = 7.85</td>\n",
              "      <td>Orthorhombic perovskite</td>\n",
              "      <td>[15]</td>\n",
              "    </tr>\n",
              "    <tr>\n",
              "      <th>90</th>\n",
              "      <td>YAlO3</td>\n",
              "      <td>a = 5.179 b = 5.329 c = 7.37</td>\n",
              "      <td>Orthorhombic perovskite</td>\n",
              "      <td>[15]</td>\n",
              "    </tr>\n",
              "  </tbody>\n",
              "</table>\n",
              "<p>91 rows × 4 columns</p>\n",
              "</div>\n",
              "      <button class=\"colab-df-convert\" onclick=\"convertToInteractive('df-a9fbf376-241b-48d9-9ccb-26c1b93769e7')\"\n",
              "              title=\"Convert this dataframe to an interactive table.\"\n",
              "              style=\"display:none;\">\n",
              "        \n",
              "  <svg xmlns=\"http://www.w3.org/2000/svg\" height=\"24px\"viewBox=\"0 0 24 24\"\n",
              "       width=\"24px\">\n",
              "    <path d=\"M0 0h24v24H0V0z\" fill=\"none\"/>\n",
              "    <path d=\"M18.56 5.44l.94 2.06.94-2.06 2.06-.94-2.06-.94-.94-2.06-.94 2.06-2.06.94zm-11 1L8.5 8.5l.94-2.06 2.06-.94-2.06-.94L8.5 2.5l-.94 2.06-2.06.94zm10 10l.94 2.06.94-2.06 2.06-.94-2.06-.94-.94-2.06-.94 2.06-2.06.94z\"/><path d=\"M17.41 7.96l-1.37-1.37c-.4-.4-.92-.59-1.43-.59-.52 0-1.04.2-1.43.59L10.3 9.45l-7.72 7.72c-.78.78-.78 2.05 0 2.83L4 21.41c.39.39.9.59 1.41.59.51 0 1.02-.2 1.41-.59l7.78-7.78 2.81-2.81c.8-.78.8-2.07 0-2.86zM5.41 20L4 18.59l7.72-7.72 1.47 1.35L5.41 20z\"/>\n",
              "  </svg>\n",
              "      </button>\n",
              "      \n",
              "  <style>\n",
              "    .colab-df-container {\n",
              "      display:flex;\n",
              "      flex-wrap:wrap;\n",
              "      gap: 12px;\n",
              "    }\n",
              "\n",
              "    .colab-df-convert {\n",
              "      background-color: #E8F0FE;\n",
              "      border: none;\n",
              "      border-radius: 50%;\n",
              "      cursor: pointer;\n",
              "      display: none;\n",
              "      fill: #1967D2;\n",
              "      height: 32px;\n",
              "      padding: 0 0 0 0;\n",
              "      width: 32px;\n",
              "    }\n",
              "\n",
              "    .colab-df-convert:hover {\n",
              "      background-color: #E2EBFA;\n",
              "      box-shadow: 0px 1px 2px rgba(60, 64, 67, 0.3), 0px 1px 3px 1px rgba(60, 64, 67, 0.15);\n",
              "      fill: #174EA6;\n",
              "    }\n",
              "\n",
              "    [theme=dark] .colab-df-convert {\n",
              "      background-color: #3B4455;\n",
              "      fill: #D2E3FC;\n",
              "    }\n",
              "\n",
              "    [theme=dark] .colab-df-convert:hover {\n",
              "      background-color: #434B5C;\n",
              "      box-shadow: 0px 1px 3px 1px rgba(0, 0, 0, 0.15);\n",
              "      filter: drop-shadow(0px 1px 2px rgba(0, 0, 0, 0.3));\n",
              "      fill: #FFFFFF;\n",
              "    }\n",
              "  </style>\n",
              "\n",
              "      <script>\n",
              "        const buttonEl =\n",
              "          document.querySelector('#df-a9fbf376-241b-48d9-9ccb-26c1b93769e7 button.colab-df-convert');\n",
              "        buttonEl.style.display =\n",
              "          google.colab.kernel.accessAllowed ? 'block' : 'none';\n",
              "\n",
              "        async function convertToInteractive(key) {\n",
              "          const element = document.querySelector('#df-a9fbf376-241b-48d9-9ccb-26c1b93769e7');\n",
              "          const dataTable =\n",
              "            await google.colab.kernel.invokeFunction('convertToInteractive',\n",
              "                                                     [key], {});\n",
              "          if (!dataTable) return;\n",
              "\n",
              "          const docLinkHtml = 'Like what you see? Visit the ' +\n",
              "            '<a target=\"_blank\" href=https://colab.research.google.com/notebooks/data_table.ipynb>data table notebook</a>'\n",
              "            + ' to learn more about interactive tables.';\n",
              "          element.innerHTML = '';\n",
              "          dataTable['output_type'] = 'display_data';\n",
              "          await google.colab.output.renderOutput(dataTable, element);\n",
              "          const docLink = document.createElement('div');\n",
              "          docLink.innerHTML = docLinkHtml;\n",
              "          element.appendChild(docLink);\n",
              "        }\n",
              "      </script>\n",
              "    </div>\n",
              "  </div>\n",
              "  "
            ]
          },
          "metadata": {},
          "execution_count": 78
        }
      ]
    },
    {
      "cell_type": "code",
      "source": [
        "\n",
        "data = data[\n",
        "    ~data[\"Crystal structure\"].isin(\n",
        "        [\"Hexagonal\", \"Wurtzite\", \"Wurtzite (HCP)\", \"Orthorhombic\", \"Tetragonal perovskite\", \"Orthorhombic perovskite\"]\n",
        "    )\n",
        "]\n",
        "data.rename(columns={\"Lattice constant (Å)\": \"a (Å)\"}, inplace=True)\n",
        "\n",
        "data[\"a (Å)\"] = data[\"a (Å)\"].map(float)\n",
        "\n",
        "\n",
        "additional_fcc = \"\"\"10 Ne 4.43 54 Xe 6.20\n",
        "13 Al 4.05 58 Ce 5.16\n",
        "18 Ar 5.26 70 Yb 5.49\n",
        "20 Ca 5.58 77 Ir 3.84\n",
        "28 Ni 3.52 78 Pt 3.92\n",
        "29 Cu 3.61 79 Au 4.08\n",
        "36 Kr 5.72 82 Pb 4.95\n",
        "38 Sr 6.08 47 Ag 4.09\n",
        "45 Rh 3.80 89 Ac 5.31\n",
        "46 Pd 3.89 90 Th 5.08\"\"\"\n",
        "\n",
        "additional_bcc = \"\"\"3 Li 3.49 42 Mo 3.15\n",
        "11 Na 4.23 55 Cs 6.05\n",
        "19 K 5.23 56 Ba 5.02\n",
        "23 V 3.02 63 Eu 4.61\n",
        "24 Cr 2.88 73 Ta 3.31\n",
        "26 Fe 2.87 74 W 3.16\n",
        "37 Rb 5.59 41 Nb 3.30\"\"\"\n",
        "def add_new(str_, structure_type, df):\n",
        "    tokens = str_.split()\n",
        "    new_crystals = []\n",
        "    for i in range(int(len(tokens) / 3)):\n",
        "        el = tokens[3 * i + 1].strip()\n",
        "        if el not in df[\"Material\"].values:\n",
        "            new_crystals.append([tokens[3 * i + 1], structure_type, float(tokens[3 * i + 2])])\n",
        "    df2 = pd.DataFrame(new_crystals, columns=data.columns)\n",
        "    return pd.concat([df, df2])\n",
        "\n",
        "\n",
        "# data = add_new(additional_fcc, \"FCC\", data)\n",
        "# data = add_new(additional_bcc, \"BCC\", data)\n",
        "# data.set_index(\"Material\", inplace=True)\n",
        "print(data)"
      ],
      "metadata": {
        "colab": {
          "base_uri": "https://localhost:8080/"
        },
        "id": "t_PhIF8EgwLJ",
        "outputId": "3cae204a-6dd1-49b9-a85e-a64a81c3cd73"
      },
      "execution_count": 79,
      "outputs": [
        {
          "output_type": "stream",
          "name": "stdout",
          "text": [
            "       Material     a (Å)  Crystal structure    Ref.\n",
            "0   C (diamond)  3.567000      Diamond (FCC)     [7]\n",
            "2            Si  5.431021      Diamond (FCC)  [8][9]\n",
            "3            Ge  5.658000      Diamond (FCC)     [8]\n",
            "4          AlAs  5.660500  Zinc blende (FCC)     [8]\n",
            "5           AlP  5.451000  Zinc blende (FCC)     [8]\n",
            "..          ...       ...                ...     ...\n",
            "79        KTaO3  3.988500   Cubic perovskite    [15]\n",
            "81       SrTiO3  3.988050   Cubic perovskite    [15]\n",
            "84       EuTiO3  7.810000   Cubic perovskite    [15]\n",
            "85        SrVO3  3.838000   Cubic perovskite    [15]\n",
            "86        CaVO3  3.767000   Cubic perovskite    [15]\n",
            "\n",
            "[73 rows x 4 columns]\n"
          ]
        },
        {
          "output_type": "stream",
          "name": "stderr",
          "text": [
            "<ipython-input-79-08c8062c8bd3>:6: SettingWithCopyWarning: \n",
            "A value is trying to be set on a copy of a slice from a DataFrame\n",
            "\n",
            "See the caveats in the documentation: https://pandas.pydata.org/pandas-docs/stable/user_guide/indexing.html#returning-a-view-versus-a-copy\n",
            "  data.rename(columns={\"Lattice constant (Å)\": \"a (Å)\"}, inplace=True)\n",
            "<ipython-input-79-08c8062c8bd3>:8: SettingWithCopyWarning: \n",
            "A value is trying to be set on a copy of a slice from a DataFrame.\n",
            "Try using .loc[row_indexer,col_indexer] = value instead\n",
            "\n",
            "See the caveats in the documentation: https://pandas.pydata.org/pandas-docs/stable/user_guide/indexing.html#returning-a-view-versus-a-copy\n",
            "  data[\"a (Å)\"] = data[\"a (Å)\"].map(float)\n"
          ]
        }
      ]
    },
    {
      "cell_type": "markdown",
      "source": [
        "Setting 5 Angstrom lattice constant to all crystals"
      ],
      "metadata": {
        "id": "FzoHZDPjo7dF"
      }
    },
    {
      "cell_type": "code",
      "source": [
        "MAPI_KEY_LEGACY = '' #Optional, keep your MAPI_LEGACY_KEY here\n",
        "predicted = []\n",
        "mp = []\n",
        "mpr = MPRester(MAPI_KEY_LEGACY)\n",
        "relaxer = Relaxer()  # This loads the default pre-trained model\n",
        "\n",
        "# warnings.filterwarnings(action=\"ignore\", category=UserWarning, module=\"tensorflow\")\n",
        "currently_m3gnet_failing = ['CsCl','CsI','Fe','Mo','W','V','Nb','Ta','Ne','CaVO3','Xe','Ar','Yb','Kr','Sr','Ac','Li','Na','Cs','K','Ba','Eu','Cr','Rb',\"NC0.99\"]\n",
        "\n",
        "#for formula, v in tqdm(data.iterrows(), total=len(data)):\n",
        "for ii,i in tqdm(data.iterrows(), total=len(data)):\n",
        "  #M3gnet failing so skipping these\n",
        "  formula=i['Material']\n",
        "  if formula not in currently_m3gnet_failing: \n",
        "    formula = formula.split()[0]\n",
        "    c = Composition(formula)\n",
        "    els = sorted(c.elements)\n",
        "    #cs = v[\"Crystal structure\"]\n",
        "    cs = i[\"Crystal structure\"]\n",
        "    # We initialize all the crystals with an arbitrary lattice constant of 5 angstroms.\n",
        "    if \"Zinc blende\" in cs:\n",
        "        s = Structure.from_spacegroup(\"F-43m\", Lattice.cubic(5), [els[0], els[1]], [[0, 0, 0], [0.25, 0.25, 0.75]])\n",
        "    elif \"Halite\" in cs:\n",
        "        s = Structure.from_spacegroup(\"Fm-3m\", Lattice.cubic(5), [els[0], els[1]], [[0, 0, 0], [0.5, 0, 0]])\n",
        "    elif \"Caesium chloride\" in cs:\n",
        "        s = Structure.from_spacegroup(\"Pm-3m\", Lattice.cubic(5), [els[0], els[1]], [[0, 0, 0], [0.5, 0.5, 0.5]])\n",
        "    elif \"Cubic perovskite\" in cs:\n",
        "        s = Structure(\n",
        "            Lattice.cubic(5),\n",
        "            [els[0], els[1], els[2], els[2], els[2]],\n",
        "            [[0.0, 0.0, 0.0], [0.5, 0.5, 0.5], [0.5, 0.5, 0], [0.0, 0.5, 0.5], [0.5, 0, 0.5]],\n",
        "        )\n",
        "    elif \"Diamond\" in cs:\n",
        "        s = Structure.from_spacegroup(\"Fd-3m\", Lattice.cubic(5), [els[0]], [[0.25, 0.75, 0.25]])\n",
        "    elif \"BCC\" in cs:\n",
        "        s = Structure(Lattice.cubic(5), [els[0]] * 2, [[0.0, 0.0, 0.0], [0.5, 0.5, 0.5]])\n",
        "    elif \"FCC\" in cs:\n",
        "        s = Structure(Lattice.cubic(5), [els[0]] * 4, [[0.0, 0.0, 0.0], [0.5, 0.5, 0], [0.0, 0.5, 0.5], [0.5, 0, 0.5]])\n",
        "    else:\n",
        "        predicted.append(0)\n",
        "        mp.append(0)\n",
        "        continue\n",
        "    print(s)\n",
        "    relax_results = relaxer.relax(s)\n",
        "\n",
        "    final_structure = relax_results[\"final_structure\"]\n",
        "\n",
        "    predicted.append(final_structure.lattice.a)\n",
        "    print('\\nInitial,final,formula',5,final_structure.lattice.a,formula)\n",
        "    #break\n",
        "    try:\n",
        "        mids = mpr.get_entries(s.composition.reduced_formula)\n",
        "        for i in mids:\n",
        "            try:\n",
        "                structure = mpr.get_structure_by_material_id(i.entry_id)\n",
        "                sga = SpacegroupAnalyzer(structure)\n",
        "                sga2 = SpacegroupAnalyzer(final_structure)\n",
        "                if sga.get_space_group_number() == sga2.get_space_group_number():\n",
        "                    conv = sga.get_conventional_standard_structure()\n",
        "                    mp.append(conv.lattice.a)\n",
        "                    break\n",
        "            except Exception:\n",
        "                pass\n",
        "        else:\n",
        "            raise RuntimeError\n",
        "    except Exception:\n",
        "        mp.append(0)\n",
        "        traceback.print_exc()\n"
      ],
      "metadata": {
        "colab": {
          "base_uri": "https://localhost:8080/"
        },
        "id": "N3zPiuyihlcA",
        "outputId": "4cb19cfc-d8cc-411f-f756-898740047a5f"
      },
      "execution_count": 97,
      "outputs": [
        {
          "output_type": "stream",
          "name": "stderr",
          "text": [
            "\r  0%|          | 0/73 [00:00<?, ?it/s]"
          ]
        },
        {
          "output_type": "stream",
          "name": "stdout",
          "text": [
            "Full Formula (C8)\n",
            "Reduced Formula: C\n",
            "abc   :   5.000000   5.000000   5.000000\n",
            "angles:  90.000000  90.000000  90.000000\n",
            "pbc   :       True       True       True\n",
            "Sites (8)\n",
            "  #  SP       a     b     c\n",
            "---  ----  ----  ----  ----\n",
            "  0  C     0.25  0.25  0.75\n",
            "  1  C     0     0.5   0\n",
            "  2  C     0.75  0.75  0.75\n",
            "  3  C     0.5   0.5   0.5\n",
            "  4  C     0.75  0.25  0.25\n",
            "  5  C     0.5   0     0\n",
            "  6  C     0     0     0.5\n",
            "  7  C     0.25  0.75  0.25\n"
          ]
        },
        {
          "output_type": "stream",
          "name": "stderr",
          "text": [
            "WARNING:tensorflow:You are casting an input of type complex64 to an incompatible dtype float32.  This will discard the imaginary part and may not be what you intended.\n",
            "WARNING:tensorflow:You are casting an input of type complex64 to an incompatible dtype float32.  This will discard the imaginary part and may not be what you intended.\n",
            "WARNING:tensorflow:You are casting an input of type complex64 to an incompatible dtype float32.  This will discard the imaginary part and may not be what you intended.\n",
            "WARNING:tensorflow:You are casting an input of type complex64 to an incompatible dtype float32.  This will discard the imaginary part and may not be what you intended.\n",
            "WARNING:tensorflow:You are casting an input of type complex64 to an incompatible dtype float32.  This will discard the imaginary part and may not be what you intended.\n"
          ]
        },
        {
          "output_type": "stream",
          "name": "stdout",
          "text": [
            "\n",
            "Initial,final,formula 5 3.5718039756536863 C\n"
          ]
        },
        {
          "output_type": "stream",
          "name": "stderr",
          "text": [
            "\r  1%|▏         | 1/73 [00:16<19:25, 16.18s/it]"
          ]
        },
        {
          "output_type": "stream",
          "name": "stdout",
          "text": [
            "Full Formula (Si8)\n",
            "Reduced Formula: Si\n",
            "abc   :   5.000000   5.000000   5.000000\n",
            "angles:  90.000000  90.000000  90.000000\n",
            "pbc   :       True       True       True\n",
            "Sites (8)\n",
            "  #  SP       a     b     c\n",
            "---  ----  ----  ----  ----\n",
            "  0  Si    0.25  0.25  0.75\n",
            "  1  Si    0     0.5   0\n",
            "  2  Si    0.75  0.75  0.75\n",
            "  3  Si    0.5   0.5   0.5\n",
            "  4  Si    0.75  0.25  0.25\n",
            "  5  Si    0.5   0     0\n",
            "  6  Si    0     0     0.5\n",
            "  7  Si    0.25  0.75  0.25\n",
            "\n",
            "Initial,final,formula 5 5.450023339662936 Si\n"
          ]
        },
        {
          "output_type": "stream",
          "name": "stderr",
          "text": [
            "\r  3%|▎         | 2/73 [00:17<08:33,  7.23s/it]"
          ]
        },
        {
          "output_type": "stream",
          "name": "stdout",
          "text": [
            "Full Formula (Ge8)\n",
            "Reduced Formula: Ge\n",
            "abc   :   5.000000   5.000000   5.000000\n",
            "angles:  90.000000  90.000000  90.000000\n",
            "pbc   :       True       True       True\n",
            "Sites (8)\n",
            "  #  SP       a     b     c\n",
            "---  ----  ----  ----  ----\n",
            "  0  Ge    0.25  0.25  0.75\n",
            "  1  Ge    0     0.5   0\n",
            "  2  Ge    0.75  0.75  0.75\n",
            "  3  Ge    0.5   0.5   0.5\n",
            "  4  Ge    0.75  0.25  0.25\n",
            "  5  Ge    0.5   0     0\n",
            "  6  Ge    0     0     0.5\n",
            "  7  Ge    0.25  0.75  0.25\n",
            "\n",
            "Initial,final,formula 5 5.769802956118946 Ge\n"
          ]
        },
        {
          "output_type": "stream",
          "name": "stderr",
          "text": [
            "\r  4%|▍         | 3/73 [00:19<05:51,  5.02s/it]"
          ]
        },
        {
          "output_type": "stream",
          "name": "stdout",
          "text": [
            "Full Formula (Al4 As4)\n",
            "Reduced Formula: AlAs\n",
            "abc   :   5.000000   5.000000   5.000000\n",
            "angles:  90.000000  90.000000  90.000000\n",
            "pbc   :       True       True       True\n",
            "Sites (8)\n",
            "  #  SP       a     b     c\n",
            "---  ----  ----  ----  ----\n",
            "  0  Al    0     0.5   0.5\n",
            "  1  Al    0     0     0\n",
            "  2  Al    0.5   0     0.5\n",
            "  3  Al    0.5   0.5   0\n",
            "  4  As    0.75  0.25  0.25\n",
            "  5  As    0.75  0.75  0.75\n",
            "  6  As    0.25  0.75  0.25\n",
            "  7  As    0.25  0.25  0.75\n",
            "\n",
            "Initial,final,formula 5 5.730270649179928 AlAs\n"
          ]
        },
        {
          "output_type": "stream",
          "name": "stderr",
          "text": [
            "\r  5%|▌         | 4/73 [00:21<04:14,  3.68s/it]"
          ]
        },
        {
          "output_type": "stream",
          "name": "stdout",
          "text": [
            "Full Formula (Al4 P4)\n",
            "Reduced Formula: AlP\n",
            "abc   :   5.000000   5.000000   5.000000\n",
            "angles:  90.000000  90.000000  90.000000\n",
            "pbc   :       True       True       True\n",
            "Sites (8)\n",
            "  #  SP       a     b     c\n",
            "---  ----  ----  ----  ----\n",
            "  0  Al    0     0.5   0.5\n",
            "  1  Al    0     0     0\n",
            "  2  Al    0.5   0     0.5\n",
            "  3  Al    0.5   0.5   0\n",
            "  4  P     0.75  0.25  0.25\n",
            "  5  P     0.75  0.75  0.75\n",
            "  6  P     0.25  0.75  0.25\n",
            "  7  P     0.25  0.25  0.75\n",
            "\n",
            "Initial,final,formula 5 5.503462062585064 AlP\n"
          ]
        },
        {
          "output_type": "stream",
          "name": "stderr",
          "text": [
            "\r  7%|▋         | 5/73 [00:22<03:18,  2.92s/it]"
          ]
        },
        {
          "output_type": "stream",
          "name": "stdout",
          "text": [
            "Full Formula (Al4 Sb4)\n",
            "Reduced Formula: AlSb\n",
            "abc   :   5.000000   5.000000   5.000000\n",
            "angles:  90.000000  90.000000  90.000000\n",
            "pbc   :       True       True       True\n",
            "Sites (8)\n",
            "  #  SP       a     b     c\n",
            "---  ----  ----  ----  ----\n",
            "  0  Al    0     0.5   0.5\n",
            "  1  Al    0     0     0\n",
            "  2  Al    0.5   0     0.5\n",
            "  3  Al    0.5   0.5   0\n",
            "  4  Sb    0.75  0.25  0.25\n",
            "  5  Sb    0.75  0.75  0.75\n",
            "  6  Sb    0.25  0.75  0.25\n",
            "  7  Sb    0.25  0.25  0.75\n",
            "\n",
            "Initial,final,formula 5 6.2281680426071055 AlSb\n"
          ]
        },
        {
          "output_type": "stream",
          "name": "stderr",
          "text": [
            "\r  8%|▊         | 6/73 [00:24<02:38,  2.37s/it]"
          ]
        },
        {
          "output_type": "stream",
          "name": "stdout",
          "text": [
            "Full Formula (Ga4 P4)\n",
            "Reduced Formula: GaP\n",
            "abc   :   5.000000   5.000000   5.000000\n",
            "angles:  90.000000  90.000000  90.000000\n",
            "pbc   :       True       True       True\n",
            "Sites (8)\n",
            "  #  SP       a     b     c\n",
            "---  ----  ----  ----  ----\n",
            "  0  Ga    0     0.5   0.5\n",
            "  1  Ga    0     0     0\n",
            "  2  Ga    0.5   0     0.5\n",
            "  3  Ga    0.5   0.5   0\n",
            "  4  P     0.75  0.25  0.25\n",
            "  5  P     0.75  0.75  0.75\n",
            "  6  P     0.25  0.75  0.25\n",
            "  7  P     0.25  0.25  0.75\n",
            "\n",
            "Initial,final,formula 5 5.505396112700077 GaP\n"
          ]
        },
        {
          "output_type": "stream",
          "name": "stderr",
          "text": [
            "\r 10%|▉         | 7/73 [00:24<02:03,  1.87s/it]"
          ]
        },
        {
          "output_type": "stream",
          "name": "stdout",
          "text": [
            "Full Formula (Ga4 As4)\n",
            "Reduced Formula: GaAs\n",
            "abc   :   5.000000   5.000000   5.000000\n",
            "angles:  90.000000  90.000000  90.000000\n",
            "pbc   :       True       True       True\n",
            "Sites (8)\n",
            "  #  SP       a     b     c\n",
            "---  ----  ----  ----  ----\n",
            "  0  Ga    0     0.5   0.5\n",
            "  1  Ga    0     0     0\n",
            "  2  Ga    0.5   0     0.5\n",
            "  3  Ga    0.5   0.5   0\n",
            "  4  As    0.75  0.25  0.25\n",
            "  5  As    0.75  0.75  0.75\n",
            "  6  As    0.25  0.75  0.25\n",
            "  7  As    0.25  0.25  0.75\n",
            "\n",
            "Initial,final,formula 5 5.7505481427087375 GaAs\n"
          ]
        },
        {
          "output_type": "stream",
          "name": "stderr",
          "text": [
            "\r 11%|█         | 8/73 [00:26<01:55,  1.78s/it]"
          ]
        },
        {
          "output_type": "stream",
          "name": "stdout",
          "text": [
            "Full Formula (Ga4 Sb4)\n",
            "Reduced Formula: GaSb\n",
            "abc   :   5.000000   5.000000   5.000000\n",
            "angles:  90.000000  90.000000  90.000000\n",
            "pbc   :       True       True       True\n",
            "Sites (8)\n",
            "  #  SP       a     b     c\n",
            "---  ----  ----  ----  ----\n",
            "  0  Ga    0     0.5   0.5\n",
            "  1  Ga    0     0     0\n",
            "  2  Ga    0.5   0     0.5\n",
            "  3  Ga    0.5   0.5   0\n",
            "  4  Sb    0.75  0.25  0.25\n",
            "  5  Sb    0.75  0.75  0.75\n",
            "  6  Sb    0.25  0.75  0.25\n",
            "  7  Sb    0.25  0.25  0.75\n",
            "\n",
            "Initial,final,formula 5 6.219386018856416 GaSb\n"
          ]
        },
        {
          "output_type": "stream",
          "name": "stderr",
          "text": [
            "\r 12%|█▏        | 9/73 [00:27<01:36,  1.51s/it]"
          ]
        },
        {
          "output_type": "stream",
          "name": "stdout",
          "text": [
            "Full Formula (In4 P4)\n",
            "Reduced Formula: InP\n",
            "abc   :   5.000000   5.000000   5.000000\n",
            "angles:  90.000000  90.000000  90.000000\n",
            "pbc   :       True       True       True\n",
            "Sites (8)\n",
            "  #  SP       a     b     c\n",
            "---  ----  ----  ----  ----\n",
            "  0  In    0     0.5   0.5\n",
            "  1  In    0     0     0\n",
            "  2  In    0.5   0     0.5\n",
            "  3  In    0.5   0.5   0\n",
            "  4  P     0.75  0.25  0.25\n",
            "  5  P     0.75  0.75  0.75\n",
            "  6  P     0.25  0.75  0.25\n",
            "  7  P     0.25  0.25  0.75\n",
            "\n",
            "Initial,final,formula 5 5.9678970754489375 InP\n"
          ]
        },
        {
          "output_type": "stream",
          "name": "stderr",
          "text": [
            "\r 14%|█▎        | 10/73 [00:29<01:43,  1.64s/it]"
          ]
        },
        {
          "output_type": "stream",
          "name": "stdout",
          "text": [
            "Full Formula (In4 As4)\n",
            "Reduced Formula: InAs\n",
            "abc   :   5.000000   5.000000   5.000000\n",
            "angles:  90.000000  90.000000  90.000000\n",
            "pbc   :       True       True       True\n",
            "Sites (8)\n",
            "  #  SP       a     b     c\n",
            "---  ----  ----  ----  ----\n",
            "  0  In    0     0.5   0.5\n",
            "  1  In    0     0     0\n",
            "  2  In    0.5   0     0.5\n",
            "  3  In    0.5   0.5   0\n",
            "  4  As    0.75  0.25  0.25\n",
            "  5  As    0.75  0.75  0.75\n",
            "  6  As    0.25  0.75  0.25\n",
            "  7  As    0.25  0.25  0.75\n",
            "\n",
            "Initial,final,formula 5 6.253745033932648 InAs\n"
          ]
        },
        {
          "output_type": "stream",
          "name": "stderr",
          "text": [
            "\r 15%|█▌        | 11/73 [00:30<01:24,  1.36s/it]"
          ]
        },
        {
          "output_type": "stream",
          "name": "stdout",
          "text": [
            "Full Formula (In4 Sb4)\n",
            "Reduced Formula: InSb\n",
            "abc   :   5.000000   5.000000   5.000000\n",
            "angles:  90.000000  90.000000  90.000000\n",
            "pbc   :       True       True       True\n",
            "Sites (8)\n",
            "  #  SP       a     b     c\n",
            "---  ----  ----  ----  ----\n",
            "  0  In    0     0.5   0.5\n",
            "  1  In    0     0     0\n",
            "  2  In    0.5   0     0.5\n",
            "  3  In    0.5   0.5   0\n",
            "  4  Sb    0.75  0.25  0.25\n",
            "  5  Sb    0.75  0.75  0.75\n",
            "  6  Sb    0.25  0.75  0.25\n",
            "  7  Sb    0.25  0.25  0.75\n",
            "\n",
            "Initial,final,formula 5 6.638631566769606 InSb\n"
          ]
        },
        {
          "output_type": "stream",
          "name": "stderr",
          "text": [
            "\r 16%|█▋        | 12/73 [00:32<01:48,  1.78s/it]"
          ]
        },
        {
          "output_type": "stream",
          "name": "stdout",
          "text": [
            "Full Formula (Mg4 O4)\n",
            "Reduced Formula: MgO\n",
            "abc   :   5.000000   5.000000   5.000000\n",
            "angles:  90.000000  90.000000  90.000000\n",
            "pbc   :       True       True       True\n",
            "Sites (8)\n",
            "  #  SP      a    b    c\n",
            "---  ----  ---  ---  ---\n",
            "  0  Mg    0    0    0\n",
            "  1  Mg    0.5  0.5  0\n",
            "  2  Mg    0.5  0    0.5\n",
            "  3  Mg    0    0.5  0.5\n",
            "  4  O     0.5  0    0\n",
            "  5  O     0    0.5  0\n",
            "  6  O     0    0    0.5\n",
            "  7  O     0.5  0.5  0.5\n",
            "\n",
            "Initial,final,formula 5 4.256703308824565 MgO\n"
          ]
        },
        {
          "output_type": "stream",
          "name": "stderr",
          "text": [
            "\r 18%|█▊        | 13/73 [00:34<01:45,  1.75s/it]"
          ]
        },
        {
          "output_type": "stream",
          "name": "stdout",
          "text": [
            "Full Formula (Cd4 S4)\n",
            "Reduced Formula: CdS\n",
            "abc   :   5.000000   5.000000   5.000000\n",
            "angles:  90.000000  90.000000  90.000000\n",
            "pbc   :       True       True       True\n",
            "Sites (8)\n",
            "  #  SP       a     b     c\n",
            "---  ----  ----  ----  ----\n",
            "  0  Cd    0     0.5   0.5\n",
            "  1  Cd    0     0     0\n",
            "  2  Cd    0.5   0     0.5\n",
            "  3  Cd    0.5   0.5   0\n",
            "  4  S     0.75  0.25  0.25\n",
            "  5  S     0.75  0.75  0.75\n",
            "  6  S     0.25  0.75  0.25\n",
            "  7  S     0.25  0.25  0.75\n",
            "\n",
            "Initial,final,formula 5 5.941901649466052 CdS\n"
          ]
        },
        {
          "output_type": "stream",
          "name": "stderr",
          "text": [
            "\r 19%|█▉        | 14/73 [00:36<01:42,  1.73s/it]"
          ]
        },
        {
          "output_type": "stream",
          "name": "stdout",
          "text": [
            "Full Formula (Cd4 Se4)\n",
            "Reduced Formula: CdSe\n",
            "abc   :   5.000000   5.000000   5.000000\n",
            "angles:  90.000000  90.000000  90.000000\n",
            "pbc   :       True       True       True\n",
            "Sites (8)\n",
            "  #  SP       a     b     c\n",
            "---  ----  ----  ----  ----\n",
            "  0  Cd    0     0.5   0.5\n",
            "  1  Cd    0     0     0\n",
            "  2  Cd    0.5   0     0.5\n",
            "  3  Cd    0.5   0.5   0\n",
            "  4  Se    0.75  0.25  0.25\n",
            "  5  Se    0.75  0.75  0.75\n",
            "  6  Se    0.25  0.75  0.25\n",
            "  7  Se    0.25  0.25  0.75\n",
            "\n",
            "Initial,final,formula 5 6.2098684218883085 CdSe\n"
          ]
        },
        {
          "output_type": "stream",
          "name": "stderr",
          "text": [
            "\r 21%|██        | 15/73 [00:37<01:27,  1.52s/it]"
          ]
        },
        {
          "output_type": "stream",
          "name": "stdout",
          "text": [
            "Full Formula (Cd4 Te4)\n",
            "Reduced Formula: CdTe\n",
            "abc   :   5.000000   5.000000   5.000000\n",
            "angles:  90.000000  90.000000  90.000000\n",
            "pbc   :       True       True       True\n",
            "Sites (8)\n",
            "  #  SP       a     b     c\n",
            "---  ----  ----  ----  ----\n",
            "  0  Cd    0     0.5   0.5\n",
            "  1  Cd    0     0     0\n",
            "  2  Cd    0.5   0     0.5\n",
            "  3  Cd    0.5   0.5   0\n",
            "  4  Te    0.75  0.25  0.25\n",
            "  5  Te    0.75  0.75  0.75\n",
            "  6  Te    0.25  0.75  0.25\n",
            "  7  Te    0.25  0.25  0.75\n",
            "\n",
            "Initial,final,formula 5 6.626192773666158 CdTe\n"
          ]
        },
        {
          "output_type": "stream",
          "name": "stderr",
          "text": [
            "\r 22%|██▏       | 16/73 [00:38<01:18,  1.38s/it]"
          ]
        },
        {
          "output_type": "stream",
          "name": "stdout",
          "text": [
            "Full Formula (Zn4 O4)\n",
            "Reduced Formula: ZnO\n",
            "abc   :   5.000000   5.000000   5.000000\n",
            "angles:  90.000000  90.000000  90.000000\n",
            "pbc   :       True       True       True\n",
            "Sites (8)\n",
            "  #  SP      a    b    c\n",
            "---  ----  ---  ---  ---\n",
            "  0  Zn    0    0    0\n",
            "  1  Zn    0.5  0.5  0\n",
            "  2  Zn    0.5  0    0.5\n",
            "  3  Zn    0    0.5  0.5\n",
            "  4  O     0.5  0    0\n",
            "  5  O     0    0.5  0\n",
            "  6  O     0    0    0.5\n",
            "  7  O     0.5  0.5  0.5\n",
            "\n",
            "Initial,final,formula 5 4.3342446612171734 ZnO\n"
          ]
        },
        {
          "output_type": "stream",
          "name": "stderr",
          "text": [
            "\r 23%|██▎       | 17/73 [00:40<01:31,  1.64s/it]"
          ]
        },
        {
          "output_type": "stream",
          "name": "stdout",
          "text": [
            "Full Formula (Zn4 S4)\n",
            "Reduced Formula: ZnS\n",
            "abc   :   5.000000   5.000000   5.000000\n",
            "angles:  90.000000  90.000000  90.000000\n",
            "pbc   :       True       True       True\n",
            "Sites (8)\n",
            "  #  SP       a     b     c\n",
            "---  ----  ----  ----  ----\n",
            "  0  Zn    0     0.5   0.5\n",
            "  1  Zn    0     0     0\n",
            "  2  Zn    0.5   0     0.5\n",
            "  3  Zn    0.5   0.5   0\n",
            "  4  S     0.75  0.25  0.25\n",
            "  5  S     0.75  0.75  0.75\n",
            "  6  S     0.25  0.75  0.25\n",
            "  7  S     0.25  0.25  0.75\n",
            "\n",
            "Initial,final,formula 5 5.452972868832297 ZnS\n"
          ]
        },
        {
          "output_type": "stream",
          "name": "stderr",
          "text": [
            "\r 25%|██▍       | 18/73 [00:46<02:38,  2.88s/it]"
          ]
        },
        {
          "output_type": "stream",
          "name": "stdout",
          "text": [
            "Full Formula (Pb4 S4)\n",
            "Reduced Formula: PbS\n",
            "abc   :   5.000000   5.000000   5.000000\n",
            "angles:  90.000000  90.000000  90.000000\n",
            "pbc   :       True       True       True\n",
            "Sites (8)\n",
            "  #  SP      a    b    c\n",
            "---  ----  ---  ---  ---\n",
            "  0  Pb    0    0    0\n",
            "  1  Pb    0.5  0.5  0\n",
            "  2  Pb    0.5  0    0.5\n",
            "  3  Pb    0    0.5  0.5\n",
            "  4  S     0.5  0    0\n",
            "  5  S     0    0.5  0\n",
            "  6  S     0    0    0.5\n",
            "  7  S     0.5  0.5  0.5\n",
            "\n",
            "Initial,final,formula 5 6.01751770161065 PbS\n"
          ]
        },
        {
          "output_type": "stream",
          "name": "stderr",
          "text": [
            "\r 26%|██▌       | 19/73 [00:48<02:31,  2.81s/it]"
          ]
        },
        {
          "output_type": "stream",
          "name": "stdout",
          "text": [
            "Full Formula (Te4 Pb4)\n",
            "Reduced Formula: TePb\n",
            "abc   :   5.000000   5.000000   5.000000\n",
            "angles:  90.000000  90.000000  90.000000\n",
            "pbc   :       True       True       True\n",
            "Sites (8)\n",
            "  #  SP      a    b    c\n",
            "---  ----  ---  ---  ---\n",
            "  0  Te    0    0    0\n",
            "  1  Te    0.5  0.5  0\n",
            "  2  Te    0.5  0    0.5\n",
            "  3  Te    0    0.5  0.5\n",
            "  4  Pb    0.5  0    0\n",
            "  5  Pb    0    0.5  0\n",
            "  6  Pb    0    0    0.5\n",
            "  7  Pb    0.5  0.5  0.5\n",
            "\n",
            "Initial,final,formula 5 6.561105309635918 PbTe\n"
          ]
        },
        {
          "output_type": "stream",
          "name": "stderr",
          "text": [
            "\r 27%|██▋       | 20/73 [00:50<02:13,  2.51s/it]"
          ]
        },
        {
          "output_type": "stream",
          "name": "stdout",
          "text": [
            "Full Formula (B4 N4)\n",
            "Reduced Formula: BN\n",
            "abc   :   5.000000   5.000000   5.000000\n",
            "angles:  90.000000  90.000000  90.000000\n",
            "pbc   :       True       True       True\n",
            "Sites (8)\n",
            "  #  SP       a     b     c\n",
            "---  ----  ----  ----  ----\n",
            "  0  B     0     0.5   0.5\n",
            "  1  B     0     0     0\n",
            "  2  B     0.5   0     0.5\n",
            "  3  B     0.5   0.5   0\n",
            "  4  N     0.75  0.25  0.25\n",
            "  5  N     0.75  0.75  0.75\n",
            "  6  N     0.25  0.75  0.25\n",
            "  7  N     0.25  0.25  0.75\n",
            "\n",
            "Initial,final,formula 5 3.624853000384868 BN\n"
          ]
        },
        {
          "output_type": "stream",
          "name": "stderr",
          "text": [
            "\r 29%|██▉       | 21/73 [00:54<02:32,  2.94s/it]"
          ]
        },
        {
          "output_type": "stream",
          "name": "stdout",
          "text": [
            "Full Formula (B4 P4)\n",
            "Reduced Formula: BP\n",
            "abc   :   5.000000   5.000000   5.000000\n",
            "angles:  90.000000  90.000000  90.000000\n",
            "pbc   :       True       True       True\n",
            "Sites (8)\n",
            "  #  SP       a     b     c\n",
            "---  ----  ----  ----  ----\n",
            "  0  B     0     0.5   0.5\n",
            "  1  B     0     0     0\n",
            "  2  B     0.5   0     0.5\n",
            "  3  B     0.5   0.5   0\n",
            "  4  P     0.75  0.25  0.25\n",
            "  5  P     0.75  0.75  0.75\n",
            "  6  P     0.25  0.75  0.25\n",
            "  7  P     0.25  0.25  0.75\n",
            "\n",
            "Initial,final,formula 5 4.547111314581648 BP\n"
          ]
        },
        {
          "output_type": "stream",
          "name": "stderr",
          "text": [
            "\r 30%|███       | 22/73 [00:55<01:55,  2.27s/it]"
          ]
        },
        {
          "output_type": "stream",
          "name": "stdout",
          "text": [
            "Full Formula (Li4 F4)\n",
            "Reduced Formula: LiF\n",
            "abc   :   5.000000   5.000000   5.000000\n",
            "angles:  90.000000  90.000000  90.000000\n",
            "pbc   :       True       True       True\n",
            "Sites (8)\n",
            "  #  SP      a    b    c\n",
            "---  ----  ---  ---  ---\n",
            "  0  Li    0    0    0\n",
            "  1  Li    0.5  0.5  0\n",
            "  2  Li    0.5  0    0.5\n",
            "  3  Li    0    0.5  0.5\n",
            "  4  F     0.5  0    0\n",
            "  5  F     0    0.5  0\n",
            "  6  F     0    0    0.5\n",
            "  7  F     0.5  0.5  0.5\n",
            "\n",
            "Initial,final,formula 5 4.085314565715692 LiF\n"
          ]
        },
        {
          "output_type": "stream",
          "name": "stderr",
          "text": [
            "\r 32%|███▏      | 23/73 [00:58<02:03,  2.48s/it]"
          ]
        },
        {
          "output_type": "stream",
          "name": "stdout",
          "text": [
            "Full Formula (Li4 Cl4)\n",
            "Reduced Formula: LiCl\n",
            "abc   :   5.000000   5.000000   5.000000\n",
            "angles:  90.000000  90.000000  90.000000\n",
            "pbc   :       True       True       True\n",
            "Sites (8)\n",
            "  #  SP      a    b    c\n",
            "---  ----  ---  ---  ---\n",
            "  0  Li    0    0    0\n",
            "  1  Li    0.5  0.5  0\n",
            "  2  Li    0.5  0    0.5\n",
            "  3  Li    0    0.5  0.5\n",
            "  4  Cl    0.5  0    0\n",
            "  5  Cl    0    0.5  0\n",
            "  6  Cl    0    0    0.5\n",
            "  7  Cl    0.5  0.5  0.5\n",
            "\n",
            "Initial,final,formula 5 5.147454462121849 LiCl\n"
          ]
        },
        {
          "output_type": "stream",
          "name": "stderr",
          "text": [
            "\r 33%|███▎      | 24/73 [00:59<01:44,  2.12s/it]"
          ]
        },
        {
          "output_type": "stream",
          "name": "stdout",
          "text": [
            "Full Formula (Li4 Br4)\n",
            "Reduced Formula: LiBr\n",
            "abc   :   5.000000   5.000000   5.000000\n",
            "angles:  90.000000  90.000000  90.000000\n",
            "pbc   :       True       True       True\n",
            "Sites (8)\n",
            "  #  SP      a    b    c\n",
            "---  ----  ---  ---  ---\n",
            "  0  Li    0    0    0\n",
            "  1  Li    0.5  0.5  0\n",
            "  2  Li    0.5  0    0.5\n",
            "  3  Li    0    0.5  0.5\n",
            "  4  Br    0.5  0    0\n",
            "  5  Br    0    0.5  0\n",
            "  6  Br    0    0    0.5\n",
            "  7  Br    0.5  0.5  0.5\n",
            "\n",
            "Initial,final,formula 5 5.510762515333814 LiBr\n"
          ]
        },
        {
          "output_type": "stream",
          "name": "stderr",
          "text": [
            "\r 34%|███▍      | 25/73 [01:00<01:24,  1.75s/it]"
          ]
        },
        {
          "output_type": "stream",
          "name": "stdout",
          "text": [
            "Full Formula (Li4 I4)\n",
            "Reduced Formula: LiI\n",
            "abc   :   5.000000   5.000000   5.000000\n",
            "angles:  90.000000  90.000000  90.000000\n",
            "pbc   :       True       True       True\n",
            "Sites (8)\n",
            "  #  SP      a    b    c\n",
            "---  ----  ---  ---  ---\n",
            "  0  Li    0    0    0\n",
            "  1  Li    0.5  0.5  0\n",
            "  2  Li    0.5  0    0.5\n",
            "  3  Li    0    0.5  0.5\n",
            "  4  I     0.5  0    0\n",
            "  5  I     0    0.5  0\n",
            "  6  I     0    0    0.5\n",
            "  7  I     0.5  0.5  0.5\n",
            "\n",
            "Initial,final,formula 5 6.02709178055086 LiI\n"
          ]
        },
        {
          "output_type": "stream",
          "name": "stderr",
          "text": [
            "\r 36%|███▌      | 26/73 [01:01<01:08,  1.46s/it]"
          ]
        },
        {
          "output_type": "stream",
          "name": "stdout",
          "text": [
            "Full Formula (Na4 F4)\n",
            "Reduced Formula: NaF\n",
            "abc   :   5.000000   5.000000   5.000000\n",
            "angles:  90.000000  90.000000  90.000000\n",
            "pbc   :       True       True       True\n",
            "Sites (8)\n",
            "  #  SP      a    b    c\n",
            "---  ----  ---  ---  ---\n",
            "  0  Na    0    0    0\n",
            "  1  Na    0.5  0.5  0\n",
            "  2  Na    0.5  0    0.5\n",
            "  3  Na    0    0.5  0.5\n",
            "  4  F     0.5  0    0\n",
            "  5  F     0    0.5  0\n",
            "  6  F     0    0    0.5\n",
            "  7  F     0.5  0.5  0.5\n",
            "\n",
            "Initial,final,formula 5 4.695526818209491 NaF\n"
          ]
        },
        {
          "output_type": "stream",
          "name": "stderr",
          "text": [
            "\r 37%|███▋      | 27/73 [01:02<00:57,  1.25s/it]"
          ]
        },
        {
          "output_type": "stream",
          "name": "stdout",
          "text": [
            "Full Formula (Na4 Cl4)\n",
            "Reduced Formula: NaCl\n",
            "abc   :   5.000000   5.000000   5.000000\n",
            "angles:  90.000000  90.000000  90.000000\n",
            "pbc   :       True       True       True\n",
            "Sites (8)\n",
            "  #  SP      a    b    c\n",
            "---  ----  ---  ---  ---\n",
            "  0  Na    0    0    0\n",
            "  1  Na    0.5  0.5  0\n",
            "  2  Na    0.5  0    0.5\n",
            "  3  Na    0    0.5  0.5\n",
            "  4  Cl    0.5  0    0\n",
            "  5  Cl    0    0.5  0\n",
            "  6  Cl    0    0    0.5\n",
            "  7  Cl    0.5  0.5  0.5\n",
            "\n",
            "Initial,final,formula 5 5.694970892014689 NaCl\n"
          ]
        },
        {
          "output_type": "stream",
          "name": "stderr",
          "text": [
            "\r 38%|███▊      | 28/73 [01:03<01:01,  1.36s/it]"
          ]
        },
        {
          "output_type": "stream",
          "name": "stdout",
          "text": [
            "Full Formula (Na4 Br4)\n",
            "Reduced Formula: NaBr\n",
            "abc   :   5.000000   5.000000   5.000000\n",
            "angles:  90.000000  90.000000  90.000000\n",
            "pbc   :       True       True       True\n",
            "Sites (8)\n",
            "  #  SP      a    b    c\n",
            "---  ----  ---  ---  ---\n",
            "  0  Na    0    0    0\n",
            "  1  Na    0.5  0.5  0\n",
            "  2  Na    0.5  0    0.5\n",
            "  3  Na    0    0.5  0.5\n",
            "  4  Br    0.5  0    0\n",
            "  5  Br    0    0.5  0\n",
            "  6  Br    0    0    0.5\n",
            "  7  Br    0.5  0.5  0.5\n",
            "\n",
            "Initial,final,formula 5 6.019218069270673 NaBr\n"
          ]
        },
        {
          "output_type": "stream",
          "name": "stderr",
          "text": [
            "\r 40%|███▉      | 29/73 [01:04<00:55,  1.25s/it]"
          ]
        },
        {
          "output_type": "stream",
          "name": "stdout",
          "text": [
            "Full Formula (Na4 I4)\n",
            "Reduced Formula: NaI\n",
            "abc   :   5.000000   5.000000   5.000000\n",
            "angles:  90.000000  90.000000  90.000000\n",
            "pbc   :       True       True       True\n",
            "Sites (8)\n",
            "  #  SP      a    b    c\n",
            "---  ----  ---  ---  ---\n",
            "  0  Na    0    0    0\n",
            "  1  Na    0.5  0.5  0\n",
            "  2  Na    0.5  0    0.5\n",
            "  3  Na    0    0.5  0.5\n",
            "  4  I     0.5  0    0\n",
            "  5  I     0    0.5  0\n",
            "  6  I     0    0    0.5\n",
            "  7  I     0.5  0.5  0.5\n",
            "\n",
            "Initial,final,formula 5 6.527394696977921 NaI\n"
          ]
        },
        {
          "output_type": "stream",
          "name": "stderr",
          "text": [
            "\r 41%|████      | 30/73 [01:05<00:52,  1.22s/it]"
          ]
        },
        {
          "output_type": "stream",
          "name": "stdout",
          "text": [
            "Full Formula (K4 F4)\n",
            "Reduced Formula: KF\n",
            "abc   :   5.000000   5.000000   5.000000\n",
            "angles:  90.000000  90.000000  90.000000\n",
            "pbc   :       True       True       True\n",
            "Sites (8)\n",
            "  #  SP      a    b    c\n",
            "---  ----  ---  ---  ---\n",
            "  0  K     0    0    0\n",
            "  1  K     0.5  0.5  0\n",
            "  2  K     0.5  0    0.5\n",
            "  3  K     0    0.5  0.5\n",
            "  4  F     0.5  0    0\n",
            "  5  F     0    0.5  0\n",
            "  6  F     0    0    0.5\n",
            "  7  F     0.5  0.5  0.5\n",
            "\n",
            "Initial,final,formula 5 5.419713683054983 KF\n"
          ]
        },
        {
          "output_type": "stream",
          "name": "stderr",
          "text": [
            "\r 42%|████▏     | 31/73 [01:06<00:48,  1.15s/it]"
          ]
        },
        {
          "output_type": "stream",
          "name": "stdout",
          "text": [
            "Full Formula (K4 Cl4)\n",
            "Reduced Formula: KCl\n",
            "abc   :   5.000000   5.000000   5.000000\n",
            "angles:  90.000000  90.000000  90.000000\n",
            "pbc   :       True       True       True\n",
            "Sites (8)\n",
            "  #  SP      a    b    c\n",
            "---  ----  ---  ---  ---\n",
            "  0  K     0    0    0\n",
            "  1  K     0.5  0.5  0\n",
            "  2  K     0.5  0    0.5\n",
            "  3  K     0    0.5  0.5\n",
            "  4  Cl    0.5  0    0\n",
            "  5  Cl    0    0.5  0\n",
            "  6  Cl    0    0    0.5\n",
            "  7  Cl    0.5  0.5  0.5\n",
            "\n",
            "Initial,final,formula 5 6.3963420719918656 KCl\n"
          ]
        },
        {
          "output_type": "stream",
          "name": "stderr",
          "text": [
            "\r 44%|████▍     | 32/73 [01:08<00:54,  1.34s/it]"
          ]
        },
        {
          "output_type": "stream",
          "name": "stdout",
          "text": [
            "Full Formula (K4 Br4)\n",
            "Reduced Formula: KBr\n",
            "abc   :   5.000000   5.000000   5.000000\n",
            "angles:  90.000000  90.000000  90.000000\n",
            "pbc   :       True       True       True\n",
            "Sites (8)\n",
            "  #  SP      a    b    c\n",
            "---  ----  ---  ---  ---\n",
            "  0  K     0    0    0\n",
            "  1  K     0.5  0.5  0\n",
            "  2  K     0.5  0    0.5\n",
            "  3  K     0    0.5  0.5\n",
            "  4  Br    0.5  0    0\n",
            "  5  Br    0    0.5  0\n",
            "  6  Br    0    0    0.5\n",
            "  7  Br    0.5  0.5  0.5\n",
            "\n",
            "Initial,final,formula 5 6.707967609367915 KBr\n"
          ]
        },
        {
          "output_type": "stream",
          "name": "stderr",
          "text": [
            "\r 45%|████▌     | 33/73 [01:10<00:59,  1.50s/it]"
          ]
        },
        {
          "output_type": "stream",
          "name": "stdout",
          "text": [
            "Full Formula (K4 I4)\n",
            "Reduced Formula: KI\n",
            "abc   :   5.000000   5.000000   5.000000\n",
            "angles:  90.000000  90.000000  90.000000\n",
            "pbc   :       True       True       True\n",
            "Sites (8)\n",
            "  #  SP      a    b    c\n",
            "---  ----  ---  ---  ---\n",
            "  0  K     0    0    0\n",
            "  1  K     0.5  0.5  0\n",
            "  2  K     0.5  0    0.5\n",
            "  3  K     0    0.5  0.5\n",
            "  4  I     0.5  0    0\n",
            "  5  I     0    0.5  0\n",
            "  6  I     0    0    0.5\n",
            "  7  I     0.5  0.5  0.5\n",
            "\n",
            "Initial,final,formula 5 7.183092074384774 KI\n"
          ]
        },
        {
          "output_type": "stream",
          "name": "stderr",
          "text": [
            "\r 47%|████▋     | 34/73 [01:13<01:12,  1.87s/it]"
          ]
        },
        {
          "output_type": "stream",
          "name": "stdout",
          "text": [
            "Full Formula (Rb4 F4)\n",
            "Reduced Formula: RbF\n",
            "abc   :   5.000000   5.000000   5.000000\n",
            "angles:  90.000000  90.000000  90.000000\n",
            "pbc   :       True       True       True\n",
            "Sites (8)\n",
            "  #  SP      a    b    c\n",
            "---  ----  ---  ---  ---\n",
            "  0  Rb    0    0    0\n",
            "  1  Rb    0.5  0.5  0\n",
            "  2  Rb    0.5  0    0.5\n",
            "  3  Rb    0    0.5  0.5\n",
            "  4  F     0.5  0    0\n",
            "  5  F     0    0.5  0\n",
            "  6  F     0    0    0.5\n",
            "  7  F     0.5  0.5  0.5\n",
            "\n",
            "Initial,final,formula 5 5.768427410819889 RbF\n"
          ]
        },
        {
          "output_type": "stream",
          "name": "stderr",
          "text": [
            "\r 48%|████▊     | 35/73 [01:14<01:03,  1.67s/it]"
          ]
        },
        {
          "output_type": "stream",
          "name": "stdout",
          "text": [
            "Full Formula (Rb4 Cl4)\n",
            "Reduced Formula: RbCl\n",
            "abc   :   5.000000   5.000000   5.000000\n",
            "angles:  90.000000  90.000000  90.000000\n",
            "pbc   :       True       True       True\n",
            "Sites (8)\n",
            "  #  SP      a    b    c\n",
            "---  ----  ---  ---  ---\n",
            "  0  Rb    0    0    0\n",
            "  1  Rb    0.5  0.5  0\n",
            "  2  Rb    0.5  0    0.5\n",
            "  3  Rb    0    0.5  0.5\n",
            "  4  Cl    0.5  0    0\n",
            "  5  Cl    0    0.5  0\n",
            "  6  Cl    0    0    0.5\n",
            "  7  Cl    0.5  0.5  0.5\n",
            "\n",
            "Initial,final,formula 5 6.679943223531762 RbCl\n"
          ]
        },
        {
          "output_type": "stream",
          "name": "stderr",
          "text": [
            "\r 49%|████▉     | 36/73 [01:16<01:01,  1.67s/it]"
          ]
        },
        {
          "output_type": "stream",
          "name": "stdout",
          "text": [
            "Full Formula (Rb4 Br4)\n",
            "Reduced Formula: RbBr\n",
            "abc   :   5.000000   5.000000   5.000000\n",
            "angles:  90.000000  90.000000  90.000000\n",
            "pbc   :       True       True       True\n",
            "Sites (8)\n",
            "  #  SP      a    b    c\n",
            "---  ----  ---  ---  ---\n",
            "  0  Rb    0    0    0\n",
            "  1  Rb    0.5  0.5  0\n",
            "  2  Rb    0.5  0    0.5\n",
            "  3  Rb    0    0.5  0.5\n",
            "  4  Br    0.5  0    0\n",
            "  5  Br    0    0.5  0\n",
            "  6  Br    0    0    0.5\n",
            "  7  Br    0.5  0.5  0.5\n",
            "\n",
            "Initial,final,formula 5 6.982189450265858 RbBr\n"
          ]
        },
        {
          "output_type": "stream",
          "name": "stderr",
          "text": [
            "\r 51%|█████     | 37/73 [01:17<00:53,  1.49s/it]"
          ]
        },
        {
          "output_type": "stream",
          "name": "stdout",
          "text": [
            "Full Formula (Rb4 I4)\n",
            "Reduced Formula: RbI\n",
            "abc   :   5.000000   5.000000   5.000000\n",
            "angles:  90.000000  90.000000  90.000000\n",
            "pbc   :       True       True       True\n",
            "Sites (8)\n",
            "  #  SP      a    b    c\n",
            "---  ----  ---  ---  ---\n",
            "  0  Rb    0    0    0\n",
            "  1  Rb    0.5  0.5  0\n",
            "  2  Rb    0.5  0    0.5\n",
            "  3  Rb    0    0.5  0.5\n",
            "  4  I     0.5  0    0\n",
            "  5  I     0    0.5  0\n",
            "  6  I     0    0    0.5\n",
            "  7  I     0.5  0.5  0.5\n",
            "\n",
            "Initial,final,formula 5 7.617564668896254 RbI\n"
          ]
        },
        {
          "output_type": "stream",
          "name": "stderr",
          "text": [
            "\r 52%|█████▏    | 38/73 [01:18<00:52,  1.49s/it]"
          ]
        },
        {
          "output_type": "stream",
          "name": "stdout",
          "text": [
            "Full Formula (Cs4 F4)\n",
            "Reduced Formula: CsF\n",
            "abc   :   5.000000   5.000000   5.000000\n",
            "angles:  90.000000  90.000000  90.000000\n",
            "pbc   :       True       True       True\n",
            "Sites (8)\n",
            "  #  SP      a    b    c\n",
            "---  ----  ---  ---  ---\n",
            "  0  Cs    0    0    0\n",
            "  1  Cs    0.5  0.5  0\n",
            "  2  Cs    0.5  0    0.5\n",
            "  3  Cs    0    0.5  0.5\n",
            "  4  F     0.5  0    0\n",
            "  5  F     0    0.5  0\n",
            "  6  F     0    0    0.5\n",
            "  7  F     0.5  0.5  0.5\n",
            "\n",
            "Initial,final,formula 5 6.1265018227884696 CsF\n"
          ]
        },
        {
          "output_type": "stream",
          "name": "stderr",
          "text": [
            "\r 53%|█████▎    | 39/73 [01:19<00:47,  1.41s/it]WARNING:tensorflow:You are casting an input of type complex64 to an incompatible dtype float32.  This will discard the imaginary part and may not be what you intended.\n"
          ]
        },
        {
          "output_type": "stream",
          "name": "stdout",
          "text": [
            "Full Formula (Al4)\n",
            "Reduced Formula: Al\n",
            "abc   :   5.000000   5.000000   5.000000\n",
            "angles:  90.000000  90.000000  90.000000\n",
            "pbc   :       True       True       True\n",
            "Sites (4)\n",
            "  #  SP      a    b    c\n",
            "---  ----  ---  ---  ---\n",
            "  0  Al    0    0    0\n",
            "  1  Al    0.5  0.5  0\n",
            "  2  Al    0    0.5  0.5\n",
            "  3  Al    0.5  0    0.5\n"
          ]
        },
        {
          "output_type": "stream",
          "name": "stderr",
          "text": [
            "WARNING:tensorflow:You are casting an input of type complex64 to an incompatible dtype float32.  This will discard the imaginary part and may not be what you intended.\n"
          ]
        },
        {
          "output_type": "stream",
          "name": "stdout",
          "text": [
            "\n",
            "Initial,final,formula 5 4.0410824413840585 Al\n"
          ]
        },
        {
          "output_type": "stream",
          "name": "stderr",
          "text": [
            "\r 58%|█████▊    | 42/73 [01:26<00:56,  1.82s/it]"
          ]
        },
        {
          "output_type": "stream",
          "name": "stdout",
          "text": [
            "Full Formula (Ni4)\n",
            "Reduced Formula: Ni\n",
            "abc   :   5.000000   5.000000   5.000000\n",
            "angles:  90.000000  90.000000  90.000000\n",
            "pbc   :       True       True       True\n",
            "Sites (4)\n",
            "  #  SP      a    b    c\n",
            "---  ----  ---  ---  ---\n",
            "  0  Ni    0    0    0\n",
            "  1  Ni    0.5  0.5  0\n",
            "  2  Ni    0    0.5  0.5\n",
            "  3  Ni    0.5  0    0.5\n",
            "\n",
            "Initial,final,formula 5 3.5086030623796827 Ni\n"
          ]
        },
        {
          "output_type": "stream",
          "name": "stderr",
          "text": [
            "\r 60%|██████    | 44/73 [01:28<00:43,  1.50s/it]"
          ]
        },
        {
          "output_type": "stream",
          "name": "stdout",
          "text": [
            "Full Formula (Cu4)\n",
            "Reduced Formula: Cu\n",
            "abc   :   5.000000   5.000000   5.000000\n",
            "angles:  90.000000  90.000000  90.000000\n",
            "pbc   :       True       True       True\n",
            "Sites (4)\n",
            "  #  SP      a    b    c\n",
            "---  ----  ---  ---  ---\n",
            "  0  Cu    0    0    0\n",
            "  1  Cu    0.5  0.5  0\n",
            "  2  Cu    0    0.5  0.5\n",
            "  3  Cu    0.5  0    0.5\n",
            "\n",
            "Initial,final,formula 5 3.6119860968613757 Cu\n"
          ]
        },
        {
          "output_type": "stream",
          "name": "stderr",
          "text": [
            "\r 62%|██████▏   | 45/73 [01:30<00:45,  1.64s/it]"
          ]
        },
        {
          "output_type": "stream",
          "name": "stdout",
          "text": [
            "Full Formula (Pd4)\n",
            "Reduced Formula: Pd\n",
            "abc   :   5.000000   5.000000   5.000000\n",
            "angles:  90.000000  90.000000  90.000000\n",
            "pbc   :       True       True       True\n",
            "Sites (4)\n",
            "  #  SP      a    b    c\n",
            "---  ----  ---  ---  ---\n",
            "  0  Pd    0    0    0\n",
            "  1  Pd    0.5  0.5  0\n",
            "  2  Pd    0    0.5  0.5\n",
            "  3  Pd    0.5  0    0.5\n",
            "\n",
            "Initial,final,formula 5 3.954660886895733 Pd\n"
          ]
        },
        {
          "output_type": "stream",
          "name": "stderr",
          "text": [
            "\r 64%|██████▍   | 47/73 [01:31<00:32,  1.25s/it]"
          ]
        },
        {
          "output_type": "stream",
          "name": "stdout",
          "text": [
            "Full Formula (Ag4)\n",
            "Reduced Formula: Ag\n",
            "abc   :   5.000000   5.000000   5.000000\n",
            "angles:  90.000000  90.000000  90.000000\n",
            "pbc   :       True       True       True\n",
            "Sites (4)\n",
            "  #  SP      a    b    c\n",
            "---  ----  ---  ---  ---\n",
            "  0  Ag    0    0    0\n",
            "  1  Ag    0.5  0.5  0\n",
            "  2  Ag    0    0.5  0.5\n",
            "  3  Ag    0.5  0    0.5\n",
            "\n",
            "Initial,final,formula 5 4.167016952986487 Ag\n"
          ]
        },
        {
          "output_type": "stream",
          "name": "stderr",
          "text": [
            "\r 66%|██████▌   | 48/73 [01:32<00:30,  1.24s/it]"
          ]
        },
        {
          "output_type": "stream",
          "name": "stdout",
          "text": [
            "Full Formula (Pt4)\n",
            "Reduced Formula: Pt\n",
            "abc   :   5.000000   5.000000   5.000000\n",
            "angles:  90.000000  90.000000  90.000000\n",
            "pbc   :       True       True       True\n",
            "Sites (4)\n",
            "  #  SP      a    b    c\n",
            "---  ----  ---  ---  ---\n",
            "  0  Pt    0    0    0\n",
            "  1  Pt    0.5  0.5  0\n",
            "  2  Pt    0    0.5  0.5\n",
            "  3  Pt    0.5  0    0.5\n",
            "\n",
            "Initial,final,formula 5 3.977140383759854 Pt\n"
          ]
        },
        {
          "output_type": "stream",
          "name": "stderr",
          "text": [
            "\r 68%|██████▊   | 50/73 [01:33<00:21,  1.08it/s]"
          ]
        },
        {
          "output_type": "stream",
          "name": "stdout",
          "text": [
            "Full Formula (Au4)\n",
            "Reduced Formula: Au\n",
            "abc   :   5.000000   5.000000   5.000000\n",
            "angles:  90.000000  90.000000  90.000000\n",
            "pbc   :       True       True       True\n",
            "Sites (4)\n",
            "  #  SP      a    b    c\n",
            "---  ----  ---  ---  ---\n",
            "  0  Au    0    0    0\n",
            "  1  Au    0.5  0.5  0\n",
            "  2  Au    0    0.5  0.5\n",
            "  3  Au    0.5  0    0.5\n",
            "\n",
            "Initial,final,formula 5 4.1743139630029855 Au\n"
          ]
        },
        {
          "output_type": "stream",
          "name": "stderr",
          "text": [
            "\r 70%|██████▉   | 51/73 [01:34<00:22,  1.04s/it]"
          ]
        },
        {
          "output_type": "stream",
          "name": "stdout",
          "text": [
            "Full Formula (Pb4)\n",
            "Reduced Formula: Pb\n",
            "abc   :   5.000000   5.000000   5.000000\n",
            "angles:  90.000000  90.000000  90.000000\n",
            "pbc   :       True       True       True\n",
            "Sites (4)\n",
            "  #  SP      a    b    c\n",
            "---  ----  ---  ---  ---\n",
            "  0  Pb    0    0    0\n",
            "  1  Pb    0.5  0.5  0\n",
            "  2  Pb    0    0.5  0.5\n",
            "  3  Pb    0.5  0    0.5\n",
            "\n",
            "Initial,final,formula 5 5.028490404274532 Pb\n"
          ]
        },
        {
          "output_type": "stream",
          "name": "stderr",
          "text": [
            "\r 71%|███████   | 52/73 [01:36<00:22,  1.09s/it]"
          ]
        },
        {
          "output_type": "stream",
          "name": "stdout",
          "text": [
            "Full Formula (Ti4 N4)\n",
            "Reduced Formula: TiN\n",
            "abc   :   5.000000   5.000000   5.000000\n",
            "angles:  90.000000  90.000000  90.000000\n",
            "pbc   :       True       True       True\n",
            "Sites (8)\n",
            "  #  SP      a    b    c\n",
            "---  ----  ---  ---  ---\n",
            "  0  Ti    0    0    0\n",
            "  1  Ti    0.5  0.5  0\n",
            "  2  Ti    0.5  0    0.5\n",
            "  3  Ti    0    0.5  0.5\n",
            "  4  N     0.5  0    0\n",
            "  5  N     0    0.5  0\n",
            "  6  N     0    0    0.5\n",
            "  7  N     0.5  0.5  0.5\n",
            "\n",
            "Initial,final,formula 5 4.252540867411786 TiN\n"
          ]
        },
        {
          "output_type": "stream",
          "name": "stderr",
          "text": [
            "\r 77%|███████▋  | 56/73 [01:38<00:13,  1.25it/s]"
          ]
        },
        {
          "output_type": "stream",
          "name": "stdout",
          "text": [
            "Full Formula (Zr4 N4)\n",
            "Reduced Formula: ZrN\n",
            "abc   :   5.000000   5.000000   5.000000\n",
            "angles:  90.000000  90.000000  90.000000\n",
            "pbc   :       True       True       True\n",
            "Sites (8)\n",
            "  #  SP      a    b    c\n",
            "---  ----  ---  ---  ---\n",
            "  0  Zr    0    0    0\n",
            "  1  Zr    0.5  0.5  0\n",
            "  2  Zr    0.5  0    0.5\n",
            "  3  Zr    0    0.5  0.5\n",
            "  4  N     0.5  0    0\n",
            "  5  N     0    0.5  0\n",
            "  6  N     0    0    0.5\n",
            "  7  N     0.5  0.5  0.5\n",
            "\n",
            "Initial,final,formula 5 4.616021233124515 ZrN\n"
          ]
        },
        {
          "output_type": "stream",
          "name": "stderr",
          "text": [
            "\r 78%|███████▊  | 57/73 [01:40<00:15,  1.04it/s]"
          ]
        },
        {
          "output_type": "stream",
          "name": "stdout",
          "text": [
            "Full Formula (Hf4 N4)\n",
            "Reduced Formula: HfN\n",
            "abc   :   5.000000   5.000000   5.000000\n",
            "angles:  90.000000  90.000000  90.000000\n",
            "pbc   :       True       True       True\n",
            "Sites (8)\n",
            "  #  SP      a    b    c\n",
            "---  ----  ---  ---  ---\n",
            "  0  Hf    0    0    0\n",
            "  1  Hf    0.5  0.5  0\n",
            "  2  Hf    0.5  0    0.5\n",
            "  3  Hf    0    0.5  0.5\n",
            "  4  N     0.5  0    0\n",
            "  5  N     0    0.5  0\n",
            "  6  N     0    0    0.5\n",
            "  7  N     0.5  0.5  0.5\n",
            "\n",
            "Initial,final,formula 5 4.538375359453457 HfN\n"
          ]
        },
        {
          "output_type": "stream",
          "name": "stderr",
          "text": [
            "\r 79%|███████▉  | 58/73 [01:41<00:15,  1.01s/it]"
          ]
        },
        {
          "output_type": "stream",
          "name": "stdout",
          "text": [
            "Full Formula (V4 N4)\n",
            "Reduced Formula: VN\n",
            "abc   :   5.000000   5.000000   5.000000\n",
            "angles:  90.000000  90.000000  90.000000\n",
            "pbc   :       True       True       True\n",
            "Sites (8)\n",
            "  #  SP      a    b    c\n",
            "---  ----  ---  ---  ---\n",
            "  0  V     0    0    0\n",
            "  1  V     0.5  0.5  0\n",
            "  2  V     0.5  0    0.5\n",
            "  3  V     0    0.5  0.5\n",
            "  4  N     0.5  0    0\n",
            "  5  N     0    0.5  0\n",
            "  6  N     0    0    0.5\n",
            "  7  N     0.5  0.5  0.5\n",
            "\n",
            "Initial,final,formula 5 4.128104818866327 VN\n"
          ]
        },
        {
          "output_type": "stream",
          "name": "stderr",
          "text": [
            "\r 81%|████████  | 59/73 [01:43<00:17,  1.25s/it]"
          ]
        },
        {
          "output_type": "stream",
          "name": "stdout",
          "text": [
            "Full Formula (Cr4 N4)\n",
            "Reduced Formula: CrN\n",
            "abc   :   5.000000   5.000000   5.000000\n",
            "angles:  90.000000  90.000000  90.000000\n",
            "pbc   :       True       True       True\n",
            "Sites (8)\n",
            "  #  SP      a    b    c\n",
            "---  ----  ---  ---  ---\n",
            "  0  Cr    0    0    0\n",
            "  1  Cr    0.5  0.5  0\n",
            "  2  Cr    0.5  0    0.5\n",
            "  3  Cr    0    0.5  0.5\n",
            "  4  N     0.5  0    0\n",
            "  5  N     0    0.5  0\n",
            "  6  N     0    0    0.5\n",
            "  7  N     0.5  0.5  0.5\n",
            "\n",
            "Initial,final,formula 5 4.1606823643054085 CrN\n"
          ]
        },
        {
          "output_type": "stream",
          "name": "stderr",
          "text": [
            "Traceback (most recent call last):\n",
            "  File \"<ipython-input-97-3af6eb8881f9>\", line 65, in <cell line: 11>\n",
            "    raise RuntimeError\n",
            "RuntimeError\n",
            "\r 82%|████████▏ | 60/73 [01:46<00:20,  1.59s/it]"
          ]
        },
        {
          "output_type": "stream",
          "name": "stdout",
          "text": [
            "Full Formula (Nb4 N4)\n",
            "Reduced Formula: NbN\n",
            "abc   :   5.000000   5.000000   5.000000\n",
            "angles:  90.000000  90.000000  90.000000\n",
            "pbc   :       True       True       True\n",
            "Sites (8)\n",
            "  #  SP      a    b    c\n",
            "---  ----  ---  ---  ---\n",
            "  0  Nb    0    0    0\n",
            "  1  Nb    0.5  0.5  0\n",
            "  2  Nb    0.5  0    0.5\n",
            "  3  Nb    0    0.5  0.5\n",
            "  4  N     0.5  0    0\n",
            "  5  N     0    0.5  0\n",
            "  6  N     0    0    0.5\n",
            "  7  N     0.5  0.5  0.5\n",
            "\n",
            "Initial,final,formula 5 4.454736335530738 NbN\n"
          ]
        },
        {
          "output_type": "stream",
          "name": "stderr",
          "text": [
            "\r 84%|████████▎ | 61/73 [01:47<00:19,  1.61s/it]"
          ]
        },
        {
          "output_type": "stream",
          "name": "stdout",
          "text": [
            "Full Formula (Ti4 C4)\n",
            "Reduced Formula: TiC\n",
            "abc   :   5.000000   5.000000   5.000000\n",
            "angles:  90.000000  90.000000  90.000000\n",
            "pbc   :       True       True       True\n",
            "Sites (8)\n",
            "  #  SP      a    b    c\n",
            "---  ----  ---  ---  ---\n",
            "  0  Ti    0    0    0\n",
            "  1  Ti    0.5  0.5  0\n",
            "  2  Ti    0.5  0    0.5\n",
            "  3  Ti    0    0.5  0.5\n",
            "  4  C     0.5  0    0\n",
            "  5  C     0    0.5  0\n",
            "  6  C     0    0    0.5\n",
            "  7  C     0.5  0.5  0.5\n",
            "\n",
            "Initial,final,formula 5 4.334933475999783 TiC\n"
          ]
        },
        {
          "output_type": "stream",
          "name": "stderr",
          "text": [
            "\r 85%|████████▍ | 62/73 [01:49<00:16,  1.52s/it]"
          ]
        },
        {
          "output_type": "stream",
          "name": "stdout",
          "text": [
            "Full Formula (Zr4 C4)\n",
            "Reduced Formula: ZrC\n",
            "abc   :   5.000000   5.000000   5.000000\n",
            "angles:  90.000000  90.000000  90.000000\n",
            "pbc   :       True       True       True\n",
            "Sites (8)\n",
            "  #  SP      a    b    c\n",
            "---  ----  ---  ---  ---\n",
            "  0  Zr    0    0    0\n",
            "  1  Zr    0.5  0.5  0\n",
            "  2  Zr    0.5  0    0.5\n",
            "  3  Zr    0    0.5  0.5\n",
            "  4  C     0.5  0    0\n",
            "  5  C     0    0.5  0\n",
            "  6  C     0    0    0.5\n",
            "  7  C     0.5  0.5  0.5\n",
            "\n",
            "Initial,final,formula 5 4.724509837532517 ZrC0.97\n"
          ]
        },
        {
          "output_type": "stream",
          "name": "stderr",
          "text": [
            "\r 86%|████████▋ | 63/73 [01:50<00:14,  1.48s/it]"
          ]
        },
        {
          "output_type": "stream",
          "name": "stdout",
          "text": [
            "Full Formula (Hf4 C4)\n",
            "Reduced Formula: HfC\n",
            "abc   :   5.000000   5.000000   5.000000\n",
            "angles:  90.000000  90.000000  90.000000\n",
            "pbc   :       True       True       True\n",
            "Sites (8)\n",
            "  #  SP      a    b    c\n",
            "---  ----  ---  ---  ---\n",
            "  0  Hf    0    0    0\n",
            "  1  Hf    0.5  0.5  0\n",
            "  2  Hf    0.5  0    0.5\n",
            "  3  Hf    0    0.5  0.5\n",
            "  4  C     0.5  0    0\n",
            "  5  C     0    0.5  0\n",
            "  6  C     0    0    0.5\n",
            "  7  C     0.5  0.5  0.5\n",
            "\n",
            "Initial,final,formula 5 4.650228888142042 HfC0.99\n"
          ]
        },
        {
          "output_type": "stream",
          "name": "stderr",
          "text": [
            "\r 88%|████████▊ | 64/73 [01:52<00:13,  1.52s/it]"
          ]
        },
        {
          "output_type": "stream",
          "name": "stdout",
          "text": [
            "Full Formula (V4 C4)\n",
            "Reduced Formula: VC\n",
            "abc   :   5.000000   5.000000   5.000000\n",
            "angles:  90.000000  90.000000  90.000000\n",
            "pbc   :       True       True       True\n",
            "Sites (8)\n",
            "  #  SP      a    b    c\n",
            "---  ----  ---  ---  ---\n",
            "  0  V     0    0    0\n",
            "  1  V     0.5  0.5  0\n",
            "  2  V     0.5  0    0.5\n",
            "  3  V     0    0.5  0.5\n",
            "  4  C     0.5  0    0\n",
            "  5  C     0    0.5  0\n",
            "  6  C     0    0    0.5\n",
            "  7  C     0.5  0.5  0.5\n",
            "\n",
            "Initial,final,formula 5 4.164755356283499 VC0.97\n"
          ]
        },
        {
          "output_type": "stream",
          "name": "stderr",
          "text": [
            "\r 89%|████████▉ | 65/73 [01:54<00:13,  1.74s/it]"
          ]
        },
        {
          "output_type": "stream",
          "name": "stdout",
          "text": [
            "Full Formula (Ta4 C4)\n",
            "Reduced Formula: TaC\n",
            "abc   :   5.000000   5.000000   5.000000\n",
            "angles:  90.000000  90.000000  90.000000\n",
            "pbc   :       True       True       True\n",
            "Sites (8)\n",
            "  #  SP      a    b    c\n",
            "---  ----  ---  ---  ---\n",
            "  0  Ta    0    0    0\n",
            "  1  Ta    0.5  0.5  0\n",
            "  2  Ta    0.5  0    0.5\n",
            "  3  Ta    0    0.5  0.5\n",
            "  4  C     0.5  0    0\n",
            "  5  C     0    0.5  0\n",
            "  6  C     0    0    0.5\n",
            "  7  C     0.5  0.5  0.5\n",
            "\n",
            "Initial,final,formula 5 4.482252141007887 TaC0.99\n"
          ]
        },
        {
          "output_type": "stream",
          "name": "stderr",
          "text": [
            "\r 92%|█████████▏| 67/73 [01:55<00:07,  1.28s/it]"
          ]
        },
        {
          "output_type": "stream",
          "name": "stdout",
          "text": [
            "Full Formula (Sc4 N4)\n",
            "Reduced Formula: ScN\n",
            "abc   :   5.000000   5.000000   5.000000\n",
            "angles:  90.000000  90.000000  90.000000\n",
            "pbc   :       True       True       True\n",
            "Sites (8)\n",
            "  #  SP      a    b    c\n",
            "---  ----  ---  ---  ---\n",
            "  0  Sc    0    0    0\n",
            "  1  Sc    0.5  0.5  0\n",
            "  2  Sc    0.5  0    0.5\n",
            "  3  Sc    0    0.5  0.5\n",
            "  4  N     0.5  0    0\n",
            "  5  N     0    0.5  0\n",
            "  6  N     0    0    0.5\n",
            "  7  N     0.5  0.5  0.5\n",
            "\n",
            "Initial,final,formula 5 4.517974270358841 ScN\n"
          ]
        },
        {
          "output_type": "stream",
          "name": "stderr",
          "text": [
            "\r 93%|█████████▎| 68/73 [01:56<00:06,  1.24s/it]"
          ]
        },
        {
          "output_type": "stream",
          "name": "stdout",
          "text": [
            "Full Formula (K1 Ta1 O3)\n",
            "Reduced Formula: KTaO3\n",
            "abc   :   5.000000   5.000000   5.000000\n",
            "angles:  90.000000  90.000000  90.000000\n",
            "pbc   :       True       True       True\n",
            "Sites (5)\n",
            "  #  SP      a    b    c\n",
            "---  ----  ---  ---  ---\n",
            "  0  K     0    0    0\n",
            "  1  Ta    0.5  0.5  0.5\n",
            "  2  O     0.5  0.5  0\n",
            "  3  O     0    0.5  0.5\n",
            "  4  O     0.5  0    0.5\n",
            "\n",
            "Initial,final,formula 5 4.032654482778205 KTaO3\n"
          ]
        },
        {
          "output_type": "stream",
          "name": "stderr",
          "text": [
            "\r 95%|█████████▍| 69/73 [01:57<00:04,  1.10s/it]"
          ]
        },
        {
          "output_type": "stream",
          "name": "stdout",
          "text": [
            "Full Formula (Sr1 Ti1 O3)\n",
            "Reduced Formula: SrTiO3\n",
            "abc   :   5.000000   5.000000   5.000000\n",
            "angles:  90.000000  90.000000  90.000000\n",
            "pbc   :       True       True       True\n",
            "Sites (5)\n",
            "  #  SP      a    b    c\n",
            "---  ----  ---  ---  ---\n",
            "  0  Sr    0    0    0\n",
            "  1  Ti    0.5  0.5  0.5\n",
            "  2  O     0.5  0.5  0\n",
            "  3  O     0    0.5  0.5\n",
            "  4  O     0.5  0    0.5\n",
            "\n",
            "Initial,final,formula 5 3.9448066067159178 SrTiO3\n"
          ]
        },
        {
          "output_type": "stream",
          "name": "stderr",
          "text": [
            "\r 96%|█████████▌| 70/73 [01:58<00:03,  1.12s/it]"
          ]
        },
        {
          "output_type": "stream",
          "name": "stdout",
          "text": [
            "Full Formula (Eu1 Ti1 O3)\n",
            "Reduced Formula: EuTiO3\n",
            "abc   :   5.000000   5.000000   5.000000\n",
            "angles:  90.000000  90.000000  90.000000\n",
            "pbc   :       True       True       True\n",
            "Sites (5)\n",
            "  #  SP      a    b    c\n",
            "---  ----  ---  ---  ---\n",
            "  0  Eu    0    0    0\n",
            "  1  Ti    0.5  0.5  0.5\n",
            "  2  O     0.5  0.5  0\n",
            "  3  O     0    0.5  0.5\n",
            "  4  O     0.5  0    0.5\n",
            "\n",
            "Initial,final,formula 5 3.9294272293452503 EuTiO3\n"
          ]
        },
        {
          "output_type": "stream",
          "name": "stderr",
          "text": [
            "\r 97%|█████████▋| 71/73 [02:00<00:02,  1.26s/it]"
          ]
        },
        {
          "output_type": "stream",
          "name": "stdout",
          "text": [
            "Full Formula (Sr1 V1 O3)\n",
            "Reduced Formula: SrVO3\n",
            "abc   :   5.000000   5.000000   5.000000\n",
            "angles:  90.000000  90.000000  90.000000\n",
            "pbc   :       True       True       True\n",
            "Sites (5)\n",
            "  #  SP      a    b    c\n",
            "---  ----  ---  ---  ---\n",
            "  0  Sr    0    0    0\n",
            "  1  V     0.5  0.5  0.5\n",
            "  2  O     0.5  0.5  0\n",
            "  3  O     0    0.5  0.5\n",
            "  4  O     0.5  0    0.5\n",
            "\n",
            "Initial,final,formula 5 3.906043550979565 SrVO3\n"
          ]
        },
        {
          "output_type": "stream",
          "name": "stderr",
          "text": [
            "100%|██████████| 73/73 [02:01<00:00,  1.67s/it]\n"
          ]
        }
      ]
    },
    {
      "cell_type": "code",
      "source": [
        "data_1 = data[~data[\"Material\"].isin(currently_m3gnet_failing)]"
      ],
      "metadata": {
        "id": "bAxD6CTey1jU"
      },
      "execution_count": 98,
      "outputs": []
    },
    {
      "cell_type": "code",
      "source": [
        "data_1"
      ],
      "metadata": {
        "colab": {
          "base_uri": "https://localhost:8080/",
          "height": 423
        },
        "id": "MH1wEyNh0fY_",
        "outputId": "1051e64e-e6c4-44ed-c258-b43d72cb588b"
      },
      "execution_count": 99,
      "outputs": [
        {
          "output_type": "execute_result",
          "data": {
            "text/plain": [
              "       Material     a (Å)  Crystal structure    Ref.\n",
              "0   C (diamond)  3.567000      Diamond (FCC)     [7]\n",
              "2            Si  5.431021      Diamond (FCC)  [8][9]\n",
              "3            Ge  5.658000      Diamond (FCC)     [8]\n",
              "4          AlAs  5.660500  Zinc blende (FCC)     [8]\n",
              "5           AlP  5.451000  Zinc blende (FCC)     [8]\n",
              "..          ...       ...                ...     ...\n",
              "77          ScN  4.520000             Halite    [14]\n",
              "79        KTaO3  3.988500   Cubic perovskite    [15]\n",
              "81       SrTiO3  3.988050   Cubic perovskite    [15]\n",
              "84       EuTiO3  7.810000   Cubic perovskite    [15]\n",
              "85        SrVO3  3.838000   Cubic perovskite    [15]\n",
              "\n",
              "[63 rows x 4 columns]"
            ],
            "text/html": [
              "\n",
              "  <div id=\"df-e2458521-9941-40e3-b8a2-d571722afcba\">\n",
              "    <div class=\"colab-df-container\">\n",
              "      <div>\n",
              "<style scoped>\n",
              "    .dataframe tbody tr th:only-of-type {\n",
              "        vertical-align: middle;\n",
              "    }\n",
              "\n",
              "    .dataframe tbody tr th {\n",
              "        vertical-align: top;\n",
              "    }\n",
              "\n",
              "    .dataframe thead th {\n",
              "        text-align: right;\n",
              "    }\n",
              "</style>\n",
              "<table border=\"1\" class=\"dataframe\">\n",
              "  <thead>\n",
              "    <tr style=\"text-align: right;\">\n",
              "      <th></th>\n",
              "      <th>Material</th>\n",
              "      <th>a (Å)</th>\n",
              "      <th>Crystal structure</th>\n",
              "      <th>Ref.</th>\n",
              "    </tr>\n",
              "  </thead>\n",
              "  <tbody>\n",
              "    <tr>\n",
              "      <th>0</th>\n",
              "      <td>C (diamond)</td>\n",
              "      <td>3.567000</td>\n",
              "      <td>Diamond (FCC)</td>\n",
              "      <td>[7]</td>\n",
              "    </tr>\n",
              "    <tr>\n",
              "      <th>2</th>\n",
              "      <td>Si</td>\n",
              "      <td>5.431021</td>\n",
              "      <td>Diamond (FCC)</td>\n",
              "      <td>[8][9]</td>\n",
              "    </tr>\n",
              "    <tr>\n",
              "      <th>3</th>\n",
              "      <td>Ge</td>\n",
              "      <td>5.658000</td>\n",
              "      <td>Diamond (FCC)</td>\n",
              "      <td>[8]</td>\n",
              "    </tr>\n",
              "    <tr>\n",
              "      <th>4</th>\n",
              "      <td>AlAs</td>\n",
              "      <td>5.660500</td>\n",
              "      <td>Zinc blende (FCC)</td>\n",
              "      <td>[8]</td>\n",
              "    </tr>\n",
              "    <tr>\n",
              "      <th>5</th>\n",
              "      <td>AlP</td>\n",
              "      <td>5.451000</td>\n",
              "      <td>Zinc blende (FCC)</td>\n",
              "      <td>[8]</td>\n",
              "    </tr>\n",
              "    <tr>\n",
              "      <th>...</th>\n",
              "      <td>...</td>\n",
              "      <td>...</td>\n",
              "      <td>...</td>\n",
              "      <td>...</td>\n",
              "    </tr>\n",
              "    <tr>\n",
              "      <th>77</th>\n",
              "      <td>ScN</td>\n",
              "      <td>4.520000</td>\n",
              "      <td>Halite</td>\n",
              "      <td>[14]</td>\n",
              "    </tr>\n",
              "    <tr>\n",
              "      <th>79</th>\n",
              "      <td>KTaO3</td>\n",
              "      <td>3.988500</td>\n",
              "      <td>Cubic perovskite</td>\n",
              "      <td>[15]</td>\n",
              "    </tr>\n",
              "    <tr>\n",
              "      <th>81</th>\n",
              "      <td>SrTiO3</td>\n",
              "      <td>3.988050</td>\n",
              "      <td>Cubic perovskite</td>\n",
              "      <td>[15]</td>\n",
              "    </tr>\n",
              "    <tr>\n",
              "      <th>84</th>\n",
              "      <td>EuTiO3</td>\n",
              "      <td>7.810000</td>\n",
              "      <td>Cubic perovskite</td>\n",
              "      <td>[15]</td>\n",
              "    </tr>\n",
              "    <tr>\n",
              "      <th>85</th>\n",
              "      <td>SrVO3</td>\n",
              "      <td>3.838000</td>\n",
              "      <td>Cubic perovskite</td>\n",
              "      <td>[15]</td>\n",
              "    </tr>\n",
              "  </tbody>\n",
              "</table>\n",
              "<p>63 rows × 4 columns</p>\n",
              "</div>\n",
              "      <button class=\"colab-df-convert\" onclick=\"convertToInteractive('df-e2458521-9941-40e3-b8a2-d571722afcba')\"\n",
              "              title=\"Convert this dataframe to an interactive table.\"\n",
              "              style=\"display:none;\">\n",
              "        \n",
              "  <svg xmlns=\"http://www.w3.org/2000/svg\" height=\"24px\"viewBox=\"0 0 24 24\"\n",
              "       width=\"24px\">\n",
              "    <path d=\"M0 0h24v24H0V0z\" fill=\"none\"/>\n",
              "    <path d=\"M18.56 5.44l.94 2.06.94-2.06 2.06-.94-2.06-.94-.94-2.06-.94 2.06-2.06.94zm-11 1L8.5 8.5l.94-2.06 2.06-.94-2.06-.94L8.5 2.5l-.94 2.06-2.06.94zm10 10l.94 2.06.94-2.06 2.06-.94-2.06-.94-.94-2.06-.94 2.06-2.06.94z\"/><path d=\"M17.41 7.96l-1.37-1.37c-.4-.4-.92-.59-1.43-.59-.52 0-1.04.2-1.43.59L10.3 9.45l-7.72 7.72c-.78.78-.78 2.05 0 2.83L4 21.41c.39.39.9.59 1.41.59.51 0 1.02-.2 1.41-.59l7.78-7.78 2.81-2.81c.8-.78.8-2.07 0-2.86zM5.41 20L4 18.59l7.72-7.72 1.47 1.35L5.41 20z\"/>\n",
              "  </svg>\n",
              "      </button>\n",
              "      \n",
              "  <style>\n",
              "    .colab-df-container {\n",
              "      display:flex;\n",
              "      flex-wrap:wrap;\n",
              "      gap: 12px;\n",
              "    }\n",
              "\n",
              "    .colab-df-convert {\n",
              "      background-color: #E8F0FE;\n",
              "      border: none;\n",
              "      border-radius: 50%;\n",
              "      cursor: pointer;\n",
              "      display: none;\n",
              "      fill: #1967D2;\n",
              "      height: 32px;\n",
              "      padding: 0 0 0 0;\n",
              "      width: 32px;\n",
              "    }\n",
              "\n",
              "    .colab-df-convert:hover {\n",
              "      background-color: #E2EBFA;\n",
              "      box-shadow: 0px 1px 2px rgba(60, 64, 67, 0.3), 0px 1px 3px 1px rgba(60, 64, 67, 0.15);\n",
              "      fill: #174EA6;\n",
              "    }\n",
              "\n",
              "    [theme=dark] .colab-df-convert {\n",
              "      background-color: #3B4455;\n",
              "      fill: #D2E3FC;\n",
              "    }\n",
              "\n",
              "    [theme=dark] .colab-df-convert:hover {\n",
              "      background-color: #434B5C;\n",
              "      box-shadow: 0px 1px 3px 1px rgba(0, 0, 0, 0.15);\n",
              "      filter: drop-shadow(0px 1px 2px rgba(0, 0, 0, 0.3));\n",
              "      fill: #FFFFFF;\n",
              "    }\n",
              "  </style>\n",
              "\n",
              "      <script>\n",
              "        const buttonEl =\n",
              "          document.querySelector('#df-e2458521-9941-40e3-b8a2-d571722afcba button.colab-df-convert');\n",
              "        buttonEl.style.display =\n",
              "          google.colab.kernel.accessAllowed ? 'block' : 'none';\n",
              "\n",
              "        async function convertToInteractive(key) {\n",
              "          const element = document.querySelector('#df-e2458521-9941-40e3-b8a2-d571722afcba');\n",
              "          const dataTable =\n",
              "            await google.colab.kernel.invokeFunction('convertToInteractive',\n",
              "                                                     [key], {});\n",
              "          if (!dataTable) return;\n",
              "\n",
              "          const docLinkHtml = 'Like what you see? Visit the ' +\n",
              "            '<a target=\"_blank\" href=https://colab.research.google.com/notebooks/data_table.ipynb>data table notebook</a>'\n",
              "            + ' to learn more about interactive tables.';\n",
              "          element.innerHTML = '';\n",
              "          dataTable['output_type'] = 'display_data';\n",
              "          await google.colab.output.renderOutput(dataTable, element);\n",
              "          const docLink = document.createElement('div');\n",
              "          docLink.innerHTML = docLinkHtml;\n",
              "          element.appendChild(docLink);\n",
              "        }\n",
              "      </script>\n",
              "    </div>\n",
              "  </div>\n",
              "  "
            ]
          },
          "metadata": {},
          "execution_count": 99
        }
      ]
    },
    {
      "cell_type": "code",
      "source": [
        "data_1[\"MP a (Å)\"] = mp\n",
        "data_1[\"Predicted a (Å)\"] = predicted"
      ],
      "metadata": {
        "colab": {
          "base_uri": "https://localhost:8080/"
        },
        "id": "xiXPBgJgyMyn",
        "outputId": "d03a57d0-c1b8-49b1-aa41-ad68414c1bce"
      },
      "execution_count": 100,
      "outputs": [
        {
          "output_type": "stream",
          "name": "stderr",
          "text": [
            "<ipython-input-100-5bf6779e9a9e>:1: SettingWithCopyWarning: \n",
            "A value is trying to be set on a copy of a slice from a DataFrame.\n",
            "Try using .loc[row_indexer,col_indexer] = value instead\n",
            "\n",
            "See the caveats in the documentation: https://pandas.pydata.org/pandas-docs/stable/user_guide/indexing.html#returning-a-view-versus-a-copy\n",
            "  data_1[\"MP a (Å)\"] = mp\n",
            "<ipython-input-100-5bf6779e9a9e>:2: SettingWithCopyWarning: \n",
            "A value is trying to be set on a copy of a slice from a DataFrame.\n",
            "Try using .loc[row_indexer,col_indexer] = value instead\n",
            "\n",
            "See the caveats in the documentation: https://pandas.pydata.org/pandas-docs/stable/user_guide/indexing.html#returning-a-view-versus-a-copy\n",
            "  data_1[\"Predicted a (Å)\"] = predicted\n"
          ]
        }
      ]
    },
    {
      "cell_type": "code",
      "source": [
        "data_1\n"
      ],
      "metadata": {
        "colab": {
          "base_uri": "https://localhost:8080/",
          "height": 423
        },
        "id": "TR24BBy8jFCb",
        "outputId": "0761dc30-5b8d-4455-8041-e268ce0671ba"
      },
      "execution_count": 101,
      "outputs": [
        {
          "output_type": "execute_result",
          "data": {
            "text/plain": [
              "       Material     a (Å)  Crystal structure    Ref.  MP a (Å)  \\\n",
              "0   C (diamond)  3.567000      Diamond (FCC)     [7]  3.573710   \n",
              "2            Si  5.431021      Diamond (FCC)  [8][9]  5.468728   \n",
              "3            Ge  5.658000      Diamond (FCC)     [8]  5.762862   \n",
              "4          AlAs  5.660500  Zinc blende (FCC)     [8]  5.733756   \n",
              "5           AlP  5.451000  Zinc blende (FCC)     [8]  5.507112   \n",
              "..          ...       ...                ...     ...       ...   \n",
              "77          ScN  4.520000             Halite    [14]  4.518310   \n",
              "79        KTaO3  3.988500   Cubic perovskite    [15]  4.030839   \n",
              "81       SrTiO3  3.988050   Cubic perovskite    [15]  3.945130   \n",
              "84       EuTiO3  7.810000   Cubic perovskite    [15]  3.961195   \n",
              "85        SrVO3  3.838000   Cubic perovskite    [15]  3.900891   \n",
              "\n",
              "    Predicted a (Å)  \n",
              "0          3.571804  \n",
              "2          5.450023  \n",
              "3          5.769803  \n",
              "4          5.730271  \n",
              "5          5.503462  \n",
              "..              ...  \n",
              "77         4.517974  \n",
              "79         4.032654  \n",
              "81         3.944807  \n",
              "84         3.929427  \n",
              "85         3.906044  \n",
              "\n",
              "[63 rows x 6 columns]"
            ],
            "text/html": [
              "\n",
              "  <div id=\"df-bcdc81e3-1499-4869-b43f-3331ec151906\">\n",
              "    <div class=\"colab-df-container\">\n",
              "      <div>\n",
              "<style scoped>\n",
              "    .dataframe tbody tr th:only-of-type {\n",
              "        vertical-align: middle;\n",
              "    }\n",
              "\n",
              "    .dataframe tbody tr th {\n",
              "        vertical-align: top;\n",
              "    }\n",
              "\n",
              "    .dataframe thead th {\n",
              "        text-align: right;\n",
              "    }\n",
              "</style>\n",
              "<table border=\"1\" class=\"dataframe\">\n",
              "  <thead>\n",
              "    <tr style=\"text-align: right;\">\n",
              "      <th></th>\n",
              "      <th>Material</th>\n",
              "      <th>a (Å)</th>\n",
              "      <th>Crystal structure</th>\n",
              "      <th>Ref.</th>\n",
              "      <th>MP a (Å)</th>\n",
              "      <th>Predicted a (Å)</th>\n",
              "    </tr>\n",
              "  </thead>\n",
              "  <tbody>\n",
              "    <tr>\n",
              "      <th>0</th>\n",
              "      <td>C (diamond)</td>\n",
              "      <td>3.567000</td>\n",
              "      <td>Diamond (FCC)</td>\n",
              "      <td>[7]</td>\n",
              "      <td>3.573710</td>\n",
              "      <td>3.571804</td>\n",
              "    </tr>\n",
              "    <tr>\n",
              "      <th>2</th>\n",
              "      <td>Si</td>\n",
              "      <td>5.431021</td>\n",
              "      <td>Diamond (FCC)</td>\n",
              "      <td>[8][9]</td>\n",
              "      <td>5.468728</td>\n",
              "      <td>5.450023</td>\n",
              "    </tr>\n",
              "    <tr>\n",
              "      <th>3</th>\n",
              "      <td>Ge</td>\n",
              "      <td>5.658000</td>\n",
              "      <td>Diamond (FCC)</td>\n",
              "      <td>[8]</td>\n",
              "      <td>5.762862</td>\n",
              "      <td>5.769803</td>\n",
              "    </tr>\n",
              "    <tr>\n",
              "      <th>4</th>\n",
              "      <td>AlAs</td>\n",
              "      <td>5.660500</td>\n",
              "      <td>Zinc blende (FCC)</td>\n",
              "      <td>[8]</td>\n",
              "      <td>5.733756</td>\n",
              "      <td>5.730271</td>\n",
              "    </tr>\n",
              "    <tr>\n",
              "      <th>5</th>\n",
              "      <td>AlP</td>\n",
              "      <td>5.451000</td>\n",
              "      <td>Zinc blende (FCC)</td>\n",
              "      <td>[8]</td>\n",
              "      <td>5.507112</td>\n",
              "      <td>5.503462</td>\n",
              "    </tr>\n",
              "    <tr>\n",
              "      <th>...</th>\n",
              "      <td>...</td>\n",
              "      <td>...</td>\n",
              "      <td>...</td>\n",
              "      <td>...</td>\n",
              "      <td>...</td>\n",
              "      <td>...</td>\n",
              "    </tr>\n",
              "    <tr>\n",
              "      <th>77</th>\n",
              "      <td>ScN</td>\n",
              "      <td>4.520000</td>\n",
              "      <td>Halite</td>\n",
              "      <td>[14]</td>\n",
              "      <td>4.518310</td>\n",
              "      <td>4.517974</td>\n",
              "    </tr>\n",
              "    <tr>\n",
              "      <th>79</th>\n",
              "      <td>KTaO3</td>\n",
              "      <td>3.988500</td>\n",
              "      <td>Cubic perovskite</td>\n",
              "      <td>[15]</td>\n",
              "      <td>4.030839</td>\n",
              "      <td>4.032654</td>\n",
              "    </tr>\n",
              "    <tr>\n",
              "      <th>81</th>\n",
              "      <td>SrTiO3</td>\n",
              "      <td>3.988050</td>\n",
              "      <td>Cubic perovskite</td>\n",
              "      <td>[15]</td>\n",
              "      <td>3.945130</td>\n",
              "      <td>3.944807</td>\n",
              "    </tr>\n",
              "    <tr>\n",
              "      <th>84</th>\n",
              "      <td>EuTiO3</td>\n",
              "      <td>7.810000</td>\n",
              "      <td>Cubic perovskite</td>\n",
              "      <td>[15]</td>\n",
              "      <td>3.961195</td>\n",
              "      <td>3.929427</td>\n",
              "    </tr>\n",
              "    <tr>\n",
              "      <th>85</th>\n",
              "      <td>SrVO3</td>\n",
              "      <td>3.838000</td>\n",
              "      <td>Cubic perovskite</td>\n",
              "      <td>[15]</td>\n",
              "      <td>3.900891</td>\n",
              "      <td>3.906044</td>\n",
              "    </tr>\n",
              "  </tbody>\n",
              "</table>\n",
              "<p>63 rows × 6 columns</p>\n",
              "</div>\n",
              "      <button class=\"colab-df-convert\" onclick=\"convertToInteractive('df-bcdc81e3-1499-4869-b43f-3331ec151906')\"\n",
              "              title=\"Convert this dataframe to an interactive table.\"\n",
              "              style=\"display:none;\">\n",
              "        \n",
              "  <svg xmlns=\"http://www.w3.org/2000/svg\" height=\"24px\"viewBox=\"0 0 24 24\"\n",
              "       width=\"24px\">\n",
              "    <path d=\"M0 0h24v24H0V0z\" fill=\"none\"/>\n",
              "    <path d=\"M18.56 5.44l.94 2.06.94-2.06 2.06-.94-2.06-.94-.94-2.06-.94 2.06-2.06.94zm-11 1L8.5 8.5l.94-2.06 2.06-.94-2.06-.94L8.5 2.5l-.94 2.06-2.06.94zm10 10l.94 2.06.94-2.06 2.06-.94-2.06-.94-.94-2.06-.94 2.06-2.06.94z\"/><path d=\"M17.41 7.96l-1.37-1.37c-.4-.4-.92-.59-1.43-.59-.52 0-1.04.2-1.43.59L10.3 9.45l-7.72 7.72c-.78.78-.78 2.05 0 2.83L4 21.41c.39.39.9.59 1.41.59.51 0 1.02-.2 1.41-.59l7.78-7.78 2.81-2.81c.8-.78.8-2.07 0-2.86zM5.41 20L4 18.59l7.72-7.72 1.47 1.35L5.41 20z\"/>\n",
              "  </svg>\n",
              "      </button>\n",
              "      \n",
              "  <style>\n",
              "    .colab-df-container {\n",
              "      display:flex;\n",
              "      flex-wrap:wrap;\n",
              "      gap: 12px;\n",
              "    }\n",
              "\n",
              "    .colab-df-convert {\n",
              "      background-color: #E8F0FE;\n",
              "      border: none;\n",
              "      border-radius: 50%;\n",
              "      cursor: pointer;\n",
              "      display: none;\n",
              "      fill: #1967D2;\n",
              "      height: 32px;\n",
              "      padding: 0 0 0 0;\n",
              "      width: 32px;\n",
              "    }\n",
              "\n",
              "    .colab-df-convert:hover {\n",
              "      background-color: #E2EBFA;\n",
              "      box-shadow: 0px 1px 2px rgba(60, 64, 67, 0.3), 0px 1px 3px 1px rgba(60, 64, 67, 0.15);\n",
              "      fill: #174EA6;\n",
              "    }\n",
              "\n",
              "    [theme=dark] .colab-df-convert {\n",
              "      background-color: #3B4455;\n",
              "      fill: #D2E3FC;\n",
              "    }\n",
              "\n",
              "    [theme=dark] .colab-df-convert:hover {\n",
              "      background-color: #434B5C;\n",
              "      box-shadow: 0px 1px 3px 1px rgba(0, 0, 0, 0.15);\n",
              "      filter: drop-shadow(0px 1px 2px rgba(0, 0, 0, 0.3));\n",
              "      fill: #FFFFFF;\n",
              "    }\n",
              "  </style>\n",
              "\n",
              "      <script>\n",
              "        const buttonEl =\n",
              "          document.querySelector('#df-bcdc81e3-1499-4869-b43f-3331ec151906 button.colab-df-convert');\n",
              "        buttonEl.style.display =\n",
              "          google.colab.kernel.accessAllowed ? 'block' : 'none';\n",
              "\n",
              "        async function convertToInteractive(key) {\n",
              "          const element = document.querySelector('#df-bcdc81e3-1499-4869-b43f-3331ec151906');\n",
              "          const dataTable =\n",
              "            await google.colab.kernel.invokeFunction('convertToInteractive',\n",
              "                                                     [key], {});\n",
              "          if (!dataTable) return;\n",
              "\n",
              "          const docLinkHtml = 'Like what you see? Visit the ' +\n",
              "            '<a target=\"_blank\" href=https://colab.research.google.com/notebooks/data_table.ipynb>data table notebook</a>'\n",
              "            + ' to learn more about interactive tables.';\n",
              "          element.innerHTML = '';\n",
              "          dataTable['output_type'] = 'display_data';\n",
              "          await google.colab.output.renderOutput(dataTable, element);\n",
              "          const docLink = document.createElement('div');\n",
              "          docLink.innerHTML = docLinkHtml;\n",
              "          element.appendChild(docLink);\n",
              "        }\n",
              "      </script>\n",
              "    </div>\n",
              "  </div>\n",
              "  "
            ]
          },
          "metadata": {},
          "execution_count": 101
        }
      ]
    },
    {
      "cell_type": "code",
      "source": [
        "from sklearn.metrics import mean_absolute_error\n",
        "print('MAE wrt Exp/Wiki data',mean_absolute_error(data_1['a (Å)'],data_1['Predicted a (Å)']))\n",
        "print('MAE wrt MP data',mean_absolute_error(data_1['MP a (Å)'],data_1['Predicted a (Å)']))"
      ],
      "metadata": {
        "colab": {
          "base_uri": "https://localhost:8080/"
        },
        "id": "r3pLHeW8nL2S",
        "outputId": "ecfcecea-0d2d-424b-bf75-8114e2608c7c"
      },
      "execution_count": 104,
      "outputs": [
        {
          "output_type": "stream",
          "name": "stdout",
          "text": [
            "MAE wrt Exp/Wiki data 0.13163907193121901\n",
            "MAE wrt MP data 0.0747479481970251\n"
          ]
        }
      ]
    },
    {
      "cell_type": "code",
      "source": [],
      "metadata": {
        "id": "zFCMgXcSxIXQ"
      },
      "execution_count": null,
      "outputs": []
    }
  ]
}