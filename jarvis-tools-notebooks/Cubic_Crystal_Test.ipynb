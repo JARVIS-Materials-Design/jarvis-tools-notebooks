{
  "nbformat": 4,
  "nbformat_minor": 0,
  "metadata": {
    "colab": {
      "provenance": [],
      "authorship_tag": "ABX9TyMqCit9FtvEjyh74nhUebJ1",
      "include_colab_link": true
    },
    "kernelspec": {
      "name": "python3",
      "display_name": "Python 3"
    },
    "language_info": {
      "name": "python"
    }
  },
  "cells": [
    {
      "cell_type": "markdown",
      "metadata": {
        "id": "view-in-github",
        "colab_type": "text"
      },
      "source": [
        "<a href=\"https://colab.research.google.com/github/knc6/jarvis-tools-notebooks/blob/master/jarvis-tools-notebooks/Cubic_Crystal_Test.ipynb\" target=\"_parent\"><img src=\"https://colab.research.google.com/assets/colab-badge.svg\" alt=\"Open In Colab\"/></a>"
      ]
    },
    {
      "cell_type": "markdown",
      "source": [
        "This notebook runs the jupyter-notebook given [here](https://github.com/materialsvirtuallab/m3gnet/blob/main/examples/Cubic%20Crystal%20Test.ipynb) on Colab."
      ],
      "metadata": {
        "id": "D_r9LqRSta_x"
      }
    },
    {
      "cell_type": "code",
      "execution_count": 5,
      "metadata": {
        "colab": {
          "base_uri": "https://localhost:8080/"
        },
        "id": "XEsKqR5ugbxt",
        "outputId": "f77b5b8d-1757-4050-b5f4-8fdf4d7989a5"
      },
      "outputs": [
        {
          "output_type": "stream",
          "name": "stdout",
          "text": [
            "Looking in indexes: https://pypi.org/simple, https://us-python.pkg.dev/colab-wheels/public/simple/\n",
            "Requirement already satisfied: m3gnet in /usr/local/lib/python3.10/dist-packages (0.2.4)\n",
            "Requirement already satisfied: alignn in /usr/local/lib/python3.10/dist-packages (2023.4.27)\n",
            "Requirement already satisfied: monty in /usr/local/lib/python3.10/dist-packages (from m3gnet) (2022.9.9)\n",
            "Requirement already satisfied: tensorflow in /usr/local/lib/python3.10/dist-packages (from m3gnet) (2.12.0)\n",
            "Requirement already satisfied: pymatgen in /usr/local/lib/python3.10/dist-packages (from m3gnet) (2022.11.7)\n",
            "Requirement already satisfied: sympy in /usr/local/lib/python3.10/dist-packages (from m3gnet) (1.11.1)\n",
            "Requirement already satisfied: ase in /usr/local/lib/python3.10/dist-packages (from m3gnet) (3.22.1)\n",
            "Requirement already satisfied: numpy in /usr/local/lib/python3.10/dist-packages (from m3gnet) (1.22.4)\n",
            "Requirement already satisfied: jarvis-tools>=2021.07.19 in /usr/local/lib/python3.10/dist-packages (from alignn) (2023.4.6)\n",
            "Requirement already satisfied: pydantic==1.8.1 in /usr/local/lib/python3.10/dist-packages (from alignn) (1.8.1)\n",
            "Requirement already satisfied: tqdm>=4.60.0 in /usr/local/lib/python3.10/dist-packages (from alignn) (4.65.0)\n",
            "Requirement already satisfied: pydocstyle>=6.0.0 in /usr/local/lib/python3.10/dist-packages (from alignn) (6.3.0)\n",
            "Requirement already satisfied: pyparsing<3,>=2.2.1 in /usr/local/lib/python3.10/dist-packages (from alignn) (2.4.7)\n",
            "Requirement already satisfied: scikit-learn>=0.22.2 in /usr/local/lib/python3.10/dist-packages (from alignn) (1.2.2)\n",
            "Requirement already satisfied: dgl>=0.6.0 in /usr/local/lib/python3.10/dist-packages (from alignn) (1.0.1)\n",
            "Requirement already satisfied: pandas>=1.2.3 in /usr/local/lib/python3.10/dist-packages (from alignn) (1.5.3)\n",
            "Requirement already satisfied: torch>=1.8 in /usr/local/lib/python3.10/dist-packages (from alignn) (2.0.0+cu118)\n",
            "Requirement already satisfied: scipy>=1.6.1 in /usr/local/lib/python3.10/dist-packages (from alignn) (1.10.1)\n",
            "Requirement already satisfied: matplotlib>=3.4.1 in /usr/local/lib/python3.10/dist-packages (from alignn) (3.7.1)\n",
            "Requirement already satisfied: pycodestyle>=2.7.0 in /usr/local/lib/python3.10/dist-packages (from alignn) (2.10.0)\n",
            "Requirement already satisfied: flake8>=3.9.1 in /usr/local/lib/python3.10/dist-packages (from alignn) (6.0.0)\n",
            "Requirement already satisfied: pytorch-ignite>=0.5.0.dev20221024 in /usr/local/lib/python3.10/dist-packages (from alignn) (0.5.0.dev20230430)\n",
            "Requirement already satisfied: typing-extensions>=3.7.4.3 in /usr/local/lib/python3.10/dist-packages (from pydantic==1.8.1->alignn) (4.5.0)\n",
            "Requirement already satisfied: psutil>=5.8.0 in /usr/local/lib/python3.10/dist-packages (from dgl>=0.6.0->alignn) (5.9.5)\n",
            "Requirement already satisfied: requests>=2.19.0 in /usr/local/lib/python3.10/dist-packages (from dgl>=0.6.0->alignn) (2.27.1)\n",
            "Requirement already satisfied: networkx>=2.1 in /usr/local/lib/python3.10/dist-packages (from dgl>=0.6.0->alignn) (3.1)\n",
            "Requirement already satisfied: mccabe<0.8.0,>=0.7.0 in /usr/local/lib/python3.10/dist-packages (from flake8>=3.9.1->alignn) (0.7.0)\n",
            "Requirement already satisfied: pyflakes<3.1.0,>=3.0.0 in /usr/local/lib/python3.10/dist-packages (from flake8>=3.9.1->alignn) (3.0.1)\n",
            "Requirement already satisfied: joblib>=0.14.1 in /usr/local/lib/python3.10/dist-packages (from jarvis-tools>=2021.07.19->alignn) (1.2.0)\n",
            "Requirement already satisfied: spglib>=1.14.1 in /usr/local/lib/python3.10/dist-packages (from jarvis-tools>=2021.07.19->alignn) (2.0.2)\n",
            "Requirement already satisfied: xmltodict>=0.11.0 in /usr/local/lib/python3.10/dist-packages (from jarvis-tools>=2021.07.19->alignn) (0.13.0)\n",
            "Requirement already satisfied: toolz>=0.9.0 in /usr/local/lib/python3.10/dist-packages (from jarvis-tools>=2021.07.19->alignn) (0.12.0)\n",
            "Requirement already satisfied: python-dateutil>=2.7 in /usr/local/lib/python3.10/dist-packages (from matplotlib>=3.4.1->alignn) (2.8.2)\n",
            "Requirement already satisfied: fonttools>=4.22.0 in /usr/local/lib/python3.10/dist-packages (from matplotlib>=3.4.1->alignn) (4.39.3)\n",
            "Requirement already satisfied: contourpy>=1.0.1 in /usr/local/lib/python3.10/dist-packages (from matplotlib>=3.4.1->alignn) (1.0.7)\n",
            "Requirement already satisfied: packaging>=20.0 in /usr/local/lib/python3.10/dist-packages (from matplotlib>=3.4.1->alignn) (23.1)\n",
            "Requirement already satisfied: cycler>=0.10 in /usr/local/lib/python3.10/dist-packages (from matplotlib>=3.4.1->alignn) (0.11.0)\n",
            "Requirement already satisfied: pillow>=6.2.0 in /usr/local/lib/python3.10/dist-packages (from matplotlib>=3.4.1->alignn) (8.4.0)\n",
            "Requirement already satisfied: kiwisolver>=1.0.1 in /usr/local/lib/python3.10/dist-packages (from matplotlib>=3.4.1->alignn) (1.4.4)\n",
            "Requirement already satisfied: pytz>=2020.1 in /usr/local/lib/python3.10/dist-packages (from pandas>=1.2.3->alignn) (2022.7.1)\n",
            "Requirement already satisfied: snowballstemmer>=2.2.0 in /usr/local/lib/python3.10/dist-packages (from pydocstyle>=6.0.0->alignn) (2.2.0)\n",
            "Requirement already satisfied: threadpoolctl>=2.0.0 in /usr/local/lib/python3.10/dist-packages (from scikit-learn>=0.22.2->alignn) (3.1.0)\n",
            "Requirement already satisfied: filelock in /usr/local/lib/python3.10/dist-packages (from torch>=1.8->alignn) (3.12.0)\n",
            "Requirement already satisfied: triton==2.0.0 in /usr/local/lib/python3.10/dist-packages (from torch>=1.8->alignn) (2.0.0)\n",
            "Requirement already satisfied: jinja2 in /usr/local/lib/python3.10/dist-packages (from torch>=1.8->alignn) (3.1.2)\n",
            "Requirement already satisfied: cmake in /usr/local/lib/python3.10/dist-packages (from triton==2.0.0->torch>=1.8->alignn) (3.25.2)\n",
            "Requirement already satisfied: lit in /usr/local/lib/python3.10/dist-packages (from triton==2.0.0->torch>=1.8->alignn) (16.0.2)\n",
            "Requirement already satisfied: palettable>=3.1.1 in /usr/local/lib/python3.10/dist-packages (from pymatgen->m3gnet) (3.3.3)\n",
            "Requirement already satisfied: pybtex in /usr/local/lib/python3.10/dist-packages (from pymatgen->m3gnet) (0.24.0)\n",
            "Requirement already satisfied: plotly>=4.5.0 in /usr/local/lib/python3.10/dist-packages (from pymatgen->m3gnet) (5.13.1)\n",
            "Requirement already satisfied: ruamel.yaml>=0.17.0 in /usr/local/lib/python3.10/dist-packages (from pymatgen->m3gnet) (0.17.21)\n",
            "Requirement already satisfied: mp-api>=0.27.3 in /usr/local/lib/python3.10/dist-packages (from pymatgen->m3gnet) (0.32.1)\n",
            "Requirement already satisfied: uncertainties>=3.1.4 in /usr/local/lib/python3.10/dist-packages (from pymatgen->m3gnet) (3.1.7)\n",
            "Requirement already satisfied: tabulate in /usr/local/lib/python3.10/dist-packages (from pymatgen->m3gnet) (0.8.10)\n",
            "Requirement already satisfied: mpmath>=0.19 in /usr/local/lib/python3.10/dist-packages (from sympy->m3gnet) (1.3.0)\n",
            "Requirement already satisfied: tensorflow-estimator<2.13,>=2.12.0 in /usr/local/lib/python3.10/dist-packages (from tensorflow->m3gnet) (2.12.0)\n",
            "Requirement already satisfied: grpcio<2.0,>=1.24.3 in /usr/local/lib/python3.10/dist-packages (from tensorflow->m3gnet) (1.54.0)\n",
            "Requirement already satisfied: absl-py>=1.0.0 in /usr/local/lib/python3.10/dist-packages (from tensorflow->m3gnet) (1.4.0)\n",
            "Requirement already satisfied: setuptools in /usr/local/lib/python3.10/dist-packages (from tensorflow->m3gnet) (67.7.2)\n",
            "Requirement already satisfied: tensorflow-io-gcs-filesystem>=0.23.1 in /usr/local/lib/python3.10/dist-packages (from tensorflow->m3gnet) (0.32.0)\n",
            "Requirement already satisfied: protobuf!=4.21.0,!=4.21.1,!=4.21.2,!=4.21.3,!=4.21.4,!=4.21.5,<5.0.0dev,>=3.20.3 in /usr/local/lib/python3.10/dist-packages (from tensorflow->m3gnet) (3.20.3)\n",
            "Requirement already satisfied: six>=1.12.0 in /usr/local/lib/python3.10/dist-packages (from tensorflow->m3gnet) (1.16.0)\n",
            "Requirement already satisfied: tensorboard<2.13,>=2.12 in /usr/local/lib/python3.10/dist-packages (from tensorflow->m3gnet) (2.12.2)\n",
            "Requirement already satisfied: opt-einsum>=2.3.2 in /usr/local/lib/python3.10/dist-packages (from tensorflow->m3gnet) (3.3.0)\n",
            "Requirement already satisfied: flatbuffers>=2.0 in /usr/local/lib/python3.10/dist-packages (from tensorflow->m3gnet) (23.3.3)\n",
            "Requirement already satisfied: libclang>=13.0.0 in /usr/local/lib/python3.10/dist-packages (from tensorflow->m3gnet) (16.0.0)\n",
            "Requirement already satisfied: wrapt<1.15,>=1.11.0 in /usr/local/lib/python3.10/dist-packages (from tensorflow->m3gnet) (1.14.1)\n",
            "Requirement already satisfied: gast<=0.4.0,>=0.2.1 in /usr/local/lib/python3.10/dist-packages (from tensorflow->m3gnet) (0.4.0)\n",
            "Requirement already satisfied: h5py>=2.9.0 in /usr/local/lib/python3.10/dist-packages (from tensorflow->m3gnet) (3.8.0)\n",
            "Requirement already satisfied: keras<2.13,>=2.12.0 in /usr/local/lib/python3.10/dist-packages (from tensorflow->m3gnet) (2.12.0)\n",
            "Requirement already satisfied: termcolor>=1.1.0 in /usr/local/lib/python3.10/dist-packages (from tensorflow->m3gnet) (2.3.0)\n",
            "Requirement already satisfied: google-pasta>=0.1.1 in /usr/local/lib/python3.10/dist-packages (from tensorflow->m3gnet) (0.2.0)\n",
            "Requirement already satisfied: astunparse>=1.6.0 in /usr/local/lib/python3.10/dist-packages (from tensorflow->m3gnet) (1.6.3)\n",
            "Requirement already satisfied: jax>=0.3.15 in /usr/local/lib/python3.10/dist-packages (from tensorflow->m3gnet) (0.4.8)\n",
            "Requirement already satisfied: wheel<1.0,>=0.23.0 in /usr/local/lib/python3.10/dist-packages (from astunparse>=1.6.0->tensorflow->m3gnet) (0.40.0)\n",
            "Requirement already satisfied: ml-dtypes>=0.0.3 in /usr/local/lib/python3.10/dist-packages (from jax>=0.3.15->tensorflow->m3gnet) (0.1.0)\n",
            "Requirement already satisfied: emmet-core<=0.50.0 in /usr/local/lib/python3.10/dist-packages (from mp-api>=0.27.3->pymatgen->m3gnet) (0.21.17)\n",
            "Requirement already satisfied: msgpack in /usr/local/lib/python3.10/dist-packages (from mp-api>=0.27.3->pymatgen->m3gnet) (1.0.5)\n",
            "Requirement already satisfied: tenacity>=6.2.0 in /usr/local/lib/python3.10/dist-packages (from plotly>=4.5.0->pymatgen->m3gnet) (8.2.2)\n",
            "Requirement already satisfied: certifi>=2017.4.17 in /usr/local/lib/python3.10/dist-packages (from requests>=2.19.0->dgl>=0.6.0->alignn) (2022.12.7)\n",
            "Requirement already satisfied: idna<4,>=2.5 in /usr/local/lib/python3.10/dist-packages (from requests>=2.19.0->dgl>=0.6.0->alignn) (3.4)\n",
            "Requirement already satisfied: charset-normalizer~=2.0.0 in /usr/local/lib/python3.10/dist-packages (from requests>=2.19.0->dgl>=0.6.0->alignn) (2.0.12)\n",
            "Requirement already satisfied: urllib3<1.27,>=1.21.1 in /usr/local/lib/python3.10/dist-packages (from requests>=2.19.0->dgl>=0.6.0->alignn) (1.26.15)\n",
            "Requirement already satisfied: ruamel.yaml.clib>=0.2.6 in /usr/local/lib/python3.10/dist-packages (from ruamel.yaml>=0.17.0->pymatgen->m3gnet) (0.2.7)\n",
            "Requirement already satisfied: tensorboard-plugin-wit>=1.6.0 in /usr/local/lib/python3.10/dist-packages (from tensorboard<2.13,>=2.12->tensorflow->m3gnet) (1.8.1)\n",
            "Requirement already satisfied: markdown>=2.6.8 in /usr/local/lib/python3.10/dist-packages (from tensorboard<2.13,>=2.12->tensorflow->m3gnet) (3.4.3)\n",
            "Requirement already satisfied: tensorboard-data-server<0.8.0,>=0.7.0 in /usr/local/lib/python3.10/dist-packages (from tensorboard<2.13,>=2.12->tensorflow->m3gnet) (0.7.0)\n",
            "Requirement already satisfied: google-auth-oauthlib<1.1,>=0.5 in /usr/local/lib/python3.10/dist-packages (from tensorboard<2.13,>=2.12->tensorflow->m3gnet) (1.0.0)\n",
            "Requirement already satisfied: werkzeug>=1.0.1 in /usr/local/lib/python3.10/dist-packages (from tensorboard<2.13,>=2.12->tensorflow->m3gnet) (2.3.0)\n",
            "Requirement already satisfied: google-auth<3,>=1.6.3 in /usr/local/lib/python3.10/dist-packages (from tensorboard<2.13,>=2.12->tensorflow->m3gnet) (2.17.3)\n",
            "Requirement already satisfied: future in /usr/local/lib/python3.10/dist-packages (from uncertainties>=3.1.4->pymatgen->m3gnet) (0.18.3)\n",
            "Requirement already satisfied: MarkupSafe>=2.0 in /usr/local/lib/python3.10/dist-packages (from jinja2->torch>=1.8->alignn) (2.1.2)\n",
            "Requirement already satisfied: PyYAML>=3.01 in /usr/local/lib/python3.10/dist-packages (from pybtex->pymatgen->m3gnet) (6.0)\n",
            "Requirement already satisfied: latexcodec>=1.0.4 in /usr/local/lib/python3.10/dist-packages (from pybtex->pymatgen->m3gnet) (2.0.1)\n",
            "Requirement already satisfied: robocrys>=0.2.7 in /usr/local/lib/python3.10/dist-packages (from emmet-core<=0.50.0->mp-api>=0.27.3->pymatgen->m3gnet) (0.2.7)\n",
            "Requirement already satisfied: matminer>=0.7.3 in /usr/local/lib/python3.10/dist-packages (from emmet-core<=0.50.0->mp-api>=0.27.3->pymatgen->m3gnet) (0.8.0)\n",
            "Requirement already satisfied: cachetools<6.0,>=2.0.0 in /usr/local/lib/python3.10/dist-packages (from google-auth<3,>=1.6.3->tensorboard<2.13,>=2.12->tensorflow->m3gnet) (5.3.0)\n",
            "Requirement already satisfied: rsa<5,>=3.1.4 in /usr/local/lib/python3.10/dist-packages (from google-auth<3,>=1.6.3->tensorboard<2.13,>=2.12->tensorflow->m3gnet) (4.9)\n",
            "Requirement already satisfied: pyasn1-modules>=0.2.1 in /usr/local/lib/python3.10/dist-packages (from google-auth<3,>=1.6.3->tensorboard<2.13,>=2.12->tensorflow->m3gnet) (0.3.0)\n",
            "Requirement already satisfied: requests-oauthlib>=0.7.0 in /usr/local/lib/python3.10/dist-packages (from google-auth-oauthlib<1.1,>=0.5->tensorboard<2.13,>=2.12->tensorflow->m3gnet) (1.3.1)\n",
            "Requirement already satisfied: pymongo in /usr/local/lib/python3.10/dist-packages (from matminer>=0.7.3->emmet-core<=0.50.0->mp-api>=0.27.3->pymatgen->m3gnet) (4.3.3)\n",
            "Requirement already satisfied: pyasn1<0.6.0,>=0.4.6 in /usr/local/lib/python3.10/dist-packages (from pyasn1-modules>=0.2.1->google-auth<3,>=1.6.3->tensorboard<2.13,>=2.12->tensorflow->m3gnet) (0.5.0)\n",
            "Requirement already satisfied: email-validator>=1.0.3 in /usr/local/lib/python3.10/dist-packages (from pydantic==1.8.1->alignn) (2.0.0.post2)\n",
            "Requirement already satisfied: oauthlib>=3.0.0 in /usr/local/lib/python3.10/dist-packages (from requests-oauthlib>=0.7.0->google-auth-oauthlib<1.1,>=0.5->tensorboard<2.13,>=2.12->tensorflow->m3gnet) (3.2.2)\n",
            "Requirement already satisfied: pubchempy in /usr/local/lib/python3.10/dist-packages (from robocrys>=0.2.7->emmet-core<=0.50.0->mp-api>=0.27.3->pymatgen->m3gnet) (1.0.4)\n",
            "Requirement already satisfied: inflect in /usr/local/lib/python3.10/dist-packages (from robocrys>=0.2.7->emmet-core<=0.50.0->mp-api>=0.27.3->pymatgen->m3gnet) (6.0.1)\n",
            "Requirement already satisfied: dnspython>=2.0.0 in /usr/local/lib/python3.10/dist-packages (from email-validator>=1.0.3->pydantic==1.8.1->alignn) (2.3.0)\n"
          ]
        }
      ],
      "source": [
        "!pip install m3gnet alignn"
      ]
    },
    {
      "cell_type": "code",
      "source": [
        "import traceback\n",
        "import warnings\n",
        "\n",
        "import numpy as np\n",
        "import pandas as pd\n",
        "from pymatgen.core import Composition, Lattice, Structure\n",
        "#from pymatgen.ext.matproj import MPRester\n",
        "#Run the cell twice to avoid MPRester error\n",
        "#from pymatgen.ext.matproj import _MPResterLegacy as MPRester\n",
        "from pymatgen.symmetry.analyzer import SpacegroupAnalyzer\n",
        "from tqdm import tqdm\n",
        "\n",
        "from m3gnet.models import Relaxer\n",
        "\n",
        "for category in (UserWarning, DeprecationWarning):\n",
        "    warnings.filterwarnings(\"ignore\", category=category, module=\"tensorflow\")\n",
        "    warnings.filterwarnings(\"ignore\", category=category, module=\"pymatgen\")"
      ],
      "metadata": {
        "id": "NJVJCR96ghzJ"
      },
      "execution_count": 2,
      "outputs": []
    },
    {
      "cell_type": "code",
      "source": [
        "data = pd.read_html(\"http://en.wikipedia.org/wiki/Lattice_constant\")[0]"
      ],
      "metadata": {
        "id": "PG7r4yAmiGIo"
      },
      "execution_count": 3,
      "outputs": []
    },
    {
      "cell_type": "code",
      "source": [
        "data"
      ],
      "metadata": {
        "colab": {
          "base_uri": "https://localhost:8080/",
          "height": 423
        },
        "id": "VqfwwKDhiuqt",
        "outputId": "c71103c0-2738-45f3-fd6d-1c5f3d906b1f"
      },
      "execution_count": 4,
      "outputs": [
        {
          "output_type": "execute_result",
          "data": {
            "text/plain": [
              "        Material          Lattice constant (Å)        Crystal structure  \\\n",
              "0    C (diamond)                         3.567            Diamond (FCC)   \n",
              "1   C (graphite)           a = 2.461 c = 6.708                Hexagonal   \n",
              "2             Si                   5.431020511            Diamond (FCC)   \n",
              "3             Ge                         5.658            Diamond (FCC)   \n",
              "4           AlAs                        5.6605        Zinc blende (FCC)   \n",
              "..           ...                           ...                      ...   \n",
              "86         CaVO3                         3.767         Cubic perovskite   \n",
              "87        BaMnO3            a = 5.673 c = 4.71                Hexagonal   \n",
              "88        CaMnO3  a = 5.27 b = 5.275 c = 7.464  Orthorhombic perovskite   \n",
              "89        SrRuO3    a = 5.53 b = 5.57 c = 7.85  Orthorhombic perovskite   \n",
              "90         YAlO3  a = 5.179 b = 5.329 c = 7.37  Orthorhombic perovskite   \n",
              "\n",
              "      Ref.  \n",
              "0      [7]  \n",
              "1      NaN  \n",
              "2   [8][9]  \n",
              "3      [8]  \n",
              "4      [8]  \n",
              "..     ...  \n",
              "86    [15]  \n",
              "87    [15]  \n",
              "88    [15]  \n",
              "89    [15]  \n",
              "90    [15]  \n",
              "\n",
              "[91 rows x 4 columns]"
            ],
            "text/html": [
              "\n",
              "  <div id=\"df-79d33c02-34f8-417a-b3a3-31fe14d55ee3\">\n",
              "    <div class=\"colab-df-container\">\n",
              "      <div>\n",
              "<style scoped>\n",
              "    .dataframe tbody tr th:only-of-type {\n",
              "        vertical-align: middle;\n",
              "    }\n",
              "\n",
              "    .dataframe tbody tr th {\n",
              "        vertical-align: top;\n",
              "    }\n",
              "\n",
              "    .dataframe thead th {\n",
              "        text-align: right;\n",
              "    }\n",
              "</style>\n",
              "<table border=\"1\" class=\"dataframe\">\n",
              "  <thead>\n",
              "    <tr style=\"text-align: right;\">\n",
              "      <th></th>\n",
              "      <th>Material</th>\n",
              "      <th>Lattice constant (Å)</th>\n",
              "      <th>Crystal structure</th>\n",
              "      <th>Ref.</th>\n",
              "    </tr>\n",
              "  </thead>\n",
              "  <tbody>\n",
              "    <tr>\n",
              "      <th>0</th>\n",
              "      <td>C (diamond)</td>\n",
              "      <td>3.567</td>\n",
              "      <td>Diamond (FCC)</td>\n",
              "      <td>[7]</td>\n",
              "    </tr>\n",
              "    <tr>\n",
              "      <th>1</th>\n",
              "      <td>C (graphite)</td>\n",
              "      <td>a = 2.461 c = 6.708</td>\n",
              "      <td>Hexagonal</td>\n",
              "      <td>NaN</td>\n",
              "    </tr>\n",
              "    <tr>\n",
              "      <th>2</th>\n",
              "      <td>Si</td>\n",
              "      <td>5.431020511</td>\n",
              "      <td>Diamond (FCC)</td>\n",
              "      <td>[8][9]</td>\n",
              "    </tr>\n",
              "    <tr>\n",
              "      <th>3</th>\n",
              "      <td>Ge</td>\n",
              "      <td>5.658</td>\n",
              "      <td>Diamond (FCC)</td>\n",
              "      <td>[8]</td>\n",
              "    </tr>\n",
              "    <tr>\n",
              "      <th>4</th>\n",
              "      <td>AlAs</td>\n",
              "      <td>5.6605</td>\n",
              "      <td>Zinc blende (FCC)</td>\n",
              "      <td>[8]</td>\n",
              "    </tr>\n",
              "    <tr>\n",
              "      <th>...</th>\n",
              "      <td>...</td>\n",
              "      <td>...</td>\n",
              "      <td>...</td>\n",
              "      <td>...</td>\n",
              "    </tr>\n",
              "    <tr>\n",
              "      <th>86</th>\n",
              "      <td>CaVO3</td>\n",
              "      <td>3.767</td>\n",
              "      <td>Cubic perovskite</td>\n",
              "      <td>[15]</td>\n",
              "    </tr>\n",
              "    <tr>\n",
              "      <th>87</th>\n",
              "      <td>BaMnO3</td>\n",
              "      <td>a = 5.673 c = 4.71</td>\n",
              "      <td>Hexagonal</td>\n",
              "      <td>[15]</td>\n",
              "    </tr>\n",
              "    <tr>\n",
              "      <th>88</th>\n",
              "      <td>CaMnO3</td>\n",
              "      <td>a = 5.27 b = 5.275 c = 7.464</td>\n",
              "      <td>Orthorhombic perovskite</td>\n",
              "      <td>[15]</td>\n",
              "    </tr>\n",
              "    <tr>\n",
              "      <th>89</th>\n",
              "      <td>SrRuO3</td>\n",
              "      <td>a = 5.53 b = 5.57 c = 7.85</td>\n",
              "      <td>Orthorhombic perovskite</td>\n",
              "      <td>[15]</td>\n",
              "    </tr>\n",
              "    <tr>\n",
              "      <th>90</th>\n",
              "      <td>YAlO3</td>\n",
              "      <td>a = 5.179 b = 5.329 c = 7.37</td>\n",
              "      <td>Orthorhombic perovskite</td>\n",
              "      <td>[15]</td>\n",
              "    </tr>\n",
              "  </tbody>\n",
              "</table>\n",
              "<p>91 rows × 4 columns</p>\n",
              "</div>\n",
              "      <button class=\"colab-df-convert\" onclick=\"convertToInteractive('df-79d33c02-34f8-417a-b3a3-31fe14d55ee3')\"\n",
              "              title=\"Convert this dataframe to an interactive table.\"\n",
              "              style=\"display:none;\">\n",
              "        \n",
              "  <svg xmlns=\"http://www.w3.org/2000/svg\" height=\"24px\"viewBox=\"0 0 24 24\"\n",
              "       width=\"24px\">\n",
              "    <path d=\"M0 0h24v24H0V0z\" fill=\"none\"/>\n",
              "    <path d=\"M18.56 5.44l.94 2.06.94-2.06 2.06-.94-2.06-.94-.94-2.06-.94 2.06-2.06.94zm-11 1L8.5 8.5l.94-2.06 2.06-.94-2.06-.94L8.5 2.5l-.94 2.06-2.06.94zm10 10l.94 2.06.94-2.06 2.06-.94-2.06-.94-.94-2.06-.94 2.06-2.06.94z\"/><path d=\"M17.41 7.96l-1.37-1.37c-.4-.4-.92-.59-1.43-.59-.52 0-1.04.2-1.43.59L10.3 9.45l-7.72 7.72c-.78.78-.78 2.05 0 2.83L4 21.41c.39.39.9.59 1.41.59.51 0 1.02-.2 1.41-.59l7.78-7.78 2.81-2.81c.8-.78.8-2.07 0-2.86zM5.41 20L4 18.59l7.72-7.72 1.47 1.35L5.41 20z\"/>\n",
              "  </svg>\n",
              "      </button>\n",
              "      \n",
              "  <style>\n",
              "    .colab-df-container {\n",
              "      display:flex;\n",
              "      flex-wrap:wrap;\n",
              "      gap: 12px;\n",
              "    }\n",
              "\n",
              "    .colab-df-convert {\n",
              "      background-color: #E8F0FE;\n",
              "      border: none;\n",
              "      border-radius: 50%;\n",
              "      cursor: pointer;\n",
              "      display: none;\n",
              "      fill: #1967D2;\n",
              "      height: 32px;\n",
              "      padding: 0 0 0 0;\n",
              "      width: 32px;\n",
              "    }\n",
              "\n",
              "    .colab-df-convert:hover {\n",
              "      background-color: #E2EBFA;\n",
              "      box-shadow: 0px 1px 2px rgba(60, 64, 67, 0.3), 0px 1px 3px 1px rgba(60, 64, 67, 0.15);\n",
              "      fill: #174EA6;\n",
              "    }\n",
              "\n",
              "    [theme=dark] .colab-df-convert {\n",
              "      background-color: #3B4455;\n",
              "      fill: #D2E3FC;\n",
              "    }\n",
              "\n",
              "    [theme=dark] .colab-df-convert:hover {\n",
              "      background-color: #434B5C;\n",
              "      box-shadow: 0px 1px 3px 1px rgba(0, 0, 0, 0.15);\n",
              "      filter: drop-shadow(0px 1px 2px rgba(0, 0, 0, 0.3));\n",
              "      fill: #FFFFFF;\n",
              "    }\n",
              "  </style>\n",
              "\n",
              "      <script>\n",
              "        const buttonEl =\n",
              "          document.querySelector('#df-79d33c02-34f8-417a-b3a3-31fe14d55ee3 button.colab-df-convert');\n",
              "        buttonEl.style.display =\n",
              "          google.colab.kernel.accessAllowed ? 'block' : 'none';\n",
              "\n",
              "        async function convertToInteractive(key) {\n",
              "          const element = document.querySelector('#df-79d33c02-34f8-417a-b3a3-31fe14d55ee3');\n",
              "          const dataTable =\n",
              "            await google.colab.kernel.invokeFunction('convertToInteractive',\n",
              "                                                     [key], {});\n",
              "          if (!dataTable) return;\n",
              "\n",
              "          const docLinkHtml = 'Like what you see? Visit the ' +\n",
              "            '<a target=\"_blank\" href=https://colab.research.google.com/notebooks/data_table.ipynb>data table notebook</a>'\n",
              "            + ' to learn more about interactive tables.';\n",
              "          element.innerHTML = '';\n",
              "          dataTable['output_type'] = 'display_data';\n",
              "          await google.colab.output.renderOutput(dataTable, element);\n",
              "          const docLink = document.createElement('div');\n",
              "          docLink.innerHTML = docLinkHtml;\n",
              "          element.appendChild(docLink);\n",
              "        }\n",
              "      </script>\n",
              "    </div>\n",
              "  </div>\n",
              "  "
            ]
          },
          "metadata": {},
          "execution_count": 4
        }
      ]
    },
    {
      "cell_type": "code",
      "source": [
        "\n",
        "data = data[\n",
        "    ~data[\"Crystal structure\"].isin(\n",
        "        [\"Hexagonal\", \"Wurtzite\", \"Wurtzite (HCP)\", \"Orthorhombic\", \"Tetragonal perovskite\", \"Orthorhombic perovskite\"]\n",
        "    )\n",
        "]\n",
        "data.rename(columns={\"Lattice constant (Å)\": \"a (Å)\"}, inplace=True)\n",
        "\n",
        "data[\"a (Å)\"] = data[\"a (Å)\"].map(float)\n",
        "\n",
        "\n",
        "additional_fcc = \"\"\"10 Ne 4.43 54 Xe 6.20\n",
        "13 Al 4.05 58 Ce 5.16\n",
        "18 Ar 5.26 70 Yb 5.49\n",
        "20 Ca 5.58 77 Ir 3.84\n",
        "28 Ni 3.52 78 Pt 3.92\n",
        "29 Cu 3.61 79 Au 4.08\n",
        "36 Kr 5.72 82 Pb 4.95\n",
        "38 Sr 6.08 47 Ag 4.09\n",
        "45 Rh 3.80 89 Ac 5.31\n",
        "46 Pd 3.89 90 Th 5.08\"\"\"\n",
        "\n",
        "additional_bcc = \"\"\"3 Li 3.49 42 Mo 3.15\n",
        "11 Na 4.23 55 Cs 6.05\n",
        "19 K 5.23 56 Ba 5.02\n",
        "23 V 3.02 63 Eu 4.61\n",
        "24 Cr 2.88 73 Ta 3.31\n",
        "26 Fe 2.87 74 W 3.16\n",
        "37 Rb 5.59 41 Nb 3.30\"\"\"\n",
        "def add_new(str_, structure_type, df):\n",
        "    tokens = str_.split()\n",
        "    new_crystals = []\n",
        "    for i in range(int(len(tokens) / 3)):\n",
        "        el = tokens[3 * i + 1].strip()\n",
        "        if el not in df[\"Material\"].values:\n",
        "            new_crystals.append([tokens[3 * i + 1], structure_type, float(tokens[3 * i + 2])])\n",
        "    df2 = pd.DataFrame(new_crystals, columns=data.columns)\n",
        "    return pd.concat([df, df2])\n",
        "\n",
        "\n",
        "# data = add_new(additional_fcc, \"FCC\", data)\n",
        "# data = add_new(additional_bcc, \"BCC\", data)\n",
        "# data.set_index(\"Material\", inplace=True)\n",
        "print(data)"
      ],
      "metadata": {
        "colab": {
          "base_uri": "https://localhost:8080/"
        },
        "id": "t_PhIF8EgwLJ",
        "outputId": "7b235c14-df32-44bd-97f7-bb6f6cad217a"
      },
      "execution_count": 5,
      "outputs": [
        {
          "output_type": "stream",
          "name": "stdout",
          "text": [
            "       Material     a (Å)  Crystal structure    Ref.\n",
            "0   C (diamond)  3.567000      Diamond (FCC)     [7]\n",
            "2            Si  5.431021      Diamond (FCC)  [8][9]\n",
            "3            Ge  5.658000      Diamond (FCC)     [8]\n",
            "4          AlAs  5.660500  Zinc blende (FCC)     [8]\n",
            "5           AlP  5.451000  Zinc blende (FCC)     [8]\n",
            "..          ...       ...                ...     ...\n",
            "79        KTaO3  3.988500   Cubic perovskite    [15]\n",
            "81       SrTiO3  3.988050   Cubic perovskite    [15]\n",
            "84       EuTiO3  7.810000   Cubic perovskite    [15]\n",
            "85        SrVO3  3.838000   Cubic perovskite    [15]\n",
            "86        CaVO3  3.767000   Cubic perovskite    [15]\n",
            "\n",
            "[73 rows x 4 columns]\n"
          ]
        },
        {
          "output_type": "stream",
          "name": "stderr",
          "text": [
            "<ipython-input-5-08c8062c8bd3>:6: SettingWithCopyWarning: \n",
            "A value is trying to be set on a copy of a slice from a DataFrame\n",
            "\n",
            "See the caveats in the documentation: https://pandas.pydata.org/pandas-docs/stable/user_guide/indexing.html#returning-a-view-versus-a-copy\n",
            "  data.rename(columns={\"Lattice constant (Å)\": \"a (Å)\"}, inplace=True)\n",
            "<ipython-input-5-08c8062c8bd3>:8: SettingWithCopyWarning: \n",
            "A value is trying to be set on a copy of a slice from a DataFrame.\n",
            "Try using .loc[row_indexer,col_indexer] = value instead\n",
            "\n",
            "See the caveats in the documentation: https://pandas.pydata.org/pandas-docs/stable/user_guide/indexing.html#returning-a-view-versus-a-copy\n",
            "  data[\"a (Å)\"] = data[\"a (Å)\"].map(float)\n"
          ]
        }
      ]
    },
    {
      "cell_type": "markdown",
      "source": [
        "Setting 5 Angstrom lattice constant to all crystals"
      ],
      "metadata": {
        "id": "FzoHZDPjo7dF"
      }
    },
    {
      "cell_type": "code",
      "source": [
        "MAPI_KEY_LEGACY = '' #Optional, keep your MAPI_LEGACY_KEY here\n",
        "predicted = []\n",
        "mp = []\n",
        "initial_structs = []\n",
        "final_m3gnet_structs = []\n",
        "\n",
        "#mpr = MPRester(MAPI_KEY_LEGACY)\n",
        "\n",
        "relaxer = Relaxer()  # This loads the default pre-trained model\n",
        "\n",
        "# warnings.filterwarnings(action=\"ignore\", category=UserWarning, module=\"tensorflow\")\n",
        "currently_m3gnet_failing = ['CsCl','CsI','Fe','Mo','W','V','Nb','Ta','Ne','CaVO3','Xe','Ar','Yb','Kr','Sr','Ac','Li','Na','Cs','K','Ba','Eu','Cr','Rb',\"NC0.99\"]\n",
        "\n",
        "#for formula, v in tqdm(data.iterrows(), total=len(data)):\n",
        "for ii,i in tqdm(data.iterrows(), total=len(data)):\n",
        "  #M3gnet failing so skipping these\n",
        "  formula=i['Material']\n",
        "  if formula not in currently_m3gnet_failing: \n",
        "    formula = formula.split()[0]\n",
        "    c = Composition(formula)\n",
        "    els = sorted(c.elements)\n",
        "    #cs = v[\"Crystal structure\"]\n",
        "    cs = i[\"Crystal structure\"]\n",
        "    wiki = i['a (Å)']\n",
        "    # We initialize all the crystals with an arbitrary lattice constant of 5 angstroms.\n",
        "    if \"Zinc blende\" in cs:\n",
        "        s = Structure.from_spacegroup(\"F-43m\", Lattice.cubic(5), [els[0], els[1]], [[0, 0, 0], [0.25, 0.25, 0.75]])\n",
        "    elif \"Halite\" in cs:\n",
        "        s = Structure.from_spacegroup(\"Fm-3m\", Lattice.cubic(5), [els[0], els[1]], [[0, 0, 0], [0.5, 0, 0]])\n",
        "    elif \"Caesium chloride\" in cs:\n",
        "        s = Structure.from_spacegroup(\"Pm-3m\", Lattice.cubic(5), [els[0], els[1]], [[0, 0, 0], [0.5, 0.5, 0.5]])\n",
        "    elif \"Cubic perovskite\" in cs:\n",
        "        s = Structure(\n",
        "            Lattice.cubic(5),\n",
        "            [els[0], els[1], els[2], els[2], els[2]],\n",
        "            [[0.0, 0.0, 0.0], [0.5, 0.5, 0.5], [0.5, 0.5, 0], [0.0, 0.5, 0.5], [0.5, 0, 0.5]],\n",
        "        )\n",
        "    elif \"Diamond\" in cs:\n",
        "        s = Structure.from_spacegroup(\"Fd-3m\", Lattice.cubic(5), [els[0]], [[0.25, 0.75, 0.25]])\n",
        "    elif \"BCC\" in cs:\n",
        "        s = Structure(Lattice.cubic(5), [els[0]] * 2, [[0.0, 0.0, 0.0], [0.5, 0.5, 0.5]])\n",
        "    elif \"FCC\" in cs:\n",
        "        s = Structure(Lattice.cubic(5), [els[0]] * 4, [[0.0, 0.0, 0.0], [0.5, 0.5, 0], [0.0, 0.5, 0.5], [0.5, 0, 0.5]])\n",
        "    else:\n",
        "        predicted.append(0)\n",
        "        mp.append(0)\n",
        "        continue\n",
        "    print(s)\n",
        "    initial_structs.append(s)\n",
        "    relax_results = relaxer.relax(s)\n",
        "\n",
        "    final_structure = relax_results[\"final_structure\"]\n",
        "    final_m3gnet_structs.append(final_structure)\n",
        "    predicted.append(final_structure.lattice.a)\n",
        "    \n",
        "    #break\n",
        "    try:\n",
        "        mids = mpr.get_entries(s.composition.reduced_formula)\n",
        "        for i in mids:\n",
        "            try:\n",
        "                structure = mpr.get_structure_by_material_id(i.entry_id)\n",
        "                sga = SpacegroupAnalyzer(structure)\n",
        "                sga2 = SpacegroupAnalyzer(final_structure)\n",
        "                if sga.get_space_group_number() == sga2.get_space_group_number():\n",
        "                    conv = sga.get_conventional_standard_structure()\n",
        "                    mp.append(conv.lattice.a)\n",
        "                    break\n",
        "            except Exception:\n",
        "                pass\n",
        "        else:\n",
        "            raise RuntimeError\n",
        "    except Exception:\n",
        "        mp.append(0)\n",
        "        traceback.print_exc()\n",
        "    print('\\nInitial,final,MP,Wiki,formula',5,final_structure.lattice.a,mp[-1],wiki)"
      ],
      "metadata": {
        "colab": {
          "base_uri": "https://localhost:8080/"
        },
        "id": "N3zPiuyihlcA",
        "outputId": "973bd27a-d9ab-4960-d53c-4546c7e503c9"
      },
      "execution_count": 6,
      "outputs": [
        {
          "output_type": "stream",
          "name": "stderr",
          "text": [
            "\r  0%|          | 0/73 [00:00<?, ?it/s]"
          ]
        },
        {
          "output_type": "stream",
          "name": "stdout",
          "text": [
            "Full Formula (C8)\n",
            "Reduced Formula: C\n",
            "abc   :   5.000000   5.000000   5.000000\n",
            "angles:  90.000000  90.000000  90.000000\n",
            "pbc   :       True       True       True\n",
            "Sites (8)\n",
            "  #  SP       a     b     c\n",
            "---  ----  ----  ----  ----\n",
            "  0  C     0.25  0.25  0.75\n",
            "  1  C     0     0.5   0\n",
            "  2  C     0.75  0.75  0.75\n",
            "  3  C     0.5   0.5   0.5\n",
            "  4  C     0.75  0.25  0.25\n",
            "  5  C     0.5   0     0\n",
            "  6  C     0     0     0.5\n",
            "  7  C     0.25  0.75  0.25\n"
          ]
        },
        {
          "output_type": "stream",
          "name": "stderr",
          "text": [
            "WARNING:tensorflow:You are casting an input of type complex64 to an incompatible dtype float32.  This will discard the imaginary part and may not be what you intended.\n",
            "WARNING:tensorflow:You are casting an input of type complex64 to an incompatible dtype float32.  This will discard the imaginary part and may not be what you intended.\n",
            "WARNING:tensorflow:You are casting an input of type complex64 to an incompatible dtype float32.  This will discard the imaginary part and may not be what you intended.\n",
            "WARNING:tensorflow:You are casting an input of type complex64 to an incompatible dtype float32.  This will discard the imaginary part and may not be what you intended.\n",
            "WARNING:tensorflow:You are casting an input of type complex64 to an incompatible dtype float32.  This will discard the imaginary part and may not be what you intended.\n",
            "Traceback (most recent call last):\n",
            "  File \"<ipython-input-6-a9bc7b7bd966>\", line 58, in <cell line: 15>\n",
            "    mids = mpr.get_entries(s.composition.reduced_formula)\n",
            "NameError: name 'mpr' is not defined\n",
            "  1%|▏         | 1/73 [00:14<17:47, 14.82s/it]"
          ]
        },
        {
          "output_type": "stream",
          "name": "stdout",
          "text": [
            "\n",
            "Initial,final,MP,Wiki,formula 5 3.5718039756536863 0 3.567\n",
            "Full Formula (Si8)\n",
            "Reduced Formula: Si\n",
            "abc   :   5.000000   5.000000   5.000000\n",
            "angles:  90.000000  90.000000  90.000000\n",
            "pbc   :       True       True       True\n",
            "Sites (8)\n",
            "  #  SP       a     b     c\n",
            "---  ----  ----  ----  ----\n",
            "  0  Si    0.25  0.25  0.75\n",
            "  1  Si    0     0.5   0\n",
            "  2  Si    0.75  0.75  0.75\n",
            "  3  Si    0.5   0.5   0.5\n",
            "  4  Si    0.75  0.25  0.25\n",
            "  5  Si    0.5   0     0\n",
            "  6  Si    0     0     0.5\n",
            "  7  Si    0.25  0.75  0.25\n"
          ]
        },
        {
          "output_type": "stream",
          "name": "stderr",
          "text": [
            "Traceback (most recent call last):\n",
            "  File \"<ipython-input-6-a9bc7b7bd966>\", line 58, in <cell line: 15>\n",
            "    mids = mpr.get_entries(s.composition.reduced_formula)\n",
            "NameError: name 'mpr' is not defined\n",
            "\r  3%|▎         | 2/73 [00:15<07:29,  6.33s/it]"
          ]
        },
        {
          "output_type": "stream",
          "name": "stdout",
          "text": [
            "\n",
            "Initial,final,MP,Wiki,formula 5 5.450023339662936 0 5.431020511\n",
            "Full Formula (Ge8)\n",
            "Reduced Formula: Ge\n",
            "abc   :   5.000000   5.000000   5.000000\n",
            "angles:  90.000000  90.000000  90.000000\n",
            "pbc   :       True       True       True\n",
            "Sites (8)\n",
            "  #  SP       a     b     c\n",
            "---  ----  ----  ----  ----\n",
            "  0  Ge    0.25  0.25  0.75\n",
            "  1  Ge    0     0.5   0\n",
            "  2  Ge    0.75  0.75  0.75\n",
            "  3  Ge    0.5   0.5   0.5\n",
            "  4  Ge    0.75  0.25  0.25\n",
            "  5  Ge    0.5   0     0\n",
            "  6  Ge    0     0     0.5\n",
            "  7  Ge    0.25  0.75  0.25\n"
          ]
        },
        {
          "output_type": "stream",
          "name": "stderr",
          "text": [
            "Traceback (most recent call last):\n",
            "  File \"<ipython-input-6-a9bc7b7bd966>\", line 58, in <cell line: 15>\n",
            "    mids = mpr.get_entries(s.composition.reduced_formula)\n",
            "NameError: name 'mpr' is not defined\n",
            "\r  4%|▍         | 3/73 [00:16<04:27,  3.83s/it]"
          ]
        },
        {
          "output_type": "stream",
          "name": "stdout",
          "text": [
            "\n",
            "Initial,final,MP,Wiki,formula 5 5.769802956118946 0 5.658\n",
            "Full Formula (Al4 As4)\n",
            "Reduced Formula: AlAs\n",
            "abc   :   5.000000   5.000000   5.000000\n",
            "angles:  90.000000  90.000000  90.000000\n",
            "pbc   :       True       True       True\n",
            "Sites (8)\n",
            "  #  SP       a     b     c\n",
            "---  ----  ----  ----  ----\n",
            "  0  Al    0     0.5   0.5\n",
            "  1  Al    0     0     0\n",
            "  2  Al    0.5   0     0.5\n",
            "  3  Al    0.5   0.5   0\n",
            "  4  As    0.75  0.25  0.25\n",
            "  5  As    0.75  0.75  0.75\n",
            "  6  As    0.25  0.75  0.25\n",
            "  7  As    0.25  0.25  0.75\n"
          ]
        },
        {
          "output_type": "stream",
          "name": "stderr",
          "text": [
            "Traceback (most recent call last):\n",
            "  File \"<ipython-input-6-a9bc7b7bd966>\", line 58, in <cell line: 15>\n",
            "    mids = mpr.get_entries(s.composition.reduced_formula)\n",
            "NameError: name 'mpr' is not defined\n",
            "\r  5%|▌         | 4/73 [00:17<03:11,  2.77s/it]"
          ]
        },
        {
          "output_type": "stream",
          "name": "stdout",
          "text": [
            "\n",
            "Initial,final,MP,Wiki,formula 5 5.730270649179928 0 5.6605\n",
            "Full Formula (Al4 P4)\n",
            "Reduced Formula: AlP\n",
            "abc   :   5.000000   5.000000   5.000000\n",
            "angles:  90.000000  90.000000  90.000000\n",
            "pbc   :       True       True       True\n",
            "Sites (8)\n",
            "  #  SP       a     b     c\n",
            "---  ----  ----  ----  ----\n",
            "  0  Al    0     0.5   0.5\n",
            "  1  Al    0     0     0\n",
            "  2  Al    0.5   0     0.5\n",
            "  3  Al    0.5   0.5   0\n",
            "  4  P     0.75  0.25  0.25\n",
            "  5  P     0.75  0.75  0.75\n",
            "  6  P     0.25  0.75  0.25\n",
            "  7  P     0.25  0.25  0.75\n"
          ]
        },
        {
          "output_type": "stream",
          "name": "stderr",
          "text": [
            "Traceback (most recent call last):\n",
            "  File \"<ipython-input-6-a9bc7b7bd966>\", line 58, in <cell line: 15>\n",
            "    mids = mpr.get_entries(s.composition.reduced_formula)\n",
            "NameError: name 'mpr' is not defined\n",
            "\r  7%|▋         | 5/73 [00:17<02:15,  2.00s/it]"
          ]
        },
        {
          "output_type": "stream",
          "name": "stdout",
          "text": [
            "\n",
            "Initial,final,MP,Wiki,formula 5 5.503462062585064 0 5.451\n",
            "Full Formula (Al4 Sb4)\n",
            "Reduced Formula: AlSb\n",
            "abc   :   5.000000   5.000000   5.000000\n",
            "angles:  90.000000  90.000000  90.000000\n",
            "pbc   :       True       True       True\n",
            "Sites (8)\n",
            "  #  SP       a     b     c\n",
            "---  ----  ----  ----  ----\n",
            "  0  Al    0     0.5   0.5\n",
            "  1  Al    0     0     0\n",
            "  2  Al    0.5   0     0.5\n",
            "  3  Al    0.5   0.5   0\n",
            "  4  Sb    0.75  0.25  0.25\n",
            "  5  Sb    0.75  0.75  0.75\n",
            "  6  Sb    0.25  0.75  0.25\n",
            "  7  Sb    0.25  0.25  0.75\n"
          ]
        },
        {
          "output_type": "stream",
          "name": "stderr",
          "text": [
            "Traceback (most recent call last):\n",
            "  File \"<ipython-input-6-a9bc7b7bd966>\", line 58, in <cell line: 15>\n",
            "    mids = mpr.get_entries(s.composition.reduced_formula)\n",
            "NameError: name 'mpr' is not defined\n",
            "  8%|▊         | 6/73 [00:18<01:40,  1.51s/it]Traceback (most recent call last):\n",
            "  File \"<ipython-input-6-a9bc7b7bd966>\", line 58, in <cell line: 15>\n",
            "    mids = mpr.get_entries(s.composition.reduced_formula)\n",
            "NameError: name 'mpr' is not defined\n",
            " 10%|▉         | 7/73 [00:18<01:09,  1.06s/it]"
          ]
        },
        {
          "output_type": "stream",
          "name": "stdout",
          "text": [
            "\n",
            "Initial,final,MP,Wiki,formula 5 6.2281680426071055 0 6.1355\n",
            "Full Formula (Ga4 P4)\n",
            "Reduced Formula: GaP\n",
            "abc   :   5.000000   5.000000   5.000000\n",
            "angles:  90.000000  90.000000  90.000000\n",
            "pbc   :       True       True       True\n",
            "Sites (8)\n",
            "  #  SP       a     b     c\n",
            "---  ----  ----  ----  ----\n",
            "  0  Ga    0     0.5   0.5\n",
            "  1  Ga    0     0     0\n",
            "  2  Ga    0.5   0     0.5\n",
            "  3  Ga    0.5   0.5   0\n",
            "  4  P     0.75  0.25  0.25\n",
            "  5  P     0.75  0.75  0.75\n",
            "  6  P     0.25  0.75  0.25\n",
            "  7  P     0.25  0.25  0.75\n",
            "\n",
            "Initial,final,MP,Wiki,formula 5 5.505396112700077 0 5.4505\n",
            "Full Formula (Ga4 As4)\n",
            "Reduced Formula: GaAs\n",
            "abc   :   5.000000   5.000000   5.000000\n",
            "angles:  90.000000  90.000000  90.000000\n",
            "pbc   :       True       True       True\n",
            "Sites (8)\n",
            "  #  SP       a     b     c\n",
            "---  ----  ----  ----  ----\n",
            "  0  Ga    0     0.5   0.5\n",
            "  1  Ga    0     0     0\n",
            "  2  Ga    0.5   0     0.5\n",
            "  3  Ga    0.5   0.5   0\n",
            "  4  As    0.75  0.25  0.25\n",
            "  5  As    0.75  0.75  0.75\n",
            "  6  As    0.25  0.75  0.25\n",
            "  7  As    0.25  0.25  0.75\n"
          ]
        },
        {
          "output_type": "stream",
          "name": "stderr",
          "text": [
            "Traceback (most recent call last):\n",
            "  File \"<ipython-input-6-a9bc7b7bd966>\", line 58, in <cell line: 15>\n",
            "    mids = mpr.get_entries(s.composition.reduced_formula)\n",
            "NameError: name 'mpr' is not defined\n",
            "\r 11%|█         | 8/73 [00:18<00:56,  1.15it/s]"
          ]
        },
        {
          "output_type": "stream",
          "name": "stdout",
          "text": [
            "\n",
            "Initial,final,MP,Wiki,formula 5 5.7505481427087375 0 5.653\n",
            "Full Formula (Ga4 Sb4)\n",
            "Reduced Formula: GaSb\n",
            "abc   :   5.000000   5.000000   5.000000\n",
            "angles:  90.000000  90.000000  90.000000\n",
            "pbc   :       True       True       True\n",
            "Sites (8)\n",
            "  #  SP       a     b     c\n",
            "---  ----  ----  ----  ----\n",
            "  0  Ga    0     0.5   0.5\n",
            "  1  Ga    0     0     0\n",
            "  2  Ga    0.5   0     0.5\n",
            "  3  Ga    0.5   0.5   0\n",
            "  4  Sb    0.75  0.25  0.25\n",
            "  5  Sb    0.75  0.75  0.75\n",
            "  6  Sb    0.25  0.75  0.25\n",
            "  7  Sb    0.25  0.25  0.75\n"
          ]
        },
        {
          "output_type": "stream",
          "name": "stderr",
          "text": [
            "Traceback (most recent call last):\n",
            "  File \"<ipython-input-6-a9bc7b7bd966>\", line 58, in <cell line: 15>\n",
            "    mids = mpr.get_entries(s.composition.reduced_formula)\n",
            "NameError: name 'mpr' is not defined\n",
            "\r 12%|█▏        | 9/73 [00:19<00:45,  1.40it/s]"
          ]
        },
        {
          "output_type": "stream",
          "name": "stdout",
          "text": [
            "\n",
            "Initial,final,MP,Wiki,formula 5 6.219386018856416 0 6.0959\n",
            "Full Formula (In4 P4)\n",
            "Reduced Formula: InP\n",
            "abc   :   5.000000   5.000000   5.000000\n",
            "angles:  90.000000  90.000000  90.000000\n",
            "pbc   :       True       True       True\n",
            "Sites (8)\n",
            "  #  SP       a     b     c\n",
            "---  ----  ----  ----  ----\n",
            "  0  In    0     0.5   0.5\n",
            "  1  In    0     0     0\n",
            "  2  In    0.5   0     0.5\n",
            "  3  In    0.5   0.5   0\n",
            "  4  P     0.75  0.25  0.25\n",
            "  5  P     0.75  0.75  0.75\n",
            "  6  P     0.25  0.75  0.25\n",
            "  7  P     0.25  0.25  0.75\n"
          ]
        },
        {
          "output_type": "stream",
          "name": "stderr",
          "text": [
            "Traceback (most recent call last):\n",
            "  File \"<ipython-input-6-a9bc7b7bd966>\", line 58, in <cell line: 15>\n",
            "    mids = mpr.get_entries(s.composition.reduced_formula)\n",
            "NameError: name 'mpr' is not defined\n",
            "\r 14%|█▎        | 10/73 [00:20<00:53,  1.18it/s]"
          ]
        },
        {
          "output_type": "stream",
          "name": "stdout",
          "text": [
            "\n",
            "Initial,final,MP,Wiki,formula 5 5.9678970754489375 0 5.869\n",
            "Full Formula (In4 As4)\n",
            "Reduced Formula: InAs\n",
            "abc   :   5.000000   5.000000   5.000000\n",
            "angles:  90.000000  90.000000  90.000000\n",
            "pbc   :       True       True       True\n",
            "Sites (8)\n",
            "  #  SP       a     b     c\n",
            "---  ----  ----  ----  ----\n",
            "  0  In    0     0.5   0.5\n",
            "  1  In    0     0     0\n",
            "  2  In    0.5   0     0.5\n",
            "  3  In    0.5   0.5   0\n",
            "  4  As    0.75  0.25  0.25\n",
            "  5  As    0.75  0.75  0.75\n",
            "  6  As    0.25  0.75  0.25\n",
            "  7  As    0.25  0.25  0.75\n"
          ]
        },
        {
          "output_type": "stream",
          "name": "stderr",
          "text": [
            "Traceback (most recent call last):\n",
            "  File \"<ipython-input-6-a9bc7b7bd966>\", line 58, in <cell line: 15>\n",
            "    mids = mpr.get_entries(s.composition.reduced_formula)\n",
            "NameError: name 'mpr' is not defined\n",
            "\r 15%|█▌        | 11/73 [00:20<00:41,  1.50it/s]"
          ]
        },
        {
          "output_type": "stream",
          "name": "stdout",
          "text": [
            "\n",
            "Initial,final,MP,Wiki,formula 5 6.253745033932648 0 6.0583\n",
            "Full Formula (In4 Sb4)\n",
            "Reduced Formula: InSb\n",
            "abc   :   5.000000   5.000000   5.000000\n",
            "angles:  90.000000  90.000000  90.000000\n",
            "pbc   :       True       True       True\n",
            "Sites (8)\n",
            "  #  SP       a     b     c\n",
            "---  ----  ----  ----  ----\n",
            "  0  In    0     0.5   0.5\n",
            "  1  In    0     0     0\n",
            "  2  In    0.5   0     0.5\n",
            "  3  In    0.5   0.5   0\n",
            "  4  Sb    0.75  0.25  0.25\n",
            "  5  Sb    0.75  0.75  0.75\n",
            "  6  Sb    0.25  0.75  0.25\n",
            "  7  Sb    0.25  0.25  0.75\n"
          ]
        },
        {
          "output_type": "stream",
          "name": "stderr",
          "text": [
            "Traceback (most recent call last):\n",
            "  File \"<ipython-input-6-a9bc7b7bd966>\", line 58, in <cell line: 15>\n",
            "    mids = mpr.get_entries(s.composition.reduced_formula)\n",
            "NameError: name 'mpr' is not defined\n",
            "\r 16%|█▋        | 12/73 [00:22<00:57,  1.07it/s]"
          ]
        },
        {
          "output_type": "stream",
          "name": "stdout",
          "text": [
            "\n",
            "Initial,final,MP,Wiki,formula 5 6.638631566769606 0 6.479\n",
            "Full Formula (Mg4 O4)\n",
            "Reduced Formula: MgO\n",
            "abc   :   5.000000   5.000000   5.000000\n",
            "angles:  90.000000  90.000000  90.000000\n",
            "pbc   :       True       True       True\n",
            "Sites (8)\n",
            "  #  SP      a    b    c\n",
            "---  ----  ---  ---  ---\n",
            "  0  Mg    0    0    0\n",
            "  1  Mg    0.5  0.5  0\n",
            "  2  Mg    0.5  0    0.5\n",
            "  3  Mg    0    0.5  0.5\n",
            "  4  O     0.5  0    0\n",
            "  5  O     0    0.5  0\n",
            "  6  O     0    0    0.5\n",
            "  7  O     0.5  0.5  0.5\n"
          ]
        },
        {
          "output_type": "stream",
          "name": "stderr",
          "text": [
            "Traceback (most recent call last):\n",
            "  File \"<ipython-input-6-a9bc7b7bd966>\", line 58, in <cell line: 15>\n",
            "    mids = mpr.get_entries(s.composition.reduced_formula)\n",
            "NameError: name 'mpr' is not defined\n",
            "\r 18%|█▊        | 13/73 [00:24<01:22,  1.38s/it]"
          ]
        },
        {
          "output_type": "stream",
          "name": "stdout",
          "text": [
            "\n",
            "Initial,final,MP,Wiki,formula 5 4.256703308824565 0 4.212\n",
            "Full Formula (Cd4 S4)\n",
            "Reduced Formula: CdS\n",
            "abc   :   5.000000   5.000000   5.000000\n",
            "angles:  90.000000  90.000000  90.000000\n",
            "pbc   :       True       True       True\n",
            "Sites (8)\n",
            "  #  SP       a     b     c\n",
            "---  ----  ----  ----  ----\n",
            "  0  Cd    0     0.5   0.5\n",
            "  1  Cd    0     0     0\n",
            "  2  Cd    0.5   0     0.5\n",
            "  3  Cd    0.5   0.5   0\n",
            "  4  S     0.75  0.25  0.25\n",
            "  5  S     0.75  0.75  0.75\n",
            "  6  S     0.25  0.75  0.25\n",
            "  7  S     0.25  0.25  0.75\n"
          ]
        },
        {
          "output_type": "stream",
          "name": "stderr",
          "text": [
            "Traceback (most recent call last):\n",
            "  File \"<ipython-input-6-a9bc7b7bd966>\", line 58, in <cell line: 15>\n",
            "    mids = mpr.get_entries(s.composition.reduced_formula)\n",
            "NameError: name 'mpr' is not defined\n",
            "\r 19%|█▉        | 14/73 [00:26<01:20,  1.36s/it]"
          ]
        },
        {
          "output_type": "stream",
          "name": "stdout",
          "text": [
            "\n",
            "Initial,final,MP,Wiki,formula 5 5.941901649466052 0 5.832\n",
            "Full Formula (Cd4 Se4)\n",
            "Reduced Formula: CdSe\n",
            "abc   :   5.000000   5.000000   5.000000\n",
            "angles:  90.000000  90.000000  90.000000\n",
            "pbc   :       True       True       True\n",
            "Sites (8)\n",
            "  #  SP       a     b     c\n",
            "---  ----  ----  ----  ----\n",
            "  0  Cd    0     0.5   0.5\n",
            "  1  Cd    0     0     0\n",
            "  2  Cd    0.5   0     0.5\n",
            "  3  Cd    0.5   0.5   0\n",
            "  4  Se    0.75  0.25  0.25\n",
            "  5  Se    0.75  0.75  0.75\n",
            "  6  Se    0.25  0.75  0.25\n",
            "  7  Se    0.25  0.25  0.75\n"
          ]
        },
        {
          "output_type": "stream",
          "name": "stderr",
          "text": [
            "Traceback (most recent call last):\n",
            "  File \"<ipython-input-6-a9bc7b7bd966>\", line 58, in <cell line: 15>\n",
            "    mids = mpr.get_entries(s.composition.reduced_formula)\n",
            "NameError: name 'mpr' is not defined\n",
            "\r 21%|██        | 15/73 [00:26<01:05,  1.13s/it]"
          ]
        },
        {
          "output_type": "stream",
          "name": "stdout",
          "text": [
            "\n",
            "Initial,final,MP,Wiki,formula 5 6.2098684218883085 0 6.05\n",
            "Full Formula (Cd4 Te4)\n",
            "Reduced Formula: CdTe\n",
            "abc   :   5.000000   5.000000   5.000000\n",
            "angles:  90.000000  90.000000  90.000000\n",
            "pbc   :       True       True       True\n",
            "Sites (8)\n",
            "  #  SP       a     b     c\n",
            "---  ----  ----  ----  ----\n",
            "  0  Cd    0     0.5   0.5\n",
            "  1  Cd    0     0     0\n",
            "  2  Cd    0.5   0     0.5\n",
            "  3  Cd    0.5   0.5   0\n",
            "  4  Te    0.75  0.25  0.25\n",
            "  5  Te    0.75  0.75  0.75\n",
            "  6  Te    0.25  0.75  0.25\n",
            "  7  Te    0.25  0.25  0.75\n"
          ]
        },
        {
          "output_type": "stream",
          "name": "stderr",
          "text": [
            "Traceback (most recent call last):\n",
            "  File \"<ipython-input-6-a9bc7b7bd966>\", line 58, in <cell line: 15>\n",
            "    mids = mpr.get_entries(s.composition.reduced_formula)\n",
            "NameError: name 'mpr' is not defined\n",
            "\r 22%|██▏       | 16/73 [00:27<00:55,  1.02it/s]"
          ]
        },
        {
          "output_type": "stream",
          "name": "stdout",
          "text": [
            "\n",
            "Initial,final,MP,Wiki,formula 5 6.626192773666158 0 6.482\n",
            "Full Formula (Zn4 O4)\n",
            "Reduced Formula: ZnO\n",
            "abc   :   5.000000   5.000000   5.000000\n",
            "angles:  90.000000  90.000000  90.000000\n",
            "pbc   :       True       True       True\n",
            "Sites (8)\n",
            "  #  SP      a    b    c\n",
            "---  ----  ---  ---  ---\n",
            "  0  Zn    0    0    0\n",
            "  1  Zn    0.5  0.5  0\n",
            "  2  Zn    0.5  0    0.5\n",
            "  3  Zn    0    0.5  0.5\n",
            "  4  O     0.5  0    0\n",
            "  5  O     0    0.5  0\n",
            "  6  O     0    0    0.5\n",
            "  7  O     0.5  0.5  0.5\n"
          ]
        },
        {
          "output_type": "stream",
          "name": "stderr",
          "text": [
            "Traceback (most recent call last):\n",
            "  File \"<ipython-input-6-a9bc7b7bd966>\", line 58, in <cell line: 15>\n",
            "    mids = mpr.get_entries(s.composition.reduced_formula)\n",
            "NameError: name 'mpr' is not defined\n",
            "\r 23%|██▎       | 17/73 [00:28<01:04,  1.15s/it]"
          ]
        },
        {
          "output_type": "stream",
          "name": "stdout",
          "text": [
            "\n",
            "Initial,final,MP,Wiki,formula 5 4.3342446612171734 0 4.58\n",
            "Full Formula (Zn4 S4)\n",
            "Reduced Formula: ZnS\n",
            "abc   :   5.000000   5.000000   5.000000\n",
            "angles:  90.000000  90.000000  90.000000\n",
            "pbc   :       True       True       True\n",
            "Sites (8)\n",
            "  #  SP       a     b     c\n",
            "---  ----  ----  ----  ----\n",
            "  0  Zn    0     0.5   0.5\n",
            "  1  Zn    0     0     0\n",
            "  2  Zn    0.5   0     0.5\n",
            "  3  Zn    0.5   0.5   0\n",
            "  4  S     0.75  0.25  0.25\n",
            "  5  S     0.75  0.75  0.75\n",
            "  6  S     0.25  0.75  0.25\n",
            "  7  S     0.25  0.25  0.75\n"
          ]
        },
        {
          "output_type": "stream",
          "name": "stderr",
          "text": [
            "Traceback (most recent call last):\n",
            "  File \"<ipython-input-6-a9bc7b7bd966>\", line 58, in <cell line: 15>\n",
            "    mids = mpr.get_entries(s.composition.reduced_formula)\n",
            "NameError: name 'mpr' is not defined\n",
            "\r 25%|██▍       | 18/73 [00:29<00:54,  1.00it/s]"
          ]
        },
        {
          "output_type": "stream",
          "name": "stdout",
          "text": [
            "\n",
            "Initial,final,MP,Wiki,formula 5 5.452972868832297 0 5.42\n",
            "Full Formula (Pb4 S4)\n",
            "Reduced Formula: PbS\n",
            "abc   :   5.000000   5.000000   5.000000\n",
            "angles:  90.000000  90.000000  90.000000\n",
            "pbc   :       True       True       True\n",
            "Sites (8)\n",
            "  #  SP      a    b    c\n",
            "---  ----  ---  ---  ---\n",
            "  0  Pb    0    0    0\n",
            "  1  Pb    0.5  0.5  0\n",
            "  2  Pb    0.5  0    0.5\n",
            "  3  Pb    0    0.5  0.5\n",
            "  4  S     0.5  0    0\n",
            "  5  S     0    0.5  0\n",
            "  6  S     0    0    0.5\n",
            "  7  S     0.5  0.5  0.5\n"
          ]
        },
        {
          "output_type": "stream",
          "name": "stderr",
          "text": [
            "Traceback (most recent call last):\n",
            "  File \"<ipython-input-6-a9bc7b7bd966>\", line 58, in <cell line: 15>\n",
            "    mids = mpr.get_entries(s.composition.reduced_formula)\n",
            "NameError: name 'mpr' is not defined\n",
            "\r 26%|██▌       | 19/73 [00:30<00:48,  1.12it/s]"
          ]
        },
        {
          "output_type": "stream",
          "name": "stdout",
          "text": [
            "\n",
            "Initial,final,MP,Wiki,formula 5 6.01751770161065 0 5.9362\n",
            "Full Formula (Te4 Pb4)\n",
            "Reduced Formula: TePb\n",
            "abc   :   5.000000   5.000000   5.000000\n",
            "angles:  90.000000  90.000000  90.000000\n",
            "pbc   :       True       True       True\n",
            "Sites (8)\n",
            "  #  SP      a    b    c\n",
            "---  ----  ---  ---  ---\n",
            "  0  Te    0    0    0\n",
            "  1  Te    0.5  0.5  0\n",
            "  2  Te    0.5  0    0.5\n",
            "  3  Te    0    0.5  0.5\n",
            "  4  Pb    0.5  0    0\n",
            "  5  Pb    0    0.5  0\n",
            "  6  Pb    0    0    0.5\n",
            "  7  Pb    0.5  0.5  0.5\n"
          ]
        },
        {
          "output_type": "stream",
          "name": "stderr",
          "text": [
            "Traceback (most recent call last):\n",
            "  File \"<ipython-input-6-a9bc7b7bd966>\", line 58, in <cell line: 15>\n",
            "    mids = mpr.get_entries(s.composition.reduced_formula)\n",
            "NameError: name 'mpr' is not defined\n",
            "\r 27%|██▋       | 20/73 [00:31<00:52,  1.02it/s]"
          ]
        },
        {
          "output_type": "stream",
          "name": "stdout",
          "text": [
            "\n",
            "Initial,final,MP,Wiki,formula 5 6.561105309635918 0 6.462\n",
            "Full Formula (B4 N4)\n",
            "Reduced Formula: BN\n",
            "abc   :   5.000000   5.000000   5.000000\n",
            "angles:  90.000000  90.000000  90.000000\n",
            "pbc   :       True       True       True\n",
            "Sites (8)\n",
            "  #  SP       a     b     c\n",
            "---  ----  ----  ----  ----\n",
            "  0  B     0     0.5   0.5\n",
            "  1  B     0     0     0\n",
            "  2  B     0.5   0     0.5\n",
            "  3  B     0.5   0.5   0\n",
            "  4  N     0.75  0.25  0.25\n",
            "  5  N     0.75  0.75  0.75\n",
            "  6  N     0.25  0.75  0.25\n",
            "  7  N     0.25  0.25  0.75\n"
          ]
        },
        {
          "output_type": "stream",
          "name": "stderr",
          "text": [
            "Traceback (most recent call last):\n",
            "  File \"<ipython-input-6-a9bc7b7bd966>\", line 58, in <cell line: 15>\n",
            "    mids = mpr.get_entries(s.composition.reduced_formula)\n",
            "NameError: name 'mpr' is not defined\n",
            " 29%|██▉       | 21/73 [00:32<00:54,  1.04s/it]Traceback (most recent call last):\n",
            "  File \"<ipython-input-6-a9bc7b7bd966>\", line 58, in <cell line: 15>\n",
            "    mids = mpr.get_entries(s.composition.reduced_formula)\n",
            "NameError: name 'mpr' is not defined\n",
            " 30%|███       | 22/73 [00:32<00:39,  1.28it/s]"
          ]
        },
        {
          "output_type": "stream",
          "name": "stdout",
          "text": [
            "\n",
            "Initial,final,MP,Wiki,formula 5 3.624853000384868 0 3.615\n",
            "Full Formula (B4 P4)\n",
            "Reduced Formula: BP\n",
            "abc   :   5.000000   5.000000   5.000000\n",
            "angles:  90.000000  90.000000  90.000000\n",
            "pbc   :       True       True       True\n",
            "Sites (8)\n",
            "  #  SP       a     b     c\n",
            "---  ----  ----  ----  ----\n",
            "  0  B     0     0.5   0.5\n",
            "  1  B     0     0     0\n",
            "  2  B     0.5   0     0.5\n",
            "  3  B     0.5   0.5   0\n",
            "  4  P     0.75  0.25  0.25\n",
            "  5  P     0.75  0.75  0.75\n",
            "  6  P     0.25  0.75  0.25\n",
            "  7  P     0.25  0.25  0.75\n",
            "\n",
            "Initial,final,MP,Wiki,formula 5 4.547111314581648 0 4.538\n",
            "Full Formula (Li4 F4)\n",
            "Reduced Formula: LiF\n",
            "abc   :   5.000000   5.000000   5.000000\n",
            "angles:  90.000000  90.000000  90.000000\n",
            "pbc   :       True       True       True\n",
            "Sites (8)\n",
            "  #  SP      a    b    c\n",
            "---  ----  ---  ---  ---\n",
            "  0  Li    0    0    0\n",
            "  1  Li    0.5  0.5  0\n",
            "  2  Li    0.5  0    0.5\n",
            "  3  Li    0    0.5  0.5\n",
            "  4  F     0.5  0    0\n",
            "  5  F     0    0.5  0\n",
            "  6  F     0    0    0.5\n",
            "  7  F     0.5  0.5  0.5\n"
          ]
        },
        {
          "output_type": "stream",
          "name": "stderr",
          "text": [
            "Traceback (most recent call last):\n",
            "  File \"<ipython-input-6-a9bc7b7bd966>\", line 58, in <cell line: 15>\n",
            "    mids = mpr.get_entries(s.composition.reduced_formula)\n",
            "NameError: name 'mpr' is not defined\n",
            "\r 32%|███▏      | 23/73 [00:34<00:47,  1.05it/s]"
          ]
        },
        {
          "output_type": "stream",
          "name": "stdout",
          "text": [
            "\n",
            "Initial,final,MP,Wiki,formula 5 4.085314565715692 0 4.03\n",
            "Full Formula (Li4 Cl4)\n",
            "Reduced Formula: LiCl\n",
            "abc   :   5.000000   5.000000   5.000000\n",
            "angles:  90.000000  90.000000  90.000000\n",
            "pbc   :       True       True       True\n",
            "Sites (8)\n",
            "  #  SP      a    b    c\n",
            "---  ----  ---  ---  ---\n",
            "  0  Li    0    0    0\n",
            "  1  Li    0.5  0.5  0\n",
            "  2  Li    0.5  0    0.5\n",
            "  3  Li    0    0.5  0.5\n",
            "  4  Cl    0.5  0    0\n",
            "  5  Cl    0    0.5  0\n",
            "  6  Cl    0    0    0.5\n",
            "  7  Cl    0.5  0.5  0.5\n"
          ]
        },
        {
          "output_type": "stream",
          "name": "stderr",
          "text": [
            "Traceback (most recent call last):\n",
            "  File \"<ipython-input-6-a9bc7b7bd966>\", line 58, in <cell line: 15>\n",
            "    mids = mpr.get_entries(s.composition.reduced_formula)\n",
            "NameError: name 'mpr' is not defined\n",
            "\r 33%|███▎      | 24/73 [00:34<00:39,  1.24it/s]"
          ]
        },
        {
          "output_type": "stream",
          "name": "stdout",
          "text": [
            "\n",
            "Initial,final,MP,Wiki,formula 5 5.147454462121849 0 5.14\n",
            "Full Formula (Li4 Br4)\n",
            "Reduced Formula: LiBr\n",
            "abc   :   5.000000   5.000000   5.000000\n",
            "angles:  90.000000  90.000000  90.000000\n",
            "pbc   :       True       True       True\n",
            "Sites (8)\n",
            "  #  SP      a    b    c\n",
            "---  ----  ---  ---  ---\n",
            "  0  Li    0    0    0\n",
            "  1  Li    0.5  0.5  0\n",
            "  2  Li    0.5  0    0.5\n",
            "  3  Li    0    0.5  0.5\n",
            "  4  Br    0.5  0    0\n",
            "  5  Br    0    0.5  0\n",
            "  6  Br    0    0    0.5\n",
            "  7  Br    0.5  0.5  0.5\n"
          ]
        },
        {
          "output_type": "stream",
          "name": "stderr",
          "text": [
            "Traceback (most recent call last):\n",
            "  File \"<ipython-input-6-a9bc7b7bd966>\", line 58, in <cell line: 15>\n",
            "    mids = mpr.get_entries(s.composition.reduced_formula)\n",
            "NameError: name 'mpr' is not defined\n",
            "\r 34%|███▍      | 25/73 [00:34<00:30,  1.58it/s]"
          ]
        },
        {
          "output_type": "stream",
          "name": "stdout",
          "text": [
            "\n",
            "Initial,final,MP,Wiki,formula 5 5.510762515333814 0 5.5\n",
            "Full Formula (Li4 I4)\n",
            "Reduced Formula: LiI\n",
            "abc   :   5.000000   5.000000   5.000000\n",
            "angles:  90.000000  90.000000  90.000000\n",
            "pbc   :       True       True       True\n",
            "Sites (8)\n",
            "  #  SP      a    b    c\n",
            "---  ----  ---  ---  ---\n",
            "  0  Li    0    0    0\n",
            "  1  Li    0.5  0.5  0\n",
            "  2  Li    0.5  0    0.5\n",
            "  3  Li    0    0.5  0.5\n",
            "  4  I     0.5  0    0\n",
            "  5  I     0    0.5  0\n",
            "  6  I     0    0    0.5\n",
            "  7  I     0.5  0.5  0.5\n"
          ]
        },
        {
          "output_type": "stream",
          "name": "stderr",
          "text": [
            "Traceback (most recent call last):\n",
            "  File \"<ipython-input-6-a9bc7b7bd966>\", line 58, in <cell line: 15>\n",
            "    mids = mpr.get_entries(s.composition.reduced_formula)\n",
            "NameError: name 'mpr' is not defined\n",
            "\r 36%|███▌      | 26/73 [00:34<00:24,  1.94it/s]"
          ]
        },
        {
          "output_type": "stream",
          "name": "stdout",
          "text": [
            "\n",
            "Initial,final,MP,Wiki,formula 5 6.02709178055086 0 6.01\n",
            "Full Formula (Na4 F4)\n",
            "Reduced Formula: NaF\n",
            "abc   :   5.000000   5.000000   5.000000\n",
            "angles:  90.000000  90.000000  90.000000\n",
            "pbc   :       True       True       True\n",
            "Sites (8)\n",
            "  #  SP      a    b    c\n",
            "---  ----  ---  ---  ---\n",
            "  0  Na    0    0    0\n",
            "  1  Na    0.5  0.5  0\n",
            "  2  Na    0.5  0    0.5\n",
            "  3  Na    0    0.5  0.5\n",
            "  4  F     0.5  0    0\n",
            "  5  F     0    0.5  0\n",
            "  6  F     0    0    0.5\n",
            "  7  F     0.5  0.5  0.5\n"
          ]
        },
        {
          "output_type": "stream",
          "name": "stderr",
          "text": [
            "Traceback (most recent call last):\n",
            "  File \"<ipython-input-6-a9bc7b7bd966>\", line 58, in <cell line: 15>\n",
            "    mids = mpr.get_entries(s.composition.reduced_formula)\n",
            "NameError: name 'mpr' is not defined\n",
            "\r 37%|███▋      | 27/73 [00:35<00:19,  2.33it/s]"
          ]
        },
        {
          "output_type": "stream",
          "name": "stdout",
          "text": [
            "\n",
            "Initial,final,MP,Wiki,formula 5 4.695526818209491 0 4.63\n",
            "Full Formula (Na4 Cl4)\n",
            "Reduced Formula: NaCl\n",
            "abc   :   5.000000   5.000000   5.000000\n",
            "angles:  90.000000  90.000000  90.000000\n",
            "pbc   :       True       True       True\n",
            "Sites (8)\n",
            "  #  SP      a    b    c\n",
            "---  ----  ---  ---  ---\n",
            "  0  Na    0    0    0\n",
            "  1  Na    0.5  0.5  0\n",
            "  2  Na    0.5  0    0.5\n",
            "  3  Na    0    0.5  0.5\n",
            "  4  Cl    0.5  0    0\n",
            "  5  Cl    0    0.5  0\n",
            "  6  Cl    0    0    0.5\n",
            "  7  Cl    0.5  0.5  0.5\n"
          ]
        },
        {
          "output_type": "stream",
          "name": "stderr",
          "text": [
            "Traceback (most recent call last):\n",
            "  File \"<ipython-input-6-a9bc7b7bd966>\", line 58, in <cell line: 15>\n",
            "    mids = mpr.get_entries(s.composition.reduced_formula)\n",
            "NameError: name 'mpr' is not defined\n",
            "\r 38%|███▊      | 28/73 [00:36<00:34,  1.29it/s]"
          ]
        },
        {
          "output_type": "stream",
          "name": "stdout",
          "text": [
            "\n",
            "Initial,final,MP,Wiki,formula 5 5.694970892014689 0 5.64\n",
            "Full Formula (Na4 Br4)\n",
            "Reduced Formula: NaBr\n",
            "abc   :   5.000000   5.000000   5.000000\n",
            "angles:  90.000000  90.000000  90.000000\n",
            "pbc   :       True       True       True\n",
            "Sites (8)\n",
            "  #  SP      a    b    c\n",
            "---  ----  ---  ---  ---\n",
            "  0  Na    0    0    0\n",
            "  1  Na    0.5  0.5  0\n",
            "  2  Na    0.5  0    0.5\n",
            "  3  Na    0    0.5  0.5\n",
            "  4  Br    0.5  0    0\n",
            "  5  Br    0    0.5  0\n",
            "  6  Br    0    0    0.5\n",
            "  7  Br    0.5  0.5  0.5\n"
          ]
        },
        {
          "output_type": "stream",
          "name": "stderr",
          "text": [
            "Traceback (most recent call last):\n",
            "  File \"<ipython-input-6-a9bc7b7bd966>\", line 58, in <cell line: 15>\n",
            "    mids = mpr.get_entries(s.composition.reduced_formula)\n",
            "NameError: name 'mpr' is not defined\n",
            "\r 40%|███▉      | 29/73 [00:37<00:35,  1.23it/s]"
          ]
        },
        {
          "output_type": "stream",
          "name": "stdout",
          "text": [
            "\n",
            "Initial,final,MP,Wiki,formula 5 6.019218069270673 0 5.97\n",
            "Full Formula (Na4 I4)\n",
            "Reduced Formula: NaI\n",
            "abc   :   5.000000   5.000000   5.000000\n",
            "angles:  90.000000  90.000000  90.000000\n",
            "pbc   :       True       True       True\n",
            "Sites (8)\n",
            "  #  SP      a    b    c\n",
            "---  ----  ---  ---  ---\n",
            "  0  Na    0    0    0\n",
            "  1  Na    0.5  0.5  0\n",
            "  2  Na    0.5  0    0.5\n",
            "  3  Na    0    0.5  0.5\n",
            "  4  I     0.5  0    0\n",
            "  5  I     0    0.5  0\n",
            "  6  I     0    0    0.5\n",
            "  7  I     0.5  0.5  0.5\n"
          ]
        },
        {
          "output_type": "stream",
          "name": "stderr",
          "text": [
            "Traceback (most recent call last):\n",
            "  File \"<ipython-input-6-a9bc7b7bd966>\", line 58, in <cell line: 15>\n",
            "    mids = mpr.get_entries(s.composition.reduced_formula)\n",
            "NameError: name 'mpr' is not defined\n",
            "\r 41%|████      | 30/73 [00:38<00:40,  1.07it/s]"
          ]
        },
        {
          "output_type": "stream",
          "name": "stdout",
          "text": [
            "\n",
            "Initial,final,MP,Wiki,formula 5 6.527394696977921 0 6.47\n",
            "Full Formula (K4 F4)\n",
            "Reduced Formula: KF\n",
            "abc   :   5.000000   5.000000   5.000000\n",
            "angles:  90.000000  90.000000  90.000000\n",
            "pbc   :       True       True       True\n",
            "Sites (8)\n",
            "  #  SP      a    b    c\n",
            "---  ----  ---  ---  ---\n",
            "  0  K     0    0    0\n",
            "  1  K     0.5  0.5  0\n",
            "  2  K     0.5  0    0.5\n",
            "  3  K     0    0.5  0.5\n",
            "  4  F     0.5  0    0\n",
            "  5  F     0    0.5  0\n",
            "  6  F     0    0    0.5\n",
            "  7  F     0.5  0.5  0.5\n"
          ]
        },
        {
          "output_type": "stream",
          "name": "stderr",
          "text": [
            "Traceback (most recent call last):\n",
            "  File \"<ipython-input-6-a9bc7b7bd966>\", line 58, in <cell line: 15>\n",
            "    mids = mpr.get_entries(s.composition.reduced_formula)\n",
            "NameError: name 'mpr' is not defined\n",
            "\r 42%|████▏     | 31/73 [00:39<00:39,  1.05it/s]"
          ]
        },
        {
          "output_type": "stream",
          "name": "stdout",
          "text": [
            "\n",
            "Initial,final,MP,Wiki,formula 5 5.419713683054983 0 5.34\n",
            "Full Formula (K4 Cl4)\n",
            "Reduced Formula: KCl\n",
            "abc   :   5.000000   5.000000   5.000000\n",
            "angles:  90.000000  90.000000  90.000000\n",
            "pbc   :       True       True       True\n",
            "Sites (8)\n",
            "  #  SP      a    b    c\n",
            "---  ----  ---  ---  ---\n",
            "  0  K     0    0    0\n",
            "  1  K     0.5  0.5  0\n",
            "  2  K     0.5  0    0.5\n",
            "  3  K     0    0.5  0.5\n",
            "  4  Cl    0.5  0    0\n",
            "  5  Cl    0    0.5  0\n",
            "  6  Cl    0    0    0.5\n",
            "  7  Cl    0.5  0.5  0.5\n"
          ]
        },
        {
          "output_type": "stream",
          "name": "stderr",
          "text": [
            "Traceback (most recent call last):\n",
            "  File \"<ipython-input-6-a9bc7b7bd966>\", line 58, in <cell line: 15>\n",
            "    mids = mpr.get_entries(s.composition.reduced_formula)\n",
            "NameError: name 'mpr' is not defined\n",
            "\r 44%|████▍     | 32/73 [00:40<00:37,  1.09it/s]"
          ]
        },
        {
          "output_type": "stream",
          "name": "stdout",
          "text": [
            "\n",
            "Initial,final,MP,Wiki,formula 5 6.3963420719918656 0 6.29\n",
            "Full Formula (K4 Br4)\n",
            "Reduced Formula: KBr\n",
            "abc   :   5.000000   5.000000   5.000000\n",
            "angles:  90.000000  90.000000  90.000000\n",
            "pbc   :       True       True       True\n",
            "Sites (8)\n",
            "  #  SP      a    b    c\n",
            "---  ----  ---  ---  ---\n",
            "  0  K     0    0    0\n",
            "  1  K     0.5  0.5  0\n",
            "  2  K     0.5  0    0.5\n",
            "  3  K     0    0.5  0.5\n",
            "  4  Br    0.5  0    0\n",
            "  5  Br    0    0.5  0\n",
            "  6  Br    0    0    0.5\n",
            "  7  Br    0.5  0.5  0.5\n"
          ]
        },
        {
          "output_type": "stream",
          "name": "stderr",
          "text": [
            "Traceback (most recent call last):\n",
            "  File \"<ipython-input-6-a9bc7b7bd966>\", line 58, in <cell line: 15>\n",
            "    mids = mpr.get_entries(s.composition.reduced_formula)\n",
            "NameError: name 'mpr' is not defined\n",
            "\r 45%|████▌     | 33/73 [00:41<00:34,  1.17it/s]"
          ]
        },
        {
          "output_type": "stream",
          "name": "stdout",
          "text": [
            "\n",
            "Initial,final,MP,Wiki,formula 5 6.707967609367915 0 6.6\n",
            "Full Formula (K4 I4)\n",
            "Reduced Formula: KI\n",
            "abc   :   5.000000   5.000000   5.000000\n",
            "angles:  90.000000  90.000000  90.000000\n",
            "pbc   :       True       True       True\n",
            "Sites (8)\n",
            "  #  SP      a    b    c\n",
            "---  ----  ---  ---  ---\n",
            "  0  K     0    0    0\n",
            "  1  K     0.5  0.5  0\n",
            "  2  K     0.5  0    0.5\n",
            "  3  K     0    0.5  0.5\n",
            "  4  I     0.5  0    0\n",
            "  5  I     0    0.5  0\n",
            "  6  I     0    0    0.5\n",
            "  7  I     0.5  0.5  0.5\n"
          ]
        },
        {
          "output_type": "stream",
          "name": "stderr",
          "text": [
            "Traceback (most recent call last):\n",
            "  File \"<ipython-input-6-a9bc7b7bd966>\", line 58, in <cell line: 15>\n",
            "    mids = mpr.get_entries(s.composition.reduced_formula)\n",
            "NameError: name 'mpr' is not defined\n",
            "\r 47%|████▋     | 34/73 [00:42<00:33,  1.15it/s]"
          ]
        },
        {
          "output_type": "stream",
          "name": "stdout",
          "text": [
            "\n",
            "Initial,final,MP,Wiki,formula 5 7.183092074384774 0 7.07\n",
            "Full Formula (Rb4 F4)\n",
            "Reduced Formula: RbF\n",
            "abc   :   5.000000   5.000000   5.000000\n",
            "angles:  90.000000  90.000000  90.000000\n",
            "pbc   :       True       True       True\n",
            "Sites (8)\n",
            "  #  SP      a    b    c\n",
            "---  ----  ---  ---  ---\n",
            "  0  Rb    0    0    0\n",
            "  1  Rb    0.5  0.5  0\n",
            "  2  Rb    0.5  0    0.5\n",
            "  3  Rb    0    0.5  0.5\n",
            "  4  F     0.5  0    0\n",
            "  5  F     0    0.5  0\n",
            "  6  F     0    0    0.5\n",
            "  7  F     0.5  0.5  0.5\n"
          ]
        },
        {
          "output_type": "stream",
          "name": "stderr",
          "text": [
            "Traceback (most recent call last):\n",
            "  File \"<ipython-input-6-a9bc7b7bd966>\", line 58, in <cell line: 15>\n",
            "    mids = mpr.get_entries(s.composition.reduced_formula)\n",
            "NameError: name 'mpr' is not defined\n",
            "\r 48%|████▊     | 35/73 [00:42<00:29,  1.28it/s]"
          ]
        },
        {
          "output_type": "stream",
          "name": "stdout",
          "text": [
            "\n",
            "Initial,final,MP,Wiki,formula 5 5.768427410819889 0 5.65\n",
            "Full Formula (Rb4 Cl4)\n",
            "Reduced Formula: RbCl\n",
            "abc   :   5.000000   5.000000   5.000000\n",
            "angles:  90.000000  90.000000  90.000000\n",
            "pbc   :       True       True       True\n",
            "Sites (8)\n",
            "  #  SP      a    b    c\n",
            "---  ----  ---  ---  ---\n",
            "  0  Rb    0    0    0\n",
            "  1  Rb    0.5  0.5  0\n",
            "  2  Rb    0.5  0    0.5\n",
            "  3  Rb    0    0.5  0.5\n",
            "  4  Cl    0.5  0    0\n",
            "  5  Cl    0    0.5  0\n",
            "  6  Cl    0    0    0.5\n",
            "  7  Cl    0.5  0.5  0.5\n"
          ]
        },
        {
          "output_type": "stream",
          "name": "stderr",
          "text": [
            "Traceback (most recent call last):\n",
            "  File \"<ipython-input-6-a9bc7b7bd966>\", line 58, in <cell line: 15>\n",
            "    mids = mpr.get_entries(s.composition.reduced_formula)\n",
            "NameError: name 'mpr' is not defined\n",
            "\r 49%|████▉     | 36/73 [00:43<00:29,  1.27it/s]"
          ]
        },
        {
          "output_type": "stream",
          "name": "stdout",
          "text": [
            "\n",
            "Initial,final,MP,Wiki,formula 5 6.679943223531762 0 6.59\n",
            "Full Formula (Rb4 Br4)\n",
            "Reduced Formula: RbBr\n",
            "abc   :   5.000000   5.000000   5.000000\n",
            "angles:  90.000000  90.000000  90.000000\n",
            "pbc   :       True       True       True\n",
            "Sites (8)\n",
            "  #  SP      a    b    c\n",
            "---  ----  ---  ---  ---\n",
            "  0  Rb    0    0    0\n",
            "  1  Rb    0.5  0.5  0\n",
            "  2  Rb    0.5  0    0.5\n",
            "  3  Rb    0    0.5  0.5\n",
            "  4  Br    0.5  0    0\n",
            "  5  Br    0    0.5  0\n",
            "  6  Br    0    0    0.5\n",
            "  7  Br    0.5  0.5  0.5\n"
          ]
        },
        {
          "output_type": "stream",
          "name": "stderr",
          "text": [
            "Traceback (most recent call last):\n",
            "  File \"<ipython-input-6-a9bc7b7bd966>\", line 58, in <cell line: 15>\n",
            "    mids = mpr.get_entries(s.composition.reduced_formula)\n",
            "NameError: name 'mpr' is not defined\n",
            "\r 51%|█████     | 37/73 [00:44<00:25,  1.43it/s]"
          ]
        },
        {
          "output_type": "stream",
          "name": "stdout",
          "text": [
            "\n",
            "Initial,final,MP,Wiki,formula 5 6.982189450265858 0 6.89\n",
            "Full Formula (Rb4 I4)\n",
            "Reduced Formula: RbI\n",
            "abc   :   5.000000   5.000000   5.000000\n",
            "angles:  90.000000  90.000000  90.000000\n",
            "pbc   :       True       True       True\n",
            "Sites (8)\n",
            "  #  SP      a    b    c\n",
            "---  ----  ---  ---  ---\n",
            "  0  Rb    0    0    0\n",
            "  1  Rb    0.5  0.5  0\n",
            "  2  Rb    0.5  0    0.5\n",
            "  3  Rb    0    0.5  0.5\n",
            "  4  I     0.5  0    0\n",
            "  5  I     0    0.5  0\n",
            "  6  I     0    0    0.5\n",
            "  7  I     0.5  0.5  0.5\n"
          ]
        },
        {
          "output_type": "stream",
          "name": "stderr",
          "text": [
            "Traceback (most recent call last):\n",
            "  File \"<ipython-input-6-a9bc7b7bd966>\", line 58, in <cell line: 15>\n",
            "    mids = mpr.get_entries(s.composition.reduced_formula)\n",
            "NameError: name 'mpr' is not defined\n",
            "\r 52%|█████▏    | 38/73 [00:44<00:24,  1.40it/s]"
          ]
        },
        {
          "output_type": "stream",
          "name": "stdout",
          "text": [
            "\n",
            "Initial,final,MP,Wiki,formula 5 7.617564668896254 0 7.35\n",
            "Full Formula (Cs4 F4)\n",
            "Reduced Formula: CsF\n",
            "abc   :   5.000000   5.000000   5.000000\n",
            "angles:  90.000000  90.000000  90.000000\n",
            "pbc   :       True       True       True\n",
            "Sites (8)\n",
            "  #  SP      a    b    c\n",
            "---  ----  ---  ---  ---\n",
            "  0  Cs    0    0    0\n",
            "  1  Cs    0.5  0.5  0\n",
            "  2  Cs    0.5  0    0.5\n",
            "  3  Cs    0    0.5  0.5\n",
            "  4  F     0.5  0    0\n",
            "  5  F     0    0.5  0\n",
            "  6  F     0    0    0.5\n",
            "  7  F     0.5  0.5  0.5\n"
          ]
        },
        {
          "output_type": "stream",
          "name": "stderr",
          "text": [
            "Traceback (most recent call last):\n",
            "  File \"<ipython-input-6-a9bc7b7bd966>\", line 58, in <cell line: 15>\n",
            "    mids = mpr.get_entries(s.composition.reduced_formula)\n",
            "NameError: name 'mpr' is not defined\n",
            "\r 53%|█████▎    | 39/73 [00:45<00:22,  1.54it/s]"
          ]
        },
        {
          "output_type": "stream",
          "name": "stdout",
          "text": [
            "\n",
            "Initial,final,MP,Wiki,formula 5 6.1265018227884696 0 6.02\n",
            "Full Formula (Al4)\n",
            "Reduced Formula: Al\n",
            "abc   :   5.000000   5.000000   5.000000\n",
            "angles:  90.000000  90.000000  90.000000\n",
            "pbc   :       True       True       True\n",
            "Sites (4)\n",
            "  #  SP      a    b    c\n",
            "---  ----  ---  ---  ---\n",
            "  0  Al    0    0    0\n",
            "  1  Al    0.5  0.5  0\n",
            "  2  Al    0    0.5  0.5\n",
            "  3  Al    0.5  0    0.5\n"
          ]
        },
        {
          "output_type": "stream",
          "name": "stderr",
          "text": [
            "WARNING:tensorflow:You are casting an input of type complex64 to an incompatible dtype float32.  This will discard the imaginary part and may not be what you intended.\n",
            "WARNING:tensorflow:You are casting an input of type complex64 to an incompatible dtype float32.  This will discard the imaginary part and may not be what you intended.\n",
            "Traceback (most recent call last):\n",
            "  File \"<ipython-input-6-a9bc7b7bd966>\", line 58, in <cell line: 15>\n",
            "    mids = mpr.get_entries(s.composition.reduced_formula)\n",
            "NameError: name 'mpr' is not defined\n",
            " 58%|█████▊    | 42/73 [00:49<00:33,  1.08s/it]"
          ]
        },
        {
          "output_type": "stream",
          "name": "stdout",
          "text": [
            "\n",
            "Initial,final,MP,Wiki,formula 5 4.0410824413840585 0 4.046\n",
            "Full Formula (Ni4)\n",
            "Reduced Formula: Ni\n",
            "abc   :   5.000000   5.000000   5.000000\n",
            "angles:  90.000000  90.000000  90.000000\n",
            "pbc   :       True       True       True\n",
            "Sites (4)\n",
            "  #  SP      a    b    c\n",
            "---  ----  ---  ---  ---\n",
            "  0  Ni    0    0    0\n",
            "  1  Ni    0.5  0.5  0\n",
            "  2  Ni    0    0.5  0.5\n",
            "  3  Ni    0.5  0    0.5\n"
          ]
        },
        {
          "output_type": "stream",
          "name": "stderr",
          "text": [
            "Traceback (most recent call last):\n",
            "  File \"<ipython-input-6-a9bc7b7bd966>\", line 58, in <cell line: 15>\n",
            "    mids = mpr.get_entries(s.composition.reduced_formula)\n",
            "NameError: name 'mpr' is not defined\n",
            "\r 60%|██████    | 44/73 [00:50<00:25,  1.12it/s]"
          ]
        },
        {
          "output_type": "stream",
          "name": "stdout",
          "text": [
            "\n",
            "Initial,final,MP,Wiki,formula 5 3.5086030623796827 0 3.499\n",
            "Full Formula (Cu4)\n",
            "Reduced Formula: Cu\n",
            "abc   :   5.000000   5.000000   5.000000\n",
            "angles:  90.000000  90.000000  90.000000\n",
            "pbc   :       True       True       True\n",
            "Sites (4)\n",
            "  #  SP      a    b    c\n",
            "---  ----  ---  ---  ---\n",
            "  0  Cu    0    0    0\n",
            "  1  Cu    0.5  0.5  0\n",
            "  2  Cu    0    0.5  0.5\n",
            "  3  Cu    0.5  0    0.5\n"
          ]
        },
        {
          "output_type": "stream",
          "name": "stderr",
          "text": [
            "Traceback (most recent call last):\n",
            "  File \"<ipython-input-6-a9bc7b7bd966>\", line 58, in <cell line: 15>\n",
            "    mids = mpr.get_entries(s.composition.reduced_formula)\n",
            "NameError: name 'mpr' is not defined\n",
            "\r 62%|██████▏   | 45/73 [00:52<00:27,  1.00it/s]"
          ]
        },
        {
          "output_type": "stream",
          "name": "stdout",
          "text": [
            "\n",
            "Initial,final,MP,Wiki,formula 5 3.6119860968613757 0 3.597\n",
            "Full Formula (Pd4)\n",
            "Reduced Formula: Pd\n",
            "abc   :   5.000000   5.000000   5.000000\n",
            "angles:  90.000000  90.000000  90.000000\n",
            "pbc   :       True       True       True\n",
            "Sites (4)\n",
            "  #  SP      a    b    c\n",
            "---  ----  ---  ---  ---\n",
            "  0  Pd    0    0    0\n",
            "  1  Pd    0.5  0.5  0\n",
            "  2  Pd    0    0.5  0.5\n",
            "  3  Pd    0.5  0    0.5\n"
          ]
        },
        {
          "output_type": "stream",
          "name": "stderr",
          "text": [
            "Traceback (most recent call last):\n",
            "  File \"<ipython-input-6-a9bc7b7bd966>\", line 58, in <cell line: 15>\n",
            "    mids = mpr.get_entries(s.composition.reduced_formula)\n",
            "NameError: name 'mpr' is not defined\n",
            "\r 64%|██████▍   | 47/73 [00:53<00:23,  1.12it/s]"
          ]
        },
        {
          "output_type": "stream",
          "name": "stdout",
          "text": [
            "\n",
            "Initial,final,MP,Wiki,formula 5 3.954660886895733 0 3.859\n",
            "Full Formula (Ag4)\n",
            "Reduced Formula: Ag\n",
            "abc   :   5.000000   5.000000   5.000000\n",
            "angles:  90.000000  90.000000  90.000000\n",
            "pbc   :       True       True       True\n",
            "Sites (4)\n",
            "  #  SP      a    b    c\n",
            "---  ----  ---  ---  ---\n",
            "  0  Ag    0    0    0\n",
            "  1  Ag    0.5  0.5  0\n",
            "  2  Ag    0    0.5  0.5\n",
            "  3  Ag    0.5  0    0.5\n"
          ]
        },
        {
          "output_type": "stream",
          "name": "stderr",
          "text": [
            "Traceback (most recent call last):\n",
            "  File \"<ipython-input-6-a9bc7b7bd966>\", line 58, in <cell line: 15>\n",
            "    mids = mpr.get_entries(s.composition.reduced_formula)\n",
            "NameError: name 'mpr' is not defined\n",
            "\r 66%|██████▌   | 48/73 [00:54<00:22,  1.12it/s]"
          ]
        },
        {
          "output_type": "stream",
          "name": "stdout",
          "text": [
            "\n",
            "Initial,final,MP,Wiki,formula 5 4.167016952986487 0 4.079\n",
            "Full Formula (Pt4)\n",
            "Reduced Formula: Pt\n",
            "abc   :   5.000000   5.000000   5.000000\n",
            "angles:  90.000000  90.000000  90.000000\n",
            "pbc   :       True       True       True\n",
            "Sites (4)\n",
            "  #  SP      a    b    c\n",
            "---  ----  ---  ---  ---\n",
            "  0  Pt    0    0    0\n",
            "  1  Pt    0.5  0.5  0\n",
            "  2  Pt    0    0.5  0.5\n",
            "  3  Pt    0.5  0    0.5\n"
          ]
        },
        {
          "output_type": "stream",
          "name": "stderr",
          "text": [
            "Traceback (most recent call last):\n",
            "  File \"<ipython-input-6-a9bc7b7bd966>\", line 58, in <cell line: 15>\n",
            "    mids = mpr.get_entries(s.composition.reduced_formula)\n",
            "NameError: name 'mpr' is not defined\n",
            "\r 68%|██████▊   | 50/73 [00:54<00:14,  1.64it/s]"
          ]
        },
        {
          "output_type": "stream",
          "name": "stdout",
          "text": [
            "\n",
            "Initial,final,MP,Wiki,formula 5 3.977140383759854 0 3.912\n",
            "Full Formula (Au4)\n",
            "Reduced Formula: Au\n",
            "abc   :   5.000000   5.000000   5.000000\n",
            "angles:  90.000000  90.000000  90.000000\n",
            "pbc   :       True       True       True\n",
            "Sites (4)\n",
            "  #  SP      a    b    c\n",
            "---  ----  ---  ---  ---\n",
            "  0  Au    0    0    0\n",
            "  1  Au    0.5  0.5  0\n",
            "  2  Au    0    0.5  0.5\n",
            "  3  Au    0.5  0    0.5\n"
          ]
        },
        {
          "output_type": "stream",
          "name": "stderr",
          "text": [
            "Traceback (most recent call last):\n",
            "  File \"<ipython-input-6-a9bc7b7bd966>\", line 58, in <cell line: 15>\n",
            "    mids = mpr.get_entries(s.composition.reduced_formula)\n",
            "NameError: name 'mpr' is not defined\n",
            " 70%|██████▉   | 51/73 [00:55<00:14,  1.55it/s]Traceback (most recent call last):\n",
            "  File \"<ipython-input-6-a9bc7b7bd966>\", line 58, in <cell line: 15>\n",
            "    mids = mpr.get_entries(s.composition.reduced_formula)\n",
            "NameError: name 'mpr' is not defined\n",
            " 71%|███████   | 52/73 [00:55<00:11,  1.88it/s]"
          ]
        },
        {
          "output_type": "stream",
          "name": "stdout",
          "text": [
            "\n",
            "Initial,final,MP,Wiki,formula 5 4.1743139630029855 0 4.065\n",
            "Full Formula (Pb4)\n",
            "Reduced Formula: Pb\n",
            "abc   :   5.000000   5.000000   5.000000\n",
            "angles:  90.000000  90.000000  90.000000\n",
            "pbc   :       True       True       True\n",
            "Sites (4)\n",
            "  #  SP      a    b    c\n",
            "---  ----  ---  ---  ---\n",
            "  0  Pb    0    0    0\n",
            "  1  Pb    0.5  0.5  0\n",
            "  2  Pb    0    0.5  0.5\n",
            "  3  Pb    0.5  0    0.5\n",
            "\n",
            "Initial,final,MP,Wiki,formula 5 5.028490404274532 0 4.92\n",
            "Full Formula (Ti4 N4)\n",
            "Reduced Formula: TiN\n",
            "abc   :   5.000000   5.000000   5.000000\n",
            "angles:  90.000000  90.000000  90.000000\n",
            "pbc   :       True       True       True\n",
            "Sites (8)\n",
            "  #  SP      a    b    c\n",
            "---  ----  ---  ---  ---\n",
            "  0  Ti    0    0    0\n",
            "  1  Ti    0.5  0.5  0\n",
            "  2  Ti    0.5  0    0.5\n",
            "  3  Ti    0    0.5  0.5\n",
            "  4  N     0.5  0    0\n",
            "  5  N     0    0.5  0\n",
            "  6  N     0    0    0.5\n",
            "  7  N     0.5  0.5  0.5\n"
          ]
        },
        {
          "output_type": "stream",
          "name": "stderr",
          "text": [
            "Traceback (most recent call last):\n",
            "  File \"<ipython-input-6-a9bc7b7bd966>\", line 58, in <cell line: 15>\n",
            "    mids = mpr.get_entries(s.composition.reduced_formula)\n",
            "NameError: name 'mpr' is not defined\n",
            "\r 77%|███████▋  | 56/73 [00:56<00:05,  3.20it/s]"
          ]
        },
        {
          "output_type": "stream",
          "name": "stdout",
          "text": [
            "\n",
            "Initial,final,MP,Wiki,formula 5 4.252540867411786 0 4.249\n",
            "Full Formula (Zr4 N4)\n",
            "Reduced Formula: ZrN\n",
            "abc   :   5.000000   5.000000   5.000000\n",
            "angles:  90.000000  90.000000  90.000000\n",
            "pbc   :       True       True       True\n",
            "Sites (8)\n",
            "  #  SP      a    b    c\n",
            "---  ----  ---  ---  ---\n",
            "  0  Zr    0    0    0\n",
            "  1  Zr    0.5  0.5  0\n",
            "  2  Zr    0.5  0    0.5\n",
            "  3  Zr    0    0.5  0.5\n",
            "  4  N     0.5  0    0\n",
            "  5  N     0    0.5  0\n",
            "  6  N     0    0    0.5\n",
            "  7  N     0.5  0.5  0.5\n"
          ]
        },
        {
          "output_type": "stream",
          "name": "stderr",
          "text": [
            "Traceback (most recent call last):\n",
            "  File \"<ipython-input-6-a9bc7b7bd966>\", line 58, in <cell line: 15>\n",
            "    mids = mpr.get_entries(s.composition.reduced_formula)\n",
            "NameError: name 'mpr' is not defined\n",
            "\r 78%|███████▊  | 57/73 [00:56<00:05,  2.90it/s]"
          ]
        },
        {
          "output_type": "stream",
          "name": "stdout",
          "text": [
            "\n",
            "Initial,final,MP,Wiki,formula 5 4.616021233124515 0 4.577\n",
            "Full Formula (Hf4 N4)\n",
            "Reduced Formula: HfN\n",
            "abc   :   5.000000   5.000000   5.000000\n",
            "angles:  90.000000  90.000000  90.000000\n",
            "pbc   :       True       True       True\n",
            "Sites (8)\n",
            "  #  SP      a    b    c\n",
            "---  ----  ---  ---  ---\n",
            "  0  Hf    0    0    0\n",
            "  1  Hf    0.5  0.5  0\n",
            "  2  Hf    0.5  0    0.5\n",
            "  3  Hf    0    0.5  0.5\n",
            "  4  N     0.5  0    0\n",
            "  5  N     0    0.5  0\n",
            "  6  N     0    0    0.5\n",
            "  7  N     0.5  0.5  0.5\n"
          ]
        },
        {
          "output_type": "stream",
          "name": "stderr",
          "text": [
            "Traceback (most recent call last):\n",
            "  File \"<ipython-input-6-a9bc7b7bd966>\", line 58, in <cell line: 15>\n",
            "    mids = mpr.get_entries(s.composition.reduced_formula)\n",
            "NameError: name 'mpr' is not defined\n",
            "\r 79%|███████▉  | 58/73 [00:57<00:06,  2.49it/s]"
          ]
        },
        {
          "output_type": "stream",
          "name": "stdout",
          "text": [
            "\n",
            "Initial,final,MP,Wiki,formula 5 4.538375359453457 0 4.392\n",
            "Full Formula (V4 N4)\n",
            "Reduced Formula: VN\n",
            "abc   :   5.000000   5.000000   5.000000\n",
            "angles:  90.000000  90.000000  90.000000\n",
            "pbc   :       True       True       True\n",
            "Sites (8)\n",
            "  #  SP      a    b    c\n",
            "---  ----  ---  ---  ---\n",
            "  0  V     0    0    0\n",
            "  1  V     0.5  0.5  0\n",
            "  2  V     0.5  0    0.5\n",
            "  3  V     0    0.5  0.5\n",
            "  4  N     0.5  0    0\n",
            "  5  N     0    0.5  0\n",
            "  6  N     0    0    0.5\n",
            "  7  N     0.5  0.5  0.5\n"
          ]
        },
        {
          "output_type": "stream",
          "name": "stderr",
          "text": [
            "Traceback (most recent call last):\n",
            "  File \"<ipython-input-6-a9bc7b7bd966>\", line 58, in <cell line: 15>\n",
            "    mids = mpr.get_entries(s.composition.reduced_formula)\n",
            "NameError: name 'mpr' is not defined\n",
            "\r 81%|████████  | 59/73 [00:58<00:07,  1.91it/s]"
          ]
        },
        {
          "output_type": "stream",
          "name": "stdout",
          "text": [
            "\n",
            "Initial,final,MP,Wiki,formula 5 4.128104818866327 0 4.136\n",
            "Full Formula (Cr4 N4)\n",
            "Reduced Formula: CrN\n",
            "abc   :   5.000000   5.000000   5.000000\n",
            "angles:  90.000000  90.000000  90.000000\n",
            "pbc   :       True       True       True\n",
            "Sites (8)\n",
            "  #  SP      a    b    c\n",
            "---  ----  ---  ---  ---\n",
            "  0  Cr    0    0    0\n",
            "  1  Cr    0.5  0.5  0\n",
            "  2  Cr    0.5  0    0.5\n",
            "  3  Cr    0    0.5  0.5\n",
            "  4  N     0.5  0    0\n",
            "  5  N     0    0.5  0\n",
            "  6  N     0    0    0.5\n",
            "  7  N     0.5  0.5  0.5\n"
          ]
        },
        {
          "output_type": "stream",
          "name": "stderr",
          "text": [
            "Traceback (most recent call last):\n",
            "  File \"<ipython-input-6-a9bc7b7bd966>\", line 58, in <cell line: 15>\n",
            "    mids = mpr.get_entries(s.composition.reduced_formula)\n",
            "NameError: name 'mpr' is not defined\n",
            " 82%|████████▏ | 60/73 [01:00<00:10,  1.25it/s]Traceback (most recent call last):\n",
            "  File \"<ipython-input-6-a9bc7b7bd966>\", line 58, in <cell line: 15>\n",
            "    mids = mpr.get_entries(s.composition.reduced_formula)\n",
            "NameError: name 'mpr' is not defined\n",
            " 84%|████████▎ | 61/73 [01:00<00:07,  1.57it/s]"
          ]
        },
        {
          "output_type": "stream",
          "name": "stdout",
          "text": [
            "\n",
            "Initial,final,MP,Wiki,formula 5 4.1606823643054085 0 4.149\n",
            "Full Formula (Nb4 N4)\n",
            "Reduced Formula: NbN\n",
            "abc   :   5.000000   5.000000   5.000000\n",
            "angles:  90.000000  90.000000  90.000000\n",
            "pbc   :       True       True       True\n",
            "Sites (8)\n",
            "  #  SP      a    b    c\n",
            "---  ----  ---  ---  ---\n",
            "  0  Nb    0    0    0\n",
            "  1  Nb    0.5  0.5  0\n",
            "  2  Nb    0.5  0    0.5\n",
            "  3  Nb    0    0.5  0.5\n",
            "  4  N     0.5  0    0\n",
            "  5  N     0    0.5  0\n",
            "  6  N     0    0    0.5\n",
            "  7  N     0.5  0.5  0.5\n",
            "\n",
            "Initial,final,MP,Wiki,formula 5 4.454736335530738 0 4.392\n",
            "Full Formula (Ti4 C4)\n",
            "Reduced Formula: TiC\n",
            "abc   :   5.000000   5.000000   5.000000\n",
            "angles:  90.000000  90.000000  90.000000\n",
            "pbc   :       True       True       True\n",
            "Sites (8)\n",
            "  #  SP      a    b    c\n",
            "---  ----  ---  ---  ---\n",
            "  0  Ti    0    0    0\n",
            "  1  Ti    0.5  0.5  0\n",
            "  2  Ti    0.5  0    0.5\n",
            "  3  Ti    0    0.5  0.5\n",
            "  4  C     0.5  0    0\n",
            "  5  C     0    0.5  0\n",
            "  6  C     0    0    0.5\n",
            "  7  C     0.5  0.5  0.5\n"
          ]
        },
        {
          "output_type": "stream",
          "name": "stderr",
          "text": [
            "Traceback (most recent call last):\n",
            "  File \"<ipython-input-6-a9bc7b7bd966>\", line 58, in <cell line: 15>\n",
            "    mids = mpr.get_entries(s.composition.reduced_formula)\n",
            "NameError: name 'mpr' is not defined\n",
            "\r 85%|████████▍ | 62/73 [01:00<00:07,  1.53it/s]"
          ]
        },
        {
          "output_type": "stream",
          "name": "stdout",
          "text": [
            "\n",
            "Initial,final,MP,Wiki,formula 5 4.334933475999783 0 4.328\n",
            "Full Formula (Zr4 C4)\n",
            "Reduced Formula: ZrC\n",
            "abc   :   5.000000   5.000000   5.000000\n",
            "angles:  90.000000  90.000000  90.000000\n",
            "pbc   :       True       True       True\n",
            "Sites (8)\n",
            "  #  SP      a    b    c\n",
            "---  ----  ---  ---  ---\n",
            "  0  Zr    0    0    0\n",
            "  1  Zr    0.5  0.5  0\n",
            "  2  Zr    0.5  0    0.5\n",
            "  3  Zr    0    0.5  0.5\n",
            "  4  C     0.5  0    0\n",
            "  5  C     0    0.5  0\n",
            "  6  C     0    0    0.5\n",
            "  7  C     0.5  0.5  0.5\n"
          ]
        },
        {
          "output_type": "stream",
          "name": "stderr",
          "text": [
            "Traceback (most recent call last):\n",
            "  File \"<ipython-input-6-a9bc7b7bd966>\", line 58, in <cell line: 15>\n",
            "    mids = mpr.get_entries(s.composition.reduced_formula)\n",
            "NameError: name 'mpr' is not defined\n",
            "\r 86%|████████▋ | 63/73 [01:01<00:05,  1.75it/s]"
          ]
        },
        {
          "output_type": "stream",
          "name": "stdout",
          "text": [
            "\n",
            "Initial,final,MP,Wiki,formula 5 4.724509837532517 0 4.698\n",
            "Full Formula (Hf4 C4)\n",
            "Reduced Formula: HfC\n",
            "abc   :   5.000000   5.000000   5.000000\n",
            "angles:  90.000000  90.000000  90.000000\n",
            "pbc   :       True       True       True\n",
            "Sites (8)\n",
            "  #  SP      a    b    c\n",
            "---  ----  ---  ---  ---\n",
            "  0  Hf    0    0    0\n",
            "  1  Hf    0.5  0.5  0\n",
            "  2  Hf    0.5  0    0.5\n",
            "  3  Hf    0    0.5  0.5\n",
            "  4  C     0.5  0    0\n",
            "  5  C     0    0.5  0\n",
            "  6  C     0    0    0.5\n",
            "  7  C     0.5  0.5  0.5\n"
          ]
        },
        {
          "output_type": "stream",
          "name": "stderr",
          "text": [
            "Traceback (most recent call last):\n",
            "  File \"<ipython-input-6-a9bc7b7bd966>\", line 58, in <cell line: 15>\n",
            "    mids = mpr.get_entries(s.composition.reduced_formula)\n",
            "NameError: name 'mpr' is not defined\n",
            "\r 88%|████████▊ | 64/73 [01:01<00:04,  1.89it/s]"
          ]
        },
        {
          "output_type": "stream",
          "name": "stdout",
          "text": [
            "\n",
            "Initial,final,MP,Wiki,formula 5 4.650228888142042 0 4.64\n",
            "Full Formula (V4 C4)\n",
            "Reduced Formula: VC\n",
            "abc   :   5.000000   5.000000   5.000000\n",
            "angles:  90.000000  90.000000  90.000000\n",
            "pbc   :       True       True       True\n",
            "Sites (8)\n",
            "  #  SP      a    b    c\n",
            "---  ----  ---  ---  ---\n",
            "  0  V     0    0    0\n",
            "  1  V     0.5  0.5  0\n",
            "  2  V     0.5  0    0.5\n",
            "  3  V     0    0.5  0.5\n",
            "  4  C     0.5  0    0\n",
            "  5  C     0    0.5  0\n",
            "  6  C     0    0    0.5\n",
            "  7  C     0.5  0.5  0.5\n"
          ]
        },
        {
          "output_type": "stream",
          "name": "stderr",
          "text": [
            "Traceback (most recent call last):\n",
            "  File \"<ipython-input-6-a9bc7b7bd966>\", line 58, in <cell line: 15>\n",
            "    mids = mpr.get_entries(s.composition.reduced_formula)\n",
            "NameError: name 'mpr' is not defined\n",
            "\r 89%|████████▉ | 65/73 [01:03<00:06,  1.20it/s]"
          ]
        },
        {
          "output_type": "stream",
          "name": "stdout",
          "text": [
            "\n",
            "Initial,final,MP,Wiki,formula 5 4.164755356283499 0 4.166\n",
            "Full Formula (Ta4 C4)\n",
            "Reduced Formula: TaC\n",
            "abc   :   5.000000   5.000000   5.000000\n",
            "angles:  90.000000  90.000000  90.000000\n",
            "pbc   :       True       True       True\n",
            "Sites (8)\n",
            "  #  SP      a    b    c\n",
            "---  ----  ---  ---  ---\n",
            "  0  Ta    0    0    0\n",
            "  1  Ta    0.5  0.5  0\n",
            "  2  Ta    0.5  0    0.5\n",
            "  3  Ta    0    0.5  0.5\n",
            "  4  C     0.5  0    0\n",
            "  5  C     0    0.5  0\n",
            "  6  C     0    0    0.5\n",
            "  7  C     0.5  0.5  0.5\n"
          ]
        },
        {
          "output_type": "stream",
          "name": "stderr",
          "text": [
            "Traceback (most recent call last):\n",
            "  File \"<ipython-input-6-a9bc7b7bd966>\", line 58, in <cell line: 15>\n",
            "    mids = mpr.get_entries(s.composition.reduced_formula)\n",
            "NameError: name 'mpr' is not defined\n",
            "\r 92%|█████████▏| 67/73 [01:03<00:03,  1.76it/s]"
          ]
        },
        {
          "output_type": "stream",
          "name": "stdout",
          "text": [
            "\n",
            "Initial,final,MP,Wiki,formula 5 4.482252141007887 0 4.456\n",
            "Full Formula (Sc4 N4)\n",
            "Reduced Formula: ScN\n",
            "abc   :   5.000000   5.000000   5.000000\n",
            "angles:  90.000000  90.000000  90.000000\n",
            "pbc   :       True       True       True\n",
            "Sites (8)\n",
            "  #  SP      a    b    c\n",
            "---  ----  ---  ---  ---\n",
            "  0  Sc    0    0    0\n",
            "  1  Sc    0.5  0.5  0\n",
            "  2  Sc    0.5  0    0.5\n",
            "  3  Sc    0    0.5  0.5\n",
            "  4  N     0.5  0    0\n",
            "  5  N     0    0.5  0\n",
            "  6  N     0    0    0.5\n",
            "  7  N     0.5  0.5  0.5\n"
          ]
        },
        {
          "output_type": "stream",
          "name": "stderr",
          "text": [
            "Traceback (most recent call last):\n",
            "  File \"<ipython-input-6-a9bc7b7bd966>\", line 58, in <cell line: 15>\n",
            "    mids = mpr.get_entries(s.composition.reduced_formula)\n",
            "NameError: name 'mpr' is not defined\n",
            "\r 93%|█████████▎| 68/73 [01:04<00:02,  1.90it/s]"
          ]
        },
        {
          "output_type": "stream",
          "name": "stdout",
          "text": [
            "\n",
            "Initial,final,MP,Wiki,formula 5 4.517974270358841 0 4.52\n",
            "Full Formula (K1 Ta1 O3)\n",
            "Reduced Formula: KTaO3\n",
            "abc   :   5.000000   5.000000   5.000000\n",
            "angles:  90.000000  90.000000  90.000000\n",
            "pbc   :       True       True       True\n",
            "Sites (5)\n",
            "  #  SP      a    b    c\n",
            "---  ----  ---  ---  ---\n",
            "  0  K     0    0    0\n",
            "  1  Ta    0.5  0.5  0.5\n",
            "  2  O     0.5  0.5  0\n",
            "  3  O     0    0.5  0.5\n",
            "  4  O     0.5  0    0.5\n"
          ]
        },
        {
          "output_type": "stream",
          "name": "stderr",
          "text": [
            "Traceback (most recent call last):\n",
            "  File \"<ipython-input-6-a9bc7b7bd966>\", line 58, in <cell line: 15>\n",
            "    mids = mpr.get_entries(s.composition.reduced_formula)\n",
            "NameError: name 'mpr' is not defined\n",
            "\r 95%|█████████▍| 69/73 [01:04<00:01,  2.19it/s]"
          ]
        },
        {
          "output_type": "stream",
          "name": "stdout",
          "text": [
            "\n",
            "Initial,final,MP,Wiki,formula 5 4.032654482778205 0 3.9885\n",
            "Full Formula (Sr1 Ti1 O3)\n",
            "Reduced Formula: SrTiO3\n",
            "abc   :   5.000000   5.000000   5.000000\n",
            "angles:  90.000000  90.000000  90.000000\n",
            "pbc   :       True       True       True\n",
            "Sites (5)\n",
            "  #  SP      a    b    c\n",
            "---  ----  ---  ---  ---\n",
            "  0  Sr    0    0    0\n",
            "  1  Ti    0.5  0.5  0.5\n",
            "  2  O     0.5  0.5  0\n",
            "  3  O     0    0.5  0.5\n",
            "  4  O     0.5  0    0.5\n"
          ]
        },
        {
          "output_type": "stream",
          "name": "stderr",
          "text": [
            "Traceback (most recent call last):\n",
            "  File \"<ipython-input-6-a9bc7b7bd966>\", line 58, in <cell line: 15>\n",
            "    mids = mpr.get_entries(s.composition.reduced_formula)\n",
            "NameError: name 'mpr' is not defined\n",
            "\r 96%|█████████▌| 70/73 [01:05<00:01,  1.93it/s]"
          ]
        },
        {
          "output_type": "stream",
          "name": "stdout",
          "text": [
            "\n",
            "Initial,final,MP,Wiki,formula 5 3.9448066067159178 0 3.98805\n",
            "Full Formula (Eu1 Ti1 O3)\n",
            "Reduced Formula: EuTiO3\n",
            "abc   :   5.000000   5.000000   5.000000\n",
            "angles:  90.000000  90.000000  90.000000\n",
            "pbc   :       True       True       True\n",
            "Sites (5)\n",
            "  #  SP      a    b    c\n",
            "---  ----  ---  ---  ---\n",
            "  0  Eu    0    0    0\n",
            "  1  Ti    0.5  0.5  0.5\n",
            "  2  O     0.5  0.5  0\n",
            "  3  O     0    0.5  0.5\n",
            "  4  O     0.5  0    0.5\n"
          ]
        },
        {
          "output_type": "stream",
          "name": "stderr",
          "text": [
            "Traceback (most recent call last):\n",
            "  File \"<ipython-input-6-a9bc7b7bd966>\", line 58, in <cell line: 15>\n",
            "    mids = mpr.get_entries(s.composition.reduced_formula)\n",
            "NameError: name 'mpr' is not defined\n",
            "\r 97%|█████████▋| 71/73 [01:06<00:01,  1.23it/s]"
          ]
        },
        {
          "output_type": "stream",
          "name": "stdout",
          "text": [
            "\n",
            "Initial,final,MP,Wiki,formula 5 3.9294272293452503 0 7.81\n",
            "Full Formula (Sr1 V1 O3)\n",
            "Reduced Formula: SrVO3\n",
            "abc   :   5.000000   5.000000   5.000000\n",
            "angles:  90.000000  90.000000  90.000000\n",
            "pbc   :       True       True       True\n",
            "Sites (5)\n",
            "  #  SP      a    b    c\n",
            "---  ----  ---  ---  ---\n",
            "  0  Sr    0    0    0\n",
            "  1  V     0.5  0.5  0.5\n",
            "  2  O     0.5  0.5  0\n",
            "  3  O     0    0.5  0.5\n",
            "  4  O     0.5  0    0.5\n"
          ]
        },
        {
          "output_type": "stream",
          "name": "stderr",
          "text": [
            "Traceback (most recent call last):\n",
            "  File \"<ipython-input-6-a9bc7b7bd966>\", line 58, in <cell line: 15>\n",
            "    mids = mpr.get_entries(s.composition.reduced_formula)\n",
            "NameError: name 'mpr' is not defined\n",
            "100%|██████████| 73/73 [01:07<00:00,  1.07it/s]"
          ]
        },
        {
          "output_type": "stream",
          "name": "stdout",
          "text": [
            "\n",
            "Initial,final,MP,Wiki,formula 5 3.906043550979565 0 3.838\n"
          ]
        },
        {
          "output_type": "stream",
          "name": "stderr",
          "text": [
            "\n"
          ]
        }
      ]
    },
    {
      "cell_type": "code",
      "source": [
        "data_1 = data[~data[\"Material\"].isin(currently_m3gnet_failing)]"
      ],
      "metadata": {
        "id": "bAxD6CTey1jU"
      },
      "execution_count": 7,
      "outputs": []
    },
    {
      "cell_type": "code",
      "source": [
        "data_1"
      ],
      "metadata": {
        "colab": {
          "base_uri": "https://localhost:8080/",
          "height": 423
        },
        "id": "MH1wEyNh0fY_",
        "outputId": "7eb0e2da-4863-4d3b-bbed-f42ac41bba70"
      },
      "execution_count": 8,
      "outputs": [
        {
          "output_type": "execute_result",
          "data": {
            "text/plain": [
              "       Material     a (Å)  Crystal structure    Ref.\n",
              "0   C (diamond)  3.567000      Diamond (FCC)     [7]\n",
              "2            Si  5.431021      Diamond (FCC)  [8][9]\n",
              "3            Ge  5.658000      Diamond (FCC)     [8]\n",
              "4          AlAs  5.660500  Zinc blende (FCC)     [8]\n",
              "5           AlP  5.451000  Zinc blende (FCC)     [8]\n",
              "..          ...       ...                ...     ...\n",
              "77          ScN  4.520000             Halite    [14]\n",
              "79        KTaO3  3.988500   Cubic perovskite    [15]\n",
              "81       SrTiO3  3.988050   Cubic perovskite    [15]\n",
              "84       EuTiO3  7.810000   Cubic perovskite    [15]\n",
              "85        SrVO3  3.838000   Cubic perovskite    [15]\n",
              "\n",
              "[63 rows x 4 columns]"
            ],
            "text/html": [
              "\n",
              "  <div id=\"df-91619f9a-94e0-4c65-8761-c59405656c00\">\n",
              "    <div class=\"colab-df-container\">\n",
              "      <div>\n",
              "<style scoped>\n",
              "    .dataframe tbody tr th:only-of-type {\n",
              "        vertical-align: middle;\n",
              "    }\n",
              "\n",
              "    .dataframe tbody tr th {\n",
              "        vertical-align: top;\n",
              "    }\n",
              "\n",
              "    .dataframe thead th {\n",
              "        text-align: right;\n",
              "    }\n",
              "</style>\n",
              "<table border=\"1\" class=\"dataframe\">\n",
              "  <thead>\n",
              "    <tr style=\"text-align: right;\">\n",
              "      <th></th>\n",
              "      <th>Material</th>\n",
              "      <th>a (Å)</th>\n",
              "      <th>Crystal structure</th>\n",
              "      <th>Ref.</th>\n",
              "    </tr>\n",
              "  </thead>\n",
              "  <tbody>\n",
              "    <tr>\n",
              "      <th>0</th>\n",
              "      <td>C (diamond)</td>\n",
              "      <td>3.567000</td>\n",
              "      <td>Diamond (FCC)</td>\n",
              "      <td>[7]</td>\n",
              "    </tr>\n",
              "    <tr>\n",
              "      <th>2</th>\n",
              "      <td>Si</td>\n",
              "      <td>5.431021</td>\n",
              "      <td>Diamond (FCC)</td>\n",
              "      <td>[8][9]</td>\n",
              "    </tr>\n",
              "    <tr>\n",
              "      <th>3</th>\n",
              "      <td>Ge</td>\n",
              "      <td>5.658000</td>\n",
              "      <td>Diamond (FCC)</td>\n",
              "      <td>[8]</td>\n",
              "    </tr>\n",
              "    <tr>\n",
              "      <th>4</th>\n",
              "      <td>AlAs</td>\n",
              "      <td>5.660500</td>\n",
              "      <td>Zinc blende (FCC)</td>\n",
              "      <td>[8]</td>\n",
              "    </tr>\n",
              "    <tr>\n",
              "      <th>5</th>\n",
              "      <td>AlP</td>\n",
              "      <td>5.451000</td>\n",
              "      <td>Zinc blende (FCC)</td>\n",
              "      <td>[8]</td>\n",
              "    </tr>\n",
              "    <tr>\n",
              "      <th>...</th>\n",
              "      <td>...</td>\n",
              "      <td>...</td>\n",
              "      <td>...</td>\n",
              "      <td>...</td>\n",
              "    </tr>\n",
              "    <tr>\n",
              "      <th>77</th>\n",
              "      <td>ScN</td>\n",
              "      <td>4.520000</td>\n",
              "      <td>Halite</td>\n",
              "      <td>[14]</td>\n",
              "    </tr>\n",
              "    <tr>\n",
              "      <th>79</th>\n",
              "      <td>KTaO3</td>\n",
              "      <td>3.988500</td>\n",
              "      <td>Cubic perovskite</td>\n",
              "      <td>[15]</td>\n",
              "    </tr>\n",
              "    <tr>\n",
              "      <th>81</th>\n",
              "      <td>SrTiO3</td>\n",
              "      <td>3.988050</td>\n",
              "      <td>Cubic perovskite</td>\n",
              "      <td>[15]</td>\n",
              "    </tr>\n",
              "    <tr>\n",
              "      <th>84</th>\n",
              "      <td>EuTiO3</td>\n",
              "      <td>7.810000</td>\n",
              "      <td>Cubic perovskite</td>\n",
              "      <td>[15]</td>\n",
              "    </tr>\n",
              "    <tr>\n",
              "      <th>85</th>\n",
              "      <td>SrVO3</td>\n",
              "      <td>3.838000</td>\n",
              "      <td>Cubic perovskite</td>\n",
              "      <td>[15]</td>\n",
              "    </tr>\n",
              "  </tbody>\n",
              "</table>\n",
              "<p>63 rows × 4 columns</p>\n",
              "</div>\n",
              "      <button class=\"colab-df-convert\" onclick=\"convertToInteractive('df-91619f9a-94e0-4c65-8761-c59405656c00')\"\n",
              "              title=\"Convert this dataframe to an interactive table.\"\n",
              "              style=\"display:none;\">\n",
              "        \n",
              "  <svg xmlns=\"http://www.w3.org/2000/svg\" height=\"24px\"viewBox=\"0 0 24 24\"\n",
              "       width=\"24px\">\n",
              "    <path d=\"M0 0h24v24H0V0z\" fill=\"none\"/>\n",
              "    <path d=\"M18.56 5.44l.94 2.06.94-2.06 2.06-.94-2.06-.94-.94-2.06-.94 2.06-2.06.94zm-11 1L8.5 8.5l.94-2.06 2.06-.94-2.06-.94L8.5 2.5l-.94 2.06-2.06.94zm10 10l.94 2.06.94-2.06 2.06-.94-2.06-.94-.94-2.06-.94 2.06-2.06.94z\"/><path d=\"M17.41 7.96l-1.37-1.37c-.4-.4-.92-.59-1.43-.59-.52 0-1.04.2-1.43.59L10.3 9.45l-7.72 7.72c-.78.78-.78 2.05 0 2.83L4 21.41c.39.39.9.59 1.41.59.51 0 1.02-.2 1.41-.59l7.78-7.78 2.81-2.81c.8-.78.8-2.07 0-2.86zM5.41 20L4 18.59l7.72-7.72 1.47 1.35L5.41 20z\"/>\n",
              "  </svg>\n",
              "      </button>\n",
              "      \n",
              "  <style>\n",
              "    .colab-df-container {\n",
              "      display:flex;\n",
              "      flex-wrap:wrap;\n",
              "      gap: 12px;\n",
              "    }\n",
              "\n",
              "    .colab-df-convert {\n",
              "      background-color: #E8F0FE;\n",
              "      border: none;\n",
              "      border-radius: 50%;\n",
              "      cursor: pointer;\n",
              "      display: none;\n",
              "      fill: #1967D2;\n",
              "      height: 32px;\n",
              "      padding: 0 0 0 0;\n",
              "      width: 32px;\n",
              "    }\n",
              "\n",
              "    .colab-df-convert:hover {\n",
              "      background-color: #E2EBFA;\n",
              "      box-shadow: 0px 1px 2px rgba(60, 64, 67, 0.3), 0px 1px 3px 1px rgba(60, 64, 67, 0.15);\n",
              "      fill: #174EA6;\n",
              "    }\n",
              "\n",
              "    [theme=dark] .colab-df-convert {\n",
              "      background-color: #3B4455;\n",
              "      fill: #D2E3FC;\n",
              "    }\n",
              "\n",
              "    [theme=dark] .colab-df-convert:hover {\n",
              "      background-color: #434B5C;\n",
              "      box-shadow: 0px 1px 3px 1px rgba(0, 0, 0, 0.15);\n",
              "      filter: drop-shadow(0px 1px 2px rgba(0, 0, 0, 0.3));\n",
              "      fill: #FFFFFF;\n",
              "    }\n",
              "  </style>\n",
              "\n",
              "      <script>\n",
              "        const buttonEl =\n",
              "          document.querySelector('#df-91619f9a-94e0-4c65-8761-c59405656c00 button.colab-df-convert');\n",
              "        buttonEl.style.display =\n",
              "          google.colab.kernel.accessAllowed ? 'block' : 'none';\n",
              "\n",
              "        async function convertToInteractive(key) {\n",
              "          const element = document.querySelector('#df-91619f9a-94e0-4c65-8761-c59405656c00');\n",
              "          const dataTable =\n",
              "            await google.colab.kernel.invokeFunction('convertToInteractive',\n",
              "                                                     [key], {});\n",
              "          if (!dataTable) return;\n",
              "\n",
              "          const docLinkHtml = 'Like what you see? Visit the ' +\n",
              "            '<a target=\"_blank\" href=https://colab.research.google.com/notebooks/data_table.ipynb>data table notebook</a>'\n",
              "            + ' to learn more about interactive tables.';\n",
              "          element.innerHTML = '';\n",
              "          dataTable['output_type'] = 'display_data';\n",
              "          await google.colab.output.renderOutput(dataTable, element);\n",
              "          const docLink = document.createElement('div');\n",
              "          docLink.innerHTML = docLinkHtml;\n",
              "          element.appendChild(docLink);\n",
              "        }\n",
              "      </script>\n",
              "    </div>\n",
              "  </div>\n",
              "  "
            ]
          },
          "metadata": {},
          "execution_count": 8
        }
      ]
    },
    {
      "cell_type": "code",
      "source": [
        "data_1[\"MP a (Å)\"] = mp\n",
        "data_1[\"Predicted a (Å)\"] = predicted\n",
        "data_1[\"initial_structs\"] = initial_structs\n",
        "data_1[\"final_m3gnet_structs\"] = final_m3gnet_structs"
      ],
      "metadata": {
        "colab": {
          "base_uri": "https://localhost:8080/"
        },
        "id": "xiXPBgJgyMyn",
        "outputId": "9fcc0e93-abc5-452a-9089-9bcd4ccd0486"
      },
      "execution_count": 9,
      "outputs": [
        {
          "output_type": "stream",
          "name": "stderr",
          "text": [
            "<ipython-input-9-02a3f8920e94>:1: SettingWithCopyWarning: \n",
            "A value is trying to be set on a copy of a slice from a DataFrame.\n",
            "Try using .loc[row_indexer,col_indexer] = value instead\n",
            "\n",
            "See the caveats in the documentation: https://pandas.pydata.org/pandas-docs/stable/user_guide/indexing.html#returning-a-view-versus-a-copy\n",
            "  data_1[\"MP a (Å)\"] = mp\n",
            "<ipython-input-9-02a3f8920e94>:2: SettingWithCopyWarning: \n",
            "A value is trying to be set on a copy of a slice from a DataFrame.\n",
            "Try using .loc[row_indexer,col_indexer] = value instead\n",
            "\n",
            "See the caveats in the documentation: https://pandas.pydata.org/pandas-docs/stable/user_guide/indexing.html#returning-a-view-versus-a-copy\n",
            "  data_1[\"Predicted a (Å)\"] = predicted\n",
            "<ipython-input-9-02a3f8920e94>:3: SettingWithCopyWarning: \n",
            "A value is trying to be set on a copy of a slice from a DataFrame.\n",
            "Try using .loc[row_indexer,col_indexer] = value instead\n",
            "\n",
            "See the caveats in the documentation: https://pandas.pydata.org/pandas-docs/stable/user_guide/indexing.html#returning-a-view-versus-a-copy\n",
            "  data_1[\"initial_structs\"] = initial_structs\n",
            "<ipython-input-9-02a3f8920e94>:4: SettingWithCopyWarning: \n",
            "A value is trying to be set on a copy of a slice from a DataFrame.\n",
            "Try using .loc[row_indexer,col_indexer] = value instead\n",
            "\n",
            "See the caveats in the documentation: https://pandas.pydata.org/pandas-docs/stable/user_guide/indexing.html#returning-a-view-versus-a-copy\n",
            "  data_1[\"final_m3gnet_structs\"] = final_m3gnet_structs\n"
          ]
        }
      ]
    },
    {
      "cell_type": "code",
      "source": [
        "from sklearn.metrics import mean_absolute_error\n",
        "print('MAE wrt Exp/Wiki data',mean_absolute_error(data_1['a (Å)'],data_1['Predicted a (Å)']))\n",
        "print('MAE wrt MP data',mean_absolute_error(data_1['MP a (Å)'],data_1['Predicted a (Å)']))"
      ],
      "metadata": {
        "colab": {
          "base_uri": "https://localhost:8080/"
        },
        "id": "r3pLHeW8nL2S",
        "outputId": "7bb93120-2f5e-4b4b-f7be-772b210f1759"
      },
      "execution_count": 10,
      "outputs": [
        {
          "output_type": "stream",
          "name": "stdout",
          "text": [
            "MAE wrt Exp/Wiki data 0.13163907193121901\n",
            "MAE wrt MP data 5.175435282714427\n"
          ]
        }
      ]
    },
    {
      "cell_type": "code",
      "source": [
        "from jarvis.core.atoms import Atoms\n",
        "from alignn.ff.ff import ForceField, default_path\n",
        "from jarvis.core.atoms import pmg_to_atoms\n",
        "model_path = default_path()\n",
        "def optimize_atoms(atoms=[],model_path=model_path):\n",
        "    atoms = pmg_to_atoms(atoms)\n",
        "    print(atoms.composition.reduced_formula)\n",
        "    ff = ForceField(\n",
        "        jarvis_atoms=atoms,\n",
        "        model_path=model_path,\n",
        "        stress_wt=.5,\n",
        "        force_mult_natoms=False\n",
        "    )\n",
        "    opt, en, fs = ff.optimize_atoms()\n",
        "    return opt.lattice.a"
      ],
      "metadata": {
        "colab": {
          "base_uri": "https://localhost:8080/"
        },
        "id": "zFCMgXcSxIXQ",
        "outputId": "0d545318-3214-48b7-d369-8a2695a2d2e5"
      },
      "execution_count": 26,
      "outputs": [
        {
          "output_type": "stream",
          "name": "stdout",
          "text": [
            "model_path /usr/local/lib/python3.10/dist-packages/alignn/ff\n"
          ]
        }
      ]
    },
    {
      "cell_type": "code",
      "source": [
        "tqdm.pandas()\n",
        "#slow\n",
        "data_1['alignn_a']=data_1['initial_structs'].progress_apply(lambda x:optimize_atoms(atoms=x))"
      ],
      "metadata": {
        "colab": {
          "base_uri": "https://localhost:8080/"
        },
        "id": "VB7krffR9XYh",
        "outputId": "6bdc0844-a4bf-433c-fd8d-dc120a1e2a9e"
      },
      "execution_count": null,
      "outputs": [
        {
          "output_type": "stream",
          "name": "stderr",
          "text": [
            "\r  0%|          | 0/63 [00:00<?, ?it/s]/usr/local/lib/python3.10/dist-packages/dgl/backend/pytorch/tensor.py:445: UserWarning: TypedStorage is deprecated. It will be removed in the future and UntypedStorage will be the only storage class. This should only matter to you if you are using storages directly.  To access UntypedStorage directly, use tensor.untyped_storage() instead of tensor.storage()\n",
            "  assert input.numel() == input.storage().size(), (\n"
          ]
        },
        {
          "output_type": "stream",
          "name": "stdout",
          "text": [
            "C\n",
            "OPTIMIZATION\n",
            "a= 5.000 Ang b= 5.000 Ang c= 5.000 Ang Volume= 125.000 amu/a3 PE=-17.14334 eV KE= 0.00000 eV T= 0.000 K \n",
            "a= 4.939 Ang b= 4.939 Ang c= 4.939 Ang Volume= 120.491 amu/a3 PE=-17.95782 eV KE= 0.00000 eV T= 0.000 K \n",
            "a= 4.817 Ang b= 4.817 Ang c= 4.817 Ang Volume= 111.751 amu/a3 PE=-19.64065 eV KE= 0.00000 eV T= 0.000 K \n",
            "a= 4.627 Ang b= 4.623 Ang c= 4.623 Ang Volume= 98.891 amu/a3 PE=-23.75571 eV KE= 0.00000 eV T= 0.000 K \n",
            "a= 4.334 Ang b= 4.316 Ang c= 4.316 Ang Volume= 80.706 amu/a3 PE=-32.83384 eV KE= 0.00000 eV T= 0.000 K \n",
            "a= 3.987 Ang b= 3.943 Ang c= 3.943 Ang Volume= 61.974 amu/a3 PE=-46.16742 eV KE= 0.00000 eV T= 0.000 K \n",
            "a= 3.579 Ang b= 3.513 Ang c= 3.513 Ang Volume= 44.093 amu/a3 PE=-61.27943 eV KE= 0.00000 eV T= 0.000 K \n",
            "a= 3.579 Ang b= 3.513 Ang c= 3.513 Ang Volume= 44.105 amu/a3 PE=-61.27988 eV KE= 0.00000 eV T= 0.000 K \n",
            "a= 3.580 Ang b= 3.514 Ang c= 3.514 Ang Volume= 44.129 amu/a3 PE=-61.28079 eV KE= 0.00000 eV T= 0.000 K \n",
            "a= 3.580 Ang b= 3.515 Ang c= 3.515 Ang Volume= 44.164 amu/a3 PE=-61.28213 eV KE= 0.00000 eV T= 0.000 K \n",
            "a= 3.581 Ang b= 3.516 Ang c= 3.516 Ang Volume= 44.211 amu/a3 PE=-61.28386 eV KE= 0.00000 eV T= 0.000 K \n",
            "a= 3.582 Ang b= 3.518 Ang c= 3.518 Ang Volume= 44.268 amu/a3 PE=-61.28593 eV KE= 0.00000 eV T= 0.000 K \n",
            "a= 3.583 Ang b= 3.520 Ang c= 3.520 Ang Volume= 44.335 amu/a3 PE=-61.28828 eV KE= 0.00000 eV T= 0.000 K \n",
            "a= 3.584 Ang b= 3.523 Ang c= 3.523 Ang Volume= 44.410 amu/a3 PE=-61.29089 eV KE= 0.00000 eV T= 0.000 K \n",
            "a= 3.585 Ang b= 3.526 Ang c= 3.526 Ang Volume= 44.502 amu/a3 PE=-61.29398 eV KE= 0.00000 eV T= 0.000 K \n",
            "a= 3.586 Ang b= 3.529 Ang c= 3.529 Ang Volume= 44.611 amu/a3 PE=-61.29756 eV KE= 0.00000 eV T= 0.000 K \n",
            "a= 3.588 Ang b= 3.533 Ang c= 3.533 Ang Volume= 44.737 amu/a3 PE=-61.30159 eV KE= 0.00000 eV T= 0.000 K \n"
          ]
        },
        {
          "output_type": "stream",
          "name": "stderr",
          "text": [
            "\r  3%|▎         | 2/63 [00:56<28:48, 28.34s/it]"
          ]
        },
        {
          "output_type": "stream",
          "name": "stdout",
          "text": [
            "Si\n",
            "OPTIMIZATION\n",
            "a= 5.000 Ang b= 5.000 Ang c= 5.000 Ang Volume= 125.000 amu/a3 PE=-24.25818 eV KE= 0.00000 eV T= 0.000 K \n",
            "a= 5.612 Ang b= 5.612 Ang c= 5.612 Ang Volume= 176.748 amu/a3 PE=-32.17567 eV KE= 0.00000 eV T= 0.000 K \n",
            "a= 5.605 Ang b= 5.605 Ang c= 5.605 Ang Volume= 176.118 amu/a3 PE=-32.20227 eV KE= 0.00000 eV T= 0.000 K \n",
            "a= 5.592 Ang b= 5.592 Ang c= 5.592 Ang Volume= 174.878 amu/a3 PE=-32.25393 eV KE= 0.00000 eV T= 0.000 K \n",
            "a= 5.573 Ang b= 5.572 Ang c= 5.573 Ang Volume= 173.065 amu/a3 PE=-32.32642 eV KE= 0.00000 eV T= 0.000 K \n",
            "a= 5.547 Ang b= 5.548 Ang c= 5.548 Ang Volume= 170.732 amu/a3 PE=-32.41366 eV KE= 0.00000 eV T= 0.000 K \n",
            "a= 5.516 Ang b= 5.517 Ang c= 5.518 Ang Volume= 167.946 amu/a3 PE=-32.50969 eV KE= 0.00000 eV T= 0.000 K \n",
            "a= 5.481 Ang b= 5.483 Ang c= 5.483 Ang Volume= 164.782 amu/a3 PE=-32.60809 eV KE= 0.00000 eV T= 0.000 K \n",
            "a= 5.444 Ang b= 5.444 Ang c= 5.443 Ang Volume= 161.317 amu/a3 PE=-32.70315 eV KE= 0.00000 eV T= 0.000 K \n",
            "a= 5.398 Ang b= 5.397 Ang c= 5.396 Ang Volume= 157.230 amu/a3 PE=-32.80030 eV KE= 0.00000 eV T= 0.000 K \n",
            "a= 5.343 Ang b= 5.344 Ang c= 5.342 Ang Volume= 152.509 amu/a3 PE=-32.89883 eV KE= 0.00000 eV T= 0.000 K \n",
            "a= 5.279 Ang b= 5.279 Ang c= 5.280 Ang Volume= 147.153 amu/a3 PE=-32.99350 eV KE= 0.00000 eV T= 0.000 K \n",
            "a= 5.204 Ang b= 5.208 Ang c= 5.211 Ang Volume= 141.245 amu/a3 PE=-33.01509 eV KE= 0.00000 eV T= 0.000 K \n",
            "a= 5.206 Ang b= 5.209 Ang c= 5.212 Ang Volume= 141.329 amu/a3 PE=-33.01693 eV KE= 0.00000 eV T= 0.000 K \n",
            "a= 5.208 Ang b= 5.211 Ang c= 5.213 Ang Volume= 141.492 amu/a3 PE=-33.02018 eV KE= 0.00000 eV T= 0.000 K \n",
            "a= 5.211 Ang b= 5.214 Ang c= 5.216 Ang Volume= 141.724 amu/a3 PE=-33.02380 eV KE= 0.00000 eV T= 0.000 K \n",
            "a= 5.215 Ang b= 5.218 Ang c= 5.219 Ang Volume= 142.012 amu/a3 PE=-33.02732 eV KE= 0.00000 eV T= 0.000 K \n",
            "a= 5.220 Ang b= 5.222 Ang c= 5.221 Ang Volume= 142.337 amu/a3 PE=-33.02940 eV KE= 0.00000 eV T= 0.000 K \n",
            "a= 5.226 Ang b= 5.226 Ang c= 5.225 Ang Volume= 142.679 amu/a3 PE=-33.03043 eV KE= 0.00000 eV T= 0.000 K \n",
            "a= 5.231 Ang b= 5.229 Ang c= 5.228 Ang Volume= 143.012 amu/a3 PE=-33.03143 eV KE= 0.00000 eV T= 0.000 K \n",
            "a= 5.231 Ang b= 5.229 Ang c= 5.228 Ang Volume= 143.012 amu/a3 PE=-33.03156 eV KE= 0.00000 eV T= 0.000 K \n",
            "a= 5.231 Ang b= 5.229 Ang c= 5.229 Ang Volume= 143.014 amu/a3 PE=-33.03155 eV KE= 0.00000 eV T= 0.000 K \n",
            "a= 5.231 Ang b= 5.229 Ang c= 5.229 Ang Volume= 143.015 amu/a3 PE=-33.03178 eV KE= 0.00000 eV T= 0.000 K \n",
            "a= 5.231 Ang b= 5.229 Ang c= 5.229 Ang Volume= 143.018 amu/a3 PE=-33.03208 eV KE= 0.00000 eV T= 0.000 K \n",
            "a= 5.231 Ang b= 5.229 Ang c= 5.229 Ang Volume= 143.018 amu/a3 PE=-33.03210 eV KE= 0.00000 eV T= 0.000 K \n",
            "a= 5.231 Ang b= 5.229 Ang c= 5.229 Ang Volume= 143.018 amu/a3 PE=-33.03241 eV KE= 0.00000 eV T= 0.000 K \n",
            "a= 5.231 Ang b= 5.229 Ang c= 5.229 Ang Volume= 143.019 amu/a3 PE=-33.03253 eV KE= 0.00000 eV T= 0.000 K \n",
            "a= 5.231 Ang b= 5.229 Ang c= 5.229 Ang Volume= 143.019 amu/a3 PE=-33.03254 eV KE= 0.00000 eV T= 0.000 K \n"
          ]
        },
        {
          "output_type": "stream",
          "name": "stderr",
          "text": [
            "\r  5%|▍         | 3/63 [02:21<52:00, 52.00s/it]"
          ]
        },
        {
          "output_type": "stream",
          "name": "stdout",
          "text": [
            "Ge\n",
            "OPTIMIZATION\n",
            "a= 5.000 Ang b= 5.000 Ang c= 5.000 Ang Volume= 125.000 amu/a3 PE= 5.98694 eV KE= 0.00000 eV T= 0.000 K \n",
            "a= 5.133 Ang b= 5.133 Ang c= 5.133 Ang Volume= 135.256 amu/a3 PE= 2.98554 eV KE= 0.00000 eV T= 0.000 K \n",
            "a= 5.413 Ang b= 5.414 Ang c= 5.409 Ang Volume= 158.530 amu/a3 PE=-3.98274 eV KE= 0.00000 eV T= 0.000 K \n",
            "a= 5.864 Ang b= 5.864 Ang c= 5.853 Ang Volume= 201.256 amu/a3 PE=-8.59087 eV KE= 0.00000 eV T= 0.000 K \n",
            "a= 5.859 Ang b= 5.860 Ang c= 5.849 Ang Volume= 200.810 amu/a3 PE=-8.60119 eV KE= 0.00000 eV T= 0.000 K \n",
            "a= 5.851 Ang b= 5.851 Ang c= 5.840 Ang Volume= 199.937 amu/a3 PE=-8.62039 eV KE= 0.00000 eV T= 0.000 K \n",
            "a= 5.838 Ang b= 5.839 Ang c= 5.828 Ang Volume= 198.674 amu/a3 PE=-8.64545 eV KE= 0.00000 eV T= 0.000 K \n",
            "a= 5.823 Ang b= 5.823 Ang c= 5.812 Ang Volume= 197.078 amu/a3 PE=-8.67208 eV KE= 0.00000 eV T= 0.000 K \n",
            "a= 5.804 Ang b= 5.805 Ang c= 5.794 Ang Volume= 195.229 amu/a3 PE=-8.69471 eV KE= 0.00000 eV T= 0.000 K \n",
            "a= 5.784 Ang b= 5.785 Ang c= 5.774 Ang Volume= 193.230 amu/a3 PE=-8.70713 eV KE= 0.00000 eV T= 0.000 K \n"
          ]
        },
        {
          "output_type": "stream",
          "name": "stderr",
          "text": [
            "\r  6%|▋         | 4/63 [02:56<44:38, 45.40s/it]"
          ]
        },
        {
          "output_type": "stream",
          "name": "stdout",
          "text": [
            "AlAs\n",
            "OPTIMIZATION\n",
            "a= 5.000 Ang b= 5.000 Ang c= 5.000 Ang Volume= 125.000 amu/a3 PE=-34.00023 eV KE= 0.00000 eV T= 0.000 K \n",
            "a= 5.154 Ang b= 5.154 Ang c= 5.154 Ang Volume= 136.899 amu/a3 PE=-11.61459 eV KE= 0.00000 eV T= 0.000 K \n",
            "a= 5.605 Ang b= 5.611 Ang c= 5.613 Ang Volume= 176.535 amu/a3 PE=-25.51973 eV KE= 0.00000 eV T= 0.000 K \n",
            "a= 6.136 Ang b= 6.146 Ang c= 6.153 Ang Volume= 232.028 amu/a3 PE=-25.24877 eV KE= 0.00000 eV T= 0.000 K \n",
            "a= 6.129 Ang b= 6.139 Ang c= 6.147 Ang Volume= 231.261 amu/a3 PE=-25.27199 eV KE= 0.00000 eV T= 0.000 K \n",
            "a= 6.116 Ang b= 6.125 Ang c= 6.133 Ang Volume= 229.746 amu/a3 PE=-25.31719 eV KE= 0.00000 eV T= 0.000 K \n",
            "a= 6.096 Ang b= 6.105 Ang c= 6.113 Ang Volume= 227.516 amu/a3 PE=-25.38193 eV KE= 0.00000 eV T= 0.000 K \n",
            "a= 6.070 Ang b= 6.079 Ang c= 6.088 Ang Volume= 224.623 amu/a3 PE=-25.46239 eV KE= 0.00000 eV T= 0.000 K \n",
            "a= 6.039 Ang b= 6.047 Ang c= 6.056 Ang Volume= 221.136 amu/a3 PE=-25.55351 eV KE= 0.00000 eV T= 0.000 K \n",
            "a= 6.002 Ang b= 6.010 Ang c= 6.019 Ang Volume= 217.137 amu/a3 PE=-25.64915 eV KE= 0.00000 eV T= 0.000 K \n",
            "a= 5.962 Ang b= 5.968 Ang c= 5.978 Ang Volume= 212.719 amu/a3 PE=-25.74241 eV KE= 0.00000 eV T= 0.000 K \n",
            "a= 5.913 Ang b= 5.918 Ang c= 5.929 Ang Volume= 207.474 amu/a3 PE=-25.83372 eV KE= 0.00000 eV T= 0.000 K \n",
            "a= 5.856 Ang b= 5.859 Ang c= 5.871 Ang Volume= 201.419 amu/a3 PE=-25.90752 eV KE= 0.00000 eV T= 0.000 K \n",
            "a= 5.790 Ang b= 5.791 Ang c= 5.806 Ang Volume= 194.679 amu/a3 PE=-25.93259 eV KE= 0.00000 eV T= 0.000 K \n"
          ]
        },
        {
          "output_type": "stream",
          "name": "stderr",
          "text": [
            "\r  8%|▊         | 5/63 [03:40<43:35, 45.09s/it]"
          ]
        },
        {
          "output_type": "stream",
          "name": "stdout",
          "text": [
            "AlP\n",
            "OPTIMIZATION\n",
            "a= 5.000 Ang b= 5.000 Ang c= 5.000 Ang Volume= 125.000 amu/a3 PE=-21.95017 eV KE= 0.00000 eV T= 0.000 K \n",
            "a= 5.232 Ang b= 5.232 Ang c= 5.232 Ang Volume= 143.235 amu/a3 PE=-29.14803 eV KE= 0.00000 eV T= 0.000 K \n",
            "a= 5.561 Ang b= 5.564 Ang c= 5.561 Ang Volume= 172.085 amu/a3 PE=-30.75252 eV KE= 0.00000 eV T= 0.000 K \n"
          ]
        },
        {
          "output_type": "stream",
          "name": "stderr",
          "text": [
            "\r 10%|▉         | 6/63 [03:55<33:14, 34.99s/it]"
          ]
        },
        {
          "output_type": "stream",
          "name": "stdout",
          "text": [
            "AlSb\n",
            "OPTIMIZATION\n",
            "a= 5.000 Ang b= 5.000 Ang c= 5.000 Ang Volume= 125.000 amu/a3 PE= 5.65614 eV KE= 0.00000 eV T= 0.000 K \n",
            "a= 5.398 Ang b= 5.398 Ang c= 5.398 Ang Volume= 157.276 amu/a3 PE= 5.15569 eV KE= 0.00000 eV T= 0.000 K \n",
            "a= 6.058 Ang b= 6.062 Ang c= 6.055 Ang Volume= 222.382 amu/a3 PE=-19.32637 eV KE= 0.00000 eV T= 0.000 K \n",
            "a= 6.794 Ang b= 6.809 Ang c= 6.797 Ang Volume= 314.434 amu/a3 PE=-19.32217 eV KE= 0.00000 eV T= 0.000 K \n",
            "a= 6.788 Ang b= 6.803 Ang c= 6.791 Ang Volume= 313.619 amu/a3 PE=-19.33641 eV KE= 0.00000 eV T= 0.000 K \n",
            "a= 6.777 Ang b= 6.791 Ang c= 6.780 Ang Volume= 312.010 amu/a3 PE=-19.36390 eV KE= 0.00000 eV T= 0.000 K \n",
            "a= 6.760 Ang b= 6.774 Ang c= 6.763 Ang Volume= 309.648 amu/a3 PE=-19.40267 eV KE= 0.00000 eV T= 0.000 K \n",
            "a= 6.738 Ang b= 6.751 Ang c= 6.741 Ang Volume= 306.592 amu/a3 PE=-19.44987 eV KE= 0.00000 eV T= 0.000 K \n",
            "a= 6.711 Ang b= 6.723 Ang c= 6.714 Ang Volume= 302.921 amu/a3 PE=-19.50191 eV KE= 0.00000 eV T= 0.000 K \n",
            "a= 6.681 Ang b= 6.690 Ang c= 6.683 Ang Volume= 298.726 amu/a3 PE=-19.55810 eV KE= 0.00000 eV T= 0.000 K \n"
          ]
        }
      ]
    },
    {
      "cell_type": "code",
      "source": [
        "pip freeze"
      ],
      "metadata": {
        "id": "NS6ZcskX6Zt2"
      },
      "execution_count": null,
      "outputs": []
    },
    {
      "cell_type": "code",
      "source": [],
      "metadata": {
        "id": "qQ9WPmIf8WLM"
      },
      "execution_count": null,
      "outputs": []
    }
  ]
}