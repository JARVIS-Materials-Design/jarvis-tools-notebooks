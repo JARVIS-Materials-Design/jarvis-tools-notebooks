{
  "nbformat": 4,
  "nbformat_minor": 0,
  "metadata": {
    "colab": {
      "provenance": [],
      "authorship_tag": "ABX9TyOlhtjJR0SRvm34RvvinjPM",
      "include_colab_link": true
    },
    "kernelspec": {
      "name": "python3",
      "display_name": "Python 3"
    },
    "language_info": {
      "name": "python"
    }
  },
  "cells": [
    {
      "cell_type": "markdown",
      "metadata": {
        "id": "view-in-github",
        "colab_type": "text"
      },
      "source": [
        "<a href=\"https://colab.research.google.com/github/knc6/jarvis-tools-notebooks/blob/master/jarvis-tools-notebooks/Cubic_Crystal_Test.ipynb\" target=\"_parent\"><img src=\"https://colab.research.google.com/assets/colab-badge.svg\" alt=\"Open In Colab\"/></a>"
      ]
    },
    {
      "cell_type": "markdown",
      "source": [
        "This notebook runs the jupyter-notebook given [here](https://github.com/materialsvirtuallab/m3gnet/blob/main/examples/Cubic%20Crystal%20Test.ipynb) on Colab."
      ],
      "metadata": {
        "id": "D_r9LqRSta_x"
      }
    },
    {
      "cell_type": "code",
      "execution_count": 1,
      "metadata": {
        "colab": {
          "base_uri": "https://localhost:8080/",
          "height": 1000
        },
        "id": "XEsKqR5ugbxt",
        "outputId": "83999c23-b1d8-4817-ab95-fbd9c89a89a2"
      },
      "outputs": [
        {
          "output_type": "stream",
          "name": "stdout",
          "text": [
            "Looking in indexes: https://pypi.org/simple, https://us-python.pkg.dev/colab-wheels/public/simple/\n",
            "Collecting m3gnet\n",
            "  Downloading m3gnet-0.2.4-py3-none-any.whl (285 kB)\n",
            "\u001b[2K     \u001b[90m━━━━━━━━━━━━━━━━━━━━━━━━━━━━━━━━━━━━━━━\u001b[0m \u001b[32m285.1/285.1 kB\u001b[0m \u001b[31m5.3 MB/s\u001b[0m eta \u001b[36m0:00:00\u001b[0m\n",
            "\u001b[?25hCollecting alignn\n",
            "  Downloading alignn-2023.4.1-py2.py3-none-any.whl (15.1 MB)\n",
            "\u001b[2K     \u001b[90m━━━━━━━━━━━━━━━━━━━━━━━━━━━━━━━━━━━━━━━━\u001b[0m \u001b[32m15.1/15.1 MB\u001b[0m \u001b[31m32.9 MB/s\u001b[0m eta \u001b[36m0:00:00\u001b[0m\n",
            "\u001b[?25hRequirement already satisfied: numpy in /usr/local/lib/python3.9/dist-packages (from m3gnet) (1.22.4)\n",
            "Requirement already satisfied: sympy in /usr/local/lib/python3.9/dist-packages (from m3gnet) (1.11.1)\n",
            "Collecting ase\n",
            "  Downloading ase-3.22.1-py3-none-any.whl (2.2 MB)\n",
            "\u001b[2K     \u001b[90m━━━━━━━━━━━━━━━━━━━━━━━━━━━━━━━━━━━━━━━━\u001b[0m \u001b[32m2.2/2.2 MB\u001b[0m \u001b[31m15.2 MB/s\u001b[0m eta \u001b[36m0:00:00\u001b[0m\n",
            "\u001b[?25hCollecting monty\n",
            "  Downloading monty-2023.4.10-py3-none-any.whl (67 kB)\n",
            "\u001b[2K     \u001b[90m━━━━━━━━━━━━━━━━━━━━━━━━━━━━━━━━━━━━━━━━\u001b[0m \u001b[32m67.0/67.0 kB\u001b[0m \u001b[31m2.1 MB/s\u001b[0m eta \u001b[36m0:00:00\u001b[0m\n",
            "\u001b[?25hRequirement already satisfied: tensorflow in /usr/local/lib/python3.9/dist-packages (from m3gnet) (2.12.0)\n",
            "Collecting pymatgen\n",
            "  Downloading pymatgen-2023.3.23-cp39-cp39-manylinux_2_17_x86_64.manylinux2014_x86_64.whl (12.4 MB)\n",
            "\u001b[2K     \u001b[90m━━━━━━━━━━━━━━━━━━━━━━━━━━━━━━━━━━━━━━━━\u001b[0m \u001b[32m12.4/12.4 MB\u001b[0m \u001b[31m44.1 MB/s\u001b[0m eta \u001b[36m0:00:00\u001b[0m\n",
            "\u001b[?25hCollecting jarvis-tools>=2021.07.19\n",
            "  Downloading jarvis_tools-2023.4.6-py2.py3-none-any.whl (973 kB)\n",
            "\u001b[2K     \u001b[90m━━━━━━━━━━━━━━━━━━━━━━━━━━━━━━━━━━━━━━\u001b[0m \u001b[32m973.8/973.8 kB\u001b[0m \u001b[31m16.8 MB/s\u001b[0m eta \u001b[36m0:00:00\u001b[0m\n",
            "\u001b[?25hCollecting pycodestyle>=2.7.0\n",
            "  Downloading pycodestyle-2.10.0-py2.py3-none-any.whl (41 kB)\n",
            "\u001b[2K     \u001b[90m━━━━━━━━━━━━━━━━━━━━━━━━━━━━━━━━━━━━━━━━\u001b[0m \u001b[32m41.3/41.3 kB\u001b[0m \u001b[31m2.4 MB/s\u001b[0m eta \u001b[36m0:00:00\u001b[0m\n",
            "\u001b[?25hCollecting pytorch-ignite>=0.5.0.dev20221024\n",
            "  Downloading pytorch_ignite-0.5.0.dev20230424-py3-none-any.whl (264 kB)\n",
            "\u001b[2K     \u001b[90m━━━━━━━━━━━━━━━━━━━━━━━━━━━━━━━━━━━━━━━\u001b[0m \u001b[32m265.0/265.0 kB\u001b[0m \u001b[31m1.7 MB/s\u001b[0m eta \u001b[36m0:00:00\u001b[0m\n",
            "\u001b[?25hRequirement already satisfied: pydantic>=1.8.1 in /usr/local/lib/python3.9/dist-packages (from alignn) (1.10.7)\n",
            "Collecting dgl>=0.6.0\n",
            "  Downloading dgl-1.0.1-cp39-cp39-manylinux1_x86_64.whl (5.4 MB)\n",
            "\u001b[2K     \u001b[90m━━━━━━━━━━━━━━━━━━━━━━━━━━━━━━━━━━━━━━━━\u001b[0m \u001b[32m5.4/5.4 MB\u001b[0m \u001b[31m23.0 MB/s\u001b[0m eta \u001b[36m0:00:00\u001b[0m\n",
            "\u001b[?25hCollecting flake8>=3.9.1\n",
            "  Downloading flake8-6.0.0-py2.py3-none-any.whl (57 kB)\n",
            "\u001b[2K     \u001b[90m━━━━━━━━━━━━━━━━━━━━━━━━━━━━━━━━━━━━━━━━\u001b[0m \u001b[32m57.8/57.8 kB\u001b[0m \u001b[31m2.7 MB/s\u001b[0m eta \u001b[36m0:00:00\u001b[0m\n",
            "\u001b[?25hRequirement already satisfied: scikit-learn>=0.22.2 in /usr/local/lib/python3.9/dist-packages (from alignn) (1.2.2)\n",
            "Requirement already satisfied: matplotlib>=3.4.1 in /usr/local/lib/python3.9/dist-packages (from alignn) (3.7.1)\n",
            "Requirement already satisfied: tqdm>=4.60.0 in /usr/local/lib/python3.9/dist-packages (from alignn) (4.65.0)\n",
            "Collecting pydocstyle>=6.0.0\n",
            "  Downloading pydocstyle-6.3.0-py3-none-any.whl (38 kB)\n",
            "Collecting pyparsing<3,>=2.2.1\n",
            "  Downloading pyparsing-2.4.7-py2.py3-none-any.whl (67 kB)\n",
            "\u001b[2K     \u001b[90m━━━━━━━━━━━━━━━━━━━━━━━━━━━━━━━━━━━━━━━━\u001b[0m \u001b[32m67.8/67.8 kB\u001b[0m \u001b[31m1.8 MB/s\u001b[0m eta \u001b[36m0:00:00\u001b[0m\n",
            "\u001b[?25hRequirement already satisfied: scipy>=1.6.1 in /usr/local/lib/python3.9/dist-packages (from alignn) (1.10.1)\n",
            "Requirement already satisfied: pandas>=1.2.3 in /usr/local/lib/python3.9/dist-packages (from alignn) (1.5.3)\n",
            "Requirement already satisfied: torch>=1.8 in /usr/local/lib/python3.9/dist-packages (from alignn) (2.0.0+cu118)\n",
            "Requirement already satisfied: psutil>=5.8.0 in /usr/local/lib/python3.9/dist-packages (from dgl>=0.6.0->alignn) (5.9.5)\n",
            "Requirement already satisfied: networkx>=2.1 in /usr/local/lib/python3.9/dist-packages (from dgl>=0.6.0->alignn) (3.1)\n",
            "Requirement already satisfied: requests>=2.19.0 in /usr/local/lib/python3.9/dist-packages (from dgl>=0.6.0->alignn) (2.27.1)\n",
            "Collecting pyflakes<3.1.0,>=3.0.0\n",
            "  Downloading pyflakes-3.0.1-py2.py3-none-any.whl (62 kB)\n",
            "\u001b[2K     \u001b[90m━━━━━━━━━━━━━━━━━━━━━━━━━━━━━━━━━━━━━━━━\u001b[0m \u001b[32m62.8/62.8 kB\u001b[0m \u001b[31m3.6 MB/s\u001b[0m eta \u001b[36m0:00:00\u001b[0m\n",
            "\u001b[?25hCollecting mccabe<0.8.0,>=0.7.0\n",
            "  Downloading mccabe-0.7.0-py2.py3-none-any.whl (7.3 kB)\n",
            "Requirement already satisfied: joblib>=0.14.1 in /usr/local/lib/python3.9/dist-packages (from jarvis-tools>=2021.07.19->alignn) (1.2.0)\n",
            "Collecting spglib>=1.14.1\n",
            "  Downloading spglib-2.0.2-cp39-cp39-manylinux_2_17_x86_64.manylinux2014_x86_64.whl (515 kB)\n",
            "\u001b[2K     \u001b[90m━━━━━━━━━━━━━━━━━━━━━━━━━━━━━━━━━━━━━━\u001b[0m \u001b[32m515.0/515.0 kB\u001b[0m \u001b[31m18.7 MB/s\u001b[0m eta \u001b[36m0:00:00\u001b[0m\n",
            "\u001b[?25hRequirement already satisfied: toolz>=0.9.0 in /usr/local/lib/python3.9/dist-packages (from jarvis-tools>=2021.07.19->alignn) (0.12.0)\n",
            "Collecting xmltodict>=0.11.0\n",
            "  Downloading xmltodict-0.13.0-py2.py3-none-any.whl (10.0 kB)\n",
            "Requirement already satisfied: packaging>=20.0 in /usr/local/lib/python3.9/dist-packages (from matplotlib>=3.4.1->alignn) (23.1)\n",
            "Requirement already satisfied: pillow>=6.2.0 in /usr/local/lib/python3.9/dist-packages (from matplotlib>=3.4.1->alignn) (8.4.0)\n",
            "Requirement already satisfied: contourpy>=1.0.1 in /usr/local/lib/python3.9/dist-packages (from matplotlib>=3.4.1->alignn) (1.0.7)\n",
            "Requirement already satisfied: fonttools>=4.22.0 in /usr/local/lib/python3.9/dist-packages (from matplotlib>=3.4.1->alignn) (4.39.3)\n",
            "Requirement already satisfied: cycler>=0.10 in /usr/local/lib/python3.9/dist-packages (from matplotlib>=3.4.1->alignn) (0.11.0)\n",
            "Requirement already satisfied: kiwisolver>=1.0.1 in /usr/local/lib/python3.9/dist-packages (from matplotlib>=3.4.1->alignn) (1.4.4)\n",
            "Requirement already satisfied: python-dateutil>=2.7 in /usr/local/lib/python3.9/dist-packages (from matplotlib>=3.4.1->alignn) (2.8.2)\n",
            "Requirement already satisfied: importlib-resources>=3.2.0 in /usr/local/lib/python3.9/dist-packages (from matplotlib>=3.4.1->alignn) (5.12.0)\n",
            "Requirement already satisfied: pytz>=2020.1 in /usr/local/lib/python3.9/dist-packages (from pandas>=1.2.3->alignn) (2022.7.1)\n",
            "Requirement already satisfied: typing-extensions>=4.2.0 in /usr/local/lib/python3.9/dist-packages (from pydantic>=1.8.1->alignn) (4.5.0)\n",
            "Requirement already satisfied: snowballstemmer>=2.2.0 in /usr/local/lib/python3.9/dist-packages (from pydocstyle>=6.0.0->alignn) (2.2.0)\n",
            "Requirement already satisfied: threadpoolctl>=2.0.0 in /usr/local/lib/python3.9/dist-packages (from scikit-learn>=0.22.2->alignn) (3.1.0)\n",
            "Requirement already satisfied: triton==2.0.0 in /usr/local/lib/python3.9/dist-packages (from torch>=1.8->alignn) (2.0.0)\n",
            "Requirement already satisfied: filelock in /usr/local/lib/python3.9/dist-packages (from torch>=1.8->alignn) (3.11.0)\n",
            "Requirement already satisfied: jinja2 in /usr/local/lib/python3.9/dist-packages (from torch>=1.8->alignn) (3.1.2)\n",
            "Requirement already satisfied: lit in /usr/local/lib/python3.9/dist-packages (from triton==2.0.0->torch>=1.8->alignn) (16.0.1)\n",
            "Requirement already satisfied: cmake in /usr/local/lib/python3.9/dist-packages (from triton==2.0.0->torch>=1.8->alignn) (3.25.2)\n",
            "Requirement already satisfied: plotly>=4.5.0 in /usr/local/lib/python3.9/dist-packages (from pymatgen->m3gnet) (5.13.1)\n",
            "Collecting pybtex\n",
            "  Downloading pybtex-0.24.0-py2.py3-none-any.whl (561 kB)\n",
            "\u001b[2K     \u001b[90m━━━━━━━━━━━━━━━━━━━━━━━━━━━━━━━━━━━━━━\u001b[0m \u001b[32m561.4/561.4 kB\u001b[0m \u001b[31m22.0 MB/s\u001b[0m eta \u001b[36m0:00:00\u001b[0m\n",
            "\u001b[?25hRequirement already satisfied: tabulate in /usr/local/lib/python3.9/dist-packages (from pymatgen->m3gnet) (0.8.10)\n",
            "Requirement already satisfied: palettable>=3.1.1 in /usr/local/lib/python3.9/dist-packages (from pymatgen->m3gnet) (3.3.2)\n",
            "Collecting uncertainties>=3.1.4\n",
            "  Downloading uncertainties-3.1.7-py2.py3-none-any.whl (98 kB)\n",
            "\u001b[2K     \u001b[90m━━━━━━━━━━━━━━━━━━━━━━━━━━━━━━━━━━━━━━━━\u001b[0m \u001b[32m98.4/98.4 kB\u001b[0m \u001b[31m4.2 MB/s\u001b[0m eta \u001b[36m0:00:00\u001b[0m\n",
            "\u001b[?25hCollecting ruamel.yaml>=0.17.0\n",
            "  Downloading ruamel.yaml-0.17.21-py3-none-any.whl (109 kB)\n",
            "\u001b[2K     \u001b[90m━━━━━━━━━━━━━━━━━━━━━━━━━━━━━━━━━━━━━━━\u001b[0m \u001b[32m109.5/109.5 kB\u001b[0m \u001b[31m2.4 MB/s\u001b[0m eta \u001b[36m0:00:00\u001b[0m\n",
            "\u001b[?25hCollecting mp-api>=0.27.3\n",
            "  Downloading mp_api-0.32.0-py3-none-any.whl (74 kB)\n",
            "\u001b[2K     \u001b[90m━━━━━━━━━━━━━━━━━━━━━━━━━━━━━━━━━━━━━━━━\u001b[0m \u001b[32m74.2/74.2 kB\u001b[0m \u001b[31m3.7 MB/s\u001b[0m eta \u001b[36m0:00:00\u001b[0m\n",
            "\u001b[?25hRequirement already satisfied: mpmath>=0.19 in /usr/local/lib/python3.9/dist-packages (from sympy->m3gnet) (1.3.0)\n",
            "Requirement already satisfied: termcolor>=1.1.0 in /usr/local/lib/python3.9/dist-packages (from tensorflow->m3gnet) (2.2.0)\n",
            "Requirement already satisfied: opt-einsum>=2.3.2 in /usr/local/lib/python3.9/dist-packages (from tensorflow->m3gnet) (3.3.0)\n",
            "Requirement already satisfied: setuptools in /usr/local/lib/python3.9/dist-packages (from tensorflow->m3gnet) (67.6.1)\n",
            "Requirement already satisfied: grpcio<2.0,>=1.24.3 in /usr/local/lib/python3.9/dist-packages (from tensorflow->m3gnet) (1.53.0)\n",
            "Requirement already satisfied: google-pasta>=0.1.1 in /usr/local/lib/python3.9/dist-packages (from tensorflow->m3gnet) (0.2.0)\n",
            "Requirement already satisfied: h5py>=2.9.0 in /usr/local/lib/python3.9/dist-packages (from tensorflow->m3gnet) (3.8.0)\n",
            "Requirement already satisfied: wrapt<1.15,>=1.11.0 in /usr/local/lib/python3.9/dist-packages (from tensorflow->m3gnet) (1.14.1)\n",
            "Requirement already satisfied: tensorboard<2.13,>=2.12 in /usr/local/lib/python3.9/dist-packages (from tensorflow->m3gnet) (2.12.2)\n",
            "Requirement already satisfied: keras<2.13,>=2.12.0 in /usr/local/lib/python3.9/dist-packages (from tensorflow->m3gnet) (2.12.0)\n",
            "Requirement already satisfied: flatbuffers>=2.0 in /usr/local/lib/python3.9/dist-packages (from tensorflow->m3gnet) (23.3.3)\n",
            "Requirement already satisfied: tensorflow-io-gcs-filesystem>=0.23.1 in /usr/local/lib/python3.9/dist-packages (from tensorflow->m3gnet) (0.32.0)\n",
            "Requirement already satisfied: astunparse>=1.6.0 in /usr/local/lib/python3.9/dist-packages (from tensorflow->m3gnet) (1.6.3)\n",
            "Requirement already satisfied: six>=1.12.0 in /usr/local/lib/python3.9/dist-packages (from tensorflow->m3gnet) (1.16.0)\n",
            "Requirement already satisfied: protobuf!=4.21.0,!=4.21.1,!=4.21.2,!=4.21.3,!=4.21.4,!=4.21.5,<5.0.0dev,>=3.20.3 in /usr/local/lib/python3.9/dist-packages (from tensorflow->m3gnet) (3.20.3)\n",
            "Requirement already satisfied: jax>=0.3.15 in /usr/local/lib/python3.9/dist-packages (from tensorflow->m3gnet) (0.4.8)\n",
            "Requirement already satisfied: tensorflow-estimator<2.13,>=2.12.0 in /usr/local/lib/python3.9/dist-packages (from tensorflow->m3gnet) (2.12.0)\n",
            "Requirement already satisfied: gast<=0.4.0,>=0.2.1 in /usr/local/lib/python3.9/dist-packages (from tensorflow->m3gnet) (0.4.0)\n",
            "Requirement already satisfied: libclang>=13.0.0 in /usr/local/lib/python3.9/dist-packages (from tensorflow->m3gnet) (16.0.0)\n",
            "Requirement already satisfied: absl-py>=1.0.0 in /usr/local/lib/python3.9/dist-packages (from tensorflow->m3gnet) (1.4.0)\n",
            "Requirement already satisfied: wheel<1.0,>=0.23.0 in /usr/local/lib/python3.9/dist-packages (from astunparse>=1.6.0->tensorflow->m3gnet) (0.40.0)\n",
            "Requirement already satisfied: zipp>=3.1.0 in /usr/local/lib/python3.9/dist-packages (from importlib-resources>=3.2.0->matplotlib>=3.4.1->alignn) (3.15.0)\n",
            "Requirement already satisfied: ml-dtypes>=0.0.3 in /usr/local/lib/python3.9/dist-packages (from jax>=0.3.15->tensorflow->m3gnet) (0.1.0)\n",
            "Requirement already satisfied: msgpack in /usr/local/lib/python3.9/dist-packages (from mp-api>=0.27.3->pymatgen->m3gnet) (1.0.5)\n",
            "Collecting emmet-core<=0.50.0\n",
            "  Downloading emmet_core-0.50.0-py3-none-any.whl (137 kB)\n",
            "\u001b[2K     \u001b[90m━━━━━━━━━━━━━━━━━━━━━━━━━━━━━━━━━━━━━━━\u001b[0m \u001b[32m137.5/137.5 kB\u001b[0m \u001b[31m4.0 MB/s\u001b[0m eta \u001b[36m0:00:00\u001b[0m\n",
            "\u001b[?25hRequirement already satisfied: tenacity>=6.2.0 in /usr/local/lib/python3.9/dist-packages (from plotly>=4.5.0->pymatgen->m3gnet) (8.2.2)\n",
            "Requirement already satisfied: certifi>=2017.4.17 in /usr/local/lib/python3.9/dist-packages (from requests>=2.19.0->dgl>=0.6.0->alignn) (2022.12.7)\n",
            "Requirement already satisfied: charset-normalizer~=2.0.0 in /usr/local/lib/python3.9/dist-packages (from requests>=2.19.0->dgl>=0.6.0->alignn) (2.0.12)\n",
            "Requirement already satisfied: idna<4,>=2.5 in /usr/local/lib/python3.9/dist-packages (from requests>=2.19.0->dgl>=0.6.0->alignn) (3.4)\n",
            "Requirement already satisfied: urllib3<1.27,>=1.21.1 in /usr/local/lib/python3.9/dist-packages (from requests>=2.19.0->dgl>=0.6.0->alignn) (1.26.15)\n",
            "Collecting ruamel.yaml.clib>=0.2.6\n",
            "  Downloading ruamel.yaml.clib-0.2.7-cp39-cp39-manylinux_2_17_x86_64.manylinux2014_x86_64.manylinux_2_24_x86_64.whl (519 kB)\n",
            "\u001b[2K     \u001b[90m━━━━━━━━━━━━━━━━━━━━━━━━━━━━━━━━━━━━━━\u001b[0m \u001b[32m519.4/519.4 kB\u001b[0m \u001b[31m23.6 MB/s\u001b[0m eta \u001b[36m0:00:00\u001b[0m\n",
            "\u001b[?25hRequirement already satisfied: markdown>=2.6.8 in /usr/local/lib/python3.9/dist-packages (from tensorboard<2.13,>=2.12->tensorflow->m3gnet) (3.4.3)\n",
            "Requirement already satisfied: tensorboard-plugin-wit>=1.6.0 in /usr/local/lib/python3.9/dist-packages (from tensorboard<2.13,>=2.12->tensorflow->m3gnet) (1.8.1)\n",
            "Requirement already satisfied: google-auth<3,>=1.6.3 in /usr/local/lib/python3.9/dist-packages (from tensorboard<2.13,>=2.12->tensorflow->m3gnet) (2.17.3)\n",
            "Requirement already satisfied: werkzeug>=1.0.1 in /usr/local/lib/python3.9/dist-packages (from tensorboard<2.13,>=2.12->tensorflow->m3gnet) (2.2.3)\n",
            "Requirement already satisfied: tensorboard-data-server<0.8.0,>=0.7.0 in /usr/local/lib/python3.9/dist-packages (from tensorboard<2.13,>=2.12->tensorflow->m3gnet) (0.7.0)\n",
            "Requirement already satisfied: google-auth-oauthlib<1.1,>=0.5 in /usr/local/lib/python3.9/dist-packages (from tensorboard<2.13,>=2.12->tensorflow->m3gnet) (1.0.0)\n",
            "Requirement already satisfied: future in /usr/local/lib/python3.9/dist-packages (from uncertainties>=3.1.4->pymatgen->m3gnet) (0.18.3)\n",
            "Requirement already satisfied: MarkupSafe>=2.0 in /usr/local/lib/python3.9/dist-packages (from jinja2->torch>=1.8->alignn) (2.1.2)\n",
            "Requirement already satisfied: PyYAML>=3.01 in /usr/local/lib/python3.9/dist-packages (from pybtex->pymatgen->m3gnet) (6.0)\n",
            "Collecting latexcodec>=1.0.4\n",
            "  Downloading latexcodec-2.0.1-py2.py3-none-any.whl (18 kB)\n",
            "Requirement already satisfied: pyasn1-modules>=0.2.1 in /usr/local/lib/python3.9/dist-packages (from google-auth<3,>=1.6.3->tensorboard<2.13,>=2.12->tensorflow->m3gnet) (0.2.8)\n",
            "Requirement already satisfied: rsa<5,>=3.1.4 in /usr/local/lib/python3.9/dist-packages (from google-auth<3,>=1.6.3->tensorboard<2.13,>=2.12->tensorflow->m3gnet) (4.9)\n",
            "Requirement already satisfied: cachetools<6.0,>=2.0.0 in /usr/local/lib/python3.9/dist-packages (from google-auth<3,>=1.6.3->tensorboard<2.13,>=2.12->tensorflow->m3gnet) (5.3.0)\n",
            "Requirement already satisfied: requests-oauthlib>=0.7.0 in /usr/local/lib/python3.9/dist-packages (from google-auth-oauthlib<1.1,>=0.5->tensorboard<2.13,>=2.12->tensorflow->m3gnet) (1.3.1)\n",
            "Requirement already satisfied: importlib-metadata>=4.4 in /usr/local/lib/python3.9/dist-packages (from markdown>=2.6.8->tensorboard<2.13,>=2.12->tensorflow->m3gnet) (6.4.1)\n",
            "Requirement already satisfied: pyasn1<0.5.0,>=0.4.6 in /usr/local/lib/python3.9/dist-packages (from pyasn1-modules>=0.2.1->google-auth<3,>=1.6.3->tensorboard<2.13,>=2.12->tensorflow->m3gnet) (0.4.8)\n",
            "Requirement already satisfied: oauthlib>=3.0.0 in /usr/local/lib/python3.9/dist-packages (from requests-oauthlib>=0.7.0->google-auth-oauthlib<1.1,>=0.5->tensorboard<2.13,>=2.12->tensorflow->m3gnet) (3.2.2)\n",
            "Installing collected packages: xmltodict, uncertainties, spglib, ruamel.yaml.clib, pyparsing, pyflakes, pydocstyle, pycodestyle, monty, mccabe, latexcodec, ruamel.yaml, pybtex, flake8, dgl, jarvis-tools, ase, emmet-core, mp-api, pytorch-ignite, pymatgen, m3gnet, alignn\n",
            "  Attempting uninstall: pyparsing\n",
            "    Found existing installation: pyparsing 3.0.9\n",
            "    Uninstalling pyparsing-3.0.9:\n",
            "      Successfully uninstalled pyparsing-3.0.9\n",
            "Successfully installed alignn-2023.4.1 ase-3.22.1 dgl-1.0.1 emmet-core-0.50.0 flake8-6.0.0 jarvis-tools-2023.4.6 latexcodec-2.0.1 m3gnet-0.2.4 mccabe-0.7.0 monty-2023.4.10 mp-api-0.32.0 pybtex-0.24.0 pycodestyle-2.10.0 pydocstyle-6.3.0 pyflakes-3.0.1 pymatgen-2023.3.23 pyparsing-2.4.7 pytorch-ignite-0.5.0.dev20230424 ruamel.yaml-0.17.21 ruamel.yaml.clib-0.2.7 spglib-2.0.2 uncertainties-3.1.7 xmltodict-0.13.0\n"
          ]
        },
        {
          "output_type": "display_data",
          "data": {
            "application/vnd.colab-display-data+json": {
              "pip_warning": {
                "packages": [
                  "pyparsing"
                ]
              }
            }
          },
          "metadata": {}
        }
      ],
      "source": [
        "!pip install m3gnet alignn"
      ]
    },
    {
      "cell_type": "code",
      "source": [
        "import traceback\n",
        "import warnings\n",
        "\n",
        "import numpy as np\n",
        "import pandas as pd\n",
        "from pymatgen.core import Composition, Lattice, Structure\n",
        "#from pymatgen.ext.matproj import MPRester\n",
        "#Run the cell twice to avoid MPRester error\n",
        "from pymatgen.ext.matproj import _MPResterLegacy as MPRester\n",
        "from pymatgen.symmetry.analyzer import SpacegroupAnalyzer\n",
        "from tqdm import tqdm\n",
        "\n",
        "from m3gnet.models import Relaxer\n",
        "\n",
        "for category in (UserWarning, DeprecationWarning):\n",
        "    warnings.filterwarnings(\"ignore\", category=category, module=\"tensorflow\")\n",
        "    warnings.filterwarnings(\"ignore\", category=category, module=\"pymatgen\")"
      ],
      "metadata": {
        "id": "NJVJCR96ghzJ"
      },
      "execution_count": 3,
      "outputs": []
    },
    {
      "cell_type": "code",
      "source": [
        "data = pd.read_html(\"http://en.wikipedia.org/wiki/Lattice_constant\")[0]"
      ],
      "metadata": {
        "id": "PG7r4yAmiGIo"
      },
      "execution_count": 4,
      "outputs": []
    },
    {
      "cell_type": "code",
      "source": [
        "data"
      ],
      "metadata": {
        "colab": {
          "base_uri": "https://localhost:8080/",
          "height": 423
        },
        "id": "VqfwwKDhiuqt",
        "outputId": "e750f58f-d0f3-4de0-a7e8-978ba697a2bc"
      },
      "execution_count": 5,
      "outputs": [
        {
          "output_type": "execute_result",
          "data": {
            "text/plain": [
              "        Material          Lattice constant (Å)        Crystal structure  \\\n",
              "0    C (diamond)                         3.567            Diamond (FCC)   \n",
              "1   C (graphite)           a = 2.461 c = 6.708                Hexagonal   \n",
              "2             Si                   5.431020511            Diamond (FCC)   \n",
              "3             Ge                         5.658            Diamond (FCC)   \n",
              "4           AlAs                        5.6605        Zinc blende (FCC)   \n",
              "..           ...                           ...                      ...   \n",
              "86         CaVO3                         3.767         Cubic perovskite   \n",
              "87        BaMnO3            a = 5.673 c = 4.71                Hexagonal   \n",
              "88        CaMnO3  a = 5.27 b = 5.275 c = 7.464  Orthorhombic perovskite   \n",
              "89        SrRuO3    a = 5.53 b = 5.57 c = 7.85  Orthorhombic perovskite   \n",
              "90         YAlO3  a = 5.179 b = 5.329 c = 7.37  Orthorhombic perovskite   \n",
              "\n",
              "      Ref.  \n",
              "0      [7]  \n",
              "1      NaN  \n",
              "2   [8][9]  \n",
              "3      [8]  \n",
              "4      [8]  \n",
              "..     ...  \n",
              "86    [15]  \n",
              "87    [15]  \n",
              "88    [15]  \n",
              "89    [15]  \n",
              "90    [15]  \n",
              "\n",
              "[91 rows x 4 columns]"
            ],
            "text/html": [
              "\n",
              "  <div id=\"df-530e8cfd-7dc1-4894-a535-d49add8c77b5\">\n",
              "    <div class=\"colab-df-container\">\n",
              "      <div>\n",
              "<style scoped>\n",
              "    .dataframe tbody tr th:only-of-type {\n",
              "        vertical-align: middle;\n",
              "    }\n",
              "\n",
              "    .dataframe tbody tr th {\n",
              "        vertical-align: top;\n",
              "    }\n",
              "\n",
              "    .dataframe thead th {\n",
              "        text-align: right;\n",
              "    }\n",
              "</style>\n",
              "<table border=\"1\" class=\"dataframe\">\n",
              "  <thead>\n",
              "    <tr style=\"text-align: right;\">\n",
              "      <th></th>\n",
              "      <th>Material</th>\n",
              "      <th>Lattice constant (Å)</th>\n",
              "      <th>Crystal structure</th>\n",
              "      <th>Ref.</th>\n",
              "    </tr>\n",
              "  </thead>\n",
              "  <tbody>\n",
              "    <tr>\n",
              "      <th>0</th>\n",
              "      <td>C (diamond)</td>\n",
              "      <td>3.567</td>\n",
              "      <td>Diamond (FCC)</td>\n",
              "      <td>[7]</td>\n",
              "    </tr>\n",
              "    <tr>\n",
              "      <th>1</th>\n",
              "      <td>C (graphite)</td>\n",
              "      <td>a = 2.461 c = 6.708</td>\n",
              "      <td>Hexagonal</td>\n",
              "      <td>NaN</td>\n",
              "    </tr>\n",
              "    <tr>\n",
              "      <th>2</th>\n",
              "      <td>Si</td>\n",
              "      <td>5.431020511</td>\n",
              "      <td>Diamond (FCC)</td>\n",
              "      <td>[8][9]</td>\n",
              "    </tr>\n",
              "    <tr>\n",
              "      <th>3</th>\n",
              "      <td>Ge</td>\n",
              "      <td>5.658</td>\n",
              "      <td>Diamond (FCC)</td>\n",
              "      <td>[8]</td>\n",
              "    </tr>\n",
              "    <tr>\n",
              "      <th>4</th>\n",
              "      <td>AlAs</td>\n",
              "      <td>5.6605</td>\n",
              "      <td>Zinc blende (FCC)</td>\n",
              "      <td>[8]</td>\n",
              "    </tr>\n",
              "    <tr>\n",
              "      <th>...</th>\n",
              "      <td>...</td>\n",
              "      <td>...</td>\n",
              "      <td>...</td>\n",
              "      <td>...</td>\n",
              "    </tr>\n",
              "    <tr>\n",
              "      <th>86</th>\n",
              "      <td>CaVO3</td>\n",
              "      <td>3.767</td>\n",
              "      <td>Cubic perovskite</td>\n",
              "      <td>[15]</td>\n",
              "    </tr>\n",
              "    <tr>\n",
              "      <th>87</th>\n",
              "      <td>BaMnO3</td>\n",
              "      <td>a = 5.673 c = 4.71</td>\n",
              "      <td>Hexagonal</td>\n",
              "      <td>[15]</td>\n",
              "    </tr>\n",
              "    <tr>\n",
              "      <th>88</th>\n",
              "      <td>CaMnO3</td>\n",
              "      <td>a = 5.27 b = 5.275 c = 7.464</td>\n",
              "      <td>Orthorhombic perovskite</td>\n",
              "      <td>[15]</td>\n",
              "    </tr>\n",
              "    <tr>\n",
              "      <th>89</th>\n",
              "      <td>SrRuO3</td>\n",
              "      <td>a = 5.53 b = 5.57 c = 7.85</td>\n",
              "      <td>Orthorhombic perovskite</td>\n",
              "      <td>[15]</td>\n",
              "    </tr>\n",
              "    <tr>\n",
              "      <th>90</th>\n",
              "      <td>YAlO3</td>\n",
              "      <td>a = 5.179 b = 5.329 c = 7.37</td>\n",
              "      <td>Orthorhombic perovskite</td>\n",
              "      <td>[15]</td>\n",
              "    </tr>\n",
              "  </tbody>\n",
              "</table>\n",
              "<p>91 rows × 4 columns</p>\n",
              "</div>\n",
              "      <button class=\"colab-df-convert\" onclick=\"convertToInteractive('df-530e8cfd-7dc1-4894-a535-d49add8c77b5')\"\n",
              "              title=\"Convert this dataframe to an interactive table.\"\n",
              "              style=\"display:none;\">\n",
              "        \n",
              "  <svg xmlns=\"http://www.w3.org/2000/svg\" height=\"24px\"viewBox=\"0 0 24 24\"\n",
              "       width=\"24px\">\n",
              "    <path d=\"M0 0h24v24H0V0z\" fill=\"none\"/>\n",
              "    <path d=\"M18.56 5.44l.94 2.06.94-2.06 2.06-.94-2.06-.94-.94-2.06-.94 2.06-2.06.94zm-11 1L8.5 8.5l.94-2.06 2.06-.94-2.06-.94L8.5 2.5l-.94 2.06-2.06.94zm10 10l.94 2.06.94-2.06 2.06-.94-2.06-.94-.94-2.06-.94 2.06-2.06.94z\"/><path d=\"M17.41 7.96l-1.37-1.37c-.4-.4-.92-.59-1.43-.59-.52 0-1.04.2-1.43.59L10.3 9.45l-7.72 7.72c-.78.78-.78 2.05 0 2.83L4 21.41c.39.39.9.59 1.41.59.51 0 1.02-.2 1.41-.59l7.78-7.78 2.81-2.81c.8-.78.8-2.07 0-2.86zM5.41 20L4 18.59l7.72-7.72 1.47 1.35L5.41 20z\"/>\n",
              "  </svg>\n",
              "      </button>\n",
              "      \n",
              "  <style>\n",
              "    .colab-df-container {\n",
              "      display:flex;\n",
              "      flex-wrap:wrap;\n",
              "      gap: 12px;\n",
              "    }\n",
              "\n",
              "    .colab-df-convert {\n",
              "      background-color: #E8F0FE;\n",
              "      border: none;\n",
              "      border-radius: 50%;\n",
              "      cursor: pointer;\n",
              "      display: none;\n",
              "      fill: #1967D2;\n",
              "      height: 32px;\n",
              "      padding: 0 0 0 0;\n",
              "      width: 32px;\n",
              "    }\n",
              "\n",
              "    .colab-df-convert:hover {\n",
              "      background-color: #E2EBFA;\n",
              "      box-shadow: 0px 1px 2px rgba(60, 64, 67, 0.3), 0px 1px 3px 1px rgba(60, 64, 67, 0.15);\n",
              "      fill: #174EA6;\n",
              "    }\n",
              "\n",
              "    [theme=dark] .colab-df-convert {\n",
              "      background-color: #3B4455;\n",
              "      fill: #D2E3FC;\n",
              "    }\n",
              "\n",
              "    [theme=dark] .colab-df-convert:hover {\n",
              "      background-color: #434B5C;\n",
              "      box-shadow: 0px 1px 3px 1px rgba(0, 0, 0, 0.15);\n",
              "      filter: drop-shadow(0px 1px 2px rgba(0, 0, 0, 0.3));\n",
              "      fill: #FFFFFF;\n",
              "    }\n",
              "  </style>\n",
              "\n",
              "      <script>\n",
              "        const buttonEl =\n",
              "          document.querySelector('#df-530e8cfd-7dc1-4894-a535-d49add8c77b5 button.colab-df-convert');\n",
              "        buttonEl.style.display =\n",
              "          google.colab.kernel.accessAllowed ? 'block' : 'none';\n",
              "\n",
              "        async function convertToInteractive(key) {\n",
              "          const element = document.querySelector('#df-530e8cfd-7dc1-4894-a535-d49add8c77b5');\n",
              "          const dataTable =\n",
              "            await google.colab.kernel.invokeFunction('convertToInteractive',\n",
              "                                                     [key], {});\n",
              "          if (!dataTable) return;\n",
              "\n",
              "          const docLinkHtml = 'Like what you see? Visit the ' +\n",
              "            '<a target=\"_blank\" href=https://colab.research.google.com/notebooks/data_table.ipynb>data table notebook</a>'\n",
              "            + ' to learn more about interactive tables.';\n",
              "          element.innerHTML = '';\n",
              "          dataTable['output_type'] = 'display_data';\n",
              "          await google.colab.output.renderOutput(dataTable, element);\n",
              "          const docLink = document.createElement('div');\n",
              "          docLink.innerHTML = docLinkHtml;\n",
              "          element.appendChild(docLink);\n",
              "        }\n",
              "      </script>\n",
              "    </div>\n",
              "  </div>\n",
              "  "
            ]
          },
          "metadata": {},
          "execution_count": 5
        }
      ]
    },
    {
      "cell_type": "code",
      "source": [
        "\n",
        "data = data[\n",
        "    ~data[\"Crystal structure\"].isin(\n",
        "        [\"Hexagonal\", \"Wurtzite\", \"Wurtzite (HCP)\", \"Orthorhombic\", \"Tetragonal perovskite\", \"Orthorhombic perovskite\"]\n",
        "    )\n",
        "]\n",
        "data.rename(columns={\"Lattice constant (Å)\": \"a (Å)\"}, inplace=True)\n",
        "\n",
        "data[\"a (Å)\"] = data[\"a (Å)\"].map(float)\n",
        "\n",
        "\n",
        "additional_fcc = \"\"\"10 Ne 4.43 54 Xe 6.20\n",
        "13 Al 4.05 58 Ce 5.16\n",
        "18 Ar 5.26 70 Yb 5.49\n",
        "20 Ca 5.58 77 Ir 3.84\n",
        "28 Ni 3.52 78 Pt 3.92\n",
        "29 Cu 3.61 79 Au 4.08\n",
        "36 Kr 5.72 82 Pb 4.95\n",
        "38 Sr 6.08 47 Ag 4.09\n",
        "45 Rh 3.80 89 Ac 5.31\n",
        "46 Pd 3.89 90 Th 5.08\"\"\"\n",
        "\n",
        "additional_bcc = \"\"\"3 Li 3.49 42 Mo 3.15\n",
        "11 Na 4.23 55 Cs 6.05\n",
        "19 K 5.23 56 Ba 5.02\n",
        "23 V 3.02 63 Eu 4.61\n",
        "24 Cr 2.88 73 Ta 3.31\n",
        "26 Fe 2.87 74 W 3.16\n",
        "37 Rb 5.59 41 Nb 3.30\"\"\"\n",
        "def add_new(str_, structure_type, df):\n",
        "    tokens = str_.split()\n",
        "    new_crystals = []\n",
        "    for i in range(int(len(tokens) / 3)):\n",
        "        el = tokens[3 * i + 1].strip()\n",
        "        if el not in df[\"Material\"].values:\n",
        "            new_crystals.append([tokens[3 * i + 1], structure_type, float(tokens[3 * i + 2])])\n",
        "    df2 = pd.DataFrame(new_crystals, columns=data.columns)\n",
        "    return pd.concat([df, df2])\n",
        "\n",
        "\n",
        "# data = add_new(additional_fcc, \"FCC\", data)\n",
        "# data = add_new(additional_bcc, \"BCC\", data)\n",
        "# data.set_index(\"Material\", inplace=True)\n",
        "print(data)"
      ],
      "metadata": {
        "colab": {
          "base_uri": "https://localhost:8080/"
        },
        "id": "t_PhIF8EgwLJ",
        "outputId": "d7e23f00-8f75-4b5d-d908-b07bd53bf887"
      },
      "execution_count": 6,
      "outputs": [
        {
          "output_type": "stream",
          "name": "stdout",
          "text": [
            "       Material     a (Å)  Crystal structure    Ref.\n",
            "0   C (diamond)  3.567000      Diamond (FCC)     [7]\n",
            "2            Si  5.431021      Diamond (FCC)  [8][9]\n",
            "3            Ge  5.658000      Diamond (FCC)     [8]\n",
            "4          AlAs  5.660500  Zinc blende (FCC)     [8]\n",
            "5           AlP  5.451000  Zinc blende (FCC)     [8]\n",
            "..          ...       ...                ...     ...\n",
            "79        KTaO3  3.988500   Cubic perovskite    [15]\n",
            "81       SrTiO3  3.988050   Cubic perovskite    [15]\n",
            "84       EuTiO3  7.810000   Cubic perovskite    [15]\n",
            "85        SrVO3  3.838000   Cubic perovskite    [15]\n",
            "86        CaVO3  3.767000   Cubic perovskite    [15]\n",
            "\n",
            "[73 rows x 4 columns]\n"
          ]
        },
        {
          "output_type": "stream",
          "name": "stderr",
          "text": [
            "<ipython-input-6-08c8062c8bd3>:6: SettingWithCopyWarning: \n",
            "A value is trying to be set on a copy of a slice from a DataFrame\n",
            "\n",
            "See the caveats in the documentation: https://pandas.pydata.org/pandas-docs/stable/user_guide/indexing.html#returning-a-view-versus-a-copy\n",
            "  data.rename(columns={\"Lattice constant (Å)\": \"a (Å)\"}, inplace=True)\n",
            "<ipython-input-6-08c8062c8bd3>:8: SettingWithCopyWarning: \n",
            "A value is trying to be set on a copy of a slice from a DataFrame.\n",
            "Try using .loc[row_indexer,col_indexer] = value instead\n",
            "\n",
            "See the caveats in the documentation: https://pandas.pydata.org/pandas-docs/stable/user_guide/indexing.html#returning-a-view-versus-a-copy\n",
            "  data[\"a (Å)\"] = data[\"a (Å)\"].map(float)\n"
          ]
        }
      ]
    },
    {
      "cell_type": "markdown",
      "source": [
        "Setting 5 Angstrom lattice constant to all crystals"
      ],
      "metadata": {
        "id": "FzoHZDPjo7dF"
      }
    },
    {
      "cell_type": "code",
      "source": [
        "MAPI_KEY_LEGACY = '' #Optional, keep your MAPI_LEGACY_KEY here\n",
        "predicted = []\n",
        "mp = []\n",
        "initial_structs = []\n",
        "final_m3gnet_structs = []\n",
        "\n",
        "mpr = MPRester(MAPI_KEY_LEGACY)\n",
        "\n",
        "relaxer = Relaxer()  # This loads the default pre-trained model\n",
        "\n",
        "# warnings.filterwarnings(action=\"ignore\", category=UserWarning, module=\"tensorflow\")\n",
        "currently_m3gnet_failing = ['CsCl','CsI','Fe','Mo','W','V','Nb','Ta','Ne','CaVO3','Xe','Ar','Yb','Kr','Sr','Ac','Li','Na','Cs','K','Ba','Eu','Cr','Rb',\"NC0.99\"]\n",
        "\n",
        "#for formula, v in tqdm(data.iterrows(), total=len(data)):\n",
        "for ii,i in tqdm(data.iterrows(), total=len(data)):\n",
        "  #M3gnet failing so skipping these\n",
        "  formula=i['Material']\n",
        "  if formula not in currently_m3gnet_failing: \n",
        "    formula = formula.split()[0]\n",
        "    c = Composition(formula)\n",
        "    els = sorted(c.elements)\n",
        "    #cs = v[\"Crystal structure\"]\n",
        "    cs = i[\"Crystal structure\"]\n",
        "    wiki = i['a (Å)']\n",
        "    # We initialize all the crystals with an arbitrary lattice constant of 5 angstroms.\n",
        "    if \"Zinc blende\" in cs:\n",
        "        s = Structure.from_spacegroup(\"F-43m\", Lattice.cubic(5), [els[0], els[1]], [[0, 0, 0], [0.25, 0.25, 0.75]])\n",
        "    elif \"Halite\" in cs:\n",
        "        s = Structure.from_spacegroup(\"Fm-3m\", Lattice.cubic(5), [els[0], els[1]], [[0, 0, 0], [0.5, 0, 0]])\n",
        "    elif \"Caesium chloride\" in cs:\n",
        "        s = Structure.from_spacegroup(\"Pm-3m\", Lattice.cubic(5), [els[0], els[1]], [[0, 0, 0], [0.5, 0.5, 0.5]])\n",
        "    elif \"Cubic perovskite\" in cs:\n",
        "        s = Structure(\n",
        "            Lattice.cubic(5),\n",
        "            [els[0], els[1], els[2], els[2], els[2]],\n",
        "            [[0.0, 0.0, 0.0], [0.5, 0.5, 0.5], [0.5, 0.5, 0], [0.0, 0.5, 0.5], [0.5, 0, 0.5]],\n",
        "        )\n",
        "    elif \"Diamond\" in cs:\n",
        "        s = Structure.from_spacegroup(\"Fd-3m\", Lattice.cubic(5), [els[0]], [[0.25, 0.75, 0.25]])\n",
        "    elif \"BCC\" in cs:\n",
        "        s = Structure(Lattice.cubic(5), [els[0]] * 2, [[0.0, 0.0, 0.0], [0.5, 0.5, 0.5]])\n",
        "    elif \"FCC\" in cs:\n",
        "        s = Structure(Lattice.cubic(5), [els[0]] * 4, [[0.0, 0.0, 0.0], [0.5, 0.5, 0], [0.0, 0.5, 0.5], [0.5, 0, 0.5]])\n",
        "    else:\n",
        "        predicted.append(0)\n",
        "        mp.append(0)\n",
        "        continue\n",
        "    print(s)\n",
        "    initial_structs.append(s)\n",
        "    relax_results = relaxer.relax(s)\n",
        "\n",
        "    final_structure = relax_results[\"final_structure\"]\n",
        "    final_m3gnet_structs.append(final_structure)\n",
        "    predicted.append(final_structure.lattice.a)\n",
        "    \n",
        "    #break\n",
        "    try:\n",
        "        mids = mpr.get_entries(s.composition.reduced_formula)\n",
        "        for i in mids:\n",
        "            try:\n",
        "                structure = mpr.get_structure_by_material_id(i.entry_id)\n",
        "                sga = SpacegroupAnalyzer(structure)\n",
        "                sga2 = SpacegroupAnalyzer(final_structure)\n",
        "                if sga.get_space_group_number() == sga2.get_space_group_number():\n",
        "                    conv = sga.get_conventional_standard_structure()\n",
        "                    mp.append(conv.lattice.a)\n",
        "                    break\n",
        "            except Exception:\n",
        "                pass\n",
        "        else:\n",
        "            raise RuntimeError\n",
        "    except Exception:\n",
        "        mp.append(0)\n",
        "        traceback.print_exc()\n",
        "    print('\\nInitial,final,MP,Wiki,formula',5,final_structure.lattice.a,mp[-1],wiki)"
      ],
      "metadata": {
        "colab": {
          "base_uri": "https://localhost:8080/"
        },
        "id": "N3zPiuyihlcA",
        "outputId": "e3161b74-a53c-48c1-f1e2-7c725c5715f7"
      },
      "execution_count": 8,
      "outputs": [
        {
          "output_type": "stream",
          "name": "stderr",
          "text": [
            "\r  0%|          | 0/73 [00:00<?, ?it/s]"
          ]
        },
        {
          "output_type": "stream",
          "name": "stdout",
          "text": [
            "Full Formula (C8)\n",
            "Reduced Formula: C\n",
            "abc   :   5.000000   5.000000   5.000000\n",
            "angles:  90.000000  90.000000  90.000000\n",
            "pbc   :       True       True       True\n",
            "Sites (8)\n",
            "  #  SP       a     b     c\n",
            "---  ----  ----  ----  ----\n",
            "  0  C     0.25  0.25  0.75\n",
            "  1  C     0     0.5   0\n",
            "  2  C     0.75  0.75  0.75\n",
            "  3  C     0.5   0.5   0.5\n",
            "  4  C     0.75  0.25  0.25\n",
            "  5  C     0.5   0     0\n",
            "  6  C     0     0     0.5\n",
            "  7  C     0.25  0.75  0.25\n"
          ]
        },
        {
          "output_type": "stream",
          "name": "stderr",
          "text": [
            "WARNING:tensorflow:You are casting an input of type complex64 to an incompatible dtype float32.  This will discard the imaginary part and may not be what you intended.\n",
            "WARNING:tensorflow:You are casting an input of type complex64 to an incompatible dtype float32.  This will discard the imaginary part and may not be what you intended.\n",
            "WARNING:tensorflow:You are casting an input of type complex64 to an incompatible dtype float32.  This will discard the imaginary part and may not be what you intended.\n",
            "WARNING:tensorflow:You are casting an input of type complex64 to an incompatible dtype float32.  This will discard the imaginary part and may not be what you intended.\n",
            "WARNING:tensorflow:You are casting an input of type complex64 to an incompatible dtype float32.  This will discard the imaginary part and may not be what you intended.\n",
            "  1%|▏         | 1/73 [00:40<49:02, 40.86s/it]"
          ]
        },
        {
          "output_type": "stream",
          "name": "stdout",
          "text": [
            "\n",
            "Initial,final,MP,Wiki,formula 5 3.571803997775669 3.57371 3.567\n",
            "Full Formula (Si8)\n",
            "Reduced Formula: Si\n",
            "abc   :   5.000000   5.000000   5.000000\n",
            "angles:  90.000000  90.000000  90.000000\n",
            "pbc   :       True       True       True\n",
            "Sites (8)\n",
            "  #  SP       a     b     c\n",
            "---  ----  ----  ----  ----\n",
            "  0  Si    0.25  0.25  0.75\n",
            "  1  Si    0     0.5   0\n",
            "  2  Si    0.75  0.75  0.75\n",
            "  3  Si    0.5   0.5   0.5\n",
            "  4  Si    0.75  0.25  0.25\n",
            "  5  Si    0.5   0     0\n",
            "  6  Si    0     0     0.5\n",
            "  7  Si    0.25  0.75  0.25\n"
          ]
        },
        {
          "output_type": "stream",
          "name": "stderr",
          "text": [
            "\r  3%|▎         | 2/73 [00:42<20:52, 17.64s/it]"
          ]
        },
        {
          "output_type": "stream",
          "name": "stdout",
          "text": [
            "\n",
            "Initial,final,MP,Wiki,formula 5 5.45002327723551 5.468728 5.431020511\n",
            "Full Formula (Ge8)\n",
            "Reduced Formula: Ge\n",
            "abc   :   5.000000   5.000000   5.000000\n",
            "angles:  90.000000  90.000000  90.000000\n",
            "pbc   :       True       True       True\n",
            "Sites (8)\n",
            "  #  SP       a     b     c\n",
            "---  ----  ----  ----  ----\n",
            "  0  Ge    0.25  0.25  0.75\n",
            "  1  Ge    0     0.5   0\n",
            "  2  Ge    0.75  0.75  0.75\n",
            "  3  Ge    0.5   0.5   0.5\n",
            "  4  Ge    0.75  0.25  0.25\n",
            "  5  Ge    0.5   0     0\n",
            "  6  Ge    0     0     0.5\n",
            "  7  Ge    0.25  0.75  0.25\n"
          ]
        },
        {
          "output_type": "stream",
          "name": "stderr",
          "text": [
            "\r  4%|▍         | 3/73 [00:45<12:55, 11.07s/it]"
          ]
        },
        {
          "output_type": "stream",
          "name": "stdout",
          "text": [
            "\n",
            "Initial,final,MP,Wiki,formula 5 5.769802982592203 5.762862000000001 5.658\n",
            "Full Formula (Al4 As4)\n",
            "Reduced Formula: AlAs\n",
            "abc   :   5.000000   5.000000   5.000000\n",
            "angles:  90.000000  90.000000  90.000000\n",
            "pbc   :       True       True       True\n",
            "Sites (8)\n",
            "  #  SP       a     b     c\n",
            "---  ----  ----  ----  ----\n",
            "  0  Al    0     0.5   0.5\n",
            "  1  Al    0     0     0\n",
            "  2  Al    0.5   0     0.5\n",
            "  3  Al    0.5   0.5   0\n",
            "  4  As    0.75  0.25  0.25\n",
            "  5  As    0.75  0.75  0.75\n",
            "  6  As    0.25  0.75  0.25\n",
            "  7  As    0.25  0.25  0.75\n"
          ]
        },
        {
          "output_type": "stream",
          "name": "stderr",
          "text": [
            "\r  5%|▌         | 4/73 [00:49<09:22,  8.15s/it]"
          ]
        },
        {
          "output_type": "stream",
          "name": "stdout",
          "text": [
            "\n",
            "Initial,final,MP,Wiki,formula 5 5.730270761810453 5.733756 5.6605\n",
            "Full Formula (Al4 P4)\n",
            "Reduced Formula: AlP\n",
            "abc   :   5.000000   5.000000   5.000000\n",
            "angles:  90.000000  90.000000  90.000000\n",
            "pbc   :       True       True       True\n",
            "Sites (8)\n",
            "  #  SP       a     b     c\n",
            "---  ----  ----  ----  ----\n",
            "  0  Al    0     0.5   0.5\n",
            "  1  Al    0     0     0\n",
            "  2  Al    0.5   0     0.5\n",
            "  3  Al    0.5   0.5   0\n",
            "  4  P     0.75  0.25  0.25\n",
            "  5  P     0.75  0.75  0.75\n",
            "  6  P     0.25  0.75  0.25\n",
            "  7  P     0.25  0.25  0.75\n"
          ]
        },
        {
          "output_type": "stream",
          "name": "stderr",
          "text": [
            "\r  7%|▋         | 5/73 [00:51<06:43,  5.93s/it]"
          ]
        },
        {
          "output_type": "stream",
          "name": "stdout",
          "text": [
            "\n",
            "Initial,final,MP,Wiki,formula 5 5.503461970083801 5.507112 5.451\n",
            "Full Formula (Al4 Sb4)\n",
            "Reduced Formula: AlSb\n",
            "abc   :   5.000000   5.000000   5.000000\n",
            "angles:  90.000000  90.000000  90.000000\n",
            "pbc   :       True       True       True\n",
            "Sites (8)\n",
            "  #  SP       a     b     c\n",
            "---  ----  ----  ----  ----\n",
            "  0  Al    0     0.5   0.5\n",
            "  1  Al    0     0     0\n",
            "  2  Al    0.5   0     0.5\n",
            "  3  Al    0.5   0.5   0\n",
            "  4  Sb    0.75  0.25  0.25\n",
            "  5  Sb    0.75  0.75  0.75\n",
            "  6  Sb    0.25  0.75  0.25\n",
            "  7  Sb    0.25  0.25  0.75\n"
          ]
        },
        {
          "output_type": "stream",
          "name": "stderr",
          "text": [
            "\r  8%|▊         | 6/73 [00:53<05:04,  4.54s/it]"
          ]
        },
        {
          "output_type": "stream",
          "name": "stdout",
          "text": [
            "\n",
            "Initial,final,MP,Wiki,formula 5 6.228167894877029 6.23376 6.1355\n",
            "Full Formula (Ga4 P4)\n",
            "Reduced Formula: GaP\n",
            "abc   :   5.000000   5.000000   5.000000\n",
            "angles:  90.000000  90.000000  90.000000\n",
            "pbc   :       True       True       True\n",
            "Sites (8)\n",
            "  #  SP       a     b     c\n",
            "---  ----  ----  ----  ----\n",
            "  0  Ga    0     0.5   0.5\n",
            "  1  Ga    0     0     0\n",
            "  2  Ga    0.5   0     0.5\n",
            "  3  Ga    0.5   0.5   0\n",
            "  4  P     0.75  0.25  0.25\n",
            "  5  P     0.75  0.75  0.75\n",
            "  6  P     0.25  0.75  0.25\n",
            "  7  P     0.25  0.25  0.75\n"
          ]
        },
        {
          "output_type": "stream",
          "name": "stderr",
          "text": [
            "\r 10%|▉         | 7/73 [00:54<03:46,  3.43s/it]"
          ]
        },
        {
          "output_type": "stream",
          "name": "stdout",
          "text": [
            "\n",
            "Initial,final,MP,Wiki,formula 5 5.505396014380757 5.5063 5.4505\n",
            "Full Formula (Ga4 As4)\n",
            "Reduced Formula: GaAs\n",
            "abc   :   5.000000   5.000000   5.000000\n",
            "angles:  90.000000  90.000000  90.000000\n",
            "pbc   :       True       True       True\n",
            "Sites (8)\n",
            "  #  SP       a     b     c\n",
            "---  ----  ----  ----  ----\n",
            "  0  Ga    0     0.5   0.5\n",
            "  1  Ga    0     0     0\n",
            "  2  Ga    0.5   0     0.5\n",
            "  3  Ga    0.5   0.5   0\n",
            "  4  As    0.75  0.25  0.25\n",
            "  5  As    0.75  0.75  0.75\n",
            "  6  As    0.25  0.75  0.25\n",
            "  7  As    0.25  0.25  0.75\n"
          ]
        },
        {
          "output_type": "stream",
          "name": "stderr",
          "text": [
            "\r 11%|█         | 8/73 [00:56<03:20,  3.08s/it]"
          ]
        },
        {
          "output_type": "stream",
          "name": "stdout",
          "text": [
            "\n",
            "Initial,final,MP,Wiki,formula 5 5.7505482503376175 5.750182 5.653\n",
            "Full Formula (Ga4 Sb4)\n",
            "Reduced Formula: GaSb\n",
            "abc   :   5.000000   5.000000   5.000000\n",
            "angles:  90.000000  90.000000  90.000000\n",
            "pbc   :       True       True       True\n",
            "Sites (8)\n",
            "  #  SP       a     b     c\n",
            "---  ----  ----  ----  ----\n",
            "  0  Ga    0     0.5   0.5\n",
            "  1  Ga    0     0     0\n",
            "  2  Ga    0.5   0     0.5\n",
            "  3  Ga    0.5   0.5   0\n",
            "  4  Sb    0.75  0.25  0.25\n",
            "  5  Sb    0.75  0.75  0.75\n",
            "  6  Sb    0.25  0.75  0.25\n",
            "  7  Sb    0.25  0.25  0.75\n"
          ]
        },
        {
          "output_type": "stream",
          "name": "stderr",
          "text": [
            "\r 12%|█▏        | 9/73 [00:57<02:43,  2.55s/it]"
          ]
        },
        {
          "output_type": "stream",
          "name": "stdout",
          "text": [
            "\n",
            "Initial,final,MP,Wiki,formula 5 6.219385795591086 6.219062 6.0959\n",
            "Full Formula (In4 P4)\n",
            "Reduced Formula: InP\n",
            "abc   :   5.000000   5.000000   5.000000\n",
            "angles:  90.000000  90.000000  90.000000\n",
            "pbc   :       True       True       True\n",
            "Sites (8)\n",
            "  #  SP       a     b     c\n",
            "---  ----  ----  ----  ----\n",
            "  0  In    0     0.5   0.5\n",
            "  1  In    0     0     0\n",
            "  2  In    0.5   0     0.5\n",
            "  3  In    0.5   0.5   0\n",
            "  4  P     0.75  0.25  0.25\n",
            "  5  P     0.75  0.75  0.75\n",
            "  6  P     0.25  0.75  0.25\n",
            "  7  P     0.25  0.25  0.75\n"
          ]
        },
        {
          "output_type": "stream",
          "name": "stderr",
          "text": [
            "\r 14%|█▎        | 10/73 [01:02<03:15,  3.10s/it]"
          ]
        },
        {
          "output_type": "stream",
          "name": "stdout",
          "text": [
            "\n",
            "Initial,final,MP,Wiki,formula 5 5.967897213583585 5.956726 5.869\n",
            "Full Formula (In4 As4)\n",
            "Reduced Formula: InAs\n",
            "abc   :   5.000000   5.000000   5.000000\n",
            "angles:  90.000000  90.000000  90.000000\n",
            "pbc   :       True       True       True\n",
            "Sites (8)\n",
            "  #  SP       a     b     c\n",
            "---  ----  ----  ----  ----\n",
            "  0  In    0     0.5   0.5\n",
            "  1  In    0     0     0\n",
            "  2  In    0.5   0     0.5\n",
            "  3  In    0.5   0.5   0\n",
            "  4  As    0.75  0.25  0.25\n",
            "  5  As    0.75  0.75  0.75\n",
            "  6  As    0.25  0.75  0.25\n",
            "  7  As    0.25  0.25  0.75\n"
          ]
        },
        {
          "output_type": "stream",
          "name": "stderr",
          "text": [
            "\r 15%|█▌        | 11/73 [01:03<02:39,  2.58s/it]"
          ]
        },
        {
          "output_type": "stream",
          "name": "stdout",
          "text": [
            "\n",
            "Initial,final,MP,Wiki,formula 5 6.253744938541253 6.181478000000001 6.0583\n",
            "Full Formula (In4 Sb4)\n",
            "Reduced Formula: InSb\n",
            "abc   :   5.000000   5.000000   5.000000\n",
            "angles:  90.000000  90.000000  90.000000\n",
            "pbc   :       True       True       True\n",
            "Sites (8)\n",
            "  #  SP       a     b     c\n",
            "---  ----  ----  ----  ----\n",
            "  0  In    0     0.5   0.5\n",
            "  1  In    0     0     0\n",
            "  2  In    0.5   0     0.5\n",
            "  3  In    0.5   0.5   0\n",
            "  4  Sb    0.75  0.25  0.25\n",
            "  5  Sb    0.75  0.75  0.75\n",
            "  6  Sb    0.25  0.75  0.25\n",
            "  7  Sb    0.25  0.25  0.75\n"
          ]
        },
        {
          "output_type": "stream",
          "name": "stderr",
          "text": [
            "\r 16%|█▋        | 12/73 [01:06<02:39,  2.61s/it]"
          ]
        },
        {
          "output_type": "stream",
          "name": "stdout",
          "text": [
            "\n",
            "Initial,final,MP,Wiki,formula 5 6.638631479005531 6.633222 6.479\n",
            "Full Formula (Mg4 O4)\n",
            "Reduced Formula: MgO\n",
            "abc   :   5.000000   5.000000   5.000000\n",
            "angles:  90.000000  90.000000  90.000000\n",
            "pbc   :       True       True       True\n",
            "Sites (8)\n",
            "  #  SP      a    b    c\n",
            "---  ----  ---  ---  ---\n",
            "  0  Mg    0    0    0\n",
            "  1  Mg    0.5  0.5  0\n",
            "  2  Mg    0.5  0    0.5\n",
            "  3  Mg    0    0.5  0.5\n",
            "  4  O     0.5  0    0\n",
            "  5  O     0    0.5  0\n",
            "  6  O     0    0    0.5\n",
            "  7  O     0.5  0.5  0.5\n"
          ]
        },
        {
          "output_type": "stream",
          "name": "stderr",
          "text": [
            "\r 18%|█▊        | 13/73 [01:08<02:30,  2.51s/it]"
          ]
        },
        {
          "output_type": "stream",
          "name": "stdout",
          "text": [
            "\n",
            "Initial,final,MP,Wiki,formula 5 4.256703274295381 4.256484 4.212\n",
            "Full Formula (Cd4 S4)\n",
            "Reduced Formula: CdS\n",
            "abc   :   5.000000   5.000000   5.000000\n",
            "angles:  90.000000  90.000000  90.000000\n",
            "pbc   :       True       True       True\n",
            "Sites (8)\n",
            "  #  SP       a     b     c\n",
            "---  ----  ----  ----  ----\n",
            "  0  Cd    0     0.5   0.5\n",
            "  1  Cd    0     0     0\n",
            "  2  Cd    0.5   0     0.5\n",
            "  3  Cd    0.5   0.5   0\n",
            "  4  S     0.75  0.25  0.25\n",
            "  5  S     0.75  0.75  0.75\n",
            "  6  S     0.25  0.75  0.25\n",
            "  7  S     0.25  0.25  0.75\n"
          ]
        },
        {
          "output_type": "stream",
          "name": "stderr",
          "text": [
            "\r 19%|█▉        | 14/73 [01:10<02:24,  2.46s/it]"
          ]
        },
        {
          "output_type": "stream",
          "name": "stdout",
          "text": [
            "\n",
            "Initial,final,MP,Wiki,formula 5 5.941901536953188 5.940834 5.832\n",
            "Full Formula (Cd4 Se4)\n",
            "Reduced Formula: CdSe\n",
            "abc   :   5.000000   5.000000   5.000000\n",
            "angles:  90.000000  90.000000  90.000000\n",
            "pbc   :       True       True       True\n",
            "Sites (8)\n",
            "  #  SP       a     b     c\n",
            "---  ----  ----  ----  ----\n",
            "  0  Cd    0     0.5   0.5\n",
            "  1  Cd    0     0     0\n",
            "  2  Cd    0.5   0     0.5\n",
            "  3  Cd    0.5   0.5   0\n",
            "  4  Se    0.75  0.25  0.25\n",
            "  5  Se    0.75  0.75  0.75\n",
            "  6  Se    0.25  0.75  0.25\n",
            "  7  Se    0.25  0.25  0.75\n"
          ]
        },
        {
          "output_type": "stream",
          "name": "stderr",
          "text": [
            "\r 21%|██        | 15/73 [01:12<02:06,  2.18s/it]"
          ]
        },
        {
          "output_type": "stream",
          "name": "stdout",
          "text": [
            "\n",
            "Initial,final,MP,Wiki,formula 5 6.209868382080451 6.212834 6.05\n",
            "Full Formula (Cd4 Te4)\n",
            "Reduced Formula: CdTe\n",
            "abc   :   5.000000   5.000000   5.000000\n",
            "angles:  90.000000  90.000000  90.000000\n",
            "pbc   :       True       True       True\n",
            "Sites (8)\n",
            "  #  SP       a     b     c\n",
            "---  ----  ----  ----  ----\n",
            "  0  Cd    0     0.5   0.5\n",
            "  1  Cd    0     0     0\n",
            "  2  Cd    0.5   0     0.5\n",
            "  3  Cd    0.5   0.5   0\n",
            "  4  Te    0.75  0.25  0.25\n",
            "  5  Te    0.75  0.75  0.75\n",
            "  6  Te    0.25  0.75  0.25\n",
            "  7  Te    0.25  0.25  0.75\n"
          ]
        },
        {
          "output_type": "stream",
          "name": "stderr",
          "text": [
            "\r 22%|██▏       | 16/73 [01:14<01:56,  2.04s/it]"
          ]
        },
        {
          "output_type": "stream",
          "name": "stdout",
          "text": [
            "\n",
            "Initial,final,MP,Wiki,formula 5 6.6261927211092875 6.629048 6.482\n",
            "Full Formula (Zn4 O4)\n",
            "Reduced Formula: ZnO\n",
            "abc   :   5.000000   5.000000   5.000000\n",
            "angles:  90.000000  90.000000  90.000000\n",
            "pbc   :       True       True       True\n",
            "Sites (8)\n",
            "  #  SP      a    b    c\n",
            "---  ----  ---  ---  ---\n",
            "  0  Zn    0    0    0\n",
            "  1  Zn    0.5  0.5  0\n",
            "  2  Zn    0.5  0    0.5\n",
            "  3  Zn    0    0.5  0.5\n",
            "  4  O     0.5  0    0\n",
            "  5  O     0    0.5  0\n",
            "  6  O     0    0    0.5\n",
            "  7  O     0.5  0.5  0.5\n"
          ]
        },
        {
          "output_type": "stream",
          "name": "stderr",
          "text": [
            "\r 23%|██▎       | 17/73 [01:19<02:47,  2.99s/it]"
          ]
        },
        {
          "output_type": "stream",
          "name": "stdout",
          "text": [
            "\n",
            "Initial,final,MP,Wiki,formula 5 4.334244647052204 4.338884 4.58\n",
            "Full Formula (Zn4 S4)\n",
            "Reduced Formula: ZnS\n",
            "abc   :   5.000000   5.000000   5.000000\n",
            "angles:  90.000000  90.000000  90.000000\n",
            "pbc   :       True       True       True\n",
            "Sites (8)\n",
            "  #  SP       a     b     c\n",
            "---  ----  ----  ----  ----\n",
            "  0  Zn    0     0.5   0.5\n",
            "  1  Zn    0     0     0\n",
            "  2  Zn    0.5   0     0.5\n",
            "  3  Zn    0.5   0.5   0\n",
            "  4  S     0.75  0.25  0.25\n",
            "  5  S     0.75  0.75  0.75\n",
            "  6  S     0.25  0.75  0.25\n",
            "  7  S     0.25  0.25  0.75\n"
          ]
        },
        {
          "output_type": "stream",
          "name": "stderr",
          "text": [
            "\r 25%|██▍       | 18/73 [01:26<03:48,  4.15s/it]"
          ]
        },
        {
          "output_type": "stream",
          "name": "stdout",
          "text": [
            "\n",
            "Initial,final,MP,Wiki,formula 5 5.4529728687006935 5.45027 5.42\n",
            "Full Formula (Pb4 S4)\n",
            "Reduced Formula: PbS\n",
            "abc   :   5.000000   5.000000   5.000000\n",
            "angles:  90.000000  90.000000  90.000000\n",
            "pbc   :       True       True       True\n",
            "Sites (8)\n",
            "  #  SP      a    b    c\n",
            "---  ----  ---  ---  ---\n",
            "  0  Pb    0    0    0\n",
            "  1  Pb    0.5  0.5  0\n",
            "  2  Pb    0.5  0    0.5\n",
            "  3  Pb    0    0.5  0.5\n",
            "  4  S     0.5  0    0\n",
            "  5  S     0    0.5  0\n",
            "  6  S     0    0    0.5\n",
            "  7  S     0.5  0.5  0.5\n"
          ]
        },
        {
          "output_type": "stream",
          "name": "stderr",
          "text": [
            "\r 26%|██▌       | 19/73 [01:29<03:28,  3.85s/it]"
          ]
        },
        {
          "output_type": "stream",
          "name": "stdout",
          "text": [
            "\n",
            "Initial,final,MP,Wiki,formula 5 6.01751777070398 6.006446 5.9362\n",
            "Full Formula (Te4 Pb4)\n",
            "Reduced Formula: TePb\n",
            "abc   :   5.000000   5.000000   5.000000\n",
            "angles:  90.000000  90.000000  90.000000\n",
            "pbc   :       True       True       True\n",
            "Sites (8)\n",
            "  #  SP      a    b    c\n",
            "---  ----  ---  ---  ---\n",
            "  0  Te    0    0    0\n",
            "  1  Te    0.5  0.5  0\n",
            "  2  Te    0.5  0    0.5\n",
            "  3  Te    0    0.5  0.5\n",
            "  4  Pb    0.5  0    0\n",
            "  5  Pb    0    0.5  0\n",
            "  6  Pb    0    0    0.5\n",
            "  7  Pb    0.5  0.5  0.5\n"
          ]
        },
        {
          "output_type": "stream",
          "name": "stderr",
          "text": [
            "\r 27%|██▋       | 20/73 [01:33<03:34,  4.05s/it]"
          ]
        },
        {
          "output_type": "stream",
          "name": "stdout",
          "text": [
            "\n",
            "Initial,final,MP,Wiki,formula 5 6.561105351377474 6.565673999999999 6.462\n",
            "Full Formula (B4 N4)\n",
            "Reduced Formula: BN\n",
            "abc   :   5.000000   5.000000   5.000000\n",
            "angles:  90.000000  90.000000  90.000000\n",
            "pbc   :       True       True       True\n",
            "Sites (8)\n",
            "  #  SP       a     b     c\n",
            "---  ----  ----  ----  ----\n",
            "  0  B     0     0.5   0.5\n",
            "  1  B     0     0     0\n",
            "  2  B     0.5   0     0.5\n",
            "  3  B     0.5   0.5   0\n",
            "  4  N     0.75  0.25  0.25\n",
            "  5  N     0.75  0.75  0.75\n",
            "  6  N     0.25  0.75  0.25\n",
            "  7  N     0.25  0.25  0.75\n"
          ]
        },
        {
          "output_type": "stream",
          "name": "stderr",
          "text": [
            "\r 29%|██▉       | 21/73 [01:38<03:47,  4.37s/it]"
          ]
        },
        {
          "output_type": "stream",
          "name": "stdout",
          "text": [
            "\n",
            "Initial,final,MP,Wiki,formula 5 3.624853027925694 3.626002 3.615\n",
            "Full Formula (B4 P4)\n",
            "Reduced Formula: BP\n",
            "abc   :   5.000000   5.000000   5.000000\n",
            "angles:  90.000000  90.000000  90.000000\n",
            "pbc   :       True       True       True\n",
            "Sites (8)\n",
            "  #  SP       a     b     c\n",
            "---  ----  ----  ----  ----\n",
            "  0  B     0     0.5   0.5\n",
            "  1  B     0     0     0\n",
            "  2  B     0.5   0     0.5\n",
            "  3  B     0.5   0.5   0\n",
            "  4  P     0.75  0.25  0.25\n",
            "  5  P     0.75  0.75  0.75\n",
            "  6  P     0.25  0.75  0.25\n",
            "  7  P     0.25  0.25  0.75\n"
          ]
        },
        {
          "output_type": "stream",
          "name": "stderr",
          "text": [
            "\r 30%|███       | 22/73 [01:39<02:50,  3.34s/it]"
          ]
        },
        {
          "output_type": "stream",
          "name": "stdout",
          "text": [
            "\n",
            "Initial,final,MP,Wiki,formula 5 4.5471111766892465 4.546816 4.538\n",
            "Full Formula (Li4 F4)\n",
            "Reduced Formula: LiF\n",
            "abc   :   5.000000   5.000000   5.000000\n",
            "angles:  90.000000  90.000000  90.000000\n",
            "pbc   :       True       True       True\n",
            "Sites (8)\n",
            "  #  SP      a    b    c\n",
            "---  ----  ---  ---  ---\n",
            "  0  Li    0    0    0\n",
            "  1  Li    0.5  0.5  0\n",
            "  2  Li    0.5  0    0.5\n",
            "  3  Li    0    0.5  0.5\n",
            "  4  F     0.5  0    0\n",
            "  5  F     0    0.5  0\n",
            "  6  F     0    0    0.5\n",
            "  7  F     0.5  0.5  0.5\n"
          ]
        },
        {
          "output_type": "stream",
          "name": "stderr",
          "text": [
            "\r 32%|███▏      | 23/73 [01:42<02:40,  3.21s/it]"
          ]
        },
        {
          "output_type": "stream",
          "name": "stdout",
          "text": [
            "\n",
            "Initial,final,MP,Wiki,formula 5 4.085314580651888 4.083428 4.03\n",
            "Full Formula (Li4 Cl4)\n",
            "Reduced Formula: LiCl\n",
            "abc   :   5.000000   5.000000   5.000000\n",
            "angles:  90.000000  90.000000  90.000000\n",
            "pbc   :       True       True       True\n",
            "Sites (8)\n",
            "  #  SP      a    b    c\n",
            "---  ----  ---  ---  ---\n",
            "  0  Li    0    0    0\n",
            "  1  Li    0.5  0.5  0\n",
            "  2  Li    0.5  0    0.5\n",
            "  3  Li    0    0.5  0.5\n",
            "  4  Cl    0.5  0    0\n",
            "  5  Cl    0    0.5  0\n",
            "  6  Cl    0    0    0.5\n",
            "  7  Cl    0.5  0.5  0.5\n"
          ]
        },
        {
          "output_type": "stream",
          "name": "stderr",
          "text": [
            "\r 33%|███▎      | 24/73 [01:44<02:10,  2.65s/it]"
          ]
        },
        {
          "output_type": "stream",
          "name": "stdout",
          "text": [
            "\n",
            "Initial,final,MP,Wiki,formula 5 5.147454490985803 5.152748 5.14\n",
            "Full Formula (Li4 Br4)\n",
            "Reduced Formula: LiBr\n",
            "abc   :   5.000000   5.000000   5.000000\n",
            "angles:  90.000000  90.000000  90.000000\n",
            "pbc   :       True       True       True\n",
            "Sites (8)\n",
            "  #  SP      a    b    c\n",
            "---  ----  ---  ---  ---\n",
            "  0  Li    0    0    0\n",
            "  1  Li    0.5  0.5  0\n",
            "  2  Li    0.5  0    0.5\n",
            "  3  Li    0    0.5  0.5\n",
            "  4  Br    0.5  0    0\n",
            "  5  Br    0    0.5  0\n",
            "  6  Br    0    0    0.5\n",
            "  7  Br    0.5  0.5  0.5\n"
          ]
        },
        {
          "output_type": "stream",
          "name": "stderr",
          "text": [
            "\r 34%|███▍      | 25/73 [01:45<01:46,  2.22s/it]"
          ]
        },
        {
          "output_type": "stream",
          "name": "stdout",
          "text": [
            "\n",
            "Initial,final,MP,Wiki,formula 5 5.510762512578005 5.513428 5.5\n",
            "Full Formula (Li4 I4)\n",
            "Reduced Formula: LiI\n",
            "abc   :   5.000000   5.000000   5.000000\n",
            "angles:  90.000000  90.000000  90.000000\n",
            "pbc   :       True       True       True\n",
            "Sites (8)\n",
            "  #  SP      a    b    c\n",
            "---  ----  ---  ---  ---\n",
            "  0  Li    0    0    0\n",
            "  1  Li    0.5  0.5  0\n",
            "  2  Li    0.5  0    0.5\n",
            "  3  Li    0    0.5  0.5\n",
            "  4  I     0.5  0    0\n",
            "  5  I     0    0.5  0\n",
            "  6  I     0    0    0.5\n",
            "  7  I     0.5  0.5  0.5\n"
          ]
        },
        {
          "output_type": "stream",
          "name": "stderr",
          "text": [
            "\r 36%|███▌      | 26/73 [01:46<01:34,  2.00s/it]"
          ]
        },
        {
          "output_type": "stream",
          "name": "stdout",
          "text": [
            "\n",
            "Initial,final,MP,Wiki,formula 5 6.027091839741092 6.0257 6.01\n",
            "Full Formula (Na4 F4)\n",
            "Reduced Formula: NaF\n",
            "abc   :   5.000000   5.000000   5.000000\n",
            "angles:  90.000000  90.000000  90.000000\n",
            "pbc   :       True       True       True\n",
            "Sites (8)\n",
            "  #  SP      a    b    c\n",
            "---  ----  ---  ---  ---\n",
            "  0  Na    0    0    0\n",
            "  1  Na    0.5  0.5  0\n",
            "  2  Na    0.5  0    0.5\n",
            "  3  Na    0    0.5  0.5\n",
            "  4  F     0.5  0    0\n",
            "  5  F     0    0.5  0\n",
            "  6  F     0    0    0.5\n",
            "  7  F     0.5  0.5  0.5\n"
          ]
        },
        {
          "output_type": "stream",
          "name": "stderr",
          "text": [
            "\r 37%|███▋      | 27/73 [01:48<01:23,  1.82s/it]"
          ]
        },
        {
          "output_type": "stream",
          "name": "stdout",
          "text": [
            "\n",
            "Initial,final,MP,Wiki,formula 5 4.695526818209491 4.696246 4.63\n",
            "Full Formula (Na4 Cl4)\n",
            "Reduced Formula: NaCl\n",
            "abc   :   5.000000   5.000000   5.000000\n",
            "angles:  90.000000  90.000000  90.000000\n",
            "pbc   :       True       True       True\n",
            "Sites (8)\n",
            "  #  SP      a    b    c\n",
            "---  ----  ---  ---  ---\n",
            "  0  Na    0    0    0\n",
            "  1  Na    0.5  0.5  0\n",
            "  2  Na    0.5  0    0.5\n",
            "  3  Na    0    0.5  0.5\n",
            "  4  Cl    0.5  0    0\n",
            "  5  Cl    0    0.5  0\n",
            "  6  Cl    0    0    0.5\n",
            "  7  Cl    0.5  0.5  0.5\n"
          ]
        },
        {
          "output_type": "stream",
          "name": "stderr",
          "text": [
            "\r 38%|███▊      | 28/73 [01:51<01:34,  2.11s/it]"
          ]
        },
        {
          "output_type": "stream",
          "name": "stdout",
          "text": [
            "\n",
            "Initial,final,MP,Wiki,formula 5 5.694970989575293 5.691694000000001 5.64\n",
            "Full Formula (Na4 Br4)\n",
            "Reduced Formula: NaBr\n",
            "abc   :   5.000000   5.000000   5.000000\n",
            "angles:  90.000000  90.000000  90.000000\n",
            "pbc   :       True       True       True\n",
            "Sites (8)\n",
            "  #  SP      a    b    c\n",
            "---  ----  ---  ---  ---\n",
            "  0  Na    0    0    0\n",
            "  1  Na    0.5  0.5  0\n",
            "  2  Na    0.5  0    0.5\n",
            "  3  Na    0    0.5  0.5\n",
            "  4  Br    0.5  0    0\n",
            "  5  Br    0    0.5  0\n",
            "  6  Br    0    0    0.5\n",
            "  7  Br    0.5  0.5  0.5\n"
          ]
        },
        {
          "output_type": "stream",
          "name": "stderr",
          "text": [
            "\r 40%|███▉      | 29/73 [01:52<01:24,  1.91s/it]"
          ]
        },
        {
          "output_type": "stream",
          "name": "stdout",
          "text": [
            "\n",
            "Initial,final,MP,Wiki,formula 5 6.019218124468977 6.027596 5.97\n",
            "Full Formula (Na4 I4)\n",
            "Reduced Formula: NaI\n",
            "abc   :   5.000000   5.000000   5.000000\n",
            "angles:  90.000000  90.000000  90.000000\n",
            "pbc   :       True       True       True\n",
            "Sites (8)\n",
            "  #  SP      a    b    c\n",
            "---  ----  ---  ---  ---\n",
            "  0  Na    0    0    0\n",
            "  1  Na    0.5  0.5  0\n",
            "  2  Na    0.5  0    0.5\n",
            "  3  Na    0    0.5  0.5\n",
            "  4  I     0.5  0    0\n",
            "  5  I     0    0.5  0\n",
            "  6  I     0    0    0.5\n",
            "  7  I     0.5  0.5  0.5\n"
          ]
        },
        {
          "output_type": "stream",
          "name": "stderr",
          "text": [
            "\r 41%|████      | 30/73 [01:54<01:17,  1.80s/it]"
          ]
        },
        {
          "output_type": "stream",
          "name": "stdout",
          "text": [
            "\n",
            "Initial,final,MP,Wiki,formula 5 6.5273948454446185 6.531996 6.47\n",
            "Full Formula (K4 F4)\n",
            "Reduced Formula: KF\n",
            "abc   :   5.000000   5.000000   5.000000\n",
            "angles:  90.000000  90.000000  90.000000\n",
            "pbc   :       True       True       True\n",
            "Sites (8)\n",
            "  #  SP      a    b    c\n",
            "---  ----  ---  ---  ---\n",
            "  0  K     0    0    0\n",
            "  1  K     0.5  0.5  0\n",
            "  2  K     0.5  0    0.5\n",
            "  3  K     0    0.5  0.5\n",
            "  4  F     0.5  0    0\n",
            "  5  F     0    0.5  0\n",
            "  6  F     0    0    0.5\n",
            "  7  F     0.5  0.5  0.5\n"
          ]
        },
        {
          "output_type": "stream",
          "name": "stderr",
          "text": [
            "\r 42%|████▏     | 31/73 [01:55<01:16,  1.81s/it]"
          ]
        },
        {
          "output_type": "stream",
          "name": "stdout",
          "text": [
            "\n",
            "Initial,final,MP,Wiki,formula 5 5.419713527960353 5.423984 5.34\n",
            "Full Formula (K4 Cl4)\n",
            "Reduced Formula: KCl\n",
            "abc   :   5.000000   5.000000   5.000000\n",
            "angles:  90.000000  90.000000  90.000000\n",
            "pbc   :       True       True       True\n",
            "Sites (8)\n",
            "  #  SP      a    b    c\n",
            "---  ----  ---  ---  ---\n",
            "  0  K     0    0    0\n",
            "  1  K     0.5  0.5  0\n",
            "  2  K     0.5  0    0.5\n",
            "  3  K     0    0.5  0.5\n",
            "  4  Cl    0.5  0    0\n",
            "  5  Cl    0    0.5  0\n",
            "  6  Cl    0    0    0.5\n",
            "  7  Cl    0.5  0.5  0.5\n"
          ]
        },
        {
          "output_type": "stream",
          "name": "stderr",
          "text": [
            "\r 44%|████▍     | 32/73 [01:58<01:24,  2.06s/it]"
          ]
        },
        {
          "output_type": "stream",
          "name": "stdout",
          "text": [
            "\n",
            "Initial,final,MP,Wiki,formula 5 6.396342044990275 6.383592 6.29\n",
            "Full Formula (K4 Br4)\n",
            "Reduced Formula: KBr\n",
            "abc   :   5.000000   5.000000   5.000000\n",
            "angles:  90.000000  90.000000  90.000000\n",
            "pbc   :       True       True       True\n",
            "Sites (8)\n",
            "  #  SP      a    b    c\n",
            "---  ----  ---  ---  ---\n",
            "  0  K     0    0    0\n",
            "  1  K     0.5  0.5  0\n",
            "  2  K     0.5  0    0.5\n",
            "  3  K     0    0.5  0.5\n",
            "  4  Br    0.5  0    0\n",
            "  5  Br    0    0.5  0\n",
            "  6  Br    0    0    0.5\n",
            "  7  Br    0.5  0.5  0.5\n"
          ]
        },
        {
          "output_type": "stream",
          "name": "stderr",
          "text": [
            "\r 45%|████▌     | 33/73 [02:01<01:27,  2.19s/it]"
          ]
        },
        {
          "output_type": "stream",
          "name": "stdout",
          "text": [
            "\n",
            "Initial,final,MP,Wiki,formula 5 6.707967674521855 6.703076 6.6\n",
            "Full Formula (K4 I4)\n",
            "Reduced Formula: KI\n",
            "abc   :   5.000000   5.000000   5.000000\n",
            "angles:  90.000000  90.000000  90.000000\n",
            "pbc   :       True       True       True\n",
            "Sites (8)\n",
            "  #  SP      a    b    c\n",
            "---  ----  ---  ---  ---\n",
            "  0  K     0    0    0\n",
            "  1  K     0.5  0.5  0\n",
            "  2  K     0.5  0    0.5\n",
            "  3  K     0    0.5  0.5\n",
            "  4  I     0.5  0    0\n",
            "  5  I     0    0.5  0\n",
            "  6  I     0    0    0.5\n",
            "  7  I     0.5  0.5  0.5\n"
          ]
        },
        {
          "output_type": "stream",
          "name": "stderr",
          "text": [
            "\r 47%|████▋     | 34/73 [02:04<01:45,  2.71s/it]"
          ]
        },
        {
          "output_type": "stream",
          "name": "stdout",
          "text": [
            "\n",
            "Initial,final,MP,Wiki,formula 5 7.183091811212803 7.185344 7.07\n",
            "Full Formula (Rb4 F4)\n",
            "Reduced Formula: RbF\n",
            "abc   :   5.000000   5.000000   5.000000\n",
            "angles:  90.000000  90.000000  90.000000\n",
            "pbc   :       True       True       True\n",
            "Sites (8)\n",
            "  #  SP      a    b    c\n",
            "---  ----  ---  ---  ---\n",
            "  0  Rb    0    0    0\n",
            "  1  Rb    0.5  0.5  0\n",
            "  2  Rb    0.5  0    0.5\n",
            "  3  Rb    0    0.5  0.5\n",
            "  4  F     0.5  0    0\n",
            "  5  F     0    0.5  0\n",
            "  6  F     0    0    0.5\n",
            "  7  F     0.5  0.5  0.5\n"
          ]
        },
        {
          "output_type": "stream",
          "name": "stderr",
          "text": [
            "\r 48%|████▊     | 35/73 [02:06<01:30,  2.38s/it]"
          ]
        },
        {
          "output_type": "stream",
          "name": "stdout",
          "text": [
            "\n",
            "Initial,final,MP,Wiki,formula 5 5.7684273649642295 5.73892 5.65\n",
            "Full Formula (Rb4 Cl4)\n",
            "Reduced Formula: RbCl\n",
            "abc   :   5.000000   5.000000   5.000000\n",
            "angles:  90.000000  90.000000  90.000000\n",
            "pbc   :       True       True       True\n",
            "Sites (8)\n",
            "  #  SP      a    b    c\n",
            "---  ----  ---  ---  ---\n",
            "  0  Rb    0    0    0\n",
            "  1  Rb    0.5  0.5  0\n",
            "  2  Rb    0.5  0    0.5\n",
            "  3  Rb    0    0.5  0.5\n",
            "  4  Cl    0.5  0    0\n",
            "  5  Cl    0    0.5  0\n",
            "  6  Cl    0    0    0.5\n",
            "  7  Cl    0.5  0.5  0.5\n"
          ]
        },
        {
          "output_type": "stream",
          "name": "stderr",
          "text": [
            "\r 49%|████▉     | 36/73 [02:08<01:27,  2.37s/it]"
          ]
        },
        {
          "output_type": "stream",
          "name": "stdout",
          "text": [
            "\n",
            "Initial,final,MP,Wiki,formula 5 6.679943263903903 6.698728 6.59\n",
            "Full Formula (Rb4 Br4)\n",
            "Reduced Formula: RbBr\n",
            "abc   :   5.000000   5.000000   5.000000\n",
            "angles:  90.000000  90.000000  90.000000\n",
            "pbc   :       True       True       True\n",
            "Sites (8)\n",
            "  #  SP      a    b    c\n",
            "---  ----  ---  ---  ---\n",
            "  0  Rb    0    0    0\n",
            "  1  Rb    0.5  0.5  0\n",
            "  2  Rb    0.5  0    0.5\n",
            "  3  Rb    0    0.5  0.5\n",
            "  4  Br    0.5  0    0\n",
            "  5  Br    0    0.5  0\n",
            "  6  Br    0    0    0.5\n",
            "  7  Br    0.5  0.5  0.5\n"
          ]
        },
        {
          "output_type": "stream",
          "name": "stderr",
          "text": [
            "\r 51%|█████     | 37/73 [02:10<01:14,  2.06s/it]"
          ]
        },
        {
          "output_type": "stream",
          "name": "stdout",
          "text": [
            "\n",
            "Initial,final,MP,Wiki,formula 5 6.982189472093285 7.0279300000000005 6.89\n",
            "Full Formula (Rb4 I4)\n",
            "Reduced Formula: RbI\n",
            "abc   :   5.000000   5.000000   5.000000\n",
            "angles:  90.000000  90.000000  90.000000\n",
            "pbc   :       True       True       True\n",
            "Sites (8)\n",
            "  #  SP      a    b    c\n",
            "---  ----  ---  ---  ---\n",
            "  0  Rb    0    0    0\n",
            "  1  Rb    0.5  0.5  0\n",
            "  2  Rb    0.5  0    0.5\n",
            "  3  Rb    0    0.5  0.5\n",
            "  4  I     0.5  0    0\n",
            "  5  I     0    0.5  0\n",
            "  6  I     0    0    0.5\n",
            "  7  I     0.5  0.5  0.5\n"
          ]
        },
        {
          "output_type": "stream",
          "name": "stderr",
          "text": [
            "\r 52%|█████▏    | 38/73 [02:12<01:10,  2.03s/it]"
          ]
        },
        {
          "output_type": "stream",
          "name": "stdout",
          "text": [
            "\n",
            "Initial,final,MP,Wiki,formula 5 7.617564602053433 7.487852 7.35\n",
            "Full Formula (Cs4 F4)\n",
            "Reduced Formula: CsF\n",
            "abc   :   5.000000   5.000000   5.000000\n",
            "angles:  90.000000  90.000000  90.000000\n",
            "pbc   :       True       True       True\n",
            "Sites (8)\n",
            "  #  SP      a    b    c\n",
            "---  ----  ---  ---  ---\n",
            "  0  Cs    0    0    0\n",
            "  1  Cs    0.5  0.5  0\n",
            "  2  Cs    0.5  0    0.5\n",
            "  3  Cs    0    0.5  0.5\n",
            "  4  F     0.5  0    0\n",
            "  5  F     0    0.5  0\n",
            "  6  F     0    0    0.5\n",
            "  7  F     0.5  0.5  0.5\n"
          ]
        },
        {
          "output_type": "stream",
          "name": "stderr",
          "text": [
            "\r 53%|█████▎    | 39/73 [02:13<01:05,  1.92s/it]"
          ]
        },
        {
          "output_type": "stream",
          "name": "stdout",
          "text": [
            "\n",
            "Initial,final,MP,Wiki,formula 5 6.126501817914429 6.118010000000001 6.02\n",
            "Full Formula (Al4)\n",
            "Reduced Formula: Al\n",
            "abc   :   5.000000   5.000000   5.000000\n",
            "angles:  90.000000  90.000000  90.000000\n",
            "pbc   :       True       True       True\n",
            "Sites (4)\n",
            "  #  SP      a    b    c\n",
            "---  ----  ---  ---  ---\n",
            "  0  Al    0    0    0\n",
            "  1  Al    0.5  0.5  0\n",
            "  2  Al    0    0.5  0.5\n",
            "  3  Al    0.5  0    0.5\n"
          ]
        },
        {
          "output_type": "stream",
          "name": "stderr",
          "text": [
            "WARNING:tensorflow:You are casting an input of type complex64 to an incompatible dtype float32.  This will discard the imaginary part and may not be what you intended.\n",
            "WARNING:tensorflow:You are casting an input of type complex64 to an incompatible dtype float32.  This will discard the imaginary part and may not be what you intended.\n",
            " 58%|█████▊    | 42/73 [02:24<01:28,  2.85s/it]"
          ]
        },
        {
          "output_type": "stream",
          "name": "stdout",
          "text": [
            "\n",
            "Initial,final,MP,Wiki,formula 5 4.041082443885448 4.03893 4.046\n",
            "Full Formula (Ni4)\n",
            "Reduced Formula: Ni\n",
            "abc   :   5.000000   5.000000   5.000000\n",
            "angles:  90.000000  90.000000  90.000000\n",
            "pbc   :       True       True       True\n",
            "Sites (4)\n",
            "  #  SP      a    b    c\n",
            "---  ----  ---  ---  ---\n",
            "  0  Ni    0    0    0\n",
            "  1  Ni    0.5  0.5  0\n",
            "  2  Ni    0    0.5  0.5\n",
            "  3  Ni    0.5  0    0.5\n"
          ]
        },
        {
          "output_type": "stream",
          "name": "stderr",
          "text": [
            "\r 60%|██████    | 44/73 [02:27<01:08,  2.36s/it]"
          ]
        },
        {
          "output_type": "stream",
          "name": "stdout",
          "text": [
            "\n",
            "Initial,final,MP,Wiki,formula 5 3.508603079019558 3.505798 3.499\n",
            "Full Formula (Cu4)\n",
            "Reduced Formula: Cu\n",
            "abc   :   5.000000   5.000000   5.000000\n",
            "angles:  90.000000  90.000000  90.000000\n",
            "pbc   :       True       True       True\n",
            "Sites (4)\n",
            "  #  SP      a    b    c\n",
            "---  ----  ---  ---  ---\n",
            "  0  Cu    0    0    0\n",
            "  1  Cu    0.5  0.5  0\n",
            "  2  Cu    0    0.5  0.5\n",
            "  3  Cu    0.5  0    0.5\n"
          ]
        },
        {
          "output_type": "stream",
          "name": "stderr",
          "text": [
            "\r 62%|██████▏   | 45/73 [02:30<01:10,  2.51s/it]"
          ]
        },
        {
          "output_type": "stream",
          "name": "stdout",
          "text": [
            "\n",
            "Initial,final,MP,Wiki,formula 5 3.6119860968613757 3.621262 3.597\n",
            "Full Formula (Pd4)\n",
            "Reduced Formula: Pd\n",
            "abc   :   5.000000   5.000000   5.000000\n",
            "angles:  90.000000  90.000000  90.000000\n",
            "pbc   :       True       True       True\n",
            "Sites (4)\n",
            "  #  SP      a    b    c\n",
            "---  ----  ---  ---  ---\n",
            "  0  Pd    0    0    0\n",
            "  1  Pd    0.5  0.5  0\n",
            "  2  Pd    0    0.5  0.5\n",
            "  3  Pd    0.5  0    0.5\n"
          ]
        },
        {
          "output_type": "stream",
          "name": "stderr",
          "text": [
            "\r 64%|██████▍   | 47/73 [02:33<00:55,  2.12s/it]"
          ]
        },
        {
          "output_type": "stream",
          "name": "stdout",
          "text": [
            "\n",
            "Initial,final,MP,Wiki,formula 5 3.9546608868923903 3.9570659999999998 3.859\n",
            "Full Formula (Ag4)\n",
            "Reduced Formula: Ag\n",
            "abc   :   5.000000   5.000000   5.000000\n",
            "angles:  90.000000  90.000000  90.000000\n",
            "pbc   :       True       True       True\n",
            "Sites (4)\n",
            "  #  SP      a    b    c\n",
            "---  ----  ---  ---  ---\n",
            "  0  Ag    0    0    0\n",
            "  1  Ag    0.5  0.5  0\n",
            "  2  Ag    0    0.5  0.5\n",
            "  3  Ag    0.5  0    0.5\n"
          ]
        },
        {
          "output_type": "stream",
          "name": "stderr",
          "text": [
            "\r 66%|██████▌   | 48/73 [02:36<00:56,  2.25s/it]"
          ]
        },
        {
          "output_type": "stream",
          "name": "stdout",
          "text": [
            "\n",
            "Initial,final,MP,Wiki,formula 5 4.167016952986487 4.160548 4.079\n",
            "Full Formula (Pt4)\n",
            "Reduced Formula: Pt\n",
            "abc   :   5.000000   5.000000   5.000000\n",
            "angles:  90.000000  90.000000  90.000000\n",
            "pbc   :       True       True       True\n",
            "Sites (4)\n",
            "  #  SP      a    b    c\n",
            "---  ----  ---  ---  ---\n",
            "  0  Pt    0    0    0\n",
            "  1  Pt    0.5  0.5  0\n",
            "  2  Pt    0    0.5  0.5\n",
            "  3  Pt    0.5  0    0.5\n"
          ]
        },
        {
          "output_type": "stream",
          "name": "stderr",
          "text": [
            "\r 68%|██████▊   | 50/73 [02:37<00:37,  1.61s/it]"
          ]
        },
        {
          "output_type": "stream",
          "name": "stdout",
          "text": [
            "\n",
            "Initial,final,MP,Wiki,formula 5 3.977140383759854 3.97677 3.912\n",
            "Full Formula (Au4)\n",
            "Reduced Formula: Au\n",
            "abc   :   5.000000   5.000000   5.000000\n",
            "angles:  90.000000  90.000000  90.000000\n",
            "pbc   :       True       True       True\n",
            "Sites (4)\n",
            "  #  SP      a    b    c\n",
            "---  ----  ---  ---  ---\n",
            "  0  Au    0    0    0\n",
            "  1  Au    0.5  0.5  0\n",
            "  2  Au    0    0.5  0.5\n",
            "  3  Au    0.5  0    0.5\n"
          ]
        },
        {
          "output_type": "stream",
          "name": "stderr",
          "text": [
            "\r 70%|██████▉   | 51/73 [02:39<00:37,  1.69s/it]"
          ]
        },
        {
          "output_type": "stream",
          "name": "stdout",
          "text": [
            "\n",
            "Initial,final,MP,Wiki,formula 5 4.174313963025114 4.171288 4.065\n",
            "Full Formula (Pb4)\n",
            "Reduced Formula: Pb\n",
            "abc   :   5.000000   5.000000   5.000000\n",
            "angles:  90.000000  90.000000  90.000000\n",
            "pbc   :       True       True       True\n",
            "Sites (4)\n",
            "  #  SP      a    b    c\n",
            "---  ----  ---  ---  ---\n",
            "  0  Pb    0    0    0\n",
            "  1  Pb    0.5  0.5  0\n",
            "  2  Pb    0    0.5  0.5\n",
            "  3  Pb    0.5  0    0.5\n"
          ]
        },
        {
          "output_type": "stream",
          "name": "stderr",
          "text": [
            "\r 71%|███████   | 52/73 [02:40<00:34,  1.67s/it]"
          ]
        },
        {
          "output_type": "stream",
          "name": "stdout",
          "text": [
            "\n",
            "Initial,final,MP,Wiki,formula 5 5.028490404274532 5.050534 4.92\n",
            "Full Formula (Ti4 N4)\n",
            "Reduced Formula: TiN\n",
            "abc   :   5.000000   5.000000   5.000000\n",
            "angles:  90.000000  90.000000  90.000000\n",
            "pbc   :       True       True       True\n",
            "Sites (8)\n",
            "  #  SP      a    b    c\n",
            "---  ----  ---  ---  ---\n",
            "  0  Ti    0    0    0\n",
            "  1  Ti    0.5  0.5  0\n",
            "  2  Ti    0.5  0    0.5\n",
            "  3  Ti    0    0.5  0.5\n",
            "  4  N     0.5  0    0\n",
            "  5  N     0    0.5  0\n",
            "  6  N     0    0    0.5\n",
            "  7  N     0.5  0.5  0.5\n"
          ]
        },
        {
          "output_type": "stream",
          "name": "stderr",
          "text": [
            "\r 77%|███████▋  | 56/73 [02:42<00:16,  1.05it/s]"
          ]
        },
        {
          "output_type": "stream",
          "name": "stdout",
          "text": [
            "\n",
            "Initial,final,MP,Wiki,formula 5 4.25254086320567 4.253534 4.249\n",
            "Full Formula (Zr4 N4)\n",
            "Reduced Formula: ZrN\n",
            "abc   :   5.000000   5.000000   5.000000\n",
            "angles:  90.000000  90.000000  90.000000\n",
            "pbc   :       True       True       True\n",
            "Sites (8)\n",
            "  #  SP      a    b    c\n",
            "---  ----  ---  ---  ---\n",
            "  0  Zr    0    0    0\n",
            "  1  Zr    0.5  0.5  0\n",
            "  2  Zr    0.5  0    0.5\n",
            "  3  Zr    0    0.5  0.5\n",
            "  4  N     0.5  0    0\n",
            "  5  N     0    0.5  0\n",
            "  6  N     0    0    0.5\n",
            "  7  N     0.5  0.5  0.5\n"
          ]
        },
        {
          "output_type": "stream",
          "name": "stderr",
          "text": [
            "\r 78%|███████▊  | 57/73 [02:44<00:18,  1.18s/it]"
          ]
        },
        {
          "output_type": "stream",
          "name": "stdout",
          "text": [
            "\n",
            "Initial,final,MP,Wiki,formula 5 4.616021252333376 4.617624 4.577\n",
            "Full Formula (Hf4 N4)\n",
            "Reduced Formula: HfN\n",
            "abc   :   5.000000   5.000000   5.000000\n",
            "angles:  90.000000  90.000000  90.000000\n",
            "pbc   :       True       True       True\n",
            "Sites (8)\n",
            "  #  SP      a    b    c\n",
            "---  ----  ---  ---  ---\n",
            "  0  Hf    0    0    0\n",
            "  1  Hf    0.5  0.5  0\n",
            "  2  Hf    0.5  0    0.5\n",
            "  3  Hf    0    0.5  0.5\n",
            "  4  N     0.5  0    0\n",
            "  5  N     0    0.5  0\n",
            "  6  N     0    0    0.5\n",
            "  7  N     0.5  0.5  0.5\n"
          ]
        },
        {
          "output_type": "stream",
          "name": "stderr",
          "text": [
            "\r 79%|███████▉  | 58/73 [02:47<00:21,  1.45s/it]"
          ]
        },
        {
          "output_type": "stream",
          "name": "stdout",
          "text": [
            "\n",
            "Initial,final,MP,Wiki,formula 5 4.538375359021102 4.537742 4.392\n",
            "Full Formula (V4 N4)\n",
            "Reduced Formula: VN\n",
            "abc   :   5.000000   5.000000   5.000000\n",
            "angles:  90.000000  90.000000  90.000000\n",
            "pbc   :       True       True       True\n",
            "Sites (8)\n",
            "  #  SP      a    b    c\n",
            "---  ----  ---  ---  ---\n",
            "  0  V     0    0    0\n",
            "  1  V     0.5  0.5  0\n",
            "  2  V     0.5  0    0.5\n",
            "  3  V     0    0.5  0.5\n",
            "  4  N     0.5  0    0\n",
            "  5  N     0    0.5  0\n",
            "  6  N     0    0    0.5\n",
            "  7  N     0.5  0.5  0.5\n"
          ]
        },
        {
          "output_type": "stream",
          "name": "stderr",
          "text": [
            "\r 81%|████████  | 59/73 [02:52<00:30,  2.15s/it]"
          ]
        },
        {
          "output_type": "stream",
          "name": "stdout",
          "text": [
            "\n",
            "Initial,final,MP,Wiki,formula 5 4.128104814648662 4.12493 4.136\n",
            "Full Formula (Cr4 N4)\n",
            "Reduced Formula: CrN\n",
            "abc   :   5.000000   5.000000   5.000000\n",
            "angles:  90.000000  90.000000  90.000000\n",
            "pbc   :       True       True       True\n",
            "Sites (8)\n",
            "  #  SP      a    b    c\n",
            "---  ----  ---  ---  ---\n",
            "  0  Cr    0    0    0\n",
            "  1  Cr    0.5  0.5  0\n",
            "  2  Cr    0.5  0    0.5\n",
            "  3  Cr    0    0.5  0.5\n",
            "  4  N     0.5  0    0\n",
            "  5  N     0    0.5  0\n",
            "  6  N     0    0    0.5\n",
            "  7  N     0.5  0.5  0.5\n"
          ]
        },
        {
          "output_type": "stream",
          "name": "stderr",
          "text": [
            "Traceback (most recent call last):\n",
            "  File \"<ipython-input-8-5d283c65cb80>\", line 71, in <cell line: 15>\n",
            "    raise RuntimeError\n",
            "RuntimeError\n",
            "\r 82%|████████▏ | 60/73 [02:55<00:33,  2.56s/it]"
          ]
        },
        {
          "output_type": "stream",
          "name": "stdout",
          "text": [
            "\n",
            "Initial,final,MP,Wiki,formula 5 4.16068230427697 0 4.149\n",
            "Full Formula (Nb4 N4)\n",
            "Reduced Formula: NbN\n",
            "abc   :   5.000000   5.000000   5.000000\n",
            "angles:  90.000000  90.000000  90.000000\n",
            "pbc   :       True       True       True\n",
            "Sites (8)\n",
            "  #  SP      a    b    c\n",
            "---  ----  ---  ---  ---\n",
            "  0  Nb    0    0    0\n",
            "  1  Nb    0.5  0.5  0\n",
            "  2  Nb    0.5  0    0.5\n",
            "  3  Nb    0    0.5  0.5\n",
            "  4  N     0.5  0    0\n",
            "  5  N     0    0.5  0\n",
            "  6  N     0    0    0.5\n",
            "  7  N     0.5  0.5  0.5\n"
          ]
        },
        {
          "output_type": "stream",
          "name": "stderr",
          "text": [
            "\r 84%|████████▎ | 61/73 [02:58<00:29,  2.45s/it]"
          ]
        },
        {
          "output_type": "stream",
          "name": "stdout",
          "text": [
            "\n",
            "Initial,final,MP,Wiki,formula 5 4.454736335530738 4.452468 4.392\n",
            "Full Formula (Ti4 C4)\n",
            "Reduced Formula: TiC\n",
            "abc   :   5.000000   5.000000   5.000000\n",
            "angles:  90.000000  90.000000  90.000000\n",
            "pbc   :       True       True       True\n",
            "Sites (8)\n",
            "  #  SP      a    b    c\n",
            "---  ----  ---  ---  ---\n",
            "  0  Ti    0    0    0\n",
            "  1  Ti    0.5  0.5  0\n",
            "  2  Ti    0.5  0    0.5\n",
            "  3  Ti    0    0.5  0.5\n",
            "  4  C     0.5  0    0\n",
            "  5  C     0    0.5  0\n",
            "  6  C     0    0    0.5\n",
            "  7  C     0.5  0.5  0.5\n"
          ]
        },
        {
          "output_type": "stream",
          "name": "stderr",
          "text": [
            "\r 85%|████████▍ | 62/73 [02:59<00:24,  2.25s/it]"
          ]
        },
        {
          "output_type": "stream",
          "name": "stdout",
          "text": [
            "\n",
            "Initial,final,MP,Wiki,formula 5 4.334933489521328 4.33565 4.328\n",
            "Full Formula (Zr4 C4)\n",
            "Reduced Formula: ZrC\n",
            "abc   :   5.000000   5.000000   5.000000\n",
            "angles:  90.000000  90.000000  90.000000\n",
            "pbc   :       True       True       True\n",
            "Sites (8)\n",
            "  #  SP      a    b    c\n",
            "---  ----  ---  ---  ---\n",
            "  0  Zr    0    0    0\n",
            "  1  Zr    0.5  0.5  0\n",
            "  2  Zr    0.5  0    0.5\n",
            "  3  Zr    0    0.5  0.5\n",
            "  4  C     0.5  0    0\n",
            "  5  C     0    0.5  0\n",
            "  6  C     0    0    0.5\n",
            "  7  C     0.5  0.5  0.5\n"
          ]
        },
        {
          "output_type": "stream",
          "name": "stderr",
          "text": [
            "\r 86%|████████▋ | 63/73 [03:01<00:20,  2.07s/it]"
          ]
        },
        {
          "output_type": "stream",
          "name": "stdout",
          "text": [
            "\n",
            "Initial,final,MP,Wiki,formula 5 4.724509788070784 4.72434 4.698\n",
            "Full Formula (Hf4 C4)\n",
            "Reduced Formula: HfC\n",
            "abc   :   5.000000   5.000000   5.000000\n",
            "angles:  90.000000  90.000000  90.000000\n",
            "pbc   :       True       True       True\n",
            "Sites (8)\n",
            "  #  SP      a    b    c\n",
            "---  ----  ---  ---  ---\n",
            "  0  Hf    0    0    0\n",
            "  1  Hf    0.5  0.5  0\n",
            "  2  Hf    0.5  0    0.5\n",
            "  3  Hf    0    0.5  0.5\n",
            "  4  C     0.5  0    0\n",
            "  5  C     0    0.5  0\n",
            "  6  C     0    0    0.5\n",
            "  7  C     0.5  0.5  0.5\n"
          ]
        },
        {
          "output_type": "stream",
          "name": "stderr",
          "text": [
            "\r 88%|████████▊ | 64/73 [03:03<00:19,  2.20s/it]"
          ]
        },
        {
          "output_type": "stream",
          "name": "stdout",
          "text": [
            "\n",
            "Initial,final,MP,Wiki,formula 5 4.650228815302575 4.651312 4.64\n",
            "Full Formula (V4 C4)\n",
            "Reduced Formula: VC\n",
            "abc   :   5.000000   5.000000   5.000000\n",
            "angles:  90.000000  90.000000  90.000000\n",
            "pbc   :       True       True       True\n",
            "Sites (8)\n",
            "  #  SP      a    b    c\n",
            "---  ----  ---  ---  ---\n",
            "  0  V     0    0    0\n",
            "  1  V     0.5  0.5  0\n",
            "  2  V     0.5  0    0.5\n",
            "  3  V     0    0.5  0.5\n",
            "  4  C     0.5  0    0\n",
            "  5  C     0    0.5  0\n",
            "  6  C     0    0    0.5\n",
            "  7  C     0.5  0.5  0.5\n"
          ]
        },
        {
          "output_type": "stream",
          "name": "stderr",
          "text": [
            "\r 89%|████████▉ | 65/73 [03:08<00:23,  2.88s/it]"
          ]
        },
        {
          "output_type": "stream",
          "name": "stdout",
          "text": [
            "\n",
            "Initial,final,MP,Wiki,formula 5 4.164755371538005 4.161946 4.166\n",
            "Full Formula (Ta4 C4)\n",
            "Reduced Formula: TaC\n",
            "abc   :   5.000000   5.000000   5.000000\n",
            "angles:  90.000000  90.000000  90.000000\n",
            "pbc   :       True       True       True\n",
            "Sites (8)\n",
            "  #  SP      a    b    c\n",
            "---  ----  ---  ---  ---\n",
            "  0  Ta    0    0    0\n",
            "  1  Ta    0.5  0.5  0\n",
            "  2  Ta    0.5  0    0.5\n",
            "  3  Ta    0    0.5  0.5\n",
            "  4  C     0.5  0    0\n",
            "  5  C     0    0.5  0\n",
            "  6  C     0    0    0.5\n",
            "  7  C     0.5  0.5  0.5\n"
          ]
        },
        {
          "output_type": "stream",
          "name": "stderr",
          "text": [
            "\r 92%|█████████▏| 67/73 [03:10<00:12,  2.02s/it]"
          ]
        },
        {
          "output_type": "stream",
          "name": "stdout",
          "text": [
            "\n",
            "Initial,final,MP,Wiki,formula 5 4.48225214002598 4.482076 4.456\n",
            "Full Formula (Sc4 N4)\n",
            "Reduced Formula: ScN\n",
            "abc   :   5.000000   5.000000   5.000000\n",
            "angles:  90.000000  90.000000  90.000000\n",
            "pbc   :       True       True       True\n",
            "Sites (8)\n",
            "  #  SP      a    b    c\n",
            "---  ----  ---  ---  ---\n",
            "  0  Sc    0    0    0\n",
            "  1  Sc    0.5  0.5  0\n",
            "  2  Sc    0.5  0    0.5\n",
            "  3  Sc    0    0.5  0.5\n",
            "  4  N     0.5  0    0\n",
            "  5  N     0    0.5  0\n",
            "  6  N     0    0    0.5\n",
            "  7  N     0.5  0.5  0.5\n"
          ]
        },
        {
          "output_type": "stream",
          "name": "stderr",
          "text": [
            "\r 93%|█████████▎| 68/73 [03:11<00:09,  1.89s/it]"
          ]
        },
        {
          "output_type": "stream",
          "name": "stdout",
          "text": [
            "\n",
            "Initial,final,MP,Wiki,formula 5 4.517974268655265 4.51831 4.52\n",
            "Full Formula (K1 Ta1 O3)\n",
            "Reduced Formula: KTaO3\n",
            "abc   :   5.000000   5.000000   5.000000\n",
            "angles:  90.000000  90.000000  90.000000\n",
            "pbc   :       True       True       True\n",
            "Sites (5)\n",
            "  #  SP      a    b    c\n",
            "---  ----  ---  ---  ---\n",
            "  0  K     0    0    0\n",
            "  1  Ta    0.5  0.5  0.5\n",
            "  2  O     0.5  0.5  0\n",
            "  3  O     0    0.5  0.5\n",
            "  4  O     0.5  0    0.5\n"
          ]
        },
        {
          "output_type": "stream",
          "name": "stderr",
          "text": [
            "\r 95%|█████████▍| 69/73 [03:12<00:06,  1.62s/it]"
          ]
        },
        {
          "output_type": "stream",
          "name": "stdout",
          "text": [
            "\n",
            "Initial,final,MP,Wiki,formula 5 4.032654482778205 4.030839 3.9885\n",
            "Full Formula (Sr1 Ti1 O3)\n",
            "Reduced Formula: SrTiO3\n",
            "abc   :   5.000000   5.000000   5.000000\n",
            "angles:  90.000000  90.000000  90.000000\n",
            "pbc   :       True       True       True\n",
            "Sites (5)\n",
            "  #  SP      a    b    c\n",
            "---  ----  ---  ---  ---\n",
            "  0  Sr    0    0    0\n",
            "  1  Ti    0.5  0.5  0.5\n",
            "  2  O     0.5  0.5  0\n",
            "  3  O     0    0.5  0.5\n",
            "  4  O     0.5  0    0.5\n"
          ]
        },
        {
          "output_type": "stream",
          "name": "stderr",
          "text": [
            "\r 96%|█████████▌| 70/73 [03:14<00:04,  1.61s/it]"
          ]
        },
        {
          "output_type": "stream",
          "name": "stdout",
          "text": [
            "\n",
            "Initial,final,MP,Wiki,formula 5 3.944806606480238 3.9451300000000002 3.98805\n",
            "Full Formula (Eu1 Ti1 O3)\n",
            "Reduced Formula: EuTiO3\n",
            "abc   :   5.000000   5.000000   5.000000\n",
            "angles:  90.000000  90.000000  90.000000\n",
            "pbc   :       True       True       True\n",
            "Sites (5)\n",
            "  #  SP      a    b    c\n",
            "---  ----  ---  ---  ---\n",
            "  0  Eu    0    0    0\n",
            "  1  Ti    0.5  0.5  0.5\n",
            "  2  O     0.5  0.5  0\n",
            "  3  O     0    0.5  0.5\n",
            "  4  O     0.5  0    0.5\n"
          ]
        },
        {
          "output_type": "stream",
          "name": "stderr",
          "text": [
            "\r 97%|█████████▋| 71/73 [03:16<00:03,  1.81s/it]"
          ]
        },
        {
          "output_type": "stream",
          "name": "stdout",
          "text": [
            "\n",
            "Initial,final,MP,Wiki,formula 5 3.9294272674346593 3.9611945283278978 7.81\n",
            "Full Formula (Sr1 V1 O3)\n",
            "Reduced Formula: SrVO3\n",
            "abc   :   5.000000   5.000000   5.000000\n",
            "angles:  90.000000  90.000000  90.000000\n",
            "pbc   :       True       True       True\n",
            "Sites (5)\n",
            "  #  SP      a    b    c\n",
            "---  ----  ---  ---  ---\n",
            "  0  Sr    0    0    0\n",
            "  1  V     0.5  0.5  0.5\n",
            "  2  O     0.5  0.5  0\n",
            "  3  O     0    0.5  0.5\n",
            "  4  O     0.5  0    0.5\n"
          ]
        },
        {
          "output_type": "stream",
          "name": "stderr",
          "text": [
            "100%|██████████| 73/73 [03:19<00:00,  2.73s/it]"
          ]
        },
        {
          "output_type": "stream",
          "name": "stdout",
          "text": [
            "\n",
            "Initial,final,MP,Wiki,formula 5 3.9060436247846058 3.900891 3.838\n"
          ]
        },
        {
          "output_type": "stream",
          "name": "stderr",
          "text": [
            "\n"
          ]
        }
      ]
    },
    {
      "cell_type": "code",
      "source": [
        "data_1 = data[~data[\"Material\"].isin(currently_m3gnet_failing)]"
      ],
      "metadata": {
        "id": "bAxD6CTey1jU"
      },
      "execution_count": 9,
      "outputs": []
    },
    {
      "cell_type": "code",
      "source": [
        "data_1"
      ],
      "metadata": {
        "colab": {
          "base_uri": "https://localhost:8080/",
          "height": 423
        },
        "id": "MH1wEyNh0fY_",
        "outputId": "add766d1-4710-421f-a4da-1973b2f57b44"
      },
      "execution_count": 10,
      "outputs": [
        {
          "output_type": "execute_result",
          "data": {
            "text/plain": [
              "       Material     a (Å)  Crystal structure    Ref.\n",
              "0   C (diamond)  3.567000      Diamond (FCC)     [7]\n",
              "2            Si  5.431021      Diamond (FCC)  [8][9]\n",
              "3            Ge  5.658000      Diamond (FCC)     [8]\n",
              "4          AlAs  5.660500  Zinc blende (FCC)     [8]\n",
              "5           AlP  5.451000  Zinc blende (FCC)     [8]\n",
              "..          ...       ...                ...     ...\n",
              "77          ScN  4.520000             Halite    [14]\n",
              "79        KTaO3  3.988500   Cubic perovskite    [15]\n",
              "81       SrTiO3  3.988050   Cubic perovskite    [15]\n",
              "84       EuTiO3  7.810000   Cubic perovskite    [15]\n",
              "85        SrVO3  3.838000   Cubic perovskite    [15]\n",
              "\n",
              "[63 rows x 4 columns]"
            ],
            "text/html": [
              "\n",
              "  <div id=\"df-1f83e5c1-fac5-4191-bda1-a117c264a882\">\n",
              "    <div class=\"colab-df-container\">\n",
              "      <div>\n",
              "<style scoped>\n",
              "    .dataframe tbody tr th:only-of-type {\n",
              "        vertical-align: middle;\n",
              "    }\n",
              "\n",
              "    .dataframe tbody tr th {\n",
              "        vertical-align: top;\n",
              "    }\n",
              "\n",
              "    .dataframe thead th {\n",
              "        text-align: right;\n",
              "    }\n",
              "</style>\n",
              "<table border=\"1\" class=\"dataframe\">\n",
              "  <thead>\n",
              "    <tr style=\"text-align: right;\">\n",
              "      <th></th>\n",
              "      <th>Material</th>\n",
              "      <th>a (Å)</th>\n",
              "      <th>Crystal structure</th>\n",
              "      <th>Ref.</th>\n",
              "    </tr>\n",
              "  </thead>\n",
              "  <tbody>\n",
              "    <tr>\n",
              "      <th>0</th>\n",
              "      <td>C (diamond)</td>\n",
              "      <td>3.567000</td>\n",
              "      <td>Diamond (FCC)</td>\n",
              "      <td>[7]</td>\n",
              "    </tr>\n",
              "    <tr>\n",
              "      <th>2</th>\n",
              "      <td>Si</td>\n",
              "      <td>5.431021</td>\n",
              "      <td>Diamond (FCC)</td>\n",
              "      <td>[8][9]</td>\n",
              "    </tr>\n",
              "    <tr>\n",
              "      <th>3</th>\n",
              "      <td>Ge</td>\n",
              "      <td>5.658000</td>\n",
              "      <td>Diamond (FCC)</td>\n",
              "      <td>[8]</td>\n",
              "    </tr>\n",
              "    <tr>\n",
              "      <th>4</th>\n",
              "      <td>AlAs</td>\n",
              "      <td>5.660500</td>\n",
              "      <td>Zinc blende (FCC)</td>\n",
              "      <td>[8]</td>\n",
              "    </tr>\n",
              "    <tr>\n",
              "      <th>5</th>\n",
              "      <td>AlP</td>\n",
              "      <td>5.451000</td>\n",
              "      <td>Zinc blende (FCC)</td>\n",
              "      <td>[8]</td>\n",
              "    </tr>\n",
              "    <tr>\n",
              "      <th>...</th>\n",
              "      <td>...</td>\n",
              "      <td>...</td>\n",
              "      <td>...</td>\n",
              "      <td>...</td>\n",
              "    </tr>\n",
              "    <tr>\n",
              "      <th>77</th>\n",
              "      <td>ScN</td>\n",
              "      <td>4.520000</td>\n",
              "      <td>Halite</td>\n",
              "      <td>[14]</td>\n",
              "    </tr>\n",
              "    <tr>\n",
              "      <th>79</th>\n",
              "      <td>KTaO3</td>\n",
              "      <td>3.988500</td>\n",
              "      <td>Cubic perovskite</td>\n",
              "      <td>[15]</td>\n",
              "    </tr>\n",
              "    <tr>\n",
              "      <th>81</th>\n",
              "      <td>SrTiO3</td>\n",
              "      <td>3.988050</td>\n",
              "      <td>Cubic perovskite</td>\n",
              "      <td>[15]</td>\n",
              "    </tr>\n",
              "    <tr>\n",
              "      <th>84</th>\n",
              "      <td>EuTiO3</td>\n",
              "      <td>7.810000</td>\n",
              "      <td>Cubic perovskite</td>\n",
              "      <td>[15]</td>\n",
              "    </tr>\n",
              "    <tr>\n",
              "      <th>85</th>\n",
              "      <td>SrVO3</td>\n",
              "      <td>3.838000</td>\n",
              "      <td>Cubic perovskite</td>\n",
              "      <td>[15]</td>\n",
              "    </tr>\n",
              "  </tbody>\n",
              "</table>\n",
              "<p>63 rows × 4 columns</p>\n",
              "</div>\n",
              "      <button class=\"colab-df-convert\" onclick=\"convertToInteractive('df-1f83e5c1-fac5-4191-bda1-a117c264a882')\"\n",
              "              title=\"Convert this dataframe to an interactive table.\"\n",
              "              style=\"display:none;\">\n",
              "        \n",
              "  <svg xmlns=\"http://www.w3.org/2000/svg\" height=\"24px\"viewBox=\"0 0 24 24\"\n",
              "       width=\"24px\">\n",
              "    <path d=\"M0 0h24v24H0V0z\" fill=\"none\"/>\n",
              "    <path d=\"M18.56 5.44l.94 2.06.94-2.06 2.06-.94-2.06-.94-.94-2.06-.94 2.06-2.06.94zm-11 1L8.5 8.5l.94-2.06 2.06-.94-2.06-.94L8.5 2.5l-.94 2.06-2.06.94zm10 10l.94 2.06.94-2.06 2.06-.94-2.06-.94-.94-2.06-.94 2.06-2.06.94z\"/><path d=\"M17.41 7.96l-1.37-1.37c-.4-.4-.92-.59-1.43-.59-.52 0-1.04.2-1.43.59L10.3 9.45l-7.72 7.72c-.78.78-.78 2.05 0 2.83L4 21.41c.39.39.9.59 1.41.59.51 0 1.02-.2 1.41-.59l7.78-7.78 2.81-2.81c.8-.78.8-2.07 0-2.86zM5.41 20L4 18.59l7.72-7.72 1.47 1.35L5.41 20z\"/>\n",
              "  </svg>\n",
              "      </button>\n",
              "      \n",
              "  <style>\n",
              "    .colab-df-container {\n",
              "      display:flex;\n",
              "      flex-wrap:wrap;\n",
              "      gap: 12px;\n",
              "    }\n",
              "\n",
              "    .colab-df-convert {\n",
              "      background-color: #E8F0FE;\n",
              "      border: none;\n",
              "      border-radius: 50%;\n",
              "      cursor: pointer;\n",
              "      display: none;\n",
              "      fill: #1967D2;\n",
              "      height: 32px;\n",
              "      padding: 0 0 0 0;\n",
              "      width: 32px;\n",
              "    }\n",
              "\n",
              "    .colab-df-convert:hover {\n",
              "      background-color: #E2EBFA;\n",
              "      box-shadow: 0px 1px 2px rgba(60, 64, 67, 0.3), 0px 1px 3px 1px rgba(60, 64, 67, 0.15);\n",
              "      fill: #174EA6;\n",
              "    }\n",
              "\n",
              "    [theme=dark] .colab-df-convert {\n",
              "      background-color: #3B4455;\n",
              "      fill: #D2E3FC;\n",
              "    }\n",
              "\n",
              "    [theme=dark] .colab-df-convert:hover {\n",
              "      background-color: #434B5C;\n",
              "      box-shadow: 0px 1px 3px 1px rgba(0, 0, 0, 0.15);\n",
              "      filter: drop-shadow(0px 1px 2px rgba(0, 0, 0, 0.3));\n",
              "      fill: #FFFFFF;\n",
              "    }\n",
              "  </style>\n",
              "\n",
              "      <script>\n",
              "        const buttonEl =\n",
              "          document.querySelector('#df-1f83e5c1-fac5-4191-bda1-a117c264a882 button.colab-df-convert');\n",
              "        buttonEl.style.display =\n",
              "          google.colab.kernel.accessAllowed ? 'block' : 'none';\n",
              "\n",
              "        async function convertToInteractive(key) {\n",
              "          const element = document.querySelector('#df-1f83e5c1-fac5-4191-bda1-a117c264a882');\n",
              "          const dataTable =\n",
              "            await google.colab.kernel.invokeFunction('convertToInteractive',\n",
              "                                                     [key], {});\n",
              "          if (!dataTable) return;\n",
              "\n",
              "          const docLinkHtml = 'Like what you see? Visit the ' +\n",
              "            '<a target=\"_blank\" href=https://colab.research.google.com/notebooks/data_table.ipynb>data table notebook</a>'\n",
              "            + ' to learn more about interactive tables.';\n",
              "          element.innerHTML = '';\n",
              "          dataTable['output_type'] = 'display_data';\n",
              "          await google.colab.output.renderOutput(dataTable, element);\n",
              "          const docLink = document.createElement('div');\n",
              "          docLink.innerHTML = docLinkHtml;\n",
              "          element.appendChild(docLink);\n",
              "        }\n",
              "      </script>\n",
              "    </div>\n",
              "  </div>\n",
              "  "
            ]
          },
          "metadata": {},
          "execution_count": 10
        }
      ]
    },
    {
      "cell_type": "code",
      "source": [
        "data_1[\"MP a (Å)\"] = mp\n",
        "data_1[\"Predicted a (Å)\"] = predicted\n",
        "data_1[\"initial_structs\"] = initial_structs\n",
        "data_1[\"final_m3gnet_structs\"] = final_m3gnet_structs"
      ],
      "metadata": {
        "colab": {
          "base_uri": "https://localhost:8080/"
        },
        "id": "xiXPBgJgyMyn",
        "outputId": "363b0dbd-3250-463a-bbf7-ff7c3fb7fc98"
      },
      "execution_count": 11,
      "outputs": [
        {
          "output_type": "stream",
          "name": "stderr",
          "text": [
            "<ipython-input-11-02a3f8920e94>:1: SettingWithCopyWarning: \n",
            "A value is trying to be set on a copy of a slice from a DataFrame.\n",
            "Try using .loc[row_indexer,col_indexer] = value instead\n",
            "\n",
            "See the caveats in the documentation: https://pandas.pydata.org/pandas-docs/stable/user_guide/indexing.html#returning-a-view-versus-a-copy\n",
            "  data_1[\"MP a (Å)\"] = mp\n",
            "<ipython-input-11-02a3f8920e94>:2: SettingWithCopyWarning: \n",
            "A value is trying to be set on a copy of a slice from a DataFrame.\n",
            "Try using .loc[row_indexer,col_indexer] = value instead\n",
            "\n",
            "See the caveats in the documentation: https://pandas.pydata.org/pandas-docs/stable/user_guide/indexing.html#returning-a-view-versus-a-copy\n",
            "  data_1[\"Predicted a (Å)\"] = predicted\n",
            "<ipython-input-11-02a3f8920e94>:3: SettingWithCopyWarning: \n",
            "A value is trying to be set on a copy of a slice from a DataFrame.\n",
            "Try using .loc[row_indexer,col_indexer] = value instead\n",
            "\n",
            "See the caveats in the documentation: https://pandas.pydata.org/pandas-docs/stable/user_guide/indexing.html#returning-a-view-versus-a-copy\n",
            "  data_1[\"initial_structs\"] = initial_structs\n",
            "<ipython-input-11-02a3f8920e94>:4: SettingWithCopyWarning: \n",
            "A value is trying to be set on a copy of a slice from a DataFrame.\n",
            "Try using .loc[row_indexer,col_indexer] = value instead\n",
            "\n",
            "See the caveats in the documentation: https://pandas.pydata.org/pandas-docs/stable/user_guide/indexing.html#returning-a-view-versus-a-copy\n",
            "  data_1[\"final_m3gnet_structs\"] = final_m3gnet_structs\n"
          ]
        }
      ]
    },
    {
      "cell_type": "code",
      "source": [
        "from sklearn.metrics import mean_absolute_error\n",
        "print('MAE wrt Exp/Wiki data',mean_absolute_error(data_1['a (Å)'],data_1['Predicted a (Å)']))\n",
        "print('MAE wrt MP data',mean_absolute_error(data_1['MP a (Å)'],data_1['Predicted a (Å)']))"
      ],
      "metadata": {
        "colab": {
          "base_uri": "https://localhost:8080/"
        },
        "id": "r3pLHeW8nL2S",
        "outputId": "20c1cff0-88c7-42b1-f3d7-2e35b07a7d21"
      },
      "execution_count": 12,
      "outputs": [
        {
          "output_type": "stream",
          "name": "stdout",
          "text": [
            "MAE wrt Exp/Wiki data 0.1316390596491395\n",
            "MAE wrt MP data 0.07474795094537603\n"
          ]
        }
      ]
    },
    {
      "cell_type": "code",
      "source": [
        "from jarvis.core.atoms import Atoms\n",
        "from alignn.ff.ff import ForceField, default_path\n",
        "from jarvis.core.atoms import pmg_to_atoms\n",
        "model_path = default_path()\n",
        "def optimize_atoms(atoms=[],model_path=model_path):\n",
        "    atoms = pmg_to_atoms(atoms)\n",
        "    print(atoms.composition.reduced_formula)\n",
        "    ff = ForceField(\n",
        "        jarvis_atoms=atoms,\n",
        "        model_path=model_path,\n",
        "    )\n",
        "    opt, en, fs = ff.optimize_atoms()\n",
        "    return opt.lattice.a"
      ],
      "metadata": {
        "colab": {
          "base_uri": "https://localhost:8080/"
        },
        "id": "zFCMgXcSxIXQ",
        "outputId": "d779e0d7-670a-4ede-97f2-abde047c6c40"
      },
      "execution_count": 13,
      "outputs": [
        {
          "output_type": "stream",
          "name": "stderr",
          "text": [
            "DGL backend not selected or invalid.  Assuming PyTorch for now.\n"
          ]
        },
        {
          "output_type": "stream",
          "name": "stdout",
          "text": [
            "Setting the default backend to \"pytorch\". You can change it in the ~/.dgl/config.json file or export the DGLBACKEND environment variable.  Valid options are: pytorch, mxnet, tensorflow (all lowercase)\n",
            "model_path /usr/local/lib/python3.9/dist-packages/alignn/ff\n"
          ]
        }
      ]
    },
    {
      "cell_type": "code",
      "source": [
        "tqdm.pandas()\n",
        "#slow\n",
        "data_1['alignn_a']=data_1['initial_structs'].progress_apply(lambda x:optimize_atoms(atoms=x))"
      ],
      "metadata": {
        "colab": {
          "base_uri": "https://localhost:8080/"
        },
        "id": "VB7krffR9XYh",
        "outputId": "5e1b7696-69be-4503-ca3b-9436018712e3"
      },
      "execution_count": null,
      "outputs": [
        {
          "output_type": "stream",
          "name": "stderr",
          "text": [
            "\r  0%|          | 0/63 [00:00<?, ?it/s]"
          ]
        },
        {
          "output_type": "stream",
          "name": "stdout",
          "text": [
            "C\n",
            "OPTIMIZATION\n"
          ]
        },
        {
          "output_type": "stream",
          "name": "stderr",
          "text": [
            "/usr/local/lib/python3.9/dist-packages/dgl/backend/pytorch/tensor.py:445: UserWarning: TypedStorage is deprecated. It will be removed in the future and UntypedStorage will be the only storage class. This should only matter to you if you are using storages directly.  To access UntypedStorage directly, use tensor.untyped_storage() instead of tensor.storage()\n",
            "  assert input.numel() == input.storage().size(), (\n"
          ]
        },
        {
          "output_type": "stream",
          "name": "stdout",
          "text": [
            "a= 5.000 Ang b= 5.000 Ang c= 5.000 Ang Volume= 125.000 amu/a3 PE=-17.14335 eV KE= 0.00000 eV T= 0.000 K \n",
            "a= 4.939 Ang b= 4.939 Ang c= 4.939 Ang Volume= 120.491 amu/a3 PE=-17.95720 eV KE= 0.00000 eV T= 0.000 K \n",
            "a= 4.817 Ang b= 4.817 Ang c= 4.816 Ang Volume= 111.751 amu/a3 PE=-19.64051 eV KE= 0.00000 eV T= 0.000 K \n",
            "a= 4.623 Ang b= 4.627 Ang c= 4.623 Ang Volume= 98.891 amu/a3 PE=-23.75317 eV KE= 0.00000 eV T= 0.000 K \n",
            "a= 4.316 Ang b= 4.333 Ang c= 4.316 Ang Volume= 80.709 amu/a3 PE=-32.82676 eV KE= 0.00000 eV T= 0.000 K \n",
            "a= 3.943 Ang b= 3.987 Ang c= 3.943 Ang Volume= 61.972 amu/a3 PE=-46.12150 eV KE= 0.00000 eV T= 0.000 K \n",
            "a= 3.513 Ang b= 3.578 Ang c= 3.513 Ang Volume= 44.078 amu/a3 PE=-61.28164 eV KE= 0.00000 eV T= 0.000 K \n",
            "a= 3.513 Ang b= 3.578 Ang c= 3.513 Ang Volume= 44.090 amu/a3 PE=-61.28210 eV KE= 0.00000 eV T= 0.000 K \n",
            "a= 3.514 Ang b= 3.579 Ang c= 3.514 Ang Volume= 44.113 amu/a3 PE=-61.28297 eV KE= 0.00000 eV T= 0.000 K \n",
            "a= 3.515 Ang b= 3.579 Ang c= 3.515 Ang Volume= 44.148 amu/a3 PE=-61.28428 eV KE= 0.00000 eV T= 0.000 K \n",
            "a= 3.516 Ang b= 3.580 Ang c= 3.516 Ang Volume= 44.194 amu/a3 PE=-61.28595 eV KE= 0.00000 eV T= 0.000 K \n",
            "a= 3.518 Ang b= 3.581 Ang c= 3.518 Ang Volume= 44.249 amu/a3 PE=-61.28795 eV KE= 0.00000 eV T= 0.000 K \n"
          ]
        }
      ]
    },
    {
      "cell_type": "code",
      "source": [
        "pip freeze"
      ],
      "metadata": {
        "colab": {
          "base_uri": "https://localhost:8080/"
        },
        "id": "NS6ZcskX6Zt2",
        "outputId": "312fc38b-1dde-42a2-a836-5a6df9a4ea8e"
      },
      "execution_count": 15,
      "outputs": [
        {
          "output_type": "stream",
          "name": "stdout",
          "text": [
            "absl-py==1.4.0\n",
            "alabaster==0.7.13\n",
            "albumentations==1.2.1\n",
            "alignn==2023.4.1\n",
            "altair==4.2.2\n",
            "anyio==3.6.2\n",
            "appdirs==1.4.4\n",
            "argon2-cffi==21.3.0\n",
            "argon2-cffi-bindings==21.2.0\n",
            "arviz==0.15.1\n",
            "ase==3.22.1\n",
            "astropy==5.2.2\n",
            "astunparse==1.6.3\n",
            "attrs==23.1.0\n",
            "audioread==3.0.0\n",
            "autograd==1.5\n",
            "Babel==2.12.1\n",
            "backcall==0.2.0\n",
            "beautifulsoup4==4.11.2\n",
            "bleach==6.0.0\n",
            "blis==0.7.9\n",
            "blosc2==2.0.0\n",
            "bokeh==2.4.3\n",
            "branca==0.6.0\n",
            "CacheControl==0.12.11\n",
            "cached-property==1.5.2\n",
            "cachetools==5.3.0\n",
            "catalogue==2.0.8\n",
            "certifi==2022.12.7\n",
            "cffi==1.15.1\n",
            "chardet==4.0.0\n",
            "charset-normalizer==2.0.12\n",
            "chex==0.1.7\n",
            "click==8.1.3\n",
            "cloudpickle==2.2.1\n",
            "cmake==3.25.2\n",
            "cmdstanpy==1.1.0\n",
            "colorcet==3.0.1\n",
            "colorlover==0.3.0\n",
            "community==1.0.0b1\n",
            "confection==0.0.4\n",
            "cons==0.4.5\n",
            "contextlib2==0.6.0.post1\n",
            "contourpy==1.0.7\n",
            "convertdate==2.4.0\n",
            "cryptography==40.0.2\n",
            "cufflinks==0.17.3\n",
            "cvxopt==1.3.0\n",
            "cvxpy==1.3.1\n",
            "cycler==0.11.0\n",
            "cymem==2.0.7\n",
            "Cython==0.29.34\n",
            "dask==2022.12.1\n",
            "datascience==0.17.6\n",
            "db-dtypes==1.1.1\n",
            "dbus-python==1.2.16\n",
            "debugpy==1.6.6\n",
            "decorator==4.4.2\n",
            "defusedxml==0.7.1\n",
            "dgl==1.0.1\n",
            "distributed==2022.12.1\n",
            "dlib==19.24.1\n",
            "dm-tree==0.1.8\n",
            "docutils==0.16\n",
            "dopamine-rl==4.0.6\n",
            "duckdb==0.7.1\n",
            "earthengine-api==0.1.349\n",
            "easydict==1.10\n",
            "ecos==2.0.12\n",
            "editdistance==0.6.2\n",
            "emmet-core==0.50.0\n",
            "en-core-web-sm @ https://github.com/explosion/spacy-models/releases/download/en_core_web_sm-3.5.0/en_core_web_sm-3.5.0-py3-none-any.whl\n",
            "entrypoints==0.4\n",
            "ephem==4.1.4\n",
            "et-xmlfile==1.1.0\n",
            "etils==1.2.0\n",
            "etuples==0.3.8\n",
            "exceptiongroup==1.1.1\n",
            "fastai==2.7.12\n",
            "fastcore==1.5.29\n",
            "fastdownload==0.0.7\n",
            "fastjsonschema==2.16.3\n",
            "fastprogress==1.0.3\n",
            "fastrlock==0.8.1\n",
            "filelock==3.11.0\n",
            "firebase-admin==5.3.0\n",
            "flake8==6.0.0\n",
            "Flask==2.2.3\n",
            "flatbuffers==23.3.3\n",
            "flax==0.6.8\n",
            "folium==0.14.0\n",
            "fonttools==4.39.3\n",
            "frozendict==2.3.7\n",
            "fsspec==2023.4.0\n",
            "future==0.18.3\n",
            "gast==0.4.0\n",
            "GDAL==3.3.2\n",
            "gdown==4.6.6\n",
            "gensim==4.3.1\n",
            "geographiclib==2.0\n",
            "geopy==2.3.0\n",
            "gin-config==0.5.0\n",
            "glob2==0.7\n",
            "google==2.0.3\n",
            "google-api-core==2.11.0\n",
            "google-api-python-client==2.84.0\n",
            "google-auth==2.17.3\n",
            "google-auth-httplib2==0.1.0\n",
            "google-auth-oauthlib==1.0.0\n",
            "google-cloud-bigquery==3.9.0\n",
            "google-cloud-bigquery-storage==2.19.1\n",
            "google-cloud-core==2.3.2\n",
            "google-cloud-datastore==2.15.1\n",
            "google-cloud-firestore==2.11.0\n",
            "google-cloud-language==2.9.1\n",
            "google-cloud-storage==2.8.0\n",
            "google-cloud-translate==3.11.1\n",
            "google-colab @ file:///colabtools/dist/google-colab-1.0.0.tar.gz\n",
            "google-crc32c==1.5.0\n",
            "google-pasta==0.2.0\n",
            "google-resumable-media==2.4.1\n",
            "googleapis-common-protos==1.59.0\n",
            "googledrivedownloader==0.4\n",
            "graphviz==0.20.1\n",
            "greenlet==2.0.2\n",
            "grpcio==1.53.0\n",
            "grpcio-status==1.48.2\n",
            "gspread==3.4.2\n",
            "gspread-dataframe==3.0.8\n",
            "gym==0.25.2\n",
            "gym-notices==0.0.8\n",
            "h5netcdf==1.1.0\n",
            "h5py==3.8.0\n",
            "HeapDict==1.0.1\n",
            "hijri-converter==2.2.4\n",
            "holidays==0.22\n",
            "holoviews==1.15.4\n",
            "html5lib==1.1\n",
            "httpimport==1.3.0\n",
            "httplib2==0.21.0\n",
            "humanize==4.6.0\n",
            "hyperopt==0.2.7\n",
            "idna==3.4\n",
            "imageio==2.25.1\n",
            "imageio-ffmpeg==0.4.8\n",
            "imagesize==1.4.1\n",
            "imbalanced-learn==0.10.1\n",
            "imgaug==0.4.0\n",
            "importlib-metadata==6.4.1\n",
            "importlib-resources==5.12.0\n",
            "imutils==0.5.4\n",
            "inflect==6.0.4\n",
            "iniconfig==2.0.0\n",
            "intel-openmp==2023.1.0\n",
            "ipykernel==5.5.6\n",
            "ipython==7.34.0\n",
            "ipython-genutils==0.2.0\n",
            "ipython-sql==0.4.1\n",
            "ipywidgets==7.7.1\n",
            "itsdangerous==2.1.2\n",
            "jarvis-tools==2023.4.6\n",
            "jax==0.4.8\n",
            "jaxlib @ https://storage.googleapis.com/jax-releases/cuda11/jaxlib-0.4.7+cuda11.cudnn86-cp39-cp39-manylinux2014_x86_64.whl\n",
            "jieba==0.42.1\n",
            "Jinja2==3.1.2\n",
            "joblib==1.2.0\n",
            "jsonpickle==3.0.1\n",
            "jsonschema==4.3.3\n",
            "jupyter-client==6.1.12\n",
            "jupyter-console==6.1.0\n",
            "jupyter-server==1.24.0\n",
            "jupyter_core==5.3.0\n",
            "jupyterlab-pygments==0.2.2\n",
            "jupyterlab-widgets==3.0.7\n",
            "kaggle==1.5.13\n",
            "keras==2.12.0\n",
            "keras-vis==0.4.1\n",
            "kiwisolver==1.4.4\n",
            "korean-lunar-calendar==0.3.1\n",
            "langcodes==3.3.0\n",
            "latexcodec==2.0.1\n",
            "lazy_loader==0.2\n",
            "libclang==16.0.0\n",
            "librosa==0.10.0.post2\n",
            "lightgbm==3.3.5\n",
            "lit==16.0.1\n",
            "llvmlite==0.39.1\n",
            "locket==1.0.0\n",
            "logical-unification==0.4.5\n",
            "LunarCalendar==0.0.9\n",
            "lxml==4.9.2\n",
            "m3gnet==0.2.4\n",
            "Markdown==3.4.3\n",
            "markdown-it-py==2.2.0\n",
            "MarkupSafe==2.1.2\n",
            "matplotlib==3.7.1\n",
            "matplotlib-inline==0.1.6\n",
            "matplotlib-venn==0.11.9\n",
            "mccabe==0.7.0\n",
            "mdurl==0.1.2\n",
            "miniKanren==1.0.3\n",
            "missingno==0.5.2\n",
            "mistune==0.8.4\n",
            "mizani==0.8.1\n",
            "mkl==2019.0\n",
            "ml-dtypes==0.1.0\n",
            "mlxtend==0.14.0\n",
            "monty==2023.4.10\n",
            "more-itertools==9.1.0\n",
            "moviepy==1.0.3\n",
            "mp-api==0.32.0\n",
            "mpmath==1.3.0\n",
            "msgpack==1.0.5\n",
            "multipledispatch==0.6.0\n",
            "multitasking==0.0.11\n",
            "murmurhash==1.0.9\n",
            "music21==8.1.0\n",
            "natsort==8.3.1\n",
            "nbclient==0.7.3\n",
            "nbconvert==6.5.4\n",
            "nbformat==5.8.0\n",
            "nest-asyncio==1.5.6\n",
            "networkx==3.1\n",
            "nibabel==3.0.2\n",
            "nltk==3.8.1\n",
            "notebook==6.4.8\n",
            "numba==0.56.4\n",
            "numexpr==2.8.4\n",
            "numpy==1.22.4\n",
            "oauth2client==4.1.3\n",
            "oauthlib==3.2.2\n",
            "opencv-contrib-python==4.7.0.72\n",
            "opencv-python==4.7.0.72\n",
            "opencv-python-headless==4.7.0.72\n",
            "openpyxl==3.0.10\n",
            "opt-einsum==3.3.0\n",
            "optax==0.1.4\n",
            "orbax==0.1.7\n",
            "osqp==0.6.2.post0\n",
            "packaging==23.1\n",
            "palettable==3.3.2\n",
            "pandas==1.5.3\n",
            "pandas-datareader==0.10.0\n",
            "pandas-gbq==0.17.9\n",
            "pandocfilters==1.5.0\n",
            "panel==0.14.4\n",
            "param==1.13.0\n",
            "parso==0.8.3\n",
            "partd==1.4.0\n",
            "pathlib==1.0.1\n",
            "pathy==0.10.1\n",
            "patsy==0.5.3\n",
            "pep517==0.13.0\n",
            "pexpect==4.8.0\n",
            "pickleshare==0.7.5\n",
            "Pillow==8.4.0\n",
            "pip-tools==6.6.2\n",
            "platformdirs==3.2.0\n",
            "plotly==5.13.1\n",
            "plotnine==0.10.1\n",
            "pluggy==1.0.0\n",
            "polars==0.17.3\n",
            "pooch==1.6.0\n",
            "portpicker==1.3.9\n",
            "prefetch-generator==1.0.3\n",
            "preshed==3.0.8\n",
            "prettytable==0.7.2\n",
            "proglog==0.1.10\n",
            "progressbar2==4.2.0\n",
            "prometheus-client==0.16.0\n",
            "promise==2.3\n",
            "prompt-toolkit==3.0.38\n",
            "prophet==1.1.2\n",
            "proto-plus==1.22.2\n",
            "protobuf==3.20.3\n",
            "psutil==5.9.5\n",
            "psycopg2==2.9.6\n",
            "ptyprocess==0.7.0\n",
            "py-cpuinfo==9.0.0\n",
            "py4j==0.10.9.7\n",
            "pyarrow==9.0.0\n",
            "pyasn1==0.4.8\n",
            "pyasn1-modules==0.2.8\n",
            "pybtex==0.24.0\n",
            "pycocotools==2.0.6\n",
            "pycodestyle==2.10.0\n",
            "pycparser==2.21\n",
            "pyct==0.5.0\n",
            "pydantic==1.10.7\n",
            "pydata-google-auth==1.7.0\n",
            "pydocstyle==6.3.0\n",
            "pydot==1.4.2\n",
            "pydot-ng==2.0.0\n",
            "pydotplus==2.0.2\n",
            "PyDrive==1.3.1\n",
            "pyerfa==2.0.0.3\n",
            "pyflakes==3.0.1\n",
            "pygame==2.3.0\n",
            "Pygments==2.14.0\n",
            "PyGObject==3.36.0\n",
            "pymatgen==2023.3.23\n",
            "pymc==5.1.2\n",
            "PyMeeus==0.5.12\n",
            "pymystem3==0.2.0\n",
            "PyOpenGL==3.1.6\n",
            "pyparsing==2.4.7\n",
            "pyrsistent==0.19.3\n",
            "PySocks==1.7.1\n",
            "pytensor==2.10.1\n",
            "pytest==7.2.2\n",
            "python-apt==0.0.0\n",
            "python-dateutil==2.8.2\n",
            "python-louvain==0.16\n",
            "python-slugify==8.0.1\n",
            "python-utils==3.5.2\n",
            "pytorch-ignite==0.5.0.dev20230424\n",
            "pytz==2022.7.1\n",
            "pytz-deprecation-shim==0.1.0.post0\n",
            "pyviz-comms==2.2.1\n",
            "PyWavelets==1.4.1\n",
            "PyYAML==6.0\n",
            "pyzmq==23.2.1\n",
            "qdldl==0.1.7\n",
            "qudida==0.0.4\n",
            "regex==2022.10.31\n",
            "requests==2.27.1\n",
            "requests-oauthlib==1.3.1\n",
            "requests-unixsocket==0.2.0\n",
            "rich==13.3.4\n",
            "rpy2==3.5.5\n",
            "rsa==4.9\n",
            "ruamel.yaml==0.17.21\n",
            "ruamel.yaml.clib==0.2.7\n",
            "scikit-image==0.19.3\n",
            "scikit-learn==1.2.2\n",
            "scipy==1.10.1\n",
            "scs==3.2.3\n",
            "seaborn==0.12.2\n",
            "Send2Trash==1.8.0\n",
            "shapely==2.0.1\n",
            "six==1.16.0\n",
            "sklearn-pandas==2.2.0\n",
            "smart-open==6.3.0\n",
            "sniffio==1.3.0\n",
            "snowballstemmer==2.2.0\n",
            "sortedcontainers==2.4.0\n",
            "soundfile==0.12.1\n",
            "soupsieve==2.4.1\n",
            "soxr==0.3.5\n",
            "spacy==3.5.2\n",
            "spacy-legacy==3.0.12\n",
            "spacy-loggers==1.0.4\n",
            "spglib==2.0.2\n",
            "Sphinx==3.5.4\n",
            "sphinxcontrib-applehelp==1.0.4\n",
            "sphinxcontrib-devhelp==1.0.2\n",
            "sphinxcontrib-htmlhelp==2.0.1\n",
            "sphinxcontrib-jsmath==1.0.1\n",
            "sphinxcontrib-qthelp==1.0.3\n",
            "sphinxcontrib-serializinghtml==1.1.5\n",
            "SQLAlchemy==2.0.9\n",
            "sqlparse==0.4.3\n",
            "srsly==2.4.6\n",
            "statsmodels==0.13.5\n",
            "sympy==1.11.1\n",
            "tables==3.8.0\n",
            "tabulate==0.8.10\n",
            "tblib==1.7.0\n",
            "tenacity==8.2.2\n",
            "tensorboard==2.12.2\n",
            "tensorboard-data-server==0.7.0\n",
            "tensorboard-plugin-wit==1.8.1\n",
            "tensorflow==2.12.0\n",
            "tensorflow-datasets==4.8.3\n",
            "tensorflow-estimator==2.12.0\n",
            "tensorflow-gcs-config==2.12.0\n",
            "tensorflow-hub==0.13.0\n",
            "tensorflow-io-gcs-filesystem==0.32.0\n",
            "tensorflow-metadata==1.13.1\n",
            "tensorflow-probability==0.19.0\n",
            "tensorstore==0.1.35\n",
            "termcolor==2.2.0\n",
            "terminado==0.17.1\n",
            "text-unidecode==1.3\n",
            "textblob==0.17.1\n",
            "tf-slim==1.1.0\n",
            "thinc==8.1.9\n",
            "threadpoolctl==3.1.0\n",
            "tifffile==2023.4.12\n",
            "tinycss2==1.2.1\n",
            "toml==0.10.2\n",
            "tomli==2.0.1\n",
            "toolz==0.12.0\n",
            "torch @ https://download.pytorch.org/whl/cu118/torch-2.0.0%2Bcu118-cp39-cp39-linux_x86_64.whl\n",
            "torchaudio @ https://download.pytorch.org/whl/cu118/torchaudio-2.0.1%2Bcu118-cp39-cp39-linux_x86_64.whl\n",
            "torchdata==0.6.0\n",
            "torchsummary==1.5.1\n",
            "torchtext==0.15.1\n",
            "torchvision @ https://download.pytorch.org/whl/cu118/torchvision-0.15.1%2Bcu118-cp39-cp39-linux_x86_64.whl\n",
            "tornado==6.2\n",
            "tqdm==4.65.0\n",
            "traitlets==5.7.1\n",
            "triton==2.0.0\n",
            "tweepy==4.13.0\n",
            "typer==0.7.0\n",
            "typing_extensions==4.5.0\n",
            "tzdata==2023.3\n",
            "tzlocal==4.3\n",
            "uncertainties==3.1.7\n",
            "uritemplate==4.1.1\n",
            "urllib3==1.26.15\n",
            "vega-datasets==0.9.0\n",
            "wasabi==1.1.1\n",
            "wcwidth==0.2.6\n",
            "webcolors==1.13\n",
            "webencodings==0.5.1\n",
            "websocket-client==1.5.1\n",
            "Werkzeug==2.2.3\n",
            "widgetsnbextension==3.6.4\n",
            "wordcloud==1.8.2.2\n",
            "wrapt==1.14.1\n",
            "xarray==2022.12.0\n",
            "xarray-einstats==0.5.1\n",
            "xgboost==1.7.5\n",
            "xlrd==2.0.1\n",
            "xmltodict==0.13.0\n",
            "yellowbrick==1.5\n",
            "yfinance==0.2.18\n",
            "zict==2.2.0\n",
            "zipp==3.15.0\n"
          ]
        }
      ]
    },
    {
      "cell_type": "code",
      "source": [],
      "metadata": {
        "id": "qQ9WPmIf8WLM"
      },
      "execution_count": null,
      "outputs": []
    }
  ]
}