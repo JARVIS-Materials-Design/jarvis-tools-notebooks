{
  "nbformat": 4,
  "nbformat_minor": 0,
  "metadata": {
    "colab": {
      "provenance": [],
      "authorship_tag": "ABX9TyNWYzts9rBMPis/vScLJkwB",
      "include_colab_link": true
    },
    "kernelspec": {
      "name": "python3",
      "display_name": "Python 3"
    },
    "language_info": {
      "name": "python"
    }
  },
  "cells": [
    {
      "cell_type": "markdown",
      "metadata": {
        "id": "view-in-github",
        "colab_type": "text"
      },
      "source": [
        "<a href=\"https://colab.research.google.com/github/knc6/jarvis-tools-notebooks/blob/master/jarvis-tools-notebooks/kgcnn_jarvis_leaderboard.ipynb\" target=\"_parent\"><img src=\"https://colab.research.google.com/assets/colab-badge.svg\" alt=\"Open In Colab\"/></a>"
      ]
    },
    {
      "cell_type": "markdown",
      "source": [
        "Install jarvis_leaderboard"
      ],
      "metadata": {
        "id": "Xbo_Fvx4L0N7"
      }
    },
    {
      "cell_type": "code",
      "execution_count": 1,
      "metadata": {
        "colab": {
          "base_uri": "https://localhost:8080/"
        },
        "id": "e7ccy1ysLBV5",
        "outputId": "03402838-a33d-4437-9ad3-9a015355bcf7"
      },
      "outputs": [
        {
          "output_type": "stream",
          "name": "stdout",
          "text": [
            "Looking in indexes: https://pypi.org/simple, https://us-python.pkg.dev/colab-wheels/public/simple/\n",
            "Requirement already satisfied: jarvis_leaderboard in /usr/local/lib/python3.9/dist-packages (2023.4.24)\n",
            "Requirement already satisfied: jarvis-tools>=2021.07.19 in /usr/local/lib/python3.9/dist-packages (from jarvis_leaderboard) (2023.4.6)\n",
            "Requirement already satisfied: numpy>=1.19.5 in /usr/local/lib/python3.9/dist-packages (from jarvis_leaderboard) (1.23.5)\n",
            "Requirement already satisfied: mkdocs-material>=9.0.5 in /usr/local/lib/python3.9/dist-packages (from jarvis_leaderboard) (9.1.7)\n",
            "Requirement already satisfied: pydantic>=1.8.1 in /usr/local/lib/python3.9/dist-packages (from jarvis_leaderboard) (1.10.7)\n",
            "Collecting pandas==1.2.4\n",
            "  Using cached pandas-1.2.4-cp39-cp39-manylinux1_x86_64.whl (9.7 MB)\n",
            "Requirement already satisfied: scipy>=1.6.3 in /usr/local/lib/python3.9/dist-packages (from jarvis_leaderboard) (1.10.1)\n",
            "Requirement already satisfied: scikit-learn>=0.24.1 in /usr/local/lib/python3.9/dist-packages (from jarvis_leaderboard) (1.2.2)\n",
            "Requirement already satisfied: markdown==3.2.1 in /usr/local/lib/python3.9/dist-packages (from jarvis_leaderboard) (3.2.1)\n",
            "Requirement already satisfied: setuptools>=36 in /usr/local/lib/python3.9/dist-packages (from markdown==3.2.1->jarvis_leaderboard) (67.7.1)\n",
            "Requirement already satisfied: python-dateutil>=2.7.3 in /usr/local/lib/python3.9/dist-packages (from pandas==1.2.4->jarvis_leaderboard) (2.8.2)\n",
            "Requirement already satisfied: pytz>=2017.3 in /usr/local/lib/python3.9/dist-packages (from pandas==1.2.4->jarvis_leaderboard) (2022.7.1)\n",
            "Requirement already satisfied: matplotlib>=3.0.0 in /usr/local/lib/python3.9/dist-packages (from jarvis-tools>=2021.07.19->jarvis_leaderboard) (3.7.1)\n",
            "Requirement already satisfied: joblib>=0.14.1 in /usr/local/lib/python3.9/dist-packages (from jarvis-tools>=2021.07.19->jarvis_leaderboard) (1.2.0)\n",
            "Requirement already satisfied: spglib>=1.14.1 in /usr/local/lib/python3.9/dist-packages (from jarvis-tools>=2021.07.19->jarvis_leaderboard) (2.0.2)\n",
            "Requirement already satisfied: requests>=2.23.0 in /usr/local/lib/python3.9/dist-packages (from jarvis-tools>=2021.07.19->jarvis_leaderboard) (2.28.2)\n",
            "Requirement already satisfied: toolz>=0.9.0 in /usr/local/lib/python3.9/dist-packages (from jarvis-tools>=2021.07.19->jarvis_leaderboard) (0.12.0)\n",
            "Requirement already satisfied: xmltodict>=0.11.0 in /usr/local/lib/python3.9/dist-packages (from jarvis-tools>=2021.07.19->jarvis_leaderboard) (0.13.0)\n",
            "Requirement already satisfied: tqdm>=4.41.1 in /usr/local/lib/python3.9/dist-packages (from jarvis-tools>=2021.07.19->jarvis_leaderboard) (4.65.0)\n",
            "Requirement already satisfied: pymdown-extensions>=9.9.1 in /usr/local/lib/python3.9/dist-packages (from mkdocs-material>=9.0.5->jarvis_leaderboard) (9.11)\n",
            "Requirement already satisfied: mkdocs-material-extensions>=1.1 in /usr/local/lib/python3.9/dist-packages (from mkdocs-material>=9.0.5->jarvis_leaderboard) (1.1.1)\n",
            "Requirement already satisfied: colorama>=0.4 in /usr/local/lib/python3.9/dist-packages (from mkdocs-material>=9.0.5->jarvis_leaderboard) (0.4.6)\n",
            "Requirement already satisfied: regex>=2022.4.24 in /usr/local/lib/python3.9/dist-packages (from mkdocs-material>=9.0.5->jarvis_leaderboard) (2022.10.31)\n",
            "Requirement already satisfied: jinja2>=3.0 in /usr/local/lib/python3.9/dist-packages (from mkdocs-material>=9.0.5->jarvis_leaderboard) (3.1.2)\n",
            "Requirement already satisfied: mkdocs>=1.4.2 in /usr/local/lib/python3.9/dist-packages (from mkdocs-material>=9.0.5->jarvis_leaderboard) (1.4.2)\n",
            "Requirement already satisfied: pygments>=2.14 in /usr/local/lib/python3.9/dist-packages (from mkdocs-material>=9.0.5->jarvis_leaderboard) (2.14.0)\n",
            "Requirement already satisfied: typing-extensions>=4.2.0 in /usr/local/lib/python3.9/dist-packages (from pydantic>=1.8.1->jarvis_leaderboard) (4.5.0)\n",
            "Requirement already satisfied: threadpoolctl>=2.0.0 in /usr/local/lib/python3.9/dist-packages (from scikit-learn>=0.24.1->jarvis_leaderboard) (3.1.0)\n",
            "Requirement already satisfied: MarkupSafe>=2.0 in /usr/local/lib/python3.9/dist-packages (from jinja2>=3.0->mkdocs-material>=9.0.5->jarvis_leaderboard) (2.1.2)\n",
            "Requirement already satisfied: fonttools>=4.22.0 in /usr/local/lib/python3.9/dist-packages (from matplotlib>=3.0.0->jarvis-tools>=2021.07.19->jarvis_leaderboard) (4.39.3)\n",
            "Requirement already satisfied: packaging>=20.0 in /usr/local/lib/python3.9/dist-packages (from matplotlib>=3.0.0->jarvis-tools>=2021.07.19->jarvis_leaderboard) (23.1)\n",
            "Requirement already satisfied: cycler>=0.10 in /usr/local/lib/python3.9/dist-packages (from matplotlib>=3.0.0->jarvis-tools>=2021.07.19->jarvis_leaderboard) (0.11.0)\n",
            "Requirement already satisfied: pyparsing>=2.3.1 in /usr/local/lib/python3.9/dist-packages (from matplotlib>=3.0.0->jarvis-tools>=2021.07.19->jarvis_leaderboard) (3.0.9)\n",
            "Requirement already satisfied: kiwisolver>=1.0.1 in /usr/local/lib/python3.9/dist-packages (from matplotlib>=3.0.0->jarvis-tools>=2021.07.19->jarvis_leaderboard) (1.4.4)\n",
            "Requirement already satisfied: contourpy>=1.0.1 in /usr/local/lib/python3.9/dist-packages (from matplotlib>=3.0.0->jarvis-tools>=2021.07.19->jarvis_leaderboard) (1.0.7)\n",
            "Requirement already satisfied: importlib-resources>=3.2.0 in /usr/local/lib/python3.9/dist-packages (from matplotlib>=3.0.0->jarvis-tools>=2021.07.19->jarvis_leaderboard) (5.12.0)\n",
            "Requirement already satisfied: pillow>=6.2.0 in /usr/local/lib/python3.9/dist-packages (from matplotlib>=3.0.0->jarvis-tools>=2021.07.19->jarvis_leaderboard) (8.4.0)\n",
            "Requirement already satisfied: importlib-metadata>=4.3 in /usr/local/lib/python3.9/dist-packages (from mkdocs>=1.4.2->mkdocs-material>=9.0.5->jarvis_leaderboard) (6.4.1)\n",
            "Requirement already satisfied: ghp-import>=1.0 in /usr/local/lib/python3.9/dist-packages (from mkdocs>=1.4.2->mkdocs-material>=9.0.5->jarvis_leaderboard) (2.1.0)\n",
            "Requirement already satisfied: pyyaml-env-tag>=0.1 in /usr/local/lib/python3.9/dist-packages (from mkdocs>=1.4.2->mkdocs-material>=9.0.5->jarvis_leaderboard) (0.1)\n",
            "Requirement already satisfied: watchdog>=2.0 in /usr/local/lib/python3.9/dist-packages (from mkdocs>=1.4.2->mkdocs-material>=9.0.5->jarvis_leaderboard) (3.0.0)\n",
            "Requirement already satisfied: click>=7.0 in /usr/local/lib/python3.9/dist-packages (from mkdocs>=1.4.2->mkdocs-material>=9.0.5->jarvis_leaderboard) (8.1.3)\n",
            "Requirement already satisfied: mergedeep>=1.3.4 in /usr/local/lib/python3.9/dist-packages (from mkdocs>=1.4.2->mkdocs-material>=9.0.5->jarvis_leaderboard) (1.3.4)\n",
            "Requirement already satisfied: pyyaml>=5.1 in /usr/local/lib/python3.9/dist-packages (from mkdocs>=1.4.2->mkdocs-material>=9.0.5->jarvis_leaderboard) (6.0)\n",
            "Requirement already satisfied: six>=1.5 in /usr/local/lib/python3.9/dist-packages (from python-dateutil>=2.7.3->pandas==1.2.4->jarvis_leaderboard) (1.16.0)\n",
            "Requirement already satisfied: charset-normalizer<4,>=2 in /usr/local/lib/python3.9/dist-packages (from requests>=2.23.0->jarvis-tools>=2021.07.19->jarvis_leaderboard) (2.0.12)\n",
            "Requirement already satisfied: idna<4,>=2.5 in /usr/local/lib/python3.9/dist-packages (from requests>=2.23.0->jarvis-tools>=2021.07.19->jarvis_leaderboard) (3.4)\n",
            "Requirement already satisfied: certifi>=2017.4.17 in /usr/local/lib/python3.9/dist-packages (from requests>=2.23.0->jarvis-tools>=2021.07.19->jarvis_leaderboard) (2022.12.7)\n",
            "Requirement already satisfied: urllib3<1.27,>=1.21.1 in /usr/local/lib/python3.9/dist-packages (from requests>=2.23.0->jarvis-tools>=2021.07.19->jarvis_leaderboard) (1.26.15)\n",
            "Requirement already satisfied: zipp>=0.5 in /usr/local/lib/python3.9/dist-packages (from importlib-metadata>=4.3->mkdocs>=1.4.2->mkdocs-material>=9.0.5->jarvis_leaderboard) (3.15.0)\n",
            "Installing collected packages: pandas\n",
            "  Attempting uninstall: pandas\n",
            "    Found existing installation: pandas 2.0.1\n",
            "    Uninstalling pandas-2.0.1:\n",
            "      Successfully uninstalled pandas-2.0.1\n",
            "\u001b[31mERROR: pip's dependency resolver does not currently take into account all the packages that are installed. This behaviour is the source of the following dependency conflicts.\n",
            "yfinance 0.2.18 requires pandas>=1.3.0, but you have pandas 1.2.4 which is incompatible.\n",
            "xarray 2022.12.0 requires pandas>=1.3, but you have pandas 1.2.4 which is incompatible.\n",
            "plotnine 0.10.1 requires pandas>=1.3.5, but you have pandas 1.2.4 which is incompatible.\n",
            "mizani 0.8.1 requires pandas>=1.3.5, but you have pandas 1.2.4 which is incompatible.\n",
            "google-colab 1.0.0 requires pandas~=1.5.3, but you have pandas 1.2.4 which is incompatible.\n",
            "arviz 0.15.1 requires pandas>=1.3.0, but you have pandas 1.2.4 which is incompatible.\n",
            "kgcnn 3.0.1 requires pandas>=1.5.2, but you have pandas 1.2.4 which is incompatible.\u001b[0m\u001b[31m\n",
            "\u001b[0mSuccessfully installed pandas-1.2.4\n"
          ]
        }
      ],
      "source": [
        "pip install  jarvis_leaderboard"
      ]
    },
    {
      "cell_type": "markdown",
      "source": [
        "Install kgcnn"
      ],
      "metadata": {
        "id": "kf9mPc0IL5Ae"
      }
    },
    {
      "cell_type": "code",
      "source": [
        "import os\n",
        "if not os.path.exists('gcnn_keras'):\n",
        "  !git clone https://github.com/aimat-lab/gcnn_keras.git"
      ],
      "metadata": {
        "id": "wTyHWpjvLHxi"
      },
      "execution_count": 2,
      "outputs": []
    },
    {
      "cell_type": "code",
      "source": [
        "!pip install -e ./gcnn_keras"
      ],
      "metadata": {
        "colab": {
          "base_uri": "https://localhost:8080/"
        },
        "id": "zXLJue9VLqG_",
        "outputId": "b4c25b40-1c90-4a8e-84a8-6421e456ecfd"
      },
      "execution_count": 3,
      "outputs": [
        {
          "output_type": "stream",
          "name": "stdout",
          "text": [
            "Looking in indexes: https://pypi.org/simple, https://us-python.pkg.dev/colab-wheels/public/simple/\n",
            "Obtaining file:///content/gcnn_keras\n",
            "  Preparing metadata (setup.py) ... \u001b[?25l\u001b[?25hdone\n",
            "Requirement already satisfied: numpy>=1.23.0 in /usr/local/lib/python3.9/dist-packages (from kgcnn==3.0.1) (1.23.5)\n",
            "Requirement already satisfied: scikit-learn>=1.1.3 in /usr/local/lib/python3.9/dist-packages (from kgcnn==3.0.1) (1.2.2)\n",
            "Collecting pandas>=1.5.2\n",
            "  Using cached pandas-2.0.1-cp39-cp39-manylinux_2_17_x86_64.manylinux2014_x86_64.whl (12.4 MB)\n",
            "Requirement already satisfied: scipy>=1.9.3 in /usr/local/lib/python3.9/dist-packages (from kgcnn==3.0.1) (1.10.1)\n",
            "Requirement already satisfied: matplotlib>=3.6.0 in /usr/local/lib/python3.9/dist-packages (from kgcnn==3.0.1) (3.7.1)\n",
            "Requirement already satisfied: rdkit>=2022.9.2 in /usr/local/lib/python3.9/dist-packages (from kgcnn==3.0.1) (2022.9.5)\n",
            "Requirement already satisfied: pymatgen>=2022.11.7 in /usr/local/lib/python3.9/dist-packages (from kgcnn==3.0.1) (2023.3.23)\n",
            "Requirement already satisfied: tensorflow>=2.9.0 in /usr/local/lib/python3.9/dist-packages (from kgcnn==3.0.1) (2.12.0)\n",
            "Requirement already satisfied: tensorflow-addons>=0.18.0 in /usr/local/lib/python3.9/dist-packages (from kgcnn==3.0.1) (0.20.0)\n",
            "Requirement already satisfied: keras-tuner>=1.1.3 in /usr/local/lib/python3.9/dist-packages (from kgcnn==3.0.1) (1.3.5)\n",
            "Requirement already satisfied: requests>=2.28.1 in /usr/local/lib/python3.9/dist-packages (from kgcnn==3.0.1) (2.28.2)\n",
            "Requirement already satisfied: networkx>=2.8.8 in /usr/local/lib/python3.9/dist-packages (from kgcnn==3.0.1) (3.1)\n",
            "Requirement already satisfied: sympy>=1.11.1 in /usr/local/lib/python3.9/dist-packages (from kgcnn==3.0.1) (1.11.1)\n",
            "Requirement already satisfied: pyyaml>=6.0 in /usr/local/lib/python3.9/dist-packages (from kgcnn==3.0.1) (6.0)\n",
            "Requirement already satisfied: ase>=3.22.1 in /usr/local/lib/python3.9/dist-packages (from kgcnn==3.0.1) (3.22.1)\n",
            "Requirement already satisfied: click>=7.1.2 in /usr/local/lib/python3.9/dist-packages (from kgcnn==3.0.1) (8.1.3)\n",
            "Requirement already satisfied: brotli>=1.0.9 in /usr/local/lib/python3.9/dist-packages (from kgcnn==3.0.1) (1.0.9)\n",
            "Requirement already satisfied: pyxtal>=0.5.5 in /usr/local/lib/python3.9/dist-packages (from kgcnn==3.0.1) (0.5.5)\n",
            "Requirement already satisfied: kt-legacy in /usr/local/lib/python3.9/dist-packages (from keras-tuner>=1.1.3->kgcnn==3.0.1) (1.0.5)\n",
            "Requirement already satisfied: packaging in /usr/local/lib/python3.9/dist-packages (from keras-tuner>=1.1.3->kgcnn==3.0.1) (23.1)\n",
            "Requirement already satisfied: python-dateutil>=2.7 in /usr/local/lib/python3.9/dist-packages (from matplotlib>=3.6.0->kgcnn==3.0.1) (2.8.2)\n",
            "Requirement already satisfied: contourpy>=1.0.1 in /usr/local/lib/python3.9/dist-packages (from matplotlib>=3.6.0->kgcnn==3.0.1) (1.0.7)\n",
            "Requirement already satisfied: pyparsing>=2.3.1 in /usr/local/lib/python3.9/dist-packages (from matplotlib>=3.6.0->kgcnn==3.0.1) (3.0.9)\n",
            "Requirement already satisfied: pillow>=6.2.0 in /usr/local/lib/python3.9/dist-packages (from matplotlib>=3.6.0->kgcnn==3.0.1) (8.4.0)\n",
            "Requirement already satisfied: kiwisolver>=1.0.1 in /usr/local/lib/python3.9/dist-packages (from matplotlib>=3.6.0->kgcnn==3.0.1) (1.4.4)\n",
            "Requirement already satisfied: importlib-resources>=3.2.0 in /usr/local/lib/python3.9/dist-packages (from matplotlib>=3.6.0->kgcnn==3.0.1) (5.12.0)\n",
            "Requirement already satisfied: fonttools>=4.22.0 in /usr/local/lib/python3.9/dist-packages (from matplotlib>=3.6.0->kgcnn==3.0.1) (4.39.3)\n",
            "Requirement already satisfied: cycler>=0.10 in /usr/local/lib/python3.9/dist-packages (from matplotlib>=3.6.0->kgcnn==3.0.1) (0.11.0)\n",
            "Requirement already satisfied: pytz>=2020.1 in /usr/local/lib/python3.9/dist-packages (from pandas>=1.5.2->kgcnn==3.0.1) (2022.7.1)\n",
            "Requirement already satisfied: tzdata>=2022.1 in /usr/local/lib/python3.9/dist-packages (from pandas>=1.5.2->kgcnn==3.0.1) (2023.3)\n",
            "Requirement already satisfied: mp-api>=0.27.3 in /usr/local/lib/python3.9/dist-packages (from pymatgen>=2022.11.7->kgcnn==3.0.1) (0.32.0)\n",
            "Requirement already satisfied: uncertainties>=3.1.4 in /usr/local/lib/python3.9/dist-packages (from pymatgen>=2022.11.7->kgcnn==3.0.1) (3.1.7)\n",
            "Requirement already satisfied: spglib>=2.0.2 in /usr/local/lib/python3.9/dist-packages (from pymatgen>=2022.11.7->kgcnn==3.0.1) (2.0.2)\n",
            "Requirement already satisfied: monty>=3.0.2 in /usr/local/lib/python3.9/dist-packages (from pymatgen>=2022.11.7->kgcnn==3.0.1) (2023.4.10)\n",
            "Requirement already satisfied: ruamel.yaml>=0.17.0 in /usr/local/lib/python3.9/dist-packages (from pymatgen>=2022.11.7->kgcnn==3.0.1) (0.17.21)\n",
            "Requirement already satisfied: pybtex in /usr/local/lib/python3.9/dist-packages (from pymatgen>=2022.11.7->kgcnn==3.0.1) (0.24.0)\n",
            "Requirement already satisfied: tqdm in /usr/local/lib/python3.9/dist-packages (from pymatgen>=2022.11.7->kgcnn==3.0.1) (4.65.0)\n",
            "Requirement already satisfied: tabulate in /usr/local/lib/python3.9/dist-packages (from pymatgen>=2022.11.7->kgcnn==3.0.1) (0.8.10)\n",
            "Requirement already satisfied: plotly>=4.5.0 in /usr/local/lib/python3.9/dist-packages (from pymatgen>=2022.11.7->kgcnn==3.0.1) (5.13.1)\n",
            "Requirement already satisfied: palettable>=3.1.1 in /usr/local/lib/python3.9/dist-packages (from pymatgen>=2022.11.7->kgcnn==3.0.1) (3.3.2)\n",
            "Requirement already satisfied: pyshtools==4.10 in /usr/local/lib/python3.9/dist-packages (from pyxtal>=0.5.5->kgcnn==3.0.1) (4.10)\n",
            "Requirement already satisfied: numba>=0.55.2 in /usr/local/lib/python3.9/dist-packages (from pyxtal>=0.5.5->kgcnn==3.0.1) (0.56.4)\n",
            "Requirement already satisfied: importlib-metadata>=1.4 in /usr/local/lib/python3.9/dist-packages (from pyxtal>=0.5.5->kgcnn==3.0.1) (6.4.1)\n",
            "Requirement already satisfied: py3Dmol>=0.8.0 in /usr/local/lib/python3.9/dist-packages (from pyxtal>=0.5.5->kgcnn==3.0.1) (2.0.1.post1)\n",
            "Requirement already satisfied: xarray in /usr/local/lib/python3.9/dist-packages (from pyshtools==4.10->pyxtal>=0.5.5->kgcnn==3.0.1) (2022.12.0)\n",
            "Requirement already satisfied: astropy>=4.0 in /usr/local/lib/python3.9/dist-packages (from pyshtools==4.10->pyxtal>=0.5.5->kgcnn==3.0.1) (5.2.2)\n",
            "Requirement already satisfied: pooch>=1.1 in /usr/local/lib/python3.9/dist-packages (from pyshtools==4.10->pyxtal>=0.5.5->kgcnn==3.0.1) (1.6.0)\n",
            "Requirement already satisfied: certifi>=2017.4.17 in /usr/local/lib/python3.9/dist-packages (from requests>=2.28.1->kgcnn==3.0.1) (2022.12.7)\n",
            "Requirement already satisfied: idna<4,>=2.5 in /usr/local/lib/python3.9/dist-packages (from requests>=2.28.1->kgcnn==3.0.1) (3.4)\n",
            "Requirement already satisfied: urllib3<1.27,>=1.21.1 in /usr/local/lib/python3.9/dist-packages (from requests>=2.28.1->kgcnn==3.0.1) (1.26.15)\n",
            "Requirement already satisfied: charset-normalizer<4,>=2 in /usr/local/lib/python3.9/dist-packages (from requests>=2.28.1->kgcnn==3.0.1) (2.0.12)\n",
            "Requirement already satisfied: threadpoolctl>=2.0.0 in /usr/local/lib/python3.9/dist-packages (from scikit-learn>=1.1.3->kgcnn==3.0.1) (3.1.0)\n",
            "Requirement already satisfied: joblib>=1.1.1 in /usr/local/lib/python3.9/dist-packages (from scikit-learn>=1.1.3->kgcnn==3.0.1) (1.2.0)\n",
            "Requirement already satisfied: mpmath>=0.19 in /usr/local/lib/python3.9/dist-packages (from sympy>=1.11.1->kgcnn==3.0.1) (1.3.0)\n",
            "Requirement already satisfied: tensorflow-estimator<2.13,>=2.12.0 in /usr/local/lib/python3.9/dist-packages (from tensorflow>=2.9.0->kgcnn==3.0.1) (2.12.0)\n",
            "Requirement already satisfied: gast<=0.4.0,>=0.2.1 in /usr/local/lib/python3.9/dist-packages (from tensorflow>=2.9.0->kgcnn==3.0.1) (0.4.0)\n",
            "Requirement already satisfied: protobuf!=4.21.0,!=4.21.1,!=4.21.2,!=4.21.3,!=4.21.4,!=4.21.5,<5.0.0dev,>=3.20.3 in /usr/local/lib/python3.9/dist-packages (from tensorflow>=2.9.0->kgcnn==3.0.1) (3.20.3)\n",
            "Requirement already satisfied: keras<2.13,>=2.12.0 in /usr/local/lib/python3.9/dist-packages (from tensorflow>=2.9.0->kgcnn==3.0.1) (2.12.0)\n",
            "Requirement already satisfied: tensorboard<2.13,>=2.12 in /usr/local/lib/python3.9/dist-packages (from tensorflow>=2.9.0->kgcnn==3.0.1) (2.12.2)\n",
            "Requirement already satisfied: grpcio<2.0,>=1.24.3 in /usr/local/lib/python3.9/dist-packages (from tensorflow>=2.9.0->kgcnn==3.0.1) (1.53.0)\n",
            "Requirement already satisfied: absl-py>=1.0.0 in /usr/local/lib/python3.9/dist-packages (from tensorflow>=2.9.0->kgcnn==3.0.1) (1.4.0)\n",
            "Requirement already satisfied: jax>=0.3.15 in /usr/local/lib/python3.9/dist-packages (from tensorflow>=2.9.0->kgcnn==3.0.1) (0.4.8)\n",
            "Requirement already satisfied: typing-extensions>=3.6.6 in /usr/local/lib/python3.9/dist-packages (from tensorflow>=2.9.0->kgcnn==3.0.1) (4.5.0)\n",
            "Requirement already satisfied: wrapt<1.15,>=1.11.0 in /usr/local/lib/python3.9/dist-packages (from tensorflow>=2.9.0->kgcnn==3.0.1) (1.14.1)\n",
            "Requirement already satisfied: flatbuffers>=2.0 in /usr/local/lib/python3.9/dist-packages (from tensorflow>=2.9.0->kgcnn==3.0.1) (23.3.3)\n",
            "Requirement already satisfied: google-pasta>=0.1.1 in /usr/local/lib/python3.9/dist-packages (from tensorflow>=2.9.0->kgcnn==3.0.1) (0.2.0)\n",
            "Requirement already satisfied: termcolor>=1.1.0 in /usr/local/lib/python3.9/dist-packages (from tensorflow>=2.9.0->kgcnn==3.0.1) (2.2.0)\n",
            "Requirement already satisfied: six>=1.12.0 in /usr/local/lib/python3.9/dist-packages (from tensorflow>=2.9.0->kgcnn==3.0.1) (1.16.0)\n",
            "Requirement already satisfied: astunparse>=1.6.0 in /usr/local/lib/python3.9/dist-packages (from tensorflow>=2.9.0->kgcnn==3.0.1) (1.6.3)\n",
            "Requirement already satisfied: setuptools in /usr/local/lib/python3.9/dist-packages (from tensorflow>=2.9.0->kgcnn==3.0.1) (67.7.1)\n",
            "Requirement already satisfied: opt-einsum>=2.3.2 in /usr/local/lib/python3.9/dist-packages (from tensorflow>=2.9.0->kgcnn==3.0.1) (3.3.0)\n",
            "Requirement already satisfied: tensorflow-io-gcs-filesystem>=0.23.1 in /usr/local/lib/python3.9/dist-packages (from tensorflow>=2.9.0->kgcnn==3.0.1) (0.32.0)\n",
            "Requirement already satisfied: h5py>=2.9.0 in /usr/local/lib/python3.9/dist-packages (from tensorflow>=2.9.0->kgcnn==3.0.1) (3.8.0)\n",
            "Requirement already satisfied: libclang>=13.0.0 in /usr/local/lib/python3.9/dist-packages (from tensorflow>=2.9.0->kgcnn==3.0.1) (16.0.0)\n",
            "Requirement already satisfied: typeguard<3.0.0,>=2.7 in /usr/local/lib/python3.9/dist-packages (from tensorflow-addons>=0.18.0->kgcnn==3.0.1) (2.13.3)\n",
            "Requirement already satisfied: wheel<1.0,>=0.23.0 in /usr/local/lib/python3.9/dist-packages (from astunparse>=1.6.0->tensorflow>=2.9.0->kgcnn==3.0.1) (0.40.0)\n",
            "Requirement already satisfied: zipp>=0.5 in /usr/local/lib/python3.9/dist-packages (from importlib-metadata>=1.4->pyxtal>=0.5.5->kgcnn==3.0.1) (3.15.0)\n",
            "Requirement already satisfied: ml-dtypes>=0.0.3 in /usr/local/lib/python3.9/dist-packages (from jax>=0.3.15->tensorflow>=2.9.0->kgcnn==3.0.1) (0.1.0)\n",
            "Requirement already satisfied: emmet-core<=0.50.0 in /usr/local/lib/python3.9/dist-packages (from mp-api>=0.27.3->pymatgen>=2022.11.7->kgcnn==3.0.1) (0.50.0)\n",
            "Requirement already satisfied: msgpack in /usr/local/lib/python3.9/dist-packages (from mp-api>=0.27.3->pymatgen>=2022.11.7->kgcnn==3.0.1) (1.0.5)\n",
            "Requirement already satisfied: llvmlite<0.40,>=0.39.0dev0 in /usr/local/lib/python3.9/dist-packages (from numba>=0.55.2->pyxtal>=0.5.5->kgcnn==3.0.1) (0.39.1)\n",
            "Requirement already satisfied: tenacity>=6.2.0 in /usr/local/lib/python3.9/dist-packages (from plotly>=4.5.0->pymatgen>=2022.11.7->kgcnn==3.0.1) (8.2.2)\n",
            "Requirement already satisfied: ruamel.yaml.clib>=0.2.6 in /usr/local/lib/python3.9/dist-packages (from ruamel.yaml>=0.17.0->pymatgen>=2022.11.7->kgcnn==3.0.1) (0.2.7)\n",
            "Requirement already satisfied: werkzeug>=1.0.1 in /usr/local/lib/python3.9/dist-packages (from tensorboard<2.13,>=2.12->tensorflow>=2.9.0->kgcnn==3.0.1) (2.2.3)\n",
            "Requirement already satisfied: google-auth<3,>=1.6.3 in /usr/local/lib/python3.9/dist-packages (from tensorboard<2.13,>=2.12->tensorflow>=2.9.0->kgcnn==3.0.1) (2.17.3)\n",
            "Requirement already satisfied: tensorboard-plugin-wit>=1.6.0 in /usr/local/lib/python3.9/dist-packages (from tensorboard<2.13,>=2.12->tensorflow>=2.9.0->kgcnn==3.0.1) (1.8.1)\n",
            "Requirement already satisfied: markdown>=2.6.8 in /usr/local/lib/python3.9/dist-packages (from tensorboard<2.13,>=2.12->tensorflow>=2.9.0->kgcnn==3.0.1) (3.2.1)\n",
            "Requirement already satisfied: google-auth-oauthlib<1.1,>=0.5 in /usr/local/lib/python3.9/dist-packages (from tensorboard<2.13,>=2.12->tensorflow>=2.9.0->kgcnn==3.0.1) (1.0.0)\n",
            "Requirement already satisfied: tensorboard-data-server<0.8.0,>=0.7.0 in /usr/local/lib/python3.9/dist-packages (from tensorboard<2.13,>=2.12->tensorflow>=2.9.0->kgcnn==3.0.1) (0.7.0)\n",
            "Requirement already satisfied: future in /usr/local/lib/python3.9/dist-packages (from uncertainties>=3.1.4->pymatgen>=2022.11.7->kgcnn==3.0.1) (0.18.3)\n",
            "Requirement already satisfied: latexcodec>=1.0.4 in /usr/local/lib/python3.9/dist-packages (from pybtex->pymatgen>=2022.11.7->kgcnn==3.0.1) (2.0.1)\n",
            "Requirement already satisfied: pyerfa>=2.0 in /usr/local/lib/python3.9/dist-packages (from astropy>=4.0->pyshtools==4.10->pyxtal>=0.5.5->kgcnn==3.0.1) (2.0.0.3)\n",
            "Requirement already satisfied: pydantic>=1.10.2 in /usr/local/lib/python3.9/dist-packages (from emmet-core<=0.50.0->mp-api>=0.27.3->pymatgen>=2022.11.7->kgcnn==3.0.1) (1.10.7)\n",
            "Requirement already satisfied: cachetools<6.0,>=2.0.0 in /usr/local/lib/python3.9/dist-packages (from google-auth<3,>=1.6.3->tensorboard<2.13,>=2.12->tensorflow>=2.9.0->kgcnn==3.0.1) (5.3.0)\n",
            "Requirement already satisfied: pyasn1-modules>=0.2.1 in /usr/local/lib/python3.9/dist-packages (from google-auth<3,>=1.6.3->tensorboard<2.13,>=2.12->tensorflow>=2.9.0->kgcnn==3.0.1) (0.2.8)\n",
            "Requirement already satisfied: rsa<5,>=3.1.4 in /usr/local/lib/python3.9/dist-packages (from google-auth<3,>=1.6.3->tensorboard<2.13,>=2.12->tensorflow>=2.9.0->kgcnn==3.0.1) (4.9)\n",
            "Requirement already satisfied: requests-oauthlib>=0.7.0 in /usr/local/lib/python3.9/dist-packages (from google-auth-oauthlib<1.1,>=0.5->tensorboard<2.13,>=2.12->tensorflow>=2.9.0->kgcnn==3.0.1) (1.3.1)\n",
            "Requirement already satisfied: appdirs>=1.3.0 in /usr/local/lib/python3.9/dist-packages (from pooch>=1.1->pyshtools==4.10->pyxtal>=0.5.5->kgcnn==3.0.1) (1.4.4)\n",
            "Requirement already satisfied: MarkupSafe>=2.1.1 in /usr/local/lib/python3.9/dist-packages (from werkzeug>=1.0.1->tensorboard<2.13,>=2.12->tensorflow>=2.9.0->kgcnn==3.0.1) (2.1.2)\n",
            "Requirement already satisfied: pyasn1<0.5.0,>=0.4.6 in /usr/local/lib/python3.9/dist-packages (from pyasn1-modules>=0.2.1->google-auth<3,>=1.6.3->tensorboard<2.13,>=2.12->tensorflow>=2.9.0->kgcnn==3.0.1) (0.4.8)\n",
            "Requirement already satisfied: oauthlib>=3.0.0 in /usr/local/lib/python3.9/dist-packages (from requests-oauthlib>=0.7.0->google-auth-oauthlib<1.1,>=0.5->tensorboard<2.13,>=2.12->tensorflow>=2.9.0->kgcnn==3.0.1) (3.2.2)\n",
            "Installing collected packages: pandas, kgcnn\n",
            "  Attempting uninstall: pandas\n",
            "    Found existing installation: pandas 1.2.4\n",
            "    Uninstalling pandas-1.2.4:\n",
            "      Successfully uninstalled pandas-1.2.4\n",
            "  Attempting uninstall: kgcnn\n",
            "    Found existing installation: kgcnn 3.0.1\n",
            "    Can't uninstall 'kgcnn'. No files were found to uninstall.\n",
            "  Running setup.py develop for kgcnn\n",
            "\u001b[31mERROR: pip's dependency resolver does not currently take into account all the packages that are installed. This behaviour is the source of the following dependency conflicts.\n",
            "jarvis-leaderboard 2023.4.24 requires pandas==1.2.4, but you have pandas 2.0.1 which is incompatible.\n",
            "google-colab 1.0.0 requires pandas~=1.5.3, but you have pandas 2.0.1 which is incompatible.\u001b[0m\u001b[31m\n",
            "\u001b[0mSuccessfully installed kgcnn-3.0.1 pandas-2.0.1\n"
          ]
        }
      ]
    },
    {
      "cell_type": "markdown",
      "source": [
        "might have to restart runtime here in case you cant import kgcnn"
      ],
      "metadata": {
        "id": "94r-fiT7M5Jh"
      }
    },
    {
      "cell_type": "code",
      "source": [
        "import kgcnn"
      ],
      "metadata": {
        "id": "pgzOidKRMUj0"
      },
      "execution_count": 4,
      "outputs": []
    },
    {
      "cell_type": "markdown",
      "source": [
        "Files will be saved in the output_path i.e. 'Out' directory"
      ],
      "metadata": {
        "id": "OcIup4i_Mu6A"
      }
    },
    {
      "cell_type": "code",
      "source": [
        "!jarvis_populate_data.py --benchmark_file SinglePropertyPrediction-test-exfoliation_energy-dft_3d-AI-mae --output_path=Out"
      ],
      "metadata": {
        "colab": {
          "base_uri": "https://localhost:8080/"
        },
        "id": "7tY6aR6FLx7Z",
        "outputId": "927a38ec-a6e6-47ab-b842-0b2a449c31c6"
      },
      "execution_count": 5,
      "outputs": [
        {
          "output_type": "stream",
          "name": "stdout",
          "text": [
            "benchmark_file SinglePropertyPrediction-test-exfoliation_energy-dft_3d-AI-mae\n",
            "dataset dft_3d\n",
            "output_path Out\n",
            "property exfoliation_energy\n",
            "method AI\n",
            "task SinglePropertyPrediction\n",
            "id_tag jid\n",
            "dataset file to be used /usr/local/lib/python3.9/dist-packages/jarvis_leaderboard/dataset/AI/SinglePropertyPrediction/dft_3d_exfoliation_energy.json.zip\n",
            "Obtaining 3D dataset 76k ...\n",
            "Reference:https://www.nature.com/articles/s41524-020-00440-1\n",
            "Other versions:https://doi.org/10.6084/m9.figshare.6815699\n",
            "Loading the zipfile...\n",
            "Loading completed.\n",
            "number of training samples 650\n",
            "number of validation samples 81\n",
            "number of test samples 81\n"
          ]
        }
      ]
    },
    {
      "cell_type": "code",
      "source": [
        "import pandas as pd\n",
        "import os\n",
        "from jarvis.core.atoms import Atoms\n",
        "from kgcnn.data.crystal import CrystalDataset\n",
        "import numpy as np\n",
        "\n",
        "def prepare_data(dirname='exfoliation_en',n_train=650,n_val=81,n_test=81,populated_data_path='Out'):\n",
        "\n",
        "    id_prop_path=os.path.join(populated_data_path,'id_prop.csv')\n",
        "    df=pd.read_csv(id_prop_path,header=None)\n",
        "    df.columns=['id','target']\n",
        "    df_train = df[0:n_train]\n",
        "    df_val = df[n_train:n_train+n_val]\n",
        "    df_test = df[n_train+n_val:]\n",
        "   \n",
        "    #train\n",
        "    train_dir = dirname+'_train'\n",
        "    if not os.path.exists(train_dir):\n",
        "        os.makedirs(train_dir)\n",
        "    train_cif = os.path.join(train_dir,'CifFiles')\n",
        "    if not os.path.exists(train_cif):\n",
        "        os.makedirs(train_cif)\n",
        "    csv_file = train_dir+'/data.csv'\n",
        "    print ('train_dir',train_dir)\n",
        "    f=open(csv_file, \"w\")\n",
        "    f.write(\"file_name,index,label\\n\")\n",
        "    targets = []\n",
        "    for i,ii in df_train.iterrows():\n",
        "        pos_path=os.path.join(populated_data_path,ii['id'])\n",
        "        atoms=Atoms.from_poscar(pos_path)\n",
        "        pmg = (atoms.pymatgen_converter())\n",
        "        targets.append(ii['target'])\n",
        "        fname=\"file_\"+str(ii['id'])+\".cif\"\n",
        "        #fname=\"file_\"+str(i)+\".cif\"\n",
        "        cif_name = os.path.join(train_cif,fname)\n",
        "        pmg.to(filename=cif_name, fmt=\"cif\")\n",
        "        line=fname+','+str(i)+','+str(ii['target'])+'\\n'\n",
        "        f.write(line)\n",
        "    f.close()\n",
        "    train_dataset = CrystalDataset(\n",
        "        data_directory=train_dir, \n",
        "        dataset_name=train_dir, \n",
        "        file_name=\"data.csv\", \n",
        "        file_directory=\"CifFiles\"\n",
        "    )\n",
        "    train_dataset.prepare_data(file_column_name=\"file_name\", overwrite=True)\n",
        "    train_dataset.read_in_memory(label_column_name=\"label\")\n",
        "    train_labels = np.expand_dims(train_dataset.get(\"graph_labels\"), axis=-1)\n",
        "    \n",
        "\n",
        "    \n",
        "    #val\n",
        "    val_dir = dirname+'_val'\n",
        "    if not os.path.exists(val_dir):\n",
        "        os.makedirs(val_dir)\n",
        "    val_cif = os.path.join(val_dir,'CifFiles')\n",
        "    if not os.path.exists(val_cif):\n",
        "        os.makedirs(val_cif)\n",
        "    csv_file = val_dir+'/data.csv'\n",
        "    print ('val_dir',val_dir)\n",
        "    f=open(csv_file, \"w\")\n",
        "    f.write(\"file_name,index,label\\n\")\n",
        "    targets = []\n",
        "    for i,ii in df_val.iterrows():\n",
        "        pos_path=os.path.join(populated_data_path,ii['id'])\n",
        "        atoms=Atoms.from_poscar(pos_path)\n",
        "        pmg = (atoms.pymatgen_converter())\n",
        "        targets.append(ii['target'])\n",
        "        fname=\"file_\"+str(ii['id'])+\".cif\"\n",
        "        #fname=\"file_\"+str(i)+\".cif\"\n",
        "        cif_name = os.path.join(val_cif,fname)\n",
        "        pmg.to(filename=cif_name, fmt=\"cif\")\n",
        "        line=fname+','+str(i)+','+str(ii['target'])+'\\n'\n",
        "        f.write(line)\n",
        "    f.close()\n",
        "    val_dataset = CrystalDataset(\n",
        "        data_directory=val_dir, \n",
        "        dataset_name=val_dir, \n",
        "        file_name=\"data.csv\", \n",
        "        file_directory=\"CifFiles\"\n",
        "    )\n",
        "    val_dataset.prepare_data(file_column_name=\"file_name\", overwrite=True)\n",
        "    val_dataset.read_in_memory(label_column_name=\"label\")\n",
        "    val_labels = np.expand_dims(val_dataset.get(\"graph_labels\"), axis=-1)\n",
        "    \n",
        "    \n",
        "\n",
        "    #test\n",
        "    test_dir = dirname+'_test'\n",
        "    if not os.path.exists(test_dir):\n",
        "        os.makedirs(test_dir)\n",
        "    test_cif = os.path.join(test_dir,'CifFiles')\n",
        "    if not os.path.exists(test_cif):\n",
        "        os.makedirs(test_cif)\n",
        "    csv_file = test_dir+'/data.csv'\n",
        "    print ('test_dir',test_dir)\n",
        "    f=open(csv_file, \"w\")\n",
        "    f.write(\"file_name,index,label\\n\")\n",
        "    targets = []\n",
        "    for i,ii in df_test.iterrows():\n",
        "        pos_path=os.path.join(populated_data_path,ii['id'])\n",
        "        atoms=Atoms.from_poscar(pos_path)\n",
        "        pmg = (atoms.pymatgen_converter())\n",
        "        targets.append(ii['target'])\n",
        "        fname=\"file_\"+str(ii['id'])+\".cif\"\n",
        "        #fname=\"file_\"+str(i)+\".cif\"\n",
        "        cif_name = os.path.join(test_cif,fname)\n",
        "        pmg.to(filename=cif_name, fmt=\"cif\")\n",
        "        line=fname+','+str(i)+','+str(ii['target'])+'\\n'\n",
        "        f.write(line)\n",
        "    f.close()\n",
        "    test_dataset = CrystalDataset(\n",
        "        data_directory=test_dir, \n",
        "        dataset_name=test_dir, \n",
        "        file_name=\"data.csv\", \n",
        "        file_directory=\"CifFiles\"\n",
        "    )\n",
        "    test_dataset.prepare_data(file_column_name=\"file_name\", overwrite=True)\n",
        "    test_dataset.read_in_memory(label_column_name=\"label\")\n",
        "    test_labels = np.expand_dims(train_dataset.get(\"graph_labels\"), axis=-1)\n",
        "    \n",
        "    \n",
        "    \n",
        "    return train_dataset,train_labels,val_dataset,val_labels,test_dataset,test_labels\n",
        "\n",
        "train_dataset,train_labels,val_dataset,val_labels,test_dataset,test_labels = prepare_data(n_train=650,n_val=81,n_test=81,populated_data_path='Out')\n",
        "\n"
      ],
      "metadata": {
        "colab": {
          "base_uri": "https://localhost:8080/"
        },
        "id": "LXV5vOFzMBwj",
        "outputId": "4c5f491a-0b2d-498a-9217-6219a5f29e71"
      },
      "execution_count": 6,
      "outputs": [
        {
          "output_type": "stream",
          "name": "stdout",
          "text": [
            "train_dir exfoliation_en_train\n"
          ]
        },
        {
          "output_type": "stream",
          "name": "stderr",
          "text": [
            "INFO:kgcnn.data.exfoliation_en_train:Searching for structure files in 'exfoliation_en_train/CifFiles'\n",
            "INFO:kgcnn.data.exfoliation_en_train:Read 650 single files.\n",
            "INFO:kgcnn.data.exfoliation_en_train:... Read .cif file 0 from 650\n",
            "/usr/local/lib/python3.9/dist-packages/pymatgen/io/cif.py:1147: UserWarning: Issues encountered while parsing CIF: Some fractional coordinates rounded to ideal values to avoid issues with finite precision.\n",
            "  warnings.warn(\"Issues encountered while parsing CIF: \" + \"\\n\".join(self.warnings))\n",
            "INFO:kgcnn.data.exfoliation_en_train:Exporting as dict for pymatgen ...\n",
            "INFO:kgcnn.data.exfoliation_en_train:Saving structures as .json ...\n",
            "INFO:kgcnn.data.exfoliation_en_train:Making node features from structure...\n",
            "INFO:kgcnn.data.exfoliation_en_train:Reading structures from .json ...\n",
            "INFO:kgcnn.data.exfoliation_en_train: ... read structures 0 from 650\n"
          ]
        },
        {
          "output_type": "stream",
          "name": "stdout",
          "text": [
            "val_dir exfoliation_en_val\n"
          ]
        },
        {
          "output_type": "stream",
          "name": "stderr",
          "text": [
            "INFO:kgcnn.data.exfoliation_en_val:Searching for structure files in 'exfoliation_en_val/CifFiles'\n",
            "INFO:kgcnn.data.exfoliation_en_val:Read 81 single files.\n",
            "INFO:kgcnn.data.exfoliation_en_val:... Read .cif file 0 from 81\n",
            "/usr/local/lib/python3.9/dist-packages/pymatgen/io/cif.py:1147: UserWarning: Issues encountered while parsing CIF: Some fractional coordinates rounded to ideal values to avoid issues with finite precision.\n",
            "  warnings.warn(\"Issues encountered while parsing CIF: \" + \"\\n\".join(self.warnings))\n",
            "INFO:kgcnn.data.exfoliation_en_val:Exporting as dict for pymatgen ...\n",
            "INFO:kgcnn.data.exfoliation_en_val:Saving structures as .json ...\n",
            "INFO:kgcnn.data.exfoliation_en_val:Making node features from structure...\n",
            "INFO:kgcnn.data.exfoliation_en_val:Reading structures from .json ...\n",
            "INFO:kgcnn.data.exfoliation_en_val: ... read structures 0 from 81\n",
            "INFO:kgcnn.data.exfoliation_en_test:Searching for structure files in 'exfoliation_en_test/CifFiles'\n",
            "INFO:kgcnn.data.exfoliation_en_test:Read 81 single files.\n",
            "/usr/local/lib/python3.9/dist-packages/pymatgen/io/cif.py:1147: UserWarning: Issues encountered while parsing CIF: Some fractional coordinates rounded to ideal values to avoid issues with finite precision.\n",
            "  warnings.warn(\"Issues encountered while parsing CIF: \" + \"\\n\".join(self.warnings))\n",
            "INFO:kgcnn.data.exfoliation_en_test:... Read .cif file 0 from 81\n"
          ]
        },
        {
          "output_type": "stream",
          "name": "stdout",
          "text": [
            "test_dir exfoliation_en_test\n"
          ]
        },
        {
          "output_type": "stream",
          "name": "stderr",
          "text": [
            "INFO:kgcnn.data.exfoliation_en_test:Exporting as dict for pymatgen ...\n",
            "INFO:kgcnn.data.exfoliation_en_test:Saving structures as .json ...\n",
            "INFO:kgcnn.data.exfoliation_en_test:Making node features from structure...\n",
            "INFO:kgcnn.data.exfoliation_en_test:Reading structures from .json ...\n",
            "INFO:kgcnn.data.exfoliation_en_test: ... read structures 0 from 81\n"
          ]
        }
      ]
    },
    {
      "cell_type": "code",
      "source": [
        "import pandas as pd\n",
        "import os\n",
        "from jarvis.core.atoms import Atoms\n",
        "from kgcnn.data.crystal import CrystalDataset\n",
        "import numpy as np\n",
        "\n",
        "def prepare_data(dirname='exfoliation_en',populated_data_path='Out'):\n",
        "\n",
        "    id_prop_path=os.path.join(populated_data_path,'id_prop.csv')\n",
        "    df=pd.read_csv(id_prop_path,header=None)\n",
        "    df.columns=['id','target']\n",
        "\n",
        "   \n",
        "    #train\n",
        "    train_dir = dirname+'_train'\n",
        "    if not os.path.exists(train_dir):\n",
        "        os.makedirs(train_dir)\n",
        "    train_cif = os.path.join(train_dir,'CifFiles')\n",
        "    if not os.path.exists(train_cif):\n",
        "        os.makedirs(train_cif)\n",
        "    csv_file = train_dir+'/data.csv'\n",
        "    print ('train_dir',train_dir)\n",
        "    f=open(csv_file, \"w\")\n",
        "    f.write(\"file_name,index,label\\n\")\n",
        "    targets = []\n",
        "    for i,ii in df.iterrows():\n",
        "        pos_path=os.path.join(populated_data_path,ii['id'])\n",
        "        atoms=Atoms.from_poscar(pos_path)\n",
        "        pmg = (atoms.pymatgen_converter())\n",
        "        targets.append(ii['target'])\n",
        "        fname=\"file_\"+str(ii['id'])+\".cif\"\n",
        "        #fname=\"file_\"+str(i)+\".cif\"\n",
        "        cif_name = os.path.join(train_cif,fname)\n",
        "        pmg.to(filename=cif_name, fmt=\"cif\")\n",
        "        line=fname+','+str(i)+','+str(ii['target'])+'\\n'\n",
        "        f.write(line)\n",
        "    f.close()\n",
        "    dataset = CrystalDataset(\n",
        "        data_directory=train_dir, \n",
        "        dataset_name=train_dir, \n",
        "        file_name=\"data.csv\", \n",
        "        file_directory=\"CifFiles\"\n",
        "    )\n",
        "    dataset.prepare_data(file_column_name=\"file_name\", overwrite=True)\n",
        "    dataset.read_in_memory(label_column_name=\"label\")\n",
        "    labels = np.expand_dims(train_dataset.get(\"graph_labels\"), axis=-1)\n",
        "    \n",
        "  \n",
        "    \n",
        "\n",
        "    \n",
        "    \n",
        "    \n",
        "    return dataset,labels\n",
        "\n",
        "dataset,labels = prepare_data(populated_data_path='Out')\n",
        "\n"
      ],
      "metadata": {
        "colab": {
          "base_uri": "https://localhost:8080/"
        },
        "id": "SNkSXv5sPNV5",
        "outputId": "ef32872e-e9a2-4d45-e882-b7a0cf753e76"
      },
      "execution_count": 25,
      "outputs": [
        {
          "output_type": "stream",
          "name": "stdout",
          "text": [
            "train_dir exfoliation_en_train\n"
          ]
        },
        {
          "output_type": "stream",
          "name": "stderr",
          "text": [
            "INFO:kgcnn.data.exfoliation_en_train:Searching for structure files in 'exfoliation_en_train/CifFiles'\n",
            "INFO:kgcnn.data.exfoliation_en_train:Read 812 single files.\n",
            "INFO:kgcnn.data.exfoliation_en_train:... Read .cif file 0 from 812\n",
            "/usr/local/lib/python3.9/dist-packages/pymatgen/io/cif.py:1147: UserWarning: Issues encountered while parsing CIF: Some fractional coordinates rounded to ideal values to avoid issues with finite precision.\n",
            "  warnings.warn(\"Issues encountered while parsing CIF: \" + \"\\n\".join(self.warnings))\n",
            "INFO:kgcnn.data.exfoliation_en_train:Exporting as dict for pymatgen ...\n",
            "INFO:kgcnn.data.exfoliation_en_train:Saving structures as .json ...\n",
            "INFO:kgcnn.data.exfoliation_en_train:Making node features from structure...\n",
            "INFO:kgcnn.data.exfoliation_en_train:Reading structures from .json ...\n",
            "INFO:kgcnn.data.exfoliation_en_train: ... read structures 0 from 812\n"
          ]
        }
      ]
    },
    {
      "cell_type": "code",
      "source": [
        "n_train=650\n",
        "n_val=81\n",
        "n_test=81\n",
        "train_index=np.arange(0,n_train)\n",
        "val_index=np.arange(n_train,n_train+n_val)\n",
        "test_index=np.arange(n_train+n_val,n_train+n_val+n_test)"
      ],
      "metadata": {
        "id": "a3ZlZ6eLP7PE"
      },
      "execution_count": 26,
      "outputs": []
    },
    {
      "cell_type": "code",
      "source": [
        "x_train,y_train=dataset[train_index], labels[train_index]\n",
        "# x_val, y_val = dataset[val_index].tensor(model_config[\"inputs\"]), labels[val_index]\n",
        "# x_test, y_test = dataset[test_index].tensor(model_config[\"inputs\"]), labels[test_index]"
      ],
      "metadata": {
        "id": "3VNXYEB7QdK8"
      },
      "execution_count": 32,
      "outputs": []
    },
    {
      "cell_type": "code",
      "source": [
        "model.fit(\n",
        "    x_train.tensor(model_config[\"inputs\"]),y_train,\n",
        "    shuffle=True,\n",
        "    batch_size=3,\n",
        "    epochs=20,\n",
        "    verbose=2,\n",
        ")"
      ],
      "metadata": {
        "colab": {
          "base_uri": "https://localhost:8080/",
          "height": 320
        },
        "id": "oDDhDx5KRDSN",
        "outputId": "907dca57-2638-4635-c182-df11af664d3d"
      },
      "execution_count": 35,
      "outputs": [
        {
          "output_type": "stream",
          "name": "stderr",
          "text": [
            "WARNING:kgcnn.data.base:Property 'range_indices' is not set on any graph.\n"
          ]
        },
        {
          "output_type": "error",
          "ename": "TypeError",
          "evalue": "ignored",
          "traceback": [
            "\u001b[0;31m---------------------------------------------------------------------------\u001b[0m",
            "\u001b[0;31mTypeError\u001b[0m                                 Traceback (most recent call last)",
            "\u001b[0;32m<ipython-input-35-d20f15448079>\u001b[0m in \u001b[0;36m<cell line: 1>\u001b[0;34m()\u001b[0m\n\u001b[1;32m      1\u001b[0m model.fit(\n\u001b[0;32m----> 2\u001b[0;31m     \u001b[0mx_train\u001b[0m\u001b[0;34m.\u001b[0m\u001b[0mtensor\u001b[0m\u001b[0;34m(\u001b[0m\u001b[0mmodel_config\u001b[0m\u001b[0;34m[\u001b[0m\u001b[0;34m\"inputs\"\u001b[0m\u001b[0;34m]\u001b[0m\u001b[0;34m)\u001b[0m\u001b[0;34m,\u001b[0m\u001b[0my_train\u001b[0m\u001b[0;34m,\u001b[0m\u001b[0;34m\u001b[0m\u001b[0;34m\u001b[0m\u001b[0m\n\u001b[0m\u001b[1;32m      3\u001b[0m     \u001b[0mshuffle\u001b[0m\u001b[0;34m=\u001b[0m\u001b[0;32mTrue\u001b[0m\u001b[0;34m,\u001b[0m\u001b[0;34m\u001b[0m\u001b[0;34m\u001b[0m\u001b[0m\n\u001b[1;32m      4\u001b[0m     \u001b[0mbatch_size\u001b[0m\u001b[0;34m=\u001b[0m\u001b[0;36m3\u001b[0m\u001b[0;34m,\u001b[0m\u001b[0;34m\u001b[0m\u001b[0;34m\u001b[0m\u001b[0m\n\u001b[1;32m      5\u001b[0m     \u001b[0mepochs\u001b[0m\u001b[0;34m=\u001b[0m\u001b[0;36m20\u001b[0m\u001b[0;34m,\u001b[0m\u001b[0;34m\u001b[0m\u001b[0;34m\u001b[0m\u001b[0m\n",
            "\u001b[0;32m/content/gcnn_keras/kgcnn/data/base.py\u001b[0m in \u001b[0;36mtensor\u001b[0;34m(self, items, make_copy)\u001b[0m\n\u001b[1;32m    214\u001b[0m             \u001b[0;32mreturn\u001b[0m \u001b[0mself\u001b[0m\u001b[0;34m.\u001b[0m\u001b[0m_to_tensor\u001b[0m\u001b[0;34m(\u001b[0m\u001b[0mitems\u001b[0m\u001b[0;34m,\u001b[0m \u001b[0mmake_copy\u001b[0m\u001b[0;34m=\u001b[0m\u001b[0mmake_copy\u001b[0m\u001b[0;34m)\u001b[0m\u001b[0;34m\u001b[0m\u001b[0;34m\u001b[0m\u001b[0m\n\u001b[1;32m    215\u001b[0m         \u001b[0;32melif\u001b[0m \u001b[0misinstance\u001b[0m\u001b[0;34m(\u001b[0m\u001b[0mitems\u001b[0m\u001b[0;34m,\u001b[0m \u001b[0;34m(\u001b[0m\u001b[0mtuple\u001b[0m\u001b[0;34m,\u001b[0m \u001b[0mlist\u001b[0m\u001b[0;34m)\u001b[0m\u001b[0;34m)\u001b[0m\u001b[0;34m:\u001b[0m\u001b[0;34m\u001b[0m\u001b[0;34m\u001b[0m\u001b[0m\n\u001b[0;32m--> 216\u001b[0;31m             \u001b[0;32mreturn\u001b[0m \u001b[0;34m[\u001b[0m\u001b[0mself\u001b[0m\u001b[0;34m.\u001b[0m\u001b[0m_to_tensor\u001b[0m\u001b[0;34m(\u001b[0m\u001b[0mx\u001b[0m\u001b[0;34m,\u001b[0m \u001b[0mmake_copy\u001b[0m\u001b[0;34m=\u001b[0m\u001b[0mmake_copy\u001b[0m\u001b[0;34m)\u001b[0m \u001b[0;32mfor\u001b[0m \u001b[0mx\u001b[0m \u001b[0;32min\u001b[0m \u001b[0mitems\u001b[0m\u001b[0;34m]\u001b[0m\u001b[0;34m\u001b[0m\u001b[0;34m\u001b[0m\u001b[0m\n\u001b[0m\u001b[1;32m    217\u001b[0m         \u001b[0;32melse\u001b[0m\u001b[0;34m:\u001b[0m\u001b[0;34m\u001b[0m\u001b[0;34m\u001b[0m\u001b[0m\n\u001b[1;32m    218\u001b[0m             \u001b[0;32mraise\u001b[0m \u001b[0mTypeError\u001b[0m\u001b[0;34m(\u001b[0m\u001b[0;34m\"Wrong type, expected e.g. [{'name': 'edge_indices', 'ragged': True}, {...}, ...]\"\u001b[0m\u001b[0;34m)\u001b[0m\u001b[0;34m\u001b[0m\u001b[0;34m\u001b[0m\u001b[0m\n",
            "\u001b[0;32m/content/gcnn_keras/kgcnn/data/base.py\u001b[0m in \u001b[0;36m<listcomp>\u001b[0;34m(.0)\u001b[0m\n\u001b[1;32m    214\u001b[0m             \u001b[0;32mreturn\u001b[0m \u001b[0mself\u001b[0m\u001b[0;34m.\u001b[0m\u001b[0m_to_tensor\u001b[0m\u001b[0;34m(\u001b[0m\u001b[0mitems\u001b[0m\u001b[0;34m,\u001b[0m \u001b[0mmake_copy\u001b[0m\u001b[0;34m=\u001b[0m\u001b[0mmake_copy\u001b[0m\u001b[0;34m)\u001b[0m\u001b[0;34m\u001b[0m\u001b[0;34m\u001b[0m\u001b[0m\n\u001b[1;32m    215\u001b[0m         \u001b[0;32melif\u001b[0m \u001b[0misinstance\u001b[0m\u001b[0;34m(\u001b[0m\u001b[0mitems\u001b[0m\u001b[0;34m,\u001b[0m \u001b[0;34m(\u001b[0m\u001b[0mtuple\u001b[0m\u001b[0;34m,\u001b[0m \u001b[0mlist\u001b[0m\u001b[0;34m)\u001b[0m\u001b[0;34m)\u001b[0m\u001b[0;34m:\u001b[0m\u001b[0;34m\u001b[0m\u001b[0;34m\u001b[0m\u001b[0m\n\u001b[0;32m--> 216\u001b[0;31m             \u001b[0;32mreturn\u001b[0m \u001b[0;34m[\u001b[0m\u001b[0mself\u001b[0m\u001b[0;34m.\u001b[0m\u001b[0m_to_tensor\u001b[0m\u001b[0;34m(\u001b[0m\u001b[0mx\u001b[0m\u001b[0;34m,\u001b[0m \u001b[0mmake_copy\u001b[0m\u001b[0;34m=\u001b[0m\u001b[0mmake_copy\u001b[0m\u001b[0;34m)\u001b[0m \u001b[0;32mfor\u001b[0m \u001b[0mx\u001b[0m \u001b[0;32min\u001b[0m \u001b[0mitems\u001b[0m\u001b[0;34m]\u001b[0m\u001b[0;34m\u001b[0m\u001b[0;34m\u001b[0m\u001b[0m\n\u001b[0m\u001b[1;32m    217\u001b[0m         \u001b[0;32melse\u001b[0m\u001b[0;34m:\u001b[0m\u001b[0;34m\u001b[0m\u001b[0;34m\u001b[0m\u001b[0m\n\u001b[1;32m    218\u001b[0m             \u001b[0;32mraise\u001b[0m \u001b[0mTypeError\u001b[0m\u001b[0;34m(\u001b[0m\u001b[0;34m\"Wrong type, expected e.g. [{'name': 'edge_indices', 'ragged': True}, {...}, ...]\"\u001b[0m\u001b[0;34m)\u001b[0m\u001b[0;34m\u001b[0m\u001b[0;34m\u001b[0m\u001b[0m\n",
            "\u001b[0;32m/content/gcnn_keras/kgcnn/data/base.py\u001b[0m in \u001b[0;36m_to_tensor\u001b[0;34m(self, item, make_copy)\u001b[0m\n\u001b[1;32m    188\u001b[0m         \u001b[0;31m# Could add name and shape information if available.\u001b[0m\u001b[0;34m\u001b[0m\u001b[0;34m\u001b[0m\u001b[0m\n\u001b[1;32m    189\u001b[0m         \u001b[0;32mif\u001b[0m \u001b[0mis_ragged\u001b[0m\u001b[0;34m:\u001b[0m\u001b[0;34m\u001b[0m\u001b[0;34m\u001b[0m\u001b[0m\n\u001b[0;32m--> 190\u001b[0;31m             \u001b[0;32mreturn\u001b[0m \u001b[0mragged_tensor_from_nested_numpy\u001b[0m\u001b[0;34m(\u001b[0m\u001b[0mprops\u001b[0m\u001b[0;34m,\u001b[0m \u001b[0mdtype\u001b[0m\u001b[0;34m=\u001b[0m\u001b[0mdtype\u001b[0m\u001b[0;34m)\u001b[0m\u001b[0;34m\u001b[0m\u001b[0;34m\u001b[0m\u001b[0m\n\u001b[0m\u001b[1;32m    191\u001b[0m         \u001b[0;32melse\u001b[0m\u001b[0;34m:\u001b[0m\u001b[0;34m\u001b[0m\u001b[0;34m\u001b[0m\u001b[0m\n\u001b[1;32m    192\u001b[0m             \u001b[0;32mreturn\u001b[0m \u001b[0mtf\u001b[0m\u001b[0;34m.\u001b[0m\u001b[0mconstant\u001b[0m\u001b[0;34m(\u001b[0m\u001b[0mnp\u001b[0m\u001b[0;34m.\u001b[0m\u001b[0marray\u001b[0m\u001b[0;34m(\u001b[0m\u001b[0mprops\u001b[0m\u001b[0;34m)\u001b[0m\u001b[0;34m,\u001b[0m \u001b[0mdtype\u001b[0m\u001b[0;34m=\u001b[0m\u001b[0mdtype\u001b[0m\u001b[0;34m)\u001b[0m\u001b[0;34m\u001b[0m\u001b[0;34m\u001b[0m\u001b[0m\n",
            "\u001b[0;32m/content/gcnn_keras/kgcnn/data/utils.py\u001b[0m in \u001b[0;36mragged_tensor_from_nested_numpy\u001b[0;34m(numpy_list, dtype, row_splits_dtype)\u001b[0m\n\u001b[1;32m    155\u001b[0m     \"\"\"\n\u001b[1;32m    156\u001b[0m     return tf.RaggedTensor.from_row_lengths(\n\u001b[0;32m--> 157\u001b[0;31m         np.concatenate(numpy_list, axis=0, dtype=dtype), np.array([len(x) for x in numpy_list], dtype=row_splits_dtype))\n\u001b[0m\u001b[1;32m    158\u001b[0m \u001b[0;34m\u001b[0m\u001b[0m\n\u001b[1;32m    159\u001b[0m \u001b[0;34m\u001b[0m\u001b[0m\n",
            "\u001b[0;32m/usr/local/lib/python3.9/dist-packages/numpy/core/overrides.py\u001b[0m in \u001b[0;36mconcatenate\u001b[0;34m(*args, **kwargs)\u001b[0m\n",
            "\u001b[0;31mTypeError\u001b[0m: dispatcher for __array_function__ did not return an iterable"
          ]
        }
      ]
    },
    {
      "cell_type": "code",
      "source": [
        "dataset[train_index].tensor(model_config[\"inputs\"])"
      ],
      "metadata": {
        "colab": {
          "base_uri": "https://localhost:8080/",
          "height": 248
        },
        "id": "LdUZJCeqQzev",
        "outputId": "d2890c28-c41e-436d-8d6b-c3bd52d6de51"
      },
      "execution_count": 31,
      "outputs": [
        {
          "output_type": "stream",
          "name": "stderr",
          "text": [
            "WARNING:kgcnn.data.base:Property 'range_indices' is not set on any graph.\n"
          ]
        },
        {
          "output_type": "error",
          "ename": "TypeError",
          "evalue": "ignored",
          "traceback": [
            "\u001b[0;31m---------------------------------------------------------------------------\u001b[0m",
            "\u001b[0;31mTypeError\u001b[0m                                 Traceback (most recent call last)",
            "\u001b[0;32m<ipython-input-31-be995a99faf3>\u001b[0m in \u001b[0;36m<cell line: 1>\u001b[0;34m()\u001b[0m\n\u001b[0;32m----> 1\u001b[0;31m \u001b[0mdataset\u001b[0m\u001b[0;34m[\u001b[0m\u001b[0mtrain_index\u001b[0m\u001b[0;34m]\u001b[0m\u001b[0;34m.\u001b[0m\u001b[0mtensor\u001b[0m\u001b[0;34m(\u001b[0m\u001b[0mmodel_config\u001b[0m\u001b[0;34m[\u001b[0m\u001b[0;34m\"inputs\"\u001b[0m\u001b[0;34m]\u001b[0m\u001b[0;34m)\u001b[0m\u001b[0;34m\u001b[0m\u001b[0;34m\u001b[0m\u001b[0m\n\u001b[0m",
            "\u001b[0;32m/content/gcnn_keras/kgcnn/data/base.py\u001b[0m in \u001b[0;36mtensor\u001b[0;34m(self, items, make_copy)\u001b[0m\n\u001b[1;32m    214\u001b[0m             \u001b[0;32mreturn\u001b[0m \u001b[0mself\u001b[0m\u001b[0;34m.\u001b[0m\u001b[0m_to_tensor\u001b[0m\u001b[0;34m(\u001b[0m\u001b[0mitems\u001b[0m\u001b[0;34m,\u001b[0m \u001b[0mmake_copy\u001b[0m\u001b[0;34m=\u001b[0m\u001b[0mmake_copy\u001b[0m\u001b[0;34m)\u001b[0m\u001b[0;34m\u001b[0m\u001b[0;34m\u001b[0m\u001b[0m\n\u001b[1;32m    215\u001b[0m         \u001b[0;32melif\u001b[0m \u001b[0misinstance\u001b[0m\u001b[0;34m(\u001b[0m\u001b[0mitems\u001b[0m\u001b[0;34m,\u001b[0m \u001b[0;34m(\u001b[0m\u001b[0mtuple\u001b[0m\u001b[0;34m,\u001b[0m \u001b[0mlist\u001b[0m\u001b[0;34m)\u001b[0m\u001b[0;34m)\u001b[0m\u001b[0;34m:\u001b[0m\u001b[0;34m\u001b[0m\u001b[0;34m\u001b[0m\u001b[0m\n\u001b[0;32m--> 216\u001b[0;31m             \u001b[0;32mreturn\u001b[0m \u001b[0;34m[\u001b[0m\u001b[0mself\u001b[0m\u001b[0;34m.\u001b[0m\u001b[0m_to_tensor\u001b[0m\u001b[0;34m(\u001b[0m\u001b[0mx\u001b[0m\u001b[0;34m,\u001b[0m \u001b[0mmake_copy\u001b[0m\u001b[0;34m=\u001b[0m\u001b[0mmake_copy\u001b[0m\u001b[0;34m)\u001b[0m \u001b[0;32mfor\u001b[0m \u001b[0mx\u001b[0m \u001b[0;32min\u001b[0m \u001b[0mitems\u001b[0m\u001b[0;34m]\u001b[0m\u001b[0;34m\u001b[0m\u001b[0;34m\u001b[0m\u001b[0m\n\u001b[0m\u001b[1;32m    217\u001b[0m         \u001b[0;32melse\u001b[0m\u001b[0;34m:\u001b[0m\u001b[0;34m\u001b[0m\u001b[0;34m\u001b[0m\u001b[0m\n\u001b[1;32m    218\u001b[0m             \u001b[0;32mraise\u001b[0m \u001b[0mTypeError\u001b[0m\u001b[0;34m(\u001b[0m\u001b[0;34m\"Wrong type, expected e.g. [{'name': 'edge_indices', 'ragged': True}, {...}, ...]\"\u001b[0m\u001b[0;34m)\u001b[0m\u001b[0;34m\u001b[0m\u001b[0;34m\u001b[0m\u001b[0m\n",
            "\u001b[0;32m/content/gcnn_keras/kgcnn/data/base.py\u001b[0m in \u001b[0;36m<listcomp>\u001b[0;34m(.0)\u001b[0m\n\u001b[1;32m    214\u001b[0m             \u001b[0;32mreturn\u001b[0m \u001b[0mself\u001b[0m\u001b[0;34m.\u001b[0m\u001b[0m_to_tensor\u001b[0m\u001b[0;34m(\u001b[0m\u001b[0mitems\u001b[0m\u001b[0;34m,\u001b[0m \u001b[0mmake_copy\u001b[0m\u001b[0;34m=\u001b[0m\u001b[0mmake_copy\u001b[0m\u001b[0;34m)\u001b[0m\u001b[0;34m\u001b[0m\u001b[0;34m\u001b[0m\u001b[0m\n\u001b[1;32m    215\u001b[0m         \u001b[0;32melif\u001b[0m \u001b[0misinstance\u001b[0m\u001b[0;34m(\u001b[0m\u001b[0mitems\u001b[0m\u001b[0;34m,\u001b[0m \u001b[0;34m(\u001b[0m\u001b[0mtuple\u001b[0m\u001b[0;34m,\u001b[0m \u001b[0mlist\u001b[0m\u001b[0;34m)\u001b[0m\u001b[0;34m)\u001b[0m\u001b[0;34m:\u001b[0m\u001b[0;34m\u001b[0m\u001b[0;34m\u001b[0m\u001b[0m\n\u001b[0;32m--> 216\u001b[0;31m             \u001b[0;32mreturn\u001b[0m \u001b[0;34m[\u001b[0m\u001b[0mself\u001b[0m\u001b[0;34m.\u001b[0m\u001b[0m_to_tensor\u001b[0m\u001b[0;34m(\u001b[0m\u001b[0mx\u001b[0m\u001b[0;34m,\u001b[0m \u001b[0mmake_copy\u001b[0m\u001b[0;34m=\u001b[0m\u001b[0mmake_copy\u001b[0m\u001b[0;34m)\u001b[0m \u001b[0;32mfor\u001b[0m \u001b[0mx\u001b[0m \u001b[0;32min\u001b[0m \u001b[0mitems\u001b[0m\u001b[0;34m]\u001b[0m\u001b[0;34m\u001b[0m\u001b[0;34m\u001b[0m\u001b[0m\n\u001b[0m\u001b[1;32m    217\u001b[0m         \u001b[0;32melse\u001b[0m\u001b[0;34m:\u001b[0m\u001b[0;34m\u001b[0m\u001b[0;34m\u001b[0m\u001b[0m\n\u001b[1;32m    218\u001b[0m             \u001b[0;32mraise\u001b[0m \u001b[0mTypeError\u001b[0m\u001b[0;34m(\u001b[0m\u001b[0;34m\"Wrong type, expected e.g. [{'name': 'edge_indices', 'ragged': True}, {...}, ...]\"\u001b[0m\u001b[0;34m)\u001b[0m\u001b[0;34m\u001b[0m\u001b[0;34m\u001b[0m\u001b[0m\n",
            "\u001b[0;32m/content/gcnn_keras/kgcnn/data/base.py\u001b[0m in \u001b[0;36m_to_tensor\u001b[0;34m(self, item, make_copy)\u001b[0m\n\u001b[1;32m    188\u001b[0m         \u001b[0;31m# Could add name and shape information if available.\u001b[0m\u001b[0;34m\u001b[0m\u001b[0;34m\u001b[0m\u001b[0m\n\u001b[1;32m    189\u001b[0m         \u001b[0;32mif\u001b[0m \u001b[0mis_ragged\u001b[0m\u001b[0;34m:\u001b[0m\u001b[0;34m\u001b[0m\u001b[0;34m\u001b[0m\u001b[0m\n\u001b[0;32m--> 190\u001b[0;31m             \u001b[0;32mreturn\u001b[0m \u001b[0mragged_tensor_from_nested_numpy\u001b[0m\u001b[0;34m(\u001b[0m\u001b[0mprops\u001b[0m\u001b[0;34m,\u001b[0m \u001b[0mdtype\u001b[0m\u001b[0;34m=\u001b[0m\u001b[0mdtype\u001b[0m\u001b[0;34m)\u001b[0m\u001b[0;34m\u001b[0m\u001b[0;34m\u001b[0m\u001b[0m\n\u001b[0m\u001b[1;32m    191\u001b[0m         \u001b[0;32melse\u001b[0m\u001b[0;34m:\u001b[0m\u001b[0;34m\u001b[0m\u001b[0;34m\u001b[0m\u001b[0m\n\u001b[1;32m    192\u001b[0m             \u001b[0;32mreturn\u001b[0m \u001b[0mtf\u001b[0m\u001b[0;34m.\u001b[0m\u001b[0mconstant\u001b[0m\u001b[0;34m(\u001b[0m\u001b[0mnp\u001b[0m\u001b[0;34m.\u001b[0m\u001b[0marray\u001b[0m\u001b[0;34m(\u001b[0m\u001b[0mprops\u001b[0m\u001b[0;34m)\u001b[0m\u001b[0;34m,\u001b[0m \u001b[0mdtype\u001b[0m\u001b[0;34m=\u001b[0m\u001b[0mdtype\u001b[0m\u001b[0;34m)\u001b[0m\u001b[0;34m\u001b[0m\u001b[0;34m\u001b[0m\u001b[0m\n",
            "\u001b[0;32m/content/gcnn_keras/kgcnn/data/utils.py\u001b[0m in \u001b[0;36mragged_tensor_from_nested_numpy\u001b[0;34m(numpy_list, dtype, row_splits_dtype)\u001b[0m\n\u001b[1;32m    155\u001b[0m     \"\"\"\n\u001b[1;32m    156\u001b[0m     return tf.RaggedTensor.from_row_lengths(\n\u001b[0;32m--> 157\u001b[0;31m         np.concatenate(numpy_list, axis=0, dtype=dtype), np.array([len(x) for x in numpy_list], dtype=row_splits_dtype))\n\u001b[0m\u001b[1;32m    158\u001b[0m \u001b[0;34m\u001b[0m\u001b[0m\n\u001b[1;32m    159\u001b[0m \u001b[0;34m\u001b[0m\u001b[0m\n",
            "\u001b[0;32m/usr/local/lib/python3.9/dist-packages/numpy/core/overrides.py\u001b[0m in \u001b[0;36mconcatenate\u001b[0;34m(*args, **kwargs)\u001b[0m\n",
            "\u001b[0;31mTypeError\u001b[0m: dispatcher for __array_function__ did not return an iterable"
          ]
        }
      ]
    },
    {
      "cell_type": "code",
      "source": [
        "from kgcnn.literature.Schnet import make_crystal_model\n",
        "from tensorflow.keras.optimizers import Adam\n",
        "ragged=True\n",
        "model_config = {\n",
        "    \"name\": \"Schnet\",\n",
        "    \"inputs\": [\n",
        "        {'shape': (None,), 'name': \"node_number\", 'dtype': 'float32', 'ragged': ragged},\n",
        "        {'shape': (None, 3), 'name': \"node_coordinates\", 'dtype': 'float32', 'ragged': ragged},\n",
        "        {'shape': (None, 2), 'name': \"range_indices\", 'dtype': 'int64', 'ragged': ragged},\n",
        "        {'shape': (None, 3), 'name': \"range_image\", 'dtype': 'int64', 'ragged': ragged},\n",
        "        {'shape': (3, 3), 'name': \"graph_lattice\", 'dtype': 'float32', 'ragged': False}\n",
        "    ],\n",
        "    \"input_embedding\": {\n",
        "        \"node\": {\"input_dim\": 95, \"output_dim\": 64}\n",
        "    },\n",
        "    \"interaction_args\": {\n",
        "        \"units\": 128, \"use_bias\": True, \"activation\": \"kgcnn>shifted_softplus\", \"cfconv_pool\": \"sum\"\n",
        "    },\n",
        "    \"node_pooling_args\": {\"pooling_method\": \"mean\"},\n",
        "    \"depth\": 4,\n",
        "    \"gauss_args\": {\"bins\": 25, \"distance\": 5, \"offset\": 0.0, \"sigma\": 0.4}, \"verbose\": 10,\n",
        "    \"last_mlp\": {\"use_bias\": [True, True, True], \"units\": [128, 64, 1],\n",
        "                 \"activation\": ['kgcnn>shifted_softplus', 'kgcnn>shifted_softplus', 'linear']},\n",
        "    \"output_embedding\": \"graph\",\n",
        "    \"use_output_mlp\": False,\n",
        "    \"output_mlp\": None,  # Last MLP sets output dimension if None.\n",
        "}\n",
        "model = make_crystal_model(**model_config)\n",
        "model.compile(\n",
        "    loss=\"mean_absolute_error\",\n",
        "    optimizer=Adam(learning_rate=1e-04),\n",
        "    metrics=[\"mean_absolute_error\"],\n",
        ")\n",
        "\n",
        "model.fit(\n",
        "    train_dataset.tensor(model_config[\"inputs\"]),train_labels,\n",
        "    shuffle=False,\n",
        "    batch_size=10,\n",
        "    epochs=20,\n",
        "    verbose=2,\n",
        ")"
      ],
      "metadata": {
        "colab": {
          "base_uri": "https://localhost:8080/",
          "height": 395
        },
        "id": "KzdvE8BHMPlF",
        "outputId": "9e4767bd-e3dd-4ed7-a3de-df4196125b34"
      },
      "execution_count": 20,
      "outputs": [
        {
          "output_type": "stream",
          "name": "stderr",
          "text": [
            "WARNING:kgcnn.model.utils:Model kwargs: Overwriting dictionary of output_mlp with None\n",
            "INFO:kgcnn.model.utils:Updated model kwargs:\n",
            "INFO:kgcnn.model.utils:{'name': 'Schnet', 'inputs': [{'shape': (None,), 'name': 'node_number', 'dtype': 'float32', 'ragged': True}, {'shape': (None, 3), 'name': 'node_coordinates', 'dtype': 'float32', 'ragged': True}, {'shape': (None, 2), 'name': 'range_indices', 'dtype': 'int64', 'ragged': True}, {'shape': (None, 3), 'name': 'range_image', 'dtype': 'int64', 'ragged': True}, {'shape': (3, 3), 'name': 'graph_lattice', 'dtype': 'float32', 'ragged': False}], 'input_embedding': {'node': {'input_dim': 95, 'output_dim': 64}}, 'make_distance': True, 'expand_distance': True, 'interaction_args': {'units': 128, 'use_bias': True, 'activation': 'kgcnn>shifted_softplus', 'cfconv_pool': 'sum'}, 'node_pooling_args': {'pooling_method': 'mean'}, 'depth': 4, 'gauss_args': {'bins': 25, 'distance': 5, 'offset': 0.0, 'sigma': 0.4}, 'verbose': 10, 'last_mlp': {'use_bias': [True, True, True], 'units': [128, 64, 1], 'activation': ['kgcnn>shifted_softplus', 'kgcnn>shifted_softplus', 'linear']}, 'output_embedding': 'graph', 'output_to_tensor': True, 'use_output_mlp': False, 'output_mlp': None}\n",
            "WARNING:kgcnn.data.exfoliation_en_train:Property 'range_indices' is not set on any graph.\n"
          ]
        },
        {
          "output_type": "error",
          "ename": "TypeError",
          "evalue": "ignored",
          "traceback": [
            "\u001b[0;31m---------------------------------------------------------------------------\u001b[0m",
            "\u001b[0;31mTypeError\u001b[0m                                 Traceback (most recent call last)",
            "\u001b[0;32m<ipython-input-20-c0855e801604>\u001b[0m in \u001b[0;36m<cell line: 35>\u001b[0;34m()\u001b[0m\n\u001b[1;32m     34\u001b[0m \u001b[0;34m\u001b[0m\u001b[0m\n\u001b[1;32m     35\u001b[0m model.fit(\n\u001b[0;32m---> 36\u001b[0;31m     \u001b[0mtrain_dataset\u001b[0m\u001b[0;34m.\u001b[0m\u001b[0mtensor\u001b[0m\u001b[0;34m(\u001b[0m\u001b[0mmodel_config\u001b[0m\u001b[0;34m[\u001b[0m\u001b[0;34m\"inputs\"\u001b[0m\u001b[0;34m]\u001b[0m\u001b[0;34m)\u001b[0m\u001b[0;34m,\u001b[0m\u001b[0mtrain_labels\u001b[0m\u001b[0;34m,\u001b[0m\u001b[0;34m\u001b[0m\u001b[0;34m\u001b[0m\u001b[0m\n\u001b[0m\u001b[1;32m     37\u001b[0m     \u001b[0mshuffle\u001b[0m\u001b[0;34m=\u001b[0m\u001b[0;32mFalse\u001b[0m\u001b[0;34m,\u001b[0m\u001b[0;34m\u001b[0m\u001b[0;34m\u001b[0m\u001b[0m\n\u001b[1;32m     38\u001b[0m     \u001b[0mbatch_size\u001b[0m\u001b[0;34m=\u001b[0m\u001b[0;36m10\u001b[0m\u001b[0;34m,\u001b[0m\u001b[0;34m\u001b[0m\u001b[0;34m\u001b[0m\u001b[0m\n",
            "\u001b[0;32m/content/gcnn_keras/kgcnn/data/base.py\u001b[0m in \u001b[0;36mtensor\u001b[0;34m(self, items, make_copy)\u001b[0m\n\u001b[1;32m    214\u001b[0m             \u001b[0;32mreturn\u001b[0m \u001b[0mself\u001b[0m\u001b[0;34m.\u001b[0m\u001b[0m_to_tensor\u001b[0m\u001b[0;34m(\u001b[0m\u001b[0mitems\u001b[0m\u001b[0;34m,\u001b[0m \u001b[0mmake_copy\u001b[0m\u001b[0;34m=\u001b[0m\u001b[0mmake_copy\u001b[0m\u001b[0;34m)\u001b[0m\u001b[0;34m\u001b[0m\u001b[0;34m\u001b[0m\u001b[0m\n\u001b[1;32m    215\u001b[0m         \u001b[0;32melif\u001b[0m \u001b[0misinstance\u001b[0m\u001b[0;34m(\u001b[0m\u001b[0mitems\u001b[0m\u001b[0;34m,\u001b[0m \u001b[0;34m(\u001b[0m\u001b[0mtuple\u001b[0m\u001b[0;34m,\u001b[0m \u001b[0mlist\u001b[0m\u001b[0;34m)\u001b[0m\u001b[0;34m)\u001b[0m\u001b[0;34m:\u001b[0m\u001b[0;34m\u001b[0m\u001b[0;34m\u001b[0m\u001b[0m\n\u001b[0;32m--> 216\u001b[0;31m             \u001b[0;32mreturn\u001b[0m \u001b[0;34m[\u001b[0m\u001b[0mself\u001b[0m\u001b[0;34m.\u001b[0m\u001b[0m_to_tensor\u001b[0m\u001b[0;34m(\u001b[0m\u001b[0mx\u001b[0m\u001b[0;34m,\u001b[0m \u001b[0mmake_copy\u001b[0m\u001b[0;34m=\u001b[0m\u001b[0mmake_copy\u001b[0m\u001b[0;34m)\u001b[0m \u001b[0;32mfor\u001b[0m \u001b[0mx\u001b[0m \u001b[0;32min\u001b[0m \u001b[0mitems\u001b[0m\u001b[0;34m]\u001b[0m\u001b[0;34m\u001b[0m\u001b[0;34m\u001b[0m\u001b[0m\n\u001b[0m\u001b[1;32m    217\u001b[0m         \u001b[0;32melse\u001b[0m\u001b[0;34m:\u001b[0m\u001b[0;34m\u001b[0m\u001b[0;34m\u001b[0m\u001b[0m\n\u001b[1;32m    218\u001b[0m             \u001b[0;32mraise\u001b[0m \u001b[0mTypeError\u001b[0m\u001b[0;34m(\u001b[0m\u001b[0;34m\"Wrong type, expected e.g. [{'name': 'edge_indices', 'ragged': True}, {...}, ...]\"\u001b[0m\u001b[0;34m)\u001b[0m\u001b[0;34m\u001b[0m\u001b[0;34m\u001b[0m\u001b[0m\n",
            "\u001b[0;32m/content/gcnn_keras/kgcnn/data/base.py\u001b[0m in \u001b[0;36m<listcomp>\u001b[0;34m(.0)\u001b[0m\n\u001b[1;32m    214\u001b[0m             \u001b[0;32mreturn\u001b[0m \u001b[0mself\u001b[0m\u001b[0;34m.\u001b[0m\u001b[0m_to_tensor\u001b[0m\u001b[0;34m(\u001b[0m\u001b[0mitems\u001b[0m\u001b[0;34m,\u001b[0m \u001b[0mmake_copy\u001b[0m\u001b[0;34m=\u001b[0m\u001b[0mmake_copy\u001b[0m\u001b[0;34m)\u001b[0m\u001b[0;34m\u001b[0m\u001b[0;34m\u001b[0m\u001b[0m\n\u001b[1;32m    215\u001b[0m         \u001b[0;32melif\u001b[0m \u001b[0misinstance\u001b[0m\u001b[0;34m(\u001b[0m\u001b[0mitems\u001b[0m\u001b[0;34m,\u001b[0m \u001b[0;34m(\u001b[0m\u001b[0mtuple\u001b[0m\u001b[0;34m,\u001b[0m \u001b[0mlist\u001b[0m\u001b[0;34m)\u001b[0m\u001b[0;34m)\u001b[0m\u001b[0;34m:\u001b[0m\u001b[0;34m\u001b[0m\u001b[0;34m\u001b[0m\u001b[0m\n\u001b[0;32m--> 216\u001b[0;31m             \u001b[0;32mreturn\u001b[0m \u001b[0;34m[\u001b[0m\u001b[0mself\u001b[0m\u001b[0;34m.\u001b[0m\u001b[0m_to_tensor\u001b[0m\u001b[0;34m(\u001b[0m\u001b[0mx\u001b[0m\u001b[0;34m,\u001b[0m \u001b[0mmake_copy\u001b[0m\u001b[0;34m=\u001b[0m\u001b[0mmake_copy\u001b[0m\u001b[0;34m)\u001b[0m \u001b[0;32mfor\u001b[0m \u001b[0mx\u001b[0m \u001b[0;32min\u001b[0m \u001b[0mitems\u001b[0m\u001b[0;34m]\u001b[0m\u001b[0;34m\u001b[0m\u001b[0;34m\u001b[0m\u001b[0m\n\u001b[0m\u001b[1;32m    217\u001b[0m         \u001b[0;32melse\u001b[0m\u001b[0;34m:\u001b[0m\u001b[0;34m\u001b[0m\u001b[0;34m\u001b[0m\u001b[0m\n\u001b[1;32m    218\u001b[0m             \u001b[0;32mraise\u001b[0m \u001b[0mTypeError\u001b[0m\u001b[0;34m(\u001b[0m\u001b[0;34m\"Wrong type, expected e.g. [{'name': 'edge_indices', 'ragged': True}, {...}, ...]\"\u001b[0m\u001b[0;34m)\u001b[0m\u001b[0;34m\u001b[0m\u001b[0;34m\u001b[0m\u001b[0m\n",
            "\u001b[0;32m/content/gcnn_keras/kgcnn/data/base.py\u001b[0m in \u001b[0;36m_to_tensor\u001b[0;34m(self, item, make_copy)\u001b[0m\n\u001b[1;32m    188\u001b[0m         \u001b[0;31m# Could add name and shape information if available.\u001b[0m\u001b[0;34m\u001b[0m\u001b[0;34m\u001b[0m\u001b[0m\n\u001b[1;32m    189\u001b[0m         \u001b[0;32mif\u001b[0m \u001b[0mis_ragged\u001b[0m\u001b[0;34m:\u001b[0m\u001b[0;34m\u001b[0m\u001b[0;34m\u001b[0m\u001b[0m\n\u001b[0;32m--> 190\u001b[0;31m             \u001b[0;32mreturn\u001b[0m \u001b[0mragged_tensor_from_nested_numpy\u001b[0m\u001b[0;34m(\u001b[0m\u001b[0mprops\u001b[0m\u001b[0;34m,\u001b[0m \u001b[0mdtype\u001b[0m\u001b[0;34m=\u001b[0m\u001b[0mdtype\u001b[0m\u001b[0;34m)\u001b[0m\u001b[0;34m\u001b[0m\u001b[0;34m\u001b[0m\u001b[0m\n\u001b[0m\u001b[1;32m    191\u001b[0m         \u001b[0;32melse\u001b[0m\u001b[0;34m:\u001b[0m\u001b[0;34m\u001b[0m\u001b[0;34m\u001b[0m\u001b[0m\n\u001b[1;32m    192\u001b[0m             \u001b[0;32mreturn\u001b[0m \u001b[0mtf\u001b[0m\u001b[0;34m.\u001b[0m\u001b[0mconstant\u001b[0m\u001b[0;34m(\u001b[0m\u001b[0mnp\u001b[0m\u001b[0;34m.\u001b[0m\u001b[0marray\u001b[0m\u001b[0;34m(\u001b[0m\u001b[0mprops\u001b[0m\u001b[0;34m)\u001b[0m\u001b[0;34m,\u001b[0m \u001b[0mdtype\u001b[0m\u001b[0;34m=\u001b[0m\u001b[0mdtype\u001b[0m\u001b[0;34m)\u001b[0m\u001b[0;34m\u001b[0m\u001b[0;34m\u001b[0m\u001b[0m\n",
            "\u001b[0;32m/content/gcnn_keras/kgcnn/data/utils.py\u001b[0m in \u001b[0;36mragged_tensor_from_nested_numpy\u001b[0;34m(numpy_list, dtype, row_splits_dtype)\u001b[0m\n\u001b[1;32m    155\u001b[0m     \"\"\"\n\u001b[1;32m    156\u001b[0m     return tf.RaggedTensor.from_row_lengths(\n\u001b[0;32m--> 157\u001b[0;31m         np.concatenate(numpy_list, axis=0, dtype=dtype), np.array([len(x) for x in numpy_list], dtype=row_splits_dtype))\n\u001b[0m\u001b[1;32m    158\u001b[0m \u001b[0;34m\u001b[0m\u001b[0m\n\u001b[1;32m    159\u001b[0m \u001b[0;34m\u001b[0m\u001b[0m\n",
            "\u001b[0;32m/usr/local/lib/python3.9/dist-packages/numpy/core/overrides.py\u001b[0m in \u001b[0;36mconcatenate\u001b[0;34m(*args, **kwargs)\u001b[0m\n",
            "\u001b[0;31mTypeError\u001b[0m: dispatcher for __array_function__ did not return an iterable"
          ]
        }
      ]
    },
    {
      "cell_type": "code",
      "source": [
        "train_dataset[0]"
      ],
      "metadata": {
        "colab": {
          "base_uri": "https://localhost:8080/"
        },
        "id": "ya3woBZrNSEH",
        "outputId": "8225c58a-2498-44e0-ad2f-0a71b80d33af"
      },
      "execution_count": 11,
      "outputs": [
        {
          "output_type": "execute_result",
          "data": {
            "text/plain": [
              "{'graph_labels': array(124.8),\n",
              " 'node_coordinates': array([[3.27151598e-16, 2.03436970e+00, 4.43930931e+00],\n",
              "        [2.03436970e+00, 0.00000000e+00, 2.45201648e+00],\n",
              "        [0.00000000e+00, 0.00000000e+00, 0.00000000e+00],\n",
              "        [2.03436970e+00, 2.03436970e+00, 2.49138434e-16],\n",
              "        [2.03436970e+00, 0.00000000e+00, 5.40683277e+00],\n",
              "        [3.27151598e-16, 2.03436970e+00, 1.48449302e+00]]),\n",
              " 'node_frac_coordinates': array([[0.        , 0.5       , 0.64418799],\n",
              "        [0.5       , 0.        , 0.35581201],\n",
              "        [0.        , 0.        , 0.        ],\n",
              "        [0.5       , 0.5       , 0.        ],\n",
              "        [0.5       , 0.        , 0.78458528],\n",
              "        [0.        , 0.5       , 0.21541472]]),\n",
              " 'graph_lattice': array([[4.06873939e+00, 0.00000000e+00, 2.49138434e-16],\n",
              "        [6.54303197e-16, 4.06873939e+00, 2.49138434e-16],\n",
              "        [0.00000000e+00, 0.00000000e+00, 6.89132579e+00]]),\n",
              " 'abc': array([4.06873939, 4.06873939, 6.89132579]),\n",
              " 'charge': array([0.]),\n",
              " 'volume': array([114.08341912]),\n",
              " 'node_number': array([11, 11, 30, 30, 15, 15])}"
            ]
          },
          "metadata": {},
          "execution_count": 11
        }
      ]
    },
    {
      "cell_type": "code",
      "source": [
        "train_dataset.clean(model_config[\"inputs\"])\n"
      ],
      "metadata": {
        "colab": {
          "base_uri": "https://localhost:8080/"
        },
        "id": "PAqVHBPENZhj",
        "outputId": "ab31942d-23b9-4813-f7b4-0435db45d1f3"
      },
      "execution_count": 17,
      "outputs": [
        {
          "output_type": "stream",
          "name": "stderr",
          "text": [
            "WARNING:kgcnn.data.exfoliation_en_train:Property 'range_indices' is not set on any graph.\n",
            "WARNING:kgcnn.data.exfoliation_en_train:Can not clean property '{'shape': (None, 2), 'name': 'range_indices', 'dtype': 'int64', 'ragged': True}' as it was not assigned to any graph.\n",
            "WARNING:kgcnn.data.exfoliation_en_train:Property 'range_image' is not set on any graph.\n",
            "WARNING:kgcnn.data.exfoliation_en_train:Can not clean property '{'shape': (None, 3), 'name': 'range_image', 'dtype': 'int64', 'ragged': True}' as it was not assigned to any graph.\n",
            "INFO:kgcnn.data.exfoliation_en_train:No invalid graphs for assigned properties found.\n"
          ]
        },
        {
          "output_type": "execute_result",
          "data": {
            "text/plain": [
              "array([], dtype=int64)"
            ]
          },
          "metadata": {},
          "execution_count": 17
        }
      ]
    },
    {
      "cell_type": "code",
      "source": [
        "train_dataset.tensor(model_config[\"inputs\"])"
      ],
      "metadata": {
        "colab": {
          "base_uri": "https://localhost:8080/",
          "height": 248
        },
        "id": "70oxYUERNbH9",
        "outputId": "1c61f58d-3ba2-4d97-bd5a-bf40dc13bb98"
      },
      "execution_count": 18,
      "outputs": [
        {
          "output_type": "stream",
          "name": "stderr",
          "text": [
            "WARNING:kgcnn.data.exfoliation_en_train:Property 'range_indices' is not set on any graph.\n"
          ]
        },
        {
          "output_type": "error",
          "ename": "TypeError",
          "evalue": "ignored",
          "traceback": [
            "\u001b[0;31m---------------------------------------------------------------------------\u001b[0m",
            "\u001b[0;31mTypeError\u001b[0m                                 Traceback (most recent call last)",
            "\u001b[0;32m<ipython-input-18-87530701241c>\u001b[0m in \u001b[0;36m<cell line: 1>\u001b[0;34m()\u001b[0m\n\u001b[0;32m----> 1\u001b[0;31m \u001b[0mtrain_dataset\u001b[0m\u001b[0;34m.\u001b[0m\u001b[0mtensor\u001b[0m\u001b[0;34m(\u001b[0m\u001b[0mmodel_config\u001b[0m\u001b[0;34m[\u001b[0m\u001b[0;34m\"inputs\"\u001b[0m\u001b[0;34m]\u001b[0m\u001b[0;34m)\u001b[0m\u001b[0;34m\u001b[0m\u001b[0;34m\u001b[0m\u001b[0m\n\u001b[0m",
            "\u001b[0;32m/content/gcnn_keras/kgcnn/data/base.py\u001b[0m in \u001b[0;36mtensor\u001b[0;34m(self, items, make_copy)\u001b[0m\n\u001b[1;32m    214\u001b[0m             \u001b[0;32mreturn\u001b[0m \u001b[0mself\u001b[0m\u001b[0;34m.\u001b[0m\u001b[0m_to_tensor\u001b[0m\u001b[0;34m(\u001b[0m\u001b[0mitems\u001b[0m\u001b[0;34m,\u001b[0m \u001b[0mmake_copy\u001b[0m\u001b[0;34m=\u001b[0m\u001b[0mmake_copy\u001b[0m\u001b[0;34m)\u001b[0m\u001b[0;34m\u001b[0m\u001b[0;34m\u001b[0m\u001b[0m\n\u001b[1;32m    215\u001b[0m         \u001b[0;32melif\u001b[0m \u001b[0misinstance\u001b[0m\u001b[0;34m(\u001b[0m\u001b[0mitems\u001b[0m\u001b[0;34m,\u001b[0m \u001b[0;34m(\u001b[0m\u001b[0mtuple\u001b[0m\u001b[0;34m,\u001b[0m \u001b[0mlist\u001b[0m\u001b[0;34m)\u001b[0m\u001b[0;34m)\u001b[0m\u001b[0;34m:\u001b[0m\u001b[0;34m\u001b[0m\u001b[0;34m\u001b[0m\u001b[0m\n\u001b[0;32m--> 216\u001b[0;31m             \u001b[0;32mreturn\u001b[0m \u001b[0;34m[\u001b[0m\u001b[0mself\u001b[0m\u001b[0;34m.\u001b[0m\u001b[0m_to_tensor\u001b[0m\u001b[0;34m(\u001b[0m\u001b[0mx\u001b[0m\u001b[0;34m,\u001b[0m \u001b[0mmake_copy\u001b[0m\u001b[0;34m=\u001b[0m\u001b[0mmake_copy\u001b[0m\u001b[0;34m)\u001b[0m \u001b[0;32mfor\u001b[0m \u001b[0mx\u001b[0m \u001b[0;32min\u001b[0m \u001b[0mitems\u001b[0m\u001b[0;34m]\u001b[0m\u001b[0;34m\u001b[0m\u001b[0;34m\u001b[0m\u001b[0m\n\u001b[0m\u001b[1;32m    217\u001b[0m         \u001b[0;32melse\u001b[0m\u001b[0;34m:\u001b[0m\u001b[0;34m\u001b[0m\u001b[0;34m\u001b[0m\u001b[0m\n\u001b[1;32m    218\u001b[0m             \u001b[0;32mraise\u001b[0m \u001b[0mTypeError\u001b[0m\u001b[0;34m(\u001b[0m\u001b[0;34m\"Wrong type, expected e.g. [{'name': 'edge_indices', 'ragged': True}, {...}, ...]\"\u001b[0m\u001b[0;34m)\u001b[0m\u001b[0;34m\u001b[0m\u001b[0;34m\u001b[0m\u001b[0m\n",
            "\u001b[0;32m/content/gcnn_keras/kgcnn/data/base.py\u001b[0m in \u001b[0;36m<listcomp>\u001b[0;34m(.0)\u001b[0m\n\u001b[1;32m    214\u001b[0m             \u001b[0;32mreturn\u001b[0m \u001b[0mself\u001b[0m\u001b[0;34m.\u001b[0m\u001b[0m_to_tensor\u001b[0m\u001b[0;34m(\u001b[0m\u001b[0mitems\u001b[0m\u001b[0;34m,\u001b[0m \u001b[0mmake_copy\u001b[0m\u001b[0;34m=\u001b[0m\u001b[0mmake_copy\u001b[0m\u001b[0;34m)\u001b[0m\u001b[0;34m\u001b[0m\u001b[0;34m\u001b[0m\u001b[0m\n\u001b[1;32m    215\u001b[0m         \u001b[0;32melif\u001b[0m \u001b[0misinstance\u001b[0m\u001b[0;34m(\u001b[0m\u001b[0mitems\u001b[0m\u001b[0;34m,\u001b[0m \u001b[0;34m(\u001b[0m\u001b[0mtuple\u001b[0m\u001b[0;34m,\u001b[0m \u001b[0mlist\u001b[0m\u001b[0;34m)\u001b[0m\u001b[0;34m)\u001b[0m\u001b[0;34m:\u001b[0m\u001b[0;34m\u001b[0m\u001b[0;34m\u001b[0m\u001b[0m\n\u001b[0;32m--> 216\u001b[0;31m             \u001b[0;32mreturn\u001b[0m \u001b[0;34m[\u001b[0m\u001b[0mself\u001b[0m\u001b[0;34m.\u001b[0m\u001b[0m_to_tensor\u001b[0m\u001b[0;34m(\u001b[0m\u001b[0mx\u001b[0m\u001b[0;34m,\u001b[0m \u001b[0mmake_copy\u001b[0m\u001b[0;34m=\u001b[0m\u001b[0mmake_copy\u001b[0m\u001b[0;34m)\u001b[0m \u001b[0;32mfor\u001b[0m \u001b[0mx\u001b[0m \u001b[0;32min\u001b[0m \u001b[0mitems\u001b[0m\u001b[0;34m]\u001b[0m\u001b[0;34m\u001b[0m\u001b[0;34m\u001b[0m\u001b[0m\n\u001b[0m\u001b[1;32m    217\u001b[0m         \u001b[0;32melse\u001b[0m\u001b[0;34m:\u001b[0m\u001b[0;34m\u001b[0m\u001b[0;34m\u001b[0m\u001b[0m\n\u001b[1;32m    218\u001b[0m             \u001b[0;32mraise\u001b[0m \u001b[0mTypeError\u001b[0m\u001b[0;34m(\u001b[0m\u001b[0;34m\"Wrong type, expected e.g. [{'name': 'edge_indices', 'ragged': True}, {...}, ...]\"\u001b[0m\u001b[0;34m)\u001b[0m\u001b[0;34m\u001b[0m\u001b[0;34m\u001b[0m\u001b[0m\n",
            "\u001b[0;32m/content/gcnn_keras/kgcnn/data/base.py\u001b[0m in \u001b[0;36m_to_tensor\u001b[0;34m(self, item, make_copy)\u001b[0m\n\u001b[1;32m    188\u001b[0m         \u001b[0;31m# Could add name and shape information if available.\u001b[0m\u001b[0;34m\u001b[0m\u001b[0;34m\u001b[0m\u001b[0m\n\u001b[1;32m    189\u001b[0m         \u001b[0;32mif\u001b[0m \u001b[0mis_ragged\u001b[0m\u001b[0;34m:\u001b[0m\u001b[0;34m\u001b[0m\u001b[0;34m\u001b[0m\u001b[0m\n\u001b[0;32m--> 190\u001b[0;31m             \u001b[0;32mreturn\u001b[0m \u001b[0mragged_tensor_from_nested_numpy\u001b[0m\u001b[0;34m(\u001b[0m\u001b[0mprops\u001b[0m\u001b[0;34m,\u001b[0m \u001b[0mdtype\u001b[0m\u001b[0;34m=\u001b[0m\u001b[0mdtype\u001b[0m\u001b[0;34m)\u001b[0m\u001b[0;34m\u001b[0m\u001b[0;34m\u001b[0m\u001b[0m\n\u001b[0m\u001b[1;32m    191\u001b[0m         \u001b[0;32melse\u001b[0m\u001b[0;34m:\u001b[0m\u001b[0;34m\u001b[0m\u001b[0;34m\u001b[0m\u001b[0m\n\u001b[1;32m    192\u001b[0m             \u001b[0;32mreturn\u001b[0m \u001b[0mtf\u001b[0m\u001b[0;34m.\u001b[0m\u001b[0mconstant\u001b[0m\u001b[0;34m(\u001b[0m\u001b[0mnp\u001b[0m\u001b[0;34m.\u001b[0m\u001b[0marray\u001b[0m\u001b[0;34m(\u001b[0m\u001b[0mprops\u001b[0m\u001b[0;34m)\u001b[0m\u001b[0;34m,\u001b[0m \u001b[0mdtype\u001b[0m\u001b[0;34m=\u001b[0m\u001b[0mdtype\u001b[0m\u001b[0;34m)\u001b[0m\u001b[0;34m\u001b[0m\u001b[0;34m\u001b[0m\u001b[0m\n",
            "\u001b[0;32m/content/gcnn_keras/kgcnn/data/utils.py\u001b[0m in \u001b[0;36mragged_tensor_from_nested_numpy\u001b[0;34m(numpy_list, dtype, row_splits_dtype)\u001b[0m\n\u001b[1;32m    155\u001b[0m     \"\"\"\n\u001b[1;32m    156\u001b[0m     return tf.RaggedTensor.from_row_lengths(\n\u001b[0;32m--> 157\u001b[0;31m         np.concatenate(numpy_list, axis=0, dtype=dtype), np.array([len(x) for x in numpy_list], dtype=row_splits_dtype))\n\u001b[0m\u001b[1;32m    158\u001b[0m \u001b[0;34m\u001b[0m\u001b[0m\n\u001b[1;32m    159\u001b[0m \u001b[0;34m\u001b[0m\u001b[0m\n",
            "\u001b[0;32m/usr/local/lib/python3.9/dist-packages/numpy/core/overrides.py\u001b[0m in \u001b[0;36mconcatenate\u001b[0;34m(*args, **kwargs)\u001b[0m\n",
            "\u001b[0;31mTypeError\u001b[0m: dispatcher for __array_function__ did not return an iterable"
          ]
        }
      ]
    },
    {
      "cell_type": "code",
      "source": [],
      "metadata": {
        "id": "zDqszQsNOtOf"
      },
      "execution_count": null,
      "outputs": []
    }
  ]
}