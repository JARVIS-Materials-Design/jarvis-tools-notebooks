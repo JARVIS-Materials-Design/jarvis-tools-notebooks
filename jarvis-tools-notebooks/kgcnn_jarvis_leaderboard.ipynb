{
  "nbformat": 4,
  "nbformat_minor": 0,
  "metadata": {
    "colab": {
      "provenance": [],
      "authorship_tag": "ABX9TyOeyU8VxYLdX+zRFOCjZs8g",
      "include_colab_link": true
    },
    "kernelspec": {
      "name": "python3",
      "display_name": "Python 3"
    },
    "language_info": {
      "name": "python"
    }
  },
  "cells": [
    {
      "cell_type": "markdown",
      "metadata": {
        "id": "view-in-github",
        "colab_type": "text"
      },
      "source": [
        "<a href=\"https://colab.research.google.com/github/knc6/jarvis-tools-notebooks/blob/master/jarvis-tools-notebooks/kgcnn_jarvis_leaderboard.ipynb\" target=\"_parent\"><img src=\"https://colab.research.google.com/assets/colab-badge.svg\" alt=\"Open In Colab\"/></a>"
      ]
    },
    {
      "cell_type": "markdown",
      "source": [
        "Install jarvis_leaderboard"
      ],
      "metadata": {
        "id": "Xbo_Fvx4L0N7"
      }
    },
    {
      "cell_type": "code",
      "execution_count": 5,
      "metadata": {
        "colab": {
          "base_uri": "https://localhost:8080/"
        },
        "id": "e7ccy1ysLBV5",
        "outputId": "c618ec54-1d43-421b-d48b-539db9d64acd"
      },
      "outputs": [
        {
          "output_type": "stream",
          "name": "stdout",
          "text": [
            "Looking in indexes: https://pypi.org/simple, https://us-python.pkg.dev/colab-wheels/public/simple/\n",
            "Requirement already satisfied: jarvis_leaderboard in /usr/local/lib/python3.9/dist-packages (2023.4.24)\n",
            "Requirement already satisfied: markdown==3.2.1 in /usr/local/lib/python3.9/dist-packages (from jarvis_leaderboard) (3.2.1)\n",
            "Requirement already satisfied: pydantic>=1.8.1 in /usr/local/lib/python3.9/dist-packages (from jarvis_leaderboard) (1.10.7)\n",
            "Collecting pandas==1.2.4\n",
            "  Using cached pandas-1.2.4-cp39-cp39-manylinux1_x86_64.whl (9.7 MB)\n",
            "Requirement already satisfied: mkdocs-material>=9.0.5 in /usr/local/lib/python3.9/dist-packages (from jarvis_leaderboard) (9.1.7)\n",
            "Requirement already satisfied: jarvis-tools>=2021.07.19 in /usr/local/lib/python3.9/dist-packages (from jarvis_leaderboard) (2023.4.6)\n",
            "Requirement already satisfied: scipy>=1.6.3 in /usr/local/lib/python3.9/dist-packages (from jarvis_leaderboard) (1.10.1)\n",
            "Requirement already satisfied: scikit-learn>=0.24.1 in /usr/local/lib/python3.9/dist-packages (from jarvis_leaderboard) (1.2.2)\n",
            "Requirement already satisfied: numpy>=1.19.5 in /usr/local/lib/python3.9/dist-packages (from jarvis_leaderboard) (1.23.5)\n",
            "Requirement already satisfied: setuptools>=36 in /usr/local/lib/python3.9/dist-packages (from markdown==3.2.1->jarvis_leaderboard) (67.7.1)\n",
            "Requirement already satisfied: pytz>=2017.3 in /usr/local/lib/python3.9/dist-packages (from pandas==1.2.4->jarvis_leaderboard) (2022.7.1)\n",
            "Requirement already satisfied: python-dateutil>=2.7.3 in /usr/local/lib/python3.9/dist-packages (from pandas==1.2.4->jarvis_leaderboard) (2.8.2)\n",
            "Requirement already satisfied: xmltodict>=0.11.0 in /usr/local/lib/python3.9/dist-packages (from jarvis-tools>=2021.07.19->jarvis_leaderboard) (0.13.0)\n",
            "Requirement already satisfied: spglib>=1.14.1 in /usr/local/lib/python3.9/dist-packages (from jarvis-tools>=2021.07.19->jarvis_leaderboard) (2.0.2)\n",
            "Requirement already satisfied: joblib>=0.14.1 in /usr/local/lib/python3.9/dist-packages (from jarvis-tools>=2021.07.19->jarvis_leaderboard) (1.2.0)\n",
            "Requirement already satisfied: matplotlib>=3.0.0 in /usr/local/lib/python3.9/dist-packages (from jarvis-tools>=2021.07.19->jarvis_leaderboard) (3.7.1)\n",
            "Requirement already satisfied: toolz>=0.9.0 in /usr/local/lib/python3.9/dist-packages (from jarvis-tools>=2021.07.19->jarvis_leaderboard) (0.12.0)\n",
            "Requirement already satisfied: tqdm>=4.41.1 in /usr/local/lib/python3.9/dist-packages (from jarvis-tools>=2021.07.19->jarvis_leaderboard) (4.65.0)\n",
            "Requirement already satisfied: requests>=2.23.0 in /usr/local/lib/python3.9/dist-packages (from jarvis-tools>=2021.07.19->jarvis_leaderboard) (2.28.2)\n",
            "Requirement already satisfied: mkdocs>=1.4.2 in /usr/local/lib/python3.9/dist-packages (from mkdocs-material>=9.0.5->jarvis_leaderboard) (1.4.2)\n",
            "Requirement already satisfied: jinja2>=3.0 in /usr/local/lib/python3.9/dist-packages (from mkdocs-material>=9.0.5->jarvis_leaderboard) (3.1.2)\n",
            "Requirement already satisfied: regex>=2022.4.24 in /usr/local/lib/python3.9/dist-packages (from mkdocs-material>=9.0.5->jarvis_leaderboard) (2022.10.31)\n",
            "Requirement already satisfied: pygments>=2.14 in /usr/local/lib/python3.9/dist-packages (from mkdocs-material>=9.0.5->jarvis_leaderboard) (2.14.0)\n",
            "Requirement already satisfied: pymdown-extensions>=9.9.1 in /usr/local/lib/python3.9/dist-packages (from mkdocs-material>=9.0.5->jarvis_leaderboard) (9.11)\n",
            "Requirement already satisfied: colorama>=0.4 in /usr/local/lib/python3.9/dist-packages (from mkdocs-material>=9.0.5->jarvis_leaderboard) (0.4.6)\n",
            "Requirement already satisfied: mkdocs-material-extensions>=1.1 in /usr/local/lib/python3.9/dist-packages (from mkdocs-material>=9.0.5->jarvis_leaderboard) (1.1.1)\n",
            "Requirement already satisfied: typing-extensions>=4.2.0 in /usr/local/lib/python3.9/dist-packages (from pydantic>=1.8.1->jarvis_leaderboard) (4.5.0)\n",
            "Requirement already satisfied: threadpoolctl>=2.0.0 in /usr/local/lib/python3.9/dist-packages (from scikit-learn>=0.24.1->jarvis_leaderboard) (3.1.0)\n",
            "Requirement already satisfied: MarkupSafe>=2.0 in /usr/local/lib/python3.9/dist-packages (from jinja2>=3.0->mkdocs-material>=9.0.5->jarvis_leaderboard) (2.1.2)\n",
            "Requirement already satisfied: pyparsing>=2.3.1 in /usr/local/lib/python3.9/dist-packages (from matplotlib>=3.0.0->jarvis-tools>=2021.07.19->jarvis_leaderboard) (3.0.9)\n",
            "Requirement already satisfied: pillow>=6.2.0 in /usr/local/lib/python3.9/dist-packages (from matplotlib>=3.0.0->jarvis-tools>=2021.07.19->jarvis_leaderboard) (8.4.0)\n",
            "Requirement already satisfied: importlib-resources>=3.2.0 in /usr/local/lib/python3.9/dist-packages (from matplotlib>=3.0.0->jarvis-tools>=2021.07.19->jarvis_leaderboard) (5.12.0)\n",
            "Requirement already satisfied: packaging>=20.0 in /usr/local/lib/python3.9/dist-packages (from matplotlib>=3.0.0->jarvis-tools>=2021.07.19->jarvis_leaderboard) (23.1)\n",
            "Requirement already satisfied: kiwisolver>=1.0.1 in /usr/local/lib/python3.9/dist-packages (from matplotlib>=3.0.0->jarvis-tools>=2021.07.19->jarvis_leaderboard) (1.4.4)\n",
            "Requirement already satisfied: fonttools>=4.22.0 in /usr/local/lib/python3.9/dist-packages (from matplotlib>=3.0.0->jarvis-tools>=2021.07.19->jarvis_leaderboard) (4.39.3)\n",
            "Requirement already satisfied: cycler>=0.10 in /usr/local/lib/python3.9/dist-packages (from matplotlib>=3.0.0->jarvis-tools>=2021.07.19->jarvis_leaderboard) (0.11.0)\n",
            "Requirement already satisfied: contourpy>=1.0.1 in /usr/local/lib/python3.9/dist-packages (from matplotlib>=3.0.0->jarvis-tools>=2021.07.19->jarvis_leaderboard) (1.0.7)\n",
            "Requirement already satisfied: mergedeep>=1.3.4 in /usr/local/lib/python3.9/dist-packages (from mkdocs>=1.4.2->mkdocs-material>=9.0.5->jarvis_leaderboard) (1.3.4)\n",
            "Requirement already satisfied: pyyaml>=5.1 in /usr/local/lib/python3.9/dist-packages (from mkdocs>=1.4.2->mkdocs-material>=9.0.5->jarvis_leaderboard) (6.0)\n",
            "Requirement already satisfied: watchdog>=2.0 in /usr/local/lib/python3.9/dist-packages (from mkdocs>=1.4.2->mkdocs-material>=9.0.5->jarvis_leaderboard) (3.0.0)\n",
            "Requirement already satisfied: ghp-import>=1.0 in /usr/local/lib/python3.9/dist-packages (from mkdocs>=1.4.2->mkdocs-material>=9.0.5->jarvis_leaderboard) (2.1.0)\n",
            "Requirement already satisfied: importlib-metadata>=4.3 in /usr/local/lib/python3.9/dist-packages (from mkdocs>=1.4.2->mkdocs-material>=9.0.5->jarvis_leaderboard) (6.4.1)\n",
            "Requirement already satisfied: click>=7.0 in /usr/local/lib/python3.9/dist-packages (from mkdocs>=1.4.2->mkdocs-material>=9.0.5->jarvis_leaderboard) (8.1.3)\n",
            "Requirement already satisfied: pyyaml-env-tag>=0.1 in /usr/local/lib/python3.9/dist-packages (from mkdocs>=1.4.2->mkdocs-material>=9.0.5->jarvis_leaderboard) (0.1)\n",
            "Requirement already satisfied: six>=1.5 in /usr/local/lib/python3.9/dist-packages (from python-dateutil>=2.7.3->pandas==1.2.4->jarvis_leaderboard) (1.16.0)\n",
            "Requirement already satisfied: certifi>=2017.4.17 in /usr/local/lib/python3.9/dist-packages (from requests>=2.23.0->jarvis-tools>=2021.07.19->jarvis_leaderboard) (2022.12.7)\n",
            "Requirement already satisfied: idna<4,>=2.5 in /usr/local/lib/python3.9/dist-packages (from requests>=2.23.0->jarvis-tools>=2021.07.19->jarvis_leaderboard) (3.4)\n",
            "Requirement already satisfied: charset-normalizer<4,>=2 in /usr/local/lib/python3.9/dist-packages (from requests>=2.23.0->jarvis-tools>=2021.07.19->jarvis_leaderboard) (2.0.12)\n",
            "Requirement already satisfied: urllib3<1.27,>=1.21.1 in /usr/local/lib/python3.9/dist-packages (from requests>=2.23.0->jarvis-tools>=2021.07.19->jarvis_leaderboard) (1.26.15)\n",
            "Requirement already satisfied: zipp>=0.5 in /usr/local/lib/python3.9/dist-packages (from importlib-metadata>=4.3->mkdocs>=1.4.2->mkdocs-material>=9.0.5->jarvis_leaderboard) (3.15.0)\n",
            "Installing collected packages: pandas\n",
            "  Attempting uninstall: pandas\n",
            "    Found existing installation: pandas 2.0.1\n",
            "    Uninstalling pandas-2.0.1:\n",
            "      Successfully uninstalled pandas-2.0.1\n",
            "\u001b[31mERROR: pip's dependency resolver does not currently take into account all the packages that are installed. This behaviour is the source of the following dependency conflicts.\n",
            "yfinance 0.2.18 requires pandas>=1.3.0, but you have pandas 1.2.4 which is incompatible.\n",
            "xarray 2022.12.0 requires pandas>=1.3, but you have pandas 1.2.4 which is incompatible.\n",
            "plotnine 0.10.1 requires pandas>=1.3.5, but you have pandas 1.2.4 which is incompatible.\n",
            "mizani 0.8.1 requires pandas>=1.3.5, but you have pandas 1.2.4 which is incompatible.\n",
            "google-colab 1.0.0 requires pandas~=1.5.3, but you have pandas 1.2.4 which is incompatible.\n",
            "arviz 0.15.1 requires pandas>=1.3.0, but you have pandas 1.2.4 which is incompatible.\n",
            "kgcnn 3.0.1 requires pandas>=1.5.2, but you have pandas 1.2.4 which is incompatible.\u001b[0m\u001b[31m\n",
            "\u001b[0mSuccessfully installed pandas-1.2.4\n"
          ]
        }
      ],
      "source": [
        "pip install  jarvis_leaderboard"
      ]
    },
    {
      "cell_type": "markdown",
      "source": [
        "Install kgcnn"
      ],
      "metadata": {
        "id": "kf9mPc0IL5Ae"
      }
    },
    {
      "cell_type": "code",
      "source": [
        "import os\n",
        "if not os.path.exists('gcnn_keras'):\n",
        "  !git clone https://github.com/aimat-lab/gcnn_keras.git"
      ],
      "metadata": {
        "id": "wTyHWpjvLHxi"
      },
      "execution_count": 1,
      "outputs": []
    },
    {
      "cell_type": "code",
      "source": [
        "!pip install -e ./gcnn_keras"
      ],
      "metadata": {
        "colab": {
          "base_uri": "https://localhost:8080/"
        },
        "id": "zXLJue9VLqG_",
        "outputId": "0cfa9048-aa13-433a-f206-943e3d012f53"
      },
      "execution_count": 2,
      "outputs": [
        {
          "output_type": "stream",
          "name": "stdout",
          "text": [
            "Looking in indexes: https://pypi.org/simple, https://us-python.pkg.dev/colab-wheels/public/simple/\n",
            "Obtaining file:///content/gcnn_keras\n",
            "  Preparing metadata (setup.py) ... \u001b[?25l\u001b[?25hdone\n",
            "Requirement already satisfied: numpy>=1.23.0 in /usr/local/lib/python3.9/dist-packages (from kgcnn==3.0.1) (1.23.5)\n",
            "Requirement already satisfied: scikit-learn>=1.1.3 in /usr/local/lib/python3.9/dist-packages (from kgcnn==3.0.1) (1.2.2)\n",
            "Requirement already satisfied: pandas>=1.5.2 in /usr/local/lib/python3.9/dist-packages (from kgcnn==3.0.1) (2.0.1)\n",
            "Requirement already satisfied: scipy>=1.9.3 in /usr/local/lib/python3.9/dist-packages (from kgcnn==3.0.1) (1.10.1)\n",
            "Requirement already satisfied: matplotlib>=3.6.0 in /usr/local/lib/python3.9/dist-packages (from kgcnn==3.0.1) (3.7.1)\n",
            "Requirement already satisfied: rdkit>=2022.9.2 in /usr/local/lib/python3.9/dist-packages (from kgcnn==3.0.1) (2022.9.5)\n",
            "Requirement already satisfied: pymatgen>=2022.11.7 in /usr/local/lib/python3.9/dist-packages (from kgcnn==3.0.1) (2023.3.23)\n",
            "Requirement already satisfied: tensorflow>=2.9.0 in /usr/local/lib/python3.9/dist-packages (from kgcnn==3.0.1) (2.12.0)\n",
            "Requirement already satisfied: tensorflow-addons>=0.18.0 in /usr/local/lib/python3.9/dist-packages (from kgcnn==3.0.1) (0.20.0)\n",
            "Requirement already satisfied: keras-tuner>=1.1.3 in /usr/local/lib/python3.9/dist-packages (from kgcnn==3.0.1) (1.3.5)\n",
            "Requirement already satisfied: requests>=2.28.1 in /usr/local/lib/python3.9/dist-packages (from kgcnn==3.0.1) (2.28.2)\n",
            "Requirement already satisfied: networkx>=2.8.8 in /usr/local/lib/python3.9/dist-packages (from kgcnn==3.0.1) (3.1)\n",
            "Requirement already satisfied: sympy>=1.11.1 in /usr/local/lib/python3.9/dist-packages (from kgcnn==3.0.1) (1.11.1)\n",
            "Requirement already satisfied: pyyaml>=6.0 in /usr/local/lib/python3.9/dist-packages (from kgcnn==3.0.1) (6.0)\n",
            "Requirement already satisfied: ase>=3.22.1 in /usr/local/lib/python3.9/dist-packages (from kgcnn==3.0.1) (3.22.1)\n",
            "Requirement already satisfied: click>=7.1.2 in /usr/local/lib/python3.9/dist-packages (from kgcnn==3.0.1) (8.1.3)\n",
            "Requirement already satisfied: brotli>=1.0.9 in /usr/local/lib/python3.9/dist-packages (from kgcnn==3.0.1) (1.0.9)\n",
            "Requirement already satisfied: pyxtal>=0.5.5 in /usr/local/lib/python3.9/dist-packages (from kgcnn==3.0.1) (0.5.5)\n",
            "Requirement already satisfied: packaging in /usr/local/lib/python3.9/dist-packages (from keras-tuner>=1.1.3->kgcnn==3.0.1) (23.1)\n",
            "Requirement already satisfied: kt-legacy in /usr/local/lib/python3.9/dist-packages (from keras-tuner>=1.1.3->kgcnn==3.0.1) (1.0.5)\n",
            "Requirement already satisfied: fonttools>=4.22.0 in /usr/local/lib/python3.9/dist-packages (from matplotlib>=3.6.0->kgcnn==3.0.1) (4.39.3)\n",
            "Requirement already satisfied: kiwisolver>=1.0.1 in /usr/local/lib/python3.9/dist-packages (from matplotlib>=3.6.0->kgcnn==3.0.1) (1.4.4)\n",
            "Requirement already satisfied: importlib-resources>=3.2.0 in /usr/local/lib/python3.9/dist-packages (from matplotlib>=3.6.0->kgcnn==3.0.1) (5.12.0)\n",
            "Requirement already satisfied: pyparsing>=2.3.1 in /usr/local/lib/python3.9/dist-packages (from matplotlib>=3.6.0->kgcnn==3.0.1) (3.0.9)\n",
            "Requirement already satisfied: pillow>=6.2.0 in /usr/local/lib/python3.9/dist-packages (from matplotlib>=3.6.0->kgcnn==3.0.1) (8.4.0)\n",
            "Requirement already satisfied: python-dateutil>=2.7 in /usr/local/lib/python3.9/dist-packages (from matplotlib>=3.6.0->kgcnn==3.0.1) (2.8.2)\n",
            "Requirement already satisfied: contourpy>=1.0.1 in /usr/local/lib/python3.9/dist-packages (from matplotlib>=3.6.0->kgcnn==3.0.1) (1.0.7)\n",
            "Requirement already satisfied: cycler>=0.10 in /usr/local/lib/python3.9/dist-packages (from matplotlib>=3.6.0->kgcnn==3.0.1) (0.11.0)\n",
            "Requirement already satisfied: pytz>=2020.1 in /usr/local/lib/python3.9/dist-packages (from pandas>=1.5.2->kgcnn==3.0.1) (2022.7.1)\n",
            "Requirement already satisfied: tzdata>=2022.1 in /usr/local/lib/python3.9/dist-packages (from pandas>=1.5.2->kgcnn==3.0.1) (2023.3)\n",
            "Requirement already satisfied: mp-api>=0.27.3 in /usr/local/lib/python3.9/dist-packages (from pymatgen>=2022.11.7->kgcnn==3.0.1) (0.32.0)\n",
            "Requirement already satisfied: palettable>=3.1.1 in /usr/local/lib/python3.9/dist-packages (from pymatgen>=2022.11.7->kgcnn==3.0.1) (3.3.2)\n",
            "Requirement already satisfied: uncertainties>=3.1.4 in /usr/local/lib/python3.9/dist-packages (from pymatgen>=2022.11.7->kgcnn==3.0.1) (3.1.7)\n",
            "Requirement already satisfied: ruamel.yaml>=0.17.0 in /usr/local/lib/python3.9/dist-packages (from pymatgen>=2022.11.7->kgcnn==3.0.1) (0.17.21)\n",
            "Requirement already satisfied: pybtex in /usr/local/lib/python3.9/dist-packages (from pymatgen>=2022.11.7->kgcnn==3.0.1) (0.24.0)\n",
            "Requirement already satisfied: monty>=3.0.2 in /usr/local/lib/python3.9/dist-packages (from pymatgen>=2022.11.7->kgcnn==3.0.1) (2023.4.10)\n",
            "Requirement already satisfied: tabulate in /usr/local/lib/python3.9/dist-packages (from pymatgen>=2022.11.7->kgcnn==3.0.1) (0.8.10)\n",
            "Requirement already satisfied: tqdm in /usr/local/lib/python3.9/dist-packages (from pymatgen>=2022.11.7->kgcnn==3.0.1) (4.65.0)\n",
            "Requirement already satisfied: plotly>=4.5.0 in /usr/local/lib/python3.9/dist-packages (from pymatgen>=2022.11.7->kgcnn==3.0.1) (5.13.1)\n",
            "Requirement already satisfied: spglib>=2.0.2 in /usr/local/lib/python3.9/dist-packages (from pymatgen>=2022.11.7->kgcnn==3.0.1) (2.0.2)\n",
            "Requirement already satisfied: numba>=0.55.2 in /usr/local/lib/python3.9/dist-packages (from pyxtal>=0.5.5->kgcnn==3.0.1) (0.56.4)\n",
            "Requirement already satisfied: importlib-metadata>=1.4 in /usr/local/lib/python3.9/dist-packages (from pyxtal>=0.5.5->kgcnn==3.0.1) (6.4.1)\n",
            "Requirement already satisfied: py3Dmol>=0.8.0 in /usr/local/lib/python3.9/dist-packages (from pyxtal>=0.5.5->kgcnn==3.0.1) (2.0.1.post1)\n",
            "Requirement already satisfied: pyshtools==4.10 in /usr/local/lib/python3.9/dist-packages (from pyxtal>=0.5.5->kgcnn==3.0.1) (4.10)\n",
            "Requirement already satisfied: astropy>=4.0 in /usr/local/lib/python3.9/dist-packages (from pyshtools==4.10->pyxtal>=0.5.5->kgcnn==3.0.1) (5.2.2)\n",
            "Requirement already satisfied: pooch>=1.1 in /usr/local/lib/python3.9/dist-packages (from pyshtools==4.10->pyxtal>=0.5.5->kgcnn==3.0.1) (1.6.0)\n",
            "Requirement already satisfied: xarray in /usr/local/lib/python3.9/dist-packages (from pyshtools==4.10->pyxtal>=0.5.5->kgcnn==3.0.1) (2022.12.0)\n",
            "Requirement already satisfied: certifi>=2017.4.17 in /usr/local/lib/python3.9/dist-packages (from requests>=2.28.1->kgcnn==3.0.1) (2022.12.7)\n",
            "Requirement already satisfied: urllib3<1.27,>=1.21.1 in /usr/local/lib/python3.9/dist-packages (from requests>=2.28.1->kgcnn==3.0.1) (1.26.15)\n",
            "Requirement already satisfied: idna<4,>=2.5 in /usr/local/lib/python3.9/dist-packages (from requests>=2.28.1->kgcnn==3.0.1) (3.4)\n",
            "Requirement already satisfied: charset-normalizer<4,>=2 in /usr/local/lib/python3.9/dist-packages (from requests>=2.28.1->kgcnn==3.0.1) (2.0.12)\n",
            "Requirement already satisfied: threadpoolctl>=2.0.0 in /usr/local/lib/python3.9/dist-packages (from scikit-learn>=1.1.3->kgcnn==3.0.1) (3.1.0)\n",
            "Requirement already satisfied: joblib>=1.1.1 in /usr/local/lib/python3.9/dist-packages (from scikit-learn>=1.1.3->kgcnn==3.0.1) (1.2.0)\n",
            "Requirement already satisfied: mpmath>=0.19 in /usr/local/lib/python3.9/dist-packages (from sympy>=1.11.1->kgcnn==3.0.1) (1.3.0)\n",
            "Requirement already satisfied: setuptools in /usr/local/lib/python3.9/dist-packages (from tensorflow>=2.9.0->kgcnn==3.0.1) (67.7.1)\n",
            "Requirement already satisfied: grpcio<2.0,>=1.24.3 in /usr/local/lib/python3.9/dist-packages (from tensorflow>=2.9.0->kgcnn==3.0.1) (1.53.0)\n",
            "Requirement already satisfied: typing-extensions>=3.6.6 in /usr/local/lib/python3.9/dist-packages (from tensorflow>=2.9.0->kgcnn==3.0.1) (4.5.0)\n",
            "Requirement already satisfied: tensorflow-io-gcs-filesystem>=0.23.1 in /usr/local/lib/python3.9/dist-packages (from tensorflow>=2.9.0->kgcnn==3.0.1) (0.32.0)\n",
            "Requirement already satisfied: wrapt<1.15,>=1.11.0 in /usr/local/lib/python3.9/dist-packages (from tensorflow>=2.9.0->kgcnn==3.0.1) (1.14.1)\n",
            "Requirement already satisfied: jax>=0.3.15 in /usr/local/lib/python3.9/dist-packages (from tensorflow>=2.9.0->kgcnn==3.0.1) (0.4.8)\n",
            "Requirement already satisfied: opt-einsum>=2.3.2 in /usr/local/lib/python3.9/dist-packages (from tensorflow>=2.9.0->kgcnn==3.0.1) (3.3.0)\n",
            "Requirement already satisfied: tensorflow-estimator<2.13,>=2.12.0 in /usr/local/lib/python3.9/dist-packages (from tensorflow>=2.9.0->kgcnn==3.0.1) (2.12.0)\n",
            "Requirement already satisfied: gast<=0.4.0,>=0.2.1 in /usr/local/lib/python3.9/dist-packages (from tensorflow>=2.9.0->kgcnn==3.0.1) (0.4.0)\n",
            "Requirement already satisfied: termcolor>=1.1.0 in /usr/local/lib/python3.9/dist-packages (from tensorflow>=2.9.0->kgcnn==3.0.1) (2.2.0)\n",
            "Requirement already satisfied: h5py>=2.9.0 in /usr/local/lib/python3.9/dist-packages (from tensorflow>=2.9.0->kgcnn==3.0.1) (3.8.0)\n",
            "Requirement already satisfied: six>=1.12.0 in /usr/local/lib/python3.9/dist-packages (from tensorflow>=2.9.0->kgcnn==3.0.1) (1.16.0)\n",
            "Requirement already satisfied: absl-py>=1.0.0 in /usr/local/lib/python3.9/dist-packages (from tensorflow>=2.9.0->kgcnn==3.0.1) (1.4.0)\n",
            "Requirement already satisfied: flatbuffers>=2.0 in /usr/local/lib/python3.9/dist-packages (from tensorflow>=2.9.0->kgcnn==3.0.1) (23.3.3)\n",
            "Requirement already satisfied: tensorboard<2.13,>=2.12 in /usr/local/lib/python3.9/dist-packages (from tensorflow>=2.9.0->kgcnn==3.0.1) (2.12.2)\n",
            "Requirement already satisfied: libclang>=13.0.0 in /usr/local/lib/python3.9/dist-packages (from tensorflow>=2.9.0->kgcnn==3.0.1) (16.0.0)\n",
            "Requirement already satisfied: protobuf!=4.21.0,!=4.21.1,!=4.21.2,!=4.21.3,!=4.21.4,!=4.21.5,<5.0.0dev,>=3.20.3 in /usr/local/lib/python3.9/dist-packages (from tensorflow>=2.9.0->kgcnn==3.0.1) (3.20.3)\n",
            "Requirement already satisfied: google-pasta>=0.1.1 in /usr/local/lib/python3.9/dist-packages (from tensorflow>=2.9.0->kgcnn==3.0.1) (0.2.0)\n",
            "Requirement already satisfied: astunparse>=1.6.0 in /usr/local/lib/python3.9/dist-packages (from tensorflow>=2.9.0->kgcnn==3.0.1) (1.6.3)\n",
            "Requirement already satisfied: keras<2.13,>=2.12.0 in /usr/local/lib/python3.9/dist-packages (from tensorflow>=2.9.0->kgcnn==3.0.1) (2.12.0)\n",
            "Requirement already satisfied: typeguard<3.0.0,>=2.7 in /usr/local/lib/python3.9/dist-packages (from tensorflow-addons>=0.18.0->kgcnn==3.0.1) (2.13.3)\n",
            "Requirement already satisfied: wheel<1.0,>=0.23.0 in /usr/local/lib/python3.9/dist-packages (from astunparse>=1.6.0->tensorflow>=2.9.0->kgcnn==3.0.1) (0.40.0)\n",
            "Requirement already satisfied: zipp>=0.5 in /usr/local/lib/python3.9/dist-packages (from importlib-metadata>=1.4->pyxtal>=0.5.5->kgcnn==3.0.1) (3.15.0)\n",
            "Requirement already satisfied: ml-dtypes>=0.0.3 in /usr/local/lib/python3.9/dist-packages (from jax>=0.3.15->tensorflow>=2.9.0->kgcnn==3.0.1) (0.1.0)\n",
            "Requirement already satisfied: emmet-core<=0.50.0 in /usr/local/lib/python3.9/dist-packages (from mp-api>=0.27.3->pymatgen>=2022.11.7->kgcnn==3.0.1) (0.50.0)\n",
            "Requirement already satisfied: msgpack in /usr/local/lib/python3.9/dist-packages (from mp-api>=0.27.3->pymatgen>=2022.11.7->kgcnn==3.0.1) (1.0.5)\n",
            "Requirement already satisfied: llvmlite<0.40,>=0.39.0dev0 in /usr/local/lib/python3.9/dist-packages (from numba>=0.55.2->pyxtal>=0.5.5->kgcnn==3.0.1) (0.39.1)\n",
            "Requirement already satisfied: tenacity>=6.2.0 in /usr/local/lib/python3.9/dist-packages (from plotly>=4.5.0->pymatgen>=2022.11.7->kgcnn==3.0.1) (8.2.2)\n",
            "Requirement already satisfied: ruamel.yaml.clib>=0.2.6 in /usr/local/lib/python3.9/dist-packages (from ruamel.yaml>=0.17.0->pymatgen>=2022.11.7->kgcnn==3.0.1) (0.2.7)\n",
            "Requirement already satisfied: werkzeug>=1.0.1 in /usr/local/lib/python3.9/dist-packages (from tensorboard<2.13,>=2.12->tensorflow>=2.9.0->kgcnn==3.0.1) (2.2.3)\n",
            "Requirement already satisfied: markdown>=2.6.8 in /usr/local/lib/python3.9/dist-packages (from tensorboard<2.13,>=2.12->tensorflow>=2.9.0->kgcnn==3.0.1) (3.2.1)\n",
            "Requirement already satisfied: google-auth<3,>=1.6.3 in /usr/local/lib/python3.9/dist-packages (from tensorboard<2.13,>=2.12->tensorflow>=2.9.0->kgcnn==3.0.1) (2.17.3)\n",
            "Requirement already satisfied: tensorboard-plugin-wit>=1.6.0 in /usr/local/lib/python3.9/dist-packages (from tensorboard<2.13,>=2.12->tensorflow>=2.9.0->kgcnn==3.0.1) (1.8.1)\n",
            "Requirement already satisfied: tensorboard-data-server<0.8.0,>=0.7.0 in /usr/local/lib/python3.9/dist-packages (from tensorboard<2.13,>=2.12->tensorflow>=2.9.0->kgcnn==3.0.1) (0.7.0)\n",
            "Requirement already satisfied: google-auth-oauthlib<1.1,>=0.5 in /usr/local/lib/python3.9/dist-packages (from tensorboard<2.13,>=2.12->tensorflow>=2.9.0->kgcnn==3.0.1) (1.0.0)\n",
            "Requirement already satisfied: future in /usr/local/lib/python3.9/dist-packages (from uncertainties>=3.1.4->pymatgen>=2022.11.7->kgcnn==3.0.1) (0.18.3)\n",
            "Requirement already satisfied: latexcodec>=1.0.4 in /usr/local/lib/python3.9/dist-packages (from pybtex->pymatgen>=2022.11.7->kgcnn==3.0.1) (2.0.1)\n",
            "Requirement already satisfied: pyerfa>=2.0 in /usr/local/lib/python3.9/dist-packages (from astropy>=4.0->pyshtools==4.10->pyxtal>=0.5.5->kgcnn==3.0.1) (2.0.0.3)\n",
            "Requirement already satisfied: pydantic>=1.10.2 in /usr/local/lib/python3.9/dist-packages (from emmet-core<=0.50.0->mp-api>=0.27.3->pymatgen>=2022.11.7->kgcnn==3.0.1) (1.10.7)\n",
            "Requirement already satisfied: pyasn1-modules>=0.2.1 in /usr/local/lib/python3.9/dist-packages (from google-auth<3,>=1.6.3->tensorboard<2.13,>=2.12->tensorflow>=2.9.0->kgcnn==3.0.1) (0.2.8)\n",
            "Requirement already satisfied: cachetools<6.0,>=2.0.0 in /usr/local/lib/python3.9/dist-packages (from google-auth<3,>=1.6.3->tensorboard<2.13,>=2.12->tensorflow>=2.9.0->kgcnn==3.0.1) (5.3.0)\n",
            "Requirement already satisfied: rsa<5,>=3.1.4 in /usr/local/lib/python3.9/dist-packages (from google-auth<3,>=1.6.3->tensorboard<2.13,>=2.12->tensorflow>=2.9.0->kgcnn==3.0.1) (4.9)\n",
            "Requirement already satisfied: requests-oauthlib>=0.7.0 in /usr/local/lib/python3.9/dist-packages (from google-auth-oauthlib<1.1,>=0.5->tensorboard<2.13,>=2.12->tensorflow>=2.9.0->kgcnn==3.0.1) (1.3.1)\n",
            "Requirement already satisfied: appdirs>=1.3.0 in /usr/local/lib/python3.9/dist-packages (from pooch>=1.1->pyshtools==4.10->pyxtal>=0.5.5->kgcnn==3.0.1) (1.4.4)\n",
            "Requirement already satisfied: MarkupSafe>=2.1.1 in /usr/local/lib/python3.9/dist-packages (from werkzeug>=1.0.1->tensorboard<2.13,>=2.12->tensorflow>=2.9.0->kgcnn==3.0.1) (2.1.2)\n",
            "Requirement already satisfied: pyasn1<0.5.0,>=0.4.6 in /usr/local/lib/python3.9/dist-packages (from pyasn1-modules>=0.2.1->google-auth<3,>=1.6.3->tensorboard<2.13,>=2.12->tensorflow>=2.9.0->kgcnn==3.0.1) (0.4.8)\n",
            "Requirement already satisfied: oauthlib>=3.0.0 in /usr/local/lib/python3.9/dist-packages (from requests-oauthlib>=0.7.0->google-auth-oauthlib<1.1,>=0.5->tensorboard<2.13,>=2.12->tensorflow>=2.9.0->kgcnn==3.0.1) (3.2.2)\n",
            "Installing collected packages: kgcnn\n",
            "  Attempting uninstall: kgcnn\n",
            "    Found existing installation: kgcnn 3.0.1\n",
            "    Can't uninstall 'kgcnn'. No files were found to uninstall.\n",
            "  Running setup.py develop for kgcnn\n",
            "Successfully installed kgcnn-3.0.1\n"
          ]
        }
      ]
    },
    {
      "cell_type": "markdown",
      "source": [
        "might have to restart runtime here in case you can't import kgcnn"
      ],
      "metadata": {
        "id": "94r-fiT7M5Jh"
      }
    },
    {
      "cell_type": "code",
      "source": [
        "import jarvis_leaderboard"
      ],
      "metadata": {
        "id": "x6JlXp7Ibqma"
      },
      "execution_count": 3,
      "outputs": []
    },
    {
      "cell_type": "code",
      "source": [
        "import kgcnn"
      ],
      "metadata": {
        "id": "pgzOidKRMUj0"
      },
      "execution_count": 4,
      "outputs": []
    },
    {
      "cell_type": "markdown",
      "source": [
        "Files will be saved in the output_path i.e. 'Out' directory"
      ],
      "metadata": {
        "id": "OcIup4i_Mu6A"
      }
    },
    {
      "cell_type": "code",
      "source": [
        "!jarvis_populate_data.py --benchmark_file SinglePropertyPrediction-test-exfoliation_energy-dft_3d-AI-mae --output_path=Out"
      ],
      "metadata": {
        "colab": {
          "base_uri": "https://localhost:8080/"
        },
        "id": "7tY6aR6FLx7Z",
        "outputId": "02edc9c3-6376-4ff7-aeec-7d2d3ac721f9"
      },
      "execution_count": 5,
      "outputs": [
        {
          "output_type": "stream",
          "name": "stdout",
          "text": [
            "benchmark_file SinglePropertyPrediction-test-exfoliation_energy-dft_3d-AI-mae\n",
            "dataset dft_3d\n",
            "output_path Out\n",
            "property exfoliation_energy\n",
            "method AI\n",
            "task SinglePropertyPrediction\n",
            "id_tag jid\n",
            "dataset file to be used /usr/local/lib/python3.9/dist-packages/jarvis_leaderboard/dataset/AI/SinglePropertyPrediction/dft_3d_exfoliation_energy.json.zip\n",
            "Obtaining 3D dataset 76k ...\n",
            "Reference:https://www.nature.com/articles/s41524-020-00440-1\n",
            "Other versions:https://doi.org/10.6084/m9.figshare.6815699\n",
            "100% 40.8M/40.8M [00:02<00:00, 16.6MiB/s]\n",
            "Loading the zipfile...\n",
            "Loading completed.\n",
            "number of training samples 650\n",
            "number of validation samples 81\n",
            "number of test samples 81\n"
          ]
        }
      ]
    },
    {
      "cell_type": "code",
      "source": [
        "!rm -r exfoliation_en*"
      ],
      "metadata": {
        "colab": {
          "base_uri": "https://localhost:8080/"
        },
        "id": "xvH68NklVIeH",
        "outputId": "a578274e-86c4-4768-e463-6615078b376a"
      },
      "execution_count": 6,
      "outputs": [
        {
          "output_type": "stream",
          "name": "stdout",
          "text": [
            "rm: cannot remove 'exfoliation_en*': No such file or directory\n"
          ]
        }
      ]
    },
    {
      "cell_type": "code",
      "source": [
        "ls"
      ],
      "metadata": {
        "colab": {
          "base_uri": "https://localhost:8080/"
        },
        "id": "HbFvaor6VL3f",
        "outputId": "df862760-ec56-4828-e00a-0e89b111a106"
      },
      "execution_count": 7,
      "outputs": [
        {
          "output_type": "stream",
          "name": "stdout",
          "text": [
            "\u001b[0m\u001b[01;34mgcnn_keras\u001b[0m/  \u001b[01;34mOut\u001b[0m/  \u001b[01;34msample_data\u001b[0m/\n"
          ]
        }
      ]
    },
    {
      "cell_type": "code",
      "source": [
        "from kgcnn.literature.Schnet import make_crystal_model\n",
        "from tensorflow.keras.optimizers import Adam\n",
        "ragged=True\n",
        "model_config = {\n",
        "    \"name\": \"Schnet\",\n",
        "    \"inputs\": [\n",
        "        {'shape': (None,), 'name': \"node_number\", 'dtype': 'float32', 'ragged': ragged},\n",
        "        {'shape': (None, 3), 'name': \"node_coordinates\", 'dtype': 'float32', 'ragged': ragged},\n",
        "        {'shape': (None, 2), 'name': \"range_indices\", 'dtype': 'int64', 'ragged': ragged},\n",
        "        {'shape': (None, 3), 'name': \"range_image\", 'dtype': 'int64', 'ragged': ragged},\n",
        "        {'shape': (3, 3), 'name': \"graph_lattice\", 'dtype': 'float32', 'ragged': False}\n",
        "    ],\n",
        "    \"input_embedding\": {\n",
        "        \"node\": {\"input_dim\": 95, \"output_dim\": 64}\n",
        "    },\n",
        "    \"interaction_args\": {\n",
        "        \"units\": 128, \"use_bias\": True, \"activation\": \"kgcnn>shifted_softplus\", \"cfconv_pool\": \"sum\"\n",
        "    },\n",
        "    \"node_pooling_args\": {\"pooling_method\": \"mean\"},\n",
        "    \"depth\": 4,\n",
        "    \"gauss_args\": {\"bins\": 25, \"distance\": 5, \"offset\": 0.0, \"sigma\": 0.4}, \"verbose\": 10,\n",
        "    \"last_mlp\": {\"use_bias\": [True, True, True], \"units\": [128, 64, 1],\n",
        "                 \"activation\": ['kgcnn>shifted_softplus', 'kgcnn>shifted_softplus', 'linear']},\n",
        "    \"output_embedding\": \"graph\",\n",
        "    \"use_output_mlp\": False,\n",
        "    \"output_mlp\": None,  # Last MLP sets output dimension if None.\n",
        "}\n",
        "model = make_crystal_model(**model_config)\n",
        "model.compile(\n",
        "    loss=\"mean_absolute_error\",\n",
        "    optimizer=Adam(learning_rate=1e-04),\n",
        "    metrics=[\"mean_absolute_error\"],\n",
        ")"
      ],
      "metadata": {
        "colab": {
          "base_uri": "https://localhost:8080/"
        },
        "id": "wU-HvIlqWrWj",
        "outputId": "3cbe4cdd-cf88-4663-81fb-c6ebb3bd0628"
      },
      "execution_count": 8,
      "outputs": [
        {
          "output_type": "stream",
          "name": "stderr",
          "text": [
            "WARNING:kgcnn.model.utils:Model kwargs: Overwriting dictionary of output_mlp with None\n",
            "INFO:kgcnn.model.utils:Updated model kwargs:\n",
            "INFO:kgcnn.model.utils:{'name': 'Schnet', 'inputs': [{'shape': (None,), 'name': 'node_number', 'dtype': 'float32', 'ragged': True}, {'shape': (None, 3), 'name': 'node_coordinates', 'dtype': 'float32', 'ragged': True}, {'shape': (None, 2), 'name': 'range_indices', 'dtype': 'int64', 'ragged': True}, {'shape': (None, 3), 'name': 'range_image', 'dtype': 'int64', 'ragged': True}, {'shape': (3, 3), 'name': 'graph_lattice', 'dtype': 'float32', 'ragged': False}], 'input_embedding': {'node': {'input_dim': 95, 'output_dim': 64}}, 'make_distance': True, 'expand_distance': True, 'interaction_args': {'units': 128, 'use_bias': True, 'activation': 'kgcnn>shifted_softplus', 'cfconv_pool': 'sum'}, 'node_pooling_args': {'pooling_method': 'mean'}, 'depth': 4, 'gauss_args': {'bins': 25, 'distance': 5, 'offset': 0.0, 'sigma': 0.4}, 'verbose': 10, 'last_mlp': {'use_bias': [True, True, True], 'units': [128, 64, 1], 'activation': ['kgcnn>shifted_softplus', 'kgcnn>shifted_softplus', 'linear']}, 'output_embedding': 'graph', 'output_to_tensor': True, 'use_output_mlp': False, 'output_mlp': None}\n"
          ]
        }
      ]
    },
    {
      "cell_type": "markdown",
      "source": [
        "We choose one of the SinglePropertyPrediction tasks from the [leaderboard](https://pages.nist.gov/jarvis_leaderboard/AI/SinglePropertyPrediction/)"
      ],
      "metadata": {
        "id": "xeAE0LzCnKlE"
      }
    },
    {
      "cell_type": "code",
      "source": [
        "import pandas as pd\n",
        "import os\n",
        "from jarvis.core.atoms import Atoms\n",
        "from kgcnn.data.crystal import CrystalDataset\n",
        "import numpy as np\n",
        "\n",
        "def prepare_data(dirname='exfoliation_en',populated_data_path='Out'):\n",
        "\n",
        "    id_prop_path=os.path.join(populated_data_path,'id_prop.csv')\n",
        "    df=pd.read_csv(id_prop_path,header=None)\n",
        "    df.columns=['id','target']\n",
        "\n",
        "   \n",
        "    #train\n",
        "    train_dir = dirname+'_train'\n",
        "    if not os.path.exists(train_dir):\n",
        "        os.makedirs(train_dir)\n",
        "    train_cif = os.path.join(train_dir,'CifFiles')\n",
        "    if not os.path.exists(train_cif):\n",
        "        os.makedirs(train_cif)\n",
        "    csv_file = train_dir+'/data.csv'\n",
        "    print ('train_dir',train_dir)\n",
        "    f=open(csv_file, \"w\")\n",
        "    f.write(\"file_name,index,label\\n\")\n",
        "    targets = []\n",
        "    for i,ii in df.iterrows():\n",
        "        pos_path=os.path.join(populated_data_path,ii['id'])\n",
        "        atoms=Atoms.from_poscar(pos_path)\n",
        "        pmg = (atoms.pymatgen_converter())\n",
        "        targets.append(ii['target'])\n",
        "        fname=\"file_\"+str(ii['id'])+\".cif\"\n",
        "        #fname=\"file_\"+str(i)+\".cif\"\n",
        "        cif_name = os.path.join(train_cif,fname)\n",
        "        pmg.to(filename=cif_name, fmt=\"cif\")\n",
        "        line=fname+','+str(i)+','+str(ii['target'])+'\\n'\n",
        "        f.write(line)\n",
        "    f.close()\n",
        "    dataset = CrystalDataset(\n",
        "        data_directory=train_dir, \n",
        "        dataset_name=train_dir, \n",
        "        file_name=\"data.csv\", \n",
        "        file_directory=\"CifFiles\"\n",
        "    )\n",
        "    dataset.prepare_data(file_column_name=\"file_name\", overwrite=True)\n",
        "    dataset.read_in_memory(label_column_name=\"label\")\n",
        "    labels = np.expand_dims(dataset.get(\"graph_labels\"), axis=-1)\n",
        "    dataset.map_list(method=\"set_range_periodic\", max_distance=5.0, max_neighbours=20)\n",
        "  \n",
        "    return dataset,labels,df\n",
        "\n",
        "dataset,labels,df = prepare_data(populated_data_path='Out')\n",
        "\n"
      ],
      "metadata": {
        "colab": {
          "base_uri": "https://localhost:8080/"
        },
        "id": "SNkSXv5sPNV5",
        "outputId": "5d6d1be4-fde0-4d7b-ebbc-3d80b2fcc86c"
      },
      "execution_count": 9,
      "outputs": [
        {
          "output_type": "stream",
          "name": "stdout",
          "text": [
            "train_dir exfoliation_en_train\n"
          ]
        },
        {
          "output_type": "stream",
          "name": "stderr",
          "text": [
            "INFO:kgcnn.data.exfoliation_en_train:Searching for structure files in 'exfoliation_en_train/CifFiles'\n",
            "INFO:kgcnn.data.exfoliation_en_train:Read 812 single files.\n",
            "INFO:kgcnn.data.exfoliation_en_train:... Read .cif file 0 from 812\n",
            "/usr/local/lib/python3.9/dist-packages/pymatgen/io/cif.py:1147: UserWarning: Issues encountered while parsing CIF: Some fractional coordinates rounded to ideal values to avoid issues with finite precision.\n",
            "  warnings.warn(\"Issues encountered while parsing CIF: \" + \"\\n\".join(self.warnings))\n",
            "INFO:kgcnn.data.exfoliation_en_train:Exporting as dict for pymatgen ...\n",
            "INFO:kgcnn.data.exfoliation_en_train:Saving structures as .json ...\n",
            "INFO:kgcnn.data.exfoliation_en_train:Making node features from structure...\n",
            "INFO:kgcnn.data.exfoliation_en_train:Reading structures from .json ...\n",
            "INFO:kgcnn.data.exfoliation_en_train: ... read structures 0 from 812\n"
          ]
        }
      ]
    },
    {
      "cell_type": "code",
      "source": [
        "len(dataset),len(labels)"
      ],
      "metadata": {
        "colab": {
          "base_uri": "https://localhost:8080/"
        },
        "id": "5DevmEdNVRNY",
        "outputId": "15289b53-be82-4fad-e49d-dd307c44c1b1"
      },
      "execution_count": 10,
      "outputs": [
        {
          "output_type": "execute_result",
          "data": {
            "text/plain": [
              "(812, 812)"
            ]
          },
          "metadata": {},
          "execution_count": 10
        }
      ]
    },
    {
      "cell_type": "code",
      "source": [
        "n_train=650\n",
        "n_val=81\n",
        "n_test=81\n",
        "train_index=np.arange(0,n_train)\n",
        "val_index=np.arange(n_train,n_train+n_val)\n",
        "test_index=np.arange(n_train+n_val,n_train+n_val+n_test)"
      ],
      "metadata": {
        "id": "a3ZlZ6eLP7PE"
      },
      "execution_count": 11,
      "outputs": []
    },
    {
      "cell_type": "code",
      "source": [
        "x_train,y_train=dataset[train_index], labels[train_index]\n",
        "x_val, y_val = dataset[val_index].tensor(model_config[\"inputs\"]), labels[val_index]\n",
        "x_test, y_test = dataset[test_index].tensor(model_config[\"inputs\"]), labels[test_index]"
      ],
      "metadata": {
        "id": "3VNXYEB7QdK8"
      },
      "execution_count": 12,
      "outputs": []
    },
    {
      "cell_type": "code",
      "source": [
        "model.fit(\n",
        "    x_train.tensor(model_config[\"inputs\"]),y_train,\n",
        "    shuffle=False,\n",
        "    batch_size=10,\n",
        "    epochs=20,\n",
        "    verbose=2,\n",
        ")"
      ],
      "metadata": {
        "colab": {
          "base_uri": "https://localhost:8080/"
        },
        "id": "oDDhDx5KRDSN",
        "outputId": "f97cb230-63f6-448e-8706-7a96e2d50bf8"
      },
      "execution_count": 13,
      "outputs": [
        {
          "output_type": "stream",
          "name": "stdout",
          "text": [
            "Epoch 1/20\n",
            "65/65 - 13s - loss: 98.3313 - mean_absolute_error: 98.3313 - 13s/epoch - 195ms/step\n",
            "Epoch 2/20\n",
            "65/65 - 3s - loss: 63.0246 - mean_absolute_error: 63.0246 - 3s/epoch - 53ms/step\n",
            "Epoch 3/20\n",
            "65/65 - 6s - loss: 58.8325 - mean_absolute_error: 58.8325 - 6s/epoch - 96ms/step\n",
            "Epoch 4/20\n",
            "65/65 - 5s - loss: 56.6790 - mean_absolute_error: 56.6790 - 5s/epoch - 80ms/step\n",
            "Epoch 5/20\n",
            "65/65 - 3s - loss: 54.4661 - mean_absolute_error: 54.4661 - 3s/epoch - 54ms/step\n",
            "Epoch 6/20\n",
            "65/65 - 6s - loss: 53.6125 - mean_absolute_error: 53.6125 - 6s/epoch - 91ms/step\n",
            "Epoch 7/20\n",
            "65/65 - 3s - loss: 51.8939 - mean_absolute_error: 51.8939 - 3s/epoch - 53ms/step\n",
            "Epoch 8/20\n",
            "65/65 - 6s - loss: 50.9083 - mean_absolute_error: 50.9083 - 6s/epoch - 96ms/step\n",
            "Epoch 9/20\n",
            "65/65 - 4s - loss: 49.7760 - mean_absolute_error: 49.7760 - 4s/epoch - 54ms/step\n",
            "Epoch 10/20\n",
            "65/65 - 5s - loss: 49.2880 - mean_absolute_error: 49.2880 - 5s/epoch - 69ms/step\n",
            "Epoch 11/20\n",
            "65/65 - 6s - loss: 48.7942 - mean_absolute_error: 48.7942 - 6s/epoch - 92ms/step\n",
            "Epoch 12/20\n",
            "65/65 - 3s - loss: 48.3693 - mean_absolute_error: 48.3693 - 3s/epoch - 53ms/step\n",
            "Epoch 13/20\n",
            "65/65 - 6s - loss: 47.7224 - mean_absolute_error: 47.7224 - 6s/epoch - 97ms/step\n",
            "Epoch 14/20\n",
            "65/65 - 4s - loss: 48.1880 - mean_absolute_error: 48.1880 - 4s/epoch - 65ms/step\n",
            "Epoch 15/20\n",
            "65/65 - 3s - loss: 47.1381 - mean_absolute_error: 47.1381 - 3s/epoch - 53ms/step\n",
            "Epoch 16/20\n",
            "65/65 - 3s - loss: 46.0305 - mean_absolute_error: 46.0305 - 3s/epoch - 53ms/step\n",
            "Epoch 17/20\n",
            "65/65 - 6s - loss: 44.8750 - mean_absolute_error: 44.8750 - 6s/epoch - 91ms/step\n",
            "Epoch 18/20\n",
            "65/65 - 5s - loss: 42.8839 - mean_absolute_error: 42.8839 - 5s/epoch - 70ms/step\n",
            "Epoch 19/20\n",
            "65/65 - 3s - loss: 42.1849 - mean_absolute_error: 42.1849 - 3s/epoch - 53ms/step\n",
            "Epoch 20/20\n",
            "65/65 - 3s - loss: 40.7541 - mean_absolute_error: 40.7541 - 3s/epoch - 53ms/step\n"
          ]
        },
        {
          "output_type": "execute_result",
          "data": {
            "text/plain": [
              "<keras.callbacks.History at 0x7f7b75e85df0>"
            ]
          },
          "metadata": {},
          "execution_count": 13
        }
      ]
    },
    {
      "cell_type": "code",
      "source": [
        "val_pred = model.predict(x_val)\n",
        "test_pred = model.predict(x_test)"
      ],
      "metadata": {
        "colab": {
          "base_uri": "https://localhost:8080/"
        },
        "id": "OJ6VTncPWBcI",
        "outputId": "e3c8e99a-0b41-469c-e989-26397baa6a98"
      },
      "execution_count": 14,
      "outputs": [
        {
          "output_type": "stream",
          "name": "stdout",
          "text": [
            "3/3 [==============================] - 2s 100ms/step\n",
            "3/3 [==============================] - 0s 106ms/step\n"
          ]
        }
      ]
    },
    {
      "cell_type": "code",
      "source": [
        "from sklearn.metrics import mean_absolute_error\n",
        "print (mean_absolute_error(y_val,val_pred),mean_absolute_error(y_test,test_pred))"
      ],
      "metadata": {
        "colab": {
          "base_uri": "https://localhost:8080/"
        },
        "id": "tPEJ6vfVWLgc",
        "outputId": "58b98748-9c54-4fe1-f61b-6d350ec06539"
      },
      "execution_count": 15,
      "outputs": [
        {
          "output_type": "stream",
          "name": "stdout",
          "text": [
            "46.3512412365572 47.35613476223415\n"
          ]
        }
      ]
    },
    {
      "cell_type": "code",
      "source": [
        "len(test_pred)"
      ],
      "metadata": {
        "colab": {
          "base_uri": "https://localhost:8080/"
        },
        "id": "zDqszQsNOtOf",
        "outputId": "cb549a9e-3087-4b07-dab4-3804552949b3"
      },
      "execution_count": 16,
      "outputs": [
        {
          "output_type": "execute_result",
          "data": {
            "text/plain": [
              "81"
            ]
          },
          "metadata": {},
          "execution_count": 16
        }
      ]
    },
    {
      "cell_type": "code",
      "source": [
        "df_test = df[-n_test:]\n",
        "f=open('SinglePropertyPrediction-test-exfoliation_energy-dft_3d-AI-mae.csv','w')\n",
        "f.write('id,prediction\\n')\n",
        "for i in range(len(df_test)):\n",
        "    #print (i)\n",
        "    jid = df_test.iloc[i]['id']\n",
        "    target = df_test.iloc[i]['target']\n",
        "    #print(jid,target,y_test[i][0],test_pred[i][0])\n",
        "    line=jid+','+str(test_pred[i][0])+'\\n'\n",
        "    f.write(line)\n",
        "f.close()"
      ],
      "metadata": {
        "id": "6KnLj_DXYiAg"
      },
      "execution_count": 35,
      "outputs": []
    },
    {
      "cell_type": "code",
      "source": [
        "x = pd.read_csv('SinglePropertyPrediction-test-exfoliation_energy-dft_3d-AI-mae.csv')"
      ],
      "metadata": {
        "id": "skfXlGavljq-"
      },
      "execution_count": 36,
      "outputs": []
    },
    {
      "cell_type": "code",
      "source": [
        "x"
      ],
      "metadata": {
        "id": "9R8FpVzGn-eR",
        "outputId": "cb138d04-0075-4141-989d-bb8ebd202c9e",
        "colab": {
          "base_uri": "https://localhost:8080/",
          "height": 423
        }
      },
      "execution_count": 37,
      "outputs": [
        {
          "output_type": "execute_result",
          "data": {
            "text/plain": [
              "             id  prediction\n",
              "0   JVASP-12918  170.822100\n",
              "1    JVASP-2035   74.013300\n",
              "2   JVASP-13942   64.608246\n",
              "3     JVASP-278  137.864260\n",
              "4   JVASP-10173   89.864630\n",
              "..          ...         ...\n",
              "76   JVASP-4364   83.664270\n",
              "77  JVASP-29480   60.650230\n",
              "78  JVASP-28375   64.239690\n",
              "79    JVASP-590   71.237015\n",
              "80   JVASP-4741  109.194580\n",
              "\n",
              "[81 rows x 2 columns]"
            ],
            "text/html": [
              "\n",
              "  <div id=\"df-257225bc-abbc-488b-8e9b-90c9f567fd5b\">\n",
              "    <div class=\"colab-df-container\">\n",
              "      <div>\n",
              "<style scoped>\n",
              "    .dataframe tbody tr th:only-of-type {\n",
              "        vertical-align: middle;\n",
              "    }\n",
              "\n",
              "    .dataframe tbody tr th {\n",
              "        vertical-align: top;\n",
              "    }\n",
              "\n",
              "    .dataframe thead th {\n",
              "        text-align: right;\n",
              "    }\n",
              "</style>\n",
              "<table border=\"1\" class=\"dataframe\">\n",
              "  <thead>\n",
              "    <tr style=\"text-align: right;\">\n",
              "      <th></th>\n",
              "      <th>id</th>\n",
              "      <th>prediction</th>\n",
              "    </tr>\n",
              "  </thead>\n",
              "  <tbody>\n",
              "    <tr>\n",
              "      <th>0</th>\n",
              "      <td>JVASP-12918</td>\n",
              "      <td>170.822100</td>\n",
              "    </tr>\n",
              "    <tr>\n",
              "      <th>1</th>\n",
              "      <td>JVASP-2035</td>\n",
              "      <td>74.013300</td>\n",
              "    </tr>\n",
              "    <tr>\n",
              "      <th>2</th>\n",
              "      <td>JVASP-13942</td>\n",
              "      <td>64.608246</td>\n",
              "    </tr>\n",
              "    <tr>\n",
              "      <th>3</th>\n",
              "      <td>JVASP-278</td>\n",
              "      <td>137.864260</td>\n",
              "    </tr>\n",
              "    <tr>\n",
              "      <th>4</th>\n",
              "      <td>JVASP-10173</td>\n",
              "      <td>89.864630</td>\n",
              "    </tr>\n",
              "    <tr>\n",
              "      <th>...</th>\n",
              "      <td>...</td>\n",
              "      <td>...</td>\n",
              "    </tr>\n",
              "    <tr>\n",
              "      <th>76</th>\n",
              "      <td>JVASP-4364</td>\n",
              "      <td>83.664270</td>\n",
              "    </tr>\n",
              "    <tr>\n",
              "      <th>77</th>\n",
              "      <td>JVASP-29480</td>\n",
              "      <td>60.650230</td>\n",
              "    </tr>\n",
              "    <tr>\n",
              "      <th>78</th>\n",
              "      <td>JVASP-28375</td>\n",
              "      <td>64.239690</td>\n",
              "    </tr>\n",
              "    <tr>\n",
              "      <th>79</th>\n",
              "      <td>JVASP-590</td>\n",
              "      <td>71.237015</td>\n",
              "    </tr>\n",
              "    <tr>\n",
              "      <th>80</th>\n",
              "      <td>JVASP-4741</td>\n",
              "      <td>109.194580</td>\n",
              "    </tr>\n",
              "  </tbody>\n",
              "</table>\n",
              "<p>81 rows × 2 columns</p>\n",
              "</div>\n",
              "      <button class=\"colab-df-convert\" onclick=\"convertToInteractive('df-257225bc-abbc-488b-8e9b-90c9f567fd5b')\"\n",
              "              title=\"Convert this dataframe to an interactive table.\"\n",
              "              style=\"display:none;\">\n",
              "        \n",
              "  <svg xmlns=\"http://www.w3.org/2000/svg\" height=\"24px\"viewBox=\"0 0 24 24\"\n",
              "       width=\"24px\">\n",
              "    <path d=\"M0 0h24v24H0V0z\" fill=\"none\"/>\n",
              "    <path d=\"M18.56 5.44l.94 2.06.94-2.06 2.06-.94-2.06-.94-.94-2.06-.94 2.06-2.06.94zm-11 1L8.5 8.5l.94-2.06 2.06-.94-2.06-.94L8.5 2.5l-.94 2.06-2.06.94zm10 10l.94 2.06.94-2.06 2.06-.94-2.06-.94-.94-2.06-.94 2.06-2.06.94z\"/><path d=\"M17.41 7.96l-1.37-1.37c-.4-.4-.92-.59-1.43-.59-.52 0-1.04.2-1.43.59L10.3 9.45l-7.72 7.72c-.78.78-.78 2.05 0 2.83L4 21.41c.39.39.9.59 1.41.59.51 0 1.02-.2 1.41-.59l7.78-7.78 2.81-2.81c.8-.78.8-2.07 0-2.86zM5.41 20L4 18.59l7.72-7.72 1.47 1.35L5.41 20z\"/>\n",
              "  </svg>\n",
              "      </button>\n",
              "      \n",
              "  <style>\n",
              "    .colab-df-container {\n",
              "      display:flex;\n",
              "      flex-wrap:wrap;\n",
              "      gap: 12px;\n",
              "    }\n",
              "\n",
              "    .colab-df-convert {\n",
              "      background-color: #E8F0FE;\n",
              "      border: none;\n",
              "      border-radius: 50%;\n",
              "      cursor: pointer;\n",
              "      display: none;\n",
              "      fill: #1967D2;\n",
              "      height: 32px;\n",
              "      padding: 0 0 0 0;\n",
              "      width: 32px;\n",
              "    }\n",
              "\n",
              "    .colab-df-convert:hover {\n",
              "      background-color: #E2EBFA;\n",
              "      box-shadow: 0px 1px 2px rgba(60, 64, 67, 0.3), 0px 1px 3px 1px rgba(60, 64, 67, 0.15);\n",
              "      fill: #174EA6;\n",
              "    }\n",
              "\n",
              "    [theme=dark] .colab-df-convert {\n",
              "      background-color: #3B4455;\n",
              "      fill: #D2E3FC;\n",
              "    }\n",
              "\n",
              "    [theme=dark] .colab-df-convert:hover {\n",
              "      background-color: #434B5C;\n",
              "      box-shadow: 0px 1px 3px 1px rgba(0, 0, 0, 0.15);\n",
              "      filter: drop-shadow(0px 1px 2px rgba(0, 0, 0, 0.3));\n",
              "      fill: #FFFFFF;\n",
              "    }\n",
              "  </style>\n",
              "\n",
              "      <script>\n",
              "        const buttonEl =\n",
              "          document.querySelector('#df-257225bc-abbc-488b-8e9b-90c9f567fd5b button.colab-df-convert');\n",
              "        buttonEl.style.display =\n",
              "          google.colab.kernel.accessAllowed ? 'block' : 'none';\n",
              "\n",
              "        async function convertToInteractive(key) {\n",
              "          const element = document.querySelector('#df-257225bc-abbc-488b-8e9b-90c9f567fd5b');\n",
              "          const dataTable =\n",
              "            await google.colab.kernel.invokeFunction('convertToInteractive',\n",
              "                                                     [key], {});\n",
              "          if (!dataTable) return;\n",
              "\n",
              "          const docLinkHtml = 'Like what you see? Visit the ' +\n",
              "            '<a target=\"_blank\" href=https://colab.research.google.com/notebooks/data_table.ipynb>data table notebook</a>'\n",
              "            + ' to learn more about interactive tables.';\n",
              "          element.innerHTML = '';\n",
              "          dataTable['output_type'] = 'display_data';\n",
              "          await google.colab.output.renderOutput(dataTable, element);\n",
              "          const docLink = document.createElement('div');\n",
              "          docLink.innerHTML = docLinkHtml;\n",
              "          element.appendChild(docLink);\n",
              "        }\n",
              "      </script>\n",
              "    </div>\n",
              "  </div>\n",
              "  "
            ]
          },
          "metadata": {},
          "execution_count": 37
        }
      ]
    },
    {
      "cell_type": "code",
      "source": [
        "import os\n",
        "cwd=os.getcwd()\n",
        "os.makedirs('kgcnn_schnet')\n",
        "os.chdir('kgcnn_schnet')"
      ],
      "metadata": {
        "id": "vwCFr4h_coY1"
      },
      "execution_count": 38,
      "outputs": []
    },
    {
      "cell_type": "code",
      "source": [
        "!cp ../SinglePropertyPrediction-test-exfoliation_energy-dft_3d-AI-mae.csv ."
      ],
      "metadata": {
        "id": "QBvvjSzUdYEb"
      },
      "execution_count": 39,
      "outputs": []
    },
    {
      "cell_type": "code",
      "source": [
        "!wget https://raw.githubusercontent.com/usnistgov/jarvis_leaderboard/main/jarvis_leaderboard/benchmarks/alignn_model/metadata.json"
      ],
      "metadata": {
        "id": "iL-GrUkBoYbK",
        "outputId": "f0e037c3-054c-4389-928a-2103a83adf2f",
        "colab": {
          "base_uri": "https://localhost:8080/"
        }
      },
      "execution_count": 48,
      "outputs": [
        {
          "output_type": "stream",
          "name": "stdout",
          "text": [
            "--2023-04-24 19:00:34--  https://raw.githubusercontent.com/usnistgov/jarvis_leaderboard/main/jarvis_leaderboard/benchmarks/alignn_model/metadata.json\n",
            "Resolving raw.githubusercontent.com (raw.githubusercontent.com)... 185.199.108.133, 185.199.109.133, 185.199.110.133, ...\n",
            "Connecting to raw.githubusercontent.com (raw.githubusercontent.com)|185.199.108.133|:443... connected.\n",
            "HTTP request sent, awaiting response... 200 OK\n",
            "Length: 391 [text/plain]\n",
            "Saving to: ‘metadata.json’\n",
            "\n",
            "\rmetadata.json         0%[                    ]       0  --.-KB/s               \rmetadata.json       100%[===================>]     391  --.-KB/s    in 0s      \n",
            "\n",
            "2023-04-24 19:00:34 (26.9 MB/s) - ‘metadata.json’ saved [391/391]\n",
            "\n"
          ]
        }
      ]
    },
    {
      "cell_type": "code",
      "source": [
        "from jarvis.db.jsonutils import loadjson,dumpjson\n",
        "meta = loadjson('metadata.json')"
      ],
      "metadata": {
        "id": "Gjsb_XYmoY_F"
      },
      "execution_count": 49,
      "outputs": []
    },
    {
      "cell_type": "code",
      "source": [
        "meta"
      ],
      "metadata": {
        "id": "ac19fH7jojF5",
        "outputId": "7b39fc24-c47c-44fb-d2d1-72ec9a108cae",
        "colab": {
          "base_uri": "https://localhost:8080/"
        }
      },
      "execution_count": 50,
      "outputs": [
        {
          "output_type": "execute_result",
          "data": {
            "text/plain": [
              "{'model_name': 'ALIGNN',\n",
              " 'project_url': 'https://www.nature.com/articles/s41524-021-00650-1',\n",
              " 'date_submitted': '01-14-2023',\n",
              " 'author_email': 'knc6@nist.gov',\n",
              " 'database_version': '12-12-2022',\n",
              " 'team_name': 'JARVIS',\n",
              " 'time_taken_seconds': 458.17,\n",
              " 'language': 'python',\n",
              " 'os': 'linux',\n",
              " 'software_used': 'jarvis-tools,numpy,scipy,torch,alignn',\n",
              " 'harware_used': 'nisaba-cluster at NIST, V100 Tesla GPU'}"
            ]
          },
          "metadata": {},
          "execution_count": 50
        }
      ]
    },
    {
      "cell_type": "code",
      "source": [
        "meta['model_name'] = 'kgcnn_schnet'\n",
        "meta['project_url'] = 'https://github.com/aimat-lab/gcnn_keras/'\n",
        "# TODO: Add other details\n",
        "dumpjson(data=meta,filename='metadata.json')"
      ],
      "metadata": {
        "id": "SltvTqYcolz5"
      },
      "execution_count": 52,
      "outputs": []
    },
    {
      "cell_type": "code",
      "source": [
        "!wget https://raw.githubusercontent.com/usnistgov/jarvis_leaderboard/main/jarvis_leaderboard/benchmarks/alignn_model/run.sh"
      ],
      "metadata": {
        "id": "6-re0TtspSlP",
        "outputId": "66ff1496-bbef-4657-d02e-a205ac203035",
        "colab": {
          "base_uri": "https://localhost:8080/"
        }
      },
      "execution_count": 53,
      "outputs": [
        {
          "output_type": "stream",
          "name": "stdout",
          "text": [
            "--2023-04-24 19:02:50--  https://raw.githubusercontent.com/usnistgov/jarvis_leaderboard/main/jarvis_leaderboard/benchmarks/alignn_model/run.sh\n",
            "Resolving raw.githubusercontent.com (raw.githubusercontent.com)... 185.199.108.133, 185.199.109.133, 185.199.110.133, ...\n",
            "Connecting to raw.githubusercontent.com (raw.githubusercontent.com)|185.199.108.133|:443... connected.\n",
            "HTTP request sent, awaiting response... 200 OK\n",
            "Length: 54 [text/plain]\n",
            "Saving to: ‘run.sh’\n",
            "\n",
            "\rrun.sh                0%[                    ]       0  --.-KB/s               \rrun.sh              100%[===================>]      54  --.-KB/s    in 0s      \n",
            "\n",
            "2023-04-24 19:02:50 (2.53 MB/s) - ‘run.sh’ saved [54/54]\n",
            "\n"
          ]
        }
      ]
    },
    {
      "cell_type": "code",
      "source": [
        "os.chdir(cwd)"
      ],
      "metadata": {
        "id": "D_1pKCUGpa6d"
      },
      "execution_count": 54,
      "outputs": []
    },
    {
      "cell_type": "code",
      "source": [
        "!jarvis_upload.py --your_benchmark_directory  kgcnn_schnet --github_username knc6"
      ],
      "metadata": {
        "id": "pO7k-ITcqZEm"
      },
      "execution_count": null,
      "outputs": []
    },
    {
      "cell_type": "code",
      "source": [],
      "metadata": {
        "id": "tWyQbo1hpjXT"
      },
      "execution_count": null,
      "outputs": []
    }
  ]
}