{
  "nbformat": 4,
  "nbformat_minor": 0,
  "metadata": {
    "colab": {
      "provenance": [],
      "authorship_tag": "ABX9TyOLHrjbfdrXXRV5VYtCky3l",
      "include_colab_link": true
    },
    "kernelspec": {
      "name": "python3",
      "display_name": "Python 3"
    },
    "language_info": {
      "name": "python"
    }
  },
  "cells": [
    {
      "cell_type": "markdown",
      "metadata": {
        "id": "view-in-github",
        "colab_type": "text"
      },
      "source": [
        "<a href=\"https://colab.research.google.com/github/knc6/jarvis-tools-notebooks/blob/master/jarvis-tools-notebooks/kgcnn_jarvis_leaderboard.ipynb\" target=\"_parent\"><img src=\"https://colab.research.google.com/assets/colab-badge.svg\" alt=\"Open In Colab\"/></a>"
      ]
    },
    {
      "cell_type": "markdown",
      "source": [
        "Install jarvis_leaderboard"
      ],
      "metadata": {
        "id": "Xbo_Fvx4L0N7"
      }
    },
    {
      "cell_type": "code",
      "execution_count": 1,
      "metadata": {
        "colab": {
          "base_uri": "https://localhost:8080/"
        },
        "id": "e7ccy1ysLBV5",
        "outputId": "bcf51d6c-3c1e-4393-abfc-89c0a43557d5"
      },
      "outputs": [
        {
          "output_type": "stream",
          "name": "stdout",
          "text": [
            "Looking in indexes: https://pypi.org/simple, https://us-python.pkg.dev/colab-wheels/public/simple/\n",
            "Collecting jarvis_leaderboard\n",
            "  Downloading jarvis_leaderboard-2023.4.24-py2.py3-none-any.whl (64.0 MB)\n",
            "\u001b[2K     \u001b[90m━━━━━━━━━━━━━━━━━━━━━━━━━━━━━━━━━━━━━━━━\u001b[0m \u001b[32m64.0/64.0 MB\u001b[0m \u001b[31m6.0 MB/s\u001b[0m eta \u001b[36m0:00:00\u001b[0m\n",
            "\u001b[?25hRequirement already satisfied: numpy>=1.19.5 in /usr/local/lib/python3.9/dist-packages (from jarvis_leaderboard) (1.22.4)\n",
            "Requirement already satisfied: scipy>=1.6.3 in /usr/local/lib/python3.9/dist-packages (from jarvis_leaderboard) (1.10.1)\n",
            "Collecting markdown==3.2.1\n",
            "  Downloading Markdown-3.2.1-py2.py3-none-any.whl (88 kB)\n",
            "\u001b[2K     \u001b[90m━━━━━━━━━━━━━━━━━━━━━━━━━━━━━━━━━━━━━━━━\u001b[0m \u001b[32m88.8/88.8 kB\u001b[0m \u001b[31m3.7 MB/s\u001b[0m eta \u001b[36m0:00:00\u001b[0m\n",
            "\u001b[?25hCollecting mkdocs-material>=9.0.5\n",
            "  Downloading mkdocs_material-9.1.8-py3-none-any.whl (7.8 MB)\n",
            "\u001b[2K     \u001b[90m━━━━━━━━━━━━━━━━━━━━━━━━━━━━━━━━━━━━━━━━\u001b[0m \u001b[32m7.8/7.8 MB\u001b[0m \u001b[31m25.3 MB/s\u001b[0m eta \u001b[36m0:00:00\u001b[0m\n",
            "\u001b[?25hCollecting pandas==1.2.4\n",
            "  Downloading pandas-1.2.4-cp39-cp39-manylinux1_x86_64.whl (9.7 MB)\n",
            "\u001b[2K     \u001b[90m━━━━━━━━━━━━━━━━━━━━━━━━━━━━━━━━━━━━━━━━\u001b[0m \u001b[32m9.7/9.7 MB\u001b[0m \u001b[31m8.9 MB/s\u001b[0m eta \u001b[36m0:00:00\u001b[0m\n",
            "\u001b[?25hRequirement already satisfied: scikit-learn>=0.24.1 in /usr/local/lib/python3.9/dist-packages (from jarvis_leaderboard) (1.2.2)\n",
            "Collecting jarvis-tools>=2021.07.19\n",
            "  Downloading jarvis_tools-2023.4.6-py2.py3-none-any.whl (973 kB)\n",
            "\u001b[2K     \u001b[90m━━━━━━━━━━━━━━━━━━━━━━━━━━━━━━━━━━━━━━\u001b[0m \u001b[32m973.8/973.8 kB\u001b[0m \u001b[31m30.1 MB/s\u001b[0m eta \u001b[36m0:00:00\u001b[0m\n",
            "\u001b[?25hRequirement already satisfied: pydantic>=1.8.1 in /usr/local/lib/python3.9/dist-packages (from jarvis_leaderboard) (1.10.7)\n",
            "Requirement already satisfied: setuptools>=36 in /usr/local/lib/python3.9/dist-packages (from markdown==3.2.1->jarvis_leaderboard) (67.7.2)\n",
            "Requirement already satisfied: python-dateutil>=2.7.3 in /usr/local/lib/python3.9/dist-packages (from pandas==1.2.4->jarvis_leaderboard) (2.8.2)\n",
            "Requirement already satisfied: pytz>=2017.3 in /usr/local/lib/python3.9/dist-packages (from pandas==1.2.4->jarvis_leaderboard) (2022.7.1)\n",
            "Requirement already satisfied: toolz>=0.9.0 in /usr/local/lib/python3.9/dist-packages (from jarvis-tools>=2021.07.19->jarvis_leaderboard) (0.12.0)\n",
            "Requirement already satisfied: requests>=2.23.0 in /usr/local/lib/python3.9/dist-packages (from jarvis-tools>=2021.07.19->jarvis_leaderboard) (2.27.1)\n",
            "Requirement already satisfied: joblib>=0.14.1 in /usr/local/lib/python3.9/dist-packages (from jarvis-tools>=2021.07.19->jarvis_leaderboard) (1.2.0)\n",
            "Requirement already satisfied: matplotlib>=3.0.0 in /usr/local/lib/python3.9/dist-packages (from jarvis-tools>=2021.07.19->jarvis_leaderboard) (3.7.1)\n",
            "Collecting spglib>=1.14.1\n",
            "  Downloading spglib-2.0.2-cp39-cp39-manylinux_2_17_x86_64.manylinux2014_x86_64.whl (515 kB)\n",
            "\u001b[2K     \u001b[90m━━━━━━━━━━━━━━━━━━━━━━━━━━━━━━━━━━━━━━\u001b[0m \u001b[32m515.0/515.0 kB\u001b[0m \u001b[31m13.8 MB/s\u001b[0m eta \u001b[36m0:00:00\u001b[0m\n",
            "\u001b[?25hCollecting xmltodict>=0.11.0\n",
            "  Downloading xmltodict-0.13.0-py2.py3-none-any.whl (10.0 kB)\n",
            "Requirement already satisfied: tqdm>=4.41.1 in /usr/local/lib/python3.9/dist-packages (from jarvis-tools>=2021.07.19->jarvis_leaderboard) (4.65.0)\n",
            "Collecting colorama>=0.4\n",
            "  Downloading colorama-0.4.6-py2.py3-none-any.whl (25 kB)\n",
            "Collecting mkdocs>=1.4.2\n",
            "  Downloading mkdocs-1.4.2-py3-none-any.whl (3.7 MB)\n",
            "\u001b[2K     \u001b[90m━━━━━━━━━━━━━━━━━━━━━━━━━━━━━━━━━━━━━━━━\u001b[0m \u001b[32m3.7/3.7 MB\u001b[0m \u001b[31m21.7 MB/s\u001b[0m eta \u001b[36m0:00:00\u001b[0m\n",
            "\u001b[?25hCollecting pymdown-extensions>=9.9.1\n",
            "  Downloading pymdown_extensions-9.11-py3-none-any.whl (239 kB)\n",
            "\u001b[2K     \u001b[90m━━━━━━━━━━━━━━━━━━━━━━━━━━━━━━━━━━━━━━━\u001b[0m \u001b[32m239.9/239.9 kB\u001b[0m \u001b[31m8.5 MB/s\u001b[0m eta \u001b[36m0:00:00\u001b[0m\n",
            "\u001b[?25hRequirement already satisfied: regex>=2022.4.24 in /usr/local/lib/python3.9/dist-packages (from mkdocs-material>=9.0.5->jarvis_leaderboard) (2022.10.31)\n",
            "Collecting mkdocs-material-extensions>=1.1\n",
            "  Downloading mkdocs_material_extensions-1.1.1-py3-none-any.whl (7.9 kB)\n",
            "Requirement already satisfied: pygments>=2.14 in /usr/local/lib/python3.9/dist-packages (from mkdocs-material>=9.0.5->jarvis_leaderboard) (2.14.0)\n",
            "Requirement already satisfied: jinja2>=3.0 in /usr/local/lib/python3.9/dist-packages (from mkdocs-material>=9.0.5->jarvis_leaderboard) (3.1.2)\n",
            "Requirement already satisfied: typing-extensions>=4.2.0 in /usr/local/lib/python3.9/dist-packages (from pydantic>=1.8.1->jarvis_leaderboard) (4.5.0)\n",
            "Requirement already satisfied: threadpoolctl>=2.0.0 in /usr/local/lib/python3.9/dist-packages (from scikit-learn>=0.24.1->jarvis_leaderboard) (3.1.0)\n",
            "Requirement already satisfied: MarkupSafe>=2.0 in /usr/local/lib/python3.9/dist-packages (from jinja2>=3.0->mkdocs-material>=9.0.5->jarvis_leaderboard) (2.1.2)\n",
            "Requirement already satisfied: cycler>=0.10 in /usr/local/lib/python3.9/dist-packages (from matplotlib>=3.0.0->jarvis-tools>=2021.07.19->jarvis_leaderboard) (0.11.0)\n",
            "Requirement already satisfied: contourpy>=1.0.1 in /usr/local/lib/python3.9/dist-packages (from matplotlib>=3.0.0->jarvis-tools>=2021.07.19->jarvis_leaderboard) (1.0.7)\n",
            "Requirement already satisfied: packaging>=20.0 in /usr/local/lib/python3.9/dist-packages (from matplotlib>=3.0.0->jarvis-tools>=2021.07.19->jarvis_leaderboard) (23.1)\n",
            "Requirement already satisfied: fonttools>=4.22.0 in /usr/local/lib/python3.9/dist-packages (from matplotlib>=3.0.0->jarvis-tools>=2021.07.19->jarvis_leaderboard) (4.39.3)\n",
            "Requirement already satisfied: importlib-resources>=3.2.0 in /usr/local/lib/python3.9/dist-packages (from matplotlib>=3.0.0->jarvis-tools>=2021.07.19->jarvis_leaderboard) (5.12.0)\n",
            "Requirement already satisfied: pillow>=6.2.0 in /usr/local/lib/python3.9/dist-packages (from matplotlib>=3.0.0->jarvis-tools>=2021.07.19->jarvis_leaderboard) (8.4.0)\n",
            "Requirement already satisfied: pyparsing>=2.3.1 in /usr/local/lib/python3.9/dist-packages (from matplotlib>=3.0.0->jarvis-tools>=2021.07.19->jarvis_leaderboard) (3.0.9)\n",
            "Requirement already satisfied: kiwisolver>=1.0.1 in /usr/local/lib/python3.9/dist-packages (from matplotlib>=3.0.0->jarvis-tools>=2021.07.19->jarvis_leaderboard) (1.4.4)\n",
            "Requirement already satisfied: pyyaml>=5.1 in /usr/local/lib/python3.9/dist-packages (from mkdocs>=1.4.2->mkdocs-material>=9.0.5->jarvis_leaderboard) (6.0)\n",
            "Requirement already satisfied: click>=7.0 in /usr/local/lib/python3.9/dist-packages (from mkdocs>=1.4.2->mkdocs-material>=9.0.5->jarvis_leaderboard) (8.1.3)\n",
            "Requirement already satisfied: importlib-metadata>=4.3 in /usr/local/lib/python3.9/dist-packages (from mkdocs>=1.4.2->mkdocs-material>=9.0.5->jarvis_leaderboard) (6.4.1)\n",
            "Collecting watchdog>=2.0\n",
            "  Downloading watchdog-3.0.0-py3-none-manylinux2014_x86_64.whl (82 kB)\n",
            "\u001b[2K     \u001b[90m━━━━━━━━━━━━━━━━━━━━━━━━━━━━━━━━━━━━━━━━\u001b[0m \u001b[32m82.1/82.1 kB\u001b[0m \u001b[31m2.8 MB/s\u001b[0m eta \u001b[36m0:00:00\u001b[0m\n",
            "\u001b[?25hCollecting mergedeep>=1.3.4\n",
            "  Downloading mergedeep-1.3.4-py3-none-any.whl (6.4 kB)\n",
            "Collecting pyyaml-env-tag>=0.1\n",
            "  Downloading pyyaml_env_tag-0.1-py3-none-any.whl (3.9 kB)\n",
            "Collecting ghp-import>=1.0\n",
            "  Downloading ghp_import-2.1.0-py3-none-any.whl (11 kB)\n",
            "Requirement already satisfied: six>=1.5 in /usr/local/lib/python3.9/dist-packages (from python-dateutil>=2.7.3->pandas==1.2.4->jarvis_leaderboard) (1.16.0)\n",
            "Requirement already satisfied: idna<4,>=2.5 in /usr/local/lib/python3.9/dist-packages (from requests>=2.23.0->jarvis-tools>=2021.07.19->jarvis_leaderboard) (3.4)\n",
            "Requirement already satisfied: urllib3<1.27,>=1.21.1 in /usr/local/lib/python3.9/dist-packages (from requests>=2.23.0->jarvis-tools>=2021.07.19->jarvis_leaderboard) (1.26.15)\n",
            "Requirement already satisfied: charset-normalizer~=2.0.0 in /usr/local/lib/python3.9/dist-packages (from requests>=2.23.0->jarvis-tools>=2021.07.19->jarvis_leaderboard) (2.0.12)\n",
            "Requirement already satisfied: certifi>=2017.4.17 in /usr/local/lib/python3.9/dist-packages (from requests>=2.23.0->jarvis-tools>=2021.07.19->jarvis_leaderboard) (2022.12.7)\n",
            "Requirement already satisfied: zipp>=0.5 in /usr/local/lib/python3.9/dist-packages (from importlib-metadata>=4.3->mkdocs>=1.4.2->mkdocs-material>=9.0.5->jarvis_leaderboard) (3.15.0)\n",
            "Installing collected packages: xmltodict, watchdog, spglib, pyyaml-env-tag, mkdocs-material-extensions, mergedeep, markdown, colorama, pymdown-extensions, pandas, ghp-import, mkdocs, jarvis-tools, mkdocs-material, jarvis_leaderboard\n",
            "  Attempting uninstall: markdown\n",
            "    Found existing installation: Markdown 3.4.3\n",
            "    Uninstalling Markdown-3.4.3:\n",
            "      Successfully uninstalled Markdown-3.4.3\n",
            "  Attempting uninstall: pandas\n",
            "    Found existing installation: pandas 1.5.3\n",
            "    Uninstalling pandas-1.5.3:\n",
            "      Successfully uninstalled pandas-1.5.3\n",
            "\u001b[31mERROR: pip's dependency resolver does not currently take into account all the packages that are installed. This behaviour is the source of the following dependency conflicts.\n",
            "yfinance 0.2.18 requires pandas>=1.3.0, but you have pandas 1.2.4 which is incompatible.\n",
            "xarray 2022.12.0 requires pandas>=1.3, but you have pandas 1.2.4 which is incompatible.\n",
            "plotnine 0.10.1 requires pandas>=1.3.5, but you have pandas 1.2.4 which is incompatible.\n",
            "mizani 0.8.1 requires pandas>=1.3.5, but you have pandas 1.2.4 which is incompatible.\n",
            "google-colab 1.0.0 requires pandas~=1.5.3, but you have pandas 1.2.4 which is incompatible.\n",
            "arviz 0.15.1 requires pandas>=1.3.0, but you have pandas 1.2.4 which is incompatible.\u001b[0m\u001b[31m\n",
            "\u001b[0mSuccessfully installed colorama-0.4.6 ghp-import-2.1.0 jarvis-tools-2023.4.6 jarvis_leaderboard-2023.4.24 markdown-3.2.1 mergedeep-1.3.4 mkdocs-1.4.2 mkdocs-material-9.1.8 mkdocs-material-extensions-1.1.1 pandas-1.2.4 pymdown-extensions-9.11 pyyaml-env-tag-0.1 spglib-2.0.2 watchdog-3.0.0 xmltodict-0.13.0\n"
          ]
        }
      ],
      "source": [
        "pip install  jarvis_leaderboard"
      ]
    },
    {
      "cell_type": "markdown",
      "source": [
        "Install kgcnn"
      ],
      "metadata": {
        "id": "kf9mPc0IL5Ae"
      }
    },
    {
      "cell_type": "code",
      "source": [
        "import os\n",
        "if not os.path.exists('gcnn_keras'):\n",
        "  !git clone https://github.com/aimat-lab/gcnn_keras.git"
      ],
      "metadata": {
        "id": "wTyHWpjvLHxi",
        "outputId": "4d232f44-668c-43af-f64e-0b493e5729fa",
        "colab": {
          "base_uri": "https://localhost:8080/"
        }
      },
      "execution_count": 2,
      "outputs": [
        {
          "output_type": "stream",
          "name": "stdout",
          "text": [
            "Cloning into 'gcnn_keras'...\n",
            "remote: Enumerating objects: 22874, done.\u001b[K\n",
            "remote: Counting objects: 100% (1854/1854), done.\u001b[K\n",
            "remote: Compressing objects: 100% (739/739), done.\u001b[K\n",
            "remote: Total 22874 (delta 1138), reused 1792 (delta 1098), pack-reused 21020\u001b[K\n",
            "Receiving objects: 100% (22874/22874), 86.04 MiB | 16.85 MiB/s, done.\n",
            "Resolving deltas: 100% (16258/16258), done.\n"
          ]
        }
      ]
    },
    {
      "cell_type": "code",
      "source": [
        "!pip install -e ./gcnn_keras"
      ],
      "metadata": {
        "colab": {
          "base_uri": "https://localhost:8080/"
        },
        "id": "zXLJue9VLqG_",
        "outputId": "4c8ca19a-9206-48e3-ed1f-14c7d822d36b"
      },
      "execution_count": 3,
      "outputs": [
        {
          "output_type": "stream",
          "name": "stdout",
          "text": [
            "Looking in indexes: https://pypi.org/simple, https://us-python.pkg.dev/colab-wheels/public/simple/\n",
            "Obtaining file:///content/gcnn_keras\n",
            "  Preparing metadata (setup.py) ... \u001b[?25l\u001b[?25hdone\n",
            "Collecting numpy>=1.23.0\n",
            "  Downloading numpy-1.24.3-cp39-cp39-manylinux_2_17_x86_64.manylinux2014_x86_64.whl (17.3 MB)\n",
            "\u001b[2K     \u001b[90m━━━━━━━━━━━━━━━━━━━━━━━━━━━━━━━━━━━━━━━━\u001b[0m \u001b[32m17.3/17.3 MB\u001b[0m \u001b[31m42.3 MB/s\u001b[0m eta \u001b[36m0:00:00\u001b[0m\n",
            "\u001b[?25hRequirement already satisfied: scikit-learn>=1.1.3 in /usr/local/lib/python3.9/dist-packages (from kgcnn==3.0.1) (1.2.2)\n",
            "Collecting pandas>=1.5.2\n",
            "  Downloading pandas-2.0.1-cp39-cp39-manylinux_2_17_x86_64.manylinux2014_x86_64.whl (12.4 MB)\n",
            "\u001b[2K     \u001b[90m━━━━━━━━━━━━━━━━━━━━━━━━━━━━━━━━━━━━━━━━\u001b[0m \u001b[32m12.4/12.4 MB\u001b[0m \u001b[31m47.2 MB/s\u001b[0m eta \u001b[36m0:00:00\u001b[0m\n",
            "\u001b[?25hRequirement already satisfied: scipy>=1.9.3 in /usr/local/lib/python3.9/dist-packages (from kgcnn==3.0.1) (1.10.1)\n",
            "Requirement already satisfied: matplotlib>=3.6.0 in /usr/local/lib/python3.9/dist-packages (from kgcnn==3.0.1) (3.7.1)\n",
            "Collecting rdkit>=2022.9.2\n",
            "  Downloading rdkit-2022.9.5-cp39-cp39-manylinux_2_17_x86_64.manylinux2014_x86_64.whl (29.4 MB)\n",
            "\u001b[2K     \u001b[90m━━━━━━━━━━━━━━━━━━━━━━━━━━━━━━━━━━━━━━━━\u001b[0m \u001b[32m29.4/29.4 MB\u001b[0m \u001b[31m29.5 MB/s\u001b[0m eta \u001b[36m0:00:00\u001b[0m\n",
            "\u001b[?25hCollecting pymatgen>=2022.11.7\n",
            "  Downloading pymatgen-2023.3.23-cp39-cp39-manylinux_2_17_x86_64.manylinux2014_x86_64.whl (12.4 MB)\n",
            "\u001b[2K     \u001b[90m━━━━━━━━━━━━━━━━━━━━━━━━━━━━━━━━━━━━━━━━\u001b[0m \u001b[32m12.4/12.4 MB\u001b[0m \u001b[31m46.1 MB/s\u001b[0m eta \u001b[36m0:00:00\u001b[0m\n",
            "\u001b[?25hRequirement already satisfied: tensorflow>=2.9.0 in /usr/local/lib/python3.9/dist-packages (from kgcnn==3.0.1) (2.12.0)\n",
            "Collecting tensorflow-addons>=0.18.0\n",
            "  Downloading tensorflow_addons-0.20.0-cp39-cp39-manylinux_2_17_x86_64.manylinux2014_x86_64.whl (591 kB)\n",
            "\u001b[2K     \u001b[90m━━━━━━━━━━━━━━━━━━━━━━━━━━━━━━━━━━━━━━\u001b[0m \u001b[32m591.0/591.0 kB\u001b[0m \u001b[31m47.8 MB/s\u001b[0m eta \u001b[36m0:00:00\u001b[0m\n",
            "\u001b[?25hCollecting keras-tuner>=1.1.3\n",
            "  Downloading keras_tuner-1.3.5-py3-none-any.whl (176 kB)\n",
            "\u001b[2K     \u001b[90m━━━━━━━━━━━━━━━━━━━━━━━━━━━━━━━━━━━━━━\u001b[0m \u001b[32m176.1/176.1 kB\u001b[0m \u001b[31m22.3 MB/s\u001b[0m eta \u001b[36m0:00:00\u001b[0m\n",
            "\u001b[?25hCollecting requests>=2.28.1\n",
            "  Downloading requests-2.28.2-py3-none-any.whl (62 kB)\n",
            "\u001b[2K     \u001b[90m━━━━━━━━━━━━━━━━━━━━━━━━━━━━━━━━━━━━━━━━\u001b[0m \u001b[32m62.8/62.8 kB\u001b[0m \u001b[31m8.4 MB/s\u001b[0m eta \u001b[36m0:00:00\u001b[0m\n",
            "\u001b[?25hRequirement already satisfied: networkx>=2.8.8 in /usr/local/lib/python3.9/dist-packages (from kgcnn==3.0.1) (3.1)\n",
            "Requirement already satisfied: sympy>=1.11.1 in /usr/local/lib/python3.9/dist-packages (from kgcnn==3.0.1) (1.11.1)\n",
            "Requirement already satisfied: pyyaml>=6.0 in /usr/local/lib/python3.9/dist-packages (from kgcnn==3.0.1) (6.0)\n",
            "Collecting ase>=3.22.1\n",
            "  Downloading ase-3.22.1-py3-none-any.whl (2.2 MB)\n",
            "\u001b[2K     \u001b[90m━━━━━━━━━━━━━━━━━━━━━━━━━━━━━━━━━━━━━━━━\u001b[0m \u001b[32m2.2/2.2 MB\u001b[0m \u001b[31m61.5 MB/s\u001b[0m eta \u001b[36m0:00:00\u001b[0m\n",
            "\u001b[?25hRequirement already satisfied: click>=7.1.2 in /usr/local/lib/python3.9/dist-packages (from kgcnn==3.0.1) (8.1.3)\n",
            "Collecting brotli>=1.0.9\n",
            "  Downloading Brotli-1.0.9-cp39-cp39-manylinux1_x86_64.whl (357 kB)\n",
            "\u001b[2K     \u001b[90m━━━━━━━━━━━━━━━━━━━━━━━━━━━━━━━━━━━━━━\u001b[0m \u001b[32m357.2/357.2 kB\u001b[0m \u001b[31m37.5 MB/s\u001b[0m eta \u001b[36m0:00:00\u001b[0m\n",
            "\u001b[?25hCollecting pyxtal>=0.5.5\n",
            "  Downloading pyxtal-0.5.5-py3-none-any.whl (2.7 MB)\n",
            "\u001b[2K     \u001b[90m━━━━━━━━━━━━━━━━━━━━━━━━━━━━━━━━━━━━━━━━\u001b[0m \u001b[32m2.7/2.7 MB\u001b[0m \u001b[31m21.8 MB/s\u001b[0m eta \u001b[36m0:00:00\u001b[0m\n",
            "\u001b[?25hRequirement already satisfied: packaging in /usr/local/lib/python3.9/dist-packages (from keras-tuner>=1.1.3->kgcnn==3.0.1) (23.1)\n",
            "Collecting kt-legacy\n",
            "  Downloading kt_legacy-1.0.5-py3-none-any.whl (9.6 kB)\n",
            "Requirement already satisfied: importlib-resources>=3.2.0 in /usr/local/lib/python3.9/dist-packages (from matplotlib>=3.6.0->kgcnn==3.0.1) (5.12.0)\n",
            "Requirement already satisfied: kiwisolver>=1.0.1 in /usr/local/lib/python3.9/dist-packages (from matplotlib>=3.6.0->kgcnn==3.0.1) (1.4.4)\n",
            "Requirement already satisfied: contourpy>=1.0.1 in /usr/local/lib/python3.9/dist-packages (from matplotlib>=3.6.0->kgcnn==3.0.1) (1.0.7)\n",
            "Requirement already satisfied: pyparsing>=2.3.1 in /usr/local/lib/python3.9/dist-packages (from matplotlib>=3.6.0->kgcnn==3.0.1) (3.0.9)\n",
            "Requirement already satisfied: cycler>=0.10 in /usr/local/lib/python3.9/dist-packages (from matplotlib>=3.6.0->kgcnn==3.0.1) (0.11.0)\n",
            "Requirement already satisfied: python-dateutil>=2.7 in /usr/local/lib/python3.9/dist-packages (from matplotlib>=3.6.0->kgcnn==3.0.1) (2.8.2)\n",
            "Requirement already satisfied: fonttools>=4.22.0 in /usr/local/lib/python3.9/dist-packages (from matplotlib>=3.6.0->kgcnn==3.0.1) (4.39.3)\n",
            "Requirement already satisfied: pillow>=6.2.0 in /usr/local/lib/python3.9/dist-packages (from matplotlib>=3.6.0->kgcnn==3.0.1) (8.4.0)\n",
            "Requirement already satisfied: pytz>=2020.1 in /usr/local/lib/python3.9/dist-packages (from pandas>=1.5.2->kgcnn==3.0.1) (2022.7.1)\n",
            "Requirement already satisfied: tzdata>=2022.1 in /usr/local/lib/python3.9/dist-packages (from pandas>=1.5.2->kgcnn==3.0.1) (2023.3)\n",
            "Requirement already satisfied: plotly>=4.5.0 in /usr/local/lib/python3.9/dist-packages (from pymatgen>=2022.11.7->kgcnn==3.0.1) (5.13.1)\n",
            "Requirement already satisfied: tabulate in /usr/local/lib/python3.9/dist-packages (from pymatgen>=2022.11.7->kgcnn==3.0.1) (0.8.10)\n",
            "Collecting pybtex\n",
            "  Downloading pybtex-0.24.0-py2.py3-none-any.whl (561 kB)\n",
            "\u001b[2K     \u001b[90m━━━━━━━━━━━━━━━━━━━━━━━━━━━━━━━━━━━━━━\u001b[0m \u001b[32m561.4/561.4 kB\u001b[0m \u001b[31m41.3 MB/s\u001b[0m eta \u001b[36m0:00:00\u001b[0m\n",
            "\u001b[?25hRequirement already satisfied: palettable>=3.1.1 in /usr/local/lib/python3.9/dist-packages (from pymatgen>=2022.11.7->kgcnn==3.0.1) (3.3.2)\n",
            "Collecting uncertainties>=3.1.4\n",
            "  Downloading uncertainties-3.1.7-py2.py3-none-any.whl (98 kB)\n",
            "\u001b[2K     \u001b[90m━━━━━━━━━━━━━━━━━━━━━━━━━━━━━━━━━━━━━━━━\u001b[0m \u001b[32m98.4/98.4 kB\u001b[0m \u001b[31m11.9 MB/s\u001b[0m eta \u001b[36m0:00:00\u001b[0m\n",
            "\u001b[?25hRequirement already satisfied: tqdm in /usr/local/lib/python3.9/dist-packages (from pymatgen>=2022.11.7->kgcnn==3.0.1) (4.65.0)\n",
            "Collecting monty>=3.0.2\n",
            "  Downloading monty-2023.4.10-py3-none-any.whl (67 kB)\n",
            "\u001b[2K     \u001b[90m━━━━━━━━━━━━━━━━━━━━━━━━━━━━━━━━━━━━━━━━\u001b[0m \u001b[32m67.0/67.0 kB\u001b[0m \u001b[31m8.6 MB/s\u001b[0m eta \u001b[36m0:00:00\u001b[0m\n",
            "\u001b[?25hCollecting ruamel.yaml>=0.17.0\n",
            "  Downloading ruamel.yaml-0.17.21-py3-none-any.whl (109 kB)\n",
            "\u001b[2K     \u001b[90m━━━━━━━━━━━━━━━━━━━━━━━━━━━━━━━━━━━━━━\u001b[0m \u001b[32m109.5/109.5 kB\u001b[0m \u001b[31m13.2 MB/s\u001b[0m eta \u001b[36m0:00:00\u001b[0m\n",
            "\u001b[?25hRequirement already satisfied: spglib>=2.0.2 in /usr/local/lib/python3.9/dist-packages (from pymatgen>=2022.11.7->kgcnn==3.0.1) (2.0.2)\n",
            "Collecting mp-api>=0.27.3\n",
            "  Downloading mp_api-0.32.0-py3-none-any.whl (74 kB)\n",
            "\u001b[2K     \u001b[90m━━━━━━━━━━━━━━━━━━━━━━━━━━━━━━━━━━━━━━━━\u001b[0m \u001b[32m74.2/74.2 kB\u001b[0m \u001b[31m6.7 MB/s\u001b[0m eta \u001b[36m0:00:00\u001b[0m\n",
            "\u001b[?25hRequirement already satisfied: importlib-metadata>=1.4 in /usr/local/lib/python3.9/dist-packages (from pyxtal>=0.5.5->kgcnn==3.0.1) (6.4.1)\n",
            "Requirement already satisfied: numba>=0.55.2 in /usr/local/lib/python3.9/dist-packages (from pyxtal>=0.5.5->kgcnn==3.0.1) (0.56.4)\n",
            "Collecting py3Dmol>=0.8.0\n",
            "  Downloading py3Dmol-2.0.1.post1-py2.py3-none-any.whl (12 kB)\n",
            "Collecting pyshtools==4.10\n",
            "  Downloading pyshtools-4.10-cp39-cp39-manylinux_2_17_x86_64.manylinux2014_x86_64.whl (12.5 MB)\n",
            "\u001b[2K     \u001b[90m━━━━━━━━━━━━━━━━━━━━━━━━━━━━━━━━━━━━━━━━\u001b[0m \u001b[32m12.5/12.5 MB\u001b[0m \u001b[31m11.8 MB/s\u001b[0m eta \u001b[36m0:00:00\u001b[0m\n",
            "\u001b[?25hRequirement already satisfied: astropy>=4.0 in /usr/local/lib/python3.9/dist-packages (from pyshtools==4.10->pyxtal>=0.5.5->kgcnn==3.0.1) (5.2.2)\n",
            "Requirement already satisfied: xarray in /usr/local/lib/python3.9/dist-packages (from pyshtools==4.10->pyxtal>=0.5.5->kgcnn==3.0.1) (2022.12.0)\n",
            "Requirement already satisfied: pooch>=1.1 in /usr/local/lib/python3.9/dist-packages (from pyshtools==4.10->pyxtal>=0.5.5->kgcnn==3.0.1) (1.6.0)\n",
            "Requirement already satisfied: urllib3<1.27,>=1.21.1 in /usr/local/lib/python3.9/dist-packages (from requests>=2.28.1->kgcnn==3.0.1) (1.26.15)\n",
            "Requirement already satisfied: charset-normalizer<4,>=2 in /usr/local/lib/python3.9/dist-packages (from requests>=2.28.1->kgcnn==3.0.1) (2.0.12)\n",
            "Requirement already satisfied: certifi>=2017.4.17 in /usr/local/lib/python3.9/dist-packages (from requests>=2.28.1->kgcnn==3.0.1) (2022.12.7)\n",
            "Requirement already satisfied: idna<4,>=2.5 in /usr/local/lib/python3.9/dist-packages (from requests>=2.28.1->kgcnn==3.0.1) (3.4)\n",
            "Requirement already satisfied: threadpoolctl>=2.0.0 in /usr/local/lib/python3.9/dist-packages (from scikit-learn>=1.1.3->kgcnn==3.0.1) (3.1.0)\n",
            "Requirement already satisfied: joblib>=1.1.1 in /usr/local/lib/python3.9/dist-packages (from scikit-learn>=1.1.3->kgcnn==3.0.1) (1.2.0)\n",
            "Requirement already satisfied: mpmath>=0.19 in /usr/local/lib/python3.9/dist-packages (from sympy>=1.11.1->kgcnn==3.0.1) (1.3.0)\n",
            "Requirement already satisfied: setuptools in /usr/local/lib/python3.9/dist-packages (from tensorflow>=2.9.0->kgcnn==3.0.1) (67.7.2)\n",
            "Requirement already satisfied: gast<=0.4.0,>=0.2.1 in /usr/local/lib/python3.9/dist-packages (from tensorflow>=2.9.0->kgcnn==3.0.1) (0.4.0)\n",
            "Requirement already satisfied: termcolor>=1.1.0 in /usr/local/lib/python3.9/dist-packages (from tensorflow>=2.9.0->kgcnn==3.0.1) (2.2.0)\n",
            "Requirement already satisfied: opt-einsum>=2.3.2 in /usr/local/lib/python3.9/dist-packages (from tensorflow>=2.9.0->kgcnn==3.0.1) (3.3.0)\n",
            "Requirement already satisfied: h5py>=2.9.0 in /usr/local/lib/python3.9/dist-packages (from tensorflow>=2.9.0->kgcnn==3.0.1) (3.8.0)\n",
            "Requirement already satisfied: libclang>=13.0.0 in /usr/local/lib/python3.9/dist-packages (from tensorflow>=2.9.0->kgcnn==3.0.1) (16.0.0)\n",
            "Requirement already satisfied: six>=1.12.0 in /usr/local/lib/python3.9/dist-packages (from tensorflow>=2.9.0->kgcnn==3.0.1) (1.16.0)\n",
            "Requirement already satisfied: protobuf!=4.21.0,!=4.21.1,!=4.21.2,!=4.21.3,!=4.21.4,!=4.21.5,<5.0.0dev,>=3.20.3 in /usr/local/lib/python3.9/dist-packages (from tensorflow>=2.9.0->kgcnn==3.0.1) (3.20.3)\n",
            "Requirement already satisfied: astunparse>=1.6.0 in /usr/local/lib/python3.9/dist-packages (from tensorflow>=2.9.0->kgcnn==3.0.1) (1.6.3)\n",
            "Requirement already satisfied: wrapt<1.15,>=1.11.0 in /usr/local/lib/python3.9/dist-packages (from tensorflow>=2.9.0->kgcnn==3.0.1) (1.14.1)\n",
            "Requirement already satisfied: jax>=0.3.15 in /usr/local/lib/python3.9/dist-packages (from tensorflow>=2.9.0->kgcnn==3.0.1) (0.4.8)\n",
            "Requirement already satisfied: tensorflow-io-gcs-filesystem>=0.23.1 in /usr/local/lib/python3.9/dist-packages (from tensorflow>=2.9.0->kgcnn==3.0.1) (0.32.0)\n",
            "Requirement already satisfied: flatbuffers>=2.0 in /usr/local/lib/python3.9/dist-packages (from tensorflow>=2.9.0->kgcnn==3.0.1) (23.3.3)\n",
            "Collecting numpy>=1.23.0\n",
            "  Downloading numpy-1.23.5-cp39-cp39-manylinux_2_17_x86_64.manylinux2014_x86_64.whl (17.1 MB)\n",
            "\u001b[2K     \u001b[90m━━━━━━━━━━━━━━━━━━━━━━━━━━━━━━━━━━━━━━━━\u001b[0m \u001b[32m17.1/17.1 MB\u001b[0m \u001b[31m29.5 MB/s\u001b[0m eta \u001b[36m0:00:00\u001b[0m\n",
            "\u001b[?25hRequirement already satisfied: absl-py>=1.0.0 in /usr/local/lib/python3.9/dist-packages (from tensorflow>=2.9.0->kgcnn==3.0.1) (1.4.0)\n",
            "Requirement already satisfied: tensorflow-estimator<2.13,>=2.12.0 in /usr/local/lib/python3.9/dist-packages (from tensorflow>=2.9.0->kgcnn==3.0.1) (2.12.0)\n",
            "Requirement already satisfied: keras<2.13,>=2.12.0 in /usr/local/lib/python3.9/dist-packages (from tensorflow>=2.9.0->kgcnn==3.0.1) (2.12.0)\n",
            "Requirement already satisfied: google-pasta>=0.1.1 in /usr/local/lib/python3.9/dist-packages (from tensorflow>=2.9.0->kgcnn==3.0.1) (0.2.0)\n",
            "Requirement already satisfied: tensorboard<2.13,>=2.12 in /usr/local/lib/python3.9/dist-packages (from tensorflow>=2.9.0->kgcnn==3.0.1) (2.12.2)\n",
            "Requirement already satisfied: typing-extensions>=3.6.6 in /usr/local/lib/python3.9/dist-packages (from tensorflow>=2.9.0->kgcnn==3.0.1) (4.5.0)\n",
            "Requirement already satisfied: grpcio<2.0,>=1.24.3 in /usr/local/lib/python3.9/dist-packages (from tensorflow>=2.9.0->kgcnn==3.0.1) (1.53.0)\n",
            "Collecting typeguard<3.0.0,>=2.7\n",
            "  Downloading typeguard-2.13.3-py3-none-any.whl (17 kB)\n",
            "Requirement already satisfied: wheel<1.0,>=0.23.0 in /usr/local/lib/python3.9/dist-packages (from astunparse>=1.6.0->tensorflow>=2.9.0->kgcnn==3.0.1) (0.40.0)\n",
            "Requirement already satisfied: zipp>=0.5 in /usr/local/lib/python3.9/dist-packages (from importlib-metadata>=1.4->pyxtal>=0.5.5->kgcnn==3.0.1) (3.15.0)\n",
            "Requirement already satisfied: ml-dtypes>=0.0.3 in /usr/local/lib/python3.9/dist-packages (from jax>=0.3.15->tensorflow>=2.9.0->kgcnn==3.0.1) (0.1.0)\n",
            "Collecting emmet-core<=0.50.0\n",
            "  Downloading emmet_core-0.50.0-py3-none-any.whl (137 kB)\n",
            "\u001b[2K     \u001b[90m━━━━━━━━━━━━━━━━━━━━━━━━━━━━━━━━━━━━━\u001b[0m \u001b[32m137.5/137.5 kB\u001b[0m \u001b[31m369.8 kB/s\u001b[0m eta \u001b[36m0:00:00\u001b[0m\n",
            "\u001b[?25hRequirement already satisfied: msgpack in /usr/local/lib/python3.9/dist-packages (from mp-api>=0.27.3->pymatgen>=2022.11.7->kgcnn==3.0.1) (1.0.5)\n",
            "Requirement already satisfied: llvmlite<0.40,>=0.39.0dev0 in /usr/local/lib/python3.9/dist-packages (from numba>=0.55.2->pyxtal>=0.5.5->kgcnn==3.0.1) (0.39.1)\n",
            "Requirement already satisfied: tenacity>=6.2.0 in /usr/local/lib/python3.9/dist-packages (from plotly>=4.5.0->pymatgen>=2022.11.7->kgcnn==3.0.1) (8.2.2)\n",
            "Collecting ruamel.yaml.clib>=0.2.6\n",
            "  Downloading ruamel.yaml.clib-0.2.7-cp39-cp39-manylinux_2_17_x86_64.manylinux2014_x86_64.manylinux_2_24_x86_64.whl (519 kB)\n",
            "\u001b[2K     \u001b[90m━━━━━━━━━━━━━━━━━━━━━━━━━━━━━━━━━━━━━━\u001b[0m \u001b[32m519.4/519.4 kB\u001b[0m \u001b[31m43.0 MB/s\u001b[0m eta \u001b[36m0:00:00\u001b[0m\n",
            "\u001b[?25hRequirement already satisfied: werkzeug>=1.0.1 in /usr/local/lib/python3.9/dist-packages (from tensorboard<2.13,>=2.12->tensorflow>=2.9.0->kgcnn==3.0.1) (2.2.3)\n",
            "Requirement already satisfied: google-auth-oauthlib<1.1,>=0.5 in /usr/local/lib/python3.9/dist-packages (from tensorboard<2.13,>=2.12->tensorflow>=2.9.0->kgcnn==3.0.1) (1.0.0)\n",
            "Requirement already satisfied: markdown>=2.6.8 in /usr/local/lib/python3.9/dist-packages (from tensorboard<2.13,>=2.12->tensorflow>=2.9.0->kgcnn==3.0.1) (3.2.1)\n",
            "Requirement already satisfied: tensorboard-data-server<0.8.0,>=0.7.0 in /usr/local/lib/python3.9/dist-packages (from tensorboard<2.13,>=2.12->tensorflow>=2.9.0->kgcnn==3.0.1) (0.7.0)\n",
            "Requirement already satisfied: tensorboard-plugin-wit>=1.6.0 in /usr/local/lib/python3.9/dist-packages (from tensorboard<2.13,>=2.12->tensorflow>=2.9.0->kgcnn==3.0.1) (1.8.1)\n",
            "Requirement already satisfied: google-auth<3,>=1.6.3 in /usr/local/lib/python3.9/dist-packages (from tensorboard<2.13,>=2.12->tensorflow>=2.9.0->kgcnn==3.0.1) (2.17.3)\n",
            "Requirement already satisfied: future in /usr/local/lib/python3.9/dist-packages (from uncertainties>=3.1.4->pymatgen>=2022.11.7->kgcnn==3.0.1) (0.18.3)\n",
            "Collecting latexcodec>=1.0.4\n",
            "  Downloading latexcodec-2.0.1-py2.py3-none-any.whl (18 kB)\n",
            "Requirement already satisfied: pyerfa>=2.0 in /usr/local/lib/python3.9/dist-packages (from astropy>=4.0->pyshtools==4.10->pyxtal>=0.5.5->kgcnn==3.0.1) (2.0.0.3)\n",
            "Requirement already satisfied: pydantic>=1.10.2 in /usr/local/lib/python3.9/dist-packages (from emmet-core<=0.50.0->mp-api>=0.27.3->pymatgen>=2022.11.7->kgcnn==3.0.1) (1.10.7)\n",
            "Requirement already satisfied: cachetools<6.0,>=2.0.0 in /usr/local/lib/python3.9/dist-packages (from google-auth<3,>=1.6.3->tensorboard<2.13,>=2.12->tensorflow>=2.9.0->kgcnn==3.0.1) (5.3.0)\n",
            "Requirement already satisfied: rsa<5,>=3.1.4 in /usr/local/lib/python3.9/dist-packages (from google-auth<3,>=1.6.3->tensorboard<2.13,>=2.12->tensorflow>=2.9.0->kgcnn==3.0.1) (4.9)\n",
            "Requirement already satisfied: pyasn1-modules>=0.2.1 in /usr/local/lib/python3.9/dist-packages (from google-auth<3,>=1.6.3->tensorboard<2.13,>=2.12->tensorflow>=2.9.0->kgcnn==3.0.1) (0.2.8)\n",
            "Requirement already satisfied: requests-oauthlib>=0.7.0 in /usr/local/lib/python3.9/dist-packages (from google-auth-oauthlib<1.1,>=0.5->tensorboard<2.13,>=2.12->tensorflow>=2.9.0->kgcnn==3.0.1) (1.3.1)\n",
            "Requirement already satisfied: appdirs>=1.3.0 in /usr/local/lib/python3.9/dist-packages (from pooch>=1.1->pyshtools==4.10->pyxtal>=0.5.5->kgcnn==3.0.1) (1.4.4)\n",
            "Requirement already satisfied: MarkupSafe>=2.1.1 in /usr/local/lib/python3.9/dist-packages (from werkzeug>=1.0.1->tensorboard<2.13,>=2.12->tensorflow>=2.9.0->kgcnn==3.0.1) (2.1.2)\n",
            "Requirement already satisfied: pyasn1<0.5.0,>=0.4.6 in /usr/local/lib/python3.9/dist-packages (from pyasn1-modules>=0.2.1->google-auth<3,>=1.6.3->tensorboard<2.13,>=2.12->tensorflow>=2.9.0->kgcnn==3.0.1) (0.4.8)\n",
            "Requirement already satisfied: oauthlib>=3.0.0 in /usr/local/lib/python3.9/dist-packages (from requests-oauthlib>=0.7.0->google-auth-oauthlib<1.1,>=0.5->tensorboard<2.13,>=2.12->tensorflow>=2.9.0->kgcnn==3.0.1) (3.2.2)\n",
            "Installing collected packages: py3Dmol, kt-legacy, brotli, uncertainties, typeguard, ruamel.yaml.clib, requests, numpy, monty, latexcodec, tensorflow-addons, ruamel.yaml, rdkit, pybtex, pandas, keras-tuner, pyshtools, ase, emmet-core, mp-api, pymatgen, pyxtal, kgcnn\n",
            "  Attempting uninstall: requests\n",
            "    Found existing installation: requests 2.27.1\n",
            "    Uninstalling requests-2.27.1:\n",
            "      Successfully uninstalled requests-2.27.1\n",
            "  Attempting uninstall: numpy\n",
            "    Found existing installation: numpy 1.22.4\n",
            "    Uninstalling numpy-1.22.4:\n",
            "      Successfully uninstalled numpy-1.22.4\n",
            "  Attempting uninstall: pandas\n",
            "    Found existing installation: pandas 1.2.4\n",
            "    Uninstalling pandas-1.2.4:\n",
            "      Successfully uninstalled pandas-1.2.4\n",
            "  Running setup.py develop for kgcnn\n",
            "\u001b[31mERROR: pip's dependency resolver does not currently take into account all the packages that are installed. This behaviour is the source of the following dependency conflicts.\n",
            "jarvis-leaderboard 2023.4.24 requires pandas==1.2.4, but you have pandas 2.0.1 which is incompatible.\n",
            "google-colab 1.0.0 requires pandas~=1.5.3, but you have pandas 2.0.1 which is incompatible.\u001b[0m\u001b[31m\n",
            "\u001b[0mSuccessfully installed ase-3.22.1 brotli-1.0.9 emmet-core-0.50.0 keras-tuner-1.3.5 kgcnn-3.0.1 kt-legacy-1.0.5 latexcodec-2.0.1 monty-2023.4.10 mp-api-0.32.0 numpy-1.23.5 pandas-2.0.1 py3Dmol-2.0.1.post1 pybtex-0.24.0 pymatgen-2023.3.23 pyshtools-4.10 pyxtal-0.5.5 rdkit-2022.9.5 requests-2.28.2 ruamel.yaml-0.17.21 ruamel.yaml.clib-0.2.7 tensorflow-addons-0.20.0 typeguard-2.13.3 uncertainties-3.1.7\n"
          ]
        }
      ]
    },
    {
      "cell_type": "markdown",
      "source": [
        "might have to restart runtime here in case you can't import kgcnn"
      ],
      "metadata": {
        "id": "94r-fiT7M5Jh"
      }
    },
    {
      "cell_type": "code",
      "source": [
        "import jarvis_leaderboard"
      ],
      "metadata": {
        "id": "x6JlXp7Ibqma"
      },
      "execution_count": 4,
      "outputs": []
    },
    {
      "cell_type": "code",
      "source": [
        "import kgcnn"
      ],
      "metadata": {
        "id": "pgzOidKRMUj0"
      },
      "execution_count": 1,
      "outputs": []
    },
    {
      "cell_type": "markdown",
      "source": [
        "Files will be saved in the output_path i.e. 'Out' directory"
      ],
      "metadata": {
        "id": "OcIup4i_Mu6A"
      }
    },
    {
      "cell_type": "code",
      "source": [
        "!jarvis_populate_data.py --benchmark_file SinglePropertyPrediction-test-exfoliation_energy-dft_3d-AI-mae --output_path=Out"
      ],
      "metadata": {
        "colab": {
          "base_uri": "https://localhost:8080/"
        },
        "id": "7tY6aR6FLx7Z",
        "outputId": "5ff2e2fe-8811-4231-9c27-4e265d3c8753"
      },
      "execution_count": 2,
      "outputs": [
        {
          "output_type": "stream",
          "name": "stdout",
          "text": [
            "benchmark_file SinglePropertyPrediction-test-exfoliation_energy-dft_3d-AI-mae\n",
            "dataset dft_3d\n",
            "output_path Out\n",
            "property exfoliation_energy\n",
            "method AI\n",
            "task SinglePropertyPrediction\n",
            "id_tag jid\n",
            "dataset file to be used /usr/local/lib/python3.9/dist-packages/jarvis_leaderboard/dataset/AI/SinglePropertyPrediction/dft_3d_exfoliation_energy.json.zip\n",
            "Obtaining 3D dataset 76k ...\n",
            "Reference:https://www.nature.com/articles/s41524-020-00440-1\n",
            "Other versions:https://doi.org/10.6084/m9.figshare.6815699\n",
            "100% 40.8M/40.8M [00:03<00:00, 11.8MiB/s]\n",
            "Loading the zipfile...\n",
            "Loading completed.\n",
            "number of training samples 650\n",
            "number of validation samples 81\n",
            "number of test samples 81\n"
          ]
        }
      ]
    },
    {
      "cell_type": "code",
      "source": [
        "!rm -r exfoliation_en*"
      ],
      "metadata": {
        "colab": {
          "base_uri": "https://localhost:8080/"
        },
        "id": "xvH68NklVIeH",
        "outputId": "8eec692e-06ef-43d0-f798-f0beded406e5"
      },
      "execution_count": 3,
      "outputs": [
        {
          "output_type": "stream",
          "name": "stdout",
          "text": [
            "rm: cannot remove 'exfoliation_en*': No such file or directory\n"
          ]
        }
      ]
    },
    {
      "cell_type": "code",
      "source": [
        "ls"
      ],
      "metadata": {
        "colab": {
          "base_uri": "https://localhost:8080/"
        },
        "id": "HbFvaor6VL3f",
        "outputId": "5fa119c8-b848-46a4-c9f9-ba1415af9280"
      },
      "execution_count": 4,
      "outputs": [
        {
          "output_type": "stream",
          "name": "stdout",
          "text": [
            "\u001b[0m\u001b[01;34mgcnn_keras\u001b[0m/  \u001b[01;34mOut\u001b[0m/  \u001b[01;34msample_data\u001b[0m/\n"
          ]
        }
      ]
    },
    {
      "cell_type": "code",
      "source": [
        "from kgcnn.literature.Schnet import make_crystal_model\n",
        "from tensorflow.keras.optimizers import Adam\n",
        "null=None\n",
        "true=True\n",
        "false=False\n",
        "\n",
        "ragged=True\n",
        "model_config = {\n",
        "    \"name\": \"Schnet\",\n",
        "    \"inputs\": [\n",
        "        {'shape': (None,), 'name': \"node_number\", 'dtype': 'float32', 'ragged': ragged},\n",
        "        {'shape': (None, 3), 'name': \"node_coordinates\", 'dtype': 'float32', 'ragged': ragged},\n",
        "        {'shape': (None, 2), 'name': \"range_indices\", 'dtype': 'int64', 'ragged': ragged},\n",
        "        {'shape': (None, 3), 'name': \"range_image\", 'dtype': 'int64', 'ragged': ragged},\n",
        "        {'shape': (3, 3), 'name': \"graph_lattice\", 'dtype': 'float32', 'ragged': False}\n",
        "    ],\n",
        "    \"input_embedding\": {\n",
        "        \"node\": {\"input_dim\": 95, \"output_dim\": 64}\n",
        "    },\n",
        "    \"interaction_args\": {\n",
        "        \"units\": 128, \"use_bias\": True, \"activation\": \"kgcnn>shifted_softplus\", \"cfconv_pool\": \"sum\"\n",
        "    },\n",
        "    \"node_pooling_args\": {\"pooling_method\": \"mean\"},\n",
        "    \"depth\": 4,\n",
        "    \"gauss_args\": {\"bins\": 25, \"distance\": 5, \"offset\": 0.0, \"sigma\": 0.4}, \"verbose\": 10,\n",
        "    \"last_mlp\": {\"use_bias\": [True, True, True], \"units\": [128, 64, 1],\n",
        "                 \"activation\": ['kgcnn>shifted_softplus', 'kgcnn>shifted_softplus', 'linear']},\n",
        "    \"output_embedding\": \"graph\",\n",
        "    \"use_output_mlp\": False,\n",
        "    \"output_mlp\": None,  # Last MLP sets output dimension if None.\n",
        "}\n",
        "\n",
        "#from: https://github.com/aimat-lab/gcnn_keras/blob/601d5eed029c1ef2c0c60d91bdd910a798ec03fd/training/results/MatProjectJdft2dDataset/Schnet_make_crystal_model/Schnet_hyper.json\n",
        "x = {\"model\": {\"module_name\": \"kgcnn.literature.Schnet\", \"class_name\": \"make_crystal_model\", \"config\": {\"name\": \"Schnet\", \"inputs\": [{\"shape\": [null], \"name\": \"node_number\", \"dtype\": \"float32\", \"ragged\": true}, {\"shape\": [null, 3], \"name\": \"node_coordinates\", \"dtype\": \"float32\", \"ragged\": true}, {\"shape\": [null, 2], \"name\": \"range_indices\", \"dtype\": \"int64\", \"ragged\": true}, {\"shape\": [null, 3], \"name\": \"range_image\", \"dtype\": \"int64\", \"ragged\": true}, {\"shape\": [3, 3], \"name\": \"graph_lattice\", \"dtype\": \"float32\", \"ragged\": false}], \"input_embedding\": {\"node\": {\"input_dim\": 95, \"output_dim\": 64}}, \"interaction_args\": {\"units\": 128, \"use_bias\": true, \"activation\": \"kgcnn>shifted_softplus\", \"cfconv_pool\": \"sum\"}, \"node_pooling_args\": {\"pooling_method\": \"mean\"}, \"depth\": 4, \"gauss_args\": {\"bins\": 25, \"distance\": 5, \"offset\": 0.0, \"sigma\": 0.4}, \"verbose\": 10, \"last_mlp\": {\"use_bias\": [true, true, true], \"units\": [128, 64, 1], \"activation\": [\"kgcnn>shifted_softplus\", \"kgcnn>shifted_softplus\", \"linear\"]}, \"output_embedding\": \"graph\", \"use_output_mlp\": false, \"output_mlp\": null}}, \"training\": {\"cross_validation\": {\"class_name\": \"KFold\", \"config\": {\"n_splits\": 5, \"random_state\": 42, \"shuffle\": true}}, \"fit\": {\"batch_size\": 32, \"epochs\": 800, \"validation_freq\": 10, \"verbose\": 2, \"callbacks\": [{\"class_name\": \"kgcnn>LinearLearningRateScheduler\", \"config\": {\"learning_rate_start\": 0.0005, \"learning_rate_stop\": 1e-05, \"epo_min\": 100, \"epo\": 800, \"verbose\": 0}}]}, \"compile\": {\"optimizer\": {\"class_name\": \"Adam\", \"config\": {\"lr\": 0.0005}}, \"loss\": \"mean_absolute_error\"}, \"scaler\": {\"class_name\": \"StandardScaler\", \"module_name\": \"kgcnn.data.transform.scaler.scaler\", \"config\": {\"with_std\": true, \"with_mean\": true, \"copy\": true}}, \"multi_target_indices\": null}, \"data\": {\"dataset\": {\"class_name\": \"MatProjectJdft2dDataset\", \"module_name\": \"kgcnn.data.datasets.MatProjectJdft2dDataset\", \"config\": {}, \"methods\": [{\"map_list\": {\"method\": \"set_range_periodic\", \"max_distance\": 5}}]}, \"data_unit\": \"meV/atom\"}, \"info\": {\"postfix\": \"\", \"postfix_file\": \"\", \"kgcnn_version\": \"2.2.3\"}}\n",
        "model_config = x['model']['config']\n",
        "\n",
        "\n",
        "model = make_crystal_model(**model_config)\n",
        "model.compile(\n",
        "    loss=\"mean_absolute_error\",\n",
        "    optimizer=Adam(learning_rate=1e-04),\n",
        "    metrics=[\"mean_absolute_error\"],\n",
        ")"
      ],
      "metadata": {
        "colab": {
          "base_uri": "https://localhost:8080/"
        },
        "id": "wU-HvIlqWrWj",
        "outputId": "363d1b4f-9871-4aaf-c2d1-427967cd9364"
      },
      "execution_count": 7,
      "outputs": [
        {
          "output_type": "stream",
          "name": "stderr",
          "text": [
            "WARNING:kgcnn.model.utils:Model kwargs: Overwriting dictionary of output_mlp with None\n",
            "INFO:kgcnn.model.utils:Updated model kwargs:\n",
            "INFO:kgcnn.model.utils:{'name': 'Schnet', 'inputs': [{'shape': [None], 'name': 'node_number', 'dtype': 'float32', 'ragged': True}, {'shape': [None, 3], 'name': 'node_coordinates', 'dtype': 'float32', 'ragged': True}, {'shape': [None, 2], 'name': 'range_indices', 'dtype': 'int64', 'ragged': True}, {'shape': [None, 3], 'name': 'range_image', 'dtype': 'int64', 'ragged': True}, {'shape': [3, 3], 'name': 'graph_lattice', 'dtype': 'float32', 'ragged': False}], 'input_embedding': {'node': {'input_dim': 95, 'output_dim': 64}}, 'make_distance': True, 'expand_distance': True, 'interaction_args': {'units': 128, 'use_bias': True, 'activation': 'kgcnn>shifted_softplus', 'cfconv_pool': 'sum'}, 'node_pooling_args': {'pooling_method': 'mean'}, 'depth': 4, 'gauss_args': {'bins': 25, 'distance': 5, 'offset': 0.0, 'sigma': 0.4}, 'verbose': 10, 'last_mlp': {'use_bias': [True, True, True], 'units': [128, 64, 1], 'activation': ['kgcnn>shifted_softplus', 'kgcnn>shifted_softplus', 'linear']}, 'output_embedding': 'graph', 'output_to_tensor': True, 'use_output_mlp': False, 'output_mlp': None}\n"
          ]
        }
      ]
    },
    {
      "cell_type": "markdown",
      "source": [
        "We choose one of the SinglePropertyPrediction tasks from the [leaderboard](https://pages.nist.gov/jarvis_leaderboard/AI/SinglePropertyPrediction/)"
      ],
      "metadata": {
        "id": "xeAE0LzCnKlE"
      }
    },
    {
      "cell_type": "code",
      "source": [
        "import pandas as pd\n",
        "import os\n",
        "from jarvis.core.atoms import Atoms\n",
        "from kgcnn.data.crystal import CrystalDataset\n",
        "import numpy as np\n",
        "\n",
        "def prepare_data(dirname='exfoliation_en',populated_data_path='Out'):\n",
        "\n",
        "    id_prop_path=os.path.join(populated_data_path,'id_prop.csv')\n",
        "    df=pd.read_csv(id_prop_path,header=None)\n",
        "    df.columns=['id','target']\n",
        "\n",
        "   \n",
        "    #train\n",
        "    train_dir = dirname+'_train'\n",
        "    if not os.path.exists(train_dir):\n",
        "        os.makedirs(train_dir)\n",
        "    train_cif = os.path.join(train_dir,'CifFiles')\n",
        "    if not os.path.exists(train_cif):\n",
        "        os.makedirs(train_cif)\n",
        "    csv_file = train_dir+'/data.csv'\n",
        "    print ('train_dir',train_dir)\n",
        "    f=open(csv_file, \"w\")\n",
        "    f.write(\"file_name,index,label\\n\")\n",
        "    targets = []\n",
        "    for i,ii in df.iterrows():\n",
        "        pos_path=os.path.join(populated_data_path,ii['id'])\n",
        "        atoms=Atoms.from_poscar(pos_path)\n",
        "        pmg = (atoms.pymatgen_converter())\n",
        "        targets.append(ii['target'])\n",
        "        fname=\"file_\"+str(ii['id'])+\".cif\"\n",
        "        #fname=\"file_\"+str(i)+\".cif\"\n",
        "        cif_name = os.path.join(train_cif,fname)\n",
        "        pmg.to(filename=cif_name, fmt=\"cif\")\n",
        "        line=fname+','+str(i)+','+str(ii['target'])+'\\n'\n",
        "        f.write(line)\n",
        "    f.close()\n",
        "    dataset = CrystalDataset(\n",
        "        data_directory=train_dir, \n",
        "        dataset_name=train_dir, \n",
        "        file_name=\"data.csv\", \n",
        "        file_directory=\"CifFiles\"\n",
        "    )\n",
        "    dataset.prepare_data(file_column_name=\"file_name\", overwrite=True)\n",
        "    dataset.read_in_memory(label_column_name=\"label\")\n",
        "    labels = np.expand_dims(dataset.get(\"graph_labels\"), axis=-1)\n",
        "    dataset.map_list(method=\"set_range_periodic\", max_distance=5.0, max_neighbours=20)\n",
        "  \n",
        "    return dataset,labels,df\n",
        "\n",
        "dataset,labels,df = prepare_data(populated_data_path='Out')\n",
        "\n"
      ],
      "metadata": {
        "colab": {
          "base_uri": "https://localhost:8080/"
        },
        "id": "SNkSXv5sPNV5",
        "outputId": "376481e4-70a0-4c59-d0cf-35029e1e2e24"
      },
      "execution_count": 8,
      "outputs": [
        {
          "output_type": "stream",
          "name": "stdout",
          "text": [
            "train_dir exfoliation_en_train\n"
          ]
        },
        {
          "output_type": "stream",
          "name": "stderr",
          "text": [
            "INFO:kgcnn.data.exfoliation_en_train:Searching for structure files in 'exfoliation_en_train/CifFiles'\n",
            "INFO:kgcnn.data.exfoliation_en_train:Read 812 single files.\n",
            "INFO:kgcnn.data.exfoliation_en_train:... Read .cif file 0 from 812\n",
            "/usr/local/lib/python3.9/dist-packages/pymatgen/io/cif.py:1147: UserWarning: Issues encountered while parsing CIF: Some fractional coordinates rounded to ideal values to avoid issues with finite precision.\n",
            "  warnings.warn(\"Issues encountered while parsing CIF: \" + \"\\n\".join(self.warnings))\n",
            "INFO:kgcnn.data.exfoliation_en_train:Exporting as dict for pymatgen ...\n",
            "INFO:kgcnn.data.exfoliation_en_train:Saving structures as .json ...\n",
            "INFO:kgcnn.data.exfoliation_en_train:Making node features from structure...\n",
            "INFO:kgcnn.data.exfoliation_en_train:Reading structures from .json ...\n",
            "INFO:kgcnn.data.exfoliation_en_train: ... read structures 0 from 812\n"
          ]
        }
      ]
    },
    {
      "cell_type": "code",
      "source": [
        "len(dataset),len(labels)"
      ],
      "metadata": {
        "colab": {
          "base_uri": "https://localhost:8080/"
        },
        "id": "5DevmEdNVRNY",
        "outputId": "e77453f7-160c-40f1-ff08-5df1a9450ed4"
      },
      "execution_count": 9,
      "outputs": [
        {
          "output_type": "execute_result",
          "data": {
            "text/plain": [
              "(812, 812)"
            ]
          },
          "metadata": {},
          "execution_count": 9
        }
      ]
    },
    {
      "cell_type": "code",
      "source": [
        "n_train=650\n",
        "n_val=81\n",
        "n_test=81\n",
        "train_index=np.arange(0,n_train)\n",
        "val_index=np.arange(n_train,n_train+n_val)\n",
        "test_index=np.arange(n_train+n_val,n_train+n_val+n_test)"
      ],
      "metadata": {
        "id": "a3ZlZ6eLP7PE"
      },
      "execution_count": 10,
      "outputs": []
    },
    {
      "cell_type": "code",
      "source": [
        "x_train,y_train=dataset[train_index], labels[train_index]\n",
        "x_val, y_val = dataset[val_index].tensor(model_config[\"inputs\"]), labels[val_index]\n",
        "x_test, y_test = dataset[test_index].tensor(model_config[\"inputs\"]), labels[test_index]"
      ],
      "metadata": {
        "id": "3VNXYEB7QdK8"
      },
      "execution_count": 11,
      "outputs": []
    },
    {
      "cell_type": "code",
      "source": [
        "model.fit(\n",
        "    x_train.tensor(model_config[\"inputs\"]),y_train,\n",
        "    shuffle=False,\n",
        "    batch_size=10,\n",
        "    epochs=20,\n",
        "    verbose=2,\n",
        ")"
      ],
      "metadata": {
        "colab": {
          "base_uri": "https://localhost:8080/"
        },
        "id": "oDDhDx5KRDSN",
        "outputId": "3e4924f9-fe08-42ff-a014-fd20eb5fe2a9"
      },
      "execution_count": 12,
      "outputs": [
        {
          "output_type": "stream",
          "name": "stdout",
          "text": [
            "Epoch 1/20\n",
            "65/65 - 13s - loss: 95.0129 - mean_absolute_error: 95.0129 - 13s/epoch - 196ms/step\n",
            "Epoch 2/20\n",
            "65/65 - 3s - loss: 61.8158 - mean_absolute_error: 61.8158 - 3s/epoch - 49ms/step\n",
            "Epoch 3/20\n",
            "65/65 - 5s - loss: 58.5802 - mean_absolute_error: 58.5802 - 5s/epoch - 79ms/step\n",
            "Epoch 4/20\n",
            "65/65 - 3s - loss: 56.0906 - mean_absolute_error: 56.0906 - 3s/epoch - 50ms/step\n",
            "Epoch 5/20\n",
            "65/65 - 3s - loss: 54.4476 - mean_absolute_error: 54.4476 - 3s/epoch - 50ms/step\n",
            "Epoch 6/20\n",
            "65/65 - 8s - loss: 52.9383 - mean_absolute_error: 52.9383 - 8s/epoch - 116ms/step\n",
            "Epoch 7/20\n",
            "65/65 - 3s - loss: 51.8900 - mean_absolute_error: 51.8900 - 3s/epoch - 50ms/step\n",
            "Epoch 8/20\n",
            "65/65 - 3s - loss: 50.8314 - mean_absolute_error: 50.8314 - 3s/epoch - 50ms/step\n",
            "Epoch 9/20\n",
            "65/65 - 6s - loss: 49.7147 - mean_absolute_error: 49.7147 - 6s/epoch - 89ms/step\n",
            "Epoch 10/20\n",
            "65/65 - 3s - loss: 48.8736 - mean_absolute_error: 48.8736 - 3s/epoch - 50ms/step\n",
            "Epoch 11/20\n",
            "65/65 - 5s - loss: 48.3297 - mean_absolute_error: 48.3297 - 5s/epoch - 80ms/step\n",
            "Epoch 12/20\n",
            "65/65 - 5s - loss: 47.9025 - mean_absolute_error: 47.9024 - 5s/epoch - 81ms/step\n",
            "Epoch 13/20\n",
            "65/65 - 3s - loss: 47.5644 - mean_absolute_error: 47.5644 - 3s/epoch - 50ms/step\n",
            "Epoch 14/20\n",
            "65/65 - 5s - loss: 47.0775 - mean_absolute_error: 47.0775 - 5s/epoch - 83ms/step\n",
            "Epoch 15/20\n",
            "65/65 - 3s - loss: 46.8751 - mean_absolute_error: 46.8751 - 3s/epoch - 50ms/step\n",
            "Epoch 16/20\n",
            "65/65 - 4s - loss: 46.9112 - mean_absolute_error: 46.9112 - 4s/epoch - 62ms/step\n",
            "Epoch 17/20\n",
            "65/65 - 6s - loss: 45.5830 - mean_absolute_error: 45.5830 - 6s/epoch - 92ms/step\n",
            "Epoch 18/20\n",
            "65/65 - 3s - loss: 43.7744 - mean_absolute_error: 43.7744 - 3s/epoch - 50ms/step\n",
            "Epoch 19/20\n",
            "65/65 - 6s - loss: 42.4276 - mean_absolute_error: 42.4276 - 6s/epoch - 90ms/step\n",
            "Epoch 20/20\n",
            "65/65 - 5s - loss: 40.8193 - mean_absolute_error: 40.8193 - 5s/epoch - 81ms/step\n"
          ]
        },
        {
          "output_type": "execute_result",
          "data": {
            "text/plain": [
              "<keras.callbacks.History at 0x7ff982840fd0>"
            ]
          },
          "metadata": {},
          "execution_count": 12
        }
      ]
    },
    {
      "cell_type": "code",
      "source": [
        "val_pred = model.predict(x_val)\n",
        "test_pred = model.predict(x_test)"
      ],
      "metadata": {
        "colab": {
          "base_uri": "https://localhost:8080/"
        },
        "id": "OJ6VTncPWBcI",
        "outputId": "2d821004-f934-4287-cab6-c2e929277a1a"
      },
      "execution_count": 13,
      "outputs": [
        {
          "output_type": "stream",
          "name": "stdout",
          "text": [
            "3/3 [==============================] - 2s 95ms/step\n",
            "3/3 [==============================] - 0s 102ms/step\n"
          ]
        }
      ]
    },
    {
      "cell_type": "code",
      "source": [
        "from sklearn.metrics import mean_absolute_error\n",
        "print (mean_absolute_error(y_val,val_pred),mean_absolute_error(y_test,test_pred))"
      ],
      "metadata": {
        "id": "0NDP_snrmqyo",
        "outputId": "13694559-96ab-454a-d2b0-7051b2de22bb",
        "colab": {
          "base_uri": "https://localhost:8080/"
        }
      },
      "execution_count": 14,
      "outputs": [
        {
          "output_type": "stream",
          "name": "stdout",
          "text": [
            "44.903502421437956 46.16548021292981\n"
          ]
        }
      ]
    },
    {
      "cell_type": "code",
      "source": [
        "from sklearn.metrics import mean_absolute_error\n",
        "print (mean_absolute_error(y_val,val_pred),mean_absolute_error(y_test,test_pred))"
      ],
      "metadata": {
        "colab": {
          "base_uri": "https://localhost:8080/"
        },
        "id": "tPEJ6vfVWLgc",
        "outputId": "58b98748-9c54-4fe1-f61b-6d350ec06539"
      },
      "execution_count": null,
      "outputs": [
        {
          "output_type": "stream",
          "name": "stdout",
          "text": [
            "46.3512412365572 47.35613476223415\n"
          ]
        }
      ]
    },
    {
      "cell_type": "code",
      "source": [
        "len(test_pred)"
      ],
      "metadata": {
        "colab": {
          "base_uri": "https://localhost:8080/"
        },
        "id": "zDqszQsNOtOf",
        "outputId": "cb549a9e-3087-4b07-dab4-3804552949b3"
      },
      "execution_count": null,
      "outputs": [
        {
          "output_type": "execute_result",
          "data": {
            "text/plain": [
              "81"
            ]
          },
          "metadata": {},
          "execution_count": 16
        }
      ]
    },
    {
      "cell_type": "code",
      "source": [
        "df_test = df[-n_test:]\n",
        "f=open('SinglePropertyPrediction-test-exfoliation_energy-dft_3d-AI-mae.csv','w')\n",
        "f.write('id,prediction\\n')\n",
        "for i in range(len(df_test)):\n",
        "    #print (i)\n",
        "    jid = df_test.iloc[i]['id']\n",
        "    target = df_test.iloc[i]['target']\n",
        "    #print(jid,target,y_test[i][0],test_pred[i][0])\n",
        "    line=jid+','+str(test_pred[i][0])+'\\n'\n",
        "    f.write(line)\n",
        "f.close()"
      ],
      "metadata": {
        "id": "6KnLj_DXYiAg"
      },
      "execution_count": null,
      "outputs": []
    },
    {
      "cell_type": "code",
      "source": [
        "x = pd.read_csv('SinglePropertyPrediction-test-exfoliation_energy-dft_3d-AI-mae.csv')"
      ],
      "metadata": {
        "id": "skfXlGavljq-"
      },
      "execution_count": null,
      "outputs": []
    },
    {
      "cell_type": "code",
      "source": [
        "x"
      ],
      "metadata": {
        "id": "9R8FpVzGn-eR",
        "outputId": "cb138d04-0075-4141-989d-bb8ebd202c9e",
        "colab": {
          "base_uri": "https://localhost:8080/",
          "height": 423
        }
      },
      "execution_count": null,
      "outputs": [
        {
          "output_type": "execute_result",
          "data": {
            "text/plain": [
              "             id  prediction\n",
              "0   JVASP-12918  170.822100\n",
              "1    JVASP-2035   74.013300\n",
              "2   JVASP-13942   64.608246\n",
              "3     JVASP-278  137.864260\n",
              "4   JVASP-10173   89.864630\n",
              "..          ...         ...\n",
              "76   JVASP-4364   83.664270\n",
              "77  JVASP-29480   60.650230\n",
              "78  JVASP-28375   64.239690\n",
              "79    JVASP-590   71.237015\n",
              "80   JVASP-4741  109.194580\n",
              "\n",
              "[81 rows x 2 columns]"
            ],
            "text/html": [
              "\n",
              "  <div id=\"df-257225bc-abbc-488b-8e9b-90c9f567fd5b\">\n",
              "    <div class=\"colab-df-container\">\n",
              "      <div>\n",
              "<style scoped>\n",
              "    .dataframe tbody tr th:only-of-type {\n",
              "        vertical-align: middle;\n",
              "    }\n",
              "\n",
              "    .dataframe tbody tr th {\n",
              "        vertical-align: top;\n",
              "    }\n",
              "\n",
              "    .dataframe thead th {\n",
              "        text-align: right;\n",
              "    }\n",
              "</style>\n",
              "<table border=\"1\" class=\"dataframe\">\n",
              "  <thead>\n",
              "    <tr style=\"text-align: right;\">\n",
              "      <th></th>\n",
              "      <th>id</th>\n",
              "      <th>prediction</th>\n",
              "    </tr>\n",
              "  </thead>\n",
              "  <tbody>\n",
              "    <tr>\n",
              "      <th>0</th>\n",
              "      <td>JVASP-12918</td>\n",
              "      <td>170.822100</td>\n",
              "    </tr>\n",
              "    <tr>\n",
              "      <th>1</th>\n",
              "      <td>JVASP-2035</td>\n",
              "      <td>74.013300</td>\n",
              "    </tr>\n",
              "    <tr>\n",
              "      <th>2</th>\n",
              "      <td>JVASP-13942</td>\n",
              "      <td>64.608246</td>\n",
              "    </tr>\n",
              "    <tr>\n",
              "      <th>3</th>\n",
              "      <td>JVASP-278</td>\n",
              "      <td>137.864260</td>\n",
              "    </tr>\n",
              "    <tr>\n",
              "      <th>4</th>\n",
              "      <td>JVASP-10173</td>\n",
              "      <td>89.864630</td>\n",
              "    </tr>\n",
              "    <tr>\n",
              "      <th>...</th>\n",
              "      <td>...</td>\n",
              "      <td>...</td>\n",
              "    </tr>\n",
              "    <tr>\n",
              "      <th>76</th>\n",
              "      <td>JVASP-4364</td>\n",
              "      <td>83.664270</td>\n",
              "    </tr>\n",
              "    <tr>\n",
              "      <th>77</th>\n",
              "      <td>JVASP-29480</td>\n",
              "      <td>60.650230</td>\n",
              "    </tr>\n",
              "    <tr>\n",
              "      <th>78</th>\n",
              "      <td>JVASP-28375</td>\n",
              "      <td>64.239690</td>\n",
              "    </tr>\n",
              "    <tr>\n",
              "      <th>79</th>\n",
              "      <td>JVASP-590</td>\n",
              "      <td>71.237015</td>\n",
              "    </tr>\n",
              "    <tr>\n",
              "      <th>80</th>\n",
              "      <td>JVASP-4741</td>\n",
              "      <td>109.194580</td>\n",
              "    </tr>\n",
              "  </tbody>\n",
              "</table>\n",
              "<p>81 rows × 2 columns</p>\n",
              "</div>\n",
              "      <button class=\"colab-df-convert\" onclick=\"convertToInteractive('df-257225bc-abbc-488b-8e9b-90c9f567fd5b')\"\n",
              "              title=\"Convert this dataframe to an interactive table.\"\n",
              "              style=\"display:none;\">\n",
              "        \n",
              "  <svg xmlns=\"http://www.w3.org/2000/svg\" height=\"24px\"viewBox=\"0 0 24 24\"\n",
              "       width=\"24px\">\n",
              "    <path d=\"M0 0h24v24H0V0z\" fill=\"none\"/>\n",
              "    <path d=\"M18.56 5.44l.94 2.06.94-2.06 2.06-.94-2.06-.94-.94-2.06-.94 2.06-2.06.94zm-11 1L8.5 8.5l.94-2.06 2.06-.94-2.06-.94L8.5 2.5l-.94 2.06-2.06.94zm10 10l.94 2.06.94-2.06 2.06-.94-2.06-.94-.94-2.06-.94 2.06-2.06.94z\"/><path d=\"M17.41 7.96l-1.37-1.37c-.4-.4-.92-.59-1.43-.59-.52 0-1.04.2-1.43.59L10.3 9.45l-7.72 7.72c-.78.78-.78 2.05 0 2.83L4 21.41c.39.39.9.59 1.41.59.51 0 1.02-.2 1.41-.59l7.78-7.78 2.81-2.81c.8-.78.8-2.07 0-2.86zM5.41 20L4 18.59l7.72-7.72 1.47 1.35L5.41 20z\"/>\n",
              "  </svg>\n",
              "      </button>\n",
              "      \n",
              "  <style>\n",
              "    .colab-df-container {\n",
              "      display:flex;\n",
              "      flex-wrap:wrap;\n",
              "      gap: 12px;\n",
              "    }\n",
              "\n",
              "    .colab-df-convert {\n",
              "      background-color: #E8F0FE;\n",
              "      border: none;\n",
              "      border-radius: 50%;\n",
              "      cursor: pointer;\n",
              "      display: none;\n",
              "      fill: #1967D2;\n",
              "      height: 32px;\n",
              "      padding: 0 0 0 0;\n",
              "      width: 32px;\n",
              "    }\n",
              "\n",
              "    .colab-df-convert:hover {\n",
              "      background-color: #E2EBFA;\n",
              "      box-shadow: 0px 1px 2px rgba(60, 64, 67, 0.3), 0px 1px 3px 1px rgba(60, 64, 67, 0.15);\n",
              "      fill: #174EA6;\n",
              "    }\n",
              "\n",
              "    [theme=dark] .colab-df-convert {\n",
              "      background-color: #3B4455;\n",
              "      fill: #D2E3FC;\n",
              "    }\n",
              "\n",
              "    [theme=dark] .colab-df-convert:hover {\n",
              "      background-color: #434B5C;\n",
              "      box-shadow: 0px 1px 3px 1px rgba(0, 0, 0, 0.15);\n",
              "      filter: drop-shadow(0px 1px 2px rgba(0, 0, 0, 0.3));\n",
              "      fill: #FFFFFF;\n",
              "    }\n",
              "  </style>\n",
              "\n",
              "      <script>\n",
              "        const buttonEl =\n",
              "          document.querySelector('#df-257225bc-abbc-488b-8e9b-90c9f567fd5b button.colab-df-convert');\n",
              "        buttonEl.style.display =\n",
              "          google.colab.kernel.accessAllowed ? 'block' : 'none';\n",
              "\n",
              "        async function convertToInteractive(key) {\n",
              "          const element = document.querySelector('#df-257225bc-abbc-488b-8e9b-90c9f567fd5b');\n",
              "          const dataTable =\n",
              "            await google.colab.kernel.invokeFunction('convertToInteractive',\n",
              "                                                     [key], {});\n",
              "          if (!dataTable) return;\n",
              "\n",
              "          const docLinkHtml = 'Like what you see? Visit the ' +\n",
              "            '<a target=\"_blank\" href=https://colab.research.google.com/notebooks/data_table.ipynb>data table notebook</a>'\n",
              "            + ' to learn more about interactive tables.';\n",
              "          element.innerHTML = '';\n",
              "          dataTable['output_type'] = 'display_data';\n",
              "          await google.colab.output.renderOutput(dataTable, element);\n",
              "          const docLink = document.createElement('div');\n",
              "          docLink.innerHTML = docLinkHtml;\n",
              "          element.appendChild(docLink);\n",
              "        }\n",
              "      </script>\n",
              "    </div>\n",
              "  </div>\n",
              "  "
            ]
          },
          "metadata": {},
          "execution_count": 37
        }
      ]
    },
    {
      "cell_type": "code",
      "source": [
        "import os\n",
        "cwd=os.getcwd()\n",
        "os.makedirs('kgcnn_schnet')\n",
        "os.chdir('kgcnn_schnet')"
      ],
      "metadata": {
        "id": "vwCFr4h_coY1"
      },
      "execution_count": null,
      "outputs": []
    },
    {
      "cell_type": "code",
      "source": [
        "!cp ../SinglePropertyPrediction-test-exfoliation_energy-dft_3d-AI-mae.csv ."
      ],
      "metadata": {
        "id": "QBvvjSzUdYEb"
      },
      "execution_count": null,
      "outputs": []
    },
    {
      "cell_type": "code",
      "source": [
        "!wget https://raw.githubusercontent.com/usnistgov/jarvis_leaderboard/main/jarvis_leaderboard/benchmarks/alignn_model/metadata.json"
      ],
      "metadata": {
        "id": "iL-GrUkBoYbK",
        "outputId": "f0e037c3-054c-4389-928a-2103a83adf2f",
        "colab": {
          "base_uri": "https://localhost:8080/"
        }
      },
      "execution_count": null,
      "outputs": [
        {
          "output_type": "stream",
          "name": "stdout",
          "text": [
            "--2023-04-24 19:00:34--  https://raw.githubusercontent.com/usnistgov/jarvis_leaderboard/main/jarvis_leaderboard/benchmarks/alignn_model/metadata.json\n",
            "Resolving raw.githubusercontent.com (raw.githubusercontent.com)... 185.199.108.133, 185.199.109.133, 185.199.110.133, ...\n",
            "Connecting to raw.githubusercontent.com (raw.githubusercontent.com)|185.199.108.133|:443... connected.\n",
            "HTTP request sent, awaiting response... 200 OK\n",
            "Length: 391 [text/plain]\n",
            "Saving to: ‘metadata.json’\n",
            "\n",
            "\rmetadata.json         0%[                    ]       0  --.-KB/s               \rmetadata.json       100%[===================>]     391  --.-KB/s    in 0s      \n",
            "\n",
            "2023-04-24 19:00:34 (26.9 MB/s) - ‘metadata.json’ saved [391/391]\n",
            "\n"
          ]
        }
      ]
    },
    {
      "cell_type": "code",
      "source": [
        "from jarvis.db.jsonutils import loadjson,dumpjson\n",
        "meta = loadjson('metadata.json')"
      ],
      "metadata": {
        "id": "Gjsb_XYmoY_F"
      },
      "execution_count": null,
      "outputs": []
    },
    {
      "cell_type": "code",
      "source": [
        "meta"
      ],
      "metadata": {
        "id": "ac19fH7jojF5",
        "outputId": "7b39fc24-c47c-44fb-d2d1-72ec9a108cae",
        "colab": {
          "base_uri": "https://localhost:8080/"
        }
      },
      "execution_count": null,
      "outputs": [
        {
          "output_type": "execute_result",
          "data": {
            "text/plain": [
              "{'model_name': 'ALIGNN',\n",
              " 'project_url': 'https://www.nature.com/articles/s41524-021-00650-1',\n",
              " 'date_submitted': '01-14-2023',\n",
              " 'author_email': 'knc6@nist.gov',\n",
              " 'database_version': '12-12-2022',\n",
              " 'team_name': 'JARVIS',\n",
              " 'time_taken_seconds': 458.17,\n",
              " 'language': 'python',\n",
              " 'os': 'linux',\n",
              " 'software_used': 'jarvis-tools,numpy,scipy,torch,alignn',\n",
              " 'harware_used': 'nisaba-cluster at NIST, V100 Tesla GPU'}"
            ]
          },
          "metadata": {},
          "execution_count": 50
        }
      ]
    },
    {
      "cell_type": "code",
      "source": [
        "meta['model_name'] = 'kgcnn_schnet'\n",
        "meta['project_url'] = 'https://github.com/aimat-lab/gcnn_keras/'\n",
        "# TODO: Add other details\n",
        "dumpjson(data=meta,filename='metadata.json')"
      ],
      "metadata": {
        "id": "SltvTqYcolz5"
      },
      "execution_count": null,
      "outputs": []
    },
    {
      "cell_type": "code",
      "source": [
        "!wget https://raw.githubusercontent.com/usnistgov/jarvis_leaderboard/main/jarvis_leaderboard/benchmarks/alignn_model/run.sh"
      ],
      "metadata": {
        "id": "6-re0TtspSlP",
        "outputId": "66ff1496-bbef-4657-d02e-a205ac203035",
        "colab": {
          "base_uri": "https://localhost:8080/"
        }
      },
      "execution_count": null,
      "outputs": [
        {
          "output_type": "stream",
          "name": "stdout",
          "text": [
            "--2023-04-24 19:02:50--  https://raw.githubusercontent.com/usnistgov/jarvis_leaderboard/main/jarvis_leaderboard/benchmarks/alignn_model/run.sh\n",
            "Resolving raw.githubusercontent.com (raw.githubusercontent.com)... 185.199.108.133, 185.199.109.133, 185.199.110.133, ...\n",
            "Connecting to raw.githubusercontent.com (raw.githubusercontent.com)|185.199.108.133|:443... connected.\n",
            "HTTP request sent, awaiting response... 200 OK\n",
            "Length: 54 [text/plain]\n",
            "Saving to: ‘run.sh’\n",
            "\n",
            "\rrun.sh                0%[                    ]       0  --.-KB/s               \rrun.sh              100%[===================>]      54  --.-KB/s    in 0s      \n",
            "\n",
            "2023-04-24 19:02:50 (2.53 MB/s) - ‘run.sh’ saved [54/54]\n",
            "\n"
          ]
        }
      ]
    },
    {
      "cell_type": "code",
      "source": [
        "os.chdir(cwd)"
      ],
      "metadata": {
        "id": "D_1pKCUGpa6d"
      },
      "execution_count": null,
      "outputs": []
    },
    {
      "cell_type": "code",
      "source": [
        "!jarvis_upload.py --your_benchmark_directory  kgcnn_schnet --github_username knc6"
      ],
      "metadata": {
        "id": "pO7k-ITcqZEm"
      },
      "execution_count": null,
      "outputs": []
    },
    {
      "cell_type": "code",
      "source": [],
      "metadata": {
        "id": "tWyQbo1hpjXT"
      },
      "execution_count": null,
      "outputs": []
    }
  ]
}