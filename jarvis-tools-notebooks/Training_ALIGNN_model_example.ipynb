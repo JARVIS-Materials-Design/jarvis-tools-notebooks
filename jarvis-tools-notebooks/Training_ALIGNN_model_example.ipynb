{
  "nbformat": 4,
  "nbformat_minor": 0,
  "metadata": {
    "colab": {
      "name": "Training_ALIGNN_model_example.ipynb",
      "provenance": [],
      "gpuType": "T4",
      "include_colab_link": true
    },
    "kernelspec": {
      "display_name": "Python 3",
      "name": "python3"
    },
    "language_info": {
      "name": "python"
    },
    "accelerator": "GPU"
  },
  "cells": [
    {
      "cell_type": "markdown",
      "metadata": {
        "id": "view-in-github",
        "colab_type": "text"
      },
      "source": [
        "<a href=\"https://colab.research.google.com/github/knc6/jarvis-tools-notebooks/blob/master/jarvis-tools-notebooks/Training_ALIGNN_model_example.ipynb\" target=\"_parent\"><img src=\"https://colab.research.google.com/assets/colab-badge.svg\" alt=\"Open In Colab\"/></a>"
      ]
    },
    {
      "cell_type": "markdown",
      "metadata": {
        "id": "OUZGR6D82ij-"
      },
      "source": [
        "# Table of contents\n",
        "\n",
        "1. Installing [ALIGNN](https://github.com/usnistgov/alignn)\n",
        "2. Example training for regression on 50 materials,\n",
        "3. Using more than 70 pre-trained models to make fast predictions\n",
        "4. ALIGNN-FF Ase Calculator: predict energy/forces, optimized strcture, EV curves and phonons\n",
        "5. Train ALIGNN-FF on a new dataset\n",
        "6. Additional examples\n",
        "7. Add ALIGNN-results to the JARVIS-Leaderboard\n",
        "\n",
        "Author: Kamal Choudhary (kamal.choudhary@nist.gov)"
      ]
    },
    {
      "cell_type": "markdown",
      "source": [
        "## ALIGNN model ref.: https://www.nature.com/articles/s41524-021-00650-1\n",
        "## ALIGNN-FF ref.: https://pubs.rsc.org/en/content/articlehtml/2023/dd/d2dd00096b"
      ],
      "metadata": {
        "id": "IX40yUewTYCh"
      }
    },
    {
      "cell_type": "markdown",
      "source": [
        "# 1. Installation"
      ],
      "metadata": {
        "id": "5nZrLe0WJGIh"
      }
    },
    {
      "cell_type": "code",
      "source": [
        "!nvcc --version"
      ],
      "metadata": {
        "id": "fKllr0F0J8cu",
        "outputId": "d727905a-6f3c-46d9-97e9-625773739ef3",
        "colab": {
          "base_uri": "https://localhost:8080/"
        }
      },
      "execution_count": 1,
      "outputs": [
        {
          "output_type": "stream",
          "name": "stdout",
          "text": [
            "nvcc: NVIDIA (R) Cuda compiler driver\n",
            "Copyright (c) 2005-2022 NVIDIA Corporation\n",
            "Built on Wed_Sep_21_10:33:58_PDT_2022\n",
            "Cuda compilation tools, release 11.8, V11.8.89\n",
            "Build cuda_11.8.r11.8/compiler.31833905_0\n"
          ]
        }
      ]
    },
    {
      "cell_type": "markdown",
      "source": [
        "Bases on nvcc version, corresponding gpu version of dgl will be needed."
      ],
      "metadata": {
        "id": "NOoQNn-CJ_Z0"
      }
    },
    {
      "cell_type": "code",
      "metadata": {
        "id": "WFrl_N-S1Bxk",
        "outputId": "5b6519a3-2cdb-4c5e-e9dd-66a4c15a7c83",
        "colab": {
          "base_uri": "https://localhost:8080/",
          "height": 1000
        }
      },
      "source": [
        "%%time\n",
        "!pip install --pre dgl -f https://data.dgl.ai/wheels/cu118/repo.html\n",
        "!pip install --pre dglgo -f https://data.dgl.ai/wheels-test/repo.html\n",
        "!pip install alignn"
      ],
      "execution_count": 2,
      "outputs": [
        {
          "output_type": "stream",
          "name": "stdout",
          "text": [
            "Looking in links: https://data.dgl.ai/wheels/cu118/repo.html\n",
            "Collecting dgl\n",
            "  Downloading https://data.dgl.ai/wheels/cu118/dgl-1.1.1%2Bcu118-cp310-cp310-manylinux1_x86_64.whl (86.8 MB)\n",
            "\u001b[2K     \u001b[90m━━━━━━━━━━━━━━━━━━━━━━━━━━━━━━━━━━━━━━━━\u001b[0m \u001b[32m86.8/86.8 MB\u001b[0m \u001b[31m7.5 MB/s\u001b[0m eta \u001b[36m0:00:00\u001b[0m\n",
            "\u001b[?25hRequirement already satisfied: numpy>=1.14.0 in /usr/local/lib/python3.10/dist-packages (from dgl) (1.22.4)\n",
            "Requirement already satisfied: scipy>=1.1.0 in /usr/local/lib/python3.10/dist-packages (from dgl) (1.10.1)\n",
            "Requirement already satisfied: networkx>=2.1 in /usr/local/lib/python3.10/dist-packages (from dgl) (3.1)\n",
            "Requirement already satisfied: requests>=2.19.0 in /usr/local/lib/python3.10/dist-packages (from dgl) (2.27.1)\n",
            "Requirement already satisfied: tqdm in /usr/local/lib/python3.10/dist-packages (from dgl) (4.65.0)\n",
            "Requirement already satisfied: psutil>=5.8.0 in /usr/local/lib/python3.10/dist-packages (from dgl) (5.9.5)\n",
            "Requirement already satisfied: urllib3<1.27,>=1.21.1 in /usr/local/lib/python3.10/dist-packages (from requests>=2.19.0->dgl) (1.26.16)\n",
            "Requirement already satisfied: certifi>=2017.4.17 in /usr/local/lib/python3.10/dist-packages (from requests>=2.19.0->dgl) (2023.5.7)\n",
            "Requirement already satisfied: charset-normalizer~=2.0.0 in /usr/local/lib/python3.10/dist-packages (from requests>=2.19.0->dgl) (2.0.12)\n",
            "Requirement already satisfied: idna<4,>=2.5 in /usr/local/lib/python3.10/dist-packages (from requests>=2.19.0->dgl) (3.4)\n",
            "Installing collected packages: dgl\n",
            "Successfully installed dgl-1.1.1+cu118\n",
            "Looking in links: https://data.dgl.ai/wheels-test/repo.html\n",
            "Collecting dglgo\n",
            "  Downloading dglgo-0.0.2-py3-none-any.whl (63 kB)\n",
            "\u001b[2K     \u001b[90m━━━━━━━━━━━━━━━━━━━━━━━━━━━━━━━━━━━━━━━━\u001b[0m \u001b[32m63.5/63.5 kB\u001b[0m \u001b[31m2.0 MB/s\u001b[0m eta \u001b[36m0:00:00\u001b[0m\n",
            "\u001b[?25hRequirement already satisfied: typer>=0.4.0 in /usr/local/lib/python3.10/dist-packages (from dglgo) (0.9.0)\n",
            "Collecting isort>=5.10.1 (from dglgo)\n",
            "  Downloading isort-6.0.0b2-py3-none-any.whl (105 kB)\n",
            "\u001b[2K     \u001b[90m━━━━━━━━━━━━━━━━━━━━━━━━━━━━━━━━━━━━━━━\u001b[0m \u001b[32m105.3/105.3 kB\u001b[0m \u001b[31m7.2 MB/s\u001b[0m eta \u001b[36m0:00:00\u001b[0m\n",
            "\u001b[?25hCollecting autopep8>=1.6.0 (from dglgo)\n",
            "  Downloading autopep8-2.0.2-py2.py3-none-any.whl (45 kB)\n",
            "\u001b[2K     \u001b[90m━━━━━━━━━━━━━━━━━━━━━━━━━━━━━━━━━━━━━━━━\u001b[0m \u001b[32m45.2/45.2 kB\u001b[0m \u001b[31m5.7 MB/s\u001b[0m eta \u001b[36m0:00:00\u001b[0m\n",
            "\u001b[?25hCollecting numpydoc>=1.1.0 (from dglgo)\n",
            "  Downloading numpydoc-1.6.0rc1-py3-none-any.whl (58 kB)\n",
            "\u001b[2K     \u001b[90m━━━━━━━━━━━━━━━━━━━━━━━━━━━━━━━━━━━━━━━━\u001b[0m \u001b[32m58.8/58.8 kB\u001b[0m \u001b[31m7.7 MB/s\u001b[0m eta \u001b[36m0:00:00\u001b[0m\n",
            "\u001b[?25hRequirement already satisfied: pydantic>=1.9.0 in /usr/local/lib/python3.10/dist-packages (from dglgo) (1.10.11)\n",
            "Collecting ruamel.yaml>=0.17.20 (from dglgo)\n",
            "  Downloading ruamel.yaml-0.17.32-py3-none-any.whl (112 kB)\n",
            "\u001b[2K     \u001b[90m━━━━━━━━━━━━━━━━━━━━━━━━━━━━━━━━━━━━━━\u001b[0m \u001b[32m112.2/112.2 kB\u001b[0m \u001b[31m11.7 MB/s\u001b[0m eta \u001b[36m0:00:00\u001b[0m\n",
            "\u001b[?25hRequirement already satisfied: PyYAML>=5.1 in /usr/local/lib/python3.10/dist-packages (from dglgo) (6.0.1)\n",
            "Collecting ogb>=1.3.3 (from dglgo)\n",
            "  Downloading ogb-1.3.6-py3-none-any.whl (78 kB)\n",
            "\u001b[2K     \u001b[90m━━━━━━━━━━━━━━━━━━━━━━━━━━━━━━━━━━━━━━━━\u001b[0m \u001b[32m78.8/78.8 kB\u001b[0m \u001b[31m3.3 MB/s\u001b[0m eta \u001b[36m0:00:00\u001b[0m\n",
            "\u001b[?25hCollecting rdkit-pypi (from dglgo)\n",
            "  Downloading rdkit_pypi-2023.3.1b1-cp310-cp310-manylinux_2_17_x86_64.manylinux2014_x86_64.whl (29.7 MB)\n",
            "\u001b[2K     \u001b[90m━━━━━━━━━━━━━━━━━━━━━━━━━━━━━━━━━━━━━━━━\u001b[0m \u001b[32m29.7/29.7 MB\u001b[0m \u001b[31m50.7 MB/s\u001b[0m eta \u001b[36m0:00:00\u001b[0m\n",
            "\u001b[?25hRequirement already satisfied: scikit-learn>=0.20.0 in /usr/local/lib/python3.10/dist-packages (from dglgo) (1.2.2)\n",
            "Collecting pycodestyle>=2.10.0 (from autopep8>=1.6.0->dglgo)\n",
            "  Downloading pycodestyle-2.10.0-py2.py3-none-any.whl (41 kB)\n",
            "\u001b[2K     \u001b[90m━━━━━━━━━━━━━━━━━━━━━━━━━━━━━━━━━━━━━━━━\u001b[0m \u001b[32m41.3/41.3 kB\u001b[0m \u001b[31m5.0 MB/s\u001b[0m eta \u001b[36m0:00:00\u001b[0m\n",
            "\u001b[?25hRequirement already satisfied: tomli in /usr/local/lib/python3.10/dist-packages (from autopep8>=1.6.0->dglgo) (2.0.1)\n",
            "Collecting sphinx>=5 (from numpydoc>=1.1.0->dglgo)\n",
            "  Downloading sphinx-7.1.0-py3-none-any.whl (3.2 MB)\n",
            "\u001b[2K     \u001b[90m━━━━━━━━━━━━━━━━━━━━━━━━━━━━━━━━━━━━━━━━\u001b[0m \u001b[32m3.2/3.2 MB\u001b[0m \u001b[31m106.7 MB/s\u001b[0m eta \u001b[36m0:00:00\u001b[0m\n",
            "\u001b[?25hRequirement already satisfied: Jinja2>=2.10 in /usr/local/lib/python3.10/dist-packages (from numpydoc>=1.1.0->dglgo) (3.1.2)\n",
            "Requirement already satisfied: tabulate>=0.8.10 in /usr/local/lib/python3.10/dist-packages (from numpydoc>=1.1.0->dglgo) (0.9.0)\n",
            "Requirement already satisfied: torch>=1.6.0 in /usr/local/lib/python3.10/dist-packages (from ogb>=1.3.3->dglgo) (2.0.1+cu118)\n",
            "Requirement already satisfied: numpy>=1.16.0 in /usr/local/lib/python3.10/dist-packages (from ogb>=1.3.3->dglgo) (1.22.4)\n",
            "Requirement already satisfied: tqdm>=4.29.0 in /usr/local/lib/python3.10/dist-packages (from ogb>=1.3.3->dglgo) (4.65.0)\n",
            "Requirement already satisfied: pandas>=0.24.0 in /usr/local/lib/python3.10/dist-packages (from ogb>=1.3.3->dglgo) (1.5.3)\n",
            "Requirement already satisfied: six>=1.12.0 in /usr/local/lib/python3.10/dist-packages (from ogb>=1.3.3->dglgo) (1.16.0)\n",
            "Requirement already satisfied: urllib3>=1.24.0 in /usr/local/lib/python3.10/dist-packages (from ogb>=1.3.3->dglgo) (1.26.16)\n",
            "Collecting outdated>=0.2.0 (from ogb>=1.3.3->dglgo)\n",
            "  Downloading outdated-0.2.2-py2.py3-none-any.whl (7.5 kB)\n",
            "Requirement already satisfied: typing-extensions>=4.2.0 in /usr/local/lib/python3.10/dist-packages (from pydantic>=1.9.0->dglgo) (4.7.1)\n",
            "Collecting ruamel.yaml.clib>=0.2.7 (from ruamel.yaml>=0.17.20->dglgo)\n",
            "  Downloading ruamel.yaml.clib-0.2.7-cp310-cp310-manylinux_2_17_x86_64.manylinux2014_x86_64.manylinux_2_24_x86_64.whl (485 kB)\n",
            "\u001b[2K     \u001b[90m━━━━━━━━━━━━━━━━━━━━━━━━━━━━━━━━━━━━━━\u001b[0m \u001b[32m485.6/485.6 kB\u001b[0m \u001b[31m42.5 MB/s\u001b[0m eta \u001b[36m0:00:00\u001b[0m\n",
            "\u001b[?25hRequirement already satisfied: scipy>=1.3.2 in /usr/local/lib/python3.10/dist-packages (from scikit-learn>=0.20.0->dglgo) (1.10.1)\n",
            "Requirement already satisfied: joblib>=1.1.1 in /usr/local/lib/python3.10/dist-packages (from scikit-learn>=0.20.0->dglgo) (1.3.1)\n",
            "Requirement already satisfied: threadpoolctl>=2.0.0 in /usr/local/lib/python3.10/dist-packages (from scikit-learn>=0.20.0->dglgo) (3.2.0)\n",
            "Requirement already satisfied: click<9.0.0,>=7.1.1 in /usr/local/lib/python3.10/dist-packages (from typer>=0.4.0->dglgo) (8.1.6)\n",
            "Requirement already satisfied: Pillow in /usr/local/lib/python3.10/dist-packages (from rdkit-pypi->dglgo) (8.4.0)\n",
            "Requirement already satisfied: MarkupSafe>=2.0 in /usr/local/lib/python3.10/dist-packages (from Jinja2>=2.10->numpydoc>=1.1.0->dglgo) (2.1.3)\n",
            "Requirement already satisfied: setuptools>=44 in /usr/local/lib/python3.10/dist-packages (from outdated>=0.2.0->ogb>=1.3.3->dglgo) (67.7.2)\n",
            "Collecting littleutils (from outdated>=0.2.0->ogb>=1.3.3->dglgo)\n",
            "  Downloading littleutils-0.2.2.tar.gz (6.6 kB)\n",
            "  Preparing metadata (setup.py) ... \u001b[?25l\u001b[?25hdone\n",
            "Requirement already satisfied: requests in /usr/local/lib/python3.10/dist-packages (from outdated>=0.2.0->ogb>=1.3.3->dglgo) (2.27.1)\n",
            "Requirement already satisfied: python-dateutil>=2.8.1 in /usr/local/lib/python3.10/dist-packages (from pandas>=0.24.0->ogb>=1.3.3->dglgo) (2.8.2)\n",
            "Requirement already satisfied: pytz>=2020.1 in /usr/local/lib/python3.10/dist-packages (from pandas>=0.24.0->ogb>=1.3.3->dglgo) (2022.7.1)\n",
            "Requirement already satisfied: sphinxcontrib-applehelp in /usr/local/lib/python3.10/dist-packages (from sphinx>=5->numpydoc>=1.1.0->dglgo) (1.0.4)\n",
            "Requirement already satisfied: sphinxcontrib-devhelp in /usr/local/lib/python3.10/dist-packages (from sphinx>=5->numpydoc>=1.1.0->dglgo) (1.0.2)\n",
            "Requirement already satisfied: sphinxcontrib-jsmath in /usr/local/lib/python3.10/dist-packages (from sphinx>=5->numpydoc>=1.1.0->dglgo) (1.0.1)\n",
            "Requirement already satisfied: sphinxcontrib-htmlhelp>=2.0.0 in /usr/local/lib/python3.10/dist-packages (from sphinx>=5->numpydoc>=1.1.0->dglgo) (2.0.1)\n",
            "Requirement already satisfied: sphinxcontrib-serializinghtml>=1.1.5 in /usr/local/lib/python3.10/dist-packages (from sphinx>=5->numpydoc>=1.1.0->dglgo) (1.1.5)\n",
            "Requirement already satisfied: sphinxcontrib-qthelp in /usr/local/lib/python3.10/dist-packages (from sphinx>=5->numpydoc>=1.1.0->dglgo) (1.0.3)\n",
            "Requirement already satisfied: Pygments>=2.13 in /usr/local/lib/python3.10/dist-packages (from sphinx>=5->numpydoc>=1.1.0->dglgo) (2.14.0)\n",
            "Collecting docutils<0.21,>=0.18.1 (from sphinx>=5->numpydoc>=1.1.0->dglgo)\n",
            "  Downloading docutils-0.20.1-py3-none-any.whl (572 kB)\n",
            "\u001b[2K     \u001b[90m━━━━━━━━━━━━━━━━━━━━━━━━━━━━━━━━━━━━━━\u001b[0m \u001b[32m572.7/572.7 kB\u001b[0m \u001b[31m60.7 MB/s\u001b[0m eta \u001b[36m0:00:00\u001b[0m\n",
            "\u001b[?25hRequirement already satisfied: snowballstemmer>=2.0 in /usr/local/lib/python3.10/dist-packages (from sphinx>=5->numpydoc>=1.1.0->dglgo) (2.2.0)\n",
            "Requirement already satisfied: babel>=2.9 in /usr/local/lib/python3.10/dist-packages (from sphinx>=5->numpydoc>=1.1.0->dglgo) (2.12.1)\n",
            "Requirement already satisfied: alabaster<0.8,>=0.7 in /usr/local/lib/python3.10/dist-packages (from sphinx>=5->numpydoc>=1.1.0->dglgo) (0.7.13)\n",
            "Requirement already satisfied: imagesize>=1.3 in /usr/local/lib/python3.10/dist-packages (from sphinx>=5->numpydoc>=1.1.0->dglgo) (1.4.1)\n",
            "Requirement already satisfied: packaging>=21.0 in /usr/local/lib/python3.10/dist-packages (from sphinx>=5->numpydoc>=1.1.0->dglgo) (23.1)\n",
            "Requirement already satisfied: filelock in /usr/local/lib/python3.10/dist-packages (from torch>=1.6.0->ogb>=1.3.3->dglgo) (3.12.2)\n",
            "Requirement already satisfied: sympy in /usr/local/lib/python3.10/dist-packages (from torch>=1.6.0->ogb>=1.3.3->dglgo) (1.11.1)\n",
            "Requirement already satisfied: networkx in /usr/local/lib/python3.10/dist-packages (from torch>=1.6.0->ogb>=1.3.3->dglgo) (3.1)\n",
            "Requirement already satisfied: triton==2.0.0 in /usr/local/lib/python3.10/dist-packages (from torch>=1.6.0->ogb>=1.3.3->dglgo) (2.0.0)\n",
            "Requirement already satisfied: cmake in /usr/local/lib/python3.10/dist-packages (from triton==2.0.0->torch>=1.6.0->ogb>=1.3.3->dglgo) (3.25.2)\n",
            "Requirement already satisfied: lit in /usr/local/lib/python3.10/dist-packages (from triton==2.0.0->torch>=1.6.0->ogb>=1.3.3->dglgo) (16.0.6)\n",
            "Requirement already satisfied: certifi>=2017.4.17 in /usr/local/lib/python3.10/dist-packages (from requests->outdated>=0.2.0->ogb>=1.3.3->dglgo) (2023.5.7)\n",
            "Requirement already satisfied: charset-normalizer~=2.0.0 in /usr/local/lib/python3.10/dist-packages (from requests->outdated>=0.2.0->ogb>=1.3.3->dglgo) (2.0.12)\n",
            "Requirement already satisfied: idna<4,>=2.5 in /usr/local/lib/python3.10/dist-packages (from requests->outdated>=0.2.0->ogb>=1.3.3->dglgo) (3.4)\n",
            "Requirement already satisfied: mpmath>=0.19 in /usr/local/lib/python3.10/dist-packages (from sympy->torch>=1.6.0->ogb>=1.3.3->dglgo) (1.3.0)\n",
            "Building wheels for collected packages: littleutils\n",
            "  Building wheel for littleutils (setup.py) ... \u001b[?25l\u001b[?25hdone\n",
            "  Created wheel for littleutils: filename=littleutils-0.2.2-py3-none-any.whl size=7029 sha256=997241d1c429f93cd9bc0fb7a6c171b74cc5df9054ffe3aec0181e8ee4f01f91\n",
            "  Stored in directory: /root/.cache/pip/wheels/3d/fe/b0/27a9892da57472e538c7452a721a9cf463cc03cf7379889266\n",
            "Successfully built littleutils\n",
            "Installing collected packages: littleutils, ruamel.yaml.clib, rdkit-pypi, pycodestyle, isort, docutils, sphinx, ruamel.yaml, outdated, autopep8, numpydoc, ogb, dglgo\n",
            "  Attempting uninstall: docutils\n",
            "    Found existing installation: docutils 0.16\n",
            "    Uninstalling docutils-0.16:\n",
            "      Successfully uninstalled docutils-0.16\n",
            "  Attempting uninstall: sphinx\n",
            "    Found existing installation: Sphinx 3.5.4\n",
            "    Uninstalling Sphinx-3.5.4:\n",
            "      Successfully uninstalled Sphinx-3.5.4\n",
            "Successfully installed autopep8-2.0.2 dglgo-0.0.2 docutils-0.20.1 isort-6.0.0b2 littleutils-0.2.2 numpydoc-1.6.0rc1 ogb-1.3.6 outdated-0.2.2 pycodestyle-2.10.0 rdkit-pypi-2023.3.1b1 ruamel.yaml-0.17.32 ruamel.yaml.clib-0.2.7 sphinx-7.1.0\n",
            "Collecting alignn\n",
            "  Downloading alignn-2023.7.10-py2.py3-none-any.whl (129 kB)\n",
            "\u001b[2K     \u001b[90m━━━━━━━━━━━━━━━━━━━━━━━━━━━━━━━━━━━━━━━\u001b[0m \u001b[32m129.6/129.6 kB\u001b[0m \u001b[31m3.4 MB/s\u001b[0m eta \u001b[36m0:00:00\u001b[0m\n",
            "\u001b[?25hRequirement already satisfied: numpy>=1.19.5 in /usr/local/lib/python3.10/dist-packages (from alignn) (1.22.4)\n",
            "Requirement already satisfied: scipy>=1.6.1 in /usr/local/lib/python3.10/dist-packages (from alignn) (1.10.1)\n",
            "Collecting jarvis-tools>=2021.07.19 (from alignn)\n",
            "  Downloading jarvis_tools-2023.5.26-py2.py3-none-any.whl (974 kB)\n",
            "\u001b[2K     \u001b[90m━━━━━━━━━━━━━━━━━━━━━━━━━━━━━━━━━━━━━━\u001b[0m \u001b[32m974.6/974.6 kB\u001b[0m \u001b[31m10.6 MB/s\u001b[0m eta \u001b[36m0:00:00\u001b[0m\n",
            "\u001b[?25hRequirement already satisfied: torch>=1.8 in /usr/local/lib/python3.10/dist-packages (from alignn) (2.0.1+cu118)\n",
            "Requirement already satisfied: dgl>=0.6.0 in /usr/local/lib/python3.10/dist-packages (from alignn) (1.1.1+cu118)\n",
            "Requirement already satisfied: scikit-learn>=0.22.2 in /usr/local/lib/python3.10/dist-packages (from alignn) (1.2.2)\n",
            "Requirement already satisfied: matplotlib>=3.4.1 in /usr/local/lib/python3.10/dist-packages (from alignn) (3.7.1)\n",
            "Requirement already satisfied: tqdm>=4.60.0 in /usr/local/lib/python3.10/dist-packages (from alignn) (4.65.0)\n",
            "Requirement already satisfied: pandas>=1.2.3 in /usr/local/lib/python3.10/dist-packages (from alignn) (1.5.3)\n",
            "Collecting pytorch-ignite>=0.5.0.dev20221024 (from alignn)\n",
            "  Downloading pytorch_ignite-0.5.0.dev20230726-py3-none-any.whl (267 kB)\n",
            "\u001b[2K     \u001b[90m━━━━━━━━━━━━━━━━━━━━━━━━━━━━━━━━━━━━━━\u001b[0m \u001b[32m267.4/267.4 kB\u001b[0m \u001b[31m11.8 MB/s\u001b[0m eta \u001b[36m0:00:00\u001b[0m\n",
            "\u001b[?25hCollecting pydantic==1.8.1 (from alignn)\n",
            "  Downloading pydantic-1.8.1-py3-none-any.whl (125 kB)\n",
            "\u001b[2K     \u001b[90m━━━━━━━━━━━━━━━━━━━━━━━━━━━━━━━━━━━━━━\u001b[0m \u001b[32m125.3/125.3 kB\u001b[0m \u001b[31m14.9 MB/s\u001b[0m eta \u001b[36m0:00:00\u001b[0m\n",
            "\u001b[?25hCollecting flake8>=3.9.1 (from alignn)\n",
            "  Downloading flake8-6.0.0-py2.py3-none-any.whl (57 kB)\n",
            "\u001b[2K     \u001b[90m━━━━━━━━━━━━━━━━━━━━━━━━━━━━━━━━━━━━━━━━\u001b[0m \u001b[32m57.8/57.8 kB\u001b[0m \u001b[31m8.4 MB/s\u001b[0m eta \u001b[36m0:00:00\u001b[0m\n",
            "\u001b[?25hRequirement already satisfied: pycodestyle>=2.7.0 in /usr/local/lib/python3.10/dist-packages (from alignn) (2.10.0)\n",
            "Collecting pydocstyle>=6.0.0 (from alignn)\n",
            "  Downloading pydocstyle-6.3.0-py3-none-any.whl (38 kB)\n",
            "Collecting pyparsing<3,>=2.2.1 (from alignn)\n",
            "  Downloading pyparsing-2.4.7-py2.py3-none-any.whl (67 kB)\n",
            "\u001b[2K     \u001b[90m━━━━━━━━━━━━━━━━━━━━━━━━━━━━━━━━━━━━━━━━\u001b[0m \u001b[32m67.8/67.8 kB\u001b[0m \u001b[31m9.5 MB/s\u001b[0m eta \u001b[36m0:00:00\u001b[0m\n",
            "\u001b[?25hCollecting ase (from alignn)\n",
            "  Downloading ase-3.22.1-py3-none-any.whl (2.2 MB)\n",
            "\u001b[2K     \u001b[90m━━━━━━━━━━━━━━━━━━━━━━━━━━━━━━━━━━━━━━━━\u001b[0m \u001b[32m2.2/2.2 MB\u001b[0m \u001b[31m20.3 MB/s\u001b[0m eta \u001b[36m0:00:00\u001b[0m\n",
            "\u001b[?25hCollecting accelerate>=0.20.3 (from alignn)\n",
            "  Downloading accelerate-0.21.0-py3-none-any.whl (244 kB)\n",
            "\u001b[2K     \u001b[90m━━━━━━━━━━━━━━━━━━━━━━━━━━━━━━━━━━━━━━\u001b[0m \u001b[32m244.2/244.2 kB\u001b[0m \u001b[31m20.1 MB/s\u001b[0m eta \u001b[36m0:00:00\u001b[0m\n",
            "\u001b[?25hRequirement already satisfied: typing-extensions>=3.7.4.3 in /usr/local/lib/python3.10/dist-packages (from pydantic==1.8.1->alignn) (4.7.1)\n",
            "Requirement already satisfied: packaging>=20.0 in /usr/local/lib/python3.10/dist-packages (from accelerate>=0.20.3->alignn) (23.1)\n",
            "Requirement already satisfied: psutil in /usr/local/lib/python3.10/dist-packages (from accelerate>=0.20.3->alignn) (5.9.5)\n",
            "Requirement already satisfied: pyyaml in /usr/local/lib/python3.10/dist-packages (from accelerate>=0.20.3->alignn) (6.0.1)\n",
            "Requirement already satisfied: networkx>=2.1 in /usr/local/lib/python3.10/dist-packages (from dgl>=0.6.0->alignn) (3.1)\n",
            "Requirement already satisfied: requests>=2.19.0 in /usr/local/lib/python3.10/dist-packages (from dgl>=0.6.0->alignn) (2.27.1)\n",
            "Collecting mccabe<0.8.0,>=0.7.0 (from flake8>=3.9.1->alignn)\n",
            "  Downloading mccabe-0.7.0-py2.py3-none-any.whl (7.3 kB)\n",
            "Collecting pyflakes<3.1.0,>=3.0.0 (from flake8>=3.9.1->alignn)\n",
            "  Downloading pyflakes-3.0.1-py2.py3-none-any.whl (62 kB)\n",
            "\u001b[2K     \u001b[90m━━━━━━━━━━━━━━━━━━━━━━━━━━━━━━━━━━━━━━━━\u001b[0m \u001b[32m62.8/62.8 kB\u001b[0m \u001b[31m9.5 MB/s\u001b[0m eta \u001b[36m0:00:00\u001b[0m\n",
            "\u001b[?25hCollecting spglib>=1.14.1 (from jarvis-tools>=2021.07.19->alignn)\n",
            "  Downloading spglib-2.0.2-cp310-cp310-manylinux_2_17_x86_64.manylinux2014_x86_64.whl (515 kB)\n",
            "\u001b[2K     \u001b[90m━━━━━━━━━━━━━━━━━━━━━━━━━━━━━━━━━━━━━━\u001b[0m \u001b[32m515.3/515.3 kB\u001b[0m \u001b[31m24.6 MB/s\u001b[0m eta \u001b[36m0:00:00\u001b[0m\n",
            "\u001b[?25hRequirement already satisfied: joblib>=0.14.1 in /usr/local/lib/python3.10/dist-packages (from jarvis-tools>=2021.07.19->alignn) (1.3.1)\n",
            "Requirement already satisfied: toolz>=0.9.0 in /usr/local/lib/python3.10/dist-packages (from jarvis-tools>=2021.07.19->alignn) (0.12.0)\n",
            "Collecting xmltodict>=0.11.0 (from jarvis-tools>=2021.07.19->alignn)\n",
            "  Downloading xmltodict-0.13.0-py2.py3-none-any.whl (10.0 kB)\n",
            "Requirement already satisfied: contourpy>=1.0.1 in /usr/local/lib/python3.10/dist-packages (from matplotlib>=3.4.1->alignn) (1.1.0)\n",
            "Requirement already satisfied: cycler>=0.10 in /usr/local/lib/python3.10/dist-packages (from matplotlib>=3.4.1->alignn) (0.11.0)\n",
            "Requirement already satisfied: fonttools>=4.22.0 in /usr/local/lib/python3.10/dist-packages (from matplotlib>=3.4.1->alignn) (4.41.0)\n",
            "Requirement already satisfied: kiwisolver>=1.0.1 in /usr/local/lib/python3.10/dist-packages (from matplotlib>=3.4.1->alignn) (1.4.4)\n",
            "Requirement already satisfied: pillow>=6.2.0 in /usr/local/lib/python3.10/dist-packages (from matplotlib>=3.4.1->alignn) (8.4.0)\n",
            "Requirement already satisfied: python-dateutil>=2.7 in /usr/local/lib/python3.10/dist-packages (from matplotlib>=3.4.1->alignn) (2.8.2)\n",
            "Requirement already satisfied: pytz>=2020.1 in /usr/local/lib/python3.10/dist-packages (from pandas>=1.2.3->alignn) (2022.7.1)\n",
            "Requirement already satisfied: snowballstemmer>=2.2.0 in /usr/local/lib/python3.10/dist-packages (from pydocstyle>=6.0.0->alignn) (2.2.0)\n",
            "Requirement already satisfied: threadpoolctl>=2.0.0 in /usr/local/lib/python3.10/dist-packages (from scikit-learn>=0.22.2->alignn) (3.2.0)\n",
            "Requirement already satisfied: filelock in /usr/local/lib/python3.10/dist-packages (from torch>=1.8->alignn) (3.12.2)\n",
            "Requirement already satisfied: sympy in /usr/local/lib/python3.10/dist-packages (from torch>=1.8->alignn) (1.11.1)\n",
            "Requirement already satisfied: jinja2 in /usr/local/lib/python3.10/dist-packages (from torch>=1.8->alignn) (3.1.2)\n",
            "Requirement already satisfied: triton==2.0.0 in /usr/local/lib/python3.10/dist-packages (from torch>=1.8->alignn) (2.0.0)\n",
            "Requirement already satisfied: cmake in /usr/local/lib/python3.10/dist-packages (from triton==2.0.0->torch>=1.8->alignn) (3.25.2)\n",
            "Requirement already satisfied: lit in /usr/local/lib/python3.10/dist-packages (from triton==2.0.0->torch>=1.8->alignn) (16.0.6)\n",
            "Requirement already satisfied: six>=1.5 in /usr/local/lib/python3.10/dist-packages (from python-dateutil>=2.7->matplotlib>=3.4.1->alignn) (1.16.0)\n",
            "Requirement already satisfied: urllib3<1.27,>=1.21.1 in /usr/local/lib/python3.10/dist-packages (from requests>=2.19.0->dgl>=0.6.0->alignn) (1.26.16)\n",
            "Requirement already satisfied: certifi>=2017.4.17 in /usr/local/lib/python3.10/dist-packages (from requests>=2.19.0->dgl>=0.6.0->alignn) (2023.5.7)\n",
            "Requirement already satisfied: charset-normalizer~=2.0.0 in /usr/local/lib/python3.10/dist-packages (from requests>=2.19.0->dgl>=0.6.0->alignn) (2.0.12)\n",
            "Requirement already satisfied: idna<4,>=2.5 in /usr/local/lib/python3.10/dist-packages (from requests>=2.19.0->dgl>=0.6.0->alignn) (3.4)\n",
            "Requirement already satisfied: MarkupSafe>=2.0 in /usr/local/lib/python3.10/dist-packages (from jinja2->torch>=1.8->alignn) (2.1.3)\n",
            "Requirement already satisfied: mpmath>=0.19 in /usr/local/lib/python3.10/dist-packages (from sympy->torch>=1.8->alignn) (1.3.0)\n",
            "Installing collected packages: xmltodict, spglib, pyparsing, pyflakes, pydocstyle, pydantic, mccabe, flake8, jarvis-tools, ase, pytorch-ignite, accelerate, alignn\n",
            "  Attempting uninstall: pyparsing\n",
            "    Found existing installation: pyparsing 3.1.0\n",
            "    Uninstalling pyparsing-3.1.0:\n",
            "      Successfully uninstalled pyparsing-3.1.0\n",
            "  Attempting uninstall: pydantic\n",
            "    Found existing installation: pydantic 1.10.11\n",
            "    Uninstalling pydantic-1.10.11:\n",
            "      Successfully uninstalled pydantic-1.10.11\n",
            "\u001b[31mERROR: pip's dependency resolver does not currently take into account all the packages that are installed. This behaviour is the source of the following dependency conflicts.\n",
            "confection 0.1.0 requires pydantic!=1.8,!=1.8.1,<1.11.0,>=1.7.4, but you have pydantic 1.8.1 which is incompatible.\n",
            "dglgo 0.0.2 requires pydantic>=1.9.0, but you have pydantic 1.8.1 which is incompatible.\n",
            "inflect 6.0.5 requires pydantic<2,>=1.9.1, but you have pydantic 1.8.1 which is incompatible.\n",
            "spacy 3.5.4 requires pydantic!=1.8,!=1.8.1,<1.11.0,>=1.7.4, but you have pydantic 1.8.1 which is incompatible.\n",
            "thinc 8.1.10 requires pydantic!=1.8,!=1.8.1,<1.11.0,>=1.7.4, but you have pydantic 1.8.1 which is incompatible.\u001b[0m\u001b[31m\n",
            "\u001b[0mSuccessfully installed accelerate-0.21.0 alignn-2023.7.10 ase-3.22.1 flake8-6.0.0 jarvis-tools-2023.5.26 mccabe-0.7.0 pydantic-1.8.1 pydocstyle-6.3.0 pyflakes-3.0.1 pyparsing-2.4.7 pytorch-ignite-0.5.0.dev20230726 spglib-2.0.2 xmltodict-0.13.0\n"
          ]
        },
        {
          "output_type": "display_data",
          "data": {
            "application/vnd.colab-display-data+json": {
              "pip_warning": {
                "packages": [
                  "pyparsing"
                ]
              }
            }
          },
          "metadata": {}
        },
        {
          "output_type": "stream",
          "name": "stdout",
          "text": [
            "CPU times: user 525 ms, sys: 89.1 ms, total: 614 ms\n",
            "Wall time: 1min 14s\n"
          ]
        }
      ]
    },
    {
      "cell_type": "code",
      "metadata": {
        "colab": {
          "base_uri": "https://localhost:8080/"
        },
        "id": "JyyE-cHL2iOn",
        "outputId": "6310df78-7d66-4614-898b-b0c8d1e0982b"
      },
      "source": [
        "import os\n",
        "!pwd\n",
        "os.chdir('/content')\n",
        "# Clone ALIGNN repo to get example folder\n",
        "if not os.path.exists('alignn'):\n",
        "  !git clone https://github.com/usnistgov/alignn.git\n",
        "\n",
        "os.chdir('alignn')\n",
        "# Install using setup.py in case pip didn't work\n",
        "# !python setup.py develop\n",
        "\n",
        "#!pip install dgl-cu111 # Colab has cuda 11.1"
      ],
      "execution_count": 3,
      "outputs": [
        {
          "output_type": "stream",
          "name": "stdout",
          "text": [
            "/content\n",
            "Cloning into 'alignn'...\n",
            "remote: Enumerating objects: 3969, done.\u001b[K\n",
            "remote: Counting objects: 100% (1563/1563), done.\u001b[K\n",
            "remote: Compressing objects: 100% (532/532), done.\u001b[K\n",
            "remote: Total 3969 (delta 1131), reused 1291 (delta 984), pack-reused 2406\u001b[K\n",
            "Receiving objects: 100% (3969/3969), 154.28 MiB | 14.65 MiB/s, done.\n",
            "Resolving deltas: 100% (2307/2307), done.\n"
          ]
        }
      ]
    },
    {
      "cell_type": "markdown",
      "metadata": {
        "id": "wsJg4A_s2umV"
      },
      "source": [
        "Example folder with id_prop.csv and 'POSCAR files.'"
      ]
    },
    {
      "cell_type": "code",
      "metadata": {
        "id": "cy1tmx3V2uC7",
        "colab": {
          "base_uri": "https://localhost:8080/"
        },
        "outputId": "dd2f97d5-4722-4f09-878a-b29bfd8d0f20"
      },
      "source": [
        "!ls \"alignn/examples/sample_data\""
      ],
      "execution_count": 4,
      "outputs": [
        {
          "output_type": "stream",
          "name": "stdout",
          "text": [
            "config_example.json\t  POSCAR-JVASP-64045.vasp  POSCAR-JVASP-86097.vasp\n",
            "id_prop.csv\t\t  POSCAR-JVASP-64240.vasp  POSCAR-JVASP-86205.vasp\n",
            "POSCAR-JVASP-107772.vasp  POSCAR-JVASP-64377.vasp  POSCAR-JVASP-86436.vasp\n",
            "POSCAR-JVASP-10.vasp\t  POSCAR-JVASP-64584.vasp  POSCAR-JVASP-86726.vasp\n",
            "POSCAR-JVASP-13526.vasp   POSCAR-JVASP-64664.vasp  POSCAR-JVASP-86968.vasp\n",
            "POSCAR-JVASP-1372.vasp\t  POSCAR-JVASP-64719.vasp  POSCAR-JVASP-89025.vasp\n",
            "POSCAR-JVASP-14014.vasp   POSCAR-JVASP-64906.vasp  POSCAR-JVASP-89265.vasp\n",
            "POSCAR-JVASP-14441.vasp   POSCAR-JVASP-65062.vasp  POSCAR-JVASP-90228.vasp\n",
            "POSCAR-JVASP-14873.vasp   POSCAR-JVASP-65101.vasp  POSCAR-JVASP-90532.vasp\n",
            "POSCAR-JVASP-15345.vasp   POSCAR-JVASP-655.vasp    POSCAR-JVASP-90856.vasp\n",
            "POSCAR-JVASP-1996.vasp\t  POSCAR-JVASP-676.vasp    POSCAR-JVASP-97378.vasp\n",
            "POSCAR-JVASP-21210.vasp   POSCAR-JVASP-76308.vasp  POSCAR-JVASP-97499.vasp\n",
            "POSCAR-JVASP-22556.vasp   POSCAR-JVASP-76309.vasp  POSCAR-JVASP-97570.vasp\n",
            "POSCAR-JVASP-27901.vasp   POSCAR-JVASP-76312.vasp  POSCAR-JVASP-97677.vasp\n",
            "POSCAR-JVASP-28397.vasp   POSCAR-JVASP-76313.vasp  POSCAR-JVASP-97799.vasp\n",
            "POSCAR-JVASP-28565.vasp   POSCAR-JVASP-76318.vasp  POSCAR-JVASP-97915.vasp\n",
            "POSCAR-JVASP-28634.vasp   POSCAR-JVASP-76515.vasp  POSCAR-JVASP-97984.vasp\n",
            "POSCAR-JVASP-28704.vasp   POSCAR-JVASP-76516.vasp  POSCAR-JVASP-98167.vasp\n",
            "POSCAR-JVASP-42300.vasp   POSCAR-JVASP-76525.vasp  POSCAR-JVASP-98224.vasp\n",
            "POSCAR-JVASP-48166.vasp   POSCAR-JVASP-76528.vasp  POSCAR-JVASP-98225.vasp\n",
            "POSCAR-JVASP-50332.vasp   POSCAR-JVASP-76536.vasp  POSCAR-JVASP-98284.vasp\n",
            "POSCAR-JVASP-60596.vasp   POSCAR-JVASP-76548.vasp  POSCAR-JVASP-98550.vasp\n",
            "POSCAR-JVASP-60702.vasp   POSCAR-JVASP-76549.vasp  scripts\n",
            "POSCAR-JVASP-63912.vasp   POSCAR-JVASP-76562.vasp\n",
            "POSCAR-JVASP-64003.vasp   POSCAR-JVASP-76567.vasp\n"
          ]
        }
      ]
    },
    {
      "cell_type": "markdown",
      "source": [
        "# 2. Example regression task"
      ],
      "metadata": {
        "id": "Or-6HukwJM3q"
      }
    },
    {
      "cell_type": "markdown",
      "metadata": {
        "id": "jUNiKBBV211E"
      },
      "source": [
        "# 50 materials and their bandgap data generated with the script [generate_sample_data_reg.py](https://github.com/usnistgov/alignn/blob/main/alignn/examples/sample_data/scripts/generate_sample_data_reg.py)"
      ]
    },
    {
      "cell_type": "markdown",
      "metadata": {
        "id": "FbzuGCA332yS"
      },
      "source": [
        "# Train a model for 3 epochs and batch size of 2. Other parameters are provided in `config_example.json` file."
      ]
    },
    {
      "cell_type": "markdown",
      "source": [
        "#Note: For an involved training, use higher batch size such as 16 and epochs such as 300."
      ],
      "metadata": {
        "id": "joYmjL1pStC4"
      }
    },
    {
      "cell_type": "markdown",
      "metadata": {
        "id": "HNHla4FDKRre"
      },
      "source": [
        "Command line train_folder.py is used below."
      ]
    },
    {
      "cell_type": "code",
      "metadata": {
        "id": "l5JkSMwx2cfy",
        "colab": {
          "base_uri": "https://localhost:8080/"
        },
        "outputId": "8be1b474-83b0-4bfd-f26e-e919c57eeea0"
      },
      "source": [
        "import time\n",
        "t1=time.time()\n",
        "!train_folder.py --root_dir \"alignn/examples/sample_data\" --epochs 3 --batch_size 2 --config \"alignn/examples/sample_data/config_example.json\" --output_dir=temp\n",
        "t2=time.time()\n",
        "print ('Time in s',t2-t1)"
      ],
      "execution_count": 5,
      "outputs": [
        {
          "output_type": "stream",
          "name": "stdout",
          "text": [
            "DGL backend not selected or invalid.  Assuming PyTorch for now.\n",
            "Setting the default backend to \"pytorch\". You can change it in the ~/.dgl/config.json file or export the DGLBACKEND environment variable.  Valid options are: pytorch, mxnet, tensorflow (all lowercase)\n",
            "MAX val: 6.149\n",
            "MIN val: 0.0\n",
            "MAD: 1.0520696\n",
            "Baseline MAE: 2.3805500000000004\n",
            "data range 4.907 0.0\n",
            "100% 40/40 [00:03<00:00, 11.14it/s]\n",
            "df                                                 atoms  ... target\n",
            "0   {'lattice_mat': [[3.566933224304235, 0.0, -0.0...  ...  0.000\n",
            "1   {'lattice_mat': [[4.089078911208881, 0.0, 0.0]...  ...  0.000\n",
            "2   {'lattice_mat': [[-1.833590720595598, 1.833590...  ...  0.000\n",
            "3   {'lattice_mat': [[7.2963518353359165, 0.0, 0.0...  ...  0.472\n",
            "4   {'lattice_mat': [[1.6777483798834445, -2.90594...  ...  0.000\n",
            "5   {'lattice_mat': [[4.157436115454804, -0.0, 0.0...  ...  0.000\n",
            "6   {'lattice_mat': [[0.0, 5.1858714074842, 5.1858...  ...  0.000\n",
            "7   {'lattice_mat': [[3.790914410660539, -0.0, 0.0...  ...  0.000\n",
            "8   {'lattice_mat': [[4.284492173131309, 1.636192e...  ...  0.000\n",
            "9   {'lattice_mat': [[3.2250494729190726, 2.216578...  ...  0.689\n",
            "10  {'lattice_mat': [[5.587070827330502, -0.006443...  ...  1.517\n",
            "11  {'lattice_mat': [[4.927781968323723, -0.0, 0.0...  ...  0.000\n",
            "12  {'lattice_mat': [[10.725911963093319, 1.159968...  ...  0.000\n",
            "13  {'lattice_mat': [[5.140164879556414, 0.3718366...  ...  0.000\n",
            "14  {'lattice_mat': [[5.194393535053021, 0.0345773...  ...  0.000\n",
            "15  {'lattice_mat': [[4.927229198330356, -0.0, -0....  ...  2.122\n",
            "16  {'lattice_mat': [[4.839493559425439, 9.7116505...  ...  0.000\n",
            "17  {'lattice_mat': [[-2.2512310528422197, 1.49649...  ...  0.000\n",
            "18  {'lattice_mat': [[7.709535704177289, 2.46207e-...  ...  0.000\n",
            "19  {'lattice_mat': [[3.292134155794691, 0.0, 0.0]...  ...  0.502\n",
            "20  {'lattice_mat': [[9.067075684180468, -0.0, 0.0...  ...  1.197\n",
            "21  {'lattice_mat': [[6.850665464204784, -0.0, 0.0...  ...  0.560\n",
            "22  {'lattice_mat': [[3.3542337275744103, 0.0, 0.0...  ...  0.051\n",
            "23  {'lattice_mat': [[4.509029640475962, 0.0564034...  ...  4.907\n",
            "24  {'lattice_mat': [[3.5058938597621094, -3.08124...  ...  1.681\n",
            "25  {'lattice_mat': [[4.191262576674699, 0.0, -0.0...  ...  0.016\n",
            "26  {'lattice_mat': [[0.0, -3.9587610833154616, 0....  ...  0.658\n",
            "27  {'lattice_mat': [[4.084155317570781, -1.066825...  ...  0.000\n",
            "28  {'lattice_mat': [[9.407270982425844, 0.0171637...  ...  2.472\n",
            "29  {'lattice_mat': [[3.93712543178282, 0.0, 2.273...  ...  3.851\n",
            "30  {'lattice_mat': [[-0.0127275386492899, 4.47534...  ...  0.482\n",
            "31  {'lattice_mat': [[3.5666343258756448, 0.0, 0.0...  ...  0.000\n",
            "32  {'lattice_mat': [[7.843871888963013, 0.0, 0.0]...  ...  0.924\n",
            "33  {'lattice_mat': [[5.157077730332642, 0.0020004...  ...  4.030\n",
            "34  {'lattice_mat': [[3.8114364321417686, 0.0, 0.0...  ...  0.000\n",
            "35  {'lattice_mat': [[5.464512229851642, 0.0, -2.0...  ...  0.239\n",
            "36  {'lattice_mat': [[0.0, 4.936437902689708, 4.93...  ...  0.000\n",
            "37  {'lattice_mat': [[0.0, 4.893247728183244, 4.89...  ...  0.000\n",
            "38  {'lattice_mat': [[0.0, 4.901572410735, 4.90157...  ...  0.000\n",
            "39  {'lattice_mat': [[0.0, 5.104615296684174, 5.10...  ...  0.000\n",
            "\n",
            "[40 rows x 3 columns]\n",
            "warning: could not load CGCNN features for 103\n",
            "Setting it to max atomic number available here, 103\n",
            "warning: could not load CGCNN features for 101\n",
            "Setting it to max atomic number available here, 103\n",
            "warning: could not load CGCNN features for 102\n",
            "Setting it to max atomic number available here, 103\n",
            "building line graphs\n",
            "100% 40/40 [00:00<00:00, 348.52it/s]\n",
            "data range 1.569 0.0\n",
            "100% 5/5 [00:00<00:00, 16.43it/s]\n",
            "df                                                atoms  ... target\n",
            "0  {'lattice_mat': [[-0.0, 5.040771484524319, 5.0...  ...  0.000\n",
            "1  {'lattice_mat': [[4.376835486482439, 0.0086562...  ...  0.000\n",
            "2  {'lattice_mat': [[-0.0, 5.037541505850243, 5.0...  ...  0.000\n",
            "3  {'lattice_mat': [[10.37325585559557, -2.271858...  ...  1.569\n",
            "4  {'lattice_mat': [[0.0, 5.129874508851702, 5.12...  ...  0.000\n",
            "\n",
            "[5 rows x 3 columns]\n",
            "building line graphs\n",
            "100% 5/5 [00:00<00:00, 995.09it/s]\n",
            "data range 6.149 0.0\n",
            "100% 5/5 [00:00<00:00, 29.40it/s]\n",
            "df                                                atoms  ... target\n",
            "0  {'lattice_mat': [[1.6712283e-08, -2.5080296697...  ...  6.149\n",
            "1  {'lattice_mat': [[6.603532697435508, 0.0, -0.0...  ...  4.072\n",
            "2  {'lattice_mat': [[-0.0, 4.517300851474054, 4.5...  ...  0.000\n",
            "3  {'lattice_mat': [[-0.0, 4.326757913323647, 4.3...  ...  0.000\n",
            "4  {'lattice_mat': [[6.9098665629767275, 0.128626...  ...  2.341\n",
            "\n",
            "[5 rows x 3 columns]\n",
            "building line graphs\n",
            "100% 5/5 [00:00<00:00, 838.09it/s]\n",
            "n_train: 40\n",
            "n_val: 5\n",
            "n_test: 5\n",
            "version='112bbedebdaecf59fb18e11c929080fb2f358246' dataset='user_data' target='target' atom_features='cgcnn' neighbor_strategy='k-nearest' id_tag='jid' random_seed=123 classification_threshold=None n_val=None n_test=None n_train=None train_ratio=0.8 val_ratio=0.1 test_ratio=0.1 target_multiplication_factor=None epochs=3 batch_size=2 weight_decay=1e-05 learning_rate=0.001 filename='sample' warmup_steps=2000 criterion='mse' optimizer='adamw' scheduler='onecycle' pin_memory=False save_dataloader=False write_checkpoint=True write_predictions=True store_outputs=True progress=True log_tensorboard=False standard_scalar_and_pca=False use_canonize=True num_workers=0 cutoff=8.0 max_neighbors=12 keep_data_order=True normalize_graph_level_loss=False distributed=False data_parallel=False n_early_stopping=None output_dir='temp' model=ALIGNNConfig(name='alignn', alignn_layers=4, gcn_layers=4, atom_input_features=92, edge_input_features=80, triplet_input_features=40, embedding_features=64, hidden_features=256, output_features=1, link='identity', zero_inflated=False, classification=False, num_classes=2)\n",
            "config:\n",
            "{'atom_features': 'cgcnn',\n",
            " 'batch_size': 2,\n",
            " 'classification_threshold': None,\n",
            " 'criterion': 'mse',\n",
            " 'cutoff': 8.0,\n",
            " 'data_parallel': False,\n",
            " 'dataset': 'user_data',\n",
            " 'distributed': False,\n",
            " 'epochs': 3,\n",
            " 'filename': 'sample',\n",
            " 'id_tag': 'jid',\n",
            " 'keep_data_order': True,\n",
            " 'learning_rate': 0.001,\n",
            " 'log_tensorboard': False,\n",
            " 'max_neighbors': 12,\n",
            " 'model': {'alignn_layers': 4,\n",
            "           'atom_input_features': 92,\n",
            "           'classification': False,\n",
            "           'edge_input_features': 80,\n",
            "           'embedding_features': 64,\n",
            "           'gcn_layers': 4,\n",
            "           'hidden_features': 256,\n",
            "           'link': 'identity',\n",
            "           'name': 'alignn',\n",
            "           'num_classes': 2,\n",
            "           'output_features': 1,\n",
            "           'triplet_input_features': 40,\n",
            "           'zero_inflated': False},\n",
            " 'n_early_stopping': None,\n",
            " 'n_test': None,\n",
            " 'n_train': None,\n",
            " 'n_val': None,\n",
            " 'neighbor_strategy': 'k-nearest',\n",
            " 'normalize_graph_level_loss': False,\n",
            " 'num_workers': 0,\n",
            " 'optimizer': 'adamw',\n",
            " 'output_dir': 'temp',\n",
            " 'pin_memory': False,\n",
            " 'progress': True,\n",
            " 'random_seed': 123,\n",
            " 'save_dataloader': False,\n",
            " 'scheduler': 'onecycle',\n",
            " 'standard_scalar_and_pca': False,\n",
            " 'store_outputs': True,\n",
            " 'target': 'target',\n",
            " 'target_multiplication_factor': None,\n",
            " 'test_ratio': 0.1,\n",
            " 'train_ratio': 0.8,\n",
            " 'use_canonize': True,\n",
            " 'val_ratio': 0.1,\n",
            " 'version': '112bbedebdaecf59fb18e11c929080fb2f358246',\n",
            " 'warmup_steps': 2000,\n",
            " 'weight_decay': 1e-05,\n",
            " 'write_checkpoint': True,\n",
            " 'write_predictions': True}\n",
            "/usr/local/lib/python3.10/dist-packages/torch/nn/modules/linear.py:114: UserWarning: Deterministic behavior was enabled with either `torch.use_deterministic_algorithms(True)` or `at::Context::setDeterministicAlgorithms(true)`, but this operation is not deterministic because it uses CuBLAS and you have CUDA >= 10.2. To enable deterministic behavior in this case, you must set an environment variable before running your PyTorch application: CUBLAS_WORKSPACE_CONFIG=:4096:8 or CUBLAS_WORKSPACE_CONFIG=:16:8. For more information, go to https://docs.nvidia.com/cuda/cublas/index.html#cublasApi_reproducibility (Triggered internally at ../aten/src/ATen/Context.cpp:156.)\n",
            "  return F.linear(input, self.weight, self.bias)\n",
            "/usr/local/lib/python3.10/dist-packages/torch/autograd/__init__.py:200: UserWarning: Deterministic behavior was enabled with either `torch.use_deterministic_algorithms(True)` or `at::Context::setDeterministicAlgorithms(true)`, but this operation is not deterministic because it uses CuBLAS and you have CUDA >= 10.2. To enable deterministic behavior in this case, you must set an environment variable before running your PyTorch application: CUBLAS_WORKSPACE_CONFIG=:4096:8 or CUBLAS_WORKSPACE_CONFIG=:16:8. For more information, go to https://docs.nvidia.com/cuda/cublas/index.html#cublasApi_reproducibility (Triggered internally at ../aten/src/ATen/Context.cpp:156.)\n",
            "  Variable._execution_engine.run_backward(  # Calls into the C++ engine to run the backward pass\n",
            "Val_MAE: 1.0282\n",
            "Train_MAE: 0.8347\n",
            "Val_MAE: 0.4758\n",
            "Train_MAE: 1.8375\n",
            "Val_MAE: 0.9286\n",
            "Train_MAE: 1.6457\n",
            "Test MAE: 2.507803225517273\n",
            "Time taken (s): 16.828359603881836\n",
            "Time in s 35.207831144332886\n"
          ]
        }
      ]
    },
    {
      "cell_type": "code",
      "source": [
        "!ls"
      ],
      "metadata": {
        "id": "tE8JPqIWQ10F",
        "outputId": "8b7ab7ab-43d8-458d-e613-6337b3302089",
        "colab": {
          "base_uri": "https://localhost:8080/"
        }
      },
      "execution_count": 6,
      "outputs": [
        {
          "output_type": "stream",
          "name": "stdout",
          "text": [
            "alignn\tLICENSE.rst  pyproject.toml  README.md\tsetup.py  temp\n"
          ]
        }
      ]
    },
    {
      "cell_type": "markdown",
      "source": [
        "The model produces *.pt files which are the trained models."
      ],
      "metadata": {
        "id": "WnlQxz2eRSoL"
      }
    },
    {
      "cell_type": "code",
      "source": [
        "!ls temp"
      ],
      "metadata": {
        "id": "ARFUTpZjQ9JN",
        "outputId": "2118ded2-1239-460e-e1c7-b25b62236e0a",
        "colab": {
          "base_uri": "https://localhost:8080/"
        }
      },
      "execution_count": 7,
      "outputs": [
        {
          "output_type": "stream",
          "name": "stdout",
          "text": [
            "checkpoint_2.pt\t\t mad\n",
            "checkpoint_3.pt\t\t prediction_results_test_set.csv\n",
            "config.json\t\t prediction_results_train_set.csv\n",
            "history_train.json\t test_data_data_range\n",
            "history_val.json\t train_data_data_range\n",
            "ids_train_val_test.json  val_data_data_range\n"
          ]
        }
      ]
    },
    {
      "cell_type": "markdown",
      "source": [
        "We can load a trained model above as the following:"
      ],
      "metadata": {
        "id": "5dWY2SN3SAWm"
      }
    },
    {
      "cell_type": "code",
      "source": [
        "from alignn.models.alignn import ALIGNN, ALIGNNConfig\n",
        "import torch\n",
        "output_features =  1\n",
        "filename = 'temp/checkpoint_3.pt'\n",
        "device = \"cpu\"\n",
        "if torch.cuda.is_available():\n",
        "    device = torch.device(\"cuda\")\n",
        "model = ALIGNN(ALIGNNConfig(name=\"alignn\", output_features=output_features))\n",
        "model.load_state_dict(torch.load(filename, map_location=device)[\"model\"])\n",
        "model.eval()"
      ],
      "metadata": {
        "id": "KKwVQwvCRfkD",
        "outputId": "46a7d05c-0c86-494c-efe9-13d37d848bd5",
        "colab": {
          "base_uri": "https://localhost:8080/"
        }
      },
      "execution_count": 8,
      "outputs": [
        {
          "output_type": "execute_result",
          "data": {
            "text/plain": [
              "ALIGNN(\n",
              "  (atom_embedding): MLPLayer(\n",
              "    (layer): Sequential(\n",
              "      (0): Linear(in_features=92, out_features=256, bias=True)\n",
              "      (1): BatchNorm1d(256, eps=1e-05, momentum=0.1, affine=True, track_running_stats=True)\n",
              "      (2): SiLU()\n",
              "    )\n",
              "  )\n",
              "  (edge_embedding): Sequential(\n",
              "    (0): RBFExpansion()\n",
              "    (1): MLPLayer(\n",
              "      (layer): Sequential(\n",
              "        (0): Linear(in_features=80, out_features=64, bias=True)\n",
              "        (1): BatchNorm1d(64, eps=1e-05, momentum=0.1, affine=True, track_running_stats=True)\n",
              "        (2): SiLU()\n",
              "      )\n",
              "    )\n",
              "    (2): MLPLayer(\n",
              "      (layer): Sequential(\n",
              "        (0): Linear(in_features=64, out_features=256, bias=True)\n",
              "        (1): BatchNorm1d(256, eps=1e-05, momentum=0.1, affine=True, track_running_stats=True)\n",
              "        (2): SiLU()\n",
              "      )\n",
              "    )\n",
              "  )\n",
              "  (angle_embedding): Sequential(\n",
              "    (0): RBFExpansion()\n",
              "    (1): MLPLayer(\n",
              "      (layer): Sequential(\n",
              "        (0): Linear(in_features=40, out_features=64, bias=True)\n",
              "        (1): BatchNorm1d(64, eps=1e-05, momentum=0.1, affine=True, track_running_stats=True)\n",
              "        (2): SiLU()\n",
              "      )\n",
              "    )\n",
              "    (2): MLPLayer(\n",
              "      (layer): Sequential(\n",
              "        (0): Linear(in_features=64, out_features=256, bias=True)\n",
              "        (1): BatchNorm1d(256, eps=1e-05, momentum=0.1, affine=True, track_running_stats=True)\n",
              "        (2): SiLU()\n",
              "      )\n",
              "    )\n",
              "  )\n",
              "  (alignn_layers): ModuleList(\n",
              "    (0-3): 4 x ALIGNNConv(\n",
              "      (node_update): EdgeGatedGraphConv(\n",
              "        (src_gate): Linear(in_features=256, out_features=256, bias=True)\n",
              "        (dst_gate): Linear(in_features=256, out_features=256, bias=True)\n",
              "        (edge_gate): Linear(in_features=256, out_features=256, bias=True)\n",
              "        (bn_edges): BatchNorm1d(256, eps=1e-05, momentum=0.1, affine=True, track_running_stats=True)\n",
              "        (src_update): Linear(in_features=256, out_features=256, bias=True)\n",
              "        (dst_update): Linear(in_features=256, out_features=256, bias=True)\n",
              "        (bn_nodes): BatchNorm1d(256, eps=1e-05, momentum=0.1, affine=True, track_running_stats=True)\n",
              "      )\n",
              "      (edge_update): EdgeGatedGraphConv(\n",
              "        (src_gate): Linear(in_features=256, out_features=256, bias=True)\n",
              "        (dst_gate): Linear(in_features=256, out_features=256, bias=True)\n",
              "        (edge_gate): Linear(in_features=256, out_features=256, bias=True)\n",
              "        (bn_edges): BatchNorm1d(256, eps=1e-05, momentum=0.1, affine=True, track_running_stats=True)\n",
              "        (src_update): Linear(in_features=256, out_features=256, bias=True)\n",
              "        (dst_update): Linear(in_features=256, out_features=256, bias=True)\n",
              "        (bn_nodes): BatchNorm1d(256, eps=1e-05, momentum=0.1, affine=True, track_running_stats=True)\n",
              "      )\n",
              "    )\n",
              "  )\n",
              "  (gcn_layers): ModuleList(\n",
              "    (0-3): 4 x EdgeGatedGraphConv(\n",
              "      (src_gate): Linear(in_features=256, out_features=256, bias=True)\n",
              "      (dst_gate): Linear(in_features=256, out_features=256, bias=True)\n",
              "      (edge_gate): Linear(in_features=256, out_features=256, bias=True)\n",
              "      (bn_edges): BatchNorm1d(256, eps=1e-05, momentum=0.1, affine=True, track_running_stats=True)\n",
              "      (src_update): Linear(in_features=256, out_features=256, bias=True)\n",
              "      (dst_update): Linear(in_features=256, out_features=256, bias=True)\n",
              "      (bn_nodes): BatchNorm1d(256, eps=1e-05, momentum=0.1, affine=True, track_running_stats=True)\n",
              "    )\n",
              "  )\n",
              "  (readout): AvgPooling()\n",
              "  (fc): Linear(in_features=256, out_features=1, bias=True)\n",
              ")"
            ]
          },
          "metadata": {},
          "execution_count": 8
        }
      ]
    },
    {
      "cell_type": "markdown",
      "source": [
        "Now, we can build graph for a given structure and make a prediction as follows:"
      ],
      "metadata": {
        "id": "N7cNP1YqShuO"
      }
    },
    {
      "cell_type": "code",
      "source": [
        "from jarvis.core.atoms import Atoms\n",
        "from alignn.graphs import Graph\n",
        "cutoff = 8.0\n",
        "model=model.to(device)\n",
        "max_neighbors = 12\n",
        "atoms = Atoms.from_poscar('alignn/examples/sample_data/POSCAR-JVASP-10.vasp')\n",
        "g, lg = Graph.atom_dgl_multigraph(\n",
        "    atoms, cutoff=float(cutoff), max_neighbors=max_neighbors,\n",
        ")\n",
        "out_data = (\n",
        "    model([g.to(device), lg.to(device)])\n",
        "    .detach()\n",
        "    .cpu()\n",
        "    .numpy()\n",
        "    .flatten()\n",
        "    .tolist()\n",
        ")\n",
        "print ('output', out_data[0])"
      ],
      "metadata": {
        "id": "kfr_EGHRS_aU",
        "outputId": "39c753ed-9931-4d36-fc84-b2c18fb00a75",
        "colab": {
          "base_uri": "https://localhost:8080/"
        }
      },
      "execution_count": 9,
      "outputs": [
        {
          "output_type": "stream",
          "name": "stdout",
          "text": [
            "output 3.7358312606811523\n"
          ]
        }
      ]
    },
    {
      "cell_type": "markdown",
      "source": [
        "We have already trained multiple models on several large datasets which can be used with the pretrained.py executable."
      ],
      "metadata": {
        "id": "QbzTNJ-WTgfF"
      }
    },
    {
      "cell_type": "markdown",
      "source": [
        "# 3. Using more than 70 pre-trained models to make fast predictions"
      ],
      "metadata": {
        "id": "VEx7wFGnJVkG"
      }
    },
    {
      "cell_type": "markdown",
      "metadata": {
        "id": "VOWVk7MV1hQ3"
      },
      "source": [
        "Use pretrained models such as models trained on JARVIS-DFT, QM9, Materials project, hMOF etc. databases. The models are downloaded from figshare. See the list here: https://github.com/usnistgov/alignn/blob/main/alignn/pretrained.py#L28"
      ]
    },
    {
      "cell_type": "code",
      "metadata": {
        "id": "16HHZ7TD3uRb",
        "colab": {
          "base_uri": "https://localhost:8080/"
        },
        "outputId": "23079cd5-dd79-4b81-b0f4-53c51ebce016"
      },
      "source": [
        "!pretrained.py -h"
      ],
      "execution_count": 10,
      "outputs": [
        {
          "output_type": "stream",
          "name": "stdout",
          "text": [
            "usage: pretrained.py\n",
            "       [-h]\n",
            "       [--model_name MODEL_NAME]\n",
            "       [--file_format FILE_FORMAT]\n",
            "       [--file_path FILE_PATH]\n",
            "       [--cutoff CUTOFF]\n",
            "       [--max_neighbors MAX_NEIGHBORS]\n",
            "\n",
            "Atomistic\n",
            "Line Graph\n",
            "Neural\n",
            "Network\n",
            "Pretrained\n",
            "Models\n",
            "\n",
            "options:\n",
            "  -h, --help\n",
            "    show this\n",
            "    help\n",
            "    message and\n",
            "    exit\n",
            "  --model_name MODEL_NAME\n",
            "    Choose a\n",
            "    model from\n",
            "    these 44 mo\n",
            "    dels:jv_for\n",
            "    mation_ener\n",
            "    gy_peratom_\n",
            "    alignn, jv_\n",
            "    optb88vdw_t\n",
            "    otal_energy\n",
            "    _alignn, jv\n",
            "    _optb88vdw_\n",
            "    bandgap_ali\n",
            "    gnn, jv_mbj\n",
            "    _bandgap_al\n",
            "    ignn, jv_sp\n",
            "    illage_alig\n",
            "    nn, jv_slme\n",
            "    _alignn, jv\n",
            "    _bulk_modul\n",
            "    us_kv_align\n",
            "    n, jv_shear\n",
            "    _modulus_gv\n",
            "    _alignn,\n",
            "    jv_n-Seebec\n",
            "    k_alignn,\n",
            "    jv_n-powerf\n",
            "    act_alignn,\n",
            "    jv_magmom_o\n",
            "    szicar_alig\n",
            "    nn, jv_kpoi\n",
            "    nt_length_u\n",
            "    nit_alignn,\n",
            "    jv_avg_elec\n",
            "    _mass_align\n",
            "    n, jv_avg_h\n",
            "    ole_mass_al\n",
            "    ignn, jv_ep\n",
            "    sx_alignn, \n",
            "    jv_mepsx_al\n",
            "    ignn, jv_ma\n",
            "    x_efg_align\n",
            "    n, jv_ehull\n",
            "    _alignn, jv\n",
            "    _dfpt_piezo\n",
            "    _max_dielec\n",
            "    tric_alignn\n",
            "    , jv_dfpt_p\n",
            "    iezo_max_di\n",
            "    j_alignn, j\n",
            "    v_exfoliati\n",
            "    on_energy_a\n",
            "    lignn, jv_s\n",
            "    upercon_tc_\n",
            "    alignn, jv_\n",
            "    supercon_ed\n",
            "    os_alignn, \n",
            "    jv_supercon\n",
            "    _debye_alig\n",
            "    nn, jv_supe\n",
            "    rcon_a2F_al\n",
            "    ignn, mp_e_\n",
            "    form_alignn\n",
            "    , mp_gappbe\n",
            "    _alignn, qm\n",
            "    9_U0_alignn\n",
            "    , qm9_U_ali\n",
            "    gnn, qm9_al\n",
            "    pha_alignn,\n",
            "    qm9_gap_ali\n",
            "    gnn, qm9_G_\n",
            "    alignn, qm9\n",
            "    _HOMO_align\n",
            "    n, qm9_LUMO\n",
            "    _alignn, qm\n",
            "    9_ZPVE_alig\n",
            "    nn, hmof_co\n",
            "    2_absp_alig\n",
            "    nn, hmof_ma\n",
            "    x_co2_adsp_\n",
            "    alignn, hmo\n",
            "    f_surface_a\n",
            "    rea_m2g_ali\n",
            "    gnn, hmof_s\n",
            "    urface_area\n",
            "    _m2cm3_alig\n",
            "    nn, hmof_pl\n",
            "    d_alignn, h\n",
            "    mof_lcd_ali\n",
            "    gnn, hmof_v\n",
            "    oid_fractio\n",
            "    n_alignn, o\n",
            "    cp2020_all,\n",
            "    jv_pdos_ali\n",
            "    gnn\n",
            "  --file_format FILE_FORMAT\n",
            "    poscar/cif/\n",
            "    xyz/pdb\n",
            "    file\n",
            "    format.\n",
            "  --file_path FILE_PATH\n",
            "    Path to\n",
            "    file.\n",
            "  --cutoff CUTOFF\n",
            "    Distance\n",
            "    cut-off for\n",
            "    graph const\n",
            "    uction,\n",
            "    usually 8\n",
            "    for solids\n",
            "    and 5 for\n",
            "    molecules.\n",
            "  --max_neighbors MAX_NEIGHBORS\n",
            "    Maximum\n",
            "    number of\n",
            "    nearest\n",
            "    neighbors\n",
            "    in the\n",
            "    periodic\n",
            "    atomistic\n",
            "    graph const\n",
            "    ruction.\n"
          ]
        }
      ]
    },
    {
      "cell_type": "code",
      "metadata": {
        "id": "_bIT4hL71wmA",
        "colab": {
          "base_uri": "https://localhost:8080/"
        },
        "outputId": "b3e22af7-b9b1-4ad1-b128-aa131ee5848f"
      },
      "source": [
        "!pretrained.py --model_name jv_formation_energy_peratom_alignn --file_format poscar --file_path alignn/examples/sample_data/POSCAR-JVASP-10.vasp"
      ],
      "execution_count": 11,
      "outputs": [
        {
          "output_type": "stream",
          "name": "stdout",
          "text": [
            "100% 47.5M/47.5M [00:03<00:00, 11.9MiB/s]\n",
            "Using chk file jv_formation_energy_peratom_alignn/checkpoint_300.pt from  ['jv_formation_energy_peratom_alignn/checkpoint_300.pt']\n",
            "Path /usr/local/bin/jv_formation_energy_peratom_alignn.zip\n",
            "Config /content/alignn/jv_formation_energy_peratom_alignn/config.json\n",
            "Predicted value: jv_formation_energy_peratom_alignn alignn/examples/sample_data/POSCAR-JVASP-10.vasp [-0.7033944725990295]\n"
          ]
        }
      ]
    },
    {
      "cell_type": "markdown",
      "source": [
        "#  4. ALIGNN-FF Ase Calculator: predict energy/forces, optimized strcture, EV curves and phonons\n"
      ],
      "metadata": {
        "id": "wswM4wp8Tnx8"
      }
    },
    {
      "cell_type": "markdown",
      "source": [
        "ASE Calculator wrapper for ALIGNN-FF"
      ],
      "metadata": {
        "id": "BRWB7wUKuXhj"
      }
    },
    {
      "cell_type": "code",
      "source": [
        "from alignn.ff.ff import AlignnAtomwiseCalculator,default_path,wt10_path\n",
        "model_path = wt10_path() #default_path()\n",
        "calc = AlignnAtomwiseCalculator(path=model_path)"
      ],
      "metadata": {
        "id": "58Oq0SjvuUOh",
        "outputId": "9c18e1cd-9920-4835-aac0-d54740c9ae07",
        "colab": {
          "base_uri": "https://localhost:8080/"
        }
      },
      "execution_count": 12,
      "outputs": [
        {
          "output_type": "stream",
          "name": "stdout",
          "text": [
            "dir_path /content/alignn/alignn/ff/alignnff_wt10\n"
          ]
        },
        {
          "output_type": "stream",
          "name": "stderr",
          "text": [
            "100%|██████████| 15.0M/15.0M [00:01<00:00, 8.78MiB/s]\n"
          ]
        },
        {
          "output_type": "stream",
          "name": "stdout",
          "text": [
            "model_path /content/alignn/alignn/ff/alignnff_wt10\n"
          ]
        }
      ]
    },
    {
      "cell_type": "code",
      "source": [
        "from ase import Atom, Atoms\n",
        "import numpy as np\n",
        "import matplotlib.pyplot as plt\n",
        "\n",
        "lattice_params = np.linspace(3.5, 3.8)\n",
        "fcc_energies = []\n",
        "ready = True\n",
        "for a in lattice_params:\n",
        "    atoms = Atoms([Atom('Cu', (0, 0, 0))],\n",
        "                  cell=0.5 * a * np.array([[1.0, 1.0, 0.0],\n",
        "                                           [0.0, 1.0, 1.0],\n",
        "                                           [1.0, 0.0, 1.0]]),\n",
        "                 pbc=True)\n",
        "\n",
        "    atoms.set_tags(np.ones(len(atoms)))\n",
        "\n",
        "    atoms.calc = calc\n",
        "\n",
        "    e = atoms.get_potential_energy()\n",
        "    fcc_energies.append(e)"
      ],
      "metadata": {
        "id": "m5ZHUJCHuc8v"
      },
      "execution_count": 13,
      "outputs": []
    },
    {
      "cell_type": "markdown",
      "source": [
        "Check if EV curves are smooth"
      ],
      "metadata": {
        "id": "xFdouqfP7vP1"
      }
    },
    {
      "cell_type": "code",
      "source": [
        "#Reference: https://gist.github.com/jkitchin/e8ab20750b1d516cb8761f519f2c53d5\n",
        "import matplotlib.pyplot as plt\n",
        "%matplotlib inline\n",
        "plt.plot(lattice_params, fcc_energies)\n",
        "plt.title('1x1x1')\n",
        "plt.xlabel('Lattice constant ($\\AA$)')\n",
        "plt.ylabel('Total energy (eV)')\n",
        "plt.show()"
      ],
      "metadata": {
        "id": "6KLHCj7Aujmt",
        "outputId": "53779ed7-5d1b-40f7-e57a-f108df47a8aa",
        "colab": {
          "base_uri": "https://localhost:8080/",
          "height": 476
        }
      },
      "execution_count": 14,
      "outputs": [
        {
          "output_type": "display_data",
          "data": {
            "text/plain": [
              "<Figure size 640x480 with 1 Axes>"
            ],
            "image/png": "[encoded data removed]"
          },
          "metadata": {}
        }
      ]
    },
    {
      "cell_type": "code",
      "source": [
        "from ase import data\n",
        "for metal in ['Cu', 'Ag', 'Au', 'Ni', 'Pd', 'Pt', 'Rh', 'Ir']:\n",
        "    a = data.reference_states[data.atomic_numbers[metal]]['a']\n",
        "    LC = np.linspace(0.9 * a, 1.1 * a)\n",
        "    vols, energies = [], []\n",
        "    for a in LC:\n",
        "        atoms = Atoms([Atom(metal, (0, 0, 0))],\n",
        "                      cell=0.5 * a * np.array([[1.0, 1.0, 0.0],\n",
        "                                               [0.0, 1.0, 1.0],\n",
        "                                               [1.0, 0.0, 1.0]]),\n",
        "                     pbc=True)\n",
        "\n",
        "        atoms.set_tags(np.ones(len(atoms)))\n",
        "\n",
        "        atoms.calc = calc\n",
        "\n",
        "        e = atoms.get_potential_energy()\n",
        "        vols += [atoms.get_volume()]\n",
        "        energies.append(e)\n",
        "    plt.figure()\n",
        "    plt.plot(vols, energies)\n",
        "    plt.title(metal)\n",
        "    plt.xlabel('volume ($\\AA^3$)')\n",
        "    plt.ylabel('Total energy (eV)');"
      ],
      "metadata": {
        "id": "-yr4pevO7Ixe",
        "outputId": "def27ef4-7b57-4a68-96ea-fc4de81a1ce9",
        "colab": {
          "base_uri": "https://localhost:8080/",
          "height": 1000
        }
      },
      "execution_count": 15,
      "outputs": [
        {
          "output_type": "display_data",
          "data": {
            "text/plain": [
              "<Figure size 640x480 with 1 Axes>"
            ],
            "image/png": "[encoded data removed]"
          },
          "metadata": {}
        },
        {
          "output_type": "display_data",
          "data": {
            "text/plain": [
              "<Figure size 640x480 with 1 Axes>"
            ],
            "image/png": "[encoded data removed]"
          },
          "metadata": {}
        },
        {
          "output_type": "display_data",
          "data": {
            "text/plain": [
              "<Figure size 640x480 with 1 Axes>"
            ],
            "image/png": "[encoded data removed]"
          },
          "metadata": {}
        },
        {
          "output_type": "display_data",
          "data": {
            "text/plain": [
              "<Figure size 640x480 with 1 Axes>"
            ],
            "image/png": "[encoded data removed]"
          },
          "metadata": {}
        },
        {
          "output_type": "display_data",
          "data": {
            "text/plain": [
              "<Figure size 640x480 with 1 Axes>"
            ],
            "image/png": "[encoded data removed]"
          },
          "metadata": {}
        },
        {
          "output_type": "display_data",
          "data": {
            "text/plain": [
              "<Figure size 640x480 with 1 Axes>"
            ],
            "image/png": "[encoded data removed]"
          },
          "metadata": {}
        },
        {
          "output_type": "display_data",
          "data": {
            "text/plain": [
              "<Figure size 640x480 with 1 Axes>"
            ],
            "image/png": "[encoded data removed]"
          },
          "metadata": {}
        },
        {
          "output_type": "display_data",
          "data": {
            "text/plain": [
              "<Figure size 640x480 with 1 Axes>"
            ],
            "image/png": "[encoded data removed]"
          },
          "metadata": {}
        }
      ]
    },
    {
      "cell_type": "markdown",
      "source": [
        "Using ALIGNN-FF pretrained model to get unrelaxed energy and relaxed structure"
      ],
      "metadata": {
        "id": "yMhz-GpH2hfJ"
      }
    },
    {
      "cell_type": "markdown",
      "source": [
        "Check phonons"
      ],
      "metadata": {
        "id": "afP4h4rrHVXI"
      }
    },
    {
      "cell_type": "code",
      "source": [
        "pip install -q phonopy"
      ],
      "metadata": {
        "id": "U-S3KhIWIVND",
        "outputId": "ed37300c-7cad-48a1-fa7a-b8590b87309b",
        "colab": {
          "base_uri": "https://localhost:8080/"
        }
      },
      "execution_count": 39,
      "outputs": [
        {
          "output_type": "stream",
          "name": "stdout",
          "text": [
            "  Installing build dependencies ... \u001b[?25l\u001b[?25hdone\n",
            "  Getting requirements to build wheel ... \u001b[?25l\u001b[?25hdone\n",
            "  Preparing metadata (pyproject.toml) ... \u001b[?25l\u001b[?25hdone\n",
            "  Building wheel for phonopy (pyproject.toml) ... \u001b[?25l\u001b[?25hdone\n"
          ]
        }
      ]
    },
    {
      "cell_type": "code",
      "source": [
        "%%time\n",
        "from alignn.ff.ff import phonons\n",
        "from alignn.ff.ff import AlignnAtomwiseCalculator,default_path,wt10_path,alignnff_fmult,fd_path,ForceField\n",
        "from jarvis.core.atoms import ase_to_atoms\n",
        "from ase import Atom, Atoms as AseAtoms\n",
        "a = 3.597\n",
        "atoms = AseAtoms([Atom('Cu', (0, 0, 0))],\n",
        "              cell=0.5 * a * np.array([[1.0, 1.0, 0.0],\n",
        "                                        [0.0, 1.0, 1.0],\n",
        "                                        [1.0, 0.0, 1.0]]),\n",
        "              pbc=True)\n",
        "ph_path=fd_path()\n",
        "ph=phonons(model_path=ph_path, phonopy_bands_figname=\"phonopy_bands.png\", atoms=ase_to_atoms(atoms))\n",
        "%matplotlib inline\n",
        "plt.axis('off')\n",
        "plt.imshow(plt.imread(\"phonopy_bands.png\"))\n",
        "plt.show()"
      ],
      "metadata": {
        "id": "ROFpeLTLHTgN",
        "outputId": "696c55bc-7689-458e-a47e-2efe2c191a30",
        "colab": {
          "base_uri": "https://localhost:8080/",
          "height": 321
        }
      },
      "execution_count": 40,
      "outputs": [
        {
          "output_type": "stream",
          "name": "stdout",
          "text": [
            "dir_path /content/alignn/alignn/ff/alignnff_fd\n",
            "model_path /content/alignn/alignn/ff/alignnff_fd\n"
          ]
        },
        {
          "output_type": "display_data",
          "data": {
            "text/plain": [
              "<Figure size 640x480 with 1 Axes>"
            ],
            "image/png": "[encoded data removed]"
          },
          "metadata": {}
        }
      ]
    },
    {
      "cell_type": "code",
      "source": [
        "!run_alignn_ff.py --file_path alignn/examples/sample_data/POSCAR-JVASP-10.vasp --task=\"unrelaxed_energy\""
      ],
      "metadata": {
        "id": "6X67E61h2kge",
        "outputId": "897ee152-9834-4458-b85d-b09ee567d965",
        "colab": {
          "base_uri": "https://localhost:8080/"
        }
      },
      "execution_count": 16,
      "outputs": [
        {
          "output_type": "stream",
          "name": "stdout",
          "text": [
            "dir_path /usr/local/lib/python3.10/dist-packages/alignn/ff/alignnff_fmult\n",
            "100% 10.1M/10.1M [00:01<00:00, 7.07MiB/s]\n",
            "model_path /usr/local/lib/python3.10/dist-packages/alignn/ff/alignnff_fmult\n",
            "Energy(eV) (-11.688049077987671, array([[ 2.7939677e-09,  2.5145710e-08,  5.0291419e-08],\n",
            "       [ 3.7252903e-09,  7.0314854e-08,  6.5683164e-03],\n",
            "       [-4.1909516e-09, -7.3807314e-08, -6.5683722e-03]], dtype=float32))\n"
          ]
        }
      ]
    },
    {
      "cell_type": "code",
      "source": [
        "!run_alignn_ff.py --file_path alignn/examples/sample_data/POSCAR-JVASP-10.vasp --task=\"optimize\""
      ],
      "metadata": {
        "id": "sGiXomqD21eE",
        "outputId": "8ff862ee-eca5-4500-a554-4d77a79f3834",
        "colab": {
          "base_uri": "https://localhost:8080/"
        }
      },
      "execution_count": 17,
      "outputs": [
        {
          "output_type": "stream",
          "name": "stdout",
          "text": [
            "dir_path /usr/local/lib/python3.10/dist-packages/alignn/ff/alignnff_fmult\n",
            "model_path /usr/local/lib/python3.10/dist-packages/alignn/ff/alignnff_fmult\n",
            "OPTIMIZATION\n",
            "a= 1.678 Ang b= 2.906 Ang c= 6.221 Ang Volume= 60.658 amu/a3 PE=-11.68805 eV KE= 0.00000 eV T= 0.000 K \n",
            "a= 1.684 Ang b= 2.917 Ang c= 6.237 Ang Volume= 61.275 amu/a3 PE=-11.69072 eV KE= 0.00000 eV T= 0.000 K \n",
            "initial struct:\n",
            "VSe2\n",
            "1.0\n",
            "1.6777483798834445 -2.9059452409270157 -1.1e-15\n",
            "1.6777483798834438 2.9059452409270126 -7e-16\n",
            "-6.5e-15 -8e-16 6.220805465667012\n",
            "V Se\n",
            "1 2\n",
            "Cartesian\n",
            "0.0 0.0 0.0\n",
            "1.67775 -0.9686519372999812 4.6529213966213625\n",
            "1.67775 0.9686519372999813 1.5678886033786343\n",
            "\n",
            "final struct:\n",
            "VSe2\n",
            "1.0\n",
            "1.6840115504389588 -2.916793199150111 1.0814981162131699e-07\n",
            "1.6840115478311415 2.916793197644484 -1.1148343199253782e-07\n",
            "-6.180251681127945e-09 -2.3508627592741866e-07 6.237406461549268\n",
            "V Se\n",
            "1 2\n",
            "Cartesian\n",
            "2.8043977681794246e-11 2.5239577099270287e-10 5.042562700538078e-10\n",
            "1.6840131711490116 -0.9722681121622446 4.665404191544288\n",
            "1.684013173265327 0.9722678755351182 1.5720068125444921\n",
            "\n"
          ]
        }
      ]
    },
    {
      "cell_type": "code",
      "source": [
        "!run_alignn_ff.py --file_path alignn/examples/sample_data/POSCAR-JVASP-10.vasp --task=\"ev_curve\""
      ],
      "metadata": {
        "id": "lSkc-nuZ3jWw",
        "outputId": "22545592-7a44-4d2a-ae37-ee7dc6c32707",
        "colab": {
          "base_uri": "https://localhost:8080/"
        }
      },
      "execution_count": 18,
      "outputs": [
        {
          "output_type": "stream",
          "name": "stdout",
          "text": [
            "dir_path /usr/local/lib/python3.10/dist-packages/alignn/ff/alignnff_fmult\n",
            "model_path /usr/local/lib/python3.10/dist-packages/alignn/ff/alignnff_fmult\n",
            "E [-11.49867153 -11.58296728 -11.64178276 -11.67460728 -11.68170691\n",
            " -11.68804908 -11.68475461 -11.67712784 -11.68052387 -11.64295506]\n",
            "V [52.00698610745743, 53.66666028373519, 55.3612736919685, 57.09119028249023, 58.85677400563329, 60.6583888117305, 62.496398651114745, 64.3711674741189, 66.28305923107584, 68.23243787231843]\n",
            "terminate called without an active exception\n",
            "\n",
            "LIBXSMM_VERSION: main-1.17-3659 (25693771)\n",
            "LIBXSMM_TARGET: hsw [Intel(R) Xeon(R) CPU @ 2.20GHz]\n",
            "Registry and code: 13 MB\n",
            "Command: /usr/bin/python3 /usr/local/bin/run_alignn_ff.py --file_path alignn/examples/sample_data/POSCAR-JVASP-10.vasp --task=ev_curve \n",
            "Uptime: 3.971156 s\n"
          ]
        }
      ]
    },
    {
      "cell_type": "markdown",
      "source": [
        "# 5. Train ALIGNN-FF on a new dataset"
      ],
      "metadata": {
        "id": "1EJ8-7dk3rva"
      }
    },
    {
      "cell_type": "markdown",
      "source": [
        "For a detailed example, check outthis notebook: https://colab.research.google.com/github/knc6/jarvis-tools-notebooks/blob/master/jarvis-tools-notebooks/Train_ALIGNNFF_Mlearn.ipynb"
      ],
      "metadata": {
        "id": "UzTqCPBAIf1c"
      }
    },
    {
      "cell_type": "code",
      "source": [
        "!train_folder_ff.py --root_dir \"alignn/examples/sample_data_ff\" --config \"alignn/examples/sample_data_ff/config_example_atomwise.json\" --output_dir=temp"
      ],
      "metadata": {
        "id": "-_gLKbTf3uk7",
        "outputId": "732f2d32-5d63-45e4-9195-672c671398bb",
        "colab": {
          "base_uri": "https://localhost:8080/"
        }
      },
      "execution_count": 19,
      "outputs": [
        {
          "output_type": "stream",
          "name": "stdout",
          "text": [
            "len dataset 50\n",
            "MAX val: -24.52653862\n",
            "MIN val: -42.04135008\n",
            "MAD: 7.884625411000001\n",
            "Baseline MAE: 11.991239256250003\n",
            "data range -24.52653862 -42.04135008\n",
            "100% 40/40 [00:00<00:00, 57.72it/s]\n",
            "df        target  ...    jid\n",
            "0  -29.313096  ...  15607\n",
            "1  -29.312862  ...  15607\n",
            "2  -29.312159  ...  15607\n",
            "3  -29.312429  ...  15607\n",
            "4  -29.312428  ...  15607\n",
            "5  -29.312791  ...  15607\n",
            "6  -29.311952  ...  15607\n",
            "7  -29.311899  ...  15607\n",
            "8  -29.312800  ...  15607\n",
            "9  -42.041350  ...  15608\n",
            "10 -42.002227  ...  15608\n",
            "11 -42.016896  ...  15608\n",
            "12 -42.002229  ...  15608\n",
            "13 -42.016896  ...  15608\n",
            "14 -42.019225  ...  15608\n",
            "15 -42.032726  ...  15608\n",
            "16 -42.029257  ...  15608\n",
            "17 -42.029256  ...  15608\n",
            "18 -42.030165  ...  15608\n",
            "19 -42.030166  ...  15608\n",
            "20 -42.030172  ...  15608\n",
            "21 -42.030172  ...  15608\n",
            "22 -42.040889  ...  15608\n",
            "23 -42.040889  ...  15608\n",
            "24 -42.040710  ...  15608\n",
            "25 -42.040710  ...  15608\n",
            "26 -42.039555  ...  15608\n",
            "27 -42.039553  ...  15608\n",
            "28 -42.040184  ...  15608\n",
            "29 -42.040186  ...  15608\n",
            "30 -42.039996  ...  15608\n",
            "31 -42.039996  ...  15608\n",
            "32 -42.038933  ...  15608\n",
            "33 -42.041135  ...  15608\n",
            "34 -24.558797  ...  15609\n",
            "35 -24.544741  ...  15609\n",
            "36 -24.527151  ...  15609\n",
            "37 -24.544738  ...  15609\n",
            "38 -24.527154  ...  15609\n",
            "39 -24.526539  ...  15609\n",
            "\n",
            "[40 rows x 5 columns]\n",
            "warning: could not load CGCNN features for 103\n",
            "Setting it to max atomic number available here, 103\n",
            "warning: could not load CGCNN features for 101\n",
            "Setting it to max atomic number available here, 103\n",
            "warning: could not load CGCNN features for 102\n",
            "Setting it to max atomic number available here, 103\n",
            "building line graphs\n",
            "100% 40/40 [00:00<00:00, 1208.29it/s]\n",
            "data range -24.54448655 -24.55207943\n",
            "100% 5/5 [00:00<00:00, 78.17it/s]\n",
            "df       target  ...    jid\n",
            "0 -24.544487  ...  15609\n",
            "1 -24.552075  ...  15609\n",
            "2 -24.552079  ...  15609\n",
            "3 -24.549425  ...  15609\n",
            "4 -24.549425  ...  15609\n",
            "\n",
            "[5 rows x 5 columns]\n",
            "building line graphs\n",
            "100% 5/5 [00:00<00:00, 878.76it/s]\n",
            "data range -24.54929028 -24.5582018\n",
            "100% 5/5 [00:00<00:00, 75.03it/s]\n",
            "df       target  ...    jid\n",
            "0 -24.549292  ...  15609\n",
            "1 -24.549290  ...  15609\n",
            "2 -24.558198  ...  15609\n",
            "3 -24.558198  ...  15609\n",
            "4 -24.558202  ...  15609\n",
            "\n",
            "[5 rows x 5 columns]\n",
            "building line graphs\n",
            "100% 5/5 [00:00<00:00, 769.26it/s]\n",
            "n_train: 40\n",
            "n_val: 5\n",
            "n_test: 5\n",
            "version='112bbedebdaecf59fb18e11c929080fb2f358246' dataset='user_data' target='target' atom_features='cgcnn' neighbor_strategy='k-nearest' id_tag='jid' random_seed=123 classification_threshold=None n_val=None n_test=None n_train=None train_ratio=0.8 val_ratio=0.1 test_ratio=0.1 target_multiplication_factor=None epochs=3 batch_size=2 weight_decay=1e-05 learning_rate=0.001 filename='sample' warmup_steps=2000 criterion='l1' optimizer='adamw' scheduler='onecycle' pin_memory=False save_dataloader=False write_checkpoint=True write_predictions=True store_outputs=False progress=True log_tensorboard=False standard_scalar_and_pca=False use_canonize=False num_workers=0 cutoff=8.0 max_neighbors=12 keep_data_order=True normalize_graph_level_loss=False distributed=True data_parallel=False n_early_stopping=None output_dir='temp' model=ALIGNNAtomWiseConfig(name='alignn_atomwise', alignn_layers=4, gcn_layers=4, atom_input_features=92, edge_input_features=80, triplet_input_features=40, embedding_features=64, hidden_features=256, output_features=1, grad_multiplier=-1, calculate_gradient=True, atomwise_output_features=0, graphwise_weight=0.85, gradwise_weight=0.05, stresswise_weight=0.05, atomwise_weight=0.0, link='identity', zero_inflated=False, classification=False, force_mult_natoms=False, energy_mult_natoms=False, include_pos_deriv=False, use_cutoff_function=False, inner_cutoff=6.0, stress_multiplier=1.0, add_reverse_forces=False, batch_stress=True)\n",
            "config:\n",
            "{'atom_features': 'cgcnn',\n",
            " 'batch_size': 2,\n",
            " 'classification_threshold': None,\n",
            " 'criterion': 'l1',\n",
            " 'cutoff': 8.0,\n",
            " 'data_parallel': False,\n",
            " 'dataset': 'user_data',\n",
            " 'distributed': True,\n",
            " 'epochs': 3,\n",
            " 'filename': 'sample',\n",
            " 'id_tag': 'jid',\n",
            " 'keep_data_order': True,\n",
            " 'learning_rate': 0.001,\n",
            " 'log_tensorboard': False,\n",
            " 'max_neighbors': 12,\n",
            " 'model': {'add_reverse_forces': False,\n",
            "           'alignn_layers': 4,\n",
            "           'atom_input_features': 92,\n",
            "           'atomwise_output_features': 0,\n",
            "           'atomwise_weight': 0.0,\n",
            "           'batch_stress': True,\n",
            "           'calculate_gradient': True,\n",
            "           'classification': False,\n",
            "           'edge_input_features': 80,\n",
            "           'embedding_features': 64,\n",
            "           'energy_mult_natoms': False,\n",
            "           'force_mult_natoms': False,\n",
            "           'gcn_layers': 4,\n",
            "           'grad_multiplier': -1,\n",
            "           'gradwise_weight': 0.05,\n",
            "           'graphwise_weight': 0.85,\n",
            "           'hidden_features': 256,\n",
            "           'include_pos_deriv': False,\n",
            "           'inner_cutoff': 6.0,\n",
            "           'link': 'identity',\n",
            "           'name': 'alignn_atomwise',\n",
            "           'output_features': 1,\n",
            "           'stress_multiplier': 1.0,\n",
            "           'stresswise_weight': 0.05,\n",
            "           'triplet_input_features': 40,\n",
            "           'use_cutoff_function': False,\n",
            "           'zero_inflated': False},\n",
            " 'n_early_stopping': None,\n",
            " 'n_test': None,\n",
            " 'n_train': None,\n",
            " 'n_val': None,\n",
            " 'neighbor_strategy': 'k-nearest',\n",
            " 'normalize_graph_level_loss': False,\n",
            " 'num_workers': 0,\n",
            " 'optimizer': 'adamw',\n",
            " 'output_dir': 'temp',\n",
            " 'pin_memory': False,\n",
            " 'progress': True,\n",
            " 'random_seed': 123,\n",
            " 'save_dataloader': False,\n",
            " 'scheduler': 'onecycle',\n",
            " 'standard_scalar_and_pca': False,\n",
            " 'store_outputs': False,\n",
            " 'target': 'target',\n",
            " 'target_multiplication_factor': None,\n",
            " 'test_ratio': 0.1,\n",
            " 'train_ratio': 0.8,\n",
            " 'use_canonize': False,\n",
            " 'val_ratio': 0.1,\n",
            " 'version': '112bbedebdaecf59fb18e11c929080fb2f358246',\n",
            " 'warmup_steps': 2000,\n",
            " 'weight_decay': 1e-05,\n",
            " 'write_checkpoint': True,\n",
            " 'write_predictions': True}\n",
            "Using Accelerator, currently experimental, use at your own risk.\n",
            "2023-07-26 02:36:32.858952: I tensorflow/core/platform/cpu_feature_guard.cc:182] This TensorFlow binary is optimized to use available CPU instructions in performance-critical operations.\n",
            "To enable the following instructions: AVX2 FMA, in other operations, rebuild TensorFlow with the appropriate compiler flags.\n",
            "2023-07-26 02:36:33.720245: W tensorflow/compiler/tf2tensorrt/utils/py_utils.cc:38] TF-TRT Warning: Could not find TensorRT\n",
            "Using Accelerator device cuda\n",
            "TrainLoss Epoch 0 total 140.17501783370972 out 8.085291256010532 atom nan grad 0.016666958334027177 stress 2.70839435660671\n",
            "Saving data for epoch: 0\n",
            "ValLoss Epoch 0 total 17.595269203186035 out 10.158856868743896 atom nan grad 0.010701990314686329 stress 3.2414251000510363\n",
            "TrainLoss Epoch 1 total 50.18238401412964 out 2.794424819946289 atom nan grad 0.016950831400133096 stress 2.6602097301267627\n",
            "Saving data for epoch: 1\n",
            "ValLoss Epoch 1 total 9.419926166534424 out 5.348299026489258 atom nan grad 0.011327162866291474 stress 3.266847177082672\n",
            "TrainLoss Epoch 2 total 16.7517349421978 out 0.8285558223724365 atom nan grad 0.017083871516913155 stress 2.649201668739761\n",
            "Saving data for epoch: 2\n",
            "ValLoss Epoch 2 total 1.164900541305542 out 0.4922361373901367 atom nan grad 0.010745721304455932 stress 3.270245441878015\n",
            "/usr/local/lib/python3.10/dist-packages/torch/nn/modules/loss.py:101: UserWarning: Using a target size (torch.Size([1])) that is different to the input size (torch.Size([])). This will likely lead to incorrect results due to broadcasting. Please ensure they have the same size.\n",
            "  return F.l1_loss(input, target, reduction=self.reduction)\n",
            "TestLoss 2 2.624993145465851\n",
            "Time taken (s) 11.308957815170288\n"
          ]
        }
      ]
    },
    {
      "cell_type": "markdown",
      "source": [
        "The generated model is saved as best_model.pt"
      ],
      "metadata": {
        "id": "M-6U-D-V40lQ"
      }
    },
    {
      "cell_type": "code",
      "source": [
        "!ls -altr temp"
      ],
      "metadata": {
        "id": "qvgrKa9q4oBu",
        "outputId": "d8877445-9118-42e4-e8cc-f7aa896df722",
        "colab": {
          "base_uri": "https://localhost:8080/"
        }
      },
      "execution_count": 20,
      "outputs": [
        {
          "output_type": "stream",
          "name": "stdout",
          "text": [
            "total 111116\n",
            "-rw-r--r-- 1 root root 48661045 Jul 26 02:35 checkpoint_2.pt\n",
            "-rw-r--r-- 1 root root 48660981 Jul 26 02:35 checkpoint_3.pt\n",
            "-rw-r--r-- 1 root root      243 Jul 26 02:35 prediction_results_test_set.csv\n",
            "-rw-r--r-- 1 root root     1248 Jul 26 02:35 prediction_results_train_set.csv\n",
            "drwxr-xr-x 6 root root     4096 Jul 26 02:36 ..\n",
            "-rw-r--r-- 1 root root      489 Jul 26 02:36 ids_train_val_test.json\n",
            "-rw-r--r-- 1 root root       68 Jul 26 02:36 mad\n",
            "-rw-r--r-- 1 root root       34 Jul 26 02:36 train_data_data_range\n",
            "-rw-r--r-- 1 root root       34 Jul 26 02:36 val_data_data_range\n",
            "-rw-r--r-- 1 root root       33 Jul 26 02:36 test_data_data_range\n",
            "-rw-r--r-- 1 root root     2087 Jul 26 02:36 config.json\n",
            "-rw-r--r-- 1 root root      202 Jul 26 02:36 history_train.json\n",
            "-rw-r--r-- 1 root root 16177223 Jul 26 02:36 best_model.pt\n",
            "-rw-r--r-- 1 root root   178483 Jul 26 02:36 Train_results.json\n",
            "-rw-r--r-- 1 root root    17918 Jul 26 02:36 Val_results.json\n",
            "-rw-r--r-- 1 root root      204 Jul 26 02:36 history_val.json\n",
            "drwxr-xr-x 2 root root     4096 Jul 26 02:36 .\n",
            "-rw-r--r-- 1 root root    22193 Jul 26 02:36 Test_results.json\n"
          ]
        }
      ]
    },
    {
      "cell_type": "markdown",
      "source": [
        "# 6. Additional examples:Training [JARVIS-DFT](https://jarvis.nist.gov/jarvisdft) 2D exfoliation energy model, training [QM9](http://quantum-machine.org/datasets/) U0 model"
      ],
      "metadata": {
        "id": "Qc2OOxiKKTxG"
      }
    },
    {
      "cell_type": "markdown",
      "source": [
        "#Train a model for JARVIS-DFT 2D Exfoliation energy"
      ],
      "metadata": {
        "id": "kC8yi5z7Sh3G"
      }
    },
    {
      "cell_type": "markdown",
      "source": [
        "There are quite a few datasets available here:https://jarvis-tools.readthedocs.io/en/master/databases.html\n",
        "In the following example, we will use the JARVIS-DFT 2D dataset"
      ],
      "metadata": {
        "id": "01bLUnEF4anq"
      }
    },
    {
      "cell_type": "markdown",
      "source": [
        "Get data in id_prop.csv format"
      ],
      "metadata": {
        "id": "6e0uz_WaUmbE"
      }
    },
    {
      "cell_type": "code",
      "source": [
        "from jarvis.db.figshare import data as jdata\n",
        "from jarvis.core.atoms import Atoms\n",
        "import os\n",
        "\n",
        "cwd = os.getcwd() #current working directory\n",
        "temp_dir_name = \"DataDir_ExfoEnergy\"\n",
        "os.makedirs(temp_dir_name)\n",
        "os.chdir(temp_dir_name)\n",
        "\n",
        "dft_3d = jdata(\"dft_3d\")\n",
        "prop = \"exfoliation_energy\" #\"optb88vdw_bandgap\"\n",
        "f = open(\"id_prop.csv\", \"w\")\n",
        "# count = 0\n",
        "for i in dft_3d:\n",
        "    atoms = Atoms.from_dict(i[\"atoms\"])\n",
        "    jid = i[\"jid\"]\n",
        "    poscar_name = \"POSCAR-\" + jid + \".vasp\"\n",
        "    target = i[prop]\n",
        "    if target != \"na\":\n",
        "        atoms.write_poscar(poscar_name)\n",
        "        f.write(\"%s,%6f\\n\" % (poscar_name, target))\n",
        "        # count += 1\n",
        "        # if count == max_samples:\n",
        "        #     break\n",
        "f.close()\n",
        "\n",
        "os.chdir(cwd)"
      ],
      "metadata": {
        "id": "apVVRqVgSdbG",
        "outputId": "e757e549-6ad2-4567-817b-d3b632c6b10a",
        "colab": {
          "base_uri": "https://localhost:8080/"
        }
      },
      "execution_count": 21,
      "outputs": [
        {
          "output_type": "stream",
          "name": "stdout",
          "text": [
            "Obtaining 3D dataset 76k ...\n",
            "Reference:https://www.nature.com/articles/s41524-020-00440-1\n",
            "Other versions:https://doi.org/10.6084/m9.figshare.6815699\n"
          ]
        },
        {
          "output_type": "stream",
          "name": "stderr",
          "text": [
            "100%|██████████| 40.8M/40.8M [00:03<00:00, 13.0MiB/s]\n"
          ]
        },
        {
          "output_type": "stream",
          "name": "stdout",
          "text": [
            "Loading the zipfile...\n",
            "Loading completed.\n"
          ]
        }
      ]
    },
    {
      "cell_type": "code",
      "metadata": {
        "id": "v62Vzv2_2M2s",
        "outputId": "d8d619bb-1a9a-4b65-b7ea-e8681572cbe4",
        "colab": {
          "base_uri": "https://localhost:8080/"
        }
      },
      "source": [
        "!ls -altr  DataDir_ExfoEnergy/*.vasp | wc -l\n"
      ],
      "execution_count": 22,
      "outputs": [
        {
          "output_type": "stream",
          "name": "stdout",
          "text": [
            "813\n"
          ]
        }
      ]
    },
    {
      "cell_type": "code",
      "source": [
        " !wc -l DataDir_ExfoEnergy/id_prop.csv"
      ],
      "metadata": {
        "id": "SQW9wmpsToBR",
        "outputId": "2d30e8ce-28fc-4041-c162-4f363f63115b",
        "colab": {
          "base_uri": "https://localhost:8080/"
        }
      },
      "execution_count": 23,
      "outputs": [
        {
          "output_type": "stream",
          "name": "stdout",
          "text": [
            "813 DataDir_ExfoEnergy/id_prop.csv\n"
          ]
        }
      ]
    },
    {
      "cell_type": "code",
      "source": [
        "import time\n",
        "t1=time.time()\n",
        "!train_folder.py --root_dir \"DataDir_ExfoEnergy\" --epochs 1 --batch_size 64 --config \"alignn/examples/sample_data/config_example.json\" --output_dir=\"ExfoEnOut\"\n",
        "t2=time.time()\n",
        "print ('Time in s',t2-t1)"
      ],
      "metadata": {
        "id": "E8aEhUTHT-AV",
        "outputId": "aede4dea-7fba-4c88-c0d8-f63b9ac6afc6",
        "colab": {
          "base_uri": "https://localhost:8080/"
        }
      },
      "execution_count": 24,
      "outputs": [
        {
          "output_type": "stream",
          "name": "stdout",
          "text": [
            "MAX val: 948.93\n",
            "MIN val: 0.03\n",
            "MAD: 62.629814227293544\n",
            "Baseline MAE: 53.28148072174739\n",
            "data range 948.93 0.03\n",
            "100% 650/650 [00:13<00:00, 48.60it/s]\n",
            "df                                                  atoms  ...  target\n",
            "0    {'lattice_mat': [[1.6777483798834445, -2.90594...  ...   83.78\n",
            "1    {'lattice_mat': [[9.067075684180468, -0.0, 0.0...  ...   88.81\n",
            "2    {'lattice_mat': [[0.0, -3.9587610833154616, 0....  ...    0.03\n",
            "3    {'lattice_mat': [[3.9274082409870625, 0.0, 0.0...  ...   71.05\n",
            "4    {'lattice_mat': [[3.413342172498346, 0.0, 0.0]...  ...   89.57\n",
            "..                                                 ...  ...     ...\n",
            "645  {'lattice_mat': [[6.442061375822732, -0.0, 0.0...  ...   94.30\n",
            "646  {'lattice_mat': [[3.704728408598396, 0.0005419...  ...   38.76\n",
            "647  {'lattice_mat': [[4.036876234014432, -0.0, -0....  ...  430.04\n",
            "648  {'lattice_mat': [[3.281797985213625, -5.684241...  ...   78.87\n",
            "649  {'lattice_mat': [[3.8613008205176653, 0.0, 0.0...  ...  100.68\n",
            "\n",
            "[650 rows x 3 columns]\n",
            "warning: could not load CGCNN features for 103\n",
            "Setting it to max atomic number available here, 103\n",
            "warning: could not load CGCNN features for 101\n",
            "Setting it to max atomic number available here, 103\n",
            "warning: could not load CGCNN features for 102\n",
            "Setting it to max atomic number available here, 103\n",
            "building line graphs\n",
            "100% 650/650 [00:00<00:00, 1519.27it/s]\n",
            "data range 515.58 3.01\n",
            "100% 81/81 [00:01<00:00, 55.77it/s]\n",
            "df                                                 atoms  ...  target\n",
            "0   {'lattice_mat': [[3.6904407984509837, 6.204186...  ...  115.50\n",
            "1   {'lattice_mat': [[3.8434787884138193, 1e-16, -...  ...   47.00\n",
            "2   {'lattice_mat': [[4.028362426566927, -0.0, 0.0...  ...   77.46\n",
            "3   {'lattice_mat': [[3.1720706427637215, 0.0, 0.0...  ...   36.37\n",
            "4   {'lattice_mat': [[6.7689601651861375, -0.02754...  ...   95.78\n",
            "..                                                ...  ...     ...\n",
            "76  {'lattice_mat': [[1.6714331377291298, -2.89500...  ...   87.15\n",
            "77  {'lattice_mat': [[5.966510517639799, -0.0, 0.0...  ...   74.42\n",
            "78  {'lattice_mat': [[1.2561627670404694, -2.17573...  ...   71.34\n",
            "79  {'lattice_mat': [[1.8184277097321442, -3.14960...  ...   86.83\n",
            "80  {'lattice_mat': [[1.8802499806261772, -3.25668...  ...   92.05\n",
            "\n",
            "[81 rows x 3 columns]\n",
            "building line graphs\n",
            "100% 81/81 [00:00<00:00, 1384.14it/s]\n",
            "data range 411.29 8.22\n",
            "100% 81/81 [00:02<00:00, 39.56it/s]\n",
            "df                                                 atoms  ...  target\n",
            "0   {'lattice_mat': [[3.5154588372382776, -0.01415...  ...   57.08\n",
            "1   {'lattice_mat': [[0.0, 5.168129292765986, -0.0...  ...   55.49\n",
            "2   {'lattice_mat': [[1.696752283225675, -2.938860...  ...   96.63\n",
            "3   {'lattice_mat': [[4.3190358870965815, 0.0, 0.0...  ...  247.89\n",
            "4   {'lattice_mat': [[3.2934741502618285, 0.0, -0....  ...    8.22\n",
            "..                                                ...  ...     ...\n",
            "76  {'lattice_mat': [[4.015100733795513, 0.0, 0.0]...  ...  253.80\n",
            "77  {'lattice_mat': [[4.59434075736166, -2.2006450...  ...   52.17\n",
            "78  {'lattice_mat': [[3.801969399487828, -6.585204...  ...  234.05\n",
            "79  {'lattice_mat': [[8.125856213603134, 0.0, 0.0]...  ...  100.85\n",
            "80  {'lattice_mat': [[6.540390425613241, 0.0, 0.0]...  ...   94.87\n",
            "\n",
            "[81 rows x 3 columns]\n",
            "building line graphs\n",
            "100% 81/81 [00:00<00:00, 1167.53it/s]\n",
            "n_train: 650\n",
            "n_val: 81\n",
            "n_test: 81\n",
            "version='112bbedebdaecf59fb18e11c929080fb2f358246' dataset='user_data' target='target' atom_features='cgcnn' neighbor_strategy='k-nearest' id_tag='jid' random_seed=123 classification_threshold=None n_val=None n_test=None n_train=None train_ratio=0.8 val_ratio=0.1 test_ratio=0.1 target_multiplication_factor=None epochs=1 batch_size=64 weight_decay=1e-05 learning_rate=0.001 filename='sample' warmup_steps=2000 criterion='mse' optimizer='adamw' scheduler='onecycle' pin_memory=False save_dataloader=False write_checkpoint=True write_predictions=True store_outputs=True progress=True log_tensorboard=False standard_scalar_and_pca=False use_canonize=True num_workers=0 cutoff=8.0 max_neighbors=12 keep_data_order=True normalize_graph_level_loss=False distributed=False data_parallel=False n_early_stopping=None output_dir='ExfoEnOut' model=ALIGNNConfig(name='alignn', alignn_layers=4, gcn_layers=4, atom_input_features=92, edge_input_features=80, triplet_input_features=40, embedding_features=64, hidden_features=256, output_features=1, link='identity', zero_inflated=False, classification=False, num_classes=2)\n",
            "config:\n",
            "{'atom_features': 'cgcnn',\n",
            " 'batch_size': 64,\n",
            " 'classification_threshold': None,\n",
            " 'criterion': 'mse',\n",
            " 'cutoff': 8.0,\n",
            " 'data_parallel': False,\n",
            " 'dataset': 'user_data',\n",
            " 'distributed': False,\n",
            " 'epochs': 1,\n",
            " 'filename': 'sample',\n",
            " 'id_tag': 'jid',\n",
            " 'keep_data_order': True,\n",
            " 'learning_rate': 0.001,\n",
            " 'log_tensorboard': False,\n",
            " 'max_neighbors': 12,\n",
            " 'model': {'alignn_layers': 4,\n",
            "           'atom_input_features': 92,\n",
            "           'classification': False,\n",
            "           'edge_input_features': 80,\n",
            "           'embedding_features': 64,\n",
            "           'gcn_layers': 4,\n",
            "           'hidden_features': 256,\n",
            "           'link': 'identity',\n",
            "           'name': 'alignn',\n",
            "           'num_classes': 2,\n",
            "           'output_features': 1,\n",
            "           'triplet_input_features': 40,\n",
            "           'zero_inflated': False},\n",
            " 'n_early_stopping': None,\n",
            " 'n_test': None,\n",
            " 'n_train': None,\n",
            " 'n_val': None,\n",
            " 'neighbor_strategy': 'k-nearest',\n",
            " 'normalize_graph_level_loss': False,\n",
            " 'num_workers': 0,\n",
            " 'optimizer': 'adamw',\n",
            " 'output_dir': 'ExfoEnOut',\n",
            " 'pin_memory': False,\n",
            " 'progress': True,\n",
            " 'random_seed': 123,\n",
            " 'save_dataloader': False,\n",
            " 'scheduler': 'onecycle',\n",
            " 'standard_scalar_and_pca': False,\n",
            " 'store_outputs': True,\n",
            " 'target': 'target',\n",
            " 'target_multiplication_factor': None,\n",
            " 'test_ratio': 0.1,\n",
            " 'train_ratio': 0.8,\n",
            " 'use_canonize': True,\n",
            " 'val_ratio': 0.1,\n",
            " 'version': '112bbedebdaecf59fb18e11c929080fb2f358246',\n",
            " 'warmup_steps': 2000,\n",
            " 'weight_decay': 1e-05,\n",
            " 'write_checkpoint': True,\n",
            " 'write_predictions': True}\n",
            "/usr/local/lib/python3.10/dist-packages/torch/nn/modules/linear.py:114: UserWarning: Deterministic behavior was enabled with either `torch.use_deterministic_algorithms(True)` or `at::Context::setDeterministicAlgorithms(true)`, but this operation is not deterministic because it uses CuBLAS and you have CUDA >= 10.2. To enable deterministic behavior in this case, you must set an environment variable before running your PyTorch application: CUBLAS_WORKSPACE_CONFIG=:4096:8 or CUBLAS_WORKSPACE_CONFIG=:16:8. For more information, go to https://docs.nvidia.com/cuda/cublas/index.html#cublasApi_reproducibility (Triggered internally at ../aten/src/ATen/Context.cpp:156.)\n",
            "  return F.linear(input, self.weight, self.bias)\n",
            "/usr/local/lib/python3.10/dist-packages/torch/autograd/__init__.py:200: UserWarning: Deterministic behavior was enabled with either `torch.use_deterministic_algorithms(True)` or `at::Context::setDeterministicAlgorithms(true)`, but this operation is not deterministic because it uses CuBLAS and you have CUDA >= 10.2. To enable deterministic behavior in this case, you must set an environment variable before running your PyTorch application: CUBLAS_WORKSPACE_CONFIG=:4096:8 or CUBLAS_WORKSPACE_CONFIG=:16:8. For more information, go to https://docs.nvidia.com/cuda/cublas/index.html#cublasApi_reproducibility (Triggered internally at ../aten/src/ATen/Context.cpp:156.)\n",
            "  Variable._execution_engine.run_backward(  # Calls into the C++ engine to run the backward pass\n",
            "Val_MAE: 105.0910\n",
            "Train_MAE: 119.2489\n",
            "Test MAE: 116.31166124343872\n",
            "Time taken (s): 5.317775249481201\n",
            "Time in s 27.32304573059082\n"
          ]
        }
      ]
    },
    {
      "cell_type": "code",
      "source": [
        "!ls ExfoEnOut"
      ],
      "metadata": {
        "id": "luExy9FkWJ81",
        "outputId": "57dd6bec-56df-4427-9309-109983cd53db",
        "colab": {
          "base_uri": "https://localhost:8080/"
        }
      },
      "execution_count": 25,
      "outputs": [
        {
          "output_type": "stream",
          "name": "stdout",
          "text": [
            "checkpoint_1.pt     ids_train_val_test.json\t      test_data_data_range\n",
            "config.json\t    mad\t\t\t\t      train_data_data_range\n",
            "history_train.json  prediction_results_test_set.csv   val_data_data_range\n",
            "history_val.json    prediction_results_train_set.csv\n"
          ]
        }
      ]
    },
    {
      "cell_type": "markdown",
      "source": [
        "Here checkpoints are the model parameter files that can be loaded in torch library to make predictions such as [this example](https://github.com/usnistgov/alignn/blob/main/alignn/scripts/predict.py)."
      ],
      "metadata": {
        "id": "zzrjEIMKpdFS"
      }
    },
    {
      "cell_type": "code",
      "source": [
        "import matplotlib.pyplot as plt\n",
        "%matplotlib inline\n",
        "import pandas as pd\n",
        "df = pd.read_csv('/content/alignn/ExfoEnOut/prediction_results_test_set.csv')"
      ],
      "metadata": {
        "id": "EhzUYeD1oYpD"
      },
      "execution_count": 26,
      "outputs": []
    },
    {
      "cell_type": "markdown",
      "source": [
        "These are predictions on 10 % held dataset that the model has never seen"
      ],
      "metadata": {
        "id": "Tz-AsQnNo9-2"
      }
    },
    {
      "cell_type": "code",
      "source": [
        "df"
      ],
      "metadata": {
        "id": "hGGnsXseo7Qz",
        "outputId": "92bfd109-f366-4e88-8ac8-855001da747f",
        "colab": {
          "base_uri": "https://localhost:8080/",
          "height": 423
        }
      },
      "execution_count": 27,
      "outputs": [
        {
          "output_type": "execute_result",
          "data": {
            "text/plain": [
              "                         id      target  prediction\n",
              "0    POSCAR-JVASP-4657.vasp   57.080002   -9.016338\n",
              "1     POSCAR-JVASP-368.vasp   55.490002   -9.108766\n",
              "2     POSCAR-JVASP-578.vasp   96.629997   -8.838234\n",
              "3    POSCAR-JVASP-9389.vasp  247.889999   -8.900380\n",
              "4    POSCAR-JVASP-4660.vasp    8.220000   -6.611367\n",
              "..                      ...         ...         ...\n",
              "76  POSCAR-JVASP-57459.vasp  253.800003   -8.358907\n",
              "77  POSCAR-JVASP-12888.vasp   52.169998   -8.406296\n",
              "78  POSCAR-JVASP-58999.vasp  234.050003   -7.959143\n",
              "79   POSCAR-JVASP-4645.vasp  100.849998   -8.163241\n",
              "80   POSCAR-JVASP-5581.vasp   94.870003   -7.730075\n",
              "\n",
              "[81 rows x 3 columns]"
            ],
            "text/html": [
              "\n",
              "\n",
              "  <div id=\"df-5413196f-f304-4307-b7db-05c4673fe9b7\">\n",
              "    <div class=\"colab-df-container\">\n",
              "      <div>\n",
              "<style scoped>\n",
              "    .dataframe tbody tr th:only-of-type {\n",
              "        vertical-align: middle;\n",
              "    }\n",
              "\n",
              "    .dataframe tbody tr th {\n",
              "        vertical-align: top;\n",
              "    }\n",
              "\n",
              "    .dataframe thead th {\n",
              "        text-align: right;\n",
              "    }\n",
              "</style>\n",
              "<table border=\"1\" class=\"dataframe\">\n",
              "  <thead>\n",
              "    <tr style=\"text-align: right;\">\n",
              "      <th></th>\n",
              "      <th>id</th>\n",
              "      <th>target</th>\n",
              "      <th>prediction</th>\n",
              "    </tr>\n",
              "  </thead>\n",
              "  <tbody>\n",
              "    <tr>\n",
              "      <th>0</th>\n",
              "      <td>POSCAR-JVASP-4657.vasp</td>\n",
              "      <td>57.080002</td>\n",
              "      <td>-9.016338</td>\n",
              "    </tr>\n",
              "    <tr>\n",
              "      <th>1</th>\n",
              "      <td>POSCAR-JVASP-368.vasp</td>\n",
              "      <td>55.490002</td>\n",
              "      <td>-9.108766</td>\n",
              "    </tr>\n",
              "    <tr>\n",
              "      <th>2</th>\n",
              "      <td>POSCAR-JVASP-578.vasp</td>\n",
              "      <td>96.629997</td>\n",
              "      <td>-8.838234</td>\n",
              "    </tr>\n",
              "    <tr>\n",
              "      <th>3</th>\n",
              "      <td>POSCAR-JVASP-9389.vasp</td>\n",
              "      <td>247.889999</td>\n",
              "      <td>-8.900380</td>\n",
              "    </tr>\n",
              "    <tr>\n",
              "      <th>4</th>\n",
              "      <td>POSCAR-JVASP-4660.vasp</td>\n",
              "      <td>8.220000</td>\n",
              "      <td>-6.611367</td>\n",
              "    </tr>\n",
              "    <tr>\n",
              "      <th>...</th>\n",
              "      <td>...</td>\n",
              "      <td>...</td>\n",
              "      <td>...</td>\n",
              "    </tr>\n",
              "    <tr>\n",
              "      <th>76</th>\n",
              "      <td>POSCAR-JVASP-57459.vasp</td>\n",
              "      <td>253.800003</td>\n",
              "      <td>-8.358907</td>\n",
              "    </tr>\n",
              "    <tr>\n",
              "      <th>77</th>\n",
              "      <td>POSCAR-JVASP-12888.vasp</td>\n",
              "      <td>52.169998</td>\n",
              "      <td>-8.406296</td>\n",
              "    </tr>\n",
              "    <tr>\n",
              "      <th>78</th>\n",
              "      <td>POSCAR-JVASP-58999.vasp</td>\n",
              "      <td>234.050003</td>\n",
              "      <td>-7.959143</td>\n",
              "    </tr>\n",
              "    <tr>\n",
              "      <th>79</th>\n",
              "      <td>POSCAR-JVASP-4645.vasp</td>\n",
              "      <td>100.849998</td>\n",
              "      <td>-8.163241</td>\n",
              "    </tr>\n",
              "    <tr>\n",
              "      <th>80</th>\n",
              "      <td>POSCAR-JVASP-5581.vasp</td>\n",
              "      <td>94.870003</td>\n",
              "      <td>-7.730075</td>\n",
              "    </tr>\n",
              "  </tbody>\n",
              "</table>\n",
              "<p>81 rows × 3 columns</p>\n",
              "</div>\n",
              "      <button class=\"colab-df-convert\" onclick=\"convertToInteractive('df-5413196f-f304-4307-b7db-05c4673fe9b7')\"\n",
              "              title=\"Convert this dataframe to an interactive table.\"\n",
              "              style=\"display:none;\">\n",
              "\n",
              "  <svg xmlns=\"http://www.w3.org/2000/svg\" height=\"24px\"viewBox=\"0 0 24 24\"\n",
              "       width=\"24px\">\n",
              "    <path d=\"M0 0h24v24H0V0z\" fill=\"none\"/>\n",
              "    <path d=\"M18.56 5.44l.94 2.06.94-2.06 2.06-.94-2.06-.94-.94-2.06-.94 2.06-2.06.94zm-11 1L8.5 8.5l.94-2.06 2.06-.94-2.06-.94L8.5 2.5l-.94 2.06-2.06.94zm10 10l.94 2.06.94-2.06 2.06-.94-2.06-.94-.94-2.06-.94 2.06-2.06.94z\"/><path d=\"M17.41 7.96l-1.37-1.37c-.4-.4-.92-.59-1.43-.59-.52 0-1.04.2-1.43.59L10.3 9.45l-7.72 7.72c-.78.78-.78 2.05 0 2.83L4 21.41c.39.39.9.59 1.41.59.51 0 1.02-.2 1.41-.59l7.78-7.78 2.81-2.81c.8-.78.8-2.07 0-2.86zM5.41 20L4 18.59l7.72-7.72 1.47 1.35L5.41 20z\"/>\n",
              "  </svg>\n",
              "      </button>\n",
              "\n",
              "\n",
              "\n",
              "    <div id=\"df-20dba1f3-3e79-4a71-b5e6-b678c431247a\">\n",
              "      <button class=\"colab-df-quickchart\" onclick=\"quickchart('df-20dba1f3-3e79-4a71-b5e6-b678c431247a')\"\n",
              "              title=\"Suggest charts.\"\n",
              "              style=\"display:none;\">\n",
              "\n",
              "<svg xmlns=\"http://www.w3.org/2000/svg\" height=\"24px\"viewBox=\"0 0 24 24\"\n",
              "     width=\"24px\">\n",
              "    <g>\n",
              "        <path d=\"M19 3H5c-1.1 0-2 .9-2 2v14c0 1.1.9 2 2 2h14c1.1 0 2-.9 2-2V5c0-1.1-.9-2-2-2zM9 17H7v-7h2v7zm4 0h-2V7h2v10zm4 0h-2v-4h2v4z\"/>\n",
              "    </g>\n",
              "</svg>\n",
              "      </button>\n",
              "    </div>\n",
              "\n",
              "<style>\n",
              "  .colab-df-quickchart {\n",
              "    background-color: #E8F0FE;\n",
              "    border: none;\n",
              "    border-radius: 50%;\n",
              "    cursor: pointer;\n",
              "    display: none;\n",
              "    fill: #1967D2;\n",
              "    height: 32px;\n",
              "    padding: 0 0 0 0;\n",
              "    width: 32px;\n",
              "  }\n",
              "\n",
              "  .colab-df-quickchart:hover {\n",
              "    background-color: #E2EBFA;\n",
              "    box-shadow: 0px 1px 2px rgba(60, 64, 67, 0.3), 0px 1px 3px 1px rgba(60, 64, 67, 0.15);\n",
              "    fill: #174EA6;\n",
              "  }\n",
              "\n",
              "  [theme=dark] .colab-df-quickchart {\n",
              "    background-color: #3B4455;\n",
              "    fill: #D2E3FC;\n",
              "  }\n",
              "\n",
              "  [theme=dark] .colab-df-quickchart:hover {\n",
              "    background-color: #434B5C;\n",
              "    box-shadow: 0px 1px 3px 1px rgba(0, 0, 0, 0.15);\n",
              "    filter: drop-shadow(0px 1px 2px rgba(0, 0, 0, 0.3));\n",
              "    fill: #FFFFFF;\n",
              "  }\n",
              "</style>\n",
              "\n",
              "    <script>\n",
              "      async function quickchart(key) {\n",
              "        const containerElement = document.querySelector('#' + key);\n",
              "        const charts = await google.colab.kernel.invokeFunction(\n",
              "            'suggestCharts', [key], {});\n",
              "      }\n",
              "    </script>\n",
              "\n",
              "      <script>\n",
              "\n",
              "function displayQuickchartButton(domScope) {\n",
              "  let quickchartButtonEl =\n",
              "    domScope.querySelector('#df-20dba1f3-3e79-4a71-b5e6-b678c431247a button.colab-df-quickchart');\n",
              "  quickchartButtonEl.style.display =\n",
              "    google.colab.kernel.accessAllowed ? 'block' : 'none';\n",
              "}\n",
              "\n",
              "        displayQuickchartButton(document);\n",
              "      </script>\n",
              "      <style>\n",
              "    .colab-df-container {\n",
              "      display:flex;\n",
              "      flex-wrap:wrap;\n",
              "      gap: 12px;\n",
              "    }\n",
              "\n",
              "    .colab-df-convert {\n",
              "      background-color: #E8F0FE;\n",
              "      border: none;\n",
              "      border-radius: 50%;\n",
              "      cursor: pointer;\n",
              "      display: none;\n",
              "      fill: #1967D2;\n",
              "      height: 32px;\n",
              "      padding: 0 0 0 0;\n",
              "      width: 32px;\n",
              "    }\n",
              "\n",
              "    .colab-df-convert:hover {\n",
              "      background-color: #E2EBFA;\n",
              "      box-shadow: 0px 1px 2px rgba(60, 64, 67, 0.3), 0px 1px 3px 1px rgba(60, 64, 67, 0.15);\n",
              "      fill: #174EA6;\n",
              "    }\n",
              "\n",
              "    [theme=dark] .colab-df-convert {\n",
              "      background-color: #3B4455;\n",
              "      fill: #D2E3FC;\n",
              "    }\n",
              "\n",
              "    [theme=dark] .colab-df-convert:hover {\n",
              "      background-color: #434B5C;\n",
              "      box-shadow: 0px 1px 3px 1px rgba(0, 0, 0, 0.15);\n",
              "      filter: drop-shadow(0px 1px 2px rgba(0, 0, 0, 0.3));\n",
              "      fill: #FFFFFF;\n",
              "    }\n",
              "  </style>\n",
              "\n",
              "      <script>\n",
              "        const buttonEl =\n",
              "          document.querySelector('#df-5413196f-f304-4307-b7db-05c4673fe9b7 button.colab-df-convert');\n",
              "        buttonEl.style.display =\n",
              "          google.colab.kernel.accessAllowed ? 'block' : 'none';\n",
              "\n",
              "        async function convertToInteractive(key) {\n",
              "          const element = document.querySelector('#df-5413196f-f304-4307-b7db-05c4673fe9b7');\n",
              "          const dataTable =\n",
              "            await google.colab.kernel.invokeFunction('convertToInteractive',\n",
              "                                                     [key], {});\n",
              "          if (!dataTable) return;\n",
              "\n",
              "          const docLinkHtml = 'Like what you see? Visit the ' +\n",
              "            '<a target=\"_blank\" href=https://colab.research.google.com/notebooks/data_table.ipynb>data table notebook</a>'\n",
              "            + ' to learn more about interactive tables.';\n",
              "          element.innerHTML = '';\n",
              "          dataTable['output_type'] = 'display_data';\n",
              "          await google.colab.output.renderOutput(dataTable, element);\n",
              "          const docLink = document.createElement('div');\n",
              "          docLink.innerHTML = docLinkHtml;\n",
              "          element.appendChild(docLink);\n",
              "        }\n",
              "      </script>\n",
              "    </div>\n",
              "  </div>\n"
            ]
          },
          "metadata": {},
          "execution_count": 27
        }
      ]
    },
    {
      "cell_type": "code",
      "source": [
        "!pip install matplotlib==3.1.3"
      ],
      "metadata": {
        "id": "Sgg094jfO7Ol",
        "outputId": "b6a003b1-067e-4fcc-c518-d217938f1df4",
        "colab": {
          "base_uri": "https://localhost:8080/",
          "height": 593
        }
      },
      "execution_count": 28,
      "outputs": [
        {
          "output_type": "stream",
          "name": "stdout",
          "text": [
            "Collecting matplotlib==3.1.3\n",
            "  Downloading matplotlib-3.1.3.tar.gz (40.9 MB)\n",
            "\u001b[2K     \u001b[90m━━━━━━━━━━━━━━━━━━━━━━━━━━━━━━━━━━━━━━━━\u001b[0m \u001b[32m40.9/40.9 MB\u001b[0m \u001b[31m14.7 MB/s\u001b[0m eta \u001b[36m0:00:00\u001b[0m\n",
            "\u001b[?25h  Preparing metadata (setup.py) ... \u001b[?25l\u001b[?25hdone\n",
            "Requirement already satisfied: cycler>=0.10 in /usr/local/lib/python3.10/dist-packages (from matplotlib==3.1.3) (0.11.0)\n",
            "Requirement already satisfied: kiwisolver>=1.0.1 in /usr/local/lib/python3.10/dist-packages (from matplotlib==3.1.3) (1.4.4)\n",
            "Requirement already satisfied: pyparsing!=2.0.4,!=2.1.2,!=2.1.6,>=2.0.1 in /usr/local/lib/python3.10/dist-packages (from matplotlib==3.1.3) (2.4.7)\n",
            "Requirement already satisfied: python-dateutil>=2.1 in /usr/local/lib/python3.10/dist-packages (from matplotlib==3.1.3) (2.8.2)\n",
            "Requirement already satisfied: numpy>=1.11 in /usr/local/lib/python3.10/dist-packages (from matplotlib==3.1.3) (1.22.4)\n",
            "Requirement already satisfied: six>=1.5 in /usr/local/lib/python3.10/dist-packages (from python-dateutil>=2.1->matplotlib==3.1.3) (1.16.0)\n",
            "Building wheels for collected packages: matplotlib\n",
            "  Building wheel for matplotlib (setup.py) ... \u001b[?25l\u001b[?25hdone\n",
            "  Created wheel for matplotlib: filename=matplotlib-3.1.3-cp310-cp310-linux_x86_64.whl size=11756686 sha256=27a74bee6ee0c3684ae79a868f573cd77f6b53dcf9c4d87a773dc28c3d7cc39f\n",
            "  Stored in directory: /root/.cache/pip/wheels/a7/83/5a/c704868d367ace343ac89b928f3d937313a5b5fb5731483705\n",
            "Successfully built matplotlib\n",
            "Installing collected packages: matplotlib\n",
            "  Attempting uninstall: matplotlib\n",
            "    Found existing installation: matplotlib 3.7.1\n",
            "    Uninstalling matplotlib-3.7.1:\n",
            "      Successfully uninstalled matplotlib-3.7.1\n",
            "\u001b[31mERROR: pip's dependency resolver does not currently take into account all the packages that are installed. This behaviour is the source of the following dependency conflicts.\n",
            "alignn 2023.7.10 requires matplotlib>=3.4.1, but you have matplotlib 3.1.3 which is incompatible.\n",
            "arviz 0.15.1 requires matplotlib>=3.2, but you have matplotlib 3.1.3 which is incompatible.\n",
            "mizani 0.8.1 requires matplotlib>=3.5.0, but you have matplotlib 3.1.3 which is incompatible.\n",
            "plotnine 0.10.1 requires matplotlib>=3.5.0, but you have matplotlib 3.1.3 which is incompatible.\u001b[0m\u001b[31m\n",
            "\u001b[0mSuccessfully installed matplotlib-3.1.3\n"
          ]
        },
        {
          "output_type": "display_data",
          "data": {
            "application/vnd.colab-display-data+json": {
              "pip_warning": {
                "packages": [
                  "matplotlib",
                  "mpl_toolkits"
                ]
              }
            }
          },
          "metadata": {}
        }
      ]
    },
    {
      "cell_type": "markdown",
      "source": [
        "Obviously, this is just an example. For production runs, please select larger dataset, batch size, epochs etc."
      ],
      "metadata": {
        "id": "3ahuTb7uG4aH"
      }
    },
    {
      "cell_type": "code",
      "source": [
        "import matplotlib.pyplot as plt\n",
        "%matplotlib inline\n",
        "plt.plot(df['target'],df['prediction'],'.')\n",
        "plt.plot(df['target'],df['target'],'-.')\n",
        "plt.xlabel('DFT data (meV)')\n",
        "plt.ylabel('ALIGNN predictions (meV)')"
      ],
      "metadata": {
        "id": "hf3vWrmQpDwg",
        "outputId": "c077baba-cca8-4558-9143-b85096045ec2",
        "colab": {
          "base_uri": "https://localhost:8080/",
          "height": 467
        }
      },
      "execution_count": 29,
      "outputs": [
        {
          "output_type": "execute_result",
          "data": {
            "text/plain": [
              "Text(0, 0.5, 'ALIGNN predictions (meV)')"
            ]
          },
          "metadata": {},
          "execution_count": 29
        },
        {
          "output_type": "display_data",
          "data": {
            "text/plain": [
              "<Figure size 640x480 with 1 Axes>"
            ],
            "image/png": "[encoded data removed]"
          },
          "metadata": {}
        }
      ]
    },
    {
      "cell_type": "code",
      "source": [
        "# from jarvis.db.figshare import data as jdata\n",
        "# from jarvis.core.atoms import Atoms\n",
        "# import os\n",
        "\n",
        "# temp_dir_name = \"DataDir_QM9_U0\"\n",
        "# os.makedirs(temp_dir_name)\n",
        "# os.chdir(temp_dir_name)\n",
        "\n",
        "# dft_3d = jdata(\"qm9_std_jctc\") #jdata(\"dft_3d\")\n",
        "# prop = \"U0\" #\"exfoliation_energy\" #\"optb88vdw_bandgap\"\n",
        "# f = open(\"id_prop.csv\", \"w\")\n",
        "# # count = 0\n",
        "# for i in dft_3d:\n",
        "#     atoms = Atoms.from_dict(i[\"atoms\"])\n",
        "#     jid = i[\"id\"]\n",
        "#     poscar_name = \"POSCAR-\" + jid + \".vasp\"\n",
        "#     target = i[prop]\n",
        "#     if target != \"na\":\n",
        "#         atoms.write_poscar(poscar_name)\n",
        "#         f.write(\"%s,%6f\\n\" % (poscar_name, target))\n",
        "#         # count += 1\n",
        "#         # if count == max_samples:\n",
        "#         #     break\n",
        "# f.close()\n",
        "\n",
        "# os.chdir(cwd)"
      ],
      "metadata": {
        "id": "cOSVNX6zUeXd"
      },
      "execution_count": 30,
      "outputs": []
    },
    {
      "cell_type": "code",
      "source": [
        "pwd"
      ],
      "metadata": {
        "id": "5SxYZoRkqM80",
        "outputId": "dd6bf608-0f87-47bd-84b3-e7c2a18687b6",
        "colab": {
          "base_uri": "https://localhost:8080/",
          "height": 35
        }
      },
      "execution_count": 31,
      "outputs": [
        {
          "output_type": "execute_result",
          "data": {
            "text/plain": [
              "'/content/alignn'"
            ],
            "application/vnd.google.colaboratory.intrinsic+json": {
              "type": "string"
            }
          },
          "metadata": {},
          "execution_count": 31
        }
      ]
    },
    {
      "cell_type": "code",
      "source": [
        "!ls"
      ],
      "metadata": {
        "id": "wDQTE2p1ZMAh",
        "outputId": "9f3e1f64-2b39-4fa4-b31f-3d4af94fc0b5",
        "colab": {
          "base_uri": "https://localhost:8080/"
        }
      },
      "execution_count": 32,
      "outputs": [
        {
          "output_type": "stream",
          "name": "stdout",
          "text": [
            "alignn\t       DataDir_ExfoEnergy  LICENSE.rst\topt.traj\tREADME.md  temp\n",
            "alignn_ff.log  ExfoEnOut\t   opt.log\tpyproject.toml\tsetup.py\n"
          ]
        }
      ]
    },
    {
      "cell_type": "markdown",
      "source": [
        "Changing the cut-off in config_example.json as 5,  n_train as 110000, n_val as 10000, n_test as 10829"
      ],
      "metadata": {
        "id": "y-NnYsVoZght"
      }
    },
    {
      "cell_type": "code",
      "source": [
        "# from jarvis.db.jsonutils import loadjson, dumpjson\n",
        "# config = loadjson(\"alignn/examples/sample_data/config_example.json\")\n",
        "# config['cutoff'] = 5.0\n",
        "# config['n_train'] = 110000\n",
        "# config['n_val'] = 10000\n",
        "# config['n_test'] = 10829\n",
        "# dumpjson(data=config, filename=\"config_qm9.json\")"
      ],
      "metadata": {
        "id": "gqBCdqVCaBmy"
      },
      "execution_count": 33,
      "outputs": []
    },
    {
      "cell_type": "markdown",
      "source": [
        "Run for 1000 epochs instead of 5 here to get reasonable performance/MAE"
      ],
      "metadata": {
        "id": "WasOday5a72c"
      }
    },
    {
      "cell_type": "code",
      "source": [
        "# import time\n",
        "# t1=time.time()\n",
        "# !train_folder.py --root_dir \"DataDir_QM9_U0\" --epochs 5 --batch_size 64 --config \"config_qm9.json\" --output_dir=\"DataDir_QM9U0out\"\n",
        "# t2=time.time()\n",
        "# print ('Time in s',t2-t1)"
      ],
      "metadata": {
        "id": "acaMqZP_XbBr"
      },
      "execution_count": 34,
      "outputs": []
    },
    {
      "cell_type": "markdown",
      "source": [
        "# 7: Add results to JARVIS-Leaderboard\n"
      ],
      "metadata": {
        "id": "GfE-z_UMKzjP"
      }
    },
    {
      "cell_type": "markdown",
      "source": [
        "Checkout the notebook: https://colab.research.google.com/github/knc6/jarvis-tools-notebooks/blob/master/jarvis-tools-notebooks/alignn_jarvis_leaderboard.ipynb"
      ],
      "metadata": {
        "id": "6FEwM9i3K4yK"
      }
    },
    {
      "cell_type": "code",
      "source": [
        "!pip freeze"
      ],
      "metadata": {
        "id": "rqaGpi_PYpjw",
        "outputId": "2610d4d8-f1f7-4ef9-f807-55b4a98cbb2c",
        "colab": {
          "base_uri": "https://localhost:8080/"
        }
      },
      "execution_count": 35,
      "outputs": [
        {
          "output_type": "stream",
          "name": "stdout",
          "text": [
            "absl-py==1.4.0\n",
            "accelerate==0.21.0\n",
            "aiohttp==3.8.4\n",
            "aiosignal==1.3.1\n",
            "alabaster==0.7.13\n",
            "albumentations==1.2.1\n",
            "alignn==2023.7.10\n",
            "altair==4.2.2\n",
            "anyio==3.7.1\n",
            "appdirs==1.4.4\n",
            "argon2-cffi==21.3.0\n",
            "argon2-cffi-bindings==21.2.0\n",
            "array-record==0.4.0\n",
            "arviz==0.15.1\n",
            "ase==3.22.1\n",
            "astropy==5.2.2\n",
            "astunparse==1.6.3\n",
            "async-timeout==4.0.2\n",
            "attrs==23.1.0\n",
            "audioread==3.0.0\n",
            "autograd==1.6.2\n",
            "autopep8==2.0.2\n",
            "Babel==2.12.1\n",
            "backcall==0.2.0\n",
            "beautifulsoup4==4.11.2\n",
            "bleach==6.0.0\n",
            "blinker==1.4\n",
            "blis==0.7.9\n",
            "blosc2==2.0.0\n",
            "bokeh==2.4.3\n",
            "branca==0.6.0\n",
            "build==0.10.0\n",
            "CacheControl==0.13.1\n",
            "cachetools==5.3.1\n",
            "catalogue==2.0.8\n",
            "certifi==2023.5.7\n",
            "cffi==1.15.1\n",
            "chardet==4.0.0\n",
            "charset-normalizer==2.0.12\n",
            "chex==0.1.7\n",
            "click==8.1.6\n",
            "click-plugins==1.1.1\n",
            "cligj==0.7.2\n",
            "cloudpickle==2.2.1\n",
            "cmake==3.25.2\n",
            "cmdstanpy==1.1.0\n",
            "colorcet==3.0.1\n",
            "colorlover==0.3.0\n",
            "community==1.0.0b1\n",
            "confection==0.1.0\n",
            "cons==0.4.6\n",
            "contextlib2==21.6.0\n",
            "contourpy==1.1.0\n",
            "convertdate==2.4.0\n",
            "cryptography==3.4.8\n",
            "cufflinks==0.17.3\n",
            "cupy-cuda11x==11.0.0\n",
            "cvxopt==1.3.1\n",
            "cvxpy==1.3.2\n",
            "cycler==0.11.0\n",
            "cymem==2.0.7\n",
            "Cython==0.29.36\n",
            "dask==2022.12.1\n",
            "datascience==0.17.6\n",
            "db-dtypes==1.1.1\n",
            "dbus-python==1.2.18\n",
            "debugpy==1.6.6\n",
            "decorator==4.4.2\n",
            "defusedxml==0.7.1\n",
            "dgl==1.1.1+cu118\n",
            "dglgo==0.0.2\n",
            "distributed==2022.12.1\n",
            "distro==1.7.0\n",
            "dlib==19.24.2\n",
            "dm-tree==0.1.8\n",
            "docutils==0.20.1\n",
            "dopamine-rl==4.0.6\n",
            "duckdb==0.8.1\n",
            "earthengine-api==0.1.358\n",
            "easydict==1.10\n",
            "ecos==2.0.12\n",
            "editdistance==0.6.2\n",
            "en-core-web-sm @ https://github.com/explosion/spacy-models/releases/download/en_core_web_sm-3.5.0/en_core_web_sm-3.5.0-py3-none-any.whl#sha256=0964370218b7e1672a30ac50d72cdc6b16f7c867496f1d60925691188f4d2510\n",
            "entrypoints==0.4\n",
            "ephem==4.1.4\n",
            "et-xmlfile==1.1.0\n",
            "etils==1.3.0\n",
            "etuples==0.3.9\n",
            "exceptiongroup==1.1.2\n",
            "fastai==2.7.12\n",
            "fastcore==1.5.29\n",
            "fastdownload==0.0.7\n",
            "fastjsonschema==2.17.1\n",
            "fastprogress==1.0.3\n",
            "fastrlock==0.8.1\n",
            "filelock==3.12.2\n",
            "Fiona==1.9.4.post1\n",
            "firebase-admin==5.3.0\n",
            "flake8==6.0.0\n",
            "Flask==2.2.5\n",
            "flatbuffers==23.5.26\n",
            "flax==0.7.0\n",
            "folium==0.14.0\n",
            "fonttools==4.41.0\n",
            "frozendict==2.3.8\n",
            "frozenlist==1.4.0\n",
            "fsspec==2023.6.0\n",
            "future==0.18.3\n",
            "gast==0.4.0\n",
            "gcsfs==2023.6.0\n",
            "GDAL==3.4.3\n",
            "gdown==4.6.6\n",
            "gensim==4.3.1\n",
            "geographiclib==2.0\n",
            "geopandas==0.13.2\n",
            "geopy==2.3.0\n",
            "gin-config==0.5.0\n",
            "glob2==0.7\n",
            "google==2.0.3\n",
            "google-api-core==2.11.1\n",
            "google-api-python-client==2.84.0\n",
            "google-auth==2.17.3\n",
            "google-auth-httplib2==0.1.0\n",
            "google-auth-oauthlib==1.0.0\n",
            "google-cloud-bigquery==3.10.0\n",
            "google-cloud-bigquery-connection==1.12.1\n",
            "google-cloud-bigquery-storage==2.22.0\n",
            "google-cloud-core==2.3.3\n",
            "google-cloud-datastore==2.15.2\n",
            "google-cloud-firestore==2.11.1\n",
            "google-cloud-functions==1.13.1\n",
            "google-cloud-language==2.9.1\n",
            "google-cloud-storage==2.8.0\n",
            "google-cloud-translate==3.11.2\n",
            "google-colab @ file:///colabtools/dist/google-colab-1.0.0.tar.gz#sha256=fd063b941a094314f70e5d198209822b7ca0f660e0407eb015d18eab5071654a\n",
            "google-crc32c==1.5.0\n",
            "google-pasta==0.2.0\n",
            "google-resumable-media==2.5.0\n",
            "googleapis-common-protos==1.59.1\n",
            "googledrivedownloader==0.4\n",
            "graphviz==0.20.1\n",
            "greenlet==2.0.2\n",
            "grpc-google-iam-v1==0.12.6\n",
            "grpcio==1.56.0\n",
            "grpcio-status==1.48.2\n",
            "gspread==3.4.2\n",
            "gspread-dataframe==3.3.1\n",
            "gym==0.25.2\n",
            "gym-notices==0.0.8\n",
            "h5netcdf==1.2.0\n",
            "h5py==3.8.0\n",
            "holidays==0.29\n",
            "holoviews==1.15.4\n",
            "html5lib==1.1\n",
            "httpimport==1.3.0\n",
            "httplib2==0.21.0\n",
            "humanize==4.6.0\n",
            "hyperopt==0.2.7\n",
            "idna==3.4\n",
            "imageio==2.25.1\n",
            "imageio-ffmpeg==0.4.8\n",
            "imagesize==1.4.1\n",
            "imbalanced-learn==0.10.1\n",
            "imgaug==0.4.0\n",
            "importlib-metadata==4.6.4\n",
            "importlib-resources==6.0.0\n",
            "imutils==0.5.4\n",
            "inflect==6.0.5\n",
            "iniconfig==2.0.0\n",
            "intel-openmp==2023.2.0\n",
            "ipykernel==5.5.6\n",
            "ipython==7.34.0\n",
            "ipython-genutils==0.2.0\n",
            "ipython-sql==0.4.1\n",
            "ipywidgets==7.7.1\n",
            "isort==6.0.0b2\n",
            "itsdangerous==2.1.2\n",
            "jarvis-tools==2023.5.26\n",
            "jax==0.4.13\n",
            "jaxlib @ https://storage.googleapis.com/jax-releases/cuda11/jaxlib-0.4.13+cuda11.cudnn86-cp310-cp310-manylinux2014_x86_64.whl#sha256=af30095a0adf342b837a0ed9607e13177ee66f4e654c031a383aa546cd21d815\n",
            "jeepney==0.7.1\n",
            "jieba==0.42.1\n",
            "Jinja2==3.1.2\n",
            "joblib==1.3.1\n",
            "jsonpickle==3.0.1\n",
            "jsonschema==4.3.3\n",
            "jupyter-client==6.1.12\n",
            "jupyter-console==6.1.0\n",
            "jupyter-server==1.24.0\n",
            "jupyter_core==5.3.1\n",
            "jupyterlab-pygments==0.2.2\n",
            "jupyterlab-widgets==3.0.8\n",
            "kaggle==1.5.16\n",
            "keras==2.12.0\n",
            "keyring==23.5.0\n",
            "kiwisolver==1.4.4\n",
            "langcodes==3.3.0\n",
            "launchpadlib==1.10.16\n",
            "lazr.restfulclient==0.14.4\n",
            "lazr.uri==1.0.6\n",
            "lazy_loader==0.3\n",
            "libclang==16.0.6\n",
            "librosa==0.10.0.post2\n",
            "lightgbm==3.3.5\n",
            "lit==16.0.6\n",
            "littleutils==0.2.2\n",
            "llvmlite==0.39.1\n",
            "locket==1.0.0\n",
            "logical-unification==0.4.6\n",
            "LunarCalendar==0.0.9\n",
            "lxml==4.9.3\n",
            "Markdown==3.4.3\n",
            "markdown-it-py==3.0.0\n",
            "MarkupSafe==2.1.3\n",
            "matplotlib==3.1.3\n",
            "matplotlib-inline==0.1.6\n",
            "matplotlib-venn==0.11.9\n",
            "mccabe==0.7.0\n",
            "mdurl==0.1.2\n",
            "miniKanren==1.0.3\n",
            "missingno==0.5.2\n",
            "mistune==0.8.4\n",
            "mizani==0.8.1\n",
            "mkl==2019.0\n",
            "ml-dtypes==0.2.0\n",
            "mlxtend==0.22.0\n",
            "more-itertools==9.1.0\n",
            "moviepy==1.0.3\n",
            "mpmath==1.3.0\n",
            "msgpack==1.0.5\n",
            "multidict==6.0.4\n",
            "multipledispatch==1.0.0\n",
            "multitasking==0.0.11\n",
            "murmurhash==1.0.9\n",
            "music21==8.1.0\n",
            "natsort==8.3.1\n",
            "nbclient==0.8.0\n",
            "nbconvert==6.5.4\n",
            "nbformat==5.9.1\n",
            "nest-asyncio==1.5.6\n",
            "networkx==3.1\n",
            "nibabel==3.0.2\n",
            "nltk==3.8.1\n",
            "notebook==6.4.8\n",
            "numba==0.56.4\n",
            "numexpr==2.8.4\n",
            "numpy==1.22.4\n",
            "numpydoc==1.6.0rc1\n",
            "oauth2client==4.1.3\n",
            "oauthlib==3.2.2\n",
            "ogb==1.3.6\n",
            "opencv-contrib-python==4.7.0.72\n",
            "opencv-python==4.7.0.72\n",
            "opencv-python-headless==4.8.0.74\n",
            "openpyxl==3.0.10\n",
            "opt-einsum==3.3.0\n",
            "optax==0.1.5\n",
            "orbax-checkpoint==0.2.7\n",
            "osqp==0.6.2.post8\n",
            "outdated==0.2.2\n",
            "packaging==23.1\n",
            "palettable==3.3.3\n",
            "pandas==1.5.3\n",
            "pandas-datareader==0.10.0\n",
            "pandas-gbq==0.17.9\n",
            "pandocfilters==1.5.0\n",
            "panel==0.14.4\n",
            "param==1.13.0\n",
            "parso==0.8.3\n",
            "partd==1.4.0\n",
            "pathlib==1.0.1\n",
            "pathy==0.10.2\n",
            "patsy==0.5.3\n",
            "pexpect==4.8.0\n",
            "pickleshare==0.7.5\n",
            "Pillow==8.4.0\n",
            "pip-tools==6.13.0\n",
            "platformdirs==3.9.1\n",
            "plotly==5.13.1\n",
            "plotnine==0.10.1\n",
            "pluggy==1.2.0\n",
            "polars==0.17.3\n",
            "pooch==1.6.0\n",
            "portpicker==1.5.2\n",
            "prefetch-generator==1.0.3\n",
            "preshed==3.0.8\n",
            "prettytable==0.7.2\n",
            "proglog==0.1.10\n",
            "progressbar2==4.2.0\n",
            "prometheus-client==0.17.1\n",
            "promise==2.3\n",
            "prompt-toolkit==3.0.39\n",
            "prophet==1.1.4\n",
            "proto-plus==1.22.3\n",
            "protobuf==3.20.3\n",
            "psutil==5.9.5\n",
            "psycopg2==2.9.6\n",
            "ptyprocess==0.7.0\n",
            "py-cpuinfo==9.0.0\n",
            "py4j==0.10.9.7\n",
            "pyarrow==9.0.0\n",
            "pyasn1==0.5.0\n",
            "pyasn1-modules==0.3.0\n",
            "pycocotools==2.0.6\n",
            "pycodestyle==2.10.0\n",
            "pycparser==2.21\n",
            "pyct==0.5.0\n",
            "pydantic==1.8.1\n",
            "pydata-google-auth==1.8.1\n",
            "pydocstyle==6.3.0\n",
            "pydot==1.4.2\n",
            "pydot-ng==2.0.0\n",
            "pydotplus==2.0.2\n",
            "PyDrive==1.3.1\n",
            "pyerfa==2.0.0.3\n",
            "pyflakes==3.0.1\n",
            "pygame==2.5.0\n",
            "Pygments==2.14.0\n",
            "PyGObject==3.42.1\n",
            "PyJWT==2.3.0\n",
            "pymc==5.1.2\n",
            "PyMeeus==0.5.12\n",
            "pymystem3==0.2.0\n",
            "PyOpenGL==3.1.7\n",
            "pyparsing==2.4.7\n",
            "pyproj==3.6.0\n",
            "pyproject_hooks==1.0.0\n",
            "pyrsistent==0.19.3\n",
            "PySocks==1.7.1\n",
            "pytensor==2.10.1\n",
            "pytest==7.2.2\n",
            "python-apt==0.0.0\n",
            "python-dateutil==2.8.2\n",
            "python-louvain==0.16\n",
            "python-slugify==8.0.1\n",
            "python-utils==3.7.0\n",
            "pytorch-ignite==0.5.0.dev20230726\n",
            "pytz==2022.7.1\n",
            "pyviz-comms==2.3.2\n",
            "PyWavelets==1.4.1\n",
            "PyYAML==6.0.1\n",
            "pyzmq==23.2.1\n",
            "qdldl==0.1.7.post0\n",
            "qudida==0.0.4\n",
            "rdkit-pypi==2023.3.1b1\n",
            "regex==2022.10.31\n",
            "requests==2.27.1\n",
            "requests-oauthlib==1.3.1\n",
            "requirements-parser==0.5.0\n",
            "rich==13.4.2\n",
            "rpy2==3.5.5\n",
            "rsa==4.9\n",
            "ruamel.yaml==0.17.32\n",
            "ruamel.yaml.clib==0.2.7\n",
            "scikit-image==0.19.3\n",
            "scikit-learn==1.2.2\n",
            "scipy==1.10.1\n",
            "scs==3.2.3\n",
            "seaborn==0.12.2\n",
            "SecretStorage==3.3.1\n",
            "Send2Trash==1.8.2\n",
            "shapely==2.0.1\n",
            "six==1.16.0\n",
            "sklearn-pandas==2.2.0\n",
            "smart-open==6.3.0\n",
            "sniffio==1.3.0\n",
            "snowballstemmer==2.2.0\n",
            "sortedcontainers==2.4.0\n",
            "soundfile==0.12.1\n",
            "soupsieve==2.4.1\n",
            "soxr==0.3.5\n",
            "spacy==3.5.4\n",
            "spacy-legacy==3.0.12\n",
            "spacy-loggers==1.0.4\n",
            "spglib==2.0.2\n",
            "Sphinx==7.1.0\n",
            "sphinxcontrib-applehelp==1.0.4\n",
            "sphinxcontrib-devhelp==1.0.2\n",
            "sphinxcontrib-htmlhelp==2.0.1\n",
            "sphinxcontrib-jsmath==1.0.1\n",
            "sphinxcontrib-qthelp==1.0.3\n",
            "sphinxcontrib-serializinghtml==1.1.5\n",
            "SQLAlchemy==2.0.19\n",
            "sqlparse==0.4.4\n",
            "srsly==2.4.7\n",
            "statsmodels==0.13.5\n",
            "sympy==1.11.1\n",
            "tables==3.8.0\n",
            "tabulate==0.9.0\n",
            "tblib==2.0.0\n",
            "tenacity==8.2.2\n",
            "tensorboard==2.12.3\n",
            "tensorboard-data-server==0.7.1\n",
            "tensorflow==2.12.0\n",
            "tensorflow-datasets==4.9.2\n",
            "tensorflow-estimator==2.12.0\n",
            "tensorflow-gcs-config==2.12.0\n",
            "tensorflow-hub==0.14.0\n",
            "tensorflow-io-gcs-filesystem==0.32.0\n",
            "tensorflow-metadata==1.13.1\n",
            "tensorflow-probability==0.20.1\n",
            "tensorstore==0.1.40\n",
            "termcolor==2.3.0\n",
            "terminado==0.17.1\n",
            "text-unidecode==1.3\n",
            "textblob==0.17.1\n",
            "tf-slim==1.1.0\n",
            "thinc==8.1.10\n",
            "threadpoolctl==3.2.0\n",
            "tifffile==2023.7.10\n",
            "tinycss2==1.2.1\n",
            "toml==0.10.2\n",
            "tomli==2.0.1\n",
            "toolz==0.12.0\n",
            "torch @ https://download.pytorch.org/whl/cu118/torch-2.0.1%2Bcu118-cp310-cp310-linux_x86_64.whl#sha256=a7a49d459bf4862f64f7bc1a68beccf8881c2fa9f3e0569608e16ba6f85ebf7b\n",
            "torchaudio @ https://download.pytorch.org/whl/cu118/torchaudio-2.0.2%2Bcu118-cp310-cp310-linux_x86_64.whl#sha256=26692645ea061a005c57ec581a2d0425210ac6ba9f923edf11cc9b0ef3a111e9\n",
            "torchdata==0.6.1\n",
            "torchsummary==1.5.1\n",
            "torchtext==0.15.2\n",
            "torchvision @ https://download.pytorch.org/whl/cu118/torchvision-0.15.2%2Bcu118-cp310-cp310-linux_x86_64.whl#sha256=19ca4ab5d6179bbe53cff79df1a855ee6533c2861ddc7389f68349d8b9f8302a\n",
            "tornado==6.3.1\n",
            "tqdm==4.65.0\n",
            "traitlets==5.7.1\n",
            "triton==2.0.0\n",
            "tweepy==4.13.0\n",
            "typer==0.9.0\n",
            "types-setuptools==68.0.0.2\n",
            "typing_extensions==4.7.1\n",
            "tzlocal==5.0.1\n",
            "uritemplate==4.1.1\n",
            "urllib3==1.26.16\n",
            "vega-datasets==0.9.0\n",
            "wadllib==1.3.6\n",
            "wasabi==1.1.2\n",
            "wcwidth==0.2.6\n",
            "webcolors==1.13\n",
            "webencodings==0.5.1\n",
            "websocket-client==1.6.1\n",
            "Werkzeug==2.3.6\n",
            "widgetsnbextension==3.6.4\n",
            "wordcloud==1.8.2.2\n",
            "wrapt==1.14.1\n",
            "xarray==2022.12.0\n",
            "xarray-einstats==0.6.0\n",
            "xgboost==1.7.6\n",
            "xlrd==2.0.1\n",
            "xmltodict==0.13.0\n",
            "yarl==1.9.2\n",
            "yellowbrick==1.5\n",
            "yfinance==0.2.25\n",
            "zict==3.0.0\n",
            "zipp==3.16.2\n"
          ]
        }
      ]
    },
    {
      "cell_type": "code",
      "source": [],
      "metadata": {
        "id": "arZZybt0Nw_Z"
      },
      "execution_count": 35,
      "outputs": []
    }
  ]
}