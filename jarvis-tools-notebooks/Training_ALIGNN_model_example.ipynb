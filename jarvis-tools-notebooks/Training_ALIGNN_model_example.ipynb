{
  "nbformat": 4,
  "nbformat_minor": 0,
  "metadata": {
    "colab": {
      "name": "Training_ALIGNN_model_example.ipynb",
      "provenance": [],
      "gpuType": "T4",
      "include_colab_link": true
    },
    "kernelspec": {
      "display_name": "Python 3",
      "name": "python3"
    },
    "language_info": {
      "name": "python"
    },
    "accelerator": "GPU"
  },
  "cells": [
    {
      "cell_type": "markdown",
      "metadata": {
        "id": "view-in-github",
        "colab_type": "text"
      },
      "source": [
        "<a href=\"https://colab.research.google.com/github/knc6/jarvis-tools-notebooks/blob/master/jarvis-tools-notebooks/Training_ALIGNN_model_example.ipynb\" target=\"_parent\"><img src=\"https://colab.research.google.com/assets/colab-badge.svg\" alt=\"Open In Colab\"/></a>"
      ]
    },
    {
      "cell_type": "markdown",
      "metadata": {
        "id": "OUZGR6D82ij-"
      },
      "source": [
        "# Table of contents\n",
        "\n",
        "1. Installing [ALIGNN](https://github.com/usnistgov/alignn)\n",
        "2. Example training for regression on 50 materials,\n",
        "3. Using more than 70 pre-trained models to make fast predictions\n",
        "4. ALIGNN-FF Ase Calculator: predict energy/forces, optimized strcture, EV curves and phonons\n",
        "5. Train ALIGNN-FF on a new dataset\n",
        "6. Additional examples and dataset preparation example\n",
        "7. Add ALIGNN-results to the JARVIS-Leaderboard\n",
        "\n",
        "Author: Kamal Choudhary (kamal.choudhary@nist.gov)"
      ]
    },
    {
      "cell_type": "markdown",
      "source": [
        "## ALIGNN model ref.: https://www.nature.com/articles/s41524-021-00650-1\n",
        "## ALIGNN-FF ref.: https://pubs.rsc.org/en/content/articlehtml/2023/dd/d2dd00096b"
      ],
      "metadata": {
        "id": "IX40yUewTYCh"
      }
    },
    {
      "cell_type": "markdown",
      "source": [
        "# 1. Installation"
      ],
      "metadata": {
        "id": "5nZrLe0WJGIh"
      }
    },
    {
      "cell_type": "code",
      "source": [
        "!nvcc --version"
      ],
      "metadata": {
        "id": "fKllr0F0J8cu",
        "outputId": "9b6d2c15-3f8f-487b-f345-9b86703f2ca8",
        "colab": {
          "base_uri": "https://localhost:8080/"
        }
      },
      "execution_count": 1,
      "outputs": [
        {
          "output_type": "stream",
          "name": "stdout",
          "text": [
            "nvcc: NVIDIA (R) Cuda compiler driver\n",
            "Copyright (c) 2005-2023 NVIDIA Corporation\n",
            "Built on Tue_Aug_15_22:02:13_PDT_2023\n",
            "Cuda compilation tools, release 12.2, V12.2.140\n",
            "Build cuda_12.2.r12.2/compiler.33191640_0\n"
          ]
        }
      ]
    },
    {
      "cell_type": "markdown",
      "source": [
        "Bases on nvcc version, corresponding gpu version of dgl will be needed."
      ],
      "metadata": {
        "id": "NOoQNn-CJ_Z0"
      }
    },
    {
      "cell_type": "code",
      "source": [
        "%%time\n",
        "!pip install -q dgl==1.0.1+cu117 -f https://data.dgl.ai/wheels/cu117/repo.html\n",
        "!pip install -q alignn phonopy"
      ],
      "metadata": {
        "id": "aaqW5lOhrLlC",
        "outputId": "26d6cc9e-5f69-4e50-e29c-386339c4ab7a",
        "colab": {
          "base_uri": "https://localhost:8080/"
        }
      },
      "execution_count": 2,
      "outputs": [
        {
          "output_type": "stream",
          "name": "stdout",
          "text": [
            "\u001b[2K     \u001b[90m━━━━━━━━━━━━━━━━━━━━━━━━━━━━━━━━━━━━━━━━\u001b[0m \u001b[32m266.3/266.3 MB\u001b[0m \u001b[31m3.3 MB/s\u001b[0m eta \u001b[36m0:00:00\u001b[0m\n",
            "\u001b[2K     \u001b[90m━━━━━━━━━━━━━━━━━━━━━━━━━━━━━━━━━━━━━━━━\u001b[0m \u001b[32m105.3/105.3 kB\u001b[0m \u001b[31m3.7 MB/s\u001b[0m eta \u001b[36m0:00:00\u001b[0m\n",
            "\u001b[2K     \u001b[90m━━━━━━━━━━━━━━━━━━━━━━━━━━━━━━━━━━━━━━━━\u001b[0m \u001b[32m3.9/3.9 MB\u001b[0m \u001b[31m20.7 MB/s\u001b[0m eta \u001b[36m0:00:00\u001b[0m\n",
            "\u001b[?25h  Installing build dependencies ... \u001b[?25l\u001b[?25hdone\n",
            "  Getting requirements to build wheel ... \u001b[?25l\u001b[?25hdone\n",
            "  Preparing metadata (pyproject.toml) ... \u001b[?25l\u001b[?25hdone\n",
            "\u001b[2K     \u001b[90m━━━━━━━━━━━━━━━━━━━━━━━━━━━━━━━━━━━━━━━━\u001b[0m \u001b[32m975.7/975.7 kB\u001b[0m \u001b[31m27.4 MB/s\u001b[0m eta \u001b[36m0:00:00\u001b[0m\n",
            "\u001b[2K     \u001b[90m━━━━━━━━━━━━━━━━━━━━━━━━━━━━━━━━━━━━━━━━\u001b[0m \u001b[32m619.9/619.9 MB\u001b[0m \u001b[31m2.7 MB/s\u001b[0m eta \u001b[36m0:00:00\u001b[0m\n",
            "\u001b[2K     \u001b[90m━━━━━━━━━━━━━━━━━━━━━━━━━━━━━━━━━━━━━━━━\u001b[0m \u001b[32m515.3/515.3 kB\u001b[0m \u001b[31m39.7 MB/s\u001b[0m eta \u001b[36m0:00:00\u001b[0m\n",
            "\u001b[2K     \u001b[90m━━━━━━━━━━━━━━━━━━━━━━━━━━━━━━━━━━━━━━━━\u001b[0m \u001b[32m57.6/57.6 kB\u001b[0m \u001b[31m7.0 MB/s\u001b[0m eta \u001b[36m0:00:00\u001b[0m\n",
            "\u001b[2K     \u001b[90m━━━━━━━━━━━━━━━━━━━━━━━━━━━━━━━━━━━━━━━━\u001b[0m \u001b[32m67.8/67.8 kB\u001b[0m \u001b[31m8.5 MB/s\u001b[0m eta \u001b[36m0:00:00\u001b[0m\n",
            "\u001b[2K     \u001b[90m━━━━━━━━━━━━━━━━━━━━━━━━━━━━━━━━━━━━━━━━\u001b[0m \u001b[32m2.2/2.2 MB\u001b[0m \u001b[31m83.0 MB/s\u001b[0m eta \u001b[36m0:00:00\u001b[0m\n",
            "\u001b[2K     \u001b[90m━━━━━━━━━━━━━━━━━━━━━━━━━━━━━━━━━━━━━━━━\u001b[0m \u001b[32m62.7/62.7 kB\u001b[0m \u001b[31m8.3 MB/s\u001b[0m eta \u001b[36m0:00:00\u001b[0m\n",
            "\u001b[2K     \u001b[90m━━━━━━━━━━━━━━━━━━━━━━━━━━━━━━━━━━━━━━━━\u001b[0m \u001b[32m8.7/8.7 MB\u001b[0m \u001b[31m84.8 MB/s\u001b[0m eta \u001b[36m0:00:00\u001b[0m\n",
            "\u001b[2K     \u001b[90m━━━━━━━━━━━━━━━━━━━━━━━━━━━━━━━━━━━━━━━━\u001b[0m \u001b[32m21.0/21.0 MB\u001b[0m \u001b[31m71.4 MB/s\u001b[0m eta \u001b[36m0:00:00\u001b[0m\n",
            "\u001b[2K     \u001b[90m━━━━━━━━━━━━━━━━━━━━━━━━━━━━━━━━━━━━━━━━\u001b[0m \u001b[32m849.3/849.3 kB\u001b[0m \u001b[31m58.2 MB/s\u001b[0m eta \u001b[36m0:00:00\u001b[0m\n",
            "\u001b[2K     \u001b[90m━━━━━━━━━━━━━━━━━━━━━━━━━━━━━━━━━━━━━━━━\u001b[0m \u001b[32m11.8/11.8 MB\u001b[0m \u001b[31m80.2 MB/s\u001b[0m eta \u001b[36m0:00:00\u001b[0m\n",
            "\u001b[2K     \u001b[90m━━━━━━━━━━━━━━━━━━━━━━━━━━━━━━━━━━━━━━━━\u001b[0m \u001b[32m557.1/557.1 MB\u001b[0m \u001b[31m2.9 MB/s\u001b[0m eta \u001b[36m0:00:00\u001b[0m\n",
            "\u001b[2K     \u001b[90m━━━━━━━━━━━━━━━━━━━━━━━━━━━━━━━━━━━━━━━━\u001b[0m \u001b[32m317.1/317.1 MB\u001b[0m \u001b[31m2.5 MB/s\u001b[0m eta \u001b[36m0:00:00\u001b[0m\n",
            "\u001b[2K     \u001b[90m━━━━━━━━━━━━━━━━━━━━━━━━━━━━━━━━━━━━━━━━\u001b[0m \u001b[32m168.4/168.4 MB\u001b[0m \u001b[31m7.2 MB/s\u001b[0m eta \u001b[36m0:00:00\u001b[0m\n",
            "\u001b[2K     \u001b[90m━━━━━━━━━━━━━━━━━━━━━━━━━━━━━━━━━━━━━━━━\u001b[0m \u001b[32m54.6/54.6 MB\u001b[0m \u001b[31m11.7 MB/s\u001b[0m eta \u001b[36m0:00:00\u001b[0m\n",
            "\u001b[2K     \u001b[90m━━━━━━━━━━━━━━━━━━━━━━━━━━━━━━━━━━━━━━━━\u001b[0m \u001b[32m102.6/102.6 MB\u001b[0m \u001b[31m8.9 MB/s\u001b[0m eta \u001b[36m0:00:00\u001b[0m\n",
            "\u001b[2K     \u001b[90m━━━━━━━━━━━━━━━━━━━━━━━━━━━━━━━━━━━━━━━━\u001b[0m \u001b[32m173.2/173.2 MB\u001b[0m \u001b[31m6.2 MB/s\u001b[0m eta \u001b[36m0:00:00\u001b[0m\n",
            "\u001b[2K     \u001b[90m━━━━━━━━━━━━━━━━━━━━━━━━━━━━━━━━━━━━━━━━\u001b[0m \u001b[32m177.1/177.1 MB\u001b[0m \u001b[31m7.0 MB/s\u001b[0m eta \u001b[36m0:00:00\u001b[0m\n",
            "\u001b[2K     \u001b[90m━━━━━━━━━━━━━━━━━━━━━━━━━━━━━━━━━━━━━━━━\u001b[0m \u001b[32m98.6/98.6 kB\u001b[0m \u001b[31m12.3 MB/s\u001b[0m eta \u001b[36m0:00:00\u001b[0m\n",
            "\u001b[2K     \u001b[90m━━━━━━━━━━━━━━━━━━━━━━━━━━━━━━━━━━━━━━━━\u001b[0m \u001b[32m63.3/63.3 MB\u001b[0m \u001b[31m10.2 MB/s\u001b[0m eta \u001b[36m0:00:00\u001b[0m\n",
            "\u001b[2K     \u001b[90m━━━━━━━━━━━━━━━━━━━━━━━━━━━━━━━━━━━━━━━━\u001b[0m \u001b[32m161.1/161.1 kB\u001b[0m \u001b[31m20.2 MB/s\u001b[0m eta \u001b[36m0:00:00\u001b[0m\n",
            "\u001b[?25h  Installing build dependencies ... \u001b[?25l\u001b[?25hdone\n",
            "  Getting requirements to build wheel ... \u001b[?25l\u001b[?25hdone\n",
            "  Installing backend dependencies ... \u001b[?25l\u001b[?25hdone\n",
            "  Preparing metadata (pyproject.toml) ... \u001b[?25l\u001b[?25hdone\n",
            "\u001b[2K     \u001b[90m━━━━━━━━━━━━━━━━━━━━━━━━━━━━━━━━━━━━━━━━\u001b[0m \u001b[32m3.7/3.7 MB\u001b[0m \u001b[31m101.6 MB/s\u001b[0m eta \u001b[36m0:00:00\u001b[0m\n",
            "\u001b[?25h  Preparing metadata (setup.py) ... \u001b[?25l\u001b[?25hdone\n",
            "\u001b[2K     \u001b[90m━━━━━━━━━━━━━━━━━━━━━━━━━━━━━━━━━━━━━━━━\u001b[0m \u001b[32m250.8/250.8 kB\u001b[0m \u001b[31m29.9 MB/s\u001b[0m eta \u001b[36m0:00:00\u001b[0m\n",
            "\u001b[2K     \u001b[90m━━━━━━━━━━━━━━━━━━━━━━━━━━━━━━━━━━━━━━━━\u001b[0m \u001b[32m83.0/83.0 kB\u001b[0m \u001b[31m12.0 MB/s\u001b[0m eta \u001b[36m0:00:00\u001b[0m\n",
            "\u001b[?25h  Building wheel for phonopy (pyproject.toml) ... \u001b[?25l\u001b[?25hdone\n",
            "  Building wheel for paginate (setup.py) ... \u001b[?25l\u001b[?25hdone\n",
            "  Building wheel for lit (pyproject.toml) ... \u001b[?25l\u001b[?25hdone\n",
            "\u001b[31mERROR: pip's dependency resolver does not currently take into account all the packages that are installed. This behaviour is the source of the following dependency conflicts.\n",
            "torchaudio 2.2.1+cu121 requires torch==2.2.1, but you have torch 2.0.0 which is incompatible.\n",
            "torchtext 0.17.1 requires torch==2.2.1, but you have torch 2.0.0 which is incompatible.\n",
            "torchvision 0.17.1+cu121 requires torch==2.2.1, but you have torch 2.0.0 which is incompatible.\u001b[0m\u001b[31m\n",
            "\u001b[0mCPU times: user 1.5 s, sys: 246 ms, total: 1.74 s\n",
            "Wall time: 3min 11s\n"
          ]
        }
      ]
    },
    {
      "cell_type": "code",
      "metadata": {
        "id": "WFrl_N-S1Bxk"
      },
      "source": [
        "# %%time\n",
        "# !pip install --pre dgl -f https://data.dgl.ai/wheels/cu118/repo.html\n",
        "# !pip install --pre dglgo -f https://data.dgl.ai/wheels-test/repo.html\n",
        "# !pip install alignn phonopy"
      ],
      "execution_count": null,
      "outputs": []
    },
    {
      "cell_type": "code",
      "metadata": {
        "colab": {
          "base_uri": "https://localhost:8080/"
        },
        "id": "JyyE-cHL2iOn",
        "outputId": "65baca1c-e415-4f18-e17d-eb0e39b502c4"
      },
      "source": [
        "import os\n",
        "!pwd\n",
        "os.chdir('/content')\n",
        "# Clone ALIGNN repo to get example folder\n",
        "if not os.path.exists('alignn'):\n",
        "  !git clone https://github.com/usnistgov/alignn.git\n",
        "\n",
        "os.chdir('alignn')\n",
        "# Install using setup.py in case pip didn't work\n",
        "# !python setup.py develop\n",
        "\n",
        "#!pip install dgl-cu111 # Colab has cuda 11.1"
      ],
      "execution_count": 3,
      "outputs": [
        {
          "output_type": "stream",
          "name": "stdout",
          "text": [
            "/content\n",
            "Cloning into 'alignn'...\n",
            "remote: Enumerating objects: 4409, done.\u001b[K\n",
            "remote: Counting objects: 100% (1345/1345), done.\u001b[K\n",
            "remote: Compressing objects: 100% (411/411), done.\u001b[K\n",
            "remote: Total 4409 (delta 1106), reused 983 (delta 922), pack-reused 3064\u001b[K\n",
            "Receiving objects: 100% (4409/4409), 154.35 MiB | 17.12 MiB/s, done.\n",
            "Resolving deltas: 100% (2630/2630), done.\n"
          ]
        }
      ]
    },
    {
      "cell_type": "markdown",
      "metadata": {
        "id": "wsJg4A_s2umV"
      },
      "source": [
        "Example folder with id_prop.csv and 'POSCAR files.'"
      ]
    },
    {
      "cell_type": "code",
      "metadata": {
        "id": "cy1tmx3V2uC7",
        "colab": {
          "base_uri": "https://localhost:8080/"
        },
        "outputId": "34c6f317-45cd-4b7f-a725-9998cf30f7ec"
      },
      "source": [
        "!ls \"alignn/examples/sample_data\""
      ],
      "execution_count": 4,
      "outputs": [
        {
          "output_type": "stream",
          "name": "stdout",
          "text": [
            "config_example.json\t  POSCAR-JVASP-48166.vasp  POSCAR-JVASP-76312.vasp  POSCAR-JVASP-90228.vasp\n",
            "id_prop.csv\t\t  POSCAR-JVASP-50332.vasp  POSCAR-JVASP-76313.vasp  POSCAR-JVASP-90532.vasp\n",
            "POSCAR-JVASP-107772.vasp  POSCAR-JVASP-60596.vasp  POSCAR-JVASP-76318.vasp  POSCAR-JVASP-90856.vasp\n",
            "POSCAR-JVASP-10.vasp\t  POSCAR-JVASP-60702.vasp  POSCAR-JVASP-76515.vasp  POSCAR-JVASP-97378.vasp\n",
            "POSCAR-JVASP-13526.vasp   POSCAR-JVASP-63912.vasp  POSCAR-JVASP-76516.vasp  POSCAR-JVASP-97499.vasp\n",
            "POSCAR-JVASP-1372.vasp\t  POSCAR-JVASP-64003.vasp  POSCAR-JVASP-76525.vasp  POSCAR-JVASP-97570.vasp\n",
            "POSCAR-JVASP-14014.vasp   POSCAR-JVASP-64045.vasp  POSCAR-JVASP-76528.vasp  POSCAR-JVASP-97677.vasp\n",
            "POSCAR-JVASP-14441.vasp   POSCAR-JVASP-64240.vasp  POSCAR-JVASP-76536.vasp  POSCAR-JVASP-97799.vasp\n",
            "POSCAR-JVASP-14873.vasp   POSCAR-JVASP-64377.vasp  POSCAR-JVASP-76548.vasp  POSCAR-JVASP-97915.vasp\n",
            "POSCAR-JVASP-15345.vasp   POSCAR-JVASP-64584.vasp  POSCAR-JVASP-76549.vasp  POSCAR-JVASP-97984.vasp\n",
            "POSCAR-JVASP-1996.vasp\t  POSCAR-JVASP-64664.vasp  POSCAR-JVASP-76562.vasp  POSCAR-JVASP-98167.vasp\n",
            "POSCAR-JVASP-21210.vasp   POSCAR-JVASP-64719.vasp  POSCAR-JVASP-76567.vasp  POSCAR-JVASP-98224.vasp\n",
            "POSCAR-JVASP-22556.vasp   POSCAR-JVASP-64906.vasp  POSCAR-JVASP-86097.vasp  POSCAR-JVASP-98225.vasp\n",
            "POSCAR-JVASP-27901.vasp   POSCAR-JVASP-65062.vasp  POSCAR-JVASP-86205.vasp  POSCAR-JVASP-98284.vasp\n",
            "POSCAR-JVASP-28397.vasp   POSCAR-JVASP-65101.vasp  POSCAR-JVASP-86436.vasp  POSCAR-JVASP-98550.vasp\n",
            "POSCAR-JVASP-28565.vasp   POSCAR-JVASP-655.vasp    POSCAR-JVASP-86726.vasp  scripts\n",
            "POSCAR-JVASP-28634.vasp   POSCAR-JVASP-676.vasp    POSCAR-JVASP-86968.vasp\n",
            "POSCAR-JVASP-28704.vasp   POSCAR-JVASP-76308.vasp  POSCAR-JVASP-89025.vasp\n",
            "POSCAR-JVASP-42300.vasp   POSCAR-JVASP-76309.vasp  POSCAR-JVASP-89265.vasp\n"
          ]
        }
      ]
    },
    {
      "cell_type": "markdown",
      "source": [
        "# 2. Example regression task"
      ],
      "metadata": {
        "id": "Or-6HukwJM3q"
      }
    },
    {
      "cell_type": "markdown",
      "metadata": {
        "id": "jUNiKBBV211E"
      },
      "source": [
        "# 50 materials and their bandgap data generated with the script [generate_sample_data_reg.py](https://github.com/usnistgov/alignn/blob/main/alignn/examples/sample_data/scripts/generate_sample_data_reg.py)"
      ]
    },
    {
      "cell_type": "markdown",
      "metadata": {
        "id": "FbzuGCA332yS"
      },
      "source": [
        "# Train a model for 3 epochs and batch size of 2. Other parameters are provided in `config_example.json` file."
      ]
    },
    {
      "cell_type": "markdown",
      "source": [
        "#Note: For an involved training, use higher batch size such as 16 and epochs such as 300."
      ],
      "metadata": {
        "id": "joYmjL1pStC4"
      }
    },
    {
      "cell_type": "markdown",
      "metadata": {
        "id": "HNHla4FDKRre"
      },
      "source": [
        "Command line train_folder.py is used below."
      ]
    },
    {
      "cell_type": "code",
      "metadata": {
        "id": "l5JkSMwx2cfy",
        "colab": {
          "base_uri": "https://localhost:8080/"
        },
        "outputId": "b45bbd17-7b75-4cf8-9889-d1aa2be7a4ab"
      },
      "source": [
        "import time\n",
        "t1=time.time()\n",
        "!train_alignn.py --root_dir \"alignn/examples/sample_data\" --epochs 3 --batch_size 2 --config \"alignn/examples/sample_data/config_example.json\" --output_dir=temp\n",
        "t2=time.time()\n",
        "print ('Time in s',t2-t1)"
      ],
      "execution_count": 5,
      "outputs": [
        {
          "output_type": "stream",
          "name": "stdout",
          "text": [
            "DGL backend not selected or invalid.  Assuming PyTorch for now.\n",
            "Setting the default backend to \"pytorch\". You can change it in the ~/.dgl/config.json file or export the DGLBACKEND environment variable.  Valid options are: pytorch, mxnet, tensorflow (all lowercase)\n",
            "id_prop_csv_file exists True\n",
            "len dataset 50\n",
            "MAX val: 6.149\n",
            "MIN val: 0.0\n",
            "MAD: 1.0520696\n",
            "Baseline MAE: 2.3805500000000004\n",
            "data range 4.907 0.0\n",
            "Converting to graphs!\n",
            "40it [00:01, 26.16it/s]\n",
            "df                         jid  target                                              atoms\n",
            "0   POSCAR-JVASP-90856.vasp   0.000  {'lattice_mat': [[3.566933224304235, 0.0, -0.0...\n",
            "1   POSCAR-JVASP-86097.vasp   0.000  {'lattice_mat': [[4.089078911208881, 0.0, 0.0]...\n",
            "2   POSCAR-JVASP-64906.vasp   0.000  {'lattice_mat': [[-1.833590720595598, 1.833590...\n",
            "3   POSCAR-JVASP-98225.vasp   0.472  {'lattice_mat': [[7.2963518353359165, 0.0, 0.0...\n",
            "4      POSCAR-JVASP-10.vasp   0.000  {'lattice_mat': [[1.6777483798834445, -2.90594...\n",
            "5   POSCAR-JVASP-14014.vasp   0.000  {'lattice_mat': [[4.157436115454804, -0.0, 0.0...\n",
            "6   POSCAR-JVASP-64664.vasp   0.000  {'lattice_mat': [[0.0, 5.1858714074842, 5.1858...\n",
            "7   POSCAR-JVASP-22556.vasp   0.000  {'lattice_mat': [[3.790914410660539, -0.0, 0.0...\n",
            "8   POSCAR-JVASP-86726.vasp   0.000  {'lattice_mat': [[4.284492173131309, 1.636192e...\n",
            "9   POSCAR-JVASP-28634.vasp   0.689  {'lattice_mat': [[3.2250494729190726, 2.216578...\n",
            "10  POSCAR-JVASP-98550.vasp   1.517  {'lattice_mat': [[5.587070827330502, -0.006443...\n",
            "11  POSCAR-JVASP-89265.vasp   0.000  {'lattice_mat': [[4.927781968323723, -0.0, 0.0...\n",
            "12  POSCAR-JVASP-97915.vasp   0.000  {'lattice_mat': [[10.725911963093319, 1.159968...\n",
            "13  POSCAR-JVASP-90228.vasp   0.000  {'lattice_mat': [[5.140164879556414, 0.3718366...\n",
            "14  POSCAR-JVASP-42300.vasp   0.000  {'lattice_mat': [[5.194393535053021, 0.0345773...\n",
            "15  POSCAR-JVASP-86968.vasp   2.122  {'lattice_mat': [[4.927229198330356, -0.0, -0....\n",
            "16  POSCAR-JVASP-90532.vasp   0.000  {'lattice_mat': [[4.839493559425439, 9.7116505...\n",
            "17  POSCAR-JVASP-50332.vasp   0.000  {'lattice_mat': [[-2.2512310528422197, 1.49649...\n",
            "18  POSCAR-JVASP-86205.vasp   0.000  {'lattice_mat': [[7.709535704177289, 2.46207e-...\n",
            "19  POSCAR-JVASP-28704.vasp   0.502  {'lattice_mat': [[3.292134155794691, 0.0, 0.0]...\n",
            "20  POSCAR-JVASP-60702.vasp   1.197  {'lattice_mat': [[9.067075684180468, -0.0, 0.0...\n",
            "21  POSCAR-JVASP-97799.vasp   0.560  {'lattice_mat': [[6.850665464204784, -0.0, 0.0...\n",
            "22  POSCAR-JVASP-28565.vasp   0.051  {'lattice_mat': [[3.3542337275744103, 0.0, 0.0...\n",
            "23  POSCAR-JVASP-86436.vasp   4.907  {'lattice_mat': [[4.509029640475962, 0.0564034...\n",
            "24   POSCAR-JVASP-1372.vasp   1.681  {'lattice_mat': [[3.5058938597621094, -3.08124...\n",
            "25  POSCAR-JVASP-14873.vasp   0.016  {'lattice_mat': [[4.191262576674699, 0.0, -0.0...\n",
            "26  POSCAR-JVASP-28397.vasp   0.658  {'lattice_mat': [[0.0, -3.9587610833154616, 0....\n",
            "27  POSCAR-JVASP-98284.vasp   0.000  {'lattice_mat': [[4.084155317570781, -1.066825...\n",
            "28  POSCAR-JVASP-89025.vasp   2.472  {'lattice_mat': [[9.407270982425844, 0.0171637...\n",
            "29   POSCAR-JVASP-1996.vasp   3.851  {'lattice_mat': [[3.93712543178282, 0.0, 2.273...\n",
            "30  POSCAR-JVASP-48166.vasp   0.482  {'lattice_mat': [[-0.0127275386492899, 4.47534...\n",
            "31  POSCAR-JVASP-15345.vasp   0.000  {'lattice_mat': [[3.5666343258756448, 0.0, 0.0...\n",
            "32  POSCAR-JVASP-97378.vasp   0.924  {'lattice_mat': [[7.843871888963013, 0.0, 0.0]...\n",
            "33  POSCAR-JVASP-97984.vasp   4.030  {'lattice_mat': [[5.157077730332642, 0.0020004...\n",
            "34  POSCAR-JVASP-98224.vasp   0.000  {'lattice_mat': [[3.8114364321417686, 0.0, 0.0...\n",
            "35  POSCAR-JVASP-98167.vasp   0.239  {'lattice_mat': [[5.464512229851642, 0.0, -2.0...\n",
            "36  POSCAR-JVASP-64045.vasp   0.000  {'lattice_mat': [[0.0, 4.936437902689708, 4.93...\n",
            "37  POSCAR-JVASP-63912.vasp   0.000  {'lattice_mat': [[0.0, 4.893247728183244, 4.89...\n",
            "38  POSCAR-JVASP-64003.vasp   0.000  {'lattice_mat': [[0.0, 4.901572410735, 4.90157...\n",
            "39  POSCAR-JVASP-64584.vasp   0.000  {'lattice_mat': [[0.0, 5.104615296684174, 5.10...\n",
            "warning: could not load CGCNN features for 103\n",
            "Setting it to max atomic number available here, 103\n",
            "warning: could not load CGCNN features for 101\n",
            "Setting it to max atomic number available here, 103\n",
            "warning: could not load CGCNN features for 102\n",
            "Setting it to max atomic number available here, 103\n",
            "building line graphs\n",
            "100% 40/40 [00:00<00:00, 1510.45it/s]\n",
            "data range 1.569 0.0\n",
            "Converting to graphs!\n",
            "5it [00:00, 39.35it/s]\n",
            "df                         jid  target                                              atoms\n",
            "0   POSCAR-JVASP-64240.vasp   0.000  {'lattice_mat': [[-0.0, 5.040771484524319, 5.0...\n",
            "1  POSCAR-JVASP-107772.vasp   0.000  {'lattice_mat': [[4.376835486482439, 0.0086562...\n",
            "2   POSCAR-JVASP-64719.vasp   0.000  {'lattice_mat': [[-0.0, 5.037541505850243, 5.0...\n",
            "3   POSCAR-JVASP-97499.vasp   1.569  {'lattice_mat': [[10.37325585559557, -2.271858...\n",
            "4   POSCAR-JVASP-64377.vasp   0.000  {'lattice_mat': [[0.0, 5.129874508851702, 5.12...\n",
            "building line graphs\n",
            "100% 5/5 [00:00<00:00, 899.99it/s]\n",
            "data range 6.149 0.0\n",
            "Converting to graphs!\n",
            "5it [00:00, 39.18it/s]\n",
            "df                        jid  target                                              atoms\n",
            "0  POSCAR-JVASP-21210.vasp   6.149  {'lattice_mat': [[1.6712283e-08, -2.5080296697...\n",
            "1  POSCAR-JVASP-97677.vasp   4.072  {'lattice_mat': [[6.603532697435508, 0.0, -0.0...\n",
            "2  POSCAR-JVASP-65101.vasp   0.000  {'lattice_mat': [[-0.0, 4.517300851474054, 4.5...\n",
            "3  POSCAR-JVASP-65062.vasp   0.000  {'lattice_mat': [[-0.0, 4.326757913323647, 4.3...\n",
            "4  POSCAR-JVASP-97570.vasp   2.341  {'lattice_mat': [[6.9098665629767275, 0.128626...\n",
            "building line graphs\n",
            "100% 5/5 [00:00<00:00, 831.91it/s]\n",
            "n_train: 40\n",
            "n_val  : 5\n",
            "n_test : 5\n",
            "version='112bbedebdaecf59fb18e11c929080fb2f358246' dataset='user_data' target='target' atom_features='cgcnn' neighbor_strategy='k-nearest' id_tag='jid' random_seed=123 classification_threshold=None n_val=None n_test=None n_train=None train_ratio=0.8 val_ratio=0.1 test_ratio=0.1 target_multiplication_factor=None epochs=3 batch_size=2 weight_decay=1e-05 learning_rate=0.001 filename='sample' warmup_steps=2000 criterion='mse' optimizer='adamw' scheduler='onecycle' pin_memory=False save_dataloader=False write_checkpoint=True write_predictions=True store_outputs=True progress=True log_tensorboard=False standard_scalar_and_pca=False use_canonize=True num_workers=0 cutoff=8.0 cutoff_extra=3.0 max_neighbors=12 keep_data_order=True normalize_graph_level_loss=False distributed=False data_parallel=False n_early_stopping=None output_dir='temp' model=ALIGNNAtomWiseConfig(name='alignn_atomwise', alignn_layers=4, gcn_layers=4, atom_input_features=92, edge_input_features=80, triplet_input_features=40, embedding_features=64, hidden_features=256, output_features=1, grad_multiplier=-1, calculate_gradient=True, atomwise_output_features=0, graphwise_weight=1.0, gradwise_weight=0.0, stresswise_weight=0.0, atomwise_weight=0.0, link='identity', zero_inflated=False, classification=False, force_mult_natoms=False, energy_mult_natoms=False, include_pos_deriv=False, use_cutoff_function=False, inner_cutoff=6.0, stress_multiplier=1.0, add_reverse_forces=False, lg_on_fly=False, batch_stress=True, extra_features=0)\n",
            "config:\n",
            "{'atom_features': 'cgcnn',\n",
            " 'batch_size': 2,\n",
            " 'classification_threshold': None,\n",
            " 'criterion': 'mse',\n",
            " 'cutoff': 8.0,\n",
            " 'cutoff_extra': 3.0,\n",
            " 'data_parallel': False,\n",
            " 'dataset': 'user_data',\n",
            " 'distributed': False,\n",
            " 'epochs': 3,\n",
            " 'filename': 'sample',\n",
            " 'id_tag': 'jid',\n",
            " 'keep_data_order': True,\n",
            " 'learning_rate': 0.001,\n",
            " 'log_tensorboard': False,\n",
            " 'max_neighbors': 12,\n",
            " 'model': {'add_reverse_forces': False,\n",
            "           'alignn_layers': 4,\n",
            "           'atom_input_features': 92,\n",
            "           'atomwise_output_features': 0,\n",
            "           'atomwise_weight': 0.0,\n",
            "           'batch_stress': True,\n",
            "           'calculate_gradient': True,\n",
            "           'classification': False,\n",
            "           'edge_input_features': 80,\n",
            "           'embedding_features': 64,\n",
            "           'energy_mult_natoms': False,\n",
            "           'extra_features': 0,\n",
            "           'force_mult_natoms': False,\n",
            "           'gcn_layers': 4,\n",
            "           'grad_multiplier': -1,\n",
            "           'gradwise_weight': 0.0,\n",
            "           'graphwise_weight': 1.0,\n",
            "           'hidden_features': 256,\n",
            "           'include_pos_deriv': False,\n",
            "           'inner_cutoff': 6.0,\n",
            "           'lg_on_fly': False,\n",
            "           'link': 'identity',\n",
            "           'name': 'alignn_atomwise',\n",
            "           'output_features': 1,\n",
            "           'stress_multiplier': 1.0,\n",
            "           'stresswise_weight': 0.0,\n",
            "           'triplet_input_features': 40,\n",
            "           'use_cutoff_function': False,\n",
            "           'zero_inflated': False},\n",
            " 'n_early_stopping': None,\n",
            " 'n_test': None,\n",
            " 'n_train': None,\n",
            " 'n_val': None,\n",
            " 'neighbor_strategy': 'k-nearest',\n",
            " 'normalize_graph_level_loss': False,\n",
            " 'num_workers': 0,\n",
            " 'optimizer': 'adamw',\n",
            " 'output_dir': 'temp',\n",
            " 'pin_memory': False,\n",
            " 'progress': True,\n",
            " 'random_seed': 123,\n",
            " 'save_dataloader': False,\n",
            " 'scheduler': 'onecycle',\n",
            " 'standard_scalar_and_pca': False,\n",
            " 'store_outputs': True,\n",
            " 'target': 'target',\n",
            " 'target_multiplication_factor': None,\n",
            " 'test_ratio': 0.1,\n",
            " 'train_ratio': 0.8,\n",
            " 'use_canonize': True,\n",
            " 'val_ratio': 0.1,\n",
            " 'version': '112bbedebdaecf59fb18e11c929080fb2f358246',\n",
            " 'warmup_steps': 2000,\n",
            " 'weight_decay': 1e-05,\n",
            " 'write_checkpoint': True,\n",
            " 'write_predictions': True}\n",
            "/usr/local/lib/python3.10/dist-packages/dgl/backend/pytorch/tensor.py:445: UserWarning: TypedStorage is deprecated. It will be removed in the future and UntypedStorage will be the only storage class. This should only matter to you if you are using storages directly.  To access UntypedStorage directly, use tensor.untyped_storage() instead of tensor.storage()\n",
            "  assert input.numel() == input.storage().size(), (\n",
            "/usr/local/lib/python3.10/dist-packages/torch/optim/lr_scheduler.py:139: UserWarning: Detected call of `lr_scheduler.step()` before `optimizer.step()`. In PyTorch 1.1.0 and later, you should call them in the opposite order: `optimizer.step()` before `lr_scheduler.step()`.  Failure to do this will result in PyTorch skipping the first value of the learning rate schedule. See more details at https://pytorch.org/docs/stable/optim.html#how-to-adjust-learning-rate\n",
            "  warnings.warn(\"Detected call of `lr_scheduler.step()` before `optimizer.step()`. \"\n",
            "TrainLoss Epoch 0 total 58.33585016429424 out 2.9167925043497234 atom nan grad nan stress nan time 4.975928544998169\n",
            "/usr/local/lib/python3.10/dist-packages/dgl/backend/pytorch/tensor.py:445: UserWarning: TypedStorage is deprecated. It will be removed in the future and UntypedStorage will be the only storage class. This should only matter to you if you are using storages directly.  To access UntypedStorage directly, use tensor.untyped_storage() instead of tensor.storage()\n",
            "  assert input.numel() == input.storage().size(), (\n",
            "ValLoss Epoch 0 total 2.679831027984619 out 1.339915543794632 atom nan grad nan stress nan Saving model\n",
            "/usr/local/lib/python3.10/dist-packages/dgl/backend/pytorch/tensor.py:445: UserWarning: TypedStorage is deprecated. It will be removed in the future and UntypedStorage will be the only storage class. This should only matter to you if you are using storages directly.  To access UntypedStorage directly, use tensor.untyped_storage() instead of tensor.storage()\n",
            "  assert input.numel() == input.storage().size(), (\n",
            "TrainLoss Epoch 1 total 19.570571959018707 out 0.9785286033060402 atom nan grad nan stress nan time 1.829740047454834\n",
            "/usr/local/lib/python3.10/dist-packages/dgl/backend/pytorch/tensor.py:445: UserWarning: TypedStorage is deprecated. It will be removed in the future and UntypedStorage will be the only storage class. This should only matter to you if you are using storages directly.  To access UntypedStorage directly, use tensor.untyped_storage() instead of tensor.storage()\n",
            "  assert input.numel() == input.storage().size(), (\n",
            "ValLoss Epoch 1 total 1.4590988755226135 out 0.7295494377613068 atom nan grad nan stress nan Saving model\n",
            "/usr/local/lib/python3.10/dist-packages/dgl/backend/pytorch/tensor.py:445: UserWarning: TypedStorage is deprecated. It will be removed in the future and UntypedStorage will be the only storage class. This should only matter to you if you are using storages directly.  To access UntypedStorage directly, use tensor.untyped_storage() instead of tensor.storage()\n",
            "  assert input.numel() == input.storage().size(), (\n",
            "TrainLoss Epoch 2 total 17.384468272328377 out 0.8692234123591334 atom nan grad nan stress nan time 1.9025967121124268\n",
            "/usr/local/lib/python3.10/dist-packages/dgl/backend/pytorch/tensor.py:445: UserWarning: TypedStorage is deprecated. It will be removed in the future and UntypedStorage will be the only storage class. This should only matter to you if you are using storages directly.  To access UntypedStorage directly, use tensor.untyped_storage() instead of tensor.storage()\n",
            "  assert input.numel() == input.storage().size(), (\n",
            "ValLoss Epoch 2 total 1.6376129984855652 out 0.8188064992427826 atom nan grad nan stress nan \n",
            "/usr/local/lib/python3.10/dist-packages/dgl/backend/pytorch/tensor.py:445: UserWarning: TypedStorage is deprecated. It will be removed in the future and UntypedStorage will be the only storage class. This should only matter to you if you are using storages directly.  To access UntypedStorage directly, use tensor.untyped_storage() instead of tensor.storage()\n",
            "  assert input.numel() == input.storage().size(), (\n",
            "/usr/local/lib/python3.10/dist-packages/torch/nn/modules/loss.py:101: UserWarning: Using a target size (torch.Size([1])) that is different to the input size (torch.Size([])). This will likely lead to incorrect results due to broadcasting. Please ensure they have the same size.\n",
            "  return F.l1_loss(input, target, reduction=self.reduction)\n",
            "TestLoss 2 10.700577020645142\n",
            "Test MAE: 2.1401154160499574\n",
            "/usr/local/lib/python3.10/dist-packages/dgl/backend/pytorch/tensor.py:445: UserWarning: TypedStorage is deprecated. It will be removed in the future and UntypedStorage will be the only storage class. This should only matter to you if you are using storages directly.  To access UntypedStorage directly, use tensor.untyped_storage() instead of tensor.storage()\n",
            "  assert input.numel() == input.storage().size(), (\n",
            "Time taken (s) 11.098784685134888\n",
            "Time in s 24.74451184272766\n"
          ]
        }
      ]
    },
    {
      "cell_type": "code",
      "source": [
        "!ls"
      ],
      "metadata": {
        "id": "tE8JPqIWQ10F",
        "outputId": "9b93067d-7712-419d-b7ee-38ab9755d346",
        "colab": {
          "base_uri": "https://localhost:8080/"
        }
      },
      "execution_count": 6,
      "outputs": [
        {
          "output_type": "stream",
          "name": "stdout",
          "text": [
            "alignn\tLICENSE.rst  pyproject.toml  README.md\tsetup.py  temp\n"
          ]
        }
      ]
    },
    {
      "cell_type": "markdown",
      "source": [
        "The model produces *.pt files which are the trained models."
      ],
      "metadata": {
        "id": "WnlQxz2eRSoL"
      }
    },
    {
      "cell_type": "code",
      "source": [
        "!ls temp"
      ],
      "metadata": {
        "id": "ARFUTpZjQ9JN",
        "outputId": "754a29e6-7342-478e-f2db-8fa93519534b",
        "colab": {
          "base_uri": "https://localhost:8080/"
        }
      },
      "execution_count": 7,
      "outputs": [
        {
          "output_type": "stream",
          "name": "stdout",
          "text": [
            "best_model.pt\t\t last_model.pt\t\t\t   train_data_data_range\n",
            "config.json\t\t mad\t\t\t\t   Train_results.json\n",
            "current_model.pt\t prediction_results_test_set.csv   val_data_data_range\n",
            "history_train.json\t prediction_results_train_set.csv  Val_results.json\n",
            "history_val.json\t test_data_data_range\n",
            "ids_train_val_test.json  Test_results.json\n"
          ]
        }
      ]
    },
    {
      "cell_type": "markdown",
      "source": [
        "We can load a trained model above as the following:"
      ],
      "metadata": {
        "id": "5dWY2SN3SAWm"
      }
    },
    {
      "cell_type": "code",
      "source": [
        "from alignn.models.alignn_atomwise import ALIGNNAtomWise, ALIGNNAtomWiseConfig\n",
        "import torch\n",
        "output_features =  1\n",
        "filename = 'temp/best_model.pt'\n",
        "device = \"cpu\"\n",
        "if torch.cuda.is_available():\n",
        "    device = torch.device(\"cuda\")\n",
        "model = ALIGNNAtomWise(ALIGNNAtomWiseConfig(name=\"alignn_atomwise\", output_features=output_features))\n",
        "model.load_state_dict(torch.load(filename, map_location=device))\n",
        "model.eval()"
      ],
      "metadata": {
        "id": "KKwVQwvCRfkD",
        "outputId": "b812704f-4e88-4926-8015-d80992f7bb96",
        "colab": {
          "base_uri": "https://localhost:8080/"
        }
      },
      "execution_count": 9,
      "outputs": [
        {
          "output_type": "execute_result",
          "data": {
            "text/plain": [
              "ALIGNNAtomWise(\n",
              "  (atom_embedding): MLPLayer(\n",
              "    (layer): Sequential(\n",
              "      (0): Linear(in_features=92, out_features=256, bias=True)\n",
              "      (1): LayerNorm((256,), eps=1e-05, elementwise_affine=True)\n",
              "      (2): SiLU()\n",
              "    )\n",
              "  )\n",
              "  (edge_embedding): Sequential(\n",
              "    (0): RBFExpansion()\n",
              "    (1): MLPLayer(\n",
              "      (layer): Sequential(\n",
              "        (0): Linear(in_features=80, out_features=64, bias=True)\n",
              "        (1): LayerNorm((64,), eps=1e-05, elementwise_affine=True)\n",
              "        (2): SiLU()\n",
              "      )\n",
              "    )\n",
              "    (2): MLPLayer(\n",
              "      (layer): Sequential(\n",
              "        (0): Linear(in_features=64, out_features=256, bias=True)\n",
              "        (1): LayerNorm((256,), eps=1e-05, elementwise_affine=True)\n",
              "        (2): SiLU()\n",
              "      )\n",
              "    )\n",
              "  )\n",
              "  (angle_embedding): Sequential(\n",
              "    (0): RBFExpansion()\n",
              "    (1): MLPLayer(\n",
              "      (layer): Sequential(\n",
              "        (0): Linear(in_features=40, out_features=64, bias=True)\n",
              "        (1): LayerNorm((64,), eps=1e-05, elementwise_affine=True)\n",
              "        (2): SiLU()\n",
              "      )\n",
              "    )\n",
              "    (2): MLPLayer(\n",
              "      (layer): Sequential(\n",
              "        (0): Linear(in_features=64, out_features=256, bias=True)\n",
              "        (1): LayerNorm((256,), eps=1e-05, elementwise_affine=True)\n",
              "        (2): SiLU()\n",
              "      )\n",
              "    )\n",
              "  )\n",
              "  (alignn_layers): ModuleList(\n",
              "    (0-3): 4 x ALIGNNConv(\n",
              "      (node_update): EdgeGatedGraphConv(\n",
              "        (src_gate): Linear(in_features=256, out_features=256, bias=True)\n",
              "        (dst_gate): Linear(in_features=256, out_features=256, bias=True)\n",
              "        (edge_gate): Linear(in_features=256, out_features=256, bias=True)\n",
              "        (bn_edges): LayerNorm((256,), eps=1e-05, elementwise_affine=True)\n",
              "        (src_update): Linear(in_features=256, out_features=256, bias=True)\n",
              "        (dst_update): Linear(in_features=256, out_features=256, bias=True)\n",
              "        (bn_nodes): LayerNorm((256,), eps=1e-05, elementwise_affine=True)\n",
              "      )\n",
              "      (edge_update): EdgeGatedGraphConv(\n",
              "        (src_gate): Linear(in_features=256, out_features=256, bias=True)\n",
              "        (dst_gate): Linear(in_features=256, out_features=256, bias=True)\n",
              "        (edge_gate): Linear(in_features=256, out_features=256, bias=True)\n",
              "        (bn_edges): LayerNorm((256,), eps=1e-05, elementwise_affine=True)\n",
              "        (src_update): Linear(in_features=256, out_features=256, bias=True)\n",
              "        (dst_update): Linear(in_features=256, out_features=256, bias=True)\n",
              "        (bn_nodes): LayerNorm((256,), eps=1e-05, elementwise_affine=True)\n",
              "      )\n",
              "    )\n",
              "  )\n",
              "  (gcn_layers): ModuleList(\n",
              "    (0-3): 4 x EdgeGatedGraphConv(\n",
              "      (src_gate): Linear(in_features=256, out_features=256, bias=True)\n",
              "      (dst_gate): Linear(in_features=256, out_features=256, bias=True)\n",
              "      (edge_gate): Linear(in_features=256, out_features=256, bias=True)\n",
              "      (bn_edges): LayerNorm((256,), eps=1e-05, elementwise_affine=True)\n",
              "      (src_update): Linear(in_features=256, out_features=256, bias=True)\n",
              "      (dst_update): Linear(in_features=256, out_features=256, bias=True)\n",
              "      (bn_nodes): LayerNorm((256,), eps=1e-05, elementwise_affine=True)\n",
              "    )\n",
              "  )\n",
              "  (readout): AvgPooling()\n",
              "  (fc): Linear(in_features=256, out_features=1, bias=True)\n",
              ")"
            ]
          },
          "metadata": {},
          "execution_count": 9
        }
      ]
    },
    {
      "cell_type": "markdown",
      "source": [
        "Now, we can build graph for a given structure and make a prediction as follows:"
      ],
      "metadata": {
        "id": "N7cNP1YqShuO"
      }
    },
    {
      "cell_type": "code",
      "source": [
        "from jarvis.core.atoms import Atoms\n",
        "from alignn.graphs import Graph\n",
        "cutoff = 8.0\n",
        "model=model.to(device)\n",
        "max_neighbors = 12\n",
        "atoms = Atoms.from_poscar('alignn/examples/sample_data/POSCAR-JVASP-10.vasp')\n",
        "g, lg = Graph.atom_dgl_multigraph(\n",
        "    atoms, cutoff=float(cutoff), max_neighbors=max_neighbors,\n",
        ")\n",
        "out_data = (\n",
        "    model([g.to(device), lg.to(device)])['out']\n",
        "    .detach()\n",
        "    .cpu()\n",
        "    .numpy()\n",
        "    .flatten()\n",
        "    .tolist()\n",
        ")\n",
        "print ('output', out_data[0])"
      ],
      "metadata": {
        "id": "kfr_EGHRS_aU",
        "outputId": "11fa88bb-a747-4126-c6f0-a8c146b6fecd",
        "colab": {
          "base_uri": "https://localhost:8080/"
        }
      },
      "execution_count": 11,
      "outputs": [
        {
          "output_type": "stream",
          "name": "stdout",
          "text": [
            "output 1.422620415687561\n"
          ]
        },
        {
          "output_type": "stream",
          "name": "stderr",
          "text": [
            "/usr/local/lib/python3.10/dist-packages/dgl/backend/pytorch/tensor.py:445: UserWarning: TypedStorage is deprecated. It will be removed in the future and UntypedStorage will be the only storage class. This should only matter to you if you are using storages directly.  To access UntypedStorage directly, use tensor.untyped_storage() instead of tensor.storage()\n",
            "  assert input.numel() == input.storage().size(), (\n"
          ]
        }
      ]
    },
    {
      "cell_type": "markdown",
      "source": [
        "We have already trained multiple models on several large datasets which can be used with the pretrained.py executable."
      ],
      "metadata": {
        "id": "QbzTNJ-WTgfF"
      }
    },
    {
      "cell_type": "markdown",
      "source": [
        "# 3. Using more than 70 pre-trained models to make fast predictions"
      ],
      "metadata": {
        "id": "VEx7wFGnJVkG"
      }
    },
    {
      "cell_type": "markdown",
      "metadata": {
        "id": "VOWVk7MV1hQ3"
      },
      "source": [
        "Use pretrained models such as models trained on JARVIS-DFT, QM9, Materials project, hMOF etc. databases. The models are downloaded from figshare. See the list here: https://github.com/usnistgov/alignn/blob/main/alignn/pretrained.py#L28"
      ]
    },
    {
      "cell_type": "code",
      "metadata": {
        "id": "16HHZ7TD3uRb",
        "colab": {
          "base_uri": "https://localhost:8080/"
        },
        "outputId": "a2b8f76c-5cbf-4eef-e941-5a900b5f3532"
      },
      "source": [
        "!pretrained.py -h"
      ],
      "execution_count": 12,
      "outputs": [
        {
          "output_type": "stream",
          "name": "stdout",
          "text": [
            "usage: pretrained.py [-h] [--model_name MODEL_NAME] [--file_format FILE_FORMAT]\n",
            "                     [--file_path FILE_PATH] [--cutoff CUTOFF] [--max_neighbors MAX_NEIGHBORS]\n",
            "\n",
            "Atomistic Line Graph Neural Network Pretrained Models\n",
            "\n",
            "options:\n",
            "  -h, --help            show this help message and exit\n",
            "  --model_name MODEL_NAME\n",
            "                        Choose a model from these 54 models:jv_formation_energy_peratom_alignn,\n",
            "                        jv_optb88vdw_total_energy_alignn, jv_optb88vdw_bandgap_alignn,\n",
            "                        jv_mbj_bandgap_alignn, jv_spillage_alignn, jv_slme_alignn,\n",
            "                        jv_bulk_modulus_kv_alignn, jv_shear_modulus_gv_alignn, jv_n-\n",
            "                        Seebeck_alignn, jv_n-powerfact_alignn, jv_magmom_oszicar_alignn,\n",
            "                        jv_kpoint_length_unit_alignn, jv_avg_elec_mass_alignn,\n",
            "                        jv_avg_hole_mass_alignn, jv_epsx_alignn, jv_mepsx_alignn,\n",
            "                        jv_max_efg_alignn, jv_ehull_alignn, jv_dfpt_piezo_max_dielectric_alignn,\n",
            "                        jv_dfpt_piezo_max_dij_alignn, jv_exfoliation_energy_alignn,\n",
            "                        jv_supercon_tc_alignn, jv_supercon_edos_alignn, jv_supercon_debye_alignn,\n",
            "                        jv_supercon_a2F_alignn, mp_e_form_alignn, mp_gappbe_alignn,\n",
            "                        tinnet_O_alignn, tinnet_N_alignn, tinnet_OH_alignn, AGRA_O_alignn,\n",
            "                        AGRA_OH_alignn, AGRA_CHO_alignn, AGRA_CO_alignn, AGRA_COOH_alignn,\n",
            "                        qm9_U0_alignn, qm9_U_alignn, qm9_alpha_alignn, qm9_gap_alignn,\n",
            "                        qm9_G_alignn, qm9_HOMO_alignn, qm9_LUMO_alignn, qm9_ZPVE_alignn,\n",
            "                        hmof_co2_absp_alignn, hmof_max_co2_adsp_alignn,\n",
            "                        hmof_surface_area_m2g_alignn, hmof_surface_area_m2cm3_alignn,\n",
            "                        hmof_pld_alignn, hmof_lcd_alignn, hmof_void_fraction_alignn, ocp2020_all,\n",
            "                        ocp2020_100k, ocp2020_10k, jv_pdos_alignn\n",
            "  --file_format FILE_FORMAT\n",
            "                        poscar/cif/xyz/pdb file format.\n",
            "  --file_path FILE_PATH\n",
            "                        Path to file.\n",
            "  --cutoff CUTOFF       Distance cut-off for graph constuction, usually 8 for solids and 5 for\n",
            "                        molecules.\n",
            "  --max_neighbors MAX_NEIGHBORS\n",
            "                        Maximum number of nearest neighbors in the periodic atomistic graph\n",
            "                        construction.\n"
          ]
        }
      ]
    },
    {
      "cell_type": "code",
      "metadata": {
        "id": "_bIT4hL71wmA",
        "colab": {
          "base_uri": "https://localhost:8080/"
        },
        "outputId": "843d29d1-c54b-45d9-9484-4f3bb4aaec88"
      },
      "source": [
        "!pretrained.py --model_name jv_formation_energy_peratom_alignn --file_format poscar --file_path alignn/examples/sample_data/POSCAR-JVASP-10.vasp"
      ],
      "execution_count": 13,
      "outputs": [
        {
          "output_type": "stream",
          "name": "stdout",
          "text": [
            "100% 47.5M/47.5M [00:03<00:00, 14.6MiB/s]\n",
            "Using chk file jv_formation_energy_peratom_alignn/checkpoint_300.pt from  ['jv_formation_energy_peratom_alignn/checkpoint_300.pt']\n",
            "Path /usr/local/bin/jv_formation_energy_peratom_alignn.zip\n",
            "Config /content/alignn/jv_formation_energy_peratom_alignn/config.json\n",
            "/usr/local/lib/python3.10/dist-packages/dgl/backend/pytorch/tensor.py:445: UserWarning: TypedStorage is deprecated. It will be removed in the future and UntypedStorage will be the only storage class. This should only matter to you if you are using storages directly.  To access UntypedStorage directly, use tensor.untyped_storage() instead of tensor.storage()\n",
            "  assert input.numel() == input.storage().size(), (\n",
            "Predicted value: jv_formation_energy_peratom_alignn alignn/examples/sample_data/POSCAR-JVASP-10.vasp [-0.7033944725990295]\n"
          ]
        }
      ]
    },
    {
      "cell_type": "markdown",
      "source": [
        "#  4. ALIGNN-FF Ase Calculator: predict energy/forces, optimized strcture, EV curves and phonons\n"
      ],
      "metadata": {
        "id": "wswM4wp8Tnx8"
      }
    },
    {
      "cell_type": "markdown",
      "source": [
        "ASE Calculator wrapper for ALIGNN-FF"
      ],
      "metadata": {
        "id": "BRWB7wUKuXhj"
      }
    },
    {
      "cell_type": "code",
      "source": [
        "from alignn.ff.ff import phonons,ForceField\n",
        "from jarvis.core.atoms import ase_to_atoms\n",
        "from jarvis.io.vasp.inputs import Poscar\n",
        "from alignn.ff.ff import AlignnAtomwiseCalculator,default_path,wt10_path,fd_path\n",
        "model_path = wt10_path() #default_path()\n",
        "calc = AlignnAtomwiseCalculator(path=model_path)\n",
        "\n",
        "# Copper POSCAR file, feel free to try another structure in POSCAR format\n",
        "cu=\"\"\"Cu\n",
        "1.0\n",
        "1.7985 1.7985 0.0\n",
        "0.0 1.7985 1.7985\n",
        "1.7985 0.0 1.7985\n",
        "Cu\n",
        "1\n",
        "Cartesian\n",
        "0.0 0.0 0.0\n",
        "\"\"\"\n",
        "\n",
        "pos = Poscar.from_string(cu)\n",
        "atoms = pos.atoms\n",
        "ase_atoms = atoms.ase_converter()\n",
        "model_path = wt10_path() #default_path()\n",
        "ff = ForceField(\n",
        "    jarvis_atoms=atoms,\n",
        "    model_path=model_path,\n",
        "    stress_wt=0.3,\n",
        "    force_multiplier=1,\n",
        "    force_mult_natoms=False,\n",
        ")\n",
        "opt, en, fs = ff.optimize_atoms()  # logfile=None)\n",
        "# There are more than one ALIGNN-FF models such as wt10_path, fd_path etc., check them before reporting\n",
        "# See: https://github.com/usnistgov/alignn/blob/develop/alignn/ff/ff.py#L67\n",
        "ph_path=wt10_path()  #fd_path()\n",
        "ph=phonons(model_path=ph_path,atoms=opt,phonopy_bands_figname=\"phonopy_bands_cu.png\")\n",
        "thermal = ph.run_thermal_properties()\n",
        "thermal_prop = ph.get_thermal_properties_dict()"
      ],
      "metadata": {
        "id": "sK4KhUdnUbq8",
        "outputId": "de3fa696-c161-487e-b5cf-0da6bb3a4b61",
        "colab": {
          "base_uri": "https://localhost:8080/"
        }
      },
      "execution_count": 14,
      "outputs": [
        {
          "output_type": "stream",
          "name": "stdout",
          "text": [
            "dir_path /content/alignn/alignn/ff/alignnff_wt10\n"
          ]
        },
        {
          "output_type": "stream",
          "name": "stderr",
          "text": [
            "100%|██████████| 15.0M/15.0M [00:01<00:00, 8.38MiB/s]\n"
          ]
        },
        {
          "output_type": "stream",
          "name": "stdout",
          "text": [
            "model_path /content/alignn/alignn/ff/alignnff_wt10\n",
            "dir_path /content/alignn/alignn/ff/alignnff_wt10\n",
            "model_path /content/alignn/alignn/ff/alignnff_wt10\n",
            "OPTIMIZATION\n"
          ]
        },
        {
          "output_type": "stream",
          "name": "stderr",
          "text": [
            "/usr/local/lib/python3.10/dist-packages/dgl/backend/pytorch/tensor.py:445: UserWarning: TypedStorage is deprecated. It will be removed in the future and UntypedStorage will be the only storage class. This should only matter to you if you are using storages directly.  To access UntypedStorage directly, use tensor.untyped_storage() instead of tensor.storage()\n",
            "  assert input.numel() == input.storage().size(), (\n"
          ]
        },
        {
          "output_type": "stream",
          "name": "stdout",
          "text": [
            "a= 1.798 Ang b= 1.798 Ang c= 1.798 Ang Volume= 11.635 amu/a3 PE= 0.59408 eV KE= 0.00000 eV T= 0.000 K \n",
            "a= 1.801 Ang b= 1.801 Ang c= 1.801 Ang Volume= 11.688 amu/a3 PE= 0.59186 eV KE= 0.00000 eV T= 0.000 K \n",
            "a= 1.807 Ang b= 1.807 Ang c= 1.807 Ang Volume= 11.791 amu/a3 PE= 0.58801 eV KE= 0.00000 eV T= 0.000 K \n",
            "a= 1.814 Ang b= 1.814 Ang c= 1.814 Ang Volume= 11.938 amu/a3 PE= 0.58355 eV KE= 0.00000 eV T= 0.000 K \n",
            "dir_path /content/alignn/alignn/ff/alignnff_wt10\n",
            "model_path /content/alignn/alignn/ff/alignnff_wt10\n"
          ]
        }
      ]
    },
    {
      "cell_type": "code",
      "source": [
        "%matplotlib inline\n",
        "import matplotlib.pyplot as plt\n",
        "plt.axis('off')\n",
        "plt.imshow(plt.imread(\"phonopy_bands_cu.png\"))\n",
        "plt.show()"
      ],
      "metadata": {
        "id": "IKEWRKHSWL-l",
        "outputId": "0f1d0f9b-963c-44ab-baff-1dc6ef428742",
        "colab": {
          "base_uri": "https://localhost:8080/",
          "height": 285
        }
      },
      "execution_count": 15,
      "outputs": [
        {
          "output_type": "display_data",
          "data": {
            "text/plain": [
              "<Figure size 640x480 with 1 Axes>"
            ],
            "image/png": "[encoded data removed]"
          },
          "metadata": {}
        }
      ]
    },
    {
      "cell_type": "code",
      "source": [
        "# X-ray diffraction\n",
        "from jarvis.analysis.diffraction.xrd import XRD\n",
        "two_thetas, d_hkls, intensities = XRD().simulate(atoms=atoms)\n",
        "plt.bar(two_thetas,intensities)\n",
        "plt.xlabel('2$\\theta$')\n",
        "plt.ylabel('Intensity')\n",
        "plt.show()"
      ],
      "metadata": {
        "id": "_0a-DGY73MXv",
        "outputId": "75ae5114-d09d-4605-b8a2-4f9f1ed21e2d",
        "colab": {
          "base_uri": "https://localhost:8080/",
          "height": 469
        }
      },
      "execution_count": 16,
      "outputs": [
        {
          "output_type": "display_data",
          "data": {
            "text/plain": [
              "<Figure size 640x480 with 1 Axes>"
            ],
            "image/png": "[encoded data removed]"
          },
          "metadata": {}
        }
      ]
    },
    {
      "cell_type": "code",
      "source": [
        "thermal_prop.keys()"
      ],
      "metadata": {
        "id": "7gLCd-fq0PXl",
        "outputId": "174f0f0f-2564-416f-cbb2-203fbcd77ad6",
        "colab": {
          "base_uri": "https://localhost:8080/"
        }
      },
      "execution_count": 17,
      "outputs": [
        {
          "output_type": "execute_result",
          "data": {
            "text/plain": [
              "dict_keys(['temperatures', 'free_energy', 'entropy', 'heat_capacity'])"
            ]
          },
          "metadata": {},
          "execution_count": 17
        }
      ]
    },
    {
      "cell_type": "code",
      "source": [
        "from ase import Atom, Atoms\n",
        "import numpy as np\n",
        "import matplotlib.pyplot as plt\n",
        "model_path = wt10_path() #default_path()\n",
        "calc = AlignnAtomwiseCalculator(path=model_path)\n",
        "\n",
        "lattice_params = np.linspace(3.5, 3.8)\n",
        "fcc_energies = []\n",
        "ready = True\n",
        "for a in lattice_params:\n",
        "    atoms = Atoms([Atom('Cu', (0, 0, 0))],\n",
        "                  cell=0.5 * a * np.array([[1.0, 1.0, 0.0],\n",
        "                                           [0.0, 1.0, 1.0],\n",
        "                                           [1.0, 0.0, 1.0]]),\n",
        "                 pbc=True)\n",
        "\n",
        "    atoms.set_tags(np.ones(len(atoms)))\n",
        "\n",
        "    atoms.calc = calc\n",
        "\n",
        "    e = atoms.get_potential_energy()\n",
        "    fcc_energies.append(e)"
      ],
      "metadata": {
        "id": "m5ZHUJCHuc8v",
        "outputId": "95e9cc8b-8e32-448d-b1d5-bab5f22a0d0a",
        "colab": {
          "base_uri": "https://localhost:8080/"
        }
      },
      "execution_count": 18,
      "outputs": [
        {
          "output_type": "stream",
          "name": "stdout",
          "text": [
            "dir_path /content/alignn/alignn/ff/alignnff_wt10\n",
            "model_path /content/alignn/alignn/ff/alignnff_wt10\n"
          ]
        }
      ]
    },
    {
      "cell_type": "markdown",
      "source": [
        "Check if EV curves are smooth"
      ],
      "metadata": {
        "id": "xFdouqfP7vP1"
      }
    },
    {
      "cell_type": "code",
      "source": [
        "import matplotlib.pyplot as plt\n",
        "%matplotlib inline\n",
        "plt.plot(lattice_params, fcc_energies)\n",
        "plt.title('1x1x1')\n",
        "plt.xlabel('Lattice constant ($\\AA$)')\n",
        "plt.ylabel('Total energy (eV)')\n",
        "plt.show()"
      ],
      "metadata": {
        "id": "6KLHCj7Aujmt",
        "outputId": "8ae43474-84c4-4bd5-c04f-2d251a9a5e78",
        "colab": {
          "base_uri": "https://localhost:8080/",
          "height": 507
        }
      },
      "execution_count": 19,
      "outputs": [
        {
          "output_type": "display_data",
          "data": {
            "text/plain": [
              "<Figure size 640x480 with 1 Axes>"
            ],
            "image/png": "[encoded data removed]"
          },
          "metadata": {}
        }
      ]
    },
    {
      "cell_type": "code",
      "source": [
        "from ase import data\n",
        "for metal in ['Cu', 'Ag', 'Au', 'Ni', 'Pd', 'Pt', 'Rh', 'Ir']:\n",
        "    a = data.reference_states[data.atomic_numbers[metal]]['a']\n",
        "    LC = np.linspace(0.9 * a, 1.1 * a)\n",
        "    vols, energies = [], []\n",
        "    for a in LC:\n",
        "        atoms = Atoms([Atom(metal, (0, 0, 0))],\n",
        "                      cell=0.5 * a * np.array([[1.0, 1.0, 0.0],\n",
        "                                               [0.0, 1.0, 1.0],\n",
        "                                               [1.0, 0.0, 1.0]]),\n",
        "                     pbc=True)\n",
        "\n",
        "        atoms.set_tags(np.ones(len(atoms)))\n",
        "\n",
        "        atoms.calc = calc\n",
        "\n",
        "        e = atoms.get_potential_energy()\n",
        "        vols += [atoms.get_volume()]\n",
        "        energies.append(e)\n",
        "    plt.figure()\n",
        "    plt.plot(vols, energies)\n",
        "    plt.title(metal)\n",
        "    plt.xlabel('volume ($\\AA^3$)')\n",
        "    plt.ylabel('Total energy (eV)');"
      ],
      "metadata": {
        "id": "-yr4pevO7Ixe",
        "outputId": "dd6b7380-e968-48f4-9c97-bd89a5f721dd",
        "colab": {
          "base_uri": "https://localhost:8080/",
          "height": 1000
        }
      },
      "execution_count": 20,
      "outputs": [
        {
          "output_type": "display_data",
          "data": {
            "text/plain": [
              "<Figure size 640x480 with 1 Axes>"
            ],
            "image/png": "[encoded data removed]"
          },
          "metadata": {}
        },
        {
          "output_type": "display_data",
          "data": {
            "text/plain": [
              "<Figure size 640x480 with 1 Axes>"
            ],
            "image/png": "[encoded data removed]"
          },
          "metadata": {}
        },
        {
          "output_type": "display_data",
          "data": {
            "text/plain": [
              "<Figure size 640x480 with 1 Axes>"
            ],
            "image/png": "[encoded data removed]"
          },
          "metadata": {}
        },
        {
          "output_type": "display_data",
          "data": {
            "text/plain": [
              "<Figure size 640x480 with 1 Axes>"
            ],
            "image/png": "[encoded data removed]"
          },
          "metadata": {}
        },
        {
          "output_type": "display_data",
          "data": {
            "text/plain": [
              "<Figure size 640x480 with 1 Axes>"
            ],
            "image/png": "[encoded data removed]"
          },
          "metadata": {}
        },
        {
          "output_type": "display_data",
          "data": {
            "text/plain": [
              "<Figure size 640x480 with 1 Axes>"
            ],
            "image/png": "[encoded data removed]"
          },
          "metadata": {}
        },
        {
          "output_type": "display_data",
          "data": {
            "text/plain": [
              "<Figure size 640x480 with 1 Axes>"
            ],
            "image/png": "[encoded data removed]"
          },
          "metadata": {}
        },
        {
          "output_type": "display_data",
          "data": {
            "text/plain": [
              "<Figure size 640x480 with 1 Axes>"
            ],
            "image/png": "[encoded data removed]"
          },
          "metadata": {}
        }
      ]
    },
    {
      "cell_type": "markdown",
      "source": [
        "Using ALIGNN-FF pretrained model to get unrelaxed energy and relaxed structure"
      ],
      "metadata": {
        "id": "yMhz-GpH2hfJ"
      }
    },
    {
      "cell_type": "markdown",
      "source": [
        "Check phonons"
      ],
      "metadata": {
        "id": "afP4h4rrHVXI"
      }
    },
    {
      "cell_type": "code",
      "source": [
        "%%time\n",
        "from alignn.ff.ff import phonons\n",
        "import numpy as np\n",
        "from alignn.ff.ff import AlignnAtomwiseCalculator,default_path,wt10_path,alignnff_fmult,fd_path,ForceField\n",
        "from jarvis.core.atoms import ase_to_atoms\n",
        "from ase import Atom, Atoms as AseAtoms\n",
        "a = 3.597\n",
        "atoms = AseAtoms([Atom('Cu', (0, 0, 0))],\n",
        "              cell=0.5 * a * np.array([[1.0, 1.0, 0.0],\n",
        "                                        [0.0, 1.0, 1.0],\n",
        "                                        [1.0, 0.0, 1.0]]),\n",
        "              pbc=True)\n",
        "ph_path=fd_path()\n",
        "ph=phonons(model_path=ph_path, phonopy_bands_figname=\"phonopy_bands.png\", atoms=ase_to_atoms(atoms))\n",
        "%matplotlib inline\n",
        "plt.axis('off')\n",
        "plt.imshow(plt.imread(\"phonopy_bands.png\"))\n",
        "plt.show()"
      ],
      "metadata": {
        "id": "ROFpeLTLHTgN",
        "outputId": "d961dcbe-b9ca-46f9-96d8-a4f91f5e9d6f",
        "colab": {
          "base_uri": "https://localhost:8080/",
          "height": 426
        }
      },
      "execution_count": 21,
      "outputs": [
        {
          "output_type": "stream",
          "name": "stdout",
          "text": [
            "dir_path /content/alignn/alignn/ff/alignnff_fd\n"
          ]
        },
        {
          "output_type": "stream",
          "name": "stderr",
          "text": [
            "100%|██████████| 15.0M/15.0M [00:01<00:00, 9.15MiB/s]\n"
          ]
        },
        {
          "output_type": "stream",
          "name": "stdout",
          "text": [
            "model_path /content/alignn/alignn/ff/alignnff_fd\n"
          ]
        },
        {
          "output_type": "stream",
          "name": "stderr",
          "text": [
            "/usr/local/lib/python3.10/dist-packages/dgl/backend/pytorch/tensor.py:445: UserWarning: TypedStorage is deprecated. It will be removed in the future and UntypedStorage will be the only storage class. This should only matter to you if you are using storages directly.  To access UntypedStorage directly, use tensor.untyped_storage() instead of tensor.storage()\n",
            "  assert input.numel() == input.storage().size(), (\n"
          ]
        },
        {
          "output_type": "display_data",
          "data": {
            "text/plain": [
              "<Figure size 640x480 with 1 Axes>"
            ],
            "image/png": "[encoded data removed]"
          },
          "metadata": {}
        },
        {
          "output_type": "stream",
          "name": "stdout",
          "text": [
            "CPU times: user 17.8 s, sys: 1.06 s, total: 18.9 s\n",
            "Wall time: 27.4 s\n"
          ]
        }
      ]
    },
    {
      "cell_type": "code",
      "source": [
        "from jarvis.core.atoms import ase_to_atoms\n",
        "ase_to_atoms(atoms)"
      ],
      "metadata": {
        "id": "1Sao5NE3UGEk",
        "outputId": "1d367bbf-0a7c-4965-92e5-814e54bad0a4",
        "colab": {
          "base_uri": "https://localhost:8080/"
        }
      },
      "execution_count": 22,
      "outputs": [
        {
          "output_type": "execute_result",
          "data": {
            "text/plain": [
              "System\n",
              "1.0\n",
              "1.7985 1.7985 0.0\n",
              "0.0 1.7985 1.7985\n",
              "1.7985 0.0 1.7985\n",
              "Cu \n",
              "1 \n",
              "direct\n",
              "0.0 0.0 0.0 Cu"
            ]
          },
          "metadata": {},
          "execution_count": 22
        }
      ]
    },
    {
      "cell_type": "code",
      "source": [
        "!run_alignn_ff.py --file_path alignn/examples/sample_data/POSCAR-JVASP-10.vasp --task=\"unrelaxed_energy\""
      ],
      "metadata": {
        "id": "6X67E61h2kge",
        "outputId": "1398e65c-5ef8-4e4a-fb95-2b9fdc47d336",
        "colab": {
          "base_uri": "https://localhost:8080/"
        }
      },
      "execution_count": 23,
      "outputs": [
        {
          "output_type": "stream",
          "name": "stdout",
          "text": [
            "dir_path /usr/local/lib/python3.10/dist-packages/alignn/ff/alignnff_wt10\n",
            "100% 15.0M/15.0M [00:01<00:00, 9.15MiB/s]\n",
            "model_path /usr/local/lib/python3.10/dist-packages/alignn/ff/alignnff_wt10\n",
            "/usr/local/lib/python3.10/dist-packages/dgl/backend/pytorch/tensor.py:445: UserWarning: TypedStorage is deprecated. It will be removed in the future and UntypedStorage will be the only storage class. This should only matter to you if you are using storages directly.  To access UntypedStorage directly, use tensor.untyped_storage() instead of tensor.storage()\n",
            "  assert input.numel() == input.storage().size(), (\n",
            "Energy(eV) (-11.776981830596924, array([[ 0.0000000e+00, -1.3969839e-09, -2.7939677e-09],\n",
            "       [ 0.0000000e+00,  2.7357601e-07, -1.7777230e-03],\n",
            "       [ 0.0000000e+00, -2.7706847e-07,  1.7777013e-03]], dtype=float32))\n"
          ]
        }
      ]
    },
    {
      "cell_type": "code",
      "source": [
        "!run_alignn_ff.py --file_path alignn/examples/sample_data/POSCAR-JVASP-10.vasp --task=\"optimize\""
      ],
      "metadata": {
        "id": "sGiXomqD21eE",
        "outputId": "911dd681-426f-4943-846f-80be32a99861",
        "colab": {
          "base_uri": "https://localhost:8080/"
        }
      },
      "execution_count": 24,
      "outputs": [
        {
          "output_type": "stream",
          "name": "stdout",
          "text": [
            "dir_path /usr/local/lib/python3.10/dist-packages/alignn/ff/alignnff_wt10\n",
            "model_path /usr/local/lib/python3.10/dist-packages/alignn/ff/alignnff_wt10\n",
            "OPTIMIZATION\n",
            "/usr/local/lib/python3.10/dist-packages/dgl/backend/pytorch/tensor.py:445: UserWarning: TypedStorage is deprecated. It will be removed in the future and UntypedStorage will be the only storage class. This should only matter to you if you are using storages directly.  To access UntypedStorage directly, use tensor.untyped_storage() instead of tensor.storage()\n",
            "  assert input.numel() == input.storage().size(), (\n",
            "a= 1.678 Ang b= 2.906 Ang c= 6.221 Ang Volume= 60.658 amu/a3 PE=-11.77698 eV KE= 0.00000 eV T= 0.000 K \n",
            "a= 1.674 Ang b= 2.900 Ang c= 6.225 Ang Volume= 60.454 amu/a3 PE=-11.77964 eV KE= 0.00000 eV T= 0.000 K \n",
            "a= 1.668 Ang b= 2.888 Ang c= 6.235 Ang Volume= 60.059 amu/a3 PE=-11.78465 eV KE= 0.00000 eV T= 0.000 K \n",
            "a= 1.658 Ang b= 2.871 Ang c= 6.250 Ang Volume= 59.507 amu/a3 PE=-11.79133 eV KE= 0.00000 eV T= 0.000 K \n",
            "a= 1.646 Ang b= 2.850 Ang c= 6.273 Ang Volume= 58.852 amu/a3 PE=-11.79842 eV KE= 0.00000 eV T= 0.000 K \n",
            "a= 1.632 Ang b= 2.827 Ang c= 6.306 Ang Volume= 58.187 amu/a3 PE=-11.80407 eV KE= 0.00000 eV T= 0.000 K \n",
            "a= 1.619 Ang b= 2.804 Ang c= 6.352 Ang Volume= 57.662 amu/a3 PE=-11.80691 eV KE= 0.00000 eV T= 0.000 K \n",
            "a= 1.608 Ang b= 2.785 Ang c= 6.411 Ang Volume= 57.439 amu/a3 PE=-11.80764 eV KE= 0.00000 eV T= 0.000 K \n",
            "a= 1.609 Ang b= 2.786 Ang c= 6.413 Ang Volume= 57.488 amu/a3 PE=-11.80792 eV KE= 0.00000 eV T= 0.000 K \n",
            "a= 1.609 Ang b= 2.788 Ang c= 6.417 Ang Volume= 57.584 amu/a3 PE=-11.80845 eV KE= 0.00000 eV T= 0.000 K \n",
            "a= 1.611 Ang b= 2.790 Ang c= 6.423 Ang Volume= 57.724 amu/a3 PE=-11.80914 eV KE= 0.00000 eV T= 0.000 K \n",
            "a= 1.612 Ang b= 2.792 Ang c= 6.431 Ang Volume= 57.903 amu/a3 PE=-11.80993 eV KE= 0.00000 eV T= 0.000 K \n",
            "a= 1.614 Ang b= 2.795 Ang c= 6.441 Ang Volume= 58.117 amu/a3 PE=-11.81069 eV KE= 0.00000 eV T= 0.000 K \n",
            "initial struct:\n",
            "System\n",
            "1.0\n",
            "1.6777483798834445 -2.9059452409270157 -1.1e-15\n",
            "1.6777483798834438 2.9059452409270126 -7e-16\n",
            "-6.5e-15 -8e-16 6.220805465667012\n",
            "V Se \n",
            "1 2 \n",
            "direct\n",
            "0.0 0.0 0.0 V\n",
            "0.6666669999999968 0.3333330000000032 0.7479606991085345 Se\n",
            "0.3333330000000032 0.6666669999999968 0.252039300891465 Se\n",
            "\n",
            "final struct:\n",
            "System\n",
            "1.0\n",
            "1.6139158359714896 -2.795388003801158 3.865074657283445e-06\n",
            "1.6139158918565482 2.795388036066406 -3.809422092506911e-06\n",
            "1.031751157243081e-07 -8.214461628448994e-06 6.4409054167934485\n",
            "V Se \n",
            "1 2 \n",
            "direct\n",
            "1.7224831970289617e-07 1.3284396292114816e-07 1.0855945118666675e-07 V\n",
            "0.6666660768209796 0.3333322973818395 0.7476723587361174 Se\n",
            "0.3333319548653977 0.6666664015753738 0.25232763391518825 Se\n",
            "\n"
          ]
        }
      ]
    },
    {
      "cell_type": "code",
      "source": [
        "!run_alignn_ff.py --file_path alignn/examples/sample_data/POSCAR-JVASP-10.vasp --task=\"ev_curve\""
      ],
      "metadata": {
        "id": "lSkc-nuZ3jWw",
        "outputId": "110c4e6c-4f60-42b9-d804-2ff99f3f3b0b",
        "colab": {
          "base_uri": "https://localhost:8080/"
        }
      },
      "execution_count": 25,
      "outputs": [
        {
          "output_type": "stream",
          "name": "stdout",
          "text": [
            "dir_path /usr/local/lib/python3.10/dist-packages/alignn/ff/alignnff_wt10\n",
            "model_path /usr/local/lib/python3.10/dist-packages/alignn/ff/alignnff_wt10\n",
            "/usr/local/lib/python3.10/dist-packages/dgl/backend/pytorch/tensor.py:445: UserWarning: TypedStorage is deprecated. It will be removed in the future and UntypedStorage will be the only storage class. This should only matter to you if you are using storages directly.  To access UntypedStorage directly, use tensor.untyped_storage() instead of tensor.storage()\n",
            "  assert input.numel() == input.storage().size(), (\n",
            "E [-11.59964204 -11.74018478 -11.77280259 -11.78283405 -11.78362942\n",
            " -11.77698183 -11.76358223 -11.74409294 -11.71869135 -11.68687463]\n",
            "V [52.00698610745743, 53.66666028373519, 55.3612736919685, 57.09119028249023, 58.85677400563329, 60.6583888117305, 62.496398651114745, 64.3711674741189, 66.28305923107584, 68.23243787231843]\n"
          ]
        }
      ]
    },
    {
      "cell_type": "markdown",
      "source": [
        "# 5. Train ALIGNN-FF on a new dataset"
      ],
      "metadata": {
        "id": "1EJ8-7dk3rva"
      }
    },
    {
      "cell_type": "markdown",
      "source": [
        "For a detailed example, check outthis notebook: https://colab.research.google.com/github/knc6/jarvis-tools-notebooks/blob/master/jarvis-tools-notebooks/Train_ALIGNNFF_Mlearn.ipynb"
      ],
      "metadata": {
        "id": "UzTqCPBAIf1c"
      }
    },
    {
      "cell_type": "markdown",
      "source": [
        "Convert calculations such as from vasprun.xml to id_prop.json format for ALIGNN-FF training, e.g. https://colab.research.google.com/gist/knc6/5513b21f5fd83a7943509ffdf5c3608b/make_id_prop.ipynb"
      ],
      "metadata": {
        "id": "vzbfh9rvWHAM"
      }
    },
    {
      "cell_type": "markdown",
      "source": [
        "Note: make add_reverse_forces True and lg_on_fly True"
      ],
      "metadata": {
        "id": "x3P5kvhZWckW"
      }
    },
    {
      "cell_type": "code",
      "source": [
        "!train_alignn.py --root_dir \"alignn/examples/sample_data_ff\" --config \"alignn/examples/sample_data_ff/config_example_atomwise.json\" --output_dir=temp"
      ],
      "metadata": {
        "id": "-_gLKbTf3uk7",
        "outputId": "c5a56640-6f36-431b-de56-ab8443103110",
        "colab": {
          "base_uri": "https://localhost:8080/"
        }
      },
      "execution_count": 26,
      "outputs": [
        {
          "output_type": "stream",
          "name": "stdout",
          "text": [
            "len dataset 50\n",
            "MAX val: -24.52653862\n",
            "MIN val: -42.04135008\n",
            "MAD: 7.884625411000001\n",
            "Baseline MAE: 11.991239256250003\n",
            "data range -24.52653862 -42.04135008\n",
            "Converting to graphs!\n",
            "40it [00:00, 54.52it/s]\n",
            "df        target  ...                                           stresses\n",
            "0  -29.313096  ...  [[2.88305236, 0.0, 0.0], [0.0, 2.53508705, 0.6...\n",
            "1  -29.312862  ...  [[3.64327667, 0.0, 0.0], [0.0, 1.66918758, -0....\n",
            "2  -29.312159  ...  [[4.17873235, 0.0, 0.0], [0.0, 3.03267686, 0.6...\n",
            "3  -29.312429  ...  [[3.94834115, 0.52115723, -0.58782616], [0.521...\n",
            "4  -29.312428  ...  [[3.94677973, -0.52114892, 0.58782086], [-0.52...\n",
            "5  -29.312791  ...  [[4.64789167, 0.0, 0.0], [0.0, 1.74371641, 1.2...\n",
            "6  -29.311952  ...  [[3.11877316, 0.0, 0.0], [0.0, 3.03565406, -0....\n",
            "7  -29.311899  ...  [[3.20798041, 0.0, 0.0], [0.0, 2.92951401, 0.8...\n",
            "8  -29.312800  ...  [[4.59969418, 0.0, 0.0], [0.0, 1.7664801, -0.2...\n",
            "9  -42.041350  ...  [[0.13527718, 0.0, 0.0], [0.0, 0.13527718, 0.0...\n",
            "10 -42.002227  ...  [[-44.30534797, -0.0, 0.0], [0.0, -10.75599104...\n",
            "11 -42.016896  ...  [[49.41992983, 0.0, 0.0], [0.0, 12.18973769, 0...\n",
            "12 -42.002229  ...  [[-10.7556696, 0.0, 0.0], [0.0, -44.30498543, ...\n",
            "13 -42.016896  ...  [[12.18964253, -0.0, 0.0], [-0.0, 49.41985092,...\n",
            "14 -42.019225  ...  [[-12.39243121, 0.0, -0.0], [0.0, -12.39243121...\n",
            "15 -42.032726  ...  [[13.4133613, 0.0, -0.0], [0.0, 13.4133613, 0....\n",
            "16 -42.029257  ...  [[0.58254682, -17.66435416, 0.0], [-17.6643547...\n",
            "17 -42.029256  ...  [[0.58729534, 17.66461253, 0.0], [17.66461313,...\n",
            "18 -42.030165  ...  [[0.19804779, 0.0, 0.0], [0.0, 0.81033958, -16...\n",
            "19 -42.030166  ...  [[0.19911385, 0.0, 0.0], [0.0, 0.81139868, 16....\n",
            "20 -42.030172  ...  [[0.56578255, 0.0, -16.51794], [0.0, 0.1998459...\n",
            "21 -42.030172  ...  [[0.56770661, 0.0, 16.51829075], [0.0, 0.20185...\n",
            "22 -42.040889  ...  [[0.14556767, 0.0, 0.0], [0.0, 0.15242439, 0.0...\n",
            "23 -42.040889  ...  [[0.14622134, 0.0, 0.0], [0.0, 0.15308725, 0.0...\n",
            "24 -42.040710  ...  [[0.15880568, 0.0, -0.0], [0.0, 0.15880568, 0....\n",
            "25 -42.040710  ...  [[0.15822547, 0.0, -0.0], [0.0, 0.15822547, 0....\n",
            "26 -42.039555  ...  [[0.23990502, 0.0, 1.35214272], [0.0, 0.162034...\n",
            "27 -42.039553  ...  [[0.24498578, 0.0, -1.3519976], [0.0, 0.167237...\n",
            "28 -42.040184  ...  [[1.36355268, 0.0, 0.0], [0.0, -1.02210412, 0....\n",
            "29 -42.040186  ...  [[-1.02598649, 0.0, 0.0], [0.0, 1.36006162, 0....\n",
            "30 -42.039996  ...  [[0.22231172, 0.0, -1.64061674], [0.0, 0.13497...\n",
            "31 -42.039996  ...  [[0.22259563, 0.0, 1.64058783], [0.0, 0.135270...\n",
            "32 -42.038933  ...  [[-1.14153996, 0.0, 0.0], [0.0, -1.14153996, 0...\n",
            "33 -42.041135  ...  [[1.49227998, 0.0, 0.0], [0.0, 1.49227998, 0.0...\n",
            "34 -24.558797  ...  [[-2.95468466, 0.0, 0.0], [0.0, -2.95468466, 0...\n",
            "35 -24.544741  ...  [[-27.20936895, 0.0, 0.0], [-0.0, -10.29260715...\n",
            "36 -24.527151  ...  [[22.89948137, 0.0, 0.0], [-0.0, 5.50700332, 0...\n",
            "37 -24.544738  ...  [[-10.28930323, -0.0, 0.0], [0.0, -27.20596524...\n",
            "38 -24.527154  ...  [[5.50704005, 0.0, 0.0], [0.0, 22.89955348, 0....\n",
            "39 -24.526539  ...  [[-12.49370013, 0.0, 0.0], [0.0, -12.49370013,...\n",
            "\n",
            "[40 rows x 5 columns]\n",
            "warning: could not load CGCNN features for 103\n",
            "Setting it to max atomic number available here, 103\n",
            "warning: could not load CGCNN features for 101\n",
            "Setting it to max atomic number available here, 103\n",
            "warning: could not load CGCNN features for 102\n",
            "Setting it to max atomic number available here, 103\n",
            "building line graphs\n",
            "100% 40/40 [00:00<00:00, 1183.24it/s]\n",
            "data range -24.54448655 -24.55207943\n",
            "Converting to graphs!\n",
            "5it [00:00, 80.45it/s]\n",
            "df       target  ...                                           stresses\n",
            "0 -24.544487  ...  [[6.72758243, 0.0, -0.0], [0.0, 6.72758243, -0...\n",
            "1 -24.552075  ...  [[-2.63233564, -7.59786602, 0.0], [-7.59786614...\n",
            "2 -24.552079  ...  [[-2.63361049, 7.59788158, 0.0], [7.59788164, ...\n",
            "3 -24.549425  ...  [[-3.05920192, 0.0, 0.0], [0.0, -2.6731278, -9...\n",
            "4 -24.549425  ...  [[-3.0592157, 0.0, 0.0], [0.0, -2.67316062, 9....\n",
            "\n",
            "[5 rows x 5 columns]\n",
            "building line graphs\n",
            "100% 5/5 [00:00<00:00, 474.53it/s]\n",
            "data range -24.54929028 -24.5582018\n",
            "Converting to graphs!\n",
            "5it [00:00, 74.88it/s]\n",
            "df       target  ...                                           stresses\n",
            "0 -24.549292  ...  [[-2.85120342, 0.0, -9.93107547], [0.0, -3.137...\n",
            "1 -24.549290  ...  [[-2.85103816, 0.0, 9.93105779], [0.0, -3.1376...\n",
            "2 -24.558198  ...  [[-2.94028928, 0.0, 0.0], [0.0, -2.93597292, 0...\n",
            "3 -24.558198  ...  [[-2.94044255, 0.0, 0.0], [0.0, -2.93613943, 0...\n",
            "4 -24.558202  ...  [[-2.93418187, 0.0, 0.0], [0.0, -2.93418187, 0...\n",
            "\n",
            "[5 rows x 5 columns]\n",
            "building line graphs\n",
            "100% 5/5 [00:00<00:00, 697.59it/s]\n",
            "n_train: 40\n",
            "n_val  : 5\n",
            "n_test : 5\n",
            "version='112bbedebdaecf59fb18e11c929080fb2f358246' dataset='user_data' target='target' atom_features='cgcnn' neighbor_strategy='k-nearest' id_tag='jid' random_seed=123 classification_threshold=None n_val=None n_test=None n_train=None train_ratio=0.8 val_ratio=0.1 test_ratio=0.1 target_multiplication_factor=None epochs=3 batch_size=2 weight_decay=1e-05 learning_rate=0.001 filename='sample' warmup_steps=2000 criterion='l1' optimizer='adamw' scheduler='onecycle' pin_memory=False save_dataloader=False write_checkpoint=True write_predictions=True store_outputs=False progress=True log_tensorboard=False standard_scalar_and_pca=False use_canonize=False num_workers=0 cutoff=8.0 cutoff_extra=3.0 max_neighbors=12 keep_data_order=True normalize_graph_level_loss=False distributed=False data_parallel=False n_early_stopping=None output_dir='temp' model=ALIGNNAtomWiseConfig(name='alignn_atomwise', alignn_layers=4, gcn_layers=4, atom_input_features=92, edge_input_features=80, triplet_input_features=40, embedding_features=64, hidden_features=256, output_features=1, grad_multiplier=-1, calculate_gradient=True, atomwise_output_features=0, graphwise_weight=0.85, gradwise_weight=0.05, stresswise_weight=0.05, atomwise_weight=0.0, link='identity', zero_inflated=False, classification=False, force_mult_natoms=False, energy_mult_natoms=False, include_pos_deriv=False, use_cutoff_function=False, inner_cutoff=6.0, stress_multiplier=1.0, add_reverse_forces=False, lg_on_fly=False, batch_stress=True, extra_features=0)\n",
            "config:\n",
            "{'atom_features': 'cgcnn',\n",
            " 'batch_size': 2,\n",
            " 'classification_threshold': None,\n",
            " 'criterion': 'l1',\n",
            " 'cutoff': 8.0,\n",
            " 'cutoff_extra': 3.0,\n",
            " 'data_parallel': False,\n",
            " 'dataset': 'user_data',\n",
            " 'distributed': False,\n",
            " 'epochs': 3,\n",
            " 'filename': 'sample',\n",
            " 'id_tag': 'jid',\n",
            " 'keep_data_order': True,\n",
            " 'learning_rate': 0.001,\n",
            " 'log_tensorboard': False,\n",
            " 'max_neighbors': 12,\n",
            " 'model': {'add_reverse_forces': False,\n",
            "           'alignn_layers': 4,\n",
            "           'atom_input_features': 92,\n",
            "           'atomwise_output_features': 0,\n",
            "           'atomwise_weight': 0.0,\n",
            "           'batch_stress': True,\n",
            "           'calculate_gradient': True,\n",
            "           'classification': False,\n",
            "           'edge_input_features': 80,\n",
            "           'embedding_features': 64,\n",
            "           'energy_mult_natoms': False,\n",
            "           'extra_features': 0,\n",
            "           'force_mult_natoms': False,\n",
            "           'gcn_layers': 4,\n",
            "           'grad_multiplier': -1,\n",
            "           'gradwise_weight': 0.05,\n",
            "           'graphwise_weight': 0.85,\n",
            "           'hidden_features': 256,\n",
            "           'include_pos_deriv': False,\n",
            "           'inner_cutoff': 6.0,\n",
            "           'lg_on_fly': False,\n",
            "           'link': 'identity',\n",
            "           'name': 'alignn_atomwise',\n",
            "           'output_features': 1,\n",
            "           'stress_multiplier': 1.0,\n",
            "           'stresswise_weight': 0.05,\n",
            "           'triplet_input_features': 40,\n",
            "           'use_cutoff_function': False,\n",
            "           'zero_inflated': False},\n",
            " 'n_early_stopping': None,\n",
            " 'n_test': None,\n",
            " 'n_train': None,\n",
            " 'n_val': None,\n",
            " 'neighbor_strategy': 'k-nearest',\n",
            " 'normalize_graph_level_loss': False,\n",
            " 'num_workers': 0,\n",
            " 'optimizer': 'adamw',\n",
            " 'output_dir': 'temp',\n",
            " 'pin_memory': False,\n",
            " 'progress': True,\n",
            " 'random_seed': 123,\n",
            " 'save_dataloader': False,\n",
            " 'scheduler': 'onecycle',\n",
            " 'standard_scalar_and_pca': False,\n",
            " 'store_outputs': False,\n",
            " 'target': 'target',\n",
            " 'target_multiplication_factor': None,\n",
            " 'test_ratio': 0.1,\n",
            " 'train_ratio': 0.8,\n",
            " 'use_canonize': False,\n",
            " 'val_ratio': 0.1,\n",
            " 'version': '112bbedebdaecf59fb18e11c929080fb2f358246',\n",
            " 'warmup_steps': 2000,\n",
            " 'weight_decay': 1e-05,\n",
            " 'write_checkpoint': True,\n",
            " 'write_predictions': True}\n",
            "/usr/local/lib/python3.10/dist-packages/dgl/backend/pytorch/tensor.py:445: UserWarning: TypedStorage is deprecated. It will be removed in the future and UntypedStorage will be the only storage class. This should only matter to you if you are using storages directly.  To access UntypedStorage directly, use tensor.untyped_storage() instead of tensor.storage()\n",
            "  assert input.numel() == input.storage().size(), (\n",
            "/usr/local/lib/python3.10/dist-packages/torch/optim/lr_scheduler.py:139: UserWarning: Detected call of `lr_scheduler.step()` before `optimizer.step()`. In PyTorch 1.1.0 and later, you should call them in the opposite order: `optimizer.step()` before `lr_scheduler.step()`.  Failure to do this will result in PyTorch skipping the first value of the learning rate schedule. See more details at https://pytorch.org/docs/stable/optim.html#how-to-adjust-learning-rate\n",
            "  warnings.warn(\"Detected call of `lr_scheduler.step()` before `optimizer.step()`. \"\n",
            "TrainLoss Epoch 0 total 140.17501783370972 out 8.085291256010532 atom nan grad 0.016666958334027177 stress 2.70839435660671 time 4.805545091629028\n",
            "/usr/local/lib/python3.10/dist-packages/dgl/backend/pytorch/tensor.py:445: UserWarning: TypedStorage is deprecated. It will be removed in the future and UntypedStorage will be the only storage class. This should only matter to you if you are using storages directly.  To access UntypedStorage directly, use tensor.untyped_storage() instead of tensor.storage()\n",
            "  assert input.numel() == input.storage().size(), (\n",
            "ValLoss Epoch 0 total 17.595269203186035 out 10.158856868743896 atom nan grad 0.010701990314686329 stress 3.2414251000510363 Saving model\n",
            "/usr/local/lib/python3.10/dist-packages/dgl/backend/pytorch/tensor.py:445: UserWarning: TypedStorage is deprecated. It will be removed in the future and UntypedStorage will be the only storage class. This should only matter to you if you are using storages directly.  To access UntypedStorage directly, use tensor.untyped_storage() instead of tensor.storage()\n",
            "  assert input.numel() == input.storage().size(), (\n",
            "TrainLoss Epoch 1 total 50.18238401412964 out 2.794424819946289 atom nan grad 0.016950831400133096 stress 2.6602097301267627 time 3.2335216999053955\n",
            "/usr/local/lib/python3.10/dist-packages/dgl/backend/pytorch/tensor.py:445: UserWarning: TypedStorage is deprecated. It will be removed in the future and UntypedStorage will be the only storage class. This should only matter to you if you are using storages directly.  To access UntypedStorage directly, use tensor.untyped_storage() instead of tensor.storage()\n",
            "  assert input.numel() == input.storage().size(), (\n",
            "ValLoss Epoch 1 total 9.419926166534424 out 5.348299026489258 atom nan grad 0.011327162866291474 stress 3.266847177082672 Saving model\n",
            "/usr/local/lib/python3.10/dist-packages/dgl/backend/pytorch/tensor.py:445: UserWarning: TypedStorage is deprecated. It will be removed in the future and UntypedStorage will be the only storage class. This should only matter to you if you are using storages directly.  To access UntypedStorage directly, use tensor.untyped_storage() instead of tensor.storage()\n",
            "  assert input.numel() == input.storage().size(), (\n",
            "TrainLoss Epoch 2 total 16.7517349421978 out 0.8285558223724365 atom nan grad 0.017083871516913155 stress 2.649201668739761 time 3.172232151031494\n",
            "/usr/local/lib/python3.10/dist-packages/dgl/backend/pytorch/tensor.py:445: UserWarning: TypedStorage is deprecated. It will be removed in the future and UntypedStorage will be the only storage class. This should only matter to you if you are using storages directly.  To access UntypedStorage directly, use tensor.untyped_storage() instead of tensor.storage()\n",
            "  assert input.numel() == input.storage().size(), (\n",
            "ValLoss Epoch 2 total 1.164900541305542 out 0.4922361373901367 atom nan grad 0.010745721304455932 stress 3.270245441878015 Saving model\n",
            "/usr/local/lib/python3.10/dist-packages/dgl/backend/pytorch/tensor.py:445: UserWarning: TypedStorage is deprecated. It will be removed in the future and UntypedStorage will be the only storage class. This should only matter to you if you are using storages directly.  To access UntypedStorage directly, use tensor.untyped_storage() instead of tensor.storage()\n",
            "  assert input.numel() == input.storage().size(), (\n",
            "/usr/local/lib/python3.10/dist-packages/torch/nn/modules/loss.py:101: UserWarning: Using a target size (torch.Size([1])) that is different to the input size (torch.Size([])). This will likely lead to incorrect results due to broadcasting. Please ensure they have the same size.\n",
            "  return F.l1_loss(input, target, reduction=self.reduction)\n",
            "TestLoss 2 2.624993145465851\n",
            "Time taken (s) 13.18805480003357\n"
          ]
        }
      ]
    },
    {
      "cell_type": "markdown",
      "source": [
        "The generated model is saved as best_model.pt"
      ],
      "metadata": {
        "id": "M-6U-D-V40lQ"
      }
    },
    {
      "cell_type": "code",
      "source": [
        "!ls -altr temp"
      ],
      "metadata": {
        "id": "qvgrKa9q4oBu",
        "outputId": "86dc5847-400a-4951-fdb4-01a5e69423da",
        "colab": {
          "base_uri": "https://localhost:8080/"
        }
      },
      "execution_count": 27,
      "outputs": [
        {
          "output_type": "stream",
          "name": "stdout",
          "text": [
            "total 47668\n",
            "-rw-r--r-- 1 root root      241 Mar 19 06:09 prediction_results_test_set.csv\n",
            "drwxr-xr-x 2 root root     4096 Mar 19 06:09 .\n",
            "-rw-r--r-- 1 root root      778 Mar 19 06:09 prediction_results_train_set.csv\n",
            "drwxr-xr-x 6 root root     4096 Mar 19 06:14 ..\n",
            "-rw-r--r-- 1 root root       68 Mar 19 06:15 mad\n",
            "-rw-r--r-- 1 root root      489 Mar 19 06:15 ids_train_val_test.json\n",
            "-rw-r--r-- 1 root root       34 Mar 19 06:15 train_data_data_range\n",
            "-rw-r--r-- 1 root root       34 Mar 19 06:15 val_data_data_range\n",
            "-rw-r--r-- 1 root root       33 Mar 19 06:15 test_data_data_range\n",
            "-rw-r--r-- 1 root root     2170 Mar 19 06:15 config.json\n",
            "-rw-r--r-- 1 root root      202 Mar 19 06:15 history_train.json\n",
            "-rw-r--r-- 1 root root 16177805 Mar 19 06:15 current_model.pt\n",
            "-rw-r--r-- 1 root root 16177223 Mar 19 06:15 best_model.pt\n",
            "-rw-r--r-- 1 root root   178483 Mar 19 06:15 Train_results.json\n",
            "-rw-r--r-- 1 root root    17948 Mar 19 06:15 Val_results.json\n",
            "-rw-r--r-- 1 root root      204 Mar 19 06:15 history_val.json\n",
            "-rw-r--r-- 1 root root    22268 Mar 19 06:15 Test_results.json\n",
            "-rw-r--r-- 1 root root 16177223 Mar 19 06:15 last_model.pt\n"
          ]
        }
      ]
    },
    {
      "cell_type": "markdown",
      "source": [
        "# 6. Additional examples:Training [JARVIS-DFT](https://jarvis.nist.gov/jarvisdft) 2D exfoliation energy model, training [QM9](http://quantum-machine.org/datasets/) U0 model"
      ],
      "metadata": {
        "id": "Qc2OOxiKKTxG"
      }
    },
    {
      "cell_type": "markdown",
      "source": [
        "#Train a model for JARVIS-DFT 2D Exfoliation energy"
      ],
      "metadata": {
        "id": "kC8yi5z7Sh3G"
      }
    },
    {
      "cell_type": "markdown",
      "source": [
        "There are quite a few datasets available here:https://jarvis-tools.readthedocs.io/en/master/databases.html\n",
        "In the following example, we will use the JARVIS-DFT 2D dataset"
      ],
      "metadata": {
        "id": "01bLUnEF4anq"
      }
    },
    {
      "cell_type": "markdown",
      "source": [
        "Get data in id_prop.csv format"
      ],
      "metadata": {
        "id": "6e0uz_WaUmbE"
      }
    },
    {
      "cell_type": "code",
      "source": [
        "from jarvis.db.figshare import data as jdata\n",
        "from jarvis.core.atoms import Atoms\n",
        "import os\n",
        "\n",
        "cwd = os.getcwd() #current working directory\n",
        "temp_dir_name = \"DataDir_ExfoEnergy\"\n",
        "os.makedirs(temp_dir_name)\n",
        "os.chdir(temp_dir_name)\n",
        "\n",
        "dft_3d = jdata(\"dft_3d\")\n",
        "prop = \"exfoliation_energy\" #\"optb88vdw_bandgap\"\n",
        "f = open(\"id_prop.csv\", \"w\")\n",
        "# count = 0\n",
        "for i in dft_3d:\n",
        "    atoms = Atoms.from_dict(i[\"atoms\"])\n",
        "    jid = i[\"jid\"]\n",
        "    poscar_name = \"POSCAR-\" + jid + \".vasp\"\n",
        "    target = i[prop]\n",
        "    if target != \"na\":\n",
        "        atoms.write_poscar(poscar_name)\n",
        "        f.write(\"%s,%6f\\n\" % (poscar_name, target))\n",
        "        # count += 1\n",
        "        # if count == max_samples:\n",
        "        #     break\n",
        "f.close()\n",
        "\n",
        "os.chdir(cwd)"
      ],
      "metadata": {
        "id": "apVVRqVgSdbG",
        "outputId": "26990d2f-c5a4-4524-c4b1-e029fa6b615a",
        "colab": {
          "base_uri": "https://localhost:8080/"
        }
      },
      "execution_count": 28,
      "outputs": [
        {
          "output_type": "stream",
          "name": "stdout",
          "text": [
            "Obtaining 3D dataset 76k ...\n",
            "Reference:https://www.nature.com/articles/s41524-020-00440-1\n",
            "Other versions:https://doi.org/10.6084/m9.figshare.6815699\n"
          ]
        },
        {
          "output_type": "stream",
          "name": "stderr",
          "text": [
            "100%|██████████| 40.8M/40.8M [00:03<00:00, 13.0MiB/s]\n"
          ]
        },
        {
          "output_type": "stream",
          "name": "stdout",
          "text": [
            "Loading the zipfile...\n",
            "Loading completed.\n"
          ]
        }
      ]
    },
    {
      "cell_type": "code",
      "metadata": {
        "id": "v62Vzv2_2M2s",
        "outputId": "07ba140b-9888-44a2-ca5f-61ede6afc9ea",
        "colab": {
          "base_uri": "https://localhost:8080/"
        }
      },
      "source": [
        "!ls -altr  DataDir_ExfoEnergy/*.vasp | wc -l\n"
      ],
      "execution_count": 29,
      "outputs": [
        {
          "output_type": "stream",
          "name": "stdout",
          "text": [
            "813\n"
          ]
        }
      ]
    },
    {
      "cell_type": "code",
      "source": [
        " !wc -l DataDir_ExfoEnergy/id_prop.csv"
      ],
      "metadata": {
        "id": "SQW9wmpsToBR",
        "outputId": "1f5b5055-88aa-4b78-a2fb-a0e3e368f5e8",
        "colab": {
          "base_uri": "https://localhost:8080/"
        }
      },
      "execution_count": 30,
      "outputs": [
        {
          "output_type": "stream",
          "name": "stdout",
          "text": [
            "813 DataDir_ExfoEnergy/id_prop.csv\n"
          ]
        }
      ]
    },
    {
      "cell_type": "code",
      "source": [
        "import time\n",
        "t1=time.time()\n",
        "!train_alignn.py --root_dir \"DataDir_ExfoEnergy\" --epochs 1 --batch_size 64 --config \"alignn/examples/sample_data/config_example.json\" --output_dir=\"ExfoEnOut\"\n",
        "t2=time.time()\n",
        "print ('Time in s',t2-t1)"
      ],
      "metadata": {
        "id": "E8aEhUTHT-AV",
        "outputId": "2c5ead55-c274-44c8-d34c-de7830e621a7",
        "colab": {
          "base_uri": "https://localhost:8080/"
        }
      },
      "execution_count": 31,
      "outputs": [
        {
          "output_type": "stream",
          "name": "stdout",
          "text": [
            "id_prop_csv_file exists True\n",
            "len dataset 813\n",
            "MAX val: 948.93\n",
            "MIN val: 0.03\n",
            "MAD: 62.629814227293544\n",
            "Baseline MAE: 53.28148072174739\n",
            "data range 948.93 0.03\n",
            "Converting to graphs!\n",
            "650it [00:11, 55.51it/s]\n",
            "df                          jid  target                                              atoms\n",
            "0       POSCAR-JVASP-10.vasp   83.78  {'lattice_mat': [[1.6777483798834445, -2.90594...\n",
            "1    POSCAR-JVASP-60702.vasp   88.81  {'lattice_mat': [[9.067075684180468, -0.0, 0.0...\n",
            "2    POSCAR-JVASP-28397.vasp    0.03  {'lattice_mat': [[0.0, -3.9587610833154616, 0....\n",
            "3     POSCAR-JVASP-3534.vasp   71.05  {'lattice_mat': [[3.9274082409870625, 0.0, 0.0...\n",
            "4      POSCAR-JVASP-323.vasp   89.57  {'lattice_mat': [[3.413342172498346, 0.0, 0.0]...\n",
            "..                       ...     ...                                                ...\n",
            "645  POSCAR-JVASP-29304.vasp   94.30  {'lattice_mat': [[6.442061375822732, -0.0, 0.0...\n",
            "646  POSCAR-JVASP-29728.vasp   38.76  {'lattice_mat': [[3.704728408598396, 0.0005419...\n",
            "647  POSCAR-JVASP-13886.vasp  430.04  {'lattice_mat': [[4.036876234014432, -0.0, -0....\n",
            "648   POSCAR-JVASP-5053.vasp   78.87  {'lattice_mat': [[3.281797985213625, -5.684241...\n",
            "649    POSCAR-JVASP-281.vasp  100.68  {'lattice_mat': [[3.8613008205176653, 0.0, 0.0...\n",
            "\n",
            "[650 rows x 3 columns]\n",
            "warning: could not load CGCNN features for 103\n",
            "Setting it to max atomic number available here, 103\n",
            "warning: could not load CGCNN features for 101\n",
            "Setting it to max atomic number available here, 103\n",
            "warning: could not load CGCNN features for 102\n",
            "Setting it to max atomic number available here, 103\n",
            "building line graphs\n",
            "100% 650/650 [00:00<00:00, 1369.49it/s]\n",
            "data range 515.58 3.01\n",
            "Converting to graphs!\n",
            "81it [00:01, 59.57it/s]\n",
            "df                         jid  target                                              atoms\n",
            "0   POSCAR-JVASP-29730.vasp  115.50  {'lattice_mat': [[3.6904407984509837, 6.204186...\n",
            "1   POSCAR-JVASP-30472.vasp   47.00  {'lattice_mat': [[3.8434787884138193, 1e-16, -...\n",
            "2   POSCAR-JVASP-29780.vasp   77.46  {'lattice_mat': [[4.028362426566927, -0.0, 0.0...\n",
            "3   POSCAR-JVASP-13787.vasp   36.37  {'lattice_mat': [[3.1720706427637215, 0.0, 0.0...\n",
            "4   POSCAR-JVASP-29345.vasp   95.78  {'lattice_mat': [[6.7689601651861375, -0.02754...\n",
            "..                      ...     ...                                                ...\n",
            "76    POSCAR-JVASP-594.vasp   87.15  {'lattice_mat': [[1.6714331377291298, -2.89500...\n",
            "77  POSCAR-JVASP-29651.vasp   74.42  {'lattice_mat': [[5.966510517639799, -0.0, 0.0...\n",
            "78     POSCAR-JVASP-17.vasp   71.34  {'lattice_mat': [[1.2561627670404694, -2.17573...\n",
            "79    POSCAR-JVASP-210.vasp   86.83  {'lattice_mat': [[1.8184277097321442, -3.14960...\n",
            "80    POSCAR-JVASP-216.vasp   92.05  {'lattice_mat': [[1.8802499806261772, -3.25668...\n",
            "\n",
            "[81 rows x 3 columns]\n",
            "building line graphs\n",
            "100% 81/81 [00:00<00:00, 1682.17it/s]\n",
            "data range 411.29 8.22\n",
            "Converting to graphs!\n",
            "81it [00:01, 57.10it/s]\n",
            "df                         jid  target                                              atoms\n",
            "0    POSCAR-JVASP-4657.vasp   57.08  {'lattice_mat': [[3.5154588372382776, -0.01415...\n",
            "1     POSCAR-JVASP-368.vasp   55.49  {'lattice_mat': [[0.0, 5.168129292765986, -0.0...\n",
            "2     POSCAR-JVASP-578.vasp   96.63  {'lattice_mat': [[1.696752283225675, -2.938860...\n",
            "3    POSCAR-JVASP-9389.vasp  247.89  {'lattice_mat': [[4.3190358870965815, 0.0, 0.0...\n",
            "4    POSCAR-JVASP-4660.vasp    8.22  {'lattice_mat': [[3.2934741502618285, 0.0, -0....\n",
            "..                      ...     ...                                                ...\n",
            "76  POSCAR-JVASP-57459.vasp  253.80  {'lattice_mat': [[4.015100733795513, 0.0, 0.0]...\n",
            "77  POSCAR-JVASP-12888.vasp   52.17  {'lattice_mat': [[4.59434075736166, -2.2006450...\n",
            "78  POSCAR-JVASP-58999.vasp  234.05  {'lattice_mat': [[3.801969399487828, -6.585204...\n",
            "79   POSCAR-JVASP-4645.vasp  100.85  {'lattice_mat': [[8.125856213603134, 0.0, 0.0]...\n",
            "80   POSCAR-JVASP-5581.vasp   94.87  {'lattice_mat': [[6.540390425613241, 0.0, 0.0]...\n",
            "\n",
            "[81 rows x 3 columns]\n",
            "building line graphs\n",
            "100% 81/81 [00:00<00:00, 1669.08it/s]\n",
            "n_train: 650\n",
            "n_val  : 81\n",
            "n_test : 81\n",
            "version='112bbedebdaecf59fb18e11c929080fb2f358246' dataset='user_data' target='target' atom_features='cgcnn' neighbor_strategy='k-nearest' id_tag='jid' random_seed=123 classification_threshold=None n_val=None n_test=None n_train=None train_ratio=0.8 val_ratio=0.1 test_ratio=0.1 target_multiplication_factor=None epochs=1 batch_size=64 weight_decay=1e-05 learning_rate=0.001 filename='sample' warmup_steps=2000 criterion='mse' optimizer='adamw' scheduler='onecycle' pin_memory=False save_dataloader=False write_checkpoint=True write_predictions=True store_outputs=True progress=True log_tensorboard=False standard_scalar_and_pca=False use_canonize=True num_workers=0 cutoff=8.0 cutoff_extra=3.0 max_neighbors=12 keep_data_order=True normalize_graph_level_loss=False distributed=False data_parallel=False n_early_stopping=None output_dir='ExfoEnOut' model=ALIGNNAtomWiseConfig(name='alignn_atomwise', alignn_layers=4, gcn_layers=4, atom_input_features=92, edge_input_features=80, triplet_input_features=40, embedding_features=64, hidden_features=256, output_features=1, grad_multiplier=-1, calculate_gradient=True, atomwise_output_features=0, graphwise_weight=1.0, gradwise_weight=0.0, stresswise_weight=0.0, atomwise_weight=0.0, link='identity', zero_inflated=False, classification=False, force_mult_natoms=False, energy_mult_natoms=False, include_pos_deriv=False, use_cutoff_function=False, inner_cutoff=6.0, stress_multiplier=1.0, add_reverse_forces=False, lg_on_fly=False, batch_stress=True, extra_features=0)\n",
            "config:\n",
            "{'atom_features': 'cgcnn',\n",
            " 'batch_size': 64,\n",
            " 'classification_threshold': None,\n",
            " 'criterion': 'mse',\n",
            " 'cutoff': 8.0,\n",
            " 'cutoff_extra': 3.0,\n",
            " 'data_parallel': False,\n",
            " 'dataset': 'user_data',\n",
            " 'distributed': False,\n",
            " 'epochs': 1,\n",
            " 'filename': 'sample',\n",
            " 'id_tag': 'jid',\n",
            " 'keep_data_order': True,\n",
            " 'learning_rate': 0.001,\n",
            " 'log_tensorboard': False,\n",
            " 'max_neighbors': 12,\n",
            " 'model': {'add_reverse_forces': False,\n",
            "           'alignn_layers': 4,\n",
            "           'atom_input_features': 92,\n",
            "           'atomwise_output_features': 0,\n",
            "           'atomwise_weight': 0.0,\n",
            "           'batch_stress': True,\n",
            "           'calculate_gradient': True,\n",
            "           'classification': False,\n",
            "           'edge_input_features': 80,\n",
            "           'embedding_features': 64,\n",
            "           'energy_mult_natoms': False,\n",
            "           'extra_features': 0,\n",
            "           'force_mult_natoms': False,\n",
            "           'gcn_layers': 4,\n",
            "           'grad_multiplier': -1,\n",
            "           'gradwise_weight': 0.0,\n",
            "           'graphwise_weight': 1.0,\n",
            "           'hidden_features': 256,\n",
            "           'include_pos_deriv': False,\n",
            "           'inner_cutoff': 6.0,\n",
            "           'lg_on_fly': False,\n",
            "           'link': 'identity',\n",
            "           'name': 'alignn_atomwise',\n",
            "           'output_features': 1,\n",
            "           'stress_multiplier': 1.0,\n",
            "           'stresswise_weight': 0.0,\n",
            "           'triplet_input_features': 40,\n",
            "           'use_cutoff_function': False,\n",
            "           'zero_inflated': False},\n",
            " 'n_early_stopping': None,\n",
            " 'n_test': None,\n",
            " 'n_train': None,\n",
            " 'n_val': None,\n",
            " 'neighbor_strategy': 'k-nearest',\n",
            " 'normalize_graph_level_loss': False,\n",
            " 'num_workers': 0,\n",
            " 'optimizer': 'adamw',\n",
            " 'output_dir': 'ExfoEnOut',\n",
            " 'pin_memory': False,\n",
            " 'progress': True,\n",
            " 'random_seed': 123,\n",
            " 'save_dataloader': False,\n",
            " 'scheduler': 'onecycle',\n",
            " 'standard_scalar_and_pca': False,\n",
            " 'store_outputs': True,\n",
            " 'target': 'target',\n",
            " 'target_multiplication_factor': None,\n",
            " 'test_ratio': 0.1,\n",
            " 'train_ratio': 0.8,\n",
            " 'use_canonize': True,\n",
            " 'val_ratio': 0.1,\n",
            " 'version': '112bbedebdaecf59fb18e11c929080fb2f358246',\n",
            " 'warmup_steps': 2000,\n",
            " 'weight_decay': 1e-05,\n",
            " 'write_checkpoint': True,\n",
            " 'write_predictions': True}\n",
            "/usr/local/lib/python3.10/dist-packages/dgl/backend/pytorch/tensor.py:445: UserWarning: TypedStorage is deprecated. It will be removed in the future and UntypedStorage will be the only storage class. This should only matter to you if you are using storages directly.  To access UntypedStorage directly, use tensor.untyped_storage() instead of tensor.storage()\n",
            "  assert input.numel() == input.storage().size(), (\n",
            "/usr/local/lib/python3.10/dist-packages/torch/optim/lr_scheduler.py:139: UserWarning: Detected call of `lr_scheduler.step()` before `optimizer.step()`. In PyTorch 1.1.0 and later, you should call them in the opposite order: `optimizer.step()` before `lr_scheduler.step()`.  Failure to do this will result in PyTorch skipping the first value of the learning rate schedule. See more details at https://pytorch.org/docs/stable/optim.html#how-to-adjust-learning-rate\n",
            "  warnings.warn(\"Detected call of `lr_scheduler.step()` before `optimizer.step()`. \"\n",
            "TrainLoss Epoch 0 total 830.8374443054199 out 83.08374333619432 atom nan grad nan stress nan time 2.9066736698150635\n",
            "/usr/local/lib/python3.10/dist-packages/dgl/backend/pytorch/tensor.py:445: UserWarning: TypedStorage is deprecated. It will be removed in the future and UntypedStorage will be the only storage class. This should only matter to you if you are using storages directly.  To access UntypedStorage directly, use tensor.untyped_storage() instead of tensor.storage()\n",
            "  assert input.numel() == input.storage().size(), (\n",
            "ValLoss Epoch 0 total 52.81707763671875 out 52.81707796826959 atom nan grad nan stress nan Saving model\n",
            "/usr/local/lib/python3.10/dist-packages/dgl/backend/pytorch/tensor.py:445: UserWarning: TypedStorage is deprecated. It will be removed in the future and UntypedStorage will be the only storage class. This should only matter to you if you are using storages directly.  To access UntypedStorage directly, use tensor.untyped_storage() instead of tensor.storage()\n",
            "  assert input.numel() == input.storage().size(), (\n",
            "/usr/local/lib/python3.10/dist-packages/torch/nn/modules/loss.py:101: UserWarning: Using a target size (torch.Size([1])) that is different to the input size (torch.Size([])). This will likely lead to incorrect results due to broadcasting. Please ensure they have the same size.\n",
            "  return F.l1_loss(input, target, reduction=self.reduction)\n",
            "TestLoss 0 5096.897136688232\n",
            "Test MAE: 62.92465620865057\n",
            "/usr/local/lib/python3.10/dist-packages/dgl/backend/pytorch/tensor.py:445: UserWarning: TypedStorage is deprecated. It will be removed in the future and UntypedStorage will be the only storage class. This should only matter to you if you are using storages directly.  To access UntypedStorage directly, use tensor.untyped_storage() instead of tensor.storage()\n",
            "  assert input.numel() == input.storage().size(), (\n",
            "Time taken (s) 10.493801355361938\n",
            "Time in s 30.157432794570923\n"
          ]
        }
      ]
    },
    {
      "cell_type": "code",
      "source": [
        "!ls ExfoEnOut"
      ],
      "metadata": {
        "id": "luExy9FkWJ81",
        "outputId": "dfe35fb0-b52b-4977-942e-adc240c0cf68",
        "colab": {
          "base_uri": "https://localhost:8080/"
        }
      },
      "execution_count": 32,
      "outputs": [
        {
          "output_type": "stream",
          "name": "stdout",
          "text": [
            "best_model.pt\t\t last_model.pt\t\t\t   train_data_data_range\n",
            "config.json\t\t mad\t\t\t\t   Train_results.json\n",
            "current_model.pt\t prediction_results_test_set.csv   val_data_data_range\n",
            "history_train.json\t prediction_results_train_set.csv  Val_results.json\n",
            "history_val.json\t test_data_data_range\n",
            "ids_train_val_test.json  Test_results.json\n"
          ]
        }
      ]
    },
    {
      "cell_type": "markdown",
      "source": [
        "Here checkpoints are the model parameter files that can be loaded in torch library to make predictions such as [this example](https://github.com/usnistgov/alignn/blob/main/alignn/scripts/predict.py)."
      ],
      "metadata": {
        "id": "zzrjEIMKpdFS"
      }
    },
    {
      "cell_type": "code",
      "source": [
        "import matplotlib.pyplot as plt\n",
        "%matplotlib inline\n",
        "import pandas as pd\n",
        "df = pd.read_csv('/content/alignn/ExfoEnOut/prediction_results_test_set.csv')"
      ],
      "metadata": {
        "id": "EhzUYeD1oYpD"
      },
      "execution_count": 33,
      "outputs": []
    },
    {
      "cell_type": "markdown",
      "source": [
        "These are predictions on 10 % held dataset that the model has never seen"
      ],
      "metadata": {
        "id": "Tz-AsQnNo9-2"
      }
    },
    {
      "cell_type": "code",
      "source": [
        "df"
      ],
      "metadata": {
        "id": "hGGnsXseo7Qz",
        "outputId": "bb3271c0-165c-4334-cbf5-29f932c18acb",
        "colab": {
          "base_uri": "https://localhost:8080/",
          "height": 424
        }
      },
      "execution_count": 34,
      "outputs": [
        {
          "output_type": "execute_result",
          "data": {
            "text/plain": [
              "                         id      target  prediction\n",
              "0    POSCAR-JVASP-4657.vasp   57.080002   47.001801\n",
              "1     POSCAR-JVASP-368.vasp   55.490002   47.031479\n",
              "2     POSCAR-JVASP-578.vasp   96.629997   46.959553\n",
              "3    POSCAR-JVASP-9389.vasp  247.889999   47.397125\n",
              "4    POSCAR-JVASP-4660.vasp    8.220000   47.278667\n",
              "..                      ...         ...         ...\n",
              "76  POSCAR-JVASP-57459.vasp  253.800003   47.176769\n",
              "77  POSCAR-JVASP-12888.vasp   52.169998   47.512371\n",
              "78  POSCAR-JVASP-58999.vasp  234.050003   47.431438\n",
              "79   POSCAR-JVASP-4645.vasp  100.849998   47.170200\n",
              "80   POSCAR-JVASP-5581.vasp   94.870003   47.070179\n",
              "\n",
              "[81 rows x 3 columns]"
            ],
            "text/html": [
              "\n",
              "  <div id=\"df-c4bfc03b-85ae-48f4-8a08-916bf61dfbf2\" class=\"colab-df-container\">\n",
              "    <div>\n",
              "<style scoped>\n",
              "    .dataframe tbody tr th:only-of-type {\n",
              "        vertical-align: middle;\n",
              "    }\n",
              "\n",
              "    .dataframe tbody tr th {\n",
              "        vertical-align: top;\n",
              "    }\n",
              "\n",
              "    .dataframe thead th {\n",
              "        text-align: right;\n",
              "    }\n",
              "</style>\n",
              "<table border=\"1\" class=\"dataframe\">\n",
              "  <thead>\n",
              "    <tr style=\"text-align: right;\">\n",
              "      <th></th>\n",
              "      <th>id</th>\n",
              "      <th>target</th>\n",
              "      <th>prediction</th>\n",
              "    </tr>\n",
              "  </thead>\n",
              "  <tbody>\n",
              "    <tr>\n",
              "      <th>0</th>\n",
              "      <td>POSCAR-JVASP-4657.vasp</td>\n",
              "      <td>57.080002</td>\n",
              "      <td>47.001801</td>\n",
              "    </tr>\n",
              "    <tr>\n",
              "      <th>1</th>\n",
              "      <td>POSCAR-JVASP-368.vasp</td>\n",
              "      <td>55.490002</td>\n",
              "      <td>47.031479</td>\n",
              "    </tr>\n",
              "    <tr>\n",
              "      <th>2</th>\n",
              "      <td>POSCAR-JVASP-578.vasp</td>\n",
              "      <td>96.629997</td>\n",
              "      <td>46.959553</td>\n",
              "    </tr>\n",
              "    <tr>\n",
              "      <th>3</th>\n",
              "      <td>POSCAR-JVASP-9389.vasp</td>\n",
              "      <td>247.889999</td>\n",
              "      <td>47.397125</td>\n",
              "    </tr>\n",
              "    <tr>\n",
              "      <th>4</th>\n",
              "      <td>POSCAR-JVASP-4660.vasp</td>\n",
              "      <td>8.220000</td>\n",
              "      <td>47.278667</td>\n",
              "    </tr>\n",
              "    <tr>\n",
              "      <th>...</th>\n",
              "      <td>...</td>\n",
              "      <td>...</td>\n",
              "      <td>...</td>\n",
              "    </tr>\n",
              "    <tr>\n",
              "      <th>76</th>\n",
              "      <td>POSCAR-JVASP-57459.vasp</td>\n",
              "      <td>253.800003</td>\n",
              "      <td>47.176769</td>\n",
              "    </tr>\n",
              "    <tr>\n",
              "      <th>77</th>\n",
              "      <td>POSCAR-JVASP-12888.vasp</td>\n",
              "      <td>52.169998</td>\n",
              "      <td>47.512371</td>\n",
              "    </tr>\n",
              "    <tr>\n",
              "      <th>78</th>\n",
              "      <td>POSCAR-JVASP-58999.vasp</td>\n",
              "      <td>234.050003</td>\n",
              "      <td>47.431438</td>\n",
              "    </tr>\n",
              "    <tr>\n",
              "      <th>79</th>\n",
              "      <td>POSCAR-JVASP-4645.vasp</td>\n",
              "      <td>100.849998</td>\n",
              "      <td>47.170200</td>\n",
              "    </tr>\n",
              "    <tr>\n",
              "      <th>80</th>\n",
              "      <td>POSCAR-JVASP-5581.vasp</td>\n",
              "      <td>94.870003</td>\n",
              "      <td>47.070179</td>\n",
              "    </tr>\n",
              "  </tbody>\n",
              "</table>\n",
              "<p>81 rows × 3 columns</p>\n",
              "</div>\n",
              "    <div class=\"colab-df-buttons\">\n",
              "\n",
              "  <div class=\"colab-df-container\">\n",
              "    <button class=\"colab-df-convert\" onclick=\"convertToInteractive('df-c4bfc03b-85ae-48f4-8a08-916bf61dfbf2')\"\n",
              "            title=\"Convert this dataframe to an interactive table.\"\n",
              "            style=\"display:none;\">\n",
              "\n",
              "  <svg xmlns=\"http://www.w3.org/2000/svg\" height=\"24px\" viewBox=\"0 -960 960 960\">\n",
              "    <path d=\"M120-120v-720h720v720H120Zm60-500h600v-160H180v160Zm220 220h160v-160H400v160Zm0 220h160v-160H400v160ZM180-400h160v-160H180v160Zm440 0h160v-160H620v160ZM180-180h160v-160H180v160Zm440 0h160v-160H620v160Z\"/>\n",
              "  </svg>\n",
              "    </button>\n",
              "\n",
              "  <style>\n",
              "    .colab-df-container {\n",
              "      display:flex;\n",
              "      gap: 12px;\n",
              "    }\n",
              "\n",
              "    .colab-df-convert {\n",
              "      background-color: #E8F0FE;\n",
              "      border: none;\n",
              "      border-radius: 50%;\n",
              "      cursor: pointer;\n",
              "      display: none;\n",
              "      fill: #1967D2;\n",
              "      height: 32px;\n",
              "      padding: 0 0 0 0;\n",
              "      width: 32px;\n",
              "    }\n",
              "\n",
              "    .colab-df-convert:hover {\n",
              "      background-color: #E2EBFA;\n",
              "      box-shadow: 0px 1px 2px rgba(60, 64, 67, 0.3), 0px 1px 3px 1px rgba(60, 64, 67, 0.15);\n",
              "      fill: #174EA6;\n",
              "    }\n",
              "\n",
              "    .colab-df-buttons div {\n",
              "      margin-bottom: 4px;\n",
              "    }\n",
              "\n",
              "    [theme=dark] .colab-df-convert {\n",
              "      background-color: #3B4455;\n",
              "      fill: #D2E3FC;\n",
              "    }\n",
              "\n",
              "    [theme=dark] .colab-df-convert:hover {\n",
              "      background-color: #434B5C;\n",
              "      box-shadow: 0px 1px 3px 1px rgba(0, 0, 0, 0.15);\n",
              "      filter: drop-shadow(0px 1px 2px rgba(0, 0, 0, 0.3));\n",
              "      fill: #FFFFFF;\n",
              "    }\n",
              "  </style>\n",
              "\n",
              "    <script>\n",
              "      const buttonEl =\n",
              "        document.querySelector('#df-c4bfc03b-85ae-48f4-8a08-916bf61dfbf2 button.colab-df-convert');\n",
              "      buttonEl.style.display =\n",
              "        google.colab.kernel.accessAllowed ? 'block' : 'none';\n",
              "\n",
              "      async function convertToInteractive(key) {\n",
              "        const element = document.querySelector('#df-c4bfc03b-85ae-48f4-8a08-916bf61dfbf2');\n",
              "        const dataTable =\n",
              "          await google.colab.kernel.invokeFunction('convertToInteractive',\n",
              "                                                    [key], {});\n",
              "        if (!dataTable) return;\n",
              "\n",
              "        const docLinkHtml = 'Like what you see? Visit the ' +\n",
              "          '<a target=\"_blank\" href=https://colab.research.google.com/notebooks/data_table.ipynb>data table notebook</a>'\n",
              "          + ' to learn more about interactive tables.';\n",
              "        element.innerHTML = '';\n",
              "        dataTable['output_type'] = 'display_data';\n",
              "        await google.colab.output.renderOutput(dataTable, element);\n",
              "        const docLink = document.createElement('div');\n",
              "        docLink.innerHTML = docLinkHtml;\n",
              "        element.appendChild(docLink);\n",
              "      }\n",
              "    </script>\n",
              "  </div>\n",
              "\n",
              "\n",
              "<div id=\"df-3c86a825-47d2-4352-a322-9f5a8eb72985\">\n",
              "  <button class=\"colab-df-quickchart\" onclick=\"quickchart('df-3c86a825-47d2-4352-a322-9f5a8eb72985')\"\n",
              "            title=\"Suggest charts\"\n",
              "            style=\"display:none;\">\n",
              "\n",
              "<svg xmlns=\"http://www.w3.org/2000/svg\" height=\"24px\"viewBox=\"0 0 24 24\"\n",
              "     width=\"24px\">\n",
              "    <g>\n",
              "        <path d=\"M19 3H5c-1.1 0-2 .9-2 2v14c0 1.1.9 2 2 2h14c1.1 0 2-.9 2-2V5c0-1.1-.9-2-2-2zM9 17H7v-7h2v7zm4 0h-2V7h2v10zm4 0h-2v-4h2v4z\"/>\n",
              "    </g>\n",
              "</svg>\n",
              "  </button>\n",
              "\n",
              "<style>\n",
              "  .colab-df-quickchart {\n",
              "      --bg-color: #E8F0FE;\n",
              "      --fill-color: #1967D2;\n",
              "      --hover-bg-color: #E2EBFA;\n",
              "      --hover-fill-color: #174EA6;\n",
              "      --disabled-fill-color: #AAA;\n",
              "      --disabled-bg-color: #DDD;\n",
              "  }\n",
              "\n",
              "  [theme=dark] .colab-df-quickchart {\n",
              "      --bg-color: #3B4455;\n",
              "      --fill-color: #D2E3FC;\n",
              "      --hover-bg-color: #434B5C;\n",
              "      --hover-fill-color: #FFFFFF;\n",
              "      --disabled-bg-color: #3B4455;\n",
              "      --disabled-fill-color: #666;\n",
              "  }\n",
              "\n",
              "  .colab-df-quickchart {\n",
              "    background-color: var(--bg-color);\n",
              "    border: none;\n",
              "    border-radius: 50%;\n",
              "    cursor: pointer;\n",
              "    display: none;\n",
              "    fill: var(--fill-color);\n",
              "    height: 32px;\n",
              "    padding: 0;\n",
              "    width: 32px;\n",
              "  }\n",
              "\n",
              "  .colab-df-quickchart:hover {\n",
              "    background-color: var(--hover-bg-color);\n",
              "    box-shadow: 0 1px 2px rgba(60, 64, 67, 0.3), 0 1px 3px 1px rgba(60, 64, 67, 0.15);\n",
              "    fill: var(--button-hover-fill-color);\n",
              "  }\n",
              "\n",
              "  .colab-df-quickchart-complete:disabled,\n",
              "  .colab-df-quickchart-complete:disabled:hover {\n",
              "    background-color: var(--disabled-bg-color);\n",
              "    fill: var(--disabled-fill-color);\n",
              "    box-shadow: none;\n",
              "  }\n",
              "\n",
              "  .colab-df-spinner {\n",
              "    border: 2px solid var(--fill-color);\n",
              "    border-color: transparent;\n",
              "    border-bottom-color: var(--fill-color);\n",
              "    animation:\n",
              "      spin 1s steps(1) infinite;\n",
              "  }\n",
              "\n",
              "  @keyframes spin {\n",
              "    0% {\n",
              "      border-color: transparent;\n",
              "      border-bottom-color: var(--fill-color);\n",
              "      border-left-color: var(--fill-color);\n",
              "    }\n",
              "    20% {\n",
              "      border-color: transparent;\n",
              "      border-left-color: var(--fill-color);\n",
              "      border-top-color: var(--fill-color);\n",
              "    }\n",
              "    30% {\n",
              "      border-color: transparent;\n",
              "      border-left-color: var(--fill-color);\n",
              "      border-top-color: var(--fill-color);\n",
              "      border-right-color: var(--fill-color);\n",
              "    }\n",
              "    40% {\n",
              "      border-color: transparent;\n",
              "      border-right-color: var(--fill-color);\n",
              "      border-top-color: var(--fill-color);\n",
              "    }\n",
              "    60% {\n",
              "      border-color: transparent;\n",
              "      border-right-color: var(--fill-color);\n",
              "    }\n",
              "    80% {\n",
              "      border-color: transparent;\n",
              "      border-right-color: var(--fill-color);\n",
              "      border-bottom-color: var(--fill-color);\n",
              "    }\n",
              "    90% {\n",
              "      border-color: transparent;\n",
              "      border-bottom-color: var(--fill-color);\n",
              "    }\n",
              "  }\n",
              "</style>\n",
              "\n",
              "  <script>\n",
              "    async function quickchart(key) {\n",
              "      const quickchartButtonEl =\n",
              "        document.querySelector('#' + key + ' button');\n",
              "      quickchartButtonEl.disabled = true;  // To prevent multiple clicks.\n",
              "      quickchartButtonEl.classList.add('colab-df-spinner');\n",
              "      try {\n",
              "        const charts = await google.colab.kernel.invokeFunction(\n",
              "            'suggestCharts', [key], {});\n",
              "      } catch (error) {\n",
              "        console.error('Error during call to suggestCharts:', error);\n",
              "      }\n",
              "      quickchartButtonEl.classList.remove('colab-df-spinner');\n",
              "      quickchartButtonEl.classList.add('colab-df-quickchart-complete');\n",
              "    }\n",
              "    (() => {\n",
              "      let quickchartButtonEl =\n",
              "        document.querySelector('#df-3c86a825-47d2-4352-a322-9f5a8eb72985 button');\n",
              "      quickchartButtonEl.style.display =\n",
              "        google.colab.kernel.accessAllowed ? 'block' : 'none';\n",
              "    })();\n",
              "  </script>\n",
              "</div>\n",
              "\n",
              "  <div id=\"id_55d310c8-3876-4808-93a0-5cdabfcca253\">\n",
              "    <style>\n",
              "      .colab-df-generate {\n",
              "        background-color: #E8F0FE;\n",
              "        border: none;\n",
              "        border-radius: 50%;\n",
              "        cursor: pointer;\n",
              "        display: none;\n",
              "        fill: #1967D2;\n",
              "        height: 32px;\n",
              "        padding: 0 0 0 0;\n",
              "        width: 32px;\n",
              "      }\n",
              "\n",
              "      .colab-df-generate:hover {\n",
              "        background-color: #E2EBFA;\n",
              "        box-shadow: 0px 1px 2px rgba(60, 64, 67, 0.3), 0px 1px 3px 1px rgba(60, 64, 67, 0.15);\n",
              "        fill: #174EA6;\n",
              "      }\n",
              "\n",
              "      [theme=dark] .colab-df-generate {\n",
              "        background-color: #3B4455;\n",
              "        fill: #D2E3FC;\n",
              "      }\n",
              "\n",
              "      [theme=dark] .colab-df-generate:hover {\n",
              "        background-color: #434B5C;\n",
              "        box-shadow: 0px 1px 3px 1px rgba(0, 0, 0, 0.15);\n",
              "        filter: drop-shadow(0px 1px 2px rgba(0, 0, 0, 0.3));\n",
              "        fill: #FFFFFF;\n",
              "      }\n",
              "    </style>\n",
              "    <button class=\"colab-df-generate\" onclick=\"generateWithVariable('df')\"\n",
              "            title=\"Generate code using this dataframe.\"\n",
              "            style=\"display:none;\">\n",
              "\n",
              "  <svg xmlns=\"http://www.w3.org/2000/svg\" height=\"24px\"viewBox=\"0 0 24 24\"\n",
              "       width=\"24px\">\n",
              "    <path d=\"M7,19H8.4L18.45,9,17,7.55,7,17.6ZM5,21V16.75L18.45,3.32a2,2,0,0,1,2.83,0l1.4,1.43a1.91,1.91,0,0,1,.58,1.4,1.91,1.91,0,0,1-.58,1.4L9.25,21ZM18.45,9,17,7.55Zm-12,3A5.31,5.31,0,0,0,4.9,8.1,5.31,5.31,0,0,0,1,6.5,5.31,5.31,0,0,0,4.9,4.9,5.31,5.31,0,0,0,6.5,1,5.31,5.31,0,0,0,8.1,4.9,5.31,5.31,0,0,0,12,6.5,5.46,5.46,0,0,0,6.5,12Z\"/>\n",
              "  </svg>\n",
              "    </button>\n",
              "    <script>\n",
              "      (() => {\n",
              "      const buttonEl =\n",
              "        document.querySelector('#id_55d310c8-3876-4808-93a0-5cdabfcca253 button.colab-df-generate');\n",
              "      buttonEl.style.display =\n",
              "        google.colab.kernel.accessAllowed ? 'block' : 'none';\n",
              "\n",
              "      buttonEl.onclick = () => {\n",
              "        google.colab.notebook.generateWithVariable('df');\n",
              "      }\n",
              "      })();\n",
              "    </script>\n",
              "  </div>\n",
              "\n",
              "    </div>\n",
              "  </div>\n"
            ],
            "application/vnd.google.colaboratory.intrinsic+json": {
              "type": "dataframe",
              "variable_name": "df",
              "summary": "{\n  \"name\": \"df\",\n  \"rows\": 81,\n  \"fields\": [\n    {\n      \"column\": \"id\",\n      \"properties\": {\n        \"dtype\": \"string\",\n        \"num_unique_values\": 81,\n        \"samples\": [\n          \"POSCAR-JVASP-54795.vasp\",\n          \"POSCAR-JVASP-4657.vasp\",\n          \"POSCAR-JVASP-822.vasp\"\n        ],\n        \"semantic_type\": \"\",\n        \"description\": \"\"\n      }\n    },\n    {\n      \"column\": \"target\",\n      \"properties\": {\n        \"dtype\": \"number\",\n        \"std\": 72.14195937569943,\n        \"min\": 8.22,\n        \"max\": 411.290009,\n        \"num_unique_values\": 81,\n        \"samples\": [\n          125.730003,\n          57.080002,\n          150.550003\n        ],\n        \"semantic_type\": \"\",\n        \"description\": \"\"\n      }\n    },\n    {\n      \"column\": \"prediction\",\n      \"properties\": {\n        \"dtype\": \"number\",\n        \"std\": 0.1618247972655923,\n        \"min\": 46.887501,\n        \"max\": 47.656902,\n        \"num_unique_values\": 81,\n        \"samples\": [\n          47.193035,\n          47.001801,\n          47.195648\n        ],\n        \"semantic_type\": \"\",\n        \"description\": \"\"\n      }\n    }\n  ]\n}"
            }
          },
          "metadata": {},
          "execution_count": 34
        }
      ]
    },
    {
      "cell_type": "code",
      "source": [
        "# !pip install matplotlib==3.1.3"
      ],
      "metadata": {
        "id": "Sgg094jfO7Ol"
      },
      "execution_count": 35,
      "outputs": []
    },
    {
      "cell_type": "markdown",
      "source": [
        "Obviously, this is just an example. For production runs, please select larger dataset, batch size, epochs etc."
      ],
      "metadata": {
        "id": "3ahuTb7uG4aH"
      }
    },
    {
      "cell_type": "code",
      "source": [
        "import matplotlib.pyplot as plt\n",
        "%matplotlib inline\n",
        "plt.plot(df['target'],df['prediction'],'.')\n",
        "plt.plot(df['target'],df['target'],'-.')\n",
        "plt.xlabel('DFT data (meV)')\n",
        "plt.ylabel('ALIGNN predictions (meV)')"
      ],
      "metadata": {
        "id": "hf3vWrmQpDwg",
        "outputId": "8d27ca9f-1ed6-42b7-8419-ee7f06034bcd",
        "colab": {
          "base_uri": "https://localhost:8080/",
          "height": 486
        }
      },
      "execution_count": 36,
      "outputs": [
        {
          "output_type": "execute_result",
          "data": {
            "text/plain": [
              "Text(0, 0.5, 'ALIGNN predictions (meV)')"
            ]
          },
          "metadata": {},
          "execution_count": 36
        },
        {
          "output_type": "display_data",
          "data": {
            "text/plain": [
              "<Figure size 640x480 with 1 Axes>"
            ],
            "image/png": "[encoded data removed]"
          },
          "metadata": {}
        }
      ]
    },
    {
      "cell_type": "code",
      "source": [
        "# from jarvis.db.figshare import data as jdata\n",
        "# from jarvis.core.atoms import Atoms\n",
        "# import os\n",
        "\n",
        "# temp_dir_name = \"DataDir_QM9_U0\"\n",
        "# os.makedirs(temp_dir_name)\n",
        "# os.chdir(temp_dir_name)\n",
        "\n",
        "# dft_3d = jdata(\"qm9_std_jctc\") #jdata(\"dft_3d\")\n",
        "# prop = \"U0\" #\"exfoliation_energy\" #\"optb88vdw_bandgap\"\n",
        "# f = open(\"id_prop.csv\", \"w\")\n",
        "# # count = 0\n",
        "# for i in dft_3d:\n",
        "#     atoms = Atoms.from_dict(i[\"atoms\"])\n",
        "#     jid = i[\"id\"]\n",
        "#     poscar_name = \"POSCAR-\" + jid + \".vasp\"\n",
        "#     target = i[prop]\n",
        "#     if target != \"na\":\n",
        "#         atoms.write_poscar(poscar_name)\n",
        "#         f.write(\"%s,%6f\\n\" % (poscar_name, target))\n",
        "#         # count += 1\n",
        "#         # if count == max_samples:\n",
        "#         #     break\n",
        "# f.close()\n",
        "\n",
        "# os.chdir(cwd)"
      ],
      "metadata": {
        "id": "cOSVNX6zUeXd"
      },
      "execution_count": null,
      "outputs": []
    },
    {
      "cell_type": "code",
      "source": [
        "pwd"
      ],
      "metadata": {
        "id": "5SxYZoRkqM80",
        "outputId": "2488d4bc-a10f-4c49-f3db-ae87f37c6fb5",
        "colab": {
          "base_uri": "https://localhost:8080/",
          "height": 35
        }
      },
      "execution_count": null,
      "outputs": [
        {
          "output_type": "execute_result",
          "data": {
            "text/plain": [
              "'/content/alignn'"
            ],
            "application/vnd.google.colaboratory.intrinsic+json": {
              "type": "string"
            }
          },
          "metadata": {},
          "execution_count": 38
        }
      ]
    },
    {
      "cell_type": "code",
      "source": [
        "!ls"
      ],
      "metadata": {
        "id": "wDQTE2p1ZMAh",
        "outputId": "6b666e89-751f-4d26-9cf0-3a7c475476e7",
        "colab": {
          "base_uri": "https://localhost:8080/"
        }
      },
      "execution_count": null,
      "outputs": [
        {
          "output_type": "stream",
          "name": "stdout",
          "text": [
            "alignn\t\t    ExfoEnOut\t opt.traj\t       pyproject.toml  temp\n",
            "alignn_ff.log\t    LICENSE.rst  phonopy_bands_cu.png  README.md\n",
            "DataDir_ExfoEnergy  opt.log\t phonopy_bands.png     setup.py\n"
          ]
        }
      ]
    },
    {
      "cell_type": "markdown",
      "source": [
        "Changing the cut-off in config_example.json as 5,  n_train as 110000, n_val as 10000, n_test as 10829"
      ],
      "metadata": {
        "id": "y-NnYsVoZght"
      }
    },
    {
      "cell_type": "code",
      "source": [
        "# from jarvis.db.jsonutils import loadjson, dumpjson\n",
        "# config = loadjson(\"alignn/examples/sample_data/config_example.json\")\n",
        "# config['cutoff'] = 5.0\n",
        "# config['n_train'] = 110000\n",
        "# config['n_val'] = 10000\n",
        "# config['n_test'] = 10829\n",
        "# dumpjson(data=config, filename=\"config_qm9.json\")"
      ],
      "metadata": {
        "id": "gqBCdqVCaBmy"
      },
      "execution_count": null,
      "outputs": []
    },
    {
      "cell_type": "markdown",
      "source": [
        "Run for 1000 epochs instead of 5 here to get reasonable performance/MAE"
      ],
      "metadata": {
        "id": "WasOday5a72c"
      }
    },
    {
      "cell_type": "code",
      "source": [
        "# import time\n",
        "# t1=time.time()\n",
        "# !train_folder.py --root_dir \"DataDir_QM9_U0\" --epochs 5 --batch_size 64 --config \"config_qm9.json\" --output_dir=\"DataDir_QM9U0out\"\n",
        "# t2=time.time()\n",
        "# print ('Time in s',t2-t1)"
      ],
      "metadata": {
        "id": "acaMqZP_XbBr"
      },
      "execution_count": null,
      "outputs": []
    },
    {
      "cell_type": "markdown",
      "source": [
        "# Generate an id_prop.json from vasprun.xml files"
      ],
      "metadata": {
        "id": "QKzwQA2DbWck"
      }
    },
    {
      "cell_type": "code",
      "source": [
        "import requests,zipfile,io,tempfile,os\n",
        "from jarvis.io.vasp.outputs import Vasprun\n",
        "from jarvis.db.figshare import get_jid_data\n",
        "from jarvis.db.jsonutils import dumpjson, loadjson\n",
        "# We will download vasprun.xml from JARVIS-DFT elastic tensor calculations for Silicon (JVASP-1002)\n",
        "jid = 'JVASP-1002'\n",
        "x=get_jid_data(jid=jid,dataset='dft_3d')\n",
        "for i in x['raw_files']:\n",
        "  if 'FD-ELAST' in i:\n",
        "    print(i)\n",
        "    tmp = i.split(\".zip,\")[1]\n",
        "    r = requests.get(tmp)\n",
        "    z = zipfile.ZipFile(io.BytesIO(r.content))\n",
        "    vrun_path = z.read(\"vasprun.xml\").decode(\"utf-8\")\n",
        "    fd, path = tempfile.mkstemp()\n",
        "    with os.fdopen(fd, \"w\") as tmp:\n",
        "        tmp.write(vrun_path)\n",
        "    vrun_elast = Vasprun(path)\n",
        "for i in x['raw_files']:\n",
        "  if 'DFT-SCF' in i:\n",
        "    print(i)\n",
        "    tmp = i.split(\".zip,\")[1]\n",
        "    r = requests.get(tmp)\n",
        "    z = zipfile.ZipFile(io.BytesIO(r.content))\n",
        "    vrun_path = z.read(\"vasprun.xml\").decode(\"utf-8\")\n",
        "    fd, path = tempfile.mkstemp()\n",
        "    with os.fdopen(fd, \"w\") as tmp:\n",
        "        tmp.write(vrun_path)\n",
        "    vrun_scf = Vasprun(path)"
      ],
      "metadata": {
        "id": "ep48Xh1tbij-",
        "outputId": "dba49709-f2c1-4fd4-c38d-b3f2891bb05d",
        "colab": {
          "base_uri": "https://localhost:8080/"
        }
      },
      "execution_count": null,
      "outputs": [
        {
          "output_type": "stream",
          "name": "stdout",
          "text": [
            "Obtaining 3D dataset 76k ...\n",
            "Reference:https://www.nature.com/articles/s41524-020-00440-1\n",
            "Other versions:https://doi.org/10.6084/m9.figshare.6815699\n",
            "Loading the zipfile...\n",
            "Loading completed.\n",
            "FD-ELAST,JVASP-1002.zip,https://ndownloader.figshare.com/files/22975514\n",
            "DFT-SCF,JVASP-1002.zip,https://ndownloader.figshare.com/files/23127296\n"
          ]
        }
      ]
    },
    {
      "cell_type": "code",
      "source": [
        "\n"
      ],
      "metadata": {
        "id": "vvGbqcAncvmI"
      },
      "execution_count": null,
      "outputs": []
    },
    {
      "cell_type": "code",
      "source": [
        "x['raw_files']"
      ],
      "metadata": {
        "id": "wFct2duHcfXp",
        "outputId": "bf112f52-09a7-49d2-a4e3-eb81d35d2f0a",
        "colab": {
          "base_uri": "https://localhost:8080/"
        }
      },
      "execution_count": null,
      "outputs": [
        {
          "output_type": "execute_result",
          "data": {
            "text/plain": [
              "['FD-ELAST,JVASP-1002.zip,https://ndownloader.figshare.com/files/22975514',\n",
              " 'DFPT,JVASP-1002.zip,https://ndownloader.figshare.com/files/22941809',\n",
              " 'OPT-LOPTICS,JVASP-1002.zip,https://ndownloader.figshare.com/files/24035894',\n",
              " 'OPT-Bandst,JVASP-1002.zip,https://ndownloader.figshare.com/files/23713301',\n",
              " 'TBMBJ,JVASP-1002.zip,https://ndownloader.figshare.com/files/23571836',\n",
              " 'DFT-SCF,JVASP-1002.zip,https://ndownloader.figshare.com/files/23127296',\n",
              " 'WANN,JVASP-1002.zip,https://ndownloader.figshare.com/files/23102750']"
            ]
          },
          "metadata": {},
          "execution_count": 43
        }
      ]
    },
    {
      "cell_type": "code",
      "source": [
        "jid='JVASP-1002'\n",
        "forces = vrun_elast.all_forces\n",
        "energies = vrun_elast.all_energies\n",
        "stresses = vrun_elast.all_stresses\n",
        "structures = vrun_elast.all_structures\n",
        "count = 0\n",
        "mem=[]\n",
        "for i, j, k, s in zip(energies, forces, stresses, structures):\n",
        "    count += 1\n",
        "    jid_c = jid + \"_elastic_\" + str(count)\n",
        "    info = {}\n",
        "    info[\"jid\"] = jid_c\n",
        "    info[\"energy\"] = i / s.num_atoms\n",
        "    info[\"forces\"] = j.tolist()\n",
        "    info[\"stresses\"] = k.tolist()\n",
        "    info[\"atoms\"] = s.to_dict()\n",
        "    mem.append(info)\n",
        "\n"
      ],
      "metadata": {
        "id": "E-RcwkjNb2xz"
      },
      "execution_count": null,
      "outputs": []
    },
    {
      "cell_type": "code",
      "source": [
        "len(mem)"
      ],
      "metadata": {
        "id": "pk1jJhRwdX2s",
        "outputId": "32b2f86f-ad79-442f-f861-e642af218283",
        "colab": {
          "base_uri": "https://localhost:8080/"
        }
      },
      "execution_count": null,
      "outputs": [
        {
          "output_type": "execute_result",
          "data": {
            "text/plain": [
              "15"
            ]
          },
          "metadata": {},
          "execution_count": 45
        }
      ]
    },
    {
      "cell_type": "code",
      "source": [
        "\n",
        "forces = vrun_scf.all_forces\n",
        "energies = vrun_scf.all_energies\n",
        "stresses = vrun_scf.all_stresses\n",
        "structures = vrun_scf.all_structures\n",
        "count = 0\n",
        "mem=[]\n",
        "for i, j, k, s in zip(energies, forces, stresses, structures):\n",
        "    count += 1\n",
        "    jid_c = jid + \"_scf_\" + str(count)\n",
        "    info = {}\n",
        "    info[\"jid\"] = jid_c\n",
        "    info[\"energy\"] = i / s.num_atoms\n",
        "    info[\"forces\"] = j.tolist()\n",
        "    info[\"stresses\"] = k.tolist()\n",
        "    info[\"atoms\"] = s.to_dict()\n",
        "    mem.append(info)\n",
        "\n"
      ],
      "metadata": {
        "id": "JHyKwUbmdSsg"
      },
      "execution_count": null,
      "outputs": []
    },
    {
      "cell_type": "code",
      "source": [
        "len(mem)"
      ],
      "metadata": {
        "id": "OB-SvYrQdbZo",
        "outputId": "471579ac-6a38-4595-e5d5-a31685e044bc",
        "colab": {
          "base_uri": "https://localhost:8080/"
        }
      },
      "execution_count": null,
      "outputs": [
        {
          "output_type": "execute_result",
          "data": {
            "text/plain": [
              "4"
            ]
          },
          "metadata": {},
          "execution_count": 47
        }
      ]
    },
    {
      "cell_type": "code",
      "source": [
        "dumpjson(data=mem, filename=\"id_prop.json\")"
      ],
      "metadata": {
        "id": "J9ssL2Ifdeb7"
      },
      "execution_count": null,
      "outputs": []
    },
    {
      "cell_type": "markdown",
      "source": [
        "# 7: Add results to JARVIS-Leaderboard\n"
      ],
      "metadata": {
        "id": "GfE-z_UMKzjP"
      }
    },
    {
      "cell_type": "markdown",
      "source": [
        "Checkout the notebook: https://colab.research.google.com/github/knc6/jarvis-tools-notebooks/blob/master/jarvis-tools-notebooks/alignn_jarvis_leaderboard.ipynb"
      ],
      "metadata": {
        "id": "6FEwM9i3K4yK"
      }
    },
    {
      "cell_type": "code",
      "source": [
        "!pip freeze"
      ],
      "metadata": {
        "id": "rqaGpi_PYpjw",
        "outputId": "69ef4713-eb1c-4b5a-f7f5-a733d9654f71",
        "colab": {
          "base_uri": "https://localhost:8080/"
        }
      },
      "execution_count": null,
      "outputs": [
        {
          "output_type": "stream",
          "name": "stdout",
          "text": [
            "absl-py==1.4.0\n",
            "accelerate==0.21.0\n",
            "aiohttp==3.8.5\n",
            "aiosignal==1.3.1\n",
            "alabaster==0.7.13\n",
            "albumentations==1.2.1\n",
            "alignn==2023.7.10\n",
            "altair==4.2.2\n",
            "anyio==3.7.1\n",
            "appdirs==1.4.4\n",
            "argon2-cffi==21.3.0\n",
            "argon2-cffi-bindings==21.2.0\n",
            "array-record==0.4.0\n",
            "arviz==0.15.1\n",
            "ase==3.22.1\n",
            "astropy==5.2.2\n",
            "astunparse==1.6.3\n",
            "async-timeout==4.0.2\n",
            "attrs==23.1.0\n",
            "audioread==3.0.0\n",
            "autograd==1.6.2\n",
            "Babel==2.12.1\n",
            "backcall==0.2.0\n",
            "beautifulsoup4==4.11.2\n",
            "bleach==6.0.0\n",
            "blinker==1.4\n",
            "blis==0.7.10\n",
            "blosc2==2.0.0\n",
            "bokeh==3.1.1\n",
            "branca==0.6.0\n",
            "build==0.10.0\n",
            "CacheControl==0.13.1\n",
            "cachetools==5.3.1\n",
            "catalogue==2.0.9\n",
            "certifi==2023.7.22\n",
            "cffi==1.15.1\n",
            "chardet==4.0.0\n",
            "charset-normalizer==3.2.0\n",
            "chex==0.1.7\n",
            "click==8.1.6\n",
            "click-plugins==1.1.1\n",
            "cligj==0.7.2\n",
            "cloudpickle==2.2.1\n",
            "cmake==3.25.2\n",
            "cmdstanpy==1.1.0\n",
            "colorcet==3.0.1\n",
            "colorlover==0.3.0\n",
            "community==1.0.0b1\n",
            "confection==0.1.1\n",
            "cons==0.4.6\n",
            "contextlib2==21.6.0\n",
            "contourpy==1.1.0\n",
            "convertdate==2.4.0\n",
            "cryptography==3.4.8\n",
            "cufflinks==0.17.3\n",
            "cupy-cuda11x==11.0.0\n",
            "cvxopt==1.3.1\n",
            "cvxpy==1.3.2\n",
            "cycler==0.11.0\n",
            "cymem==2.0.7\n",
            "Cython==0.29.36\n",
            "dask==2022.12.1\n",
            "datascience==0.17.6\n",
            "db-dtypes==1.1.1\n",
            "dbus-python==1.2.18\n",
            "debugpy==1.6.6\n",
            "decorator==4.4.2\n",
            "defusedxml==0.7.1\n",
            "dgl==1.0.1+cu117\n",
            "distributed==2022.12.1\n",
            "distro==1.7.0\n",
            "dlib==19.24.2\n",
            "dm-tree==0.1.8\n",
            "docutils==0.18.1\n",
            "dopamine-rl==4.0.6\n",
            "duckdb==0.8.1\n",
            "earthengine-api==0.1.362\n",
            "easydict==1.10\n",
            "ecos==2.0.12\n",
            "editdistance==0.6.2\n",
            "en-core-web-sm @ https://github.com/explosion/spacy-models/releases/download/en_core_web_sm-3.5.0/en_core_web_sm-3.5.0-py3-none-any.whl#sha256=0964370218b7e1672a30ac50d72cdc6b16f7c867496f1d60925691188f4d2510\n",
            "entrypoints==0.4\n",
            "ephem==4.1.4\n",
            "et-xmlfile==1.1.0\n",
            "etils==1.4.1\n",
            "etuples==0.3.9\n",
            "exceptiongroup==1.1.2\n",
            "fastai==2.7.12\n",
            "fastcore==1.5.29\n",
            "fastdownload==0.0.7\n",
            "fastjsonschema==2.18.0\n",
            "fastprogress==1.0.3\n",
            "fastrlock==0.8.1\n",
            "filelock==3.12.2\n",
            "Fiona==1.9.4.post1\n",
            "firebase-admin==5.3.0\n",
            "flake8==6.1.0\n",
            "Flask==2.2.5\n",
            "flatbuffers==23.5.26\n",
            "flax==0.7.1\n",
            "folium==0.14.0\n",
            "fonttools==4.42.0\n",
            "frozendict==2.3.8\n",
            "frozenlist==1.4.0\n",
            "fsspec==2023.6.0\n",
            "future==0.18.3\n",
            "gast==0.4.0\n",
            "gcsfs==2023.6.0\n",
            "GDAL==3.4.3\n",
            "gdown==4.6.6\n",
            "gensim==4.3.1\n",
            "geographiclib==2.0\n",
            "geopandas==0.13.2\n",
            "geopy==2.3.0\n",
            "gin-config==0.5.0\n",
            "glob2==0.7\n",
            "google==2.0.3\n",
            "google-api-core==2.11.1\n",
            "google-api-python-client==2.84.0\n",
            "google-auth==2.17.3\n",
            "google-auth-httplib2==0.1.0\n",
            "google-auth-oauthlib==1.0.0\n",
            "google-cloud-bigquery==3.10.0\n",
            "google-cloud-bigquery-connection==1.12.1\n",
            "google-cloud-bigquery-storage==2.22.0\n",
            "google-cloud-core==2.3.3\n",
            "google-cloud-datastore==2.15.2\n",
            "google-cloud-firestore==2.11.1\n",
            "google-cloud-functions==1.13.2\n",
            "google-cloud-language==2.9.1\n",
            "google-cloud-storage==2.8.0\n",
            "google-cloud-translate==3.11.3\n",
            "google-colab @ file:///colabtools/dist/google-colab-1.0.0.tar.gz#sha256=5095d6a6bfb24151e18634546dc9bb8236ae86649d7ea6b8bb65807924035ee5\n",
            "google-crc32c==1.5.0\n",
            "google-pasta==0.2.0\n",
            "google-resumable-media==2.5.0\n",
            "googleapis-common-protos==1.60.0\n",
            "googledrivedownloader==0.4\n",
            "graphviz==0.20.1\n",
            "greenlet==2.0.2\n",
            "grpc-google-iam-v1==0.12.6\n",
            "grpcio==1.56.2\n",
            "grpcio-status==1.48.2\n",
            "gspread==3.4.2\n",
            "gspread-dataframe==3.3.1\n",
            "gym==0.25.2\n",
            "gym-notices==0.0.8\n",
            "h5netcdf==1.2.0\n",
            "h5py==3.8.0\n",
            "holidays==0.29\n",
            "holoviews==1.15.4\n",
            "html5lib==1.1\n",
            "httpimport==1.3.1\n",
            "httplib2==0.21.0\n",
            "humanize==4.6.0\n",
            "hyperopt==0.2.7\n",
            "idna==3.4\n",
            "imageio==2.25.1\n",
            "imageio-ffmpeg==0.4.8\n",
            "imagesize==1.4.1\n",
            "imbalanced-learn==0.10.1\n",
            "imgaug==0.4.0\n",
            "importlib-metadata==4.6.4\n",
            "importlib-resources==6.0.0\n",
            "imutils==0.5.4\n",
            "inflect==6.0.5\n",
            "iniconfig==2.0.0\n",
            "intel-openmp==2023.2.0\n",
            "ipykernel==5.5.6\n",
            "ipython==7.34.0\n",
            "ipython-genutils==0.2.0\n",
            "ipython-sql==0.4.1\n",
            "ipywidgets==7.7.1\n",
            "itsdangerous==2.1.2\n",
            "jarvis-tools==2023.5.26\n",
            "jax==0.4.14\n",
            "jaxlib @ https://storage.googleapis.com/jax-releases/cuda11/jaxlib-0.4.14+cuda11.cudnn86-cp310-cp310-manylinux2014_x86_64.whl#sha256=09c439923a785df517e3f470158dd3e46de454a01eca80935eed4ba383b5e90a\n",
            "jeepney==0.7.1\n",
            "jieba==0.42.1\n",
            "Jinja2==3.1.2\n",
            "joblib==1.3.1\n",
            "jsonpickle==3.0.1\n",
            "jsonschema==4.3.3\n",
            "jupyter-client==6.1.12\n",
            "jupyter-console==6.1.0\n",
            "jupyter-server==1.24.0\n",
            "jupyter_core==5.3.1\n",
            "jupyterlab-pygments==0.2.2\n",
            "jupyterlab-widgets==3.0.8\n",
            "kaggle==1.5.16\n",
            "keras==2.12.0\n",
            "keyring==23.5.0\n",
            "kiwisolver==1.4.4\n",
            "langcodes==3.3.0\n",
            "launchpadlib==1.10.16\n",
            "lazr.restfulclient==0.14.4\n",
            "lazr.uri==1.0.6\n",
            "lazy_loader==0.3\n",
            "libclang==16.0.6\n",
            "librosa==0.10.0.post2\n",
            "lightgbm==3.3.5\n",
            "linkify-it-py==2.0.2\n",
            "lit==16.0.6\n",
            "llvmlite==0.39.1\n",
            "locket==1.0.0\n",
            "logical-unification==0.4.6\n",
            "LunarCalendar==0.0.9\n",
            "lxml==4.9.3\n",
            "Markdown==3.4.4\n",
            "markdown-it-py==3.0.0\n",
            "MarkupSafe==2.1.3\n",
            "matplotlib==3.1.3\n",
            "matplotlib-inline==0.1.6\n",
            "matplotlib-venn==0.11.9\n",
            "mccabe==0.7.0\n",
            "mdit-py-plugins==0.4.0\n",
            "mdurl==0.1.2\n",
            "miniKanren==1.0.3\n",
            "missingno==0.5.2\n",
            "mistune==0.8.4\n",
            "mizani==0.8.1\n",
            "mkl==2019.0\n",
            "ml-dtypes==0.2.0\n",
            "mlxtend==0.22.0\n",
            "more-itertools==9.1.0\n",
            "moviepy==1.0.3\n",
            "mpmath==1.3.0\n",
            "msgpack==1.0.5\n",
            "multidict==6.0.4\n",
            "multipledispatch==1.0.0\n",
            "multitasking==0.0.11\n",
            "murmurhash==1.0.9\n",
            "music21==8.1.0\n",
            "natsort==8.3.1\n",
            "nbclient==0.8.0\n",
            "nbconvert==6.5.4\n",
            "nbformat==5.9.2\n",
            "nest-asyncio==1.5.7\n",
            "networkx==3.1\n",
            "nibabel==4.0.2\n",
            "nltk==3.8.1\n",
            "notebook==6.4.8\n",
            "numba==0.56.4\n",
            "numexpr==2.8.4\n",
            "numpy==1.23.5\n",
            "oauth2client==4.1.3\n",
            "oauthlib==3.2.2\n",
            "opencv-contrib-python==4.7.0.72\n",
            "opencv-python==4.7.0.72\n",
            "opencv-python-headless==4.8.0.74\n",
            "openpyxl==3.0.10\n",
            "opt-einsum==3.3.0\n",
            "optax==0.1.7\n",
            "orbax-checkpoint==0.3.2\n",
            "osqp==0.6.2.post8\n",
            "packaging==23.1\n",
            "palettable==3.3.3\n",
            "pandas==1.5.3\n",
            "pandas-datareader==0.10.0\n",
            "pandas-gbq==0.17.9\n",
            "pandocfilters==1.5.0\n",
            "panel==1.2.1\n",
            "param==1.13.0\n",
            "parso==0.8.3\n",
            "partd==1.4.0\n",
            "pathlib==1.0.1\n",
            "pathy==0.10.2\n",
            "patsy==0.5.3\n",
            "pexpect==4.8.0\n",
            "phonopy==2.20.0\n",
            "pickleshare==0.7.5\n",
            "Pillow==9.4.0\n",
            "pip-tools==6.13.0\n",
            "platformdirs==3.10.0\n",
            "plotly==5.13.1\n",
            "plotnine==0.10.1\n",
            "pluggy==1.2.0\n",
            "polars==0.17.3\n",
            "pooch==1.6.0\n",
            "portpicker==1.5.2\n",
            "prefetch-generator==1.0.3\n",
            "preshed==3.0.8\n",
            "prettytable==0.7.2\n",
            "proglog==0.1.10\n",
            "progressbar2==4.2.0\n",
            "prometheus-client==0.17.1\n",
            "promise==2.3\n",
            "prompt-toolkit==3.0.39\n",
            "prophet==1.1.4\n",
            "proto-plus==1.22.3\n",
            "protobuf==3.20.3\n",
            "psutil==5.9.5\n",
            "psycopg2==2.9.6\n",
            "ptyprocess==0.7.0\n",
            "py-cpuinfo==9.0.0\n",
            "py4j==0.10.9.7\n",
            "pyarrow==9.0.0\n",
            "pyasn1==0.5.0\n",
            "pyasn1-modules==0.3.0\n",
            "pycocotools==2.0.6\n",
            "pycodestyle==2.11.0\n",
            "pycparser==2.21\n",
            "pyct==0.5.0\n",
            "pydantic==1.8.1\n",
            "pydata-google-auth==1.8.2\n",
            "pydocstyle==6.3.0\n",
            "pydot==1.4.2\n",
            "pydot-ng==2.0.0\n",
            "pydotplus==2.0.2\n",
            "PyDrive==1.3.1\n",
            "pyerfa==2.0.0.3\n",
            "pyflakes==3.1.0\n",
            "pygame==2.5.0\n",
            "Pygments==2.14.0\n",
            "PyGObject==3.42.1\n",
            "PyJWT==2.3.0\n",
            "pymc==5.1.2\n",
            "PyMeeus==0.5.12\n",
            "pymystem3==0.2.0\n",
            "PyOpenGL==3.1.7\n",
            "pyparsing==2.4.7\n",
            "pyproj==3.6.0\n",
            "pyproject_hooks==1.0.0\n",
            "pyrsistent==0.19.3\n",
            "PySocks==1.7.1\n",
            "pytensor==2.10.1\n",
            "pytest==7.2.2\n",
            "python-apt==0.0.0\n",
            "python-dateutil==2.8.2\n",
            "python-louvain==0.16\n",
            "python-slugify==8.0.1\n",
            "python-utils==3.7.0\n",
            "pytorch-ignite==0.5.0.dev20230809\n",
            "pytz==2022.7.1\n",
            "pyviz-comms==2.3.2\n",
            "PyWavelets==1.4.1\n",
            "PyYAML==6.0.1\n",
            "pyzmq==23.2.1\n",
            "qdldl==0.1.7.post0\n",
            "qudida==0.0.4\n",
            "regex==2022.10.31\n",
            "requests==2.31.0\n",
            "requests-oauthlib==1.3.1\n",
            "requirements-parser==0.5.0\n",
            "rich==13.5.2\n",
            "rpy2==3.4.2\n",
            "rsa==4.9\n",
            "scikit-image==0.19.3\n",
            "scikit-learn==1.2.2\n",
            "scipy==1.10.1\n",
            "scs==3.2.3\n",
            "seaborn==0.12.2\n",
            "SecretStorage==3.3.1\n",
            "Send2Trash==1.8.2\n",
            "shapely==2.0.1\n",
            "six==1.16.0\n",
            "sklearn-pandas==2.2.0\n",
            "smart-open==6.3.0\n",
            "sniffio==1.3.0\n",
            "snowballstemmer==2.2.0\n",
            "sortedcontainers==2.4.0\n",
            "soundfile==0.12.1\n",
            "soupsieve==2.4.1\n",
            "soxr==0.3.5\n",
            "spacy==3.5.4\n",
            "spacy-legacy==3.0.12\n",
            "spacy-loggers==1.0.4\n",
            "spglib==2.0.2\n",
            "Sphinx==5.0.2\n",
            "sphinxcontrib-applehelp==1.0.4\n",
            "sphinxcontrib-devhelp==1.0.2\n",
            "sphinxcontrib-htmlhelp==2.0.1\n",
            "sphinxcontrib-jsmath==1.0.1\n",
            "sphinxcontrib-qthelp==1.0.3\n",
            "sphinxcontrib-serializinghtml==1.1.5\n",
            "SQLAlchemy==2.0.19\n",
            "sqlparse==0.4.4\n",
            "srsly==2.4.7\n",
            "statsmodels==0.13.5\n",
            "sympy==1.11.1\n",
            "tables==3.8.0\n",
            "tabulate==0.9.0\n",
            "tblib==2.0.0\n",
            "tenacity==8.2.2\n",
            "tensorboard==2.12.3\n",
            "tensorboard-data-server==0.7.1\n",
            "tensorflow==2.12.0\n",
            "tensorflow-datasets==4.9.2\n",
            "tensorflow-estimator==2.12.0\n",
            "tensorflow-gcs-config==2.12.0\n",
            "tensorflow-hub==0.14.0\n",
            "tensorflow-io-gcs-filesystem==0.33.0\n",
            "tensorflow-metadata==1.13.1\n",
            "tensorflow-probability==0.20.1\n",
            "tensorstore==0.1.40\n",
            "termcolor==2.3.0\n",
            "terminado==0.17.1\n",
            "text-unidecode==1.3\n",
            "textblob==0.17.1\n",
            "tf-slim==1.1.0\n",
            "thinc==8.1.10\n",
            "threadpoolctl==3.2.0\n",
            "tifffile==2023.7.18\n",
            "tinycss2==1.2.1\n",
            "toml==0.10.2\n",
            "tomli==2.0.1\n",
            "toolz==0.12.0\n",
            "torch @ https://download.pytorch.org/whl/cu118/torch-2.0.1%2Bcu118-cp310-cp310-linux_x86_64.whl#sha256=a7a49d459bf4862f64f7bc1a68beccf8881c2fa9f3e0569608e16ba6f85ebf7b\n",
            "torchaudio @ https://download.pytorch.org/whl/cu118/torchaudio-2.0.2%2Bcu118-cp310-cp310-linux_x86_64.whl#sha256=26692645ea061a005c57ec581a2d0425210ac6ba9f923edf11cc9b0ef3a111e9\n",
            "torchdata==0.6.1\n",
            "torchsummary==1.5.1\n",
            "torchtext==0.15.2\n",
            "torchvision @ https://download.pytorch.org/whl/cu118/torchvision-0.15.2%2Bcu118-cp310-cp310-linux_x86_64.whl#sha256=19ca4ab5d6179bbe53cff79df1a855ee6533c2861ddc7389f68349d8b9f8302a\n",
            "tornado==6.3.1\n",
            "tqdm==4.65.0\n",
            "traitlets==5.7.1\n",
            "triton==2.0.0\n",
            "tweepy==4.13.0\n",
            "typer==0.9.0\n",
            "types-setuptools==68.0.0.3\n",
            "typing_extensions==4.7.1\n",
            "tzlocal==5.0.1\n",
            "uc-micro-py==1.0.2\n",
            "uritemplate==4.1.1\n",
            "urllib3==1.26.16\n",
            "vega-datasets==0.9.0\n",
            "wadllib==1.3.6\n",
            "wasabi==1.1.2\n",
            "wcwidth==0.2.6\n",
            "webcolors==1.13\n",
            "webencodings==0.5.1\n",
            "websocket-client==1.6.1\n",
            "Werkzeug==2.3.6\n",
            "widgetsnbextension==3.6.5\n",
            "wordcloud==1.8.2.2\n",
            "wrapt==1.14.1\n",
            "xarray==2022.12.0\n",
            "xarray-einstats==0.6.0\n",
            "xgboost==1.7.6\n",
            "xlrd==2.0.1\n",
            "xmltodict==0.13.0\n",
            "xyzservices==2023.7.0\n",
            "yarl==1.9.2\n",
            "yellowbrick==1.5\n",
            "yfinance==0.2.27\n",
            "zict==3.0.0\n",
            "zipp==3.16.2\n"
          ]
        }
      ]
    },
    {
      "cell_type": "code",
      "source": [],
      "metadata": {
        "id": "arZZybt0Nw_Z"
      },
      "execution_count": null,
      "outputs": []
    }
  ]
}