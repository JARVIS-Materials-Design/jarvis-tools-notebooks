{
  "nbformat": 4,
  "nbformat_minor": 0,
  "metadata": {
    "colab": {
      "name": "JARVIS-ML for chemical formula only datasets.ipynb",
      "provenance": [],
      "include_colab_link": true
    },
    "kernelspec": {
      "name": "python3",
      "display_name": "Python 3"
    },
    "language_info": {
      "name": "python"
    }
  },
  "cells": [
    {
      "cell_type": "markdown",
      "metadata": {
        "id": "view-in-github",
        "colab_type": "text"
      },
      "source": [
        "<a href=\"https://colab.research.google.com/github/RamyaGuru/jarvis-tools-notebooks/blob/master/jarvis-tools-notebooks/JARVIS_ML_Magpie_AIMS.ipynb\" target=\"_parent\"><img src=\"https://colab.research.google.com/assets/colab-badge.svg\" alt=\"Open In Colab\"/></a>"
      ]
    },
    {
      "cell_type": "markdown",
      "source": [
        "# Machine Learning Using Chemical Formula-based Descriptors"
      ],
      "metadata": {
        "id": "tYCR1EUdLz2n"
      }
    },
    {
      "cell_type": "code",
      "metadata": {
        "colab": {
          "base_uri": "https://localhost:8080/"
        },
        "id": "b3aEQ2BAf-T1",
        "outputId": "94d38d15-8d4d-46ea-96dd-9006be7aa3a7"
      },
      "source": [
        "!pip install jarvis-tools lightgbm"
      ],
      "execution_count": 14,
      "outputs": [
        {
          "output_type": "stream",
          "name": "stdout",
          "text": [
            "Looking in indexes: https://pypi.org/simple, https://us-python.pkg.dev/colab-wheels/public/simple/\n",
            "Requirement already satisfied: jarvis-tools in /usr/local/lib/python3.7/dist-packages (2022.5.20)\n",
            "Requirement already satisfied: lightgbm in /usr/local/lib/python3.7/dist-packages (2.2.3)\n",
            "Requirement already satisfied: requests>=2.23.0 in /usr/local/lib/python3.7/dist-packages (from jarvis-tools) (2.23.0)\n",
            "Requirement already satisfied: xmltodict>=0.11.0 in /usr/local/lib/python3.7/dist-packages (from jarvis-tools) (0.13.0)\n",
            "Requirement already satisfied: matplotlib>=3.0.0 in /usr/local/lib/python3.7/dist-packages (from jarvis-tools) (3.2.2)\n",
            "Requirement already satisfied: tqdm>=4.41.1 in /usr/local/lib/python3.7/dist-packages (from jarvis-tools) (4.64.0)\n",
            "Requirement already satisfied: scipy>=1.4.1 in /usr/local/lib/python3.7/dist-packages (from jarvis-tools) (1.5.4)\n",
            "Requirement already satisfied: numpy>=1.19.5 in /usr/local/lib/python3.7/dist-packages (from jarvis-tools) (1.21.6)\n",
            "Requirement already satisfied: joblib>=0.14.1 in /usr/local/lib/python3.7/dist-packages (from jarvis-tools) (1.1.0)\n",
            "Requirement already satisfied: spglib>=1.14.1 in /usr/local/lib/python3.7/dist-packages (from jarvis-tools) (1.16.5)\n",
            "Requirement already satisfied: toolz>=0.9.0 in /usr/local/lib/python3.7/dist-packages (from jarvis-tools) (0.11.2)\n",
            "Requirement already satisfied: pyparsing!=2.0.4,!=2.1.2,!=2.1.6,>=2.0.1 in /usr/local/lib/python3.7/dist-packages (from matplotlib>=3.0.0->jarvis-tools) (3.0.9)\n",
            "Requirement already satisfied: cycler>=0.10 in /usr/local/lib/python3.7/dist-packages (from matplotlib>=3.0.0->jarvis-tools) (0.11.0)\n",
            "Requirement already satisfied: kiwisolver>=1.0.1 in /usr/local/lib/python3.7/dist-packages (from matplotlib>=3.0.0->jarvis-tools) (1.4.3)\n",
            "Requirement already satisfied: python-dateutil>=2.1 in /usr/local/lib/python3.7/dist-packages (from matplotlib>=3.0.0->jarvis-tools) (2.8.2)\n",
            "Requirement already satisfied: typing-extensions in /usr/local/lib/python3.7/dist-packages (from kiwisolver>=1.0.1->matplotlib>=3.0.0->jarvis-tools) (4.1.1)\n",
            "Requirement already satisfied: six>=1.5 in /usr/local/lib/python3.7/dist-packages (from python-dateutil>=2.1->matplotlib>=3.0.0->jarvis-tools) (1.15.0)\n",
            "Requirement already satisfied: urllib3!=1.25.0,!=1.25.1,<1.26,>=1.21.1 in /usr/local/lib/python3.7/dist-packages (from requests>=2.23.0->jarvis-tools) (1.24.3)\n",
            "Requirement already satisfied: chardet<4,>=3.0.2 in /usr/local/lib/python3.7/dist-packages (from requests>=2.23.0->jarvis-tools) (3.0.4)\n",
            "Requirement already satisfied: idna<3,>=2.5 in /usr/local/lib/python3.7/dist-packages (from requests>=2.23.0->jarvis-tools) (2.10)\n",
            "Requirement already satisfied: certifi>=2017.4.17 in /usr/local/lib/python3.7/dist-packages (from requests>=2.23.0->jarvis-tools) (2022.6.15)\n",
            "Requirement already satisfied: scikit-learn in /usr/local/lib/python3.7/dist-packages (from lightgbm) (1.0.2)\n",
            "Requirement already satisfied: threadpoolctl>=2.0.0 in /usr/local/lib/python3.7/dist-packages (from scikit-learn->lightgbm) (3.1.0)\n"
          ]
        }
      ]
    },
    {
      "cell_type": "code",
      "metadata": {
        "id": "VqHe1fY_gGPO"
      },
      "source": [
        "import numpy as np\n",
        "import matplotlib.pyplot as plt\n",
        "from sklearn.model_selection import train_test_split\n",
        "from jarvis.ai.descriptors.elemental import get_element_fraction_desc\n",
        "from sklearn.metrics import r2_score, mean_squared_error, mean_absolute_error\n",
        "from sklearn.ensemble import RandomForestRegressor\n",
        "from sklearn.model_selection import GridSearchCV, RandomizedSearchCV\n",
        "from jarvis.ai.pkgs.utils import mean_absolute_deviation\n",
        "from jarvis.ai.descriptors.cfid import get_chem_only_descriptors\n",
        "%matplotlib inline\n",
        "plt.rcParams.update({'font.size': 18})\n"
      ],
      "execution_count": 15,
      "outputs": []
    },
    {
      "cell_type": "code",
      "source": [
        "#Clone qmpy repository in order \n",
        "!git clone https://github.com/wolverton-research-group/qmpy.git"
      ],
      "metadata": {
        "id": "0EZJbRTO21BJ",
        "outputId": "13daa083-90d3-4b49-a953-9da23d60118d",
        "colab": {
          "base_uri": "https://localhost:8080/"
        }
      },
      "execution_count": 16,
      "outputs": [
        {
          "output_type": "stream",
          "name": "stdout",
          "text": [
            "fatal: destination path 'qmpy' already exists and is not an empty directory.\n"
          ]
        }
      ]
    },
    {
      "cell_type": "code",
      "source": [
        "import pandas as pd\n",
        "energy_df = pd.read_csv('qmpy/qmpy/data/thermodata/legacy.dat', delimiter = \" \")\n",
        "\n",
        "energy_df[:10]"
      ],
      "metadata": {
        "id": "7F03pOLx4Bw4",
        "outputId": "bfb65069-14e1-4781-ab94-474723696a56",
        "colab": {
          "base_uri": "https://localhost:8080/",
          "height": 363
        }
      },
      "execution_count": 17,
      "outputs": [
        {
          "output_type": "execute_result",
          "data": {
            "text/plain": [
              "  composition    energy\n",
              "0    Cl5Pb2Tl -1.459858\n",
              "1    Ga2MnSe4 -0.565283\n",
              "2    Ag2Sn2Sr -0.360284\n",
              "3    Au2Si2Sr -0.493980\n",
              "4    Au2CaSi2 -0.485538\n",
              "5    Ge2SrZn2 -0.366117\n",
              "6    Cu2Ge2Sr -0.373508\n",
              "7    Co2Ge2Sr -0.427252\n",
              "8    CaCo2Ge2 -0.478208\n",
              "9      F4NaTi -3.371053"
            ],
            "text/html": [
              "\n",
              "  <div id=\"df-7b9172ab-74f0-4dd2-b3a6-81d02a28f454\">\n",
              "    <div class=\"colab-df-container\">\n",
              "      <div>\n",
              "<style scoped>\n",
              "    .dataframe tbody tr th:only-of-type {\n",
              "        vertical-align: middle;\n",
              "    }\n",
              "\n",
              "    .dataframe tbody tr th {\n",
              "        vertical-align: top;\n",
              "    }\n",
              "\n",
              "    .dataframe thead th {\n",
              "        text-align: right;\n",
              "    }\n",
              "</style>\n",
              "<table border=\"1\" class=\"dataframe\">\n",
              "  <thead>\n",
              "    <tr style=\"text-align: right;\">\n",
              "      <th></th>\n",
              "      <th>composition</th>\n",
              "      <th>energy</th>\n",
              "    </tr>\n",
              "  </thead>\n",
              "  <tbody>\n",
              "    <tr>\n",
              "      <th>0</th>\n",
              "      <td>Cl5Pb2Tl</td>\n",
              "      <td>-1.459858</td>\n",
              "    </tr>\n",
              "    <tr>\n",
              "      <th>1</th>\n",
              "      <td>Ga2MnSe4</td>\n",
              "      <td>-0.565283</td>\n",
              "    </tr>\n",
              "    <tr>\n",
              "      <th>2</th>\n",
              "      <td>Ag2Sn2Sr</td>\n",
              "      <td>-0.360284</td>\n",
              "    </tr>\n",
              "    <tr>\n",
              "      <th>3</th>\n",
              "      <td>Au2Si2Sr</td>\n",
              "      <td>-0.493980</td>\n",
              "    </tr>\n",
              "    <tr>\n",
              "      <th>4</th>\n",
              "      <td>Au2CaSi2</td>\n",
              "      <td>-0.485538</td>\n",
              "    </tr>\n",
              "    <tr>\n",
              "      <th>5</th>\n",
              "      <td>Ge2SrZn2</td>\n",
              "      <td>-0.366117</td>\n",
              "    </tr>\n",
              "    <tr>\n",
              "      <th>6</th>\n",
              "      <td>Cu2Ge2Sr</td>\n",
              "      <td>-0.373508</td>\n",
              "    </tr>\n",
              "    <tr>\n",
              "      <th>7</th>\n",
              "      <td>Co2Ge2Sr</td>\n",
              "      <td>-0.427252</td>\n",
              "    </tr>\n",
              "    <tr>\n",
              "      <th>8</th>\n",
              "      <td>CaCo2Ge2</td>\n",
              "      <td>-0.478208</td>\n",
              "    </tr>\n",
              "    <tr>\n",
              "      <th>9</th>\n",
              "      <td>F4NaTi</td>\n",
              "      <td>-3.371053</td>\n",
              "    </tr>\n",
              "  </tbody>\n",
              "</table>\n",
              "</div>\n",
              "      <button class=\"colab-df-convert\" onclick=\"convertToInteractive('df-7b9172ab-74f0-4dd2-b3a6-81d02a28f454')\"\n",
              "              title=\"Convert this dataframe to an interactive table.\"\n",
              "              style=\"display:none;\">\n",
              "        \n",
              "  <svg xmlns=\"http://www.w3.org/2000/svg\" height=\"24px\"viewBox=\"0 0 24 24\"\n",
              "       width=\"24px\">\n",
              "    <path d=\"M0 0h24v24H0V0z\" fill=\"none\"/>\n",
              "    <path d=\"M18.56 5.44l.94 2.06.94-2.06 2.06-.94-2.06-.94-.94-2.06-.94 2.06-2.06.94zm-11 1L8.5 8.5l.94-2.06 2.06-.94-2.06-.94L8.5 2.5l-.94 2.06-2.06.94zm10 10l.94 2.06.94-2.06 2.06-.94-2.06-.94-.94-2.06-.94 2.06-2.06.94z\"/><path d=\"M17.41 7.96l-1.37-1.37c-.4-.4-.92-.59-1.43-.59-.52 0-1.04.2-1.43.59L10.3 9.45l-7.72 7.72c-.78.78-.78 2.05 0 2.83L4 21.41c.39.39.9.59 1.41.59.51 0 1.02-.2 1.41-.59l7.78-7.78 2.81-2.81c.8-.78.8-2.07 0-2.86zM5.41 20L4 18.59l7.72-7.72 1.47 1.35L5.41 20z\"/>\n",
              "  </svg>\n",
              "      </button>\n",
              "      \n",
              "  <style>\n",
              "    .colab-df-container {\n",
              "      display:flex;\n",
              "      flex-wrap:wrap;\n",
              "      gap: 12px;\n",
              "    }\n",
              "\n",
              "    .colab-df-convert {\n",
              "      background-color: #E8F0FE;\n",
              "      border: none;\n",
              "      border-radius: 50%;\n",
              "      cursor: pointer;\n",
              "      display: none;\n",
              "      fill: #1967D2;\n",
              "      height: 32px;\n",
              "      padding: 0 0 0 0;\n",
              "      width: 32px;\n",
              "    }\n",
              "\n",
              "    .colab-df-convert:hover {\n",
              "      background-color: #E2EBFA;\n",
              "      box-shadow: 0px 1px 2px rgba(60, 64, 67, 0.3), 0px 1px 3px 1px rgba(60, 64, 67, 0.15);\n",
              "      fill: #174EA6;\n",
              "    }\n",
              "\n",
              "    [theme=dark] .colab-df-convert {\n",
              "      background-color: #3B4455;\n",
              "      fill: #D2E3FC;\n",
              "    }\n",
              "\n",
              "    [theme=dark] .colab-df-convert:hover {\n",
              "      background-color: #434B5C;\n",
              "      box-shadow: 0px 1px 3px 1px rgba(0, 0, 0, 0.15);\n",
              "      filter: drop-shadow(0px 1px 2px rgba(0, 0, 0, 0.3));\n",
              "      fill: #FFFFFF;\n",
              "    }\n",
              "  </style>\n",
              "\n",
              "      <script>\n",
              "        const buttonEl =\n",
              "          document.querySelector('#df-7b9172ab-74f0-4dd2-b3a6-81d02a28f454 button.colab-df-convert');\n",
              "        buttonEl.style.display =\n",
              "          google.colab.kernel.accessAllowed ? 'block' : 'none';\n",
              "\n",
              "        async function convertToInteractive(key) {\n",
              "          const element = document.querySelector('#df-7b9172ab-74f0-4dd2-b3a6-81d02a28f454');\n",
              "          const dataTable =\n",
              "            await google.colab.kernel.invokeFunction('convertToInteractive',\n",
              "                                                     [key], {});\n",
              "          if (!dataTable) return;\n",
              "\n",
              "          const docLinkHtml = 'Like what you see? Visit the ' +\n",
              "            '<a target=\"_blank\" href=https://colab.research.google.com/notebooks/data_table.ipynb>data table notebook</a>'\n",
              "            + ' to learn more about interactive tables.';\n",
              "          element.innerHTML = '';\n",
              "          dataTable['output_type'] = 'display_data';\n",
              "          await google.colab.output.renderOutput(dataTable, element);\n",
              "          const docLink = document.createElement('div');\n",
              "          docLink.innerHTML = docLinkHtml;\n",
              "          element.appendChild(docLink);\n",
              "        }\n",
              "      </script>\n",
              "    </div>\n",
              "  </div>\n",
              "  "
            ]
          },
          "metadata": {},
          "execution_count": 17
        }
      ]
    },
    {
      "cell_type": "code",
      "source": [
        "my_data = energy_df.values"
      ],
      "metadata": {
        "id": "YnsA808w7Vog"
      },
      "execution_count": 18,
      "outputs": []
    },
    {
      "cell_type": "code",
      "metadata": {
        "colab": {
          "base_uri": "https://localhost:8080/"
        },
        "id": "T4zdx7PvgOn2",
        "outputId": "f4e579dc-e899-4035-ae1f-cb58248f17bc"
      },
      "source": [
        "# Convert my_data to numpy array using CFID-Chem, Magpie and elemental fraction descriptors\n",
        "\n",
        "X_cfid = []\n",
        "X_Mag = []\n",
        "X_elff = []\n",
        "\n",
        "Y = []\n",
        "IDs = []\n",
        "\n",
        "for ii, i in enumerate(my_data):\n",
        "    comp = i[0]\n",
        "    desc_magpie,magpie_names = get_chem_only_descriptors(formula=comp, source=\"magpie\")\n",
        "    val = i[1]\n",
        "    X_Mag.append(desc_magpie)\n",
        "    Y.append(val)\n",
        "    IDs.append(ii)\n",
        "                \n",
        "X_Mag = np.array(X_Mag)\n",
        "\n",
        "Y = np.array(Y).reshape(-1, 1)\n",
        "\n",
        "'''\n",
        "Print out the mean absolute deviation, which captures the spread of values in\n",
        "the target property distribution\n",
        "'''\n",
        "IDs = np.array(IDs)\n",
        "mad = mean_absolute_deviation(Y)\n",
        "print(\"MAD:\", mad)\n",
        "\n",
        "\n",
        "\n"
      ],
      "execution_count": 19,
      "outputs": [
        {
          "output_type": "stream",
          "name": "stdout",
          "text": [
            "MAD: 0.7276698691263548\n"
          ]
        }
      ]
    },
    {
      "cell_type": "code",
      "source": [
        "#Print out Magpie Chemical Formula Features\n",
        "magpie_names"
      ],
      "metadata": {
        "id": "wi5_kLMs6huq",
        "outputId": "291508f7-724b-431f-ace8-925f4e14d955",
        "colab": {
          "base_uri": "https://localhost:8080/"
        }
      },
      "execution_count": 20,
      "outputs": [
        {
          "output_type": "execute_result",
          "data": {
            "text/plain": [
              "['Mean_magpie_AtomicWeight',\n",
              " 'Mean_magpie_Column',\n",
              " 'Mean_magpie_CovalentRadius',\n",
              " 'Mean_magpie_Electronegativity',\n",
              " 'Mean_magpie_GSbandgap',\n",
              " 'Mean_magpie_GSmagmom',\n",
              " 'Mean_magpie_GSvolume_pa',\n",
              " 'Mean_magpie_MeltingT',\n",
              " 'Mean_magpie_MendeleevNumber',\n",
              " 'Mean_magpie_NUnfilled',\n",
              " 'Mean_magpie_NdUnfilled',\n",
              " 'Mean_magpie_NdValence',\n",
              " 'Mean_magpie_NfUnfilled',\n",
              " 'Mean_magpie_NfValence',\n",
              " 'Mean_magpie_NpUnfilled',\n",
              " 'Mean_magpie_NpValence',\n",
              " 'Mean_magpie_NsUnfilled',\n",
              " 'Mean_magpie_NsValence',\n",
              " 'Mean_magpie_Number',\n",
              " 'Mean_magpie_Row',\n",
              " 'Mean_magpie_SpaceGroupNumber',\n",
              " 'Max_magpie_AtomicWeight',\n",
              " 'Max_magpie_Column',\n",
              " 'Max_magpie_CovalentRadius',\n",
              " 'Max_magpie_Electronegativity',\n",
              " 'Max_magpie_GSbandgap',\n",
              " 'Max_magpie_GSmagmom',\n",
              " 'Max_magpie_GSvolume_pa',\n",
              " 'Max_magpie_MeltingT',\n",
              " 'Max_magpie_MendeleevNumber',\n",
              " 'Max_magpie_NUnfilled',\n",
              " 'Max_magpie_NdUnfilled',\n",
              " 'Max_magpie_NdValence',\n",
              " 'Max_magpie_NfUnfilled',\n",
              " 'Max_magpie_NfValence',\n",
              " 'Max_magpie_NpUnfilled',\n",
              " 'Max_magpie_NpValence',\n",
              " 'Max_magpie_NsUnfilled',\n",
              " 'Max_magpie_NsValence',\n",
              " 'Max_magpie_Number',\n",
              " 'Max_magpie_Row',\n",
              " 'Max_magpie_SpaceGroupNumber',\n",
              " 'Min_magpie_AtomicWeight',\n",
              " 'Min_magpie_Column',\n",
              " 'Min_magpie_CovalentRadius',\n",
              " 'Min_magpie_Electronegativity',\n",
              " 'Min_magpie_GSbandgap',\n",
              " 'Min_magpie_GSmagmom',\n",
              " 'Min_magpie_GSvolume_pa',\n",
              " 'Min_magpie_MeltingT',\n",
              " 'Min_magpie_MendeleevNumber',\n",
              " 'Min_magpie_NUnfilled',\n",
              " 'Min_magpie_NdUnfilled',\n",
              " 'Min_magpie_NdValence',\n",
              " 'Min_magpie_NfUnfilled',\n",
              " 'Min_magpie_NfValence',\n",
              " 'Min_magpie_NpUnfilled',\n",
              " 'Min_magpie_NpValence',\n",
              " 'Min_magpie_NsUnfilled',\n",
              " 'Min_magpie_NsValence',\n",
              " 'Min_magpie_Number',\n",
              " 'Min_magpie_Row',\n",
              " 'Min_magpie_SpaceGroupNumber']"
            ]
          },
          "metadata": {},
          "execution_count": 20
        }
      ]
    },
    {
      "cell_type": "code",
      "metadata": {
        "id": "R_2IoUCwJueP",
        "outputId": "6fa3b007-329b-4063-ed04-458824d63264",
        "colab": {
          "base_uri": "https://localhost:8080/"
        }
      },
      "source": [
        "# Magpie\n",
        "# sc = StandardScaler()\n",
        "# X=sc.fit_transform(X)\n",
        "\n",
        "# selector = VarianceThreshold(0.00001)\n",
        "# X=selector.fit_transform(X)\n",
        "\n",
        "X=X_Mag\n",
        "X_train, X_test, y_train, y_test = train_test_split(\n",
        "    X, Y, random_state=1, test_size=0.1\n",
        ")\n",
        "\n",
        "random_regressor = RandomForestRegressor(\n",
        "    n_estimators=5, max_depth=5, n_jobs=-1, random_state=1\n",
        ")\n",
        "random_regressor.fit(X_train, y_train)\n",
        "pred = random_regressor.predict(X_test)\n",
        "rmse = np.sqrt(mean_squared_error(list(y_test), pred))\n",
        "mae = mean_absolute_error(list(y_test), pred)\n",
        "print(\"RMSE is %.3f\" % rmse)\n",
        "print(\"MAE is %.3f\" % mae)\n",
        "print(\"R2 score is: %.3f\" % r2_score(list(y_test), pred))\n",
        "print(\"MAD/MAE\", mad / mae)\n"
      ],
      "execution_count": 21,
      "outputs": [
        {
          "output_type": "stream",
          "name": "stderr",
          "text": [
            "/usr/local/lib/python3.7/dist-packages/ipykernel_launcher.py:16: DataConversionWarning: A column-vector y was passed when a 1d array was expected. Please change the shape of y to (n_samples,), for example using ravel().\n",
            "  app.launch_new_instance()\n"
          ]
        },
        {
          "output_type": "stream",
          "name": "stdout",
          "text": [
            "RMSE is 0.350\n",
            "MAE is 0.253\n",
            "R2 score is: 0.843\n",
            "MAD/MAE 2.8712154062367254\n"
          ]
        }
      ]
    },
    {
      "cell_type": "code",
      "metadata": {
        "id": "nPxGZA1RgPjB",
        "outputId": "74d3f428-1fe4-4031-ef9e-305e4e047a83",
        "colab": {
          "base_uri": "https://localhost:8080/"
        }
      },
      "source": [
        "# Grid search for Magpie\n",
        "X=X_Mag\n",
        "X_train, X_test, y_train, y_test = train_test_split(\n",
        "    X, Y, random_state=1, test_size=0.1\n",
        ")\n",
        "model = RandomForestRegressor(random_state=1)\n",
        "# Create a parameter grid. We will go over\n",
        "# each possible combination of allowed parameters in the grid.\n",
        "param_grid = {\n",
        "    \"n_estimators\": [2, 3, 4, 5],\n",
        "    # \"max_features\"      : [ 0.4, 0.6,0.8,1], #,\n",
        "    \"max_depth\": [2, 3, 4, 5, 10, 50],\n",
        "    # 'min_samples_split':range(2, 6, 2)\n",
        "    # \"bootstrap\": [True, False]\n",
        "}\n",
        "\n",
        "# Create a grid search cross validation model.\n",
        "# It performs 5 fold cross validation by default.\n",
        "cross_val_obj = RandomizedSearchCV(\n",
        "    model, param_distributions=param_grid, n_jobs=-1, cv=5, return_train_score=True\n",
        ")\n",
        "# Perform the cross validation using our train data.\n",
        "cross_val_obj.fit(X_train, y_train)\n",
        "# Select the trained tree that did the best in the cross\n",
        "# validation.\n",
        "best_regressor = cross_val_obj.best_estimator_\n",
        "print(\n",
        "    \"The model with the best score from CV is %.3f\" % cross_val_obj.best_score_\n",
        ")\n",
        "print(\n",
        "    \"The best param(s) for the CV search is/are %s\"\n",
        "    % cross_val_obj.best_params_\n",
        ")\n",
        "print(\n",
        "    \"The model with the best R2 from CV is %.3f\"\n",
        "    % r2_score(list(y_test), best_regressor.predict(X_test))\n",
        ")\n",
        "\n",
        "\n",
        "# Now test this model on our validation dataset\n",
        "# which haven't yet exposed to our model.\n",
        "predictions_list = best_regressor.predict(X_test)\n",
        "rmse = np.sqrt(mean_squared_error(list(y_test), predictions_list))\n",
        "mae = mean_absolute_error(list(y_test), predictions_list)\n",
        "r2 = r2_score(list(y_test), predictions_list)\n",
        "print(\n",
        "    \" The root mean squared error for the regressor found by CV is: %.3f\"\n",
        "    % rmse\n",
        ")\n",
        "print(\" The mean absolute error for the regressor found by CV is: %.3f\" % mae)\n",
        "print(\" The R2 for the regressor found by CV is: %.3f\" % r2)\n"
      ],
      "execution_count": 24,
      "outputs": [
        {
          "output_type": "stream",
          "name": "stderr",
          "text": [
            "/usr/local/lib/python3.7/dist-packages/sklearn/model_selection/_search.py:926: DataConversionWarning: A column-vector y was passed when a 1d array was expected. Please change the shape of y to (n_samples,), for example using ravel().\n",
            "  self.best_estimator_.fit(X, y, **fit_params)\n"
          ]
        },
        {
          "output_type": "stream",
          "name": "stdout",
          "text": [
            "The model with the best score from CV is 0.939\n",
            "The best param(s) for the CV search is/are {'n_estimators': 4, 'max_depth': 50}\n",
            "The model with the best R2 from CV is 0.960\n",
            " The root mean squared error for the regressor found by CV is: 0.177\n",
            " The mean absolute error for the regressor found by CV is: 0.111\n",
            " The R2 for the regressor found by CV is: 0.960\n"
          ]
        }
      ]
    },
    {
      "cell_type": "code",
      "source": [
        "#Plot the true versus predicted values\n",
        "plt.figure()\n",
        "\n",
        "plt.scatter(list(y_test), predictions_list)\n",
        "plt.xlabel('DFT Formation Energies')\n",
        "plt.ylabel('RF Formation Energies')"
      ],
      "metadata": {
        "id": "ltb-dssS8D1f",
        "outputId": "3cef89f8-c584-4c5f-f07c-8e93b70fc863",
        "colab": {
          "base_uri": "https://localhost:8080/",
          "height": 313
        }
      },
      "execution_count": 25,
      "outputs": [
        {
          "output_type": "execute_result",
          "data": {
            "text/plain": [
              "Text(0, 0.5, 'RF Formation Energies')"
            ]
          },
          "metadata": {},
          "execution_count": 25
        },
        {
          "output_type": "display_data",
          "data": {
            "text/plain": [
              "<Figure size 432x288 with 1 Axes>"
            ],
            "image/png": "[encoded data removed]"
          },
          "metadata": {
            "needs_background": "light"
          }
        }
      ]
    },
    {
      "cell_type": "code",
      "metadata": {
        "id": "iU_OPa42Jozd",
        "outputId": "421002a1-2ef6-4a20-bac8-115c1b9766cb",
        "colab": {
          "base_uri": "https://localhost:8080/",
          "height": 573
        }
      },
      "source": [
        "# Feature importance\n",
        "f_names = np.array(magpie_names)\n",
        "importances = best_regressor.feature_importances_\n",
        "order = np.argsort(importances)[::-1]\n",
        "numb_feats=10\n",
        "plt.bar(np.arange(0,numb_feats),importances[order][0:numb_feats])\n",
        "plt.xticks(np.arange(0,numb_feats),f_names[order][0:numb_feats],rotation=90)\n",
        "f_names[order][0:numb_feats]\n",
        "plt.rcParams.update({'font.size': 24})"
      ],
      "execution_count": 26,
      "outputs": [
        {
          "output_type": "display_data",
          "data": {
            "text/plain": [
              "<Figure size 432x288 with 1 Axes>"
            ],
            "image/png": "[encoded data removed]"
          },
          "metadata": {
            "needs_background": "light"
          }
        }
      ]
    },
    {
      "cell_type": "markdown",
      "source": [
        ""
      ],
      "metadata": {
        "id": "v-t8BAR_LxlV"
      }
    }
  ]
}