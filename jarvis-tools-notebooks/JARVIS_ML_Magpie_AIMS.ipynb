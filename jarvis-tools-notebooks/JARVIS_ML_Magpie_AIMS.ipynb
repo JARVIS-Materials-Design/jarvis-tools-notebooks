{
  "nbformat": 4,
  "nbformat_minor": 0,
  "metadata": {
    "colab": {
      "name": "JARVIS-ML for chemical formula only datasets.ipynb",
      "provenance": [],
      "include_colab_link": true
    },
    "kernelspec": {
      "name": "python3",
      "display_name": "Python 3"
    },
    "language_info": {
      "name": "python"
    }
  },
  "cells": [
    {
      "cell_type": "markdown",
      "metadata": {
        "id": "view-in-github",
        "colab_type": "text"
      },
      "source": [
        "<a href=\"https://colab.research.google.com/github/RamyaGuru/jarvis-tools-notebooks/blob/master/jarvis-tools-notebooks/JARVIS_ML_Magpie_AIMS.ipynb\" target=\"_parent\"><img src=\"https://colab.research.google.com/assets/colab-badge.svg\" alt=\"Open In Colab\"/></a>"
      ]
    },
    {
      "cell_type": "markdown",
      "source": [
        "# Machine Learning Using Chemical Formula-based Descriptors\n",
        "\n",
        "# Table of Contents\n",
        "\n",
        "1. Load formation energy database from ``qmpy``\n",
        "2. For each compound, fetch the chemical formula-based descriptors from ``magpie``\n",
        "3. Define an example random forest regression model to predict formation energy\n",
        "4. Perform grid search hyperparameter optimization to refine the random forest regression model\n",
        "5. Compare the model performance for each case\n",
        "6. Show the most important descriptors in the regression model"
      ],
      "metadata": {
        "id": "tYCR1EUdLz2n"
      }
    },
    {
      "cell_type": "code",
      "metadata": {
        "colab": {
          "base_uri": "https://localhost:8080/"
        },
        "id": "b3aEQ2BAf-T1",
        "outputId": "8c5464bc-9fd8-46b8-b4c8-b1685b30bfad",
        "collapsed": true
      },
      "source": [
        "!pip install jarvis-tools lightgbm"
      ],
      "execution_count": 2,
      "outputs": [
        {
          "output_type": "stream",
          "name": "stdout",
          "text": [
            "Looking in indexes: https://pypi.org/simple, https://us-python.pkg.dev/colab-wheels/public/simple/\n",
            "Collecting jarvis-tools\n",
            "  Downloading jarvis_tools-2022.5.20-py2.py3-none-any.whl (962 kB)\n",
            "\u001b[K     |████████████████████████████████| 962 kB 8.2 MB/s \n",
            "\u001b[?25hRequirement already satisfied: lightgbm in /usr/local/lib/python3.7/dist-packages (2.2.3)\n",
            "Requirement already satisfied: toolz>=0.9.0 in /usr/local/lib/python3.7/dist-packages (from jarvis-tools) (0.11.2)\n",
            "Requirement already satisfied: numpy>=1.19.5 in /usr/local/lib/python3.7/dist-packages (from jarvis-tools) (1.21.6)\n",
            "Requirement already satisfied: matplotlib>=3.0.0 in /usr/local/lib/python3.7/dist-packages (from jarvis-tools) (3.2.2)\n",
            "Requirement already satisfied: requests>=2.23.0 in /usr/local/lib/python3.7/dist-packages (from jarvis-tools) (2.23.0)\n",
            "Collecting spglib>=1.14.1\n",
            "  Downloading spglib-1.16.5-cp37-cp37m-manylinux_2_17_x86_64.manylinux2014_x86_64.whl (325 kB)\n",
            "\u001b[K     |████████████████████████████████| 325 kB 40.4 MB/s \n",
            "\u001b[?25hCollecting xmltodict>=0.11.0\n",
            "  Downloading xmltodict-0.13.0-py2.py3-none-any.whl (10.0 kB)\n",
            "Requirement already satisfied: tqdm>=4.41.1 in /usr/local/lib/python3.7/dist-packages (from jarvis-tools) (4.64.0)\n",
            "Requirement already satisfied: scipy>=1.4.1 in /usr/local/lib/python3.7/dist-packages (from jarvis-tools) (1.5.4)\n",
            "Requirement already satisfied: joblib>=0.14.1 in /usr/local/lib/python3.7/dist-packages (from jarvis-tools) (1.1.0)\n",
            "Requirement already satisfied: python-dateutil>=2.1 in /usr/local/lib/python3.7/dist-packages (from matplotlib>=3.0.0->jarvis-tools) (2.8.2)\n",
            "Requirement already satisfied: pyparsing!=2.0.4,!=2.1.2,!=2.1.6,>=2.0.1 in /usr/local/lib/python3.7/dist-packages (from matplotlib>=3.0.0->jarvis-tools) (3.0.9)\n",
            "Requirement already satisfied: cycler>=0.10 in /usr/local/lib/python3.7/dist-packages (from matplotlib>=3.0.0->jarvis-tools) (0.11.0)\n",
            "Requirement already satisfied: kiwisolver>=1.0.1 in /usr/local/lib/python3.7/dist-packages (from matplotlib>=3.0.0->jarvis-tools) (1.4.3)\n",
            "Requirement already satisfied: typing-extensions in /usr/local/lib/python3.7/dist-packages (from kiwisolver>=1.0.1->matplotlib>=3.0.0->jarvis-tools) (4.1.1)\n",
            "Requirement already satisfied: six>=1.5 in /usr/local/lib/python3.7/dist-packages (from python-dateutil>=2.1->matplotlib>=3.0.0->jarvis-tools) (1.15.0)\n",
            "Requirement already satisfied: idna<3,>=2.5 in /usr/local/lib/python3.7/dist-packages (from requests>=2.23.0->jarvis-tools) (2.10)\n",
            "Requirement already satisfied: urllib3!=1.25.0,!=1.25.1,<1.26,>=1.21.1 in /usr/local/lib/python3.7/dist-packages (from requests>=2.23.0->jarvis-tools) (1.24.3)\n",
            "Requirement already satisfied: certifi>=2017.4.17 in /usr/local/lib/python3.7/dist-packages (from requests>=2.23.0->jarvis-tools) (2022.6.15)\n",
            "Requirement already satisfied: chardet<4,>=3.0.2 in /usr/local/lib/python3.7/dist-packages (from requests>=2.23.0->jarvis-tools) (3.0.4)\n",
            "Requirement already satisfied: scikit-learn in /usr/local/lib/python3.7/dist-packages (from lightgbm) (1.0.2)\n",
            "Requirement already satisfied: threadpoolctl>=2.0.0 in /usr/local/lib/python3.7/dist-packages (from scikit-learn->lightgbm) (3.1.0)\n",
            "Installing collected packages: xmltodict, spglib, jarvis-tools\n",
            "Successfully installed jarvis-tools-2022.5.20 spglib-1.16.5 xmltodict-0.13.0\n"
          ]
        }
      ]
    },
    {
      "cell_type": "code",
      "metadata": {
        "id": "VqHe1fY_gGPO"
      },
      "source": [
        "import numpy as np\n",
        "import matplotlib.pyplot as plt\n",
        "from sklearn.model_selection import train_test_split\n",
        "from jarvis.ai.descriptors.elemental import get_element_fraction_desc\n",
        "from sklearn.metrics import r2_score, mean_squared_error, mean_absolute_error\n",
        "from sklearn.ensemble import RandomForestRegressor\n",
        "from sklearn.model_selection import GridSearchCV, RandomizedSearchCV\n",
        "from jarvis.ai.pkgs.utils import mean_absolute_deviation\n",
        "from jarvis.ai.descriptors.cfid import get_chem_only_descriptors\n",
        "%matplotlib inline\n",
        "plt.rcParams.update({'font.size': 18})\n"
      ],
      "execution_count": 3,
      "outputs": []
    },
    {
      "cell_type": "markdown",
      "source": [
        "For this notebook, we will utilize a set of formation energies made available through the ``qmpy`` package ([repo](https://github.com/wolverton-research-group/qmpy)), a toolkit developed alongside the ``OQMD`` database."
      ],
      "metadata": {
        "id": "6VlXePN4fHYz"
      }
    },
    {
      "cell_type": "code",
      "source": [
        "#Clone qmpy repository in order \n",
        "!git clone https://github.com/wolverton-research-group/qmpy.git"
      ],
      "metadata": {
        "id": "0EZJbRTO21BJ",
        "outputId": "09a6355f-c8ad-4ada-efe5-a21cb2646fb9",
        "colab": {
          "base_uri": "https://localhost:8080/"
        },
        "collapsed": true
      },
      "execution_count": 4,
      "outputs": [
        {
          "output_type": "stream",
          "name": "stdout",
          "text": [
            "Cloning into 'qmpy'...\n",
            "remote: Enumerating objects: 11291, done.\u001b[K\n",
            "remote: Counting objects: 100% (994/994), done.\u001b[K\n",
            "remote: Compressing objects: 100% (525/525), done.\u001b[K\n",
            "remote: Total 11291 (delta 439), reused 963 (delta 429), pack-reused 10297\u001b[K\n",
            "Receiving objects: 100% (11291/11291), 71.59 MiB | 17.90 MiB/s, done.\n",
            "Resolving deltas: 100% (6569/6569), done.\n"
          ]
        }
      ]
    },
    {
      "cell_type": "code",
      "source": [
        "import pandas as pd\n",
        "energy_df = pd.read_csv('qmpy/qmpy/data/thermodata/legacy.dat', delimiter = \" \")\n",
        "\n",
        "energy_df[:10]"
      ],
      "metadata": {
        "id": "7F03pOLx4Bw4",
        "outputId": "1b46aa71-4cf5-4f53-81df-b85a357de8b1",
        "colab": {
          "base_uri": "https://localhost:8080/",
          "height": 363
        }
      },
      "execution_count": 5,
      "outputs": [
        {
          "output_type": "execute_result",
          "data": {
            "text/plain": [
              "  composition    energy\n",
              "0    Cl5Pb2Tl -1.459858\n",
              "1    Ga2MnSe4 -0.565283\n",
              "2    Ag2Sn2Sr -0.360284\n",
              "3    Au2Si2Sr -0.493980\n",
              "4    Au2CaSi2 -0.485538\n",
              "5    Ge2SrZn2 -0.366117\n",
              "6    Cu2Ge2Sr -0.373508\n",
              "7    Co2Ge2Sr -0.427252\n",
              "8    CaCo2Ge2 -0.478208\n",
              "9      F4NaTi -3.371053"
            ],
            "text/html": [
              "\n",
              "  <div id=\"df-c4596378-16dc-490b-94d6-13b4ca8254e7\">\n",
              "    <div class=\"colab-df-container\">\n",
              "      <div>\n",
              "<style scoped>\n",
              "    .dataframe tbody tr th:only-of-type {\n",
              "        vertical-align: middle;\n",
              "    }\n",
              "\n",
              "    .dataframe tbody tr th {\n",
              "        vertical-align: top;\n",
              "    }\n",
              "\n",
              "    .dataframe thead th {\n",
              "        text-align: right;\n",
              "    }\n",
              "</style>\n",
              "<table border=\"1\" class=\"dataframe\">\n",
              "  <thead>\n",
              "    <tr style=\"text-align: right;\">\n",
              "      <th></th>\n",
              "      <th>composition</th>\n",
              "      <th>energy</th>\n",
              "    </tr>\n",
              "  </thead>\n",
              "  <tbody>\n",
              "    <tr>\n",
              "      <th>0</th>\n",
              "      <td>Cl5Pb2Tl</td>\n",
              "      <td>-1.459858</td>\n",
              "    </tr>\n",
              "    <tr>\n",
              "      <th>1</th>\n",
              "      <td>Ga2MnSe4</td>\n",
              "      <td>-0.565283</td>\n",
              "    </tr>\n",
              "    <tr>\n",
              "      <th>2</th>\n",
              "      <td>Ag2Sn2Sr</td>\n",
              "      <td>-0.360284</td>\n",
              "    </tr>\n",
              "    <tr>\n",
              "      <th>3</th>\n",
              "      <td>Au2Si2Sr</td>\n",
              "      <td>-0.493980</td>\n",
              "    </tr>\n",
              "    <tr>\n",
              "      <th>4</th>\n",
              "      <td>Au2CaSi2</td>\n",
              "      <td>-0.485538</td>\n",
              "    </tr>\n",
              "    <tr>\n",
              "      <th>5</th>\n",
              "      <td>Ge2SrZn2</td>\n",
              "      <td>-0.366117</td>\n",
              "    </tr>\n",
              "    <tr>\n",
              "      <th>6</th>\n",
              "      <td>Cu2Ge2Sr</td>\n",
              "      <td>-0.373508</td>\n",
              "    </tr>\n",
              "    <tr>\n",
              "      <th>7</th>\n",
              "      <td>Co2Ge2Sr</td>\n",
              "      <td>-0.427252</td>\n",
              "    </tr>\n",
              "    <tr>\n",
              "      <th>8</th>\n",
              "      <td>CaCo2Ge2</td>\n",
              "      <td>-0.478208</td>\n",
              "    </tr>\n",
              "    <tr>\n",
              "      <th>9</th>\n",
              "      <td>F4NaTi</td>\n",
              "      <td>-3.371053</td>\n",
              "    </tr>\n",
              "  </tbody>\n",
              "</table>\n",
              "</div>\n",
              "      <button class=\"colab-df-convert\" onclick=\"convertToInteractive('df-c4596378-16dc-490b-94d6-13b4ca8254e7')\"\n",
              "              title=\"Convert this dataframe to an interactive table.\"\n",
              "              style=\"display:none;\">\n",
              "        \n",
              "  <svg xmlns=\"http://www.w3.org/2000/svg\" height=\"24px\"viewBox=\"0 0 24 24\"\n",
              "       width=\"24px\">\n",
              "    <path d=\"M0 0h24v24H0V0z\" fill=\"none\"/>\n",
              "    <path d=\"M18.56 5.44l.94 2.06.94-2.06 2.06-.94-2.06-.94-.94-2.06-.94 2.06-2.06.94zm-11 1L8.5 8.5l.94-2.06 2.06-.94-2.06-.94L8.5 2.5l-.94 2.06-2.06.94zm10 10l.94 2.06.94-2.06 2.06-.94-2.06-.94-.94-2.06-.94 2.06-2.06.94z\"/><path d=\"M17.41 7.96l-1.37-1.37c-.4-.4-.92-.59-1.43-.59-.52 0-1.04.2-1.43.59L10.3 9.45l-7.72 7.72c-.78.78-.78 2.05 0 2.83L4 21.41c.39.39.9.59 1.41.59.51 0 1.02-.2 1.41-.59l7.78-7.78 2.81-2.81c.8-.78.8-2.07 0-2.86zM5.41 20L4 18.59l7.72-7.72 1.47 1.35L5.41 20z\"/>\n",
              "  </svg>\n",
              "      </button>\n",
              "      \n",
              "  <style>\n",
              "    .colab-df-container {\n",
              "      display:flex;\n",
              "      flex-wrap:wrap;\n",
              "      gap: 12px;\n",
              "    }\n",
              "\n",
              "    .colab-df-convert {\n",
              "      background-color: #E8F0FE;\n",
              "      border: none;\n",
              "      border-radius: 50%;\n",
              "      cursor: pointer;\n",
              "      display: none;\n",
              "      fill: #1967D2;\n",
              "      height: 32px;\n",
              "      padding: 0 0 0 0;\n",
              "      width: 32px;\n",
              "    }\n",
              "\n",
              "    .colab-df-convert:hover {\n",
              "      background-color: #E2EBFA;\n",
              "      box-shadow: 0px 1px 2px rgba(60, 64, 67, 0.3), 0px 1px 3px 1px rgba(60, 64, 67, 0.15);\n",
              "      fill: #174EA6;\n",
              "    }\n",
              "\n",
              "    [theme=dark] .colab-df-convert {\n",
              "      background-color: #3B4455;\n",
              "      fill: #D2E3FC;\n",
              "    }\n",
              "\n",
              "    [theme=dark] .colab-df-convert:hover {\n",
              "      background-color: #434B5C;\n",
              "      box-shadow: 0px 1px 3px 1px rgba(0, 0, 0, 0.15);\n",
              "      filter: drop-shadow(0px 1px 2px rgba(0, 0, 0, 0.3));\n",
              "      fill: #FFFFFF;\n",
              "    }\n",
              "  </style>\n",
              "\n",
              "      <script>\n",
              "        const buttonEl =\n",
              "          document.querySelector('#df-c4596378-16dc-490b-94d6-13b4ca8254e7 button.colab-df-convert');\n",
              "        buttonEl.style.display =\n",
              "          google.colab.kernel.accessAllowed ? 'block' : 'none';\n",
              "\n",
              "        async function convertToInteractive(key) {\n",
              "          const element = document.querySelector('#df-c4596378-16dc-490b-94d6-13b4ca8254e7');\n",
              "          const dataTable =\n",
              "            await google.colab.kernel.invokeFunction('convertToInteractive',\n",
              "                                                     [key], {});\n",
              "          if (!dataTable) return;\n",
              "\n",
              "          const docLinkHtml = 'Like what you see? Visit the ' +\n",
              "            '<a target=\"_blank\" href=https://colab.research.google.com/notebooks/data_table.ipynb>data table notebook</a>'\n",
              "            + ' to learn more about interactive tables.';\n",
              "          element.innerHTML = '';\n",
              "          dataTable['output_type'] = 'display_data';\n",
              "          await google.colab.output.renderOutput(dataTable, element);\n",
              "          const docLink = document.createElement('div');\n",
              "          docLink.innerHTML = docLinkHtml;\n",
              "          element.appendChild(docLink);\n",
              "        }\n",
              "      </script>\n",
              "    </div>\n",
              "  </div>\n",
              "  "
            ]
          },
          "metadata": {},
          "execution_count": 5
        }
      ]
    },
    {
      "cell_type": "code",
      "source": [
        "my_data = energy_df.values"
      ],
      "metadata": {
        "id": "YnsA808w7Vog"
      },
      "execution_count": 6,
      "outputs": []
    },
    {
      "cell_type": "markdown",
      "source": [
        "**Collect the Chemical Formula Descriptors**\n",
        "\n",
        "Here, we will get the information that will serve as the regressors in our model. NOTE: these descriptors are composition-based only. The descriptors consistute properties defined for specific elements (atomic mass, radius).\n",
        "\n",
        "**Try Modifying**\n",
        "\n",
        "The ``get_chem_only_descriptors`` function allows you to change the ``source`` of the descriptors. Change ``magpie`` to ``cfid`` to get an alternate set of descriptors. "
      ],
      "metadata": {
        "id": "-rOtA8sDfnMu"
      }
    },
    {
      "cell_type": "code",
      "metadata": {
        "colab": {
          "base_uri": "https://localhost:8080/"
        },
        "id": "T4zdx7PvgOn2",
        "outputId": "f60a88aa-4d2b-4b7d-df7a-b3c67d881333"
      },
      "source": [
        "# Convert my_data to numpy array using CFID-Chem, Magpie and elemental fraction descriptors\n",
        "\n",
        "X_cfid = []\n",
        "X_Mag = []\n",
        "X_elff = []\n",
        "\n",
        "Y = []\n",
        "IDs = []\n",
        "\n",
        "for ii, i in enumerate(my_data):\n",
        "    comp = i[0]\n",
        "    desc_magpie,magpie_names = get_chem_only_descriptors(formula=comp, source=\"magpie\")\n",
        "    val = i[1]\n",
        "    X_Mag.append(desc_magpie)\n",
        "    Y.append(val)\n",
        "    IDs.append(ii)\n",
        "                \n",
        "X_Mag = np.array(X_Mag)\n",
        "\n",
        "Y = np.array(Y).reshape(-1, 1)\n",
        "\n",
        "'''\n",
        "Print out the mean absolute deviation, which captures the spread of values in\n",
        "the target property distribution\n",
        "'''\n",
        "IDs = np.array(IDs)\n",
        "mad = mean_absolute_deviation(Y)\n",
        "print(\"MAD:\", mad)\n"
      ],
      "execution_count": 7,
      "outputs": [
        {
          "output_type": "stream",
          "name": "stdout",
          "text": [
            "MAD: 0.7276698691263548\n"
          ]
        }
      ]
    },
    {
      "cell_type": "code",
      "source": [
        "#Print out Magpie Chemical Formula Features\n",
        "magpie_names[:30]"
      ],
      "metadata": {
        "colab": {
          "base_uri": "https://localhost:8080/"
        },
        "id": "wi5_kLMs6huq",
        "outputId": "c4e7851e-3c09-406d-d795-4fad3aa000ee"
      },
      "execution_count": 8,
      "outputs": [
        {
          "output_type": "execute_result",
          "data": {
            "text/plain": [
              "['Mean_magpie_AtomicWeight',\n",
              " 'Mean_magpie_Column',\n",
              " 'Mean_magpie_CovalentRadius',\n",
              " 'Mean_magpie_Electronegativity',\n",
              " 'Mean_magpie_GSbandgap',\n",
              " 'Mean_magpie_GSmagmom',\n",
              " 'Mean_magpie_GSvolume_pa',\n",
              " 'Mean_magpie_MeltingT',\n",
              " 'Mean_magpie_MendeleevNumber',\n",
              " 'Mean_magpie_NUnfilled',\n",
              " 'Mean_magpie_NdUnfilled',\n",
              " 'Mean_magpie_NdValence',\n",
              " 'Mean_magpie_NfUnfilled',\n",
              " 'Mean_magpie_NfValence',\n",
              " 'Mean_magpie_NpUnfilled',\n",
              " 'Mean_magpie_NpValence',\n",
              " 'Mean_magpie_NsUnfilled',\n",
              " 'Mean_magpie_NsValence',\n",
              " 'Mean_magpie_Number',\n",
              " 'Mean_magpie_Row',\n",
              " 'Mean_magpie_SpaceGroupNumber',\n",
              " 'Max_magpie_AtomicWeight',\n",
              " 'Max_magpie_Column',\n",
              " 'Max_magpie_CovalentRadius',\n",
              " 'Max_magpie_Electronegativity',\n",
              " 'Max_magpie_GSbandgap',\n",
              " 'Max_magpie_GSmagmom',\n",
              " 'Max_magpie_GSvolume_pa',\n",
              " 'Max_magpie_MeltingT',\n",
              " 'Max_magpie_MendeleevNumber']"
            ]
          },
          "metadata": {},
          "execution_count": 8
        }
      ]
    },
    {
      "cell_type": "markdown",
      "source": [
        "**Set up an example Random Forest Regression Model**\n",
        "\n",
        "Here, we will set up a Random Forest Regression model to predict formation energies using sci-kit learn. We must first divide the dataset into training data (used to refine the model) and test data (unseen during training). \n",
        "\n",
        "In the ``RandomForestRegressor`` instantiation, certain hyperparameters define the overall structure if the model. ``n_estimators`` defines the number of decision trees, while ``max_depth`` defines the maximum number of splits (choices) the decision tree can make before making a prediction. \n",
        "\n",
        "\n",
        "**Try modifying**\n",
        "\n",
        "1. Change the ratio of training to test data by modifying the ``test_size`` parameter in the ``train_test_split`` function\n",
        "2. Manually adjust ``n_estimators`` and ``max_depth`` to see how it impacts the model performance. Do you see evidence of overfitting or underfitting?"
      ],
      "metadata": {
        "id": "5ow2QqQAhwyp"
      }
    },
    {
      "cell_type": "code",
      "metadata": {
        "id": "R_2IoUCwJueP",
        "outputId": "53baf1a6-a99e-40c9-e26f-32fdcf3cb05d",
        "colab": {
          "base_uri": "https://localhost:8080/"
        }
      },
      "source": [
        "\n",
        "X=X_Mag\n",
        "X_train, X_test, y_train, y_test = train_test_split(\n",
        "    X, Y, random_state=1, test_size=0.1\n",
        ")\n",
        "\n",
        "random_regressor = RandomForestRegressor(\n",
        "    n_estimators=5, max_depth=5, n_jobs=-1, random_state=1\n",
        ")\n",
        "random_regressor.fit(X_train, y_train)\n",
        "pred = random_regressor.predict(X_test)\n",
        "rmse = np.sqrt(mean_squared_error(list(y_test), pred))\n",
        "mae = mean_absolute_error(list(y_test), pred)\n",
        "print(\"RMSE is %.3f\" % rmse)\n",
        "print(\"MAE is %.3f\" % mae)\n",
        "print(\"R2 score is: %.3f\" % r2_score(list(y_test), pred))\n",
        "print(\"MAD/MAE\", mad / mae)\n"
      ],
      "execution_count": 9,
      "outputs": [
        {
          "output_type": "stream",
          "name": "stderr",
          "text": [
            "/usr/local/lib/python3.7/dist-packages/ipykernel_launcher.py:10: DataConversionWarning: A column-vector y was passed when a 1d array was expected. Please change the shape of y to (n_samples,), for example using ravel().\n",
            "  # Remove the CWD from sys.path while we load stuff.\n"
          ]
        },
        {
          "output_type": "stream",
          "name": "stdout",
          "text": [
            "RMSE is 0.350\n",
            "MAE is 0.253\n",
            "R2 score is: 0.843\n",
            "MAD/MAE 2.8712154062367254\n"
          ]
        }
      ]
    },
    {
      "cell_type": "code",
      "source": [
        "#Plot the true versus predicted values\n",
        "plt.figure()\n",
        "\n",
        "plt.scatter(list(y_test), pred)\n",
        "plt.plot(list(y_test), list(y_test), color = 'r')\n",
        "plt.xlabel('DFT Formation Energies')\n",
        "plt.ylabel('RF Formation Energies')"
      ],
      "metadata": {
        "colab": {
          "base_uri": "https://localhost:8080/",
          "height": 313
        },
        "id": "9FVBRN7BeJdC",
        "outputId": "c652fd29-8ca0-4dc5-8c09-18e24cda4a2f"
      },
      "execution_count": 10,
      "outputs": [
        {
          "output_type": "execute_result",
          "data": {
            "text/plain": [
              "Text(0, 0.5, 'RF Formation Energies')"
            ]
          },
          "metadata": {},
          "execution_count": 10
        },
        {
          "output_type": "display_data",
          "data": {
            "text/plain": [
              "<Figure size 432x288 with 1 Axes>"
            ],
            "image/png": "[encoded data removed]"
          },
          "metadata": {
            "needs_background": "light"
          }
        }
      ]
    },
    {
      "cell_type": "markdown",
      "source": [
        "**Refine a Random Forest Model using a Hyperparameter Search**\n",
        "\n",
        "This time, we will use the ``GridSearchCV`` method to both search the hyperparameter space and better evaluate the model performance.\n",
        "\n",
        "Currently, we are just optimizing the ``n_estimators`` and ``max_depth``, however other hyperparameters can be included in the search as well.\n",
        "\n",
        "Simultaneously, ``GridSearchCV`` performs cross-validation, which iteratively changes the the training-test split to evaluate how generality of the model perdictions results.\n",
        "\n",
        "Here, we print out the optimized hyperparameters after the Grid Search as well as the performance error metrics evaluated using the test set.\n",
        "\n",
        "**Try modifying**\n",
        "\n",
        "1. Change method from ``GridSearchCV`` to ``RandomizedSearchCV`` and see note in the comments\n",
        "2. Include additional hyperparameters in the search by uncommenting items in the ``param_space`` dictionary\n",
        "3. Change the number of training-test cross-validation steps performed by changing the value of the ``cv`` parameter in the ``GridSearchCV`` function"
      ],
      "metadata": {
        "id": "sRbNGZbNEGza"
      }
    },
    {
      "cell_type": "code",
      "metadata": {
        "id": "nPxGZA1RgPjB",
        "outputId": "1cfca626-0763-4327-f134-b247e1736c26",
        "colab": {
          "base_uri": "https://localhost:8080/"
        }
      },
      "source": [
        "# Hyperparameter optimization search for Magpie\n",
        "X=X_Mag\n",
        "X_train, X_test, y_train, y_test = train_test_split(\n",
        "    X, Y, random_state=1, test_size=0.1\n",
        ")\n",
        "model = RandomForestRegressor(random_state=1)\n",
        "# Create a parameter grid. We will go over\n",
        "# each possible combination of allowed parameters in the grid.\n",
        "param_space = {\n",
        "    \"n_estimators\": [2, 3, 4, 5],\n",
        "    # \"max_features\"      : [ 0.4, 0.6,0.8,1], #,\n",
        "    \"max_depth\": [2, 3, 4, 5, 10, 50],\n",
        "    # 'min_samples_split':range(2, 6, 2)\n",
        "    # \"bootstrap\": [True, False]\n",
        "}\n",
        "\n",
        "# Create a grid search cross validation model.\n",
        "# It performs 5 fold cross validation by default.\n",
        "\n",
        "'''\n",
        "NOTE: If using RandomizedSearch, rename \"param_grid\" parameter name to \n",
        "\"param_distributions\"\n",
        "'''\n",
        "cross_val_obj = GridSearchCV(\n",
        "    model, param_grid=param_space, n_jobs=-1, cv=5, return_train_score=True\n",
        ")\n",
        "# Perform the cross validation using our train data.\n",
        "cross_val_obj.fit(X_train, y_train)\n",
        "# Select the trained tree that did the best in the cross\n",
        "# validation.\n",
        "best_regressor = cross_val_obj.best_estimator_\n",
        "print(\n",
        "    \"The model with the best score from CV is %.3f\" % cross_val_obj.best_score_\n",
        ")\n",
        "print(\n",
        "    \"The best param(s) for the CV search is/are %s\"\n",
        "    % cross_val_obj.best_params_\n",
        ")\n",
        "print(\n",
        "    \"The model with the best R2 from CV is %.3f\"\n",
        "    % r2_score(list(y_test), best_regressor.predict(X_test))\n",
        ")\n",
        "\n",
        "\n",
        "# Now test this model on our validation dataset\n",
        "# which haven't yet exposed to our model.\n",
        "predictions_list = best_regressor.predict(X_test)\n",
        "rmse = np.sqrt(mean_squared_error(list(y_test), predictions_list))\n",
        "mae = mean_absolute_error(list(y_test), predictions_list)\n",
        "r2 = r2_score(list(y_test), predictions_list)\n",
        "print(\n",
        "    \" The root mean squared error for the regressor found by CV is: %.3f\"\n",
        "    % rmse\n",
        ")\n",
        "print(\" The mean absolute error for the regressor found by CV is: %.3f\" % mae)\n",
        "print(\" The R2 for the regressor found by CV is: %.3f\" % r2)\n"
      ],
      "execution_count": 11,
      "outputs": [
        {
          "output_type": "stream",
          "name": "stderr",
          "text": [
            "/usr/local/lib/python3.7/dist-packages/sklearn/model_selection/_search.py:926: DataConversionWarning: A column-vector y was passed when a 1d array was expected. Please change the shape of y to (n_samples,), for example using ravel().\n",
            "  self.best_estimator_.fit(X, y, **fit_params)\n"
          ]
        },
        {
          "output_type": "stream",
          "name": "stdout",
          "text": [
            "The model with the best score from CV is 0.924\n",
            "The best param(s) for the CV search is/are {'n_estimators': 5, 'max_depth': 10}\n",
            "The model with the best R2 from CV is 0.938\n",
            " The root mean squared error for the regressor found by CV is: 0.220\n",
            " The mean absolute error for the regressor found by CV is: 0.158\n",
            " The R2 for the regressor found by CV is: 0.938\n"
          ]
        }
      ]
    },
    {
      "cell_type": "code",
      "source": [
        "#Plot the true versus predicted values\n",
        "plt.figure()\n",
        "\n",
        "plt.scatter(list(y_test), predictions_list)\n",
        "plt.plot(list(y_test), list(y_test), color = 'r')\n",
        "plt.xlabel('DFT Formation Energies')\n",
        "plt.ylabel('RF Formation Energies')"
      ],
      "metadata": {
        "id": "ltb-dssS8D1f",
        "outputId": "4398325f-ca58-4bf7-c923-a408756b2e5f",
        "colab": {
          "base_uri": "https://localhost:8080/",
          "height": 313
        }
      },
      "execution_count": 12,
      "outputs": [
        {
          "output_type": "execute_result",
          "data": {
            "text/plain": [
              "Text(0, 0.5, 'RF Formation Energies')"
            ]
          },
          "metadata": {},
          "execution_count": 12
        },
        {
          "output_type": "display_data",
          "data": {
            "text/plain": [
              "<Figure size 432x288 with 1 Axes>"
            ],
            "image/png": "[encoded data removed]"
          },
          "metadata": {
            "needs_background": "light"
          }
        }
      ]
    },
    {
      "cell_type": "markdown",
      "source": [
        "Here, we show the 10 features which most influence the regression model results."
      ],
      "metadata": {
        "id": "xQifylXuN0fF"
      }
    },
    {
      "cell_type": "code",
      "metadata": {
        "id": "iU_OPa42Jozd",
        "outputId": "64a18e54-7ccf-4d6a-d1cf-e4587e1f60a8",
        "colab": {
          "base_uri": "https://localhost:8080/",
          "height": 573
        }
      },
      "source": [
        "# Feature importance\n",
        "f_names = np.array(magpie_names)\n",
        "importances = best_regressor.feature_importances_\n",
        "order = np.argsort(importances)[::-1]\n",
        "numb_feats=10\n",
        "plt.bar(np.arange(0,numb_feats),importances[order][0:numb_feats])\n",
        "plt.xticks(np.arange(0,numb_feats),f_names[order][0:numb_feats],rotation=90)\n",
        "f_names[order][0:numb_feats]\n",
        "plt.rcParams.update({'font.size': 24})"
      ],
      "execution_count": 13,
      "outputs": [
        {
          "output_type": "display_data",
          "data": {
            "text/plain": [
              "<Figure size 432x288 with 1 Axes>"
            ],
            "image/png": "[encoded data removed]"
          },
          "metadata": {
            "needs_background": "light"
          }
        }
      ]
    }
  ]
}