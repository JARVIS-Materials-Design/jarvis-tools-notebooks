{
  "nbformat": 4,
  "nbformat_minor": 0,
  "metadata": {
    "colab": {
      "provenance": [],
      "gpuType": "T4",
      "authorship_tag": "ABX9TyPUGY6QeBvcAikOXd0WytEI",
      "include_colab_link": true
    },
    "kernelspec": {
      "name": "python3",
      "display_name": "Python 3"
    },
    "language_info": {
      "name": "python"
    },
    "accelerator": "GPU"
  },
  "cells": [
    {
      "cell_type": "markdown",
      "metadata": {
        "id": "view-in-github",
        "colab_type": "text"
      },
      "source": [
        "<a href=\"https://colab.research.google.com/github/knc6/jarvis-tools-notebooks/blob/master/jarvis-tools-notebooks/atomgpt_forward_example.ipynb\" target=\"_parent\"><img src=\"https://colab.research.google.com/assets/colab-badge.svg\" alt=\"Open In Colab\"/></a>"
      ]
    },
    {
      "cell_type": "markdown",
      "source": [
        "## AtomGPT example: https://pubs.acs.org/doi/10.1021/acs.jpclett.4c01126\n"
      ],
      "metadata": {
        "id": "TkkuV4Hyib2K"
      }
    },
    {
      "cell_type": "markdown",
      "source": [
        "# Table of contents\n",
        "\n",
        "1. Installing [AtomGPT](https://github.com/usnistgov/atomgpt)\n",
        "2. Train a forward prediction model using AtomGPT\n",
        "3. Use the model for forward predictions\n",
        "4. Comapre with [ALIGNN](https://github.com/usnistgov/alignn)\n",
        "\n",
        "Author: Kamal Choudhary (kamal.choudhary@nist.gov)"
      ],
      "metadata": {
        "id": "bhdCyKO2tSeu"
      }
    },
    {
      "cell_type": "markdown",
      "source": [
        "Run this block and wait for a few seconds"
      ],
      "metadata": {
        "id": "sEW0cLAlX713"
      }
    },
    {
      "cell_type": "code",
      "execution_count": 1,
      "metadata": {
        "colab": {
          "base_uri": "https://localhost:8080/"
        },
        "id": "0HURIAsbZgMF",
        "outputId": "3a9df5ce-5719-4987-9570-fad7256cbca4"
      },
      "outputs": [
        {
          "output_type": "stream",
          "name": "stdout",
          "text": [
            "⏬ Downloading https://github.com/conda-forge/miniforge/releases/download/23.11.0-0/Mambaforge-23.11.0-0-Linux-x86_64.sh...\n",
            "📦 Installing...\n",
            "📌 Adjusting configuration...\n",
            "🩹 Patching environment...\n",
            "⏲ Done in 0:00:22\n",
            "🔁 Restarting kernel...\n"
          ]
        }
      ],
      "source": [
        "!pip install -q condacolab\n",
        "import condacolab\n",
        "condacolab.install()"
      ]
    },
    {
      "cell_type": "markdown",
      "source": [
        "Installation"
      ],
      "metadata": {
        "id": "ZfBX7ilpiouF"
      }
    },
    {
      "cell_type": "code",
      "source": [
        "%%time\n",
        "import os\n",
        "os.chdir('/content')\n",
        "!rm -rf Software\n",
        "os.makedirs('/content/Software')\n",
        "os.chdir('/content/Software')\n",
        "if not os.path.exists('atomgpt'):\n",
        "  !rm -rf atomgpt\n",
        "  !git clone https://github.com/usnistgov/atomgpt.git\n",
        "  os.chdir('atomgpt')\n",
        "  ! git checkout dev\n",
        "  !pip install -qqq -r dev-requirements.txt\n",
        "  !pip install -q protobuf\n",
        "  !pip install -q -e .\n",
        "  !git status\n"
      ],
      "metadata": {
        "colab": {
          "base_uri": "https://localhost:8080/"
        },
        "id": "-0SQ7cmLgC8l",
        "outputId": "d91d110b-e7da-4b2c-9585-dc0dc2d496e5"
      },
      "execution_count": 1,
      "outputs": [
        {
          "output_type": "stream",
          "name": "stdout",
          "text": [
            "Cloning into 'atomgpt'...\n",
            "remote: Enumerating objects: 616, done.\u001b[K\n",
            "remote: Counting objects: 100% (116/116), done.\u001b[K\n",
            "remote: Compressing objects: 100% (88/88), done.\u001b[K\n",
            "remote: Total 616 (delta 50), reused 50 (delta 22), pack-reused 500 (from 1)\u001b[K\n",
            "Receiving objects: 100% (616/616), 66.31 MiB | 22.86 MiB/s, done.\n",
            "Resolving deltas: 100% (285/285), done.\n",
            "Branch 'dev' set up to track remote branch 'dev' from 'origin'.\n",
            "Switched to a new branch 'dev'\n",
            "\u001b[2K     \u001b[90m━━━━━━━━━━━━━━━━━━━━━━━━━━━━━━━━━━━━━━━━\u001b[0m \u001b[32m77.1/77.1 kB\u001b[0m \u001b[31m5.2 MB/s\u001b[0m eta \u001b[36m0:00:00\u001b[0m\n",
            "\u001b[2K     \u001b[90m━━━━━━━━━━━━━━━━━━━━━━━━━━━━━━━━━━━━━━━━\u001b[0m \u001b[32m162.2/162.2 kB\u001b[0m \u001b[31m10.7 MB/s\u001b[0m eta \u001b[36m0:00:00\u001b[0m\n",
            "\u001b[2K     \u001b[90m━━━━━━━━━━━━━━━━━━━━━━━━━━━━━━━━━━━━━━━━\u001b[0m \u001b[32m51.0/51.0 kB\u001b[0m \u001b[31m3.6 MB/s\u001b[0m eta \u001b[36m0:00:00\u001b[0m\n",
            "\u001b[?25h  Installing build dependencies ... \u001b[?25l\u001b[?25hdone\n",
            "  Getting requirements to build wheel ... \u001b[?25l\u001b[?25hdone\n",
            "  Preparing metadata (pyproject.toml) ... \u001b[?25l\u001b[?25hdone\n",
            "\u001b[2K     \u001b[90m━━━━━━━━━━━━━━━━━━━━━━━━━━━━━━━━━━━━━━━━\u001b[0m \u001b[32m109.4/109.4 kB\u001b[0m \u001b[31m10.4 MB/s\u001b[0m eta \u001b[36m0:00:00\u001b[0m\n",
            "\u001b[2K     \u001b[90m━━━━━━━━━━━━━━━━━━━━━━━━━━━━━━━━━━━━━━━━\u001b[0m \u001b[32m40.9/40.9 kB\u001b[0m \u001b[31m3.1 MB/s\u001b[0m eta \u001b[36m0:00:00\u001b[0m\n",
            "\u001b[2K     \u001b[90m━━━━━━━━━━━━━━━━━━━━━━━━━━━━━━━━━━━━━━━━\u001b[0m \u001b[32m57.6/57.6 kB\u001b[0m \u001b[31m5.1 MB/s\u001b[0m eta \u001b[36m0:00:00\u001b[0m\n",
            "\u001b[2K     \u001b[90m━━━━━━━━━━━━━━━━━━━━━━━━━━━━━━━━━━━━━━━━\u001b[0m \u001b[32m43.8/43.8 kB\u001b[0m \u001b[31m4.0 MB/s\u001b[0m eta \u001b[36m0:00:00\u001b[0m\n",
            "\u001b[2K   \u001b[90m━━━━━━━━━━━━━━━━━━━━━━━━━━━━━━━━━━━━━━━━\u001b[0m \u001b[32m309.4/309.4 kB\u001b[0m \u001b[31m16.0 MB/s\u001b[0m eta \u001b[36m0:00:00\u001b[0m\n",
            "\u001b[2K   \u001b[90m━━━━━━━━━━━━━━━━━━━━━━━━━━━━━━━━━━━━━━━━\u001b[0m \u001b[32m1.2/1.2 MB\u001b[0m \u001b[31m51.8 MB/s\u001b[0m eta \u001b[36m0:00:00\u001b[0m\n",
            "\u001b[2K   \u001b[90m━━━━━━━━━━━━━━━━━━━━━━━━━━━━━━━━━━━━━━━━\u001b[0m \u001b[32m109.4/109.4 kB\u001b[0m \u001b[31m9.3 MB/s\u001b[0m eta \u001b[36m0:00:00\u001b[0m\n",
            "\u001b[2K   \u001b[90m━━━━━━━━━━━━━━━━━━━━━━━━━━━━━━━━━━━━━━━━\u001b[0m \u001b[32m2.9/2.9 MB\u001b[0m \u001b[31m90.1 MB/s\u001b[0m eta \u001b[36m0:00:00\u001b[0m\n",
            "\u001b[2K   \u001b[90m━━━━━━━━━━━━━━━━━━━━━━━━━━━━━━━━━━━━━━━━\u001b[0m \u001b[32m60.8/60.8 kB\u001b[0m \u001b[31m5.3 MB/s\u001b[0m eta \u001b[36m0:00:00\u001b[0m\n",
            "\u001b[2K   \u001b[90m━━━━━━━━━━━━━━━━━━━━━━━━━━━━━━━━━━━━━━━━\u001b[0m \u001b[32m45.7/45.7 kB\u001b[0m \u001b[31m3.7 MB/s\u001b[0m eta \u001b[36m0:00:00\u001b[0m\n",
            "\u001b[2K   \u001b[90m━━━━━━━━━━━━━━━━━━━━━━━━━━━━━━━━━━━━━━━━\u001b[0m \u001b[32m119.8/119.8 MB\u001b[0m \u001b[31m7.7 MB/s\u001b[0m eta \u001b[36m0:00:00\u001b[0m\n",
            "\u001b[2K   \u001b[90m━━━━━━━━━━━━━━━━━━━━━━━━━━━━━━━━━━━━━━━━\u001b[0m \u001b[32m1.8/1.8 MB\u001b[0m \u001b[31m75.5 MB/s\u001b[0m eta \u001b[36m0:00:00\u001b[0m\n",
            "\u001b[2K   \u001b[90m━━━━━━━━━━━━━━━━━━━━━━━━━━━━━━━━━━━━━━━━\u001b[0m \u001b[32m164.4/164.4 kB\u001b[0m \u001b[31m15.5 MB/s\u001b[0m eta \u001b[36m0:00:00\u001b[0m\n",
            "\u001b[2K   \u001b[90m━━━━━━━━━━━━━━━━━━━━━━━━━━━━━━━━━━━━━━━━\u001b[0m \u001b[32m133.4/133.4 kB\u001b[0m \u001b[31m12.2 MB/s\u001b[0m eta \u001b[36m0:00:00\u001b[0m\n",
            "\u001b[2K   \u001b[90m━━━━━━━━━━━━━━━━━━━━━━━━━━━━━━━━━━━━━━━━\u001b[0m \u001b[32m305.2/305.2 kB\u001b[0m \u001b[31m26.1 MB/s\u001b[0m eta \u001b[36m0:00:00\u001b[0m\n",
            "\u001b[2K   \u001b[90m━━━━━━━━━━━━━━━━━━━━━━━━━━━━━━━━━━━━━━━━\u001b[0m \u001b[32m547.8/547.8 kB\u001b[0m \u001b[31m39.6 MB/s\u001b[0m eta \u001b[36m0:00:00\u001b[0m\n",
            "\u001b[2K   \u001b[90m━━━━━━━━━━━━━━━━━━━━━━━━━━━━━━━━━━━━━━━━\u001b[0m \u001b[32m6.3/6.3 MB\u001b[0m \u001b[31m15.8 MB/s\u001b[0m eta \u001b[36m0:00:00\u001b[0m\n",
            "\u001b[2K   \u001b[90m━━━━━━━━━━━━━━━━━━━━━━━━━━━━━━━━━━━━━━━━\u001b[0m \u001b[32m116.3/116.3 kB\u001b[0m \u001b[31m10.5 MB/s\u001b[0m eta \u001b[36m0:00:00\u001b[0m\n",
            "\u001b[2K   \u001b[90m━━━━━━━━━━━━━━━━━━━━━━━━━━━━━━━━━━━━━━━━\u001b[0m \u001b[32m57.6/57.6 kB\u001b[0m \u001b[31m5.1 MB/s\u001b[0m eta \u001b[36m0:00:00\u001b[0m\n",
            "\u001b[2K   \u001b[90m━━━━━━━━━━━━━━━━━━━━━━━━━━━━━━━━━━━━━━━━\u001b[0m \u001b[32m4.6/4.6 MB\u001b[0m \u001b[31m94.3 MB/s\u001b[0m eta \u001b[36m0:00:00\u001b[0m\n",
            "\u001b[2K   \u001b[90m━━━━━━━━━━━━━━━━━━━━━━━━━━━━━━━━━━━━━━━━\u001b[0m \u001b[32m316.1/316.1 kB\u001b[0m \u001b[31m26.2 MB/s\u001b[0m eta \u001b[36m0:00:00\u001b[0m\n",
            "\u001b[2K   \u001b[90m━━━━━━━━━━━━━━━━━━━━━━━━━━━━━━━━━━━━━━━━\u001b[0m \u001b[32m402.6/402.6 kB\u001b[0m \u001b[31m32.5 MB/s\u001b[0m eta \u001b[36m0:00:00\u001b[0m\n",
            "\u001b[2K   \u001b[90m━━━━━━━━━━━━━━━━━━━━━━━━━━━━━━━━━━━━━━━━\u001b[0m \u001b[32m66.8/66.8 kB\u001b[0m \u001b[31m6.0 MB/s\u001b[0m eta \u001b[36m0:00:00\u001b[0m\n",
            "\u001b[2K   \u001b[90m━━━━━━━━━━━━━━━━━━━━━━━━━━━━━━━━━━━━━━━━\u001b[0m \u001b[32m4.2/4.2 MB\u001b[0m \u001b[31m13.2 MB/s\u001b[0m eta \u001b[36m0:00:00\u001b[0m\n",
            "\u001b[2K   \u001b[90m━━━━━━━━━━━━━━━━━━━━━━━━━━━━━━━━━━━━━━━━\u001b[0m \u001b[32m1.6/1.6 MB\u001b[0m \u001b[31m54.2 MB/s\u001b[0m eta \u001b[36m0:00:00\u001b[0m\n",
            "\u001b[2K   \u001b[90m━━━━━━━━━━━━━━━━━━━━━━━━━━━━━━━━━━━━━━━━\u001b[0m \u001b[32m299.2/299.2 kB\u001b[0m \u001b[31m23.9 MB/s\u001b[0m eta \u001b[36m0:00:00\u001b[0m\n",
            "\u001b[2K   \u001b[90m━━━━━━━━━━━━━━━━━━━━━━━━━━━━━━━━━━━━━━━━\u001b[0m \u001b[32m8.3/8.3 MB\u001b[0m \u001b[31m82.5 MB/s\u001b[0m eta \u001b[36m0:00:00\u001b[0m\n",
            "\u001b[2K   \u001b[90m━━━━━━━━━━━━━━━━━━━━━━━━━━━━━━━━━━━━━━━━\u001b[0m \u001b[32m134.8/134.8 kB\u001b[0m \u001b[31m11.3 MB/s\u001b[0m eta \u001b[36m0:00:00\u001b[0m\n",
            "\u001b[2K   \u001b[90m━━━━━━━━━━━━━━━━━━━━━━━━━━━━━━━━━━━━━━━━\u001b[0m \u001b[32m251.6/251.6 kB\u001b[0m \u001b[31m20.2 MB/s\u001b[0m eta \u001b[36m0:00:00\u001b[0m\n",
            "\u001b[2K   \u001b[90m━━━━━━━━━━━━━━━━━━━━━━━━━━━━━━━━━━━━━━━━\u001b[0m \u001b[32m4.5/4.5 MB\u001b[0m \u001b[31m65.2 MB/s\u001b[0m eta \u001b[36m0:00:00\u001b[0m\n",
            "\u001b[2K   \u001b[90m━━━━━━━━━━━━━━━━━━━━━━━━━━━━━━━━━━━━━━━━\u001b[0m \u001b[32m290.5/290.5 kB\u001b[0m \u001b[31m23.0 MB/s\u001b[0m eta \u001b[36m0:00:00\u001b[0m\n",
            "\u001b[2K   \u001b[90m━━━━━━━━━━━━━━━━━━━━━━━━━━━━━━━━━━━━━━━━\u001b[0m \u001b[32m409.0/409.0 kB\u001b[0m \u001b[31m28.3 MB/s\u001b[0m eta \u001b[36m0:00:00\u001b[0m\n",
            "\u001b[2K   \u001b[90m━━━━━━━━━━━━━━━━━━━━━━━━━━━━━━━━━━━━━━━━\u001b[0m \u001b[32m2.0/2.0 MB\u001b[0m \u001b[31m62.9 MB/s\u001b[0m eta \u001b[36m0:00:00\u001b[0m\n",
            "\u001b[2K   \u001b[90m━━━━━━━━━━━━━━━━━━━━━━━━━━━━━━━━━━━━━━━━\u001b[0m \u001b[32m62.7/62.7 kB\u001b[0m \u001b[31m4.8 MB/s\u001b[0m eta \u001b[36m0:00:00\u001b[0m\n",
            "\u001b[2K   \u001b[90m━━━━━━━━━━━━━━━━━━━━━━━━━━━━━━━━━━━━━━━━\u001b[0m \u001b[32m67.8/67.8 kB\u001b[0m \u001b[31m6.0 MB/s\u001b[0m eta \u001b[36m0:00:00\u001b[0m\n",
            "\u001b[2K   \u001b[90m━━━━━━━━━━━━━━━━━━━━━━━━━━━━━━━━━━━━━━━━\u001b[0m \u001b[32m229.9/229.9 kB\u001b[0m \u001b[31m19.4 MB/s\u001b[0m eta \u001b[36m0:00:00\u001b[0m\n",
            "\u001b[2K   \u001b[90m━━━━━━━━━━━━━━━━━━━━━━━━━━━━━━━━━━━━━━━━\u001b[0m \u001b[32m505.5/505.5 kB\u001b[0m \u001b[31m32.3 MB/s\u001b[0m eta \u001b[36m0:00:00\u001b[0m\n",
            "\u001b[2K   \u001b[90m━━━━━━━━━━━━━━━━━━━━━━━━━━━━━━━━━━━━━━━━\u001b[0m \u001b[32m775.1/775.1 kB\u001b[0m \u001b[31m33.1 MB/s\u001b[0m eta \u001b[36m0:00:00\u001b[0m\n",
            "\u001b[2K   \u001b[90m━━━━━━━━━━━━━━━━━━━━━━━━━━━━━━━━━━━━━━━━\u001b[0m \u001b[32m240.7/240.7 kB\u001b[0m \u001b[31m17.6 MB/s\u001b[0m eta \u001b[36m0:00:00\u001b[0m\n",
            "\u001b[2K   \u001b[90m━━━━━━━━━━━━━━━━━━━━━━━━━━━━━━━━━━━━━━━━\u001b[0m \u001b[32m1.2/1.2 MB\u001b[0m \u001b[31m27.3 MB/s\u001b[0m eta \u001b[36m0:00:00\u001b[0m\n",
            "\u001b[2K   \u001b[90m━━━━━━━━━━━━━━━━━━━━━━━━━━━━━━━━━━━━━━━━\u001b[0m \u001b[32m13.3/13.3 MB\u001b[0m \u001b[31m17.2 MB/s\u001b[0m eta \u001b[36m0:00:00\u001b[0m\n",
            "\u001b[2K   \u001b[90m━━━━━━━━━━━━━━━━━━━━━━━━━━━━━━━━━━━━━━━━\u001b[0m \u001b[32m809.2/809.2 kB\u001b[0m \u001b[31m54.9 MB/s\u001b[0m eta \u001b[36m0:00:00\u001b[0m\n",
            "\u001b[2K   \u001b[90m━━━━━━━━━━━━━━━━━━━━━━━━━━━━━━━━━━━━━━━━\u001b[0m \u001b[32m755.5/755.5 MB\u001b[0m \u001b[31m1.8 MB/s\u001b[0m eta \u001b[36m0:00:00\u001b[0m\n",
            "\u001b[2K   \u001b[90m━━━━━━━━━━━━━━━━━━━━━━━━━━━━━━━━━━━━━━━━\u001b[0m \u001b[32m4.7/4.7 MB\u001b[0m \u001b[31m101.1 MB/s\u001b[0m eta \u001b[36m0:00:00\u001b[0m\n",
            "\u001b[2K   \u001b[90m━━━━━━━━━━━━━━━━━━━━━━━━━━━━━━━━━━━━━━━━\u001b[0m \u001b[32m78.3/78.3 kB\u001b[0m \u001b[31m6.8 MB/s\u001b[0m eta \u001b[36m0:00:00\u001b[0m\n",
            "\u001b[2K   \u001b[90m━━━━━━━━━━━━━━━━━━━━━━━━━━━━━━━━━━━━━━━━\u001b[0m \u001b[32m9.1/9.1 MB\u001b[0m \u001b[31m76.0 MB/s\u001b[0m eta \u001b[36m0:00:00\u001b[0m\n",
            "\u001b[2K   \u001b[90m━━━━━━━━━━━━━━━━━━━━━━━━━━━━━━━━━━━━━━━━\u001b[0m \u001b[32m167.9/167.9 MB\u001b[0m \u001b[31m6.1 MB/s\u001b[0m eta \u001b[36m0:00:00\u001b[0m\n",
            "\u001b[2K   \u001b[90m━━━━━━━━━━━━━━━━━━━━━━━━━━━━━━━━━━━━━━━━\u001b[0m \u001b[32m245.2/245.2 kB\u001b[0m \u001b[31m19.0 MB/s\u001b[0m eta \u001b[36m0:00:00\u001b[0m\n",
            "\u001b[2K   \u001b[90m━━━━━━━━━━━━━━━━━━━━━━━━━━━━━━━━━━━━━━━━\u001b[0m \u001b[32m102.4/102.4 kB\u001b[0m \u001b[31m9.1 MB/s\u001b[0m eta \u001b[36m0:00:00\u001b[0m\n",
            "\u001b[2K   \u001b[90m━━━━━━━━━━━━━━━━━━━━━━━━━━━━━━━━━━━━━━━━\u001b[0m \u001b[32m345.4/345.4 kB\u001b[0m \u001b[31m27.4 MB/s\u001b[0m eta \u001b[36m0:00:00\u001b[0m\n",
            "\u001b[2K   \u001b[90m━━━━━━━━━━━━━━━━━━━━━━━━━━━━━━━━━━━━━━━━\u001b[0m \u001b[32m121.4/121.4 kB\u001b[0m \u001b[31m11.4 MB/s\u001b[0m eta \u001b[36m0:00:00\u001b[0m\n",
            "\u001b[2K   \u001b[90m━━━━━━━━━━━━━━━━━━━━━━━━━━━━━━━━━━━━━━━━\u001b[0m \u001b[32m222.5/222.5 MB\u001b[0m \u001b[31m6.8 MB/s\u001b[0m eta \u001b[36m0:00:00\u001b[0m\n",
            "\u001b[2K   \u001b[90m━━━━━━━━━━━━━━━━━━━━━━━━━━━━━━━━━━━━━━━━\u001b[0m \u001b[32m194.1/194.1 kB\u001b[0m \u001b[31m16.5 MB/s\u001b[0m eta \u001b[36m0:00:00\u001b[0m\n",
            "\u001b[2K   \u001b[90m━━━━━━━━━━━━━━━━━━━━━━━━━━━━━━━━━━━━━━━━\u001b[0m \u001b[32m301.6/301.6 kB\u001b[0m \u001b[31m23.3 MB/s\u001b[0m eta \u001b[36m0:00:00\u001b[0m\n",
            "\u001b[2K   \u001b[90m━━━━━━━━━━━━━━━━━━━━━━━━━━━━━━━━━━━━━━━━\u001b[0m \u001b[32m410.6/410.6 MB\u001b[0m \u001b[31m3.7 MB/s\u001b[0m eta \u001b[36m0:00:00\u001b[0m\n",
            "\u001b[2K   \u001b[90m━━━━━━━━━━━━━━━━━━━━━━━━━━━━━━━━━━━━━━━━\u001b[0m \u001b[32m14.1/14.1 MB\u001b[0m \u001b[31m102.2 MB/s\u001b[0m eta \u001b[36m0:00:00\u001b[0m\n",
            "\u001b[2K   \u001b[90m━━━━━━━━━━━━━━━━━━━━━━━━━━━━━━━━━━━━━━━━\u001b[0m \u001b[32m23.7/23.7 MB\u001b[0m \u001b[31m85.7 MB/s\u001b[0m eta \u001b[36m0:00:00\u001b[0m\n",
            "\u001b[2K   \u001b[90m━━━━━━━━━━━━━━━━━━━━━━━━━━━━━━━━━━━━━━━━\u001b[0m \u001b[32m823.6/823.6 kB\u001b[0m \u001b[31m51.5 MB/s\u001b[0m eta \u001b[36m0:00:00\u001b[0m\n",
            "\u001b[2K   \u001b[90m━━━━━━━━━━━━━━━━━━━━━━━━━━━━━━━━━━━━━━━━\u001b[0m \u001b[32m731.7/731.7 MB\u001b[0m \u001b[31m2.1 MB/s\u001b[0m eta \u001b[36m0:00:00\u001b[0m\n",
            "\u001b[2K   \u001b[90m━━━━━━━━━━━━━━━━━━━━━━━━━━━━━━━━━━━━━━━━\u001b[0m \u001b[32m121.6/121.6 MB\u001b[0m \u001b[31m7.3 MB/s\u001b[0m eta \u001b[36m0:00:00\u001b[0m\n",
            "\u001b[2K   \u001b[90m━━━━━━━━━━━━━━━━━━━━━━━━━━━━━━━━━━━━━━━━\u001b[0m \u001b[32m56.5/56.5 MB\u001b[0m \u001b[31m12.1 MB/s\u001b[0m eta \u001b[36m0:00:00\u001b[0m\n",
            "\u001b[2K   \u001b[90m━━━━━━━━━━━━━━━━━━━━━━━━━━━━━━━━━━━━━━━━\u001b[0m \u001b[32m124.2/124.2 MB\u001b[0m \u001b[31m8.0 MB/s\u001b[0m eta \u001b[36m0:00:00\u001b[0m\n",
            "\u001b[2K   \u001b[90m━━━━━━━━━━━━━━━━━━━━━━━━━━━━━━━━━━━━━━━━\u001b[0m \u001b[32m196.0/196.0 MB\u001b[0m \u001b[31m6.9 MB/s\u001b[0m eta \u001b[36m0:00:00\u001b[0m\n",
            "\u001b[2K   \u001b[90m━━━━━━━━━━━━━━━━━━━━━━━━━━━━━━━━━━━━━━━━\u001b[0m \u001b[32m166.0/166.0 MB\u001b[0m \u001b[31m6.1 MB/s\u001b[0m eta \u001b[36m0:00:00\u001b[0m\n",
            "\u001b[2K   \u001b[90m━━━━━━━━━━━━━━━━━━━━━━━━━━━━━━━━━━━━━━━━\u001b[0m \u001b[32m99.1/99.1 kB\u001b[0m \u001b[31m8.3 MB/s\u001b[0m eta \u001b[36m0:00:00\u001b[0m\n",
            "\u001b[2K   \u001b[90m━━━━━━━━━━━━━━━━━━━━━━━━━━━━━━━━━━━━━━━━\u001b[0m \u001b[32m1.7/1.7 MB\u001b[0m \u001b[31m71.4 MB/s\u001b[0m eta \u001b[36m0:00:00\u001b[0m\n",
            "\u001b[2K   \u001b[90m━━━━━━━━━━━━━━━━━━━━━━━━━━━━━━━━━━━━━━━━\u001b[0m \u001b[32m19.7/19.7 MB\u001b[0m \u001b[31m87.8 MB/s\u001b[0m eta \u001b[36m0:00:00\u001b[0m\n",
            "\u001b[?25h  Building wheel for multidict (pyproject.toml) ... \u001b[?25l\u001b[?25hdone\n",
            "\u001b[2K   \u001b[90m━━━━━━━━━━━━━━━━━━━━━━━━━━━━━━━━━━━━━━━━\u001b[0m \u001b[32m316.6/316.6 kB\u001b[0m \u001b[31m9.7 MB/s\u001b[0m eta \u001b[36m0:00:00\u001b[0m\n",
            "\u001b[?25h  Preparing metadata (setup.py) ... \u001b[?25l\u001b[?25hdone\n",
            "On branch dev\n",
            "Your branch is up to date with 'origin/dev'.\n",
            "\n",
            "nothing to commit, working tree clean\n",
            "CPU times: user 2.03 s, sys: 279 ms, total: 2.31 s\n",
            "Wall time: 4min 6s\n"
          ]
        }
      ]
    },
    {
      "cell_type": "code",
      "source": [
        "!pip install -q jarvis_leaderboard"
      ],
      "metadata": {
        "id": "3IG4sqZjYn85",
        "outputId": "e7422106-ad39-4848-d290-3ce9321c867a",
        "colab": {
          "base_uri": "https://localhost:8080/"
        }
      },
      "execution_count": 2,
      "outputs": [
        {
          "output_type": "stream",
          "name": "stdout",
          "text": [
            "\u001b[2K     \u001b[90m━━━━━━━━━━━━━━━━━━━━━━━━━━━━━━━━━━━━━━━━\u001b[0m \u001b[32m41.9/41.9 kB\u001b[0m \u001b[31m2.6 MB/s\u001b[0m eta \u001b[36m0:00:00\u001b[0m\n",
            "\u001b[2K   \u001b[90m━━━━━━━━━━━━━━━━━━━━━━━━━━━━━━━━━━━━━━━━\u001b[0m \u001b[32m72.1/72.1 MB\u001b[0m \u001b[31m9.3 MB/s\u001b[0m eta \u001b[36m0:00:00\u001b[0m\n",
            "\u001b[2K   \u001b[90m━━━━━━━━━━━━━━━━━━━━━━━━━━━━━━━━━━━━━━━━\u001b[0m \u001b[32m3.9/3.9 MB\u001b[0m \u001b[31m64.0 MB/s\u001b[0m eta \u001b[36m0:00:00\u001b[0m\n",
            "\u001b[2K   \u001b[90m━━━━━━━━━━━━━━━━━━━━━━━━━━━━━━━━━━━━━━━━\u001b[0m \u001b[32m8.7/8.7 MB\u001b[0m \u001b[31m55.5 MB/s\u001b[0m eta \u001b[36m0:00:00\u001b[0m\n",
            "\u001b[2K   \u001b[90m━━━━━━━━━━━━━━━━━━━━━━━━━━━━━━━━━━━━━━━━\u001b[0m \u001b[32m259.0/259.0 kB\u001b[0m \u001b[31m19.5 MB/s\u001b[0m eta \u001b[36m0:00:00\u001b[0m\n",
            "\u001b[2K   \u001b[90m━━━━━━━━━━━━━━━━━━━━━━━━━━━━━━━━━━━━━━━━\u001b[0m \u001b[32m79.3/79.3 kB\u001b[0m \u001b[31m6.3 MB/s\u001b[0m eta \u001b[36m0:00:00\u001b[0m\n",
            "\u001b[?25h"
          ]
        }
      ]
    },
    {
      "cell_type": "code",
      "source": [
        "# Check import\n",
        "import atomgpt"
      ],
      "metadata": {
        "id": "miB7H3AEZLQ5"
      },
      "execution_count": 3,
      "outputs": []
    },
    {
      "cell_type": "code",
      "source": [
        "!jarvis_populate_data.py --benchmark_file AI-SinglePropertyPrediction-exfoliation_energy-dft_3d-test-mae --output_path=Out"
      ],
      "metadata": {
        "id": "5Rf6k4BgZV2f",
        "outputId": "877a2792-eddf-4801-a429-baf72402fbbc",
        "colab": {
          "base_uri": "https://localhost:8080/"
        }
      },
      "execution_count": 4,
      "outputs": [
        {
          "output_type": "stream",
          "name": "stdout",
          "text": [
            "benchmark_file AI-SinglePropertyPrediction-exfoliation_energy-dft_3d-test-mae\n",
            "dataset dft_3d\n",
            "output_path Out\n",
            "property exfoliation_energy\n",
            "method AI\n",
            "task SinglePropertyPrediction\n",
            "id_tag jid\n",
            "out_format poscar\n",
            "dataset file to be used /usr/local/lib/python3.10/site-packages/jarvis_leaderboard/benchmarks/AI/SinglePropertyPrediction/dft_3d_exfoliation_energy.json.zip\n",
            "Currently for atomistic datasets only.\n",
            "https://jarvis-tools.readthedocs.io/en/master/databases.html\n",
            "Obtaining 3D dataset 76k ...\n",
            "Reference:https://www.nature.com/articles/s41524-020-00440-1\n",
            "Other versions:https://doi.org/10.6084/m9.figshare.6815699\n",
            "100% 40.8M/40.8M [00:03<00:00, 11.1MiB/s]\n",
            "Loading the zipfile...\n",
            "Loading completed.\n",
            "number of training samples 650\n",
            "number of validation samples 81\n",
            "number of test samples 81\n"
          ]
        }
      ]
    },
    {
      "cell_type": "code",
      "source": [
        "ls Out/id_prop.csv"
      ],
      "metadata": {
        "id": "0I9FcYGrZVy3",
        "outputId": "e7a9473c-4903-40d2-ad2d-ef5410afe914",
        "colab": {
          "base_uri": "https://localhost:8080/"
        }
      },
      "execution_count": 5,
      "outputs": [
        {
          "output_type": "stream",
          "name": "stdout",
          "text": [
            "Out/id_prop.csv\n"
          ]
        }
      ]
    },
    {
      "cell_type": "code",
      "source": [
        "from jarvis.db.jsonutils import loadjson,dumpjson\n",
        "dataset_info = loadjson('Out/dataset_info.json')\n",
        "#print(dataset_info)\n",
        "n_train = dataset_info['n_train']\n",
        "n_val = dataset_info['n_val']\n",
        "n_test = dataset_info['n_test']"
      ],
      "metadata": {
        "id": "YQu95ROgZVwM"
      },
      "execution_count": 6,
      "outputs": []
    },
    {
      "cell_type": "code",
      "source": [
        "# We are using \"google/flan-t5-small\" because of computational cost, you can also try other models such as \"gpt2\"\n",
        "# Try other descs also, desc_1, desc_2 and larger epochs\n",
        "temp_config = {\n",
        "    \"id_prop_path\": \"Out/id_prop.csv\",\n",
        "    \"prefix\": \"atomgpt_run\",\n",
        "    \"model_name\": \"google/flan-t5-small\",\n",
        "    \"batch_size\": 5,\n",
        "    \"max_length\": 512,\n",
        "    \"num_epochs\": 10,\n",
        "    \"latent_dim\": 1024,\n",
        "    \"learning_rate\": 0.001,\n",
        "    \"test_each_run\": True,\n",
        "    \"include_struct\": False,\n",
        "    \"pretrained_path\": \"\",\n",
        "    \"seed_val\": 42,\n",
        "    \"n_train\": n_train,\n",
        "    \"n_val\": n_val,\n",
        "    \"n_test\": n_test,\n",
        "    \"output_dir\": \"atomgpt_out\",\n",
        "    \"train_ratio\": None,\n",
        "    \"val_ratio\": 0.1,\n",
        "    \"test_ratio\": 0.1,\n",
        "    \"keep_data_order\": True,\n",
        "    \"desc_type\": \"desc_3\",\n",
        "    \"convert\":True\n",
        "}\n",
        "dumpjson(data=temp_config,filename='atomgpt_config.json')"
      ],
      "metadata": {
        "id": "MFn_4ubpZVt5"
      },
      "execution_count": 7,
      "outputs": []
    },
    {
      "cell_type": "code",
      "source": [
        "!pip install -q git+https://github.com/usnistgov/jarvis.git@develop"
      ],
      "metadata": {
        "id": "GBc7C1nu3McC",
        "outputId": "e6bb122f-ff64-4790-b0e8-b9420ac4eec2",
        "colab": {
          "base_uri": "https://localhost:8080/"
        }
      },
      "execution_count": 8,
      "outputs": [
        {
          "output_type": "stream",
          "name": "stdout",
          "text": [
            "  Preparing metadata (setup.py) ... \u001b[?25l\u001b[?25hdone\n",
            "  Building wheel for jarvis-tools (setup.py) ... \u001b[?25l\u001b[?25hdone\n"
          ]
        }
      ]
    },
    {
      "cell_type": "code",
      "source": [
        "%%time\n",
        "!atomgpt_forward --config_name atomgpt_config.json"
      ],
      "metadata": {
        "id": "KD7ZvpXYZVpq",
        "outputId": "08986a80-dc17-49a3-8b7f-f0e16e5381fe",
        "colab": {
          "base_uri": "https://localhost:8080/"
        }
      },
      "execution_count": 9,
      "outputs": [
        {
          "output_type": "stream",
          "name": "stdout",
          "text": [
            "/usr/local/lib/python3.10/site-packages/pydantic/_internal/_fields.py:160: UserWarning: Field \"model_name\" has conflict with protected namespace \"model_\".\n",
            "\n",
            "You may be able to resolve this warning by setting `model_config['protected_namespaces'] = ('settings_',)`.\n",
            "  warnings.warn(\n",
            "Running AtomGPT prop predictor.\n",
            "PATH /content/Software/atomgpt/atomgpt_\n",
            "TrainingPropConfig(id_prop_path='Out/id_prop.csv', prefix='atomgpt_run', model_name='google/flan-t5-small', batch_size=5, max_length=512, num_epochs=10, latent_dim=1024, learning_rate=0.001, test_each_run=True, include_struct=False, pretrained_path='', seed_val=42, n_train=650, n_val=81, n_test=81, output_dir='atomgpt_out', desc_type='desc_3', convert=True, train_ratio=None, val_ratio=0.1, test_ratio=0.1, keep_data_order=True)\n",
            "100% 812/812 [02:12<00:00,  6.14it/s]\n",
            "len 812\n",
            "Using rest of the dataset except the test and val sets.\n",
            "test_texts: 81\n",
            "val_texts example: CrAgP2S6 crystallizes in the monoclinic P2/c spacegroup.\n",
            "test_texts example: Ge5Te8As2 crystallizes in the trigonal P-3m1 spacegroup.\n",
            "Train\n",
            "               id      prop                                               desc\n",
            "0     JVASP-2385   [124.8]  NaZnP crystallizes in the tetragonal P4/nmm sp...\n",
            "1    JVASP-29548   [97.28]  Nb3TeI7 crystallizes in the trigonal P3m1 spac...\n",
            "2     JVASP-8584   [98.21]  UI3 crystallizes in the orthorhombic Cmcm spac...\n",
            "3     JVASP-3894    [39.4]  TiNCl crystallizes in the orthorhombic Pmmn sp...\n",
            "4    JVASP-10734   [86.61]  CaSb4O8 crystallizes in the monoclinic Cm spac...\n",
            "..           ...       ...                                                ...\n",
            "645   JVASP-4343   [82.79]  S5N6 crystallizes in the monoclinic C2/c space...\n",
            "646   JVASP-4258   [95.03]  MoBr3 crystallizes in the orthorhombic Pmmn sp...\n",
            "647   JVASP-5395    [44.7]  TiIN crystallizes in the orthorhombic Pmmn spa...\n",
            "648  JVASP-29884   [37.07]  CdInGaS4 crystallizes in the trigonal P-3m1 sp...\n",
            "649    JVASP-601  [200.25]  Te2Rh crystallizes in the trigonal P-3m1 space...\n",
            "\n",
            "[650 rows x 3 columns]\n",
            "Val\n",
            "              id      prop                                               desc\n",
            "0   JVASP-12918   [27.17]  Ge5Te8As2 crystallizes in the trigonal P-3m1 s...\n",
            "1    JVASP-2035   [82.29]  MnI2 crystallizes in the trigonal P-3m1 spaceg...\n",
            "2   JVASP-13942   [87.81]  Nb3SBr7 crystallizes in the trigonal P3m1 spac...\n",
            "3     JVASP-278  [144.32]  Te2Pt crystallizes in the trigonal P-3m1 space...\n",
            "4   JVASP-10173    [33.7]  SbTe crystallizes in the trigonal P-3m1 spaceg...\n",
            "..          ...       ...                                                ...\n",
            "76   JVASP-4364   [54.29]  As2O3 crystallizes in the monoclinic P2_1/c sp...\n",
            "77  JVASP-29480   [78.64]  NbP2S8 crystallizes in the orthorhombic Cmce s...\n",
            "78  JVASP-28375   [55.48]  HoSI crystallizes in the orthorhombic Pmmn spa...\n",
            "79    JVASP-590   [88.52]  TaSe2 crystallizes in the trigonal R3m spacegr...\n",
            "80   JVASP-4741  [226.22]  LuPb2 crystallizes in the tetragonal I4/mmm sp...\n",
            "\n",
            "[81 rows x 3 columns]\n",
            "test\n",
            "              id      prop                                               desc\n",
            "0   JVASP-12119   [65.55]  CrAgP2S6 crystallizes in the monoclinic P2/c s...\n",
            "1   JVASP-12181  [132.96]  As2Se3 crystallizes in the monoclinic P2_1/c s...\n",
            "2    JVASP-9690  [170.78]  NbPO5 crystallizes in the tetragonal P4/nmm sp...\n",
            "3    JVASP-3636   [96.39]  AsI3 crystallizes in the trigonal R-3 spacegroup.\n",
            "4   JVASP-12148  [106.02]  CoSe crystallizes in the tetragonal P4/nmm spa...\n",
            "..          ...       ...                                                ...\n",
            "76  JVASP-12932   [48.54]  RbBrF4 crystallizes in the tetragonal I4/mcm s...\n",
            "77   JVASP-5269  [221.48]  BiSI crystallizes in the orthorhombic Pnma spa...\n",
            "78  JVASP-12018   [57.38]  SrSbSe2F crystallizes in the tetragonal P4/nmm...\n",
            "79    JVASP-231   [79.55]  MoSe2 crystallizes in the trigonal R3m spacegr...\n",
            "80  JVASP-12009   [55.34]  ZrBr crystallizes in the trigonal R-3m spacegr...\n",
            "\n",
            "[81 rows x 3 columns]\n",
            "total 812\n",
            "test_ids 81\n",
            "val_ids 81\n",
            "train_ids 650\n",
            "config.json: 100% 1.40k/1.40k [00:00<00:00, 10.6MB/s]\n",
            "model.safetensors: 100% 308M/308M [00:02<00:00, 126MB/s] \n",
            "generation_config.json: 100% 147/147 [00:00<00:00, 1.10MB/s]\n",
            "tokenizer_config.json: 100% 2.54k/2.54k [00:00<00:00, 21.6MB/s]\n",
            "spiece.model: 100% 792k/792k [00:00<00:00, 469MB/s]\n",
            "special_tokens_map.json: 100% 2.20k/2.20k [00:00<00:00, 15.8MB/s]\n",
            "tokenizer.json: 100% 2.42M/2.42M [00:00<00:00, 9.08MB/s]\n",
            "You are using the default legacy behaviour of the <class 'transformers.models.t5.tokenization_t5.T5Tokenizer'>. This is expected, and simply means that the `legacy` (previous) behavior will be used so nothing changes for you. If you want to use the new behaviour, set `legacy=False`. This should only be set if you understand what it means, and thoroughly read the reason why this was added as explained in https://github.com/huggingface/transformers/pull/24565\n",
            "Special tokens have been added in the vocabulary, make sure the associated word embeddings are fine-tuned or trained.\n",
            "/usr/local/lib/python3.10/site-packages/transformers/optimization.py:588: FutureWarning: This implementation of AdamW is deprecated and will be removed in a future version. Use the PyTorch implementation torch.optim.AdamW instead, or set `no_deprecation_warning=True` to disable this warning\n",
            "  warnings.warn(\n",
            "Epoch,  train loss, val loss, test loss, train_time, val_time, test_time 0 0.44659866919884317 76.77518328498391 62.94699018141802 49.959 2.637 2.028  saving model:0\n",
            "Epoch,  train loss, val loss, test loss, train_time, val_time, test_time 1 0.3367104163536659 53.27293951371137 39.68386234956629 51.512 2.611 2.056  saving model:1\n",
            "Epoch,  train loss, val loss, test loss, train_time, val_time, test_time 2 0.3363444108229417 53.08973292743458 39.57662372028126 50.681 6.13 2.114  saving model:2\n",
            "Epoch,  train loss, val loss, test loss, train_time, val_time, test_time 3 0.3273871788611779 52.86841981551226 39.08078934164608 51.331 2.921 2.052  saving model:3\n",
            "Epoch,  train loss, val loss, test loss, train_time, val_time, test_time 4 0.33099051255446216 52.774416362538055 38.685642410727105 50.733 5.528 2.114  saving model:4\n",
            "Epoch,  train loss, val loss, test loss, train_time, val_time, test_time 5 0.34289515568659856 52.921193038716034 38.37530551237219 50.858 2.068 2.05 \n",
            "Epoch,  train loss, val loss, test loss, train_time, val_time, test_time 6 0.3190844902625451 50.316320194917566 39.26889363457175 50.764 7.024 2.113  saving model:6\n",
            "Epoch,  train loss, val loss, test loss, train_time, val_time, test_time 7 0.3092070652888371 52.84809533287497 39.841787562650794 53.75 2.068 2.066 \n",
            "Epoch,  train loss, val loss, test loss, train_time, val_time, test_time 8 0.2725647852971004 50.30122672810274 38.29540269515093 50.82 6.128 2.185  saving model:8\n",
            "Epoch,  train loss, val loss, test loss, train_time, val_time, test_time 9 0.30975203880896934 51.07018257589901 38.888427285587085 50.913 2.061 2.055 \n",
            "tot_time 573.5044367313385\n",
            "CPU times: user 4.25 s, sys: 560 ms, total: 4.81 s\n",
            "Wall time: 12min 3s\n"
          ]
        }
      ]
    },
    {
      "cell_type": "code",
      "source": [
        "!ls -altr atomgpt_out/"
      ],
      "metadata": {
        "id": "llKSgBQw88vh",
        "outputId": "c7ac77b2-dfb0-4819-b8eb-0de83efc8f18",
        "colab": {
          "base_uri": "https://localhost:8080/"
        }
      },
      "execution_count": 11,
      "outputs": [
        {
          "output_type": "stream",
          "name": "stdout",
          "text": [
            "total 238552\n",
            "-rw-r--r-- 1 root root       568 Oct  4 15:09 config.json\n",
            "drwxr-xr-x 8 root root      4096 Oct  4 15:09 ..\n",
            "-rw-r--r-- 1 root root 244240575 Oct  4 15:18 best_model.pt\n",
            "-rw-r--r-- 1 root root      2027 Oct  4 15:19 val_results.csv\n",
            "-rw-r--r-- 1 root root       417 Oct  4 15:19 history.json\n",
            "-rw-r--r-- 1 root root      2031 Oct  4 15:19 test_results.csv\n",
            "drwxr-xr-x 2 root root      4096 Oct  4 15:19 .\n",
            "-rw-r--r-- 1 root root      2031 Oct  4 15:19 test_results_final.csv\n"
          ]
        }
      ]
    },
    {
      "cell_type": "markdown",
      "source": [
        "The test_results.csv can be upload to JARVIS-Leaderboard"
      ],
      "metadata": {
        "id": "QsFE6ckYCirY"
      }
    },
    {
      "cell_type": "code",
      "source": [
        "%matplotlib inline\n",
        "import matplotlib.pyplot as plt\n",
        "import pandas as pd\n",
        "# temp was the output directory we specified\n",
        "df = pd.read_csv('atomgpt_out/test_results.csv')\n",
        "df"
      ],
      "metadata": {
        "id": "ODFHSap18_e8",
        "outputId": "f1975382-807f-4f0b-be15-d6f538388652",
        "colab": {
          "base_uri": "https://localhost:8080/",
          "height": 423
        }
      },
      "execution_count": 12,
      "outputs": [
        {
          "output_type": "execute_result",
          "data": {
            "text/plain": [
              "             id  target  predictions\n",
              "0   JVASP-12119   65.55       91.707\n",
              "1   JVASP-12181  132.96       95.016\n",
              "2    JVASP-9690  170.78       72.887\n",
              "3    JVASP-3636   96.39      106.685\n",
              "4   JVASP-12148  106.02       78.842\n",
              "..          ...     ...          ...\n",
              "76  JVASP-12932   48.54       85.806\n",
              "77   JVASP-5269  221.48      109.641\n",
              "78  JVASP-12018   57.38       95.014\n",
              "79    JVASP-231   79.55       98.345\n",
              "80  JVASP-12009   55.34       73.186\n",
              "\n",
              "[81 rows x 3 columns]"
            ],
            "text/html": [
              "\n",
              "  <div id=\"df-7b519bed-4834-4f23-a388-06af16e33dde\" class=\"colab-df-container\">\n",
              "    <div>\n",
              "<style scoped>\n",
              "    .dataframe tbody tr th:only-of-type {\n",
              "        vertical-align: middle;\n",
              "    }\n",
              "\n",
              "    .dataframe tbody tr th {\n",
              "        vertical-align: top;\n",
              "    }\n",
              "\n",
              "    .dataframe thead th {\n",
              "        text-align: right;\n",
              "    }\n",
              "</style>\n",
              "<table border=\"1\" class=\"dataframe\">\n",
              "  <thead>\n",
              "    <tr style=\"text-align: right;\">\n",
              "      <th></th>\n",
              "      <th>id</th>\n",
              "      <th>target</th>\n",
              "      <th>predictions</th>\n",
              "    </tr>\n",
              "  </thead>\n",
              "  <tbody>\n",
              "    <tr>\n",
              "      <th>0</th>\n",
              "      <td>JVASP-12119</td>\n",
              "      <td>65.55</td>\n",
              "      <td>91.707</td>\n",
              "    </tr>\n",
              "    <tr>\n",
              "      <th>1</th>\n",
              "      <td>JVASP-12181</td>\n",
              "      <td>132.96</td>\n",
              "      <td>95.016</td>\n",
              "    </tr>\n",
              "    <tr>\n",
              "      <th>2</th>\n",
              "      <td>JVASP-9690</td>\n",
              "      <td>170.78</td>\n",
              "      <td>72.887</td>\n",
              "    </tr>\n",
              "    <tr>\n",
              "      <th>3</th>\n",
              "      <td>JVASP-3636</td>\n",
              "      <td>96.39</td>\n",
              "      <td>106.685</td>\n",
              "    </tr>\n",
              "    <tr>\n",
              "      <th>4</th>\n",
              "      <td>JVASP-12148</td>\n",
              "      <td>106.02</td>\n",
              "      <td>78.842</td>\n",
              "    </tr>\n",
              "    <tr>\n",
              "      <th>...</th>\n",
              "      <td>...</td>\n",
              "      <td>...</td>\n",
              "      <td>...</td>\n",
              "    </tr>\n",
              "    <tr>\n",
              "      <th>76</th>\n",
              "      <td>JVASP-12932</td>\n",
              "      <td>48.54</td>\n",
              "      <td>85.806</td>\n",
              "    </tr>\n",
              "    <tr>\n",
              "      <th>77</th>\n",
              "      <td>JVASP-5269</td>\n",
              "      <td>221.48</td>\n",
              "      <td>109.641</td>\n",
              "    </tr>\n",
              "    <tr>\n",
              "      <th>78</th>\n",
              "      <td>JVASP-12018</td>\n",
              "      <td>57.38</td>\n",
              "      <td>95.014</td>\n",
              "    </tr>\n",
              "    <tr>\n",
              "      <th>79</th>\n",
              "      <td>JVASP-231</td>\n",
              "      <td>79.55</td>\n",
              "      <td>98.345</td>\n",
              "    </tr>\n",
              "    <tr>\n",
              "      <th>80</th>\n",
              "      <td>JVASP-12009</td>\n",
              "      <td>55.34</td>\n",
              "      <td>73.186</td>\n",
              "    </tr>\n",
              "  </tbody>\n",
              "</table>\n",
              "<p>81 rows × 3 columns</p>\n",
              "</div>\n",
              "    <div class=\"colab-df-buttons\">\n",
              "\n",
              "  <div class=\"colab-df-container\">\n",
              "    <button class=\"colab-df-convert\" onclick=\"convertToInteractive('df-7b519bed-4834-4f23-a388-06af16e33dde')\"\n",
              "            title=\"Convert this dataframe to an interactive table.\"\n",
              "            style=\"display:none;\">\n",
              "\n",
              "  <svg xmlns=\"http://www.w3.org/2000/svg\" height=\"24px\" viewBox=\"0 -960 960 960\">\n",
              "    <path d=\"M120-120v-720h720v720H120Zm60-500h600v-160H180v160Zm220 220h160v-160H400v160Zm0 220h160v-160H400v160ZM180-400h160v-160H180v160Zm440 0h160v-160H620v160ZM180-180h160v-160H180v160Zm440 0h160v-160H620v160Z\"/>\n",
              "  </svg>\n",
              "    </button>\n",
              "\n",
              "  <style>\n",
              "    .colab-df-container {\n",
              "      display:flex;\n",
              "      gap: 12px;\n",
              "    }\n",
              "\n",
              "    .colab-df-convert {\n",
              "      background-color: #E8F0FE;\n",
              "      border: none;\n",
              "      border-radius: 50%;\n",
              "      cursor: pointer;\n",
              "      display: none;\n",
              "      fill: #1967D2;\n",
              "      height: 32px;\n",
              "      padding: 0 0 0 0;\n",
              "      width: 32px;\n",
              "    }\n",
              "\n",
              "    .colab-df-convert:hover {\n",
              "      background-color: #E2EBFA;\n",
              "      box-shadow: 0px 1px 2px rgba(60, 64, 67, 0.3), 0px 1px 3px 1px rgba(60, 64, 67, 0.15);\n",
              "      fill: #174EA6;\n",
              "    }\n",
              "\n",
              "    .colab-df-buttons div {\n",
              "      margin-bottom: 4px;\n",
              "    }\n",
              "\n",
              "    [theme=dark] .colab-df-convert {\n",
              "      background-color: #3B4455;\n",
              "      fill: #D2E3FC;\n",
              "    }\n",
              "\n",
              "    [theme=dark] .colab-df-convert:hover {\n",
              "      background-color: #434B5C;\n",
              "      box-shadow: 0px 1px 3px 1px rgba(0, 0, 0, 0.15);\n",
              "      filter: drop-shadow(0px 1px 2px rgba(0, 0, 0, 0.3));\n",
              "      fill: #FFFFFF;\n",
              "    }\n",
              "  </style>\n",
              "\n",
              "    <script>\n",
              "      const buttonEl =\n",
              "        document.querySelector('#df-7b519bed-4834-4f23-a388-06af16e33dde button.colab-df-convert');\n",
              "      buttonEl.style.display =\n",
              "        google.colab.kernel.accessAllowed ? 'block' : 'none';\n",
              "\n",
              "      async function convertToInteractive(key) {\n",
              "        const element = document.querySelector('#df-7b519bed-4834-4f23-a388-06af16e33dde');\n",
              "        const dataTable =\n",
              "          await google.colab.kernel.invokeFunction('convertToInteractive',\n",
              "                                                    [key], {});\n",
              "        if (!dataTable) return;\n",
              "\n",
              "        const docLinkHtml = 'Like what you see? Visit the ' +\n",
              "          '<a target=\"_blank\" href=https://colab.research.google.com/notebooks/data_table.ipynb>data table notebook</a>'\n",
              "          + ' to learn more about interactive tables.';\n",
              "        element.innerHTML = '';\n",
              "        dataTable['output_type'] = 'display_data';\n",
              "        await google.colab.output.renderOutput(dataTable, element);\n",
              "        const docLink = document.createElement('div');\n",
              "        docLink.innerHTML = docLinkHtml;\n",
              "        element.appendChild(docLink);\n",
              "      }\n",
              "    </script>\n",
              "  </div>\n",
              "\n",
              "\n",
              "<div id=\"df-540940ae-2aa6-4501-a4c3-0c0e3bdef658\">\n",
              "  <button class=\"colab-df-quickchart\" onclick=\"quickchart('df-540940ae-2aa6-4501-a4c3-0c0e3bdef658')\"\n",
              "            title=\"Suggest charts\"\n",
              "            style=\"display:none;\">\n",
              "\n",
              "<svg xmlns=\"http://www.w3.org/2000/svg\" height=\"24px\"viewBox=\"0 0 24 24\"\n",
              "     width=\"24px\">\n",
              "    <g>\n",
              "        <path d=\"M19 3H5c-1.1 0-2 .9-2 2v14c0 1.1.9 2 2 2h14c1.1 0 2-.9 2-2V5c0-1.1-.9-2-2-2zM9 17H7v-7h2v7zm4 0h-2V7h2v10zm4 0h-2v-4h2v4z\"/>\n",
              "    </g>\n",
              "</svg>\n",
              "  </button>\n",
              "\n",
              "<style>\n",
              "  .colab-df-quickchart {\n",
              "      --bg-color: #E8F0FE;\n",
              "      --fill-color: #1967D2;\n",
              "      --hover-bg-color: #E2EBFA;\n",
              "      --hover-fill-color: #174EA6;\n",
              "      --disabled-fill-color: #AAA;\n",
              "      --disabled-bg-color: #DDD;\n",
              "  }\n",
              "\n",
              "  [theme=dark] .colab-df-quickchart {\n",
              "      --bg-color: #3B4455;\n",
              "      --fill-color: #D2E3FC;\n",
              "      --hover-bg-color: #434B5C;\n",
              "      --hover-fill-color: #FFFFFF;\n",
              "      --disabled-bg-color: #3B4455;\n",
              "      --disabled-fill-color: #666;\n",
              "  }\n",
              "\n",
              "  .colab-df-quickchart {\n",
              "    background-color: var(--bg-color);\n",
              "    border: none;\n",
              "    border-radius: 50%;\n",
              "    cursor: pointer;\n",
              "    display: none;\n",
              "    fill: var(--fill-color);\n",
              "    height: 32px;\n",
              "    padding: 0;\n",
              "    width: 32px;\n",
              "  }\n",
              "\n",
              "  .colab-df-quickchart:hover {\n",
              "    background-color: var(--hover-bg-color);\n",
              "    box-shadow: 0 1px 2px rgba(60, 64, 67, 0.3), 0 1px 3px 1px rgba(60, 64, 67, 0.15);\n",
              "    fill: var(--button-hover-fill-color);\n",
              "  }\n",
              "\n",
              "  .colab-df-quickchart-complete:disabled,\n",
              "  .colab-df-quickchart-complete:disabled:hover {\n",
              "    background-color: var(--disabled-bg-color);\n",
              "    fill: var(--disabled-fill-color);\n",
              "    box-shadow: none;\n",
              "  }\n",
              "\n",
              "  .colab-df-spinner {\n",
              "    border: 2px solid var(--fill-color);\n",
              "    border-color: transparent;\n",
              "    border-bottom-color: var(--fill-color);\n",
              "    animation:\n",
              "      spin 1s steps(1) infinite;\n",
              "  }\n",
              "\n",
              "  @keyframes spin {\n",
              "    0% {\n",
              "      border-color: transparent;\n",
              "      border-bottom-color: var(--fill-color);\n",
              "      border-left-color: var(--fill-color);\n",
              "    }\n",
              "    20% {\n",
              "      border-color: transparent;\n",
              "      border-left-color: var(--fill-color);\n",
              "      border-top-color: var(--fill-color);\n",
              "    }\n",
              "    30% {\n",
              "      border-color: transparent;\n",
              "      border-left-color: var(--fill-color);\n",
              "      border-top-color: var(--fill-color);\n",
              "      border-right-color: var(--fill-color);\n",
              "    }\n",
              "    40% {\n",
              "      border-color: transparent;\n",
              "      border-right-color: var(--fill-color);\n",
              "      border-top-color: var(--fill-color);\n",
              "    }\n",
              "    60% {\n",
              "      border-color: transparent;\n",
              "      border-right-color: var(--fill-color);\n",
              "    }\n",
              "    80% {\n",
              "      border-color: transparent;\n",
              "      border-right-color: var(--fill-color);\n",
              "      border-bottom-color: var(--fill-color);\n",
              "    }\n",
              "    90% {\n",
              "      border-color: transparent;\n",
              "      border-bottom-color: var(--fill-color);\n",
              "    }\n",
              "  }\n",
              "</style>\n",
              "\n",
              "  <script>\n",
              "    async function quickchart(key) {\n",
              "      const quickchartButtonEl =\n",
              "        document.querySelector('#' + key + ' button');\n",
              "      quickchartButtonEl.disabled = true;  // To prevent multiple clicks.\n",
              "      quickchartButtonEl.classList.add('colab-df-spinner');\n",
              "      try {\n",
              "        const charts = await google.colab.kernel.invokeFunction(\n",
              "            'suggestCharts', [key], {});\n",
              "      } catch (error) {\n",
              "        console.error('Error during call to suggestCharts:', error);\n",
              "      }\n",
              "      quickchartButtonEl.classList.remove('colab-df-spinner');\n",
              "      quickchartButtonEl.classList.add('colab-df-quickchart-complete');\n",
              "    }\n",
              "    (() => {\n",
              "      let quickchartButtonEl =\n",
              "        document.querySelector('#df-540940ae-2aa6-4501-a4c3-0c0e3bdef658 button');\n",
              "      quickchartButtonEl.style.display =\n",
              "        google.colab.kernel.accessAllowed ? 'block' : 'none';\n",
              "    })();\n",
              "  </script>\n",
              "</div>\n",
              "\n",
              "  <div id=\"id_0e8c6700-d10d-4e0e-b265-2621c288e7b8\">\n",
              "    <style>\n",
              "      .colab-df-generate {\n",
              "        background-color: #E8F0FE;\n",
              "        border: none;\n",
              "        border-radius: 50%;\n",
              "        cursor: pointer;\n",
              "        display: none;\n",
              "        fill: #1967D2;\n",
              "        height: 32px;\n",
              "        padding: 0 0 0 0;\n",
              "        width: 32px;\n",
              "      }\n",
              "\n",
              "      .colab-df-generate:hover {\n",
              "        background-color: #E2EBFA;\n",
              "        box-shadow: 0px 1px 2px rgba(60, 64, 67, 0.3), 0px 1px 3px 1px rgba(60, 64, 67, 0.15);\n",
              "        fill: #174EA6;\n",
              "      }\n",
              "\n",
              "      [theme=dark] .colab-df-generate {\n",
              "        background-color: #3B4455;\n",
              "        fill: #D2E3FC;\n",
              "      }\n",
              "\n",
              "      [theme=dark] .colab-df-generate:hover {\n",
              "        background-color: #434B5C;\n",
              "        box-shadow: 0px 1px 3px 1px rgba(0, 0, 0, 0.15);\n",
              "        filter: drop-shadow(0px 1px 2px rgba(0, 0, 0, 0.3));\n",
              "        fill: #FFFFFF;\n",
              "      }\n",
              "    </style>\n",
              "    <button class=\"colab-df-generate\" onclick=\"generateWithVariable('df')\"\n",
              "            title=\"Generate code using this dataframe.\"\n",
              "            style=\"display:none;\">\n",
              "\n",
              "  <svg xmlns=\"http://www.w3.org/2000/svg\" height=\"24px\"viewBox=\"0 0 24 24\"\n",
              "       width=\"24px\">\n",
              "    <path d=\"M7,19H8.4L18.45,9,17,7.55,7,17.6ZM5,21V16.75L18.45,3.32a2,2,0,0,1,2.83,0l1.4,1.43a1.91,1.91,0,0,1,.58,1.4,1.91,1.91,0,0,1-.58,1.4L9.25,21ZM18.45,9,17,7.55Zm-12,3A5.31,5.31,0,0,0,4.9,8.1,5.31,5.31,0,0,0,1,6.5,5.31,5.31,0,0,0,4.9,4.9,5.31,5.31,0,0,0,6.5,1,5.31,5.31,0,0,0,8.1,4.9,5.31,5.31,0,0,0,12,6.5,5.46,5.46,0,0,0,6.5,12Z\"/>\n",
              "  </svg>\n",
              "    </button>\n",
              "    <script>\n",
              "      (() => {\n",
              "      const buttonEl =\n",
              "        document.querySelector('#id_0e8c6700-d10d-4e0e-b265-2621c288e7b8 button.colab-df-generate');\n",
              "      buttonEl.style.display =\n",
              "        google.colab.kernel.accessAllowed ? 'block' : 'none';\n",
              "\n",
              "      buttonEl.onclick = () => {\n",
              "        google.colab.notebook.generateWithVariable('df');\n",
              "      }\n",
              "      })();\n",
              "    </script>\n",
              "  </div>\n",
              "\n",
              "    </div>\n",
              "  </div>\n"
            ],
            "application/vnd.google.colaboratory.intrinsic+json": {
              "type": "dataframe",
              "variable_name": "df",
              "summary": "{\n  \"name\": \"df\",\n  \"rows\": 81,\n  \"fields\": [\n    {\n      \"column\": \"id\",\n      \"properties\": {\n        \"dtype\": \"string\",\n        \"num_unique_values\": 81,\n        \"samples\": [\n          \"JVASP-8218\",\n          \"JVASP-12119\",\n          \"JVASP-29651\"\n        ],\n        \"semantic_type\": \"\",\n        \"description\": \"\"\n      }\n    },\n    {\n      \"column\": \"target\",\n      \"properties\": {\n        \"dtype\": \"number\",\n        \"std\": 63.820375040246965,\n        \"min\": 18.3,\n        \"max\": 388.51,\n        \"num_unique_values\": 80,\n        \"samples\": [\n          55.69,\n          65.55,\n          74.42\n        ],\n        \"semantic_type\": \"\",\n        \"description\": \"\"\n      }\n    },\n    {\n      \"column\": \"predictions\",\n      \"properties\": {\n        \"dtype\": \"number\",\n        \"std\": 18.731262674048367,\n        \"min\": 42.219,\n        \"max\": 110.298,\n        \"num_unique_values\": 81,\n        \"samples\": [\n          93.993,\n          91.707,\n          74.035\n        ],\n        \"semantic_type\": \"\",\n        \"description\": \"\"\n      }\n    }\n  ]\n}"
            }
          },
          "metadata": {},
          "execution_count": 12
        }
      ]
    },
    {
      "cell_type": "code",
      "source": [
        "plt.plot(df['target'],df['predictions'],'.')\n",
        "plt.plot(df['target'],df['target'])\n",
        "plt.xlabel('DFT Exfo. energy (meV)')\n",
        "plt.ylabel('AI Exfo. energy (meV)')"
      ],
      "metadata": {
        "id": "DdMa5fvz8_be",
        "outputId": "6d67fc46-dab1-4ca8-c2e9-de7a760d4c00",
        "colab": {
          "base_uri": "https://localhost:8080/",
          "height": 466
        }
      },
      "execution_count": 13,
      "outputs": [
        {
          "output_type": "execute_result",
          "data": {
            "text/plain": [
              "Text(0, 0.5, 'AI Exfo. energy (meV)')"
            ]
          },
          "metadata": {},
          "execution_count": 13
        },
        {
          "output_type": "display_data",
          "data": {
            "text/plain": [
              "<Figure size 640x480 with 1 Axes>"
            ],
            "image/png": "[encoded data removed]"
          },
          "metadata": {}
        }
      ]
    },
    {
      "cell_type": "code",
      "source": [
        "from sklearn.metrics import mean_absolute_error\n",
        "mean_absolute_error(df['target'],df['predictions'])"
      ],
      "metadata": {
        "id": "DVskzuh-9PQs",
        "outputId": "01249507-cab0-48b2-e3be-cc742ec68fb2",
        "colab": {
          "base_uri": "https://localhost:8080/"
        }
      },
      "execution_count": 14,
      "outputs": [
        {
          "output_type": "execute_result",
          "data": {
            "text/plain": [
              "39.927592592592596"
            ]
          },
          "metadata": {},
          "execution_count": 14
        }
      ]
    },
    {
      "cell_type": "markdown",
      "source": [
        "Inference on a new material"
      ],
      "metadata": {
        "id": "rKVjrBog9WZG"
      }
    },
    {
      "cell_type": "code",
      "source": [
        "#Lets load the model first\n",
        "import transformers, torch, os, json, zipfile\n",
        "model_name = temp_config['model_name']\n",
        "output_dir = temp_config['output_dir']\n",
        "device = torch.device(\"cuda\" if torch.cuda.is_available() else \"cpu\")\n",
        "if \"t5\" in model_name:\n",
        "    model = transformers.T5ForConditionalGeneration.from_pretrained(\n",
        "        model_name\n",
        "    )\n",
        "else:\n",
        "    model = transformers.AutoModelForCausalLM.from_pretrained(\n",
        "        model_name,\n",
        "        low_cpu_mem_usage=True,\n",
        "    )\n",
        "\n",
        "tokenizer = transformers.AutoTokenizer.from_pretrained(model_name)\n",
        "if tokenizer.pad_token is None:\n",
        "    tokenizer.add_special_tokens({\"pad_token\": \"[PAD]\"})\n",
        "    model.resize_token_embeddings(len(tokenizer))\n",
        "model.lm_head = torch.nn.Sequential(\n",
        "    torch.nn.Linear(model.config.hidden_size, temp_config[\"latent_dim\"]),\n",
        "    torch.nn.Linear(temp_config[\"latent_dim\"], 1),\n",
        ")\n",
        "model.load_state_dict(torch.load(output_dir+\"/best_model.pt\", map_location=device))"
      ],
      "metadata": {
        "id": "kiDsv3XKCKY8",
        "outputId": "9b30b341-0c7d-423e-c55d-8d5309b6e91e",
        "colab": {
          "base_uri": "https://localhost:8080/"
        }
      },
      "execution_count": 15,
      "outputs": [
        {
          "output_type": "stream",
          "name": "stderr",
          "text": [
            "/usr/local/lib/python3.10/site-packages/huggingface_hub/utils/_token.py:89: UserWarning: \n",
            "The secret `HF_TOKEN` does not exist in your Colab secrets.\n",
            "To authenticate with the Hugging Face Hub, create a token in your settings tab (https://huggingface.co/settings/tokens), set it as secret in your Google Colab and restart your session.\n",
            "You will be able to reuse this secret in all of your notebooks.\n",
            "Please note that authentication is recommended but still optional to access public models or datasets.\n",
            "  warnings.warn(\n"
          ]
        },
        {
          "output_type": "execute_result",
          "data": {
            "text/plain": [
              "<All keys matched successfully>"
            ]
          },
          "metadata": {},
          "execution_count": 15
        }
      ]
    },
    {
      "cell_type": "code",
      "source": [
        "# Get description\n",
        "from jarvis.io.vasp.inputs import Poscar\n",
        "\n",
        "\n",
        "pos=\"\"\"Mo2S4\n",
        "1.0\n",
        "1.5957990235943282 -2.764004284915705 0.0\n",
        "1.5957990235946695 2.7640042849149173 0.0\n",
        "0.0 0.0 12.47890117404454\n",
        "Mo S\n",
        "2 4\n",
        "Cartesian\n",
        "1.5958 -0.9213351759999822 3.119725\n",
        "1.5958 0.9213351759999822 9.359175\n",
        "1.5958 0.9213351759999822 1.553025569564048\n",
        "1.5958 -0.9213351759999822 7.792475569561349\n",
        "1.5958 0.9213351759999822 4.686424430434634\n",
        "1.5958 -0.9213351759999822 10.92587443043865\n",
        "\n",
        "\"\"\"\n",
        "atoms=Poscar.from_string(pos).atoms\n",
        "print(atoms)\n",
        "desc=atoms.describe()[temp_config['desc_type']]\n",
        "# desc=atoms.describe()['desc_2']\n",
        "\n",
        "print(desc)"
      ],
      "metadata": {
        "id": "6DJW_e529PNJ",
        "outputId": "3782af94-13f6-4c1e-9dbc-4041c960af3a",
        "colab": {
          "base_uri": "https://localhost:8080/"
        }
      },
      "execution_count": 16,
      "outputs": [
        {
          "output_type": "stream",
          "name": "stdout",
          "text": [
            "System\n",
            "1.0\n",
            "1.5957990235943282 -2.764004284915705 0.0\n",
            "1.5957990235946695 2.7640042849149173 0.0\n",
            "0.0 0.0 12.47890117404454\n",
            "Mo S \n",
            "2 4 \n",
            "direct\n",
            "0.6666669999999968 0.3333330000000032 0.25 Mo\n",
            "0.3333330000000032 0.6666669999999968 0.75 Mo\n",
            "0.3333330000000032 0.6666669999999968 0.1244521207449413 S\n",
            "0.6666669999999968 0.3333330000000032 0.624452120744725 S\n",
            "0.3333330000000032 0.6666669999999968 0.3755478792549531 S\n",
            "0.6666669999999968 0.3333330000000032 0.8755478792552749 S\n",
            "\n",
            "MoS2 crystallizes in the hexagonal P6_3/mmc spacegroup.\n"
          ]
        }
      ]
    },
    {
      "cell_type": "code",
      "source": [],
      "metadata": {
        "id": "ReAg9UkS9PKs"
      },
      "execution_count": 16,
      "outputs": []
    },
    {
      "cell_type": "code",
      "source": [
        "max_length=512\n",
        "input_ids = tokenizer(\n",
        "    [desc],\n",
        "    return_tensors=\"pt\",\n",
        "    max_length=max_length,\n",
        "    padding=\"max_length\",\n",
        "    truncation=True,\n",
        ")['input_ids']\n",
        "\n",
        "\n",
        "input_ids=input_ids.to(device)\n",
        "model=model.to(device)\n",
        "\n",
        "if \"t5\" in model_name:\n",
        "    predictions = (\n",
        "        model(\n",
        "            input_ids,\n",
        "            decoder_input_ids=input_ids,\n",
        "        )\n",
        "        .logits.squeeze()\n",
        "        .mean(dim=-1)\n",
        "    )\n",
        "else:\n",
        "    predictions = (\n",
        "        model(\n",
        "            input_ids.to(device),\n",
        "        )\n",
        "        .logits.squeeze()\n",
        "        .mean(dim=-1)\n",
        "    )\n",
        "\n",
        "predictions = predictions.cpu().detach().numpy().tolist()\n",
        "print(predictions)\n",
        "\n"
      ],
      "metadata": {
        "id": "FCcXyiCv9PIQ",
        "outputId": "906f711c-e572-441c-9134-b029ff739c44",
        "colab": {
          "base_uri": "https://localhost:8080/"
        }
      },
      "execution_count": 17,
      "outputs": [
        {
          "output_type": "stream",
          "name": "stdout",
          "text": [
            "103.66924285888672\n"
          ]
        }
      ]
    },
    {
      "cell_type": "markdown",
      "source": [
        "For similar ALIGNN training see: https://colab.research.google.com/github/knc6/jarvis-tools-notebooks/blob/master/jarvis-tools-notebooks/alignn_jarvis_leaderboard.ipynb"
      ],
      "metadata": {
        "id": "VqXuk9t_CVZn"
      }
    },
    {
      "cell_type": "markdown",
      "source": [],
      "metadata": {
        "id": "1VxAYC5SCVWL"
      }
    },
    {
      "cell_type": "code",
      "source": [],
      "metadata": {
        "id": "jD32EPxeCU10"
      },
      "execution_count": 17,
      "outputs": []
    },
    {
      "cell_type": "code",
      "source": [],
      "metadata": {
        "id": "g4Px2rjJz_AL"
      },
      "execution_count": 17,
      "outputs": []
    },
    {
      "cell_type": "code",
      "source": [],
      "metadata": {
        "id": "q4ulYeQizxii"
      },
      "execution_count": 17,
      "outputs": []
    },
    {
      "cell_type": "code",
      "source": [],
      "metadata": {
        "id": "9Ae04L4JgC05"
      },
      "execution_count": 17,
      "outputs": []
    },
    {
      "cell_type": "code",
      "source": [
        "!conda env export"
      ],
      "metadata": {
        "id": "-IUbsYWmgCx_",
        "outputId": "85fbbbe2-f6ff-430e-a73b-ba542238d417",
        "colab": {
          "base_uri": "https://localhost:8080/"
        }
      },
      "execution_count": 18,
      "outputs": [
        {
          "output_type": "stream",
          "name": "stdout",
          "text": [
            "name: base\n",
            "channels:\n",
            "  - conda-forge\n",
            "dependencies:\n",
            "  - _libgcc_mutex=0.1=conda_forge\n",
            "  - _openmp_mutex=4.5=2_gnu\n",
            "  - archspec=0.2.2=pyhd8ed1ab_0\n",
            "  - boltons=23.1.1=pyhd8ed1ab_0\n",
            "  - brotli-python=1.1.0=py310hc6cd4ac_1\n",
            "  - bzip2=1.0.8=hd590300_5\n",
            "  - c-ares=1.24.0=hd590300_0\n",
            "  - ca-certificates=2023.11.17=hbcca054_0\n",
            "  - cffi=1.16.0=py310h2fee648_0\n",
            "  - charset-normalizer=3.3.2=pyhd8ed1ab_0\n",
            "  - colorama=0.4.6=pyhd8ed1ab_0\n",
            "  - conda=23.11.0=py310hff52083_1\n",
            "  - conda-libmamba-solver=23.12.0=pyhd8ed1ab_0\n",
            "  - conda-package-handling=2.2.0=pyh38be061_0\n",
            "  - conda-package-streaming=0.9.0=pyhd8ed1ab_0\n",
            "  - distro=1.8.0=pyhd8ed1ab_0\n",
            "  - fmt=10.1.1=h00ab1b0_1\n",
            "  - icu=73.2=h59595ed_0\n",
            "  - jsonpatch=1.33=pyhd8ed1ab_0\n",
            "  - jsonpointer=2.4=py310hff52083_3\n",
            "  - keyutils=1.6.1=h166bdaf_0\n",
            "  - krb5=1.21.2=h659d440_0\n",
            "  - ld_impl_linux-64=2.40=h41732ed_0\n",
            "  - libarchive=3.7.2=h2aa1ff5_1\n",
            "  - libcurl=8.5.0=hca28451_0\n",
            "  - libedit=3.1.20191231=he28a2e2_2\n",
            "  - libev=4.33=hd590300_2\n",
            "  - libffi=3.4.2=h7f98852_5\n",
            "  - libgcc-ng=13.2.0=h807b86a_3\n",
            "  - libgomp=13.2.0=h807b86a_3\n",
            "  - libiconv=1.17=hd590300_2\n",
            "  - libmamba=1.5.5=had39da4_0\n",
            "  - libmambapy=1.5.5=py310h39ff949_0\n",
            "  - libnghttp2=1.58.0=h47da74e_1\n",
            "  - libnsl=2.0.1=hd590300_0\n",
            "  - libsolv=0.7.27=hfc55251_0\n",
            "  - libsqlite=3.44.2=h2797004_0\n",
            "  - libssh2=1.11.0=h0841786_0\n",
            "  - libstdcxx-ng=13.2.0=h7e041cc_3\n",
            "  - libuuid=2.38.1=h0b41bf4_0\n",
            "  - libxml2=2.12.3=h232c23b_0\n",
            "  - libzlib=1.2.13=hd590300_5\n",
            "  - lz4-c=1.9.4=hcb278e6_0\n",
            "  - lzo=2.10=h516909a_1000\n",
            "  - mamba=1.5.5=py310h51d5547_0\n",
            "  - menuinst=2.0.1=py310hff52083_0\n",
            "  - ncurses=6.4=h59595ed_2\n",
            "  - openssl=3.2.0=hd590300_1\n",
            "  - pip=23.3.2=pyhd8ed1ab_0\n",
            "  - pluggy=1.3.0=pyhd8ed1ab_0\n",
            "  - pybind11-abi=4=hd8ed1ab_3\n",
            "  - pycosat=0.6.6=py310h2372a71_0\n",
            "  - pycparser=2.21=pyhd8ed1ab_0\n",
            "  - pysocks=1.7.1=pyha2e5f31_6\n",
            "  - python=3.10.13=hd12c33a_0_cpython\n",
            "  - python_abi=3.10=4_cp310\n",
            "  - readline=8.2=h8228510_1\n",
            "  - reproc=14.2.4.post0=hd590300_1\n",
            "  - reproc-cpp=14.2.4.post0=h59595ed_1\n",
            "  - ruamel.yaml=0.18.5=py310h2372a71_0\n",
            "  - ruamel.yaml.clib=0.2.7=py310h2372a71_2\n",
            "  - setuptools=68.2.2=pyhd8ed1ab_0\n",
            "  - tk=8.6.13=noxft_h4845f30_101\n",
            "  - truststore=0.8.0=pyhd8ed1ab_0\n",
            "  - wheel=0.42.0=pyhd8ed1ab_0\n",
            "  - xz=5.2.6=h166bdaf_0\n",
            "  - yaml-cpp=0.8.0=h59595ed_0\n",
            "  - zstandard=0.22.0=py310h1275a96_0\n",
            "  - zstd=1.5.5=hfc55251_0\n",
            "  - pip:\n",
            "      - absl-py==1.4.0\n",
            "      - accelerate==0.31.0\n",
            "      - aiohttp==3.9.5\n",
            "      - aiosignal==1.3.1\n",
            "      - alignn==2024.4.20\n",
            "      - annotated-types==0.7.0\n",
            "      - ase==3.23.0\n",
            "      - async-timeout==4.0.3\n",
            "      - attrs==23.2.0\n",
            "      - autopep8==2.3.1\n",
            "      - babel==2.16.0\n",
            "      - bitsandbytes==0.43.1\n",
            "      - black==24.4.2\n",
            "      - certifi==2024.6.2\n",
            "      - chardet==3.0.4\n",
            "      - click==8.1.7\n",
            "      - contourpy==1.2.1\n",
            "      - cycler==0.12.1\n",
            "      - datasets==2.20.0\n",
            "      - dgl==1.1.1\n",
            "      - dill==0.3.8\n",
            "      - docstring-parser==0.16\n",
            "      - eval-type-backport==0.2.0\n",
            "      - filelock==3.16.1\n",
            "      - flake8==7.1.0\n",
            "      - fonttools==4.53.0\n",
            "      - frozenlist==1.4.1\n",
            "      - fsspec==2024.5.0\n",
            "      - ghp-import==2.1.0\n",
            "      - gmpy2==2.2.1\n",
            "      - huggingface-hub==0.23.4\n",
            "      - idna==3.7\n",
            "      - importlib-resources==6.4.0\n",
            "      - jarvis-leaderboard==2024.4.26\n",
            "      - jarvis-tools==2024.9.30\n",
            "      - jinja2==3.1.4\n",
            "      - joblib==1.4.2\n",
            "      - kiwisolver==1.4.5\n",
            "      - lmdb==1.4.1\n",
            "      - markdown==3.7\n",
            "      - markdown-it-py==3.0.0\n",
            "      - markupsafe==2.1.5\n",
            "      - matplotlib==3.9.0\n",
            "      - mccabe==0.7.0\n",
            "      - mdurl==0.1.2\n",
            "      - mergedeep==1.3.4\n",
            "      - mkdocs==1.6.1\n",
            "      - mkdocs-get-deps==0.2.0\n",
            "      - mkdocs-material==9.5.39\n",
            "      - mkdocs-material-extensions==1.3.1\n",
            "      - mpmath==1.3.0\n",
            "      - multidict==4.7.6\n",
            "      - multiprocess==0.70.16\n",
            "      - mypy-extensions==1.0.0\n",
            "      - networkx==3.3\n",
            "      - nltk==3.8.1\n",
            "      - numpy==1.26.4\n",
            "      - nvidia-cublas-cu12==12.1.3.1\n",
            "      - nvidia-cuda-cupti-cu12==12.1.105\n",
            "      - nvidia-cuda-nvrtc-cu12==12.1.105\n",
            "      - nvidia-cuda-runtime-cu12==12.1.105\n",
            "      - nvidia-cudnn-cu12==8.9.2.26\n",
            "      - nvidia-cufft-cu12==11.0.2.54\n",
            "      - nvidia-curand-cu12==10.3.2.106\n",
            "      - nvidia-cusolver-cu12==11.4.5.107\n",
            "      - nvidia-cusparse-cu12==12.1.0.106\n",
            "      - nvidia-nccl-cu12==2.19.3\n",
            "      - nvidia-nvjitlink-cu12==12.6.77\n",
            "      - nvidia-nvtx-cu12==12.1.105\n",
            "      - packaging==24.1\n",
            "      - paginate==0.5.7\n",
            "      - pandas==2.2.2\n",
            "      - pathspec==0.12.1\n",
            "      - peft==0.11.1\n",
            "      - pillow==10.3.0\n",
            "      - platformdirs==4.2.2\n",
            "      - plotly==5.24.1\n",
            "      - protobuf==5.28.2\n",
            "      - psutil==6.0.0\n",
            "      - pyarrow==16.1.0\n",
            "      - pyarrow-hotfix==0.6\n",
            "      - pycodestyle==2.12.0\n",
            "      - pydantic==2.7.4\n",
            "      - pydantic-core==2.18.4\n",
            "      - pydantic-settings==2.3.3\n",
            "      - pydocstyle==6.3.0\n",
            "      - pyflakes==3.2.0\n",
            "      - pygments==2.18.0\n",
            "      - pymdown-extensions==10.11.2\n",
            "      - pyparsing==2.4.7\n",
            "      - python-dateutil==2.9.0.post0\n",
            "      - python-dotenv==1.0.1\n",
            "      - pytz==2024.1\n",
            "      - pyyaml==6.0.2\n",
            "      - pyyaml-env-tag==0.1\n",
            "      - regex==2024.5.15\n",
            "      - requests==2.32.3\n",
            "      - rich==13.7.1\n",
            "      - rouge==1.0.1\n",
            "      - safetensors==0.4.3\n",
            "      - scikit-learn==1.5.0\n",
            "      - scipy==1.13.1\n",
            "      - sentencepiece==0.2.0\n",
            "      - shtab==1.7.1\n",
            "      - six==1.16.0\n",
            "      - snowballstemmer==2.2.0\n",
            "      - spglib==2.4.0\n",
            "      - sympy==1.13.3\n",
            "      - tenacity==9.0.0\n",
            "      - threadpoolctl==3.5.0\n",
            "      - tokenizers==0.19.1\n",
            "      - tomli==2.0.1\n",
            "      - toolz==0.12.1\n",
            "      - torch==2.2.2\n",
            "      - torchdata==0.7.1\n",
            "      - tqdm==4.66.4\n",
            "      - transformers==4.41.2\n",
            "      - triton==2.2.0\n",
            "      - trl==0.8.6\n",
            "      - typing-extensions==4.12.2\n",
            "      - tyro==0.8.4\n",
            "      - tzdata==2024.1\n",
            "      - urllib3==2.2.2\n",
            "      - watchdog==5.0.3\n",
            "      - xformers==0.0.25.post1\n",
            "      - xmltodict==0.13.0\n",
            "      - xxhash==3.4.1\n",
            "      - yarl==1.9.4\n",
            "      - zipp==3.19.2\n",
            "prefix: /usr/local\n"
          ]
        }
      ]
    },
    {
      "cell_type": "code",
      "source": [
        "!pip freeze"
      ],
      "metadata": {
        "colab": {
          "base_uri": "https://localhost:8080/"
        },
        "id": "vnGe03dra32v",
        "outputId": "fdf78d5c-ba2d-4dc6-95d8-43f631ec82ab"
      },
      "execution_count": 19,
      "outputs": [
        {
          "output_type": "stream",
          "name": "stdout",
          "text": [
            "absl-py==1.4.0\n",
            "accelerate==0.31.0\n",
            "aiohttp==3.9.5\n",
            "aiosignal==1.3.1\n",
            "alignn==2024.4.20\n",
            "annotated-types==0.7.0\n",
            "archspec @ file:///home/conda/feedstock_root/build_artifacts/archspec_1699370045702/work\n",
            "ase==3.23.0\n",
            "async-timeout==4.0.3\n",
            "-e git+https://github.com/usnistgov/atomgpt.git@f24f13be9a6ae6646a9ec932f085234f83999fc4#egg=atomgpt\n",
            "attrs==23.2.0\n",
            "autopep8==2.3.1\n",
            "babel==2.16.0\n",
            "bitsandbytes==0.43.1\n",
            "black==24.4.2\n",
            "boltons @ file:///home/conda/feedstock_root/build_artifacts/boltons_1703154663129/work\n",
            "Brotli @ file:///home/conda/feedstock_root/build_artifacts/brotli-split_1695989787169/work\n",
            "certifi==2024.6.2\n",
            "cffi @ file:///home/conda/feedstock_root/build_artifacts/cffi_1696001684923/work\n",
            "chardet==3.0.4\n",
            "charset-normalizer @ file:///home/conda/feedstock_root/build_artifacts/charset-normalizer_1698833585322/work\n",
            "click==8.1.7\n",
            "colorama @ file:///home/conda/feedstock_root/build_artifacts/colorama_1666700638685/work\n",
            "conda @ file:///home/conda/feedstock_root/build_artifacts/conda_1701731572133/work\n",
            "conda-libmamba-solver @ file:///home/conda/feedstock_root/build_artifacts/conda-libmamba-solver_1702406360642/work/src\n",
            "conda-package-handling @ file:///home/conda/feedstock_root/build_artifacts/conda-package-handling_1691048088238/work\n",
            "conda_package_streaming @ file:///home/conda/feedstock_root/build_artifacts/conda-package-streaming_1691009212940/work\n",
            "contourpy==1.2.1\n",
            "cycler==0.12.1\n",
            "datasets==2.20.0\n",
            "dgl==1.1.1\n",
            "dill==0.3.8\n",
            "distro @ file:///home/conda/feedstock_root/build_artifacts/distro_1675116244235/work\n",
            "docstring_parser==0.16\n",
            "eval_type_backport==0.2.0\n",
            "filelock==3.16.1\n",
            "flake8==7.1.0\n",
            "fonttools==4.53.0\n",
            "frozenlist==1.4.1\n",
            "fsspec==2024.5.0\n",
            "ghp-import==2.1.0\n",
            "gmpy2==2.2.1\n",
            "huggingface-hub==0.23.4\n",
            "idna==3.7\n",
            "importlib_resources==6.4.0\n",
            "jarvis-tools @ git+https://github.com/usnistgov/jarvis.git@894620330d8d2b354b49d4315e39d2901b33a509\n",
            "jarvis_leaderboard==2024.4.26\n",
            "Jinja2==3.1.4\n",
            "joblib==1.4.2\n",
            "jsonpatch @ file:///home/conda/feedstock_root/build_artifacts/jsonpatch_1695536281965/work\n",
            "jsonpointer @ file:///home/conda/feedstock_root/build_artifacts/jsonpointer_1695397238043/work\n",
            "kiwisolver==1.4.5\n",
            "libmambapy @ file:///home/conda/feedstock_root/build_artifacts/mamba-split_1702310393080/work/libmambapy\n",
            "lmdb==1.4.1\n",
            "mamba @ file:///home/conda/feedstock_root/build_artifacts/mamba-split_1702310393080/work/mamba\n",
            "Markdown==3.7\n",
            "markdown-it-py==3.0.0\n",
            "MarkupSafe==2.1.5\n",
            "matplotlib==3.9.0\n",
            "mccabe==0.7.0\n",
            "mdurl==0.1.2\n",
            "menuinst @ file:///home/conda/feedstock_root/build_artifacts/menuinst_1702317041727/work\n",
            "mergedeep==1.3.4\n",
            "mkdocs==1.6.1\n",
            "mkdocs-get-deps==0.2.0\n",
            "mkdocs-material==9.5.39\n",
            "mkdocs-material-extensions==1.3.1\n",
            "mpmath==1.3.0\n",
            "multidict==4.7.6\n",
            "multiprocess==0.70.16\n",
            "mypy-extensions==1.0.0\n",
            "networkx==3.3\n",
            "nltk==3.8.1\n",
            "numpy==1.26.4\n",
            "nvidia-cublas-cu12==12.1.3.1\n",
            "nvidia-cuda-cupti-cu12==12.1.105\n",
            "nvidia-cuda-nvrtc-cu12==12.1.105\n",
            "nvidia-cuda-runtime-cu12==12.1.105\n",
            "nvidia-cudnn-cu12==8.9.2.26\n",
            "nvidia-cufft-cu12==11.0.2.54\n",
            "nvidia-curand-cu12==10.3.2.106\n",
            "nvidia-cusolver-cu12==11.4.5.107\n",
            "nvidia-cusparse-cu12==12.1.0.106\n",
            "nvidia-nccl-cu12==2.19.3\n",
            "nvidia-nvjitlink-cu12==12.6.77\n",
            "nvidia-nvtx-cu12==12.1.105\n",
            "packaging==24.1\n",
            "paginate==0.5.7\n",
            "pandas==2.2.2\n",
            "pathspec==0.12.1\n",
            "peft==0.11.1\n",
            "pillow==10.3.0\n",
            "platformdirs==4.2.2\n",
            "plotly==5.24.1\n",
            "pluggy @ file:///home/conda/feedstock_root/build_artifacts/pluggy_1693086607691/work\n",
            "protobuf==5.28.2\n",
            "psutil==6.0.0\n",
            "pyarrow==16.1.0\n",
            "pyarrow-hotfix==0.6\n",
            "pycodestyle==2.12.0\n",
            "pycosat @ file:///home/conda/feedstock_root/build_artifacts/pycosat_1696355758174/work\n",
            "pycparser @ file:///home/conda/feedstock_root/build_artifacts/pycparser_1636257122734/work\n",
            "pydantic==2.7.4\n",
            "pydantic-settings==2.3.3\n",
            "pydantic_core==2.18.4\n",
            "pydocstyle==6.3.0\n",
            "pyflakes==3.2.0\n",
            "Pygments==2.18.0\n",
            "pymdown-extensions==10.11.2\n",
            "pyparsing==2.4.7\n",
            "PySocks @ file:///home/conda/feedstock_root/build_artifacts/pysocks_1661604839144/work\n",
            "python-dateutil==2.9.0.post0\n",
            "python-dotenv==1.0.1\n",
            "pytz==2024.1\n",
            "PyYAML==6.0.2\n",
            "pyyaml_env_tag==0.1\n",
            "regex==2024.5.15\n",
            "requests==2.32.3\n",
            "rich==13.7.1\n",
            "rouge==1.0.1\n",
            "ruamel.yaml @ file:///home/conda/feedstock_root/build_artifacts/ruamel.yaml_1699007337104/work\n",
            "ruamel.yaml.clib @ file:///home/conda/feedstock_root/build_artifacts/ruamel.yaml.clib_1695996839082/work\n",
            "safetensors==0.4.3\n",
            "scikit-learn==1.5.0\n",
            "scipy==1.13.1\n",
            "sentencepiece==0.2.0\n",
            "shtab==1.7.1\n",
            "six==1.16.0\n",
            "snowballstemmer==2.2.0\n",
            "spglib==2.4.0\n",
            "sympy==1.13.3\n",
            "tenacity==9.0.0\n",
            "threadpoolctl==3.5.0\n",
            "tokenizers==0.19.1\n",
            "tomli==2.0.1\n",
            "toolz==0.12.1\n",
            "torch==2.2.2\n",
            "torchdata==0.7.1\n",
            "tqdm==4.66.4\n",
            "transformers==4.41.2\n",
            "triton==2.2.0\n",
            "trl==0.8.6\n",
            "truststore @ file:///home/conda/feedstock_root/build_artifacts/truststore_1694154605758/work\n",
            "typing_extensions==4.12.2\n",
            "tyro==0.8.4\n",
            "tzdata==2024.1\n",
            "urllib3==2.2.2\n",
            "watchdog==5.0.3\n",
            "xformers==0.0.25.post1\n",
            "xmltodict==0.13.0\n",
            "xxhash==3.4.1\n",
            "yarl==1.9.4\n",
            "zipp==3.19.2\n",
            "zstandard==0.22.0\n"
          ]
        }
      ]
    },
    {
      "cell_type": "code",
      "source": [
        "!conda env export >environment.yml"
      ],
      "metadata": {
        "id": "zkNYlup4mNHL"
      },
      "execution_count": 20,
      "outputs": []
    },
    {
      "cell_type": "code",
      "source": [],
      "metadata": {
        "id": "opxC-PlXmQtx"
      },
      "execution_count": null,
      "outputs": []
    },
    {
      "cell_type": "code",
      "source": [],
      "metadata": {
        "id": "2cW8QpTombNV"
      },
      "execution_count": null,
      "outputs": []
    }
  ]
}