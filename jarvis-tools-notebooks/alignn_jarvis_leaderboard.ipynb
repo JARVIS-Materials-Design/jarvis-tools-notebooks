{
  "nbformat": 4,
  "nbformat_minor": 0,
  "metadata": {
    "colab": {
      "provenance": [],
      "authorship_tag": "ABX9TyMR131QGhuxb1Cjk39ltxbg",
      "include_colab_link": true
    },
    "kernelspec": {
      "name": "python3",
      "display_name": "Python 3"
    },
    "language_info": {
      "name": "python"
    },
    "accelerator": "GPU",
    "gpuClass": "standard"
  },
  "cells": [
    {
      "cell_type": "markdown",
      "metadata": {
        "id": "view-in-github",
        "colab_type": "text"
      },
      "source": [
        "<a href=\"https://colab.research.google.com/github/knc6/jarvis-tools-notebooks/blob/master/jarvis-tools-notebooks/alignn_jarvis_leaderboard.ipynb\" target=\"_parent\"><img src=\"https://colab.research.google.com/assets/colab-badge.svg\" alt=\"Open In Colab\"/></a>"
      ]
    },
    {
      "cell_type": "markdown",
      "source": [
        "# This notebook shows how to add benchmarks to [JARVIS-Leaderboard](https://pages.nist.gov/jarvis_leaderboard/) using [alignn](https://github.com/usnistgov/alignn) for [exfoliation_energy](https://pages.nist.gov/jarvis_leaderboard/AI/SinglePropertyPrediction/dft_3d_exfoliation_energy/) task."
      ],
      "metadata": {
        "id": "SkDZ2Ll65X44"
      }
    },
    {
      "cell_type": "markdown",
      "source": [
        "First, let's install alignn"
      ],
      "metadata": {
        "id": "q0kfDsAKBMO2"
      }
    },
    {
      "cell_type": "code",
      "source": [
        "!pip install --pre dgl -f https://data.dgl.ai/wheels/cu117/repo.html\n",
        "!pip install --pre dglgo -f https://data.dgl.ai/wheels-test/repo.html\n",
        "!pip install alignn"
      ],
      "metadata": {
        "id": "EKwh6PqkBLil",
        "outputId": "c4d3c0ea-0acb-45b6-eb21-a392d7cc4758",
        "colab": {
          "base_uri": "https://localhost:8080/",
          "height": 1000
        }
      },
      "execution_count": 1,
      "outputs": [
        {
          "output_type": "stream",
          "name": "stdout",
          "text": [
            "Looking in indexes: https://pypi.org/simple, https://us-python.pkg.dev/colab-wheels/public/simple/\n",
            "Looking in links: https://data.dgl.ai/wheels/cu117/repo.html\n",
            "Collecting dgl\n",
            "  Downloading https://data.dgl.ai/wheels/cu117/dgl-1.1.0%2Bcu117-cp39-cp39-manylinux1_x86_64.whl (86.7 MB)\n",
            "\u001b[2K     \u001b[90m━━━━━━━━━━━━━━━━━━━━━━━━━━━━━━━━━━━━━━━━\u001b[0m \u001b[32m86.7/86.7 MB\u001b[0m \u001b[31m11.1 MB/s\u001b[0m eta \u001b[36m0:00:00\u001b[0m\n",
            "\u001b[?25hRequirement already satisfied: requests>=2.19.0 in /usr/local/lib/python3.9/dist-packages (from dgl) (2.27.1)\n",
            "Requirement already satisfied: psutil>=5.8.0 in /usr/local/lib/python3.9/dist-packages (from dgl) (5.9.5)\n",
            "Requirement already satisfied: numpy>=1.14.0 in /usr/local/lib/python3.9/dist-packages (from dgl) (1.22.4)\n",
            "Requirement already satisfied: networkx>=2.1 in /usr/local/lib/python3.9/dist-packages (from dgl) (3.1)\n",
            "Requirement already satisfied: scipy>=1.1.0 in /usr/local/lib/python3.9/dist-packages (from dgl) (1.10.1)\n",
            "Requirement already satisfied: tqdm in /usr/local/lib/python3.9/dist-packages (from dgl) (4.65.0)\n",
            "Requirement already satisfied: charset-normalizer~=2.0.0 in /usr/local/lib/python3.9/dist-packages (from requests>=2.19.0->dgl) (2.0.12)\n",
            "Requirement already satisfied: idna<4,>=2.5 in /usr/local/lib/python3.9/dist-packages (from requests>=2.19.0->dgl) (3.4)\n",
            "Requirement already satisfied: urllib3<1.27,>=1.21.1 in /usr/local/lib/python3.9/dist-packages (from requests>=2.19.0->dgl) (1.26.15)\n",
            "Requirement already satisfied: certifi>=2017.4.17 in /usr/local/lib/python3.9/dist-packages (from requests>=2.19.0->dgl) (2022.12.7)\n",
            "Installing collected packages: dgl\n",
            "Successfully installed dgl-1.1.0+cu117\n",
            "Looking in indexes: https://pypi.org/simple, https://us-python.pkg.dev/colab-wheels/public/simple/\n",
            "Looking in links: https://data.dgl.ai/wheels-test/repo.html\n",
            "Collecting dglgo\n",
            "  Downloading dglgo-0.0.2-py3-none-any.whl (63 kB)\n",
            "\u001b[2K     \u001b[90m━━━━━━━━━━━━━━━━━━━━━━━━━━━━━━━━━━━━━━━━\u001b[0m \u001b[32m63.5/63.5 kB\u001b[0m \u001b[31m1.6 MB/s\u001b[0m eta \u001b[36m0:00:00\u001b[0m\n",
            "\u001b[?25hCollecting autopep8>=1.6.0\n",
            "  Downloading autopep8-2.0.2-py2.py3-none-any.whl (45 kB)\n",
            "\u001b[2K     \u001b[90m━━━━━━━━━━━━━━━━━━━━━━━━━━━━━━━━━━━━━━━━\u001b[0m \u001b[32m45.2/45.2 kB\u001b[0m \u001b[31m3.0 MB/s\u001b[0m eta \u001b[36m0:00:00\u001b[0m\n",
            "\u001b[?25hCollecting ruamel.yaml>=0.17.20\n",
            "  Downloading ruamel.yaml-0.17.21-py3-none-any.whl (109 kB)\n",
            "\u001b[2K     \u001b[90m━━━━━━━━━━━━━━━━━━━━━━━━━━━━━━━━━━━━━━\u001b[0m \u001b[32m109.5/109.5 kB\u001b[0m \u001b[31m10.1 MB/s\u001b[0m eta \u001b[36m0:00:00\u001b[0m\n",
            "\u001b[?25hCollecting ogb>=1.3.3\n",
            "  Downloading ogb-1.3.6-py3-none-any.whl (78 kB)\n",
            "\u001b[2K     \u001b[90m━━━━━━━━━━━━━━━━━━━━━━━━━━━━━━━━━━━━━━━━\u001b[0m \u001b[32m78.8/78.8 kB\u001b[0m \u001b[31m11.6 MB/s\u001b[0m eta \u001b[36m0:00:00\u001b[0m\n",
            "\u001b[?25hCollecting numpydoc>=1.1.0\n",
            "  Downloading numpydoc-1.5.0-py3-none-any.whl (52 kB)\n",
            "\u001b[2K     \u001b[90m━━━━━━━━━━━━━━━━━━━━━━━━━━━━━━━━━━━━━━━━\u001b[0m \u001b[32m52.4/52.4 kB\u001b[0m \u001b[31m6.7 MB/s\u001b[0m eta \u001b[36m0:00:00\u001b[0m\n",
            "\u001b[?25hRequirement already satisfied: typer>=0.4.0 in /usr/local/lib/python3.9/dist-packages (from dglgo) (0.7.0)\n",
            "Collecting rdkit-pypi\n",
            "  Downloading rdkit_pypi-2022.9.5-cp39-cp39-manylinux_2_17_x86_64.manylinux2014_x86_64.whl (29.4 MB)\n",
            "\u001b[2K     \u001b[90m━━━━━━━━━━━━━━━━━━━━━━━━━━━━━━━━━━━━━━━━\u001b[0m \u001b[32m29.4/29.4 MB\u001b[0m \u001b[31m17.0 MB/s\u001b[0m eta \u001b[36m0:00:00\u001b[0m\n",
            "\u001b[?25hCollecting isort>=5.10.1\n",
            "  Downloading isort-6.0.0b2-py3-none-any.whl (105 kB)\n",
            "\u001b[2K     \u001b[90m━━━━━━━━━━━━━━━━━━━━━━━━━━━━━━━━━━━━━━\u001b[0m \u001b[32m105.3/105.3 kB\u001b[0m \u001b[31m11.4 MB/s\u001b[0m eta \u001b[36m0:00:00\u001b[0m\n",
            "\u001b[?25hRequirement already satisfied: PyYAML>=5.1 in /usr/local/lib/python3.9/dist-packages (from dglgo) (6.0)\n",
            "Requirement already satisfied: pydantic>=1.9.0 in /usr/local/lib/python3.9/dist-packages (from dglgo) (1.10.7)\n",
            "Requirement already satisfied: scikit-learn>=0.20.0 in /usr/local/lib/python3.9/dist-packages (from dglgo) (1.2.2)\n",
            "Collecting pycodestyle>=2.10.0\n",
            "  Downloading pycodestyle-2.10.0-py2.py3-none-any.whl (41 kB)\n",
            "\u001b[2K     \u001b[90m━━━━━━━━━━━━━━━━━━━━━━━━━━━━━━━━━━━━━━━━\u001b[0m \u001b[32m41.3/41.3 kB\u001b[0m \u001b[31m4.8 MB/s\u001b[0m eta \u001b[36m0:00:00\u001b[0m\n",
            "\u001b[?25hRequirement already satisfied: tomli in /usr/local/lib/python3.9/dist-packages (from autopep8>=1.6.0->dglgo) (2.0.1)\n",
            "Requirement already satisfied: Jinja2>=2.10 in /usr/local/lib/python3.9/dist-packages (from numpydoc>=1.1.0->dglgo) (3.1.2)\n",
            "Collecting sphinx>=4.2\n",
            "  Downloading sphinx-6.2.1-py3-none-any.whl (3.0 MB)\n",
            "\u001b[2K     \u001b[90m━━━━━━━━━━━━━━━━━━━━━━━━━━━━━━━━━━━━━━━━\u001b[0m \u001b[32m3.0/3.0 MB\u001b[0m \u001b[31m77.7 MB/s\u001b[0m eta \u001b[36m0:00:00\u001b[0m\n",
            "\u001b[?25hRequirement already satisfied: tqdm>=4.29.0 in /usr/local/lib/python3.9/dist-packages (from ogb>=1.3.3->dglgo) (4.65.0)\n",
            "Requirement already satisfied: six>=1.12.0 in /usr/local/lib/python3.9/dist-packages (from ogb>=1.3.3->dglgo) (1.16.0)\n",
            "Requirement already satisfied: pandas>=0.24.0 in /usr/local/lib/python3.9/dist-packages (from ogb>=1.3.3->dglgo) (1.5.3)\n",
            "Requirement already satisfied: numpy>=1.16.0 in /usr/local/lib/python3.9/dist-packages (from ogb>=1.3.3->dglgo) (1.22.4)\n",
            "Collecting outdated>=0.2.0\n",
            "  Downloading outdated-0.2.2-py2.py3-none-any.whl (7.5 kB)\n",
            "Requirement already satisfied: urllib3>=1.24.0 in /usr/local/lib/python3.9/dist-packages (from ogb>=1.3.3->dglgo) (1.26.15)\n",
            "Requirement already satisfied: torch>=1.6.0 in /usr/local/lib/python3.9/dist-packages (from ogb>=1.3.3->dglgo) (2.0.0+cu118)\n",
            "Requirement already satisfied: typing-extensions>=4.2.0 in /usr/local/lib/python3.9/dist-packages (from pydantic>=1.9.0->dglgo) (4.5.0)\n",
            "Collecting ruamel.yaml.clib>=0.2.6\n",
            "  Downloading ruamel.yaml.clib-0.2.7-cp39-cp39-manylinux_2_17_x86_64.manylinux2014_x86_64.manylinux_2_24_x86_64.whl (519 kB)\n",
            "\u001b[2K     \u001b[90m━━━━━━━━━━━━━━━━━━━━━━━━━━━━━━━━━━━━━━\u001b[0m \u001b[32m519.4/519.4 kB\u001b[0m \u001b[31m53.8 MB/s\u001b[0m eta \u001b[36m0:00:00\u001b[0m\n",
            "\u001b[?25hRequirement already satisfied: scipy>=1.3.2 in /usr/local/lib/python3.9/dist-packages (from scikit-learn>=0.20.0->dglgo) (1.10.1)\n",
            "Requirement already satisfied: joblib>=1.1.1 in /usr/local/lib/python3.9/dist-packages (from scikit-learn>=0.20.0->dglgo) (1.2.0)\n",
            "Requirement already satisfied: threadpoolctl>=2.0.0 in /usr/local/lib/python3.9/dist-packages (from scikit-learn>=0.20.0->dglgo) (3.1.0)\n",
            "Requirement already satisfied: click<9.0.0,>=7.1.1 in /usr/local/lib/python3.9/dist-packages (from typer>=0.4.0->dglgo) (8.1.3)\n",
            "Requirement already satisfied: Pillow in /usr/local/lib/python3.9/dist-packages (from rdkit-pypi->dglgo) (8.4.0)\n",
            "Requirement already satisfied: MarkupSafe>=2.0 in /usr/local/lib/python3.9/dist-packages (from Jinja2>=2.10->numpydoc>=1.1.0->dglgo) (2.1.2)\n",
            "Collecting littleutils\n",
            "  Downloading littleutils-0.2.2.tar.gz (6.6 kB)\n",
            "  Preparing metadata (setup.py) ... \u001b[?25l\u001b[?25hdone\n",
            "Requirement already satisfied: setuptools>=44 in /usr/local/lib/python3.9/dist-packages (from outdated>=0.2.0->ogb>=1.3.3->dglgo) (67.7.2)\n",
            "Requirement already satisfied: requests in /usr/local/lib/python3.9/dist-packages (from outdated>=0.2.0->ogb>=1.3.3->dglgo) (2.27.1)\n",
            "Requirement already satisfied: python-dateutil>=2.8.1 in /usr/local/lib/python3.9/dist-packages (from pandas>=0.24.0->ogb>=1.3.3->dglgo) (2.8.2)\n",
            "Requirement already satisfied: pytz>=2020.1 in /usr/local/lib/python3.9/dist-packages (from pandas>=0.24.0->ogb>=1.3.3->dglgo) (2022.7.1)\n",
            "Requirement already satisfied: sphinxcontrib-applehelp in /usr/local/lib/python3.9/dist-packages (from sphinx>=4.2->numpydoc>=1.1.0->dglgo) (1.0.4)\n",
            "Requirement already satisfied: sphinxcontrib-htmlhelp>=2.0.0 in /usr/local/lib/python3.9/dist-packages (from sphinx>=4.2->numpydoc>=1.1.0->dglgo) (2.0.1)\n",
            "Requirement already satisfied: importlib-metadata>=4.8 in /usr/local/lib/python3.9/dist-packages (from sphinx>=4.2->numpydoc>=1.1.0->dglgo) (6.4.1)\n",
            "Requirement already satisfied: sphinxcontrib-qthelp in /usr/local/lib/python3.9/dist-packages (from sphinx>=4.2->numpydoc>=1.1.0->dglgo) (1.0.3)\n",
            "Requirement already satisfied: babel>=2.9 in /usr/local/lib/python3.9/dist-packages (from sphinx>=4.2->numpydoc>=1.1.0->dglgo) (2.12.1)\n",
            "Requirement already satisfied: sphinxcontrib-serializinghtml>=1.1.5 in /usr/local/lib/python3.9/dist-packages (from sphinx>=4.2->numpydoc>=1.1.0->dglgo) (1.1.5)\n",
            "Requirement already satisfied: Pygments>=2.13 in /usr/local/lib/python3.9/dist-packages (from sphinx>=4.2->numpydoc>=1.1.0->dglgo) (2.14.0)\n",
            "Requirement already satisfied: sphinxcontrib-jsmath in /usr/local/lib/python3.9/dist-packages (from sphinx>=4.2->numpydoc>=1.1.0->dglgo) (1.0.1)\n",
            "Requirement already satisfied: imagesize>=1.3 in /usr/local/lib/python3.9/dist-packages (from sphinx>=4.2->numpydoc>=1.1.0->dglgo) (1.4.1)\n",
            "Requirement already satisfied: sphinxcontrib-devhelp in /usr/local/lib/python3.9/dist-packages (from sphinx>=4.2->numpydoc>=1.1.0->dglgo) (1.0.2)\n",
            "Requirement already satisfied: packaging>=21.0 in /usr/local/lib/python3.9/dist-packages (from sphinx>=4.2->numpydoc>=1.1.0->dglgo) (23.1)\n",
            "Collecting docutils<0.20,>=0.18.1\n",
            "  Downloading docutils-0.19-py3-none-any.whl (570 kB)\n",
            "\u001b[2K     \u001b[90m━━━━━━━━━━━━━━━━━━━━━━━━━━━━━━━━━━━━━━\u001b[0m \u001b[32m570.5/570.5 kB\u001b[0m \u001b[31m41.8 MB/s\u001b[0m eta \u001b[36m0:00:00\u001b[0m\n",
            "\u001b[?25hRequirement already satisfied: snowballstemmer>=2.0 in /usr/local/lib/python3.9/dist-packages (from sphinx>=4.2->numpydoc>=1.1.0->dglgo) (2.2.0)\n",
            "Requirement already satisfied: alabaster<0.8,>=0.7 in /usr/local/lib/python3.9/dist-packages (from sphinx>=4.2->numpydoc>=1.1.0->dglgo) (0.7.13)\n",
            "Requirement already satisfied: sympy in /usr/local/lib/python3.9/dist-packages (from torch>=1.6.0->ogb>=1.3.3->dglgo) (1.11.1)\n",
            "Requirement already satisfied: filelock in /usr/local/lib/python3.9/dist-packages (from torch>=1.6.0->ogb>=1.3.3->dglgo) (3.11.0)\n",
            "Requirement already satisfied: triton==2.0.0 in /usr/local/lib/python3.9/dist-packages (from torch>=1.6.0->ogb>=1.3.3->dglgo) (2.0.0)\n",
            "Requirement already satisfied: networkx in /usr/local/lib/python3.9/dist-packages (from torch>=1.6.0->ogb>=1.3.3->dglgo) (3.1)\n",
            "Requirement already satisfied: cmake in /usr/local/lib/python3.9/dist-packages (from triton==2.0.0->torch>=1.6.0->ogb>=1.3.3->dglgo) (3.25.2)\n",
            "Requirement already satisfied: lit in /usr/local/lib/python3.9/dist-packages (from triton==2.0.0->torch>=1.6.0->ogb>=1.3.3->dglgo) (16.0.1)\n",
            "Requirement already satisfied: zipp>=0.5 in /usr/local/lib/python3.9/dist-packages (from importlib-metadata>=4.8->sphinx>=4.2->numpydoc>=1.1.0->dglgo) (3.15.0)\n",
            "Requirement already satisfied: charset-normalizer~=2.0.0 in /usr/local/lib/python3.9/dist-packages (from requests->outdated>=0.2.0->ogb>=1.3.3->dglgo) (2.0.12)\n",
            "Requirement already satisfied: idna<4,>=2.5 in /usr/local/lib/python3.9/dist-packages (from requests->outdated>=0.2.0->ogb>=1.3.3->dglgo) (3.4)\n",
            "Requirement already satisfied: certifi>=2017.4.17 in /usr/local/lib/python3.9/dist-packages (from requests->outdated>=0.2.0->ogb>=1.3.3->dglgo) (2022.12.7)\n",
            "Requirement already satisfied: mpmath>=0.19 in /usr/local/lib/python3.9/dist-packages (from sympy->torch>=1.6.0->ogb>=1.3.3->dglgo) (1.3.0)\n",
            "Building wheels for collected packages: littleutils\n",
            "  Building wheel for littleutils (setup.py) ... \u001b[?25l\u001b[?25hdone\n",
            "  Created wheel for littleutils: filename=littleutils-0.2.2-py3-none-any.whl size=7048 sha256=90a7de696db1bf18aa3c8bb412e34eb863df4ee9574844cc0d2e44a528b05b67\n",
            "  Stored in directory: /root/.cache/pip/wheels/04/bb/0d/2d02ec45f29c48d6192476bfb59c5a0e64b605e7212374dd15\n",
            "Successfully built littleutils\n",
            "Installing collected packages: littleutils, ruamel.yaml.clib, rdkit-pypi, pycodestyle, isort, docutils, sphinx, ruamel.yaml, outdated, autopep8, numpydoc, ogb, dglgo\n",
            "  Attempting uninstall: docutils\n",
            "    Found existing installation: docutils 0.16\n",
            "    Uninstalling docutils-0.16:\n",
            "      Successfully uninstalled docutils-0.16\n",
            "  Attempting uninstall: sphinx\n",
            "    Found existing installation: Sphinx 3.5.4\n",
            "    Uninstalling Sphinx-3.5.4:\n",
            "      Successfully uninstalled Sphinx-3.5.4\n",
            "Successfully installed autopep8-2.0.2 dglgo-0.0.2 docutils-0.19 isort-6.0.0b2 littleutils-0.2.2 numpydoc-1.5.0 ogb-1.3.6 outdated-0.2.2 pycodestyle-2.10.0 rdkit-pypi-2022.9.5 ruamel.yaml-0.17.21 ruamel.yaml.clib-0.2.7 sphinx-6.2.1\n",
            "Looking in indexes: https://pypi.org/simple, https://us-python.pkg.dev/colab-wheels/public/simple/\n",
            "Collecting alignn\n",
            "  Downloading alignn-2023.4.1-py2.py3-none-any.whl (15.1 MB)\n",
            "\u001b[2K     \u001b[90m━━━━━━━━━━━━━━━━━━━━━━━━━━━━━━━━━━━━━━━━\u001b[0m \u001b[32m15.1/15.1 MB\u001b[0m \u001b[31m67.0 MB/s\u001b[0m eta \u001b[36m0:00:00\u001b[0m\n",
            "\u001b[?25hRequirement already satisfied: dgl>=0.6.0 in /usr/local/lib/python3.9/dist-packages (from alignn) (1.1.0+cu117)\n",
            "Requirement already satisfied: numpy>=1.19.5 in /usr/local/lib/python3.9/dist-packages (from alignn) (1.22.4)\n",
            "Collecting jarvis-tools>=2021.07.19\n",
            "  Downloading jarvis_tools-2023.4.6-py2.py3-none-any.whl (973 kB)\n",
            "\u001b[2K     \u001b[90m━━━━━━━━━━━━━━━━━━━━━━━━━━━━━━━━━━━━━━\u001b[0m \u001b[32m973.8/973.8 kB\u001b[0m \u001b[31m56.7 MB/s\u001b[0m eta \u001b[36m0:00:00\u001b[0m\n",
            "\u001b[?25hRequirement already satisfied: torch>=1.8 in /usr/local/lib/python3.9/dist-packages (from alignn) (2.0.0+cu118)\n",
            "Collecting pyparsing<3,>=2.2.1\n",
            "  Downloading pyparsing-2.4.7-py2.py3-none-any.whl (67 kB)\n",
            "\u001b[2K     \u001b[90m━━━━━━━━━━━━━━━━━━━━━━━━━━━━━━━━━━━━━━━━\u001b[0m \u001b[32m67.8/67.8 kB\u001b[0m \u001b[31m7.9 MB/s\u001b[0m eta \u001b[36m0:00:00\u001b[0m\n",
            "\u001b[?25hRequirement already satisfied: pandas>=1.2.3 in /usr/local/lib/python3.9/dist-packages (from alignn) (1.5.3)\n",
            "Collecting pytorch-ignite>=0.5.0.dev20221024\n",
            "  Downloading pytorch_ignite-0.5.0.dev20230426-py3-none-any.whl (264 kB)\n",
            "\u001b[2K     \u001b[90m━━━━━━━━━━━━━━━━━━━━━━━━━━━━━━━━━━━━━━\u001b[0m \u001b[32m265.0/265.0 kB\u001b[0m \u001b[31m19.0 MB/s\u001b[0m eta \u001b[36m0:00:00\u001b[0m\n",
            "\u001b[?25hRequirement already satisfied: tqdm>=4.60.0 in /usr/local/lib/python3.9/dist-packages (from alignn) (4.65.0)\n",
            "Requirement already satisfied: scikit-learn>=0.22.2 in /usr/local/lib/python3.9/dist-packages (from alignn) (1.2.2)\n",
            "Requirement already satisfied: pydantic>=1.8.1 in /usr/local/lib/python3.9/dist-packages (from alignn) (1.10.7)\n",
            "Collecting flake8>=3.9.1\n",
            "  Downloading flake8-6.0.0-py2.py3-none-any.whl (57 kB)\n",
            "\u001b[2K     \u001b[90m━━━━━━━━━━━━━━━━━━━━━━━━━━━━━━━━━━━━━━━━\u001b[0m \u001b[32m57.8/57.8 kB\u001b[0m \u001b[31m8.2 MB/s\u001b[0m eta \u001b[36m0:00:00\u001b[0m\n",
            "\u001b[?25hCollecting pydocstyle>=6.0.0\n",
            "  Downloading pydocstyle-6.3.0-py3-none-any.whl (38 kB)\n",
            "Requirement already satisfied: pycodestyle>=2.7.0 in /usr/local/lib/python3.9/dist-packages (from alignn) (2.10.0)\n",
            "Requirement already satisfied: scipy>=1.6.1 in /usr/local/lib/python3.9/dist-packages (from alignn) (1.10.1)\n",
            "Collecting ase\n",
            "  Downloading ase-3.22.1-py3-none-any.whl (2.2 MB)\n",
            "\u001b[2K     \u001b[90m━━━━━━━━━━━━━━━━━━━━━━━━━━━━━━━━━━━━━━━━\u001b[0m \u001b[32m2.2/2.2 MB\u001b[0m \u001b[31m86.5 MB/s\u001b[0m eta \u001b[36m0:00:00\u001b[0m\n",
            "\u001b[?25hRequirement already satisfied: matplotlib>=3.4.1 in /usr/local/lib/python3.9/dist-packages (from alignn) (3.7.1)\n",
            "Requirement already satisfied: requests>=2.19.0 in /usr/local/lib/python3.9/dist-packages (from dgl>=0.6.0->alignn) (2.27.1)\n",
            "Requirement already satisfied: networkx>=2.1 in /usr/local/lib/python3.9/dist-packages (from dgl>=0.6.0->alignn) (3.1)\n",
            "Requirement already satisfied: psutil>=5.8.0 in /usr/local/lib/python3.9/dist-packages (from dgl>=0.6.0->alignn) (5.9.5)\n",
            "Collecting pyflakes<3.1.0,>=3.0.0\n",
            "  Downloading pyflakes-3.0.1-py2.py3-none-any.whl (62 kB)\n",
            "\u001b[2K     \u001b[90m━━━━━━━━━━━━━━━━━━━━━━━━━━━━━━━━━━━━━━━━\u001b[0m \u001b[32m62.8/62.8 kB\u001b[0m \u001b[31m8.9 MB/s\u001b[0m eta \u001b[36m0:00:00\u001b[0m\n",
            "\u001b[?25hCollecting mccabe<0.8.0,>=0.7.0\n",
            "  Downloading mccabe-0.7.0-py2.py3-none-any.whl (7.3 kB)\n",
            "Collecting xmltodict>=0.11.0\n",
            "  Downloading xmltodict-0.13.0-py2.py3-none-any.whl (10.0 kB)\n",
            "Requirement already satisfied: joblib>=0.14.1 in /usr/local/lib/python3.9/dist-packages (from jarvis-tools>=2021.07.19->alignn) (1.2.0)\n",
            "Collecting spglib>=1.14.1\n",
            "  Downloading spglib-2.0.2-cp39-cp39-manylinux_2_17_x86_64.manylinux2014_x86_64.whl (515 kB)\n",
            "\u001b[2K     \u001b[90m━━━━━━━━━━━━━━━━━━━━━━━━━━━━━━━━━━━━━━\u001b[0m \u001b[32m515.0/515.0 kB\u001b[0m \u001b[31m49.0 MB/s\u001b[0m eta \u001b[36m0:00:00\u001b[0m\n",
            "\u001b[?25hRequirement already satisfied: toolz>=0.9.0 in /usr/local/lib/python3.9/dist-packages (from jarvis-tools>=2021.07.19->alignn) (0.12.0)\n",
            "Requirement already satisfied: pillow>=6.2.0 in /usr/local/lib/python3.9/dist-packages (from matplotlib>=3.4.1->alignn) (8.4.0)\n",
            "Requirement already satisfied: cycler>=0.10 in /usr/local/lib/python3.9/dist-packages (from matplotlib>=3.4.1->alignn) (0.11.0)\n",
            "Requirement already satisfied: python-dateutil>=2.7 in /usr/local/lib/python3.9/dist-packages (from matplotlib>=3.4.1->alignn) (2.8.2)\n",
            "Requirement already satisfied: importlib-resources>=3.2.0 in /usr/local/lib/python3.9/dist-packages (from matplotlib>=3.4.1->alignn) (5.12.0)\n",
            "Requirement already satisfied: kiwisolver>=1.0.1 in /usr/local/lib/python3.9/dist-packages (from matplotlib>=3.4.1->alignn) (1.4.4)\n",
            "Requirement already satisfied: contourpy>=1.0.1 in /usr/local/lib/python3.9/dist-packages (from matplotlib>=3.4.1->alignn) (1.0.7)\n",
            "Requirement already satisfied: fonttools>=4.22.0 in /usr/local/lib/python3.9/dist-packages (from matplotlib>=3.4.1->alignn) (4.39.3)\n",
            "Requirement already satisfied: packaging>=20.0 in /usr/local/lib/python3.9/dist-packages (from matplotlib>=3.4.1->alignn) (23.1)\n",
            "Requirement already satisfied: pytz>=2020.1 in /usr/local/lib/python3.9/dist-packages (from pandas>=1.2.3->alignn) (2022.7.1)\n",
            "Requirement already satisfied: typing-extensions>=4.2.0 in /usr/local/lib/python3.9/dist-packages (from pydantic>=1.8.1->alignn) (4.5.0)\n",
            "Requirement already satisfied: snowballstemmer>=2.2.0 in /usr/local/lib/python3.9/dist-packages (from pydocstyle>=6.0.0->alignn) (2.2.0)\n",
            "Requirement already satisfied: threadpoolctl>=2.0.0 in /usr/local/lib/python3.9/dist-packages (from scikit-learn>=0.22.2->alignn) (3.1.0)\n",
            "Requirement already satisfied: sympy in /usr/local/lib/python3.9/dist-packages (from torch>=1.8->alignn) (1.11.1)\n",
            "Requirement already satisfied: triton==2.0.0 in /usr/local/lib/python3.9/dist-packages (from torch>=1.8->alignn) (2.0.0)\n",
            "Requirement already satisfied: jinja2 in /usr/local/lib/python3.9/dist-packages (from torch>=1.8->alignn) (3.1.2)\n",
            "Requirement already satisfied: filelock in /usr/local/lib/python3.9/dist-packages (from torch>=1.8->alignn) (3.11.0)\n",
            "Requirement already satisfied: lit in /usr/local/lib/python3.9/dist-packages (from triton==2.0.0->torch>=1.8->alignn) (16.0.1)\n",
            "Requirement already satisfied: cmake in /usr/local/lib/python3.9/dist-packages (from triton==2.0.0->torch>=1.8->alignn) (3.25.2)\n",
            "Requirement already satisfied: zipp>=3.1.0 in /usr/local/lib/python3.9/dist-packages (from importlib-resources>=3.2.0->matplotlib>=3.4.1->alignn) (3.15.0)\n",
            "Requirement already satisfied: six>=1.5 in /usr/local/lib/python3.9/dist-packages (from python-dateutil>=2.7->matplotlib>=3.4.1->alignn) (1.16.0)\n",
            "Requirement already satisfied: charset-normalizer~=2.0.0 in /usr/local/lib/python3.9/dist-packages (from requests>=2.19.0->dgl>=0.6.0->alignn) (2.0.12)\n",
            "Requirement already satisfied: urllib3<1.27,>=1.21.1 in /usr/local/lib/python3.9/dist-packages (from requests>=2.19.0->dgl>=0.6.0->alignn) (1.26.15)\n",
            "Requirement already satisfied: certifi>=2017.4.17 in /usr/local/lib/python3.9/dist-packages (from requests>=2.19.0->dgl>=0.6.0->alignn) (2022.12.7)\n",
            "Requirement already satisfied: idna<4,>=2.5 in /usr/local/lib/python3.9/dist-packages (from requests>=2.19.0->dgl>=0.6.0->alignn) (3.4)\n",
            "Requirement already satisfied: MarkupSafe>=2.0 in /usr/local/lib/python3.9/dist-packages (from jinja2->torch>=1.8->alignn) (2.1.2)\n",
            "Requirement already satisfied: mpmath>=0.19 in /usr/local/lib/python3.9/dist-packages (from sympy->torch>=1.8->alignn) (1.3.0)\n",
            "Installing collected packages: xmltodict, spglib, pyparsing, pyflakes, pydocstyle, mccabe, flake8, jarvis-tools, ase, pytorch-ignite, alignn\n",
            "  Attempting uninstall: pyparsing\n",
            "    Found existing installation: pyparsing 3.0.9\n",
            "    Uninstalling pyparsing-3.0.9:\n",
            "      Successfully uninstalled pyparsing-3.0.9\n",
            "Successfully installed alignn-2023.4.1 ase-3.22.1 flake8-6.0.0 jarvis-tools-2023.4.6 mccabe-0.7.0 pydocstyle-6.3.0 pyflakes-3.0.1 pyparsing-2.4.7 pytorch-ignite-0.5.0.dev20230426 spglib-2.0.2 xmltodict-0.13.0\n"
          ]
        },
        {
          "output_type": "display_data",
          "data": {
            "application/vnd.colab-display-data+json": {
              "pip_warning": {
                "packages": [
                  "pyparsing"
                ]
              }
            }
          },
          "metadata": {}
        }
      ]
    },
    {
      "cell_type": "markdown",
      "source": [
        "Now, let's install jarvis_leaderboard"
      ],
      "metadata": {
        "id": "Xbo_Fvx4L0N7"
      }
    },
    {
      "cell_type": "code",
      "execution_count": 2,
      "metadata": {
        "colab": {
          "base_uri": "https://localhost:8080/"
        },
        "id": "e7ccy1ysLBV5",
        "outputId": "673014e2-7b02-4853-84f4-8cf40007db24"
      },
      "outputs": [
        {
          "output_type": "stream",
          "name": "stdout",
          "text": [
            "Looking in indexes: https://pypi.org/simple, https://us-python.pkg.dev/colab-wheels/public/simple/\n",
            "Collecting jarvis_leaderboard\n",
            "  Downloading jarvis_leaderboard-2023.4.27-py2.py3-none-any.whl (64.0 MB)\n",
            "\u001b[2K     \u001b[90m━━━━━━━━━━━━━━━━━━━━━━━━━━━━━━━━━━━━━━━━\u001b[0m \u001b[32m64.0/64.0 MB\u001b[0m \u001b[31m11.3 MB/s\u001b[0m eta \u001b[36m0:00:00\u001b[0m\n",
            "\u001b[?25hRequirement already satisfied: scikit-learn>=0.24.1 in /usr/local/lib/python3.9/dist-packages (from jarvis_leaderboard) (1.2.2)\n",
            "Requirement already satisfied: pydantic>=1.8.1 in /usr/local/lib/python3.9/dist-packages (from jarvis_leaderboard) (1.10.7)\n",
            "Collecting pandas==1.2.4\n",
            "  Downloading pandas-1.2.4-cp39-cp39-manylinux1_x86_64.whl (9.7 MB)\n",
            "\u001b[2K     \u001b[90m━━━━━━━━━━━━━━━━━━━━━━━━━━━━━━━━━━━━━━━━\u001b[0m \u001b[32m9.7/9.7 MB\u001b[0m \u001b[31m95.0 MB/s\u001b[0m eta \u001b[36m0:00:00\u001b[0m\n",
            "\u001b[?25hRequirement already satisfied: numpy>=1.19.5 in /usr/local/lib/python3.9/dist-packages (from jarvis_leaderboard) (1.22.4)\n",
            "Requirement already satisfied: jarvis-tools>=2021.07.19 in /usr/local/lib/python3.9/dist-packages (from jarvis_leaderboard) (2023.4.6)\n",
            "Requirement already satisfied: scipy>=1.6.3 in /usr/local/lib/python3.9/dist-packages (from jarvis_leaderboard) (1.10.1)\n",
            "Collecting mkdocs-material>=9.0.5\n",
            "  Downloading mkdocs_material-9.1.8-py3-none-any.whl (7.8 MB)\n",
            "\u001b[2K     \u001b[90m━━━━━━━━━━━━━━━━━━━━━━━━━━━━━━━━━━━━━━━━\u001b[0m \u001b[32m7.8/7.8 MB\u001b[0m \u001b[31m106.6 MB/s\u001b[0m eta \u001b[36m0:00:00\u001b[0m\n",
            "\u001b[?25hCollecting markdown==3.2.1\n",
            "  Downloading Markdown-3.2.1-py2.py3-none-any.whl (88 kB)\n",
            "\u001b[2K     \u001b[90m━━━━━━━━━━━━━━━━━━━━━━━━━━━━━━━━━━━━━━━━\u001b[0m \u001b[32m88.8/88.8 kB\u001b[0m \u001b[31m11.9 MB/s\u001b[0m eta \u001b[36m0:00:00\u001b[0m\n",
            "\u001b[?25hRequirement already satisfied: setuptools>=36 in /usr/local/lib/python3.9/dist-packages (from markdown==3.2.1->jarvis_leaderboard) (67.7.2)\n",
            "Requirement already satisfied: pytz>=2017.3 in /usr/local/lib/python3.9/dist-packages (from pandas==1.2.4->jarvis_leaderboard) (2022.7.1)\n",
            "Requirement already satisfied: python-dateutil>=2.7.3 in /usr/local/lib/python3.9/dist-packages (from pandas==1.2.4->jarvis_leaderboard) (2.8.2)\n",
            "Requirement already satisfied: toolz>=0.9.0 in /usr/local/lib/python3.9/dist-packages (from jarvis-tools>=2021.07.19->jarvis_leaderboard) (0.12.0)\n",
            "Requirement already satisfied: requests>=2.23.0 in /usr/local/lib/python3.9/dist-packages (from jarvis-tools>=2021.07.19->jarvis_leaderboard) (2.27.1)\n",
            "Requirement already satisfied: matplotlib>=3.0.0 in /usr/local/lib/python3.9/dist-packages (from jarvis-tools>=2021.07.19->jarvis_leaderboard) (3.7.1)\n",
            "Requirement already satisfied: xmltodict>=0.11.0 in /usr/local/lib/python3.9/dist-packages (from jarvis-tools>=2021.07.19->jarvis_leaderboard) (0.13.0)\n",
            "Requirement already satisfied: spglib>=1.14.1 in /usr/local/lib/python3.9/dist-packages (from jarvis-tools>=2021.07.19->jarvis_leaderboard) (2.0.2)\n",
            "Requirement already satisfied: tqdm>=4.41.1 in /usr/local/lib/python3.9/dist-packages (from jarvis-tools>=2021.07.19->jarvis_leaderboard) (4.65.0)\n",
            "Requirement already satisfied: joblib>=0.14.1 in /usr/local/lib/python3.9/dist-packages (from jarvis-tools>=2021.07.19->jarvis_leaderboard) (1.2.0)\n",
            "Requirement already satisfied: pygments>=2.14 in /usr/local/lib/python3.9/dist-packages (from mkdocs-material>=9.0.5->jarvis_leaderboard) (2.14.0)\n",
            "Collecting mkdocs>=1.4.2\n",
            "  Downloading mkdocs-1.4.2-py3-none-any.whl (3.7 MB)\n",
            "\u001b[2K     \u001b[90m━━━━━━━━━━━━━━━━━━━━━━━━━━━━━━━━━━━━━━━━\u001b[0m \u001b[32m3.7/3.7 MB\u001b[0m \u001b[31m100.9 MB/s\u001b[0m eta \u001b[36m0:00:00\u001b[0m\n",
            "\u001b[?25hCollecting mkdocs-material-extensions>=1.1\n",
            "  Downloading mkdocs_material_extensions-1.1.1-py3-none-any.whl (7.9 kB)\n",
            "Collecting colorama>=0.4\n",
            "  Downloading colorama-0.4.6-py2.py3-none-any.whl (25 kB)\n",
            "Requirement already satisfied: jinja2>=3.0 in /usr/local/lib/python3.9/dist-packages (from mkdocs-material>=9.0.5->jarvis_leaderboard) (3.1.2)\n",
            "Collecting pymdown-extensions>=9.9.1\n",
            "  Downloading pymdown_extensions-9.11-py3-none-any.whl (239 kB)\n",
            "\u001b[2K     \u001b[90m━━━━━━━━━━━━━━━━━━━━━━━━━━━━━━━━━━━━━━\u001b[0m \u001b[32m239.9/239.9 kB\u001b[0m \u001b[31m27.1 MB/s\u001b[0m eta \u001b[36m0:00:00\u001b[0m\n",
            "\u001b[?25hRequirement already satisfied: regex>=2022.4.24 in /usr/local/lib/python3.9/dist-packages (from mkdocs-material>=9.0.5->jarvis_leaderboard) (2022.10.31)\n",
            "Requirement already satisfied: typing-extensions>=4.2.0 in /usr/local/lib/python3.9/dist-packages (from pydantic>=1.8.1->jarvis_leaderboard) (4.5.0)\n",
            "Requirement already satisfied: threadpoolctl>=2.0.0 in /usr/local/lib/python3.9/dist-packages (from scikit-learn>=0.24.1->jarvis_leaderboard) (3.1.0)\n",
            "Requirement already satisfied: MarkupSafe>=2.0 in /usr/local/lib/python3.9/dist-packages (from jinja2>=3.0->mkdocs-material>=9.0.5->jarvis_leaderboard) (2.1.2)\n",
            "Requirement already satisfied: pillow>=6.2.0 in /usr/local/lib/python3.9/dist-packages (from matplotlib>=3.0.0->jarvis-tools>=2021.07.19->jarvis_leaderboard) (8.4.0)\n",
            "Requirement already satisfied: packaging>=20.0 in /usr/local/lib/python3.9/dist-packages (from matplotlib>=3.0.0->jarvis-tools>=2021.07.19->jarvis_leaderboard) (23.1)\n",
            "Requirement already satisfied: importlib-resources>=3.2.0 in /usr/local/lib/python3.9/dist-packages (from matplotlib>=3.0.0->jarvis-tools>=2021.07.19->jarvis_leaderboard) (5.12.0)\n",
            "Requirement already satisfied: contourpy>=1.0.1 in /usr/local/lib/python3.9/dist-packages (from matplotlib>=3.0.0->jarvis-tools>=2021.07.19->jarvis_leaderboard) (1.0.7)\n",
            "Requirement already satisfied: fonttools>=4.22.0 in /usr/local/lib/python3.9/dist-packages (from matplotlib>=3.0.0->jarvis-tools>=2021.07.19->jarvis_leaderboard) (4.39.3)\n",
            "Requirement already satisfied: pyparsing>=2.3.1 in /usr/local/lib/python3.9/dist-packages (from matplotlib>=3.0.0->jarvis-tools>=2021.07.19->jarvis_leaderboard) (2.4.7)\n",
            "Requirement already satisfied: kiwisolver>=1.0.1 in /usr/local/lib/python3.9/dist-packages (from matplotlib>=3.0.0->jarvis-tools>=2021.07.19->jarvis_leaderboard) (1.4.4)\n",
            "Requirement already satisfied: cycler>=0.10 in /usr/local/lib/python3.9/dist-packages (from matplotlib>=3.0.0->jarvis-tools>=2021.07.19->jarvis_leaderboard) (0.11.0)\n",
            "Requirement already satisfied: importlib-metadata>=4.3 in /usr/local/lib/python3.9/dist-packages (from mkdocs>=1.4.2->mkdocs-material>=9.0.5->jarvis_leaderboard) (6.4.1)\n",
            "Collecting ghp-import>=1.0\n",
            "  Downloading ghp_import-2.1.0-py3-none-any.whl (11 kB)\n",
            "Collecting mergedeep>=1.3.4\n",
            "  Downloading mergedeep-1.3.4-py3-none-any.whl (6.4 kB)\n",
            "Requirement already satisfied: pyyaml>=5.1 in /usr/local/lib/python3.9/dist-packages (from mkdocs>=1.4.2->mkdocs-material>=9.0.5->jarvis_leaderboard) (6.0)\n",
            "Collecting pyyaml-env-tag>=0.1\n",
            "  Downloading pyyaml_env_tag-0.1-py3-none-any.whl (3.9 kB)\n",
            "Requirement already satisfied: click>=7.0 in /usr/local/lib/python3.9/dist-packages (from mkdocs>=1.4.2->mkdocs-material>=9.0.5->jarvis_leaderboard) (8.1.3)\n",
            "Collecting watchdog>=2.0\n",
            "  Downloading watchdog-3.0.0-py3-none-manylinux2014_x86_64.whl (82 kB)\n",
            "\u001b[2K     \u001b[90m━━━━━━━━━━━━━━━━━━━━━━━━━━━━━━━━━━━━━━━━\u001b[0m \u001b[32m82.1/82.1 kB\u001b[0m \u001b[31m11.5 MB/s\u001b[0m eta \u001b[36m0:00:00\u001b[0m\n",
            "\u001b[?25hRequirement already satisfied: six>=1.5 in /usr/local/lib/python3.9/dist-packages (from python-dateutil>=2.7.3->pandas==1.2.4->jarvis_leaderboard) (1.16.0)\n",
            "Requirement already satisfied: charset-normalizer~=2.0.0 in /usr/local/lib/python3.9/dist-packages (from requests>=2.23.0->jarvis-tools>=2021.07.19->jarvis_leaderboard) (2.0.12)\n",
            "Requirement already satisfied: idna<4,>=2.5 in /usr/local/lib/python3.9/dist-packages (from requests>=2.23.0->jarvis-tools>=2021.07.19->jarvis_leaderboard) (3.4)\n",
            "Requirement already satisfied: urllib3<1.27,>=1.21.1 in /usr/local/lib/python3.9/dist-packages (from requests>=2.23.0->jarvis-tools>=2021.07.19->jarvis_leaderboard) (1.26.15)\n",
            "Requirement already satisfied: certifi>=2017.4.17 in /usr/local/lib/python3.9/dist-packages (from requests>=2.23.0->jarvis-tools>=2021.07.19->jarvis_leaderboard) (2022.12.7)\n",
            "Requirement already satisfied: zipp>=0.5 in /usr/local/lib/python3.9/dist-packages (from importlib-metadata>=4.3->mkdocs>=1.4.2->mkdocs-material>=9.0.5->jarvis_leaderboard) (3.15.0)\n",
            "Installing collected packages: watchdog, pyyaml-env-tag, mkdocs-material-extensions, mergedeep, markdown, colorama, pymdown-extensions, pandas, ghp-import, mkdocs, mkdocs-material, jarvis_leaderboard\n",
            "  Attempting uninstall: markdown\n",
            "    Found existing installation: Markdown 3.4.3\n",
            "    Uninstalling Markdown-3.4.3:\n",
            "      Successfully uninstalled Markdown-3.4.3\n",
            "  Attempting uninstall: pandas\n",
            "    Found existing installation: pandas 1.5.3\n",
            "    Uninstalling pandas-1.5.3:\n",
            "      Successfully uninstalled pandas-1.5.3\n",
            "\u001b[31mERROR: pip's dependency resolver does not currently take into account all the packages that are installed. This behaviour is the source of the following dependency conflicts.\n",
            "yfinance 0.2.18 requires pandas>=1.3.0, but you have pandas 1.2.4 which is incompatible.\n",
            "xarray 2022.12.0 requires pandas>=1.3, but you have pandas 1.2.4 which is incompatible.\n",
            "plotnine 0.10.1 requires pandas>=1.3.5, but you have pandas 1.2.4 which is incompatible.\n",
            "mizani 0.8.1 requires pandas>=1.3.5, but you have pandas 1.2.4 which is incompatible.\n",
            "google-colab 1.0.0 requires pandas~=1.5.3, but you have pandas 1.2.4 which is incompatible.\n",
            "arviz 0.15.1 requires pandas>=1.3.0, but you have pandas 1.2.4 which is incompatible.\u001b[0m\u001b[31m\n",
            "\u001b[0mSuccessfully installed colorama-0.4.6 ghp-import-2.1.0 jarvis_leaderboard-2023.4.27 markdown-3.2.1 mergedeep-1.3.4 mkdocs-1.4.2 mkdocs-material-9.1.8 mkdocs-material-extensions-1.1.1 pandas-1.2.4 pymdown-extensions-9.11 pyyaml-env-tag-0.1 watchdog-3.0.0\n"
          ]
        }
      ],
      "source": [
        "pip install  jarvis_leaderboard"
      ]
    },
    {
      "cell_type": "markdown",
      "source": [
        "Check if you can import libraries"
      ],
      "metadata": {
        "id": "94r-fiT7M5Jh"
      }
    },
    {
      "cell_type": "code",
      "source": [
        "import jarvis_leaderboard"
      ],
      "metadata": {
        "id": "x6JlXp7Ibqma"
      },
      "execution_count": 3,
      "outputs": []
    },
    {
      "cell_type": "code",
      "source": [
        "import alignn"
      ],
      "metadata": {
        "id": "pgzOidKRMUj0"
      },
      "execution_count": 4,
      "outputs": []
    },
    {
      "cell_type": "markdown",
      "source": [
        "Let's populate a dataset (AI-SinglePropertyPrediction-exfoliation_energy-dft_3d-test-mae). Files will be saved in the output_path i.e. 'Out' directory"
      ],
      "metadata": {
        "id": "OcIup4i_Mu6A"
      }
    },
    {
      "cell_type": "code",
      "source": [
        "!jarvis_populate_data.py --benchmark_file AI-SinglePropertyPrediction-exfoliation_energy-dft_3d-test-mae --output_path=Out"
      ],
      "metadata": {
        "colab": {
          "base_uri": "https://localhost:8080/"
        },
        "id": "7tY6aR6FLx7Z",
        "outputId": "a6ca8720-4184-4b27-83d6-2243814c7078"
      },
      "execution_count": 5,
      "outputs": [
        {
          "output_type": "stream",
          "name": "stdout",
          "text": [
            "benchmark_file AI-SinglePropertyPrediction-exfoliation_energy-dft_3d-test-mae\n",
            "dataset dft_3d\n",
            "output_path Out\n",
            "property exfoliation_energy\n",
            "method AI\n",
            "task SinglePropertyPrediction\n",
            "id_tag jid\n",
            "dataset file to be used /usr/local/lib/python3.9/dist-packages/jarvis_leaderboard/dataset/AI/SinglePropertyPrediction/dft_3d_exfoliation_energy.json.zip\n",
            "Obtaining 3D dataset 76k ...\n",
            "Reference:https://www.nature.com/articles/s41524-020-00440-1\n",
            "Other versions:https://doi.org/10.6084/m9.figshare.6815699\n",
            "100% 40.8M/40.8M [00:00<00:00, 59.8MiB/s]\n",
            "Loading the zipfile...\n",
            "Loading completed.\n",
            "number of training samples 650\n",
            "number of validation samples 81\n",
            "number of test samples 81\n"
          ]
        }
      ]
    },
    {
      "cell_type": "code",
      "source": [
        "ls Out/dataset_info.json"
      ],
      "metadata": {
        "colab": {
          "base_uri": "https://localhost:8080/"
        },
        "id": "HbFvaor6VL3f",
        "outputId": "b36bacdc-28e2-4cd4-84ac-0a8c341bd4fd"
      },
      "execution_count": 6,
      "outputs": [
        {
          "output_type": "stream",
          "name": "stdout",
          "text": [
            "Out/dataset_info.json\n"
          ]
        }
      ]
    },
    {
      "cell_type": "code",
      "source": [
        "from jarvis.db.jsonutils import loadjson\n",
        "dataset_info = loadjson('Out/dataset_info.json')"
      ],
      "metadata": {
        "id": "CXj5f-gnuZoR"
      },
      "execution_count": 7,
      "outputs": []
    },
    {
      "cell_type": "code",
      "source": [
        "dataset_info"
      ],
      "metadata": {
        "colab": {
          "base_uri": "https://localhost:8080/"
        },
        "id": "cCKKqO72uh-O",
        "outputId": "3650ab9a-334b-4e82-b719-1f78a8c9bd8f"
      },
      "execution_count": 8,
      "outputs": [
        {
          "output_type": "execute_result",
          "data": {
            "text/plain": [
              "{'benchmark_file': 'AI-SinglePropertyPrediction-exfoliation_energy-dft_3d-test-mae',\n",
              " 'dataset': 'dft_3d',\n",
              " 'output_path': 'Out',\n",
              " 'prop': 'exfoliation_energy',\n",
              " 'methods': 'AI',\n",
              " 'id_tag': 'jid',\n",
              " 'n_train': 650,\n",
              " 'n_val': 81,\n",
              " 'n_test': 81}"
            ]
          },
          "metadata": {},
          "execution_count": 8
        }
      ]
    },
    {
      "cell_type": "code",
      "source": [
        "n_train = dataset_info['n_train']\n",
        "n_val = dataset_info['n_val']\n",
        "n_test = dataset_info['n_test']"
      ],
      "metadata": {
        "id": "1zi01V7fulNZ"
      },
      "execution_count": 9,
      "outputs": []
    },
    {
      "cell_type": "markdown",
      "source": [
        "Download an example config file."
      ],
      "metadata": {
        "id": "9nAf1XE9-LvM"
      }
    },
    {
      "cell_type": "code",
      "source": [
        "!wget https://raw.githubusercontent.com/usnistgov/alignn/main/alignn/examples/sample_data/config_example.json"
      ],
      "metadata": {
        "id": "OeRn4mZ99ye1",
        "outputId": "dc732f5f-77b1-45d8-fbb6-3c4268172131",
        "colab": {
          "base_uri": "https://localhost:8080/"
        }
      },
      "execution_count": 10,
      "outputs": [
        {
          "output_type": "stream",
          "name": "stdout",
          "text": [
            "--2023-04-26 12:20:25--  https://raw.githubusercontent.com/usnistgov/alignn/main/alignn/examples/sample_data/config_example.json\n",
            "Resolving raw.githubusercontent.com (raw.githubusercontent.com)... 185.199.108.133, 185.199.109.133, 185.199.110.133, ...\n",
            "Connecting to raw.githubusercontent.com (raw.githubusercontent.com)|185.199.108.133|:443... connected.\n",
            "HTTP request sent, awaiting response... 200 OK\n",
            "Length: 1411 (1.4K) [text/plain]\n",
            "Saving to: ‘config_example.json’\n",
            "\n",
            "config_example.json 100%[===================>]   1.38K  --.-KB/s    in 0s      \n",
            "\n",
            "2023-04-26 12:20:26 (20.0 MB/s) - ‘config_example.json’ saved [1411/1411]\n",
            "\n"
          ]
        }
      ]
    },
    {
      "cell_type": "code",
      "source": [
        "from jarvis.db.jsonutils import loadjson\n",
        "config = loadjson('config_example.json')"
      ],
      "metadata": {
        "id": "TN5z6jwN-Rjw"
      },
      "execution_count": 11,
      "outputs": []
    },
    {
      "cell_type": "code",
      "source": [
        "config"
      ],
      "metadata": {
        "id": "3tbnnbG_-RhO",
        "outputId": "60d17d21-44ec-4749-dc06-392b918d1f32",
        "colab": {
          "base_uri": "https://localhost:8080/"
        }
      },
      "execution_count": 12,
      "outputs": [
        {
          "output_type": "execute_result",
          "data": {
            "text/plain": [
              "{'version': '112bbedebdaecf59fb18e11c929080fb2f358246',\n",
              " 'dataset': 'user_data',\n",
              " 'target': 'target',\n",
              " 'atom_features': 'cgcnn',\n",
              " 'neighbor_strategy': 'k-nearest',\n",
              " 'id_tag': 'jid',\n",
              " 'random_seed': 123,\n",
              " 'classification_threshold': None,\n",
              " 'n_val': None,\n",
              " 'n_test': None,\n",
              " 'n_train': None,\n",
              " 'train_ratio': 0.8,\n",
              " 'val_ratio': 0.1,\n",
              " 'test_ratio': 0.1,\n",
              " 'target_multiplication_factor': None,\n",
              " 'epochs': 3,\n",
              " 'batch_size': 2,\n",
              " 'weight_decay': 1e-05,\n",
              " 'learning_rate': 0.001,\n",
              " 'filename': 'sample',\n",
              " 'warmup_steps': 2000,\n",
              " 'criterion': 'mse',\n",
              " 'optimizer': 'adamw',\n",
              " 'scheduler': 'onecycle',\n",
              " 'pin_memory': False,\n",
              " 'save_dataloader': False,\n",
              " 'write_checkpoint': True,\n",
              " 'write_predictions': True,\n",
              " 'store_outputs': True,\n",
              " 'progress': True,\n",
              " 'log_tensorboard': False,\n",
              " 'standard_scalar_and_pca': False,\n",
              " 'use_canonize': True,\n",
              " 'num_workers': 0,\n",
              " 'cutoff': 8.0,\n",
              " 'max_neighbors': 12,\n",
              " 'keep_data_order': True,\n",
              " 'model': {'name': 'alignn',\n",
              "  'alignn_layers': 4,\n",
              "  'gcn_layers': 4,\n",
              "  'atom_input_features': 92,\n",
              "  'edge_input_features': 80,\n",
              "  'triplet_input_features': 40,\n",
              "  'embedding_features': 64,\n",
              "  'hidden_features': 256,\n",
              "  'output_features': 1,\n",
              "  'link': 'identity',\n",
              "  'zero_inflated': False,\n",
              "  'classification': False}}"
            ]
          },
          "metadata": {},
          "execution_count": 12
        }
      ]
    },
    {
      "cell_type": "code",
      "source": [
        "config['n_train'] = n_train\n",
        "config['n_val'] = n_val\n",
        "config['n_test'] = n_test\n",
        "config['epochs'] = 10\n",
        "config['batch_size'] = 10"
      ],
      "metadata": {
        "id": "Xu_R8UIs-Reo"
      },
      "execution_count": 13,
      "outputs": []
    },
    {
      "cell_type": "code",
      "source": [
        "from jarvis.db.jsonutils import dumpjson\n",
        "dumpjson(data=config,filename='tmp_config.json')"
      ],
      "metadata": {
        "id": "F8WtYauM-RcM"
      },
      "execution_count": 14,
      "outputs": []
    },
    {
      "cell_type": "code",
      "source": [
        "%%time\n",
        "!train_folder.py --root_dir \"Out\" --config \"tmp_config.json\" --output_dir=\"temp\""
      ],
      "metadata": {
        "id": "itTeN3pv-RZb",
        "outputId": "7db30daf-ac70-4b35-921f-56c30272e128",
        "colab": {
          "base_uri": "https://localhost:8080/"
        }
      },
      "execution_count": 15,
      "outputs": [
        {
          "output_type": "stream",
          "name": "stdout",
          "text": [
            "DGL backend not selected or invalid.  Assuming PyTorch for now.\n",
            "Setting the default backend to \"pytorch\". You can change it in the ~/.dgl/config.json file or export the DGLBACKEND environment variable.  Valid options are: pytorch, mxnet, tensorflow (all lowercase)\n",
            "fatal: not a git repository (or any of the parent directories): .git\n",
            "MAX val: 948.93\n",
            "MIN val: 0.03\n",
            "MAD: 62.662647995583484\n",
            "Baseline MAE: 76.21933542260209\n",
            "data range 946.44 0.03\n",
            "  0% 0/650 [00:00<?, ?it/s]/usr/local/lib/python3.9/dist-packages/alignn/graphs.py:237: UserWarning: Creating a tensor from a list of numpy.ndarrays is extremely slow. Please consider converting the list to a single numpy.ndarray with numpy.array() before converting to a tensor. (Triggered internally at ../torch/csrc/utils/tensor_new.cpp:245.)\n",
            "  g.ndata[\"lattice_mat\"] = torch.tensor(\n",
            "100% 650/650 [00:14<00:00, 43.40it/s]\n",
            "df                                                  atoms  ...  target\n",
            "0    {'lattice_mat': [[1.6788427119082352, -2.90784...  ...   40.87\n",
            "1    {'lattice_mat': [[-2.516360412294349, -1.40213...  ...   58.83\n",
            "2    {'lattice_mat': [[3.5533674558418107, -6.15461...  ...  154.11\n",
            "3    {'lattice_mat': [[5.311965820113819, 0.0385802...  ...  165.43\n",
            "4    {'lattice_mat': [[3.8613008205176653, 0.0, 0.0...  ...  100.68\n",
            "..                                                 ...  ...     ...\n",
            "645  {'lattice_mat': [[4.583858216064369, 1.1384795...  ...   88.74\n",
            "646  {'lattice_mat': [[6.433146290515748, -0.006980...  ...  309.41\n",
            "647  {'lattice_mat': [[0.0, 9.235202200918696, 0.01...  ...   71.98\n",
            "648  {'lattice_mat': [[1.4973124616078457, -2.59342...  ...  102.66\n",
            "649  {'lattice_mat': [[0.0, 5.3916359520974, -0.022...  ...   57.90\n",
            "\n",
            "[650 rows x 3 columns]\n",
            "warning: could not load CGCNN features for 103\n",
            "Setting it to max atomic number available here, 103\n",
            "warning: could not load CGCNN features for 101\n",
            "Setting it to max atomic number available here, 103\n",
            "warning: could not load CGCNN features for 102\n",
            "Setting it to max atomic number available here, 103\n",
            "building line graphs\n",
            "100% 650/650 [00:00<00:00, 1091.61it/s]\n",
            "data range 626.82 1.66\n",
            "100% 81/81 [00:02<00:00, 34.83it/s]\n",
            "df                                                 atoms  ...  target\n",
            "0   {'lattice_mat': [[5.953361575487015, 0.0, 0.0]...  ...   58.28\n",
            "1   {'lattice_mat': [[5.804736855171494, -0.000253...  ...   70.61\n",
            "2   {'lattice_mat': [[1.6564578933724148, -2.86906...  ...  499.21\n",
            "3   {'lattice_mat': [[3.743161170200113, -7.973245...  ...   98.60\n",
            "4   {'lattice_mat': [[3.717071220842368, -0.0, -0....  ...   67.95\n",
            "..                                                ...  ...     ...\n",
            "76  {'lattice_mat': [[1.6576291437749715, -2.87109...  ...  423.69\n",
            "77  {'lattice_mat': [[3.700522772090603, -0.0, 0.0...  ...   77.92\n",
            "78  {'lattice_mat': [[3.017672334356827, -5.226761...  ...   56.36\n",
            "79  {'lattice_mat': [[6.019427348340569, 1.996167e...  ...   71.48\n",
            "80  {'lattice_mat': [[4.132761725084036, 0.0, 0.0]...  ...   89.18\n",
            "\n",
            "[81 rows x 3 columns]\n",
            "building line graphs\n",
            "100% 81/81 [00:00<00:00, 1494.01it/s]\n",
            "data range 948.93 25.86\n",
            "100% 81/81 [00:01<00:00, 55.05it/s]\n",
            "df                                                 atoms  ...  target\n",
            "0   {'lattice_mat': [[2.412769046280412, -4.179037...  ...   44.03\n",
            "1   {'lattice_mat': [[6.055525495109404, -0.0, -0....  ...  493.94\n",
            "2   {'lattice_mat': [[7.364740028042619, -6.989286...  ...   83.32\n",
            "3   {'lattice_mat': [[3.7603925530101554, 0.0, -0....  ...   86.28\n",
            "4   {'lattice_mat': [[5.630630677039997, -0.016435...  ...   69.31\n",
            "..                                                ...  ...     ...\n",
            "76  {'lattice_mat': [[3.8829688778759066, 0.0, -0....  ...   75.82\n",
            "77  {'lattice_mat': [[3.801969399487828, -6.585204...  ...  234.05\n",
            "78  {'lattice_mat': [[5.824727628322266, -0.410536...  ...  123.01\n",
            "79  {'lattice_mat': [[2.6702564016171078, 4.602354...  ...   25.86\n",
            "80  {'lattice_mat': [[4.303371068366637, 0.0, 0.0]...  ...   57.39\n",
            "\n",
            "[81 rows x 3 columns]\n",
            "building line graphs\n",
            "100% 81/81 [00:00<00:00, 1773.88it/s]\n",
            "n_train: 650\n",
            "n_val: 81\n",
            "n_test: 81\n",
            "version='112bbedebdaecf59fb18e11c929080fb2f358246' dataset='user_data' target='target' atom_features='cgcnn' neighbor_strategy='k-nearest' id_tag='jid' random_seed=123 classification_threshold=None n_val=81 n_test=81 n_train=650 train_ratio=0.8 val_ratio=0.1 test_ratio=0.1 target_multiplication_factor=None epochs=10 batch_size=10 weight_decay=1e-05 learning_rate=0.001 filename='sample' warmup_steps=2000 criterion='mse' optimizer='adamw' scheduler='onecycle' pin_memory=False save_dataloader=False write_checkpoint=True write_predictions=True store_outputs=True progress=True log_tensorboard=False standard_scalar_and_pca=False use_canonize=True num_workers=0 cutoff=8.0 max_neighbors=12 keep_data_order=False normalize_graph_level_loss=False distributed=False n_early_stopping=None output_dir='temp' model=ALIGNNConfig(name='alignn', alignn_layers=4, gcn_layers=4, atom_input_features=92, edge_input_features=80, triplet_input_features=40, embedding_features=64, hidden_features=256, output_features=1, link='identity', zero_inflated=False, classification=False, num_classes=2)\n",
            "config:\n",
            "{'atom_features': 'cgcnn',\n",
            " 'batch_size': 10,\n",
            " 'classification_threshold': None,\n",
            " 'criterion': 'mse',\n",
            " 'cutoff': 8.0,\n",
            " 'dataset': 'user_data',\n",
            " 'distributed': False,\n",
            " 'epochs': 10,\n",
            " 'filename': 'sample',\n",
            " 'id_tag': 'jid',\n",
            " 'keep_data_order': False,\n",
            " 'learning_rate': 0.001,\n",
            " 'log_tensorboard': False,\n",
            " 'max_neighbors': 12,\n",
            " 'model': {'alignn_layers': 4,\n",
            "           'atom_input_features': 92,\n",
            "           'classification': False,\n",
            "           'edge_input_features': 80,\n",
            "           'embedding_features': 64,\n",
            "           'gcn_layers': 4,\n",
            "           'hidden_features': 256,\n",
            "           'link': 'identity',\n",
            "           'name': 'alignn',\n",
            "           'num_classes': 2,\n",
            "           'output_features': 1,\n",
            "           'triplet_input_features': 40,\n",
            "           'zero_inflated': False},\n",
            " 'n_early_stopping': None,\n",
            " 'n_test': 81,\n",
            " 'n_train': 650,\n",
            " 'n_val': 81,\n",
            " 'neighbor_strategy': 'k-nearest',\n",
            " 'normalize_graph_level_loss': False,\n",
            " 'num_workers': 0,\n",
            " 'optimizer': 'adamw',\n",
            " 'output_dir': 'temp',\n",
            " 'pin_memory': False,\n",
            " 'progress': True,\n",
            " 'random_seed': 123,\n",
            " 'save_dataloader': False,\n",
            " 'scheduler': 'onecycle',\n",
            " 'standard_scalar_and_pca': False,\n",
            " 'store_outputs': True,\n",
            " 'target': 'target',\n",
            " 'target_multiplication_factor': None,\n",
            " 'test_ratio': 0.1,\n",
            " 'train_ratio': 0.8,\n",
            " 'use_canonize': True,\n",
            " 'val_ratio': 0.1,\n",
            " 'version': '112bbedebdaecf59fb18e11c929080fb2f358246',\n",
            " 'warmup_steps': 2000,\n",
            " 'weight_decay': 1e-05,\n",
            " 'write_checkpoint': True,\n",
            " 'write_predictions': True}\n",
            "/usr/local/lib/python3.9/dist-packages/dgl/backend/pytorch/tensor.py:449: UserWarning: TypedStorage is deprecated. It will be removed in the future and UntypedStorage will be the only storage class. This should only matter to you if you are using storages directly.  To access UntypedStorage directly, use tensor.untyped_storage() instead of tensor.storage()\n",
            "  assert input.numel() == input.storage().size(), (\n",
            "/usr/local/lib/python3.9/dist-packages/torch/nn/modules/linear.py:114: UserWarning: Deterministic behavior was enabled with either `torch.use_deterministic_algorithms(True)` or `at::Context::setDeterministicAlgorithms(true)`, but this operation is not deterministic because it uses CuBLAS and you have CUDA >= 10.2. To enable deterministic behavior in this case, you must set an environment variable before running your PyTorch application: CUBLAS_WORKSPACE_CONFIG=:4096:8 or CUBLAS_WORKSPACE_CONFIG=:16:8. For more information, go to https://docs.nvidia.com/cuda/cublas/index.html#cublasApi_reproducibility (Triggered internally at ../aten/src/ATen/Context.cpp:156.)\n",
            "  return F.linear(input, self.weight, self.bias)\n",
            "/usr/local/lib/python3.9/dist-packages/torch/autograd/__init__.py:200: UserWarning: Deterministic behavior was enabled with either `torch.use_deterministic_algorithms(True)` or `at::Context::setDeterministicAlgorithms(true)`, but this operation is not deterministic because it uses CuBLAS and you have CUDA >= 10.2. To enable deterministic behavior in this case, you must set an environment variable before running your PyTorch application: CUBLAS_WORKSPACE_CONFIG=:4096:8 or CUBLAS_WORKSPACE_CONFIG=:16:8. For more information, go to https://docs.nvidia.com/cuda/cublas/index.html#cublasApi_reproducibility (Triggered internally at ../aten/src/ATen/Context.cpp:156.)\n",
            "  Variable._execution_engine.run_backward(  # Calls into the C++ engine to run the backward pass\n",
            "Val_MAE: 102.0825\n",
            "Train_MAE: 93.7488\n",
            "Val_MAE: 93.1178\n",
            "Train_MAE: 84.5416\n",
            "Val_MAE: 96.5454\n",
            "Train_MAE: 80.4911\n",
            "Val_MAE: 77.3272\n",
            "Train_MAE: 55.3685\n",
            "Val_MAE: 63.9658\n",
            "Train_MAE: 46.1622\n",
            "Val_MAE: 58.1653\n",
            "Train_MAE: 38.2636\n",
            "Val_MAE: 51.7263\n",
            "Train_MAE: 37.8989\n",
            "Val_MAE: 49.9429\n",
            "Train_MAE: 31.5435\n",
            "Val_MAE: 49.9274\n",
            "Train_MAE: 30.2469\n",
            "Val_MAE: 50.0041\n",
            "Train_MAE: 29.7898\n",
            "Test MAE: 62.07303242624542\n",
            "Time taken (s): 78.93700885772705\n",
            "CPU times: user 1.23 s, sys: 168 ms, total: 1.39 s\n",
            "Wall time: 1min 50s\n"
          ]
        }
      ]
    },
    {
      "cell_type": "markdown",
      "source": [
        "We choose one of the SinglePropertyPrediction tasks from the [leaderboard](https://pages.nist.gov/jarvis_leaderboard/AI/SinglePropertyPrediction/). See other examples in the [alignn_model](https://github.com/usnistgov/jarvis_leaderboard/tree/main/jarvis_leaderboard/benchmarks/alignn_model) benchmark folder"
      ],
      "metadata": {
        "id": "xeAE0LzCnKlE"
      }
    },
    {
      "cell_type": "markdown",
      "source": [
        "Prepare the csv file with six components in the filename."
      ],
      "metadata": {
        "id": "cbMvFvtC7lce"
      }
    },
    {
      "cell_type": "code",
      "source": [
        "import os\n",
        "cwd=os.getcwd()\n",
        "os.makedirs('alignn_test')\n",
        "os.chdir('alignn_test')"
      ],
      "metadata": {
        "id": "vwCFr4h_coY1"
      },
      "execution_count": 16,
      "outputs": []
    },
    {
      "cell_type": "code",
      "source": [
        "!cp ../temp/prediction_results_test_set.csv ./AI-SinglePropertyPrediction-exfoliation_energy-dft_3d-test-mae.csv "
      ],
      "metadata": {
        "id": "QBvvjSzUdYEb"
      },
      "execution_count": 17,
      "outputs": []
    },
    {
      "cell_type": "code",
      "source": [
        "!zip AI-SinglePropertyPrediction-exfoliation_energy-dft_3d-test-mae.csv.zip AI-SinglePropertyPrediction-exfoliation_energy-dft_3d-test-mae.csv "
      ],
      "metadata": {
        "id": "bOSvHHgaARYj",
        "outputId": "2b319ddd-9c51-440a-d0c3-8e5a15e0b206",
        "colab": {
          "base_uri": "https://localhost:8080/"
        }
      },
      "execution_count": 18,
      "outputs": [
        {
          "output_type": "stream",
          "name": "stdout",
          "text": [
            "  adding: AI-SinglePropertyPrediction-exfoliation_energy-dft_3d-test-mae.csv (deflated 59%)\n"
          ]
        }
      ]
    },
    {
      "cell_type": "code",
      "source": [
        "!wget https://raw.githubusercontent.com/usnistgov/jarvis_leaderboard/main/jarvis_leaderboard/benchmarks/alignn_model/metadata.json"
      ],
      "metadata": {
        "id": "iL-GrUkBoYbK",
        "outputId": "79b9e2bf-551c-472a-8c4b-d403d7fc75ac",
        "colab": {
          "base_uri": "https://localhost:8080/"
        }
      },
      "execution_count": 19,
      "outputs": [
        {
          "output_type": "stream",
          "name": "stdout",
          "text": [
            "--2023-04-26 12:22:35--  https://raw.githubusercontent.com/usnistgov/jarvis_leaderboard/main/jarvis_leaderboard/benchmarks/alignn_model/metadata.json\n",
            "Resolving raw.githubusercontent.com (raw.githubusercontent.com)... 185.199.110.133, 185.199.108.133, 185.199.109.133, ...\n",
            "Connecting to raw.githubusercontent.com (raw.githubusercontent.com)|185.199.110.133|:443... connected.\n",
            "HTTP request sent, awaiting response... 200 OK\n",
            "Length: 391 [text/plain]\n",
            "Saving to: ‘metadata.json’\n",
            "\n",
            "\rmetadata.json         0%[                    ]       0  --.-KB/s               \rmetadata.json       100%[===================>]     391  --.-KB/s    in 0s      \n",
            "\n",
            "2023-04-26 12:22:36 (24.2 MB/s) - ‘metadata.json’ saved [391/391]\n",
            "\n"
          ]
        }
      ]
    },
    {
      "cell_type": "code",
      "source": [
        "!rm AI-SinglePropertyPrediction-exfoliation_energy-dft_3d-test-mae.csv "
      ],
      "metadata": {
        "id": "fHONp3dHCdC1"
      },
      "execution_count": 20,
      "outputs": []
    },
    {
      "cell_type": "code",
      "source": [
        "from jarvis.db.jsonutils import loadjson,dumpjson\n",
        "meta = loadjson('metadata.json')"
      ],
      "metadata": {
        "id": "Gjsb_XYmoY_F"
      },
      "execution_count": 21,
      "outputs": []
    },
    {
      "cell_type": "code",
      "source": [
        "meta"
      ],
      "metadata": {
        "id": "ac19fH7jojF5",
        "outputId": "c10a1c6d-28ab-49fa-c97a-5a6122f82c24",
        "colab": {
          "base_uri": "https://localhost:8080/"
        }
      },
      "execution_count": 22,
      "outputs": [
        {
          "output_type": "execute_result",
          "data": {
            "text/plain": [
              "{'model_name': 'ALIGNN',\n",
              " 'project_url': 'https://www.nature.com/articles/s41524-021-00650-1',\n",
              " 'date_submitted': '01-14-2023',\n",
              " 'author_email': 'knc6@nist.gov',\n",
              " 'database_version': '12-12-2022',\n",
              " 'team_name': 'JARVIS',\n",
              " 'time_taken_seconds': 458.17,\n",
              " 'language': 'python',\n",
              " 'os': 'linux',\n",
              " 'software_used': 'jarvis-tools,numpy,scipy,torch,alignn',\n",
              " 'harware_used': 'nisaba-cluster at NIST, V100 Tesla GPU'}"
            ]
          },
          "metadata": {},
          "execution_count": 22
        }
      ]
    },
    {
      "cell_type": "code",
      "source": [
        "meta['model_name'] = 'alignn_test'\n",
        "\n",
        "# TODO: Add other details\n",
        "dumpjson(data=meta,filename='metadata.json')"
      ],
      "metadata": {
        "id": "SltvTqYcolz5"
      },
      "execution_count": 23,
      "outputs": []
    },
    {
      "cell_type": "code",
      "source": [
        "!wget https://raw.githubusercontent.com/usnistgov/jarvis_leaderboard/main/jarvis_leaderboard/benchmarks/alignn_model/run.sh"
      ],
      "metadata": {
        "id": "6-re0TtspSlP",
        "outputId": "09439551-94f7-4f83-9b5e-2800f0037b02",
        "colab": {
          "base_uri": "https://localhost:8080/"
        }
      },
      "execution_count": 24,
      "outputs": [
        {
          "output_type": "stream",
          "name": "stdout",
          "text": [
            "--2023-04-26 12:22:40--  https://raw.githubusercontent.com/usnistgov/jarvis_leaderboard/main/jarvis_leaderboard/benchmarks/alignn_model/run.sh\n",
            "Resolving raw.githubusercontent.com (raw.githubusercontent.com)... 185.199.108.133, 185.199.109.133, 185.199.110.133, ...\n",
            "Connecting to raw.githubusercontent.com (raw.githubusercontent.com)|185.199.108.133|:443... connected.\n",
            "HTTP request sent, awaiting response... 200 OK\n",
            "Length: 54 [text/plain]\n",
            "Saving to: ‘run.sh’\n",
            "\n",
            "\rrun.sh                0%[                    ]       0  --.-KB/s               \rrun.sh              100%[===================>]      54  --.-KB/s    in 0s      \n",
            "\n",
            "2023-04-26 12:22:40 (3.39 MB/s) - ‘run.sh’ saved [54/54]\n",
            "\n"
          ]
        }
      ]
    },
    {
      "cell_type": "code",
      "source": [
        "os.chdir(cwd)"
      ],
      "metadata": {
        "id": "D_1pKCUGpa6d"
      },
      "execution_count": 25,
      "outputs": []
    },
    {
      "cell_type": "markdown",
      "source": [
        "Add github username "
      ],
      "metadata": {
        "id": "0bWNdUBpby_x"
      }
    },
    {
      "cell_type": "code",
      "source": [
        "!git config --global user.name \"knc6\"\n",
        "!git config --global user.email \"writetokamal.1989@gmail.com\""
      ],
      "metadata": {
        "id": "k-3r4OXObj3N"
      },
      "execution_count": 26,
      "outputs": []
    },
    {
      "cell_type": "markdown",
      "source": [
        "1. Replace knc6 by your own GitHub username.\n",
        "2. You might have to add your [GitHub password/token](https://github.com/settings/tokens) twice at the command prompt after you run the following command.\n",
        "3. This will create a new pull request at the parent repo: https://github.com/usnistgov/jarvis_leaderboard/pulls\n",
        "4. After an admin approves the contribution, the benchmark will be added to the main website.\n"
      ],
      "metadata": {
        "id": "ikxgIY6Tx4tn"
      }
    },
    {
      "cell_type": "code",
      "source": [
        "!jarvis_upload.py --your_benchmark_directory  alignn_test --github_username knc6 "
      ],
      "metadata": {
        "id": "_hwOanLDhmiq"
      },
      "execution_count": null,
      "outputs": []
    },
    {
      "cell_type": "markdown",
      "source": [
        "The above script automatically:\n",
        "\n",
        "   a) forks the jarvis_leaderboard repo from `https://github.com/usnistgov/jarvis_leaderboard` to your GitHub account,\n",
        "\n",
        "   b) clones the forked jarvis_leaderboard from GitHub,  \n",
        "\n",
        "   c) copies the `test_bench` folder in the `jarvis_leaderboard/benchmarks` folder,\n",
        "\n",
        "   d) check if adding your benchmarks breaks the workflow using `rebuild.py` script,\n",
        "\n",
        "   e) `git add`, `git commit`, and `git push` to the forked repo,\n",
        "\n",
        "   f) create a pull request to the main usnistgov repo,\n",
        "\n",
        "   g) an admin will approve the benchmark and new pages will be created.\n"
      ],
      "metadata": {
        "id": "IGPAhF887XQ_"
      }
    },
    {
      "cell_type": "markdown",
      "source": [
        "Please be mindful not to upload too many unnecessary benchmarks. You can learn about the ethics of software development here: https://github.com/usnistgov/jarvis/blob/master/CODE_OF_CONDUCT.md\n",
        "\n",
        "Learn more about NIST-License here: https://github.com/usnistgov/jarvis/blob/master/LICENSE.rst"
      ],
      "metadata": {
        "id": "78WE4qQmEtWo"
      }
    },
    {
      "cell_type": "code",
      "source": [
        "pip freeze"
      ],
      "metadata": {
        "colab": {
          "base_uri": "https://localhost:8080/"
        },
        "id": "JuFXMDIM7XEd",
        "outputId": "c9388149-37fb-424c-ff2a-fd1ea917fc4c"
      },
      "execution_count": 28,
      "outputs": [
        {
          "output_type": "stream",
          "name": "stdout",
          "text": [
            "absl-py==1.4.0\n",
            "alabaster==0.7.13\n",
            "albumentations==1.2.1\n",
            "alignn==2023.4.1\n",
            "altair==4.2.2\n",
            "anyio==3.6.2\n",
            "appdirs==1.4.4\n",
            "argon2-cffi==21.3.0\n",
            "argon2-cffi-bindings==21.2.0\n",
            "arviz==0.15.1\n",
            "ase==3.22.1\n",
            "astropy==5.2.2\n",
            "astunparse==1.6.3\n",
            "attrs==23.1.0\n",
            "audioread==3.0.0\n",
            "autograd==1.5\n",
            "autopep8==2.0.2\n",
            "Babel==2.12.1\n",
            "backcall==0.2.0\n",
            "beautifulsoup4==4.11.2\n",
            "bleach==6.0.0\n",
            "blis==0.7.9\n",
            "blosc2==2.0.0\n",
            "bokeh==2.4.3\n",
            "branca==0.6.0\n",
            "CacheControl==0.12.11\n",
            "cached-property==1.5.2\n",
            "cachetools==5.3.0\n",
            "catalogue==2.0.8\n",
            "certifi==2022.12.7\n",
            "cffi==1.15.1\n",
            "chardet==4.0.0\n",
            "charset-normalizer==2.0.12\n",
            "chex==0.1.7\n",
            "click==8.1.3\n",
            "cloudpickle==2.2.1\n",
            "cmake==3.25.2\n",
            "cmdstanpy==1.1.0\n",
            "colorama==0.4.6\n",
            "colorcet==3.0.1\n",
            "colorlover==0.3.0\n",
            "community==1.0.0b1\n",
            "confection==0.0.4\n",
            "cons==0.4.5\n",
            "contextlib2==0.6.0.post1\n",
            "contourpy==1.0.7\n",
            "convertdate==2.4.0\n",
            "cryptography==40.0.2\n",
            "cufflinks==0.17.3\n",
            "cupy-cuda11x==11.0.0\n",
            "cvxopt==1.3.0\n",
            "cvxpy==1.3.1\n",
            "cycler==0.11.0\n",
            "cymem==2.0.7\n",
            "Cython==0.29.34\n",
            "dask==2022.12.1\n",
            "datascience==0.17.6\n",
            "db-dtypes==1.1.1\n",
            "dbus-python==1.2.16\n",
            "debugpy==1.6.6\n",
            "decorator==4.4.2\n",
            "defusedxml==0.7.1\n",
            "dgl==1.0.1\n",
            "dglgo==0.0.2\n",
            "distributed==2022.12.1\n",
            "dlib==19.24.1\n",
            "dm-tree==0.1.8\n",
            "docutils==0.19\n",
            "dopamine-rl==4.0.6\n",
            "duckdb==0.7.1\n",
            "earthengine-api==0.1.349\n",
            "easydict==1.10\n",
            "ecos==2.0.12\n",
            "editdistance==0.6.2\n",
            "en-core-web-sm @ https://github.com/explosion/spacy-models/releases/download/en_core_web_sm-3.5.0/en_core_web_sm-3.5.0-py3-none-any.whl\n",
            "entrypoints==0.4\n",
            "ephem==4.1.4\n",
            "et-xmlfile==1.1.0\n",
            "etils==1.2.0\n",
            "etuples==0.3.8\n",
            "exceptiongroup==1.1.1\n",
            "fastai==2.7.12\n",
            "fastcore==1.5.29\n",
            "fastdownload==0.0.7\n",
            "fastjsonschema==2.16.3\n",
            "fastprogress==1.0.3\n",
            "fastrlock==0.8.1\n",
            "filelock==3.11.0\n",
            "firebase-admin==5.3.0\n",
            "flake8==6.0.0\n",
            "Flask==2.2.3\n",
            "flatbuffers==23.3.3\n",
            "flax==0.6.8\n",
            "folium==0.14.0\n",
            "fonttools==4.39.3\n",
            "frozendict==2.3.7\n",
            "fsspec==2023.4.0\n",
            "future==0.18.3\n",
            "gast==0.4.0\n",
            "GDAL==3.3.2\n",
            "gdown==4.6.6\n",
            "gensim==4.3.1\n",
            "geographiclib==2.0\n",
            "geopy==2.3.0\n",
            "ghp-import==2.1.0\n",
            "gin-config==0.5.0\n",
            "glob2==0.7\n",
            "google==2.0.3\n",
            "google-api-core==2.11.0\n",
            "google-api-python-client==2.84.0\n",
            "google-auth==2.17.3\n",
            "google-auth-httplib2==0.1.0\n",
            "google-auth-oauthlib==1.0.0\n",
            "google-cloud-bigquery==3.9.0\n",
            "google-cloud-bigquery-storage==2.19.1\n",
            "google-cloud-core==2.3.2\n",
            "google-cloud-datastore==2.15.1\n",
            "google-cloud-firestore==2.11.0\n",
            "google-cloud-language==2.9.1\n",
            "google-cloud-storage==2.8.0\n",
            "google-cloud-translate==3.11.1\n",
            "google-colab @ file:///colabtools/dist/google-colab-1.0.0.tar.gz\n",
            "google-crc32c==1.5.0\n",
            "google-pasta==0.2.0\n",
            "google-resumable-media==2.4.1\n",
            "googleapis-common-protos==1.59.0\n",
            "googledrivedownloader==0.4\n",
            "graphviz==0.20.1\n",
            "greenlet==2.0.2\n",
            "grpcio==1.53.0\n",
            "grpcio-status==1.48.2\n",
            "gspread==3.4.2\n",
            "gspread-dataframe==3.0.8\n",
            "gym==0.25.2\n",
            "gym-notices==0.0.8\n",
            "h5netcdf==1.1.0\n",
            "h5py==3.8.0\n",
            "HeapDict==1.0.1\n",
            "hijri-converter==2.2.4\n",
            "holidays==0.22\n",
            "holoviews==1.15.4\n",
            "html5lib==1.1\n",
            "httpimport==1.3.0\n",
            "httplib2==0.21.0\n",
            "humanize==4.6.0\n",
            "hyperopt==0.2.7\n",
            "idna==3.4\n",
            "imageio==2.25.1\n",
            "imageio-ffmpeg==0.4.8\n",
            "imagesize==1.4.1\n",
            "imbalanced-learn==0.10.1\n",
            "imgaug==0.4.0\n",
            "importlib-metadata==6.4.1\n",
            "importlib-resources==5.12.0\n",
            "imutils==0.5.4\n",
            "inflect==6.0.4\n",
            "iniconfig==2.0.0\n",
            "intel-openmp==2023.1.0\n",
            "ipykernel==5.5.6\n",
            "ipython==7.34.0\n",
            "ipython-genutils==0.2.0\n",
            "ipython-sql==0.4.1\n",
            "ipywidgets==7.7.1\n",
            "isort==6.0.0b2\n",
            "itsdangerous==2.1.2\n",
            "jarvis-leaderboard==2023.4.27\n",
            "jarvis-tools==2023.4.6\n",
            "jax==0.4.8\n",
            "jaxlib @ https://storage.googleapis.com/jax-releases/cuda11/jaxlib-0.4.7+cuda11.cudnn86-cp39-cp39-manylinux2014_x86_64.whl\n",
            "jieba==0.42.1\n",
            "Jinja2==3.1.2\n",
            "joblib==1.2.0\n",
            "jsonpickle==3.0.1\n",
            "jsonschema==4.3.3\n",
            "jupyter-client==6.1.12\n",
            "jupyter-console==6.1.0\n",
            "jupyter-server==1.24.0\n",
            "jupyter_core==5.3.0\n",
            "jupyterlab-pygments==0.2.2\n",
            "jupyterlab-widgets==3.0.7\n",
            "kaggle==1.5.13\n",
            "keras==2.12.0\n",
            "keras-vis==0.4.1\n",
            "kiwisolver==1.4.4\n",
            "korean-lunar-calendar==0.3.1\n",
            "langcodes==3.3.0\n",
            "lazy_loader==0.2\n",
            "libclang==16.0.0\n",
            "librosa==0.10.0.post2\n",
            "lightgbm==3.3.5\n",
            "lit==16.0.1\n",
            "littleutils==0.2.2\n",
            "llvmlite==0.39.1\n",
            "locket==1.0.0\n",
            "logical-unification==0.4.5\n",
            "LunarCalendar==0.0.9\n",
            "lxml==4.9.2\n",
            "Markdown==3.2.1\n",
            "markdown-it-py==2.2.0\n",
            "MarkupSafe==2.1.2\n",
            "matplotlib==3.7.1\n",
            "matplotlib-inline==0.1.6\n",
            "matplotlib-venn==0.11.9\n",
            "mccabe==0.7.0\n",
            "mdurl==0.1.2\n",
            "mergedeep==1.3.4\n",
            "miniKanren==1.0.3\n",
            "missingno==0.5.2\n",
            "mistune==0.8.4\n",
            "mizani==0.8.1\n",
            "mkdocs==1.4.2\n",
            "mkdocs-material==9.1.8\n",
            "mkdocs-material-extensions==1.1.1\n",
            "mkl==2019.0\n",
            "ml-dtypes==0.1.0\n",
            "mlxtend==0.14.0\n",
            "more-itertools==9.1.0\n",
            "moviepy==1.0.3\n",
            "mpmath==1.3.0\n",
            "msgpack==1.0.5\n",
            "multipledispatch==0.6.0\n",
            "multitasking==0.0.11\n",
            "murmurhash==1.0.9\n",
            "music21==8.1.0\n",
            "natsort==8.3.1\n",
            "nbclient==0.7.3\n",
            "nbconvert==6.5.4\n",
            "nbformat==5.8.0\n",
            "nest-asyncio==1.5.6\n",
            "networkx==3.1\n",
            "nibabel==3.0.2\n",
            "nltk==3.8.1\n",
            "notebook==6.4.8\n",
            "numba==0.56.4\n",
            "numexpr==2.8.4\n",
            "numpy==1.22.4\n",
            "numpydoc==1.5.0\n",
            "oauth2client==4.1.3\n",
            "oauthlib==3.2.2\n",
            "ogb==1.3.6\n",
            "opencv-contrib-python==4.7.0.72\n",
            "opencv-python==4.7.0.72\n",
            "opencv-python-headless==4.7.0.72\n",
            "openpyxl==3.0.10\n",
            "opt-einsum==3.3.0\n",
            "optax==0.1.4\n",
            "orbax==0.1.7\n",
            "osqp==0.6.2.post0\n",
            "outdated==0.2.2\n",
            "packaging==23.1\n",
            "palettable==3.3.2\n",
            "pandas==1.2.4\n",
            "pandas-datareader==0.10.0\n",
            "pandas-gbq==0.17.9\n",
            "pandocfilters==1.5.0\n",
            "panel==0.14.4\n",
            "param==1.13.0\n",
            "parso==0.8.3\n",
            "partd==1.4.0\n",
            "pathlib==1.0.1\n",
            "pathy==0.10.1\n",
            "patsy==0.5.3\n",
            "pep517==0.13.0\n",
            "pexpect==4.8.0\n",
            "pickleshare==0.7.5\n",
            "Pillow==8.4.0\n",
            "pip-tools==6.6.2\n",
            "platformdirs==3.2.0\n",
            "plotly==5.13.1\n",
            "plotnine==0.10.1\n",
            "pluggy==1.0.0\n",
            "polars==0.17.3\n",
            "pooch==1.6.0\n",
            "portpicker==1.3.9\n",
            "prefetch-generator==1.0.3\n",
            "preshed==3.0.8\n",
            "prettytable==0.7.2\n",
            "proglog==0.1.10\n",
            "progressbar2==4.2.0\n",
            "prometheus-client==0.16.0\n",
            "promise==2.3\n",
            "prompt-toolkit==3.0.38\n",
            "prophet==1.1.2\n",
            "proto-plus==1.22.2\n",
            "protobuf==3.20.3\n",
            "psutil==5.9.5\n",
            "psycopg2==2.9.6\n",
            "ptyprocess==0.7.0\n",
            "py-cpuinfo==9.0.0\n",
            "py4j==0.10.9.7\n",
            "pyarrow==9.0.0\n",
            "pyasn1==0.4.8\n",
            "pyasn1-modules==0.2.8\n",
            "pycocotools==2.0.6\n",
            "pycodestyle==2.10.0\n",
            "pycparser==2.21\n",
            "pyct==0.5.0\n",
            "pydantic==1.10.7\n",
            "pydata-google-auth==1.7.0\n",
            "pydocstyle==6.3.0\n",
            "pydot==1.4.2\n",
            "pydot-ng==2.0.0\n",
            "pydotplus==2.0.2\n",
            "PyDrive==1.3.1\n",
            "pyerfa==2.0.0.3\n",
            "pyflakes==3.0.1\n",
            "pygame==2.3.0\n",
            "Pygments==2.14.0\n",
            "PyGObject==3.36.0\n",
            "pymc==5.1.2\n",
            "pymdown-extensions==9.11\n",
            "PyMeeus==0.5.12\n",
            "pymystem3==0.2.0\n",
            "PyOpenGL==3.1.6\n",
            "pyparsing==2.4.7\n",
            "pyrsistent==0.19.3\n",
            "PySocks==1.7.1\n",
            "pytensor==2.10.1\n",
            "pytest==7.2.2\n",
            "python-apt==0.0.0\n",
            "python-dateutil==2.8.2\n",
            "python-louvain==0.16\n",
            "python-slugify==8.0.1\n",
            "python-utils==3.5.2\n",
            "pytorch-ignite==0.5.0.dev20230426\n",
            "pytz==2022.7.1\n",
            "pytz-deprecation-shim==0.1.0.post0\n",
            "pyviz-comms==2.2.1\n",
            "PyWavelets==1.4.1\n",
            "PyYAML==6.0\n",
            "pyyaml_env_tag==0.1\n",
            "pyzmq==23.2.1\n",
            "qdldl==0.1.7\n",
            "qudida==0.0.4\n",
            "rdkit-pypi==2022.9.5\n",
            "regex==2022.10.31\n",
            "requests==2.27.1\n",
            "requests-oauthlib==1.3.1\n",
            "requests-unixsocket==0.2.0\n",
            "rich==13.3.4\n",
            "rpy2==3.5.5\n",
            "rsa==4.9\n",
            "ruamel.yaml==0.17.21\n",
            "ruamel.yaml.clib==0.2.7\n",
            "scikit-image==0.19.3\n",
            "scikit-learn==1.2.2\n",
            "scipy==1.10.1\n",
            "scs==3.2.3\n",
            "seaborn==0.12.2\n",
            "Send2Trash==1.8.0\n",
            "shapely==2.0.1\n",
            "six==1.16.0\n",
            "sklearn-pandas==2.2.0\n",
            "smart-open==6.3.0\n",
            "sniffio==1.3.0\n",
            "snowballstemmer==2.2.0\n",
            "sortedcontainers==2.4.0\n",
            "soundfile==0.12.1\n",
            "soupsieve==2.4.1\n",
            "soxr==0.3.5\n",
            "spacy==3.5.2\n",
            "spacy-legacy==3.0.12\n",
            "spacy-loggers==1.0.4\n",
            "spglib==2.0.2\n",
            "Sphinx==6.2.1\n",
            "sphinxcontrib-applehelp==1.0.4\n",
            "sphinxcontrib-devhelp==1.0.2\n",
            "sphinxcontrib-htmlhelp==2.0.1\n",
            "sphinxcontrib-jsmath==1.0.1\n",
            "sphinxcontrib-qthelp==1.0.3\n",
            "sphinxcontrib-serializinghtml==1.1.5\n",
            "SQLAlchemy==2.0.9\n",
            "sqlparse==0.4.3\n",
            "srsly==2.4.6\n",
            "statsmodels==0.13.5\n",
            "sympy==1.11.1\n",
            "tables==3.8.0\n",
            "tabulate==0.8.10\n",
            "tblib==1.7.0\n",
            "tenacity==8.2.2\n",
            "tensorboard==2.12.2\n",
            "tensorboard-data-server==0.7.0\n",
            "tensorboard-plugin-wit==1.8.1\n",
            "tensorflow==2.12.0\n",
            "tensorflow-datasets==4.8.3\n",
            "tensorflow-estimator==2.12.0\n",
            "tensorflow-gcs-config==2.12.0\n",
            "tensorflow-hub==0.13.0\n",
            "tensorflow-io-gcs-filesystem==0.32.0\n",
            "tensorflow-metadata==1.13.1\n",
            "tensorflow-probability==0.19.0\n",
            "tensorstore==0.1.35\n",
            "termcolor==2.2.0\n",
            "terminado==0.17.1\n",
            "text-unidecode==1.3\n",
            "textblob==0.17.1\n",
            "tf-slim==1.1.0\n",
            "thinc==8.1.9\n",
            "threadpoolctl==3.1.0\n",
            "tifffile==2023.4.12\n",
            "tinycss2==1.2.1\n",
            "toml==0.10.2\n",
            "tomli==2.0.1\n",
            "toolz==0.12.0\n",
            "torch @ https://download.pytorch.org/whl/cu118/torch-2.0.0%2Bcu118-cp39-cp39-linux_x86_64.whl\n",
            "torchaudio @ https://download.pytorch.org/whl/cu118/torchaudio-2.0.1%2Bcu118-cp39-cp39-linux_x86_64.whl\n",
            "torchdata==0.6.0\n",
            "torchsummary==1.5.1\n",
            "torchtext==0.15.1\n",
            "torchvision @ https://download.pytorch.org/whl/cu118/torchvision-0.15.1%2Bcu118-cp39-cp39-linux_x86_64.whl\n",
            "tornado==6.2\n",
            "tqdm==4.65.0\n",
            "traitlets==5.7.1\n",
            "triton==2.0.0\n",
            "tweepy==4.13.0\n",
            "typer==0.7.0\n",
            "typing_extensions==4.5.0\n",
            "tzdata==2023.3\n",
            "tzlocal==4.3\n",
            "uritemplate==4.1.1\n",
            "urllib3==1.26.15\n",
            "vega-datasets==0.9.0\n",
            "wasabi==1.1.1\n",
            "watchdog==3.0.0\n",
            "wcwidth==0.2.6\n",
            "webcolors==1.13\n",
            "webencodings==0.5.1\n",
            "websocket-client==1.5.1\n",
            "Werkzeug==2.2.3\n",
            "widgetsnbextension==3.6.4\n",
            "wordcloud==1.8.2.2\n",
            "wrapt==1.14.1\n",
            "xarray==2022.12.0\n",
            "xarray-einstats==0.5.1\n",
            "xgboost==1.7.5\n",
            "xlrd==2.0.1\n",
            "xmltodict==0.13.0\n",
            "yellowbrick==1.5\n",
            "yfinance==0.2.18\n",
            "zict==2.2.0\n",
            "zipp==3.15.0\n"
          ]
        }
      ]
    },
    {
      "cell_type": "code",
      "source": [],
      "metadata": {
        "id": "tWyQbo1hpjXT"
      },
      "execution_count": 28,
      "outputs": []
    }
  ]
}