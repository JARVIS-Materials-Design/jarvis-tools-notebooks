{
  "nbformat": 4,
  "nbformat_minor": 0,
  "metadata": {
    "colab": {
      "name": "Training_ALIGNN_model_example.ipynb",
      "provenance": [],
      "include_colab_link": true
    },
    "kernelspec": {
      "display_name": "Python 3",
      "name": "python3"
    },
    "language_info": {
      "name": "python"
    },
    "accelerator": "GPU"
  },
  "cells": [
    {
      "cell_type": "markdown",
      "metadata": {
        "id": "view-in-github",
        "colab_type": "text"
      },
      "source": [
        "<a href=\"https://colab.research.google.com/github/RamyaGuru/jarvis-tools-notebooks/blob/master/jarvis-tools-notebooks/ALIGNN_example_AIMS.ipynb\" target=\"_parent\"><img src=\"https://colab.research.google.com/assets/colab-badge.svg\" alt=\"Open In Colab\"/></a>"
      ]
    },
    {
      "cell_type": "markdown",
      "source": [
        "# Atomistic Line Graph Neural Network (ALIGNN)\n",
        "\n",
        "The ALIGNN framework (reference [paper](https://www.nature.com/articles/s41524-021-00650-1/)) is used to encode crystal structure information in graph representations which then interfaces with a message passing neural network. This neural network framework can update the embeddings of nodes and edges in the graph while retaining graph connectivity and allowing neighboring nodes and edges to exchange information (pass messages) about their state."
      ],
      "metadata": {
        "id": "hPeZy74diOw1"
      }
    },
    {
      "cell_type": "markdown",
      "metadata": {
        "id": "OUZGR6D82ij-"
      },
      "source": [
        "# Table of contents\n",
        "\n",
        "1. Installing [ALIGNN](https://github.com/usnistgov/alignn)\n",
        "2. Training [JARVIS-DFT](https://jarvis.nist.gov/jarvisdft) 2D exfoliation energy model \n",
        "5. Using trained models to make fast predictions for compounds with unknown exfoliation energies"
      ]
    },
    {
      "cell_type": "code",
      "metadata": {
        "id": "WFrl_N-S1Bxk",
        "outputId": "7457f221-89ab-4249-a558-d75d22a14680",
        "colab": {
          "base_uri": "https://localhost:8080/"
        },
        "collapsed": true
      },
      "source": [
        "!pip install alignn"
      ],
      "execution_count": 14,
      "outputs": [
        {
          "output_type": "stream",
          "name": "stdout",
          "text": [
            "Looking in indexes: https://pypi.org/simple, https://us-python.pkg.dev/colab-wheels/public/simple/\n",
            "Requirement already satisfied: alignn in /usr/local/lib/python3.7/dist-packages (2022.1.25)\n",
            "Requirement already satisfied: torch>=1.7.1 in /usr/local/lib/python3.7/dist-packages (from alignn) (1.11.0+cu113)\n",
            "Requirement already satisfied: tqdm>=4.60.0 in /usr/local/lib/python3.7/dist-packages (from alignn) (4.64.0)\n",
            "Requirement already satisfied: pyparsing<3,>=2.2.1 in /usr/local/lib/python3.7/dist-packages (from alignn) (2.4.7)\n",
            "Requirement already satisfied: flake8>=3.9.1 in /usr/local/lib/python3.7/dist-packages (from alignn) (4.0.1)\n",
            "Requirement already satisfied: jarvis-tools>=2021.07.19 in /usr/local/lib/python3.7/dist-packages (from alignn) (2022.5.20)\n",
            "Requirement already satisfied: scikit-learn>=0.22.2 in /usr/local/lib/python3.7/dist-packages (from alignn) (1.0.2)\n",
            "Requirement already satisfied: pytorch-ignite>=0.4.7 in /usr/local/lib/python3.7/dist-packages (from alignn) (0.4.9)\n",
            "Requirement already satisfied: matplotlib>=3.4.1 in /usr/local/lib/python3.7/dist-packages (from alignn) (3.5.2)\n",
            "Requirement already satisfied: pydocstyle>=6.0.0 in /usr/local/lib/python3.7/dist-packages (from alignn) (6.1.1)\n",
            "Requirement already satisfied: dgl>=0.6.0 in /usr/local/lib/python3.7/dist-packages (from alignn) (0.6.1)\n",
            "Requirement already satisfied: numpy>=1.19.5 in /usr/local/lib/python3.7/dist-packages (from alignn) (1.21.6)\n",
            "Requirement already satisfied: pandas>=1.2.3 in /usr/local/lib/python3.7/dist-packages (from alignn) (1.3.5)\n",
            "Requirement already satisfied: scipy>=1.6.1 in /usr/local/lib/python3.7/dist-packages (from alignn) (1.7.3)\n",
            "Requirement already satisfied: pydantic>=1.8.1 in /usr/local/lib/python3.7/dist-packages (from alignn) (1.8.2)\n",
            "Requirement already satisfied: pycodestyle>=2.7.0 in /usr/local/lib/python3.7/dist-packages (from alignn) (2.8.0)\n",
            "Requirement already satisfied: requests>=2.19.0 in /usr/local/lib/python3.7/dist-packages (from dgl>=0.6.0->alignn) (2.23.0)\n",
            "Requirement already satisfied: networkx>=2.1 in /usr/local/lib/python3.7/dist-packages (from dgl>=0.6.0->alignn) (2.6.3)\n",
            "Requirement already satisfied: importlib-metadata<4.3 in /usr/local/lib/python3.7/dist-packages (from flake8>=3.9.1->alignn) (4.2.0)\n",
            "Requirement already satisfied: pyflakes<2.5.0,>=2.4.0 in /usr/local/lib/python3.7/dist-packages (from flake8>=3.9.1->alignn) (2.4.0)\n",
            "Requirement already satisfied: mccabe<0.7.0,>=0.6.0 in /usr/local/lib/python3.7/dist-packages (from flake8>=3.9.1->alignn) (0.6.1)\n",
            "Requirement already satisfied: typing-extensions>=3.6.4 in /usr/local/lib/python3.7/dist-packages (from importlib-metadata<4.3->flake8>=3.9.1->alignn) (4.1.1)\n",
            "Requirement already satisfied: zipp>=0.5 in /usr/local/lib/python3.7/dist-packages (from importlib-metadata<4.3->flake8>=3.9.1->alignn) (3.8.0)\n",
            "Requirement already satisfied: xmltodict>=0.11.0 in /usr/local/lib/python3.7/dist-packages (from jarvis-tools>=2021.07.19->alignn) (0.13.0)\n",
            "Requirement already satisfied: joblib>=0.14.1 in /usr/local/lib/python3.7/dist-packages (from jarvis-tools>=2021.07.19->alignn) (1.1.0)\n",
            "Requirement already satisfied: spglib>=1.14.1 in /usr/local/lib/python3.7/dist-packages (from jarvis-tools>=2021.07.19->alignn) (1.16.5)\n",
            "Requirement already satisfied: toolz>=0.9.0 in /usr/local/lib/python3.7/dist-packages (from jarvis-tools>=2021.07.19->alignn) (0.11.2)\n",
            "Requirement already satisfied: fonttools>=4.22.0 in /usr/local/lib/python3.7/dist-packages (from matplotlib>=3.4.1->alignn) (4.34.4)\n",
            "Requirement already satisfied: python-dateutil>=2.7 in /usr/local/lib/python3.7/dist-packages (from matplotlib>=3.4.1->alignn) (2.8.2)\n",
            "Requirement already satisfied: packaging>=20.0 in /usr/local/lib/python3.7/dist-packages (from matplotlib>=3.4.1->alignn) (21.3)\n",
            "Requirement already satisfied: kiwisolver>=1.0.1 in /usr/local/lib/python3.7/dist-packages (from matplotlib>=3.4.1->alignn) (1.4.3)\n",
            "Requirement already satisfied: pillow>=6.2.0 in /usr/local/lib/python3.7/dist-packages (from matplotlib>=3.4.1->alignn) (7.1.2)\n",
            "Requirement already satisfied: cycler>=0.10 in /usr/local/lib/python3.7/dist-packages (from matplotlib>=3.4.1->alignn) (0.11.0)\n",
            "Requirement already satisfied: pytz>=2017.3 in /usr/local/lib/python3.7/dist-packages (from pandas>=1.2.3->alignn) (2022.1)\n",
            "Requirement already satisfied: snowballstemmer in /usr/local/lib/python3.7/dist-packages (from pydocstyle>=6.0.0->alignn) (2.2.0)\n",
            "Requirement already satisfied: six>=1.5 in /usr/local/lib/python3.7/dist-packages (from python-dateutil>=2.7->matplotlib>=3.4.1->alignn) (1.15.0)\n",
            "Requirement already satisfied: certifi>=2017.4.17 in /usr/local/lib/python3.7/dist-packages (from requests>=2.19.0->dgl>=0.6.0->alignn) (2022.6.15)\n",
            "Requirement already satisfied: idna<3,>=2.5 in /usr/local/lib/python3.7/dist-packages (from requests>=2.19.0->dgl>=0.6.0->alignn) (2.10)\n",
            "Requirement already satisfied: urllib3!=1.25.0,!=1.25.1,<1.26,>=1.21.1 in /usr/local/lib/python3.7/dist-packages (from requests>=2.19.0->dgl>=0.6.0->alignn) (1.24.3)\n",
            "Requirement already satisfied: chardet<4,>=3.0.2 in /usr/local/lib/python3.7/dist-packages (from requests>=2.19.0->dgl>=0.6.0->alignn) (3.0.4)\n",
            "Requirement already satisfied: threadpoolctl>=2.0.0 in /usr/local/lib/python3.7/dist-packages (from scikit-learn>=0.22.2->alignn) (3.1.0)\n"
          ]
        }
      ]
    },
    {
      "cell_type": "code",
      "metadata": {
        "id": "JyyE-cHL2iOn",
        "outputId": "2bbf6014-81dc-4e45-f8ab-05845c416478",
        "colab": {
          "base_uri": "https://localhost:8080/"
        },
        "collapsed": true
      },
      "source": [
        "import os\n",
        "!pwd\n",
        "os.chdir('/content')\n",
        "# Clone ALIGNN repo to get example folder\n",
        "if not os.path.exists('alignn'):\n",
        "  !git clone https://github.com/usnistgov/alignn.git\n",
        "\n",
        "os.chdir('alignn')\n",
        "# Install using setup.py in case pip didn't work\n",
        "# !python setup.py develop\n",
        "\n",
        "!pip install dgl-cu111 # Colab has cuda 11.1"
      ],
      "execution_count": 15,
      "outputs": [
        {
          "output_type": "stream",
          "name": "stdout",
          "text": [
            "/content/alignn/DataDir_ExfoEnergy/DataDir_ExfoEnergy\n",
            "Looking in indexes: https://pypi.org/simple, https://us-python.pkg.dev/colab-wheels/public/simple/\n",
            "Requirement already satisfied: dgl-cu111 in /usr/local/lib/python3.7/dist-packages (0.6.1)\n",
            "Requirement already satisfied: networkx>=2.1 in /usr/local/lib/python3.7/dist-packages (from dgl-cu111) (2.6.3)\n",
            "Requirement already satisfied: scipy>=1.1.0 in /usr/local/lib/python3.7/dist-packages (from dgl-cu111) (1.7.3)\n",
            "Requirement already satisfied: numpy>=1.14.0 in /usr/local/lib/python3.7/dist-packages (from dgl-cu111) (1.21.6)\n",
            "Requirement already satisfied: requests>=2.19.0 in /usr/local/lib/python3.7/dist-packages (from dgl-cu111) (2.23.0)\n",
            "Requirement already satisfied: certifi>=2017.4.17 in /usr/local/lib/python3.7/dist-packages (from requests>=2.19.0->dgl-cu111) (2022.6.15)\n",
            "Requirement already satisfied: idna<3,>=2.5 in /usr/local/lib/python3.7/dist-packages (from requests>=2.19.0->dgl-cu111) (2.10)\n",
            "Requirement already satisfied: chardet<4,>=3.0.2 in /usr/local/lib/python3.7/dist-packages (from requests>=2.19.0->dgl-cu111) (3.0.4)\n",
            "Requirement already satisfied: urllib3!=1.25.0,!=1.25.1,<1.26,>=1.21.1 in /usr/local/lib/python3.7/dist-packages (from requests>=2.19.0->dgl-cu111) (1.24.3)\n"
          ]
        }
      ]
    },
    {
      "cell_type": "markdown",
      "source": [
        "#Train a model for JARVIS-DFT Exfoliation energy"
      ],
      "metadata": {
        "id": "kC8yi5z7Sh3G"
      }
    },
    {
      "cell_type": "markdown",
      "source": [
        "**Get data in id_prop.csv format**\n",
        "\n",
        "Here, we will organize the data used for training and validation into the appropriate format to train the ALIGNN model. \n",
        "\n",
        "The data is collected here from the Jarvis-DFT 3D dataset, which contains the relaxed structures and computed material properties for over 55,000 materials. \n",
        "\n",
        "The training data should be formatted as a simple CSV file listing the structure file for the sample (e.g. POSCAR-JVASP-10.vasp) and then the target property value. Example format:\n",
        "\n",
        "``POSCAR-JVASP-10.vasp,71.12950718943668``\n",
        "\n",
        "``POSCAR-JVASP-1372.vasp,44.54199597616097``  \n",
        "\n",
        "``POSCAR-JVASP-14873.vasp,110.43563937368668``\n",
        "\n",
        "**Try modifying**\n",
        "\n",
        "Change ``prop`` from ``exfoliation energy`` to another property in the JARVIS-DFT 3D database. "
      ],
      "metadata": {
        "id": "6e0uz_WaUmbE"
      }
    },
    {
      "cell_type": "code",
      "source": [
        "from jarvis.db.figshare import data as jdata\n",
        "from jarvis.core.atoms import Atoms\n",
        "import os\n",
        "\n",
        "cwd = os.getcwd() #current working directory\n",
        "temp_dir_name = \"DataDir_ExfoEnergy\" \n",
        "\n",
        "if not os.path.isdir(temp_dir_name):\n",
        "  os.makedirs(temp_dir_name)\n",
        "os.chdir(temp_dir_name)\n",
        "\n",
        "#Load JARVIS-DFT 3D Dataset\n",
        "dft_3d = jdata(\"dft_3d\")\n",
        "\n",
        "#List all properties for first entry\n",
        "dft_3d[0].keys()\n"
      ],
      "metadata": {
        "colab": {
          "base_uri": "https://localhost:8080/"
        },
        "id": "apVVRqVgSdbG",
        "outputId": "c91fc10d-2b75-4c34-f5ea-40990e42f9f1"
      },
      "execution_count": 16,
      "outputs": [
        {
          "output_type": "stream",
          "name": "stdout",
          "text": [
            "Obtaining 3D dataset 55k ...\n",
            "Reference:https://www.nature.com/articles/s41524-020-00440-1\n",
            "Loading the zipfile...\n",
            "Loading completed.\n"
          ]
        },
        {
          "output_type": "execute_result",
          "data": {
            "text/plain": [
              "dict_keys(['jid', 'spg_number', 'spg_symbol', 'formula', 'formation_energy_peratom', 'func', 'optb88vdw_bandgap', 'atoms', 'slme', 'magmom_oszicar', 'spillage', 'elastic_tensor', 'effective_masses_300K', 'kpoint_length_unit', 'maxdiff_mesh', 'maxdiff_bz', 'encut', 'optb88vdw_total_energy', 'epsx', 'epsy', 'epsz', 'mepsx', 'mepsy', 'mepsz', 'modes', 'magmom_outcar', 'max_efg', 'avg_elec_mass', 'avg_hole_mass', 'icsd', 'dfpt_piezo_max_eij', 'dfpt_piezo_max_dij', 'dfpt_piezo_max_dielectric', 'dfpt_piezo_max_dielectric_electronic', 'dfpt_piezo_max_dielectric_ionic', 'max_ir_mode', 'min_ir_mode', 'n-Seebeck', 'p-Seebeck', 'n-powerfact', 'p-powerfact', 'ncond', 'pcond', 'nkappa', 'pkappa', 'ehull', 'dimensionality', 'efg', 'xml_data_link', 'typ', 'exfoliation_energy', 'spg', 'crys', 'density', 'poisson', 'raw_files', 'nat', 'bulk_modulus_kv', 'shear_modulus_gv', 'mbj_bandgap', 'hse_gap', 'reference', 'search'])"
            ]
          },
          "metadata": {},
          "execution_count": 16
        }
      ]
    },
    {
      "cell_type": "code",
      "source": [
        "#Select property (use different property tag to change prediction)\n",
        "prop = \"exfoliation_energy\" #\"optb88vdw_bandgap\"\n",
        "f = open(\"id_prop.csv\", \"w\")\n",
        "\n",
        "'''\n",
        "Check each entry in JARVIS-DFT 3D dataset to see if the exfoliation energy is \n",
        "defined. If so, include in the id_props dataset. Additionally, write out the \n",
        "POSCAR structure file for each entry.\n",
        "'''\n",
        "for i in dft_3d:\n",
        "    atoms = Atoms.from_dict(i[\"atoms\"])\n",
        "    jid = i[\"jid\"]\n",
        "    poscar_name = \"POSCAR-\" + jid + \".vasp\"\n",
        "    target = i[prop]\n",
        "    if target != \"na\":\n",
        "        atoms.write_poscar(poscar_name)\n",
        "        f.write(\"%s,%6f\\n\" % (poscar_name, target))\n",
        "f.close()\n",
        "\n",
        "os.chdir(cwd)"
      ],
      "metadata": {
        "id": "hK2Oe--w3bqy"
      },
      "execution_count": 24,
      "outputs": []
    },
    {
      "cell_type": "code",
      "metadata": {
        "id": "v62Vzv2_2M2s",
        "colab": {
          "base_uri": "https://localhost:8080/"
        },
        "outputId": "41a2d8e4-4394-40c4-daba-82d76ee526fc"
      },
      "source": [
        "#Count how many POSCAR files are in the current directory\n",
        "!ls -altr  DataDir_ExfoEnergy/*.vasp | wc -l\n"
      ],
      "execution_count": 18,
      "outputs": [
        {
          "output_type": "stream",
          "name": "stdout",
          "text": [
            "813\n"
          ]
        }
      ]
    },
    {
      "cell_type": "code",
      "source": [
        " #Count how many lines are in the id_prop.csv file (should match value above)\n",
        " !wc -l DataDir_ExfoEnergy/id_prop.csv "
      ],
      "metadata": {
        "colab": {
          "base_uri": "https://localhost:8080/"
        },
        "id": "SQW9wmpsToBR",
        "outputId": "329c518a-d8dc-48a4-e86b-cc99a45480b3"
      },
      "execution_count": 19,
      "outputs": [
        {
          "output_type": "stream",
          "name": "stdout",
          "text": [
            "813 DataDir_ExfoEnergy/id_prop.csv\n"
          ]
        }
      ]
    },
    {
      "cell_type": "markdown",
      "source": [
        "**run train_folder.py**\n",
        "\n",
        "In addition to the dataset file (id_prop.csv) a configuration file to describe the essential parameters of the atomistic line graph neural network should be located in the same directory. The configuration file should be formatted as a ``json`` file, and an example file can be found [here](https://github.com/usnistgov/alignn/blob/main/alignn/examples/sample_data/config_example.json).\n",
        "\n",
        "**Try modifying**\n",
        "\n",
        "Common attributes to change from default setting may include:\n",
        "\n",
        "1) Number of epochs: number of cycles used to train the neural network using the entire training set\n",
        "\n",
        "2) Batch size: number of samples used to train the neural network at once\n",
        "\n",
        "3) Output features: default is 1 for predicting single, scalar values; adjust if predicting a multi-output quantity\n",
        "\n",
        "4) ALIGNN layers/ GCN layers: number of ALIGNN update layers or edge-gated graph convolution layers"
      ],
      "metadata": {
        "id": "OAUCQpgMpuhB"
      }
    },
    {
      "cell_type": "code",
      "source": [
        "import time\n",
        "t1=time.time()\n",
        "!train_folder.py --root_dir \"DataDir_ExfoEnergy\" --epochs 50 --batch_size 64 --config \"alignn/examples/sample_data/config_example.json\" --output_dir=\"ExfoEnOut\"\n",
        "t2=time.time()\n",
        "print ('Time in s',t2-t1)"
      ],
      "metadata": {
        "colab": {
          "base_uri": "https://localhost:8080/"
        },
        "id": "E8aEhUTHT-AV",
        "outputId": "e52d47aa-5937-4100-e927-0d369e76e6ae"
      },
      "execution_count": 25,
      "outputs": [
        {
          "output_type": "stream",
          "name": "stdout",
          "text": [
            "Using backend: pytorch\n",
            "MAX val: 948.93\n",
            "MIN val: 0.03\n",
            "MAD: 62.629814227293544\n",
            "Baseline MAE: 61.033631528964854\n",
            "data range 948.93 0.03\n",
            "  0% 0/650 [00:00<?, ?it/s]/usr/local/lib/python3.7/dist-packages/jarvis/core/graphs.py:158: UserWarning: Creating a tensor from a list of numpy.ndarrays is extremely slow. Please consider converting the list to a single numpy.ndarray with numpy.array() before converting to a tensor. (Triggered internally at  ../torch/csrc/utils/tensor_new.cpp:210.)\n",
            "  r = torch.tensor(r).type(torch.get_default_dtype())\n",
            "100% 650/650 [00:12<00:00, 54.05it/s]\n",
            "warning: could not load CGCNN features for 103\n",
            "Setting it to max atomic number available here, 103\n",
            "warning: could not load CGCNN features for 101\n",
            "Setting it to max atomic number available here, 103\n",
            "warning: could not load CGCNN features for 102\n",
            "Setting it to max atomic number available here, 103\n",
            "building line graphs\n",
            "100% 650/650 [00:00<00:00, 910.08it/s]\n",
            "data range 388.51 18.3\n",
            "100% 81/81 [00:01<00:00, 59.28it/s]\n",
            "building line graphs\n",
            "100% 81/81 [00:00<00:00, 590.70it/s]\n",
            "data range 903.94 0.95\n",
            "100% 81/81 [00:02<00:00, 35.71it/s]\n",
            "building line graphs\n",
            "100% 81/81 [00:00<00:00, 390.67it/s]\n",
            "n_train: 650\n",
            "n_val: 81\n",
            "n_test: 81\n",
            "version='112bbedebdaecf59fb18e11c929080fb2f358246' dataset='user_data' target='target' atom_features='cgcnn' neighbor_strategy='k-nearest' id_tag='jid' random_seed=123 classification_threshold=None n_val=None n_test=None n_train=None train_ratio=0.8 val_ratio=0.1 test_ratio=0.1 target_multiplication_factor=None epochs=50 batch_size=64 weight_decay=1e-05 learning_rate=0.001 filename='sample' warmup_steps=2000 criterion='mse' optimizer='adamw' scheduler='onecycle' pin_memory=False save_dataloader=False write_checkpoint=True write_predictions=True store_outputs=True progress=True log_tensorboard=False standard_scalar_and_pca=False use_canonize=True num_workers=0 cutoff=8.0 max_neighbors=12 keep_data_order=False distributed=False n_early_stopping=None output_dir='ExfoEnOut' model=ALIGNNConfig(name='alignn', alignn_layers=4, gcn_layers=4, atom_input_features=92, edge_input_features=80, triplet_input_features=40, embedding_features=64, hidden_features=256, output_features=1, link='identity', zero_inflated=False, classification=False)\n",
            "config:\n",
            "{'atom_features': 'cgcnn',\n",
            " 'batch_size': 64,\n",
            " 'classification_threshold': None,\n",
            " 'criterion': 'mse',\n",
            " 'cutoff': 8.0,\n",
            " 'dataset': 'user_data',\n",
            " 'distributed': False,\n",
            " 'epochs': 50,\n",
            " 'filename': 'sample',\n",
            " 'id_tag': 'jid',\n",
            " 'keep_data_order': False,\n",
            " 'learning_rate': 0.001,\n",
            " 'log_tensorboard': False,\n",
            " 'max_neighbors': 12,\n",
            " 'model': {'alignn_layers': 4,\n",
            "           'atom_input_features': 92,\n",
            "           'classification': False,\n",
            "           'edge_input_features': 80,\n",
            "           'embedding_features': 64,\n",
            "           'gcn_layers': 4,\n",
            "           'hidden_features': 256,\n",
            "           'link': 'identity',\n",
            "           'name': 'alignn',\n",
            "           'output_features': 1,\n",
            "           'triplet_input_features': 40,\n",
            "           'zero_inflated': False},\n",
            " 'n_early_stopping': None,\n",
            " 'n_test': None,\n",
            " 'n_train': None,\n",
            " 'n_val': None,\n",
            " 'neighbor_strategy': 'k-nearest',\n",
            " 'num_workers': 0,\n",
            " 'optimizer': 'adamw',\n",
            " 'output_dir': 'ExfoEnOut',\n",
            " 'pin_memory': False,\n",
            " 'progress': True,\n",
            " 'random_seed': 123,\n",
            " 'save_dataloader': False,\n",
            " 'scheduler': 'onecycle',\n",
            " 'standard_scalar_and_pca': False,\n",
            " 'store_outputs': True,\n",
            " 'target': 'target',\n",
            " 'target_multiplication_factor': None,\n",
            " 'test_ratio': 0.1,\n",
            " 'train_ratio': 0.8,\n",
            " 'use_canonize': True,\n",
            " 'val_ratio': 0.1,\n",
            " 'version': '112bbedebdaecf59fb18e11c929080fb2f358246',\n",
            " 'warmup_steps': 2000,\n",
            " 'weight_decay': 1e-05,\n",
            " 'write_checkpoint': True,\n",
            " 'write_predictions': True}\n",
            "Val_MAE: 103.2373\n",
            "Train_MAE: 114.5248\n",
            "Val_MAE: 104.5745\n",
            "Train_MAE: 116.1631\n",
            "Val_MAE: 105.2705\n",
            "Train_MAE: 115.7672\n",
            "Val_MAE: 102.6452\n",
            "Train_MAE: 112.0892\n",
            "Val_MAE: 95.0109\n",
            "Train_MAE: 100.8304\n",
            "Val_MAE: 89.8596\n",
            "Train_MAE: 93.4467\n",
            "Val_MAE: 87.8907\n",
            "Train_MAE: 86.4741\n",
            "Val_MAE: 91.7863\n",
            "Train_MAE: 83.4400\n",
            "Val_MAE: 89.0822\n",
            "Train_MAE: 86.7775\n",
            "Val_MAE: 94.1023\n",
            "Train_MAE: 84.0633\n",
            "Val_MAE: 89.9702\n",
            "Train_MAE: 85.0352\n",
            "Val_MAE: 88.6411\n",
            "Train_MAE: 72.3408\n",
            "Val_MAE: 88.9927\n",
            "Train_MAE: 74.8878\n",
            "Val_MAE: 86.5961\n",
            "Train_MAE: 67.9214\n",
            "Val_MAE: 87.2097\n",
            "Train_MAE: 68.7253\n",
            "Val_MAE: 79.3507\n",
            "Train_MAE: 63.2795\n",
            "Val_MAE: 79.5019\n",
            "Train_MAE: 61.1611\n",
            "Val_MAE: 76.5059\n",
            "Train_MAE: 54.9358\n",
            "Val_MAE: 70.9579\n",
            "Train_MAE: 48.4737\n",
            "Val_MAE: 70.2588\n",
            "Train_MAE: 49.2995\n",
            "Val_MAE: 65.4322\n",
            "Train_MAE: 46.0863\n",
            "Val_MAE: 66.4798\n",
            "Train_MAE: 46.3980\n",
            "Val_MAE: 60.8610\n",
            "Train_MAE: 37.1121\n",
            "Val_MAE: 60.5650\n",
            "Train_MAE: 36.7157\n",
            "Val_MAE: 62.9755\n",
            "Train_MAE: 37.5869\n",
            "Val_MAE: 56.4821\n",
            "Train_MAE: 31.2644\n",
            "Val_MAE: 56.0184\n",
            "Train_MAE: 31.1164\n",
            "Val_MAE: 50.7473\n",
            "Train_MAE: 28.7636\n",
            "Val_MAE: 51.8893\n",
            "Train_MAE: 24.9081\n",
            "Val_MAE: 48.1866\n",
            "Train_MAE: 23.7063\n",
            "Val_MAE: 48.3109\n",
            "Train_MAE: 23.0008\n",
            "Val_MAE: 47.0285\n",
            "Train_MAE: 24.6764\n",
            "Val_MAE: 48.5521\n",
            "Train_MAE: 22.2371\n",
            "Val_MAE: 47.7800\n",
            "Train_MAE: 21.3000\n",
            "Val_MAE: 47.8383\n",
            "Train_MAE: 17.3292\n",
            "Val_MAE: 45.0316\n",
            "Train_MAE: 18.3318\n",
            "Val_MAE: 45.2109\n",
            "Train_MAE: 14.8307\n",
            "Val_MAE: 44.4959\n",
            "Train_MAE: 14.9745\n",
            "Val_MAE: 44.9376\n",
            "Train_MAE: 16.6399\n",
            "Val_MAE: 44.5563\n",
            "Train_MAE: 16.4178\n",
            "Val_MAE: 44.3868\n",
            "Train_MAE: 14.6942\n",
            "Val_MAE: 44.1251\n",
            "Train_MAE: 13.2842\n",
            "Val_MAE: 43.5694\n",
            "Train_MAE: 12.6541\n",
            "Val_MAE: 43.4006\n",
            "Train_MAE: 13.8155\n",
            "Val_MAE: 43.1035\n",
            "Train_MAE: 13.6267\n",
            "Val_MAE: 43.2464\n",
            "Train_MAE: 13.5137\n",
            "Val_MAE: 43.5971\n",
            "Train_MAE: 13.5334\n",
            "Val_MAE: 43.2506\n",
            "Train_MAE: 12.5370\n",
            "Val_MAE: 43.3538\n",
            "Train_MAE: 12.7746\n",
            "Val_MAE: 42.9860\n",
            "Train_MAE: 12.1811\n",
            "Test MAE: 52.67479607867606\n",
            "Time taken (s): 171.20312356948853\n",
            "Time in s 192.2057399749756\n"
          ]
        }
      ]
    },
    {
      "cell_type": "code",
      "source": [
        "!ls ExfoEnOut\t "
      ],
      "metadata": {
        "colab": {
          "base_uri": "https://localhost:8080/"
        },
        "id": "luExy9FkWJ81",
        "outputId": "34e02be6-5292-48c3-93a3-aea9c59a3c2d"
      },
      "execution_count": 27,
      "outputs": [
        {
          "output_type": "stream",
          "name": "stdout",
          "text": [
            "checkpoint_49.pt\t mad\n",
            "checkpoint_50.pt\t prediction_results_test_set.csv\n",
            "config.json\t\t prediction_results_train_set.csv\n",
            "history_train.json\t test_data_data_range\n",
            "history_val.json\t train_data_data_range\n",
            "ids_train_val_test.json  val_data_data_range\n"
          ]
        }
      ]
    },
    {
      "cell_type": "markdown",
      "source": [
        "Here checkpoints are the model parameter files that can be loaded in torch library to make predictions such as [this example](https://github.com/usnistgov/alignn/blob/main/alignn/scripts/predict.py). The checkpoint files can be used to run the trained model on new samples."
      ],
      "metadata": {
        "id": "zzrjEIMKpdFS"
      }
    },
    {
      "cell_type": "code",
      "source": [
        "import matplotlib.pyplot as plt\n",
        "%matplotlib inline\n",
        "import pandas as pd\n",
        "df = pd.read_csv('/content/alignn/ExfoEnOut/prediction_results_test_set.csv')"
      ],
      "metadata": {
        "id": "EhzUYeD1oYpD"
      },
      "execution_count": 26,
      "outputs": []
    },
    {
      "cell_type": "markdown",
      "source": [
        "These are the predictions for the 10% of the dataset that the model did not see during training and validaiton steps."
      ],
      "metadata": {
        "id": "Tz-AsQnNo9-2"
      }
    },
    {
      "cell_type": "code",
      "source": [
        "df"
      ],
      "metadata": {
        "colab": {
          "base_uri": "https://localhost:8080/",
          "height": 424
        },
        "id": "hGGnsXseo7Qz",
        "outputId": "6954c540-5287-4b49-abe2-5c01e7adc7c1"
      },
      "execution_count": 28,
      "outputs": [
        {
          "output_type": "execute_result",
          "data": {
            "text/plain": [
              "                         id      target  prediction\n",
              "0   POSCAR-JVASP-12918.vasp   27.170000  322.634399\n",
              "1    POSCAR-JVASP-2035.vasp   82.290001   89.378479\n",
              "2   POSCAR-JVASP-13942.vasp   87.809998   50.296844\n",
              "3     POSCAR-JVASP-278.vasp  144.320007  199.241974\n",
              "4   POSCAR-JVASP-10173.vasp   33.700001   77.589912\n",
              "..                      ...         ...         ...\n",
              "76   POSCAR-JVASP-4364.vasp   54.290001   50.641140\n",
              "77  POSCAR-JVASP-29480.vasp   78.639999   56.020142\n",
              "78  POSCAR-JVASP-28375.vasp   55.480000   48.084400\n",
              "79    POSCAR-JVASP-590.vasp   88.519997   85.902924\n",
              "80   POSCAR-JVASP-4741.vasp  226.220001  225.685440\n",
              "\n",
              "[81 rows x 3 columns]"
            ],
            "text/html": [
              "\n",
              "  <div id=\"df-8bf7f4db-391c-4b38-bb04-43c599dc19a5\">\n",
              "    <div class=\"colab-df-container\">\n",
              "      <div>\n",
              "<style scoped>\n",
              "    .dataframe tbody tr th:only-of-type {\n",
              "        vertical-align: middle;\n",
              "    }\n",
              "\n",
              "    .dataframe tbody tr th {\n",
              "        vertical-align: top;\n",
              "    }\n",
              "\n",
              "    .dataframe thead th {\n",
              "        text-align: right;\n",
              "    }\n",
              "</style>\n",
              "<table border=\"1\" class=\"dataframe\">\n",
              "  <thead>\n",
              "    <tr style=\"text-align: right;\">\n",
              "      <th></th>\n",
              "      <th>id</th>\n",
              "      <th>target</th>\n",
              "      <th>prediction</th>\n",
              "    </tr>\n",
              "  </thead>\n",
              "  <tbody>\n",
              "    <tr>\n",
              "      <th>0</th>\n",
              "      <td>POSCAR-JVASP-12918.vasp</td>\n",
              "      <td>27.170000</td>\n",
              "      <td>322.634399</td>\n",
              "    </tr>\n",
              "    <tr>\n",
              "      <th>1</th>\n",
              "      <td>POSCAR-JVASP-2035.vasp</td>\n",
              "      <td>82.290001</td>\n",
              "      <td>89.378479</td>\n",
              "    </tr>\n",
              "    <tr>\n",
              "      <th>2</th>\n",
              "      <td>POSCAR-JVASP-13942.vasp</td>\n",
              "      <td>87.809998</td>\n",
              "      <td>50.296844</td>\n",
              "    </tr>\n",
              "    <tr>\n",
              "      <th>3</th>\n",
              "      <td>POSCAR-JVASP-278.vasp</td>\n",
              "      <td>144.320007</td>\n",
              "      <td>199.241974</td>\n",
              "    </tr>\n",
              "    <tr>\n",
              "      <th>4</th>\n",
              "      <td>POSCAR-JVASP-10173.vasp</td>\n",
              "      <td>33.700001</td>\n",
              "      <td>77.589912</td>\n",
              "    </tr>\n",
              "    <tr>\n",
              "      <th>...</th>\n",
              "      <td>...</td>\n",
              "      <td>...</td>\n",
              "      <td>...</td>\n",
              "    </tr>\n",
              "    <tr>\n",
              "      <th>76</th>\n",
              "      <td>POSCAR-JVASP-4364.vasp</td>\n",
              "      <td>54.290001</td>\n",
              "      <td>50.641140</td>\n",
              "    </tr>\n",
              "    <tr>\n",
              "      <th>77</th>\n",
              "      <td>POSCAR-JVASP-29480.vasp</td>\n",
              "      <td>78.639999</td>\n",
              "      <td>56.020142</td>\n",
              "    </tr>\n",
              "    <tr>\n",
              "      <th>78</th>\n",
              "      <td>POSCAR-JVASP-28375.vasp</td>\n",
              "      <td>55.480000</td>\n",
              "      <td>48.084400</td>\n",
              "    </tr>\n",
              "    <tr>\n",
              "      <th>79</th>\n",
              "      <td>POSCAR-JVASP-590.vasp</td>\n",
              "      <td>88.519997</td>\n",
              "      <td>85.902924</td>\n",
              "    </tr>\n",
              "    <tr>\n",
              "      <th>80</th>\n",
              "      <td>POSCAR-JVASP-4741.vasp</td>\n",
              "      <td>226.220001</td>\n",
              "      <td>225.685440</td>\n",
              "    </tr>\n",
              "  </tbody>\n",
              "</table>\n",
              "<p>81 rows × 3 columns</p>\n",
              "</div>\n",
              "      <button class=\"colab-df-convert\" onclick=\"convertToInteractive('df-8bf7f4db-391c-4b38-bb04-43c599dc19a5')\"\n",
              "              title=\"Convert this dataframe to an interactive table.\"\n",
              "              style=\"display:none;\">\n",
              "        \n",
              "  <svg xmlns=\"http://www.w3.org/2000/svg\" height=\"24px\"viewBox=\"0 0 24 24\"\n",
              "       width=\"24px\">\n",
              "    <path d=\"M0 0h24v24H0V0z\" fill=\"none\"/>\n",
              "    <path d=\"M18.56 5.44l.94 2.06.94-2.06 2.06-.94-2.06-.94-.94-2.06-.94 2.06-2.06.94zm-11 1L8.5 8.5l.94-2.06 2.06-.94-2.06-.94L8.5 2.5l-.94 2.06-2.06.94zm10 10l.94 2.06.94-2.06 2.06-.94-2.06-.94-.94-2.06-.94 2.06-2.06.94z\"/><path d=\"M17.41 7.96l-1.37-1.37c-.4-.4-.92-.59-1.43-.59-.52 0-1.04.2-1.43.59L10.3 9.45l-7.72 7.72c-.78.78-.78 2.05 0 2.83L4 21.41c.39.39.9.59 1.41.59.51 0 1.02-.2 1.41-.59l7.78-7.78 2.81-2.81c.8-.78.8-2.07 0-2.86zM5.41 20L4 18.59l7.72-7.72 1.47 1.35L5.41 20z\"/>\n",
              "  </svg>\n",
              "      </button>\n",
              "      \n",
              "  <style>\n",
              "    .colab-df-container {\n",
              "      display:flex;\n",
              "      flex-wrap:wrap;\n",
              "      gap: 12px;\n",
              "    }\n",
              "\n",
              "    .colab-df-convert {\n",
              "      background-color: #E8F0FE;\n",
              "      border: none;\n",
              "      border-radius: 50%;\n",
              "      cursor: pointer;\n",
              "      display: none;\n",
              "      fill: #1967D2;\n",
              "      height: 32px;\n",
              "      padding: 0 0 0 0;\n",
              "      width: 32px;\n",
              "    }\n",
              "\n",
              "    .colab-df-convert:hover {\n",
              "      background-color: #E2EBFA;\n",
              "      box-shadow: 0px 1px 2px rgba(60, 64, 67, 0.3), 0px 1px 3px 1px rgba(60, 64, 67, 0.15);\n",
              "      fill: #174EA6;\n",
              "    }\n",
              "\n",
              "    [theme=dark] .colab-df-convert {\n",
              "      background-color: #3B4455;\n",
              "      fill: #D2E3FC;\n",
              "    }\n",
              "\n",
              "    [theme=dark] .colab-df-convert:hover {\n",
              "      background-color: #434B5C;\n",
              "      box-shadow: 0px 1px 3px 1px rgba(0, 0, 0, 0.15);\n",
              "      filter: drop-shadow(0px 1px 2px rgba(0, 0, 0, 0.3));\n",
              "      fill: #FFFFFF;\n",
              "    }\n",
              "  </style>\n",
              "\n",
              "      <script>\n",
              "        const buttonEl =\n",
              "          document.querySelector('#df-8bf7f4db-391c-4b38-bb04-43c599dc19a5 button.colab-df-convert');\n",
              "        buttonEl.style.display =\n",
              "          google.colab.kernel.accessAllowed ? 'block' : 'none';\n",
              "\n",
              "        async function convertToInteractive(key) {\n",
              "          const element = document.querySelector('#df-8bf7f4db-391c-4b38-bb04-43c599dc19a5');\n",
              "          const dataTable =\n",
              "            await google.colab.kernel.invokeFunction('convertToInteractive',\n",
              "                                                     [key], {});\n",
              "          if (!dataTable) return;\n",
              "\n",
              "          const docLinkHtml = 'Like what you see? Visit the ' +\n",
              "            '<a target=\"_blank\" href=https://colab.research.google.com/notebooks/data_table.ipynb>data table notebook</a>'\n",
              "            + ' to learn more about interactive tables.';\n",
              "          element.innerHTML = '';\n",
              "          dataTable['output_type'] = 'display_data';\n",
              "          await google.colab.output.renderOutput(dataTable, element);\n",
              "          const docLink = document.createElement('div');\n",
              "          docLink.innerHTML = docLinkHtml;\n",
              "          element.appendChild(docLink);\n",
              "        }\n",
              "      </script>\n",
              "    </div>\n",
              "  </div>\n",
              "  "
            ]
          },
          "metadata": {},
          "execution_count": 28
        }
      ]
    },
    {
      "cell_type": "markdown",
      "source": [
        ""
      ],
      "metadata": {
        "id": "BO9XQo-z_SPj"
      }
    },
    {
      "cell_type": "code",
      "source": [
        "plt.plot(df['target'],df['prediction'],'.')\n",
        "plt.plot(df['target'],df['target'],'-.')\n",
        "plt.xlabel('DFT data (meV)')\n",
        "plt.ylabel('ALIGNN predictions (meV)')\n",
        "plt.show()"
      ],
      "metadata": {
        "colab": {
          "base_uri": "https://localhost:8080/",
          "height": 279
        },
        "id": "hf3vWrmQpDwg",
        "outputId": "7d48f9ef-a84f-40cf-a0d3-0db9330ba863"
      },
      "execution_count": 29,
      "outputs": [
        {
          "output_type": "display_data",
          "data": {
            "text/plain": [
              "<Figure size 432x288 with 1 Axes>"
            ],
            "image/png": "[encoded data removed]"
          },
          "metadata": {
            "needs_background": "light"
          }
        }
      ]
    },
    {
      "cell_type": "markdown",
      "source": [
        "**run model just trained on new samples without exfoliation energies listed**\n",
        "\n",
        "1. Load the model parameters saved in the final checkpoint file \n",
        "2. Fetch the features for 50 samples which do not have exfoliation energies listed on the JARVIS-DFT 3D dataset\n",
        "3. Run model for prediction on multiple samples using ``get_multiple_predictions``"
      ],
      "metadata": {
        "id": "XKVruSlyv69V"
      }
    },
    {
      "cell_type": "code",
      "source": [
        "# Run Trained Model to Predict Values for Compounds without Exfoliation Energy\n",
        "\n",
        "import torch\n",
        "from alignn.pretrained import get_multiple_predictions\n",
        "from alignn.models.alignn import ALIGNN,ALIGNNConfig\n",
        "\n",
        "if torch.cuda.is_available():\n",
        "    device = torch.device(\"cuda\") # might have to change to \"cpu\"\n",
        "\n",
        "\n",
        "model = ALIGNN(ALIGNNConfig(name=\"alignn\"))\n",
        "model.load_state_dict(torch.load('ExfoEnOut/checkpoint_50.pt', map_location=device)[\"model\"])\n",
        "model.to(device)\n",
        "model.eval()\n",
        "atoms_array=[]\n",
        "\n",
        "max_samples = 50\n",
        "count = 1\n",
        "for i in dft_3d:\n",
        "    atoms = Atoms.from_dict(i[\"atoms\"])\n",
        "    jid = i[\"jid\"]\n",
        "    poscar_name = \"POSCAR-\" + jid + \".vasp\"\n",
        "    target = i[prop]\n",
        "    if target == \"na\":\n",
        "        atoms_array.append(atoms)\n",
        "        count = count + 1\n",
        "        if count == max_samples:\n",
        "          break\n",
        "\n",
        "get_multiple_predictions(atoms_array=atoms_array,model=model)"
      ],
      "metadata": {
        "id": "wDQTE2p1ZMAh",
        "colab": {
          "base_uri": "https://localhost:8080/"
        },
        "outputId": "8c0ae18d-d5d0-4c0d-f076-c2a7cd914142"
      },
      "execution_count": 34,
      "outputs": [
        {
          "output_type": "stream",
          "name": "stdout",
          "text": [
            "data range -9999 -9999\n"
          ]
        },
        {
          "output_type": "stream",
          "name": "stderr",
          "text": [
            "100%|██████████| 49/49 [00:01<00:00, 43.77it/s]\n"
          ]
        },
        {
          "output_type": "stream",
          "name": "stdout",
          "text": [
            "building line graphs\n"
          ]
        },
        {
          "output_type": "stream",
          "name": "stderr",
          "text": [
            "100%|██████████| 49/49 [00:00<00:00, 438.84it/s]\n"
          ]
        }
      ]
    },
    {
      "cell_type": "markdown",
      "source": [
        "These are the exfoliation energy predictions for unlabelled compositions in the JARVIS-DFT 3D dataset."
      ],
      "metadata": {
        "id": "aJlYIQrn_fTw"
      }
    },
    {
      "cell_type": "code",
      "source": [
        "import pandas as pd\n",
        " \n",
        "pred_df=pd.read_json('pred_data.json')\n",
        "\n",
        "#Add the chemical formula as a column in the prediction dataframe\n",
        "cf_list = []\n",
        "for index, row in pred_df.iterrows():\n",
        "  atoms = Atoms.from_dict(row[\"atoms\"])\n",
        "  cf_list.append(atoms.composition.reduced_formula)\n",
        "\n",
        "pred_df['formula'] = cf_list\n",
        "pred_df.sort_values('pred',ascending=False)[:10]"
      ],
      "metadata": {
        "id": "gkHmccnN_brd",
        "outputId": "0ab66128-086f-4088-da9f-8acd2367dee0",
        "colab": {
          "base_uri": "https://localhost:8080/",
          "height": 363
        }
      },
      "execution_count": 35,
      "outputs": [
        {
          "output_type": "execute_result",
          "data": {
            "text/plain": [
              "    id                                              atoms        pred  \\\n",
              "2    2  {'lattice_mat': [[-1.833590720595598, 1.833590...  536.987610   \n",
              "17  17  {'lattice_mat': [[7.709535704177289, 2.46207e-...  523.069946   \n",
              "24  24  {'lattice_mat': [[4.084155317570781, -1.066825...  488.474487   \n",
              "48  48  {'lattice_mat': [[4.086274992215878, 0.0, -0.6...  438.184509   \n",
              "45  45  {'lattice_mat': [[-0.0, 4.326757913323647, 4.3...  431.418640   \n",
              "37  37  {'lattice_mat': [[-0.0, 5.040771484524319, 5.0...  419.962097   \n",
              "19  19  {'lattice_mat': [[6.850665464204784, -0.0, 0.0...  410.643097   \n",
              "33  33  {'lattice_mat': [[0.0, 4.936437902689708, 4.93...  398.381226   \n",
              "41  41  {'lattice_mat': [[0.0, 5.129874508851702, 5.12...  396.650482   \n",
              "7    7  {'lattice_mat': [[4.284492173131309, 1.636192e...  370.480347   \n",
              "\n",
              "       formula  \n",
              "2      Be2OsRu  \n",
              "17   SmSb12Os4  \n",
              "24  Ce2Al16Pt9  \n",
              "48   Ce3Si8Ni2  \n",
              "45      Ca4BeW  \n",
              "37     Ba4HgPb  \n",
              "19       BaGe2  \n",
              "33     Ba4TaZn  \n",
              "41     Ba4LiHf  \n",
              "7      LuNi4Sn  "
            ],
            "text/html": [
              "\n",
              "  <div id=\"df-3776b589-5e61-45ea-ab5c-d5c4cd469177\">\n",
              "    <div class=\"colab-df-container\">\n",
              "      <div>\n",
              "<style scoped>\n",
              "    .dataframe tbody tr th:only-of-type {\n",
              "        vertical-align: middle;\n",
              "    }\n",
              "\n",
              "    .dataframe tbody tr th {\n",
              "        vertical-align: top;\n",
              "    }\n",
              "\n",
              "    .dataframe thead th {\n",
              "        text-align: right;\n",
              "    }\n",
              "</style>\n",
              "<table border=\"1\" class=\"dataframe\">\n",
              "  <thead>\n",
              "    <tr style=\"text-align: right;\">\n",
              "      <th></th>\n",
              "      <th>id</th>\n",
              "      <th>atoms</th>\n",
              "      <th>pred</th>\n",
              "      <th>formula</th>\n",
              "    </tr>\n",
              "  </thead>\n",
              "  <tbody>\n",
              "    <tr>\n",
              "      <th>2</th>\n",
              "      <td>2</td>\n",
              "      <td>{'lattice_mat': [[-1.833590720595598, 1.833590...</td>\n",
              "      <td>536.987610</td>\n",
              "      <td>Be2OsRu</td>\n",
              "    </tr>\n",
              "    <tr>\n",
              "      <th>17</th>\n",
              "      <td>17</td>\n",
              "      <td>{'lattice_mat': [[7.709535704177289, 2.46207e-...</td>\n",
              "      <td>523.069946</td>\n",
              "      <td>SmSb12Os4</td>\n",
              "    </tr>\n",
              "    <tr>\n",
              "      <th>24</th>\n",
              "      <td>24</td>\n",
              "      <td>{'lattice_mat': [[4.084155317570781, -1.066825...</td>\n",
              "      <td>488.474487</td>\n",
              "      <td>Ce2Al16Pt9</td>\n",
              "    </tr>\n",
              "    <tr>\n",
              "      <th>48</th>\n",
              "      <td>48</td>\n",
              "      <td>{'lattice_mat': [[4.086274992215878, 0.0, -0.6...</td>\n",
              "      <td>438.184509</td>\n",
              "      <td>Ce3Si8Ni2</td>\n",
              "    </tr>\n",
              "    <tr>\n",
              "      <th>45</th>\n",
              "      <td>45</td>\n",
              "      <td>{'lattice_mat': [[-0.0, 4.326757913323647, 4.3...</td>\n",
              "      <td>431.418640</td>\n",
              "      <td>Ca4BeW</td>\n",
              "    </tr>\n",
              "    <tr>\n",
              "      <th>37</th>\n",
              "      <td>37</td>\n",
              "      <td>{'lattice_mat': [[-0.0, 5.040771484524319, 5.0...</td>\n",
              "      <td>419.962097</td>\n",
              "      <td>Ba4HgPb</td>\n",
              "    </tr>\n",
              "    <tr>\n",
              "      <th>19</th>\n",
              "      <td>19</td>\n",
              "      <td>{'lattice_mat': [[6.850665464204784, -0.0, 0.0...</td>\n",
              "      <td>410.643097</td>\n",
              "      <td>BaGe2</td>\n",
              "    </tr>\n",
              "    <tr>\n",
              "      <th>33</th>\n",
              "      <td>33</td>\n",
              "      <td>{'lattice_mat': [[0.0, 4.936437902689708, 4.93...</td>\n",
              "      <td>398.381226</td>\n",
              "      <td>Ba4TaZn</td>\n",
              "    </tr>\n",
              "    <tr>\n",
              "      <th>41</th>\n",
              "      <td>41</td>\n",
              "      <td>{'lattice_mat': [[0.0, 5.129874508851702, 5.12...</td>\n",
              "      <td>396.650482</td>\n",
              "      <td>Ba4LiHf</td>\n",
              "    </tr>\n",
              "    <tr>\n",
              "      <th>7</th>\n",
              "      <td>7</td>\n",
              "      <td>{'lattice_mat': [[4.284492173131309, 1.636192e...</td>\n",
              "      <td>370.480347</td>\n",
              "      <td>LuNi4Sn</td>\n",
              "    </tr>\n",
              "  </tbody>\n",
              "</table>\n",
              "</div>\n",
              "      <button class=\"colab-df-convert\" onclick=\"convertToInteractive('df-3776b589-5e61-45ea-ab5c-d5c4cd469177')\"\n",
              "              title=\"Convert this dataframe to an interactive table.\"\n",
              "              style=\"display:none;\">\n",
              "        \n",
              "  <svg xmlns=\"http://www.w3.org/2000/svg\" height=\"24px\"viewBox=\"0 0 24 24\"\n",
              "       width=\"24px\">\n",
              "    <path d=\"M0 0h24v24H0V0z\" fill=\"none\"/>\n",
              "    <path d=\"M18.56 5.44l.94 2.06.94-2.06 2.06-.94-2.06-.94-.94-2.06-.94 2.06-2.06.94zm-11 1L8.5 8.5l.94-2.06 2.06-.94-2.06-.94L8.5 2.5l-.94 2.06-2.06.94zm10 10l.94 2.06.94-2.06 2.06-.94-2.06-.94-.94-2.06-.94 2.06-2.06.94z\"/><path d=\"M17.41 7.96l-1.37-1.37c-.4-.4-.92-.59-1.43-.59-.52 0-1.04.2-1.43.59L10.3 9.45l-7.72 7.72c-.78.78-.78 2.05 0 2.83L4 21.41c.39.39.9.59 1.41.59.51 0 1.02-.2 1.41-.59l7.78-7.78 2.81-2.81c.8-.78.8-2.07 0-2.86zM5.41 20L4 18.59l7.72-7.72 1.47 1.35L5.41 20z\"/>\n",
              "  </svg>\n",
              "      </button>\n",
              "      \n",
              "  <style>\n",
              "    .colab-df-container {\n",
              "      display:flex;\n",
              "      flex-wrap:wrap;\n",
              "      gap: 12px;\n",
              "    }\n",
              "\n",
              "    .colab-df-convert {\n",
              "      background-color: #E8F0FE;\n",
              "      border: none;\n",
              "      border-radius: 50%;\n",
              "      cursor: pointer;\n",
              "      display: none;\n",
              "      fill: #1967D2;\n",
              "      height: 32px;\n",
              "      padding: 0 0 0 0;\n",
              "      width: 32px;\n",
              "    }\n",
              "\n",
              "    .colab-df-convert:hover {\n",
              "      background-color: #E2EBFA;\n",
              "      box-shadow: 0px 1px 2px rgba(60, 64, 67, 0.3), 0px 1px 3px 1px rgba(60, 64, 67, 0.15);\n",
              "      fill: #174EA6;\n",
              "    }\n",
              "\n",
              "    [theme=dark] .colab-df-convert {\n",
              "      background-color: #3B4455;\n",
              "      fill: #D2E3FC;\n",
              "    }\n",
              "\n",
              "    [theme=dark] .colab-df-convert:hover {\n",
              "      background-color: #434B5C;\n",
              "      box-shadow: 0px 1px 3px 1px rgba(0, 0, 0, 0.15);\n",
              "      filter: drop-shadow(0px 1px 2px rgba(0, 0, 0, 0.3));\n",
              "      fill: #FFFFFF;\n",
              "    }\n",
              "  </style>\n",
              "\n",
              "      <script>\n",
              "        const buttonEl =\n",
              "          document.querySelector('#df-3776b589-5e61-45ea-ab5c-d5c4cd469177 button.colab-df-convert');\n",
              "        buttonEl.style.display =\n",
              "          google.colab.kernel.accessAllowed ? 'block' : 'none';\n",
              "\n",
              "        async function convertToInteractive(key) {\n",
              "          const element = document.querySelector('#df-3776b589-5e61-45ea-ab5c-d5c4cd469177');\n",
              "          const dataTable =\n",
              "            await google.colab.kernel.invokeFunction('convertToInteractive',\n",
              "                                                     [key], {});\n",
              "          if (!dataTable) return;\n",
              "\n",
              "          const docLinkHtml = 'Like what you see? Visit the ' +\n",
              "            '<a target=\"_blank\" href=https://colab.research.google.com/notebooks/data_table.ipynb>data table notebook</a>'\n",
              "            + ' to learn more about interactive tables.';\n",
              "          element.innerHTML = '';\n",
              "          dataTable['output_type'] = 'display_data';\n",
              "          await google.colab.output.renderOutput(dataTable, element);\n",
              "          const docLink = document.createElement('div');\n",
              "          docLink.innerHTML = docLinkHtml;\n",
              "          element.appendChild(docLink);\n",
              "        }\n",
              "      </script>\n",
              "    </div>\n",
              "  </div>\n",
              "  "
            ]
          },
          "metadata": {},
          "execution_count": 35
        }
      ]
    }
  ]
}