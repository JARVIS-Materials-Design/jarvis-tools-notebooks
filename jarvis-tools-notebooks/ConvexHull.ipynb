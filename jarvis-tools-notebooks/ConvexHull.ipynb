{
  "nbformat": 4,
  "nbformat_minor": 0,
  "metadata": {
    "colab": {
      "name": "ConvexHull.ipynb",
      "provenance": [],
      "authorship_tag": "ABX9TyOcIGrkzn/wj9lX0UqMhfQG",
      "include_colab_link": true
    },
    "kernelspec": {
      "name": "python3",
      "display_name": "Python 3"
    },
    "language_info": {
      "name": "python"
    }
  },
  "cells": [
    {
      "cell_type": "markdown",
      "metadata": {
        "id": "view-in-github",
        "colab_type": "text"
      },
      "source": [
        "<a href=\"https://colab.research.google.com/github/knc6/jarvis-tools-notebooks/blob/master/jarvis-tools-notebooks/ConvexHull.ipynb\" target=\"_parent\"><img src=\"https://colab.research.google.com/assets/colab-badge.svg\" alt=\"Open In Colab\"/></a>"
      ]
    },
    {
      "cell_type": "code",
      "execution_count": 1,
      "metadata": {
        "colab": {
          "base_uri": "https://localhost:8080/"
        },
        "id": "d8tPyknBqiIZ",
        "outputId": "55bf991a-de9d-43a7-8e1c-4da7d773cc1b"
      },
      "outputs": [
        {
          "output_type": "stream",
          "name": "stdout",
          "text": [
            "Collecting jarvis-tools\n",
            "  Downloading jarvis_tools-2022.1.10-py2.py3-none-any.whl (954 kB)\n",
            "\u001b[K     |████████████████████████████████| 954 kB 17.5 MB/s \n",
            "\u001b[?25hCollecting spglib>=1.14.1\n",
            "  Downloading spglib-1.16.3-cp37-cp37m-manylinux_2_17_x86_64.manylinux2014_x86_64.whl (292 kB)\n",
            "\u001b[K     |████████████████████████████████| 292 kB 28.9 MB/s \n",
            "\u001b[?25hRequirement already satisfied: scipy>=1.4.1 in /usr/local/lib/python3.7/dist-packages (from jarvis-tools) (1.4.1)\n",
            "Requirement already satisfied: joblib>=0.14.1 in /usr/local/lib/python3.7/dist-packages (from jarvis-tools) (1.1.0)\n",
            "Collecting xmltodict>=0.11.0\n",
            "  Downloading xmltodict-0.12.0-py2.py3-none-any.whl (9.2 kB)\n",
            "Requirement already satisfied: requests>=2.23.0 in /usr/local/lib/python3.7/dist-packages (from jarvis-tools) (2.23.0)\n",
            "Requirement already satisfied: tqdm>=4.41.1 in /usr/local/lib/python3.7/dist-packages (from jarvis-tools) (4.64.0)\n",
            "Requirement already satisfied: matplotlib>=3.0.0 in /usr/local/lib/python3.7/dist-packages (from jarvis-tools) (3.2.2)\n",
            "Requirement already satisfied: toolz>=0.9.0 in /usr/local/lib/python3.7/dist-packages (from jarvis-tools) (0.11.2)\n",
            "Requirement already satisfied: numpy>=1.19.5 in /usr/local/lib/python3.7/dist-packages (from jarvis-tools) (1.21.6)\n",
            "Requirement already satisfied: python-dateutil>=2.1 in /usr/local/lib/python3.7/dist-packages (from matplotlib>=3.0.0->jarvis-tools) (2.8.2)\n",
            "Requirement already satisfied: kiwisolver>=1.0.1 in /usr/local/lib/python3.7/dist-packages (from matplotlib>=3.0.0->jarvis-tools) (1.4.2)\n",
            "Requirement already satisfied: cycler>=0.10 in /usr/local/lib/python3.7/dist-packages (from matplotlib>=3.0.0->jarvis-tools) (0.11.0)\n",
            "Requirement already satisfied: pyparsing!=2.0.4,!=2.1.2,!=2.1.6,>=2.0.1 in /usr/local/lib/python3.7/dist-packages (from matplotlib>=3.0.0->jarvis-tools) (3.0.8)\n",
            "Requirement already satisfied: typing-extensions in /usr/local/lib/python3.7/dist-packages (from kiwisolver>=1.0.1->matplotlib>=3.0.0->jarvis-tools) (4.2.0)\n",
            "Requirement already satisfied: six>=1.5 in /usr/local/lib/python3.7/dist-packages (from python-dateutil>=2.1->matplotlib>=3.0.0->jarvis-tools) (1.15.0)\n",
            "Requirement already satisfied: idna<3,>=2.5 in /usr/local/lib/python3.7/dist-packages (from requests>=2.23.0->jarvis-tools) (2.10)\n",
            "Requirement already satisfied: certifi>=2017.4.17 in /usr/local/lib/python3.7/dist-packages (from requests>=2.23.0->jarvis-tools) (2021.10.8)\n",
            "Requirement already satisfied: chardet<4,>=3.0.2 in /usr/local/lib/python3.7/dist-packages (from requests>=2.23.0->jarvis-tools) (3.0.4)\n",
            "Requirement already satisfied: urllib3!=1.25.0,!=1.25.1,<1.26,>=1.21.1 in /usr/local/lib/python3.7/dist-packages (from requests>=2.23.0->jarvis-tools) (1.24.3)\n",
            "Installing collected packages: xmltodict, spglib, jarvis-tools\n",
            "Successfully installed jarvis-tools-2022.1.10 spglib-1.16.3 xmltodict-0.12.0\n"
          ]
        }
      ],
      "source": [
        "!pip install jarvis-tools"
      ]
    },
    {
      "cell_type": "code",
      "source": [
        "import plotly.express as px\n",
        "from scipy.spatial import ConvexHull, convex_hull_plot_2d\n",
        "import numpy as np\n",
        "from jarvis.core.composition import Composition\n",
        "from jarvis.db.figshare import data\n",
        "\n",
        "dft_3d = data(\"dft_3d\")\n",
        "\n",
        "def convex_hull_plot(\n",
        "    my_data=dft_3d,\n",
        "    system=\"Ni-Al\",\n",
        "    show_ehull=True,\n",
        "    show_stable_labels_only=False,\n",
        "):\n",
        "    \"\"\"Get Con hull, requires my_data as array of dict[{formula,fenp,jid},...].\"\"\"\n",
        "    spec = system.split(\"-\")\n",
        "    elemental = {}\n",
        "    mix = {}\n",
        "    texts = []\n",
        "    gen = []\n",
        "    gen.append([0, 0])\n",
        "    gen.append([1, 0])\n",
        "    for i in my_data:\n",
        "        formula = i[\"formula\"]\n",
        "        comp = Composition.from_string(formula)\n",
        "        atom_frac = comp.atomic_fraction\n",
        "        all_elms = list(comp.to_dict())\n",
        "        # print (comp.to_dict())\n",
        "        enp = i[\"formation_energy_peratom\"]\n",
        "\n",
        "        if len(set(all_elms)) == 1 and all_elms[0] in spec:\n",
        "            elm = all_elms[0]\n",
        "            # print (elm,enp)\n",
        "            if elm in elemental and elemental[elm] > enp:\n",
        "                elemental[elm] = enp\n",
        "            else:\n",
        "                elemental[elm] = enp\n",
        "    for i in my_data:\n",
        "        formula = i[\"formula\"]\n",
        "        comp = Composition.from_string(formula)\n",
        "        atom_frac = comp.atomic_fraction\n",
        "        all_elms = list(comp.to_dict())\n",
        "        # print (comp.to_dict())\n",
        "\n",
        "        if (set(all_elms)) == set(spec):\n",
        "            mix[atom_frac[spec[0]]] = i[\"formation_energy_peratom\"]\n",
        "            texts.append(\n",
        "                [\n",
        "                    atom_frac[spec[0]],\n",
        "                    i[\"formation_energy_peratom\"],\n",
        "                    formula,\n",
        "                   \n",
        "                    i['jid']\n",
        "                ]\n",
        "            )\n",
        "            gen.append([atom_frac[spec[0]], i[\"formation_energy_peratom\"]])\n",
        "\n",
        "    for i in my_data:\n",
        "        formula = i[\"formula\"]\n",
        "\n",
        "        if formula==spec[0] and i[\"formation_energy_peratom\"]==0:\n",
        "            texts.append([0, 0.01, spec[0],i['jid']])\n",
        "           \n",
        "        if formula==spec[1]and i[\"formation_energy_peratom\"]==0:\n",
        "            texts.append([1, 0.01, spec[1],i['jid']])\n",
        "           \n",
        "    # texts.append([0, 0.01, spec[0]])\n",
        "    # texts.append([1, 0.01, spec[1]])\n",
        "\n",
        "    gen = np.array(gen)\n",
        "    hull = ConvexHull(points=gen)\n",
        "    print (hull.vertices)\n",
        "    stable_points = hull.vertices\n",
        "\n",
        "    stable_point_energies = {}\n",
        "    def get_dist(p1=np.array([0,0]),p2=np.array([.4,-.4]),xp=np.array([.33,-.22])):\n",
        "        p1=np.array(p1)\n",
        "        p2=np.array(p2)\n",
        "        return np.linalg.norm(np.cross(p2-p1, p1-xp))/np.linalg.norm(p2-p1)\n",
        "    def get_min_dist(xp=[],gen=gen,stable_points=stable_points):\n",
        "      xp=np.array(xp)\n",
        "      all_dists=[]\n",
        "      for i in gen[stable_points]:\n",
        "        for j in gen[stable_points]:\n",
        "          if i[0]!=j[0] and i[1]!=j[1]:\n",
        "            p1=[i[0],i[1]]\n",
        "            p2=[j[0],j[1]]\n",
        "            dist=get_dist(p1=p1,p2=p2,xp=xp)\n",
        "            \n",
        "            all_dists.append(dist)\n",
        "      return min(all_dists)\n",
        "      \n",
        "    #get_min_dist()\n",
        "    for i in stable_points:\n",
        "        if texts[i + 2][1] < 0:\n",
        "            stable_point_energies[texts[i + 2][0]] = texts[i + 2][1]\n",
        "    \n",
        "\n",
        "    fig = px.scatter(x=gen[:, 0], y=gen[:, 1],color=[\"red\" for i in range(len(gen[:,0]))])\n",
        "    for i, simplex in enumerate(hull.simplices):\n",
        "        if gen[simplex, 1][0] < 0:\n",
        "\n",
        "            fig.add_scatter(\n",
        "                x=gen[simplex, 0], y=gen[simplex, 1], line_color=\"blue\"\n",
        "            )\n",
        "\n",
        "    for ii, i in enumerate(texts):\n",
        "\n",
        "        if show_stable_labels_only:\n",
        "            if ii + 2 in stable_points and i[1] <= 0:\n",
        "              if show_ehull:\n",
        "                ehull=get_min_dist(xp=[i[0],i[1]])\n",
        "                hovertext=str(ehull)\n",
        "              else:\n",
        "                hovertext=i[3]\n",
        "                fig.add_annotation(\n",
        "                    x=i[0],\n",
        "                    y=i[1] ,\n",
        "                    text=i[2],\n",
        "                    hovertext=hovertext,\n",
        "                    font=dict(family=\"sans serif\", size=18, color=\"green\"),\n",
        "                )\n",
        "                fig.add_annotation(x=0,y=0,text=spec[0],font=dict(family=\"sans serif\", size=18, color=\"green\"))\n",
        "                fig.add_annotation(x=1,y=0,text=spec[1],font=dict(family=\"sans serif\", size=18, color=\"green\"))\n",
        "\n",
        "        else:\n",
        "            if show_ehull:\n",
        "                ehull=get_min_dist(xp=[i[0],i[1]])\n",
        "                hovertext=str(ehull)\n",
        "            else:\n",
        "              hovertext=i[3]\n",
        "            fig.add_annotation(\n",
        "                x=i[0] ,\n",
        "                y=i[1],\n",
        "                text=i[2],\n",
        "                hovertext=hovertext,\n",
        "                font=dict(family=\"sans serif\", size=18, color=\"green\"),\n",
        "            )\n",
        "\n",
        "    fig.update_layout(\n",
        "        showlegend=False,\n",
        "        xaxis_title=\"Mol fraction:\" + spec[0],\n",
        "        yaxis_title=\"Energy difference (eV)\",\n",
        "    )\n",
        "\n",
        "    fig.show(config=dict(displayModeBar=False))\n",
        "\n",
        "\n",
        "convex_hull_plot(system='Ni-Al')"
      ],
      "metadata": {
        "colab": {
          "base_uri": "https://localhost:8080/",
          "height": 650
        },
        "id": "pWfFBBwAqob-",
        "outputId": "c3309199-85ca-46e8-f06f-2faa9a586da0"
      },
      "execution_count": 3,
      "outputs": [
        {
          "output_type": "stream",
          "name": "stdout",
          "text": [
            "Obtaining 3D dataset 55k ...\n",
            "Reference:https://www.nature.com/articles/s41524-020-00440-1\n"
          ]
        },
        {
          "output_type": "stream",
          "name": "stderr",
          "text": [
            "100%|██████████| 31.9M/31.9M [00:01<00:00, 16.4MiB/s]\n"
          ]
        },
        {
          "output_type": "stream",
          "name": "stdout",
          "text": [
            "Loading the zipfile...\n",
            "Loading completed.\n",
            "[ 1  0  9  5 12  2 13]\n"
          ]
        },
        {
          "output_type": "display_data",
          "data": {
            "text/html": [
              "<html>\n",
              "<head><meta charset=\"utf-8\" /></head>\n",
              "<body>\n",
              "    <div>            <script src=\"https://cdnjs.cloudflare.com/ajax/libs/mathjax/2.7.5/MathJax.js?config=TeX-AMS-MML_SVG\"></script><script type=\"text/javascript\">if (window.MathJax) {MathJax.Hub.Config({SVG: {font: \"STIX-Web\"}});}</script>                <script type=\"text/javascript\">window.PlotlyConfig = {MathJaxConfig: 'local'};</script>\n",
              "        <script src=\"https://cdn.plot.ly/plotly-2.8.3.min.js\"></script>                <div id=\"1491dbad-3e6f-4ffa-baa9-915748047457\" class=\"plotly-graph-div\" style=\"height:525px; width:100%;\"></div>            <script type=\"text/javascript\">                                    window.PLOTLYENV=window.PLOTLYENV || {};                                    if (document.getElementById(\"1491dbad-3e6f-4ffa-baa9-915748047457\")) {                    Plotly.newPlot(                        \"1491dbad-3e6f-4ffa-baa9-915748047457\",                        [{\"hovertemplate\":\"color=red<br>x=%{x}<br>y=%{y}<extra></extra>\",\"legendgroup\":\"red\",\"marker\":{\"color\":\"#636efa\",\"symbol\":\"circle\"},\"mode\":\"markers\",\"name\":\"red\",\"orientation\":\"v\",\"showlegend\":true,\"x\":[0.0,1.0,0.625,0.75,0.75,0.4,0.5,0.75,0.6,0.25,0.75,0.75,0.5,0.75,0.6666666666666666,0.5,0.4,0.625],\"xaxis\":\"x\",\"y\":[0.0,0.0,-0.57505,-0.43843,-0.43844,-0.64801,-0.66282,-0.43087,-0.54013,-0.43182,-0.38838,-0.43843,-0.66323,-0.43851,-0.50893,-0.66282,-0.64801,-0.57505],\"yaxis\":\"y\",\"type\":\"scatter\"},{\"line\":{\"color\":\"blue\"},\"x\":[0.4,0.5],\"y\":[-0.64801,-0.66323],\"type\":\"scatter\"},{\"line\":{\"color\":\"blue\"},\"x\":[0.75,1.0],\"y\":[-0.43851,0.0],\"type\":\"scatter\"},{\"line\":{\"color\":\"blue\"},\"x\":[0.25,0.0],\"y\":[-0.43182,0.0],\"type\":\"scatter\"},{\"line\":{\"color\":\"blue\"},\"x\":[0.25,0.4],\"y\":[-0.43182,-0.64801],\"type\":\"scatter\"},{\"line\":{\"color\":\"blue\"},\"x\":[0.625,0.5],\"y\":[-0.57505,-0.66323],\"type\":\"scatter\"},{\"line\":{\"color\":\"blue\"},\"x\":[0.625,0.75],\"y\":[-0.57505,-0.43851],\"type\":\"scatter\"}],                        {\"template\":{\"data\":{\"bar\":[{\"error_x\":{\"color\":\"#2a3f5f\"},\"error_y\":{\"color\":\"#2a3f5f\"},\"marker\":{\"line\":{\"color\":\"#E5ECF6\",\"width\":0.5},\"pattern\":{\"fillmode\":\"overlay\",\"size\":10,\"solidity\":0.2}},\"type\":\"bar\"}],\"barpolar\":[{\"marker\":{\"line\":{\"color\":\"#E5ECF6\",\"width\":0.5},\"pattern\":{\"fillmode\":\"overlay\",\"size\":10,\"solidity\":0.2}},\"type\":\"barpolar\"}],\"carpet\":[{\"aaxis\":{\"endlinecolor\":\"#2a3f5f\",\"gridcolor\":\"white\",\"linecolor\":\"white\",\"minorgridcolor\":\"white\",\"startlinecolor\":\"#2a3f5f\"},\"baxis\":{\"endlinecolor\":\"#2a3f5f\",\"gridcolor\":\"white\",\"linecolor\":\"white\",\"minorgridcolor\":\"white\",\"startlinecolor\":\"#2a3f5f\"},\"type\":\"carpet\"}],\"choropleth\":[{\"colorbar\":{\"outlinewidth\":0,\"ticks\":\"\"},\"type\":\"choropleth\"}],\"contour\":[{\"colorbar\":{\"outlinewidth\":0,\"ticks\":\"\"},\"colorscale\":[[0.0,\"#0d0887\"],[0.1111111111111111,\"#46039f\"],[0.2222222222222222,\"#7201a8\"],[0.3333333333333333,\"#9c179e\"],[0.4444444444444444,\"#bd3786\"],[0.5555555555555556,\"#d8576b\"],[0.6666666666666666,\"#ed7953\"],[0.7777777777777778,\"#fb9f3a\"],[0.8888888888888888,\"#fdca26\"],[1.0,\"#f0f921\"]],\"type\":\"contour\"}],\"contourcarpet\":[{\"colorbar\":{\"outlinewidth\":0,\"ticks\":\"\"},\"type\":\"contourcarpet\"}],\"heatmap\":[{\"colorbar\":{\"outlinewidth\":0,\"ticks\":\"\"},\"colorscale\":[[0.0,\"#0d0887\"],[0.1111111111111111,\"#46039f\"],[0.2222222222222222,\"#7201a8\"],[0.3333333333333333,\"#9c179e\"],[0.4444444444444444,\"#bd3786\"],[0.5555555555555556,\"#d8576b\"],[0.6666666666666666,\"#ed7953\"],[0.7777777777777778,\"#fb9f3a\"],[0.8888888888888888,\"#fdca26\"],[1.0,\"#f0f921\"]],\"type\":\"heatmap\"}],\"heatmapgl\":[{\"colorbar\":{\"outlinewidth\":0,\"ticks\":\"\"},\"colorscale\":[[0.0,\"#0d0887\"],[0.1111111111111111,\"#46039f\"],[0.2222222222222222,\"#7201a8\"],[0.3333333333333333,\"#9c179e\"],[0.4444444444444444,\"#bd3786\"],[0.5555555555555556,\"#d8576b\"],[0.6666666666666666,\"#ed7953\"],[0.7777777777777778,\"#fb9f3a\"],[0.8888888888888888,\"#fdca26\"],[1.0,\"#f0f921\"]],\"type\":\"heatmapgl\"}],\"histogram\":[{\"marker\":{\"pattern\":{\"fillmode\":\"overlay\",\"size\":10,\"solidity\":0.2}},\"type\":\"histogram\"}],\"histogram2d\":[{\"colorbar\":{\"outlinewidth\":0,\"ticks\":\"\"},\"colorscale\":[[0.0,\"#0d0887\"],[0.1111111111111111,\"#46039f\"],[0.2222222222222222,\"#7201a8\"],[0.3333333333333333,\"#9c179e\"],[0.4444444444444444,\"#bd3786\"],[0.5555555555555556,\"#d8576b\"],[0.6666666666666666,\"#ed7953\"],[0.7777777777777778,\"#fb9f3a\"],[0.8888888888888888,\"#fdca26\"],[1.0,\"#f0f921\"]],\"type\":\"histogram2d\"}],\"histogram2dcontour\":[{\"colorbar\":{\"outlinewidth\":0,\"ticks\":\"\"},\"colorscale\":[[0.0,\"#0d0887\"],[0.1111111111111111,\"#46039f\"],[0.2222222222222222,\"#7201a8\"],[0.3333333333333333,\"#9c179e\"],[0.4444444444444444,\"#bd3786\"],[0.5555555555555556,\"#d8576b\"],[0.6666666666666666,\"#ed7953\"],[0.7777777777777778,\"#fb9f3a\"],[0.8888888888888888,\"#fdca26\"],[1.0,\"#f0f921\"]],\"type\":\"histogram2dcontour\"}],\"mesh3d\":[{\"colorbar\":{\"outlinewidth\":0,\"ticks\":\"\"},\"type\":\"mesh3d\"}],\"parcoords\":[{\"line\":{\"colorbar\":{\"outlinewidth\":0,\"ticks\":\"\"}},\"type\":\"parcoords\"}],\"pie\":[{\"automargin\":true,\"type\":\"pie\"}],\"scatter\":[{\"marker\":{\"colorbar\":{\"outlinewidth\":0,\"ticks\":\"\"}},\"type\":\"scatter\"}],\"scatter3d\":[{\"line\":{\"colorbar\":{\"outlinewidth\":0,\"ticks\":\"\"}},\"marker\":{\"colorbar\":{\"outlinewidth\":0,\"ticks\":\"\"}},\"type\":\"scatter3d\"}],\"scattercarpet\":[{\"marker\":{\"colorbar\":{\"outlinewidth\":0,\"ticks\":\"\"}},\"type\":\"scattercarpet\"}],\"scattergeo\":[{\"marker\":{\"colorbar\":{\"outlinewidth\":0,\"ticks\":\"\"}},\"type\":\"scattergeo\"}],\"scattergl\":[{\"marker\":{\"colorbar\":{\"outlinewidth\":0,\"ticks\":\"\"}},\"type\":\"scattergl\"}],\"scattermapbox\":[{\"marker\":{\"colorbar\":{\"outlinewidth\":0,\"ticks\":\"\"}},\"type\":\"scattermapbox\"}],\"scatterpolar\":[{\"marker\":{\"colorbar\":{\"outlinewidth\":0,\"ticks\":\"\"}},\"type\":\"scatterpolar\"}],\"scatterpolargl\":[{\"marker\":{\"colorbar\":{\"outlinewidth\":0,\"ticks\":\"\"}},\"type\":\"scatterpolargl\"}],\"scatterternary\":[{\"marker\":{\"colorbar\":{\"outlinewidth\":0,\"ticks\":\"\"}},\"type\":\"scatterternary\"}],\"surface\":[{\"colorbar\":{\"outlinewidth\":0,\"ticks\":\"\"},\"colorscale\":[[0.0,\"#0d0887\"],[0.1111111111111111,\"#46039f\"],[0.2222222222222222,\"#7201a8\"],[0.3333333333333333,\"#9c179e\"],[0.4444444444444444,\"#bd3786\"],[0.5555555555555556,\"#d8576b\"],[0.6666666666666666,\"#ed7953\"],[0.7777777777777778,\"#fb9f3a\"],[0.8888888888888888,\"#fdca26\"],[1.0,\"#f0f921\"]],\"type\":\"surface\"}],\"table\":[{\"cells\":{\"fill\":{\"color\":\"#EBF0F8\"},\"line\":{\"color\":\"white\"}},\"header\":{\"fill\":{\"color\":\"#C8D4E3\"},\"line\":{\"color\":\"white\"}},\"type\":\"table\"}]},\"layout\":{\"annotationdefaults\":{\"arrowcolor\":\"#2a3f5f\",\"arrowhead\":0,\"arrowwidth\":1},\"autotypenumbers\":\"strict\",\"coloraxis\":{\"colorbar\":{\"outlinewidth\":0,\"ticks\":\"\"}},\"colorscale\":{\"diverging\":[[0,\"#8e0152\"],[0.1,\"#c51b7d\"],[0.2,\"#de77ae\"],[0.3,\"#f1b6da\"],[0.4,\"#fde0ef\"],[0.5,\"#f7f7f7\"],[0.6,\"#e6f5d0\"],[0.7,\"#b8e186\"],[0.8,\"#7fbc41\"],[0.9,\"#4d9221\"],[1,\"#276419\"]],\"sequential\":[[0.0,\"#0d0887\"],[0.1111111111111111,\"#46039f\"],[0.2222222222222222,\"#7201a8\"],[0.3333333333333333,\"#9c179e\"],[0.4444444444444444,\"#bd3786\"],[0.5555555555555556,\"#d8576b\"],[0.6666666666666666,\"#ed7953\"],[0.7777777777777778,\"#fb9f3a\"],[0.8888888888888888,\"#fdca26\"],[1.0,\"#f0f921\"]],\"sequentialminus\":[[0.0,\"#0d0887\"],[0.1111111111111111,\"#46039f\"],[0.2222222222222222,\"#7201a8\"],[0.3333333333333333,\"#9c179e\"],[0.4444444444444444,\"#bd3786\"],[0.5555555555555556,\"#d8576b\"],[0.6666666666666666,\"#ed7953\"],[0.7777777777777778,\"#fb9f3a\"],[0.8888888888888888,\"#fdca26\"],[1.0,\"#f0f921\"]]},\"colorway\":[\"#636efa\",\"#EF553B\",\"#00cc96\",\"#ab63fa\",\"#FFA15A\",\"#19d3f3\",\"#FF6692\",\"#B6E880\",\"#FF97FF\",\"#FECB52\"],\"font\":{\"color\":\"#2a3f5f\"},\"geo\":{\"bgcolor\":\"white\",\"lakecolor\":\"white\",\"landcolor\":\"#E5ECF6\",\"showlakes\":true,\"showland\":true,\"subunitcolor\":\"white\"},\"hoverlabel\":{\"align\":\"left\"},\"hovermode\":\"closest\",\"mapbox\":{\"style\":\"light\"},\"paper_bgcolor\":\"white\",\"plot_bgcolor\":\"#E5ECF6\",\"polar\":{\"angularaxis\":{\"gridcolor\":\"white\",\"linecolor\":\"white\",\"ticks\":\"\"},\"bgcolor\":\"#E5ECF6\",\"radialaxis\":{\"gridcolor\":\"white\",\"linecolor\":\"white\",\"ticks\":\"\"}},\"scene\":{\"xaxis\":{\"backgroundcolor\":\"#E5ECF6\",\"gridcolor\":\"white\",\"gridwidth\":2,\"linecolor\":\"white\",\"showbackground\":true,\"ticks\":\"\",\"zerolinecolor\":\"white\"},\"yaxis\":{\"backgroundcolor\":\"#E5ECF6\",\"gridcolor\":\"white\",\"gridwidth\":2,\"linecolor\":\"white\",\"showbackground\":true,\"ticks\":\"\",\"zerolinecolor\":\"white\"},\"zaxis\":{\"backgroundcolor\":\"#E5ECF6\",\"gridcolor\":\"white\",\"gridwidth\":2,\"linecolor\":\"white\",\"showbackground\":true,\"ticks\":\"\",\"zerolinecolor\":\"white\"}},\"shapedefaults\":{\"line\":{\"color\":\"#2a3f5f\"}},\"ternary\":{\"aaxis\":{\"gridcolor\":\"white\",\"linecolor\":\"white\",\"ticks\":\"\"},\"baxis\":{\"gridcolor\":\"white\",\"linecolor\":\"white\",\"ticks\":\"\"},\"bgcolor\":\"#E5ECF6\",\"caxis\":{\"gridcolor\":\"white\",\"linecolor\":\"white\",\"ticks\":\"\"}},\"title\":{\"x\":0.05},\"xaxis\":{\"automargin\":true,\"gridcolor\":\"white\",\"linecolor\":\"white\",\"ticks\":\"\",\"title\":{\"standoff\":15},\"zerolinecolor\":\"white\",\"zerolinewidth\":2},\"yaxis\":{\"automargin\":true,\"gridcolor\":\"white\",\"linecolor\":\"white\",\"ticks\":\"\",\"title\":{\"standoff\":15},\"zerolinecolor\":\"white\",\"zerolinewidth\":2}}},\"xaxis\":{\"anchor\":\"y\",\"domain\":[0.0,1.0],\"title\":{\"text\":\"Mol fraction:Ni\"}},\"yaxis\":{\"anchor\":\"x\",\"domain\":[0.0,1.0],\"title\":{\"text\":\"Energy difference (eV)\"}},\"legend\":{\"title\":{\"text\":\"color\"},\"tracegroupgap\":0},\"margin\":{\"t\":60},\"annotations\":[{\"font\":{\"color\":\"green\",\"family\":\"sans serif\",\"size\":18},\"hovertext\":\"0.0\",\"text\":\"Al3Ni5\",\"x\":0.625,\"y\":-0.57505},{\"font\":{\"color\":\"green\",\"family\":\"sans serif\",\"size\":18},\"hovertext\":\"3.962214079395914e-05\",\"text\":\"AlNi3\",\"x\":0.75,\"y\":-0.43843},{\"font\":{\"color\":\"green\",\"family\":\"sans serif\",\"size\":18},\"hovertext\":\"3.4669373194710814e-05\",\"text\":\"AlNi3\",\"x\":0.75,\"y\":-0.43844},{\"font\":{\"color\":\"green\",\"family\":\"sans serif\",\"size\":18},\"hovertext\":\"0.0\",\"text\":\"Al3Ni2\",\"x\":0.4,\"y\":-0.64801},{\"font\":{\"color\":\"green\",\"family\":\"sans serif\",\"size\":18},\"hovertext\":\"0.00024681352911830817\",\"text\":\"AlNi\",\"x\":0.5,\"y\":-0.66282},{\"font\":{\"color\":\"green\",\"family\":\"sans serif\",\"size\":18},\"hovertext\":\"0.0037839144458219572\",\"text\":\"AlNi3\",\"x\":0.75,\"y\":-0.43087},{\"font\":{\"color\":\"green\",\"family\":\"sans serif\",\"size\":18},\"hovertext\":\"0.005746541338934714\",\"text\":\"Al2Ni3\",\"x\":0.6,\"y\":-0.54013},{\"font\":{\"color\":\"green\",\"family\":\"sans serif\",\"size\":18},\"hovertext\":\"0.0\",\"text\":\"Al3Ni\",\"x\":0.25,\"y\":-0.43182},{\"font\":{\"color\":\"green\",\"family\":\"sans serif\",\"size\":18},\"hovertext\":\"0.0027384554034034342\",\"text\":\"AlNi3\",\"x\":0.75,\"y\":-0.38838},{\"font\":{\"color\":\"green\",\"family\":\"sans serif\",\"size\":18},\"hovertext\":\"3.962214079395914e-05\",\"text\":\"AlNi3\",\"x\":0.75,\"y\":-0.43843},{\"font\":{\"color\":\"green\",\"family\":\"sans serif\",\"size\":18},\"hovertext\":\"0.0\",\"text\":\"AlNi\",\"x\":0.5,\"y\":-0.66323},{\"font\":{\"color\":\"green\",\"family\":\"sans serif\",\"size\":18},\"hovertext\":\"0.0\",\"text\":\"AlNi3\",\"x\":0.75,\"y\":-0.43851},{\"font\":{\"color\":\"green\",\"family\":\"sans serif\",\"size\":18},\"hovertext\":\"0.0012156751269984613\",\"text\":\"AlNi2\",\"x\":0.6666666666666666,\"y\":-0.50893},{\"font\":{\"color\":\"green\",\"family\":\"sans serif\",\"size\":18},\"hovertext\":\"0.00024681352911830817\",\"text\":\"AlNi\",\"x\":0.5,\"y\":-0.66282},{\"font\":{\"color\":\"green\",\"family\":\"sans serif\",\"size\":18},\"hovertext\":\"0.0\",\"text\":\"Al3Ni2\",\"x\":0.4,\"y\":-0.64801},{\"font\":{\"color\":\"green\",\"family\":\"sans serif\",\"size\":18},\"hovertext\":\"0.0\",\"text\":\"Al3Ni5\",\"x\":0.625,\"y\":-0.57505},{\"font\":{\"color\":\"green\",\"family\":\"sans serif\",\"size\":18},\"hovertext\":\"0.0049527675992433766\",\"text\":\"Al\",\"x\":1,\"y\":0.01},{\"font\":{\"color\":\"green\",\"family\":\"sans serif\",\"size\":18},\"hovertext\":\"0.005010346905144597\",\"text\":\"Ni\",\"x\":0,\"y\":0.01},{\"font\":{\"color\":\"green\",\"family\":\"sans serif\",\"size\":18},\"hovertext\":\"0.0049527675992433766\",\"text\":\"Al\",\"x\":1,\"y\":0.01},{\"font\":{\"color\":\"green\",\"family\":\"sans serif\",\"size\":18},\"hovertext\":\"0.005010346905144597\",\"text\":\"Ni\",\"x\":0,\"y\":0.01}],\"showlegend\":false},                        {\"displayModeBar\": false, \"responsive\": true}                    ).then(function(){\n",
              "                            \n",
              "var gd = document.getElementById('1491dbad-3e6f-4ffa-baa9-915748047457');\n",
              "var x = new MutationObserver(function (mutations, observer) {{\n",
              "        var display = window.getComputedStyle(gd).display;\n",
              "        if (!display || display === 'none') {{\n",
              "            console.log([gd, 'removed!']);\n",
              "            Plotly.purge(gd);\n",
              "            observer.disconnect();\n",
              "        }}\n",
              "}});\n",
              "\n",
              "// Listen for the removal of the full notebook cells\n",
              "var notebookContainer = gd.closest('#notebook-container');\n",
              "if (notebookContainer) {{\n",
              "    x.observe(notebookContainer, {childList: true});\n",
              "}}\n",
              "\n",
              "// Listen for the clearing of the current output cell\n",
              "var outputEl = gd.closest('.output');\n",
              "if (outputEl) {{\n",
              "    x.observe(outputEl, {childList: true});\n",
              "}}\n",
              "\n",
              "                        })                };                            </script>        </div>\n",
              "</body>\n",
              "</html>"
            ]
          },
          "metadata": {}
        }
      ]
    },
    {
      "cell_type": "code",
      "source": [
        ""
      ],
      "metadata": {
        "id": "yQiUBFCGqtvC"
      },
      "execution_count": null,
      "outputs": []
    }
  ]
}