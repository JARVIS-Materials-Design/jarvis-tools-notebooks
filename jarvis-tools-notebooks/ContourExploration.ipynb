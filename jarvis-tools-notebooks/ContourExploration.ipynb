{
  "nbformat": 4,
  "nbformat_minor": 0,
  "metadata": {
    "colab": {
      "provenance": [],
      "authorship_tag": "ABX9TyMqJmyoEBmwbk0RSRJn40vg",
      "include_colab_link": true
    },
    "kernelspec": {
      "name": "python3",
      "display_name": "Python 3"
    },
    "language_info": {
      "name": "python"
    }
  },
  "cells": [
    {
      "cell_type": "markdown",
      "metadata": {
        "id": "view-in-github",
        "colab_type": "text"
      },
      "source": [
        "<a href=\"https://colab.research.google.com/github/knc6/jarvis-tools-notebooks/blob/master/jarvis-tools-notebooks/ContourExploration.ipynb\" target=\"_parent\"><img src=\"https://colab.research.google.com/assets/colab-badge.svg\" alt=\"Open In Colab\"/></a>"
      ]
    },
    {
      "cell_type": "code",
      "execution_count": 1,
      "metadata": {
        "colab": {
          "base_uri": "https://localhost:8080/"
        },
        "id": "3YvpDOHA3tfH",
        "outputId": "d363def5-af22-4db0-8f11-01382b558d4f"
      },
      "outputs": [
        {
          "output_type": "stream",
          "name": "stdout",
          "text": [
            "Collecting ase\n",
            "  Downloading ase-3.23.0-py3-none-any.whl (2.9 MB)\n",
            "\u001b[2K     \u001b[90m━━━━━━━━━━━━━━━━━━━━━━━━━━━━━━━━━━━━━━━━\u001b[0m \u001b[32m2.9/2.9 MB\u001b[0m \u001b[31m9.1 MB/s\u001b[0m eta \u001b[36m0:00:00\u001b[0m\n",
            "\u001b[?25hRequirement already satisfied: numpy>=1.18.5 in /usr/local/lib/python3.10/dist-packages (from ase) (1.25.2)\n",
            "Requirement already satisfied: scipy>=1.6.0 in /usr/local/lib/python3.10/dist-packages (from ase) (1.11.4)\n",
            "Requirement already satisfied: matplotlib>=3.3.4 in /usr/local/lib/python3.10/dist-packages (from ase) (3.7.1)\n",
            "Requirement already satisfied: contourpy>=1.0.1 in /usr/local/lib/python3.10/dist-packages (from matplotlib>=3.3.4->ase) (1.2.1)\n",
            "Requirement already satisfied: cycler>=0.10 in /usr/local/lib/python3.10/dist-packages (from matplotlib>=3.3.4->ase) (0.12.1)\n",
            "Requirement already satisfied: fonttools>=4.22.0 in /usr/local/lib/python3.10/dist-packages (from matplotlib>=3.3.4->ase) (4.53.1)\n",
            "Requirement already satisfied: kiwisolver>=1.0.1 in /usr/local/lib/python3.10/dist-packages (from matplotlib>=3.3.4->ase) (1.4.5)\n",
            "Requirement already satisfied: packaging>=20.0 in /usr/local/lib/python3.10/dist-packages (from matplotlib>=3.3.4->ase) (24.1)\n",
            "Requirement already satisfied: pillow>=6.2.0 in /usr/local/lib/python3.10/dist-packages (from matplotlib>=3.3.4->ase) (9.4.0)\n",
            "Requirement already satisfied: pyparsing>=2.3.1 in /usr/local/lib/python3.10/dist-packages (from matplotlib>=3.3.4->ase) (3.1.2)\n",
            "Requirement already satisfied: python-dateutil>=2.7 in /usr/local/lib/python3.10/dist-packages (from matplotlib>=3.3.4->ase) (2.8.2)\n",
            "Requirement already satisfied: six>=1.5 in /usr/local/lib/python3.10/dist-packages (from python-dateutil>=2.7->matplotlib>=3.3.4->ase) (1.16.0)\n",
            "Installing collected packages: ase\n",
            "Successfully installed ase-3.23.0\n"
          ]
        }
      ],
      "source": [
        "pip install ase"
      ]
    },
    {
      "cell_type": "code",
      "source": [
        "import numpy as np\n",
        "from ase.build import bulk\n",
        "from ase.calculators.emt import EMT\n",
        "from ase.md.contour_exploration import ContourExploration\n",
        "from ase.md.velocitydistribution import MaxwellBoltzmannDistribution\n",
        "bulk_Al_settings = {\n",
        "    'maxstep': 1.0,\n",
        "    'parallel_drift': 0.05,\n",
        "    'remove_translation': True,\n",
        "    'potentiostat_step_scale': None,\n",
        "    'use_frenet_serret': True,\n",
        "    'angle_limit': 20,\n",
        "    'loginterval': 1}\n",
        "size = 2\n",
        "atoms = bulk('Al', 'fcc', cubic=True).repeat((size, size, size))\n",
        "atoms.calc = EMT()\n",
        "\n",
        "name = 'test_potentiostat'\n",
        "seed = 19460926\n",
        "\n",
        "\n",
        "E0 = atoms.get_potential_energy()\n",
        "\n",
        "atoms.rattle(stdev=0.18, seed=seed)\n",
        "initial_energy = atoms.get_potential_energy()\n",
        "\n",
        "rng = np.random.RandomState(seed)\n",
        "MaxwellBoltzmannDistribution(atoms, temperature_K=300, rng=rng)\n",
        "with ContourExploration(\n",
        "    atoms,\n",
        "    **bulk_Al_settings,\n",
        "    energy_target=initial_energy,\n",
        "    rng=rng,\n",
        "    trajectory=name + '.traj',\n",
        "    logfile=name + '.log',\n",
        ") as dyn:\n",
        "    print(\"Energy Above Ground State: {: .4f} eV/atom\".format(\n",
        "        (initial_energy - E0) / len(atoms)))\n",
        "    for _ in range(5):\n",
        "        dyn.run(5)\n",
        "        energy_error = (atoms.get_potential_energy() -\n",
        "                        initial_energy) / len(atoms)\n",
        "        print(f'Potentiostat Error {energy_error: .4f} eV/atom')\n",
        "        # assert 0 == pytest.approx(energy_error, abs=0.01)"
      ],
      "metadata": {
        "colab": {
          "base_uri": "https://localhost:8080/"
        },
        "id": "D9hHpxbI3uzt",
        "outputId": "dde3929a-a3c7-4296-9b2e-c27efad462b8"
      },
      "execution_count": 2,
      "outputs": [
        {
          "output_type": "stream",
          "name": "stdout",
          "text": [
            "Energy Above Ground State:  0.1764 eV/atom\n",
            "Potentiostat Error -0.0027 eV/atom\n",
            "Potentiostat Error -0.0008 eV/atom\n",
            "Potentiostat Error -0.0029 eV/atom\n",
            "Potentiostat Error -0.0006 eV/atom\n",
            "Potentiostat Error -0.0008 eV/atom\n"
          ]
        }
      ]
    },
    {
      "cell_type": "code",
      "source": [],
      "metadata": {
        "id": "MFxMhB0p4Nsh"
      },
      "execution_count": null,
      "outputs": []
    }
  ]
}