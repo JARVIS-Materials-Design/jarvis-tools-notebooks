{
  "nbformat": 4,
  "nbformat_minor": 0,
  "metadata": {
    "colab": {
      "name": "JARVIS-DFT-FormationEnergiesAccuracyCheck.ipynb",
      "provenance": [],
      "authorship_tag": "ABX9TyMEubUsO6UTHqekQamBWAlW",
      "include_colab_link": true
    },
    "kernelspec": {
      "name": "python3",
      "display_name": "Python 3"
    }
  },
  "cells": [
    {
      "cell_type": "markdown",
      "metadata": {
        "id": "view-in-github",
        "colab_type": "text"
      },
      "source": [
        "<a href=\"https://colab.research.google.com/github/knc6/jarvis-tools-notebooks/blob/master/jarvis-tools-notebooks/JARVIS_DFT_FormationEnergiesAccuracyCheck.ipynb\" target=\"_parent\"><img src=\"https://colab.research.google.com/assets/colab-badge.svg\" alt=\"Open In Colab\"/></a>"
      ]
    },
    {
      "cell_type": "code",
      "metadata": {
        "id": "lHJ6PKzGAujQ",
        "colab_type": "code",
        "colab": {
          "base_uri": "https://localhost:8080/",
          "height": 581
        },
        "outputId": "f9b2fe9b-f84a-4810-8bff-d5e965b30fe7"
      },
      "source": [
        "!pip install jarvis-tools"
      ],
      "execution_count": 1,
      "outputs": [
        {
          "output_type": "stream",
          "text": [
            "Collecting jarvis-tools\n",
            "\u001b[?25l  Downloading https://files.pythonhosted.org/packages/70/74/0e211af6e64fe07838e07d36ac6504ffbac8ad929d92db91256bf618eb22/jarvis_tools-2020.6.26-py2.py3-none-any.whl (794kB)\n",
            "\r\u001b[K     |▍                               | 10kB 16.5MB/s eta 0:00:01\r\u001b[K     |▉                               | 20kB 1.8MB/s eta 0:00:01\r\u001b[K     |█▎                              | 30kB 2.3MB/s eta 0:00:01\r\u001b[K     |█▋                              | 40kB 2.6MB/s eta 0:00:01\r\u001b[K     |██                              | 51kB 2.0MB/s eta 0:00:01\r\u001b[K     |██▌                             | 61kB 2.3MB/s eta 0:00:01\r\u001b[K     |██▉                             | 71kB 2.6MB/s eta 0:00:01\r\u001b[K     |███▎                            | 81kB 2.8MB/s eta 0:00:01\r\u001b[K     |███▊                            | 92kB 3.0MB/s eta 0:00:01\r\u001b[K     |████▏                           | 102kB 2.8MB/s eta 0:00:01\r\u001b[K     |████▌                           | 112kB 2.8MB/s eta 0:00:01\r\u001b[K     |█████                           | 122kB 2.8MB/s eta 0:00:01\r\u001b[K     |█████▍                          | 133kB 2.8MB/s eta 0:00:01\r\u001b[K     |█████▊                          | 143kB 2.8MB/s eta 0:00:01\r\u001b[K     |██████▏                         | 153kB 2.8MB/s eta 0:00:01\r\u001b[K     |██████▋                         | 163kB 2.8MB/s eta 0:00:01\r\u001b[K     |███████                         | 174kB 2.8MB/s eta 0:00:01\r\u001b[K     |███████▍                        | 184kB 2.8MB/s eta 0:00:01\r\u001b[K     |███████▉                        | 194kB 2.8MB/s eta 0:00:01\r\u001b[K     |████████▎                       | 204kB 2.8MB/s eta 0:00:01\r\u001b[K     |████████▋                       | 215kB 2.8MB/s eta 0:00:01\r\u001b[K     |█████████                       | 225kB 2.8MB/s eta 0:00:01\r\u001b[K     |█████████▌                      | 235kB 2.8MB/s eta 0:00:01\r\u001b[K     |██████████                      | 245kB 2.8MB/s eta 0:00:01\r\u001b[K     |██████████▎                     | 256kB 2.8MB/s eta 0:00:01\r\u001b[K     |██████████▊                     | 266kB 2.8MB/s eta 0:00:01\r\u001b[K     |███████████▏                    | 276kB 2.8MB/s eta 0:00:01\r\u001b[K     |███████████▌                    | 286kB 2.8MB/s eta 0:00:01\r\u001b[K     |████████████                    | 296kB 2.8MB/s eta 0:00:01\r\u001b[K     |████████████▍                   | 307kB 2.8MB/s eta 0:00:01\r\u001b[K     |████████████▉                   | 317kB 2.8MB/s eta 0:00:01\r\u001b[K     |█████████████▏                  | 327kB 2.8MB/s eta 0:00:01\r\u001b[K     |█████████████▋                  | 337kB 2.8MB/s eta 0:00:01\r\u001b[K     |██████████████                  | 348kB 2.8MB/s eta 0:00:01\r\u001b[K     |██████████████▍                 | 358kB 2.8MB/s eta 0:00:01\r\u001b[K     |██████████████▉                 | 368kB 2.8MB/s eta 0:00:01\r\u001b[K     |███████████████▎                | 378kB 2.8MB/s eta 0:00:01\r\u001b[K     |███████████████▊                | 389kB 2.8MB/s eta 0:00:01\r\u001b[K     |████████████████                | 399kB 2.8MB/s eta 0:00:01\r\u001b[K     |████████████████▌               | 409kB 2.8MB/s eta 0:00:01\r\u001b[K     |█████████████████               | 419kB 2.8MB/s eta 0:00:01\r\u001b[K     |█████████████████▎              | 430kB 2.8MB/s eta 0:00:01\r\u001b[K     |█████████████████▊              | 440kB 2.8MB/s eta 0:00:01\r\u001b[K     |██████████████████▏             | 450kB 2.8MB/s eta 0:00:01\r\u001b[K     |██████████████████▌             | 460kB 2.8MB/s eta 0:00:01\r\u001b[K     |███████████████████             | 471kB 2.8MB/s eta 0:00:01\r\u001b[K     |███████████████████▍            | 481kB 2.8MB/s eta 0:00:01\r\u001b[K     |███████████████████▉            | 491kB 2.8MB/s eta 0:00:01\r\u001b[K     |████████████████████▏           | 501kB 2.8MB/s eta 0:00:01\r\u001b[K     |████████████████████▋           | 512kB 2.8MB/s eta 0:00:01\r\u001b[K     |█████████████████████           | 522kB 2.8MB/s eta 0:00:01\r\u001b[K     |█████████████████████▍          | 532kB 2.8MB/s eta 0:00:01\r\u001b[K     |█████████████████████▉          | 542kB 2.8MB/s eta 0:00:01\r\u001b[K     |██████████████████████▎         | 552kB 2.8MB/s eta 0:00:01\r\u001b[K     |██████████████████████▊         | 563kB 2.8MB/s eta 0:00:01\r\u001b[K     |███████████████████████         | 573kB 2.8MB/s eta 0:00:01\r\u001b[K     |███████████████████████▌        | 583kB 2.8MB/s eta 0:00:01\r\u001b[K     |████████████████████████        | 593kB 2.8MB/s eta 0:00:01\r\u001b[K     |████████████████████████▎       | 604kB 2.8MB/s eta 0:00:01\r\u001b[K     |████████████████████████▊       | 614kB 2.8MB/s eta 0:00:01\r\u001b[K     |█████████████████████████▏      | 624kB 2.8MB/s eta 0:00:01\r\u001b[K     |█████████████████████████▋      | 634kB 2.8MB/s eta 0:00:01\r\u001b[K     |██████████████████████████      | 645kB 2.8MB/s eta 0:00:01\r\u001b[K     |██████████████████████████▍     | 655kB 2.8MB/s eta 0:00:01\r\u001b[K     |██████████████████████████▉     | 665kB 2.8MB/s eta 0:00:01\r\u001b[K     |███████████████████████████▏    | 675kB 2.8MB/s eta 0:00:01\r\u001b[K     |███████████████████████████▋    | 686kB 2.8MB/s eta 0:00:01\r\u001b[K     |████████████████████████████    | 696kB 2.8MB/s eta 0:00:01\r\u001b[K     |████████████████████████████▌   | 706kB 2.8MB/s eta 0:00:01\r\u001b[K     |████████████████████████████▉   | 716kB 2.8MB/s eta 0:00:01\r\u001b[K     |█████████████████████████████▎  | 727kB 2.8MB/s eta 0:00:01\r\u001b[K     |█████████████████████████████▊  | 737kB 2.8MB/s eta 0:00:01\r\u001b[K     |██████████████████████████████  | 747kB 2.8MB/s eta 0:00:01\r\u001b[K     |██████████████████████████████▌ | 757kB 2.8MB/s eta 0:00:01\r\u001b[K     |███████████████████████████████ | 768kB 2.8MB/s eta 0:00:01\r\u001b[K     |███████████████████████████████▍| 778kB 2.8MB/s eta 0:00:01\r\u001b[K     |███████████████████████████████▊| 788kB 2.8MB/s eta 0:00:01\r\u001b[K     |████████████████████████████████| 798kB 2.8MB/s \n",
            "\u001b[?25hRequirement already satisfied: matplotlib in /usr/local/lib/python3.6/dist-packages (from jarvis-tools) (3.2.2)\n",
            "Requirement already satisfied: scipy in /usr/local/lib/python3.6/dist-packages (from jarvis-tools) (1.4.1)\n",
            "Collecting xmltodict\n",
            "  Downloading https://files.pythonhosted.org/packages/28/fd/30d5c1d3ac29ce229f6bdc40bbc20b28f716e8b363140c26eff19122d8a5/xmltodict-0.12.0-py2.py3-none-any.whl\n",
            "Requirement already satisfied: toolz in /usr/local/lib/python3.6/dist-packages (from jarvis-tools) (0.10.0)\n",
            "Requirement already satisfied: pytest in /usr/local/lib/python3.6/dist-packages (from jarvis-tools) (3.6.4)\n",
            "Requirement already satisfied: numpy in /usr/local/lib/python3.6/dist-packages (from jarvis-tools) (1.18.5)\n",
            "Collecting spglib\n",
            "\u001b[?25l  Downloading https://files.pythonhosted.org/packages/5c/23/4c3ac9800663cac42903b5d696cf34170ec144635c1c77152f7ab97731e1/spglib-1.15.1-cp36-cp36m-manylinux2010_x86_64.whl (294kB)\n",
            "\u001b[K     |████████████████████████████████| 296kB 14.8MB/s \n",
            "\u001b[?25hRequirement already satisfied: joblib in /usr/local/lib/python3.6/dist-packages (from jarvis-tools) (0.15.1)\n",
            "Requirement already satisfied: requests in /usr/local/lib/python3.6/dist-packages (from jarvis-tools) (2.23.0)\n",
            "Requirement already satisfied: python-dateutil>=2.1 in /usr/local/lib/python3.6/dist-packages (from matplotlib->jarvis-tools) (2.8.1)\n",
            "Requirement already satisfied: kiwisolver>=1.0.1 in /usr/local/lib/python3.6/dist-packages (from matplotlib->jarvis-tools) (1.2.0)\n",
            "Requirement already satisfied: pyparsing!=2.0.4,!=2.1.2,!=2.1.6,>=2.0.1 in /usr/local/lib/python3.6/dist-packages (from matplotlib->jarvis-tools) (2.4.7)\n",
            "Requirement already satisfied: cycler>=0.10 in /usr/local/lib/python3.6/dist-packages (from matplotlib->jarvis-tools) (0.10.0)\n",
            "Requirement already satisfied: pluggy<0.8,>=0.5 in /usr/local/lib/python3.6/dist-packages (from pytest->jarvis-tools) (0.7.1)\n",
            "Requirement already satisfied: six>=1.10.0 in /usr/local/lib/python3.6/dist-packages (from pytest->jarvis-tools) (1.12.0)\n",
            "Requirement already satisfied: attrs>=17.4.0 in /usr/local/lib/python3.6/dist-packages (from pytest->jarvis-tools) (19.3.0)\n",
            "Requirement already satisfied: atomicwrites>=1.0 in /usr/local/lib/python3.6/dist-packages (from pytest->jarvis-tools) (1.4.0)\n",
            "Requirement already satisfied: more-itertools>=4.0.0 in /usr/local/lib/python3.6/dist-packages (from pytest->jarvis-tools) (8.4.0)\n",
            "Requirement already satisfied: py>=1.5.0 in /usr/local/lib/python3.6/dist-packages (from pytest->jarvis-tools) (1.8.2)\n",
            "Requirement already satisfied: setuptools in /usr/local/lib/python3.6/dist-packages (from pytest->jarvis-tools) (47.3.1)\n",
            "Requirement already satisfied: idna<3,>=2.5 in /usr/local/lib/python3.6/dist-packages (from requests->jarvis-tools) (2.9)\n",
            "Requirement already satisfied: urllib3!=1.25.0,!=1.25.1,<1.26,>=1.21.1 in /usr/local/lib/python3.6/dist-packages (from requests->jarvis-tools) (1.24.3)\n",
            "Requirement already satisfied: certifi>=2017.4.17 in /usr/local/lib/python3.6/dist-packages (from requests->jarvis-tools) (2020.6.20)\n",
            "Requirement already satisfied: chardet<4,>=3.0.2 in /usr/local/lib/python3.6/dist-packages (from requests->jarvis-tools) (3.0.4)\n",
            "Installing collected packages: xmltodict, spglib, jarvis-tools\n",
            "Successfully installed jarvis-tools-2020.6.26 spglib-1.15.1 xmltodict-0.12.0\n"
          ],
          "name": "stdout"
        }
      ]
    },
    {
      "cell_type": "code",
      "metadata": {
        "id": "v2300qbCAw0l",
        "colab_type": "code",
        "colab": {
          "base_uri": "https://localhost:8080/",
          "height": 35
        },
        "outputId": "04dd112c-2593-4b5d-93bf-a2214a7bbaba"
      },
      "source": [
        "import jarvis\n",
        "jarvis.__version__"
      ],
      "execution_count": 2,
      "outputs": [
        {
          "output_type": "execute_result",
          "data": {
            "application/vnd.google.colaboratory.intrinsic": {
              "type": "string"
            },
            "text/plain": [
              "'2020.6.26'"
            ]
          },
          "metadata": {
            "tags": []
          },
          "execution_count": 2
        }
      ]
    },
    {
      "cell_type": "code",
      "metadata": {
        "id": "Prrgc490A0RA",
        "colab_type": "code",
        "colab": {
          "base_uri": "https://localhost:8080/",
          "height": 289
        },
        "outputId": "57cf925c-0b1e-4358-d2c5-0f13d3b15208"
      },
      "source": [
        "!wget https://ndownloader.figshare.com/files/23508293 -O ssub.csv "
      ],
      "execution_count": 3,
      "outputs": [
        {
          "output_type": "stream",
          "text": [
            "--2020-06-28 13:00:09--  https://ndownloader.figshare.com/files/23508293\n",
            "Resolving ndownloader.figshare.com (ndownloader.figshare.com)... 34.255.47.165, 54.72.178.160, 52.17.76.230, ...\n",
            "Connecting to ndownloader.figshare.com (ndownloader.figshare.com)|34.255.47.165|:443... connected.\n",
            "HTTP request sent, awaiting response... 302 Found\n",
            "Location: https://s3-eu-west-1.amazonaws.com/pfigshare-u-files/23508293/ssub.csv [following]\n",
            "--2020-06-28 13:00:09--  https://s3-eu-west-1.amazonaws.com/pfigshare-u-files/23508293/ssub.csv\n",
            "Resolving s3-eu-west-1.amazonaws.com (s3-eu-west-1.amazonaws.com)... 52.218.100.179\n",
            "Connecting to s3-eu-west-1.amazonaws.com (s3-eu-west-1.amazonaws.com)|52.218.100.179|:443... connected.\n",
            "HTTP request sent, awaiting response... 200 OK\n",
            "Length: 40900 (40K) [text/csv]\n",
            "Saving to: ‘ssub.csv’\n",
            "\n",
            "ssub.csv            100%[===================>]  39.94K  --.-KB/s    in 0.1s    \n",
            "\n",
            "2020-06-28 13:00:10 (414 KB/s) - ‘ssub.csv’ saved [40900/40900]\n",
            "\n"
          ],
          "name": "stdout"
        }
      ]
    },
    {
      "cell_type": "code",
      "metadata": {
        "id": "ELpNZ2WQA36c",
        "colab_type": "code",
        "colab": {
          "base_uri": "https://localhost:8080/",
          "height": 34
        },
        "outputId": "9710108b-0ad6-45c3-88f9-978fea73ad35"
      },
      "source": [
        "from jarvis.core.composition import Composition\n",
        "from jarvis.core.atoms import Atoms\n",
        "import pandas as pd\n",
        "from collections import OrderedDict\n",
        "from jarvis.db.figshare import data\n",
        "df=pd.read_csv('ssub.csv')\n",
        "db3d=data('dft_3d')\n",
        "js3d=pd.DataFrame(db3d)"
      ],
      "execution_count": 4,
      "outputs": [
        {
          "output_type": "stream",
          "text": [
            "Downloading 3D dataset ...\n"
          ],
          "name": "stdout"
        }
      ]
    },
    {
      "cell_type": "code",
      "metadata": {
        "id": "64viDRWzA5x_",
        "colab_type": "code",
        "colab": {}
      },
      "source": [
        "def get_form(formula=''):\n",
        "    formula=Composition.from_string(formula,sort=True).reduced_formula\n",
        "    data=[]\n",
        "    for i,ii in js3d.iterrows():\n",
        "        #print (ii)\n",
        "        atoms=Atoms.from_dict(ii['atoms'])\n",
        "        iformula=Composition(atoms.composition.to_dict(),sort=True).reduced_formula\n",
        "        ehull=ii['ehull']\n",
        "        form_enp=ii['formation_energy_peratom']\n",
        "        if formula==iformula:\n",
        "            data.append([ii['jid'],formula,ehull, form_enp])\n",
        "    return data\n",
        "        "
      ],
      "execution_count": 5,
      "outputs": []
    },
    {
      "cell_type": "code",
      "metadata": {
        "id": "17M-BCiPA8gr",
        "colab_type": "code",
        "colab": {}
      },
      "source": [
        "mem=[]\n",
        "for i,ii in df.iterrows():\n",
        "    comp=ii['Comp']\n",
        "    FormEn=ii['FormEn']\n",
        "    data=get_form(comp)\n",
        "    info={}\n",
        "    info['comp']=comp\n",
        "    info['FormEn']=FormEn\n",
        "    info['jdata']=data\n",
        "    mem.append(info)\n",
        "    \n",
        "    "
      ],
      "execution_count": 6,
      "outputs": []
    },
    {
      "cell_type": "code",
      "metadata": {
        "id": "FvsDMlInA-NS",
        "colab_type": "code",
        "colab": {}
      },
      "source": [
        "X=[]\n",
        "Y=[]\n",
        "for i in mem:\n",
        "    if len(i['jdata'])>0:\n",
        "        tmp=(sorted(i['jdata'],key=lambda x:x[3])[0])\n",
        "        if tmp!='na' and tmp[2]==0.0 :\n",
        "            X.append(float(i['FormEn']))\n",
        "            Y.append(float(tmp[3]))\n",
        "        "
      ],
      "execution_count": 7,
      "outputs": []
    },
    {
      "cell_type": "code",
      "metadata": {
        "id": "Ww6miUMiA_3i",
        "colab_type": "code",
        "colab": {
          "base_uri": "https://localhost:8080/",
          "height": 282
        },
        "outputId": "b08eae6e-a023-455b-8451-45bbd3fd991a"
      },
      "source": [
        "import matplotlib.pyplot as plt\n",
        "%matplotlib inline\n",
        "plt.plot(X,Y,'.')"
      ],
      "execution_count": 8,
      "outputs": [
        {
          "output_type": "execute_result",
          "data": {
            "text/plain": [
              "[<matplotlib.lines.Line2D at 0x7fb6d5fcab70>]"
            ]
          },
          "metadata": {
            "tags": []
          },
          "execution_count": 8
        },
        {
          "output_type": "display_data",
          "data": {
            "image/png": "[encoded data removed]",
            "text/plain": [
              "<Figure size 432x288 with 1 Axes>"
            ]
          },
          "metadata": {
            "tags": [],
            "needs_background": "light"
          }
        }
      ]
    },
    {
      "cell_type": "code",
      "metadata": {
        "id": "G7WVrviSBBaR",
        "colab_type": "code",
        "colab": {}
      },
      "source": [
        ""
      ],
      "execution_count": null,
      "outputs": []
    }
  ]
}