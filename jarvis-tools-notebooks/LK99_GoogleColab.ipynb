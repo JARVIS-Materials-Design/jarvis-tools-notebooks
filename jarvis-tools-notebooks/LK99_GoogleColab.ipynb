{
  "nbformat": 4,
  "nbformat_minor": 0,
  "metadata": {
    "colab": {
      "name": "GPAW-Colab.ipynb",
      "provenance": [],
      "authorship_tag": "ABX9TyPHh1o4qnclgFkbf/NPXC+C",
      "include_colab_link": true
    },
    "kernelspec": {
      "name": "python3",
      "display_name": "Python 3"
    },
    "language_info": {
      "name": "python"
    }
  },
  "cells": [
    {
      "cell_type": "markdown",
      "metadata": {
        "id": "view-in-github",
        "colab_type": "text"
      },
      "source": [
        "<a href=\"https://colab.research.google.com/github/knc6/jarvis-tools-notebooks/blob/master/jarvis-tools-notebooks/LK99_GoogleColab.ipynb\" target=\"_parent\"><img src=\"https://colab.research.google.com/assets/colab-badge.svg\" alt=\"Open In Colab\"/></a>"
      ]
    },
    {
      "cell_type": "markdown",
      "source": [
        "## Table of Contents\n",
        "\n",
        "1. Install necessary paxkages\n",
        "2. Visualize LK99 crystal structure and theoretical XRD pattern\n",
        "3. Electronic bandstructure\n",
        "\n"
      ],
      "metadata": {
        "id": "FHkc191CvMJm"
      }
    },
    {
      "cell_type": "markdown",
      "source": [
        "Install packages"
      ],
      "metadata": {
        "id": "qiochdFxNbpL"
      }
    },
    {
      "cell_type": "code",
      "source": [
        "!apt install python3-mpi4py cython3 libxc-dev gpaw-data\n",
        "!pip -q install gpaw jarvis-tools"
      ],
      "metadata": {
        "colab": {
          "base_uri": "https://localhost:8080/"
        },
        "id": "Hk_GsDWcpMkO",
        "outputId": "d7126969-e96c-41c3-b5ed-3ce91ece998a"
      },
      "execution_count": 1,
      "outputs": [
        {
          "output_type": "stream",
          "name": "stdout",
          "text": [
            "Reading package lists... Done\n",
            "Building dependency tree... Done\n",
            "Reading state information... Done\n",
            "The following additional packages will be installed:\n",
            "  libxc9\n",
            "Suggested packages:\n",
            "  cython-doc python3-numpy\n",
            "The following NEW packages will be installed:\n",
            "  cython3 gpaw-data libxc-dev libxc9 python3-mpi4py\n",
            "0 upgraded, 5 newly installed, 0 to remove and 15 not upgraded.\n",
            "Need to get 66.5 MB of archives.\n",
            "After this operation, 102 MB of additional disk space will be used.\n",
            "Get:1 http://archive.ubuntu.com/ubuntu jammy/universe amd64 cython3 amd64 0.29.28-1ubuntu3 [1,336 kB]\n",
            "Get:2 http://archive.ubuntu.com/ubuntu jammy/universe amd64 gpaw-data all 0.9.20000-2 [52.7 MB]\n",
            "Get:3 http://archive.ubuntu.com/ubuntu jammy/universe amd64 libxc9 amd64 5.1.7-1ubuntu1 [3,900 kB]\n",
            "Get:4 http://archive.ubuntu.com/ubuntu jammy/universe amd64 libxc-dev amd64 5.1.7-1ubuntu1 [8,038 kB]\n",
            "Get:5 http://archive.ubuntu.com/ubuntu jammy/universe amd64 python3-mpi4py amd64 3.1.3-1build2 [465 kB]\n",
            "Fetched 66.5 MB in 4s (17.9 MB/s)\n",
            "Selecting previously unselected package cython3.\n",
            "(Reading database ... 120500 files and directories currently installed.)\n",
            "Preparing to unpack .../cython3_0.29.28-1ubuntu3_amd64.deb ...\n",
            "Unpacking cython3 (0.29.28-1ubuntu3) ...\n",
            "Selecting previously unselected package gpaw-data.\n",
            "Preparing to unpack .../gpaw-data_0.9.20000-2_all.deb ...\n",
            "Unpacking gpaw-data (0.9.20000-2) ...\n",
            "Selecting previously unselected package libxc9:amd64.\n",
            "Preparing to unpack .../libxc9_5.1.7-1ubuntu1_amd64.deb ...\n",
            "Unpacking libxc9:amd64 (5.1.7-1ubuntu1) ...\n",
            "Selecting previously unselected package libxc-dev.\n",
            "Preparing to unpack .../libxc-dev_5.1.7-1ubuntu1_amd64.deb ...\n",
            "Unpacking libxc-dev (5.1.7-1ubuntu1) ...\n",
            "Selecting previously unselected package python3-mpi4py.\n",
            "Preparing to unpack .../python3-mpi4py_3.1.3-1build2_amd64.deb ...\n",
            "Unpacking python3-mpi4py (3.1.3-1build2) ...\n",
            "Setting up python3-mpi4py (3.1.3-1build2) ...\n",
            "Setting up gpaw-data (0.9.20000-2) ...\n",
            "Setting up cython3 (0.29.28-1ubuntu3) ...\n",
            "Setting up libxc9:amd64 (5.1.7-1ubuntu1) ...\n",
            "Setting up libxc-dev (5.1.7-1ubuntu1) ...\n",
            "Processing triggers for libc-bin (2.35-0ubuntu3.1) ...\n",
            "\u001b[2K     \u001b[90m━━━━━━━━━━━━━━━━━━━━━━━━━━━━━━━━━━━━━━━━\u001b[0m \u001b[32m1.8/1.8 MB\u001b[0m \u001b[31m4.3 MB/s\u001b[0m eta \u001b[36m0:00:00\u001b[0m\n",
            "\u001b[?25h  Preparing metadata (setup.py) ... \u001b[?25l\u001b[?25hdone\n",
            "\u001b[2K     \u001b[90m━━━━━━━━━━━━━━━━━━━━━━━━━━━━━━━━━━━━━━\u001b[0m \u001b[32m974.6/974.6 kB\u001b[0m \u001b[31m52.3 MB/s\u001b[0m eta \u001b[36m0:00:00\u001b[0m\n",
            "\u001b[2K     \u001b[90m━━━━━━━━━━━━━━━━━━━━━━━━━━━━━━━━━━━━━━━━\u001b[0m \u001b[32m2.2/2.2 MB\u001b[0m \u001b[31m58.4 MB/s\u001b[0m eta \u001b[36m0:00:00\u001b[0m\n",
            "\u001b[2K     \u001b[90m━━━━━━━━━━━━━━━━━━━━━━━━━━━━━━━━━━━━━━\u001b[0m \u001b[32m515.3/515.3 kB\u001b[0m \u001b[31m33.7 MB/s\u001b[0m eta \u001b[36m0:00:00\u001b[0m\n",
            "\u001b[?25h  Building wheel for gpaw (setup.py) ... \u001b[?25l\u001b[?25hdone\n"
          ]
        }
      ]
    },
    {
      "cell_type": "code",
      "source": [
        "lk99=\"\"\"bulk@POSCAR-arx-2.vasp\n",
        "1.0\n",
        "9.930682382105156 -1.4818366361e-06 0.0\n",
        "-4.96533990779532 8.60022396073567 -0.0\n",
        "0.0 0.0 7.4109945172796605\n",
        "Pb Cu P O\n",
        "9 1 6 25\n",
        "direct\n",
        "0.9986807449642078 0.7699202447216552 0.2474756380877509\n",
        "0.997701438216252 0.2577003216124319 0.7545056960306785\n",
        "0.2300797552783452 0.228760500242567 0.2474756380877509\n",
        "0.7422996783875685 0.7400011176038168 0.7545056960306785\n",
        "0.7712395147574378 0.0013192690357936 0.2474756380877509\n",
        "0.2599988973961879 0.0022985757837491 0.7545056960306785\n",
        "0.3333333129999971 0.6666666269999979 0.0102252768912011\n",
        "0.3333333129999971 0.6666666269999979 0.4962563424132084\n",
        "0.6666666870000029 0.3333333429999996 0.5217140548665616\n",
        "0.6666666870000029 0.3333333429999996 0.063495569971491\n",
        "0.6238378061607577 0.5940989414527301 0.2330614375419467\n",
        "0.3715115645822017 0.391385257438064 0.7499251076346213\n",
        "0.40590105854727 0.0297388347080183 0.2330614375419467\n",
        "0.6086147425619355 0.9801263371441329 0.7499251076346213\n",
        "0.970261195291984 0.3761622238392447 0.2330614375419467\n",
        "0.0198736928558696 0.628488465417801 0.7499251076346213\n",
        "0.497034195008619 0.641912780728218 0.2504819573050943\n",
        "0.4722574174374839 0.3124116086150668 0.7489819492636393\n",
        "0.3580872192717823 0.8551214142804011 0.2504819573050943\n",
        "0.6875883913849331 0.1598458078224275 0.7489819492636393\n",
        "0.1448785557195963 0.5029657759913753 0.2504819573050943\n",
        "0.8401541621775773 0.5277425535625101 0.7489819492636393\n",
        "0.7465890784344098 0.6974373665162791 0.0877326196589775\n",
        "0.251871033148696 0.3302579489920529 0.9082269759127742\n",
        "0.3025626334837207 0.0491516819181211 0.0877326196589775\n",
        "0.6697420510079468 0.9216131131566275 0.9082269759127742\n",
        "0.950848347081885 0.2534109515655927 0.0877326196589775\n",
        "0.0783869158433784 0.7481289968513065 0.9082269759127742\n",
        "0.2751067320564097 0.36310860261387 0.5737407252403873\n",
        "0.7132743878686607 0.6201447197159712 0.4140528338576862\n",
        "0.6368913973861298 0.9119981584425314 0.5737407252403873\n",
        "0.379855280284029 0.0931296381526946 0.4140528338576862\n",
        "0.0880018705574747 0.7248932979435926 0.5737407252403873\n",
        "0.9068703908473114 0.2867256421313418 0.4140528338576862\n",
        "0.5441603686812513 0.4191736441937305 0.1764358135764958\n",
        "0.4780900223868556 0.5733419996779769 0.7722935441387523\n",
        "0.5808263258062671 0.1249867244875282 0.1764358135764958\n",
        "0.4266579703220141 0.9047479627088743 0.7722935441387523\n",
        "0.8750132455124694 0.4558396313187486 0.1764358135764958\n",
        "0.0952520072911234 0.5219099776131445 0.7722935441387523\n",
        "-0.0 0.0 0.2917658511111268\n",
        "\"\"\""
      ],
      "metadata": {
        "id": "fK-q70pGqRbX"
      },
      "execution_count": 3,
      "outputs": []
    },
    {
      "cell_type": "code",
      "source": [
        "from jarvis.io.vasp.inputs import Poscar\n",
        "lk99_atoms = Poscar.from_string(lk99).atoms.ase_converter()"
      ],
      "metadata": {
        "id": "GH0t2GZRqWHF"
      },
      "execution_count": 7,
      "outputs": []
    },
    {
      "cell_type": "code",
      "source": [
        "%matplotlib inline\n",
        "import matplotlib.pyplot as plt\n",
        "from ase.visualize.plot import plot_atoms\n",
        "fig, ax = plt.subplots()\n",
        "plt.axis('off')\n",
        "#plot_atoms(lk99_atoms, ax, radii=0.3, rotation=('90x,45y,0z'))\n",
        "plot_atoms(lk99_atoms, ax, radii=0.3, rotation=('0x,0y,0z'))"
      ],
      "metadata": {
        "id": "pHdIR0Qh70p0",
        "outputId": "be3dfe34-1b2d-45da-f269-4cd6fb416799",
        "colab": {
          "base_uri": "https://localhost:8080/",
          "height": 359
        }
      },
      "execution_count": 50,
      "outputs": [
        {
          "output_type": "execute_result",
          "data": {
            "text/plain": [
              "<Axes: >"
            ]
          },
          "metadata": {},
          "execution_count": 50
        },
        {
          "output_type": "display_data",
          "data": {
            "text/plain": [
              "<Figure size 640x480 with 1 Axes>"
            ],
            "image/png": "[encoded data removed]"
          },
          "metadata": {}
        }
      ]
    },
    {
      "cell_type": "code",
      "source": [
        "from jarvis.analysis.diffraction.xrd import XRD\n",
        "from jarvis.core.atoms import ase_to_atoms\n",
        "theta,d_hkls,intens = XRD().simulate(atoms=ase_to_atoms(lk99_atoms))\n",
        "plt.bar(theta,intens)\n",
        "plt.xlabel(r'2$\\theta$')\n",
        "plt.ylabel('Intensity')"
      ],
      "metadata": {
        "id": "rL4Gz89j9HMD",
        "outputId": "38a1a941-0a98-47c0-bc8e-b4da0d1a9649",
        "colab": {
          "base_uri": "https://localhost:8080/",
          "height": 471
        }
      },
      "execution_count": 52,
      "outputs": [
        {
          "output_type": "execute_result",
          "data": {
            "text/plain": [
              "Text(0, 0.5, 'Intensity')"
            ]
          },
          "metadata": {},
          "execution_count": 52
        },
        {
          "output_type": "display_data",
          "data": {
            "text/plain": [
              "<Figure size 640x480 with 1 Axes>"
            ],
            "image/png": "[encoded data removed]"
          },
          "metadata": {}
        }
      ]
    },
    {
      "cell_type": "code",
      "source": [
        "%%time\n",
        "from ase.build import bulk\n",
        "from gpaw import GPAW, PW, FermiDirac\n",
        "\n",
        "# Perform standard ground state calculation (with plane wave basis)\n",
        "\n",
        "calc = GPAW(mode=PW(200),\n",
        "            xc='PBE',\n",
        "            kpts=(2,2,2),\n",
        "            random=True,  # random guess (needed if many empty bands required)\n",
        "            occupations=FermiDirac(0.01),\n",
        "            txt='lk99_atoms_gs.txt')\n",
        "lk99_atoms.calc = calc\n",
        "lk99_atoms.get_potential_energy()\n",
        "ef = calc.get_fermi_level()\n",
        "calc.write('lk99_atoms_gs.gpw')"
      ],
      "metadata": {
        "id": "WuAjbKpeqr2f",
        "outputId": "a5b60f27-f5db-4d76-93f1-1581a1cadc95",
        "colab": {
          "base_uri": "https://localhost:8080/"
        }
      },
      "execution_count": 39,
      "outputs": [
        {
          "output_type": "stream",
          "name": "stdout",
          "text": [
            "CPU times: user 9min 9s, sys: 2min 23s, total: 11min 33s\n",
            "Wall time: 9min 33s\n"
          ]
        }
      ]
    },
    {
      "cell_type": "code",
      "source": [
        "print(calc.get_number_of_electrons(),calc.get_number_of_spins(),calc.get_number_of_bands())"
      ],
      "metadata": {
        "id": "R63Mw5jA6go_",
        "outputId": "c95977d1-8b57-4fe4-8e95-d1cdcbe1fb54",
        "colab": {
          "base_uri": "https://localhost:8080/"
        }
      },
      "execution_count": 40,
      "outputs": [
        {
          "output_type": "stream",
          "name": "stdout",
          "text": [
            "317.0 1 195\n"
          ]
        }
      ]
    },
    {
      "cell_type": "code",
      "source": [
        "e, dos = calc.get_dos(spin=0, npts=2001, width=0.2)\n",
        "import matplotlib.pyplot as plt\n",
        "%matplotlib inline\n",
        "e_f = calc.get_fermi_level()\n",
        "plt.plot(e - e_f, dos)\n",
        "plt.xlabel('E-Ef(eV)')\n",
        "plt.ylabel('Density of states')\n",
        "plt.xlim([-5,5])\n",
        "plt.show()"
      ],
      "metadata": {
        "id": "Mi6xO_lC_w3H",
        "outputId": "b4627d43-9194-4f93-c166-12b4e28c9fbb",
        "colab": {
          "base_uri": "https://localhost:8080/",
          "height": 449
        }
      },
      "execution_count": 54,
      "outputs": [
        {
          "output_type": "display_data",
          "data": {
            "text/plain": [
              "<Figure size 640x480 with 1 Axes>"
            ],
            "image/png": "[encoded data removed]"
          },
          "metadata": {}
        }
      ]
    },
    {
      "cell_type": "code",
      "source": [
        "# Restart from ground state and fix potential:\n",
        "calc = GPAW('lk99_atoms_gs.gpw').fixed_density(\n",
        "    nbands=210,\n",
        "    symmetry='off',\n",
        "    kpts={'path': 'GMK', 'npoints': 10},\n",
        "    convergence={'bands': 160})\n",
        "%matplotlib inline\n",
        "bs = calc.band_structure()\n",
        "bs.plot(filename='bandstructure.png', show=False, emax=10.0)"
      ],
      "metadata": {
        "id": "-reEVMGhqr0X",
        "outputId": "45d4f8de-b47d-47ae-94bf-ec30509a245f",
        "colab": {
          "base_uri": "https://localhost:8080/"
        }
      },
      "execution_count": null,
      "outputs": [
        {
          "output_type": "stream",
          "name": "stdout",
          "text": [
            "\n",
            "  ___ ___ ___ _ _ _  \n",
            " |   |   |_  | | | | \n",
            " | | | | | . | | | | \n",
            " |__ |  _|___|_____|  23.6.1\n",
            " |___|_|             \n",
            "\n",
            "User:   ???@402c60dccb6c\n",
            "Date:   Thu Aug  3 01:33:34 2023\n",
            "Arch:   x86_64\n",
            "Pid:    452\n",
            "CWD:    /content\n",
            "Python: 3.10.12\n",
            "gpaw:   /usr/local/lib/python3.10/dist-packages/gpaw\n",
            "_gpaw:  /usr/local/lib/python3.10/dist-packages/\n",
            "        _gpaw.cpython-310-x86_64-linux-gnu.so\n",
            "ase:    /usr/local/lib/python3.10/dist-packages/ase (version 3.22.1)\n",
            "numpy:  /usr/local/lib/python3.10/dist-packages/numpy (version 1.22.4)\n",
            "scipy:  /usr/local/lib/python3.10/dist-packages/scipy (version 1.10.1)\n",
            "libxc:  5.1.7\n",
            "units:  Angstrom and eV\n",
            "cores: 1\n",
            "OpenMP: False\n",
            "OMP_NUM_THREADS: 1\n",
            "\n",
            "Input parameters:\n",
            "  convergence: {bands: 160}\n",
            "  gpts: [35 35 25]\n",
            "  kpts: {npoints: 10,\n",
            "         path: GMK}\n",
            "  mode: {ecut: 200.0,\n",
            "         name: pw}\n",
            "  nbands: 210\n",
            "  occupations: {name: fermi-dirac,\n",
            "                width: 0.01}\n",
            "  random: True\n",
            "  symmetry: off\n",
            "  xc: PBE\n",
            "\n",
            "Initialize ...\n",
            "\n",
            "species:\n",
            "  Pb:\n",
            "    name: Lead\n",
            "    id: 66e73b13d76dc837202bcdb13fee58e6\n",
            "    Z: 82.0\n",
            "    valence: 14\n",
            "    core: 68\n",
            "    charge: 0.0\n",
            "    file: /usr/share/gpaw-setups/Pb.PBE.gz\n",
            "    compensation charges: {type: gauss,\n",
            "                           rc: 0.38,\n",
            "                           lmax: 2}\n",
            "    cutoffs: {filter: 2.36,\n",
            "              core: 2.43}\n",
            "    valence states:\n",
            "      #              energy  rcut\n",
            "      - 6s(2.00)   -11.969   1.259\n",
            "      - 6p(2.00)    -3.506   1.275\n",
            "      - 5d(10.00)   -21.211   1.217\n",
            "      -  s          15.243   1.259\n",
            "      -  p          23.705   1.275\n",
            "      -  d           6.001   1.217\n",
            "  \n",
            "    # Using partial waves for Pb as LCAO basis\n",
            "\n",
            "  Cu:\n",
            "    name: Copper\n",
            "    id: f1c4d45d90492f1bbfdcb091e8418fdf\n",
            "    Z: 29.0\n",
            "    valence: 11\n",
            "    core: 18\n",
            "    charge: 0.0\n",
            "    file: /usr/share/gpaw-setups/Cu.PBE.gz\n",
            "    compensation charges: {type: gauss,\n",
            "                           rc: 0.33,\n",
            "                           lmax: 2}\n",
            "    cutoffs: {filter: 2.06,\n",
            "              core: 2.43}\n",
            "    valence states:\n",
            "      #              energy  rcut\n",
            "      - 4s(1.00)    -4.609   1.164\n",
            "      - 4p(0.00)    -0.698   1.164\n",
            "      - 3d(10.00)    -5.039   1.058\n",
            "      -  s          22.603   1.164\n",
            "      -  p          26.513   1.164\n",
            "      -  d          22.172   1.058\n",
            "  \n",
            "    # Using partial waves for Cu as LCAO basis\n",
            "\n",
            "  P:\n",
            "    name: Phosphorus\n",
            "    id: 03b4a34d18bb161274a4ee27145ba70a\n",
            "    Z: 15.0\n",
            "    valence: 5\n",
            "    core: 10\n",
            "    charge: 0.0\n",
            "    file: /usr/share/gpaw-setups/P.PBE.gz\n",
            "    compensation charges: {type: gauss,\n",
            "                           rc: 0.30,\n",
            "                           lmax: 2}\n",
            "    cutoffs: {filter: 1.69,\n",
            "              core: 1.81}\n",
            "    valence states:\n",
            "      #              energy  rcut\n",
            "      - 3s(2.00)   -13.968   0.953\n",
            "      - 3p(3.00)    -5.506   0.953\n",
            "      -  s          13.244   0.953\n",
            "      -  p          21.705   0.953\n",
            "      -  d           0.000   0.953\n",
            "  \n",
            "    # Using partial waves for P as LCAO basis\n",
            "\n",
            "  O:\n",
            "    name: Oxygen\n",
            "    id: 32ecd46bf208036f09c70b0ec9a88b78\n",
            "    Z: 8.0\n",
            "    valence: 6\n",
            "    core: 2\n",
            "    charge: 0.0\n",
            "    file: /usr/share/gpaw-setups/O.PBE.gz\n",
            "    compensation charges: {type: gauss,\n",
            "                           rc: 0.21,\n",
            "                           lmax: 2}\n",
            "    cutoffs: {filter: 1.17,\n",
            "              core: 0.83}\n",
            "    valence states:\n",
            "      #              energy  rcut\n",
            "      - 2s(2.00)   -23.961   0.688\n",
            "      - 2p(4.00)    -9.029   0.598\n",
            "      -  s           3.251   0.688\n",
            "      -  p          18.182   0.598\n",
            "      -  d           0.000   0.619\n",
            "  \n",
            "    # Using partial waves for O as LCAO basis\n",
            "\n",
            "Reference energy: -5257330.411599  # eV\n",
            "\n",
            "Spin-paired calculation\n",
            "\n",
            "Convergence criteria:\n",
            " Maximum [total energy] change in last 3 cyles: 0.0005 eV / valence electron\n",
            " Maximum integral of absolute [dens]ity change: 0.0001 electrons / valence electron\n",
            " Maximum integral of absolute [eigenst]ate change: 4e-08 eV^2 / valence electron\n",
            " Maximum number of scf [iter]ations: 333\n",
            " (Square brackets indicate name in SCF output, whereas a 'c' in\n",
            " the SCF output indicates the quantity has converged.)\n",
            "\n",
            "Symmetries present (total): 1\n",
            "\n",
            "  ( 1  0  0)\n",
            "  ( 0  1  0)\n",
            "  ( 0  0  1)\n",
            "\n",
            "10 k-points\n",
            "10 k-points in the irreducible part of the Brillouin zone\n",
            "       k-points in crystal coordinates                weights\n",
            "   0:     0.00000000    0.00000000    0.00000000       0.10000000\n",
            "   1:     0.10000000    0.00000000    0.00000000       0.10000000\n",
            "   2:     0.20000000    0.00000000    0.00000000       0.10000000\n",
            "   3:     0.30000000    0.00000000    0.00000000       0.10000000\n",
            "   4:     0.40000000    0.00000000    0.00000000       0.10000000\n",
            "   5:     0.50000000    0.00000000    0.00000000       0.10000000\n",
            "   6:     0.45833333    0.08333333    0.00000000       0.10000000\n",
            "   7:     0.41666667    0.16666667    0.00000000       0.10000000\n",
            "   8:     0.37500000    0.25000000    0.00000000       0.10000000\n",
            "   9:     0.33333333    0.33333333    0.00000000       0.10000000\n",
            "\n",
            "Wave functions: Plane wave expansion\n",
            "  Cutoff energy: 200.000 eV\n",
            "  Number of coefficients (min, max): 4056, 4133\n",
            "  Pulay-stress correction: 0.000000 eV/Ang^3 (de/decut=0.000000)\n",
            "  Using Numpy's FFT\n",
            "  ScaLapack parameters: grid=1x1, blocksize=None\n",
            "  Wavefunction extrapolation:\n",
            "    Improved wavefunction reuse through dual PAW basis \n",
            "\n",
            "Occupation numbers: Fermi-Dirac:\n",
            "  width: 0.0100  # eV\n",
            " \n",
            "\n",
            "Eigensolver\n",
            "   Davidson(niter=2) \n",
            "\n",
            "Densities:\n",
            "  Coarse grid: 35*35*25 grid\n",
            "  Fine grid: 70*70*50 grid\n",
            "  Total Charge: 0.000000 \n",
            "\n",
            "Density mixing:\n",
            "  Method: separate\n",
            "  Backend: pulay\n",
            "  Linear mixing parameter: 0.05\n",
            "  old densities: 5\n",
            "  Damping of long wavelength oscillations: 50 \n",
            "\n",
            "Hamiltonian:\n",
            "  XC and Coulomb potentials evaluated on a 70*70*50 grid\n",
            "  Using the PBE Exchange-Correlation functional\n",
            "  External potential:\n",
            "    NoExternalPotential\n",
            " \n",
            "\n",
            "XC parameters: PBE with 2 nearest neighbor stencil\n",
            "\n",
            "Memory estimate:\n",
            "  Process memory now: 2888.14 MiB\n",
            "  Calculator: 203.04 MiB\n",
            "    Density: 16.00 MiB\n",
            "      Arrays: 6.07 MiB\n",
            "      Localized functions: 7.58 MiB\n",
            "      Mixer: 2.34 MiB\n",
            "    Hamiltonian: 4.19 MiB\n",
            "      Arrays: 3.97 MiB\n",
            "      XC: 0.00 MiB\n",
            "      Poisson: 0.00 MiB\n",
            "      vbar: 0.22 MiB\n",
            "    Wavefunctions: 182.85 MiB\n",
            "      Arrays psit_nG: 132.44 MiB\n",
            "      Eigensolver: 20.29 MiB\n",
            "      Projections: 18.68 MiB\n",
            "      Projectors: 9.64 MiB\n",
            "      PW-descriptor: 1.80 MiB\n",
            "\n",
            "Total number of cores used: 1\n",
            "\n",
            "Number of atoms: 41\n",
            "Number of atomic orbitals: 214\n",
            "Number of bands in calculation: 210\n",
            "Number of valence electrons: 317\n",
            "Bands to converge: 160\n",
            "\n",
            "... initialized\n",
            "\n",
            "Initializing position-dependent things.\n",
            "\n"
          ]
        }
      ]
    },
    {
      "cell_type": "code",
      "source": [],
      "metadata": {
        "id": "by1PqPKJvYhM"
      },
      "execution_count": null,
      "outputs": []
    },
    {
      "cell_type": "code",
      "source": [],
      "metadata": {
        "id": "reFFEYNNvYem"
      },
      "execution_count": null,
      "outputs": []
    },
    {
      "cell_type": "code",
      "source": [],
      "metadata": {
        "id": "1EbL7eTSvYZL"
      },
      "execution_count": null,
      "outputs": []
    }
  ]
}