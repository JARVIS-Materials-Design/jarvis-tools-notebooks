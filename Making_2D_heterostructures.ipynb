{
  "nbformat": 4,
  "nbformat_minor": 0,
  "metadata": {
    "kernelspec": {
      "display_name": "Python 3",
      "language": "python",
      "name": "python3"
    },
    "language_info": {
      "codemirror_mode": {
        "name": "ipython",
        "version": 3
      },
      "file_extension": ".py",
      "mimetype": "text/x-python",
      "name": "python",
      "nbconvert_exporter": "python",
      "pygments_lexer": "ipython3",
      "version": "3.6.7"
    },
    "colab": {
      "name": "Making 2D heterostructures",
      "provenance": [],
      "include_colab_link": true
    }
  },
  "cells": [
    {
      "cell_type": "markdown",
      "metadata": {
        "id": "view-in-github",
        "colab_type": "text"
      },
      "source": [
        "<a href=\"https://colab.research.google.com/github/knc6/jarvis-tools-notebooks/blob/master/Making_2D_heterostructures.ipynb\" target=\"_parent\"><img src=\"https://colab.research.google.com/assets/colab-badge.svg\" alt=\"Open In Colab\"/></a>"
      ]
    },
    {
      "cell_type": "markdown",
      "metadata": {
        "id": "1UwGjo8yx1i-"
      },
      "source": [
        "# Example of making 2D heterostructures"
      ]
    },
    {
      "cell_type": "code",
      "metadata": {
        "id": "8Y2u3olRx3p8",
        "colab": {
          "base_uri": "https://localhost:8080/",
          "height": 684
        },
        "outputId": "baa42c8e-149f-42a8-8b15-e7b209f4216a"
      },
      "source": [
        "!pip install jarvis-tools"
      ],
      "execution_count": null,
      "outputs": [
        {
          "output_type": "stream",
          "text": [
            "Collecting jarvis-tools\n",
            "\u001b[?25l  Downloading https://files.pythonhosted.org/packages/f4/6e/a52571342a12de019d9d2b0c4fe4b35e63213bdb8fa198faaf5c00b14e69/jarvis_tools-2020.11.27-py2.py3-none-any.whl (880kB)\n",
            "\u001b[K     |████████████████████████████████| 890kB 6.6MB/s \n",
            "\u001b[?25hRequirement already satisfied: joblib>=0.14.1 in /usr/local/lib/python3.6/dist-packages (from jarvis-tools) (0.17.0)\n",
            "Requirement already satisfied: matplotlib>=3.0.0 in /usr/local/lib/python3.6/dist-packages (from jarvis-tools) (3.2.2)\n",
            "Collecting spglib>=1.14.1\n",
            "\u001b[?25l  Downloading https://files.pythonhosted.org/packages/22/16/efc10f7611f94de5503c4f33c216b73bcf99688382e9b9855f5442973b90/spglib-1.16.0-cp36-cp36m-manylinux2010_x86_64.whl (295kB)\n",
            "\u001b[K     |████████████████████████████████| 296kB 19.9MB/s \n",
            "\u001b[?25hCollecting numpy>=1.19.1\n",
            "\u001b[?25l  Downloading https://files.pythonhosted.org/packages/87/86/753182c9085ba4936c0076269a571613387cdb77ae2bf537448bfd63472c/numpy-1.19.4-cp36-cp36m-manylinux2010_x86_64.whl (14.5MB)\n",
            "\u001b[K     |████████████████████████████████| 14.5MB 300kB/s \n",
            "\u001b[?25hCollecting xmltodict>=0.11.0\n",
            "  Downloading https://files.pythonhosted.org/packages/28/fd/30d5c1d3ac29ce229f6bdc40bbc20b28f716e8b363140c26eff19122d8a5/xmltodict-0.12.0-py2.py3-none-any.whl\n",
            "Requirement already satisfied: requests>=2.23.0 in /usr/local/lib/python3.6/dist-packages (from jarvis-tools) (2.23.0)\n",
            "Requirement already satisfied: toolz>=0.9.0 in /usr/local/lib/python3.6/dist-packages (from jarvis-tools) (0.11.1)\n",
            "Requirement already satisfied: scipy>=1.4.1 in /usr/local/lib/python3.6/dist-packages (from jarvis-tools) (1.4.1)\n",
            "Requirement already satisfied: kiwisolver>=1.0.1 in /usr/local/lib/python3.6/dist-packages (from matplotlib>=3.0.0->jarvis-tools) (1.3.1)\n",
            "Requirement already satisfied: python-dateutil>=2.1 in /usr/local/lib/python3.6/dist-packages (from matplotlib>=3.0.0->jarvis-tools) (2.8.1)\n",
            "Requirement already satisfied: pyparsing!=2.0.4,!=2.1.2,!=2.1.6,>=2.0.1 in /usr/local/lib/python3.6/dist-packages (from matplotlib>=3.0.0->jarvis-tools) (2.4.7)\n",
            "Requirement already satisfied: cycler>=0.10 in /usr/local/lib/python3.6/dist-packages (from matplotlib>=3.0.0->jarvis-tools) (0.10.0)\n",
            "Requirement already satisfied: certifi>=2017.4.17 in /usr/local/lib/python3.6/dist-packages (from requests>=2.23.0->jarvis-tools) (2020.11.8)\n",
            "Requirement already satisfied: urllib3!=1.25.0,!=1.25.1,<1.26,>=1.21.1 in /usr/local/lib/python3.6/dist-packages (from requests>=2.23.0->jarvis-tools) (1.24.3)\n",
            "Requirement already satisfied: chardet<4,>=3.0.2 in /usr/local/lib/python3.6/dist-packages (from requests>=2.23.0->jarvis-tools) (3.0.4)\n",
            "Requirement already satisfied: idna<3,>=2.5 in /usr/local/lib/python3.6/dist-packages (from requests>=2.23.0->jarvis-tools) (2.10)\n",
            "Requirement already satisfied: six>=1.5 in /usr/local/lib/python3.6/dist-packages (from python-dateutil>=2.1->matplotlib>=3.0.0->jarvis-tools) (1.15.0)\n",
            "\u001b[31mERROR: tensorflow 2.3.0 has requirement numpy<1.19.0,>=1.16.0, but you'll have numpy 1.19.4 which is incompatible.\u001b[0m\n",
            "\u001b[31mERROR: datascience 0.10.6 has requirement folium==0.2.1, but you'll have folium 0.8.3 which is incompatible.\u001b[0m\n",
            "\u001b[31mERROR: albumentations 0.1.12 has requirement imgaug<0.2.7,>=0.2.5, but you'll have imgaug 0.2.9 which is incompatible.\u001b[0m\n",
            "Installing collected packages: numpy, spglib, xmltodict, jarvis-tools\n",
            "  Found existing installation: numpy 1.18.5\n",
            "    Uninstalling numpy-1.18.5:\n",
            "      Successfully uninstalled numpy-1.18.5\n",
            "Successfully installed jarvis-tools-2020.11.27 numpy-1.19.4 spglib-1.16.0 xmltodict-0.12.0\n"
          ],
          "name": "stdout"
        },
        {
          "output_type": "display_data",
          "data": {
            "application/vnd.colab-display-data+json": {
              "pip_warning": {
                "packages": [
                  "numpy"
                ]
              }
            }
          },
          "metadata": {
            "tags": []
          }
        }
      ]
    },
    {
      "cell_type": "code",
      "metadata": {
        "id": "JQY7C6XlNiOp"
      },
      "source": [
        "from jarvis.core.atoms import Atoms\n",
        "from jarvis.analysis.interface.zur import make_interface\n",
        "from jarvis.db.figshare import data\n",
        "from jarvis.io.vasp.inputs import Poscar\n",
        "import sys\n",
        "\n",
        "dft_2d_structs = data('dft_2d')\n",
        "max_hets = 10 \n",
        "count = 0\n",
        "for i in dft_2d_structs:\n",
        "  for j in dft_2d_structs:\n",
        "    if i!=j:\n",
        "      try:\n",
        "          atoms1 = Atoms.from_dict(i['atoms'])\n",
        "          atoms2 = Atoms.from_dict(j['atoms'])\n",
        "          hetero = make_interface(film=atoms1, subs=atoms2)['interface'].center_around_origin()\n",
        "          print (i['jid'],j['jid'],atoms1.composition.reduced_formula,atoms2.composition.reduced_formula, hetero)\n",
        "          filename='POSCAR-'+i['jid']+j['jid']+'.vasp'\n",
        "          Poscar(hetero).write_file(filename)\n",
        "          count+=1\n",
        "          if count>max_hets:\n",
        "            sys.exit()\n",
        "      except:\n",
        "        pass"
      ],
      "execution_count": null,
      "outputs": []
    },
    {
      "cell_type": "code",
      "metadata": {
        "id": "6l1XgT0fx1la"
      },
      "source": [
        ""
      ],
      "execution_count": null,
      "outputs": []
    }
  ]
}