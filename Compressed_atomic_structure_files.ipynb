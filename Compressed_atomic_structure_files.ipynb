{
  "nbformat": 4,
  "nbformat_minor": 0,
  "metadata": {
    "colab": {
      "provenance": [],
      "authorship_tag": "ABX9TyOjTDI3EyHSiAYiTbk5Ggvx",
      "include_colab_link": true
    },
    "kernelspec": {
      "name": "python3",
      "display_name": "Python 3"
    },
    "language_info": {
      "name": "python"
    }
  },
  "cells": [
    {
      "cell_type": "markdown",
      "metadata": {
        "id": "view-in-github",
        "colab_type": "text"
      },
      "source": [
        "<a href=\"https://colab.research.google.com/github/knc6/jarvis-tools-notebooks/blob/master/Compressed_atomic_structure_files.ipynb\" target=\"_parent\"><img src=\"https://colab.research.google.com/assets/colab-badge.svg\" alt=\"Open In Colab\"/></a>"
      ]
    },
    {
      "cell_type": "code",
      "execution_count": 1,
      "metadata": {
        "colab": {
          "base_uri": "https://localhost:8080/"
        },
        "id": "IbjijiMN9zU4",
        "outputId": "8179b980-03c9-4b53-8bec-0491499fd897"
      },
      "outputs": [
        {
          "output_type": "stream",
          "name": "stdout",
          "text": [
            "Looking in indexes: https://pypi.org/simple, https://us-python.pkg.dev/colab-wheels/public/simple/\n",
            "Collecting jarvis-tools\n",
            "  Downloading jarvis_tools-2022.9.16-py2.py3-none-any.whl (967 kB)\n",
            "\u001b[K     |████████████████████████████████| 967 kB 5.0 MB/s \n",
            "\u001b[?25hRequirement already satisfied: tqdm>=4.41.1 in /usr/local/lib/python3.7/dist-packages (from jarvis-tools) (4.64.1)\n",
            "Requirement already satisfied: numpy>=1.19.5 in /usr/local/lib/python3.7/dist-packages (from jarvis-tools) (1.21.6)\n",
            "Collecting spglib>=1.14.1\n",
            "  Downloading spglib-2.0.1-cp37-cp37m-manylinux_2_17_x86_64.manylinux2014_x86_64.whl (514 kB)\n",
            "\u001b[K     |████████████████████████████████| 514 kB 39.2 MB/s \n",
            "\u001b[?25hRequirement already satisfied: matplotlib>=3.0.0 in /usr/local/lib/python3.7/dist-packages (from jarvis-tools) (3.2.2)\n",
            "Requirement already satisfied: requests>=2.23.0 in /usr/local/lib/python3.7/dist-packages (from jarvis-tools) (2.23.0)\n",
            "Requirement already satisfied: scipy>=1.4.1 in /usr/local/lib/python3.7/dist-packages (from jarvis-tools) (1.7.3)\n",
            "Collecting xmltodict>=0.11.0\n",
            "  Downloading xmltodict-0.13.0-py2.py3-none-any.whl (10.0 kB)\n",
            "Requirement already satisfied: toolz>=0.9.0 in /usr/local/lib/python3.7/dist-packages (from jarvis-tools) (0.12.0)\n",
            "Requirement already satisfied: joblib>=0.14.1 in /usr/local/lib/python3.7/dist-packages (from jarvis-tools) (1.2.0)\n",
            "Requirement already satisfied: pyparsing!=2.0.4,!=2.1.2,!=2.1.6,>=2.0.1 in /usr/local/lib/python3.7/dist-packages (from matplotlib>=3.0.0->jarvis-tools) (3.0.9)\n",
            "Requirement already satisfied: cycler>=0.10 in /usr/local/lib/python3.7/dist-packages (from matplotlib>=3.0.0->jarvis-tools) (0.11.0)\n",
            "Requirement already satisfied: kiwisolver>=1.0.1 in /usr/local/lib/python3.7/dist-packages (from matplotlib>=3.0.0->jarvis-tools) (1.4.4)\n",
            "Requirement already satisfied: python-dateutil>=2.1 in /usr/local/lib/python3.7/dist-packages (from matplotlib>=3.0.0->jarvis-tools) (2.8.2)\n",
            "Requirement already satisfied: typing-extensions in /usr/local/lib/python3.7/dist-packages (from kiwisolver>=1.0.1->matplotlib>=3.0.0->jarvis-tools) (4.1.1)\n",
            "Requirement already satisfied: six>=1.5 in /usr/local/lib/python3.7/dist-packages (from python-dateutil>=2.1->matplotlib>=3.0.0->jarvis-tools) (1.15.0)\n",
            "Requirement already satisfied: urllib3!=1.25.0,!=1.25.1,<1.26,>=1.21.1 in /usr/local/lib/python3.7/dist-packages (from requests>=2.23.0->jarvis-tools) (1.24.3)\n",
            "Requirement already satisfied: chardet<4,>=3.0.2 in /usr/local/lib/python3.7/dist-packages (from requests>=2.23.0->jarvis-tools) (3.0.4)\n",
            "Requirement already satisfied: idna<3,>=2.5 in /usr/local/lib/python3.7/dist-packages (from requests>=2.23.0->jarvis-tools) (2.10)\n",
            "Requirement already satisfied: certifi>=2017.4.17 in /usr/local/lib/python3.7/dist-packages (from requests>=2.23.0->jarvis-tools) (2022.9.24)\n",
            "Installing collected packages: xmltodict, spglib, jarvis-tools\n",
            "Successfully installed jarvis-tools-2022.9.16 spglib-2.0.1 xmltodict-0.13.0\n"
          ]
        }
      ],
      "source": [
        "!pip install jarvis-tools"
      ]
    },
    {
      "cell_type": "code",
      "source": [
        "from jarvis.db.figshare import get_jid_data\n",
        "from jarvis.core.atoms import Atoms\n",
        "from jarvis.db.jsonutils import dumpjson\n",
        "from jarvis.io.vasp.inputs import Poscar\n",
        "import zlib\n",
        "import os\n",
        "import numpy as np\n",
        "import zipfile\n",
        "\n",
        "\n",
        "def compress_atoms(atoms=None,filename='atoms.zlib'):\n",
        "    a_str = Poscar(atoms).to_string()\n",
        "    a_str = zlib.compress(a_str.encode()) \n",
        "    f=open(filename,'wb')\n",
        "    f.write(a_str)\n",
        "    f.close()\n",
        "    return a_str\n",
        "\n",
        "def decompress_atoms(string=None,filename='atoms.zlib'):\n",
        "    if string is None:\n",
        "        g=open(filename,'rb')\n",
        "        string=g.read()\n",
        "        g.close()  \n",
        "    atoms = Poscar.from_string(zlib.decompress(string).decode())\n",
        "    return atoms\n",
        "\n",
        "#Al2O3 \n",
        "atoms=Atoms.from_dict(get_jid_data(jid='JVASP-32',dataset='dft_3d')['atoms'])\n",
        "dumpjson(data=atoms.to_dict(),filename='al2o3.json')\n",
        "\n",
        "atoms.write_poscar('POSCAR-Al2O3.vasp')\n",
        "\n",
        "atoms.write_cif('atoms.cif')\n",
        "\n",
        "a_str = Poscar(atoms).to_string()\n",
        "np.save('np.npy',a_str)\n",
        "a_str=compress_atoms(atoms=atoms)\n",
        "decomp=decompress_atoms(filename='atoms.zlib')"
      ],
      "metadata": {
        "colab": {
          "base_uri": "https://localhost:8080/"
        },
        "id": "0A24KpjK98sl",
        "outputId": "5b3f81d7-1f18-4c61-c6d6-512d42175e81"
      },
      "execution_count": 4,
      "outputs": [
        {
          "output_type": "stream",
          "name": "stdout",
          "text": [
            "Obtaining 3D dataset 55k ...\n",
            "Reference:https://www.nature.com/articles/s41524-020-00440-1\n",
            "Loading the zipfile...\n",
            "Loading completed.\n"
          ]
        }
      ]
    },
    {
      "cell_type": "code",
      "source": [
        "\n",
        "print(os.stat('al2o3.json').st_size,\n",
        "os.stat('POSCAR-Al2O3.vasp').st_size,\n",
        "os.stat('atoms.cif').st_size,\n",
        "os.stat('atoms.zlib').st_size,\n",
        "os.stat('np.npy').st_size )\n"
      ],
      "metadata": {
        "colab": {
          "base_uri": "https://localhost:8080/"
        },
        "id": "LlIvEJdX-KSR",
        "outputId": "53782700-ff37-4648-a496-ec33fd6fff40"
      },
      "execution_count": 5,
      "outputs": [
        {
          "output_type": "stream",
          "name": "stdout",
          "text": [
            "1027 778 1081 384 3240\n"
          ]
        }
      ]
    },
    {
      "cell_type": "code",
      "source": [],
      "metadata": {
        "id": "GPlhLthg-i_t"
      },
      "execution_count": null,
      "outputs": []
    }
  ]
}