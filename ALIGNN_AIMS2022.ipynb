{
  "nbformat": 4,
  "nbformat_minor": 0,
  "metadata": {
    "colab": {
      "name": "ALIGNN_AIMS2022.ipynb",
      "provenance": [],
      "toc_visible": true,
      "include_colab_link": true
    },
    "kernelspec": {
      "name": "python3",
      "display_name": "Python 3"
    },
    "language_info": {
      "name": "python"
    }
  },
  "cells": [
    {
      "cell_type": "markdown",
      "metadata": {
        "id": "view-in-github",
        "colab_type": "text"
      },
      "source": [
        "<a href=\"https://colab.research.google.com/github/RamyaGuru/jarvis-tools-notebooks/blob/master/ALIGNN_AIMS2022.ipynb\" target=\"_parent\"><img src=\"https://colab.research.google.com/assets/colab-badge.svg\" alt=\"Open In Colab\"/></a>"
      ]
    },
    {
      "cell_type": "markdown",
      "source": [
        "#ALIGNN Tutorial\n",
        "\n",
        "We will start by installing the ALIGNN package using the following command. NOTE: The leading exclamation point (!) indicates that this is a command line operation rather than a "
      ],
      "metadata": {
        "id": "OPi6SWHiUfe9"
      }
    },
    {
      "cell_type": "code",
      "execution_count": 1,
      "metadata": {
        "id": "zQz4dwLeHU8j",
        "colab": {
          "base_uri": "https://localhost:8080/",
          "height": 1000
        },
        "outputId": "210d99ca-afb4-4b06-b990-8f5e7f7e86b5"
      },
      "outputs": [
        {
          "output_type": "stream",
          "name": "stdout",
          "text": [
            "Looking in indexes: https://pypi.org/simple, https://us-python.pkg.dev/colab-wheels/public/simple/\n",
            "Collecting alignn\n",
            "  Downloading alignn-2022.1.25-py2.py3-none-any.whl (79 kB)\n",
            "\u001b[K     |████████████████████████████████| 79 kB 1.7 MB/s \n",
            "\u001b[?25hCollecting flake8>=3.9.1\n",
            "  Downloading flake8-4.0.1-py2.py3-none-any.whl (64 kB)\n",
            "\u001b[K     |████████████████████████████████| 64 kB 1.4 MB/s \n",
            "\u001b[?25hCollecting pydocstyle>=6.0.0\n",
            "  Downloading pydocstyle-6.1.1-py3-none-any.whl (37 kB)\n",
            "Requirement already satisfied: tqdm>=4.60.0 in /usr/local/lib/python3.7/dist-packages (from alignn) (4.64.0)\n",
            "Collecting jarvis-tools>=2021.07.19\n",
            "  Downloading jarvis_tools-2022.5.20-py2.py3-none-any.whl (962 kB)\n",
            "\u001b[K     |████████████████████████████████| 962 kB 14.3 MB/s \n",
            "\u001b[?25hCollecting pytorch-ignite>=0.4.7\n",
            "  Downloading pytorch_ignite-0.4.9-py3-none-any.whl (259 kB)\n",
            "\u001b[K     |████████████████████████████████| 259 kB 26.5 MB/s \n",
            "\u001b[?25hRequirement already satisfied: pydantic>=1.8.1 in /usr/local/lib/python3.7/dist-packages (from alignn) (1.8.2)\n",
            "Requirement already satisfied: scikit-learn>=0.22.2 in /usr/local/lib/python3.7/dist-packages (from alignn) (1.0.2)\n",
            "Collecting pyparsing<3,>=2.2.1\n",
            "  Downloading pyparsing-2.4.7-py2.py3-none-any.whl (67 kB)\n",
            "\u001b[K     |████████████████████████████████| 67 kB 2.8 MB/s \n",
            "\u001b[?25hRequirement already satisfied: pandas>=1.2.3 in /usr/local/lib/python3.7/dist-packages (from alignn) (1.3.5)\n",
            "Collecting scipy>=1.6.1\n",
            "  Downloading scipy-1.7.3-cp37-cp37m-manylinux_2_12_x86_64.manylinux2010_x86_64.whl (38.1 MB)\n",
            "\u001b[K     |████████████████████████████████| 38.1 MB 1.7 MB/s \n",
            "\u001b[?25hCollecting matplotlib>=3.4.1\n",
            "  Downloading matplotlib-3.5.2-cp37-cp37m-manylinux_2_5_x86_64.manylinux1_x86_64.whl (11.2 MB)\n",
            "\u001b[K     |████████████████████████████████| 11.2 MB 30.9 MB/s \n",
            "\u001b[?25hCollecting pycodestyle>=2.7.0\n",
            "  Downloading pycodestyle-2.8.0-py2.py3-none-any.whl (42 kB)\n",
            "\u001b[K     |████████████████████████████████| 42 kB 397 kB/s \n",
            "\u001b[?25hRequirement already satisfied: torch>=1.7.1 in /usr/local/lib/python3.7/dist-packages (from alignn) (1.11.0+cu113)\n",
            "Collecting dgl>=0.6.0\n",
            "  Downloading dgl-0.6.1-cp37-cp37m-manylinux1_x86_64.whl (4.4 MB)\n",
            "\u001b[K     |████████████████████████████████| 4.4 MB 16.0 MB/s \n",
            "\u001b[?25hRequirement already satisfied: numpy>=1.19.5 in /usr/local/lib/python3.7/dist-packages (from alignn) (1.21.6)\n",
            "Requirement already satisfied: requests>=2.19.0 in /usr/local/lib/python3.7/dist-packages (from dgl>=0.6.0->alignn) (2.23.0)\n",
            "Requirement already satisfied: networkx>=2.1 in /usr/local/lib/python3.7/dist-packages (from dgl>=0.6.0->alignn) (2.6.3)\n",
            "Collecting mccabe<0.7.0,>=0.6.0\n",
            "  Downloading mccabe-0.6.1-py2.py3-none-any.whl (8.6 kB)\n",
            "Collecting importlib-metadata<4.3\n",
            "  Downloading importlib_metadata-4.2.0-py3-none-any.whl (16 kB)\n",
            "Collecting pyflakes<2.5.0,>=2.4.0\n",
            "  Downloading pyflakes-2.4.0-py2.py3-none-any.whl (69 kB)\n",
            "\u001b[K     |████████████████████████████████| 69 kB 5.9 MB/s \n",
            "\u001b[?25hRequirement already satisfied: typing-extensions>=3.6.4 in /usr/local/lib/python3.7/dist-packages (from importlib-metadata<4.3->flake8>=3.9.1->alignn) (4.1.1)\n",
            "Requirement already satisfied: zipp>=0.5 in /usr/local/lib/python3.7/dist-packages (from importlib-metadata<4.3->flake8>=3.9.1->alignn) (3.8.0)\n",
            "Requirement already satisfied: toolz>=0.9.0 in /usr/local/lib/python3.7/dist-packages (from jarvis-tools>=2021.07.19->alignn) (0.11.2)\n",
            "Collecting xmltodict>=0.11.0\n",
            "  Downloading xmltodict-0.13.0-py2.py3-none-any.whl (10.0 kB)\n",
            "Collecting spglib>=1.14.1\n",
            "  Downloading spglib-1.16.5-cp37-cp37m-manylinux_2_17_x86_64.manylinux2014_x86_64.whl (325 kB)\n",
            "\u001b[K     |████████████████████████████████| 325 kB 45.7 MB/s \n",
            "\u001b[?25hRequirement already satisfied: joblib>=0.14.1 in /usr/local/lib/python3.7/dist-packages (from jarvis-tools>=2021.07.19->alignn) (1.1.0)\n",
            "Requirement already satisfied: python-dateutil>=2.7 in /usr/local/lib/python3.7/dist-packages (from matplotlib>=3.4.1->alignn) (2.8.2)\n",
            "Requirement already satisfied: pillow>=6.2.0 in /usr/local/lib/python3.7/dist-packages (from matplotlib>=3.4.1->alignn) (7.1.2)\n",
            "Requirement already satisfied: cycler>=0.10 in /usr/local/lib/python3.7/dist-packages (from matplotlib>=3.4.1->alignn) (0.11.0)\n",
            "Requirement already satisfied: packaging>=20.0 in /usr/local/lib/python3.7/dist-packages (from matplotlib>=3.4.1->alignn) (21.3)\n",
            "Collecting fonttools>=4.22.0\n",
            "  Downloading fonttools-4.33.3-py3-none-any.whl (930 kB)\n",
            "\u001b[K     |████████████████████████████████| 930 kB 42.4 MB/s \n",
            "\u001b[?25hRequirement already satisfied: kiwisolver>=1.0.1 in /usr/local/lib/python3.7/dist-packages (from matplotlib>=3.4.1->alignn) (1.4.3)\n",
            "Requirement already satisfied: pytz>=2017.3 in /usr/local/lib/python3.7/dist-packages (from pandas>=1.2.3->alignn) (2022.1)\n",
            "Requirement already satisfied: snowballstemmer in /usr/local/lib/python3.7/dist-packages (from pydocstyle>=6.0.0->alignn) (2.2.0)\n",
            "Requirement already satisfied: six>=1.5 in /usr/local/lib/python3.7/dist-packages (from python-dateutil>=2.7->matplotlib>=3.4.1->alignn) (1.15.0)\n",
            "Requirement already satisfied: chardet<4,>=3.0.2 in /usr/local/lib/python3.7/dist-packages (from requests>=2.19.0->dgl>=0.6.0->alignn) (3.0.4)\n",
            "Requirement already satisfied: urllib3!=1.25.0,!=1.25.1,<1.26,>=1.21.1 in /usr/local/lib/python3.7/dist-packages (from requests>=2.19.0->dgl>=0.6.0->alignn) (1.24.3)\n",
            "Requirement already satisfied: certifi>=2017.4.17 in /usr/local/lib/python3.7/dist-packages (from requests>=2.19.0->dgl>=0.6.0->alignn) (2022.6.15)\n",
            "Requirement already satisfied: idna<3,>=2.5 in /usr/local/lib/python3.7/dist-packages (from requests>=2.19.0->dgl>=0.6.0->alignn) (2.10)\n",
            "Requirement already satisfied: threadpoolctl>=2.0.0 in /usr/local/lib/python3.7/dist-packages (from scikit-learn>=0.22.2->alignn) (3.1.0)\n",
            "Installing collected packages: pyparsing, fonttools, xmltodict, spglib, scipy, pyflakes, pycodestyle, mccabe, matplotlib, importlib-metadata, pytorch-ignite, pydocstyle, jarvis-tools, flake8, dgl, alignn\n",
            "  Attempting uninstall: pyparsing\n",
            "    Found existing installation: pyparsing 3.0.9\n",
            "    Uninstalling pyparsing-3.0.9:\n",
            "      Successfully uninstalled pyparsing-3.0.9\n",
            "  Attempting uninstall: scipy\n",
            "    Found existing installation: scipy 1.4.1\n",
            "    Uninstalling scipy-1.4.1:\n",
            "      Successfully uninstalled scipy-1.4.1\n",
            "  Attempting uninstall: matplotlib\n",
            "    Found existing installation: matplotlib 3.2.2\n",
            "    Uninstalling matplotlib-3.2.2:\n",
            "      Successfully uninstalled matplotlib-3.2.2\n",
            "  Attempting uninstall: importlib-metadata\n",
            "    Found existing installation: importlib-metadata 4.11.4\n",
            "    Uninstalling importlib-metadata-4.11.4:\n",
            "      Successfully uninstalled importlib-metadata-4.11.4\n",
            "\u001b[31mERROR: pip's dependency resolver does not currently take into account all the packages that are installed. This behaviour is the source of the following dependency conflicts.\n",
            "markdown 3.3.7 requires importlib-metadata>=4.4; python_version < \"3.10\", but you have importlib-metadata 4.2.0 which is incompatible.\n",
            "albumentations 0.1.12 requires imgaug<0.2.7,>=0.2.5, but you have imgaug 0.2.9 which is incompatible.\u001b[0m\n",
            "Successfully installed alignn-2022.1.25 dgl-0.6.1 flake8-4.0.1 fonttools-4.33.3 importlib-metadata-4.2.0 jarvis-tools-2022.5.20 matplotlib-3.5.2 mccabe-0.6.1 pycodestyle-2.8.0 pydocstyle-6.1.1 pyflakes-2.4.0 pyparsing-2.4.7 pytorch-ignite-0.4.9 scipy-1.7.3 spglib-1.16.5 xmltodict-0.13.0\n"
          ]
        },
        {
          "output_type": "display_data",
          "data": {
            "application/vnd.colab-display-data+json": {
              "pip_warning": {
                "packages": [
                  "matplotlib",
                  "mpl_toolkits",
                  "pyparsing"
                ]
              }
            }
          },
          "metadata": {}
        }
      ],
      "source": [
        "!pip install alignn"
      ]
    },
    {
      "cell_type": "code",
      "source": [
        "#Import os package: performs miscellaneous command line and file system operations\n",
        "import os\n",
        "\n",
        "#Change to \"content\" directory if not already there\n",
        "os.chdir('/content')\n",
        "\n",
        "'''\n",
        "Clone ALIGNN Model Files from GitHub if no local version exists\n",
        "\n",
        "This \"clone\" operation will create a local copy of the ALIGNN files like\n",
        "a download. However, this local copy will continue to be linked to the version\n",
        "of the model hosted on GitHub. So, it can receive new updates or updates can be\n",
        "made locally and synced to the version on GitHub.\n",
        "'''\n",
        "if not os.path.exists('alignn'):\n",
        "  !git clone https://github.com/usnistgov/alignn.git\n",
        "\n",
        "os.chdir('alignn')"
      ],
      "metadata": {
        "id": "8JglP5nhHbBg",
        "colab": {
          "base_uri": "https://localhost:8080/"
        },
        "outputId": "45d8b2b9-caf5-4585-8cc1-4d960f53fe04"
      },
      "execution_count": 2,
      "outputs": [
        {
          "output_type": "stream",
          "name": "stdout",
          "text": [
            "Cloning into 'alignn'...\n",
            "remote: Enumerating objects: 2500, done.\u001b[K\n",
            "remote: Counting objects: 100% (675/675), done.\u001b[K\n",
            "remote: Compressing objects: 100% (165/165), done.\u001b[K\n",
            "remote: Total 2500 (delta 582), reused 545 (delta 507), pack-reused 1825\u001b[K\n",
            "Receiving objects: 100% (2500/2500), 29.03 MiB | 20.66 MiB/s, done.\n",
            "Resolving deltas: 100% (1612/1612), done.\n"
          ]
        }
      ]
    },
    {
      "cell_type": "code",
      "source": [
        ""
      ],
      "metadata": {
        "id": "wXjb154dB6AM"
      },
      "execution_count": 2,
      "outputs": []
    },
    {
      "cell_type": "markdown",
      "source": [
        "#Python Basics\n",
        "Python is a highly modular language, which makes the use of external libraries to perform certian operations. We'll first go over the very basics of the *pandas* and *plotly* libraries, which will, respectively, be used for data-handling and plotting in the following example.\n",
        "##Data-handling with Pandas\n",
        "*Pandas* is a Python package that defines the DataFrame object. DataFrames are ideal for reading, writing, storing, and manipulating information in a *tabular* format (i.e. information labelled by a row index and a column heading).\n"
      ],
      "metadata": {
        "id": "UbdfFxLsOyjP"
      }
    },
    {
      "cell_type": "code",
      "source": [
        "'''\n",
        "Import installed Python package into the current notebook. Give a short nickname\n",
        "that can be called throughput the notebook. In this case, it is \"pd\"\n",
        "''' \n",
        "import pandas as pd\n",
        "\n",
        "#Copy data from GitHub\n",
        "data = pd.read_csv(\"alignn/examples/sample_data/id_prop.csv\", names = ['Structure File', 'Bandgap (eV)'])\n",
        "data.head(10)"
      ],
      "metadata": {
        "id": "BLcSR3l1OrJj",
        "colab": {
          "base_uri": "https://localhost:8080/",
          "height": 363
        },
        "outputId": "1c3f4d9f-67a0-436a-8b6f-78bf05288b3a"
      },
      "execution_count": 3,
      "outputs": [
        {
          "output_type": "execute_result",
          "data": {
            "text/plain": [
              "            Structure File  Bandgap (eV)\n",
              "0  POSCAR-JVASP-90856.vasp         0.000\n",
              "1  POSCAR-JVASP-86097.vasp         0.000\n",
              "2  POSCAR-JVASP-64906.vasp         0.000\n",
              "3  POSCAR-JVASP-98225.vasp         0.472\n",
              "4     POSCAR-JVASP-10.vasp         0.000\n",
              "5  POSCAR-JVASP-14014.vasp         0.000\n",
              "6  POSCAR-JVASP-64664.vasp         0.000\n",
              "7  POSCAR-JVASP-22556.vasp         0.000\n",
              "8  POSCAR-JVASP-86726.vasp         0.000\n",
              "9  POSCAR-JVASP-28634.vasp         0.689"
            ],
            "text/html": [
              "\n",
              "  <div id=\"df-031ee63b-f0a6-477b-a16b-7960cdde90a8\">\n",
              "    <div class=\"colab-df-container\">\n",
              "      <div>\n",
              "<style scoped>\n",
              "    .dataframe tbody tr th:only-of-type {\n",
              "        vertical-align: middle;\n",
              "    }\n",
              "\n",
              "    .dataframe tbody tr th {\n",
              "        vertical-align: top;\n",
              "    }\n",
              "\n",
              "    .dataframe thead th {\n",
              "        text-align: right;\n",
              "    }\n",
              "</style>\n",
              "<table border=\"1\" class=\"dataframe\">\n",
              "  <thead>\n",
              "    <tr style=\"text-align: right;\">\n",
              "      <th></th>\n",
              "      <th>Structure File</th>\n",
              "      <th>Bandgap (eV)</th>\n",
              "    </tr>\n",
              "  </thead>\n",
              "  <tbody>\n",
              "    <tr>\n",
              "      <th>0</th>\n",
              "      <td>POSCAR-JVASP-90856.vasp</td>\n",
              "      <td>0.000</td>\n",
              "    </tr>\n",
              "    <tr>\n",
              "      <th>1</th>\n",
              "      <td>POSCAR-JVASP-86097.vasp</td>\n",
              "      <td>0.000</td>\n",
              "    </tr>\n",
              "    <tr>\n",
              "      <th>2</th>\n",
              "      <td>POSCAR-JVASP-64906.vasp</td>\n",
              "      <td>0.000</td>\n",
              "    </tr>\n",
              "    <tr>\n",
              "      <th>3</th>\n",
              "      <td>POSCAR-JVASP-98225.vasp</td>\n",
              "      <td>0.472</td>\n",
              "    </tr>\n",
              "    <tr>\n",
              "      <th>4</th>\n",
              "      <td>POSCAR-JVASP-10.vasp</td>\n",
              "      <td>0.000</td>\n",
              "    </tr>\n",
              "    <tr>\n",
              "      <th>5</th>\n",
              "      <td>POSCAR-JVASP-14014.vasp</td>\n",
              "      <td>0.000</td>\n",
              "    </tr>\n",
              "    <tr>\n",
              "      <th>6</th>\n",
              "      <td>POSCAR-JVASP-64664.vasp</td>\n",
              "      <td>0.000</td>\n",
              "    </tr>\n",
              "    <tr>\n",
              "      <th>7</th>\n",
              "      <td>POSCAR-JVASP-22556.vasp</td>\n",
              "      <td>0.000</td>\n",
              "    </tr>\n",
              "    <tr>\n",
              "      <th>8</th>\n",
              "      <td>POSCAR-JVASP-86726.vasp</td>\n",
              "      <td>0.000</td>\n",
              "    </tr>\n",
              "    <tr>\n",
              "      <th>9</th>\n",
              "      <td>POSCAR-JVASP-28634.vasp</td>\n",
              "      <td>0.689</td>\n",
              "    </tr>\n",
              "  </tbody>\n",
              "</table>\n",
              "</div>\n",
              "      <button class=\"colab-df-convert\" onclick=\"convertToInteractive('df-031ee63b-f0a6-477b-a16b-7960cdde90a8')\"\n",
              "              title=\"Convert this dataframe to an interactive table.\"\n",
              "              style=\"display:none;\">\n",
              "        \n",
              "  <svg xmlns=\"http://www.w3.org/2000/svg\" height=\"24px\"viewBox=\"0 0 24 24\"\n",
              "       width=\"24px\">\n",
              "    <path d=\"M0 0h24v24H0V0z\" fill=\"none\"/>\n",
              "    <path d=\"M18.56 5.44l.94 2.06.94-2.06 2.06-.94-2.06-.94-.94-2.06-.94 2.06-2.06.94zm-11 1L8.5 8.5l.94-2.06 2.06-.94-2.06-.94L8.5 2.5l-.94 2.06-2.06.94zm10 10l.94 2.06.94-2.06 2.06-.94-2.06-.94-.94-2.06-.94 2.06-2.06.94z\"/><path d=\"M17.41 7.96l-1.37-1.37c-.4-.4-.92-.59-1.43-.59-.52 0-1.04.2-1.43.59L10.3 9.45l-7.72 7.72c-.78.78-.78 2.05 0 2.83L4 21.41c.39.39.9.59 1.41.59.51 0 1.02-.2 1.41-.59l7.78-7.78 2.81-2.81c.8-.78.8-2.07 0-2.86zM5.41 20L4 18.59l7.72-7.72 1.47 1.35L5.41 20z\"/>\n",
              "  </svg>\n",
              "      </button>\n",
              "      \n",
              "  <style>\n",
              "    .colab-df-container {\n",
              "      display:flex;\n",
              "      flex-wrap:wrap;\n",
              "      gap: 12px;\n",
              "    }\n",
              "\n",
              "    .colab-df-convert {\n",
              "      background-color: #E8F0FE;\n",
              "      border: none;\n",
              "      border-radius: 50%;\n",
              "      cursor: pointer;\n",
              "      display: none;\n",
              "      fill: #1967D2;\n",
              "      height: 32px;\n",
              "      padding: 0 0 0 0;\n",
              "      width: 32px;\n",
              "    }\n",
              "\n",
              "    .colab-df-convert:hover {\n",
              "      background-color: #E2EBFA;\n",
              "      box-shadow: 0px 1px 2px rgba(60, 64, 67, 0.3), 0px 1px 3px 1px rgba(60, 64, 67, 0.15);\n",
              "      fill: #174EA6;\n",
              "    }\n",
              "\n",
              "    [theme=dark] .colab-df-convert {\n",
              "      background-color: #3B4455;\n",
              "      fill: #D2E3FC;\n",
              "    }\n",
              "\n",
              "    [theme=dark] .colab-df-convert:hover {\n",
              "      background-color: #434B5C;\n",
              "      box-shadow: 0px 1px 3px 1px rgba(0, 0, 0, 0.15);\n",
              "      filter: drop-shadow(0px 1px 2px rgba(0, 0, 0, 0.3));\n",
              "      fill: #FFFFFF;\n",
              "    }\n",
              "  </style>\n",
              "\n",
              "      <script>\n",
              "        const buttonEl =\n",
              "          document.querySelector('#df-031ee63b-f0a6-477b-a16b-7960cdde90a8 button.colab-df-convert');\n",
              "        buttonEl.style.display =\n",
              "          google.colab.kernel.accessAllowed ? 'block' : 'none';\n",
              "\n",
              "        async function convertToInteractive(key) {\n",
              "          const element = document.querySelector('#df-031ee63b-f0a6-477b-a16b-7960cdde90a8');\n",
              "          const dataTable =\n",
              "            await google.colab.kernel.invokeFunction('convertToInteractive',\n",
              "                                                     [key], {});\n",
              "          if (!dataTable) return;\n",
              "\n",
              "          const docLinkHtml = 'Like what you see? Visit the ' +\n",
              "            '<a target=\"_blank\" href=https://colab.research.google.com/notebooks/data_table.ipynb>data table notebook</a>'\n",
              "            + ' to learn more about interactive tables.';\n",
              "          element.innerHTML = '';\n",
              "          dataTable['output_type'] = 'display_data';\n",
              "          await google.colab.output.renderOutput(dataTable, element);\n",
              "          const docLink = document.createElement('div');\n",
              "          docLink.innerHTML = docLinkHtml;\n",
              "          element.appendChild(docLink);\n",
              "        }\n",
              "      </script>\n",
              "    </div>\n",
              "  </div>\n",
              "  "
            ]
          },
          "metadata": {},
          "execution_count": 3
        }
      ]
    },
    {
      "cell_type": "code",
      "source": [
        "data.describe()"
      ],
      "metadata": {
        "colab": {
          "base_uri": "https://localhost:8080/",
          "height": 300
        },
        "id": "r6KntqGIhyXU",
        "outputId": "f373fd5d-57d7-4179-ae92-20b5446f95bc"
      },
      "execution_count": 4,
      "outputs": [
        {
          "output_type": "execute_result",
          "data": {
            "text/plain": [
              "       Bandgap (eV)\n",
              "count     50.000000\n",
              "mean       0.810020\n",
              "std        1.461703\n",
              "min        0.000000\n",
              "25%        0.000000\n",
              "50%        0.000000\n",
              "75%        0.865250\n",
              "max        6.149000"
            ],
            "text/html": [
              "\n",
              "  <div id=\"df-4bf24164-01d1-496e-b290-c43051203d88\">\n",
              "    <div class=\"colab-df-container\">\n",
              "      <div>\n",
              "<style scoped>\n",
              "    .dataframe tbody tr th:only-of-type {\n",
              "        vertical-align: middle;\n",
              "    }\n",
              "\n",
              "    .dataframe tbody tr th {\n",
              "        vertical-align: top;\n",
              "    }\n",
              "\n",
              "    .dataframe thead th {\n",
              "        text-align: right;\n",
              "    }\n",
              "</style>\n",
              "<table border=\"1\" class=\"dataframe\">\n",
              "  <thead>\n",
              "    <tr style=\"text-align: right;\">\n",
              "      <th></th>\n",
              "      <th>Bandgap (eV)</th>\n",
              "    </tr>\n",
              "  </thead>\n",
              "  <tbody>\n",
              "    <tr>\n",
              "      <th>count</th>\n",
              "      <td>50.000000</td>\n",
              "    </tr>\n",
              "    <tr>\n",
              "      <th>mean</th>\n",
              "      <td>0.810020</td>\n",
              "    </tr>\n",
              "    <tr>\n",
              "      <th>std</th>\n",
              "      <td>1.461703</td>\n",
              "    </tr>\n",
              "    <tr>\n",
              "      <th>min</th>\n",
              "      <td>0.000000</td>\n",
              "    </tr>\n",
              "    <tr>\n",
              "      <th>25%</th>\n",
              "      <td>0.000000</td>\n",
              "    </tr>\n",
              "    <tr>\n",
              "      <th>50%</th>\n",
              "      <td>0.000000</td>\n",
              "    </tr>\n",
              "    <tr>\n",
              "      <th>75%</th>\n",
              "      <td>0.865250</td>\n",
              "    </tr>\n",
              "    <tr>\n",
              "      <th>max</th>\n",
              "      <td>6.149000</td>\n",
              "    </tr>\n",
              "  </tbody>\n",
              "</table>\n",
              "</div>\n",
              "      <button class=\"colab-df-convert\" onclick=\"convertToInteractive('df-4bf24164-01d1-496e-b290-c43051203d88')\"\n",
              "              title=\"Convert this dataframe to an interactive table.\"\n",
              "              style=\"display:none;\">\n",
              "        \n",
              "  <svg xmlns=\"http://www.w3.org/2000/svg\" height=\"24px\"viewBox=\"0 0 24 24\"\n",
              "       width=\"24px\">\n",
              "    <path d=\"M0 0h24v24H0V0z\" fill=\"none\"/>\n",
              "    <path d=\"M18.56 5.44l.94 2.06.94-2.06 2.06-.94-2.06-.94-.94-2.06-.94 2.06-2.06.94zm-11 1L8.5 8.5l.94-2.06 2.06-.94-2.06-.94L8.5 2.5l-.94 2.06-2.06.94zm10 10l.94 2.06.94-2.06 2.06-.94-2.06-.94-.94-2.06-.94 2.06-2.06.94z\"/><path d=\"M17.41 7.96l-1.37-1.37c-.4-.4-.92-.59-1.43-.59-.52 0-1.04.2-1.43.59L10.3 9.45l-7.72 7.72c-.78.78-.78 2.05 0 2.83L4 21.41c.39.39.9.59 1.41.59.51 0 1.02-.2 1.41-.59l7.78-7.78 2.81-2.81c.8-.78.8-2.07 0-2.86zM5.41 20L4 18.59l7.72-7.72 1.47 1.35L5.41 20z\"/>\n",
              "  </svg>\n",
              "      </button>\n",
              "      \n",
              "  <style>\n",
              "    .colab-df-container {\n",
              "      display:flex;\n",
              "      flex-wrap:wrap;\n",
              "      gap: 12px;\n",
              "    }\n",
              "\n",
              "    .colab-df-convert {\n",
              "      background-color: #E8F0FE;\n",
              "      border: none;\n",
              "      border-radius: 50%;\n",
              "      cursor: pointer;\n",
              "      display: none;\n",
              "      fill: #1967D2;\n",
              "      height: 32px;\n",
              "      padding: 0 0 0 0;\n",
              "      width: 32px;\n",
              "    }\n",
              "\n",
              "    .colab-df-convert:hover {\n",
              "      background-color: #E2EBFA;\n",
              "      box-shadow: 0px 1px 2px rgba(60, 64, 67, 0.3), 0px 1px 3px 1px rgba(60, 64, 67, 0.15);\n",
              "      fill: #174EA6;\n",
              "    }\n",
              "\n",
              "    [theme=dark] .colab-df-convert {\n",
              "      background-color: #3B4455;\n",
              "      fill: #D2E3FC;\n",
              "    }\n",
              "\n",
              "    [theme=dark] .colab-df-convert:hover {\n",
              "      background-color: #434B5C;\n",
              "      box-shadow: 0px 1px 3px 1px rgba(0, 0, 0, 0.15);\n",
              "      filter: drop-shadow(0px 1px 2px rgba(0, 0, 0, 0.3));\n",
              "      fill: #FFFFFF;\n",
              "    }\n",
              "  </style>\n",
              "\n",
              "      <script>\n",
              "        const buttonEl =\n",
              "          document.querySelector('#df-4bf24164-01d1-496e-b290-c43051203d88 button.colab-df-convert');\n",
              "        buttonEl.style.display =\n",
              "          google.colab.kernel.accessAllowed ? 'block' : 'none';\n",
              "\n",
              "        async function convertToInteractive(key) {\n",
              "          const element = document.querySelector('#df-4bf24164-01d1-496e-b290-c43051203d88');\n",
              "          const dataTable =\n",
              "            await google.colab.kernel.invokeFunction('convertToInteractive',\n",
              "                                                     [key], {});\n",
              "          if (!dataTable) return;\n",
              "\n",
              "          const docLinkHtml = 'Like what you see? Visit the ' +\n",
              "            '<a target=\"_blank\" href=https://colab.research.google.com/notebooks/data_table.ipynb>data table notebook</a>'\n",
              "            + ' to learn more about interactive tables.';\n",
              "          element.innerHTML = '';\n",
              "          dataTable['output_type'] = 'display_data';\n",
              "          await google.colab.output.renderOutput(dataTable, element);\n",
              "          const docLink = document.createElement('div');\n",
              "          docLink.innerHTML = docLinkHtml;\n",
              "          element.appendChild(docLink);\n",
              "        }\n",
              "      </script>\n",
              "    </div>\n",
              "  </div>\n",
              "  "
            ]
          },
          "metadata": {},
          "execution_count": 4
        }
      ]
    },
    {
      "cell_type": "markdown",
      "source": [
        "##Data visualization with Plotly\n",
        "*Plotly* is a plotting package in Python, which is especially useful for generating interactive plots in notebooks such as these."
      ],
      "metadata": {
        "id": "eEgDGcfJILo6"
      }
    },
    {
      "cell_type": "code",
      "source": [
        "import plotly.express as px\n"
      ],
      "metadata": {
        "id": "0J0E4yAjMbIL"
      },
      "execution_count": 5,
      "outputs": []
    },
    {
      "cell_type": "code",
      "source": [
        "# Collect compound attributes for each JARVIS-ID\n",
        "from jarvis.db.figshare import data\n",
        "\n",
        "dft_3d = data(\"dft_3d\")\n",
        "\n",
        "print(dft_3d[0])"
      ],
      "metadata": {
        "colab": {
          "base_uri": "https://localhost:8080/"
        },
        "id": "6WqO-sQGhicV",
        "outputId": "cdd12049-0fec-41cc-dfb6-d62f3f6a5fd7"
      },
      "execution_count": 6,
      "outputs": [
        {
          "output_type": "stream",
          "name": "stdout",
          "text": [
            "Obtaining 3D dataset 55k ...\n",
            "Reference:https://www.nature.com/articles/s41524-020-00440-1\n"
          ]
        },
        {
          "output_type": "stream",
          "name": "stderr",
          "text": [
            "100%|██████████| 31.9M/31.9M [00:02<00:00, 11.4MiB/s]\n"
          ]
        },
        {
          "output_type": "stream",
          "name": "stdout",
          "text": [
            "Loading the zipfile...\n",
            "Loading completed.\n",
            "{'jid': 'JVASP-90856', 'spg_number': '129', 'spg_symbol': 'P4/nmm', 'formula': 'TiCuSiAs', 'formation_energy_peratom': -0.42762, 'func': 'OptB88vdW', 'optb88vdw_bandgap': 0.0, 'atoms': {'lattice_mat': [[3.566933224304235, 0.0, -0.0], [0.0, 3.566933224304235, -0.0], [-0.0, -0.0, 9.397075454186664]], 'coords': [[2.6751975000000003, 2.6751975000000003, 7.376101754328542], [0.8917325, 0.8917325, 2.0209782456714573], [0.8917325, 2.6751975000000003, 4.69854], [2.6751975000000003, 0.8917325, 4.69854], [0.8917325, 2.6751975000000003, 0.0], [2.6751975000000003, 0.8917325, 0.0], [2.6751975000000003, 2.6751975000000003, 2.8894795605846353], [0.8917325, 0.8917325, 6.507600439415366]], 'elements': ['Ti', 'Ti', 'Cu', 'Cu', 'Si', 'Si', 'As', 'As'], 'abc': [3.56693, 3.56693, 9.39708], 'angles': [90.0, 90.0, 90.0], 'cartesian': True, 'props': ['', '', '', '', '', '', '', '']}, 'slme': 'na', 'magmom_oszicar': 0.0, 'spillage': 'na', 'elastic_tensor': 'na', 'effective_masses_300K': {'p': 'na', 'n': 'na'}, 'kpoint_length_unit': 60, 'maxdiff_mesh': 'na', 'maxdiff_bz': 'na', 'encut': 650, 'optb88vdw_total_energy': -3.37474, 'epsx': 76.23, 'epsy': 76.23, 'epsz': 54.0402, 'mepsx': 'na', 'mepsy': 'na', 'mepsz': 'na', 'modes': 'na', 'magmom_outcar': 0.0, 'max_efg': 'na', 'avg_elec_mass': 'na', 'avg_hole_mass': 'na', 'icsd': '', 'dfpt_piezo_max_eij': 'na', 'dfpt_piezo_max_dij': 'na', 'dfpt_piezo_max_dielectric': 'na', 'dfpt_piezo_max_dielectric_electronic': 'na', 'dfpt_piezo_max_dielectric_ionic': 'na', 'max_ir_mode': 'na', 'min_ir_mode': 'na', 'n-Seebeck': 'na', 'p-Seebeck': 'na', 'n-powerfact': 'na', 'p-powerfact': 'na', 'ncond': 'na', 'pcond': 'na', 'nkappa': 'na', 'pkappa': 'na', 'ehull': 2.103442283333333, 'dimensionality': '3D-bulk', 'efg': [], 'xml_data_link': \"<a href=https://www.ctcms.nist.gov/~knc6/static/JARVIS-DFT/JVASP-90856.xml target='_blank' >JVASP-90856</a>\", 'typ': 'bulk', 'exfoliation_energy': 'na', 'spg': '129', 'crys': 'tetragonal', 'density': 5.956, 'poisson': 'na', 'raw_files': [], 'nat': 8, 'bulk_modulus_kv': 'na', 'shear_modulus_gv': 'na', 'mbj_bandgap': 'na', 'hse_gap': 'na', 'reference': 'mp-1080455', 'search': '-As-Cu-Si-Ti'}\n"
          ]
        }
      ]
    },
    {
      "cell_type": "code",
      "source": [
        "#Collect JARVIS 3D Database using matminer\n",
        "!pip install matminer\n"
      ],
      "metadata": {
        "id": "AB9t_ny0B85V"
      },
      "execution_count": null,
      "outputs": []
    },
    {
      "cell_type": "code",
      "source": [
        "from matminer.datasets.convenience_loaders import load_jarvis_dft_3d\n",
        "\n",
        "dft3d_df = load_jarvis_dft_3d()"
      ],
      "metadata": {
        "id": "yEBV5Kj5y8An",
        "outputId": "d573fd06-c2b8-4110-90a2-d4e9054bea8f",
        "colab": {
          "base_uri": "https://localhost:8080/"
        }
      },
      "execution_count": 10,
      "outputs": [
        {
          "output_type": "stream",
          "name": "stdout",
          "text": [
            "Fetching jarvis_dft_3d.json.gz from https://ndownloader.figshare.com/files/13376507 to /usr/local/lib/python3.7/dist-packages/matminer/datasets/jarvis_dft_3d.json.gz\n"
          ]
        },
        {
          "output_type": "stream",
          "name": "stderr",
          "text": [
            "Fetching https://ndownloader.figshare.com/files/13376507 in MB: 30.670848MB [00:00, 364.81MB/s]                \n"
          ]
        }
      ]
    },
    {
      "cell_type": "code",
      "source": [
        "print(dft3d_df.columns)"
      ],
      "metadata": {
        "id": "ewyWG2Upz2Uo",
        "outputId": "89e2f578-9c64-4fc8-f0d1-7c71da1c7da2",
        "colab": {
          "base_uri": "https://localhost:8080/"
        }
      },
      "execution_count": 14,
      "outputs": [
        {
          "output_type": "stream",
          "name": "stdout",
          "text": [
            "Index(['epsilon_x opt', 'epsilon_y opt', 'epsilon_z opt', 'structure',\n",
            "       'e_form', 'shear modulus', 'structure initial', 'jid', 'bulk modulus',\n",
            "       'gap tbmbj', 'epsilon_x tbmbj', 'epsilon_y tbmbj', 'epsilon_z tbmbj',\n",
            "       'mpid', 'gap opt', 'composition'],\n",
            "      dtype='object')\n"
          ]
        }
      ]
    },
    {
      "cell_type": "code",
      "source": [
        ""
      ],
      "metadata": {
        "id": "HACddiQX0FcX"
      },
      "execution_count": null,
      "outputs": []
    }
  ]
}