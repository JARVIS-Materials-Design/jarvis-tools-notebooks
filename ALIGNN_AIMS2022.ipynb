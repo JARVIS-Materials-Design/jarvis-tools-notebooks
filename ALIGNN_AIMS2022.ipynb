{
  "nbformat": 4,
  "nbformat_minor": 0,
  "metadata": {
    "colab": {
      "name": "ALIGNN_AIMS2022.ipynb",
      "provenance": [],
      "toc_visible": true,
      "include_colab_link": true
    },
    "kernelspec": {
      "name": "python3",
      "display_name": "Python 3"
    },
    "language_info": {
      "name": "python"
    }
  },
  "cells": [
    {
      "cell_type": "markdown",
      "metadata": {
        "id": "view-in-github",
        "colab_type": "text"
      },
      "source": [
        "<a href=\"https://colab.research.google.com/github/RamyaGuru/jarvis-tools-notebooks/blob/master/ALIGNN_AIMS2022.ipynb\" target=\"_parent\"><img src=\"https://colab.research.google.com/assets/colab-badge.svg\" alt=\"Open In Colab\"/></a>"
      ]
    },
    {
      "cell_type": "markdown",
      "source": [
        "#ALIGNN Tutorial\n",
        "\n",
        "We will start by installing the ALIGNN package using the following command. NOTE: The leading exclamation point (!) indicates that this is a command line operation rather than a "
      ],
      "metadata": {
        "id": "OPi6SWHiUfe9"
      }
    },
    {
      "cell_type": "code",
      "execution_count": null,
      "metadata": {
        "id": "zQz4dwLeHU8j"
      },
      "outputs": [],
      "source": [
        "!pip install alignn"
      ]
    },
    {
      "cell_type": "code",
      "source": [
        "#Import os package: performs miscellaneous command line and file system operations\n",
        "import os\n",
        "\n",
        "#Change to \"content\" directory if not already there\n",
        "os.chdir('/content')\n",
        "\n",
        "'''\n",
        "Clone ALIGNN Model Files from GitHub if no local version exists\n",
        "\n",
        "This \"clone\" operation will create a local copy of the ALIGNN files like\n",
        "a download. However, this local copy will continue to be linked to the version\n",
        "of the model hosted on GitHub. So, it can receive new updates or updates can be\n",
        "made locally and synced to the version on GitHub.\n",
        "'''\n",
        "if not os.path.exists('alignn'):\n",
        "  !git clone https://github.com/usnistgov/alignn.git\n",
        "\n",
        "os.chdir('alignn')"
      ],
      "metadata": {
        "id": "8JglP5nhHbBg",
        "colab": {
          "base_uri": "https://localhost:8080/"
        },
        "outputId": "53cc08cf-3de7-496f-ce22-4374095ced47"
      },
      "execution_count": 3,
      "outputs": [
        {
          "output_type": "stream",
          "name": "stdout",
          "text": [
            "Cloning into 'alignn'...\n",
            "remote: Enumerating objects: 2500, done.\u001b[K\n",
            "remote: Counting objects: 100% (675/675), done.\u001b[K\n",
            "remote: Compressing objects: 100% (165/165), done.\u001b[K\n",
            "remote: Total 2500 (delta 582), reused 545 (delta 507), pack-reused 1825\u001b[K\n",
            "Receiving objects: 100% (2500/2500), 29.03 MiB | 18.24 MiB/s, done.\n",
            "Resolving deltas: 100% (1612/1612), done.\n"
          ]
        }
      ]
    },
    {
      "cell_type": "code",
      "source": [
        ""
      ],
      "metadata": {
        "id": "wXjb154dB6AM"
      },
      "execution_count": 3,
      "outputs": []
    },
    {
      "cell_type": "markdown",
      "source": [
        "#Python Basics\n",
        "Python is a highly modular language, which makes the use of external libraries to perform certian operations. We'll first go over the very basics of the *pandas* and *plotly* libraries, which will, respectively, be used for data-handling and plotting in the following example.\n",
        "##Data-handling with Pandas\n",
        "*Pandas* is a Python package that defines the DataFrame object. DataFrames are ideal for reading, writing, storing, and manipulating information in a *tabular* format (i.e. information labelled by a row index and a column heading).\n"
      ],
      "metadata": {
        "id": "UbdfFxLsOyjP"
      }
    },
    {
      "cell_type": "code",
      "source": [
        "'''\n",
        "Import installed Python package into the current notebook. Give a short nickname\n",
        "that can be called throughput the notebook. In this case, it is \"pd\"\n",
        "''' \n",
        "import pandas as pd\n",
        "\n",
        "#Copy data from GitHub\n",
        "bgap_data = pd.read_csv(\"alignn/examples/sample_data/id_prop.csv\", names = ['Structure File', 'Bandgap (eV)'])\n",
        "bgap_data.head(10)"
      ],
      "metadata": {
        "id": "BLcSR3l1OrJj",
        "colab": {
          "base_uri": "https://localhost:8080/",
          "height": 363
        },
        "outputId": "25c23fdd-b116-4298-fd2e-d050efe94f68"
      },
      "execution_count": 4,
      "outputs": [
        {
          "output_type": "execute_result",
          "data": {
            "text/plain": [
              "            Structure File  Bandgap (eV)\n",
              "0  POSCAR-JVASP-90856.vasp         0.000\n",
              "1  POSCAR-JVASP-86097.vasp         0.000\n",
              "2  POSCAR-JVASP-64906.vasp         0.000\n",
              "3  POSCAR-JVASP-98225.vasp         0.472\n",
              "4     POSCAR-JVASP-10.vasp         0.000\n",
              "5  POSCAR-JVASP-14014.vasp         0.000\n",
              "6  POSCAR-JVASP-64664.vasp         0.000\n",
              "7  POSCAR-JVASP-22556.vasp         0.000\n",
              "8  POSCAR-JVASP-86726.vasp         0.000\n",
              "9  POSCAR-JVASP-28634.vasp         0.689"
            ],
            "text/html": [
              "\n",
              "  <div id=\"df-8ec6ea0c-3652-47fb-8068-d83d0d509f6b\">\n",
              "    <div class=\"colab-df-container\">\n",
              "      <div>\n",
              "<style scoped>\n",
              "    .dataframe tbody tr th:only-of-type {\n",
              "        vertical-align: middle;\n",
              "    }\n",
              "\n",
              "    .dataframe tbody tr th {\n",
              "        vertical-align: top;\n",
              "    }\n",
              "\n",
              "    .dataframe thead th {\n",
              "        text-align: right;\n",
              "    }\n",
              "</style>\n",
              "<table border=\"1\" class=\"dataframe\">\n",
              "  <thead>\n",
              "    <tr style=\"text-align: right;\">\n",
              "      <th></th>\n",
              "      <th>Structure File</th>\n",
              "      <th>Bandgap (eV)</th>\n",
              "    </tr>\n",
              "  </thead>\n",
              "  <tbody>\n",
              "    <tr>\n",
              "      <th>0</th>\n",
              "      <td>POSCAR-JVASP-90856.vasp</td>\n",
              "      <td>0.000</td>\n",
              "    </tr>\n",
              "    <tr>\n",
              "      <th>1</th>\n",
              "      <td>POSCAR-JVASP-86097.vasp</td>\n",
              "      <td>0.000</td>\n",
              "    </tr>\n",
              "    <tr>\n",
              "      <th>2</th>\n",
              "      <td>POSCAR-JVASP-64906.vasp</td>\n",
              "      <td>0.000</td>\n",
              "    </tr>\n",
              "    <tr>\n",
              "      <th>3</th>\n",
              "      <td>POSCAR-JVASP-98225.vasp</td>\n",
              "      <td>0.472</td>\n",
              "    </tr>\n",
              "    <tr>\n",
              "      <th>4</th>\n",
              "      <td>POSCAR-JVASP-10.vasp</td>\n",
              "      <td>0.000</td>\n",
              "    </tr>\n",
              "    <tr>\n",
              "      <th>5</th>\n",
              "      <td>POSCAR-JVASP-14014.vasp</td>\n",
              "      <td>0.000</td>\n",
              "    </tr>\n",
              "    <tr>\n",
              "      <th>6</th>\n",
              "      <td>POSCAR-JVASP-64664.vasp</td>\n",
              "      <td>0.000</td>\n",
              "    </tr>\n",
              "    <tr>\n",
              "      <th>7</th>\n",
              "      <td>POSCAR-JVASP-22556.vasp</td>\n",
              "      <td>0.000</td>\n",
              "    </tr>\n",
              "    <tr>\n",
              "      <th>8</th>\n",
              "      <td>POSCAR-JVASP-86726.vasp</td>\n",
              "      <td>0.000</td>\n",
              "    </tr>\n",
              "    <tr>\n",
              "      <th>9</th>\n",
              "      <td>POSCAR-JVASP-28634.vasp</td>\n",
              "      <td>0.689</td>\n",
              "    </tr>\n",
              "  </tbody>\n",
              "</table>\n",
              "</div>\n",
              "      <button class=\"colab-df-convert\" onclick=\"convertToInteractive('df-8ec6ea0c-3652-47fb-8068-d83d0d509f6b')\"\n",
              "              title=\"Convert this dataframe to an interactive table.\"\n",
              "              style=\"display:none;\">\n",
              "        \n",
              "  <svg xmlns=\"http://www.w3.org/2000/svg\" height=\"24px\"viewBox=\"0 0 24 24\"\n",
              "       width=\"24px\">\n",
              "    <path d=\"M0 0h24v24H0V0z\" fill=\"none\"/>\n",
              "    <path d=\"M18.56 5.44l.94 2.06.94-2.06 2.06-.94-2.06-.94-.94-2.06-.94 2.06-2.06.94zm-11 1L8.5 8.5l.94-2.06 2.06-.94-2.06-.94L8.5 2.5l-.94 2.06-2.06.94zm10 10l.94 2.06.94-2.06 2.06-.94-2.06-.94-.94-2.06-.94 2.06-2.06.94z\"/><path d=\"M17.41 7.96l-1.37-1.37c-.4-.4-.92-.59-1.43-.59-.52 0-1.04.2-1.43.59L10.3 9.45l-7.72 7.72c-.78.78-.78 2.05 0 2.83L4 21.41c.39.39.9.59 1.41.59.51 0 1.02-.2 1.41-.59l7.78-7.78 2.81-2.81c.8-.78.8-2.07 0-2.86zM5.41 20L4 18.59l7.72-7.72 1.47 1.35L5.41 20z\"/>\n",
              "  </svg>\n",
              "      </button>\n",
              "      \n",
              "  <style>\n",
              "    .colab-df-container {\n",
              "      display:flex;\n",
              "      flex-wrap:wrap;\n",
              "      gap: 12px;\n",
              "    }\n",
              "\n",
              "    .colab-df-convert {\n",
              "      background-color: #E8F0FE;\n",
              "      border: none;\n",
              "      border-radius: 50%;\n",
              "      cursor: pointer;\n",
              "      display: none;\n",
              "      fill: #1967D2;\n",
              "      height: 32px;\n",
              "      padding: 0 0 0 0;\n",
              "      width: 32px;\n",
              "    }\n",
              "\n",
              "    .colab-df-convert:hover {\n",
              "      background-color: #E2EBFA;\n",
              "      box-shadow: 0px 1px 2px rgba(60, 64, 67, 0.3), 0px 1px 3px 1px rgba(60, 64, 67, 0.15);\n",
              "      fill: #174EA6;\n",
              "    }\n",
              "\n",
              "    [theme=dark] .colab-df-convert {\n",
              "      background-color: #3B4455;\n",
              "      fill: #D2E3FC;\n",
              "    }\n",
              "\n",
              "    [theme=dark] .colab-df-convert:hover {\n",
              "      background-color: #434B5C;\n",
              "      box-shadow: 0px 1px 3px 1px rgba(0, 0, 0, 0.15);\n",
              "      filter: drop-shadow(0px 1px 2px rgba(0, 0, 0, 0.3));\n",
              "      fill: #FFFFFF;\n",
              "    }\n",
              "  </style>\n",
              "\n",
              "      <script>\n",
              "        const buttonEl =\n",
              "          document.querySelector('#df-8ec6ea0c-3652-47fb-8068-d83d0d509f6b button.colab-df-convert');\n",
              "        buttonEl.style.display =\n",
              "          google.colab.kernel.accessAllowed ? 'block' : 'none';\n",
              "\n",
              "        async function convertToInteractive(key) {\n",
              "          const element = document.querySelector('#df-8ec6ea0c-3652-47fb-8068-d83d0d509f6b');\n",
              "          const dataTable =\n",
              "            await google.colab.kernel.invokeFunction('convertToInteractive',\n",
              "                                                     [key], {});\n",
              "          if (!dataTable) return;\n",
              "\n",
              "          const docLinkHtml = 'Like what you see? Visit the ' +\n",
              "            '<a target=\"_blank\" href=https://colab.research.google.com/notebooks/data_table.ipynb>data table notebook</a>'\n",
              "            + ' to learn more about interactive tables.';\n",
              "          element.innerHTML = '';\n",
              "          dataTable['output_type'] = 'display_data';\n",
              "          await google.colab.output.renderOutput(dataTable, element);\n",
              "          const docLink = document.createElement('div');\n",
              "          docLink.innerHTML = docLinkHtml;\n",
              "          element.appendChild(docLink);\n",
              "        }\n",
              "      </script>\n",
              "    </div>\n",
              "  </div>\n",
              "  "
            ]
          },
          "metadata": {},
          "execution_count": 4
        }
      ]
    },
    {
      "cell_type": "code",
      "source": [
        "bgap_data.describe()"
      ],
      "metadata": {
        "colab": {
          "base_uri": "https://localhost:8080/",
          "height": 300
        },
        "id": "r6KntqGIhyXU",
        "outputId": "2e771e8e-8161-4352-8072-325fd39f087b"
      },
      "execution_count": 5,
      "outputs": [
        {
          "output_type": "execute_result",
          "data": {
            "text/plain": [
              "       Bandgap (eV)\n",
              "count     50.000000\n",
              "mean       0.810020\n",
              "std        1.461703\n",
              "min        0.000000\n",
              "25%        0.000000\n",
              "50%        0.000000\n",
              "75%        0.865250\n",
              "max        6.149000"
            ],
            "text/html": [
              "\n",
              "  <div id=\"df-d5f4e2c0-aa95-4d60-93b8-24b1f45fc576\">\n",
              "    <div class=\"colab-df-container\">\n",
              "      <div>\n",
              "<style scoped>\n",
              "    .dataframe tbody tr th:only-of-type {\n",
              "        vertical-align: middle;\n",
              "    }\n",
              "\n",
              "    .dataframe tbody tr th {\n",
              "        vertical-align: top;\n",
              "    }\n",
              "\n",
              "    .dataframe thead th {\n",
              "        text-align: right;\n",
              "    }\n",
              "</style>\n",
              "<table border=\"1\" class=\"dataframe\">\n",
              "  <thead>\n",
              "    <tr style=\"text-align: right;\">\n",
              "      <th></th>\n",
              "      <th>Bandgap (eV)</th>\n",
              "    </tr>\n",
              "  </thead>\n",
              "  <tbody>\n",
              "    <tr>\n",
              "      <th>count</th>\n",
              "      <td>50.000000</td>\n",
              "    </tr>\n",
              "    <tr>\n",
              "      <th>mean</th>\n",
              "      <td>0.810020</td>\n",
              "    </tr>\n",
              "    <tr>\n",
              "      <th>std</th>\n",
              "      <td>1.461703</td>\n",
              "    </tr>\n",
              "    <tr>\n",
              "      <th>min</th>\n",
              "      <td>0.000000</td>\n",
              "    </tr>\n",
              "    <tr>\n",
              "      <th>25%</th>\n",
              "      <td>0.000000</td>\n",
              "    </tr>\n",
              "    <tr>\n",
              "      <th>50%</th>\n",
              "      <td>0.000000</td>\n",
              "    </tr>\n",
              "    <tr>\n",
              "      <th>75%</th>\n",
              "      <td>0.865250</td>\n",
              "    </tr>\n",
              "    <tr>\n",
              "      <th>max</th>\n",
              "      <td>6.149000</td>\n",
              "    </tr>\n",
              "  </tbody>\n",
              "</table>\n",
              "</div>\n",
              "      <button class=\"colab-df-convert\" onclick=\"convertToInteractive('df-d5f4e2c0-aa95-4d60-93b8-24b1f45fc576')\"\n",
              "              title=\"Convert this dataframe to an interactive table.\"\n",
              "              style=\"display:none;\">\n",
              "        \n",
              "  <svg xmlns=\"http://www.w3.org/2000/svg\" height=\"24px\"viewBox=\"0 0 24 24\"\n",
              "       width=\"24px\">\n",
              "    <path d=\"M0 0h24v24H0V0z\" fill=\"none\"/>\n",
              "    <path d=\"M18.56 5.44l.94 2.06.94-2.06 2.06-.94-2.06-.94-.94-2.06-.94 2.06-2.06.94zm-11 1L8.5 8.5l.94-2.06 2.06-.94-2.06-.94L8.5 2.5l-.94 2.06-2.06.94zm10 10l.94 2.06.94-2.06 2.06-.94-2.06-.94-.94-2.06-.94 2.06-2.06.94z\"/><path d=\"M17.41 7.96l-1.37-1.37c-.4-.4-.92-.59-1.43-.59-.52 0-1.04.2-1.43.59L10.3 9.45l-7.72 7.72c-.78.78-.78 2.05 0 2.83L4 21.41c.39.39.9.59 1.41.59.51 0 1.02-.2 1.41-.59l7.78-7.78 2.81-2.81c.8-.78.8-2.07 0-2.86zM5.41 20L4 18.59l7.72-7.72 1.47 1.35L5.41 20z\"/>\n",
              "  </svg>\n",
              "      </button>\n",
              "      \n",
              "  <style>\n",
              "    .colab-df-container {\n",
              "      display:flex;\n",
              "      flex-wrap:wrap;\n",
              "      gap: 12px;\n",
              "    }\n",
              "\n",
              "    .colab-df-convert {\n",
              "      background-color: #E8F0FE;\n",
              "      border: none;\n",
              "      border-radius: 50%;\n",
              "      cursor: pointer;\n",
              "      display: none;\n",
              "      fill: #1967D2;\n",
              "      height: 32px;\n",
              "      padding: 0 0 0 0;\n",
              "      width: 32px;\n",
              "    }\n",
              "\n",
              "    .colab-df-convert:hover {\n",
              "      background-color: #E2EBFA;\n",
              "      box-shadow: 0px 1px 2px rgba(60, 64, 67, 0.3), 0px 1px 3px 1px rgba(60, 64, 67, 0.15);\n",
              "      fill: #174EA6;\n",
              "    }\n",
              "\n",
              "    [theme=dark] .colab-df-convert {\n",
              "      background-color: #3B4455;\n",
              "      fill: #D2E3FC;\n",
              "    }\n",
              "\n",
              "    [theme=dark] .colab-df-convert:hover {\n",
              "      background-color: #434B5C;\n",
              "      box-shadow: 0px 1px 3px 1px rgba(0, 0, 0, 0.15);\n",
              "      filter: drop-shadow(0px 1px 2px rgba(0, 0, 0, 0.3));\n",
              "      fill: #FFFFFF;\n",
              "    }\n",
              "  </style>\n",
              "\n",
              "      <script>\n",
              "        const buttonEl =\n",
              "          document.querySelector('#df-d5f4e2c0-aa95-4d60-93b8-24b1f45fc576 button.colab-df-convert');\n",
              "        buttonEl.style.display =\n",
              "          google.colab.kernel.accessAllowed ? 'block' : 'none';\n",
              "\n",
              "        async function convertToInteractive(key) {\n",
              "          const element = document.querySelector('#df-d5f4e2c0-aa95-4d60-93b8-24b1f45fc576');\n",
              "          const dataTable =\n",
              "            await google.colab.kernel.invokeFunction('convertToInteractive',\n",
              "                                                     [key], {});\n",
              "          if (!dataTable) return;\n",
              "\n",
              "          const docLinkHtml = 'Like what you see? Visit the ' +\n",
              "            '<a target=\"_blank\" href=https://colab.research.google.com/notebooks/data_table.ipynb>data table notebook</a>'\n",
              "            + ' to learn more about interactive tables.';\n",
              "          element.innerHTML = '';\n",
              "          dataTable['output_type'] = 'display_data';\n",
              "          await google.colab.output.renderOutput(dataTable, element);\n",
              "          const docLink = document.createElement('div');\n",
              "          docLink.innerHTML = docLinkHtml;\n",
              "          element.appendChild(docLink);\n",
              "        }\n",
              "      </script>\n",
              "    </div>\n",
              "  </div>\n",
              "  "
            ]
          },
          "metadata": {},
          "execution_count": 5
        }
      ]
    },
    {
      "cell_type": "markdown",
      "source": [
        "##Data visualization with Plotly\n",
        "*Plotly* is a plotting package in Python, which is especially useful for generating interactive plots in notebooks such as these."
      ],
      "metadata": {
        "id": "eEgDGcfJILo6"
      }
    },
    {
      "cell_type": "code",
      "source": [
        "import plotly.express as px\n"
      ],
      "metadata": {
        "id": "0J0E4yAjMbIL"
      },
      "execution_count": 6,
      "outputs": []
    },
    {
      "cell_type": "code",
      "source": [
        "# Collect compound attributes for each JARVIS-ID\n",
        "from jarvis.db.figshare import data\n",
        "\n",
        "dft_3d = data(\"dft_3d\")\n",
        "\n",
        "print(dft_3d[0])"
      ],
      "metadata": {
        "colab": {
          "base_uri": "https://localhost:8080/"
        },
        "id": "6WqO-sQGhicV",
        "outputId": "dfc039d2-126e-4073-c60c-aa041bc95817"
      },
      "execution_count": 7,
      "outputs": [
        {
          "output_type": "stream",
          "name": "stdout",
          "text": [
            "Obtaining 3D dataset 55k ...\n",
            "Reference:https://www.nature.com/articles/s41524-020-00440-1\n"
          ]
        },
        {
          "output_type": "stream",
          "name": "stderr",
          "text": [
            "100%|██████████| 31.9M/31.9M [00:02<00:00, 15.9MiB/s]\n"
          ]
        },
        {
          "output_type": "stream",
          "name": "stdout",
          "text": [
            "Loading the zipfile...\n",
            "Loading completed.\n",
            "{'jid': 'JVASP-90856', 'spg_number': '129', 'spg_symbol': 'P4/nmm', 'formula': 'TiCuSiAs', 'formation_energy_peratom': -0.42762, 'func': 'OptB88vdW', 'optb88vdw_bandgap': 0.0, 'atoms': {'lattice_mat': [[3.566933224304235, 0.0, -0.0], [0.0, 3.566933224304235, -0.0], [-0.0, -0.0, 9.397075454186664]], 'coords': [[2.6751975000000003, 2.6751975000000003, 7.376101754328542], [0.8917325, 0.8917325, 2.0209782456714573], [0.8917325, 2.6751975000000003, 4.69854], [2.6751975000000003, 0.8917325, 4.69854], [0.8917325, 2.6751975000000003, 0.0], [2.6751975000000003, 0.8917325, 0.0], [2.6751975000000003, 2.6751975000000003, 2.8894795605846353], [0.8917325, 0.8917325, 6.507600439415366]], 'elements': ['Ti', 'Ti', 'Cu', 'Cu', 'Si', 'Si', 'As', 'As'], 'abc': [3.56693, 3.56693, 9.39708], 'angles': [90.0, 90.0, 90.0], 'cartesian': True, 'props': ['', '', '', '', '', '', '', '']}, 'slme': 'na', 'magmom_oszicar': 0.0, 'spillage': 'na', 'elastic_tensor': 'na', 'effective_masses_300K': {'p': 'na', 'n': 'na'}, 'kpoint_length_unit': 60, 'maxdiff_mesh': 'na', 'maxdiff_bz': 'na', 'encut': 650, 'optb88vdw_total_energy': -3.37474, 'epsx': 76.23, 'epsy': 76.23, 'epsz': 54.0402, 'mepsx': 'na', 'mepsy': 'na', 'mepsz': 'na', 'modes': 'na', 'magmom_outcar': 0.0, 'max_efg': 'na', 'avg_elec_mass': 'na', 'avg_hole_mass': 'na', 'icsd': '', 'dfpt_piezo_max_eij': 'na', 'dfpt_piezo_max_dij': 'na', 'dfpt_piezo_max_dielectric': 'na', 'dfpt_piezo_max_dielectric_electronic': 'na', 'dfpt_piezo_max_dielectric_ionic': 'na', 'max_ir_mode': 'na', 'min_ir_mode': 'na', 'n-Seebeck': 'na', 'p-Seebeck': 'na', 'n-powerfact': 'na', 'p-powerfact': 'na', 'ncond': 'na', 'pcond': 'na', 'nkappa': 'na', 'pkappa': 'na', 'ehull': 2.103442283333333, 'dimensionality': '3D-bulk', 'efg': [], 'xml_data_link': \"<a href=https://www.ctcms.nist.gov/~knc6/static/JARVIS-DFT/JVASP-90856.xml target='_blank' >JVASP-90856</a>\", 'typ': 'bulk', 'exfoliation_energy': 'na', 'spg': '129', 'crys': 'tetragonal', 'density': 5.956, 'poisson': 'na', 'raw_files': [], 'nat': 8, 'bulk_modulus_kv': 'na', 'shear_modulus_gv': 'na', 'mbj_bandgap': 'na', 'hse_gap': 'na', 'reference': 'mp-1080455', 'search': '-As-Cu-Si-Ti'}\n"
          ]
        }
      ]
    },
    {
      "cell_type": "code",
      "source": [
        "#Collect JARVIS 3D Database using matminer\n",
        "!pip install matminer\n"
      ],
      "metadata": {
        "id": "AB9t_ny0B85V"
      },
      "execution_count": null,
      "outputs": []
    },
    {
      "cell_type": "code",
      "source": [
        "from matminer.datasets.convenience_loaders import load_jarvis_dft_3d\n",
        "\n",
        "dft3d_df = load_jarvis_dft_3d()"
      ],
      "metadata": {
        "colab": {
          "base_uri": "https://localhost:8080/"
        },
        "id": "yEBV5Kj5y8An",
        "outputId": "433b1bb6-16a8-4307-9309-0e44eaa64f49"
      },
      "execution_count": 9,
      "outputs": [
        {
          "output_type": "stream",
          "name": "stdout",
          "text": [
            "Fetching jarvis_dft_3d.json.gz from https://ndownloader.figshare.com/files/13376507 to /usr/local/lib/python3.7/dist-packages/matminer/datasets/jarvis_dft_3d.json.gz\n"
          ]
        },
        {
          "output_type": "stream",
          "name": "stderr",
          "text": [
            "Fetching https://ndownloader.figshare.com/files/13376507 in MB: 30.670848MB [00:00, 137.19MB/s]                                        \n"
          ]
        }
      ]
    },
    {
      "cell_type": "code",
      "source": [
        "print(dft3d_df.columns)"
      ],
      "metadata": {
        "colab": {
          "base_uri": "https://localhost:8080/"
        },
        "id": "ewyWG2Upz2Uo",
        "outputId": "f4095139-b742-4652-b6e9-00c78ad17a46"
      },
      "execution_count": 10,
      "outputs": [
        {
          "output_type": "stream",
          "name": "stdout",
          "text": [
            "Index(['epsilon_x opt', 'epsilon_y opt', 'epsilon_z opt', 'structure',\n",
            "       'e_form', 'shear modulus', 'structure initial', 'jid', 'bulk modulus',\n",
            "       'gap tbmbj', 'epsilon_x tbmbj', 'epsilon_y tbmbj', 'epsilon_z tbmbj',\n",
            "       'mpid', 'gap opt', 'composition'],\n",
            "      dtype='object')\n"
          ]
        }
      ]
    },
    {
      "cell_type": "code",
      "source": [
        "jid_list = []\n",
        "prop_dict = {}\n",
        "for struct in bgap_data['Structure File']:\n",
        "    start = struct.find('JVASP')\n",
        "    end = struct.find('.vasp')\n",
        "    jid = struct[start:end]\n",
        "    jid_list.append(jid)\n",
        "    match = next(d for d in dft_3d if d[\"jid\"] == jid)\n",
        "\n",
        "print(jid_list)"
      ],
      "metadata": {
        "colab": {
          "base_uri": "https://localhost:8080/"
        },
        "id": "HACddiQX0FcX",
        "outputId": "8403fabf-edfe-4670-d5bd-02cb9c873de3"
      },
      "execution_count": 11,
      "outputs": [
        {
          "output_type": "stream",
          "name": "stdout",
          "text": [
            "['JVASP-90856', 'JVASP-86097', 'JVASP-64906', 'JVASP-98225', 'JVASP-10', 'JVASP-14014', 'JVASP-64664', 'JVASP-22556', 'JVASP-86726', 'JVASP-28634', 'JVASP-98550', 'JVASP-89265', 'JVASP-97915', 'JVASP-90228', 'JVASP-42300', 'JVASP-86968', 'JVASP-90532', 'JVASP-50332', 'JVASP-86205', 'JVASP-28704', 'JVASP-60702', 'JVASP-97799', 'JVASP-28565', 'JVASP-86436', 'JVASP-1372', 'JVASP-14873', 'JVASP-28397', 'JVASP-98284', 'JVASP-89025', 'JVASP-1996', 'JVASP-48166', 'JVASP-15345', 'JVASP-97378', 'JVASP-97984', 'JVASP-98224', 'JVASP-98167', 'JVASP-64045', 'JVASP-63912', 'JVASP-64003', 'JVASP-64584', 'JVASP-64240', 'JVASP-107772', 'JVASP-64719', 'JVASP-97499', 'JVASP-64377', 'JVASP-21210', 'JVASP-97677', 'JVASP-65101', 'JVASP-65062', 'JVASP-97570']\n"
          ]
        }
      ]
    },
    {
      "cell_type": "code",
      "source": [
        ""
      ],
      "metadata": {
        "id": "ee9xNK9QomfO"
      },
      "execution_count": null,
      "outputs": []
    }
  ]
}